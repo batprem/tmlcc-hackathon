{
 "cells": [
  {
   "cell_type": "markdown",
   "source": "# Import modules",
   "metadata": {
    "tags": [],
    "is_collapsed": false,
    "cell_id": "00000-98c9440a-3c15-432d-820b-cde0b5e1e613",
    "deepnote_cell_type": "text-cell-h1"
   }
  },
  {
   "cell_type": "code",
   "metadata": {
    "tags": [],
    "cell_id": "00000-d7f4b5fc-8fcd-4eb4-9318-452728180541",
    "deepnote_to_be_reexecuted": false,
    "source_hash": "87f893fb",
    "execution_start": 1632042520379,
    "execution_millis": 53,
    "deepnote_cell_type": "code"
   },
   "source": "# OS\nimport os\n\n# Typing\nfrom typing import List\n\n# Analyser\nimport pandas as pd\nfrom tqdm import tqdm\n\n# Local utilization\nfrom utils.classes.adapters import CIF2PandasAdapter\nfrom utils.functions import get_cif_filepath\n\n# Constants\nfrom src.constants import (\n    DATASET_PATH,\n    TRAIN_PATH,\n    TEST_PATH\n)\n\n# pickle\nimport pickle\n\ntqdm.pandas()",
   "outputs": [],
   "execution_count": 1
  },
  {
   "cell_type": "markdown",
   "source": "# Load Essentials",
   "metadata": {
    "tags": [],
    "is_collapsed": false,
    "cell_id": "00002-e34cfdcb-4854-42ec-b4ff-97f7c90d600d",
    "deepnote_cell_type": "text-cell-h1"
   }
  },
  {
   "cell_type": "markdown",
   "source": "## Load Adapters",
   "metadata": {
    "tags": [],
    "is_collapsed": false,
    "cell_id": "00003-391ec10f-d784-486d-9628-153efe40af16",
    "deepnote_cell_type": "text-cell-h2"
   }
  },
  {
   "cell_type": "code",
   "metadata": {
    "tags": [],
    "cell_id": "00007-9dc72cf2-0f4b-4d8a-822a-59ee3fc252d8",
    "deepnote_to_be_reexecuted": false,
    "source_hash": "2d18a555",
    "execution_start": 1632042520435,
    "execution_millis": 12,
    "deepnote_cell_type": "code"
   },
   "source": "cif2pandas_adapter = CIF2PandasAdapter()",
   "outputs": [],
   "execution_count": 2
  },
  {
   "cell_type": "markdown",
   "source": "## Load CSVs",
   "metadata": {
    "tags": [],
    "is_collapsed": false,
    "cell_id": "00005-757629fa-84d0-40b3-b212-5c1e15fedd62",
    "deepnote_cell_type": "text-cell-h2"
   }
  },
  {
   "cell_type": "code",
   "source": "Train = pd.read_csv(f\"{DATASET_PATH}/train.csv\".replace(\"//\", \"/\"))\nTrain.index = Train.index + 1\nPretest = pd.read_csv(f\"{DATASET_PATH}/pretest.csv\".replace(\"//\", \"/\"))\nPretest.index = Pretest.index + 1",
   "metadata": {
    "tags": [],
    "cell_id": "00006-a644798e-ae33-447a-ac33-d7d698133285",
    "deepnote_to_be_reexecuted": false,
    "source_hash": "5ef93c38",
    "execution_start": 1632042520447,
    "execution_millis": 372,
    "deepnote_cell_type": "code"
   },
   "outputs": [],
   "execution_count": 3
  },
  {
   "cell_type": "markdown",
   "source": "# Join data",
   "metadata": {
    "tags": [],
    "is_collapsed": false,
    "cell_id": "00007-c818ea19-d403-4d72-84f2-7936f10a6d29",
    "deepnote_cell_type": "text-cell-h1"
   }
  },
  {
   "cell_type": "code",
   "source": "Train = get_cif_filepath(Train, TRAIN_PATH)\nTrain[['MOFname', 'cif_filepath']].head(5)",
   "metadata": {
    "tags": [],
    "cell_id": "00008-52a53a52-5ff5-4a14-81d8-1a6c709d6a44",
    "deepnote_to_be_reexecuted": false,
    "source_hash": "6149925f",
    "execution_start": 1632042520824,
    "execution_millis": 122,
    "deepnote_cell_type": "code"
   },
   "outputs": [
    {
     "output_type": "execute_result",
     "execution_count": 4,
     "data": {
      "application/vnd.deepnote.dataframe.v2+json": {
       "row_count": 5,
       "column_count": 2,
       "columns": [
        {
         "name": "MOFname",
         "dtype": "object",
         "stats": {
          "unique_count": 5,
          "nan_count": 0,
          "categories": [
           {
            "name": "mof_unit_1",
            "count": 1
           },
           {
            "name": "mof_unit_2",
            "count": 1
           },
           {
            "name": "3 others",
            "count": 3
           }
          ]
         }
        },
        {
         "name": "cif_filepath",
         "dtype": "object",
         "stats": {
          "unique_count": 5,
          "nan_count": 0,
          "categories": [
           {
            "name": "tmlcc-2021/mof_cif_train/mof_unit_1.cif",
            "count": 1
           },
           {
            "name": "tmlcc-2021/mof_cif_train/mof_unit_2.cif",
            "count": 1
           },
           {
            "name": "3 others",
            "count": 3
           }
          ]
         }
        },
        {
         "name": "_deepnote_index_column",
         "dtype": "int64"
        }
       ],
       "rows_top": [
        {
         "MOFname": "mof_unit_1",
         "cif_filepath": "tmlcc-2021/mof_cif_train/mof_unit_1.cif",
         "_deepnote_index_column": 1
        },
        {
         "MOFname": "mof_unit_2",
         "cif_filepath": "tmlcc-2021/mof_cif_train/mof_unit_2.cif",
         "_deepnote_index_column": 2
        },
        {
         "MOFname": "mof_unit_3",
         "cif_filepath": "tmlcc-2021/mof_cif_train/mof_unit_3.cif",
         "_deepnote_index_column": 3
        },
        {
         "MOFname": "mof_unit_4",
         "cif_filepath": "tmlcc-2021/mof_cif_train/mof_unit_4.cif",
         "_deepnote_index_column": 4
        },
        {
         "MOFname": "mof_unit_5",
         "cif_filepath": "tmlcc-2021/mof_cif_train/mof_unit_5.cif",
         "_deepnote_index_column": 5
        }
       ],
       "rows_bottom": null
      },
      "text/plain": "      MOFname                             cif_filepath\n1  mof_unit_1  tmlcc-2021/mof_cif_train/mof_unit_1.cif\n2  mof_unit_2  tmlcc-2021/mof_cif_train/mof_unit_2.cif\n3  mof_unit_3  tmlcc-2021/mof_cif_train/mof_unit_3.cif\n4  mof_unit_4  tmlcc-2021/mof_cif_train/mof_unit_4.cif\n5  mof_unit_5  tmlcc-2021/mof_cif_train/mof_unit_5.cif",
      "text/html": "<div>\n<style scoped>\n    .dataframe tbody tr th:only-of-type {\n        vertical-align: middle;\n    }\n\n    .dataframe tbody tr th {\n        vertical-align: top;\n    }\n\n    .dataframe thead th {\n        text-align: right;\n    }\n</style>\n<table border=\"1\" class=\"dataframe\">\n  <thead>\n    <tr style=\"text-align: right;\">\n      <th></th>\n      <th>MOFname</th>\n      <th>cif_filepath</th>\n    </tr>\n  </thead>\n  <tbody>\n    <tr>\n      <th>1</th>\n      <td>mof_unit_1</td>\n      <td>tmlcc-2021/mof_cif_train/mof_unit_1.cif</td>\n    </tr>\n    <tr>\n      <th>2</th>\n      <td>mof_unit_2</td>\n      <td>tmlcc-2021/mof_cif_train/mof_unit_2.cif</td>\n    </tr>\n    <tr>\n      <th>3</th>\n      <td>mof_unit_3</td>\n      <td>tmlcc-2021/mof_cif_train/mof_unit_3.cif</td>\n    </tr>\n    <tr>\n      <th>4</th>\n      <td>mof_unit_4</td>\n      <td>tmlcc-2021/mof_cif_train/mof_unit_4.cif</td>\n    </tr>\n    <tr>\n      <th>5</th>\n      <td>mof_unit_5</td>\n      <td>tmlcc-2021/mof_cif_train/mof_unit_5.cif</td>\n    </tr>\n  </tbody>\n</table>\n</div>"
     },
     "metadata": {}
    }
   ],
   "execution_count": 4
  },
  {
   "cell_type": "markdown",
   "source": "# Test Adapter",
   "metadata": {
    "tags": [],
    "is_collapsed": false,
    "cell_id": "00010-7f7f7609-db37-4f3c-a946-e5599d8fa8ba",
    "deepnote_cell_type": "text-cell-h1"
   }
  },
  {
   "cell_type": "markdown",
   "source": "## CIF",
   "metadata": {
    "tags": [],
    "is_collapsed": false,
    "cell_id": "00011-f49a97d8-7e85-4c32-8241-bbb23dab91a2",
    "deepnote_cell_type": "text-cell-h2"
   }
  },
  {
   "cell_type": "code",
   "source": "adapted_cif: dict = cif2pandas_adapter.apply(Train.cif_filepath[1])",
   "metadata": {
    "tags": [],
    "cell_id": "00009-1c4cc9a4-9709-4e6a-8a9c-21c4e7e4793d",
    "deepnote_to_be_reexecuted": false,
    "source_hash": "bfacd5c1",
    "execution_start": 1632042520949,
    "execution_millis": 47,
    "deepnote_cell_type": "code"
   },
   "outputs": [],
   "execution_count": 5
  },
  {
   "cell_type": "code",
   "source": "pd.DataFrame(adapted_cif['metadata'])",
   "metadata": {
    "tags": [],
    "cell_id": "00008-7c4dc87f-f9d8-4d58-8267-60dda3e07a4a",
    "deepnote_to_be_reexecuted": false,
    "source_hash": "d9f8ba07",
    "execution_start": 1632042521026,
    "execution_millis": 32,
    "deepnote_cell_type": "code"
   },
   "outputs": [
    {
     "output_type": "execute_result",
     "execution_count": 6,
     "data": {
      "application/vnd.deepnote.dataframe.v2+json": {
       "row_count": 11,
       "column_count": 2,
       "columns": [
        {
         "name": 0,
         "dtype": "object",
         "stats": {
          "unique_count": 11,
          "nan_count": 0,
          "categories": [
           {
            "name": "_audit_creation_date",
            "count": 1
           },
           {
            "name": "_symmetry_space_group_name_H-M",
            "count": 1
           },
           {
            "name": "9 others",
            "count": 9
           }
          ]
         }
        },
        {
         "name": 1,
         "dtype": "object",
         "stats": {
          "unique_count": 11,
          "nan_count": 0,
          "categories": [
           {
            "name": "2013-03-05T16:41:16-0500",
            "count": 1
           },
           {
            "name": "P1",
            "count": 1
           },
           {
            "name": "9 others",
            "count": 9
           }
          ]
         }
        },
        {
         "name": "_deepnote_index_column",
         "dtype": "int64"
        }
       ],
       "rows_top": [
        {
         "0": "_audit_creation_date",
         "1": "2013-03-05T16:41:16-0500",
         "_deepnote_index_column": 0
        },
        {
         "0": "_symmetry_space_group_name_H-M",
         "1": "P1",
         "_deepnote_index_column": 1
        },
        {
         "0": "_symmetry_Int_Tables_number",
         "1": "1",
         "_deepnote_index_column": 2
        },
        {
         "0": "_space_group_crystal_system",
         "1": "triclinic",
         "_deepnote_index_column": 3
        },
        {
         "0": "_cell_length_a",
         "1": "10.609882",
         "_deepnote_index_column": 4
        },
        {
         "0": "_cell_length_b",
         "1": "10.643578",
         "_deepnote_index_column": 5
        },
        {
         "0": "_cell_length_c",
         "1": "9.890832",
         "_deepnote_index_column": 6
        },
        {
         "0": "_cell_angle_alpha",
         "1": "89.904234",
         "_deepnote_index_column": 7
        },
        {
         "0": "_cell_angle_beta",
         "1": "91.242355",
         "_deepnote_index_column": 8
        },
        {
         "0": "_cell_angle_gamma",
         "1": "90.261935",
         "_deepnote_index_column": 9
        },
        {
         "0": "_cell_volume",
         "1": "1116.66742888",
         "_deepnote_index_column": 10
        }
       ],
       "rows_bottom": null
      },
      "text/plain": "                                 0                         1\n0             _audit_creation_date  2013-03-05T16:41:16-0500\n1   _symmetry_space_group_name_H-M                        P1\n2      _symmetry_Int_Tables_number                         1\n3      _space_group_crystal_system                 triclinic\n4                   _cell_length_a                 10.609882\n5                   _cell_length_b                 10.643578\n6                   _cell_length_c                  9.890832\n7                _cell_angle_alpha                 89.904234\n8                 _cell_angle_beta                 91.242355\n9                _cell_angle_gamma                 90.261935\n10                    _cell_volume             1116.66742888",
      "text/html": "<div>\n<style scoped>\n    .dataframe tbody tr th:only-of-type {\n        vertical-align: middle;\n    }\n\n    .dataframe tbody tr th {\n        vertical-align: top;\n    }\n\n    .dataframe thead th {\n        text-align: right;\n    }\n</style>\n<table border=\"1\" class=\"dataframe\">\n  <thead>\n    <tr style=\"text-align: right;\">\n      <th></th>\n      <th>0</th>\n      <th>1</th>\n    </tr>\n  </thead>\n  <tbody>\n    <tr>\n      <th>0</th>\n      <td>_audit_creation_date</td>\n      <td>2013-03-05T16:41:16-0500</td>\n    </tr>\n    <tr>\n      <th>1</th>\n      <td>_symmetry_space_group_name_H-M</td>\n      <td>P1</td>\n    </tr>\n    <tr>\n      <th>2</th>\n      <td>_symmetry_Int_Tables_number</td>\n      <td>1</td>\n    </tr>\n    <tr>\n      <th>3</th>\n      <td>_space_group_crystal_system</td>\n      <td>triclinic</td>\n    </tr>\n    <tr>\n      <th>4</th>\n      <td>_cell_length_a</td>\n      <td>10.609882</td>\n    </tr>\n    <tr>\n      <th>5</th>\n      <td>_cell_length_b</td>\n      <td>10.643578</td>\n    </tr>\n    <tr>\n      <th>6</th>\n      <td>_cell_length_c</td>\n      <td>9.890832</td>\n    </tr>\n    <tr>\n      <th>7</th>\n      <td>_cell_angle_alpha</td>\n      <td>89.904234</td>\n    </tr>\n    <tr>\n      <th>8</th>\n      <td>_cell_angle_beta</td>\n      <td>91.242355</td>\n    </tr>\n    <tr>\n      <th>9</th>\n      <td>_cell_angle_gamma</td>\n      <td>90.261935</td>\n    </tr>\n    <tr>\n      <th>10</th>\n      <td>_cell_volume</td>\n      <td>1116.66742888</td>\n    </tr>\n  </tbody>\n</table>\n</div>"
     },
     "metadata": {}
    }
   ],
   "execution_count": 6
  },
  {
   "cell_type": "code",
   "metadata": {
    "tags": [],
    "cell_id": "00004-995bb76c-4a91-4137-95e8-2d9108a011db",
    "deepnote_to_be_reexecuted": false,
    "source_hash": "bd6a705f",
    "execution_start": 1632042521130,
    "execution_millis": 42,
    "deepnote_cell_type": "code"
   },
   "source": "pd.DataFrame(adapted_cif['loops'][0])",
   "outputs": [
    {
     "output_type": "execute_result",
     "execution_count": 7,
     "data": {
      "application/vnd.deepnote.dataframe.v2+json": {
       "row_count": 75,
       "column_count": 7,
       "columns": [
        {
         "name": "_atom_site_label",
         "dtype": "object",
         "stats": {
          "unique_count": 75,
          "nan_count": 0,
          "categories": [
           {
            "name": "O1",
            "count": 1
           },
           {
            "name": "O2",
            "count": 1
           },
           {
            "name": "73 others",
            "count": 73
           }
          ]
         }
        },
        {
         "name": "_atom_site_type_symbol",
         "dtype": "object",
         "stats": {
          "unique_count": 5,
          "nan_count": 0,
          "categories": [
           {
            "name": "C",
            "count": 30
           },
           {
            "name": "O",
            "count": 21
           },
           {
            "name": "3 others",
            "count": 24
           }
          ]
         }
        },
        {
         "name": "_atom_site_description",
         "dtype": "object",
         "stats": {
          "unique_count": 9,
          "nan_count": 0,
          "categories": [
           {
            "name": "H_",
            "count": 20
           },
           {
            "name": "O_R",
            "count": 14
           },
           {
            "name": "7 others",
            "count": 41
           }
          ]
         }
        },
        {
         "name": "_atom_site_fract_x",
         "dtype": "object",
         "stats": {
          "unique_count": 73,
          "nan_count": 0,
          "categories": [
           {
            "name": "0.500000",
            "count": 2
           },
           {
            "name": "0.499170",
            "count": 2
           },
           {
            "name": "71 others",
            "count": 71
           }
          ]
         }
        },
        {
         "name": "_atom_site_fract_y",
         "dtype": "object",
         "stats": {
          "unique_count": 71,
          "nan_count": 0,
          "categories": [
           {
            "name": "0.500020",
            "count": 3
           },
           {
            "name": "0.499980",
            "count": 3
           },
           {
            "name": "69 others",
            "count": 69
           }
          ]
         }
        },
        {
         "name": "_atom_site_fract_z",
         "dtype": "object",
         "stats": {
          "unique_count": 75,
          "nan_count": 0,
          "categories": [
           {
            "name": "0.614690",
            "count": 1
           },
           {
            "name": "0.385350",
            "count": 1
           },
           {
            "name": "73 others",
            "count": 73
           }
          ]
         }
        },
        {
         "name": "_atom_type_partial_charge",
         "dtype": "object",
         "stats": {
          "unique_count": 75,
          "nan_count": 0,
          "categories": [
           {
            "name": "-0.628319",
            "count": 1
           },
           {
            "name": "-0.604978",
            "count": 1
           },
           {
            "name": "73 others",
            "count": 73
           }
          ]
         }
        },
        {
         "name": "_deepnote_index_column",
         "dtype": "int64"
        }
       ],
       "rows_top": [
        {
         "_atom_site_label": "O1",
         "_atom_site_type_symbol": "O",
         "_atom_site_description": "O_R",
         "_atom_site_fract_x": "0.500020",
         "_atom_site_fract_y": "0.316790",
         "_atom_site_fract_z": "0.614690",
         "_atom_type_partial_charge": "-0.628319",
         "_deepnote_index_column": 7
        },
        {
         "_atom_site_label": "O2",
         "_atom_site_type_symbol": "O",
         "_atom_site_description": "O_R",
         "_atom_site_fract_x": "0.500000",
         "_atom_site_fract_y": "0.316760",
         "_atom_site_fract_z": "0.385350",
         "_atom_type_partial_charge": "-0.604978",
         "_deepnote_index_column": 8
        },
        {
         "_atom_site_label": "C1",
         "_atom_site_type_symbol": "C",
         "_atom_site_description": "C_R",
         "_atom_site_fract_x": "0.511239",
         "_atom_site_fract_y": "0.260617",
         "_atom_site_fract_z": "0.499919",
         "_atom_type_partial_charge": "0.943344",
         "_deepnote_index_column": 9
        },
        {
         "_atom_site_label": "O3",
         "_atom_site_type_symbol": "O",
         "_atom_site_description": "O_R",
         "_atom_site_fract_x": "0.319080",
         "_atom_site_fract_y": "0.500020",
         "_atom_site_fract_z": "0.614640",
         "_atom_type_partial_charge": "-0.626555",
         "_deepnote_index_column": 10
        },
        {
         "_atom_site_label": "O4",
         "_atom_site_type_symbol": "O",
         "_atom_site_description": "O_R",
         "_atom_site_fract_x": "0.319070",
         "_atom_site_fract_y": "0.499980",
         "_atom_site_fract_z": "0.385300",
         "_atom_type_partial_charge": "-0.570235",
         "_deepnote_index_column": 11
        },
        {
         "_atom_site_label": "C2",
         "_atom_site_type_symbol": "C",
         "_atom_site_description": "C_R",
         "_atom_site_fract_x": "0.262196",
         "_atom_site_fract_y": "0.501710",
         "_atom_site_fract_z": "0.498339",
         "_atom_type_partial_charge": "1.002569",
         "_deepnote_index_column": 12
        },
        {
         "_atom_site_label": "Zn1",
         "_atom_site_type_symbol": "Zn",
         "_atom_site_description": "Zn3+2",
         "_atom_site_fract_x": "0.500010",
         "_atom_site_fract_y": "0.500020",
         "_atom_site_fract_z": "0.653130",
         "_atom_type_partial_charge": "1.000757",
         "_deepnote_index_column": 13
        },
        {
         "_atom_site_label": "Zn2",
         "_atom_site_type_symbol": "Zn",
         "_atom_site_description": "Zn3+2",
         "_atom_site_fract_x": "0.499990",
         "_atom_site_fract_y": "0.499980",
         "_atom_site_fract_z": "0.346870",
         "_atom_type_partial_charge": "1.025705",
         "_deepnote_index_column": 14
        },
        {
         "_atom_site_label": "O5",
         "_atom_site_type_symbol": "O",
         "_atom_site_description": "O_R",
         "_atom_site_fract_x": "0.500000",
         "_atom_site_fract_y": "0.683240",
         "_atom_site_fract_z": "0.614650",
         "_atom_type_partial_charge": "-0.570489",
         "_deepnote_index_column": 15
        },
        {
         "_atom_site_label": "O6",
         "_atom_site_type_symbol": "O",
         "_atom_site_description": "O_R",
         "_atom_site_fract_x": "0.499980",
         "_atom_site_fract_y": "0.683210",
         "_atom_site_fract_z": "0.385310",
         "_atom_type_partial_charge": "-0.610657",
         "_deepnote_index_column": 16
        },
        {
         "_atom_site_label": "O7",
         "_atom_site_type_symbol": "O",
         "_atom_site_description": "O_R",
         "_atom_site_fract_x": "0.680930",
         "_atom_site_fract_y": "0.500020",
         "_atom_site_fract_z": "0.614700",
         "_atom_type_partial_charge": "-0.620685",
         "_deepnote_index_column": 17
        },
        {
         "_atom_site_label": "O8",
         "_atom_site_type_symbol": "O",
         "_atom_site_description": "O_R",
         "_atom_site_fract_x": "0.680920",
         "_atom_site_fract_y": "0.499980",
         "_atom_site_fract_z": "0.385360",
         "_atom_type_partial_charge": "-0.610988",
         "_deepnote_index_column": 18
        },
        {
         "_atom_site_label": "C3",
         "_atom_site_type_symbol": "C",
         "_atom_site_description": "C_R",
         "_atom_site_fract_x": "0.510568",
         "_atom_site_fract_y": "0.739929",
         "_atom_site_fract_z": "0.499534",
         "_atom_type_partial_charge": "0.896293",
         "_deepnote_index_column": 19
        },
        {
         "_atom_site_label": "C4",
         "_atom_site_type_symbol": "C",
         "_atom_site_description": "C_R",
         "_atom_site_fract_x": "0.737527",
         "_atom_site_fract_y": "0.508812",
         "_atom_site_fract_z": "0.501655",
         "_atom_type_partial_charge": "0.975323",
         "_deepnote_index_column": 20
        },
        {
         "_atom_site_label": "C5",
         "_atom_site_type_symbol": "C",
         "_atom_site_description": "C_2",
         "_atom_site_fract_x": "0.930827",
         "_atom_site_fract_y": "0.569775",
         "_atom_site_fract_z": "0.397062",
         "_atom_type_partial_charge": "-0.267646",
         "_deepnote_index_column": 21
        },
        {
         "_atom_site_label": "C6",
         "_atom_site_type_symbol": "C",
         "_atom_site_description": "C_2",
         "_atom_site_fract_x": "0.867912",
         "_atom_site_fract_y": "0.540715",
         "_atom_site_fract_z": "0.508063",
         "_atom_type_partial_charge": "-0.373889",
         "_deepnote_index_column": 22
        },
        {
         "_atom_site_label": "H1",
         "_atom_site_type_symbol": "H",
         "_atom_site_description": "H_",
         "_atom_site_fract_x": "0.883642",
         "_atom_site_fract_y": "0.576040",
         "_atom_site_fract_z": "0.298736",
         "_atom_type_partial_charge": "0.194450",
         "_deepnote_index_column": 23
        },
        {
         "_atom_site_label": "H2",
         "_atom_site_type_symbol": "H",
         "_atom_site_description": "H_",
         "_atom_site_fract_x": "0.912693",
         "_atom_site_fract_y": "0.544315",
         "_atom_site_fract_z": "0.607909",
         "_atom_type_partial_charge": "0.190144",
         "_deepnote_index_column": 24
        },
        {
         "_atom_site_label": "C7",
         "_atom_site_type_symbol": "C",
         "_atom_site_description": "C_2",
         "_atom_site_fract_x": "0.068028",
         "_atom_site_fract_y": "0.583440",
         "_atom_site_fract_z": "0.406634",
         "_atom_type_partial_charge": "0.520947",
         "_deepnote_index_column": 25
        },
        {
         "_atom_site_label": "C8",
         "_atom_site_type_symbol": "C",
         "_atom_site_description": "C_2",
         "_atom_site_fract_x": "0.128795",
         "_atom_site_fract_y": "0.505510",
         "_atom_site_fract_z": "0.492625",
         "_atom_type_partial_charge": "-0.331481",
         "_deepnote_index_column": 26
        },
        {
         "_atom_site_label": "H3",
         "_atom_site_type_symbol": "H",
         "_atom_site_description": "H_",
         "_atom_site_fract_x": "0.081055",
         "_atom_site_fract_y": "0.439155",
         "_atom_site_fract_z": "0.557711",
         "_atom_type_partial_charge": "0.116745",
         "_deepnote_index_column": 27
        },
        {
         "_atom_site_label": "C9",
         "_atom_site_type_symbol": "C",
         "_atom_site_description": "C_R",
         "_atom_site_fract_x": "0.542308",
         "_atom_site_fract_y": "0.061957",
         "_atom_site_fract_z": "0.617598",
         "_atom_type_partial_charge": "0.024709",
         "_deepnote_index_column": 28
        },
        {
         "_atom_site_label": "C10",
         "_atom_site_type_symbol": "C",
         "_atom_site_description": "C_R",
         "_atom_site_fract_x": "0.544707",
         "_atom_site_fract_y": "0.130616",
         "_atom_site_fract_z": "0.498806",
         "_atom_type_partial_charge": "-0.126066",
         "_deepnote_index_column": 29
        },
        {
         "_atom_site_label": "C11",
         "_atom_site_type_symbol": "C",
         "_atom_site_description": "C_R",
         "_atom_site_fract_x": "0.581067",
         "_atom_site_fract_y": "0.068110",
         "_atom_site_fract_z": "0.378982",
         "_atom_type_partial_charge": "-0.127392",
         "_deepnote_index_column": 30
        },
        {
         "_atom_site_label": "C12",
         "_atom_site_type_symbol": "C",
         "_atom_site_description": "C_R",
         "_atom_site_fract_x": "0.574316",
         "_atom_site_fract_y": "0.935900",
         "_atom_site_fract_z": "0.376234",
         "_atom_type_partial_charge": "-0.132731",
         "_deepnote_index_column": 31
        },
        {
         "_atom_site_label": "C13",
         "_atom_site_type_symbol": "C",
         "_atom_site_description": "C_R",
         "_atom_site_fract_x": "0.545263",
         "_atom_site_fract_y": "0.870515",
         "_atom_site_fract_z": "0.497676",
         "_atom_type_partial_charge": "-0.176366",
         "_deepnote_index_column": 32
        },
        {
         "_atom_site_label": "C14",
         "_atom_site_type_symbol": "C",
         "_atom_site_description": "C_R",
         "_atom_site_fract_x": "0.555117",
         "_atom_site_fract_y": "0.936088",
         "_atom_site_fract_z": "0.618583",
         "_atom_type_partial_charge": "0.034483",
         "_deepnote_index_column": 33
        },
        {
         "_atom_site_label": "C15",
         "_atom_site_type_symbol": "C",
         "_atom_site_description": "C_3",
         "_atom_site_fract_x": "0.506793",
         "_atom_site_fract_y": "0.924219",
         "_atom_site_fract_z": "0.759156",
         "_atom_type_partial_charge": "-0.265723",
         "_deepnote_index_column": 34
        },
        {
         "_atom_site_label": "C16",
         "_atom_site_type_symbol": "C",
         "_atom_site_description": "C_3",
         "_atom_site_fract_x": "0.486891",
         "_atom_site_fract_y": "0.067823",
         "_atom_site_fract_z": "0.755195",
         "_atom_type_partial_charge": "-0.247828",
         "_deepnote_index_column": 35
        },
        {
         "_atom_site_label": "H4",
         "_atom_site_type_symbol": "H",
         "_atom_site_description": "H_",
         "_atom_site_fract_x": "0.418904",
         "_atom_site_fract_y": "0.867225",
         "_atom_site_fract_z": "0.765367",
         "_atom_type_partial_charge": "0.187079",
         "_deepnote_index_column": 36
        },
        {
         "_atom_site_label": "H5",
         "_atom_site_type_symbol": "H",
         "_atom_site_description": "H_",
         "_atom_site_fract_x": "0.545909",
         "_atom_site_fract_y": "0.125120",
         "_atom_site_fract_z": "0.825990",
         "_atom_type_partial_charge": "0.180625",
         "_deepnote_index_column": 37
        },
        {
         "_atom_site_label": "C17",
         "_atom_site_type_symbol": "C",
         "_atom_site_description": "C_R",
         "_atom_site_fract_x": "0.396386",
         "_atom_site_fract_y": "0.537167",
         "_atom_site_fract_z": "0.068603",
         "_atom_type_partial_charge": "0.121204",
         "_deepnote_index_column": 38
        },
        {
         "_atom_site_label": "N1",
         "_atom_site_type_symbol": "N",
         "_atom_site_description": "N_R",
         "_atom_site_fract_x": "0.499170",
         "_atom_site_fract_y": "0.499140",
         "_atom_site_fract_z": "0.142800",
         "_atom_type_partial_charge": "-0.105731",
         "_deepnote_index_column": 39
        },
        {
         "_atom_site_label": "C18",
         "_atom_site_type_symbol": "C",
         "_atom_site_description": "C_R",
         "_atom_site_fract_x": "0.605747",
         "_atom_site_fract_y": "0.469580",
         "_atom_site_fract_z": "0.074239",
         "_atom_type_partial_charge": "-0.086676",
         "_deepnote_index_column": 40
        },
        {
         "_atom_site_label": "H6",
         "_atom_site_type_symbol": "H",
         "_atom_site_description": "H_",
         "_atom_site_fract_x": "0.690570",
         "_atom_site_fract_y": "0.443611",
         "_atom_site_fract_z": "0.129711",
         "_atom_type_partial_charge": "0.183867",
         "_deepnote_index_column": 41
        },
        {
         "_atom_site_label": "C19",
         "_atom_site_type_symbol": "C",
         "_atom_site_description": "C_R",
         "_atom_site_fract_x": "0.605467",
         "_atom_site_fract_y": "0.468644",
         "_atom_site_fract_z": "0.930630",
         "_atom_type_partial_charge": "-0.086985",
         "_deepnote_index_column": 42
        },
        {
         "_atom_site_label": "H7",
         "_atom_site_type_symbol": "H",
         "_atom_site_description": "H_",
         "_atom_site_fract_x": "0.689906",
         "_atom_site_fract_y": "0.441812",
         "_atom_site_fract_z": "0.878874",
         "_atom_type_partial_charge": "0.166318",
         "_deepnote_index_column": 43
        },
        {
         "_atom_site_label": "N2",
         "_atom_site_type_symbol": "N",
         "_atom_site_description": "N_R",
         "_atom_site_fract_x": "0.499170",
         "_atom_site_fract_y": "0.499180",
         "_atom_site_fract_z": "0.857150",
         "_atom_type_partial_charge": "-0.097241",
         "_deepnote_index_column": 44
        },
        {
         "_atom_site_label": "C20",
         "_atom_site_type_symbol": "C",
         "_atom_site_description": "C_R",
         "_atom_site_fract_x": "0.397006",
         "_atom_site_fract_y": "0.539482",
         "_atom_site_fract_z": "0.926231",
         "_atom_type_partial_charge": "0.213850",
         "_deepnote_index_column": 45
        },
        {
         "_atom_site_label": "C21",
         "_atom_site_type_symbol": "C",
         "_atom_site_description": "C_3",
         "_atom_site_fract_x": "0.266436",
         "_atom_site_fract_y": "0.485936",
         "_atom_site_fract_z": "0.915125",
         "_atom_type_partial_charge": "-0.330304",
         "_deepnote_index_column": 46
        },
        {
         "_atom_site_label": "C22",
         "_atom_site_type_symbol": "C",
         "_atom_site_description": "C_3",
         "_atom_site_fract_x": "0.266449",
         "_atom_site_fract_y": "0.481033",
         "_atom_site_fract_z": "0.069437",
         "_atom_type_partial_charge": "-0.364546",
         "_deepnote_index_column": 47
        },
        {
         "_atom_site_label": "H8",
         "_atom_site_type_symbol": "H",
         "_atom_site_description": "H_",
         "_atom_site_fract_x": "0.263643",
         "_atom_site_fract_y": "0.392929",
         "_atom_site_fract_z": "0.863729",
         "_atom_type_partial_charge": "0.177499",
         "_deepnote_index_column": 48
        },
        {
         "_atom_site_label": "H9",
         "_atom_site_type_symbol": "H",
         "_atom_site_description": "H_",
         "_atom_site_fract_x": "0.197264",
         "_atom_site_fract_y": "0.545248",
         "_atom_site_fract_z": "0.115246",
         "_atom_type_partial_charge": "0.209983",
         "_deepnote_index_column": 49
        },
        {
         "_atom_site_label": "C23",
         "_atom_site_type_symbol": "C",
         "_atom_site_description": "C_2",
         "_atom_site_fract_x": "0.171141",
         "_atom_site_fract_y": "0.577266",
         "_atom_site_fract_z": "0.857497",
         "_atom_type_partial_charge": "0.946284",
         "_deepnote_index_column": 50
        },
        {
         "_atom_site_label": "O9",
         "_atom_site_type_symbol": "O",
         "_atom_site_description": "O_2",
         "_atom_site_fract_x": "0.059246",
         "_atom_site_fract_y": "0.549414",
         "_atom_site_fract_z": "0.857425",
         "_atom_type_partial_charge": "-0.646017",
         "_deepnote_index_column": 51
        },
        {
         "_atom_site_label": "O10",
         "_atom_site_type_symbol": "O",
         "_atom_site_description": "O_R",
         "_atom_site_fract_x": "0.209951",
         "_atom_site_fract_y": "0.692476",
         "_atom_site_fract_z": "0.803818",
         "_atom_type_partial_charge": "-0.797600",
         "_deepnote_index_column": 52
        },
        {
         "_atom_site_label": "H10",
         "_atom_site_type_symbol": "H",
         "_atom_site_description": "H_",
         "_atom_site_fract_x": "0.136747",
         "_atom_site_fract_y": "0.744306",
         "_atom_site_fract_z": "0.767493",
         "_atom_type_partial_charge": "0.342181",
         "_deepnote_index_column": 53
        },
        {
         "_atom_site_label": "C24",
         "_atom_site_type_symbol": "C",
         "_atom_site_description": "C_2",
         "_atom_site_fract_x": "0.260153",
         "_atom_site_fract_y": "0.349325",
         "_atom_site_fract_z": "0.125907",
         "_atom_type_partial_charge": "1.043635",
         "_deepnote_index_column": 54
        },
        {
         "_atom_site_label": "O11",
         "_atom_site_type_symbol": "O",
         "_atom_site_description": "O_2",
         "_atom_site_fract_x": "0.336701",
         "_atom_site_fract_y": "0.270098",
         "_atom_site_fract_z": "0.092940",
         "_atom_type_partial_charge": "-0.567578",
         "_deepnote_index_column": 55
        },
        {
         "_atom_site_label": "O12",
         "_atom_site_type_symbol": "O",
         "_atom_site_description": "O_R",
         "_atom_site_fract_x": "0.165281",
         "_atom_site_fract_y": "0.318404",
         "_atom_site_fract_z": "0.216075",
         "_atom_type_partial_charge": "-0.787176",
         "_deepnote_index_column": 56
        },
        {
         "_atom_site_label": "H11",
         "_atom_site_type_symbol": "H",
         "_atom_site_description": "H_",
         "_atom_site_fract_x": "0.170596",
         "_atom_site_fract_y": "0.228007",
         "_atom_site_fract_z": "0.248129",
         "_atom_type_partial_charge": "0.347813",
         "_deepnote_index_column": 57
        },
        {
         "_atom_site_label": "O13",
         "_atom_site_type_symbol": "O",
         "_atom_site_description": "O_3",
         "_atom_site_fract_x": "0.137476",
         "_atom_site_fract_y": "0.663928",
         "_atom_site_fract_z": "0.324456",
         "_atom_type_partial_charge": "-0.619386",
         "_deepnote_index_column": 58
        },
        {
         "_atom_site_label": "C25",
         "_atom_site_type_symbol": "C",
         "_atom_site_description": "C_3",
         "_atom_site_fract_x": "0.065154",
         "_atom_site_fract_y": "0.764067",
         "_atom_site_fract_z": "0.271025",
         "_atom_type_partial_charge": "0.045757",
         "_deepnote_index_column": 59
        },
        {
         "_atom_site_label": "H12",
         "_atom_site_type_symbol": "H",
         "_atom_site_description": "H_",
         "_atom_site_fract_x": "0.011981",
         "_atom_site_fract_y": "0.812264",
         "_atom_site_fract_z": "0.351748",
         "_atom_type_partial_charge": "0.171688",
         "_deepnote_index_column": 60
        },
        {
         "_atom_site_label": "H13",
         "_atom_site_type_symbol": "H",
         "_atom_site_description": "H_",
         "_atom_site_fract_x": "0.999105",
         "_atom_site_fract_y": "0.729500",
         "_atom_site_fract_z": "0.190390",
         "_atom_type_partial_charge": "0.177893",
         "_deepnote_index_column": 61
        },
        {
         "_atom_site_label": "C26",
         "_atom_site_type_symbol": "C",
         "_atom_site_description": "C_3",
         "_atom_site_fract_x": "0.153458",
         "_atom_site_fract_y": "0.859464",
         "_atom_site_fract_z": "0.207717",
         "_atom_type_partial_charge": "-0.648704",
         "_deepnote_index_column": 62
        },
        {
         "_atom_site_label": "H14",
         "_atom_site_type_symbol": "H",
         "_atom_site_description": "H_",
         "_atom_site_fract_x": "0.098242",
         "_atom_site_fract_y": "0.939459",
         "_atom_site_fract_z": "0.165677",
         "_atom_type_partial_charge": "0.223145",
         "_deepnote_index_column": 63
        },
        {
         "_atom_site_label": "H15",
         "_atom_site_type_symbol": "H",
         "_atom_site_description": "H_",
         "_atom_site_fract_x": "0.221787",
         "_atom_site_fract_y": "0.895585",
         "_atom_site_fract_z": "0.285201",
         "_atom_type_partial_charge": "0.264770",
         "_deepnote_index_column": 64
        },
        {
         "_atom_site_label": "H16",
         "_atom_site_type_symbol": "H",
         "_atom_site_description": "H_",
         "_atom_site_fract_x": "0.206138",
         "_atom_site_fract_y": "0.814830",
         "_atom_site_fract_z": "0.124739",
         "_atom_type_partial_charge": "0.270786",
         "_deepnote_index_column": 65
        },
        {
         "_atom_site_label": "C27",
         "_atom_site_type_symbol": "C",
         "_atom_site_description": "C_2",
         "_atom_site_fract_x": "0.627103",
         "_atom_site_fract_y": "0.138201",
         "_atom_site_fract_z": "0.259624",
         "_atom_type_partial_charge": "0.983337",
         "_deepnote_index_column": 66
        },
        {
         "_atom_site_label": "O14",
         "_atom_site_type_symbol": "O",
         "_atom_site_description": "O_2",
         "_atom_site_fract_x": "0.715445",
         "_atom_site_fract_y": "0.211622",
         "_atom_site_fract_z": "0.273289",
         "_atom_type_partial_charge": "-0.634044",
         "_deepnote_index_column": 67
        },
        {
         "_atom_site_label": "O15",
         "_atom_site_type_symbol": "O",
         "_atom_site_description": "O_R",
         "_atom_site_fract_x": "0.568762",
         "_atom_site_fract_y": "0.121778",
         "_atom_site_fract_z": "0.132946",
         "_atom_type_partial_charge": "-0.705183",
         "_deepnote_index_column": 68
        },
        {
         "_atom_site_label": "H17",
         "_atom_site_type_symbol": "H",
         "_atom_site_description": "H_",
         "_atom_site_fract_x": "0.607072",
         "_atom_site_fract_y": "0.177339",
         "_atom_site_fract_z": "0.061205",
         "_atom_type_partial_charge": "0.348788",
         "_deepnote_index_column": 69
        },
        {
         "_atom_site_label": "C28",
         "_atom_site_type_symbol": "C",
         "_atom_site_description": "C_2",
         "_atom_site_fract_x": "0.593269",
         "_atom_site_fract_y": "0.869333",
         "_atom_site_fract_z": "0.247298",
         "_atom_type_partial_charge": "1.044606",
         "_deepnote_index_column": 70
        },
        {
         "_atom_site_label": "O16",
         "_atom_site_type_symbol": "O",
         "_atom_site_description": "O_2",
         "_atom_site_fract_x": "0.697615",
         "_atom_site_fract_y": "0.829814",
         "_atom_site_fract_z": "0.219816",
         "_atom_type_partial_charge": "-0.651691",
         "_deepnote_index_column": 71
        },
        {
         "_atom_site_label": "O17",
         "_atom_site_type_symbol": "O",
         "_atom_site_description": "O_R",
         "_atom_site_fract_x": "0.489676",
         "_atom_site_fract_y": "0.847796",
         "_atom_site_fract_z": "0.160653",
         "_atom_type_partial_charge": "-0.748229",
         "_deepnote_index_column": 72
        },
        {
         "_atom_site_label": "H18",
         "_atom_site_type_symbol": "H",
         "_atom_site_description": "H_",
         "_atom_site_fract_x": "0.510436",
         "_atom_site_fract_y": "0.790445",
         "_atom_site_fract_z": "0.082829",
         "_atom_type_partial_charge": "0.335808",
         "_deepnote_index_column": 73
        },
        {
         "_atom_site_label": "C29",
         "_atom_site_type_symbol": "C",
         "_atom_site_description": "C_2",
         "_atom_site_fract_x": "0.611664",
         "_atom_site_fract_y": "0.879375",
         "_atom_site_fract_z": "0.852771",
         "_atom_type_partial_charge": "0.968948",
         "_deepnote_index_column": 74
        },
        {
         "_atom_site_label": "O18",
         "_atom_site_type_symbol": "O",
         "_atom_site_description": "O_2",
         "_atom_site_fract_x": "0.664348",
         "_atom_site_fract_y": "0.951309",
         "_atom_site_fract_z": "0.932154",
         "_atom_type_partial_charge": "-0.588923",
         "_deepnote_index_column": 75
        },
        {
         "_atom_site_label": "O19",
         "_atom_site_type_symbol": "O",
         "_atom_site_description": "O_R",
         "_atom_site_fract_x": "0.649805",
         "_atom_site_fract_y": "0.754158",
         "_atom_site_fract_z": "0.846563",
         "_atom_type_partial_charge": "-0.790535",
         "_deepnote_index_column": 76
        },
        {
         "_atom_site_label": "H19",
         "_atom_site_type_symbol": "H",
         "_atom_site_description": "H_",
         "_atom_site_fract_x": "0.720880",
         "_atom_site_fract_y": "0.734379",
         "_atom_site_fract_z": "0.913303",
         "_atom_type_partial_charge": "0.347912",
         "_deepnote_index_column": 77
        },
        {
         "_atom_site_label": "C30",
         "_atom_site_type_symbol": "C",
         "_atom_site_description": "C_2",
         "_atom_site_fract_x": "0.348847",
         "_atom_site_fract_y": "0.101593",
         "_atom_site_fract_z": "0.756535",
         "_atom_type_partial_charge": "0.967858",
         "_deepnote_index_column": 78
        },
        {
         "_atom_site_label": "O20",
         "_atom_site_type_symbol": "O",
         "_atom_site_description": "O_2",
         "_atom_site_fract_x": "0.293392",
         "_atom_site_fract_y": "0.097996",
         "_atom_site_fract_z": "0.863474",
         "_atom_type_partial_charge": "-0.568112",
         "_deepnote_index_column": 79
        },
        {
         "_atom_site_label": "O21",
         "_atom_site_type_symbol": "O",
         "_atom_site_description": "O_R",
         "_atom_site_fract_x": "0.284013",
         "_atom_site_fract_y": "0.135186",
         "_atom_site_fract_z": "0.637326",
         "_atom_type_partial_charge": "-0.818747",
         "_deepnote_index_column": 80
        },
        {
         "_atom_site_label": "H20",
         "_atom_site_type_symbol": "H",
         "_atom_site_description": "H_",
         "_atom_site_fract_x": "0.192378",
         "_atom_site_fract_y": "0.156135",
         "_atom_site_fract_z": "0.653048",
         "_atom_type_partial_charge": "0.338332",
         "_deepnote_index_column": 81
        }
       ],
       "rows_bottom": null
      },
      "text/plain": "   _atom_site_label _atom_site_type_symbol _atom_site_description  \\\n7                O1                      O                    O_R   \n8                O2                      O                    O_R   \n9                C1                      C                    C_R   \n10               O3                      O                    O_R   \n11               O4                      O                    O_R   \n..              ...                    ...                    ...   \n77              H19                      H                     H_   \n78              C30                      C                    C_2   \n79              O20                      O                    O_2   \n80              O21                      O                    O_R   \n81              H20                      H                     H_   \n\n   _atom_site_fract_x _atom_site_fract_y _atom_site_fract_z  \\\n7            0.500020           0.316790           0.614690   \n8            0.500000           0.316760           0.385350   \n9            0.511239           0.260617           0.499919   \n10           0.319080           0.500020           0.614640   \n11           0.319070           0.499980           0.385300   \n..                ...                ...                ...   \n77           0.720880           0.734379           0.913303   \n78           0.348847           0.101593           0.756535   \n79           0.293392           0.097996           0.863474   \n80           0.284013           0.135186           0.637326   \n81           0.192378           0.156135           0.653048   \n\n   _atom_type_partial_charge  \n7                  -0.628319  \n8                  -0.604978  \n9                   0.943344  \n10                 -0.626555  \n11                 -0.570235  \n..                       ...  \n77                  0.347912  \n78                  0.967858  \n79                 -0.568112  \n80                 -0.818747  \n81                  0.338332  \n\n[75 rows x 7 columns]",
      "text/html": "<div>\n<style scoped>\n    .dataframe tbody tr th:only-of-type {\n        vertical-align: middle;\n    }\n\n    .dataframe tbody tr th {\n        vertical-align: top;\n    }\n\n    .dataframe thead th {\n        text-align: right;\n    }\n</style>\n<table border=\"1\" class=\"dataframe\">\n  <thead>\n    <tr style=\"text-align: right;\">\n      <th></th>\n      <th>_atom_site_label</th>\n      <th>_atom_site_type_symbol</th>\n      <th>_atom_site_description</th>\n      <th>_atom_site_fract_x</th>\n      <th>_atom_site_fract_y</th>\n      <th>_atom_site_fract_z</th>\n      <th>_atom_type_partial_charge</th>\n    </tr>\n  </thead>\n  <tbody>\n    <tr>\n      <th>7</th>\n      <td>O1</td>\n      <td>O</td>\n      <td>O_R</td>\n      <td>0.500020</td>\n      <td>0.316790</td>\n      <td>0.614690</td>\n      <td>-0.628319</td>\n    </tr>\n    <tr>\n      <th>8</th>\n      <td>O2</td>\n      <td>O</td>\n      <td>O_R</td>\n      <td>0.500000</td>\n      <td>0.316760</td>\n      <td>0.385350</td>\n      <td>-0.604978</td>\n    </tr>\n    <tr>\n      <th>9</th>\n      <td>C1</td>\n      <td>C</td>\n      <td>C_R</td>\n      <td>0.511239</td>\n      <td>0.260617</td>\n      <td>0.499919</td>\n      <td>0.943344</td>\n    </tr>\n    <tr>\n      <th>10</th>\n      <td>O3</td>\n      <td>O</td>\n      <td>O_R</td>\n      <td>0.319080</td>\n      <td>0.500020</td>\n      <td>0.614640</td>\n      <td>-0.626555</td>\n    </tr>\n    <tr>\n      <th>11</th>\n      <td>O4</td>\n      <td>O</td>\n      <td>O_R</td>\n      <td>0.319070</td>\n      <td>0.499980</td>\n      <td>0.385300</td>\n      <td>-0.570235</td>\n    </tr>\n    <tr>\n      <th>...</th>\n      <td>...</td>\n      <td>...</td>\n      <td>...</td>\n      <td>...</td>\n      <td>...</td>\n      <td>...</td>\n      <td>...</td>\n    </tr>\n    <tr>\n      <th>77</th>\n      <td>H19</td>\n      <td>H</td>\n      <td>H_</td>\n      <td>0.720880</td>\n      <td>0.734379</td>\n      <td>0.913303</td>\n      <td>0.347912</td>\n    </tr>\n    <tr>\n      <th>78</th>\n      <td>C30</td>\n      <td>C</td>\n      <td>C_2</td>\n      <td>0.348847</td>\n      <td>0.101593</td>\n      <td>0.756535</td>\n      <td>0.967858</td>\n    </tr>\n    <tr>\n      <th>79</th>\n      <td>O20</td>\n      <td>O</td>\n      <td>O_2</td>\n      <td>0.293392</td>\n      <td>0.097996</td>\n      <td>0.863474</td>\n      <td>-0.568112</td>\n    </tr>\n    <tr>\n      <th>80</th>\n      <td>O21</td>\n      <td>O</td>\n      <td>O_R</td>\n      <td>0.284013</td>\n      <td>0.135186</td>\n      <td>0.637326</td>\n      <td>-0.818747</td>\n    </tr>\n    <tr>\n      <th>81</th>\n      <td>H20</td>\n      <td>H</td>\n      <td>H_</td>\n      <td>0.192378</td>\n      <td>0.156135</td>\n      <td>0.653048</td>\n      <td>0.338332</td>\n    </tr>\n  </tbody>\n</table>\n<p>75 rows × 7 columns</p>\n</div>"
     },
     "metadata": {}
    }
   ],
   "execution_count": 7
  },
  {
   "cell_type": "code",
   "source": "",
   "metadata": {
    "cell_id": "00009-a32cc2c5-6706-4138-813a-4b1e8446eff5",
    "deepnote_to_be_reexecuted": false,
    "source_hash": "b623e53d",
    "execution_start": 1632042521166,
    "deepnote_cell_type": "visualization"
   },
   "outputs": [],
   "execution_count": 7
  },
  {
   "cell_type": "code",
   "metadata": {
    "tags": [],
    "cell_id": "00011-3897d3b1-d980-43a2-8036-a1df4c118505",
    "deepnote_to_be_reexecuted": false,
    "source_hash": "8260556a",
    "execution_start": 1632042521217,
    "execution_millis": 60,
    "deepnote_cell_type": "code"
   },
   "source": "pd.DataFrame(adapted_cif['loops'][1])",
   "outputs": [
    {
     "output_type": "execute_result",
     "execution_count": 8,
     "data": {
      "application/vnd.deepnote.dataframe.v2+json": {
       "row_count": 75,
       "column_count": 7,
       "columns": [
        {
         "name": "_atom_site_label",
         "dtype": "object",
         "stats": {
          "unique_count": 75,
          "nan_count": 0,
          "categories": [
           {
            "name": "O1",
            "count": 1
           },
           {
            "name": "O2",
            "count": 1
           },
           {
            "name": "73 others",
            "count": 73
           }
          ]
         }
        },
        {
         "name": "_atom_site_type_symbol",
         "dtype": "object",
         "stats": {
          "unique_count": 5,
          "nan_count": 0,
          "categories": [
           {
            "name": "C",
            "count": 30
           },
           {
            "name": "O",
            "count": 21
           },
           {
            "name": "3 others",
            "count": 24
           }
          ]
         }
        },
        {
         "name": "_atom_site_description",
         "dtype": "object",
         "stats": {
          "unique_count": 9,
          "nan_count": 0,
          "categories": [
           {
            "name": "H_",
            "count": 20
           },
           {
            "name": "O_R",
            "count": 14
           },
           {
            "name": "7 others",
            "count": 41
           }
          ]
         }
        },
        {
         "name": "_atom_site_fract_x",
         "dtype": "object",
         "stats": {
          "unique_count": 73,
          "nan_count": 0,
          "categories": [
           {
            "name": "0.500000",
            "count": 2
           },
           {
            "name": "0.499170",
            "count": 2
           },
           {
            "name": "71 others",
            "count": 71
           }
          ]
         }
        },
        {
         "name": "_atom_site_fract_y",
         "dtype": "object",
         "stats": {
          "unique_count": 71,
          "nan_count": 0,
          "categories": [
           {
            "name": "0.500020",
            "count": 3
           },
           {
            "name": "0.499980",
            "count": 3
           },
           {
            "name": "69 others",
            "count": 69
           }
          ]
         }
        },
        {
         "name": "_atom_site_fract_z",
         "dtype": "object",
         "stats": {
          "unique_count": 75,
          "nan_count": 0,
          "categories": [
           {
            "name": "0.614690",
            "count": 1
           },
           {
            "name": "0.385350",
            "count": 1
           },
           {
            "name": "73 others",
            "count": 73
           }
          ]
         }
        },
        {
         "name": "_atom_type_partial_charge",
         "dtype": "object",
         "stats": {
          "unique_count": 75,
          "nan_count": 0,
          "categories": [
           {
            "name": "-0.628319",
            "count": 1
           },
           {
            "name": "-0.604978",
            "count": 1
           },
           {
            "name": "73 others",
            "count": 73
           }
          ]
         }
        },
        {
         "name": "_deepnote_index_column",
         "dtype": "int64"
        }
       ],
       "rows_top": [
        {
         "_atom_site_label": "O1",
         "_atom_site_type_symbol": "O",
         "_atom_site_description": "O_R",
         "_atom_site_fract_x": "0.500020",
         "_atom_site_fract_y": "0.316790",
         "_atom_site_fract_z": "0.614690",
         "_atom_type_partial_charge": "-0.628319",
         "_deepnote_index_column": 7
        },
        {
         "_atom_site_label": "O2",
         "_atom_site_type_symbol": "O",
         "_atom_site_description": "O_R",
         "_atom_site_fract_x": "0.500000",
         "_atom_site_fract_y": "0.316760",
         "_atom_site_fract_z": "0.385350",
         "_atom_type_partial_charge": "-0.604978",
         "_deepnote_index_column": 8
        },
        {
         "_atom_site_label": "C1",
         "_atom_site_type_symbol": "C",
         "_atom_site_description": "C_R",
         "_atom_site_fract_x": "0.511239",
         "_atom_site_fract_y": "0.260617",
         "_atom_site_fract_z": "0.499919",
         "_atom_type_partial_charge": "0.943344",
         "_deepnote_index_column": 9
        },
        {
         "_atom_site_label": "O3",
         "_atom_site_type_symbol": "O",
         "_atom_site_description": "O_R",
         "_atom_site_fract_x": "0.319080",
         "_atom_site_fract_y": "0.500020",
         "_atom_site_fract_z": "0.614640",
         "_atom_type_partial_charge": "-0.626555",
         "_deepnote_index_column": 10
        },
        {
         "_atom_site_label": "O4",
         "_atom_site_type_symbol": "O",
         "_atom_site_description": "O_R",
         "_atom_site_fract_x": "0.319070",
         "_atom_site_fract_y": "0.499980",
         "_atom_site_fract_z": "0.385300",
         "_atom_type_partial_charge": "-0.570235",
         "_deepnote_index_column": 11
        },
        {
         "_atom_site_label": "C2",
         "_atom_site_type_symbol": "C",
         "_atom_site_description": "C_R",
         "_atom_site_fract_x": "0.262196",
         "_atom_site_fract_y": "0.501710",
         "_atom_site_fract_z": "0.498339",
         "_atom_type_partial_charge": "1.002569",
         "_deepnote_index_column": 12
        },
        {
         "_atom_site_label": "Zn1",
         "_atom_site_type_symbol": "Zn",
         "_atom_site_description": "Zn3+2",
         "_atom_site_fract_x": "0.500010",
         "_atom_site_fract_y": "0.500020",
         "_atom_site_fract_z": "0.653130",
         "_atom_type_partial_charge": "1.000757",
         "_deepnote_index_column": 13
        },
        {
         "_atom_site_label": "Zn2",
         "_atom_site_type_symbol": "Zn",
         "_atom_site_description": "Zn3+2",
         "_atom_site_fract_x": "0.499990",
         "_atom_site_fract_y": "0.499980",
         "_atom_site_fract_z": "0.346870",
         "_atom_type_partial_charge": "1.025705",
         "_deepnote_index_column": 14
        },
        {
         "_atom_site_label": "O5",
         "_atom_site_type_symbol": "O",
         "_atom_site_description": "O_R",
         "_atom_site_fract_x": "0.500000",
         "_atom_site_fract_y": "0.683240",
         "_atom_site_fract_z": "0.614650",
         "_atom_type_partial_charge": "-0.570489",
         "_deepnote_index_column": 15
        },
        {
         "_atom_site_label": "O6",
         "_atom_site_type_symbol": "O",
         "_atom_site_description": "O_R",
         "_atom_site_fract_x": "0.499980",
         "_atom_site_fract_y": "0.683210",
         "_atom_site_fract_z": "0.385310",
         "_atom_type_partial_charge": "-0.610657",
         "_deepnote_index_column": 16
        },
        {
         "_atom_site_label": "O7",
         "_atom_site_type_symbol": "O",
         "_atom_site_description": "O_R",
         "_atom_site_fract_x": "0.680930",
         "_atom_site_fract_y": "0.500020",
         "_atom_site_fract_z": "0.614700",
         "_atom_type_partial_charge": "-0.620685",
         "_deepnote_index_column": 17
        },
        {
         "_atom_site_label": "O8",
         "_atom_site_type_symbol": "O",
         "_atom_site_description": "O_R",
         "_atom_site_fract_x": "0.680920",
         "_atom_site_fract_y": "0.499980",
         "_atom_site_fract_z": "0.385360",
         "_atom_type_partial_charge": "-0.610988",
         "_deepnote_index_column": 18
        },
        {
         "_atom_site_label": "C3",
         "_atom_site_type_symbol": "C",
         "_atom_site_description": "C_R",
         "_atom_site_fract_x": "0.510568",
         "_atom_site_fract_y": "0.739929",
         "_atom_site_fract_z": "0.499534",
         "_atom_type_partial_charge": "0.896293",
         "_deepnote_index_column": 19
        },
        {
         "_atom_site_label": "C4",
         "_atom_site_type_symbol": "C",
         "_atom_site_description": "C_R",
         "_atom_site_fract_x": "0.737527",
         "_atom_site_fract_y": "0.508812",
         "_atom_site_fract_z": "0.501655",
         "_atom_type_partial_charge": "0.975323",
         "_deepnote_index_column": 20
        },
        {
         "_atom_site_label": "C5",
         "_atom_site_type_symbol": "C",
         "_atom_site_description": "C_2",
         "_atom_site_fract_x": "0.930827",
         "_atom_site_fract_y": "0.569775",
         "_atom_site_fract_z": "0.397062",
         "_atom_type_partial_charge": "-0.267646",
         "_deepnote_index_column": 21
        },
        {
         "_atom_site_label": "C6",
         "_atom_site_type_symbol": "C",
         "_atom_site_description": "C_2",
         "_atom_site_fract_x": "0.867912",
         "_atom_site_fract_y": "0.540715",
         "_atom_site_fract_z": "0.508063",
         "_atom_type_partial_charge": "-0.373889",
         "_deepnote_index_column": 22
        },
        {
         "_atom_site_label": "H1",
         "_atom_site_type_symbol": "H",
         "_atom_site_description": "H_",
         "_atom_site_fract_x": "0.883642",
         "_atom_site_fract_y": "0.576040",
         "_atom_site_fract_z": "0.298736",
         "_atom_type_partial_charge": "0.194450",
         "_deepnote_index_column": 23
        },
        {
         "_atom_site_label": "H2",
         "_atom_site_type_symbol": "H",
         "_atom_site_description": "H_",
         "_atom_site_fract_x": "0.912693",
         "_atom_site_fract_y": "0.544315",
         "_atom_site_fract_z": "0.607909",
         "_atom_type_partial_charge": "0.190144",
         "_deepnote_index_column": 24
        },
        {
         "_atom_site_label": "C7",
         "_atom_site_type_symbol": "C",
         "_atom_site_description": "C_2",
         "_atom_site_fract_x": "0.068028",
         "_atom_site_fract_y": "0.583440",
         "_atom_site_fract_z": "0.406634",
         "_atom_type_partial_charge": "0.520947",
         "_deepnote_index_column": 25
        },
        {
         "_atom_site_label": "C8",
         "_atom_site_type_symbol": "C",
         "_atom_site_description": "C_2",
         "_atom_site_fract_x": "0.128795",
         "_atom_site_fract_y": "0.505510",
         "_atom_site_fract_z": "0.492625",
         "_atom_type_partial_charge": "-0.331481",
         "_deepnote_index_column": 26
        },
        {
         "_atom_site_label": "H3",
         "_atom_site_type_symbol": "H",
         "_atom_site_description": "H_",
         "_atom_site_fract_x": "0.081055",
         "_atom_site_fract_y": "0.439155",
         "_atom_site_fract_z": "0.557711",
         "_atom_type_partial_charge": "0.116745",
         "_deepnote_index_column": 27
        },
        {
         "_atom_site_label": "C9",
         "_atom_site_type_symbol": "C",
         "_atom_site_description": "C_R",
         "_atom_site_fract_x": "0.542308",
         "_atom_site_fract_y": "0.061957",
         "_atom_site_fract_z": "0.617598",
         "_atom_type_partial_charge": "0.024709",
         "_deepnote_index_column": 28
        },
        {
         "_atom_site_label": "C10",
         "_atom_site_type_symbol": "C",
         "_atom_site_description": "C_R",
         "_atom_site_fract_x": "0.544707",
         "_atom_site_fract_y": "0.130616",
         "_atom_site_fract_z": "0.498806",
         "_atom_type_partial_charge": "-0.126066",
         "_deepnote_index_column": 29
        },
        {
         "_atom_site_label": "C11",
         "_atom_site_type_symbol": "C",
         "_atom_site_description": "C_R",
         "_atom_site_fract_x": "0.581067",
         "_atom_site_fract_y": "0.068110",
         "_atom_site_fract_z": "0.378982",
         "_atom_type_partial_charge": "-0.127392",
         "_deepnote_index_column": 30
        },
        {
         "_atom_site_label": "C12",
         "_atom_site_type_symbol": "C",
         "_atom_site_description": "C_R",
         "_atom_site_fract_x": "0.574316",
         "_atom_site_fract_y": "0.935900",
         "_atom_site_fract_z": "0.376234",
         "_atom_type_partial_charge": "-0.132731",
         "_deepnote_index_column": 31
        },
        {
         "_atom_site_label": "C13",
         "_atom_site_type_symbol": "C",
         "_atom_site_description": "C_R",
         "_atom_site_fract_x": "0.545263",
         "_atom_site_fract_y": "0.870515",
         "_atom_site_fract_z": "0.497676",
         "_atom_type_partial_charge": "-0.176366",
         "_deepnote_index_column": 32
        },
        {
         "_atom_site_label": "C14",
         "_atom_site_type_symbol": "C",
         "_atom_site_description": "C_R",
         "_atom_site_fract_x": "0.555117",
         "_atom_site_fract_y": "0.936088",
         "_atom_site_fract_z": "0.618583",
         "_atom_type_partial_charge": "0.034483",
         "_deepnote_index_column": 33
        },
        {
         "_atom_site_label": "C15",
         "_atom_site_type_symbol": "C",
         "_atom_site_description": "C_3",
         "_atom_site_fract_x": "0.506793",
         "_atom_site_fract_y": "0.924219",
         "_atom_site_fract_z": "0.759156",
         "_atom_type_partial_charge": "-0.265723",
         "_deepnote_index_column": 34
        },
        {
         "_atom_site_label": "C16",
         "_atom_site_type_symbol": "C",
         "_atom_site_description": "C_3",
         "_atom_site_fract_x": "0.486891",
         "_atom_site_fract_y": "0.067823",
         "_atom_site_fract_z": "0.755195",
         "_atom_type_partial_charge": "-0.247828",
         "_deepnote_index_column": 35
        },
        {
         "_atom_site_label": "H4",
         "_atom_site_type_symbol": "H",
         "_atom_site_description": "H_",
         "_atom_site_fract_x": "0.418904",
         "_atom_site_fract_y": "0.867225",
         "_atom_site_fract_z": "0.765367",
         "_atom_type_partial_charge": "0.187079",
         "_deepnote_index_column": 36
        },
        {
         "_atom_site_label": "H5",
         "_atom_site_type_symbol": "H",
         "_atom_site_description": "H_",
         "_atom_site_fract_x": "0.545909",
         "_atom_site_fract_y": "0.125120",
         "_atom_site_fract_z": "0.825990",
         "_atom_type_partial_charge": "0.180625",
         "_deepnote_index_column": 37
        },
        {
         "_atom_site_label": "C17",
         "_atom_site_type_symbol": "C",
         "_atom_site_description": "C_R",
         "_atom_site_fract_x": "0.396386",
         "_atom_site_fract_y": "0.537167",
         "_atom_site_fract_z": "0.068603",
         "_atom_type_partial_charge": "0.121204",
         "_deepnote_index_column": 38
        },
        {
         "_atom_site_label": "N1",
         "_atom_site_type_symbol": "N",
         "_atom_site_description": "N_R",
         "_atom_site_fract_x": "0.499170",
         "_atom_site_fract_y": "0.499140",
         "_atom_site_fract_z": "0.142800",
         "_atom_type_partial_charge": "-0.105731",
         "_deepnote_index_column": 39
        },
        {
         "_atom_site_label": "C18",
         "_atom_site_type_symbol": "C",
         "_atom_site_description": "C_R",
         "_atom_site_fract_x": "0.605747",
         "_atom_site_fract_y": "0.469580",
         "_atom_site_fract_z": "0.074239",
         "_atom_type_partial_charge": "-0.086676",
         "_deepnote_index_column": 40
        },
        {
         "_atom_site_label": "H6",
         "_atom_site_type_symbol": "H",
         "_atom_site_description": "H_",
         "_atom_site_fract_x": "0.690570",
         "_atom_site_fract_y": "0.443611",
         "_atom_site_fract_z": "0.129711",
         "_atom_type_partial_charge": "0.183867",
         "_deepnote_index_column": 41
        },
        {
         "_atom_site_label": "C19",
         "_atom_site_type_symbol": "C",
         "_atom_site_description": "C_R",
         "_atom_site_fract_x": "0.605467",
         "_atom_site_fract_y": "0.468644",
         "_atom_site_fract_z": "0.930630",
         "_atom_type_partial_charge": "-0.086985",
         "_deepnote_index_column": 42
        },
        {
         "_atom_site_label": "H7",
         "_atom_site_type_symbol": "H",
         "_atom_site_description": "H_",
         "_atom_site_fract_x": "0.689906",
         "_atom_site_fract_y": "0.441812",
         "_atom_site_fract_z": "0.878874",
         "_atom_type_partial_charge": "0.166318",
         "_deepnote_index_column": 43
        },
        {
         "_atom_site_label": "N2",
         "_atom_site_type_symbol": "N",
         "_atom_site_description": "N_R",
         "_atom_site_fract_x": "0.499170",
         "_atom_site_fract_y": "0.499180",
         "_atom_site_fract_z": "0.857150",
         "_atom_type_partial_charge": "-0.097241",
         "_deepnote_index_column": 44
        },
        {
         "_atom_site_label": "C20",
         "_atom_site_type_symbol": "C",
         "_atom_site_description": "C_R",
         "_atom_site_fract_x": "0.397006",
         "_atom_site_fract_y": "0.539482",
         "_atom_site_fract_z": "0.926231",
         "_atom_type_partial_charge": "0.213850",
         "_deepnote_index_column": 45
        },
        {
         "_atom_site_label": "C21",
         "_atom_site_type_symbol": "C",
         "_atom_site_description": "C_3",
         "_atom_site_fract_x": "0.266436",
         "_atom_site_fract_y": "0.485936",
         "_atom_site_fract_z": "0.915125",
         "_atom_type_partial_charge": "-0.330304",
         "_deepnote_index_column": 46
        },
        {
         "_atom_site_label": "C22",
         "_atom_site_type_symbol": "C",
         "_atom_site_description": "C_3",
         "_atom_site_fract_x": "0.266449",
         "_atom_site_fract_y": "0.481033",
         "_atom_site_fract_z": "0.069437",
         "_atom_type_partial_charge": "-0.364546",
         "_deepnote_index_column": 47
        },
        {
         "_atom_site_label": "H8",
         "_atom_site_type_symbol": "H",
         "_atom_site_description": "H_",
         "_atom_site_fract_x": "0.263643",
         "_atom_site_fract_y": "0.392929",
         "_atom_site_fract_z": "0.863729",
         "_atom_type_partial_charge": "0.177499",
         "_deepnote_index_column": 48
        },
        {
         "_atom_site_label": "H9",
         "_atom_site_type_symbol": "H",
         "_atom_site_description": "H_",
         "_atom_site_fract_x": "0.197264",
         "_atom_site_fract_y": "0.545248",
         "_atom_site_fract_z": "0.115246",
         "_atom_type_partial_charge": "0.209983",
         "_deepnote_index_column": 49
        },
        {
         "_atom_site_label": "C23",
         "_atom_site_type_symbol": "C",
         "_atom_site_description": "C_2",
         "_atom_site_fract_x": "0.171141",
         "_atom_site_fract_y": "0.577266",
         "_atom_site_fract_z": "0.857497",
         "_atom_type_partial_charge": "0.946284",
         "_deepnote_index_column": 50
        },
        {
         "_atom_site_label": "O9",
         "_atom_site_type_symbol": "O",
         "_atom_site_description": "O_2",
         "_atom_site_fract_x": "0.059246",
         "_atom_site_fract_y": "0.549414",
         "_atom_site_fract_z": "0.857425",
         "_atom_type_partial_charge": "-0.646017",
         "_deepnote_index_column": 51
        },
        {
         "_atom_site_label": "O10",
         "_atom_site_type_symbol": "O",
         "_atom_site_description": "O_R",
         "_atom_site_fract_x": "0.209951",
         "_atom_site_fract_y": "0.692476",
         "_atom_site_fract_z": "0.803818",
         "_atom_type_partial_charge": "-0.797600",
         "_deepnote_index_column": 52
        },
        {
         "_atom_site_label": "H10",
         "_atom_site_type_symbol": "H",
         "_atom_site_description": "H_",
         "_atom_site_fract_x": "0.136747",
         "_atom_site_fract_y": "0.744306",
         "_atom_site_fract_z": "0.767493",
         "_atom_type_partial_charge": "0.342181",
         "_deepnote_index_column": 53
        },
        {
         "_atom_site_label": "C24",
         "_atom_site_type_symbol": "C",
         "_atom_site_description": "C_2",
         "_atom_site_fract_x": "0.260153",
         "_atom_site_fract_y": "0.349325",
         "_atom_site_fract_z": "0.125907",
         "_atom_type_partial_charge": "1.043635",
         "_deepnote_index_column": 54
        },
        {
         "_atom_site_label": "O11",
         "_atom_site_type_symbol": "O",
         "_atom_site_description": "O_2",
         "_atom_site_fract_x": "0.336701",
         "_atom_site_fract_y": "0.270098",
         "_atom_site_fract_z": "0.092940",
         "_atom_type_partial_charge": "-0.567578",
         "_deepnote_index_column": 55
        },
        {
         "_atom_site_label": "O12",
         "_atom_site_type_symbol": "O",
         "_atom_site_description": "O_R",
         "_atom_site_fract_x": "0.165281",
         "_atom_site_fract_y": "0.318404",
         "_atom_site_fract_z": "0.216075",
         "_atom_type_partial_charge": "-0.787176",
         "_deepnote_index_column": 56
        },
        {
         "_atom_site_label": "H11",
         "_atom_site_type_symbol": "H",
         "_atom_site_description": "H_",
         "_atom_site_fract_x": "0.170596",
         "_atom_site_fract_y": "0.228007",
         "_atom_site_fract_z": "0.248129",
         "_atom_type_partial_charge": "0.347813",
         "_deepnote_index_column": 57
        },
        {
         "_atom_site_label": "O13",
         "_atom_site_type_symbol": "O",
         "_atom_site_description": "O_3",
         "_atom_site_fract_x": "0.137476",
         "_atom_site_fract_y": "0.663928",
         "_atom_site_fract_z": "0.324456",
         "_atom_type_partial_charge": "-0.619386",
         "_deepnote_index_column": 58
        },
        {
         "_atom_site_label": "C25",
         "_atom_site_type_symbol": "C",
         "_atom_site_description": "C_3",
         "_atom_site_fract_x": "0.065154",
         "_atom_site_fract_y": "0.764067",
         "_atom_site_fract_z": "0.271025",
         "_atom_type_partial_charge": "0.045757",
         "_deepnote_index_column": 59
        },
        {
         "_atom_site_label": "H12",
         "_atom_site_type_symbol": "H",
         "_atom_site_description": "H_",
         "_atom_site_fract_x": "0.011981",
         "_atom_site_fract_y": "0.812264",
         "_atom_site_fract_z": "0.351748",
         "_atom_type_partial_charge": "0.171688",
         "_deepnote_index_column": 60
        },
        {
         "_atom_site_label": "H13",
         "_atom_site_type_symbol": "H",
         "_atom_site_description": "H_",
         "_atom_site_fract_x": "0.999105",
         "_atom_site_fract_y": "0.729500",
         "_atom_site_fract_z": "0.190390",
         "_atom_type_partial_charge": "0.177893",
         "_deepnote_index_column": 61
        },
        {
         "_atom_site_label": "C26",
         "_atom_site_type_symbol": "C",
         "_atom_site_description": "C_3",
         "_atom_site_fract_x": "0.153458",
         "_atom_site_fract_y": "0.859464",
         "_atom_site_fract_z": "0.207717",
         "_atom_type_partial_charge": "-0.648704",
         "_deepnote_index_column": 62
        },
        {
         "_atom_site_label": "H14",
         "_atom_site_type_symbol": "H",
         "_atom_site_description": "H_",
         "_atom_site_fract_x": "0.098242",
         "_atom_site_fract_y": "0.939459",
         "_atom_site_fract_z": "0.165677",
         "_atom_type_partial_charge": "0.223145",
         "_deepnote_index_column": 63
        },
        {
         "_atom_site_label": "H15",
         "_atom_site_type_symbol": "H",
         "_atom_site_description": "H_",
         "_atom_site_fract_x": "0.221787",
         "_atom_site_fract_y": "0.895585",
         "_atom_site_fract_z": "0.285201",
         "_atom_type_partial_charge": "0.264770",
         "_deepnote_index_column": 64
        },
        {
         "_atom_site_label": "H16",
         "_atom_site_type_symbol": "H",
         "_atom_site_description": "H_",
         "_atom_site_fract_x": "0.206138",
         "_atom_site_fract_y": "0.814830",
         "_atom_site_fract_z": "0.124739",
         "_atom_type_partial_charge": "0.270786",
         "_deepnote_index_column": 65
        },
        {
         "_atom_site_label": "C27",
         "_atom_site_type_symbol": "C",
         "_atom_site_description": "C_2",
         "_atom_site_fract_x": "0.627103",
         "_atom_site_fract_y": "0.138201",
         "_atom_site_fract_z": "0.259624",
         "_atom_type_partial_charge": "0.983337",
         "_deepnote_index_column": 66
        },
        {
         "_atom_site_label": "O14",
         "_atom_site_type_symbol": "O",
         "_atom_site_description": "O_2",
         "_atom_site_fract_x": "0.715445",
         "_atom_site_fract_y": "0.211622",
         "_atom_site_fract_z": "0.273289",
         "_atom_type_partial_charge": "-0.634044",
         "_deepnote_index_column": 67
        },
        {
         "_atom_site_label": "O15",
         "_atom_site_type_symbol": "O",
         "_atom_site_description": "O_R",
         "_atom_site_fract_x": "0.568762",
         "_atom_site_fract_y": "0.121778",
         "_atom_site_fract_z": "0.132946",
         "_atom_type_partial_charge": "-0.705183",
         "_deepnote_index_column": 68
        },
        {
         "_atom_site_label": "H17",
         "_atom_site_type_symbol": "H",
         "_atom_site_description": "H_",
         "_atom_site_fract_x": "0.607072",
         "_atom_site_fract_y": "0.177339",
         "_atom_site_fract_z": "0.061205",
         "_atom_type_partial_charge": "0.348788",
         "_deepnote_index_column": 69
        },
        {
         "_atom_site_label": "C28",
         "_atom_site_type_symbol": "C",
         "_atom_site_description": "C_2",
         "_atom_site_fract_x": "0.593269",
         "_atom_site_fract_y": "0.869333",
         "_atom_site_fract_z": "0.247298",
         "_atom_type_partial_charge": "1.044606",
         "_deepnote_index_column": 70
        },
        {
         "_atom_site_label": "O16",
         "_atom_site_type_symbol": "O",
         "_atom_site_description": "O_2",
         "_atom_site_fract_x": "0.697615",
         "_atom_site_fract_y": "0.829814",
         "_atom_site_fract_z": "0.219816",
         "_atom_type_partial_charge": "-0.651691",
         "_deepnote_index_column": 71
        },
        {
         "_atom_site_label": "O17",
         "_atom_site_type_symbol": "O",
         "_atom_site_description": "O_R",
         "_atom_site_fract_x": "0.489676",
         "_atom_site_fract_y": "0.847796",
         "_atom_site_fract_z": "0.160653",
         "_atom_type_partial_charge": "-0.748229",
         "_deepnote_index_column": 72
        },
        {
         "_atom_site_label": "H18",
         "_atom_site_type_symbol": "H",
         "_atom_site_description": "H_",
         "_atom_site_fract_x": "0.510436",
         "_atom_site_fract_y": "0.790445",
         "_atom_site_fract_z": "0.082829",
         "_atom_type_partial_charge": "0.335808",
         "_deepnote_index_column": 73
        },
        {
         "_atom_site_label": "C29",
         "_atom_site_type_symbol": "C",
         "_atom_site_description": "C_2",
         "_atom_site_fract_x": "0.611664",
         "_atom_site_fract_y": "0.879375",
         "_atom_site_fract_z": "0.852771",
         "_atom_type_partial_charge": "0.968948",
         "_deepnote_index_column": 74
        },
        {
         "_atom_site_label": "O18",
         "_atom_site_type_symbol": "O",
         "_atom_site_description": "O_2",
         "_atom_site_fract_x": "0.664348",
         "_atom_site_fract_y": "0.951309",
         "_atom_site_fract_z": "0.932154",
         "_atom_type_partial_charge": "-0.588923",
         "_deepnote_index_column": 75
        },
        {
         "_atom_site_label": "O19",
         "_atom_site_type_symbol": "O",
         "_atom_site_description": "O_R",
         "_atom_site_fract_x": "0.649805",
         "_atom_site_fract_y": "0.754158",
         "_atom_site_fract_z": "0.846563",
         "_atom_type_partial_charge": "-0.790535",
         "_deepnote_index_column": 76
        },
        {
         "_atom_site_label": "H19",
         "_atom_site_type_symbol": "H",
         "_atom_site_description": "H_",
         "_atom_site_fract_x": "0.720880",
         "_atom_site_fract_y": "0.734379",
         "_atom_site_fract_z": "0.913303",
         "_atom_type_partial_charge": "0.347912",
         "_deepnote_index_column": 77
        },
        {
         "_atom_site_label": "C30",
         "_atom_site_type_symbol": "C",
         "_atom_site_description": "C_2",
         "_atom_site_fract_x": "0.348847",
         "_atom_site_fract_y": "0.101593",
         "_atom_site_fract_z": "0.756535",
         "_atom_type_partial_charge": "0.967858",
         "_deepnote_index_column": 78
        },
        {
         "_atom_site_label": "O20",
         "_atom_site_type_symbol": "O",
         "_atom_site_description": "O_2",
         "_atom_site_fract_x": "0.293392",
         "_atom_site_fract_y": "0.097996",
         "_atom_site_fract_z": "0.863474",
         "_atom_type_partial_charge": "-0.568112",
         "_deepnote_index_column": 79
        },
        {
         "_atom_site_label": "O21",
         "_atom_site_type_symbol": "O",
         "_atom_site_description": "O_R",
         "_atom_site_fract_x": "0.284013",
         "_atom_site_fract_y": "0.135186",
         "_atom_site_fract_z": "0.637326",
         "_atom_type_partial_charge": "-0.818747",
         "_deepnote_index_column": 80
        },
        {
         "_atom_site_label": "H20",
         "_atom_site_type_symbol": "H",
         "_atom_site_description": "H_",
         "_atom_site_fract_x": "0.192378",
         "_atom_site_fract_y": "0.156135",
         "_atom_site_fract_z": "0.653048",
         "_atom_type_partial_charge": "0.338332",
         "_deepnote_index_column": 81
        }
       ],
       "rows_bottom": null
      },
      "text/plain": "   _atom_site_label _atom_site_type_symbol _atom_site_description  \\\n7                O1                      O                    O_R   \n8                O2                      O                    O_R   \n9                C1                      C                    C_R   \n10               O3                      O                    O_R   \n11               O4                      O                    O_R   \n..              ...                    ...                    ...   \n77              H19                      H                     H_   \n78              C30                      C                    C_2   \n79              O20                      O                    O_2   \n80              O21                      O                    O_R   \n81              H20                      H                     H_   \n\n   _atom_site_fract_x _atom_site_fract_y _atom_site_fract_z  \\\n7            0.500020           0.316790           0.614690   \n8            0.500000           0.316760           0.385350   \n9            0.511239           0.260617           0.499919   \n10           0.319080           0.500020           0.614640   \n11           0.319070           0.499980           0.385300   \n..                ...                ...                ...   \n77           0.720880           0.734379           0.913303   \n78           0.348847           0.101593           0.756535   \n79           0.293392           0.097996           0.863474   \n80           0.284013           0.135186           0.637326   \n81           0.192378           0.156135           0.653048   \n\n   _atom_type_partial_charge  \n7                  -0.628319  \n8                  -0.604978  \n9                   0.943344  \n10                 -0.626555  \n11                 -0.570235  \n..                       ...  \n77                  0.347912  \n78                  0.967858  \n79                 -0.568112  \n80                 -0.818747  \n81                  0.338332  \n\n[75 rows x 7 columns]",
      "text/html": "<div>\n<style scoped>\n    .dataframe tbody tr th:only-of-type {\n        vertical-align: middle;\n    }\n\n    .dataframe tbody tr th {\n        vertical-align: top;\n    }\n\n    .dataframe thead th {\n        text-align: right;\n    }\n</style>\n<table border=\"1\" class=\"dataframe\">\n  <thead>\n    <tr style=\"text-align: right;\">\n      <th></th>\n      <th>_atom_site_label</th>\n      <th>_atom_site_type_symbol</th>\n      <th>_atom_site_description</th>\n      <th>_atom_site_fract_x</th>\n      <th>_atom_site_fract_y</th>\n      <th>_atom_site_fract_z</th>\n      <th>_atom_type_partial_charge</th>\n    </tr>\n  </thead>\n  <tbody>\n    <tr>\n      <th>7</th>\n      <td>O1</td>\n      <td>O</td>\n      <td>O_R</td>\n      <td>0.500020</td>\n      <td>0.316790</td>\n      <td>0.614690</td>\n      <td>-0.628319</td>\n    </tr>\n    <tr>\n      <th>8</th>\n      <td>O2</td>\n      <td>O</td>\n      <td>O_R</td>\n      <td>0.500000</td>\n      <td>0.316760</td>\n      <td>0.385350</td>\n      <td>-0.604978</td>\n    </tr>\n    <tr>\n      <th>9</th>\n      <td>C1</td>\n      <td>C</td>\n      <td>C_R</td>\n      <td>0.511239</td>\n      <td>0.260617</td>\n      <td>0.499919</td>\n      <td>0.943344</td>\n    </tr>\n    <tr>\n      <th>10</th>\n      <td>O3</td>\n      <td>O</td>\n      <td>O_R</td>\n      <td>0.319080</td>\n      <td>0.500020</td>\n      <td>0.614640</td>\n      <td>-0.626555</td>\n    </tr>\n    <tr>\n      <th>11</th>\n      <td>O4</td>\n      <td>O</td>\n      <td>O_R</td>\n      <td>0.319070</td>\n      <td>0.499980</td>\n      <td>0.385300</td>\n      <td>-0.570235</td>\n    </tr>\n    <tr>\n      <th>...</th>\n      <td>...</td>\n      <td>...</td>\n      <td>...</td>\n      <td>...</td>\n      <td>...</td>\n      <td>...</td>\n      <td>...</td>\n    </tr>\n    <tr>\n      <th>77</th>\n      <td>H19</td>\n      <td>H</td>\n      <td>H_</td>\n      <td>0.720880</td>\n      <td>0.734379</td>\n      <td>0.913303</td>\n      <td>0.347912</td>\n    </tr>\n    <tr>\n      <th>78</th>\n      <td>C30</td>\n      <td>C</td>\n      <td>C_2</td>\n      <td>0.348847</td>\n      <td>0.101593</td>\n      <td>0.756535</td>\n      <td>0.967858</td>\n    </tr>\n    <tr>\n      <th>79</th>\n      <td>O20</td>\n      <td>O</td>\n      <td>O_2</td>\n      <td>0.293392</td>\n      <td>0.097996</td>\n      <td>0.863474</td>\n      <td>-0.568112</td>\n    </tr>\n    <tr>\n      <th>80</th>\n      <td>O21</td>\n      <td>O</td>\n      <td>O_R</td>\n      <td>0.284013</td>\n      <td>0.135186</td>\n      <td>0.637326</td>\n      <td>-0.818747</td>\n    </tr>\n    <tr>\n      <th>81</th>\n      <td>H20</td>\n      <td>H</td>\n      <td>H_</td>\n      <td>0.192378</td>\n      <td>0.156135</td>\n      <td>0.653048</td>\n      <td>0.338332</td>\n    </tr>\n  </tbody>\n</table>\n<p>75 rows × 7 columns</p>\n</div>"
     },
     "metadata": {}
    }
   ],
   "execution_count": 8
  },
  {
   "cell_type": "markdown",
   "source": "# Apply Adapters",
   "metadata": {
    "tags": [],
    "is_collapsed": false,
    "cell_id": "00016-22511148-5220-4349-aa46-957fbf4fc920",
    "deepnote_cell_type": "text-cell-h1"
   }
  },
  {
   "cell_type": "code",
   "source": "# n = 200000  #chunk row size\n# list_df = [df[i:i+n] for i in range(0, Train.shape[0],n)]\ndef chuck_pickle(df, n, path='.'):\n    for i in range(0, df.shape[0],n):\n        filename = f'{i}_{i+n}.pickle'\n        filepath = (path + '/'+ filename).replace('//', '/')\n        if not os.path.exists(filepath):\n            print(f\"Pickle file from {i} to {i+n} not found, generating the new one\")\n            chuck = df[i:i+n]\n            chuck['cif'] = chuck.cif_filepath.progress_apply(\n                lambda cif_filepath: cif2pandas_adapter.apply(cif_filepath)\n            )\n            chuck.to_pickle(filepath)\n\nPREPROCESSING_TRAIN_PATH = 'preprocessing_results/Train'\nchuck_pickle(Train, 10000, path=PREPROCESSING_TRAIN_PATH)      ",
   "metadata": {
    "tags": [],
    "cell_id": "00018-3a25337e-9884-4164-a2a1-8551c952b523",
    "deepnote_to_be_reexecuted": false,
    "source_hash": "64712cca",
    "execution_start": 1632042521273,
    "execution_millis": 90,
    "deepnote_cell_type": "code"
   },
   "outputs": [
    {
     "name": "stdout",
     "text": "Pickle file from 0 to 10000 not found, generating the new one\n  2%|▏         | 226/10000 [00:03<02:18, 70.49it/s]",
     "output_type": "stream"
    }
   ],
   "execution_count": null
  },
  {
   "cell_type": "code",
   "source": " Train",
   "metadata": {
    "tags": [],
    "cell_id": "00020-98db2515-92ee-4cc3-bde2-1843bdab08e2",
    "deepnote_to_be_reexecuted": false,
    "source_hash": "159bcb06",
    "execution_start": 1632040176488,
    "execution_millis": 118,
    "deepnote_cell_type": "code"
   },
   "outputs": [
    {
     "output_type": "execute_result",
     "execution_count": 14,
     "data": {
      "application/vnd.deepnote.dataframe.v2+json": {
       "row_count": 68613,
       "column_count": 16,
       "columns": [
        {
         "name": "MOFname",
         "dtype": "object",
         "stats": {
          "unique_count": 68613,
          "nan_count": 0,
          "categories": [
           {
            "name": "mof_unit_1",
            "count": 1
           },
           {
            "name": "mof_unit_2",
            "count": 1
           },
           {
            "name": "68611 others",
            "count": 68611
           }
          ]
         }
        },
        {
         "name": "volume [A^3]",
         "dtype": "float64"
        },
        {
         "name": "weight [u]",
         "dtype": "float64"
        },
        {
         "name": "surface_area [m^2/g]",
         "dtype": "float64"
        },
        {
         "name": "void_fraction",
         "dtype": "float64"
        },
        {
         "name": "void_volume [cm^3/g]",
         "dtype": "float64"
        },
        {
         "name": "functional_groups",
         "dtype": "object"
        },
        {
         "name": "metal_linker",
         "dtype": "int64"
        },
        {
         "name": "organic_linker1",
         "dtype": "int64"
        },
        {
         "name": "organic_linker2",
         "dtype": "int64"
        },
        {
         "name": "topology",
         "dtype": "object"
        },
        {
         "name": "CO2/N2_selectivity",
         "dtype": "float64"
        },
        {
         "name": "heat_adsorption_CO2_P0.15bar_T298K [kcal/mol]",
         "dtype": "float64"
        },
        {
         "name": "CO2_working_capacity [mL/g]",
         "dtype": "float64"
        },
        {
         "name": "cif_filepath",
         "dtype": "object"
        },
        {
         "name": "cif",
         "dtype": "float64"
        },
        {
         "name": "_deepnote_index_column",
         "dtype": "int64"
        }
       ],
       "rows_top": [
        {
         "MOFname": "mof_unit_1",
         "volume [A^3]": 1116.667429,
         "weight [u]": 875.2405999999999,
         "surface_area [m^2/g]": 0,
         "void_fraction": 0.07899,
         "void_volume [cm^3/g]": 0.0606999999999999,
         "functional_groups": "COOH-OEt",
         "metal_linker": 3,
         "organic_linker1": 4,
         "organic_linker2": 11,
         "topology": "pcu",
         "CO2/N2_selectivity": 22.86416611,
         "heat_adsorption_CO2_P0.15bar_T298K [kcal/mol]": 6.786041,
         "CO2_working_capacity [mL/g]": 105.2845017241596,
         "cif_filepath": "tmlcc-2021/mof_cif_train/mof_unit_1.cif",
         "cif": 1,
         "_deepnote_index_column": 0
        },
        {
         "MOFname": "mof_unit_2",
         "volume [A^3]": 2769.503842,
         "weight [u]": 2211.697211,
         "surface_area [m^2/g]": 603.61,
         "void_fraction": 0.13794,
         "void_volume [cm^3/g]": 0.104,
         "functional_groups": "F-OMe",
         "metal_linker": 10,
         "organic_linker1": 44,
         "organic_linker2": 57,
         "topology": "etb",
         "CO2/N2_selectivity": 33.61678033,
         "heat_adsorption_CO2_P0.15bar_T298K [kcal/mol]": 7.147286,
         "CO2_working_capacity [mL/g]": 101.22477417834172,
         "cif_filepath": "tmlcc-2021/mof_cif_train/mof_unit_2.cif",
         "cif": "nan",
         "_deepnote_index_column": 1
        },
        {
         "MOFname": "mof_unit_3",
         "volume [A^3]": 1089.818728,
         "weight [u]": 773.68796,
         "surface_area [m^2/g]": 788.5,
         "void_fraction": 0.14874,
         "void_volume [cm^3/g]": 0.1262,
         "functional_groups": "OMe-COOH",
         "metal_linker": 2,
         "organic_linker1": 22,
         "organic_linker2": 24,
         "topology": "pcu",
         "CO2/N2_selectivity": 19.26372569,
         "heat_adsorption_CO2_P0.15bar_T298K [kcal/mol]": 6.347967,
         "CO2_working_capacity [mL/g]": 118.98701074687752,
         "cif_filepath": "tmlcc-2021/mof_cif_train/mof_unit_3.cif",
         "cif": "nan",
         "_deepnote_index_column": 2
        },
        {
         "MOFname": "mof_unit_4",
         "volume [A^3]": 2205.1983010000004,
         "weight [u]": 1304.63872,
         "surface_area [m^2/g]": 1441.53,
         "void_fraction": 0.21814,
         "void_volume [cm^3/g]": 0.222,
         "functional_groups": "H-SO3H",
         "metal_linker": 9,
         "organic_linker1": 17,
         "organic_linker2": 24,
         "topology": "sra",
         "CO2/N2_selectivity": 25.70137692,
         "heat_adsorption_CO2_P0.15bar_T298K [kcal/mol]": 6.190085,
         "CO2_working_capacity [mL/g]": 187.62600449626183,
         "cif_filepath": "tmlcc-2021/mof_cif_train/mof_unit_4.cif",
         "cif": "nan",
         "_deepnote_index_column": 3
        },
        {
         "MOFname": "mof_unit_5",
         "volume [A^3]": 1137.800963,
         "weight [u]": 901.73612,
         "surface_area [m^2/g]": 0,
         "void_fraction": 0.07778,
         "void_volume [cm^3/g]": 0.0591,
         "functional_groups": "NHMe-OH",
         "metal_linker": 2,
         "organic_linker1": 1,
         "organic_linker2": 22,
         "topology": "pcu",
         "CO2/N2_selectivity": 30.00183795,
         "heat_adsorption_CO2_P0.15bar_T298K [kcal/mol]": 6.478063,
         "CO2_working_capacity [mL/g]": 79.21000065588353,
         "cif_filepath": "tmlcc-2021/mof_cif_train/mof_unit_5.cif",
         "cif": "nan",
         "_deepnote_index_column": 4
        },
        {
         "MOFname": "mof_unit_6",
         "volume [A^3]": 3954.659761,
         "weight [u]": 1543.02768,
         "surface_area [m^2/g]": 2430.55,
         "void_fraction": 0.3709399999999999,
         "void_volume [cm^3/g]": 0.5725,
         "functional_groups": "Pr-NO2",
         "metal_linker": 9,
         "organic_linker1": 7,
         "organic_linker2": 23,
         "topology": "sra",
         "CO2/N2_selectivity": 17.14654102,
         "heat_adsorption_CO2_P0.15bar_T298K [kcal/mol]": 5.398304,
         "CO2_working_capacity [mL/g]": 55.7869591021412,
         "cif_filepath": "tmlcc-2021/mof_cif_train/mof_unit_6.cif",
         "cif": "nan",
         "_deepnote_index_column": 5
        },
        {
         "MOFname": "mof_unit_7",
         "volume [A^3]": 3565.914939,
         "weight [u]": 1954.749656,
         "surface_area [m^2/g]": 1530.02,
         "void_fraction": 0.33337,
         "void_volume [cm^3/g]": 0.3662,
         "functional_groups": "NH2",
         "metal_linker": 10,
         "organic_linker1": 53,
         "organic_linker2": 55,
         "topology": "etb",
         "CO2/N2_selectivity": 18.36379134,
         "heat_adsorption_CO2_P0.15bar_T298K [kcal/mol]": 6.303857,
         "CO2_working_capacity [mL/g]": 111.69046224719489,
         "cif_filepath": "tmlcc-2021/mof_cif_train/mof_unit_7.cif",
         "cif": "nan",
         "_deepnote_index_column": 6
        },
        {
         "MOFname": "mof_unit_8",
         "volume [A^3]": 916.0439070000001,
         "weight [u]": 639.11156,
         "surface_area [m^2/g]": 1685.58,
         "void_fraction": 0.28458,
         "void_volume [cm^3/g]": 0.2456,
         "functional_groups": "Br",
         "metal_linker": 2,
         "organic_linker1": 5,
         "organic_linker2": 13,
         "topology": "pcu",
         "CO2/N2_selectivity": 12.68480443,
         "heat_adsorption_CO2_P0.15bar_T298K [kcal/mol]": 5.234732,
         "CO2_working_capacity [mL/g]": 58.989774287110805,
         "cif_filepath": "tmlcc-2021/mof_cif_train/mof_unit_8.cif",
         "cif": "nan",
         "_deepnote_index_column": 7
        },
        {
         "MOFname": "mof_unit_9",
         "volume [A^3]": 2228.882339,
         "weight [u]": 1422.69182,
         "surface_area [m^2/g]": 1458.02,
         "void_fraction": 0.2427699999999999,
         "void_volume [cm^3/g]": 0.2291,
         "functional_groups": "HCO",
         "metal_linker": 4,
         "organic_linker1": 14,
         "organic_linker2": 19,
         "topology": "acs",
         "CO2/N2_selectivity": 37.04042435,
         "heat_adsorption_CO2_P0.15bar_T298K [kcal/mol]": 6.298964,
         "CO2_working_capacity [mL/g]": 135.58710841724886,
         "cif_filepath": "tmlcc-2021/mof_cif_train/mof_unit_9.cif",
         "cif": "nan",
         "_deepnote_index_column": 8
        },
        {
         "MOFname": "mof_unit_10",
         "volume [A^3]": 4275.421420000001,
         "weight [u]": 1606.196,
         "surface_area [m^2/g]": 3276.11,
         "void_fraction": 0.4100399999999999,
         "void_volume [cm^3/g]": 0.6573,
         "functional_groups": "NHMe-OH",
         "metal_linker": 3,
         "organic_linker1": 13,
         "organic_linker2": 29,
         "topology": "pcu",
         "CO2/N2_selectivity": 10.9992991,
         "heat_adsorption_CO2_P0.15bar_T298K [kcal/mol]": 5.539327,
         "CO2_working_capacity [mL/g]": 59.73905673864041,
         "cif_filepath": "tmlcc-2021/mof_cif_train/mof_unit_10.cif",
         "cif": "nan",
         "_deepnote_index_column": 9
        },
        {
         "MOFname": "mof_unit_11",
         "volume [A^3]": 1607.935338,
         "weight [u]": 1110.38712,
         "surface_area [m^2/g]": 1098.36,
         "void_fraction": 0.18787,
         "void_volume [cm^3/g]": 0.1638,
         "functional_groups": "SO3H",
         "metal_linker": 9,
         "organic_linker1": 1,
         "organic_linker2": 24,
         "topology": "sra",
         "CO2/N2_selectivity": 24.25902464,
         "heat_adsorption_CO2_P0.15bar_T298K [kcal/mol]": 5.926444,
         "CO2_working_capacity [mL/g]": 161.06749898914796,
         "cif_filepath": "tmlcc-2021/mof_cif_train/mof_unit_11.cif",
         "cif": "nan",
         "_deepnote_index_column": 10
        },
        {
         "MOFname": "mof_unit_12",
         "volume [A^3]": 1175.47586,
         "weight [u]": 1397.05128,
         "surface_area [m^2/g]": 0,
         "void_fraction": 0.05704,
         "void_volume [cm^3/g]": 0.0288999999999999,
         "functional_groups": "Me-Br",
         "metal_linker": 2,
         "organic_linker1": 22,
         "organic_linker2": 24,
         "topology": "pcu",
         "CO2/N2_selectivity": 58.10697445,
         "heat_adsorption_CO2_P0.15bar_T298K [kcal/mol]": 7.4078979999999985,
         "CO2_working_capacity [mL/g]": 101.96481234318138,
         "cif_filepath": "tmlcc-2021/mof_cif_train/mof_unit_12.cif",
         "cif": "nan",
         "_deepnote_index_column": 11
        },
        {
         "MOFname": "mof_unit_13",
         "volume [A^3]": 1650.879383,
         "weight [u]": 796.6896799999998,
         "surface_area [m^2/g]": 2117.01,
         "void_fraction": 0.3040499999999999,
         "void_volume [cm^3/g]": 0.3794,
         "functional_groups": "NHMe-NO2",
         "metal_linker": 2,
         "organic_linker1": 4,
         "organic_linker2": 6,
         "topology": "pcu",
         "CO2/N2_selectivity": 12.99674112,
         "heat_adsorption_CO2_P0.15bar_T298K [kcal/mol]": 4.936655,
         "CO2_working_capacity [mL/g]": 79.91916950624072,
         "cif_filepath": "tmlcc-2021/mof_cif_train/mof_unit_13.cif",
         "cif": "nan",
         "_deepnote_index_column": 12
        },
        {
         "MOFname": "mof_unit_14",
         "volume [A^3]": 1071.619874,
         "weight [u]": 701.6286,
         "surface_area [m^2/g]": 0,
         "void_fraction": 0.10455,
         "void_volume [cm^3/g]": 0.0961999999999999,
         "functional_groups": "OEt-CN",
         "metal_linker": 2,
         "organic_linker1": 12,
         "organic_linker2": 22,
         "topology": "pcu",
         "CO2/N2_selectivity": 31.66445559,
         "heat_adsorption_CO2_P0.15bar_T298K [kcal/mol]": 7.427183,
         "CO2_working_capacity [mL/g]": 133.3711208364308,
         "cif_filepath": "tmlcc-2021/mof_cif_train/mof_unit_14.cif",
         "cif": "nan",
         "_deepnote_index_column": 13
        },
        {
         "MOFname": "mof_unit_15",
         "volume [A^3]": 1769.973982,
         "weight [u]": 945.403413,
         "surface_area [m^2/g]": 1870.11,
         "void_fraction": 0.27705,
         "void_volume [cm^3/g]": 0.3124,
         "functional_groups": "F-OMe",
         "metal_linker": 3,
         "organic_linker1": 4,
         "organic_linker2": 26,
         "topology": "pcu",
         "CO2/N2_selectivity": 17.01166312,
         "heat_adsorption_CO2_P0.15bar_T298K [kcal/mol]": 5.139598,
         "CO2_working_capacity [mL/g]": 62.32762208837283,
         "cif_filepath": "tmlcc-2021/mof_cif_train/mof_unit_15.cif",
         "cif": "nan",
         "_deepnote_index_column": 14
        },
        {
         "MOFname": "mof_unit_16",
         "volume [A^3]": 4282.561071,
         "weight [u]": 2478.166816,
         "surface_area [m^2/g]": 1294.48,
         "void_fraction": 0.2860699999999999,
         "void_volume [cm^3/g]": 0.2977,
         "functional_groups": "OMe-NH2",
         "metal_linker": 10,
         "organic_linker1": 52,
         "organic_linker2": 54,
         "topology": "etb",
         "CO2/N2_selectivity": 19.28955582,
         "heat_adsorption_CO2_P0.15bar_T298K [kcal/mol]": 5.867149,
         "CO2_working_capacity [mL/g]": 54.93615457357025,
         "cif_filepath": "tmlcc-2021/mof_cif_train/mof_unit_16.cif",
         "cif": "nan",
         "_deepnote_index_column": 15
        },
        {
         "MOFname": "mof_unit_17",
         "volume [A^3]": 7840.492345,
         "weight [u]": 4627.98816,
         "surface_area [m^2/g]": 1664.62,
         "void_fraction": 0.2688499999999999,
         "void_volume [cm^3/g]": 0.2742999999999999,
         "functional_groups": "Cl-Pr",
         "metal_linker": 2,
         "organic_linker1": 38,
         "organic_linker2": 41,
         "topology": "fof",
         "CO2/N2_selectivity": 15.894512699999998,
         "heat_adsorption_CO2_P0.15bar_T298K [kcal/mol]": 5.390903,
         "CO2_working_capacity [mL/g]": 98.10944956383052,
         "cif_filepath": "tmlcc-2021/mof_cif_train/mof_unit_17.cif",
         "cif": "nan",
         "_deepnote_index_column": 16
        },
        {
         "MOFname": "mof_unit_18",
         "volume [A^3]": 2252.940492,
         "weight [u]": 1583.399493,
         "surface_area [m^2/g]": 851.0399999999998,
         "void_fraction": 0.15162,
         "void_volume [cm^3/g]": 0.1298999999999999,
         "functional_groups": "Me-F",
         "metal_linker": 2,
         "organic_linker1": 14,
         "organic_linker2": 14,
         "topology": "pcu",
         "CO2/N2_selectivity": 35.34220222,
         "heat_adsorption_CO2_P0.15bar_T298K [kcal/mol]": 7.488088999999999,
         "CO2_working_capacity [mL/g]": 324.0160452431515,
         "cif_filepath": "tmlcc-2021/mof_cif_train/mof_unit_18.cif",
         "cif": "nan",
         "_deepnote_index_column": 17
        },
        {
         "MOFname": "mof_unit_19",
         "volume [A^3]": 2334.528642,
         "weight [u]": 937.8558,
         "surface_area [m^2/g]": 2773.01,
         "void_fraction": 0.41436,
         "void_volume [cm^3/g]": 0.6210999999999999,
         "functional_groups": "SO3H-Pr",
         "metal_linker": 2,
         "organic_linker1": 8,
         "organic_linker2": 10,
         "topology": "pcu",
         "CO2/N2_selectivity": 11.94115719,
         "heat_adsorption_CO2_P0.15bar_T298K [kcal/mol]": 5.547678,
         "CO2_working_capacity [mL/g]": 60.05088633787799,
         "cif_filepath": "tmlcc-2021/mof_cif_train/mof_unit_19.cif",
         "cif": "nan",
         "_deepnote_index_column": 18
        },
        {
         "MOFname": "mof_unit_20",
         "volume [A^3]": 919.305781,
         "weight [u]": 689.1744,
         "surface_area [m^2/g]": 0,
         "void_fraction": 0.0781599999999999,
         "void_volume [cm^3/g]": 0.0627999999999999,
         "functional_groups": "CN",
         "metal_linker": 3,
         "organic_linker1": 10,
         "organic_linker2": 18,
         "topology": "pcu",
         "CO2/N2_selectivity": 47.33272089,
         "heat_adsorption_CO2_P0.15bar_T298K [kcal/mol]": 7.957782,
         "CO2_working_capacity [mL/g]": 136.3873995221212,
         "cif_filepath": "tmlcc-2021/mof_cif_train/mof_unit_20.cif",
         "cif": "nan",
         "_deepnote_index_column": 19
        },
        {
         "MOFname": "mof_unit_21",
         "volume [A^3]": 1585.308617,
         "weight [u]": 866.6691800000001,
         "surface_area [m^2/g]": 1825.67,
         "void_fraction": 0.31685,
         "void_volume [cm^3/g]": 0.3489999999999999,
         "functional_groups": "H-Cl",
         "metal_linker": 3,
         "organic_linker1": 14,
         "organic_linker2": 17,
         "topology": "pcu",
         "CO2/N2_selectivity": 14.56002553,
         "heat_adsorption_CO2_P0.15bar_T298K [kcal/mol]": 5.713488,
         "CO2_working_capacity [mL/g]": 104.97861488065128,
         "cif_filepath": "tmlcc-2021/mof_cif_train/mof_unit_21.cif",
         "cif": "nan",
         "_deepnote_index_column": 20
        },
        {
         "MOFname": "mof_unit_22",
         "volume [A^3]": 3409.7421659999995,
         "weight [u]": 1812.74148,
         "surface_area [m^2/g]": 1922.93,
         "void_fraction": 0.2671999999999999,
         "void_volume [cm^3/g]": 0.3027,
         "functional_groups": "COOH-OH",
         "metal_linker": 9,
         "organic_linker1": 7,
         "organic_linker2": 16,
         "topology": "sra",
         "CO2/N2_selectivity": 40.54284142,
         "heat_adsorption_CO2_P0.15bar_T298K [kcal/mol]": 6.425527,
         "CO2_working_capacity [mL/g]": 230.69959325150907,
         "cif_filepath": "tmlcc-2021/mof_cif_train/mof_unit_22.cif",
         "cif": "nan",
         "_deepnote_index_column": 21
        },
        {
         "MOFname": "mof_unit_23",
         "volume [A^3]": 4366.170427,
         "weight [u]": 1937.4993600000005,
         "surface_area [m^2/g]": 2148.78,
         "void_fraction": 0.2641699999999999,
         "void_volume [cm^3/g]": 0.3584999999999999,
         "functional_groups": "Et-OH",
         "metal_linker": 9,
         "organic_linker1": 18,
         "organic_linker2": 27,
         "topology": "sra",
         "CO2/N2_selectivity": 56.34296165,
         "heat_adsorption_CO2_P0.15bar_T298K [kcal/mol]": 6.857435000000001,
         "CO2_working_capacity [mL/g]": 252.38041691729305,
         "cif_filepath": "tmlcc-2021/mof_cif_train/mof_unit_23.cif",
         "cif": "nan",
         "_deepnote_index_column": 22
        },
        {
         "MOFname": "mof_unit_24",
         "volume [A^3]": 1906.333143,
         "weight [u]": 1033.97772,
         "surface_area [m^2/g]": 1523.05,
         "void_fraction": 0.2350699999999998,
         "void_volume [cm^3/g]": 0.261,
         "functional_groups": "OH-Pr",
         "metal_linker": 2,
         "organic_linker1": 16,
         "organic_linker2": 18,
         "topology": "pcu",
         "CO2/N2_selectivity": 22.9136176,
         "heat_adsorption_CO2_P0.15bar_T298K [kcal/mol]": 6.870048,
         "CO2_working_capacity [mL/g]": 262.6415751431312,
         "cif_filepath": "tmlcc-2021/mof_cif_train/mof_unit_24.cif",
         "cif": "nan",
         "_deepnote_index_column": 23
        },
        {
         "MOFname": "mof_unit_25",
         "volume [A^3]": 1803.619737,
         "weight [u]": 973.70752,
         "surface_area [m^2/g]": 1957.26,
         "void_fraction": 0.27738,
         "void_volume [cm^3/g]": 0.3094,
         "functional_groups": "SO3H-COOH",
         "metal_linker": 2,
         "organic_linker1": 2,
         "organic_linker2": 10,
         "topology": "pcu",
         "CO2/N2_selectivity": 23.01799947,
         "heat_adsorption_CO2_P0.15bar_T298K [kcal/mol]": 6.021285,
         "CO2_working_capacity [mL/g]": 136.52804474104676,
         "cif_filepath": "tmlcc-2021/mof_cif_train/mof_unit_25.cif",
         "cif": "nan",
         "_deepnote_index_column": 24
        },
        {
         "MOFname": "mof_unit_26",
         "volume [A^3]": 2777.131295,
         "weight [u]": 1480.42508,
         "surface_area [m^2/g]": 1135.53,
         "void_fraction": 0.1655599999999999,
         "void_volume [cm^3/g]": 0.187,
         "functional_groups": "OEt-H",
         "metal_linker": 2,
         "organic_linker1": 12,
         "organic_linker2": 29,
         "topology": "pcu",
         "CO2/N2_selectivity": 26.1894427,
         "heat_adsorption_CO2_P0.15bar_T298K [kcal/mol]": 7.153111,
         "CO2_working_capacity [mL/g]": 346.0309838421578,
         "cif_filepath": "tmlcc-2021/mof_cif_train/mof_unit_26.cif",
         "cif": "nan",
         "_deepnote_index_column": 25
        },
        {
         "MOFname": "mof_unit_27",
         "volume [A^3]": 1629.942174,
         "weight [u]": 1093.94384,
         "surface_area [m^2/g]": 1139.7,
         "void_fraction": 0.2069199999999999,
         "void_volume [cm^3/g]": 0.1857,
         "functional_groups": "SO3H-OEt",
         "metal_linker": 2,
         "organic_linker1": 13,
         "organic_linker2": 14,
         "topology": "pcu",
         "CO2/N2_selectivity": 22.47671204,
         "heat_adsorption_CO2_P0.15bar_T298K [kcal/mol]": 6.1497,
         "CO2_working_capacity [mL/g]": 100.479453563965,
         "cif_filepath": "tmlcc-2021/mof_cif_train/mof_unit_27.cif",
         "cif": "nan",
         "_deepnote_index_column": 26
        },
        {
         "MOFname": "mof_unit_28",
         "volume [A^3]": 1208.371986,
         "weight [u]": 655.4740400000001,
         "surface_area [m^2/g]": 2286.28,
         "void_fraction": 0.26882,
         "void_volume [cm^3/g]": 0.2984,
         "functional_groups": "OMe",
         "metal_linker": 2,
         "organic_linker1": 5,
         "organic_linker2": 8,
         "topology": "pcu",
         "CO2/N2_selectivity": 14.97878372,
         "heat_adsorption_CO2_P0.15bar_T298K [kcal/mol]": 5.160807,
         "CO2_working_capacity [mL/g]": 75.63295693651922,
         "cif_filepath": "tmlcc-2021/mof_cif_train/mof_unit_28.cif",
         "cif": "nan",
         "_deepnote_index_column": 27
        },
        {
         "MOFname": "mof_unit_29",
         "volume [A^3]": 8686.956791,
         "weight [u]": 4552.65248,
         "surface_area [m^2/g]": 1765.83,
         "void_fraction": 0.2883399999999999,
         "void_volume [cm^3/g]": 0.3312999999999999,
         "functional_groups": "Pr-NO2",
         "metal_linker": 1,
         "organic_linker1": 5,
         "organic_linker2": 17,
         "topology": "pcu",
         "CO2/N2_selectivity": 14.96061853,
         "heat_adsorption_CO2_P0.15bar_T298K [kcal/mol]": 5.359237,
         "CO2_working_capacity [mL/g]": 69.87261079284771,
         "cif_filepath": "tmlcc-2021/mof_cif_train/mof_unit_29.cif",
         "cif": "nan",
         "_deepnote_index_column": 28
        },
        {
         "MOFname": "mof_unit_30",
         "volume [A^3]": 1824.319922,
         "weight [u]": 1059.29236,
         "surface_area [m^2/g]": 2112.92,
         "void_fraction": 0.31239,
         "void_volume [cm^3/g]": 0.324,
         "functional_groups": "Et-Br",
         "metal_linker": 2,
         "organic_linker1": 4,
         "organic_linker2": 7,
         "topology": "pcu",
         "CO2/N2_selectivity": 11.22829945,
         "heat_adsorption_CO2_P0.15bar_T298K [kcal/mol]": 5.341077,
         "CO2_working_capacity [mL/g]": 66.1344523626015,
         "cif_filepath": "tmlcc-2021/mof_cif_train/mof_unit_30.cif",
         "cif": "nan",
         "_deepnote_index_column": 29
        },
        {
         "MOFname": "mof_unit_31",
         "volume [A^3]": 2270.674945,
         "weight [u]": 1520.58351,
         "surface_area [m^2/g]": 1474,
         "void_fraction": 0.2485499999999999,
         "void_volume [cm^3/g]": 0.2235,
         "functional_groups": "OH-F",
         "metal_linker": 4,
         "organic_linker1": 4,
         "organic_linker2": 19,
         "topology": "acs",
         "CO2/N2_selectivity": 25.46720601,
         "heat_adsorption_CO2_P0.15bar_T298K [kcal/mol]": 6.200198,
         "CO2_working_capacity [mL/g]": 84.0399753748314,
         "cif_filepath": "tmlcc-2021/mof_cif_train/mof_unit_31.cif",
         "cif": "nan",
         "_deepnote_index_column": 30
        }
       ],
       "rows_bottom": [
        {
         "MOFname": "mof_unit_68583",
         "volume [A^3]": 1116.795338,
         "weight [u]": 883.4779,
         "surface_area [m^2/g]": 0,
         "void_fraction": 0,
         "void_volume [cm^3/g]": 0,
         "functional_groups": "OEt-OMe",
         "metal_linker": 3,
         "organic_linker1": 4,
         "organic_linker2": 24,
         "topology": "pcu",
         "CO2/N2_selectivity": 0,
         "heat_adsorption_CO2_P0.15bar_T298K [kcal/mol]": "nan",
         "CO2_working_capacity [mL/g]": -2.8724970123521474,
         "cif_filepath": "tmlcc-2021/mof_cif_train/mof_unit_68583.cif",
         "cif": "nan",
         "_deepnote_index_column": 68582
        },
        {
         "MOFname": "mof_unit_68584",
         "volume [A^3]": 2212.049076,
         "weight [u]": 2310.726916,
         "surface_area [m^2/g]": 0,
         "void_fraction": 0,
         "void_volume [cm^3/g]": 0,
         "functional_groups": "COOH-NHMe",
         "metal_linker": 10,
         "organic_linker1": 45,
         "organic_linker2": 50,
         "topology": "etb",
         "CO2/N2_selectivity": 33.08578745,
         "heat_adsorption_CO2_P0.15bar_T298K [kcal/mol]": "nan",
         "CO2_working_capacity [mL/g]": -2.8898300498957936,
         "cif_filepath": "tmlcc-2021/mof_cif_train/mof_unit_68584.cif",
         "cif": "nan",
         "_deepnote_index_column": 68583
        },
        {
         "MOFname": "mof_unit_68585",
         "volume [A^3]": 1211.599818,
         "weight [u]": 1048.08888,
         "surface_area [m^2/g]": 0,
         "void_fraction": 0,
         "void_volume [cm^3/g]": 0,
         "functional_groups": "OPr",
         "metal_linker": 2,
         "organic_linker1": 9,
         "organic_linker2": 12,
         "topology": "pcu",
         "CO2/N2_selectivity": 0,
         "heat_adsorption_CO2_P0.15bar_T298K [kcal/mol]": "nan",
         "CO2_working_capacity [mL/g]": -2.940178397046383,
         "cif_filepath": "tmlcc-2021/mof_cif_train/mof_unit_68585.cif",
         "cif": "nan",
         "_deepnote_index_column": 68584
        },
        {
         "MOFname": "mof_unit_68586",
         "volume [A^3]": 1771.7286170000002,
         "weight [u]": 1731.940296,
         "surface_area [m^2/g]": 0,
         "void_fraction": 0,
         "void_volume [cm^3/g]": 0,
         "functional_groups": "OMe-Cl",
         "metal_linker": 10,
         "organic_linker1": 48,
         "organic_linker2": 48,
         "topology": "etb",
         "CO2/N2_selectivity": 0,
         "heat_adsorption_CO2_P0.15bar_T298K [kcal/mol]": "nan",
         "CO2_working_capacity [mL/g]": -3.2523381493800363,
         "cif_filepath": "tmlcc-2021/mof_cif_train/mof_unit_68586.cif",
         "cif": "nan",
         "_deepnote_index_column": 68585
        },
        {
         "MOFname": "mof_unit_68587",
         "volume [A^3]": 851.7015679999998,
         "weight [u]": 731.33212,
         "surface_area [m^2/g]": 0,
         "void_fraction": 0,
         "void_volume [cm^3/g]": 0,
         "functional_groups": "OPr-Ph",
         "metal_linker": 3,
         "organic_linker1": 10,
         "organic_linker2": 16,
         "topology": "pcu",
         "CO2/N2_selectivity": 0.02033596,
         "heat_adsorption_CO2_P0.15bar_T298K [kcal/mol]": "nan",
         "CO2_working_capacity [mL/g]": -3.347422241048035,
         "cif_filepath": "tmlcc-2021/mof_cif_train/mof_unit_68587.cif",
         "cif": "nan",
         "_deepnote_index_column": 68586
        },
        {
         "MOFname": "mof_unit_68588",
         "volume [A^3]": 1970.167148,
         "weight [u]": 1713.31308,
         "surface_area [m^2/g]": 0,
         "void_fraction": 0,
         "void_volume [cm^3/g]": 0,
         "functional_groups": "OPr-OMe",
         "metal_linker": 9,
         "organic_linker1": 16,
         "organic_linker2": 22,
         "topology": "sra",
         "CO2/N2_selectivity": 0,
         "heat_adsorption_CO2_P0.15bar_T298K [kcal/mol]": "nan",
         "CO2_working_capacity [mL/g]": -3.3878659953165413,
         "cif_filepath": "tmlcc-2021/mof_cif_train/mof_unit_68588.cif",
         "cif": "nan",
         "_deepnote_index_column": 68587
        },
        {
         "MOFname": "mof_unit_68589",
         "volume [A^3]": 1895.556284,
         "weight [u]": 1970.615256,
         "surface_area [m^2/g]": 0,
         "void_fraction": 0,
         "void_volume [cm^3/g]": 0,
         "functional_groups": "NO2-Et",
         "metal_linker": 10,
         "organic_linker1": 42,
         "organic_linker2": 49,
         "topology": "etb",
         "CO2/N2_selectivity": 0,
         "heat_adsorption_CO2_P0.15bar_T298K [kcal/mol]": "nan",
         "CO2_working_capacity [mL/g]": -3.409986252753193,
         "cif_filepath": "tmlcc-2021/mof_cif_train/mof_unit_68589.cif",
         "cif": "nan",
         "_deepnote_index_column": 68588
        },
        {
         "MOFname": "mof_unit_68590",
         "volume [A^3]": 2981.283155,
         "weight [u]": 2629.06624,
         "surface_area [m^2/g]": 0,
         "void_fraction": 0.0048599999999999,
         "void_volume [cm^3/g]": 0,
         "functional_groups": "Cl-CN",
         "metal_linker": 9,
         "organic_linker1": 18,
         "organic_linker2": 29,
         "topology": "sra",
         "CO2/N2_selectivity": 4.613800749,
         "heat_adsorption_CO2_P0.15bar_T298K [kcal/mol]": "nan",
         "CO2_working_capacity [mL/g]": -3.478823173283671,
         "cif_filepath": "tmlcc-2021/mof_cif_train/mof_unit_68590.cif",
         "cif": "nan",
         "_deepnote_index_column": 68589
        },
        {
         "MOFname": "mof_unit_68591",
         "volume [A^3]": 2046.621875,
         "weight [u]": 2107.834824,
         "surface_area [m^2/g]": 0,
         "void_fraction": 0,
         "void_volume [cm^3/g]": 0,
         "functional_groups": "Me-F",
         "metal_linker": 10,
         "organic_linker1": 47,
         "organic_linker2": 50,
         "topology": "etb",
         "CO2/N2_selectivity": 7.488249221,
         "heat_adsorption_CO2_P0.15bar_T298K [kcal/mol]": "nan",
         "CO2_working_capacity [mL/g]": -3.551126701322879,
         "cif_filepath": "tmlcc-2021/mof_cif_train/mof_unit_68591.cif",
         "cif": "nan",
         "_deepnote_index_column": 68590
        },
        {
         "MOFname": "mof_unit_68592",
         "volume [A^3]": 1502.968949,
         "weight [u]": 1527.332636,
         "surface_area [m^2/g]": 0,
         "void_fraction": 0,
         "void_volume [cm^3/g]": 0,
         "functional_groups": "H-OMe",
         "metal_linker": 10,
         "organic_linker1": 46,
         "organic_linker2": 48,
         "topology": "etb",
         "CO2/N2_selectivity": 0,
         "heat_adsorption_CO2_P0.15bar_T298K [kcal/mol]": "nan",
         "CO2_working_capacity [mL/g]": -3.5747326476918437,
         "cif_filepath": "tmlcc-2021/mof_cif_train/mof_unit_68592.cif",
         "cif": "nan",
         "_deepnote_index_column": 68591
        },
        {
         "MOFname": "mof_unit_68593",
         "volume [A^3]": 1154.248742,
         "weight [u]": 990.01964,
         "surface_area [m^2/g]": 0,
         "void_fraction": 0,
         "void_volume [cm^3/g]": 0,
         "functional_groups": "NHMe",
         "metal_linker": 2,
         "organic_linker1": 9,
         "organic_linker2": 12,
         "topology": "pcu",
         "CO2/N2_selectivity": 0,
         "heat_adsorption_CO2_P0.15bar_T298K [kcal/mol]": "nan",
         "CO2_working_capacity [mL/g]": -3.7774466486784775,
         "cif_filepath": "tmlcc-2021/mof_cif_train/mof_unit_68593.cif",
         "cif": "nan",
         "_deepnote_index_column": 68592
        },
        {
         "MOFname": "mof_unit_68594",
         "volume [A^3]": 1524.505449,
         "weight [u]": 1685.041936,
         "surface_area [m^2/g]": 0,
         "void_fraction": 0.0069899999999999,
         "void_volume [cm^3/g]": 0,
         "functional_groups": "NO2-Br",
         "metal_linker": 10,
         "organic_linker1": 46,
         "organic_linker2": 48,
         "topology": "etb",
         "CO2/N2_selectivity": 9.460790768,
         "heat_adsorption_CO2_P0.15bar_T298K [kcal/mol]": "nan",
         "CO2_working_capacity [mL/g]": -3.792633691097672,
         "cif_filepath": "tmlcc-2021/mof_cif_train/mof_unit_68594.cif",
         "cif": "nan",
         "_deepnote_index_column": 68593
        },
        {
         "MOFname": "mof_unit_68595",
         "volume [A^3]": 1652.258112,
         "weight [u]": 1766.5988,
         "surface_area [m^2/g]": 0,
         "void_fraction": 0,
         "void_volume [cm^3/g]": 0,
         "functional_groups": "OH-NO2",
         "metal_linker": 9,
         "organic_linker1": 2,
         "organic_linker2": 22,
         "topology": "sra",
         "CO2/N2_selectivity": 0,
         "heat_adsorption_CO2_P0.15bar_T298K [kcal/mol]": "nan",
         "CO2_working_capacity [mL/g]": -3.942523196713197,
         "cif_filepath": "tmlcc-2021/mof_cif_train/mof_unit_68595.cif",
         "cif": "nan",
         "_deepnote_index_column": 68594
        },
        {
         "MOFname": "mof_unit_68596",
         "volume [A^3]": 3760.489888,
         "weight [u]": 3343.200672,
         "surface_area [m^2/g]": 0,
         "void_fraction": 0.0122099999999999,
         "void_volume [cm^3/g]": 0,
         "functional_groups": "NHMe-H",
         "metal_linker": 10,
         "organic_linker1": 42,
         "organic_linker2": 42,
         "topology": "etb",
         "CO2/N2_selectivity": 0.2271604939999999,
         "heat_adsorption_CO2_P0.15bar_T298K [kcal/mol]": "nan",
         "CO2_working_capacity [mL/g]": -4.115523419053584,
         "cif_filepath": "tmlcc-2021/mof_cif_train/mof_unit_68596.cif",
         "cif": "nan",
         "_deepnote_index_column": 68595
        },
        {
         "MOFname": "mof_unit_68597",
         "volume [A^3]": 3320.078141,
         "weight [u]": 3090.5876,
         "surface_area [m^2/g]": 0,
         "void_fraction": 0,
         "void_volume [cm^3/g]": 0,
         "functional_groups": "Me-OMe",
         "metal_linker": 9,
         "organic_linker1": 18,
         "organic_linker2": 29,
         "topology": "sra",
         "CO2/N2_selectivity": 0,
         "heat_adsorption_CO2_P0.15bar_T298K [kcal/mol]": "nan",
         "CO2_working_capacity [mL/g]": -4.142265819835208,
         "cif_filepath": "tmlcc-2021/mof_cif_train/mof_unit_68597.cif",
         "cif": "nan",
         "_deepnote_index_column": 68596
        },
        {
         "MOFname": "mof_unit_68598",
         "volume [A^3]": 1621.161289,
         "weight [u]": 1292.77096,
         "surface_area [m^2/g]": 0,
         "void_fraction": 0,
         "void_volume [cm^3/g]": 0,
         "functional_groups": "Me-OEt",
         "metal_linker": 9,
         "organic_linker1": 12,
         "organic_linker2": 12,
         "topology": "sra",
         "CO2/N2_selectivity": 4082.551111,
         "heat_adsorption_CO2_P0.15bar_T298K [kcal/mol]": "nan",
         "CO2_working_capacity [mL/g]": -4.267228766697491,
         "cif_filepath": "tmlcc-2021/mof_cif_train/mof_unit_68598.cif",
         "cif": "nan",
         "_deepnote_index_column": 68597
        },
        {
         "MOFname": "mof_unit_68599",
         "volume [A^3]": 1716.981598,
         "weight [u]": 2211.8456,
         "surface_area [m^2/g]": 0,
         "void_fraction": 0,
         "void_volume [cm^3/g]": 0,
         "functional_groups": "Br-COOH",
         "metal_linker": 9,
         "organic_linker1": 22,
         "organic_linker2": 22,
         "topology": "sra",
         "CO2/N2_selectivity": 0,
         "heat_adsorption_CO2_P0.15bar_T298K [kcal/mol]": "nan",
         "CO2_working_capacity [mL/g]": -4.289844253778246,
         "cif_filepath": "tmlcc-2021/mof_cif_train/mof_unit_68599.cif",
         "cif": "nan",
         "_deepnote_index_column": 68598
        },
        {
         "MOFname": "mof_unit_68600",
         "volume [A^3]": 1174.62717,
         "weight [u]": 1649.17081,
         "surface_area [m^2/g]": 0,
         "void_fraction": 0,
         "void_volume [cm^3/g]": 0,
         "functional_groups": "COOH-I",
         "metal_linker": 2,
         "organic_linker1": 14,
         "organic_linker2": 22,
         "topology": "pcu",
         "CO2/N2_selectivity": 2276.833333,
         "heat_adsorption_CO2_P0.15bar_T298K [kcal/mol]": "nan",
         "CO2_working_capacity [mL/g]": -4.46383493540684,
         "cif_filepath": "tmlcc-2021/mof_cif_train/mof_unit_68600.cif",
         "cif": "nan",
         "_deepnote_index_column": 68599
        },
        {
         "MOFname": "mof_unit_68601",
         "volume [A^3]": 1132.348176,
         "weight [u]": 903.87744,
         "surface_area [m^2/g]": 0,
         "void_fraction": 0,
         "void_volume [cm^3/g]": 0,
         "functional_groups": "OEt",
         "metal_linker": 2,
         "organic_linker1": 9,
         "organic_linker2": 12,
         "topology": "pcu",
         "CO2/N2_selectivity": 546.3466667,
         "heat_adsorption_CO2_P0.15bar_T298K [kcal/mol]": "nan",
         "CO2_working_capacity [mL/g]": -5.648259167555951,
         "cif_filepath": "tmlcc-2021/mof_cif_train/mof_unit_68601.cif",
         "cif": "nan",
         "_deepnote_index_column": 68600
        },
        {
         "MOFname": "mof_unit_68602",
         "volume [A^3]": 1131.069889,
         "weight [u]": 895.9516800000001,
         "surface_area [m^2/g]": 0,
         "void_fraction": 0,
         "void_volume [cm^3/g]": 0,
         "functional_groups": "NHMe-OEt",
         "metal_linker": 2,
         "organic_linker1": 4,
         "organic_linker2": 22,
         "topology": "pcu",
         "CO2/N2_selectivity": 454.265353,
         "heat_adsorption_CO2_P0.15bar_T298K [kcal/mol]": "nan",
         "CO2_working_capacity [mL/g]": -5.789564692673669,
         "cif_filepath": "tmlcc-2021/mof_cif_train/mof_unit_68602.cif",
         "cif": "nan",
         "_deepnote_index_column": 68601
        },
        {
         "MOFname": "mof_unit_68603",
         "volume [A^3]": 1046.560841,
         "weight [u]": 967.52096,
         "surface_area [m^2/g]": 0,
         "void_fraction": 0,
         "void_volume [cm^3/g]": 0,
         "functional_groups": "CN-Ph",
         "metal_linker": 3,
         "organic_linker1": 10,
         "organic_linker2": 17,
         "topology": "pcu",
         "CO2/N2_selectivity": 0,
         "heat_adsorption_CO2_P0.15bar_T298K [kcal/mol]": "nan",
         "CO2_working_capacity [mL/g]": -6.190205474753933,
         "cif_filepath": "tmlcc-2021/mof_cif_train/mof_unit_68603.cif",
         "cif": "nan",
         "_deepnote_index_column": 68602
        },
        {
         "MOFname": "mof_unit_68604",
         "volume [A^3]": 699.494867,
         "weight [u]": 653.1773599999999,
         "surface_area [m^2/g]": 0,
         "void_fraction": 0,
         "void_volume [cm^3/g]": 0,
         "functional_groups": "SO3H-Me",
         "metal_linker": 3,
         "organic_linker1": 10,
         "organic_linker2": 24,
         "topology": "pcu",
         "CO2/N2_selectivity": 15.60473156,
         "heat_adsorption_CO2_P0.15bar_T298K [kcal/mol]": "nan",
         "CO2_working_capacity [mL/g]": -6.788277808283721,
         "cif_filepath": "tmlcc-2021/mof_cif_train/mof_unit_68604.cif",
         "cif": "nan",
         "_deepnote_index_column": 68603
        },
        {
         "MOFname": "mof_unit_68605",
         "volume [A^3]": 1508.12951,
         "weight [u]": 1517.382416,
         "surface_area [m^2/g]": 0,
         "void_fraction": 0,
         "void_volume [cm^3/g]": 0,
         "functional_groups": "Et",
         "metal_linker": 10,
         "organic_linker1": 46,
         "organic_linker2": 49,
         "topology": "etb",
         "CO2/N2_selectivity": 9.974765376,
         "heat_adsorption_CO2_P0.15bar_T298K [kcal/mol]": "nan",
         "CO2_working_capacity [mL/g]": -6.85959087703472,
         "cif_filepath": "tmlcc-2021/mof_cif_train/mof_unit_68605.cif",
         "cif": "nan",
         "_deepnote_index_column": 68604
        },
        {
         "MOFname": "mof_unit_68606",
         "volume [A^3]": 2112.326167,
         "weight [u]": 1977.49208,
         "surface_area [m^2/g]": 0,
         "void_fraction": 0,
         "void_volume [cm^3/g]": 0,
         "functional_groups": "OPr",
         "metal_linker": 4,
         "organic_linker1": 14,
         "organic_linker2": 14,
         "topology": "acs",
         "CO2/N2_selectivity": 3.233981158,
         "heat_adsorption_CO2_P0.15bar_T298K [kcal/mol]": "nan",
         "CO2_working_capacity [mL/g]": -7.204435785879248,
         "cif_filepath": "tmlcc-2021/mof_cif_train/mof_unit_68606.cif",
         "cif": "nan",
         "_deepnote_index_column": 68605
        },
        {
         "MOFname": "mof_unit_68607",
         "volume [A^3]": 949.067112,
         "weight [u]": 753.7875199999999,
         "surface_area [m^2/g]": 0,
         "void_fraction": 0,
         "void_volume [cm^3/g]": 0,
         "functional_groups": "Pr",
         "metal_linker": 2,
         "organic_linker1": 10,
         "organic_linker2": 18,
         "topology": "pcu",
         "CO2/N2_selectivity": 0,
         "heat_adsorption_CO2_P0.15bar_T298K [kcal/mol]": "nan",
         "CO2_working_capacity [mL/g]": -9.124771269167136,
         "cif_filepath": "tmlcc-2021/mof_cif_train/mof_unit_68607.cif",
         "cif": "nan",
         "_deepnote_index_column": 68606
        },
        {
         "MOFname": "mof_unit_68608",
         "volume [A^3]": 1202.182553,
         "weight [u]": 1042.53824,
         "surface_area [m^2/g]": 0,
         "void_fraction": 0,
         "void_volume [cm^3/g]": 0,
         "functional_groups": "Ph-Cl",
         "metal_linker": 3,
         "organic_linker1": 12,
         "organic_linker2": 24,
         "topology": "pcu",
         "CO2/N2_selectivity": 0,
         "heat_adsorption_CO2_P0.15bar_T298K [kcal/mol]": "nan",
         "CO2_working_capacity [mL/g]": -10.954314651035927,
         "cif_filepath": "tmlcc-2021/mof_cif_train/mof_unit_68608.cif",
         "cif": "nan",
         "_deepnote_index_column": 68607
        },
        {
         "MOFname": "mof_unit_68609",
         "volume [A^3]": 1188.302573,
         "weight [u]": 1001.700216,
         "surface_area [m^2/g]": 0,
         "void_fraction": 0,
         "void_volume [cm^3/g]": 0,
         "functional_groups": "Pr-F",
         "metal_linker": 3,
         "organic_linker1": 4,
         "organic_linker2": 24,
         "topology": "pcu",
         "CO2/N2_selectivity": 24.13177036,
         "heat_adsorption_CO2_P0.15bar_T298K [kcal/mol]": "nan",
         "CO2_working_capacity [mL/g]": -12.943652131402327,
         "cif_filepath": "tmlcc-2021/mof_cif_train/mof_unit_68609.cif",
         "cif": "nan",
         "_deepnote_index_column": 68608
        },
        {
         "MOFname": "mof_unit_68610",
         "volume [A^3]": 1506.6603630000002,
         "weight [u]": 1493.2964960000002,
         "surface_area [m^2/g]": 0,
         "void_fraction": 0.01108,
         "void_volume [cm^3/g]": 0,
         "functional_groups": "SO3H",
         "metal_linker": 10,
         "organic_linker1": 42,
         "organic_linker2": 46,
         "topology": "etb",
         "CO2/N2_selectivity": 6.071817778,
         "heat_adsorption_CO2_P0.15bar_T298K [kcal/mol]": "nan",
         "CO2_working_capacity [mL/g]": -12.985581574603149,
         "cif_filepath": "tmlcc-2021/mof_cif_train/mof_unit_68610.cif",
         "cif": "nan",
         "_deepnote_index_column": 68609
        },
        {
         "MOFname": "mof_unit_68611",
         "volume [A^3]": 2035.532738,
         "weight [u]": 1959.51832,
         "surface_area [m^2/g]": 0,
         "void_fraction": 0,
         "void_volume [cm^3/g]": 0,
         "functional_groups": "OPr",
         "metal_linker": 4,
         "organic_linker1": 14,
         "organic_linker2": 22,
         "topology": "acs",
         "CO2/N2_selectivity": 9.876133998,
         "heat_adsorption_CO2_P0.15bar_T298K [kcal/mol]": "nan",
         "CO2_working_capacity [mL/g]": -13.187635269397644,
         "cif_filepath": "tmlcc-2021/mof_cif_train/mof_unit_68611.cif",
         "cif": "nan",
         "_deepnote_index_column": 68610
        },
        {
         "MOFname": "mof_unit_68612",
         "volume [A^3]": 3985.426053,
         "weight [u]": 3638.67728,
         "surface_area [m^2/g]": 0,
         "void_fraction": 0,
         "void_volume [cm^3/g]": 0,
         "functional_groups": "OPr-Me",
         "metal_linker": 4,
         "organic_linker1": 4,
         "organic_linker2": 15,
         "topology": "acs",
         "CO2/N2_selectivity": 5.285050632,
         "heat_adsorption_CO2_P0.15bar_T298K [kcal/mol]": "inf",
         "CO2_working_capacity [mL/g]": 15.672697623512306,
         "cif_filepath": "tmlcc-2021/mof_cif_train/mof_unit_68612.cif",
         "cif": "nan",
         "_deepnote_index_column": 68611
        },
        {
         "MOFname": "mof_unit_68613",
         "volume [A^3]": 1591.009408,
         "weight [u]": 2071.219,
         "surface_area [m^2/g]": 0,
         "void_fraction": 0.01609,
         "void_volume [cm^3/g]": 0,
         "functional_groups": "I-OEt",
         "metal_linker": 2,
         "organic_linker1": 9,
         "organic_linker2": 16,
         "topology": "pcu",
         "CO2/N2_selectivity": 2.621271792,
         "heat_adsorption_CO2_P0.15bar_T298K [kcal/mol]": "inf",
         "CO2_working_capacity [mL/g]": 3.1447082400614,
         "cif_filepath": "tmlcc-2021/mof_cif_train/mof_unit_68613.cif",
         "cif": "nan",
         "_deepnote_index_column": 68612
        }
       ]
      },
      "text/plain": "              MOFname  volume [A^3]   weight [u]  surface_area [m^2/g]  \\\n0          mof_unit_1   1116.667429   875.240600                  0.00   \n1          mof_unit_2   2769.503842  2211.697211                603.61   \n2          mof_unit_3   1089.818728   773.687960                788.50   \n3          mof_unit_4   2205.198301  1304.638720               1441.53   \n4          mof_unit_5   1137.800963   901.736120                  0.00   \n...               ...           ...          ...                   ...   \n68608  mof_unit_68609   1188.302573  1001.700216                  0.00   \n68609  mof_unit_68610   1506.660363  1493.296496                  0.00   \n68610  mof_unit_68611   2035.532738  1959.518320                  0.00   \n68611  mof_unit_68612   3985.426053  3638.677280                  0.00   \n68612  mof_unit_68613   1591.009408  2071.219000                  0.00   \n\n       void_fraction  void_volume [cm^3/g] functional_groups  metal_linker  \\\n0            0.07899                0.0607          COOH-OEt             3   \n1            0.13794                0.1040             F-OMe            10   \n2            0.14874                0.1262          OMe-COOH             2   \n3            0.21814                0.2220            H-SO3H             9   \n4            0.07778                0.0591           NHMe-OH             2   \n...              ...                   ...               ...           ...   \n68608        0.00000                0.0000              Pr-F             3   \n68609        0.01108                0.0000              SO3H            10   \n68610        0.00000                0.0000               OPr             4   \n68611        0.00000                0.0000            OPr-Me             4   \n68612        0.01609                0.0000             I-OEt             2   \n\n       organic_linker1  organic_linker2 topology  CO2/N2_selectivity  \\\n0                    4               11      pcu           22.864166   \n1                   44               57      etb           33.616780   \n2                   22               24      pcu           19.263726   \n3                   17               24      sra           25.701377   \n4                    1               22      pcu           30.001838   \n...                ...              ...      ...                 ...   \n68608                4               24      pcu           24.131770   \n68609               42               46      etb            6.071818   \n68610               14               22      acs            9.876134   \n68611                4               15      acs            5.285051   \n68612                9               16      pcu            2.621272   \n\n       heat_adsorption_CO2_P0.15bar_T298K [kcal/mol]  \\\n0                                           6.786041   \n1                                           7.147286   \n2                                           6.347967   \n3                                           6.190085   \n4                                           6.478063   \n...                                              ...   \n68608                                            NaN   \n68609                                            NaN   \n68610                                            NaN   \n68611                                            inf   \n68612                                            inf   \n\n       CO2_working_capacity [mL/g]  \\\n0                       105.284502   \n1                       101.224774   \n2                       118.987011   \n3                       187.626004   \n4                        79.210001   \n...                            ...   \n68608                   -12.943652   \n68609                   -12.985582   \n68610                   -13.187635   \n68611                    15.672698   \n68612                     3.144708   \n\n                                      cif_filepath  cif  \n0          tmlcc-2021/mof_cif_train/mof_unit_1.cif  1.0  \n1          tmlcc-2021/mof_cif_train/mof_unit_2.cif  NaN  \n2          tmlcc-2021/mof_cif_train/mof_unit_3.cif  NaN  \n3          tmlcc-2021/mof_cif_train/mof_unit_4.cif  NaN  \n4          tmlcc-2021/mof_cif_train/mof_unit_5.cif  NaN  \n...                                            ...  ...  \n68608  tmlcc-2021/mof_cif_train/mof_unit_68609.cif  NaN  \n68609  tmlcc-2021/mof_cif_train/mof_unit_68610.cif  NaN  \n68610  tmlcc-2021/mof_cif_train/mof_unit_68611.cif  NaN  \n68611  tmlcc-2021/mof_cif_train/mof_unit_68612.cif  NaN  \n68612  tmlcc-2021/mof_cif_train/mof_unit_68613.cif  NaN  \n\n[68613 rows x 16 columns]",
      "text/html": "<div>\n<style scoped>\n    .dataframe tbody tr th:only-of-type {\n        vertical-align: middle;\n    }\n\n    .dataframe tbody tr th {\n        vertical-align: top;\n    }\n\n    .dataframe thead th {\n        text-align: right;\n    }\n</style>\n<table border=\"1\" class=\"dataframe\">\n  <thead>\n    <tr style=\"text-align: right;\">\n      <th></th>\n      <th>MOFname</th>\n      <th>volume [A^3]</th>\n      <th>weight [u]</th>\n      <th>surface_area [m^2/g]</th>\n      <th>void_fraction</th>\n      <th>void_volume [cm^3/g]</th>\n      <th>functional_groups</th>\n      <th>metal_linker</th>\n      <th>organic_linker1</th>\n      <th>organic_linker2</th>\n      <th>topology</th>\n      <th>CO2/N2_selectivity</th>\n      <th>heat_adsorption_CO2_P0.15bar_T298K [kcal/mol]</th>\n      <th>CO2_working_capacity [mL/g]</th>\n      <th>cif_filepath</th>\n      <th>cif</th>\n    </tr>\n  </thead>\n  <tbody>\n    <tr>\n      <th>0</th>\n      <td>mof_unit_1</td>\n      <td>1116.667429</td>\n      <td>875.240600</td>\n      <td>0.00</td>\n      <td>0.07899</td>\n      <td>0.0607</td>\n      <td>COOH-OEt</td>\n      <td>3</td>\n      <td>4</td>\n      <td>11</td>\n      <td>pcu</td>\n      <td>22.864166</td>\n      <td>6.786041</td>\n      <td>105.284502</td>\n      <td>tmlcc-2021/mof_cif_train/mof_unit_1.cif</td>\n      <td>1.0</td>\n    </tr>\n    <tr>\n      <th>1</th>\n      <td>mof_unit_2</td>\n      <td>2769.503842</td>\n      <td>2211.697211</td>\n      <td>603.61</td>\n      <td>0.13794</td>\n      <td>0.1040</td>\n      <td>F-OMe</td>\n      <td>10</td>\n      <td>44</td>\n      <td>57</td>\n      <td>etb</td>\n      <td>33.616780</td>\n      <td>7.147286</td>\n      <td>101.224774</td>\n      <td>tmlcc-2021/mof_cif_train/mof_unit_2.cif</td>\n      <td>NaN</td>\n    </tr>\n    <tr>\n      <th>2</th>\n      <td>mof_unit_3</td>\n      <td>1089.818728</td>\n      <td>773.687960</td>\n      <td>788.50</td>\n      <td>0.14874</td>\n      <td>0.1262</td>\n      <td>OMe-COOH</td>\n      <td>2</td>\n      <td>22</td>\n      <td>24</td>\n      <td>pcu</td>\n      <td>19.263726</td>\n      <td>6.347967</td>\n      <td>118.987011</td>\n      <td>tmlcc-2021/mof_cif_train/mof_unit_3.cif</td>\n      <td>NaN</td>\n    </tr>\n    <tr>\n      <th>3</th>\n      <td>mof_unit_4</td>\n      <td>2205.198301</td>\n      <td>1304.638720</td>\n      <td>1441.53</td>\n      <td>0.21814</td>\n      <td>0.2220</td>\n      <td>H-SO3H</td>\n      <td>9</td>\n      <td>17</td>\n      <td>24</td>\n      <td>sra</td>\n      <td>25.701377</td>\n      <td>6.190085</td>\n      <td>187.626004</td>\n      <td>tmlcc-2021/mof_cif_train/mof_unit_4.cif</td>\n      <td>NaN</td>\n    </tr>\n    <tr>\n      <th>4</th>\n      <td>mof_unit_5</td>\n      <td>1137.800963</td>\n      <td>901.736120</td>\n      <td>0.00</td>\n      <td>0.07778</td>\n      <td>0.0591</td>\n      <td>NHMe-OH</td>\n      <td>2</td>\n      <td>1</td>\n      <td>22</td>\n      <td>pcu</td>\n      <td>30.001838</td>\n      <td>6.478063</td>\n      <td>79.210001</td>\n      <td>tmlcc-2021/mof_cif_train/mof_unit_5.cif</td>\n      <td>NaN</td>\n    </tr>\n    <tr>\n      <th>...</th>\n      <td>...</td>\n      <td>...</td>\n      <td>...</td>\n      <td>...</td>\n      <td>...</td>\n      <td>...</td>\n      <td>...</td>\n      <td>...</td>\n      <td>...</td>\n      <td>...</td>\n      <td>...</td>\n      <td>...</td>\n      <td>...</td>\n      <td>...</td>\n      <td>...</td>\n      <td>...</td>\n    </tr>\n    <tr>\n      <th>68608</th>\n      <td>mof_unit_68609</td>\n      <td>1188.302573</td>\n      <td>1001.700216</td>\n      <td>0.00</td>\n      <td>0.00000</td>\n      <td>0.0000</td>\n      <td>Pr-F</td>\n      <td>3</td>\n      <td>4</td>\n      <td>24</td>\n      <td>pcu</td>\n      <td>24.131770</td>\n      <td>NaN</td>\n      <td>-12.943652</td>\n      <td>tmlcc-2021/mof_cif_train/mof_unit_68609.cif</td>\n      <td>NaN</td>\n    </tr>\n    <tr>\n      <th>68609</th>\n      <td>mof_unit_68610</td>\n      <td>1506.660363</td>\n      <td>1493.296496</td>\n      <td>0.00</td>\n      <td>0.01108</td>\n      <td>0.0000</td>\n      <td>SO3H</td>\n      <td>10</td>\n      <td>42</td>\n      <td>46</td>\n      <td>etb</td>\n      <td>6.071818</td>\n      <td>NaN</td>\n      <td>-12.985582</td>\n      <td>tmlcc-2021/mof_cif_train/mof_unit_68610.cif</td>\n      <td>NaN</td>\n    </tr>\n    <tr>\n      <th>68610</th>\n      <td>mof_unit_68611</td>\n      <td>2035.532738</td>\n      <td>1959.518320</td>\n      <td>0.00</td>\n      <td>0.00000</td>\n      <td>0.0000</td>\n      <td>OPr</td>\n      <td>4</td>\n      <td>14</td>\n      <td>22</td>\n      <td>acs</td>\n      <td>9.876134</td>\n      <td>NaN</td>\n      <td>-13.187635</td>\n      <td>tmlcc-2021/mof_cif_train/mof_unit_68611.cif</td>\n      <td>NaN</td>\n    </tr>\n    <tr>\n      <th>68611</th>\n      <td>mof_unit_68612</td>\n      <td>3985.426053</td>\n      <td>3638.677280</td>\n      <td>0.00</td>\n      <td>0.00000</td>\n      <td>0.0000</td>\n      <td>OPr-Me</td>\n      <td>4</td>\n      <td>4</td>\n      <td>15</td>\n      <td>acs</td>\n      <td>5.285051</td>\n      <td>inf</td>\n      <td>15.672698</td>\n      <td>tmlcc-2021/mof_cif_train/mof_unit_68612.cif</td>\n      <td>NaN</td>\n    </tr>\n    <tr>\n      <th>68612</th>\n      <td>mof_unit_68613</td>\n      <td>1591.009408</td>\n      <td>2071.219000</td>\n      <td>0.00</td>\n      <td>0.01609</td>\n      <td>0.0000</td>\n      <td>I-OEt</td>\n      <td>2</td>\n      <td>9</td>\n      <td>16</td>\n      <td>pcu</td>\n      <td>2.621272</td>\n      <td>inf</td>\n      <td>3.144708</td>\n      <td>tmlcc-2021/mof_cif_train/mof_unit_68613.cif</td>\n      <td>NaN</td>\n    </tr>\n  </tbody>\n</table>\n<p>68613 rows × 16 columns</p>\n</div>"
     },
     "metadata": {}
    }
   ],
   "execution_count": null
  },
  {
   "cell_type": "markdown",
   "source": "<a style='text-decoration:none;line-height:16px;display:flex;color:#5B5B62;padding:10px;justify-content:end;' href='https://deepnote.com?utm_source=created-in-deepnote-cell&projectId=cf8541de-dbc3-45f6-bc1e-4fa446cacbcd' target=\"_blank\">\n<img alt='Created in deepnote.com' style='display:inline;max-height:16px;margin:0px;margin-right:7.5px;' src='data:image/svg+xml;base64,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' > </img>\nCreated in <span style='font-weight:600;margin-left:4px;'>Deepnote</span></a>",
   "metadata": {
    "tags": [],
    "created_in_deepnote_cell": true,
    "deepnote_cell_type": "markdown"
   }
  }
 ],
 "nbformat": 4,
 "nbformat_minor": 2,
 "metadata": {
  "orig_nbformat": 2,
  "deepnote": {
   "is_reactive": false
  },
  "deepnote_notebook_id": "6751d593-9ccc-442e-8316-ddba291a202d",
  "deepnote_execution_queue": [
   {
    "cellId": "00018-3a25337e-9884-4164-a2a1-8551c952b523",
    "sessionId": "74b39923-94cf-4523-aa81-aab0940f1c23",
    "msgId": "c2e3fd90-5b4f-4da7-8e93-fdb88c79e94e"
   }
  ]
 }
}