{
 "cells": [
  {
   "cell_type": "markdown",
   "source": "# Import modules",
   "metadata": {
    "tags": [],
    "is_collapsed": false,
    "cell_id": "00000-98c9440a-3c15-432d-820b-cde0b5e1e613",
    "deepnote_app_coordinates": {
     "x": 0,
     "y": 0,
     "w": 24,
     "h": 2
    },
    "deepnote_cell_type": "text-cell-h1"
   }
  },
  {
   "cell_type": "code",
   "metadata": {
    "tags": [],
    "cell_id": "00000-d7f4b5fc-8fcd-4eb4-9318-452728180541",
    "deepnote_to_be_reexecuted": false,
    "source_hash": "e80a5595",
    "execution_start": 1632062332260,
    "execution_millis": 88,
    "deepnote_cell_type": "code"
   },
   "source": "# OS\nimport os\n\n# Typing\nfrom typing import List\n\n# Analyser\nimport pandas as pd\nfrom tqdm import tqdm\n\n# Local utilization\nfrom utils.classes.adapters import CIF2PandasAdapter\nfrom utils.functions import (\n    get_cif_filepath,\n    merge_metadata,\n    read_pandas_pickle\n)\n\n# Constants\nfrom src.constants import (\n    DATASET_PATH,\n    CIF_TRAIN_PATH,\n    CIF_PRETEST_PATH,\n    PREPROCESSING_TRAIN_PATH,\n    PREPROCESSING_PRETEST_PATH\n)\n\n# pickle\nimport pickle\n\ntqdm.pandas()",
   "outputs": [],
   "execution_count": 1
  },
  {
   "cell_type": "markdown",
   "source": "# Load Essentials",
   "metadata": {
    "tags": [],
    "is_collapsed": false,
    "cell_id": "00002-e34cfdcb-4854-42ec-b4ff-97f7c90d600d",
    "deepnote_cell_type": "text-cell-h1"
   }
  },
  {
   "cell_type": "markdown",
   "source": "## Load Adapters",
   "metadata": {
    "tags": [],
    "is_collapsed": false,
    "cell_id": "00003-391ec10f-d784-486d-9628-153efe40af16",
    "deepnote_cell_type": "text-cell-h2"
   }
  },
  {
   "cell_type": "code",
   "metadata": {
    "tags": [],
    "cell_id": "00007-9dc72cf2-0f4b-4d8a-822a-59ee3fc252d8",
    "deepnote_to_be_reexecuted": false,
    "source_hash": "2d18a555",
    "execution_start": 1632062332348,
    "execution_millis": 0,
    "deepnote_cell_type": "code"
   },
   "source": "cif2pandas_adapter = CIF2PandasAdapter()",
   "outputs": [],
   "execution_count": 2
  },
  {
   "cell_type": "markdown",
   "source": "## Load CSVs",
   "metadata": {
    "tags": [],
    "is_collapsed": false,
    "cell_id": "00005-757629fa-84d0-40b3-b212-5c1e15fedd62",
    "deepnote_cell_type": "text-cell-h2"
   }
  },
  {
   "cell_type": "code",
   "source": "Train = pd.read_csv(f\"{DATASET_PATH}/train.csv\".replace(\"//\", \"/\"))\nTrain.index = Train.index + 1\nPretest = pd.read_csv(f\"{DATASET_PATH}/pretest.csv\".replace(\"//\", \"/\"))\nPretest.index = Pretest.index + 1",
   "metadata": {
    "tags": [],
    "cell_id": "00006-a644798e-ae33-447a-ac33-d7d698133285",
    "deepnote_to_be_reexecuted": false,
    "source_hash": "5ef93c38",
    "execution_start": 1632062332349,
    "execution_millis": 134,
    "deepnote_cell_type": "code"
   },
   "outputs": [],
   "execution_count": 3
  },
  {
   "cell_type": "markdown",
   "source": "# Join data with CIF filename",
   "metadata": {
    "tags": [],
    "is_collapsed": false,
    "cell_id": "00007-c818ea19-d403-4d72-84f2-7936f10a6d29",
    "deepnote_cell_type": "text-cell-h1"
   }
  },
  {
   "cell_type": "code",
   "source": "Train = get_cif_filepath(Train, CIF_TRAIN_PATH)\nTrain[['MOFname', 'cif_filepath']].head(5)",
   "metadata": {
    "tags": [],
    "cell_id": "00008-52a53a52-5ff5-4a14-81d8-1a6c709d6a44",
    "deepnote_to_be_reexecuted": false,
    "source_hash": "a6cab2b3",
    "execution_start": 1632062332486,
    "execution_millis": 126,
    "deepnote_cell_type": "code"
   },
   "outputs": [
    {
     "output_type": "execute_result",
     "execution_count": 4,
     "data": {
      "application/vnd.deepnote.dataframe.v2+json": {
       "row_count": 5,
       "column_count": 2,
       "columns": [
        {
         "name": "MOFname",
         "dtype": "object",
         "stats": {
          "unique_count": 5,
          "nan_count": 0,
          "categories": [
           {
            "name": "mof_unit_1",
            "count": 1
           },
           {
            "name": "mof_unit_2",
            "count": 1
           },
           {
            "name": "3 others",
            "count": 3
           }
          ]
         }
        },
        {
         "name": "cif_filepath",
         "dtype": "object",
         "stats": {
          "unique_count": 5,
          "nan_count": 0,
          "categories": [
           {
            "name": "tmlcc-2021/mof_cif_train/mof_unit_1.cif",
            "count": 1
           },
           {
            "name": "tmlcc-2021/mof_cif_train/mof_unit_2.cif",
            "count": 1
           },
           {
            "name": "3 others",
            "count": 3
           }
          ]
         }
        },
        {
         "name": "_deepnote_index_column",
         "dtype": "int64"
        }
       ],
       "rows_top": [
        {
         "MOFname": "mof_unit_1",
         "cif_filepath": "tmlcc-2021/mof_cif_train/mof_unit_1.cif",
         "_deepnote_index_column": 1
        },
        {
         "MOFname": "mof_unit_2",
         "cif_filepath": "tmlcc-2021/mof_cif_train/mof_unit_2.cif",
         "_deepnote_index_column": 2
        },
        {
         "MOFname": "mof_unit_3",
         "cif_filepath": "tmlcc-2021/mof_cif_train/mof_unit_3.cif",
         "_deepnote_index_column": 3
        },
        {
         "MOFname": "mof_unit_4",
         "cif_filepath": "tmlcc-2021/mof_cif_train/mof_unit_4.cif",
         "_deepnote_index_column": 4
        },
        {
         "MOFname": "mof_unit_5",
         "cif_filepath": "tmlcc-2021/mof_cif_train/mof_unit_5.cif",
         "_deepnote_index_column": 5
        }
       ],
       "rows_bottom": null
      },
      "text/plain": "      MOFname                             cif_filepath\n1  mof_unit_1  tmlcc-2021/mof_cif_train/mof_unit_1.cif\n2  mof_unit_2  tmlcc-2021/mof_cif_train/mof_unit_2.cif\n3  mof_unit_3  tmlcc-2021/mof_cif_train/mof_unit_3.cif\n4  mof_unit_4  tmlcc-2021/mof_cif_train/mof_unit_4.cif\n5  mof_unit_5  tmlcc-2021/mof_cif_train/mof_unit_5.cif",
      "text/html": "<div>\n<style scoped>\n    .dataframe tbody tr th:only-of-type {\n        vertical-align: middle;\n    }\n\n    .dataframe tbody tr th {\n        vertical-align: top;\n    }\n\n    .dataframe thead th {\n        text-align: right;\n    }\n</style>\n<table border=\"1\" class=\"dataframe\">\n  <thead>\n    <tr style=\"text-align: right;\">\n      <th></th>\n      <th>MOFname</th>\n      <th>cif_filepath</th>\n    </tr>\n  </thead>\n  <tbody>\n    <tr>\n      <th>1</th>\n      <td>mof_unit_1</td>\n      <td>tmlcc-2021/mof_cif_train/mof_unit_1.cif</td>\n    </tr>\n    <tr>\n      <th>2</th>\n      <td>mof_unit_2</td>\n      <td>tmlcc-2021/mof_cif_train/mof_unit_2.cif</td>\n    </tr>\n    <tr>\n      <th>3</th>\n      <td>mof_unit_3</td>\n      <td>tmlcc-2021/mof_cif_train/mof_unit_3.cif</td>\n    </tr>\n    <tr>\n      <th>4</th>\n      <td>mof_unit_4</td>\n      <td>tmlcc-2021/mof_cif_train/mof_unit_4.cif</td>\n    </tr>\n    <tr>\n      <th>5</th>\n      <td>mof_unit_5</td>\n      <td>tmlcc-2021/mof_cif_train/mof_unit_5.cif</td>\n    </tr>\n  </tbody>\n</table>\n</div>"
     },
     "metadata": {}
    }
   ],
   "execution_count": 4
  },
  {
   "cell_type": "code",
   "source": "Pretest= get_cif_filepath(Pretest, CIF_PRETEST_PATH)\nPretest[['MOFname', 'cif_filepath']].head(5)",
   "metadata": {
    "tags": [],
    "cell_id": "00009-8c72c4b3-f01c-4537-ac0d-d94c2879e797",
    "deepnote_to_be_reexecuted": false,
    "source_hash": "afc77e21",
    "execution_start": 1632062332586,
    "execution_millis": 30,
    "deepnote_cell_type": "code"
   },
   "outputs": [
    {
     "output_type": "execute_result",
     "execution_count": 5,
     "data": {
      "application/vnd.deepnote.dataframe.v2+json": {
       "row_count": 5,
       "column_count": 2,
       "columns": [
        {
         "name": "MOFname",
         "dtype": "object",
         "stats": {
          "unique_count": 5,
          "nan_count": 0,
          "categories": [
           {
            "name": "mof_unit_pretest_1",
            "count": 1
           },
           {
            "name": "mof_unit_pretest_2",
            "count": 1
           },
           {
            "name": "3 others",
            "count": 3
           }
          ]
         }
        },
        {
         "name": "cif_filepath",
         "dtype": "object",
         "stats": {
          "unique_count": 5,
          "nan_count": 0,
          "categories": [
           {
            "name": "tmlcc-2021/mof_cif_pretest/mof_unit_pretest_1.cif",
            "count": 1
           },
           {
            "name": "tmlcc-2021/mof_cif_pretest/mof_unit_pretest_2.cif",
            "count": 1
           },
           {
            "name": "3 others",
            "count": 3
           }
          ]
         }
        },
        {
         "name": "_deepnote_index_column",
         "dtype": "int64"
        }
       ],
       "rows_top": [
        {
         "MOFname": "mof_unit_pretest_1",
         "cif_filepath": "tmlcc-2021/mof_cif_pretest/mof_unit_pretest_1.cif",
         "_deepnote_index_column": 1
        },
        {
         "MOFname": "mof_unit_pretest_2",
         "cif_filepath": "tmlcc-2021/mof_cif_pretest/mof_unit_pretest_2.cif",
         "_deepnote_index_column": 2
        },
        {
         "MOFname": "mof_unit_pretest_3",
         "cif_filepath": "tmlcc-2021/mof_cif_pretest/mof_unit_pretest_3.cif",
         "_deepnote_index_column": 3
        },
        {
         "MOFname": "mof_unit_pretest_4",
         "cif_filepath": "tmlcc-2021/mof_cif_pretest/mof_unit_pretest_4.cif",
         "_deepnote_index_column": 4
        },
        {
         "MOFname": "mof_unit_pretest_5",
         "cif_filepath": "tmlcc-2021/mof_cif_pretest/mof_unit_pretest_5.cif",
         "_deepnote_index_column": 5
        }
       ],
       "rows_bottom": null
      },
      "text/plain": "              MOFname                                       cif_filepath\n1  mof_unit_pretest_1  tmlcc-2021/mof_cif_pretest/mof_unit_pretest_1.cif\n2  mof_unit_pretest_2  tmlcc-2021/mof_cif_pretest/mof_unit_pretest_2.cif\n3  mof_unit_pretest_3  tmlcc-2021/mof_cif_pretest/mof_unit_pretest_3.cif\n4  mof_unit_pretest_4  tmlcc-2021/mof_cif_pretest/mof_unit_pretest_4.cif\n5  mof_unit_pretest_5  tmlcc-2021/mof_cif_pretest/mof_unit_pretest_5.cif",
      "text/html": "<div>\n<style scoped>\n    .dataframe tbody tr th:only-of-type {\n        vertical-align: middle;\n    }\n\n    .dataframe tbody tr th {\n        vertical-align: top;\n    }\n\n    .dataframe thead th {\n        text-align: right;\n    }\n</style>\n<table border=\"1\" class=\"dataframe\">\n  <thead>\n    <tr style=\"text-align: right;\">\n      <th></th>\n      <th>MOFname</th>\n      <th>cif_filepath</th>\n    </tr>\n  </thead>\n  <tbody>\n    <tr>\n      <th>1</th>\n      <td>mof_unit_pretest_1</td>\n      <td>tmlcc-2021/mof_cif_pretest/mof_unit_pretest_1.cif</td>\n    </tr>\n    <tr>\n      <th>2</th>\n      <td>mof_unit_pretest_2</td>\n      <td>tmlcc-2021/mof_cif_pretest/mof_unit_pretest_2.cif</td>\n    </tr>\n    <tr>\n      <th>3</th>\n      <td>mof_unit_pretest_3</td>\n      <td>tmlcc-2021/mof_cif_pretest/mof_unit_pretest_3.cif</td>\n    </tr>\n    <tr>\n      <th>4</th>\n      <td>mof_unit_pretest_4</td>\n      <td>tmlcc-2021/mof_cif_pretest/mof_unit_pretest_4.cif</td>\n    </tr>\n    <tr>\n      <th>5</th>\n      <td>mof_unit_pretest_5</td>\n      <td>tmlcc-2021/mof_cif_pretest/mof_unit_pretest_5.cif</td>\n    </tr>\n  </tbody>\n</table>\n</div>"
     },
     "metadata": {}
    }
   ],
   "execution_count": 5
  },
  {
   "cell_type": "markdown",
   "source": "# Test Adapter",
   "metadata": {
    "tags": [],
    "is_collapsed": false,
    "cell_id": "00010-7f7f7609-db37-4f3c-a946-e5599d8fa8ba",
    "deepnote_cell_type": "text-cell-h1"
   }
  },
  {
   "cell_type": "markdown",
   "source": "## CIF",
   "metadata": {
    "tags": [],
    "is_collapsed": false,
    "cell_id": "00011-f49a97d8-7e85-4c32-8241-bbb23dab91a2",
    "deepnote_cell_type": "text-cell-h2"
   }
  },
  {
   "cell_type": "code",
   "source": "adapted_cif: dict = cif2pandas_adapter.apply(Train.cif_filepath[1])",
   "metadata": {
    "tags": [],
    "cell_id": "00009-1c4cc9a4-9709-4e6a-8a9c-21c4e7e4793d",
    "deepnote_to_be_reexecuted": false,
    "source_hash": "bfacd5c1",
    "execution_start": 1632062332587,
    "execution_millis": 1,
    "deepnote_cell_type": "code"
   },
   "outputs": [],
   "execution_count": 6
  },
  {
   "cell_type": "code",
   "source": "pd.DataFrame(adapted_cif['metadata'])",
   "metadata": {
    "tags": [],
    "cell_id": "00008-7c4dc87f-f9d8-4d58-8267-60dda3e07a4a",
    "deepnote_to_be_reexecuted": false,
    "source_hash": "d9f8ba07",
    "execution_start": 1632062332589,
    "execution_millis": 27,
    "deepnote_cell_type": "code"
   },
   "outputs": [
    {
     "output_type": "execute_result",
     "execution_count": 7,
     "data": {
      "application/vnd.deepnote.dataframe.v2+json": {
       "row_count": 11,
       "column_count": 2,
       "columns": [
        {
         "name": 0,
         "dtype": "object",
         "stats": {
          "unique_count": 11,
          "nan_count": 0,
          "categories": [
           {
            "name": "_audit_creation_date",
            "count": 1
           },
           {
            "name": "_symmetry_space_group_name_H-M",
            "count": 1
           },
           {
            "name": "9 others",
            "count": 9
           }
          ]
         }
        },
        {
         "name": 1,
         "dtype": "object",
         "stats": {
          "unique_count": 11,
          "nan_count": 0,
          "categories": [
           {
            "name": "2013-03-05T16:41:16-0500",
            "count": 1
           },
           {
            "name": "P1",
            "count": 1
           },
           {
            "name": "9 others",
            "count": 9
           }
          ]
         }
        },
        {
         "name": "_deepnote_index_column",
         "dtype": "int64"
        }
       ],
       "rows_top": [
        {
         "0": "_audit_creation_date",
         "1": "2013-03-05T16:41:16-0500",
         "_deepnote_index_column": 0
        },
        {
         "0": "_symmetry_space_group_name_H-M",
         "1": "P1",
         "_deepnote_index_column": 1
        },
        {
         "0": "_symmetry_Int_Tables_number",
         "1": "1",
         "_deepnote_index_column": 2
        },
        {
         "0": "_space_group_crystal_system",
         "1": "triclinic",
         "_deepnote_index_column": 3
        },
        {
         "0": "_cell_length_a",
         "1": "10.609882",
         "_deepnote_index_column": 4
        },
        {
         "0": "_cell_length_b",
         "1": "10.643578",
         "_deepnote_index_column": 5
        },
        {
         "0": "_cell_length_c",
         "1": "9.890832",
         "_deepnote_index_column": 6
        },
        {
         "0": "_cell_angle_alpha",
         "1": "89.904234",
         "_deepnote_index_column": 7
        },
        {
         "0": "_cell_angle_beta",
         "1": "91.242355",
         "_deepnote_index_column": 8
        },
        {
         "0": "_cell_angle_gamma",
         "1": "90.261935",
         "_deepnote_index_column": 9
        },
        {
         "0": "_cell_volume",
         "1": "1116.66742888",
         "_deepnote_index_column": 10
        }
       ],
       "rows_bottom": null
      },
      "text/plain": "                                 0                         1\n0             _audit_creation_date  2013-03-05T16:41:16-0500\n1   _symmetry_space_group_name_H-M                        P1\n2      _symmetry_Int_Tables_number                         1\n3      _space_group_crystal_system                 triclinic\n4                   _cell_length_a                 10.609882\n5                   _cell_length_b                 10.643578\n6                   _cell_length_c                  9.890832\n7                _cell_angle_alpha                 89.904234\n8                 _cell_angle_beta                 91.242355\n9                _cell_angle_gamma                 90.261935\n10                    _cell_volume             1116.66742888",
      "text/html": "<div>\n<style scoped>\n    .dataframe tbody tr th:only-of-type {\n        vertical-align: middle;\n    }\n\n    .dataframe tbody tr th {\n        vertical-align: top;\n    }\n\n    .dataframe thead th {\n        text-align: right;\n    }\n</style>\n<table border=\"1\" class=\"dataframe\">\n  <thead>\n    <tr style=\"text-align: right;\">\n      <th></th>\n      <th>0</th>\n      <th>1</th>\n    </tr>\n  </thead>\n  <tbody>\n    <tr>\n      <th>0</th>\n      <td>_audit_creation_date</td>\n      <td>2013-03-05T16:41:16-0500</td>\n    </tr>\n    <tr>\n      <th>1</th>\n      <td>_symmetry_space_group_name_H-M</td>\n      <td>P1</td>\n    </tr>\n    <tr>\n      <th>2</th>\n      <td>_symmetry_Int_Tables_number</td>\n      <td>1</td>\n    </tr>\n    <tr>\n      <th>3</th>\n      <td>_space_group_crystal_system</td>\n      <td>triclinic</td>\n    </tr>\n    <tr>\n      <th>4</th>\n      <td>_cell_length_a</td>\n      <td>10.609882</td>\n    </tr>\n    <tr>\n      <th>5</th>\n      <td>_cell_length_b</td>\n      <td>10.643578</td>\n    </tr>\n    <tr>\n      <th>6</th>\n      <td>_cell_length_c</td>\n      <td>9.890832</td>\n    </tr>\n    <tr>\n      <th>7</th>\n      <td>_cell_angle_alpha</td>\n      <td>89.904234</td>\n    </tr>\n    <tr>\n      <th>8</th>\n      <td>_cell_angle_beta</td>\n      <td>91.242355</td>\n    </tr>\n    <tr>\n      <th>9</th>\n      <td>_cell_angle_gamma</td>\n      <td>90.261935</td>\n    </tr>\n    <tr>\n      <th>10</th>\n      <td>_cell_volume</td>\n      <td>1116.66742888</td>\n    </tr>\n  </tbody>\n</table>\n</div>"
     },
     "metadata": {}
    }
   ],
   "execution_count": 7
  },
  {
   "cell_type": "code",
   "metadata": {
    "tags": [],
    "cell_id": "00004-995bb76c-4a91-4137-95e8-2d9108a011db",
    "deepnote_to_be_reexecuted": false,
    "source_hash": "bd6a705f",
    "execution_start": 1632062332631,
    "execution_millis": 14,
    "deepnote_cell_type": "code"
   },
   "source": "pd.DataFrame(adapted_cif['loops'][0])",
   "outputs": [
    {
     "output_type": "execute_result",
     "execution_count": 8,
     "data": {
      "application/vnd.deepnote.dataframe.v2+json": {
       "row_count": 75,
       "column_count": 7,
       "columns": [
        {
         "name": "_atom_site_label",
         "dtype": "object",
         "stats": {
          "unique_count": 75,
          "nan_count": 0,
          "categories": [
           {
            "name": "O1",
            "count": 1
           },
           {
            "name": "O2",
            "count": 1
           },
           {
            "name": "73 others",
            "count": 73
           }
          ]
         }
        },
        {
         "name": "_atom_site_type_symbol",
         "dtype": "object",
         "stats": {
          "unique_count": 5,
          "nan_count": 0,
          "categories": [
           {
            "name": "C",
            "count": 30
           },
           {
            "name": "O",
            "count": 21
           },
           {
            "name": "3 others",
            "count": 24
           }
          ]
         }
        },
        {
         "name": "_atom_site_description",
         "dtype": "object",
         "stats": {
          "unique_count": 9,
          "nan_count": 0,
          "categories": [
           {
            "name": "H_",
            "count": 20
           },
           {
            "name": "O_R",
            "count": 14
           },
           {
            "name": "7 others",
            "count": 41
           }
          ]
         }
        },
        {
         "name": "_atom_site_fract_x",
         "dtype": "object",
         "stats": {
          "unique_count": 73,
          "nan_count": 0,
          "categories": [
           {
            "name": "0.500000",
            "count": 2
           },
           {
            "name": "0.499170",
            "count": 2
           },
           {
            "name": "71 others",
            "count": 71
           }
          ]
         }
        },
        {
         "name": "_atom_site_fract_y",
         "dtype": "object",
         "stats": {
          "unique_count": 71,
          "nan_count": 0,
          "categories": [
           {
            "name": "0.500020",
            "count": 3
           },
           {
            "name": "0.499980",
            "count": 3
           },
           {
            "name": "69 others",
            "count": 69
           }
          ]
         }
        },
        {
         "name": "_atom_site_fract_z",
         "dtype": "object",
         "stats": {
          "unique_count": 75,
          "nan_count": 0,
          "categories": [
           {
            "name": "0.614690",
            "count": 1
           },
           {
            "name": "0.385350",
            "count": 1
           },
           {
            "name": "73 others",
            "count": 73
           }
          ]
         }
        },
        {
         "name": "_atom_type_partial_charge",
         "dtype": "object",
         "stats": {
          "unique_count": 75,
          "nan_count": 0,
          "categories": [
           {
            "name": "-0.628319",
            "count": 1
           },
           {
            "name": "-0.604978",
            "count": 1
           },
           {
            "name": "73 others",
            "count": 73
           }
          ]
         }
        },
        {
         "name": "_deepnote_index_column",
         "dtype": "int64"
        }
       ],
       "rows_top": [
        {
         "_atom_site_label": "O1",
         "_atom_site_type_symbol": "O",
         "_atom_site_description": "O_R",
         "_atom_site_fract_x": "0.500020",
         "_atom_site_fract_y": "0.316790",
         "_atom_site_fract_z": "0.614690",
         "_atom_type_partial_charge": "-0.628319",
         "_deepnote_index_column": 7
        },
        {
         "_atom_site_label": "O2",
         "_atom_site_type_symbol": "O",
         "_atom_site_description": "O_R",
         "_atom_site_fract_x": "0.500000",
         "_atom_site_fract_y": "0.316760",
         "_atom_site_fract_z": "0.385350",
         "_atom_type_partial_charge": "-0.604978",
         "_deepnote_index_column": 8
        },
        {
         "_atom_site_label": "C1",
         "_atom_site_type_symbol": "C",
         "_atom_site_description": "C_R",
         "_atom_site_fract_x": "0.511239",
         "_atom_site_fract_y": "0.260617",
         "_atom_site_fract_z": "0.499919",
         "_atom_type_partial_charge": "0.943344",
         "_deepnote_index_column": 9
        },
        {
         "_atom_site_label": "O3",
         "_atom_site_type_symbol": "O",
         "_atom_site_description": "O_R",
         "_atom_site_fract_x": "0.319080",
         "_atom_site_fract_y": "0.500020",
         "_atom_site_fract_z": "0.614640",
         "_atom_type_partial_charge": "-0.626555",
         "_deepnote_index_column": 10
        },
        {
         "_atom_site_label": "O4",
         "_atom_site_type_symbol": "O",
         "_atom_site_description": "O_R",
         "_atom_site_fract_x": "0.319070",
         "_atom_site_fract_y": "0.499980",
         "_atom_site_fract_z": "0.385300",
         "_atom_type_partial_charge": "-0.570235",
         "_deepnote_index_column": 11
        },
        {
         "_atom_site_label": "C2",
         "_atom_site_type_symbol": "C",
         "_atom_site_description": "C_R",
         "_atom_site_fract_x": "0.262196",
         "_atom_site_fract_y": "0.501710",
         "_atom_site_fract_z": "0.498339",
         "_atom_type_partial_charge": "1.002569",
         "_deepnote_index_column": 12
        },
        {
         "_atom_site_label": "Zn1",
         "_atom_site_type_symbol": "Zn",
         "_atom_site_description": "Zn3+2",
         "_atom_site_fract_x": "0.500010",
         "_atom_site_fract_y": "0.500020",
         "_atom_site_fract_z": "0.653130",
         "_atom_type_partial_charge": "1.000757",
         "_deepnote_index_column": 13
        },
        {
         "_atom_site_label": "Zn2",
         "_atom_site_type_symbol": "Zn",
         "_atom_site_description": "Zn3+2",
         "_atom_site_fract_x": "0.499990",
         "_atom_site_fract_y": "0.499980",
         "_atom_site_fract_z": "0.346870",
         "_atom_type_partial_charge": "1.025705",
         "_deepnote_index_column": 14
        },
        {
         "_atom_site_label": "O5",
         "_atom_site_type_symbol": "O",
         "_atom_site_description": "O_R",
         "_atom_site_fract_x": "0.500000",
         "_atom_site_fract_y": "0.683240",
         "_atom_site_fract_z": "0.614650",
         "_atom_type_partial_charge": "-0.570489",
         "_deepnote_index_column": 15
        },
        {
         "_atom_site_label": "O6",
         "_atom_site_type_symbol": "O",
         "_atom_site_description": "O_R",
         "_atom_site_fract_x": "0.499980",
         "_atom_site_fract_y": "0.683210",
         "_atom_site_fract_z": "0.385310",
         "_atom_type_partial_charge": "-0.610657",
         "_deepnote_index_column": 16
        },
        {
         "_atom_site_label": "O7",
         "_atom_site_type_symbol": "O",
         "_atom_site_description": "O_R",
         "_atom_site_fract_x": "0.680930",
         "_atom_site_fract_y": "0.500020",
         "_atom_site_fract_z": "0.614700",
         "_atom_type_partial_charge": "-0.620685",
         "_deepnote_index_column": 17
        },
        {
         "_atom_site_label": "O8",
         "_atom_site_type_symbol": "O",
         "_atom_site_description": "O_R",
         "_atom_site_fract_x": "0.680920",
         "_atom_site_fract_y": "0.499980",
         "_atom_site_fract_z": "0.385360",
         "_atom_type_partial_charge": "-0.610988",
         "_deepnote_index_column": 18
        },
        {
         "_atom_site_label": "C3",
         "_atom_site_type_symbol": "C",
         "_atom_site_description": "C_R",
         "_atom_site_fract_x": "0.510568",
         "_atom_site_fract_y": "0.739929",
         "_atom_site_fract_z": "0.499534",
         "_atom_type_partial_charge": "0.896293",
         "_deepnote_index_column": 19
        },
        {
         "_atom_site_label": "C4",
         "_atom_site_type_symbol": "C",
         "_atom_site_description": "C_R",
         "_atom_site_fract_x": "0.737527",
         "_atom_site_fract_y": "0.508812",
         "_atom_site_fract_z": "0.501655",
         "_atom_type_partial_charge": "0.975323",
         "_deepnote_index_column": 20
        },
        {
         "_atom_site_label": "C5",
         "_atom_site_type_symbol": "C",
         "_atom_site_description": "C_2",
         "_atom_site_fract_x": "0.930827",
         "_atom_site_fract_y": "0.569775",
         "_atom_site_fract_z": "0.397062",
         "_atom_type_partial_charge": "-0.267646",
         "_deepnote_index_column": 21
        },
        {
         "_atom_site_label": "C6",
         "_atom_site_type_symbol": "C",
         "_atom_site_description": "C_2",
         "_atom_site_fract_x": "0.867912",
         "_atom_site_fract_y": "0.540715",
         "_atom_site_fract_z": "0.508063",
         "_atom_type_partial_charge": "-0.373889",
         "_deepnote_index_column": 22
        },
        {
         "_atom_site_label": "H1",
         "_atom_site_type_symbol": "H",
         "_atom_site_description": "H_",
         "_atom_site_fract_x": "0.883642",
         "_atom_site_fract_y": "0.576040",
         "_atom_site_fract_z": "0.298736",
         "_atom_type_partial_charge": "0.194450",
         "_deepnote_index_column": 23
        },
        {
         "_atom_site_label": "H2",
         "_atom_site_type_symbol": "H",
         "_atom_site_description": "H_",
         "_atom_site_fract_x": "0.912693",
         "_atom_site_fract_y": "0.544315",
         "_atom_site_fract_z": "0.607909",
         "_atom_type_partial_charge": "0.190144",
         "_deepnote_index_column": 24
        },
        {
         "_atom_site_label": "C7",
         "_atom_site_type_symbol": "C",
         "_atom_site_description": "C_2",
         "_atom_site_fract_x": "0.068028",
         "_atom_site_fract_y": "0.583440",
         "_atom_site_fract_z": "0.406634",
         "_atom_type_partial_charge": "0.520947",
         "_deepnote_index_column": 25
        },
        {
         "_atom_site_label": "C8",
         "_atom_site_type_symbol": "C",
         "_atom_site_description": "C_2",
         "_atom_site_fract_x": "0.128795",
         "_atom_site_fract_y": "0.505510",
         "_atom_site_fract_z": "0.492625",
         "_atom_type_partial_charge": "-0.331481",
         "_deepnote_index_column": 26
        },
        {
         "_atom_site_label": "H3",
         "_atom_site_type_symbol": "H",
         "_atom_site_description": "H_",
         "_atom_site_fract_x": "0.081055",
         "_atom_site_fract_y": "0.439155",
         "_atom_site_fract_z": "0.557711",
         "_atom_type_partial_charge": "0.116745",
         "_deepnote_index_column": 27
        },
        {
         "_atom_site_label": "C9",
         "_atom_site_type_symbol": "C",
         "_atom_site_description": "C_R",
         "_atom_site_fract_x": "0.542308",
         "_atom_site_fract_y": "0.061957",
         "_atom_site_fract_z": "0.617598",
         "_atom_type_partial_charge": "0.024709",
         "_deepnote_index_column": 28
        },
        {
         "_atom_site_label": "C10",
         "_atom_site_type_symbol": "C",
         "_atom_site_description": "C_R",
         "_atom_site_fract_x": "0.544707",
         "_atom_site_fract_y": "0.130616",
         "_atom_site_fract_z": "0.498806",
         "_atom_type_partial_charge": "-0.126066",
         "_deepnote_index_column": 29
        },
        {
         "_atom_site_label": "C11",
         "_atom_site_type_symbol": "C",
         "_atom_site_description": "C_R",
         "_atom_site_fract_x": "0.581067",
         "_atom_site_fract_y": "0.068110",
         "_atom_site_fract_z": "0.378982",
         "_atom_type_partial_charge": "-0.127392",
         "_deepnote_index_column": 30
        },
        {
         "_atom_site_label": "C12",
         "_atom_site_type_symbol": "C",
         "_atom_site_description": "C_R",
         "_atom_site_fract_x": "0.574316",
         "_atom_site_fract_y": "0.935900",
         "_atom_site_fract_z": "0.376234",
         "_atom_type_partial_charge": "-0.132731",
         "_deepnote_index_column": 31
        },
        {
         "_atom_site_label": "C13",
         "_atom_site_type_symbol": "C",
         "_atom_site_description": "C_R",
         "_atom_site_fract_x": "0.545263",
         "_atom_site_fract_y": "0.870515",
         "_atom_site_fract_z": "0.497676",
         "_atom_type_partial_charge": "-0.176366",
         "_deepnote_index_column": 32
        },
        {
         "_atom_site_label": "C14",
         "_atom_site_type_symbol": "C",
         "_atom_site_description": "C_R",
         "_atom_site_fract_x": "0.555117",
         "_atom_site_fract_y": "0.936088",
         "_atom_site_fract_z": "0.618583",
         "_atom_type_partial_charge": "0.034483",
         "_deepnote_index_column": 33
        },
        {
         "_atom_site_label": "C15",
         "_atom_site_type_symbol": "C",
         "_atom_site_description": "C_3",
         "_atom_site_fract_x": "0.506793",
         "_atom_site_fract_y": "0.924219",
         "_atom_site_fract_z": "0.759156",
         "_atom_type_partial_charge": "-0.265723",
         "_deepnote_index_column": 34
        },
        {
         "_atom_site_label": "C16",
         "_atom_site_type_symbol": "C",
         "_atom_site_description": "C_3",
         "_atom_site_fract_x": "0.486891",
         "_atom_site_fract_y": "0.067823",
         "_atom_site_fract_z": "0.755195",
         "_atom_type_partial_charge": "-0.247828",
         "_deepnote_index_column": 35
        },
        {
         "_atom_site_label": "H4",
         "_atom_site_type_symbol": "H",
         "_atom_site_description": "H_",
         "_atom_site_fract_x": "0.418904",
         "_atom_site_fract_y": "0.867225",
         "_atom_site_fract_z": "0.765367",
         "_atom_type_partial_charge": "0.187079",
         "_deepnote_index_column": 36
        },
        {
         "_atom_site_label": "H5",
         "_atom_site_type_symbol": "H",
         "_atom_site_description": "H_",
         "_atom_site_fract_x": "0.545909",
         "_atom_site_fract_y": "0.125120",
         "_atom_site_fract_z": "0.825990",
         "_atom_type_partial_charge": "0.180625",
         "_deepnote_index_column": 37
        },
        {
         "_atom_site_label": "C17",
         "_atom_site_type_symbol": "C",
         "_atom_site_description": "C_R",
         "_atom_site_fract_x": "0.396386",
         "_atom_site_fract_y": "0.537167",
         "_atom_site_fract_z": "0.068603",
         "_atom_type_partial_charge": "0.121204",
         "_deepnote_index_column": 38
        },
        {
         "_atom_site_label": "N1",
         "_atom_site_type_symbol": "N",
         "_atom_site_description": "N_R",
         "_atom_site_fract_x": "0.499170",
         "_atom_site_fract_y": "0.499140",
         "_atom_site_fract_z": "0.142800",
         "_atom_type_partial_charge": "-0.105731",
         "_deepnote_index_column": 39
        },
        {
         "_atom_site_label": "C18",
         "_atom_site_type_symbol": "C",
         "_atom_site_description": "C_R",
         "_atom_site_fract_x": "0.605747",
         "_atom_site_fract_y": "0.469580",
         "_atom_site_fract_z": "0.074239",
         "_atom_type_partial_charge": "-0.086676",
         "_deepnote_index_column": 40
        },
        {
         "_atom_site_label": "H6",
         "_atom_site_type_symbol": "H",
         "_atom_site_description": "H_",
         "_atom_site_fract_x": "0.690570",
         "_atom_site_fract_y": "0.443611",
         "_atom_site_fract_z": "0.129711",
         "_atom_type_partial_charge": "0.183867",
         "_deepnote_index_column": 41
        },
        {
         "_atom_site_label": "C19",
         "_atom_site_type_symbol": "C",
         "_atom_site_description": "C_R",
         "_atom_site_fract_x": "0.605467",
         "_atom_site_fract_y": "0.468644",
         "_atom_site_fract_z": "0.930630",
         "_atom_type_partial_charge": "-0.086985",
         "_deepnote_index_column": 42
        },
        {
         "_atom_site_label": "H7",
         "_atom_site_type_symbol": "H",
         "_atom_site_description": "H_",
         "_atom_site_fract_x": "0.689906",
         "_atom_site_fract_y": "0.441812",
         "_atom_site_fract_z": "0.878874",
         "_atom_type_partial_charge": "0.166318",
         "_deepnote_index_column": 43
        },
        {
         "_atom_site_label": "N2",
         "_atom_site_type_symbol": "N",
         "_atom_site_description": "N_R",
         "_atom_site_fract_x": "0.499170",
         "_atom_site_fract_y": "0.499180",
         "_atom_site_fract_z": "0.857150",
         "_atom_type_partial_charge": "-0.097241",
         "_deepnote_index_column": 44
        },
        {
         "_atom_site_label": "C20",
         "_atom_site_type_symbol": "C",
         "_atom_site_description": "C_R",
         "_atom_site_fract_x": "0.397006",
         "_atom_site_fract_y": "0.539482",
         "_atom_site_fract_z": "0.926231",
         "_atom_type_partial_charge": "0.213850",
         "_deepnote_index_column": 45
        },
        {
         "_atom_site_label": "C21",
         "_atom_site_type_symbol": "C",
         "_atom_site_description": "C_3",
         "_atom_site_fract_x": "0.266436",
         "_atom_site_fract_y": "0.485936",
         "_atom_site_fract_z": "0.915125",
         "_atom_type_partial_charge": "-0.330304",
         "_deepnote_index_column": 46
        },
        {
         "_atom_site_label": "C22",
         "_atom_site_type_symbol": "C",
         "_atom_site_description": "C_3",
         "_atom_site_fract_x": "0.266449",
         "_atom_site_fract_y": "0.481033",
         "_atom_site_fract_z": "0.069437",
         "_atom_type_partial_charge": "-0.364546",
         "_deepnote_index_column": 47
        },
        {
         "_atom_site_label": "H8",
         "_atom_site_type_symbol": "H",
         "_atom_site_description": "H_",
         "_atom_site_fract_x": "0.263643",
         "_atom_site_fract_y": "0.392929",
         "_atom_site_fract_z": "0.863729",
         "_atom_type_partial_charge": "0.177499",
         "_deepnote_index_column": 48
        },
        {
         "_atom_site_label": "H9",
         "_atom_site_type_symbol": "H",
         "_atom_site_description": "H_",
         "_atom_site_fract_x": "0.197264",
         "_atom_site_fract_y": "0.545248",
         "_atom_site_fract_z": "0.115246",
         "_atom_type_partial_charge": "0.209983",
         "_deepnote_index_column": 49
        },
        {
         "_atom_site_label": "C23",
         "_atom_site_type_symbol": "C",
         "_atom_site_description": "C_2",
         "_atom_site_fract_x": "0.171141",
         "_atom_site_fract_y": "0.577266",
         "_atom_site_fract_z": "0.857497",
         "_atom_type_partial_charge": "0.946284",
         "_deepnote_index_column": 50
        },
        {
         "_atom_site_label": "O9",
         "_atom_site_type_symbol": "O",
         "_atom_site_description": "O_2",
         "_atom_site_fract_x": "0.059246",
         "_atom_site_fract_y": "0.549414",
         "_atom_site_fract_z": "0.857425",
         "_atom_type_partial_charge": "-0.646017",
         "_deepnote_index_column": 51
        },
        {
         "_atom_site_label": "O10",
         "_atom_site_type_symbol": "O",
         "_atom_site_description": "O_R",
         "_atom_site_fract_x": "0.209951",
         "_atom_site_fract_y": "0.692476",
         "_atom_site_fract_z": "0.803818",
         "_atom_type_partial_charge": "-0.797600",
         "_deepnote_index_column": 52
        },
        {
         "_atom_site_label": "H10",
         "_atom_site_type_symbol": "H",
         "_atom_site_description": "H_",
         "_atom_site_fract_x": "0.136747",
         "_atom_site_fract_y": "0.744306",
         "_atom_site_fract_z": "0.767493",
         "_atom_type_partial_charge": "0.342181",
         "_deepnote_index_column": 53
        },
        {
         "_atom_site_label": "C24",
         "_atom_site_type_symbol": "C",
         "_atom_site_description": "C_2",
         "_atom_site_fract_x": "0.260153",
         "_atom_site_fract_y": "0.349325",
         "_atom_site_fract_z": "0.125907",
         "_atom_type_partial_charge": "1.043635",
         "_deepnote_index_column": 54
        },
        {
         "_atom_site_label": "O11",
         "_atom_site_type_symbol": "O",
         "_atom_site_description": "O_2",
         "_atom_site_fract_x": "0.336701",
         "_atom_site_fract_y": "0.270098",
         "_atom_site_fract_z": "0.092940",
         "_atom_type_partial_charge": "-0.567578",
         "_deepnote_index_column": 55
        },
        {
         "_atom_site_label": "O12",
         "_atom_site_type_symbol": "O",
         "_atom_site_description": "O_R",
         "_atom_site_fract_x": "0.165281",
         "_atom_site_fract_y": "0.318404",
         "_atom_site_fract_z": "0.216075",
         "_atom_type_partial_charge": "-0.787176",
         "_deepnote_index_column": 56
        },
        {
         "_atom_site_label": "H11",
         "_atom_site_type_symbol": "H",
         "_atom_site_description": "H_",
         "_atom_site_fract_x": "0.170596",
         "_atom_site_fract_y": "0.228007",
         "_atom_site_fract_z": "0.248129",
         "_atom_type_partial_charge": "0.347813",
         "_deepnote_index_column": 57
        },
        {
         "_atom_site_label": "O13",
         "_atom_site_type_symbol": "O",
         "_atom_site_description": "O_3",
         "_atom_site_fract_x": "0.137476",
         "_atom_site_fract_y": "0.663928",
         "_atom_site_fract_z": "0.324456",
         "_atom_type_partial_charge": "-0.619386",
         "_deepnote_index_column": 58
        },
        {
         "_atom_site_label": "C25",
         "_atom_site_type_symbol": "C",
         "_atom_site_description": "C_3",
         "_atom_site_fract_x": "0.065154",
         "_atom_site_fract_y": "0.764067",
         "_atom_site_fract_z": "0.271025",
         "_atom_type_partial_charge": "0.045757",
         "_deepnote_index_column": 59
        },
        {
         "_atom_site_label": "H12",
         "_atom_site_type_symbol": "H",
         "_atom_site_description": "H_",
         "_atom_site_fract_x": "0.011981",
         "_atom_site_fract_y": "0.812264",
         "_atom_site_fract_z": "0.351748",
         "_atom_type_partial_charge": "0.171688",
         "_deepnote_index_column": 60
        },
        {
         "_atom_site_label": "H13",
         "_atom_site_type_symbol": "H",
         "_atom_site_description": "H_",
         "_atom_site_fract_x": "0.999105",
         "_atom_site_fract_y": "0.729500",
         "_atom_site_fract_z": "0.190390",
         "_atom_type_partial_charge": "0.177893",
         "_deepnote_index_column": 61
        },
        {
         "_atom_site_label": "C26",
         "_atom_site_type_symbol": "C",
         "_atom_site_description": "C_3",
         "_atom_site_fract_x": "0.153458",
         "_atom_site_fract_y": "0.859464",
         "_atom_site_fract_z": "0.207717",
         "_atom_type_partial_charge": "-0.648704",
         "_deepnote_index_column": 62
        },
        {
         "_atom_site_label": "H14",
         "_atom_site_type_symbol": "H",
         "_atom_site_description": "H_",
         "_atom_site_fract_x": "0.098242",
         "_atom_site_fract_y": "0.939459",
         "_atom_site_fract_z": "0.165677",
         "_atom_type_partial_charge": "0.223145",
         "_deepnote_index_column": 63
        },
        {
         "_atom_site_label": "H15",
         "_atom_site_type_symbol": "H",
         "_atom_site_description": "H_",
         "_atom_site_fract_x": "0.221787",
         "_atom_site_fract_y": "0.895585",
         "_atom_site_fract_z": "0.285201",
         "_atom_type_partial_charge": "0.264770",
         "_deepnote_index_column": 64
        },
        {
         "_atom_site_label": "H16",
         "_atom_site_type_symbol": "H",
         "_atom_site_description": "H_",
         "_atom_site_fract_x": "0.206138",
         "_atom_site_fract_y": "0.814830",
         "_atom_site_fract_z": "0.124739",
         "_atom_type_partial_charge": "0.270786",
         "_deepnote_index_column": 65
        },
        {
         "_atom_site_label": "C27",
         "_atom_site_type_symbol": "C",
         "_atom_site_description": "C_2",
         "_atom_site_fract_x": "0.627103",
         "_atom_site_fract_y": "0.138201",
         "_atom_site_fract_z": "0.259624",
         "_atom_type_partial_charge": "0.983337",
         "_deepnote_index_column": 66
        },
        {
         "_atom_site_label": "O14",
         "_atom_site_type_symbol": "O",
         "_atom_site_description": "O_2",
         "_atom_site_fract_x": "0.715445",
         "_atom_site_fract_y": "0.211622",
         "_atom_site_fract_z": "0.273289",
         "_atom_type_partial_charge": "-0.634044",
         "_deepnote_index_column": 67
        },
        {
         "_atom_site_label": "O15",
         "_atom_site_type_symbol": "O",
         "_atom_site_description": "O_R",
         "_atom_site_fract_x": "0.568762",
         "_atom_site_fract_y": "0.121778",
         "_atom_site_fract_z": "0.132946",
         "_atom_type_partial_charge": "-0.705183",
         "_deepnote_index_column": 68
        },
        {
         "_atom_site_label": "H17",
         "_atom_site_type_symbol": "H",
         "_atom_site_description": "H_",
         "_atom_site_fract_x": "0.607072",
         "_atom_site_fract_y": "0.177339",
         "_atom_site_fract_z": "0.061205",
         "_atom_type_partial_charge": "0.348788",
         "_deepnote_index_column": 69
        },
        {
         "_atom_site_label": "C28",
         "_atom_site_type_symbol": "C",
         "_atom_site_description": "C_2",
         "_atom_site_fract_x": "0.593269",
         "_atom_site_fract_y": "0.869333",
         "_atom_site_fract_z": "0.247298",
         "_atom_type_partial_charge": "1.044606",
         "_deepnote_index_column": 70
        },
        {
         "_atom_site_label": "O16",
         "_atom_site_type_symbol": "O",
         "_atom_site_description": "O_2",
         "_atom_site_fract_x": "0.697615",
         "_atom_site_fract_y": "0.829814",
         "_atom_site_fract_z": "0.219816",
         "_atom_type_partial_charge": "-0.651691",
         "_deepnote_index_column": 71
        },
        {
         "_atom_site_label": "O17",
         "_atom_site_type_symbol": "O",
         "_atom_site_description": "O_R",
         "_atom_site_fract_x": "0.489676",
         "_atom_site_fract_y": "0.847796",
         "_atom_site_fract_z": "0.160653",
         "_atom_type_partial_charge": "-0.748229",
         "_deepnote_index_column": 72
        },
        {
         "_atom_site_label": "H18",
         "_atom_site_type_symbol": "H",
         "_atom_site_description": "H_",
         "_atom_site_fract_x": "0.510436",
         "_atom_site_fract_y": "0.790445",
         "_atom_site_fract_z": "0.082829",
         "_atom_type_partial_charge": "0.335808",
         "_deepnote_index_column": 73
        },
        {
         "_atom_site_label": "C29",
         "_atom_site_type_symbol": "C",
         "_atom_site_description": "C_2",
         "_atom_site_fract_x": "0.611664",
         "_atom_site_fract_y": "0.879375",
         "_atom_site_fract_z": "0.852771",
         "_atom_type_partial_charge": "0.968948",
         "_deepnote_index_column": 74
        },
        {
         "_atom_site_label": "O18",
         "_atom_site_type_symbol": "O",
         "_atom_site_description": "O_2",
         "_atom_site_fract_x": "0.664348",
         "_atom_site_fract_y": "0.951309",
         "_atom_site_fract_z": "0.932154",
         "_atom_type_partial_charge": "-0.588923",
         "_deepnote_index_column": 75
        },
        {
         "_atom_site_label": "O19",
         "_atom_site_type_symbol": "O",
         "_atom_site_description": "O_R",
         "_atom_site_fract_x": "0.649805",
         "_atom_site_fract_y": "0.754158",
         "_atom_site_fract_z": "0.846563",
         "_atom_type_partial_charge": "-0.790535",
         "_deepnote_index_column": 76
        },
        {
         "_atom_site_label": "H19",
         "_atom_site_type_symbol": "H",
         "_atom_site_description": "H_",
         "_atom_site_fract_x": "0.720880",
         "_atom_site_fract_y": "0.734379",
         "_atom_site_fract_z": "0.913303",
         "_atom_type_partial_charge": "0.347912",
         "_deepnote_index_column": 77
        },
        {
         "_atom_site_label": "C30",
         "_atom_site_type_symbol": "C",
         "_atom_site_description": "C_2",
         "_atom_site_fract_x": "0.348847",
         "_atom_site_fract_y": "0.101593",
         "_atom_site_fract_z": "0.756535",
         "_atom_type_partial_charge": "0.967858",
         "_deepnote_index_column": 78
        },
        {
         "_atom_site_label": "O20",
         "_atom_site_type_symbol": "O",
         "_atom_site_description": "O_2",
         "_atom_site_fract_x": "0.293392",
         "_atom_site_fract_y": "0.097996",
         "_atom_site_fract_z": "0.863474",
         "_atom_type_partial_charge": "-0.568112",
         "_deepnote_index_column": 79
        },
        {
         "_atom_site_label": "O21",
         "_atom_site_type_symbol": "O",
         "_atom_site_description": "O_R",
         "_atom_site_fract_x": "0.284013",
         "_atom_site_fract_y": "0.135186",
         "_atom_site_fract_z": "0.637326",
         "_atom_type_partial_charge": "-0.818747",
         "_deepnote_index_column": 80
        },
        {
         "_atom_site_label": "H20",
         "_atom_site_type_symbol": "H",
         "_atom_site_description": "H_",
         "_atom_site_fract_x": "0.192378",
         "_atom_site_fract_y": "0.156135",
         "_atom_site_fract_z": "0.653048",
         "_atom_type_partial_charge": "0.338332",
         "_deepnote_index_column": 81
        }
       ],
       "rows_bottom": null
      },
      "text/plain": "   _atom_site_label _atom_site_type_symbol _atom_site_description  \\\n7                O1                      O                    O_R   \n8                O2                      O                    O_R   \n9                C1                      C                    C_R   \n10               O3                      O                    O_R   \n11               O4                      O                    O_R   \n..              ...                    ...                    ...   \n77              H19                      H                     H_   \n78              C30                      C                    C_2   \n79              O20                      O                    O_2   \n80              O21                      O                    O_R   \n81              H20                      H                     H_   \n\n   _atom_site_fract_x _atom_site_fract_y _atom_site_fract_z  \\\n7            0.500020           0.316790           0.614690   \n8            0.500000           0.316760           0.385350   \n9            0.511239           0.260617           0.499919   \n10           0.319080           0.500020           0.614640   \n11           0.319070           0.499980           0.385300   \n..                ...                ...                ...   \n77           0.720880           0.734379           0.913303   \n78           0.348847           0.101593           0.756535   \n79           0.293392           0.097996           0.863474   \n80           0.284013           0.135186           0.637326   \n81           0.192378           0.156135           0.653048   \n\n   _atom_type_partial_charge  \n7                  -0.628319  \n8                  -0.604978  \n9                   0.943344  \n10                 -0.626555  \n11                 -0.570235  \n..                       ...  \n77                  0.347912  \n78                  0.967858  \n79                 -0.568112  \n80                 -0.818747  \n81                  0.338332  \n\n[75 rows x 7 columns]",
      "text/html": "<div>\n<style scoped>\n    .dataframe tbody tr th:only-of-type {\n        vertical-align: middle;\n    }\n\n    .dataframe tbody tr th {\n        vertical-align: top;\n    }\n\n    .dataframe thead th {\n        text-align: right;\n    }\n</style>\n<table border=\"1\" class=\"dataframe\">\n  <thead>\n    <tr style=\"text-align: right;\">\n      <th></th>\n      <th>_atom_site_label</th>\n      <th>_atom_site_type_symbol</th>\n      <th>_atom_site_description</th>\n      <th>_atom_site_fract_x</th>\n      <th>_atom_site_fract_y</th>\n      <th>_atom_site_fract_z</th>\n      <th>_atom_type_partial_charge</th>\n    </tr>\n  </thead>\n  <tbody>\n    <tr>\n      <th>7</th>\n      <td>O1</td>\n      <td>O</td>\n      <td>O_R</td>\n      <td>0.500020</td>\n      <td>0.316790</td>\n      <td>0.614690</td>\n      <td>-0.628319</td>\n    </tr>\n    <tr>\n      <th>8</th>\n      <td>O2</td>\n      <td>O</td>\n      <td>O_R</td>\n      <td>0.500000</td>\n      <td>0.316760</td>\n      <td>0.385350</td>\n      <td>-0.604978</td>\n    </tr>\n    <tr>\n      <th>9</th>\n      <td>C1</td>\n      <td>C</td>\n      <td>C_R</td>\n      <td>0.511239</td>\n      <td>0.260617</td>\n      <td>0.499919</td>\n      <td>0.943344</td>\n    </tr>\n    <tr>\n      <th>10</th>\n      <td>O3</td>\n      <td>O</td>\n      <td>O_R</td>\n      <td>0.319080</td>\n      <td>0.500020</td>\n      <td>0.614640</td>\n      <td>-0.626555</td>\n    </tr>\n    <tr>\n      <th>11</th>\n      <td>O4</td>\n      <td>O</td>\n      <td>O_R</td>\n      <td>0.319070</td>\n      <td>0.499980</td>\n      <td>0.385300</td>\n      <td>-0.570235</td>\n    </tr>\n    <tr>\n      <th>...</th>\n      <td>...</td>\n      <td>...</td>\n      <td>...</td>\n      <td>...</td>\n      <td>...</td>\n      <td>...</td>\n      <td>...</td>\n    </tr>\n    <tr>\n      <th>77</th>\n      <td>H19</td>\n      <td>H</td>\n      <td>H_</td>\n      <td>0.720880</td>\n      <td>0.734379</td>\n      <td>0.913303</td>\n      <td>0.347912</td>\n    </tr>\n    <tr>\n      <th>78</th>\n      <td>C30</td>\n      <td>C</td>\n      <td>C_2</td>\n      <td>0.348847</td>\n      <td>0.101593</td>\n      <td>0.756535</td>\n      <td>0.967858</td>\n    </tr>\n    <tr>\n      <th>79</th>\n      <td>O20</td>\n      <td>O</td>\n      <td>O_2</td>\n      <td>0.293392</td>\n      <td>0.097996</td>\n      <td>0.863474</td>\n      <td>-0.568112</td>\n    </tr>\n    <tr>\n      <th>80</th>\n      <td>O21</td>\n      <td>O</td>\n      <td>O_R</td>\n      <td>0.284013</td>\n      <td>0.135186</td>\n      <td>0.637326</td>\n      <td>-0.818747</td>\n    </tr>\n    <tr>\n      <th>81</th>\n      <td>H20</td>\n      <td>H</td>\n      <td>H_</td>\n      <td>0.192378</td>\n      <td>0.156135</td>\n      <td>0.653048</td>\n      <td>0.338332</td>\n    </tr>\n  </tbody>\n</table>\n<p>75 rows × 7 columns</p>\n</div>"
     },
     "metadata": {}
    }
   ],
   "execution_count": 8
  },
  {
   "cell_type": "code",
   "source": "",
   "metadata": {
    "cell_id": "00009-a32cc2c5-6706-4138-813a-4b1e8446eff5",
    "deepnote_to_be_reexecuted": false,
    "source_hash": "b623e53d",
    "execution_start": 1632062332637,
    "execution_millis": 3,
    "deepnote_cell_type": "visualization"
   },
   "outputs": [],
   "execution_count": 8
  },
  {
   "cell_type": "code",
   "metadata": {
    "tags": [],
    "cell_id": "00011-3897d3b1-d980-43a2-8036-a1df4c118505",
    "deepnote_to_be_reexecuted": false,
    "source_hash": "8260556a",
    "execution_start": 1632062332663,
    "execution_millis": 10,
    "deepnote_cell_type": "code"
   },
   "source": "pd.DataFrame(adapted_cif['loops'][1])",
   "outputs": [
    {
     "output_type": "execute_result",
     "execution_count": 9,
     "data": {
      "application/vnd.deepnote.dataframe.v2+json": {
       "row_count": 75,
       "column_count": 7,
       "columns": [
        {
         "name": "_atom_site_label",
         "dtype": "object",
         "stats": {
          "unique_count": 75,
          "nan_count": 0,
          "categories": [
           {
            "name": "O1",
            "count": 1
           },
           {
            "name": "O2",
            "count": 1
           },
           {
            "name": "73 others",
            "count": 73
           }
          ]
         }
        },
        {
         "name": "_atom_site_type_symbol",
         "dtype": "object",
         "stats": {
          "unique_count": 5,
          "nan_count": 0,
          "categories": [
           {
            "name": "C",
            "count": 30
           },
           {
            "name": "O",
            "count": 21
           },
           {
            "name": "3 others",
            "count": 24
           }
          ]
         }
        },
        {
         "name": "_atom_site_description",
         "dtype": "object",
         "stats": {
          "unique_count": 9,
          "nan_count": 0,
          "categories": [
           {
            "name": "H_",
            "count": 20
           },
           {
            "name": "O_R",
            "count": 14
           },
           {
            "name": "7 others",
            "count": 41
           }
          ]
         }
        },
        {
         "name": "_atom_site_fract_x",
         "dtype": "object",
         "stats": {
          "unique_count": 73,
          "nan_count": 0,
          "categories": [
           {
            "name": "0.500000",
            "count": 2
           },
           {
            "name": "0.499170",
            "count": 2
           },
           {
            "name": "71 others",
            "count": 71
           }
          ]
         }
        },
        {
         "name": "_atom_site_fract_y",
         "dtype": "object",
         "stats": {
          "unique_count": 71,
          "nan_count": 0,
          "categories": [
           {
            "name": "0.500020",
            "count": 3
           },
           {
            "name": "0.499980",
            "count": 3
           },
           {
            "name": "69 others",
            "count": 69
           }
          ]
         }
        },
        {
         "name": "_atom_site_fract_z",
         "dtype": "object",
         "stats": {
          "unique_count": 75,
          "nan_count": 0,
          "categories": [
           {
            "name": "0.614690",
            "count": 1
           },
           {
            "name": "0.385350",
            "count": 1
           },
           {
            "name": "73 others",
            "count": 73
           }
          ]
         }
        },
        {
         "name": "_atom_type_partial_charge",
         "dtype": "object",
         "stats": {
          "unique_count": 75,
          "nan_count": 0,
          "categories": [
           {
            "name": "-0.628319",
            "count": 1
           },
           {
            "name": "-0.604978",
            "count": 1
           },
           {
            "name": "73 others",
            "count": 73
           }
          ]
         }
        },
        {
         "name": "_deepnote_index_column",
         "dtype": "int64"
        }
       ],
       "rows_top": [
        {
         "_atom_site_label": "O1",
         "_atom_site_type_symbol": "O",
         "_atom_site_description": "O_R",
         "_atom_site_fract_x": "0.500020",
         "_atom_site_fract_y": "0.316790",
         "_atom_site_fract_z": "0.614690",
         "_atom_type_partial_charge": "-0.628319",
         "_deepnote_index_column": 7
        },
        {
         "_atom_site_label": "O2",
         "_atom_site_type_symbol": "O",
         "_atom_site_description": "O_R",
         "_atom_site_fract_x": "0.500000",
         "_atom_site_fract_y": "0.316760",
         "_atom_site_fract_z": "0.385350",
         "_atom_type_partial_charge": "-0.604978",
         "_deepnote_index_column": 8
        },
        {
         "_atom_site_label": "C1",
         "_atom_site_type_symbol": "C",
         "_atom_site_description": "C_R",
         "_atom_site_fract_x": "0.511239",
         "_atom_site_fract_y": "0.260617",
         "_atom_site_fract_z": "0.499919",
         "_atom_type_partial_charge": "0.943344",
         "_deepnote_index_column": 9
        },
        {
         "_atom_site_label": "O3",
         "_atom_site_type_symbol": "O",
         "_atom_site_description": "O_R",
         "_atom_site_fract_x": "0.319080",
         "_atom_site_fract_y": "0.500020",
         "_atom_site_fract_z": "0.614640",
         "_atom_type_partial_charge": "-0.626555",
         "_deepnote_index_column": 10
        },
        {
         "_atom_site_label": "O4",
         "_atom_site_type_symbol": "O",
         "_atom_site_description": "O_R",
         "_atom_site_fract_x": "0.319070",
         "_atom_site_fract_y": "0.499980",
         "_atom_site_fract_z": "0.385300",
         "_atom_type_partial_charge": "-0.570235",
         "_deepnote_index_column": 11
        },
        {
         "_atom_site_label": "C2",
         "_atom_site_type_symbol": "C",
         "_atom_site_description": "C_R",
         "_atom_site_fract_x": "0.262196",
         "_atom_site_fract_y": "0.501710",
         "_atom_site_fract_z": "0.498339",
         "_atom_type_partial_charge": "1.002569",
         "_deepnote_index_column": 12
        },
        {
         "_atom_site_label": "Zn1",
         "_atom_site_type_symbol": "Zn",
         "_atom_site_description": "Zn3+2",
         "_atom_site_fract_x": "0.500010",
         "_atom_site_fract_y": "0.500020",
         "_atom_site_fract_z": "0.653130",
         "_atom_type_partial_charge": "1.000757",
         "_deepnote_index_column": 13
        },
        {
         "_atom_site_label": "Zn2",
         "_atom_site_type_symbol": "Zn",
         "_atom_site_description": "Zn3+2",
         "_atom_site_fract_x": "0.499990",
         "_atom_site_fract_y": "0.499980",
         "_atom_site_fract_z": "0.346870",
         "_atom_type_partial_charge": "1.025705",
         "_deepnote_index_column": 14
        },
        {
         "_atom_site_label": "O5",
         "_atom_site_type_symbol": "O",
         "_atom_site_description": "O_R",
         "_atom_site_fract_x": "0.500000",
         "_atom_site_fract_y": "0.683240",
         "_atom_site_fract_z": "0.614650",
         "_atom_type_partial_charge": "-0.570489",
         "_deepnote_index_column": 15
        },
        {
         "_atom_site_label": "O6",
         "_atom_site_type_symbol": "O",
         "_atom_site_description": "O_R",
         "_atom_site_fract_x": "0.499980",
         "_atom_site_fract_y": "0.683210",
         "_atom_site_fract_z": "0.385310",
         "_atom_type_partial_charge": "-0.610657",
         "_deepnote_index_column": 16
        },
        {
         "_atom_site_label": "O7",
         "_atom_site_type_symbol": "O",
         "_atom_site_description": "O_R",
         "_atom_site_fract_x": "0.680930",
         "_atom_site_fract_y": "0.500020",
         "_atom_site_fract_z": "0.614700",
         "_atom_type_partial_charge": "-0.620685",
         "_deepnote_index_column": 17
        },
        {
         "_atom_site_label": "O8",
         "_atom_site_type_symbol": "O",
         "_atom_site_description": "O_R",
         "_atom_site_fract_x": "0.680920",
         "_atom_site_fract_y": "0.499980",
         "_atom_site_fract_z": "0.385360",
         "_atom_type_partial_charge": "-0.610988",
         "_deepnote_index_column": 18
        },
        {
         "_atom_site_label": "C3",
         "_atom_site_type_symbol": "C",
         "_atom_site_description": "C_R",
         "_atom_site_fract_x": "0.510568",
         "_atom_site_fract_y": "0.739929",
         "_atom_site_fract_z": "0.499534",
         "_atom_type_partial_charge": "0.896293",
         "_deepnote_index_column": 19
        },
        {
         "_atom_site_label": "C4",
         "_atom_site_type_symbol": "C",
         "_atom_site_description": "C_R",
         "_atom_site_fract_x": "0.737527",
         "_atom_site_fract_y": "0.508812",
         "_atom_site_fract_z": "0.501655",
         "_atom_type_partial_charge": "0.975323",
         "_deepnote_index_column": 20
        },
        {
         "_atom_site_label": "C5",
         "_atom_site_type_symbol": "C",
         "_atom_site_description": "C_2",
         "_atom_site_fract_x": "0.930827",
         "_atom_site_fract_y": "0.569775",
         "_atom_site_fract_z": "0.397062",
         "_atom_type_partial_charge": "-0.267646",
         "_deepnote_index_column": 21
        },
        {
         "_atom_site_label": "C6",
         "_atom_site_type_symbol": "C",
         "_atom_site_description": "C_2",
         "_atom_site_fract_x": "0.867912",
         "_atom_site_fract_y": "0.540715",
         "_atom_site_fract_z": "0.508063",
         "_atom_type_partial_charge": "-0.373889",
         "_deepnote_index_column": 22
        },
        {
         "_atom_site_label": "H1",
         "_atom_site_type_symbol": "H",
         "_atom_site_description": "H_",
         "_atom_site_fract_x": "0.883642",
         "_atom_site_fract_y": "0.576040",
         "_atom_site_fract_z": "0.298736",
         "_atom_type_partial_charge": "0.194450",
         "_deepnote_index_column": 23
        },
        {
         "_atom_site_label": "H2",
         "_atom_site_type_symbol": "H",
         "_atom_site_description": "H_",
         "_atom_site_fract_x": "0.912693",
         "_atom_site_fract_y": "0.544315",
         "_atom_site_fract_z": "0.607909",
         "_atom_type_partial_charge": "0.190144",
         "_deepnote_index_column": 24
        },
        {
         "_atom_site_label": "C7",
         "_atom_site_type_symbol": "C",
         "_atom_site_description": "C_2",
         "_atom_site_fract_x": "0.068028",
         "_atom_site_fract_y": "0.583440",
         "_atom_site_fract_z": "0.406634",
         "_atom_type_partial_charge": "0.520947",
         "_deepnote_index_column": 25
        },
        {
         "_atom_site_label": "C8",
         "_atom_site_type_symbol": "C",
         "_atom_site_description": "C_2",
         "_atom_site_fract_x": "0.128795",
         "_atom_site_fract_y": "0.505510",
         "_atom_site_fract_z": "0.492625",
         "_atom_type_partial_charge": "-0.331481",
         "_deepnote_index_column": 26
        },
        {
         "_atom_site_label": "H3",
         "_atom_site_type_symbol": "H",
         "_atom_site_description": "H_",
         "_atom_site_fract_x": "0.081055",
         "_atom_site_fract_y": "0.439155",
         "_atom_site_fract_z": "0.557711",
         "_atom_type_partial_charge": "0.116745",
         "_deepnote_index_column": 27
        },
        {
         "_atom_site_label": "C9",
         "_atom_site_type_symbol": "C",
         "_atom_site_description": "C_R",
         "_atom_site_fract_x": "0.542308",
         "_atom_site_fract_y": "0.061957",
         "_atom_site_fract_z": "0.617598",
         "_atom_type_partial_charge": "0.024709",
         "_deepnote_index_column": 28
        },
        {
         "_atom_site_label": "C10",
         "_atom_site_type_symbol": "C",
         "_atom_site_description": "C_R",
         "_atom_site_fract_x": "0.544707",
         "_atom_site_fract_y": "0.130616",
         "_atom_site_fract_z": "0.498806",
         "_atom_type_partial_charge": "-0.126066",
         "_deepnote_index_column": 29
        },
        {
         "_atom_site_label": "C11",
         "_atom_site_type_symbol": "C",
         "_atom_site_description": "C_R",
         "_atom_site_fract_x": "0.581067",
         "_atom_site_fract_y": "0.068110",
         "_atom_site_fract_z": "0.378982",
         "_atom_type_partial_charge": "-0.127392",
         "_deepnote_index_column": 30
        },
        {
         "_atom_site_label": "C12",
         "_atom_site_type_symbol": "C",
         "_atom_site_description": "C_R",
         "_atom_site_fract_x": "0.574316",
         "_atom_site_fract_y": "0.935900",
         "_atom_site_fract_z": "0.376234",
         "_atom_type_partial_charge": "-0.132731",
         "_deepnote_index_column": 31
        },
        {
         "_atom_site_label": "C13",
         "_atom_site_type_symbol": "C",
         "_atom_site_description": "C_R",
         "_atom_site_fract_x": "0.545263",
         "_atom_site_fract_y": "0.870515",
         "_atom_site_fract_z": "0.497676",
         "_atom_type_partial_charge": "-0.176366",
         "_deepnote_index_column": 32
        },
        {
         "_atom_site_label": "C14",
         "_atom_site_type_symbol": "C",
         "_atom_site_description": "C_R",
         "_atom_site_fract_x": "0.555117",
         "_atom_site_fract_y": "0.936088",
         "_atom_site_fract_z": "0.618583",
         "_atom_type_partial_charge": "0.034483",
         "_deepnote_index_column": 33
        },
        {
         "_atom_site_label": "C15",
         "_atom_site_type_symbol": "C",
         "_atom_site_description": "C_3",
         "_atom_site_fract_x": "0.506793",
         "_atom_site_fract_y": "0.924219",
         "_atom_site_fract_z": "0.759156",
         "_atom_type_partial_charge": "-0.265723",
         "_deepnote_index_column": 34
        },
        {
         "_atom_site_label": "C16",
         "_atom_site_type_symbol": "C",
         "_atom_site_description": "C_3",
         "_atom_site_fract_x": "0.486891",
         "_atom_site_fract_y": "0.067823",
         "_atom_site_fract_z": "0.755195",
         "_atom_type_partial_charge": "-0.247828",
         "_deepnote_index_column": 35
        },
        {
         "_atom_site_label": "H4",
         "_atom_site_type_symbol": "H",
         "_atom_site_description": "H_",
         "_atom_site_fract_x": "0.418904",
         "_atom_site_fract_y": "0.867225",
         "_atom_site_fract_z": "0.765367",
         "_atom_type_partial_charge": "0.187079",
         "_deepnote_index_column": 36
        },
        {
         "_atom_site_label": "H5",
         "_atom_site_type_symbol": "H",
         "_atom_site_description": "H_",
         "_atom_site_fract_x": "0.545909",
         "_atom_site_fract_y": "0.125120",
         "_atom_site_fract_z": "0.825990",
         "_atom_type_partial_charge": "0.180625",
         "_deepnote_index_column": 37
        },
        {
         "_atom_site_label": "C17",
         "_atom_site_type_symbol": "C",
         "_atom_site_description": "C_R",
         "_atom_site_fract_x": "0.396386",
         "_atom_site_fract_y": "0.537167",
         "_atom_site_fract_z": "0.068603",
         "_atom_type_partial_charge": "0.121204",
         "_deepnote_index_column": 38
        },
        {
         "_atom_site_label": "N1",
         "_atom_site_type_symbol": "N",
         "_atom_site_description": "N_R",
         "_atom_site_fract_x": "0.499170",
         "_atom_site_fract_y": "0.499140",
         "_atom_site_fract_z": "0.142800",
         "_atom_type_partial_charge": "-0.105731",
         "_deepnote_index_column": 39
        },
        {
         "_atom_site_label": "C18",
         "_atom_site_type_symbol": "C",
         "_atom_site_description": "C_R",
         "_atom_site_fract_x": "0.605747",
         "_atom_site_fract_y": "0.469580",
         "_atom_site_fract_z": "0.074239",
         "_atom_type_partial_charge": "-0.086676",
         "_deepnote_index_column": 40
        },
        {
         "_atom_site_label": "H6",
         "_atom_site_type_symbol": "H",
         "_atom_site_description": "H_",
         "_atom_site_fract_x": "0.690570",
         "_atom_site_fract_y": "0.443611",
         "_atom_site_fract_z": "0.129711",
         "_atom_type_partial_charge": "0.183867",
         "_deepnote_index_column": 41
        },
        {
         "_atom_site_label": "C19",
         "_atom_site_type_symbol": "C",
         "_atom_site_description": "C_R",
         "_atom_site_fract_x": "0.605467",
         "_atom_site_fract_y": "0.468644",
         "_atom_site_fract_z": "0.930630",
         "_atom_type_partial_charge": "-0.086985",
         "_deepnote_index_column": 42
        },
        {
         "_atom_site_label": "H7",
         "_atom_site_type_symbol": "H",
         "_atom_site_description": "H_",
         "_atom_site_fract_x": "0.689906",
         "_atom_site_fract_y": "0.441812",
         "_atom_site_fract_z": "0.878874",
         "_atom_type_partial_charge": "0.166318",
         "_deepnote_index_column": 43
        },
        {
         "_atom_site_label": "N2",
         "_atom_site_type_symbol": "N",
         "_atom_site_description": "N_R",
         "_atom_site_fract_x": "0.499170",
         "_atom_site_fract_y": "0.499180",
         "_atom_site_fract_z": "0.857150",
         "_atom_type_partial_charge": "-0.097241",
         "_deepnote_index_column": 44
        },
        {
         "_atom_site_label": "C20",
         "_atom_site_type_symbol": "C",
         "_atom_site_description": "C_R",
         "_atom_site_fract_x": "0.397006",
         "_atom_site_fract_y": "0.539482",
         "_atom_site_fract_z": "0.926231",
         "_atom_type_partial_charge": "0.213850",
         "_deepnote_index_column": 45
        },
        {
         "_atom_site_label": "C21",
         "_atom_site_type_symbol": "C",
         "_atom_site_description": "C_3",
         "_atom_site_fract_x": "0.266436",
         "_atom_site_fract_y": "0.485936",
         "_atom_site_fract_z": "0.915125",
         "_atom_type_partial_charge": "-0.330304",
         "_deepnote_index_column": 46
        },
        {
         "_atom_site_label": "C22",
         "_atom_site_type_symbol": "C",
         "_atom_site_description": "C_3",
         "_atom_site_fract_x": "0.266449",
         "_atom_site_fract_y": "0.481033",
         "_atom_site_fract_z": "0.069437",
         "_atom_type_partial_charge": "-0.364546",
         "_deepnote_index_column": 47
        },
        {
         "_atom_site_label": "H8",
         "_atom_site_type_symbol": "H",
         "_atom_site_description": "H_",
         "_atom_site_fract_x": "0.263643",
         "_atom_site_fract_y": "0.392929",
         "_atom_site_fract_z": "0.863729",
         "_atom_type_partial_charge": "0.177499",
         "_deepnote_index_column": 48
        },
        {
         "_atom_site_label": "H9",
         "_atom_site_type_symbol": "H",
         "_atom_site_description": "H_",
         "_atom_site_fract_x": "0.197264",
         "_atom_site_fract_y": "0.545248",
         "_atom_site_fract_z": "0.115246",
         "_atom_type_partial_charge": "0.209983",
         "_deepnote_index_column": 49
        },
        {
         "_atom_site_label": "C23",
         "_atom_site_type_symbol": "C",
         "_atom_site_description": "C_2",
         "_atom_site_fract_x": "0.171141",
         "_atom_site_fract_y": "0.577266",
         "_atom_site_fract_z": "0.857497",
         "_atom_type_partial_charge": "0.946284",
         "_deepnote_index_column": 50
        },
        {
         "_atom_site_label": "O9",
         "_atom_site_type_symbol": "O",
         "_atom_site_description": "O_2",
         "_atom_site_fract_x": "0.059246",
         "_atom_site_fract_y": "0.549414",
         "_atom_site_fract_z": "0.857425",
         "_atom_type_partial_charge": "-0.646017",
         "_deepnote_index_column": 51
        },
        {
         "_atom_site_label": "O10",
         "_atom_site_type_symbol": "O",
         "_atom_site_description": "O_R",
         "_atom_site_fract_x": "0.209951",
         "_atom_site_fract_y": "0.692476",
         "_atom_site_fract_z": "0.803818",
         "_atom_type_partial_charge": "-0.797600",
         "_deepnote_index_column": 52
        },
        {
         "_atom_site_label": "H10",
         "_atom_site_type_symbol": "H",
         "_atom_site_description": "H_",
         "_atom_site_fract_x": "0.136747",
         "_atom_site_fract_y": "0.744306",
         "_atom_site_fract_z": "0.767493",
         "_atom_type_partial_charge": "0.342181",
         "_deepnote_index_column": 53
        },
        {
         "_atom_site_label": "C24",
         "_atom_site_type_symbol": "C",
         "_atom_site_description": "C_2",
         "_atom_site_fract_x": "0.260153",
         "_atom_site_fract_y": "0.349325",
         "_atom_site_fract_z": "0.125907",
         "_atom_type_partial_charge": "1.043635",
         "_deepnote_index_column": 54
        },
        {
         "_atom_site_label": "O11",
         "_atom_site_type_symbol": "O",
         "_atom_site_description": "O_2",
         "_atom_site_fract_x": "0.336701",
         "_atom_site_fract_y": "0.270098",
         "_atom_site_fract_z": "0.092940",
         "_atom_type_partial_charge": "-0.567578",
         "_deepnote_index_column": 55
        },
        {
         "_atom_site_label": "O12",
         "_atom_site_type_symbol": "O",
         "_atom_site_description": "O_R",
         "_atom_site_fract_x": "0.165281",
         "_atom_site_fract_y": "0.318404",
         "_atom_site_fract_z": "0.216075",
         "_atom_type_partial_charge": "-0.787176",
         "_deepnote_index_column": 56
        },
        {
         "_atom_site_label": "H11",
         "_atom_site_type_symbol": "H",
         "_atom_site_description": "H_",
         "_atom_site_fract_x": "0.170596",
         "_atom_site_fract_y": "0.228007",
         "_atom_site_fract_z": "0.248129",
         "_atom_type_partial_charge": "0.347813",
         "_deepnote_index_column": 57
        },
        {
         "_atom_site_label": "O13",
         "_atom_site_type_symbol": "O",
         "_atom_site_description": "O_3",
         "_atom_site_fract_x": "0.137476",
         "_atom_site_fract_y": "0.663928",
         "_atom_site_fract_z": "0.324456",
         "_atom_type_partial_charge": "-0.619386",
         "_deepnote_index_column": 58
        },
        {
         "_atom_site_label": "C25",
         "_atom_site_type_symbol": "C",
         "_atom_site_description": "C_3",
         "_atom_site_fract_x": "0.065154",
         "_atom_site_fract_y": "0.764067",
         "_atom_site_fract_z": "0.271025",
         "_atom_type_partial_charge": "0.045757",
         "_deepnote_index_column": 59
        },
        {
         "_atom_site_label": "H12",
         "_atom_site_type_symbol": "H",
         "_atom_site_description": "H_",
         "_atom_site_fract_x": "0.011981",
         "_atom_site_fract_y": "0.812264",
         "_atom_site_fract_z": "0.351748",
         "_atom_type_partial_charge": "0.171688",
         "_deepnote_index_column": 60
        },
        {
         "_atom_site_label": "H13",
         "_atom_site_type_symbol": "H",
         "_atom_site_description": "H_",
         "_atom_site_fract_x": "0.999105",
         "_atom_site_fract_y": "0.729500",
         "_atom_site_fract_z": "0.190390",
         "_atom_type_partial_charge": "0.177893",
         "_deepnote_index_column": 61
        },
        {
         "_atom_site_label": "C26",
         "_atom_site_type_symbol": "C",
         "_atom_site_description": "C_3",
         "_atom_site_fract_x": "0.153458",
         "_atom_site_fract_y": "0.859464",
         "_atom_site_fract_z": "0.207717",
         "_atom_type_partial_charge": "-0.648704",
         "_deepnote_index_column": 62
        },
        {
         "_atom_site_label": "H14",
         "_atom_site_type_symbol": "H",
         "_atom_site_description": "H_",
         "_atom_site_fract_x": "0.098242",
         "_atom_site_fract_y": "0.939459",
         "_atom_site_fract_z": "0.165677",
         "_atom_type_partial_charge": "0.223145",
         "_deepnote_index_column": 63
        },
        {
         "_atom_site_label": "H15",
         "_atom_site_type_symbol": "H",
         "_atom_site_description": "H_",
         "_atom_site_fract_x": "0.221787",
         "_atom_site_fract_y": "0.895585",
         "_atom_site_fract_z": "0.285201",
         "_atom_type_partial_charge": "0.264770",
         "_deepnote_index_column": 64
        },
        {
         "_atom_site_label": "H16",
         "_atom_site_type_symbol": "H",
         "_atom_site_description": "H_",
         "_atom_site_fract_x": "0.206138",
         "_atom_site_fract_y": "0.814830",
         "_atom_site_fract_z": "0.124739",
         "_atom_type_partial_charge": "0.270786",
         "_deepnote_index_column": 65
        },
        {
         "_atom_site_label": "C27",
         "_atom_site_type_symbol": "C",
         "_atom_site_description": "C_2",
         "_atom_site_fract_x": "0.627103",
         "_atom_site_fract_y": "0.138201",
         "_atom_site_fract_z": "0.259624",
         "_atom_type_partial_charge": "0.983337",
         "_deepnote_index_column": 66
        },
        {
         "_atom_site_label": "O14",
         "_atom_site_type_symbol": "O",
         "_atom_site_description": "O_2",
         "_atom_site_fract_x": "0.715445",
         "_atom_site_fract_y": "0.211622",
         "_atom_site_fract_z": "0.273289",
         "_atom_type_partial_charge": "-0.634044",
         "_deepnote_index_column": 67
        },
        {
         "_atom_site_label": "O15",
         "_atom_site_type_symbol": "O",
         "_atom_site_description": "O_R",
         "_atom_site_fract_x": "0.568762",
         "_atom_site_fract_y": "0.121778",
         "_atom_site_fract_z": "0.132946",
         "_atom_type_partial_charge": "-0.705183",
         "_deepnote_index_column": 68
        },
        {
         "_atom_site_label": "H17",
         "_atom_site_type_symbol": "H",
         "_atom_site_description": "H_",
         "_atom_site_fract_x": "0.607072",
         "_atom_site_fract_y": "0.177339",
         "_atom_site_fract_z": "0.061205",
         "_atom_type_partial_charge": "0.348788",
         "_deepnote_index_column": 69
        },
        {
         "_atom_site_label": "C28",
         "_atom_site_type_symbol": "C",
         "_atom_site_description": "C_2",
         "_atom_site_fract_x": "0.593269",
         "_atom_site_fract_y": "0.869333",
         "_atom_site_fract_z": "0.247298",
         "_atom_type_partial_charge": "1.044606",
         "_deepnote_index_column": 70
        },
        {
         "_atom_site_label": "O16",
         "_atom_site_type_symbol": "O",
         "_atom_site_description": "O_2",
         "_atom_site_fract_x": "0.697615",
         "_atom_site_fract_y": "0.829814",
         "_atom_site_fract_z": "0.219816",
         "_atom_type_partial_charge": "-0.651691",
         "_deepnote_index_column": 71
        },
        {
         "_atom_site_label": "O17",
         "_atom_site_type_symbol": "O",
         "_atom_site_description": "O_R",
         "_atom_site_fract_x": "0.489676",
         "_atom_site_fract_y": "0.847796",
         "_atom_site_fract_z": "0.160653",
         "_atom_type_partial_charge": "-0.748229",
         "_deepnote_index_column": 72
        },
        {
         "_atom_site_label": "H18",
         "_atom_site_type_symbol": "H",
         "_atom_site_description": "H_",
         "_atom_site_fract_x": "0.510436",
         "_atom_site_fract_y": "0.790445",
         "_atom_site_fract_z": "0.082829",
         "_atom_type_partial_charge": "0.335808",
         "_deepnote_index_column": 73
        },
        {
         "_atom_site_label": "C29",
         "_atom_site_type_symbol": "C",
         "_atom_site_description": "C_2",
         "_atom_site_fract_x": "0.611664",
         "_atom_site_fract_y": "0.879375",
         "_atom_site_fract_z": "0.852771",
         "_atom_type_partial_charge": "0.968948",
         "_deepnote_index_column": 74
        },
        {
         "_atom_site_label": "O18",
         "_atom_site_type_symbol": "O",
         "_atom_site_description": "O_2",
         "_atom_site_fract_x": "0.664348",
         "_atom_site_fract_y": "0.951309",
         "_atom_site_fract_z": "0.932154",
         "_atom_type_partial_charge": "-0.588923",
         "_deepnote_index_column": 75
        },
        {
         "_atom_site_label": "O19",
         "_atom_site_type_symbol": "O",
         "_atom_site_description": "O_R",
         "_atom_site_fract_x": "0.649805",
         "_atom_site_fract_y": "0.754158",
         "_atom_site_fract_z": "0.846563",
         "_atom_type_partial_charge": "-0.790535",
         "_deepnote_index_column": 76
        },
        {
         "_atom_site_label": "H19",
         "_atom_site_type_symbol": "H",
         "_atom_site_description": "H_",
         "_atom_site_fract_x": "0.720880",
         "_atom_site_fract_y": "0.734379",
         "_atom_site_fract_z": "0.913303",
         "_atom_type_partial_charge": "0.347912",
         "_deepnote_index_column": 77
        },
        {
         "_atom_site_label": "C30",
         "_atom_site_type_symbol": "C",
         "_atom_site_description": "C_2",
         "_atom_site_fract_x": "0.348847",
         "_atom_site_fract_y": "0.101593",
         "_atom_site_fract_z": "0.756535",
         "_atom_type_partial_charge": "0.967858",
         "_deepnote_index_column": 78
        },
        {
         "_atom_site_label": "O20",
         "_atom_site_type_symbol": "O",
         "_atom_site_description": "O_2",
         "_atom_site_fract_x": "0.293392",
         "_atom_site_fract_y": "0.097996",
         "_atom_site_fract_z": "0.863474",
         "_atom_type_partial_charge": "-0.568112",
         "_deepnote_index_column": 79
        },
        {
         "_atom_site_label": "O21",
         "_atom_site_type_symbol": "O",
         "_atom_site_description": "O_R",
         "_atom_site_fract_x": "0.284013",
         "_atom_site_fract_y": "0.135186",
         "_atom_site_fract_z": "0.637326",
         "_atom_type_partial_charge": "-0.818747",
         "_deepnote_index_column": 80
        },
        {
         "_atom_site_label": "H20",
         "_atom_site_type_symbol": "H",
         "_atom_site_description": "H_",
         "_atom_site_fract_x": "0.192378",
         "_atom_site_fract_y": "0.156135",
         "_atom_site_fract_z": "0.653048",
         "_atom_type_partial_charge": "0.338332",
         "_deepnote_index_column": 81
        }
       ],
       "rows_bottom": null
      },
      "text/plain": "   _atom_site_label _atom_site_type_symbol _atom_site_description  \\\n7                O1                      O                    O_R   \n8                O2                      O                    O_R   \n9                C1                      C                    C_R   \n10               O3                      O                    O_R   \n11               O4                      O                    O_R   \n..              ...                    ...                    ...   \n77              H19                      H                     H_   \n78              C30                      C                    C_2   \n79              O20                      O                    O_2   \n80              O21                      O                    O_R   \n81              H20                      H                     H_   \n\n   _atom_site_fract_x _atom_site_fract_y _atom_site_fract_z  \\\n7            0.500020           0.316790           0.614690   \n8            0.500000           0.316760           0.385350   \n9            0.511239           0.260617           0.499919   \n10           0.319080           0.500020           0.614640   \n11           0.319070           0.499980           0.385300   \n..                ...                ...                ...   \n77           0.720880           0.734379           0.913303   \n78           0.348847           0.101593           0.756535   \n79           0.293392           0.097996           0.863474   \n80           0.284013           0.135186           0.637326   \n81           0.192378           0.156135           0.653048   \n\n   _atom_type_partial_charge  \n7                  -0.628319  \n8                  -0.604978  \n9                   0.943344  \n10                 -0.626555  \n11                 -0.570235  \n..                       ...  \n77                  0.347912  \n78                  0.967858  \n79                 -0.568112  \n80                 -0.818747  \n81                  0.338332  \n\n[75 rows x 7 columns]",
      "text/html": "<div>\n<style scoped>\n    .dataframe tbody tr th:only-of-type {\n        vertical-align: middle;\n    }\n\n    .dataframe tbody tr th {\n        vertical-align: top;\n    }\n\n    .dataframe thead th {\n        text-align: right;\n    }\n</style>\n<table border=\"1\" class=\"dataframe\">\n  <thead>\n    <tr style=\"text-align: right;\">\n      <th></th>\n      <th>_atom_site_label</th>\n      <th>_atom_site_type_symbol</th>\n      <th>_atom_site_description</th>\n      <th>_atom_site_fract_x</th>\n      <th>_atom_site_fract_y</th>\n      <th>_atom_site_fract_z</th>\n      <th>_atom_type_partial_charge</th>\n    </tr>\n  </thead>\n  <tbody>\n    <tr>\n      <th>7</th>\n      <td>O1</td>\n      <td>O</td>\n      <td>O_R</td>\n      <td>0.500020</td>\n      <td>0.316790</td>\n      <td>0.614690</td>\n      <td>-0.628319</td>\n    </tr>\n    <tr>\n      <th>8</th>\n      <td>O2</td>\n      <td>O</td>\n      <td>O_R</td>\n      <td>0.500000</td>\n      <td>0.316760</td>\n      <td>0.385350</td>\n      <td>-0.604978</td>\n    </tr>\n    <tr>\n      <th>9</th>\n      <td>C1</td>\n      <td>C</td>\n      <td>C_R</td>\n      <td>0.511239</td>\n      <td>0.260617</td>\n      <td>0.499919</td>\n      <td>0.943344</td>\n    </tr>\n    <tr>\n      <th>10</th>\n      <td>O3</td>\n      <td>O</td>\n      <td>O_R</td>\n      <td>0.319080</td>\n      <td>0.500020</td>\n      <td>0.614640</td>\n      <td>-0.626555</td>\n    </tr>\n    <tr>\n      <th>11</th>\n      <td>O4</td>\n      <td>O</td>\n      <td>O_R</td>\n      <td>0.319070</td>\n      <td>0.499980</td>\n      <td>0.385300</td>\n      <td>-0.570235</td>\n    </tr>\n    <tr>\n      <th>...</th>\n      <td>...</td>\n      <td>...</td>\n      <td>...</td>\n      <td>...</td>\n      <td>...</td>\n      <td>...</td>\n      <td>...</td>\n    </tr>\n    <tr>\n      <th>77</th>\n      <td>H19</td>\n      <td>H</td>\n      <td>H_</td>\n      <td>0.720880</td>\n      <td>0.734379</td>\n      <td>0.913303</td>\n      <td>0.347912</td>\n    </tr>\n    <tr>\n      <th>78</th>\n      <td>C30</td>\n      <td>C</td>\n      <td>C_2</td>\n      <td>0.348847</td>\n      <td>0.101593</td>\n      <td>0.756535</td>\n      <td>0.967858</td>\n    </tr>\n    <tr>\n      <th>79</th>\n      <td>O20</td>\n      <td>O</td>\n      <td>O_2</td>\n      <td>0.293392</td>\n      <td>0.097996</td>\n      <td>0.863474</td>\n      <td>-0.568112</td>\n    </tr>\n    <tr>\n      <th>80</th>\n      <td>O21</td>\n      <td>O</td>\n      <td>O_R</td>\n      <td>0.284013</td>\n      <td>0.135186</td>\n      <td>0.637326</td>\n      <td>-0.818747</td>\n    </tr>\n    <tr>\n      <th>81</th>\n      <td>H20</td>\n      <td>H</td>\n      <td>H_</td>\n      <td>0.192378</td>\n      <td>0.156135</td>\n      <td>0.653048</td>\n      <td>0.338332</td>\n    </tr>\n  </tbody>\n</table>\n<p>75 rows × 7 columns</p>\n</div>"
     },
     "metadata": {}
    }
   ],
   "execution_count": 9
  },
  {
   "cell_type": "markdown",
   "source": "# Apply Adapters",
   "metadata": {
    "tags": [],
    "is_collapsed": false,
    "cell_id": "00016-22511148-5220-4349-aa46-957fbf4fc920",
    "deepnote_cell_type": "text-cell-h1"
   }
  },
  {
   "cell_type": "code",
   "source": "def chuck_pickle(df, n, path='.'):\n    for i in range(1, df.shape[0], n):\n        chuck = df.loc[i:i+n -1]\n        start = chuck.index[0]\n        end = chuck.index[-1]\n        filename = f'{start}_{end}.pickle'\n        filepath = (path + '/'+ filename).replace('//', '/')\n        if not os.path.exists(filepath):\n            print(f\"Pickle file from {start} to {end} not found, generating the new one\")\n            chuck['cif'] = chuck.cif_filepath.progress_apply(\n                lambda cif_filepath: cif2pandas_adapter.apply(cif_filepath)\n            )\n            chuck.to_pickle(filepath)\n        else:\n            print(f\"found {filepath}\")\n\n\nchuck_pickle(Train, 10000, path=PREPROCESSING_TRAIN_PATH)\nchuck_pickle(Pretest, 10000, path=PREPROCESSING_PRETEST_PATH) ",
   "metadata": {
    "tags": [],
    "cell_id": "00018-3a25337e-9884-4164-a2a1-8551c952b523",
    "deepnote_to_be_reexecuted": false,
    "source_hash": "808866ba",
    "execution_start": 1632062332671,
    "execution_millis": 11,
    "deepnote_cell_type": "code"
   },
   "outputs": [
    {
     "name": "stdout",
     "text": "found preprocessing_results/train/1_10000.pickle\nfound preprocessing_results/train/10001_20000.pickle\nfound preprocessing_results/train/20001_30000.pickle\nfound preprocessing_results/train/30001_40000.pickle\nfound preprocessing_results/train/40001_50000.pickle\nfound preprocessing_results/train/50001_60000.pickle\nfound preprocessing_results/train/60001_68613.pickle\nfound preprocessing_results/pretest/1_2000.pickle\n",
     "output_type": "stream"
    }
   ],
   "execution_count": 10
  },
  {
   "cell_type": "code",
   "source": "chuck = pd.read_pickle(\"/work/preprocessing_results/train/1_10000.pickle\")\nmerge_metadata(chuck)",
   "metadata": {
    "tags": [],
    "cell_id": "00019-e5f0ac64-1558-43d5-857e-72bad299048b",
    "deepnote_to_be_reexecuted": false,
    "source_hash": "51624bd3",
    "execution_start": 1632062332722,
    "execution_millis": 2919,
    "deepnote_cell_type": "code"
   },
   "outputs": [
    {
     "output_type": "execute_result",
     "execution_count": 11,
     "data": {
      "application/vnd.deepnote.dataframe.v2+json": {
       "row_count": 10000,
       "column_count": 27,
       "columns": [
        {
         "name": "MOFname",
         "dtype": "object",
         "stats": {
          "unique_count": 10000,
          "nan_count": 0,
          "categories": [
           {
            "name": "mof_unit_1",
            "count": 1
           },
           {
            "name": "mof_unit_2",
            "count": 1
           },
           {
            "name": "9998 others",
            "count": 9998
           }
          ]
         }
        },
        {
         "name": "volume [A^3]",
         "dtype": "float64",
         "stats": {
          "unique_count": 10000,
          "nan_count": 0,
          "min": "623.327233",
          "max": "29383.540265",
          "histogram": [
           {
            "bin_start": 623.327233,
            "bin_end": 3499.3485362,
            "count": 7921
           },
           {
            "bin_start": 3499.3485362,
            "bin_end": 6375.3698394,
            "count": 1689
           },
           {
            "bin_start": 6375.3698394,
            "bin_end": 9251.391142600001,
            "count": 246
           },
           {
            "bin_start": 9251.391142600001,
            "bin_end": 12127.4124458,
            "count": 67
           },
           {
            "bin_start": 12127.4124458,
            "bin_end": 15003.433749,
            "count": 33
           },
           {
            "bin_start": 15003.433749,
            "bin_end": 17879.455052200003,
            "count": 16
           },
           {
            "bin_start": 17879.455052200003,
            "bin_end": 20755.476355400002,
            "count": 14
           },
           {
            "bin_start": 20755.476355400002,
            "bin_end": 23631.4976586,
            "count": 6
           },
           {
            "bin_start": 23631.4976586,
            "bin_end": 26507.5189618,
            "count": 4
           },
           {
            "bin_start": 26507.5189618,
            "bin_end": 29383.540265,
            "count": 4
           }
          ]
         }
        },
        {
         "name": "weight [u]",
         "dtype": "float64",
         "stats": {
          "unique_count": 9358,
          "nan_count": 0,
          "min": "439.28122",
          "max": "13902.84864",
          "histogram": [
           {
            "bin_start": 439.28122,
            "bin_end": 1785.637962,
            "count": 7557
           },
           {
            "bin_start": 1785.637962,
            "bin_end": 3131.9947039999997,
            "count": 1753
           },
           {
            "bin_start": 3131.9947039999997,
            "bin_end": 4478.351446,
            "count": 471
           },
           {
            "bin_start": 4478.351446,
            "bin_end": 5824.708188,
            "count": 131
           },
           {
            "bin_start": 5824.708188,
            "bin_end": 7171.06493,
            "count": 53
           },
           {
            "bin_start": 7171.06493,
            "bin_end": 8517.421672,
            "count": 18
           },
           {
            "bin_start": 8517.421672,
            "bin_end": 9863.778414,
            "count": 8
           },
           {
            "bin_start": 9863.778414,
            "bin_end": 11210.135156,
            "count": 3
           },
           {
            "bin_start": 11210.135156,
            "bin_end": 12556.491898,
            "count": 5
           },
           {
            "bin_start": 12556.491898,
            "bin_end": 13902.84864,
            "count": 1
           }
          ]
         }
        },
        {
         "name": "surface_area [m^2/g]",
         "dtype": "float64",
         "stats": {
          "unique_count": 7841,
          "nan_count": 0,
          "min": "-1.0",
          "max": "5938.18",
          "histogram": [
           {
            "bin_start": -1,
            "bin_end": 592.918,
            "count": 2650
           },
           {
            "bin_start": 592.918,
            "bin_end": 1186.836,
            "count": 1528
           },
           {
            "bin_start": 1186.836,
            "bin_end": 1780.754,
            "count": 1903
           },
           {
            "bin_start": 1780.754,
            "bin_end": 2374.672,
            "count": 1686
           },
           {
            "bin_start": 2374.672,
            "bin_end": 2968.59,
            "count": 1161
           },
           {
            "bin_start": 2968.59,
            "bin_end": 3562.508,
            "count": 701
           },
           {
            "bin_start": 3562.508,
            "bin_end": 4156.426,
            "count": 262
           },
           {
            "bin_start": 4156.426,
            "bin_end": 4750.344,
            "count": 86
           },
           {
            "bin_start": 4750.344,
            "bin_end": 5344.262,
            "count": 19
           },
           {
            "bin_start": 5344.262,
            "bin_end": 5938.18,
            "count": 4
           }
          ]
         }
        },
        {
         "name": "void_fraction",
         "dtype": "float64",
         "stats": {
          "unique_count": 8740,
          "nan_count": 0,
          "min": "-1.0",
          "max": "0.73147",
          "histogram": [
           {
            "bin_start": -1,
            "bin_end": -0.8268530000000001,
            "count": 11
           },
           {
            "bin_start": -0.8268530000000001,
            "bin_end": -0.653706,
            "count": 0
           },
           {
            "bin_start": -0.653706,
            "bin_end": -0.48055899999999996,
            "count": 0
           },
           {
            "bin_start": -0.48055899999999996,
            "bin_end": -0.307412,
            "count": 0
           },
           {
            "bin_start": -0.307412,
            "bin_end": -0.13426500000000008,
            "count": 0
           },
           {
            "bin_start": -0.13426500000000008,
            "bin_end": 0.03888200000000008,
            "count": 255
           },
           {
            "bin_start": 0.03888200000000008,
            "bin_end": 0.21202900000000002,
            "count": 4167
           },
           {
            "bin_start": 0.21202900000000002,
            "bin_end": 0.38517599999999996,
            "count": 4526
           },
           {
            "bin_start": 0.38517599999999996,
            "bin_end": 0.5583229999999999,
            "count": 1019
           },
           {
            "bin_start": 0.5583229999999999,
            "bin_end": 0.73147,
            "count": 22
           }
          ]
         }
        },
        {
         "name": "void_volume [cm^3/g]",
         "dtype": "float64",
         "stats": {
          "unique_count": 4997,
          "nan_count": 0,
          "min": "0.0",
          "max": "2.9846",
          "histogram": [
           {
            "bin_start": 0,
            "bin_end": 0.29846,
            "count": 6215
           },
           {
            "bin_start": 0.29846,
            "bin_end": 0.59692,
            "count": 3016
           },
           {
            "bin_start": 0.59692,
            "bin_end": 0.8953800000000001,
            "count": 616
           },
           {
            "bin_start": 0.8953800000000001,
            "bin_end": 1.19384,
            "count": 129
           },
           {
            "bin_start": 1.19384,
            "bin_end": 1.4923,
            "count": 18
           },
           {
            "bin_start": 1.4923,
            "bin_end": 1.7907600000000001,
            "count": 4
           },
           {
            "bin_start": 1.7907600000000001,
            "bin_end": 2.08922,
            "count": 1
           },
           {
            "bin_start": 2.08922,
            "bin_end": 2.38768,
            "count": 0
           },
           {
            "bin_start": 2.38768,
            "bin_end": 2.68614,
            "count": 0
           },
           {
            "bin_start": 2.68614,
            "bin_end": 2.9846,
            "count": 1
           }
          ]
         }
        },
        {
         "name": "functional_groups",
         "dtype": "object",
         "stats": {
          "unique_count": 400,
          "nan_count": 38,
          "categories": [
           {
            "name": "NO2",
            "count": 180
           },
           {
            "name": "399 others",
            "count": 9782
           },
           {
            "name": "Missing",
            "count": 38
           }
          ]
         }
        },
        {
         "name": "metal_linker",
         "dtype": "int64",
         "stats": {
          "unique_count": 7,
          "nan_count": 0,
          "min": "1",
          "max": "12",
          "histogram": [
           {
            "bin_start": 1,
            "bin_end": 2.1,
            "count": 3553
           },
           {
            "bin_start": 2.1,
            "bin_end": 3.2,
            "count": 3112
           },
           {
            "bin_start": 3.2,
            "bin_end": 4.300000000000001,
            "count": 1063
           },
           {
            "bin_start": 4.300000000000001,
            "bin_end": 5.4,
            "count": 0
           },
           {
            "bin_start": 5.4,
            "bin_end": 6.5,
            "count": 0
           },
           {
            "bin_start": 6.5,
            "bin_end": 7.6000000000000005,
            "count": 0
           },
           {
            "bin_start": 7.6000000000000005,
            "bin_end": 8.700000000000001,
            "count": 0
           },
           {
            "bin_start": 8.700000000000001,
            "bin_end": 9.8,
            "count": 1357
           },
           {
            "bin_start": 9.8,
            "bin_end": 10.9,
            "count": 384
           },
           {
            "bin_start": 10.9,
            "bin_end": 12,
            "count": 531
           }
          ]
         }
        },
        {
         "name": "organic_linker1",
         "dtype": "int64",
         "stats": {
          "unique_count": 54,
          "nan_count": 0,
          "min": "1",
          "max": "58",
          "histogram": [
           {
            "bin_start": 1,
            "bin_end": 6.7,
            "count": 3850
           },
           {
            "bin_start": 6.7,
            "bin_end": 12.4,
            "count": 2290
           },
           {
            "bin_start": 12.4,
            "bin_end": 18.1,
            "count": 2668
           },
           {
            "bin_start": 18.1,
            "bin_end": 23.8,
            "count": 413
           },
           {
            "bin_start": 23.8,
            "bin_end": 29.5,
            "count": 216
           },
           {
            "bin_start": 29.5,
            "bin_end": 35.2,
            "count": 13
           },
           {
            "bin_start": 35.2,
            "bin_end": 40.9,
            "count": 138
           },
           {
            "bin_start": 40.9,
            "bin_end": 46.6,
            "count": 208
           },
           {
            "bin_start": 46.6,
            "bin_end": 52.300000000000004,
            "count": 155
           },
           {
            "bin_start": 52.300000000000004,
            "bin_end": 58,
            "count": 49
           }
          ]
         }
        },
        {
         "name": "organic_linker2",
         "dtype": "int64",
         "stats": {
          "unique_count": 52,
          "nan_count": 0,
          "min": "1",
          "max": "58",
          "histogram": [
           {
            "bin_start": 1,
            "bin_end": 6.7,
            "count": 664
           },
           {
            "bin_start": 6.7,
            "bin_end": 12.4,
            "count": 1159
           },
           {
            "bin_start": 12.4,
            "bin_end": 18.1,
            "count": 3031
           },
           {
            "bin_start": 18.1,
            "bin_end": 23.8,
            "count": 1781
           },
           {
            "bin_start": 23.8,
            "bin_end": 29.5,
            "count": 2802
           },
           {
            "bin_start": 29.5,
            "bin_end": 35.2,
            "count": 11
           },
           {
            "bin_start": 35.2,
            "bin_end": 40.9,
            "count": 93
           },
           {
            "bin_start": 40.9,
            "bin_end": 46.6,
            "count": 104
           },
           {
            "bin_start": 46.6,
            "bin_end": 52.300000000000004,
            "count": 46
           },
           {
            "bin_start": 52.300000000000004,
            "bin_end": 58,
            "count": 309
           }
          ]
         }
        },
        {
         "name": "topology",
         "dtype": "object"
        },
        {
         "name": "CO2/N2_selectivity",
         "dtype": "float64"
        },
        {
         "name": "heat_adsorption_CO2_P0.15bar_T298K [kcal/mol]",
         "dtype": "float64"
        },
        {
         "name": "CO2_working_capacity [mL/g]",
         "dtype": "float64"
        },
        {
         "name": "cif_filepath",
         "dtype": "object"
        },
        {
         "name": "cif",
         "dtype": "object"
        },
        {
         "name": "_audit_creation_date",
         "dtype": "object"
        },
        {
         "name": "_symmetry_space_group_name_H-M",
         "dtype": "object"
        },
        {
         "name": "_symmetry_Int_Tables_number",
         "dtype": "object"
        },
        {
         "name": "_space_group_crystal_system",
         "dtype": "object"
        },
        {
         "name": "_cell_length_a",
         "dtype": "object"
        },
        {
         "name": "_cell_length_b",
         "dtype": "object"
        },
        {
         "name": "_cell_length_c",
         "dtype": "object"
        },
        {
         "name": "_cell_angle_alpha",
         "dtype": "object"
        },
        {
         "name": "_cell_angle_beta",
         "dtype": "object"
        },
        {
         "name": "_cell_angle_gamma",
         "dtype": "object"
        },
        {
         "name": "_cell_volume",
         "dtype": "object"
        },
        {
         "name": "_deepnote_index_column",
         "dtype": "int64"
        }
       ],
       "rows_top": [
        {
         "MOFname": "mof_unit_1",
         "volume [A^3]": 1116.667429,
         "weight [u]": 875.2405999999999,
         "surface_area [m^2/g]": 0,
         "void_fraction": 0.07899,
         "void_volume [cm^3/g]": 0.0606999999999999,
         "functional_groups": "COOH-OEt",
         "metal_linker": 3,
         "organic_linker1": 4,
         "organic_linker2": 11,
         "topology": "pcu",
         "CO2/N2_selectivity": 22.86416611,
         "heat_adsorption_CO2_P0.15bar_T298K [kcal/mol]": 6.786041,
         "CO2_working_capacity [mL/g]": 105.2845017241596,
         "cif_filepath": "tmlcc-2021/mof_cif_train/mof_unit_1.cif",
         "cif": "{'metadata': {0: {0: '_audit_creation_date', 1: '_symmetry_space_group_name_H-M', 2: '_symmetry_Int…",
         "_audit_creation_date": "2013-03-05T16:41:16-0500",
         "_symmetry_space_group_name_H-M": "P1",
         "_symmetry_Int_Tables_number": "1",
         "_space_group_crystal_system": "triclinic",
         "_cell_length_a": "10.609882",
         "_cell_length_b": "10.643578",
         "_cell_length_c": "9.890832",
         "_cell_angle_alpha": "89.904234",
         "_cell_angle_beta": "91.242355",
         "_cell_angle_gamma": "90.261935",
         "_cell_volume": "1116.66742888",
         "_deepnote_index_column": 1
        },
        {
         "MOFname": "mof_unit_2",
         "volume [A^3]": 2769.503842,
         "weight [u]": 2211.697211,
         "surface_area [m^2/g]": 603.61,
         "void_fraction": 0.13794,
         "void_volume [cm^3/g]": 0.104,
         "functional_groups": "F-OMe",
         "metal_linker": 10,
         "organic_linker1": 44,
         "organic_linker2": 57,
         "topology": "etb",
         "CO2/N2_selectivity": 33.61678033,
         "heat_adsorption_CO2_P0.15bar_T298K [kcal/mol]": 7.147286,
         "CO2_working_capacity [mL/g]": 101.22477417834172,
         "cif_filepath": "tmlcc-2021/mof_cif_train/mof_unit_2.cif",
         "cif": "{'metadata': {0: {0: '_audit_creation_date', 1: '_symmetry_space_group_name_H-M', 2: '_symmetry_Int…",
         "_audit_creation_date": "2013-03-05T15:53:01-0500",
         "_symmetry_space_group_name_H-M": "P1",
         "_symmetry_Int_Tables_number": "1",
         "_space_group_crystal_system": "triclinic",
         "_cell_length_a": "8.463295",
         "_cell_length_b": "17.684225",
         "_cell_length_c": "18.960098",
         "_cell_angle_alpha": "100.063446",
         "_cell_angle_beta": "91.815775",
         "_cell_angle_gamma": "96.94221",
         "_cell_volume": "2769.50384235",
         "_deepnote_index_column": 2
        },
        {
         "MOFname": "mof_unit_3",
         "volume [A^3]": 1089.818728,
         "weight [u]": 773.68796,
         "surface_area [m^2/g]": 788.5,
         "void_fraction": 0.14874,
         "void_volume [cm^3/g]": 0.1262,
         "functional_groups": "OMe-COOH",
         "metal_linker": 2,
         "organic_linker1": 22,
         "organic_linker2": 24,
         "topology": "pcu",
         "CO2/N2_selectivity": 19.26372569,
         "heat_adsorption_CO2_P0.15bar_T298K [kcal/mol]": 6.347967,
         "CO2_working_capacity [mL/g]": 118.98701074687752,
         "cif_filepath": "tmlcc-2021/mof_cif_train/mof_unit_3.cif",
         "cif": "{'metadata': {0: {0: '_audit_creation_date', 1: '_symmetry_space_group_name_H-M', 2: '_symmetry_Int…",
         "_audit_creation_date": "2012-12-10T18:11:09-0500",
         "_symmetry_space_group_name_H-M": "P1",
         "_symmetry_Int_Tables_number": "1",
         "_space_group_crystal_system": "triclinic",
         "_cell_length_a": "10.73211",
         "_cell_length_b": "9.552271",
         "_cell_length_c": "10.631996",
         "_cell_angle_alpha": "89.202223",
         "_cell_angle_beta": "89.943258",
         "_cell_angle_gamma": "90.387501",
         "_cell_volume": "1089.81872751",
         "_deepnote_index_column": 3
        },
        {
         "MOFname": "mof_unit_4",
         "volume [A^3]": 2205.1983010000004,
         "weight [u]": 1304.63872,
         "surface_area [m^2/g]": 1441.53,
         "void_fraction": 0.21814,
         "void_volume [cm^3/g]": 0.222,
         "functional_groups": "H-SO3H",
         "metal_linker": 9,
         "organic_linker1": 17,
         "organic_linker2": 24,
         "topology": "sra",
         "CO2/N2_selectivity": 25.70137692,
         "heat_adsorption_CO2_P0.15bar_T298K [kcal/mol]": 6.190085,
         "CO2_working_capacity [mL/g]": 187.62600449626183,
         "cif_filepath": "tmlcc-2021/mof_cif_train/mof_unit_4.cif",
         "cif": "{'metadata': {0: {0: '_audit_creation_date', 1: '_symmetry_space_group_name_H-M', 2: '_symmetry_Int…",
         "_audit_creation_date": "2012-12-11T15:23:38-0500",
         "_symmetry_space_group_name_H-M": "P1",
         "_symmetry_Int_Tables_number": "1",
         "_space_group_crystal_system": "triclinic",
         "_cell_length_a": "6.93553",
         "_cell_length_b": "17.504896",
         "_cell_length_c": "19.27498",
         "_cell_angle_alpha": "109.537419",
         "_cell_angle_beta": "90.23458",
         "_cell_angle_gamma": "90.532988",
         "_cell_volume": "2205.19830122",
         "_deepnote_index_column": 4
        },
        {
         "MOFname": "mof_unit_5",
         "volume [A^3]": 1137.800963,
         "weight [u]": 901.73612,
         "surface_area [m^2/g]": 0,
         "void_fraction": 0.07778,
         "void_volume [cm^3/g]": 0.0591,
         "functional_groups": "NHMe-OH",
         "metal_linker": 2,
         "organic_linker1": 1,
         "organic_linker2": 22,
         "topology": "pcu",
         "CO2/N2_selectivity": 30.00183795,
         "heat_adsorption_CO2_P0.15bar_T298K [kcal/mol]": 6.478063,
         "CO2_working_capacity [mL/g]": 79.21000065588353,
         "cif_filepath": "tmlcc-2021/mof_cif_train/mof_unit_5.cif",
         "cif": "{'metadata': {0: {0: '_audit_creation_date', 1: '_symmetry_space_group_name_H-M', 2: '_symmetry_Int…",
         "_audit_creation_date": "2012-10-26T19:45:32-0400",
         "_symmetry_space_group_name_H-M": "P1",
         "_symmetry_Int_Tables_number": "1",
         "_space_group_crystal_system": "triclinic",
         "_cell_length_a": "10.825925",
         "_cell_length_b": "9.699886",
         "_cell_length_c": "10.853274",
         "_cell_angle_alpha": "89.694657",
         "_cell_angle_beta": "92.990983",
         "_cell_angle_gamma": "91.404649",
         "_cell_volume": "1137.80096321",
         "_deepnote_index_column": 5
        },
        {
         "MOFname": "mof_unit_6",
         "volume [A^3]": 3954.659761,
         "weight [u]": 1543.02768,
         "surface_area [m^2/g]": 2430.55,
         "void_fraction": 0.3709399999999999,
         "void_volume [cm^3/g]": 0.5725,
         "functional_groups": "Pr-NO2",
         "metal_linker": 9,
         "organic_linker1": 7,
         "organic_linker2": 23,
         "topology": "sra",
         "CO2/N2_selectivity": 17.14654102,
         "heat_adsorption_CO2_P0.15bar_T298K [kcal/mol]": 5.398304,
         "CO2_working_capacity [mL/g]": 55.7869591021412,
         "cif_filepath": "tmlcc-2021/mof_cif_train/mof_unit_6.cif",
         "cif": "{'metadata': {0: {0: '_audit_creation_date', 1: '_symmetry_space_group_name_H-M', 2: '_symmetry_Int…",
         "_audit_creation_date": "2013-03-05T16:13:07-0500",
         "_symmetry_space_group_name_H-M": "P1",
         "_symmetry_Int_Tables_number": "1",
         "_space_group_crystal_system": "triclinic",
         "_cell_length_a": "24.949291",
         "_cell_length_b": "7.054011",
         "_cell_length_c": "22.606019",
         "_cell_angle_alpha": "90.036873",
         "_cell_angle_beta": "96.274104",
         "_cell_angle_gamma": "89.946334",
         "_cell_volume": "3954.65976066",
         "_deepnote_index_column": 6
        },
        {
         "MOFname": "mof_unit_7",
         "volume [A^3]": 3565.914939,
         "weight [u]": 1954.749656,
         "surface_area [m^2/g]": 1530.02,
         "void_fraction": 0.33337,
         "void_volume [cm^3/g]": 0.3662,
         "functional_groups": "NH2",
         "metal_linker": 10,
         "organic_linker1": 53,
         "organic_linker2": 55,
         "topology": "etb",
         "CO2/N2_selectivity": 18.36379134,
         "heat_adsorption_CO2_P0.15bar_T298K [kcal/mol]": 6.303857,
         "CO2_working_capacity [mL/g]": 111.69046224719489,
         "cif_filepath": "tmlcc-2021/mof_cif_train/mof_unit_7.cif",
         "cif": "{'metadata': {0: {0: '_audit_creation_date', 1: '_symmetry_space_group_name_H-M', 2: '_symmetry_Int…",
         "_audit_creation_date": "2012-12-11T20:55:17-0500",
         "_symmetry_space_group_name_H-M": "P1",
         "_symmetry_Int_Tables_number": "1",
         "_space_group_crystal_system": "triclinic",
         "_cell_length_a": "8.2867",
         "_cell_length_b": "19.200319",
         "_cell_length_c": "22.787351",
         "_cell_angle_alpha": "100.16818",
         "_cell_angle_beta": "89.967715",
         "_cell_angle_gamma": "92.22909",
         "_cell_volume": "3565.91493915",
         "_deepnote_index_column": 7
        },
        {
         "MOFname": "mof_unit_8",
         "volume [A^3]": 916.0439070000001,
         "weight [u]": 639.11156,
         "surface_area [m^2/g]": 1685.58,
         "void_fraction": 0.28458,
         "void_volume [cm^3/g]": 0.2456,
         "functional_groups": "Br",
         "metal_linker": 2,
         "organic_linker1": 5,
         "organic_linker2": 13,
         "topology": "pcu",
         "CO2/N2_selectivity": 12.68480443,
         "heat_adsorption_CO2_P0.15bar_T298K [kcal/mol]": 5.234732,
         "CO2_working_capacity [mL/g]": 58.989774287110805,
         "cif_filepath": "tmlcc-2021/mof_cif_train/mof_unit_8.cif",
         "cif": "{'metadata': {0: {0: '_audit_creation_date', 1: '_symmetry_space_group_name_H-M', 2: '_symmetry_Int…",
         "_audit_creation_date": "2013-03-05T16:34:33-0500",
         "_symmetry_space_group_name_H-M": "P1",
         "_symmetry_Int_Tables_number": "1",
         "_space_group_crystal_system": "triclinic",
         "_cell_length_a": "12.999835",
         "_cell_length_b": "9.096507",
         "_cell_length_c": "7.790769",
         "_cell_angle_alpha": "90.003048",
         "_cell_angle_beta": "96.113006",
         "_cell_angle_gamma": "89.99935",
         "_cell_volume": "916.043907495",
         "_deepnote_index_column": 8
        },
        {
         "MOFname": "mof_unit_9",
         "volume [A^3]": 2228.882339,
         "weight [u]": 1422.69182,
         "surface_area [m^2/g]": 1458.02,
         "void_fraction": 0.2427699999999999,
         "void_volume [cm^3/g]": 0.2291,
         "functional_groups": "HCO",
         "metal_linker": 4,
         "organic_linker1": 14,
         "organic_linker2": 19,
         "topology": "acs",
         "CO2/N2_selectivity": 37.04042435,
         "heat_adsorption_CO2_P0.15bar_T298K [kcal/mol]": 6.298964,
         "CO2_working_capacity [mL/g]": 135.58710841724886,
         "cif_filepath": "tmlcc-2021/mof_cif_train/mof_unit_9.cif",
         "cif": "{'metadata': {0: {0: '_audit_creation_date', 1: '_symmetry_space_group_name_H-M', 2: '_symmetry_Int…",
         "_audit_creation_date": "2012-12-11T14:21:10-0500",
         "_symmetry_space_group_name_H-M": "P1",
         "_symmetry_Int_Tables_number": "1",
         "_space_group_crystal_system": "triclinic",
         "_cell_length_a": "11.514733",
         "_cell_length_b": "11.613772",
         "_cell_length_c": "19.363484",
         "_cell_angle_alpha": "90.584232",
         "_cell_angle_beta": "89.362927",
         "_cell_angle_gamma": "59.423201",
         "_cell_volume": "2228.88233917",
         "_deepnote_index_column": 9
        },
        {
         "MOFname": "mof_unit_10",
         "volume [A^3]": 4275.421420000001,
         "weight [u]": 1606.196,
         "surface_area [m^2/g]": 3276.11,
         "void_fraction": 0.4100399999999999,
         "void_volume [cm^3/g]": 0.6573,
         "functional_groups": "NHMe-OH",
         "metal_linker": 3,
         "organic_linker1": 13,
         "organic_linker2": 29,
         "topology": "pcu",
         "CO2/N2_selectivity": 10.9992991,
         "heat_adsorption_CO2_P0.15bar_T298K [kcal/mol]": 5.539327,
         "CO2_working_capacity [mL/g]": 59.73905673864041,
         "cif_filepath": "tmlcc-2021/mof_cif_train/mof_unit_10.cif",
         "cif": "{'metadata': {0: {0: '_audit_creation_date', 1: '_symmetry_space_group_name_H-M', 2: '_symmetry_Int…",
         "_audit_creation_date": "2012-12-10T17:40:03-0500",
         "_symmetry_space_group_name_H-M": "P1",
         "_symmetry_Int_Tables_number": "1",
         "_space_group_crystal_system": "triclinic",
         "_cell_length_a": "12.041039",
         "_cell_length_b": "13.008236",
         "_cell_length_c": "27.438486",
         "_cell_angle_alpha": "91.181769",
         "_cell_angle_beta": "84.870254",
         "_cell_angle_gamma": "92.639099",
         "_cell_volume": "4275.42142025",
         "_deepnote_index_column": 10
        },
        {
         "MOFname": "mof_unit_11",
         "volume [A^3]": 1607.935338,
         "weight [u]": 1110.38712,
         "surface_area [m^2/g]": 1098.36,
         "void_fraction": 0.18787,
         "void_volume [cm^3/g]": 0.1638,
         "functional_groups": "SO3H",
         "metal_linker": 9,
         "organic_linker1": 1,
         "organic_linker2": 24,
         "topology": "sra",
         "CO2/N2_selectivity": 24.25902464,
         "heat_adsorption_CO2_P0.15bar_T298K [kcal/mol]": 5.926444,
         "CO2_working_capacity [mL/g]": 161.06749898914796,
         "cif_filepath": "tmlcc-2021/mof_cif_train/mof_unit_11.cif",
         "cif": "{'metadata': {0: {0: '_audit_creation_date', 1: '_symmetry_space_group_name_H-M', 2: '_symmetry_Int…",
         "_audit_creation_date": "2012-12-11T15:53:42-0500",
         "_symmetry_space_group_name_H-M": "P1",
         "_symmetry_Int_Tables_number": "1",
         "_space_group_crystal_system": "triclinic",
         "_cell_length_a": "6.931148",
         "_cell_length_b": "14.529443",
         "_cell_length_c": "15.967346",
         "_cell_angle_alpha": "90.477043",
         "_cell_angle_beta": "90.128514",
         "_cell_angle_gamma": "89.818714",
         "_cell_volume": "1607.93533824",
         "_deepnote_index_column": 11
        },
        {
         "MOFname": "mof_unit_12",
         "volume [A^3]": 1175.47586,
         "weight [u]": 1397.05128,
         "surface_area [m^2/g]": 0,
         "void_fraction": 0.05704,
         "void_volume [cm^3/g]": 0.0288999999999999,
         "functional_groups": "Me-Br",
         "metal_linker": 2,
         "organic_linker1": 22,
         "organic_linker2": 24,
         "topology": "pcu",
         "CO2/N2_selectivity": 58.10697445,
         "heat_adsorption_CO2_P0.15bar_T298K [kcal/mol]": 7.4078979999999985,
         "CO2_working_capacity [mL/g]": 101.96481234318138,
         "cif_filepath": "tmlcc-2021/mof_cif_train/mof_unit_12.cif",
         "cif": "{'metadata': {0: {0: '_audit_creation_date', 1: '_symmetry_space_group_name_H-M', 2: '_symmetry_Int…",
         "_audit_creation_date": "2012-12-10T18:11:06-0500",
         "_symmetry_space_group_name_H-M": "P1",
         "_symmetry_Int_Tables_number": "1",
         "_space_group_crystal_system": "triclinic",
         "_cell_length_a": "10.998061",
         "_cell_length_b": "9.934987",
         "_cell_length_c": "10.760373",
         "_cell_angle_alpha": "90.750251",
         "_cell_angle_beta": "89.160226",
         "_cell_angle_gamma": "90.456866",
         "_cell_volume": "1175.47586031",
         "_deepnote_index_column": 12
        },
        {
         "MOFname": "mof_unit_13",
         "volume [A^3]": 1650.879383,
         "weight [u]": 796.6896799999998,
         "surface_area [m^2/g]": 2117.01,
         "void_fraction": 0.3040499999999999,
         "void_volume [cm^3/g]": 0.3794,
         "functional_groups": "NHMe-NO2",
         "metal_linker": 2,
         "organic_linker1": 4,
         "organic_linker2": 6,
         "topology": "pcu",
         "CO2/N2_selectivity": 12.99674112,
         "heat_adsorption_CO2_P0.15bar_T298K [kcal/mol]": 4.936655,
         "CO2_working_capacity [mL/g]": 79.91916950624072,
         "cif_filepath": "tmlcc-2021/mof_cif_train/mof_unit_13.cif",
         "cif": "{'metadata': {0: {0: '_audit_creation_date', 1: '_symmetry_space_group_name_H-M', 2: '_symmetry_Int…",
         "_audit_creation_date": "2013-03-05T16:33:48-0500",
         "_symmetry_space_group_name_H-M": "P1",
         "_symmetry_Int_Tables_number": "1",
         "_space_group_crystal_system": "triclinic",
         "_cell_length_a": "15.969446",
         "_cell_length_b": "10.823247",
         "_cell_length_c": "9.551803",
         "_cell_angle_alpha": "90.396255",
         "_cell_angle_beta": "90.318456",
         "_cell_angle_gamma": "90.0693",
         "_cell_volume": "1650.87938311",
         "_deepnote_index_column": 13
        },
        {
         "MOFname": "mof_unit_14",
         "volume [A^3]": 1071.619874,
         "weight [u]": 701.6286,
         "surface_area [m^2/g]": 0,
         "void_fraction": 0.10455,
         "void_volume [cm^3/g]": 0.0961999999999999,
         "functional_groups": "OEt-CN",
         "metal_linker": 2,
         "organic_linker1": 12,
         "organic_linker2": 22,
         "topology": "pcu",
         "CO2/N2_selectivity": 31.66445559,
         "heat_adsorption_CO2_P0.15bar_T298K [kcal/mol]": 7.427183,
         "CO2_working_capacity [mL/g]": 133.3711208364308,
         "cif_filepath": "tmlcc-2021/mof_cif_train/mof_unit_14.cif",
         "cif": "{'metadata': {0: {0: '_audit_creation_date', 1: '_symmetry_space_group_name_H-M', 2: '_symmetry_Int…",
         "_audit_creation_date": "2012-12-10T17:05:13-0500",
         "_symmetry_space_group_name_H-M": "P1",
         "_symmetry_Int_Tables_number": "1",
         "_space_group_crystal_system": "triclinic",
         "_cell_length_a": "10.772046",
         "_cell_length_b": "10.925408",
         "_cell_length_c": "9.856399",
         "_cell_angle_alpha": "110.039694",
         "_cell_angle_beta": "98.693134",
         "_cell_angle_gamma": "92.461125",
         "_cell_volume": "1071.61987428",
         "_deepnote_index_column": 14
        },
        {
         "MOFname": "mof_unit_15",
         "volume [A^3]": 1769.973982,
         "weight [u]": 945.403413,
         "surface_area [m^2/g]": 1870.11,
         "void_fraction": 0.27705,
         "void_volume [cm^3/g]": 0.3124,
         "functional_groups": "F-OMe",
         "metal_linker": 3,
         "organic_linker1": 4,
         "organic_linker2": 26,
         "topology": "pcu",
         "CO2/N2_selectivity": 17.01166312,
         "heat_adsorption_CO2_P0.15bar_T298K [kcal/mol]": 5.139598,
         "CO2_working_capacity [mL/g]": 62.32762208837283,
         "cif_filepath": "tmlcc-2021/mof_cif_train/mof_unit_15.cif",
         "cif": "{'metadata': {0: {0: '_audit_creation_date', 1: '_symmetry_space_group_name_H-M', 2: '_symmetry_Int…",
         "_audit_creation_date": "2012-12-10T20:38:23-0500",
         "_symmetry_space_group_name_H-M": "P1",
         "_symmetry_Int_Tables_number": "1",
         "_space_group_crystal_system": "triclinic",
         "_cell_length_a": "9.858469",
         "_cell_length_b": "10.672478",
         "_cell_length_c": "16.8966",
         "_cell_angle_alpha": "90.35894",
         "_cell_angle_beta": "84.651637",
         "_cell_angle_gamma": "90.271403",
         "_cell_volume": "1769.97398201",
         "_deepnote_index_column": 15
        },
        {
         "MOFname": "mof_unit_16",
         "volume [A^3]": 4282.561071,
         "weight [u]": 2478.166816,
         "surface_area [m^2/g]": 1294.48,
         "void_fraction": 0.2860699999999999,
         "void_volume [cm^3/g]": 0.2977,
         "functional_groups": "OMe-NH2",
         "metal_linker": 10,
         "organic_linker1": 52,
         "organic_linker2": 54,
         "topology": "etb",
         "CO2/N2_selectivity": 19.28955582,
         "heat_adsorption_CO2_P0.15bar_T298K [kcal/mol]": 5.867149,
         "CO2_working_capacity [mL/g]": 54.93615457357025,
         "cif_filepath": "tmlcc-2021/mof_cif_train/mof_unit_16.cif",
         "cif": "{'metadata': {0: {0: '_audit_creation_date', 1: '_symmetry_space_group_name_H-M', 2: '_symmetry_Int…",
         "_audit_creation_date": "2013-03-05T16:16:19-0500",
         "_symmetry_space_group_name_H-M": "P1",
         "_symmetry_Int_Tables_number": "1",
         "_space_group_crystal_system": "triclinic",
         "_cell_length_a": "8.442812",
         "_cell_length_b": "19.084105",
         "_cell_length_c": "26.973845",
         "_cell_angle_alpha": "98.789894",
         "_cell_angle_beta": "92.030824",
         "_cell_angle_gamma": "85.860956",
         "_cell_volume": "4282.56107073",
         "_deepnote_index_column": 16
        },
        {
         "MOFname": "mof_unit_17",
         "volume [A^3]": 7840.492345,
         "weight [u]": 4627.98816,
         "surface_area [m^2/g]": 1664.62,
         "void_fraction": 0.2688499999999999,
         "void_volume [cm^3/g]": 0.2742999999999999,
         "functional_groups": "Cl-Pr",
         "metal_linker": 2,
         "organic_linker1": 38,
         "organic_linker2": 41,
         "topology": "fof",
         "CO2/N2_selectivity": 15.894512699999998,
         "heat_adsorption_CO2_P0.15bar_T298K [kcal/mol]": 5.390903,
         "CO2_working_capacity [mL/g]": 98.10944956383052,
         "cif_filepath": "tmlcc-2021/mof_cif_train/mof_unit_17.cif",
         "cif": "{'metadata': {0: {0: '_audit_creation_date', 1: '_symmetry_space_group_name_H-M', 2: '_symmetry_Int…",
         "_audit_creation_date": "2012-10-26T17:11:32-0400",
         "_symmetry_space_group_name_H-M": "P1",
         "_symmetry_Int_Tables_number": "1",
         "_space_group_crystal_system": "triclinic",
         "_cell_length_a": "28.020872",
         "_cell_length_b": "18.702283",
         "_cell_length_c": "16.886505",
         "_cell_angle_alpha": "89.999652",
         "_cell_angle_beta": "62.373213",
         "_cell_angle_gamma": "89.999634",
         "_cell_volume": "7840.49234455",
         "_deepnote_index_column": 17
        },
        {
         "MOFname": "mof_unit_18",
         "volume [A^3]": 2252.940492,
         "weight [u]": 1583.399493,
         "surface_area [m^2/g]": 851.0399999999998,
         "void_fraction": 0.15162,
         "void_volume [cm^3/g]": 0.1298999999999999,
         "functional_groups": "Me-F",
         "metal_linker": 2,
         "organic_linker1": 14,
         "organic_linker2": 14,
         "topology": "pcu",
         "CO2/N2_selectivity": 35.34220222,
         "heat_adsorption_CO2_P0.15bar_T298K [kcal/mol]": 7.488088999999999,
         "CO2_working_capacity [mL/g]": 324.0160452431515,
         "cif_filepath": "tmlcc-2021/mof_cif_train/mof_unit_18.cif",
         "cif": "{'metadata': {0: {0: '_audit_creation_date', 1: '_symmetry_space_group_name_H-M', 2: '_symmetry_Int…",
         "_audit_creation_date": "2013-03-05T15:50:12-0500",
         "_symmetry_space_group_name_H-M": "P1",
         "_symmetry_Int_Tables_number": "1",
         "_space_group_crystal_system": "triclinic",
         "_cell_length_a": "14.540453",
         "_cell_length_b": "16.096069",
         "_cell_length_c": "9.635963",
         "_cell_angle_alpha": "89.929347",
         "_cell_angle_beta": "87.413037",
         "_cell_angle_gamma": "90.005439",
         "_cell_volume": "2252.94049165",
         "_deepnote_index_column": 18
        }
       ],
       "rows_bottom": [
        {
         "MOFname": "mof_unit_9982",
         "volume [A^3]": 1666.50205,
         "weight [u]": 1320.56034,
         "surface_area [m^2/g]": 678.11,
         "void_fraction": 0.15092,
         "void_volume [cm^3/g]": 0.1147,
         "functional_groups": "CN-NO2",
         "metal_linker": 4,
         "organic_linker1": 5,
         "organic_linker2": 24,
         "topology": "acs",
         "CO2/N2_selectivity": 47.51381029,
         "heat_adsorption_CO2_P0.15bar_T298K [kcal/mol]": 7.41708,
         "CO2_working_capacity [mL/g]": 230.2165792719595,
         "cif_filepath": "tmlcc-2021/mof_cif_train/mof_unit_9982.cif",
         "cif": "{'metadata': {0: {0: '_audit_creation_date', 1: '_symmetry_space_group_name_H-M', 2: '_symmetry_Int…",
         "_audit_creation_date": "2013-03-05T15:53:24-0500",
         "_symmetry_space_group_name_H-M": "P1",
         "_symmetry_Int_Tables_number": "1",
         "_space_group_crystal_system": "triclinic",
         "_cell_length_a": "10.635534",
         "_cell_length_b": "10.691092",
         "_cell_length_c": "16.934611",
         "_cell_angle_alpha": "98.841001",
         "_cell_angle_beta": "98.6363",
         "_cell_angle_gamma": "61.561416",
         "_cell_volume": "1666.5020495",
         "_deepnote_index_column": 9982
        },
        {
         "MOFname": "mof_unit_9983",
         "volume [A^3]": 3993.306416,
         "weight [u]": 5799.1232,
         "surface_area [m^2/g]": 0,
         "void_fraction": 0.05042,
         "void_volume [cm^3/g]": 0.0208999999999999,
         "functional_groups": "I-Pr",
         "metal_linker": 4,
         "organic_linker1": 1,
         "organic_linker2": 11,
         "topology": "acs",
         "CO2/N2_selectivity": 86.49497190000001,
         "heat_adsorption_CO2_P0.15bar_T298K [kcal/mol]": 9.043028,
         "CO2_working_capacity [mL/g]": 104.17139056076148,
         "cif_filepath": "tmlcc-2021/mof_cif_train/mof_unit_9983.cif",
         "cif": "{'metadata': {0: {0: '_audit_creation_date', 1: '_symmetry_space_group_name_H-M', 2: '_symmetry_Int…",
         "_audit_creation_date": "2012-12-11T14:42:25-0500",
         "_symmetry_space_group_name_H-M": "P1",
         "_symmetry_Int_Tables_number": "1",
         "_space_group_crystal_system": "triclinic",
         "_cell_length_a": "19.164726",
         "_cell_length_b": "11.092577",
         "_cell_length_c": "18.78588",
         "_cell_angle_alpha": "89.316139",
         "_cell_angle_beta": "89.793778",
         "_cell_angle_gamma": "89.939079",
         "_cell_volume": "3993.30641565",
         "_deepnote_index_column": 9983
        },
        {
         "MOFname": "mof_unit_9984",
         "volume [A^3]": 6104.254517,
         "weight [u]": 1536.1738,
         "surface_area [m^2/g]": 4797.84,
         "void_fraction": 0.56766,
         "void_volume [cm^3/g]": 1.3584,
         "functional_groups": "OEt-Et",
         "metal_linker": 3,
         "organic_linker1": 18,
         "organic_linker2": 29,
         "topology": "pcu",
         "CO2/N2_selectivity": 12.21809287,
         "heat_adsorption_CO2_P0.15bar_T298K [kcal/mol]": 4.577248,
         "CO2_working_capacity [mL/g]": 55.83994867406034,
         "cif_filepath": "tmlcc-2021/mof_cif_train/mof_unit_9984.cif",
         "cif": "{'metadata': {0: {0: '_audit_creation_date', 1: '_symmetry_space_group_name_H-M', 2: '_symmetry_Int…",
         "_audit_creation_date": "2012-12-10T18:38:02-0500",
         "_symmetry_space_group_name_H-M": "P1",
         "_symmetry_Int_Tables_number": "1",
         "_space_group_crystal_system": "triclinic",
         "_cell_length_a": "14.804736",
         "_cell_length_b": "15.478412",
         "_cell_length_c": "27.709752",
         "_cell_angle_alpha": "89.940865",
         "_cell_angle_beta": "103.521666",
         "_cell_angle_gamma": "81.647142",
         "_cell_volume": "6104.25451677",
         "_deepnote_index_column": 9984
        },
        {
         "MOFname": "mof_unit_9985",
         "volume [A^3]": 5729.011313,
         "weight [u]": 1948.53656,
         "surface_area [m^2/g]": 2801.97,
         "void_fraction": 0.5023199999999999,
         "void_volume [cm^3/g]": 0.8893999999999999,
         "functional_groups": "OH-OMe",
         "metal_linker": 2,
         "organic_linker1": 9,
         "organic_linker2": 28,
         "topology": "pcu",
         "CO2/N2_selectivity": 11.58399889,
         "heat_adsorption_CO2_P0.15bar_T298K [kcal/mol]": 5.162992,
         "CO2_working_capacity [mL/g]": 85.41143133590386,
         "cif_filepath": "tmlcc-2021/mof_cif_train/mof_unit_9985.cif",
         "cif": "{'metadata': {0: {0: '_audit_creation_date', 1: '_symmetry_space_group_name_H-M', 2: '_symmetry_Int…",
         "_audit_creation_date": "2012-12-10T19:50:50-0500",
         "_symmetry_space_group_name_H-M": "P1",
         "_symmetry_Int_Tables_number": "1",
         "_space_group_crystal_system": "triclinic",
         "_cell_length_a": "23.556879",
         "_cell_length_b": "10.893333",
         "_cell_length_c": "22.356283",
         "_cell_angle_alpha": "90.146199",
         "_cell_angle_beta": "90.411399",
         "_cell_angle_gamma": "87.023689",
         "_cell_volume": "5729.01131347",
         "_deepnote_index_column": 9985
        },
        {
         "MOFname": "mof_unit_9986",
         "volume [A^3]": 1113.149954,
         "weight [u]": 784.67392,
         "surface_area [m^2/g]": 640.31,
         "void_fraction": 0.1042599999999998,
         "void_volume [cm^3/g]": 0.0890999999999999,
         "functional_groups": "NO2",
         "metal_linker": 2,
         "organic_linker1": 4,
         "organic_linker2": 9,
         "topology": "pcu",
         "CO2/N2_selectivity": 42.03305294,
         "heat_adsorption_CO2_P0.15bar_T298K [kcal/mol]": 8.162776,
         "CO2_working_capacity [mL/g]": 267.99632820828134,
         "cif_filepath": "tmlcc-2021/mof_cif_train/mof_unit_9986.cif",
         "cif": "{'metadata': {0: {0: '_audit_creation_date', 1: '_symmetry_space_group_name_H-M', 2: '_symmetry_Int…",
         "_audit_creation_date": "2013-03-05T16:34:13-0500",
         "_symmetry_space_group_name_H-M": "P1",
         "_symmetry_Int_Tables_number": "1",
         "_space_group_crystal_system": "triclinic",
         "_cell_length_a": "10.809715",
         "_cell_length_b": "10.800393",
         "_cell_length_c": "9.534707",
         "_cell_angle_alpha": "90.126244",
         "_cell_angle_beta": "90.170469",
         "_cell_angle_gamma": "90.2606",
         "_cell_volume": "1113.14995397",
         "_deepnote_index_column": 9986
        },
        {
         "MOFname": "mof_unit_9987",
         "volume [A^3]": 1832.031869,
         "weight [u]": 719.32296,
         "surface_area [m^2/g]": 3083.29,
         "void_fraction": 0.41297,
         "void_volume [cm^3/g]": 0.6333999999999999,
         "functional_groups": "Et",
         "metal_linker": 3,
         "organic_linker1": 4,
         "organic_linker2": 7,
         "topology": "pcu",
         "CO2/N2_selectivity": 11.64530861,
         "heat_adsorption_CO2_P0.15bar_T298K [kcal/mol]": 4.9684230000000005,
         "CO2_working_capacity [mL/g]": 57.36608136064133,
         "cif_filepath": "tmlcc-2021/mof_cif_train/mof_unit_9987.cif",
         "cif": "{'metadata': {0: {0: '_audit_creation_date', 1: '_symmetry_space_group_name_H-M', 2: '_symmetry_Int…",
         "_audit_creation_date": "2012-12-10T20:44:04-0500",
         "_symmetry_space_group_name_H-M": "P1",
         "_symmetry_Int_Tables_number": "1",
         "_space_group_crystal_system": "triclinic",
         "_cell_length_a": "17.372202",
         "_cell_length_b": "10.697578",
         "_cell_length_c": "9.865114",
         "_cell_angle_alpha": "89.388277",
         "_cell_angle_beta": "91.957554",
         "_cell_angle_gamma": "90.706558",
         "_cell_volume": "1832.03186939",
         "_deepnote_index_column": 9987
        },
        {
         "MOFname": "mof_unit_9988",
         "volume [A^3]": 3885.182705,
         "weight [u]": 2693.2716800000003,
         "surface_area [m^2/g]": 917.74,
         "void_fraction": 0.1705,
         "void_volume [cm^3/g]": 0.1481,
         "functional_groups": "COOH",
         "metal_linker": 4,
         "organic_linker1": 11,
         "organic_linker2": 14,
         "topology": "acs",
         "CO2/N2_selectivity": 29.96830295,
         "heat_adsorption_CO2_P0.15bar_T298K [kcal/mol]": 6.739467,
         "CO2_working_capacity [mL/g]": 120.79922109120268,
         "cif_filepath": "tmlcc-2021/mof_cif_train/mof_unit_9988.cif",
         "cif": "{'metadata': {0: {0: '_audit_creation_date', 1: '_symmetry_space_group_name_H-M', 2: '_symmetry_Int…",
         "_audit_creation_date": "2012-12-11T14:01:17-0500",
         "_symmetry_space_group_name_H-M": "P1",
         "_symmetry_Int_Tables_number": "1",
         "_space_group_crystal_system": "triclinic",
         "_cell_length_a": "18.904629",
         "_cell_length_b": "10.987981",
         "_cell_length_c": "18.705204",
         "_cell_angle_alpha": "89.833695",
         "_cell_angle_beta": "89.339713",
         "_cell_angle_gamma": "89.687245",
         "_cell_volume": "3885.18270526",
         "_deepnote_index_column": 9988
        },
        {
         "MOFname": "mof_unit_9989",
         "volume [A^3]": 5794.267676,
         "weight [u]": 1670.09452,
         "surface_area [m^2/g]": 4686.66,
         "void_fraction": 0.52417,
         "void_volume [cm^3/g]": 1.0952,
         "functional_groups": "Et-Cl",
         "metal_linker": 3,
         "organic_linker1": 17,
         "organic_linker2": 29,
         "topology": "pcu",
         "CO2/N2_selectivity": 10.13414345,
         "heat_adsorption_CO2_P0.15bar_T298K [kcal/mol]": 5.191218,
         "CO2_working_capacity [mL/g]": 69.88036939060535,
         "cif_filepath": "tmlcc-2021/mof_cif_train/mof_unit_9989.cif",
         "cif": "{'metadata': {0: {0: '_audit_creation_date', 1: '_symmetry_space_group_name_H-M', 2: '_symmetry_Int…",
         "_audit_creation_date": "2012-12-10T18:27:13-0500",
         "_symmetry_space_group_name_H-M": "P1",
         "_symmetry_Int_Tables_number": "1",
         "_space_group_crystal_system": "triclinic",
         "_cell_length_a": "14.971095",
         "_cell_length_b": "14.003597",
         "_cell_length_c": "27.647698",
         "_cell_angle_alpha": "90.840098",
         "_cell_angle_beta": "90.110393",
         "_cell_angle_gamma": "88.732071",
         "_cell_volume": "5794.26767596",
         "_deepnote_index_column": 9989
        },
        {
         "MOFname": "mof_unit_9990",
         "volume [A^3]": 1132.382568,
         "weight [u]": 817.04064,
         "surface_area [m^2/g]": 1034.58,
         "void_fraction": 0.19822,
         "void_volume [cm^3/g]": 0.1653999999999999,
         "functional_groups": "OH-NO2",
         "metal_linker": 3,
         "organic_linker1": 1,
         "organic_linker2": 11,
         "topology": "pcu",
         "CO2/N2_selectivity": 19.69204672,
         "heat_adsorption_CO2_P0.15bar_T298K [kcal/mol]": 5.500972,
         "CO2_working_capacity [mL/g]": 79.26777744769569,
         "cif_filepath": "tmlcc-2021/mof_cif_train/mof_unit_9990.cif",
         "cif": "{'metadata': {0: {0: '_audit_creation_date', 1: '_symmetry_space_group_name_H-M', 2: '_symmetry_Int…",
         "_audit_creation_date": "2013-03-05T16:09:24-0500",
         "_symmetry_space_group_name_H-M": "P1",
         "_symmetry_Int_Tables_number": "1",
         "_space_group_crystal_system": "triclinic",
         "_cell_length_a": "10.625984",
         "_cell_length_b": "9.893876",
         "_cell_length_c": "10.771767",
         "_cell_angle_alpha": "89.997872",
         "_cell_angle_beta": "90.666625",
         "_cell_angle_gamma": "89.997094",
         "_cell_volume": "1132.38256759",
         "_deepnote_index_column": 9990
        },
        {
         "MOFname": "mof_unit_9991",
         "volume [A^3]": 5974.177413,
         "weight [u]": 3994.083712,
         "surface_area [m^2/g]": 1264.15,
         "void_fraction": 0.27331,
         "void_volume [cm^3/g]": 0.2462,
         "functional_groups": "NO2-Br",
         "metal_linker": 10,
         "organic_linker1": 43,
         "organic_linker2": 43,
         "topology": "etb",
         "CO2/N2_selectivity": 24.24341023,
         "heat_adsorption_CO2_P0.15bar_T298K [kcal/mol]": 5.897345,
         "CO2_working_capacity [mL/g]": 57.0730704878797,
         "cif_filepath": "tmlcc-2021/mof_cif_train/mof_unit_9991.cif",
         "cif": "{'metadata': {0: {0: '_audit_creation_date', 1: '_symmetry_space_group_name_H-M', 2: '_symmetry_Int…",
         "_audit_creation_date": "2013-03-05T15:44:13-0500",
         "_symmetry_space_group_name_H-M": "P1",
         "_symmetry_Int_Tables_number": "1",
         "_space_group_crystal_system": "triclinic",
         "_cell_length_a": "26.016",
         "_cell_length_b": "27.395211",
         "_cell_length_c": "8.430382",
         "_cell_angle_alpha": "90.00129",
         "_cell_angle_beta": "96.122579",
         "_cell_angle_gamma": "90.001349",
         "_cell_volume": "5974.1774128",
         "_deepnote_index_column": 9991
        },
        {
         "MOFname": "mof_unit_9992",
         "volume [A^3]": 2001.374355,
         "weight [u]": 983.8792800000001,
         "surface_area [m^2/g]": 1863.89,
         "void_fraction": 0.2615399999999999,
         "void_volume [cm^3/g]": 0.3204,
         "functional_groups": "OH-NHMe",
         "metal_linker": 2,
         "organic_linker1": 18,
         "organic_linker2": 24,
         "topology": "pcu",
         "CO2/N2_selectivity": 15.08816464,
         "heat_adsorption_CO2_P0.15bar_T298K [kcal/mol]": 5.592888,
         "CO2_working_capacity [mL/g]": 108.79567990085806,
         "cif_filepath": "tmlcc-2021/mof_cif_train/mof_unit_9992.cif",
         "cif": "{'metadata': {0: {0: '_audit_creation_date', 1: '_symmetry_space_group_name_H-M', 2: '_symmetry_Int…",
         "_audit_creation_date": "2012-10-26T20:58:20-0400",
         "_symmetry_space_group_name_H-M": "P1",
         "_symmetry_Int_Tables_number": "1",
         "_space_group_crystal_system": "triclinic",
         "_cell_length_a": "10.608041",
         "_cell_length_b": "14.688127",
         "_cell_length_c": "14.74212",
         "_cell_angle_alpha": "64.913263",
         "_cell_angle_beta": "103.498971",
         "_cell_angle_gamma": "103.117642",
         "_cell_volume": "2001.37435539",
         "_deepnote_index_column": 9992
        },
        {
         "MOFname": "mof_unit_9993",
         "volume [A^3]": 3449.724728,
         "weight [u]": 2231.182171,
         "surface_area [m^2/g]": 281.41,
         "void_fraction": 0.13309,
         "void_volume [cm^3/g]": 0.1239,
         "functional_groups": "OPr-F",
         "metal_linker": 3,
         "organic_linker1": 36,
         "organic_linker2": 36,
         "topology": "pts",
         "CO2/N2_selectivity": 25.0012311,
         "heat_adsorption_CO2_P0.15bar_T298K [kcal/mol]": 7.288861,
         "CO2_working_capacity [mL/g]": 169.9885657980402,
         "cif_filepath": "tmlcc-2021/mof_cif_train/mof_unit_9993.cif",
         "cif": "{'metadata': {0: {0: '_audit_creation_date', 1: '_symmetry_space_group_name_H-M', 2: '_symmetry_Int…",
         "_audit_creation_date": "2012-12-10T22:11:11-0500",
         "_symmetry_space_group_name_H-M": "P1",
         "_symmetry_Int_Tables_number": "1",
         "_space_group_crystal_system": "triclinic",
         "_cell_length_a": "12.081859",
         "_cell_length_b": "12.301882",
         "_cell_length_c": "23.22059",
         "_cell_angle_alpha": "90.750791",
         "_cell_angle_beta": "91.036739",
         "_cell_angle_gamma": "91.124609",
         "_cell_volume": "3449.72472832",
         "_deepnote_index_column": 9993
        },
        {
         "MOFname": "mof_unit_9994",
         "volume [A^3]": 696.4558490000001,
         "weight [u]": 500.978726,
         "surface_area [m^2/g]": 0,
         "void_fraction": 0.1802,
         "void_volume [cm^3/g]": 0.1509,
         "functional_groups": "F",
         "metal_linker": 3,
         "organic_linker1": 10,
         "organic_linker2": 24,
         "topology": "pcu",
         "CO2/N2_selectivity": 15.24289906,
         "heat_adsorption_CO2_P0.15bar_T298K [kcal/mol]": 5.911381,
         "CO2_working_capacity [mL/g]": 67.52159059573724,
         "cif_filepath": "tmlcc-2021/mof_cif_train/mof_unit_9994.cif",
         "cif": "{'metadata': {0: {0: '_audit_creation_date', 1: '_symmetry_space_group_name_H-M', 2: '_symmetry_Int…",
         "_audit_creation_date": "2012-12-10T16:55:45-0500",
         "_symmetry_space_group_name_H-M": "P1",
         "_symmetry_Int_Tables_number": "1",
         "_space_group_crystal_system": "triclinic",
         "_cell_length_a": "7.81172",
         "_cell_length_b": "8.566424",
         "_cell_length_c": "10.474964",
         "_cell_angle_alpha": "91.598946",
         "_cell_angle_beta": "84.783523",
         "_cell_angle_gamma": "93.678366",
         "_cell_volume": "696.455849281",
         "_deepnote_index_column": 9994
        },
        {
         "MOFname": "mof_unit_9995",
         "volume [A^3]": 3420.460187,
         "weight [u]": 1983.651796,
         "surface_area [m^2/g]": 1583.92,
         "void_fraction": 0.2902699999999999,
         "void_volume [cm^3/g]": 0.3014,
         "functional_groups": "COOH",
         "metal_linker": 10,
         "organic_linker1": 50,
         "organic_linker2": 54,
         "topology": "etb",
         "CO2/N2_selectivity": 22.24433687,
         "heat_adsorption_CO2_P0.15bar_T298K [kcal/mol]": 6.148143,
         "CO2_working_capacity [mL/g]": 84.57218216569532,
         "cif_filepath": "tmlcc-2021/mof_cif_train/mof_unit_9995.cif",
         "cif": "{'metadata': {0: {0: '_audit_creation_date', 1: '_symmetry_space_group_name_H-M', 2: '_symmetry_Int…",
         "_audit_creation_date": "2012-12-11T20:00:13-0500",
         "_symmetry_space_group_name_H-M": "P1",
         "_symmetry_Int_Tables_number": "1",
         "_space_group_crystal_system": "triclinic",
         "_cell_length_a": "8.217",
         "_cell_length_b": "16.30706",
         "_cell_length_c": "27.059614",
         "_cell_angle_alpha": "72.216574",
         "_cell_angle_beta": "96.869287",
         "_cell_angle_gamma": "95.649851",
         "_cell_volume": "3420.46018651",
         "_deepnote_index_column": 9995
        },
        {
         "MOFname": "mof_unit_9996",
         "volume [A^3]": 2733.592152,
         "weight [u]": 2128.550096,
         "surface_area [m^2/g]": 734.48,
         "void_fraction": 0.17093,
         "void_volume [cm^3/g]": 0.1322,
         "functional_groups": "COOH-NO2",
         "metal_linker": 10,
         "organic_linker1": 44,
         "organic_linker2": 55,
         "topology": "etb",
         "CO2/N2_selectivity": 27.35180834,
         "heat_adsorption_CO2_P0.15bar_T298K [kcal/mol]": 6.124251,
         "CO2_working_capacity [mL/g]": 78.45989282161379,
         "cif_filepath": "tmlcc-2021/mof_cif_train/mof_unit_9996.cif",
         "cif": "{'metadata': {0: {0: '_audit_creation_date', 1: '_symmetry_space_group_name_H-M', 2: '_symmetry_Int…",
         "_audit_creation_date": "2013-03-05T15:52:28-0500",
         "_symmetry_space_group_name_H-M": "P1",
         "_symmetry_Int_Tables_number": "1",
         "_space_group_crystal_system": "triclinic",
         "_cell_length_a": "8.408072",
         "_cell_length_b": "17.316532",
         "_cell_length_c": "19.086984",
         "_cell_angle_alpha": "98.096373",
         "_cell_angle_beta": "92.225944",
         "_cell_angle_gamma": "95.739547",
         "_cell_volume": "2733.59215194",
         "_deepnote_index_column": 9996
        },
        {
         "MOFname": "mof_unit_9997",
         "volume [A^3]": 2930.745926,
         "weight [u]": 1211.69582,
         "surface_area [m^2/g]": 3040.39,
         "void_fraction": 0.40394,
         "void_volume [cm^3/g]": 0.5884,
         "functional_groups": "HCO-SO3H",
         "metal_linker": 3,
         "organic_linker1": 14,
         "organic_linker2": 29,
         "topology": "pcu",
         "CO2/N2_selectivity": 11.43280816,
         "heat_adsorption_CO2_P0.15bar_T298K [kcal/mol]": 4.784619,
         "CO2_working_capacity [mL/g]": 75.14796203839322,
         "cif_filepath": "tmlcc-2021/mof_cif_train/mof_unit_9997.cif",
         "cif": "{'metadata': {0: {0: '_audit_creation_date', 1: '_symmetry_space_group_name_H-M', 2: '_symmetry_Int…",
         "_audit_creation_date": "2013-03-05T15:55:21-0500",
         "_symmetry_space_group_name_H-M": "P1",
         "_symmetry_Int_Tables_number": "1",
         "_space_group_crystal_system": "triclinic",
         "_cell_length_a": "27.732558",
         "_cell_length_b": "10.71514",
         "_cell_length_c": "9.868152",
         "_cell_angle_alpha": "89.002148",
         "_cell_angle_beta": "90.135056",
         "_cell_angle_gamma": "91.6441",
         "_cell_volume": "2930.74592589",
         "_deepnote_index_column": 9997
        },
        {
         "MOFname": "mof_unit_9998",
         "volume [A^3]": 4142.678504,
         "weight [u]": 2475.1756800000003,
         "surface_area [m^2/g]": -1,
         "void_fraction": -1,
         "void_volume [cm^3/g]": 0,
         "functional_groups": "H-NO2",
         "metal_linker": 4,
         "organic_linker1": 6,
         "organic_linker2": 17,
         "topology": "acs",
         "CO2/N2_selectivity": 185.8275719,
         "heat_adsorption_CO2_P0.15bar_T298K [kcal/mol]": 5.829714,
         "CO2_working_capacity [mL/g]": 213.27097638655147,
         "cif_filepath": "tmlcc-2021/mof_cif_train/mof_unit_9998.cif",
         "cif": "{'metadata': {0: {0: '_audit_creation_date', 1: '_symmetry_space_group_name_H-M', 2: '_symmetry_Int…",
         "_audit_creation_date": "2013-03-05T15:53:43-0500",
         "_symmetry_space_group_name_H-M": "P1",
         "_symmetry_Int_Tables_number": "1",
         "_space_group_crystal_system": "triclinic",
         "_cell_length_a": "12.927189",
         "_cell_length_b": "13.236449",
         "_cell_length_c": "27.764004",
         "_cell_angle_alpha": "94.30699",
         "_cell_angle_beta": "90.581332",
         "_cell_angle_gamma": "118.869563",
         "_cell_volume": "4142.67850366",
         "_deepnote_index_column": 9998
        },
        {
         "MOFname": "mof_unit_9999",
         "volume [A^3]": 1101.96986,
         "weight [u]": 1702.39012,
         "surface_area [m^2/g]": 0,
         "void_fraction": 0.0996799999999998,
         "void_volume [cm^3/g]": 0.0388999999999999,
         "functional_groups": "I-Br",
         "metal_linker": 2,
         "organic_linker1": 10,
         "organic_linker2": 26,
         "topology": "pcu",
         "CO2/N2_selectivity": 92.49015152,
         "heat_adsorption_CO2_P0.15bar_T298K [kcal/mol]": 7.41967,
         "CO2_working_capacity [mL/g]": 113.44918778995682,
         "cif_filepath": "tmlcc-2021/mof_cif_train/mof_unit_9999.cif",
         "cif": "{'metadata': {0: {0: '_audit_creation_date', 1: '_symmetry_space_group_name_H-M', 2: '_symmetry_Int…",
         "_audit_creation_date": "2012-12-10T16:48:45-0500",
         "_symmetry_space_group_name_H-M": "P1",
         "_symmetry_Int_Tables_number": "1",
         "_space_group_crystal_system": "triclinic",
         "_cell_length_a": "17.232074",
         "_cell_length_b": "8.78406",
         "_cell_length_c": "7.504137",
         "_cell_angle_alpha": "103.137752",
         "_cell_angle_beta": "89.887983",
         "_cell_angle_gamma": "94.877927",
         "_cell_volume": "1101.96986013",
         "_deepnote_index_column": 9999
        },
        {
         "MOFname": "mof_unit_10000",
         "volume [A^3]": 3278.239707,
         "weight [u]": 1948.741776,
         "surface_area [m^2/g]": 1555.55,
         "void_fraction": 0.2741199999999999,
         "void_volume [cm^3/g]": 0.2777,
         "functional_groups": "NH2-Me",
         "metal_linker": 10,
         "organic_linker1": 49,
         "organic_linker2": 54,
         "topology": "etb",
         "CO2/N2_selectivity": 34.08882918,
         "heat_adsorption_CO2_P0.15bar_T298K [kcal/mol]": 5.615388,
         "CO2_working_capacity [mL/g]": 123.6649499650854,
         "cif_filepath": "tmlcc-2021/mof_cif_train/mof_unit_10000.cif",
         "cif": "{'metadata': {0: {0: '_audit_creation_date', 1: '_symmetry_space_group_name_H-M', 2: '_symmetry_Int…",
         "_audit_creation_date": "2012-12-11T19:42:23-0500",
         "_symmetry_space_group_name_H-M": "P1",
         "_symmetry_Int_Tables_number": "1",
         "_space_group_crystal_system": "triclinic",
         "_cell_length_a": "8.210619",
         "_cell_length_b": "15.163118",
         "_cell_length_c": "26.991096",
         "_cell_angle_alpha": "99.052447",
         "_cell_angle_beta": "92.386237",
         "_cell_angle_gamma": "81.123988",
         "_cell_volume": "3278.23970746",
         "_deepnote_index_column": 10000
        }
       ]
      },
      "text/plain": "              MOFname  volume [A^3]   weight [u]  surface_area [m^2/g]  \\\n1          mof_unit_1   1116.667429   875.240600                  0.00   \n2          mof_unit_2   2769.503842  2211.697211                603.61   \n3          mof_unit_3   1089.818728   773.687960                788.50   \n4          mof_unit_4   2205.198301  1304.638720               1441.53   \n5          mof_unit_5   1137.800963   901.736120                  0.00   \n...               ...           ...          ...                   ...   \n9996    mof_unit_9996   2733.592152  2128.550096                734.48   \n9997    mof_unit_9997   2930.745926  1211.695820               3040.39   \n9998    mof_unit_9998   4142.678504  2475.175680                 -1.00   \n9999    mof_unit_9999   1101.969860  1702.390120                  0.00   \n10000  mof_unit_10000   3278.239707  1948.741776               1555.55   \n\n       void_fraction  void_volume [cm^3/g] functional_groups  metal_linker  \\\n1            0.07899                0.0607          COOH-OEt             3   \n2            0.13794                0.1040             F-OMe            10   \n3            0.14874                0.1262          OMe-COOH             2   \n4            0.21814                0.2220            H-SO3H             9   \n5            0.07778                0.0591           NHMe-OH             2   \n...              ...                   ...               ...           ...   \n9996         0.17093                0.1322          COOH-NO2            10   \n9997         0.40394                0.5884          HCO-SO3H             3   \n9998        -1.00000                0.0000             H-NO2             4   \n9999         0.09968                0.0389              I-Br             2   \n10000        0.27412                0.2777            NH2-Me            10   \n\n       organic_linker1  organic_linker2  ... _symmetry_space_group_name_H-M  \\\n1                    4               11  ...                             P1   \n2                   44               57  ...                             P1   \n3                   22               24  ...                             P1   \n4                   17               24  ...                             P1   \n5                    1               22  ...                             P1   \n...                ...              ...  ...                            ...   \n9996                44               55  ...                             P1   \n9997                14               29  ...                             P1   \n9998                 6               17  ...                             P1   \n9999                10               26  ...                             P1   \n10000               49               54  ...                             P1   \n\n       _symmetry_Int_Tables_number  _space_group_crystal_system  \\\n1                                1                    triclinic   \n2                                1                    triclinic   \n3                                1                    triclinic   \n4                                1                    triclinic   \n5                                1                    triclinic   \n...                            ...                          ...   \n9996                             1                    triclinic   \n9997                             1                    triclinic   \n9998                             1                    triclinic   \n9999                             1                    triclinic   \n10000                            1                    triclinic   \n\n       _cell_length_a _cell_length_b _cell_length_c _cell_angle_alpha  \\\n1           10.609882      10.643578       9.890832         89.904234   \n2            8.463295      17.684225      18.960098        100.063446   \n3            10.73211       9.552271      10.631996         89.202223   \n4             6.93553      17.504896       19.27498        109.537419   \n5           10.825925       9.699886      10.853274         89.694657   \n...               ...            ...            ...               ...   \n9996         8.408072      17.316532      19.086984         98.096373   \n9997        27.732558       10.71514       9.868152         89.002148   \n9998        12.927189      13.236449      27.764004          94.30699   \n9999        17.232074        8.78406       7.504137        103.137752   \n10000        8.210619      15.163118      26.991096         99.052447   \n\n      _cell_angle_beta _cell_angle_gamma   _cell_volume  \n1            91.242355         90.261935  1116.66742888  \n2            91.815775          96.94221  2769.50384235  \n3            89.943258         90.387501  1089.81872751  \n4             90.23458         90.532988  2205.19830122  \n5            92.990983         91.404649  1137.80096321  \n...                ...               ...            ...  \n9996         92.225944         95.739547  2733.59215194  \n9997         90.135056           91.6441  2930.74592589  \n9998         90.581332        118.869563  4142.67850366  \n9999         89.887983         94.877927  1101.96986013  \n10000        92.386237         81.123988  3278.23970746  \n\n[10000 rows x 27 columns]",
      "text/html": "<div>\n<style scoped>\n    .dataframe tbody tr th:only-of-type {\n        vertical-align: middle;\n    }\n\n    .dataframe tbody tr th {\n        vertical-align: top;\n    }\n\n    .dataframe thead th {\n        text-align: right;\n    }\n</style>\n<table border=\"1\" class=\"dataframe\">\n  <thead>\n    <tr style=\"text-align: right;\">\n      <th></th>\n      <th>MOFname</th>\n      <th>volume [A^3]</th>\n      <th>weight [u]</th>\n      <th>surface_area [m^2/g]</th>\n      <th>void_fraction</th>\n      <th>void_volume [cm^3/g]</th>\n      <th>functional_groups</th>\n      <th>metal_linker</th>\n      <th>organic_linker1</th>\n      <th>organic_linker2</th>\n      <th>...</th>\n      <th>_symmetry_space_group_name_H-M</th>\n      <th>_symmetry_Int_Tables_number</th>\n      <th>_space_group_crystal_system</th>\n      <th>_cell_length_a</th>\n      <th>_cell_length_b</th>\n      <th>_cell_length_c</th>\n      <th>_cell_angle_alpha</th>\n      <th>_cell_angle_beta</th>\n      <th>_cell_angle_gamma</th>\n      <th>_cell_volume</th>\n    </tr>\n  </thead>\n  <tbody>\n    <tr>\n      <th>1</th>\n      <td>mof_unit_1</td>\n      <td>1116.667429</td>\n      <td>875.240600</td>\n      <td>0.00</td>\n      <td>0.07899</td>\n      <td>0.0607</td>\n      <td>COOH-OEt</td>\n      <td>3</td>\n      <td>4</td>\n      <td>11</td>\n      <td>...</td>\n      <td>P1</td>\n      <td>1</td>\n      <td>triclinic</td>\n      <td>10.609882</td>\n      <td>10.643578</td>\n      <td>9.890832</td>\n      <td>89.904234</td>\n      <td>91.242355</td>\n      <td>90.261935</td>\n      <td>1116.66742888</td>\n    </tr>\n    <tr>\n      <th>2</th>\n      <td>mof_unit_2</td>\n      <td>2769.503842</td>\n      <td>2211.697211</td>\n      <td>603.61</td>\n      <td>0.13794</td>\n      <td>0.1040</td>\n      <td>F-OMe</td>\n      <td>10</td>\n      <td>44</td>\n      <td>57</td>\n      <td>...</td>\n      <td>P1</td>\n      <td>1</td>\n      <td>triclinic</td>\n      <td>8.463295</td>\n      <td>17.684225</td>\n      <td>18.960098</td>\n      <td>100.063446</td>\n      <td>91.815775</td>\n      <td>96.94221</td>\n      <td>2769.50384235</td>\n    </tr>\n    <tr>\n      <th>3</th>\n      <td>mof_unit_3</td>\n      <td>1089.818728</td>\n      <td>773.687960</td>\n      <td>788.50</td>\n      <td>0.14874</td>\n      <td>0.1262</td>\n      <td>OMe-COOH</td>\n      <td>2</td>\n      <td>22</td>\n      <td>24</td>\n      <td>...</td>\n      <td>P1</td>\n      <td>1</td>\n      <td>triclinic</td>\n      <td>10.73211</td>\n      <td>9.552271</td>\n      <td>10.631996</td>\n      <td>89.202223</td>\n      <td>89.943258</td>\n      <td>90.387501</td>\n      <td>1089.81872751</td>\n    </tr>\n    <tr>\n      <th>4</th>\n      <td>mof_unit_4</td>\n      <td>2205.198301</td>\n      <td>1304.638720</td>\n      <td>1441.53</td>\n      <td>0.21814</td>\n      <td>0.2220</td>\n      <td>H-SO3H</td>\n      <td>9</td>\n      <td>17</td>\n      <td>24</td>\n      <td>...</td>\n      <td>P1</td>\n      <td>1</td>\n      <td>triclinic</td>\n      <td>6.93553</td>\n      <td>17.504896</td>\n      <td>19.27498</td>\n      <td>109.537419</td>\n      <td>90.23458</td>\n      <td>90.532988</td>\n      <td>2205.19830122</td>\n    </tr>\n    <tr>\n      <th>5</th>\n      <td>mof_unit_5</td>\n      <td>1137.800963</td>\n      <td>901.736120</td>\n      <td>0.00</td>\n      <td>0.07778</td>\n      <td>0.0591</td>\n      <td>NHMe-OH</td>\n      <td>2</td>\n      <td>1</td>\n      <td>22</td>\n      <td>...</td>\n      <td>P1</td>\n      <td>1</td>\n      <td>triclinic</td>\n      <td>10.825925</td>\n      <td>9.699886</td>\n      <td>10.853274</td>\n      <td>89.694657</td>\n      <td>92.990983</td>\n      <td>91.404649</td>\n      <td>1137.80096321</td>\n    </tr>\n    <tr>\n      <th>...</th>\n      <td>...</td>\n      <td>...</td>\n      <td>...</td>\n      <td>...</td>\n      <td>...</td>\n      <td>...</td>\n      <td>...</td>\n      <td>...</td>\n      <td>...</td>\n      <td>...</td>\n      <td>...</td>\n      <td>...</td>\n      <td>...</td>\n      <td>...</td>\n      <td>...</td>\n      <td>...</td>\n      <td>...</td>\n      <td>...</td>\n      <td>...</td>\n      <td>...</td>\n      <td>...</td>\n    </tr>\n    <tr>\n      <th>9996</th>\n      <td>mof_unit_9996</td>\n      <td>2733.592152</td>\n      <td>2128.550096</td>\n      <td>734.48</td>\n      <td>0.17093</td>\n      <td>0.1322</td>\n      <td>COOH-NO2</td>\n      <td>10</td>\n      <td>44</td>\n      <td>55</td>\n      <td>...</td>\n      <td>P1</td>\n      <td>1</td>\n      <td>triclinic</td>\n      <td>8.408072</td>\n      <td>17.316532</td>\n      <td>19.086984</td>\n      <td>98.096373</td>\n      <td>92.225944</td>\n      <td>95.739547</td>\n      <td>2733.59215194</td>\n    </tr>\n    <tr>\n      <th>9997</th>\n      <td>mof_unit_9997</td>\n      <td>2930.745926</td>\n      <td>1211.695820</td>\n      <td>3040.39</td>\n      <td>0.40394</td>\n      <td>0.5884</td>\n      <td>HCO-SO3H</td>\n      <td>3</td>\n      <td>14</td>\n      <td>29</td>\n      <td>...</td>\n      <td>P1</td>\n      <td>1</td>\n      <td>triclinic</td>\n      <td>27.732558</td>\n      <td>10.71514</td>\n      <td>9.868152</td>\n      <td>89.002148</td>\n      <td>90.135056</td>\n      <td>91.6441</td>\n      <td>2930.74592589</td>\n    </tr>\n    <tr>\n      <th>9998</th>\n      <td>mof_unit_9998</td>\n      <td>4142.678504</td>\n      <td>2475.175680</td>\n      <td>-1.00</td>\n      <td>-1.00000</td>\n      <td>0.0000</td>\n      <td>H-NO2</td>\n      <td>4</td>\n      <td>6</td>\n      <td>17</td>\n      <td>...</td>\n      <td>P1</td>\n      <td>1</td>\n      <td>triclinic</td>\n      <td>12.927189</td>\n      <td>13.236449</td>\n      <td>27.764004</td>\n      <td>94.30699</td>\n      <td>90.581332</td>\n      <td>118.869563</td>\n      <td>4142.67850366</td>\n    </tr>\n    <tr>\n      <th>9999</th>\n      <td>mof_unit_9999</td>\n      <td>1101.969860</td>\n      <td>1702.390120</td>\n      <td>0.00</td>\n      <td>0.09968</td>\n      <td>0.0389</td>\n      <td>I-Br</td>\n      <td>2</td>\n      <td>10</td>\n      <td>26</td>\n      <td>...</td>\n      <td>P1</td>\n      <td>1</td>\n      <td>triclinic</td>\n      <td>17.232074</td>\n      <td>8.78406</td>\n      <td>7.504137</td>\n      <td>103.137752</td>\n      <td>89.887983</td>\n      <td>94.877927</td>\n      <td>1101.96986013</td>\n    </tr>\n    <tr>\n      <th>10000</th>\n      <td>mof_unit_10000</td>\n      <td>3278.239707</td>\n      <td>1948.741776</td>\n      <td>1555.55</td>\n      <td>0.27412</td>\n      <td>0.2777</td>\n      <td>NH2-Me</td>\n      <td>10</td>\n      <td>49</td>\n      <td>54</td>\n      <td>...</td>\n      <td>P1</td>\n      <td>1</td>\n      <td>triclinic</td>\n      <td>8.210619</td>\n      <td>15.163118</td>\n      <td>26.991096</td>\n      <td>99.052447</td>\n      <td>92.386237</td>\n      <td>81.123988</td>\n      <td>3278.23970746</td>\n    </tr>\n  </tbody>\n</table>\n<p>10000 rows × 27 columns</p>\n</div>"
     },
     "metadata": {}
    }
   ],
   "execution_count": 11
  },
  {
   "cell_type": "code",
   "source": "Train = read_pandas_pickle(PREPROCESSING_TRAIN_PATH)\nTrain = merge_metadata(Train)\n\nPretest = read_pandas_pickle(PREPROCESSING_PRETEST_PATH)\nPretest = merge_metadata(Pretest)",
   "metadata": {
    "tags": [],
    "cell_id": "00022-9866c831-2f32-47a4-90be-8fa21a4b2917",
    "deepnote_to_be_reexecuted": false,
    "source_hash": "7d1e3b65",
    "execution_start": 1632062335634,
    "execution_millis": 25462,
    "deepnote_cell_type": "code"
   },
   "outputs": [
    {
     "name": "stdout",
     "text": "60001_68613.pickle\n40001_50000.pickle\n10001_20000.pickle\n1_10000.pickle\n20001_30000.pickle\n50001_60000.pickle\n30001_40000.pickle\n1_2000.pickle\n",
     "output_type": "stream"
    }
   ],
   "execution_count": 12
  },
  {
   "cell_type": "code",
   "source": "Train.to_pickle(\"/work/preprocessing_results/train_merged_CIF/Train.pickle\")\nPretest.to_pickle(\"/work/preprocessing_results/pretest_merged_CIF/Pretest.pickle\")",
   "metadata": {
    "tags": [],
    "cell_id": "00022-d44205e8-df0e-43c0-a0ea-69f47aecf0be",
    "deepnote_to_be_reexecuted": false,
    "source_hash": "7fbf8bba",
    "execution_start": 1632062361099,
    "execution_millis": 42220,
    "deepnote_cell_type": "code"
   },
   "outputs": [],
   "execution_count": 13
  },
  {
   "cell_type": "code",
   "source": "Train",
   "metadata": {
    "tags": [],
    "cell_id": "00022-9d93bac7-4bfe-4fec-af37-d5cb0e0143de",
    "deepnote_to_be_reexecuted": false,
    "source_hash": "9924fdb3",
    "execution_start": 1632062403362,
    "execution_millis": 365,
    "deepnote_cell_type": "code"
   },
   "outputs": [
    {
     "output_type": "execute_result",
     "execution_count": 14,
     "data": {
      "application/vnd.deepnote.dataframe.v2+json": {
       "row_count": 68613,
       "column_count": 27,
       "columns": [
        {
         "name": "MOFname",
         "dtype": "object",
         "stats": {
          "unique_count": 68613,
          "nan_count": 0,
          "categories": [
           {
            "name": "mof_unit_1",
            "count": 1
           },
           {
            "name": "mof_unit_2",
            "count": 1
           },
           {
            "name": "68611 others",
            "count": 68611
           }
          ]
         }
        },
        {
         "name": "volume [A^3]",
         "dtype": "float64"
        },
        {
         "name": "weight [u]",
         "dtype": "float64"
        },
        {
         "name": "surface_area [m^2/g]",
         "dtype": "float64"
        },
        {
         "name": "void_fraction",
         "dtype": "float64"
        },
        {
         "name": "void_volume [cm^3/g]",
         "dtype": "float64"
        },
        {
         "name": "functional_groups",
         "dtype": "object"
        },
        {
         "name": "metal_linker",
         "dtype": "int64"
        },
        {
         "name": "organic_linker1",
         "dtype": "int64"
        },
        {
         "name": "organic_linker2",
         "dtype": "int64"
        },
        {
         "name": "topology",
         "dtype": "object"
        },
        {
         "name": "CO2/N2_selectivity",
         "dtype": "float64"
        },
        {
         "name": "heat_adsorption_CO2_P0.15bar_T298K [kcal/mol]",
         "dtype": "float64"
        },
        {
         "name": "CO2_working_capacity [mL/g]",
         "dtype": "float64"
        },
        {
         "name": "cif_filepath",
         "dtype": "object"
        },
        {
         "name": "cif",
         "dtype": "object"
        },
        {
         "name": "_audit_creation_date",
         "dtype": "object"
        },
        {
         "name": "_symmetry_space_group_name_H-M",
         "dtype": "object"
        },
        {
         "name": "_symmetry_Int_Tables_number",
         "dtype": "object"
        },
        {
         "name": "_space_group_crystal_system",
         "dtype": "object"
        },
        {
         "name": "_cell_length_a",
         "dtype": "object"
        },
        {
         "name": "_cell_length_b",
         "dtype": "object"
        },
        {
         "name": "_cell_length_c",
         "dtype": "object"
        },
        {
         "name": "_cell_angle_alpha",
         "dtype": "object"
        },
        {
         "name": "_cell_angle_beta",
         "dtype": "object"
        },
        {
         "name": "_cell_angle_gamma",
         "dtype": "object"
        },
        {
         "name": "_cell_volume",
         "dtype": "object"
        },
        {
         "name": "_deepnote_index_column",
         "dtype": "int64"
        }
       ],
       "rows_top": [
        {
         "MOFname": "mof_unit_1",
         "volume [A^3]": 1116.667429,
         "weight [u]": 875.2405999999999,
         "surface_area [m^2/g]": 0,
         "void_fraction": 0.07899,
         "void_volume [cm^3/g]": 0.0606999999999999,
         "functional_groups": "COOH-OEt",
         "metal_linker": 3,
         "organic_linker1": 4,
         "organic_linker2": 11,
         "topology": "pcu",
         "CO2/N2_selectivity": 22.86416611,
         "heat_adsorption_CO2_P0.15bar_T298K [kcal/mol]": 6.786041,
         "CO2_working_capacity [mL/g]": 105.2845017241596,
         "cif_filepath": "tmlcc-2021/mof_cif_train/mof_unit_1.cif",
         "cif": "{'metadata': {0: {0: '_audit_creation_date', 1: '_symmetry_space_group_name_H-M', 2: '_symmetry_Int…",
         "_audit_creation_date": "2013-03-05T16:41:16-0500",
         "_symmetry_space_group_name_H-M": "P1",
         "_symmetry_Int_Tables_number": "1",
         "_space_group_crystal_system": "triclinic",
         "_cell_length_a": "10.609882",
         "_cell_length_b": "10.643578",
         "_cell_length_c": "9.890832",
         "_cell_angle_alpha": "89.904234",
         "_cell_angle_beta": "91.242355",
         "_cell_angle_gamma": "90.261935",
         "_cell_volume": "1116.66742888",
         "_deepnote_index_column": 1
        },
        {
         "MOFname": "mof_unit_2",
         "volume [A^3]": 2769.503842,
         "weight [u]": 2211.697211,
         "surface_area [m^2/g]": 603.61,
         "void_fraction": 0.13794,
         "void_volume [cm^3/g]": 0.104,
         "functional_groups": "F-OMe",
         "metal_linker": 10,
         "organic_linker1": 44,
         "organic_linker2": 57,
         "topology": "etb",
         "CO2/N2_selectivity": 33.61678033,
         "heat_adsorption_CO2_P0.15bar_T298K [kcal/mol]": 7.147286,
         "CO2_working_capacity [mL/g]": 101.22477417834172,
         "cif_filepath": "tmlcc-2021/mof_cif_train/mof_unit_2.cif",
         "cif": "{'metadata': {0: {0: '_audit_creation_date', 1: '_symmetry_space_group_name_H-M', 2: '_symmetry_Int…",
         "_audit_creation_date": "2013-03-05T15:53:01-0500",
         "_symmetry_space_group_name_H-M": "P1",
         "_symmetry_Int_Tables_number": "1",
         "_space_group_crystal_system": "triclinic",
         "_cell_length_a": "8.463295",
         "_cell_length_b": "17.684225",
         "_cell_length_c": "18.960098",
         "_cell_angle_alpha": "100.063446",
         "_cell_angle_beta": "91.815775",
         "_cell_angle_gamma": "96.94221",
         "_cell_volume": "2769.50384235",
         "_deepnote_index_column": 2
        },
        {
         "MOFname": "mof_unit_3",
         "volume [A^3]": 1089.818728,
         "weight [u]": 773.68796,
         "surface_area [m^2/g]": 788.5,
         "void_fraction": 0.14874,
         "void_volume [cm^3/g]": 0.1262,
         "functional_groups": "OMe-COOH",
         "metal_linker": 2,
         "organic_linker1": 22,
         "organic_linker2": 24,
         "topology": "pcu",
         "CO2/N2_selectivity": 19.26372569,
         "heat_adsorption_CO2_P0.15bar_T298K [kcal/mol]": 6.347967,
         "CO2_working_capacity [mL/g]": 118.98701074687752,
         "cif_filepath": "tmlcc-2021/mof_cif_train/mof_unit_3.cif",
         "cif": "{'metadata': {0: {0: '_audit_creation_date', 1: '_symmetry_space_group_name_H-M', 2: '_symmetry_Int…",
         "_audit_creation_date": "2012-12-10T18:11:09-0500",
         "_symmetry_space_group_name_H-M": "P1",
         "_symmetry_Int_Tables_number": "1",
         "_space_group_crystal_system": "triclinic",
         "_cell_length_a": "10.73211",
         "_cell_length_b": "9.552271",
         "_cell_length_c": "10.631996",
         "_cell_angle_alpha": "89.202223",
         "_cell_angle_beta": "89.943258",
         "_cell_angle_gamma": "90.387501",
         "_cell_volume": "1089.81872751",
         "_deepnote_index_column": 3
        },
        {
         "MOFname": "mof_unit_4",
         "volume [A^3]": 2205.1983010000004,
         "weight [u]": 1304.63872,
         "surface_area [m^2/g]": 1441.53,
         "void_fraction": 0.21814,
         "void_volume [cm^3/g]": 0.222,
         "functional_groups": "H-SO3H",
         "metal_linker": 9,
         "organic_linker1": 17,
         "organic_linker2": 24,
         "topology": "sra",
         "CO2/N2_selectivity": 25.70137692,
         "heat_adsorption_CO2_P0.15bar_T298K [kcal/mol]": 6.190085,
         "CO2_working_capacity [mL/g]": 187.62600449626183,
         "cif_filepath": "tmlcc-2021/mof_cif_train/mof_unit_4.cif",
         "cif": "{'metadata': {0: {0: '_audit_creation_date', 1: '_symmetry_space_group_name_H-M', 2: '_symmetry_Int…",
         "_audit_creation_date": "2012-12-11T15:23:38-0500",
         "_symmetry_space_group_name_H-M": "P1",
         "_symmetry_Int_Tables_number": "1",
         "_space_group_crystal_system": "triclinic",
         "_cell_length_a": "6.93553",
         "_cell_length_b": "17.504896",
         "_cell_length_c": "19.27498",
         "_cell_angle_alpha": "109.537419",
         "_cell_angle_beta": "90.23458",
         "_cell_angle_gamma": "90.532988",
         "_cell_volume": "2205.19830122",
         "_deepnote_index_column": 4
        },
        {
         "MOFname": "mof_unit_5",
         "volume [A^3]": 1137.800963,
         "weight [u]": 901.73612,
         "surface_area [m^2/g]": 0,
         "void_fraction": 0.07778,
         "void_volume [cm^3/g]": 0.0591,
         "functional_groups": "NHMe-OH",
         "metal_linker": 2,
         "organic_linker1": 1,
         "organic_linker2": 22,
         "topology": "pcu",
         "CO2/N2_selectivity": 30.00183795,
         "heat_adsorption_CO2_P0.15bar_T298K [kcal/mol]": 6.478063,
         "CO2_working_capacity [mL/g]": 79.21000065588353,
         "cif_filepath": "tmlcc-2021/mof_cif_train/mof_unit_5.cif",
         "cif": "{'metadata': {0: {0: '_audit_creation_date', 1: '_symmetry_space_group_name_H-M', 2: '_symmetry_Int…",
         "_audit_creation_date": "2012-10-26T19:45:32-0400",
         "_symmetry_space_group_name_H-M": "P1",
         "_symmetry_Int_Tables_number": "1",
         "_space_group_crystal_system": "triclinic",
         "_cell_length_a": "10.825925",
         "_cell_length_b": "9.699886",
         "_cell_length_c": "10.853274",
         "_cell_angle_alpha": "89.694657",
         "_cell_angle_beta": "92.990983",
         "_cell_angle_gamma": "91.404649",
         "_cell_volume": "1137.80096321",
         "_deepnote_index_column": 5
        },
        {
         "MOFname": "mof_unit_6",
         "volume [A^3]": 3954.659761,
         "weight [u]": 1543.02768,
         "surface_area [m^2/g]": 2430.55,
         "void_fraction": 0.3709399999999999,
         "void_volume [cm^3/g]": 0.5725,
         "functional_groups": "Pr-NO2",
         "metal_linker": 9,
         "organic_linker1": 7,
         "organic_linker2": 23,
         "topology": "sra",
         "CO2/N2_selectivity": 17.14654102,
         "heat_adsorption_CO2_P0.15bar_T298K [kcal/mol]": 5.398304,
         "CO2_working_capacity [mL/g]": 55.7869591021412,
         "cif_filepath": "tmlcc-2021/mof_cif_train/mof_unit_6.cif",
         "cif": "{'metadata': {0: {0: '_audit_creation_date', 1: '_symmetry_space_group_name_H-M', 2: '_symmetry_Int…",
         "_audit_creation_date": "2013-03-05T16:13:07-0500",
         "_symmetry_space_group_name_H-M": "P1",
         "_symmetry_Int_Tables_number": "1",
         "_space_group_crystal_system": "triclinic",
         "_cell_length_a": "24.949291",
         "_cell_length_b": "7.054011",
         "_cell_length_c": "22.606019",
         "_cell_angle_alpha": "90.036873",
         "_cell_angle_beta": "96.274104",
         "_cell_angle_gamma": "89.946334",
         "_cell_volume": "3954.65976066",
         "_deepnote_index_column": 6
        },
        {
         "MOFname": "mof_unit_7",
         "volume [A^3]": 3565.914939,
         "weight [u]": 1954.749656,
         "surface_area [m^2/g]": 1530.02,
         "void_fraction": 0.33337,
         "void_volume [cm^3/g]": 0.3662,
         "functional_groups": "NH2",
         "metal_linker": 10,
         "organic_linker1": 53,
         "organic_linker2": 55,
         "topology": "etb",
         "CO2/N2_selectivity": 18.36379134,
         "heat_adsorption_CO2_P0.15bar_T298K [kcal/mol]": 6.303857,
         "CO2_working_capacity [mL/g]": 111.69046224719489,
         "cif_filepath": "tmlcc-2021/mof_cif_train/mof_unit_7.cif",
         "cif": "{'metadata': {0: {0: '_audit_creation_date', 1: '_symmetry_space_group_name_H-M', 2: '_symmetry_Int…",
         "_audit_creation_date": "2012-12-11T20:55:17-0500",
         "_symmetry_space_group_name_H-M": "P1",
         "_symmetry_Int_Tables_number": "1",
         "_space_group_crystal_system": "triclinic",
         "_cell_length_a": "8.2867",
         "_cell_length_b": "19.200319",
         "_cell_length_c": "22.787351",
         "_cell_angle_alpha": "100.16818",
         "_cell_angle_beta": "89.967715",
         "_cell_angle_gamma": "92.22909",
         "_cell_volume": "3565.91493915",
         "_deepnote_index_column": 7
        },
        {
         "MOFname": "mof_unit_8",
         "volume [A^3]": 916.0439070000001,
         "weight [u]": 639.11156,
         "surface_area [m^2/g]": 1685.58,
         "void_fraction": 0.28458,
         "void_volume [cm^3/g]": 0.2456,
         "functional_groups": "Br",
         "metal_linker": 2,
         "organic_linker1": 5,
         "organic_linker2": 13,
         "topology": "pcu",
         "CO2/N2_selectivity": 12.68480443,
         "heat_adsorption_CO2_P0.15bar_T298K [kcal/mol]": 5.234732,
         "CO2_working_capacity [mL/g]": 58.989774287110805,
         "cif_filepath": "tmlcc-2021/mof_cif_train/mof_unit_8.cif",
         "cif": "{'metadata': {0: {0: '_audit_creation_date', 1: '_symmetry_space_group_name_H-M', 2: '_symmetry_Int…",
         "_audit_creation_date": "2013-03-05T16:34:33-0500",
         "_symmetry_space_group_name_H-M": "P1",
         "_symmetry_Int_Tables_number": "1",
         "_space_group_crystal_system": "triclinic",
         "_cell_length_a": "12.999835",
         "_cell_length_b": "9.096507",
         "_cell_length_c": "7.790769",
         "_cell_angle_alpha": "90.003048",
         "_cell_angle_beta": "96.113006",
         "_cell_angle_gamma": "89.99935",
         "_cell_volume": "916.043907495",
         "_deepnote_index_column": 8
        },
        {
         "MOFname": "mof_unit_9",
         "volume [A^3]": 2228.882339,
         "weight [u]": 1422.69182,
         "surface_area [m^2/g]": 1458.02,
         "void_fraction": 0.2427699999999999,
         "void_volume [cm^3/g]": 0.2291,
         "functional_groups": "HCO",
         "metal_linker": 4,
         "organic_linker1": 14,
         "organic_linker2": 19,
         "topology": "acs",
         "CO2/N2_selectivity": 37.04042435,
         "heat_adsorption_CO2_P0.15bar_T298K [kcal/mol]": 6.298964,
         "CO2_working_capacity [mL/g]": 135.58710841724886,
         "cif_filepath": "tmlcc-2021/mof_cif_train/mof_unit_9.cif",
         "cif": "{'metadata': {0: {0: '_audit_creation_date', 1: '_symmetry_space_group_name_H-M', 2: '_symmetry_Int…",
         "_audit_creation_date": "2012-12-11T14:21:10-0500",
         "_symmetry_space_group_name_H-M": "P1",
         "_symmetry_Int_Tables_number": "1",
         "_space_group_crystal_system": "triclinic",
         "_cell_length_a": "11.514733",
         "_cell_length_b": "11.613772",
         "_cell_length_c": "19.363484",
         "_cell_angle_alpha": "90.584232",
         "_cell_angle_beta": "89.362927",
         "_cell_angle_gamma": "59.423201",
         "_cell_volume": "2228.88233917",
         "_deepnote_index_column": 9
        },
        {
         "MOFname": "mof_unit_10",
         "volume [A^3]": 4275.421420000001,
         "weight [u]": 1606.196,
         "surface_area [m^2/g]": 3276.11,
         "void_fraction": 0.4100399999999999,
         "void_volume [cm^3/g]": 0.6573,
         "functional_groups": "NHMe-OH",
         "metal_linker": 3,
         "organic_linker1": 13,
         "organic_linker2": 29,
         "topology": "pcu",
         "CO2/N2_selectivity": 10.9992991,
         "heat_adsorption_CO2_P0.15bar_T298K [kcal/mol]": 5.539327,
         "CO2_working_capacity [mL/g]": 59.73905673864041,
         "cif_filepath": "tmlcc-2021/mof_cif_train/mof_unit_10.cif",
         "cif": "{'metadata': {0: {0: '_audit_creation_date', 1: '_symmetry_space_group_name_H-M', 2: '_symmetry_Int…",
         "_audit_creation_date": "2012-12-10T17:40:03-0500",
         "_symmetry_space_group_name_H-M": "P1",
         "_symmetry_Int_Tables_number": "1",
         "_space_group_crystal_system": "triclinic",
         "_cell_length_a": "12.041039",
         "_cell_length_b": "13.008236",
         "_cell_length_c": "27.438486",
         "_cell_angle_alpha": "91.181769",
         "_cell_angle_beta": "84.870254",
         "_cell_angle_gamma": "92.639099",
         "_cell_volume": "4275.42142025",
         "_deepnote_index_column": 10
        },
        {
         "MOFname": "mof_unit_11",
         "volume [A^3]": 1607.935338,
         "weight [u]": 1110.38712,
         "surface_area [m^2/g]": 1098.36,
         "void_fraction": 0.18787,
         "void_volume [cm^3/g]": 0.1638,
         "functional_groups": "SO3H",
         "metal_linker": 9,
         "organic_linker1": 1,
         "organic_linker2": 24,
         "topology": "sra",
         "CO2/N2_selectivity": 24.25902464,
         "heat_adsorption_CO2_P0.15bar_T298K [kcal/mol]": 5.926444,
         "CO2_working_capacity [mL/g]": 161.06749898914796,
         "cif_filepath": "tmlcc-2021/mof_cif_train/mof_unit_11.cif",
         "cif": "{'metadata': {0: {0: '_audit_creation_date', 1: '_symmetry_space_group_name_H-M', 2: '_symmetry_Int…",
         "_audit_creation_date": "2012-12-11T15:53:42-0500",
         "_symmetry_space_group_name_H-M": "P1",
         "_symmetry_Int_Tables_number": "1",
         "_space_group_crystal_system": "triclinic",
         "_cell_length_a": "6.931148",
         "_cell_length_b": "14.529443",
         "_cell_length_c": "15.967346",
         "_cell_angle_alpha": "90.477043",
         "_cell_angle_beta": "90.128514",
         "_cell_angle_gamma": "89.818714",
         "_cell_volume": "1607.93533824",
         "_deepnote_index_column": 11
        },
        {
         "MOFname": "mof_unit_12",
         "volume [A^3]": 1175.47586,
         "weight [u]": 1397.05128,
         "surface_area [m^2/g]": 0,
         "void_fraction": 0.05704,
         "void_volume [cm^3/g]": 0.0288999999999999,
         "functional_groups": "Me-Br",
         "metal_linker": 2,
         "organic_linker1": 22,
         "organic_linker2": 24,
         "topology": "pcu",
         "CO2/N2_selectivity": 58.10697445,
         "heat_adsorption_CO2_P0.15bar_T298K [kcal/mol]": 7.4078979999999985,
         "CO2_working_capacity [mL/g]": 101.96481234318138,
         "cif_filepath": "tmlcc-2021/mof_cif_train/mof_unit_12.cif",
         "cif": "{'metadata': {0: {0: '_audit_creation_date', 1: '_symmetry_space_group_name_H-M', 2: '_symmetry_Int…",
         "_audit_creation_date": "2012-12-10T18:11:06-0500",
         "_symmetry_space_group_name_H-M": "P1",
         "_symmetry_Int_Tables_number": "1",
         "_space_group_crystal_system": "triclinic",
         "_cell_length_a": "10.998061",
         "_cell_length_b": "9.934987",
         "_cell_length_c": "10.760373",
         "_cell_angle_alpha": "90.750251",
         "_cell_angle_beta": "89.160226",
         "_cell_angle_gamma": "90.456866",
         "_cell_volume": "1175.47586031",
         "_deepnote_index_column": 12
        },
        {
         "MOFname": "mof_unit_13",
         "volume [A^3]": 1650.879383,
         "weight [u]": 796.6896799999998,
         "surface_area [m^2/g]": 2117.01,
         "void_fraction": 0.3040499999999999,
         "void_volume [cm^3/g]": 0.3794,
         "functional_groups": "NHMe-NO2",
         "metal_linker": 2,
         "organic_linker1": 4,
         "organic_linker2": 6,
         "topology": "pcu",
         "CO2/N2_selectivity": 12.99674112,
         "heat_adsorption_CO2_P0.15bar_T298K [kcal/mol]": 4.936655,
         "CO2_working_capacity [mL/g]": 79.91916950624072,
         "cif_filepath": "tmlcc-2021/mof_cif_train/mof_unit_13.cif",
         "cif": "{'metadata': {0: {0: '_audit_creation_date', 1: '_symmetry_space_group_name_H-M', 2: '_symmetry_Int…",
         "_audit_creation_date": "2013-03-05T16:33:48-0500",
         "_symmetry_space_group_name_H-M": "P1",
         "_symmetry_Int_Tables_number": "1",
         "_space_group_crystal_system": "triclinic",
         "_cell_length_a": "15.969446",
         "_cell_length_b": "10.823247",
         "_cell_length_c": "9.551803",
         "_cell_angle_alpha": "90.396255",
         "_cell_angle_beta": "90.318456",
         "_cell_angle_gamma": "90.0693",
         "_cell_volume": "1650.87938311",
         "_deepnote_index_column": 13
        },
        {
         "MOFname": "mof_unit_14",
         "volume [A^3]": 1071.619874,
         "weight [u]": 701.6286,
         "surface_area [m^2/g]": 0,
         "void_fraction": 0.10455,
         "void_volume [cm^3/g]": 0.0961999999999999,
         "functional_groups": "OEt-CN",
         "metal_linker": 2,
         "organic_linker1": 12,
         "organic_linker2": 22,
         "topology": "pcu",
         "CO2/N2_selectivity": 31.66445559,
         "heat_adsorption_CO2_P0.15bar_T298K [kcal/mol]": 7.427183,
         "CO2_working_capacity [mL/g]": 133.3711208364308,
         "cif_filepath": "tmlcc-2021/mof_cif_train/mof_unit_14.cif",
         "cif": "{'metadata': {0: {0: '_audit_creation_date', 1: '_symmetry_space_group_name_H-M', 2: '_symmetry_Int…",
         "_audit_creation_date": "2012-12-10T17:05:13-0500",
         "_symmetry_space_group_name_H-M": "P1",
         "_symmetry_Int_Tables_number": "1",
         "_space_group_crystal_system": "triclinic",
         "_cell_length_a": "10.772046",
         "_cell_length_b": "10.925408",
         "_cell_length_c": "9.856399",
         "_cell_angle_alpha": "110.039694",
         "_cell_angle_beta": "98.693134",
         "_cell_angle_gamma": "92.461125",
         "_cell_volume": "1071.61987428",
         "_deepnote_index_column": 14
        },
        {
         "MOFname": "mof_unit_15",
         "volume [A^3]": 1769.973982,
         "weight [u]": 945.403413,
         "surface_area [m^2/g]": 1870.11,
         "void_fraction": 0.27705,
         "void_volume [cm^3/g]": 0.3124,
         "functional_groups": "F-OMe",
         "metal_linker": 3,
         "organic_linker1": 4,
         "organic_linker2": 26,
         "topology": "pcu",
         "CO2/N2_selectivity": 17.01166312,
         "heat_adsorption_CO2_P0.15bar_T298K [kcal/mol]": 5.139598,
         "CO2_working_capacity [mL/g]": 62.32762208837283,
         "cif_filepath": "tmlcc-2021/mof_cif_train/mof_unit_15.cif",
         "cif": "{'metadata': {0: {0: '_audit_creation_date', 1: '_symmetry_space_group_name_H-M', 2: '_symmetry_Int…",
         "_audit_creation_date": "2012-12-10T20:38:23-0500",
         "_symmetry_space_group_name_H-M": "P1",
         "_symmetry_Int_Tables_number": "1",
         "_space_group_crystal_system": "triclinic",
         "_cell_length_a": "9.858469",
         "_cell_length_b": "10.672478",
         "_cell_length_c": "16.8966",
         "_cell_angle_alpha": "90.35894",
         "_cell_angle_beta": "84.651637",
         "_cell_angle_gamma": "90.271403",
         "_cell_volume": "1769.97398201",
         "_deepnote_index_column": 15
        },
        {
         "MOFname": "mof_unit_16",
         "volume [A^3]": 4282.561071,
         "weight [u]": 2478.166816,
         "surface_area [m^2/g]": 1294.48,
         "void_fraction": 0.2860699999999999,
         "void_volume [cm^3/g]": 0.2977,
         "functional_groups": "OMe-NH2",
         "metal_linker": 10,
         "organic_linker1": 52,
         "organic_linker2": 54,
         "topology": "etb",
         "CO2/N2_selectivity": 19.28955582,
         "heat_adsorption_CO2_P0.15bar_T298K [kcal/mol]": 5.867149,
         "CO2_working_capacity [mL/g]": 54.93615457357025,
         "cif_filepath": "tmlcc-2021/mof_cif_train/mof_unit_16.cif",
         "cif": "{'metadata': {0: {0: '_audit_creation_date', 1: '_symmetry_space_group_name_H-M', 2: '_symmetry_Int…",
         "_audit_creation_date": "2013-03-05T16:16:19-0500",
         "_symmetry_space_group_name_H-M": "P1",
         "_symmetry_Int_Tables_number": "1",
         "_space_group_crystal_system": "triclinic",
         "_cell_length_a": "8.442812",
         "_cell_length_b": "19.084105",
         "_cell_length_c": "26.973845",
         "_cell_angle_alpha": "98.789894",
         "_cell_angle_beta": "92.030824",
         "_cell_angle_gamma": "85.860956",
         "_cell_volume": "4282.56107073",
         "_deepnote_index_column": 16
        },
        {
         "MOFname": "mof_unit_17",
         "volume [A^3]": 7840.492345,
         "weight [u]": 4627.98816,
         "surface_area [m^2/g]": 1664.62,
         "void_fraction": 0.2688499999999999,
         "void_volume [cm^3/g]": 0.2742999999999999,
         "functional_groups": "Cl-Pr",
         "metal_linker": 2,
         "organic_linker1": 38,
         "organic_linker2": 41,
         "topology": "fof",
         "CO2/N2_selectivity": 15.894512699999998,
         "heat_adsorption_CO2_P0.15bar_T298K [kcal/mol]": 5.390903,
         "CO2_working_capacity [mL/g]": 98.10944956383052,
         "cif_filepath": "tmlcc-2021/mof_cif_train/mof_unit_17.cif",
         "cif": "{'metadata': {0: {0: '_audit_creation_date', 1: '_symmetry_space_group_name_H-M', 2: '_symmetry_Int…",
         "_audit_creation_date": "2012-10-26T17:11:32-0400",
         "_symmetry_space_group_name_H-M": "P1",
         "_symmetry_Int_Tables_number": "1",
         "_space_group_crystal_system": "triclinic",
         "_cell_length_a": "28.020872",
         "_cell_length_b": "18.702283",
         "_cell_length_c": "16.886505",
         "_cell_angle_alpha": "89.999652",
         "_cell_angle_beta": "62.373213",
         "_cell_angle_gamma": "89.999634",
         "_cell_volume": "7840.49234455",
         "_deepnote_index_column": 17
        },
        {
         "MOFname": "mof_unit_18",
         "volume [A^3]": 2252.940492,
         "weight [u]": 1583.399493,
         "surface_area [m^2/g]": 851.0399999999998,
         "void_fraction": 0.15162,
         "void_volume [cm^3/g]": 0.1298999999999999,
         "functional_groups": "Me-F",
         "metal_linker": 2,
         "organic_linker1": 14,
         "organic_linker2": 14,
         "topology": "pcu",
         "CO2/N2_selectivity": 35.34220222,
         "heat_adsorption_CO2_P0.15bar_T298K [kcal/mol]": 7.488088999999999,
         "CO2_working_capacity [mL/g]": 324.0160452431515,
         "cif_filepath": "tmlcc-2021/mof_cif_train/mof_unit_18.cif",
         "cif": "{'metadata': {0: {0: '_audit_creation_date', 1: '_symmetry_space_group_name_H-M', 2: '_symmetry_Int…",
         "_audit_creation_date": "2013-03-05T15:50:12-0500",
         "_symmetry_space_group_name_H-M": "P1",
         "_symmetry_Int_Tables_number": "1",
         "_space_group_crystal_system": "triclinic",
         "_cell_length_a": "14.540453",
         "_cell_length_b": "16.096069",
         "_cell_length_c": "9.635963",
         "_cell_angle_alpha": "89.929347",
         "_cell_angle_beta": "87.413037",
         "_cell_angle_gamma": "90.005439",
         "_cell_volume": "2252.94049165",
         "_deepnote_index_column": 18
        }
       ],
       "rows_bottom": [
        {
         "MOFname": "mof_unit_68595",
         "volume [A^3]": 1652.258112,
         "weight [u]": 1766.5988,
         "surface_area [m^2/g]": 0,
         "void_fraction": 0,
         "void_volume [cm^3/g]": 0,
         "functional_groups": "OH-NO2",
         "metal_linker": 9,
         "organic_linker1": 2,
         "organic_linker2": 22,
         "topology": "sra",
         "CO2/N2_selectivity": 0,
         "heat_adsorption_CO2_P0.15bar_T298K [kcal/mol]": "nan",
         "CO2_working_capacity [mL/g]": -3.942523196713197,
         "cif_filepath": "tmlcc-2021/mof_cif_train/mof_unit_68595.cif",
         "cif": "{'metadata': {0: {0: '_audit_creation_date', 1: '_symmetry_space_group_name_H-M', 2: '_symmetry_Int…",
         "_audit_creation_date": "2013-03-05T16:02:50-0500",
         "_symmetry_space_group_name_H-M": "P1",
         "_symmetry_Int_Tables_number": "1",
         "_space_group_crystal_system": "triclinic",
         "_cell_length_a": "6.962528",
         "_cell_length_b": "14.359726",
         "_cell_length_c": "16.528622",
         "_cell_angle_alpha": "90.035697",
         "_cell_angle_beta": "89.873508",
         "_cell_angle_gamma": "88.966117",
         "_cell_volume": "1652.25811153",
         "_deepnote_index_column": 68595
        },
        {
         "MOFname": "mof_unit_68596",
         "volume [A^3]": 3760.489888,
         "weight [u]": 3343.200672,
         "surface_area [m^2/g]": 0,
         "void_fraction": 0.0122099999999999,
         "void_volume [cm^3/g]": 0,
         "functional_groups": "NHMe-H",
         "metal_linker": 10,
         "organic_linker1": 42,
         "organic_linker2": 42,
         "topology": "etb",
         "CO2/N2_selectivity": 0.2271604939999999,
         "heat_adsorption_CO2_P0.15bar_T298K [kcal/mol]": "nan",
         "CO2_working_capacity [mL/g]": -4.115523419053584,
         "cif_filepath": "tmlcc-2021/mof_cif_train/mof_unit_68596.cif",
         "cif": "{'metadata': {0: {0: '_audit_creation_date', 1: '_symmetry_space_group_name_H-M', 2: '_symmetry_Int…",
         "_audit_creation_date": "2012-12-11T14:04:10-0500",
         "_symmetry_space_group_name_H-M": "P1",
         "_symmetry_Int_Tables_number": "1",
         "_space_group_crystal_system": "triclinic",
         "_cell_length_a": "20.106341",
         "_cell_length_b": "22.433377",
         "_cell_length_c": "8.641388",
         "_cell_angle_alpha": "89.712457",
         "_cell_angle_beta": "105.246472",
         "_cell_angle_gamma": "90.1271",
         "_cell_volume": "3760.48988793",
         "_deepnote_index_column": 68596
        },
        {
         "MOFname": "mof_unit_68597",
         "volume [A^3]": 3320.078141,
         "weight [u]": 3090.5876,
         "surface_area [m^2/g]": 0,
         "void_fraction": 0,
         "void_volume [cm^3/g]": 0,
         "functional_groups": "Me-OMe",
         "metal_linker": 9,
         "organic_linker1": 18,
         "organic_linker2": 29,
         "topology": "sra",
         "CO2/N2_selectivity": 0,
         "heat_adsorption_CO2_P0.15bar_T298K [kcal/mol]": "nan",
         "CO2_working_capacity [mL/g]": -4.142265819835208,
         "cif_filepath": "tmlcc-2021/mof_cif_train/mof_unit_68597.cif",
         "cif": "{'metadata': {0: {0: '_audit_creation_date', 1: '_symmetry_space_group_name_H-M', 2: '_symmetry_Int…",
         "_audit_creation_date": "2012-12-11T15:35:59-0500",
         "_symmetry_space_group_name_H-M": "P1",
         "_symmetry_Int_Tables_number": "1",
         "_space_group_crystal_system": "triclinic",
         "_cell_length_a": "7.353381",
         "_cell_length_b": "12.691091",
         "_cell_length_c": "35.577119",
         "_cell_angle_alpha": "90.267961",
         "_cell_angle_beta": "90.178711",
         "_cell_angle_gamma": "89.841909",
         "_cell_volume": "3320.07814053",
         "_deepnote_index_column": 68597
        },
        {
         "MOFname": "mof_unit_68598",
         "volume [A^3]": 1621.161289,
         "weight [u]": 1292.77096,
         "surface_area [m^2/g]": 0,
         "void_fraction": 0,
         "void_volume [cm^3/g]": 0,
         "functional_groups": "Me-OEt",
         "metal_linker": 9,
         "organic_linker1": 12,
         "organic_linker2": 12,
         "topology": "sra",
         "CO2/N2_selectivity": 4082.551111,
         "heat_adsorption_CO2_P0.15bar_T298K [kcal/mol]": "nan",
         "CO2_working_capacity [mL/g]": -4.267228766697491,
         "cif_filepath": "tmlcc-2021/mof_cif_train/mof_unit_68598.cif",
         "cif": "{'metadata': {0: {0: '_audit_creation_date', 1: '_symmetry_space_group_name_H-M', 2: '_symmetry_Int…",
         "_audit_creation_date": "2012-12-11T14:31:10-0500",
         "_symmetry_space_group_name_H-M": "P1",
         "_symmetry_Int_Tables_number": "1",
         "_space_group_crystal_system": "triclinic",
         "_cell_length_a": "6.904548",
         "_cell_length_b": "14.262454",
         "_cell_length_c": "16.46276",
         "_cell_angle_alpha": "90.040576",
         "_cell_angle_beta": "89.713152",
         "_cell_angle_gamma": "90.076031",
         "_cell_volume": "1621.16128894",
         "_deepnote_index_column": 68598
        },
        {
         "MOFname": "mof_unit_68599",
         "volume [A^3]": 1716.981598,
         "weight [u]": 2211.8456,
         "surface_area [m^2/g]": 0,
         "void_fraction": 0,
         "void_volume [cm^3/g]": 0,
         "functional_groups": "Br-COOH",
         "metal_linker": 9,
         "organic_linker1": 22,
         "organic_linker2": 22,
         "topology": "sra",
         "CO2/N2_selectivity": 0,
         "heat_adsorption_CO2_P0.15bar_T298K [kcal/mol]": "nan",
         "CO2_working_capacity [mL/g]": -4.289844253778246,
         "cif_filepath": "tmlcc-2021/mof_cif_train/mof_unit_68599.cif",
         "cif": "{'metadata': {0: {0: '_audit_creation_date', 1: '_symmetry_space_group_name_H-M', 2: '_symmetry_Int…",
         "_audit_creation_date": "2012-12-11T16:06:28-0500",
         "_symmetry_space_group_name_H-M": "P1",
         "_symmetry_Int_Tables_number": "1",
         "_space_group_crystal_system": "triclinic",
         "_cell_length_a": "7.264603",
         "_cell_length_b": "14.870818",
         "_cell_length_c": "15.893619",
         "_cell_angle_alpha": "89.999696",
         "_cell_angle_beta": "89.757139",
         "_cell_angle_gamma": "89.999119",
         "_cell_volume": "1716.98159813",
         "_deepnote_index_column": 68599
        },
        {
         "MOFname": "mof_unit_68600",
         "volume [A^3]": 1174.62717,
         "weight [u]": 1649.17081,
         "surface_area [m^2/g]": 0,
         "void_fraction": 0,
         "void_volume [cm^3/g]": 0,
         "functional_groups": "COOH-I",
         "metal_linker": 2,
         "organic_linker1": 14,
         "organic_linker2": 22,
         "topology": "pcu",
         "CO2/N2_selectivity": 2276.833333,
         "heat_adsorption_CO2_P0.15bar_T298K [kcal/mol]": "nan",
         "CO2_working_capacity [mL/g]": -4.46383493540684,
         "cif_filepath": "tmlcc-2021/mof_cif_train/mof_unit_68600.cif",
         "cif": "{'metadata': {0: {0: '_audit_creation_date', 1: '_symmetry_space_group_name_H-M', 2: '_symmetry_Int…",
         "_audit_creation_date": "2012-10-26T20:19:32-0400",
         "_symmetry_space_group_name_H-M": "P1",
         "_symmetry_Int_Tables_number": "1",
         "_space_group_crystal_system": "triclinic",
         "_cell_length_a": "11.086717",
         "_cell_length_b": "11.033472",
         "_cell_length_c": "9.696926",
         "_cell_angle_alpha": "89.417259",
         "_cell_angle_beta": "88.139105",
         "_cell_angle_gamma": "97.738502",
         "_cell_volume": "1174.62717024",
         "_deepnote_index_column": 68600
        },
        {
         "MOFname": "mof_unit_68601",
         "volume [A^3]": 1132.348176,
         "weight [u]": 903.87744,
         "surface_area [m^2/g]": 0,
         "void_fraction": 0,
         "void_volume [cm^3/g]": 0,
         "functional_groups": "OEt",
         "metal_linker": 2,
         "organic_linker1": 9,
         "organic_linker2": 12,
         "topology": "pcu",
         "CO2/N2_selectivity": 546.3466667,
         "heat_adsorption_CO2_P0.15bar_T298K [kcal/mol]": "nan",
         "CO2_working_capacity [mL/g]": -5.648259167555951,
         "cif_filepath": "tmlcc-2021/mof_cif_train/mof_unit_68601.cif",
         "cif": "{'metadata': {0: {0: '_audit_creation_date', 1: '_symmetry_space_group_name_H-M', 2: '_symmetry_Int…",
         "_audit_creation_date": "2012-12-10T19:42:32-0500",
         "_symmetry_space_group_name_H-M": "P1",
         "_symmetry_Int_Tables_number": "1",
         "_space_group_crystal_system": "triclinic",
         "_cell_length_a": "10.837492",
         "_cell_length_b": "10.912739",
         "_cell_length_c": "9.795559",
         "_cell_angle_alpha": "98.7433",
         "_cell_angle_beta": "98.13228",
         "_cell_angle_gamma": "91.307778",
         "_cell_volume": "1132.34817641",
         "_deepnote_index_column": 68601
        },
        {
         "MOFname": "mof_unit_68602",
         "volume [A^3]": 1131.069889,
         "weight [u]": 895.9516800000001,
         "surface_area [m^2/g]": 0,
         "void_fraction": 0,
         "void_volume [cm^3/g]": 0,
         "functional_groups": "NHMe-OEt",
         "metal_linker": 2,
         "organic_linker1": 4,
         "organic_linker2": 22,
         "topology": "pcu",
         "CO2/N2_selectivity": 454.265353,
         "heat_adsorption_CO2_P0.15bar_T298K [kcal/mol]": "nan",
         "CO2_working_capacity [mL/g]": -5.789564692673669,
         "cif_filepath": "tmlcc-2021/mof_cif_train/mof_unit_68602.cif",
         "cif": "{'metadata': {0: {0: '_audit_creation_date', 1: '_symmetry_space_group_name_H-M', 2: '_symmetry_Int…",
         "_audit_creation_date": "2012-12-10T19:03:08-0500",
         "_symmetry_space_group_name_H-M": "P1",
         "_symmetry_Int_Tables_number": "1",
         "_space_group_crystal_system": "triclinic",
         "_cell_length_a": "10.878831",
         "_cell_length_b": "10.816211",
         "_cell_length_c": "9.613343",
         "_cell_angle_alpha": "90.598466",
         "_cell_angle_beta": "90.049004",
         "_cell_angle_gamma": "90.528695",
         "_cell_volume": "1131.06988948",
         "_deepnote_index_column": 68602
        },
        {
         "MOFname": "mof_unit_68603",
         "volume [A^3]": 1046.560841,
         "weight [u]": 967.52096,
         "surface_area [m^2/g]": 0,
         "void_fraction": 0,
         "void_volume [cm^3/g]": 0,
         "functional_groups": "CN-Ph",
         "metal_linker": 3,
         "organic_linker1": 10,
         "organic_linker2": 17,
         "topology": "pcu",
         "CO2/N2_selectivity": 0,
         "heat_adsorption_CO2_P0.15bar_T298K [kcal/mol]": "nan",
         "CO2_working_capacity [mL/g]": -6.190205474753933,
         "cif_filepath": "tmlcc-2021/mof_cif_train/mof_unit_68603.cif",
         "cif": "{'metadata': {0: {0: '_audit_creation_date', 1: '_symmetry_space_group_name_H-M', 2: '_symmetry_Int…",
         "_audit_creation_date": "2012-12-10T16:52:08-0500",
         "_symmetry_space_group_name_H-M": "P1",
         "_symmetry_Int_Tables_number": "1",
         "_space_group_crystal_system": "triclinic",
         "_cell_length_a": "7.965181",
         "_cell_length_b": "8.808488",
         "_cell_length_c": "15.061944",
         "_cell_angle_alpha": "95.353787",
         "_cell_angle_beta": "84.40701",
         "_cell_angle_gamma": "92.417944",
         "_cell_volume": "1046.56084082",
         "_deepnote_index_column": 68603
        },
        {
         "MOFname": "mof_unit_68604",
         "volume [A^3]": 699.494867,
         "weight [u]": 653.1773599999999,
         "surface_area [m^2/g]": 0,
         "void_fraction": 0,
         "void_volume [cm^3/g]": 0,
         "functional_groups": "SO3H-Me",
         "metal_linker": 3,
         "organic_linker1": 10,
         "organic_linker2": 24,
         "topology": "pcu",
         "CO2/N2_selectivity": 15.60473156,
         "heat_adsorption_CO2_P0.15bar_T298K [kcal/mol]": "nan",
         "CO2_working_capacity [mL/g]": -6.788277808283721,
         "cif_filepath": "tmlcc-2021/mof_cif_train/mof_unit_68604.cif",
         "cif": "{'metadata': {0: {0: '_audit_creation_date', 1: '_symmetry_space_group_name_H-M', 2: '_symmetry_Int…",
         "_audit_creation_date": "2012-12-10T16:55:45-0500",
         "_symmetry_space_group_name_H-M": "P1",
         "_symmetry_Int_Tables_number": "1",
         "_space_group_crystal_system": "triclinic",
         "_cell_length_a": "7.873026",
         "_cell_length_b": "8.533343",
         "_cell_length_c": "10.481025",
         "_cell_angle_alpha": "92.102205",
         "_cell_angle_beta": "84.853435",
         "_cell_angle_gamma": "93.720456",
         "_cell_volume": "699.494867233",
         "_deepnote_index_column": 68604
        },
        {
         "MOFname": "mof_unit_68605",
         "volume [A^3]": 1508.12951,
         "weight [u]": 1517.382416,
         "surface_area [m^2/g]": 0,
         "void_fraction": 0,
         "void_volume [cm^3/g]": 0,
         "functional_groups": "Et",
         "metal_linker": 10,
         "organic_linker1": 46,
         "organic_linker2": 49,
         "topology": "etb",
         "CO2/N2_selectivity": 9.974765376,
         "heat_adsorption_CO2_P0.15bar_T298K [kcal/mol]": "nan",
         "CO2_working_capacity [mL/g]": -6.85959087703472,
         "cif_filepath": "tmlcc-2021/mof_cif_train/mof_unit_68605.cif",
         "cif": "{'metadata': {0: {0: '_audit_creation_date', 1: '_symmetry_space_group_name_H-M', 2: '_symmetry_Int…",
         "_audit_creation_date": "2012-12-11T17:48:23-0500",
         "_symmetry_space_group_name_H-M": "P1",
         "_symmetry_Int_Tables_number": "1",
         "_space_group_crystal_system": "triclinic",
         "_cell_length_a": "8.192043",
         "_cell_length_b": "12.637325",
         "_cell_length_c": "15.004478",
         "_cell_angle_alpha": "96.638568",
         "_cell_angle_beta": "97.927285",
         "_cell_angle_gamma": "98.217215",
         "_cell_volume": "1508.12950955",
         "_deepnote_index_column": 68605
        },
        {
         "MOFname": "mof_unit_68606",
         "volume [A^3]": 2112.326167,
         "weight [u]": 1977.49208,
         "surface_area [m^2/g]": 0,
         "void_fraction": 0,
         "void_volume [cm^3/g]": 0,
         "functional_groups": "OPr",
         "metal_linker": 4,
         "organic_linker1": 14,
         "organic_linker2": 14,
         "topology": "acs",
         "CO2/N2_selectivity": 3.233981158,
         "heat_adsorption_CO2_P0.15bar_T298K [kcal/mol]": "nan",
         "CO2_working_capacity [mL/g]": -7.204435785879248,
         "cif_filepath": "tmlcc-2021/mof_cif_train/mof_unit_68606.cif",
         "cif": "{'metadata': {0: {0: '_audit_creation_date', 1: '_symmetry_space_group_name_H-M', 2: '_symmetry_Int…",
         "_audit_creation_date": "2012-12-11T14:17:58-0500",
         "_symmetry_space_group_name_H-M": "P1",
         "_symmetry_Int_Tables_number": "1",
         "_space_group_crystal_system": "triclinic",
         "_cell_length_a": "11.334026",
         "_cell_length_b": "11.321874",
         "_cell_length_c": "19.017384",
         "_cell_angle_alpha": "90.070675",
         "_cell_angle_beta": "90.031889",
         "_cell_angle_gamma": "120.050727",
         "_cell_volume": "2112.32616667",
         "_deepnote_index_column": 68606
        },
        {
         "MOFname": "mof_unit_68607",
         "volume [A^3]": 949.067112,
         "weight [u]": 753.7875199999999,
         "surface_area [m^2/g]": 0,
         "void_fraction": 0,
         "void_volume [cm^3/g]": 0,
         "functional_groups": "Pr",
         "metal_linker": 2,
         "organic_linker1": 10,
         "organic_linker2": 18,
         "topology": "pcu",
         "CO2/N2_selectivity": 0,
         "heat_adsorption_CO2_P0.15bar_T298K [kcal/mol]": "nan",
         "CO2_working_capacity [mL/g]": -9.124771269167136,
         "cif_filepath": "tmlcc-2021/mof_cif_train/mof_unit_68607.cif",
         "cif": "{'metadata': {0: {0: '_audit_creation_date', 1: '_symmetry_space_group_name_H-M', 2: '_symmetry_Int…",
         "_audit_creation_date": "2012-12-10T16:45:20-0500",
         "_symmetry_space_group_name_H-M": "P1",
         "_symmetry_Int_Tables_number": "1",
         "_space_group_crystal_system": "triclinic",
         "_cell_length_a": "7.429506",
         "_cell_length_b": "8.672739",
         "_cell_length_c": "15.714521",
         "_cell_angle_alpha": "93.667592",
         "_cell_angle_beta": "74.453642",
         "_cell_angle_gamma": "103.369597",
         "_cell_volume": "949.067112229",
         "_deepnote_index_column": 68607
        },
        {
         "MOFname": "mof_unit_68608",
         "volume [A^3]": 1202.182553,
         "weight [u]": 1042.53824,
         "surface_area [m^2/g]": 0,
         "void_fraction": 0,
         "void_volume [cm^3/g]": 0,
         "functional_groups": "Ph-Cl",
         "metal_linker": 3,
         "organic_linker1": 12,
         "organic_linker2": 24,
         "topology": "pcu",
         "CO2/N2_selectivity": 0,
         "heat_adsorption_CO2_P0.15bar_T298K [kcal/mol]": "nan",
         "CO2_working_capacity [mL/g]": -10.954314651035927,
         "cif_filepath": "tmlcc-2021/mof_cif_train/mof_unit_68608.cif",
         "cif": "{'metadata': {0: {0: '_audit_creation_date', 1: '_symmetry_space_group_name_H-M', 2: '_symmetry_Int…",
         "_audit_creation_date": "2012-12-10T17:22:58-0500",
         "_symmetry_space_group_name_H-M": "P1",
         "_symmetry_Int_Tables_number": "1",
         "_space_group_crystal_system": "triclinic",
         "_cell_length_a": "10.343236",
         "_cell_length_b": "10.536838",
         "_cell_length_c": "11.134846",
         "_cell_angle_alpha": "93.963666",
         "_cell_angle_beta": "93.653348",
         "_cell_angle_gamma": "84.065862",
         "_cell_volume": "1202.18255347",
         "_deepnote_index_column": 68608
        },
        {
         "MOFname": "mof_unit_68609",
         "volume [A^3]": 1188.302573,
         "weight [u]": 1001.700216,
         "surface_area [m^2/g]": 0,
         "void_fraction": 0,
         "void_volume [cm^3/g]": 0,
         "functional_groups": "Pr-F",
         "metal_linker": 3,
         "organic_linker1": 4,
         "organic_linker2": 24,
         "topology": "pcu",
         "CO2/N2_selectivity": 24.13177036,
         "heat_adsorption_CO2_P0.15bar_T298K [kcal/mol]": "nan",
         "CO2_working_capacity [mL/g]": -12.943652131402327,
         "cif_filepath": "tmlcc-2021/mof_cif_train/mof_unit_68609.cif",
         "cif": "{'metadata': {0: {0: '_audit_creation_date', 1: '_symmetry_space_group_name_H-M', 2: '_symmetry_Int…",
         "_audit_creation_date": "2012-12-10T20:36:36-0500",
         "_symmetry_space_group_name_H-M": "P1",
         "_symmetry_Int_Tables_number": "1",
         "_space_group_crystal_system": "triclinic",
         "_cell_length_a": "10.718161",
         "_cell_length_b": "10.88649",
         "_cell_length_c": "10.19387",
         "_cell_angle_alpha": "90.842269",
         "_cell_angle_beta": "92.241073",
         "_cell_angle_gamma": "90.753457",
         "_cell_volume": "1188.3025732",
         "_deepnote_index_column": 68609
        },
        {
         "MOFname": "mof_unit_68610",
         "volume [A^3]": 1506.6603630000002,
         "weight [u]": 1493.2964960000002,
         "surface_area [m^2/g]": 0,
         "void_fraction": 0.01108,
         "void_volume [cm^3/g]": 0,
         "functional_groups": "SO3H",
         "metal_linker": 10,
         "organic_linker1": 42,
         "organic_linker2": 46,
         "topology": "etb",
         "CO2/N2_selectivity": 6.071817778,
         "heat_adsorption_CO2_P0.15bar_T298K [kcal/mol]": "nan",
         "CO2_working_capacity [mL/g]": -12.985581574603149,
         "cif_filepath": "tmlcc-2021/mof_cif_train/mof_unit_68610.cif",
         "cif": "{'metadata': {0: {0: '_audit_creation_date', 1: '_symmetry_space_group_name_H-M', 2: '_symmetry_Int…",
         "_audit_creation_date": "2012-12-11T14:19:36-0500",
         "_symmetry_space_group_name_H-M": "P1",
         "_symmetry_Int_Tables_number": "1",
         "_space_group_crystal_system": "triclinic",
         "_cell_length_a": "8.19262",
         "_cell_length_b": "12.57623",
         "_cell_length_c": "15.033794",
         "_cell_angle_alpha": "95.184751",
         "_cell_angle_beta": "99.147187",
         "_cell_angle_gamma": "97.430499",
         "_cell_volume": "1506.66036263",
         "_deepnote_index_column": 68610
        },
        {
         "MOFname": "mof_unit_68611",
         "volume [A^3]": 2035.532738,
         "weight [u]": 1959.51832,
         "surface_area [m^2/g]": 0,
         "void_fraction": 0,
         "void_volume [cm^3/g]": 0,
         "functional_groups": "OPr",
         "metal_linker": 4,
         "organic_linker1": 14,
         "organic_linker2": 22,
         "topology": "acs",
         "CO2/N2_selectivity": 9.876133998,
         "heat_adsorption_CO2_P0.15bar_T298K [kcal/mol]": "nan",
         "CO2_working_capacity [mL/g]": -13.187635269397644,
         "cif_filepath": "tmlcc-2021/mof_cif_train/mof_unit_68611.cif",
         "cif": "{'metadata': {0: {0: '_audit_creation_date', 1: '_symmetry_space_group_name_H-M', 2: '_symmetry_Int…",
         "_audit_creation_date": "2012-12-11T14:23:04-0500",
         "_symmetry_space_group_name_H-M": "P1",
         "_symmetry_Int_Tables_number": "1",
         "_space_group_crystal_system": "triclinic",
         "_cell_length_a": "11.237482",
         "_cell_length_b": "11.321902",
         "_cell_length_c": "18.60812",
         "_cell_angle_alpha": "90.200546",
         "_cell_angle_beta": "90.118422",
         "_cell_angle_gamma": "59.292454",
         "_cell_volume": "2035.53273793",
         "_deepnote_index_column": 68611
        },
        {
         "MOFname": "mof_unit_68612",
         "volume [A^3]": 3985.426053,
         "weight [u]": 3638.67728,
         "surface_area [m^2/g]": 0,
         "void_fraction": 0,
         "void_volume [cm^3/g]": 0,
         "functional_groups": "OPr-Me",
         "metal_linker": 4,
         "organic_linker1": 4,
         "organic_linker2": 15,
         "topology": "acs",
         "CO2/N2_selectivity": 5.285050632,
         "heat_adsorption_CO2_P0.15bar_T298K [kcal/mol]": "inf",
         "CO2_working_capacity [mL/g]": 15.672697623512306,
         "cif_filepath": "tmlcc-2021/mof_cif_train/mof_unit_68612.cif",
         "cif": "{'metadata': {0: {0: '_audit_creation_date', 1: '_symmetry_space_group_name_H-M', 2: '_symmetry_Int…",
         "_audit_creation_date": "2012-12-11T15:45:08-0500",
         "_symmetry_space_group_name_H-M": "P1",
         "_symmetry_Int_Tables_number": "1",
         "_space_group_crystal_system": "triclinic",
         "_cell_length_a": "19.396341",
         "_cell_length_b": "11.081428",
         "_cell_length_c": "18.544746",
         "_cell_angle_alpha": "90.467105",
         "_cell_angle_beta": "90.841157",
         "_cell_angle_gamma": "89.911826",
         "_cell_volume": "3985.42605274",
         "_deepnote_index_column": 68612
        },
        {
         "MOFname": "mof_unit_68613",
         "volume [A^3]": 1591.009408,
         "weight [u]": 2071.219,
         "surface_area [m^2/g]": 0,
         "void_fraction": 0.01609,
         "void_volume [cm^3/g]": 0,
         "functional_groups": "I-OEt",
         "metal_linker": 2,
         "organic_linker1": 9,
         "organic_linker2": 16,
         "topology": "pcu",
         "CO2/N2_selectivity": 2.621271792,
         "heat_adsorption_CO2_P0.15bar_T298K [kcal/mol]": "inf",
         "CO2_working_capacity [mL/g]": 3.1447082400614,
         "cif_filepath": "tmlcc-2021/mof_cif_train/mof_unit_68613.cif",
         "cif": "{'metadata': {0: {0: '_audit_creation_date', 1: '_symmetry_space_group_name_H-M', 2: '_symmetry_Int…",
         "_audit_creation_date": "2012-12-10T19:44:27-0500",
         "_symmetry_space_group_name_H-M": "P1",
         "_symmetry_Int_Tables_number": "1",
         "_space_group_crystal_system": "triclinic",
         "_cell_length_a": "11.049965",
         "_cell_length_b": "12.474541",
         "_cell_length_c": "13.706241",
         "_cell_angle_alpha": "118.491266",
         "_cell_angle_beta": "73.368234",
         "_cell_angle_gamma": "98.090342",
         "_cell_volume": "1591.00940751",
         "_deepnote_index_column": 68613
        }
       ]
      },
      "text/plain": "              MOFname  volume [A^3]   weight [u]  surface_area [m^2/g]  \\\n1          mof_unit_1   1116.667429   875.240600                  0.00   \n2          mof_unit_2   2769.503842  2211.697211                603.61   \n3          mof_unit_3   1089.818728   773.687960                788.50   \n4          mof_unit_4   2205.198301  1304.638720               1441.53   \n5          mof_unit_5   1137.800963   901.736120                  0.00   \n...               ...           ...          ...                   ...   \n68609  mof_unit_68609   1188.302573  1001.700216                  0.00   \n68610  mof_unit_68610   1506.660363  1493.296496                  0.00   \n68611  mof_unit_68611   2035.532738  1959.518320                  0.00   \n68612  mof_unit_68612   3985.426053  3638.677280                  0.00   \n68613  mof_unit_68613   1591.009408  2071.219000                  0.00   \n\n       void_fraction  void_volume [cm^3/g] functional_groups  metal_linker  \\\n1            0.07899                0.0607          COOH-OEt             3   \n2            0.13794                0.1040             F-OMe            10   \n3            0.14874                0.1262          OMe-COOH             2   \n4            0.21814                0.2220            H-SO3H             9   \n5            0.07778                0.0591           NHMe-OH             2   \n...              ...                   ...               ...           ...   \n68609        0.00000                0.0000              Pr-F             3   \n68610        0.01108                0.0000              SO3H            10   \n68611        0.00000                0.0000               OPr             4   \n68612        0.00000                0.0000            OPr-Me             4   \n68613        0.01609                0.0000             I-OEt             2   \n\n       organic_linker1  organic_linker2  ... _symmetry_space_group_name_H-M  \\\n1                    4               11  ...                             P1   \n2                   44               57  ...                             P1   \n3                   22               24  ...                             P1   \n4                   17               24  ...                             P1   \n5                    1               22  ...                             P1   \n...                ...              ...  ...                            ...   \n68609                4               24  ...                             P1   \n68610               42               46  ...                             P1   \n68611               14               22  ...                             P1   \n68612                4               15  ...                             P1   \n68613                9               16  ...                             P1   \n\n       _symmetry_Int_Tables_number  _space_group_crystal_system  \\\n1                                1                    triclinic   \n2                                1                    triclinic   \n3                                1                    triclinic   \n4                                1                    triclinic   \n5                                1                    triclinic   \n...                            ...                          ...   \n68609                            1                    triclinic   \n68610                            1                    triclinic   \n68611                            1                    triclinic   \n68612                            1                    triclinic   \n68613                            1                    triclinic   \n\n       _cell_length_a _cell_length_b _cell_length_c _cell_angle_alpha  \\\n1           10.609882      10.643578       9.890832         89.904234   \n2            8.463295      17.684225      18.960098        100.063446   \n3            10.73211       9.552271      10.631996         89.202223   \n4             6.93553      17.504896       19.27498        109.537419   \n5           10.825925       9.699886      10.853274         89.694657   \n...               ...            ...            ...               ...   \n68609       10.718161       10.88649       10.19387         90.842269   \n68610         8.19262       12.57623      15.033794         95.184751   \n68611       11.237482      11.321902       18.60812         90.200546   \n68612       19.396341      11.081428      18.544746         90.467105   \n68613       11.049965      12.474541      13.706241        118.491266   \n\n      _cell_angle_beta _cell_angle_gamma   _cell_volume  \n1            91.242355         90.261935  1116.66742888  \n2            91.815775          96.94221  2769.50384235  \n3            89.943258         90.387501  1089.81872751  \n4             90.23458         90.532988  2205.19830122  \n5            92.990983         91.404649  1137.80096321  \n...                ...               ...            ...  \n68609        92.241073         90.753457   1188.3025732  \n68610        99.147187         97.430499  1506.66036263  \n68611        90.118422         59.292454  2035.53273793  \n68612        90.841157         89.911826  3985.42605274  \n68613        73.368234         98.090342  1591.00940751  \n\n[68613 rows x 27 columns]",
      "text/html": "<div>\n<style scoped>\n    .dataframe tbody tr th:only-of-type {\n        vertical-align: middle;\n    }\n\n    .dataframe tbody tr th {\n        vertical-align: top;\n    }\n\n    .dataframe thead th {\n        text-align: right;\n    }\n</style>\n<table border=\"1\" class=\"dataframe\">\n  <thead>\n    <tr style=\"text-align: right;\">\n      <th></th>\n      <th>MOFname</th>\n      <th>volume [A^3]</th>\n      <th>weight [u]</th>\n      <th>surface_area [m^2/g]</th>\n      <th>void_fraction</th>\n      <th>void_volume [cm^3/g]</th>\n      <th>functional_groups</th>\n      <th>metal_linker</th>\n      <th>organic_linker1</th>\n      <th>organic_linker2</th>\n      <th>...</th>\n      <th>_symmetry_space_group_name_H-M</th>\n      <th>_symmetry_Int_Tables_number</th>\n      <th>_space_group_crystal_system</th>\n      <th>_cell_length_a</th>\n      <th>_cell_length_b</th>\n      <th>_cell_length_c</th>\n      <th>_cell_angle_alpha</th>\n      <th>_cell_angle_beta</th>\n      <th>_cell_angle_gamma</th>\n      <th>_cell_volume</th>\n    </tr>\n  </thead>\n  <tbody>\n    <tr>\n      <th>1</th>\n      <td>mof_unit_1</td>\n      <td>1116.667429</td>\n      <td>875.240600</td>\n      <td>0.00</td>\n      <td>0.07899</td>\n      <td>0.0607</td>\n      <td>COOH-OEt</td>\n      <td>3</td>\n      <td>4</td>\n      <td>11</td>\n      <td>...</td>\n      <td>P1</td>\n      <td>1</td>\n      <td>triclinic</td>\n      <td>10.609882</td>\n      <td>10.643578</td>\n      <td>9.890832</td>\n      <td>89.904234</td>\n      <td>91.242355</td>\n      <td>90.261935</td>\n      <td>1116.66742888</td>\n    </tr>\n    <tr>\n      <th>2</th>\n      <td>mof_unit_2</td>\n      <td>2769.503842</td>\n      <td>2211.697211</td>\n      <td>603.61</td>\n      <td>0.13794</td>\n      <td>0.1040</td>\n      <td>F-OMe</td>\n      <td>10</td>\n      <td>44</td>\n      <td>57</td>\n      <td>...</td>\n      <td>P1</td>\n      <td>1</td>\n      <td>triclinic</td>\n      <td>8.463295</td>\n      <td>17.684225</td>\n      <td>18.960098</td>\n      <td>100.063446</td>\n      <td>91.815775</td>\n      <td>96.94221</td>\n      <td>2769.50384235</td>\n    </tr>\n    <tr>\n      <th>3</th>\n      <td>mof_unit_3</td>\n      <td>1089.818728</td>\n      <td>773.687960</td>\n      <td>788.50</td>\n      <td>0.14874</td>\n      <td>0.1262</td>\n      <td>OMe-COOH</td>\n      <td>2</td>\n      <td>22</td>\n      <td>24</td>\n      <td>...</td>\n      <td>P1</td>\n      <td>1</td>\n      <td>triclinic</td>\n      <td>10.73211</td>\n      <td>9.552271</td>\n      <td>10.631996</td>\n      <td>89.202223</td>\n      <td>89.943258</td>\n      <td>90.387501</td>\n      <td>1089.81872751</td>\n    </tr>\n    <tr>\n      <th>4</th>\n      <td>mof_unit_4</td>\n      <td>2205.198301</td>\n      <td>1304.638720</td>\n      <td>1441.53</td>\n      <td>0.21814</td>\n      <td>0.2220</td>\n      <td>H-SO3H</td>\n      <td>9</td>\n      <td>17</td>\n      <td>24</td>\n      <td>...</td>\n      <td>P1</td>\n      <td>1</td>\n      <td>triclinic</td>\n      <td>6.93553</td>\n      <td>17.504896</td>\n      <td>19.27498</td>\n      <td>109.537419</td>\n      <td>90.23458</td>\n      <td>90.532988</td>\n      <td>2205.19830122</td>\n    </tr>\n    <tr>\n      <th>5</th>\n      <td>mof_unit_5</td>\n      <td>1137.800963</td>\n      <td>901.736120</td>\n      <td>0.00</td>\n      <td>0.07778</td>\n      <td>0.0591</td>\n      <td>NHMe-OH</td>\n      <td>2</td>\n      <td>1</td>\n      <td>22</td>\n      <td>...</td>\n      <td>P1</td>\n      <td>1</td>\n      <td>triclinic</td>\n      <td>10.825925</td>\n      <td>9.699886</td>\n      <td>10.853274</td>\n      <td>89.694657</td>\n      <td>92.990983</td>\n      <td>91.404649</td>\n      <td>1137.80096321</td>\n    </tr>\n    <tr>\n      <th>...</th>\n      <td>...</td>\n      <td>...</td>\n      <td>...</td>\n      <td>...</td>\n      <td>...</td>\n      <td>...</td>\n      <td>...</td>\n      <td>...</td>\n      <td>...</td>\n      <td>...</td>\n      <td>...</td>\n      <td>...</td>\n      <td>...</td>\n      <td>...</td>\n      <td>...</td>\n      <td>...</td>\n      <td>...</td>\n      <td>...</td>\n      <td>...</td>\n      <td>...</td>\n      <td>...</td>\n    </tr>\n    <tr>\n      <th>68609</th>\n      <td>mof_unit_68609</td>\n      <td>1188.302573</td>\n      <td>1001.700216</td>\n      <td>0.00</td>\n      <td>0.00000</td>\n      <td>0.0000</td>\n      <td>Pr-F</td>\n      <td>3</td>\n      <td>4</td>\n      <td>24</td>\n      <td>...</td>\n      <td>P1</td>\n      <td>1</td>\n      <td>triclinic</td>\n      <td>10.718161</td>\n      <td>10.88649</td>\n      <td>10.19387</td>\n      <td>90.842269</td>\n      <td>92.241073</td>\n      <td>90.753457</td>\n      <td>1188.3025732</td>\n    </tr>\n    <tr>\n      <th>68610</th>\n      <td>mof_unit_68610</td>\n      <td>1506.660363</td>\n      <td>1493.296496</td>\n      <td>0.00</td>\n      <td>0.01108</td>\n      <td>0.0000</td>\n      <td>SO3H</td>\n      <td>10</td>\n      <td>42</td>\n      <td>46</td>\n      <td>...</td>\n      <td>P1</td>\n      <td>1</td>\n      <td>triclinic</td>\n      <td>8.19262</td>\n      <td>12.57623</td>\n      <td>15.033794</td>\n      <td>95.184751</td>\n      <td>99.147187</td>\n      <td>97.430499</td>\n      <td>1506.66036263</td>\n    </tr>\n    <tr>\n      <th>68611</th>\n      <td>mof_unit_68611</td>\n      <td>2035.532738</td>\n      <td>1959.518320</td>\n      <td>0.00</td>\n      <td>0.00000</td>\n      <td>0.0000</td>\n      <td>OPr</td>\n      <td>4</td>\n      <td>14</td>\n      <td>22</td>\n      <td>...</td>\n      <td>P1</td>\n      <td>1</td>\n      <td>triclinic</td>\n      <td>11.237482</td>\n      <td>11.321902</td>\n      <td>18.60812</td>\n      <td>90.200546</td>\n      <td>90.118422</td>\n      <td>59.292454</td>\n      <td>2035.53273793</td>\n    </tr>\n    <tr>\n      <th>68612</th>\n      <td>mof_unit_68612</td>\n      <td>3985.426053</td>\n      <td>3638.677280</td>\n      <td>0.00</td>\n      <td>0.00000</td>\n      <td>0.0000</td>\n      <td>OPr-Me</td>\n      <td>4</td>\n      <td>4</td>\n      <td>15</td>\n      <td>...</td>\n      <td>P1</td>\n      <td>1</td>\n      <td>triclinic</td>\n      <td>19.396341</td>\n      <td>11.081428</td>\n      <td>18.544746</td>\n      <td>90.467105</td>\n      <td>90.841157</td>\n      <td>89.911826</td>\n      <td>3985.42605274</td>\n    </tr>\n    <tr>\n      <th>68613</th>\n      <td>mof_unit_68613</td>\n      <td>1591.009408</td>\n      <td>2071.219000</td>\n      <td>0.00</td>\n      <td>0.01609</td>\n      <td>0.0000</td>\n      <td>I-OEt</td>\n      <td>2</td>\n      <td>9</td>\n      <td>16</td>\n      <td>...</td>\n      <td>P1</td>\n      <td>1</td>\n      <td>triclinic</td>\n      <td>11.049965</td>\n      <td>12.474541</td>\n      <td>13.706241</td>\n      <td>118.491266</td>\n      <td>73.368234</td>\n      <td>98.090342</td>\n      <td>1591.00940751</td>\n    </tr>\n  </tbody>\n</table>\n<p>68613 rows × 27 columns</p>\n</div>"
     },
     "metadata": {}
    }
   ],
   "execution_count": 14
  },
  {
   "cell_type": "code",
   "source": "Train.drop(\"cif\", axis=1).to_csv(\"/work/preprocessing_results/train_merged_CIF/Train.csv\")\nPretest.drop(\"cif\", axis=1).to_csv(\"/work/preprocessing_results/pretest_merged_CIF/Pretest.csv\")",
   "metadata": {
    "tags": [],
    "cell_id": "00023-9e687031-0f8f-490e-9d2e-63c30b95f684",
    "deepnote_to_be_reexecuted": false,
    "source_hash": "d73df1e7",
    "execution_start": 1632062403719,
    "execution_millis": 1464,
    "deepnote_cell_type": "code"
   },
   "outputs": [],
   "execution_count": 15
  },
  {
   "cell_type": "code",
   "source": "len(set(Train['_space_group_crystal_system']))",
   "metadata": {
    "tags": [],
    "cell_id": "00024-0346390a-b934-45d5-aa94-1e4804881892",
    "deepnote_to_be_reexecuted": false,
    "source_hash": "9db224c4",
    "execution_start": 1632062405219,
    "execution_millis": 7,
    "deepnote_cell_type": "code"
   },
   "outputs": [
    {
     "output_type": "execute_result",
     "execution_count": 16,
     "data": {
      "text/plain": "5"
     },
     "metadata": {}
    }
   ],
   "execution_count": 16
  },
  {
   "cell_type": "code",
   "source": "set(Train['_space_group_crystal_system'])",
   "metadata": {
    "tags": [],
    "cell_id": "00025-39c821f9-7c41-4ec9-9dc6-c354173f11aa",
    "deepnote_to_be_reexecuted": false,
    "source_hash": "9b63a430",
    "execution_start": 1632062405249,
    "execution_millis": 11,
    "deepnote_cell_type": "code"
   },
   "outputs": [
    {
     "output_type": "execute_result",
     "execution_count": 17,
     "data": {
      "text/plain": "{'cubic', 'monoclinic', 'orthorhombic', 'tetragonal', 'triclinic'}"
     },
     "metadata": {}
    }
   ],
   "execution_count": 17
  },
  {
   "cell_type": "code",
   "source": "set(Train['functional_groups'])",
   "metadata": {
    "tags": [],
    "cell_id": "00026-a04c3dc8-5112-4821-8e4b-04fe3900d465",
    "deepnote_to_be_reexecuted": false,
    "source_hash": "ecf77440",
    "execution_start": 1632063444309,
    "execution_millis": 5,
    "deepnote_cell_type": "code"
   },
   "outputs": [
    {
     "output_type": "execute_result",
     "execution_count": 19,
     "data": {
      "text/plain": "{'Br',\n 'Br-CN',\n 'Br-COOH',\n 'Br-Cl',\n 'Br-Et',\n 'Br-F',\n 'Br-H',\n 'Br-HCO',\n 'Br-I',\n 'Br-Me',\n 'Br-NH2',\n 'Br-NHMe',\n 'Br-NO2',\n 'Br-OEt',\n 'Br-OH',\n 'Br-OMe',\n 'Br-OPr',\n 'Br-Ph',\n 'Br-Pr',\n 'Br-SO3H',\n 'CN',\n 'CN-Br',\n 'CN-COOH',\n 'CN-Cl',\n 'CN-Et',\n 'CN-F',\n 'CN-H',\n 'CN-HCO',\n 'CN-I',\n 'CN-Me',\n 'CN-NH2',\n 'CN-NHMe',\n 'CN-NO2',\n 'CN-OEt',\n 'CN-OH',\n 'CN-OMe',\n 'CN-OPr',\n 'CN-Ph',\n 'CN-Pr',\n 'CN-SO3H',\n 'COOH',\n 'COOH-Br',\n 'COOH-CN',\n 'COOH-Cl',\n 'COOH-Et',\n 'COOH-F',\n 'COOH-H',\n 'COOH-HCO',\n 'COOH-I',\n 'COOH-Me',\n 'COOH-NH2',\n 'COOH-NHMe',\n 'COOH-NO2',\n 'COOH-OEt',\n 'COOH-OH',\n 'COOH-OMe',\n 'COOH-OPr',\n 'COOH-Ph',\n 'COOH-Pr',\n 'COOH-SO3H',\n 'Cl',\n 'Cl-Br',\n 'Cl-CN',\n 'Cl-COOH',\n 'Cl-Et',\n 'Cl-F',\n 'Cl-H',\n 'Cl-HCO',\n 'Cl-I',\n 'Cl-Me',\n 'Cl-NH2',\n 'Cl-NHMe',\n 'Cl-NO2',\n 'Cl-OEt',\n 'Cl-OH',\n 'Cl-OMe',\n 'Cl-OPr',\n 'Cl-Ph',\n 'Cl-Pr',\n 'Cl-SO3H',\n 'Et',\n 'Et-Br',\n 'Et-CN',\n 'Et-COOH',\n 'Et-Cl',\n 'Et-F',\n 'Et-H',\n 'Et-HCO',\n 'Et-I',\n 'Et-Me',\n 'Et-NH2',\n 'Et-NHMe',\n 'Et-NO2',\n 'Et-OEt',\n 'Et-OH',\n 'Et-OMe',\n 'Et-OPr',\n 'Et-Ph',\n 'Et-Pr',\n 'Et-SO3H',\n 'F',\n 'F-Br',\n 'F-CN',\n 'F-COOH',\n 'F-Cl',\n 'F-Et',\n 'F-H',\n 'F-HCO',\n 'F-I',\n 'F-Me',\n 'F-NH2',\n 'F-NHMe',\n 'F-NO2',\n 'F-OEt',\n 'F-OH',\n 'F-OMe',\n 'F-OPr',\n 'F-Ph',\n 'F-Pr',\n 'F-SO3H',\n 'H',\n 'H-Br',\n 'H-CN',\n 'H-COOH',\n 'H-Cl',\n 'H-Et',\n 'H-F',\n 'H-HCO',\n 'H-I',\n 'H-Me',\n 'H-NH2',\n 'H-NHMe',\n 'H-NO2',\n 'H-OEt',\n 'H-OH',\n 'H-OMe',\n 'H-OPr',\n 'H-Ph',\n 'H-Pr',\n 'H-SO3H',\n 'HCO',\n 'HCO-Br',\n 'HCO-CN',\n 'HCO-COOH',\n 'HCO-Cl',\n 'HCO-Et',\n 'HCO-F',\n 'HCO-H',\n 'HCO-I',\n 'HCO-Me',\n 'HCO-NH2',\n 'HCO-NHMe',\n 'HCO-NO2',\n 'HCO-OEt',\n 'HCO-OH',\n 'HCO-OMe',\n 'HCO-OPr',\n 'HCO-Ph',\n 'HCO-Pr',\n 'HCO-SO3H',\n 'I',\n 'I-Br',\n 'I-CN',\n 'I-COOH',\n 'I-Cl',\n 'I-Et',\n 'I-F',\n 'I-H',\n 'I-HCO',\n 'I-Me',\n 'I-NH2',\n 'I-NHMe',\n 'I-NO2',\n 'I-OEt',\n 'I-OH',\n 'I-OMe',\n 'I-OPr',\n 'I-Ph',\n 'I-Pr',\n 'I-SO3H',\n 'Me',\n 'Me-Br',\n 'Me-CN',\n 'Me-COOH',\n 'Me-Cl',\n 'Me-Et',\n 'Me-F',\n 'Me-H',\n 'Me-HCO',\n 'Me-I',\n 'Me-NH2',\n 'Me-NHMe',\n 'Me-NO2',\n 'Me-OEt',\n 'Me-OH',\n 'Me-OMe',\n 'Me-OPr',\n 'Me-Ph',\n 'Me-Pr',\n 'Me-SO3H',\n 'NH2',\n 'NH2-Br',\n 'NH2-CN',\n 'NH2-COOH',\n 'NH2-Cl',\n 'NH2-Et',\n 'NH2-F',\n 'NH2-H',\n 'NH2-HCO',\n 'NH2-I',\n 'NH2-Me',\n 'NH2-NHMe',\n 'NH2-NO2',\n 'NH2-OEt',\n 'NH2-OH',\n 'NH2-OMe',\n 'NH2-OPr',\n 'NH2-Ph',\n 'NH2-Pr',\n 'NH2-SO3H',\n 'NHMe',\n 'NHMe-Br',\n 'NHMe-CN',\n 'NHMe-COOH',\n 'NHMe-Cl',\n 'NHMe-Et',\n 'NHMe-F',\n 'NHMe-H',\n 'NHMe-HCO',\n 'NHMe-I',\n 'NHMe-Me',\n 'NHMe-NH2',\n 'NHMe-NO2',\n 'NHMe-OEt',\n 'NHMe-OH',\n 'NHMe-OMe',\n 'NHMe-OPr',\n 'NHMe-Ph',\n 'NHMe-Pr',\n 'NHMe-SO3H',\n 'NO2',\n 'NO2-Br',\n 'NO2-CN',\n 'NO2-COOH',\n 'NO2-Cl',\n 'NO2-Et',\n 'NO2-F',\n 'NO2-H',\n 'NO2-HCO',\n 'NO2-I',\n 'NO2-Me',\n 'NO2-NH2',\n 'NO2-NHMe',\n 'NO2-OEt',\n 'NO2-OH',\n 'NO2-OMe',\n 'NO2-OPr',\n 'NO2-Ph',\n 'NO2-Pr',\n 'NO2-SO3H',\n 'OEt',\n 'OEt-Br',\n 'OEt-CN',\n 'OEt-COOH',\n 'OEt-Cl',\n 'OEt-Et',\n 'OEt-F',\n 'OEt-H',\n 'OEt-HCO',\n 'OEt-I',\n 'OEt-Me',\n 'OEt-NH2',\n 'OEt-NHMe',\n 'OEt-NO2',\n 'OEt-OH',\n 'OEt-OMe',\n 'OEt-OPr',\n 'OEt-Ph',\n 'OEt-Pr',\n 'OEt-SO3H',\n 'OH',\n 'OH-Br',\n 'OH-CN',\n 'OH-COOH',\n 'OH-Cl',\n 'OH-Et',\n 'OH-F',\n 'OH-H',\n 'OH-HCO',\n 'OH-I',\n 'OH-Me',\n 'OH-NH2',\n 'OH-NHMe',\n 'OH-NO2',\n 'OH-OEt',\n 'OH-OMe',\n 'OH-OPr',\n 'OH-Ph',\n 'OH-Pr',\n 'OH-SO3H',\n 'OMe',\n 'OMe-Br',\n 'OMe-CN',\n 'OMe-COOH',\n 'OMe-Cl',\n 'OMe-Et',\n 'OMe-F',\n 'OMe-H',\n 'OMe-HCO',\n 'OMe-I',\n 'OMe-Me',\n 'OMe-NH2',\n 'OMe-NHMe',\n 'OMe-NO2',\n 'OMe-OEt',\n 'OMe-OH',\n 'OMe-OPr',\n 'OMe-Ph',\n 'OMe-Pr',\n 'OMe-SO3H',\n 'OPr',\n 'OPr-Br',\n 'OPr-CN',\n 'OPr-COOH',\n 'OPr-Cl',\n 'OPr-Et',\n 'OPr-F',\n 'OPr-H',\n 'OPr-HCO',\n 'OPr-I',\n 'OPr-Me',\n 'OPr-NH2',\n 'OPr-NHMe',\n 'OPr-NO2',\n 'OPr-OEt',\n 'OPr-OH',\n 'OPr-OMe',\n 'OPr-Ph',\n 'OPr-Pr',\n 'OPr-SO3H',\n 'Ph',\n 'Ph-Br',\n 'Ph-CN',\n 'Ph-COOH',\n 'Ph-Cl',\n 'Ph-Et',\n 'Ph-F',\n 'Ph-H',\n 'Ph-HCO',\n 'Ph-I',\n 'Ph-Me',\n 'Ph-NH2',\n 'Ph-NHMe',\n 'Ph-NO2',\n 'Ph-OEt',\n 'Ph-OH',\n 'Ph-OMe',\n 'Ph-OPr',\n 'Ph-Pr',\n 'Ph-SO3H',\n 'Pr',\n 'Pr-Br',\n 'Pr-CN',\n 'Pr-COOH',\n 'Pr-Cl',\n 'Pr-Et',\n 'Pr-F',\n 'Pr-H',\n 'Pr-HCO',\n 'Pr-I',\n 'Pr-Me',\n 'Pr-NH2',\n 'Pr-NHMe',\n 'Pr-NO2',\n 'Pr-OEt',\n 'Pr-OH',\n 'Pr-OMe',\n 'Pr-OPr',\n 'Pr-Ph',\n 'Pr-SO3H',\n 'SO3H',\n 'SO3H-Br',\n 'SO3H-CN',\n 'SO3H-COOH',\n 'SO3H-Cl',\n 'SO3H-Et',\n 'SO3H-F',\n 'SO3H-H',\n 'SO3H-HCO',\n 'SO3H-I',\n 'SO3H-Me',\n 'SO3H-NH2',\n 'SO3H-NHMe',\n 'SO3H-NO2',\n 'SO3H-OEt',\n 'SO3H-OH',\n 'SO3H-OMe',\n 'SO3H-OPr',\n 'SO3H-Ph',\n 'SO3H-Pr',\n nan,\n nan,\n nan,\n nan,\n nan,\n nan,\n nan,\n nan,\n nan,\n nan,\n nan,\n nan,\n nan,\n nan,\n nan,\n nan,\n nan,\n nan,\n nan,\n nan,\n nan,\n nan,\n nan,\n nan,\n nan,\n nan,\n nan,\n nan,\n nan,\n nan,\n nan,\n nan,\n nan,\n nan,\n nan,\n nan,\n nan,\n nan,\n nan,\n nan,\n nan,\n nan,\n nan,\n nan,\n nan,\n nan,\n nan,\n nan,\n nan,\n nan,\n nan,\n nan,\n nan,\n nan,\n nan,\n nan,\n nan,\n nan,\n nan,\n nan,\n nan,\n nan,\n nan,\n nan,\n nan,\n nan,\n nan,\n nan,\n nan,\n nan,\n nan,\n nan,\n nan,\n nan,\n nan,\n nan,\n nan,\n nan,\n nan,\n nan,\n nan,\n nan,\n nan,\n nan,\n nan,\n nan,\n nan,\n nan,\n nan,\n nan,\n nan,\n nan,\n nan,\n nan,\n nan,\n nan,\n nan,\n nan,\n nan,\n nan,\n nan,\n nan,\n nan,\n nan,\n nan,\n nan,\n nan,\n nan,\n nan,\n nan,\n nan,\n nan,\n nan,\n nan,\n nan,\n nan,\n nan,\n nan,\n nan,\n nan,\n nan,\n nan,\n nan,\n nan,\n nan,\n nan,\n nan,\n nan,\n nan,\n nan,\n nan,\n nan,\n nan,\n nan,\n nan,\n nan,\n nan,\n nan,\n nan,\n nan,\n nan,\n nan,\n nan,\n nan,\n nan,\n nan,\n nan,\n nan,\n nan,\n nan,\n nan,\n nan,\n nan,\n nan,\n nan,\n nan,\n nan,\n nan,\n nan,\n nan,\n nan,\n nan,\n nan,\n nan,\n nan,\n nan,\n nan,\n nan,\n nan,\n nan,\n nan,\n nan,\n nan,\n nan,\n nan,\n nan,\n nan,\n nan,\n nan,\n nan,\n nan,\n nan,\n nan,\n nan,\n nan,\n nan,\n nan,\n nan,\n nan,\n nan,\n nan,\n nan,\n nan,\n nan,\n nan,\n nan,\n nan,\n nan,\n nan,\n nan,\n nan,\n nan,\n nan,\n nan,\n nan,\n nan,\n nan,\n nan,\n nan,\n nan,\n nan,\n nan,\n nan,\n nan,\n nan,\n nan,\n nan,\n nan,\n nan,\n nan,\n nan,\n nan,\n nan,\n nan,\n nan,\n nan,\n nan,\n nan,\n nan,\n nan,\n nan,\n nan,\n nan,\n nan,\n nan,\n nan,\n nan,\n nan,\n nan,\n nan,\n nan,\n nan,\n nan,\n nan,\n nan,\n nan,\n nan,\n nan,\n nan,\n nan,\n nan,\n nan,\n nan,\n nan,\n nan,\n nan,\n nan,\n nan,\n nan,\n nan,\n nan,\n nan,\n nan,\n nan,\n nan,\n nan,\n nan,\n nan,\n nan,\n nan,\n nan,\n nan,\n nan,\n nan,\n nan,\n nan,\n nan,\n nan,\n nan,\n nan,\n nan,\n nan,\n nan,\n nan,\n nan,\n nan,\n nan,\n nan,\n nan,\n nan,\n nan,\n nan,\n nan,\n nan,\n nan,\n nan,\n nan,\n nan,\n nan,\n nan,\n nan,\n nan,\n nan,\n nan,\n nan,\n nan,\n nan,\n nan,\n nan,\n nan,\n nan,\n nan,\n nan,\n nan,\n nan,\n nan,\n nan,\n nan,\n nan,\n nan,\n nan,\n nan,\n nan}"
     },
     "metadata": {}
    }
   ],
   "execution_count": 19
  },
  {
   "cell_type": "code",
   "source": "set(Pretest['_space_group_crystal_system'])",
   "metadata": {
    "tags": [],
    "cell_id": "00026-e6de7d0e-ab94-48b7-b315-9406dac22a59",
    "deepnote_to_be_reexecuted": false,
    "source_hash": "1c1af670",
    "execution_start": 1632062507605,
    "execution_millis": 9,
    "deepnote_cell_type": "code"
   },
   "outputs": [
    {
     "output_type": "execute_result",
     "execution_count": 18,
     "data": {
      "text/plain": "{'monoclinic', 'orthorhombic', 'tetragonal', 'triclinic'}"
     },
     "metadata": {}
    }
   ],
   "execution_count": 18
  },
  {
   "cell_type": "markdown",
   "source": "<a style='text-decoration:none;line-height:16px;display:flex;color:#5B5B62;padding:10px;justify-content:end;' href='https://deepnote.com?utm_source=created-in-deepnote-cell&projectId=cf8541de-dbc3-45f6-bc1e-4fa446cacbcd' target=\"_blank\">\n<img alt='Created in deepnote.com' style='display:inline;max-height:16px;margin:0px;margin-right:7.5px;' src='data:image/svg+xml;base64,PD94bWwgdmVyc2lvbj0iMS4wIiBlbmNvZGluZz0iVVRGLTgiPz4KPHN2ZyB3aWR0aD0iODBweCIgaGVpZ2h0PSI4MHB4IiB2aWV3Qm94PSIwIDAgODAgODAiIHZlcnNpb249IjEuMSIgeG1sbnM9Imh0dHA6Ly93d3cudzMub3JnLzIwMDAvc3ZnIiB4bWxuczp4bGluaz0iaHR0cDovL3d3dy53My5vcmcvMTk5OS94bGluayI+CiAgICA8IS0tIEdlbmVyYXRvcjogU2tldGNoIDU0LjEgKDc2NDkwKSAtIGh0dHBzOi8vc2tldGNoYXBwLmNvbSAtLT4KICAgIDx0aXRsZT5Hcm91cCAzPC90aXRsZT4KICAgIDxkZXNjPkNyZWF0ZWQgd2l0aCBTa2V0Y2guPC9kZXNjPgogICAgPGcgaWQ9IkxhbmRpbmciIHN0cm9rZT0ibm9uZSIgc3Ryb2tlLXdpZHRoPSIxIiBmaWxsPSJub25lIiBmaWxsLXJ1bGU9ImV2ZW5vZGQiPgogICAgICAgIDxnIGlkPSJBcnRib2FyZCIgdHJhbnNmb3JtPSJ0cmFuc2xhdGUoLTEyMzUuMDAwMDAwLCAtNzkuMDAwMDAwKSI+CiAgICAgICAgICAgIDxnIGlkPSJHcm91cC0zIiB0cmFuc2Zvcm09InRyYW5zbGF0ZSgxMjM1LjAwMDAwMCwgNzkuMDAwMDAwKSI+CiAgICAgICAgICAgICAgICA8cG9seWdvbiBpZD0iUGF0aC0yMCIgZmlsbD0iIzAyNjVCNCIgcG9pbnRzPSIyLjM3NjIzNzYyIDgwIDM4LjA0NzY2NjcgODAgNTcuODIxNzgyMiA3My44MDU3NTkyIDU3LjgyMTc4MjIgMzIuNzU5MjczOSAzOS4xNDAyMjc4IDMxLjY4MzE2ODMiPjwvcG9seWdvbj4KICAgICAgICAgICAgICAgIDxwYXRoIGQ9Ik0zNS4wMDc3MTgsODAgQzQyLjkwNjIwMDcsNzYuNDU0OTM1OCA0Ny41NjQ5MTY3LDcxLjU0MjI2NzEgNDguOTgzODY2LDY1LjI2MTk5MzkgQzUxLjExMjI4OTksNTUuODQxNTg0MiA0MS42NzcxNzk1LDQ5LjIxMjIyODQgMjUuNjIzOTg0Niw0OS4yMTIyMjg0IEMyNS40ODQ5Mjg5LDQ5LjEyNjg0NDggMjkuODI2MTI5Niw0My4yODM4MjQ4IDM4LjY0NzU4NjksMzEuNjgzMTY4MyBMNzIuODcxMjg3MSwzMi41NTQ0MjUgTDY1LjI4MDk3Myw2Ny42NzYzNDIxIEw1MS4xMTIyODk5LDc3LjM3NjE0NCBMMzUuMDA3NzE4LDgwIFoiIGlkPSJQYXRoLTIyIiBmaWxsPSIjMDAyODY4Ij48L3BhdGg+CiAgICAgICAgICAgICAgICA8cGF0aCBkPSJNMCwzNy43MzA0NDA1IEwyNy4xMTQ1MzcsMC4yNTcxMTE0MzYgQzYyLjM3MTUxMjMsLTEuOTkwNzE3MDEgODAsMTAuNTAwMzkyNyA4MCwzNy43MzA0NDA1IEM4MCw2NC45NjA0ODgyIDY0Ljc3NjUwMzgsNzkuMDUwMzQxNCAzNC4zMjk1MTEzLDgwIEM0Ny4wNTUzNDg5LDc3LjU2NzA4MDggNTMuNDE4MjY3Nyw3MC4zMTM2MTAzIDUzLjQxODI2NzcsNTguMjM5NTg4NSBDNTMuNDE4MjY3Nyw0MC4xMjg1NTU3IDM2LjMwMzk1NDQsMzcuNzMwNDQwNSAyNS4yMjc0MTcsMzcuNzMwNDQwNSBDMTcuODQzMDU4NiwzNy43MzA0NDA1IDkuNDMzOTE5NjYsMzcuNzMwNDQwNSAwLDM3LjczMDQ0MDUgWiIgaWQ9IlBhdGgtMTkiIGZpbGw9IiMzNzkzRUYiPjwvcGF0aD4KICAgICAgICAgICAgPC9nPgogICAgICAgIDwvZz4KICAgIDwvZz4KPC9zdmc+' > </img>\nCreated in <span style='font-weight:600;margin-left:4px;'>Deepnote</span></a>",
   "metadata": {
    "tags": [],
    "created_in_deepnote_cell": true,
    "deepnote_cell_type": "markdown"
   }
  }
 ],
 "nbformat": 4,
 "nbformat_minor": 2,
 "metadata": {
  "orig_nbformat": 2,
  "deepnote": {
   "is_reactive": false
  },
  "deepnote_notebook_id": "6751d593-9ccc-442e-8316-ddba291a202d",
  "deepnote_execution_queue": [],
  "deepnote_app_layout": "dashboard"
 }
}