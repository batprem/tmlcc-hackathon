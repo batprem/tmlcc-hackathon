{
 "cells": [
  {
   "cell_type": "markdown",
   "source": "# Import modules",
   "metadata": {
    "tags": [],
    "is_collapsed": false,
    "cell_id": "00000-98c9440a-3c15-432d-820b-cde0b5e1e613",
    "deepnote_cell_type": "text-cell-h1"
   }
  },
  {
   "cell_type": "markdown",
   "source": "",
   "metadata": {
    "tags": [],
    "is_collapsed": false,
    "cell_id": "00001-5c8496c0-2b62-4795-9ff5-10a6323925df",
    "deepnote_cell_type": "text-cell-p"
   }
  },
  {
   "cell_type": "code",
   "metadata": {
    "tags": [],
    "cell_id": "00000-d7f4b5fc-8fcd-4eb4-9318-452728180541",
    "deepnote_to_be_reexecuted": false,
    "source_hash": "be9ba15c",
    "execution_start": 1632029721178,
    "execution_millis": 2,
    "deepnote_cell_type": "code"
   },
   "source": "import os\nimport pandas as pd\nfrom typing import List",
   "outputs": [],
   "execution_count": 6
  },
  {
   "cell_type": "markdown",
   "source": "# Constants",
   "metadata": {
    "tags": [],
    "is_collapsed": false,
    "cell_id": "00002-ba67d224-3e73-4e60-9242-e85150fd961e",
    "deepnote_cell_type": "text-cell-h1"
   }
  },
  {
   "cell_type": "code",
   "metadata": {
    "tags": [],
    "cell_id": "00003-181adef6-e936-4a19-9061-84aa7f6ec7ac",
    "deepnote_to_be_reexecuted": false,
    "source_hash": "60039e5f",
    "execution_start": 1632029723730,
    "execution_millis": 5,
    "deepnote_cell_type": "code"
   },
   "source": "Train_path = \"tmlcc-2021/mof_cif_train\"",
   "outputs": [],
   "execution_count": 7
  },
  {
   "cell_type": "markdown",
   "source": "# Test load files",
   "metadata": {
    "tags": [],
    "is_collapsed": false,
    "cell_id": "00002-0a184234-74bb-4e28-bbea-ea4249e6584c",
    "deepnote_cell_type": "text-cell-h1"
   }
  },
  {
   "cell_type": "code",
   "metadata": {
    "tags": [],
    "cell_id": "00001-720c941d-fa56-4465-b526-d150d0dade97",
    "deepnote_to_be_reexecuted": false,
    "source_hash": "5fd3e01d",
    "execution_start": 1632029718166,
    "execution_millis": 4,
    "deepnote_cell_type": "code"
   },
   "source": "\"\"\"test = load_cif_file(f\"{Train_path}/mof_unit_1.cif\")\"\"\"",
   "outputs": [
    {
     "output_type": "execute_result",
     "execution_count": 5,
     "data": {
      "text/plain": "'test = load_cif_file(f\"{Train_path}/mof_unit_1.cif\")'"
     },
     "metadata": {}
    }
   ],
   "execution_count": 5
  },
  {
   "cell_type": "code",
   "metadata": {
    "tags": [],
    "cell_id": "00007-9dc72cf2-0f4b-4d8a-822a-59ee3fc252d8",
    "deepnote_to_be_reexecuted": false,
    "source_hash": "3bf6401d",
    "execution_start": 1632030680999,
    "execution_millis": 4,
    "deepnote_cell_type": "code"
   },
   "source": "from utils.classes.adapters import CIF2PandasAdapter\n\ncif2pandas_adapter = CIF2PandasAdapter()\nresults = cif2pandas_adapter.apply(f\"{Train_path}/mof_unit_123.cif\")\n",
   "outputs": [],
   "execution_count": 17
  },
  {
   "cell_type": "code",
   "metadata": {
    "tags": [],
    "cell_id": "00008-cff92d09-02f1-4094-a20f-de0f97eeac70",
    "deepnote_to_be_reexecuted": false,
    "source_hash": "ab1b627",
    "execution_start": 1632030555654,
    "execution_millis": 4,
    "deepnote_cell_type": "code"
   },
   "source": "results[\"metadata\"]",
   "outputs": [
    {
     "output_type": "execute_result",
     "execution_count": 16,
     "data": {
      "application/vnd.deepnote.dataframe.v2+json": {
       "row_count": 11,
       "column_count": 2,
       "columns": [
        {
         "name": 0,
         "dtype": "object",
         "stats": {
          "unique_count": 11,
          "nan_count": 0,
          "categories": [
           {
            "name": "_audit_creation_date",
            "count": 1
           },
           {
            "name": "_symmetry_space_group_name_H-M",
            "count": 1
           },
           {
            "name": "9 others",
            "count": 9
           }
          ]
         }
        },
        {
         "name": 1,
         "dtype": "object",
         "stats": {
          "unique_count": 11,
          "nan_count": 0,
          "categories": [
           {
            "name": "2012-10-26T19:46:07-0400",
            "count": 1
           },
           {
            "name": "P1",
            "count": 1
           },
           {
            "name": "9 others",
            "count": 9
           }
          ]
         }
        },
        {
         "name": "_deepnote_index_column",
         "dtype": "int64"
        }
       ],
       "rows_top": [
        {
         "0": "_audit_creation_date",
         "1": "2012-10-26T19:46:07-0400",
         "_deepnote_index_column": 0
        },
        {
         "0": "_symmetry_space_group_name_H-M",
         "1": "P1",
         "_deepnote_index_column": 1
        },
        {
         "0": "_symmetry_Int_Tables_number",
         "1": "1",
         "_deepnote_index_column": 2
        },
        {
         "0": "_space_group_crystal_system",
         "1": "triclinic",
         "_deepnote_index_column": 3
        },
        {
         "0": "_cell_length_a",
         "1": "10.762679",
         "_deepnote_index_column": 4
        },
        {
         "0": "_cell_length_b",
         "1": "9.62445",
         "_deepnote_index_column": 5
        },
        {
         "0": "_cell_length_c",
         "1": "15.885493",
         "_deepnote_index_column": 6
        },
        {
         "0": "_cell_angle_alpha",
         "1": "90.029202",
         "_deepnote_index_column": 7
        },
        {
         "0": "_cell_angle_beta",
         "1": "92.771314",
         "_deepnote_index_column": 8
        },
        {
         "0": "_cell_angle_gamma",
         "1": "90.020289",
         "_deepnote_index_column": 9
        },
        {
         "0": "_cell_volume",
         "1": "1643.57187207",
         "_deepnote_index_column": 10
        }
       ],
       "rows_bottom": null
      },
      "text/plain": "                                 0                         1\n0             _audit_creation_date  2012-10-26T19:46:07-0400\n1   _symmetry_space_group_name_H-M                        P1\n2      _symmetry_Int_Tables_number                         1\n3      _space_group_crystal_system                 triclinic\n4                   _cell_length_a                 10.762679\n5                   _cell_length_b                   9.62445\n6                   _cell_length_c                 15.885493\n7                _cell_angle_alpha                 90.029202\n8                 _cell_angle_beta                 92.771314\n9                _cell_angle_gamma                 90.020289\n10                    _cell_volume             1643.57187207",
      "text/html": "<div>\n<style scoped>\n    .dataframe tbody tr th:only-of-type {\n        vertical-align: middle;\n    }\n\n    .dataframe tbody tr th {\n        vertical-align: top;\n    }\n\n    .dataframe thead th {\n        text-align: right;\n    }\n</style>\n<table border=\"1\" class=\"dataframe\">\n  <thead>\n    <tr style=\"text-align: right;\">\n      <th></th>\n      <th>0</th>\n      <th>1</th>\n    </tr>\n  </thead>\n  <tbody>\n    <tr>\n      <th>0</th>\n      <td>_audit_creation_date</td>\n      <td>2012-10-26T19:46:07-0400</td>\n    </tr>\n    <tr>\n      <th>1</th>\n      <td>_symmetry_space_group_name_H-M</td>\n      <td>P1</td>\n    </tr>\n    <tr>\n      <th>2</th>\n      <td>_symmetry_Int_Tables_number</td>\n      <td>1</td>\n    </tr>\n    <tr>\n      <th>3</th>\n      <td>_space_group_crystal_system</td>\n      <td>triclinic</td>\n    </tr>\n    <tr>\n      <th>4</th>\n      <td>_cell_length_a</td>\n      <td>10.762679</td>\n    </tr>\n    <tr>\n      <th>5</th>\n      <td>_cell_length_b</td>\n      <td>9.62445</td>\n    </tr>\n    <tr>\n      <th>6</th>\n      <td>_cell_length_c</td>\n      <td>15.885493</td>\n    </tr>\n    <tr>\n      <th>7</th>\n      <td>_cell_angle_alpha</td>\n      <td>90.029202</td>\n    </tr>\n    <tr>\n      <th>8</th>\n      <td>_cell_angle_beta</td>\n      <td>92.771314</td>\n    </tr>\n    <tr>\n      <th>9</th>\n      <td>_cell_angle_gamma</td>\n      <td>90.020289</td>\n    </tr>\n    <tr>\n      <th>10</th>\n      <td>_cell_volume</td>\n      <td>1643.57187207</td>\n    </tr>\n  </tbody>\n</table>\n</div>"
     },
     "metadata": {}
    }
   ],
   "execution_count": 16
  },
  {
   "cell_type": "code",
   "metadata": {
    "tags": [],
    "cell_id": "00004-995bb76c-4a91-4137-95e8-2d9108a011db",
    "deepnote_to_be_reexecuted": false,
    "source_hash": "e19982a2",
    "execution_start": 1632000549733,
    "execution_millis": 8,
    "deepnote_cell_type": "code"
   },
   "source": "metadata = pd.DataFrame(dataframes[0])\nmetadata",
   "outputs": [
    {
     "output_type": "execute_result",
     "execution_count": 135,
     "data": {
      "application/vnd.deepnote.dataframe.v2+json": {
       "row_count": 11,
       "column_count": 2,
       "columns": [
        {
         "name": 0,
         "dtype": "object",
         "stats": {
          "unique_count": 11,
          "nan_count": 0,
          "categories": [
           {
            "name": "_audit_creation_date",
            "count": 1
           },
           {
            "name": "_symmetry_space_group_name_H-M",
            "count": 1
           },
           {
            "name": "9 others",
            "count": 9
           }
          ]
         }
        },
        {
         "name": 1,
         "dtype": "object",
         "stats": {
          "unique_count": 11,
          "nan_count": 0,
          "categories": [
           {
            "name": "2013-03-05T16:41:16-0500",
            "count": 1
           },
           {
            "name": "P1",
            "count": 1
           },
           {
            "name": "9 others",
            "count": 9
           }
          ]
         }
        },
        {
         "name": "_deepnote_index_column",
         "dtype": "int64"
        }
       ],
       "rows_top": [
        {
         "0": "_audit_creation_date",
         "1": "2013-03-05T16:41:16-0500",
         "_deepnote_index_column": 0
        },
        {
         "0": "_symmetry_space_group_name_H-M",
         "1": "P1",
         "_deepnote_index_column": 1
        },
        {
         "0": "_symmetry_Int_Tables_number",
         "1": "1",
         "_deepnote_index_column": 2
        },
        {
         "0": "_space_group_crystal_system",
         "1": "triclinic",
         "_deepnote_index_column": 3
        },
        {
         "0": "_cell_length_a",
         "1": "10.609882",
         "_deepnote_index_column": 4
        },
        {
         "0": "_cell_length_b",
         "1": "10.643578",
         "_deepnote_index_column": 5
        },
        {
         "0": "_cell_length_c",
         "1": "9.890832",
         "_deepnote_index_column": 6
        },
        {
         "0": "_cell_angle_alpha",
         "1": "89.904234",
         "_deepnote_index_column": 7
        },
        {
         "0": "_cell_angle_beta",
         "1": "91.242355",
         "_deepnote_index_column": 8
        },
        {
         "0": "_cell_angle_gamma",
         "1": "90.261935",
         "_deepnote_index_column": 9
        },
        {
         "0": "_cell_volume",
         "1": "1116.66742888",
         "_deepnote_index_column": 10
        }
       ],
       "rows_bottom": null
      },
      "text/plain": "                                 0                         1\n0             _audit_creation_date  2013-03-05T16:41:16-0500\n1   _symmetry_space_group_name_H-M                        P1\n2      _symmetry_Int_Tables_number                         1\n3      _space_group_crystal_system                 triclinic\n4                   _cell_length_a                 10.609882\n5                   _cell_length_b                 10.643578\n6                   _cell_length_c                  9.890832\n7                _cell_angle_alpha                 89.904234\n8                 _cell_angle_beta                 91.242355\n9                _cell_angle_gamma                 90.261935\n10                    _cell_volume             1116.66742888",
      "text/html": "<div>\n<style scoped>\n    .dataframe tbody tr th:only-of-type {\n        vertical-align: middle;\n    }\n\n    .dataframe tbody tr th {\n        vertical-align: top;\n    }\n\n    .dataframe thead th {\n        text-align: right;\n    }\n</style>\n<table border=\"1\" class=\"dataframe\">\n  <thead>\n    <tr style=\"text-align: right;\">\n      <th></th>\n      <th>0</th>\n      <th>1</th>\n    </tr>\n  </thead>\n  <tbody>\n    <tr>\n      <th>0</th>\n      <td>_audit_creation_date</td>\n      <td>2013-03-05T16:41:16-0500</td>\n    </tr>\n    <tr>\n      <th>1</th>\n      <td>_symmetry_space_group_name_H-M</td>\n      <td>P1</td>\n    </tr>\n    <tr>\n      <th>2</th>\n      <td>_symmetry_Int_Tables_number</td>\n      <td>1</td>\n    </tr>\n    <tr>\n      <th>3</th>\n      <td>_space_group_crystal_system</td>\n      <td>triclinic</td>\n    </tr>\n    <tr>\n      <th>4</th>\n      <td>_cell_length_a</td>\n      <td>10.609882</td>\n    </tr>\n    <tr>\n      <th>5</th>\n      <td>_cell_length_b</td>\n      <td>10.643578</td>\n    </tr>\n    <tr>\n      <th>6</th>\n      <td>_cell_length_c</td>\n      <td>9.890832</td>\n    </tr>\n    <tr>\n      <th>7</th>\n      <td>_cell_angle_alpha</td>\n      <td>89.904234</td>\n    </tr>\n    <tr>\n      <th>8</th>\n      <td>_cell_angle_beta</td>\n      <td>91.242355</td>\n    </tr>\n    <tr>\n      <th>9</th>\n      <td>_cell_angle_gamma</td>\n      <td>90.261935</td>\n    </tr>\n    <tr>\n      <th>10</th>\n      <td>_cell_volume</td>\n      <td>1116.66742888</td>\n    </tr>\n  </tbody>\n</table>\n</div>"
     },
     "metadata": {}
    }
   ],
   "execution_count": null
  },
  {
   "cell_type": "code",
   "source": "",
   "metadata": {
    "cell_id": "00009-a32cc2c5-6706-4138-813a-4b1e8446eff5",
    "deepnote_cell_type": "visualization"
   },
   "outputs": [],
   "execution_count": null
  },
  {
   "cell_type": "code",
   "metadata": {
    "tags": [],
    "cell_id": "00011-3897d3b1-d980-43a2-8036-a1df4c118505",
    "deepnote_to_be_reexecuted": false,
    "source_hash": "7b4c48e0",
    "execution_start": 1632000738874,
    "execution_millis": 10,
    "deepnote_cell_type": "code"
   },
   "source": "loop_1 = pd.DataFrame(dataframes[1])\nloop_1_fixed = loop_1[loop_1[1].notna()]\nloop_1_fixed.columns = loop_1[loop_1[1].isna()][0]\n",
   "outputs": [
    {
     "output_type": "execute_result",
     "execution_count": 143,
     "data": {
      "text/plain": "0             _atom_site_label\n1       _atom_site_type_symbol\n2       _atom_site_description\n3           _atom_site_fract_x\n4           _atom_site_fract_y\n5           _atom_site_fract_z\n6    _atom_type_partial_charge\nName: 0, dtype: object"
     },
     "metadata": {}
    }
   ],
   "execution_count": null
  },
  {
   "cell_type": "code",
   "metadata": {
    "tags": [],
    "cell_id": "00012-91b77927-133f-4c27-8e2b-fcb7c09fd8e1",
    "deepnote_to_be_reexecuted": false,
    "source_hash": "3b846507",
    "execution_start": 1632001258912,
    "execution_millis": 0,
    "deepnote_cell_type": "code"
   },
   "source": "loop_2 = pd.DataFrame(dataframes[2])\nloop_2_fixed = loop_2[loop_2[1].notna()]\nloop_2_fixed.columns = loop_2[loop_2[1].isna()][0]",
   "outputs": [],
   "execution_count": null
  },
  {
   "cell_type": "code",
   "metadata": {
    "tags": [],
    "cell_id": "00013-c8b2faac-c6ee-4fca-bb88-8902c16a4cae",
    "deepnote_to_be_reexecuted": false,
    "source_hash": "b32c5fbc",
    "execution_start": 1632001264209,
    "execution_millis": 25,
    "deepnote_cell_type": "code"
   },
   "source": "loop_2_fixed",
   "outputs": [
    {
     "output_type": "execute_result",
     "execution_count": 166,
     "data": {
      "application/vnd.deepnote.dataframe.v2+json": {
       "row_count": 84,
       "column_count": 4,
       "columns": [
        {
         "name": "_geom_bond_atom_site_label_1",
         "dtype": "object",
         "stats": {
          "unique_count": 49,
          "nan_count": 0,
          "categories": [
           {
            "name": "Zn1",
            "count": 3
           },
           {
            "name": "C21",
            "count": 3
           },
           {
            "name": "47 others",
            "count": 78
           }
          ]
         }
        },
        {
         "name": "_geom_bond_atom_site_label_2",
         "dtype": "object",
         "stats": {
          "unique_count": 68,
          "nan_count": 0,
          "categories": [
           {
            "name": "Zn2",
            "count": 2
           },
           {
            "name": "C22",
            "count": 2
           },
           {
            "name": "66 others",
            "count": 80
           }
          ]
         }
        },
        {
         "name": "_geom_bond_distance",
         "dtype": "object",
         "stats": {
          "unique_count": 82,
          "nan_count": 0,
          "categories": [
           {
            "name": "1.948918",
            "count": 2
           },
           {
            "name": "1.987563",
            "count": 2
           },
           {
            "name": "80 others",
            "count": 80
           }
          ]
         }
        },
        {
         "name": "_ccdc_geom_bond_type",
         "dtype": "object",
         "stats": {
          "unique_count": 3,
          "nan_count": 0,
          "categories": [
           {
            "name": "S",
            "count": 56
           },
           {
            "name": "A",
            "count": 20
           },
           {
            "name": "D",
            "count": 8
           }
          ]
         }
        },
        {
         "name": "_deepnote_index_column",
         "dtype": "int64"
        }
       ],
       "rows_top": [
        {
         "_geom_bond_atom_site_label_1": "O4",
         "_geom_bond_atom_site_label_2": "Zn2",
         "_geom_bond_distance": "1.964878",
         "_ccdc_geom_bond_type": "S",
         "_deepnote_index_column": 4
        },
        {
         "_geom_bond_atom_site_label_1": "Zn1",
         "_geom_bond_atom_site_label_2": "O7",
         "_geom_bond_distance": "1.964880",
         "_ccdc_geom_bond_type": "S",
         "_deepnote_index_column": 5
        },
        {
         "_geom_bond_atom_site_label_1": "C10",
         "_geom_bond_atom_site_label_2": "C11",
         "_geom_bond_distance": "1.421566",
         "_ccdc_geom_bond_type": "A",
         "_deepnote_index_column": 6
        },
        {
         "_geom_bond_atom_site_label_1": "C21",
         "_geom_bond_atom_site_label_2": "C22",
         "_geom_bond_distance": "1.527080",
         "_ccdc_geom_bond_type": "S",
         "_deepnote_index_column": 7
        },
        {
         "_geom_bond_atom_site_label_1": "O19",
         "_geom_bond_atom_site_label_2": "H19",
         "_geom_bond_distance": "1.013968",
         "_ccdc_geom_bond_type": "S",
         "_deepnote_index_column": 8
        },
        {
         "_geom_bond_atom_site_label_1": "C9",
         "_geom_bond_atom_site_label_2": "C16",
         "_geom_bond_distance": "1.495691",
         "_ccdc_geom_bond_type": "S",
         "_deepnote_index_column": 9
        },
        {
         "_geom_bond_atom_site_label_1": "C2",
         "_geom_bond_atom_site_label_2": "C8",
         "_geom_bond_distance": "1.416024",
         "_ccdc_geom_bond_type": "S",
         "_deepnote_index_column": 10
        },
        {
         "_geom_bond_atom_site_label_1": "C26",
         "_geom_bond_atom_site_label_2": "H14",
         "_geom_bond_distance": "1.110791",
         "_ccdc_geom_bond_type": "S",
         "_deepnote_index_column": 11
        },
        {
         "_geom_bond_atom_site_label_1": "C1",
         "_geom_bond_atom_site_label_2": "C10",
         "_geom_bond_distance": "1.430199",
         "_ccdc_geom_bond_type": "S",
         "_deepnote_index_column": 12
        },
        {
         "_geom_bond_atom_site_label_1": "C7",
         "_geom_bond_atom_site_label_2": "C8",
         "_geom_bond_distance": "1.343808",
         "_ccdc_geom_bond_type": "D",
         "_deepnote_index_column": 13
        },
        {
         "_geom_bond_atom_site_label_1": "C26",
         "_geom_bond_atom_site_label_2": "H16",
         "_geom_bond_distance": "1.111429",
         "_ccdc_geom_bond_type": "S",
         "_deepnote_index_column": 14
        },
        {
         "_geom_bond_atom_site_label_1": "C11",
         "_geom_bond_atom_site_label_2": "C27",
         "_geom_bond_distance": "1.485781",
         "_ccdc_geom_bond_type": "S",
         "_deepnote_index_column": 15
        },
        {
         "_geom_bond_atom_site_label_1": "N1",
         "_geom_bond_atom_site_label_2": "C18",
         "_geom_bond_distance": "1.369199",
         "_ccdc_geom_bond_type": "A",
         "_deepnote_index_column": 16
        },
        {
         "_geom_bond_atom_site_label_1": "Zn2",
         "_geom_bond_atom_site_label_2": "O8",
         "_geom_bond_distance": "1.948918",
         "_ccdc_geom_bond_type": "S",
         "_deepnote_index_column": 17
        },
        {
         "_geom_bond_atom_site_label_1": "C16",
         "_geom_bond_atom_site_label_2": "C30",
         "_geom_bond_distance": "1.510024",
         "_ccdc_geom_bond_type": "S",
         "_deepnote_index_column": 18
        },
        {
         "_geom_bond_atom_site_label_1": "C17",
         "_geom_bond_atom_site_label_2": "N1",
         "_geom_bond_distance": "1.363805",
         "_ccdc_geom_bond_type": "A",
         "_deepnote_index_column": 19
        },
        {
         "_geom_bond_atom_site_label_1": "C24",
         "_geom_bond_atom_site_label_2": "O12",
         "_geom_bond_distance": "1.397079",
         "_ccdc_geom_bond_type": "S",
         "_deepnote_index_column": 20
        },
        {
         "_geom_bond_atom_site_label_1": "O12",
         "_geom_bond_atom_site_label_2": "H11",
         "_geom_bond_distance": "1.013962",
         "_ccdc_geom_bond_type": "S",
         "_deepnote_index_column": 21
        },
        {
         "_geom_bond_atom_site_label_1": "O8",
         "_geom_bond_atom_site_label_2": "C4",
         "_geom_bond_distance": "1.289391",
         "_ccdc_geom_bond_type": "A",
         "_deepnote_index_column": 22
        },
        {
         "_geom_bond_atom_site_label_1": "C16",
         "_geom_bond_atom_site_label_2": "H5",
         "_geom_bond_distance": "1.110508",
         "_ccdc_geom_bond_type": "S",
         "_deepnote_index_column": 23
        },
        {
         "_geom_bond_atom_site_label_1": "C6",
         "_geom_bond_atom_site_label_2": "H2",
         "_geom_bond_distance": "1.087240",
         "_ccdc_geom_bond_type": "S",
         "_deepnote_index_column": 24
        },
        {
         "_geom_bond_atom_site_label_1": "O1",
         "_geom_bond_atom_site_label_2": "Zn1",
         "_geom_bond_distance": "1.987563",
         "_ccdc_geom_bond_type": "S",
         "_deepnote_index_column": 25
        },
        {
         "_geom_bond_atom_site_label_1": "C25",
         "_geom_bond_atom_site_label_2": "H12",
         "_geom_bond_distance": "1.114657",
         "_ccdc_geom_bond_type": "S",
         "_deepnote_index_column": 26
        },
        {
         "_geom_bond_atom_site_label_1": "C8",
         "_geom_bond_atom_site_label_2": "H3",
         "_geom_bond_distance": "1.085871",
         "_ccdc_geom_bond_type": "S",
         "_deepnote_index_column": 27
        },
        {
         "_geom_bond_atom_site_label_1": "C27",
         "_geom_bond_atom_site_label_2": "O15",
         "_geom_bond_distance": "1.396312",
         "_ccdc_geom_bond_type": "S",
         "_deepnote_index_column": 28
        },
        {
         "_geom_bond_atom_site_label_1": "C5",
         "_geom_bond_atom_site_label_2": "C7",
         "_geom_bond_distance": "1.463308",
         "_ccdc_geom_bond_type": "S",
         "_deepnote_index_column": 29
        },
        {
         "_geom_bond_atom_site_label_1": "C22",
         "_geom_bond_atom_site_label_2": "H9",
         "_geom_bond_distance": "1.109643",
         "_ccdc_geom_bond_type": "S",
         "_deepnote_index_column": 30
        },
        {
         "_geom_bond_atom_site_label_1": "C28",
         "_geom_bond_atom_site_label_2": "O17",
         "_geom_bond_distance": "1.397333",
         "_ccdc_geom_bond_type": "S",
         "_deepnote_index_column": 31
        },
        {
         "_geom_bond_atom_site_label_1": "C13",
         "_geom_bond_atom_site_label_2": "C14",
         "_geom_bond_distance": "1.387393",
         "_ccdc_geom_bond_type": "A",
         "_deepnote_index_column": 32
        },
        {
         "_geom_bond_atom_site_label_1": "O15",
         "_geom_bond_atom_site_label_2": "H17",
         "_geom_bond_distance": "1.013575",
         "_ccdc_geom_bond_type": "S",
         "_deepnote_index_column": 33
        },
        {
         "_geom_bond_atom_site_label_1": "C27",
         "_geom_bond_atom_site_label_2": "O14",
         "_geom_bond_distance": "1.222971",
         "_ccdc_geom_bond_type": "D",
         "_deepnote_index_column": 34
        },
        {
         "_geom_bond_atom_site_label_1": "O3",
         "_geom_bond_atom_site_label_2": "Zn1",
         "_geom_bond_distance": "1.948918",
         "_ccdc_geom_bond_type": "S",
         "_deepnote_index_column": 35
        },
        {
         "_geom_bond_atom_site_label_1": "C24",
         "_geom_bond_atom_site_label_2": "O11",
         "_geom_bond_distance": "1.222977",
         "_ccdc_geom_bond_type": "D",
         "_deepnote_index_column": 36
        },
        {
         "_geom_bond_atom_site_label_1": "C28",
         "_geom_bond_atom_site_label_2": "O16",
         "_geom_bond_distance": "1.222359",
         "_ccdc_geom_bond_type": "D",
         "_deepnote_index_column": 37
        },
        {
         "_geom_bond_atom_site_label_1": "C15",
         "_geom_bond_atom_site_label_2": "H4",
         "_geom_bond_distance": "1.112876",
         "_ccdc_geom_bond_type": "S",
         "_deepnote_index_column": 38
        },
        {
         "_geom_bond_atom_site_label_1": "C15",
         "_geom_bond_atom_site_label_2": "C16",
         "_geom_bond_distance": "1.544249",
         "_ccdc_geom_bond_type": "S",
         "_deepnote_index_column": 39
        },
        {
         "_geom_bond_atom_site_label_1": "C15",
         "_geom_bond_atom_site_label_2": "C29",
         "_geom_bond_distance": "1.510594",
         "_ccdc_geom_bond_type": "S",
         "_deepnote_index_column": 40
        },
        {
         "_geom_bond_atom_site_label_1": "C22",
         "_geom_bond_atom_site_label_2": "C24",
         "_geom_bond_distance": "1.509876",
         "_ccdc_geom_bond_type": "S",
         "_deepnote_index_column": 41
        },
        {
         "_geom_bond_atom_site_label_1": "C26",
         "_geom_bond_atom_site_label_2": "H15",
         "_geom_bond_distance": "1.111339",
         "_ccdc_geom_bond_type": "S",
         "_deepnote_index_column": 42
        },
        {
         "_geom_bond_atom_site_label_1": "O17",
         "_geom_bond_atom_site_label_2": "H18",
         "_geom_bond_distance": "1.011823",
         "_ccdc_geom_bond_type": "S",
         "_deepnote_index_column": 43
        },
        {
         "_geom_bond_atom_site_label_1": "C18",
         "_geom_bond_atom_site_label_2": "C19",
         "_geom_bond_distance": "1.420399",
         "_ccdc_geom_bond_type": "A",
         "_deepnote_index_column": 44
        },
        {
         "_geom_bond_atom_site_label_1": "Zn2",
         "_geom_bond_atom_site_label_2": "N1",
         "_geom_bond_distance": "2.018287",
         "_ccdc_geom_bond_type": "S",
         "_deepnote_index_column": 45
        },
        {
         "_geom_bond_atom_site_label_1": "C25",
         "_geom_bond_atom_site_label_2": "H13",
         "_geom_bond_distance": "1.112160",
         "_ccdc_geom_bond_type": "S",
         "_deepnote_index_column": 46
        },
        {
         "_geom_bond_atom_site_label_1": "O4",
         "_geom_bond_atom_site_label_2": "C2",
         "_geom_bond_distance": "1.282159",
         "_ccdc_geom_bond_type": "A",
         "_deepnote_index_column": 47
        },
        {
         "_geom_bond_atom_site_label_1": "C29",
         "_geom_bond_atom_site_label_2": "O18",
         "_geom_bond_distance": "1.222372",
         "_ccdc_geom_bond_type": "D",
         "_deepnote_index_column": 48
        },
        {
         "_geom_bond_atom_site_label_1": "O7",
         "_geom_bond_atom_site_label_2": "C4",
         "_geom_bond_distance": "1.283647",
         "_ccdc_geom_bond_type": "A",
         "_deepnote_index_column": 49
        },
        {
         "_geom_bond_atom_site_label_1": "C4",
         "_geom_bond_atom_site_label_2": "C6",
         "_geom_bond_distance": "1.423029",
         "_ccdc_geom_bond_type": "S",
         "_deepnote_index_column": 50
        },
        {
         "_geom_bond_atom_site_label_1": "C3",
         "_geom_bond_atom_site_label_2": "C13",
         "_geom_bond_distance": "1.436384",
         "_ccdc_geom_bond_type": "S",
         "_deepnote_index_column": 51
        },
        {
         "_geom_bond_atom_site_label_1": "C17",
         "_geom_bond_atom_site_label_2": "C20",
         "_geom_bond_distance": "1.408512",
         "_ccdc_geom_bond_type": "A",
         "_deepnote_index_column": 52
        },
        {
         "_geom_bond_atom_site_label_1": "O3",
         "_geom_bond_atom_site_label_2": "C2",
         "_geom_bond_distance": "1.287525",
         "_ccdc_geom_bond_type": "A",
         "_deepnote_index_column": 53
        },
        {
         "_geom_bond_atom_site_label_1": "O21",
         "_geom_bond_atom_site_label_2": "H20",
         "_geom_bond_distance": "1.013794",
         "_ccdc_geom_bond_type": "S",
         "_deepnote_index_column": 54
        },
        {
         "_geom_bond_atom_site_label_1": "C17",
         "_geom_bond_atom_site_label_2": "C22",
         "_geom_bond_distance": "1.500187",
         "_ccdc_geom_bond_type": "S",
         "_deepnote_index_column": 55
        },
        {
         "_geom_bond_atom_site_label_1": "C19",
         "_geom_bond_atom_site_label_2": "N2",
         "_geom_bond_distance": "1.368503",
         "_ccdc_geom_bond_type": "A",
         "_deepnote_index_column": 56
        },
        {
         "_geom_bond_atom_site_label_1": "Zn1",
         "_geom_bond_atom_site_label_2": "O5",
         "_geom_bond_distance": "1.986284",
         "_ccdc_geom_bond_type": "S",
         "_deepnote_index_column": 57
        },
        {
         "_geom_bond_atom_site_label_1": "C21",
         "_geom_bond_atom_site_label_2": "C23",
         "_geom_bond_distance": "1.508058",
         "_ccdc_geom_bond_type": "S",
         "_deepnote_index_column": 58
        },
        {
         "_geom_bond_atom_site_label_1": "C9",
         "_geom_bond_atom_site_label_2": "C14",
         "_geom_bond_distance": "1.347186",
         "_ccdc_geom_bond_type": "A",
         "_deepnote_index_column": 59
        },
        {
         "_geom_bond_atom_site_label_1": "C11",
         "_geom_bond_atom_site_label_2": "C12",
         "_geom_bond_distance": "1.408967",
         "_ccdc_geom_bond_type": "A",
         "_deepnote_index_column": 60
        },
        {
         "_geom_bond_atom_site_label_1": "C30",
         "_geom_bond_atom_site_label_2": "O20",
         "_geom_bond_distance": "1.221910",
         "_ccdc_geom_bond_type": "D",
         "_deepnote_index_column": 61
        },
        {
         "_geom_bond_atom_site_label_1": "C30",
         "_geom_bond_atom_site_label_2": "O21",
         "_geom_bond_distance": "1.398898",
         "_ccdc_geom_bond_type": "S",
         "_deepnote_index_column": 62
        },
        {
         "_geom_bond_atom_site_label_1": "C18",
         "_geom_bond_atom_site_label_2": "H6",
         "_geom_bond_distance": "1.080611",
         "_ccdc_geom_bond_type": "S",
         "_deepnote_index_column": 63
        },
        {
         "_geom_bond_atom_site_label_1": "C25",
         "_geom_bond_atom_site_label_2": "C26",
         "_geom_bond_distance": "1.521664",
         "_ccdc_geom_bond_type": "S",
         "_deepnote_index_column": 64
        },
        {
         "_geom_bond_atom_site_label_1": "C20",
         "_geom_bond_atom_site_label_2": "C21",
         "_geom_bond_distance": "1.497470",
         "_ccdc_geom_bond_type": "S",
         "_deepnote_index_column": 65
        },
        {
         "_geom_bond_atom_site_label_1": "C5",
         "_geom_bond_atom_site_label_2": "H1",
         "_geom_bond_distance": "1.086216",
         "_ccdc_geom_bond_type": "S",
         "_deepnote_index_column": 66
        },
        {
         "_geom_bond_atom_site_label_1": "C29",
         "_geom_bond_atom_site_label_2": "O19",
         "_geom_bond_distance": "1.396440",
         "_ccdc_geom_bond_type": "S",
         "_deepnote_index_column": 67
        },
        {
         "_geom_bond_atom_site_label_1": "O5",
         "_geom_bond_atom_site_label_2": "C3",
         "_geom_bond_distance": "1.294473",
         "_ccdc_geom_bond_type": "A",
         "_deepnote_index_column": 68
        },
        {
         "_geom_bond_atom_site_label_1": "O10",
         "_geom_bond_atom_site_label_2": "H10",
         "_geom_bond_distance": "1.013808",
         "_ccdc_geom_bond_type": "S",
         "_deepnote_index_column": 69
        },
        {
         "_geom_bond_atom_site_label_1": "C19",
         "_geom_bond_atom_site_label_2": "H7",
         "_geom_bond_distance": "1.081174",
         "_ccdc_geom_bond_type": "S",
         "_deepnote_index_column": 70
        },
        {
         "_geom_bond_atom_site_label_1": "O2",
         "_geom_bond_atom_site_label_2": "C1",
         "_geom_bond_distance": "1.283721",
         "_ccdc_geom_bond_type": "A",
         "_deepnote_index_column": 71
        },
        {
         "_geom_bond_atom_site_label_1": "C23",
         "_geom_bond_atom_site_label_2": "O10",
         "_geom_bond_distance": "1.399222",
         "_ccdc_geom_bond_type": "S",
         "_deepnote_index_column": 72
        },
        {
         "_geom_bond_atom_site_label_1": "C12",
         "_geom_bond_atom_site_label_2": "C28",
         "_geom_bond_distance": "1.477908",
         "_ccdc_geom_bond_type": "S",
         "_deepnote_index_column": 73
        },
        {
         "_geom_bond_atom_site_label_1": "O1",
         "_geom_bond_atom_site_label_2": "C1",
         "_geom_bond_distance": "1.291914",
         "_ccdc_geom_bond_type": "A",
         "_deepnote_index_column": 74
        },
        {
         "_geom_bond_atom_site_label_1": "C12",
         "_geom_bond_atom_site_label_2": "C13",
         "_geom_bond_distance": "1.425976",
         "_ccdc_geom_bond_type": "A",
         "_deepnote_index_column": 75
        },
        {
         "_geom_bond_atom_site_label_1": "C9",
         "_geom_bond_atom_site_label_2": "C10",
         "_geom_bond_distance": "1.383277",
         "_ccdc_geom_bond_type": "A",
         "_deepnote_index_column": 76
        },
        {
         "_geom_bond_atom_site_label_1": "C7",
         "_geom_bond_atom_site_label_2": "O13",
         "_geom_bond_distance": "1.398342",
         "_ccdc_geom_bond_type": "S",
         "_deepnote_index_column": 77
        },
        {
         "_geom_bond_atom_site_label_1": "Zn1",
         "_geom_bond_atom_site_label_2": "N2",
         "_geom_bond_distance": "2.018145",
         "_ccdc_geom_bond_type": "S",
         "_deepnote_index_column": 78
        },
        {
         "_geom_bond_atom_site_label_1": "Zn2",
         "_geom_bond_atom_site_label_2": "O6",
         "_geom_bond_distance": "1.987563",
         "_ccdc_geom_bond_type": "S",
         "_deepnote_index_column": 79
        },
        {
         "_geom_bond_atom_site_label_1": "O2",
         "_geom_bond_atom_site_label_2": "Zn2",
         "_geom_bond_distance": "1.986286",
         "_ccdc_geom_bond_type": "S",
         "_deepnote_index_column": 80
        },
        {
         "_geom_bond_atom_site_label_1": "C23",
         "_geom_bond_atom_site_label_2": "O9",
         "_geom_bond_distance": "1.222312",
         "_ccdc_geom_bond_type": "D",
         "_deepnote_index_column": 81
        },
        {
         "_geom_bond_atom_site_label_1": "C5",
         "_geom_bond_atom_site_label_2": "C6",
         "_geom_bond_distance": "1.332432",
         "_ccdc_geom_bond_type": "D",
         "_deepnote_index_column": 82
        },
        {
         "_geom_bond_atom_site_label_1": "O13",
         "_geom_bond_atom_site_label_2": "C25",
         "_geom_bond_distance": "1.411417",
         "_ccdc_geom_bond_type": "S",
         "_deepnote_index_column": 83
        },
        {
         "_geom_bond_atom_site_label_1": "C21",
         "_geom_bond_atom_site_label_2": "H8",
         "_geom_bond_distance": "1.113555",
         "_ccdc_geom_bond_type": "S",
         "_deepnote_index_column": 84
        },
        {
         "_geom_bond_atom_site_label_1": "C14",
         "_geom_bond_atom_site_label_2": "C15",
         "_geom_bond_distance": "1.497242",
         "_ccdc_geom_bond_type": "S",
         "_deepnote_index_column": 85
        },
        {
         "_geom_bond_atom_site_label_1": "O6",
         "_geom_bond_atom_site_label_2": "C3",
         "_geom_bond_distance": "1.284366",
         "_ccdc_geom_bond_type": "A",
         "_deepnote_index_column": 86
        },
        {
         "_geom_bond_atom_site_label_1": "N2",
         "_geom_bond_atom_site_label_2": "C20",
         "_geom_bond_distance": "1.364971",
         "_ccdc_geom_bond_type": "A",
         "_deepnote_index_column": 87
        }
       ],
       "rows_bottom": null
      },
      "text/plain": "0  _geom_bond_atom_site_label_1 _geom_bond_atom_site_label_2  \\\n4                            O4                          Zn2   \n5                           Zn1                           O7   \n6                           C10                          C11   \n7                           C21                          C22   \n8                           O19                          H19   \n..                          ...                          ...   \n83                          O13                          C25   \n84                          C21                           H8   \n85                          C14                          C15   \n86                           O6                           C3   \n87                           N2                          C20   \n\n0  _geom_bond_distance _ccdc_geom_bond_type  \n4             1.964878                    S  \n5             1.964880                    S  \n6             1.421566                    A  \n7             1.527080                    S  \n8             1.013968                    S  \n..                 ...                  ...  \n83            1.411417                    S  \n84            1.113555                    S  \n85            1.497242                    S  \n86            1.284366                    A  \n87            1.364971                    A  \n\n[84 rows x 4 columns]",
      "text/html": "<div>\n<style scoped>\n    .dataframe tbody tr th:only-of-type {\n        vertical-align: middle;\n    }\n\n    .dataframe tbody tr th {\n        vertical-align: top;\n    }\n\n    .dataframe thead th {\n        text-align: right;\n    }\n</style>\n<table border=\"1\" class=\"dataframe\">\n  <thead>\n    <tr style=\"text-align: right;\">\n      <th></th>\n      <th>_geom_bond_atom_site_label_1</th>\n      <th>_geom_bond_atom_site_label_2</th>\n      <th>_geom_bond_distance</th>\n      <th>_ccdc_geom_bond_type</th>\n    </tr>\n  </thead>\n  <tbody>\n    <tr>\n      <th>4</th>\n      <td>O4</td>\n      <td>Zn2</td>\n      <td>1.964878</td>\n      <td>S</td>\n    </tr>\n    <tr>\n      <th>5</th>\n      <td>Zn1</td>\n      <td>O7</td>\n      <td>1.964880</td>\n      <td>S</td>\n    </tr>\n    <tr>\n      <th>6</th>\n      <td>C10</td>\n      <td>C11</td>\n      <td>1.421566</td>\n      <td>A</td>\n    </tr>\n    <tr>\n      <th>7</th>\n      <td>C21</td>\n      <td>C22</td>\n      <td>1.527080</td>\n      <td>S</td>\n    </tr>\n    <tr>\n      <th>8</th>\n      <td>O19</td>\n      <td>H19</td>\n      <td>1.013968</td>\n      <td>S</td>\n    </tr>\n    <tr>\n      <th>...</th>\n      <td>...</td>\n      <td>...</td>\n      <td>...</td>\n      <td>...</td>\n    </tr>\n    <tr>\n      <th>83</th>\n      <td>O13</td>\n      <td>C25</td>\n      <td>1.411417</td>\n      <td>S</td>\n    </tr>\n    <tr>\n      <th>84</th>\n      <td>C21</td>\n      <td>H8</td>\n      <td>1.113555</td>\n      <td>S</td>\n    </tr>\n    <tr>\n      <th>85</th>\n      <td>C14</td>\n      <td>C15</td>\n      <td>1.497242</td>\n      <td>S</td>\n    </tr>\n    <tr>\n      <th>86</th>\n      <td>O6</td>\n      <td>C3</td>\n      <td>1.284366</td>\n      <td>A</td>\n    </tr>\n    <tr>\n      <th>87</th>\n      <td>N2</td>\n      <td>C20</td>\n      <td>1.364971</td>\n      <td>A</td>\n    </tr>\n  </tbody>\n</table>\n<p>84 rows × 4 columns</p>\n</div>"
     },
     "metadata": {}
    }
   ],
   "execution_count": null
  },
  {
   "cell_type": "code",
   "metadata": {
    "tags": [],
    "cell_id": "00004-386f3c46-78f8-4737-907f-8f8e2579b801",
    "deepnote_to_be_reexecuted": false,
    "source_hash": "65e2d3a5",
    "execution_start": 1632000112483,
    "execution_millis": 12,
    "deepnote_cell_type": "code"
   },
   "source": "\nraw_dataframes.index[raw_dataframes[0] == \"loop_\"]",
   "outputs": [
    {
     "output_type": "execute_result",
     "execution_count": 120,
     "data": {
      "text/plain": "Int64Index([13, 97], dtype='int64')"
     },
     "metadata": {}
    }
   ],
   "execution_count": null
  },
  {
   "cell_type": "code",
   "metadata": {
    "tags": [],
    "cell_id": "00009-32d70c25-6b8c-460c-8364-873334c09b18",
    "deepnote_to_be_reexecuted": false,
    "source_hash": "1a1f5fcd",
    "execution_start": 1631998667680,
    "execution_millis": 8,
    "deepnote_cell_type": "code"
   },
   "source": "test.",
   "outputs": [
    {
     "output_type": "execute_result",
     "execution_count": 78,
     "data": {
      "text/plain": "[]"
     },
     "metadata": {}
    }
   ],
   "execution_count": null
  },
  {
   "cell_type": "code",
   "metadata": {
    "tags": [],
    "cell_id": "00009-4fe2acfe-9283-4f8c-a75a-6b4f1bc7907a",
    "deepnote_to_be_reexecuted": false,
    "source_hash": "dd6e84e1",
    "execution_start": 1631998535362,
    "execution_millis": 6,
    "deepnote_cell_type": "code"
   },
   "source": "test.get_all_unit_cell_sites()[0].f",
   "outputs": [
    {
     "output_type": "execute_result",
     "execution_count": 71,
     "data": {
      "text/plain": "<gemmi.SmallStructure.Site O1>"
     },
     "metadata": {}
    }
   ],
   "execution_count": null
  },
  {
   "cell_type": "code",
   "metadata": {
    "tags": [],
    "cell_id": "00004-f451614b-298e-41dd-9c52-b6f2e5c47745",
    "deepnote_to_be_reexecuted": false,
    "source_hash": "1c7ba583",
    "execution_start": 1631996866415,
    "execution_millis": 659,
    "deepnote_cell_type": "code"
   },
   "source": "ls -a",
   "outputs": [
    {
     "name": "stdout",
     "text": " \u001b[0m\u001b[34;42m.\u001b[0m/                    'Getting started.ipynb'      \u001b[01;34m.temp\u001b[0m/\r\n \u001b[01;34m..\u001b[0m/                    init.ipynb                  \u001b[01;34mtmlcc-2021\u001b[0m/\r\n data.zip               notebook.ipynb              \u001b[01;34muntitled-20210918-202702\u001b[0m/\r\n \u001b[01;34m.deepnote\u001b[0m/             requirements.txt\r\n download_files.ipynb   SF_bikeshare_stations.csv\r\n",
     "output_type": "stream"
    }
   ],
   "execution_count": null
  },
  {
   "cell_type": "code",
   "metadata": {
    "tags": [],
    "cell_id": "00004-e44ece4f-84a3-49e9-813e-1a2162f70d13",
    "deepnote_to_be_reexecuted": false,
    "source_hash": "908bbde8",
    "execution_start": 1631996585103,
    "execution_millis": 3,
    "deepnote_cell_type": "code"
   },
   "source": "",
   "outputs": [],
   "execution_count": null
  },
  {
   "cell_type": "code",
   "metadata": {
    "tags": [],
    "cell_id": "00005-b6f0f951-3cfd-4232-9d3d-7f40dd54e27a",
    "deepnote_to_be_reexecuted": false,
    "source_hash": "78d96335",
    "execution_start": 1631996697451,
    "execution_millis": 15,
    "deepnote_cell_type": "code"
   },
   "source": "from io import StringIO\n\n\ngemmi.read_small_structure(StringIO('\\n'.join(lines)))",
   "outputs": [
    {
     "output_type": "error",
     "ename": "TypeError",
     "evalue": "a bytes-like object is required, not 'str'",
     "traceback": [
      "\u001b[0;31m---------------------------------------------------------------------------\u001b[0m",
      "\u001b[0;31mTypeError\u001b[0m                                 Traceback (most recent call last)",
      "\u001b[0;32m/tmp/ipykernel_85/1604625651.py\u001b[0m in \u001b[0;36m<module>\u001b[0;34m\u001b[0m\n\u001b[1;32m      2\u001b[0m \u001b[0;34m\u001b[0m\u001b[0m\n\u001b[1;32m      3\u001b[0m \u001b[0;34m\u001b[0m\u001b[0m\n\u001b[0;32m----> 4\u001b[0;31m \u001b[0mgemmi\u001b[0m\u001b[0;34m.\u001b[0m\u001b[0mread_small_structure\u001b[0m\u001b[0;34m(\u001b[0m\u001b[0mBytesIO\u001b[0m\u001b[0;34m(\u001b[0m\u001b[0;34m'\\n'\u001b[0m\u001b[0;34m.\u001b[0m\u001b[0mjoin\u001b[0m\u001b[0;34m(\u001b[0m\u001b[0mlines\u001b[0m\u001b[0;34m)\u001b[0m\u001b[0;34m)\u001b[0m\u001b[0;34m)\u001b[0m\u001b[0;34m\u001b[0m\u001b[0;34m\u001b[0m\u001b[0m\n\u001b[0m",
      "\u001b[0;31mTypeError\u001b[0m: a bytes-like object is required, not 'str'"
     ]
    }
   ],
   "execution_count": null
  },
  {
   "cell_type": "code",
   "metadata": {
    "tags": [],
    "cell_id": "00001-02e58c88-af69-4f13-a621-370784f0d4d9",
    "deepnote_to_be_reexecuted": false,
    "source_hash": "af8edf1a",
    "execution_start": 1631990722877,
    "execution_millis": 90,
    "deepnote_cell_type": "code"
   },
   "source": "\ncif_object = gemmi.read_small_structure(\"mof_cif_train/mof_cif_train/mof_unit_1.cif\")",
   "outputs": [
    {
     "output_type": "error",
     "ename": "ValueError",
     "evalue": "mof_cif_train/mof_cif_train/mof_unit_1.cif:3:45: parse error",
     "traceback": [
      "\u001b[0;31m---------------------------------------------------------------------------\u001b[0m",
      "\u001b[0;31mValueError\u001b[0m                                Traceback (most recent call last)",
      "\u001b[0;32m/tmp/ipykernel_228/908946089.py\u001b[0m in \u001b[0;36m<module>\u001b[0;34m\u001b[0m\n\u001b[0;32m----> 1\u001b[0;31m \u001b[0mcif_object\u001b[0m \u001b[0;34m=\u001b[0m \u001b[0mgemmi\u001b[0m\u001b[0;34m.\u001b[0m\u001b[0mread_small_structure\u001b[0m\u001b[0;34m(\u001b[0m\u001b[0;34m\"mof_cif_train/mof_cif_train/mof_unit_1.cif\"\u001b[0m\u001b[0;34m)\u001b[0m\u001b[0;34m\u001b[0m\u001b[0;34m\u001b[0m\u001b[0m\n\u001b[0m",
      "\u001b[0;31mValueError\u001b[0m: mof_cif_train/mof_cif_train/mof_unit_1.cif:3:45: parse error"
     ]
    }
   ],
   "execution_count": null
  },
  {
   "cell_type": "markdown",
   "source": "<a style='text-decoration:none;line-height:16px;display:flex;color:#5B5B62;padding:10px;justify-content:end;' href='https://deepnote.com?utm_source=created-in-deepnote-cell&projectId=cf8541de-dbc3-45f6-bc1e-4fa446cacbcd' target=\"_blank\">\n<img alt='Created in deepnote.com' style='display:inline;max-height:16px;margin:0px;margin-right:7.5px;' src='data:image/svg+xml;base64,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' > </img>\nCreated in <span style='font-weight:600;margin-left:4px;'>Deepnote</span></a>",
   "metadata": {
    "tags": [],
    "created_in_deepnote_cell": true,
    "deepnote_cell_type": "markdown"
   }
  }
 ],
 "nbformat": 4,
 "nbformat_minor": 2,
 "metadata": {
  "orig_nbformat": 2,
  "deepnote": {
   "is_reactive": false
  },
  "deepnote_notebook_id": "6751d593-9ccc-442e-8316-ddba291a202d",
  "deepnote_execution_queue": []
 }
}