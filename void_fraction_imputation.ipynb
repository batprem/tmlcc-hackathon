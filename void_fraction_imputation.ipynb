{
 "cells": [
  {
   "cell_type": "code",
   "metadata": {
    "tags": [],
    "cell_id": "00000-a3ec8870-accf-455f-b679-40b4d2c791fb",
    "deepnote_to_be_reexecuted": false,
    "source_hash": "818a1bc0",
    "execution_start": 1632502145112,
    "execution_millis": 990,
    "deepnote_cell_type": "code"
   },
   "source": "import pandas as pd\nfrom src.constants import (\n    PREPROCESSING_PATH,\n    TARGET\n)\n\nimport numpy as np\nfrom sklearn.impute import KNNImputer\nfrom sklearn.metrics import mean_absolute_error\nfrom sklearn.preprocessing import power_transform\nfrom utils.classes.extractor import FunctionalGroupToGramExtractor\n\nfrom typing import (\n    Optional,\n    List,\n    Any\n)\nfrom sklearn.model_selection import KFold, RepeatedKFold, RepeatedStratifiedKFold\n\nimport warnings\nwarnings.filterwarnings(\"ignore\")",
   "execution_count": null,
   "outputs": []
  },
  {
   "cell_type": "code",
   "metadata": {
    "tags": [],
    "cell_id": "00001-fcbefa5a-a246-4f15-9ca4-5a9a2897e3d2",
    "deepnote_to_be_reexecuted": false,
    "source_hash": "b22f29f5",
    "execution_start": 1632502146111,
    "execution_millis": 5681,
    "deepnote_cell_type": "code"
   },
   "source": "from sklearn.svm import SVR\nfrom sklearn.pipeline import make_pipeline\nfrom sklearn.preprocessing import StandardScaler\nfrom sklearn.metrics import mean_squared_error\nfrom sklearn.pipeline import Pipeline\nfrom sklearn.model_selection import cross_val_score\n\n\nfrom tensorflow.keras.models import Sequential\nfrom tensorflow.keras.layers import (\n    Dense,\n    Dropout\n)\nfrom tensorflow.keras.wrappers.scikit_learn import KerasRegressor\nfrom tensorflow.keras.callbacks import ModelCheckpoint\n\n\nTrain = pd.read_csv(f\"{PREPROCESSING_PATH}/train_merged_CIF/Train.csv\")\nTrain = Train.set_index(Train.columns[0])\nTrain = Train.replace([np.inf], 99999999)\nTrain = Train.replace([-np.inf], -99999999)\nTrain = Train.dropna()\n\n\nTrain = Train.drop(Train[Train[\"surface_area [m^2/g]\"]<=0].index)\nTrain['density'] = (Train[\"weight [u]\"] / Train[\"volume [A^3]\"]) * 1.66054\nratio = 0.7\n\ntrain = Train.iloc[: int(ratio * Train.shape[0])]\n\ntest = Train.iloc[int(ratio * Train.shape[0]):]\n\n\n\nX = train[\n    [\n        \"heat_adsorption_CO2_P0.15bar_T298K [kcal/mol]\",\n        \"CO2/N2_selectivity\",\n        \"_cell_volume\",\n        \"_cell_length_a\",\n        \"_cell_length_b\",\n        \"_cell_length_c\",\n        \"density\"\n    ]\n]\n\ny = train[['void_fraction']]\n\nX_test = test[\n    [\n        \"heat_adsorption_CO2_P0.15bar_T298K [kcal/mol]\",\n        \"CO2/N2_selectivity\",\n        \"_cell_volume\",\n        \"_cell_length_a\",\n        \"_cell_length_b\",\n        \"_cell_length_c\",\n        \"density\"\n    ]\n]\n\ny_test = test[['void_fraction']]\n# y_test = test[\"surface_area [m^2/g]\"]  # **0.5]",
   "execution_count": null,
   "outputs": [
    {
     "name": "stderr",
     "text": "2021-09-24 16:49:06.237121: W tensorflow/stream_executor/platform/default/dso_loader.cc:60] Could not load dynamic library 'libcudart.so.11.0'; dlerror: libcudart.so.11.0: cannot open shared object file: No such file or directory\n2021-09-24 16:49:06.237160: I tensorflow/stream_executor/cuda/cudart_stub.cc:29] Ignore above cudart dlerror if you do not have a GPU set up on your machine.\n",
     "output_type": "stream"
    }
   ]
  },
  {
   "cell_type": "code",
   "metadata": {
    "tags": [],
    "cell_id": "00002-78384281-fdb2-4106-b19e-608f29f42007",
    "deepnote_to_be_reexecuted": false,
    "source_hash": "894487b4",
    "execution_start": 1632502151804,
    "execution_millis": 0,
    "deepnote_cell_type": "code"
   },
   "source": "# model_checkpoint_callback = ModelCheckpoint(\n#     filepath=\"best_model.h5\",\n#     monitor='val_loss',\n#     mode='min',\n#     save_best_only=True)\n\n\n# def wider_model():\n# \t# create model\n# \tmodel = Sequential()\n# \t# model.add(Dense(120, activation='sigmoid'))\n# \tmodel.add(Dense(60, activation='sigmoid'))\n# \tmodel.add(Dense(60, activation='sigmoid'))\n# \tmodel.add(Dense(60, activation='sigmoid'))\n# \tmodel.add(Dense(60, activation='sigmoid'))\n# \tmodel.add(Dense(30, activation='sigmoid'))\n# \tmodel.add(Dense(1, activation='sigmoid'))\n# \t# Compile model\n# \tmodel.compile(loss='mae', optimizer='nadam')\n# \treturn model\n\n\n# model = wider_model()\n# hist = model.fit(\n#     X,\n#     y,\n#     epochs=100,\n#     validation_data=(X_test, y_test),\n# \tcallbacks=[model_checkpoint_callback]\n# )",
   "execution_count": null,
   "outputs": []
  },
  {
   "cell_type": "code",
   "metadata": {
    "tags": [],
    "cell_id": "00003-fcdb3b4d-9805-48d0-b6db-da6d41498626",
    "deepnote_to_be_reexecuted": false,
    "source_hash": "8c71a7c9",
    "execution_start": 1632502151805,
    "execution_millis": 650,
    "deepnote_cell_type": "code"
   },
   "source": "from tensorflow.keras.models import load_model\nmodel = load_model('best_model.h5')\n\nprediction = pd.DataFrame(model.predict(X_test))\nprediction.columns = y_test.columns\nprediction.index = y_test.index\nprediction",
   "execution_count": null,
   "outputs": [
    {
     "name": "stderr",
     "text": "2021-09-24 16:49:11.809028: I tensorflow/compiler/jit/xla_cpu_device.cc:41] Not creating XLA devices, tf_xla_enable_xla_devices not set\n2021-09-24 16:49:11.809241: W tensorflow/stream_executor/platform/default/dso_loader.cc:60] Could not load dynamic library 'libcuda.so.1'; dlerror: libcuda.so.1: cannot open shared object file: No such file or directory\n2021-09-24 16:49:11.809254: W tensorflow/stream_executor/cuda/cuda_driver.cc:326] failed call to cuInit: UNKNOWN ERROR (303)\n2021-09-24 16:49:11.809270: I tensorflow/stream_executor/cuda/cuda_diagnostics.cc:156] kernel driver does not appear to be running on this host (p-cf8541de-dbc3-45f6-bc1e-4fa446cacbcd): /proc/driver/nvidia/version does not exist\n2021-09-24 16:49:11.809465: I tensorflow/core/platform/cpu_feature_guard.cc:142] This TensorFlow binary is optimized with oneAPI Deep Neural Network Library (oneDNN) to use the following CPU instructions in performance-critical operations:  AVX2 AVX512F FMA\nTo enable them in other operations, rebuild TensorFlow with the appropriate compiler flags.\n2021-09-24 16:49:11.809656: I tensorflow/compiler/jit/xla_gpu_device.cc:99] Not creating XLA devices, tf_xla_enable_xla_devices not set\n2021-09-24 16:49:11.925261: I tensorflow/compiler/mlir/mlir_graph_optimization_pass.cc:116] None of the MLIR optimization passes are enabled (registered 2)\n2021-09-24 16:49:11.945638: I tensorflow/core/platform/profile_utils/cpu_utils.cc:112] CPU Frequency: 2499995000 Hz\n",
     "output_type": "stream"
    },
    {
     "output_type": "execute_result",
     "execution_count": 4,
     "data": {
      "application/vnd.deepnote.dataframe.v2+json": {
       "row_count": 16134,
       "column_count": 1,
       "columns": [
        {
         "name": "void_fraction",
         "dtype": "float32",
         "stats": {
          "unique_count": 16065,
          "nan_count": 0,
          "min": "0.16186603903770447",
          "max": "0.5216569304466248",
          "histogram": [
           {
            "bin_start": 0.16186603903770447,
            "bin_end": 0.19784513115882874,
            "count": 1754
           },
           {
            "bin_start": 0.19784513115882874,
            "bin_end": 0.233824223279953,
            "count": 1296
           },
           {
            "bin_start": 0.233824223279953,
            "bin_end": 0.26980331540107727,
            "count": 1483
           },
           {
            "bin_start": 0.26980331540107727,
            "bin_end": 0.30578240752220154,
            "count": 1264
           },
           {
            "bin_start": 0.30578240752220154,
            "bin_end": 0.3417614698410034,
            "count": 1422
           },
           {
            "bin_start": 0.3417614698410034,
            "bin_end": 0.3777405619621277,
            "count": 1184
           },
           {
            "bin_start": 0.3777405619621277,
            "bin_end": 0.41371965408325195,
            "count": 876
           },
           {
            "bin_start": 0.41371965408325195,
            "bin_end": 0.4496987462043762,
            "count": 789
           },
           {
            "bin_start": 0.4496987462043762,
            "bin_end": 0.4856778383255005,
            "count": 998
           },
           {
            "bin_start": 0.4856778383255005,
            "bin_end": 0.5216569304466248,
            "count": 5068
           }
          ]
         }
        },
        {
         "name": "_deepnote_index_column",
         "dtype": "int64"
        }
       ],
       "rows_top": [
        {
         "void_fraction": 0.3885889947414398,
         "_deepnote_index_column": 47630
        },
        {
         "void_fraction": 0.273712694644928,
         "_deepnote_index_column": 47631
        },
        {
         "void_fraction": 0.3474254012107849,
         "_deepnote_index_column": 47632
        },
        {
         "void_fraction": 0.19446352124214172,
         "_deepnote_index_column": 47633
        },
        {
         "void_fraction": 0.3912689983844757,
         "_deepnote_index_column": 47635
        },
        {
         "void_fraction": 0.16920724511146545,
         "_deepnote_index_column": 47638
        },
        {
         "void_fraction": 0.42366933822631836,
         "_deepnote_index_column": 47639
        },
        {
         "void_fraction": 0.46354860067367554,
         "_deepnote_index_column": 47640
        },
        {
         "void_fraction": 0.26113632321357727,
         "_deepnote_index_column": 47641
        },
        {
         "void_fraction": 0.3677130937576294,
         "_deepnote_index_column": 47642
        },
        {
         "void_fraction": 0.22102412581443787,
         "_deepnote_index_column": 47643
        },
        {
         "void_fraction": 0.17916002869606018,
         "_deepnote_index_column": 47644
        },
        {
         "void_fraction": 0.216537743806839,
         "_deepnote_index_column": 47645
        },
        {
         "void_fraction": 0.32376739382743835,
         "_deepnote_index_column": 47646
        },
        {
         "void_fraction": 0.3317985534667969,
         "_deepnote_index_column": 47647
        },
        {
         "void_fraction": 0.5159451961517334,
         "_deepnote_index_column": 47648
        },
        {
         "void_fraction": 0.31486356258392334,
         "_deepnote_index_column": 47649
        },
        {
         "void_fraction": 0.18660548329353333,
         "_deepnote_index_column": 47653
        },
        {
         "void_fraction": 0.24989908933639526,
         "_deepnote_index_column": 47654
        },
        {
         "void_fraction": 0.1921350657939911,
         "_deepnote_index_column": 47655
        },
        {
         "void_fraction": 0.1631515622138977,
         "_deepnote_index_column": 47656
        },
        {
         "void_fraction": 0.188287615776062,
         "_deepnote_index_column": 47657
        },
        {
         "void_fraction": 0.1648009717464447,
         "_deepnote_index_column": 47658
        },
        {
         "void_fraction": 0.25901779532432556,
         "_deepnote_index_column": 47659
        },
        {
         "void_fraction": 0.2576165795326233,
         "_deepnote_index_column": 47660
        },
        {
         "void_fraction": 0.3185167908668518,
         "_deepnote_index_column": 47661
        },
        {
         "void_fraction": 0.277992844581604,
         "_deepnote_index_column": 47662
        },
        {
         "void_fraction": 0.33235785365104675,
         "_deepnote_index_column": 47663
        },
        {
         "void_fraction": 0.1959940791130066,
         "_deepnote_index_column": 47665
        },
        {
         "void_fraction": 0.3242044448852539,
         "_deepnote_index_column": 47666
        },
        {
         "void_fraction": 0.34892892837524414,
         "_deepnote_index_column": 47667
        },
        {
         "void_fraction": 0.231378972530365,
         "_deepnote_index_column": 47668
        },
        {
         "void_fraction": 0.41554269194602966,
         "_deepnote_index_column": 47669
        },
        {
         "void_fraction": 0.2839583158493042,
         "_deepnote_index_column": 47671
        },
        {
         "void_fraction": 0.3928884267807007,
         "_deepnote_index_column": 47673
        },
        {
         "void_fraction": 0.3398103713989258,
         "_deepnote_index_column": 47674
        },
        {
         "void_fraction": 0.3499506413936615,
         "_deepnote_index_column": 47675
        },
        {
         "void_fraction": 0.3096874952316284,
         "_deepnote_index_column": 47676
        },
        {
         "void_fraction": 0.3254891037940979,
         "_deepnote_index_column": 47677
        },
        {
         "void_fraction": 0.2929881811141968,
         "_deepnote_index_column": 47678
        },
        {
         "void_fraction": 0.4447129964828491,
         "_deepnote_index_column": 47679
        },
        {
         "void_fraction": 0.2319563627243042,
         "_deepnote_index_column": 47680
        },
        {
         "void_fraction": 0.19252365827560425,
         "_deepnote_index_column": 47681
        },
        {
         "void_fraction": 0.27024567127227783,
         "_deepnote_index_column": 47682
        },
        {
         "void_fraction": 0.41861075162887573,
         "_deepnote_index_column": 47683
        },
        {
         "void_fraction": 0.2545202374458313,
         "_deepnote_index_column": 47684
        },
        {
         "void_fraction": 0.251762717962265,
         "_deepnote_index_column": 47685
        },
        {
         "void_fraction": 0.3225644826889038,
         "_deepnote_index_column": 47686
        },
        {
         "void_fraction": 0.31999027729034424,
         "_deepnote_index_column": 47687
        },
        {
         "void_fraction": 0.16493064165115356,
         "_deepnote_index_column": 47690
        },
        {
         "void_fraction": 0.34435200691223145,
         "_deepnote_index_column": 47691
        },
        {
         "void_fraction": 0.29106616973876953,
         "_deepnote_index_column": 47692
        },
        {
         "void_fraction": 0.1897883117198944,
         "_deepnote_index_column": 47694
        },
        {
         "void_fraction": 0.29851028323173523,
         "_deepnote_index_column": 47695
        },
        {
         "void_fraction": 0.16593024134635925,
         "_deepnote_index_column": 47696
        },
        {
         "void_fraction": 0.2628072500228882,
         "_deepnote_index_column": 47697
        },
        {
         "void_fraction": 0.19962406158447266,
         "_deepnote_index_column": 47699
        },
        {
         "void_fraction": 0.23003503680229187,
         "_deepnote_index_column": 47701
        },
        {
         "void_fraction": 0.31950679421424866,
         "_deepnote_index_column": 47702
        },
        {
         "void_fraction": 0.32785701751708984,
         "_deepnote_index_column": 47703
        },
        {
         "void_fraction": 0.43123340606689453,
         "_deepnote_index_column": 47704
        },
        {
         "void_fraction": 0.33166080713272095,
         "_deepnote_index_column": 47706
        },
        {
         "void_fraction": 0.2882622182369232,
         "_deepnote_index_column": 47707
        },
        {
         "void_fraction": 0.23010408878326416,
         "_deepnote_index_column": 47708
        },
        {
         "void_fraction": 0.3391799032688141,
         "_deepnote_index_column": 47709
        },
        {
         "void_fraction": 0.3554963767528534,
         "_deepnote_index_column": 47710
        },
        {
         "void_fraction": 0.4002316892147064,
         "_deepnote_index_column": 47711
        },
        {
         "void_fraction": 0.24835073947906494,
         "_deepnote_index_column": 47712
        },
        {
         "void_fraction": 0.25395041704177856,
         "_deepnote_index_column": 47713
        },
        {
         "void_fraction": 0.44030505418777466,
         "_deepnote_index_column": 47714
        },
        {
         "void_fraction": 0.24791014194488525,
         "_deepnote_index_column": 47715
        },
        {
         "void_fraction": 0.3261061906814575,
         "_deepnote_index_column": 47716
        },
        {
         "void_fraction": 0.21286791563034058,
         "_deepnote_index_column": 47717
        },
        {
         "void_fraction": 0.355782687664032,
         "_deepnote_index_column": 47719
        },
        {
         "void_fraction": 0.20951130986213684,
         "_deepnote_index_column": 47720
        },
        {
         "void_fraction": 0.20938697457313538,
         "_deepnote_index_column": 47721
        },
        {
         "void_fraction": 0.333420068025589,
         "_deepnote_index_column": 47724
        },
        {
         "void_fraction": 0.3189014792442322,
         "_deepnote_index_column": 47725
        },
        {
         "void_fraction": 0.3813841938972473,
         "_deepnote_index_column": 47726
        },
        {
         "void_fraction": 0.38024672865867615,
         "_deepnote_index_column": 47727
        },
        {
         "void_fraction": 0.3108524978160858,
         "_deepnote_index_column": 47728
        },
        {
         "void_fraction": 0.3321807384490967,
         "_deepnote_index_column": 47730
        },
        {
         "void_fraction": 0.3529507517814636,
         "_deepnote_index_column": 47731
        },
        {
         "void_fraction": 0.2730376720428467,
         "_deepnote_index_column": 47735
        },
        {
         "void_fraction": 0.2744652032852173,
         "_deepnote_index_column": 47737
        },
        {
         "void_fraction": 0.16625800728797913,
         "_deepnote_index_column": 47738
        },
        {
         "void_fraction": 0.16277596354484558,
         "_deepnote_index_column": 47739
        },
        {
         "void_fraction": 0.4181221127510071,
         "_deepnote_index_column": 47740
        },
        {
         "void_fraction": 0.5018415451049805,
         "_deepnote_index_column": 47741
        },
        {
         "void_fraction": 0.24418982863426208,
         "_deepnote_index_column": 47742
        },
        {
         "void_fraction": 0.3383272886276245,
         "_deepnote_index_column": 47743
        },
        {
         "void_fraction": 0.33044081926345825,
         "_deepnote_index_column": 47746
        },
        {
         "void_fraction": 0.35528647899627686,
         "_deepnote_index_column": 47747
        },
        {
         "void_fraction": 0.3246028423309326,
         "_deepnote_index_column": 47748
        },
        {
         "void_fraction": 0.3215932846069336,
         "_deepnote_index_column": 47749
        },
        {
         "void_fraction": 0.443670392036438,
         "_deepnote_index_column": 47750
        },
        {
         "void_fraction": 0.35780733823776245,
         "_deepnote_index_column": 47752
        },
        {
         "void_fraction": 0.19391822814941406,
         "_deepnote_index_column": 47753
        },
        {
         "void_fraction": 0.27096861600875854,
         "_deepnote_index_column": 47754
        },
        {
         "void_fraction": 0.31681621074676514,
         "_deepnote_index_column": 47755
        },
        {
         "void_fraction": 0.17810750007629395,
         "_deepnote_index_column": 47756
        },
        {
         "void_fraction": 0.3405761122703552,
         "_deepnote_index_column": 47757
        },
        {
         "void_fraction": 0.33782249689102173,
         "_deepnote_index_column": 47758
        },
        {
         "void_fraction": 0.330841988325119,
         "_deepnote_index_column": 47761
        },
        {
         "void_fraction": 0.2821076512336731,
         "_deepnote_index_column": 47762
        },
        {
         "void_fraction": 0.3157864809036255,
         "_deepnote_index_column": 47763
        },
        {
         "void_fraction": 0.2637825012207031,
         "_deepnote_index_column": 47766
        },
        {
         "void_fraction": 0.3340113162994385,
         "_deepnote_index_column": 47767
        },
        {
         "void_fraction": 0.21974176168441772,
         "_deepnote_index_column": 47768
        },
        {
         "void_fraction": 0.18274253606796265,
         "_deepnote_index_column": 47769
        },
        {
         "void_fraction": 0.17361661791801453,
         "_deepnote_index_column": 47770
        },
        {
         "void_fraction": 0.36428290605545044,
         "_deepnote_index_column": 47771
        },
        {
         "void_fraction": 0.44428157806396484,
         "_deepnote_index_column": 47772
        },
        {
         "void_fraction": 0.3062039911746979,
         "_deepnote_index_column": 47773
        },
        {
         "void_fraction": 0.17664334177970886,
         "_deepnote_index_column": 47774
        },
        {
         "void_fraction": 0.3974694013595581,
         "_deepnote_index_column": 47775
        },
        {
         "void_fraction": 0.4033307433128357,
         "_deepnote_index_column": 47777
        },
        {
         "void_fraction": 0.16393959522247314,
         "_deepnote_index_column": 47778
        },
        {
         "void_fraction": 0.18950405716896057,
         "_deepnote_index_column": 47781
        },
        {
         "void_fraction": 0.33817434310913086,
         "_deepnote_index_column": 47782
        },
        {
         "void_fraction": 0.18440046906471252,
         "_deepnote_index_column": 47783
        },
        {
         "void_fraction": 0.4518969655036926,
         "_deepnote_index_column": 47784
        },
        {
         "void_fraction": 0.24798402190208435,
         "_deepnote_index_column": 47785
        },
        {
         "void_fraction": 0.19769108295440674,
         "_deepnote_index_column": 47787
        },
        {
         "void_fraction": 0.22285497188568115,
         "_deepnote_index_column": 47788
        },
        {
         "void_fraction": 0.26371240615844727,
         "_deepnote_index_column": 47789
        },
        {
         "void_fraction": 0.17573803663253784,
         "_deepnote_index_column": 47790
        },
        {
         "void_fraction": 0.24343881011009216,
         "_deepnote_index_column": 47791
        },
        {
         "void_fraction": 0.30940496921539307,
         "_deepnote_index_column": 47792
        },
        {
         "void_fraction": 0.16379496455192566,
         "_deepnote_index_column": 47797
        },
        {
         "void_fraction": 0.26267772912979126,
         "_deepnote_index_column": 47799
        },
        {
         "void_fraction": 0.3028014302253723,
         "_deepnote_index_column": 47800
        },
        {
         "void_fraction": 0.40583157539367676,
         "_deepnote_index_column": 47802
        },
        {
         "void_fraction": 0.31789514422416687,
         "_deepnote_index_column": 47804
        },
        {
         "void_fraction": 0.29010167717933655,
         "_deepnote_index_column": 47806
        },
        {
         "void_fraction": 0.31924253702163696,
         "_deepnote_index_column": 47807
        },
        {
         "void_fraction": 0.2936178147792816,
         "_deepnote_index_column": 47808
        },
        {
         "void_fraction": 0.2820857763290405,
         "_deepnote_index_column": 47809
        },
        {
         "void_fraction": 0.260555624961853,
         "_deepnote_index_column": 47810
        },
        {
         "void_fraction": 0.49118772149086,
         "_deepnote_index_column": 47811
        },
        {
         "void_fraction": 0.2769993543624878,
         "_deepnote_index_column": 47812
        },
        {
         "void_fraction": 0.19940096139907837,
         "_deepnote_index_column": 47813
        },
        {
         "void_fraction": 0.16942575573921204,
         "_deepnote_index_column": 47814
        },
        {
         "void_fraction": 0.2531968355178833,
         "_deepnote_index_column": 47815
        },
        {
         "void_fraction": 0.39403223991394043,
         "_deepnote_index_column": 47817
        },
        {
         "void_fraction": 0.38845163583755493,
         "_deepnote_index_column": 47818
        },
        {
         "void_fraction": 0.2318059802055359,
         "_deepnote_index_column": 47819
        },
        {
         "void_fraction": 0.32858747243881226,
         "_deepnote_index_column": 47822
        },
        {
         "void_fraction": 0.27387750148773193,
         "_deepnote_index_column": 47823
        },
        {
         "void_fraction": 0.28642964363098145,
         "_deepnote_index_column": 47824
        },
        {
         "void_fraction": 0.25587838888168335,
         "_deepnote_index_column": 47825
        },
        {
         "void_fraction": 0.19404122233390808,
         "_deepnote_index_column": 47827
        },
        {
         "void_fraction": 0.18654265999794006,
         "_deepnote_index_column": 47828
        },
        {
         "void_fraction": 0.16259407997131348,
         "_deepnote_index_column": 47830
        },
        {
         "void_fraction": 0.3039538860321045,
         "_deepnote_index_column": 47831
        },
        {
         "void_fraction": 0.2161571979522705,
         "_deepnote_index_column": 47832
        },
        {
         "void_fraction": 0.4223567247390747,
         "_deepnote_index_column": 47833
        },
        {
         "void_fraction": 0.33909881114959717,
         "_deepnote_index_column": 47834
        },
        {
         "void_fraction": 0.37405529618263245,
         "_deepnote_index_column": 47835
        },
        {
         "void_fraction": 0.37050431966781616,
         "_deepnote_index_column": 47836
        },
        {
         "void_fraction": 0.19773346185684204,
         "_deepnote_index_column": 47837
        },
        {
         "void_fraction": 0.4805965721607208,
         "_deepnote_index_column": 47838
        },
        {
         "void_fraction": 0.18028473854064941,
         "_deepnote_index_column": 47839
        },
        {
         "void_fraction": 0.3943161368370056,
         "_deepnote_index_column": 47840
        },
        {
         "void_fraction": 0.21966713666915894,
         "_deepnote_index_column": 47841
        },
        {
         "void_fraction": 0.16544154286384583,
         "_deepnote_index_column": 47842
        },
        {
         "void_fraction": 0.33878788352012634,
         "_deepnote_index_column": 47843
        },
        {
         "void_fraction": 0.3482212424278259,
         "_deepnote_index_column": 47844
        },
        {
         "void_fraction": 0.1775667369365692,
         "_deepnote_index_column": 47845
        },
        {
         "void_fraction": 0.38515326380729675,
         "_deepnote_index_column": 47846
        },
        {
         "void_fraction": 0.3932015299797058,
         "_deepnote_index_column": 47847
        },
        {
         "void_fraction": 0.20211878418922424,
         "_deepnote_index_column": 47848
        },
        {
         "void_fraction": 0.3338126540184021,
         "_deepnote_index_column": 47849
        },
        {
         "void_fraction": 0.2958904504776001,
         "_deepnote_index_column": 47850
        },
        {
         "void_fraction": 0.45784035325050354,
         "_deepnote_index_column": 47851
        },
        {
         "void_fraction": 0.3787766098976135,
         "_deepnote_index_column": 47852
        },
        {
         "void_fraction": 0.20747706294059753,
         "_deepnote_index_column": 47853
        },
        {
         "void_fraction": 0.2738521099090576,
         "_deepnote_index_column": 47854
        },
        {
         "void_fraction": 0.2809969186782837,
         "_deepnote_index_column": 47857
        },
        {
         "void_fraction": 0.20241671800613403,
         "_deepnote_index_column": 47859
        },
        {
         "void_fraction": 0.2890564203262329,
         "_deepnote_index_column": 47863
        },
        {
         "void_fraction": 0.27144259214401245,
         "_deepnote_index_column": 47865
        },
        {
         "void_fraction": 0.1776556670665741,
         "_deepnote_index_column": 47866
        },
        {
         "void_fraction": 0.40042105317115784,
         "_deepnote_index_column": 47867
        },
        {
         "void_fraction": 0.3984229266643524,
         "_deepnote_index_column": 47868
        },
        {
         "void_fraction": 0.22574517130851746,
         "_deepnote_index_column": 47869
        },
        {
         "void_fraction": 0.4579298794269562,
         "_deepnote_index_column": 47870
        },
        {
         "void_fraction": 0.16528666019439697,
         "_deepnote_index_column": 47871
        },
        {
         "void_fraction": 0.2323375940322876,
         "_deepnote_index_column": 47872
        },
        {
         "void_fraction": 0.30240699648857117,
         "_deepnote_index_column": 47873
        },
        {
         "void_fraction": 0.3173191249370575,
         "_deepnote_index_column": 47874
        },
        {
         "void_fraction": 0.24219352006912231,
         "_deepnote_index_column": 47875
        },
        {
         "void_fraction": 0.18559354543685913,
         "_deepnote_index_column": 47877
        },
        {
         "void_fraction": 0.2786068916320801,
         "_deepnote_index_column": 47878
        },
        {
         "void_fraction": 0.43014174699783325,
         "_deepnote_index_column": 47879
        },
        {
         "void_fraction": 0.21970731019973755,
         "_deepnote_index_column": 47880
        },
        {
         "void_fraction": 0.1625436544418335,
         "_deepnote_index_column": 47881
        },
        {
         "void_fraction": 0.33294397592544556,
         "_deepnote_index_column": 47882
        },
        {
         "void_fraction": 0.3596528172492981,
         "_deepnote_index_column": 47884
        },
        {
         "void_fraction": 0.48841118812561035,
         "_deepnote_index_column": 47885
        },
        {
         "void_fraction": 0.2740984559059143,
         "_deepnote_index_column": 47886
        },
        {
         "void_fraction": 0.24596524238586426,
         "_deepnote_index_column": 47887
        },
        {
         "void_fraction": 0.32920074462890625,
         "_deepnote_index_column": 47889
        },
        {
         "void_fraction": 0.3553292751312256,
         "_deepnote_index_column": 47890
        },
        {
         "void_fraction": 0.30918067693710327,
         "_deepnote_index_column": 47891
        },
        {
         "void_fraction": 0.3724806308746338,
         "_deepnote_index_column": 47892
        },
        {
         "void_fraction": 0.44712594151496887,
         "_deepnote_index_column": 47894
        },
        {
         "void_fraction": 0.28756773471832275,
         "_deepnote_index_column": 47895
        },
        {
         "void_fraction": 0.46740248799324036,
         "_deepnote_index_column": 47896
        },
        {
         "void_fraction": 0.21123242378234863,
         "_deepnote_index_column": 47897
        },
        {
         "void_fraction": 0.1936948597431183,
         "_deepnote_index_column": 47898
        },
        {
         "void_fraction": 0.19140630960464478,
         "_deepnote_index_column": 47900
        },
        {
         "void_fraction": 0.3502352237701416,
         "_deepnote_index_column": 47901
        },
        {
         "void_fraction": 0.2509711682796478,
         "_deepnote_index_column": 47902
        },
        {
         "void_fraction": 0.24692997336387634,
         "_deepnote_index_column": 47903
        },
        {
         "void_fraction": 0.2540280222892761,
         "_deepnote_index_column": 47904
        },
        {
         "void_fraction": 0.2761539816856384,
         "_deepnote_index_column": 47906
        },
        {
         "void_fraction": 0.34317466616630554,
         "_deepnote_index_column": 47908
        },
        {
         "void_fraction": 0.34537482261657715,
         "_deepnote_index_column": 47909
        },
        {
         "void_fraction": 0.2506340742111206,
         "_deepnote_index_column": 47911
        },
        {
         "void_fraction": 0.23460173606872559,
         "_deepnote_index_column": 47912
        },
        {
         "void_fraction": 0.30340689420700073,
         "_deepnote_index_column": 47913
        },
        {
         "void_fraction": 0.19395849108695984,
         "_deepnote_index_column": 47914
        },
        {
         "void_fraction": 0.1870456039905548,
         "_deepnote_index_column": 47916
        },
        {
         "void_fraction": 0.32837367057800293,
         "_deepnote_index_column": 47917
        },
        {
         "void_fraction": 0.19882327318191528,
         "_deepnote_index_column": 47918
        },
        {
         "void_fraction": 0.4534476101398468,
         "_deepnote_index_column": 47919
        },
        {
         "void_fraction": 0.40328991413116455,
         "_deepnote_index_column": 47920
        },
        {
         "void_fraction": 0.3573458194732666,
         "_deepnote_index_column": 47921
        },
        {
         "void_fraction": 0.23315608501434326,
         "_deepnote_index_column": 47922
        },
        {
         "void_fraction": 0.2932601571083069,
         "_deepnote_index_column": 47924
        },
        {
         "void_fraction": 0.37023210525512695,
         "_deepnote_index_column": 47925
        },
        {
         "void_fraction": 0.42788055539131165,
         "_deepnote_index_column": 47926
        },
        {
         "void_fraction": 0.3991474509239197,
         "_deepnote_index_column": 47927
        },
        {
         "void_fraction": 0.23422759771347046,
         "_deepnote_index_column": 47928
        },
        {
         "void_fraction": 0.46862709522247314,
         "_deepnote_index_column": 47929
        },
        {
         "void_fraction": 0.1884709894657135,
         "_deepnote_index_column": 47930
        },
        {
         "void_fraction": 0.2110784947872162,
         "_deepnote_index_column": 47931
        },
        {
         "void_fraction": 0.41106945276260376,
         "_deepnote_index_column": 47932
        },
        {
         "void_fraction": 0.44194886088371277,
         "_deepnote_index_column": 47933
        },
        {
         "void_fraction": 0.20014548301696777,
         "_deepnote_index_column": 47934
        },
        {
         "void_fraction": 0.16714847087860107,
         "_deepnote_index_column": 47936
        },
        {
         "void_fraction": 0.2235759198665619,
         "_deepnote_index_column": 47941
        },
        {
         "void_fraction": 0.30080679059028625,
         "_deepnote_index_column": 47942
        },
        {
         "void_fraction": 0.25778210163116455,
         "_deepnote_index_column": 47945
        },
        {
         "void_fraction": 0.3509769141674042,
         "_deepnote_index_column": 47946
        },
        {
         "void_fraction": 0.3147706687450409,
         "_deepnote_index_column": 47947
        },
        {
         "void_fraction": 0.34543943405151367,
         "_deepnote_index_column": 47948
        },
        {
         "void_fraction": 0.3886278569698334,
         "_deepnote_index_column": 47949
        },
        {
         "void_fraction": 0.17719143629074097,
         "_deepnote_index_column": 47950
        },
        {
         "void_fraction": 0.2259313464164734,
         "_deepnote_index_column": 47951
        },
        {
         "void_fraction": 0.48881974816322327,
         "_deepnote_index_column": 47952
        },
        {
         "void_fraction": 0.17032641172409058,
         "_deepnote_index_column": 47953
        },
        {
         "void_fraction": 0.16337910294532776,
         "_deepnote_index_column": 47954
        },
        {
         "void_fraction": 0.37243568897247314,
         "_deepnote_index_column": 47955
        },
        {
         "void_fraction": 0.21872562170028687,
         "_deepnote_index_column": 47957
        },
        {
         "void_fraction": 0.3338853120803833,
         "_deepnote_index_column": 47958
        },
        {
         "void_fraction": 0.27050960063934326,
         "_deepnote_index_column": 47959
        },
        {
         "void_fraction": 0.2762264013290405,
         "_deepnote_index_column": 47961
        },
        {
         "void_fraction": 0.1860722005367279,
         "_deepnote_index_column": 47962
        },
        {
         "void_fraction": 0.33400753140449524,
         "_deepnote_index_column": 47964
        },
        {
         "void_fraction": 0.3178037405014038,
         "_deepnote_index_column": 47966
        },
        {
         "void_fraction": 0.23531979322433472,
         "_deepnote_index_column": 47967
        },
        {
         "void_fraction": 0.18351727724075317,
         "_deepnote_index_column": 47968
        },
        {
         "void_fraction": 0.35499846935272217,
         "_deepnote_index_column": 47970
        },
        {
         "void_fraction": 0.16658782958984375,
         "_deepnote_index_column": 47971
        },
        {
         "void_fraction": 0.34930649399757385,
         "_deepnote_index_column": 47972
        },
        {
         "void_fraction": 0.3793002665042877,
         "_deepnote_index_column": 47974
        },
        {
         "void_fraction": 0.4053219258785248,
         "_deepnote_index_column": 47975
        },
        {
         "void_fraction": 0.27042609453201294,
         "_deepnote_index_column": 47976
        },
        {
         "void_fraction": 0.34812411665916443,
         "_deepnote_index_column": 47977
        },
        {
         "void_fraction": 0.4054309129714966,
         "_deepnote_index_column": 47979
        },
        {
         "void_fraction": 0.3770661950111389,
         "_deepnote_index_column": 47980
        },
        {
         "void_fraction": 0.44052109122276306,
         "_deepnote_index_column": 47982
        },
        {
         "void_fraction": 0.5033341646194458,
         "_deepnote_index_column": 47983
        },
        {
         "void_fraction": 0.22971603274345398,
         "_deepnote_index_column": 47984
        },
        {
         "void_fraction": 0.1779419183731079,
         "_deepnote_index_column": 47985
        },
        {
         "void_fraction": 0.18464472889900208,
         "_deepnote_index_column": 47986
        },
        {
         "void_fraction": 0.2580196261405945,
         "_deepnote_index_column": 47987
        },
        {
         "void_fraction": 0.18271490931510925,
         "_deepnote_index_column": 47988
        },
        {
         "void_fraction": 0.4848747253417969,
         "_deepnote_index_column": 47989
        },
        {
         "void_fraction": 0.20618191361427307,
         "_deepnote_index_column": 47990
        },
        {
         "void_fraction": 0.33279794454574585,
         "_deepnote_index_column": 47992
        },
        {
         "void_fraction": 0.3255492150783539,
         "_deepnote_index_column": 47993
        },
        {
         "void_fraction": 0.35728907585144043,
         "_deepnote_index_column": 47994
        },
        {
         "void_fraction": 0.2290264368057251,
         "_deepnote_index_column": 47997
        },
        {
         "void_fraction": 0.22381752729415894,
         "_deepnote_index_column": 47998
        },
        {
         "void_fraction": 0.39762282371520996,
         "_deepnote_index_column": 47999
        },
        {
         "void_fraction": 0.2982047200202942,
         "_deepnote_index_column": 48000
        },
        {
         "void_fraction": 0.19474688172340393,
         "_deepnote_index_column": 48001
        },
        {
         "void_fraction": 0.20517325401306152,
         "_deepnote_index_column": 48002
        },
        {
         "void_fraction": 0.19032782316207886,
         "_deepnote_index_column": 48003
        },
        {
         "void_fraction": 0.2934318780899048,
         "_deepnote_index_column": 48004
        },
        {
         "void_fraction": 0.24647721648216248,
         "_deepnote_index_column": 48005
        },
        {
         "void_fraction": 0.32597851753234863,
         "_deepnote_index_column": 48006
        },
        {
         "void_fraction": 0.42846935987472534,
         "_deepnote_index_column": 48007
        },
        {
         "void_fraction": 0.19933459162712097,
         "_deepnote_index_column": 48008
        },
        {
         "void_fraction": 0.20508825778961182,
         "_deepnote_index_column": 48009
        },
        {
         "void_fraction": 0.2415848970413208,
         "_deepnote_index_column": 48010
        },
        {
         "void_fraction": 0.2944486141204834,
         "_deepnote_index_column": 48011
        },
        {
         "void_fraction": 0.2153201699256897,
         "_deepnote_index_column": 48012
        },
        {
         "void_fraction": 0.234345942735672,
         "_deepnote_index_column": 48013
        },
        {
         "void_fraction": 0.3102903664112091,
         "_deepnote_index_column": 48014
        },
        {
         "void_fraction": 0.4632202684879303,
         "_deepnote_index_column": 48015
        },
        {
         "void_fraction": 0.28810203075408936,
         "_deepnote_index_column": 48017
        },
        {
         "void_fraction": 0.23047664761543274,
         "_deepnote_index_column": 48018
        },
        {
         "void_fraction": 0.4036979377269745,
         "_deepnote_index_column": 48019
        },
        {
         "void_fraction": 0.32152533531188965,
         "_deepnote_index_column": 48020
        },
        {
         "void_fraction": 0.25918006896972656,
         "_deepnote_index_column": 48023
        },
        {
         "void_fraction": 0.3566296696662903,
         "_deepnote_index_column": 48026
        },
        {
         "void_fraction": 0.21786198019981384,
         "_deepnote_index_column": 48028
        },
        {
         "void_fraction": 0.27686846256256104,
         "_deepnote_index_column": 48029
        },
        {
         "void_fraction": 0.321087121963501,
         "_deepnote_index_column": 48030
        },
        {
         "void_fraction": 0.21232730150222778,
         "_deepnote_index_column": 48033
        },
        {
         "void_fraction": 0.39269715547561646,
         "_deepnote_index_column": 48034
        },
        {
         "void_fraction": 0.24117586016654968,
         "_deepnote_index_column": 48035
        },
        {
         "void_fraction": 0.17840003967285156,
         "_deepnote_index_column": 48036
        },
        {
         "void_fraction": 0.26043352484703064,
         "_deepnote_index_column": 48037
        },
        {
         "void_fraction": 0.23678812384605408,
         "_deepnote_index_column": 48038
        },
        {
         "void_fraction": 0.20669305324554443,
         "_deepnote_index_column": 48039
        },
        {
         "void_fraction": 0.43815818428993225,
         "_deepnote_index_column": 48040
        },
        {
         "void_fraction": 0.16705235838890076,
         "_deepnote_index_column": 48042
        },
        {
         "void_fraction": 0.34952032566070557,
         "_deepnote_index_column": 48045
        },
        {
         "void_fraction": 0.3604187071323395,
         "_deepnote_index_column": 48046
        },
        {
         "void_fraction": 0.3149741291999817,
         "_deepnote_index_column": 48047
        },
        {
         "void_fraction": 0.3697815239429474,
         "_deepnote_index_column": 48048
        },
        {
         "void_fraction": 0.42519035935401917,
         "_deepnote_index_column": 48049
        },
        {
         "void_fraction": 0.1703898310661316,
         "_deepnote_index_column": 48050
        },
        {
         "void_fraction": 0.21460217237472534,
         "_deepnote_index_column": 48051
        },
        {
         "void_fraction": 0.2133602797985077,
         "_deepnote_index_column": 48052
        },
        {
         "void_fraction": 0.39561909437179565,
         "_deepnote_index_column": 48053
        },
        {
         "void_fraction": 0.3001282215118408,
         "_deepnote_index_column": 48054
        },
        {
         "void_fraction": 0.18782028555870056,
         "_deepnote_index_column": 48055
        },
        {
         "void_fraction": 0.3131997883319855,
         "_deepnote_index_column": 48056
        },
        {
         "void_fraction": 0.3538154363632202,
         "_deepnote_index_column": 48057
        },
        {
         "void_fraction": 0.30920058488845825,
         "_deepnote_index_column": 48058
        },
        {
         "void_fraction": 0.19954735040664673,
         "_deepnote_index_column": 48059
        },
        {
         "void_fraction": 0.3329890966415405,
         "_deepnote_index_column": 48060
        },
        {
         "void_fraction": 0.3042069673538208,
         "_deepnote_index_column": 48061
        },
        {
         "void_fraction": 0.2802819609642029,
         "_deepnote_index_column": 48062
        },
        {
         "void_fraction": 0.2806529402732849,
         "_deepnote_index_column": 48063
        },
        {
         "void_fraction": 0.2969963550567627,
         "_deepnote_index_column": 48064
        },
        {
         "void_fraction": 0.2119865119457245,
         "_deepnote_index_column": 48065
        },
        {
         "void_fraction": 0.451712429523468,
         "_deepnote_index_column": 48066
        },
        {
         "void_fraction": 0.2806485891342163,
         "_deepnote_index_column": 48067
        },
        {
         "void_fraction": 0.2714838981628418,
         "_deepnote_index_column": 48068
        },
        {
         "void_fraction": 0.4806579053401947,
         "_deepnote_index_column": 48069
        },
        {
         "void_fraction": 0.21422913670539856,
         "_deepnote_index_column": 48070
        },
        {
         "void_fraction": 0.3375703692436218,
         "_deepnote_index_column": 48071
        },
        {
         "void_fraction": 0.23797175288200378,
         "_deepnote_index_column": 48072
        },
        {
         "void_fraction": 0.29356247186660767,
         "_deepnote_index_column": 48073
        },
        {
         "void_fraction": 0.1940089464187622,
         "_deepnote_index_column": 48075
        },
        {
         "void_fraction": 0.43925827741622925,
         "_deepnote_index_column": 48076
        },
        {
         "void_fraction": 0.17886662483215332,
         "_deepnote_index_column": 48077
        },
        {
         "void_fraction": 0.3743903636932373,
         "_deepnote_index_column": 48078
        },
        {
         "void_fraction": 0.1862826943397522,
         "_deepnote_index_column": 48079
        },
        {
         "void_fraction": 0.4456203579902649,
         "_deepnote_index_column": 48081
        },
        {
         "void_fraction": 0.43214893341064453,
         "_deepnote_index_column": 48082
        },
        {
         "void_fraction": 0.3733265995979309,
         "_deepnote_index_column": 48083
        },
        {
         "void_fraction": 0.1643533706665039,
         "_deepnote_index_column": 48084
        },
        {
         "void_fraction": 0.21663203835487366,
         "_deepnote_index_column": 48085
        },
        {
         "void_fraction": 0.17461556196212769,
         "_deepnote_index_column": 48086
        },
        {
         "void_fraction": 0.3484969735145569,
         "_deepnote_index_column": 48087
        },
        {
         "void_fraction": 0.4153165817260742,
         "_deepnote_index_column": 48088
        },
        {
         "void_fraction": 0.3626781105995178,
         "_deepnote_index_column": 48090
        },
        {
         "void_fraction": 0.48917344212532043,
         "_deepnote_index_column": 48091
        },
        {
         "void_fraction": 0.40458017587661743,
         "_deepnote_index_column": 48092
        },
        {
         "void_fraction": 0.1934787929058075,
         "_deepnote_index_column": 48093
        },
        {
         "void_fraction": 0.28973281383514404,
         "_deepnote_index_column": 48094
        },
        {
         "void_fraction": 0.17985215783119202,
         "_deepnote_index_column": 48095
        },
        {
         "void_fraction": 0.38604918122291565,
         "_deepnote_index_column": 48096
        },
        {
         "void_fraction": 0.1623055636882782,
         "_deepnote_index_column": 48097
        },
        {
         "void_fraction": 0.16189199686050415,
         "_deepnote_index_column": 48098
        },
        {
         "void_fraction": 0.3817061483860016,
         "_deepnote_index_column": 48100
        },
        {
         "void_fraction": 0.24120089411735535,
         "_deepnote_index_column": 48102
        },
        {
         "void_fraction": 0.30928313732147217,
         "_deepnote_index_column": 48103
        },
        {
         "void_fraction": 0.37048691511154175,
         "_deepnote_index_column": 48106
        },
        {
         "void_fraction": 0.3708944320678711,
         "_deepnote_index_column": 48107
        },
        {
         "void_fraction": 0.43916046619415283,
         "_deepnote_index_column": 48108
        },
        {
         "void_fraction": 0.2396421730518341,
         "_deepnote_index_column": 48109
        },
        {
         "void_fraction": 0.2646251916885376,
         "_deepnote_index_column": 48110
        },
        {
         "void_fraction": 0.2761403024196625,
         "_deepnote_index_column": 48111
        },
        {
         "void_fraction": 0.1756267547607422,
         "_deepnote_index_column": 48113
        },
        {
         "void_fraction": 0.23387932777404785,
         "_deepnote_index_column": 48116
        },
        {
         "void_fraction": 0.30631741881370544,
         "_deepnote_index_column": 48117
        },
        {
         "void_fraction": 0.18490436673164368,
         "_deepnote_index_column": 48118
        },
        {
         "void_fraction": 0.5018154978752136,
         "_deepnote_index_column": 48119
        },
        {
         "void_fraction": 0.44257569313049316,
         "_deepnote_index_column": 48120
        },
        {
         "void_fraction": 0.189637690782547,
         "_deepnote_index_column": 48122
        },
        {
         "void_fraction": 0.2938622236251831,
         "_deepnote_index_column": 48123
        },
        {
         "void_fraction": 0.3920488953590393,
         "_deepnote_index_column": 48125
        },
        {
         "void_fraction": 0.3681686520576477,
         "_deepnote_index_column": 48126
        },
        {
         "void_fraction": 0.34891384840011597,
         "_deepnote_index_column": 48127
        },
        {
         "void_fraction": 0.2352856993675232,
         "_deepnote_index_column": 48128
        },
        {
         "void_fraction": 0.3755386471748352,
         "_deepnote_index_column": 48129
        },
        {
         "void_fraction": 0.22359251976013184,
         "_deepnote_index_column": 48130
        },
        {
         "void_fraction": 0.43990373611450195,
         "_deepnote_index_column": 48131
        },
        {
         "void_fraction": 0.27290642261505127,
         "_deepnote_index_column": 48132
        },
        {
         "void_fraction": 0.17786502838134766,
         "_deepnote_index_column": 48133
        },
        {
         "void_fraction": 0.24791133403778076,
         "_deepnote_index_column": 48135
        },
        {
         "void_fraction": 0.2256503701210022,
         "_deepnote_index_column": 48136
        },
        {
         "void_fraction": 0.2523719072341919,
         "_deepnote_index_column": 48137
        },
        {
         "void_fraction": 0.29908499121665955,
         "_deepnote_index_column": 48138
        },
        {
         "void_fraction": 0.32885289192199707,
         "_deepnote_index_column": 48139
        },
        {
         "void_fraction": 0.27120596170425415,
         "_deepnote_index_column": 48140
        },
        {
         "void_fraction": 0.45002201199531555,
         "_deepnote_index_column": 48142
        },
        {
         "void_fraction": 0.4720660150051117,
         "_deepnote_index_column": 48143
        },
        {
         "void_fraction": 0.28038322925567627,
         "_deepnote_index_column": 48144
        },
        {
         "void_fraction": 0.20431771874427795,
         "_deepnote_index_column": 48146
        },
        {
         "void_fraction": 0.18820491433143616,
         "_deepnote_index_column": 48147
        },
        {
         "void_fraction": 0.279346764087677,
         "_deepnote_index_column": 48148
        },
        {
         "void_fraction": 0.22532221674919128,
         "_deepnote_index_column": 48150
        },
        {
         "void_fraction": 0.17143648862838745,
         "_deepnote_index_column": 48152
        },
        {
         "void_fraction": 0.18435737490653992,
         "_deepnote_index_column": 48153
        },
        {
         "void_fraction": 0.44746172428131104,
         "_deepnote_index_column": 48155
        },
        {
         "void_fraction": 0.5061204433441162,
         "_deepnote_index_column": 48157
        },
        {
         "void_fraction": 0.35215267539024353,
         "_deepnote_index_column": 48158
        },
        {
         "void_fraction": 0.37029868364334106,
         "_deepnote_index_column": 48159
        },
        {
         "void_fraction": 0.39753925800323486,
         "_deepnote_index_column": 48161
        },
        {
         "void_fraction": 0.27161338925361633,
         "_deepnote_index_column": 48162
        },
        {
         "void_fraction": 0.25974324345588684,
         "_deepnote_index_column": 48167
        },
        {
         "void_fraction": 0.37113654613494873,
         "_deepnote_index_column": 48168
        },
        {
         "void_fraction": 0.16438940167427063,
         "_deepnote_index_column": 48169
        },
        {
         "void_fraction": 0.27236151695251465,
         "_deepnote_index_column": 48170
        },
        {
         "void_fraction": 0.23320025205612183,
         "_deepnote_index_column": 48171
        },
        {
         "void_fraction": 0.23415017127990723,
         "_deepnote_index_column": 48172
        },
        {
         "void_fraction": 0.19426307082176208,
         "_deepnote_index_column": 48173
        },
        {
         "void_fraction": 0.2990429401397705,
         "_deepnote_index_column": 48174
        },
        {
         "void_fraction": 0.23229852318763733,
         "_deepnote_index_column": 48175
        },
        {
         "void_fraction": 0.19917982816696167,
         "_deepnote_index_column": 48176
        },
        {
         "void_fraction": 0.2759940028190613,
         "_deepnote_index_column": 48177
        },
        {
         "void_fraction": 0.2910255491733551,
         "_deepnote_index_column": 48178
        },
        {
         "void_fraction": 0.4537404179573059,
         "_deepnote_index_column": 48180
        },
        {
         "void_fraction": 0.1694861352443695,
         "_deepnote_index_column": 48181
        },
        {
         "void_fraction": 0.16468992829322815,
         "_deepnote_index_column": 48183
        },
        {
         "void_fraction": 0.33359187841415405,
         "_deepnote_index_column": 48184
        },
        {
         "void_fraction": 0.19037577509880066,
         "_deepnote_index_column": 48185
        },
        {
         "void_fraction": 0.16876232624053955,
         "_deepnote_index_column": 48186
        },
        {
         "void_fraction": 0.30875512957572937,
         "_deepnote_index_column": 48187
        },
        {
         "void_fraction": 0.3397444486618042,
         "_deepnote_index_column": 48188
        },
        {
         "void_fraction": 0.22189754247665405,
         "_deepnote_index_column": 48190
        },
        {
         "void_fraction": 0.2573513984680176,
         "_deepnote_index_column": 48191
        },
        {
         "void_fraction": 0.3279203772544861,
         "_deepnote_index_column": 48192
        },
        {
         "void_fraction": 0.25126153230667114,
         "_deepnote_index_column": 48193
        },
        {
         "void_fraction": 0.33596932888031006,
         "_deepnote_index_column": 48194
        },
        {
         "void_fraction": 0.31888508796691895,
         "_deepnote_index_column": 48195
        },
        {
         "void_fraction": 0.2513241171836853,
         "_deepnote_index_column": 48197
        },
        {
         "void_fraction": 0.17219799757003784,
         "_deepnote_index_column": 48198
        },
        {
         "void_fraction": 0.1974036991596222,
         "_deepnote_index_column": 48199
        },
        {
         "void_fraction": 0.3137677311897278,
         "_deepnote_index_column": 48200
        },
        {
         "void_fraction": 0.3048248291015625,
         "_deepnote_index_column": 48201
        },
        {
         "void_fraction": 0.28890931606292725,
         "_deepnote_index_column": 48204
        },
        {
         "void_fraction": 0.46368134021759033,
         "_deepnote_index_column": 48205
        },
        {
         "void_fraction": 0.36316072940826416,
         "_deepnote_index_column": 48206
        },
        {
         "void_fraction": 0.25699955224990845,
         "_deepnote_index_column": 48207
        },
        {
         "void_fraction": 0.2642473578453064,
         "_deepnote_index_column": 48208
        },
        {
         "void_fraction": 0.22671404480934143,
         "_deepnote_index_column": 48209
        },
        {
         "void_fraction": 0.1770058572292328,
         "_deepnote_index_column": 48213
        },
        {
         "void_fraction": 0.2887503504753113,
         "_deepnote_index_column": 48214
        },
        {
         "void_fraction": 0.2776801586151123,
         "_deepnote_index_column": 48215
        },
        {
         "void_fraction": 0.25360235571861267,
         "_deepnote_index_column": 48216
        },
        {
         "void_fraction": 0.17192381620407104,
         "_deepnote_index_column": 48217
        },
        {
         "void_fraction": 0.31001192331314087,
         "_deepnote_index_column": 48218
        },
        {
         "void_fraction": 0.40613648295402527,
         "_deepnote_index_column": 48219
        },
        {
         "void_fraction": 0.3434140086174011,
         "_deepnote_index_column": 48220
        },
        {
         "void_fraction": 0.2510121762752533,
         "_deepnote_index_column": 48221
        },
        {
         "void_fraction": 0.3819115459918976,
         "_deepnote_index_column": 48222
        },
        {
         "void_fraction": 0.258419930934906,
         "_deepnote_index_column": 48223
        },
        {
         "void_fraction": 0.4804070293903351,
         "_deepnote_index_column": 48224
        },
        {
         "void_fraction": 0.43384188413619995,
         "_deepnote_index_column": 48225
        },
        {
         "void_fraction": 0.4659424126148224,
         "_deepnote_index_column": 48227
        },
        {
         "void_fraction": 0.32544851303100586,
         "_deepnote_index_column": 48229
        },
        {
         "void_fraction": 0.3188706040382385,
         "_deepnote_index_column": 48231
        },
        {
         "void_fraction": 0.3356068432331085,
         "_deepnote_index_column": 48232
        },
        {
         "void_fraction": 0.30712807178497314,
         "_deepnote_index_column": 48233
        },
        {
         "void_fraction": 0.23926204442977905,
         "_deepnote_index_column": 48234
        },
        {
         "void_fraction": 0.2613023519515991,
         "_deepnote_index_column": 48236
        },
        {
         "void_fraction": 0.4306492209434509,
         "_deepnote_index_column": 48237
        },
        {
         "void_fraction": 0.2526051998138428,
         "_deepnote_index_column": 48238
        },
        {
         "void_fraction": 0.23580676317214966,
         "_deepnote_index_column": 48239
        },
        {
         "void_fraction": 0.26156193017959595,
         "_deepnote_index_column": 48240
        },
        {
         "void_fraction": 0.34831613302230835,
         "_deepnote_index_column": 48241
        },
        {
         "void_fraction": 0.17425528168678284,
         "_deepnote_index_column": 48242
        },
        {
         "void_fraction": 0.17447158694267273,
         "_deepnote_index_column": 48243
        },
        {
         "void_fraction": 0.2983948588371277,
         "_deepnote_index_column": 48244
        },
        {
         "void_fraction": 0.46960678696632385,
         "_deepnote_index_column": 48245
        },
        {
         "void_fraction": 0.19646969437599182,
         "_deepnote_index_column": 48246
        },
        {
         "void_fraction": 0.4439595341682434,
         "_deepnote_index_column": 48247
        },
        {
         "void_fraction": 0.16313141584396362,
         "_deepnote_index_column": 48248
        },
        {
         "void_fraction": 0.3946657180786133,
         "_deepnote_index_column": 48249
        },
        {
         "void_fraction": 0.18308919668197632,
         "_deepnote_index_column": 48250
        },
        {
         "void_fraction": 0.19792217016220093,
         "_deepnote_index_column": 48251
        },
        {
         "void_fraction": 0.23562252521514893,
         "_deepnote_index_column": 48252
        },
        {
         "void_fraction": 0.2575526237487793,
         "_deepnote_index_column": 48253
        },
        {
         "void_fraction": 0.23935571312904358,
         "_deepnote_index_column": 48254
        },
        {
         "void_fraction": 0.30733102560043335,
         "_deepnote_index_column": 48255
        },
        {
         "void_fraction": 0.49825340509414673,
         "_deepnote_index_column": 48257
        },
        {
         "void_fraction": 0.31204238533973694,
         "_deepnote_index_column": 48258
        },
        {
         "void_fraction": 0.2782675325870514,
         "_deepnote_index_column": 48259
        },
        {
         "void_fraction": 0.16557428240776062,
         "_deepnote_index_column": 48260
        }
       ],
       "rows_bottom": [
        {
         "void_fraction": 0.5116218328475952,
         "_deepnote_index_column": 66005
        },
        {
         "void_fraction": 0.5187082290649414,
         "_deepnote_index_column": 66006
        },
        {
         "void_fraction": 0.520049512386322,
         "_deepnote_index_column": 66007
        },
        {
         "void_fraction": 0.5210891366004944,
         "_deepnote_index_column": 66008
        },
        {
         "void_fraction": 0.38770008087158203,
         "_deepnote_index_column": 66009
        },
        {
         "void_fraction": 0.5213197469711304,
         "_deepnote_index_column": 66010
        },
        {
         "void_fraction": 0.5156072974205017,
         "_deepnote_index_column": 66011
        },
        {
         "void_fraction": 0.5046685934066772,
         "_deepnote_index_column": 66012
        },
        {
         "void_fraction": 0.520494818687439,
         "_deepnote_index_column": 66013
        },
        {
         "void_fraction": 0.509005606174469,
         "_deepnote_index_column": 66014
        },
        {
         "void_fraction": 0.4567650258541107,
         "_deepnote_index_column": 66015
        },
        {
         "void_fraction": 0.49897199869155884,
         "_deepnote_index_column": 66016
        },
        {
         "void_fraction": 0.5212804079055786,
         "_deepnote_index_column": 66017
        },
        {
         "void_fraction": 0.4705483913421631,
         "_deepnote_index_column": 66018
        },
        {
         "void_fraction": 0.24343916773796082,
         "_deepnote_index_column": 66019
        },
        {
         "void_fraction": 0.5204716324806213,
         "_deepnote_index_column": 66020
        },
        {
         "void_fraction": 0.5024570226669312,
         "_deepnote_index_column": 66021
        },
        {
         "void_fraction": 0.5213469862937927,
         "_deepnote_index_column": 66022
        },
        {
         "void_fraction": 0.4801434874534607,
         "_deepnote_index_column": 66023
        },
        {
         "void_fraction": 0.5134772062301636,
         "_deepnote_index_column": 66024
        },
        {
         "void_fraction": 0.5205487012863159,
         "_deepnote_index_column": 66025
        },
        {
         "void_fraction": 0.5171289443969727,
         "_deepnote_index_column": 66026
        },
        {
         "void_fraction": 0.5186474919319153,
         "_deepnote_index_column": 66027
        },
        {
         "void_fraction": 0.5050535798072815,
         "_deepnote_index_column": 66028
        },
        {
         "void_fraction": 0.46820399165153503,
         "_deepnote_index_column": 66029
        },
        {
         "void_fraction": 0.521164059638977,
         "_deepnote_index_column": 66030
        },
        {
         "void_fraction": 0.520605742931366,
         "_deepnote_index_column": 66031
        },
        {
         "void_fraction": 0.4949229955673218,
         "_deepnote_index_column": 66032
        },
        {
         "void_fraction": 0.2914062738418579,
         "_deepnote_index_column": 66033
        },
        {
         "void_fraction": 0.26029157638549805,
         "_deepnote_index_column": 66034
        },
        {
         "void_fraction": 0.41695642471313477,
         "_deepnote_index_column": 66035
        },
        {
         "void_fraction": 0.5160118341445923,
         "_deepnote_index_column": 66036
        },
        {
         "void_fraction": 0.47279301285743713,
         "_deepnote_index_column": 66037
        },
        {
         "void_fraction": 0.5053858757019043,
         "_deepnote_index_column": 66038
        },
        {
         "void_fraction": 0.5092202425003052,
         "_deepnote_index_column": 66039
        },
        {
         "void_fraction": 0.5205426812171936,
         "_deepnote_index_column": 66040
        },
        {
         "void_fraction": 0.520304262638092,
         "_deepnote_index_column": 66041
        },
        {
         "void_fraction": 0.5097280740737915,
         "_deepnote_index_column": 66042
        },
        {
         "void_fraction": 0.5091004371643066,
         "_deepnote_index_column": 66043
        },
        {
         "void_fraction": 0.31306731700897217,
         "_deepnote_index_column": 66044
        },
        {
         "void_fraction": 0.5172257423400879,
         "_deepnote_index_column": 66045
        },
        {
         "void_fraction": 0.4916897118091583,
         "_deepnote_index_column": 66046
        },
        {
         "void_fraction": 0.5133755207061768,
         "_deepnote_index_column": 66047
        },
        {
         "void_fraction": 0.5025976896286011,
         "_deepnote_index_column": 66048
        },
        {
         "void_fraction": 0.5088682770729065,
         "_deepnote_index_column": 66049
        },
        {
         "void_fraction": 0.5199973583221436,
         "_deepnote_index_column": 66050
        },
        {
         "void_fraction": 0.5184156894683838,
         "_deepnote_index_column": 66051
        },
        {
         "void_fraction": 0.5208678245544434,
         "_deepnote_index_column": 66052
        },
        {
         "void_fraction": 0.49397480487823486,
         "_deepnote_index_column": 66053
        },
        {
         "void_fraction": 0.5155054926872253,
         "_deepnote_index_column": 66054
        },
        {
         "void_fraction": 0.35063204169273376,
         "_deepnote_index_column": 66055
        },
        {
         "void_fraction": 0.5075527429580688,
         "_deepnote_index_column": 66056
        },
        {
         "void_fraction": 0.4070470333099365,
         "_deepnote_index_column": 66057
        },
        {
         "void_fraction": 0.470248818397522,
         "_deepnote_index_column": 66058
        },
        {
         "void_fraction": 0.51767498254776,
         "_deepnote_index_column": 66059
        },
        {
         "void_fraction": 0.503718912601471,
         "_deepnote_index_column": 66060
        },
        {
         "void_fraction": 0.5181127190589905,
         "_deepnote_index_column": 66061
        },
        {
         "void_fraction": 0.1622486412525177,
         "_deepnote_index_column": 66062
        },
        {
         "void_fraction": 0.4971896708011627,
         "_deepnote_index_column": 66063
        },
        {
         "void_fraction": 0.3680122196674347,
         "_deepnote_index_column": 66064
        },
        {
         "void_fraction": 0.49127599596977234,
         "_deepnote_index_column": 66065
        },
        {
         "void_fraction": 0.5197177529335022,
         "_deepnote_index_column": 66067
        },
        {
         "void_fraction": 0.5192522406578064,
         "_deepnote_index_column": 66068
        },
        {
         "void_fraction": 0.5203927159309387,
         "_deepnote_index_column": 66069
        },
        {
         "void_fraction": 0.3446565270423889,
         "_deepnote_index_column": 66070
        },
        {
         "void_fraction": 0.5118833780288696,
         "_deepnote_index_column": 66071
        },
        {
         "void_fraction": 0.45059385895729065,
         "_deepnote_index_column": 66072
        },
        {
         "void_fraction": 0.33877283334732056,
         "_deepnote_index_column": 66073
        },
        {
         "void_fraction": 0.5199141502380371,
         "_deepnote_index_column": 66074
        },
        {
         "void_fraction": 0.5199562907218933,
         "_deepnote_index_column": 66075
        },
        {
         "void_fraction": 0.4559835195541382,
         "_deepnote_index_column": 66076
        },
        {
         "void_fraction": 0.5048776865005493,
         "_deepnote_index_column": 66077
        },
        {
         "void_fraction": 0.5075119137763977,
         "_deepnote_index_column": 66078
        },
        {
         "void_fraction": 0.47204822301864624,
         "_deepnote_index_column": 66079
        },
        {
         "void_fraction": 0.5107188820838928,
         "_deepnote_index_column": 66081
        },
        {
         "void_fraction": 0.5141765475273132,
         "_deepnote_index_column": 66083
        },
        {
         "void_fraction": 0.5169416666030884,
         "_deepnote_index_column": 66084
        },
        {
         "void_fraction": 0.5202949047088623,
         "_deepnote_index_column": 66085
        },
        {
         "void_fraction": 0.3655744194984436,
         "_deepnote_index_column": 66086
        },
        {
         "void_fraction": 0.5032480955123901,
         "_deepnote_index_column": 66087
        },
        {
         "void_fraction": 0.516639769077301,
         "_deepnote_index_column": 66088
        },
        {
         "void_fraction": 0.4608640670776367,
         "_deepnote_index_column": 66089
        },
        {
         "void_fraction": 0.5196598172187805,
         "_deepnote_index_column": 66090
        },
        {
         "void_fraction": 0.4008616805076599,
         "_deepnote_index_column": 66091
        },
        {
         "void_fraction": 0.5042086243629456,
         "_deepnote_index_column": 66092
        },
        {
         "void_fraction": 0.4527479112148285,
         "_deepnote_index_column": 66093
        },
        {
         "void_fraction": 0.5060511231422424,
         "_deepnote_index_column": 66094
        },
        {
         "void_fraction": 0.4706646800041199,
         "_deepnote_index_column": 66095
        },
        {
         "void_fraction": 0.4720577001571655,
         "_deepnote_index_column": 66096
        },
        {
         "void_fraction": 0.5189664363861084,
         "_deepnote_index_column": 66097
        },
        {
         "void_fraction": 0.22642910480499268,
         "_deepnote_index_column": 66098
        },
        {
         "void_fraction": 0.20978042483329773,
         "_deepnote_index_column": 66099
        },
        {
         "void_fraction": 0.445941686630249,
         "_deepnote_index_column": 66100
        },
        {
         "void_fraction": 0.511070728302002,
         "_deepnote_index_column": 66101
        },
        {
         "void_fraction": 0.5211323499679565,
         "_deepnote_index_column": 66102
        },
        {
         "void_fraction": 0.4804670512676239,
         "_deepnote_index_column": 66103
        },
        {
         "void_fraction": 0.5210142731666565,
         "_deepnote_index_column": 66104
        },
        {
         "void_fraction": 0.4991409480571747,
         "_deepnote_index_column": 66105
        },
        {
         "void_fraction": 0.5204577445983887,
         "_deepnote_index_column": 66106
        },
        {
         "void_fraction": 0.5068557262420654,
         "_deepnote_index_column": 66107
        },
        {
         "void_fraction": 0.5151223540306091,
         "_deepnote_index_column": 66108
        },
        {
         "void_fraction": 0.5141380429267883,
         "_deepnote_index_column": 66109
        },
        {
         "void_fraction": 0.5072253942489624,
         "_deepnote_index_column": 66110
        },
        {
         "void_fraction": 0.48948511481285095,
         "_deepnote_index_column": 66111
        },
        {
         "void_fraction": 0.4396253526210785,
         "_deepnote_index_column": 66112
        },
        {
         "void_fraction": 0.4967978894710541,
         "_deepnote_index_column": 66113
        },
        {
         "void_fraction": 0.5036328434944153,
         "_deepnote_index_column": 66114
        },
        {
         "void_fraction": 0.4908372759819031,
         "_deepnote_index_column": 66115
        },
        {
         "void_fraction": 0.5195421576499939,
         "_deepnote_index_column": 66116
        },
        {
         "void_fraction": 0.5209823846817017,
         "_deepnote_index_column": 66117
        },
        {
         "void_fraction": 0.5059865117073059,
         "_deepnote_index_column": 66118
        },
        {
         "void_fraction": 0.2547900974750519,
         "_deepnote_index_column": 66119
        },
        {
         "void_fraction": 0.4905419945716858,
         "_deepnote_index_column": 66120
        },
        {
         "void_fraction": 0.5045575499534607,
         "_deepnote_index_column": 66121
        },
        {
         "void_fraction": 0.30643942952156067,
         "_deepnote_index_column": 66122
        },
        {
         "void_fraction": 0.5212018489837646,
         "_deepnote_index_column": 66124
        },
        {
         "void_fraction": 0.5168174505233765,
         "_deepnote_index_column": 66125
        },
        {
         "void_fraction": 0.518402636051178,
         "_deepnote_index_column": 66126
        },
        {
         "void_fraction": 0.5131004452705383,
         "_deepnote_index_column": 66127
        },
        {
         "void_fraction": 0.5087618231773376,
         "_deepnote_index_column": 66128
        },
        {
         "void_fraction": 0.3433566093444824,
         "_deepnote_index_column": 66129
        },
        {
         "void_fraction": 0.5214158892631531,
         "_deepnote_index_column": 66130
        },
        {
         "void_fraction": 0.47253283858299255,
         "_deepnote_index_column": 66131
        },
        {
         "void_fraction": 0.5036041736602783,
         "_deepnote_index_column": 66132
        },
        {
         "void_fraction": 0.5212916135787964,
         "_deepnote_index_column": 66133
        },
        {
         "void_fraction": 0.5208700895309448,
         "_deepnote_index_column": 66134
        },
        {
         "void_fraction": 0.509567141532898,
         "_deepnote_index_column": 66135
        },
        {
         "void_fraction": 0.5203425884246826,
         "_deepnote_index_column": 66136
        },
        {
         "void_fraction": 0.5203160047531128,
         "_deepnote_index_column": 66137
        },
        {
         "void_fraction": 0.47152864933013916,
         "_deepnote_index_column": 66138
        },
        {
         "void_fraction": 0.5183636546134949,
         "_deepnote_index_column": 66139
        },
        {
         "void_fraction": 0.520990252494812,
         "_deepnote_index_column": 66140
        },
        {
         "void_fraction": 0.5083577036857605,
         "_deepnote_index_column": 66141
        },
        {
         "void_fraction": 0.3202880024909973,
         "_deepnote_index_column": 66142
        },
        {
         "void_fraction": 0.5153897404670715,
         "_deepnote_index_column": 66143
        },
        {
         "void_fraction": 0.48444321751594543,
         "_deepnote_index_column": 66144
        },
        {
         "void_fraction": 0.4994761049747467,
         "_deepnote_index_column": 66145
        },
        {
         "void_fraction": 0.4092877507209778,
         "_deepnote_index_column": 66146
        },
        {
         "void_fraction": 0.16443124413490295,
         "_deepnote_index_column": 66147
        },
        {
         "void_fraction": 0.5201669335365295,
         "_deepnote_index_column": 66149
        },
        {
         "void_fraction": 0.5007968544960022,
         "_deepnote_index_column": 66150
        },
        {
         "void_fraction": 0.44542109966278076,
         "_deepnote_index_column": 66151
        },
        {
         "void_fraction": 0.5101342797279358,
         "_deepnote_index_column": 66152
        },
        {
         "void_fraction": 0.48465171456336975,
         "_deepnote_index_column": 66153
        },
        {
         "void_fraction": 0.519123911857605,
         "_deepnote_index_column": 66154
        },
        {
         "void_fraction": 0.45565006136894226,
         "_deepnote_index_column": 66155
        },
        {
         "void_fraction": 0.518940806388855,
         "_deepnote_index_column": 66156
        },
        {
         "void_fraction": 0.5174494385719299,
         "_deepnote_index_column": 66157
        },
        {
         "void_fraction": 0.5182039737701416,
         "_deepnote_index_column": 66158
        },
        {
         "void_fraction": 0.4930066466331482,
         "_deepnote_index_column": 66159
        },
        {
         "void_fraction": 0.5209984183311462,
         "_deepnote_index_column": 66160
        },
        {
         "void_fraction": 0.4717939794063568,
         "_deepnote_index_column": 66161
        },
        {
         "void_fraction": 0.3988450765609741,
         "_deepnote_index_column": 66162
        },
        {
         "void_fraction": 0.5090727806091309,
         "_deepnote_index_column": 66163
        },
        {
         "void_fraction": 0.5205054879188538,
         "_deepnote_index_column": 66164
        },
        {
         "void_fraction": 0.5205738544464111,
         "_deepnote_index_column": 66165
        },
        {
         "void_fraction": 0.5167031288146973,
         "_deepnote_index_column": 66166
        },
        {
         "void_fraction": 0.5189347267150879,
         "_deepnote_index_column": 66167
        },
        {
         "void_fraction": 0.3594256043434143,
         "_deepnote_index_column": 66168
        },
        {
         "void_fraction": 0.5191895365715027,
         "_deepnote_index_column": 66169
        },
        {
         "void_fraction": 0.5189568996429443,
         "_deepnote_index_column": 66170
        },
        {
         "void_fraction": 0.3301941454410553,
         "_deepnote_index_column": 66171
        },
        {
         "void_fraction": 0.5096722841262817,
         "_deepnote_index_column": 66172
        },
        {
         "void_fraction": 0.3971734941005707,
         "_deepnote_index_column": 66173
        },
        {
         "void_fraction": 0.4524060785770416,
         "_deepnote_index_column": 66174
        },
        {
         "void_fraction": 0.5191588401794434,
         "_deepnote_index_column": 66175
        },
        {
         "void_fraction": 0.5090625286102295,
         "_deepnote_index_column": 66176
        },
        {
         "void_fraction": 0.5215325951576233,
         "_deepnote_index_column": 66177
        },
        {
         "void_fraction": 0.4873071312904358,
         "_deepnote_index_column": 66179
        },
        {
         "void_fraction": 0.5116816163063049,
         "_deepnote_index_column": 66181
        },
        {
         "void_fraction": 0.5157752633094788,
         "_deepnote_index_column": 66183
        },
        {
         "void_fraction": 0.5106358528137207,
         "_deepnote_index_column": 66184
        },
        {
         "void_fraction": 0.5062452554702759,
         "_deepnote_index_column": 66185
        },
        {
         "void_fraction": 0.5112794637680054,
         "_deepnote_index_column": 66186
        },
        {
         "void_fraction": 0.5178375244140625,
         "_deepnote_index_column": 66187
        },
        {
         "void_fraction": 0.5198442935943604,
         "_deepnote_index_column": 66188
        },
        {
         "void_fraction": 0.509608268737793,
         "_deepnote_index_column": 66189
        },
        {
         "void_fraction": 0.5197358727455139,
         "_deepnote_index_column": 66190
        },
        {
         "void_fraction": 0.5083642601966858,
         "_deepnote_index_column": 66191
        },
        {
         "void_fraction": 0.33886170387268066,
         "_deepnote_index_column": 66192
        },
        {
         "void_fraction": 0.5111903548240662,
         "_deepnote_index_column": 66193
        },
        {
         "void_fraction": 0.520987331867218,
         "_deepnote_index_column": 66194
        },
        {
         "void_fraction": 0.5014793276786804,
         "_deepnote_index_column": 66195
        },
        {
         "void_fraction": 0.4614490270614624,
         "_deepnote_index_column": 66196
        },
        {
         "void_fraction": 0.5201703310012817,
         "_deepnote_index_column": 66197
        },
        {
         "void_fraction": 0.3124193251132965,
         "_deepnote_index_column": 66198
        },
        {
         "void_fraction": 0.5212973952293396,
         "_deepnote_index_column": 66199
        },
        {
         "void_fraction": 0.22637519240379333,
         "_deepnote_index_column": 66201
        },
        {
         "void_fraction": 0.500719428062439,
         "_deepnote_index_column": 66202
        },
        {
         "void_fraction": 0.5030613541603088,
         "_deepnote_index_column": 66203
        },
        {
         "void_fraction": 0.5199308395385742,
         "_deepnote_index_column": 66204
        },
        {
         "void_fraction": 0.5202197432518005,
         "_deepnote_index_column": 66205
        },
        {
         "void_fraction": 0.5202231407165527,
         "_deepnote_index_column": 66206
        },
        {
         "void_fraction": 0.5145758986473083,
         "_deepnote_index_column": 66208
        },
        {
         "void_fraction": 0.5191630721092224,
         "_deepnote_index_column": 66209
        },
        {
         "void_fraction": 0.48515594005584717,
         "_deepnote_index_column": 66210
        },
        {
         "void_fraction": 0.5140681266784668,
         "_deepnote_index_column": 66211
        },
        {
         "void_fraction": 0.5213054418563843,
         "_deepnote_index_column": 66212
        },
        {
         "void_fraction": 0.5192217826843262,
         "_deepnote_index_column": 66213
        },
        {
         "void_fraction": 0.5110484957695007,
         "_deepnote_index_column": 66214
        },
        {
         "void_fraction": 0.5003625154495239,
         "_deepnote_index_column": 66215
        },
        {
         "void_fraction": 0.5202714204788208,
         "_deepnote_index_column": 66216
        },
        {
         "void_fraction": 0.31668686866760254,
         "_deepnote_index_column": 66217
        },
        {
         "void_fraction": 0.5197914838790894,
         "_deepnote_index_column": 66218
        },
        {
         "void_fraction": 0.5028492212295532,
         "_deepnote_index_column": 66219
        },
        {
         "void_fraction": 0.4815483093261719,
         "_deepnote_index_column": 66220
        },
        {
         "void_fraction": 0.47299185395240784,
         "_deepnote_index_column": 66221
        },
        {
         "void_fraction": 0.5203839540481567,
         "_deepnote_index_column": 66222
        },
        {
         "void_fraction": 0.5064646005630493,
         "_deepnote_index_column": 66223
        },
        {
         "void_fraction": 0.5132083892822266,
         "_deepnote_index_column": 66224
        },
        {
         "void_fraction": 0.19228994846343994,
         "_deepnote_index_column": 66225
        },
        {
         "void_fraction": 0.378112256526947,
         "_deepnote_index_column": 66226
        },
        {
         "void_fraction": 0.4951198697090149,
         "_deepnote_index_column": 66227
        },
        {
         "void_fraction": 0.5142301321029663,
         "_deepnote_index_column": 66228
        },
        {
         "void_fraction": 0.3011711835861206,
         "_deepnote_index_column": 66229
        },
        {
         "void_fraction": 0.5139891505241394,
         "_deepnote_index_column": 66230
        },
        {
         "void_fraction": 0.5202984809875488,
         "_deepnote_index_column": 66231
        },
        {
         "void_fraction": 0.4874577224254608,
         "_deepnote_index_column": 66232
        },
        {
         "void_fraction": 0.5121628046035767,
         "_deepnote_index_column": 66233
        },
        {
         "void_fraction": 0.5176735520362854,
         "_deepnote_index_column": 66234
        },
        {
         "void_fraction": 0.4534660577774048,
         "_deepnote_index_column": 66235
        },
        {
         "void_fraction": 0.5073123574256897,
         "_deepnote_index_column": 66236
        },
        {
         "void_fraction": 0.35596099495887756,
         "_deepnote_index_column": 66237
        },
        {
         "void_fraction": 0.5114216804504395,
         "_deepnote_index_column": 66238
        },
        {
         "void_fraction": 0.4824979901313782,
         "_deepnote_index_column": 66239
        },
        {
         "void_fraction": 0.5165044069290161,
         "_deepnote_index_column": 66240
        },
        {
         "void_fraction": 0.5047372579574585,
         "_deepnote_index_column": 66241
        },
        {
         "void_fraction": 0.5188766121864319,
         "_deepnote_index_column": 66242
        },
        {
         "void_fraction": 0.4382360279560089,
         "_deepnote_index_column": 66243
        },
        {
         "void_fraction": 0.508215606212616,
         "_deepnote_index_column": 66244
        },
        {
         "void_fraction": 0.31160590052604675,
         "_deepnote_index_column": 66245
        },
        {
         "void_fraction": 0.47652894258499146,
         "_deepnote_index_column": 66246
        },
        {
         "void_fraction": 0.5060285925865173,
         "_deepnote_index_column": 66247
        },
        {
         "void_fraction": 0.5183992981910706,
         "_deepnote_index_column": 66248
        },
        {
         "void_fraction": 0.49615997076034546,
         "_deepnote_index_column": 66249
        },
        {
         "void_fraction": 0.49490004777908325,
         "_deepnote_index_column": 66250
        },
        {
         "void_fraction": 0.5214536190032959,
         "_deepnote_index_column": 66251
        },
        {
         "void_fraction": 0.5205837488174438,
         "_deepnote_index_column": 66252
        },
        {
         "void_fraction": 0.5086641907691956,
         "_deepnote_index_column": 66253
        },
        {
         "void_fraction": 0.5130830407142639,
         "_deepnote_index_column": 66254
        },
        {
         "void_fraction": 0.5084139108657837,
         "_deepnote_index_column": 66255
        },
        {
         "void_fraction": 0.5084682106971741,
         "_deepnote_index_column": 66256
        },
        {
         "void_fraction": 0.5162978768348694,
         "_deepnote_index_column": 66257
        },
        {
         "void_fraction": 0.40861061215400696,
         "_deepnote_index_column": 66258
        },
        {
         "void_fraction": 0.5156913995742798,
         "_deepnote_index_column": 66259
        },
        {
         "void_fraction": 0.48756417632102966,
         "_deepnote_index_column": 66260
        },
        {
         "void_fraction": 0.5191089510917664,
         "_deepnote_index_column": 66261
        },
        {
         "void_fraction": 0.5075398683547974,
         "_deepnote_index_column": 66262
        },
        {
         "void_fraction": 0.5120473504066467,
         "_deepnote_index_column": 66263
        },
        {
         "void_fraction": 0.49795082211494446,
         "_deepnote_index_column": 66264
        },
        {
         "void_fraction": 0.5215169191360474,
         "_deepnote_index_column": 66265
        },
        {
         "void_fraction": 0.4658915400505066,
         "_deepnote_index_column": 66266
        },
        {
         "void_fraction": 0.5140464901924133,
         "_deepnote_index_column": 66267
        },
        {
         "void_fraction": 0.5208913683891296,
         "_deepnote_index_column": 66268
        },
        {
         "void_fraction": 0.5005951523780823,
         "_deepnote_index_column": 66269
        },
        {
         "void_fraction": 0.5053601861000061,
         "_deepnote_index_column": 66270
        },
        {
         "void_fraction": 0.5203673243522644,
         "_deepnote_index_column": 66271
        },
        {
         "void_fraction": 0.5160483717918396,
         "_deepnote_index_column": 66272
        },
        {
         "void_fraction": 0.47608450055122375,
         "_deepnote_index_column": 66273
        },
        {
         "void_fraction": 0.4798226058483124,
         "_deepnote_index_column": 66274
        },
        {
         "void_fraction": 0.429146409034729,
         "_deepnote_index_column": 66275
        },
        {
         "void_fraction": 0.509541392326355,
         "_deepnote_index_column": 66276
        },
        {
         "void_fraction": 0.45186108350753784,
         "_deepnote_index_column": 66277
        },
        {
         "void_fraction": 0.515272319316864,
         "_deepnote_index_column": 66278
        },
        {
         "void_fraction": 0.4832809567451477,
         "_deepnote_index_column": 66279
        },
        {
         "void_fraction": 0.5205833911895752,
         "_deepnote_index_column": 66280
        },
        {
         "void_fraction": 0.20411765575408936,
         "_deepnote_index_column": 66282
        },
        {
         "void_fraction": 0.49958887696266174,
         "_deepnote_index_column": 66283
        },
        {
         "void_fraction": 0.4569515585899353,
         "_deepnote_index_column": 66284
        },
        {
         "void_fraction": 0.518694281578064,
         "_deepnote_index_column": 66285
        },
        {
         "void_fraction": 0.5044338703155518,
         "_deepnote_index_column": 66286
        },
        {
         "void_fraction": 0.31973642110824585,
         "_deepnote_index_column": 66287
        },
        {
         "void_fraction": 0.5130608081817627,
         "_deepnote_index_column": 66288
        },
        {
         "void_fraction": 0.3929239511489868,
         "_deepnote_index_column": 66289
        },
        {
         "void_fraction": 0.5214947462081909,
         "_deepnote_index_column": 66290
        },
        {
         "void_fraction": 0.3873831033706665,
         "_deepnote_index_column": 66291
        },
        {
         "void_fraction": 0.5075609087944031,
         "_deepnote_index_column": 66292
        },
        {
         "void_fraction": 0.4996701180934906,
         "_deepnote_index_column": 66293
        },
        {
         "void_fraction": 0.38263821601867676,
         "_deepnote_index_column": 66294
        },
        {
         "void_fraction": 0.47775784134864807,
         "_deepnote_index_column": 66295
        },
        {
         "void_fraction": 0.5062977075576782,
         "_deepnote_index_column": 66296
        },
        {
         "void_fraction": 0.5088303089141846,
         "_deepnote_index_column": 66297
        },
        {
         "void_fraction": 0.507047712802887,
         "_deepnote_index_column": 66298
        },
        {
         "void_fraction": 0.4923102557659149,
         "_deepnote_index_column": 66299
        },
        {
         "void_fraction": 0.4833362400531769,
         "_deepnote_index_column": 66300
        },
        {
         "void_fraction": 0.4982432425022125,
         "_deepnote_index_column": 66301
        },
        {
         "void_fraction": 0.5024782419204712,
         "_deepnote_index_column": 66302
        },
        {
         "void_fraction": 0.5102404356002808,
         "_deepnote_index_column": 66303
        },
        {
         "void_fraction": 0.4996114671230316,
         "_deepnote_index_column": 66304
        },
        {
         "void_fraction": 0.5174146890640259,
         "_deepnote_index_column": 66305
        },
        {
         "void_fraction": 0.5205689072608948,
         "_deepnote_index_column": 66306
        },
        {
         "void_fraction": 0.5088001489639282,
         "_deepnote_index_column": 66307
        },
        {
         "void_fraction": 0.520486056804657,
         "_deepnote_index_column": 66308
        },
        {
         "void_fraction": 0.500105619430542,
         "_deepnote_index_column": 66309
        },
        {
         "void_fraction": 0.5204854011535645,
         "_deepnote_index_column": 66310
        },
        {
         "void_fraction": 0.5162634253501892,
         "_deepnote_index_column": 66311
        },
        {
         "void_fraction": 0.5168806910514832,
         "_deepnote_index_column": 66313
        },
        {
         "void_fraction": 0.5001963376998901,
         "_deepnote_index_column": 66314
        },
        {
         "void_fraction": 0.23253172636032104,
         "_deepnote_index_column": 66315
        },
        {
         "void_fraction": 0.4497748017311096,
         "_deepnote_index_column": 66316
        },
        {
         "void_fraction": 0.5179823637008667,
         "_deepnote_index_column": 66317
        },
        {
         "void_fraction": 0.5116007328033447,
         "_deepnote_index_column": 66318
        },
        {
         "void_fraction": 0.5181456804275513,
         "_deepnote_index_column": 66319
        },
        {
         "void_fraction": 0.5207354426383972,
         "_deepnote_index_column": 66320
        },
        {
         "void_fraction": 0.5155931115150452,
         "_deepnote_index_column": 66321
        },
        {
         "void_fraction": 0.49657267332077026,
         "_deepnote_index_column": 66322
        },
        {
         "void_fraction": 0.5112890005111694,
         "_deepnote_index_column": 66323
        },
        {
         "void_fraction": 0.5131462216377258,
         "_deepnote_index_column": 66324
        },
        {
         "void_fraction": 0.5162513256072998,
         "_deepnote_index_column": 66325
        },
        {
         "void_fraction": 0.5198512077331543,
         "_deepnote_index_column": 66326
        },
        {
         "void_fraction": 0.36325934529304504,
         "_deepnote_index_column": 66327
        },
        {
         "void_fraction": 0.5211881399154663,
         "_deepnote_index_column": 66329
        },
        {
         "void_fraction": 0.5202040672302246,
         "_deepnote_index_column": 66330
        },
        {
         "void_fraction": 0.47272223234176636,
         "_deepnote_index_column": 66331
        },
        {
         "void_fraction": 0.5038079023361206,
         "_deepnote_index_column": 66332
        },
        {
         "void_fraction": 0.3868732750415802,
         "_deepnote_index_column": 66333
        },
        {
         "void_fraction": 0.5022740364074707,
         "_deepnote_index_column": 66334
        },
        {
         "void_fraction": 0.5207905173301697,
         "_deepnote_index_column": 66335
        },
        {
         "void_fraction": 0.21631169319152832,
         "_deepnote_index_column": 66336
        },
        {
         "void_fraction": 0.5162647366523743,
         "_deepnote_index_column": 66337
        },
        {
         "void_fraction": 0.5210632681846619,
         "_deepnote_index_column": 66338
        },
        {
         "void_fraction": 0.5207299590110779,
         "_deepnote_index_column": 66339
        },
        {
         "void_fraction": 0.3371443748474121,
         "_deepnote_index_column": 66340
        },
        {
         "void_fraction": 0.5017387270927429,
         "_deepnote_index_column": 66341
        },
        {
         "void_fraction": 0.5047960877418518,
         "_deepnote_index_column": 66342
        },
        {
         "void_fraction": 0.5126929879188538,
         "_deepnote_index_column": 66343
        },
        {
         "void_fraction": 0.5127476453781128,
         "_deepnote_index_column": 66344
        },
        {
         "void_fraction": 0.5201495289802551,
         "_deepnote_index_column": 66345
        },
        {
         "void_fraction": 0.5018210411071777,
         "_deepnote_index_column": 66346
        },
        {
         "void_fraction": 0.4965340495109558,
         "_deepnote_index_column": 66347
        },
        {
         "void_fraction": 0.5185861587524414,
         "_deepnote_index_column": 66348
        },
        {
         "void_fraction": 0.5214904546737671,
         "_deepnote_index_column": 66350
        },
        {
         "void_fraction": 0.5094760656356812,
         "_deepnote_index_column": 66351
        },
        {
         "void_fraction": 0.5207622647285461,
         "_deepnote_index_column": 66352
        },
        {
         "void_fraction": 0.5162602066993713,
         "_deepnote_index_column": 66353
        },
        {
         "void_fraction": 0.5098167657852173,
         "_deepnote_index_column": 66354
        },
        {
         "void_fraction": 0.5150256752967834,
         "_deepnote_index_column": 66355
        },
        {
         "void_fraction": 0.4883815348148346,
         "_deepnote_index_column": 66356
        },
        {
         "void_fraction": 0.5207386016845703,
         "_deepnote_index_column": 66357
        },
        {
         "void_fraction": 0.48748451471328735,
         "_deepnote_index_column": 66358
        },
        {
         "void_fraction": 0.40239259600639343,
         "_deepnote_index_column": 66359
        },
        {
         "void_fraction": 0.5048350095748901,
         "_deepnote_index_column": 66360
        },
        {
         "void_fraction": 0.5194382667541504,
         "_deepnote_index_column": 66361
        },
        {
         "void_fraction": 0.5099287033081055,
         "_deepnote_index_column": 66362
        },
        {
         "void_fraction": 0.5113201141357422,
         "_deepnote_index_column": 66363
        },
        {
         "void_fraction": 0.511307954788208,
         "_deepnote_index_column": 66364
        },
        {
         "void_fraction": 0.49889156222343445,
         "_deepnote_index_column": 66365
        },
        {
         "void_fraction": 0.25833651423454285,
         "_deepnote_index_column": 66366
        },
        {
         "void_fraction": 0.23982948064804077,
         "_deepnote_index_column": 66367
        },
        {
         "void_fraction": 0.5148768424987793,
         "_deepnote_index_column": 66368
        },
        {
         "void_fraction": 0.48732319474220276,
         "_deepnote_index_column": 66369
        },
        {
         "void_fraction": 0.5094841122627258,
         "_deepnote_index_column": 66370
        },
        {
         "void_fraction": 0.5213973522186279,
         "_deepnote_index_column": 66371
        },
        {
         "void_fraction": 0.44827187061309814,
         "_deepnote_index_column": 66372
        },
        {
         "void_fraction": 0.5111920237541199,
         "_deepnote_index_column": 66373
        },
        {
         "void_fraction": 0.5185455083847046,
         "_deepnote_index_column": 66374
        },
        {
         "void_fraction": 0.5175175070762634,
         "_deepnote_index_column": 66375
        },
        {
         "void_fraction": 0.5126630067825317,
         "_deepnote_index_column": 66376
        },
        {
         "void_fraction": 0.5198062658309937,
         "_deepnote_index_column": 66377
        },
        {
         "void_fraction": 0.504940927028656,
         "_deepnote_index_column": 66378
        },
        {
         "void_fraction": 0.5190724730491638,
         "_deepnote_index_column": 66379
        },
        {
         "void_fraction": 0.5133163332939148,
         "_deepnote_index_column": 66380
        },
        {
         "void_fraction": 0.5150100588798523,
         "_deepnote_index_column": 66381
        },
        {
         "void_fraction": 0.5152751207351685,
         "_deepnote_index_column": 66382
        },
        {
         "void_fraction": 0.22166991233825684,
         "_deepnote_index_column": 66383
        },
        {
         "void_fraction": 0.512055516242981,
         "_deepnote_index_column": 66384
        },
        {
         "void_fraction": 0.500781774520874,
         "_deepnote_index_column": 66385
        },
        {
         "void_fraction": 0.2742023468017578,
         "_deepnote_index_column": 66386
        },
        {
         "void_fraction": 0.5140830278396606,
         "_deepnote_index_column": 66387
        },
        {
         "void_fraction": 0.5103230476379395,
         "_deepnote_index_column": 66388
        },
        {
         "void_fraction": 0.18893298506736755,
         "_deepnote_index_column": 66389
        },
        {
         "void_fraction": 0.5117816925048828,
         "_deepnote_index_column": 66390
        },
        {
         "void_fraction": 0.5117160677909851,
         "_deepnote_index_column": 66391
        },
        {
         "void_fraction": 0.5004230737686157,
         "_deepnote_index_column": 66392
        },
        {
         "void_fraction": 0.5204777717590332,
         "_deepnote_index_column": 66393
        },
        {
         "void_fraction": 0.5105317831039429,
         "_deepnote_index_column": 66394
        },
        {
         "void_fraction": 0.5125275254249573,
         "_deepnote_index_column": 66395
        },
        {
         "void_fraction": 0.5052216053009033,
         "_deepnote_index_column": 66396
        },
        {
         "void_fraction": 0.27978724241256714,
         "_deepnote_index_column": 66397
        },
        {
         "void_fraction": 0.4706673324108124,
         "_deepnote_index_column": 66398
        },
        {
         "void_fraction": 0.48895931243896484,
         "_deepnote_index_column": 66400
        },
        {
         "void_fraction": 0.514090895652771,
         "_deepnote_index_column": 66401
        },
        {
         "void_fraction": 0.3772508502006531,
         "_deepnote_index_column": 66402
        },
        {
         "void_fraction": 0.5144776105880737,
         "_deepnote_index_column": 66403
        },
        {
         "void_fraction": 0.4487024247646332,
         "_deepnote_index_column": 66404
        },
        {
         "void_fraction": 0.3269747495651245,
         "_deepnote_index_column": 66405
        },
        {
         "void_fraction": 0.5154721736907959,
         "_deepnote_index_column": 66406
        },
        {
         "void_fraction": 0.5203363299369812,
         "_deepnote_index_column": 66407
        },
        {
         "void_fraction": 0.5144463181495667,
         "_deepnote_index_column": 66408
        },
        {
         "void_fraction": 0.5170273780822754,
         "_deepnote_index_column": 66409
        },
        {
         "void_fraction": 0.4728749096393585,
         "_deepnote_index_column": 66410
        },
        {
         "void_fraction": 0.47875505685806274,
         "_deepnote_index_column": 66411
        },
        {
         "void_fraction": 0.5104689002037048,
         "_deepnote_index_column": 66412
        },
        {
         "void_fraction": 0.5012414455413818,
         "_deepnote_index_column": 66413
        },
        {
         "void_fraction": 0.5192692279815674,
         "_deepnote_index_column": 66414
        },
        {
         "void_fraction": 0.5189375281333923,
         "_deepnote_index_column": 66415
        },
        {
         "void_fraction": 0.4812103807926178,
         "_deepnote_index_column": 66416
        },
        {
         "void_fraction": 0.5188298225402832,
         "_deepnote_index_column": 66417
        },
        {
         "void_fraction": 0.3360997438430786,
         "_deepnote_index_column": 66418
        },
        {
         "void_fraction": 0.35621243715286255,
         "_deepnote_index_column": 66420
        },
        {
         "void_fraction": 0.45181596279144287,
         "_deepnote_index_column": 66421
        },
        {
         "void_fraction": 0.5147374272346497,
         "_deepnote_index_column": 66422
        },
        {
         "void_fraction": 0.5122686624526978,
         "_deepnote_index_column": 66423
        },
        {
         "void_fraction": 0.48310068249702454,
         "_deepnote_index_column": 66424
        },
        {
         "void_fraction": 0.5144054293632507,
         "_deepnote_index_column": 66425
        },
        {
         "void_fraction": 0.5188630819320679,
         "_deepnote_index_column": 66427
        },
        {
         "void_fraction": 0.5208384990692139,
         "_deepnote_index_column": 66428
        },
        {
         "void_fraction": 0.5189526081085205,
         "_deepnote_index_column": 66429
        },
        {
         "void_fraction": 0.5158993005752563,
         "_deepnote_index_column": 66430
        },
        {
         "void_fraction": 0.5022327899932861,
         "_deepnote_index_column": 66431
        },
        {
         "void_fraction": 0.4862493872642517,
         "_deepnote_index_column": 66432
        },
        {
         "void_fraction": 0.5215606689453125,
         "_deepnote_index_column": 66433
        },
        {
         "void_fraction": 0.5193727016448975,
         "_deepnote_index_column": 66434
        },
        {
         "void_fraction": 0.5168270468711853,
         "_deepnote_index_column": 66435
        },
        {
         "void_fraction": 0.5135561227798462,
         "_deepnote_index_column": 66436
        },
        {
         "void_fraction": 0.512317955493927,
         "_deepnote_index_column": 66437
        },
        {
         "void_fraction": 0.49603813886642456,
         "_deepnote_index_column": 66438
        },
        {
         "void_fraction": 0.5204929113388062,
         "_deepnote_index_column": 66439
        },
        {
         "void_fraction": 0.5170970559120178,
         "_deepnote_index_column": 66441
        },
        {
         "void_fraction": 0.3212665319442749,
         "_deepnote_index_column": 66442
        },
        {
         "void_fraction": 0.5192302465438843,
         "_deepnote_index_column": 66443
        },
        {
         "void_fraction": 0.5187664031982422,
         "_deepnote_index_column": 66444
        },
        {
         "void_fraction": 0.47856810688972473,
         "_deepnote_index_column": 66445
        },
        {
         "void_fraction": 0.5214145183563232,
         "_deepnote_index_column": 66447
        },
        {
         "void_fraction": 0.4674292802810669,
         "_deepnote_index_column": 66448
        },
        {
         "void_fraction": 0.5216180086135864,
         "_deepnote_index_column": 66449
        },
        {
         "void_fraction": 0.36748501658439636,
         "_deepnote_index_column": 66450
        },
        {
         "void_fraction": 0.5214613080024719,
         "_deepnote_index_column": 66451
        },
        {
         "void_fraction": 0.5189275741577148,
         "_deepnote_index_column": 66452
        },
        {
         "void_fraction": 0.519039511680603,
         "_deepnote_index_column": 66453
        },
        {
         "void_fraction": 0.5203770995140076,
         "_deepnote_index_column": 66454
        },
        {
         "void_fraction": 0.5216065645217896,
         "_deepnote_index_column": 66455
        },
        {
         "void_fraction": 0.5129148364067078,
         "_deepnote_index_column": 66456
        },
        {
         "void_fraction": 0.32135528326034546,
         "_deepnote_index_column": 66457
        },
        {
         "void_fraction": 0.5065894722938538,
         "_deepnote_index_column": 66458
        },
        {
         "void_fraction": 0.5205579400062561,
         "_deepnote_index_column": 66459
        },
        {
         "void_fraction": 0.5127655863761902,
         "_deepnote_index_column": 66460
        },
        {
         "void_fraction": 0.2046739161014557,
         "_deepnote_index_column": 66461
        },
        {
         "void_fraction": 0.46562182903289795,
         "_deepnote_index_column": 66462
        },
        {
         "void_fraction": 0.5171396136283875,
         "_deepnote_index_column": 66463
        },
        {
         "void_fraction": 0.4916154146194458,
         "_deepnote_index_column": 66464
        },
        {
         "void_fraction": 0.511055052280426,
         "_deepnote_index_column": 66465
        },
        {
         "void_fraction": 0.5179086923599243,
         "_deepnote_index_column": 66466
        },
        {
         "void_fraction": 0.5149036645889282,
         "_deepnote_index_column": 66467
        },
        {
         "void_fraction": 0.4755280017852783,
         "_deepnote_index_column": 66468
        },
        {
         "void_fraction": 0.47573065757751465,
         "_deepnote_index_column": 66469
        },
        {
         "void_fraction": 0.5046308040618896,
         "_deepnote_index_column": 66470
        },
        {
         "void_fraction": 0.5209402441978455,
         "_deepnote_index_column": 66471
        },
        {
         "void_fraction": 0.5103645324707031,
         "_deepnote_index_column": 66472
        },
        {
         "void_fraction": 0.5047727227210999,
         "_deepnote_index_column": 66473
        },
        {
         "void_fraction": 0.5119518637657166,
         "_deepnote_index_column": 66474
        },
        {
         "void_fraction": 0.5088391900062561,
         "_deepnote_index_column": 66475
        },
        {
         "void_fraction": 0.49282941222190857,
         "_deepnote_index_column": 66476
        },
        {
         "void_fraction": 0.5185973048210144,
         "_deepnote_index_column": 66477
        },
        {
         "void_fraction": 0.5209177136421204,
         "_deepnote_index_column": 66478
        },
        {
         "void_fraction": 0.253957599401474,
         "_deepnote_index_column": 66480
        },
        {
         "void_fraction": 0.5186372995376587,
         "_deepnote_index_column": 66481
        },
        {
         "void_fraction": 0.45064741373062134,
         "_deepnote_index_column": 66482
        },
        {
         "void_fraction": 0.49853697419166565,
         "_deepnote_index_column": 66483
        },
        {
         "void_fraction": 0.5143852233886719,
         "_deepnote_index_column": 66484
        },
        {
         "void_fraction": 0.3128244876861572,
         "_deepnote_index_column": 66485
        },
        {
         "void_fraction": 0.521202564239502,
         "_deepnote_index_column": 66486
        },
        {
         "void_fraction": 0.49113374948501587,
         "_deepnote_index_column": 66487
        },
        {
         "void_fraction": 0.5216447710990906,
         "_deepnote_index_column": 66488
        },
        {
         "void_fraction": 0.27904045581817627,
         "_deepnote_index_column": 66489
        },
        {
         "void_fraction": 0.5188506245613098,
         "_deepnote_index_column": 66490
        },
        {
         "void_fraction": 0.5203279256820679,
         "_deepnote_index_column": 66491
        },
        {
         "void_fraction": 0.5211971998214722,
         "_deepnote_index_column": 66492
        },
        {
         "void_fraction": 0.5004003643989563,
         "_deepnote_index_column": 66493
        },
        {
         "void_fraction": 0.5213295221328735,
         "_deepnote_index_column": 66494
        },
        {
         "void_fraction": 0.51015305519104,
         "_deepnote_index_column": 66495
        },
        {
         "void_fraction": 0.4432348310947418,
         "_deepnote_index_column": 66496
        },
        {
         "void_fraction": 0.5204063057899475,
         "_deepnote_index_column": 66497
        },
        {
         "void_fraction": 0.1800779402256012,
         "_deepnote_index_column": 66498
        },
        {
         "void_fraction": 0.5207890272140503,
         "_deepnote_index_column": 66499
        },
        {
         "void_fraction": 0.5191308259963989,
         "_deepnote_index_column": 66500
        },
        {
         "void_fraction": 0.499864399433136,
         "_deepnote_index_column": 66501
        },
        {
         "void_fraction": 0.5075395107269287,
         "_deepnote_index_column": 66502
        },
        {
         "void_fraction": 0.5044732093811035,
         "_deepnote_index_column": 66503
        },
        {
         "void_fraction": 0.5180886387825012,
         "_deepnote_index_column": 66504
        },
        {
         "void_fraction": 0.512672483921051,
         "_deepnote_index_column": 66505
        },
        {
         "void_fraction": 0.516541600227356,
         "_deepnote_index_column": 66506
        },
        {
         "void_fraction": 0.21752676367759705,
         "_deepnote_index_column": 66507
        },
        {
         "void_fraction": 0.5203234553337097,
         "_deepnote_index_column": 66508
        },
        {
         "void_fraction": 0.5156847238540649,
         "_deepnote_index_column": 66509
        },
        {
         "void_fraction": 0.33726876974105835,
         "_deepnote_index_column": 66510
        },
        {
         "void_fraction": 0.5213088393211365,
         "_deepnote_index_column": 66511
        },
        {
         "void_fraction": 0.5200631022453308,
         "_deepnote_index_column": 66512
        },
        {
         "void_fraction": 0.5213488936424255,
         "_deepnote_index_column": 66513
        },
        {
         "void_fraction": 0.5199530124664307,
         "_deepnote_index_column": 66514
        },
        {
         "void_fraction": 0.5126400589942932,
         "_deepnote_index_column": 66515
        },
        {
         "void_fraction": 0.4591349959373474,
         "_deepnote_index_column": 66516
        },
        {
         "void_fraction": 0.514405369758606,
         "_deepnote_index_column": 66517
        },
        {
         "void_fraction": 0.5175672173500061,
         "_deepnote_index_column": 66518
        },
        {
         "void_fraction": 0.5086340308189392,
         "_deepnote_index_column": 66519
        },
        {
         "void_fraction": 0.1963742971420288,
         "_deepnote_index_column": 66520
        },
        {
         "void_fraction": 0.5201749801635742,
         "_deepnote_index_column": 66521
        },
        {
         "void_fraction": 0.5180023312568665,
         "_deepnote_index_column": 66522
        },
        {
         "void_fraction": 0.5197961926460266,
         "_deepnote_index_column": 66523
        },
        {
         "void_fraction": 0.5144858956336975,
         "_deepnote_index_column": 66524
        }
       ]
      },
      "text/plain": "            void_fraction\nUnnamed: 0               \n47630            0.388589\n47631            0.273713\n47632            0.347425\n47633            0.194464\n47635            0.391269\n...                   ...\n66520            0.196374\n66521            0.520175\n66522            0.518002\n66523            0.519796\n66524            0.514486\n\n[16134 rows x 1 columns]",
      "text/html": "<div>\n<style scoped>\n    .dataframe tbody tr th:only-of-type {\n        vertical-align: middle;\n    }\n\n    .dataframe tbody tr th {\n        vertical-align: top;\n    }\n\n    .dataframe thead th {\n        text-align: right;\n    }\n</style>\n<table border=\"1\" class=\"dataframe\">\n  <thead>\n    <tr style=\"text-align: right;\">\n      <th></th>\n      <th>void_fraction</th>\n    </tr>\n    <tr>\n      <th>Unnamed: 0</th>\n      <th></th>\n    </tr>\n  </thead>\n  <tbody>\n    <tr>\n      <th>47630</th>\n      <td>0.388589</td>\n    </tr>\n    <tr>\n      <th>47631</th>\n      <td>0.273713</td>\n    </tr>\n    <tr>\n      <th>47632</th>\n      <td>0.347425</td>\n    </tr>\n    <tr>\n      <th>47633</th>\n      <td>0.194464</td>\n    </tr>\n    <tr>\n      <th>47635</th>\n      <td>0.391269</td>\n    </tr>\n    <tr>\n      <th>...</th>\n      <td>...</td>\n    </tr>\n    <tr>\n      <th>66520</th>\n      <td>0.196374</td>\n    </tr>\n    <tr>\n      <th>66521</th>\n      <td>0.520175</td>\n    </tr>\n    <tr>\n      <th>66522</th>\n      <td>0.518002</td>\n    </tr>\n    <tr>\n      <th>66523</th>\n      <td>0.519796</td>\n    </tr>\n    <tr>\n      <th>66524</th>\n      <td>0.514486</td>\n    </tr>\n  </tbody>\n</table>\n<p>16134 rows × 1 columns</p>\n</div>"
     },
     "metadata": {}
    }
   ]
  },
  {
   "cell_type": "code",
   "metadata": {
    "tags": [],
    "cell_id": "00004-55bd3d1c-3a2a-4120-a233-ad68d9949662",
    "deepnote_to_be_reexecuted": false,
    "source_hash": "d0da0c84",
    "execution_start": 1632502152435,
    "execution_millis": 0,
    "deepnote_cell_type": "code"
   },
   "source": "mean_absolute_error(\n    (prediction[\"void_fraction\"]) ,\n    (y_test[\"void_fraction\"])\n)",
   "execution_count": null,
   "outputs": [
    {
     "output_type": "execute_result",
     "execution_count": 5,
     "data": {
      "text/plain": "0.06739468527089239"
     },
     "metadata": {}
    }
   ]
  },
  {
   "cell_type": "code",
   "metadata": {
    "tags": [],
    "cell_id": "00005-32516a70-3336-469e-83ad-d3f668f5b13f",
    "deepnote_to_be_reexecuted": false,
    "source_hash": "b6ca6b37",
    "execution_start": 1632502152436,
    "execution_millis": 83,
    "deepnote_cell_type": "code"
   },
   "source": "max(np.abs(prediction[\"void_fraction\"] - y_test[\"void_fraction\"]))",
   "execution_count": null,
   "outputs": [
    {
     "output_type": "execute_result",
     "execution_count": 6,
     "data": {
      "text/plain": "0.5810849476051332"
     },
     "metadata": {}
    }
   ]
  },
  {
   "cell_type": "code",
   "metadata": {
    "tags": [],
    "cell_id": "00005-21370841-4fce-4e0c-9942-e09ab6b14a60",
    "deepnote_to_be_reexecuted": false,
    "source_hash": "4c77c66c",
    "execution_start": 1632502152437,
    "execution_millis": 82,
    "deepnote_cell_type": "code"
   },
   "source": "y_test[[\"void_fraction\"]]",
   "execution_count": null,
   "outputs": [
    {
     "output_type": "execute_result",
     "execution_count": 7,
     "data": {
      "application/vnd.deepnote.dataframe.v2+json": {
       "row_count": 16134,
       "column_count": 1,
       "columns": [
        {
         "name": "void_fraction",
         "dtype": "float64",
         "stats": {
          "unique_count": 14285,
          "nan_count": 0,
          "min": "0.03773",
          "max": "0.87206",
          "histogram": [
           {
            "bin_start": 0.03773,
            "bin_end": 0.12116299999999999,
            "count": 600
           },
           {
            "bin_start": 0.12116299999999999,
            "bin_end": 0.204596,
            "count": 2250
           },
           {
            "bin_start": 0.204596,
            "bin_end": 0.288029,
            "count": 3079
           },
           {
            "bin_start": 0.288029,
            "bin_end": 0.37146199999999996,
            "count": 2657
           },
           {
            "bin_start": 0.37146199999999996,
            "bin_end": 0.45489499999999994,
            "count": 1746
           },
           {
            "bin_start": 0.45489499999999994,
            "bin_end": 0.538328,
            "count": 1428
           },
           {
            "bin_start": 0.538328,
            "bin_end": 0.621761,
            "count": 1757
           },
           {
            "bin_start": 0.621761,
            "bin_end": 0.705194,
            "count": 1588
           },
           {
            "bin_start": 0.705194,
            "bin_end": 0.788627,
            "count": 743
           },
           {
            "bin_start": 0.788627,
            "bin_end": 0.87206,
            "count": 286
           }
          ]
         }
        },
        {
         "name": "_deepnote_index_column",
         "dtype": "int64"
        }
       ],
       "rows_top": [
        {
         "void_fraction": 0.3629699999999999,
         "_deepnote_index_column": 47630
        },
        {
         "void_fraction": 0.22833,
         "_deepnote_index_column": 47631
        },
        {
         "void_fraction": 0.3532,
         "_deepnote_index_column": 47632
        },
        {
         "void_fraction": 0.1497499999999999,
         "_deepnote_index_column": 47633
        },
        {
         "void_fraction": 0.36629,
         "_deepnote_index_column": 47635
        },
        {
         "void_fraction": 0.07327,
         "_deepnote_index_column": 47638
        },
        {
         "void_fraction": 0.2569599999999999,
         "_deepnote_index_column": 47639
        },
        {
         "void_fraction": 0.41393,
         "_deepnote_index_column": 47640
        },
        {
         "void_fraction": 0.3326899999999999,
         "_deepnote_index_column": 47641
        },
        {
         "void_fraction": 0.3683599999999999,
         "_deepnote_index_column": 47642
        },
        {
         "void_fraction": 0.19749,
         "_deepnote_index_column": 47643
        },
        {
         "void_fraction": 0.0822999999999999,
         "_deepnote_index_column": 47644
        },
        {
         "void_fraction": 0.1668,
         "_deepnote_index_column": 47645
        },
        {
         "void_fraction": 0.2698999999999999,
         "_deepnote_index_column": 47646
        },
        {
         "void_fraction": 0.34855,
         "_deepnote_index_column": 47647
        },
        {
         "void_fraction": 0.5347199999999999,
         "_deepnote_index_column": 47648
        },
        {
         "void_fraction": 0.3425199999999999,
         "_deepnote_index_column": 47649
        },
        {
         "void_fraction": 0.1084799999999999,
         "_deepnote_index_column": 47653
        },
        {
         "void_fraction": 0.2814599999999999,
         "_deepnote_index_column": 47654
        },
        {
         "void_fraction": 0.1420599999999999,
         "_deepnote_index_column": 47655
        },
        {
         "void_fraction": 0.1329299999999999,
         "_deepnote_index_column": 47656
        },
        {
         "void_fraction": 0.2268999999999999,
         "_deepnote_index_column": 47657
        },
        {
         "void_fraction": 0.17249,
         "_deepnote_index_column": 47658
        },
        {
         "void_fraction": 0.17652,
         "_deepnote_index_column": 47659
        },
        {
         "void_fraction": 0.2025799999999999,
         "_deepnote_index_column": 47660
        },
        {
         "void_fraction": 0.3084399999999999,
         "_deepnote_index_column": 47661
        },
        {
         "void_fraction": 0.2777699999999999,
         "_deepnote_index_column": 47662
        },
        {
         "void_fraction": 0.29601,
         "_deepnote_index_column": 47663
        },
        {
         "void_fraction": 0.1923,
         "_deepnote_index_column": 47665
        },
        {
         "void_fraction": 0.2947599999999999,
         "_deepnote_index_column": 47666
        },
        {
         "void_fraction": 0.42101,
         "_deepnote_index_column": 47667
        },
        {
         "void_fraction": 0.2081099999999999,
         "_deepnote_index_column": 47668
        },
        {
         "void_fraction": 0.4348699999999999,
         "_deepnote_index_column": 47669
        },
        {
         "void_fraction": 0.2806099999999999,
         "_deepnote_index_column": 47671
        },
        {
         "void_fraction": 0.3034699999999999,
         "_deepnote_index_column": 47673
        },
        {
         "void_fraction": 0.34005,
         "_deepnote_index_column": 47674
        },
        {
         "void_fraction": 0.3264699999999999,
         "_deepnote_index_column": 47675
        },
        {
         "void_fraction": 0.29365,
         "_deepnote_index_column": 47676
        },
        {
         "void_fraction": 0.2624199999999999,
         "_deepnote_index_column": 47677
        },
        {
         "void_fraction": 0.2952199999999999,
         "_deepnote_index_column": 47678
        },
        {
         "void_fraction": 0.4088399999999999,
         "_deepnote_index_column": 47679
        },
        {
         "void_fraction": 0.22524,
         "_deepnote_index_column": 47680
        },
        {
         "void_fraction": 0.24059,
         "_deepnote_index_column": 47681
        },
        {
         "void_fraction": 0.23945,
         "_deepnote_index_column": 47682
        },
        {
         "void_fraction": 0.4578399999999999,
         "_deepnote_index_column": 47683
        },
        {
         "void_fraction": 0.25144,
         "_deepnote_index_column": 47684
        },
        {
         "void_fraction": 0.21414,
         "_deepnote_index_column": 47685
        },
        {
         "void_fraction": 0.3029699999999999,
         "_deepnote_index_column": 47686
        },
        {
         "void_fraction": 0.2641999999999999,
         "_deepnote_index_column": 47687
        },
        {
         "void_fraction": 0.14102,
         "_deepnote_index_column": 47690
        },
        {
         "void_fraction": 0.38479,
         "_deepnote_index_column": 47691
        },
        {
         "void_fraction": 0.3507099999999999,
         "_deepnote_index_column": 47692
        },
        {
         "void_fraction": 0.12359,
         "_deepnote_index_column": 47694
        },
        {
         "void_fraction": 0.30928,
         "_deepnote_index_column": 47695
        },
        {
         "void_fraction": 0.12212,
         "_deepnote_index_column": 47696
        },
        {
         "void_fraction": 0.29265,
         "_deepnote_index_column": 47697
        },
        {
         "void_fraction": 0.15559,
         "_deepnote_index_column": 47699
        },
        {
         "void_fraction": 0.18489,
         "_deepnote_index_column": 47701
        },
        {
         "void_fraction": 0.37139,
         "_deepnote_index_column": 47702
        },
        {
         "void_fraction": 0.2815199999999999,
         "_deepnote_index_column": 47703
        },
        {
         "void_fraction": 0.40442,
         "_deepnote_index_column": 47704
        },
        {
         "void_fraction": 0.3101999999999999,
         "_deepnote_index_column": 47706
        },
        {
         "void_fraction": 0.3015599999999999,
         "_deepnote_index_column": 47707
        },
        {
         "void_fraction": 0.2439699999999999,
         "_deepnote_index_column": 47708
        },
        {
         "void_fraction": 0.2779599999999999,
         "_deepnote_index_column": 47709
        },
        {
         "void_fraction": 0.3448699999999999,
         "_deepnote_index_column": 47710
        },
        {
         "void_fraction": 0.4091699999999999,
         "_deepnote_index_column": 47711
        },
        {
         "void_fraction": 0.26168,
         "_deepnote_index_column": 47712
        },
        {
         "void_fraction": 0.25318,
         "_deepnote_index_column": 47713
        },
        {
         "void_fraction": 0.39382,
         "_deepnote_index_column": 47714
        },
        {
         "void_fraction": 0.2472599999999999,
         "_deepnote_index_column": 47715
        },
        {
         "void_fraction": 0.3237599999999999,
         "_deepnote_index_column": 47716
        },
        {
         "void_fraction": 0.2321,
         "_deepnote_index_column": 47717
        },
        {
         "void_fraction": 0.37529,
         "_deepnote_index_column": 47719
        },
        {
         "void_fraction": 0.2369099999999999,
         "_deepnote_index_column": 47720
        },
        {
         "void_fraction": 0.18209,
         "_deepnote_index_column": 47721
        },
        {
         "void_fraction": 0.21093,
         "_deepnote_index_column": 47724
        },
        {
         "void_fraction": 0.2837299999999999,
         "_deepnote_index_column": 47725
        },
        {
         "void_fraction": 0.29901,
         "_deepnote_index_column": 47726
        },
        {
         "void_fraction": 0.35414,
         "_deepnote_index_column": 47727
        },
        {
         "void_fraction": 0.30286,
         "_deepnote_index_column": 47728
        },
        {
         "void_fraction": 0.35181,
         "_deepnote_index_column": 47730
        },
        {
         "void_fraction": 0.37558,
         "_deepnote_index_column": 47731
        },
        {
         "void_fraction": 0.31301,
         "_deepnote_index_column": 47735
        },
        {
         "void_fraction": 0.20905,
         "_deepnote_index_column": 47737
        },
        {
         "void_fraction": 0.1039,
         "_deepnote_index_column": 47738
        },
        {
         "void_fraction": 0.0826699999999999,
         "_deepnote_index_column": 47739
        },
        {
         "void_fraction": 0.2642399999999999,
         "_deepnote_index_column": 47740
        },
        {
         "void_fraction": 0.5464899999999999,
         "_deepnote_index_column": 47741
        },
        {
         "void_fraction": 0.21545,
         "_deepnote_index_column": 47742
        },
        {
         "void_fraction": 0.33015,
         "_deepnote_index_column": 47743
        },
        {
         "void_fraction": 0.30158,
         "_deepnote_index_column": 47746
        },
        {
         "void_fraction": 0.3438399999999999,
         "_deepnote_index_column": 47747
        },
        {
         "void_fraction": 0.32832,
         "_deepnote_index_column": 47748
        },
        {
         "void_fraction": 0.32445,
         "_deepnote_index_column": 47749
        },
        {
         "void_fraction": 0.24969,
         "_deepnote_index_column": 47750
        },
        {
         "void_fraction": 0.3647699999999999,
         "_deepnote_index_column": 47752
        },
        {
         "void_fraction": 0.21288,
         "_deepnote_index_column": 47753
        },
        {
         "void_fraction": 0.2303099999999999,
         "_deepnote_index_column": 47754
        },
        {
         "void_fraction": 0.2654199999999999,
         "_deepnote_index_column": 47755
        },
        {
         "void_fraction": 0.10865,
         "_deepnote_index_column": 47756
        },
        {
         "void_fraction": 0.28544,
         "_deepnote_index_column": 47757
        },
        {
         "void_fraction": 0.3420699999999999,
         "_deepnote_index_column": 47758
        },
        {
         "void_fraction": 0.3155899999999999,
         "_deepnote_index_column": 47761
        },
        {
         "void_fraction": 0.2681899999999999,
         "_deepnote_index_column": 47762
        },
        {
         "void_fraction": 0.19094,
         "_deepnote_index_column": 47763
        },
        {
         "void_fraction": 0.2794099999999999,
         "_deepnote_index_column": 47766
        },
        {
         "void_fraction": 0.4225999999999999,
         "_deepnote_index_column": 47767
        },
        {
         "void_fraction": 0.1318,
         "_deepnote_index_column": 47768
        },
        {
         "void_fraction": 0.0999599999999999,
         "_deepnote_index_column": 47769
        },
        {
         "void_fraction": 0.17,
         "_deepnote_index_column": 47770
        },
        {
         "void_fraction": 0.3593799999999999,
         "_deepnote_index_column": 47771
        },
        {
         "void_fraction": 0.4143999999999999,
         "_deepnote_index_column": 47772
        },
        {
         "void_fraction": 0.38078,
         "_deepnote_index_column": 47773
        },
        {
         "void_fraction": 0.11285,
         "_deepnote_index_column": 47774
        },
        {
         "void_fraction": 0.3521099999999999,
         "_deepnote_index_column": 47775
        },
        {
         "void_fraction": 0.35929,
         "_deepnote_index_column": 47777
        },
        {
         "void_fraction": 0.12808,
         "_deepnote_index_column": 47778
        },
        {
         "void_fraction": 0.12741,
         "_deepnote_index_column": 47781
        },
        {
         "void_fraction": 0.28076,
         "_deepnote_index_column": 47782
        },
        {
         "void_fraction": 0.18093,
         "_deepnote_index_column": 47783
        },
        {
         "void_fraction": 0.4811099999999999,
         "_deepnote_index_column": 47784
        },
        {
         "void_fraction": 0.18833,
         "_deepnote_index_column": 47785
        },
        {
         "void_fraction": 0.19991,
         "_deepnote_index_column": 47787
        },
        {
         "void_fraction": 0.2959,
         "_deepnote_index_column": 47788
        },
        {
         "void_fraction": 0.2939499999999999,
         "_deepnote_index_column": 47789
        },
        {
         "void_fraction": 0.1519599999999999,
         "_deepnote_index_column": 47790
        },
        {
         "void_fraction": 0.1993699999999999,
         "_deepnote_index_column": 47791
        },
        {
         "void_fraction": 0.30459,
         "_deepnote_index_column": 47792
        },
        {
         "void_fraction": 0.1604799999999999,
         "_deepnote_index_column": 47797
        },
        {
         "void_fraction": 0.2787199999999999,
         "_deepnote_index_column": 47799
        },
        {
         "void_fraction": 0.3268699999999999,
         "_deepnote_index_column": 47800
        },
        {
         "void_fraction": 0.3821999999999999,
         "_deepnote_index_column": 47802
        },
        {
         "void_fraction": 0.3085999999999999,
         "_deepnote_index_column": 47804
        },
        {
         "void_fraction": 0.22323,
         "_deepnote_index_column": 47806
        },
        {
         "void_fraction": 0.28099,
         "_deepnote_index_column": 47807
        },
        {
         "void_fraction": 0.3039199999999999,
         "_deepnote_index_column": 47808
        },
        {
         "void_fraction": 0.2125699999999999,
         "_deepnote_index_column": 47809
        },
        {
         "void_fraction": 0.2545899999999999,
         "_deepnote_index_column": 47810
        },
        {
         "void_fraction": 0.40903,
         "_deepnote_index_column": 47811
        },
        {
         "void_fraction": 0.27371,
         "_deepnote_index_column": 47812
        },
        {
         "void_fraction": 0.17352,
         "_deepnote_index_column": 47813
        },
        {
         "void_fraction": 0.19205,
         "_deepnote_index_column": 47814
        },
        {
         "void_fraction": 0.2504199999999999,
         "_deepnote_index_column": 47815
        },
        {
         "void_fraction": 0.39278,
         "_deepnote_index_column": 47817
        },
        {
         "void_fraction": 0.31894,
         "_deepnote_index_column": 47818
        },
        {
         "void_fraction": 0.15509,
         "_deepnote_index_column": 47819
        },
        {
         "void_fraction": 0.31973,
         "_deepnote_index_column": 47822
        },
        {
         "void_fraction": 0.2801699999999999,
         "_deepnote_index_column": 47823
        },
        {
         "void_fraction": 0.25473,
         "_deepnote_index_column": 47824
        },
        {
         "void_fraction": 0.2295,
         "_deepnote_index_column": 47825
        },
        {
         "void_fraction": 0.16033,
         "_deepnote_index_column": 47827
        },
        {
         "void_fraction": 0.1420299999999999,
         "_deepnote_index_column": 47828
        },
        {
         "void_fraction": 0.1503799999999999,
         "_deepnote_index_column": 47830
        },
        {
         "void_fraction": 0.3103299999999999,
         "_deepnote_index_column": 47831
        },
        {
         "void_fraction": 0.20158,
         "_deepnote_index_column": 47832
        },
        {
         "void_fraction": 0.4237699999999999,
         "_deepnote_index_column": 47833
        },
        {
         "void_fraction": 0.3725999999999999,
         "_deepnote_index_column": 47834
        },
        {
         "void_fraction": 0.35893,
         "_deepnote_index_column": 47835
        },
        {
         "void_fraction": 0.3371199999999999,
         "_deepnote_index_column": 47836
        },
        {
         "void_fraction": 0.1904899999999999,
         "_deepnote_index_column": 47837
        },
        {
         "void_fraction": 0.50655,
         "_deepnote_index_column": 47838
        },
        {
         "void_fraction": 0.1693599999999999,
         "_deepnote_index_column": 47839
        },
        {
         "void_fraction": 0.4647199999999999,
         "_deepnote_index_column": 47840
        },
        {
         "void_fraction": 0.22395,
         "_deepnote_index_column": 47841
        },
        {
         "void_fraction": 0.11778,
         "_deepnote_index_column": 47842
        },
        {
         "void_fraction": 0.35363,
         "_deepnote_index_column": 47843
        },
        {
         "void_fraction": 0.23555,
         "_deepnote_index_column": 47844
        },
        {
         "void_fraction": 0.1872099999999999,
         "_deepnote_index_column": 47845
        },
        {
         "void_fraction": 0.2939399999999999,
         "_deepnote_index_column": 47846
        },
        {
         "void_fraction": 0.3109199999999999,
         "_deepnote_index_column": 47847
        },
        {
         "void_fraction": 0.18586,
         "_deepnote_index_column": 47848
        },
        {
         "void_fraction": 0.32826,
         "_deepnote_index_column": 47849
        },
        {
         "void_fraction": 0.2394099999999999,
         "_deepnote_index_column": 47850
        },
        {
         "void_fraction": 0.4135099999999999,
         "_deepnote_index_column": 47851
        },
        {
         "void_fraction": 0.4071099999999999,
         "_deepnote_index_column": 47852
        },
        {
         "void_fraction": 0.19388,
         "_deepnote_index_column": 47853
        },
        {
         "void_fraction": 0.2343199999999998,
         "_deepnote_index_column": 47854
        },
        {
         "void_fraction": 0.2840199999999999,
         "_deepnote_index_column": 47857
        },
        {
         "void_fraction": 0.1529899999999999,
         "_deepnote_index_column": 47859
        },
        {
         "void_fraction": 0.2497999999999999,
         "_deepnote_index_column": 47863
        },
        {
         "void_fraction": 0.27828,
         "_deepnote_index_column": 47865
        },
        {
         "void_fraction": 0.14404,
         "_deepnote_index_column": 47866
        },
        {
         "void_fraction": 0.34298,
         "_deepnote_index_column": 47867
        },
        {
         "void_fraction": 0.22846,
         "_deepnote_index_column": 47868
        },
        {
         "void_fraction": 0.15173,
         "_deepnote_index_column": 47869
        },
        {
         "void_fraction": 0.4399199999999999,
         "_deepnote_index_column": 47870
        },
        {
         "void_fraction": 0.1194799999999999,
         "_deepnote_index_column": 47871
        },
        {
         "void_fraction": 0.2305099999999999,
         "_deepnote_index_column": 47872
        },
        {
         "void_fraction": 0.30413,
         "_deepnote_index_column": 47873
        },
        {
         "void_fraction": 0.33609,
         "_deepnote_index_column": 47874
        },
        {
         "void_fraction": 0.20377,
         "_deepnote_index_column": 47875
        },
        {
         "void_fraction": 0.1255,
         "_deepnote_index_column": 47877
        },
        {
         "void_fraction": 0.27209,
         "_deepnote_index_column": 47878
        },
        {
         "void_fraction": 0.4093,
         "_deepnote_index_column": 47879
        },
        {
         "void_fraction": 0.2222599999999999,
         "_deepnote_index_column": 47880
        },
        {
         "void_fraction": 0.1113599999999999,
         "_deepnote_index_column": 47881
        },
        {
         "void_fraction": 0.35158,
         "_deepnote_index_column": 47882
        },
        {
         "void_fraction": 0.4116199999999999,
         "_deepnote_index_column": 47884
        },
        {
         "void_fraction": 0.40586,
         "_deepnote_index_column": 47885
        },
        {
         "void_fraction": 0.2928999999999999,
         "_deepnote_index_column": 47886
        },
        {
         "void_fraction": 0.21174,
         "_deepnote_index_column": 47887
        },
        {
         "void_fraction": 0.3225399999999999,
         "_deepnote_index_column": 47889
        },
        {
         "void_fraction": 0.32129,
         "_deepnote_index_column": 47890
        },
        {
         "void_fraction": 0.28508,
         "_deepnote_index_column": 47891
        },
        {
         "void_fraction": 0.30084,
         "_deepnote_index_column": 47892
        },
        {
         "void_fraction": 0.3825699999999999,
         "_deepnote_index_column": 47894
        },
        {
         "void_fraction": 0.3214599999999999,
         "_deepnote_index_column": 47895
        },
        {
         "void_fraction": 0.38174,
         "_deepnote_index_column": 47896
        },
        {
         "void_fraction": 0.17984,
         "_deepnote_index_column": 47897
        },
        {
         "void_fraction": 0.16696,
         "_deepnote_index_column": 47898
        },
        {
         "void_fraction": 0.09496,
         "_deepnote_index_column": 47900
        },
        {
         "void_fraction": 0.2928,
         "_deepnote_index_column": 47901
        },
        {
         "void_fraction": 0.2056399999999999,
         "_deepnote_index_column": 47902
        },
        {
         "void_fraction": 0.24204,
         "_deepnote_index_column": 47903
        },
        {
         "void_fraction": 0.1636499999999999,
         "_deepnote_index_column": 47904
        },
        {
         "void_fraction": 0.24448,
         "_deepnote_index_column": 47906
        },
        {
         "void_fraction": 0.37969,
         "_deepnote_index_column": 47908
        },
        {
         "void_fraction": 0.2039199999999999,
         "_deepnote_index_column": 47909
        },
        {
         "void_fraction": 0.1602099999999999,
         "_deepnote_index_column": 47911
        },
        {
         "void_fraction": 0.2491299999999999,
         "_deepnote_index_column": 47912
        },
        {
         "void_fraction": 0.3029999999999999,
         "_deepnote_index_column": 47913
        },
        {
         "void_fraction": 0.18783,
         "_deepnote_index_column": 47914
        },
        {
         "void_fraction": 0.1609799999999999,
         "_deepnote_index_column": 47916
        },
        {
         "void_fraction": 0.34974,
         "_deepnote_index_column": 47917
        },
        {
         "void_fraction": 0.1843799999999999,
         "_deepnote_index_column": 47918
        },
        {
         "void_fraction": 0.4791399999999999,
         "_deepnote_index_column": 47919
        },
        {
         "void_fraction": 0.3976299999999999,
         "_deepnote_index_column": 47920
        },
        {
         "void_fraction": 0.3197099999999999,
         "_deepnote_index_column": 47921
        },
        {
         "void_fraction": 0.25923,
         "_deepnote_index_column": 47922
        },
        {
         "void_fraction": 0.2735199999999999,
         "_deepnote_index_column": 47924
        },
        {
         "void_fraction": 0.33682,
         "_deepnote_index_column": 47925
        },
        {
         "void_fraction": 0.3913099999999999,
         "_deepnote_index_column": 47926
        },
        {
         "void_fraction": 0.36607,
         "_deepnote_index_column": 47927
        },
        {
         "void_fraction": 0.20057,
         "_deepnote_index_column": 47928
        },
        {
         "void_fraction": 0.3956699999999999,
         "_deepnote_index_column": 47929
        },
        {
         "void_fraction": 0.15037,
         "_deepnote_index_column": 47930
        },
        {
         "void_fraction": 0.18525,
         "_deepnote_index_column": 47931
        },
        {
         "void_fraction": 0.3959199999999999,
         "_deepnote_index_column": 47932
        },
        {
         "void_fraction": 0.44263,
         "_deepnote_index_column": 47933
        },
        {
         "void_fraction": 0.2092499999999999,
         "_deepnote_index_column": 47934
        },
        {
         "void_fraction": 0.12053,
         "_deepnote_index_column": 47936
        },
        {
         "void_fraction": 0.1832099999999999,
         "_deepnote_index_column": 47941
        },
        {
         "void_fraction": 0.2366599999999999,
         "_deepnote_index_column": 47942
        },
        {
         "void_fraction": 0.2625799999999999,
         "_deepnote_index_column": 47945
        },
        {
         "void_fraction": 0.28597,
         "_deepnote_index_column": 47946
        },
        {
         "void_fraction": 0.3254199999999999,
         "_deepnote_index_column": 47947
        },
        {
         "void_fraction": 0.31317,
         "_deepnote_index_column": 47948
        },
        {
         "void_fraction": 0.3590499999999999,
         "_deepnote_index_column": 47949
        },
        {
         "void_fraction": 0.2514099999999999,
         "_deepnote_index_column": 47950
        },
        {
         "void_fraction": 0.2255999999999999,
         "_deepnote_index_column": 47951
        },
        {
         "void_fraction": 0.4468399999999999,
         "_deepnote_index_column": 47952
        },
        {
         "void_fraction": 0.1625999999999999,
         "_deepnote_index_column": 47953
        },
        {
         "void_fraction": 0.1612299999999999,
         "_deepnote_index_column": 47954
        },
        {
         "void_fraction": 0.27094,
         "_deepnote_index_column": 47955
        },
        {
         "void_fraction": 0.1666799999999999,
         "_deepnote_index_column": 47957
        },
        {
         "void_fraction": 0.25439,
         "_deepnote_index_column": 47958
        },
        {
         "void_fraction": 0.16244,
         "_deepnote_index_column": 47959
        },
        {
         "void_fraction": 0.3371,
         "_deepnote_index_column": 47961
        },
        {
         "void_fraction": 0.1378399999999999,
         "_deepnote_index_column": 47962
        },
        {
         "void_fraction": 0.3250299999999999,
         "_deepnote_index_column": 47964
        },
        {
         "void_fraction": 0.25466,
         "_deepnote_index_column": 47966
        },
        {
         "void_fraction": 0.20909,
         "_deepnote_index_column": 47967
        },
        {
         "void_fraction": 0.1060599999999999,
         "_deepnote_index_column": 47968
        },
        {
         "void_fraction": 0.2852,
         "_deepnote_index_column": 47970
        },
        {
         "void_fraction": 0.12059,
         "_deepnote_index_column": 47971
        },
        {
         "void_fraction": 0.30951,
         "_deepnote_index_column": 47972
        },
        {
         "void_fraction": 0.31169,
         "_deepnote_index_column": 47974
        },
        {
         "void_fraction": 0.3849699999999999,
         "_deepnote_index_column": 47975
        },
        {
         "void_fraction": 0.2491899999999999,
         "_deepnote_index_column": 47976
        },
        {
         "void_fraction": 0.2765099999999999,
         "_deepnote_index_column": 47977
        },
        {
         "void_fraction": 0.3891699999999999,
         "_deepnote_index_column": 47979
        },
        {
         "void_fraction": 0.3752099999999999,
         "_deepnote_index_column": 47980
        },
        {
         "void_fraction": 0.50041,
         "_deepnote_index_column": 47982
        },
        {
         "void_fraction": 0.54498,
         "_deepnote_index_column": 47983
        },
        {
         "void_fraction": 0.20719,
         "_deepnote_index_column": 47984
        },
        {
         "void_fraction": 0.14168,
         "_deepnote_index_column": 47985
        },
        {
         "void_fraction": 0.1636099999999998,
         "_deepnote_index_column": 47986
        },
        {
         "void_fraction": 0.2187599999999999,
         "_deepnote_index_column": 47987
        },
        {
         "void_fraction": 0.17047,
         "_deepnote_index_column": 47988
        },
        {
         "void_fraction": 0.42535,
         "_deepnote_index_column": 47989
        },
        {
         "void_fraction": 0.15322,
         "_deepnote_index_column": 47990
        },
        {
         "void_fraction": 0.33032,
         "_deepnote_index_column": 47992
        },
        {
         "void_fraction": 0.3583199999999999,
         "_deepnote_index_column": 47993
        },
        {
         "void_fraction": 0.3334599999999999,
         "_deepnote_index_column": 47994
        },
        {
         "void_fraction": 0.2361099999999999,
         "_deepnote_index_column": 47997
        },
        {
         "void_fraction": 0.2209899999999999,
         "_deepnote_index_column": 47998
        },
        {
         "void_fraction": 0.35818,
         "_deepnote_index_column": 47999
        },
        {
         "void_fraction": 0.25984,
         "_deepnote_index_column": 48000
        },
        {
         "void_fraction": 0.27771,
         "_deepnote_index_column": 48001
        },
        {
         "void_fraction": 0.16352,
         "_deepnote_index_column": 48002
        },
        {
         "void_fraction": 0.2229299999999999,
         "_deepnote_index_column": 48003
        },
        {
         "void_fraction": 0.2911099999999999,
         "_deepnote_index_column": 48004
        },
        {
         "void_fraction": 0.14779,
         "_deepnote_index_column": 48005
        },
        {
         "void_fraction": 0.26533,
         "_deepnote_index_column": 48006
        },
        {
         "void_fraction": 0.3642199999999999,
         "_deepnote_index_column": 48007
        },
        {
         "void_fraction": 0.2132599999999998,
         "_deepnote_index_column": 48008
        },
        {
         "void_fraction": 0.1806,
         "_deepnote_index_column": 48009
        },
        {
         "void_fraction": 0.18199,
         "_deepnote_index_column": 48010
        },
        {
         "void_fraction": 0.25501,
         "_deepnote_index_column": 48011
        },
        {
         "void_fraction": 0.1603,
         "_deepnote_index_column": 48012
        },
        {
         "void_fraction": 0.24559,
         "_deepnote_index_column": 48013
        },
        {
         "void_fraction": 0.31269,
         "_deepnote_index_column": 48014
        },
        {
         "void_fraction": 0.40686,
         "_deepnote_index_column": 48015
        },
        {
         "void_fraction": 0.2750099999999999,
         "_deepnote_index_column": 48017
        },
        {
         "void_fraction": 0.1992799999999999,
         "_deepnote_index_column": 48018
        },
        {
         "void_fraction": 0.42413,
         "_deepnote_index_column": 48019
        },
        {
         "void_fraction": 0.3493399999999999,
         "_deepnote_index_column": 48020
        },
        {
         "void_fraction": 0.23654,
         "_deepnote_index_column": 48023
        },
        {
         "void_fraction": 0.31075,
         "_deepnote_index_column": 48026
        },
        {
         "void_fraction": 0.1913099999999999,
         "_deepnote_index_column": 48028
        },
        {
         "void_fraction": 0.2706399999999999,
         "_deepnote_index_column": 48029
        },
        {
         "void_fraction": 0.25982,
         "_deepnote_index_column": 48030
        },
        {
         "void_fraction": 0.1838299999999999,
         "_deepnote_index_column": 48033
        },
        {
         "void_fraction": 0.4294899999999999,
         "_deepnote_index_column": 48034
        },
        {
         "void_fraction": 0.2528799999999999,
         "_deepnote_index_column": 48035
        },
        {
         "void_fraction": 0.1735299999999999,
         "_deepnote_index_column": 48036
        },
        {
         "void_fraction": 0.2651199999999999,
         "_deepnote_index_column": 48037
        },
        {
         "void_fraction": 0.2276199999999999,
         "_deepnote_index_column": 48038
        },
        {
         "void_fraction": 0.15778,
         "_deepnote_index_column": 48039
        },
        {
         "void_fraction": 0.40339,
         "_deepnote_index_column": 48040
        },
        {
         "void_fraction": 0.1466699999999999,
         "_deepnote_index_column": 48042
        },
        {
         "void_fraction": 0.25568,
         "_deepnote_index_column": 48045
        },
        {
         "void_fraction": 0.3219099999999999,
         "_deepnote_index_column": 48046
        },
        {
         "void_fraction": 0.2285199999999998,
         "_deepnote_index_column": 48047
        },
        {
         "void_fraction": 0.4027699999999999,
         "_deepnote_index_column": 48048
        },
        {
         "void_fraction": 0.42841,
         "_deepnote_index_column": 48049
        },
        {
         "void_fraction": 0.1933199999999999,
         "_deepnote_index_column": 48050
        },
        {
         "void_fraction": 0.2099699999999999,
         "_deepnote_index_column": 48051
        },
        {
         "void_fraction": 0.1652,
         "_deepnote_index_column": 48052
        },
        {
         "void_fraction": 0.33294,
         "_deepnote_index_column": 48053
        },
        {
         "void_fraction": 0.2886699999999999,
         "_deepnote_index_column": 48054
        },
        {
         "void_fraction": 0.26715,
         "_deepnote_index_column": 48055
        },
        {
         "void_fraction": 0.3172599999999999,
         "_deepnote_index_column": 48056
        },
        {
         "void_fraction": 0.4042199999999999,
         "_deepnote_index_column": 48057
        },
        {
         "void_fraction": 0.2753499999999999,
         "_deepnote_index_column": 48058
        },
        {
         "void_fraction": 0.20599,
         "_deepnote_index_column": 48059
        },
        {
         "void_fraction": 0.36835,
         "_deepnote_index_column": 48060
        },
        {
         "void_fraction": 0.2691899999999999,
         "_deepnote_index_column": 48061
        },
        {
         "void_fraction": 0.2350699999999998,
         "_deepnote_index_column": 48062
        },
        {
         "void_fraction": 0.23844,
         "_deepnote_index_column": 48063
        },
        {
         "void_fraction": 0.30114,
         "_deepnote_index_column": 48064
        },
        {
         "void_fraction": 0.1352299999999999,
         "_deepnote_index_column": 48065
        },
        {
         "void_fraction": 0.4274999999999999,
         "_deepnote_index_column": 48066
        },
        {
         "void_fraction": 0.19559,
         "_deepnote_index_column": 48067
        },
        {
         "void_fraction": 0.26211,
         "_deepnote_index_column": 48068
        },
        {
         "void_fraction": 0.43445,
         "_deepnote_index_column": 48069
        },
        {
         "void_fraction": 0.1579299999999999,
         "_deepnote_index_column": 48070
        },
        {
         "void_fraction": 0.3301999999999999,
         "_deepnote_index_column": 48071
        },
        {
         "void_fraction": 0.1886299999999999,
         "_deepnote_index_column": 48072
        },
        {
         "void_fraction": 0.3100699999999999,
         "_deepnote_index_column": 48073
        },
        {
         "void_fraction": 0.1331799999999999,
         "_deepnote_index_column": 48075
        },
        {
         "void_fraction": 0.4421999999999999,
         "_deepnote_index_column": 48076
        },
        {
         "void_fraction": 0.1431599999999999,
         "_deepnote_index_column": 48077
        },
        {
         "void_fraction": 0.32528,
         "_deepnote_index_column": 48078
        },
        {
         "void_fraction": 0.1908099999999999,
         "_deepnote_index_column": 48079
        },
        {
         "void_fraction": 0.34948,
         "_deepnote_index_column": 48081
        },
        {
         "void_fraction": 0.35857,
         "_deepnote_index_column": 48082
        },
        {
         "void_fraction": 0.3939699999999999,
         "_deepnote_index_column": 48083
        },
        {
         "void_fraction": 0.17602,
         "_deepnote_index_column": 48084
        },
        {
         "void_fraction": 0.1975099999999999,
         "_deepnote_index_column": 48085
        },
        {
         "void_fraction": 0.16062,
         "_deepnote_index_column": 48086
        },
        {
         "void_fraction": 0.2829999999999999,
         "_deepnote_index_column": 48087
        },
        {
         "void_fraction": 0.38101,
         "_deepnote_index_column": 48088
        },
        {
         "void_fraction": 0.3698699999999999,
         "_deepnote_index_column": 48090
        },
        {
         "void_fraction": 0.5146699999999998,
         "_deepnote_index_column": 48091
        },
        {
         "void_fraction": 0.31985,
         "_deepnote_index_column": 48092
        },
        {
         "void_fraction": 0.19377,
         "_deepnote_index_column": 48093
        },
        {
         "void_fraction": 0.2692499999999999,
         "_deepnote_index_column": 48094
        },
        {
         "void_fraction": 0.1073299999999999,
         "_deepnote_index_column": 48095
        },
        {
         "void_fraction": 0.2539299999999999,
         "_deepnote_index_column": 48096
        },
        {
         "void_fraction": 0.13452,
         "_deepnote_index_column": 48097
        },
        {
         "void_fraction": 0.0753599999999999,
         "_deepnote_index_column": 48098
        },
        {
         "void_fraction": 0.3915299999999999,
         "_deepnote_index_column": 48100
        },
        {
         "void_fraction": 0.27281,
         "_deepnote_index_column": 48102
        },
        {
         "void_fraction": 0.30828,
         "_deepnote_index_column": 48103
        },
        {
         "void_fraction": 0.38106,
         "_deepnote_index_column": 48106
        },
        {
         "void_fraction": 0.33005,
         "_deepnote_index_column": 48107
        },
        {
         "void_fraction": 0.4101699999999999,
         "_deepnote_index_column": 48108
        },
        {
         "void_fraction": 0.1825799999999999,
         "_deepnote_index_column": 48109
        },
        {
         "void_fraction": 0.30264,
         "_deepnote_index_column": 48110
        },
        {
         "void_fraction": 0.23985,
         "_deepnote_index_column": 48111
        },
        {
         "void_fraction": 0.1834299999999999,
         "_deepnote_index_column": 48113
        },
        {
         "void_fraction": 0.1638699999999999,
         "_deepnote_index_column": 48116
        },
        {
         "void_fraction": 0.23513,
         "_deepnote_index_column": 48117
        },
        {
         "void_fraction": 0.21704,
         "_deepnote_index_column": 48118
        },
        {
         "void_fraction": 0.3813199999999999,
         "_deepnote_index_column": 48119
        },
        {
         "void_fraction": 0.4198199999999999,
         "_deepnote_index_column": 48120
        },
        {
         "void_fraction": 0.14737,
         "_deepnote_index_column": 48122
        },
        {
         "void_fraction": 0.22875,
         "_deepnote_index_column": 48123
        },
        {
         "void_fraction": 0.3966199999999999,
         "_deepnote_index_column": 48125
        },
        {
         "void_fraction": 0.26611,
         "_deepnote_index_column": 48126
        },
        {
         "void_fraction": 0.3717599999999999,
         "_deepnote_index_column": 48127
        },
        {
         "void_fraction": 0.17885,
         "_deepnote_index_column": 48128
        },
        {
         "void_fraction": 0.3078199999999999,
         "_deepnote_index_column": 48129
        },
        {
         "void_fraction": 0.15009,
         "_deepnote_index_column": 48130
        },
        {
         "void_fraction": 0.3930699999999999,
         "_deepnote_index_column": 48131
        },
        {
         "void_fraction": 0.2107,
         "_deepnote_index_column": 48132
        },
        {
         "void_fraction": 0.1609599999999999,
         "_deepnote_index_column": 48133
        },
        {
         "void_fraction": 0.23948,
         "_deepnote_index_column": 48135
        },
        {
         "void_fraction": 0.23773,
         "_deepnote_index_column": 48136
        },
        {
         "void_fraction": 0.2765699999999999,
         "_deepnote_index_column": 48137
        },
        {
         "void_fraction": 0.2064,
         "_deepnote_index_column": 48138
        },
        {
         "void_fraction": 0.3437999999999999,
         "_deepnote_index_column": 48139
        },
        {
         "void_fraction": 0.25316,
         "_deepnote_index_column": 48140
        },
        {
         "void_fraction": 0.27499,
         "_deepnote_index_column": 48142
        },
        {
         "void_fraction": 0.4217099999999999,
         "_deepnote_index_column": 48143
        },
        {
         "void_fraction": 0.2881199999999999,
         "_deepnote_index_column": 48144
        },
        {
         "void_fraction": 0.21955,
         "_deepnote_index_column": 48146
        },
        {
         "void_fraction": 0.18812,
         "_deepnote_index_column": 48147
        },
        {
         "void_fraction": 0.2304699999999999,
         "_deepnote_index_column": 48148
        },
        {
         "void_fraction": 0.23046,
         "_deepnote_index_column": 48150
        },
        {
         "void_fraction": 0.1542999999999999,
         "_deepnote_index_column": 48152
        },
        {
         "void_fraction": 0.1655899999999999,
         "_deepnote_index_column": 48153
        },
        {
         "void_fraction": 0.32689,
         "_deepnote_index_column": 48155
        },
        {
         "void_fraction": 0.48252,
         "_deepnote_index_column": 48157
        },
        {
         "void_fraction": 0.30774,
         "_deepnote_index_column": 48158
        },
        {
         "void_fraction": 0.29148,
         "_deepnote_index_column": 48159
        },
        {
         "void_fraction": 0.35409,
         "_deepnote_index_column": 48161
        },
        {
         "void_fraction": 0.2000599999999999,
         "_deepnote_index_column": 48162
        },
        {
         "void_fraction": 0.2872799999999999,
         "_deepnote_index_column": 48167
        },
        {
         "void_fraction": 0.3558699999999999,
         "_deepnote_index_column": 48168
        },
        {
         "void_fraction": 0.1439999999999999,
         "_deepnote_index_column": 48169
        },
        {
         "void_fraction": 0.2988799999999999,
         "_deepnote_index_column": 48170
        },
        {
         "void_fraction": 0.2021,
         "_deepnote_index_column": 48171
        },
        {
         "void_fraction": 0.2378899999999999,
         "_deepnote_index_column": 48172
        },
        {
         "void_fraction": 0.17527,
         "_deepnote_index_column": 48173
        },
        {
         "void_fraction": 0.29713,
         "_deepnote_index_column": 48174
        },
        {
         "void_fraction": 0.16918,
         "_deepnote_index_column": 48175
        },
        {
         "void_fraction": 0.1181,
         "_deepnote_index_column": 48176
        },
        {
         "void_fraction": 0.35359,
         "_deepnote_index_column": 48177
        },
        {
         "void_fraction": 0.2218199999999999,
         "_deepnote_index_column": 48178
        },
        {
         "void_fraction": 0.3909599999999999,
         "_deepnote_index_column": 48180
        },
        {
         "void_fraction": 0.10073,
         "_deepnote_index_column": 48181
        },
        {
         "void_fraction": 0.1081899999999999,
         "_deepnote_index_column": 48183
        },
        {
         "void_fraction": 0.2796899999999999,
         "_deepnote_index_column": 48184
        },
        {
         "void_fraction": 0.1803899999999999,
         "_deepnote_index_column": 48185
        },
        {
         "void_fraction": 0.16608,
         "_deepnote_index_column": 48186
        },
        {
         "void_fraction": 0.3634999999999999,
         "_deepnote_index_column": 48187
        },
        {
         "void_fraction": 0.29913,
         "_deepnote_index_column": 48188
        },
        {
         "void_fraction": 0.2162999999999999,
         "_deepnote_index_column": 48190
        },
        {
         "void_fraction": 0.22733,
         "_deepnote_index_column": 48191
        },
        {
         "void_fraction": 0.3318499999999999,
         "_deepnote_index_column": 48192
        },
        {
         "void_fraction": 0.2815099999999999,
         "_deepnote_index_column": 48193
        },
        {
         "void_fraction": 0.34938,
         "_deepnote_index_column": 48194
        },
        {
         "void_fraction": 0.3597799999999999,
         "_deepnote_index_column": 48195
        },
        {
         "void_fraction": 0.26948,
         "_deepnote_index_column": 48197
        },
        {
         "void_fraction": 0.1105899999999999,
         "_deepnote_index_column": 48198
        },
        {
         "void_fraction": 0.17338,
         "_deepnote_index_column": 48199
        },
        {
         "void_fraction": 0.2733499999999999,
         "_deepnote_index_column": 48200
        },
        {
         "void_fraction": 0.2757699999999999,
         "_deepnote_index_column": 48201
        },
        {
         "void_fraction": 0.2689599999999999,
         "_deepnote_index_column": 48204
        },
        {
         "void_fraction": 0.4544,
         "_deepnote_index_column": 48205
        },
        {
         "void_fraction": 0.37806,
         "_deepnote_index_column": 48206
        },
        {
         "void_fraction": 0.2432999999999999,
         "_deepnote_index_column": 48207
        },
        {
         "void_fraction": 0.1975099999999999,
         "_deepnote_index_column": 48208
        },
        {
         "void_fraction": 0.16572,
         "_deepnote_index_column": 48209
        },
        {
         "void_fraction": 0.1395,
         "_deepnote_index_column": 48213
        },
        {
         "void_fraction": 0.29603,
         "_deepnote_index_column": 48214
        },
        {
         "void_fraction": 0.2853699999999999,
         "_deepnote_index_column": 48215
        },
        {
         "void_fraction": 0.20188,
         "_deepnote_index_column": 48216
        },
        {
         "void_fraction": 0.15282,
         "_deepnote_index_column": 48217
        },
        {
         "void_fraction": 0.26923,
         "_deepnote_index_column": 48218
        },
        {
         "void_fraction": 0.46048,
         "_deepnote_index_column": 48219
        },
        {
         "void_fraction": 0.30769,
         "_deepnote_index_column": 48220
        },
        {
         "void_fraction": 0.24843,
         "_deepnote_index_column": 48221
        },
        {
         "void_fraction": 0.40159,
         "_deepnote_index_column": 48222
        },
        {
         "void_fraction": 0.17906,
         "_deepnote_index_column": 48223
        },
        {
         "void_fraction": 0.51556,
         "_deepnote_index_column": 48224
        },
        {
         "void_fraction": 0.41976,
         "_deepnote_index_column": 48225
        },
        {
         "void_fraction": 0.3330799999999999,
         "_deepnote_index_column": 48227
        },
        {
         "void_fraction": 0.3452299999999999,
         "_deepnote_index_column": 48229
        },
        {
         "void_fraction": 0.2121699999999998,
         "_deepnote_index_column": 48231
        },
        {
         "void_fraction": 0.2273699999999999,
         "_deepnote_index_column": 48232
        },
        {
         "void_fraction": 0.32876,
         "_deepnote_index_column": 48233
        },
        {
         "void_fraction": 0.12963,
         "_deepnote_index_column": 48234
        },
        {
         "void_fraction": 0.23633,
         "_deepnote_index_column": 48236
        },
        {
         "void_fraction": 0.45666,
         "_deepnote_index_column": 48237
        },
        {
         "void_fraction": 0.1283499999999999,
         "_deepnote_index_column": 48238
        },
        {
         "void_fraction": 0.2186299999999999,
         "_deepnote_index_column": 48239
        },
        {
         "void_fraction": 0.17471,
         "_deepnote_index_column": 48240
        },
        {
         "void_fraction": 0.3668299999999999,
         "_deepnote_index_column": 48241
        },
        {
         "void_fraction": 0.1463899999999999,
         "_deepnote_index_column": 48242
        },
        {
         "void_fraction": 0.1778599999999999,
         "_deepnote_index_column": 48243
        },
        {
         "void_fraction": 0.3025999999999999,
         "_deepnote_index_column": 48244
        },
        {
         "void_fraction": 0.3744099999999999,
         "_deepnote_index_column": 48245
        },
        {
         "void_fraction": 0.1801399999999999,
         "_deepnote_index_column": 48246
        },
        {
         "void_fraction": 0.41852,
         "_deepnote_index_column": 48247
        },
        {
         "void_fraction": 0.0568799999999999,
         "_deepnote_index_column": 48248
        },
        {
         "void_fraction": 0.4092899999999999,
         "_deepnote_index_column": 48249
        },
        {
         "void_fraction": 0.17757,
         "_deepnote_index_column": 48250
        },
        {
         "void_fraction": 0.16272,
         "_deepnote_index_column": 48251
        },
        {
         "void_fraction": 0.2385299999999999,
         "_deepnote_index_column": 48252
        },
        {
         "void_fraction": 0.2710099999999999,
         "_deepnote_index_column": 48253
        },
        {
         "void_fraction": 0.15503,
         "_deepnote_index_column": 48254
        },
        {
         "void_fraction": 0.27943,
         "_deepnote_index_column": 48255
        },
        {
         "void_fraction": 0.54698,
         "_deepnote_index_column": 48257
        },
        {
         "void_fraction": 0.30214,
         "_deepnote_index_column": 48258
        },
        {
         "void_fraction": 0.3251399999999999,
         "_deepnote_index_column": 48259
        },
        {
         "void_fraction": 0.1950099999999999,
         "_deepnote_index_column": 48260
        }
       ],
       "rows_bottom": [
        {
         "void_fraction": 0.64017,
         "_deepnote_index_column": 66005
        },
        {
         "void_fraction": 0.74779,
         "_deepnote_index_column": 66006
        },
        {
         "void_fraction": 0.6285399999999999,
         "_deepnote_index_column": 66007
        },
        {
         "void_fraction": 0.68305,
         "_deepnote_index_column": 66008
        },
        {
         "void_fraction": 0.4912399999999999,
         "_deepnote_index_column": 66009
        },
        {
         "void_fraction": 0.7771799999999999,
         "_deepnote_index_column": 66010
        },
        {
         "void_fraction": 0.51236,
         "_deepnote_index_column": 66011
        },
        {
         "void_fraction": 0.5441399999999998,
         "_deepnote_index_column": 66012
        },
        {
         "void_fraction": 0.8265799999999999,
         "_deepnote_index_column": 66013
        },
        {
         "void_fraction": 0.61181,
         "_deepnote_index_column": 66014
        },
        {
         "void_fraction": 0.4939399999999999,
         "_deepnote_index_column": 66015
        },
        {
         "void_fraction": 0.49611,
         "_deepnote_index_column": 66016
        },
        {
         "void_fraction": 0.7314199999999998,
         "_deepnote_index_column": 66017
        },
        {
         "void_fraction": 0.50701,
         "_deepnote_index_column": 66018
        },
        {
         "void_fraction": 0.37535,
         "_deepnote_index_column": 66019
        },
        {
         "void_fraction": 0.68789,
         "_deepnote_index_column": 66020
        },
        {
         "void_fraction": 0.5434399999999999,
         "_deepnote_index_column": 66021
        },
        {
         "void_fraction": 0.76356,
         "_deepnote_index_column": 66022
        },
        {
         "void_fraction": 0.51254,
         "_deepnote_index_column": 66023
        },
        {
         "void_fraction": 0.50946,
         "_deepnote_index_column": 66024
        },
        {
         "void_fraction": 0.72958,
         "_deepnote_index_column": 66025
        },
        {
         "void_fraction": 0.6271399999999999,
         "_deepnote_index_column": 66026
        },
        {
         "void_fraction": 0.60203,
         "_deepnote_index_column": 66027
        },
        {
         "void_fraction": 0.50675,
         "_deepnote_index_column": 66028
        },
        {
         "void_fraction": 0.51896,
         "_deepnote_index_column": 66029
        },
        {
         "void_fraction": 0.82144,
         "_deepnote_index_column": 66030
        },
        {
         "void_fraction": 0.7510999999999999,
         "_deepnote_index_column": 66031
        },
        {
         "void_fraction": 0.5019899999999999,
         "_deepnote_index_column": 66032
        },
        {
         "void_fraction": 0.2363699999999999,
         "_deepnote_index_column": 66033
        },
        {
         "void_fraction": 0.18132,
         "_deepnote_index_column": 66034
        },
        {
         "void_fraction": 0.4758899999999999,
         "_deepnote_index_column": 66035
        },
        {
         "void_fraction": 0.67323,
         "_deepnote_index_column": 66036
        },
        {
         "void_fraction": 0.5005399999999999,
         "_deepnote_index_column": 66037
        },
        {
         "void_fraction": 0.57645,
         "_deepnote_index_column": 66038
        },
        {
         "void_fraction": 0.57427,
         "_deepnote_index_column": 66039
        },
        {
         "void_fraction": 0.80415,
         "_deepnote_index_column": 66040
        },
        {
         "void_fraction": 0.6697199999999999,
         "_deepnote_index_column": 66041
        },
        {
         "void_fraction": 0.63539,
         "_deepnote_index_column": 66042
        },
        {
         "void_fraction": 0.6563999999999999,
         "_deepnote_index_column": 66043
        },
        {
         "void_fraction": 0.29936,
         "_deepnote_index_column": 66044
        },
        {
         "void_fraction": 0.65053,
         "_deepnote_index_column": 66045
        },
        {
         "void_fraction": 0.55818,
         "_deepnote_index_column": 66046
        },
        {
         "void_fraction": 0.63846,
         "_deepnote_index_column": 66047
        },
        {
         "void_fraction": 0.4985899999999999,
         "_deepnote_index_column": 66048
        },
        {
         "void_fraction": 0.50501,
         "_deepnote_index_column": 66049
        },
        {
         "void_fraction": 0.6771099999999999,
         "_deepnote_index_column": 66050
        },
        {
         "void_fraction": 0.71448,
         "_deepnote_index_column": 66051
        },
        {
         "void_fraction": 0.6962,
         "_deepnote_index_column": 66052
        },
        {
         "void_fraction": 0.5173499999999999,
         "_deepnote_index_column": 66053
        },
        {
         "void_fraction": 0.63632,
         "_deepnote_index_column": 66054
        },
        {
         "void_fraction": 0.4394,
         "_deepnote_index_column": 66055
        },
        {
         "void_fraction": 0.6429699999999999,
         "_deepnote_index_column": 66056
        },
        {
         "void_fraction": 0.4920399999999999,
         "_deepnote_index_column": 66057
        },
        {
         "void_fraction": 0.51238,
         "_deepnote_index_column": 66058
        },
        {
         "void_fraction": 0.71113,
         "_deepnote_index_column": 66059
        },
        {
         "void_fraction": 0.5527199999999999,
         "_deepnote_index_column": 66060
        },
        {
         "void_fraction": 0.7340899999999999,
         "_deepnote_index_column": 66061
        },
        {
         "void_fraction": 0.1968199999999999,
         "_deepnote_index_column": 66062
        },
        {
         "void_fraction": 0.60443,
         "_deepnote_index_column": 66063
        },
        {
         "void_fraction": 0.41752,
         "_deepnote_index_column": 66064
        },
        {
         "void_fraction": 0.4394,
         "_deepnote_index_column": 66065
        },
        {
         "void_fraction": 0.6701099999999999,
         "_deepnote_index_column": 66067
        },
        {
         "void_fraction": 0.62102,
         "_deepnote_index_column": 66068
        },
        {
         "void_fraction": 0.65051,
         "_deepnote_index_column": 66069
        },
        {
         "void_fraction": 0.4829399999999999,
         "_deepnote_index_column": 66070
        },
        {
         "void_fraction": 0.54181,
         "_deepnote_index_column": 66071
        },
        {
         "void_fraction": 0.4628399999999999,
         "_deepnote_index_column": 66072
        },
        {
         "void_fraction": 0.41213,
         "_deepnote_index_column": 66073
        },
        {
         "void_fraction": 0.63258,
         "_deepnote_index_column": 66074
        },
        {
         "void_fraction": 0.6865399999999999,
         "_deepnote_index_column": 66075
        },
        {
         "void_fraction": 0.3774699999999999,
         "_deepnote_index_column": 66076
        },
        {
         "void_fraction": 0.55936,
         "_deepnote_index_column": 66077
        },
        {
         "void_fraction": 0.63194,
         "_deepnote_index_column": 66078
        },
        {
         "void_fraction": 0.59903,
         "_deepnote_index_column": 66079
        },
        {
         "void_fraction": 0.6132999999999998,
         "_deepnote_index_column": 66081
        },
        {
         "void_fraction": 0.6027399999999999,
         "_deepnote_index_column": 66083
        },
        {
         "void_fraction": 0.74011,
         "_deepnote_index_column": 66084
        },
        {
         "void_fraction": 0.67037,
         "_deepnote_index_column": 66085
        },
        {
         "void_fraction": 0.4875499999999999,
         "_deepnote_index_column": 66086
        },
        {
         "void_fraction": 0.6007,
         "_deepnote_index_column": 66087
        },
        {
         "void_fraction": 0.57466,
         "_deepnote_index_column": 66088
        },
        {
         "void_fraction": 0.47881,
         "_deepnote_index_column": 66089
        },
        {
         "void_fraction": 0.6680899999999999,
         "_deepnote_index_column": 66090
        },
        {
         "void_fraction": 0.4266699999999999,
         "_deepnote_index_column": 66091
        },
        {
         "void_fraction": 0.4086599999999999,
         "_deepnote_index_column": 66092
        },
        {
         "void_fraction": 0.3332699999999999,
         "_deepnote_index_column": 66093
        },
        {
         "void_fraction": 0.5644,
         "_deepnote_index_column": 66094
        },
        {
         "void_fraction": 0.4155399999999999,
         "_deepnote_index_column": 66095
        },
        {
         "void_fraction": 0.5317899999999999,
         "_deepnote_index_column": 66096
        },
        {
         "void_fraction": 0.64631,
         "_deepnote_index_column": 66097
        },
        {
         "void_fraction": 0.31308,
         "_deepnote_index_column": 66098
        },
        {
         "void_fraction": 0.21828,
         "_deepnote_index_column": 66099
        },
        {
         "void_fraction": 0.4604099999999999,
         "_deepnote_index_column": 66100
        },
        {
         "void_fraction": 0.6451399999999999,
         "_deepnote_index_column": 66101
        },
        {
         "void_fraction": 0.745,
         "_deepnote_index_column": 66102
        },
        {
         "void_fraction": 0.5369,
         "_deepnote_index_column": 66103
        },
        {
         "void_fraction": 0.71698,
         "_deepnote_index_column": 66104
        },
        {
         "void_fraction": 0.513,
         "_deepnote_index_column": 66105
        },
        {
         "void_fraction": 0.7330999999999999,
         "_deepnote_index_column": 66106
        },
        {
         "void_fraction": 0.56736,
         "_deepnote_index_column": 66107
        },
        {
         "void_fraction": 0.6489,
         "_deepnote_index_column": 66108
        },
        {
         "void_fraction": 0.65287,
         "_deepnote_index_column": 66109
        },
        {
         "void_fraction": 0.4979399999999998,
         "_deepnote_index_column": 66110
        },
        {
         "void_fraction": 0.4260599999999999,
         "_deepnote_index_column": 66111
        },
        {
         "void_fraction": 0.49208,
         "_deepnote_index_column": 66112
        },
        {
         "void_fraction": 0.5209099999999999,
         "_deepnote_index_column": 66113
        },
        {
         "void_fraction": 0.63826,
         "_deepnote_index_column": 66114
        },
        {
         "void_fraction": 0.58143,
         "_deepnote_index_column": 66115
        },
        {
         "void_fraction": 0.63197,
         "_deepnote_index_column": 66116
        },
        {
         "void_fraction": 0.7968699999999999,
         "_deepnote_index_column": 66117
        },
        {
         "void_fraction": 0.4011299999999999,
         "_deepnote_index_column": 66118
        },
        {
         "void_fraction": 0.19162,
         "_deepnote_index_column": 66119
        },
        {
         "void_fraction": 0.52288,
         "_deepnote_index_column": 66120
        },
        {
         "void_fraction": 0.56793,
         "_deepnote_index_column": 66121
        },
        {
         "void_fraction": 0.42103,
         "_deepnote_index_column": 66122
        },
        {
         "void_fraction": 0.7525,
         "_deepnote_index_column": 66124
        },
        {
         "void_fraction": 0.69133,
         "_deepnote_index_column": 66125
        },
        {
         "void_fraction": 0.59801,
         "_deepnote_index_column": 66126
        },
        {
         "void_fraction": 0.4901099999999999,
         "_deepnote_index_column": 66127
        },
        {
         "void_fraction": 0.6194899999999999,
         "_deepnote_index_column": 66128
        },
        {
         "void_fraction": 0.40642,
         "_deepnote_index_column": 66129
        },
        {
         "void_fraction": 0.7807199999999999,
         "_deepnote_index_column": 66130
        },
        {
         "void_fraction": 0.4542399999999999,
         "_deepnote_index_column": 66131
        },
        {
         "void_fraction": 0.5909499999999999,
         "_deepnote_index_column": 66132
        },
        {
         "void_fraction": 0.73692,
         "_deepnote_index_column": 66133
        },
        {
         "void_fraction": 0.7650899999999999,
         "_deepnote_index_column": 66134
        },
        {
         "void_fraction": 0.5445999999999999,
         "_deepnote_index_column": 66135
        },
        {
         "void_fraction": 0.70867,
         "_deepnote_index_column": 66136
        },
        {
         "void_fraction": 0.67161,
         "_deepnote_index_column": 66137
        },
        {
         "void_fraction": 0.5136399999999999,
         "_deepnote_index_column": 66138
        },
        {
         "void_fraction": 0.6446699999999999,
         "_deepnote_index_column": 66139
        },
        {
         "void_fraction": 0.76728,
         "_deepnote_index_column": 66140
        },
        {
         "void_fraction": 0.5515899999999999,
         "_deepnote_index_column": 66141
        },
        {
         "void_fraction": 0.29624,
         "_deepnote_index_column": 66142
        },
        {
         "void_fraction": 0.55074,
         "_deepnote_index_column": 66143
        },
        {
         "void_fraction": 0.54715,
         "_deepnote_index_column": 66144
        },
        {
         "void_fraction": 0.55784,
         "_deepnote_index_column": 66145
        },
        {
         "void_fraction": 0.4564199999999999,
         "_deepnote_index_column": 66146
        },
        {
         "void_fraction": 0.27081,
         "_deepnote_index_column": 66147
        },
        {
         "void_fraction": 0.6626499999999999,
         "_deepnote_index_column": 66149
        },
        {
         "void_fraction": 0.5503399999999999,
         "_deepnote_index_column": 66150
        },
        {
         "void_fraction": 0.52811,
         "_deepnote_index_column": 66151
        },
        {
         "void_fraction": 0.5072399999999999,
         "_deepnote_index_column": 66152
        },
        {
         "void_fraction": 0.4873899999999999,
         "_deepnote_index_column": 66153
        },
        {
         "void_fraction": 0.64765,
         "_deepnote_index_column": 66154
        },
        {
         "void_fraction": 0.50438,
         "_deepnote_index_column": 66155
        },
        {
         "void_fraction": 0.59921,
         "_deepnote_index_column": 66156
        },
        {
         "void_fraction": 0.6300299999999999,
         "_deepnote_index_column": 66157
        },
        {
         "void_fraction": 0.70816,
         "_deepnote_index_column": 66158
        },
        {
         "void_fraction": 0.58854,
         "_deepnote_index_column": 66159
        },
        {
         "void_fraction": 0.7688599999999999,
         "_deepnote_index_column": 66160
        },
        {
         "void_fraction": 0.54481,
         "_deepnote_index_column": 66161
        },
        {
         "void_fraction": 0.55,
         "_deepnote_index_column": 66162
        },
        {
         "void_fraction": 0.6322499999999999,
         "_deepnote_index_column": 66163
        },
        {
         "void_fraction": 0.6708199999999999,
         "_deepnote_index_column": 66164
        },
        {
         "void_fraction": 0.6829899999999999,
         "_deepnote_index_column": 66165
        },
        {
         "void_fraction": 0.5709199999999999,
         "_deepnote_index_column": 66166
        },
        {
         "void_fraction": 0.6372499999999999,
         "_deepnote_index_column": 66167
        },
        {
         "void_fraction": 0.3477799999999999,
         "_deepnote_index_column": 66168
        },
        {
         "void_fraction": 0.6967399999999999,
         "_deepnote_index_column": 66169
        },
        {
         "void_fraction": 0.73697,
         "_deepnote_index_column": 66170
        },
        {
         "void_fraction": 0.2957699999999999,
         "_deepnote_index_column": 66171
        },
        {
         "void_fraction": 0.5757999999999999,
         "_deepnote_index_column": 66172
        },
        {
         "void_fraction": 0.3819299999999999,
         "_deepnote_index_column": 66173
        },
        {
         "void_fraction": 0.44423,
         "_deepnote_index_column": 66174
        },
        {
         "void_fraction": 0.6375699999999999,
         "_deepnote_index_column": 66175
        },
        {
         "void_fraction": 0.6127199999999999,
         "_deepnote_index_column": 66176
        },
        {
         "void_fraction": 0.8243,
         "_deepnote_index_column": 66177
        },
        {
         "void_fraction": 0.5347199999999999,
         "_deepnote_index_column": 66179
        },
        {
         "void_fraction": 0.5722599999999999,
         "_deepnote_index_column": 66181
        },
        {
         "void_fraction": 0.53417,
         "_deepnote_index_column": 66183
        },
        {
         "void_fraction": 0.59237,
         "_deepnote_index_column": 66184
        },
        {
         "void_fraction": 0.6206699999999999,
         "_deepnote_index_column": 66185
        },
        {
         "void_fraction": 0.53892,
         "_deepnote_index_column": 66186
        },
        {
         "void_fraction": 0.6139899999999999,
         "_deepnote_index_column": 66187
        },
        {
         "void_fraction": 0.6613399999999999,
         "_deepnote_index_column": 66188
        },
        {
         "void_fraction": 0.5327699999999999,
         "_deepnote_index_column": 66189
        },
        {
         "void_fraction": 0.7616,
         "_deepnote_index_column": 66190
        },
        {
         "void_fraction": 0.562,
         "_deepnote_index_column": 66191
        },
        {
         "void_fraction": 0.33631,
         "_deepnote_index_column": 66192
        },
        {
         "void_fraction": 0.6259299999999999,
         "_deepnote_index_column": 66193
        },
        {
         "void_fraction": 0.76904,
         "_deepnote_index_column": 66194
        },
        {
         "void_fraction": 0.5598199999999999,
         "_deepnote_index_column": 66195
        },
        {
         "void_fraction": 0.4607499999999999,
         "_deepnote_index_column": 66196
        },
        {
         "void_fraction": 0.7285099999999999,
         "_deepnote_index_column": 66197
        },
        {
         "void_fraction": 0.23133,
         "_deepnote_index_column": 66198
        },
        {
         "void_fraction": 0.7553499999999999,
         "_deepnote_index_column": 66199
        },
        {
         "void_fraction": 0.10195,
         "_deepnote_index_column": 66201
        },
        {
         "void_fraction": 0.4971499999999999,
         "_deepnote_index_column": 66202
        },
        {
         "void_fraction": 0.4984199999999999,
         "_deepnote_index_column": 66203
        },
        {
         "void_fraction": 0.6552899999999999,
         "_deepnote_index_column": 66204
        },
        {
         "void_fraction": 0.73591,
         "_deepnote_index_column": 66205
        },
        {
         "void_fraction": 0.6639599999999999,
         "_deepnote_index_column": 66206
        },
        {
         "void_fraction": 0.67402,
         "_deepnote_index_column": 66208
        },
        {
         "void_fraction": 0.68423,
         "_deepnote_index_column": 66209
        },
        {
         "void_fraction": 0.4876699999999999,
         "_deepnote_index_column": 66210
        },
        {
         "void_fraction": 0.6310899999999999,
         "_deepnote_index_column": 66211
        },
        {
         "void_fraction": 0.7575699999999999,
         "_deepnote_index_column": 66212
        },
        {
         "void_fraction": 0.67979,
         "_deepnote_index_column": 66213
        },
        {
         "void_fraction": 0.63421,
         "_deepnote_index_column": 66214
        },
        {
         "void_fraction": 0.53946,
         "_deepnote_index_column": 66215
        },
        {
         "void_fraction": 0.69316,
         "_deepnote_index_column": 66216
        },
        {
         "void_fraction": 0.3015999999999999,
         "_deepnote_index_column": 66217
        },
        {
         "void_fraction": 0.6849699999999999,
         "_deepnote_index_column": 66218
        },
        {
         "void_fraction": 0.5352799999999999,
         "_deepnote_index_column": 66219
        },
        {
         "void_fraction": 0.49328,
         "_deepnote_index_column": 66220
        },
        {
         "void_fraction": 0.5333999999999999,
         "_deepnote_index_column": 66221
        },
        {
         "void_fraction": 0.6907499999999999,
         "_deepnote_index_column": 66222
        },
        {
         "void_fraction": 0.7120499999999998,
         "_deepnote_index_column": 66223
        },
        {
         "void_fraction": 0.6398099999999999,
         "_deepnote_index_column": 66224
        },
        {
         "void_fraction": 0.2223499999999999,
         "_deepnote_index_column": 66225
        },
        {
         "void_fraction": 0.3783,
         "_deepnote_index_column": 66226
        },
        {
         "void_fraction": 0.4827199999999999,
         "_deepnote_index_column": 66227
        },
        {
         "void_fraction": 0.6917399999999999,
         "_deepnote_index_column": 66228
        },
        {
         "void_fraction": 0.4262099999999999,
         "_deepnote_index_column": 66229
        },
        {
         "void_fraction": 0.60816,
         "_deepnote_index_column": 66230
        },
        {
         "void_fraction": 0.64917,
         "_deepnote_index_column": 66231
        },
        {
         "void_fraction": 0.5035699999999999,
         "_deepnote_index_column": 66232
        },
        {
         "void_fraction": 0.6513899999999999,
         "_deepnote_index_column": 66233
        },
        {
         "void_fraction": 0.7155799999999999,
         "_deepnote_index_column": 66234
        },
        {
         "void_fraction": 0.41747,
         "_deepnote_index_column": 66235
        },
        {
         "void_fraction": 0.5688699999999999,
         "_deepnote_index_column": 66236
        },
        {
         "void_fraction": 0.3549199999999999,
         "_deepnote_index_column": 66237
        },
        {
         "void_fraction": 0.66086,
         "_deepnote_index_column": 66238
        },
        {
         "void_fraction": 0.4797699999999999,
         "_deepnote_index_column": 66239
        },
        {
         "void_fraction": 0.57908,
         "_deepnote_index_column": 66240
        },
        {
         "void_fraction": 0.53364,
         "_deepnote_index_column": 66241
        },
        {
         "void_fraction": 0.68389,
         "_deepnote_index_column": 66242
        },
        {
         "void_fraction": 0.4419399999999998,
         "_deepnote_index_column": 66243
        },
        {
         "void_fraction": 0.57888,
         "_deepnote_index_column": 66244
        },
        {
         "void_fraction": 0.4590799999999999,
         "_deepnote_index_column": 66245
        },
        {
         "void_fraction": 0.50427,
         "_deepnote_index_column": 66246
        },
        {
         "void_fraction": 0.54776,
         "_deepnote_index_column": 66247
        },
        {
         "void_fraction": 0.6206099999999999,
         "_deepnote_index_column": 66248
        },
        {
         "void_fraction": 0.61591,
         "_deepnote_index_column": 66249
        },
        {
         "void_fraction": 0.5502799999999999,
         "_deepnote_index_column": 66250
        },
        {
         "void_fraction": 0.78737,
         "_deepnote_index_column": 66251
        },
        {
         "void_fraction": 0.6454699999999999,
         "_deepnote_index_column": 66252
        },
        {
         "void_fraction": 0.59538,
         "_deepnote_index_column": 66253
        },
        {
         "void_fraction": 0.62063,
         "_deepnote_index_column": 66254
        },
        {
         "void_fraction": 0.5347899999999999,
         "_deepnote_index_column": 66255
        },
        {
         "void_fraction": 0.57976,
         "_deepnote_index_column": 66256
        },
        {
         "void_fraction": 0.6809699999999999,
         "_deepnote_index_column": 66257
        },
        {
         "void_fraction": 0.46115,
         "_deepnote_index_column": 66258
        },
        {
         "void_fraction": 0.56973,
         "_deepnote_index_column": 66259
        },
        {
         "void_fraction": 0.5150799999999999,
         "_deepnote_index_column": 66260
        },
        {
         "void_fraction": 0.7538699999999999,
         "_deepnote_index_column": 66261
        },
        {
         "void_fraction": 0.5600699999999998,
         "_deepnote_index_column": 66262
        },
        {
         "void_fraction": 0.62691,
         "_deepnote_index_column": 66263
        },
        {
         "void_fraction": 0.55688,
         "_deepnote_index_column": 66264
        },
        {
         "void_fraction": 0.8004899999999999,
         "_deepnote_index_column": 66265
        },
        {
         "void_fraction": 0.4858699999999999,
         "_deepnote_index_column": 66266
        },
        {
         "void_fraction": 0.62236,
         "_deepnote_index_column": 66267
        },
        {
         "void_fraction": 0.72585,
         "_deepnote_index_column": 66268
        },
        {
         "void_fraction": 0.56026,
         "_deepnote_index_column": 66269
        },
        {
         "void_fraction": 0.62866,
         "_deepnote_index_column": 66270
        },
        {
         "void_fraction": 0.6722,
         "_deepnote_index_column": 66271
        },
        {
         "void_fraction": 0.6135399999999999,
         "_deepnote_index_column": 66272
        },
        {
         "void_fraction": 0.5896899999999999,
         "_deepnote_index_column": 66273
        },
        {
         "void_fraction": 0.4992599999999999,
         "_deepnote_index_column": 66274
        },
        {
         "void_fraction": 0.4387399999999999,
         "_deepnote_index_column": 66275
        },
        {
         "void_fraction": 0.6359799999999999,
         "_deepnote_index_column": 66276
        },
        {
         "void_fraction": 0.5676299999999999,
         "_deepnote_index_column": 66277
        },
        {
         "void_fraction": 0.557,
         "_deepnote_index_column": 66278
        },
        {
         "void_fraction": 0.52115,
         "_deepnote_index_column": 66279
        },
        {
         "void_fraction": 0.7134,
         "_deepnote_index_column": 66280
        },
        {
         "void_fraction": 0.0820199999999999,
         "_deepnote_index_column": 66282
        },
        {
         "void_fraction": 0.53216,
         "_deepnote_index_column": 66283
        },
        {
         "void_fraction": 0.4777,
         "_deepnote_index_column": 66284
        },
        {
         "void_fraction": 0.7028399999999999,
         "_deepnote_index_column": 66285
        },
        {
         "void_fraction": 0.60777,
         "_deepnote_index_column": 66286
        },
        {
         "void_fraction": 0.4341499999999999,
         "_deepnote_index_column": 66287
        },
        {
         "void_fraction": 0.67779,
         "_deepnote_index_column": 66288
        },
        {
         "void_fraction": 0.4052999999999999,
         "_deepnote_index_column": 66289
        },
        {
         "void_fraction": 0.7951,
         "_deepnote_index_column": 66290
        },
        {
         "void_fraction": 0.4437399999999999,
         "_deepnote_index_column": 66291
        },
        {
         "void_fraction": 0.64243,
         "_deepnote_index_column": 66292
        },
        {
         "void_fraction": 0.4737299999999999,
         "_deepnote_index_column": 66293
        },
        {
         "void_fraction": 0.38301,
         "_deepnote_index_column": 66294
        },
        {
         "void_fraction": 0.53485,
         "_deepnote_index_column": 66295
        },
        {
         "void_fraction": 0.5052499999999999,
         "_deepnote_index_column": 66296
        },
        {
         "void_fraction": 0.60845,
         "_deepnote_index_column": 66297
        },
        {
         "void_fraction": 0.61858,
         "_deepnote_index_column": 66298
        },
        {
         "void_fraction": 0.58299,
         "_deepnote_index_column": 66299
        },
        {
         "void_fraction": 0.3332399999999999,
         "_deepnote_index_column": 66300
        },
        {
         "void_fraction": 0.5636499999999999,
         "_deepnote_index_column": 66301
        },
        {
         "void_fraction": 0.5584299999999999,
         "_deepnote_index_column": 66302
        },
        {
         "void_fraction": 0.61024,
         "_deepnote_index_column": 66303
        },
        {
         "void_fraction": 0.6150899999999999,
         "_deepnote_index_column": 66304
        },
        {
         "void_fraction": 0.69167,
         "_deepnote_index_column": 66305
        },
        {
         "void_fraction": 0.71388,
         "_deepnote_index_column": 66306
        },
        {
         "void_fraction": 0.5315999999999999,
         "_deepnote_index_column": 66307
        },
        {
         "void_fraction": 0.63031,
         "_deepnote_index_column": 66308
        },
        {
         "void_fraction": 0.5387199999999999,
         "_deepnote_index_column": 66309
        },
        {
         "void_fraction": 0.70005,
         "_deepnote_index_column": 66310
        },
        {
         "void_fraction": 0.5138099999999999,
         "_deepnote_index_column": 66311
        },
        {
         "void_fraction": 0.6806499999999999,
         "_deepnote_index_column": 66313
        },
        {
         "void_fraction": 0.47292,
         "_deepnote_index_column": 66314
        },
        {
         "void_fraction": 0.3652199999999999,
         "_deepnote_index_column": 66315
        },
        {
         "void_fraction": 0.3183099999999999,
         "_deepnote_index_column": 66316
        },
        {
         "void_fraction": 0.6029499999999999,
         "_deepnote_index_column": 66317
        },
        {
         "void_fraction": 0.5794,
         "_deepnote_index_column": 66318
        },
        {
         "void_fraction": 0.6440899999999999,
         "_deepnote_index_column": 66319
        },
        {
         "void_fraction": 0.73103,
         "_deepnote_index_column": 66320
        },
        {
         "void_fraction": 0.69506,
         "_deepnote_index_column": 66321
        },
        {
         "void_fraction": 0.50726,
         "_deepnote_index_column": 66322
        },
        {
         "void_fraction": 0.6375199999999999,
         "_deepnote_index_column": 66323
        },
        {
         "void_fraction": 0.61351,
         "_deepnote_index_column": 66324
        },
        {
         "void_fraction": 0.7000199999999999,
         "_deepnote_index_column": 66325
        },
        {
         "void_fraction": 0.7122399999999999,
         "_deepnote_index_column": 66326
        },
        {
         "void_fraction": 0.43623,
         "_deepnote_index_column": 66327
        },
        {
         "void_fraction": 0.7495899999999999,
         "_deepnote_index_column": 66329
        },
        {
         "void_fraction": 0.68925,
         "_deepnote_index_column": 66330
        },
        {
         "void_fraction": 0.49468,
         "_deepnote_index_column": 66331
        },
        {
         "void_fraction": 0.60472,
         "_deepnote_index_column": 66332
        },
        {
         "void_fraction": 0.4742199999999999,
         "_deepnote_index_column": 66333
        },
        {
         "void_fraction": 0.5363299999999999,
         "_deepnote_index_column": 66334
        },
        {
         "void_fraction": 0.74739,
         "_deepnote_index_column": 66335
        },
        {
         "void_fraction": 0.2410499999999999,
         "_deepnote_index_column": 66336
        },
        {
         "void_fraction": 0.6809,
         "_deepnote_index_column": 66337
        },
        {
         "void_fraction": 0.73497,
         "_deepnote_index_column": 66338
        },
        {
         "void_fraction": 0.7178999999999999,
         "_deepnote_index_column": 66339
        },
        {
         "void_fraction": 0.43363,
         "_deepnote_index_column": 66340
        },
        {
         "void_fraction": 0.5761199999999999,
         "_deepnote_index_column": 66341
        },
        {
         "void_fraction": 0.49207,
         "_deepnote_index_column": 66342
        },
        {
         "void_fraction": 0.51407,
         "_deepnote_index_column": 66343
        },
        {
         "void_fraction": 0.63558,
         "_deepnote_index_column": 66344
        },
        {
         "void_fraction": 0.6593,
         "_deepnote_index_column": 66345
        },
        {
         "void_fraction": 0.53471,
         "_deepnote_index_column": 66346
        },
        {
         "void_fraction": 0.50553,
         "_deepnote_index_column": 66347
        },
        {
         "void_fraction": 0.61028,
         "_deepnote_index_column": 66348
        },
        {
         "void_fraction": 0.81955,
         "_deepnote_index_column": 66350
        },
        {
         "void_fraction": 0.52622,
         "_deepnote_index_column": 66351
        },
        {
         "void_fraction": 0.71998,
         "_deepnote_index_column": 66352
        },
        {
         "void_fraction": 0.66803,
         "_deepnote_index_column": 66353
        },
        {
         "void_fraction": 0.6742199999999999,
         "_deepnote_index_column": 66354
        },
        {
         "void_fraction": 0.57794,
         "_deepnote_index_column": 66355
        },
        {
         "void_fraction": 0.4551299999999999,
         "_deepnote_index_column": 66356
        },
        {
         "void_fraction": 0.7547899999999998,
         "_deepnote_index_column": 66357
        },
        {
         "void_fraction": 0.51932,
         "_deepnote_index_column": 66358
        },
        {
         "void_fraction": 0.38578,
         "_deepnote_index_column": 66359
        },
        {
         "void_fraction": 0.5794,
         "_deepnote_index_column": 66360
        },
        {
         "void_fraction": 0.67695,
         "_deepnote_index_column": 66361
        },
        {
         "void_fraction": 0.58577,
         "_deepnote_index_column": 66362
        },
        {
         "void_fraction": 0.6345199999999999,
         "_deepnote_index_column": 66363
        },
        {
         "void_fraction": 0.60941,
         "_deepnote_index_column": 66364
        },
        {
         "void_fraction": 0.52471,
         "_deepnote_index_column": 66365
        },
        {
         "void_fraction": 0.25366,
         "_deepnote_index_column": 66366
        },
        {
         "void_fraction": 0.09915,
         "_deepnote_index_column": 66367
        },
        {
         "void_fraction": 0.60797,
         "_deepnote_index_column": 66368
        },
        {
         "void_fraction": 0.55696,
         "_deepnote_index_column": 66369
        },
        {
         "void_fraction": 0.5995099999999999,
         "_deepnote_index_column": 66370
        },
        {
         "void_fraction": 0.79053,
         "_deepnote_index_column": 66371
        },
        {
         "void_fraction": 0.54813,
         "_deepnote_index_column": 66372
        },
        {
         "void_fraction": 0.5890999999999998,
         "_deepnote_index_column": 66373
        },
        {
         "void_fraction": 0.56966,
         "_deepnote_index_column": 66374
        },
        {
         "void_fraction": 0.5970999999999999,
         "_deepnote_index_column": 66375
        },
        {
         "void_fraction": 0.51454,
         "_deepnote_index_column": 66376
        },
        {
         "void_fraction": 0.6719699999999998,
         "_deepnote_index_column": 66377
        },
        {
         "void_fraction": 0.5507199999999999,
         "_deepnote_index_column": 66378
        },
        {
         "void_fraction": 0.67724,
         "_deepnote_index_column": 66379
        },
        {
         "void_fraction": 0.6595999999999999,
         "_deepnote_index_column": 66380
        },
        {
         "void_fraction": 0.6335399999999999,
         "_deepnote_index_column": 66381
        },
        {
         "void_fraction": 0.64812,
         "_deepnote_index_column": 66382
        },
        {
         "void_fraction": 0.3562799999999999,
         "_deepnote_index_column": 66383
        },
        {
         "void_fraction": 0.5796,
         "_deepnote_index_column": 66384
        },
        {
         "void_fraction": 0.5128199999999999,
         "_deepnote_index_column": 66385
        },
        {
         "void_fraction": 0.16963,
         "_deepnote_index_column": 66386
        },
        {
         "void_fraction": 0.5946899999999999,
         "_deepnote_index_column": 66387
        },
        {
         "void_fraction": 0.5755899999999999,
         "_deepnote_index_column": 66388
        },
        {
         "void_fraction": 0.11969,
         "_deepnote_index_column": 66389
        },
        {
         "void_fraction": 0.55357,
         "_deepnote_index_column": 66390
        },
        {
         "void_fraction": 0.57883,
         "_deepnote_index_column": 66391
        },
        {
         "void_fraction": 0.60818,
         "_deepnote_index_column": 66392
        },
        {
         "void_fraction": 0.71538,
         "_deepnote_index_column": 66393
        },
        {
         "void_fraction": 0.5766799999999999,
         "_deepnote_index_column": 66394
        },
        {
         "void_fraction": 0.5873599999999999,
         "_deepnote_index_column": 66395
        },
        {
         "void_fraction": 0.57235,
         "_deepnote_index_column": 66396
        },
        {
         "void_fraction": 0.3245299999999999,
         "_deepnote_index_column": 66397
        },
        {
         "void_fraction": 0.5169699999999999,
         "_deepnote_index_column": 66398
        },
        {
         "void_fraction": 0.51838,
         "_deepnote_index_column": 66400
        },
        {
         "void_fraction": 0.63202,
         "_deepnote_index_column": 66401
        },
        {
         "void_fraction": 0.4158699999999999,
         "_deepnote_index_column": 66402
        },
        {
         "void_fraction": 0.55571,
         "_deepnote_index_column": 66403
        },
        {
         "void_fraction": 0.53175,
         "_deepnote_index_column": 66404
        },
        {
         "void_fraction": 0.43955,
         "_deepnote_index_column": 66405
        },
        {
         "void_fraction": 0.64836,
         "_deepnote_index_column": 66406
        },
        {
         "void_fraction": 0.6737499999999998,
         "_deepnote_index_column": 66407
        },
        {
         "void_fraction": 0.66988,
         "_deepnote_index_column": 66408
        },
        {
         "void_fraction": 0.63178,
         "_deepnote_index_column": 66409
        },
        {
         "void_fraction": 0.44833,
         "_deepnote_index_column": 66410
        },
        {
         "void_fraction": 0.51012,
         "_deepnote_index_column": 66411
        },
        {
         "void_fraction": 0.62521,
         "_deepnote_index_column": 66412
        },
        {
         "void_fraction": 0.61302,
         "_deepnote_index_column": 66413
        },
        {
         "void_fraction": 0.7008999999999999,
         "_deepnote_index_column": 66414
        },
        {
         "void_fraction": 0.67513,
         "_deepnote_index_column": 66415
        },
        {
         "void_fraction": 0.4821099999999999,
         "_deepnote_index_column": 66416
        },
        {
         "void_fraction": 0.6147699999999999,
         "_deepnote_index_column": 66417
        },
        {
         "void_fraction": 0.37218,
         "_deepnote_index_column": 66418
        },
        {
         "void_fraction": 0.3604299999999999,
         "_deepnote_index_column": 66420
        },
        {
         "void_fraction": 0.4208799999999999,
         "_deepnote_index_column": 66421
        },
        {
         "void_fraction": 0.6892399999999999,
         "_deepnote_index_column": 66422
        },
        {
         "void_fraction": 0.60033,
         "_deepnote_index_column": 66423
        },
        {
         "void_fraction": 0.52936,
         "_deepnote_index_column": 66424
        },
        {
         "void_fraction": 0.57603,
         "_deepnote_index_column": 66425
        },
        {
         "void_fraction": 0.70556,
         "_deepnote_index_column": 66427
        },
        {
         "void_fraction": 0.72025,
         "_deepnote_index_column": 66428
        },
        {
         "void_fraction": 0.71418,
         "_deepnote_index_column": 66429
        },
        {
         "void_fraction": 0.57876,
         "_deepnote_index_column": 66430
        },
        {
         "void_fraction": 0.56981,
         "_deepnote_index_column": 66431
        },
        {
         "void_fraction": 0.58355,
         "_deepnote_index_column": 66432
        },
        {
         "void_fraction": 0.81425,
         "_deepnote_index_column": 66433
        },
        {
         "void_fraction": 0.6740599999999999,
         "_deepnote_index_column": 66434
        },
        {
         "void_fraction": 0.54478,
         "_deepnote_index_column": 66435
        },
        {
         "void_fraction": 0.6019999999999999,
         "_deepnote_index_column": 66436
        },
        {
         "void_fraction": 0.5503899999999999,
         "_deepnote_index_column": 66437
        },
        {
         "void_fraction": 0.60503,
         "_deepnote_index_column": 66438
        },
        {
         "void_fraction": 0.6992599999999999,
         "_deepnote_index_column": 66439
        },
        {
         "void_fraction": 0.5776799999999999,
         "_deepnote_index_column": 66441
        },
        {
         "void_fraction": 0.46571,
         "_deepnote_index_column": 66442
        },
        {
         "void_fraction": 0.6749399999999999,
         "_deepnote_index_column": 66443
        },
        {
         "void_fraction": 0.73968,
         "_deepnote_index_column": 66444
        },
        {
         "void_fraction": 0.51827,
         "_deepnote_index_column": 66445
        },
        {
         "void_fraction": 0.77642,
         "_deepnote_index_column": 66447
        },
        {
         "void_fraction": 0.6044899999999999,
         "_deepnote_index_column": 66448
        },
        {
         "void_fraction": 0.83786,
         "_deepnote_index_column": 66449
        },
        {
         "void_fraction": 0.4567499999999999,
         "_deepnote_index_column": 66450
        },
        {
         "void_fraction": 0.7980399999999999,
         "_deepnote_index_column": 66451
        },
        {
         "void_fraction": 0.61592,
         "_deepnote_index_column": 66452
        },
        {
         "void_fraction": 0.6651,
         "_deepnote_index_column": 66453
        },
        {
         "void_fraction": 0.68856,
         "_deepnote_index_column": 66454
        },
        {
         "void_fraction": 0.8207700000000001,
         "_deepnote_index_column": 66455
        },
        {
         "void_fraction": 0.67278,
         "_deepnote_index_column": 66456
        },
        {
         "void_fraction": 0.5140799999999999,
         "_deepnote_index_column": 66457
        },
        {
         "void_fraction": 0.62873,
         "_deepnote_index_column": 66458
        },
        {
         "void_fraction": 0.69167,
         "_deepnote_index_column": 66459
        },
        {
         "void_fraction": 0.61571,
         "_deepnote_index_column": 66460
        },
        {
         "void_fraction": 0.08863,
         "_deepnote_index_column": 66461
        },
        {
         "void_fraction": 0.50648,
         "_deepnote_index_column": 66462
        },
        {
         "void_fraction": 0.59672,
         "_deepnote_index_column": 66463
        },
        {
         "void_fraction": 0.51132,
         "_deepnote_index_column": 66464
        },
        {
         "void_fraction": 0.5466199999999999,
         "_deepnote_index_column": 66465
        },
        {
         "void_fraction": 0.6332899999999999,
         "_deepnote_index_column": 66466
        },
        {
         "void_fraction": 0.57856,
         "_deepnote_index_column": 66467
        },
        {
         "void_fraction": 0.5125199999999999,
         "_deepnote_index_column": 66468
        },
        {
         "void_fraction": 0.5320699999999999,
         "_deepnote_index_column": 66469
        },
        {
         "void_fraction": 0.56673,
         "_deepnote_index_column": 66470
        },
        {
         "void_fraction": 0.70449,
         "_deepnote_index_column": 66471
        },
        {
         "void_fraction": 0.5885,
         "_deepnote_index_column": 66472
        },
        {
         "void_fraction": 0.5796799999999999,
         "_deepnote_index_column": 66473
        },
        {
         "void_fraction": 0.55515,
         "_deepnote_index_column": 66474
        },
        {
         "void_fraction": 0.6223699999999999,
         "_deepnote_index_column": 66475
        },
        {
         "void_fraction": 0.57546,
         "_deepnote_index_column": 66476
        },
        {
         "void_fraction": 0.60631,
         "_deepnote_index_column": 66477
        },
        {
         "void_fraction": 0.72075,
         "_deepnote_index_column": 66478
        },
        {
         "void_fraction": 0.1990399999999999,
         "_deepnote_index_column": 66480
        },
        {
         "void_fraction": 0.63148,
         "_deepnote_index_column": 66481
        },
        {
         "void_fraction": 0.4629399999999999,
         "_deepnote_index_column": 66482
        },
        {
         "void_fraction": 0.56151,
         "_deepnote_index_column": 66483
        },
        {
         "void_fraction": 0.66152,
         "_deepnote_index_column": 66484
        },
        {
         "void_fraction": 0.3912499999999999,
         "_deepnote_index_column": 66485
        },
        {
         "void_fraction": 0.7485399999999999,
         "_deepnote_index_column": 66486
        },
        {
         "void_fraction": 0.52132,
         "_deepnote_index_column": 66487
        },
        {
         "void_fraction": 0.8363299999999999,
         "_deepnote_index_column": 66488
        },
        {
         "void_fraction": 0.18281,
         "_deepnote_index_column": 66489
        },
        {
         "void_fraction": 0.67684,
         "_deepnote_index_column": 66490
        },
        {
         "void_fraction": 0.6464499999999999,
         "_deepnote_index_column": 66491
        },
        {
         "void_fraction": 0.8116999999999999,
         "_deepnote_index_column": 66492
        },
        {
         "void_fraction": 0.53558,
         "_deepnote_index_column": 66493
        },
        {
         "void_fraction": 0.76966,
         "_deepnote_index_column": 66494
        },
        {
         "void_fraction": 0.5833399999999999,
         "_deepnote_index_column": 66495
        },
        {
         "void_fraction": 0.4916599999999999,
         "_deepnote_index_column": 66496
        },
        {
         "void_fraction": 0.66181,
         "_deepnote_index_column": 66497
        },
        {
         "void_fraction": 0.03773,
         "_deepnote_index_column": 66498
        },
        {
         "void_fraction": 0.81056,
         "_deepnote_index_column": 66499
        },
        {
         "void_fraction": 0.6398599999999999,
         "_deepnote_index_column": 66500
        },
        {
         "void_fraction": 0.5751199999999999,
         "_deepnote_index_column": 66501
        },
        {
         "void_fraction": 0.6068899999999999,
         "_deepnote_index_column": 66502
        },
        {
         "void_fraction": 0.53316,
         "_deepnote_index_column": 66503
        },
        {
         "void_fraction": 0.53154,
         "_deepnote_index_column": 66504
        },
        {
         "void_fraction": 0.65642,
         "_deepnote_index_column": 66505
        },
        {
         "void_fraction": 0.68506,
         "_deepnote_index_column": 66506
        },
        {
         "void_fraction": 0.2526199999999999,
         "_deepnote_index_column": 66507
        },
        {
         "void_fraction": 0.6690599999999999,
         "_deepnote_index_column": 66508
        },
        {
         "void_fraction": 0.6462999999999999,
         "_deepnote_index_column": 66509
        },
        {
         "void_fraction": 0.47765,
         "_deepnote_index_column": 66510
        },
        {
         "void_fraction": 0.77778,
         "_deepnote_index_column": 66511
        },
        {
         "void_fraction": 0.7764999999999999,
         "_deepnote_index_column": 66512
        },
        {
         "void_fraction": 0.7543499999999999,
         "_deepnote_index_column": 66513
        },
        {
         "void_fraction": 0.67258,
         "_deepnote_index_column": 66514
        },
        {
         "void_fraction": 0.5438199999999999,
         "_deepnote_index_column": 66515
        },
        {
         "void_fraction": 0.5829199999999999,
         "_deepnote_index_column": 66516
        },
        {
         "void_fraction": 0.86555,
         "_deepnote_index_column": 66517
        },
        {
         "void_fraction": 0.70533,
         "_deepnote_index_column": 66518
        },
        {
         "void_fraction": 0.60648,
         "_deepnote_index_column": 66519
        },
        {
         "void_fraction": 0.3019,
         "_deepnote_index_column": 66520
        },
        {
         "void_fraction": 0.6633999999999999,
         "_deepnote_index_column": 66521
        },
        {
         "void_fraction": 0.57051,
         "_deepnote_index_column": 66522
        },
        {
         "void_fraction": 0.66963,
         "_deepnote_index_column": 66523
        },
        {
         "void_fraction": 0.5249099999999999,
         "_deepnote_index_column": 66524
        }
       ]
      },
      "text/plain": "            void_fraction\nUnnamed: 0               \n47630             0.36297\n47631             0.22833\n47632             0.35320\n47633             0.14975\n47635             0.36629\n...                   ...\n66520             0.30190\n66521             0.66340\n66522             0.57051\n66523             0.66963\n66524             0.52491\n\n[16134 rows x 1 columns]",
      "text/html": "<div>\n<style scoped>\n    .dataframe tbody tr th:only-of-type {\n        vertical-align: middle;\n    }\n\n    .dataframe tbody tr th {\n        vertical-align: top;\n    }\n\n    .dataframe thead th {\n        text-align: right;\n    }\n</style>\n<table border=\"1\" class=\"dataframe\">\n  <thead>\n    <tr style=\"text-align: right;\">\n      <th></th>\n      <th>void_fraction</th>\n    </tr>\n    <tr>\n      <th>Unnamed: 0</th>\n      <th></th>\n    </tr>\n  </thead>\n  <tbody>\n    <tr>\n      <th>47630</th>\n      <td>0.36297</td>\n    </tr>\n    <tr>\n      <th>47631</th>\n      <td>0.22833</td>\n    </tr>\n    <tr>\n      <th>47632</th>\n      <td>0.35320</td>\n    </tr>\n    <tr>\n      <th>47633</th>\n      <td>0.14975</td>\n    </tr>\n    <tr>\n      <th>47635</th>\n      <td>0.36629</td>\n    </tr>\n    <tr>\n      <th>...</th>\n      <td>...</td>\n    </tr>\n    <tr>\n      <th>66520</th>\n      <td>0.30190</td>\n    </tr>\n    <tr>\n      <th>66521</th>\n      <td>0.66340</td>\n    </tr>\n    <tr>\n      <th>66522</th>\n      <td>0.57051</td>\n    </tr>\n    <tr>\n      <th>66523</th>\n      <td>0.66963</td>\n    </tr>\n    <tr>\n      <th>66524</th>\n      <td>0.52491</td>\n    </tr>\n  </tbody>\n</table>\n<p>16134 rows × 1 columns</p>\n</div>"
     },
     "metadata": {}
    }
   ]
  },
  {
   "cell_type": "code",
   "metadata": {
    "tags": [],
    "cell_id": "00005-bb65ffb5-9593-401e-a11e-273895d3785e",
    "deepnote_to_be_reexecuted": false,
    "source_hash": "a2823a63",
    "execution_start": 1632502152445,
    "execution_millis": 93,
    "deepnote_cell_type": "code"
   },
   "source": "prediction[[\"void_fraction\"]]",
   "execution_count": null,
   "outputs": [
    {
     "output_type": "execute_result",
     "execution_count": 8,
     "data": {
      "application/vnd.deepnote.dataframe.v2+json": {
       "row_count": 16134,
       "column_count": 1,
       "columns": [
        {
         "name": "void_fraction",
         "dtype": "float32",
         "stats": {
          "unique_count": 16065,
          "nan_count": 0,
          "min": "0.16186603903770447",
          "max": "0.5216569304466248",
          "histogram": [
           {
            "bin_start": 0.16186603903770447,
            "bin_end": 0.19784513115882874,
            "count": 1754
           },
           {
            "bin_start": 0.19784513115882874,
            "bin_end": 0.233824223279953,
            "count": 1296
           },
           {
            "bin_start": 0.233824223279953,
            "bin_end": 0.26980331540107727,
            "count": 1483
           },
           {
            "bin_start": 0.26980331540107727,
            "bin_end": 0.30578240752220154,
            "count": 1264
           },
           {
            "bin_start": 0.30578240752220154,
            "bin_end": 0.3417614698410034,
            "count": 1422
           },
           {
            "bin_start": 0.3417614698410034,
            "bin_end": 0.3777405619621277,
            "count": 1184
           },
           {
            "bin_start": 0.3777405619621277,
            "bin_end": 0.41371965408325195,
            "count": 876
           },
           {
            "bin_start": 0.41371965408325195,
            "bin_end": 0.4496987462043762,
            "count": 789
           },
           {
            "bin_start": 0.4496987462043762,
            "bin_end": 0.4856778383255005,
            "count": 998
           },
           {
            "bin_start": 0.4856778383255005,
            "bin_end": 0.5216569304466248,
            "count": 5068
           }
          ]
         }
        },
        {
         "name": "_deepnote_index_column",
         "dtype": "int64"
        }
       ],
       "rows_top": [
        {
         "void_fraction": 0.3885889947414398,
         "_deepnote_index_column": 47630
        },
        {
         "void_fraction": 0.273712694644928,
         "_deepnote_index_column": 47631
        },
        {
         "void_fraction": 0.3474254012107849,
         "_deepnote_index_column": 47632
        },
        {
         "void_fraction": 0.19446352124214172,
         "_deepnote_index_column": 47633
        },
        {
         "void_fraction": 0.3912689983844757,
         "_deepnote_index_column": 47635
        },
        {
         "void_fraction": 0.16920724511146545,
         "_deepnote_index_column": 47638
        },
        {
         "void_fraction": 0.42366933822631836,
         "_deepnote_index_column": 47639
        },
        {
         "void_fraction": 0.46354860067367554,
         "_deepnote_index_column": 47640
        },
        {
         "void_fraction": 0.26113632321357727,
         "_deepnote_index_column": 47641
        },
        {
         "void_fraction": 0.3677130937576294,
         "_deepnote_index_column": 47642
        },
        {
         "void_fraction": 0.22102412581443787,
         "_deepnote_index_column": 47643
        },
        {
         "void_fraction": 0.17916002869606018,
         "_deepnote_index_column": 47644
        },
        {
         "void_fraction": 0.216537743806839,
         "_deepnote_index_column": 47645
        },
        {
         "void_fraction": 0.32376739382743835,
         "_deepnote_index_column": 47646
        },
        {
         "void_fraction": 0.3317985534667969,
         "_deepnote_index_column": 47647
        },
        {
         "void_fraction": 0.5159451961517334,
         "_deepnote_index_column": 47648
        },
        {
         "void_fraction": 0.31486356258392334,
         "_deepnote_index_column": 47649
        },
        {
         "void_fraction": 0.18660548329353333,
         "_deepnote_index_column": 47653
        },
        {
         "void_fraction": 0.24989908933639526,
         "_deepnote_index_column": 47654
        },
        {
         "void_fraction": 0.1921350657939911,
         "_deepnote_index_column": 47655
        },
        {
         "void_fraction": 0.1631515622138977,
         "_deepnote_index_column": 47656
        },
        {
         "void_fraction": 0.188287615776062,
         "_deepnote_index_column": 47657
        },
        {
         "void_fraction": 0.1648009717464447,
         "_deepnote_index_column": 47658
        },
        {
         "void_fraction": 0.25901779532432556,
         "_deepnote_index_column": 47659
        },
        {
         "void_fraction": 0.2576165795326233,
         "_deepnote_index_column": 47660
        },
        {
         "void_fraction": 0.3185167908668518,
         "_deepnote_index_column": 47661
        },
        {
         "void_fraction": 0.277992844581604,
         "_deepnote_index_column": 47662
        },
        {
         "void_fraction": 0.33235785365104675,
         "_deepnote_index_column": 47663
        },
        {
         "void_fraction": 0.1959940791130066,
         "_deepnote_index_column": 47665
        },
        {
         "void_fraction": 0.3242044448852539,
         "_deepnote_index_column": 47666
        },
        {
         "void_fraction": 0.34892892837524414,
         "_deepnote_index_column": 47667
        },
        {
         "void_fraction": 0.231378972530365,
         "_deepnote_index_column": 47668
        },
        {
         "void_fraction": 0.41554269194602966,
         "_deepnote_index_column": 47669
        },
        {
         "void_fraction": 0.2839583158493042,
         "_deepnote_index_column": 47671
        },
        {
         "void_fraction": 0.3928884267807007,
         "_deepnote_index_column": 47673
        },
        {
         "void_fraction": 0.3398103713989258,
         "_deepnote_index_column": 47674
        },
        {
         "void_fraction": 0.3499506413936615,
         "_deepnote_index_column": 47675
        },
        {
         "void_fraction": 0.3096874952316284,
         "_deepnote_index_column": 47676
        },
        {
         "void_fraction": 0.3254891037940979,
         "_deepnote_index_column": 47677
        },
        {
         "void_fraction": 0.2929881811141968,
         "_deepnote_index_column": 47678
        },
        {
         "void_fraction": 0.4447129964828491,
         "_deepnote_index_column": 47679
        },
        {
         "void_fraction": 0.2319563627243042,
         "_deepnote_index_column": 47680
        },
        {
         "void_fraction": 0.19252365827560425,
         "_deepnote_index_column": 47681
        },
        {
         "void_fraction": 0.27024567127227783,
         "_deepnote_index_column": 47682
        },
        {
         "void_fraction": 0.41861075162887573,
         "_deepnote_index_column": 47683
        },
        {
         "void_fraction": 0.2545202374458313,
         "_deepnote_index_column": 47684
        },
        {
         "void_fraction": 0.251762717962265,
         "_deepnote_index_column": 47685
        },
        {
         "void_fraction": 0.3225644826889038,
         "_deepnote_index_column": 47686
        },
        {
         "void_fraction": 0.31999027729034424,
         "_deepnote_index_column": 47687
        },
        {
         "void_fraction": 0.16493064165115356,
         "_deepnote_index_column": 47690
        },
        {
         "void_fraction": 0.34435200691223145,
         "_deepnote_index_column": 47691
        },
        {
         "void_fraction": 0.29106616973876953,
         "_deepnote_index_column": 47692
        },
        {
         "void_fraction": 0.1897883117198944,
         "_deepnote_index_column": 47694
        },
        {
         "void_fraction": 0.29851028323173523,
         "_deepnote_index_column": 47695
        },
        {
         "void_fraction": 0.16593024134635925,
         "_deepnote_index_column": 47696
        },
        {
         "void_fraction": 0.2628072500228882,
         "_deepnote_index_column": 47697
        },
        {
         "void_fraction": 0.19962406158447266,
         "_deepnote_index_column": 47699
        },
        {
         "void_fraction": 0.23003503680229187,
         "_deepnote_index_column": 47701
        },
        {
         "void_fraction": 0.31950679421424866,
         "_deepnote_index_column": 47702
        },
        {
         "void_fraction": 0.32785701751708984,
         "_deepnote_index_column": 47703
        },
        {
         "void_fraction": 0.43123340606689453,
         "_deepnote_index_column": 47704
        },
        {
         "void_fraction": 0.33166080713272095,
         "_deepnote_index_column": 47706
        },
        {
         "void_fraction": 0.2882622182369232,
         "_deepnote_index_column": 47707
        },
        {
         "void_fraction": 0.23010408878326416,
         "_deepnote_index_column": 47708
        },
        {
         "void_fraction": 0.3391799032688141,
         "_deepnote_index_column": 47709
        },
        {
         "void_fraction": 0.3554963767528534,
         "_deepnote_index_column": 47710
        },
        {
         "void_fraction": 0.4002316892147064,
         "_deepnote_index_column": 47711
        },
        {
         "void_fraction": 0.24835073947906494,
         "_deepnote_index_column": 47712
        },
        {
         "void_fraction": 0.25395041704177856,
         "_deepnote_index_column": 47713
        },
        {
         "void_fraction": 0.44030505418777466,
         "_deepnote_index_column": 47714
        },
        {
         "void_fraction": 0.24791014194488525,
         "_deepnote_index_column": 47715
        },
        {
         "void_fraction": 0.3261061906814575,
         "_deepnote_index_column": 47716
        },
        {
         "void_fraction": 0.21286791563034058,
         "_deepnote_index_column": 47717
        },
        {
         "void_fraction": 0.355782687664032,
         "_deepnote_index_column": 47719
        },
        {
         "void_fraction": 0.20951130986213684,
         "_deepnote_index_column": 47720
        },
        {
         "void_fraction": 0.20938697457313538,
         "_deepnote_index_column": 47721
        },
        {
         "void_fraction": 0.333420068025589,
         "_deepnote_index_column": 47724
        },
        {
         "void_fraction": 0.3189014792442322,
         "_deepnote_index_column": 47725
        },
        {
         "void_fraction": 0.3813841938972473,
         "_deepnote_index_column": 47726
        },
        {
         "void_fraction": 0.38024672865867615,
         "_deepnote_index_column": 47727
        },
        {
         "void_fraction": 0.3108524978160858,
         "_deepnote_index_column": 47728
        },
        {
         "void_fraction": 0.3321807384490967,
         "_deepnote_index_column": 47730
        },
        {
         "void_fraction": 0.3529507517814636,
         "_deepnote_index_column": 47731
        },
        {
         "void_fraction": 0.2730376720428467,
         "_deepnote_index_column": 47735
        },
        {
         "void_fraction": 0.2744652032852173,
         "_deepnote_index_column": 47737
        },
        {
         "void_fraction": 0.16625800728797913,
         "_deepnote_index_column": 47738
        },
        {
         "void_fraction": 0.16277596354484558,
         "_deepnote_index_column": 47739
        },
        {
         "void_fraction": 0.4181221127510071,
         "_deepnote_index_column": 47740
        },
        {
         "void_fraction": 0.5018415451049805,
         "_deepnote_index_column": 47741
        },
        {
         "void_fraction": 0.24418982863426208,
         "_deepnote_index_column": 47742
        },
        {
         "void_fraction": 0.3383272886276245,
         "_deepnote_index_column": 47743
        },
        {
         "void_fraction": 0.33044081926345825,
         "_deepnote_index_column": 47746
        },
        {
         "void_fraction": 0.35528647899627686,
         "_deepnote_index_column": 47747
        },
        {
         "void_fraction": 0.3246028423309326,
         "_deepnote_index_column": 47748
        },
        {
         "void_fraction": 0.3215932846069336,
         "_deepnote_index_column": 47749
        },
        {
         "void_fraction": 0.443670392036438,
         "_deepnote_index_column": 47750
        },
        {
         "void_fraction": 0.35780733823776245,
         "_deepnote_index_column": 47752
        },
        {
         "void_fraction": 0.19391822814941406,
         "_deepnote_index_column": 47753
        },
        {
         "void_fraction": 0.27096861600875854,
         "_deepnote_index_column": 47754
        },
        {
         "void_fraction": 0.31681621074676514,
         "_deepnote_index_column": 47755
        },
        {
         "void_fraction": 0.17810750007629395,
         "_deepnote_index_column": 47756
        },
        {
         "void_fraction": 0.3405761122703552,
         "_deepnote_index_column": 47757
        },
        {
         "void_fraction": 0.33782249689102173,
         "_deepnote_index_column": 47758
        },
        {
         "void_fraction": 0.330841988325119,
         "_deepnote_index_column": 47761
        },
        {
         "void_fraction": 0.2821076512336731,
         "_deepnote_index_column": 47762
        },
        {
         "void_fraction": 0.3157864809036255,
         "_deepnote_index_column": 47763
        },
        {
         "void_fraction": 0.2637825012207031,
         "_deepnote_index_column": 47766
        },
        {
         "void_fraction": 0.3340113162994385,
         "_deepnote_index_column": 47767
        },
        {
         "void_fraction": 0.21974176168441772,
         "_deepnote_index_column": 47768
        },
        {
         "void_fraction": 0.18274253606796265,
         "_deepnote_index_column": 47769
        },
        {
         "void_fraction": 0.17361661791801453,
         "_deepnote_index_column": 47770
        },
        {
         "void_fraction": 0.36428290605545044,
         "_deepnote_index_column": 47771
        },
        {
         "void_fraction": 0.44428157806396484,
         "_deepnote_index_column": 47772
        },
        {
         "void_fraction": 0.3062039911746979,
         "_deepnote_index_column": 47773
        },
        {
         "void_fraction": 0.17664334177970886,
         "_deepnote_index_column": 47774
        },
        {
         "void_fraction": 0.3974694013595581,
         "_deepnote_index_column": 47775
        },
        {
         "void_fraction": 0.4033307433128357,
         "_deepnote_index_column": 47777
        },
        {
         "void_fraction": 0.16393959522247314,
         "_deepnote_index_column": 47778
        },
        {
         "void_fraction": 0.18950405716896057,
         "_deepnote_index_column": 47781
        },
        {
         "void_fraction": 0.33817434310913086,
         "_deepnote_index_column": 47782
        },
        {
         "void_fraction": 0.18440046906471252,
         "_deepnote_index_column": 47783
        },
        {
         "void_fraction": 0.4518969655036926,
         "_deepnote_index_column": 47784
        },
        {
         "void_fraction": 0.24798402190208435,
         "_deepnote_index_column": 47785
        },
        {
         "void_fraction": 0.19769108295440674,
         "_deepnote_index_column": 47787
        },
        {
         "void_fraction": 0.22285497188568115,
         "_deepnote_index_column": 47788
        },
        {
         "void_fraction": 0.26371240615844727,
         "_deepnote_index_column": 47789
        },
        {
         "void_fraction": 0.17573803663253784,
         "_deepnote_index_column": 47790
        },
        {
         "void_fraction": 0.24343881011009216,
         "_deepnote_index_column": 47791
        },
        {
         "void_fraction": 0.30940496921539307,
         "_deepnote_index_column": 47792
        },
        {
         "void_fraction": 0.16379496455192566,
         "_deepnote_index_column": 47797
        },
        {
         "void_fraction": 0.26267772912979126,
         "_deepnote_index_column": 47799
        },
        {
         "void_fraction": 0.3028014302253723,
         "_deepnote_index_column": 47800
        },
        {
         "void_fraction": 0.40583157539367676,
         "_deepnote_index_column": 47802
        },
        {
         "void_fraction": 0.31789514422416687,
         "_deepnote_index_column": 47804
        },
        {
         "void_fraction": 0.29010167717933655,
         "_deepnote_index_column": 47806
        },
        {
         "void_fraction": 0.31924253702163696,
         "_deepnote_index_column": 47807
        },
        {
         "void_fraction": 0.2936178147792816,
         "_deepnote_index_column": 47808
        },
        {
         "void_fraction": 0.2820857763290405,
         "_deepnote_index_column": 47809
        },
        {
         "void_fraction": 0.260555624961853,
         "_deepnote_index_column": 47810
        },
        {
         "void_fraction": 0.49118772149086,
         "_deepnote_index_column": 47811
        },
        {
         "void_fraction": 0.2769993543624878,
         "_deepnote_index_column": 47812
        },
        {
         "void_fraction": 0.19940096139907837,
         "_deepnote_index_column": 47813
        },
        {
         "void_fraction": 0.16942575573921204,
         "_deepnote_index_column": 47814
        },
        {
         "void_fraction": 0.2531968355178833,
         "_deepnote_index_column": 47815
        },
        {
         "void_fraction": 0.39403223991394043,
         "_deepnote_index_column": 47817
        },
        {
         "void_fraction": 0.38845163583755493,
         "_deepnote_index_column": 47818
        },
        {
         "void_fraction": 0.2318059802055359,
         "_deepnote_index_column": 47819
        },
        {
         "void_fraction": 0.32858747243881226,
         "_deepnote_index_column": 47822
        },
        {
         "void_fraction": 0.27387750148773193,
         "_deepnote_index_column": 47823
        },
        {
         "void_fraction": 0.28642964363098145,
         "_deepnote_index_column": 47824
        },
        {
         "void_fraction": 0.25587838888168335,
         "_deepnote_index_column": 47825
        },
        {
         "void_fraction": 0.19404122233390808,
         "_deepnote_index_column": 47827
        },
        {
         "void_fraction": 0.18654265999794006,
         "_deepnote_index_column": 47828
        },
        {
         "void_fraction": 0.16259407997131348,
         "_deepnote_index_column": 47830
        },
        {
         "void_fraction": 0.3039538860321045,
         "_deepnote_index_column": 47831
        },
        {
         "void_fraction": 0.2161571979522705,
         "_deepnote_index_column": 47832
        },
        {
         "void_fraction": 0.4223567247390747,
         "_deepnote_index_column": 47833
        },
        {
         "void_fraction": 0.33909881114959717,
         "_deepnote_index_column": 47834
        },
        {
         "void_fraction": 0.37405529618263245,
         "_deepnote_index_column": 47835
        },
        {
         "void_fraction": 0.37050431966781616,
         "_deepnote_index_column": 47836
        },
        {
         "void_fraction": 0.19773346185684204,
         "_deepnote_index_column": 47837
        },
        {
         "void_fraction": 0.4805965721607208,
         "_deepnote_index_column": 47838
        },
        {
         "void_fraction": 0.18028473854064941,
         "_deepnote_index_column": 47839
        },
        {
         "void_fraction": 0.3943161368370056,
         "_deepnote_index_column": 47840
        },
        {
         "void_fraction": 0.21966713666915894,
         "_deepnote_index_column": 47841
        },
        {
         "void_fraction": 0.16544154286384583,
         "_deepnote_index_column": 47842
        },
        {
         "void_fraction": 0.33878788352012634,
         "_deepnote_index_column": 47843
        },
        {
         "void_fraction": 0.3482212424278259,
         "_deepnote_index_column": 47844
        },
        {
         "void_fraction": 0.1775667369365692,
         "_deepnote_index_column": 47845
        },
        {
         "void_fraction": 0.38515326380729675,
         "_deepnote_index_column": 47846
        },
        {
         "void_fraction": 0.3932015299797058,
         "_deepnote_index_column": 47847
        },
        {
         "void_fraction": 0.20211878418922424,
         "_deepnote_index_column": 47848
        },
        {
         "void_fraction": 0.3338126540184021,
         "_deepnote_index_column": 47849
        },
        {
         "void_fraction": 0.2958904504776001,
         "_deepnote_index_column": 47850
        },
        {
         "void_fraction": 0.45784035325050354,
         "_deepnote_index_column": 47851
        },
        {
         "void_fraction": 0.3787766098976135,
         "_deepnote_index_column": 47852
        },
        {
         "void_fraction": 0.20747706294059753,
         "_deepnote_index_column": 47853
        },
        {
         "void_fraction": 0.2738521099090576,
         "_deepnote_index_column": 47854
        },
        {
         "void_fraction": 0.2809969186782837,
         "_deepnote_index_column": 47857
        },
        {
         "void_fraction": 0.20241671800613403,
         "_deepnote_index_column": 47859
        },
        {
         "void_fraction": 0.2890564203262329,
         "_deepnote_index_column": 47863
        },
        {
         "void_fraction": 0.27144259214401245,
         "_deepnote_index_column": 47865
        },
        {
         "void_fraction": 0.1776556670665741,
         "_deepnote_index_column": 47866
        },
        {
         "void_fraction": 0.40042105317115784,
         "_deepnote_index_column": 47867
        },
        {
         "void_fraction": 0.3984229266643524,
         "_deepnote_index_column": 47868
        },
        {
         "void_fraction": 0.22574517130851746,
         "_deepnote_index_column": 47869
        },
        {
         "void_fraction": 0.4579298794269562,
         "_deepnote_index_column": 47870
        },
        {
         "void_fraction": 0.16528666019439697,
         "_deepnote_index_column": 47871
        },
        {
         "void_fraction": 0.2323375940322876,
         "_deepnote_index_column": 47872
        },
        {
         "void_fraction": 0.30240699648857117,
         "_deepnote_index_column": 47873
        },
        {
         "void_fraction": 0.3173191249370575,
         "_deepnote_index_column": 47874
        },
        {
         "void_fraction": 0.24219352006912231,
         "_deepnote_index_column": 47875
        },
        {
         "void_fraction": 0.18559354543685913,
         "_deepnote_index_column": 47877
        },
        {
         "void_fraction": 0.2786068916320801,
         "_deepnote_index_column": 47878
        },
        {
         "void_fraction": 0.43014174699783325,
         "_deepnote_index_column": 47879
        },
        {
         "void_fraction": 0.21970731019973755,
         "_deepnote_index_column": 47880
        },
        {
         "void_fraction": 0.1625436544418335,
         "_deepnote_index_column": 47881
        },
        {
         "void_fraction": 0.33294397592544556,
         "_deepnote_index_column": 47882
        },
        {
         "void_fraction": 0.3596528172492981,
         "_deepnote_index_column": 47884
        },
        {
         "void_fraction": 0.48841118812561035,
         "_deepnote_index_column": 47885
        },
        {
         "void_fraction": 0.2740984559059143,
         "_deepnote_index_column": 47886
        },
        {
         "void_fraction": 0.24596524238586426,
         "_deepnote_index_column": 47887
        },
        {
         "void_fraction": 0.32920074462890625,
         "_deepnote_index_column": 47889
        },
        {
         "void_fraction": 0.3553292751312256,
         "_deepnote_index_column": 47890
        },
        {
         "void_fraction": 0.30918067693710327,
         "_deepnote_index_column": 47891
        },
        {
         "void_fraction": 0.3724806308746338,
         "_deepnote_index_column": 47892
        },
        {
         "void_fraction": 0.44712594151496887,
         "_deepnote_index_column": 47894
        },
        {
         "void_fraction": 0.28756773471832275,
         "_deepnote_index_column": 47895
        },
        {
         "void_fraction": 0.46740248799324036,
         "_deepnote_index_column": 47896
        },
        {
         "void_fraction": 0.21123242378234863,
         "_deepnote_index_column": 47897
        },
        {
         "void_fraction": 0.1936948597431183,
         "_deepnote_index_column": 47898
        },
        {
         "void_fraction": 0.19140630960464478,
         "_deepnote_index_column": 47900
        },
        {
         "void_fraction": 0.3502352237701416,
         "_deepnote_index_column": 47901
        },
        {
         "void_fraction": 0.2509711682796478,
         "_deepnote_index_column": 47902
        },
        {
         "void_fraction": 0.24692997336387634,
         "_deepnote_index_column": 47903
        },
        {
         "void_fraction": 0.2540280222892761,
         "_deepnote_index_column": 47904
        },
        {
         "void_fraction": 0.2761539816856384,
         "_deepnote_index_column": 47906
        },
        {
         "void_fraction": 0.34317466616630554,
         "_deepnote_index_column": 47908
        },
        {
         "void_fraction": 0.34537482261657715,
         "_deepnote_index_column": 47909
        },
        {
         "void_fraction": 0.2506340742111206,
         "_deepnote_index_column": 47911
        },
        {
         "void_fraction": 0.23460173606872559,
         "_deepnote_index_column": 47912
        },
        {
         "void_fraction": 0.30340689420700073,
         "_deepnote_index_column": 47913
        },
        {
         "void_fraction": 0.19395849108695984,
         "_deepnote_index_column": 47914
        },
        {
         "void_fraction": 0.1870456039905548,
         "_deepnote_index_column": 47916
        },
        {
         "void_fraction": 0.32837367057800293,
         "_deepnote_index_column": 47917
        },
        {
         "void_fraction": 0.19882327318191528,
         "_deepnote_index_column": 47918
        },
        {
         "void_fraction": 0.4534476101398468,
         "_deepnote_index_column": 47919
        },
        {
         "void_fraction": 0.40328991413116455,
         "_deepnote_index_column": 47920
        },
        {
         "void_fraction": 0.3573458194732666,
         "_deepnote_index_column": 47921
        },
        {
         "void_fraction": 0.23315608501434326,
         "_deepnote_index_column": 47922
        },
        {
         "void_fraction": 0.2932601571083069,
         "_deepnote_index_column": 47924
        },
        {
         "void_fraction": 0.37023210525512695,
         "_deepnote_index_column": 47925
        },
        {
         "void_fraction": 0.42788055539131165,
         "_deepnote_index_column": 47926
        },
        {
         "void_fraction": 0.3991474509239197,
         "_deepnote_index_column": 47927
        },
        {
         "void_fraction": 0.23422759771347046,
         "_deepnote_index_column": 47928
        },
        {
         "void_fraction": 0.46862709522247314,
         "_deepnote_index_column": 47929
        },
        {
         "void_fraction": 0.1884709894657135,
         "_deepnote_index_column": 47930
        },
        {
         "void_fraction": 0.2110784947872162,
         "_deepnote_index_column": 47931
        },
        {
         "void_fraction": 0.41106945276260376,
         "_deepnote_index_column": 47932
        },
        {
         "void_fraction": 0.44194886088371277,
         "_deepnote_index_column": 47933
        },
        {
         "void_fraction": 0.20014548301696777,
         "_deepnote_index_column": 47934
        },
        {
         "void_fraction": 0.16714847087860107,
         "_deepnote_index_column": 47936
        },
        {
         "void_fraction": 0.2235759198665619,
         "_deepnote_index_column": 47941
        },
        {
         "void_fraction": 0.30080679059028625,
         "_deepnote_index_column": 47942
        },
        {
         "void_fraction": 0.25778210163116455,
         "_deepnote_index_column": 47945
        },
        {
         "void_fraction": 0.3509769141674042,
         "_deepnote_index_column": 47946
        },
        {
         "void_fraction": 0.3147706687450409,
         "_deepnote_index_column": 47947
        },
        {
         "void_fraction": 0.34543943405151367,
         "_deepnote_index_column": 47948
        },
        {
         "void_fraction": 0.3886278569698334,
         "_deepnote_index_column": 47949
        },
        {
         "void_fraction": 0.17719143629074097,
         "_deepnote_index_column": 47950
        },
        {
         "void_fraction": 0.2259313464164734,
         "_deepnote_index_column": 47951
        },
        {
         "void_fraction": 0.48881974816322327,
         "_deepnote_index_column": 47952
        },
        {
         "void_fraction": 0.17032641172409058,
         "_deepnote_index_column": 47953
        },
        {
         "void_fraction": 0.16337910294532776,
         "_deepnote_index_column": 47954
        },
        {
         "void_fraction": 0.37243568897247314,
         "_deepnote_index_column": 47955
        },
        {
         "void_fraction": 0.21872562170028687,
         "_deepnote_index_column": 47957
        },
        {
         "void_fraction": 0.3338853120803833,
         "_deepnote_index_column": 47958
        },
        {
         "void_fraction": 0.27050960063934326,
         "_deepnote_index_column": 47959
        },
        {
         "void_fraction": 0.2762264013290405,
         "_deepnote_index_column": 47961
        },
        {
         "void_fraction": 0.1860722005367279,
         "_deepnote_index_column": 47962
        },
        {
         "void_fraction": 0.33400753140449524,
         "_deepnote_index_column": 47964
        },
        {
         "void_fraction": 0.3178037405014038,
         "_deepnote_index_column": 47966
        },
        {
         "void_fraction": 0.23531979322433472,
         "_deepnote_index_column": 47967
        },
        {
         "void_fraction": 0.18351727724075317,
         "_deepnote_index_column": 47968
        },
        {
         "void_fraction": 0.35499846935272217,
         "_deepnote_index_column": 47970
        },
        {
         "void_fraction": 0.16658782958984375,
         "_deepnote_index_column": 47971
        },
        {
         "void_fraction": 0.34930649399757385,
         "_deepnote_index_column": 47972
        },
        {
         "void_fraction": 0.3793002665042877,
         "_deepnote_index_column": 47974
        },
        {
         "void_fraction": 0.4053219258785248,
         "_deepnote_index_column": 47975
        },
        {
         "void_fraction": 0.27042609453201294,
         "_deepnote_index_column": 47976
        },
        {
         "void_fraction": 0.34812411665916443,
         "_deepnote_index_column": 47977
        },
        {
         "void_fraction": 0.4054309129714966,
         "_deepnote_index_column": 47979
        },
        {
         "void_fraction": 0.3770661950111389,
         "_deepnote_index_column": 47980
        },
        {
         "void_fraction": 0.44052109122276306,
         "_deepnote_index_column": 47982
        },
        {
         "void_fraction": 0.5033341646194458,
         "_deepnote_index_column": 47983
        },
        {
         "void_fraction": 0.22971603274345398,
         "_deepnote_index_column": 47984
        },
        {
         "void_fraction": 0.1779419183731079,
         "_deepnote_index_column": 47985
        },
        {
         "void_fraction": 0.18464472889900208,
         "_deepnote_index_column": 47986
        },
        {
         "void_fraction": 0.2580196261405945,
         "_deepnote_index_column": 47987
        },
        {
         "void_fraction": 0.18271490931510925,
         "_deepnote_index_column": 47988
        },
        {
         "void_fraction": 0.4848747253417969,
         "_deepnote_index_column": 47989
        },
        {
         "void_fraction": 0.20618191361427307,
         "_deepnote_index_column": 47990
        },
        {
         "void_fraction": 0.33279794454574585,
         "_deepnote_index_column": 47992
        },
        {
         "void_fraction": 0.3255492150783539,
         "_deepnote_index_column": 47993
        },
        {
         "void_fraction": 0.35728907585144043,
         "_deepnote_index_column": 47994
        },
        {
         "void_fraction": 0.2290264368057251,
         "_deepnote_index_column": 47997
        },
        {
         "void_fraction": 0.22381752729415894,
         "_deepnote_index_column": 47998
        },
        {
         "void_fraction": 0.39762282371520996,
         "_deepnote_index_column": 47999
        },
        {
         "void_fraction": 0.2982047200202942,
         "_deepnote_index_column": 48000
        },
        {
         "void_fraction": 0.19474688172340393,
         "_deepnote_index_column": 48001
        },
        {
         "void_fraction": 0.20517325401306152,
         "_deepnote_index_column": 48002
        },
        {
         "void_fraction": 0.19032782316207886,
         "_deepnote_index_column": 48003
        },
        {
         "void_fraction": 0.2934318780899048,
         "_deepnote_index_column": 48004
        },
        {
         "void_fraction": 0.24647721648216248,
         "_deepnote_index_column": 48005
        },
        {
         "void_fraction": 0.32597851753234863,
         "_deepnote_index_column": 48006
        },
        {
         "void_fraction": 0.42846935987472534,
         "_deepnote_index_column": 48007
        },
        {
         "void_fraction": 0.19933459162712097,
         "_deepnote_index_column": 48008
        },
        {
         "void_fraction": 0.20508825778961182,
         "_deepnote_index_column": 48009
        },
        {
         "void_fraction": 0.2415848970413208,
         "_deepnote_index_column": 48010
        },
        {
         "void_fraction": 0.2944486141204834,
         "_deepnote_index_column": 48011
        },
        {
         "void_fraction": 0.2153201699256897,
         "_deepnote_index_column": 48012
        },
        {
         "void_fraction": 0.234345942735672,
         "_deepnote_index_column": 48013
        },
        {
         "void_fraction": 0.3102903664112091,
         "_deepnote_index_column": 48014
        },
        {
         "void_fraction": 0.4632202684879303,
         "_deepnote_index_column": 48015
        },
        {
         "void_fraction": 0.28810203075408936,
         "_deepnote_index_column": 48017
        },
        {
         "void_fraction": 0.23047664761543274,
         "_deepnote_index_column": 48018
        },
        {
         "void_fraction": 0.4036979377269745,
         "_deepnote_index_column": 48019
        },
        {
         "void_fraction": 0.32152533531188965,
         "_deepnote_index_column": 48020
        },
        {
         "void_fraction": 0.25918006896972656,
         "_deepnote_index_column": 48023
        },
        {
         "void_fraction": 0.3566296696662903,
         "_deepnote_index_column": 48026
        },
        {
         "void_fraction": 0.21786198019981384,
         "_deepnote_index_column": 48028
        },
        {
         "void_fraction": 0.27686846256256104,
         "_deepnote_index_column": 48029
        },
        {
         "void_fraction": 0.321087121963501,
         "_deepnote_index_column": 48030
        },
        {
         "void_fraction": 0.21232730150222778,
         "_deepnote_index_column": 48033
        },
        {
         "void_fraction": 0.39269715547561646,
         "_deepnote_index_column": 48034
        },
        {
         "void_fraction": 0.24117586016654968,
         "_deepnote_index_column": 48035
        },
        {
         "void_fraction": 0.17840003967285156,
         "_deepnote_index_column": 48036
        },
        {
         "void_fraction": 0.26043352484703064,
         "_deepnote_index_column": 48037
        },
        {
         "void_fraction": 0.23678812384605408,
         "_deepnote_index_column": 48038
        },
        {
         "void_fraction": 0.20669305324554443,
         "_deepnote_index_column": 48039
        },
        {
         "void_fraction": 0.43815818428993225,
         "_deepnote_index_column": 48040
        },
        {
         "void_fraction": 0.16705235838890076,
         "_deepnote_index_column": 48042
        },
        {
         "void_fraction": 0.34952032566070557,
         "_deepnote_index_column": 48045
        },
        {
         "void_fraction": 0.3604187071323395,
         "_deepnote_index_column": 48046
        },
        {
         "void_fraction": 0.3149741291999817,
         "_deepnote_index_column": 48047
        },
        {
         "void_fraction": 0.3697815239429474,
         "_deepnote_index_column": 48048
        },
        {
         "void_fraction": 0.42519035935401917,
         "_deepnote_index_column": 48049
        },
        {
         "void_fraction": 0.1703898310661316,
         "_deepnote_index_column": 48050
        },
        {
         "void_fraction": 0.21460217237472534,
         "_deepnote_index_column": 48051
        },
        {
         "void_fraction": 0.2133602797985077,
         "_deepnote_index_column": 48052
        },
        {
         "void_fraction": 0.39561909437179565,
         "_deepnote_index_column": 48053
        },
        {
         "void_fraction": 0.3001282215118408,
         "_deepnote_index_column": 48054
        },
        {
         "void_fraction": 0.18782028555870056,
         "_deepnote_index_column": 48055
        },
        {
         "void_fraction": 0.3131997883319855,
         "_deepnote_index_column": 48056
        },
        {
         "void_fraction": 0.3538154363632202,
         "_deepnote_index_column": 48057
        },
        {
         "void_fraction": 0.30920058488845825,
         "_deepnote_index_column": 48058
        },
        {
         "void_fraction": 0.19954735040664673,
         "_deepnote_index_column": 48059
        },
        {
         "void_fraction": 0.3329890966415405,
         "_deepnote_index_column": 48060
        },
        {
         "void_fraction": 0.3042069673538208,
         "_deepnote_index_column": 48061
        },
        {
         "void_fraction": 0.2802819609642029,
         "_deepnote_index_column": 48062
        },
        {
         "void_fraction": 0.2806529402732849,
         "_deepnote_index_column": 48063
        },
        {
         "void_fraction": 0.2969963550567627,
         "_deepnote_index_column": 48064
        },
        {
         "void_fraction": 0.2119865119457245,
         "_deepnote_index_column": 48065
        },
        {
         "void_fraction": 0.451712429523468,
         "_deepnote_index_column": 48066
        },
        {
         "void_fraction": 0.2806485891342163,
         "_deepnote_index_column": 48067
        },
        {
         "void_fraction": 0.2714838981628418,
         "_deepnote_index_column": 48068
        },
        {
         "void_fraction": 0.4806579053401947,
         "_deepnote_index_column": 48069
        },
        {
         "void_fraction": 0.21422913670539856,
         "_deepnote_index_column": 48070
        },
        {
         "void_fraction": 0.3375703692436218,
         "_deepnote_index_column": 48071
        },
        {
         "void_fraction": 0.23797175288200378,
         "_deepnote_index_column": 48072
        },
        {
         "void_fraction": 0.29356247186660767,
         "_deepnote_index_column": 48073
        },
        {
         "void_fraction": 0.1940089464187622,
         "_deepnote_index_column": 48075
        },
        {
         "void_fraction": 0.43925827741622925,
         "_deepnote_index_column": 48076
        },
        {
         "void_fraction": 0.17886662483215332,
         "_deepnote_index_column": 48077
        },
        {
         "void_fraction": 0.3743903636932373,
         "_deepnote_index_column": 48078
        },
        {
         "void_fraction": 0.1862826943397522,
         "_deepnote_index_column": 48079
        },
        {
         "void_fraction": 0.4456203579902649,
         "_deepnote_index_column": 48081
        },
        {
         "void_fraction": 0.43214893341064453,
         "_deepnote_index_column": 48082
        },
        {
         "void_fraction": 0.3733265995979309,
         "_deepnote_index_column": 48083
        },
        {
         "void_fraction": 0.1643533706665039,
         "_deepnote_index_column": 48084
        },
        {
         "void_fraction": 0.21663203835487366,
         "_deepnote_index_column": 48085
        },
        {
         "void_fraction": 0.17461556196212769,
         "_deepnote_index_column": 48086
        },
        {
         "void_fraction": 0.3484969735145569,
         "_deepnote_index_column": 48087
        },
        {
         "void_fraction": 0.4153165817260742,
         "_deepnote_index_column": 48088
        },
        {
         "void_fraction": 0.3626781105995178,
         "_deepnote_index_column": 48090
        },
        {
         "void_fraction": 0.48917344212532043,
         "_deepnote_index_column": 48091
        },
        {
         "void_fraction": 0.40458017587661743,
         "_deepnote_index_column": 48092
        },
        {
         "void_fraction": 0.1934787929058075,
         "_deepnote_index_column": 48093
        },
        {
         "void_fraction": 0.28973281383514404,
         "_deepnote_index_column": 48094
        },
        {
         "void_fraction": 0.17985215783119202,
         "_deepnote_index_column": 48095
        },
        {
         "void_fraction": 0.38604918122291565,
         "_deepnote_index_column": 48096
        },
        {
         "void_fraction": 0.1623055636882782,
         "_deepnote_index_column": 48097
        },
        {
         "void_fraction": 0.16189199686050415,
         "_deepnote_index_column": 48098
        },
        {
         "void_fraction": 0.3817061483860016,
         "_deepnote_index_column": 48100
        },
        {
         "void_fraction": 0.24120089411735535,
         "_deepnote_index_column": 48102
        },
        {
         "void_fraction": 0.30928313732147217,
         "_deepnote_index_column": 48103
        },
        {
         "void_fraction": 0.37048691511154175,
         "_deepnote_index_column": 48106
        },
        {
         "void_fraction": 0.3708944320678711,
         "_deepnote_index_column": 48107
        },
        {
         "void_fraction": 0.43916046619415283,
         "_deepnote_index_column": 48108
        },
        {
         "void_fraction": 0.2396421730518341,
         "_deepnote_index_column": 48109
        },
        {
         "void_fraction": 0.2646251916885376,
         "_deepnote_index_column": 48110
        },
        {
         "void_fraction": 0.2761403024196625,
         "_deepnote_index_column": 48111
        },
        {
         "void_fraction": 0.1756267547607422,
         "_deepnote_index_column": 48113
        },
        {
         "void_fraction": 0.23387932777404785,
         "_deepnote_index_column": 48116
        },
        {
         "void_fraction": 0.30631741881370544,
         "_deepnote_index_column": 48117
        },
        {
         "void_fraction": 0.18490436673164368,
         "_deepnote_index_column": 48118
        },
        {
         "void_fraction": 0.5018154978752136,
         "_deepnote_index_column": 48119
        },
        {
         "void_fraction": 0.44257569313049316,
         "_deepnote_index_column": 48120
        },
        {
         "void_fraction": 0.189637690782547,
         "_deepnote_index_column": 48122
        },
        {
         "void_fraction": 0.2938622236251831,
         "_deepnote_index_column": 48123
        },
        {
         "void_fraction": 0.3920488953590393,
         "_deepnote_index_column": 48125
        },
        {
         "void_fraction": 0.3681686520576477,
         "_deepnote_index_column": 48126
        },
        {
         "void_fraction": 0.34891384840011597,
         "_deepnote_index_column": 48127
        },
        {
         "void_fraction": 0.2352856993675232,
         "_deepnote_index_column": 48128
        },
        {
         "void_fraction": 0.3755386471748352,
         "_deepnote_index_column": 48129
        },
        {
         "void_fraction": 0.22359251976013184,
         "_deepnote_index_column": 48130
        },
        {
         "void_fraction": 0.43990373611450195,
         "_deepnote_index_column": 48131
        },
        {
         "void_fraction": 0.27290642261505127,
         "_deepnote_index_column": 48132
        },
        {
         "void_fraction": 0.17786502838134766,
         "_deepnote_index_column": 48133
        },
        {
         "void_fraction": 0.24791133403778076,
         "_deepnote_index_column": 48135
        },
        {
         "void_fraction": 0.2256503701210022,
         "_deepnote_index_column": 48136
        },
        {
         "void_fraction": 0.2523719072341919,
         "_deepnote_index_column": 48137
        },
        {
         "void_fraction": 0.29908499121665955,
         "_deepnote_index_column": 48138
        },
        {
         "void_fraction": 0.32885289192199707,
         "_deepnote_index_column": 48139
        },
        {
         "void_fraction": 0.27120596170425415,
         "_deepnote_index_column": 48140
        },
        {
         "void_fraction": 0.45002201199531555,
         "_deepnote_index_column": 48142
        },
        {
         "void_fraction": 0.4720660150051117,
         "_deepnote_index_column": 48143
        },
        {
         "void_fraction": 0.28038322925567627,
         "_deepnote_index_column": 48144
        },
        {
         "void_fraction": 0.20431771874427795,
         "_deepnote_index_column": 48146
        },
        {
         "void_fraction": 0.18820491433143616,
         "_deepnote_index_column": 48147
        },
        {
         "void_fraction": 0.279346764087677,
         "_deepnote_index_column": 48148
        },
        {
         "void_fraction": 0.22532221674919128,
         "_deepnote_index_column": 48150
        },
        {
         "void_fraction": 0.17143648862838745,
         "_deepnote_index_column": 48152
        },
        {
         "void_fraction": 0.18435737490653992,
         "_deepnote_index_column": 48153
        },
        {
         "void_fraction": 0.44746172428131104,
         "_deepnote_index_column": 48155
        },
        {
         "void_fraction": 0.5061204433441162,
         "_deepnote_index_column": 48157
        },
        {
         "void_fraction": 0.35215267539024353,
         "_deepnote_index_column": 48158
        },
        {
         "void_fraction": 0.37029868364334106,
         "_deepnote_index_column": 48159
        },
        {
         "void_fraction": 0.39753925800323486,
         "_deepnote_index_column": 48161
        },
        {
         "void_fraction": 0.27161338925361633,
         "_deepnote_index_column": 48162
        },
        {
         "void_fraction": 0.25974324345588684,
         "_deepnote_index_column": 48167
        },
        {
         "void_fraction": 0.37113654613494873,
         "_deepnote_index_column": 48168
        },
        {
         "void_fraction": 0.16438940167427063,
         "_deepnote_index_column": 48169
        },
        {
         "void_fraction": 0.27236151695251465,
         "_deepnote_index_column": 48170
        },
        {
         "void_fraction": 0.23320025205612183,
         "_deepnote_index_column": 48171
        },
        {
         "void_fraction": 0.23415017127990723,
         "_deepnote_index_column": 48172
        },
        {
         "void_fraction": 0.19426307082176208,
         "_deepnote_index_column": 48173
        },
        {
         "void_fraction": 0.2990429401397705,
         "_deepnote_index_column": 48174
        },
        {
         "void_fraction": 0.23229852318763733,
         "_deepnote_index_column": 48175
        },
        {
         "void_fraction": 0.19917982816696167,
         "_deepnote_index_column": 48176
        },
        {
         "void_fraction": 0.2759940028190613,
         "_deepnote_index_column": 48177
        },
        {
         "void_fraction": 0.2910255491733551,
         "_deepnote_index_column": 48178
        },
        {
         "void_fraction": 0.4537404179573059,
         "_deepnote_index_column": 48180
        },
        {
         "void_fraction": 0.1694861352443695,
         "_deepnote_index_column": 48181
        },
        {
         "void_fraction": 0.16468992829322815,
         "_deepnote_index_column": 48183
        },
        {
         "void_fraction": 0.33359187841415405,
         "_deepnote_index_column": 48184
        },
        {
         "void_fraction": 0.19037577509880066,
         "_deepnote_index_column": 48185
        },
        {
         "void_fraction": 0.16876232624053955,
         "_deepnote_index_column": 48186
        },
        {
         "void_fraction": 0.30875512957572937,
         "_deepnote_index_column": 48187
        },
        {
         "void_fraction": 0.3397444486618042,
         "_deepnote_index_column": 48188
        },
        {
         "void_fraction": 0.22189754247665405,
         "_deepnote_index_column": 48190
        },
        {
         "void_fraction": 0.2573513984680176,
         "_deepnote_index_column": 48191
        },
        {
         "void_fraction": 0.3279203772544861,
         "_deepnote_index_column": 48192
        },
        {
         "void_fraction": 0.25126153230667114,
         "_deepnote_index_column": 48193
        },
        {
         "void_fraction": 0.33596932888031006,
         "_deepnote_index_column": 48194
        },
        {
         "void_fraction": 0.31888508796691895,
         "_deepnote_index_column": 48195
        },
        {
         "void_fraction": 0.2513241171836853,
         "_deepnote_index_column": 48197
        },
        {
         "void_fraction": 0.17219799757003784,
         "_deepnote_index_column": 48198
        },
        {
         "void_fraction": 0.1974036991596222,
         "_deepnote_index_column": 48199
        },
        {
         "void_fraction": 0.3137677311897278,
         "_deepnote_index_column": 48200
        },
        {
         "void_fraction": 0.3048248291015625,
         "_deepnote_index_column": 48201
        },
        {
         "void_fraction": 0.28890931606292725,
         "_deepnote_index_column": 48204
        },
        {
         "void_fraction": 0.46368134021759033,
         "_deepnote_index_column": 48205
        },
        {
         "void_fraction": 0.36316072940826416,
         "_deepnote_index_column": 48206
        },
        {
         "void_fraction": 0.25699955224990845,
         "_deepnote_index_column": 48207
        },
        {
         "void_fraction": 0.2642473578453064,
         "_deepnote_index_column": 48208
        },
        {
         "void_fraction": 0.22671404480934143,
         "_deepnote_index_column": 48209
        },
        {
         "void_fraction": 0.1770058572292328,
         "_deepnote_index_column": 48213
        },
        {
         "void_fraction": 0.2887503504753113,
         "_deepnote_index_column": 48214
        },
        {
         "void_fraction": 0.2776801586151123,
         "_deepnote_index_column": 48215
        },
        {
         "void_fraction": 0.25360235571861267,
         "_deepnote_index_column": 48216
        },
        {
         "void_fraction": 0.17192381620407104,
         "_deepnote_index_column": 48217
        },
        {
         "void_fraction": 0.31001192331314087,
         "_deepnote_index_column": 48218
        },
        {
         "void_fraction": 0.40613648295402527,
         "_deepnote_index_column": 48219
        },
        {
         "void_fraction": 0.3434140086174011,
         "_deepnote_index_column": 48220
        },
        {
         "void_fraction": 0.2510121762752533,
         "_deepnote_index_column": 48221
        },
        {
         "void_fraction": 0.3819115459918976,
         "_deepnote_index_column": 48222
        },
        {
         "void_fraction": 0.258419930934906,
         "_deepnote_index_column": 48223
        },
        {
         "void_fraction": 0.4804070293903351,
         "_deepnote_index_column": 48224
        },
        {
         "void_fraction": 0.43384188413619995,
         "_deepnote_index_column": 48225
        },
        {
         "void_fraction": 0.4659424126148224,
         "_deepnote_index_column": 48227
        },
        {
         "void_fraction": 0.32544851303100586,
         "_deepnote_index_column": 48229
        },
        {
         "void_fraction": 0.3188706040382385,
         "_deepnote_index_column": 48231
        },
        {
         "void_fraction": 0.3356068432331085,
         "_deepnote_index_column": 48232
        },
        {
         "void_fraction": 0.30712807178497314,
         "_deepnote_index_column": 48233
        },
        {
         "void_fraction": 0.23926204442977905,
         "_deepnote_index_column": 48234
        },
        {
         "void_fraction": 0.2613023519515991,
         "_deepnote_index_column": 48236
        },
        {
         "void_fraction": 0.4306492209434509,
         "_deepnote_index_column": 48237
        },
        {
         "void_fraction": 0.2526051998138428,
         "_deepnote_index_column": 48238
        },
        {
         "void_fraction": 0.23580676317214966,
         "_deepnote_index_column": 48239
        },
        {
         "void_fraction": 0.26156193017959595,
         "_deepnote_index_column": 48240
        },
        {
         "void_fraction": 0.34831613302230835,
         "_deepnote_index_column": 48241
        },
        {
         "void_fraction": 0.17425528168678284,
         "_deepnote_index_column": 48242
        },
        {
         "void_fraction": 0.17447158694267273,
         "_deepnote_index_column": 48243
        },
        {
         "void_fraction": 0.2983948588371277,
         "_deepnote_index_column": 48244
        },
        {
         "void_fraction": 0.46960678696632385,
         "_deepnote_index_column": 48245
        },
        {
         "void_fraction": 0.19646969437599182,
         "_deepnote_index_column": 48246
        },
        {
         "void_fraction": 0.4439595341682434,
         "_deepnote_index_column": 48247
        },
        {
         "void_fraction": 0.16313141584396362,
         "_deepnote_index_column": 48248
        },
        {
         "void_fraction": 0.3946657180786133,
         "_deepnote_index_column": 48249
        },
        {
         "void_fraction": 0.18308919668197632,
         "_deepnote_index_column": 48250
        },
        {
         "void_fraction": 0.19792217016220093,
         "_deepnote_index_column": 48251
        },
        {
         "void_fraction": 0.23562252521514893,
         "_deepnote_index_column": 48252
        },
        {
         "void_fraction": 0.2575526237487793,
         "_deepnote_index_column": 48253
        },
        {
         "void_fraction": 0.23935571312904358,
         "_deepnote_index_column": 48254
        },
        {
         "void_fraction": 0.30733102560043335,
         "_deepnote_index_column": 48255
        },
        {
         "void_fraction": 0.49825340509414673,
         "_deepnote_index_column": 48257
        },
        {
         "void_fraction": 0.31204238533973694,
         "_deepnote_index_column": 48258
        },
        {
         "void_fraction": 0.2782675325870514,
         "_deepnote_index_column": 48259
        },
        {
         "void_fraction": 0.16557428240776062,
         "_deepnote_index_column": 48260
        }
       ],
       "rows_bottom": [
        {
         "void_fraction": 0.5116218328475952,
         "_deepnote_index_column": 66005
        },
        {
         "void_fraction": 0.5187082290649414,
         "_deepnote_index_column": 66006
        },
        {
         "void_fraction": 0.520049512386322,
         "_deepnote_index_column": 66007
        },
        {
         "void_fraction": 0.5210891366004944,
         "_deepnote_index_column": 66008
        },
        {
         "void_fraction": 0.38770008087158203,
         "_deepnote_index_column": 66009
        },
        {
         "void_fraction": 0.5213197469711304,
         "_deepnote_index_column": 66010
        },
        {
         "void_fraction": 0.5156072974205017,
         "_deepnote_index_column": 66011
        },
        {
         "void_fraction": 0.5046685934066772,
         "_deepnote_index_column": 66012
        },
        {
         "void_fraction": 0.520494818687439,
         "_deepnote_index_column": 66013
        },
        {
         "void_fraction": 0.509005606174469,
         "_deepnote_index_column": 66014
        },
        {
         "void_fraction": 0.4567650258541107,
         "_deepnote_index_column": 66015
        },
        {
         "void_fraction": 0.49897199869155884,
         "_deepnote_index_column": 66016
        },
        {
         "void_fraction": 0.5212804079055786,
         "_deepnote_index_column": 66017
        },
        {
         "void_fraction": 0.4705483913421631,
         "_deepnote_index_column": 66018
        },
        {
         "void_fraction": 0.24343916773796082,
         "_deepnote_index_column": 66019
        },
        {
         "void_fraction": 0.5204716324806213,
         "_deepnote_index_column": 66020
        },
        {
         "void_fraction": 0.5024570226669312,
         "_deepnote_index_column": 66021
        },
        {
         "void_fraction": 0.5213469862937927,
         "_deepnote_index_column": 66022
        },
        {
         "void_fraction": 0.4801434874534607,
         "_deepnote_index_column": 66023
        },
        {
         "void_fraction": 0.5134772062301636,
         "_deepnote_index_column": 66024
        },
        {
         "void_fraction": 0.5205487012863159,
         "_deepnote_index_column": 66025
        },
        {
         "void_fraction": 0.5171289443969727,
         "_deepnote_index_column": 66026
        },
        {
         "void_fraction": 0.5186474919319153,
         "_deepnote_index_column": 66027
        },
        {
         "void_fraction": 0.5050535798072815,
         "_deepnote_index_column": 66028
        },
        {
         "void_fraction": 0.46820399165153503,
         "_deepnote_index_column": 66029
        },
        {
         "void_fraction": 0.521164059638977,
         "_deepnote_index_column": 66030
        },
        {
         "void_fraction": 0.520605742931366,
         "_deepnote_index_column": 66031
        },
        {
         "void_fraction": 0.4949229955673218,
         "_deepnote_index_column": 66032
        },
        {
         "void_fraction": 0.2914062738418579,
         "_deepnote_index_column": 66033
        },
        {
         "void_fraction": 0.26029157638549805,
         "_deepnote_index_column": 66034
        },
        {
         "void_fraction": 0.41695642471313477,
         "_deepnote_index_column": 66035
        },
        {
         "void_fraction": 0.5160118341445923,
         "_deepnote_index_column": 66036
        },
        {
         "void_fraction": 0.47279301285743713,
         "_deepnote_index_column": 66037
        },
        {
         "void_fraction": 0.5053858757019043,
         "_deepnote_index_column": 66038
        },
        {
         "void_fraction": 0.5092202425003052,
         "_deepnote_index_column": 66039
        },
        {
         "void_fraction": 0.5205426812171936,
         "_deepnote_index_column": 66040
        },
        {
         "void_fraction": 0.520304262638092,
         "_deepnote_index_column": 66041
        },
        {
         "void_fraction": 0.5097280740737915,
         "_deepnote_index_column": 66042
        },
        {
         "void_fraction": 0.5091004371643066,
         "_deepnote_index_column": 66043
        },
        {
         "void_fraction": 0.31306731700897217,
         "_deepnote_index_column": 66044
        },
        {
         "void_fraction": 0.5172257423400879,
         "_deepnote_index_column": 66045
        },
        {
         "void_fraction": 0.4916897118091583,
         "_deepnote_index_column": 66046
        },
        {
         "void_fraction": 0.5133755207061768,
         "_deepnote_index_column": 66047
        },
        {
         "void_fraction": 0.5025976896286011,
         "_deepnote_index_column": 66048
        },
        {
         "void_fraction": 0.5088682770729065,
         "_deepnote_index_column": 66049
        },
        {
         "void_fraction": 0.5199973583221436,
         "_deepnote_index_column": 66050
        },
        {
         "void_fraction": 0.5184156894683838,
         "_deepnote_index_column": 66051
        },
        {
         "void_fraction": 0.5208678245544434,
         "_deepnote_index_column": 66052
        },
        {
         "void_fraction": 0.49397480487823486,
         "_deepnote_index_column": 66053
        },
        {
         "void_fraction": 0.5155054926872253,
         "_deepnote_index_column": 66054
        },
        {
         "void_fraction": 0.35063204169273376,
         "_deepnote_index_column": 66055
        },
        {
         "void_fraction": 0.5075527429580688,
         "_deepnote_index_column": 66056
        },
        {
         "void_fraction": 0.4070470333099365,
         "_deepnote_index_column": 66057
        },
        {
         "void_fraction": 0.470248818397522,
         "_deepnote_index_column": 66058
        },
        {
         "void_fraction": 0.51767498254776,
         "_deepnote_index_column": 66059
        },
        {
         "void_fraction": 0.503718912601471,
         "_deepnote_index_column": 66060
        },
        {
         "void_fraction": 0.5181127190589905,
         "_deepnote_index_column": 66061
        },
        {
         "void_fraction": 0.1622486412525177,
         "_deepnote_index_column": 66062
        },
        {
         "void_fraction": 0.4971896708011627,
         "_deepnote_index_column": 66063
        },
        {
         "void_fraction": 0.3680122196674347,
         "_deepnote_index_column": 66064
        },
        {
         "void_fraction": 0.49127599596977234,
         "_deepnote_index_column": 66065
        },
        {
         "void_fraction": 0.5197177529335022,
         "_deepnote_index_column": 66067
        },
        {
         "void_fraction": 0.5192522406578064,
         "_deepnote_index_column": 66068
        },
        {
         "void_fraction": 0.5203927159309387,
         "_deepnote_index_column": 66069
        },
        {
         "void_fraction": 0.3446565270423889,
         "_deepnote_index_column": 66070
        },
        {
         "void_fraction": 0.5118833780288696,
         "_deepnote_index_column": 66071
        },
        {
         "void_fraction": 0.45059385895729065,
         "_deepnote_index_column": 66072
        },
        {
         "void_fraction": 0.33877283334732056,
         "_deepnote_index_column": 66073
        },
        {
         "void_fraction": 0.5199141502380371,
         "_deepnote_index_column": 66074
        },
        {
         "void_fraction": 0.5199562907218933,
         "_deepnote_index_column": 66075
        },
        {
         "void_fraction": 0.4559835195541382,
         "_deepnote_index_column": 66076
        },
        {
         "void_fraction": 0.5048776865005493,
         "_deepnote_index_column": 66077
        },
        {
         "void_fraction": 0.5075119137763977,
         "_deepnote_index_column": 66078
        },
        {
         "void_fraction": 0.47204822301864624,
         "_deepnote_index_column": 66079
        },
        {
         "void_fraction": 0.5107188820838928,
         "_deepnote_index_column": 66081
        },
        {
         "void_fraction": 0.5141765475273132,
         "_deepnote_index_column": 66083
        },
        {
         "void_fraction": 0.5169416666030884,
         "_deepnote_index_column": 66084
        },
        {
         "void_fraction": 0.5202949047088623,
         "_deepnote_index_column": 66085
        },
        {
         "void_fraction": 0.3655744194984436,
         "_deepnote_index_column": 66086
        },
        {
         "void_fraction": 0.5032480955123901,
         "_deepnote_index_column": 66087
        },
        {
         "void_fraction": 0.516639769077301,
         "_deepnote_index_column": 66088
        },
        {
         "void_fraction": 0.4608640670776367,
         "_deepnote_index_column": 66089
        },
        {
         "void_fraction": 0.5196598172187805,
         "_deepnote_index_column": 66090
        },
        {
         "void_fraction": 0.4008616805076599,
         "_deepnote_index_column": 66091
        },
        {
         "void_fraction": 0.5042086243629456,
         "_deepnote_index_column": 66092
        },
        {
         "void_fraction": 0.4527479112148285,
         "_deepnote_index_column": 66093
        },
        {
         "void_fraction": 0.5060511231422424,
         "_deepnote_index_column": 66094
        },
        {
         "void_fraction": 0.4706646800041199,
         "_deepnote_index_column": 66095
        },
        {
         "void_fraction": 0.4720577001571655,
         "_deepnote_index_column": 66096
        },
        {
         "void_fraction": 0.5189664363861084,
         "_deepnote_index_column": 66097
        },
        {
         "void_fraction": 0.22642910480499268,
         "_deepnote_index_column": 66098
        },
        {
         "void_fraction": 0.20978042483329773,
         "_deepnote_index_column": 66099
        },
        {
         "void_fraction": 0.445941686630249,
         "_deepnote_index_column": 66100
        },
        {
         "void_fraction": 0.511070728302002,
         "_deepnote_index_column": 66101
        },
        {
         "void_fraction": 0.5211323499679565,
         "_deepnote_index_column": 66102
        },
        {
         "void_fraction": 0.4804670512676239,
         "_deepnote_index_column": 66103
        },
        {
         "void_fraction": 0.5210142731666565,
         "_deepnote_index_column": 66104
        },
        {
         "void_fraction": 0.4991409480571747,
         "_deepnote_index_column": 66105
        },
        {
         "void_fraction": 0.5204577445983887,
         "_deepnote_index_column": 66106
        },
        {
         "void_fraction": 0.5068557262420654,
         "_deepnote_index_column": 66107
        },
        {
         "void_fraction": 0.5151223540306091,
         "_deepnote_index_column": 66108
        },
        {
         "void_fraction": 0.5141380429267883,
         "_deepnote_index_column": 66109
        },
        {
         "void_fraction": 0.5072253942489624,
         "_deepnote_index_column": 66110
        },
        {
         "void_fraction": 0.48948511481285095,
         "_deepnote_index_column": 66111
        },
        {
         "void_fraction": 0.4396253526210785,
         "_deepnote_index_column": 66112
        },
        {
         "void_fraction": 0.4967978894710541,
         "_deepnote_index_column": 66113
        },
        {
         "void_fraction": 0.5036328434944153,
         "_deepnote_index_column": 66114
        },
        {
         "void_fraction": 0.4908372759819031,
         "_deepnote_index_column": 66115
        },
        {
         "void_fraction": 0.5195421576499939,
         "_deepnote_index_column": 66116
        },
        {
         "void_fraction": 0.5209823846817017,
         "_deepnote_index_column": 66117
        },
        {
         "void_fraction": 0.5059865117073059,
         "_deepnote_index_column": 66118
        },
        {
         "void_fraction": 0.2547900974750519,
         "_deepnote_index_column": 66119
        },
        {
         "void_fraction": 0.4905419945716858,
         "_deepnote_index_column": 66120
        },
        {
         "void_fraction": 0.5045575499534607,
         "_deepnote_index_column": 66121
        },
        {
         "void_fraction": 0.30643942952156067,
         "_deepnote_index_column": 66122
        },
        {
         "void_fraction": 0.5212018489837646,
         "_deepnote_index_column": 66124
        },
        {
         "void_fraction": 0.5168174505233765,
         "_deepnote_index_column": 66125
        },
        {
         "void_fraction": 0.518402636051178,
         "_deepnote_index_column": 66126
        },
        {
         "void_fraction": 0.5131004452705383,
         "_deepnote_index_column": 66127
        },
        {
         "void_fraction": 0.5087618231773376,
         "_deepnote_index_column": 66128
        },
        {
         "void_fraction": 0.3433566093444824,
         "_deepnote_index_column": 66129
        },
        {
         "void_fraction": 0.5214158892631531,
         "_deepnote_index_column": 66130
        },
        {
         "void_fraction": 0.47253283858299255,
         "_deepnote_index_column": 66131
        },
        {
         "void_fraction": 0.5036041736602783,
         "_deepnote_index_column": 66132
        },
        {
         "void_fraction": 0.5212916135787964,
         "_deepnote_index_column": 66133
        },
        {
         "void_fraction": 0.5208700895309448,
         "_deepnote_index_column": 66134
        },
        {
         "void_fraction": 0.509567141532898,
         "_deepnote_index_column": 66135
        },
        {
         "void_fraction": 0.5203425884246826,
         "_deepnote_index_column": 66136
        },
        {
         "void_fraction": 0.5203160047531128,
         "_deepnote_index_column": 66137
        },
        {
         "void_fraction": 0.47152864933013916,
         "_deepnote_index_column": 66138
        },
        {
         "void_fraction": 0.5183636546134949,
         "_deepnote_index_column": 66139
        },
        {
         "void_fraction": 0.520990252494812,
         "_deepnote_index_column": 66140
        },
        {
         "void_fraction": 0.5083577036857605,
         "_deepnote_index_column": 66141
        },
        {
         "void_fraction": 0.3202880024909973,
         "_deepnote_index_column": 66142
        },
        {
         "void_fraction": 0.5153897404670715,
         "_deepnote_index_column": 66143
        },
        {
         "void_fraction": 0.48444321751594543,
         "_deepnote_index_column": 66144
        },
        {
         "void_fraction": 0.4994761049747467,
         "_deepnote_index_column": 66145
        },
        {
         "void_fraction": 0.4092877507209778,
         "_deepnote_index_column": 66146
        },
        {
         "void_fraction": 0.16443124413490295,
         "_deepnote_index_column": 66147
        },
        {
         "void_fraction": 0.5201669335365295,
         "_deepnote_index_column": 66149
        },
        {
         "void_fraction": 0.5007968544960022,
         "_deepnote_index_column": 66150
        },
        {
         "void_fraction": 0.44542109966278076,
         "_deepnote_index_column": 66151
        },
        {
         "void_fraction": 0.5101342797279358,
         "_deepnote_index_column": 66152
        },
        {
         "void_fraction": 0.48465171456336975,
         "_deepnote_index_column": 66153
        },
        {
         "void_fraction": 0.519123911857605,
         "_deepnote_index_column": 66154
        },
        {
         "void_fraction": 0.45565006136894226,
         "_deepnote_index_column": 66155
        },
        {
         "void_fraction": 0.518940806388855,
         "_deepnote_index_column": 66156
        },
        {
         "void_fraction": 0.5174494385719299,
         "_deepnote_index_column": 66157
        },
        {
         "void_fraction": 0.5182039737701416,
         "_deepnote_index_column": 66158
        },
        {
         "void_fraction": 0.4930066466331482,
         "_deepnote_index_column": 66159
        },
        {
         "void_fraction": 0.5209984183311462,
         "_deepnote_index_column": 66160
        },
        {
         "void_fraction": 0.4717939794063568,
         "_deepnote_index_column": 66161
        },
        {
         "void_fraction": 0.3988450765609741,
         "_deepnote_index_column": 66162
        },
        {
         "void_fraction": 0.5090727806091309,
         "_deepnote_index_column": 66163
        },
        {
         "void_fraction": 0.5205054879188538,
         "_deepnote_index_column": 66164
        },
        {
         "void_fraction": 0.5205738544464111,
         "_deepnote_index_column": 66165
        },
        {
         "void_fraction": 0.5167031288146973,
         "_deepnote_index_column": 66166
        },
        {
         "void_fraction": 0.5189347267150879,
         "_deepnote_index_column": 66167
        },
        {
         "void_fraction": 0.3594256043434143,
         "_deepnote_index_column": 66168
        },
        {
         "void_fraction": 0.5191895365715027,
         "_deepnote_index_column": 66169
        },
        {
         "void_fraction": 0.5189568996429443,
         "_deepnote_index_column": 66170
        },
        {
         "void_fraction": 0.3301941454410553,
         "_deepnote_index_column": 66171
        },
        {
         "void_fraction": 0.5096722841262817,
         "_deepnote_index_column": 66172
        },
        {
         "void_fraction": 0.3971734941005707,
         "_deepnote_index_column": 66173
        },
        {
         "void_fraction": 0.4524060785770416,
         "_deepnote_index_column": 66174
        },
        {
         "void_fraction": 0.5191588401794434,
         "_deepnote_index_column": 66175
        },
        {
         "void_fraction": 0.5090625286102295,
         "_deepnote_index_column": 66176
        },
        {
         "void_fraction": 0.5215325951576233,
         "_deepnote_index_column": 66177
        },
        {
         "void_fraction": 0.4873071312904358,
         "_deepnote_index_column": 66179
        },
        {
         "void_fraction": 0.5116816163063049,
         "_deepnote_index_column": 66181
        },
        {
         "void_fraction": 0.5157752633094788,
         "_deepnote_index_column": 66183
        },
        {
         "void_fraction": 0.5106358528137207,
         "_deepnote_index_column": 66184
        },
        {
         "void_fraction": 0.5062452554702759,
         "_deepnote_index_column": 66185
        },
        {
         "void_fraction": 0.5112794637680054,
         "_deepnote_index_column": 66186
        },
        {
         "void_fraction": 0.5178375244140625,
         "_deepnote_index_column": 66187
        },
        {
         "void_fraction": 0.5198442935943604,
         "_deepnote_index_column": 66188
        },
        {
         "void_fraction": 0.509608268737793,
         "_deepnote_index_column": 66189
        },
        {
         "void_fraction": 0.5197358727455139,
         "_deepnote_index_column": 66190
        },
        {
         "void_fraction": 0.5083642601966858,
         "_deepnote_index_column": 66191
        },
        {
         "void_fraction": 0.33886170387268066,
         "_deepnote_index_column": 66192
        },
        {
         "void_fraction": 0.5111903548240662,
         "_deepnote_index_column": 66193
        },
        {
         "void_fraction": 0.520987331867218,
         "_deepnote_index_column": 66194
        },
        {
         "void_fraction": 0.5014793276786804,
         "_deepnote_index_column": 66195
        },
        {
         "void_fraction": 0.4614490270614624,
         "_deepnote_index_column": 66196
        },
        {
         "void_fraction": 0.5201703310012817,
         "_deepnote_index_column": 66197
        },
        {
         "void_fraction": 0.3124193251132965,
         "_deepnote_index_column": 66198
        },
        {
         "void_fraction": 0.5212973952293396,
         "_deepnote_index_column": 66199
        },
        {
         "void_fraction": 0.22637519240379333,
         "_deepnote_index_column": 66201
        },
        {
         "void_fraction": 0.500719428062439,
         "_deepnote_index_column": 66202
        },
        {
         "void_fraction": 0.5030613541603088,
         "_deepnote_index_column": 66203
        },
        {
         "void_fraction": 0.5199308395385742,
         "_deepnote_index_column": 66204
        },
        {
         "void_fraction": 0.5202197432518005,
         "_deepnote_index_column": 66205
        },
        {
         "void_fraction": 0.5202231407165527,
         "_deepnote_index_column": 66206
        },
        {
         "void_fraction": 0.5145758986473083,
         "_deepnote_index_column": 66208
        },
        {
         "void_fraction": 0.5191630721092224,
         "_deepnote_index_column": 66209
        },
        {
         "void_fraction": 0.48515594005584717,
         "_deepnote_index_column": 66210
        },
        {
         "void_fraction": 0.5140681266784668,
         "_deepnote_index_column": 66211
        },
        {
         "void_fraction": 0.5213054418563843,
         "_deepnote_index_column": 66212
        },
        {
         "void_fraction": 0.5192217826843262,
         "_deepnote_index_column": 66213
        },
        {
         "void_fraction": 0.5110484957695007,
         "_deepnote_index_column": 66214
        },
        {
         "void_fraction": 0.5003625154495239,
         "_deepnote_index_column": 66215
        },
        {
         "void_fraction": 0.5202714204788208,
         "_deepnote_index_column": 66216
        },
        {
         "void_fraction": 0.31668686866760254,
         "_deepnote_index_column": 66217
        },
        {
         "void_fraction": 0.5197914838790894,
         "_deepnote_index_column": 66218
        },
        {
         "void_fraction": 0.5028492212295532,
         "_deepnote_index_column": 66219
        },
        {
         "void_fraction": 0.4815483093261719,
         "_deepnote_index_column": 66220
        },
        {
         "void_fraction": 0.47299185395240784,
         "_deepnote_index_column": 66221
        },
        {
         "void_fraction": 0.5203839540481567,
         "_deepnote_index_column": 66222
        },
        {
         "void_fraction": 0.5064646005630493,
         "_deepnote_index_column": 66223
        },
        {
         "void_fraction": 0.5132083892822266,
         "_deepnote_index_column": 66224
        },
        {
         "void_fraction": 0.19228994846343994,
         "_deepnote_index_column": 66225
        },
        {
         "void_fraction": 0.378112256526947,
         "_deepnote_index_column": 66226
        },
        {
         "void_fraction": 0.4951198697090149,
         "_deepnote_index_column": 66227
        },
        {
         "void_fraction": 0.5142301321029663,
         "_deepnote_index_column": 66228
        },
        {
         "void_fraction": 0.3011711835861206,
         "_deepnote_index_column": 66229
        },
        {
         "void_fraction": 0.5139891505241394,
         "_deepnote_index_column": 66230
        },
        {
         "void_fraction": 0.5202984809875488,
         "_deepnote_index_column": 66231
        },
        {
         "void_fraction": 0.4874577224254608,
         "_deepnote_index_column": 66232
        },
        {
         "void_fraction": 0.5121628046035767,
         "_deepnote_index_column": 66233
        },
        {
         "void_fraction": 0.5176735520362854,
         "_deepnote_index_column": 66234
        },
        {
         "void_fraction": 0.4534660577774048,
         "_deepnote_index_column": 66235
        },
        {
         "void_fraction": 0.5073123574256897,
         "_deepnote_index_column": 66236
        },
        {
         "void_fraction": 0.35596099495887756,
         "_deepnote_index_column": 66237
        },
        {
         "void_fraction": 0.5114216804504395,
         "_deepnote_index_column": 66238
        },
        {
         "void_fraction": 0.4824979901313782,
         "_deepnote_index_column": 66239
        },
        {
         "void_fraction": 0.5165044069290161,
         "_deepnote_index_column": 66240
        },
        {
         "void_fraction": 0.5047372579574585,
         "_deepnote_index_column": 66241
        },
        {
         "void_fraction": 0.5188766121864319,
         "_deepnote_index_column": 66242
        },
        {
         "void_fraction": 0.4382360279560089,
         "_deepnote_index_column": 66243
        },
        {
         "void_fraction": 0.508215606212616,
         "_deepnote_index_column": 66244
        },
        {
         "void_fraction": 0.31160590052604675,
         "_deepnote_index_column": 66245
        },
        {
         "void_fraction": 0.47652894258499146,
         "_deepnote_index_column": 66246
        },
        {
         "void_fraction": 0.5060285925865173,
         "_deepnote_index_column": 66247
        },
        {
         "void_fraction": 0.5183992981910706,
         "_deepnote_index_column": 66248
        },
        {
         "void_fraction": 0.49615997076034546,
         "_deepnote_index_column": 66249
        },
        {
         "void_fraction": 0.49490004777908325,
         "_deepnote_index_column": 66250
        },
        {
         "void_fraction": 0.5214536190032959,
         "_deepnote_index_column": 66251
        },
        {
         "void_fraction": 0.5205837488174438,
         "_deepnote_index_column": 66252
        },
        {
         "void_fraction": 0.5086641907691956,
         "_deepnote_index_column": 66253
        },
        {
         "void_fraction": 0.5130830407142639,
         "_deepnote_index_column": 66254
        },
        {
         "void_fraction": 0.5084139108657837,
         "_deepnote_index_column": 66255
        },
        {
         "void_fraction": 0.5084682106971741,
         "_deepnote_index_column": 66256
        },
        {
         "void_fraction": 0.5162978768348694,
         "_deepnote_index_column": 66257
        },
        {
         "void_fraction": 0.40861061215400696,
         "_deepnote_index_column": 66258
        },
        {
         "void_fraction": 0.5156913995742798,
         "_deepnote_index_column": 66259
        },
        {
         "void_fraction": 0.48756417632102966,
         "_deepnote_index_column": 66260
        },
        {
         "void_fraction": 0.5191089510917664,
         "_deepnote_index_column": 66261
        },
        {
         "void_fraction": 0.5075398683547974,
         "_deepnote_index_column": 66262
        },
        {
         "void_fraction": 0.5120473504066467,
         "_deepnote_index_column": 66263
        },
        {
         "void_fraction": 0.49795082211494446,
         "_deepnote_index_column": 66264
        },
        {
         "void_fraction": 0.5215169191360474,
         "_deepnote_index_column": 66265
        },
        {
         "void_fraction": 0.4658915400505066,
         "_deepnote_index_column": 66266
        },
        {
         "void_fraction": 0.5140464901924133,
         "_deepnote_index_column": 66267
        },
        {
         "void_fraction": 0.5208913683891296,
         "_deepnote_index_column": 66268
        },
        {
         "void_fraction": 0.5005951523780823,
         "_deepnote_index_column": 66269
        },
        {
         "void_fraction": 0.5053601861000061,
         "_deepnote_index_column": 66270
        },
        {
         "void_fraction": 0.5203673243522644,
         "_deepnote_index_column": 66271
        },
        {
         "void_fraction": 0.5160483717918396,
         "_deepnote_index_column": 66272
        },
        {
         "void_fraction": 0.47608450055122375,
         "_deepnote_index_column": 66273
        },
        {
         "void_fraction": 0.4798226058483124,
         "_deepnote_index_column": 66274
        },
        {
         "void_fraction": 0.429146409034729,
         "_deepnote_index_column": 66275
        },
        {
         "void_fraction": 0.509541392326355,
         "_deepnote_index_column": 66276
        },
        {
         "void_fraction": 0.45186108350753784,
         "_deepnote_index_column": 66277
        },
        {
         "void_fraction": 0.515272319316864,
         "_deepnote_index_column": 66278
        },
        {
         "void_fraction": 0.4832809567451477,
         "_deepnote_index_column": 66279
        },
        {
         "void_fraction": 0.5205833911895752,
         "_deepnote_index_column": 66280
        },
        {
         "void_fraction": 0.20411765575408936,
         "_deepnote_index_column": 66282
        },
        {
         "void_fraction": 0.49958887696266174,
         "_deepnote_index_column": 66283
        },
        {
         "void_fraction": 0.4569515585899353,
         "_deepnote_index_column": 66284
        },
        {
         "void_fraction": 0.518694281578064,
         "_deepnote_index_column": 66285
        },
        {
         "void_fraction": 0.5044338703155518,
         "_deepnote_index_column": 66286
        },
        {
         "void_fraction": 0.31973642110824585,
         "_deepnote_index_column": 66287
        },
        {
         "void_fraction": 0.5130608081817627,
         "_deepnote_index_column": 66288
        },
        {
         "void_fraction": 0.3929239511489868,
         "_deepnote_index_column": 66289
        },
        {
         "void_fraction": 0.5214947462081909,
         "_deepnote_index_column": 66290
        },
        {
         "void_fraction": 0.3873831033706665,
         "_deepnote_index_column": 66291
        },
        {
         "void_fraction": 0.5075609087944031,
         "_deepnote_index_column": 66292
        },
        {
         "void_fraction": 0.4996701180934906,
         "_deepnote_index_column": 66293
        },
        {
         "void_fraction": 0.38263821601867676,
         "_deepnote_index_column": 66294
        },
        {
         "void_fraction": 0.47775784134864807,
         "_deepnote_index_column": 66295
        },
        {
         "void_fraction": 0.5062977075576782,
         "_deepnote_index_column": 66296
        },
        {
         "void_fraction": 0.5088303089141846,
         "_deepnote_index_column": 66297
        },
        {
         "void_fraction": 0.507047712802887,
         "_deepnote_index_column": 66298
        },
        {
         "void_fraction": 0.4923102557659149,
         "_deepnote_index_column": 66299
        },
        {
         "void_fraction": 0.4833362400531769,
         "_deepnote_index_column": 66300
        },
        {
         "void_fraction": 0.4982432425022125,
         "_deepnote_index_column": 66301
        },
        {
         "void_fraction": 0.5024782419204712,
         "_deepnote_index_column": 66302
        },
        {
         "void_fraction": 0.5102404356002808,
         "_deepnote_index_column": 66303
        },
        {
         "void_fraction": 0.4996114671230316,
         "_deepnote_index_column": 66304
        },
        {
         "void_fraction": 0.5174146890640259,
         "_deepnote_index_column": 66305
        },
        {
         "void_fraction": 0.5205689072608948,
         "_deepnote_index_column": 66306
        },
        {
         "void_fraction": 0.5088001489639282,
         "_deepnote_index_column": 66307
        },
        {
         "void_fraction": 0.520486056804657,
         "_deepnote_index_column": 66308
        },
        {
         "void_fraction": 0.500105619430542,
         "_deepnote_index_column": 66309
        },
        {
         "void_fraction": 0.5204854011535645,
         "_deepnote_index_column": 66310
        },
        {
         "void_fraction": 0.5162634253501892,
         "_deepnote_index_column": 66311
        },
        {
         "void_fraction": 0.5168806910514832,
         "_deepnote_index_column": 66313
        },
        {
         "void_fraction": 0.5001963376998901,
         "_deepnote_index_column": 66314
        },
        {
         "void_fraction": 0.23253172636032104,
         "_deepnote_index_column": 66315
        },
        {
         "void_fraction": 0.4497748017311096,
         "_deepnote_index_column": 66316
        },
        {
         "void_fraction": 0.5179823637008667,
         "_deepnote_index_column": 66317
        },
        {
         "void_fraction": 0.5116007328033447,
         "_deepnote_index_column": 66318
        },
        {
         "void_fraction": 0.5181456804275513,
         "_deepnote_index_column": 66319
        },
        {
         "void_fraction": 0.5207354426383972,
         "_deepnote_index_column": 66320
        },
        {
         "void_fraction": 0.5155931115150452,
         "_deepnote_index_column": 66321
        },
        {
         "void_fraction": 0.49657267332077026,
         "_deepnote_index_column": 66322
        },
        {
         "void_fraction": 0.5112890005111694,
         "_deepnote_index_column": 66323
        },
        {
         "void_fraction": 0.5131462216377258,
         "_deepnote_index_column": 66324
        },
        {
         "void_fraction": 0.5162513256072998,
         "_deepnote_index_column": 66325
        },
        {
         "void_fraction": 0.5198512077331543,
         "_deepnote_index_column": 66326
        },
        {
         "void_fraction": 0.36325934529304504,
         "_deepnote_index_column": 66327
        },
        {
         "void_fraction": 0.5211881399154663,
         "_deepnote_index_column": 66329
        },
        {
         "void_fraction": 0.5202040672302246,
         "_deepnote_index_column": 66330
        },
        {
         "void_fraction": 0.47272223234176636,
         "_deepnote_index_column": 66331
        },
        {
         "void_fraction": 0.5038079023361206,
         "_deepnote_index_column": 66332
        },
        {
         "void_fraction": 0.3868732750415802,
         "_deepnote_index_column": 66333
        },
        {
         "void_fraction": 0.5022740364074707,
         "_deepnote_index_column": 66334
        },
        {
         "void_fraction": 0.5207905173301697,
         "_deepnote_index_column": 66335
        },
        {
         "void_fraction": 0.21631169319152832,
         "_deepnote_index_column": 66336
        },
        {
         "void_fraction": 0.5162647366523743,
         "_deepnote_index_column": 66337
        },
        {
         "void_fraction": 0.5210632681846619,
         "_deepnote_index_column": 66338
        },
        {
         "void_fraction": 0.5207299590110779,
         "_deepnote_index_column": 66339
        },
        {
         "void_fraction": 0.3371443748474121,
         "_deepnote_index_column": 66340
        },
        {
         "void_fraction": 0.5017387270927429,
         "_deepnote_index_column": 66341
        },
        {
         "void_fraction": 0.5047960877418518,
         "_deepnote_index_column": 66342
        },
        {
         "void_fraction": 0.5126929879188538,
         "_deepnote_index_column": 66343
        },
        {
         "void_fraction": 0.5127476453781128,
         "_deepnote_index_column": 66344
        },
        {
         "void_fraction": 0.5201495289802551,
         "_deepnote_index_column": 66345
        },
        {
         "void_fraction": 0.5018210411071777,
         "_deepnote_index_column": 66346
        },
        {
         "void_fraction": 0.4965340495109558,
         "_deepnote_index_column": 66347
        },
        {
         "void_fraction": 0.5185861587524414,
         "_deepnote_index_column": 66348
        },
        {
         "void_fraction": 0.5214904546737671,
         "_deepnote_index_column": 66350
        },
        {
         "void_fraction": 0.5094760656356812,
         "_deepnote_index_column": 66351
        },
        {
         "void_fraction": 0.5207622647285461,
         "_deepnote_index_column": 66352
        },
        {
         "void_fraction": 0.5162602066993713,
         "_deepnote_index_column": 66353
        },
        {
         "void_fraction": 0.5098167657852173,
         "_deepnote_index_column": 66354
        },
        {
         "void_fraction": 0.5150256752967834,
         "_deepnote_index_column": 66355
        },
        {
         "void_fraction": 0.4883815348148346,
         "_deepnote_index_column": 66356
        },
        {
         "void_fraction": 0.5207386016845703,
         "_deepnote_index_column": 66357
        },
        {
         "void_fraction": 0.48748451471328735,
         "_deepnote_index_column": 66358
        },
        {
         "void_fraction": 0.40239259600639343,
         "_deepnote_index_column": 66359
        },
        {
         "void_fraction": 0.5048350095748901,
         "_deepnote_index_column": 66360
        },
        {
         "void_fraction": 0.5194382667541504,
         "_deepnote_index_column": 66361
        },
        {
         "void_fraction": 0.5099287033081055,
         "_deepnote_index_column": 66362
        },
        {
         "void_fraction": 0.5113201141357422,
         "_deepnote_index_column": 66363
        },
        {
         "void_fraction": 0.511307954788208,
         "_deepnote_index_column": 66364
        },
        {
         "void_fraction": 0.49889156222343445,
         "_deepnote_index_column": 66365
        },
        {
         "void_fraction": 0.25833651423454285,
         "_deepnote_index_column": 66366
        },
        {
         "void_fraction": 0.23982948064804077,
         "_deepnote_index_column": 66367
        },
        {
         "void_fraction": 0.5148768424987793,
         "_deepnote_index_column": 66368
        },
        {
         "void_fraction": 0.48732319474220276,
         "_deepnote_index_column": 66369
        },
        {
         "void_fraction": 0.5094841122627258,
         "_deepnote_index_column": 66370
        },
        {
         "void_fraction": 0.5213973522186279,
         "_deepnote_index_column": 66371
        },
        {
         "void_fraction": 0.44827187061309814,
         "_deepnote_index_column": 66372
        },
        {
         "void_fraction": 0.5111920237541199,
         "_deepnote_index_column": 66373
        },
        {
         "void_fraction": 0.5185455083847046,
         "_deepnote_index_column": 66374
        },
        {
         "void_fraction": 0.5175175070762634,
         "_deepnote_index_column": 66375
        },
        {
         "void_fraction": 0.5126630067825317,
         "_deepnote_index_column": 66376
        },
        {
         "void_fraction": 0.5198062658309937,
         "_deepnote_index_column": 66377
        },
        {
         "void_fraction": 0.504940927028656,
         "_deepnote_index_column": 66378
        },
        {
         "void_fraction": 0.5190724730491638,
         "_deepnote_index_column": 66379
        },
        {
         "void_fraction": 0.5133163332939148,
         "_deepnote_index_column": 66380
        },
        {
         "void_fraction": 0.5150100588798523,
         "_deepnote_index_column": 66381
        },
        {
         "void_fraction": 0.5152751207351685,
         "_deepnote_index_column": 66382
        },
        {
         "void_fraction": 0.22166991233825684,
         "_deepnote_index_column": 66383
        },
        {
         "void_fraction": 0.512055516242981,
         "_deepnote_index_column": 66384
        },
        {
         "void_fraction": 0.500781774520874,
         "_deepnote_index_column": 66385
        },
        {
         "void_fraction": 0.2742023468017578,
         "_deepnote_index_column": 66386
        },
        {
         "void_fraction": 0.5140830278396606,
         "_deepnote_index_column": 66387
        },
        {
         "void_fraction": 0.5103230476379395,
         "_deepnote_index_column": 66388
        },
        {
         "void_fraction": 0.18893298506736755,
         "_deepnote_index_column": 66389
        },
        {
         "void_fraction": 0.5117816925048828,
         "_deepnote_index_column": 66390
        },
        {
         "void_fraction": 0.5117160677909851,
         "_deepnote_index_column": 66391
        },
        {
         "void_fraction": 0.5004230737686157,
         "_deepnote_index_column": 66392
        },
        {
         "void_fraction": 0.5204777717590332,
         "_deepnote_index_column": 66393
        },
        {
         "void_fraction": 0.5105317831039429,
         "_deepnote_index_column": 66394
        },
        {
         "void_fraction": 0.5125275254249573,
         "_deepnote_index_column": 66395
        },
        {
         "void_fraction": 0.5052216053009033,
         "_deepnote_index_column": 66396
        },
        {
         "void_fraction": 0.27978724241256714,
         "_deepnote_index_column": 66397
        },
        {
         "void_fraction": 0.4706673324108124,
         "_deepnote_index_column": 66398
        },
        {
         "void_fraction": 0.48895931243896484,
         "_deepnote_index_column": 66400
        },
        {
         "void_fraction": 0.514090895652771,
         "_deepnote_index_column": 66401
        },
        {
         "void_fraction": 0.3772508502006531,
         "_deepnote_index_column": 66402
        },
        {
         "void_fraction": 0.5144776105880737,
         "_deepnote_index_column": 66403
        },
        {
         "void_fraction": 0.4487024247646332,
         "_deepnote_index_column": 66404
        },
        {
         "void_fraction": 0.3269747495651245,
         "_deepnote_index_column": 66405
        },
        {
         "void_fraction": 0.5154721736907959,
         "_deepnote_index_column": 66406
        },
        {
         "void_fraction": 0.5203363299369812,
         "_deepnote_index_column": 66407
        },
        {
         "void_fraction": 0.5144463181495667,
         "_deepnote_index_column": 66408
        },
        {
         "void_fraction": 0.5170273780822754,
         "_deepnote_index_column": 66409
        },
        {
         "void_fraction": 0.4728749096393585,
         "_deepnote_index_column": 66410
        },
        {
         "void_fraction": 0.47875505685806274,
         "_deepnote_index_column": 66411
        },
        {
         "void_fraction": 0.5104689002037048,
         "_deepnote_index_column": 66412
        },
        {
         "void_fraction": 0.5012414455413818,
         "_deepnote_index_column": 66413
        },
        {
         "void_fraction": 0.5192692279815674,
         "_deepnote_index_column": 66414
        },
        {
         "void_fraction": 0.5189375281333923,
         "_deepnote_index_column": 66415
        },
        {
         "void_fraction": 0.4812103807926178,
         "_deepnote_index_column": 66416
        },
        {
         "void_fraction": 0.5188298225402832,
         "_deepnote_index_column": 66417
        },
        {
         "void_fraction": 0.3360997438430786,
         "_deepnote_index_column": 66418
        },
        {
         "void_fraction": 0.35621243715286255,
         "_deepnote_index_column": 66420
        },
        {
         "void_fraction": 0.45181596279144287,
         "_deepnote_index_column": 66421
        },
        {
         "void_fraction": 0.5147374272346497,
         "_deepnote_index_column": 66422
        },
        {
         "void_fraction": 0.5122686624526978,
         "_deepnote_index_column": 66423
        },
        {
         "void_fraction": 0.48310068249702454,
         "_deepnote_index_column": 66424
        },
        {
         "void_fraction": 0.5144054293632507,
         "_deepnote_index_column": 66425
        },
        {
         "void_fraction": 0.5188630819320679,
         "_deepnote_index_column": 66427
        },
        {
         "void_fraction": 0.5208384990692139,
         "_deepnote_index_column": 66428
        },
        {
         "void_fraction": 0.5189526081085205,
         "_deepnote_index_column": 66429
        },
        {
         "void_fraction": 0.5158993005752563,
         "_deepnote_index_column": 66430
        },
        {
         "void_fraction": 0.5022327899932861,
         "_deepnote_index_column": 66431
        },
        {
         "void_fraction": 0.4862493872642517,
         "_deepnote_index_column": 66432
        },
        {
         "void_fraction": 0.5215606689453125,
         "_deepnote_index_column": 66433
        },
        {
         "void_fraction": 0.5193727016448975,
         "_deepnote_index_column": 66434
        },
        {
         "void_fraction": 0.5168270468711853,
         "_deepnote_index_column": 66435
        },
        {
         "void_fraction": 0.5135561227798462,
         "_deepnote_index_column": 66436
        },
        {
         "void_fraction": 0.512317955493927,
         "_deepnote_index_column": 66437
        },
        {
         "void_fraction": 0.49603813886642456,
         "_deepnote_index_column": 66438
        },
        {
         "void_fraction": 0.5204929113388062,
         "_deepnote_index_column": 66439
        },
        {
         "void_fraction": 0.5170970559120178,
         "_deepnote_index_column": 66441
        },
        {
         "void_fraction": 0.3212665319442749,
         "_deepnote_index_column": 66442
        },
        {
         "void_fraction": 0.5192302465438843,
         "_deepnote_index_column": 66443
        },
        {
         "void_fraction": 0.5187664031982422,
         "_deepnote_index_column": 66444
        },
        {
         "void_fraction": 0.47856810688972473,
         "_deepnote_index_column": 66445
        },
        {
         "void_fraction": 0.5214145183563232,
         "_deepnote_index_column": 66447
        },
        {
         "void_fraction": 0.4674292802810669,
         "_deepnote_index_column": 66448
        },
        {
         "void_fraction": 0.5216180086135864,
         "_deepnote_index_column": 66449
        },
        {
         "void_fraction": 0.36748501658439636,
         "_deepnote_index_column": 66450
        },
        {
         "void_fraction": 0.5214613080024719,
         "_deepnote_index_column": 66451
        },
        {
         "void_fraction": 0.5189275741577148,
         "_deepnote_index_column": 66452
        },
        {
         "void_fraction": 0.519039511680603,
         "_deepnote_index_column": 66453
        },
        {
         "void_fraction": 0.5203770995140076,
         "_deepnote_index_column": 66454
        },
        {
         "void_fraction": 0.5216065645217896,
         "_deepnote_index_column": 66455
        },
        {
         "void_fraction": 0.5129148364067078,
         "_deepnote_index_column": 66456
        },
        {
         "void_fraction": 0.32135528326034546,
         "_deepnote_index_column": 66457
        },
        {
         "void_fraction": 0.5065894722938538,
         "_deepnote_index_column": 66458
        },
        {
         "void_fraction": 0.5205579400062561,
         "_deepnote_index_column": 66459
        },
        {
         "void_fraction": 0.5127655863761902,
         "_deepnote_index_column": 66460
        },
        {
         "void_fraction": 0.2046739161014557,
         "_deepnote_index_column": 66461
        },
        {
         "void_fraction": 0.46562182903289795,
         "_deepnote_index_column": 66462
        },
        {
         "void_fraction": 0.5171396136283875,
         "_deepnote_index_column": 66463
        },
        {
         "void_fraction": 0.4916154146194458,
         "_deepnote_index_column": 66464
        },
        {
         "void_fraction": 0.511055052280426,
         "_deepnote_index_column": 66465
        },
        {
         "void_fraction": 0.5179086923599243,
         "_deepnote_index_column": 66466
        },
        {
         "void_fraction": 0.5149036645889282,
         "_deepnote_index_column": 66467
        },
        {
         "void_fraction": 0.4755280017852783,
         "_deepnote_index_column": 66468
        },
        {
         "void_fraction": 0.47573065757751465,
         "_deepnote_index_column": 66469
        },
        {
         "void_fraction": 0.5046308040618896,
         "_deepnote_index_column": 66470
        },
        {
         "void_fraction": 0.5209402441978455,
         "_deepnote_index_column": 66471
        },
        {
         "void_fraction": 0.5103645324707031,
         "_deepnote_index_column": 66472
        },
        {
         "void_fraction": 0.5047727227210999,
         "_deepnote_index_column": 66473
        },
        {
         "void_fraction": 0.5119518637657166,
         "_deepnote_index_column": 66474
        },
        {
         "void_fraction": 0.5088391900062561,
         "_deepnote_index_column": 66475
        },
        {
         "void_fraction": 0.49282941222190857,
         "_deepnote_index_column": 66476
        },
        {
         "void_fraction": 0.5185973048210144,
         "_deepnote_index_column": 66477
        },
        {
         "void_fraction": 0.5209177136421204,
         "_deepnote_index_column": 66478
        },
        {
         "void_fraction": 0.253957599401474,
         "_deepnote_index_column": 66480
        },
        {
         "void_fraction": 0.5186372995376587,
         "_deepnote_index_column": 66481
        },
        {
         "void_fraction": 0.45064741373062134,
         "_deepnote_index_column": 66482
        },
        {
         "void_fraction": 0.49853697419166565,
         "_deepnote_index_column": 66483
        },
        {
         "void_fraction": 0.5143852233886719,
         "_deepnote_index_column": 66484
        },
        {
         "void_fraction": 0.3128244876861572,
         "_deepnote_index_column": 66485
        },
        {
         "void_fraction": 0.521202564239502,
         "_deepnote_index_column": 66486
        },
        {
         "void_fraction": 0.49113374948501587,
         "_deepnote_index_column": 66487
        },
        {
         "void_fraction": 0.5216447710990906,
         "_deepnote_index_column": 66488
        },
        {
         "void_fraction": 0.27904045581817627,
         "_deepnote_index_column": 66489
        },
        {
         "void_fraction": 0.5188506245613098,
         "_deepnote_index_column": 66490
        },
        {
         "void_fraction": 0.5203279256820679,
         "_deepnote_index_column": 66491
        },
        {
         "void_fraction": 0.5211971998214722,
         "_deepnote_index_column": 66492
        },
        {
         "void_fraction": 0.5004003643989563,
         "_deepnote_index_column": 66493
        },
        {
         "void_fraction": 0.5213295221328735,
         "_deepnote_index_column": 66494
        },
        {
         "void_fraction": 0.51015305519104,
         "_deepnote_index_column": 66495
        },
        {
         "void_fraction": 0.4432348310947418,
         "_deepnote_index_column": 66496
        },
        {
         "void_fraction": 0.5204063057899475,
         "_deepnote_index_column": 66497
        },
        {
         "void_fraction": 0.1800779402256012,
         "_deepnote_index_column": 66498
        },
        {
         "void_fraction": 0.5207890272140503,
         "_deepnote_index_column": 66499
        },
        {
         "void_fraction": 0.5191308259963989,
         "_deepnote_index_column": 66500
        },
        {
         "void_fraction": 0.499864399433136,
         "_deepnote_index_column": 66501
        },
        {
         "void_fraction": 0.5075395107269287,
         "_deepnote_index_column": 66502
        },
        {
         "void_fraction": 0.5044732093811035,
         "_deepnote_index_column": 66503
        },
        {
         "void_fraction": 0.5180886387825012,
         "_deepnote_index_column": 66504
        },
        {
         "void_fraction": 0.512672483921051,
         "_deepnote_index_column": 66505
        },
        {
         "void_fraction": 0.516541600227356,
         "_deepnote_index_column": 66506
        },
        {
         "void_fraction": 0.21752676367759705,
         "_deepnote_index_column": 66507
        },
        {
         "void_fraction": 0.5203234553337097,
         "_deepnote_index_column": 66508
        },
        {
         "void_fraction": 0.5156847238540649,
         "_deepnote_index_column": 66509
        },
        {
         "void_fraction": 0.33726876974105835,
         "_deepnote_index_column": 66510
        },
        {
         "void_fraction": 0.5213088393211365,
         "_deepnote_index_column": 66511
        },
        {
         "void_fraction": 0.5200631022453308,
         "_deepnote_index_column": 66512
        },
        {
         "void_fraction": 0.5213488936424255,
         "_deepnote_index_column": 66513
        },
        {
         "void_fraction": 0.5199530124664307,
         "_deepnote_index_column": 66514
        },
        {
         "void_fraction": 0.5126400589942932,
         "_deepnote_index_column": 66515
        },
        {
         "void_fraction": 0.4591349959373474,
         "_deepnote_index_column": 66516
        },
        {
         "void_fraction": 0.514405369758606,
         "_deepnote_index_column": 66517
        },
        {
         "void_fraction": 0.5175672173500061,
         "_deepnote_index_column": 66518
        },
        {
         "void_fraction": 0.5086340308189392,
         "_deepnote_index_column": 66519
        },
        {
         "void_fraction": 0.1963742971420288,
         "_deepnote_index_column": 66520
        },
        {
         "void_fraction": 0.5201749801635742,
         "_deepnote_index_column": 66521
        },
        {
         "void_fraction": 0.5180023312568665,
         "_deepnote_index_column": 66522
        },
        {
         "void_fraction": 0.5197961926460266,
         "_deepnote_index_column": 66523
        },
        {
         "void_fraction": 0.5144858956336975,
         "_deepnote_index_column": 66524
        }
       ]
      },
      "text/plain": "            void_fraction\nUnnamed: 0               \n47630            0.388589\n47631            0.273713\n47632            0.347425\n47633            0.194464\n47635            0.391269\n...                   ...\n66520            0.196374\n66521            0.520175\n66522            0.518002\n66523            0.519796\n66524            0.514486\n\n[16134 rows x 1 columns]",
      "text/html": "<div>\n<style scoped>\n    .dataframe tbody tr th:only-of-type {\n        vertical-align: middle;\n    }\n\n    .dataframe tbody tr th {\n        vertical-align: top;\n    }\n\n    .dataframe thead th {\n        text-align: right;\n    }\n</style>\n<table border=\"1\" class=\"dataframe\">\n  <thead>\n    <tr style=\"text-align: right;\">\n      <th></th>\n      <th>void_fraction</th>\n    </tr>\n    <tr>\n      <th>Unnamed: 0</th>\n      <th></th>\n    </tr>\n  </thead>\n  <tbody>\n    <tr>\n      <th>47630</th>\n      <td>0.388589</td>\n    </tr>\n    <tr>\n      <th>47631</th>\n      <td>0.273713</td>\n    </tr>\n    <tr>\n      <th>47632</th>\n      <td>0.347425</td>\n    </tr>\n    <tr>\n      <th>47633</th>\n      <td>0.194464</td>\n    </tr>\n    <tr>\n      <th>47635</th>\n      <td>0.391269</td>\n    </tr>\n    <tr>\n      <th>...</th>\n      <td>...</td>\n    </tr>\n    <tr>\n      <th>66520</th>\n      <td>0.196374</td>\n    </tr>\n    <tr>\n      <th>66521</th>\n      <td>0.520175</td>\n    </tr>\n    <tr>\n      <th>66522</th>\n      <td>0.518002</td>\n    </tr>\n    <tr>\n      <th>66523</th>\n      <td>0.519796</td>\n    </tr>\n    <tr>\n      <th>66524</th>\n      <td>0.514486</td>\n    </tr>\n  </tbody>\n</table>\n<p>16134 rows × 1 columns</p>\n</div>"
     },
     "metadata": {}
    }
   ]
  },
  {
   "cell_type": "code",
   "metadata": {
    "tags": [],
    "cell_id": "00005-165c6e1f-0a50-4654-a4ba-f7ced10c6dee",
    "deepnote_to_be_reexecuted": false,
    "source_hash": "88913d25",
    "execution_start": 1632502152476,
    "execution_millis": 10158,
    "deepnote_cell_type": "code"
   },
   "source": "from xgboost import XGBRegressor\n\nreg = XGBRegressor()\nreg.fit(X.values, y.values)",
   "execution_count": null,
   "outputs": [
    {
     "output_type": "execute_result",
     "execution_count": 9,
     "data": {
      "text/plain": "XGBRegressor(base_score=0.5, booster='gbtree', colsample_bylevel=1,\n             colsample_bynode=1, colsample_bytree=1, gamma=0, gpu_id=-1,\n             importance_type='gain', interaction_constraints='',\n             learning_rate=0.300000012, max_delta_step=0, max_depth=6,\n             min_child_weight=1, missing=nan, monotone_constraints='()',\n             n_estimators=100, n_jobs=4, num_parallel_tree=1, random_state=0,\n             reg_alpha=0, reg_lambda=1, scale_pos_weight=1, subsample=1,\n             tree_method='exact', validate_parameters=1, verbosity=None)"
     },
     "metadata": {}
    }
   ]
  },
  {
   "cell_type": "code",
   "metadata": {
    "tags": [],
    "cell_id": "00009-50dc5eee-90b3-4ee5-a5d7-5b31ec4d82ed",
    "deepnote_to_be_reexecuted": false,
    "source_hash": "f3019309",
    "execution_start": 1632502162612,
    "execution_millis": 63,
    "deepnote_cell_type": "code"
   },
   "source": "mean_absolute_error(reg.predict(X_test), y_test)",
   "execution_count": null,
   "outputs": [
    {
     "output_type": "execute_result",
     "execution_count": 10,
     "data": {
      "text/plain": "0.04765743596161957"
     },
     "metadata": {}
    }
   ]
  },
  {
   "cell_type": "code",
   "metadata": {
    "tags": [],
    "cell_id": "00010-c9f4f05b-0172-4edc-8959-0c426a1d6ebc",
    "deepnote_to_be_reexecuted": false,
    "source_hash": "e4281019",
    "execution_start": 1632502162645,
    "execution_millis": 113,
    "deepnote_cell_type": "code"
   },
   "source": "pd.DataFrame(reg.predict(X_test))",
   "execution_count": null,
   "outputs": [
    {
     "output_type": "execute_result",
     "execution_count": 11,
     "data": {
      "application/vnd.deepnote.dataframe.v2+json": {
       "row_count": 16134,
       "column_count": 1,
       "columns": [
        {
         "name": 0,
         "dtype": "float32",
         "stats": {
          "unique_count": 14359,
          "nan_count": 0,
          "min": "0.03877827897667885",
          "max": "0.7147487998008728",
          "histogram": [
           {
            "bin_start": 0.03877827897667885,
            "bin_end": 0.1063753291964531,
            "count": 243
           },
           {
            "bin_start": 0.1063753291964531,
            "bin_end": 0.17397238314151764,
            "count": 1314
           },
           {
            "bin_start": 0.17397238314151764,
            "bin_end": 0.2415694296360016,
            "count": 2518
           },
           {
            "bin_start": 0.2415694296360016,
            "bin_end": 0.30916649103164673,
            "count": 2839
           },
           {
            "bin_start": 0.30916649103164673,
            "bin_end": 0.37676355242729187,
            "count": 2429
           },
           {
            "bin_start": 0.37676355242729187,
            "bin_end": 0.4443605840206146,
            "count": 1904
           },
           {
            "bin_start": 0.4443605840206146,
            "bin_end": 0.5119576454162598,
            "count": 1570
           },
           {
            "bin_start": 0.5119576454162598,
            "bin_end": 0.5795546770095825,
            "count": 1558
           },
           {
            "bin_start": 0.5795546770095825,
            "bin_end": 0.64715176820755,
            "count": 951
           },
           {
            "bin_start": 0.64715176820755,
            "bin_end": 0.7147487998008728,
            "count": 808
           }
          ]
         }
        },
        {
         "name": "_deepnote_index_column",
         "dtype": "int64"
        }
       ],
       "rows_top": [
        {
         "0": 0.36189860105514526,
         "_deepnote_index_column": 0
        },
        {
         "0": 0.2349470555782318,
         "_deepnote_index_column": 1
        },
        {
         "0": 0.3252083361148834,
         "_deepnote_index_column": 2
        },
        {
         "0": 0.1634378880262375,
         "_deepnote_index_column": 3
        },
        {
         "0": 0.38732755184173584,
         "_deepnote_index_column": 4
        },
        {
         "0": 0.08947458118200302,
         "_deepnote_index_column": 5
        },
        {
         "0": 0.31347933411598206,
         "_deepnote_index_column": 6
        },
        {
         "0": 0.4514220952987671,
         "_deepnote_index_column": 7
        },
        {
         "0": 0.2589448094367981,
         "_deepnote_index_column": 8
        },
        {
         "0": 0.3379066288471222,
         "_deepnote_index_column": 9
        },
        {
         "0": 0.18081222474575043,
         "_deepnote_index_column": 10
        },
        {
         "0": 0.10948848724365234,
         "_deepnote_index_column": 11
        },
        {
         "0": 0.2065417468547821,
         "_deepnote_index_column": 12
        },
        {
         "0": 0.30865123867988586,
         "_deepnote_index_column": 13
        },
        {
         "0": 0.3860941231250763,
         "_deepnote_index_column": 14
        },
        {
         "0": 0.560224711894989,
         "_deepnote_index_column": 15
        },
        {
         "0": 0.28112417459487915,
         "_deepnote_index_column": 16
        },
        {
         "0": 0.13422195613384247,
         "_deepnote_index_column": 17
        },
        {
         "0": 0.19247356057167053,
         "_deepnote_index_column": 18
        },
        {
         "0": 0.24080076813697815,
         "_deepnote_index_column": 19
        },
        {
         "0": 0.13525281846523285,
         "_deepnote_index_column": 20
        },
        {
         "0": 0.20707285404205322,
         "_deepnote_index_column": 21
        },
        {
         "0": 0.1614760011434555,
         "_deepnote_index_column": 22
        },
        {
         "0": 0.2600906789302826,
         "_deepnote_index_column": 23
        },
        {
         "0": 0.24266529083251953,
         "_deepnote_index_column": 24
        },
        {
         "0": 0.31392234563827515,
         "_deepnote_index_column": 25
        },
        {
         "0": 0.22775234282016754,
         "_deepnote_index_column": 26
        },
        {
         "0": 0.27531537413597107,
         "_deepnote_index_column": 27
        },
        {
         "0": 0.21339668333530426,
         "_deepnote_index_column": 28
        },
        {
         "0": 0.2926502227783203,
         "_deepnote_index_column": 29
        },
        {
         "0": 0.3576774597167969,
         "_deepnote_index_column": 30
        },
        {
         "0": 0.2260289192199707,
         "_deepnote_index_column": 31
        },
        {
         "0": 0.4159657657146454,
         "_deepnote_index_column": 32
        },
        {
         "0": 0.2681939899921417,
         "_deepnote_index_column": 33
        },
        {
         "0": 0.3230192959308624,
         "_deepnote_index_column": 34
        },
        {
         "0": 0.30285772681236267,
         "_deepnote_index_column": 35
        },
        {
         "0": 0.3562901020050049,
         "_deepnote_index_column": 36
        },
        {
         "0": 0.30578604340553284,
         "_deepnote_index_column": 37
        },
        {
         "0": 0.2731289863586426,
         "_deepnote_index_column": 38
        },
        {
         "0": 0.27486443519592285,
         "_deepnote_index_column": 39
        },
        {
         "0": 0.40014463663101196,
         "_deepnote_index_column": 40
        },
        {
         "0": 0.23780234158039093,
         "_deepnote_index_column": 41
        },
        {
         "0": 0.1935773342847824,
         "_deepnote_index_column": 42
        },
        {
         "0": 0.24047130346298218,
         "_deepnote_index_column": 43
        },
        {
         "0": 0.40862417221069336,
         "_deepnote_index_column": 44
        },
        {
         "0": 0.2717478573322296,
         "_deepnote_index_column": 45
        },
        {
         "0": 0.24150092899799347,
         "_deepnote_index_column": 46
        },
        {
         "0": 0.2620415687561035,
         "_deepnote_index_column": 47
        },
        {
         "0": 0.28692397475242615,
         "_deepnote_index_column": 48
        },
        {
         "0": 0.17388363182544708,
         "_deepnote_index_column": 49
        },
        {
         "0": 0.3730672299861908,
         "_deepnote_index_column": 50
        },
        {
         "0": 0.2703854739665985,
         "_deepnote_index_column": 51
        },
        {
         "0": 0.11116760969161987,
         "_deepnote_index_column": 52
        },
        {
         "0": 0.27185961604118347,
         "_deepnote_index_column": 53
        },
        {
         "0": 0.12613677978515625,
         "_deepnote_index_column": 54
        },
        {
         "0": 0.2627718448638916,
         "_deepnote_index_column": 55
        },
        {
         "0": 0.15101517736911774,
         "_deepnote_index_column": 56
        },
        {
         "0": 0.20205500721931458,
         "_deepnote_index_column": 57
        },
        {
         "0": 0.30734506249427795,
         "_deepnote_index_column": 58
        },
        {
         "0": 0.23096467554569244,
         "_deepnote_index_column": 59
        },
        {
         "0": 0.393632173538208,
         "_deepnote_index_column": 60
        },
        {
         "0": 0.3351450562477112,
         "_deepnote_index_column": 61
        },
        {
         "0": 0.2682325839996338,
         "_deepnote_index_column": 62
        },
        {
         "0": 0.20375458896160126,
         "_deepnote_index_column": 63
        },
        {
         "0": 0.30294767022132874,
         "_deepnote_index_column": 64
        },
        {
         "0": 0.33793678879737854,
         "_deepnote_index_column": 65
        },
        {
         "0": 0.409537136554718,
         "_deepnote_index_column": 66
        },
        {
         "0": 0.26788678765296936,
         "_deepnote_index_column": 67
        },
        {
         "0": 0.22156532108783722,
         "_deepnote_index_column": 68
        },
        {
         "0": 0.4139559864997864,
         "_deepnote_index_column": 69
        },
        {
         "0": 0.24559235572814941,
         "_deepnote_index_column": 70
        },
        {
         "0": 0.3317365348339081,
         "_deepnote_index_column": 71
        },
        {
         "0": 0.2055150866508484,
         "_deepnote_index_column": 72
        },
        {
         "0": 0.36482852697372437,
         "_deepnote_index_column": 73
        },
        {
         "0": 0.20652927458286285,
         "_deepnote_index_column": 74
        },
        {
         "0": 0.19626882672309875,
         "_deepnote_index_column": 75
        },
        {
         "0": 0.2800767421722412,
         "_deepnote_index_column": 76
        },
        {
         "0": 0.30119362473487854,
         "_deepnote_index_column": 77
        },
        {
         "0": 0.28642141819000244,
         "_deepnote_index_column": 78
        },
        {
         "0": 0.3836142122745514,
         "_deepnote_index_column": 79
        },
        {
         "0": 0.29777735471725464,
         "_deepnote_index_column": 80
        },
        {
         "0": 0.3595605194568634,
         "_deepnote_index_column": 81
        },
        {
         "0": 0.31491026282310486,
         "_deepnote_index_column": 82
        },
        {
         "0": 0.2824554443359375,
         "_deepnote_index_column": 83
        },
        {
         "0": 0.21334311366081238,
         "_deepnote_index_column": 84
        },
        {
         "0": 0.12269443273544312,
         "_deepnote_index_column": 85
        },
        {
         "0": 0.07119985669851303,
         "_deepnote_index_column": 86
        },
        {
         "0": 0.2865549921989441,
         "_deepnote_index_column": 87
        },
        {
         "0": 0.5376726984977722,
         "_deepnote_index_column": 88
        },
        {
         "0": 0.22975941002368927,
         "_deepnote_index_column": 89
        },
        {
         "0": 0.3268003463745117,
         "_deepnote_index_column": 90
        },
        {
         "0": 0.30344852805137634,
         "_deepnote_index_column": 91
        },
        {
         "0": 0.2898021638393402,
         "_deepnote_index_column": 92
        },
        {
         "0": 0.28985217213630676,
         "_deepnote_index_column": 93
        },
        {
         "0": 0.29581379890441895,
         "_deepnote_index_column": 94
        },
        {
         "0": 0.30521494150161743,
         "_deepnote_index_column": 95
        },
        {
         "0": 0.3437151610851288,
         "_deepnote_index_column": 96
        },
        {
         "0": 0.204901784658432,
         "_deepnote_index_column": 97
        },
        {
         "0": 0.23371322453022003,
         "_deepnote_index_column": 98
        },
        {
         "0": 0.257127970457077,
         "_deepnote_index_column": 99
        },
        {
         "0": 0.1101425290107727,
         "_deepnote_index_column": 100
        },
        {
         "0": 0.27288711071014404,
         "_deepnote_index_column": 101
        },
        {
         "0": 0.3148711621761322,
         "_deepnote_index_column": 102
        },
        {
         "0": 0.305176705121994,
         "_deepnote_index_column": 103
        },
        {
         "0": 0.25723937153816223,
         "_deepnote_index_column": 104
        },
        {
         "0": 0.25004833936691284,
         "_deepnote_index_column": 105
        },
        {
         "0": 0.2798783779144287,
         "_deepnote_index_column": 106
        },
        {
         "0": 0.34423476457595825,
         "_deepnote_index_column": 107
        },
        {
         "0": 0.21376954019069672,
         "_deepnote_index_column": 108
        },
        {
         "0": 0.10179387778043747,
         "_deepnote_index_column": 109
        },
        {
         "0": 0.16709239780902863,
         "_deepnote_index_column": 110
        },
        {
         "0": 0.38928335905075073,
         "_deepnote_index_column": 111
        },
        {
         "0": 0.40243127942085266,
         "_deepnote_index_column": 112
        },
        {
         "0": 0.30246078968048096,
         "_deepnote_index_column": 113
        },
        {
         "0": 0.16237810254096985,
         "_deepnote_index_column": 114
        },
        {
         "0": 0.39348453283309937,
         "_deepnote_index_column": 115
        },
        {
         "0": 0.38121673464775085,
         "_deepnote_index_column": 116
        },
        {
         "0": 0.11301268637180328,
         "_deepnote_index_column": 117
        },
        {
         "0": 0.13222743570804596,
         "_deepnote_index_column": 118
        },
        {
         "0": 0.32518690824508667,
         "_deepnote_index_column": 119
        },
        {
         "0": 0.1565091758966446,
         "_deepnote_index_column": 120
        },
        {
         "0": 0.4625840485095978,
         "_deepnote_index_column": 121
        },
        {
         "0": 0.21493984758853912,
         "_deepnote_index_column": 122
        },
        {
         "0": 0.17556703090667725,
         "_deepnote_index_column": 123
        },
        {
         "0": 0.2266252189874649,
         "_deepnote_index_column": 124
        },
        {
         "0": 0.2628972828388214,
         "_deepnote_index_column": 125
        },
        {
         "0": 0.14623668789863586,
         "_deepnote_index_column": 126
        },
        {
         "0": 0.21037136018276215,
         "_deepnote_index_column": 127
        },
        {
         "0": 0.2938612699508667,
         "_deepnote_index_column": 128
        },
        {
         "0": 0.15145312249660492,
         "_deepnote_index_column": 129
        },
        {
         "0": 0.20922453701496124,
         "_deepnote_index_column": 130
        },
        {
         "0": 0.2794356644153595,
         "_deepnote_index_column": 131
        },
        {
         "0": 0.38326263427734375,
         "_deepnote_index_column": 132
        },
        {
         "0": 0.2847464978694916,
         "_deepnote_index_column": 133
        },
        {
         "0": 0.2141173928976059,
         "_deepnote_index_column": 134
        },
        {
         "0": 0.30026018619537354,
         "_deepnote_index_column": 135
        },
        {
         "0": 0.2730499804019928,
         "_deepnote_index_column": 136
        },
        {
         "0": 0.24143418669700623,
         "_deepnote_index_column": 137
        },
        {
         "0": 0.2582787871360779,
         "_deepnote_index_column": 138
        },
        {
         "0": 0.4529842138290405,
         "_deepnote_index_column": 139
        },
        {
         "0": 0.2811456024646759,
         "_deepnote_index_column": 140
        },
        {
         "0": 0.22561492025852203,
         "_deepnote_index_column": 141
        },
        {
         "0": 0.17483487725257874,
         "_deepnote_index_column": 142
        },
        {
         "0": 0.24315941333770752,
         "_deepnote_index_column": 143
        },
        {
         "0": 0.4013535678386688,
         "_deepnote_index_column": 144
        },
        {
         "0": 0.3205640912055969,
         "_deepnote_index_column": 145
        },
        {
         "0": 0.20995451509952545,
         "_deepnote_index_column": 146
        },
        {
         "0": 0.29679349064826965,
         "_deepnote_index_column": 147
        },
        {
         "0": 0.2752457559108734,
         "_deepnote_index_column": 148
        },
        {
         "0": 0.2559869885444641,
         "_deepnote_index_column": 149
        },
        {
         "0": 0.2024066299200058,
         "_deepnote_index_column": 150
        },
        {
         "0": 0.18407781422138214,
         "_deepnote_index_column": 151
        },
        {
         "0": 0.1520645022392273,
         "_deepnote_index_column": 152
        },
        {
         "0": 0.12547628581523895,
         "_deepnote_index_column": 153
        },
        {
         "0": 0.28561463952064514,
         "_deepnote_index_column": 154
        },
        {
         "0": 0.18949665129184723,
         "_deepnote_index_column": 155
        },
        {
         "0": 0.3993176519870758,
         "_deepnote_index_column": 156
        },
        {
         "0": 0.3428363502025604,
         "_deepnote_index_column": 157
        },
        {
         "0": 0.35736900568008423,
         "_deepnote_index_column": 158
        },
        {
         "0": 0.35428518056869507,
         "_deepnote_index_column": 159
        },
        {
         "0": 0.16060702502727509,
         "_deepnote_index_column": 160
        },
        {
         "0": 0.505861759185791,
         "_deepnote_index_column": 161
        },
        {
         "0": 0.17202378809452057,
         "_deepnote_index_column": 162
        },
        {
         "0": 0.3673911690711975,
         "_deepnote_index_column": 163
        },
        {
         "0": 0.21542365849018097,
         "_deepnote_index_column": 164
        },
        {
         "0": 0.10838544368743896,
         "_deepnote_index_column": 165
        },
        {
         "0": 0.31858697533607483,
         "_deepnote_index_column": 166
        },
        {
         "0": 0.2735567092895508,
         "_deepnote_index_column": 167
        },
        {
         "0": 0.21007154881954193,
         "_deepnote_index_column": 168
        },
        {
         "0": 0.3549776077270508,
         "_deepnote_index_column": 169
        },
        {
         "0": 0.3346983790397644,
         "_deepnote_index_column": 170
        },
        {
         "0": 0.15874409675598145,
         "_deepnote_index_column": 171
        },
        {
         "0": 0.2777917981147766,
         "_deepnote_index_column": 172
        },
        {
         "0": 0.2648700475692749,
         "_deepnote_index_column": 173
        },
        {
         "0": 0.461651474237442,
         "_deepnote_index_column": 174
        },
        {
         "0": 0.3941371738910675,
         "_deepnote_index_column": 175
        },
        {
         "0": 0.21156834065914154,
         "_deepnote_index_column": 176
        },
        {
         "0": 0.26867473125457764,
         "_deepnote_index_column": 177
        },
        {
         "0": 0.25140735507011414,
         "_deepnote_index_column": 178
        },
        {
         "0": 0.14953027665615082,
         "_deepnote_index_column": 179
        },
        {
         "0": 0.2769041955471039,
         "_deepnote_index_column": 180
        },
        {
         "0": 0.27146682143211365,
         "_deepnote_index_column": 181
        },
        {
         "0": 0.14617013931274414,
         "_deepnote_index_column": 182
        },
        {
         "0": 0.36447668075561523,
         "_deepnote_index_column": 183
        },
        {
         "0": 0.27086392045021057,
         "_deepnote_index_column": 184
        },
        {
         "0": 0.17273743450641632,
         "_deepnote_index_column": 185
        },
        {
         "0": 0.3926987946033478,
         "_deepnote_index_column": 186
        },
        {
         "0": 0.11133825033903122,
         "_deepnote_index_column": 187
        },
        {
         "0": 0.23700033128261566,
         "_deepnote_index_column": 188
        },
        {
         "0": 0.30400046706199646,
         "_deepnote_index_column": 189
        },
        {
         "0": 0.29006433486938477,
         "_deepnote_index_column": 190
        },
        {
         "0": 0.17657475173473358,
         "_deepnote_index_column": 191
        },
        {
         "0": 0.1495828926563263,
         "_deepnote_index_column": 192
        },
        {
         "0": 0.2695799469947815,
         "_deepnote_index_column": 193
        },
        {
         "0": 0.4006645381450653,
         "_deepnote_index_column": 194
        },
        {
         "0": 0.2178131639957428,
         "_deepnote_index_column": 195
        },
        {
         "0": 0.09538239985704422,
         "_deepnote_index_column": 196
        },
        {
         "0": 0.32539600133895874,
         "_deepnote_index_column": 197
        },
        {
         "0": 0.32854121923446655,
         "_deepnote_index_column": 198
        },
        {
         "0": 0.42646175622940063,
         "_deepnote_index_column": 199
        },
        {
         "0": 0.2793234586715698,
         "_deepnote_index_column": 200
        },
        {
         "0": 0.23067279160022736,
         "_deepnote_index_column": 201
        },
        {
         "0": 0.30117374658584595,
         "_deepnote_index_column": 202
        },
        {
         "0": 0.3051707148551941,
         "_deepnote_index_column": 203
        },
        {
         "0": 0.3007456362247467,
         "_deepnote_index_column": 204
        },
        {
         "0": 0.361928254365921,
         "_deepnote_index_column": 205
        },
        {
         "0": 0.39556223154067993,
         "_deepnote_index_column": 206
        },
        {
         "0": 0.2945276200771332,
         "_deepnote_index_column": 207
        },
        {
         "0": 0.38933777809143066,
         "_deepnote_index_column": 208
        },
        {
         "0": 0.19024993479251862,
         "_deepnote_index_column": 209
        },
        {
         "0": 0.1537323296070099,
         "_deepnote_index_column": 210
        },
        {
         "0": 0.15863987803459167,
         "_deepnote_index_column": 211
        },
        {
         "0": 0.25154995918273926,
         "_deepnote_index_column": 212
        },
        {
         "0": 0.21678805351257324,
         "_deepnote_index_column": 213
        },
        {
         "0": 0.2189018875360489,
         "_deepnote_index_column": 214
        },
        {
         "0": 0.17441652715206146,
         "_deepnote_index_column": 215
        },
        {
         "0": 0.2691653370857239,
         "_deepnote_index_column": 216
        },
        {
         "0": 0.3279903531074524,
         "_deepnote_index_column": 217
        },
        {
         "0": 0.25391054153442383,
         "_deepnote_index_column": 218
        },
        {
         "0": 0.25963813066482544,
         "_deepnote_index_column": 219
        },
        {
         "0": 0.22655077278614044,
         "_deepnote_index_column": 220
        },
        {
         "0": 0.2972632348537445,
         "_deepnote_index_column": 221
        },
        {
         "0": 0.16558977961540222,
         "_deepnote_index_column": 222
        },
        {
         "0": 0.18763123452663422,
         "_deepnote_index_column": 223
        },
        {
         "0": 0.3088941276073456,
         "_deepnote_index_column": 224
        },
        {
         "0": 0.18435150384902954,
         "_deepnote_index_column": 225
        },
        {
         "0": 0.4527582824230194,
         "_deepnote_index_column": 226
        },
        {
         "0": 0.39389002323150635,
         "_deepnote_index_column": 227
        },
        {
         "0": 0.30515989661216736,
         "_deepnote_index_column": 228
        },
        {
         "0": 0.2680210769176483,
         "_deepnote_index_column": 229
        },
        {
         "0": 0.2785685956478119,
         "_deepnote_index_column": 230
        },
        {
         "0": 0.30439531803131104,
         "_deepnote_index_column": 231
        },
        {
         "0": 0.3826349675655365,
         "_deepnote_index_column": 232
        },
        {
         "0": 0.36182335019111633,
         "_deepnote_index_column": 233
        },
        {
         "0": 0.19454634189605713,
         "_deepnote_index_column": 234
        },
        {
         "0": 0.3911805748939514,
         "_deepnote_index_column": 235
        },
        {
         "0": 0.17353174090385437,
         "_deepnote_index_column": 236
        },
        {
         "0": 0.19552841782569885,
         "_deepnote_index_column": 237
        },
        {
         "0": 0.39462852478027344,
         "_deepnote_index_column": 238
        },
        {
         "0": 0.4337471127510071,
         "_deepnote_index_column": 239
        },
        {
         "0": 0.18225309252738953,
         "_deepnote_index_column": 240
        },
        {
         "0": 0.113378144800663,
         "_deepnote_index_column": 241
        },
        {
         "0": 0.1939065158367157,
         "_deepnote_index_column": 242
        },
        {
         "0": 0.287751168012619,
         "_deepnote_index_column": 243
        },
        {
         "0": 0.2420128732919693,
         "_deepnote_index_column": 244
        },
        {
         "0": 0.3223862051963806,
         "_deepnote_index_column": 245
        },
        {
         "0": 0.30404382944107056,
         "_deepnote_index_column": 246
        },
        {
         "0": 0.33161985874176025,
         "_deepnote_index_column": 247
        },
        {
         "0": 0.37536919116973877,
         "_deepnote_index_column": 248
        },
        {
         "0": 0.279500812292099,
         "_deepnote_index_column": 249
        },
        {
         "0": 0.26341646909713745,
         "_deepnote_index_column": 250
        },
        {
         "0": 0.4548395574092865,
         "_deepnote_index_column": 251
        },
        {
         "0": 0.15936279296875,
         "_deepnote_index_column": 252
        },
        {
         "0": 0.20088520646095276,
         "_deepnote_index_column": 253
        },
        {
         "0": 0.32009851932525635,
         "_deepnote_index_column": 254
        },
        {
         "0": 0.21416687965393066,
         "_deepnote_index_column": 255
        },
        {
         "0": 0.2661708891391754,
         "_deepnote_index_column": 256
        },
        {
         "0": 0.2468370646238327,
         "_deepnote_index_column": 257
        },
        {
         "0": 0.2955881655216217,
         "_deepnote_index_column": 258
        },
        {
         "0": 0.15132379531860352,
         "_deepnote_index_column": 259
        },
        {
         "0": 0.30428218841552734,
         "_deepnote_index_column": 260
        },
        {
         "0": 0.2969009280204773,
         "_deepnote_index_column": 261
        },
        {
         "0": 0.1941983699798584,
         "_deepnote_index_column": 262
        },
        {
         "0": 0.0936155840754509,
         "_deepnote_index_column": 263
        },
        {
         "0": 0.3089771866798401,
         "_deepnote_index_column": 264
        },
        {
         "0": 0.11574104428291321,
         "_deepnote_index_column": 265
        },
        {
         "0": 0.2984943091869354,
         "_deepnote_index_column": 266
        },
        {
         "0": 0.3230648636817932,
         "_deepnote_index_column": 267
        },
        {
         "0": 0.40664154291152954,
         "_deepnote_index_column": 268
        },
        {
         "0": 0.2616034746170044,
         "_deepnote_index_column": 269
        },
        {
         "0": 0.31121617555618286,
         "_deepnote_index_column": 270
        },
        {
         "0": 0.4017452299594879,
         "_deepnote_index_column": 271
        },
        {
         "0": 0.36625075340270996,
         "_deepnote_index_column": 272
        },
        {
         "0": 0.41341084241867065,
         "_deepnote_index_column": 273
        },
        {
         "0": 0.5544793009757996,
         "_deepnote_index_column": 274
        },
        {
         "0": 0.20181958377361298,
         "_deepnote_index_column": 275
        },
        {
         "0": 0.12390651553869247,
         "_deepnote_index_column": 276
        },
        {
         "0": 0.1694774031639099,
         "_deepnote_index_column": 277
        },
        {
         "0": 0.2193816900253296,
         "_deepnote_index_column": 278
        },
        {
         "0": 0.1630459725856781,
         "_deepnote_index_column": 279
        },
        {
         "0": 0.38560962677001953,
         "_deepnote_index_column": 280
        },
        {
         "0": 0.15125654637813568,
         "_deepnote_index_column": 281
        },
        {
         "0": 0.31892040371894836,
         "_deepnote_index_column": 282
        },
        {
         "0": 0.2985928952693939,
         "_deepnote_index_column": 283
        },
        {
         "0": 0.3439987599849701,
         "_deepnote_index_column": 284
        },
        {
         "0": 0.17558594048023224,
         "_deepnote_index_column": 285
        },
        {
         "0": 0.20157550275325775,
         "_deepnote_index_column": 286
        },
        {
         "0": 0.3611498475074768,
         "_deepnote_index_column": 287
        },
        {
         "0": 0.2825508713722229,
         "_deepnote_index_column": 288
        },
        {
         "0": 0.1843355894088745,
         "_deepnote_index_column": 289
        },
        {
         "0": 0.17438377439975739,
         "_deepnote_index_column": 290
        },
        {
         "0": 0.17275609076023102,
         "_deepnote_index_column": 291
        },
        {
         "0": 0.3012712001800537,
         "_deepnote_index_column": 292
        },
        {
         "0": 0.18818987905979156,
         "_deepnote_index_column": 293
        },
        {
         "0": 0.2796677350997925,
         "_deepnote_index_column": 294
        },
        {
         "0": 0.35830938816070557,
         "_deepnote_index_column": 295
        },
        {
         "0": 0.1729176640510559,
         "_deepnote_index_column": 296
        },
        {
         "0": 0.18276150524616241,
         "_deepnote_index_column": 297
        },
        {
         "0": 0.22511661052703857,
         "_deepnote_index_column": 298
        },
        {
         "0": 0.27606257796287537,
         "_deepnote_index_column": 299
        },
        {
         "0": 0.15884903073310852,
         "_deepnote_index_column": 300
        },
        {
         "0": 0.24072514474391937,
         "_deepnote_index_column": 301
        },
        {
         "0": 0.30755701661109924,
         "_deepnote_index_column": 302
        },
        {
         "0": 0.4377402067184448,
         "_deepnote_index_column": 303
        },
        {
         "0": 0.23292428255081177,
         "_deepnote_index_column": 304
        },
        {
         "0": 0.19174893200397491,
         "_deepnote_index_column": 305
        },
        {
         "0": 0.4089110493659973,
         "_deepnote_index_column": 306
        },
        {
         "0": 0.3141142725944519,
         "_deepnote_index_column": 307
        },
        {
         "0": 0.2429191619157791,
         "_deepnote_index_column": 308
        },
        {
         "0": 0.31423065066337585,
         "_deepnote_index_column": 309
        },
        {
         "0": 0.1623530089855194,
         "_deepnote_index_column": 310
        },
        {
         "0": 0.28714385628700256,
         "_deepnote_index_column": 311
        },
        {
         "0": 0.31041136384010315,
         "_deepnote_index_column": 312
        },
        {
         "0": 0.22755812108516693,
         "_deepnote_index_column": 313
        },
        {
         "0": 0.4031899869441986,
         "_deepnote_index_column": 314
        },
        {
         "0": 0.22572964429855347,
         "_deepnote_index_column": 315
        },
        {
         "0": 0.1346113085746765,
         "_deepnote_index_column": 316
        },
        {
         "0": 0.2585548460483551,
         "_deepnote_index_column": 317
        },
        {
         "0": 0.21712210774421692,
         "_deepnote_index_column": 318
        },
        {
         "0": 0.16010743379592896,
         "_deepnote_index_column": 319
        },
        {
         "0": 0.3986303210258484,
         "_deepnote_index_column": 320
        },
        {
         "0": 0.16447657346725464,
         "_deepnote_index_column": 321
        },
        {
         "0": 0.29191911220550537,
         "_deepnote_index_column": 322
        },
        {
         "0": 0.33934155106544495,
         "_deepnote_index_column": 323
        },
        {
         "0": 0.26518359780311584,
         "_deepnote_index_column": 324
        },
        {
         "0": 0.35878685116767883,
         "_deepnote_index_column": 325
        },
        {
         "0": 0.41426321864128113,
         "_deepnote_index_column": 326
        },
        {
         "0": 0.1703202873468399,
         "_deepnote_index_column": 327
        },
        {
         "0": 0.20530307292938232,
         "_deepnote_index_column": 328
        },
        {
         "0": 0.1982371211051941,
         "_deepnote_index_column": 329
        },
        {
         "0": 0.3504987061023712,
         "_deepnote_index_column": 330
        },
        {
         "0": 0.29585012793540955,
         "_deepnote_index_column": 331
        },
        {
         "0": 0.255617618560791,
         "_deepnote_index_column": 332
        },
        {
         "0": 0.2893972396850586,
         "_deepnote_index_column": 333
        },
        {
         "0": 0.3552684485912323,
         "_deepnote_index_column": 334
        },
        {
         "0": 0.2934689223766327,
         "_deepnote_index_column": 335
        },
        {
         "0": 0.15966865420341492,
         "_deepnote_index_column": 336
        },
        {
         "0": 0.3014293313026428,
         "_deepnote_index_column": 337
        },
        {
         "0": 0.2914735674858093,
         "_deepnote_index_column": 338
        },
        {
         "0": 0.25655558705329895,
         "_deepnote_index_column": 339
        },
        {
         "0": 0.24972499907016754,
         "_deepnote_index_column": 340
        },
        {
         "0": 0.3103419244289398,
         "_deepnote_index_column": 341
        },
        {
         "0": 0.1954774409532547,
         "_deepnote_index_column": 342
        },
        {
         "0": 0.44332897663116455,
         "_deepnote_index_column": 343
        },
        {
         "0": 0.233652725815773,
         "_deepnote_index_column": 344
        },
        {
         "0": 0.2654486894607544,
         "_deepnote_index_column": 345
        },
        {
         "0": 0.42489737272262573,
         "_deepnote_index_column": 346
        },
        {
         "0": 0.16305871307849884,
         "_deepnote_index_column": 347
        },
        {
         "0": 0.3189379572868347,
         "_deepnote_index_column": 348
        },
        {
         "0": 0.19760198891162872,
         "_deepnote_index_column": 349
        },
        {
         "0": 0.275483638048172,
         "_deepnote_index_column": 350
        },
        {
         "0": 0.17188839614391327,
         "_deepnote_index_column": 351
        },
        {
         "0": 0.4332984685897827,
         "_deepnote_index_column": 352
        },
        {
         "0": 0.11211468279361725,
         "_deepnote_index_column": 353
        },
        {
         "0": 0.35280928015708923,
         "_deepnote_index_column": 354
        },
        {
         "0": 0.16508305072784424,
         "_deepnote_index_column": 355
        },
        {
         "0": 0.34882211685180664,
         "_deepnote_index_column": 356
        },
        {
         "0": 0.3705510199069977,
         "_deepnote_index_column": 357
        },
        {
         "0": 0.3504195809364319,
         "_deepnote_index_column": 358
        },
        {
         "0": 0.17617283761501312,
         "_deepnote_index_column": 359
        },
        {
         "0": 0.2092178463935852,
         "_deepnote_index_column": 360
        },
        {
         "0": 0.16580578684806824,
         "_deepnote_index_column": 361
        },
        {
         "0": 0.31972819566726685,
         "_deepnote_index_column": 362
        },
        {
         "0": 0.3646905720233917,
         "_deepnote_index_column": 363
        },
        {
         "0": 0.33278077840805054,
         "_deepnote_index_column": 364
        },
        {
         "0": 0.48080974817276,
         "_deepnote_index_column": 365
        },
        {
         "0": 0.34307950735092163,
         "_deepnote_index_column": 366
        },
        {
         "0": 0.1869773417711258,
         "_deepnote_index_column": 367
        },
        {
         "0": 0.2884168326854706,
         "_deepnote_index_column": 368
        },
        {
         "0": 0.14553481340408325,
         "_deepnote_index_column": 369
        },
        {
         "0": 0.28234440088272095,
         "_deepnote_index_column": 370
        },
        {
         "0": 0.10672369599342346,
         "_deepnote_index_column": 371
        },
        {
         "0": 0.08022814989089966,
         "_deepnote_index_column": 372
        },
        {
         "0": 0.41269251704216003,
         "_deepnote_index_column": 373
        },
        {
         "0": 0.2766188681125641,
         "_deepnote_index_column": 374
        },
        {
         "0": 0.29353785514831543,
         "_deepnote_index_column": 375
        },
        {
         "0": 0.3811280429363251,
         "_deepnote_index_column": 376
        },
        {
         "0": 0.36908286809921265,
         "_deepnote_index_column": 377
        },
        {
         "0": 0.42655250430107117,
         "_deepnote_index_column": 378
        },
        {
         "0": 0.2005212903022766,
         "_deepnote_index_column": 379
        },
        {
         "0": 0.25488919019699097,
         "_deepnote_index_column": 380
        },
        {
         "0": 0.19663721323013306,
         "_deepnote_index_column": 381
        },
        {
         "0": 0.16963250935077667,
         "_deepnote_index_column": 382
        },
        {
         "0": 0.19290153682231903,
         "_deepnote_index_column": 383
        },
        {
         "0": 0.2712808847427368,
         "_deepnote_index_column": 384
        },
        {
         "0": 0.1573350727558136,
         "_deepnote_index_column": 385
        },
        {
         "0": 0.3929733633995056,
         "_deepnote_index_column": 386
        },
        {
         "0": 0.45284759998321533,
         "_deepnote_index_column": 387
        },
        {
         "0": 0.16892433166503906,
         "_deepnote_index_column": 388
        },
        {
         "0": 0.2606258988380432,
         "_deepnote_index_column": 389
        },
        {
         "0": 0.3691272735595703,
         "_deepnote_index_column": 390
        },
        {
         "0": 0.35365018248558044,
         "_deepnote_index_column": 391
        },
        {
         "0": 0.3353704810142517,
         "_deepnote_index_column": 392
        },
        {
         "0": 0.20985881984233856,
         "_deepnote_index_column": 393
        },
        {
         "0": 0.32870936393737793,
         "_deepnote_index_column": 394
        },
        {
         "0": 0.19185523688793182,
         "_deepnote_index_column": 395
        },
        {
         "0": 0.4462130665779114,
         "_deepnote_index_column": 396
        },
        {
         "0": 0.22971902787685394,
         "_deepnote_index_column": 397
        },
        {
         "0": 0.16086550056934357,
         "_deepnote_index_column": 398
        },
        {
         "0": 0.239241361618042,
         "_deepnote_index_column": 399
        },
        {
         "0": 0.2240982949733734,
         "_deepnote_index_column": 400
        },
        {
         "0": 0.25698336958885193,
         "_deepnote_index_column": 401
        },
        {
         "0": 0.2904408872127533,
         "_deepnote_index_column": 402
        },
        {
         "0": 0.3107680380344391,
         "_deepnote_index_column": 403
        },
        {
         "0": 0.2690134048461914,
         "_deepnote_index_column": 404
        },
        {
         "0": 0.36075034737586975,
         "_deepnote_index_column": 405
        },
        {
         "0": 0.4613824784755707,
         "_deepnote_index_column": 406
        },
        {
         "0": 0.2727683484554291,
         "_deepnote_index_column": 407
        },
        {
         "0": 0.18388734757900238,
         "_deepnote_index_column": 408
        },
        {
         "0": 0.15492399036884308,
         "_deepnote_index_column": 409
        },
        {
         "0": 0.26221928000450134,
         "_deepnote_index_column": 410
        },
        {
         "0": 0.21325398981571198,
         "_deepnote_index_column": 411
        },
        {
         "0": 0.14294977486133575,
         "_deepnote_index_column": 412
        },
        {
         "0": 0.17966805398464203,
         "_deepnote_index_column": 413
        },
        {
         "0": 0.3570854365825653,
         "_deepnote_index_column": 414
        },
        {
         "0": 0.5263258814811707,
         "_deepnote_index_column": 415
        },
        {
         "0": 0.3237535357475281,
         "_deepnote_index_column": 416
        },
        {
         "0": 0.3397841155529022,
         "_deepnote_index_column": 417
        },
        {
         "0": 0.37387338280677795,
         "_deepnote_index_column": 418
        },
        {
         "0": 0.22974880039691925,
         "_deepnote_index_column": 419
        },
        {
         "0": 0.26783058047294617,
         "_deepnote_index_column": 420
        },
        {
         "0": 0.33423712849617004,
         "_deepnote_index_column": 421
        },
        {
         "0": 0.12843604385852814,
         "_deepnote_index_column": 422
        },
        {
         "0": 0.25868144631385803,
         "_deepnote_index_column": 423
        },
        {
         "0": 0.22993627190589905,
         "_deepnote_index_column": 424
        },
        {
         "0": 0.21686916053295135,
         "_deepnote_index_column": 425
        },
        {
         "0": 0.19250524044036865,
         "_deepnote_index_column": 426
        },
        {
         "0": 0.2830684185028076,
         "_deepnote_index_column": 427
        },
        {
         "0": 0.18761909008026123,
         "_deepnote_index_column": 428
        },
        {
         "0": 0.13538140058517456,
         "_deepnote_index_column": 429
        },
        {
         "0": 0.29075366258621216,
         "_deepnote_index_column": 430
        },
        {
         "0": 0.2848949432373047,
         "_deepnote_index_column": 431
        },
        {
         "0": 0.3956347703933716,
         "_deepnote_index_column": 432
        },
        {
         "0": 0.12009041011333466,
         "_deepnote_index_column": 433
        },
        {
         "0": 0.09779400378465652,
         "_deepnote_index_column": 434
        },
        {
         "0": 0.30593737959861755,
         "_deepnote_index_column": 435
        },
        {
         "0": 0.13203167915344238,
         "_deepnote_index_column": 436
        },
        {
         "0": 0.14195819199085236,
         "_deepnote_index_column": 437
        },
        {
         "0": 0.34286704659461975,
         "_deepnote_index_column": 438
        },
        {
         "0": 0.28865694999694824,
         "_deepnote_index_column": 439
        },
        {
         "0": 0.23399773240089417,
         "_deepnote_index_column": 440
        },
        {
         "0": 0.23367515206336975,
         "_deepnote_index_column": 441
        },
        {
         "0": 0.3386121690273285,
         "_deepnote_index_column": 442
        },
        {
         "0": 0.21937602758407593,
         "_deepnote_index_column": 443
        },
        {
         "0": 0.33489179611206055,
         "_deepnote_index_column": 444
        },
        {
         "0": 0.31091412901878357,
         "_deepnote_index_column": 445
        },
        {
         "0": 0.24678020179271698,
         "_deepnote_index_column": 446
        },
        {
         "0": 0.13647696375846863,
         "_deepnote_index_column": 447
        },
        {
         "0": 0.15794478356838226,
         "_deepnote_index_column": 448
        },
        {
         "0": 0.3183354437351227,
         "_deepnote_index_column": 449
        },
        {
         "0": 0.2653321325778961,
         "_deepnote_index_column": 450
        },
        {
         "0": 0.27143046259880066,
         "_deepnote_index_column": 451
        },
        {
         "0": 0.46913111209869385,
         "_deepnote_index_column": 452
        },
        {
         "0": 0.3578985929489136,
         "_deepnote_index_column": 453
        },
        {
         "0": 0.23377156257629395,
         "_deepnote_index_column": 454
        },
        {
         "0": 0.2763403654098511,
         "_deepnote_index_column": 455
        },
        {
         "0": 0.1913994550704956,
         "_deepnote_index_column": 456
        },
        {
         "0": 0.15465453267097473,
         "_deepnote_index_column": 457
        },
        {
         "0": 0.27131909132003784,
         "_deepnote_index_column": 458
        },
        {
         "0": 0.2761249244213104,
         "_deepnote_index_column": 459
        },
        {
         "0": 0.20318832993507385,
         "_deepnote_index_column": 460
        },
        {
         "0": 0.16382190585136414,
         "_deepnote_index_column": 461
        },
        {
         "0": 0.2755647599697113,
         "_deepnote_index_column": 462
        },
        {
         "0": 0.35374268889427185,
         "_deepnote_index_column": 463
        },
        {
         "0": 0.29806262254714966,
         "_deepnote_index_column": 464
        },
        {
         "0": 0.2510316073894501,
         "_deepnote_index_column": 465
        },
        {
         "0": 0.3961710035800934,
         "_deepnote_index_column": 466
        },
        {
         "0": 0.23422196507453918,
         "_deepnote_index_column": 467
        },
        {
         "0": 0.502120316028595,
         "_deepnote_index_column": 468
        },
        {
         "0": 0.4145456552505493,
         "_deepnote_index_column": 469
        },
        {
         "0": 0.41590309143066406,
         "_deepnote_index_column": 470
        },
        {
         "0": 0.3342409133911133,
         "_deepnote_index_column": 471
        },
        {
         "0": 0.3083382844924927,
         "_deepnote_index_column": 472
        },
        {
         "0": 0.23870334029197693,
         "_deepnote_index_column": 473
        },
        {
         "0": 0.29472318291664124,
         "_deepnote_index_column": 474
        },
        {
         "0": 0.227457657456398,
         "_deepnote_index_column": 475
        },
        {
         "0": 0.2444179654121399,
         "_deepnote_index_column": 476
        },
        {
         "0": 0.4536364674568176,
         "_deepnote_index_column": 477
        },
        {
         "0": 0.2055794894695282,
         "_deepnote_index_column": 478
        },
        {
         "0": 0.21566084027290344,
         "_deepnote_index_column": 479
        },
        {
         "0": 0.20761698484420776,
         "_deepnote_index_column": 480
        },
        {
         "0": 0.361968457698822,
         "_deepnote_index_column": 481
        },
        {
         "0": 0.1905042827129364,
         "_deepnote_index_column": 482
        },
        {
         "0": 0.20201651751995087,
         "_deepnote_index_column": 483
        },
        {
         "0": 0.2717760503292084,
         "_deepnote_index_column": 484
        },
        {
         "0": 0.39210307598114014,
         "_deepnote_index_column": 485
        },
        {
         "0": 0.18532989919185638,
         "_deepnote_index_column": 486
        },
        {
         "0": 0.4107205867767334,
         "_deepnote_index_column": 487
        },
        {
         "0": 0.06968818604946136,
         "_deepnote_index_column": 488
        },
        {
         "0": 0.4032119810581207,
         "_deepnote_index_column": 489
        },
        {
         "0": 0.15535348653793335,
         "_deepnote_index_column": 490
        },
        {
         "0": 0.18078337609767914,
         "_deepnote_index_column": 491
        },
        {
         "0": 0.21071098744869232,
         "_deepnote_index_column": 492
        },
        {
         "0": 0.25667569041252136,
         "_deepnote_index_column": 493
        },
        {
         "0": 0.2177373468875885,
         "_deepnote_index_column": 494
        },
        {
         "0": 0.2804587483406067,
         "_deepnote_index_column": 495
        },
        {
         "0": 0.5530804395675659,
         "_deepnote_index_column": 496
        },
        {
         "0": 0.2976531386375427,
         "_deepnote_index_column": 497
        },
        {
         "0": 0.2547285556793213,
         "_deepnote_index_column": 498
        },
        {
         "0": 0.2042836844921112,
         "_deepnote_index_column": 499
        }
       ],
       "rows_bottom": [
        {
         "0": 0.5441103577613831,
         "_deepnote_index_column": 15634
        },
        {
         "0": 0.660522997379303,
         "_deepnote_index_column": 15635
        },
        {
         "0": 0.5609922409057617,
         "_deepnote_index_column": 15636
        },
        {
         "0": 0.6266591548919678,
         "_deepnote_index_column": 15637
        },
        {
         "0": 0.3683081567287445,
         "_deepnote_index_column": 15638
        },
        {
         "0": 0.6887624263763428,
         "_deepnote_index_column": 15639
        },
        {
         "0": 0.4463454782962799,
         "_deepnote_index_column": 15640
        },
        {
         "0": 0.46159589290618896,
         "_deepnote_index_column": 15641
        },
        {
         "0": 0.7008709907531738,
         "_deepnote_index_column": 15642
        },
        {
         "0": 0.5520531535148621,
         "_deepnote_index_column": 15643
        },
        {
         "0": 0.4078969359397888,
         "_deepnote_index_column": 15644
        },
        {
         "0": 0.33929309248924255,
         "_deepnote_index_column": 15645
        },
        {
         "0": 0.6887624263763428,
         "_deepnote_index_column": 15646
        },
        {
         "0": 0.4079873263835907,
         "_deepnote_index_column": 15647
        },
        {
         "0": 0.2768953740596771,
         "_deepnote_index_column": 15648
        },
        {
         "0": 0.6135693788528442,
         "_deepnote_index_column": 15649
        },
        {
         "0": 0.46028316020965576,
         "_deepnote_index_column": 15650
        },
        {
         "0": 0.6995099186897278,
         "_deepnote_index_column": 15651
        },
        {
         "0": 0.4387708604335785,
         "_deepnote_index_column": 15652
        },
        {
         "0": 0.4560946524143219,
         "_deepnote_index_column": 15653
        },
        {
         "0": 0.6316019296646118,
         "_deepnote_index_column": 15654
        },
        {
         "0": 0.5658981800079346,
         "_deepnote_index_column": 15655
        },
        {
         "0": 0.535599410533905,
         "_deepnote_index_column": 15656
        },
        {
         "0": 0.43256738781929016,
         "_deepnote_index_column": 15657
        },
        {
         "0": 0.4564875066280365,
         "_deepnote_index_column": 15658
        },
        {
         "0": 0.6947036981582642,
         "_deepnote_index_column": 15659
        },
        {
         "0": 0.6391493082046509,
         "_deepnote_index_column": 15660
        },
        {
         "0": 0.4497833549976349,
         "_deepnote_index_column": 15661
        },
        {
         "0": 0.2604144811630249,
         "_deepnote_index_column": 15662
        },
        {
         "0": 0.24414877593517303,
         "_deepnote_index_column": 15663
        },
        {
         "0": 0.3656086325645447,
         "_deepnote_index_column": 15664
        },
        {
         "0": 0.5738067030906677,
         "_deepnote_index_column": 15665
        },
        {
         "0": 0.42626750469207764,
         "_deepnote_index_column": 15666
        },
        {
         "0": 0.4950265884399414,
         "_deepnote_index_column": 15667
        },
        {
         "0": 0.4668620526790619,
         "_deepnote_index_column": 15668
        },
        {
         "0": 0.7036917805671692,
         "_deepnote_index_column": 15669
        },
        {
         "0": 0.5998678803443909,
         "_deepnote_index_column": 15670
        },
        {
         "0": 0.5174550414085388,
         "_deepnote_index_column": 15671
        },
        {
         "0": 0.5119451284408569,
         "_deepnote_index_column": 15672
        },
        {
         "0": 0.322374165058136,
         "_deepnote_index_column": 15673
        },
        {
         "0": 0.5391424894332886,
         "_deepnote_index_column": 15674
        },
        {
         "0": 0.4698430895805359,
         "_deepnote_index_column": 15675
        },
        {
         "0": 0.5689846873283386,
         "_deepnote_index_column": 15676
        },
        {
         "0": 0.39565974473953247,
         "_deepnote_index_column": 15677
        },
        {
         "0": 0.4333575963973999,
         "_deepnote_index_column": 15678
        },
        {
         "0": 0.5583422183990479,
         "_deepnote_index_column": 15679
        },
        {
         "0": 0.6263713836669922,
         "_deepnote_index_column": 15680
        },
        {
         "0": 0.6136698722839355,
         "_deepnote_index_column": 15681
        },
        {
         "0": 0.41070556640625,
         "_deepnote_index_column": 15682
        },
        {
         "0": 0.5792712569236755,
         "_deepnote_index_column": 15683
        },
        {
         "0": 0.35005369782447815,
         "_deepnote_index_column": 15684
        },
        {
         "0": 0.5179651975631714,
         "_deepnote_index_column": 15685
        },
        {
         "0": 0.3736639618873596,
         "_deepnote_index_column": 15686
        },
        {
         "0": 0.41325992345809937,
         "_deepnote_index_column": 15687
        },
        {
         "0": 0.5959861874580383,
         "_deepnote_index_column": 15688
        },
        {
         "0": 0.4747545123100281,
         "_deepnote_index_column": 15689
        },
        {
         "0": 0.6483768820762634,
         "_deepnote_index_column": 15690
        },
        {
         "0": 0.24465565383434296,
         "_deepnote_index_column": 15691
        },
        {
         "0": 0.4590449929237366,
         "_deepnote_index_column": 15692
        },
        {
         "0": 0.3607245683670044,
         "_deepnote_index_column": 15693
        },
        {
         "0": 0.40212303400039673,
         "_deepnote_index_column": 15694
        },
        {
         "0": 0.596703052520752,
         "_deepnote_index_column": 15695
        },
        {
         "0": 0.596703052520752,
         "_deepnote_index_column": 15696
        },
        {
         "0": 0.6135693788528442,
         "_deepnote_index_column": 15697
        },
        {
         "0": 0.34882280230522156,
         "_deepnote_index_column": 15698
        },
        {
         "0": 0.5197762846946716,
         "_deepnote_index_column": 15699
        },
        {
         "0": 0.3807315528392792,
         "_deepnote_index_column": 15700
        },
        {
         "0": 0.29015713930130005,
         "_deepnote_index_column": 15701
        },
        {
         "0": 0.5424273014068604,
         "_deepnote_index_column": 15702
        },
        {
         "0": 0.5641736388206482,
         "_deepnote_index_column": 15703
        },
        {
         "0": 0.38726261258125305,
         "_deepnote_index_column": 15704
        },
        {
         "0": 0.5058396458625793,
         "_deepnote_index_column": 15705
        },
        {
         "0": 0.5406349301338196,
         "_deepnote_index_column": 15706
        },
        {
         "0": 0.41642847657203674,
         "_deepnote_index_column": 15707
        },
        {
         "0": 0.5378293395042419,
         "_deepnote_index_column": 15708
        },
        {
         "0": 0.4921751618385315,
         "_deepnote_index_column": 15709
        },
        {
         "0": 0.5917943716049194,
         "_deepnote_index_column": 15710
        },
        {
         "0": 0.5890998840332031,
         "_deepnote_index_column": 15711
        },
        {
         "0": 0.34913063049316406,
         "_deepnote_index_column": 15712
        },
        {
         "0": 0.5084820985794067,
         "_deepnote_index_column": 15713
        },
        {
         "0": 0.5122968554496765,
         "_deepnote_index_column": 15714
        },
        {
         "0": 0.40780484676361084,
         "_deepnote_index_column": 15715
        },
        {
         "0": 0.6065754294395447,
         "_deepnote_index_column": 15716
        },
        {
         "0": 0.35607004165649414,
         "_deepnote_index_column": 15717
        },
        {
         "0": 0.41962411999702454,
         "_deepnote_index_column": 15718
        },
        {
         "0": 0.33690696954727173,
         "_deepnote_index_column": 15719
        },
        {
         "0": 0.41954654455184937,
         "_deepnote_index_column": 15720
        },
        {
         "0": 0.39960044622421265,
         "_deepnote_index_column": 15721
        },
        {
         "0": 0.3983743190765381,
         "_deepnote_index_column": 15722
        },
        {
         "0": 0.5738064050674438,
         "_deepnote_index_column": 15723
        },
        {
         "0": 0.2176552712917328,
         "_deepnote_index_column": 15724
        },
        {
         "0": 0.2382846176624298,
         "_deepnote_index_column": 15725
        },
        {
         "0": 0.37714454531669617,
         "_deepnote_index_column": 15726
        },
        {
         "0": 0.4430132210254669,
         "_deepnote_index_column": 15727
        },
        {
         "0": 0.6793307662010193,
         "_deepnote_index_column": 15728
        },
        {
         "0": 0.4522022008895874,
         "_deepnote_index_column": 15729
        },
        {
         "0": 0.6566537618637085,
         "_deepnote_index_column": 15730
        },
        {
         "0": 0.40047889947891235,
         "_deepnote_index_column": 15731
        },
        {
         "0": 0.6643306016921997,
         "_deepnote_index_column": 15732
        },
        {
         "0": 0.5099875926971436,
         "_deepnote_index_column": 15733
        },
        {
         "0": 0.5031094551086426,
         "_deepnote_index_column": 15734
        },
        {
         "0": 0.5033539533615112,
         "_deepnote_index_column": 15735
        },
        {
         "0": 0.4313851296901703,
         "_deepnote_index_column": 15736
        },
        {
         "0": 0.3954356014728546,
         "_deepnote_index_column": 15737
        },
        {
         "0": 0.39540717005729675,
         "_deepnote_index_column": 15738
        },
        {
         "0": 0.4463239312171936,
         "_deepnote_index_column": 15739
        },
        {
         "0": 0.49233612418174744,
         "_deepnote_index_column": 15740
        },
        {
         "0": 0.42731615900993347,
         "_deepnote_index_column": 15741
        },
        {
         "0": 0.5458986759185791,
         "_deepnote_index_column": 15742
        },
        {
         "0": 0.6947036981582642,
         "_deepnote_index_column": 15743
        },
        {
         "0": 0.42735880613327026,
         "_deepnote_index_column": 15744
        },
        {
         "0": 0.20801088213920593,
         "_deepnote_index_column": 15745
        },
        {
         "0": 0.423738032579422,
         "_deepnote_index_column": 15746
        },
        {
         "0": 0.4728127717971802,
         "_deepnote_index_column": 15747
        },
        {
         "0": 0.311240553855896,
         "_deepnote_index_column": 15748
        },
        {
         "0": 0.6602002382278442,
         "_deepnote_index_column": 15749
        },
        {
         "0": 0.5894753932952881,
         "_deepnote_index_column": 15750
        },
        {
         "0": 0.5584900379180908,
         "_deepnote_index_column": 15751
        },
        {
         "0": 0.47602418065071106,
         "_deepnote_index_column": 15752
        },
        {
         "0": 0.4875601828098297,
         "_deepnote_index_column": 15753
        },
        {
         "0": 0.29335975646972656,
         "_deepnote_index_column": 15754
        },
        {
         "0": 0.6793307662010193,
         "_deepnote_index_column": 15755
        },
        {
         "0": 0.35010892152786255,
         "_deepnote_index_column": 15756
        },
        {
         "0": 0.5109865665435791,
         "_deepnote_index_column": 15757
        },
        {
         "0": 0.6793307662010193,
         "_deepnote_index_column": 15758
        },
        {
         "0": 0.6679089069366455,
         "_deepnote_index_column": 15759
        },
        {
         "0": 0.5054229497909546,
         "_deepnote_index_column": 15760
        },
        {
         "0": 0.6526952385902405,
         "_deepnote_index_column": 15761
        },
        {
         "0": 0.5773980617523193,
         "_deepnote_index_column": 15762
        },
        {
         "0": 0.36499688029289246,
         "_deepnote_index_column": 15763
        },
        {
         "0": 0.5300227403640747,
         "_deepnote_index_column": 15764
        },
        {
         "0": 0.6803990602493286,
         "_deepnote_index_column": 15765
        },
        {
         "0": 0.5181531310081482,
         "_deepnote_index_column": 15766
        },
        {
         "0": 0.27515196800231934,
         "_deepnote_index_column": 15767
        },
        {
         "0": 0.4931982457637787,
         "_deepnote_index_column": 15768
        },
        {
         "0": 0.46548718214035034,
         "_deepnote_index_column": 15769
        },
        {
         "0": 0.4721514880657196,
         "_deepnote_index_column": 15770
        },
        {
         "0": 0.329321026802063,
         "_deepnote_index_column": 15771
        },
        {
         "0": 0.2727718651294708,
         "_deepnote_index_column": 15772
        },
        {
         "0": 0.6321040391921997,
         "_deepnote_index_column": 15773
        },
        {
         "0": 0.5019710659980774,
         "_deepnote_index_column": 15774
        },
        {
         "0": 0.4043656289577484,
         "_deepnote_index_column": 15775
        },
        {
         "0": 0.4501514434814453,
         "_deepnote_index_column": 15776
        },
        {
         "0": 0.3660290837287903,
         "_deepnote_index_column": 15777
        },
        {
         "0": 0.5978872776031494,
         "_deepnote_index_column": 15778
        },
        {
         "0": 0.363853394985199,
         "_deepnote_index_column": 15779
        },
        {
         "0": 0.5289517045021057,
         "_deepnote_index_column": 15780
        },
        {
         "0": 0.5740448832511902,
         "_deepnote_index_column": 15781
        },
        {
         "0": 0.627811849117279,
         "_deepnote_index_column": 15782
        },
        {
         "0": 0.4625394940376282,
         "_deepnote_index_column": 15783
        },
        {
         "0": 0.6803990602493286,
         "_deepnote_index_column": 15784
        },
        {
         "0": 0.3975997865200043,
         "_deepnote_index_column": 15785
        },
        {
         "0": 0.3567230999469757,
         "_deepnote_index_column": 15786
        },
        {
         "0": 0.5399758815765381,
         "_deepnote_index_column": 15787
        },
        {
         "0": 0.5858439803123474,
         "_deepnote_index_column": 15788
        },
        {
         "0": 0.6393508911132812,
         "_deepnote_index_column": 15789
        },
        {
         "0": 0.5280330777168274,
         "_deepnote_index_column": 15790
        },
        {
         "0": 0.5563450455665588,
         "_deepnote_index_column": 15791
        },
        {
         "0": 0.2931479811668396,
         "_deepnote_index_column": 15792
        },
        {
         "0": 0.5986942648887634,
         "_deepnote_index_column": 15793
        },
        {
         "0": 0.6716643571853638,
         "_deepnote_index_column": 15794
        },
        {
         "0": 0.2924276292324066,
         "_deepnote_index_column": 15795
        },
        {
         "0": 0.5324534773826599,
         "_deepnote_index_column": 15796
        },
        {
         "0": 0.3348994553089142,
         "_deepnote_index_column": 15797
        },
        {
         "0": 0.3557361662387848,
         "_deepnote_index_column": 15798
        },
        {
         "0": 0.5502985119819641,
         "_deepnote_index_column": 15799
        },
        {
         "0": 0.5640777945518494,
         "_deepnote_index_column": 15800
        },
        {
         "0": 0.6890445351600647,
         "_deepnote_index_column": 15801
        },
        {
         "0": 0.40269267559051514,
         "_deepnote_index_column": 15802
        },
        {
         "0": 0.4767831265926361,
         "_deepnote_index_column": 15803
        },
        {
         "0": 0.46963775157928467,
         "_deepnote_index_column": 15804
        },
        {
         "0": 0.5324534773826599,
         "_deepnote_index_column": 15805
        },
        {
         "0": 0.4973290264606476,
         "_deepnote_index_column": 15806
        },
        {
         "0": 0.4190901517868042,
         "_deepnote_index_column": 15807
        },
        {
         "0": 0.5344178676605225,
         "_deepnote_index_column": 15808
        },
        {
         "0": 0.5585049390792847,
         "_deepnote_index_column": 15809
        },
        {
         "0": 0.45972153544425964,
         "_deepnote_index_column": 15810
        },
        {
         "0": 0.6116007566452026,
         "_deepnote_index_column": 15811
        },
        {
         "0": 0.5145899057388306,
         "_deepnote_index_column": 15812
        },
        {
         "0": 0.27817535400390625,
         "_deepnote_index_column": 15813
        },
        {
         "0": 0.4773179292678833,
         "_deepnote_index_column": 15814
        },
        {
         "0": 0.6679089069366455,
         "_deepnote_index_column": 15815
        },
        {
         "0": 0.4957220256328583,
         "_deepnote_index_column": 15816
        },
        {
         "0": 0.34280845522880554,
         "_deepnote_index_column": 15817
        },
        {
         "0": 0.5971195101737976,
         "_deepnote_index_column": 15818
        },
        {
         "0": 0.3188161849975586,
         "_deepnote_index_column": 15819
        },
        {
         "0": 0.6549196243286133,
         "_deepnote_index_column": 15820
        },
        {
         "0": 0.2131507694721222,
         "_deepnote_index_column": 15821
        },
        {
         "0": 0.39872097969055176,
         "_deepnote_index_column": 15822
        },
        {
         "0": 0.49356648325920105,
         "_deepnote_index_column": 15823
        },
        {
         "0": 0.5726397633552551,
         "_deepnote_index_column": 15824
        },
        {
         "0": 0.6637340784072876,
         "_deepnote_index_column": 15825
        },
        {
         "0": 0.5984458923339844,
         "_deepnote_index_column": 15826
        },
        {
         "0": 0.5670602917671204,
         "_deepnote_index_column": 15827
        },
        {
         "0": 0.5568843483924866,
         "_deepnote_index_column": 15828
        },
        {
         "0": 0.4234172999858856,
         "_deepnote_index_column": 15829
        },
        {
         "0": 0.5575549006462097,
         "_deepnote_index_column": 15830
        },
        {
         "0": 0.6549196243286133,
         "_deepnote_index_column": 15831
        },
        {
         "0": 0.6164359450340271,
         "_deepnote_index_column": 15832
        },
        {
         "0": 0.5429577827453613,
         "_deepnote_index_column": 15833
        },
        {
         "0": 0.39069101214408875,
         "_deepnote_index_column": 15834
        },
        {
         "0": 0.6177815198898315,
         "_deepnote_index_column": 15835
        },
        {
         "0": 0.3116394877433777,
         "_deepnote_index_column": 15836
        },
        {
         "0": 0.5656985640525818,
         "_deepnote_index_column": 15837
        },
        {
         "0": 0.4523347020149231,
         "_deepnote_index_column": 15838
        },
        {
         "0": 0.42800000309944153,
         "_deepnote_index_column": 15839
        },
        {
         "0": 0.4342025816440582,
         "_deepnote_index_column": 15840
        },
        {
         "0": 0.626966655254364,
         "_deepnote_index_column": 15841
        },
        {
         "0": 0.6689441800117493,
         "_deepnote_index_column": 15842
        },
        {
         "0": 0.5718473196029663,
         "_deepnote_index_column": 15843
        },
        {
         "0": 0.2261243313550949,
         "_deepnote_index_column": 15844
        },
        {
         "0": 0.328252375125885,
         "_deepnote_index_column": 15845
        },
        {
         "0": 0.43118077516555786,
         "_deepnote_index_column": 15846
        },
        {
         "0": 0.5723852515220642,
         "_deepnote_index_column": 15847
        },
        {
         "0": 0.3013635277748108,
         "_deepnote_index_column": 15848
        },
        {
         "0": 0.5585089921951294,
         "_deepnote_index_column": 15849
        },
        {
         "0": 0.6135693788528442,
         "_deepnote_index_column": 15850
        },
        {
         "0": 0.39884400367736816,
         "_deepnote_index_column": 15851
        },
        {
         "0": 0.5494667887687683,
         "_deepnote_index_column": 15852
        },
        {
         "0": 0.6301378011703491,
         "_deepnote_index_column": 15853
        },
        {
         "0": 0.3841814398765564,
         "_deepnote_index_column": 15854
        },
        {
         "0": 0.5289302468299866,
         "_deepnote_index_column": 15855
        },
        {
         "0": 0.2919570505619049,
         "_deepnote_index_column": 15856
        },
        {
         "0": 0.5273481607437134,
         "_deepnote_index_column": 15857
        },
        {
         "0": 0.3899467885494232,
         "_deepnote_index_column": 15858
        },
        {
         "0": 0.4600544273853302,
         "_deepnote_index_column": 15859
        },
        {
         "0": 0.4306854009628296,
         "_deepnote_index_column": 15860
        },
        {
         "0": 0.5755366086959839,
         "_deepnote_index_column": 15861
        },
        {
         "0": 0.3674744963645935,
         "_deepnote_index_column": 15862
        },
        {
         "0": 0.4753039479255676,
         "_deepnote_index_column": 15863
        },
        {
         "0": 0.3413245975971222,
         "_deepnote_index_column": 15864
        },
        {
         "0": 0.42562416195869446,
         "_deepnote_index_column": 15865
        },
        {
         "0": 0.4813147187232971,
         "_deepnote_index_column": 15866
        },
        {
         "0": 0.570732593536377,
         "_deepnote_index_column": 15867
        },
        {
         "0": 0.461060106754303,
         "_deepnote_index_column": 15868
        },
        {
         "0": 0.4624640941619873,
         "_deepnote_index_column": 15869
        },
        {
         "0": 0.6793307662010193,
         "_deepnote_index_column": 15870
        },
        {
         "0": 0.5870199203491211,
         "_deepnote_index_column": 15871
        },
        {
         "0": 0.507746696472168,
         "_deepnote_index_column": 15872
        },
        {
         "0": 0.5783587694168091,
         "_deepnote_index_column": 15873
        },
        {
         "0": 0.4666643440723419,
         "_deepnote_index_column": 15874
        },
        {
         "0": 0.4753039479255676,
         "_deepnote_index_column": 15875
        },
        {
         "0": 0.5694270730018616,
         "_deepnote_index_column": 15876
        },
        {
         "0": 0.39964723587036133,
         "_deepnote_index_column": 15877
        },
        {
         "0": 0.5497784614562988,
         "_deepnote_index_column": 15878
        },
        {
         "0": 0.4424005448818207,
         "_deepnote_index_column": 15879
        },
        {
         "0": 0.6538631319999695,
         "_deepnote_index_column": 15880
        },
        {
         "0": 0.5215415358543396,
         "_deepnote_index_column": 15881
        },
        {
         "0": 0.5642444491386414,
         "_deepnote_index_column": 15882
        },
        {
         "0": 0.43130365014076233,
         "_deepnote_index_column": 15883
        },
        {
         "0": 0.6873103976249695,
         "_deepnote_index_column": 15884
        },
        {
         "0": 0.40194305777549744,
         "_deepnote_index_column": 15885
        },
        {
         "0": 0.5601110458374023,
         "_deepnote_index_column": 15886
        },
        {
         "0": 0.6457892060279846,
         "_deepnote_index_column": 15887
        },
        {
         "0": 0.5059141516685486,
         "_deepnote_index_column": 15888
        },
        {
         "0": 0.49513381719589233,
         "_deepnote_index_column": 15889
        },
        {
         "0": 0.5858439803123474,
         "_deepnote_index_column": 15890
        },
        {
         "0": 0.506941020488739,
         "_deepnote_index_column": 15891
        },
        {
         "0": 0.4042505919933319,
         "_deepnote_index_column": 15892
        },
        {
         "0": 0.4661758840084076,
         "_deepnote_index_column": 15893
        },
        {
         "0": 0.3831899166107178,
         "_deepnote_index_column": 15894
        },
        {
         "0": 0.5500100255012512,
         "_deepnote_index_column": 15895
        },
        {
         "0": 0.3991231620311737,
         "_deepnote_index_column": 15896
        },
        {
         "0": 0.4569593071937561,
         "_deepnote_index_column": 15897
        },
        {
         "0": 0.4267711043357849,
         "_deepnote_index_column": 15898
        },
        {
         "0": 0.6695345044136047,
         "_deepnote_index_column": 15899
        },
        {
         "0": 0.23778003454208374,
         "_deepnote_index_column": 15900
        },
        {
         "0": 0.4522179663181305,
         "_deepnote_index_column": 15901
        },
        {
         "0": 0.42138031125068665,
         "_deepnote_index_column": 15902
        },
        {
         "0": 0.5623922348022461,
         "_deepnote_index_column": 15903
        },
        {
         "0": 0.48107337951660156,
         "_deepnote_index_column": 15904
        },
        {
         "0": 0.3513302206993103,
         "_deepnote_index_column": 15905
        },
        {
         "0": 0.5823500752449036,
         "_deepnote_index_column": 15906
        },
        {
         "0": 0.3437643349170685,
         "_deepnote_index_column": 15907
        },
        {
         "0": 0.6873103976249695,
         "_deepnote_index_column": 15908
        },
        {
         "0": 0.34159159660339355,
         "_deepnote_index_column": 15909
        },
        {
         "0": 0.5391788482666016,
         "_deepnote_index_column": 15910
        },
        {
         "0": 0.4575645923614502,
         "_deepnote_index_column": 15911
        },
        {
         "0": 0.3378877639770508,
         "_deepnote_index_column": 15912
        },
        {
         "0": 0.41939637064933777,
         "_deepnote_index_column": 15913
        },
        {
         "0": 0.48909637331962585,
         "_deepnote_index_column": 15914
        },
        {
         "0": 0.5472143292427063,
         "_deepnote_index_column": 15915
        },
        {
         "0": 0.539039134979248,
         "_deepnote_index_column": 15916
        },
        {
         "0": 0.44866281747817993,
         "_deepnote_index_column": 15917
        },
        {
         "0": 0.4541388154029846,
         "_deepnote_index_column": 15918
        },
        {
         "0": 0.46910756826400757,
         "_deepnote_index_column": 15919
        },
        {
         "0": 0.4827076494693756,
         "_deepnote_index_column": 15920
        },
        {
         "0": 0.537225604057312,
         "_deepnote_index_column": 15921
        },
        {
         "0": 0.4688985049724579,
         "_deepnote_index_column": 15922
        },
        {
         "0": 0.5970305800437927,
         "_deepnote_index_column": 15923
        },
        {
         "0": 0.6135693788528442,
         "_deepnote_index_column": 15924
        },
        {
         "0": 0.49420344829559326,
         "_deepnote_index_column": 15925
        },
        {
         "0": 0.6136698722839355,
         "_deepnote_index_column": 15926
        },
        {
         "0": 0.41903775930404663,
         "_deepnote_index_column": 15927
        },
        {
         "0": 0.6135693788528442,
         "_deepnote_index_column": 15928
        },
        {
         "0": 0.5138949751853943,
         "_deepnote_index_column": 15929
        },
        {
         "0": 0.5805179476737976,
         "_deepnote_index_column": 15930
        },
        {
         "0": 0.4035626947879791,
         "_deepnote_index_column": 15931
        },
        {
         "0": 0.28418880701065063,
         "_deepnote_index_column": 15932
        },
        {
         "0": 0.39765051007270813,
         "_deepnote_index_column": 15933
        },
        {
         "0": 0.57886803150177,
         "_deepnote_index_column": 15934
        },
        {
         "0": 0.5249427556991577,
         "_deepnote_index_column": 15935
        },
        {
         "0": 0.5898334383964539,
         "_deepnote_index_column": 15936
        },
        {
         "0": 0.6466635465621948,
         "_deepnote_index_column": 15937
        },
        {
         "0": 0.5622550845146179,
         "_deepnote_index_column": 15938
        },
        {
         "0": 0.39245423674583435,
         "_deepnote_index_column": 15939
        },
        {
         "0": 0.5822783708572388,
         "_deepnote_index_column": 15940
        },
        {
         "0": 0.5563818216323853,
         "_deepnote_index_column": 15941
        },
        {
         "0": 0.5723852515220642,
         "_deepnote_index_column": 15942
        },
        {
         "0": 0.6249250173568726,
         "_deepnote_index_column": 15943
        },
        {
         "0": 0.31254270672798157,
         "_deepnote_index_column": 15944
        },
        {
         "0": 0.6793307662010193,
         "_deepnote_index_column": 15945
        },
        {
         "0": 0.5666221976280212,
         "_deepnote_index_column": 15946
        },
        {
         "0": 0.4118737578392029,
         "_deepnote_index_column": 15947
        },
        {
         "0": 0.5177773833274841,
         "_deepnote_index_column": 15948
        },
        {
         "0": 0.33900877833366394,
         "_deepnote_index_column": 15949
        },
        {
         "0": 0.47595667839050293,
         "_deepnote_index_column": 15950
        },
        {
         "0": 0.6135693788528442,
         "_deepnote_index_column": 15951
        },
        {
         "0": 0.2589849531650543,
         "_deepnote_index_column": 15952
        },
        {
         "0": 0.5894628763198853,
         "_deepnote_index_column": 15953
        },
        {
         "0": 0.6495961546897888,
         "_deepnote_index_column": 15954
        },
        {
         "0": 0.6090019941329956,
         "_deepnote_index_column": 15955
        },
        {
         "0": 0.3149917423725128,
         "_deepnote_index_column": 15956
        },
        {
         "0": 0.4904756247997284,
         "_deepnote_index_column": 15957
        },
        {
         "0": 0.47294387221336365,
         "_deepnote_index_column": 15958
        },
        {
         "0": 0.43146899342536926,
         "_deepnote_index_column": 15959
        },
        {
         "0": 0.5547802448272705,
         "_deepnote_index_column": 15960
        },
        {
         "0": 0.5666221976280212,
         "_deepnote_index_column": 15961
        },
        {
         "0": 0.4846166968345642,
         "_deepnote_index_column": 15962
        },
        {
         "0": 0.37403422594070435,
         "_deepnote_index_column": 15963
        },
        {
         "0": 0.5528706312179565,
         "_deepnote_index_column": 15964
        },
        {
         "0": 0.6757895350456238,
         "_deepnote_index_column": 15965
        },
        {
         "0": 0.49393409490585327,
         "_deepnote_index_column": 15966
        },
        {
         "0": 0.6799470782279968,
         "_deepnote_index_column": 15967
        },
        {
         "0": 0.5924718379974365,
         "_deepnote_index_column": 15968
        },
        {
         "0": 0.5410935282707214,
         "_deepnote_index_column": 15969
        },
        {
         "0": 0.45763570070266724,
         "_deepnote_index_column": 15970
        },
        {
         "0": 0.41587454080581665,
         "_deepnote_index_column": 15971
        },
        {
         "0": 0.6661747694015503,
         "_deepnote_index_column": 15972
        },
        {
         "0": 0.47191572189331055,
         "_deepnote_index_column": 15973
        },
        {
         "0": 0.3318209648132324,
         "_deepnote_index_column": 15974
        },
        {
         "0": 0.48758506774902344,
         "_deepnote_index_column": 15975
        },
        {
         "0": 0.6250728964805603,
         "_deepnote_index_column": 15976
        },
        {
         "0": 0.4857248067855835,
         "_deepnote_index_column": 15977
        },
        {
         "0": 0.5585371851921082,
         "_deepnote_index_column": 15978
        },
        {
         "0": 0.5244561433792114,
         "_deepnote_index_column": 15979
        },
        {
         "0": 0.47812822461128235,
         "_deepnote_index_column": 15980
        },
        {
         "0": 0.25787094235420227,
         "_deepnote_index_column": 15981
        },
        {
         "0": 0.20861870050430298,
         "_deepnote_index_column": 15982
        },
        {
         "0": 0.5678052306175232,
         "_deepnote_index_column": 15983
        },
        {
         "0": 0.4070225656032562,
         "_deepnote_index_column": 15984
        },
        {
         "0": 0.5305469036102295,
         "_deepnote_index_column": 15985
        },
        {
         "0": 0.6549196243286133,
         "_deepnote_index_column": 15986
        },
        {
         "0": 0.4131615459918976,
         "_deepnote_index_column": 15987
        },
        {
         "0": 0.4403681755065918,
         "_deepnote_index_column": 15988
        },
        {
         "0": 0.49732500314712524,
         "_deepnote_index_column": 15989
        },
        {
         "0": 0.5532868504524231,
         "_deepnote_index_column": 15990
        },
        {
         "0": 0.4612899422645569,
         "_deepnote_index_column": 15991
        },
        {
         "0": 0.6181840896606445,
         "_deepnote_index_column": 15992
        },
        {
         "0": 0.46505868434906006,
         "_deepnote_index_column": 15993
        },
        {
         "0": 0.5827738046646118,
         "_deepnote_index_column": 15994
        },
        {
         "0": 0.5718473196029663,
         "_deepnote_index_column": 15995
        },
        {
         "0": 0.5659286379814148,
         "_deepnote_index_column": 15996
        },
        {
         "0": 0.5715897083282471,
         "_deepnote_index_column": 15997
        },
        {
         "0": 0.2834993898868561,
         "_deepnote_index_column": 15998
        },
        {
         "0": 0.5322613716125488,
         "_deepnote_index_column": 15999
        },
        {
         "0": 0.39405885338783264,
         "_deepnote_index_column": 16000
        },
        {
         "0": 0.26042822003364563,
         "_deepnote_index_column": 16001
        },
        {
         "0": 0.5197725892066956,
         "_deepnote_index_column": 16002
        },
        {
         "0": 0.44489169120788574,
         "_deepnote_index_column": 16003
        },
        {
         "0": 0.21078899502754211,
         "_deepnote_index_column": 16004
        },
        {
         "0": 0.5077147483825684,
         "_deepnote_index_column": 16005
        },
        {
         "0": 0.5120036602020264,
         "_deepnote_index_column": 16006
        },
        {
         "0": 0.5307520627975464,
         "_deepnote_index_column": 16007
        },
        {
         "0": 0.6690686345100403,
         "_deepnote_index_column": 16008
        },
        {
         "0": 0.5301290154457092,
         "_deepnote_index_column": 16009
        },
        {
         "0": 0.5563818216323853,
         "_deepnote_index_column": 16010
        },
        {
         "0": 0.49460893869400024,
         "_deepnote_index_column": 16011
        },
        {
         "0": 0.345254510641098,
         "_deepnote_index_column": 16012
        },
        {
         "0": 0.45373794436454773,
         "_deepnote_index_column": 16013
        },
        {
         "0": 0.4750458002090454,
         "_deepnote_index_column": 16014
        },
        {
         "0": 0.5666764378547668,
         "_deepnote_index_column": 16015
        },
        {
         "0": 0.30693167448043823,
         "_deepnote_index_column": 16016
        },
        {
         "0": 0.5828383564949036,
         "_deepnote_index_column": 16017
        },
        {
         "0": 0.38100674748420715,
         "_deepnote_index_column": 16018
        },
        {
         "0": 0.3301863968372345,
         "_deepnote_index_column": 16019
        },
        {
         "0": 0.5525569915771484,
         "_deepnote_index_column": 16020
        },
        {
         "0": 0.6135693788528442,
         "_deepnote_index_column": 16021
        },
        {
         "0": 0.5850816369056702,
         "_deepnote_index_column": 16022
        },
        {
         "0": 0.5753897428512573,
         "_deepnote_index_column": 16023
        },
        {
         "0": 0.3965429961681366,
         "_deepnote_index_column": 16024
        },
        {
         "0": 0.4389416575431824,
         "_deepnote_index_column": 16025
        },
        {
         "0": 0.5438736081123352,
         "_deepnote_index_column": 16026
        },
        {
         "0": 0.4283396899700165,
         "_deepnote_index_column": 16027
        },
        {
         "0": 0.6131590008735657,
         "_deepnote_index_column": 16028
        },
        {
         "0": 0.5902726650238037,
         "_deepnote_index_column": 16029
        },
        {
         "0": 0.42276620864868164,
         "_deepnote_index_column": 16030
        },
        {
         "0": 0.54542475938797,
         "_deepnote_index_column": 16031
        },
        {
         "0": 0.2913571000099182,
         "_deepnote_index_column": 16032
        },
        {
         "0": 0.3355841636657715,
         "_deepnote_index_column": 16033
        },
        {
         "0": 0.36455675959587097,
         "_deepnote_index_column": 16034
        },
        {
         "0": 0.577660858631134,
         "_deepnote_index_column": 16035
        },
        {
         "0": 0.5523843169212341,
         "_deepnote_index_column": 16036
        },
        {
         "0": 0.37909919023513794,
         "_deepnote_index_column": 16037
        },
        {
         "0": 0.48858726024627686,
         "_deepnote_index_column": 16038
        },
        {
         "0": 0.5671954154968262,
         "_deepnote_index_column": 16039
        },
        {
         "0": 0.6727712750434875,
         "_deepnote_index_column": 16040
        },
        {
         "0": 0.6753204464912415,
         "_deepnote_index_column": 16041
        },
        {
         "0": 0.49189433455467224,
         "_deepnote_index_column": 16042
        },
        {
         "0": 0.47786909341812134,
         "_deepnote_index_column": 16043
        },
        {
         "0": 0.43553850054740906,
         "_deepnote_index_column": 16044
        },
        {
         "0": 0.6757895350456238,
         "_deepnote_index_column": 16045
        },
        {
         "0": 0.5810552835464478,
         "_deepnote_index_column": 16046
        },
        {
         "0": 0.4677578806877136,
         "_deepnote_index_column": 16047
        },
        {
         "0": 0.5677748322486877,
         "_deepnote_index_column": 16048
        },
        {
         "0": 0.47152164578437805,
         "_deepnote_index_column": 16049
        },
        {
         "0": 0.4588754177093506,
         "_deepnote_index_column": 16050
        },
        {
         "0": 0.6154040098190308,
         "_deepnote_index_column": 16051
        },
        {
         "0": 0.5432390570640564,
         "_deepnote_index_column": 16052
        },
        {
         "0": 0.34443891048431396,
         "_deepnote_index_column": 16053
        },
        {
         "0": 0.5464580655097961,
         "_deepnote_index_column": 16054
        },
        {
         "0": 0.6372359395027161,
         "_deepnote_index_column": 16055
        },
        {
         "0": 0.3858364522457123,
         "_deepnote_index_column": 16056
        },
        {
         "0": 0.6503522396087646,
         "_deepnote_index_column": 16057
        },
        {
         "0": 0.40618231892585754,
         "_deepnote_index_column": 16058
        },
        {
         "0": 0.6757895350456238,
         "_deepnote_index_column": 16059
        },
        {
         "0": 0.3469371795654297,
         "_deepnote_index_column": 16060
        },
        {
         "0": 0.6757895350456238,
         "_deepnote_index_column": 16061
        },
        {
         "0": 0.5798364877700806,
         "_deepnote_index_column": 16062
        },
        {
         "0": 0.5915842056274414,
         "_deepnote_index_column": 16063
        },
        {
         "0": 0.5650246143341064,
         "_deepnote_index_column": 16064
        },
        {
         "0": 0.6853945851325989,
         "_deepnote_index_column": 16065
        },
        {
         "0": 0.5769939422607422,
         "_deepnote_index_column": 16066
        },
        {
         "0": 0.34800487756729126,
         "_deepnote_index_column": 16067
        },
        {
         "0": 0.5190186500549316,
         "_deepnote_index_column": 16068
        },
        {
         "0": 0.5872912406921387,
         "_deepnote_index_column": 16069
        },
        {
         "0": 0.5306360125541687,
         "_deepnote_index_column": 16070
        },
        {
         "0": 0.20580679178237915,
         "_deepnote_index_column": 16071
        },
        {
         "0": 0.3893541097640991,
         "_deepnote_index_column": 16072
        },
        {
         "0": 0.5739330649375916,
         "_deepnote_index_column": 16073
        },
        {
         "0": 0.4357791543006897,
         "_deepnote_index_column": 16074
        },
        {
         "0": 0.5204826593399048,
         "_deepnote_index_column": 16075
        },
        {
         "0": 0.5796025991439819,
         "_deepnote_index_column": 16076
        },
        {
         "0": 0.5271558165550232,
         "_deepnote_index_column": 16077
        },
        {
         "0": 0.4296973943710327,
         "_deepnote_index_column": 16078
        },
        {
         "0": 0.4421152174472809,
         "_deepnote_index_column": 16079
        },
        {
         "0": 0.4732055068016052,
         "_deepnote_index_column": 16080
        },
        {
         "0": 0.6154040098190308,
         "_deepnote_index_column": 16081
        },
        {
         "0": 0.5408687591552734,
         "_deepnote_index_column": 16082
        },
        {
         "0": 0.4048400819301605,
         "_deepnote_index_column": 16083
        },
        {
         "0": 0.46776553988456726,
         "_deepnote_index_column": 16084
        },
        {
         "0": 0.519085705280304,
         "_deepnote_index_column": 16085
        },
        {
         "0": 0.46371835470199585,
         "_deepnote_index_column": 16086
        },
        {
         "0": 0.5424163341522217,
         "_deepnote_index_column": 16087
        },
        {
         "0": 0.6753716468811035,
         "_deepnote_index_column": 16088
        },
        {
         "0": 0.22298653423786163,
         "_deepnote_index_column": 16089
        },
        {
         "0": 0.5511216521263123,
         "_deepnote_index_column": 16090
        },
        {
         "0": 0.383211612701416,
         "_deepnote_index_column": 16091
        },
        {
         "0": 0.48738589882850647,
         "_deepnote_index_column": 16092
        },
        {
         "0": 0.5806549191474915,
         "_deepnote_index_column": 16093
        },
        {
         "0": 0.32202866673469543,
         "_deepnote_index_column": 16094
        },
        {
         "0": 0.6793307662010193,
         "_deepnote_index_column": 16095
        },
        {
         "0": 0.39517608284950256,
         "_deepnote_index_column": 16096
        },
        {
         "0": 0.6853945851325989,
         "_deepnote_index_column": 16097
        },
        {
         "0": 0.233213409781456,
         "_deepnote_index_column": 16098
        },
        {
         "0": 0.5431510806083679,
         "_deepnote_index_column": 16099
        },
        {
         "0": 0.62956702709198,
         "_deepnote_index_column": 16100
        },
        {
         "0": 0.6850937008857727,
         "_deepnote_index_column": 16101
        },
        {
         "0": 0.45800936222076416,
         "_deepnote_index_column": 16102
        },
        {
         "0": 0.6503522396087646,
         "_deepnote_index_column": 16103
        },
        {
         "0": 0.5322613716125488,
         "_deepnote_index_column": 16104
        },
        {
         "0": 0.3372499346733093,
         "_deepnote_index_column": 16105
        },
        {
         "0": 0.5858439803123474,
         "_deepnote_index_column": 16106
        },
        {
         "0": 0.17907322943210602,
         "_deepnote_index_column": 16107
        },
        {
         "0": 0.6850937008857727,
         "_deepnote_index_column": 16108
        },
        {
         "0": 0.5458986759185791,
         "_deepnote_index_column": 16109
        },
        {
         "0": 0.46010783314704895,
         "_deepnote_index_column": 16110
        },
        {
         "0": 0.5267404913902283,
         "_deepnote_index_column": 16111
        },
        {
         "0": 0.39707309007644653,
         "_deepnote_index_column": 16112
        },
        {
         "0": 0.48298153281211853,
         "_deepnote_index_column": 16113
        },
        {
         "0": 0.5644176602363586,
         "_deepnote_index_column": 16114
        },
        {
         "0": 0.5863499641418457,
         "_deepnote_index_column": 16115
        },
        {
         "0": 0.22858977317810059,
         "_deepnote_index_column": 16116
        },
        {
         "0": 0.6393508911132812,
         "_deepnote_index_column": 16117
        },
        {
         "0": 0.585163950920105,
         "_deepnote_index_column": 16118
        },
        {
         "0": 0.3399249017238617,
         "_deepnote_index_column": 16119
        },
        {
         "0": 0.6549196243286133,
         "_deepnote_index_column": 16120
        },
        {
         "0": 0.6842744946479797,
         "_deepnote_index_column": 16121
        },
        {
         "0": 0.6793307662010193,
         "_deepnote_index_column": 16122
        },
        {
         "0": 0.5709215402603149,
         "_deepnote_index_column": 16123
        },
        {
         "0": 0.48239797353744507,
         "_deepnote_index_column": 16124
        },
        {
         "0": 0.42243990302085876,
         "_deepnote_index_column": 16125
        },
        {
         "0": 0.7147487998008728,
         "_deepnote_index_column": 16126
        },
        {
         "0": 0.5851185321807861,
         "_deepnote_index_column": 16127
        },
        {
         "0": 0.5318119525909424,
         "_deepnote_index_column": 16128
        },
        {
         "0": 0.27304261922836304,
         "_deepnote_index_column": 16129
        },
        {
         "0": 0.5666516423225403,
         "_deepnote_index_column": 16130
        },
        {
         "0": 0.4743114709854126,
         "_deepnote_index_column": 16131
        },
        {
         "0": 0.561576247215271,
         "_deepnote_index_column": 16132
        },
        {
         "0": 0.5504154562950134,
         "_deepnote_index_column": 16133
        }
       ]
      },
      "text/plain": "              0\n0      0.361899\n1      0.234947\n2      0.325208\n3      0.163438\n4      0.387328\n...         ...\n16129  0.273043\n16130  0.566652\n16131  0.474311\n16132  0.561576\n16133  0.550415\n\n[16134 rows x 1 columns]",
      "text/html": "<div>\n<style scoped>\n    .dataframe tbody tr th:only-of-type {\n        vertical-align: middle;\n    }\n\n    .dataframe tbody tr th {\n        vertical-align: top;\n    }\n\n    .dataframe thead th {\n        text-align: right;\n    }\n</style>\n<table border=\"1\" class=\"dataframe\">\n  <thead>\n    <tr style=\"text-align: right;\">\n      <th></th>\n      <th>0</th>\n    </tr>\n  </thead>\n  <tbody>\n    <tr>\n      <th>0</th>\n      <td>0.361899</td>\n    </tr>\n    <tr>\n      <th>1</th>\n      <td>0.234947</td>\n    </tr>\n    <tr>\n      <th>2</th>\n      <td>0.325208</td>\n    </tr>\n    <tr>\n      <th>3</th>\n      <td>0.163438</td>\n    </tr>\n    <tr>\n      <th>4</th>\n      <td>0.387328</td>\n    </tr>\n    <tr>\n      <th>...</th>\n      <td>...</td>\n    </tr>\n    <tr>\n      <th>16129</th>\n      <td>0.273043</td>\n    </tr>\n    <tr>\n      <th>16130</th>\n      <td>0.566652</td>\n    </tr>\n    <tr>\n      <th>16131</th>\n      <td>0.474311</td>\n    </tr>\n    <tr>\n      <th>16132</th>\n      <td>0.561576</td>\n    </tr>\n    <tr>\n      <th>16133</th>\n      <td>0.550415</td>\n    </tr>\n  </tbody>\n</table>\n<p>16134 rows × 1 columns</p>\n</div>"
     },
     "metadata": {}
    }
   ]
  },
  {
   "cell_type": "code",
   "metadata": {
    "tags": [],
    "cell_id": "00011-e378daaa-8503-442e-8823-a652eb63a113",
    "deepnote_to_be_reexecuted": false,
    "source_hash": "7755e78a",
    "execution_start": 1632502162716,
    "execution_millis": 14223,
    "deepnote_cell_type": "code"
   },
   "source": "X_final = Train[\n    [\n        \"heat_adsorption_CO2_P0.15bar_T298K [kcal/mol]\",\n        \"CO2/N2_selectivity\",\n        \"_cell_volume\",\n        \"_cell_length_a\",\n        \"_cell_length_b\",\n        \"_cell_length_c\",\n        \"density\"\n    ]\n]\ny_final = Train[['void_fraction']]\n\nxgboost = XGBRegressor()\nxgboost.fit(X_final.values, y_final.values)",
   "execution_count": null,
   "outputs": [
    {
     "output_type": "execute_result",
     "execution_count": 12,
     "data": {
      "text/plain": "XGBRegressor(base_score=0.5, booster='gbtree', colsample_bylevel=1,\n             colsample_bynode=1, colsample_bytree=1, gamma=0, gpu_id=-1,\n             importance_type='gain', interaction_constraints='',\n             learning_rate=0.300000012, max_delta_step=0, max_depth=6,\n             min_child_weight=1, missing=nan, monotone_constraints='()',\n             n_estimators=100, n_jobs=4, num_parallel_tree=1, random_state=0,\n             reg_alpha=0, reg_lambda=1, scale_pos_weight=1, subsample=1,\n             tree_method='exact', validate_parameters=1, verbosity=None)"
     },
     "metadata": {}
    }
   ]
  },
  {
   "cell_type": "code",
   "metadata": {
    "tags": [],
    "cell_id": "00012-feb5fb06-9176-45d3-848d-106a8bdc0705",
    "deepnote_to_be_reexecuted": false,
    "source_hash": "ffa2902a",
    "execution_start": 1632502176927,
    "execution_millis": 92,
    "deepnote_cell_type": "code"
   },
   "source": "mean_absolute_error(xgboost.predict(X_final), y_final)",
   "execution_count": null,
   "outputs": [
    {
     "output_type": "execute_result",
     "execution_count": 13,
     "data": {
      "text/plain": "0.02096953274114096"
     },
     "metadata": {}
    }
   ]
  },
  {
   "cell_type": "code",
   "metadata": {
    "tags": [],
    "cell_id": "00013-c4d3774e-d04d-44cd-8d5b-41cdd7c8aabb",
    "deepnote_to_be_reexecuted": false,
    "source_hash": "d872292f",
    "execution_start": 1632502177008,
    "execution_millis": 431,
    "deepnote_cell_type": "code"
   },
   "source": "xgboost.save_model(\"imputer/xgboost/void_fraction.json\")",
   "execution_count": null,
   "outputs": []
  },
  {
   "cell_type": "code",
   "metadata": {
    "tags": [],
    "cell_id": "00006-5d1648f6-580a-459d-b875-e67fd60fc006",
    "deepnote_to_be_reexecuted": false,
    "source_hash": "aee60f6",
    "execution_start": 1632502177440,
    "execution_millis": 0,
    "deepnote_cell_type": "code"
   },
   "source": "model.save(\"imputer/keras/void_fractio.h5\")",
   "execution_count": null,
   "outputs": []
  },
  {
   "cell_type": "markdown",
   "source": "<a style='text-decoration:none;line-height:16px;display:flex;color:#5B5B62;padding:10px;justify-content:end;' href='https://deepnote.com?utm_source=created-in-deepnote-cell&projectId=cf8541de-dbc3-45f6-bc1e-4fa446cacbcd' target=\"_blank\">\n<img alt='Created in deepnote.com' style='display:inline;max-height:16px;margin:0px;margin-right:7.5px;' src='data:image/svg+xml;base64,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' > </img>\nCreated in <span style='font-weight:600;margin-left:4px;'>Deepnote</span></a>",
   "metadata": {
    "tags": [],
    "created_in_deepnote_cell": true,
    "deepnote_cell_type": "markdown"
   }
  }
 ],
 "nbformat": 4,
 "nbformat_minor": 2,
 "metadata": {
  "orig_nbformat": 2,
  "deepnote": {
   "is_reactive": false
  },
  "deepnote_notebook_id": "5228be3b-e217-4e69-932e-ba23961adfa7",
  "deepnote_execution_queue": []
 }
}