{
 "cells": [
  {
   "cell_type": "markdown",
   "source": "# Import modules",
   "metadata": {
    "tags": [],
    "is_collapsed": false,
    "cell_id": "00000-39dc7a74-b68e-4e0c-8914-827eaccf447e",
    "deepnote_cell_type": "text-cell-h1"
   }
  },
  {
   "cell_type": "code",
   "metadata": {
    "tags": [],
    "deepnote_to_be_reexecuted": false,
    "source_hash": "b0da67b6",
    "execution_start": 1632510158653,
    "execution_millis": 1086,
    "cell_id": "00001-61bb01b9-dce9-4a50-801e-b54fcb4a9e27",
    "deepnote_cell_type": "code"
   },
   "source": "import pandas as pd\nfrom src.constants import (\n    PREPROCESSING_PATH,\n    TARGET\n)\n\nimport numpy as np\nfrom sklearn.impute import KNNImputer\nfrom sklearn.metrics import mean_absolute_error\nfrom sklearn.preprocessing import power_transform\nfrom catboost import CatBoostRegressor\nfrom utils.classes.extractor import FunctionalGroupToGramExtractor\n\nfrom typing import (\n    Optional,\n    List,\n    Any\n)\nfrom sklearn.model_selection import KFold, RepeatedKFold, RepeatedStratifiedKFold\n\nimport warnings\nwarnings.filterwarnings(\"ignore\")",
   "execution_count": null,
   "outputs": []
  },
  {
   "cell_type": "markdown",
   "source": "# Load essentials",
   "metadata": {
    "tags": [],
    "is_collapsed": false,
    "cell_id": "00002-4cb91af1-dd6e-42f9-a87e-c6873d4a328a",
    "deepnote_cell_type": "text-cell-h1"
   }
  },
  {
   "cell_type": "code",
   "metadata": {
    "tags": [],
    "deepnote_to_be_reexecuted": false,
    "source_hash": "24408d87",
    "execution_start": 1632510159744,
    "execution_millis": 543,
    "cell_id": "00003-6bdabdf8-b948-4f69-9ab7-72a8e0a0440e",
    "deepnote_cell_type": "code"
   },
   "source": "Train = pd.read_csv(f\"{PREPROCESSING_PATH}/train_merged_CIF/Train.csv\")\nTrain = Train.set_index(Train.columns[0])\n\nPretest = pd.read_csv(f\"{PREPROCESSING_PATH}/pretest_merged_CIF/Pretest.csv\")\nPretest = Pretest.set_index(Pretest.columns[0])\n\nfuntional_group_extractor = FunctionalGroupToGramExtractor()",
   "execution_count": null,
   "outputs": []
  },
  {
   "cell_type": "code",
   "metadata": {
    "tags": [],
    "cell_id": "00004-339c2ce3-4588-408a-ae59-2f112f8b1ec9",
    "deepnote_to_be_reexecuted": false,
    "source_hash": "63a51cf8",
    "execution_start": 1632510160289,
    "execution_millis": 8,
    "deepnote_cell_type": "code"
   },
   "source": "# train_imputation = pd.read_csv(\"imputer/xgboost/train.csv\", index_col=0).drop(\n#     [\n#         'MOFname',\n#         'void_fraction_imputed',\n#         'void_volume_imputed',\n#         'surface_area_imputed',\n#         'surface_area [m^2/g]'\n#     ],\n#     axis=1\n# )\n# train_imputation.columns",
   "execution_count": null,
   "outputs": []
  },
  {
   "cell_type": "code",
   "metadata": {
    "tags": [],
    "cell_id": "00004-e83f8d36-7113-437e-b48c-2877691d1dc1",
    "deepnote_to_be_reexecuted": false,
    "source_hash": "4fb6811b",
    "execution_start": 1632510160300,
    "execution_millis": 162,
    "deepnote_cell_type": "code"
   },
   "source": "train_imputation = pd.read_csv(\"imputer/xgboost/train.csv\", index_col=0).drop(\n    [\n        'MOFname',\n        'void_fraction_imputed',\n        'void_volume_imputed',\n        'surface_area_imputed',\n        'surface_area [m^2/g]'\n    ],\n    axis=1\n)\n# Train = Train.rename(columns={'surface_area [m^2/g]': 'surface_area_old'})\nTrain = pd.concat(\n    [\n        Train.drop([\n            'void_fraction',\n            'void_volume [cm^3/g]'\n        ], axis=1),\n        train_imputation\n    ], axis=1\n)",
   "execution_count": null,
   "outputs": []
  },
  {
   "cell_type": "code",
   "metadata": {
    "tags": [],
    "cell_id": "00006-4bc136d9-bbba-46e3-8c9d-d2caecea092c",
    "deepnote_to_be_reexecuted": false,
    "source_hash": "1620b71",
    "execution_start": 1632510160468,
    "execution_millis": 14,
    "deepnote_cell_type": "code"
   },
   "source": "    pretest_imputation = pd.read_csv(\"imputer/xgboost/pretest.csv\", index_col=0).drop(\n    [\n        'MOFname',\n        'void_fraction_imputed',\n        'void_volume_imputed',\n        'surface_area_imputed',\n        'surface_area [m^2/g]'\n    ],\n    axis=1\n)\nPretest = pd.concat(\n    [\n        Pretest.drop([\n            # 'surface_area [m^2/g]',\n            'void_fraction',\n            'void_volume [cm^3/g]'\n        ], axis=1),\n        pretest_imputation\n    ], axis=1\n)",
   "execution_count": null,
   "outputs": []
  },
  {
   "cell_type": "markdown",
   "source": "# Set up pipeline",
   "metadata": {
    "tags": [],
    "is_collapsed": false,
    "cell_id": "00004-5a70c412-2629-4aeb-b273-2489f7905bd4",
    "deepnote_cell_type": "text-cell-h1"
   }
  },
  {
   "cell_type": "code",
   "metadata": {
    "tags": [],
    "deepnote_to_be_reexecuted": false,
    "source_hash": "db7a5351",
    "execution_start": 1632510160495,
    "execution_millis": 12,
    "cell_id": "00005-9909aa37-813f-4bc6-bdb6-7af87737ed58",
    "deepnote_cell_type": "code"
   },
   "source": "\nclass PreprocessingPipeline:\n    funcgroup2num = None\n    topology2num = None\n    spacegroup2num = None\n\n    def label(self, df):\n        # if self.funcgroup2num is None:\n        #     self.funcgroup2num = {\n        #         c: i\n        #         for i, c\n        #         in enumerate(df[\"functional_groups\"].unique())\n        #     }\n\n        # if self.topology2num is None:\n        #     self.topology2num = {\n        #         c: i\n        #         for i, c\n        #         in enumerate(df[\"topology\"].unique())\n        #     }\n        # df[\"label_topology\"] = df[\"topology\"].map(self.topology2num)\n\n        df[\"label_topology_pcu\"] = (df[\"topology\"] == \"pcu\").astype(int)\n        df[\"label_topology_sra\"] = (df[\"topology\"] == \"sra\").astype(int)\n        df[\"label_topology_acs\"] = (df[\"topology\"] == \"acs\").astype(int)\n        df[\"label_topology_etb\"] = (df[\"topology\"] == \"etb\").astype(int)\n        df[\"label_topology_bcu\"] = (df[\"topology\"] == \"bcu\").astype(int)\n        df[\"label_topology_nbo\"] = (df[\"topology\"] == \"nbo\").astype(int)\n        # if self.spacegroup2num is None:\n        #     self.spacegroup2num = {\n        #         c: i\n        #         for i, c\n        #         in enumerate(df[\"_space_group_crystal_system\"].unique())\n        #     }\n\n        # df[\"label_funcgroup\"] = df[\"functional_groups\"].map(self.funcgroup2num)\n        \n        df[\"label_spacegroup_triclinic\"] = (\n            df[\"_space_group_crystal_system\"] == \"triclinic\"\n        ).astype(int)\n        \n        return df\n\n    @staticmethod\n    def get_density(df: pd.DataFrame):\n        df['density'] = (df[\"weight [u]\"] / df[\"volume [A^3]\"]) * 1.66054\n        return df\n\n    @staticmethod\n    def replace_surface_area_equal_0_with_null(df: pd.DataFrame):\n        df[\"surface_area [m^2/g]\"] = df[\"surface_area [m^2/g]\"].replace(0, np.nan)\n        return df\n\n    @staticmethod\n    def replace_inf_with_null(df: pd.DataFrame):\n        df = df.replace(np.inf, 999999)\n        df = df.replace(-np.inf, -999999)\n        return df\n\n    @staticmethod\n    def drop_unused_columns(\n        df, unused_columns: Optional[List[str]] = None\n    ) -> pd.DataFrame:\n        if not unused_columns:\n            unused_columns = [\n                \"MOFname\",\n                # 'functional_groups',\n                \"topology\",\n                \"cif_filepath\",\n                \"_audit_creation_date\",\n                \"_symmetry_Int_Tables_number\",\n                \"_symmetry_space_group_name_H-M\",\n                \"_space_group_crystal_system\",\n                # \"bond_type_countT\",\n                # 'metal_linker',\n                # 'organic_linker1',\n                # 'organic_linker2'\n                \"partial_charge_mean\",\n                \"partial_charge_std\",\n                \"_cell_volume\",\n                \"surface_area_old\"\n            ]\n        for col in unused_columns:\n            try:\n                df.drop(col, axis=1, inplace=True)\n            except KeyError:\n                pass\n        return df\n\n    @staticmethod\n    def set_imputer(X: pd.DataFrame) -> KNNImputer:\n        imputer = KNNImputer(n_neighbors=5)\n        imputer.fit(X)\n        return imputer\n\n    @staticmethod\n    def impute_value(X: pd.DataFrame, imputer: KNNImputer):\n        return imputer.transform(X)\n\n    @staticmethod\n    def extract_functional_group(X: pd.DataFrame, fit: bool) -> pd.DataFrame:\n        funtional_group_extacted = funtional_group_extractor.transform(X, fit)\n        return pd.concat([X, funtional_group_extractor], axis=1)\n\n\nclass TrainDataPreprocessingPipeline(PreprocessingPipeline):\n    @staticmethod\n    def drop_surface_area_equal_minus_1(df):\n        return df.drop(df[df['surface_area [m^2/g]'] == -1].index)\n\n    def impute(self):\n        temp_columns = self.X.columns\n        temp_index = self.X.index\n\n        if not self.imputer:\n            self.imputer = self.set_imputer(self.X)\n\n        self.X = self.impute_value(self.X, self.imputer)\n\n        self.X = pd.DataFrame(self.X)\n        self.X.columns = temp_columns\n        self.X.index = temp_index\n\n    def run(self):\n        self.functional_group_extractor = FunctionalGroupToGramExtractor()\n\n        # Drop and add featrures\n        print(\"Print droping and replace null\")\n        self.df = self.drop_surface_area_equal_minus_1(self.df)\n        self.df = self.replace_surface_area_equal_0_with_null(self.df)\n        self.df = self.replace_inf_with_null(self.df)\n        self.df = self.label(self.df)\n        self.df = self.drop_unused_columns(self.df)\n        self.df = self.df.drop(self.df[self.df[\"CO2/N2_selectivity\"] == 0].index)\n        self.df = self.get_density(self.df)\n        # Split\n        print(\"Split X, y\")\n        self.X = self.df.drop(TARGET, axis=1)\n        self.y = self.df[[TARGET]]\n\n        # Extract\n        # print(\"Extract functional group\")\n        # functional_group = self.functional_group_extractor.transform(\n        #     self.X[['functional_groups']],\n        #     fit=True\n        # )\n\n        # Impute\n        print(\"Impute\")\n        self.X = self.X.drop(\"functional_groups\", axis=1)\n        self.impute()\n        # self.X = pd.concat([self.X, functional_group], axis=1)\n\n    def __init__(self, df: pd.DataFrame, imputer: Any = None):\n        self.df = df\n        self.imputer = imputer\n",
   "execution_count": null,
   "outputs": []
  },
  {
   "cell_type": "code",
   "metadata": {
    "tags": [],
    "deepnote_to_be_reexecuted": false,
    "source_hash": "5221261b",
    "execution_start": 1632510160558,
    "execution_millis": 0,
    "cell_id": "00006-71bb74cd-8c3f-42c6-b84a-11592f5750dc",
    "deepnote_cell_type": "code"
   },
   "source": "class TestDataPreprocessingPipeline(PreprocessingPipeline):\n    def impute(self):\n        temp_columns = self.X.columns\n        temp_index = self.X.index\n\n        if not self.imputer:\n            self.imputer = self.set_imputer(self.X)\n\n        self.X = self.impute_value(self.X, self.imputer)\n\n        self.X = pd.DataFrame(self.X)\n        self.X.columns = temp_columns\n        self.X.index = temp_index\n\n    def run(self):\n        # Drop\n        print(\"Print droping and replace null\")\n        self.X = self.replace_surface_area_equal_0_with_null(self.df)\n        self.X = self.replace_inf_with_null(self.X)\n        self.X = self.label(self.X)\n        self.X = self.drop_unused_columns(self.X)\n        self.X = self.get_density(self.X)\n\n        # Extract\n        # print(\"Extract functional group\")\n        # functional_group = self.functional_group_extractor.transform(\n        #     self.X[['functional_groups']],\n        # )\n\n        # Impute\n        print(\"Impute\")\n        self.X = self.X.drop('functional_groups', axis=1)\n        self.impute()\n        # self.X = pd.concat([self.X, functional_group], axis=1)\n        self.X = self.X[self.columns]\n\n    \n    def __init__(\n        self,\n        df: pd.DataFrame,\n        imputer: Any = None,\n        functional_group_extractor: FunctionalGroupToGramExtractor = None,\n        columns: list = None\n    ):\n        self.df = df\n        self.imputer = imputer\n        self.functional_group_extractor = functional_group_extractor\n        self.columns = columns\n\n",
   "execution_count": null,
   "outputs": []
  },
  {
   "cell_type": "markdown",
   "source": "# Run pipeline",
   "metadata": {
    "tags": [],
    "is_collapsed": false,
    "cell_id": "00007-ba2c06b9-64ab-4039-a3a0-e52d545e3b92",
    "deepnote_cell_type": "text-cell-h1"
   }
  },
  {
   "cell_type": "code",
   "metadata": {
    "tags": [],
    "deepnote_to_be_reexecuted": false,
    "source_hash": "9af69447",
    "execution_start": 1632510160559,
    "execution_millis": 286,
    "cell_id": "00008-e7df391a-cbe4-4cd1-864e-f5acd5637645",
    "deepnote_cell_type": "code"
   },
   "source": "class Imputer9999:\n    def transform(self, df):\n        return df.replace(np.nan, -9999999)\n\nimputer = Imputer9999()\ntrain = TrainDataPreprocessingPipeline(Train, imputer)\ntrain.run()",
   "execution_count": null,
   "outputs": [
    {
     "name": "stdout",
     "text": "Print droping and replace null\nSplit X, y\nImpute\n",
     "output_type": "stream"
    }
   ]
  },
  {
   "cell_type": "code",
   "metadata": {
    "tags": [],
    "deepnote_to_be_reexecuted": false,
    "source_hash": "364ae2b2",
    "execution_start": 1632510160837,
    "execution_millis": 89,
    "cell_id": "00009-adde8521-3165-4ae6-a2ca-c263320da642",
    "deepnote_cell_type": "code"
   },
   "source": "train.X",
   "execution_count": null,
   "outputs": [
    {
     "output_type": "execute_result",
     "execution_count": 9,
     "data": {
      "application/vnd.deepnote.dataframe.v2+json": {
       "row_count": 66715,
       "column_count": 30,
       "columns": [
        {
         "name": "volume [A^3]",
         "dtype": "float64",
         "stats": {
          "unique_count": 66709,
          "nan_count": 0,
          "min": "606.576038",
          "max": "223964.854408",
          "histogram": [
           {
            "bin_start": 606.576038,
            "bin_end": 22942.403875,
            "count": 65787
           },
           {
            "bin_start": 22942.403875,
            "bin_end": 45278.231712,
            "count": 823
           },
           {
            "bin_start": 45278.231712,
            "bin_end": 67614.059549,
            "count": 80
           },
           {
            "bin_start": 67614.059549,
            "bin_end": 89949.887386,
            "count": 18
           },
           {
            "bin_start": 89949.887386,
            "bin_end": 112285.715223,
            "count": 3
           },
           {
            "bin_start": 112285.715223,
            "bin_end": 134621.54306,
            "count": 3
           },
           {
            "bin_start": 134621.54306,
            "bin_end": 156957.37089700002,
            "count": 0
           },
           {
            "bin_start": 156957.37089700002,
            "bin_end": 179293.198734,
            "count": 0
           },
           {
            "bin_start": 179293.198734,
            "bin_end": 201629.026571,
            "count": 0
           },
           {
            "bin_start": 201629.026571,
            "bin_end": 223964.854408,
            "count": 1
           }
          ]
         }
        },
        {
         "name": "weight [u]",
         "dtype": "float64"
        },
        {
         "name": "surface_area [m^2/g]",
         "dtype": "float64"
        },
        {
         "name": "metal_linker",
         "dtype": "int64"
        },
        {
         "name": "organic_linker1",
         "dtype": "int64"
        },
        {
         "name": "organic_linker2",
         "dtype": "int64"
        },
        {
         "name": "CO2/N2_selectivity",
         "dtype": "float64"
        },
        {
         "name": "heat_adsorption_CO2_P0.15bar_T298K [kcal/mol]",
         "dtype": "float64"
        },
        {
         "name": "_cell_length_a",
         "dtype": "float64"
        },
        {
         "name": "_cell_length_b",
         "dtype": "float64"
        },
        {
         "name": "_cell_length_c",
         "dtype": "float64"
        },
        {
         "name": "_cell_angle_alpha",
         "dtype": "float64"
        },
        {
         "name": "_cell_angle_beta",
         "dtype": "float64"
        },
        {
         "name": "_cell_angle_gamma",
         "dtype": "float64"
        },
        {
         "name": "partial_charge_median",
         "dtype": "float64"
        },
        {
         "name": "bond_type_countS",
         "dtype": "int64"
        },
        {
         "name": "bond_type_countA",
         "dtype": "int64"
        },
        {
         "name": "bond_type_countD",
         "dtype": "float64"
        },
        {
         "name": "bond_type_countT",
         "dtype": "float64"
        },
        {
         "name": "bond_type_countAm",
         "dtype": "float64"
        },
        {
         "name": "void_fraction",
         "dtype": "float64"
        },
        {
         "name": "void_volume [cm^3/g]",
         "dtype": "float64"
        },
        {
         "name": "label_topology_pcu",
         "dtype": "int64"
        },
        {
         "name": "label_topology_sra",
         "dtype": "int64"
        },
        {
         "name": "label_topology_acs",
         "dtype": "int64"
        },
        {
         "name": "label_topology_etb",
         "dtype": "int64"
        },
        {
         "name": "label_topology_bcu",
         "dtype": "int64"
        },
        {
         "name": "label_topology_nbo",
         "dtype": "int64"
        },
        {
         "name": "label_spacegroup_triclinic",
         "dtype": "int64"
        },
        {
         "name": "density",
         "dtype": "float64"
        },
        {
         "name": "_deepnote_index_column",
         "dtype": "int64"
        }
       ],
       "rows_top": [
        {
         "volume [A^3]": 1116.667429,
         "weight [u]": 875.2405999999999,
         "surface_area [m^2/g]": -9999999,
         "metal_linker": 3,
         "organic_linker1": 4,
         "organic_linker2": 11,
         "CO2/N2_selectivity": 22.86416611,
         "heat_adsorption_CO2_P0.15bar_T298K [kcal/mol]": 6.786041,
         "_cell_length_a": 10.609882,
         "_cell_length_b": 10.643578,
         "_cell_length_c": 9.890832,
         "_cell_angle_alpha": 89.904234,
         "_cell_angle_beta": 91.242355,
         "_cell_angle_gamma": 90.261935,
         "partial_charge_median": 0.024709,
         "bond_type_countS": 56,
         "bond_type_countA": 20,
         "bond_type_countD": 8,
         "bond_type_countT": 0,
         "bond_type_countAm": 0,
         "void_fraction": 0.07899,
         "void_volume [cm^3/g]": 0.0606999999999999,
         "label_topology_pcu": 1,
         "label_topology_sra": 0,
         "label_topology_acs": 0,
         "label_topology_etb": 0,
         "label_topology_bcu": 0,
         "label_topology_nbo": 0,
         "label_spacegroup_triclinic": 1,
         "density": 1.3015262988601055,
         "_deepnote_index_column": 1
        },
        {
         "volume [A^3]": 2769.503842,
         "weight [u]": 2211.697211,
         "surface_area [m^2/g]": 603.61,
         "metal_linker": 10,
         "organic_linker1": 44,
         "organic_linker2": 57,
         "CO2/N2_selectivity": 33.61678033,
         "heat_adsorption_CO2_P0.15bar_T298K [kcal/mol]": 7.147286,
         "_cell_length_a": 8.463295,
         "_cell_length_b": 17.684225,
         "_cell_length_c": 18.960098,
         "_cell_angle_alpha": 100.063446,
         "_cell_angle_beta": 91.815775,
         "_cell_angle_gamma": 96.94221,
         "partial_charge_median": 0.059489,
         "bond_type_countS": 162,
         "bond_type_countA": 50,
         "bond_type_countD": 8,
         "bond_type_countT": 1,
         "bond_type_countAm": 0,
         "void_fraction": 0.13794,
         "void_volume [cm^3/g]": 0.104,
         "label_topology_pcu": 0,
         "label_topology_sra": 0,
         "label_topology_acs": 0,
         "label_topology_etb": 1,
         "label_topology_bcu": 0,
         "label_topology_nbo": 0,
         "label_spacegroup_triclinic": 1,
         "density": 1.3260901216521728,
         "_deepnote_index_column": 2
        },
        {
         "volume [A^3]": 1089.818728,
         "weight [u]": 773.68796,
         "surface_area [m^2/g]": 788.5,
         "metal_linker": 2,
         "organic_linker1": 22,
         "organic_linker2": 24,
         "CO2/N2_selectivity": 19.26372569,
         "heat_adsorption_CO2_P0.15bar_T298K [kcal/mol]": 6.347967,
         "_cell_length_a": 10.73211,
         "_cell_length_b": 9.552271,
         "_cell_length_c": 10.631996,
         "_cell_angle_alpha": 89.202223,
         "_cell_angle_beta": 89.943258,
         "_cell_angle_gamma": 90.387501,
         "partial_charge_median": 0.126583,
         "bond_type_countS": 87,
         "bond_type_countA": 8,
         "bond_type_countD": 2,
         "bond_type_countT": 0,
         "bond_type_countAm": 0,
         "void_fraction": 0.14874,
         "void_volume [cm^3/g]": 0.1262,
         "label_topology_pcu": 1,
         "label_topology_sra": 0,
         "label_topology_acs": 0,
         "label_topology_etb": 0,
         "label_topology_bcu": 0,
         "label_topology_nbo": 0,
         "label_spacegroup_triclinic": 1,
         "density": 1.1788564208802987,
         "_deepnote_index_column": 3
        },
        {
         "volume [A^3]": 2205.1983010000004,
         "weight [u]": 1304.63872,
         "surface_area [m^2/g]": 1441.53,
         "metal_linker": 9,
         "organic_linker1": 17,
         "organic_linker2": 24,
         "CO2/N2_selectivity": 25.70137692,
         "heat_adsorption_CO2_P0.15bar_T298K [kcal/mol]": 6.190085,
         "_cell_length_a": 6.93553,
         "_cell_length_b": 17.504896,
         "_cell_length_c": 19.27498,
         "_cell_angle_alpha": 109.537419,
         "_cell_angle_beta": 90.23458,
         "_cell_angle_gamma": 90.532988,
         "partial_charge_median": -0.016101,
         "bond_type_countS": 86,
         "bond_type_countA": 54,
         "bond_type_countD": 2,
         "bond_type_countT": 0,
         "bond_type_countAm": 0,
         "void_fraction": 0.21814,
         "void_volume [cm^3/g]": 0.222,
         "label_topology_pcu": 0,
         "label_topology_sra": 1,
         "label_topology_acs": 0,
         "label_topology_etb": 0,
         "label_topology_bcu": 0,
         "label_topology_nbo": 0,
         "label_spacegroup_triclinic": 1,
         "density": 0.9824081485671339,
         "_deepnote_index_column": 4
        },
        {
         "volume [A^3]": 1137.800963,
         "weight [u]": 901.73612,
         "surface_area [m^2/g]": -9999999,
         "metal_linker": 2,
         "organic_linker1": 1,
         "organic_linker2": 22,
         "CO2/N2_selectivity": 30.00183795,
         "heat_adsorption_CO2_P0.15bar_T298K [kcal/mol]": 6.478063,
         "_cell_length_a": 10.825925,
         "_cell_length_b": 9.699886,
         "_cell_length_c": 10.853274,
         "_cell_angle_alpha": 89.694657,
         "_cell_angle_beta": 92.990983,
         "_cell_angle_gamma": 91.404649,
         "partial_charge_median": 0.1432804999999999,
         "bond_type_countS": 84,
         "bond_type_countA": 20,
         "bond_type_countD": 0,
         "bond_type_countT": 0,
         "bond_type_countAm": 0,
         "void_fraction": 0.07778,
         "void_volume [cm^3/g]": 0.0591,
         "label_topology_pcu": 1,
         "label_topology_sra": 0,
         "label_topology_acs": 0,
         "label_topology_etb": 0,
         "label_topology_bcu": 0,
         "label_topology_nbo": 0,
         "label_spacegroup_triclinic": 1,
         "density": 1.3160200644906643,
         "_deepnote_index_column": 5
        },
        {
         "volume [A^3]": 3954.659761,
         "weight [u]": 1543.02768,
         "surface_area [m^2/g]": 2430.55,
         "metal_linker": 9,
         "organic_linker1": 7,
         "organic_linker2": 23,
         "CO2/N2_selectivity": 17.14654102,
         "heat_adsorption_CO2_P0.15bar_T298K [kcal/mol]": 5.398304,
         "_cell_length_a": 24.949291,
         "_cell_length_b": 7.054011,
         "_cell_length_c": 22.606019,
         "_cell_angle_alpha": 90.036873,
         "_cell_angle_beta": 96.274104,
         "_cell_angle_gamma": 89.946334,
         "partial_charge_median": 0.1095015,
         "bond_type_countS": 132,
         "bond_type_countA": 44,
         "bond_type_countD": 0,
         "bond_type_countT": 6,
         "bond_type_countAm": 0,
         "void_fraction": 0.3709399999999999,
         "void_volume [cm^3/g]": 0.5725,
         "label_topology_pcu": 0,
         "label_topology_sra": 1,
         "label_topology_acs": 0,
         "label_topology_etb": 0,
         "label_topology_bcu": 0,
         "label_topology_nbo": 0,
         "label_spacegroup_triclinic": 1,
         "density": 0.6479088818248402,
         "_deepnote_index_column": 6
        },
        {
         "volume [A^3]": 3565.914939,
         "weight [u]": 1954.749656,
         "surface_area [m^2/g]": 1530.02,
         "metal_linker": 10,
         "organic_linker1": 53,
         "organic_linker2": 55,
         "CO2/N2_selectivity": 18.36379134,
         "heat_adsorption_CO2_P0.15bar_T298K [kcal/mol]": 6.303857,
         "_cell_length_a": 8.2867,
         "_cell_length_b": 19.200319,
         "_cell_length_c": 22.787351,
         "_cell_angle_alpha": 100.16818,
         "_cell_angle_beta": 89.967715,
         "_cell_angle_gamma": 92.22909,
         "partial_charge_median": 0.0265695,
         "bond_type_countS": 141,
         "bond_type_countA": 49,
         "bond_type_countD": 15,
         "bond_type_countT": 0,
         "bond_type_countAm": 4,
         "void_fraction": 0.33337,
         "void_volume [cm^3/g]": 0.3662,
         "label_topology_pcu": 0,
         "label_topology_sra": 0,
         "label_topology_acs": 0,
         "label_topology_etb": 1,
         "label_topology_bcu": 0,
         "label_topology_nbo": 0,
         "label_spacegroup_triclinic": 1,
         "density": 0.9102684862933125,
         "_deepnote_index_column": 7
        },
        {
         "volume [A^3]": 916.043907,
         "weight [u]": 639.11156,
         "surface_area [m^2/g]": 1685.58,
         "metal_linker": 2,
         "organic_linker1": 5,
         "organic_linker2": 13,
         "CO2/N2_selectivity": 12.68480443,
         "heat_adsorption_CO2_P0.15bar_T298K [kcal/mol]": 5.234732,
         "_cell_length_a": 12.999835,
         "_cell_length_b": 9.096507,
         "_cell_length_c": 7.790769,
         "_cell_angle_alpha": 90.003048,
         "_cell_angle_beta": 96.113006,
         "_cell_angle_gamma": 89.99935,
         "partial_charge_median": -0.1189905,
         "bond_type_countS": 21,
         "bond_type_countA": 19,
         "bond_type_countD": 0,
         "bond_type_countT": 2,
         "bond_type_countAm": 0,
         "void_fraction": 0.28458,
         "void_volume [cm^3/g]": 0.2456,
         "label_topology_pcu": 1,
         "label_topology_sra": 0,
         "label_topology_acs": 0,
         "label_topology_etb": 0,
         "label_topology_bcu": 0,
         "label_topology_nbo": 0,
         "label_spacegroup_triclinic": 1,
         "density": 1.1585365087116943,
         "_deepnote_index_column": 8
        },
        {
         "volume [A^3]": 2228.882339,
         "weight [u]": 1422.69182,
         "surface_area [m^2/g]": 1458.02,
         "metal_linker": 4,
         "organic_linker1": 14,
         "organic_linker2": 19,
         "CO2/N2_selectivity": 37.04042435,
         "heat_adsorption_CO2_P0.15bar_T298K [kcal/mol]": 6.298964,
         "_cell_length_a": 11.514733,
         "_cell_length_b": 11.613772,
         "_cell_length_c": 19.363484,
         "_cell_angle_alpha": 90.584232,
         "_cell_angle_beta": 89.362927,
         "_cell_angle_gamma": 59.423201,
         "partial_charge_median": -0.0044885,
         "bond_type_countS": 64,
         "bond_type_countA": 57,
         "bond_type_countD": 1,
         "bond_type_countT": 6,
         "bond_type_countAm": 0,
         "void_fraction": 0.2427699999999999,
         "void_volume [cm^3/g]": 0.2291,
         "label_topology_pcu": 0,
         "label_topology_sra": 0,
         "label_topology_acs": 1,
         "label_topology_etb": 0,
         "label_topology_bcu": 0,
         "label_topology_nbo": 0,
         "label_spacegroup_triclinic": 1,
         "density": 1.059919868108749,
         "_deepnote_index_column": 9
        },
        {
         "volume [A^3]": 4275.421420000001,
         "weight [u]": 1606.196,
         "surface_area [m^2/g]": 3276.11,
         "metal_linker": 3,
         "organic_linker1": 13,
         "organic_linker2": 29,
         "CO2/N2_selectivity": 10.9992991,
         "heat_adsorption_CO2_P0.15bar_T298K [kcal/mol]": 5.539327,
         "_cell_length_a": 12.041039,
         "_cell_length_b": 13.008236,
         "_cell_length_c": 27.438486,
         "_cell_angle_alpha": 91.181769,
         "_cell_angle_beta": 84.870254,
         "_cell_angle_gamma": 92.639099,
         "partial_charge_median": 0.1720324999999999,
         "bond_type_countS": 124,
         "bond_type_countA": 74,
         "bond_type_countD": 0,
         "bond_type_countT": 0,
         "bond_type_countAm": 0,
         "void_fraction": 0.4100399999999999,
         "void_volume [cm^3/g]": 0.6573,
         "label_topology_pcu": 1,
         "label_topology_sra": 0,
         "label_topology_acs": 0,
         "label_topology_etb": 0,
         "label_topology_bcu": 0,
         "label_topology_nbo": 0,
         "label_spacegroup_triclinic": 1,
         "density": 0.6238338736301693,
         "_deepnote_index_column": 10
        },
        {
         "volume [A^3]": 1607.935338,
         "weight [u]": 1110.38712,
         "surface_area [m^2/g]": 1098.36,
         "metal_linker": 9,
         "organic_linker1": 1,
         "organic_linker2": 24,
         "CO2/N2_selectivity": 24.25902464,
         "heat_adsorption_CO2_P0.15bar_T298K [kcal/mol]": 5.926444,
         "_cell_length_a": 6.931148,
         "_cell_length_b": 14.529443,
         "_cell_length_c": 15.967346,
         "_cell_angle_alpha": 90.477043,
         "_cell_angle_beta": 90.128514,
         "_cell_angle_gamma": 89.818714,
         "partial_charge_median": -0.1228635,
         "bond_type_countS": 66,
         "bond_type_countA": 34,
         "bond_type_countD": 4,
         "bond_type_countT": 0,
         "bond_type_countAm": 0,
         "void_fraction": 0.18787,
         "void_volume [cm^3/g]": 0.1638,
         "label_topology_pcu": 0,
         "label_topology_sra": 1,
         "label_topology_acs": 0,
         "label_topology_etb": 0,
         "label_topology_bcu": 0,
         "label_topology_nbo": 0,
         "label_spacegroup_triclinic": 1,
         "density": 1.1467141648483379,
         "_deepnote_index_column": 11
        },
        {
         "volume [A^3]": 1175.47586,
         "weight [u]": 1397.05128,
         "surface_area [m^2/g]": -9999999,
         "metal_linker": 2,
         "organic_linker1": 22,
         "organic_linker2": 24,
         "CO2/N2_selectivity": 58.10697445,
         "heat_adsorption_CO2_P0.15bar_T298K [kcal/mol]": 7.4078979999999985,
         "_cell_length_a": 10.998061,
         "_cell_length_b": 9.934987,
         "_cell_length_c": 10.760373,
         "_cell_angle_alpha": 90.750251,
         "_cell_angle_beta": 89.160226,
         "_cell_angle_gamma": 90.456866,
         "partial_charge_median": 0.16651,
         "bond_type_countS": 105,
         "bond_type_countA": 8,
         "bond_type_countD": 0,
         "bond_type_countT": 0,
         "bond_type_countAm": 0,
         "void_fraction": 0.05704,
         "void_volume [cm^3/g]": 0.0288999999999999,
         "label_topology_pcu": 1,
         "label_topology_sra": 0,
         "label_topology_acs": 0,
         "label_topology_etb": 0,
         "label_topology_bcu": 0,
         "label_topology_nbo": 0,
         "label_spacegroup_triclinic": 1,
         "density": 1.9735492760278375,
         "_deepnote_index_column": 12
        },
        {
         "volume [A^3]": 1650.879383,
         "weight [u]": 796.6896799999998,
         "surface_area [m^2/g]": 2117.01,
         "metal_linker": 2,
         "organic_linker1": 4,
         "organic_linker2": 6,
         "CO2/N2_selectivity": 12.99674112,
         "heat_adsorption_CO2_P0.15bar_T298K [kcal/mol]": 4.936655,
         "_cell_length_a": 15.969446,
         "_cell_length_b": 10.823247,
         "_cell_length_c": 9.551803,
         "_cell_angle_alpha": 90.396255,
         "_cell_angle_beta": 90.318456,
         "_cell_angle_gamma": 90.0693,
         "partial_charge_median": 0.107489,
         "bond_type_countS": 59,
         "bond_type_countA": 28,
         "bond_type_countD": 0,
         "bond_type_countT": 2,
         "bond_type_countAm": 0,
         "void_fraction": 0.3040499999999999,
         "void_volume [cm^3/g]": 0.3794,
         "label_topology_pcu": 1,
         "label_topology_sra": 0,
         "label_topology_acs": 0,
         "label_topology_etb": 0,
         "label_topology_bcu": 0,
         "label_topology_nbo": 0,
         "label_spacegroup_triclinic": 1,
         "density": 0.8013517491648267,
         "_deepnote_index_column": 13
        },
        {
         "volume [A^3]": 1071.619874,
         "weight [u]": 701.6286,
         "surface_area [m^2/g]": -9999999,
         "metal_linker": 2,
         "organic_linker1": 12,
         "organic_linker2": 22,
         "CO2/N2_selectivity": 31.66445559,
         "heat_adsorption_CO2_P0.15bar_T298K [kcal/mol]": 7.427183,
         "_cell_length_a": 10.772046,
         "_cell_length_b": 10.925408,
         "_cell_length_c": 9.856399,
         "_cell_angle_alpha": 110.039694,
         "_cell_angle_beta": 98.693134,
         "_cell_angle_gamma": 92.461125,
         "partial_charge_median": 0.131152,
         "bond_type_countS": 67,
         "bond_type_countA": 8,
         "bond_type_countD": 4,
         "bond_type_countT": 2,
         "bond_type_countAm": 0,
         "void_fraction": 0.10455,
         "void_volume [cm^3/g]": 0.0961999999999999,
         "label_topology_pcu": 1,
         "label_topology_sra": 0,
         "label_topology_acs": 0,
         "label_topology_etb": 0,
         "label_topology_bcu": 0,
         "label_topology_nbo": 0,
         "label_spacegroup_triclinic": 1,
         "density": 1.087216076998587,
         "_deepnote_index_column": 14
        },
        {
         "volume [A^3]": 1769.973982,
         "weight [u]": 945.403413,
         "surface_area [m^2/g]": 1870.11,
         "metal_linker": 3,
         "organic_linker1": 4,
         "organic_linker2": 26,
         "CO2/N2_selectivity": 17.01166312,
         "heat_adsorption_CO2_P0.15bar_T298K [kcal/mol]": 5.139598,
         "_cell_length_a": 9.858469,
         "_cell_length_b": 10.672478,
         "_cell_length_c": 16.8966,
         "_cell_angle_alpha": 90.35894,
         "_cell_angle_beta": 84.651637,
         "_cell_angle_gamma": 90.271403,
         "partial_charge_median": 0.0888055,
         "bond_type_countS": 68,
         "bond_type_countA": 32,
         "bond_type_countD": 1,
         "bond_type_countT": 0,
         "bond_type_countAm": 0,
         "void_fraction": 0.27705,
         "void_volume [cm^3/g]": 0.3124,
         "label_topology_pcu": 1,
         "label_topology_sra": 0,
         "label_topology_acs": 0,
         "label_topology_etb": 0,
         "label_topology_bcu": 0,
         "label_topology_nbo": 0,
         "label_spacegroup_triclinic": 1,
         "density": 0.8869509944146851,
         "_deepnote_index_column": 15
        },
        {
         "volume [A^3]": 4282.561071,
         "weight [u]": 2478.166816,
         "surface_area [m^2/g]": 1294.48,
         "metal_linker": 10,
         "organic_linker1": 52,
         "organic_linker2": 54,
         "CO2/N2_selectivity": 19.28955582,
         "heat_adsorption_CO2_P0.15bar_T298K [kcal/mol]": 5.867149,
         "_cell_length_a": 8.442812,
         "_cell_length_b": 19.084105,
         "_cell_length_c": 26.973845,
         "_cell_angle_alpha": 98.789894,
         "_cell_angle_beta": 92.030824,
         "_cell_angle_gamma": 85.860956,
         "partial_charge_median": 0.0959935,
         "bond_type_countS": 209,
         "bond_type_countA": 40,
         "bond_type_countD": 21,
         "bond_type_countT": 0,
         "bond_type_countAm": 4,
         "void_fraction": 0.2860699999999999,
         "void_volume [cm^3/g]": 0.2977,
         "label_topology_pcu": 0,
         "label_topology_sra": 0,
         "label_topology_acs": 0,
         "label_topology_etb": 1,
         "label_topology_bcu": 0,
         "label_topology_nbo": 0,
         "label_spacegroup_triclinic": 1,
         "density": 0.9608958416277164,
         "_deepnote_index_column": 16
        }
       ],
       "rows_bottom": [
        {
         "volume [A^3]": 851.7015679999998,
         "weight [u]": 731.33212,
         "surface_area [m^2/g]": -9999999,
         "metal_linker": 3,
         "organic_linker1": 10,
         "organic_linker2": 16,
         "CO2/N2_selectivity": 0.02033596,
         "heat_adsorption_CO2_P0.15bar_T298K [kcal/mol]": -9999999,
         "_cell_length_a": 8.022593,
         "_cell_length_b": 8.55139,
         "_cell_length_c": 13.004916,
         "_cell_angle_alpha": 98.006006,
         "_cell_angle_beta": 104.641009,
         "_cell_angle_gamma": 92.660523,
         "partial_charge_median": 0.1249415,
         "bond_type_countS": 51,
         "bond_type_countA": 30,
         "bond_type_countD": 2,
         "bond_type_countT": 0,
         "bond_type_countAm": 0,
         "void_fraction": 0.3415928483009338,
         "void_volume [cm^3/g]": 0.2395698863208357,
         "label_topology_pcu": 1,
         "label_topology_sra": 0,
         "label_topology_acs": 0,
         "label_topology_etb": 0,
         "label_topology_bcu": 0,
         "label_topology_nbo": 0,
         "label_spacegroup_triclinic": 1,
         "density": 1.425858873779601,
         "_deepnote_index_column": 68587
        },
        {
         "volume [A^3]": 2981.283155,
         "weight [u]": 2629.06624,
         "surface_area [m^2/g]": -9999999,
         "metal_linker": 9,
         "organic_linker1": 18,
         "organic_linker2": 29,
         "CO2/N2_selectivity": 4.613800749,
         "heat_adsorption_CO2_P0.15bar_T298K [kcal/mol]": -9999999,
         "_cell_length_a": 7.014127,
         "_cell_length_b": 11.669036,
         "_cell_length_c": 36.461236,
         "_cell_angle_alpha": 89.999846,
         "_cell_angle_beta": 87.430808,
         "_cell_angle_gamma": 90.002114,
         "partial_charge_median": -0.029738,
         "bond_type_countS": 96,
         "bond_type_countA": 146,
         "bond_type_countD": 0,
         "bond_type_countT": 8,
         "bond_type_countAm": 0,
         "void_fraction": 0.0048599999999999,
         "void_volume [cm^3/g]": 0.0033188576509588,
         "label_topology_pcu": 0,
         "label_topology_sra": 1,
         "label_topology_acs": 0,
         "label_topology_etb": 0,
         "label_topology_bcu": 0,
         "label_topology_nbo": 0,
         "label_spacegroup_triclinic": 1,
         "density": 1.4643592799455507,
         "_deepnote_index_column": 68590
        },
        {
         "volume [A^3]": 2046.621875,
         "weight [u]": 2107.834824,
         "surface_area [m^2/g]": -9999999,
         "metal_linker": 10,
         "organic_linker1": 47,
         "organic_linker2": 50,
         "CO2/N2_selectivity": 7.488249221,
         "heat_adsorption_CO2_P0.15bar_T298K [kcal/mol]": -9999999,
         "_cell_length_a": 8.750334,
         "_cell_length_b": 14.779556,
         "_cell_length_c": 16.645582,
         "_cell_angle_alpha": 106.255585,
         "_cell_angle_beta": 82.020864,
         "_cell_angle_gamma": 92.455172,
         "partial_charge_median": 0.068162,
         "bond_type_countS": 193,
         "bond_type_countA": 22,
         "bond_type_countD": 11,
         "bond_type_countT": 0,
         "bond_type_countAm": 0,
         "void_fraction": 0.3266380131244659,
         "void_volume [cm^3/g]": 0.1909934264093522,
         "label_topology_pcu": 0,
         "label_topology_sra": 0,
         "label_topology_acs": 0,
         "label_topology_etb": 1,
         "label_topology_bcu": 0,
         "label_topology_nbo": 0,
         "label_spacegroup_triclinic": 1,
         "density": 1.7102055252121058,
         "_deepnote_index_column": 68591
        },
        {
         "volume [A^3]": 1524.505449,
         "weight [u]": 1685.041936,
         "surface_area [m^2/g]": -9999999,
         "metal_linker": 10,
         "organic_linker1": 46,
         "organic_linker2": 48,
         "CO2/N2_selectivity": 9.460790768,
         "heat_adsorption_CO2_P0.15bar_T298K [kcal/mol]": -9999999,
         "_cell_length_a": 8.28971,
         "_cell_length_b": 12.704025,
         "_cell_length_c": 14.921507,
         "_cell_angle_alpha": 96.820117,
         "_cell_angle_beta": 97.042548,
         "_cell_angle_gamma": 99.111613,
         "partial_charge_median": 0.1265825,
         "bond_type_countS": 110,
         "bond_type_countA": 31,
         "bond_type_countD": 8,
         "bond_type_countT": 0,
         "bond_type_countAm": 0,
         "void_fraction": 0.0069899999999999,
         "void_volume [cm^3/g]": 0.0038084310863441,
         "label_topology_pcu": 0,
         "label_topology_sra": 0,
         "label_topology_acs": 0,
         "label_topology_etb": 1,
         "label_topology_bcu": 0,
         "label_topology_nbo": 0,
         "label_spacegroup_triclinic": 1,
         "density": 1.8354014662530997,
         "_deepnote_index_column": 68594
        },
        {
         "volume [A^3]": 3760.489888,
         "weight [u]": 3343.200672,
         "surface_area [m^2/g]": -9999999,
         "metal_linker": 10,
         "organic_linker1": 42,
         "organic_linker2": 42,
         "CO2/N2_selectivity": 0.2271604939999999,
         "heat_adsorption_CO2_P0.15bar_T298K [kcal/mol]": -9999999,
         "_cell_length_a": 20.106341,
         "_cell_length_b": 22.433377,
         "_cell_length_c": 8.641388,
         "_cell_angle_alpha": 89.712457,
         "_cell_angle_beta": 105.246472,
         "_cell_angle_gamma": 90.1271,
         "partial_charge_median": 0.0657335,
         "bond_type_countS": 306,
         "bond_type_countA": 48,
         "bond_type_countD": 16,
         "bond_type_countT": 0,
         "bond_type_countAm": 0,
         "void_fraction": 0.0122099999999999,
         "void_volume [cm^3/g]": 0.0082708149124629,
         "label_topology_pcu": 0,
         "label_topology_sra": 0,
         "label_topology_acs": 0,
         "label_topology_etb": 1,
         "label_topology_bcu": 0,
         "label_topology_nbo": 0,
         "label_spacegroup_triclinic": 1,
         "density": 1.476275328275229,
         "_deepnote_index_column": 68596
        },
        {
         "volume [A^3]": 1621.161289,
         "weight [u]": 1292.77096,
         "surface_area [m^2/g]": -9999999,
         "metal_linker": 9,
         "organic_linker1": 12,
         "organic_linker2": 12,
         "CO2/N2_selectivity": 4082.551111,
         "heat_adsorption_CO2_P0.15bar_T298K [kcal/mol]": -9999999,
         "_cell_length_a": 6.904548,
         "_cell_length_b": 14.262454,
         "_cell_length_c": 16.46276,
         "_cell_angle_alpha": 90.040576,
         "_cell_angle_beta": 89.713152,
         "_cell_angle_gamma": 90.076031,
         "partial_charge_median": 0.1346745,
         "bond_type_countS": 132,
         "bond_type_countA": 16,
         "bond_type_countD": 8,
         "bond_type_countT": 0,
         "bond_type_countAm": 0,
         "void_fraction": 0.2137285768985748,
         "void_volume [cm^3/g]": 0.1614053364696789,
         "label_topology_pcu": 0,
         "label_topology_sra": 1,
         "label_topology_acs": 0,
         "label_topology_etb": 0,
         "label_topology_bcu": 0,
         "label_topology_nbo": 0,
         "label_spacegroup_triclinic": 1,
         "density": 1.3241729274467027,
         "_deepnote_index_column": 68598
        },
        {
         "volume [A^3]": 1174.62717,
         "weight [u]": 1649.17081,
         "surface_area [m^2/g]": -9999999,
         "metal_linker": 2,
         "organic_linker1": 14,
         "organic_linker2": 22,
         "CO2/N2_selectivity": 2276.833333,
         "heat_adsorption_CO2_P0.15bar_T298K [kcal/mol]": -9999999,
         "_cell_length_a": 11.086717,
         "_cell_length_b": 11.033472,
         "_cell_length_c": 9.696926,
         "_cell_angle_alpha": 89.417259,
         "_cell_angle_beta": 88.139105,
         "_cell_angle_gamma": 97.738502,
         "partial_charge_median": 0.005145,
         "bond_type_countS": 64,
         "bond_type_countA": 30,
         "bond_type_countD": 8,
         "bond_type_countT": 0,
         "bond_type_countAm": 0,
         "void_fraction": 0.1848211884498596,
         "void_volume [cm^3/g]": 0.0792751038950687,
         "label_topology_pcu": 1,
         "label_topology_sra": 0,
         "label_topology_acs": 0,
         "label_topology_etb": 0,
         "label_topology_bcu": 0,
         "label_topology_nbo": 0,
         "label_spacegroup_triclinic": 1,
         "density": 2.3313900502041003,
         "_deepnote_index_column": 68600
        },
        {
         "volume [A^3]": 1132.348176,
         "weight [u]": 903.87744,
         "surface_area [m^2/g]": -9999999,
         "metal_linker": 2,
         "organic_linker1": 9,
         "organic_linker2": 12,
         "CO2/N2_selectivity": 546.3466667,
         "heat_adsorption_CO2_P0.15bar_T298K [kcal/mol]": -9999999,
         "_cell_length_a": 10.837492,
         "_cell_length_b": 10.912739,
         "_cell_length_c": 9.795559,
         "_cell_angle_alpha": 98.7433,
         "_cell_angle_beta": 98.13228,
         "_cell_angle_gamma": 91.307778,
         "partial_charge_median": 0.056246,
         "bond_type_countS": 62,
         "bond_type_countA": 44,
         "bond_type_countD": 2,
         "bond_type_countT": 0,
         "bond_type_countAm": 0,
         "void_fraction": 0.2387192696332931,
         "void_volume [cm^3/g]": 0.18009786872826,
         "label_topology_pcu": 1,
         "label_topology_sra": 0,
         "label_topology_acs": 0,
         "label_topology_etb": 0,
         "label_topology_bcu": 0,
         "label_topology_nbo": 0,
         "label_spacegroup_triclinic": 1,
         "density": 1.325497471563552,
         "_deepnote_index_column": 68601
        },
        {
         "volume [A^3]": 1131.069889,
         "weight [u]": 895.9516800000001,
         "surface_area [m^2/g]": -9999999,
         "metal_linker": 2,
         "organic_linker1": 4,
         "organic_linker2": 22,
         "CO2/N2_selectivity": 454.265353,
         "heat_adsorption_CO2_P0.15bar_T298K [kcal/mol]": -9999999,
         "_cell_length_a": 10.878831,
         "_cell_length_b": 10.816211,
         "_cell_length_c": 9.613343,
         "_cell_angle_alpha": 90.598466,
         "_cell_angle_beta": 90.049004,
         "_cell_angle_gamma": 90.528695,
         "partial_charge_median": 0.166767,
         "bond_type_countS": 101,
         "bond_type_countA": 20,
         "bond_type_countD": 0,
         "bond_type_countT": 0,
         "bond_type_countAm": 0,
         "void_fraction": 0.2116473615169525,
         "void_volume [cm^3/g]": 0.1609045666008507,
         "label_topology_pcu": 1,
         "label_topology_sra": 0,
         "label_topology_acs": 0,
         "label_topology_etb": 0,
         "label_topology_bcu": 0,
         "label_topology_nbo": 0,
         "label_spacegroup_triclinic": 1,
         "density": 1.3153595698870204,
         "_deepnote_index_column": 68602
        },
        {
         "volume [A^3]": 699.494867,
         "weight [u]": 653.1773599999999,
         "surface_area [m^2/g]": -9999999,
         "metal_linker": 3,
         "organic_linker1": 10,
         "organic_linker2": 24,
         "CO2/N2_selectivity": 15.60473156,
         "heat_adsorption_CO2_P0.15bar_T298K [kcal/mol]": -9999999,
         "_cell_length_a": 7.873026,
         "_cell_length_b": 8.533343,
         "_cell_length_c": 10.481025,
         "_cell_angle_alpha": 92.102205,
         "_cell_angle_beta": 84.853435,
         "_cell_angle_gamma": 93.720456,
         "partial_charge_median": -0.0082,
         "bond_type_countS": 46,
         "bond_type_countA": 8,
         "bond_type_countD": 6,
         "bond_type_countT": 0,
         "bond_type_countAm": 0,
         "void_fraction": 0.2277218997478485,
         "void_volume [cm^3/g]": 0.1468618063071483,
         "label_topology_pcu": 1,
         "label_topology_sra": 0,
         "label_topology_acs": 0,
         "label_topology_etb": 0,
         "label_topology_bcu": 0,
         "label_topology_nbo": 0,
         "label_spacegroup_triclinic": 1,
         "density": 1.5505862652375972,
         "_deepnote_index_column": 68604
        },
        {
         "volume [A^3]": 1508.12951,
         "weight [u]": 1517.382416,
         "surface_area [m^2/g]": -9999999,
         "metal_linker": 10,
         "organic_linker1": 46,
         "organic_linker2": 49,
         "CO2/N2_selectivity": 9.974765376,
         "heat_adsorption_CO2_P0.15bar_T298K [kcal/mol]": -9999999,
         "_cell_length_a": 8.192043,
         "_cell_length_b": 12.637325,
         "_cell_length_c": 15.004478,
         "_cell_angle_alpha": 96.638568,
         "_cell_angle_beta": 97.927285,
         "_cell_angle_gamma": 98.217215,
         "partial_charge_median": 0.042177,
         "bond_type_countS": 122,
         "bond_type_countA": 30,
         "bond_type_countD": 8,
         "bond_type_countT": 0,
         "bond_type_countAm": 0,
         "void_fraction": 0.2544400990009308,
         "void_volume [cm^3/g]": 0.1522929521116896,
         "label_topology_pcu": 0,
         "label_topology_sra": 0,
         "label_topology_acs": 0,
         "label_topology_etb": 1,
         "label_topology_bcu": 0,
         "label_topology_nbo": 0,
         "label_spacegroup_triclinic": 1,
         "density": 1.6707279980647283,
         "_deepnote_index_column": 68605
        },
        {
         "volume [A^3]": 2112.326167,
         "weight [u]": 1977.49208,
         "surface_area [m^2/g]": -9999999,
         "metal_linker": 4,
         "organic_linker1": 14,
         "organic_linker2": 14,
         "CO2/N2_selectivity": 3.233981158,
         "heat_adsorption_CO2_P0.15bar_T298K [kcal/mol]": -9999999,
         "_cell_length_a": 11.334026,
         "_cell_length_b": 11.321874,
         "_cell_length_c": 19.017384,
         "_cell_angle_alpha": 90.070675,
         "_cell_angle_beta": 90.031889,
         "_cell_angle_gamma": 120.050727,
         "partial_charge_median": 0.023913,
         "bond_type_countS": 138,
         "bond_type_countA": 90,
         "bond_type_countD": 0,
         "bond_type_countT": 0,
         "bond_type_countAm": 0,
         "void_fraction": 0.3638685643672943,
         "void_volume [cm^3/g]": 0.2340676645520015,
         "label_topology_pcu": 0,
         "label_topology_sra": 0,
         "label_topology_acs": 1,
         "label_topology_etb": 0,
         "label_topology_bcu": 0,
         "label_topology_nbo": 0,
         "label_spacegroup_triclinic": 1,
         "density": 1.5545443453871675,
         "_deepnote_index_column": 68606
        },
        {
         "volume [A^3]": 1188.302573,
         "weight [u]": 1001.700216,
         "surface_area [m^2/g]": -9999999,
         "metal_linker": 3,
         "organic_linker1": 4,
         "organic_linker2": 24,
         "CO2/N2_selectivity": 24.13177036,
         "heat_adsorption_CO2_P0.15bar_T298K [kcal/mol]": -9999999,
         "_cell_length_a": 10.718161,
         "_cell_length_b": 10.88649,
         "_cell_length_c": 10.19387,
         "_cell_angle_alpha": 90.842269,
         "_cell_angle_beta": 92.241073,
         "_cell_angle_gamma": 90.753457,
         "partial_charge_median": 0.20259,
         "bond_type_countS": 113,
         "bond_type_countA": 20,
         "bond_type_countD": 0,
         "bond_type_countT": 0,
         "bond_type_countAm": 0,
         "void_fraction": 0.2570095062255859,
         "void_volume [cm^3/g]": 0.1836069497359081,
         "label_topology_pcu": 1,
         "label_topology_sra": 0,
         "label_topology_acs": 0,
         "label_topology_etb": 0,
         "label_topology_bcu": 0,
         "label_topology_nbo": 0,
         "label_spacegroup_triclinic": 1,
         "density": 1.3997809265676309,
         "_deepnote_index_column": 68609
        },
        {
         "volume [A^3]": 1506.6603630000002,
         "weight [u]": 1493.2964960000002,
         "surface_area [m^2/g]": -9999999,
         "metal_linker": 10,
         "organic_linker1": 42,
         "organic_linker2": 46,
         "CO2/N2_selectivity": 6.071817778,
         "heat_adsorption_CO2_P0.15bar_T298K [kcal/mol]": -9999999,
         "_cell_length_a": 8.19262,
         "_cell_length_b": 12.57623,
         "_cell_length_c": 15.033794,
         "_cell_angle_alpha": 95.184751,
         "_cell_angle_beta": 99.147187,
         "_cell_angle_gamma": 97.430499,
         "partial_charge_median": 0.0286505,
         "bond_type_countS": 113,
         "bond_type_countA": 23,
         "bond_type_countD": 10,
         "bond_type_countT": 0,
         "bond_type_countAm": 0,
         "void_fraction": 0.01108,
         "void_volume [cm^3/g]": 0.0067322422623574,
         "label_topology_pcu": 0,
         "label_topology_sra": 0,
         "label_topology_acs": 0,
         "label_topology_etb": 1,
         "label_topology_bcu": 0,
         "label_topology_nbo": 0,
         "label_spacegroup_triclinic": 1,
         "density": 1.6458112421106017,
         "_deepnote_index_column": 68610
        },
        {
         "volume [A^3]": 2035.532738,
         "weight [u]": 1959.51832,
         "surface_area [m^2/g]": -9999999,
         "metal_linker": 4,
         "organic_linker1": 14,
         "organic_linker2": 22,
         "CO2/N2_selectivity": 9.876133998,
         "heat_adsorption_CO2_P0.15bar_T298K [kcal/mol]": -9999999,
         "_cell_length_a": 11.237482,
         "_cell_length_b": 11.321902,
         "_cell_length_c": 18.60812,
         "_cell_angle_alpha": 90.200546,
         "_cell_angle_beta": 90.118422,
         "_cell_angle_gamma": 59.292454,
         "partial_charge_median": 0.07563,
         "bond_type_countS": 153,
         "bond_type_countA": 79,
         "bond_type_countD": 0,
         "bond_type_countT": 0,
         "bond_type_countAm": 0,
         "void_fraction": 0.3567799925804138,
         "void_volume [cm^3/g]": 0.2231926630359898,
         "label_topology_pcu": 0,
         "label_topology_sra": 0,
         "label_topology_acs": 1,
         "label_topology_etb": 0,
         "label_topology_bcu": 0,
         "label_topology_nbo": 0,
         "label_spacegroup_triclinic": 1,
         "density": 1.598529215643988,
         "_deepnote_index_column": 68611
        },
        {
         "volume [A^3]": 3985.426053,
         "weight [u]": 3638.67728,
         "surface_area [m^2/g]": -9999999,
         "metal_linker": 4,
         "organic_linker1": 4,
         "organic_linker2": 15,
         "CO2/N2_selectivity": 5.285050632,
         "heat_adsorption_CO2_P0.15bar_T298K [kcal/mol]": 999999,
         "_cell_length_a": 19.396341,
         "_cell_length_b": 11.081428,
         "_cell_length_c": 18.544746,
         "_cell_angle_alpha": 90.467105,
         "_cell_angle_beta": 90.841157,
         "_cell_angle_gamma": 89.911826,
         "partial_charge_median": 0.0299515,
         "bond_type_countS": 282,
         "bond_type_countA": 140,
         "bond_type_countD": 0,
         "bond_type_countT": 0,
         "bond_type_countAm": 0,
         "void_fraction": 0.1334888488054275,
         "void_volume [cm^3/g]": 0.0880494936171006,
         "label_topology_pcu": 0,
         "label_topology_sra": 0,
         "label_topology_acs": 1,
         "label_topology_etb": 0,
         "label_topology_bcu": 0,
         "label_topology_nbo": 0,
         "label_spacegroup_triclinic": 1,
         "density": 1.5160660592317354,
         "_deepnote_index_column": 68612
        },
        {
         "volume [A^3]": 1591.009408,
         "weight [u]": 2071.219,
         "surface_area [m^2/g]": -9999999,
         "metal_linker": 2,
         "organic_linker1": 9,
         "organic_linker2": 16,
         "CO2/N2_selectivity": 2.621271792,
         "heat_adsorption_CO2_P0.15bar_T298K [kcal/mol]": 999999,
         "_cell_length_a": 11.049965,
         "_cell_length_b": 12.474541,
         "_cell_length_c": 13.706241,
         "_cell_angle_alpha": 118.491266,
         "_cell_angle_beta": 73.368234,
         "_cell_angle_gamma": 98.090342,
         "partial_charge_median": 0.1000085,
         "bond_type_countS": 73,
         "bond_type_countA": 58,
         "bond_type_countD": 0,
         "bond_type_countT": 0,
         "bond_type_countAm": 0,
         "void_fraction": 0.01609,
         "void_volume [cm^3/g]": 0.0074430927158947,
         "label_topology_pcu": 1,
         "label_topology_sra": 0,
         "label_topology_acs": 0,
         "label_topology_etb": 0,
         "label_topology_bcu": 0,
         "label_topology_nbo": 0,
         "label_spacegroup_triclinic": 1,
         "density": 2.1617358017910604,
         "_deepnote_index_column": 68613
        }
       ]
      },
      "text/plain": "            volume [A^3]   weight [u]  surface_area [m^2/g]  metal_linker  \\\nUnnamed: 0                                                                  \n1            1116.667429   875.240600           -9999999.00             3   \n2            2769.503842  2211.697211                603.61            10   \n3            1089.818728   773.687960                788.50             2   \n4            2205.198301  1304.638720               1441.53             9   \n5            1137.800963   901.736120           -9999999.00             2   \n...                  ...          ...                   ...           ...   \n68609        1188.302573  1001.700216           -9999999.00             3   \n68610        1506.660363  1493.296496           -9999999.00            10   \n68611        2035.532738  1959.518320           -9999999.00             4   \n68612        3985.426053  3638.677280           -9999999.00             4   \n68613        1591.009408  2071.219000           -9999999.00             2   \n\n            organic_linker1  organic_linker2  CO2/N2_selectivity  \\\nUnnamed: 0                                                         \n1                         4               11           22.864166   \n2                        44               57           33.616780   \n3                        22               24           19.263726   \n4                        17               24           25.701377   \n5                         1               22           30.001838   \n...                     ...              ...                 ...   \n68609                     4               24           24.131770   \n68610                    42               46            6.071818   \n68611                    14               22            9.876134   \n68612                     4               15            5.285051   \n68613                     9               16            2.621272   \n\n            heat_adsorption_CO2_P0.15bar_T298K [kcal/mol]  _cell_length_a  \\\nUnnamed: 0                                                                  \n1                                            6.786041e+00       10.609882   \n2                                            7.147286e+00        8.463295   \n3                                            6.347967e+00       10.732110   \n4                                            6.190085e+00        6.935530   \n5                                            6.478063e+00       10.825925   \n...                                                   ...             ...   \n68609                                       -9.999999e+06       10.718161   \n68610                                       -9.999999e+06        8.192620   \n68611                                       -9.999999e+06       11.237482   \n68612                                        9.999990e+05       19.396341   \n68613                                        9.999990e+05       11.049965   \n\n            _cell_length_b  ...  void_fraction  void_volume [cm^3/g]  \\\nUnnamed: 0                  ...                                        \n1                10.643578  ...       0.078990              0.060700   \n2                17.684225  ...       0.137940              0.104000   \n3                 9.552271  ...       0.148740              0.126200   \n4                17.504896  ...       0.218140              0.222000   \n5                 9.699886  ...       0.077780              0.059100   \n...                    ...  ...            ...                   ...   \n68609            10.886490  ...       0.257010              0.183607   \n68610            12.576230  ...       0.011080              0.006732   \n68611            11.321902  ...       0.356780              0.223193   \n68612            11.081428  ...       0.133489              0.088049   \n68613            12.474541  ...       0.016090              0.007443   \n\n            label_topology_pcu  label_topology_sra  label_topology_acs  \\\nUnnamed: 0                                                               \n1                            1                   0                   0   \n2                            0                   0                   0   \n3                            1                   0                   0   \n4                            0                   1                   0   \n5                            1                   0                   0   \n...                        ...                 ...                 ...   \n68609                        1                   0                   0   \n68610                        0                   0                   0   \n68611                        0                   0                   1   \n68612                        0                   0                   1   \n68613                        1                   0                   0   \n\n            label_topology_etb  label_topology_bcu  label_topology_nbo  \\\nUnnamed: 0                                                               \n1                            0                   0                   0   \n2                            1                   0                   0   \n3                            0                   0                   0   \n4                            0                   0                   0   \n5                            0                   0                   0   \n...                        ...                 ...                 ...   \n68609                        0                   0                   0   \n68610                        1                   0                   0   \n68611                        0                   0                   0   \n68612                        0                   0                   0   \n68613                        0                   0                   0   \n\n            label_spacegroup_triclinic   density  \nUnnamed: 0                                        \n1                                    1  1.301526  \n2                                    1  1.326090  \n3                                    1  1.178856  \n4                                    1  0.982408  \n5                                    1  1.316020  \n...                                ...       ...  \n68609                                1  1.399781  \n68610                                1  1.645811  \n68611                                1  1.598529  \n68612                                1  1.516066  \n68613                                1  2.161736  \n\n[66715 rows x 30 columns]",
      "text/html": "<div>\n<style scoped>\n    .dataframe tbody tr th:only-of-type {\n        vertical-align: middle;\n    }\n\n    .dataframe tbody tr th {\n        vertical-align: top;\n    }\n\n    .dataframe thead th {\n        text-align: right;\n    }\n</style>\n<table border=\"1\" class=\"dataframe\">\n  <thead>\n    <tr style=\"text-align: right;\">\n      <th></th>\n      <th>volume [A^3]</th>\n      <th>weight [u]</th>\n      <th>surface_area [m^2/g]</th>\n      <th>metal_linker</th>\n      <th>organic_linker1</th>\n      <th>organic_linker2</th>\n      <th>CO2/N2_selectivity</th>\n      <th>heat_adsorption_CO2_P0.15bar_T298K [kcal/mol]</th>\n      <th>_cell_length_a</th>\n      <th>_cell_length_b</th>\n      <th>...</th>\n      <th>void_fraction</th>\n      <th>void_volume [cm^3/g]</th>\n      <th>label_topology_pcu</th>\n      <th>label_topology_sra</th>\n      <th>label_topology_acs</th>\n      <th>label_topology_etb</th>\n      <th>label_topology_bcu</th>\n      <th>label_topology_nbo</th>\n      <th>label_spacegroup_triclinic</th>\n      <th>density</th>\n    </tr>\n    <tr>\n      <th>Unnamed: 0</th>\n      <th></th>\n      <th></th>\n      <th></th>\n      <th></th>\n      <th></th>\n      <th></th>\n      <th></th>\n      <th></th>\n      <th></th>\n      <th></th>\n      <th></th>\n      <th></th>\n      <th></th>\n      <th></th>\n      <th></th>\n      <th></th>\n      <th></th>\n      <th></th>\n      <th></th>\n      <th></th>\n      <th></th>\n    </tr>\n  </thead>\n  <tbody>\n    <tr>\n      <th>1</th>\n      <td>1116.667429</td>\n      <td>875.240600</td>\n      <td>-9999999.00</td>\n      <td>3</td>\n      <td>4</td>\n      <td>11</td>\n      <td>22.864166</td>\n      <td>6.786041e+00</td>\n      <td>10.609882</td>\n      <td>10.643578</td>\n      <td>...</td>\n      <td>0.078990</td>\n      <td>0.060700</td>\n      <td>1</td>\n      <td>0</td>\n      <td>0</td>\n      <td>0</td>\n      <td>0</td>\n      <td>0</td>\n      <td>1</td>\n      <td>1.301526</td>\n    </tr>\n    <tr>\n      <th>2</th>\n      <td>2769.503842</td>\n      <td>2211.697211</td>\n      <td>603.61</td>\n      <td>10</td>\n      <td>44</td>\n      <td>57</td>\n      <td>33.616780</td>\n      <td>7.147286e+00</td>\n      <td>8.463295</td>\n      <td>17.684225</td>\n      <td>...</td>\n      <td>0.137940</td>\n      <td>0.104000</td>\n      <td>0</td>\n      <td>0</td>\n      <td>0</td>\n      <td>1</td>\n      <td>0</td>\n      <td>0</td>\n      <td>1</td>\n      <td>1.326090</td>\n    </tr>\n    <tr>\n      <th>3</th>\n      <td>1089.818728</td>\n      <td>773.687960</td>\n      <td>788.50</td>\n      <td>2</td>\n      <td>22</td>\n      <td>24</td>\n      <td>19.263726</td>\n      <td>6.347967e+00</td>\n      <td>10.732110</td>\n      <td>9.552271</td>\n      <td>...</td>\n      <td>0.148740</td>\n      <td>0.126200</td>\n      <td>1</td>\n      <td>0</td>\n      <td>0</td>\n      <td>0</td>\n      <td>0</td>\n      <td>0</td>\n      <td>1</td>\n      <td>1.178856</td>\n    </tr>\n    <tr>\n      <th>4</th>\n      <td>2205.198301</td>\n      <td>1304.638720</td>\n      <td>1441.53</td>\n      <td>9</td>\n      <td>17</td>\n      <td>24</td>\n      <td>25.701377</td>\n      <td>6.190085e+00</td>\n      <td>6.935530</td>\n      <td>17.504896</td>\n      <td>...</td>\n      <td>0.218140</td>\n      <td>0.222000</td>\n      <td>0</td>\n      <td>1</td>\n      <td>0</td>\n      <td>0</td>\n      <td>0</td>\n      <td>0</td>\n      <td>1</td>\n      <td>0.982408</td>\n    </tr>\n    <tr>\n      <th>5</th>\n      <td>1137.800963</td>\n      <td>901.736120</td>\n      <td>-9999999.00</td>\n      <td>2</td>\n      <td>1</td>\n      <td>22</td>\n      <td>30.001838</td>\n      <td>6.478063e+00</td>\n      <td>10.825925</td>\n      <td>9.699886</td>\n      <td>...</td>\n      <td>0.077780</td>\n      <td>0.059100</td>\n      <td>1</td>\n      <td>0</td>\n      <td>0</td>\n      <td>0</td>\n      <td>0</td>\n      <td>0</td>\n      <td>1</td>\n      <td>1.316020</td>\n    </tr>\n    <tr>\n      <th>...</th>\n      <td>...</td>\n      <td>...</td>\n      <td>...</td>\n      <td>...</td>\n      <td>...</td>\n      <td>...</td>\n      <td>...</td>\n      <td>...</td>\n      <td>...</td>\n      <td>...</td>\n      <td>...</td>\n      <td>...</td>\n      <td>...</td>\n      <td>...</td>\n      <td>...</td>\n      <td>...</td>\n      <td>...</td>\n      <td>...</td>\n      <td>...</td>\n      <td>...</td>\n      <td>...</td>\n    </tr>\n    <tr>\n      <th>68609</th>\n      <td>1188.302573</td>\n      <td>1001.700216</td>\n      <td>-9999999.00</td>\n      <td>3</td>\n      <td>4</td>\n      <td>24</td>\n      <td>24.131770</td>\n      <td>-9.999999e+06</td>\n      <td>10.718161</td>\n      <td>10.886490</td>\n      <td>...</td>\n      <td>0.257010</td>\n      <td>0.183607</td>\n      <td>1</td>\n      <td>0</td>\n      <td>0</td>\n      <td>0</td>\n      <td>0</td>\n      <td>0</td>\n      <td>1</td>\n      <td>1.399781</td>\n    </tr>\n    <tr>\n      <th>68610</th>\n      <td>1506.660363</td>\n      <td>1493.296496</td>\n      <td>-9999999.00</td>\n      <td>10</td>\n      <td>42</td>\n      <td>46</td>\n      <td>6.071818</td>\n      <td>-9.999999e+06</td>\n      <td>8.192620</td>\n      <td>12.576230</td>\n      <td>...</td>\n      <td>0.011080</td>\n      <td>0.006732</td>\n      <td>0</td>\n      <td>0</td>\n      <td>0</td>\n      <td>1</td>\n      <td>0</td>\n      <td>0</td>\n      <td>1</td>\n      <td>1.645811</td>\n    </tr>\n    <tr>\n      <th>68611</th>\n      <td>2035.532738</td>\n      <td>1959.518320</td>\n      <td>-9999999.00</td>\n      <td>4</td>\n      <td>14</td>\n      <td>22</td>\n      <td>9.876134</td>\n      <td>-9.999999e+06</td>\n      <td>11.237482</td>\n      <td>11.321902</td>\n      <td>...</td>\n      <td>0.356780</td>\n      <td>0.223193</td>\n      <td>0</td>\n      <td>0</td>\n      <td>1</td>\n      <td>0</td>\n      <td>0</td>\n      <td>0</td>\n      <td>1</td>\n      <td>1.598529</td>\n    </tr>\n    <tr>\n      <th>68612</th>\n      <td>3985.426053</td>\n      <td>3638.677280</td>\n      <td>-9999999.00</td>\n      <td>4</td>\n      <td>4</td>\n      <td>15</td>\n      <td>5.285051</td>\n      <td>9.999990e+05</td>\n      <td>19.396341</td>\n      <td>11.081428</td>\n      <td>...</td>\n      <td>0.133489</td>\n      <td>0.088049</td>\n      <td>0</td>\n      <td>0</td>\n      <td>1</td>\n      <td>0</td>\n      <td>0</td>\n      <td>0</td>\n      <td>1</td>\n      <td>1.516066</td>\n    </tr>\n    <tr>\n      <th>68613</th>\n      <td>1591.009408</td>\n      <td>2071.219000</td>\n      <td>-9999999.00</td>\n      <td>2</td>\n      <td>9</td>\n      <td>16</td>\n      <td>2.621272</td>\n      <td>9.999990e+05</td>\n      <td>11.049965</td>\n      <td>12.474541</td>\n      <td>...</td>\n      <td>0.016090</td>\n      <td>0.007443</td>\n      <td>1</td>\n      <td>0</td>\n      <td>0</td>\n      <td>0</td>\n      <td>0</td>\n      <td>0</td>\n      <td>1</td>\n      <td>2.161736</td>\n    </tr>\n  </tbody>\n</table>\n<p>66715 rows × 30 columns</p>\n</div>"
     },
     "metadata": {}
    }
   ]
  },
  {
   "cell_type": "code",
   "metadata": {
    "tags": [],
    "deepnote_to_be_reexecuted": false,
    "source_hash": "75a4265b",
    "execution_start": 1632510160922,
    "execution_millis": 57,
    "cell_id": "00010-bfa48c79-a9bc-43e4-911b-0961b70edeaf",
    "deepnote_cell_type": "code"
   },
   "source": "test = TestDataPreprocessingPipeline(\n    Pretest,\n    train.imputer,\n    train.functional_group_extractor,\n    train.X.columns\n)\ntest.topology2num = train.topology2num\ntest.spacegroup2num = train.spacegroup2num\ntest.run()",
   "execution_count": null,
   "outputs": [
    {
     "name": "stdout",
     "text": "Print droping and replace null\nImpute\n",
     "output_type": "stream"
    }
   ]
  },
  {
   "cell_type": "code",
   "metadata": {
    "tags": [],
    "deepnote_to_be_reexecuted": false,
    "source_hash": "63a82644",
    "execution_start": 1632510160960,
    "execution_millis": 4,
    "cell_id": "00011-301091f3-3ef0-4aef-902d-5db2f227826e",
    "deepnote_cell_type": "code"
   },
   "source": "assert all(train.X.columns == test.X.columns)",
   "execution_count": null,
   "outputs": []
  },
  {
   "cell_type": "code",
   "metadata": {
    "tags": [],
    "deepnote_to_be_reexecuted": false,
    "source_hash": "a2a5e9c7",
    "execution_start": 1632510160964,
    "execution_millis": 21,
    "cell_id": "00012-5bb16529-ce45-475b-a356-b93dda816071",
    "deepnote_cell_type": "code"
   },
   "source": "len(train.X.columns)",
   "execution_count": null,
   "outputs": [
    {
     "output_type": "execute_result",
     "execution_count": 12,
     "data": {
      "text/plain": "30"
     },
     "metadata": {}
    }
   ]
  },
  {
   "cell_type": "code",
   "metadata": {
    "tags": [],
    "deepnote_to_be_reexecuted": false,
    "source_hash": "1eb937cb",
    "execution_start": 1632510160966,
    "execution_millis": 943,
    "cell_id": "00014-48af69da-a17a-4174-9f89-f7a7aa641acd",
    "deepnote_cell_type": "code"
   },
   "source": "from xgboost import XGBRegressor\nfrom lightgbm import LGBMRegressor\nfrom sklearn.ensemble import (\n    VotingRegressor,\n    StackingRegressor,\n    RandomForestRegressor,\n    GradientBoostingRegressor\n)\nfrom sklearn.linear_model import Lasso",
   "execution_count": null,
   "outputs": []
  },
  {
   "cell_type": "code",
   "metadata": {
    "tags": [],
    "deepnote_to_be_reexecuted": false,
    "source_hash": "95d2fb37",
    "execution_start": 1632510945703,
    "execution_millis": 291387,
    "cell_id": "00015-63b71357-ab80-4f33-a0b0-f76ffa9c6c78",
    "deepnote_cell_type": "code"
   },
   "source": "\n\ndef log_mean_absolute_error(y_true, y_pred):\n    return np.log(mean_absolute_error(y_true, y_pred))\n\n\ndef fit_catboost(X, y):\n    catboost = CatBoostRegressor(\n        iterations=500,\n        verbose=False,\n        # l2_leaf_reg=0.001\n    )\n    catboost.fit(X, y)\n    return catboost\n\n\ndef fit_xgboost(X, y):\n    reg = XGBRegressor()\n    reg.fit(X.values, y.values)\n    return reg\n\n\ndef fit_lightboost(X, y):\n    reg = LGBMRegressor()\n    reg.fit(X.values, y.values)\n    return reg\n\n\ndef fit_voting(X, y):\n    reg = VotingRegressor(\n        [\n            ('cat', CatBoostRegressor(\n                    iterations=500,\n                    grow_policy='Lossguide',\n                    verbose=False,\n                    # l2_leaf_reg=0.001\n                )\n            ),\n            ('xgb', XGBRegressor(grow_policy='lossguide')),\n            # ('gb', GradientBoostingRegressor())\n        ]\n    )\n    reg.fit(X.values, y.values)\n    return reg\n\n\nfit_models = [fit_voting]\nkf = KFold(n_splits=5, shuffle=True, random_state=1234)\n# kf = RepeatedKFold(n_splits=5, n_repeats=10, random_state=1234)\n# kf = RepeatedStratifiedKFold(n_splits=5, n_repeats=10, random_state=1234)\nfit_results = {}\nfor k, (train_index, test_index) in enumerate(kf.split(train.X)):\n    print(f\"K Fold: {k + 1}\")\n    print(\"TRAIN:\", train_index, \"TEST:\", test_index)\n    X_train, X_test = train.X.iloc[train_index], train.X.iloc[test_index]\n    y_train, y_test = train.y.iloc[train_index], train.y.iloc[test_index]\n\n    for fit_model in fit_models:\n        model_name = '_'.join(fit_model.__name__.split('fit_')[1:])\n        if model_name not in fit_results:\n            fit_results[model_name] = []\n\n        model = fit_model(X_train, y_train)\n        train_pred = model.predict(X_train)\n        log_mean_error_train = log_mean_absolute_error(y_train, train_pred)\n\n        # model = fit_model(X_test, y_test)\n        test_pred = model.predict(X_test)\n        log_mean_error_test = log_mean_absolute_error(y_test, test_pred)\n\n        test_pred = pd.DataFrame(\n            test_pred,\n            index= y_test.index,\n            columns=y_test.columns\n        )\n        error_sort = np.abs(y_test - test_pred).sort_values(TARGET, ascending=False)\n        \n\n        print(f\"Log mean error train: {log_mean_error_train}\")\n        print(f\"Log mean error test: {log_mean_error_test}\")\n        print(error_sort.head(10))\n        \n\n        fit_results[model_name].append({\n            'model': model,\n            'log_mean_error_train': log_mean_error_train,\n            'log_mean_error_test': log_mean_error_test\n        })",
   "execution_count": null,
   "outputs": [
    {
     "name": "stdout",
     "text": "K Fold: 1\nTRAIN: [    1     2     3 ... 66712 66713 66714] TEST: [    0     4    13 ... 66699 66708 66711]\nLog mean error train: 2.7891317981801182\nLog mean error test: 2.975818867322161\n            CO2_working_capacity [mL/g]\nUnnamed: 0                             \n28723                        266.765117\n9703                         205.284635\n35888                        182.886156\n11015                        181.345677\n55868                        176.498780\n20510                        171.504807\n55158                        170.783859\n13905                        170.582824\n44212                        168.888997\n62994                        165.184599\nK Fold: 2\nTRAIN: [    0     1     2 ... 66711 66713 66714] TEST: [   18    24    30 ... 66700 66703 66712]\nLog mean error train: 2.7849041701267248\nLog mean error test: 2.9894584623631424\n            CO2_working_capacity [mL/g]\nUnnamed: 0                             \n53863                        228.798167\n47904                        205.317305\n56079                        201.128175\n22322                        195.754946\n30350                        195.017287\n23055                        194.836466\n16767                        190.262468\n36091                        186.669745\n11241                        180.102834\n19232                        174.949436\nK Fold: 3\nTRAIN: [    0     1     3 ... 66712 66713 66714] TEST: [    2     8     9 ... 66689 66695 66710]\nLog mean error train: 2.780751040950762\nLog mean error test: 2.9875348387058738\n            CO2_working_capacity [mL/g]\nUnnamed: 0                             \n47409                        194.624506\n29603                        179.418380\n38977                        169.851722\n50730                        165.099388\n27842                        163.012432\n47659                        158.934626\n34819                        153.147021\n36291                        151.617223\n28399                        147.471615\n21917                        147.291587\nK Fold: 4\nTRAIN: [    0     2     3 ... 66711 66712 66713] TEST: [    1     5     6 ... 66705 66709 66714]\nLog mean error train: 2.7745886434578733\nLog mean error test: 3.0140848026895264\n            CO2_working_capacity [mL/g]\nUnnamed: 0                             \n52239                        273.639276\n45490                        211.580567\n10055                        194.123633\n58858                        182.272903\n59446                        177.551165\n56936                        169.398004\n21424                        163.015398\n11835                        159.156750\n32591                        156.429819\n3360                         147.260711\nK Fold: 5\nTRAIN: [    0     1     2 ... 66711 66712 66714] TEST: [    3    10    16 ... 66706 66707 66713]\nLog mean error train: 2.769822439654094\nLog mean error test: 3.005639748821206\n            CO2_working_capacity [mL/g]\nUnnamed: 0                             \n16576                        186.231559\n57840                        184.991659\n24424                        182.969848\n19039                        179.948885\n36831                        174.385841\n21364                        165.898328\n4442                         164.281057\n1746                         161.764617\n55357                        157.018882\n49024                        155.050531\n",
     "output_type": "stream"
    }
   ]
  },
  {
   "cell_type": "code",
   "metadata": {
    "tags": [],
    "deepnote_to_be_reexecuted": false,
    "source_hash": "89e759e0",
    "execution_start": 1632511359345,
    "execution_millis": 8,
    "cell_id": "00016-8b384511-1935-4d3c-9c7f-746889edc4aa",
    "deepnote_cell_type": "code"
   },
   "source": "\"\"\"\nfuncgroup2num = {c: i for i, c in enumerate(train['functional_groups'].unique())}\ntopology2num = {c: i for i, c in enumerate(train['topology'].unique())}\nspacegroup2num = {c: i for i, c in enumerate(train['_space_group_crystal_system'].unique())}\n\ntrain['label_funcgroup'] = train['functional_groups'].map(funcgroup2num)\ntrain['label_topology'] = train['topology'].map(topology2num)\ntrain['label_spacegroup'] = train['_space_group_crystal_system'].map(spacegroup2num)\n\"\"\"",
   "execution_count": null,
   "outputs": [
    {
     "output_type": "execute_result",
     "execution_count": 36,
     "data": {
      "text/plain": "\"\\nfuncgroup2num = {c: i for i, c in enumerate(train['functional_groups'].unique())}\\ntopology2num = {c: i for i, c in enumerate(train['topology'].unique())}\\nspacegroup2num = {c: i for i, c in enumerate(train['_space_group_crystal_system'].unique())}\\n\\ntrain['label_funcgroup'] = train['functional_groups'].map(funcgroup2num)\\ntrain['label_topology'] = train['topology'].map(topology2num)\\ntrain['label_spacegroup'] = train['_space_group_crystal_system'].map(spacegroup2num)\\n\""
     },
     "metadata": {}
    }
   ]
  },
  {
   "cell_type": "code",
   "metadata": {
    "tags": [],
    "deepnote_to_be_reexecuted": false,
    "source_hash": "6f67b56c",
    "execution_start": 1632511359346,
    "execution_millis": 7,
    "cell_id": "00017-7266ab68-be8d-4c86-bc23-9dbe576ab7e1",
    "deepnote_cell_type": "code"
   },
   "source": "np.mean([score['log_mean_error_test'] for score in fit_results['voting']])",
   "execution_count": null,
   "outputs": [
    {
     "output_type": "execute_result",
     "execution_count": 37,
     "data": {
      "text/plain": "2.9945073439803815"
     },
     "metadata": {}
    }
   ]
  },
  {
   "cell_type": "code",
   "metadata": {
    "tags": [],
    "deepnote_to_be_reexecuted": false,
    "source_hash": "54cec781",
    "execution_start": 1632511359347,
    "execution_millis": 38,
    "cell_id": "00018-d9cd394b-49cc-43b9-b654-642839889dd5",
    "deepnote_cell_type": "code"
   },
   "source": "np.std([score['log_mean_error_test'] for score in fit_results['voting']])",
   "execution_count": null,
   "outputs": [
    {
     "output_type": "execute_result",
     "execution_count": 38,
     "data": {
      "text/plain": "0.013642386317950879"
     },
     "metadata": {}
    }
   ]
  },
  {
   "cell_type": "code",
   "metadata": {
    "tags": [],
    "deepnote_to_be_reexecuted": false,
    "source_hash": "fc853f7e",
    "execution_start": 1632511359371,
    "execution_millis": 0,
    "cell_id": "00019-fb5cf751-4977-4404-bbb8-5bfc79e00870",
    "deepnote_cell_type": "code"
   },
   "source": "test_pred = pd.DataFrame(test_pred, index= y_test.index, columns=y_test.columns)\nerror_sort = np.abs(y_test - test_pred).sort_values(TARGET, ascending=False)",
   "execution_count": null,
   "outputs": []
  },
  {
   "cell_type": "code",
   "metadata": {
    "tags": [],
    "deepnote_to_be_reexecuted": false,
    "source_hash": "b623e53d",
    "execution_start": 1632511359371,
    "execution_millis": 1,
    "cell_id": "00020-0fddfa2b-e610-4b76-aed0-c5d6db4f8035",
    "deepnote_cell_type": "code"
   },
   "source": "",
   "execution_count": null,
   "outputs": []
  },
  {
   "cell_type": "code",
   "metadata": {
    "tags": [],
    "deepnote_to_be_reexecuted": false,
    "source_hash": "94998eda",
    "execution_start": 1632511359372,
    "execution_millis": 154,
    "cell_id": "00021-813ad1eb-0c70-487f-9424-e40bf87eada3",
    "deepnote_cell_type": "code"
   },
   "source": "Train.loc[error_sort.index].head(500).mean()",
   "execution_count": null,
   "outputs": [
    {
     "output_type": "execute_result",
     "execution_count": 40,
     "data": {
      "text/plain": "volume [A^3]                                     2.272474e+03\nweight [u]                                       1.493163e+03\nsurface_area [m^2/g]                             6.800387e+02\nmetal_linker                                     4.896000e+00\norganic_linker1                                  1.023400e+01\norganic_linker2                                  1.844200e+01\nCO2/N2_selectivity                               5.143143e+01\nheat_adsorption_CO2_P0.15bar_T298K [kcal/mol]    7.440457e+00\n_symmetry_Int_Tables_number                      1.000000e+00\n_cell_length_a                                   1.363911e+01\n_cell_length_b                                   1.187266e+01\n_cell_length_c                                   1.522640e+01\n_cell_angle_alpha                                9.124762e+01\n_cell_angle_beta                                 9.208854e+01\n_cell_angle_gamma                                9.130844e+01\n_cell_volume                                     2.272474e+03\npartial_charge_mean                             -6.154330e-10\npartial_charge_median                            3.619742e-02\npartial_charge_std                               4.127548e-01\nbond_type_countS                                 8.690000e+01\nbond_type_countA                                 5.960600e+01\nbond_type_countD                                 3.974000e+00\nbond_type_countT                                 9.560000e-01\nbond_type_countAm                                1.440000e-01\nCO2_working_capacity [mL/g]                      2.454832e+02\nvoid_fraction                                    1.569154e-01\nvoid_volume [cm^3/g]                             1.539807e-01\nLMAE                                             9.253693e+01\nprediction                                       2.343664e+02\ndtype: float64"
     },
     "metadata": {}
    }
   ]
  },
  {
   "cell_type": "code",
   "metadata": {
    "tags": [],
    "deepnote_to_be_reexecuted": false,
    "source_hash": "373521d2",
    "execution_start": 1632511359419,
    "execution_millis": 0,
    "cell_id": "00022-568daa2c-a721-4070-9c27-189f372feac0",
    "deepnote_cell_type": "code"
   },
   "source": "error_train = Train.loc[error_sort.index]\nTrain[\"LMAE\"] = error_sort.iloc[:, 0]\nTrain[\"prediction\"] = test_pred.iloc[:, 0]",
   "execution_count": null,
   "outputs": []
  },
  {
   "cell_type": "code",
   "metadata": {
    "tags": [],
    "deepnote_to_be_reexecuted": false,
    "source_hash": "d5dc3a80",
    "execution_start": 1632511359419,
    "execution_millis": 602,
    "cell_id": "00023-9cb0b1be-66f3-492e-ad8b-294e6f6ce044",
    "deepnote_cell_type": "code"
   },
   "source": "Train.loc[error_sort.index].to_csv(\"error_train.csv\")",
   "execution_count": null,
   "outputs": []
  },
  {
   "cell_type": "code",
   "metadata": {
    "tags": [],
    "deepnote_to_be_reexecuted": false,
    "source_hash": "acbdf18d",
    "execution_start": 1632511360028,
    "execution_millis": 44,
    "cell_id": "00024-fac7a9ad-7c58-4929-af3c-0d86fe4e4adc",
    "deepnote_cell_type": "code"
   },
   "source": "Train.loc[error_sort.index].tail(500).mean()",
   "execution_count": null,
   "outputs": [
    {
     "output_type": "execute_result",
     "execution_count": 43,
     "data": {
      "text/plain": "volume [A^3]                                     6.264446e+03\nweight [u]                                       1.921994e+03\nsurface_area [m^2/g]                             2.823862e+03\nmetal_linker                                     3.388000e+00\norganic_linker1                                  1.110200e+01\norganic_linker2                                  2.039600e+01\nCO2/N2_selectivity                               1.540580e+01\nheat_adsorption_CO2_P0.15bar_T298K [kcal/mol]    4.824315e+00\n_symmetry_Int_Tables_number                      1.000000e+00\n_cell_length_a                                   1.725140e+01\n_cell_length_b                                   1.649214e+01\n_cell_length_c                                   1.796945e+01\n_cell_angle_alpha                                9.258016e+01\n_cell_angle_beta                                 9.425136e+01\n_cell_angle_gamma                                9.263996e+01\n_cell_volume                                     6.264446e+03\npartial_charge_mean                              1.437830e-09\npartial_charge_median                            2.396770e-02\npartial_charge_std                               4.095224e-01\nbond_type_countS                                 1.064480e+02\nbond_type_countA                                 6.534600e+01\nbond_type_countD                                 3.626000e+00\nbond_type_countT                                 3.372000e+00\nbond_type_countAm                                6.400000e-02\nCO2_working_capacity [mL/g]                      6.613979e+01\nvoid_fraction                                    4.122702e-01\nvoid_volume [cm^3/g]                             8.358679e-01\nLMAE                                             3.195485e-01\nprediction                                       6.611829e+01\ndtype: float64"
     },
     "metadata": {}
    }
   ]
  },
  {
   "cell_type": "code",
   "metadata": {
    "tags": [],
    "deepnote_to_be_reexecuted": false,
    "source_hash": "fe6523d9",
    "execution_start": 1632511360046,
    "execution_millis": 0,
    "cell_id": "00025-f96fcab8-66cd-40a5-8987-e75a90232553",
    "deepnote_cell_type": "code"
   },
   "source": "# train_prediction = .predict(X)",
   "execution_count": null,
   "outputs": []
  },
  {
   "cell_type": "code",
   "metadata": {
    "tags": [],
    "deepnote_to_be_reexecuted": false,
    "source_hash": "b0c387f5",
    "execution_start": 1632511360046,
    "execution_millis": 1,
    "cell_id": "00026-5453fb00-bc72-49b9-bbc4-058c0d87c4c0",
    "deepnote_cell_type": "code"
   },
   "source": "# np.log(mean_absolute_error(train_prediction, y))",
   "execution_count": null,
   "outputs": []
  },
  {
   "cell_type": "code",
   "metadata": {
    "tags": [],
    "deepnote_to_be_reexecuted": false,
    "source_hash": "fe1547a",
    "execution_start": 1632511360048,
    "execution_millis": 3,
    "cell_id": "00027-96f79f73-2c1e-4555-97eb-a2ec02f80645",
    "deepnote_cell_type": "code"
   },
   "source": "# feature_importances = pd.DataFrame(catboost.feature_importances_)\n# feature_importances.index = Train.drop(TARGET, axis=1).columns",
   "execution_count": null,
   "outputs": []
  },
  {
   "cell_type": "code",
   "metadata": {
    "tags": [],
    "deepnote_to_be_reexecuted": false,
    "source_hash": "1898d942",
    "execution_start": 1632511360052,
    "execution_millis": 1,
    "cell_id": "00028-4dfae409-2857-424d-9992-5a5eaf31b53b",
    "deepnote_cell_type": "code"
   },
   "source": "# feature_importances.sort_values(by=0, ascending=False)",
   "execution_count": null,
   "outputs": []
  },
  {
   "cell_type": "code",
   "metadata": {
    "tags": [],
    "deepnote_to_be_reexecuted": false,
    "source_hash": "ee960895",
    "execution_start": 1632511360056,
    "execution_millis": 1,
    "cell_id": "00029-120ade94-4593-4f62-b112-f99a6700e4a4",
    "deepnote_cell_type": "code"
   },
   "source": "# feature_importances[0].nlargest(20).plot(kind='barh')",
   "execution_count": null,
   "outputs": []
  },
  {
   "cell_type": "code",
   "metadata": {
    "tags": [],
    "deepnote_to_be_reexecuted": false,
    "source_hash": "ac13f7e0",
    "execution_start": 1632511360060,
    "execution_millis": 1,
    "cell_id": "00030-aa45ae30-90e7-491d-8dfb-5cb1f4615a20",
    "deepnote_cell_type": "code"
   },
   "source": "# feature_importances[0].nlargest(20).index",
   "execution_count": null,
   "outputs": []
  },
  {
   "cell_type": "code",
   "metadata": {
    "tags": [],
    "deepnote_to_be_reexecuted": false,
    "source_hash": "b623e53d",
    "execution_start": 1632511360062,
    "execution_millis": 1,
    "cell_id": "00031-7b0a97a7-af5a-4084-882e-37a7c3467aa1",
    "deepnote_cell_type": "code"
   },
   "source": "",
   "execution_count": null,
   "outputs": []
  },
  {
   "cell_type": "code",
   "metadata": {
    "tags": [],
    "deepnote_to_be_reexecuted": false,
    "source_hash": "fde06972",
    "execution_start": 1632511360066,
    "execution_millis": 76,
    "cell_id": "00032-36acb3ae-59ea-48a9-9f07-cfe8be5734c5",
    "deepnote_cell_type": "code"
   },
   "source": "sub = np.mean(\n    [model['model'].predict(test.X) for model in fit_results['voting']],\n    axis=0\n)",
   "execution_count": null,
   "outputs": []
  },
  {
   "cell_type": "code",
   "metadata": {
    "tags": [],
    "deepnote_to_be_reexecuted": false,
    "source_hash": "edbc753e",
    "execution_start": 1632511360184,
    "execution_millis": 0,
    "cell_id": "00033-99115126-74c8-4c7a-819e-567bd94ea0f9",
    "deepnote_cell_type": "code"
   },
   "source": "sub = pd.DataFrame(sub)",
   "execution_count": null,
   "outputs": []
  },
  {
   "cell_type": "code",
   "metadata": {
    "tags": [],
    "deepnote_to_be_reexecuted": false,
    "source_hash": "b867ab08",
    "execution_start": 1632511360185,
    "execution_millis": 0,
    "cell_id": "00034-fe2bf9b1-3895-4788-bb13-fe574a9a3c73",
    "deepnote_cell_type": "code"
   },
   "source": "# Pretest = pd.read_csv(f\"{PREPROCESSING_PATH}/pretest_merged_CIF/Pretest.csv\")\n# Pretest = Pretest.set_index(Pretest.columns[0])\nsub.index = \"pretest_\" + pd.Index(range(1, sub.shape[0] + 1)).astype(str)\nsub.index = sub.index.set_names('id')\nsub.columns = ['CO2_working_capacity [mL/g]']",
   "execution_count": null,
   "outputs": []
  },
  {
   "cell_type": "code",
   "metadata": {
    "tags": [],
    "deepnote_to_be_reexecuted": false,
    "source_hash": "d977bc2a",
    "execution_start": 1632511360186,
    "execution_millis": 26,
    "cell_id": "00035-b69d7e39-8106-4342-b802-c0c1a8b1343e",
    "deepnote_cell_type": "code"
   },
   "source": "sub",
   "execution_count": null,
   "outputs": [
    {
     "output_type": "execute_result",
     "execution_count": 53,
     "data": {
      "application/vnd.deepnote.dataframe.v2+json": {
       "row_count": 2000,
       "column_count": 1,
       "columns": [
        {
         "name": "CO2_working_capacity [mL/g]",
         "dtype": "float64",
         "stats": {
          "unique_count": 2000,
          "nan_count": 0,
          "min": "-14.07616591862502",
          "max": "519.2828518019063",
          "histogram": [
           {
            "bin_start": -14.07616591862502,
            "bin_end": 39.25973585342811,
            "count": 492
           },
           {
            "bin_start": 39.25973585342811,
            "bin_end": 92.59563762548125,
            "count": 590
           },
           {
            "bin_start": 92.59563762548125,
            "bin_end": 145.93153939753438,
            "count": 422
           },
           {
            "bin_start": 145.93153939753438,
            "bin_end": 199.26744116958753,
            "count": 220
           },
           {
            "bin_start": 199.26744116958753,
            "bin_end": 252.60334294164068,
            "count": 142
           },
           {
            "bin_start": 252.60334294164068,
            "bin_end": 305.93924471369377,
            "count": 72
           },
           {
            "bin_start": 305.93924471369377,
            "bin_end": 359.2751464857469,
            "count": 30
           },
           {
            "bin_start": 359.2751464857469,
            "bin_end": 412.61104825780006,
            "count": 15
           },
           {
            "bin_start": 412.61104825780006,
            "bin_end": 465.9469500298532,
            "count": 10
           },
           {
            "bin_start": 465.9469500298532,
            "bin_end": 519.2828518019063,
            "count": 7
           }
          ]
         }
        },
        {
         "name": "_deepnote_index_column",
         "dtype": "object"
        }
       ],
       "rows_top": [
        {
         "CO2_working_capacity [mL/g]": 103.46633019676703,
         "_deepnote_index_column": "pretest_1"
        },
        {
         "CO2_working_capacity [mL/g]": 123.23510148727401,
         "_deepnote_index_column": "pretest_2"
        },
        {
         "CO2_working_capacity [mL/g]": 192.2070031769956,
         "_deepnote_index_column": "pretest_3"
        },
        {
         "CO2_working_capacity [mL/g]": 65.54255701224301,
         "_deepnote_index_column": "pretest_4"
        },
        {
         "CO2_working_capacity [mL/g]": 95.88432286527505,
         "_deepnote_index_column": "pretest_5"
        },
        {
         "CO2_working_capacity [mL/g]": 374.1746553720751,
         "_deepnote_index_column": "pretest_6"
        },
        {
         "CO2_working_capacity [mL/g]": 111.74363885393117,
         "_deepnote_index_column": "pretest_7"
        },
        {
         "CO2_working_capacity [mL/g]": 83.68986324611383,
         "_deepnote_index_column": "pretest_8"
        },
        {
         "CO2_working_capacity [mL/g]": 84.37345418082438,
         "_deepnote_index_column": "pretest_9"
        },
        {
         "CO2_working_capacity [mL/g]": 496.5634195816302,
         "_deepnote_index_column": "pretest_10"
        },
        {
         "CO2_working_capacity [mL/g]": 205.37909277978483,
         "_deepnote_index_column": "pretest_11"
        },
        {
         "CO2_working_capacity [mL/g]": 217.80398165688453,
         "_deepnote_index_column": "pretest_12"
        },
        {
         "CO2_working_capacity [mL/g]": 82.4720029540218,
         "_deepnote_index_column": "pretest_13"
        },
        {
         "CO2_working_capacity [mL/g]": 264.4899468916785,
         "_deepnote_index_column": "pretest_14"
        },
        {
         "CO2_working_capacity [mL/g]": 251.96978309086808,
         "_deepnote_index_column": "pretest_15"
        },
        {
         "CO2_working_capacity [mL/g]": 75.66527554208709,
         "_deepnote_index_column": "pretest_16"
        },
        {
         "CO2_working_capacity [mL/g]": 58.98290649200269,
         "_deepnote_index_column": "pretest_17"
        },
        {
         "CO2_working_capacity [mL/g]": 61.81020675800629,
         "_deepnote_index_column": "pretest_18"
        },
        {
         "CO2_working_capacity [mL/g]": 71.90809520157242,
         "_deepnote_index_column": "pretest_19"
        },
        {
         "CO2_working_capacity [mL/g]": 159.79527516878858,
         "_deepnote_index_column": "pretest_20"
        },
        {
         "CO2_working_capacity [mL/g]": 51.23404239590592,
         "_deepnote_index_column": "pretest_21"
        },
        {
         "CO2_working_capacity [mL/g]": 198.29501399019395,
         "_deepnote_index_column": "pretest_22"
        },
        {
         "CO2_working_capacity [mL/g]": 160.61014744070002,
         "_deepnote_index_column": "pretest_23"
        },
        {
         "CO2_working_capacity [mL/g]": 124.01927182674612,
         "_deepnote_index_column": "pretest_24"
        },
        {
         "CO2_working_capacity [mL/g]": 162.71673945792003,
         "_deepnote_index_column": "pretest_25"
        },
        {
         "CO2_working_capacity [mL/g]": 216.0849556424957,
         "_deepnote_index_column": "pretest_26"
        },
        {
         "CO2_working_capacity [mL/g]": 80.19993018447227,
         "_deepnote_index_column": "pretest_27"
        },
        {
         "CO2_working_capacity [mL/g]": 106.28302672010686,
         "_deepnote_index_column": "pretest_28"
        },
        {
         "CO2_working_capacity [mL/g]": 62.01104494077604,
         "_deepnote_index_column": "pretest_29"
        },
        {
         "CO2_working_capacity [mL/g]": 143.42667832638284,
         "_deepnote_index_column": "pretest_30"
        },
        {
         "CO2_working_capacity [mL/g]": 172.90488340785328,
         "_deepnote_index_column": "pretest_31"
        },
        {
         "CO2_working_capacity [mL/g]": 68.19820533812961,
         "_deepnote_index_column": "pretest_32"
        },
        {
         "CO2_working_capacity [mL/g]": 109.14261597855143,
         "_deepnote_index_column": "pretest_33"
        },
        {
         "CO2_working_capacity [mL/g]": 66.8747322111835,
         "_deepnote_index_column": "pretest_34"
        },
        {
         "CO2_working_capacity [mL/g]": 115.32717232783205,
         "_deepnote_index_column": "pretest_35"
        },
        {
         "CO2_working_capacity [mL/g]": 86.90917497228489,
         "_deepnote_index_column": "pretest_36"
        },
        {
         "CO2_working_capacity [mL/g]": 80.67418504099085,
         "_deepnote_index_column": "pretest_37"
        },
        {
         "CO2_working_capacity [mL/g]": 68.18178383145055,
         "_deepnote_index_column": "pretest_38"
        },
        {
         "CO2_working_capacity [mL/g]": 109.63964314311178,
         "_deepnote_index_column": "pretest_39"
        },
        {
         "CO2_working_capacity [mL/g]": 129.88669794707954,
         "_deepnote_index_column": "pretest_40"
        },
        {
         "CO2_working_capacity [mL/g]": 89.16012184628286,
         "_deepnote_index_column": "pretest_41"
        },
        {
         "CO2_working_capacity [mL/g]": 267.10132613838607,
         "_deepnote_index_column": "pretest_42"
        },
        {
         "CO2_working_capacity [mL/g]": 79.81808779637693,
         "_deepnote_index_column": "pretest_43"
        },
        {
         "CO2_working_capacity [mL/g]": 196.24522343474092,
         "_deepnote_index_column": "pretest_44"
        },
        {
         "CO2_working_capacity [mL/g]": 152.87047651713544,
         "_deepnote_index_column": "pretest_45"
        },
        {
         "CO2_working_capacity [mL/g]": 119.49667906771265,
         "_deepnote_index_column": "pretest_46"
        },
        {
         "CO2_working_capacity [mL/g]": 82.44438140026539,
         "_deepnote_index_column": "pretest_47"
        },
        {
         "CO2_working_capacity [mL/g]": 152.27706162214324,
         "_deepnote_index_column": "pretest_48"
        },
        {
         "CO2_working_capacity [mL/g]": 171.7050376022247,
         "_deepnote_index_column": "pretest_49"
        },
        {
         "CO2_working_capacity [mL/g]": 52.818489013927504,
         "_deepnote_index_column": "pretest_50"
        },
        {
         "CO2_working_capacity [mL/g]": 123.91019533509525,
         "_deepnote_index_column": "pretest_51"
        },
        {
         "CO2_working_capacity [mL/g]": 92.5281055165244,
         "_deepnote_index_column": "pretest_52"
        },
        {
         "CO2_working_capacity [mL/g]": 80.72265898486026,
         "_deepnote_index_column": "pretest_53"
        },
        {
         "CO2_working_capacity [mL/g]": 156.40451576490466,
         "_deepnote_index_column": "pretest_54"
        },
        {
         "CO2_working_capacity [mL/g]": 111.97623818830168,
         "_deepnote_index_column": "pretest_55"
        },
        {
         "CO2_working_capacity [mL/g]": 64.96591520213278,
         "_deepnote_index_column": "pretest_56"
        },
        {
         "CO2_working_capacity [mL/g]": 72.06734552442565,
         "_deepnote_index_column": "pretest_57"
        },
        {
         "CO2_working_capacity [mL/g]": 103.53834719594525,
         "_deepnote_index_column": "pretest_58"
        },
        {
         "CO2_working_capacity [mL/g]": 200.46585880942288,
         "_deepnote_index_column": "pretest_59"
        },
        {
         "CO2_working_capacity [mL/g]": 91.44571141592844,
         "_deepnote_index_column": "pretest_60"
        },
        {
         "CO2_working_capacity [mL/g]": 300.3558160236843,
         "_deepnote_index_column": "pretest_61"
        },
        {
         "CO2_working_capacity [mL/g]": 90.09866244972704,
         "_deepnote_index_column": "pretest_62"
        },
        {
         "CO2_working_capacity [mL/g]": 82.36607085417384,
         "_deepnote_index_column": "pretest_63"
        },
        {
         "CO2_working_capacity [mL/g]": 145.75604917316906,
         "_deepnote_index_column": "pretest_64"
        },
        {
         "CO2_working_capacity [mL/g]": 80.0923323660293,
         "_deepnote_index_column": "pretest_65"
        },
        {
         "CO2_working_capacity [mL/g]": 151.2932179783909,
         "_deepnote_index_column": "pretest_66"
        },
        {
         "CO2_working_capacity [mL/g]": 137.73067980596863,
         "_deepnote_index_column": "pretest_67"
        },
        {
         "CO2_working_capacity [mL/g]": 151.21143405206672,
         "_deepnote_index_column": "pretest_68"
        },
        {
         "CO2_working_capacity [mL/g]": 210.24499338420318,
         "_deepnote_index_column": "pretest_69"
        },
        {
         "CO2_working_capacity [mL/g]": 75.50920288100235,
         "_deepnote_index_column": "pretest_70"
        },
        {
         "CO2_working_capacity [mL/g]": 317.14231090404064,
         "_deepnote_index_column": "pretest_71"
        },
        {
         "CO2_working_capacity [mL/g]": 203.69478859868636,
         "_deepnote_index_column": "pretest_72"
        },
        {
         "CO2_working_capacity [mL/g]": 66.73168520568002,
         "_deepnote_index_column": "pretest_73"
        },
        {
         "CO2_working_capacity [mL/g]": 206.5431721818264,
         "_deepnote_index_column": "pretest_74"
        },
        {
         "CO2_working_capacity [mL/g]": 232.71677089781133,
         "_deepnote_index_column": "pretest_75"
        },
        {
         "CO2_working_capacity [mL/g]": 163.034881911579,
         "_deepnote_index_column": "pretest_76"
        },
        {
         "CO2_working_capacity [mL/g]": 183.23988690384863,
         "_deepnote_index_column": "pretest_77"
        },
        {
         "CO2_working_capacity [mL/g]": 118.80661172799917,
         "_deepnote_index_column": "pretest_78"
        },
        {
         "CO2_working_capacity [mL/g]": 88.01292523079162,
         "_deepnote_index_column": "pretest_79"
        },
        {
         "CO2_working_capacity [mL/g]": 117.47189548104143,
         "_deepnote_index_column": "pretest_80"
        },
        {
         "CO2_working_capacity [mL/g]": 108.15102971775275,
         "_deepnote_index_column": "pretest_81"
        },
        {
         "CO2_working_capacity [mL/g]": 169.6522956313684,
         "_deepnote_index_column": "pretest_82"
        },
        {
         "CO2_working_capacity [mL/g]": 88.76105212259559,
         "_deepnote_index_column": "pretest_83"
        },
        {
         "CO2_working_capacity [mL/g]": 256.9444661134461,
         "_deepnote_index_column": "pretest_84"
        },
        {
         "CO2_working_capacity [mL/g]": 77.05609618240511,
         "_deepnote_index_column": "pretest_85"
        },
        {
         "CO2_working_capacity [mL/g]": 68.9640985921285,
         "_deepnote_index_column": "pretest_86"
        },
        {
         "CO2_working_capacity [mL/g]": 111.1700879499444,
         "_deepnote_index_column": "pretest_87"
        },
        {
         "CO2_working_capacity [mL/g]": 127.64030150056219,
         "_deepnote_index_column": "pretest_88"
        },
        {
         "CO2_working_capacity [mL/g]": 90.5382106510525,
         "_deepnote_index_column": "pretest_89"
        },
        {
         "CO2_working_capacity [mL/g]": 216.6432081153999,
         "_deepnote_index_column": "pretest_90"
        },
        {
         "CO2_working_capacity [mL/g]": 95.83024482013461,
         "_deepnote_index_column": "pretest_91"
        },
        {
         "CO2_working_capacity [mL/g]": 194.8489731234618,
         "_deepnote_index_column": "pretest_92"
        },
        {
         "CO2_working_capacity [mL/g]": 111.26530109899065,
         "_deepnote_index_column": "pretest_93"
        },
        {
         "CO2_working_capacity [mL/g]": 189.81216497903267,
         "_deepnote_index_column": "pretest_94"
        },
        {
         "CO2_working_capacity [mL/g]": 79.79558379320545,
         "_deepnote_index_column": "pretest_95"
        },
        {
         "CO2_working_capacity [mL/g]": 178.62978755735236,
         "_deepnote_index_column": "pretest_96"
        },
        {
         "CO2_working_capacity [mL/g]": 66.449798691532,
         "_deepnote_index_column": "pretest_97"
        },
        {
         "CO2_working_capacity [mL/g]": 86.26762548022762,
         "_deepnote_index_column": "pretest_98"
        },
        {
         "CO2_working_capacity [mL/g]": 178.6861709018555,
         "_deepnote_index_column": "pretest_99"
        },
        {
         "CO2_working_capacity [mL/g]": 72.13323580273098,
         "_deepnote_index_column": "pretest_100"
        },
        {
         "CO2_working_capacity [mL/g]": 78.9167822113408,
         "_deepnote_index_column": "pretest_101"
        },
        {
         "CO2_working_capacity [mL/g]": 99.82452976099735,
         "_deepnote_index_column": "pretest_102"
        },
        {
         "CO2_working_capacity [mL/g]": 90.56059577444019,
         "_deepnote_index_column": "pretest_103"
        },
        {
         "CO2_working_capacity [mL/g]": 131.50264720139518,
         "_deepnote_index_column": "pretest_104"
        },
        {
         "CO2_working_capacity [mL/g]": 77.24012216784152,
         "_deepnote_index_column": "pretest_105"
        },
        {
         "CO2_working_capacity [mL/g]": 92.9784636106645,
         "_deepnote_index_column": "pretest_106"
        },
        {
         "CO2_working_capacity [mL/g]": 96.259944132052,
         "_deepnote_index_column": "pretest_107"
        },
        {
         "CO2_working_capacity [mL/g]": 224.45054077410904,
         "_deepnote_index_column": "pretest_108"
        },
        {
         "CO2_working_capacity [mL/g]": 74.54066420482847,
         "_deepnote_index_column": "pretest_109"
        },
        {
         "CO2_working_capacity [mL/g]": 92.31550386569985,
         "_deepnote_index_column": "pretest_110"
        },
        {
         "CO2_working_capacity [mL/g]": 85.20053901097783,
         "_deepnote_index_column": "pretest_111"
        },
        {
         "CO2_working_capacity [mL/g]": 163.2819950743122,
         "_deepnote_index_column": "pretest_112"
        },
        {
         "CO2_working_capacity [mL/g]": 230.1771704485502,
         "_deepnote_index_column": "pretest_113"
        },
        {
         "CO2_working_capacity [mL/g]": 77.14733871021562,
         "_deepnote_index_column": "pretest_114"
        },
        {
         "CO2_working_capacity [mL/g]": 97.86863997439943,
         "_deepnote_index_column": "pretest_115"
        },
        {
         "CO2_working_capacity [mL/g]": 43.377710892289585,
         "_deepnote_index_column": "pretest_116"
        },
        {
         "CO2_working_capacity [mL/g]": 128.673360596313,
         "_deepnote_index_column": "pretest_117"
        },
        {
         "CO2_working_capacity [mL/g]": 105.64178403535752,
         "_deepnote_index_column": "pretest_118"
        },
        {
         "CO2_working_capacity [mL/g]": 264.4606997603845,
         "_deepnote_index_column": "pretest_119"
        },
        {
         "CO2_working_capacity [mL/g]": 103.20835190853518,
         "_deepnote_index_column": "pretest_120"
        },
        {
         "CO2_working_capacity [mL/g]": 67.00255337191894,
         "_deepnote_index_column": "pretest_121"
        },
        {
         "CO2_working_capacity [mL/g]": 111.69297751692088,
         "_deepnote_index_column": "pretest_122"
        },
        {
         "CO2_working_capacity [mL/g]": 122.31094427542766,
         "_deepnote_index_column": "pretest_123"
        },
        {
         "CO2_working_capacity [mL/g]": 104.53767608342173,
         "_deepnote_index_column": "pretest_124"
        },
        {
         "CO2_working_capacity [mL/g]": 176.7962873757323,
         "_deepnote_index_column": "pretest_125"
        },
        {
         "CO2_working_capacity [mL/g]": 48.828560322704554,
         "_deepnote_index_column": "pretest_126"
        },
        {
         "CO2_working_capacity [mL/g]": 128.1023601423739,
         "_deepnote_index_column": "pretest_127"
        },
        {
         "CO2_working_capacity [mL/g]": 165.38790666992125,
         "_deepnote_index_column": "pretest_128"
        },
        {
         "CO2_working_capacity [mL/g]": 75.06201103630625,
         "_deepnote_index_column": "pretest_129"
        },
        {
         "CO2_working_capacity [mL/g]": 148.576342105771,
         "_deepnote_index_column": "pretest_130"
        },
        {
         "CO2_working_capacity [mL/g]": 187.8791806961955,
         "_deepnote_index_column": "pretest_131"
        },
        {
         "CO2_working_capacity [mL/g]": 64.6508664060551,
         "_deepnote_index_column": "pretest_132"
        },
        {
         "CO2_working_capacity [mL/g]": 266.2628752964004,
         "_deepnote_index_column": "pretest_133"
        },
        {
         "CO2_working_capacity [mL/g]": 81.75926628950245,
         "_deepnote_index_column": "pretest_134"
        },
        {
         "CO2_working_capacity [mL/g]": 226.38403131380196,
         "_deepnote_index_column": "pretest_135"
        },
        {
         "CO2_working_capacity [mL/g]": 236.85981927019824,
         "_deepnote_index_column": "pretest_136"
        },
        {
         "CO2_working_capacity [mL/g]": 226.55410575127948,
         "_deepnote_index_column": "pretest_137"
        },
        {
         "CO2_working_capacity [mL/g]": 132.79077925330003,
         "_deepnote_index_column": "pretest_138"
        },
        {
         "CO2_working_capacity [mL/g]": 88.80581400222158,
         "_deepnote_index_column": "pretest_139"
        },
        {
         "CO2_working_capacity [mL/g]": 67.0296603435088,
         "_deepnote_index_column": "pretest_140"
        },
        {
         "CO2_working_capacity [mL/g]": 109.37261130095399,
         "_deepnote_index_column": "pretest_141"
        },
        {
         "CO2_working_capacity [mL/g]": 64.51719767527398,
         "_deepnote_index_column": "pretest_142"
        },
        {
         "CO2_working_capacity [mL/g]": 81.48197332525073,
         "_deepnote_index_column": "pretest_143"
        },
        {
         "CO2_working_capacity [mL/g]": 75.02865175733714,
         "_deepnote_index_column": "pretest_144"
        },
        {
         "CO2_working_capacity [mL/g]": 59.87881036541209,
         "_deepnote_index_column": "pretest_145"
        },
        {
         "CO2_working_capacity [mL/g]": 90.19976637118705,
         "_deepnote_index_column": "pretest_146"
        },
        {
         "CO2_working_capacity [mL/g]": 90.5964902323216,
         "_deepnote_index_column": "pretest_147"
        },
        {
         "CO2_working_capacity [mL/g]": 188.62079445585408,
         "_deepnote_index_column": "pretest_148"
        },
        {
         "CO2_working_capacity [mL/g]": 140.78382128932876,
         "_deepnote_index_column": "pretest_149"
        },
        {
         "CO2_working_capacity [mL/g]": 134.21477469919463,
         "_deepnote_index_column": "pretest_150"
        },
        {
         "CO2_working_capacity [mL/g]": 82.11053004608006,
         "_deepnote_index_column": "pretest_151"
        },
        {
         "CO2_working_capacity [mL/g]": 154.66132913924832,
         "_deepnote_index_column": "pretest_152"
        },
        {
         "CO2_working_capacity [mL/g]": 89.8593775294293,
         "_deepnote_index_column": "pretest_153"
        },
        {
         "CO2_working_capacity [mL/g]": 70.96709872198295,
         "_deepnote_index_column": "pretest_154"
        },
        {
         "CO2_working_capacity [mL/g]": 482.65640947775967,
         "_deepnote_index_column": "pretest_155"
        },
        {
         "CO2_working_capacity [mL/g]": 253.39683830521682,
         "_deepnote_index_column": "pretest_156"
        },
        {
         "CO2_working_capacity [mL/g]": 65.62416813917439,
         "_deepnote_index_column": "pretest_157"
        },
        {
         "CO2_working_capacity [mL/g]": 189.10205048041138,
         "_deepnote_index_column": "pretest_158"
        },
        {
         "CO2_working_capacity [mL/g]": 106.57574527240267,
         "_deepnote_index_column": "pretest_159"
        },
        {
         "CO2_working_capacity [mL/g]": 204.94492764514627,
         "_deepnote_index_column": "pretest_160"
        },
        {
         "CO2_working_capacity [mL/g]": 146.96388558979862,
         "_deepnote_index_column": "pretest_161"
        },
        {
         "CO2_working_capacity [mL/g]": 102.85048202460732,
         "_deepnote_index_column": "pretest_162"
        },
        {
         "CO2_working_capacity [mL/g]": 102.23783497707362,
         "_deepnote_index_column": "pretest_163"
        },
        {
         "CO2_working_capacity [mL/g]": 106.26524809796686,
         "_deepnote_index_column": "pretest_164"
        },
        {
         "CO2_working_capacity [mL/g]": 116.62157174040911,
         "_deepnote_index_column": "pretest_165"
        },
        {
         "CO2_working_capacity [mL/g]": 264.33773557595265,
         "_deepnote_index_column": "pretest_166"
        },
        {
         "CO2_working_capacity [mL/g]": 340.11390196515737,
         "_deepnote_index_column": "pretest_167"
        },
        {
         "CO2_working_capacity [mL/g]": 238.54922797019094,
         "_deepnote_index_column": "pretest_168"
        },
        {
         "CO2_working_capacity [mL/g]": 79.58209264095149,
         "_deepnote_index_column": "pretest_169"
        },
        {
         "CO2_working_capacity [mL/g]": 265.8759234576129,
         "_deepnote_index_column": "pretest_170"
        },
        {
         "CO2_working_capacity [mL/g]": 194.05659176465838,
         "_deepnote_index_column": "pretest_171"
        },
        {
         "CO2_working_capacity [mL/g]": 110.98371872226194,
         "_deepnote_index_column": "pretest_172"
        },
        {
         "CO2_working_capacity [mL/g]": 81.17921805209593,
         "_deepnote_index_column": "pretest_173"
        },
        {
         "CO2_working_capacity [mL/g]": 132.90685711685177,
         "_deepnote_index_column": "pretest_174"
        },
        {
         "CO2_working_capacity [mL/g]": 185.39747720717236,
         "_deepnote_index_column": "pretest_175"
        },
        {
         "CO2_working_capacity [mL/g]": 123.62677496923683,
         "_deepnote_index_column": "pretest_176"
        },
        {
         "CO2_working_capacity [mL/g]": 86.13117366621387,
         "_deepnote_index_column": "pretest_177"
        },
        {
         "CO2_working_capacity [mL/g]": 59.386919819752606,
         "_deepnote_index_column": "pretest_178"
        },
        {
         "CO2_working_capacity [mL/g]": 147.7588344888643,
         "_deepnote_index_column": "pretest_179"
        },
        {
         "CO2_working_capacity [mL/g]": 82.10717502160044,
         "_deepnote_index_column": "pretest_180"
        },
        {
         "CO2_working_capacity [mL/g]": 79.54187996991168,
         "_deepnote_index_column": "pretest_181"
        },
        {
         "CO2_working_capacity [mL/g]": 60.09046820282863,
         "_deepnote_index_column": "pretest_182"
        },
        {
         "CO2_working_capacity [mL/g]": 96.74910002720426,
         "_deepnote_index_column": "pretest_183"
        },
        {
         "CO2_working_capacity [mL/g]": 148.30340161862105,
         "_deepnote_index_column": "pretest_184"
        },
        {
         "CO2_working_capacity [mL/g]": 92.24196569850693,
         "_deepnote_index_column": "pretest_185"
        },
        {
         "CO2_working_capacity [mL/g]": 80.68185847999655,
         "_deepnote_index_column": "pretest_186"
        },
        {
         "CO2_working_capacity [mL/g]": 86.93624193809933,
         "_deepnote_index_column": "pretest_187"
        },
        {
         "CO2_working_capacity [mL/g]": 68.35133494333441,
         "_deepnote_index_column": "pretest_188"
        },
        {
         "CO2_working_capacity [mL/g]": 114.61269536844699,
         "_deepnote_index_column": "pretest_189"
        },
        {
         "CO2_working_capacity [mL/g]": 112.62800405679047,
         "_deepnote_index_column": "pretest_190"
        },
        {
         "CO2_working_capacity [mL/g]": 87.99270667509623,
         "_deepnote_index_column": "pretest_191"
        },
        {
         "CO2_working_capacity [mL/g]": 74.48805810913458,
         "_deepnote_index_column": "pretest_192"
        },
        {
         "CO2_working_capacity [mL/g]": 85.86726300072878,
         "_deepnote_index_column": "pretest_193"
        },
        {
         "CO2_working_capacity [mL/g]": 127.23515419986798,
         "_deepnote_index_column": "pretest_194"
        },
        {
         "CO2_working_capacity [mL/g]": 122.98204407355456,
         "_deepnote_index_column": "pretest_195"
        },
        {
         "CO2_working_capacity [mL/g]": 73.48422164103843,
         "_deepnote_index_column": "pretest_196"
        },
        {
         "CO2_working_capacity [mL/g]": 203.00331221258097,
         "_deepnote_index_column": "pretest_197"
        },
        {
         "CO2_working_capacity [mL/g]": 50.67473451359562,
         "_deepnote_index_column": "pretest_198"
        },
        {
         "CO2_working_capacity [mL/g]": 60.12187584617338,
         "_deepnote_index_column": "pretest_199"
        },
        {
         "CO2_working_capacity [mL/g]": 112.84733430671531,
         "_deepnote_index_column": "pretest_200"
        },
        {
         "CO2_working_capacity [mL/g]": 121.22286071085378,
         "_deepnote_index_column": "pretest_201"
        },
        {
         "CO2_working_capacity [mL/g]": 147.45965750583824,
         "_deepnote_index_column": "pretest_202"
        },
        {
         "CO2_working_capacity [mL/g]": 36.83347526753866,
         "_deepnote_index_column": "pretest_203"
        },
        {
         "CO2_working_capacity [mL/g]": 69.16602266247693,
         "_deepnote_index_column": "pretest_204"
        },
        {
         "CO2_working_capacity [mL/g]": 120.74361537694008,
         "_deepnote_index_column": "pretest_205"
        },
        {
         "CO2_working_capacity [mL/g]": 100.14437614982714,
         "_deepnote_index_column": "pretest_206"
        },
        {
         "CO2_working_capacity [mL/g]": 61.78349590717737,
         "_deepnote_index_column": "pretest_207"
        },
        {
         "CO2_working_capacity [mL/g]": 183.49339747777367,
         "_deepnote_index_column": "pretest_208"
        },
        {
         "CO2_working_capacity [mL/g]": 73.83100884303377,
         "_deepnote_index_column": "pretest_209"
        },
        {
         "CO2_working_capacity [mL/g]": 179.73474945821158,
         "_deepnote_index_column": "pretest_210"
        },
        {
         "CO2_working_capacity [mL/g]": 64.56538315529103,
         "_deepnote_index_column": "pretest_211"
        },
        {
         "CO2_working_capacity [mL/g]": 132.23267842482593,
         "_deepnote_index_column": "pretest_212"
        },
        {
         "CO2_working_capacity [mL/g]": 182.86476351032792,
         "_deepnote_index_column": "pretest_213"
        },
        {
         "CO2_working_capacity [mL/g]": 135.9785107820888,
         "_deepnote_index_column": "pretest_214"
        },
        {
         "CO2_working_capacity [mL/g]": 86.60135430074538,
         "_deepnote_index_column": "pretest_215"
        },
        {
         "CO2_working_capacity [mL/g]": 111.41878623533403,
         "_deepnote_index_column": "pretest_216"
        },
        {
         "CO2_working_capacity [mL/g]": 89.47416603235409,
         "_deepnote_index_column": "pretest_217"
        },
        {
         "CO2_working_capacity [mL/g]": 97.54001904985537,
         "_deepnote_index_column": "pretest_218"
        },
        {
         "CO2_working_capacity [mL/g]": 144.57960398329288,
         "_deepnote_index_column": "pretest_219"
        },
        {
         "CO2_working_capacity [mL/g]": 66.09677688174222,
         "_deepnote_index_column": "pretest_220"
        },
        {
         "CO2_working_capacity [mL/g]": 87.93641136782992,
         "_deepnote_index_column": "pretest_221"
        },
        {
         "CO2_working_capacity [mL/g]": 186.60441111224023,
         "_deepnote_index_column": "pretest_222"
        },
        {
         "CO2_working_capacity [mL/g]": 102.1473619184696,
         "_deepnote_index_column": "pretest_223"
        },
        {
         "CO2_working_capacity [mL/g]": 95.45538414096863,
         "_deepnote_index_column": "pretest_224"
        },
        {
         "CO2_working_capacity [mL/g]": 74.87786696386914,
         "_deepnote_index_column": "pretest_225"
        },
        {
         "CO2_working_capacity [mL/g]": 124.67712849249213,
         "_deepnote_index_column": "pretest_226"
        },
        {
         "CO2_working_capacity [mL/g]": 99.67710350494367,
         "_deepnote_index_column": "pretest_227"
        },
        {
         "CO2_working_capacity [mL/g]": 75.56976482261312,
         "_deepnote_index_column": "pretest_228"
        },
        {
         "CO2_working_capacity [mL/g]": 294.14800109682267,
         "_deepnote_index_column": "pretest_229"
        },
        {
         "CO2_working_capacity [mL/g]": 164.8660336805297,
         "_deepnote_index_column": "pretest_230"
        },
        {
         "CO2_working_capacity [mL/g]": 68.15281162477974,
         "_deepnote_index_column": "pretest_231"
        },
        {
         "CO2_working_capacity [mL/g]": 104.22393507848385,
         "_deepnote_index_column": "pretest_232"
        },
        {
         "CO2_working_capacity [mL/g]": 69.70326890761372,
         "_deepnote_index_column": "pretest_233"
        },
        {
         "CO2_working_capacity [mL/g]": 74.77514460242246,
         "_deepnote_index_column": "pretest_234"
        },
        {
         "CO2_working_capacity [mL/g]": 115.9405804276782,
         "_deepnote_index_column": "pretest_235"
        },
        {
         "CO2_working_capacity [mL/g]": 214.74304950608757,
         "_deepnote_index_column": "pretest_236"
        },
        {
         "CO2_working_capacity [mL/g]": 102.5732115647706,
         "_deepnote_index_column": "pretest_237"
        },
        {
         "CO2_working_capacity [mL/g]": 71.94277574146028,
         "_deepnote_index_column": "pretest_238"
        },
        {
         "CO2_working_capacity [mL/g]": 156.59659044425115,
         "_deepnote_index_column": "pretest_239"
        },
        {
         "CO2_working_capacity [mL/g]": 122.26034453858497,
         "_deepnote_index_column": "pretest_240"
        },
        {
         "CO2_working_capacity [mL/g]": 93.0329317646019,
         "_deepnote_index_column": "pretest_241"
        },
        {
         "CO2_working_capacity [mL/g]": 180.98009362864263,
         "_deepnote_index_column": "pretest_242"
        },
        {
         "CO2_working_capacity [mL/g]": 199.7507199545448,
         "_deepnote_index_column": "pretest_243"
        },
        {
         "CO2_working_capacity [mL/g]": 89.03571034115205,
         "_deepnote_index_column": "pretest_244"
        },
        {
         "CO2_working_capacity [mL/g]": 104.02303383304756,
         "_deepnote_index_column": "pretest_245"
        },
        {
         "CO2_working_capacity [mL/g]": 60.67327250990006,
         "_deepnote_index_column": "pretest_246"
        },
        {
         "CO2_working_capacity [mL/g]": 86.50576285156559,
         "_deepnote_index_column": "pretest_247"
        },
        {
         "CO2_working_capacity [mL/g]": 73.67898521979818,
         "_deepnote_index_column": "pretest_248"
        },
        {
         "CO2_working_capacity [mL/g]": 175.2195157907641,
         "_deepnote_index_column": "pretest_249"
        },
        {
         "CO2_working_capacity [mL/g]": 134.15697383478528,
         "_deepnote_index_column": "pretest_250"
        },
        {
         "CO2_working_capacity [mL/g]": 131.76627205551216,
         "_deepnote_index_column": "pretest_251"
        },
        {
         "CO2_working_capacity [mL/g]": 285.41162222498787,
         "_deepnote_index_column": "pretest_252"
        },
        {
         "CO2_working_capacity [mL/g]": 289.353157502085,
         "_deepnote_index_column": "pretest_253"
        },
        {
         "CO2_working_capacity [mL/g]": 180.41947572821357,
         "_deepnote_index_column": "pretest_254"
        },
        {
         "CO2_working_capacity [mL/g]": 282.59098544404554,
         "_deepnote_index_column": "pretest_255"
        },
        {
         "CO2_working_capacity [mL/g]": 259.63987988266774,
         "_deepnote_index_column": "pretest_256"
        },
        {
         "CO2_working_capacity [mL/g]": 123.36066153874908,
         "_deepnote_index_column": "pretest_257"
        },
        {
         "CO2_working_capacity [mL/g]": 154.2426102779546,
         "_deepnote_index_column": "pretest_258"
        },
        {
         "CO2_working_capacity [mL/g]": 403.3099172288738,
         "_deepnote_index_column": "pretest_259"
        },
        {
         "CO2_working_capacity [mL/g]": 181.63113216250855,
         "_deepnote_index_column": "pretest_260"
        },
        {
         "CO2_working_capacity [mL/g]": 73.24633591874985,
         "_deepnote_index_column": "pretest_261"
        },
        {
         "CO2_working_capacity [mL/g]": 74.87586370808424,
         "_deepnote_index_column": "pretest_262"
        },
        {
         "CO2_working_capacity [mL/g]": 174.1219824396389,
         "_deepnote_index_column": "pretest_263"
        },
        {
         "CO2_working_capacity [mL/g]": 113.00669652821234,
         "_deepnote_index_column": "pretest_264"
        },
        {
         "CO2_working_capacity [mL/g]": 182.6057314492302,
         "_deepnote_index_column": "pretest_265"
        },
        {
         "CO2_working_capacity [mL/g]": 100.7323689140762,
         "_deepnote_index_column": "pretest_266"
        },
        {
         "CO2_working_capacity [mL/g]": 260.0183427623907,
         "_deepnote_index_column": "pretest_267"
        },
        {
         "CO2_working_capacity [mL/g]": 73.20414378538494,
         "_deepnote_index_column": "pretest_268"
        },
        {
         "CO2_working_capacity [mL/g]": 60.83855324268451,
         "_deepnote_index_column": "pretest_269"
        },
        {
         "CO2_working_capacity [mL/g]": 124.56888554095273,
         "_deepnote_index_column": "pretest_270"
        },
        {
         "CO2_working_capacity [mL/g]": 106.64793486764663,
         "_deepnote_index_column": "pretest_271"
        },
        {
         "CO2_working_capacity [mL/g]": 102.06986600528418,
         "_deepnote_index_column": "pretest_272"
        },
        {
         "CO2_working_capacity [mL/g]": 103.67674513590646,
         "_deepnote_index_column": "pretest_273"
        },
        {
         "CO2_working_capacity [mL/g]": 62.45214111366994,
         "_deepnote_index_column": "pretest_274"
        },
        {
         "CO2_working_capacity [mL/g]": 77.94807684708503,
         "_deepnote_index_column": "pretest_275"
        },
        {
         "CO2_working_capacity [mL/g]": 133.9052001614031,
         "_deepnote_index_column": "pretest_276"
        },
        {
         "CO2_working_capacity [mL/g]": 77.18129310924778,
         "_deepnote_index_column": "pretest_277"
        },
        {
         "CO2_working_capacity [mL/g]": 144.51220118242918,
         "_deepnote_index_column": "pretest_278"
        },
        {
         "CO2_working_capacity [mL/g]": 229.32786240232016,
         "_deepnote_index_column": "pretest_279"
        },
        {
         "CO2_working_capacity [mL/g]": 90.95185853430955,
         "_deepnote_index_column": "pretest_280"
        },
        {
         "CO2_working_capacity [mL/g]": 429.6800360984921,
         "_deepnote_index_column": "pretest_281"
        },
        {
         "CO2_working_capacity [mL/g]": 151.27663352996498,
         "_deepnote_index_column": "pretest_282"
        },
        {
         "CO2_working_capacity [mL/g]": 180.24116146504474,
         "_deepnote_index_column": "pretest_283"
        },
        {
         "CO2_working_capacity [mL/g]": 108.641840561517,
         "_deepnote_index_column": "pretest_284"
        },
        {
         "CO2_working_capacity [mL/g]": 95.07831748185257,
         "_deepnote_index_column": "pretest_285"
        },
        {
         "CO2_working_capacity [mL/g]": 75.79230012333012,
         "_deepnote_index_column": "pretest_286"
        },
        {
         "CO2_working_capacity [mL/g]": 138.51495223179862,
         "_deepnote_index_column": "pretest_287"
        },
        {
         "CO2_working_capacity [mL/g]": 49.77862729766675,
         "_deepnote_index_column": "pretest_288"
        },
        {
         "CO2_working_capacity [mL/g]": 130.7170914303789,
         "_deepnote_index_column": "pretest_289"
        },
        {
         "CO2_working_capacity [mL/g]": 182.71090164522596,
         "_deepnote_index_column": "pretest_290"
        },
        {
         "CO2_working_capacity [mL/g]": 185.01668615922566,
         "_deepnote_index_column": "pretest_291"
        },
        {
         "CO2_working_capacity [mL/g]": 182.47129079380701,
         "_deepnote_index_column": "pretest_292"
        },
        {
         "CO2_working_capacity [mL/g]": 89.87641974543223,
         "_deepnote_index_column": "pretest_293"
        },
        {
         "CO2_working_capacity [mL/g]": 278.77654026168113,
         "_deepnote_index_column": "pretest_294"
        },
        {
         "CO2_working_capacity [mL/g]": 63.587125081029214,
         "_deepnote_index_column": "pretest_295"
        },
        {
         "CO2_working_capacity [mL/g]": 348.6851009772402,
         "_deepnote_index_column": "pretest_296"
        },
        {
         "CO2_working_capacity [mL/g]": 68.79406543236439,
         "_deepnote_index_column": "pretest_297"
        },
        {
         "CO2_working_capacity [mL/g]": 157.59168517376293,
         "_deepnote_index_column": "pretest_298"
        },
        {
         "CO2_working_capacity [mL/g]": 205.90157010809017,
         "_deepnote_index_column": "pretest_299"
        },
        {
         "CO2_working_capacity [mL/g]": 57.9647259449559,
         "_deepnote_index_column": "pretest_300"
        },
        {
         "CO2_working_capacity [mL/g]": 177.98436690452823,
         "_deepnote_index_column": "pretest_301"
        },
        {
         "CO2_working_capacity [mL/g]": 112.88729839834036,
         "_deepnote_index_column": "pretest_302"
        },
        {
         "CO2_working_capacity [mL/g]": 75.51981866371258,
         "_deepnote_index_column": "pretest_303"
        },
        {
         "CO2_working_capacity [mL/g]": 332.8051772891026,
         "_deepnote_index_column": "pretest_304"
        },
        {
         "CO2_working_capacity [mL/g]": 124.1328917485906,
         "_deepnote_index_column": "pretest_305"
        },
        {
         "CO2_working_capacity [mL/g]": 234.65809352234123,
         "_deepnote_index_column": "pretest_306"
        },
        {
         "CO2_working_capacity [mL/g]": 50.75112920163784,
         "_deepnote_index_column": "pretest_307"
        },
        {
         "CO2_working_capacity [mL/g]": 115.94231351391697,
         "_deepnote_index_column": "pretest_308"
        },
        {
         "CO2_working_capacity [mL/g]": 159.2126364099619,
         "_deepnote_index_column": "pretest_309"
        },
        {
         "CO2_working_capacity [mL/g]": 109.01518383299398,
         "_deepnote_index_column": "pretest_310"
        },
        {
         "CO2_working_capacity [mL/g]": 113.72074192551982,
         "_deepnote_index_column": "pretest_311"
        },
        {
         "CO2_working_capacity [mL/g]": 61.897569184623364,
         "_deepnote_index_column": "pretest_312"
        },
        {
         "CO2_working_capacity [mL/g]": 108.84717280372665,
         "_deepnote_index_column": "pretest_313"
        },
        {
         "CO2_working_capacity [mL/g]": 73.48615409073088,
         "_deepnote_index_column": "pretest_314"
        },
        {
         "CO2_working_capacity [mL/g]": 192.63676208929644,
         "_deepnote_index_column": "pretest_315"
        },
        {
         "CO2_working_capacity [mL/g]": 129.06818720303312,
         "_deepnote_index_column": "pretest_316"
        },
        {
         "CO2_working_capacity [mL/g]": 95.86330200657889,
         "_deepnote_index_column": "pretest_317"
        },
        {
         "CO2_working_capacity [mL/g]": 85.81391996355428,
         "_deepnote_index_column": "pretest_318"
        },
        {
         "CO2_working_capacity [mL/g]": 83.38861836322523,
         "_deepnote_index_column": "pretest_319"
        },
        {
         "CO2_working_capacity [mL/g]": 159.6387416455975,
         "_deepnote_index_column": "pretest_320"
        },
        {
         "CO2_working_capacity [mL/g]": 132.49104046839958,
         "_deepnote_index_column": "pretest_321"
        },
        {
         "CO2_working_capacity [mL/g]": 101.90756652527828,
         "_deepnote_index_column": "pretest_322"
        },
        {
         "CO2_working_capacity [mL/g]": 144.20660375076773,
         "_deepnote_index_column": "pretest_323"
        },
        {
         "CO2_working_capacity [mL/g]": 78.31744557826099,
         "_deepnote_index_column": "pretest_324"
        },
        {
         "CO2_working_capacity [mL/g]": 120.41839594514423,
         "_deepnote_index_column": "pretest_325"
        },
        {
         "CO2_working_capacity [mL/g]": 149.53662178527003,
         "_deepnote_index_column": "pretest_326"
        },
        {
         "CO2_working_capacity [mL/g]": 134.4333202451036,
         "_deepnote_index_column": "pretest_327"
        },
        {
         "CO2_working_capacity [mL/g]": 60.93860588770317,
         "_deepnote_index_column": "pretest_328"
        },
        {
         "CO2_working_capacity [mL/g]": 76.0981647440949,
         "_deepnote_index_column": "pretest_329"
        },
        {
         "CO2_working_capacity [mL/g]": 65.92543025585375,
         "_deepnote_index_column": "pretest_330"
        },
        {
         "CO2_working_capacity [mL/g]": 204.94417117070938,
         "_deepnote_index_column": "pretest_331"
        },
        {
         "CO2_working_capacity [mL/g]": 114.09412665186616,
         "_deepnote_index_column": "pretest_332"
        },
        {
         "CO2_working_capacity [mL/g]": 114.40739105190883,
         "_deepnote_index_column": "pretest_333"
        },
        {
         "CO2_working_capacity [mL/g]": 79.77204074550738,
         "_deepnote_index_column": "pretest_334"
        },
        {
         "CO2_working_capacity [mL/g]": 90.46668747671578,
         "_deepnote_index_column": "pretest_335"
        },
        {
         "CO2_working_capacity [mL/g]": 128.75954828948943,
         "_deepnote_index_column": "pretest_336"
        },
        {
         "CO2_working_capacity [mL/g]": 106.7431643873683,
         "_deepnote_index_column": "pretest_337"
        },
        {
         "CO2_working_capacity [mL/g]": 242.69721807605887,
         "_deepnote_index_column": "pretest_338"
        },
        {
         "CO2_working_capacity [mL/g]": 429.9170639660977,
         "_deepnote_index_column": "pretest_339"
        },
        {
         "CO2_working_capacity [mL/g]": 184.08643583031954,
         "_deepnote_index_column": "pretest_340"
        },
        {
         "CO2_working_capacity [mL/g]": 67.77980679571779,
         "_deepnote_index_column": "pretest_341"
        },
        {
         "CO2_working_capacity [mL/g]": 79.95472023316127,
         "_deepnote_index_column": "pretest_342"
        },
        {
         "CO2_working_capacity [mL/g]": 122.76564711208782,
         "_deepnote_index_column": "pretest_343"
        },
        {
         "CO2_working_capacity [mL/g]": 175.43790179899716,
         "_deepnote_index_column": "pretest_344"
        },
        {
         "CO2_working_capacity [mL/g]": 414.6231280309556,
         "_deepnote_index_column": "pretest_345"
        },
        {
         "CO2_working_capacity [mL/g]": 156.8031987146697,
         "_deepnote_index_column": "pretest_346"
        },
        {
         "CO2_working_capacity [mL/g]": 229.38316173921876,
         "_deepnote_index_column": "pretest_347"
        },
        {
         "CO2_working_capacity [mL/g]": 288.62685661100926,
         "_deepnote_index_column": "pretest_348"
        },
        {
         "CO2_working_capacity [mL/g]": 77.14643158981802,
         "_deepnote_index_column": "pretest_349"
        },
        {
         "CO2_working_capacity [mL/g]": 241.06939203490748,
         "_deepnote_index_column": "pretest_350"
        },
        {
         "CO2_working_capacity [mL/g]": 96.05083445309735,
         "_deepnote_index_column": "pretest_351"
        },
        {
         "CO2_working_capacity [mL/g]": 68.64872567268358,
         "_deepnote_index_column": "pretest_352"
        },
        {
         "CO2_working_capacity [mL/g]": 92.76452725760176,
         "_deepnote_index_column": "pretest_353"
        },
        {
         "CO2_working_capacity [mL/g]": 92.70963989403374,
         "_deepnote_index_column": "pretest_354"
        },
        {
         "CO2_working_capacity [mL/g]": 60.56046118489125,
         "_deepnote_index_column": "pretest_355"
        },
        {
         "CO2_working_capacity [mL/g]": 147.27580078054407,
         "_deepnote_index_column": "pretest_356"
        },
        {
         "CO2_working_capacity [mL/g]": 165.14467720243357,
         "_deepnote_index_column": "pretest_357"
        },
        {
         "CO2_working_capacity [mL/g]": 74.88011111610476,
         "_deepnote_index_column": "pretest_358"
        },
        {
         "CO2_working_capacity [mL/g]": 77.46000894983726,
         "_deepnote_index_column": "pretest_359"
        },
        {
         "CO2_working_capacity [mL/g]": 519.2828518019063,
         "_deepnote_index_column": "pretest_360"
        },
        {
         "CO2_working_capacity [mL/g]": 96.28115544132183,
         "_deepnote_index_column": "pretest_361"
        },
        {
         "CO2_working_capacity [mL/g]": 60.42550109601028,
         "_deepnote_index_column": "pretest_362"
        },
        {
         "CO2_working_capacity [mL/g]": 254.98858434877928,
         "_deepnote_index_column": "pretest_363"
        },
        {
         "CO2_working_capacity [mL/g]": 85.62440898041602,
         "_deepnote_index_column": "pretest_364"
        },
        {
         "CO2_working_capacity [mL/g]": 92.19105773918866,
         "_deepnote_index_column": "pretest_365"
        },
        {
         "CO2_working_capacity [mL/g]": 191.25265320572387,
         "_deepnote_index_column": "pretest_366"
        },
        {
         "CO2_working_capacity [mL/g]": 451.5452092785839,
         "_deepnote_index_column": "pretest_367"
        },
        {
         "CO2_working_capacity [mL/g]": 251.51458791564102,
         "_deepnote_index_column": "pretest_368"
        },
        {
         "CO2_working_capacity [mL/g]": 68.30095657713228,
         "_deepnote_index_column": "pretest_369"
        },
        {
         "CO2_working_capacity [mL/g]": 311.2080882517907,
         "_deepnote_index_column": "pretest_370"
        },
        {
         "CO2_working_capacity [mL/g]": 176.14988364421347,
         "_deepnote_index_column": "pretest_371"
        },
        {
         "CO2_working_capacity [mL/g]": 116.2304737101637,
         "_deepnote_index_column": "pretest_372"
        },
        {
         "CO2_working_capacity [mL/g]": 267.92358748242094,
         "_deepnote_index_column": "pretest_373"
        },
        {
         "CO2_working_capacity [mL/g]": 99.21169721489903,
         "_deepnote_index_column": "pretest_374"
        },
        {
         "CO2_working_capacity [mL/g]": 58.40373350311046,
         "_deepnote_index_column": "pretest_375"
        },
        {
         "CO2_working_capacity [mL/g]": 97.13647653033512,
         "_deepnote_index_column": "pretest_376"
        },
        {
         "CO2_working_capacity [mL/g]": 146.8683143148167,
         "_deepnote_index_column": "pretest_377"
        },
        {
         "CO2_working_capacity [mL/g]": 273.26018041739155,
         "_deepnote_index_column": "pretest_378"
        },
        {
         "CO2_working_capacity [mL/g]": 57.05198463524603,
         "_deepnote_index_column": "pretest_379"
        },
        {
         "CO2_working_capacity [mL/g]": 170.66103624522123,
         "_deepnote_index_column": "pretest_380"
        },
        {
         "CO2_working_capacity [mL/g]": 48.64525053842017,
         "_deepnote_index_column": "pretest_381"
        },
        {
         "CO2_working_capacity [mL/g]": 276.8335976915793,
         "_deepnote_index_column": "pretest_382"
        },
        {
         "CO2_working_capacity [mL/g]": 348.2589329792812,
         "_deepnote_index_column": "pretest_383"
        },
        {
         "CO2_working_capacity [mL/g]": 93.60667651740341,
         "_deepnote_index_column": "pretest_384"
        },
        {
         "CO2_working_capacity [mL/g]": 82.63399685013425,
         "_deepnote_index_column": "pretest_385"
        },
        {
         "CO2_working_capacity [mL/g]": 70.92847037780389,
         "_deepnote_index_column": "pretest_386"
        },
        {
         "CO2_working_capacity [mL/g]": 187.29531645280974,
         "_deepnote_index_column": "pretest_387"
        },
        {
         "CO2_working_capacity [mL/g]": 185.36055242418865,
         "_deepnote_index_column": "pretest_388"
        },
        {
         "CO2_working_capacity [mL/g]": 201.5739986539159,
         "_deepnote_index_column": "pretest_389"
        },
        {
         "CO2_working_capacity [mL/g]": 107.6487961043114,
         "_deepnote_index_column": "pretest_390"
        },
        {
         "CO2_working_capacity [mL/g]": 71.23360410595578,
         "_deepnote_index_column": "pretest_391"
        },
        {
         "CO2_working_capacity [mL/g]": 85.49653588754195,
         "_deepnote_index_column": "pretest_392"
        },
        {
         "CO2_working_capacity [mL/g]": 211.81363585547388,
         "_deepnote_index_column": "pretest_393"
        },
        {
         "CO2_working_capacity [mL/g]": 222.27501886168034,
         "_deepnote_index_column": "pretest_394"
        },
        {
         "CO2_working_capacity [mL/g]": 246.5333620667203,
         "_deepnote_index_column": "pretest_395"
        },
        {
         "CO2_working_capacity [mL/g]": 99.49879637636359,
         "_deepnote_index_column": "pretest_396"
        },
        {
         "CO2_working_capacity [mL/g]": 98.67812825911841,
         "_deepnote_index_column": "pretest_397"
        },
        {
         "CO2_working_capacity [mL/g]": 224.35926897972044,
         "_deepnote_index_column": "pretest_398"
        },
        {
         "CO2_working_capacity [mL/g]": 99.96489512190297,
         "_deepnote_index_column": "pretest_399"
        },
        {
         "CO2_working_capacity [mL/g]": 148.84562771033876,
         "_deepnote_index_column": "pretest_400"
        },
        {
         "CO2_working_capacity [mL/g]": 111.04545783454753,
         "_deepnote_index_column": "pretest_401"
        },
        {
         "CO2_working_capacity [mL/g]": 71.1814412159516,
         "_deepnote_index_column": "pretest_402"
        },
        {
         "CO2_working_capacity [mL/g]": 81.82357444259864,
         "_deepnote_index_column": "pretest_403"
        },
        {
         "CO2_working_capacity [mL/g]": 81.28769069424015,
         "_deepnote_index_column": "pretest_404"
        },
        {
         "CO2_working_capacity [mL/g]": 204.2066022946528,
         "_deepnote_index_column": "pretest_405"
        },
        {
         "CO2_working_capacity [mL/g]": 72.46640817304144,
         "_deepnote_index_column": "pretest_406"
        },
        {
         "CO2_working_capacity [mL/g]": 126.1731275617763,
         "_deepnote_index_column": "pretest_407"
        },
        {
         "CO2_working_capacity [mL/g]": 108.54572163024224,
         "_deepnote_index_column": "pretest_408"
        },
        {
         "CO2_working_capacity [mL/g]": 51.75308270179637,
         "_deepnote_index_column": "pretest_409"
        },
        {
         "CO2_working_capacity [mL/g]": 101.347850810112,
         "_deepnote_index_column": "pretest_410"
        },
        {
         "CO2_working_capacity [mL/g]": 327.05320338180076,
         "_deepnote_index_column": "pretest_411"
        },
        {
         "CO2_working_capacity [mL/g]": 92.61871622990222,
         "_deepnote_index_column": "pretest_412"
        },
        {
         "CO2_working_capacity [mL/g]": 124.08607534205377,
         "_deepnote_index_column": "pretest_413"
        },
        {
         "CO2_working_capacity [mL/g]": 158.792732554588,
         "_deepnote_index_column": "pretest_414"
        },
        {
         "CO2_working_capacity [mL/g]": 141.31022502227046,
         "_deepnote_index_column": "pretest_415"
        },
        {
         "CO2_working_capacity [mL/g]": 85.91788208806328,
         "_deepnote_index_column": "pretest_416"
        },
        {
         "CO2_working_capacity [mL/g]": 96.06956205889574,
         "_deepnote_index_column": "pretest_417"
        },
        {
         "CO2_working_capacity [mL/g]": 244.70980745742904,
         "_deepnote_index_column": "pretest_418"
        },
        {
         "CO2_working_capacity [mL/g]": 214.34903862355614,
         "_deepnote_index_column": "pretest_419"
        },
        {
         "CO2_working_capacity [mL/g]": 91.85465326506949,
         "_deepnote_index_column": "pretest_420"
        },
        {
         "CO2_working_capacity [mL/g]": 65.40745270712615,
         "_deepnote_index_column": "pretest_421"
        },
        {
         "CO2_working_capacity [mL/g]": 104.09388680986267,
         "_deepnote_index_column": "pretest_422"
        },
        {
         "CO2_working_capacity [mL/g]": 80.68928873588953,
         "_deepnote_index_column": "pretest_423"
        },
        {
         "CO2_working_capacity [mL/g]": 251.18538611929426,
         "_deepnote_index_column": "pretest_424"
        },
        {
         "CO2_working_capacity [mL/g]": 305.0443090845724,
         "_deepnote_index_column": "pretest_425"
        },
        {
         "CO2_working_capacity [mL/g]": 76.88717701979832,
         "_deepnote_index_column": "pretest_426"
        },
        {
         "CO2_working_capacity [mL/g]": 106.82614625469164,
         "_deepnote_index_column": "pretest_427"
        },
        {
         "CO2_working_capacity [mL/g]": 163.0638175184482,
         "_deepnote_index_column": "pretest_428"
        },
        {
         "CO2_working_capacity [mL/g]": 163.8471332527703,
         "_deepnote_index_column": "pretest_429"
        },
        {
         "CO2_working_capacity [mL/g]": 218.64528172961082,
         "_deepnote_index_column": "pretest_430"
        },
        {
         "CO2_working_capacity [mL/g]": 245.09090558384392,
         "_deepnote_index_column": "pretest_431"
        },
        {
         "CO2_working_capacity [mL/g]": 155.0531002960363,
         "_deepnote_index_column": "pretest_432"
        },
        {
         "CO2_working_capacity [mL/g]": 223.53507658403956,
         "_deepnote_index_column": "pretest_433"
        },
        {
         "CO2_working_capacity [mL/g]": 337.06067763441104,
         "_deepnote_index_column": "pretest_434"
        },
        {
         "CO2_working_capacity [mL/g]": 78.54805347365382,
         "_deepnote_index_column": "pretest_435"
        },
        {
         "CO2_working_capacity [mL/g]": 69.42627588941835,
         "_deepnote_index_column": "pretest_436"
        },
        {
         "CO2_working_capacity [mL/g]": 107.47959908821763,
         "_deepnote_index_column": "pretest_437"
        },
        {
         "CO2_working_capacity [mL/g]": 53.86465560005426,
         "_deepnote_index_column": "pretest_438"
        },
        {
         "CO2_working_capacity [mL/g]": 182.96447104857543,
         "_deepnote_index_column": "pretest_439"
        },
        {
         "CO2_working_capacity [mL/g]": 89.90567565378853,
         "_deepnote_index_column": "pretest_440"
        },
        {
         "CO2_working_capacity [mL/g]": 115.29273804512835,
         "_deepnote_index_column": "pretest_441"
        },
        {
         "CO2_working_capacity [mL/g]": 127.60203577230261,
         "_deepnote_index_column": "pretest_442"
        },
        {
         "CO2_working_capacity [mL/g]": 247.79893836213137,
         "_deepnote_index_column": "pretest_443"
        },
        {
         "CO2_working_capacity [mL/g]": 54.45989663234941,
         "_deepnote_index_column": "pretest_444"
        },
        {
         "CO2_working_capacity [mL/g]": 58.475771924654666,
         "_deepnote_index_column": "pretest_445"
        },
        {
         "CO2_working_capacity [mL/g]": 59.63214431487587,
         "_deepnote_index_column": "pretest_446"
        },
        {
         "CO2_working_capacity [mL/g]": 102.94378375756102,
         "_deepnote_index_column": "pretest_447"
        },
        {
         "CO2_working_capacity [mL/g]": 253.55520500163107,
         "_deepnote_index_column": "pretest_448"
        },
        {
         "CO2_working_capacity [mL/g]": 92.96841538704128,
         "_deepnote_index_column": "pretest_449"
        },
        {
         "CO2_working_capacity [mL/g]": 66.79574060393658,
         "_deepnote_index_column": "pretest_450"
        },
        {
         "CO2_working_capacity [mL/g]": 379.58840687605795,
         "_deepnote_index_column": "pretest_451"
        },
        {
         "CO2_working_capacity [mL/g]": 65.890972404863,
         "_deepnote_index_column": "pretest_452"
        },
        {
         "CO2_working_capacity [mL/g]": 79.41631278921912,
         "_deepnote_index_column": "pretest_453"
        },
        {
         "CO2_working_capacity [mL/g]": 82.3122104203174,
         "_deepnote_index_column": "pretest_454"
        },
        {
         "CO2_working_capacity [mL/g]": 144.41856919214402,
         "_deepnote_index_column": "pretest_455"
        },
        {
         "CO2_working_capacity [mL/g]": 57.89895779236288,
         "_deepnote_index_column": "pretest_456"
        },
        {
         "CO2_working_capacity [mL/g]": 100.51154517178183,
         "_deepnote_index_column": "pretest_457"
        },
        {
         "CO2_working_capacity [mL/g]": 268.3877729352454,
         "_deepnote_index_column": "pretest_458"
        },
        {
         "CO2_working_capacity [mL/g]": 95.60294706060742,
         "_deepnote_index_column": "pretest_459"
        },
        {
         "CO2_working_capacity [mL/g]": 137.06331943722876,
         "_deepnote_index_column": "pretest_460"
        },
        {
         "CO2_working_capacity [mL/g]": 81.93113451775695,
         "_deepnote_index_column": "pretest_461"
        },
        {
         "CO2_working_capacity [mL/g]": 302.4776990484021,
         "_deepnote_index_column": "pretest_462"
        },
        {
         "CO2_working_capacity [mL/g]": 205.0862322273985,
         "_deepnote_index_column": "pretest_463"
        },
        {
         "CO2_working_capacity [mL/g]": 95.91611174453271,
         "_deepnote_index_column": "pretest_464"
        },
        {
         "CO2_working_capacity [mL/g]": 470.2045640175755,
         "_deepnote_index_column": "pretest_465"
        },
        {
         "CO2_working_capacity [mL/g]": 80.42263749108447,
         "_deepnote_index_column": "pretest_466"
        },
        {
         "CO2_working_capacity [mL/g]": 116.96714697432553,
         "_deepnote_index_column": "pretest_467"
        },
        {
         "CO2_working_capacity [mL/g]": 212.7416901938447,
         "_deepnote_index_column": "pretest_468"
        },
        {
         "CO2_working_capacity [mL/g]": 249.59202712677774,
         "_deepnote_index_column": "pretest_469"
        },
        {
         "CO2_working_capacity [mL/g]": 126.10413263550609,
         "_deepnote_index_column": "pretest_470"
        },
        {
         "CO2_working_capacity [mL/g]": 232.28442749591508,
         "_deepnote_index_column": "pretest_471"
        },
        {
         "CO2_working_capacity [mL/g]": 218.97261242427248,
         "_deepnote_index_column": "pretest_472"
        },
        {
         "CO2_working_capacity [mL/g]": 117.66464262858719,
         "_deepnote_index_column": "pretest_473"
        },
        {
         "CO2_working_capacity [mL/g]": 259.7547279476777,
         "_deepnote_index_column": "pretest_474"
        },
        {
         "CO2_working_capacity [mL/g]": 411.52165100176825,
         "_deepnote_index_column": "pretest_475"
        },
        {
         "CO2_working_capacity [mL/g]": 205.45129683042578,
         "_deepnote_index_column": "pretest_476"
        },
        {
         "CO2_working_capacity [mL/g]": 79.93554857517186,
         "_deepnote_index_column": "pretest_477"
        },
        {
         "CO2_working_capacity [mL/g]": 39.666646682877726,
         "_deepnote_index_column": "pretest_478"
        },
        {
         "CO2_working_capacity [mL/g]": 107.02784001475902,
         "_deepnote_index_column": "pretest_479"
        },
        {
         "CO2_working_capacity [mL/g]": 242.09872214880914,
         "_deepnote_index_column": "pretest_480"
        },
        {
         "CO2_working_capacity [mL/g]": 122.97832791996407,
         "_deepnote_index_column": "pretest_481"
        },
        {
         "CO2_working_capacity [mL/g]": 184.54542648482587,
         "_deepnote_index_column": "pretest_482"
        },
        {
         "CO2_working_capacity [mL/g]": 104.36778342316276,
         "_deepnote_index_column": "pretest_483"
        },
        {
         "CO2_working_capacity [mL/g]": 78.39833114426223,
         "_deepnote_index_column": "pretest_484"
        },
        {
         "CO2_working_capacity [mL/g]": 106.4591483416928,
         "_deepnote_index_column": "pretest_485"
        },
        {
         "CO2_working_capacity [mL/g]": 101.6934931580477,
         "_deepnote_index_column": "pretest_486"
        },
        {
         "CO2_working_capacity [mL/g]": 116.03052360667024,
         "_deepnote_index_column": "pretest_487"
        },
        {
         "CO2_working_capacity [mL/g]": 99.01900182769741,
         "_deepnote_index_column": "pretest_488"
        },
        {
         "CO2_working_capacity [mL/g]": 92.11577350809014,
         "_deepnote_index_column": "pretest_489"
        },
        {
         "CO2_working_capacity [mL/g]": 125.66611991048299,
         "_deepnote_index_column": "pretest_490"
        },
        {
         "CO2_working_capacity [mL/g]": 75.49911507542986,
         "_deepnote_index_column": "pretest_491"
        },
        {
         "CO2_working_capacity [mL/g]": 58.52802696425739,
         "_deepnote_index_column": "pretest_492"
        },
        {
         "CO2_working_capacity [mL/g]": 86.39235852379082,
         "_deepnote_index_column": "pretest_493"
        },
        {
         "CO2_working_capacity [mL/g]": 136.3155359637899,
         "_deepnote_index_column": "pretest_494"
        },
        {
         "CO2_working_capacity [mL/g]": 110.07321583381209,
         "_deepnote_index_column": "pretest_495"
        },
        {
         "CO2_working_capacity [mL/g]": 94.89253769465827,
         "_deepnote_index_column": "pretest_496"
        },
        {
         "CO2_working_capacity [mL/g]": 74.3947662884777,
         "_deepnote_index_column": "pretest_497"
        },
        {
         "CO2_working_capacity [mL/g]": 109.00849890803195,
         "_deepnote_index_column": "pretest_498"
        },
        {
         "CO2_working_capacity [mL/g]": 287.57189913587507,
         "_deepnote_index_column": "pretest_499"
        },
        {
         "CO2_working_capacity [mL/g]": 279.76681649699447,
         "_deepnote_index_column": "pretest_500"
        }
       ],
       "rows_bottom": [
        {
         "CO2_working_capacity [mL/g]": -1.5883691587089614,
         "_deepnote_index_column": "pretest_1501"
        },
        {
         "CO2_working_capacity [mL/g]": -3.018777794091558,
         "_deepnote_index_column": "pretest_1502"
        },
        {
         "CO2_working_capacity [mL/g]": -5.6786098421806726,
         "_deepnote_index_column": "pretest_1503"
        },
        {
         "CO2_working_capacity [mL/g]": 3.2589491402056168,
         "_deepnote_index_column": "pretest_1504"
        },
        {
         "CO2_working_capacity [mL/g]": -5.483104237454927,
         "_deepnote_index_column": "pretest_1505"
        },
        {
         "CO2_working_capacity [mL/g]": 0.7406072218060331,
         "_deepnote_index_column": "pretest_1506"
        },
        {
         "CO2_working_capacity [mL/g]": -5.953048169324434,
         "_deepnote_index_column": "pretest_1507"
        },
        {
         "CO2_working_capacity [mL/g]": -9.41537742770922,
         "_deepnote_index_column": "pretest_1508"
        },
        {
         "CO2_working_capacity [mL/g]": -3.565212671251976,
         "_deepnote_index_column": "pretest_1509"
        },
        {
         "CO2_working_capacity [mL/g]": -3.6251104442702258,
         "_deepnote_index_column": "pretest_1510"
        },
        {
         "CO2_working_capacity [mL/g]": 4.964636390342837,
         "_deepnote_index_column": "pretest_1511"
        },
        {
         "CO2_working_capacity [mL/g]": 7.01358715813825,
         "_deepnote_index_column": "pretest_1512"
        },
        {
         "CO2_working_capacity [mL/g]": 2.1782588923279405,
         "_deepnote_index_column": "pretest_1513"
        },
        {
         "CO2_working_capacity [mL/g]": -7.129762443264016,
         "_deepnote_index_column": "pretest_1514"
        },
        {
         "CO2_working_capacity [mL/g]": 5.99668259326091,
         "_deepnote_index_column": "pretest_1515"
        },
        {
         "CO2_working_capacity [mL/g]": -3.7180282258055457,
         "_deepnote_index_column": "pretest_1516"
        },
        {
         "CO2_working_capacity [mL/g]": -7.017989572227035,
         "_deepnote_index_column": "pretest_1517"
        },
        {
         "CO2_working_capacity [mL/g]": 28.32121878786838,
         "_deepnote_index_column": "pretest_1518"
        },
        {
         "CO2_working_capacity [mL/g]": -0.9899597217209504,
         "_deepnote_index_column": "pretest_1519"
        },
        {
         "CO2_working_capacity [mL/g]": 0.4788754238192439,
         "_deepnote_index_column": "pretest_1520"
        },
        {
         "CO2_working_capacity [mL/g]": 1.1157871516378506,
         "_deepnote_index_column": "pretest_1521"
        },
        {
         "CO2_working_capacity [mL/g]": -1.7263520257428837,
         "_deepnote_index_column": "pretest_1522"
        },
        {
         "CO2_working_capacity [mL/g]": 0.8780670868815335,
         "_deepnote_index_column": "pretest_1523"
        },
        {
         "CO2_working_capacity [mL/g]": -3.9990250651901675,
         "_deepnote_index_column": "pretest_1524"
        },
        {
         "CO2_working_capacity [mL/g]": 0.6297289685885147,
         "_deepnote_index_column": "pretest_1525"
        },
        {
         "CO2_working_capacity [mL/g]": 7.613002819252548,
         "_deepnote_index_column": "pretest_1526"
        },
        {
         "CO2_working_capacity [mL/g]": 19.881984283741133,
         "_deepnote_index_column": "pretest_1527"
        },
        {
         "CO2_working_capacity [mL/g]": -2.5307869567991306,
         "_deepnote_index_column": "pretest_1528"
        },
        {
         "CO2_working_capacity [mL/g]": 13.836303396741723,
         "_deepnote_index_column": "pretest_1529"
        },
        {
         "CO2_working_capacity [mL/g]": 20.016916010986712,
         "_deepnote_index_column": "pretest_1530"
        },
        {
         "CO2_working_capacity [mL/g]": 2.4667791631847904,
         "_deepnote_index_column": "pretest_1531"
        },
        {
         "CO2_working_capacity [mL/g]": -3.22079392932732,
         "_deepnote_index_column": "pretest_1532"
        },
        {
         "CO2_working_capacity [mL/g]": -2.439686989060084,
         "_deepnote_index_column": "pretest_1533"
        },
        {
         "CO2_working_capacity [mL/g]": -2.847142326618756,
         "_deepnote_index_column": "pretest_1534"
        },
        {
         "CO2_working_capacity [mL/g]": -3.7144936627407574,
         "_deepnote_index_column": "pretest_1535"
        },
        {
         "CO2_working_capacity [mL/g]": -10.10489106713636,
         "_deepnote_index_column": "pretest_1536"
        },
        {
         "CO2_working_capacity [mL/g]": 3.987250774395315,
         "_deepnote_index_column": "pretest_1537"
        },
        {
         "CO2_working_capacity [mL/g]": -1.2404298326843133,
         "_deepnote_index_column": "pretest_1538"
        },
        {
         "CO2_working_capacity [mL/g]": 1.101190297407166,
         "_deepnote_index_column": "pretest_1539"
        },
        {
         "CO2_working_capacity [mL/g]": 3.394445040711544,
         "_deepnote_index_column": "pretest_1540"
        },
        {
         "CO2_working_capacity [mL/g]": 6.234137308708813,
         "_deepnote_index_column": "pretest_1541"
        },
        {
         "CO2_working_capacity [mL/g]": -3.744274665126157,
         "_deepnote_index_column": "pretest_1542"
        },
        {
         "CO2_working_capacity [mL/g]": 6.390990733029776,
         "_deepnote_index_column": "pretest_1543"
        },
        {
         "CO2_working_capacity [mL/g]": -9.484972601140726,
         "_deepnote_index_column": "pretest_1544"
        },
        {
         "CO2_working_capacity [mL/g]": -6.949936726804751,
         "_deepnote_index_column": "pretest_1545"
        },
        {
         "CO2_working_capacity [mL/g]": 5.109234570790301,
         "_deepnote_index_column": "pretest_1546"
        },
        {
         "CO2_working_capacity [mL/g]": -0.7506530436973975,
         "_deepnote_index_column": "pretest_1547"
        },
        {
         "CO2_working_capacity [mL/g]": 1.951842537289778,
         "_deepnote_index_column": "pretest_1548"
        },
        {
         "CO2_working_capacity [mL/g]": -6.426215499305306,
         "_deepnote_index_column": "pretest_1549"
        },
        {
         "CO2_working_capacity [mL/g]": -3.283547964825614,
         "_deepnote_index_column": "pretest_1550"
        },
        {
         "CO2_working_capacity [mL/g]": -0.7980291758937227,
         "_deepnote_index_column": "pretest_1551"
        },
        {
         "CO2_working_capacity [mL/g]": -3.526551709523031,
         "_deepnote_index_column": "pretest_1552"
        },
        {
         "CO2_working_capacity [mL/g]": -12.73436014181253,
         "_deepnote_index_column": "pretest_1553"
        },
        {
         "CO2_working_capacity [mL/g]": -8.500528614806134,
         "_deepnote_index_column": "pretest_1554"
        },
        {
         "CO2_working_capacity [mL/g]": 5.692999426302377,
         "_deepnote_index_column": "pretest_1555"
        },
        {
         "CO2_working_capacity [mL/g]": -1.6983954531123686,
         "_deepnote_index_column": "pretest_1556"
        },
        {
         "CO2_working_capacity [mL/g]": 4.434689079195211,
         "_deepnote_index_column": "pretest_1557"
        },
        {
         "CO2_working_capacity [mL/g]": 4.391410969906938,
         "_deepnote_index_column": "pretest_1558"
        },
        {
         "CO2_working_capacity [mL/g]": 1.3277147571406858,
         "_deepnote_index_column": "pretest_1559"
        },
        {
         "CO2_working_capacity [mL/g]": 2.2493835396761552,
         "_deepnote_index_column": "pretest_1560"
        },
        {
         "CO2_working_capacity [mL/g]": -1.6803474014112525,
         "_deepnote_index_column": "pretest_1561"
        },
        {
         "CO2_working_capacity [mL/g]": 5.621211379429239,
         "_deepnote_index_column": "pretest_1562"
        },
        {
         "CO2_working_capacity [mL/g]": -0.06768568859188662,
         "_deepnote_index_column": "pretest_1563"
        },
        {
         "CO2_working_capacity [mL/g]": 21.30772466370889,
         "_deepnote_index_column": "pretest_1564"
        },
        {
         "CO2_working_capacity [mL/g]": -5.0270060269445365,
         "_deepnote_index_column": "pretest_1565"
        },
        {
         "CO2_working_capacity [mL/g]": 2.0448043005916032,
         "_deepnote_index_column": "pretest_1566"
        },
        {
         "CO2_working_capacity [mL/g]": 67.09805667809427,
         "_deepnote_index_column": "pretest_1567"
        },
        {
         "CO2_working_capacity [mL/g]": -6.145635630251599,
         "_deepnote_index_column": "pretest_1568"
        },
        {
         "CO2_working_capacity [mL/g]": 59.81293725066562,
         "_deepnote_index_column": "pretest_1569"
        },
        {
         "CO2_working_capacity [mL/g]": 11.851802215378468,
         "_deepnote_index_column": "pretest_1570"
        },
        {
         "CO2_working_capacity [mL/g]": 3.9697148798330106,
         "_deepnote_index_column": "pretest_1571"
        },
        {
         "CO2_working_capacity [mL/g]": 0.5836945548999737,
         "_deepnote_index_column": "pretest_1572"
        },
        {
         "CO2_working_capacity [mL/g]": 0.10532634003361636,
         "_deepnote_index_column": "pretest_1573"
        },
        {
         "CO2_working_capacity [mL/g]": -2.488909177791048,
         "_deepnote_index_column": "pretest_1574"
        },
        {
         "CO2_working_capacity [mL/g]": -5.227592783477293,
         "_deepnote_index_column": "pretest_1575"
        },
        {
         "CO2_working_capacity [mL/g]": -4.104135451048613,
         "_deepnote_index_column": "pretest_1576"
        },
        {
         "CO2_working_capacity [mL/g]": 4.892500230255969,
         "_deepnote_index_column": "pretest_1577"
        },
        {
         "CO2_working_capacity [mL/g]": 28.368971674450314,
         "_deepnote_index_column": "pretest_1578"
        },
        {
         "CO2_working_capacity [mL/g]": -0.47899825207978497,
         "_deepnote_index_column": "pretest_1579"
        },
        {
         "CO2_working_capacity [mL/g]": -3.6473421597231352,
         "_deepnote_index_column": "pretest_1580"
        },
        {
         "CO2_working_capacity [mL/g]": -4.839711730806867,
         "_deepnote_index_column": "pretest_1581"
        },
        {
         "CO2_working_capacity [mL/g]": -5.575609733294449,
         "_deepnote_index_column": "pretest_1582"
        },
        {
         "CO2_working_capacity [mL/g]": -1.559309939668924,
         "_deepnote_index_column": "pretest_1583"
        },
        {
         "CO2_working_capacity [mL/g]": 3.9275834833932777,
         "_deepnote_index_column": "pretest_1584"
        },
        {
         "CO2_working_capacity [mL/g]": 4.7800865417241285,
         "_deepnote_index_column": "pretest_1585"
        },
        {
         "CO2_working_capacity [mL/g]": -4.620132589825755,
         "_deepnote_index_column": "pretest_1586"
        },
        {
         "CO2_working_capacity [mL/g]": 0.330002818847187,
         "_deepnote_index_column": "pretest_1587"
        },
        {
         "CO2_working_capacity [mL/g]": 2.0721910845658313,
         "_deepnote_index_column": "pretest_1588"
        },
        {
         "CO2_working_capacity [mL/g]": -5.594305071871335,
         "_deepnote_index_column": "pretest_1589"
        },
        {
         "CO2_working_capacity [mL/g]": -7.360979326645793,
         "_deepnote_index_column": "pretest_1590"
        },
        {
         "CO2_working_capacity [mL/g]": 19.47594798544718,
         "_deepnote_index_column": "pretest_1591"
        },
        {
         "CO2_working_capacity [mL/g]": -1.9192562259404198,
         "_deepnote_index_column": "pretest_1592"
        },
        {
         "CO2_working_capacity [mL/g]": 6.922021890090403,
         "_deepnote_index_column": "pretest_1593"
        },
        {
         "CO2_working_capacity [mL/g]": -2.2363915835053847,
         "_deepnote_index_column": "pretest_1594"
        },
        {
         "CO2_working_capacity [mL/g]": 0.7089072875217098,
         "_deepnote_index_column": "pretest_1595"
        },
        {
         "CO2_working_capacity [mL/g]": -3.091660338269486,
         "_deepnote_index_column": "pretest_1596"
        },
        {
         "CO2_working_capacity [mL/g]": -3.4358764272858453,
         "_deepnote_index_column": "pretest_1597"
        },
        {
         "CO2_working_capacity [mL/g]": -3.640478400038539,
         "_deepnote_index_column": "pretest_1598"
        },
        {
         "CO2_working_capacity [mL/g]": -2.6258244735583047,
         "_deepnote_index_column": "pretest_1599"
        },
        {
         "CO2_working_capacity [mL/g]": 1.5056199293235764,
         "_deepnote_index_column": "pretest_1600"
        },
        {
         "CO2_working_capacity [mL/g]": -0.4842418109754604,
         "_deepnote_index_column": "pretest_1601"
        },
        {
         "CO2_working_capacity [mL/g]": -0.6674424393095961,
         "_deepnote_index_column": "pretest_1602"
        },
        {
         "CO2_working_capacity [mL/g]": -1.563137320275402,
         "_deepnote_index_column": "pretest_1603"
        },
        {
         "CO2_working_capacity [mL/g]": -10.321535677418998,
         "_deepnote_index_column": "pretest_1604"
        },
        {
         "CO2_working_capacity [mL/g]": -3.291123099909379,
         "_deepnote_index_column": "pretest_1605"
        },
        {
         "CO2_working_capacity [mL/g]": 14.354831941387307,
         "_deepnote_index_column": "pretest_1606"
        },
        {
         "CO2_working_capacity [mL/g]": -6.315731496774758,
         "_deepnote_index_column": "pretest_1607"
        },
        {
         "CO2_working_capacity [mL/g]": -4.678962502211929,
         "_deepnote_index_column": "pretest_1608"
        },
        {
         "CO2_working_capacity [mL/g]": 0.18646832659332943,
         "_deepnote_index_column": "pretest_1609"
        },
        {
         "CO2_working_capacity [mL/g]": -7.862089741030667,
         "_deepnote_index_column": "pretest_1610"
        },
        {
         "CO2_working_capacity [mL/g]": 4.830696939110515,
         "_deepnote_index_column": "pretest_1611"
        },
        {
         "CO2_working_capacity [mL/g]": -1.9192138618800172,
         "_deepnote_index_column": "pretest_1612"
        },
        {
         "CO2_working_capacity [mL/g]": -1.4841617941238383,
         "_deepnote_index_column": "pretest_1613"
        },
        {
         "CO2_working_capacity [mL/g]": -3.0980076251828264,
         "_deepnote_index_column": "pretest_1614"
        },
        {
         "CO2_working_capacity [mL/g]": -11.261944744407945,
         "_deepnote_index_column": "pretest_1615"
        },
        {
         "CO2_working_capacity [mL/g]": -1.4539229039594048,
         "_deepnote_index_column": "pretest_1616"
        },
        {
         "CO2_working_capacity [mL/g]": -10.427229724081323,
         "_deepnote_index_column": "pretest_1617"
        },
        {
         "CO2_working_capacity [mL/g]": -7.177495005653893,
         "_deepnote_index_column": "pretest_1618"
        },
        {
         "CO2_working_capacity [mL/g]": -13.449953192266866,
         "_deepnote_index_column": "pretest_1619"
        },
        {
         "CO2_working_capacity [mL/g]": 0.4692042747609719,
         "_deepnote_index_column": "pretest_1620"
        },
        {
         "CO2_working_capacity [mL/g]": 0.7990505745741728,
         "_deepnote_index_column": "pretest_1621"
        },
        {
         "CO2_working_capacity [mL/g]": -4.964800074291522,
         "_deepnote_index_column": "pretest_1622"
        },
        {
         "CO2_working_capacity [mL/g]": -2.490874102539743,
         "_deepnote_index_column": "pretest_1623"
        },
        {
         "CO2_working_capacity [mL/g]": 0.8136146741139185,
         "_deepnote_index_column": "pretest_1624"
        },
        {
         "CO2_working_capacity [mL/g]": 4.944813190460967,
         "_deepnote_index_column": "pretest_1625"
        },
        {
         "CO2_working_capacity [mL/g]": 5.829957685376925,
         "_deepnote_index_column": "pretest_1626"
        },
        {
         "CO2_working_capacity [mL/g]": -6.846954554949553,
         "_deepnote_index_column": "pretest_1627"
        },
        {
         "CO2_working_capacity [mL/g]": 0.3621998992386395,
         "_deepnote_index_column": "pretest_1628"
        },
        {
         "CO2_working_capacity [mL/g]": -7.349386795052704,
         "_deepnote_index_column": "pretest_1629"
        },
        {
         "CO2_working_capacity [mL/g]": -1.546022901856827,
         "_deepnote_index_column": "pretest_1630"
        },
        {
         "CO2_working_capacity [mL/g]": -6.987059740792029,
         "_deepnote_index_column": "pretest_1631"
        },
        {
         "CO2_working_capacity [mL/g]": 3.4318308091772964,
         "_deepnote_index_column": "pretest_1632"
        },
        {
         "CO2_working_capacity [mL/g]": 2.1402652756186584,
         "_deepnote_index_column": "pretest_1633"
        },
        {
         "CO2_working_capacity [mL/g]": 3.1716299333387,
         "_deepnote_index_column": "pretest_1634"
        },
        {
         "CO2_working_capacity [mL/g]": 35.7054513520517,
         "_deepnote_index_column": "pretest_1635"
        },
        {
         "CO2_working_capacity [mL/g]": 6.677027121090498,
         "_deepnote_index_column": "pretest_1636"
        },
        {
         "CO2_working_capacity [mL/g]": -1.2929619920383515,
         "_deepnote_index_column": "pretest_1637"
        },
        {
         "CO2_working_capacity [mL/g]": -10.905818248096324,
         "_deepnote_index_column": "pretest_1638"
        },
        {
         "CO2_working_capacity [mL/g]": -2.847296528147447,
         "_deepnote_index_column": "pretest_1639"
        },
        {
         "CO2_working_capacity [mL/g]": 7.002312484269119,
         "_deepnote_index_column": "pretest_1640"
        },
        {
         "CO2_working_capacity [mL/g]": -0.2763378263678561,
         "_deepnote_index_column": "pretest_1641"
        },
        {
         "CO2_working_capacity [mL/g]": 43.86865175914384,
         "_deepnote_index_column": "pretest_1642"
        },
        {
         "CO2_working_capacity [mL/g]": 5.050244647211746,
         "_deepnote_index_column": "pretest_1643"
        },
        {
         "CO2_working_capacity [mL/g]": 1.2196301557275162,
         "_deepnote_index_column": "pretest_1644"
        },
        {
         "CO2_working_capacity [mL/g]": 2.056569948271283,
         "_deepnote_index_column": "pretest_1645"
        },
        {
         "CO2_working_capacity [mL/g]": 5.152937911276226,
         "_deepnote_index_column": "pretest_1646"
        },
        {
         "CO2_working_capacity [mL/g]": -0.3563502839907642,
         "_deepnote_index_column": "pretest_1647"
        },
        {
         "CO2_working_capacity [mL/g]": -2.9690499093771963,
         "_deepnote_index_column": "pretest_1648"
        },
        {
         "CO2_working_capacity [mL/g]": -13.486268622875476,
         "_deepnote_index_column": "pretest_1649"
        },
        {
         "CO2_working_capacity [mL/g]": -6.03826260093629,
         "_deepnote_index_column": "pretest_1650"
        },
        {
         "CO2_working_capacity [mL/g]": 7.892874436713205,
         "_deepnote_index_column": "pretest_1651"
        },
        {
         "CO2_working_capacity [mL/g]": -4.359589107673358,
         "_deepnote_index_column": "pretest_1652"
        },
        {
         "CO2_working_capacity [mL/g]": 1.1731653329366467,
         "_deepnote_index_column": "pretest_1653"
        },
        {
         "CO2_working_capacity [mL/g]": 26.361941662716383,
         "_deepnote_index_column": "pretest_1654"
        },
        {
         "CO2_working_capacity [mL/g]": 0.42984890989424257,
         "_deepnote_index_column": "pretest_1655"
        },
        {
         "CO2_working_capacity [mL/g]": -0.6685023658570216,
         "_deepnote_index_column": "pretest_1656"
        },
        {
         "CO2_working_capacity [mL/g]": 0.2941670200285628,
         "_deepnote_index_column": "pretest_1657"
        },
        {
         "CO2_working_capacity [mL/g]": 5.055366949545461,
         "_deepnote_index_column": "pretest_1658"
        },
        {
         "CO2_working_capacity [mL/g]": 5.251214201408078,
         "_deepnote_index_column": "pretest_1659"
        },
        {
         "CO2_working_capacity [mL/g]": -5.670675213452796,
         "_deepnote_index_column": "pretest_1660"
        },
        {
         "CO2_working_capacity [mL/g]": -0.03934726117310703,
         "_deepnote_index_column": "pretest_1661"
        },
        {
         "CO2_working_capacity [mL/g]": -3.2160671529573848,
         "_deepnote_index_column": "pretest_1662"
        },
        {
         "CO2_working_capacity [mL/g]": -8.671716938722593,
         "_deepnote_index_column": "pretest_1663"
        },
        {
         "CO2_working_capacity [mL/g]": -1.1486320500051135,
         "_deepnote_index_column": "pretest_1664"
        },
        {
         "CO2_working_capacity [mL/g]": 3.6543373703665267,
         "_deepnote_index_column": "pretest_1665"
        },
        {
         "CO2_working_capacity [mL/g]": -7.634770797269288,
         "_deepnote_index_column": "pretest_1666"
        },
        {
         "CO2_working_capacity [mL/g]": -0.7237674091747834,
         "_deepnote_index_column": "pretest_1667"
        },
        {
         "CO2_working_capacity [mL/g]": -5.969374266143795,
         "_deepnote_index_column": "pretest_1668"
        },
        {
         "CO2_working_capacity [mL/g]": 3.7956013226070935,
         "_deepnote_index_column": "pretest_1669"
        },
        {
         "CO2_working_capacity [mL/g]": -5.7842449201024095,
         "_deepnote_index_column": "pretest_1670"
        },
        {
         "CO2_working_capacity [mL/g]": -3.9595484474114686,
         "_deepnote_index_column": "pretest_1671"
        },
        {
         "CO2_working_capacity [mL/g]": 0.14939268962010602,
         "_deepnote_index_column": "pretest_1672"
        },
        {
         "CO2_working_capacity [mL/g]": 1.3102536765068507,
         "_deepnote_index_column": "pretest_1673"
        },
        {
         "CO2_working_capacity [mL/g]": 2.3474823070170827,
         "_deepnote_index_column": "pretest_1674"
        },
        {
         "CO2_working_capacity [mL/g]": -5.070753009374596,
         "_deepnote_index_column": "pretest_1675"
        },
        {
         "CO2_working_capacity [mL/g]": -3.1103346472277167,
         "_deepnote_index_column": "pretest_1676"
        },
        {
         "CO2_working_capacity [mL/g]": -5.7969433571399005,
         "_deepnote_index_column": "pretest_1677"
        },
        {
         "CO2_working_capacity [mL/g]": 1.7818985427260556,
         "_deepnote_index_column": "pretest_1678"
        },
        {
         "CO2_working_capacity [mL/g]": 41.80999539491985,
         "_deepnote_index_column": "pretest_1679"
        },
        {
         "CO2_working_capacity [mL/g]": 1.0557776131523653,
         "_deepnote_index_column": "pretest_1680"
        },
        {
         "CO2_working_capacity [mL/g]": 9.005521731651433,
         "_deepnote_index_column": "pretest_1681"
        },
        {
         "CO2_working_capacity [mL/g]": -0.1545765212954251,
         "_deepnote_index_column": "pretest_1682"
        },
        {
         "CO2_working_capacity [mL/g]": 32.091219920935295,
         "_deepnote_index_column": "pretest_1683"
        },
        {
         "CO2_working_capacity [mL/g]": -2.9674521898137556,
         "_deepnote_index_column": "pretest_1684"
        },
        {
         "CO2_working_capacity [mL/g]": 0.6281837451978702,
         "_deepnote_index_column": "pretest_1685"
        },
        {
         "CO2_working_capacity [mL/g]": -1.188846339840366,
         "_deepnote_index_column": "pretest_1686"
        },
        {
         "CO2_working_capacity [mL/g]": -0.28835380546278344,
         "_deepnote_index_column": "pretest_1687"
        },
        {
         "CO2_working_capacity [mL/g]": 5.317761627777609,
         "_deepnote_index_column": "pretest_1688"
        },
        {
         "CO2_working_capacity [mL/g]": -0.27506441010152116,
         "_deepnote_index_column": "pretest_1689"
        },
        {
         "CO2_working_capacity [mL/g]": -1.3643566959953817,
         "_deepnote_index_column": "pretest_1690"
        },
        {
         "CO2_working_capacity [mL/g]": 0.9067029139898566,
         "_deepnote_index_column": "pretest_1691"
        },
        {
         "CO2_working_capacity [mL/g]": 0.2503148197730553,
         "_deepnote_index_column": "pretest_1692"
        },
        {
         "CO2_working_capacity [mL/g]": 1.2840837071564366,
         "_deepnote_index_column": "pretest_1693"
        },
        {
         "CO2_working_capacity [mL/g]": -0.00780801239527591,
         "_deepnote_index_column": "pretest_1694"
        },
        {
         "CO2_working_capacity [mL/g]": -0.26324316684661825,
         "_deepnote_index_column": "pretest_1695"
        },
        {
         "CO2_working_capacity [mL/g]": -4.835747738312035,
         "_deepnote_index_column": "pretest_1696"
        },
        {
         "CO2_working_capacity [mL/g]": -0.45265717385756543,
         "_deepnote_index_column": "pretest_1697"
        },
        {
         "CO2_working_capacity [mL/g]": -1.1156435315687658,
         "_deepnote_index_column": "pretest_1698"
        },
        {
         "CO2_working_capacity [mL/g]": 2.2928195746339695,
         "_deepnote_index_column": "pretest_1699"
        },
        {
         "CO2_working_capacity [mL/g]": 3.326025337118497,
         "_deepnote_index_column": "pretest_1700"
        },
        {
         "CO2_working_capacity [mL/g]": 10.928519501172152,
         "_deepnote_index_column": "pretest_1701"
        },
        {
         "CO2_working_capacity [mL/g]": 1.286818582114006,
         "_deepnote_index_column": "pretest_1702"
        },
        {
         "CO2_working_capacity [mL/g]": -3.6490620713010515,
         "_deepnote_index_column": "pretest_1703"
        },
        {
         "CO2_working_capacity [mL/g]": 1.3715139276277255,
         "_deepnote_index_column": "pretest_1704"
        },
        {
         "CO2_working_capacity [mL/g]": 14.687002329486102,
         "_deepnote_index_column": "pretest_1705"
        },
        {
         "CO2_working_capacity [mL/g]": 2.0130906954050034,
         "_deepnote_index_column": "pretest_1706"
        },
        {
         "CO2_working_capacity [mL/g]": 4.117512796162063,
         "_deepnote_index_column": "pretest_1707"
        },
        {
         "CO2_working_capacity [mL/g]": -2.0190368251952977,
         "_deepnote_index_column": "pretest_1708"
        },
        {
         "CO2_working_capacity [mL/g]": -2.2794214718714914,
         "_deepnote_index_column": "pretest_1709"
        },
        {
         "CO2_working_capacity [mL/g]": 9.33016338110012,
         "_deepnote_index_column": "pretest_1710"
        },
        {
         "CO2_working_capacity [mL/g]": 3.826651978427816,
         "_deepnote_index_column": "pretest_1711"
        },
        {
         "CO2_working_capacity [mL/g]": 2.2974211448765716,
         "_deepnote_index_column": "pretest_1712"
        },
        {
         "CO2_working_capacity [mL/g]": -3.4330371779550504,
         "_deepnote_index_column": "pretest_1713"
        },
        {
         "CO2_working_capacity [mL/g]": 4.180460267741715,
         "_deepnote_index_column": "pretest_1714"
        },
        {
         "CO2_working_capacity [mL/g]": -0.6480428451408671,
         "_deepnote_index_column": "pretest_1715"
        },
        {
         "CO2_working_capacity [mL/g]": -2.789133622189145,
         "_deepnote_index_column": "pretest_1716"
        },
        {
         "CO2_working_capacity [mL/g]": 0.04603629079857825,
         "_deepnote_index_column": "pretest_1717"
        },
        {
         "CO2_working_capacity [mL/g]": 11.957197964330614,
         "_deepnote_index_column": "pretest_1718"
        },
        {
         "CO2_working_capacity [mL/g]": 2.6896560055079504,
         "_deepnote_index_column": "pretest_1719"
        },
        {
         "CO2_working_capacity [mL/g]": 10.438105847122337,
         "_deepnote_index_column": "pretest_1720"
        },
        {
         "CO2_working_capacity [mL/g]": 8.989328488872268,
         "_deepnote_index_column": "pretest_1721"
        },
        {
         "CO2_working_capacity [mL/g]": -1.8617466875909372,
         "_deepnote_index_column": "pretest_1722"
        },
        {
         "CO2_working_capacity [mL/g]": -2.119127877100773,
         "_deepnote_index_column": "pretest_1723"
        },
        {
         "CO2_working_capacity [mL/g]": -5.995567404991094,
         "_deepnote_index_column": "pretest_1724"
        },
        {
         "CO2_working_capacity [mL/g]": -0.029499972431636934,
         "_deepnote_index_column": "pretest_1725"
        },
        {
         "CO2_working_capacity [mL/g]": 1.5219203264991747,
         "_deepnote_index_column": "pretest_1726"
        },
        {
         "CO2_working_capacity [mL/g]": 4.613084365593272,
         "_deepnote_index_column": "pretest_1727"
        },
        {
         "CO2_working_capacity [mL/g]": -11.826400910782663,
         "_deepnote_index_column": "pretest_1728"
        },
        {
         "CO2_working_capacity [mL/g]": -6.4568933162628825,
         "_deepnote_index_column": "pretest_1729"
        },
        {
         "CO2_working_capacity [mL/g]": 2.5241384540681495,
         "_deepnote_index_column": "pretest_1730"
        },
        {
         "CO2_working_capacity [mL/g]": -4.2514602992301125,
         "_deepnote_index_column": "pretest_1731"
        },
        {
         "CO2_working_capacity [mL/g]": -4.271247664588584,
         "_deepnote_index_column": "pretest_1732"
        },
        {
         "CO2_working_capacity [mL/g]": 2.5823399948526187,
         "_deepnote_index_column": "pretest_1733"
        },
        {
         "CO2_working_capacity [mL/g]": 62.33714016561227,
         "_deepnote_index_column": "pretest_1734"
        },
        {
         "CO2_working_capacity [mL/g]": -1.3528165243824204,
         "_deepnote_index_column": "pretest_1735"
        },
        {
         "CO2_working_capacity [mL/g]": -1.5750528983922023,
         "_deepnote_index_column": "pretest_1736"
        },
        {
         "CO2_working_capacity [mL/g]": -8.222960229729086,
         "_deepnote_index_column": "pretest_1737"
        },
        {
         "CO2_working_capacity [mL/g]": 3.687275751866862,
         "_deepnote_index_column": "pretest_1738"
        },
        {
         "CO2_working_capacity [mL/g]": 3.5171442948385048,
         "_deepnote_index_column": "pretest_1739"
        },
        {
         "CO2_working_capacity [mL/g]": -2.5988665881899764,
         "_deepnote_index_column": "pretest_1740"
        },
        {
         "CO2_working_capacity [mL/g]": -4.445096502204829,
         "_deepnote_index_column": "pretest_1741"
        },
        {
         "CO2_working_capacity [mL/g]": -3.1658574490742764,
         "_deepnote_index_column": "pretest_1742"
        },
        {
         "CO2_working_capacity [mL/g]": 6.471260992706656,
         "_deepnote_index_column": "pretest_1743"
        },
        {
         "CO2_working_capacity [mL/g]": 0.149486975280044,
         "_deepnote_index_column": "pretest_1744"
        },
        {
         "CO2_working_capacity [mL/g]": -2.098592039835849,
         "_deepnote_index_column": "pretest_1745"
        },
        {
         "CO2_working_capacity [mL/g]": 15.459462583580471,
         "_deepnote_index_column": "pretest_1746"
        },
        {
         "CO2_working_capacity [mL/g]": 2.7587303238972907,
         "_deepnote_index_column": "pretest_1747"
        },
        {
         "CO2_working_capacity [mL/g]": 0.22215134686485527,
         "_deepnote_index_column": "pretest_1748"
        },
        {
         "CO2_working_capacity [mL/g]": -6.596304970869761,
         "_deepnote_index_column": "pretest_1749"
        },
        {
         "CO2_working_capacity [mL/g]": -0.21786054147739406,
         "_deepnote_index_column": "pretest_1750"
        },
        {
         "CO2_working_capacity [mL/g]": -8.357620097381494,
         "_deepnote_index_column": "pretest_1751"
        },
        {
         "CO2_working_capacity [mL/g]": 0.09037034677555056,
         "_deepnote_index_column": "pretest_1752"
        },
        {
         "CO2_working_capacity [mL/g]": -5.915624669319189,
         "_deepnote_index_column": "pretest_1753"
        },
        {
         "CO2_working_capacity [mL/g]": 0.7292450494423065,
         "_deepnote_index_column": "pretest_1754"
        },
        {
         "CO2_working_capacity [mL/g]": -4.836209876344367,
         "_deepnote_index_column": "pretest_1755"
        },
        {
         "CO2_working_capacity [mL/g]": -5.099595320126994,
         "_deepnote_index_column": "pretest_1756"
        },
        {
         "CO2_working_capacity [mL/g]": -2.7329120177084194,
         "_deepnote_index_column": "pretest_1757"
        },
        {
         "CO2_working_capacity [mL/g]": -3.8004691336351697,
         "_deepnote_index_column": "pretest_1758"
        },
        {
         "CO2_working_capacity [mL/g]": -2.9573638391101893,
         "_deepnote_index_column": "pretest_1759"
        },
        {
         "CO2_working_capacity [mL/g]": 8.165432589672346,
         "_deepnote_index_column": "pretest_1760"
        },
        {
         "CO2_working_capacity [mL/g]": 40.42501328513517,
         "_deepnote_index_column": "pretest_1761"
        },
        {
         "CO2_working_capacity [mL/g]": 20.53333637567431,
         "_deepnote_index_column": "pretest_1762"
        },
        {
         "CO2_working_capacity [mL/g]": -1.69871342349536,
         "_deepnote_index_column": "pretest_1763"
        },
        {
         "CO2_working_capacity [mL/g]": 9.11203382808959,
         "_deepnote_index_column": "pretest_1764"
        },
        {
         "CO2_working_capacity [mL/g]": 1.785822756290699,
         "_deepnote_index_column": "pretest_1765"
        },
        {
         "CO2_working_capacity [mL/g]": -6.590879677274311,
         "_deepnote_index_column": "pretest_1766"
        },
        {
         "CO2_working_capacity [mL/g]": -5.1668619144594405,
         "_deepnote_index_column": "pretest_1767"
        },
        {
         "CO2_working_capacity [mL/g]": -5.622049565914291,
         "_deepnote_index_column": "pretest_1768"
        },
        {
         "CO2_working_capacity [mL/g]": -13.072664939603097,
         "_deepnote_index_column": "pretest_1769"
        },
        {
         "CO2_working_capacity [mL/g]": -5.789622459416309,
         "_deepnote_index_column": "pretest_1770"
        },
        {
         "CO2_working_capacity [mL/g]": -2.5031139554915627,
         "_deepnote_index_column": "pretest_1771"
        },
        {
         "CO2_working_capacity [mL/g]": -8.468790652678356,
         "_deepnote_index_column": "pretest_1772"
        },
        {
         "CO2_working_capacity [mL/g]": 0.8779268927096424,
         "_deepnote_index_column": "pretest_1773"
        },
        {
         "CO2_working_capacity [mL/g]": -0.4814732887727047,
         "_deepnote_index_column": "pretest_1774"
        },
        {
         "CO2_working_capacity [mL/g]": -4.646270654034952,
         "_deepnote_index_column": "pretest_1775"
        },
        {
         "CO2_working_capacity [mL/g]": -2.097486280347442,
         "_deepnote_index_column": "pretest_1776"
        },
        {
         "CO2_working_capacity [mL/g]": -0.680514797903912,
         "_deepnote_index_column": "pretest_1777"
        },
        {
         "CO2_working_capacity [mL/g]": -11.888012906882704,
         "_deepnote_index_column": "pretest_1778"
        },
        {
         "CO2_working_capacity [mL/g]": -13.106047190336316,
         "_deepnote_index_column": "pretest_1779"
        },
        {
         "CO2_working_capacity [mL/g]": 1.7029931922119927,
         "_deepnote_index_column": "pretest_1780"
        },
        {
         "CO2_working_capacity [mL/g]": 1.9592863258296547,
         "_deepnote_index_column": "pretest_1781"
        },
        {
         "CO2_working_capacity [mL/g]": -5.262035952409791,
         "_deepnote_index_column": "pretest_1782"
        },
        {
         "CO2_working_capacity [mL/g]": 0.1865906036181329,
         "_deepnote_index_column": "pretest_1783"
        },
        {
         "CO2_working_capacity [mL/g]": 2.5649894010603775,
         "_deepnote_index_column": "pretest_1784"
        },
        {
         "CO2_working_capacity [mL/g]": -2.6812686062920434,
         "_deepnote_index_column": "pretest_1785"
        },
        {
         "CO2_working_capacity [mL/g]": 93.51669421516029,
         "_deepnote_index_column": "pretest_1786"
        },
        {
         "CO2_working_capacity [mL/g]": 13.073436472409853,
         "_deepnote_index_column": "pretest_1787"
        },
        {
         "CO2_working_capacity [mL/g]": 0.621594463974047,
         "_deepnote_index_column": "pretest_1788"
        },
        {
         "CO2_working_capacity [mL/g]": -1.9460515424742766,
         "_deepnote_index_column": "pretest_1789"
        },
        {
         "CO2_working_capacity [mL/g]": -3.4854274352085213,
         "_deepnote_index_column": "pretest_1790"
        },
        {
         "CO2_working_capacity [mL/g]": 4.563304494554549,
         "_deepnote_index_column": "pretest_1791"
        },
        {
         "CO2_working_capacity [mL/g]": -1.665036857239734,
         "_deepnote_index_column": "pretest_1792"
        },
        {
         "CO2_working_capacity [mL/g]": 46.136052646219284,
         "_deepnote_index_column": "pretest_1793"
        },
        {
         "CO2_working_capacity [mL/g]": -3.6106623453943714,
         "_deepnote_index_column": "pretest_1794"
        },
        {
         "CO2_working_capacity [mL/g]": -5.102685623718609,
         "_deepnote_index_column": "pretest_1795"
        },
        {
         "CO2_working_capacity [mL/g]": 3.2609050225726635,
         "_deepnote_index_column": "pretest_1796"
        },
        {
         "CO2_working_capacity [mL/g]": 13.494395897529165,
         "_deepnote_index_column": "pretest_1797"
        },
        {
         "CO2_working_capacity [mL/g]": -0.2418858510436422,
         "_deepnote_index_column": "pretest_1798"
        },
        {
         "CO2_working_capacity [mL/g]": 3.3202965196694065,
         "_deepnote_index_column": "pretest_1799"
        },
        {
         "CO2_working_capacity [mL/g]": 3.263235568886705,
         "_deepnote_index_column": "pretest_1800"
        },
        {
         "CO2_working_capacity [mL/g]": -0.03303700950521886,
         "_deepnote_index_column": "pretest_1801"
        },
        {
         "CO2_working_capacity [mL/g]": 56.385636117628295,
         "_deepnote_index_column": "pretest_1802"
        },
        {
         "CO2_working_capacity [mL/g]": 5.303078140290263,
         "_deepnote_index_column": "pretest_1803"
        },
        {
         "CO2_working_capacity [mL/g]": 5.573843966889477,
         "_deepnote_index_column": "pretest_1804"
        },
        {
         "CO2_working_capacity [mL/g]": -1.1697862970646966,
         "_deepnote_index_column": "pretest_1805"
        },
        {
         "CO2_working_capacity [mL/g]": -4.719737775337914,
         "_deepnote_index_column": "pretest_1806"
        },
        {
         "CO2_working_capacity [mL/g]": -2.8663729288776865,
         "_deepnote_index_column": "pretest_1807"
        },
        {
         "CO2_working_capacity [mL/g]": -0.7412057488679267,
         "_deepnote_index_column": "pretest_1808"
        },
        {
         "CO2_working_capacity [mL/g]": 8.812942569229921,
         "_deepnote_index_column": "pretest_1809"
        },
        {
         "CO2_working_capacity [mL/g]": 2.000366351576048,
         "_deepnote_index_column": "pretest_1810"
        },
        {
         "CO2_working_capacity [mL/g]": -4.043453320657119,
         "_deepnote_index_column": "pretest_1811"
        },
        {
         "CO2_working_capacity [mL/g]": -8.263565291950503,
         "_deepnote_index_column": "pretest_1812"
        },
        {
         "CO2_working_capacity [mL/g]": -0.8233794717902156,
         "_deepnote_index_column": "pretest_1813"
        },
        {
         "CO2_working_capacity [mL/g]": -12.24959345432265,
         "_deepnote_index_column": "pretest_1814"
        },
        {
         "CO2_working_capacity [mL/g]": -5.913113822627169,
         "_deepnote_index_column": "pretest_1815"
        },
        {
         "CO2_working_capacity [mL/g]": -8.78388496608412,
         "_deepnote_index_column": "pretest_1816"
        },
        {
         "CO2_working_capacity [mL/g]": -6.151138289962981,
         "_deepnote_index_column": "pretest_1817"
        },
        {
         "CO2_working_capacity [mL/g]": 8.612770336865275,
         "_deepnote_index_column": "pretest_1818"
        },
        {
         "CO2_working_capacity [mL/g]": -2.311876584746483,
         "_deepnote_index_column": "pretest_1819"
        },
        {
         "CO2_working_capacity [mL/g]": 1.1405100380544042,
         "_deepnote_index_column": "pretest_1820"
        },
        {
         "CO2_working_capacity [mL/g]": -1.2104380516622455,
         "_deepnote_index_column": "pretest_1821"
        },
        {
         "CO2_working_capacity [mL/g]": 23.318258189856728,
         "_deepnote_index_column": "pretest_1822"
        },
        {
         "CO2_working_capacity [mL/g]": 8.357540441397523,
         "_deepnote_index_column": "pretest_1823"
        },
        {
         "CO2_working_capacity [mL/g]": 3.9738738453042144,
         "_deepnote_index_column": "pretest_1824"
        },
        {
         "CO2_working_capacity [mL/g]": -0.003665236240556169,
         "_deepnote_index_column": "pretest_1825"
        },
        {
         "CO2_working_capacity [mL/g]": -1.7855675980708738,
         "_deepnote_index_column": "pretest_1826"
        },
        {
         "CO2_working_capacity [mL/g]": -2.7460083925742067,
         "_deepnote_index_column": "pretest_1827"
        },
        {
         "CO2_working_capacity [mL/g]": -1.3329095785316298,
         "_deepnote_index_column": "pretest_1828"
        },
        {
         "CO2_working_capacity [mL/g]": -5.397485817588802,
         "_deepnote_index_column": "pretest_1829"
        },
        {
         "CO2_working_capacity [mL/g]": 3.4231356268556423,
         "_deepnote_index_column": "pretest_1830"
        },
        {
         "CO2_working_capacity [mL/g]": 48.83254248396472,
         "_deepnote_index_column": "pretest_1831"
        },
        {
         "CO2_working_capacity [mL/g]": -3.309238503455103,
         "_deepnote_index_column": "pretest_1832"
        },
        {
         "CO2_working_capacity [mL/g]": 3.3355899578538186,
         "_deepnote_index_column": "pretest_1833"
        },
        {
         "CO2_working_capacity [mL/g]": -3.3115764551258877,
         "_deepnote_index_column": "pretest_1834"
        },
        {
         "CO2_working_capacity [mL/g]": -1.6337488513954654,
         "_deepnote_index_column": "pretest_1835"
        },
        {
         "CO2_working_capacity [mL/g]": 2.3392934232708114,
         "_deepnote_index_column": "pretest_1836"
        },
        {
         "CO2_working_capacity [mL/g]": -0.5554039921691896,
         "_deepnote_index_column": "pretest_1837"
        },
        {
         "CO2_working_capacity [mL/g]": -9.897282800504556,
         "_deepnote_index_column": "pretest_1838"
        },
        {
         "CO2_working_capacity [mL/g]": 5.451146482557236,
         "_deepnote_index_column": "pretest_1839"
        },
        {
         "CO2_working_capacity [mL/g]": -0.7112979155499332,
         "_deepnote_index_column": "pretest_1840"
        },
        {
         "CO2_working_capacity [mL/g]": -13.85434272296842,
         "_deepnote_index_column": "pretest_1841"
        },
        {
         "CO2_working_capacity [mL/g]": -8.884095423806693,
         "_deepnote_index_column": "pretest_1842"
        },
        {
         "CO2_working_capacity [mL/g]": -2.6733454001803607,
         "_deepnote_index_column": "pretest_1843"
        },
        {
         "CO2_working_capacity [mL/g]": 1.4898473348252863,
         "_deepnote_index_column": "pretest_1844"
        },
        {
         "CO2_working_capacity [mL/g]": -11.749978398106137,
         "_deepnote_index_column": "pretest_1845"
        },
        {
         "CO2_working_capacity [mL/g]": -3.8122968299348727,
         "_deepnote_index_column": "pretest_1846"
        },
        {
         "CO2_working_capacity [mL/g]": -1.583902648776268,
         "_deepnote_index_column": "pretest_1847"
        },
        {
         "CO2_working_capacity [mL/g]": 1.9502589404339177,
         "_deepnote_index_column": "pretest_1848"
        },
        {
         "CO2_working_capacity [mL/g]": -9.141183873881394,
         "_deepnote_index_column": "pretest_1849"
        },
        {
         "CO2_working_capacity [mL/g]": 1.885551696205806,
         "_deepnote_index_column": "pretest_1850"
        },
        {
         "CO2_working_capacity [mL/g]": 21.99844758851371,
         "_deepnote_index_column": "pretest_1851"
        },
        {
         "CO2_working_capacity [mL/g]": 17.406267343960714,
         "_deepnote_index_column": "pretest_1852"
        },
        {
         "CO2_working_capacity [mL/g]": 9.284928950043234,
         "_deepnote_index_column": "pretest_1853"
        },
        {
         "CO2_working_capacity [mL/g]": 14.78460766623876,
         "_deepnote_index_column": "pretest_1854"
        },
        {
         "CO2_working_capacity [mL/g]": 34.71151902357142,
         "_deepnote_index_column": "pretest_1855"
        },
        {
         "CO2_working_capacity [mL/g]": -2.1847237768354857,
         "_deepnote_index_column": "pretest_1856"
        },
        {
         "CO2_working_capacity [mL/g]": 2.00587781859016,
         "_deepnote_index_column": "pretest_1857"
        },
        {
         "CO2_working_capacity [mL/g]": 23.603330072098053,
         "_deepnote_index_column": "pretest_1858"
        },
        {
         "CO2_working_capacity [mL/g]": 0.26384337328387203,
         "_deepnote_index_column": "pretest_1859"
        },
        {
         "CO2_working_capacity [mL/g]": 35.527076600273105,
         "_deepnote_index_column": "pretest_1860"
        },
        {
         "CO2_working_capacity [mL/g]": -4.8321281996113,
         "_deepnote_index_column": "pretest_1861"
        },
        {
         "CO2_working_capacity [mL/g]": 2.6512531176904743,
         "_deepnote_index_column": "pretest_1862"
        },
        {
         "CO2_working_capacity [mL/g]": 1.6062342834049645,
         "_deepnote_index_column": "pretest_1863"
        },
        {
         "CO2_working_capacity [mL/g]": 2.429621719618517,
         "_deepnote_index_column": "pretest_1864"
        },
        {
         "CO2_working_capacity [mL/g]": -5.392830933681225,
         "_deepnote_index_column": "pretest_1865"
        },
        {
         "CO2_working_capacity [mL/g]": 2.994261552464289,
         "_deepnote_index_column": "pretest_1866"
        },
        {
         "CO2_working_capacity [mL/g]": -0.3903400962799196,
         "_deepnote_index_column": "pretest_1867"
        },
        {
         "CO2_working_capacity [mL/g]": -7.118856473623907,
         "_deepnote_index_column": "pretest_1868"
        },
        {
         "CO2_working_capacity [mL/g]": -2.215964035342682,
         "_deepnote_index_column": "pretest_1869"
        },
        {
         "CO2_working_capacity [mL/g]": -5.707386423800637,
         "_deepnote_index_column": "pretest_1870"
        },
        {
         "CO2_working_capacity [mL/g]": 1.1602040044096569,
         "_deepnote_index_column": "pretest_1871"
        },
        {
         "CO2_working_capacity [mL/g]": -2.9582473436846444,
         "_deepnote_index_column": "pretest_1872"
        },
        {
         "CO2_working_capacity [mL/g]": -2.818165654078304,
         "_deepnote_index_column": "pretest_1873"
        },
        {
         "CO2_working_capacity [mL/g]": -0.12454279727807745,
         "_deepnote_index_column": "pretest_1874"
        },
        {
         "CO2_working_capacity [mL/g]": 1.3223950028304743,
         "_deepnote_index_column": "pretest_1875"
        },
        {
         "CO2_working_capacity [mL/g]": 5.240375079100138,
         "_deepnote_index_column": "pretest_1876"
        },
        {
         "CO2_working_capacity [mL/g]": 4.168670780883235,
         "_deepnote_index_column": "pretest_1877"
        },
        {
         "CO2_working_capacity [mL/g]": -10.072447895142767,
         "_deepnote_index_column": "pretest_1878"
        },
        {
         "CO2_working_capacity [mL/g]": -2.4315938952103564,
         "_deepnote_index_column": "pretest_1879"
        },
        {
         "CO2_working_capacity [mL/g]": -2.0943877473926165,
         "_deepnote_index_column": "pretest_1880"
        },
        {
         "CO2_working_capacity [mL/g]": -4.648986740054669,
         "_deepnote_index_column": "pretest_1881"
        },
        {
         "CO2_working_capacity [mL/g]": -12.753535892198471,
         "_deepnote_index_column": "pretest_1882"
        },
        {
         "CO2_working_capacity [mL/g]": 35.661029435231,
         "_deepnote_index_column": "pretest_1883"
        },
        {
         "CO2_working_capacity [mL/g]": -0.6411083906273547,
         "_deepnote_index_column": "pretest_1884"
        },
        {
         "CO2_working_capacity [mL/g]": -4.918734561699554,
         "_deepnote_index_column": "pretest_1885"
        },
        {
         "CO2_working_capacity [mL/g]": -0.46390522443269616,
         "_deepnote_index_column": "pretest_1886"
        },
        {
         "CO2_working_capacity [mL/g]": 4.465765009054484,
         "_deepnote_index_column": "pretest_1887"
        },
        {
         "CO2_working_capacity [mL/g]": 3.8589107011904984,
         "_deepnote_index_column": "pretest_1888"
        },
        {
         "CO2_working_capacity [mL/g]": -4.827461906628362,
         "_deepnote_index_column": "pretest_1889"
        },
        {
         "CO2_working_capacity [mL/g]": -2.8495420940113263,
         "_deepnote_index_column": "pretest_1890"
        },
        {
         "CO2_working_capacity [mL/g]": -4.1638991518572395,
         "_deepnote_index_column": "pretest_1891"
        },
        {
         "CO2_working_capacity [mL/g]": -3.048543092991906,
         "_deepnote_index_column": "pretest_1892"
        },
        {
         "CO2_working_capacity [mL/g]": 0.3674605362012059,
         "_deepnote_index_column": "pretest_1893"
        },
        {
         "CO2_working_capacity [mL/g]": -3.7770784161252022,
         "_deepnote_index_column": "pretest_1894"
        },
        {
         "CO2_working_capacity [mL/g]": -2.611621329183474,
         "_deepnote_index_column": "pretest_1895"
        },
        {
         "CO2_working_capacity [mL/g]": 4.664338357421045,
         "_deepnote_index_column": "pretest_1896"
        },
        {
         "CO2_working_capacity [mL/g]": 3.151381334442772,
         "_deepnote_index_column": "pretest_1897"
        },
        {
         "CO2_working_capacity [mL/g]": 41.797372710780316,
         "_deepnote_index_column": "pretest_1898"
        },
        {
         "CO2_working_capacity [mL/g]": -13.397887916193843,
         "_deepnote_index_column": "pretest_1899"
        },
        {
         "CO2_working_capacity [mL/g]": 0.49037022229843075,
         "_deepnote_index_column": "pretest_1900"
        },
        {
         "CO2_working_capacity [mL/g]": -0.3274620292755941,
         "_deepnote_index_column": "pretest_1901"
        },
        {
         "CO2_working_capacity [mL/g]": -6.22440139952991,
         "_deepnote_index_column": "pretest_1902"
        },
        {
         "CO2_working_capacity [mL/g]": 7.426976306773854,
         "_deepnote_index_column": "pretest_1903"
        },
        {
         "CO2_working_capacity [mL/g]": -2.1748238058052367,
         "_deepnote_index_column": "pretest_1904"
        },
        {
         "CO2_working_capacity [mL/g]": 18.4388628386599,
         "_deepnote_index_column": "pretest_1905"
        },
        {
         "CO2_working_capacity [mL/g]": -8.93941771431636,
         "_deepnote_index_column": "pretest_1906"
        },
        {
         "CO2_working_capacity [mL/g]": 1.3082313301859116,
         "_deepnote_index_column": "pretest_1907"
        },
        {
         "CO2_working_capacity [mL/g]": 9.714077865188843,
         "_deepnote_index_column": "pretest_1908"
        },
        {
         "CO2_working_capacity [mL/g]": -7.135943603795101,
         "_deepnote_index_column": "pretest_1909"
        },
        {
         "CO2_working_capacity [mL/g]": 1.8052859860465573,
         "_deepnote_index_column": "pretest_1910"
        },
        {
         "CO2_working_capacity [mL/g]": 3.681387539717862,
         "_deepnote_index_column": "pretest_1911"
        },
        {
         "CO2_working_capacity [mL/g]": 4.552309987831339,
         "_deepnote_index_column": "pretest_1912"
        },
        {
         "CO2_working_capacity [mL/g]": 0.06860880450960138,
         "_deepnote_index_column": "pretest_1913"
        },
        {
         "CO2_working_capacity [mL/g]": -5.861355572306391,
         "_deepnote_index_column": "pretest_1914"
        },
        {
         "CO2_working_capacity [mL/g]": 5.628218532509076,
         "_deepnote_index_column": "pretest_1915"
        },
        {
         "CO2_working_capacity [mL/g]": 6.860263873276933,
         "_deepnote_index_column": "pretest_1916"
        },
        {
         "CO2_working_capacity [mL/g]": -4.7679826635843,
         "_deepnote_index_column": "pretest_1917"
        },
        {
         "CO2_working_capacity [mL/g]": 3.893092975406367,
         "_deepnote_index_column": "pretest_1918"
        },
        {
         "CO2_working_capacity [mL/g]": 2.6823380560402215,
         "_deepnote_index_column": "pretest_1919"
        },
        {
         "CO2_working_capacity [mL/g]": -2.398285501704268,
         "_deepnote_index_column": "pretest_1920"
        },
        {
         "CO2_working_capacity [mL/g]": 2.3097801165055984,
         "_deepnote_index_column": "pretest_1921"
        },
        {
         "CO2_working_capacity [mL/g]": -3.4534820861682762,
         "_deepnote_index_column": "pretest_1922"
        },
        {
         "CO2_working_capacity [mL/g]": 3.4202184824270816,
         "_deepnote_index_column": "pretest_1923"
        },
        {
         "CO2_working_capacity [mL/g]": 3.0199339650743453,
         "_deepnote_index_column": "pretest_1924"
        },
        {
         "CO2_working_capacity [mL/g]": -3.2362312163084668,
         "_deepnote_index_column": "pretest_1925"
        },
        {
         "CO2_working_capacity [mL/g]": 5.664256957719433,
         "_deepnote_index_column": "pretest_1926"
        },
        {
         "CO2_working_capacity [mL/g]": -2.622475661007235,
         "_deepnote_index_column": "pretest_1927"
        },
        {
         "CO2_working_capacity [mL/g]": 32.92454916881252,
         "_deepnote_index_column": "pretest_1928"
        },
        {
         "CO2_working_capacity [mL/g]": 0.10098722726628466,
         "_deepnote_index_column": "pretest_1929"
        },
        {
         "CO2_working_capacity [mL/g]": -5.503449664847548,
         "_deepnote_index_column": "pretest_1930"
        },
        {
         "CO2_working_capacity [mL/g]": -6.355679792555458,
         "_deepnote_index_column": "pretest_1931"
        },
        {
         "CO2_working_capacity [mL/g]": -3.591740977316236,
         "_deepnote_index_column": "pretest_1932"
        },
        {
         "CO2_working_capacity [mL/g]": 4.249887382109779,
         "_deepnote_index_column": "pretest_1933"
        },
        {
         "CO2_working_capacity [mL/g]": -1.3894289626892984,
         "_deepnote_index_column": "pretest_1934"
        },
        {
         "CO2_working_capacity [mL/g]": 8.551240399521657,
         "_deepnote_index_column": "pretest_1935"
        },
        {
         "CO2_working_capacity [mL/g]": -3.7747329453005944,
         "_deepnote_index_column": "pretest_1936"
        },
        {
         "CO2_working_capacity [mL/g]": -3.2049748940397835,
         "_deepnote_index_column": "pretest_1937"
        },
        {
         "CO2_working_capacity [mL/g]": -0.4720378380908315,
         "_deepnote_index_column": "pretest_1938"
        },
        {
         "CO2_working_capacity [mL/g]": 3.8256586515114734,
         "_deepnote_index_column": "pretest_1939"
        },
        {
         "CO2_working_capacity [mL/g]": -4.15966585026069,
         "_deepnote_index_column": "pretest_1940"
        },
        {
         "CO2_working_capacity [mL/g]": 3.4918229293206693,
         "_deepnote_index_column": "pretest_1941"
        },
        {
         "CO2_working_capacity [mL/g]": 5.673627424719342,
         "_deepnote_index_column": "pretest_1942"
        },
        {
         "CO2_working_capacity [mL/g]": -0.9942428273713375,
         "_deepnote_index_column": "pretest_1943"
        },
        {
         "CO2_working_capacity [mL/g]": -0.0788347168389933,
         "_deepnote_index_column": "pretest_1944"
        },
        {
         "CO2_working_capacity [mL/g]": 6.944500922986674,
         "_deepnote_index_column": "pretest_1945"
        },
        {
         "CO2_working_capacity [mL/g]": -8.336204945168035,
         "_deepnote_index_column": "pretest_1946"
        },
        {
         "CO2_working_capacity [mL/g]": -0.4161656539704254,
         "_deepnote_index_column": "pretest_1947"
        },
        {
         "CO2_working_capacity [mL/g]": -6.678408293453754,
         "_deepnote_index_column": "pretest_1948"
        },
        {
         "CO2_working_capacity [mL/g]": 5.685377739081863,
         "_deepnote_index_column": "pretest_1949"
        },
        {
         "CO2_working_capacity [mL/g]": 1.9561786853228327,
         "_deepnote_index_column": "pretest_1950"
        },
        {
         "CO2_working_capacity [mL/g]": -5.623177511081008,
         "_deepnote_index_column": "pretest_1951"
        },
        {
         "CO2_working_capacity [mL/g]": -0.47776366648434276,
         "_deepnote_index_column": "pretest_1952"
        },
        {
         "CO2_working_capacity [mL/g]": 62.44428901481756,
         "_deepnote_index_column": "pretest_1953"
        },
        {
         "CO2_working_capacity [mL/g]": 2.7956319593517236,
         "_deepnote_index_column": "pretest_1954"
        },
        {
         "CO2_working_capacity [mL/g]": -11.113678487719742,
         "_deepnote_index_column": "pretest_1955"
        },
        {
         "CO2_working_capacity [mL/g]": 0.951354607951501,
         "_deepnote_index_column": "pretest_1956"
        },
        {
         "CO2_working_capacity [mL/g]": 8.492545183411035,
         "_deepnote_index_column": "pretest_1957"
        },
        {
         "CO2_working_capacity [mL/g]": 6.366415346755398,
         "_deepnote_index_column": "pretest_1958"
        },
        {
         "CO2_working_capacity [mL/g]": -5.333605741418002,
         "_deepnote_index_column": "pretest_1959"
        },
        {
         "CO2_working_capacity [mL/g]": 2.6083662248229187,
         "_deepnote_index_column": "pretest_1960"
        },
        {
         "CO2_working_capacity [mL/g]": 5.511569806013442,
         "_deepnote_index_column": "pretest_1961"
        },
        {
         "CO2_working_capacity [mL/g]": 6.63453104344117,
         "_deepnote_index_column": "pretest_1962"
        },
        {
         "CO2_working_capacity [mL/g]": -14.07616591862502,
         "_deepnote_index_column": "pretest_1963"
        },
        {
         "CO2_working_capacity [mL/g]": 4.278285404788181,
         "_deepnote_index_column": "pretest_1964"
        },
        {
         "CO2_working_capacity [mL/g]": -7.42542846104962,
         "_deepnote_index_column": "pretest_1965"
        },
        {
         "CO2_working_capacity [mL/g]": -4.436011008615452,
         "_deepnote_index_column": "pretest_1966"
        },
        {
         "CO2_working_capacity [mL/g]": 31.658256294998115,
         "_deepnote_index_column": "pretest_1967"
        },
        {
         "CO2_working_capacity [mL/g]": -2.9209180633671665,
         "_deepnote_index_column": "pretest_1968"
        },
        {
         "CO2_working_capacity [mL/g]": -1.3654851303601092,
         "_deepnote_index_column": "pretest_1969"
        },
        {
         "CO2_working_capacity [mL/g]": 6.922222182430052,
         "_deepnote_index_column": "pretest_1970"
        },
        {
         "CO2_working_capacity [mL/g]": 18.15047590651573,
         "_deepnote_index_column": "pretest_1971"
        },
        {
         "CO2_working_capacity [mL/g]": 3.0754129963264147,
         "_deepnote_index_column": "pretest_1972"
        },
        {
         "CO2_working_capacity [mL/g]": 0.678593882452185,
         "_deepnote_index_column": "pretest_1973"
        },
        {
         "CO2_working_capacity [mL/g]": -3.9900153537384484,
         "_deepnote_index_column": "pretest_1974"
        },
        {
         "CO2_working_capacity [mL/g]": -8.50091676011574,
         "_deepnote_index_column": "pretest_1975"
        },
        {
         "CO2_working_capacity [mL/g]": -4.27223016788836,
         "_deepnote_index_column": "pretest_1976"
        },
        {
         "CO2_working_capacity [mL/g]": -8.32090657063282,
         "_deepnote_index_column": "pretest_1977"
        },
        {
         "CO2_working_capacity [mL/g]": 32.409862618879494,
         "_deepnote_index_column": "pretest_1978"
        },
        {
         "CO2_working_capacity [mL/g]": -3.7397946885207176,
         "_deepnote_index_column": "pretest_1979"
        },
        {
         "CO2_working_capacity [mL/g]": -4.305147111151802,
         "_deepnote_index_column": "pretest_1980"
        },
        {
         "CO2_working_capacity [mL/g]": 4.556485541369088,
         "_deepnote_index_column": "pretest_1981"
        },
        {
         "CO2_working_capacity [mL/g]": 1.1988486743384186,
         "_deepnote_index_column": "pretest_1982"
        },
        {
         "CO2_working_capacity [mL/g]": -1.1711265698786888,
         "_deepnote_index_column": "pretest_1983"
        },
        {
         "CO2_working_capacity [mL/g]": -10.503490282796047,
         "_deepnote_index_column": "pretest_1984"
        },
        {
         "CO2_working_capacity [mL/g]": -0.20228646391091587,
         "_deepnote_index_column": "pretest_1985"
        },
        {
         "CO2_working_capacity [mL/g]": -0.7492077315560379,
         "_deepnote_index_column": "pretest_1986"
        },
        {
         "CO2_working_capacity [mL/g]": -4.004225942756603,
         "_deepnote_index_column": "pretest_1987"
        },
        {
         "CO2_working_capacity [mL/g]": -3.9998237129413425,
         "_deepnote_index_column": "pretest_1988"
        },
        {
         "CO2_working_capacity [mL/g]": 4.881069069963191,
         "_deepnote_index_column": "pretest_1989"
        },
        {
         "CO2_working_capacity [mL/g]": -4.539125194675128,
         "_deepnote_index_column": "pretest_1990"
        },
        {
         "CO2_working_capacity [mL/g]": 1.7316126009761135,
         "_deepnote_index_column": "pretest_1991"
        },
        {
         "CO2_working_capacity [mL/g]": -1.9302726565494979,
         "_deepnote_index_column": "pretest_1992"
        },
        {
         "CO2_working_capacity [mL/g]": 29.363436991518892,
         "_deepnote_index_column": "pretest_1993"
        },
        {
         "CO2_working_capacity [mL/g]": 0.10146771232654288,
         "_deepnote_index_column": "pretest_1994"
        },
        {
         "CO2_working_capacity [mL/g]": -5.598741054110829,
         "_deepnote_index_column": "pretest_1995"
        },
        {
         "CO2_working_capacity [mL/g]": 1.3689708106667453,
         "_deepnote_index_column": "pretest_1996"
        },
        {
         "CO2_working_capacity [mL/g]": 3.157281063889343,
         "_deepnote_index_column": "pretest_1997"
        },
        {
         "CO2_working_capacity [mL/g]": -1.1863273995608552,
         "_deepnote_index_column": "pretest_1998"
        },
        {
         "CO2_working_capacity [mL/g]": -7.830632618396552,
         "_deepnote_index_column": "pretest_1999"
        },
        {
         "CO2_working_capacity [mL/g]": 35.02670660942033,
         "_deepnote_index_column": "pretest_2000"
        }
       ]
      },
      "text/plain": "              CO2_working_capacity [mL/g]\nid                                       \npretest_1                      103.466330\npretest_2                      123.235101\npretest_3                      192.207003\npretest_4                       65.542557\npretest_5                       95.884323\n...                                   ...\npretest_1996                     1.368971\npretest_1997                     3.157281\npretest_1998                    -1.186327\npretest_1999                    -7.830633\npretest_2000                    35.026707\n\n[2000 rows x 1 columns]",
      "text/html": "<div>\n<style scoped>\n    .dataframe tbody tr th:only-of-type {\n        vertical-align: middle;\n    }\n\n    .dataframe tbody tr th {\n        vertical-align: top;\n    }\n\n    .dataframe thead th {\n        text-align: right;\n    }\n</style>\n<table border=\"1\" class=\"dataframe\">\n  <thead>\n    <tr style=\"text-align: right;\">\n      <th></th>\n      <th>CO2_working_capacity [mL/g]</th>\n    </tr>\n    <tr>\n      <th>id</th>\n      <th></th>\n    </tr>\n  </thead>\n  <tbody>\n    <tr>\n      <th>pretest_1</th>\n      <td>103.466330</td>\n    </tr>\n    <tr>\n      <th>pretest_2</th>\n      <td>123.235101</td>\n    </tr>\n    <tr>\n      <th>pretest_3</th>\n      <td>192.207003</td>\n    </tr>\n    <tr>\n      <th>pretest_4</th>\n      <td>65.542557</td>\n    </tr>\n    <tr>\n      <th>pretest_5</th>\n      <td>95.884323</td>\n    </tr>\n    <tr>\n      <th>...</th>\n      <td>...</td>\n    </tr>\n    <tr>\n      <th>pretest_1996</th>\n      <td>1.368971</td>\n    </tr>\n    <tr>\n      <th>pretest_1997</th>\n      <td>3.157281</td>\n    </tr>\n    <tr>\n      <th>pretest_1998</th>\n      <td>-1.186327</td>\n    </tr>\n    <tr>\n      <th>pretest_1999</th>\n      <td>-7.830633</td>\n    </tr>\n    <tr>\n      <th>pretest_2000</th>\n      <td>35.026707</td>\n    </tr>\n  </tbody>\n</table>\n<p>2000 rows × 1 columns</p>\n</div>"
     },
     "metadata": {}
    }
   ]
  },
  {
   "cell_type": "code",
   "metadata": {
    "tags": [],
    "deepnote_to_be_reexecuted": false,
    "source_hash": "8330eb30",
    "execution_start": 1632511360194,
    "execution_millis": 0,
    "cell_id": "00036-dd3bf846-33a7-4e10-be56-aa07387b9ad2",
    "deepnote_cell_type": "code"
   },
   "source": "sub.to_csv(\"submission.csv\")",
   "execution_count": null,
   "outputs": []
  },
  {
   "cell_type": "code",
   "metadata": {
    "tags": [],
    "deepnote_to_be_reexecuted": false,
    "source_hash": "c11ec714",
    "execution_start": 1632511360199,
    "execution_millis": 14,
    "cell_id": "00037-f06dbacc-7b4d-4af9-b2fe-91924297e3d7",
    "deepnote_cell_type": "code"
   },
   "source": "import zipfile\nimport hashlib\n \n\nsha256_hash = hashlib.sha256()\nwith open(\"submission.csv\",\"rb\") as f:\n    # Read and update hash string value in blocks of 4K\n    for byte_block in iter(lambda: f.read(4096),b\"\"):\n        sha256_hash.update(byte_block)\n    hash_str = sha256_hash.hexdigest()\n\nprint(hash_str)\nzipfile.ZipFile(f'{hash_str}.zip', mode='w').write(\"submission.csv\")",
   "execution_count": null,
   "outputs": [
    {
     "name": "stdout",
     "text": "ab65fee4d74b7f540baa83eeeb463edcbfd44ef08a8c9aa5d460a90c04cb9d3e\n",
     "output_type": "stream"
    }
   ]
  },
  {
   "cell_type": "markdown",
   "source": "<a style='text-decoration:none;line-height:16px;display:flex;color:#5B5B62;padding:10px;justify-content:end;' href='https://deepnote.com?utm_source=created-in-deepnote-cell&projectId=cf8541de-dbc3-45f6-bc1e-4fa446cacbcd' target=\"_blank\">\n<img alt='Created in deepnote.com' style='display:inline;max-height:16px;margin:0px;margin-right:7.5px;' src='data:image/svg+xml;base64,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' > </img>\nCreated in <span style='font-weight:600;margin-left:4px;'>Deepnote</span></a>",
   "metadata": {
    "tags": [],
    "created_in_deepnote_cell": true,
    "deepnote_cell_type": "markdown"
   }
  }
 ],
 "nbformat": 4,
 "nbformat_minor": 2,
 "metadata": {
  "orig_nbformat": 2,
  "deepnote": {
   "is_reactive": false
  },
  "deepnote_notebook_id": "be10d491-5e7d-4f08-a08e-5ab6e8911eff",
  "deepnote_execution_queue": []
 }
}