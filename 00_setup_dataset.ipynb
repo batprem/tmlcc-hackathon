{
 "cells": [
  {
   "cell_type": "code",
   "metadata": {
    "tags": [],
    "cell_id": "00000-340da726-5ee4-4386-a007-eae6e1efef49",
    "deepnote_to_be_reexecuted": false,
    "source_hash": "8414c5b8",
    "execution_start": 1632193821590,
    "execution_millis": 830,
    "deepnote_cell_type": "code"
   },
   "source": "import requests\n\ncookies = {\n    'oc641cdd42e0': 'abegbr3c73801vlemjigt5sg4d',\n    'oc_sessionPassphrase': 'XEao2embGnKM7s1MxvNLiQFhfhP1XPTloTwDYFkM6Ldj%2BsAcsZlzDkexBChhfqMVdM1Pz%2B2TC5XOUR38XCmz60JFGibidWecZ9W8mmVRBM7OeSmjeVSYOIutcSPBRBXS',\n}\n\nheaders = {\n    'Connection': 'keep-alive',\n    'sec-ch-ua': '\"Google Chrome\";v=\"93\", \" Not;A Brand\";v=\"99\", \"Chromium\";v=\"93\"',\n    'sec-ch-ua-mobile': '?0',\n    'sec-ch-ua-platform': '\"Windows\"',\n    'Upgrade-Insecure-Requests': '1',\n    'User-Agent': 'Mozilla/5.0 (Windows NT 10.0; Win64; x64) AppleWebKit/537.36 (KHTML, like Gecko) Chrome/93.0.4577.82 Safari/537.36',\n    'Accept': 'text/html,application/xhtml+xml,application/xml;q=0.9,image/avif,image/webp,image/apng,*/*;q=0.8,application/signed-exchange;v=b3;q=0.9',\n    'Sec-Fetch-Site': 'same-origin',\n    'Sec-Fetch-Mode': 'navigate',\n    'Sec-Fetch-User': '?1',\n    'Sec-Fetch-Dest': 'document',\n    'Referer': 'https://drive.switch.ch/index.php/s/7HGmi48B5LTzNT0',\n    'Accept-Language': 'en-GB,en-US;q=0.9,en;q=0.8',\n}\n\nparams = (\n    ('path', '/'),\n    ('files', ''),\n)\n\n\ndef download_file(url):\n    local_filename = \"data.zip\"\n    # NOTE the stream=True parameter below\n    with requests.get(url, stream=True, headers=headers, params=params, cookies=cookies) as r:\n        r.raise_for_status()\n        with open(local_filename, 'wb') as f:\n            for chunk in r.iter_content(chunk_size=8192): \n                # If you have chunk encoded response uncomment if\n                # and set chunk_size parameter to None.\n                #if chunk: \n                f.write(chunk)\n    return local_filename\n\n\nres = download_file('https://drive.switch.ch/index.php/s/7HGmi48B5LTzNT0/download?path=%2F&files=')",
   "execution_count": null,
   "outputs": []
  },
  {
   "cell_type": "code",
   "metadata": {
    "tags": [],
    "cell_id": "00001-f509b661-f711-41f7-ad82-d7bce03b9425",
    "deepnote_to_be_reexecuted": false,
    "source_hash": "de9db1db",
    "execution_start": 1632048539546,
    "execution_millis": 4598,
    "deepnote_cell_type": "code"
   },
   "source": "!unzip data.zip",
   "execution_count": null,
   "outputs": [
    {
     "name": "stdout",
     "text": "Archive:  data.zip\r\nreplace tmlcc-2021/metal_SBU.dat? [y]es, [n]o, [A]ll, [N]one, [r]ename: ",
     "output_type": "stream"
    },
    {
     "output_type": "error",
     "ename": "KernelInterrupted",
     "evalue": "Execution interrupted by the Jupyter kernel.",
     "traceback": [
      "\u001b[0;31m---------------------------------------------------------------------------\u001b[0m",
      "\u001b[0;31mKernelInterrupted\u001b[0m: Execution interrupted by the Jupyter kernel."
     ]
    }
   ]
  },
  {
   "cell_type": "code",
   "metadata": {
    "tags": [],
    "cell_id": "00002-15a8192d-7773-44ff-a585-b96d21b7d96b",
    "deepnote_to_be_reexecuted": true,
    "source_hash": "78c76797",
    "execution_start": 1631995455280,
    "execution_millis": 656,
    "deepnote_cell_type": "code"
   },
   "source": "!cd tmlcc-2021",
   "execution_count": null,
   "outputs": []
  },
  {
   "cell_type": "code",
   "metadata": {
    "tags": [],
    "cell_id": "00003-685654f5-5241-4050-990b-6e8ad247cd2b",
    "deepnote_to_be_reexecuted": true,
    "source_hash": "c6a5de3c",
    "execution_start": 1631995510460,
    "execution_millis": 673,
    "deepnote_cell_type": "code"
   },
   "source": "import os\n\nos.chdir('tmlcc-2021')\n!ls",
   "execution_count": null,
   "outputs": [
    {
     "name": "stdout",
     "text": "metal_SBU.dat\t mof_cif_pretest.zip  organic_SBU.dat  train.csv\r\nmof_cif_pretest  mof_cif_train.zip    pretest.csv\r\n",
     "output_type": "stream"
    }
   ]
  },
  {
   "cell_type": "code",
   "metadata": {
    "tags": [],
    "cell_id": "00004-98a27662-d414-44cc-9440-0d8fdf6ba40f",
    "deepnote_to_be_reexecuted": true,
    "source_hash": "46cc220a",
    "execution_start": 1631995878270,
    "execution_millis": 0,
    "deepnote_cell_type": "code"
   },
   "source": "!unzip mof_cif_train.zip\n!unzip mof_cif_pretest.zip",
   "execution_count": null,
   "outputs": []
  },
  {
   "cell_type": "code",
   "metadata": {
    "tags": [],
    "cell_id": "00005-43fde0e9-c02a-4692-a00b-7b8617acb5ef",
    "deepnote_to_be_reexecuted": true,
    "source_hash": "361ff80a",
    "execution_start": 1631996132626,
    "execution_millis": 3958,
    "deepnote_cell_type": "code"
   },
   "source": "!mv mof_cif_pretest/mof_cif_pretest/* mof_cif_pretest/",
   "execution_count": null,
   "outputs": []
  },
  {
   "cell_type": "code",
   "metadata": {
    "tags": [],
    "cell_id": "00006-79aeff69-01f6-4f96-95c1-81de75516750",
    "deepnote_to_be_reexecuted": true,
    "source_hash": "7a868b54",
    "execution_start": 1631996163107,
    "execution_millis": 662,
    "deepnote_cell_type": "code"
   },
   "source": "!rm -rf mof_cif_pretest/mof_cif_pretest",
   "execution_count": null,
   "outputs": []
  },
  {
   "cell_type": "code",
   "metadata": {
    "tags": [],
    "cell_id": "00005-321f99ae-6d8c-4820-8dce-b0151cc8b9c4",
    "deepnote_to_be_reexecuted": true,
    "source_hash": "64c9541d",
    "execution_start": 1631996168267,
    "execution_millis": 33,
    "deepnote_cell_type": "code"
   },
   "source": "assert len(os.listdir('mof_cif_train')) == 68613\nassert len(os.listdir('mof_cif_pretest')) == 2000",
   "execution_count": null,
   "outputs": []
  },
  {
   "cell_type": "markdown",
   "source": "<a style='text-decoration:none;line-height:16px;display:flex;color:#5B5B62;padding:10px;justify-content:end;' href='https://deepnote.com?utm_source=created-in-deepnote-cell&projectId=e59b976c-8525-4130-bc49-8505c94328e0' target=\"_blank\">\n<img alt='Created in deepnote.com' style='display:inline;max-height:16px;margin:0px;margin-right:7.5px;' src='data:image/svg+xml;base64,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' > </img>\nCreated in <span style='font-weight:600;margin-left:4px;'>Deepnote</span></a>",
   "metadata": {
    "tags": [],
    "created_in_deepnote_cell": true,
    "deepnote_cell_type": "markdown"
   }
  }
 ],
 "nbformat": 4,
 "nbformat_minor": 2,
 "metadata": {
  "orig_nbformat": 2,
  "deepnote": {
   "is_reactive": false
  },
  "deepnote_notebook_id": "461c7e34-16bd-435e-8035-7f279587061b",
  "deepnote_execution_queue": []
 }
}