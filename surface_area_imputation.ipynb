{
 "cells": [
  {
   "cell_type": "code",
   "metadata": {
    "tags": [],
    "cell_id": "00000-afbbb3c7-4a36-4764-9b30-e8b92734d3ba",
    "deepnote_to_be_reexecuted": false,
    "source_hash": "818a1bc0",
    "execution_start": 1632502092032,
    "execution_millis": 668,
    "deepnote_cell_type": "code"
   },
   "source": "import pandas as pd\nfrom src.constants import (\n    PREPROCESSING_PATH,\n    TARGET\n)\n\nimport numpy as np\nfrom sklearn.impute import KNNImputer\nfrom sklearn.metrics import mean_absolute_error\nfrom sklearn.preprocessing import power_transform\nfrom utils.classes.extractor import FunctionalGroupToGramExtractor\n\nfrom typing import (\n    Optional,\n    List,\n    Any\n)\nfrom sklearn.model_selection import KFold, RepeatedKFold, RepeatedStratifiedKFold\n\nimport warnings\nwarnings.filterwarnings(\"ignore\")",
   "outputs": [],
   "execution_count": null
  },
  {
   "cell_type": "code",
   "source": "from sklearn.svm import SVR\nfrom sklearn.pipeline import make_pipeline\nfrom sklearn.preprocessing import StandardScaler\nfrom sklearn.metrics import mean_squared_error\nfrom sklearn.pipeline import Pipeline\nfrom sklearn.model_selection import cross_val_score\n\n\n\n\nTrain = pd.read_csv(f\"{PREPROCESSING_PATH}/train_merged_CIF/Train.csv\")\nTrain = Train.set_index(Train.columns[0])\nTrain = Train.replace([np.inf], 99999999)\nTrain = Train.replace([-np.inf], -99999999)\nTrain = Train.dropna()\n\n\nTrain = Train.drop(Train[\n    (Train[\"surface_area [m^2/g]\"]<=0) | (Train[\"void_fraction\"] == 0)\n].index)\nTrain['density'] = (Train[\"weight [u]\"] / Train[\"volume [A^3]\"]) * 1.66054\nTrain.sample(frac=1, random_state=1234)\nratio = 0.7\n\ntrain = Train.iloc[: int(ratio * Train.shape[0])]\n\ntest = Train.iloc[int(ratio * Train.shape[0]):]\n\n\n\nX = train[\n    [\n        \"void_fraction\",\n        'void_volume [cm^3/g]',\n        \"heat_adsorption_CO2_P0.15bar_T298K [kcal/mol]\",\n        \"CO2/N2_selectivity\",\n        \"_cell_volume\",\n        \"_cell_length_a\",\n        \"_cell_length_b\",\n        \"_cell_length_c\",\n        \"density\"\n    ]\n]\n\ny = train[['surface_area [m^2/g]']]\n\nX_test = test[\n    [\n        \"void_fraction\",\n        \"void_volume [cm^3/g]\",\n        \"heat_adsorption_CO2_P0.15bar_T298K [kcal/mol]\",\n        \"CO2/N2_selectivity\",\n        \"_cell_volume\",\n        \"_cell_length_a\",\n        \"_cell_length_b\",\n        \"_cell_length_c\",\n        \"density\"\n    ]\n]\n\ny_test = test[['surface_area [m^2/g]']]\n# y_test = test[\"surface_area [m^2/g]\"]  # **0.5]",
   "metadata": {
    "tags": [],
    "cell_id": "00001-34e90ab0-fb3e-4eda-a748-5cb31a837180",
    "deepnote_to_be_reexecuted": false,
    "source_hash": "46b226c9",
    "execution_start": 1632502092709,
    "execution_millis": 585,
    "deepnote_cell_type": "code"
   },
   "outputs": [],
   "execution_count": null
  },
  {
   "cell_type": "code",
   "source": "from xgboost import XGBRegressor\n\nreg = XGBRegressor(grow_policy=\"lossguide\", num_parallel_tree=1)\nreg.fit(X.values, y.values)",
   "metadata": {
    "tags": [],
    "cell_id": "00002-327cae5c-600a-40db-babf-6380d1ca1d8e",
    "deepnote_to_be_reexecuted": false,
    "source_hash": "822d6049",
    "execution_start": 1632502093296,
    "execution_millis": 11929,
    "deepnote_cell_type": "code"
   },
   "outputs": [
    {
     "output_type": "execute_result",
     "execution_count": 3,
     "data": {
      "text/plain": "XGBRegressor(base_score=0.5, booster='gbtree', colsample_bylevel=1,\n             colsample_bynode=1, colsample_bytree=1, gamma=0, gpu_id=-1,\n             grow_policy='lossguide', importance_type='gain',\n             interaction_constraints='', learning_rate=0.300000012,\n             max_delta_step=0, max_depth=6, min_child_weight=1, missing=nan,\n             monotone_constraints='()', n_estimators=100, n_jobs=4,\n             num_parallel_tree=1, random_state=0, reg_alpha=0, reg_lambda=1,\n             scale_pos_weight=1, subsample=1, tree_method='exact',\n             validate_parameters=1, verbosity=None)"
     },
     "metadata": {}
    }
   ],
   "execution_count": null
  },
  {
   "cell_type": "code",
   "source": "",
   "metadata": {
    "tags": [],
    "cell_id": "00003-a6710f33-126a-414c-877d-bac2624cdc24",
    "deepnote_to_be_reexecuted": false,
    "source_hash": "b623e53d",
    "execution_start": 1632502105219,
    "execution_millis": 1,
    "deepnote_cell_type": "code"
   },
   "outputs": [],
   "execution_count": null
  },
  {
   "cell_type": "code",
   "source": "mean_absolute_error(reg.predict(X_test), y_test)",
   "metadata": {
    "tags": [],
    "cell_id": "00002-c9df2926-48af-43ba-b601-54f028b69277",
    "deepnote_to_be_reexecuted": false,
    "source_hash": "f3019309",
    "execution_start": 1632502105222,
    "execution_millis": 27,
    "deepnote_cell_type": "code"
   },
   "outputs": [
    {
     "output_type": "execute_result",
     "execution_count": 4,
     "data": {
      "text/plain": "230.01658035643382"
     },
     "metadata": {}
    }
   ],
   "execution_count": null
  },
  {
   "cell_type": "code",
   "source": "pd.DataFrame(reg.predict(X_test))",
   "metadata": {
    "tags": [],
    "cell_id": "00004-80c467bf-dff2-4a38-b29a-f34cf95b6fae",
    "deepnote_to_be_reexecuted": false,
    "source_hash": "e4281019",
    "execution_start": 1632502105246,
    "execution_millis": 69,
    "deepnote_cell_type": "code"
   },
   "outputs": [
    {
     "output_type": "execute_result",
     "execution_count": 5,
     "data": {
      "application/vnd.deepnote.dataframe.v2+json": {
       "row_count": 16134,
       "column_count": 1,
       "columns": [
        {
         "name": 0,
         "dtype": "float32",
         "stats": {
          "unique_count": 14891,
          "nan_count": 0,
          "min": "42.75474548339844",
          "max": "5879.212890625",
          "histogram": [
           {
            "bin_start": 42.75474548339844,
            "bin_end": 626.4005737304688,
            "count": 842
           },
           {
            "bin_start": 626.4005737304688,
            "bin_end": 1210.04638671875,
            "count": 1950
           },
           {
            "bin_start": 1210.04638671875,
            "bin_end": 1793.692138671875,
            "count": 2518
           },
           {
            "bin_start": 1793.692138671875,
            "bin_end": 2377.337890625,
            "count": 2371
           },
           {
            "bin_start": 2377.337890625,
            "bin_end": 2960.98388671875,
            "count": 2123
           },
           {
            "bin_start": 2960.98388671875,
            "bin_end": 3544.629638671875,
            "count": 1735
           },
           {
            "bin_start": 3544.629638671875,
            "bin_end": 4128.275390625,
            "count": 1351
           },
           {
            "bin_start": 4128.275390625,
            "bin_end": 4711.92138671875,
            "count": 1178
           },
           {
            "bin_start": 4711.92138671875,
            "bin_end": 5295.56689453125,
            "count": 1393
           },
           {
            "bin_start": 5295.56689453125,
            "bin_end": 5879.212890625,
            "count": 673
           }
          ]
         }
        },
        {
         "name": "_deepnote_index_column",
         "dtype": "int64"
        }
       ],
       "rows_top": [
        {
         "0": 2814.431396484375,
         "_deepnote_index_column": 0
        },
        {
         "0": 1716.003662109375,
         "_deepnote_index_column": 1
        },
        {
         "0": 2338.0029296875,
         "_deepnote_index_column": 2
        },
        {
         "0": 782.2649536132812,
         "_deepnote_index_column": 3
        },
        {
         "0": 3158.9521484375,
         "_deepnote_index_column": 4
        },
        {
         "0": 352.1207275390625,
         "_deepnote_index_column": 5
        },
        {
         "0": 1623.0030517578125,
         "_deepnote_index_column": 6
        },
        {
         "0": 3621.30908203125,
         "_deepnote_index_column": 7
        },
        {
         "0": 1816.9111328125,
         "_deepnote_index_column": 8
        },
        {
         "0": 2924.764404296875,
         "_deepnote_index_column": 9
        },
        {
         "0": 1123.286376953125,
         "_deepnote_index_column": 10
        },
        {
         "0": 381.5553283691406,
         "_deepnote_index_column": 11
        },
        {
         "0": 1100.38623046875,
         "_deepnote_index_column": 12
        },
        {
         "0": 1996.08544921875,
         "_deepnote_index_column": 13
        },
        {
         "0": 1709.8753662109375,
         "_deepnote_index_column": 14
        },
        {
         "0": 4152.3330078125,
         "_deepnote_index_column": 15
        },
        {
         "0": 1576.3914794921875,
         "_deepnote_index_column": 16
        },
        {
         "0": 525.122802734375,
         "_deepnote_index_column": 17
        },
        {
         "0": 1727.1865234375,
         "_deepnote_index_column": 18
        },
        {
         "0": 503.8600769042969,
         "_deepnote_index_column": 19
        },
        {
         "0": 396.56097412109375,
         "_deepnote_index_column": 20
        },
        {
         "0": 1231.7869873046875,
         "_deepnote_index_column": 21
        },
        {
         "0": 965.7945556640625,
         "_deepnote_index_column": 22
        },
        {
         "0": 1129.98388671875,
         "_deepnote_index_column": 23
        },
        {
         "0": 1322.289306640625,
         "_deepnote_index_column": 24
        },
        {
         "0": 2436.120849609375,
         "_deepnote_index_column": 25
        },
        {
         "0": 1931.4820556640625,
         "_deepnote_index_column": 26
        },
        {
         "0": 2209.124755859375,
         "_deepnote_index_column": 27
        },
        {
         "0": 831.412109375,
         "_deepnote_index_column": 28
        },
        {
         "0": 1824.52099609375,
         "_deepnote_index_column": 29
        },
        {
         "0": 2466.612060546875,
         "_deepnote_index_column": 30
        },
        {
         "0": 1207.946533203125,
         "_deepnote_index_column": 31
        },
        {
         "0": 3889.328125,
         "_deepnote_index_column": 32
        },
        {
         "0": 2184.11572265625,
         "_deepnote_index_column": 33
        },
        {
         "0": 2237.703125,
         "_deepnote_index_column": 34
        },
        {
         "0": 2070.383544921875,
         "_deepnote_index_column": 35
        },
        {
         "0": 2541.29541015625,
         "_deepnote_index_column": 36
        },
        {
         "0": 1725.3109130859375,
         "_deepnote_index_column": 37
        },
        {
         "0": 1951.4603271484375,
         "_deepnote_index_column": 38
        },
        {
         "0": 2146.910888671875,
         "_deepnote_index_column": 39
        },
        {
         "0": 3139.16650390625,
         "_deepnote_index_column": 40
        },
        {
         "0": 1365.519775390625,
         "_deepnote_index_column": 41
        },
        {
         "0": 1594.890869140625,
         "_deepnote_index_column": 42
        },
        {
         "0": 2024.5068359375,
         "_deepnote_index_column": 43
        },
        {
         "0": 3250.528564453125,
         "_deepnote_index_column": 44
        },
        {
         "0": 1760.2220458984375,
         "_deepnote_index_column": 45
        },
        {
         "0": 1490.62841796875,
         "_deepnote_index_column": 46
        },
        {
         "0": 2348.132568359375,
         "_deepnote_index_column": 47
        },
        {
         "0": 2038.9456787109375,
         "_deepnote_index_column": 48
        },
        {
         "0": 592.4686279296875,
         "_deepnote_index_column": 49
        },
        {
         "0": 2868.540771484375,
         "_deepnote_index_column": 50
        },
        {
         "0": 2262.16259765625,
         "_deepnote_index_column": 51
        },
        {
         "0": 588.892578125,
         "_deepnote_index_column": 52
        },
        {
         "0": 2173.09619140625,
         "_deepnote_index_column": 53
        },
        {
         "0": 571.779296875,
         "_deepnote_index_column": 54
        },
        {
         "0": 1235.43017578125,
         "_deepnote_index_column": 55
        },
        {
         "0": 824.27880859375,
         "_deepnote_index_column": 56
        },
        {
         "0": 1182.0150146484375,
         "_deepnote_index_column": 57
        },
        {
         "0": 2185.136962890625,
         "_deepnote_index_column": 58
        },
        {
         "0": 2072.78759765625,
         "_deepnote_index_column": 59
        },
        {
         "0": 3174.89404296875,
         "_deepnote_index_column": 60
        },
        {
         "0": 2508.14501953125,
         "_deepnote_index_column": 61
        },
        {
         "0": 2012.480224609375,
         "_deepnote_index_column": 62
        },
        {
         "0": 1486.115478515625,
         "_deepnote_index_column": 63
        },
        {
         "0": 2374.835693359375,
         "_deepnote_index_column": 64
        },
        {
         "0": 2823.643310546875,
         "_deepnote_index_column": 65
        },
        {
         "0": 3066.580322265625,
         "_deepnote_index_column": 66
        },
        {
         "0": 1960.9298095703125,
         "_deepnote_index_column": 67
        },
        {
         "0": 1738.271728515625,
         "_deepnote_index_column": 68
        },
        {
         "0": 3035.28173828125,
         "_deepnote_index_column": 69
        },
        {
         "0": 1591.137451171875,
         "_deepnote_index_column": 70
        },
        {
         "0": 2159.406494140625,
         "_deepnote_index_column": 71
        },
        {
         "0": 1202.330322265625,
         "_deepnote_index_column": 72
        },
        {
         "0": 2788.061767578125,
         "_deepnote_index_column": 73
        },
        {
         "0": 1464.712158203125,
         "_deepnote_index_column": 74
        },
        {
         "0": 1073.2406005859375,
         "_deepnote_index_column": 75
        },
        {
         "0": 1674.2037353515625,
         "_deepnote_index_column": 76
        },
        {
         "0": 2134.94873046875,
         "_deepnote_index_column": 77
        },
        {
         "0": 1914.84423828125,
         "_deepnote_index_column": 78
        },
        {
         "0": 2902.58837890625,
         "_deepnote_index_column": 79
        },
        {
         "0": 2014.5592041015625,
         "_deepnote_index_column": 80
        },
        {
         "0": 1648.7154541015625,
         "_deepnote_index_column": 81
        },
        {
         "0": 2477.677734375,
         "_deepnote_index_column": 82
        },
        {
         "0": 2131.281494140625,
         "_deepnote_index_column": 83
        },
        {
         "0": 1279.382080078125,
         "_deepnote_index_column": 84
        },
        {
         "0": 495.324462890625,
         "_deepnote_index_column": 85
        },
        {
         "0": 274.3695373535156,
         "_deepnote_index_column": 86
        },
        {
         "0": 2108.44091796875,
         "_deepnote_index_column": 87
        },
        {
         "0": 4468.767578125,
         "_deepnote_index_column": 88
        },
        {
         "0": 1628.2994384765625,
         "_deepnote_index_column": 89
        },
        {
         "0": 2591.650634765625,
         "_deepnote_index_column": 90
        },
        {
         "0": 2230.843017578125,
         "_deepnote_index_column": 91
        },
        {
         "0": 2509.870361328125,
         "_deepnote_index_column": 92
        },
        {
         "0": 2540.18359375,
         "_deepnote_index_column": 93
        },
        {
         "0": 2263.755859375,
         "_deepnote_index_column": 94
        },
        {
         "0": 1873.8009033203125,
         "_deepnote_index_column": 95
        },
        {
         "0": 2802.683349609375,
         "_deepnote_index_column": 96
        },
        {
         "0": 1114.8885498046875,
         "_deepnote_index_column": 97
        },
        {
         "0": 1548.1058349609375,
         "_deepnote_index_column": 98
        },
        {
         "0": 1709.9814453125,
         "_deepnote_index_column": 99
        },
        {
         "0": 407.85894775390625,
         "_deepnote_index_column": 100
        },
        {
         "0": 1372.29638671875,
         "_deepnote_index_column": 101
        },
        {
         "0": 2324.439453125,
         "_deepnote_index_column": 102
        },
        {
         "0": 2462.3642578125,
         "_deepnote_index_column": 103
        },
        {
         "0": 1755.630859375,
         "_deepnote_index_column": 104
        },
        {
         "0": 1383.7464599609375,
         "_deepnote_index_column": 105
        },
        {
         "0": 1868.0712890625,
         "_deepnote_index_column": 106
        },
        {
         "0": 2472.630615234375,
         "_deepnote_index_column": 107
        },
        {
         "0": 738.7848510742188,
         "_deepnote_index_column": 108
        },
        {
         "0": 420.1504821777344,
         "_deepnote_index_column": 109
        },
        {
         "0": 854.926025390625,
         "_deepnote_index_column": 110
        },
        {
         "0": 2990.236328125,
         "_deepnote_index_column": 111
        },
        {
         "0": 3561.107421875,
         "_deepnote_index_column": 112
        },
        {
         "0": 2299.766357421875,
         "_deepnote_index_column": 113
        },
        {
         "0": 528.5364379882812,
         "_deepnote_index_column": 114
        },
        {
         "0": 3179.65087890625,
         "_deepnote_index_column": 115
        },
        {
         "0": 2973.236572265625,
         "_deepnote_index_column": 116
        },
        {
         "0": 427.62042236328125,
         "_deepnote_index_column": 117
        },
        {
         "0": 596.5130004882812,
         "_deepnote_index_column": 118
        },
        {
         "0": 2025.406982421875,
         "_deepnote_index_column": 119
        },
        {
         "0": 1168.907470703125,
         "_deepnote_index_column": 120
        },
        {
         "0": 3797.0048828125,
         "_deepnote_index_column": 121
        },
        {
         "0": 1176.381591796875,
         "_deepnote_index_column": 122
        },
        {
         "0": 946.0722045898438,
         "_deepnote_index_column": 123
        },
        {
         "0": 1522.4317626953125,
         "_deepnote_index_column": 124
        },
        {
         "0": 1985.4365234375,
         "_deepnote_index_column": 125
        },
        {
         "0": 806.6154174804688,
         "_deepnote_index_column": 126
        },
        {
         "0": 1270.7587890625,
         "_deepnote_index_column": 127
        },
        {
         "0": 1971.7845458984375,
         "_deepnote_index_column": 128
        },
        {
         "0": 585.552001953125,
         "_deepnote_index_column": 129
        },
        {
         "0": 1930.4293212890625,
         "_deepnote_index_column": 130
        },
        {
         "0": 2177.63037109375,
         "_deepnote_index_column": 131
        },
        {
         "0": 3243.00634765625,
         "_deepnote_index_column": 132
        },
        {
         "0": 2379.507568359375,
         "_deepnote_index_column": 133
        },
        {
         "0": 1707.5660400390625,
         "_deepnote_index_column": 134
        },
        {
         "0": 2007.2982177734375,
         "_deepnote_index_column": 135
        },
        {
         "0": 2228.814453125,
         "_deepnote_index_column": 136
        },
        {
         "0": 1609.4530029296875,
         "_deepnote_index_column": 137
        },
        {
         "0": 1367.15478515625,
         "_deepnote_index_column": 138
        },
        {
         "0": 3390.203125,
         "_deepnote_index_column": 139
        },
        {
         "0": 1722.01806640625,
         "_deepnote_index_column": 140
        },
        {
         "0": 859.897705078125,
         "_deepnote_index_column": 141
        },
        {
         "0": 811.6595458984375,
         "_deepnote_index_column": 142
        },
        {
         "0": 1576.391845703125,
         "_deepnote_index_column": 143
        },
        {
         "0": 2808.501953125,
         "_deepnote_index_column": 144
        },
        {
         "0": 2532.0654296875,
         "_deepnote_index_column": 145
        },
        {
         "0": 744.440673828125,
         "_deepnote_index_column": 146
        },
        {
         "0": 2179.261474609375,
         "_deepnote_index_column": 147
        },
        {
         "0": 2128.74462890625,
         "_deepnote_index_column": 148
        },
        {
         "0": 1837.280517578125,
         "_deepnote_index_column": 149
        },
        {
         "0": 1275.70947265625,
         "_deepnote_index_column": 150
        },
        {
         "0": 897.7174072265625,
         "_deepnote_index_column": 151
        },
        {
         "0": 716.6317138671875,
         "_deepnote_index_column": 152
        },
        {
         "0": 706.6694946289062,
         "_deepnote_index_column": 153
        },
        {
         "0": 2182.177490234375,
         "_deepnote_index_column": 154
        },
        {
         "0": 1336.2705078125,
         "_deepnote_index_column": 155
        },
        {
         "0": 3397.507080078125,
         "_deepnote_index_column": 156
        },
        {
         "0": 2677.225830078125,
         "_deepnote_index_column": 157
        },
        {
         "0": 2748.284423828125,
         "_deepnote_index_column": 158
        },
        {
         "0": 2272.3623046875,
         "_deepnote_index_column": 159
        },
        {
         "0": 1091.0546875,
         "_deepnote_index_column": 160
        },
        {
         "0": 4321.0849609375,
         "_deepnote_index_column": 161
        },
        {
         "0": 909.984375,
         "_deepnote_index_column": 162
        },
        {
         "0": 2655.8486328125,
         "_deepnote_index_column": 163
        },
        {
         "0": 1313.2225341796875,
         "_deepnote_index_column": 164
        },
        {
         "0": 466.67010498046875,
         "_deepnote_index_column": 165
        },
        {
         "0": 2408.936279296875,
         "_deepnote_index_column": 166
        },
        {
         "0": 1779.8441162109375,
         "_deepnote_index_column": 167
        },
        {
         "0": 861.850341796875,
         "_deepnote_index_column": 168
        },
        {
         "0": 2519.762939453125,
         "_deepnote_index_column": 169
        },
        {
         "0": 1992.7821044921875,
         "_deepnote_index_column": 170
        },
        {
         "0": 1160.366943359375,
         "_deepnote_index_column": 171
        },
        {
         "0": 2470.375,
         "_deepnote_index_column": 172
        },
        {
         "0": 1349.098388671875,
         "_deepnote_index_column": 173
        },
        {
         "0": 3774.38525390625,
         "_deepnote_index_column": 174
        },
        {
         "0": 2910.479736328125,
         "_deepnote_index_column": 175
        },
        {
         "0": 1039.6572265625,
         "_deepnote_index_column": 176
        },
        {
         "0": 1781.25,
         "_deepnote_index_column": 177
        },
        {
         "0": 2143.681396484375,
         "_deepnote_index_column": 178
        },
        {
         "0": 877.93310546875,
         "_deepnote_index_column": 179
        },
        {
         "0": 1671.8868408203125,
         "_deepnote_index_column": 180
        },
        {
         "0": 1701.5025634765625,
         "_deepnote_index_column": 181
        },
        {
         "0": 712.2188110351562,
         "_deepnote_index_column": 182
        },
        {
         "0": 2707.779052734375,
         "_deepnote_index_column": 183
        },
        {
         "0": 1683.8602294921875,
         "_deepnote_index_column": 184
        },
        {
         "0": 978.7581176757812,
         "_deepnote_index_column": 185
        },
        {
         "0": 2619.781494140625,
         "_deepnote_index_column": 186
        },
        {
         "0": 504.75506591796875,
         "_deepnote_index_column": 187
        },
        {
         "0": 1629.8218994140625,
         "_deepnote_index_column": 188
        },
        {
         "0": 2460.489990234375,
         "_deepnote_index_column": 189
        },
        {
         "0": 2274.850830078125,
         "_deepnote_index_column": 190
        },
        {
         "0": 1251.4539794921875,
         "_deepnote_index_column": 191
        },
        {
         "0": 581.845947265625,
         "_deepnote_index_column": 192
        },
        {
         "0": 1820.2147216796875,
         "_deepnote_index_column": 193
        },
        {
         "0": 3587.704833984375,
         "_deepnote_index_column": 194
        },
        {
         "0": 1251.861083984375,
         "_deepnote_index_column": 195
        },
        {
         "0": 407.0310363769531,
         "_deepnote_index_column": 196
        },
        {
         "0": 2354.0078125,
         "_deepnote_index_column": 197
        },
        {
         "0": 2689.0302734375,
         "_deepnote_index_column": 198
        },
        {
         "0": 3082.218994140625,
         "_deepnote_index_column": 199
        },
        {
         "0": 2115.88037109375,
         "_deepnote_index_column": 200
        },
        {
         "0": 1401.6497802734375,
         "_deepnote_index_column": 201
        },
        {
         "0": 2159.378662109375,
         "_deepnote_index_column": 202
        },
        {
         "0": 2266.239013671875,
         "_deepnote_index_column": 203
        },
        {
         "0": 1556.294189453125,
         "_deepnote_index_column": 204
        },
        {
         "0": 2597.76904296875,
         "_deepnote_index_column": 205
        },
        {
         "0": 3266.13525390625,
         "_deepnote_index_column": 206
        },
        {
         "0": 2282.80029296875,
         "_deepnote_index_column": 207
        },
        {
         "0": 2872.20703125,
         "_deepnote_index_column": 208
        },
        {
         "0": 1087.5694580078125,
         "_deepnote_index_column": 209
        },
        {
         "0": 925.7365112304688,
         "_deepnote_index_column": 210
        },
        {
         "0": 439.48712158203125,
         "_deepnote_index_column": 211
        },
        {
         "0": 2029.8370361328125,
         "_deepnote_index_column": 212
        },
        {
         "0": 1160.8446044921875,
         "_deepnote_index_column": 213
        },
        {
         "0": 1652.2923583984375,
         "_deepnote_index_column": 214
        },
        {
         "0": 1080.2723388671875,
         "_deepnote_index_column": 215
        },
        {
         "0": 2015.5509033203125,
         "_deepnote_index_column": 216
        },
        {
         "0": 2544.474365234375,
         "_deepnote_index_column": 217
        },
        {
         "0": 1350.451904296875,
         "_deepnote_index_column": 218
        },
        {
         "0": 761.3209228515625,
         "_deepnote_index_column": 219
        },
        {
         "0": 1604.0081787109375,
         "_deepnote_index_column": 220
        },
        {
         "0": 1937.9024658203125,
         "_deepnote_index_column": 221
        },
        {
         "0": 1149.078125,
         "_deepnote_index_column": 222
        },
        {
         "0": 868.2738037109375,
         "_deepnote_index_column": 223
        },
        {
         "0": 2017.7474365234375,
         "_deepnote_index_column": 224
        },
        {
         "0": 1070.802734375,
         "_deepnote_index_column": 225
        },
        {
         "0": 3652.62744140625,
         "_deepnote_index_column": 226
        },
        {
         "0": 3165.284912109375,
         "_deepnote_index_column": 227
        },
        {
         "0": 1896.9971923828125,
         "_deepnote_index_column": 228
        },
        {
         "0": 1671.409423828125,
         "_deepnote_index_column": 229
        },
        {
         "0": 1939.639892578125,
         "_deepnote_index_column": 230
        },
        {
         "0": 2613.842041015625,
         "_deepnote_index_column": 231
        },
        {
         "0": 3396.818115234375,
         "_deepnote_index_column": 232
        },
        {
         "0": 3003.68603515625,
         "_deepnote_index_column": 233
        },
        {
         "0": 1097.4482421875,
         "_deepnote_index_column": 234
        },
        {
         "0": 3344.161865234375,
         "_deepnote_index_column": 235
        },
        {
         "0": 712.2821655273438,
         "_deepnote_index_column": 236
        },
        {
         "0": 1087.8045654296875,
         "_deepnote_index_column": 237
        },
        {
         "0": 3202.86572265625,
         "_deepnote_index_column": 238
        },
        {
         "0": 3514.648681640625,
         "_deepnote_index_column": 239
        },
        {
         "0": 1022.101806640625,
         "_deepnote_index_column": 240
        },
        {
         "0": 504.75506591796875,
         "_deepnote_index_column": 241
        },
        {
         "0": 1117.201416015625,
         "_deepnote_index_column": 242
        },
        {
         "0": 1711.2633056640625,
         "_deepnote_index_column": 243
        },
        {
         "0": 1488.7587890625,
         "_deepnote_index_column": 244
        },
        {
         "0": 2490.862548828125,
         "_deepnote_index_column": 245
        },
        {
         "0": 2298.998291015625,
         "_deepnote_index_column": 246
        },
        {
         "0": 2574.493896484375,
         "_deepnote_index_column": 247
        },
        {
         "0": 2999.231689453125,
         "_deepnote_index_column": 248
        },
        {
         "0": 1032.063720703125,
         "_deepnote_index_column": 249
        },
        {
         "0": 1231.1514892578125,
         "_deepnote_index_column": 250
        },
        {
         "0": 3970.68310546875,
         "_deepnote_index_column": 251
        },
        {
         "0": 638.7515869140625,
         "_deepnote_index_column": 252
        },
        {
         "0": 593.8030395507812,
         "_deepnote_index_column": 253
        },
        {
         "0": 1908.293212890625,
         "_deepnote_index_column": 254
        },
        {
         "0": 915.5435791015625,
         "_deepnote_index_column": 255
        },
        {
         "0": 1975.7371826171875,
         "_deepnote_index_column": 256
        },
        {
         "0": 788.9725952148438,
         "_deepnote_index_column": 257
        },
        {
         "0": 2185.1591796875,
         "_deepnote_index_column": 258
        },
        {
         "0": 785.0459594726562,
         "_deepnote_index_column": 259
        },
        {
         "0": 2305.77001953125,
         "_deepnote_index_column": 260
        },
        {
         "0": 1848.264404296875,
         "_deepnote_index_column": 261
        },
        {
         "0": 1023.962158203125,
         "_deepnote_index_column": 262
        },
        {
         "0": 424.98712158203125,
         "_deepnote_index_column": 263
        },
        {
         "0": 2166.637451171875,
         "_deepnote_index_column": 264
        },
        {
         "0": 578.4619750976562,
         "_deepnote_index_column": 265
        },
        {
         "0": 2404.77099609375,
         "_deepnote_index_column": 266
        },
        {
         "0": 2687.9208984375,
         "_deepnote_index_column": 267
        },
        {
         "0": 3089.205322265625,
         "_deepnote_index_column": 268
        },
        {
         "0": 1673.1864013671875,
         "_deepnote_index_column": 269
        },
        {
         "0": 2108.8056640625,
         "_deepnote_index_column": 270
        },
        {
         "0": 3451.258056640625,
         "_deepnote_index_column": 271
        },
        {
         "0": 2688.628662109375,
         "_deepnote_index_column": 272
        },
        {
         "0": 2965.97021484375,
         "_deepnote_index_column": 273
        },
        {
         "0": 4617.1806640625,
         "_deepnote_index_column": 274
        },
        {
         "0": 1121.3287353515625,
         "_deepnote_index_column": 275
        },
        {
         "0": 632.2332763671875,
         "_deepnote_index_column": 276
        },
        {
         "0": 738.13427734375,
         "_deepnote_index_column": 277
        },
        {
         "0": 1441.2935791015625,
         "_deepnote_index_column": 278
        },
        {
         "0": 947.489990234375,
         "_deepnote_index_column": 279
        },
        {
         "0": 3252.48193359375,
         "_deepnote_index_column": 280
        },
        {
         "0": 741.0289306640625,
         "_deepnote_index_column": 281
        },
        {
         "0": 2110.992431640625,
         "_deepnote_index_column": 282
        },
        {
         "0": 2207.32958984375,
         "_deepnote_index_column": 283
        },
        {
         "0": 2230.354736328125,
         "_deepnote_index_column": 284
        },
        {
         "0": 1529.1029052734375,
         "_deepnote_index_column": 285
        },
        {
         "0": 1395.6817626953125,
         "_deepnote_index_column": 286
        },
        {
         "0": 3083.726806640625,
         "_deepnote_index_column": 287
        },
        {
         "0": 1900.0941162109375,
         "_deepnote_index_column": 288
        },
        {
         "0": 1634.6268310546875,
         "_deepnote_index_column": 289
        },
        {
         "0": 954.4854736328125,
         "_deepnote_index_column": 290
        },
        {
         "0": 1398.8466796875,
         "_deepnote_index_column": 291
        },
        {
         "0": 2012.594970703125,
         "_deepnote_index_column": 292
        },
        {
         "0": 851.1183471679688,
         "_deepnote_index_column": 293
        },
        {
         "0": 2072.436767578125,
         "_deepnote_index_column": 294
        },
        {
         "0": 2756.201171875,
         "_deepnote_index_column": 295
        },
        {
         "0": 1447.485595703125,
         "_deepnote_index_column": 296
        },
        {
         "0": 1138.9140625,
         "_deepnote_index_column": 297
        },
        {
         "0": 1140.46875,
         "_deepnote_index_column": 298
        },
        {
         "0": 1889.7218017578125,
         "_deepnote_index_column": 299
        },
        {
         "0": 893.6461181640625,
         "_deepnote_index_column": 300
        },
        {
         "0": 1591.34716796875,
         "_deepnote_index_column": 301
        },
        {
         "0": 2250.223876953125,
         "_deepnote_index_column": 302
        },
        {
         "0": 3419.196533203125,
         "_deepnote_index_column": 303
        },
        {
         "0": 1932.2979736328125,
         "_deepnote_index_column": 304
        },
        {
         "0": 1283.0137939453125,
         "_deepnote_index_column": 305
        },
        {
         "0": 3276.25390625,
         "_deepnote_index_column": 306
        },
        {
         "0": 2425.49560546875,
         "_deepnote_index_column": 307
        },
        {
         "0": 1613.8533935546875,
         "_deepnote_index_column": 308
        },
        {
         "0": 2243.501220703125,
         "_deepnote_index_column": 309
        },
        {
         "0": 1112.3968505859375,
         "_deepnote_index_column": 310
        },
        {
         "0": 1936.037353515625,
         "_deepnote_index_column": 311
        },
        {
         "0": 2091.5771484375,
         "_deepnote_index_column": 312
        },
        {
         "0": 1000.8051147460938,
         "_deepnote_index_column": 313
        },
        {
         "0": 2917.41162109375,
         "_deepnote_index_column": 314
        },
        {
         "0": 1831.286376953125,
         "_deepnote_index_column": 315
        },
        {
         "0": 882.9896850585938,
         "_deepnote_index_column": 316
        },
        {
         "0": 1864.997314453125,
         "_deepnote_index_column": 317
        },
        {
         "0": 1393.82373046875,
         "_deepnote_index_column": 318
        },
        {
         "0": 820.129638671875,
         "_deepnote_index_column": 319
        },
        {
         "0": 3447.97412109375,
         "_deepnote_index_column": 320
        },
        {
         "0": 618.2581176757812,
         "_deepnote_index_column": 321
        },
        {
         "0": 1937.1585693359375,
         "_deepnote_index_column": 322
        },
        {
         "0": 2502.880615234375,
         "_deepnote_index_column": 323
        },
        {
         "0": 1540.2435302734375,
         "_deepnote_index_column": 324
        },
        {
         "0": 2515.7470703125,
         "_deepnote_index_column": 325
        },
        {
         "0": 3517.02197265625,
         "_deepnote_index_column": 326
        },
        {
         "0": 1068.284423828125,
         "_deepnote_index_column": 327
        },
        {
         "0": 1417.0126953125,
         "_deepnote_index_column": 328
        },
        {
         "0": 1043.7255859375,
         "_deepnote_index_column": 329
        },
        {
         "0": 2517.807861328125,
         "_deepnote_index_column": 330
        },
        {
         "0": 1521.868896484375,
         "_deepnote_index_column": 331
        },
        {
         "0": 1185.9078369140625,
         "_deepnote_index_column": 332
        },
        {
         "0": 2011.5640869140625,
         "_deepnote_index_column": 333
        },
        {
         "0": 2562.1806640625,
         "_deepnote_index_column": 334
        },
        {
         "0": 2061.56201171875,
         "_deepnote_index_column": 335
        },
        {
         "0": 1137.4002685546875,
         "_deepnote_index_column": 336
        },
        {
         "0": 2415.89013671875,
         "_deepnote_index_column": 337
        },
        {
         "0": 2326.451416015625,
         "_deepnote_index_column": 338
        },
        {
         "0": 1791.50830078125,
         "_deepnote_index_column": 339
        },
        {
         "0": 1717.9534912109375,
         "_deepnote_index_column": 340
        },
        {
         "0": 1962.881591796875,
         "_deepnote_index_column": 341
        },
        {
         "0": 803.4751586914062,
         "_deepnote_index_column": 342
        },
        {
         "0": 3321.674560546875,
         "_deepnote_index_column": 343
        },
        {
         "0": 1253.3392333984375,
         "_deepnote_index_column": 344
        },
        {
         "0": 2049.98095703125,
         "_deepnote_index_column": 345
        },
        {
         "0": 3197.084716796875,
         "_deepnote_index_column": 346
        },
        {
         "0": 892.621337890625,
         "_deepnote_index_column": 347
        },
        {
         "0": 2475.908935546875,
         "_deepnote_index_column": 348
        },
        {
         "0": 1094.5416259765625,
         "_deepnote_index_column": 349
        },
        {
         "0": 2221.779052734375,
         "_deepnote_index_column": 350
        },
        {
         "0": 781.4303588867188,
         "_deepnote_index_column": 351
        },
        {
         "0": 3603.38623046875,
         "_deepnote_index_column": 352
        },
        {
         "0": 640.4811401367188,
         "_deepnote_index_column": 353
        },
        {
         "0": 2619.1298828125,
         "_deepnote_index_column": 354
        },
        {
         "0": 1201.798583984375,
         "_deepnote_index_column": 355
        },
        {
         "0": 2258.248046875,
         "_deepnote_index_column": 356
        },
        {
         "0": 2171.481201171875,
         "_deepnote_index_column": 357
        },
        {
         "0": 2759.034912109375,
         "_deepnote_index_column": 358
        },
        {
         "0": 687.6199951171875,
         "_deepnote_index_column": 359
        },
        {
         "0": 1167.6495361328125,
         "_deepnote_index_column": 360
        },
        {
         "0": 806.9217529296875,
         "_deepnote_index_column": 361
        },
        {
         "0": 2053.5703125,
         "_deepnote_index_column": 362
        },
        {
         "0": 3058.1787109375,
         "_deepnote_index_column": 363
        },
        {
         "0": 2742.4609375,
         "_deepnote_index_column": 364
        },
        {
         "0": 4173.3154296875,
         "_deepnote_index_column": 365
        },
        {
         "0": 2012.1561279296875,
         "_deepnote_index_column": 366
        },
        {
         "0": 1100.1888427734375,
         "_deepnote_index_column": 367
        },
        {
         "0": 1956.109130859375,
         "_deepnote_index_column": 368
        },
        {
         "0": 478.6339111328125,
         "_deepnote_index_column": 369
        },
        {
         "0": 2108.627197265625,
         "_deepnote_index_column": 370
        },
        {
         "0": 381.10797119140625,
         "_deepnote_index_column": 371
        },
        {
         "0": 167.64901733398438,
         "_deepnote_index_column": 372
        },
        {
         "0": 2024.6324462890625,
         "_deepnote_index_column": 373
        },
        {
         "0": 1491.2591552734375,
         "_deepnote_index_column": 374
        },
        {
         "0": 2092.931640625,
         "_deepnote_index_column": 375
        },
        {
         "0": 2790.646240234375,
         "_deepnote_index_column": 376
        },
        {
         "0": 2902.31103515625,
         "_deepnote_index_column": 377
        },
        {
         "0": 3245.107177734375,
         "_deepnote_index_column": 378
        },
        {
         "0": 1120.515625,
         "_deepnote_index_column": 379
        },
        {
         "0": 1858.41845703125,
         "_deepnote_index_column": 380
        },
        {
         "0": 1451.701904296875,
         "_deepnote_index_column": 381
        },
        {
         "0": 1001.64453125,
         "_deepnote_index_column": 382
        },
        {
         "0": 852.073974609375,
         "_deepnote_index_column": 383
        },
        {
         "0": 1714.55029296875,
         "_deepnote_index_column": 384
        },
        {
         "0": 1228.2322998046875,
         "_deepnote_index_column": 385
        },
        {
         "0": 2858.286376953125,
         "_deepnote_index_column": 386
        },
        {
         "0": 3522.99267578125,
         "_deepnote_index_column": 387
        },
        {
         "0": 818.57568359375,
         "_deepnote_index_column": 388
        },
        {
         "0": 1719.583740234375,
         "_deepnote_index_column": 389
        },
        {
         "0": 2702.149658203125,
         "_deepnote_index_column": 390
        },
        {
         "0": 2417.1669921875,
         "_deepnote_index_column": 391
        },
        {
         "0": 2332.33935546875,
         "_deepnote_index_column": 392
        },
        {
         "0": 1245.1392822265625,
         "_deepnote_index_column": 393
        },
        {
         "0": 3078.962890625,
         "_deepnote_index_column": 394
        },
        {
         "0": 777.84814453125,
         "_deepnote_index_column": 395
        },
        {
         "0": 3231.221435546875,
         "_deepnote_index_column": 396
        },
        {
         "0": 1541.14892578125,
         "_deepnote_index_column": 397
        },
        {
         "0": 946.7327880859375,
         "_deepnote_index_column": 398
        },
        {
         "0": 1545.7154541015625,
         "_deepnote_index_column": 399
        },
        {
         "0": 1368.8336181640625,
         "_deepnote_index_column": 400
        },
        {
         "0": 2084.00634765625,
         "_deepnote_index_column": 401
        },
        {
         "0": 1475.489501953125,
         "_deepnote_index_column": 402
        },
        {
         "0": 2315.495361328125,
         "_deepnote_index_column": 403
        },
        {
         "0": 2113.183837890625,
         "_deepnote_index_column": 404
        },
        {
         "0": 2359.90380859375,
         "_deepnote_index_column": 405
        },
        {
         "0": 3507.02978515625,
         "_deepnote_index_column": 406
        },
        {
         "0": 1652.6949462890625,
         "_deepnote_index_column": 407
        },
        {
         "0": 1361.952392578125,
         "_deepnote_index_column": 408
        },
        {
         "0": 982.9291381835938,
         "_deepnote_index_column": 409
        },
        {
         "0": 1737.241943359375,
         "_deepnote_index_column": 410
        },
        {
         "0": 1395.998779296875,
         "_deepnote_index_column": 411
        },
        {
         "0": 808.1233520507812,
         "_deepnote_index_column": 412
        },
        {
         "0": 849.1962280273438,
         "_deepnote_index_column": 413
        },
        {
         "0": 2713.283935546875,
         "_deepnote_index_column": 414
        },
        {
         "0": 3723.40673828125,
         "_deepnote_index_column": 415
        },
        {
         "0": 2641.360595703125,
         "_deepnote_index_column": 416
        },
        {
         "0": 2029.875732421875,
         "_deepnote_index_column": 417
        },
        {
         "0": 3040.6396484375,
         "_deepnote_index_column": 418
        },
        {
         "0": 1387.005859375,
         "_deepnote_index_column": 419
        },
        {
         "0": 1957.20947265625,
         "_deepnote_index_column": 420
        },
        {
         "0": 2971.711669921875,
         "_deepnote_index_column": 421
        },
        {
         "0": 766.0353393554688,
         "_deepnote_index_column": 422
        },
        {
         "0": 2021.9334716796875,
         "_deepnote_index_column": 423
        },
        {
         "0": 1333.1395263671875,
         "_deepnote_index_column": 424
        },
        {
         "0": 1619.2716064453125,
         "_deepnote_index_column": 425
        },
        {
         "0": 1104.1568603515625,
         "_deepnote_index_column": 426
        },
        {
         "0": 1797.8939208984375,
         "_deepnote_index_column": 427
        },
        {
         "0": 1027.98828125,
         "_deepnote_index_column": 428
        },
        {
         "0": 573.1920166015625,
         "_deepnote_index_column": 429
        },
        {
         "0": 1980.053955078125,
         "_deepnote_index_column": 430
        },
        {
         "0": 1615.0811767578125,
         "_deepnote_index_column": 431
        },
        {
         "0": 3365.56640625,
         "_deepnote_index_column": 432
        },
        {
         "0": 340.8762512207031,
         "_deepnote_index_column": 433
        },
        {
         "0": 393.1004638671875,
         "_deepnote_index_column": 434
        },
        {
         "0": 2171.510986328125,
         "_deepnote_index_column": 435
        },
        {
         "0": 1047.5264892578125,
         "_deepnote_index_column": 436
        },
        {
         "0": 864.1298828125,
         "_deepnote_index_column": 437
        },
        {
         "0": 1636.45458984375,
         "_deepnote_index_column": 438
        },
        {
         "0": 2470.05029296875,
         "_deepnote_index_column": 439
        },
        {
         "0": 1269.8026123046875,
         "_deepnote_index_column": 440
        },
        {
         "0": 1534.0888671875,
         "_deepnote_index_column": 441
        },
        {
         "0": 2385.6201171875,
         "_deepnote_index_column": 442
        },
        {
         "0": 1882.224853515625,
         "_deepnote_index_column": 443
        },
        {
         "0": 2430.77783203125,
         "_deepnote_index_column": 444
        },
        {
         "0": 2410.493408203125,
         "_deepnote_index_column": 445
        },
        {
         "0": 1753.273193359375,
         "_deepnote_index_column": 446
        },
        {
         "0": 541.2520141601562,
         "_deepnote_index_column": 447
        },
        {
         "0": 924.6726684570312,
         "_deepnote_index_column": 448
        },
        {
         "0": 2070.495361328125,
         "_deepnote_index_column": 449
        },
        {
         "0": 1734.037841796875,
         "_deepnote_index_column": 450
        },
        {
         "0": 1900.4764404296875,
         "_deepnote_index_column": 451
        },
        {
         "0": 4110.17431640625,
         "_deepnote_index_column": 452
        },
        {
         "0": 2906.368408203125,
         "_deepnote_index_column": 453
        },
        {
         "0": 1795.0902099609375,
         "_deepnote_index_column": 454
        },
        {
         "0": 1324.3087158203125,
         "_deepnote_index_column": 455
        },
        {
         "0": 902.5265502929688,
         "_deepnote_index_column": 456
        },
        {
         "0": 769.1149291992188,
         "_deepnote_index_column": 457
        },
        {
         "0": 2275.91162109375,
         "_deepnote_index_column": 458
        },
        {
         "0": 2434.5947265625,
         "_deepnote_index_column": 459
        },
        {
         "0": 1468.255126953125,
         "_deepnote_index_column": 460
        },
        {
         "0": 655.1218872070312,
         "_deepnote_index_column": 461
        },
        {
         "0": 1857.1689453125,
         "_deepnote_index_column": 462
        },
        {
         "0": 2922.841796875,
         "_deepnote_index_column": 463
        },
        {
         "0": 1655.1138916015625,
         "_deepnote_index_column": 464
        },
        {
         "0": 1431.302734375,
         "_deepnote_index_column": 465
        },
        {
         "0": 3077.38720703125,
         "_deepnote_index_column": 466
        },
        {
         "0": 1178.00927734375,
         "_deepnote_index_column": 467
        },
        {
         "0": 3840.616455078125,
         "_deepnote_index_column": 468
        },
        {
         "0": 3186.073486328125,
         "_deepnote_index_column": 469
        },
        {
         "0": 2028.57373046875,
         "_deepnote_index_column": 470
        },
        {
         "0": 2422.34130859375,
         "_deepnote_index_column": 471
        },
        {
         "0": 1343.7362060546875,
         "_deepnote_index_column": 472
        },
        {
         "0": 1552.461181640625,
         "_deepnote_index_column": 473
        },
        {
         "0": 2021.6734619140625,
         "_deepnote_index_column": 474
        },
        {
         "0": 546.4768676757812,
         "_deepnote_index_column": 475
        },
        {
         "0": 1775.2945556640625,
         "_deepnote_index_column": 476
        },
        {
         "0": 3623.960205078125,
         "_deepnote_index_column": 477
        },
        {
         "0": 758.7959594726562,
         "_deepnote_index_column": 478
        },
        {
         "0": 1549.619384765625,
         "_deepnote_index_column": 479
        },
        {
         "0": 1165.564208984375,
         "_deepnote_index_column": 480
        },
        {
         "0": 2462.562255859375,
         "_deepnote_index_column": 481
        },
        {
         "0": 660.6450805664062,
         "_deepnote_index_column": 482
        },
        {
         "0": 681.9725952148438,
         "_deepnote_index_column": 483
        },
        {
         "0": 2191.068359375,
         "_deepnote_index_column": 484
        },
        {
         "0": 3327.4638671875,
         "_deepnote_index_column": 485
        },
        {
         "0": 1031.5089111328125,
         "_deepnote_index_column": 486
        },
        {
         "0": 3379.55517578125,
         "_deepnote_index_column": 487
        },
        {
         "0": 236.85394287109375,
         "_deepnote_index_column": 488
        },
        {
         "0": 3016.699951171875,
         "_deepnote_index_column": 489
        },
        {
         "0": 1154.3134765625,
         "_deepnote_index_column": 490
        },
        {
         "0": 879.94873046875,
         "_deepnote_index_column": 491
        },
        {
         "0": 1356.779541015625,
         "_deepnote_index_column": 492
        },
        {
         "0": 1642.307373046875,
         "_deepnote_index_column": 493
        },
        {
         "0": 868.0194091796875,
         "_deepnote_index_column": 494
        },
        {
         "0": 2131.529296875,
         "_deepnote_index_column": 495
        },
        {
         "0": 4567.9287109375,
         "_deepnote_index_column": 496
        },
        {
         "0": 1511.6278076171875,
         "_deepnote_index_column": 497
        },
        {
         "0": 2135.589599609375,
         "_deepnote_index_column": 498
        },
        {
         "0": 756.5885009765625,
         "_deepnote_index_column": 499
        }
       ],
       "rows_bottom": [
        {
         "0": 4742.619140625,
         "_deepnote_index_column": 15634
        },
        {
         "0": 5579.2177734375,
         "_deepnote_index_column": 15635
        },
        {
         "0": 4431.78369140625,
         "_deepnote_index_column": 15636
        },
        {
         "0": 4609.58837890625,
         "_deepnote_index_column": 15637
        },
        {
         "0": 2696.03662109375,
         "_deepnote_index_column": 15638
        },
        {
         "0": 3236.356201171875,
         "_deepnote_index_column": 15639
        },
        {
         "0": 3605.37158203125,
         "_deepnote_index_column": 15640
        },
        {
         "0": 3377.14892578125,
         "_deepnote_index_column": 15641
        },
        {
         "0": 2916.13671875,
         "_deepnote_index_column": 15642
        },
        {
         "0": 4636.693359375,
         "_deepnote_index_column": 15643
        },
        {
         "0": 3746.41552734375,
         "_deepnote_index_column": 15644
        },
        {
         "0": 2327.27978515625,
         "_deepnote_index_column": 15645
        },
        {
         "0": 3215.181640625,
         "_deepnote_index_column": 15646
        },
        {
         "0": 3286.73046875,
         "_deepnote_index_column": 15647
        },
        {
         "0": 1674.428466796875,
         "_deepnote_index_column": 15648
        },
        {
         "0": 4981.451171875,
         "_deepnote_index_column": 15649
        },
        {
         "0": 4384.3369140625,
         "_deepnote_index_column": 15650
        },
        {
         "0": 4780.8271484375,
         "_deepnote_index_column": 15651
        },
        {
         "0": 3634.1240234375,
         "_deepnote_index_column": 15652
        },
        {
         "0": 3256.235595703125,
         "_deepnote_index_column": 15653
        },
        {
         "0": 4935.7353515625,
         "_deepnote_index_column": 15654
        },
        {
         "0": 4868.15625,
         "_deepnote_index_column": 15655
        },
        {
         "0": 4349.810546875,
         "_deepnote_index_column": 15656
        },
        {
         "0": 2964.26806640625,
         "_deepnote_index_column": 15657
        },
        {
         "0": 3788.06201171875,
         "_deepnote_index_column": 15658
        },
        {
         "0": 3365.2744140625,
         "_deepnote_index_column": 15659
        },
        {
         "0": 5098.896484375,
         "_deepnote_index_column": 15660
        },
        {
         "0": 3204.214599609375,
         "_deepnote_index_column": 15661
        },
        {
         "0": 1427.6595458984375,
         "_deepnote_index_column": 15662
        },
        {
         "0": 912.6589965820312,
         "_deepnote_index_column": 15663
        },
        {
         "0": 2704.52197265625,
         "_deepnote_index_column": 15664
        },
        {
         "0": 5492.7666015625,
         "_deepnote_index_column": 15665
        },
        {
         "0": 3258.773193359375,
         "_deepnote_index_column": 15666
        },
        {
         "0": 3573.1943359375,
         "_deepnote_index_column": 15667
        },
        {
         "0": 4052.5888671875,
         "_deepnote_index_column": 15668
        },
        {
         "0": 3246.47802734375,
         "_deepnote_index_column": 15669
        },
        {
         "0": 5272.802734375,
         "_deepnote_index_column": 15670
        },
        {
         "0": 4566.8916015625,
         "_deepnote_index_column": 15671
        },
        {
         "0": 4345.9375,
         "_deepnote_index_column": 15672
        },
        {
         "0": 1436.8564453125,
         "_deepnote_index_column": 15673
        },
        {
         "0": 4697.35546875,
         "_deepnote_index_column": 15674
        },
        {
         "0": 3990.51513671875,
         "_deepnote_index_column": 15675
        },
        {
         "0": 5314.978515625,
         "_deepnote_index_column": 15676
        },
        {
         "0": 3347.7275390625,
         "_deepnote_index_column": 15677
        },
        {
         "0": 3083.346923828125,
         "_deepnote_index_column": 15678
        },
        {
         "0": 4432.734375,
         "_deepnote_index_column": 15679
        },
        {
         "0": 5557.64111328125,
         "_deepnote_index_column": 15680
        },
        {
         "0": 4971.77490234375,
         "_deepnote_index_column": 15681
        },
        {
         "0": 3107.2373046875,
         "_deepnote_index_column": 15682
        },
        {
         "0": 4828.6630859375,
         "_deepnote_index_column": 15683
        },
        {
         "0": 2288.836669921875,
         "_deepnote_index_column": 15684
        },
        {
         "0": 4198.7001953125,
         "_deepnote_index_column": 15685
        },
        {
         "0": 2911.169921875,
         "_deepnote_index_column": 15686
        },
        {
         "0": 3491.0126953125,
         "_deepnote_index_column": 15687
        },
        {
         "0": 5557.64111328125,
         "_deepnote_index_column": 15688
        },
        {
         "0": 3702.399169921875,
         "_deepnote_index_column": 15689
        },
        {
         "0": 5584.92333984375,
         "_deepnote_index_column": 15690
        },
        {
         "0": 591.477783203125,
         "_deepnote_index_column": 15691
        },
        {
         "0": 3921.27392578125,
         "_deepnote_index_column": 15692
        },
        {
         "0": 2690.727294921875,
         "_deepnote_index_column": 15693
        },
        {
         "0": 2998.151611328125,
         "_deepnote_index_column": 15694
        },
        {
         "0": 4905.4091796875,
         "_deepnote_index_column": 15695
        },
        {
         "0": 4550.63427734375,
         "_deepnote_index_column": 15696
        },
        {
         "0": 4873.294921875,
         "_deepnote_index_column": 15697
        },
        {
         "0": 2371.4345703125,
         "_deepnote_index_column": 15698
        },
        {
         "0": 4495.630859375,
         "_deepnote_index_column": 15699
        },
        {
         "0": 2585.650634765625,
         "_deepnote_index_column": 15700
        },
        {
         "0": 2372.597900390625,
         "_deepnote_index_column": 15701
        },
        {
         "0": 4338.53515625,
         "_deepnote_index_column": 15702
        },
        {
         "0": 4246.0908203125,
         "_deepnote_index_column": 15703
        },
        {
         "0": 2240.956787109375,
         "_deepnote_index_column": 15704
        },
        {
         "0": 4183.85205078125,
         "_deepnote_index_column": 15705
        },
        {
         "0": 4467.7958984375,
         "_deepnote_index_column": 15706
        },
        {
         "0": 2619.96240234375,
         "_deepnote_index_column": 15707
        },
        {
         "0": 4472.583984375,
         "_deepnote_index_column": 15708
        },
        {
         "0": 4437.34375,
         "_deepnote_index_column": 15709
        },
        {
         "0": 4970.021484375,
         "_deepnote_index_column": 15710
        },
        {
         "0": 4961.13330078125,
         "_deepnote_index_column": 15711
        },
        {
         "0": 2525.899169921875,
         "_deepnote_index_column": 15712
        },
        {
         "0": 4442.6689453125,
         "_deepnote_index_column": 15713
        },
        {
         "0": 3696.529296875,
         "_deepnote_index_column": 15714
        },
        {
         "0": 3669.93798828125,
         "_deepnote_index_column": 15715
        },
        {
         "0": 5061.93212890625,
         "_deepnote_index_column": 15716
        },
        {
         "0": 2820.76513671875,
         "_deepnote_index_column": 15717
        },
        {
         "0": 2193.894287109375,
         "_deepnote_index_column": 15718
        },
        {
         "0": 1949.955078125,
         "_deepnote_index_column": 15719
        },
        {
         "0": 2885.37109375,
         "_deepnote_index_column": 15720
        },
        {
         "0": 2484.28759765625,
         "_deepnote_index_column": 15721
        },
        {
         "0": 2922.982666015625,
         "_deepnote_index_column": 15722
        },
        {
         "0": 5280.80712890625,
         "_deepnote_index_column": 15723
        },
        {
         "0": 1727.3101806640625,
         "_deepnote_index_column": 15724
        },
        {
         "0": 728.3533325195312,
         "_deepnote_index_column": 15725
        },
        {
         "0": 2357.117431640625,
         "_deepnote_index_column": 15726
        },
        {
         "0": 3521.553955078125,
         "_deepnote_index_column": 15727
        },
        {
         "0": 5326.87255859375,
         "_deepnote_index_column": 15728
        },
        {
         "0": 3851.281494140625,
         "_deepnote_index_column": 15729
        },
        {
         "0": 4661.33349609375,
         "_deepnote_index_column": 15730
        },
        {
         "0": 3132.4208984375,
         "_deepnote_index_column": 15731
        },
        {
         "0": 5296.45654296875,
         "_deepnote_index_column": 15732
        },
        {
         "0": 3937.23193359375,
         "_deepnote_index_column": 15733
        },
        {
         "0": 3009.300537109375,
         "_deepnote_index_column": 15734
        },
        {
         "0": 3676.265380859375,
         "_deepnote_index_column": 15735
        },
        {
         "0": 2951.5078125,
         "_deepnote_index_column": 15736
        },
        {
         "0": 2579.59521484375,
         "_deepnote_index_column": 15737
        },
        {
         "0": 3725.458740234375,
         "_deepnote_index_column": 15738
        },
        {
         "0": 3703.665283203125,
         "_deepnote_index_column": 15739
        },
        {
         "0": 4111.791015625,
         "_deepnote_index_column": 15740
        },
        {
         "0": 2827.80419921875,
         "_deepnote_index_column": 15741
        },
        {
         "0": 4328.58447265625,
         "_deepnote_index_column": 15742
        },
        {
         "0": 3365.2744140625,
         "_deepnote_index_column": 15743
        },
        {
         "0": 3129.65673828125,
         "_deepnote_index_column": 15744
        },
        {
         "0": 1024.4654541015625,
         "_deepnote_index_column": 15745
        },
        {
         "0": 3292.29248046875,
         "_deepnote_index_column": 15746
        },
        {
         "0": 3628.038818359375,
         "_deepnote_index_column": 15747
        },
        {
         "0": 2282.786376953125,
         "_deepnote_index_column": 15748
        },
        {
         "0": 4770.10107421875,
         "_deepnote_index_column": 15749
        },
        {
         "0": 5386.3271484375,
         "_deepnote_index_column": 15750
        },
        {
         "0": 4675.1064453125,
         "_deepnote_index_column": 15751
        },
        {
         "0": 3262.6552734375,
         "_deepnote_index_column": 15752
        },
        {
         "0": 4460.41455078125,
         "_deepnote_index_column": 15753
        },
        {
         "0": 2402.595947265625,
         "_deepnote_index_column": 15754
        },
        {
         "0": 5168.67041015625,
         "_deepnote_index_column": 15755
        },
        {
         "0": 3111.8837890625,
         "_deepnote_index_column": 15756
        },
        {
         "0": 4485.2548828125,
         "_deepnote_index_column": 15757
        },
        {
         "0": 5218.9736328125,
         "_deepnote_index_column": 15758
        },
        {
         "0": 4705.37060546875,
         "_deepnote_index_column": 15759
        },
        {
         "0": 3962.379150390625,
         "_deepnote_index_column": 15760
        },
        {
         "0": 4614.68994140625,
         "_deepnote_index_column": 15761
        },
        {
         "0": 4816.572265625,
         "_deepnote_index_column": 15762
        },
        {
         "0": 2608.998291015625,
         "_deepnote_index_column": 15763
        },
        {
         "0": 4386.173828125,
         "_deepnote_index_column": 15764
        },
        {
         "0": 5098.896484375,
         "_deepnote_index_column": 15765
        },
        {
         "0": 4992.22021484375,
         "_deepnote_index_column": 15766
        },
        {
         "0": 1676.2027587890625,
         "_deepnote_index_column": 15767
        },
        {
         "0": 3636.1416015625,
         "_deepnote_index_column": 15768
        },
        {
         "0": 3291.00146484375,
         "_deepnote_index_column": 15769
        },
        {
         "0": 4016.1376953125,
         "_deepnote_index_column": 15770
        },
        {
         "0": 2415.052734375,
         "_deepnote_index_column": 15771
        },
        {
         "0": 691.6235961914062,
         "_deepnote_index_column": 15772
        },
        {
         "0": 5230.77099609375,
         "_deepnote_index_column": 15773
        },
        {
         "0": 4201.908203125,
         "_deepnote_index_column": 15774
        },
        {
         "0": 3754.766357421875,
         "_deepnote_index_column": 15775
        },
        {
         "0": 3714.272216796875,
         "_deepnote_index_column": 15776
        },
        {
         "0": 2480.559326171875,
         "_deepnote_index_column": 15777
        },
        {
         "0": 4742.51025390625,
         "_deepnote_index_column": 15778
        },
        {
         "0": 3215.72705078125,
         "_deepnote_index_column": 15779
        },
        {
         "0": 4297.09521484375,
         "_deepnote_index_column": 15780
        },
        {
         "0": 4868.15625,
         "_deepnote_index_column": 15781
        },
        {
         "0": 5336.34033203125,
         "_deepnote_index_column": 15782
        },
        {
         "0": 3386.62158203125,
         "_deepnote_index_column": 15783
        },
        {
         "0": 5098.896484375,
         "_deepnote_index_column": 15784
        },
        {
         "0": 3186.5498046875,
         "_deepnote_index_column": 15785
        },
        {
         "0": 2511.497802734375,
         "_deepnote_index_column": 15786
        },
        {
         "0": 4899.99951171875,
         "_deepnote_index_column": 15787
        },
        {
         "0": 4895.95751953125,
         "_deepnote_index_column": 15788
        },
        {
         "0": 5081.37158203125,
         "_deepnote_index_column": 15789
        },
        {
         "0": 4153.82275390625,
         "_deepnote_index_column": 15790
        },
        {
         "0": 4746.18359375,
         "_deepnote_index_column": 15791
        },
        {
         "0": 2119.924072265625,
         "_deepnote_index_column": 15792
        },
        {
         "0": 4935.79150390625,
         "_deepnote_index_column": 15793
        },
        {
         "0": 5556.70166015625,
         "_deepnote_index_column": 15794
        },
        {
         "0": 1768.2218017578125,
         "_deepnote_index_column": 15795
        },
        {
         "0": 3996.73291015625,
         "_deepnote_index_column": 15796
        },
        {
         "0": 2633.39453125,
         "_deepnote_index_column": 15797
        },
        {
         "0": 2255.26708984375,
         "_deepnote_index_column": 15798
        },
        {
         "0": 4372.98095703125,
         "_deepnote_index_column": 15799
        },
        {
         "0": 4893.322265625,
         "_deepnote_index_column": 15800
        },
        {
         "0": 3192.556884765625,
         "_deepnote_index_column": 15801
        },
        {
         "0": 3639.10009765625,
         "_deepnote_index_column": 15802
        },
        {
         "0": 4101.41162109375,
         "_deepnote_index_column": 15803
        },
        {
         "0": 3805.40185546875,
         "_deepnote_index_column": 15804
        },
        {
         "0": 4263.05419921875,
         "_deepnote_index_column": 15805
        },
        {
         "0": 4432.13525390625,
         "_deepnote_index_column": 15806
        },
        {
         "0": 3125.72607421875,
         "_deepnote_index_column": 15807
        },
        {
         "0": 4183.109375,
         "_deepnote_index_column": 15808
        },
        {
         "0": 4281.6787109375,
         "_deepnote_index_column": 15809
        },
        {
         "0": 3459.59619140625,
         "_deepnote_index_column": 15810
        },
        {
         "0": 3256.176513671875,
         "_deepnote_index_column": 15811
        },
        {
         "0": 4031.6728515625,
         "_deepnote_index_column": 15812
        },
        {
         "0": 2346.37060546875,
         "_deepnote_index_column": 15813
        },
        {
         "0": 3905.933837890625,
         "_deepnote_index_column": 15814
        },
        {
         "0": 4705.37060546875,
         "_deepnote_index_column": 15815
        },
        {
         "0": 3990.71826171875,
         "_deepnote_index_column": 15816
        },
        {
         "0": 2487.108154296875,
         "_deepnote_index_column": 15817
        },
        {
         "0": 5061.17578125,
         "_deepnote_index_column": 15818
        },
        {
         "0": 1105.869873046875,
         "_deepnote_index_column": 15819
        },
        {
         "0": 5119.443359375,
         "_deepnote_index_column": 15820
        },
        {
         "0": 493.70404052734375,
         "_deepnote_index_column": 15821
        },
        {
         "0": 3015.1318359375,
         "_deepnote_index_column": 15822
        },
        {
         "0": 3981.781494140625,
         "_deepnote_index_column": 15823
        },
        {
         "0": 4788.5673828125,
         "_deepnote_index_column": 15824
        },
        {
         "0": 5878.0703125,
         "_deepnote_index_column": 15825
        },
        {
         "0": 4879.2236328125,
         "_deepnote_index_column": 15826
        },
        {
         "0": 5556.8857421875,
         "_deepnote_index_column": 15827
        },
        {
         "0": 5097.3935546875,
         "_deepnote_index_column": 15828
        },
        {
         "0": 2628.0166015625,
         "_deepnote_index_column": 15829
        },
        {
         "0": 5288.3779296875,
         "_deepnote_index_column": 15830
        },
        {
         "0": 5119.443359375,
         "_deepnote_index_column": 15831
        },
        {
         "0": 5658.267578125,
         "_deepnote_index_column": 15832
        },
        {
         "0": 4629.9345703125,
         "_deepnote_index_column": 15833
        },
        {
         "0": 2873.55859375,
         "_deepnote_index_column": 15834
        },
        {
         "0": 4944.1962890625,
         "_deepnote_index_column": 15835
        },
        {
         "0": 1630.056640625,
         "_deepnote_index_column": 15836
        },
        {
         "0": 4611.6494140625,
         "_deepnote_index_column": 15837
        },
        {
         "0": 3705.8037109375,
         "_deepnote_index_column": 15838
        },
        {
         "0": 3530.72119140625,
         "_deepnote_index_column": 15839
        },
        {
         "0": 2645.49755859375,
         "_deepnote_index_column": 15840
        },
        {
         "0": 5332.26416015625,
         "_deepnote_index_column": 15841
        },
        {
         "0": 2761.062255859375,
         "_deepnote_index_column": 15842
        },
        {
         "0": 5288.83935546875,
         "_deepnote_index_column": 15843
        },
        {
         "0": 976.9445190429688,
         "_deepnote_index_column": 15844
        },
        {
         "0": 2679.965087890625,
         "_deepnote_index_column": 15845
        },
        {
         "0": 3275.77783203125,
         "_deepnote_index_column": 15846
        },
        {
         "0": 5764.2568359375,
         "_deepnote_index_column": 15847
        },
        {
         "0": 1924.5640869140625,
         "_deepnote_index_column": 15848
        },
        {
         "0": 4759.17236328125,
         "_deepnote_index_column": 15849
        },
        {
         "0": 4917.7705078125,
         "_deepnote_index_column": 15850
        },
        {
         "0": 2846.01318359375,
         "_deepnote_index_column": 15851
        },
        {
         "0": 5427.513671875,
         "_deepnote_index_column": 15852
        },
        {
         "0": 5427.76025390625,
         "_deepnote_index_column": 15853
        },
        {
         "0": 3071.075439453125,
         "_deepnote_index_column": 15854
        },
        {
         "0": 4795.42529296875,
         "_deepnote_index_column": 15855
        },
        {
         "0": 2407.66064453125,
         "_deepnote_index_column": 15856
        },
        {
         "0": 4967.8701171875,
         "_deepnote_index_column": 15857
        },
        {
         "0": 2639.511474609375,
         "_deepnote_index_column": 15858
        },
        {
         "0": 3576.572509765625,
         "_deepnote_index_column": 15859
        },
        {
         "0": 3122.244384765625,
         "_deepnote_index_column": 15860
        },
        {
         "0": 5515.23388671875,
         "_deepnote_index_column": 15861
        },
        {
         "0": 3027.449462890625,
         "_deepnote_index_column": 15862
        },
        {
         "0": 3850.0302734375,
         "_deepnote_index_column": 15863
        },
        {
         "0": 2153.759521484375,
         "_deepnote_index_column": 15864
        },
        {
         "0": 2542.1337890625,
         "_deepnote_index_column": 15865
        },
        {
         "0": 3913.303955078125,
         "_deepnote_index_column": 15866
        },
        {
         "0": 4703.32177734375,
         "_deepnote_index_column": 15867
        },
        {
         "0": 3634.418701171875,
         "_deepnote_index_column": 15868
        },
        {
         "0": 4275.51611328125,
         "_deepnote_index_column": 15869
        },
        {
         "0": 5218.9736328125,
         "_deepnote_index_column": 15870
        },
        {
         "0": 5145.63671875,
         "_deepnote_index_column": 15871
        },
        {
         "0": 3963.716064453125,
         "_deepnote_index_column": 15872
        },
        {
         "0": 4685.68212890625,
         "_deepnote_index_column": 15873
        },
        {
         "0": 3278.8193359375,
         "_deepnote_index_column": 15874
        },
        {
         "0": 3856.0126953125,
         "_deepnote_index_column": 15875
        },
        {
         "0": 5625.67431640625,
         "_deepnote_index_column": 15876
        },
        {
         "0": 3088.808349609375,
         "_deepnote_index_column": 15877
        },
        {
         "0": 4648.1025390625,
         "_deepnote_index_column": 15878
        },
        {
         "0": 3042.212890625,
         "_deepnote_index_column": 15879
        },
        {
         "0": 5570.75634765625,
         "_deepnote_index_column": 15880
        },
        {
         "0": 4190.24755859375,
         "_deepnote_index_column": 15881
        },
        {
         "0": 5101.21923828125,
         "_deepnote_index_column": 15882
        },
        {
         "0": 3813.7470703125,
         "_deepnote_index_column": 15883
        },
        {
         "0": 5197.634765625,
         "_deepnote_index_column": 15884
        },
        {
         "0": 3313.36669921875,
         "_deepnote_index_column": 15885
        },
        {
         "0": 4501.5,
         "_deepnote_index_column": 15886
        },
        {
         "0": 4661.33349609375,
         "_deepnote_index_column": 15887
        },
        {
         "0": 3784.419921875,
         "_deepnote_index_column": 15888
        },
        {
         "0": 4677.85986328125,
         "_deepnote_index_column": 15889
        },
        {
         "0": 4895.95751953125,
         "_deepnote_index_column": 15890
        },
        {
         "0": 3960.82666015625,
         "_deepnote_index_column": 15891
        },
        {
         "0": 3110.98095703125,
         "_deepnote_index_column": 15892
        },
        {
         "0": 3715.44775390625,
         "_deepnote_index_column": 15893
        },
        {
         "0": 2962.458984375,
         "_deepnote_index_column": 15894
        },
        {
         "0": 4268.181640625,
         "_deepnote_index_column": 15895
        },
        {
         "0": 2895.024658203125,
         "_deepnote_index_column": 15896
        },
        {
         "0": 3749.49267578125,
         "_deepnote_index_column": 15897
        },
        {
         "0": 3351.348876953125,
         "_deepnote_index_column": 15898
        },
        {
         "0": 4951.22802734375,
         "_deepnote_index_column": 15899
        },
        {
         "0": 373.6006164550781,
         "_deepnote_index_column": 15900
        },
        {
         "0": 3143.405517578125,
         "_deepnote_index_column": 15901
        },
        {
         "0": 3425.296875,
         "_deepnote_index_column": 15902
        },
        {
         "0": 4807.90283203125,
         "_deepnote_index_column": 15903
        },
        {
         "0": 4460.38525390625,
         "_deepnote_index_column": 15904
        },
        {
         "0": 2109.51611328125,
         "_deepnote_index_column": 15905
        },
        {
         "0": 5312.00244140625,
         "_deepnote_index_column": 15906
        },
        {
         "0": 2693.3935546875,
         "_deepnote_index_column": 15907
        },
        {
         "0": 5197.634765625,
         "_deepnote_index_column": 15908
        },
        {
         "0": 2773.72412109375,
         "_deepnote_index_column": 15909
        },
        {
         "0": 4603.89990234375,
         "_deepnote_index_column": 15910
        },
        {
         "0": 3478.96533203125,
         "_deepnote_index_column": 15911
        },
        {
         "0": 2160.896484375,
         "_deepnote_index_column": 15912
        },
        {
         "0": 4233.76318359375,
         "_deepnote_index_column": 15913
        },
        {
         "0": 3970.5341796875,
         "_deepnote_index_column": 15914
        },
        {
         "0": 4341.72119140625,
         "_deepnote_index_column": 15915
        },
        {
         "0": 4632.197265625,
         "_deepnote_index_column": 15916
        },
        {
         "0": 3724.54638671875,
         "_deepnote_index_column": 15917
        },
        {
         "0": 2885.816162109375,
         "_deepnote_index_column": 15918
        },
        {
         "0": 3841.300048828125,
         "_deepnote_index_column": 15919
        },
        {
         "0": 3494.15380859375,
         "_deepnote_index_column": 15920
        },
        {
         "0": 4477.8642578125,
         "_deepnote_index_column": 15921
        },
        {
         "0": 4028.303955078125,
         "_deepnote_index_column": 15922
        },
        {
         "0": 5381.05615234375,
         "_deepnote_index_column": 15923
        },
        {
         "0": 4968.4658203125,
         "_deepnote_index_column": 15924
        },
        {
         "0": 3748.3037109375,
         "_deepnote_index_column": 15925
        },
        {
         "0": 4838.75537109375,
         "_deepnote_index_column": 15926
        },
        {
         "0": 2892.49853515625,
         "_deepnote_index_column": 15927
        },
        {
         "0": 5002.421875,
         "_deepnote_index_column": 15928
        },
        {
         "0": 4005.080810546875,
         "_deepnote_index_column": 15929
        },
        {
         "0": 5547.9501953125,
         "_deepnote_index_column": 15930
        },
        {
         "0": 2614.76318359375,
         "_deepnote_index_column": 15931
        },
        {
         "0": 1380.2982177734375,
         "_deepnote_index_column": 15932
        },
        {
         "0": 2287.531494140625,
         "_deepnote_index_column": 15933
        },
        {
         "0": 4937.755859375,
         "_deepnote_index_column": 15934
        },
        {
         "0": 4315.8056640625,
         "_deepnote_index_column": 15935
        },
        {
         "0": 4899.50732421875,
         "_deepnote_index_column": 15936
        },
        {
         "0": 5168.67041015625,
         "_deepnote_index_column": 15937
        },
        {
         "0": 4893.80859375,
         "_deepnote_index_column": 15938
        },
        {
         "0": 3129.56591796875,
         "_deepnote_index_column": 15939
        },
        {
         "0": 4874.96044921875,
         "_deepnote_index_column": 15940
        },
        {
         "0": 4515.79736328125,
         "_deepnote_index_column": 15941
        },
        {
         "0": 5764.2568359375,
         "_deepnote_index_column": 15942
        },
        {
         "0": 4970.37744140625,
         "_deepnote_index_column": 15943
        },
        {
         "0": 2427.42431640625,
         "_deepnote_index_column": 15944
        },
        {
         "0": 5168.67041015625,
         "_deepnote_index_column": 15945
        },
        {
         "0": 4961.13330078125,
         "_deepnote_index_column": 15946
        },
        {
         "0": 3374.151611328125,
         "_deepnote_index_column": 15947
        },
        {
         "0": 4437.1943359375,
         "_deepnote_index_column": 15948
        },
        {
         "0": 2329.367431640625,
         "_deepnote_index_column": 15949
        },
        {
         "0": 3505.026611328125,
         "_deepnote_index_column": 15950
        },
        {
         "0": 5146.2822265625,
         "_deepnote_index_column": 15951
        },
        {
         "0": 1040.9002685546875,
         "_deepnote_index_column": 15952
        },
        {
         "0": 5264.4365234375,
         "_deepnote_index_column": 15953
        },
        {
         "0": 5116.13427734375,
         "_deepnote_index_column": 15954
        },
        {
         "0": 4968.4658203125,
         "_deepnote_index_column": 15955
        },
        {
         "0": 2205.1396484375,
         "_deepnote_index_column": 15956
        },
        {
         "0": 3931.8740234375,
         "_deepnote_index_column": 15957
        },
        {
         "0": 3758.241455078125,
         "_deepnote_index_column": 15958
        },
        {
         "0": 3200.284912109375,
         "_deepnote_index_column": 15959
        },
        {
         "0": 5277.2177734375,
         "_deepnote_index_column": 15960
        },
        {
         "0": 4961.13330078125,
         "_deepnote_index_column": 15961
        },
        {
         "0": 3379.024658203125,
         "_deepnote_index_column": 15962
        },
        {
         "0": 2919.603271484375,
         "_deepnote_index_column": 15963
        },
        {
         "0": 4397.568359375,
         "_deepnote_index_column": 15964
        },
        {
         "0": 5040.54052734375,
         "_deepnote_index_column": 15965
        },
        {
         "0": 3932.0908203125,
         "_deepnote_index_column": 15966
        },
        {
         "0": 4980.97216796875,
         "_deepnote_index_column": 15967
        },
        {
         "0": 5327.66650390625,
         "_deepnote_index_column": 15968
        },
        {
         "0": 4445.29150390625,
         "_deepnote_index_column": 15969
        },
        {
         "0": 3528.8642578125,
         "_deepnote_index_column": 15970
        },
        {
         "0": 3036.24072265625,
         "_deepnote_index_column": 15971
        },
        {
         "0": 5193.0126953125,
         "_deepnote_index_column": 15972
        },
        {
         "0": 3930.036865234375,
         "_deepnote_index_column": 15973
        },
        {
         "0": 2116.302490234375,
         "_deepnote_index_column": 15974
        },
        {
         "0": 3460.587158203125,
         "_deepnote_index_column": 15975
        },
        {
         "0": 5010.515625,
         "_deepnote_index_column": 15976
        },
        {
         "0": 3957.1494140625,
         "_deepnote_index_column": 15977
        },
        {
         "0": 5568.08642578125,
         "_deepnote_index_column": 15978
        },
        {
         "0": 4107.14501953125,
         "_deepnote_index_column": 15979
        },
        {
         "0": 3317.948486328125,
         "_deepnote_index_column": 15980
        },
        {
         "0": 1413.740234375,
         "_deepnote_index_column": 15981
        },
        {
         "0": 472.60504150390625,
         "_deepnote_index_column": 15982
        },
        {
         "0": 5156.64794921875,
         "_deepnote_index_column": 15983
        },
        {
         "0": 3568.81494140625,
         "_deepnote_index_column": 15984
        },
        {
         "0": 4072.682373046875,
         "_deepnote_index_column": 15985
        },
        {
         "0": 5119.443359375,
         "_deepnote_index_column": 15986
        },
        {
         "0": 2650.514892578125,
         "_deepnote_index_column": 15987
        },
        {
         "0": 3736.541015625,
         "_deepnote_index_column": 15988
        },
        {
         "0": 3844.484375,
         "_deepnote_index_column": 15989
        },
        {
         "0": 4387.7978515625,
         "_deepnote_index_column": 15990
        },
        {
         "0": 3226.568359375,
         "_deepnote_index_column": 15991
        },
        {
         "0": 5291.5908203125,
         "_deepnote_index_column": 15992
        },
        {
         "0": 3418.698974609375,
         "_deepnote_index_column": 15993
        },
        {
         "0": 5368.60205078125,
         "_deepnote_index_column": 15994
        },
        {
         "0": 5322.9462890625,
         "_deepnote_index_column": 15995
        },
        {
         "0": 5013.36572265625,
         "_deepnote_index_column": 15996
        },
        {
         "0": 5322.8662109375,
         "_deepnote_index_column": 15997
        },
        {
         "0": 1599.2203369140625,
         "_deepnote_index_column": 15998
        },
        {
         "0": 4263.68359375,
         "_deepnote_index_column": 15999
        },
        {
         "0": 2836.49365234375,
         "_deepnote_index_column": 16000
        },
        {
         "0": 782.8529663085938,
         "_deepnote_index_column": 16001
        },
        {
         "0": 4129.84423828125,
         "_deepnote_index_column": 16002
        },
        {
         "0": 3485.169189453125,
         "_deepnote_index_column": 16003
        },
        {
         "0": 501.5708312988281,
         "_deepnote_index_column": 16004
        },
        {
         "0": 4156.708984375,
         "_deepnote_index_column": 16005
        },
        {
         "0": 4323.48388671875,
         "_deepnote_index_column": 16006
        },
        {
         "0": 4030.30517578125,
         "_deepnote_index_column": 16007
        },
        {
         "0": 5331.6259765625,
         "_deepnote_index_column": 16008
        },
        {
         "0": 5073.5048828125,
         "_deepnote_index_column": 16009
        },
        {
         "0": 4465.33056640625,
         "_deepnote_index_column": 16010
        },
        {
         "0": 3926.415283203125,
         "_deepnote_index_column": 16011
        },
        {
         "0": 1161.8560791015625,
         "_deepnote_index_column": 16012
        },
        {
         "0": 4093.766845703125,
         "_deepnote_index_column": 16013
        },
        {
         "0": 3858.38818359375,
         "_deepnote_index_column": 16014
        },
        {
         "0": 5002.99462890625,
         "_deepnote_index_column": 16015
        },
        {
         "0": 2801.965087890625,
         "_deepnote_index_column": 16016
        },
        {
         "0": 5417.0322265625,
         "_deepnote_index_column": 16017
        },
        {
         "0": 2615.857666015625,
         "_deepnote_index_column": 16018
        },
        {
         "0": 2330.638427734375,
         "_deepnote_index_column": 16019
        },
        {
         "0": 4882.283203125,
         "_deepnote_index_column": 16020
        },
        {
         "0": 4981.451171875,
         "_deepnote_index_column": 16021
        },
        {
         "0": 5422.58740234375,
         "_deepnote_index_column": 16022
        },
        {
         "0": 4931.857421875,
         "_deepnote_index_column": 16023
        },
        {
         "0": 2427.3154296875,
         "_deepnote_index_column": 16024
        },
        {
         "0": 3862.19384765625,
         "_deepnote_index_column": 16025
        },
        {
         "0": 4696.0712890625,
         "_deepnote_index_column": 16026
        },
        {
         "0": 3945.7548828125,
         "_deepnote_index_column": 16027
        },
        {
         "0": 5368.60205078125,
         "_deepnote_index_column": 16028
        },
        {
         "0": 2667.804931640625,
         "_deepnote_index_column": 16029
        },
        {
         "0": 2655.403076171875,
         "_deepnote_index_column": 16030
        },
        {
         "0": 4151.12841796875,
         "_deepnote_index_column": 16031
        },
        {
         "0": 2113.988525390625,
         "_deepnote_index_column": 16032
        },
        {
         "0": 2517.981201171875,
         "_deepnote_index_column": 16033
        },
        {
         "0": 2121.822998046875,
         "_deepnote_index_column": 16034
        },
        {
         "0": 5404.29638671875,
         "_deepnote_index_column": 16035
        },
        {
         "0": 4336.98779296875,
         "_deepnote_index_column": 16036
        },
        {
         "0": 2512.817138671875,
         "_deepnote_index_column": 16037
        },
        {
         "0": 5036.14599609375,
         "_deepnote_index_column": 16038
        },
        {
         "0": 4531.1533203125,
         "_deepnote_index_column": 16039
        },
        {
         "0": 5248.68701171875,
         "_deepnote_index_column": 16040
        },
        {
         "0": 5374.39404296875,
         "_deepnote_index_column": 16041
        },
        {
         "0": 3831.061279296875,
         "_deepnote_index_column": 16042
        },
        {
         "0": 3804.38671875,
         "_deepnote_index_column": 16043
        },
        {
         "0": 3399.77685546875,
         "_deepnote_index_column": 16044
        },
        {
         "0": 5040.54052734375,
         "_deepnote_index_column": 16045
        },
        {
         "0": 4715.66455078125,
         "_deepnote_index_column": 16046
        },
        {
         "0": 3580.713623046875,
         "_deepnote_index_column": 16047
        },
        {
         "0": 4849.93505859375,
         "_deepnote_index_column": 16048
        },
        {
         "0": 3758.860595703125,
         "_deepnote_index_column": 16049
        },
        {
         "0": 3646.582275390625,
         "_deepnote_index_column": 16050
        },
        {
         "0": 4661.33349609375,
         "_deepnote_index_column": 16051
        },
        {
         "0": 4004.182373046875,
         "_deepnote_index_column": 16052
        },
        {
         "0": 2551.15869140625,
         "_deepnote_index_column": 16053
        },
        {
         "0": 4523.9833984375,
         "_deepnote_index_column": 16054
        },
        {
         "0": 5664.375,
         "_deepnote_index_column": 16055
        },
        {
         "0": 2657.420654296875,
         "_deepnote_index_column": 16056
        },
        {
         "0": 5090.912109375,
         "_deepnote_index_column": 16057
        },
        {
         "0": 3209.079345703125,
         "_deepnote_index_column": 16058
        },
        {
         "0": 5040.54052734375,
         "_deepnote_index_column": 16059
        },
        {
         "0": 2516.260498046875,
         "_deepnote_index_column": 16060
        },
        {
         "0": 5040.54052734375,
         "_deepnote_index_column": 16061
        },
        {
         "0": 5307.73486328125,
         "_deepnote_index_column": 16062
        },
        {
         "0": 5580.986328125,
         "_deepnote_index_column": 16063
        },
        {
         "0": 4961.13330078125,
         "_deepnote_index_column": 16064
        },
        {
         "0": 5087.89794921875,
         "_deepnote_index_column": 16065
        },
        {
         "0": 5030.94921875,
         "_deepnote_index_column": 16066
        },
        {
         "0": 2431.380615234375,
         "_deepnote_index_column": 16067
        },
        {
         "0": 4574.15478515625,
         "_deepnote_index_column": 16068
        },
        {
         "0": 4971.77490234375,
         "_deepnote_index_column": 16069
        },
        {
         "0": 4371.07421875,
         "_deepnote_index_column": 16070
        },
        {
         "0": 386.99493408203125,
         "_deepnote_index_column": 16071
        },
        {
         "0": 3000.36767578125,
         "_deepnote_index_column": 16072
        },
        {
         "0": 4815.5908203125,
         "_deepnote_index_column": 16073
        },
        {
         "0": 3654.523193359375,
         "_deepnote_index_column": 16074
        },
        {
         "0": 4099.1875,
         "_deepnote_index_column": 16075
        },
        {
         "0": 5093.240234375,
         "_deepnote_index_column": 16076
        },
        {
         "0": 4493.54345703125,
         "_deepnote_index_column": 16077
        },
        {
         "0": 4043.84619140625,
         "_deepnote_index_column": 16078
        },
        {
         "0": 3573.75146484375,
         "_deepnote_index_column": 16079
        },
        {
         "0": 4258.70458984375,
         "_deepnote_index_column": 16080
        },
        {
         "0": 4661.33349609375,
         "_deepnote_index_column": 16081
        },
        {
         "0": 4243.46435546875,
         "_deepnote_index_column": 16082
        },
        {
         "0": 3676.121826171875,
         "_deepnote_index_column": 16083
        },
        {
         "0": 3525.8994140625,
         "_deepnote_index_column": 16084
        },
        {
         "0": 4575.4384765625,
         "_deepnote_index_column": 16085
        },
        {
         "0": 3722.43115234375,
         "_deepnote_index_column": 16086
        },
        {
         "0": 4006.888916015625,
         "_deepnote_index_column": 16087
        },
        {
         "0": 5321.52587890625,
         "_deepnote_index_column": 16088
        },
        {
         "0": 919.7454223632812,
         "_deepnote_index_column": 16089
        },
        {
         "0": 4631.00390625,
         "_deepnote_index_column": 16090
        },
        {
         "0": 2452.69873046875,
         "_deepnote_index_column": 16091
        },
        {
         "0": 4170.2080078125,
         "_deepnote_index_column": 16092
        },
        {
         "0": 5442.78857421875,
         "_deepnote_index_column": 16093
        },
        {
         "0": 1952.6142578125,
         "_deepnote_index_column": 16094
        },
        {
         "0": 5218.9736328125,
         "_deepnote_index_column": 16095
        },
        {
         "0": 2985.230224609375,
         "_deepnote_index_column": 16096
        },
        {
         "0": 5087.89794921875,
         "_deepnote_index_column": 16097
        },
        {
         "0": 965.529541015625,
         "_deepnote_index_column": 16098
        },
        {
         "0": 4770.30859375,
         "_deepnote_index_column": 16099
        },
        {
         "0": 5025.7421875,
         "_deepnote_index_column": 16100
        },
        {
         "0": 4999.8251953125,
         "_deepnote_index_column": 16101
        },
        {
         "0": 3348.647705078125,
         "_deepnote_index_column": 16102
        },
        {
         "0": 5119.443359375,
         "_deepnote_index_column": 16103
        },
        {
         "0": 4234.43310546875,
         "_deepnote_index_column": 16104
        },
        {
         "0": 2596.51708984375,
         "_deepnote_index_column": 16105
        },
        {
         "0": 4895.95751953125,
         "_deepnote_index_column": 16106
        },
        {
         "0": 135.826171875,
         "_deepnote_index_column": 16107
        },
        {
         "0": 4999.8251953125,
         "_deepnote_index_column": 16108
        },
        {
         "0": 4377.71435546875,
         "_deepnote_index_column": 16109
        },
        {
         "0": 4237.85205078125,
         "_deepnote_index_column": 16110
        },
        {
         "0": 4477.2607421875,
         "_deepnote_index_column": 16111
        },
        {
         "0": 2788.542724609375,
         "_deepnote_index_column": 16112
        },
        {
         "0": 3865.4267578125,
         "_deepnote_index_column": 16113
        },
        {
         "0": 5030.25341796875,
         "_deepnote_index_column": 16114
        },
        {
         "0": 5382.37646484375,
         "_deepnote_index_column": 16115
        },
        {
         "0": 1219.72900390625,
         "_deepnote_index_column": 16116
        },
        {
         "0": 5081.37158203125,
         "_deepnote_index_column": 16117
        },
        {
         "0": 5298.49169921875,
         "_deepnote_index_column": 16118
        },
        {
         "0": 2310.396728515625,
         "_deepnote_index_column": 16119
        },
        {
         "0": 5119.443359375,
         "_deepnote_index_column": 16120
        },
        {
         "0": 5694.4169921875,
         "_deepnote_index_column": 16121
        },
        {
         "0": 5218.9736328125,
         "_deepnote_index_column": 16122
        },
        {
         "0": 4940.68310546875,
         "_deepnote_index_column": 16123
        },
        {
         "0": 4319.14013671875,
         "_deepnote_index_column": 16124
        },
        {
         "0": 2672.486328125,
         "_deepnote_index_column": 16125
        },
        {
         "0": 2897.68408203125,
         "_deepnote_index_column": 16126
        },
        {
         "0": 3701.396728515625,
         "_deepnote_index_column": 16127
        },
        {
         "0": 5016.5322265625,
         "_deepnote_index_column": 16128
        },
        {
         "0": 1154.280517578125,
         "_deepnote_index_column": 16129
        },
        {
         "0": 4670.76416015625,
         "_deepnote_index_column": 16130
        },
        {
         "0": 3823.4794921875,
         "_deepnote_index_column": 16131
        },
        {
         "0": 4814.2412109375,
         "_deepnote_index_column": 16132
        },
        {
         "0": 4820.5439453125,
         "_deepnote_index_column": 16133
        }
       ]
      },
      "text/plain": "                 0\n0      2814.431396\n1      1716.003662\n2      2338.002930\n3       782.264954\n4      3158.952148\n...            ...\n16129  1154.280518\n16130  4670.764160\n16131  3823.479492\n16132  4814.241211\n16133  4820.543945\n\n[16134 rows x 1 columns]",
      "text/html": "<div>\n<style scoped>\n    .dataframe tbody tr th:only-of-type {\n        vertical-align: middle;\n    }\n\n    .dataframe tbody tr th {\n        vertical-align: top;\n    }\n\n    .dataframe thead th {\n        text-align: right;\n    }\n</style>\n<table border=\"1\" class=\"dataframe\">\n  <thead>\n    <tr style=\"text-align: right;\">\n      <th></th>\n      <th>0</th>\n    </tr>\n  </thead>\n  <tbody>\n    <tr>\n      <th>0</th>\n      <td>2814.431396</td>\n    </tr>\n    <tr>\n      <th>1</th>\n      <td>1716.003662</td>\n    </tr>\n    <tr>\n      <th>2</th>\n      <td>2338.002930</td>\n    </tr>\n    <tr>\n      <th>3</th>\n      <td>782.264954</td>\n    </tr>\n    <tr>\n      <th>4</th>\n      <td>3158.952148</td>\n    </tr>\n    <tr>\n      <th>...</th>\n      <td>...</td>\n    </tr>\n    <tr>\n      <th>16129</th>\n      <td>1154.280518</td>\n    </tr>\n    <tr>\n      <th>16130</th>\n      <td>4670.764160</td>\n    </tr>\n    <tr>\n      <th>16131</th>\n      <td>3823.479492</td>\n    </tr>\n    <tr>\n      <th>16132</th>\n      <td>4814.241211</td>\n    </tr>\n    <tr>\n      <th>16133</th>\n      <td>4820.543945</td>\n    </tr>\n  </tbody>\n</table>\n<p>16134 rows × 1 columns</p>\n</div>"
     },
     "metadata": {}
    }
   ],
   "execution_count": null
  },
  {
   "cell_type": "code",
   "source": "pd.DataFrame(y_test)",
   "metadata": {
    "tags": [],
    "cell_id": "00005-a85c670f-b7c8-4bdc-b209-4b4b6aa6a83f",
    "deepnote_to_be_reexecuted": false,
    "source_hash": "8888e097",
    "execution_start": 1632502105308,
    "execution_millis": 46,
    "deepnote_cell_type": "code"
   },
   "outputs": [
    {
     "output_type": "execute_result",
     "execution_count": 6,
     "data": {
      "application/vnd.deepnote.dataframe.v2+json": {
       "row_count": 16134,
       "column_count": 1,
       "columns": [
        {
         "name": "surface_area [m^2/g]",
         "dtype": "float64",
         "stats": {
          "unique_count": 15867,
          "nan_count": 0,
          "min": "53.54",
          "max": "7083.53",
          "histogram": [
           {
            "bin_start": 53.54,
            "bin_end": 756.539,
            "count": 1234
           },
           {
            "bin_start": 756.539,
            "bin_end": 1459.538,
            "count": 2697
           },
           {
            "bin_start": 1459.538,
            "bin_end": 2162.5370000000003,
            "count": 3014
           },
           {
            "bin_start": 2162.5370000000003,
            "bin_end": 2865.536,
            "count": 2458
           },
           {
            "bin_start": 2865.536,
            "bin_end": 3568.535,
            "count": 2145
           },
           {
            "bin_start": 3568.535,
            "bin_end": 4271.534000000001,
            "count": 1785
           },
           {
            "bin_start": 4271.534000000001,
            "bin_end": 4974.533,
            "count": 1423
           },
           {
            "bin_start": 4974.533,
            "bin_end": 5677.532,
            "count": 919
           },
           {
            "bin_start": 5677.532,
            "bin_end": 6380.531,
            "count": 389
           },
           {
            "bin_start": 6380.531,
            "bin_end": 7083.53,
            "count": 70
           }
          ]
         }
        },
        {
         "name": "_deepnote_index_column",
         "dtype": "int64"
        }
       ],
       "rows_top": [
        {
         "surface_area [m^2/g]": 2735.72,
         "_deepnote_index_column": 47630
        },
        {
         "surface_area [m^2/g]": 1647.5,
         "_deepnote_index_column": 47631
        },
        {
         "surface_area [m^2/g]": 2478.84,
         "_deepnote_index_column": 47632
        },
        {
         "surface_area [m^2/g]": 389.34,
         "_deepnote_index_column": 47633
        },
        {
         "surface_area [m^2/g]": 2762.68,
         "_deepnote_index_column": 47635
        },
        {
         "surface_area [m^2/g]": 281.89,
         "_deepnote_index_column": 47638
        },
        {
         "surface_area [m^2/g]": 1551.96,
         "_deepnote_index_column": 47639
        },
        {
         "surface_area [m^2/g]": 4354.84,
         "_deepnote_index_column": 47640
        },
        {
         "surface_area [m^2/g]": 1689.61,
         "_deepnote_index_column": 47641
        },
        {
         "surface_area [m^2/g]": 2915.24,
         "_deepnote_index_column": 47642
        },
        {
         "surface_area [m^2/g]": 1115.2,
         "_deepnote_index_column": 47643
        },
        {
         "surface_area [m^2/g]": 406.47,
         "_deepnote_index_column": 47644
        },
        {
         "surface_area [m^2/g]": 1127.23,
         "_deepnote_index_column": 47645
        },
        {
         "surface_area [m^2/g]": 1963.2,
         "_deepnote_index_column": 47646
        },
        {
         "surface_area [m^2/g]": 1762.85,
         "_deepnote_index_column": 47647
        },
        {
         "surface_area [m^2/g]": 4448.01,
         "_deepnote_index_column": 47648
        },
        {
         "surface_area [m^2/g]": 1377.83,
         "_deepnote_index_column": 47649
        },
        {
         "surface_area [m^2/g]": 694.63,
         "_deepnote_index_column": 47653
        },
        {
         "surface_area [m^2/g]": 1686.07,
         "_deepnote_index_column": 47654
        },
        {
         "surface_area [m^2/g]": 622.37,
         "_deepnote_index_column": 47655
        },
        {
         "surface_area [m^2/g]": 311.6,
         "_deepnote_index_column": 47656
        },
        {
         "surface_area [m^2/g]": 1195.69,
         "_deepnote_index_column": 47657
        },
        {
         "surface_area [m^2/g]": 949.55,
         "_deepnote_index_column": 47658
        },
        {
         "surface_area [m^2/g]": 1138.14,
         "_deepnote_index_column": 47659
        },
        {
         "surface_area [m^2/g]": 1329.14,
         "_deepnote_index_column": 47660
        },
        {
         "surface_area [m^2/g]": 2280.55,
         "_deepnote_index_column": 47661
        },
        {
         "surface_area [m^2/g]": 1685.34,
         "_deepnote_index_column": 47662
        },
        {
         "surface_area [m^2/g]": 2165.19,
         "_deepnote_index_column": 47663
        },
        {
         "surface_area [m^2/g]": 844.69,
         "_deepnote_index_column": 47665
        },
        {
         "surface_area [m^2/g]": 2028.77,
         "_deepnote_index_column": 47666
        },
        {
         "surface_area [m^2/g]": 2328.39,
         "_deepnote_index_column": 47667
        },
        {
         "surface_area [m^2/g]": 1169.54,
         "_deepnote_index_column": 47668
        },
        {
         "surface_area [m^2/g]": 4257.6,
         "_deepnote_index_column": 47669
        },
        {
         "surface_area [m^2/g]": 2337.88,
         "_deepnote_index_column": 47671
        },
        {
         "surface_area [m^2/g]": 2275.72,
         "_deepnote_index_column": 47673
        },
        {
         "surface_area [m^2/g]": 2036.16,
         "_deepnote_index_column": 47674
        },
        {
         "surface_area [m^2/g]": 2619.58,
         "_deepnote_index_column": 47675
        },
        {
         "surface_area [m^2/g]": 1687.41,
         "_deepnote_index_column": 47676
        },
        {
         "surface_area [m^2/g]": 1869.74,
         "_deepnote_index_column": 47677
        },
        {
         "surface_area [m^2/g]": 2246.06,
         "_deepnote_index_column": 47678
        },
        {
         "surface_area [m^2/g]": 3310.29,
         "_deepnote_index_column": 47679
        },
        {
         "surface_area [m^2/g]": 1440.84,
         "_deepnote_index_column": 47680
        },
        {
         "surface_area [m^2/g]": 1722.38,
         "_deepnote_index_column": 47681
        },
        {
         "surface_area [m^2/g]": 1993.65,
         "_deepnote_index_column": 47682
        },
        {
         "surface_area [m^2/g]": 3198.78,
         "_deepnote_index_column": 47683
        },
        {
         "surface_area [m^2/g]": 1682.86,
         "_deepnote_index_column": 47684
        },
        {
         "surface_area [m^2/g]": 1388.03,
         "_deepnote_index_column": 47685
        },
        {
         "surface_area [m^2/g]": 2381.59,
         "_deepnote_index_column": 47686
        },
        {
         "surface_area [m^2/g]": 2164.95,
         "_deepnote_index_column": 47687
        },
        {
         "surface_area [m^2/g]": 523.64,
         "_deepnote_index_column": 47690
        },
        {
         "surface_area [m^2/g]": 2915.35,
         "_deepnote_index_column": 47691
        },
        {
         "surface_area [m^2/g]": 2092.33,
         "_deepnote_index_column": 47692
        },
        {
         "surface_area [m^2/g]": 617.01,
         "_deepnote_index_column": 47694
        },
        {
         "surface_area [m^2/g]": 2356.74,
         "_deepnote_index_column": 47695
        },
        {
         "surface_area [m^2/g]": 512.52,
         "_deepnote_index_column": 47696
        },
        {
         "surface_area [m^2/g]": 1159.29,
         "_deepnote_index_column": 47697
        },
        {
         "surface_area [m^2/g]": 843.4,
         "_deepnote_index_column": 47699
        },
        {
         "surface_area [m^2/g]": 1164.95,
         "_deepnote_index_column": 47701
        },
        {
         "surface_area [m^2/g]": 2203.48,
         "_deepnote_index_column": 47702
        },
        {
         "surface_area [m^2/g]": 2039.31,
         "_deepnote_index_column": 47703
        },
        {
         "surface_area [m^2/g]": 3129.57,
         "_deepnote_index_column": 47704
        },
        {
         "surface_area [m^2/g]": 2522.59,
         "_deepnote_index_column": 47706
        },
        {
         "surface_area [m^2/g]": 1871.07,
         "_deepnote_index_column": 47707
        },
        {
         "surface_area [m^2/g]": 1479.28,
         "_deepnote_index_column": 47708
        },
        {
         "surface_area [m^2/g]": 2307.77,
         "_deepnote_index_column": 47709
        },
        {
         "surface_area [m^2/g]": 2988.02,
         "_deepnote_index_column": 47710
        },
        {
         "surface_area [m^2/g]": 3059.6,
         "_deepnote_index_column": 47711
        },
        {
         "surface_area [m^2/g]": 1836.99,
         "_deepnote_index_column": 47712
        },
        {
         "surface_area [m^2/g]": 1569.32,
         "_deepnote_index_column": 47713
        },
        {
         "surface_area [m^2/g]": 2502.44,
         "_deepnote_index_column": 47714
        },
        {
         "surface_area [m^2/g]": 1668.94,
         "_deepnote_index_column": 47715
        },
        {
         "surface_area [m^2/g]": 2184.41,
         "_deepnote_index_column": 47716
        },
        {
         "surface_area [m^2/g]": 1057.3,
         "_deepnote_index_column": 47717
        },
        {
         "surface_area [m^2/g]": 2713.51,
         "_deepnote_index_column": 47719
        },
        {
         "surface_area [m^2/g]": 1280.81,
         "_deepnote_index_column": 47720
        },
        {
         "surface_area [m^2/g]": 988.44,
         "_deepnote_index_column": 47721
        },
        {
         "surface_area [m^2/g]": 1697.07,
         "_deepnote_index_column": 47724
        },
        {
         "surface_area [m^2/g]": 2176.26,
         "_deepnote_index_column": 47725
        },
        {
         "surface_area [m^2/g]": 1874.59,
         "_deepnote_index_column": 47726
        },
        {
         "surface_area [m^2/g]": 2928.46,
         "_deepnote_index_column": 47727
        },
        {
         "surface_area [m^2/g]": 1953.93,
         "_deepnote_index_column": 47728
        },
        {
         "surface_area [m^2/g]": 1730.25,
         "_deepnote_index_column": 47730
        },
        {
         "surface_area [m^2/g]": 2845.65,
         "_deepnote_index_column": 47731
        },
        {
         "surface_area [m^2/g]": 2033.09,
         "_deepnote_index_column": 47735
        },
        {
         "surface_area [m^2/g]": 1292.21,
         "_deepnote_index_column": 47737
        },
        {
         "surface_area [m^2/g]": 595.66,
         "_deepnote_index_column": 47738
        },
        {
         "surface_area [m^2/g]": 320.5,
         "_deepnote_index_column": 47739
        },
        {
         "surface_area [m^2/g]": 2038.42,
         "_deepnote_index_column": 47740
        },
        {
         "surface_area [m^2/g]": 4648.7,
         "_deepnote_index_column": 47741
        },
        {
         "surface_area [m^2/g]": 1726.49,
         "_deepnote_index_column": 47742
        },
        {
         "surface_area [m^2/g]": 2699.12,
         "_deepnote_index_column": 47743
        },
        {
         "surface_area [m^2/g]": 2264.46,
         "_deepnote_index_column": 47746
        },
        {
         "surface_area [m^2/g]": 2383.42,
         "_deepnote_index_column": 47747
        },
        {
         "surface_area [m^2/g]": 2150.09,
         "_deepnote_index_column": 47748
        },
        {
         "surface_area [m^2/g]": 2363.11,
         "_deepnote_index_column": 47749
        },
        {
         "surface_area [m^2/g]": 1921.41,
         "_deepnote_index_column": 47750
        },
        {
         "surface_area [m^2/g]": 2720.89,
         "_deepnote_index_column": 47752
        },
        {
         "surface_area [m^2/g]": 1213.44,
         "_deepnote_index_column": 47753
        },
        {
         "surface_area [m^2/g]": 1640.14,
         "_deepnote_index_column": 47754
        },
        {
         "surface_area [m^2/g]": 1702.47,
         "_deepnote_index_column": 47755
        },
        {
         "surface_area [m^2/g]": 463.32,
         "_deepnote_index_column": 47756
        },
        {
         "surface_area [m^2/g]": 1336.21,
         "_deepnote_index_column": 47757
        },
        {
         "surface_area [m^2/g]": 2119.38,
         "_deepnote_index_column": 47758
        },
        {
         "surface_area [m^2/g]": 2228.99,
         "_deepnote_index_column": 47761
        },
        {
         "surface_area [m^2/g]": 1848.71,
         "_deepnote_index_column": 47762
        },
        {
         "surface_area [m^2/g]": 1358.58,
         "_deepnote_index_column": 47763
        },
        {
         "surface_area [m^2/g]": 1825.06,
         "_deepnote_index_column": 47766
        },
        {
         "surface_area [m^2/g]": 2375.22,
         "_deepnote_index_column": 47767
        },
        {
         "surface_area [m^2/g]": 631.38,
         "_deepnote_index_column": 47768
        },
        {
         "surface_area [m^2/g]": 345.24,
         "_deepnote_index_column": 47769
        },
        {
         "surface_area [m^2/g]": 824.12,
         "_deepnote_index_column": 47770
        },
        {
         "surface_area [m^2/g]": 2985.49,
         "_deepnote_index_column": 47771
        },
        {
         "surface_area [m^2/g]": 3265.91,
         "_deepnote_index_column": 47772
        },
        {
         "surface_area [m^2/g]": 1858.08,
         "_deepnote_index_column": 47773
        },
        {
         "surface_area [m^2/g]": 540.53,
         "_deepnote_index_column": 47774
        },
        {
         "surface_area [m^2/g]": 3448.67,
         "_deepnote_index_column": 47775
        },
        {
         "surface_area [m^2/g]": 2853.73,
         "_deepnote_index_column": 47777
        },
        {
         "surface_area [m^2/g]": 483.56,
         "_deepnote_index_column": 47778
        },
        {
         "surface_area [m^2/g]": 615.05,
         "_deepnote_index_column": 47781
        },
        {
         "surface_area [m^2/g]": 1848.02,
         "_deepnote_index_column": 47782
        },
        {
         "surface_area [m^2/g]": 1163.07,
         "_deepnote_index_column": 47783
        },
        {
         "surface_area [m^2/g]": 3634.73,
         "_deepnote_index_column": 47784
        },
        {
         "surface_area [m^2/g]": 1132.44,
         "_deepnote_index_column": 47785
        },
        {
         "surface_area [m^2/g]": 1041.76,
         "_deepnote_index_column": 47787
        },
        {
         "surface_area [m^2/g]": 1627.15,
         "_deepnote_index_column": 47788
        },
        {
         "surface_area [m^2/g]": 2015.32,
         "_deepnote_index_column": 47789
        },
        {
         "surface_area [m^2/g]": 821.3099999999998,
         "_deepnote_index_column": 47790
        },
        {
         "surface_area [m^2/g]": 1268.46,
         "_deepnote_index_column": 47791
        },
        {
         "surface_area [m^2/g]": 1913.81,
         "_deepnote_index_column": 47792
        },
        {
         "surface_area [m^2/g]": 570.87,
         "_deepnote_index_column": 47797
        },
        {
         "surface_area [m^2/g]": 1971.86,
         "_deepnote_index_column": 47799
        },
        {
         "surface_area [m^2/g]": 2000.6,
         "_deepnote_index_column": 47800
        },
        {
         "surface_area [m^2/g]": 3356.88,
         "_deepnote_index_column": 47802
        },
        {
         "surface_area [m^2/g]": 2562.41,
         "_deepnote_index_column": 47804
        },
        {
         "surface_area [m^2/g]": 1628.76,
         "_deepnote_index_column": 47806
        },
        {
         "surface_area [m^2/g]": 2163.99,
         "_deepnote_index_column": 47807
        },
        {
         "surface_area [m^2/g]": 2325.86,
         "_deepnote_index_column": 47808
        },
        {
         "surface_area [m^2/g]": 1577.29,
         "_deepnote_index_column": 47809
        },
        {
         "surface_area [m^2/g]": 1709.2,
         "_deepnote_index_column": 47810
        },
        {
         "surface_area [m^2/g]": 3967.51,
         "_deepnote_index_column": 47811
        },
        {
         "surface_area [m^2/g]": 1842.21,
         "_deepnote_index_column": 47812
        },
        {
         "surface_area [m^2/g]": 910.45,
         "_deepnote_index_column": 47813
        },
        {
         "surface_area [m^2/g]": 829.88,
         "_deepnote_index_column": 47814
        },
        {
         "surface_area [m^2/g]": 1600.64,
         "_deepnote_index_column": 47815
        },
        {
         "surface_area [m^2/g]": 2953.93,
         "_deepnote_index_column": 47817
        },
        {
         "surface_area [m^2/g]": 2666.18,
         "_deepnote_index_column": 47818
        },
        {
         "surface_area [m^2/g]": 608.26,
         "_deepnote_index_column": 47819
        },
        {
         "surface_area [m^2/g]": 2293.73,
         "_deepnote_index_column": 47822
        },
        {
         "surface_area [m^2/g]": 2229.39,
         "_deepnote_index_column": 47823
        },
        {
         "surface_area [m^2/g]": 1902.13,
         "_deepnote_index_column": 47824
        },
        {
         "surface_area [m^2/g]": 1352.91,
         "_deepnote_index_column": 47825
        },
        {
         "surface_area [m^2/g]": 904.94,
         "_deepnote_index_column": 47827
        },
        {
         "surface_area [m^2/g]": 706.06,
         "_deepnote_index_column": 47828
        },
        {
         "surface_area [m^2/g]": 762.3099999999998,
         "_deepnote_index_column": 47830
        },
        {
         "surface_area [m^2/g]": 2223.23,
         "_deepnote_index_column": 47831
        },
        {
         "surface_area [m^2/g]": 1435.07,
         "_deepnote_index_column": 47832
        },
        {
         "surface_area [m^2/g]": 3423.01,
         "_deepnote_index_column": 47833
        },
        {
         "surface_area [m^2/g]": 3435.49,
         "_deepnote_index_column": 47834
        },
        {
         "surface_area [m^2/g]": 2883.9,
         "_deepnote_index_column": 47835
        },
        {
         "surface_area [m^2/g]": 2302,
         "_deepnote_index_column": 47836
        },
        {
         "surface_area [m^2/g]": 1114.96,
         "_deepnote_index_column": 47837
        },
        {
         "surface_area [m^2/g]": 4425.18,
         "_deepnote_index_column": 47838
        },
        {
         "surface_area [m^2/g]": 857.77,
         "_deepnote_index_column": 47839
        },
        {
         "surface_area [m^2/g]": 2927.41,
         "_deepnote_index_column": 47840
        },
        {
         "surface_area [m^2/g]": 1200.58,
         "_deepnote_index_column": 47841
        },
        {
         "surface_area [m^2/g]": 535.33,
         "_deepnote_index_column": 47842
        },
        {
         "surface_area [m^2/g]": 2277.02,
         "_deepnote_index_column": 47843
        },
        {
         "surface_area [m^2/g]": 1633.3,
         "_deepnote_index_column": 47844
        },
        {
         "surface_area [m^2/g]": 817.39,
         "_deepnote_index_column": 47845
        },
        {
         "surface_area [m^2/g]": 2498.1,
         "_deepnote_index_column": 47846
        },
        {
         "surface_area [m^2/g]": 2080.6,
         "_deepnote_index_column": 47847
        },
        {
         "surface_area [m^2/g]": 1134.55,
         "_deepnote_index_column": 47848
        },
        {
         "surface_area [m^2/g]": 2628.89,
         "_deepnote_index_column": 47849
        },
        {
         "surface_area [m^2/g]": 1453.61,
         "_deepnote_index_column": 47850
        },
        {
         "surface_area [m^2/g]": 4245.37,
         "_deepnote_index_column": 47851
        },
        {
         "surface_area [m^2/g]": 3000.03,
         "_deepnote_index_column": 47852
        },
        {
         "surface_area [m^2/g]": 1065.59,
         "_deepnote_index_column": 47853
        },
        {
         "surface_area [m^2/g]": 1901.67,
         "_deepnote_index_column": 47854
        },
        {
         "surface_area [m^2/g]": 2181.13,
         "_deepnote_index_column": 47857
        },
        {
         "surface_area [m^2/g]": 817.26,
         "_deepnote_index_column": 47859
        },
        {
         "surface_area [m^2/g]": 1549.67,
         "_deepnote_index_column": 47863
        },
        {
         "surface_area [m^2/g]": 1498.78,
         "_deepnote_index_column": 47865
        },
        {
         "surface_area [m^2/g]": 660.11,
         "_deepnote_index_column": 47866
        },
        {
         "surface_area [m^2/g]": 2847.77,
         "_deepnote_index_column": 47867
        },
        {
         "surface_area [m^2/g]": 1758.07,
         "_deepnote_index_column": 47868
        },
        {
         "surface_area [m^2/g]": 843.1599999999999,
         "_deepnote_index_column": 47869
        },
        {
         "surface_area [m^2/g]": 2590.95,
         "_deepnote_index_column": 47870
        },
        {
         "surface_area [m^2/g]": 294.26,
         "_deepnote_index_column": 47871
        },
        {
         "surface_area [m^2/g]": 1678.62,
         "_deepnote_index_column": 47872
        },
        {
         "surface_area [m^2/g]": 2539.96,
         "_deepnote_index_column": 47873
        },
        {
         "surface_area [m^2/g]": 2217.45,
         "_deepnote_index_column": 47874
        },
        {
         "surface_area [m^2/g]": 1312.11,
         "_deepnote_index_column": 47875
        },
        {
         "surface_area [m^2/g]": 630.17,
         "_deepnote_index_column": 47877
        },
        {
         "surface_area [m^2/g]": 1620.06,
         "_deepnote_index_column": 47878
        },
        {
         "surface_area [m^2/g]": 3734.44,
         "_deepnote_index_column": 47879
        },
        {
         "surface_area [m^2/g]": 1227.15,
         "_deepnote_index_column": 47880
        },
        {
         "surface_area [m^2/g]": 485.33,
         "_deepnote_index_column": 47881
        },
        {
         "surface_area [m^2/g]": 2060.58,
         "_deepnote_index_column": 47882
        },
        {
         "surface_area [m^2/g]": 2663.2,
         "_deepnote_index_column": 47884
        },
        {
         "surface_area [m^2/g]": 2928.57,
         "_deepnote_index_column": 47885
        },
        {
         "surface_area [m^2/g]": 2224.6,
         "_deepnote_index_column": 47886
        },
        {
         "surface_area [m^2/g]": 1434.26,
         "_deepnote_index_column": 47887
        },
        {
         "surface_area [m^2/g]": 2191.52,
         "_deepnote_index_column": 47889
        },
        {
         "surface_area [m^2/g]": 2027.88,
         "_deepnote_index_column": 47890
        },
        {
         "surface_area [m^2/g]": 1649.85,
         "_deepnote_index_column": 47891
        },
        {
         "surface_area [m^2/g]": 2550.49,
         "_deepnote_index_column": 47892
        },
        {
         "surface_area [m^2/g]": 3290.29,
         "_deepnote_index_column": 47894
        },
        {
         "surface_area [m^2/g]": 2483.76,
         "_deepnote_index_column": 47895
        },
        {
         "surface_area [m^2/g]": 2918.3,
         "_deepnote_index_column": 47896
        },
        {
         "surface_area [m^2/g]": 1066.23,
         "_deepnote_index_column": 47897
        },
        {
         "surface_area [m^2/g]": 771.98,
         "_deepnote_index_column": 47898
        },
        {
         "surface_area [m^2/g]": 385.68,
         "_deepnote_index_column": 47900
        },
        {
         "surface_area [m^2/g]": 2055,
         "_deepnote_index_column": 47901
        },
        {
         "surface_area [m^2/g]": 1182.01,
         "_deepnote_index_column": 47902
        },
        {
         "surface_area [m^2/g]": 1703.86,
         "_deepnote_index_column": 47903
        },
        {
         "surface_area [m^2/g]": 1159.44,
         "_deepnote_index_column": 47904
        },
        {
         "surface_area [m^2/g]": 2169.61,
         "_deepnote_index_column": 47906
        },
        {
         "surface_area [m^2/g]": 2890.92,
         "_deepnote_index_column": 47908
        },
        {
         "surface_area [m^2/g]": 1427.37,
         "_deepnote_index_column": 47909
        },
        {
         "surface_area [m^2/g]": 791.72,
         "_deepnote_index_column": 47911
        },
        {
         "surface_area [m^2/g]": 1582.22,
         "_deepnote_index_column": 47912
        },
        {
         "surface_area [m^2/g]": 1800.17,
         "_deepnote_index_column": 47913
        },
        {
         "surface_area [m^2/g]": 1201.44,
         "_deepnote_index_column": 47914
        },
        {
         "surface_area [m^2/g]": 851.2,
         "_deepnote_index_column": 47916
        },
        {
         "surface_area [m^2/g]": 1991.17,
         "_deepnote_index_column": 47917
        },
        {
         "surface_area [m^2/g]": 905.72,
         "_deepnote_index_column": 47918
        },
        {
         "surface_area [m^2/g]": 3629.27,
         "_deepnote_index_column": 47919
        },
        {
         "surface_area [m^2/g]": 3335.4,
         "_deepnote_index_column": 47920
        },
        {
         "surface_area [m^2/g]": 1796.38,
         "_deepnote_index_column": 47921
        },
        {
         "surface_area [m^2/g]": 1707.81,
         "_deepnote_index_column": 47922
        },
        {
         "surface_area [m^2/g]": 2137.86,
         "_deepnote_index_column": 47924
        },
        {
         "surface_area [m^2/g]": 2654.46,
         "_deepnote_index_column": 47925
        },
        {
         "surface_area [m^2/g]": 3717.52,
         "_deepnote_index_column": 47926
        },
        {
         "surface_area [m^2/g]": 2921.77,
         "_deepnote_index_column": 47927
        },
        {
         "surface_area [m^2/g]": 1074,
         "_deepnote_index_column": 47928
        },
        {
         "surface_area [m^2/g]": 3406.12,
         "_deepnote_index_column": 47929
        },
        {
         "surface_area [m^2/g]": 952.04,
         "_deepnote_index_column": 47930
        },
        {
         "surface_area [m^2/g]": 1136.74,
         "_deepnote_index_column": 47931
        },
        {
         "surface_area [m^2/g]": 3212.1,
         "_deepnote_index_column": 47932
        },
        {
         "surface_area [m^2/g]": 3567.81,
         "_deepnote_index_column": 47933
        },
        {
         "surface_area [m^2/g]": 1010.88,
         "_deepnote_index_column": 47934
        },
        {
         "surface_area [m^2/g]": 569.34,
         "_deepnote_index_column": 47936
        },
        {
         "surface_area [m^2/g]": 1088.86,
         "_deepnote_index_column": 47941
        },
        {
         "surface_area [m^2/g]": 1563.99,
         "_deepnote_index_column": 47942
        },
        {
         "surface_area [m^2/g]": 1328.36,
         "_deepnote_index_column": 47945
        },
        {
         "surface_area [m^2/g]": 2711.5,
         "_deepnote_index_column": 47946
        },
        {
         "surface_area [m^2/g]": 2576.03,
         "_deepnote_index_column": 47947
        },
        {
         "surface_area [m^2/g]": 2627.55,
         "_deepnote_index_column": 47948
        },
        {
         "surface_area [m^2/g]": 3023.25,
         "_deepnote_index_column": 47949
        },
        {
         "surface_area [m^2/g]": 1044.38,
         "_deepnote_index_column": 47950
        },
        {
         "surface_area [m^2/g]": 1231.29,
         "_deepnote_index_column": 47951
        },
        {
         "surface_area [m^2/g]": 3793.36,
         "_deepnote_index_column": 47952
        },
        {
         "surface_area [m^2/g]": 644.51,
         "_deepnote_index_column": 47953
        },
        {
         "surface_area [m^2/g]": 594.09,
         "_deepnote_index_column": 47954
        },
        {
         "surface_area [m^2/g]": 1891.91,
         "_deepnote_index_column": 47955
        },
        {
         "surface_area [m^2/g]": 840.89,
         "_deepnote_index_column": 47957
        },
        {
         "surface_area [m^2/g]": 1901.09,
         "_deepnote_index_column": 47958
        },
        {
         "surface_area [m^2/g]": 786.4299999999998,
         "_deepnote_index_column": 47959
        },
        {
         "surface_area [m^2/g]": 2242.91,
         "_deepnote_index_column": 47961
        },
        {
         "surface_area [m^2/g]": 779.57,
         "_deepnote_index_column": 47962
        },
        {
         "surface_area [m^2/g]": 2152.67,
         "_deepnote_index_column": 47964
        },
        {
         "surface_area [m^2/g]": 1884.42,
         "_deepnote_index_column": 47966
        },
        {
         "surface_area [m^2/g]": 1103.07,
         "_deepnote_index_column": 47967
        },
        {
         "surface_area [m^2/g]": 465.08,
         "_deepnote_index_column": 47968
        },
        {
         "surface_area [m^2/g]": 2006.8,
         "_deepnote_index_column": 47970
        },
        {
         "surface_area [m^2/g]": 540.56,
         "_deepnote_index_column": 47971
        },
        {
         "surface_area [m^2/g]": 2909.83,
         "_deepnote_index_column": 47972
        },
        {
         "surface_area [m^2/g]": 2704.21,
         "_deepnote_index_column": 47974
        },
        {
         "surface_area [m^2/g]": 3221.92,
         "_deepnote_index_column": 47975
        },
        {
         "surface_area [m^2/g]": 1710.75,
         "_deepnote_index_column": 47976
        },
        {
         "surface_area [m^2/g]": 2126.11,
         "_deepnote_index_column": 47977
        },
        {
         "surface_area [m^2/g]": 3199.71,
         "_deepnote_index_column": 47979
        },
        {
         "surface_area [m^2/g]": 2460.62,
         "_deepnote_index_column": 47980
        },
        {
         "surface_area [m^2/g]": 2891.21,
         "_deepnote_index_column": 47982
        },
        {
         "surface_area [m^2/g]": 5125.13,
         "_deepnote_index_column": 47983
        },
        {
         "surface_area [m^2/g]": 1117.17,
         "_deepnote_index_column": 47984
        },
        {
         "surface_area [m^2/g]": 639.1,
         "_deepnote_index_column": 47985
        },
        {
         "surface_area [m^2/g]": 731.9099999999999,
         "_deepnote_index_column": 47986
        },
        {
         "surface_area [m^2/g]": 1432.81,
         "_deepnote_index_column": 47987
        },
        {
         "surface_area [m^2/g]": 1055.03,
         "_deepnote_index_column": 47988
        },
        {
         "surface_area [m^2/g]": 3345.08,
         "_deepnote_index_column": 47989
        },
        {
         "surface_area [m^2/g]": 538.26,
         "_deepnote_index_column": 47990
        },
        {
         "surface_area [m^2/g]": 2125.69,
         "_deepnote_index_column": 47992
        },
        {
         "surface_area [m^2/g]": 2384.53,
         "_deepnote_index_column": 47993
        },
        {
         "surface_area [m^2/g]": 2216.24,
         "_deepnote_index_column": 47994
        },
        {
         "surface_area [m^2/g]": 1398.16,
         "_deepnote_index_column": 47997
        },
        {
         "surface_area [m^2/g]": 1377.42,
         "_deepnote_index_column": 47998
        },
        {
         "surface_area [m^2/g]": 3329.05,
         "_deepnote_index_column": 47999
        },
        {
         "surface_area [m^2/g]": 2117.61,
         "_deepnote_index_column": 48000
        },
        {
         "surface_area [m^2/g]": 1634.51,
         "_deepnote_index_column": 48001
        },
        {
         "surface_area [m^2/g]": 1091.38,
         "_deepnote_index_column": 48002
        },
        {
         "surface_area [m^2/g]": 1353.76,
         "_deepnote_index_column": 48003
        },
        {
         "surface_area [m^2/g]": 1998.49,
         "_deepnote_index_column": 48004
        },
        {
         "surface_area [m^2/g]": 580.75,
         "_deepnote_index_column": 48005
        },
        {
         "surface_area [m^2/g]": 2109.66,
         "_deepnote_index_column": 48006
        },
        {
         "surface_area [m^2/g]": 2782.79,
         "_deepnote_index_column": 48007
        },
        {
         "surface_area [m^2/g]": 1426.16,
         "_deepnote_index_column": 48008
        },
        {
         "surface_area [m^2/g]": 1164.44,
         "_deepnote_index_column": 48009
        },
        {
         "surface_area [m^2/g]": 1012.75,
         "_deepnote_index_column": 48010
        },
        {
         "surface_area [m^2/g]": 1777.22,
         "_deepnote_index_column": 48011
        },
        {
         "surface_area [m^2/g]": 771.13,
         "_deepnote_index_column": 48012
        },
        {
         "surface_area [m^2/g]": 1581.88,
         "_deepnote_index_column": 48013
        },
        {
         "surface_area [m^2/g]": 1993.34,
         "_deepnote_index_column": 48014
        },
        {
         "surface_area [m^2/g]": 3600.06,
         "_deepnote_index_column": 48015
        },
        {
         "surface_area [m^2/g]": 1856.39,
         "_deepnote_index_column": 48017
        },
        {
         "surface_area [m^2/g]": 1323.04,
         "_deepnote_index_column": 48018
        },
        {
         "surface_area [m^2/g]": 3439.96,
         "_deepnote_index_column": 48019
        },
        {
         "surface_area [m^2/g]": 2268.58,
         "_deepnote_index_column": 48020
        },
        {
         "surface_area [m^2/g]": 1622.2,
         "_deepnote_index_column": 48023
        },
        {
         "surface_area [m^2/g]": 2515.27,
         "_deepnote_index_column": 48026
        },
        {
         "surface_area [m^2/g]": 1116.56,
         "_deepnote_index_column": 48028
        },
        {
         "surface_area [m^2/g]": 2008.24,
         "_deepnote_index_column": 48029
        },
        {
         "surface_area [m^2/g]": 2333.08,
         "_deepnote_index_column": 48030
        },
        {
         "surface_area [m^2/g]": 1043.52,
         "_deepnote_index_column": 48033
        },
        {
         "surface_area [m^2/g]": 2978.37,
         "_deepnote_index_column": 48034
        },
        {
         "surface_area [m^2/g]": 1673.59,
         "_deepnote_index_column": 48035
        },
        {
         "surface_area [m^2/g]": 825.02,
         "_deepnote_index_column": 48036
        },
        {
         "surface_area [m^2/g]": 2034.95,
         "_deepnote_index_column": 48037
        },
        {
         "surface_area [m^2/g]": 1461.2,
         "_deepnote_index_column": 48038
        },
        {
         "surface_area [m^2/g]": 474.48,
         "_deepnote_index_column": 48039
        },
        {
         "surface_area [m^2/g]": 3890.09,
         "_deepnote_index_column": 48040
        },
        {
         "surface_area [m^2/g]": 604.67,
         "_deepnote_index_column": 48042
        },
        {
         "surface_area [m^2/g]": 1990.67,
         "_deepnote_index_column": 48045
        },
        {
         "surface_area [m^2/g]": 2327.66,
         "_deepnote_index_column": 48046
        },
        {
         "surface_area [m^2/g]": 1547.59,
         "_deepnote_index_column": 48047
        },
        {
         "surface_area [m^2/g]": 2583.35,
         "_deepnote_index_column": 48048
        },
        {
         "surface_area [m^2/g]": 3523.86,
         "_deepnote_index_column": 48049
        },
        {
         "surface_area [m^2/g]": 1374.79,
         "_deepnote_index_column": 48050
        },
        {
         "surface_area [m^2/g]": 1242.32,
         "_deepnote_index_column": 48051
        },
        {
         "surface_area [m^2/g]": 906.97,
         "_deepnote_index_column": 48052
        },
        {
         "surface_area [m^2/g]": 2602.26,
         "_deepnote_index_column": 48053
        },
        {
         "surface_area [m^2/g]": 1552.78,
         "_deepnote_index_column": 48054
        },
        {
         "surface_area [m^2/g]": 1228.41,
         "_deepnote_index_column": 48055
        },
        {
         "surface_area [m^2/g]": 1998.77,
         "_deepnote_index_column": 48056
        },
        {
         "surface_area [m^2/g]": 2557.6,
         "_deepnote_index_column": 48057
        },
        {
         "surface_area [m^2/g]": 1997.11,
         "_deepnote_index_column": 48058
        },
        {
         "surface_area [m^2/g]": 1175.02,
         "_deepnote_index_column": 48059
        },
        {
         "surface_area [m^2/g]": 2356.85,
         "_deepnote_index_column": 48060
        },
        {
         "surface_area [m^2/g]": 2537.22,
         "_deepnote_index_column": 48061
        },
        {
         "surface_area [m^2/g]": 1791.58,
         "_deepnote_index_column": 48062
        },
        {
         "surface_area [m^2/g]": 1583.49,
         "_deepnote_index_column": 48063
        },
        {
         "surface_area [m^2/g]": 2074.42,
         "_deepnote_index_column": 48064
        },
        {
         "surface_area [m^2/g]": 773.07,
         "_deepnote_index_column": 48065
        },
        {
         "surface_area [m^2/g]": 3057.34,
         "_deepnote_index_column": 48066
        },
        {
         "surface_area [m^2/g]": 1207.01,
         "_deepnote_index_column": 48067
        },
        {
         "surface_area [m^2/g]": 1953.39,
         "_deepnote_index_column": 48068
        },
        {
         "surface_area [m^2/g]": 3505.01,
         "_deepnote_index_column": 48069
        },
        {
         "surface_area [m^2/g]": 914.76,
         "_deepnote_index_column": 48070
        },
        {
         "surface_area [m^2/g]": 2198.38,
         "_deepnote_index_column": 48071
        },
        {
         "surface_area [m^2/g]": 1129.52,
         "_deepnote_index_column": 48072
        },
        {
         "surface_area [m^2/g]": 2121.45,
         "_deepnote_index_column": 48073
        },
        {
         "surface_area [m^2/g]": 767.02,
         "_deepnote_index_column": 48075
        },
        {
         "surface_area [m^2/g]": 3626.2,
         "_deepnote_index_column": 48076
        },
        {
         "surface_area [m^2/g]": 701.5,
         "_deepnote_index_column": 48077
        },
        {
         "surface_area [m^2/g]": 2406.05,
         "_deepnote_index_column": 48078
        },
        {
         "surface_area [m^2/g]": 1166.58,
         "_deepnote_index_column": 48079
        },
        {
         "surface_area [m^2/g]": 1962.09,
         "_deepnote_index_column": 48081
        },
        {
         "surface_area [m^2/g]": 2123.89,
         "_deepnote_index_column": 48082
        },
        {
         "surface_area [m^2/g]": 2375.04,
         "_deepnote_index_column": 48083
        },
        {
         "surface_area [m^2/g]": 713.13,
         "_deepnote_index_column": 48084
        },
        {
         "surface_area [m^2/g]": 1080.25,
         "_deepnote_index_column": 48085
        },
        {
         "surface_area [m^2/g]": 940.9,
         "_deepnote_index_column": 48086
        },
        {
         "surface_area [m^2/g]": 1940.38,
         "_deepnote_index_column": 48087
        },
        {
         "surface_area [m^2/g]": 2863.34,
         "_deepnote_index_column": 48088
        },
        {
         "surface_area [m^2/g]": 2832.44,
         "_deepnote_index_column": 48090
        },
        {
         "surface_area [m^2/g]": 3682.31,
         "_deepnote_index_column": 48091
        },
        {
         "surface_area [m^2/g]": 2093.11,
         "_deepnote_index_column": 48092
        },
        {
         "surface_area [m^2/g]": 1217.88,
         "_deepnote_index_column": 48093
        },
        {
         "surface_area [m^2/g]": 1885.5,
         "_deepnote_index_column": 48094
        },
        {
         "surface_area [m^2/g]": 364.53,
         "_deepnote_index_column": 48095
        },
        {
         "surface_area [m^2/g]": 2312.85,
         "_deepnote_index_column": 48096
        },
        {
         "surface_area [m^2/g]": 472.01,
         "_deepnote_index_column": 48097
        },
        {
         "surface_area [m^2/g]": 141.03,
         "_deepnote_index_column": 48098
        },
        {
         "surface_area [m^2/g]": 2134.46,
         "_deepnote_index_column": 48100
        },
        {
         "surface_area [m^2/g]": 1496.83,
         "_deepnote_index_column": 48102
        },
        {
         "surface_area [m^2/g]": 2086.15,
         "_deepnote_index_column": 48103
        },
        {
         "surface_area [m^2/g]": 2710.15,
         "_deepnote_index_column": 48106
        },
        {
         "surface_area [m^2/g]": 3247.69,
         "_deepnote_index_column": 48107
        },
        {
         "surface_area [m^2/g]": 3269.62,
         "_deepnote_index_column": 48108
        },
        {
         "surface_area [m^2/g]": 1027.02,
         "_deepnote_index_column": 48109
        },
        {
         "surface_area [m^2/g]": 1866.96,
         "_deepnote_index_column": 48110
        },
        {
         "surface_area [m^2/g]": 1365.48,
         "_deepnote_index_column": 48111
        },
        {
         "surface_area [m^2/g]": 1036.3,
         "_deepnote_index_column": 48113
        },
        {
         "surface_area [m^2/g]": 844.85,
         "_deepnote_index_column": 48116
        },
        {
         "surface_area [m^2/g]": 1831.69,
         "_deepnote_index_column": 48117
        },
        {
         "surface_area [m^2/g]": 1281.53,
         "_deepnote_index_column": 48118
        },
        {
         "surface_area [m^2/g]": 2800.49,
         "_deepnote_index_column": 48119
        },
        {
         "surface_area [m^2/g]": 3600.92,
         "_deepnote_index_column": 48120
        },
        {
         "surface_area [m^2/g]": 790.85,
         "_deepnote_index_column": 48122
        },
        {
         "surface_area [m^2/g]": 1711.73,
         "_deepnote_index_column": 48123
        },
        {
         "surface_area [m^2/g]": 2727.65,
         "_deepnote_index_column": 48125
        },
        {
         "surface_area [m^2/g]": 2430.98,
         "_deepnote_index_column": 48126
        },
        {
         "surface_area [m^2/g]": 2575.89,
         "_deepnote_index_column": 48127
        },
        {
         "surface_area [m^2/g]": 1234.48,
         "_deepnote_index_column": 48128
        },
        {
         "surface_area [m^2/g]": 3066.31,
         "_deepnote_index_column": 48129
        },
        {
         "surface_area [m^2/g]": 801.2899999999998,
         "_deepnote_index_column": 48130
        },
        {
         "surface_area [m^2/g]": 3436.21,
         "_deepnote_index_column": 48131
        },
        {
         "surface_area [m^2/g]": 1708.49,
         "_deepnote_index_column": 48132
        },
        {
         "surface_area [m^2/g]": 936.46,
         "_deepnote_index_column": 48133
        },
        {
         "surface_area [m^2/g]": 1480.66,
         "_deepnote_index_column": 48135
        },
        {
         "surface_area [m^2/g]": 1253.71,
         "_deepnote_index_column": 48136
        },
        {
         "surface_area [m^2/g]": 2159.62,
         "_deepnote_index_column": 48137
        },
        {
         "surface_area [m^2/g]": 1331.82,
         "_deepnote_index_column": 48138
        },
        {
         "surface_area [m^2/g]": 2193.01,
         "_deepnote_index_column": 48139
        },
        {
         "surface_area [m^2/g]": 2092.7,
         "_deepnote_index_column": 48140
        },
        {
         "surface_area [m^2/g]": 2220.11,
         "_deepnote_index_column": 48142
        },
        {
         "surface_area [m^2/g]": 3108.47,
         "_deepnote_index_column": 48143
        },
        {
         "surface_area [m^2/g]": 1679.17,
         "_deepnote_index_column": 48144
        },
        {
         "surface_area [m^2/g]": 1462.08,
         "_deepnote_index_column": 48146
        },
        {
         "surface_area [m^2/g]": 924.82,
         "_deepnote_index_column": 48147
        },
        {
         "surface_area [m^2/g]": 1733.81,
         "_deepnote_index_column": 48148
        },
        {
         "surface_area [m^2/g]": 1474.12,
         "_deepnote_index_column": 48150
        },
        {
         "surface_area [m^2/g]": 789,
         "_deepnote_index_column": 48152
        },
        {
         "surface_area [m^2/g]": 909.15,
         "_deepnote_index_column": 48153
        },
        {
         "surface_area [m^2/g]": 2751.52,
         "_deepnote_index_column": 48155
        },
        {
         "surface_area [m^2/g]": 3788.93,
         "_deepnote_index_column": 48157
        },
        {
         "surface_area [m^2/g]": 2781.23,
         "_deepnote_index_column": 48158
        },
        {
         "surface_area [m^2/g]": 2472.75,
         "_deepnote_index_column": 48159
        },
        {
         "surface_area [m^2/g]": 3261.89,
         "_deepnote_index_column": 48161
        },
        {
         "surface_area [m^2/g]": 1387.85,
         "_deepnote_index_column": 48162
        },
        {
         "surface_area [m^2/g]": 2084.55,
         "_deepnote_index_column": 48167
        },
        {
         "surface_area [m^2/g]": 2994.1,
         "_deepnote_index_column": 48168
        },
        {
         "surface_area [m^2/g]": 900.35,
         "_deepnote_index_column": 48169
        },
        {
         "surface_area [m^2/g]": 2187.46,
         "_deepnote_index_column": 48170
        },
        {
         "surface_area [m^2/g]": 1218.36,
         "_deepnote_index_column": 48171
        },
        {
         "surface_area [m^2/g]": 1606.4,
         "_deepnote_index_column": 48172
        },
        {
         "surface_area [m^2/g]": 1051.07,
         "_deepnote_index_column": 48173
        },
        {
         "surface_area [m^2/g]": 1930.54,
         "_deepnote_index_column": 48174
        },
        {
         "surface_area [m^2/g]": 1003.09,
         "_deepnote_index_column": 48175
        },
        {
         "surface_area [m^2/g]": 597.58,
         "_deepnote_index_column": 48176
        },
        {
         "surface_area [m^2/g]": 1846.81,
         "_deepnote_index_column": 48177
        },
        {
         "surface_area [m^2/g]": 1704.76,
         "_deepnote_index_column": 48178
        },
        {
         "surface_area [m^2/g]": 3798.42,
         "_deepnote_index_column": 48180
        },
        {
         "surface_area [m^2/g]": 478.88,
         "_deepnote_index_column": 48181
        },
        {
         "surface_area [m^2/g]": 260.09,
         "_deepnote_index_column": 48183
        },
        {
         "surface_area [m^2/g]": 1934.4,
         "_deepnote_index_column": 48184
        },
        {
         "surface_area [m^2/g]": 1022.09,
         "_deepnote_index_column": 48185
        },
        {
         "surface_area [m^2/g]": 858.0399999999998,
         "_deepnote_index_column": 48186
        },
        {
         "surface_area [m^2/g]": 1586.11,
         "_deepnote_index_column": 48187
        },
        {
         "surface_area [m^2/g]": 2525.46,
         "_deepnote_index_column": 48188
        },
        {
         "surface_area [m^2/g]": 1198.92,
         "_deepnote_index_column": 48190
        },
        {
         "surface_area [m^2/g]": 1645.76,
         "_deepnote_index_column": 48191
        },
        {
         "surface_area [m^2/g]": 2327.21,
         "_deepnote_index_column": 48192
        },
        {
         "surface_area [m^2/g]": 1888.82,
         "_deepnote_index_column": 48193
        },
        {
         "surface_area [m^2/g]": 2866.76,
         "_deepnote_index_column": 48194
        },
        {
         "surface_area [m^2/g]": 2127.01,
         "_deepnote_index_column": 48195
        },
        {
         "surface_area [m^2/g]": 1832.86,
         "_deepnote_index_column": 48197
        },
        {
         "surface_area [m^2/g]": 581.76,
         "_deepnote_index_column": 48198
        },
        {
         "surface_area [m^2/g]": 1033.96,
         "_deepnote_index_column": 48199
        },
        {
         "surface_area [m^2/g]": 1885.91,
         "_deepnote_index_column": 48200
        },
        {
         "surface_area [m^2/g]": 1724.95,
         "_deepnote_index_column": 48201
        },
        {
         "surface_area [m^2/g]": 2177.27,
         "_deepnote_index_column": 48204
        },
        {
         "surface_area [m^2/g]": 4412.73,
         "_deepnote_index_column": 48205
        },
        {
         "surface_area [m^2/g]": 3106.29,
         "_deepnote_index_column": 48206
        },
        {
         "surface_area [m^2/g]": 2061.32,
         "_deepnote_index_column": 48207
        },
        {
         "surface_area [m^2/g]": 1456.84,
         "_deepnote_index_column": 48208
        },
        {
         "surface_area [m^2/g]": 989.65,
         "_deepnote_index_column": 48209
        },
        {
         "surface_area [m^2/g]": 887.2899999999998,
         "_deepnote_index_column": 48213
        },
        {
         "surface_area [m^2/g]": 2485.06,
         "_deepnote_index_column": 48214
        },
        {
         "surface_area [m^2/g]": 2585.22,
         "_deepnote_index_column": 48215
        },
        {
         "surface_area [m^2/g]": 1462.52,
         "_deepnote_index_column": 48216
        },
        {
         "surface_area [m^2/g]": 650,
         "_deepnote_index_column": 48217
        },
        {
         "surface_area [m^2/g]": 2028.04,
         "_deepnote_index_column": 48218
        },
        {
         "surface_area [m^2/g]": 2935.3,
         "_deepnote_index_column": 48219
        },
        {
         "surface_area [m^2/g]": 1585.47,
         "_deepnote_index_column": 48220
        },
        {
         "surface_area [m^2/g]": 1235.99,
         "_deepnote_index_column": 48221
        },
        {
         "surface_area [m^2/g]": 3027,
         "_deepnote_index_column": 48222
        },
        {
         "surface_area [m^2/g]": 1207.99,
         "_deepnote_index_column": 48223
        },
        {
         "surface_area [m^2/g]": 4064.89,
         "_deepnote_index_column": 48224
        },
        {
         "surface_area [m^2/g]": 3170.98,
         "_deepnote_index_column": 48225
        },
        {
         "surface_area [m^2/g]": 2277.11,
         "_deepnote_index_column": 48227
        },
        {
         "surface_area [m^2/g]": 2170.51,
         "_deepnote_index_column": 48229
        },
        {
         "surface_area [m^2/g]": 1323.94,
         "_deepnote_index_column": 48231
        },
        {
         "surface_area [m^2/g]": 1543.71,
         "_deepnote_index_column": 48232
        },
        {
         "surface_area [m^2/g]": 1875.08,
         "_deepnote_index_column": 48233
        },
        {
         "surface_area [m^2/g]": 629.93,
         "_deepnote_index_column": 48234
        },
        {
         "surface_area [m^2/g]": 1795.83,
         "_deepnote_index_column": 48236
        },
        {
         "surface_area [m^2/g]": 3750.23,
         "_deepnote_index_column": 48237
        },
        {
         "surface_area [m^2/g]": 877.65,
         "_deepnote_index_column": 48238
        },
        {
         "surface_area [m^2/g]": 1585.47,
         "_deepnote_index_column": 48239
        },
        {
         "surface_area [m^2/g]": 1269.87,
         "_deepnote_index_column": 48240
        },
        {
         "surface_area [m^2/g]": 2268.33,
         "_deepnote_index_column": 48241
        },
        {
         "surface_area [m^2/g]": 684.29,
         "_deepnote_index_column": 48242
        },
        {
         "surface_area [m^2/g]": 746.0399999999998,
         "_deepnote_index_column": 48243
        },
        {
         "surface_area [m^2/g]": 2118.56,
         "_deepnote_index_column": 48244
        },
        {
         "surface_area [m^2/g]": 3375.11,
         "_deepnote_index_column": 48245
        },
        {
         "surface_area [m^2/g]": 933.53,
         "_deepnote_index_column": 48246
        },
        {
         "surface_area [m^2/g]": 3336.68,
         "_deepnote_index_column": 48247
        },
        {
         "surface_area [m^2/g]": 229.25,
         "_deepnote_index_column": 48248
        },
        {
         "surface_area [m^2/g]": 2846.55,
         "_deepnote_index_column": 48249
        },
        {
         "surface_area [m^2/g]": 1144.28,
         "_deepnote_index_column": 48250
        },
        {
         "surface_area [m^2/g]": 807.4099999999999,
         "_deepnote_index_column": 48251
        },
        {
         "surface_area [m^2/g]": 1334.9,
         "_deepnote_index_column": 48252
        },
        {
         "surface_area [m^2/g]": 1465.39,
         "_deepnote_index_column": 48253
        },
        {
         "surface_area [m^2/g]": 961.41,
         "_deepnote_index_column": 48254
        },
        {
         "surface_area [m^2/g]": 2569.81,
         "_deepnote_index_column": 48255
        },
        {
         "surface_area [m^2/g]": 4871.27,
         "_deepnote_index_column": 48257
        },
        {
         "surface_area [m^2/g]": 1456.27,
         "_deepnote_index_column": 48258
        },
        {
         "surface_area [m^2/g]": 1883.57,
         "_deepnote_index_column": 48259
        },
        {
         "surface_area [m^2/g]": 792.51,
         "_deepnote_index_column": 48260
        }
       ],
       "rows_bottom": [
        {
         "surface_area [m^2/g]": 4807.33,
         "_deepnote_index_column": 66005
        },
        {
         "surface_area [m^2/g]": 4782.52,
         "_deepnote_index_column": 66006
        },
        {
         "surface_area [m^2/g]": 4334.07,
         "_deepnote_index_column": 66007
        },
        {
         "surface_area [m^2/g]": 6126.18,
         "_deepnote_index_column": 66008
        },
        {
         "surface_area [m^2/g]": 2179.92,
         "_deepnote_index_column": 66009
        },
        {
         "surface_area [m^2/g]": 5048.44,
         "_deepnote_index_column": 66010
        },
        {
         "surface_area [m^2/g]": 3307.49,
         "_deepnote_index_column": 66011
        },
        {
         "surface_area [m^2/g]": 3622.18,
         "_deepnote_index_column": 66012
        },
        {
         "surface_area [m^2/g]": 4904.32,
         "_deepnote_index_column": 66013
        },
        {
         "surface_area [m^2/g]": 4122.51,
         "_deepnote_index_column": 66014
        },
        {
         "surface_area [m^2/g]": 3624.9,
         "_deepnote_index_column": 66015
        },
        {
         "surface_area [m^2/g]": 2400.64,
         "_deepnote_index_column": 66016
        },
        {
         "surface_area [m^2/g]": 5158.31,
         "_deepnote_index_column": 66017
        },
        {
         "surface_area [m^2/g]": 3415.76,
         "_deepnote_index_column": 66018
        },
        {
         "surface_area [m^2/g]": 1637.16,
         "_deepnote_index_column": 66019
        },
        {
         "surface_area [m^2/g]": 4811.06,
         "_deepnote_index_column": 66020
        },
        {
         "surface_area [m^2/g]": 4206.53,
         "_deepnote_index_column": 66021
        },
        {
         "surface_area [m^2/g]": 5878.74,
         "_deepnote_index_column": 66022
        },
        {
         "surface_area [m^2/g]": 3389.78,
         "_deepnote_index_column": 66023
        },
        {
         "surface_area [m^2/g]": 3755.17,
         "_deepnote_index_column": 66024
        },
        {
         "surface_area [m^2/g]": 4421.26,
         "_deepnote_index_column": 66025
        },
        {
         "surface_area [m^2/g]": 4330.76,
         "_deepnote_index_column": 66026
        },
        {
         "surface_area [m^2/g]": 4469.26,
         "_deepnote_index_column": 66027
        },
        {
         "surface_area [m^2/g]": 3187.44,
         "_deepnote_index_column": 66028
        },
        {
         "surface_area [m^2/g]": 3977.41,
         "_deepnote_index_column": 66029
        },
        {
         "surface_area [m^2/g]": 6024.83,
         "_deepnote_index_column": 66030
        },
        {
         "surface_area [m^2/g]": 4980.61,
         "_deepnote_index_column": 66031
        },
        {
         "surface_area [m^2/g]": 3788.75,
         "_deepnote_index_column": 66032
        },
        {
         "surface_area [m^2/g]": 1577.05,
         "_deepnote_index_column": 66033
        },
        {
         "surface_area [m^2/g]": 737.24,
         "_deepnote_index_column": 66034
        },
        {
         "surface_area [m^2/g]": 2589.94,
         "_deepnote_index_column": 66035
        },
        {
         "surface_area [m^2/g]": 5480.32,
         "_deepnote_index_column": 66036
        },
        {
         "surface_area [m^2/g]": 3956.34,
         "_deepnote_index_column": 66037
        },
        {
         "surface_area [m^2/g]": 3417.49,
         "_deepnote_index_column": 66038
        },
        {
         "surface_area [m^2/g]": 4196.72,
         "_deepnote_index_column": 66039
        },
        {
         "surface_area [m^2/g]": 4893.83,
         "_deepnote_index_column": 66040
        },
        {
         "surface_area [m^2/g]": 4165.52,
         "_deepnote_index_column": 66041
        },
        {
         "surface_area [m^2/g]": 4315.91,
         "_deepnote_index_column": 66042
        },
        {
         "surface_area [m^2/g]": 4423.39,
         "_deepnote_index_column": 66043
        },
        {
         "surface_area [m^2/g]": 1404.67,
         "_deepnote_index_column": 66044
        },
        {
         "surface_area [m^2/g]": 4337.17,
         "_deepnote_index_column": 66045
        },
        {
         "surface_area [m^2/g]": 4597.36,
         "_deepnote_index_column": 66046
        },
        {
         "surface_area [m^2/g]": 5202.48,
         "_deepnote_index_column": 66047
        },
        {
         "surface_area [m^2/g]": 3318.25,
         "_deepnote_index_column": 66048
        },
        {
         "surface_area [m^2/g]": 3550.11,
         "_deepnote_index_column": 66049
        },
        {
         "surface_area [m^2/g]": 4180.04,
         "_deepnote_index_column": 66050
        },
        {
         "surface_area [m^2/g]": 5369.24,
         "_deepnote_index_column": 66051
        },
        {
         "surface_area [m^2/g]": 5077.35,
         "_deepnote_index_column": 66052
        },
        {
         "surface_area [m^2/g]": 3474.05,
         "_deepnote_index_column": 66053
        },
        {
         "surface_area [m^2/g]": 4418.25,
         "_deepnote_index_column": 66054
        },
        {
         "surface_area [m^2/g]": 2256.47,
         "_deepnote_index_column": 66055
        },
        {
         "surface_area [m^2/g]": 3550.89,
         "_deepnote_index_column": 66056
        },
        {
         "surface_area [m^2/g]": 2951.99,
         "_deepnote_index_column": 66057
        },
        {
         "surface_area [m^2/g]": 4045.52,
         "_deepnote_index_column": 66058
        },
        {
         "surface_area [m^2/g]": 5002.53,
         "_deepnote_index_column": 66059
        },
        {
         "surface_area [m^2/g]": 3582.44,
         "_deepnote_index_column": 66060
        },
        {
         "surface_area [m^2/g]": 4158.9,
         "_deepnote_index_column": 66061
        },
        {
         "surface_area [m^2/g]": 533.17,
         "_deepnote_index_column": 66062
        },
        {
         "surface_area [m^2/g]": 3609.9,
         "_deepnote_index_column": 66063
        },
        {
         "surface_area [m^2/g]": 2726.64,
         "_deepnote_index_column": 66064
        },
        {
         "surface_area [m^2/g]": 3461.01,
         "_deepnote_index_column": 66065
        },
        {
         "surface_area [m^2/g]": 4747.06,
         "_deepnote_index_column": 66067
        },
        {
         "surface_area [m^2/g]": 4562.41,
         "_deepnote_index_column": 66068
        },
        {
         "surface_area [m^2/g]": 4779.3,
         "_deepnote_index_column": 66069
        },
        {
         "surface_area [m^2/g]": 1911.67,
         "_deepnote_index_column": 66070
        },
        {
         "surface_area [m^2/g]": 3518.24,
         "_deepnote_index_column": 66071
        },
        {
         "surface_area [m^2/g]": 2418.83,
         "_deepnote_index_column": 66072
        },
        {
         "surface_area [m^2/g]": 2186.08,
         "_deepnote_index_column": 66073
        },
        {
         "surface_area [m^2/g]": 5349.99,
         "_deepnote_index_column": 66074
        },
        {
         "surface_area [m^2/g]": 3678.58,
         "_deepnote_index_column": 66075
        },
        {
         "surface_area [m^2/g]": 2232.82,
         "_deepnote_index_column": 66076
        },
        {
         "surface_area [m^2/g]": 4464.73,
         "_deepnote_index_column": 66077
        },
        {
         "surface_area [m^2/g]": 3935.33,
         "_deepnote_index_column": 66078
        },
        {
         "surface_area [m^2/g]": 2769.8,
         "_deepnote_index_column": 66079
        },
        {
         "surface_area [m^2/g]": 3889.67,
         "_deepnote_index_column": 66081
        },
        {
         "surface_area [m^2/g]": 4057.83,
         "_deepnote_index_column": 66083
        },
        {
         "surface_area [m^2/g]": 3311.08,
         "_deepnote_index_column": 66084
        },
        {
         "surface_area [m^2/g]": 4872.4,
         "_deepnote_index_column": 66085
        },
        {
         "surface_area [m^2/g]": 2193.37,
         "_deepnote_index_column": 66086
        },
        {
         "surface_area [m^2/g]": 4577.86,
         "_deepnote_index_column": 66087
        },
        {
         "surface_area [m^2/g]": 3878.75,
         "_deepnote_index_column": 66088
        },
        {
         "surface_area [m^2/g]": 4084.31,
         "_deepnote_index_column": 66089
        },
        {
         "surface_area [m^2/g]": 4651.71,
         "_deepnote_index_column": 66090
        },
        {
         "surface_area [m^2/g]": 2988.89,
         "_deepnote_index_column": 66091
        },
        {
         "surface_area [m^2/g]": 2788,
         "_deepnote_index_column": 66092
        },
        {
         "surface_area [m^2/g]": 1974.68,
         "_deepnote_index_column": 66093
        },
        {
         "surface_area [m^2/g]": 2815.56,
         "_deepnote_index_column": 66094
        },
        {
         "surface_area [m^2/g]": 2391.08,
         "_deepnote_index_column": 66095
        },
        {
         "surface_area [m^2/g]": 2862.52,
         "_deepnote_index_column": 66096
        },
        {
         "surface_area [m^2/g]": 5048.88,
         "_deepnote_index_column": 66097
        },
        {
         "surface_area [m^2/g]": 1579.35,
         "_deepnote_index_column": 66098
        },
        {
         "surface_area [m^2/g]": 691.75,
         "_deepnote_index_column": 66099
        },
        {
         "surface_area [m^2/g]": 2370.87,
         "_deepnote_index_column": 66100
        },
        {
         "surface_area [m^2/g]": 3358.48,
         "_deepnote_index_column": 66101
        },
        {
         "surface_area [m^2/g]": 4615.89,
         "_deepnote_index_column": 66102
        },
        {
         "surface_area [m^2/g]": 4425.59,
         "_deepnote_index_column": 66103
        },
        {
         "surface_area [m^2/g]": 5200.14,
         "_deepnote_index_column": 66104
        },
        {
         "surface_area [m^2/g]": 2517.42,
         "_deepnote_index_column": 66105
        },
        {
         "surface_area [m^2/g]": 5194.68,
         "_deepnote_index_column": 66106
        },
        {
         "surface_area [m^2/g]": 3615.9,
         "_deepnote_index_column": 66107
        },
        {
         "surface_area [m^2/g]": 3274.22,
         "_deepnote_index_column": 66108
        },
        {
         "surface_area [m^2/g]": 3358.12,
         "_deepnote_index_column": 66109
        },
        {
         "surface_area [m^2/g]": 2888.99,
         "_deepnote_index_column": 66110
        },
        {
         "surface_area [m^2/g]": 2860.85,
         "_deepnote_index_column": 66111
        },
        {
         "surface_area [m^2/g]": 3473.01,
         "_deepnote_index_column": 66112
        },
        {
         "surface_area [m^2/g]": 4222.35,
         "_deepnote_index_column": 66113
        },
        {
         "surface_area [m^2/g]": 3770.31,
         "_deepnote_index_column": 66114
        },
        {
         "surface_area [m^2/g]": 2731.18,
         "_deepnote_index_column": 66115
        },
        {
         "surface_area [m^2/g]": 4014.97,
         "_deepnote_index_column": 66116
        },
        {
         "surface_area [m^2/g]": 5377.37,
         "_deepnote_index_column": 66117
        },
        {
         "surface_area [m^2/g]": 3112.09,
         "_deepnote_index_column": 66118
        },
        {
         "surface_area [m^2/g]": 897.98,
         "_deepnote_index_column": 66119
        },
        {
         "surface_area [m^2/g]": 3667.84,
         "_deepnote_index_column": 66120
        },
        {
         "surface_area [m^2/g]": 3581.01,
         "_deepnote_index_column": 66121
        },
        {
         "surface_area [m^2/g]": 2090.07,
         "_deepnote_index_column": 66122
        },
        {
         "surface_area [m^2/g]": 5464.88,
         "_deepnote_index_column": 66124
        },
        {
         "surface_area [m^2/g]": 5617.36,
         "_deepnote_index_column": 66125
        },
        {
         "surface_area [m^2/g]": 4878.46,
         "_deepnote_index_column": 66126
        },
        {
         "surface_area [m^2/g]": 3432.01,
         "_deepnote_index_column": 66127
        },
        {
         "surface_area [m^2/g]": 3749.45,
         "_deepnote_index_column": 66128
        },
        {
         "surface_area [m^2/g]": 2550.93,
         "_deepnote_index_column": 66129
        },
        {
         "surface_area [m^2/g]": 5793.66,
         "_deepnote_index_column": 66130
        },
        {
         "surface_area [m^2/g]": 3229.57,
         "_deepnote_index_column": 66131
        },
        {
         "surface_area [m^2/g]": 4903.04,
         "_deepnote_index_column": 66132
        },
        {
         "surface_area [m^2/g]": 5346.28,
         "_deepnote_index_column": 66133
        },
        {
         "surface_area [m^2/g]": 4918.2,
         "_deepnote_index_column": 66134
        },
        {
         "surface_area [m^2/g]": 3772.49,
         "_deepnote_index_column": 66135
        },
        {
         "surface_area [m^2/g]": 4659.34,
         "_deepnote_index_column": 66136
        },
        {
         "surface_area [m^2/g]": 4533.61,
         "_deepnote_index_column": 66137
        },
        {
         "surface_area [m^2/g]": 2305.32,
         "_deepnote_index_column": 66138
        },
        {
         "surface_area [m^2/g]": 4560.65,
         "_deepnote_index_column": 66139
        },
        {
         "surface_area [m^2/g]": 5968.7,
         "_deepnote_index_column": 66140
        },
        {
         "surface_area [m^2/g]": 4349.88,
         "_deepnote_index_column": 66141
        },
        {
         "surface_area [m^2/g]": 2041.63,
         "_deepnote_index_column": 66142
        },
        {
         "surface_area [m^2/g]": 3665.31,
         "_deepnote_index_column": 66143
        },
        {
         "surface_area [m^2/g]": 3222.94,
         "_deepnote_index_column": 66144
        },
        {
         "surface_area [m^2/g]": 4527.63,
         "_deepnote_index_column": 66145
        },
        {
         "surface_area [m^2/g]": 2374.46,
         "_deepnote_index_column": 66146
        },
        {
         "surface_area [m^2/g]": 721.48,
         "_deepnote_index_column": 66147
        },
        {
         "surface_area [m^2/g]": 4710.42,
         "_deepnote_index_column": 66149
        },
        {
         "surface_area [m^2/g]": 4491.68,
         "_deepnote_index_column": 66150
        },
        {
         "surface_area [m^2/g]": 3471.26,
         "_deepnote_index_column": 66151
        },
        {
         "surface_area [m^2/g]": 3715.78,
         "_deepnote_index_column": 66152
        },
        {
         "surface_area [m^2/g]": 2601.85,
         "_deepnote_index_column": 66153
        },
        {
         "surface_area [m^2/g]": 4454.83,
         "_deepnote_index_column": 66154
        },
        {
         "surface_area [m^2/g]": 3669.93,
         "_deepnote_index_column": 66155
        },
        {
         "surface_area [m^2/g]": 4451.06,
         "_deepnote_index_column": 66156
        },
        {
         "surface_area [m^2/g]": 4337.6,
         "_deepnote_index_column": 66157
        },
        {
         "surface_area [m^2/g]": 5808.11,
         "_deepnote_index_column": 66158
        },
        {
         "surface_area [m^2/g]": 3191.88,
         "_deepnote_index_column": 66159
        },
        {
         "surface_area [m^2/g]": 6078.12,
         "_deepnote_index_column": 66160
        },
        {
         "surface_area [m^2/g]": 2996.88,
         "_deepnote_index_column": 66161
        },
        {
         "surface_area [m^2/g]": 2440.36,
         "_deepnote_index_column": 66162
        },
        {
         "surface_area [m^2/g]": 3975.71,
         "_deepnote_index_column": 66163
        },
        {
         "surface_area [m^2/g]": 5005.35,
         "_deepnote_index_column": 66164
        },
        {
         "surface_area [m^2/g]": 5264.19,
         "_deepnote_index_column": 66165
        },
        {
         "surface_area [m^2/g]": 3777.22,
         "_deepnote_index_column": 66166
        },
        {
         "surface_area [m^2/g]": 4647.36,
         "_deepnote_index_column": 66167
        },
        {
         "surface_area [m^2/g]": 2164.09,
         "_deepnote_index_column": 66168
        },
        {
         "surface_area [m^2/g]": 4642.7,
         "_deepnote_index_column": 66169
        },
        {
         "surface_area [m^2/g]": 5254.43,
         "_deepnote_index_column": 66170
        },
        {
         "surface_area [m^2/g]": 1819.75,
         "_deepnote_index_column": 66171
        },
        {
         "surface_area [m^2/g]": 3676.01,
         "_deepnote_index_column": 66172
        },
        {
         "surface_area [m^2/g]": 2456.52,
         "_deepnote_index_column": 66173
        },
        {
         "surface_area [m^2/g]": 2439.12,
         "_deepnote_index_column": 66174
        },
        {
         "surface_area [m^2/g]": 3634.6,
         "_deepnote_index_column": 66175
        },
        {
         "surface_area [m^2/g]": 3952.85,
         "_deepnote_index_column": 66176
        },
        {
         "surface_area [m^2/g]": 6420.16,
         "_deepnote_index_column": 66177
        },
        {
         "surface_area [m^2/g]": 3943.2,
         "_deepnote_index_column": 66179
        },
        {
         "surface_area [m^2/g]": 3896.03,
         "_deepnote_index_column": 66181
        },
        {
         "surface_area [m^2/g]": 4296.36,
         "_deepnote_index_column": 66183
        },
        {
         "surface_area [m^2/g]": 3851.1,
         "_deepnote_index_column": 66184
        },
        {
         "surface_area [m^2/g]": 3918.17,
         "_deepnote_index_column": 66185
        },
        {
         "surface_area [m^2/g]": 3133.46,
         "_deepnote_index_column": 66186
        },
        {
         "surface_area [m^2/g]": 3864.7,
         "_deepnote_index_column": 66187
        },
        {
         "surface_area [m^2/g]": 3995.23,
         "_deepnote_index_column": 66188
        },
        {
         "surface_area [m^2/g]": 3389.22,
         "_deepnote_index_column": 66189
        },
        {
         "surface_area [m^2/g]": 3871.74,
         "_deepnote_index_column": 66190
        },
        {
         "surface_area [m^2/g]": 3727.51,
         "_deepnote_index_column": 66191
        },
        {
         "surface_area [m^2/g]": 2187.15,
         "_deepnote_index_column": 66192
        },
        {
         "surface_area [m^2/g]": 3250.88,
         "_deepnote_index_column": 66193
        },
        {
         "surface_area [m^2/g]": 6241.34,
         "_deepnote_index_column": 66194
        },
        {
         "surface_area [m^2/g]": 3302.21,
         "_deepnote_index_column": 66195
        },
        {
         "surface_area [m^2/g]": 2447.26,
         "_deepnote_index_column": 66196
        },
        {
         "surface_area [m^2/g]": 5480.76,
         "_deepnote_index_column": 66197
        },
        {
         "surface_area [m^2/g]": 1131.45,
         "_deepnote_index_column": 66198
        },
        {
         "surface_area [m^2/g]": 6068.55,
         "_deepnote_index_column": 66199
        },
        {
         "surface_area [m^2/g]": 460.95,
         "_deepnote_index_column": 66201
        },
        {
         "surface_area [m^2/g]": 2865.24,
         "_deepnote_index_column": 66202
        },
        {
         "surface_area [m^2/g]": 3462.39,
         "_deepnote_index_column": 66203
        },
        {
         "surface_area [m^2/g]": 4524.61,
         "_deepnote_index_column": 66204
        },
        {
         "surface_area [m^2/g]": 5229.7,
         "_deepnote_index_column": 66205
        },
        {
         "surface_area [m^2/g]": 4699.25,
         "_deepnote_index_column": 66206
        },
        {
         "surface_area [m^2/g]": 5239.75,
         "_deepnote_index_column": 66208
        },
        {
         "surface_area [m^2/g]": 4693.47,
         "_deepnote_index_column": 66209
        },
        {
         "surface_area [m^2/g]": 2668.95,
         "_deepnote_index_column": 66210
        },
        {
         "surface_area [m^2/g]": 4897.3,
         "_deepnote_index_column": 66211
        },
        {
         "surface_area [m^2/g]": 5422.26,
         "_deepnote_index_column": 66212
        },
        {
         "surface_area [m^2/g]": 5127.92,
         "_deepnote_index_column": 66213
        },
        {
         "surface_area [m^2/g]": 4071.68,
         "_deepnote_index_column": 66214
        },
        {
         "surface_area [m^2/g]": 2775.96,
         "_deepnote_index_column": 66215
        },
        {
         "surface_area [m^2/g]": 5192.78,
         "_deepnote_index_column": 66216
        },
        {
         "surface_area [m^2/g]": 1235.97,
         "_deepnote_index_column": 66217
        },
        {
         "surface_area [m^2/g]": 4195.25,
         "_deepnote_index_column": 66218
        },
        {
         "surface_area [m^2/g]": 3505.31,
         "_deepnote_index_column": 66219
        },
        {
         "surface_area [m^2/g]": 3423.33,
         "_deepnote_index_column": 66220
        },
        {
         "surface_area [m^2/g]": 2674.15,
         "_deepnote_index_column": 66221
        },
        {
         "surface_area [m^2/g]": 5664.05,
         "_deepnote_index_column": 66222
        },
        {
         "surface_area [m^2/g]": 4865.61,
         "_deepnote_index_column": 66223
        },
        {
         "surface_area [m^2/g]": 5455.21,
         "_deepnote_index_column": 66224
        },
        {
         "surface_area [m^2/g]": 959.01,
         "_deepnote_index_column": 66225
        },
        {
         "surface_area [m^2/g]": 2455.4,
         "_deepnote_index_column": 66226
        },
        {
         "surface_area [m^2/g]": 3508.06,
         "_deepnote_index_column": 66227
        },
        {
         "surface_area [m^2/g]": 5968.4,
         "_deepnote_index_column": 66228
        },
        {
         "surface_area [m^2/g]": 1777.73,
         "_deepnote_index_column": 66229
        },
        {
         "surface_area [m^2/g]": 4710.86,
         "_deepnote_index_column": 66230
        },
        {
         "surface_area [m^2/g]": 4746.17,
         "_deepnote_index_column": 66231
        },
        {
         "surface_area [m^2/g]": 2857.07,
         "_deepnote_index_column": 66232
        },
        {
         "surface_area [m^2/g]": 6063.03,
         "_deepnote_index_column": 66233
        },
        {
         "surface_area [m^2/g]": 5165.32,
         "_deepnote_index_column": 66234
        },
        {
         "surface_area [m^2/g]": 3144.77,
         "_deepnote_index_column": 66235
        },
        {
         "surface_area [m^2/g]": 4330.5,
         "_deepnote_index_column": 66236
        },
        {
         "surface_area [m^2/g]": 2606.42,
         "_deepnote_index_column": 66237
        },
        {
         "surface_area [m^2/g]": 4324.44,
         "_deepnote_index_column": 66238
        },
        {
         "surface_area [m^2/g]": 2725.94,
         "_deepnote_index_column": 66239
        },
        {
         "surface_area [m^2/g]": 2885.01,
         "_deepnote_index_column": 66240
        },
        {
         "surface_area [m^2/g]": 3140.09,
         "_deepnote_index_column": 66241
        },
        {
         "surface_area [m^2/g]": 5338.11,
         "_deepnote_index_column": 66242
        },
        {
         "surface_area [m^2/g]": 3101.09,
         "_deepnote_index_column": 66243
        },
        {
         "surface_area [m^2/g]": 3811.98,
         "_deepnote_index_column": 66244
        },
        {
         "surface_area [m^2/g]": 1771.2,
         "_deepnote_index_column": 66245
        },
        {
         "surface_area [m^2/g]": 2565.69,
         "_deepnote_index_column": 66246
        },
        {
         "surface_area [m^2/g]": 3443.62,
         "_deepnote_index_column": 66247
        },
        {
         "surface_area [m^2/g]": 5356.47,
         "_deepnote_index_column": 66248
        },
        {
         "surface_area [m^2/g]": 3499.4,
         "_deepnote_index_column": 66249
        },
        {
         "surface_area [m^2/g]": 4971.65,
         "_deepnote_index_column": 66250
        },
        {
         "surface_area [m^2/g]": 5463.29,
         "_deepnote_index_column": 66251
        },
        {
         "surface_area [m^2/g]": 4945.99,
         "_deepnote_index_column": 66252
        },
        {
         "surface_area [m^2/g]": 3584.11,
         "_deepnote_index_column": 66253
        },
        {
         "surface_area [m^2/g]": 4193.29,
         "_deepnote_index_column": 66254
        },
        {
         "surface_area [m^2/g]": 3049.18,
         "_deepnote_index_column": 66255
        },
        {
         "surface_area [m^2/g]": 3909.11,
         "_deepnote_index_column": 66256
        },
        {
         "surface_area [m^2/g]": 5796.43,
         "_deepnote_index_column": 66257
        },
        {
         "surface_area [m^2/g]": 2783.3,
         "_deepnote_index_column": 66258
        },
        {
         "surface_area [m^2/g]": 5587.87,
         "_deepnote_index_column": 66259
        },
        {
         "surface_area [m^2/g]": 2865.96,
         "_deepnote_index_column": 66260
        },
        {
         "surface_area [m^2/g]": 5378.82,
         "_deepnote_index_column": 66261
        },
        {
         "surface_area [m^2/g]": 3762.74,
         "_deepnote_index_column": 66262
        },
        {
         "surface_area [m^2/g]": 5016.67,
         "_deepnote_index_column": 66263
        },
        {
         "surface_area [m^2/g]": 3944.96,
         "_deepnote_index_column": 66264
        },
        {
         "surface_area [m^2/g]": 6775.37,
         "_deepnote_index_column": 66265
        },
        {
         "surface_area [m^2/g]": 3216.31,
         "_deepnote_index_column": 66266
        },
        {
         "surface_area [m^2/g]": 4091.41,
         "_deepnote_index_column": 66267
        },
        {
         "surface_area [m^2/g]": 4919.95,
         "_deepnote_index_column": 66268
        },
        {
         "surface_area [m^2/g]": 5064.45,
         "_deepnote_index_column": 66269
        },
        {
         "surface_area [m^2/g]": 4210.1,
         "_deepnote_index_column": 66270
        },
        {
         "surface_area [m^2/g]": 4970.31,
         "_deepnote_index_column": 66271
        },
        {
         "surface_area [m^2/g]": 4014.68,
         "_deepnote_index_column": 66272
        },
        {
         "surface_area [m^2/g]": 3037.1,
         "_deepnote_index_column": 66273
        },
        {
         "surface_area [m^2/g]": 3967.56,
         "_deepnote_index_column": 66274
        },
        {
         "surface_area [m^2/g]": 3463.13,
         "_deepnote_index_column": 66275
        },
        {
         "surface_area [m^2/g]": 4547.5,
         "_deepnote_index_column": 66276
        },
        {
         "surface_area [m^2/g]": 2925.85,
         "_deepnote_index_column": 66277
        },
        {
         "surface_area [m^2/g]": 3521.16,
         "_deepnote_index_column": 66278
        },
        {
         "surface_area [m^2/g]": 2953.21,
         "_deepnote_index_column": 66279
        },
        {
         "surface_area [m^2/g]": 6042.84,
         "_deepnote_index_column": 66280
        },
        {
         "surface_area [m^2/g]": 368.01,
         "_deepnote_index_column": 66282
        },
        {
         "surface_area [m^2/g]": 3410.5,
         "_deepnote_index_column": 66283
        },
        {
         "surface_area [m^2/g]": 3636.5,
         "_deepnote_index_column": 66284
        },
        {
         "surface_area [m^2/g]": 3743.15,
         "_deepnote_index_column": 66285
        },
        {
         "surface_area [m^2/g]": 4850.38,
         "_deepnote_index_column": 66286
        },
        {
         "surface_area [m^2/g]": 2008.96,
         "_deepnote_index_column": 66287
        },
        {
         "surface_area [m^2/g]": 4691.17,
         "_deepnote_index_column": 66288
        },
        {
         "surface_area [m^2/g]": 2966.2,
         "_deepnote_index_column": 66289
        },
        {
         "surface_area [m^2/g]": 6402.98,
         "_deepnote_index_column": 66290
        },
        {
         "surface_area [m^2/g]": 2935.96,
         "_deepnote_index_column": 66291
        },
        {
         "surface_area [m^2/g]": 4771.87,
         "_deepnote_index_column": 66292
        },
        {
         "surface_area [m^2/g]": 2993.39,
         "_deepnote_index_column": 66293
        },
        {
         "surface_area [m^2/g]": 1762.14,
         "_deepnote_index_column": 66294
        },
        {
         "surface_area [m^2/g]": 3994.35,
         "_deepnote_index_column": 66295
        },
        {
         "surface_area [m^2/g]": 3842.04,
         "_deepnote_index_column": 66296
        },
        {
         "surface_area [m^2/g]": 4301.79,
         "_deepnote_index_column": 66297
        },
        {
         "surface_area [m^2/g]": 4975.59,
         "_deepnote_index_column": 66298
        },
        {
         "surface_area [m^2/g]": 3364.49,
         "_deepnote_index_column": 66299
        },
        {
         "surface_area [m^2/g]": 2328.74,
         "_deepnote_index_column": 66300
        },
        {
         "surface_area [m^2/g]": 3943.42,
         "_deepnote_index_column": 66301
        },
        {
         "surface_area [m^2/g]": 3488.74,
         "_deepnote_index_column": 66302
        },
        {
         "surface_area [m^2/g]": 5047.75,
         "_deepnote_index_column": 66303
        },
        {
         "surface_area [m^2/g]": 4061.26,
         "_deepnote_index_column": 66304
        },
        {
         "surface_area [m^2/g]": 4492.75,
         "_deepnote_index_column": 66305
        },
        {
         "surface_area [m^2/g]": 4792.76,
         "_deepnote_index_column": 66306
        },
        {
         "surface_area [m^2/g]": 3606.66,
         "_deepnote_index_column": 66307
        },
        {
         "surface_area [m^2/g]": 4591.05,
         "_deepnote_index_column": 66308
        },
        {
         "surface_area [m^2/g]": 2651.31,
         "_deepnote_index_column": 66309
        },
        {
         "surface_area [m^2/g]": 4564.46,
         "_deepnote_index_column": 66310
        },
        {
         "surface_area [m^2/g]": 4520.49,
         "_deepnote_index_column": 66311
        },
        {
         "surface_area [m^2/g]": 5264.66,
         "_deepnote_index_column": 66313
        },
        {
         "surface_area [m^2/g]": 2754.42,
         "_deepnote_index_column": 66314
        },
        {
         "surface_area [m^2/g]": 1287.43,
         "_deepnote_index_column": 66315
        },
        {
         "surface_area [m^2/g]": 2259.23,
         "_deepnote_index_column": 66316
        },
        {
         "surface_area [m^2/g]": 4196.24,
         "_deepnote_index_column": 66317
        },
        {
         "surface_area [m^2/g]": 3937.38,
         "_deepnote_index_column": 66318
        },
        {
         "surface_area [m^2/g]": 4927.84,
         "_deepnote_index_column": 66319
        },
        {
         "surface_area [m^2/g]": 4578.84,
         "_deepnote_index_column": 66320
        },
        {
         "surface_area [m^2/g]": 3716.47,
         "_deepnote_index_column": 66321
        },
        {
         "surface_area [m^2/g]": 2641.65,
         "_deepnote_index_column": 66322
        },
        {
         "surface_area [m^2/g]": 5514.69,
         "_deepnote_index_column": 66323
        },
        {
         "surface_area [m^2/g]": 4389.63,
         "_deepnote_index_column": 66324
        },
        {
         "surface_area [m^2/g]": 5644.86,
         "_deepnote_index_column": 66325
        },
        {
         "surface_area [m^2/g]": 5294.89,
         "_deepnote_index_column": 66326
        },
        {
         "surface_area [m^2/g]": 2392.43,
         "_deepnote_index_column": 66327
        },
        {
         "surface_area [m^2/g]": 4984.42,
         "_deepnote_index_column": 66329
        },
        {
         "surface_area [m^2/g]": 4602.26,
         "_deepnote_index_column": 66330
        },
        {
         "surface_area [m^2/g]": 3495.59,
         "_deepnote_index_column": 66331
        },
        {
         "surface_area [m^2/g]": 4390.02,
         "_deepnote_index_column": 66332
        },
        {
         "surface_area [m^2/g]": 1952.12,
         "_deepnote_index_column": 66333
        },
        {
         "surface_area [m^2/g]": 4383.39,
         "_deepnote_index_column": 66334
        },
        {
         "surface_area [m^2/g]": 4702.92,
         "_deepnote_index_column": 66335
        },
        {
         "surface_area [m^2/g]": 1120.62,
         "_deepnote_index_column": 66336
        },
        {
         "surface_area [m^2/g]": 5194.28,
         "_deepnote_index_column": 66337
        },
        {
         "surface_area [m^2/g]": 5630.53,
         "_deepnote_index_column": 66338
        },
        {
         "surface_area [m^2/g]": 4711.19,
         "_deepnote_index_column": 66339
        },
        {
         "surface_area [m^2/g]": 1921.98,
         "_deepnote_index_column": 66340
        },
        {
         "surface_area [m^2/g]": 4466.39,
         "_deepnote_index_column": 66341
        },
        {
         "surface_area [m^2/g]": 3373.07,
         "_deepnote_index_column": 66342
        },
        {
         "surface_area [m^2/g]": 3397.5,
         "_deepnote_index_column": 66343
        },
        {
         "surface_area [m^2/g]": 5492.01,
         "_deepnote_index_column": 66344
        },
        {
         "surface_area [m^2/g]": 5102.27,
         "_deepnote_index_column": 66345
        },
        {
         "surface_area [m^2/g]": 3375.95,
         "_deepnote_index_column": 66346
        },
        {
         "surface_area [m^2/g]": 3039.85,
         "_deepnote_index_column": 66347
        },
        {
         "surface_area [m^2/g]": 3908.54,
         "_deepnote_index_column": 66348
        },
        {
         "surface_area [m^2/g]": 6214.35,
         "_deepnote_index_column": 66350
        },
        {
         "surface_area [m^2/g]": 3433.17,
         "_deepnote_index_column": 66351
        },
        {
         "surface_area [m^2/g]": 5075.64,
         "_deepnote_index_column": 66352
        },
        {
         "surface_area [m^2/g]": 4423.04,
         "_deepnote_index_column": 66353
        },
        {
         "surface_area [m^2/g]": 3887.65,
         "_deepnote_index_column": 66354
        },
        {
         "surface_area [m^2/g]": 3254.76,
         "_deepnote_index_column": 66355
        },
        {
         "surface_area [m^2/g]": 3337.06,
         "_deepnote_index_column": 66356
        },
        {
         "surface_area [m^2/g]": 5563.7,
         "_deepnote_index_column": 66357
        },
        {
         "surface_area [m^2/g]": 3630.01,
         "_deepnote_index_column": 66358
        },
        {
         "surface_area [m^2/g]": 2079.97,
         "_deepnote_index_column": 66359
        },
        {
         "surface_area [m^2/g]": 3626.66,
         "_deepnote_index_column": 66360
        },
        {
         "surface_area [m^2/g]": 5251.52,
         "_deepnote_index_column": 66361
        },
        {
         "surface_area [m^2/g]": 3578.11,
         "_deepnote_index_column": 66362
        },
        {
         "surface_area [m^2/g]": 4907.66,
         "_deepnote_index_column": 66363
        },
        {
         "surface_area [m^2/g]": 3921.25,
         "_deepnote_index_column": 66364
        },
        {
         "surface_area [m^2/g]": 4231.18,
         "_deepnote_index_column": 66365
        },
        {
         "surface_area [m^2/g]": 1477,
         "_deepnote_index_column": 66366
        },
        {
         "surface_area [m^2/g]": 462.43,
         "_deepnote_index_column": 66367
        },
        {
         "surface_area [m^2/g]": 4908.75,
         "_deepnote_index_column": 66368
        },
        {
         "surface_area [m^2/g]": 4118.49,
         "_deepnote_index_column": 66369
        },
        {
         "surface_area [m^2/g]": 3862.18,
         "_deepnote_index_column": 66370
        },
        {
         "surface_area [m^2/g]": 5778.75,
         "_deepnote_index_column": 66371
        },
        {
         "surface_area [m^2/g]": 2554.36,
         "_deepnote_index_column": 66372
        },
        {
         "surface_area [m^2/g]": 3528.86,
         "_deepnote_index_column": 66373
        },
        {
         "surface_area [m^2/g]": 4227.18,
         "_deepnote_index_column": 66374
        },
        {
         "surface_area [m^2/g]": 4679.96,
         "_deepnote_index_column": 66375
        },
        {
         "surface_area [m^2/g]": 3629.75,
         "_deepnote_index_column": 66376
        },
        {
         "surface_area [m^2/g]": 4873.77,
         "_deepnote_index_column": 66377
        },
        {
         "surface_area [m^2/g]": 3685.35,
         "_deepnote_index_column": 66378
        },
        {
         "surface_area [m^2/g]": 5185.08,
         "_deepnote_index_column": 66379
        },
        {
         "surface_area [m^2/g]": 5240.66,
         "_deepnote_index_column": 66380
        },
        {
         "surface_area [m^2/g]": 4714.63,
         "_deepnote_index_column": 66381
        },
        {
         "surface_area [m^2/g]": 4864.02,
         "_deepnote_index_column": 66382
        },
        {
         "surface_area [m^2/g]": 1572.86,
         "_deepnote_index_column": 66383
        },
        {
         "surface_area [m^2/g]": 3847.34,
         "_deepnote_index_column": 66384
        },
        {
         "surface_area [m^2/g]": 3146.79,
         "_deepnote_index_column": 66385
        },
        {
         "surface_area [m^2/g]": 775.63,
         "_deepnote_index_column": 66386
        },
        {
         "surface_area [m^2/g]": 4096.97,
         "_deepnote_index_column": 66387
        },
        {
         "surface_area [m^2/g]": 3124.99,
         "_deepnote_index_column": 66388
        },
        {
         "surface_area [m^2/g]": 483.81,
         "_deepnote_index_column": 66389
        },
        {
         "surface_area [m^2/g]": 3468.47,
         "_deepnote_index_column": 66390
        },
        {
         "surface_area [m^2/g]": 3803.59,
         "_deepnote_index_column": 66391
        },
        {
         "surface_area [m^2/g]": 3378.6,
         "_deepnote_index_column": 66392
        },
        {
         "surface_area [m^2/g]": 5446.92,
         "_deepnote_index_column": 66393
        },
        {
         "surface_area [m^2/g]": 4644.32,
         "_deepnote_index_column": 66394
        },
        {
         "surface_area [m^2/g]": 4755.39,
         "_deepnote_index_column": 66395
        },
        {
         "surface_area [m^2/g]": 3603.09,
         "_deepnote_index_column": 66396
        },
        {
         "surface_area [m^2/g]": 798.88,
         "_deepnote_index_column": 66397
        },
        {
         "surface_area [m^2/g]": 4051.8,
         "_deepnote_index_column": 66398
        },
        {
         "surface_area [m^2/g]": 4422.13,
         "_deepnote_index_column": 66400
        },
        {
         "surface_area [m^2/g]": 4623.56,
         "_deepnote_index_column": 66401
        },
        {
         "surface_area [m^2/g]": 3308.65,
         "_deepnote_index_column": 66402
        },
        {
         "surface_area [m^2/g]": 4124.86,
         "_deepnote_index_column": 66403
        },
        {
         "surface_area [m^2/g]": 2633.37,
         "_deepnote_index_column": 66404
        },
        {
         "surface_area [m^2/g]": 1924.75,
         "_deepnote_index_column": 66405
        },
        {
         "surface_area [m^2/g]": 4510.14,
         "_deepnote_index_column": 66406
        },
        {
         "surface_area [m^2/g]": 5015.11,
         "_deepnote_index_column": 66407
        },
        {
         "surface_area [m^2/g]": 5097.07,
         "_deepnote_index_column": 66408
        },
        {
         "surface_area [m^2/g]": 5431.97,
         "_deepnote_index_column": 66409
        },
        {
         "surface_area [m^2/g]": 2112.8,
         "_deepnote_index_column": 66410
        },
        {
         "surface_area [m^2/g]": 4185.99,
         "_deepnote_index_column": 66411
        },
        {
         "surface_area [m^2/g]": 4967.36,
         "_deepnote_index_column": 66412
        },
        {
         "surface_area [m^2/g]": 3962.36,
         "_deepnote_index_column": 66413
        },
        {
         "surface_area [m^2/g]": 5432.27,
         "_deepnote_index_column": 66414
        },
        {
         "surface_area [m^2/g]": 4339.88,
         "_deepnote_index_column": 66415
        },
        {
         "surface_area [m^2/g]": 3110.7,
         "_deepnote_index_column": 66416
        },
        {
         "surface_area [m^2/g]": 3959.87,
         "_deepnote_index_column": 66417
        },
        {
         "surface_area [m^2/g]": 2065.08,
         "_deepnote_index_column": 66418
        },
        {
         "surface_area [m^2/g]": 2405.54,
         "_deepnote_index_column": 66420
        },
        {
         "surface_area [m^2/g]": 1984.99,
         "_deepnote_index_column": 66421
        },
        {
         "surface_area [m^2/g]": 4142.26,
         "_deepnote_index_column": 66422
        },
        {
         "surface_area [m^2/g]": 4099.49,
         "_deepnote_index_column": 66423
        },
        {
         "surface_area [m^2/g]": 2523.27,
         "_deepnote_index_column": 66424
        },
        {
         "surface_area [m^2/g]": 5160.87,
         "_deepnote_index_column": 66425
        },
        {
         "surface_area [m^2/g]": 3874.51,
         "_deepnote_index_column": 66427
        },
        {
         "surface_area [m^2/g]": 5581.15,
         "_deepnote_index_column": 66428
        },
        {
         "surface_area [m^2/g]": 5287.61,
         "_deepnote_index_column": 66429
        },
        {
         "surface_area [m^2/g]": 3719.7,
         "_deepnote_index_column": 66430
        },
        {
         "surface_area [m^2/g]": 3645.97,
         "_deepnote_index_column": 66431
        },
        {
         "surface_area [m^2/g]": 3452.24,
         "_deepnote_index_column": 66432
        },
        {
         "surface_area [m^2/g]": 6329.86,
         "_deepnote_index_column": 66433
        },
        {
         "surface_area [m^2/g]": 4415.57,
         "_deepnote_index_column": 66434
        },
        {
         "surface_area [m^2/g]": 3733.3,
         "_deepnote_index_column": 66435
        },
        {
         "surface_area [m^2/g]": 3960.04,
         "_deepnote_index_column": 66436
        },
        {
         "surface_area [m^2/g]": 3656.28,
         "_deepnote_index_column": 66437
        },
        {
         "surface_area [m^2/g]": 3286.77,
         "_deepnote_index_column": 66438
        },
        {
         "surface_area [m^2/g]": 4376.59,
         "_deepnote_index_column": 66439
        },
        {
         "surface_area [m^2/g]": 3779.62,
         "_deepnote_index_column": 66441
        },
        {
         "surface_area [m^2/g]": 2252.86,
         "_deepnote_index_column": 66442
        },
        {
         "surface_area [m^2/g]": 3863.2,
         "_deepnote_index_column": 66443
        },
        {
         "surface_area [m^2/g]": 5626.64,
         "_deepnote_index_column": 66444
        },
        {
         "surface_area [m^2/g]": 2474.68,
         "_deepnote_index_column": 66445
        },
        {
         "surface_area [m^2/g]": 6162.81,
         "_deepnote_index_column": 66447
        },
        {
         "surface_area [m^2/g]": 3077.76,
         "_deepnote_index_column": 66448
        },
        {
         "surface_area [m^2/g]": 6336.93,
         "_deepnote_index_column": 66449
        },
        {
         "surface_area [m^2/g]": 2269.9,
         "_deepnote_index_column": 66450
        },
        {
         "surface_area [m^2/g]": 6532.91,
         "_deepnote_index_column": 66451
        },
        {
         "surface_area [m^2/g]": 4844.98,
         "_deepnote_index_column": 66452
        },
        {
         "surface_area [m^2/g]": 4842.45,
         "_deepnote_index_column": 66453
        },
        {
         "surface_area [m^2/g]": 4633.59,
         "_deepnote_index_column": 66454
        },
        {
         "surface_area [m^2/g]": 6222.57,
         "_deepnote_index_column": 66455
        },
        {
         "surface_area [m^2/g]": 4270.21,
         "_deepnote_index_column": 66456
        },
        {
         "surface_area [m^2/g]": 2073.47,
         "_deepnote_index_column": 66457
        },
        {
         "surface_area [m^2/g]": 5322.15,
         "_deepnote_index_column": 66458
        },
        {
         "surface_area [m^2/g]": 4264.95,
         "_deepnote_index_column": 66459
        },
        {
         "surface_area [m^2/g]": 4069.88,
         "_deepnote_index_column": 66460
        },
        {
         "surface_area [m^2/g]": 422.37,
         "_deepnote_index_column": 66461
        },
        {
         "surface_area [m^2/g]": 2682.64,
         "_deepnote_index_column": 66462
        },
        {
         "surface_area [m^2/g]": 4296.05,
         "_deepnote_index_column": 66463
        },
        {
         "surface_area [m^2/g]": 3986.1,
         "_deepnote_index_column": 66464
        },
        {
         "surface_area [m^2/g]": 3986.76,
         "_deepnote_index_column": 66465
        },
        {
         "surface_area [m^2/g]": 4677.12,
         "_deepnote_index_column": 66466
        },
        {
         "surface_area [m^2/g]": 3535.63,
         "_deepnote_index_column": 66467
        },
        {
         "surface_area [m^2/g]": 3912.53,
         "_deepnote_index_column": 66468
        },
        {
         "surface_area [m^2/g]": 4100.32,
         "_deepnote_index_column": 66469
        },
        {
         "surface_area [m^2/g]": 4753.87,
         "_deepnote_index_column": 66470
        },
        {
         "surface_area [m^2/g]": 4920.76,
         "_deepnote_index_column": 66471
        },
        {
         "surface_area [m^2/g]": 3874.11,
         "_deepnote_index_column": 66472
        },
        {
         "surface_area [m^2/g]": 4142.14,
         "_deepnote_index_column": 66473
        },
        {
         "surface_area [m^2/g]": 3591.7,
         "_deepnote_index_column": 66474
        },
        {
         "surface_area [m^2/g]": 4338.72,
         "_deepnote_index_column": 66475
        },
        {
         "surface_area [m^2/g]": 3838.2,
         "_deepnote_index_column": 66476
        },
        {
         "surface_area [m^2/g]": 3660.49,
         "_deepnote_index_column": 66477
        },
        {
         "surface_area [m^2/g]": 5559.83,
         "_deepnote_index_column": 66478
        },
        {
         "surface_area [m^2/g]": 839.08,
         "_deepnote_index_column": 66480
        },
        {
         "surface_area [m^2/g]": 5043.71,
         "_deepnote_index_column": 66481
        },
        {
         "surface_area [m^2/g]": 2390.04,
         "_deepnote_index_column": 66482
        },
        {
         "surface_area [m^2/g]": 3921.43,
         "_deepnote_index_column": 66483
        },
        {
         "surface_area [m^2/g]": 5593.31,
         "_deepnote_index_column": 66484
        },
        {
         "surface_area [m^2/g]": 1763.23,
         "_deepnote_index_column": 66485
        },
        {
         "surface_area [m^2/g]": 5062.26,
         "_deepnote_index_column": 66486
        },
        {
         "surface_area [m^2/g]": 3229.05,
         "_deepnote_index_column": 66487
        },
        {
         "surface_area [m^2/g]": 6388.32,
         "_deepnote_index_column": 66488
        },
        {
         "surface_area [m^2/g]": 848.72,
         "_deepnote_index_column": 66489
        },
        {
         "surface_area [m^2/g]": 4433.9,
         "_deepnote_index_column": 66490
        },
        {
         "surface_area [m^2/g]": 5552.04,
         "_deepnote_index_column": 66491
        },
        {
         "surface_area [m^2/g]": 5930.67,
         "_deepnote_index_column": 66492
        },
        {
         "surface_area [m^2/g]": 3723.43,
         "_deepnote_index_column": 66493
        },
        {
         "surface_area [m^2/g]": 5873.69,
         "_deepnote_index_column": 66494
        },
        {
         "surface_area [m^2/g]": 3842.75,
         "_deepnote_index_column": 66495
        },
        {
         "surface_area [m^2/g]": 2515.72,
         "_deepnote_index_column": 66496
        },
        {
         "surface_area [m^2/g]": 5018.37,
         "_deepnote_index_column": 66497
        },
        {
         "surface_area [m^2/g]": 117.7,
         "_deepnote_index_column": 66498
        },
        {
         "surface_area [m^2/g]": 3935.69,
         "_deepnote_index_column": 66499
        },
        {
         "surface_area [m^2/g]": 4169.34,
         "_deepnote_index_column": 66500
        },
        {
         "surface_area [m^2/g]": 4311.15,
         "_deepnote_index_column": 66501
        },
        {
         "surface_area [m^2/g]": 4655.17,
         "_deepnote_index_column": 66502
        },
        {
         "surface_area [m^2/g]": 3056.64,
         "_deepnote_index_column": 66503
        },
        {
         "surface_area [m^2/g]": 4049.25,
         "_deepnote_index_column": 66504
        },
        {
         "surface_area [m^2/g]": 4815.13,
         "_deepnote_index_column": 66505
        },
        {
         "surface_area [m^2/g]": 5634.98,
         "_deepnote_index_column": 66506
        },
        {
         "surface_area [m^2/g]": 1292.34,
         "_deepnote_index_column": 66507
        },
        {
         "surface_area [m^2/g]": 5176.33,
         "_deepnote_index_column": 66508
        },
        {
         "surface_area [m^2/g]": 5691.94,
         "_deepnote_index_column": 66509
        },
        {
         "surface_area [m^2/g]": 2056.3,
         "_deepnote_index_column": 66510
        },
        {
         "surface_area [m^2/g]": 5881.23,
         "_deepnote_index_column": 66511
        },
        {
         "surface_area [m^2/g]": 4886.25,
         "_deepnote_index_column": 66512
        },
        {
         "surface_area [m^2/g]": 5720.93,
         "_deepnote_index_column": 66513
        },
        {
         "surface_area [m^2/g]": 4469.41,
         "_deepnote_index_column": 66514
        },
        {
         "surface_area [m^2/g]": 3625.06,
         "_deepnote_index_column": 66515
        },
        {
         "surface_area [m^2/g]": 2398.38,
         "_deepnote_index_column": 66516
        },
        {
         "surface_area [m^2/g]": 6351.84,
         "_deepnote_index_column": 66517
        },
        {
         "surface_area [m^2/g]": 3474.82,
         "_deepnote_index_column": 66518
        },
        {
         "surface_area [m^2/g]": 5154.42,
         "_deepnote_index_column": 66519
        },
        {
         "surface_area [m^2/g]": 1343.62,
         "_deepnote_index_column": 66520
        },
        {
         "surface_area [m^2/g]": 4182.24,
         "_deepnote_index_column": 66521
        },
        {
         "surface_area [m^2/g]": 4149.64,
         "_deepnote_index_column": 66522
        },
        {
         "surface_area [m^2/g]": 4326.62,
         "_deepnote_index_column": 66523
        },
        {
         "surface_area [m^2/g]": 3835.28,
         "_deepnote_index_column": 66524
        }
       ]
      },
      "text/plain": "            surface_area [m^2/g]\nUnnamed: 0                      \n47630                    2735.72\n47631                    1647.50\n47632                    2478.84\n47633                     389.34\n47635                    2762.68\n...                          ...\n66520                    1343.62\n66521                    4182.24\n66522                    4149.64\n66523                    4326.62\n66524                    3835.28\n\n[16134 rows x 1 columns]",
      "text/html": "<div>\n<style scoped>\n    .dataframe tbody tr th:only-of-type {\n        vertical-align: middle;\n    }\n\n    .dataframe tbody tr th {\n        vertical-align: top;\n    }\n\n    .dataframe thead th {\n        text-align: right;\n    }\n</style>\n<table border=\"1\" class=\"dataframe\">\n  <thead>\n    <tr style=\"text-align: right;\">\n      <th></th>\n      <th>surface_area [m^2/g]</th>\n    </tr>\n    <tr>\n      <th>Unnamed: 0</th>\n      <th></th>\n    </tr>\n  </thead>\n  <tbody>\n    <tr>\n      <th>47630</th>\n      <td>2735.72</td>\n    </tr>\n    <tr>\n      <th>47631</th>\n      <td>1647.50</td>\n    </tr>\n    <tr>\n      <th>47632</th>\n      <td>2478.84</td>\n    </tr>\n    <tr>\n      <th>47633</th>\n      <td>389.34</td>\n    </tr>\n    <tr>\n      <th>47635</th>\n      <td>2762.68</td>\n    </tr>\n    <tr>\n      <th>...</th>\n      <td>...</td>\n    </tr>\n    <tr>\n      <th>66520</th>\n      <td>1343.62</td>\n    </tr>\n    <tr>\n      <th>66521</th>\n      <td>4182.24</td>\n    </tr>\n    <tr>\n      <th>66522</th>\n      <td>4149.64</td>\n    </tr>\n    <tr>\n      <th>66523</th>\n      <td>4326.62</td>\n    </tr>\n    <tr>\n      <th>66524</th>\n      <td>3835.28</td>\n    </tr>\n  </tbody>\n</table>\n<p>16134 rows × 1 columns</p>\n</div>"
     },
     "metadata": {}
    }
   ],
   "execution_count": null
  },
  {
   "cell_type": "code",
   "source": "X_final = Train[\n    [\n        \"void_fraction\",\n        'void_volume [cm^3/g]',\n        \"heat_adsorption_CO2_P0.15bar_T298K [kcal/mol]\",\n        \"CO2/N2_selectivity\",\n        \"_cell_volume\",\n        \"_cell_length_a\",\n        \"_cell_length_b\",\n        \"_cell_length_c\",\n        \"density\"\n    ]\n]\n\ny_final = Train[['surface_area [m^2/g]']]\n\n\nreg = XGBRegressor(max_depth=6, grow_policy=\"lossguide\", num_parallel_tree=1)\nreg.fit(X_final.values, y_final.values)",
   "metadata": {
    "tags": [],
    "cell_id": "00007-897e87fa-0769-49b5-b65e-56283b5e6619",
    "deepnote_to_be_reexecuted": false,
    "source_hash": "39e81827",
    "execution_start": 1632502105365,
    "execution_millis": 15953,
    "deepnote_cell_type": "code"
   },
   "outputs": [
    {
     "output_type": "execute_result",
     "execution_count": 7,
     "data": {
      "text/plain": "XGBRegressor(base_score=0.5, booster='gbtree', colsample_bylevel=1,\n             colsample_bynode=1, colsample_bytree=1, gamma=0, gpu_id=-1,\n             grow_policy='lossguide', importance_type='gain',\n             interaction_constraints='', learning_rate=0.300000012,\n             max_delta_step=0, max_depth=6, min_child_weight=1, missing=nan,\n             monotone_constraints='()', n_estimators=100, n_jobs=4,\n             num_parallel_tree=1, random_state=0, reg_alpha=0, reg_lambda=1,\n             scale_pos_weight=1, subsample=1, tree_method='exact',\n             validate_parameters=1, verbosity=None)"
     },
     "metadata": {}
    }
   ],
   "execution_count": null
  },
  {
   "cell_type": "code",
   "source": "mean_absolute_error(reg.predict(X_final), y_final)",
   "metadata": {
    "tags": [],
    "cell_id": "00008-cb11c9f5-3b41-49fc-ab7a-7c8b23350e6c",
    "deepnote_to_be_reexecuted": false,
    "source_hash": "402d4822",
    "execution_start": 1632502121315,
    "execution_millis": 88,
    "deepnote_cell_type": "code"
   },
   "outputs": [
    {
     "output_type": "execute_result",
     "execution_count": 8,
     "data": {
      "text/plain": "97.37195821579785"
     },
     "metadata": {}
    }
   ],
   "execution_count": null
  },
  {
   "cell_type": "code",
   "source": "reg.save_model(\"imputer/xgboost/surface_area.json\")",
   "metadata": {
    "tags": [],
    "cell_id": "00009-fb5cfb06-ff69-4bd0-8df9-99344f96efa8",
    "deepnote_to_be_reexecuted": false,
    "source_hash": "ee274884",
    "execution_start": 1632502121400,
    "execution_millis": 418,
    "deepnote_cell_type": "code"
   },
   "outputs": [],
   "execution_count": null
  },
  {
   "cell_type": "markdown",
   "source": "<a style='text-decoration:none;line-height:16px;display:flex;color:#5B5B62;padding:10px;justify-content:end;' href='https://deepnote.com?utm_source=created-in-deepnote-cell&projectId=cf8541de-dbc3-45f6-bc1e-4fa446cacbcd' target=\"_blank\">\n<img alt='Created in deepnote.com' style='display:inline;max-height:16px;margin:0px;margin-right:7.5px;' src='data:image/svg+xml;base64,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' > </img>\nCreated in <span style='font-weight:600;margin-left:4px;'>Deepnote</span></a>",
   "metadata": {
    "tags": [],
    "created_in_deepnote_cell": true,
    "deepnote_cell_type": "markdown"
   }
  }
 ],
 "nbformat": 4,
 "nbformat_minor": 2,
 "metadata": {
  "orig_nbformat": 2,
  "deepnote": {
   "is_reactive": false
  },
  "deepnote_notebook_id": "feca2775-545e-4eb5-a794-7d71e5e6e5ad",
  "deepnote_execution_queue": []
 }
}