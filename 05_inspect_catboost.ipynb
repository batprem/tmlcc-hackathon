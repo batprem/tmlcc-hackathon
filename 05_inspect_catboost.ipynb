{
 "cells": [
  {
   "cell_type": "markdown",
   "source": "# Import modules",
   "metadata": {
    "tags": [],
    "is_collapsed": false,
    "cell_id": "00000-9ffa94f2-5477-47e7-bae1-16c9b508b435",
    "deepnote_cell_type": "text-cell-h1"
   }
  },
  {
   "cell_type": "code",
   "metadata": {
    "tags": [],
    "deepnote_to_be_reexecuted": false,
    "source_hash": "4865ef98",
    "execution_start": 1632712398102,
    "execution_millis": 2791,
    "cell_id": "00001-519c87eb-39b2-4552-9acf-5bb538766e35",
    "deepnote_cell_type": "code"
   },
   "source": "import os\nimport pandas as pd\n\n\nimport numpy as np\nfrom sklearn.impute import KNNImputer\nfrom sklearn.metrics import mean_absolute_error\nfrom sklearn.preprocessing import power_transform\nfrom catboost import CatBoostRegressor\n\n# Local dependencies\nfrom src.constants import (\n    PREPROCESSING_PATH,\n    TARGET\n)\nfrom utils.classes.extractor import FunctionalGroupToGramExtractor\n\nfrom typing import (\n    Optional,\n    List,\n    Any\n)\nfrom sklearn.model_selection import KFold, RepeatedKFold, RepeatedStratifiedKFold\n\nimport pickle\nimport json\n\nimport warnings\nwarnings.filterwarnings(\"ignore\")",
   "outputs": [],
   "execution_count": null
  },
  {
   "cell_type": "markdown",
   "source": "# Load essentials",
   "metadata": {
    "tags": [],
    "is_collapsed": false,
    "cell_id": "00002-f0fb72e4-7e71-4349-9308-babdaaf14f7f",
    "deepnote_cell_type": "text-cell-h1"
   }
  },
  {
   "cell_type": "code",
   "metadata": {
    "tags": [],
    "deepnote_to_be_reexecuted": false,
    "source_hash": "24408d87",
    "execution_start": 1632712400907,
    "execution_millis": 539,
    "cell_id": "00003-02ebdc22-7bef-4961-a7c3-8dad462a3a9b",
    "deepnote_cell_type": "code"
   },
   "source": "Train = pd.read_csv(f\"{PREPROCESSING_PATH}/train_merged_CIF/Train.csv\")\nTrain = Train.set_index(Train.columns[0])\n\nPretest = pd.read_csv(f\"{PREPROCESSING_PATH}/pretest_merged_CIF/Pretest.csv\")\nPretest = Pretest.set_index(Pretest.columns[0])\n\nfuntional_group_extractor = FunctionalGroupToGramExtractor()",
   "outputs": [],
   "execution_count": null
  },
  {
   "cell_type": "code",
   "metadata": {
    "tags": [],
    "deepnote_to_be_reexecuted": false,
    "source_hash": "1168ff48",
    "execution_start": 1632712401460,
    "execution_millis": 28,
    "cell_id": "00004-f2128360-f905-4e90-9455-764604735ab6",
    "deepnote_cell_type": "code"
   },
   "source": "Train['surface_area [m^2/g]']",
   "outputs": [
    {
     "output_type": "execute_result",
     "execution_count": 3,
     "data": {
      "text/plain": "Unnamed: 0\n1           0.00\n2         603.61\n3         788.50\n4        1441.53\n5           0.00\n          ...   \n68609       0.00\n68610       0.00\n68611       0.00\n68612       0.00\n68613       0.00\nName: surface_area [m^2/g], Length: 68613, dtype: float64"
     },
     "metadata": {}
    }
   ],
   "execution_count": null
  },
  {
   "cell_type": "markdown",
   "source": "# Add stat",
   "metadata": {
    "tags": [],
    "is_collapsed": false,
    "cell_id": "00005-37d3de1a-194b-4ff2-b570-bea0e88756c4",
    "deepnote_cell_type": "text-cell-h1"
   }
  },
  {
   "cell_type": "code",
   "source": "stat = pd.read_csv(\"/work/preprocessing_results/stat/functionalgroup_stat2.csv\")\n\nTrain['functional_groups'] = np.where(\n    pd.isna(Train['functional_groups']),\n    'unknown',\n    Train['functional_groups']\n)\n\nTrain = Train.merge(stat, on=['functional_groups','topology'], how = 'left')\n\nPretest['functional_groups'] = np.where(\n    pd.isna(Pretest['functional_groups']),\n    'unknown',\n    Pretest['functional_groups']\n)\n\nPretest = Pretest.merge(stat, on=['functional_groups','topology'], how = 'left')",
   "metadata": {
    "tags": [],
    "cell_id": "00007-d57e981a-29a0-4117-89ab-867be70446b3",
    "deepnote_to_be_reexecuted": false,
    "source_hash": "d4fb0e5",
    "execution_start": 1632712401476,
    "execution_millis": 149,
    "deepnote_cell_type": "code"
   },
   "outputs": [],
   "execution_count": null
  },
  {
   "cell_type": "markdown",
   "source": "# Add imputor",
   "metadata": {
    "tags": [],
    "is_collapsed": false,
    "cell_id": "00005-0c63d1c3-1709-4039-a7ae-ed8f31ad6682",
    "deepnote_cell_type": "text-cell-h1"
   }
  },
  {
   "cell_type": "code",
   "source": "# train_imputation = pd.read_csv(\"imputer/xgboost/train.csv\", index_col=0).drop(\n#     [\n#         'MOFname',\n#         'void_fraction_imputed',\n#         'void_volume_imputed',\n#         'surface_area_imputed',\n#     ],\n#     axis=1\n# )\n# # Train = Train.rename(columns={'surface_area [m^2/g]': 'surface_area_old'})\n# Train = pd.concat(\n#     [\n#         Train.drop([\n#             'void_fraction',\n#             'void_volume [cm^3/g]',\n#             'surface_area [m^2/g]'\n#         ], axis=1),\n#         train_imputation\n#     ], axis=1\n# )\n\n# pretest_imputation = pd.read_csv(\"imputer/xgboost/pretest.csv\", index_col=0).drop(\n#     [\n#         'MOFname',\n#         'void_fraction_imputed',\n#         'void_volume_imputed',\n#         'surface_area_imputed'\n#     ],\n#     axis=1\n# )\n# Pretest = pd.concat(\n#     [\n#         Pretest.drop([\n#             'void_fraction',\n#             'void_volume [cm^3/g]',\n#             'surface_area [m^2/g]'\n#         ], axis=1),\n#         pretest_imputation\n#     ], axis=1\n# )",
   "metadata": {
    "tags": [],
    "cell_id": "00006-c1fc3965-454b-46f5-9096-0e983c2657e8",
    "deepnote_to_be_reexecuted": false,
    "source_hash": "36104146",
    "execution_start": 1632712401626,
    "execution_millis": 0,
    "deepnote_cell_type": "code"
   },
   "outputs": [],
   "execution_count": null
  },
  {
   "cell_type": "markdown",
   "source": "# Set up pipeline",
   "metadata": {
    "tags": [],
    "is_collapsed": false,
    "cell_id": "00005-b117c6f3-376a-4ef7-a4fa-f3fbb68db289",
    "deepnote_cell_type": "text-cell-h1"
   }
  },
  {
   "cell_type": "code",
   "metadata": {
    "tags": [],
    "deepnote_to_be_reexecuted": false,
    "source_hash": "3ebbc2fb",
    "execution_start": 1632712401716,
    "execution_millis": 43,
    "cell_id": "00006-96f19f94-b90e-4d82-a070-24c8f3b2c9a5",
    "deepnote_cell_type": "code"
   },
   "source": "\nclass PreprocessingPipeline:\n    funcgroup2num = None\n    topology2num = None\n    spacegroup2num = None\n    organic_linker1 = None\n    organic_linker2 = None\n\n    def label(self, df):\n        # if self.funcgroup2num is None:\n        #     self.funcgroup2num = {\n        #         c: i\n        #         for i, c\n        #         in enumerate(df[\"functional_groups\"].unique())\n        #     }\n\n        # if self.topology2num is None:\n        #     self.topology2num = {\n        #         c: i\n        #         for i, c\n        #         in enumerate(df[\"topology\"].unique())\n        #     }\n        # df[\"label_topology\"] = df[\"topology\"].map(self.topology2num)\n\n        df[\"label_topology_pcu\"] = (df[\"topology\"] == \"pcu\").astype(int)\n        df[\"label_topology_sra\"] = (df[\"topology\"] == \"sra\").astype(int)\n        df[\"label_topology_acs\"] = (df[\"topology\"] == \"acs\").astype(int)\n        df[\"label_topology_etb\"] = (df[\"topology\"] == \"etb\").astype(int)\n        df[\"label_topology_bcu\"] = (df[\"topology\"] == \"bcu\").astype(int)\n        df[\"label_topology_nbo\"] = (df[\"topology\"] == \"nbo\").astype(int)\n        \n        \n        df[\"label_spacegroup_triclinic\"] = (\n            df[\"_space_group_crystal_system\"] == \"triclinic\"\n        ).astype(int)\n\n        df[\"metal_linker_1\"] = (\n            df[\"metal_linker\"] == 1\n        ).astype(int)\n        df[\"metal_linker_2\"] = (\n            df[\"metal_linker\"] == 2\n        ).astype(int)\n        df[\"metal_linker_3\"] = (\n            df[\"metal_linker\"] == 3\n        ).astype(int)\n        df[\"metal_linker_4\"] = (\n            df[\"metal_linker\"] == 4\n        ).astype(int)\n        df[\"metal_linker_9\"] = (\n            df[\"metal_linker\"] == 9\n        ).astype(int)\n        df[\"metal_linker_10\"] = (\n            df[\"metal_linker\"] == 10\n        ).astype(int)\n        df[\"metal_linker_12\"] = (\n            df[\"metal_linker\"] == 12\n        ).astype(int)\n\n        if self.organic_linker1 is None:\n            self.organic_linker1 = set(df['organic_linker1'])\n        for linker in self.organic_linker1:\n            df[f\"organic_linker1_{linker}\"] = (\n                df[\"organic_linker1\"] == linker\n            ).astype(int)\n\n        if self.organic_linker2 is None:\n            self.organic_linker2 = set(df['organic_linker2'])\n        for linker in self.organic_linker2:\n            df[f\"organic_linker2_{linker}\"] = (\n                df[\"organic_linker2\"] == linker\n            ).astype(int)\n\n        return df\n    \n\n    @staticmethod\n    def get_density(df: pd.DataFrame):\n        df['density'] = (df[\"weight [u]\"] / df[\"volume [A^3]\"]) * 1.66054\n        df['void_volume [cm^3/g]'] = df['void_fraction'] / df[\"density\"]\n        return df\n\n    @staticmethod\n    def replace_surface_area_equal_0_with_null(df: pd.DataFrame):\n        df[\"surface_area [m^2/g]\"] = df[\"surface_area [m^2/g]\"].replace(0, np.nan)\n        return df\n\n    @staticmethod\n    def replace_inf_with_null(df: pd.DataFrame):\n        df = df.replace(np.inf, 999999)\n        df = df.replace(-np.inf, -999999)\n        return df\n\n    @staticmethod\n    def drop_unused_columns(\n        df, unused_columns: Optional[List[str]] = None\n    ) -> pd.DataFrame:\n        if not unused_columns:\n            unused_columns = [\n                \"MOFname\",\n                # 'functional_groups',\n                \"topology\",\n                \"cif_filepath\",\n                \"_audit_creation_date\",\n                \"_symmetry_Int_Tables_number\",\n                \"_symmetry_space_group_name_H-M\",\n                \"_space_group_crystal_system\",\n                # \"bond_type_countT\",\n                'metal_linker',\n                # 'organic_linker1',\n                # 'organic_linker2'\n                \"partial_charge_mean\",\n                \"partial_charge_std\",\n                \"_cell_volume\",\n            ]\n        for col in unused_columns:\n            try:\n                df.drop(col, axis=1, inplace=True)\n            except KeyError:\n                pass\n        return df\n\n    @staticmethod\n    def set_imputer(X: pd.DataFrame) -> KNNImputer:\n        imputer = KNNImputer(n_neighbors=5)\n        imputer.fit(X)\n        return imputer\n\n    @staticmethod\n    def impute_value(X: pd.DataFrame, imputer: KNNImputer):\n        return imputer.transform(X)\n\n    @staticmethod\n    def extract_functional_group(X: pd.DataFrame, fit: bool) -> pd.DataFrame:\n        funtional_group_extacted = funtional_group_extractor.transform(X, fit)\n        return pd.concat([X, funtional_group_extractor], axis=1)\n\n\nclass TrainDataPreprocessingPipeline(PreprocessingPipeline):\n    @staticmethod\n    def drop_surface_area_equal_minus_1(df):\n        return df.drop(df[df[\"surface_area [m^2/g]\"] == -1].index)\n\n    def impute(self):\n        temp_columns = self.X.columns\n        temp_index = self.X.index\n\n        if not self.imputer:\n            self.imputer = self.set_imputer(self.X)\n\n        self.X = self.impute_value(self.X, self.imputer)\n\n        self.X = pd.DataFrame(self.X)\n        self.X.columns = temp_columns\n        self.X.index = temp_index\n\n    def run(self):\n        self.functional_group_extractor = FunctionalGroupToGramExtractor()\n\n        # Drop and add featrures\n        print(\"Print droping and replace null\")\n        self.df = self.drop_surface_area_equal_minus_1(self.df)\n        self.df = self.replace_surface_area_equal_0_with_null(self.df)\n        self.df = self.replace_inf_with_null(self.df)\n        self.df = self.label(self.df)\n        self.df = self.drop_unused_columns(self.df)\n        self.df = self.df.drop(self.df[self.df[\"CO2/N2_selectivity\"] == 0].index)\n        self.df = self.get_density(self.df)\n        # Split\n        print(\"Split X, y\")\n        self.X = self.df.drop(TARGET, axis=1)\n        self.y = self.df[[TARGET]]\n\n        # Extract\n        # print(\"Extract functional group\")\n        # functional_group = self.functional_group_extractor.transform(\n        #     self.X[['functional_groups']],\n        #     fit=True\n        # )\n\n        # Impute\n        print(\"Impute\")\n        self.X = self.X.drop(\"functional_groups\", axis=1)\n        self.impute()\n        # self.X = pd.concat([self.X, functional_group], axis=1)\n\n    def __init__(self, df: pd.DataFrame, imputer: Any = None):\n        self.df = df\n        self.imputer = imputer\n",
   "outputs": [],
   "execution_count": null
  },
  {
   "cell_type": "code",
   "metadata": {
    "tags": [],
    "deepnote_to_be_reexecuted": false,
    "source_hash": "5221261b",
    "execution_start": 1632712401759,
    "execution_millis": 1,
    "cell_id": "00007-34154c89-5188-4970-98f9-cf603ac04c78",
    "deepnote_cell_type": "code"
   },
   "source": "class TestDataPreprocessingPipeline(PreprocessingPipeline):\n    def impute(self):\n        temp_columns = self.X.columns\n        temp_index = self.X.index\n\n        if not self.imputer:\n            self.imputer = self.set_imputer(self.X)\n\n        self.X = self.impute_value(self.X, self.imputer)\n\n        self.X = pd.DataFrame(self.X)\n        self.X.columns = temp_columns\n        self.X.index = temp_index\n\n    def run(self):\n        # Drop\n        print(\"Print droping and replace null\")\n        self.X = self.replace_surface_area_equal_0_with_null(self.df)\n        self.X = self.replace_inf_with_null(self.X)\n        self.X = self.label(self.X)\n        self.X = self.drop_unused_columns(self.X)\n        self.X = self.get_density(self.X)\n\n        # Extract\n        # print(\"Extract functional group\")\n        # functional_group = self.functional_group_extractor.transform(\n        #     self.X[['functional_groups']],\n        # )\n\n        # Impute\n        print(\"Impute\")\n        self.X = self.X.drop('functional_groups', axis=1)\n        self.impute()\n        # self.X = pd.concat([self.X, functional_group], axis=1)\n        self.X = self.X[self.columns]\n\n    \n    def __init__(\n        self,\n        df: pd.DataFrame,\n        imputer: Any = None,\n        functional_group_extractor: FunctionalGroupToGramExtractor = None,\n        columns: list = None\n    ):\n        self.df = df\n        self.imputer = imputer\n        self.functional_group_extractor = functional_group_extractor\n        self.columns = columns\n\n",
   "outputs": [],
   "execution_count": null
  },
  {
   "cell_type": "markdown",
   "source": "# Run pipeline",
   "metadata": {
    "tags": [],
    "is_collapsed": false,
    "cell_id": "00008-061532dd-d58e-4cb2-9604-2133dd9e62c1",
    "deepnote_cell_type": "text-cell-h1"
   }
  },
  {
   "cell_type": "code",
   "metadata": {
    "tags": [],
    "deepnote_to_be_reexecuted": false,
    "source_hash": "9f99deb6",
    "execution_start": 1632712401760,
    "execution_millis": 701,
    "cell_id": "00009-0bf4168c-4f56-498c-8487-de33c6146b13",
    "deepnote_cell_type": "code"
   },
   "source": "class Imputer9999:\n    def transform(self, df):\n        return df.replace(np.nan, -9999)\n\nimputer = Imputer9999()\ntrain = TrainDataPreprocessingPipeline(Train, imputer)\ntrain.run()",
   "outputs": [
    {
     "name": "stdout",
     "text": "Print droping and replace null\nSplit X, y\nImpute\n",
     "output_type": "stream"
    }
   ],
   "execution_count": null
  },
  {
   "cell_type": "code",
   "metadata": {
    "tags": [],
    "deepnote_to_be_reexecuted": false,
    "source_hash": "364ae2b2",
    "execution_start": 1632712402503,
    "execution_millis": 213,
    "cell_id": "00010-e7f41c63-9b66-431d-a76d-18a21df2531f",
    "deepnote_cell_type": "code"
   },
   "source": "train.X",
   "outputs": [
    {
     "output_type": "execute_result",
     "execution_count": 9,
     "data": {
      "application/vnd.deepnote.dataframe.v2+json": {
       "row_count": 66715,
       "column_count": 155,
       "columns": [
        {
         "name": "volume [A^3]",
         "dtype": "float64",
         "stats": {
          "unique_count": 66709,
          "nan_count": 0,
          "min": "606.576038",
          "max": "223964.854408",
          "histogram": [
           {
            "bin_start": 606.576038,
            "bin_end": 22942.403875,
            "count": 65787
           },
           {
            "bin_start": 22942.403875,
            "bin_end": 45278.231712,
            "count": 823
           },
           {
            "bin_start": 45278.231712,
            "bin_end": 67614.059549,
            "count": 80
           },
           {
            "bin_start": 67614.059549,
            "bin_end": 89949.887386,
            "count": 18
           },
           {
            "bin_start": 89949.887386,
            "bin_end": 112285.715223,
            "count": 3
           },
           {
            "bin_start": 112285.715223,
            "bin_end": 134621.54306,
            "count": 3
           },
           {
            "bin_start": 134621.54306,
            "bin_end": 156957.37089700002,
            "count": 0
           },
           {
            "bin_start": 156957.37089700002,
            "bin_end": 179293.198734,
            "count": 0
           },
           {
            "bin_start": 179293.198734,
            "bin_end": 201629.026571,
            "count": 0
           },
           {
            "bin_start": 201629.026571,
            "bin_end": 223964.854408,
            "count": 1
           }
          ]
         }
        },
        {
         "name": "weight [u]",
         "dtype": "float64"
        },
        {
         "name": "surface_area [m^2/g]",
         "dtype": "float64"
        },
        {
         "name": "void_fraction",
         "dtype": "float64"
        },
        {
         "name": "void_volume [cm^3/g]",
         "dtype": "float64"
        },
        {
         "name": "organic_linker1",
         "dtype": "int64"
        },
        {
         "name": "organic_linker2",
         "dtype": "int64"
        },
        {
         "name": "CO2/N2_selectivity",
         "dtype": "float64"
        },
        {
         "name": "heat_adsorption_CO2_P0.15bar_T298K [kcal/mol]",
         "dtype": "float64"
        },
        {
         "name": "_cell_length_a",
         "dtype": "float64"
        },
        {
         "name": "_cell_length_b",
         "dtype": "float64"
        },
        {
         "name": "_cell_length_c",
         "dtype": "float64"
        },
        {
         "name": "_cell_angle_alpha",
         "dtype": "float64"
        },
        {
         "name": "_cell_angle_beta",
         "dtype": "float64"
        },
        {
         "name": "_cell_angle_gamma",
         "dtype": "float64"
        },
        {
         "name": "partial_charge_median",
         "dtype": "float64"
        },
        {
         "name": "bond_type_countS",
         "dtype": "int64"
        },
        {
         "name": "bond_type_countA",
         "dtype": "int64"
        },
        {
         "name": "bond_type_countD",
         "dtype": "float64"
        },
        {
         "name": "bond_type_countT",
         "dtype": "float64"
        },
        {
         "name": "bond_type_countAm",
         "dtype": "float64"
        },
        {
         "name": "CO2_mean",
         "dtype": "float64"
        },
        {
         "name": "CO2_median",
         "dtype": "float64"
        },
        {
         "name": "CO2_std",
         "dtype": "float64"
        },
        {
         "name": "CO2_min",
         "dtype": "float64"
        },
        {
         "name": "CO2_max",
         "dtype": "float64"
        },
        {
         "name": "label_topology_pcu",
         "dtype": "int64"
        },
        {
         "name": "label_topology_sra",
         "dtype": "int64"
        },
        {
         "name": "label_topology_acs",
         "dtype": "int64"
        },
        {
         "name": "label_topology_etb",
         "dtype": "int64"
        },
        {
         "name": "label_topology_bcu",
         "dtype": "int64"
        },
        {
         "name": "label_topology_nbo",
         "dtype": "int64"
        },
        {
         "name": "label_spacegroup_triclinic",
         "dtype": "int64"
        },
        {
         "name": "metal_linker_1",
         "dtype": "int64"
        },
        {
         "name": "metal_linker_2",
         "dtype": "int64"
        },
        {
         "name": "metal_linker_3",
         "dtype": "int64"
        },
        {
         "name": "metal_linker_4",
         "dtype": "int64"
        },
        {
         "name": "metal_linker_9",
         "dtype": "int64"
        },
        {
         "name": "metal_linker_10",
         "dtype": "int64"
        },
        {
         "name": "metal_linker_12",
         "dtype": "int64"
        },
        {
         "name": "organic_linker1_1",
         "dtype": "int64"
        },
        {
         "name": "organic_linker1_2",
         "dtype": "int64"
        },
        {
         "name": "organic_linker1_3",
         "dtype": "int64"
        },
        {
         "name": "organic_linker1_4",
         "dtype": "int64"
        },
        {
         "name": "organic_linker1_5",
         "dtype": "int64"
        },
        {
         "name": "organic_linker1_6",
         "dtype": "int64"
        },
        {
         "name": "organic_linker1_7",
         "dtype": "int64"
        },
        {
         "name": "organic_linker1_8",
         "dtype": "int64"
        },
        {
         "name": "organic_linker1_9",
         "dtype": "int64"
        },
        {
         "name": "organic_linker1_10",
         "dtype": "int64"
        },
        {
         "name": "organic_linker1_11",
         "dtype": "int64"
        },
        {
         "name": "organic_linker1_12",
         "dtype": "int64"
        },
        {
         "name": "organic_linker1_13",
         "dtype": "int64"
        },
        {
         "name": "organic_linker1_14",
         "dtype": "int64"
        },
        {
         "name": "organic_linker1_15",
         "dtype": "int64"
        },
        {
         "name": "organic_linker1_16",
         "dtype": "int64"
        },
        {
         "name": "organic_linker1_17",
         "dtype": "int64"
        },
        {
         "name": "organic_linker1_18",
         "dtype": "int64"
        },
        {
         "name": "organic_linker1_19",
         "dtype": "int64"
        },
        {
         "name": "organic_linker1_20",
         "dtype": "int64"
        },
        {
         "name": "organic_linker1_21",
         "dtype": "int64"
        },
        {
         "name": "organic_linker1_22",
         "dtype": "int64"
        },
        {
         "name": "organic_linker1_23",
         "dtype": "int64"
        },
        {
         "name": "organic_linker1_24",
         "dtype": "int64"
        },
        {
         "name": "organic_linker1_25",
         "dtype": "int64"
        },
        {
         "name": "organic_linker1_26",
         "dtype": "int64"
        },
        {
         "name": "organic_linker1_27",
         "dtype": "int64"
        },
        {
         "name": "organic_linker1_28",
         "dtype": "int64"
        },
        {
         "name": "organic_linker1_29",
         "dtype": "int64"
        },
        {
         "name": "organic_linker1_30",
         "dtype": "int64"
        },
        {
         "name": "organic_linker1_31",
         "dtype": "int64"
        },
        {
         "name": "organic_linker1_32",
         "dtype": "int64"
        },
        {
         "name": "organic_linker1_33",
         "dtype": "int64"
        },
        {
         "name": "organic_linker1_34",
         "dtype": "int64"
        },
        {
         "name": "organic_linker1_35",
         "dtype": "int64"
        },
        {
         "name": "organic_linker1_36",
         "dtype": "int64"
        },
        {
         "name": "organic_linker1_38",
         "dtype": "int64"
        },
        {
         "name": "organic_linker1_40",
         "dtype": "int64"
        },
        {
         "name": "organic_linker1_41",
         "dtype": "int64"
        },
        {
         "name": "organic_linker1_42",
         "dtype": "int64"
        },
        {
         "name": "organic_linker1_43",
         "dtype": "int64"
        },
        {
         "name": "organic_linker1_44",
         "dtype": "int64"
        },
        {
         "name": "organic_linker1_45",
         "dtype": "int64"
        },
        {
         "name": "organic_linker1_46",
         "dtype": "int64"
        },
        {
         "name": "organic_linker1_47",
         "dtype": "int64"
        },
        {
         "name": "organic_linker1_48",
         "dtype": "int64"
        },
        {
         "name": "organic_linker1_49",
         "dtype": "int64"
        },
        {
         "name": "organic_linker1_50",
         "dtype": "int64"
        },
        {
         "name": "organic_linker1_51",
         "dtype": "int64"
        },
        {
         "name": "organic_linker1_52",
         "dtype": "int64"
        },
        {
         "name": "organic_linker1_53",
         "dtype": "int64"
        },
        {
         "name": "organic_linker1_54",
         "dtype": "int64"
        },
        {
         "name": "organic_linker1_55",
         "dtype": "int64"
        },
        {
         "name": "organic_linker1_56",
         "dtype": "int64"
        },
        {
         "name": "organic_linker1_57",
         "dtype": "int64"
        },
        {
         "name": "organic_linker1_58",
         "dtype": "int64"
        },
        {
         "name": "organic_linker1_59",
         "dtype": "int64"
        },
        {
         "name": "organic_linker2_1",
         "dtype": "int64"
        },
        {
         "name": "organic_linker2_2",
         "dtype": "int64"
        },
        {
         "name": "organic_linker2_3",
         "dtype": "int64"
        },
        {
         "name": "organic_linker2_4",
         "dtype": "int64"
        },
        {
         "name": "organic_linker2_5",
         "dtype": "int64"
        },
        {
         "name": "organic_linker2_6",
         "dtype": "int64"
        },
        {
         "name": "organic_linker2_7",
         "dtype": "int64"
        },
        {
         "name": "organic_linker2_8",
         "dtype": "int64"
        },
        {
         "name": "organic_linker2_9",
         "dtype": "int64"
        },
        {
         "name": "organic_linker2_10",
         "dtype": "int64"
        },
        {
         "name": "organic_linker2_11",
         "dtype": "int64"
        },
        {
         "name": "organic_linker2_12",
         "dtype": "int64"
        },
        {
         "name": "organic_linker2_13",
         "dtype": "int64"
        },
        {
         "name": "organic_linker2_14",
         "dtype": "int64"
        },
        {
         "name": "organic_linker2_15",
         "dtype": "int64"
        },
        {
         "name": "organic_linker2_16",
         "dtype": "int64"
        },
        {
         "name": "organic_linker2_17",
         "dtype": "int64"
        },
        {
         "name": "organic_linker2_18",
         "dtype": "int64"
        },
        {
         "name": "organic_linker2_19",
         "dtype": "int64"
        },
        {
         "name": "organic_linker2_20",
         "dtype": "int64"
        },
        {
         "name": "organic_linker2_21",
         "dtype": "int64"
        },
        {
         "name": "organic_linker2_22",
         "dtype": "int64"
        },
        {
         "name": "organic_linker2_23",
         "dtype": "int64"
        },
        {
         "name": "organic_linker2_24",
         "dtype": "int64"
        },
        {
         "name": "organic_linker2_25",
         "dtype": "int64"
        },
        {
         "name": "organic_linker2_26",
         "dtype": "int64"
        },
        {
         "name": "organic_linker2_27",
         "dtype": "int64"
        },
        {
         "name": "organic_linker2_28",
         "dtype": "int64"
        },
        {
         "name": "organic_linker2_29",
         "dtype": "int64"
        },
        {
         "name": "organic_linker2_30",
         "dtype": "int64"
        },
        {
         "name": "organic_linker2_31",
         "dtype": "int64"
        },
        {
         "name": "organic_linker2_32",
         "dtype": "int64"
        },
        {
         "name": "organic_linker2_33",
         "dtype": "int64"
        },
        {
         "name": "organic_linker2_34",
         "dtype": "int64"
        },
        {
         "name": "organic_linker2_35",
         "dtype": "int64"
        },
        {
         "name": "organic_linker2_36",
         "dtype": "int64"
        },
        {
         "name": "organic_linker2_38",
         "dtype": "int64"
        },
        {
         "name": "organic_linker2_40",
         "dtype": "int64"
        },
        {
         "name": "organic_linker2_41",
         "dtype": "int64"
        },
        {
         "name": "organic_linker2_42",
         "dtype": "int64"
        },
        {
         "name": "organic_linker2_43",
         "dtype": "int64"
        },
        {
         "name": "organic_linker2_44",
         "dtype": "int64"
        },
        {
         "name": "organic_linker2_45",
         "dtype": "int64"
        },
        {
         "name": "organic_linker2_46",
         "dtype": "int64"
        },
        {
         "name": "organic_linker2_47",
         "dtype": "int64"
        },
        {
         "name": "organic_linker2_48",
         "dtype": "int64"
        },
        {
         "name": "organic_linker2_49",
         "dtype": "int64"
        },
        {
         "name": "organic_linker2_50",
         "dtype": "int64"
        },
        {
         "name": "organic_linker2_51",
         "dtype": "int64"
        },
        {
         "name": "organic_linker2_52",
         "dtype": "int64"
        },
        {
         "name": "organic_linker2_53",
         "dtype": "int64"
        },
        {
         "name": "organic_linker2_54",
         "dtype": "int64"
        },
        {
         "name": "organic_linker2_55",
         "dtype": "int64"
        },
        {
         "name": "organic_linker2_56",
         "dtype": "int64"
        },
        {
         "name": "organic_linker2_57",
         "dtype": "int64"
        },
        {
         "name": "organic_linker2_58",
         "dtype": "int64"
        },
        {
         "name": "organic_linker2_59",
         "dtype": "int64"
        },
        {
         "name": "density",
         "dtype": "float64"
        },
        {
         "name": "_deepnote_index_column",
         "dtype": "int64"
        }
       ],
       "rows_top": [
        {
         "volume [A^3]": 1116.667429,
         "weight [u]": 875.2405999999999,
         "surface_area [m^2/g]": -9999,
         "void_fraction": 0.07899,
         "void_volume [cm^3/g]": 0.0606902834534965,
         "organic_linker1": 4,
         "organic_linker2": 11,
         "CO2/N2_selectivity": 22.86416611,
         "heat_adsorption_CO2_P0.15bar_T298K [kcal/mol]": 6.786041,
         "_cell_length_a": 10.609882,
         "_cell_length_b": 10.643578,
         "_cell_length_c": 9.890832,
         "_cell_angle_alpha": 89.904234,
         "_cell_angle_beta": 91.242355,
         "_cell_angle_gamma": 90.261935,
         "partial_charge_median": 0.024709,
         "bond_type_countS": 56,
         "bond_type_countA": 20,
         "bond_type_countD": 8,
         "bond_type_countT": 0,
         "bond_type_countAm": 0,
         "CO2_mean": 112.00504790706054,
         "CO2_median": 101.25564349282423,
         "CO2_std": 68.41681613727798,
         "CO2_min": -6.1878944030814464,
         "CO2_max": 317.51087371474733,
         "label_topology_pcu": 1,
         "label_topology_sra": 0,
         "label_topology_acs": 0,
         "label_topology_etb": 0,
         "label_topology_bcu": 0,
         "label_topology_nbo": 0,
         "label_spacegroup_triclinic": 1,
         "metal_linker_1": 0,
         "metal_linker_2": 0,
         "metal_linker_3": 1,
         "metal_linker_4": 0,
         "metal_linker_9": 0,
         "metal_linker_10": 0,
         "metal_linker_12": 0,
         "organic_linker1_1": 0,
         "organic_linker1_2": 0,
         "organic_linker1_3": 0,
         "organic_linker1_4": 1,
         "organic_linker1_5": 0,
         "organic_linker1_6": 0,
         "organic_linker1_7": 0,
         "organic_linker1_8": 0,
         "organic_linker1_9": 0,
         "organic_linker1_10": 0,
         "organic_linker1_11": 0,
         "organic_linker1_12": 0,
         "organic_linker1_13": 0,
         "organic_linker1_14": 0,
         "organic_linker1_15": 0,
         "organic_linker1_16": 0,
         "organic_linker1_17": 0,
         "organic_linker1_18": 0,
         "organic_linker1_19": 0,
         "organic_linker1_20": 0,
         "organic_linker1_21": 0,
         "organic_linker1_22": 0,
         "organic_linker1_23": 0,
         "organic_linker1_24": 0,
         "organic_linker1_25": 0,
         "organic_linker1_26": 0,
         "organic_linker1_27": 0,
         "organic_linker1_28": 0,
         "organic_linker1_29": 0,
         "organic_linker1_30": 0,
         "organic_linker1_31": 0,
         "organic_linker1_32": 0,
         "organic_linker1_33": 0,
         "organic_linker1_34": 0,
         "organic_linker1_35": 0,
         "organic_linker1_36": 0,
         "organic_linker1_38": 0,
         "organic_linker1_40": 0,
         "organic_linker1_41": 0,
         "organic_linker1_42": 0,
         "organic_linker1_43": 0,
         "organic_linker1_44": 0,
         "organic_linker1_45": 0,
         "organic_linker1_46": 0,
         "organic_linker1_47": 0,
         "organic_linker1_48": 0,
         "organic_linker1_49": 0,
         "organic_linker1_50": 0,
         "organic_linker1_51": 0,
         "organic_linker1_52": 0,
         "organic_linker1_53": 0,
         "organic_linker1_54": 0,
         "organic_linker1_55": 0,
         "organic_linker1_56": 0,
         "organic_linker1_57": 0,
         "organic_linker1_58": 0,
         "organic_linker1_59": 0,
         "organic_linker2_1": 0,
         "organic_linker2_2": 0,
         "organic_linker2_3": 0,
         "organic_linker2_4": 0,
         "organic_linker2_5": 0,
         "organic_linker2_6": 0,
         "organic_linker2_7": 0,
         "organic_linker2_8": 0,
         "organic_linker2_9": 0,
         "organic_linker2_10": 0,
         "organic_linker2_11": 1,
         "organic_linker2_12": 0,
         "organic_linker2_13": 0,
         "organic_linker2_14": 0,
         "organic_linker2_15": 0,
         "organic_linker2_16": 0,
         "organic_linker2_17": 0,
         "organic_linker2_18": 0,
         "organic_linker2_19": 0,
         "organic_linker2_20": 0,
         "organic_linker2_21": 0,
         "organic_linker2_22": 0,
         "organic_linker2_23": 0,
         "organic_linker2_24": 0,
         "organic_linker2_25": 0,
         "organic_linker2_26": 0,
         "organic_linker2_27": 0,
         "organic_linker2_28": 0,
         "organic_linker2_29": 0,
         "organic_linker2_30": 0,
         "organic_linker2_31": 0,
         "organic_linker2_32": 0,
         "organic_linker2_33": 0,
         "organic_linker2_34": 0,
         "organic_linker2_35": 0,
         "organic_linker2_36": 0,
         "organic_linker2_38": 0,
         "organic_linker2_40": 0,
         "organic_linker2_41": 0,
         "organic_linker2_42": 0,
         "organic_linker2_43": 0,
         "organic_linker2_44": 0,
         "organic_linker2_45": 0,
         "organic_linker2_46": 0,
         "organic_linker2_47": 0,
         "organic_linker2_48": 0,
         "organic_linker2_49": 0,
         "organic_linker2_50": 0,
         "organic_linker2_51": 0,
         "organic_linker2_52": 0,
         "organic_linker2_53": 0,
         "organic_linker2_54": 0,
         "organic_linker2_55": 0,
         "organic_linker2_56": 0,
         "organic_linker2_57": 0,
         "organic_linker2_58": 0,
         "organic_linker2_59": 0,
         "density": 1.3015262988601055,
         "_deepnote_index_column": 0
        },
        {
         "volume [A^3]": 2769.503842,
         "weight [u]": 2211.697211,
         "surface_area [m^2/g]": 603.61,
         "void_fraction": 0.13794,
         "void_volume [cm^3/g]": 0.10402007959168029,
         "organic_linker1": 44,
         "organic_linker2": 57,
         "CO2/N2_selectivity": 33.61678033,
         "heat_adsorption_CO2_P0.15bar_T298K [kcal/mol]": 7.147286,
         "_cell_length_a": 8.463295,
         "_cell_length_b": 17.684225,
         "_cell_length_c": 18.960098,
         "_cell_angle_alpha": 100.063446,
         "_cell_angle_beta": 91.815775,
         "_cell_angle_gamma": 96.94221,
         "partial_charge_median": 0.059489,
         "bond_type_countS": 162,
         "bond_type_countA": 50,
         "bond_type_countD": 8,
         "bond_type_countT": 1,
         "bond_type_countAm": 0,
         "CO2_mean": 63.639785554782975,
         "CO2_median": 73.8181053674255,
         "CO2_std": 52.38426344656159,
         "CO2_min": -0.2631320175673422,
         "CO2_max": 164.99285422486557,
         "label_topology_pcu": 0,
         "label_topology_sra": 0,
         "label_topology_acs": 0,
         "label_topology_etb": 1,
         "label_topology_bcu": 0,
         "label_topology_nbo": 0,
         "label_spacegroup_triclinic": 1,
         "metal_linker_1": 0,
         "metal_linker_2": 0,
         "metal_linker_3": 0,
         "metal_linker_4": 0,
         "metal_linker_9": 0,
         "metal_linker_10": 1,
         "metal_linker_12": 0,
         "organic_linker1_1": 0,
         "organic_linker1_2": 0,
         "organic_linker1_3": 0,
         "organic_linker1_4": 0,
         "organic_linker1_5": 0,
         "organic_linker1_6": 0,
         "organic_linker1_7": 0,
         "organic_linker1_8": 0,
         "organic_linker1_9": 0,
         "organic_linker1_10": 0,
         "organic_linker1_11": 0,
         "organic_linker1_12": 0,
         "organic_linker1_13": 0,
         "organic_linker1_14": 0,
         "organic_linker1_15": 0,
         "organic_linker1_16": 0,
         "organic_linker1_17": 0,
         "organic_linker1_18": 0,
         "organic_linker1_19": 0,
         "organic_linker1_20": 0,
         "organic_linker1_21": 0,
         "organic_linker1_22": 0,
         "organic_linker1_23": 0,
         "organic_linker1_24": 0,
         "organic_linker1_25": 0,
         "organic_linker1_26": 0,
         "organic_linker1_27": 0,
         "organic_linker1_28": 0,
         "organic_linker1_29": 0,
         "organic_linker1_30": 0,
         "organic_linker1_31": 0,
         "organic_linker1_32": 0,
         "organic_linker1_33": 0,
         "organic_linker1_34": 0,
         "organic_linker1_35": 0,
         "organic_linker1_36": 0,
         "organic_linker1_38": 0,
         "organic_linker1_40": 0,
         "organic_linker1_41": 0,
         "organic_linker1_42": 0,
         "organic_linker1_43": 0,
         "organic_linker1_44": 1,
         "organic_linker1_45": 0,
         "organic_linker1_46": 0,
         "organic_linker1_47": 0,
         "organic_linker1_48": 0,
         "organic_linker1_49": 0,
         "organic_linker1_50": 0,
         "organic_linker1_51": 0,
         "organic_linker1_52": 0,
         "organic_linker1_53": 0,
         "organic_linker1_54": 0,
         "organic_linker1_55": 0,
         "organic_linker1_56": 0,
         "organic_linker1_57": 0,
         "organic_linker1_58": 0,
         "organic_linker1_59": 0,
         "organic_linker2_1": 0,
         "organic_linker2_2": 0,
         "organic_linker2_3": 0,
         "organic_linker2_4": 0,
         "organic_linker2_5": 0,
         "organic_linker2_6": 0,
         "organic_linker2_7": 0,
         "organic_linker2_8": 0,
         "organic_linker2_9": 0,
         "organic_linker2_10": 0,
         "organic_linker2_11": 0,
         "organic_linker2_12": 0,
         "organic_linker2_13": 0,
         "organic_linker2_14": 0,
         "organic_linker2_15": 0,
         "organic_linker2_16": 0,
         "organic_linker2_17": 0,
         "organic_linker2_18": 0,
         "organic_linker2_19": 0,
         "organic_linker2_20": 0,
         "organic_linker2_21": 0,
         "organic_linker2_22": 0,
         "organic_linker2_23": 0,
         "organic_linker2_24": 0,
         "organic_linker2_25": 0,
         "organic_linker2_26": 0,
         "organic_linker2_27": 0,
         "organic_linker2_28": 0,
         "organic_linker2_29": 0,
         "organic_linker2_30": 0,
         "organic_linker2_31": 0,
         "organic_linker2_32": 0,
         "organic_linker2_33": 0,
         "organic_linker2_34": 0,
         "organic_linker2_35": 0,
         "organic_linker2_36": 0,
         "organic_linker2_38": 0,
         "organic_linker2_40": 0,
         "organic_linker2_41": 0,
         "organic_linker2_42": 0,
         "organic_linker2_43": 0,
         "organic_linker2_44": 0,
         "organic_linker2_45": 0,
         "organic_linker2_46": 0,
         "organic_linker2_47": 0,
         "organic_linker2_48": 0,
         "organic_linker2_49": 0,
         "organic_linker2_50": 0,
         "organic_linker2_51": 0,
         "organic_linker2_52": 0,
         "organic_linker2_53": 0,
         "organic_linker2_54": 0,
         "organic_linker2_55": 0,
         "organic_linker2_56": 0,
         "organic_linker2_57": 1,
         "organic_linker2_58": 0,
         "organic_linker2_59": 0,
         "density": 1.3260901216521728,
         "_deepnote_index_column": 1
        },
        {
         "volume [A^3]": 1089.818728,
         "weight [u]": 773.68796,
         "surface_area [m^2/g]": 788.5,
         "void_fraction": 0.14874,
         "void_volume [cm^3/g]": 0.12617312623103835,
         "organic_linker1": 22,
         "organic_linker2": 24,
         "CO2/N2_selectivity": 19.26372569,
         "heat_adsorption_CO2_P0.15bar_T298K [kcal/mol]": 6.347967,
         "_cell_length_a": 10.73211,
         "_cell_length_b": 9.552271,
         "_cell_length_c": 10.631996,
         "_cell_angle_alpha": 89.202223,
         "_cell_angle_beta": 89.943258,
         "_cell_angle_gamma": 90.387501,
         "partial_charge_median": 0.126583,
         "bond_type_countS": 87,
         "bond_type_countA": 8,
         "bond_type_countD": 2,
         "bond_type_countT": 0,
         "bond_type_countAm": 0,
         "CO2_mean": 121.11178659243475,
         "CO2_median": 101.56087003014044,
         "CO2_std": 71.30418552194992,
         "CO2_min": -3.790487695973221,
         "CO2_max": 378.6238625626808,
         "label_topology_pcu": 1,
         "label_topology_sra": 0,
         "label_topology_acs": 0,
         "label_topology_etb": 0,
         "label_topology_bcu": 0,
         "label_topology_nbo": 0,
         "label_spacegroup_triclinic": 1,
         "metal_linker_1": 0,
         "metal_linker_2": 1,
         "metal_linker_3": 0,
         "metal_linker_4": 0,
         "metal_linker_9": 0,
         "metal_linker_10": 0,
         "metal_linker_12": 0,
         "organic_linker1_1": 0,
         "organic_linker1_2": 0,
         "organic_linker1_3": 0,
         "organic_linker1_4": 0,
         "organic_linker1_5": 0,
         "organic_linker1_6": 0,
         "organic_linker1_7": 0,
         "organic_linker1_8": 0,
         "organic_linker1_9": 0,
         "organic_linker1_10": 0,
         "organic_linker1_11": 0,
         "organic_linker1_12": 0,
         "organic_linker1_13": 0,
         "organic_linker1_14": 0,
         "organic_linker1_15": 0,
         "organic_linker1_16": 0,
         "organic_linker1_17": 0,
         "organic_linker1_18": 0,
         "organic_linker1_19": 0,
         "organic_linker1_20": 0,
         "organic_linker1_21": 0,
         "organic_linker1_22": 1,
         "organic_linker1_23": 0,
         "organic_linker1_24": 0,
         "organic_linker1_25": 0,
         "organic_linker1_26": 0,
         "organic_linker1_27": 0,
         "organic_linker1_28": 0,
         "organic_linker1_29": 0,
         "organic_linker1_30": 0,
         "organic_linker1_31": 0,
         "organic_linker1_32": 0,
         "organic_linker1_33": 0,
         "organic_linker1_34": 0,
         "organic_linker1_35": 0,
         "organic_linker1_36": 0,
         "organic_linker1_38": 0,
         "organic_linker1_40": 0,
         "organic_linker1_41": 0,
         "organic_linker1_42": 0,
         "organic_linker1_43": 0,
         "organic_linker1_44": 0,
         "organic_linker1_45": 0,
         "organic_linker1_46": 0,
         "organic_linker1_47": 0,
         "organic_linker1_48": 0,
         "organic_linker1_49": 0,
         "organic_linker1_50": 0,
         "organic_linker1_51": 0,
         "organic_linker1_52": 0,
         "organic_linker1_53": 0,
         "organic_linker1_54": 0,
         "organic_linker1_55": 0,
         "organic_linker1_56": 0,
         "organic_linker1_57": 0,
         "organic_linker1_58": 0,
         "organic_linker1_59": 0,
         "organic_linker2_1": 0,
         "organic_linker2_2": 0,
         "organic_linker2_3": 0,
         "organic_linker2_4": 0,
         "organic_linker2_5": 0,
         "organic_linker2_6": 0,
         "organic_linker2_7": 0,
         "organic_linker2_8": 0,
         "organic_linker2_9": 0,
         "organic_linker2_10": 0,
         "organic_linker2_11": 0,
         "organic_linker2_12": 0,
         "organic_linker2_13": 0,
         "organic_linker2_14": 0,
         "organic_linker2_15": 0,
         "organic_linker2_16": 0,
         "organic_linker2_17": 0,
         "organic_linker2_18": 0,
         "organic_linker2_19": 0,
         "organic_linker2_20": 0,
         "organic_linker2_21": 0,
         "organic_linker2_22": 0,
         "organic_linker2_23": 0,
         "organic_linker2_24": 1,
         "organic_linker2_25": 0,
         "organic_linker2_26": 0,
         "organic_linker2_27": 0,
         "organic_linker2_28": 0,
         "organic_linker2_29": 0,
         "organic_linker2_30": 0,
         "organic_linker2_31": 0,
         "organic_linker2_32": 0,
         "organic_linker2_33": 0,
         "organic_linker2_34": 0,
         "organic_linker2_35": 0,
         "organic_linker2_36": 0,
         "organic_linker2_38": 0,
         "organic_linker2_40": 0,
         "organic_linker2_41": 0,
         "organic_linker2_42": 0,
         "organic_linker2_43": 0,
         "organic_linker2_44": 0,
         "organic_linker2_45": 0,
         "organic_linker2_46": 0,
         "organic_linker2_47": 0,
         "organic_linker2_48": 0,
         "organic_linker2_49": 0,
         "organic_linker2_50": 0,
         "organic_linker2_51": 0,
         "organic_linker2_52": 0,
         "organic_linker2_53": 0,
         "organic_linker2_54": 0,
         "organic_linker2_55": 0,
         "organic_linker2_56": 0,
         "organic_linker2_57": 0,
         "organic_linker2_58": 0,
         "organic_linker2_59": 0,
         "density": 1.1788564208802987,
         "_deepnote_index_column": 2
        }
       ],
       "rows_bottom": [
        {
         "volume [A^3]": 2035.532738,
         "weight [u]": 1959.51832,
         "surface_area [m^2/g]": -9999,
         "void_fraction": 0,
         "void_volume [cm^3/g]": 0,
         "organic_linker1": 14,
         "organic_linker2": 22,
         "CO2/N2_selectivity": 9.876133998,
         "heat_adsorption_CO2_P0.15bar_T298K [kcal/mol]": -9999,
         "_cell_length_a": 11.237482,
         "_cell_length_b": 11.321902,
         "_cell_length_c": 18.60812,
         "_cell_angle_alpha": 90.200546,
         "_cell_angle_beta": 90.118422,
         "_cell_angle_gamma": 59.292454,
         "partial_charge_median": 0.07563,
         "bond_type_countS": 153,
         "bond_type_countA": 79,
         "bond_type_countD": 0,
         "bond_type_countT": 0,
         "bond_type_countAm": 0,
         "CO2_mean": 132.336575104794,
         "CO2_median": 121.2724955544182,
         "CO2_std": 68.95720332594077,
         "CO2_min": -13.187635269397646,
         "CO2_max": 345.0438260849101,
         "label_topology_pcu": 0,
         "label_topology_sra": 0,
         "label_topology_acs": 1,
         "label_topology_etb": 0,
         "label_topology_bcu": 0,
         "label_topology_nbo": 0,
         "label_spacegroup_triclinic": 1,
         "metal_linker_1": 0,
         "metal_linker_2": 0,
         "metal_linker_3": 0,
         "metal_linker_4": 1,
         "metal_linker_9": 0,
         "metal_linker_10": 0,
         "metal_linker_12": 0,
         "organic_linker1_1": 0,
         "organic_linker1_2": 0,
         "organic_linker1_3": 0,
         "organic_linker1_4": 0,
         "organic_linker1_5": 0,
         "organic_linker1_6": 0,
         "organic_linker1_7": 0,
         "organic_linker1_8": 0,
         "organic_linker1_9": 0,
         "organic_linker1_10": 0,
         "organic_linker1_11": 0,
         "organic_linker1_12": 0,
         "organic_linker1_13": 0,
         "organic_linker1_14": 1,
         "organic_linker1_15": 0,
         "organic_linker1_16": 0,
         "organic_linker1_17": 0,
         "organic_linker1_18": 0,
         "organic_linker1_19": 0,
         "organic_linker1_20": 0,
         "organic_linker1_21": 0,
         "organic_linker1_22": 0,
         "organic_linker1_23": 0,
         "organic_linker1_24": 0,
         "organic_linker1_25": 0,
         "organic_linker1_26": 0,
         "organic_linker1_27": 0,
         "organic_linker1_28": 0,
         "organic_linker1_29": 0,
         "organic_linker1_30": 0,
         "organic_linker1_31": 0,
         "organic_linker1_32": 0,
         "organic_linker1_33": 0,
         "organic_linker1_34": 0,
         "organic_linker1_35": 0,
         "organic_linker1_36": 0,
         "organic_linker1_38": 0,
         "organic_linker1_40": 0,
         "organic_linker1_41": 0,
         "organic_linker1_42": 0,
         "organic_linker1_43": 0,
         "organic_linker1_44": 0,
         "organic_linker1_45": 0,
         "organic_linker1_46": 0,
         "organic_linker1_47": 0,
         "organic_linker1_48": 0,
         "organic_linker1_49": 0,
         "organic_linker1_50": 0,
         "organic_linker1_51": 0,
         "organic_linker1_52": 0,
         "organic_linker1_53": 0,
         "organic_linker1_54": 0,
         "organic_linker1_55": 0,
         "organic_linker1_56": 0,
         "organic_linker1_57": 0,
         "organic_linker1_58": 0,
         "organic_linker1_59": 0,
         "organic_linker2_1": 0,
         "organic_linker2_2": 0,
         "organic_linker2_3": 0,
         "organic_linker2_4": 0,
         "organic_linker2_5": 0,
         "organic_linker2_6": 0,
         "organic_linker2_7": 0,
         "organic_linker2_8": 0,
         "organic_linker2_9": 0,
         "organic_linker2_10": 0,
         "organic_linker2_11": 0,
         "organic_linker2_12": 0,
         "organic_linker2_13": 0,
         "organic_linker2_14": 0,
         "organic_linker2_15": 0,
         "organic_linker2_16": 0,
         "organic_linker2_17": 0,
         "organic_linker2_18": 0,
         "organic_linker2_19": 0,
         "organic_linker2_20": 0,
         "organic_linker2_21": 0,
         "organic_linker2_22": 1,
         "organic_linker2_23": 0,
         "organic_linker2_24": 0,
         "organic_linker2_25": 0,
         "organic_linker2_26": 0,
         "organic_linker2_27": 0,
         "organic_linker2_28": 0,
         "organic_linker2_29": 0,
         "organic_linker2_30": 0,
         "organic_linker2_31": 0,
         "organic_linker2_32": 0,
         "organic_linker2_33": 0,
         "organic_linker2_34": 0,
         "organic_linker2_35": 0,
         "organic_linker2_36": 0,
         "organic_linker2_38": 0,
         "organic_linker2_40": 0,
         "organic_linker2_41": 0,
         "organic_linker2_42": 0,
         "organic_linker2_43": 0,
         "organic_linker2_44": 0,
         "organic_linker2_45": 0,
         "organic_linker2_46": 0,
         "organic_linker2_47": 0,
         "organic_linker2_48": 0,
         "organic_linker2_49": 0,
         "organic_linker2_50": 0,
         "organic_linker2_51": 0,
         "organic_linker2_52": 0,
         "organic_linker2_53": 0,
         "organic_linker2_54": 0,
         "organic_linker2_55": 0,
         "organic_linker2_56": 0,
         "organic_linker2_57": 0,
         "organic_linker2_58": 0,
         "organic_linker2_59": 0,
         "density": 1.598529215643988,
         "_deepnote_index_column": 68610
        },
        {
         "volume [A^3]": 3985.426053,
         "weight [u]": 3638.67728,
         "surface_area [m^2/g]": -9999,
         "void_fraction": 0,
         "void_volume [cm^3/g]": 0,
         "organic_linker1": 4,
         "organic_linker2": 15,
         "CO2/N2_selectivity": 5.285050632,
         "heat_adsorption_CO2_P0.15bar_T298K [kcal/mol]": 999999,
         "_cell_length_a": 19.396341,
         "_cell_length_b": 11.081428,
         "_cell_length_c": 18.544746,
         "_cell_angle_alpha": 90.467105,
         "_cell_angle_beta": 90.841157,
         "_cell_angle_gamma": 89.911826,
         "partial_charge_median": 0.0299515,
         "bond_type_countS": 282,
         "bond_type_countA": 140,
         "bond_type_countD": 0,
         "bond_type_countT": 0,
         "bond_type_countAm": 0,
         "CO2_mean": 143.31192738623906,
         "CO2_median": 111.34049996536132,
         "CO2_std": 102.54042167380996,
         "CO2_min": 15.672697623512304,
         "CO2_max": 332.65466607835634,
         "label_topology_pcu": 0,
         "label_topology_sra": 0,
         "label_topology_acs": 1,
         "label_topology_etb": 0,
         "label_topology_bcu": 0,
         "label_topology_nbo": 0,
         "label_spacegroup_triclinic": 1,
         "metal_linker_1": 0,
         "metal_linker_2": 0,
         "metal_linker_3": 0,
         "metal_linker_4": 1,
         "metal_linker_9": 0,
         "metal_linker_10": 0,
         "metal_linker_12": 0,
         "organic_linker1_1": 0,
         "organic_linker1_2": 0,
         "organic_linker1_3": 0,
         "organic_linker1_4": 1,
         "organic_linker1_5": 0,
         "organic_linker1_6": 0,
         "organic_linker1_7": 0,
         "organic_linker1_8": 0,
         "organic_linker1_9": 0,
         "organic_linker1_10": 0,
         "organic_linker1_11": 0,
         "organic_linker1_12": 0,
         "organic_linker1_13": 0,
         "organic_linker1_14": 0,
         "organic_linker1_15": 0,
         "organic_linker1_16": 0,
         "organic_linker1_17": 0,
         "organic_linker1_18": 0,
         "organic_linker1_19": 0,
         "organic_linker1_20": 0,
         "organic_linker1_21": 0,
         "organic_linker1_22": 0,
         "organic_linker1_23": 0,
         "organic_linker1_24": 0,
         "organic_linker1_25": 0,
         "organic_linker1_26": 0,
         "organic_linker1_27": 0,
         "organic_linker1_28": 0,
         "organic_linker1_29": 0,
         "organic_linker1_30": 0,
         "organic_linker1_31": 0,
         "organic_linker1_32": 0,
         "organic_linker1_33": 0,
         "organic_linker1_34": 0,
         "organic_linker1_35": 0,
         "organic_linker1_36": 0,
         "organic_linker1_38": 0,
         "organic_linker1_40": 0,
         "organic_linker1_41": 0,
         "organic_linker1_42": 0,
         "organic_linker1_43": 0,
         "organic_linker1_44": 0,
         "organic_linker1_45": 0,
         "organic_linker1_46": 0,
         "organic_linker1_47": 0,
         "organic_linker1_48": 0,
         "organic_linker1_49": 0,
         "organic_linker1_50": 0,
         "organic_linker1_51": 0,
         "organic_linker1_52": 0,
         "organic_linker1_53": 0,
         "organic_linker1_54": 0,
         "organic_linker1_55": 0,
         "organic_linker1_56": 0,
         "organic_linker1_57": 0,
         "organic_linker1_58": 0,
         "organic_linker1_59": 0,
         "organic_linker2_1": 0,
         "organic_linker2_2": 0,
         "organic_linker2_3": 0,
         "organic_linker2_4": 0,
         "organic_linker2_5": 0,
         "organic_linker2_6": 0,
         "organic_linker2_7": 0,
         "organic_linker2_8": 0,
         "organic_linker2_9": 0,
         "organic_linker2_10": 0,
         "organic_linker2_11": 0,
         "organic_linker2_12": 0,
         "organic_linker2_13": 0,
         "organic_linker2_14": 0,
         "organic_linker2_15": 1,
         "organic_linker2_16": 0,
         "organic_linker2_17": 0,
         "organic_linker2_18": 0,
         "organic_linker2_19": 0,
         "organic_linker2_20": 0,
         "organic_linker2_21": 0,
         "organic_linker2_22": 0,
         "organic_linker2_23": 0,
         "organic_linker2_24": 0,
         "organic_linker2_25": 0,
         "organic_linker2_26": 0,
         "organic_linker2_27": 0,
         "organic_linker2_28": 0,
         "organic_linker2_29": 0,
         "organic_linker2_30": 0,
         "organic_linker2_31": 0,
         "organic_linker2_32": 0,
         "organic_linker2_33": 0,
         "organic_linker2_34": 0,
         "organic_linker2_35": 0,
         "organic_linker2_36": 0,
         "organic_linker2_38": 0,
         "organic_linker2_40": 0,
         "organic_linker2_41": 0,
         "organic_linker2_42": 0,
         "organic_linker2_43": 0,
         "organic_linker2_44": 0,
         "organic_linker2_45": 0,
         "organic_linker2_46": 0,
         "organic_linker2_47": 0,
         "organic_linker2_48": 0,
         "organic_linker2_49": 0,
         "organic_linker2_50": 0,
         "organic_linker2_51": 0,
         "organic_linker2_52": 0,
         "organic_linker2_53": 0,
         "organic_linker2_54": 0,
         "organic_linker2_55": 0,
         "organic_linker2_56": 0,
         "organic_linker2_57": 0,
         "organic_linker2_58": 0,
         "organic_linker2_59": 0,
         "density": 1.5160660592317354,
         "_deepnote_index_column": 68611
        },
        {
         "volume [A^3]": 1591.009408,
         "weight [u]": 2071.219,
         "surface_area [m^2/g]": -9999,
         "void_fraction": 0.01609,
         "void_volume [cm^3/g]": 0.0074430927158947785,
         "organic_linker1": 9,
         "organic_linker2": 16,
         "CO2/N2_selectivity": 2.621271792,
         "heat_adsorption_CO2_P0.15bar_T298K [kcal/mol]": 999999,
         "_cell_length_a": 11.049965,
         "_cell_length_b": 12.474541,
         "_cell_length_c": 13.706241,
         "_cell_angle_alpha": 118.491266,
         "_cell_angle_beta": 73.368234,
         "_cell_angle_gamma": 98.090342,
         "partial_charge_median": 0.1000085,
         "bond_type_countS": 73,
         "bond_type_countA": 58,
         "bond_type_countD": 0,
         "bond_type_countT": 0,
         "bond_type_countAm": 0,
         "CO2_mean": 87.05018072185158,
         "CO2_median": 84.6827834528786,
         "CO2_std": 66.45330730066017,
         "CO2_min": -0.2869030404843418,
         "CO2_max": 278.2914922030146,
         "label_topology_pcu": 1,
         "label_topology_sra": 0,
         "label_topology_acs": 0,
         "label_topology_etb": 0,
         "label_topology_bcu": 0,
         "label_topology_nbo": 0,
         "label_spacegroup_triclinic": 1,
         "metal_linker_1": 0,
         "metal_linker_2": 1,
         "metal_linker_3": 0,
         "metal_linker_4": 0,
         "metal_linker_9": 0,
         "metal_linker_10": 0,
         "metal_linker_12": 0,
         "organic_linker1_1": 0,
         "organic_linker1_2": 0,
         "organic_linker1_3": 0,
         "organic_linker1_4": 0,
         "organic_linker1_5": 0,
         "organic_linker1_6": 0,
         "organic_linker1_7": 0,
         "organic_linker1_8": 0,
         "organic_linker1_9": 1,
         "organic_linker1_10": 0,
         "organic_linker1_11": 0,
         "organic_linker1_12": 0,
         "organic_linker1_13": 0,
         "organic_linker1_14": 0,
         "organic_linker1_15": 0,
         "organic_linker1_16": 0,
         "organic_linker1_17": 0,
         "organic_linker1_18": 0,
         "organic_linker1_19": 0,
         "organic_linker1_20": 0,
         "organic_linker1_21": 0,
         "organic_linker1_22": 0,
         "organic_linker1_23": 0,
         "organic_linker1_24": 0,
         "organic_linker1_25": 0,
         "organic_linker1_26": 0,
         "organic_linker1_27": 0,
         "organic_linker1_28": 0,
         "organic_linker1_29": 0,
         "organic_linker1_30": 0,
         "organic_linker1_31": 0,
         "organic_linker1_32": 0,
         "organic_linker1_33": 0,
         "organic_linker1_34": 0,
         "organic_linker1_35": 0,
         "organic_linker1_36": 0,
         "organic_linker1_38": 0,
         "organic_linker1_40": 0,
         "organic_linker1_41": 0,
         "organic_linker1_42": 0,
         "organic_linker1_43": 0,
         "organic_linker1_44": 0,
         "organic_linker1_45": 0,
         "organic_linker1_46": 0,
         "organic_linker1_47": 0,
         "organic_linker1_48": 0,
         "organic_linker1_49": 0,
         "organic_linker1_50": 0,
         "organic_linker1_51": 0,
         "organic_linker1_52": 0,
         "organic_linker1_53": 0,
         "organic_linker1_54": 0,
         "organic_linker1_55": 0,
         "organic_linker1_56": 0,
         "organic_linker1_57": 0,
         "organic_linker1_58": 0,
         "organic_linker1_59": 0,
         "organic_linker2_1": 0,
         "organic_linker2_2": 0,
         "organic_linker2_3": 0,
         "organic_linker2_4": 0,
         "organic_linker2_5": 0,
         "organic_linker2_6": 0,
         "organic_linker2_7": 0,
         "organic_linker2_8": 0,
         "organic_linker2_9": 0,
         "organic_linker2_10": 0,
         "organic_linker2_11": 0,
         "organic_linker2_12": 0,
         "organic_linker2_13": 0,
         "organic_linker2_14": 0,
         "organic_linker2_15": 0,
         "organic_linker2_16": 1,
         "organic_linker2_17": 0,
         "organic_linker2_18": 0,
         "organic_linker2_19": 0,
         "organic_linker2_20": 0,
         "organic_linker2_21": 0,
         "organic_linker2_22": 0,
         "organic_linker2_23": 0,
         "organic_linker2_24": 0,
         "organic_linker2_25": 0,
         "organic_linker2_26": 0,
         "organic_linker2_27": 0,
         "organic_linker2_28": 0,
         "organic_linker2_29": 0,
         "organic_linker2_30": 0,
         "organic_linker2_31": 0,
         "organic_linker2_32": 0,
         "organic_linker2_33": 0,
         "organic_linker2_34": 0,
         "organic_linker2_35": 0,
         "organic_linker2_36": 0,
         "organic_linker2_38": 0,
         "organic_linker2_40": 0,
         "organic_linker2_41": 0,
         "organic_linker2_42": 0,
         "organic_linker2_43": 0,
         "organic_linker2_44": 0,
         "organic_linker2_45": 0,
         "organic_linker2_46": 0,
         "organic_linker2_47": 0,
         "organic_linker2_48": 0,
         "organic_linker2_49": 0,
         "organic_linker2_50": 0,
         "organic_linker2_51": 0,
         "organic_linker2_52": 0,
         "organic_linker2_53": 0,
         "organic_linker2_54": 0,
         "organic_linker2_55": 0,
         "organic_linker2_56": 0,
         "organic_linker2_57": 0,
         "organic_linker2_58": 0,
         "organic_linker2_59": 0,
         "density": 2.1617358017910604,
         "_deepnote_index_column": 68612
        }
       ]
      },
      "text/plain": "       volume [A^3]   weight [u]  surface_area [m^2/g]  void_fraction  \\\n0       1116.667429   875.240600              -9999.00        0.07899   \n1       2769.503842  2211.697211                603.61        0.13794   \n2       1089.818728   773.687960                788.50        0.14874   \n3       2205.198301  1304.638720               1441.53        0.21814   \n4       1137.800963   901.736120              -9999.00        0.07778   \n...             ...          ...                   ...            ...   \n68608   1188.302573  1001.700216              -9999.00        0.00000   \n68609   1506.660363  1493.296496              -9999.00        0.01108   \n68610   2035.532738  1959.518320              -9999.00        0.00000   \n68611   3985.426053  3638.677280              -9999.00        0.00000   \n68612   1591.009408  2071.219000              -9999.00        0.01609   \n\n       void_volume [cm^3/g]  organic_linker1  organic_linker2  \\\n0                  0.060690                4               11   \n1                  0.104020               44               57   \n2                  0.126173               22               24   \n3                  0.222046               17               24   \n4                  0.059102                1               22   \n...                     ...              ...              ...   \n68608              0.000000                4               24   \n68609              0.006732               42               46   \n68610              0.000000               14               22   \n68611              0.000000                4               15   \n68612              0.007443                9               16   \n\n       CO2/N2_selectivity  heat_adsorption_CO2_P0.15bar_T298K [kcal/mol]  \\\n0               22.864166                                       6.786041   \n1               33.616780                                       7.147286   \n2               19.263726                                       6.347967   \n3               25.701377                                       6.190085   \n4               30.001838                                       6.478063   \n...                   ...                                            ...   \n68608           24.131770                                   -9999.000000   \n68609            6.071818                                   -9999.000000   \n68610            9.876134                                   -9999.000000   \n68611            5.285051                                  999999.000000   \n68612            2.621272                                  999999.000000   \n\n       _cell_length_a  ...  organic_linker2_51  organic_linker2_52  \\\n0           10.609882  ...                   0                   0   \n1            8.463295  ...                   0                   0   \n2           10.732110  ...                   0                   0   \n3            6.935530  ...                   0                   0   \n4           10.825925  ...                   0                   0   \n...               ...  ...                 ...                 ...   \n68608       10.718161  ...                   0                   0   \n68609        8.192620  ...                   0                   0   \n68610       11.237482  ...                   0                   0   \n68611       19.396341  ...                   0                   0   \n68612       11.049965  ...                   0                   0   \n\n       organic_linker2_53  organic_linker2_54  organic_linker2_55  \\\n0                       0                   0                   0   \n1                       0                   0                   0   \n2                       0                   0                   0   \n3                       0                   0                   0   \n4                       0                   0                   0   \n...                   ...                 ...                 ...   \n68608                   0                   0                   0   \n68609                   0                   0                   0   \n68610                   0                   0                   0   \n68611                   0                   0                   0   \n68612                   0                   0                   0   \n\n       organic_linker2_56  organic_linker2_57  organic_linker2_58  \\\n0                       0                   0                   0   \n1                       0                   1                   0   \n2                       0                   0                   0   \n3                       0                   0                   0   \n4                       0                   0                   0   \n...                   ...                 ...                 ...   \n68608                   0                   0                   0   \n68609                   0                   0                   0   \n68610                   0                   0                   0   \n68611                   0                   0                   0   \n68612                   0                   0                   0   \n\n       organic_linker2_59   density  \n0                       0  1.301526  \n1                       0  1.326090  \n2                       0  1.178856  \n3                       0  0.982408  \n4                       0  1.316020  \n...                   ...       ...  \n68608                   0  1.399781  \n68609                   0  1.645811  \n68610                   0  1.598529  \n68611                   0  1.516066  \n68612                   0  2.161736  \n\n[66715 rows x 155 columns]",
      "text/html": "<div>\n<style scoped>\n    .dataframe tbody tr th:only-of-type {\n        vertical-align: middle;\n    }\n\n    .dataframe tbody tr th {\n        vertical-align: top;\n    }\n\n    .dataframe thead th {\n        text-align: right;\n    }\n</style>\n<table border=\"1\" class=\"dataframe\">\n  <thead>\n    <tr style=\"text-align: right;\">\n      <th></th>\n      <th>volume [A^3]</th>\n      <th>weight [u]</th>\n      <th>surface_area [m^2/g]</th>\n      <th>void_fraction</th>\n      <th>void_volume [cm^3/g]</th>\n      <th>organic_linker1</th>\n      <th>organic_linker2</th>\n      <th>CO2/N2_selectivity</th>\n      <th>heat_adsorption_CO2_P0.15bar_T298K [kcal/mol]</th>\n      <th>_cell_length_a</th>\n      <th>...</th>\n      <th>organic_linker2_51</th>\n      <th>organic_linker2_52</th>\n      <th>organic_linker2_53</th>\n      <th>organic_linker2_54</th>\n      <th>organic_linker2_55</th>\n      <th>organic_linker2_56</th>\n      <th>organic_linker2_57</th>\n      <th>organic_linker2_58</th>\n      <th>organic_linker2_59</th>\n      <th>density</th>\n    </tr>\n  </thead>\n  <tbody>\n    <tr>\n      <th>0</th>\n      <td>1116.667429</td>\n      <td>875.240600</td>\n      <td>-9999.00</td>\n      <td>0.07899</td>\n      <td>0.060690</td>\n      <td>4</td>\n      <td>11</td>\n      <td>22.864166</td>\n      <td>6.786041</td>\n      <td>10.609882</td>\n      <td>...</td>\n      <td>0</td>\n      <td>0</td>\n      <td>0</td>\n      <td>0</td>\n      <td>0</td>\n      <td>0</td>\n      <td>0</td>\n      <td>0</td>\n      <td>0</td>\n      <td>1.301526</td>\n    </tr>\n    <tr>\n      <th>1</th>\n      <td>2769.503842</td>\n      <td>2211.697211</td>\n      <td>603.61</td>\n      <td>0.13794</td>\n      <td>0.104020</td>\n      <td>44</td>\n      <td>57</td>\n      <td>33.616780</td>\n      <td>7.147286</td>\n      <td>8.463295</td>\n      <td>...</td>\n      <td>0</td>\n      <td>0</td>\n      <td>0</td>\n      <td>0</td>\n      <td>0</td>\n      <td>0</td>\n      <td>1</td>\n      <td>0</td>\n      <td>0</td>\n      <td>1.326090</td>\n    </tr>\n    <tr>\n      <th>2</th>\n      <td>1089.818728</td>\n      <td>773.687960</td>\n      <td>788.50</td>\n      <td>0.14874</td>\n      <td>0.126173</td>\n      <td>22</td>\n      <td>24</td>\n      <td>19.263726</td>\n      <td>6.347967</td>\n      <td>10.732110</td>\n      <td>...</td>\n      <td>0</td>\n      <td>0</td>\n      <td>0</td>\n      <td>0</td>\n      <td>0</td>\n      <td>0</td>\n      <td>0</td>\n      <td>0</td>\n      <td>0</td>\n      <td>1.178856</td>\n    </tr>\n    <tr>\n      <th>3</th>\n      <td>2205.198301</td>\n      <td>1304.638720</td>\n      <td>1441.53</td>\n      <td>0.21814</td>\n      <td>0.222046</td>\n      <td>17</td>\n      <td>24</td>\n      <td>25.701377</td>\n      <td>6.190085</td>\n      <td>6.935530</td>\n      <td>...</td>\n      <td>0</td>\n      <td>0</td>\n      <td>0</td>\n      <td>0</td>\n      <td>0</td>\n      <td>0</td>\n      <td>0</td>\n      <td>0</td>\n      <td>0</td>\n      <td>0.982408</td>\n    </tr>\n    <tr>\n      <th>4</th>\n      <td>1137.800963</td>\n      <td>901.736120</td>\n      <td>-9999.00</td>\n      <td>0.07778</td>\n      <td>0.059102</td>\n      <td>1</td>\n      <td>22</td>\n      <td>30.001838</td>\n      <td>6.478063</td>\n      <td>10.825925</td>\n      <td>...</td>\n      <td>0</td>\n      <td>0</td>\n      <td>0</td>\n      <td>0</td>\n      <td>0</td>\n      <td>0</td>\n      <td>0</td>\n      <td>0</td>\n      <td>0</td>\n      <td>1.316020</td>\n    </tr>\n    <tr>\n      <th>...</th>\n      <td>...</td>\n      <td>...</td>\n      <td>...</td>\n      <td>...</td>\n      <td>...</td>\n      <td>...</td>\n      <td>...</td>\n      <td>...</td>\n      <td>...</td>\n      <td>...</td>\n      <td>...</td>\n      <td>...</td>\n      <td>...</td>\n      <td>...</td>\n      <td>...</td>\n      <td>...</td>\n      <td>...</td>\n      <td>...</td>\n      <td>...</td>\n      <td>...</td>\n      <td>...</td>\n    </tr>\n    <tr>\n      <th>68608</th>\n      <td>1188.302573</td>\n      <td>1001.700216</td>\n      <td>-9999.00</td>\n      <td>0.00000</td>\n      <td>0.000000</td>\n      <td>4</td>\n      <td>24</td>\n      <td>24.131770</td>\n      <td>-9999.000000</td>\n      <td>10.718161</td>\n      <td>...</td>\n      <td>0</td>\n      <td>0</td>\n      <td>0</td>\n      <td>0</td>\n      <td>0</td>\n      <td>0</td>\n      <td>0</td>\n      <td>0</td>\n      <td>0</td>\n      <td>1.399781</td>\n    </tr>\n    <tr>\n      <th>68609</th>\n      <td>1506.660363</td>\n      <td>1493.296496</td>\n      <td>-9999.00</td>\n      <td>0.01108</td>\n      <td>0.006732</td>\n      <td>42</td>\n      <td>46</td>\n      <td>6.071818</td>\n      <td>-9999.000000</td>\n      <td>8.192620</td>\n      <td>...</td>\n      <td>0</td>\n      <td>0</td>\n      <td>0</td>\n      <td>0</td>\n      <td>0</td>\n      <td>0</td>\n      <td>0</td>\n      <td>0</td>\n      <td>0</td>\n      <td>1.645811</td>\n    </tr>\n    <tr>\n      <th>68610</th>\n      <td>2035.532738</td>\n      <td>1959.518320</td>\n      <td>-9999.00</td>\n      <td>0.00000</td>\n      <td>0.000000</td>\n      <td>14</td>\n      <td>22</td>\n      <td>9.876134</td>\n      <td>-9999.000000</td>\n      <td>11.237482</td>\n      <td>...</td>\n      <td>0</td>\n      <td>0</td>\n      <td>0</td>\n      <td>0</td>\n      <td>0</td>\n      <td>0</td>\n      <td>0</td>\n      <td>0</td>\n      <td>0</td>\n      <td>1.598529</td>\n    </tr>\n    <tr>\n      <th>68611</th>\n      <td>3985.426053</td>\n      <td>3638.677280</td>\n      <td>-9999.00</td>\n      <td>0.00000</td>\n      <td>0.000000</td>\n      <td>4</td>\n      <td>15</td>\n      <td>5.285051</td>\n      <td>999999.000000</td>\n      <td>19.396341</td>\n      <td>...</td>\n      <td>0</td>\n      <td>0</td>\n      <td>0</td>\n      <td>0</td>\n      <td>0</td>\n      <td>0</td>\n      <td>0</td>\n      <td>0</td>\n      <td>0</td>\n      <td>1.516066</td>\n    </tr>\n    <tr>\n      <th>68612</th>\n      <td>1591.009408</td>\n      <td>2071.219000</td>\n      <td>-9999.00</td>\n      <td>0.01609</td>\n      <td>0.007443</td>\n      <td>9</td>\n      <td>16</td>\n      <td>2.621272</td>\n      <td>999999.000000</td>\n      <td>11.049965</td>\n      <td>...</td>\n      <td>0</td>\n      <td>0</td>\n      <td>0</td>\n      <td>0</td>\n      <td>0</td>\n      <td>0</td>\n      <td>0</td>\n      <td>0</td>\n      <td>0</td>\n      <td>2.161736</td>\n    </tr>\n  </tbody>\n</table>\n<p>66715 rows × 155 columns</p>\n</div>"
     },
     "metadata": {}
    }
   ],
   "execution_count": null
  },
  {
   "cell_type": "code",
   "metadata": {
    "tags": [],
    "deepnote_to_be_reexecuted": false,
    "source_hash": "eb4a6a75",
    "execution_start": 1632712402708,
    "execution_millis": 191,
    "cell_id": "00011-f3458166-ac78-4c32-bcf7-e8c01208d630",
    "deepnote_cell_type": "code"
   },
   "source": "test = TestDataPreprocessingPipeline(\n    Pretest,\n    train.imputer,\n    train.functional_group_extractor,\n    train.X.columns\n)\ntest.organic_linker1 = train.organic_linker1\ntest.organic_linker2 = train.organic_linker2\ntest.topology2num = train.topology2num\ntest.spacegroup2num = train.spacegroup2num\ntest.run()",
   "outputs": [
    {
     "name": "stdout",
     "text": "Print droping and replace null\nImpute\n",
     "output_type": "stream"
    }
   ],
   "execution_count": null
  },
  {
   "cell_type": "code",
   "metadata": {
    "tags": [],
    "deepnote_to_be_reexecuted": false,
    "source_hash": "63a82644",
    "execution_start": 1632712402919,
    "execution_millis": 0,
    "cell_id": "00012-9df219a5-74fc-4023-99c9-1fa8a81bc1ba",
    "deepnote_cell_type": "code"
   },
   "source": "assert all(train.X.columns == test.X.columns)",
   "outputs": [],
   "execution_count": null
  },
  {
   "cell_type": "code",
   "metadata": {
    "tags": [],
    "deepnote_to_be_reexecuted": false,
    "source_hash": "a2a5e9c7",
    "execution_start": 1632712402920,
    "execution_millis": 17,
    "cell_id": "00013-2a94266a-6708-4085-8660-49769f91fefc",
    "deepnote_cell_type": "code"
   },
   "source": "len(train.X.columns)",
   "outputs": [
    {
     "output_type": "execute_result",
     "execution_count": 12,
     "data": {
      "text/plain": "155"
     },
     "metadata": {}
    }
   ],
   "execution_count": null
  },
  {
   "cell_type": "code",
   "metadata": {
    "tags": [],
    "deepnote_to_be_reexecuted": false,
    "source_hash": "60f5a559",
    "execution_start": 1632712402921,
    "execution_millis": 50,
    "cell_id": "00014-55c68af9-b995-41a5-a964-bf0eb21468a9",
    "deepnote_cell_type": "code"
   },
   "source": "1/test.X[train.X.columns][['density']]",
   "outputs": [
    {
     "output_type": "execute_result",
     "execution_count": 13,
     "data": {
      "application/vnd.deepnote.dataframe.v2+json": {
       "row_count": 2000,
       "column_count": 1,
       "columns": [
        {
         "name": "density",
         "dtype": "float64",
         "stats": {
          "unique_count": 2000,
          "nan_count": 0,
          "min": "0.4441881604275172",
          "max": "5.995398507197425",
          "histogram": [
           {
            "bin_start": 0.4441881604275172,
            "bin_end": 0.999309195104508,
            "count": 716
           },
           {
            "bin_start": 0.999309195104508,
            "bin_end": 1.5544302297814987,
            "count": 797
           },
           {
            "bin_start": 1.5544302297814987,
            "bin_end": 2.1095512644584895,
            "count": 248
           },
           {
            "bin_start": 2.1095512644584895,
            "bin_end": 2.6646722991354803,
            "count": 112
           },
           {
            "bin_start": 2.6646722991354803,
            "bin_end": 3.219793333812471,
            "count": 65
           },
           {
            "bin_start": 3.219793333812471,
            "bin_end": 3.774914368489462,
            "count": 28
           },
           {
            "bin_start": 3.774914368489462,
            "bin_end": 4.330035403166453,
            "count": 16
           },
           {
            "bin_start": 4.330035403166453,
            "bin_end": 4.8851564378434436,
            "count": 4
           },
           {
            "bin_start": 4.8851564378434436,
            "bin_end": 5.440277472520434,
            "count": 12
           },
           {
            "bin_start": 5.440277472520434,
            "bin_end": 5.995398507197425,
            "count": 2
           }
          ]
         }
        },
        {
         "name": "_deepnote_index_column",
         "dtype": "int64"
        }
       ],
       "rows_top": [
        {
         "density": 1.666997572553401,
         "_deepnote_index_column": 0
        },
        {
         "density": 1.214610902797537,
         "_deepnote_index_column": 1
        },
        {
         "density": 1.1410069806730878,
         "_deepnote_index_column": 2
        },
        {
         "density": 1.5431444073168121,
         "_deepnote_index_column": 3
        },
        {
         "density": 0.6603753279104085,
         "_deepnote_index_column": 4
        },
        {
         "density": 1.056926213866801,
         "_deepnote_index_column": 5
        },
        {
         "density": 1.0036866306018466,
         "_deepnote_index_column": 6
        },
        {
         "density": 1.3967237556719687,
         "_deepnote_index_column": 7
        },
        {
         "density": 1.7580884218105322,
         "_deepnote_index_column": 8
        },
        {
         "density": 1.0257749758586383,
         "_deepnote_index_column": 9
        },
        {
         "density": 1.2600714482527793,
         "_deepnote_index_column": 10
        },
        {
         "density": 1.264307162099315,
         "_deepnote_index_column": 11
        },
        {
         "density": 1.1325626734925682,
         "_deepnote_index_column": 12
        },
        {
         "density": 0.8046461265662379,
         "_deepnote_index_column": 13
        },
        {
         "density": 0.7121647560113958,
         "_deepnote_index_column": 14
        },
        {
         "density": 1.0683319817658716,
         "_deepnote_index_column": 15
        },
        {
         "density": 1.1913802055986682,
         "_deepnote_index_column": 16
        },
        {
         "density": 1.940500575813734,
         "_deepnote_index_column": 17
        },
        {
         "density": 1.5618347375799067,
         "_deepnote_index_column": 18
        },
        {
         "density": 0.8546930998965044,
         "_deepnote_index_column": 19
        },
        {
         "density": 1.4167224898392676,
         "_deepnote_index_column": 20
        },
        {
         "density": 1.0342525552401056,
         "_deepnote_index_column": 21
        },
        {
         "density": 0.9118318029863691,
         "_deepnote_index_column": 22
        },
        {
         "density": 1.1750246083760079,
         "_deepnote_index_column": 23
        },
        {
         "density": 0.7362484867512197,
         "_deepnote_index_column": 24
        },
        {
         "density": 0.8140746612741436,
         "_deepnote_index_column": 25
        },
        {
         "density": 1.0085955823907855,
         "_deepnote_index_column": 26
        },
        {
         "density": 1.102388374557626,
         "_deepnote_index_column": 27
        },
        {
         "density": 1.3886603906262758,
         "_deepnote_index_column": 28
        },
        {
         "density": 0.9711164264738263,
         "_deepnote_index_column": 29
        },
        {
         "density": 1.230065460032025,
         "_deepnote_index_column": 30
        },
        {
         "density": 1.393271619604657,
         "_deepnote_index_column": 31
        },
        {
         "density": 0.700908133036513,
         "_deepnote_index_column": 32
        },
        {
         "density": 2.1178176588725273,
         "_deepnote_index_column": 33
        },
        {
         "density": 0.8152556895148807,
         "_deepnote_index_column": 34
        },
        {
         "density": 0.86826515290954,
         "_deepnote_index_column": 35
        },
        {
         "density": 0.7145352977043055,
         "_deepnote_index_column": 36
        },
        {
         "density": 1.2020996790370868,
         "_deepnote_index_column": 37
        },
        {
         "density": 1.5903066119036084,
         "_deepnote_index_column": 38
        },
        {
         "density": 1.2327585073480165,
         "_deepnote_index_column": 39
        },
        {
         "density": 0.87058012626885,
         "_deepnote_index_column": 40
        },
        {
         "density": 0.8906887811213977,
         "_deepnote_index_column": 41
        },
        {
         "density": 1.2636536907963074,
         "_deepnote_index_column": 42
        },
        {
         "density": 0.9806577363074532,
         "_deepnote_index_column": 43
        },
        {
         "density": 1.2362162731468604,
         "_deepnote_index_column": 44
        },
        {
         "density": 0.8176051678833292,
         "_deepnote_index_column": 45
        },
        {
         "density": 0.9892879376112518,
         "_deepnote_index_column": 46
        },
        {
         "density": 1.085447012450872,
         "_deepnote_index_column": 47
        },
        {
         "density": 0.7976310708108569,
         "_deepnote_index_column": 48
        },
        {
         "density": 1.47757575149357,
         "_deepnote_index_column": 49
        },
        {
         "density": 1.1541646760292432,
         "_deepnote_index_column": 50
        },
        {
         "density": 0.9229592522131574,
         "_deepnote_index_column": 51
        },
        {
         "density": 1.7931615349370893,
         "_deepnote_index_column": 52
        },
        {
         "density": 0.8070902302955973,
         "_deepnote_index_column": 53
        },
        {
         "density": 1.1734737576813326,
         "_deepnote_index_column": 54
        },
        {
         "density": 1.245179178441951,
         "_deepnote_index_column": 55
        },
        {
         "density": 1.1453235133053747,
         "_deepnote_index_column": 56
        },
        {
         "density": 1.2704121177068814,
         "_deepnote_index_column": 57
        },
        {
         "density": 1.017608714640792,
         "_deepnote_index_column": 58
        },
        {
         "density": 0.9606668445735703,
         "_deepnote_index_column": 59
        },
        {
         "density": 1.0314213415804954,
         "_deepnote_index_column": 60
        },
        {
         "density": 0.9699274978019282,
         "_deepnote_index_column": 61
        },
        {
         "density": 1.2063073281100305,
         "_deepnote_index_column": 62
        },
        {
         "density": 1.3186526833404395,
         "_deepnote_index_column": 63
        },
        {
         "density": 0.7405726818899248,
         "_deepnote_index_column": 64
        },
        {
         "density": 0.7799214922385735,
         "_deepnote_index_column": 65
        },
        {
         "density": 1.0057930028619138,
         "_deepnote_index_column": 66
        },
        {
         "density": 0.78991110302455,
         "_deepnote_index_column": 67
        },
        {
         "density": 0.9851545366512016,
         "_deepnote_index_column": 68
        },
        {
         "density": 0.6594516058199124,
         "_deepnote_index_column": 69
        },
        {
         "density": 1.3981277634312108,
         "_deepnote_index_column": 70
        },
        {
         "density": 1.0535714109222805,
         "_deepnote_index_column": 71
        },
        {
         "density": 1.2152445944149577,
         "_deepnote_index_column": 72
        },
        {
         "density": 0.9852823038496941,
         "_deepnote_index_column": 73
        },
        {
         "density": 0.7095822849892004,
         "_deepnote_index_column": 74
        },
        {
         "density": 0.9713967141068546,
         "_deepnote_index_column": 75
        },
        {
         "density": 0.715086169925052,
         "_deepnote_index_column": 76
        },
        {
         "density": 0.6936699824266449,
         "_deepnote_index_column": 77
        },
        {
         "density": 1.084580478794941,
         "_deepnote_index_column": 78
        },
        {
         "density": 0.8620533729086801,
         "_deepnote_index_column": 79
        },
        {
         "density": 1.0401206922013815,
         "_deepnote_index_column": 80
        },
        {
         "density": 1.787447103165352,
         "_deepnote_index_column": 81
        },
        {
         "density": 1.1907422383561692,
         "_deepnote_index_column": 82
        },
        {
         "density": 0.9614821627955848,
         "_deepnote_index_column": 83
        },
        {
         "density": 0.6373608502291733,
         "_deepnote_index_column": 84
        },
        {
         "density": 1.3169445949803409,
         "_deepnote_index_column": 85
        },
        {
         "density": 0.8811623577612442,
         "_deepnote_index_column": 86
        },
        {
         "density": 0.8282392752979274,
         "_deepnote_index_column": 87
        },
        {
         "density": 1.7913780128278183,
         "_deepnote_index_column": 88
        },
        {
         "density": 0.8959595379051297,
         "_deepnote_index_column": 89
        },
        {
         "density": 1.2268195833085054,
         "_deepnote_index_column": 90
        },
        {
         "density": 0.7050002327110456,
         "_deepnote_index_column": 91
        },
        {
         "density": 0.6504164570903079,
         "_deepnote_index_column": 92
        },
        {
         "density": 0.940002680646527,
         "_deepnote_index_column": 93
        },
        {
         "density": 1.2978784429695207,
         "_deepnote_index_column": 94
        },
        {
         "density": 1.22835216724651,
         "_deepnote_index_column": 95
        },
        {
         "density": 0.5927476868969603,
         "_deepnote_index_column": 96
        },
        {
         "density": 1.2182436272735724,
         "_deepnote_index_column": 97
        },
        {
         "density": 1.11824114184987,
         "_deepnote_index_column": 98
        },
        {
         "density": 1.0238691942670528,
         "_deepnote_index_column": 99
        },
        {
         "density": 0.8644432862106247,
         "_deepnote_index_column": 100
        },
        {
         "density": 1.5547263018844732,
         "_deepnote_index_column": 101
        },
        {
         "density": 0.6960973096076248,
         "_deepnote_index_column": 102
        },
        {
         "density": 0.693035874158302,
         "_deepnote_index_column": 103
        },
        {
         "density": 1.6676846072245048,
         "_deepnote_index_column": 104
        },
        {
         "density": 1.0936890298273674,
         "_deepnote_index_column": 105
        },
        {
         "density": 0.890719052962032,
         "_deepnote_index_column": 106
        },
        {
         "density": 0.7305800403177297,
         "_deepnote_index_column": 107
        },
        {
         "density": 1.5939368579959137,
         "_deepnote_index_column": 108
        },
        {
         "density": 1.2834290842746574,
         "_deepnote_index_column": 109
        },
        {
         "density": 0.7837636111074309,
         "_deepnote_index_column": 110
        },
        {
         "density": 0.7775442002111206,
         "_deepnote_index_column": 111
        },
        {
         "density": 1.0750964090299848,
         "_deepnote_index_column": 112
        },
        {
         "density": 1.1246515606761347,
         "_deepnote_index_column": 113
        },
        {
         "density": 1.074885282217978,
         "_deepnote_index_column": 114
        },
        {
         "density": 0.6514564628206609,
         "_deepnote_index_column": 115
        },
        {
         "density": 1.020256338159052,
         "_deepnote_index_column": 116
        },
        {
         "density": 1.0000109463717273,
         "_deepnote_index_column": 117
        },
        {
         "density": 0.984307149052533,
         "_deepnote_index_column": 118
        },
        {
         "density": 0.838057154094862,
         "_deepnote_index_column": 119
        },
        {
         "density": 1.557548945823784,
         "_deepnote_index_column": 120
        },
        {
         "density": 0.9113920772635727,
         "_deepnote_index_column": 121
        },
        {
         "density": 0.7371058958637361,
         "_deepnote_index_column": 122
        },
        {
         "density": 1.3027606322211827,
         "_deepnote_index_column": 123
        },
        {
         "density": 0.7207415044930224,
         "_deepnote_index_column": 124
        },
        {
         "density": 1.5989177720255008,
         "_deepnote_index_column": 125
        },
        {
         "density": 0.9105913237930172,
         "_deepnote_index_column": 126
        },
        {
         "density": 0.8495744929432254,
         "_deepnote_index_column": 127
        },
        {
         "density": 0.7645656082822214,
         "_deepnote_index_column": 128
        },
        {
         "density": 1.1367261740291732,
         "_deepnote_index_column": 129
        },
        {
         "density": 0.7933840218566242,
         "_deepnote_index_column": 130
        },
        {
         "density": 1.1714419917073582,
         "_deepnote_index_column": 131
        },
        {
         "density": 0.8088455598544254,
         "_deepnote_index_column": 132
        },
        {
         "density": 1.100331665575429,
         "_deepnote_index_column": 133
        },
        {
         "density": 0.690368597285967,
         "_deepnote_index_column": 134
        },
        {
         "density": 0.8095490870061124,
         "_deepnote_index_column": 135
        },
        {
         "density": 1.0045129079165205,
         "_deepnote_index_column": 136
        },
        {
         "density": 0.8376431723839598,
         "_deepnote_index_column": 137
        },
        {
         "density": 1.2756655578381004,
         "_deepnote_index_column": 138
        },
        {
         "density": 1.3530842955352105,
         "_deepnote_index_column": 139
        },
        {
         "density": 0.5835530590522798,
         "_deepnote_index_column": 140
        },
        {
         "density": 1.6559431897232255,
         "_deepnote_index_column": 141
        },
        {
         "density": 1.0844740148696592,
         "_deepnote_index_column": 142
        },
        {
         "density": 1.3495507022091766,
         "_deepnote_index_column": 143
        },
        {
         "density": 1.1867423167475708,
         "_deepnote_index_column": 144
        },
        {
         "density": 1.106709574848017,
         "_deepnote_index_column": 145
        },
        {
         "density": 1.504754052958482,
         "_deepnote_index_column": 146
        },
        {
         "density": 0.7854810887550514,
         "_deepnote_index_column": 147
        },
        {
         "density": 0.8317883759302759,
         "_deepnote_index_column": 148
        },
        {
         "density": 1.1934355632156393,
         "_deepnote_index_column": 149
        },
        {
         "density": 0.8790674282702355,
         "_deepnote_index_column": 150
        },
        {
         "density": 0.995227195580233,
         "_deepnote_index_column": 151
        },
        {
         "density": 1.1245655163843256,
         "_deepnote_index_column": 152
        },
        {
         "density": 0.7190231866378817,
         "_deepnote_index_column": 153
        },
        {
         "density": 1.0774486796231997,
         "_deepnote_index_column": 154
        },
        {
         "density": 0.8579584839640804,
         "_deepnote_index_column": 155
        },
        {
         "density": 1.3294565331594808,
         "_deepnote_index_column": 156
        },
        {
         "density": 0.7619053134356176,
         "_deepnote_index_column": 157
        },
        {
         "density": 1.1240360203982107,
         "_deepnote_index_column": 158
        },
        {
         "density": 0.73530838764269,
         "_deepnote_index_column": 159
        },
        {
         "density": 0.7414717852474028,
         "_deepnote_index_column": 160
        },
        {
         "density": 0.6945802572596625,
         "_deepnote_index_column": 161
        },
        {
         "density": 0.6238625115112185,
         "_deepnote_index_column": 162
        },
        {
         "density": 1.3273392089445046,
         "_deepnote_index_column": 163
        },
        {
         "density": 0.9847951336650042,
         "_deepnote_index_column": 164
        },
        {
         "density": 1.3222488837000406,
         "_deepnote_index_column": 165
        },
        {
         "density": 0.9883437528952251,
         "_deepnote_index_column": 166
        },
        {
         "density": 0.6907254857909364,
         "_deepnote_index_column": 167
        },
        {
         "density": 0.9717836731597137,
         "_deepnote_index_column": 168
        },
        {
         "density": 0.9411899615895892,
         "_deepnote_index_column": 169
        },
        {
         "density": 1.0480686588601011,
         "_deepnote_index_column": 170
        },
        {
         "density": 1.5178011048027997,
         "_deepnote_index_column": 171
        },
        {
         "density": 0.9875351101284268,
         "_deepnote_index_column": 172
        },
        {
         "density": 0.9647468310058017,
         "_deepnote_index_column": 173
        },
        {
         "density": 1.0770027769688966,
         "_deepnote_index_column": 174
        },
        {
         "density": 1.1177780741912304,
         "_deepnote_index_column": 175
        },
        {
         "density": 0.705679491995947,
         "_deepnote_index_column": 176
        },
        {
         "density": 0.8530108498949196,
         "_deepnote_index_column": 177
        },
        {
         "density": 0.9401162897843794,
         "_deepnote_index_column": 178
        },
        {
         "density": 1.0229184692455418,
         "_deepnote_index_column": 179
        },
        {
         "density": 1.1846250621816037,
         "_deepnote_index_column": 180
        },
        {
         "density": 2.1386795445634212,
         "_deepnote_index_column": 181
        },
        {
         "density": 0.8044146907417942,
         "_deepnote_index_column": 182
        },
        {
         "density": 1.0572191147941092,
         "_deepnote_index_column": 183
        },
        {
         "density": 1.282963009155942,
         "_deepnote_index_column": 184
        },
        {
         "density": 0.9236092170349423,
         "_deepnote_index_column": 185
        },
        {
         "density": 1.1872523236869306,
         "_deepnote_index_column": 186
        },
        {
         "density": 1.3635392496660512,
         "_deepnote_index_column": 187
        },
        {
         "density": 1.1225080234577578,
         "_deepnote_index_column": 188
        },
        {
         "density": 0.9357359843337008,
         "_deepnote_index_column": 189
        },
        {
         "density": 1.3579936869660745,
         "_deepnote_index_column": 190
        },
        {
         "density": 1.1493287810448858,
         "_deepnote_index_column": 191
        },
        {
         "density": 1.069612611861556,
         "_deepnote_index_column": 192
        },
        {
         "density": 1.0313717269986276,
         "_deepnote_index_column": 193
        },
        {
         "density": 0.5927988636378377,
         "_deepnote_index_column": 194
        },
        {
         "density": 1.178999510008801,
         "_deepnote_index_column": 195
        },
        {
         "density": 0.9145997443983325,
         "_deepnote_index_column": 196
        },
        {
         "density": 2.2628371394882447,
         "_deepnote_index_column": 197
        },
        {
         "density": 1.2970385238278226,
         "_deepnote_index_column": 198
        },
        {
         "density": 0.9258472514210362,
         "_deepnote_index_column": 199
        },
        {
         "density": 1.709470374139999,
         "_deepnote_index_column": 200
        },
        {
         "density": 1.1581024851608532,
         "_deepnote_index_column": 201
        },
        {
         "density": 1.7174879332723734,
         "_deepnote_index_column": 202
        },
        {
         "density": 1.409819063941156,
         "_deepnote_index_column": 203
        },
        {
         "density": 0.9291525286180221,
         "_deepnote_index_column": 204
        },
        {
         "density": 1.2085224294702008,
         "_deepnote_index_column": 205
        },
        {
         "density": 1.2509212509085537,
         "_deepnote_index_column": 206
        },
        {
         "density": 0.7126965502483112,
         "_deepnote_index_column": 207
        },
        {
         "density": 0.9262664970084545,
         "_deepnote_index_column": 208
        },
        {
         "density": 1.034773284107937,
         "_deepnote_index_column": 209
        },
        {
         "density": 1.29036261063863,
         "_deepnote_index_column": 210
        },
        {
         "density": 1.3189785660573683,
         "_deepnote_index_column": 211
        },
        {
         "density": 1.5412601650319468,
         "_deepnote_index_column": 212
        },
        {
         "density": 0.6508209005162656,
         "_deepnote_index_column": 213
        },
        {
         "density": 1.8368654562537037,
         "_deepnote_index_column": 214
        },
        {
         "density": 1.2061346076450439,
         "_deepnote_index_column": 215
        },
        {
         "density": 1.2447341128040028,
         "_deepnote_index_column": 216
        },
        {
         "density": 1.4154746280767914,
         "_deepnote_index_column": 217
        },
        {
         "density": 0.8349889124829747,
         "_deepnote_index_column": 218
        },
        {
         "density": 0.9241018656640724,
         "_deepnote_index_column": 219
        },
        {
         "density": 1.10456782916234,
         "_deepnote_index_column": 220
        },
        {
         "density": 0.8338198783830911,
         "_deepnote_index_column": 221
        },
        {
         "density": 0.9033580826680275,
         "_deepnote_index_column": 222
        },
        {
         "density": 0.6648690626359227,
         "_deepnote_index_column": 223
        },
        {
         "density": 1.2846256160550702,
         "_deepnote_index_column": 224
        },
        {
         "density": 0.765573071900333,
         "_deepnote_index_column": 225
        },
        {
         "density": 0.7817950863374495,
         "_deepnote_index_column": 226
        },
        {
         "density": 1.2637347615013368,
         "_deepnote_index_column": 227
        },
        {
         "density": 1.1933398858044895,
         "_deepnote_index_column": 228
        },
        {
         "density": 1.1784005103026804,
         "_deepnote_index_column": 229
        },
        {
         "density": 0.9379240190492053,
         "_deepnote_index_column": 230
        },
        {
         "density": 1.326446782530958,
         "_deepnote_index_column": 231
        },
        {
         "density": 1.1486487777542869,
         "_deepnote_index_column": 232
        },
        {
         "density": 1.0465586896797343,
         "_deepnote_index_column": 233
        },
        {
         "density": 0.9555925815516315,
         "_deepnote_index_column": 234
        },
        {
         "density": 0.7898045037775486,
         "_deepnote_index_column": 235
        },
        {
         "density": 1.3579977467917153,
         "_deepnote_index_column": 236
        },
        {
         "density": 1.2261156737587826,
         "_deepnote_index_column": 237
        },
        {
         "density": 0.8934259802603123,
         "_deepnote_index_column": 238
        },
        {
         "density": 1.1462468898576301,
         "_deepnote_index_column": 239
        },
        {
         "density": 1.0908751129810015,
         "_deepnote_index_column": 240
        },
        {
         "density": 0.974258710119294,
         "_deepnote_index_column": 241
        },
        {
         "density": 0.817864699928004,
         "_deepnote_index_column": 242
        },
        {
         "density": 0.5414958013058405,
         "_deepnote_index_column": 243
        },
        {
         "density": 1.1358294125035056,
         "_deepnote_index_column": 244
        },
        {
         "density": 1.3527832292198532,
         "_deepnote_index_column": 245
        },
        {
         "density": 0.9838348957132617,
         "_deepnote_index_column": 246
        },
        {
         "density": 1.6278691181043816,
         "_deepnote_index_column": 247
        },
        {
         "density": 0.9919150387110423,
         "_deepnote_index_column": 248
        },
        {
         "density": 1.5215571902201406,
         "_deepnote_index_column": 249
        },
        {
         "density": 1.2437819430165649,
         "_deepnote_index_column": 250
        },
        {
         "density": 0.9771399136033008,
         "_deepnote_index_column": 251
        },
        {
         "density": 0.9916338176556339,
         "_deepnote_index_column": 252
        },
        {
         "density": 0.6331431327067063,
         "_deepnote_index_column": 253
        },
        {
         "density": 0.9443492935039154,
         "_deepnote_index_column": 254
        },
        {
         "density": 0.8415170055703761,
         "_deepnote_index_column": 255
        },
        {
         "density": 0.8806502480897402,
         "_deepnote_index_column": 256
        },
        {
         "density": 0.7549414333714451,
         "_deepnote_index_column": 257
        },
        {
         "density": 0.8142952716172036,
         "_deepnote_index_column": 258
        },
        {
         "density": 0.8132004875737022,
         "_deepnote_index_column": 259
        },
        {
         "density": 1.3771382882206367,
         "_deepnote_index_column": 260
        },
        {
         "density": 0.8120762551587483,
         "_deepnote_index_column": 261
        },
        {
         "density": 1.2906032897962219,
         "_deepnote_index_column": 262
        },
        {
         "density": 1.4877838755156285,
         "_deepnote_index_column": 263
        },
        {
         "density": 0.8769676895746185,
         "_deepnote_index_column": 264
        },
        {
         "density": 1.1017163847511096,
         "_deepnote_index_column": 265
        },
        {
         "density": 1.6067442984885878,
         "_deepnote_index_column": 266
        },
        {
         "density": 0.8445139428665775,
         "_deepnote_index_column": 267
        },
        {
         "density": 1.454988576522344,
         "_deepnote_index_column": 268
        },
        {
         "density": 0.9872221420052485,
         "_deepnote_index_column": 269
        },
        {
         "density": 0.8942939838620819,
         "_deepnote_index_column": 270
        },
        {
         "density": 0.7531479930324199,
         "_deepnote_index_column": 271
        },
        {
         "density": 0.8277639504539491,
         "_deepnote_index_column": 272
        },
        {
         "density": 0.6654285609507296,
         "_deepnote_index_column": 273
        },
        {
         "density": 0.749366015663079,
         "_deepnote_index_column": 274
        },
        {
         "density": 1.3810329888929025,
         "_deepnote_index_column": 275
        },
        {
         "density": 1.4632623154336093,
         "_deepnote_index_column": 276
        },
        {
         "density": 1.0689874753582058,
         "_deepnote_index_column": 277
        },
        {
         "density": 0.7502193507452556,
         "_deepnote_index_column": 278
        },
        {
         "density": 1.4217433247974767,
         "_deepnote_index_column": 279
        },
        {
         "density": 0.8728793908756943,
         "_deepnote_index_column": 280
        },
        {
         "density": 0.8591766907466538,
         "_deepnote_index_column": 281
        },
        {
         "density": 0.6982304045040751,
         "_deepnote_index_column": 282
        },
        {
         "density": 1.1819218745461875,
         "_deepnote_index_column": 283
        },
        {
         "density": 1.3993686172746924,
         "_deepnote_index_column": 284
        },
        {
         "density": 0.9169367767370777,
         "_deepnote_index_column": 285
        },
        {
         "density": 0.6165156316290549,
         "_deepnote_index_column": 286
        },
        {
         "density": 1.7632119092753604,
         "_deepnote_index_column": 287
        },
        {
         "density": 0.8285123971846127,
         "_deepnote_index_column": 288
        },
        {
         "density": 0.6071685619058302,
         "_deepnote_index_column": 289
        },
        {
         "density": 0.6859047997652955,
         "_deepnote_index_column": 290
        },
        {
         "density": 1.4315566571364688,
         "_deepnote_index_column": 291
        },
        {
         "density": 1.2836285447455706,
         "_deepnote_index_column": 292
        },
        {
         "density": 1.3250962289166788,
         "_deepnote_index_column": 293
        },
        {
         "density": 1.414981023377036,
         "_deepnote_index_column": 294
        },
        {
         "density": 0.762864241299196,
         "_deepnote_index_column": 295
        },
        {
         "density": 1.0571939118490472,
         "_deepnote_index_column": 296
        },
        {
         "density": 0.6592844885287376,
         "_deepnote_index_column": 297
        },
        {
         "density": 0.9457911084386839,
         "_deepnote_index_column": 298
        },
        {
         "density": 1.2205175505751715,
         "_deepnote_index_column": 299
        },
        {
         "density": 0.8181745836060869,
         "_deepnote_index_column": 300
        },
        {
         "density": 1.2835615267273424,
         "_deepnote_index_column": 301
        },
        {
         "density": 0.905155706600195,
         "_deepnote_index_column": 302
        },
        {
         "density": 0.9377507761064157,
         "_deepnote_index_column": 303
        },
        {
         "density": 0.7023721931017893,
         "_deepnote_index_column": 304
        },
        {
         "density": 1.094304827645635,
         "_deepnote_index_column": 305
        },
        {
         "density": 1.5533596166849888,
         "_deepnote_index_column": 306
        },
        {
         "density": 0.9299401108091886,
         "_deepnote_index_column": 307
        },
        {
         "density": 0.7763782696228273,
         "_deepnote_index_column": 308
        },
        {
         "density": 1.115975515509073,
         "_deepnote_index_column": 309
        },
        {
         "density": 1.1499664973130743,
         "_deepnote_index_column": 310
        },
        {
         "density": 1.035037993784938,
         "_deepnote_index_column": 311
        },
        {
         "density": 1.2171364994449303,
         "_deepnote_index_column": 312
        },
        {
         "density": 1.0805636410049155,
         "_deepnote_index_column": 313
        },
        {
         "density": 1.0619241943445301,
         "_deepnote_index_column": 314
        },
        {
         "density": 0.7085622595513843,
         "_deepnote_index_column": 315
        },
        {
         "density": 1.5403932445076731,
         "_deepnote_index_column": 316
        },
        {
         "density": 1.3885587149643732,
         "_deepnote_index_column": 317
        },
        {
         "density": 0.764563281573356,
         "_deepnote_index_column": 318
        },
        {
         "density": 0.7571444418326121,
         "_deepnote_index_column": 319
        },
        {
         "density": 1.1192665778186344,
         "_deepnote_index_column": 320
        },
        {
         "density": 1.3458040459416807,
         "_deepnote_index_column": 321
        },
        {
         "density": 1.2989171483565638,
         "_deepnote_index_column": 322
        },
        {
         "density": 0.720870649775069,
         "_deepnote_index_column": 323
        },
        {
         "density": 1.349702321933469,
         "_deepnote_index_column": 324
        },
        {
         "density": 1.35197788573715,
         "_deepnote_index_column": 325
        },
        {
         "density": 0.7384629832789721,
         "_deepnote_index_column": 326
        },
        {
         "density": 0.8703609098128252,
         "_deepnote_index_column": 327
        },
        {
         "density": 1.352529503286386,
         "_deepnote_index_column": 328
        },
        {
         "density": 1.7933140089567077,
         "_deepnote_index_column": 329
        },
        {
         "density": 0.8637223925556775,
         "_deepnote_index_column": 330
        },
        {
         "density": 0.6746484633780473,
         "_deepnote_index_column": 331
        },
        {
         "density": 0.9436038289597852,
         "_deepnote_index_column": 332
        },
        {
         "density": 0.7324925081589372,
         "_deepnote_index_column": 333
        },
        {
         "density": 1.6010460251265144,
         "_deepnote_index_column": 334
        },
        {
         "density": 1.3437234482428018,
         "_deepnote_index_column": 335
        },
        {
         "density": 1.2278326943885907,
         "_deepnote_index_column": 336
        },
        {
         "density": 0.7659743606045123,
         "_deepnote_index_column": 337
        },
        {
         "density": 1.0372371600486825,
         "_deepnote_index_column": 338
        },
        {
         "density": 1.0587724354843266,
         "_deepnote_index_column": 339
        },
        {
         "density": 1.4170549858691535,
         "_deepnote_index_column": 340
        },
        {
         "density": 1.3963807291585422,
         "_deepnote_index_column": 341
        },
        {
         "density": 1.1795769902091164,
         "_deepnote_index_column": 342
        },
        {
         "density": 0.8806621561141602,
         "_deepnote_index_column": 343
        },
        {
         "density": 1.0162796286008429,
         "_deepnote_index_column": 344
        },
        {
         "density": 1.1236175653669913,
         "_deepnote_index_column": 345
        },
        {
         "density": 0.6954676427598935,
         "_deepnote_index_column": 346
        },
        {
         "density": 0.8148101414560966,
         "_deepnote_index_column": 347
        },
        {
         "density": 1.5840388704048867,
         "_deepnote_index_column": 348
        },
        {
         "density": 0.8665321607778949,
         "_deepnote_index_column": 349
        },
        {
         "density": 0.5759661778503393,
         "_deepnote_index_column": 350
        },
        {
         "density": 1.1997432767210128,
         "_deepnote_index_column": 351
        },
        {
         "density": 1.5227656420433227,
         "_deepnote_index_column": 352
        },
        {
         "density": 0.7307411848932203,
         "_deepnote_index_column": 353
        },
        {
         "density": 1.2617582560469536,
         "_deepnote_index_column": 354
        },
        {
         "density": 1.0050081306743972,
         "_deepnote_index_column": 355
        },
        {
         "density": 1.1545990838879385,
         "_deepnote_index_column": 356
        },
        {
         "density": 0.9100710227399843,
         "_deepnote_index_column": 357
        },
        {
         "density": 0.9816739947978622,
         "_deepnote_index_column": 358
        },
        {
         "density": 0.9880182969760578,
         "_deepnote_index_column": 359
        },
        {
         "density": 1.1915605802874032,
         "_deepnote_index_column": 360
        },
        {
         "density": 1.3840418171667952,
         "_deepnote_index_column": 361
        },
        {
         "density": 0.725879472711195,
         "_deepnote_index_column": 362
        },
        {
         "density": 1.307893603778894,
         "_deepnote_index_column": 363
        },
        {
         "density": 1.22673580092561,
         "_deepnote_index_column": 364
        },
        {
         "density": 1.0581399579855864,
         "_deepnote_index_column": 365
        },
        {
         "density": 0.8560993070893694,
         "_deepnote_index_column": 366
        },
        {
         "density": 1.390506081216778,
         "_deepnote_index_column": 367
        },
        {
         "density": 0.8770934545297888,
         "_deepnote_index_column": 368
        },
        {
         "density": 0.9172282182140871,
         "_deepnote_index_column": 369
        },
        {
         "density": 0.907169836519342,
         "_deepnote_index_column": 370
        },
        {
         "density": 1.0186947363786347,
         "_deepnote_index_column": 371
        },
        {
         "density": 0.9515482752245917,
         "_deepnote_index_column": 372
        },
        {
         "density": 1.1885721127069657,
         "_deepnote_index_column": 373
        },
        {
         "density": 1.1623135212830151,
         "_deepnote_index_column": 374
        },
        {
         "density": 0.7388587341916697,
         "_deepnote_index_column": 375
        },
        {
         "density": 0.7053629044212469,
         "_deepnote_index_column": 376
        },
        {
         "density": 1.115996225923305,
         "_deepnote_index_column": 377
        },
        {
         "density": 1.3613315264607226,
         "_deepnote_index_column": 378
        },
        {
         "density": 1.3086765038531867,
         "_deepnote_index_column": 379
        },
        {
         "density": 1.698515605340526,
         "_deepnote_index_column": 380
        },
        {
         "density": 0.8574868174891502,
         "_deepnote_index_column": 381
        },
        {
         "density": 1.0142167111670353,
         "_deepnote_index_column": 382
        },
        {
         "density": 0.8251539553363336,
         "_deepnote_index_column": 383
        },
        {
         "density": 1.3587047114800828,
         "_deepnote_index_column": 384
        },
        {
         "density": 1.2938474154929855,
         "_deepnote_index_column": 385
        },
        {
         "density": 0.7939427388796911,
         "_deepnote_index_column": 386
        },
        {
         "density": 0.7093228623839769,
         "_deepnote_index_column": 387
        },
        {
         "density": 0.8629209614688855,
         "_deepnote_index_column": 388
        },
        {
         "density": 1.5333527229616364,
         "_deepnote_index_column": 389
        },
        {
         "density": 1.6455828229668423,
         "_deepnote_index_column": 390
        },
        {
         "density": 1.254870188163995,
         "_deepnote_index_column": 391
        },
        {
         "density": 1.628790102053458,
         "_deepnote_index_column": 392
        },
        {
         "density": 0.9797556311181119,
         "_deepnote_index_column": 393
        },
        {
         "density": 1.0223719419858721,
         "_deepnote_index_column": 394
        },
        {
         "density": 0.707111184240441,
         "_deepnote_index_column": 395
        },
        {
         "density": 0.8777652186421527,
         "_deepnote_index_column": 396
        },
        {
         "density": 0.705679713598928,
         "_deepnote_index_column": 397
        },
        {
         "density": 1.3665299979559282,
         "_deepnote_index_column": 398
        },
        {
         "density": 1.1251430243738776,
         "_deepnote_index_column": 399
        },
        {
         "density": 0.7384092822628571,
         "_deepnote_index_column": 400
        },
        {
         "density": 1.4255773933424465,
         "_deepnote_index_column": 401
        },
        {
         "density": 1.0479812604492698,
         "_deepnote_index_column": 402
        },
        {
         "density": 1.0043477128818639,
         "_deepnote_index_column": 403
        },
        {
         "density": 0.9006774920087971,
         "_deepnote_index_column": 404
        },
        {
         "density": 1.0752843700673336,
         "_deepnote_index_column": 405
        },
        {
         "density": 1.2005614591986373,
         "_deepnote_index_column": 406
        },
        {
         "density": 0.6339157634734655,
         "_deepnote_index_column": 407
        },
        {
         "density": 0.985467224148303,
         "_deepnote_index_column": 408
        },
        {
         "density": 0.6583353026220565,
         "_deepnote_index_column": 409
        },
        {
         "density": 0.9970388838566951,
         "_deepnote_index_column": 410
        },
        {
         "density": 1.160103262782576,
         "_deepnote_index_column": 411
        },
        {
         "density": 0.7823987097350688,
         "_deepnote_index_column": 412
        },
        {
         "density": 0.8958969630100088,
         "_deepnote_index_column": 413
        },
        {
         "density": 1.133053456343596,
         "_deepnote_index_column": 414
        },
        {
         "density": 1.136783530576245,
         "_deepnote_index_column": 415
        },
        {
         "density": 1.2138713999020487,
         "_deepnote_index_column": 416
        },
        {
         "density": 0.8362954576221414,
         "_deepnote_index_column": 417
        },
        {
         "density": 0.7759558840345695,
         "_deepnote_index_column": 418
        },
        {
         "density": 1.1551944655932165,
         "_deepnote_index_column": 419
        },
        {
         "density": 1.1162817814438415,
         "_deepnote_index_column": 420
        },
        {
         "density": 1.1875263302668944,
         "_deepnote_index_column": 421
        },
        {
         "density": 1.3051613956722075,
         "_deepnote_index_column": 422
        },
        {
         "density": 0.7865423656603161,
         "_deepnote_index_column": 423
        },
        {
         "density": 0.7730656016752797,
         "_deepnote_index_column": 424
        },
        {
         "density": 0.9742991650756371,
         "_deepnote_index_column": 425
        },
        {
         "density": 0.8083387203115581,
         "_deepnote_index_column": 426
        },
        {
         "density": 1.2326046115358547,
         "_deepnote_index_column": 427
        },
        {
         "density": 0.9544618824116162,
         "_deepnote_index_column": 428
        },
        {
         "density": 0.9369706211919631,
         "_deepnote_index_column": 429
        },
        {
         "density": 0.8729673993585182,
         "_deepnote_index_column": 430
        },
        {
         "density": 0.9841681076778857,
         "_deepnote_index_column": 431
        },
        {
         "density": 0.764136780944927,
         "_deepnote_index_column": 432
        },
        {
         "density": 0.9416115424247667,
         "_deepnote_index_column": 433
        },
        {
         "density": 1.3513217196539178,
         "_deepnote_index_column": 434
        },
        {
         "density": 1.3103682807977872,
         "_deepnote_index_column": 435
        },
        {
         "density": 1.2276456107749956,
         "_deepnote_index_column": 436
        },
        {
         "density": 1.218679300924076,
         "_deepnote_index_column": 437
        },
        {
         "density": 0.8741432009556458,
         "_deepnote_index_column": 438
        },
        {
         "density": 1.0368372745426264,
         "_deepnote_index_column": 439
        },
        {
         "density": 0.7001353727801567,
         "_deepnote_index_column": 440
        },
        {
         "density": 0.7760756276816255,
         "_deepnote_index_column": 441
        },
        {
         "density": 0.788572645653326,
         "_deepnote_index_column": 442
        },
        {
         "density": 2.2926810414064986,
         "_deepnote_index_column": 443
        },
        {
         "density": 0.9278741780681188,
         "_deepnote_index_column": 444
        },
        {
         "density": 1.6464540335189415,
         "_deepnote_index_column": 445
        },
        {
         "density": 0.5575631155240771,
         "_deepnote_index_column": 446
        },
        {
         "density": 0.8639011943171117,
         "_deepnote_index_column": 447
        },
        {
         "density": 1.2843176498199778,
         "_deepnote_index_column": 448
        },
        {
         "density": 1.270170655064055,
         "_deepnote_index_column": 449
        },
        {
         "density": 0.8921836663407138,
         "_deepnote_index_column": 450
        },
        {
         "density": 1.4182152149572989,
         "_deepnote_index_column": 451
        },
        {
         "density": 1.0779510840097097,
         "_deepnote_index_column": 452
        },
        {
         "density": 1.134593384452392,
         "_deepnote_index_column": 453
        },
        {
         "density": 0.7997695331209718,
         "_deepnote_index_column": 454
        },
        {
         "density": 1.2195572302462838,
         "_deepnote_index_column": 455
        },
        {
         "density": 1.3444499378128014,
         "_deepnote_index_column": 456
        },
        {
         "density": 1.0434917007573115,
         "_deepnote_index_column": 457
        },
        {
         "density": 1.140650586745525,
         "_deepnote_index_column": 458
        },
        {
         "density": 0.981822468011615,
         "_deepnote_index_column": 459
        },
        {
         "density": 1.2699231415406438,
         "_deepnote_index_column": 460
        },
        {
         "density": 0.9008517304049726,
         "_deepnote_index_column": 461
        },
        {
         "density": 0.508849719390152,
         "_deepnote_index_column": 462
        },
        {
         "density": 0.7910750285661102,
         "_deepnote_index_column": 463
        },
        {
         "density": 1.0140587500246159,
         "_deepnote_index_column": 464
        },
        {
         "density": 1.1593834297370398,
         "_deepnote_index_column": 465
        },
        {
         "density": 1.3778470525039022,
         "_deepnote_index_column": 466
        },
        {
         "density": 0.8623644105696374,
         "_deepnote_index_column": 467
        },
        {
         "density": 0.9773692949837124,
         "_deepnote_index_column": 468
        },
        {
         "density": 0.8869993197427396,
         "_deepnote_index_column": 469
        },
        {
         "density": 0.8338197070323803,
         "_deepnote_index_column": 470
        },
        {
         "density": 0.7699393989380565,
         "_deepnote_index_column": 471
        },
        {
         "density": 0.9435034782572841,
         "_deepnote_index_column": 472
        },
        {
         "density": 0.7273726160287706,
         "_deepnote_index_column": 473
        },
        {
         "density": 0.9357846908912275,
         "_deepnote_index_column": 474
        },
        {
         "density": 1.000517564371993,
         "_deepnote_index_column": 475
        },
        {
         "density": 1.0305712785097871,
         "_deepnote_index_column": 476
        },
        {
         "density": 1.6607063462409748,
         "_deepnote_index_column": 477
        },
        {
         "density": 0.8947151418631685,
         "_deepnote_index_column": 478
        },
        {
         "density": 0.6852290279798403,
         "_deepnote_index_column": 479
        },
        {
         "density": 0.8297759089302926,
         "_deepnote_index_column": 480
        },
        {
         "density": 0.8009914838983783,
         "_deepnote_index_column": 481
        },
        {
         "density": 0.673913249678512,
         "_deepnote_index_column": 482
        },
        {
         "density": 0.8834008181799684,
         "_deepnote_index_column": 483
        },
        {
         "density": 1.128867688481812,
         "_deepnote_index_column": 484
        },
        {
         "density": 1.4346711660191385,
         "_deepnote_index_column": 485
        },
        {
         "density": 0.8570719946451343,
         "_deepnote_index_column": 486
        },
        {
         "density": 0.9085549369008714,
         "_deepnote_index_column": 487
        },
        {
         "density": 0.4441881604275172,
         "_deepnote_index_column": 488
        },
        {
         "density": 0.6252738410509765,
         "_deepnote_index_column": 489
        },
        {
         "density": 0.9868783373737726,
         "_deepnote_index_column": 490
        },
        {
         "density": 1.4307521817469733,
         "_deepnote_index_column": 491
        },
        {
         "density": 1.5002809947922908,
         "_deepnote_index_column": 492
        },
        {
         "density": 0.7731727919403604,
         "_deepnote_index_column": 493
        },
        {
         "density": 1.3256705092689987,
         "_deepnote_index_column": 494
        },
        {
         "density": 0.9918185504772181,
         "_deepnote_index_column": 495
        },
        {
         "density": 1.6402396404240482,
         "_deepnote_index_column": 496
        },
        {
         "density": 1.0751964464839083,
         "_deepnote_index_column": 497
        },
        {
         "density": 0.9588984522393197,
         "_deepnote_index_column": 498
        },
        {
         "density": 1.4942405324992716,
         "_deepnote_index_column": 499
        }
       ],
       "rows_bottom": [
        {
         "density": 1.5367652726175005,
         "_deepnote_index_column": 1500
        },
        {
         "density": 1.720269430253394,
         "_deepnote_index_column": 1501
        },
        {
         "density": 3.5246919666715466,
         "_deepnote_index_column": 1502
        },
        {
         "density": 1.3267862068724383,
         "_deepnote_index_column": 1503
        },
        {
         "density": 2.8868979110454096,
         "_deepnote_index_column": 1504
        },
        {
         "density": 2.637048784469573,
         "_deepnote_index_column": 1505
        },
        {
         "density": 2.7311436536299434,
         "_deepnote_index_column": 1506
        },
        {
         "density": 3.25433086257749,
         "_deepnote_index_column": 1507
        },
        {
         "density": 1.7672047932790123,
         "_deepnote_index_column": 1508
        },
        {
         "density": 2.1500843405371053,
         "_deepnote_index_column": 1509
        },
        {
         "density": 1.7320662228231547,
         "_deepnote_index_column": 1510
        },
        {
         "density": 1.4744277101904193,
         "_deepnote_index_column": 1511
        },
        {
         "density": 1.5245412168635029,
         "_deepnote_index_column": 1512
        },
        {
         "density": 3.6698285404076056,
         "_deepnote_index_column": 1513
        },
        {
         "density": 1.216852713175591,
         "_deepnote_index_column": 1514
        },
        {
         "density": 2.1346204873287693,
         "_deepnote_index_column": 1515
        },
        {
         "density": 3.071339109752916,
         "_deepnote_index_column": 1516
        },
        {
         "density": 1.0954177758022798,
         "_deepnote_index_column": 1517
        },
        {
         "density": 2.042025066828011,
         "_deepnote_index_column": 1518
        },
        {
         "density": 1.6148443862994533,
         "_deepnote_index_column": 1519
        },
        {
         "density": 1.835160153849187,
         "_deepnote_index_column": 1520
        },
        {
         "density": 1.626822677621637,
         "_deepnote_index_column": 1521
        },
        {
         "density": 1.6535944952863342,
         "_deepnote_index_column": 1522
        },
        {
         "density": 2.3877591104061993,
         "_deepnote_index_column": 1523
        },
        {
         "density": 1.314580854933232,
         "_deepnote_index_column": 1524
        },
        {
         "density": 1.2492549491957736,
         "_deepnote_index_column": 1525
        },
        {
         "density": 0.8004254083177453,
         "_deepnote_index_column": 1526
        },
        {
         "density": 2.14687058065741,
         "_deepnote_index_column": 1527
        },
        {
         "density": 2.406946892887288,
         "_deepnote_index_column": 1528
        },
        {
         "density": 0.6302677160900167,
         "_deepnote_index_column": 1529
        },
        {
         "density": 1.2796507427892123,
         "_deepnote_index_column": 1530
        },
        {
         "density": 2.2467515949812453,
         "_deepnote_index_column": 1531
        },
        {
         "density": 2.4260915087888595,
         "_deepnote_index_column": 1532
        },
        {
         "density": 2.353919900110423,
         "_deepnote_index_column": 1533
        },
        {
         "density": 2.720211488639826,
         "_deepnote_index_column": 1534
        },
        {
         "density": 4.198054711630276,
         "_deepnote_index_column": 1535
        },
        {
         "density": 1.6152075539977697,
         "_deepnote_index_column": 1536
        },
        {
         "density": 2.1012000902064076,
         "_deepnote_index_column": 1537
        },
        {
         "density": 1.6525003716770263,
         "_deepnote_index_column": 1538
        },
        {
         "density": 1.7882042162946743,
         "_deepnote_index_column": 1539
        },
        {
         "density": 1.4035303460911421,
         "_deepnote_index_column": 1540
        },
        {
         "density": 1.7929223001206827,
         "_deepnote_index_column": 1541
        },
        {
         "density": 1.545452251866623,
         "_deepnote_index_column": 1542
        },
        {
         "density": 4.108147638554693,
         "_deepnote_index_column": 1543
        },
        {
         "density": 3.248214300627958,
         "_deepnote_index_column": 1544
        },
        {
         "density": 1.4823241099426727,
         "_deepnote_index_column": 1545
        },
        {
         "density": 2.592951014155989,
         "_deepnote_index_column": 1546
        },
        {
         "density": 1.8021208481811735,
         "_deepnote_index_column": 1547
        },
        {
         "density": 2.7576143156864443,
         "_deepnote_index_column": 1548
        },
        {
         "density": 1.449267907352714,
         "_deepnote_index_column": 1549
        },
        {
         "density": 1.8823639113486919,
         "_deepnote_index_column": 1550
        },
        {
         "density": 2.094005343790795,
         "_deepnote_index_column": 1551
        },
        {
         "density": 5.036932724778778,
         "_deepnote_index_column": 1552
        },
        {
         "density": 4.247208236339083,
         "_deepnote_index_column": 1553
        },
        {
         "density": 1.924021594827555,
         "_deepnote_index_column": 1554
        },
        {
         "density": 2.4203102121703903,
         "_deepnote_index_column": 1555
        },
        {
         "density": 1.6804241494919079,
         "_deepnote_index_column": 1556
        },
        {
         "density": 0.9784552990728288,
         "_deepnote_index_column": 1557
        },
        {
         "density": 2.2026320727918747,
         "_deepnote_index_column": 1558
        },
        {
         "density": 1.9555393352059922,
         "_deepnote_index_column": 1559
        },
        {
         "density": 2.041473227572423,
         "_deepnote_index_column": 1560
        },
        {
         "density": 1.273953161375442,
         "_deepnote_index_column": 1561
        },
        {
         "density": 1.6501479746855245,
         "_deepnote_index_column": 1562
        },
        {
         "density": 1.4879130615481293,
         "_deepnote_index_column": 1563
        },
        {
         "density": 2.571637521651915,
         "_deepnote_index_column": 1564
        },
        {
         "density": 1.6196593753689634,
         "_deepnote_index_column": 1565
        },
        {
         "density": 0.47919093394032325,
         "_deepnote_index_column": 1566
        },
        {
         "density": 2.563455031164119,
         "_deepnote_index_column": 1567
        },
        {
         "density": 0.8144902215794089,
         "_deepnote_index_column": 1568
        },
        {
         "density": 1.7196897516016625,
         "_deepnote_index_column": 1569
        },
        {
         "density": 1.9635650493986616,
         "_deepnote_index_column": 1570
        },
        {
         "density": 2.0223985335685546,
         "_deepnote_index_column": 1571
        },
        {
         "density": 2.895012730012961,
         "_deepnote_index_column": 1572
        },
        {
         "density": 2.2859915670906856,
         "_deepnote_index_column": 1573
        },
        {
         "density": 3.0235158100032793,
         "_deepnote_index_column": 1574
        },
        {
         "density": 2.992204678995684,
         "_deepnote_index_column": 1575
        },
        {
         "density": 1.0755570989585674,
         "_deepnote_index_column": 1576
        },
        {
         "density": 0.7767565018203197,
         "_deepnote_index_column": 1577
        },
        {
         "density": 2.21405490163,
         "_deepnote_index_column": 1578
        },
        {
         "density": 2.224642581637321,
         "_deepnote_index_column": 1579
        },
        {
         "density": 2.972765703931795,
         "_deepnote_index_column": 1580
        },
        {
         "density": 3.146584718244355,
         "_deepnote_index_column": 1581
        },
        {
         "density": 2.0023023836204032,
         "_deepnote_index_column": 1582
        },
        {
         "density": 2.174487586511036,
         "_deepnote_index_column": 1583
        },
        {
         "density": 1.7925846111621322,
         "_deepnote_index_column": 1584
        },
        {
         "density": 2.699567719618164,
         "_deepnote_index_column": 1585
        },
        {
         "density": 2.112659333146614,
         "_deepnote_index_column": 1586
        },
        {
         "density": 1.6806323739172178,
         "_deepnote_index_column": 1587
        },
        {
         "density": 2.8563357729101315,
         "_deepnote_index_column": 1588
        },
        {
         "density": 3.7596536014615025,
         "_deepnote_index_column": 1589
        },
        {
         "density": 0.9365728803188738,
         "_deepnote_index_column": 1590
        },
        {
         "density": 3.6337024855819737,
         "_deepnote_index_column": 1591
        },
        {
         "density": 1.1446274823838147,
         "_deepnote_index_column": 1592
        },
        {
         "density": 1.9605135661701942,
         "_deepnote_index_column": 1593
        },
        {
         "density": 1.1084420605645104,
         "_deepnote_index_column": 1594
        },
        {
         "density": 2.961611081681886,
         "_deepnote_index_column": 1595
        },
        {
         "density": 1.6608172524756315,
         "_deepnote_index_column": 1596
        },
        {
         "density": 2.437631715926809,
         "_deepnote_index_column": 1597
        },
        {
         "density": 3.520578653295163,
         "_deepnote_index_column": 1598
        },
        {
         "density": 2.2282140334038307,
         "_deepnote_index_column": 1599
        },
        {
         "density": 1.278391582622574,
         "_deepnote_index_column": 1600
        },
        {
         "density": 1.2732370690184052,
         "_deepnote_index_column": 1601
        },
        {
         "density": 2.319196679254275,
         "_deepnote_index_column": 1602
        },
        {
         "density": 5.177179721159652,
         "_deepnote_index_column": 1603
        },
        {
         "density": 2.1454837590528486,
         "_deepnote_index_column": 1604
        },
        {
         "density": 0.7613597169895502,
         "_deepnote_index_column": 1605
        },
        {
         "density": 2.6157152713255982,
         "_deepnote_index_column": 1606
        },
        {
         "density": 2.350591176813421,
         "_deepnote_index_column": 1607
        },
        {
         "density": 2.2798485216436015,
         "_deepnote_index_column": 1608
        },
        {
         "density": 2.392730686259536,
         "_deepnote_index_column": 1609
        },
        {
         "density": 1.262094622902348,
         "_deepnote_index_column": 1610
        },
        {
         "density": 2.0879911597365015,
         "_deepnote_index_column": 1611
        },
        {
         "density": 2.032636189067324,
         "_deepnote_index_column": 1612
        },
        {
         "density": 1.8548974855986797,
         "_deepnote_index_column": 1613
        },
        {
         "density": 4.727229337144622,
         "_deepnote_index_column": 1614
        },
        {
         "density": 2.4479725956222724,
         "_deepnote_index_column": 1615
        },
        {
         "density": 4.111682279312737,
         "_deepnote_index_column": 1616
        },
        {
         "density": 4.167000225439301,
         "_deepnote_index_column": 1617
        },
        {
         "density": 5.0775874502306175,
         "_deepnote_index_column": 1618
        },
        {
         "density": 2.396393548991146,
         "_deepnote_index_column": 1619
        },
        {
         "density": 1.95535524790643,
         "_deepnote_index_column": 1620
        },
        {
         "density": 3.1162282836459765,
         "_deepnote_index_column": 1621
        },
        {
         "density": 2.3989589477184716,
         "_deepnote_index_column": 1622
        },
        {
         "density": 2.5864484417332085,
         "_deepnote_index_column": 1623
        },
        {
         "density": 1.6653957243503337,
         "_deepnote_index_column": 1624
        },
        {
         "density": 1.3666022351069544,
         "_deepnote_index_column": 1625
        },
        {
         "density": 2.5052128353425265,
         "_deepnote_index_column": 1626
        },
        {
         "density": 2.017670134504163,
         "_deepnote_index_column": 1627
        },
        {
         "density": 3.6695000919388345,
         "_deepnote_index_column": 1628
        },
        {
         "density": 2.3234395731537827,
         "_deepnote_index_column": 1629
        },
        {
         "density": 3.7535660045696213,
         "_deepnote_index_column": 1630
        },
        {
         "density": 1.434236264157669,
         "_deepnote_index_column": 1631
        },
        {
         "density": 1.6490366979044566,
         "_deepnote_index_column": 1632
        },
        {
         "density": 1.834829158503613,
         "_deepnote_index_column": 1633
        },
        {
         "density": 0.7156287642570253,
         "_deepnote_index_column": 1634
        },
        {
         "density": 1.452464566903718,
         "_deepnote_index_column": 1635
        },
        {
         "density": 2.346724600477274,
         "_deepnote_index_column": 1636
        },
        {
         "density": 4.259833942048289,
         "_deepnote_index_column": 1637
        },
        {
         "density": 2.0662695104815314,
         "_deepnote_index_column": 1638
        },
        {
         "density": 1.436740313629872,
         "_deepnote_index_column": 1639
        },
        {
         "density": 2.012665395821232,
         "_deepnote_index_column": 1640
        },
        {
         "density": 0.8262547285938022,
         "_deepnote_index_column": 1641
        },
        {
         "density": 1.2403613521344619,
         "_deepnote_index_column": 1642
        },
        {
         "density": 1.9888184136825133,
         "_deepnote_index_column": 1643
        },
        {
         "density": 1.7192381191585941,
         "_deepnote_index_column": 1644
        },
        {
         "density": 1.6205892538606563,
         "_deepnote_index_column": 1645
        },
        {
         "density": 2.5743704622933894,
         "_deepnote_index_column": 1646
        },
        {
         "density": 2.3935984514271,
         "_deepnote_index_column": 1647
        },
        {
         "density": 5.044004416942412,
         "_deepnote_index_column": 1648
        },
        {
         "density": 2.882523059061281,
         "_deepnote_index_column": 1649
        },
        {
         "density": 1.5239293834259922,
         "_deepnote_index_column": 1650
        },
        {
         "density": 2.7001823074890403,
         "_deepnote_index_column": 1651
        },
        {
         "density": 2.042520287444365,
         "_deepnote_index_column": 1652
        },
        {
         "density": 2.1246013244528617,
         "_deepnote_index_column": 1653
        },
        {
         "density": 2.0530130633683226,
         "_deepnote_index_column": 1654
        },
        {
         "density": 1.690243540608165,
         "_deepnote_index_column": 1655
        },
        {
         "density": 2.7136179586666103,
         "_deepnote_index_column": 1656
        },
        {
         "density": 1.9468353951363537,
         "_deepnote_index_column": 1657
        },
        {
         "density": 1.6264514679965008,
         "_deepnote_index_column": 1658
        },
        {
         "density": 2.887429530117582,
         "_deepnote_index_column": 1659
        },
        {
         "density": 1.2911640662386403,
         "_deepnote_index_column": 1660
        },
        {
         "density": 2.8762478343158557,
         "_deepnote_index_column": 1661
        },
        {
         "density": 3.560052472286091,
         "_deepnote_index_column": 1662
        },
        {
         "density": 2.9578289649872764,
         "_deepnote_index_column": 1663
        },
        {
         "density": 1.2327276041446973,
         "_deepnote_index_column": 1664
        },
        {
         "density": 4.252257645191349,
         "_deepnote_index_column": 1665
        },
        {
         "density": 1.6208003411787477,
         "_deepnote_index_column": 1666
        },
        {
         "density": 2.429821390059257,
         "_deepnote_index_column": 1667
        },
        {
         "density": 1.2826767867069226,
         "_deepnote_index_column": 1668
        },
        {
         "density": 3.658301377134867,
         "_deepnote_index_column": 1669
        },
        {
         "density": 3.1874763485446724,
         "_deepnote_index_column": 1670
        },
        {
         "density": 2.2061637797126505,
         "_deepnote_index_column": 1671
        },
        {
         "density": 2.4176428433115498,
         "_deepnote_index_column": 1672
        },
        {
         "density": 1.6800690297991165,
         "_deepnote_index_column": 1673
        },
        {
         "density": 3.3162629067939458,
         "_deepnote_index_column": 1674
        },
        {
         "density": 2.866567105271296,
         "_deepnote_index_column": 1675
        },
        {
         "density": 2.4753013992460686,
         "_deepnote_index_column": 1676
        },
        {
         "density": 2.0076461940010364,
         "_deepnote_index_column": 1677
        },
        {
         "density": 1.56989127916425,
         "_deepnote_index_column": 1678
        },
        {
         "density": 1.7094733731499174,
         "_deepnote_index_column": 1679
        },
        {
         "density": 0.8099242134523208,
         "_deepnote_index_column": 1680
        },
        {
         "density": 2.5399602057844093,
         "_deepnote_index_column": 1681
        },
        {
         "density": 0.6068632191242948,
         "_deepnote_index_column": 1682
        },
        {
         "density": 2.738361712907196,
         "_deepnote_index_column": 1683
        },
        {
         "density": 1.895524195751934,
         "_deepnote_index_column": 1684
        },
        {
         "density": 1.6496650486438262,
         "_deepnote_index_column": 1685
        },
        {
         "density": 2.7229468298851156,
         "_deepnote_index_column": 1686
        },
        {
         "density": 1.2154277022438538,
         "_deepnote_index_column": 1687
        },
        {
         "density": 2.330457677176858,
         "_deepnote_index_column": 1688
        },
        {
         "density": 1.8969821305293435,
         "_deepnote_index_column": 1689
        },
        {
         "density": 1.6783689508299342,
         "_deepnote_index_column": 1690
        },
        {
         "density": 1.6171559755580152,
         "_deepnote_index_column": 1691
        },
        {
         "density": 1.519715715776426,
         "_deepnote_index_column": 1692
        },
        {
         "density": 2.124794759038079,
         "_deepnote_index_column": 1693
        },
        {
         "density": 2.3884340404408917,
         "_deepnote_index_column": 1694
        },
        {
         "density": 2.8418016450811856,
         "_deepnote_index_column": 1695
        },
        {
         "density": 1.8099375974282816,
         "_deepnote_index_column": 1696
        },
        {
         "density": 1.8433868082671878,
         "_deepnote_index_column": 1697
        },
        {
         "density": 1.0890817260800998,
         "_deepnote_index_column": 1698
        },
        {
         "density": 1.6267377221362778,
         "_deepnote_index_column": 1699
        },
        {
         "density": 0.6181784598415163,
         "_deepnote_index_column": 1700
        },
        {
         "density": 1.89267387548286,
         "_deepnote_index_column": 1701
        },
        {
         "density": 2.228593151580625,
         "_deepnote_index_column": 1702
        },
        {
         "density": 1.3349095535533786,
         "_deepnote_index_column": 1703
        },
        {
         "density": 1.173110161615067,
         "_deepnote_index_column": 1704
        },
        {
         "density": 2.173569190404509,
         "_deepnote_index_column": 1705
        },
        {
         "density": 1.3447728717647844,
         "_deepnote_index_column": 1706
        },
        {
         "density": 2.505479097473219,
         "_deepnote_index_column": 1707
        },
        {
         "density": 2.0128117793982283,
         "_deepnote_index_column": 1708
        },
        {
         "density": 1.500319222971543,
         "_deepnote_index_column": 1709
        },
        {
         "density": 2.5736566077696907,
         "_deepnote_index_column": 1710
        },
        {
         "density": 1.365642370173229,
         "_deepnote_index_column": 1711
        },
        {
         "density": 2.4005416736190788,
         "_deepnote_index_column": 1712
        },
        {
         "density": 1.4991826926053122,
         "_deepnote_index_column": 1713
        },
        {
         "density": 2.7635457866381166,
         "_deepnote_index_column": 1714
        },
        {
         "density": 2.2270362944463864,
         "_deepnote_index_column": 1715
        },
        {
         "density": 1.90672942908253,
         "_deepnote_index_column": 1716
        },
        {
         "density": 0.7488827756519882,
         "_deepnote_index_column": 1717
        },
        {
         "density": 1.9667955060525442,
         "_deepnote_index_column": 1718
        },
        {
         "density": 1.0763564864074655,
         "_deepnote_index_column": 1719
        },
        {
         "density": 2.375762402193673,
         "_deepnote_index_column": 1720
        },
        {
         "density": 2.273552360051547,
         "_deepnote_index_column": 1721
        },
        {
         "density": 2.7622750443286885,
         "_deepnote_index_column": 1722
        },
        {
         "density": 2.5744507218487915,
         "_deepnote_index_column": 1723
        },
        {
         "density": 1.7062238133112342,
         "_deepnote_index_column": 1724
        },
        {
         "density": 1.772360365995095,
         "_deepnote_index_column": 1725
        },
        {
         "density": 1.5985158583414836,
         "_deepnote_index_column": 1726
        },
        {
         "density": 5.212709037403423,
         "_deepnote_index_column": 1727
        },
        {
         "density": 3.544875984619559,
         "_deepnote_index_column": 1728
        },
        {
         "density": 1.5359915092710705,
         "_deepnote_index_column": 1729
        },
        {
         "density": 2.1576107565577107,
         "_deepnote_index_column": 1730
        },
        {
         "density": 2.6837216988464876,
         "_deepnote_index_column": 1731
        },
        {
         "density": 1.853899468786565,
         "_deepnote_index_column": 1732
        },
        {
         "density": 0.6811612281827519,
         "_deepnote_index_column": 1733
        },
        {
         "density": 2.451359286496969,
         "_deepnote_index_column": 1734
        },
        {
         "density": 2.8093237361104726,
         "_deepnote_index_column": 1735
        },
        {
         "density": 2.915364730099646,
         "_deepnote_index_column": 1736
        },
        {
         "density": 1.5825388250551335,
         "_deepnote_index_column": 1737
        },
        {
         "density": 2.045614610689265,
         "_deepnote_index_column": 1738
        },
        {
         "density": 2.004309945573125,
         "_deepnote_index_column": 1739
        },
        {
         "density": 2.5351050851510317,
         "_deepnote_index_column": 1740
        },
        {
         "density": 1.9721356486581705,
         "_deepnote_index_column": 1741
        },
        {
         "density": 1.3080142284152327,
         "_deepnote_index_column": 1742
        },
        {
         "density": 1.5383986664082017,
         "_deepnote_index_column": 1743
        },
        {
         "density": 2.5319609529632685,
         "_deepnote_index_column": 1744
        },
        {
         "density": 0.7803106155636221,
         "_deepnote_index_column": 1745
        },
        {
         "density": 1.104608843319655,
         "_deepnote_index_column": 1746
        },
        {
         "density": 2.655708735984631,
         "_deepnote_index_column": 1747
        },
        {
         "density": 4.4223282568954465,
         "_deepnote_index_column": 1748
        },
        {
         "density": 2.1911532723219285,
         "_deepnote_index_column": 1749
        },
        {
         "density": 3.841947547156533,
         "_deepnote_index_column": 1750
        },
        {
         "density": 1.4412183038343922,
         "_deepnote_index_column": 1751
        },
        {
         "density": 3.6032911849360874,
         "_deepnote_index_column": 1752
        },
        {
         "density": 1.3077912701347698,
         "_deepnote_index_column": 1753
        },
        {
         "density": 3.4419628662776143,
         "_deepnote_index_column": 1754
        },
        {
         "density": 2.6599093245707413,
         "_deepnote_index_column": 1755
        },
        {
         "density": 2.0095636943994615,
         "_deepnote_index_column": 1756
        },
        {
         "density": 2.6935816915888706,
         "_deepnote_index_column": 1757
        },
        {
         "density": 2.3440175787262616,
         "_deepnote_index_column": 1758
        },
        {
         "density": 1.5910805641301715,
         "_deepnote_index_column": 1759
        },
        {
         "density": 0.6033519733652987,
         "_deepnote_index_column": 1760
        },
        {
         "density": 0.8408632551049812,
         "_deepnote_index_column": 1761
        },
        {
         "density": 2.328007655171297,
         "_deepnote_index_column": 1762
        },
        {
         "density": 1.3543943204155,
         "_deepnote_index_column": 1763
        },
        {
         "density": 1.5591629399672144,
         "_deepnote_index_column": 1764
        },
        {
         "density": 2.9185162673188043,
         "_deepnote_index_column": 1765
        },
        {
         "density": 3.2648184450798183,
         "_deepnote_index_column": 1766
        },
        {
         "density": 3.1824413631678485,
         "_deepnote_index_column": 1767
        },
        {
         "density": 5.508028940622065,
         "_deepnote_index_column": 1768
        },
        {
         "density": 2.4878468926402855,
         "_deepnote_index_column": 1769
        },
        {
         "density": 1.9657622985982006,
         "_deepnote_index_column": 1770
        },
        {
         "density": 3.9984334340404324,
         "_deepnote_index_column": 1771
        },
        {
         "density": 2.1168873369945183,
         "_deepnote_index_column": 1772
        },
        {
         "density": 1.6113058013263086,
         "_deepnote_index_column": 1773
        },
        {
         "density": 3.3769404093854978,
         "_deepnote_index_column": 1774
        },
        {
         "density": 2.390863754601055,
         "_deepnote_index_column": 1775
        },
        {
         "density": 1.9253652369769405,
         "_deepnote_index_column": 1776
        },
        {
         "density": 5.021699637516971,
         "_deepnote_index_column": 1777
        },
        {
         "density": 5.261729154404605,
         "_deepnote_index_column": 1778
        },
        {
         "density": 1.7419673237724338,
         "_deepnote_index_column": 1779
        },
        {
         "density": 1.3678518200456007,
         "_deepnote_index_column": 1780
        },
        {
         "density": 2.8971404855175686,
         "_deepnote_index_column": 1781
        },
        {
         "density": 2.5792766344602547,
         "_deepnote_index_column": 1782
        },
        {
         "density": 0.9989491545514184,
         "_deepnote_index_column": 1783
        },
        {
         "density": 2.452963935182006,
         "_deepnote_index_column": 1784
        },
        {
         "density": 0.47109393663543553,
         "_deepnote_index_column": 1785
        },
        {
         "density": 0.8491363358031959,
         "_deepnote_index_column": 1786
        },
        {
         "density": 1.891900462826158,
         "_deepnote_index_column": 1787
        },
        {
         "density": 2.1369984572496556,
         "_deepnote_index_column": 1788
        },
        {
         "density": 2.4864359617240046,
         "_deepnote_index_column": 1789
        },
        {
         "density": 1.9527193458371477,
         "_deepnote_index_column": 1790
        },
        {
         "density": 2.5439256597491107,
         "_deepnote_index_column": 1791
        },
        {
         "density": 0.5184018521204125,
         "_deepnote_index_column": 1792
        },
        {
         "density": 3.171773737566494,
         "_deepnote_index_column": 1793
        },
        {
         "density": 3.390172010887633,
         "_deepnote_index_column": 1794
        },
        {
         "density": 1.7301805655209177,
         "_deepnote_index_column": 1795
        },
        {
         "density": 0.8007333222780432,
         "_deepnote_index_column": 1796
        },
        {
         "density": 1.8281398368557302,
         "_deepnote_index_column": 1797
        },
        {
         "density": 1.806595478617182,
         "_deepnote_index_column": 1798
        },
        {
         "density": 2.598843288931749,
         "_deepnote_index_column": 1799
        },
        {
         "density": 1.1786841051692725,
         "_deepnote_index_column": 1800
        },
        {
         "density": 0.9801877173745188,
         "_deepnote_index_column": 1801
        },
        {
         "density": 1.1522274986454422,
         "_deepnote_index_column": 1802
        },
        {
         "density": 1.4837315048917952,
         "_deepnote_index_column": 1803
        },
        {
         "density": 1.8042590821983686,
         "_deepnote_index_column": 1804
        },
        {
         "density": 2.521995771843495,
         "_deepnote_index_column": 1805
        },
        {
         "density": 2.5099115878977742,
         "_deepnote_index_column": 1806
        },
        {
         "density": 1.4228783440356951,
         "_deepnote_index_column": 1807
        },
        {
         "density": 1.4451668656976897,
         "_deepnote_index_column": 1808
        },
        {
         "density": 1.4704209432026307,
         "_deepnote_index_column": 1809
        },
        {
         "density": 2.193473252386319,
         "_deepnote_index_column": 1810
        },
        {
         "density": 3.2918491467745885,
         "_deepnote_index_column": 1811
        },
        {
         "density": 1.714033158394137,
         "_deepnote_index_column": 1812
        },
        {
         "density": 5.995398507197425,
         "_deepnote_index_column": 1813
        },
        {
         "density": 3.380604397807125,
         "_deepnote_index_column": 1814
        },
        {
         "density": 3.9763118147879437,
         "_deepnote_index_column": 1815
        },
        {
         "density": 3.094287470947398,
         "_deepnote_index_column": 1816
        },
        {
         "density": 1.0533489388355937,
         "_deepnote_index_column": 1817
        },
        {
         "density": 1.9305768447512277,
         "_deepnote_index_column": 1818
        },
        {
         "density": 1.6967062523817067,
         "_deepnote_index_column": 1819
        },
        {
         "density": 2.4106528647115044,
         "_deepnote_index_column": 1820
        },
        {
         "density": 0.7113052988569446,
         "_deepnote_index_column": 1821
        },
        {
         "density": 0.817895488324438,
         "_deepnote_index_column": 1822
        },
        {
         "density": 1.2128983057861011,
         "_deepnote_index_column": 1823
        },
        {
         "density": 1.1734313529624631,
         "_deepnote_index_column": 1824
        },
        {
         "density": 2.5212371410992893,
         "_deepnote_index_column": 1825
        },
        {
         "density": 2.2334752199425365,
         "_deepnote_index_column": 1826
        },
        {
         "density": 1.5019098910228459,
         "_deepnote_index_column": 1827
        },
        {
         "density": 3.02584619897539,
         "_deepnote_index_column": 1828
        },
        {
         "density": 1.57901390524825,
         "_deepnote_index_column": 1829
        },
        {
         "density": 0.6832704063065611,
         "_deepnote_index_column": 1830
        },
        {
         "density": 2.846819533777464,
         "_deepnote_index_column": 1831
        },
        {
         "density": 1.483365041871316,
         "_deepnote_index_column": 1832
        },
        {
         "density": 2.3045409204525087,
         "_deepnote_index_column": 1833
        },
        {
         "density": 1.8884183562679966,
         "_deepnote_index_column": 1834
        },
        {
         "density": 1.812886566677598,
         "_deepnote_index_column": 1835
        },
        {
         "density": 1.6288274167339354,
         "_deepnote_index_column": 1836
        },
        {
         "density": 4.165003787446011,
         "_deepnote_index_column": 1837
        },
        {
         "density": 1.849794809590879,
         "_deepnote_index_column": 1838
        },
        {
         "density": 3.0369355644984912,
         "_deepnote_index_column": 1839
        },
        {
         "density": 5.286650075905905,
         "_deepnote_index_column": 1840
        },
        {
         "density": 4.6924682609173445,
         "_deepnote_index_column": 1841
        },
        {
         "density": 2.528934679621649,
         "_deepnote_index_column": 1842
        },
        {
         "density": 1.6861598254629493,
         "_deepnote_index_column": 1843
        },
        {
         "density": 4.430795851167289,
         "_deepnote_index_column": 1844
        },
        {
         "density": 3.1645838157031023,
         "_deepnote_index_column": 1845
        },
        {
         "density": 2.716943098314132,
         "_deepnote_index_column": 1846
        },
        {
         "density": 1.2959346459274994,
         "_deepnote_index_column": 1847
        },
        {
         "density": 3.5752219736542683,
         "_deepnote_index_column": 1848
        },
        {
         "density": 1.8173900353108434,
         "_deepnote_index_column": 1849
        },
        {
         "density": 0.820301150398758,
         "_deepnote_index_column": 1850
        },
        {
         "density": 1.198081991486876,
         "_deepnote_index_column": 1851
        },
        {
         "density": 1.2732423579093635,
         "_deepnote_index_column": 1852
        },
        {
         "density": 1.3977190808596287,
         "_deepnote_index_column": 1853
        },
        {
         "density": 0.6633622329702984,
         "_deepnote_index_column": 1854
        },
        {
         "density": 2.555134950297164,
         "_deepnote_index_column": 1855
        },
        {
         "density": 1.940890492828074,
         "_deepnote_index_column": 1856
        },
        {
         "density": 1.1840797454545133,
         "_deepnote_index_column": 1857
        },
        {
         "density": 1.8931375494796874,
         "_deepnote_index_column": 1858
        },
        {
         "density": 1.086528231124262,
         "_deepnote_index_column": 1859
        },
        {
         "density": 1.8488884036545032,
         "_deepnote_index_column": 1860
        },
        {
         "density": 2.4185469428185047,
         "_deepnote_index_column": 1861
        },
        {
         "density": 1.222741505294927,
         "_deepnote_index_column": 1862
        },
        {
         "density": 1.2241421880418208,
         "_deepnote_index_column": 1863
        },
        {
         "density": 3.2396837003954295,
         "_deepnote_index_column": 1864
        },
        {
         "density": 1.973705897329743,
         "_deepnote_index_column": 1865
        },
        {
         "density": 2.465102495117157,
         "_deepnote_index_column": 1866
        },
        {
         "density": 3.590833487636453,
         "_deepnote_index_column": 1867
        },
        {
         "density": 2.079499808033758,
         "_deepnote_index_column": 1868
        },
        {
         "density": 3.321118001578853,
         "_deepnote_index_column": 1869
        },
        {
         "density": 2.27803523018475,
         "_deepnote_index_column": 1870
        },
        {
         "density": 1.7290359160704891,
         "_deepnote_index_column": 1871
        },
        {
         "density": 2.325242362430393,
         "_deepnote_index_column": 1872
        },
        {
         "density": 1.5399436753620268,
         "_deepnote_index_column": 1873
        },
        {
         "density": 1.0354727374024233,
         "_deepnote_index_column": 1874
        },
        {
         "density": 1.827701279915147,
         "_deepnote_index_column": 1875
        },
        {
         "density": 1.5454554990505718,
         "_deepnote_index_column": 1876
        },
        {
         "density": 3.18589183819817,
         "_deepnote_index_column": 1877
        },
        {
         "density": 2.2233789225042493,
         "_deepnote_index_column": 1878
        },
        {
         "density": 2.082424289874622,
         "_deepnote_index_column": 1879
        },
        {
         "density": 2.722443071314263,
         "_deepnote_index_column": 1880
        },
        {
         "density": 4.961000799511284,
         "_deepnote_index_column": 1881
        },
        {
         "density": 0.6405337467668036,
         "_deepnote_index_column": 1882
        },
        {
         "density": 1.5734515358814076,
         "_deepnote_index_column": 1883
        },
        {
         "density": 2.3044378217343566,
         "_deepnote_index_column": 1884
        },
        {
         "density": 1.9647821110149568,
         "_deepnote_index_column": 1885
        },
        {
         "density": 1.6315119012179968,
         "_deepnote_index_column": 1886
        },
        {
         "density": 1.910088065390484,
         "_deepnote_index_column": 1887
        },
        {
         "density": 2.995447997647363,
         "_deepnote_index_column": 1888
        },
        {
         "density": 2.4244226276157583,
         "_deepnote_index_column": 1889
        },
        {
         "density": 1.8038531755552858,
         "_deepnote_index_column": 1890
        },
        {
         "density": 2.1781530197581067,
         "_deepnote_index_column": 1891
        },
        {
         "density": 2.047418059284189,
         "_deepnote_index_column": 1892
        },
        {
         "density": 2.404564911839191,
         "_deepnote_index_column": 1893
        },
        {
         "density": 1.5423800931506326,
         "_deepnote_index_column": 1894
        },
        {
         "density": 1.6156879111668567,
         "_deepnote_index_column": 1895
        },
        {
         "density": 1.1665080221134745,
         "_deepnote_index_column": 1896
        },
        {
         "density": 0.8135222209716558,
         "_deepnote_index_column": 1897
        },
        {
         "density": 5.407671991763336,
         "_deepnote_index_column": 1898
        },
        {
         "density": 2.9189087841324763,
         "_deepnote_index_column": 1899
        },
        {
         "density": 2.318718630548546,
         "_deepnote_index_column": 1900
        },
        {
         "density": 3.872344103250293,
         "_deepnote_index_column": 1901
        },
        {
         "density": 0.6335207608104348,
         "_deepnote_index_column": 1902
        },
        {
         "density": 2.342642846716396,
         "_deepnote_index_column": 1903
        },
        {
         "density": 0.6536408051411633,
         "_deepnote_index_column": 1904
        },
        {
         "density": 3.7571604913527716,
         "_deepnote_index_column": 1905
        },
        {
         "density": 2.1824594337934884,
         "_deepnote_index_column": 1906
        },
        {
         "density": 0.7176980771862816,
         "_deepnote_index_column": 1907
        },
        {
         "density": 3.6568192078593187,
         "_deepnote_index_column": 1908
        },
        {
         "density": 1.2993932860792736,
         "_deepnote_index_column": 1909
        },
        {
         "density": 1.3196018563645227,
         "_deepnote_index_column": 1910
        },
        {
         "density": 1.0257314890477325,
         "_deepnote_index_column": 1911
        },
        {
         "density": 2.4865409729816053,
         "_deepnote_index_column": 1912
        },
        {
         "density": 2.951427357621876,
         "_deepnote_index_column": 1913
        },
        {
         "density": 1.2410420942773046,
         "_deepnote_index_column": 1914
        },
        {
         "density": 0.8265812653802335,
         "_deepnote_index_column": 1915
        },
        {
         "density": 2.6649235664487927,
         "_deepnote_index_column": 1916
        },
        {
         "density": 1.5718210320293116,
         "_deepnote_index_column": 1917
        },
        {
         "density": 1.7406019175833811,
         "_deepnote_index_column": 1918
        },
        {
         "density": 2.86709059593527,
         "_deepnote_index_column": 1919
        },
        {
         "density": 1.9663720105160647,
         "_deepnote_index_column": 1920
        },
        {
         "density": 2.690631691604532,
         "_deepnote_index_column": 1921
        },
        {
         "density": 0.8691312818125254,
         "_deepnote_index_column": 1922
        },
        {
         "density": 1.6132711165406872,
         "_deepnote_index_column": 1923
        },
        {
         "density": 2.6298942432082817,
         "_deepnote_index_column": 1924
        },
        {
         "density": 0.8271374790869851,
         "_deepnote_index_column": 1925
        },
        {
         "density": 2.10313473563976,
         "_deepnote_index_column": 1926
        },
        {
         "density": 1.1444684986467493,
         "_deepnote_index_column": 1927
        },
        {
         "density": 1.2194712159453116,
         "_deepnote_index_column": 1928
        },
        {
         "density": 3.1289976904300905,
         "_deepnote_index_column": 1929
        },
        {
         "density": 3.046619997199982,
         "_deepnote_index_column": 1930
        },
        {
         "density": 3.270924124732819,
         "_deepnote_index_column": 1931
        },
        {
         "density": 2.0277373644031296,
         "_deepnote_index_column": 1932
        },
        {
         "density": 1.9089685871642177,
         "_deepnote_index_column": 1933
        },
        {
         "density": 0.8562404679316882,
         "_deepnote_index_column": 1934
        },
        {
         "density": 2.665624238914341,
         "_deepnote_index_column": 1935
        },
        {
         "density": 2.8150546356638313,
         "_deepnote_index_column": 1936
        },
        {
         "density": 2.1361735845687826,
         "_deepnote_index_column": 1937
        },
        {
         "density": 1.8447586900003217,
         "_deepnote_index_column": 1938
        },
        {
         "density": 2.8482349278397407,
         "_deepnote_index_column": 1939
        },
        {
         "density": 1.5204282250837609,
         "_deepnote_index_column": 1940
        },
        {
         "density": 1.6552576088554765,
         "_deepnote_index_column": 1941
        },
        {
         "density": 2.853715434012988,
         "_deepnote_index_column": 1942
        },
        {
         "density": 1.5758490813747728,
         "_deepnote_index_column": 1943
        },
        {
         "density": 1.4945939743281087,
         "_deepnote_index_column": 1944
        },
        {
         "density": 3.6520015154463796,
         "_deepnote_index_column": 1945
        },
        {
         "density": 1.6852806315166746,
         "_deepnote_index_column": 1946
        },
        {
         "density": 2.6811955289741896,
         "_deepnote_index_column": 1947
        },
        {
         "density": 1.5628173384729158,
         "_deepnote_index_column": 1948
        },
        {
         "density": 1.3550381587934932,
         "_deepnote_index_column": 1949
        },
        {
         "density": 3.133627963222466,
         "_deepnote_index_column": 1950
        },
        {
         "density": 2.896175512114212,
         "_deepnote_index_column": 1951
        },
        {
         "density": 0.5527221112832953,
         "_deepnote_index_column": 1952
        },
        {
         "density": 2.0790002281169224,
         "_deepnote_index_column": 1953
        },
        {
         "density": 4.973248330758996,
         "_deepnote_index_column": 1954
        },
        {
         "density": 1.8950882576640529,
         "_deepnote_index_column": 1955
        },
        {
         "density": 1.3742379307423556,
         "_deepnote_index_column": 1956
        },
        {
         "density": 1.3966613803257655,
         "_deepnote_index_column": 1957
        },
        {
         "density": 2.8581364742910593,
         "_deepnote_index_column": 1958
        },
        {
         "density": 1.6330789426887449,
         "_deepnote_index_column": 1959
        },
        {
         "density": 0.9265246056587029,
         "_deepnote_index_column": 1960
        },
        {
         "density": 1.3532078075223217,
         "_deepnote_index_column": 1961
        },
        {
         "density": 5.3195558446427516,
         "_deepnote_index_column": 1962
        },
        {
         "density": 1.3333392368140724,
         "_deepnote_index_column": 1963
        },
        {
         "density": 2.884845495070816,
         "_deepnote_index_column": 1964
        },
        {
         "density": 3.0452325440246595,
         "_deepnote_index_column": 1965
        },
        {
         "density": 0.6306251665632291,
         "_deepnote_index_column": 1966
        },
        {
         "density": 1.4837108707267805,
         "_deepnote_index_column": 1967
        },
        {
         "density": 2.298046007002337,
         "_deepnote_index_column": 1968
        },
        {
         "density": 1.225844929326658,
         "_deepnote_index_column": 1969
        },
        {
         "density": 0.8022125883160773,
         "_deepnote_index_column": 1970
        },
        {
         "density": 1.1021183320718086,
         "_deepnote_index_column": 1971
        },
        {
         "density": 1.736143194102603,
         "_deepnote_index_column": 1972
        },
        {
         "density": 2.1943280049424634,
         "_deepnote_index_column": 1973
        },
        {
         "density": 3.994810000929802,
         "_deepnote_index_column": 1974
        },
        {
         "density": 3.003174931167312,
         "_deepnote_index_column": 1975
        },
        {
         "density": 4.107589837323352,
         "_deepnote_index_column": 1976
        },
        {
         "density": 0.46748283941525803,
         "_deepnote_index_column": 1977
        },
        {
         "density": 2.182167987389333,
         "_deepnote_index_column": 1978
        },
        {
         "density": 2.358746445607843,
         "_deepnote_index_column": 1979
        },
        {
         "density": 1.6726798462065644,
         "_deepnote_index_column": 1980
        },
        {
         "density": 2.2019941402629812,
         "_deepnote_index_column": 1981
        },
        {
         "density": 2.072436981531311,
         "_deepnote_index_column": 1982
        },
        {
         "density": 4.313933282587705,
         "_deepnote_index_column": 1983
        },
        {
         "density": 2.320612962865187,
         "_deepnote_index_column": 1984
        },
        {
         "density": 1.7126652649882153,
         "_deepnote_index_column": 1985
        },
        {
         "density": 2.5536289298162034,
         "_deepnote_index_column": 1986
        },
        {
         "density": 3.0909178721142245,
         "_deepnote_index_column": 1987
        },
        {
         "density": 1.469477245474598,
         "_deepnote_index_column": 1988
        },
        {
         "density": 2.9523481198295043,
         "_deepnote_index_column": 1989
        },
        {
         "density": 2.0789484283024917,
         "_deepnote_index_column": 1990
        },
        {
         "density": 2.375160057624075,
         "_deepnote_index_column": 1991
        },
        {
         "density": 0.6726092535900404,
         "_deepnote_index_column": 1992
        },
        {
         "density": 1.3727776784117216,
         "_deepnote_index_column": 1993
        },
        {
         "density": 2.2120301471313617,
         "_deepnote_index_column": 1994
        },
        {
         "density": 1.950456348631579,
         "_deepnote_index_column": 1995
        },
        {
         "density": 1.1402494966830112,
         "_deepnote_index_column": 1996
        },
        {
         "density": 2.262239182787281,
         "_deepnote_index_column": 1997
        },
        {
         "density": 3.9418062745392417,
         "_deepnote_index_column": 1998
        },
        {
         "density": 0.6838379590138149,
         "_deepnote_index_column": 1999
        }
       ]
      },
      "text/plain": "       density\n0     1.666998\n1     1.214611\n2     1.141007\n3     1.543144\n4     0.660375\n...        ...\n1995  1.950456\n1996  1.140249\n1997  2.262239\n1998  3.941806\n1999  0.683838\n\n[2000 rows x 1 columns]",
      "text/html": "<div>\n<style scoped>\n    .dataframe tbody tr th:only-of-type {\n        vertical-align: middle;\n    }\n\n    .dataframe tbody tr th {\n        vertical-align: top;\n    }\n\n    .dataframe thead th {\n        text-align: right;\n    }\n</style>\n<table border=\"1\" class=\"dataframe\">\n  <thead>\n    <tr style=\"text-align: right;\">\n      <th></th>\n      <th>density</th>\n    </tr>\n  </thead>\n  <tbody>\n    <tr>\n      <th>0</th>\n      <td>1.666998</td>\n    </tr>\n    <tr>\n      <th>1</th>\n      <td>1.214611</td>\n    </tr>\n    <tr>\n      <th>2</th>\n      <td>1.141007</td>\n    </tr>\n    <tr>\n      <th>3</th>\n      <td>1.543144</td>\n    </tr>\n    <tr>\n      <th>4</th>\n      <td>0.660375</td>\n    </tr>\n    <tr>\n      <th>...</th>\n      <td>...</td>\n    </tr>\n    <tr>\n      <th>1995</th>\n      <td>1.950456</td>\n    </tr>\n    <tr>\n      <th>1996</th>\n      <td>1.140249</td>\n    </tr>\n    <tr>\n      <th>1997</th>\n      <td>2.262239</td>\n    </tr>\n    <tr>\n      <th>1998</th>\n      <td>3.941806</td>\n    </tr>\n    <tr>\n      <th>1999</th>\n      <td>0.683838</td>\n    </tr>\n  </tbody>\n</table>\n<p>2000 rows × 1 columns</p>\n</div>"
     },
     "metadata": {}
    }
   ],
   "execution_count": null
  },
  {
   "cell_type": "code",
   "metadata": {
    "tags": [],
    "deepnote_to_be_reexecuted": false,
    "source_hash": "1eb937cb",
    "execution_start": 1632712402961,
    "execution_millis": 915,
    "cell_id": "00015-6e429b34-eee0-4f86-a9a5-dde1480edc52",
    "deepnote_cell_type": "code"
   },
   "source": "from xgboost import XGBRegressor\nfrom lightgbm import LGBMRegressor\nfrom sklearn.ensemble import (\n    VotingRegressor,\n    StackingRegressor,\n    RandomForestRegressor,\n    GradientBoostingRegressor\n)\nfrom sklearn.linear_model import Lasso",
   "outputs": [],
   "execution_count": null
  },
  {
   "cell_type": "code",
   "metadata": {
    "tags": [],
    "cell_id": "00016-ad0f0f9e-303a-4d35-8a23-27601d771380",
    "deepnote_to_be_reexecuted": false,
    "source_hash": "40a52b65",
    "execution_start": 1632712403891,
    "execution_millis": 36,
    "deepnote_cell_type": "code"
   },
   "source": "class RmseMetric(object):\n    def get_final_error(self, error, weight):\n        return np.sqrt(error / (weight + 1e-38))\n\n    def is_max_optimal(self):\n        return False\n\n    def evaluate(self, approxes, target, weight):\n        assert len(approxes) == 1\n        assert len(target) == len(approxes[0])\n\n        approx = approxes[0]\n\n        error_sum = 0.0\n        weight_sum = 0.0\n\n        for i in range(len(approx)):\n            w = 1.0 if weight is None else weight[i]\n            weight_sum += w\n            error_sum += w * ((approx[i] - target[i])**2)\n\n        return error_sum, weight_sum",
   "outputs": [],
   "execution_count": null
  },
  {
   "cell_type": "code",
   "metadata": {
    "tags": [],
    "deepnote_to_be_reexecuted": false,
    "source_hash": "6f021658",
    "execution_start": 1632712403928,
    "execution_millis": 2469525,
    "cell_id": "00016-b225fe1a-1683-46f8-a4fe-f3736d25e4f4",
    "deepnote_cell_type": "code"
   },
   "source": "def log_mean_absolute_error(y_true, y_pred):\n    return np.log(mean_absolute_error(y_true, y_pred))\n\n\ndef fit_catboost(X, y):\n    catboost = CatBoostRegressor(\n        iterations=5000,\n        verbose=False,\n        # loss_function=\"MAE\"\n        # l2_leaf_reg=0.001\n    )\n    catboost.fit(X, y)\n    return catboost\n\n\ndef fit_xgboost(X, y):\n    reg = XGBRegressor()\n    reg.fit(X.values, y.values)\n    return reg\n\n\ndef fit_lightboost(X, y):\n    reg = LGBMRegressor()\n    reg.fit(X.values, y.values)\n    return reg\n\n\ndef fit_voting(X, y):\n    reg = VotingRegressor(\n        [\n            ('cat', CatBoostRegressor(\n                    iterations=5000,\n                    grow_policy='Lossguide',\n                    verbose=False,\n                    # depth=14\n                    # l2_leaf_reg=0.001\n                )\n            ),\n            ('xgb', XGBRegressor(\n                    grow_policy='lossguide',\n                    # tree_method='exact'\n                    max_depth=14\n                )\n            ),\n            # ('gb', GradientBoostingRegressor())\n        ]\n    )\n    reg.fit(X.values, y.values)\n    return reg\n\n\nfit_models = [fit_voting]\n# kf = KFold(n_splits=5, shuffle=True, random_state=1234)\nkf = RepeatedKFold(n_splits=5, n_repeats=10, random_state=1234)\n# kf = RepeatedStratifiedKFold(n_splits=5, n_repeats=10, random_state=1234)\nfit_results = {}\nfor k, (train_index, test_index) in enumerate(kf.split(train.X)):\n    print(f\"K Fold: {k + 1}\")\n    print(\"TRAIN:\", train_index, \"TEST:\", test_index)\n    X_train, X_test = train.X.iloc[train_index], train.X.iloc[test_index]\n    y_train, y_test = train.y.iloc[train_index], train.y.iloc[test_index]\n    \n    for fit_model in fit_models:\n        model_name = '_'.join(fit_model.__name__.split('fit_')[1:])\n        model_result_path = f\"model_results/{model_name}\"\n        model_checkpoint = f\"model_results/{model_name}/fold_{k+1}.pickle\"\n        \n        if not os.path.exists(model_result_path):\n            os.makedirs(model_result_path)\n        if model_name not in fit_results:\n            fit_results[model_name] = []\n        if os.path.isfile(model_checkpoint):\n            print(\"Found trained model\")\n            with open(model_checkpoint, 'rb') as f:\n                model = pickle.load(f)\n\n        else:\n            model = fit_model(X_train, y_train)\n\n        train_pred = model.predict(X_train)\n        log_mean_error_train = log_mean_absolute_error(y_train, train_pred)\n\n        # model = fit_model(X_test, y_test)\n        test_pred = model.predict(X_test)\n        log_mean_error_test = log_mean_absolute_error(y_test, test_pred)\n\n        test_pred = pd.DataFrame(\n            test_pred,\n            index= y_test.index,\n            columns=y_test.columns\n        )\n        error_sort = np.abs(y_test - test_pred).sort_values(TARGET, ascending=False)\n        \n\n        print(f\"Log mean error train: {log_mean_error_train}\")\n        print(f\"Log mean error test: {log_mean_error_test}\")\n        print(error_sort.head(10))\n        \n        with open(f\"model_results/{model_name}/fold_{k+1}.pickle\", \"wb\") as f:\n            pickle.dump(model, f)\n        \n        fit_results[model_name].append({\n            'model': model,\n            'log_mean_error_train': log_mean_error_train,\n            'log_mean_error_test': log_mean_error_test\n        })",
   "outputs": [
    {
     "name": "stdout",
     "text": "K Fold: 1\nTRAIN: [    1     2     3 ... 66712 66713 66714] TEST: [    0     4    13 ... 66699 66708 66711]\nFound trained model\nLog mean error train: 2.0176040096937182\nLog mean error test: 2.944692931213682\n       CO2_working_capacity [mL/g]\n28722                   244.859699\n11014                   230.661596\n17030                   205.106081\n26785                   199.906906\n9702                    183.128639\n30288                   183.084760\n13904                   173.980047\n55157                   166.375224\n34182                   161.430320\n8167                    152.545420\nK Fold: 2\nTRAIN: [    0     1     2 ... 66711 66713 66714] TEST: [   18    24    30 ... 66700 66703 66712]\nFound trained model\nLog mean error train: 2.006663713252976\nLog mean error test: 2.9724355295760616\n       CO2_working_capacity [mL/g]\n53862                   258.899258\n47903                   205.206157\n56078                   199.696026\n30349                   194.282102\n23054                   192.863907\n31220                   180.464350\n49595                   176.804108\n11240                   173.127789\n32090                   171.609687\n18566                   165.663745\nK Fold: 3\nTRAIN: [    0     1     3 ... 66712 66713 66714] TEST: [    2     8     9 ... 66689 66695 66710]\nFound trained model\nLog mean error train: 2.0132348338698782\nLog mean error test: 2.9619206732779078\n       CO2_working_capacity [mL/g]\n2777                    179.463714\n51325                   172.778139\n21916                   159.661914\n47408                   157.795303\n36290                   154.745693\n47658                   153.122108\n47600                   151.804051\n11029                   147.826662\n37218                   146.909246\n34818                   144.967617\nK Fold: 4\nTRAIN: [    0     2     3 ... 66711 66712 66713] TEST: [    1     5     6 ... 66705 66709 66714]\nFound trained model\nLog mean error train: 2.014151984768335\nLog mean error test: 2.9902919866276783\n       CO2_working_capacity [mL/g]\n59445                   221.674656\n21423                   208.311016\n45489                   206.262425\n10054                   174.459395\n56935                   157.294843\n58857                   150.664642\n24013                   149.094266\n32590                   148.733748\n11834                   148.045540\n17663                   143.293692\nK Fold: 5\nTRAIN: [    0     1     2 ... 66711 66712 66714] TEST: [    3    10    16 ... 66706 66707 66713]\nFound trained model\nLog mean error train: 2.0057182788533954\nLog mean error test: 2.9822133932166883\n       CO2_working_capacity [mL/g]\n8446                    213.151207\n35777                   185.262314\n48923                   184.447049\n16575                   178.297173\n19038                   176.124176\n20828                   173.766504\n46324                   171.356922\n4441                    166.933407\n49053                   161.436454\n35228                   160.505222\nK Fold: 6\nTRAIN: [    0     1     2 ... 66712 66713 66714] TEST: [    6     9    12 ... 66706 66708 66711]\nFound trained model\nLog mean error train: 2.022419731072703\nLog mean error test: 2.9547816312875788\n       CO2_working_capacity [mL/g]\n53862                   216.989280\n18566                   175.653492\n18743                   163.696624\n49053                   159.518648\n49887                   148.866698\n4576                    143.638365\n3359                    135.519373\n46095                   132.261622\n30687                   131.389457\n22497                   130.322030\nK Fold: 7\nTRAIN: [    0     1     2 ... 66712 66713 66714] TEST: [    3    11    13 ... 66707 66709 66710]\nFound trained model\nLog mean error train: 2.013561824631896\nLog mean error test: 2.973084317088525\n       CO2_working_capacity [mL/g]\n22321                   188.159035\n13904                   187.972989\n47658                   183.024092\n21378                   178.566060\n4441                    167.783683\n20509                   166.708939\n8874                    161.595320\n43983                   160.961342\n55157                   158.023265\n46260                   156.936579\nK Fold: 8\nTRAIN: [    0     1     2 ... 66712 66713 66714] TEST: [    4     5    23 ... 66684 66693 66701]\nFound trained model\nLog mean error train: 2.011098365117364\nLog mean error test: 2.9679313551981323\n       CO2_working_capacity [mL/g]\n47903                   224.557269\n59445                   196.718808\n45489                   187.809133\n11834                   182.573410\n11014                   182.306204\n35428                   179.686392\n47600                   174.641479\n46324                   174.427724\n36830                   174.404216\n32090                   173.328696\nK Fold: 9\nTRAIN: [    1     2     3 ... 66710 66711 66712] TEST: [    0    40    43 ... 66700 66713 66714]\nFound trained model\nLog mean error train: 2.017209476643331\nLog mean error test: 2.9734750353313824\n       CO2_working_capacity [mL/g]\n17030                   206.041290\n30349                   197.303357\n7297                    192.359894\n56078                   190.968018\n2777                    180.645877\n19038                   174.281850\n21709                   168.480916\n16766                   165.797801\n21423                   164.880055\n11240                   159.318331\nK Fold: 10\nTRAIN: [    0     3     4 ... 66711 66713 66714] TEST: [    1     2     7 ... 66703 66705 66712]\nFound trained model\nLog mean error train: 2.006201915318189\nLog mean error test: 2.988319847596382\n       CO2_working_capacity [mL/g]\n28722                   259.939723\n16575                   215.101613\n56935                   205.006666\n26785                   194.384065\n37218                   192.954463\n20828                   190.818504\n32590                   187.708380\n27841                   177.636623\n53907                   165.920102\n35228                   165.224784\nK Fold: 11\nTRAIN: [    0     2     3 ... 66711 66712 66713] TEST: [    1     5    12 ... 66704 66710 66714]\nFound trained model\nLog mean error train: 2.0133925665699732\nLog mean error test: 2.969747456166229\n       CO2_working_capacity [mL/g]\n47903                   237.790937\n22321                   222.812625\n56078                   219.155440\n20828                   201.909405\n8446                    196.140272\n35428                   176.384748\n19231                   164.768419\n58857                   161.665808\n1745                    161.516350\n55867                   159.417217\nK Fold: 12\nTRAIN: [    0     1     2 ... 66711 66712 66714] TEST: [   13    19    22 ... 66706 66709 66713]\nFound trained model\nLog mean error train: 2.0049332071839636\nLog mean error test: 2.96940634333555\n       CO2_working_capacity [mL/g]\n28722                   233.157902\n11014                   218.339278\n16766                   179.823584\n2777                    166.512971\n47658                   165.629087\n43997                   160.524590\n53907                   149.351432\n47408                   148.814849\n7281                    148.270317\n32590                   147.052485\nK Fold: 13\nTRAIN: [    0     1     3 ... 66712 66713 66714] TEST: [    2     8     9 ... 66691 66698 66708]\nFound trained model\nLog mean error train: 2.0162812645302495\nLog mean error test: 2.9575199370838416\n       CO2_working_capacity [mL/g]\n23054                   184.921249\n11240                   177.256407\n36128                   162.697679\n16575                   162.652073\n44412                   154.023165\n49053                   151.974620\n20840                   150.705727\n30624                   147.679207\n58658                   147.350261\n20509                   146.967866\nK Fold: 14\nTRAIN: [    1     2     3 ... 66710 66713 66714] TEST: [    0     4    11 ... 66707 66711 66712]\nFound trained model\nLog mean error train: 2.021482474726149\nLog mean error test: 2.9523275273806213\n       CO2_working_capacity [mL/g]\n53862                   215.462176\n32090                   193.465568\n21363                   176.913589\n19038                   173.457978\n31220                   166.934089\n48923                   165.519894\n44989                   160.383273\n24423                   159.279428\n9702                    158.823034\n11834                   153.310908\nK Fold: 15\nTRAIN: [    0     1     2 ... 66712 66713 66714] TEST: [    3     6     7 ... 66693 66697 66703]\nFound trained model\nLog mean error train: 2.0174052519102585\nLog mean error test: 2.974718830044092\n       CO2_working_capacity [mL/g]\n45489                   200.564366\n37218                   195.010816\n30349                   195.006441\n13904                   191.991735\n17030                   183.198713\n47600                   175.940502\n18566                   172.897679\n26308                   172.208685\n4441                    167.823529\n30288                   167.661348\nK Fold: 16\nTRAIN: [    0     1     2 ... 66711 66713 66714] TEST: [    8    18    23 ... 66704 66709 66712]\nFound trained model\nLog mean error train: 2.0138990666294245\nLog mean error test: 2.9689753807355657\n       CO2_working_capacity [mL/g]\n18074                   191.705543\n59445                   185.808421\n16766                   175.399382\n21709                   171.821016\n32590                   170.553457\n7297                    170.494716\n55157                   160.420884\n21916                   153.507850\n19231                   151.540769\n7654                    148.726694\nK Fold: 17\nTRAIN: [    3     6     7 ... 66712 66713 66714] TEST: [    0     1     2 ... 66701 66705 66711]\nFound trained model\nLog mean error train: 2.013868872204017\nLog mean error test: 2.9726303110968506\n       CO2_working_capacity [mL/g]\n26785                   219.691148\n16575                   202.392569\n17030                   181.446134\n37218                   180.146228\n35228                   178.104505\n43997                   177.741712\n27414                   174.472910\n43983                   174.072378\n32090                   173.099661\n11240                   165.211449\nK Fold: 18\nTRAIN: [    0     1     2 ... 66711 66712 66714] TEST: [    3     9    14 ... 66708 66710 66713]\nFound trained model\nLog mean error train: 2.0151008304191667\nLog mean error test: 2.979366884888731\n       CO2_working_capacity [mL/g]\n28722                   246.944991\n30349                   195.712584\n8446                    183.250921\n11014                   180.036551\n13904                   174.942032\n19038                   169.456709\n43709                   163.248664\n9702                    162.735406\n44989                   159.816047\n44412                   159.247122\nK Fold: 19\nTRAIN: [    0     1     2 ... 66711 66712 66713] TEST: [    6     7    15 ... 66694 66697 66714]\nFound trained model\nLog mean error train: 2.027237534292085\nLog mean error test: 2.9676482073592982\n       CO2_working_capacity [mL/g]\n53862                   204.986901\n2777                    203.327730\n23054                   175.209390\n47658                   174.081727\n31220                   158.884871\n44211                   157.390199\n41271                   153.542640\n27841                   151.999013\n17250                   148.606348\n30574                   146.430244\nK Fold: 20\nTRAIN: [    0     1     2 ... 66712 66713 66714] TEST: [   11    12    21 ... 66690 66695 66703]\nFound trained model\nLog mean error train: 2.013480749254752\nLog mean error test: 2.9527649393242994\n       CO2_working_capacity [mL/g]\n56078                   229.738823\n47903                   221.149912\n45489                   213.992617\n47408                   152.108410\n52238                   145.367379\n47600                   144.857096\n49160                   143.491069\n22366                   140.238121\n53907                   139.552016\n21363                   139.549384\nK Fold: 21\nTRAIN: [    1     2     3 ... 66711 66713 66714] TEST: [    0     8    12 ... 66697 66710 66712]\nFound trained model\nLog mean error train: 2.010604148761592\nLog mean error test: 2.9669309369421777\n       CO2_working_capacity [mL/g]\n53862                   243.501142\n28722                   235.377417\n56078                   208.328064\n16575                   207.253778\n59445                   176.245098\n43709                   174.584537\n58857                   174.036016\n5671                    171.232623\n26785                   168.898238\n25997                   162.896858\nK Fold: 22\nTRAIN: [    0     1     3 ... 66711 66712 66714] TEST: [    2     5    11 ... 66702 66703 66713]\nFound trained model\nLog mean error train: 2.013458720747361\nLog mean error test: 2.9738115368292997\n       CO2_working_capacity [mL/g]\n37218                   211.426812\n32090                   174.517588\n13904                   171.946117\n49595                   168.226572\n36830                   163.377076\n43983                   162.476445\n14402                   158.076798\n21423                   152.728906\n34294                   149.234361\n47658                   148.007424\nK Fold: 23\nTRAIN: [    0     2     3 ... 66712 66713 66714] TEST: [    1     9    13 ... 66705 66709 66711]\nFound trained model\nLog mean error train: 2.0121573277541036\nLog mean error test: 2.9727074596580985\n       CO2_working_capacity [mL/g]\n17030                   225.060706\n45489                   177.490726\n18074                   172.729403\n51325                   167.938255\n11240                   158.904902\n44412                   154.241419\n34182                   148.710901\n52238                   146.396203\n38246                   143.293980\n5205                    142.715724\nK Fold: 24\nTRAIN: [    0     1     2 ... 66711 66712 66713] TEST: [    4     6    10 ... 66706 66707 66714]\nFound trained model\nLog mean error train: 2.014363817097383\nLog mean error test: 2.9653173551879757\n       CO2_working_capacity [mL/g]\n30349                   196.173117\n8446                    186.057910\n22321                   183.576166\n56935                   176.385268\n20828                   173.852555\n20509                   166.473610\n11014                   165.933705\n2777                    157.584140\n23054                   156.536874\n53957                   155.668932\nK Fold: 25\nTRAIN: [    0     1     2 ... 66712 66713 66714] TEST: [    3     7    14 ... 66698 66704 66708]\nFound trained model\nLog mean error train: 2.0132116600252803\nLog mean error test: 2.962474837007432\n       CO2_working_capacity [mL/g]\n47903                   266.264328\n32590                   169.357030\n24423                   163.107288\n16766                   157.735042\n9702                    155.364555\n18566                   154.312077\n58531                   148.296485\n36128                   147.702298\n11834                   146.517027\n31609                   144.265271\nK Fold: 26\nTRAIN: [    0     1     2 ... 66711 66713 66714] TEST: [   10    11    12 ... 66699 66710 66712]\nFound trained model\nLog mean error train: 2.021815793558081\nLog mean error test: 2.9559403632664245\n       CO2_working_capacity [mL/g]\n16575                   204.580103\n30349                   198.591218\n17030                   178.551575\n31220                   159.467383\n55867                   156.314985\n44270                   153.172882\n55157                   143.901672\n58857                   142.516010\n11871                   142.483756\n53871                   141.474996\nK Fold: 27\nTRAIN: [    0     2     4 ... 66712 66713 66714] TEST: [    1     3     6 ... 66700 66702 66705]\nFound trained model\nLog mean error train: 2.0143493008924613\nLog mean error test: 2.977416276155731\n       CO2_working_capacity [mL/g]\n18074                   198.525330\n47600                   197.459460\n35887                   187.490720\n35428                   173.458494\n16766                   166.558530\n44989                   163.516334\n19038                   160.144418\n49053                   160.069686\n14402                   156.980851\n11014                   152.329236\nK Fold: 28\nTRAIN: [    0     1     2 ... 66712 66713 66714] TEST: [   20    22    30 ... 66690 66704 66708]\nFound trained model\nLog mean error train: 2.0171388490236914\nLog mean error test: 2.97074239344624\n       CO2_working_capacity [mL/g]\n53862                   252.859994\n28722                   227.592657\n47408                   207.021827\n56935                   194.014698\n21423                   175.905833\n21916                   175.495850\n51341                   173.732558\n23054                   163.045826\n11240                   158.883195\n9702                    158.126647\nK Fold: 29\nTRAIN: [    0     1     2 ... 66712 66713 66714] TEST: [    7     8    13 ... 66692 66706 66707]\nFound trained model\nLog mean error train: 2.0118036838417193\nLog mean error test: 2.968608365924233\n       CO2_working_capacity [mL/g]\n47903                   236.089167\n53907                   202.119621\n10054                   199.908453\n56078                   191.197637\n48836                   176.207964\n32090                   174.586070\n20828                   168.749148\n47658                   167.518147\n26785                   165.463004\n17663                   154.204420\nK Fold: 30\nTRAIN: [    1     3     6 ... 66708 66710 66712] TEST: [    0     2     4 ... 66711 66713 66714]\nFound trained model\nLog mean error train: 2.0148174115092616\nLog mean error test: 2.9710932807264854\n       CO2_working_capacity [mL/g]\n47669                   205.562973\n45489                   205.540886\n59445                   196.275012\n22321                   189.126423\n13904                   173.923841\n26164                   169.895065\n51325                   168.570738\n45936                   160.847630\n32940                   152.343379\n7297                    149.811616\nK Fold: 31\nTRAIN: [    1     2     3 ... 66711 66713 66714] TEST: [    0     7     9 ... 66704 66708 66712]\nFound trained model\nLog mean error train: 2.022124929983514\nLog mean error test: 2.976623702787901\n       CO2_working_capacity [mL/g]\n17030                   217.377895\n2777                    182.493316\n32090                   176.214866\n53907                   172.209773\n35428                   169.519407\n9702                    168.341544\n55867                   165.924800\n11014                   163.765902\n32590                   163.131318\n36290                   161.222960\nK Fold: 32\nTRAIN: [    0     1     3 ... 66711 66712 66713] TEST: [    2     4     5 ... 66696 66709 66714]\nFound trained model\nLog mean error train: 2.0100841756932186\nLog mean error test: 2.9613423191446135\n       CO2_working_capacity [mL/g]\n21423                   175.641742\n31220                   175.144589\n43709                   173.702092\n49053                   163.792183\n47408                   161.662945\n16766                   160.171661\n24423                   155.484550\n18566                   155.223298\n11834                   154.489163\n51081                   147.650028\nK Fold: 33\nTRAIN: [    0     1     2 ... 66710 66712 66714] TEST: [   14    15    21 ... 66702 66711 66713]\nFound trained model\nLog mean error train: 2.023652699609413\nLog mean error test: 2.971650391184672\n       CO2_working_capacity [mL/g]\n53862                   220.296175\n26785                   207.290007\n37218                   191.792467\n48923                   188.621781\n59445                   186.204649\n19038                   170.686402\n11240                   163.934386\n10054                   163.771661\n43983                   160.587414\n49023                   159.090967\nK Fold: 34\nTRAIN: [    0     1     2 ... 66712 66713 66714] TEST: [    3    11    20 ... 66697 66705 66710]\nFound trained model\nLog mean error train: 2.0054297192749955\nLog mean error test: 2.9745968554801854\n       CO2_working_capacity [mL/g]\n16575                   229.293345\n56078                   221.304631\n47903                   215.449955\n13904                   189.802005\n27841                   178.287472\n21378                   166.877449\n23054                   166.851755\n4441                    164.958611\n43997                   161.749681\n20828                   155.267484\nK Fold: 35\nTRAIN: [    0     2     3 ... 66712 66713 66714] TEST: [    1     6    13 ... 66700 66706 66707]\nFound trained model\nLog mean error train: 2.0226827400146177\nLog mean error test: 2.9651313814491185\n       CO2_working_capacity [mL/g]\n28722                   238.432608\n30349                   199.263625\n47658                   192.290759\n45489                   182.342556\n35228                   163.672356\n47600                   162.826391\n11871                   156.999905\n46324                   152.223229\n47015                   144.973024\n33184                   144.754018\nK Fold: 36\nTRAIN: [    1     2     3 ... 66712 66713 66714] TEST: [    0     4     5 ... 66701 66703 66709]\nFound trained model\nLog mean error train: 2.018570276156326\nLog mean error test: 2.970335138875084\n       CO2_working_capacity [mL/g]\n47903                   227.673314\n53862                   219.687423\n30349                   217.220896\n26785                   188.084614\n16766                   187.859695\n51341                   175.269123\n37218                   165.061845\n14402                   158.527188\n11014                   154.395184\n34810                   153.192999\nK Fold: 37\nTRAIN: [    0     1     3 ... 66709 66711 66712] TEST: [    2    13    18 ... 66710 66713 66714]\nFound trained model\nLog mean error train: 2.0147281928236\nLog mean error test: 2.977788500607631\n       CO2_working_capacity [mL/g]\n28722                   238.689843\n56078                   213.088280\n11240                   183.825978\n20828                   183.137038\n16575                   175.208314\n9702                    175.150910\n8446                    168.612199\n48923                   162.964392\n43983                   162.053777\n2777                    158.002992\nK Fold: 38\nTRAIN: [    0     1     2 ... 66712 66713 66714] TEST: [    8     9    12 ... 66698 66706 66707]\nFound trained model\nLog mean error train: 2.0149315843165376\nLog mean error test: 2.965253123031064\n       CO2_working_capacity [mL/g]\n45489                   196.310189\n22321                   195.266985\n10054                   189.515973\n47658                   182.530446\n23054                   178.156070\n32090                   165.822830\n53907                   164.765307\n48387                   162.352297\n31220                   159.734568\n18566                   159.459254\nK Fold: 39\nTRAIN: [    0     2     3 ... 66710 66713 66714] TEST: [    1     7    14 ... 66708 66711 66712]\nFound trained model\nLog mean error train: 2.0120917229361575\nLog mean error test: 2.9635703012391548\n       CO2_working_capacity [mL/g]\n59445                   190.896113\n19038                   188.472031\n36290                   185.392867\n13904                   175.194274\n47600                   171.370585\n21423                   164.670431\n17030                   162.644965\n4441                    153.113085\n35863                   151.229473\n22375                   148.953361\nK Fold: 40\nTRAIN: [    0     1     2 ... 66712 66713 66714] TEST: [    3     6    10 ... 66694 66702 66704]\nFound trained model\nLog mean error train: 2.0184939654782967\nLog mean error test: 2.960703677909734\n       CO2_working_capacity [mL/g]\n19231                   201.858329\n56935                   178.716842\n49595                   168.797807\n44412                   167.036510\n23850                   160.182761\n7654                    158.703601\n44989                   157.289592\n49053                   151.428579\n47408                   147.845404\n45936                   146.255467\nK Fold: 41\nTRAIN: [    0     3     4 ... 66711 66713 66714] TEST: [    1     2     8 ... 66705 66709 66712]\nFound trained model\nLog mean error train: 2.0160836403171936\nLog mean error test: 2.975248047433102\n       CO2_working_capacity [mL/g]\n28722                   244.829243\n47903                   229.344170\n47658                   226.372548\n16575                   212.815525\n56078                   209.962010\n2777                    182.106759\n11240                   173.598672\n20828                   173.085293\n32590                   172.132471\n17250                   162.538037\nK Fold: 42\nTRAIN: [    0     1     2 ... 66712 66713 66714] TEST: [    5     7    19 ... 66706 66707 66711]\nFound trained model\nLog mean error train: 2.014797672660874\nLog mean error test: 2.963030589363318\n       CO2_working_capacity [mL/g]\n53862                   244.853852\n30349                   187.556026\n5671                    183.153267\n16766                   181.409301\n35228                   178.627721\n46260                   170.110944\n46324                   169.240851\n53907                   169.092322\n59445                   167.331879\n48163                   159.515373\nK Fold: 43\nTRAIN: [    0     1     2 ... 66711 66712 66713] TEST: [    3     4     6 ... 66699 66700 66714]\nFound trained model\nLog mean error train: 2.0125596717967347\nLog mean error test: 2.9763750075035063\n       CO2_working_capacity [mL/g]\n47669                   227.009685\n11014                   216.354635\n22321                   176.592557\n58857                   174.165397\n7297                    169.623550\n21709                   169.233898\n11910                   168.456774\n31220                   168.052448\n19231                   165.485253\n14402                   165.102923\nK Fold: 44\nTRAIN: [    1     2     3 ... 66711 66712 66714] TEST: [    0    13    21 ... 66704 66710 66713]\nFound trained model\nLog mean error train: 2.0195474665647826\nLog mean error test: 2.9742356121829165\n       CO2_working_capacity [mL/g]\n45489                   193.712308\n26785                   190.177752\n9702                    188.147735\n13904                   176.776260\n49053                   166.932614\n36830                   163.869791\n4441                    161.018175\n45936                   157.691260\n20509                   154.978103\n8446                    154.969611\nK Fold: 45\nTRAIN: [    0     1     2 ... 66712 66713 66714] TEST: [    9    11    12 ... 66691 66702 66708]\nFound trained model\nLog mean error train: 2.022573667501542\nLog mean error test: 2.952889816470882\n       CO2_working_capacity [mL/g]\n47600                   190.645861\n18074                   175.051364\n19038                   172.791021\n43983                   158.505166\n48923                   156.991063\n32090                   153.207934\n36128                   150.701980\n21378                   147.959005\n47408                   146.749614\n8874                    146.397859\nK Fold: 46\nTRAIN: [    2     3     4 ... 66712 66713 66714] TEST: [    0     1    11 ... 66686 66689 66690]\nLog mean error train: 2.0177783752294203\nLog mean error test: 2.967796360107853\n       CO2_working_capacity [mL/g]\n56078                   210.742275\n22321                   202.291367\n8446                    189.333595\n16766                   187.240420\n2777                    170.436663\n11871                   168.938821\n20828                   167.861431\n19231                   164.970470\n30288                   163.325002\n23054                   156.890204\nK Fold: 47\nTRAIN: [    0     1     2 ... 66708 66711 66713] TEST: [    5     6    15 ... 66710 66712 66714]\nLog mean error train: 2.021942156432039\nLog mean error test: 2.9600719500278747\n       CO2_working_capacity [mL/g]\n47903                   234.041302\n36128                   183.115282\n31220                   169.042774\n26785                   165.415295\n4441                    160.522348\n43709                   158.204265\n5778                    148.822269\n21916                   144.465993\n27414                   144.212039\n49023                   143.955645\nK Fold: 48\nTRAIN: [    0     1     2 ... 66712 66713 66714] TEST: [   17    24    28 ... 66703 66708 66711]\nLog mean error train: 2.0170720222067855\nLog mean error test: 2.9749887006922755\n       CO2_working_capacity [mL/g]\n28722                   262.842294\n21709                   203.059574\n35428                   202.805870\n11014                   169.731799\n11240                   169.264788\n44412                   161.846214\n16575                   161.748478\n55867                   158.080267\n48923                   151.810145\n50021                   151.249784\nK Fold: 49\nTRAIN: [    0     1     2 ... 66712 66713 66714] TEST: [    9    10    20 ... 66705 66706 66707]\nLog mean error train: 2.0151037029969765\nLog mean error test: 2.958846781047162\n       CO2_working_capacity [mL/g]\n53862                   233.438517\n30349                   193.294974\n18566                   179.963073\n9702                    172.724830\n59445                   171.870367\n43997                   163.788813\n21363                   162.091985\n35777                   160.776228\n29602                   156.424120\n49595                   153.261773\nK Fold: 50\nTRAIN: [    0     1     5 ... 66711 66712 66714] TEST: [    2     3     4 ... 66698 66700 66713]\nLog mean error train: 2.017014093849017\nLog mean error test: 2.973347091861717\n       CO2_working_capacity [mL/g]\n45489                   206.811167\n17030                   206.586113\n37218                   187.267498\n19038                   183.590419\n36830                   175.069558\n21423                   168.170468\n58658                   166.689942\n14402                   155.932777\n22497                   155.231933\n47658                   151.705848\n",
     "output_type": "stream"
    }
   ],
   "execution_count": null
  },
  {
   "cell_type": "code",
   "metadata": {
    "tags": [],
    "deepnote_to_be_reexecuted": false,
    "source_hash": "89e759e0",
    "execution_start": 1632714873460,
    "execution_millis": 206,
    "cell_id": "00017-5f39c6ba-3b5a-4edd-877b-0bbb37298906",
    "deepnote_cell_type": "code"
   },
   "source": "\"\"\"\nfuncgroup2num = {c: i for i, c in enumerate(train['functional_groups'].unique())}\ntopology2num = {c: i for i, c in enumerate(train['topology'].unique())}\nspacegroup2num = {c: i for i, c in enumerate(train['_space_group_crystal_system'].unique())}\n\ntrain['label_funcgroup'] = train['functional_groups'].map(funcgroup2num)\ntrain['label_topology'] = train['topology'].map(topology2num)\ntrain['label_spacegroup'] = train['_space_group_crystal_system'].map(spacegroup2num)\n\"\"\"",
   "outputs": [
    {
     "output_type": "execute_result",
     "execution_count": 17,
     "data": {
      "text/plain": "\"\\nfuncgroup2num = {c: i for i, c in enumerate(train['functional_groups'].unique())}\\ntopology2num = {c: i for i, c in enumerate(train['topology'].unique())}\\nspacegroup2num = {c: i for i, c in enumerate(train['_space_group_crystal_system'].unique())}\\n\\ntrain['label_funcgroup'] = train['functional_groups'].map(funcgroup2num)\\ntrain['label_topology'] = train['topology'].map(topology2num)\\ntrain['label_spacegroup'] = train['_space_group_crystal_system'].map(spacegroup2num)\\n\""
     },
     "metadata": {}
    }
   ],
   "execution_count": null
  },
  {
   "cell_type": "code",
   "metadata": {
    "tags": [],
    "deepnote_to_be_reexecuted": false,
    "source_hash": "faa084aa",
    "execution_start": 1632714873492,
    "execution_millis": 174,
    "cell_id": "00018-137cbdcb-9947-4aab-a568-44fa13d7d0b8",
    "deepnote_cell_type": "code"
   },
   "source": "# np.mean([score['log_mean_error_test'] for score in fit_results['voting']])\nnp.mean([score['log_mean_error_test'] for score in fit_results[model_name]])",
   "outputs": [
    {
     "output_type": "execute_result",
     "execution_count": 18,
     "data": {
      "text/plain": "2.9684624134274595"
     },
     "metadata": {}
    }
   ],
   "execution_count": null
  },
  {
   "cell_type": "code",
   "metadata": {
    "tags": [],
    "deepnote_to_be_reexecuted": false,
    "source_hash": "f7f82583",
    "execution_start": 1632714873494,
    "execution_millis": 172,
    "cell_id": "00019-fe4aef8a-5b37-410c-b307-423ab334577b",
    "deepnote_cell_type": "code"
   },
   "source": "np.std([score['log_mean_error_test'] for score in fit_results[model_name]])",
   "outputs": [
    {
     "output_type": "execute_result",
     "execution_count": 19,
     "data": {
      "text/plain": "0.009023863426624893"
     },
     "metadata": {}
    }
   ],
   "execution_count": null
  },
  {
   "cell_type": "code",
   "metadata": {
    "tags": [],
    "deepnote_to_be_reexecuted": false,
    "source_hash": "fc853f7e",
    "execution_start": 1632714873496,
    "execution_millis": 0,
    "cell_id": "00020-0749abf6-537b-4265-8f21-08a5c8f52afb",
    "deepnote_cell_type": "code"
   },
   "source": "test_pred = pd.DataFrame(test_pred, index= y_test.index, columns=y_test.columns)\nerror_sort = np.abs(y_test - test_pred).sort_values(TARGET, ascending=False)",
   "outputs": [],
   "execution_count": null
  },
  {
   "cell_type": "code",
   "metadata": {
    "tags": [],
    "deepnote_to_be_reexecuted": false,
    "source_hash": "b623e53d",
    "execution_start": 1632714873501,
    "execution_millis": 2,
    "cell_id": "00021-034aece8-e22a-4bfc-a89d-4716eb23ce8c",
    "deepnote_cell_type": "code"
   },
   "source": "",
   "outputs": [],
   "execution_count": null
  },
  {
   "cell_type": "code",
   "metadata": {
    "tags": [],
    "deepnote_to_be_reexecuted": false,
    "source_hash": "94998eda",
    "execution_start": 1632714873504,
    "execution_millis": 162,
    "cell_id": "00022-2297d14c-14fb-4527-9b9a-6cdef4766c91",
    "deepnote_cell_type": "code"
   },
   "source": "Train.loc[error_sort.index].head(500).mean()",
   "outputs": [
    {
     "output_type": "execute_result",
     "execution_count": 21,
     "data": {
      "text/plain": "volume [A^3]                                     2.265067e+03\nweight [u]                                       1.454304e+03\nsurface_area [m^2/g]                             6.931915e+02\nvoid_fraction                                    1.514713e-01\nvoid_volume [cm^3/g]                             1.524986e-01\nmetal_linker                                     4.882000e+00\norganic_linker1                                  1.028200e+01\norganic_linker2                                  1.884800e+01\nCO2/N2_selectivity                               4.915384e+01\nheat_adsorption_CO2_P0.15bar_T298K [kcal/mol]    7.357837e+00\n_symmetry_Int_Tables_number                      1.000000e+00\n_cell_length_a                                   1.446276e+01\n_cell_length_b                                   1.186281e+01\n_cell_length_c                                   1.483968e+01\n_cell_angle_alpha                                9.178739e+01\n_cell_angle_beta                                 9.202541e+01\n_cell_angle_gamma                                9.263548e+01\n_cell_volume                                     2.265067e+03\npartial_charge_mean                             -3.406539e-10\npartial_charge_median                            4.564178e-02\npartial_charge_std                               4.026199e-01\nbond_type_countS                                 8.809200e+01\nbond_type_countA                                 5.829800e+01\nbond_type_countD                                 3.486000e+00\nbond_type_countT                                 1.214000e+00\nbond_type_countAm                                0.000000e+00\nCO2_working_capacity [mL/g]                      2.487518e+02\nCO2_mean                                         1.446740e+02\nCO2_median                                       1.252914e+02\nCO2_std                                          8.808016e+01\nCO2_min                                          1.145688e+01\nCO2_max                                          4.246609e+02\ndtype: float64"
     },
     "metadata": {}
    }
   ],
   "execution_count": null
  },
  {
   "cell_type": "code",
   "metadata": {
    "tags": [],
    "deepnote_to_be_reexecuted": false,
    "source_hash": "373521d2",
    "execution_start": 1632714873562,
    "execution_millis": 3,
    "cell_id": "00023-8f6d4db2-6e5f-4a0b-aaa1-e5be6d5f8cc7",
    "deepnote_cell_type": "code"
   },
   "source": "error_train = Train.loc[error_sort.index]\nTrain[\"LMAE\"] = error_sort.iloc[:, 0]\nTrain[\"prediction\"] = test_pred.iloc[:, 0]",
   "outputs": [],
   "execution_count": null
  },
  {
   "cell_type": "code",
   "metadata": {
    "tags": [],
    "deepnote_to_be_reexecuted": false,
    "source_hash": "d5dc3a80",
    "execution_start": 1632714873633,
    "execution_millis": 567,
    "cell_id": "00024-a7e032b4-5b10-4995-b052-965f9ae0765e",
    "deepnote_cell_type": "code"
   },
   "source": "Train.loc[error_sort.index].to_csv(\"error_train.csv\")",
   "outputs": [],
   "execution_count": null
  },
  {
   "cell_type": "code",
   "metadata": {
    "tags": [],
    "deepnote_to_be_reexecuted": false,
    "source_hash": "acbdf18d",
    "execution_start": 1632714874209,
    "execution_millis": 50,
    "cell_id": "00025-3c472b3c-7ff9-4a33-97e0-82c97ef8a451",
    "deepnote_cell_type": "code"
   },
   "source": "Train.loc[error_sort.index].tail(500).mean()",
   "outputs": [
    {
     "output_type": "execute_result",
     "execution_count": 24,
     "data": {
      "text/plain": "volume [A^3]                                     6.619486e+03\nweight [u]                                       2.123008e+03\nsurface_area [m^2/g]                             2.777018e+03\nvoid_fraction                                    4.164712e-01\nvoid_volume [cm^3/g]                             8.233506e-01\nmetal_linker                                     3.364000e+00\norganic_linker1                                  1.089000e+01\norganic_linker2                                  2.045200e+01\nCO2/N2_selectivity                               1.698830e+01\nheat_adsorption_CO2_P0.15bar_T298K [kcal/mol]    4.798332e+00\n_symmetry_Int_Tables_number                      1.000000e+00\n_cell_length_a                                   1.698960e+01\n_cell_length_b                                   1.705768e+01\n_cell_length_c                                   1.857872e+01\n_cell_angle_alpha                                9.265547e+01\n_cell_angle_beta                                 9.456077e+01\n_cell_angle_gamma                                9.243795e+01\n_cell_volume                                     6.619486e+03\npartial_charge_mean                             -9.364850e-10\npartial_charge_median                            2.188116e-02\npartial_charge_std                               4.098085e-01\nbond_type_countS                                 1.115420e+02\nbond_type_countA                                 7.018000e+01\nbond_type_countD                                 4.562000e+00\nbond_type_countT                                 3.824000e+00\nbond_type_countAm                                8.800000e-02\nCO2_working_capacity [mL/g]                      6.039871e+01\nCO2_mean                                         9.264760e+01\nCO2_median                                       7.910591e+01\nCO2_std                                          6.438045e+01\nCO2_min                                         -1.602890e-01\nCO2_max                                          3.207878e+02\nLMAE                                             3.037327e-01\nprediction                                       6.038558e+01\ndtype: float64"
     },
     "metadata": {}
    }
   ],
   "execution_count": null
  },
  {
   "cell_type": "code",
   "metadata": {
    "tags": [],
    "deepnote_to_be_reexecuted": false,
    "source_hash": "fe6523d9",
    "execution_start": 1632714874241,
    "execution_millis": 0,
    "cell_id": "00026-55442f10-18e7-4bfc-9ee5-8fe31b6fc572",
    "deepnote_cell_type": "code"
   },
   "source": "# train_prediction = .predict(X)",
   "outputs": [],
   "execution_count": null
  },
  {
   "cell_type": "code",
   "metadata": {
    "tags": [],
    "deepnote_to_be_reexecuted": false,
    "source_hash": "b0c387f5",
    "execution_start": 1632714874241,
    "execution_millis": 1,
    "cell_id": "00027-90629d1f-8160-447e-afe7-6ff2c6f5a2cd",
    "deepnote_cell_type": "code"
   },
   "source": "# np.log(mean_absolute_error(train_prediction, y))",
   "outputs": [],
   "execution_count": null
  },
  {
   "cell_type": "code",
   "metadata": {
    "tags": [],
    "deepnote_to_be_reexecuted": false,
    "source_hash": "fe1547a",
    "execution_start": 1632714874270,
    "execution_millis": 0,
    "cell_id": "00028-3aee8afc-a8be-4ac6-a9e3-02abd5926c6e",
    "deepnote_cell_type": "code"
   },
   "source": "# feature_importances = pd.DataFrame(catboost.feature_importances_)\n# feature_importances.index = Train.drop(TARGET, axis=1).columns",
   "outputs": [],
   "execution_count": null
  },
  {
   "cell_type": "code",
   "metadata": {
    "tags": [],
    "deepnote_to_be_reexecuted": false,
    "source_hash": "1898d942",
    "execution_start": 1632714874271,
    "execution_millis": 0,
    "cell_id": "00029-dd8965cd-c8d7-460d-880e-0a37fb6d2bca",
    "deepnote_cell_type": "code"
   },
   "source": "# feature_importances.sort_values(by=0, ascending=False)",
   "outputs": [],
   "execution_count": null
  },
  {
   "cell_type": "code",
   "metadata": {
    "tags": [],
    "deepnote_to_be_reexecuted": false,
    "source_hash": "ee960895",
    "execution_start": 1632714874271,
    "execution_millis": 0,
    "cell_id": "00030-b7b1cac3-9236-493a-985f-699bce96fb3a",
    "deepnote_cell_type": "code"
   },
   "source": "# feature_importances[0].nlargest(20).plot(kind='barh')",
   "outputs": [],
   "execution_count": null
  },
  {
   "cell_type": "code",
   "metadata": {
    "tags": [],
    "deepnote_to_be_reexecuted": false,
    "source_hash": "ac13f7e0",
    "execution_start": 1632714874273,
    "execution_millis": 53660054,
    "cell_id": "00031-3a312aa0-f97a-43f8-80b7-cdf7f9c43dc5",
    "deepnote_cell_type": "code"
   },
   "source": "# feature_importances[0].nlargest(20).index",
   "outputs": [],
   "execution_count": null
  },
  {
   "cell_type": "code",
   "metadata": {
    "tags": [],
    "deepnote_to_be_reexecuted": false,
    "source_hash": "9ebd45c",
    "execution_start": 1632714874330,
    "execution_millis": 10336,
    "cell_id": "00034-5d849375-913c-4a11-b708-ed18b79340b8",
    "deepnote_cell_type": "code"
   },
   "source": "sub = np.mean(\n    [model['model'].predict(test.X) for model in fit_results[model_name]],\n    axis=0\n)",
   "outputs": [],
   "execution_count": null
  },
  {
   "cell_type": "code",
   "metadata": {
    "tags": [],
    "deepnote_to_be_reexecuted": false,
    "source_hash": "edbc753e",
    "execution_start": 1632714884675,
    "execution_millis": 0,
    "cell_id": "00035-efd12b8f-5a51-4afe-9489-b048a6331c8c",
    "deepnote_cell_type": "code"
   },
   "source": "sub = pd.DataFrame(sub)",
   "outputs": [],
   "execution_count": null
  },
  {
   "cell_type": "code",
   "metadata": {
    "tags": [],
    "deepnote_to_be_reexecuted": false,
    "source_hash": "b867ab08",
    "execution_start": 1632714884686,
    "execution_millis": 1,
    "cell_id": "00036-1519f4e0-2aca-42cb-9f5f-3b76f404f2a8",
    "deepnote_cell_type": "code"
   },
   "source": "# Pretest = pd.read_csv(f\"{PREPROCESSING_PATH}/pretest_merged_CIF/Pretest.csv\")\n# Pretest = Pretest.set_index(Pretest.columns[0])\nsub.index = \"pretest_\" + pd.Index(range(1, sub.shape[0] + 1)).astype(str)\nsub.index = sub.index.set_names('id')\nsub.columns = ['CO2_working_capacity [mL/g]']",
   "outputs": [],
   "execution_count": null
  },
  {
   "cell_type": "code",
   "metadata": {
    "tags": [],
    "deepnote_to_be_reexecuted": false,
    "source_hash": "d977bc2a",
    "execution_start": 1632714884699,
    "execution_millis": 93,
    "cell_id": "00037-5322410f-62ba-413b-8c15-aa23362bdcea",
    "deepnote_cell_type": "code"
   },
   "source": "sub",
   "outputs": [
    {
     "output_type": "execute_result",
     "execution_count": 34,
     "data": {
      "application/vnd.deepnote.dataframe.v2+json": {
       "row_count": 2000,
       "column_count": 1,
       "columns": [
        {
         "name": "CO2_working_capacity [mL/g]",
         "dtype": "float64",
         "stats": {
          "unique_count": 2000,
          "nan_count": 0,
          "min": "-14.824917991928642",
          "max": "514.5571625697144",
          "histogram": [
           {
            "bin_start": -14.824917991928642,
            "bin_end": 38.113290064235656,
            "count": 481
           },
           {
            "bin_start": 38.113290064235656,
            "bin_end": 91.05149812039996,
            "count": 567
           },
           {
            "bin_start": 91.05149812039996,
            "bin_end": 143.98970617656428,
            "count": 448
           },
           {
            "bin_start": 143.98970617656428,
            "bin_end": 196.92791423272857,
            "count": 226
           },
           {
            "bin_start": 196.92791423272857,
            "bin_end": 249.86612228889285,
            "count": 143
           },
           {
            "bin_start": 249.86612228889285,
            "bin_end": 302.80433034505717,
            "count": 75
           },
           {
            "bin_start": 302.80433034505717,
            "bin_end": 355.74253840122145,
            "count": 30
           },
           {
            "bin_start": 355.74253840122145,
            "bin_end": 408.68074645738574,
            "count": 14
           },
           {
            "bin_start": 408.68074645738574,
            "bin_end": 461.61895451355,
            "count": 13
           },
           {
            "bin_start": 461.61895451355,
            "bin_end": 514.5571625697144,
            "count": 3
           }
          ]
         }
        },
        {
         "name": "_deepnote_index_column",
         "dtype": "object"
        }
       ],
       "rows_top": [
        {
         "CO2_working_capacity [mL/g]": 105.9316641960167,
         "_deepnote_index_column": "pretest_1"
        },
        {
         "CO2_working_capacity [mL/g]": 131.44213644025865,
         "_deepnote_index_column": "pretest_2"
        },
        {
         "CO2_working_capacity [mL/g]": 203.31036948009765,
         "_deepnote_index_column": "pretest_3"
        },
        {
         "CO2_working_capacity [mL/g]": 65.87398360152659,
         "_deepnote_index_column": "pretest_4"
        },
        {
         "CO2_working_capacity [mL/g]": 92.52129400325246,
         "_deepnote_index_column": "pretest_5"
        },
        {
         "CO2_working_capacity [mL/g]": 259.5786325340861,
         "_deepnote_index_column": "pretest_6"
        },
        {
         "CO2_working_capacity [mL/g]": 110.24613276549434,
         "_deepnote_index_column": "pretest_7"
        },
        {
         "CO2_working_capacity [mL/g]": 83.10522061372774,
         "_deepnote_index_column": "pretest_8"
        },
        {
         "CO2_working_capacity [mL/g]": 104.54859133797872,
         "_deepnote_index_column": "pretest_9"
        },
        {
         "CO2_working_capacity [mL/g]": 439.4714404582308,
         "_deepnote_index_column": "pretest_10"
        },
        {
         "CO2_working_capacity [mL/g]": 195.85683372689726,
         "_deepnote_index_column": "pretest_11"
        },
        {
         "CO2_working_capacity [mL/g]": 164.6257011864787,
         "_deepnote_index_column": "pretest_12"
        },
        {
         "CO2_working_capacity [mL/g]": 72.89150040040182,
         "_deepnote_index_column": "pretest_13"
        },
        {
         "CO2_working_capacity [mL/g]": 254.3044553723641,
         "_deepnote_index_column": "pretest_14"
        },
        {
         "CO2_working_capacity [mL/g]": 251.98327980661168,
         "_deepnote_index_column": "pretest_15"
        },
        {
         "CO2_working_capacity [mL/g]": 73.11795844446597,
         "_deepnote_index_column": "pretest_16"
        },
        {
         "CO2_working_capacity [mL/g]": 60.70210067122029,
         "_deepnote_index_column": "pretest_17"
        },
        {
         "CO2_working_capacity [mL/g]": 67.57982861820635,
         "_deepnote_index_column": "pretest_18"
        },
        {
         "CO2_working_capacity [mL/g]": 73.63629595004046,
         "_deepnote_index_column": "pretest_19"
        },
        {
         "CO2_working_capacity [mL/g]": 165.61668066014124,
         "_deepnote_index_column": "pretest_20"
        },
        {
         "CO2_working_capacity [mL/g]": 48.63118821192181,
         "_deepnote_index_column": "pretest_21"
        },
        {
         "CO2_working_capacity [mL/g]": 186.03024031695844,
         "_deepnote_index_column": "pretest_22"
        },
        {
         "CO2_working_capacity [mL/g]": 158.68378731626416,
         "_deepnote_index_column": "pretest_23"
        },
        {
         "CO2_working_capacity [mL/g]": 128.3708322327851,
         "_deepnote_index_column": "pretest_24"
        },
        {
         "CO2_working_capacity [mL/g]": 180.12425329278472,
         "_deepnote_index_column": "pretest_25"
        },
        {
         "CO2_working_capacity [mL/g]": 215.95531873342304,
         "_deepnote_index_column": "pretest_26"
        },
        {
         "CO2_working_capacity [mL/g]": 77.90956307246778,
         "_deepnote_index_column": "pretest_27"
        },
        {
         "CO2_working_capacity [mL/g]": 99.2555243764207,
         "_deepnote_index_column": "pretest_28"
        },
        {
         "CO2_working_capacity [mL/g]": 62.14089527110443,
         "_deepnote_index_column": "pretest_29"
        },
        {
         "CO2_working_capacity [mL/g]": 147.122839552039,
         "_deepnote_index_column": "pretest_30"
        },
        {
         "CO2_working_capacity [mL/g]": 164.16021571100882,
         "_deepnote_index_column": "pretest_31"
        },
        {
         "CO2_working_capacity [mL/g]": 67.7765386684589,
         "_deepnote_index_column": "pretest_32"
        },
        {
         "CO2_working_capacity [mL/g]": 101.1371018677542,
         "_deepnote_index_column": "pretest_33"
        },
        {
         "CO2_working_capacity [mL/g]": 69.89319229277861,
         "_deepnote_index_column": "pretest_34"
        },
        {
         "CO2_working_capacity [mL/g]": 110.56111525008932,
         "_deepnote_index_column": "pretest_35"
        },
        {
         "CO2_working_capacity [mL/g]": 91.22078709672975,
         "_deepnote_index_column": "pretest_36"
        },
        {
         "CO2_working_capacity [mL/g]": 78.57443131705497,
         "_deepnote_index_column": "pretest_37"
        },
        {
         "CO2_working_capacity [mL/g]": 66.99835913357211,
         "_deepnote_index_column": "pretest_38"
        },
        {
         "CO2_working_capacity [mL/g]": 105.35303464291319,
         "_deepnote_index_column": "pretest_39"
        },
        {
         "CO2_working_capacity [mL/g]": 121.52553909310767,
         "_deepnote_index_column": "pretest_40"
        },
        {
         "CO2_working_capacity [mL/g]": 97.35493008107923,
         "_deepnote_index_column": "pretest_41"
        },
        {
         "CO2_working_capacity [mL/g]": 272.6795208487278,
         "_deepnote_index_column": "pretest_42"
        },
        {
         "CO2_working_capacity [mL/g]": 77.23375496292357,
         "_deepnote_index_column": "pretest_43"
        },
        {
         "CO2_working_capacity [mL/g]": 200.05016302885986,
         "_deepnote_index_column": "pretest_44"
        },
        {
         "CO2_working_capacity [mL/g]": 156.79888930567472,
         "_deepnote_index_column": "pretest_45"
        },
        {
         "CO2_working_capacity [mL/g]": 134.16573681447989,
         "_deepnote_index_column": "pretest_46"
        },
        {
         "CO2_working_capacity [mL/g]": 79.34226396896018,
         "_deepnote_index_column": "pretest_47"
        },
        {
         "CO2_working_capacity [mL/g]": 151.66398885869557,
         "_deepnote_index_column": "pretest_48"
        },
        {
         "CO2_working_capacity [mL/g]": 173.6358464650971,
         "_deepnote_index_column": "pretest_49"
        },
        {
         "CO2_working_capacity [mL/g]": 54.762731815623354,
         "_deepnote_index_column": "pretest_50"
        },
        {
         "CO2_working_capacity [mL/g]": 125.89634801157648,
         "_deepnote_index_column": "pretest_51"
        },
        {
         "CO2_working_capacity [mL/g]": 91.94205206015754,
         "_deepnote_index_column": "pretest_52"
        },
        {
         "CO2_working_capacity [mL/g]": 81.43138465538519,
         "_deepnote_index_column": "pretest_53"
        },
        {
         "CO2_working_capacity [mL/g]": 155.29666253378338,
         "_deepnote_index_column": "pretest_54"
        },
        {
         "CO2_working_capacity [mL/g]": 108.33122118365105,
         "_deepnote_index_column": "pretest_55"
        },
        {
         "CO2_working_capacity [mL/g]": 63.626659107763125,
         "_deepnote_index_column": "pretest_56"
        },
        {
         "CO2_working_capacity [mL/g]": 70.7188748036221,
         "_deepnote_index_column": "pretest_57"
        },
        {
         "CO2_working_capacity [mL/g]": 131.47036742865902,
         "_deepnote_index_column": "pretest_58"
        },
        {
         "CO2_working_capacity [mL/g]": 180.63170394088453,
         "_deepnote_index_column": "pretest_59"
        },
        {
         "CO2_working_capacity [mL/g]": 92.09168136083312,
         "_deepnote_index_column": "pretest_60"
        },
        {
         "CO2_working_capacity [mL/g]": 284.77880355999326,
         "_deepnote_index_column": "pretest_61"
        },
        {
         "CO2_working_capacity [mL/g]": 87.41348627206418,
         "_deepnote_index_column": "pretest_62"
        },
        {
         "CO2_working_capacity [mL/g]": 76.2996692418505,
         "_deepnote_index_column": "pretest_63"
        },
        {
         "CO2_working_capacity [mL/g]": 128.9027578549666,
         "_deepnote_index_column": "pretest_64"
        },
        {
         "CO2_working_capacity [mL/g]": 80.50281545186864,
         "_deepnote_index_column": "pretest_65"
        },
        {
         "CO2_working_capacity [mL/g]": 147.33686806607278,
         "_deepnote_index_column": "pretest_66"
        },
        {
         "CO2_working_capacity [mL/g]": 129.13387439125378,
         "_deepnote_index_column": "pretest_67"
        },
        {
         "CO2_working_capacity [mL/g]": 156.35932672089905,
         "_deepnote_index_column": "pretest_68"
        },
        {
         "CO2_working_capacity [mL/g]": 208.01291259582524,
         "_deepnote_index_column": "pretest_69"
        },
        {
         "CO2_working_capacity [mL/g]": 88.65912854076407,
         "_deepnote_index_column": "pretest_70"
        },
        {
         "CO2_working_capacity [mL/g]": 306.3700780600617,
         "_deepnote_index_column": "pretest_71"
        },
        {
         "CO2_working_capacity [mL/g]": 200.52455143013248,
         "_deepnote_index_column": "pretest_72"
        },
        {
         "CO2_working_capacity [mL/g]": 66.65205296959863,
         "_deepnote_index_column": "pretest_73"
        },
        {
         "CO2_working_capacity [mL/g]": 198.16722493822232,
         "_deepnote_index_column": "pretest_74"
        },
        {
         "CO2_working_capacity [mL/g]": 232.05246586345177,
         "_deepnote_index_column": "pretest_75"
        },
        {
         "CO2_working_capacity [mL/g]": 162.03151505959227,
         "_deepnote_index_column": "pretest_76"
        },
        {
         "CO2_working_capacity [mL/g]": 189.50278402464042,
         "_deepnote_index_column": "pretest_77"
        },
        {
         "CO2_working_capacity [mL/g]": 113.91698134934367,
         "_deepnote_index_column": "pretest_78"
        },
        {
         "CO2_working_capacity [mL/g]": 89.13102494824065,
         "_deepnote_index_column": "pretest_79"
        },
        {
         "CO2_working_capacity [mL/g]": 104.41210254570322,
         "_deepnote_index_column": "pretest_80"
        },
        {
         "CO2_working_capacity [mL/g]": 110.79181807395935,
         "_deepnote_index_column": "pretest_81"
        },
        {
         "CO2_working_capacity [mL/g]": 167.15198918605032,
         "_deepnote_index_column": "pretest_82"
        },
        {
         "CO2_working_capacity [mL/g]": 86.86396307450073,
         "_deepnote_index_column": "pretest_83"
        },
        {
         "CO2_working_capacity [mL/g]": 253.8208792398683,
         "_deepnote_index_column": "pretest_84"
        },
        {
         "CO2_working_capacity [mL/g]": 75.7366320998311,
         "_deepnote_index_column": "pretest_85"
        },
        {
         "CO2_working_capacity [mL/g]": 67.32150761718793,
         "_deepnote_index_column": "pretest_86"
        },
        {
         "CO2_working_capacity [mL/g]": 108.2206507210968,
         "_deepnote_index_column": "pretest_87"
        },
        {
         "CO2_working_capacity [mL/g]": 140.52785655171755,
         "_deepnote_index_column": "pretest_88"
        },
        {
         "CO2_working_capacity [mL/g]": 97.45289095932434,
         "_deepnote_index_column": "pretest_89"
        },
        {
         "CO2_working_capacity [mL/g]": 208.12238503838026,
         "_deepnote_index_column": "pretest_90"
        },
        {
         "CO2_working_capacity [mL/g]": 94.15873074749256,
         "_deepnote_index_column": "pretest_91"
        },
        {
         "CO2_working_capacity [mL/g]": 197.65580838346597,
         "_deepnote_index_column": "pretest_92"
        },
        {
         "CO2_working_capacity [mL/g]": 121.54758647589497,
         "_deepnote_index_column": "pretest_93"
        },
        {
         "CO2_working_capacity [mL/g]": 186.90974444475742,
         "_deepnote_index_column": "pretest_94"
        },
        {
         "CO2_working_capacity [mL/g]": 77.74037430299332,
         "_deepnote_index_column": "pretest_95"
        },
        {
         "CO2_working_capacity [mL/g]": 173.93250124042117,
         "_deepnote_index_column": "pretest_96"
        },
        {
         "CO2_working_capacity [mL/g]": 63.02025369255398,
         "_deepnote_index_column": "pretest_97"
        },
        {
         "CO2_working_capacity [mL/g]": 88.2584886455659,
         "_deepnote_index_column": "pretest_98"
        },
        {
         "CO2_working_capacity [mL/g]": 183.36069322281955,
         "_deepnote_index_column": "pretest_99"
        },
        {
         "CO2_working_capacity [mL/g]": 69.48860976746931,
         "_deepnote_index_column": "pretest_100"
        },
        {
         "CO2_working_capacity [mL/g]": 75.99139400799766,
         "_deepnote_index_column": "pretest_101"
        },
        {
         "CO2_working_capacity [mL/g]": 104.5198644391343,
         "_deepnote_index_column": "pretest_102"
        },
        {
         "CO2_working_capacity [mL/g]": 93.91083017503529,
         "_deepnote_index_column": "pretest_103"
        },
        {
         "CO2_working_capacity [mL/g]": 124.38076290084959,
         "_deepnote_index_column": "pretest_104"
        },
        {
         "CO2_working_capacity [mL/g]": 72.56535126590433,
         "_deepnote_index_column": "pretest_105"
        },
        {
         "CO2_working_capacity [mL/g]": 106.22116284708909,
         "_deepnote_index_column": "pretest_106"
        },
        {
         "CO2_working_capacity [mL/g]": 100.15607200709513,
         "_deepnote_index_column": "pretest_107"
        },
        {
         "CO2_working_capacity [mL/g]": 226.67047346966802,
         "_deepnote_index_column": "pretest_108"
        },
        {
         "CO2_working_capacity [mL/g]": 70.68566043774074,
         "_deepnote_index_column": "pretest_109"
        },
        {
         "CO2_working_capacity [mL/g]": 85.4263814807454,
         "_deepnote_index_column": "pretest_110"
        },
        {
         "CO2_working_capacity [mL/g]": 86.6191676389137,
         "_deepnote_index_column": "pretest_111"
        },
        {
         "CO2_working_capacity [mL/g]": 163.17146498652997,
         "_deepnote_index_column": "pretest_112"
        },
        {
         "CO2_working_capacity [mL/g]": 224.97380102925112,
         "_deepnote_index_column": "pretest_113"
        },
        {
         "CO2_working_capacity [mL/g]": 78.41028659557877,
         "_deepnote_index_column": "pretest_114"
        },
        {
         "CO2_working_capacity [mL/g]": 98.29556702099849,
         "_deepnote_index_column": "pretest_115"
        },
        {
         "CO2_working_capacity [mL/g]": 78.20066705263368,
         "_deepnote_index_column": "pretest_116"
        },
        {
         "CO2_working_capacity [mL/g]": 120.29788325631056,
         "_deepnote_index_column": "pretest_117"
        },
        {
         "CO2_working_capacity [mL/g]": 117.00258072520239,
         "_deepnote_index_column": "pretest_118"
        },
        {
         "CO2_working_capacity [mL/g]": 235.10362531141809,
         "_deepnote_index_column": "pretest_119"
        },
        {
         "CO2_working_capacity [mL/g]": 96.0734520738972,
         "_deepnote_index_column": "pretest_120"
        },
        {
         "CO2_working_capacity [mL/g]": 68.63638460138706,
         "_deepnote_index_column": "pretest_121"
        },
        {
         "CO2_working_capacity [mL/g]": 118.81488824843973,
         "_deepnote_index_column": "pretest_122"
        },
        {
         "CO2_working_capacity [mL/g]": 112.50266111537539,
         "_deepnote_index_column": "pretest_123"
        },
        {
         "CO2_working_capacity [mL/g]": 107.08543227049772,
         "_deepnote_index_column": "pretest_124"
        },
        {
         "CO2_working_capacity [mL/g]": 172.20090578471735,
         "_deepnote_index_column": "pretest_125"
        },
        {
         "CO2_working_capacity [mL/g]": 46.515509451070656,
         "_deepnote_index_column": "pretest_126"
        },
        {
         "CO2_working_capacity [mL/g]": 131.3780179909498,
         "_deepnote_index_column": "pretest_127"
        },
        {
         "CO2_working_capacity [mL/g]": 172.30951186966277,
         "_deepnote_index_column": "pretest_128"
        },
        {
         "CO2_working_capacity [mL/g]": 79.05570415749378,
         "_deepnote_index_column": "pretest_129"
        },
        {
         "CO2_working_capacity [mL/g]": 147.64916478761776,
         "_deepnote_index_column": "pretest_130"
        },
        {
         "CO2_working_capacity [mL/g]": 186.72335810749843,
         "_deepnote_index_column": "pretest_131"
        },
        {
         "CO2_working_capacity [mL/g]": 64.25111789786504,
         "_deepnote_index_column": "pretest_132"
        },
        {
         "CO2_working_capacity [mL/g]": 266.9556136975047,
         "_deepnote_index_column": "pretest_133"
        },
        {
         "CO2_working_capacity [mL/g]": 85.83834383438234,
         "_deepnote_index_column": "pretest_134"
        },
        {
         "CO2_working_capacity [mL/g]": 217.53626203010666,
         "_deepnote_index_column": "pretest_135"
        },
        {
         "CO2_working_capacity [mL/g]": 230.80235180133147,
         "_deepnote_index_column": "pretest_136"
        },
        {
         "CO2_working_capacity [mL/g]": 210.36225634209055,
         "_deepnote_index_column": "pretest_137"
        },
        {
         "CO2_working_capacity [mL/g]": 139.4010096633923,
         "_deepnote_index_column": "pretest_138"
        },
        {
         "CO2_working_capacity [mL/g]": 85.7834397327191,
         "_deepnote_index_column": "pretest_139"
        },
        {
         "CO2_working_capacity [mL/g]": 63.275414261357476,
         "_deepnote_index_column": "pretest_140"
        },
        {
         "CO2_working_capacity [mL/g]": 121.06791890314675,
         "_deepnote_index_column": "pretest_141"
        },
        {
         "CO2_working_capacity [mL/g]": 63.1476199160744,
         "_deepnote_index_column": "pretest_142"
        },
        {
         "CO2_working_capacity [mL/g]": 76.76665796767384,
         "_deepnote_index_column": "pretest_143"
        },
        {
         "CO2_working_capacity [mL/g]": 80.91290097822258,
         "_deepnote_index_column": "pretest_144"
        },
        {
         "CO2_working_capacity [mL/g]": 62.865143592584424,
         "_deepnote_index_column": "pretest_145"
        },
        {
         "CO2_working_capacity [mL/g]": 92.28250631498477,
         "_deepnote_index_column": "pretest_146"
        },
        {
         "CO2_working_capacity [mL/g]": 91.43470117621213,
         "_deepnote_index_column": "pretest_147"
        },
        {
         "CO2_working_capacity [mL/g]": 199.5010629214589,
         "_deepnote_index_column": "pretest_148"
        },
        {
         "CO2_working_capacity [mL/g]": 137.16810234309452,
         "_deepnote_index_column": "pretest_149"
        },
        {
         "CO2_working_capacity [mL/g]": 154.0478404657206,
         "_deepnote_index_column": "pretest_150"
        },
        {
         "CO2_working_capacity [mL/g]": 76.282659834462,
         "_deepnote_index_column": "pretest_151"
        },
        {
         "CO2_working_capacity [mL/g]": 160.55632355404398,
         "_deepnote_index_column": "pretest_152"
        },
        {
         "CO2_working_capacity [mL/g]": 91.82898992278302,
         "_deepnote_index_column": "pretest_153"
        },
        {
         "CO2_working_capacity [mL/g]": 76.92813949705382,
         "_deepnote_index_column": "pretest_154"
        },
        {
         "CO2_working_capacity [mL/g]": 454.67142796287555,
         "_deepnote_index_column": "pretest_155"
        },
        {
         "CO2_working_capacity [mL/g]": 242.73402335465923,
         "_deepnote_index_column": "pretest_156"
        },
        {
         "CO2_working_capacity [mL/g]": 66.63208361387598,
         "_deepnote_index_column": "pretest_157"
        },
        {
         "CO2_working_capacity [mL/g]": 160.58386297739506,
         "_deepnote_index_column": "pretest_158"
        },
        {
         "CO2_working_capacity [mL/g]": 105.81572622597675,
         "_deepnote_index_column": "pretest_159"
        },
        {
         "CO2_working_capacity [mL/g]": 201.01203047524297,
         "_deepnote_index_column": "pretest_160"
        },
        {
         "CO2_working_capacity [mL/g]": 168.78304721733616,
         "_deepnote_index_column": "pretest_161"
        },
        {
         "CO2_working_capacity [mL/g]": 92.36386363633588,
         "_deepnote_index_column": "pretest_162"
        },
        {
         "CO2_working_capacity [mL/g]": 100.85011464761004,
         "_deepnote_index_column": "pretest_163"
        },
        {
         "CO2_working_capacity [mL/g]": 112.6882184418796,
         "_deepnote_index_column": "pretest_164"
        },
        {
         "CO2_working_capacity [mL/g]": 113.63302159196267,
         "_deepnote_index_column": "pretest_165"
        },
        {
         "CO2_working_capacity [mL/g]": 251.71361568302996,
         "_deepnote_index_column": "pretest_166"
        },
        {
         "CO2_working_capacity [mL/g]": 352.7311930449387,
         "_deepnote_index_column": "pretest_167"
        },
        {
         "CO2_working_capacity [mL/g]": 238.84112709901495,
         "_deepnote_index_column": "pretest_168"
        },
        {
         "CO2_working_capacity [mL/g]": 86.55845097370937,
         "_deepnote_index_column": "pretest_169"
        },
        {
         "CO2_working_capacity [mL/g]": 259.8541370368327,
         "_deepnote_index_column": "pretest_170"
        },
        {
         "CO2_working_capacity [mL/g]": 191.8449061768311,
         "_deepnote_index_column": "pretest_171"
        },
        {
         "CO2_working_capacity [mL/g]": 106.89788038993464,
         "_deepnote_index_column": "pretest_172"
        },
        {
         "CO2_working_capacity [mL/g]": 85.65233268387628,
         "_deepnote_index_column": "pretest_173"
        },
        {
         "CO2_working_capacity [mL/g]": 135.48081062649496,
         "_deepnote_index_column": "pretest_174"
        },
        {
         "CO2_working_capacity [mL/g]": 196.57656867940452,
         "_deepnote_index_column": "pretest_175"
        },
        {
         "CO2_working_capacity [mL/g]": 109.3133620138714,
         "_deepnote_index_column": "pretest_176"
        },
        {
         "CO2_working_capacity [mL/g]": 86.56210049632385,
         "_deepnote_index_column": "pretest_177"
        },
        {
         "CO2_working_capacity [mL/g]": 61.243748102500774,
         "_deepnote_index_column": "pretest_178"
        },
        {
         "CO2_working_capacity [mL/g]": 149.07350626841327,
         "_deepnote_index_column": "pretest_179"
        },
        {
         "CO2_working_capacity [mL/g]": 80.39231561098326,
         "_deepnote_index_column": "pretest_180"
        },
        {
         "CO2_working_capacity [mL/g]": 76.41889424246374,
         "_deepnote_index_column": "pretest_181"
        },
        {
         "CO2_working_capacity [mL/g]": 59.34186413571913,
         "_deepnote_index_column": "pretest_182"
        },
        {
         "CO2_working_capacity [mL/g]": 106.31527253832445,
         "_deepnote_index_column": "pretest_183"
        },
        {
         "CO2_working_capacity [mL/g]": 151.19377814939057,
         "_deepnote_index_column": "pretest_184"
        },
        {
         "CO2_working_capacity [mL/g]": 97.87262849198339,
         "_deepnote_index_column": "pretest_185"
        },
        {
         "CO2_working_capacity [mL/g]": 82.02320247874714,
         "_deepnote_index_column": "pretest_186"
        },
        {
         "CO2_working_capacity [mL/g]": 94.93844078800379,
         "_deepnote_index_column": "pretest_187"
        },
        {
         "CO2_working_capacity [mL/g]": 67.97106266438217,
         "_deepnote_index_column": "pretest_188"
        },
        {
         "CO2_working_capacity [mL/g]": 114.20425846710867,
         "_deepnote_index_column": "pretest_189"
        },
        {
         "CO2_working_capacity [mL/g]": 116.74300495654593,
         "_deepnote_index_column": "pretest_190"
        },
        {
         "CO2_working_capacity [mL/g]": 85.52107378881483,
         "_deepnote_index_column": "pretest_191"
        },
        {
         "CO2_working_capacity [mL/g]": 70.2352585059625,
         "_deepnote_index_column": "pretest_192"
        },
        {
         "CO2_working_capacity [mL/g]": 81.10194049679328,
         "_deepnote_index_column": "pretest_193"
        },
        {
         "CO2_working_capacity [mL/g]": 126.69234683953287,
         "_deepnote_index_column": "pretest_194"
        },
        {
         "CO2_working_capacity [mL/g]": 120.62897726916519,
         "_deepnote_index_column": "pretest_195"
        },
        {
         "CO2_working_capacity [mL/g]": 72.49911159486176,
         "_deepnote_index_column": "pretest_196"
        },
        {
         "CO2_working_capacity [mL/g]": 206.10393410209213,
         "_deepnote_index_column": "pretest_197"
        },
        {
         "CO2_working_capacity [mL/g]": 49.3799241917408,
         "_deepnote_index_column": "pretest_198"
        },
        {
         "CO2_working_capacity [mL/g]": 58.83711506432568,
         "_deepnote_index_column": "pretest_199"
        },
        {
         "CO2_working_capacity [mL/g]": 117.9194027565129,
         "_deepnote_index_column": "pretest_200"
        },
        {
         "CO2_working_capacity [mL/g]": 127.6231516235661,
         "_deepnote_index_column": "pretest_201"
        },
        {
         "CO2_working_capacity [mL/g]": 147.37958317952527,
         "_deepnote_index_column": "pretest_202"
        },
        {
         "CO2_working_capacity [mL/g]": 37.348236185320474,
         "_deepnote_index_column": "pretest_203"
        },
        {
         "CO2_working_capacity [mL/g]": 66.19769664705464,
         "_deepnote_index_column": "pretest_204"
        },
        {
         "CO2_working_capacity [mL/g]": 113.74694477322099,
         "_deepnote_index_column": "pretest_205"
        },
        {
         "CO2_working_capacity [mL/g]": 104.42146526361168,
         "_deepnote_index_column": "pretest_206"
        },
        {
         "CO2_working_capacity [mL/g]": 61.20123368239021,
         "_deepnote_index_column": "pretest_207"
        },
        {
         "CO2_working_capacity [mL/g]": 174.37483894213793,
         "_deepnote_index_column": "pretest_208"
        },
        {
         "CO2_working_capacity [mL/g]": 74.69494816659765,
         "_deepnote_index_column": "pretest_209"
        },
        {
         "CO2_working_capacity [mL/g]": 177.60088926351872,
         "_deepnote_index_column": "pretest_210"
        },
        {
         "CO2_working_capacity [mL/g]": 63.97992577606155,
         "_deepnote_index_column": "pretest_211"
        },
        {
         "CO2_working_capacity [mL/g]": 140.8528361018051,
         "_deepnote_index_column": "pretest_212"
        },
        {
         "CO2_working_capacity [mL/g]": 169.60031550113618,
         "_deepnote_index_column": "pretest_213"
        },
        {
         "CO2_working_capacity [mL/g]": 128.5858518548254,
         "_deepnote_index_column": "pretest_214"
        },
        {
         "CO2_working_capacity [mL/g]": 83.60469581368075,
         "_deepnote_index_column": "pretest_215"
        },
        {
         "CO2_working_capacity [mL/g]": 113.2269774496086,
         "_deepnote_index_column": "pretest_216"
        },
        {
         "CO2_working_capacity [mL/g]": 85.4029915320055,
         "_deepnote_index_column": "pretest_217"
        },
        {
         "CO2_working_capacity [mL/g]": 99.95348108700695,
         "_deepnote_index_column": "pretest_218"
        },
        {
         "CO2_working_capacity [mL/g]": 149.31756521208817,
         "_deepnote_index_column": "pretest_219"
        },
        {
         "CO2_working_capacity [mL/g]": 74.59768246509476,
         "_deepnote_index_column": "pretest_220"
        },
        {
         "CO2_working_capacity [mL/g]": 88.79132340412228,
         "_deepnote_index_column": "pretest_221"
        },
        {
         "CO2_working_capacity [mL/g]": 207.53170123003684,
         "_deepnote_index_column": "pretest_222"
        },
        {
         "CO2_working_capacity [mL/g]": 94.44036334636999,
         "_deepnote_index_column": "pretest_223"
        },
        {
         "CO2_working_capacity [mL/g]": 84.48360026007582,
         "_deepnote_index_column": "pretest_224"
        },
        {
         "CO2_working_capacity [mL/g]": 99.0076315249625,
         "_deepnote_index_column": "pretest_225"
        },
        {
         "CO2_working_capacity [mL/g]": 124.81460760175918,
         "_deepnote_index_column": "pretest_226"
        },
        {
         "CO2_working_capacity [mL/g]": 99.09929021245017,
         "_deepnote_index_column": "pretest_227"
        },
        {
         "CO2_working_capacity [mL/g]": 78.08695251350298,
         "_deepnote_index_column": "pretest_228"
        },
        {
         "CO2_working_capacity [mL/g]": 281.8777055544187,
         "_deepnote_index_column": "pretest_229"
        },
        {
         "CO2_working_capacity [mL/g]": 156.9135083028582,
         "_deepnote_index_column": "pretest_230"
        },
        {
         "CO2_working_capacity [mL/g]": 71.66085466088654,
         "_deepnote_index_column": "pretest_231"
        },
        {
         "CO2_working_capacity [mL/g]": 109.60458625010953,
         "_deepnote_index_column": "pretest_232"
        },
        {
         "CO2_working_capacity [mL/g]": 70.74609712330535,
         "_deepnote_index_column": "pretest_233"
        },
        {
         "CO2_working_capacity [mL/g]": 71.39013168734293,
         "_deepnote_index_column": "pretest_234"
        },
        {
         "CO2_working_capacity [mL/g]": 117.24699930710294,
         "_deepnote_index_column": "pretest_235"
        },
        {
         "CO2_working_capacity [mL/g]": 209.51561433554977,
         "_deepnote_index_column": "pretest_236"
        },
        {
         "CO2_working_capacity [mL/g]": 104.14841004050602,
         "_deepnote_index_column": "pretest_237"
        },
        {
         "CO2_working_capacity [mL/g]": 70.6938095868061,
         "_deepnote_index_column": "pretest_238"
        },
        {
         "CO2_working_capacity [mL/g]": 157.56560610816595,
         "_deepnote_index_column": "pretest_239"
        },
        {
         "CO2_working_capacity [mL/g]": 119.16030543894,
         "_deepnote_index_column": "pretest_240"
        },
        {
         "CO2_working_capacity [mL/g]": 94.68964671320023,
         "_deepnote_index_column": "pretest_241"
        },
        {
         "CO2_working_capacity [mL/g]": 187.1529918438489,
         "_deepnote_index_column": "pretest_242"
        },
        {
         "CO2_working_capacity [mL/g]": 181.0056729853841,
         "_deepnote_index_column": "pretest_243"
        },
        {
         "CO2_working_capacity [mL/g]": 86.72010912326334,
         "_deepnote_index_column": "pretest_244"
        },
        {
         "CO2_working_capacity [mL/g]": 103.80241515556462,
         "_deepnote_index_column": "pretest_245"
        },
        {
         "CO2_working_capacity [mL/g]": 55.94537551019431,
         "_deepnote_index_column": "pretest_246"
        },
        {
         "CO2_working_capacity [mL/g]": 98.1358807194359,
         "_deepnote_index_column": "pretest_247"
        },
        {
         "CO2_working_capacity [mL/g]": 72.737395107485,
         "_deepnote_index_column": "pretest_248"
        },
        {
         "CO2_working_capacity [mL/g]": 179.45501051940516,
         "_deepnote_index_column": "pretest_249"
        },
        {
         "CO2_working_capacity [mL/g]": 140.11902426496533,
         "_deepnote_index_column": "pretest_250"
        },
        {
         "CO2_working_capacity [mL/g]": 143.4200211696878,
         "_deepnote_index_column": "pretest_251"
        },
        {
         "CO2_working_capacity [mL/g]": 309.2505142664355,
         "_deepnote_index_column": "pretest_252"
        },
        {
         "CO2_working_capacity [mL/g]": 251.01104552949568,
         "_deepnote_index_column": "pretest_253"
        },
        {
         "CO2_working_capacity [mL/g]": 206.6571143794243,
         "_deepnote_index_column": "pretest_254"
        },
        {
         "CO2_working_capacity [mL/g]": 285.3573941169367,
         "_deepnote_index_column": "pretest_255"
        },
        {
         "CO2_working_capacity [mL/g]": 267.47919800092717,
         "_deepnote_index_column": "pretest_256"
        },
        {
         "CO2_working_capacity [mL/g]": 73.59526890234824,
         "_deepnote_index_column": "pretest_257"
        },
        {
         "CO2_working_capacity [mL/g]": 150.48061996332638,
         "_deepnote_index_column": "pretest_258"
        },
        {
         "CO2_working_capacity [mL/g]": 390.5214211768343,
         "_deepnote_index_column": "pretest_259"
        },
        {
         "CO2_working_capacity [mL/g]": 189.88275408821298,
         "_deepnote_index_column": "pretest_260"
        },
        {
         "CO2_working_capacity [mL/g]": 73.23279520526468,
         "_deepnote_index_column": "pretest_261"
        },
        {
         "CO2_working_capacity [mL/g]": 76.78149659505154,
         "_deepnote_index_column": "pretest_262"
        },
        {
         "CO2_working_capacity [mL/g]": 182.78021420677123,
         "_deepnote_index_column": "pretest_263"
        },
        {
         "CO2_working_capacity [mL/g]": 109.64157009524939,
         "_deepnote_index_column": "pretest_264"
        },
        {
         "CO2_working_capacity [mL/g]": 174.53435953367105,
         "_deepnote_index_column": "pretest_265"
        },
        {
         "CO2_working_capacity [mL/g]": 102.29898618281912,
         "_deepnote_index_column": "pretest_266"
        },
        {
         "CO2_working_capacity [mL/g]": 249.31238061306794,
         "_deepnote_index_column": "pretest_267"
        },
        {
         "CO2_working_capacity [mL/g]": 75.20336372996623,
         "_deepnote_index_column": "pretest_268"
        },
        {
         "CO2_working_capacity [mL/g]": 62.04727396509057,
         "_deepnote_index_column": "pretest_269"
        },
        {
         "CO2_working_capacity [mL/g]": 128.13599618713337,
         "_deepnote_index_column": "pretest_270"
        },
        {
         "CO2_working_capacity [mL/g]": 110.55950288273509,
         "_deepnote_index_column": "pretest_271"
        },
        {
         "CO2_working_capacity [mL/g]": 103.69069482125889,
         "_deepnote_index_column": "pretest_272"
        },
        {
         "CO2_working_capacity [mL/g]": 101.39776422105311,
         "_deepnote_index_column": "pretest_273"
        },
        {
         "CO2_working_capacity [mL/g]": 67.45616041642964,
         "_deepnote_index_column": "pretest_274"
        },
        {
         "CO2_working_capacity [mL/g]": 80.77164705803945,
         "_deepnote_index_column": "pretest_275"
        },
        {
         "CO2_working_capacity [mL/g]": 126.74352875193159,
         "_deepnote_index_column": "pretest_276"
        },
        {
         "CO2_working_capacity [mL/g]": 72.8312083616295,
         "_deepnote_index_column": "pretest_277"
        },
        {
         "CO2_working_capacity [mL/g]": 152.1097068349578,
         "_deepnote_index_column": "pretest_278"
        },
        {
         "CO2_working_capacity [mL/g]": 247.54394878191795,
         "_deepnote_index_column": "pretest_279"
        },
        {
         "CO2_working_capacity [mL/g]": 94.45693856166656,
         "_deepnote_index_column": "pretest_280"
        },
        {
         "CO2_working_capacity [mL/g]": 441.9447229479996,
         "_deepnote_index_column": "pretest_281"
        },
        {
         "CO2_working_capacity [mL/g]": 150.85212991395147,
         "_deepnote_index_column": "pretest_282"
        },
        {
         "CO2_working_capacity [mL/g]": 160.02226614752718,
         "_deepnote_index_column": "pretest_283"
        },
        {
         "CO2_working_capacity [mL/g]": 113.36236877271494,
         "_deepnote_index_column": "pretest_284"
        },
        {
         "CO2_working_capacity [mL/g]": 99.6619790791082,
         "_deepnote_index_column": "pretest_285"
        },
        {
         "CO2_working_capacity [mL/g]": 77.9770113669453,
         "_deepnote_index_column": "pretest_286"
        },
        {
         "CO2_working_capacity [mL/g]": 173.860393471282,
         "_deepnote_index_column": "pretest_287"
        },
        {
         "CO2_working_capacity [mL/g]": 50.754614207649894,
         "_deepnote_index_column": "pretest_288"
        },
        {
         "CO2_working_capacity [mL/g]": 128.66980320847384,
         "_deepnote_index_column": "pretest_289"
        },
        {
         "CO2_working_capacity [mL/g]": 199.3054754983488,
         "_deepnote_index_column": "pretest_290"
        },
        {
         "CO2_working_capacity [mL/g]": 186.7540142274299,
         "_deepnote_index_column": "pretest_291"
        },
        {
         "CO2_working_capacity [mL/g]": 191.1036947916806,
         "_deepnote_index_column": "pretest_292"
        },
        {
         "CO2_working_capacity [mL/g]": 89.45164961193619,
         "_deepnote_index_column": "pretest_293"
        },
        {
         "CO2_working_capacity [mL/g]": 268.5066624237536,
         "_deepnote_index_column": "pretest_294"
        },
        {
         "CO2_working_capacity [mL/g]": 60.79834570473694,
         "_deepnote_index_column": "pretest_295"
        },
        {
         "CO2_working_capacity [mL/g]": 308.9251565531066,
         "_deepnote_index_column": "pretest_296"
        },
        {
         "CO2_working_capacity [mL/g]": 65.7302817140749,
         "_deepnote_index_column": "pretest_297"
        },
        {
         "CO2_working_capacity [mL/g]": 147.26145480789432,
         "_deepnote_index_column": "pretest_298"
        },
        {
         "CO2_working_capacity [mL/g]": 220.2411017600369,
         "_deepnote_index_column": "pretest_299"
        },
        {
         "CO2_working_capacity [mL/g]": 50.710561109431254,
         "_deepnote_index_column": "pretest_300"
        },
        {
         "CO2_working_capacity [mL/g]": 155.37752403422886,
         "_deepnote_index_column": "pretest_301"
        },
        {
         "CO2_working_capacity [mL/g]": 113.20970054558184,
         "_deepnote_index_column": "pretest_302"
        },
        {
         "CO2_working_capacity [mL/g]": 80.09502490696791,
         "_deepnote_index_column": "pretest_303"
        },
        {
         "CO2_working_capacity [mL/g]": 291.65986002155444,
         "_deepnote_index_column": "pretest_304"
        },
        {
         "CO2_working_capacity [mL/g]": 91.72821974551192,
         "_deepnote_index_column": "pretest_305"
        },
        {
         "CO2_working_capacity [mL/g]": 238.03990021845573,
         "_deepnote_index_column": "pretest_306"
        },
        {
         "CO2_working_capacity [mL/g]": 50.91366876151577,
         "_deepnote_index_column": "pretest_307"
        },
        {
         "CO2_working_capacity [mL/g]": 112.00651486898342,
         "_deepnote_index_column": "pretest_308"
        },
        {
         "CO2_working_capacity [mL/g]": 168.96132339174292,
         "_deepnote_index_column": "pretest_309"
        },
        {
         "CO2_working_capacity [mL/g]": 107.79374509724106,
         "_deepnote_index_column": "pretest_310"
        },
        {
         "CO2_working_capacity [mL/g]": 111.61990884598394,
         "_deepnote_index_column": "pretest_311"
        },
        {
         "CO2_working_capacity [mL/g]": 62.51195979113852,
         "_deepnote_index_column": "pretest_312"
        },
        {
         "CO2_working_capacity [mL/g]": 114.3419368480354,
         "_deepnote_index_column": "pretest_313"
        },
        {
         "CO2_working_capacity [mL/g]": 74.45749871526363,
         "_deepnote_index_column": "pretest_314"
        },
        {
         "CO2_working_capacity [mL/g]": 181.37558119228598,
         "_deepnote_index_column": "pretest_315"
        },
        {
         "CO2_working_capacity [mL/g]": 127.95375238684612,
         "_deepnote_index_column": "pretest_316"
        },
        {
         "CO2_working_capacity [mL/g]": 89.88089679046547,
         "_deepnote_index_column": "pretest_317"
        },
        {
         "CO2_working_capacity [mL/g]": 82.87176670846867,
         "_deepnote_index_column": "pretest_318"
        },
        {
         "CO2_working_capacity [mL/g]": 83.93109886979806,
         "_deepnote_index_column": "pretest_319"
        },
        {
         "CO2_working_capacity [mL/g]": 167.68256205194038,
         "_deepnote_index_column": "pretest_320"
        },
        {
         "CO2_working_capacity [mL/g]": 130.7571010834721,
         "_deepnote_index_column": "pretest_321"
        },
        {
         "CO2_working_capacity [mL/g]": 105.00421759350262,
         "_deepnote_index_column": "pretest_322"
        },
        {
         "CO2_working_capacity [mL/g]": 145.78245068450286,
         "_deepnote_index_column": "pretest_323"
        },
        {
         "CO2_working_capacity [mL/g]": 82.3159678393795,
         "_deepnote_index_column": "pretest_324"
        },
        {
         "CO2_working_capacity [mL/g]": 122.47211806065111,
         "_deepnote_index_column": "pretest_325"
        },
        {
         "CO2_working_capacity [mL/g]": 161.21347879474806,
         "_deepnote_index_column": "pretest_326"
        },
        {
         "CO2_working_capacity [mL/g]": 122.64102669233839,
         "_deepnote_index_column": "pretest_327"
        },
        {
         "CO2_working_capacity [mL/g]": 60.58830605136392,
         "_deepnote_index_column": "pretest_328"
        },
        {
         "CO2_working_capacity [mL/g]": 76.07271923039634,
         "_deepnote_index_column": "pretest_329"
        },
        {
         "CO2_working_capacity [mL/g]": 63.013259740936,
         "_deepnote_index_column": "pretest_330"
        },
        {
         "CO2_working_capacity [mL/g]": 216.06248427355348,
         "_deepnote_index_column": "pretest_331"
        },
        {
         "CO2_working_capacity [mL/g]": 113.10702024203451,
         "_deepnote_index_column": "pretest_332"
        },
        {
         "CO2_working_capacity [mL/g]": 107.68005646826585,
         "_deepnote_index_column": "pretest_333"
        },
        {
         "CO2_working_capacity [mL/g]": 79.46975948870369,
         "_deepnote_index_column": "pretest_334"
        },
        {
         "CO2_working_capacity [mL/g]": 93.25800201166108,
         "_deepnote_index_column": "pretest_335"
        },
        {
         "CO2_working_capacity [mL/g]": 131.9231966268573,
         "_deepnote_index_column": "pretest_336"
        },
        {
         "CO2_working_capacity [mL/g]": 110.47174307102178,
         "_deepnote_index_column": "pretest_337"
        },
        {
         "CO2_working_capacity [mL/g]": 226.422211407752,
         "_deepnote_index_column": "pretest_338"
        },
        {
         "CO2_working_capacity [mL/g]": 340.71843237663035,
         "_deepnote_index_column": "pretest_339"
        },
        {
         "CO2_working_capacity [mL/g]": 184.1304731435329,
         "_deepnote_index_column": "pretest_340"
        },
        {
         "CO2_working_capacity [mL/g]": 73.92343470178066,
         "_deepnote_index_column": "pretest_341"
        },
        {
         "CO2_working_capacity [mL/g]": 79.63820723269349,
         "_deepnote_index_column": "pretest_342"
        },
        {
         "CO2_working_capacity [mL/g]": 122.77241406028763,
         "_deepnote_index_column": "pretest_343"
        },
        {
         "CO2_working_capacity [mL/g]": 159.8446647353092,
         "_deepnote_index_column": "pretest_344"
        },
        {
         "CO2_working_capacity [mL/g]": 329.80359937461304,
         "_deepnote_index_column": "pretest_345"
        },
        {
         "CO2_working_capacity [mL/g]": 154.0631202680079,
         "_deepnote_index_column": "pretest_346"
        },
        {
         "CO2_working_capacity [mL/g]": 217.96661188769275,
         "_deepnote_index_column": "pretest_347"
        },
        {
         "CO2_working_capacity [mL/g]": 278.37317440358396,
         "_deepnote_index_column": "pretest_348"
        },
        {
         "CO2_working_capacity [mL/g]": 82.65552620235738,
         "_deepnote_index_column": "pretest_349"
        },
        {
         "CO2_working_capacity [mL/g]": 239.50062326131265,
         "_deepnote_index_column": "pretest_350"
        },
        {
         "CO2_working_capacity [mL/g]": 89.8452602908665,
         "_deepnote_index_column": "pretest_351"
        },
        {
         "CO2_working_capacity [mL/g]": 69.90304271951486,
         "_deepnote_index_column": "pretest_352"
        },
        {
         "CO2_working_capacity [mL/g]": 95.52876894335311,
         "_deepnote_index_column": "pretest_353"
        },
        {
         "CO2_working_capacity [mL/g]": 90.69164947598925,
         "_deepnote_index_column": "pretest_354"
        },
        {
         "CO2_working_capacity [mL/g]": 62.28098368480032,
         "_deepnote_index_column": "pretest_355"
        },
        {
         "CO2_working_capacity [mL/g]": 146.26665498518375,
         "_deepnote_index_column": "pretest_356"
        },
        {
         "CO2_working_capacity [mL/g]": 166.51766288016347,
         "_deepnote_index_column": "pretest_357"
        },
        {
         "CO2_working_capacity [mL/g]": 79.88131527013681,
         "_deepnote_index_column": "pretest_358"
        },
        {
         "CO2_working_capacity [mL/g]": 75.13829817352487,
         "_deepnote_index_column": "pretest_359"
        },
        {
         "CO2_working_capacity [mL/g]": 514.5571625697144,
         "_deepnote_index_column": "pretest_360"
        },
        {
         "CO2_working_capacity [mL/g]": 96.39277843007149,
         "_deepnote_index_column": "pretest_361"
        },
        {
         "CO2_working_capacity [mL/g]": 63.401318961273084,
         "_deepnote_index_column": "pretest_362"
        },
        {
         "CO2_working_capacity [mL/g]": 251.93032692990062,
         "_deepnote_index_column": "pretest_363"
        },
        {
         "CO2_working_capacity [mL/g]": 83.19682690283845,
         "_deepnote_index_column": "pretest_364"
        },
        {
         "CO2_working_capacity [mL/g]": 93.31408007740092,
         "_deepnote_index_column": "pretest_365"
        },
        {
         "CO2_working_capacity [mL/g]": 201.07739573546687,
         "_deepnote_index_column": "pretest_366"
        },
        {
         "CO2_working_capacity [mL/g]": 436.48404916556484,
         "_deepnote_index_column": "pretest_367"
        },
        {
         "CO2_working_capacity [mL/g]": 260.29227167817953,
         "_deepnote_index_column": "pretest_368"
        },
        {
         "CO2_working_capacity [mL/g]": 79.30479317226063,
         "_deepnote_index_column": "pretest_369"
        },
        {
         "CO2_working_capacity [mL/g]": 321.2469086004126,
         "_deepnote_index_column": "pretest_370"
        },
        {
         "CO2_working_capacity [mL/g]": 170.2646250165559,
         "_deepnote_index_column": "pretest_371"
        },
        {
         "CO2_working_capacity [mL/g]": 119.31112429727119,
         "_deepnote_index_column": "pretest_372"
        },
        {
         "CO2_working_capacity [mL/g]": 243.18232650097906,
         "_deepnote_index_column": "pretest_373"
        },
        {
         "CO2_working_capacity [mL/g]": 107.65033279042055,
         "_deepnote_index_column": "pretest_374"
        },
        {
         "CO2_working_capacity [mL/g]": 58.685160549535986,
         "_deepnote_index_column": "pretest_375"
        },
        {
         "CO2_working_capacity [mL/g]": 94.6896601294294,
         "_deepnote_index_column": "pretest_376"
        },
        {
         "CO2_working_capacity [mL/g]": 156.53824620211424,
         "_deepnote_index_column": "pretest_377"
        },
        {
         "CO2_working_capacity [mL/g]": 263.2537778873147,
         "_deepnote_index_column": "pretest_378"
        },
        {
         "CO2_working_capacity [mL/g]": 59.53607517345466,
         "_deepnote_index_column": "pretest_379"
        },
        {
         "CO2_working_capacity [mL/g]": 159.22023074146355,
         "_deepnote_index_column": "pretest_380"
        },
        {
         "CO2_working_capacity [mL/g]": 51.786937006451474,
         "_deepnote_index_column": "pretest_381"
        },
        {
         "CO2_working_capacity [mL/g]": 250.0196550364309,
         "_deepnote_index_column": "pretest_382"
        },
        {
         "CO2_working_capacity [mL/g]": 365.4539091972696,
         "_deepnote_index_column": "pretest_383"
        },
        {
         "CO2_working_capacity [mL/g]": 102.28704589322348,
         "_deepnote_index_column": "pretest_384"
        },
        {
         "CO2_working_capacity [mL/g]": 83.35754723111094,
         "_deepnote_index_column": "pretest_385"
        },
        {
         "CO2_working_capacity [mL/g]": 82.12362048507873,
         "_deepnote_index_column": "pretest_386"
        },
        {
         "CO2_working_capacity [mL/g]": 188.71564409698527,
         "_deepnote_index_column": "pretest_387"
        },
        {
         "CO2_working_capacity [mL/g]": 169.8373808291834,
         "_deepnote_index_column": "pretest_388"
        },
        {
         "CO2_working_capacity [mL/g]": 187.22482577922605,
         "_deepnote_index_column": "pretest_389"
        },
        {
         "CO2_working_capacity [mL/g]": 99.72086086548943,
         "_deepnote_index_column": "pretest_390"
        },
        {
         "CO2_working_capacity [mL/g]": 72.34589129107268,
         "_deepnote_index_column": "pretest_391"
        },
        {
         "CO2_working_capacity [mL/g]": 87.47395487954782,
         "_deepnote_index_column": "pretest_392"
        },
        {
         "CO2_working_capacity [mL/g]": 215.99242388296975,
         "_deepnote_index_column": "pretest_393"
        },
        {
         "CO2_working_capacity [mL/g]": 214.47724300060278,
         "_deepnote_index_column": "pretest_394"
        },
        {
         "CO2_working_capacity [mL/g]": 241.16421454095035,
         "_deepnote_index_column": "pretest_395"
        },
        {
         "CO2_working_capacity [mL/g]": 92.96118263127607,
         "_deepnote_index_column": "pretest_396"
        },
        {
         "CO2_working_capacity [mL/g]": 105.47536035835311,
         "_deepnote_index_column": "pretest_397"
        },
        {
         "CO2_working_capacity [mL/g]": 223.25969776541697,
         "_deepnote_index_column": "pretest_398"
        },
        {
         "CO2_working_capacity [mL/g]": 102.45003968659174,
         "_deepnote_index_column": "pretest_399"
        },
        {
         "CO2_working_capacity [mL/g]": 157.17864444958042,
         "_deepnote_index_column": "pretest_400"
        },
        {
         "CO2_working_capacity [mL/g]": 110.68676983590203,
         "_deepnote_index_column": "pretest_401"
        },
        {
         "CO2_working_capacity [mL/g]": 75.18322360330201,
         "_deepnote_index_column": "pretest_402"
        },
        {
         "CO2_working_capacity [mL/g]": 86.05992916553288,
         "_deepnote_index_column": "pretest_403"
        },
        {
         "CO2_working_capacity [mL/g]": 80.25622113697527,
         "_deepnote_index_column": "pretest_404"
        },
        {
         "CO2_working_capacity [mL/g]": 194.01608075004648,
         "_deepnote_index_column": "pretest_405"
        },
        {
         "CO2_working_capacity [mL/g]": 71.17891561027741,
         "_deepnote_index_column": "pretest_406"
        },
        {
         "CO2_working_capacity [mL/g]": 127.98862627761515,
         "_deepnote_index_column": "pretest_407"
        },
        {
         "CO2_working_capacity [mL/g]": 112.173548642544,
         "_deepnote_index_column": "pretest_408"
        },
        {
         "CO2_working_capacity [mL/g]": 62.74293778480263,
         "_deepnote_index_column": "pretest_409"
        },
        {
         "CO2_working_capacity [mL/g]": 96.89874630425466,
         "_deepnote_index_column": "pretest_410"
        },
        {
         "CO2_working_capacity [mL/g]": 325.17820168276745,
         "_deepnote_index_column": "pretest_411"
        },
        {
         "CO2_working_capacity [mL/g]": 95.87864996914463,
         "_deepnote_index_column": "pretest_412"
        },
        {
         "CO2_working_capacity [mL/g]": 128.2501218893481,
         "_deepnote_index_column": "pretest_413"
        },
        {
         "CO2_working_capacity [mL/g]": 169.5793961354026,
         "_deepnote_index_column": "pretest_414"
        },
        {
         "CO2_working_capacity [mL/g]": 140.19994282244969,
         "_deepnote_index_column": "pretest_415"
        },
        {
         "CO2_working_capacity [mL/g]": 79.57885499884833,
         "_deepnote_index_column": "pretest_416"
        },
        {
         "CO2_working_capacity [mL/g]": 100.27074888499145,
         "_deepnote_index_column": "pretest_417"
        },
        {
         "CO2_working_capacity [mL/g]": 249.07350734806639,
         "_deepnote_index_column": "pretest_418"
        },
        {
         "CO2_working_capacity [mL/g]": 213.10455571055522,
         "_deepnote_index_column": "pretest_419"
        },
        {
         "CO2_working_capacity [mL/g]": 95.3283443789845,
         "_deepnote_index_column": "pretest_420"
        },
        {
         "CO2_working_capacity [mL/g]": 66.49129814915669,
         "_deepnote_index_column": "pretest_421"
        },
        {
         "CO2_working_capacity [mL/g]": 94.97381940871792,
         "_deepnote_index_column": "pretest_422"
        },
        {
         "CO2_working_capacity [mL/g]": 82.46762715812676,
         "_deepnote_index_column": "pretest_423"
        },
        {
         "CO2_working_capacity [mL/g]": 243.6957738474743,
         "_deepnote_index_column": "pretest_424"
        },
        {
         "CO2_working_capacity [mL/g]": 301.4971543632818,
         "_deepnote_index_column": "pretest_425"
        },
        {
         "CO2_working_capacity [mL/g]": 74.52959910427052,
         "_deepnote_index_column": "pretest_426"
        },
        {
         "CO2_working_capacity [mL/g]": 102.80361046026084,
         "_deepnote_index_column": "pretest_427"
        },
        {
         "CO2_working_capacity [mL/g]": 174.34384971489956,
         "_deepnote_index_column": "pretest_428"
        },
        {
         "CO2_working_capacity [mL/g]": 190.57705528916358,
         "_deepnote_index_column": "pretest_429"
        },
        {
         "CO2_working_capacity [mL/g]": 222.21447822821148,
         "_deepnote_index_column": "pretest_430"
        },
        {
         "CO2_working_capacity [mL/g]": 264.8870720651368,
         "_deepnote_index_column": "pretest_431"
        },
        {
         "CO2_working_capacity [mL/g]": 152.6032371835674,
         "_deepnote_index_column": "pretest_432"
        },
        {
         "CO2_working_capacity [mL/g]": 231.2242126288324,
         "_deepnote_index_column": "pretest_433"
        },
        {
         "CO2_working_capacity [mL/g]": 325.7445535075625,
         "_deepnote_index_column": "pretest_434"
        },
        {
         "CO2_working_capacity [mL/g]": 83.3384317658302,
         "_deepnote_index_column": "pretest_435"
        },
        {
         "CO2_working_capacity [mL/g]": 67.28816035362784,
         "_deepnote_index_column": "pretest_436"
        },
        {
         "CO2_working_capacity [mL/g]": 106.93798185998632,
         "_deepnote_index_column": "pretest_437"
        },
        {
         "CO2_working_capacity [mL/g]": 57.07899790021751,
         "_deepnote_index_column": "pretest_438"
        },
        {
         "CO2_working_capacity [mL/g]": 190.5932120806788,
         "_deepnote_index_column": "pretest_439"
        },
        {
         "CO2_working_capacity [mL/g]": 95.58889862216218,
         "_deepnote_index_column": "pretest_440"
        },
        {
         "CO2_working_capacity [mL/g]": 104.82764052943729,
         "_deepnote_index_column": "pretest_441"
        },
        {
         "CO2_working_capacity [mL/g]": 126.1414749837632,
         "_deepnote_index_column": "pretest_442"
        },
        {
         "CO2_working_capacity [mL/g]": 229.6383786497505,
         "_deepnote_index_column": "pretest_443"
        },
        {
         "CO2_working_capacity [mL/g]": 52.66339633919304,
         "_deepnote_index_column": "pretest_444"
        },
        {
         "CO2_working_capacity [mL/g]": 65.76658404951169,
         "_deepnote_index_column": "pretest_445"
        },
        {
         "CO2_working_capacity [mL/g]": 58.27769714442631,
         "_deepnote_index_column": "pretest_446"
        },
        {
         "CO2_working_capacity [mL/g]": 102.52828890914545,
         "_deepnote_index_column": "pretest_447"
        },
        {
         "CO2_working_capacity [mL/g]": 267.01762957621776,
         "_deepnote_index_column": "pretest_448"
        },
        {
         "CO2_working_capacity [mL/g]": 91.16738528300147,
         "_deepnote_index_column": "pretest_449"
        },
        {
         "CO2_working_capacity [mL/g]": 69.32647284442241,
         "_deepnote_index_column": "pretest_450"
        },
        {
         "CO2_working_capacity [mL/g]": 360.4233068535954,
         "_deepnote_index_column": "pretest_451"
        },
        {
         "CO2_working_capacity [mL/g]": 64.57456119132445,
         "_deepnote_index_column": "pretest_452"
        },
        {
         "CO2_working_capacity [mL/g]": 76.07893959228022,
         "_deepnote_index_column": "pretest_453"
        },
        {
         "CO2_working_capacity [mL/g]": 74.90290059576685,
         "_deepnote_index_column": "pretest_454"
        },
        {
         "CO2_working_capacity [mL/g]": 153.07947598307695,
         "_deepnote_index_column": "pretest_455"
        },
        {
         "CO2_working_capacity [mL/g]": 53.262936478098254,
         "_deepnote_index_column": "pretest_456"
        },
        {
         "CO2_working_capacity [mL/g]": 108.23426488698428,
         "_deepnote_index_column": "pretest_457"
        },
        {
         "CO2_working_capacity [mL/g]": 275.9308105286902,
         "_deepnote_index_column": "pretest_458"
        },
        {
         "CO2_working_capacity [mL/g]": 92.50754657367563,
         "_deepnote_index_column": "pretest_459"
        },
        {
         "CO2_working_capacity [mL/g]": 123.62932142505089,
         "_deepnote_index_column": "pretest_460"
        },
        {
         "CO2_working_capacity [mL/g]": 80.57091739243971,
         "_deepnote_index_column": "pretest_461"
        },
        {
         "CO2_working_capacity [mL/g]": 248.22143594946428,
         "_deepnote_index_column": "pretest_462"
        },
        {
         "CO2_working_capacity [mL/g]": 217.43916709959583,
         "_deepnote_index_column": "pretest_463"
        },
        {
         "CO2_working_capacity [mL/g]": 94.57215117553244,
         "_deepnote_index_column": "pretest_464"
        },
        {
         "CO2_working_capacity [mL/g]": 481.8993686843392,
         "_deepnote_index_column": "pretest_465"
        },
        {
         "CO2_working_capacity [mL/g]": 72.9307282239753,
         "_deepnote_index_column": "pretest_466"
        },
        {
         "CO2_working_capacity [mL/g]": 107.96777573250128,
         "_deepnote_index_column": "pretest_467"
        },
        {
         "CO2_working_capacity [mL/g]": 194.60996755832969,
         "_deepnote_index_column": "pretest_468"
        },
        {
         "CO2_working_capacity [mL/g]": 255.30299426261394,
         "_deepnote_index_column": "pretest_469"
        },
        {
         "CO2_working_capacity [mL/g]": 120.72613980441662,
         "_deepnote_index_column": "pretest_470"
        },
        {
         "CO2_working_capacity [mL/g]": 241.28633505519693,
         "_deepnote_index_column": "pretest_471"
        },
        {
         "CO2_working_capacity [mL/g]": 210.06996949484835,
         "_deepnote_index_column": "pretest_472"
        },
        {
         "CO2_working_capacity [mL/g]": 122.1035363622273,
         "_deepnote_index_column": "pretest_473"
        },
        {
         "CO2_working_capacity [mL/g]": 270.3062575083806,
         "_deepnote_index_column": "pretest_474"
        },
        {
         "CO2_working_capacity [mL/g]": 391.65822460205345,
         "_deepnote_index_column": "pretest_475"
        },
        {
         "CO2_working_capacity [mL/g]": 214.5037869004582,
         "_deepnote_index_column": "pretest_476"
        },
        {
         "CO2_working_capacity [mL/g]": 83.00148643190595,
         "_deepnote_index_column": "pretest_477"
        },
        {
         "CO2_working_capacity [mL/g]": 42.35389799847615,
         "_deepnote_index_column": "pretest_478"
        },
        {
         "CO2_working_capacity [mL/g]": 104.1974472222566,
         "_deepnote_index_column": "pretest_479"
        },
        {
         "CO2_working_capacity [mL/g]": 232.96923982156085,
         "_deepnote_index_column": "pretest_480"
        },
        {
         "CO2_working_capacity [mL/g]": 122.15316206812984,
         "_deepnote_index_column": "pretest_481"
        },
        {
         "CO2_working_capacity [mL/g]": 185.76178059701323,
         "_deepnote_index_column": "pretest_482"
        },
        {
         "CO2_working_capacity [mL/g]": 124.61489956371751,
         "_deepnote_index_column": "pretest_483"
        },
        {
         "CO2_working_capacity [mL/g]": 76.76457885750055,
         "_deepnote_index_column": "pretest_484"
        },
        {
         "CO2_working_capacity [mL/g]": 105.36254183178028,
         "_deepnote_index_column": "pretest_485"
        },
        {
         "CO2_working_capacity [mL/g]": 103.8257506597287,
         "_deepnote_index_column": "pretest_486"
        },
        {
         "CO2_working_capacity [mL/g]": 111.33937817785801,
         "_deepnote_index_column": "pretest_487"
        },
        {
         "CO2_working_capacity [mL/g]": 99.63912271751114,
         "_deepnote_index_column": "pretest_488"
        },
        {
         "CO2_working_capacity [mL/g]": 100.47957357443109,
         "_deepnote_index_column": "pretest_489"
        },
        {
         "CO2_working_capacity [mL/g]": 137.55782901635607,
         "_deepnote_index_column": "pretest_490"
        },
        {
         "CO2_working_capacity [mL/g]": 76.58255456172847,
         "_deepnote_index_column": "pretest_491"
        },
        {
         "CO2_working_capacity [mL/g]": 52.017188224101304,
         "_deepnote_index_column": "pretest_492"
        },
        {
         "CO2_working_capacity [mL/g]": 88.09311964090271,
         "_deepnote_index_column": "pretest_493"
        },
        {
         "CO2_working_capacity [mL/g]": 132.93311942120522,
         "_deepnote_index_column": "pretest_494"
        },
        {
         "CO2_working_capacity [mL/g]": 110.86648971484476,
         "_deepnote_index_column": "pretest_495"
        },
        {
         "CO2_working_capacity [mL/g]": 90.8416038494469,
         "_deepnote_index_column": "pretest_496"
        },
        {
         "CO2_working_capacity [mL/g]": 76.39423943752509,
         "_deepnote_index_column": "pretest_497"
        },
        {
         "CO2_working_capacity [mL/g]": 112.42231955551527,
         "_deepnote_index_column": "pretest_498"
        },
        {
         "CO2_working_capacity [mL/g]": 257.2328224325559,
         "_deepnote_index_column": "pretest_499"
        },
        {
         "CO2_working_capacity [mL/g]": 285.4947150147833,
         "_deepnote_index_column": "pretest_500"
        }
       ],
       "rows_bottom": [
        {
         "CO2_working_capacity [mL/g]": 0.3155570419450289,
         "_deepnote_index_column": "pretest_1501"
        },
        {
         "CO2_working_capacity [mL/g]": 0.12654595397089252,
         "_deepnote_index_column": "pretest_1502"
        },
        {
         "CO2_working_capacity [mL/g]": -6.9755477031116815,
         "_deepnote_index_column": "pretest_1503"
        },
        {
         "CO2_working_capacity [mL/g]": 4.9779435556486575,
         "_deepnote_index_column": "pretest_1504"
        },
        {
         "CO2_working_capacity [mL/g]": -5.705527186106655,
         "_deepnote_index_column": "pretest_1505"
        },
        {
         "CO2_working_capacity [mL/g]": -0.44295612800527123,
         "_deepnote_index_column": "pretest_1506"
        },
        {
         "CO2_working_capacity [mL/g]": -4.934174003068922,
         "_deepnote_index_column": "pretest_1507"
        },
        {
         "CO2_working_capacity [mL/g]": -8.694150347155823,
         "_deepnote_index_column": "pretest_1508"
        },
        {
         "CO2_working_capacity [mL/g]": -4.846980511982192,
         "_deepnote_index_column": "pretest_1509"
        },
        {
         "CO2_working_capacity [mL/g]": -2.9960917038397783,
         "_deepnote_index_column": "pretest_1510"
        },
        {
         "CO2_working_capacity [mL/g]": 4.387309707703025,
         "_deepnote_index_column": "pretest_1511"
        },
        {
         "CO2_working_capacity [mL/g]": 7.995207824063515,
         "_deepnote_index_column": "pretest_1512"
        },
        {
         "CO2_working_capacity [mL/g]": 2.488809596745678,
         "_deepnote_index_column": "pretest_1513"
        },
        {
         "CO2_working_capacity [mL/g]": -7.090723626074299,
         "_deepnote_index_column": "pretest_1514"
        },
        {
         "CO2_working_capacity [mL/g]": 10.259420787647633,
         "_deepnote_index_column": "pretest_1515"
        },
        {
         "CO2_working_capacity [mL/g]": -2.5659883606538045,
         "_deepnote_index_column": "pretest_1516"
        },
        {
         "CO2_working_capacity [mL/g]": -6.940051168163078,
         "_deepnote_index_column": "pretest_1517"
        },
        {
         "CO2_working_capacity [mL/g]": 56.76152793531506,
         "_deepnote_index_column": "pretest_1518"
        },
        {
         "CO2_working_capacity [mL/g]": -0.7653117699023843,
         "_deepnote_index_column": "pretest_1519"
        },
        {
         "CO2_working_capacity [mL/g]": 0.7223036109517932,
         "_deepnote_index_column": "pretest_1520"
        },
        {
         "CO2_working_capacity [mL/g]": 1.3152598628023713,
         "_deepnote_index_column": "pretest_1521"
        },
        {
         "CO2_working_capacity [mL/g]": -1.4129797788950054,
         "_deepnote_index_column": "pretest_1522"
        },
        {
         "CO2_working_capacity [mL/g]": 0.3145804961360635,
         "_deepnote_index_column": "pretest_1523"
        },
        {
         "CO2_working_capacity [mL/g]": -4.267892672480726,
         "_deepnote_index_column": "pretest_1524"
        },
        {
         "CO2_working_capacity [mL/g]": 2.0085635322132562,
         "_deepnote_index_column": "pretest_1525"
        },
        {
         "CO2_working_capacity [mL/g]": 7.1558977049667325,
         "_deepnote_index_column": "pretest_1526"
        },
        {
         "CO2_working_capacity [mL/g]": 28.46368969657887,
         "_deepnote_index_column": "pretest_1527"
        },
        {
         "CO2_working_capacity [mL/g]": -1.442150123480027,
         "_deepnote_index_column": "pretest_1528"
        },
        {
         "CO2_working_capacity [mL/g]": 9.970171966717427,
         "_deepnote_index_column": "pretest_1529"
        },
        {
         "CO2_working_capacity [mL/g]": 14.512286426179191,
         "_deepnote_index_column": "pretest_1530"
        },
        {
         "CO2_working_capacity [mL/g]": 3.2693282876010654,
         "_deepnote_index_column": "pretest_1531"
        },
        {
         "CO2_working_capacity [mL/g]": -2.4706954378493946,
         "_deepnote_index_column": "pretest_1532"
        },
        {
         "CO2_working_capacity [mL/g]": -3.152792022722861,
         "_deepnote_index_column": "pretest_1533"
        },
        {
         "CO2_working_capacity [mL/g]": -3.1138303224947914,
         "_deepnote_index_column": "pretest_1534"
        },
        {
         "CO2_working_capacity [mL/g]": -4.375169486138033,
         "_deepnote_index_column": "pretest_1535"
        },
        {
         "CO2_working_capacity [mL/g]": -6.885237703554851,
         "_deepnote_index_column": "pretest_1536"
        },
        {
         "CO2_working_capacity [mL/g]": 4.36606957265618,
         "_deepnote_index_column": "pretest_1537"
        },
        {
         "CO2_working_capacity [mL/g]": -2.7569457236963086,
         "_deepnote_index_column": "pretest_1538"
        },
        {
         "CO2_working_capacity [mL/g]": 2.5076484895042395,
         "_deepnote_index_column": "pretest_1539"
        },
        {
         "CO2_working_capacity [mL/g]": 3.4026481053963074,
         "_deepnote_index_column": "pretest_1540"
        },
        {
         "CO2_working_capacity [mL/g]": 4.837401825979091,
         "_deepnote_index_column": "pretest_1541"
        },
        {
         "CO2_working_capacity [mL/g]": -2.718008600893571,
         "_deepnote_index_column": "pretest_1542"
        },
        {
         "CO2_working_capacity [mL/g]": 5.443901771343532,
         "_deepnote_index_column": "pretest_1543"
        },
        {
         "CO2_working_capacity [mL/g]": -7.825282214092672,
         "_deepnote_index_column": "pretest_1544"
        },
        {
         "CO2_working_capacity [mL/g]": -4.481127789628868,
         "_deepnote_index_column": "pretest_1545"
        },
        {
         "CO2_working_capacity [mL/g]": 5.323623735733821,
         "_deepnote_index_column": "pretest_1546"
        },
        {
         "CO2_working_capacity [mL/g]": -2.0352318074390103,
         "_deepnote_index_column": "pretest_1547"
        },
        {
         "CO2_working_capacity [mL/g]": 1.86557812392033,
         "_deepnote_index_column": "pretest_1548"
        },
        {
         "CO2_working_capacity [mL/g]": -5.243896521066814,
         "_deepnote_index_column": "pretest_1549"
        },
        {
         "CO2_working_capacity [mL/g]": -1.0220773458575463,
         "_deepnote_index_column": "pretest_1550"
        },
        {
         "CO2_working_capacity [mL/g]": 1.023911917646844,
         "_deepnote_index_column": "pretest_1551"
        },
        {
         "CO2_working_capacity [mL/g]": -2.567807176787535,
         "_deepnote_index_column": "pretest_1552"
        },
        {
         "CO2_working_capacity [mL/g]": -11.145770400033678,
         "_deepnote_index_column": "pretest_1553"
        },
        {
         "CO2_working_capacity [mL/g]": -5.111151740578755,
         "_deepnote_index_column": "pretest_1554"
        },
        {
         "CO2_working_capacity [mL/g]": 8.511970828457075,
         "_deepnote_index_column": "pretest_1555"
        },
        {
         "CO2_working_capacity [mL/g]": 0.7291554906093755,
         "_deepnote_index_column": "pretest_1556"
        },
        {
         "CO2_working_capacity [mL/g]": 2.649753245318326,
         "_deepnote_index_column": "pretest_1557"
        },
        {
         "CO2_working_capacity [mL/g]": 6.104617199619256,
         "_deepnote_index_column": "pretest_1558"
        },
        {
         "CO2_working_capacity [mL/g]": 1.845310652647961,
         "_deepnote_index_column": "pretest_1559"
        },
        {
         "CO2_working_capacity [mL/g]": 2.2819847570030323,
         "_deepnote_index_column": "pretest_1560"
        },
        {
         "CO2_working_capacity [mL/g]": -1.4552264952931637,
         "_deepnote_index_column": "pretest_1561"
        },
        {
         "CO2_working_capacity [mL/g]": 7.647938426842022,
         "_deepnote_index_column": "pretest_1562"
        },
        {
         "CO2_working_capacity [mL/g]": 0.5035287325514137,
         "_deepnote_index_column": "pretest_1563"
        },
        {
         "CO2_working_capacity [mL/g]": 9.743727423742286,
         "_deepnote_index_column": "pretest_1564"
        },
        {
         "CO2_working_capacity [mL/g]": -4.2465246729822965,
         "_deepnote_index_column": "pretest_1565"
        },
        {
         "CO2_working_capacity [mL/g]": 1.985983061423637,
         "_deepnote_index_column": "pretest_1566"
        },
        {
         "CO2_working_capacity [mL/g]": 87.17522650926982,
         "_deepnote_index_column": "pretest_1567"
        },
        {
         "CO2_working_capacity [mL/g]": -6.173223028431129,
         "_deepnote_index_column": "pretest_1568"
        },
        {
         "CO2_working_capacity [mL/g]": 71.57055741230316,
         "_deepnote_index_column": "pretest_1569"
        },
        {
         "CO2_working_capacity [mL/g]": 10.385080215684065,
         "_deepnote_index_column": "pretest_1570"
        },
        {
         "CO2_working_capacity [mL/g]": 2.618193044806063,
         "_deepnote_index_column": "pretest_1571"
        },
        {
         "CO2_working_capacity [mL/g]": -0.3196877603105985,
         "_deepnote_index_column": "pretest_1572"
        },
        {
         "CO2_working_capacity [mL/g]": -3.5030362506808235,
         "_deepnote_index_column": "pretest_1573"
        },
        {
         "CO2_working_capacity [mL/g]": -2.3198830643302024,
         "_deepnote_index_column": "pretest_1574"
        },
        {
         "CO2_working_capacity [mL/g]": -3.9359485102286884,
         "_deepnote_index_column": "pretest_1575"
        },
        {
         "CO2_working_capacity [mL/g]": -4.06788623594328,
         "_deepnote_index_column": "pretest_1576"
        },
        {
         "CO2_working_capacity [mL/g]": 5.96534301598848,
         "_deepnote_index_column": "pretest_1577"
        },
        {
         "CO2_working_capacity [mL/g]": 27.54236768924259,
         "_deepnote_index_column": "pretest_1578"
        },
        {
         "CO2_working_capacity [mL/g]": 0.479273065439415,
         "_deepnote_index_column": "pretest_1579"
        },
        {
         "CO2_working_capacity [mL/g]": -2.691906978556996,
         "_deepnote_index_column": "pretest_1580"
        },
        {
         "CO2_working_capacity [mL/g]": -4.904349974092514,
         "_deepnote_index_column": "pretest_1581"
        },
        {
         "CO2_working_capacity [mL/g]": -1.547171551545424,
         "_deepnote_index_column": "pretest_1582"
        },
        {
         "CO2_working_capacity [mL/g]": -1.1628790176699588,
         "_deepnote_index_column": "pretest_1583"
        },
        {
         "CO2_working_capacity [mL/g]": 3.2618407113674306,
         "_deepnote_index_column": "pretest_1584"
        },
        {
         "CO2_working_capacity [mL/g]": 6.328868182671132,
         "_deepnote_index_column": "pretest_1585"
        },
        {
         "CO2_working_capacity [mL/g]": -3.950075693957932,
         "_deepnote_index_column": "pretest_1586"
        },
        {
         "CO2_working_capacity [mL/g]": 0.25465190772497226,
         "_deepnote_index_column": "pretest_1587"
        },
        {
         "CO2_working_capacity [mL/g]": 1.2777619187687892,
         "_deepnote_index_column": "pretest_1588"
        },
        {
         "CO2_working_capacity [mL/g]": -6.653839621119837,
         "_deepnote_index_column": "pretest_1589"
        },
        {
         "CO2_working_capacity [mL/g]": -6.887380555429986,
         "_deepnote_index_column": "pretest_1590"
        },
        {
         "CO2_working_capacity [mL/g]": 19.797757907102742,
         "_deepnote_index_column": "pretest_1591"
        },
        {
         "CO2_working_capacity [mL/g]": -2.3513618827265943,
         "_deepnote_index_column": "pretest_1592"
        },
        {
         "CO2_working_capacity [mL/g]": 8.620854402621536,
         "_deepnote_index_column": "pretest_1593"
        },
        {
         "CO2_working_capacity [mL/g]": -1.9015259392809503,
         "_deepnote_index_column": "pretest_1594"
        },
        {
         "CO2_working_capacity [mL/g]": 3.490467549868092,
         "_deepnote_index_column": "pretest_1595"
        },
        {
         "CO2_working_capacity [mL/g]": -3.775441147865059,
         "_deepnote_index_column": "pretest_1596"
        },
        {
         "CO2_working_capacity [mL/g]": -4.097877520870001,
         "_deepnote_index_column": "pretest_1597"
        },
        {
         "CO2_working_capacity [mL/g]": -3.835097678496177,
         "_deepnote_index_column": "pretest_1598"
        },
        {
         "CO2_working_capacity [mL/g]": -4.598685786766463,
         "_deepnote_index_column": "pretest_1599"
        },
        {
         "CO2_working_capacity [mL/g]": 0.0798910275529353,
         "_deepnote_index_column": "pretest_1600"
        },
        {
         "CO2_working_capacity [mL/g]": 0.6236856553829269,
         "_deepnote_index_column": "pretest_1601"
        },
        {
         "CO2_working_capacity [mL/g]": 1.1480404686975487,
         "_deepnote_index_column": "pretest_1602"
        },
        {
         "CO2_working_capacity [mL/g]": -3.5386325917254235,
         "_deepnote_index_column": "pretest_1603"
        },
        {
         "CO2_working_capacity [mL/g]": -9.939823524241884,
         "_deepnote_index_column": "pretest_1604"
        },
        {
         "CO2_working_capacity [mL/g]": -3.2682677193229255,
         "_deepnote_index_column": "pretest_1605"
        },
        {
         "CO2_working_capacity [mL/g]": 16.303641502244652,
         "_deepnote_index_column": "pretest_1606"
        },
        {
         "CO2_working_capacity [mL/g]": -6.414967137302878,
         "_deepnote_index_column": "pretest_1607"
        },
        {
         "CO2_working_capacity [mL/g]": -4.437912035588899,
         "_deepnote_index_column": "pretest_1608"
        },
        {
         "CO2_working_capacity [mL/g]": -0.10789424665631345,
         "_deepnote_index_column": "pretest_1609"
        },
        {
         "CO2_working_capacity [mL/g]": 9.707302200866485,
         "_deepnote_index_column": "pretest_1610"
        },
        {
         "CO2_working_capacity [mL/g]": 7.330313138335064,
         "_deepnote_index_column": "pretest_1611"
        },
        {
         "CO2_working_capacity [mL/g]": -0.9344967873354038,
         "_deepnote_index_column": "pretest_1612"
        },
        {
         "CO2_working_capacity [mL/g]": 1.0895620882745023,
         "_deepnote_index_column": "pretest_1613"
        },
        {
         "CO2_working_capacity [mL/g]": -1.178047924472145,
         "_deepnote_index_column": "pretest_1614"
        },
        {
         "CO2_working_capacity [mL/g]": -11.36423128616954,
         "_deepnote_index_column": "pretest_1615"
        },
        {
         "CO2_working_capacity [mL/g]": 0.029617179475224305,
         "_deepnote_index_column": "pretest_1616"
        },
        {
         "CO2_working_capacity [mL/g]": -7.093237226372496,
         "_deepnote_index_column": "pretest_1617"
        },
        {
         "CO2_working_capacity [mL/g]": -6.809285311833365,
         "_deepnote_index_column": "pretest_1618"
        },
        {
         "CO2_working_capacity [mL/g]": -10.021130625639405,
         "_deepnote_index_column": "pretest_1619"
        },
        {
         "CO2_working_capacity [mL/g]": 0.2460380608019905,
         "_deepnote_index_column": "pretest_1620"
        },
        {
         "CO2_working_capacity [mL/g]": 1.678357660818403,
         "_deepnote_index_column": "pretest_1621"
        },
        {
         "CO2_working_capacity [mL/g]": -6.216118333548191,
         "_deepnote_index_column": "pretest_1622"
        },
        {
         "CO2_working_capacity [mL/g]": -2.1185440836686396,
         "_deepnote_index_column": "pretest_1623"
        },
        {
         "CO2_working_capacity [mL/g]": 1.3839007405519488,
         "_deepnote_index_column": "pretest_1624"
        },
        {
         "CO2_working_capacity [mL/g]": 5.434103431916019,
         "_deepnote_index_column": "pretest_1625"
        },
        {
         "CO2_working_capacity [mL/g]": 8.151555329245632,
         "_deepnote_index_column": "pretest_1626"
        },
        {
         "CO2_working_capacity [mL/g]": -6.192318917439073,
         "_deepnote_index_column": "pretest_1627"
        },
        {
         "CO2_working_capacity [mL/g]": -1.8513434488613791,
         "_deepnote_index_column": "pretest_1628"
        },
        {
         "CO2_working_capacity [mL/g]": -7.837172810032469,
         "_deepnote_index_column": "pretest_1629"
        },
        {
         "CO2_working_capacity [mL/g]": -0.3257500746676729,
         "_deepnote_index_column": "pretest_1630"
        },
        {
         "CO2_working_capacity [mL/g]": -8.898313258337568,
         "_deepnote_index_column": "pretest_1631"
        },
        {
         "CO2_working_capacity [mL/g]": 4.439058754926005,
         "_deepnote_index_column": "pretest_1632"
        },
        {
         "CO2_working_capacity [mL/g]": 3.5100071523084364,
         "_deepnote_index_column": "pretest_1633"
        },
        {
         "CO2_working_capacity [mL/g]": 3.1126703154071524,
         "_deepnote_index_column": "pretest_1634"
        },
        {
         "CO2_working_capacity [mL/g]": 38.31010049332665,
         "_deepnote_index_column": "pretest_1635"
        },
        {
         "CO2_working_capacity [mL/g]": 4.568373018048564,
         "_deepnote_index_column": "pretest_1636"
        },
        {
         "CO2_working_capacity [mL/g]": -2.2918187209487035,
         "_deepnote_index_column": "pretest_1637"
        },
        {
         "CO2_working_capacity [mL/g]": -10.091582558389836,
         "_deepnote_index_column": "pretest_1638"
        },
        {
         "CO2_working_capacity [mL/g]": -3.177319850779113,
         "_deepnote_index_column": "pretest_1639"
        },
        {
         "CO2_working_capacity [mL/g]": 7.113057930427294,
         "_deepnote_index_column": "pretest_1640"
        },
        {
         "CO2_working_capacity [mL/g]": -1.8704589659384265,
         "_deepnote_index_column": "pretest_1641"
        },
        {
         "CO2_working_capacity [mL/g]": 34.51212455964543,
         "_deepnote_index_column": "pretest_1642"
        },
        {
         "CO2_working_capacity [mL/g]": 5.78408359128712,
         "_deepnote_index_column": "pretest_1643"
        },
        {
         "CO2_working_capacity [mL/g]": 0.7269580803130478,
         "_deepnote_index_column": "pretest_1644"
        },
        {
         "CO2_working_capacity [mL/g]": 2.4762903211911524,
         "_deepnote_index_column": "pretest_1645"
        },
        {
         "CO2_working_capacity [mL/g]": 5.022341241280655,
         "_deepnote_index_column": "pretest_1646"
        },
        {
         "CO2_working_capacity [mL/g]": -0.7414241404962786,
         "_deepnote_index_column": "pretest_1647"
        },
        {
         "CO2_working_capacity [mL/g]": -1.9784802658310854,
         "_deepnote_index_column": "pretest_1648"
        },
        {
         "CO2_working_capacity [mL/g]": -12.922549210138378,
         "_deepnote_index_column": "pretest_1649"
        },
        {
         "CO2_working_capacity [mL/g]": -6.488099594539308,
         "_deepnote_index_column": "pretest_1650"
        },
        {
         "CO2_working_capacity [mL/g]": 5.757501107263997,
         "_deepnote_index_column": "pretest_1651"
        },
        {
         "CO2_working_capacity [mL/g]": -5.525495759300527,
         "_deepnote_index_column": "pretest_1652"
        },
        {
         "CO2_working_capacity [mL/g]": 2.726629735591179,
         "_deepnote_index_column": "pretest_1653"
        },
        {
         "CO2_working_capacity [mL/g]": 23.321677877815535,
         "_deepnote_index_column": "pretest_1654"
        },
        {
         "CO2_working_capacity [mL/g]": -1.1073364294211574,
         "_deepnote_index_column": "pretest_1655"
        },
        {
         "CO2_working_capacity [mL/g]": -1.151955308363373,
         "_deepnote_index_column": "pretest_1656"
        },
        {
         "CO2_working_capacity [mL/g]": -1.4213861245940087,
         "_deepnote_index_column": "pretest_1657"
        },
        {
         "CO2_working_capacity [mL/g]": 4.0716353994678105,
         "_deepnote_index_column": "pretest_1658"
        },
        {
         "CO2_working_capacity [mL/g]": 6.047791538882516,
         "_deepnote_index_column": "pretest_1659"
        },
        {
         "CO2_working_capacity [mL/g]": -4.087306029066966,
         "_deepnote_index_column": "pretest_1660"
        },
        {
         "CO2_working_capacity [mL/g]": 2.7660909512137137,
         "_deepnote_index_column": "pretest_1661"
        },
        {
         "CO2_working_capacity [mL/g]": -4.471474672864373,
         "_deepnote_index_column": "pretest_1662"
        },
        {
         "CO2_working_capacity [mL/g]": -8.885801916457599,
         "_deepnote_index_column": "pretest_1663"
        },
        {
         "CO2_working_capacity [mL/g]": -3.8450279366574898,
         "_deepnote_index_column": "pretest_1664"
        },
        {
         "CO2_working_capacity [mL/g]": 5.784305802368177,
         "_deepnote_index_column": "pretest_1665"
        },
        {
         "CO2_working_capacity [mL/g]": -6.434445449731012,
         "_deepnote_index_column": "pretest_1666"
        },
        {
         "CO2_working_capacity [mL/g]": -1.5399673071619946,
         "_deepnote_index_column": "pretest_1667"
        },
        {
         "CO2_working_capacity [mL/g]": -5.517316158948273,
         "_deepnote_index_column": "pretest_1668"
        },
        {
         "CO2_working_capacity [mL/g]": 2.697219365518133,
         "_deepnote_index_column": "pretest_1669"
        },
        {
         "CO2_working_capacity [mL/g]": -5.9141354101931025,
         "_deepnote_index_column": "pretest_1670"
        },
        {
         "CO2_working_capacity [mL/g]": -5.258845742207188,
         "_deepnote_index_column": "pretest_1671"
        },
        {
         "CO2_working_capacity [mL/g]": 0.7892827515289025,
         "_deepnote_index_column": "pretest_1672"
        },
        {
         "CO2_working_capacity [mL/g]": 1.3383873245541746,
         "_deepnote_index_column": "pretest_1673"
        },
        {
         "CO2_working_capacity [mL/g]": 2.4975828045430757,
         "_deepnote_index_column": "pretest_1674"
        },
        {
         "CO2_working_capacity [mL/g]": -4.833535880295308,
         "_deepnote_index_column": "pretest_1675"
        },
        {
         "CO2_working_capacity [mL/g]": -3.7500312303244523,
         "_deepnote_index_column": "pretest_1676"
        },
        {
         "CO2_working_capacity [mL/g]": -5.466042707505026,
         "_deepnote_index_column": "pretest_1677"
        },
        {
         "CO2_working_capacity [mL/g]": 0.11243158715653877,
         "_deepnote_index_column": "pretest_1678"
        },
        {
         "CO2_working_capacity [mL/g]": 31.87890973186501,
         "_deepnote_index_column": "pretest_1679"
        },
        {
         "CO2_working_capacity [mL/g]": 1.2757292705752843,
         "_deepnote_index_column": "pretest_1680"
        },
        {
         "CO2_working_capacity [mL/g]": 8.794428185613999,
         "_deepnote_index_column": "pretest_1681"
        },
        {
         "CO2_working_capacity [mL/g]": 0.5016479476526784,
         "_deepnote_index_column": "pretest_1682"
        },
        {
         "CO2_working_capacity [mL/g]": 32.58108006091524,
         "_deepnote_index_column": "pretest_1683"
        },
        {
         "CO2_working_capacity [mL/g]": -3.332035050262155,
         "_deepnote_index_column": "pretest_1684"
        },
        {
         "CO2_working_capacity [mL/g]": 1.0110443956088846,
         "_deepnote_index_column": "pretest_1685"
        },
        {
         "CO2_working_capacity [mL/g]": -1.0019664278695783,
         "_deepnote_index_column": "pretest_1686"
        },
        {
         "CO2_working_capacity [mL/g]": -0.898124351350145,
         "_deepnote_index_column": "pretest_1687"
        },
        {
         "CO2_working_capacity [mL/g]": 7.157883264973316,
         "_deepnote_index_column": "pretest_1688"
        },
        {
         "CO2_working_capacity [mL/g]": 0.9612389979917323,
         "_deepnote_index_column": "pretest_1689"
        },
        {
         "CO2_working_capacity [mL/g]": -1.0818532381653991,
         "_deepnote_index_column": "pretest_1690"
        },
        {
         "CO2_working_capacity [mL/g]": 1.7236286734072184,
         "_deepnote_index_column": "pretest_1691"
        },
        {
         "CO2_working_capacity [mL/g]": 2.3147683489316706,
         "_deepnote_index_column": "pretest_1692"
        },
        {
         "CO2_working_capacity [mL/g]": 1.5321882331374166,
         "_deepnote_index_column": "pretest_1693"
        },
        {
         "CO2_working_capacity [mL/g]": 0.5891692547115529,
         "_deepnote_index_column": "pretest_1694"
        },
        {
         "CO2_working_capacity [mL/g]": 0.1539227243157606,
         "_deepnote_index_column": "pretest_1695"
        },
        {
         "CO2_working_capacity [mL/g]": -5.138275013167701,
         "_deepnote_index_column": "pretest_1696"
        },
        {
         "CO2_working_capacity [mL/g]": -0.9108093934616044,
         "_deepnote_index_column": "pretest_1697"
        },
        {
         "CO2_working_capacity [mL/g]": -0.5051479535733365,
         "_deepnote_index_column": "pretest_1698"
        },
        {
         "CO2_working_capacity [mL/g]": 0.422201077593882,
         "_deepnote_index_column": "pretest_1699"
        },
        {
         "CO2_working_capacity [mL/g]": 2.392173386364371,
         "_deepnote_index_column": "pretest_1700"
        },
        {
         "CO2_working_capacity [mL/g]": 10.969417837609612,
         "_deepnote_index_column": "pretest_1701"
        },
        {
         "CO2_working_capacity [mL/g]": 0.8342925187949222,
         "_deepnote_index_column": "pretest_1702"
        },
        {
         "CO2_working_capacity [mL/g]": -3.0941882455543657,
         "_deepnote_index_column": "pretest_1703"
        },
        {
         "CO2_working_capacity [mL/g]": 2.0690805304868776,
         "_deepnote_index_column": "pretest_1704"
        },
        {
         "CO2_working_capacity [mL/g]": 13.762408567829695,
         "_deepnote_index_column": "pretest_1705"
        },
        {
         "CO2_working_capacity [mL/g]": 2.4134648693682563,
         "_deepnote_index_column": "pretest_1706"
        },
        {
         "CO2_working_capacity [mL/g]": 3.2189757673371195,
         "_deepnote_index_column": "pretest_1707"
        },
        {
         "CO2_working_capacity [mL/g]": -2.873184723452365,
         "_deepnote_index_column": "pretest_1708"
        },
        {
         "CO2_working_capacity [mL/g]": -3.7853111989993358,
         "_deepnote_index_column": "pretest_1709"
        },
        {
         "CO2_working_capacity [mL/g]": 10.136452920809297,
         "_deepnote_index_column": "pretest_1710"
        },
        {
         "CO2_working_capacity [mL/g]": 2.4908193024204874,
         "_deepnote_index_column": "pretest_1711"
        },
        {
         "CO2_working_capacity [mL/g]": 3.48917959699671,
         "_deepnote_index_column": "pretest_1712"
        },
        {
         "CO2_working_capacity [mL/g]": -3.498881375349465,
         "_deepnote_index_column": "pretest_1713"
        },
        {
         "CO2_working_capacity [mL/g]": 3.274760644852471,
         "_deepnote_index_column": "pretest_1714"
        },
        {
         "CO2_working_capacity [mL/g]": 0.4908975511251282,
         "_deepnote_index_column": "pretest_1715"
        },
        {
         "CO2_working_capacity [mL/g]": -3.137126037863893,
         "_deepnote_index_column": "pretest_1716"
        },
        {
         "CO2_working_capacity [mL/g]": 2.0070669266394945,
         "_deepnote_index_column": "pretest_1717"
        },
        {
         "CO2_working_capacity [mL/g]": 15.532556156458659,
         "_deepnote_index_column": "pretest_1718"
        },
        {
         "CO2_working_capacity [mL/g]": 1.078584063161713,
         "_deepnote_index_column": "pretest_1719"
        },
        {
         "CO2_working_capacity [mL/g]": 9.440904243315558,
         "_deepnote_index_column": "pretest_1720"
        },
        {
         "CO2_working_capacity [mL/g]": 7.3849686301638915,
         "_deepnote_index_column": "pretest_1721"
        },
        {
         "CO2_working_capacity [mL/g]": -1.8010888543719488,
         "_deepnote_index_column": "pretest_1722"
        },
        {
         "CO2_working_capacity [mL/g]": -2.3182168232604035,
         "_deepnote_index_column": "pretest_1723"
        },
        {
         "CO2_working_capacity [mL/g]": -3.778372969821067,
         "_deepnote_index_column": "pretest_1724"
        },
        {
         "CO2_working_capacity [mL/g]": 0.822539659745805,
         "_deepnote_index_column": "pretest_1725"
        },
        {
         "CO2_working_capacity [mL/g]": 2.7380738523007757,
         "_deepnote_index_column": "pretest_1726"
        },
        {
         "CO2_working_capacity [mL/g]": 5.055117418013281,
         "_deepnote_index_column": "pretest_1727"
        },
        {
         "CO2_working_capacity [mL/g]": -10.778079058426842,
         "_deepnote_index_column": "pretest_1728"
        },
        {
         "CO2_working_capacity [mL/g]": -5.972868377831605,
         "_deepnote_index_column": "pretest_1729"
        },
        {
         "CO2_working_capacity [mL/g]": 2.3494020464564773,
         "_deepnote_index_column": "pretest_1730"
        },
        {
         "CO2_working_capacity [mL/g]": -3.9105950987307225,
         "_deepnote_index_column": "pretest_1731"
        },
        {
         "CO2_working_capacity [mL/g]": -3.7984500301650908,
         "_deepnote_index_column": "pretest_1732"
        },
        {
         "CO2_working_capacity [mL/g]": 3.0984616326486347,
         "_deepnote_index_column": "pretest_1733"
        },
        {
         "CO2_working_capacity [mL/g]": 52.68081109954551,
         "_deepnote_index_column": "pretest_1734"
        },
        {
         "CO2_working_capacity [mL/g]": -1.2409614764313417,
         "_deepnote_index_column": "pretest_1735"
        },
        {
         "CO2_working_capacity [mL/g]": -2.3594037340485587,
         "_deepnote_index_column": "pretest_1736"
        },
        {
         "CO2_working_capacity [mL/g]": -5.400890615527475,
         "_deepnote_index_column": "pretest_1737"
        },
        {
         "CO2_working_capacity [mL/g]": 3.9874485056697715,
         "_deepnote_index_column": "pretest_1738"
        },
        {
         "CO2_working_capacity [mL/g]": 1.7602463983098855,
         "_deepnote_index_column": "pretest_1739"
        },
        {
         "CO2_working_capacity [mL/g]": -2.586771285233277,
         "_deepnote_index_column": "pretest_1740"
        },
        {
         "CO2_working_capacity [mL/g]": -3.4904583995584932,
         "_deepnote_index_column": "pretest_1741"
        },
        {
         "CO2_working_capacity [mL/g]": -3.437171656533138,
         "_deepnote_index_column": "pretest_1742"
        },
        {
         "CO2_working_capacity [mL/g]": 7.4862682602663995,
         "_deepnote_index_column": "pretest_1743"
        },
        {
         "CO2_working_capacity [mL/g]": 0.945427524453315,
         "_deepnote_index_column": "pretest_1744"
        },
        {
         "CO2_working_capacity [mL/g]": -1.0921945603816723,
         "_deepnote_index_column": "pretest_1745"
        },
        {
         "CO2_working_capacity [mL/g]": 14.091515184331692,
         "_deepnote_index_column": "pretest_1746"
        },
        {
         "CO2_working_capacity [mL/g]": 3.821744952485265,
         "_deepnote_index_column": "pretest_1747"
        },
        {
         "CO2_working_capacity [mL/g]": -0.5380651291716783,
         "_deepnote_index_column": "pretest_1748"
        },
        {
         "CO2_working_capacity [mL/g]": -4.350284084156634,
         "_deepnote_index_column": "pretest_1749"
        },
        {
         "CO2_working_capacity [mL/g]": -0.9946381177029848,
         "_deepnote_index_column": "pretest_1750"
        },
        {
         "CO2_working_capacity [mL/g]": -7.908613235893663,
         "_deepnote_index_column": "pretest_1751"
        },
        {
         "CO2_working_capacity [mL/g]": 0.8327231579156463,
         "_deepnote_index_column": "pretest_1752"
        },
        {
         "CO2_working_capacity [mL/g]": -6.173159648013941,
         "_deepnote_index_column": "pretest_1753"
        },
        {
         "CO2_working_capacity [mL/g]": 2.986190921912173,
         "_deepnote_index_column": "pretest_1754"
        },
        {
         "CO2_working_capacity [mL/g]": -4.136906777796338,
         "_deepnote_index_column": "pretest_1755"
        },
        {
         "CO2_working_capacity [mL/g]": -4.8543365434099135,
         "_deepnote_index_column": "pretest_1756"
        },
        {
         "CO2_working_capacity [mL/g]": -4.545324552945121,
         "_deepnote_index_column": "pretest_1757"
        },
        {
         "CO2_working_capacity [mL/g]": -2.384613165927941,
         "_deepnote_index_column": "pretest_1758"
        },
        {
         "CO2_working_capacity [mL/g]": -2.6278919373341694,
         "_deepnote_index_column": "pretest_1759"
        },
        {
         "CO2_working_capacity [mL/g]": 8.862500938461187,
         "_deepnote_index_column": "pretest_1760"
        },
        {
         "CO2_working_capacity [mL/g]": 38.03959621219712,
         "_deepnote_index_column": "pretest_1761"
        },
        {
         "CO2_working_capacity [mL/g]": 55.92912240051939,
         "_deepnote_index_column": "pretest_1762"
        },
        {
         "CO2_working_capacity [mL/g]": -0.9150295589193337,
         "_deepnote_index_column": "pretest_1763"
        },
        {
         "CO2_working_capacity [mL/g]": 10.599550312736012,
         "_deepnote_index_column": "pretest_1764"
        },
        {
         "CO2_working_capacity [mL/g]": 2.5313413108083074,
         "_deepnote_index_column": "pretest_1765"
        },
        {
         "CO2_working_capacity [mL/g]": -6.328551472875432,
         "_deepnote_index_column": "pretest_1766"
        },
        {
         "CO2_working_capacity [mL/g]": -6.397366345651971,
         "_deepnote_index_column": "pretest_1767"
        },
        {
         "CO2_working_capacity [mL/g]": -4.249294792416773,
         "_deepnote_index_column": "pretest_1768"
        },
        {
         "CO2_working_capacity [mL/g]": -14.176101654703352,
         "_deepnote_index_column": "pretest_1769"
        },
        {
         "CO2_working_capacity [mL/g]": -5.800204096561997,
         "_deepnote_index_column": "pretest_1770"
        },
        {
         "CO2_working_capacity [mL/g]": -1.235742682166173,
         "_deepnote_index_column": "pretest_1771"
        },
        {
         "CO2_working_capacity [mL/g]": -9.012978179413293,
         "_deepnote_index_column": "pretest_1772"
        },
        {
         "CO2_working_capacity [mL/g]": 1.1604402019083393,
         "_deepnote_index_column": "pretest_1773"
        },
        {
         "CO2_working_capacity [mL/g]": 1.2270509886773768,
         "_deepnote_index_column": "pretest_1774"
        },
        {
         "CO2_working_capacity [mL/g]": -5.170010329447077,
         "_deepnote_index_column": "pretest_1775"
        },
        {
         "CO2_working_capacity [mL/g]": 0.08280814663244485,
         "_deepnote_index_column": "pretest_1776"
        },
        {
         "CO2_working_capacity [mL/g]": -0.03754774403688657,
         "_deepnote_index_column": "pretest_1777"
        },
        {
         "CO2_working_capacity [mL/g]": -12.89096533164671,
         "_deepnote_index_column": "pretest_1778"
        },
        {
         "CO2_working_capacity [mL/g]": -13.68007696990986,
         "_deepnote_index_column": "pretest_1779"
        },
        {
         "CO2_working_capacity [mL/g]": 2.6237203582601625,
         "_deepnote_index_column": "pretest_1780"
        },
        {
         "CO2_working_capacity [mL/g]": 2.695122939639425,
         "_deepnote_index_column": "pretest_1781"
        },
        {
         "CO2_working_capacity [mL/g]": -4.951590332170524,
         "_deepnote_index_column": "pretest_1782"
        },
        {
         "CO2_working_capacity [mL/g]": -1.0794126168438931,
         "_deepnote_index_column": "pretest_1783"
        },
        {
         "CO2_working_capacity [mL/g]": 54.94275408914113,
         "_deepnote_index_column": "pretest_1784"
        },
        {
         "CO2_working_capacity [mL/g]": -2.41116265790221,
         "_deepnote_index_column": "pretest_1785"
        },
        {
         "CO2_working_capacity [mL/g]": 103.81333988565952,
         "_deepnote_index_column": "pretest_1786"
        },
        {
         "CO2_working_capacity [mL/g]": 30.15026026329159,
         "_deepnote_index_column": "pretest_1787"
        },
        {
         "CO2_working_capacity [mL/g]": 0.960796054181763,
         "_deepnote_index_column": "pretest_1788"
        },
        {
         "CO2_working_capacity [mL/g]": -3.300423333782064,
         "_deepnote_index_column": "pretest_1789"
        },
        {
         "CO2_working_capacity [mL/g]": -2.190749935937808,
         "_deepnote_index_column": "pretest_1790"
        },
        {
         "CO2_working_capacity [mL/g]": 4.2988893152271865,
         "_deepnote_index_column": "pretest_1791"
        },
        {
         "CO2_working_capacity [mL/g]": -0.6883256622153041,
         "_deepnote_index_column": "pretest_1792"
        },
        {
         "CO2_working_capacity [mL/g]": 38.93061071669725,
         "_deepnote_index_column": "pretest_1793"
        },
        {
         "CO2_working_capacity [mL/g]": -3.762669587455842,
         "_deepnote_index_column": "pretest_1794"
        },
        {
         "CO2_working_capacity [mL/g]": -6.227660070914897,
         "_deepnote_index_column": "pretest_1795"
        },
        {
         "CO2_working_capacity [mL/g]": 3.4324663531383544,
         "_deepnote_index_column": "pretest_1796"
        },
        {
         "CO2_working_capacity [mL/g]": 21.63110204184051,
         "_deepnote_index_column": "pretest_1797"
        },
        {
         "CO2_working_capacity [mL/g]": -0.2537307744193133,
         "_deepnote_index_column": "pretest_1798"
        },
        {
         "CO2_working_capacity [mL/g]": 2.7497992783574237,
         "_deepnote_index_column": "pretest_1799"
        },
        {
         "CO2_working_capacity [mL/g]": 2.2664951230688444,
         "_deepnote_index_column": "pretest_1800"
        },
        {
         "CO2_working_capacity [mL/g]": 0.7722817016773074,
         "_deepnote_index_column": "pretest_1801"
        },
        {
         "CO2_working_capacity [mL/g]": 48.03095518007315,
         "_deepnote_index_column": "pretest_1802"
        },
        {
         "CO2_working_capacity [mL/g]": 7.362915693282738,
         "_deepnote_index_column": "pretest_1803"
        },
        {
         "CO2_working_capacity [mL/g]": 5.771894095990676,
         "_deepnote_index_column": "pretest_1804"
        },
        {
         "CO2_working_capacity [mL/g]": -0.49851894180808315,
         "_deepnote_index_column": "pretest_1805"
        },
        {
         "CO2_working_capacity [mL/g]": -4.292294570591004,
         "_deepnote_index_column": "pretest_1806"
        },
        {
         "CO2_working_capacity [mL/g]": -3.861145765518046,
         "_deepnote_index_column": "pretest_1807"
        },
        {
         "CO2_working_capacity [mL/g]": 0.9854898817590843,
         "_deepnote_index_column": "pretest_1808"
        },
        {
         "CO2_working_capacity [mL/g]": 46.79915168551857,
         "_deepnote_index_column": "pretest_1809"
        },
        {
         "CO2_working_capacity [mL/g]": 2.918145194489623,
         "_deepnote_index_column": "pretest_1810"
        },
        {
         "CO2_working_capacity [mL/g]": -1.0284468056770937,
         "_deepnote_index_column": "pretest_1811"
        },
        {
         "CO2_working_capacity [mL/g]": -8.008508012923363,
         "_deepnote_index_column": "pretest_1812"
        },
        {
         "CO2_working_capacity [mL/g]": -0.5794192966408973,
         "_deepnote_index_column": "pretest_1813"
        },
        {
         "CO2_working_capacity [mL/g]": -10.934598066060971,
         "_deepnote_index_column": "pretest_1814"
        },
        {
         "CO2_working_capacity [mL/g]": -3.7907221027311304,
         "_deepnote_index_column": "pretest_1815"
        },
        {
         "CO2_working_capacity [mL/g]": -5.175819020114551,
         "_deepnote_index_column": "pretest_1816"
        },
        {
         "CO2_working_capacity [mL/g]": -4.441364224316475,
         "_deepnote_index_column": "pretest_1817"
        },
        {
         "CO2_working_capacity [mL/g]": 9.236026064081713,
         "_deepnote_index_column": "pretest_1818"
        },
        {
         "CO2_working_capacity [mL/g]": -0.38180006186202475,
         "_deepnote_index_column": "pretest_1819"
        },
        {
         "CO2_working_capacity [mL/g]": 2.550137356536658,
         "_deepnote_index_column": "pretest_1820"
        },
        {
         "CO2_working_capacity [mL/g]": 0.13614689025998986,
         "_deepnote_index_column": "pretest_1821"
        },
        {
         "CO2_working_capacity [mL/g]": 21.346847497237874,
         "_deepnote_index_column": "pretest_1822"
        },
        {
         "CO2_working_capacity [mL/g]": 20.127285070748265,
         "_deepnote_index_column": "pretest_1823"
        },
        {
         "CO2_working_capacity [mL/g]": 4.701971220401451,
         "_deepnote_index_column": "pretest_1824"
        },
        {
         "CO2_working_capacity [mL/g]": 1.4376823738354108,
         "_deepnote_index_column": "pretest_1825"
        },
        {
         "CO2_working_capacity [mL/g]": -1.881788174591324,
         "_deepnote_index_column": "pretest_1826"
        },
        {
         "CO2_working_capacity [mL/g]": -2.8543742377925896,
         "_deepnote_index_column": "pretest_1827"
        },
        {
         "CO2_working_capacity [mL/g]": 1.0691652475723337,
         "_deepnote_index_column": "pretest_1828"
        },
        {
         "CO2_working_capacity [mL/g]": -5.488681252117596,
         "_deepnote_index_column": "pretest_1829"
        },
        {
         "CO2_working_capacity [mL/g]": 3.615524458165268,
         "_deepnote_index_column": "pretest_1830"
        },
        {
         "CO2_working_capacity [mL/g]": 47.54092032580518,
         "_deepnote_index_column": "pretest_1831"
        },
        {
         "CO2_working_capacity [mL/g]": -4.211835484346397,
         "_deepnote_index_column": "pretest_1832"
        },
        {
         "CO2_working_capacity [mL/g]": 3.242783972787999,
         "_deepnote_index_column": "pretest_1833"
        },
        {
         "CO2_working_capacity [mL/g]": -3.6523869907143087,
         "_deepnote_index_column": "pretest_1834"
        },
        {
         "CO2_working_capacity [mL/g]": -1.913538692011724,
         "_deepnote_index_column": "pretest_1835"
        },
        {
         "CO2_working_capacity [mL/g]": 1.308988685743417,
         "_deepnote_index_column": "pretest_1836"
        },
        {
         "CO2_working_capacity [mL/g]": -0.6905293068480988,
         "_deepnote_index_column": "pretest_1837"
        },
        {
         "CO2_working_capacity [mL/g]": -9.815519282809905,
         "_deepnote_index_column": "pretest_1838"
        },
        {
         "CO2_working_capacity [mL/g]": 2.294531853828072,
         "_deepnote_index_column": "pretest_1839"
        },
        {
         "CO2_working_capacity [mL/g]": 28.937220042626883,
         "_deepnote_index_column": "pretest_1840"
        },
        {
         "CO2_working_capacity [mL/g]": -13.771910981678698,
         "_deepnote_index_column": "pretest_1841"
        },
        {
         "CO2_working_capacity [mL/g]": -9.777574690381892,
         "_deepnote_index_column": "pretest_1842"
        },
        {
         "CO2_working_capacity [mL/g]": -2.5635273375158705,
         "_deepnote_index_column": "pretest_1843"
        },
        {
         "CO2_working_capacity [mL/g]": 1.9735463595123581,
         "_deepnote_index_column": "pretest_1844"
        },
        {
         "CO2_working_capacity [mL/g]": -12.133153702304934,
         "_deepnote_index_column": "pretest_1845"
        },
        {
         "CO2_working_capacity [mL/g]": -3.7955559485534276,
         "_deepnote_index_column": "pretest_1846"
        },
        {
         "CO2_working_capacity [mL/g]": -1.0283392909423055,
         "_deepnote_index_column": "pretest_1847"
        },
        {
         "CO2_working_capacity [mL/g]": 3.045681793230375,
         "_deepnote_index_column": "pretest_1848"
        },
        {
         "CO2_working_capacity [mL/g]": -7.561297971040721,
         "_deepnote_index_column": "pretest_1849"
        },
        {
         "CO2_working_capacity [mL/g]": 1.1232719369806148,
         "_deepnote_index_column": "pretest_1850"
        },
        {
         "CO2_working_capacity [mL/g]": 39.57006546514366,
         "_deepnote_index_column": "pretest_1851"
        },
        {
         "CO2_working_capacity [mL/g]": 9.795011858995444,
         "_deepnote_index_column": "pretest_1852"
        },
        {
         "CO2_working_capacity [mL/g]": 7.265398081663567,
         "_deepnote_index_column": "pretest_1853"
        },
        {
         "CO2_working_capacity [mL/g]": 9.219246986703899,
         "_deepnote_index_column": "pretest_1854"
        },
        {
         "CO2_working_capacity [mL/g]": 36.45305539076639,
         "_deepnote_index_column": "pretest_1855"
        },
        {
         "CO2_working_capacity [mL/g]": -1.7110787344311813,
         "_deepnote_index_column": "pretest_1856"
        },
        {
         "CO2_working_capacity [mL/g]": 0.6095226475059438,
         "_deepnote_index_column": "pretest_1857"
        },
        {
         "CO2_working_capacity [mL/g]": 22.396794205404195,
         "_deepnote_index_column": "pretest_1858"
        },
        {
         "CO2_working_capacity [mL/g]": 1.2449740407052727,
         "_deepnote_index_column": "pretest_1859"
        },
        {
         "CO2_working_capacity [mL/g]": 50.76786774986139,
         "_deepnote_index_column": "pretest_1860"
        },
        {
         "CO2_working_capacity [mL/g]": -4.433693335585937,
         "_deepnote_index_column": "pretest_1861"
        },
        {
         "CO2_working_capacity [mL/g]": 49.82093926709595,
         "_deepnote_index_column": "pretest_1862"
        },
        {
         "CO2_working_capacity [mL/g]": 3.52474727259751,
         "_deepnote_index_column": "pretest_1863"
        },
        {
         "CO2_working_capacity [mL/g]": 2.551008685614554,
         "_deepnote_index_column": "pretest_1864"
        },
        {
         "CO2_working_capacity [mL/g]": -4.526074598355753,
         "_deepnote_index_column": "pretest_1865"
        },
        {
         "CO2_working_capacity [mL/g]": 1.8599818387209166,
         "_deepnote_index_column": "pretest_1866"
        },
        {
         "CO2_working_capacity [mL/g]": -2.0747676942631426,
         "_deepnote_index_column": "pretest_1867"
        },
        {
         "CO2_working_capacity [mL/g]": -8.293346655135998,
         "_deepnote_index_column": "pretest_1868"
        },
        {
         "CO2_working_capacity [mL/g]": -1.9361467662605492,
         "_deepnote_index_column": "pretest_1869"
        },
        {
         "CO2_working_capacity [mL/g]": -4.524416398194107,
         "_deepnote_index_column": "pretest_1870"
        },
        {
         "CO2_working_capacity [mL/g]": 1.3881667668582296,
         "_deepnote_index_column": "pretest_1871"
        },
        {
         "CO2_working_capacity [mL/g]": -5.123887362753112,
         "_deepnote_index_column": "pretest_1872"
        },
        {
         "CO2_working_capacity [mL/g]": -3.211713165276119,
         "_deepnote_index_column": "pretest_1873"
        },
        {
         "CO2_working_capacity [mL/g]": 1.4138239067972802,
         "_deepnote_index_column": "pretest_1874"
        },
        {
         "CO2_working_capacity [mL/g]": 3.205011516317919,
         "_deepnote_index_column": "pretest_1875"
        },
        {
         "CO2_working_capacity [mL/g]": 2.3868570592301075,
         "_deepnote_index_column": "pretest_1876"
        },
        {
         "CO2_working_capacity [mL/g]": 5.566056842218863,
         "_deepnote_index_column": "pretest_1877"
        },
        {
         "CO2_working_capacity [mL/g]": -9.569209484772855,
         "_deepnote_index_column": "pretest_1878"
        },
        {
         "CO2_working_capacity [mL/g]": -1.1178387893701256,
         "_deepnote_index_column": "pretest_1879"
        },
        {
         "CO2_working_capacity [mL/g]": -1.642494098477306,
         "_deepnote_index_column": "pretest_1880"
        },
        {
         "CO2_working_capacity [mL/g]": -5.77913721449852,
         "_deepnote_index_column": "pretest_1881"
        },
        {
         "CO2_working_capacity [mL/g]": -12.773155537500765,
         "_deepnote_index_column": "pretest_1882"
        },
        {
         "CO2_working_capacity [mL/g]": 34.41690960281211,
         "_deepnote_index_column": "pretest_1883"
        },
        {
         "CO2_working_capacity [mL/g]": -0.48700628322208517,
         "_deepnote_index_column": "pretest_1884"
        },
        {
         "CO2_working_capacity [mL/g]": -4.067062180028781,
         "_deepnote_index_column": "pretest_1885"
        },
        {
         "CO2_working_capacity [mL/g]": 1.1754445015942523,
         "_deepnote_index_column": "pretest_1886"
        },
        {
         "CO2_working_capacity [mL/g]": 3.8460245319212847,
         "_deepnote_index_column": "pretest_1887"
        },
        {
         "CO2_working_capacity [mL/g]": 1.8775757514468532,
         "_deepnote_index_column": "pretest_1888"
        },
        {
         "CO2_working_capacity [mL/g]": -4.225078416359211,
         "_deepnote_index_column": "pretest_1889"
        },
        {
         "CO2_working_capacity [mL/g]": -0.6172562317403674,
         "_deepnote_index_column": "pretest_1890"
        },
        {
         "CO2_working_capacity [mL/g]": -2.3087998194638852,
         "_deepnote_index_column": "pretest_1891"
        },
        {
         "CO2_working_capacity [mL/g]": -1.1448576367110281,
         "_deepnote_index_column": "pretest_1892"
        },
        {
         "CO2_working_capacity [mL/g]": 1.3694827525925017,
         "_deepnote_index_column": "pretest_1893"
        },
        {
         "CO2_working_capacity [mL/g]": -3.215675072282613,
         "_deepnote_index_column": "pretest_1894"
        },
        {
         "CO2_working_capacity [mL/g]": -1.1816061154940392,
         "_deepnote_index_column": "pretest_1895"
        },
        {
         "CO2_working_capacity [mL/g]": 3.478562883142215,
         "_deepnote_index_column": "pretest_1896"
        },
        {
         "CO2_working_capacity [mL/g]": 2.156893050519381,
         "_deepnote_index_column": "pretest_1897"
        },
        {
         "CO2_working_capacity [mL/g]": 37.73479249270467,
         "_deepnote_index_column": "pretest_1898"
        },
        {
         "CO2_working_capacity [mL/g]": -14.824917991928642,
         "_deepnote_index_column": "pretest_1899"
        },
        {
         "CO2_working_capacity [mL/g]": -1.690093402135169,
         "_deepnote_index_column": "pretest_1900"
        },
        {
         "CO2_working_capacity [mL/g]": -2.424633817181416,
         "_deepnote_index_column": "pretest_1901"
        },
        {
         "CO2_working_capacity [mL/g]": -4.865789304199376,
         "_deepnote_index_column": "pretest_1902"
        },
        {
         "CO2_working_capacity [mL/g]": 19.567316138818505,
         "_deepnote_index_column": "pretest_1903"
        },
        {
         "CO2_working_capacity [mL/g]": -3.0443622122689917,
         "_deepnote_index_column": "pretest_1904"
        },
        {
         "CO2_working_capacity [mL/g]": 23.551810944761524,
         "_deepnote_index_column": "pretest_1905"
        },
        {
         "CO2_working_capacity [mL/g]": -4.890235461812959,
         "_deepnote_index_column": "pretest_1906"
        },
        {
         "CO2_working_capacity [mL/g]": -0.5461325591638839,
         "_deepnote_index_column": "pretest_1907"
        },
        {
         "CO2_working_capacity [mL/g]": 11.20475109903482,
         "_deepnote_index_column": "pretest_1908"
        },
        {
         "CO2_working_capacity [mL/g]": -7.298480461786728,
         "_deepnote_index_column": "pretest_1909"
        },
        {
         "CO2_working_capacity [mL/g]": 3.0548011322229964,
         "_deepnote_index_column": "pretest_1910"
        },
        {
         "CO2_working_capacity [mL/g]": 5.313819298774565,
         "_deepnote_index_column": "pretest_1911"
        },
        {
         "CO2_working_capacity [mL/g]": 5.491631829195918,
         "_deepnote_index_column": "pretest_1912"
        },
        {
         "CO2_working_capacity [mL/g]": -0.03085301498565883,
         "_deepnote_index_column": "pretest_1913"
        },
        {
         "CO2_working_capacity [mL/g]": -6.423891776296712,
         "_deepnote_index_column": "pretest_1914"
        },
        {
         "CO2_working_capacity [mL/g]": 7.704217437209474,
         "_deepnote_index_column": "pretest_1915"
        },
        {
         "CO2_working_capacity [mL/g]": 12.071320018270844,
         "_deepnote_index_column": "pretest_1916"
        },
        {
         "CO2_working_capacity [mL/g]": -2.801161962370694,
         "_deepnote_index_column": "pretest_1917"
        },
        {
         "CO2_working_capacity [mL/g]": 4.356682115044863,
         "_deepnote_index_column": "pretest_1918"
        },
        {
         "CO2_working_capacity [mL/g]": 2.1541691879528746,
         "_deepnote_index_column": "pretest_1919"
        },
        {
         "CO2_working_capacity [mL/g]": -3.570331946944209,
         "_deepnote_index_column": "pretest_1920"
        },
        {
         "CO2_working_capacity [mL/g]": 2.855387207137616,
         "_deepnote_index_column": "pretest_1921"
        },
        {
         "CO2_working_capacity [mL/g]": -3.279656881257923,
         "_deepnote_index_column": "pretest_1922"
        },
        {
         "CO2_working_capacity [mL/g]": 7.306870962470575,
         "_deepnote_index_column": "pretest_1923"
        },
        {
         "CO2_working_capacity [mL/g]": 2.9830794563159198,
         "_deepnote_index_column": "pretest_1924"
        },
        {
         "CO2_working_capacity [mL/g]": -3.0158233877285108,
         "_deepnote_index_column": "pretest_1925"
        },
        {
         "CO2_working_capacity [mL/g]": 8.27492478888724,
         "_deepnote_index_column": "pretest_1926"
        },
        {
         "CO2_working_capacity [mL/g]": -4.19892591656323,
         "_deepnote_index_column": "pretest_1927"
        },
        {
         "CO2_working_capacity [mL/g]": 29.597155187650355,
         "_deepnote_index_column": "pretest_1928"
        },
        {
         "CO2_working_capacity [mL/g]": 4.701223285294714,
         "_deepnote_index_column": "pretest_1929"
        },
        {
         "CO2_working_capacity [mL/g]": -4.24548602565426,
         "_deepnote_index_column": "pretest_1930"
        },
        {
         "CO2_working_capacity [mL/g]": -5.543988453568517,
         "_deepnote_index_column": "pretest_1931"
        },
        {
         "CO2_working_capacity [mL/g]": -4.189131469574854,
         "_deepnote_index_column": "pretest_1932"
        },
        {
         "CO2_working_capacity [mL/g]": 4.511892732685308,
         "_deepnote_index_column": "pretest_1933"
        },
        {
         "CO2_working_capacity [mL/g]": -2.8392454265366096,
         "_deepnote_index_column": "pretest_1934"
        },
        {
         "CO2_working_capacity [mL/g]": 11.962801483368626,
         "_deepnote_index_column": "pretest_1935"
        },
        {
         "CO2_working_capacity [mL/g]": -3.9896781949681097,
         "_deepnote_index_column": "pretest_1936"
        },
        {
         "CO2_working_capacity [mL/g]": -3.4130699355167575,
         "_deepnote_index_column": "pretest_1937"
        },
        {
         "CO2_working_capacity [mL/g]": -1.2637060855925655,
         "_deepnote_index_column": "pretest_1938"
        },
        {
         "CO2_working_capacity [mL/g]": 2.863649733737651,
         "_deepnote_index_column": "pretest_1939"
        },
        {
         "CO2_working_capacity [mL/g]": -1.9173137551223767,
         "_deepnote_index_column": "pretest_1940"
        },
        {
         "CO2_working_capacity [mL/g]": 3.5329747585772098,
         "_deepnote_index_column": "pretest_1941"
        },
        {
         "CO2_working_capacity [mL/g]": 5.406980669634236,
         "_deepnote_index_column": "pretest_1942"
        },
        {
         "CO2_working_capacity [mL/g]": -0.7179411537872226,
         "_deepnote_index_column": "pretest_1943"
        },
        {
         "CO2_working_capacity [mL/g]": 44.64533116153062,
         "_deepnote_index_column": "pretest_1944"
        },
        {
         "CO2_working_capacity [mL/g]": 7.022084213042931,
         "_deepnote_index_column": "pretest_1945"
        },
        {
         "CO2_working_capacity [mL/g]": -8.465599396430367,
         "_deepnote_index_column": "pretest_1946"
        },
        {
         "CO2_working_capacity [mL/g]": 0.6374132313091907,
         "_deepnote_index_column": "pretest_1947"
        },
        {
         "CO2_working_capacity [mL/g]": -5.272932876890893,
         "_deepnote_index_column": "pretest_1948"
        },
        {
         "CO2_working_capacity [mL/g]": 45.137275765479444,
         "_deepnote_index_column": "pretest_1949"
        },
        {
         "CO2_working_capacity [mL/g]": 3.2686114876679553,
         "_deepnote_index_column": "pretest_1950"
        },
        {
         "CO2_working_capacity [mL/g]": -4.706407149539023,
         "_deepnote_index_column": "pretest_1951"
        },
        {
         "CO2_working_capacity [mL/g]": 30.788779234894,
         "_deepnote_index_column": "pretest_1952"
        },
        {
         "CO2_working_capacity [mL/g]": 73.94854534417681,
         "_deepnote_index_column": "pretest_1953"
        },
        {
         "CO2_working_capacity [mL/g]": 3.008747594501664,
         "_deepnote_index_column": "pretest_1954"
        },
        {
         "CO2_working_capacity [mL/g]": -12.044691273153179,
         "_deepnote_index_column": "pretest_1955"
        },
        {
         "CO2_working_capacity [mL/g]": 0.3639994718951479,
         "_deepnote_index_column": "pretest_1956"
        },
        {
         "CO2_working_capacity [mL/g]": 52.42819629254396,
         "_deepnote_index_column": "pretest_1957"
        },
        {
         "CO2_working_capacity [mL/g]": 6.84726243209726,
         "_deepnote_index_column": "pretest_1958"
        },
        {
         "CO2_working_capacity [mL/g]": -3.3474743016616446,
         "_deepnote_index_column": "pretest_1959"
        },
        {
         "CO2_working_capacity [mL/g]": 2.945267419306038,
         "_deepnote_index_column": "pretest_1960"
        },
        {
         "CO2_working_capacity [mL/g]": 7.766036330372683,
         "_deepnote_index_column": "pretest_1961"
        },
        {
         "CO2_working_capacity [mL/g]": 7.302642234229679,
         "_deepnote_index_column": "pretest_1962"
        },
        {
         "CO2_working_capacity [mL/g]": -13.34862172063916,
         "_deepnote_index_column": "pretest_1963"
        },
        {
         "CO2_working_capacity [mL/g]": 7.100270670379379,
         "_deepnote_index_column": "pretest_1964"
        },
        {
         "CO2_working_capacity [mL/g]": -5.8560874750028304,
         "_deepnote_index_column": "pretest_1965"
        },
        {
         "CO2_working_capacity [mL/g]": -4.877000765451583,
         "_deepnote_index_column": "pretest_1966"
        },
        {
         "CO2_working_capacity [mL/g]": 44.216057105475905,
         "_deepnote_index_column": "pretest_1967"
        },
        {
         "CO2_working_capacity [mL/g]": -0.6652009813924411,
         "_deepnote_index_column": "pretest_1968"
        },
        {
         "CO2_working_capacity [mL/g]": -1.8178485791519154,
         "_deepnote_index_column": "pretest_1969"
        },
        {
         "CO2_working_capacity [mL/g]": 4.278370737693829,
         "_deepnote_index_column": "pretest_1970"
        },
        {
         "CO2_working_capacity [mL/g]": 30.61804350953158,
         "_deepnote_index_column": "pretest_1971"
        },
        {
         "CO2_working_capacity [mL/g]": 6.256065491211684,
         "_deepnote_index_column": "pretest_1972"
        },
        {
         "CO2_working_capacity [mL/g]": 1.5672066240305702,
         "_deepnote_index_column": "pretest_1973"
        },
        {
         "CO2_working_capacity [mL/g]": -1.7653025880914384,
         "_deepnote_index_column": "pretest_1974"
        },
        {
         "CO2_working_capacity [mL/g]": -7.925146519560306,
         "_deepnote_index_column": "pretest_1975"
        },
        {
         "CO2_working_capacity [mL/g]": -4.75130748855072,
         "_deepnote_index_column": "pretest_1976"
        },
        {
         "CO2_working_capacity [mL/g]": -6.113297866323331,
         "_deepnote_index_column": "pretest_1977"
        },
        {
         "CO2_working_capacity [mL/g]": 30.303967339763485,
         "_deepnote_index_column": "pretest_1978"
        },
        {
         "CO2_working_capacity [mL/g]": -2.897045393710477,
         "_deepnote_index_column": "pretest_1979"
        },
        {
         "CO2_working_capacity [mL/g]": -2.724116848590404,
         "_deepnote_index_column": "pretest_1980"
        },
        {
         "CO2_working_capacity [mL/g]": 4.8081708057861805,
         "_deepnote_index_column": "pretest_1981"
        },
        {
         "CO2_working_capacity [mL/g]": 2.105778457672366,
         "_deepnote_index_column": "pretest_1982"
        },
        {
         "CO2_working_capacity [mL/g]": -1.6728847017887256,
         "_deepnote_index_column": "pretest_1983"
        },
        {
         "CO2_working_capacity [mL/g]": -11.107010086593572,
         "_deepnote_index_column": "pretest_1984"
        },
        {
         "CO2_working_capacity [mL/g]": 0.4129126986346907,
         "_deepnote_index_column": "pretest_1985"
        },
        {
         "CO2_working_capacity [mL/g]": 0.0445818547330515,
         "_deepnote_index_column": "pretest_1986"
        },
        {
         "CO2_working_capacity [mL/g]": -2.728336895835875,
         "_deepnote_index_column": "pretest_1987"
        },
        {
         "CO2_working_capacity [mL/g]": -0.32874356016640505,
         "_deepnote_index_column": "pretest_1988"
        },
        {
         "CO2_working_capacity [mL/g]": 3.683565254490065,
         "_deepnote_index_column": "pretest_1989"
        },
        {
         "CO2_working_capacity [mL/g]": -4.802321680093435,
         "_deepnote_index_column": "pretest_1990"
        },
        {
         "CO2_working_capacity [mL/g]": 43.38497444421615,
         "_deepnote_index_column": "pretest_1991"
        },
        {
         "CO2_working_capacity [mL/g]": -4.7350819282087535,
         "_deepnote_index_column": "pretest_1992"
        },
        {
         "CO2_working_capacity [mL/g]": 24.41680815606087,
         "_deepnote_index_column": "pretest_1993"
        },
        {
         "CO2_working_capacity [mL/g]": 1.5780522001640265,
         "_deepnote_index_column": "pretest_1994"
        },
        {
         "CO2_working_capacity [mL/g]": -4.1676920358382,
         "_deepnote_index_column": "pretest_1995"
        },
        {
         "CO2_working_capacity [mL/g]": 0.5719382868893469,
         "_deepnote_index_column": "pretest_1996"
        },
        {
         "CO2_working_capacity [mL/g]": 3.6676577106078634,
         "_deepnote_index_column": "pretest_1997"
        },
        {
         "CO2_working_capacity [mL/g]": -0.5665041421036269,
         "_deepnote_index_column": "pretest_1998"
        },
        {
         "CO2_working_capacity [mL/g]": -8.06405648840341,
         "_deepnote_index_column": "pretest_1999"
        },
        {
         "CO2_working_capacity [mL/g]": 51.42735094569992,
         "_deepnote_index_column": "pretest_2000"
        }
       ]
      },
      "text/plain": "              CO2_working_capacity [mL/g]\nid                                       \npretest_1                      105.931664\npretest_2                      131.442136\npretest_3                      203.310369\npretest_4                       65.873984\npretest_5                       92.521294\n...                                   ...\npretest_1996                     0.571938\npretest_1997                     3.667658\npretest_1998                    -0.566504\npretest_1999                    -8.064056\npretest_2000                    51.427351\n\n[2000 rows x 1 columns]",
      "text/html": "<div>\n<style scoped>\n    .dataframe tbody tr th:only-of-type {\n        vertical-align: middle;\n    }\n\n    .dataframe tbody tr th {\n        vertical-align: top;\n    }\n\n    .dataframe thead th {\n        text-align: right;\n    }\n</style>\n<table border=\"1\" class=\"dataframe\">\n  <thead>\n    <tr style=\"text-align: right;\">\n      <th></th>\n      <th>CO2_working_capacity [mL/g]</th>\n    </tr>\n    <tr>\n      <th>id</th>\n      <th></th>\n    </tr>\n  </thead>\n  <tbody>\n    <tr>\n      <th>pretest_1</th>\n      <td>105.931664</td>\n    </tr>\n    <tr>\n      <th>pretest_2</th>\n      <td>131.442136</td>\n    </tr>\n    <tr>\n      <th>pretest_3</th>\n      <td>203.310369</td>\n    </tr>\n    <tr>\n      <th>pretest_4</th>\n      <td>65.873984</td>\n    </tr>\n    <tr>\n      <th>pretest_5</th>\n      <td>92.521294</td>\n    </tr>\n    <tr>\n      <th>...</th>\n      <td>...</td>\n    </tr>\n    <tr>\n      <th>pretest_1996</th>\n      <td>0.571938</td>\n    </tr>\n    <tr>\n      <th>pretest_1997</th>\n      <td>3.667658</td>\n    </tr>\n    <tr>\n      <th>pretest_1998</th>\n      <td>-0.566504</td>\n    </tr>\n    <tr>\n      <th>pretest_1999</th>\n      <td>-8.064056</td>\n    </tr>\n    <tr>\n      <th>pretest_2000</th>\n      <td>51.427351</td>\n    </tr>\n  </tbody>\n</table>\n<p>2000 rows × 1 columns</p>\n</div>"
     },
     "metadata": {}
    }
   ],
   "execution_count": null
  },
  {
   "cell_type": "code",
   "metadata": {
    "tags": [],
    "deepnote_to_be_reexecuted": false,
    "source_hash": "8330eb30",
    "execution_start": 1632714884784,
    "execution_millis": 253,
    "cell_id": "00038-fbb51fba-41bc-4b97-896c-b0586cdc812b",
    "deepnote_cell_type": "code"
   },
   "source": "sub.to_csv(\"submission.csv\")",
   "outputs": [],
   "execution_count": null
  },
  {
   "cell_type": "code",
   "metadata": {
    "tags": [],
    "deepnote_to_be_reexecuted": false,
    "source_hash": "c11ec714",
    "execution_start": 1632714885045,
    "execution_millis": 28,
    "cell_id": "00039-f9aa2a1d-1ab7-473b-b9a8-d766aff80e20",
    "deepnote_cell_type": "code"
   },
   "source": "import zipfile\nimport hashlib\n \n\nsha256_hash = hashlib.sha256()\nwith open(\"submission.csv\",\"rb\") as f:\n    # Read and update hash string value in blocks of 4K\n    for byte_block in iter(lambda: f.read(4096),b\"\"):\n        sha256_hash.update(byte_block)\n    hash_str = sha256_hash.hexdigest()\n\nprint(hash_str)\nzipfile.ZipFile(f'{hash_str}.zip', mode='w').write(\"submission.csv\")",
   "outputs": [
    {
     "name": "stdout",
     "text": "27625d962f684fbb5f23100b6369e266f2918d933b94b984c65887a3365350b7\n",
     "output_type": "stream"
    }
   ],
   "execution_count": null
  },
  {
   "cell_type": "code",
   "source": "# !rm -rf *.zip",
   "metadata": {
    "tags": [],
    "cell_id": "00043-afdbb412-4158-4cc8-9481-92272b966fed",
    "deepnote_to_be_reexecuted": false,
    "source_hash": "3cbedd51",
    "execution_start": 1632715076128,
    "execution_millis": 297,
    "deepnote_cell_type": "code"
   },
   "outputs": [],
   "execution_count": null
  },
  {
   "cell_type": "markdown",
   "source": "<a style='text-decoration:none;line-height:16px;display:flex;color:#5B5B62;padding:10px;justify-content:end;' href='https://deepnote.com?utm_source=created-in-deepnote-cell&projectId=cf8541de-dbc3-45f6-bc1e-4fa446cacbcd' target=\"_blank\">\n<img alt='Created in deepnote.com' style='display:inline;max-height:16px;margin:0px;margin-right:7.5px;' src='data:image/svg+xml;base64,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' > </img>\nCreated in <span style='font-weight:600;margin-left:4px;'>Deepnote</span></a>",
   "metadata": {
    "tags": [],
    "created_in_deepnote_cell": true,
    "deepnote_cell_type": "markdown"
   }
  }
 ],
 "nbformat": 4,
 "nbformat_minor": 2,
 "metadata": {
  "orig_nbformat": 2,
  "deepnote": {
   "is_reactive": false
  },
  "deepnote_notebook_id": "780dd298-7ca0-4b2f-b368-c5fbfd96baa2",
  "deepnote_execution_queue": []
 }
}