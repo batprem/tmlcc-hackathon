{
 "cells": [
  {
   "cell_type": "markdown",
   "source": "# Import modules",
   "metadata": {
    "tags": [],
    "is_collapsed": false,
    "cell_id": "00000-9ffa94f2-5477-47e7-bae1-16c9b508b435",
    "deepnote_cell_type": "text-cell-h1"
   }
  },
  {
   "cell_type": "code",
   "metadata": {
    "tags": [],
    "deepnote_to_be_reexecuted": false,
    "source_hash": "4865ef98",
    "execution_start": 1632659221568,
    "execution_millis": 2078,
    "cell_id": "00001-519c87eb-39b2-4552-9acf-5bb538766e35",
    "deepnote_cell_type": "code"
   },
   "source": "import os\nimport pandas as pd\n\n\nimport numpy as np\nfrom sklearn.impute import KNNImputer\nfrom sklearn.metrics import mean_absolute_error\nfrom sklearn.preprocessing import power_transform\nfrom catboost import CatBoostRegressor\n\n# Local dependencies\nfrom src.constants import (\n    PREPROCESSING_PATH,\n    TARGET\n)\nfrom utils.classes.extractor import FunctionalGroupToGramExtractor\n\nfrom typing import (\n    Optional,\n    List,\n    Any\n)\nfrom sklearn.model_selection import KFold, RepeatedKFold, RepeatedStratifiedKFold\n\nimport pickle\nimport json\n\nimport warnings\nwarnings.filterwarnings(\"ignore\")",
   "outputs": [],
   "execution_count": 1
  },
  {
   "cell_type": "markdown",
   "source": "# Load essentials",
   "metadata": {
    "tags": [],
    "is_collapsed": false,
    "cell_id": "00002-f0fb72e4-7e71-4349-9308-babdaaf14f7f",
    "deepnote_cell_type": "text-cell-h1"
   }
  },
  {
   "cell_type": "code",
   "metadata": {
    "tags": [],
    "deepnote_to_be_reexecuted": false,
    "source_hash": "24408d87",
    "execution_start": 1632659223655,
    "execution_millis": 510,
    "cell_id": "00003-02ebdc22-7bef-4961-a7c3-8dad462a3a9b",
    "deepnote_cell_type": "code"
   },
   "source": "Train = pd.read_csv(f\"{PREPROCESSING_PATH}/train_merged_CIF/Train.csv\")\nTrain = Train.set_index(Train.columns[0])\n\nPretest = pd.read_csv(f\"{PREPROCESSING_PATH}/pretest_merged_CIF/Pretest.csv\")\nPretest = Pretest.set_index(Pretest.columns[0])\n\nfuntional_group_extractor = FunctionalGroupToGramExtractor()",
   "outputs": [],
   "execution_count": 2
  },
  {
   "cell_type": "code",
   "metadata": {
    "tags": [],
    "deepnote_to_be_reexecuted": false,
    "source_hash": "4469f046",
    "execution_start": 1632659224172,
    "execution_millis": 26,
    "cell_id": "00004-f2128360-f905-4e90-9455-764604735ab6",
    "deepnote_cell_type": "code"
   },
   "source": "Train.columns",
   "outputs": [
    {
     "output_type": "execute_result",
     "execution_count": 3,
     "data": {
      "text/plain": "Index(['MOFname', 'volume [A^3]', 'weight [u]', 'surface_area [m^2/g]',\n       'void_fraction', 'void_volume [cm^3/g]', 'functional_groups',\n       'metal_linker', 'organic_linker1', 'organic_linker2', 'topology',\n       'CO2/N2_selectivity', 'heat_adsorption_CO2_P0.15bar_T298K [kcal/mol]',\n       'cif_filepath', '_audit_creation_date',\n       '_symmetry_space_group_name_H-M', '_symmetry_Int_Tables_number',\n       '_space_group_crystal_system', '_cell_length_a', '_cell_length_b',\n       '_cell_length_c', '_cell_angle_alpha', '_cell_angle_beta',\n       '_cell_angle_gamma', '_cell_volume', 'partial_charge_mean',\n       'partial_charge_median', 'partial_charge_std', 'bond_type_countS',\n       'bond_type_countA', 'bond_type_countD', 'bond_type_countT',\n       'bond_type_countAm', 'CO2_working_capacity [mL/g]'],\n      dtype='object')"
     },
     "metadata": {}
    }
   ],
   "execution_count": 3
  },
  {
   "cell_type": "markdown",
   "source": "# Set up pipeline",
   "metadata": {
    "tags": [],
    "is_collapsed": false,
    "cell_id": "00005-b117c6f3-376a-4ef7-a4fa-f3fbb68db289",
    "deepnote_cell_type": "text-cell-h1"
   }
  },
  {
   "cell_type": "code",
   "metadata": {
    "tags": [],
    "deepnote_to_be_reexecuted": false,
    "source_hash": "3ebbc2fb",
    "execution_start": 1632659224275,
    "execution_millis": 0,
    "cell_id": "00006-96f19f94-b90e-4d82-a070-24c8f3b2c9a5",
    "deepnote_cell_type": "code"
   },
   "source": "\nclass PreprocessingPipeline:\n    funcgroup2num = None\n    topology2num = None\n    spacegroup2num = None\n    organic_linker1 = None\n    organic_linker2 = None\n\n    def label(self, df):\n        # if self.funcgroup2num is None:\n        #     self.funcgroup2num = {\n        #         c: i\n        #         for i, c\n        #         in enumerate(df[\"functional_groups\"].unique())\n        #     }\n\n        # if self.topology2num is None:\n        #     self.topology2num = {\n        #         c: i\n        #         for i, c\n        #         in enumerate(df[\"topology\"].unique())\n        #     }\n        # df[\"label_topology\"] = df[\"topology\"].map(self.topology2num)\n\n        df[\"label_topology_pcu\"] = (df[\"topology\"] == \"pcu\").astype(int)\n        df[\"label_topology_sra\"] = (df[\"topology\"] == \"sra\").astype(int)\n        df[\"label_topology_acs\"] = (df[\"topology\"] == \"acs\").astype(int)\n        df[\"label_topology_etb\"] = (df[\"topology\"] == \"etb\").astype(int)\n        df[\"label_topology_bcu\"] = (df[\"topology\"] == \"bcu\").astype(int)\n        df[\"label_topology_nbo\"] = (df[\"topology\"] == \"nbo\").astype(int)\n        \n        \n        df[\"label_spacegroup_triclinic\"] = (\n            df[\"_space_group_crystal_system\"] == \"triclinic\"\n        ).astype(int)\n\n        df[\"metal_linker_1\"] = (\n            df[\"metal_linker\"] == 1\n        ).astype(int)\n        df[\"metal_linker_2\"] = (\n            df[\"metal_linker\"] == 2\n        ).astype(int)\n        df[\"metal_linker_3\"] = (\n            df[\"metal_linker\"] == 3\n        ).astype(int)\n        df[\"metal_linker_4\"] = (\n            df[\"metal_linker\"] == 4\n        ).astype(int)\n        df[\"metal_linker_9\"] = (\n            df[\"metal_linker\"] == 9\n        ).astype(int)\n        df[\"metal_linker_10\"] = (\n            df[\"metal_linker\"] == 10\n        ).astype(int)\n        df[\"metal_linker_12\"] = (\n            df[\"metal_linker\"] == 12\n        ).astype(int)\n\n        if self.organic_linker1 is None:\n            self.organic_linker1 = set(df['organic_linker1'])\n        for linker in self.organic_linker1:\n            df[f\"organic_linker1_{linker}\"] = (\n                df[\"organic_linker1\"] == linker\n            ).astype(int)\n\n        if self.organic_linker2 is None:\n            self.organic_linker2 = set(df['organic_linker2'])\n        for linker in self.organic_linker2:\n            df[f\"organic_linker2_{linker}\"] = (\n                df[\"organic_linker2\"] == linker\n            ).astype(int)\n\n        return df\n    \n\n    @staticmethod\n    def get_density(df: pd.DataFrame):\n        df['density'] = (df[\"weight [u]\"] / df[\"volume [A^3]\"]) * 1.66054\n        df['void_volume [cm^3/g]'] = df['void_fraction'] / df[\"density\"]\n        return df\n\n    @staticmethod\n    def replace_surface_area_equal_0_with_null(df: pd.DataFrame):\n        df[\"surface_area [m^2/g]\"] = df[\"surface_area [m^2/g]\"].replace(0, np.nan)\n        return df\n\n    @staticmethod\n    def replace_inf_with_null(df: pd.DataFrame):\n        df = df.replace(np.inf, 999999)\n        df = df.replace(-np.inf, -999999)\n        return df\n\n    @staticmethod\n    def drop_unused_columns(\n        df, unused_columns: Optional[List[str]] = None\n    ) -> pd.DataFrame:\n        if not unused_columns:\n            unused_columns = [\n                \"MOFname\",\n                # 'functional_groups',\n                \"topology\",\n                \"cif_filepath\",\n                \"_audit_creation_date\",\n                \"_symmetry_Int_Tables_number\",\n                \"_symmetry_space_group_name_H-M\",\n                \"_space_group_crystal_system\",\n                # \"bond_type_countT\",\n                'metal_linker',\n                # 'organic_linker1',\n                # 'organic_linker2'\n                \"partial_charge_mean\",\n                \"partial_charge_std\",\n                \"_cell_volume\",\n            ]\n        for col in unused_columns:\n            try:\n                df.drop(col, axis=1, inplace=True)\n            except KeyError:\n                pass\n        return df\n\n    @staticmethod\n    def set_imputer(X: pd.DataFrame) -> KNNImputer:\n        imputer = KNNImputer(n_neighbors=5)\n        imputer.fit(X)\n        return imputer\n\n    @staticmethod\n    def impute_value(X: pd.DataFrame, imputer: KNNImputer):\n        return imputer.transform(X)\n\n    @staticmethod\n    def extract_functional_group(X: pd.DataFrame, fit: bool) -> pd.DataFrame:\n        funtional_group_extacted = funtional_group_extractor.transform(X, fit)\n        return pd.concat([X, funtional_group_extractor], axis=1)\n\n\nclass TrainDataPreprocessingPipeline(PreprocessingPipeline):\n    @staticmethod\n    def drop_surface_area_equal_minus_1(df):\n        return df.drop(df[df[\"surface_area [m^2/g]\"] == -1].index)\n\n    def impute(self):\n        temp_columns = self.X.columns\n        temp_index = self.X.index\n\n        if not self.imputer:\n            self.imputer = self.set_imputer(self.X)\n\n        self.X = self.impute_value(self.X, self.imputer)\n\n        self.X = pd.DataFrame(self.X)\n        self.X.columns = temp_columns\n        self.X.index = temp_index\n\n    def run(self):\n        self.functional_group_extractor = FunctionalGroupToGramExtractor()\n\n        # Drop and add featrures\n        print(\"Print droping and replace null\")\n        self.df = self.drop_surface_area_equal_minus_1(self.df)\n        self.df = self.replace_surface_area_equal_0_with_null(self.df)\n        self.df = self.replace_inf_with_null(self.df)\n        self.df = self.label(self.df)\n        self.df = self.drop_unused_columns(self.df)\n        self.df = self.df.drop(self.df[self.df[\"CO2/N2_selectivity\"] == 0].index)\n        self.df = self.get_density(self.df)\n        # Split\n        print(\"Split X, y\")\n        self.X = self.df.drop(TARGET, axis=1)\n        self.y = self.df[[TARGET]]\n\n        # Extract\n        # print(\"Extract functional group\")\n        # functional_group = self.functional_group_extractor.transform(\n        #     self.X[['functional_groups']],\n        #     fit=True\n        # )\n\n        # Impute\n        print(\"Impute\")\n        self.X = self.X.drop(\"functional_groups\", axis=1)\n        self.impute()\n        # self.X = pd.concat([self.X, functional_group], axis=1)\n\n    def __init__(self, df: pd.DataFrame, imputer: Any = None):\n        self.df = df\n        self.imputer = imputer\n",
   "outputs": [],
   "execution_count": 4
  },
  {
   "cell_type": "code",
   "metadata": {
    "tags": [],
    "deepnote_to_be_reexecuted": false,
    "source_hash": "5221261b",
    "execution_start": 1632659224276,
    "execution_millis": 7,
    "cell_id": "00007-34154c89-5188-4970-98f9-cf603ac04c78",
    "deepnote_cell_type": "code"
   },
   "source": "class TestDataPreprocessingPipeline(PreprocessingPipeline):\n    def impute(self):\n        temp_columns = self.X.columns\n        temp_index = self.X.index\n\n        if not self.imputer:\n            self.imputer = self.set_imputer(self.X)\n\n        self.X = self.impute_value(self.X, self.imputer)\n\n        self.X = pd.DataFrame(self.X)\n        self.X.columns = temp_columns\n        self.X.index = temp_index\n\n    def run(self):\n        # Drop\n        print(\"Print droping and replace null\")\n        self.X = self.replace_surface_area_equal_0_with_null(self.df)\n        self.X = self.replace_inf_with_null(self.X)\n        self.X = self.label(self.X)\n        self.X = self.drop_unused_columns(self.X)\n        self.X = self.get_density(self.X)\n\n        # Extract\n        # print(\"Extract functional group\")\n        # functional_group = self.functional_group_extractor.transform(\n        #     self.X[['functional_groups']],\n        # )\n\n        # Impute\n        print(\"Impute\")\n        self.X = self.X.drop('functional_groups', axis=1)\n        self.impute()\n        # self.X = pd.concat([self.X, functional_group], axis=1)\n        self.X = self.X[self.columns]\n\n    \n    def __init__(\n        self,\n        df: pd.DataFrame,\n        imputer: Any = None,\n        functional_group_extractor: FunctionalGroupToGramExtractor = None,\n        columns: list = None\n    ):\n        self.df = df\n        self.imputer = imputer\n        self.functional_group_extractor = functional_group_extractor\n        self.columns = columns\n\n",
   "outputs": [],
   "execution_count": 5
  },
  {
   "cell_type": "markdown",
   "source": "# Run pipeline",
   "metadata": {
    "tags": [],
    "is_collapsed": false,
    "cell_id": "00008-061532dd-d58e-4cb2-9604-2133dd9e62c1",
    "deepnote_cell_type": "text-cell-h1"
   }
  },
  {
   "cell_type": "code",
   "metadata": {
    "tags": [],
    "deepnote_to_be_reexecuted": false,
    "source_hash": "9f99deb6",
    "execution_start": 1632659224284,
    "execution_millis": 749,
    "cell_id": "00009-0bf4168c-4f56-498c-8487-de33c6146b13",
    "deepnote_cell_type": "code"
   },
   "source": "class Imputer9999:\n    def transform(self, df):\n        return df.replace(np.nan, -9999)\n\nimputer = Imputer9999()\ntrain = TrainDataPreprocessingPipeline(Train, imputer)\ntrain.run()",
   "outputs": [
    {
     "name": "stdout",
     "text": "Print droping and replace null\nSplit X, y\nImpute\n",
     "output_type": "stream"
    }
   ],
   "execution_count": 6
  },
  {
   "cell_type": "code",
   "metadata": {
    "tags": [],
    "deepnote_to_be_reexecuted": false,
    "source_hash": "364ae2b2",
    "execution_start": 1632659225032,
    "execution_millis": 182,
    "cell_id": "00010-e7f41c63-9b66-431d-a76d-18a21df2531f",
    "deepnote_cell_type": "code"
   },
   "source": "train.X",
   "outputs": [
    {
     "output_type": "execute_result",
     "execution_count": 7,
     "data": {
      "application/vnd.deepnote.dataframe.v2+json": {
       "row_count": 66715,
       "column_count": 150,
       "columns": [
        {
         "name": "volume [A^3]",
         "dtype": "float64",
         "stats": {
          "unique_count": 66709,
          "nan_count": 0,
          "min": "606.576038",
          "max": "223964.854408",
          "histogram": [
           {
            "bin_start": 606.576038,
            "bin_end": 22942.403875,
            "count": 65787
           },
           {
            "bin_start": 22942.403875,
            "bin_end": 45278.231712,
            "count": 823
           },
           {
            "bin_start": 45278.231712,
            "bin_end": 67614.059549,
            "count": 80
           },
           {
            "bin_start": 67614.059549,
            "bin_end": 89949.887386,
            "count": 18
           },
           {
            "bin_start": 89949.887386,
            "bin_end": 112285.715223,
            "count": 3
           },
           {
            "bin_start": 112285.715223,
            "bin_end": 134621.54306,
            "count": 3
           },
           {
            "bin_start": 134621.54306,
            "bin_end": 156957.37089700002,
            "count": 0
           },
           {
            "bin_start": 156957.37089700002,
            "bin_end": 179293.198734,
            "count": 0
           },
           {
            "bin_start": 179293.198734,
            "bin_end": 201629.026571,
            "count": 0
           },
           {
            "bin_start": 201629.026571,
            "bin_end": 223964.854408,
            "count": 1
           }
          ]
         }
        },
        {
         "name": "weight [u]",
         "dtype": "float64"
        },
        {
         "name": "surface_area [m^2/g]",
         "dtype": "float64"
        },
        {
         "name": "void_fraction",
         "dtype": "float64"
        },
        {
         "name": "void_volume [cm^3/g]",
         "dtype": "float64"
        },
        {
         "name": "organic_linker1",
         "dtype": "int64"
        },
        {
         "name": "organic_linker2",
         "dtype": "int64"
        },
        {
         "name": "CO2/N2_selectivity",
         "dtype": "float64"
        },
        {
         "name": "heat_adsorption_CO2_P0.15bar_T298K [kcal/mol]",
         "dtype": "float64"
        },
        {
         "name": "_cell_length_a",
         "dtype": "float64"
        },
        {
         "name": "_cell_length_b",
         "dtype": "float64"
        },
        {
         "name": "_cell_length_c",
         "dtype": "float64"
        },
        {
         "name": "_cell_angle_alpha",
         "dtype": "float64"
        },
        {
         "name": "_cell_angle_beta",
         "dtype": "float64"
        },
        {
         "name": "_cell_angle_gamma",
         "dtype": "float64"
        },
        {
         "name": "partial_charge_median",
         "dtype": "float64"
        },
        {
         "name": "bond_type_countS",
         "dtype": "int64"
        },
        {
         "name": "bond_type_countA",
         "dtype": "int64"
        },
        {
         "name": "bond_type_countD",
         "dtype": "float64"
        },
        {
         "name": "bond_type_countT",
         "dtype": "float64"
        },
        {
         "name": "bond_type_countAm",
         "dtype": "float64"
        },
        {
         "name": "label_topology_pcu",
         "dtype": "int64"
        },
        {
         "name": "label_topology_sra",
         "dtype": "int64"
        },
        {
         "name": "label_topology_acs",
         "dtype": "int64"
        },
        {
         "name": "label_topology_etb",
         "dtype": "int64"
        },
        {
         "name": "label_topology_bcu",
         "dtype": "int64"
        },
        {
         "name": "label_topology_nbo",
         "dtype": "int64"
        },
        {
         "name": "label_spacegroup_triclinic",
         "dtype": "int64"
        },
        {
         "name": "metal_linker_1",
         "dtype": "int64"
        },
        {
         "name": "metal_linker_2",
         "dtype": "int64"
        },
        {
         "name": "metal_linker_3",
         "dtype": "int64"
        },
        {
         "name": "metal_linker_4",
         "dtype": "int64"
        },
        {
         "name": "metal_linker_9",
         "dtype": "int64"
        },
        {
         "name": "metal_linker_10",
         "dtype": "int64"
        },
        {
         "name": "metal_linker_12",
         "dtype": "int64"
        },
        {
         "name": "organic_linker1_1",
         "dtype": "int64"
        },
        {
         "name": "organic_linker1_2",
         "dtype": "int64"
        },
        {
         "name": "organic_linker1_3",
         "dtype": "int64"
        },
        {
         "name": "organic_linker1_4",
         "dtype": "int64"
        },
        {
         "name": "organic_linker1_5",
         "dtype": "int64"
        },
        {
         "name": "organic_linker1_6",
         "dtype": "int64"
        },
        {
         "name": "organic_linker1_7",
         "dtype": "int64"
        },
        {
         "name": "organic_linker1_8",
         "dtype": "int64"
        },
        {
         "name": "organic_linker1_9",
         "dtype": "int64"
        },
        {
         "name": "organic_linker1_10",
         "dtype": "int64"
        },
        {
         "name": "organic_linker1_11",
         "dtype": "int64"
        },
        {
         "name": "organic_linker1_12",
         "dtype": "int64"
        },
        {
         "name": "organic_linker1_13",
         "dtype": "int64"
        },
        {
         "name": "organic_linker1_14",
         "dtype": "int64"
        },
        {
         "name": "organic_linker1_15",
         "dtype": "int64"
        },
        {
         "name": "organic_linker1_16",
         "dtype": "int64"
        },
        {
         "name": "organic_linker1_17",
         "dtype": "int64"
        },
        {
         "name": "organic_linker1_18",
         "dtype": "int64"
        },
        {
         "name": "organic_linker1_19",
         "dtype": "int64"
        },
        {
         "name": "organic_linker1_20",
         "dtype": "int64"
        },
        {
         "name": "organic_linker1_21",
         "dtype": "int64"
        },
        {
         "name": "organic_linker1_22",
         "dtype": "int64"
        },
        {
         "name": "organic_linker1_23",
         "dtype": "int64"
        },
        {
         "name": "organic_linker1_24",
         "dtype": "int64"
        },
        {
         "name": "organic_linker1_25",
         "dtype": "int64"
        },
        {
         "name": "organic_linker1_26",
         "dtype": "int64"
        },
        {
         "name": "organic_linker1_27",
         "dtype": "int64"
        },
        {
         "name": "organic_linker1_28",
         "dtype": "int64"
        },
        {
         "name": "organic_linker1_29",
         "dtype": "int64"
        },
        {
         "name": "organic_linker1_30",
         "dtype": "int64"
        },
        {
         "name": "organic_linker1_31",
         "dtype": "int64"
        },
        {
         "name": "organic_linker1_32",
         "dtype": "int64"
        },
        {
         "name": "organic_linker1_33",
         "dtype": "int64"
        },
        {
         "name": "organic_linker1_34",
         "dtype": "int64"
        },
        {
         "name": "organic_linker1_35",
         "dtype": "int64"
        },
        {
         "name": "organic_linker1_36",
         "dtype": "int64"
        },
        {
         "name": "organic_linker1_38",
         "dtype": "int64"
        },
        {
         "name": "organic_linker1_40",
         "dtype": "int64"
        },
        {
         "name": "organic_linker1_41",
         "dtype": "int64"
        },
        {
         "name": "organic_linker1_42",
         "dtype": "int64"
        },
        {
         "name": "organic_linker1_43",
         "dtype": "int64"
        },
        {
         "name": "organic_linker1_44",
         "dtype": "int64"
        },
        {
         "name": "organic_linker1_45",
         "dtype": "int64"
        },
        {
         "name": "organic_linker1_46",
         "dtype": "int64"
        },
        {
         "name": "organic_linker1_47",
         "dtype": "int64"
        },
        {
         "name": "organic_linker1_48",
         "dtype": "int64"
        },
        {
         "name": "organic_linker1_49",
         "dtype": "int64"
        },
        {
         "name": "organic_linker1_50",
         "dtype": "int64"
        },
        {
         "name": "organic_linker1_51",
         "dtype": "int64"
        },
        {
         "name": "organic_linker1_52",
         "dtype": "int64"
        },
        {
         "name": "organic_linker1_53",
         "dtype": "int64"
        },
        {
         "name": "organic_linker1_54",
         "dtype": "int64"
        },
        {
         "name": "organic_linker1_55",
         "dtype": "int64"
        },
        {
         "name": "organic_linker1_56",
         "dtype": "int64"
        },
        {
         "name": "organic_linker1_57",
         "dtype": "int64"
        },
        {
         "name": "organic_linker1_58",
         "dtype": "int64"
        },
        {
         "name": "organic_linker1_59",
         "dtype": "int64"
        },
        {
         "name": "organic_linker2_1",
         "dtype": "int64"
        },
        {
         "name": "organic_linker2_2",
         "dtype": "int64"
        },
        {
         "name": "organic_linker2_3",
         "dtype": "int64"
        },
        {
         "name": "organic_linker2_4",
         "dtype": "int64"
        },
        {
         "name": "organic_linker2_5",
         "dtype": "int64"
        },
        {
         "name": "organic_linker2_6",
         "dtype": "int64"
        },
        {
         "name": "organic_linker2_7",
         "dtype": "int64"
        },
        {
         "name": "organic_linker2_8",
         "dtype": "int64"
        },
        {
         "name": "organic_linker2_9",
         "dtype": "int64"
        },
        {
         "name": "organic_linker2_10",
         "dtype": "int64"
        },
        {
         "name": "organic_linker2_11",
         "dtype": "int64"
        },
        {
         "name": "organic_linker2_12",
         "dtype": "int64"
        },
        {
         "name": "organic_linker2_13",
         "dtype": "int64"
        },
        {
         "name": "organic_linker2_14",
         "dtype": "int64"
        },
        {
         "name": "organic_linker2_15",
         "dtype": "int64"
        },
        {
         "name": "organic_linker2_16",
         "dtype": "int64"
        },
        {
         "name": "organic_linker2_17",
         "dtype": "int64"
        },
        {
         "name": "organic_linker2_18",
         "dtype": "int64"
        },
        {
         "name": "organic_linker2_19",
         "dtype": "int64"
        },
        {
         "name": "organic_linker2_20",
         "dtype": "int64"
        },
        {
         "name": "organic_linker2_21",
         "dtype": "int64"
        },
        {
         "name": "organic_linker2_22",
         "dtype": "int64"
        },
        {
         "name": "organic_linker2_23",
         "dtype": "int64"
        },
        {
         "name": "organic_linker2_24",
         "dtype": "int64"
        },
        {
         "name": "organic_linker2_25",
         "dtype": "int64"
        },
        {
         "name": "organic_linker2_26",
         "dtype": "int64"
        },
        {
         "name": "organic_linker2_27",
         "dtype": "int64"
        },
        {
         "name": "organic_linker2_28",
         "dtype": "int64"
        },
        {
         "name": "organic_linker2_29",
         "dtype": "int64"
        },
        {
         "name": "organic_linker2_30",
         "dtype": "int64"
        },
        {
         "name": "organic_linker2_31",
         "dtype": "int64"
        },
        {
         "name": "organic_linker2_32",
         "dtype": "int64"
        },
        {
         "name": "organic_linker2_33",
         "dtype": "int64"
        },
        {
         "name": "organic_linker2_34",
         "dtype": "int64"
        },
        {
         "name": "organic_linker2_35",
         "dtype": "int64"
        },
        {
         "name": "organic_linker2_36",
         "dtype": "int64"
        },
        {
         "name": "organic_linker2_38",
         "dtype": "int64"
        },
        {
         "name": "organic_linker2_40",
         "dtype": "int64"
        },
        {
         "name": "organic_linker2_41",
         "dtype": "int64"
        },
        {
         "name": "organic_linker2_42",
         "dtype": "int64"
        },
        {
         "name": "organic_linker2_43",
         "dtype": "int64"
        },
        {
         "name": "organic_linker2_44",
         "dtype": "int64"
        },
        {
         "name": "organic_linker2_45",
         "dtype": "int64"
        },
        {
         "name": "organic_linker2_46",
         "dtype": "int64"
        },
        {
         "name": "organic_linker2_47",
         "dtype": "int64"
        },
        {
         "name": "organic_linker2_48",
         "dtype": "int64"
        },
        {
         "name": "organic_linker2_49",
         "dtype": "int64"
        },
        {
         "name": "organic_linker2_50",
         "dtype": "int64"
        },
        {
         "name": "organic_linker2_51",
         "dtype": "int64"
        },
        {
         "name": "organic_linker2_52",
         "dtype": "int64"
        },
        {
         "name": "organic_linker2_53",
         "dtype": "int64"
        },
        {
         "name": "organic_linker2_54",
         "dtype": "int64"
        },
        {
         "name": "organic_linker2_55",
         "dtype": "int64"
        },
        {
         "name": "organic_linker2_56",
         "dtype": "int64"
        },
        {
         "name": "organic_linker2_57",
         "dtype": "int64"
        },
        {
         "name": "organic_linker2_58",
         "dtype": "int64"
        },
        {
         "name": "organic_linker2_59",
         "dtype": "int64"
        },
        {
         "name": "density",
         "dtype": "float64"
        },
        {
         "name": "_deepnote_index_column",
         "dtype": "int64"
        }
       ],
       "rows_top": [
        {
         "volume [A^3]": 1116.667429,
         "weight [u]": 875.2405999999999,
         "surface_area [m^2/g]": -9999,
         "void_fraction": 0.07899,
         "void_volume [cm^3/g]": 0.0606902834534965,
         "organic_linker1": 4,
         "organic_linker2": 11,
         "CO2/N2_selectivity": 22.86416611,
         "heat_adsorption_CO2_P0.15bar_T298K [kcal/mol]": 6.786041,
         "_cell_length_a": 10.609882,
         "_cell_length_b": 10.643578,
         "_cell_length_c": 9.890832,
         "_cell_angle_alpha": 89.904234,
         "_cell_angle_beta": 91.242355,
         "_cell_angle_gamma": 90.261935,
         "partial_charge_median": 0.024709,
         "bond_type_countS": 56,
         "bond_type_countA": 20,
         "bond_type_countD": 8,
         "bond_type_countT": 0,
         "bond_type_countAm": 0,
         "label_topology_pcu": 1,
         "label_topology_sra": 0,
         "label_topology_acs": 0,
         "label_topology_etb": 0,
         "label_topology_bcu": 0,
         "label_topology_nbo": 0,
         "label_spacegroup_triclinic": 1,
         "metal_linker_1": 0,
         "metal_linker_2": 0,
         "metal_linker_3": 1,
         "metal_linker_4": 0,
         "metal_linker_9": 0,
         "metal_linker_10": 0,
         "metal_linker_12": 0,
         "organic_linker1_1": 0,
         "organic_linker1_2": 0,
         "organic_linker1_3": 0,
         "organic_linker1_4": 1,
         "organic_linker1_5": 0,
         "organic_linker1_6": 0,
         "organic_linker1_7": 0,
         "organic_linker1_8": 0,
         "organic_linker1_9": 0,
         "organic_linker1_10": 0,
         "organic_linker1_11": 0,
         "organic_linker1_12": 0,
         "organic_linker1_13": 0,
         "organic_linker1_14": 0,
         "organic_linker1_15": 0,
         "organic_linker1_16": 0,
         "organic_linker1_17": 0,
         "organic_linker1_18": 0,
         "organic_linker1_19": 0,
         "organic_linker1_20": 0,
         "organic_linker1_21": 0,
         "organic_linker1_22": 0,
         "organic_linker1_23": 0,
         "organic_linker1_24": 0,
         "organic_linker1_25": 0,
         "organic_linker1_26": 0,
         "organic_linker1_27": 0,
         "organic_linker1_28": 0,
         "organic_linker1_29": 0,
         "organic_linker1_30": 0,
         "organic_linker1_31": 0,
         "organic_linker1_32": 0,
         "organic_linker1_33": 0,
         "organic_linker1_34": 0,
         "organic_linker1_35": 0,
         "organic_linker1_36": 0,
         "organic_linker1_38": 0,
         "organic_linker1_40": 0,
         "organic_linker1_41": 0,
         "organic_linker1_42": 0,
         "organic_linker1_43": 0,
         "organic_linker1_44": 0,
         "organic_linker1_45": 0,
         "organic_linker1_46": 0,
         "organic_linker1_47": 0,
         "organic_linker1_48": 0,
         "organic_linker1_49": 0,
         "organic_linker1_50": 0,
         "organic_linker1_51": 0,
         "organic_linker1_52": 0,
         "organic_linker1_53": 0,
         "organic_linker1_54": 0,
         "organic_linker1_55": 0,
         "organic_linker1_56": 0,
         "organic_linker1_57": 0,
         "organic_linker1_58": 0,
         "organic_linker1_59": 0,
         "organic_linker2_1": 0,
         "organic_linker2_2": 0,
         "organic_linker2_3": 0,
         "organic_linker2_4": 0,
         "organic_linker2_5": 0,
         "organic_linker2_6": 0,
         "organic_linker2_7": 0,
         "organic_linker2_8": 0,
         "organic_linker2_9": 0,
         "organic_linker2_10": 0,
         "organic_linker2_11": 1,
         "organic_linker2_12": 0,
         "organic_linker2_13": 0,
         "organic_linker2_14": 0,
         "organic_linker2_15": 0,
         "organic_linker2_16": 0,
         "organic_linker2_17": 0,
         "organic_linker2_18": 0,
         "organic_linker2_19": 0,
         "organic_linker2_20": 0,
         "organic_linker2_21": 0,
         "organic_linker2_22": 0,
         "organic_linker2_23": 0,
         "organic_linker2_24": 0,
         "organic_linker2_25": 0,
         "organic_linker2_26": 0,
         "organic_linker2_27": 0,
         "organic_linker2_28": 0,
         "organic_linker2_29": 0,
         "organic_linker2_30": 0,
         "organic_linker2_31": 0,
         "organic_linker2_32": 0,
         "organic_linker2_33": 0,
         "organic_linker2_34": 0,
         "organic_linker2_35": 0,
         "organic_linker2_36": 0,
         "organic_linker2_38": 0,
         "organic_linker2_40": 0,
         "organic_linker2_41": 0,
         "organic_linker2_42": 0,
         "organic_linker2_43": 0,
         "organic_linker2_44": 0,
         "organic_linker2_45": 0,
         "organic_linker2_46": 0,
         "organic_linker2_47": 0,
         "organic_linker2_48": 0,
         "organic_linker2_49": 0,
         "organic_linker2_50": 0,
         "organic_linker2_51": 0,
         "organic_linker2_52": 0,
         "organic_linker2_53": 0,
         "organic_linker2_54": 0,
         "organic_linker2_55": 0,
         "organic_linker2_56": 0,
         "organic_linker2_57": 0,
         "organic_linker2_58": 0,
         "organic_linker2_59": 0,
         "density": 1.3015262988601055,
         "_deepnote_index_column": 1
        },
        {
         "volume [A^3]": 2769.503842,
         "weight [u]": 2211.697211,
         "surface_area [m^2/g]": 603.61,
         "void_fraction": 0.13794,
         "void_volume [cm^3/g]": 0.10402007959168029,
         "organic_linker1": 44,
         "organic_linker2": 57,
         "CO2/N2_selectivity": 33.61678033,
         "heat_adsorption_CO2_P0.15bar_T298K [kcal/mol]": 7.147286,
         "_cell_length_a": 8.463295,
         "_cell_length_b": 17.684225,
         "_cell_length_c": 18.960098,
         "_cell_angle_alpha": 100.063446,
         "_cell_angle_beta": 91.815775,
         "_cell_angle_gamma": 96.94221,
         "partial_charge_median": 0.059489,
         "bond_type_countS": 162,
         "bond_type_countA": 50,
         "bond_type_countD": 8,
         "bond_type_countT": 1,
         "bond_type_countAm": 0,
         "label_topology_pcu": 0,
         "label_topology_sra": 0,
         "label_topology_acs": 0,
         "label_topology_etb": 1,
         "label_topology_bcu": 0,
         "label_topology_nbo": 0,
         "label_spacegroup_triclinic": 1,
         "metal_linker_1": 0,
         "metal_linker_2": 0,
         "metal_linker_3": 0,
         "metal_linker_4": 0,
         "metal_linker_9": 0,
         "metal_linker_10": 1,
         "metal_linker_12": 0,
         "organic_linker1_1": 0,
         "organic_linker1_2": 0,
         "organic_linker1_3": 0,
         "organic_linker1_4": 0,
         "organic_linker1_5": 0,
         "organic_linker1_6": 0,
         "organic_linker1_7": 0,
         "organic_linker1_8": 0,
         "organic_linker1_9": 0,
         "organic_linker1_10": 0,
         "organic_linker1_11": 0,
         "organic_linker1_12": 0,
         "organic_linker1_13": 0,
         "organic_linker1_14": 0,
         "organic_linker1_15": 0,
         "organic_linker1_16": 0,
         "organic_linker1_17": 0,
         "organic_linker1_18": 0,
         "organic_linker1_19": 0,
         "organic_linker1_20": 0,
         "organic_linker1_21": 0,
         "organic_linker1_22": 0,
         "organic_linker1_23": 0,
         "organic_linker1_24": 0,
         "organic_linker1_25": 0,
         "organic_linker1_26": 0,
         "organic_linker1_27": 0,
         "organic_linker1_28": 0,
         "organic_linker1_29": 0,
         "organic_linker1_30": 0,
         "organic_linker1_31": 0,
         "organic_linker1_32": 0,
         "organic_linker1_33": 0,
         "organic_linker1_34": 0,
         "organic_linker1_35": 0,
         "organic_linker1_36": 0,
         "organic_linker1_38": 0,
         "organic_linker1_40": 0,
         "organic_linker1_41": 0,
         "organic_linker1_42": 0,
         "organic_linker1_43": 0,
         "organic_linker1_44": 1,
         "organic_linker1_45": 0,
         "organic_linker1_46": 0,
         "organic_linker1_47": 0,
         "organic_linker1_48": 0,
         "organic_linker1_49": 0,
         "organic_linker1_50": 0,
         "organic_linker1_51": 0,
         "organic_linker1_52": 0,
         "organic_linker1_53": 0,
         "organic_linker1_54": 0,
         "organic_linker1_55": 0,
         "organic_linker1_56": 0,
         "organic_linker1_57": 0,
         "organic_linker1_58": 0,
         "organic_linker1_59": 0,
         "organic_linker2_1": 0,
         "organic_linker2_2": 0,
         "organic_linker2_3": 0,
         "organic_linker2_4": 0,
         "organic_linker2_5": 0,
         "organic_linker2_6": 0,
         "organic_linker2_7": 0,
         "organic_linker2_8": 0,
         "organic_linker2_9": 0,
         "organic_linker2_10": 0,
         "organic_linker2_11": 0,
         "organic_linker2_12": 0,
         "organic_linker2_13": 0,
         "organic_linker2_14": 0,
         "organic_linker2_15": 0,
         "organic_linker2_16": 0,
         "organic_linker2_17": 0,
         "organic_linker2_18": 0,
         "organic_linker2_19": 0,
         "organic_linker2_20": 0,
         "organic_linker2_21": 0,
         "organic_linker2_22": 0,
         "organic_linker2_23": 0,
         "organic_linker2_24": 0,
         "organic_linker2_25": 0,
         "organic_linker2_26": 0,
         "organic_linker2_27": 0,
         "organic_linker2_28": 0,
         "organic_linker2_29": 0,
         "organic_linker2_30": 0,
         "organic_linker2_31": 0,
         "organic_linker2_32": 0,
         "organic_linker2_33": 0,
         "organic_linker2_34": 0,
         "organic_linker2_35": 0,
         "organic_linker2_36": 0,
         "organic_linker2_38": 0,
         "organic_linker2_40": 0,
         "organic_linker2_41": 0,
         "organic_linker2_42": 0,
         "organic_linker2_43": 0,
         "organic_linker2_44": 0,
         "organic_linker2_45": 0,
         "organic_linker2_46": 0,
         "organic_linker2_47": 0,
         "organic_linker2_48": 0,
         "organic_linker2_49": 0,
         "organic_linker2_50": 0,
         "organic_linker2_51": 0,
         "organic_linker2_52": 0,
         "organic_linker2_53": 0,
         "organic_linker2_54": 0,
         "organic_linker2_55": 0,
         "organic_linker2_56": 0,
         "organic_linker2_57": 1,
         "organic_linker2_58": 0,
         "organic_linker2_59": 0,
         "density": 1.3260901216521728,
         "_deepnote_index_column": 2
        },
        {
         "volume [A^3]": 1089.818728,
         "weight [u]": 773.68796,
         "surface_area [m^2/g]": 788.5,
         "void_fraction": 0.14874,
         "void_volume [cm^3/g]": 0.12617312623103835,
         "organic_linker1": 22,
         "organic_linker2": 24,
         "CO2/N2_selectivity": 19.26372569,
         "heat_adsorption_CO2_P0.15bar_T298K [kcal/mol]": 6.347967,
         "_cell_length_a": 10.73211,
         "_cell_length_b": 9.552271,
         "_cell_length_c": 10.631996,
         "_cell_angle_alpha": 89.202223,
         "_cell_angle_beta": 89.943258,
         "_cell_angle_gamma": 90.387501,
         "partial_charge_median": 0.126583,
         "bond_type_countS": 87,
         "bond_type_countA": 8,
         "bond_type_countD": 2,
         "bond_type_countT": 0,
         "bond_type_countAm": 0,
         "label_topology_pcu": 1,
         "label_topology_sra": 0,
         "label_topology_acs": 0,
         "label_topology_etb": 0,
         "label_topology_bcu": 0,
         "label_topology_nbo": 0,
         "label_spacegroup_triclinic": 1,
         "metal_linker_1": 0,
         "metal_linker_2": 1,
         "metal_linker_3": 0,
         "metal_linker_4": 0,
         "metal_linker_9": 0,
         "metal_linker_10": 0,
         "metal_linker_12": 0,
         "organic_linker1_1": 0,
         "organic_linker1_2": 0,
         "organic_linker1_3": 0,
         "organic_linker1_4": 0,
         "organic_linker1_5": 0,
         "organic_linker1_6": 0,
         "organic_linker1_7": 0,
         "organic_linker1_8": 0,
         "organic_linker1_9": 0,
         "organic_linker1_10": 0,
         "organic_linker1_11": 0,
         "organic_linker1_12": 0,
         "organic_linker1_13": 0,
         "organic_linker1_14": 0,
         "organic_linker1_15": 0,
         "organic_linker1_16": 0,
         "organic_linker1_17": 0,
         "organic_linker1_18": 0,
         "organic_linker1_19": 0,
         "organic_linker1_20": 0,
         "organic_linker1_21": 0,
         "organic_linker1_22": 1,
         "organic_linker1_23": 0,
         "organic_linker1_24": 0,
         "organic_linker1_25": 0,
         "organic_linker1_26": 0,
         "organic_linker1_27": 0,
         "organic_linker1_28": 0,
         "organic_linker1_29": 0,
         "organic_linker1_30": 0,
         "organic_linker1_31": 0,
         "organic_linker1_32": 0,
         "organic_linker1_33": 0,
         "organic_linker1_34": 0,
         "organic_linker1_35": 0,
         "organic_linker1_36": 0,
         "organic_linker1_38": 0,
         "organic_linker1_40": 0,
         "organic_linker1_41": 0,
         "organic_linker1_42": 0,
         "organic_linker1_43": 0,
         "organic_linker1_44": 0,
         "organic_linker1_45": 0,
         "organic_linker1_46": 0,
         "organic_linker1_47": 0,
         "organic_linker1_48": 0,
         "organic_linker1_49": 0,
         "organic_linker1_50": 0,
         "organic_linker1_51": 0,
         "organic_linker1_52": 0,
         "organic_linker1_53": 0,
         "organic_linker1_54": 0,
         "organic_linker1_55": 0,
         "organic_linker1_56": 0,
         "organic_linker1_57": 0,
         "organic_linker1_58": 0,
         "organic_linker1_59": 0,
         "organic_linker2_1": 0,
         "organic_linker2_2": 0,
         "organic_linker2_3": 0,
         "organic_linker2_4": 0,
         "organic_linker2_5": 0,
         "organic_linker2_6": 0,
         "organic_linker2_7": 0,
         "organic_linker2_8": 0,
         "organic_linker2_9": 0,
         "organic_linker2_10": 0,
         "organic_linker2_11": 0,
         "organic_linker2_12": 0,
         "organic_linker2_13": 0,
         "organic_linker2_14": 0,
         "organic_linker2_15": 0,
         "organic_linker2_16": 0,
         "organic_linker2_17": 0,
         "organic_linker2_18": 0,
         "organic_linker2_19": 0,
         "organic_linker2_20": 0,
         "organic_linker2_21": 0,
         "organic_linker2_22": 0,
         "organic_linker2_23": 0,
         "organic_linker2_24": 1,
         "organic_linker2_25": 0,
         "organic_linker2_26": 0,
         "organic_linker2_27": 0,
         "organic_linker2_28": 0,
         "organic_linker2_29": 0,
         "organic_linker2_30": 0,
         "organic_linker2_31": 0,
         "organic_linker2_32": 0,
         "organic_linker2_33": 0,
         "organic_linker2_34": 0,
         "organic_linker2_35": 0,
         "organic_linker2_36": 0,
         "organic_linker2_38": 0,
         "organic_linker2_40": 0,
         "organic_linker2_41": 0,
         "organic_linker2_42": 0,
         "organic_linker2_43": 0,
         "organic_linker2_44": 0,
         "organic_linker2_45": 0,
         "organic_linker2_46": 0,
         "organic_linker2_47": 0,
         "organic_linker2_48": 0,
         "organic_linker2_49": 0,
         "organic_linker2_50": 0,
         "organic_linker2_51": 0,
         "organic_linker2_52": 0,
         "organic_linker2_53": 0,
         "organic_linker2_54": 0,
         "organic_linker2_55": 0,
         "organic_linker2_56": 0,
         "organic_linker2_57": 0,
         "organic_linker2_58": 0,
         "organic_linker2_59": 0,
         "density": 1.1788564208802987,
         "_deepnote_index_column": 3
        }
       ],
       "rows_bottom": [
        {
         "volume [A^3]": 2035.532738,
         "weight [u]": 1959.51832,
         "surface_area [m^2/g]": -9999,
         "void_fraction": 0,
         "void_volume [cm^3/g]": 0,
         "organic_linker1": 14,
         "organic_linker2": 22,
         "CO2/N2_selectivity": 9.876133998,
         "heat_adsorption_CO2_P0.15bar_T298K [kcal/mol]": -9999,
         "_cell_length_a": 11.237482,
         "_cell_length_b": 11.321902,
         "_cell_length_c": 18.60812,
         "_cell_angle_alpha": 90.200546,
         "_cell_angle_beta": 90.118422,
         "_cell_angle_gamma": 59.292454,
         "partial_charge_median": 0.07563,
         "bond_type_countS": 153,
         "bond_type_countA": 79,
         "bond_type_countD": 0,
         "bond_type_countT": 0,
         "bond_type_countAm": 0,
         "label_topology_pcu": 0,
         "label_topology_sra": 0,
         "label_topology_acs": 1,
         "label_topology_etb": 0,
         "label_topology_bcu": 0,
         "label_topology_nbo": 0,
         "label_spacegroup_triclinic": 1,
         "metal_linker_1": 0,
         "metal_linker_2": 0,
         "metal_linker_3": 0,
         "metal_linker_4": 1,
         "metal_linker_9": 0,
         "metal_linker_10": 0,
         "metal_linker_12": 0,
         "organic_linker1_1": 0,
         "organic_linker1_2": 0,
         "organic_linker1_3": 0,
         "organic_linker1_4": 0,
         "organic_linker1_5": 0,
         "organic_linker1_6": 0,
         "organic_linker1_7": 0,
         "organic_linker1_8": 0,
         "organic_linker1_9": 0,
         "organic_linker1_10": 0,
         "organic_linker1_11": 0,
         "organic_linker1_12": 0,
         "organic_linker1_13": 0,
         "organic_linker1_14": 1,
         "organic_linker1_15": 0,
         "organic_linker1_16": 0,
         "organic_linker1_17": 0,
         "organic_linker1_18": 0,
         "organic_linker1_19": 0,
         "organic_linker1_20": 0,
         "organic_linker1_21": 0,
         "organic_linker1_22": 0,
         "organic_linker1_23": 0,
         "organic_linker1_24": 0,
         "organic_linker1_25": 0,
         "organic_linker1_26": 0,
         "organic_linker1_27": 0,
         "organic_linker1_28": 0,
         "organic_linker1_29": 0,
         "organic_linker1_30": 0,
         "organic_linker1_31": 0,
         "organic_linker1_32": 0,
         "organic_linker1_33": 0,
         "organic_linker1_34": 0,
         "organic_linker1_35": 0,
         "organic_linker1_36": 0,
         "organic_linker1_38": 0,
         "organic_linker1_40": 0,
         "organic_linker1_41": 0,
         "organic_linker1_42": 0,
         "organic_linker1_43": 0,
         "organic_linker1_44": 0,
         "organic_linker1_45": 0,
         "organic_linker1_46": 0,
         "organic_linker1_47": 0,
         "organic_linker1_48": 0,
         "organic_linker1_49": 0,
         "organic_linker1_50": 0,
         "organic_linker1_51": 0,
         "organic_linker1_52": 0,
         "organic_linker1_53": 0,
         "organic_linker1_54": 0,
         "organic_linker1_55": 0,
         "organic_linker1_56": 0,
         "organic_linker1_57": 0,
         "organic_linker1_58": 0,
         "organic_linker1_59": 0,
         "organic_linker2_1": 0,
         "organic_linker2_2": 0,
         "organic_linker2_3": 0,
         "organic_linker2_4": 0,
         "organic_linker2_5": 0,
         "organic_linker2_6": 0,
         "organic_linker2_7": 0,
         "organic_linker2_8": 0,
         "organic_linker2_9": 0,
         "organic_linker2_10": 0,
         "organic_linker2_11": 0,
         "organic_linker2_12": 0,
         "organic_linker2_13": 0,
         "organic_linker2_14": 0,
         "organic_linker2_15": 0,
         "organic_linker2_16": 0,
         "organic_linker2_17": 0,
         "organic_linker2_18": 0,
         "organic_linker2_19": 0,
         "organic_linker2_20": 0,
         "organic_linker2_21": 0,
         "organic_linker2_22": 1,
         "organic_linker2_23": 0,
         "organic_linker2_24": 0,
         "organic_linker2_25": 0,
         "organic_linker2_26": 0,
         "organic_linker2_27": 0,
         "organic_linker2_28": 0,
         "organic_linker2_29": 0,
         "organic_linker2_30": 0,
         "organic_linker2_31": 0,
         "organic_linker2_32": 0,
         "organic_linker2_33": 0,
         "organic_linker2_34": 0,
         "organic_linker2_35": 0,
         "organic_linker2_36": 0,
         "organic_linker2_38": 0,
         "organic_linker2_40": 0,
         "organic_linker2_41": 0,
         "organic_linker2_42": 0,
         "organic_linker2_43": 0,
         "organic_linker2_44": 0,
         "organic_linker2_45": 0,
         "organic_linker2_46": 0,
         "organic_linker2_47": 0,
         "organic_linker2_48": 0,
         "organic_linker2_49": 0,
         "organic_linker2_50": 0,
         "organic_linker2_51": 0,
         "organic_linker2_52": 0,
         "organic_linker2_53": 0,
         "organic_linker2_54": 0,
         "organic_linker2_55": 0,
         "organic_linker2_56": 0,
         "organic_linker2_57": 0,
         "organic_linker2_58": 0,
         "organic_linker2_59": 0,
         "density": 1.598529215643988,
         "_deepnote_index_column": 68611
        },
        {
         "volume [A^3]": 3985.426053,
         "weight [u]": 3638.67728,
         "surface_area [m^2/g]": -9999,
         "void_fraction": 0,
         "void_volume [cm^3/g]": 0,
         "organic_linker1": 4,
         "organic_linker2": 15,
         "CO2/N2_selectivity": 5.285050632,
         "heat_adsorption_CO2_P0.15bar_T298K [kcal/mol]": 999999,
         "_cell_length_a": 19.396341,
         "_cell_length_b": 11.081428,
         "_cell_length_c": 18.544746,
         "_cell_angle_alpha": 90.467105,
         "_cell_angle_beta": 90.841157,
         "_cell_angle_gamma": 89.911826,
         "partial_charge_median": 0.0299515,
         "bond_type_countS": 282,
         "bond_type_countA": 140,
         "bond_type_countD": 0,
         "bond_type_countT": 0,
         "bond_type_countAm": 0,
         "label_topology_pcu": 0,
         "label_topology_sra": 0,
         "label_topology_acs": 1,
         "label_topology_etb": 0,
         "label_topology_bcu": 0,
         "label_topology_nbo": 0,
         "label_spacegroup_triclinic": 1,
         "metal_linker_1": 0,
         "metal_linker_2": 0,
         "metal_linker_3": 0,
         "metal_linker_4": 1,
         "metal_linker_9": 0,
         "metal_linker_10": 0,
         "metal_linker_12": 0,
         "organic_linker1_1": 0,
         "organic_linker1_2": 0,
         "organic_linker1_3": 0,
         "organic_linker1_4": 1,
         "organic_linker1_5": 0,
         "organic_linker1_6": 0,
         "organic_linker1_7": 0,
         "organic_linker1_8": 0,
         "organic_linker1_9": 0,
         "organic_linker1_10": 0,
         "organic_linker1_11": 0,
         "organic_linker1_12": 0,
         "organic_linker1_13": 0,
         "organic_linker1_14": 0,
         "organic_linker1_15": 0,
         "organic_linker1_16": 0,
         "organic_linker1_17": 0,
         "organic_linker1_18": 0,
         "organic_linker1_19": 0,
         "organic_linker1_20": 0,
         "organic_linker1_21": 0,
         "organic_linker1_22": 0,
         "organic_linker1_23": 0,
         "organic_linker1_24": 0,
         "organic_linker1_25": 0,
         "organic_linker1_26": 0,
         "organic_linker1_27": 0,
         "organic_linker1_28": 0,
         "organic_linker1_29": 0,
         "organic_linker1_30": 0,
         "organic_linker1_31": 0,
         "organic_linker1_32": 0,
         "organic_linker1_33": 0,
         "organic_linker1_34": 0,
         "organic_linker1_35": 0,
         "organic_linker1_36": 0,
         "organic_linker1_38": 0,
         "organic_linker1_40": 0,
         "organic_linker1_41": 0,
         "organic_linker1_42": 0,
         "organic_linker1_43": 0,
         "organic_linker1_44": 0,
         "organic_linker1_45": 0,
         "organic_linker1_46": 0,
         "organic_linker1_47": 0,
         "organic_linker1_48": 0,
         "organic_linker1_49": 0,
         "organic_linker1_50": 0,
         "organic_linker1_51": 0,
         "organic_linker1_52": 0,
         "organic_linker1_53": 0,
         "organic_linker1_54": 0,
         "organic_linker1_55": 0,
         "organic_linker1_56": 0,
         "organic_linker1_57": 0,
         "organic_linker1_58": 0,
         "organic_linker1_59": 0,
         "organic_linker2_1": 0,
         "organic_linker2_2": 0,
         "organic_linker2_3": 0,
         "organic_linker2_4": 0,
         "organic_linker2_5": 0,
         "organic_linker2_6": 0,
         "organic_linker2_7": 0,
         "organic_linker2_8": 0,
         "organic_linker2_9": 0,
         "organic_linker2_10": 0,
         "organic_linker2_11": 0,
         "organic_linker2_12": 0,
         "organic_linker2_13": 0,
         "organic_linker2_14": 0,
         "organic_linker2_15": 1,
         "organic_linker2_16": 0,
         "organic_linker2_17": 0,
         "organic_linker2_18": 0,
         "organic_linker2_19": 0,
         "organic_linker2_20": 0,
         "organic_linker2_21": 0,
         "organic_linker2_22": 0,
         "organic_linker2_23": 0,
         "organic_linker2_24": 0,
         "organic_linker2_25": 0,
         "organic_linker2_26": 0,
         "organic_linker2_27": 0,
         "organic_linker2_28": 0,
         "organic_linker2_29": 0,
         "organic_linker2_30": 0,
         "organic_linker2_31": 0,
         "organic_linker2_32": 0,
         "organic_linker2_33": 0,
         "organic_linker2_34": 0,
         "organic_linker2_35": 0,
         "organic_linker2_36": 0,
         "organic_linker2_38": 0,
         "organic_linker2_40": 0,
         "organic_linker2_41": 0,
         "organic_linker2_42": 0,
         "organic_linker2_43": 0,
         "organic_linker2_44": 0,
         "organic_linker2_45": 0,
         "organic_linker2_46": 0,
         "organic_linker2_47": 0,
         "organic_linker2_48": 0,
         "organic_linker2_49": 0,
         "organic_linker2_50": 0,
         "organic_linker2_51": 0,
         "organic_linker2_52": 0,
         "organic_linker2_53": 0,
         "organic_linker2_54": 0,
         "organic_linker2_55": 0,
         "organic_linker2_56": 0,
         "organic_linker2_57": 0,
         "organic_linker2_58": 0,
         "organic_linker2_59": 0,
         "density": 1.5160660592317354,
         "_deepnote_index_column": 68612
        },
        {
         "volume [A^3]": 1591.009408,
         "weight [u]": 2071.219,
         "surface_area [m^2/g]": -9999,
         "void_fraction": 0.01609,
         "void_volume [cm^3/g]": 0.0074430927158947785,
         "organic_linker1": 9,
         "organic_linker2": 16,
         "CO2/N2_selectivity": 2.621271792,
         "heat_adsorption_CO2_P0.15bar_T298K [kcal/mol]": 999999,
         "_cell_length_a": 11.049965,
         "_cell_length_b": 12.474541,
         "_cell_length_c": 13.706241,
         "_cell_angle_alpha": 118.491266,
         "_cell_angle_beta": 73.368234,
         "_cell_angle_gamma": 98.090342,
         "partial_charge_median": 0.1000085,
         "bond_type_countS": 73,
         "bond_type_countA": 58,
         "bond_type_countD": 0,
         "bond_type_countT": 0,
         "bond_type_countAm": 0,
         "label_topology_pcu": 1,
         "label_topology_sra": 0,
         "label_topology_acs": 0,
         "label_topology_etb": 0,
         "label_topology_bcu": 0,
         "label_topology_nbo": 0,
         "label_spacegroup_triclinic": 1,
         "metal_linker_1": 0,
         "metal_linker_2": 1,
         "metal_linker_3": 0,
         "metal_linker_4": 0,
         "metal_linker_9": 0,
         "metal_linker_10": 0,
         "metal_linker_12": 0,
         "organic_linker1_1": 0,
         "organic_linker1_2": 0,
         "organic_linker1_3": 0,
         "organic_linker1_4": 0,
         "organic_linker1_5": 0,
         "organic_linker1_6": 0,
         "organic_linker1_7": 0,
         "organic_linker1_8": 0,
         "organic_linker1_9": 1,
         "organic_linker1_10": 0,
         "organic_linker1_11": 0,
         "organic_linker1_12": 0,
         "organic_linker1_13": 0,
         "organic_linker1_14": 0,
         "organic_linker1_15": 0,
         "organic_linker1_16": 0,
         "organic_linker1_17": 0,
         "organic_linker1_18": 0,
         "organic_linker1_19": 0,
         "organic_linker1_20": 0,
         "organic_linker1_21": 0,
         "organic_linker1_22": 0,
         "organic_linker1_23": 0,
         "organic_linker1_24": 0,
         "organic_linker1_25": 0,
         "organic_linker1_26": 0,
         "organic_linker1_27": 0,
         "organic_linker1_28": 0,
         "organic_linker1_29": 0,
         "organic_linker1_30": 0,
         "organic_linker1_31": 0,
         "organic_linker1_32": 0,
         "organic_linker1_33": 0,
         "organic_linker1_34": 0,
         "organic_linker1_35": 0,
         "organic_linker1_36": 0,
         "organic_linker1_38": 0,
         "organic_linker1_40": 0,
         "organic_linker1_41": 0,
         "organic_linker1_42": 0,
         "organic_linker1_43": 0,
         "organic_linker1_44": 0,
         "organic_linker1_45": 0,
         "organic_linker1_46": 0,
         "organic_linker1_47": 0,
         "organic_linker1_48": 0,
         "organic_linker1_49": 0,
         "organic_linker1_50": 0,
         "organic_linker1_51": 0,
         "organic_linker1_52": 0,
         "organic_linker1_53": 0,
         "organic_linker1_54": 0,
         "organic_linker1_55": 0,
         "organic_linker1_56": 0,
         "organic_linker1_57": 0,
         "organic_linker1_58": 0,
         "organic_linker1_59": 0,
         "organic_linker2_1": 0,
         "organic_linker2_2": 0,
         "organic_linker2_3": 0,
         "organic_linker2_4": 0,
         "organic_linker2_5": 0,
         "organic_linker2_6": 0,
         "organic_linker2_7": 0,
         "organic_linker2_8": 0,
         "organic_linker2_9": 0,
         "organic_linker2_10": 0,
         "organic_linker2_11": 0,
         "organic_linker2_12": 0,
         "organic_linker2_13": 0,
         "organic_linker2_14": 0,
         "organic_linker2_15": 0,
         "organic_linker2_16": 1,
         "organic_linker2_17": 0,
         "organic_linker2_18": 0,
         "organic_linker2_19": 0,
         "organic_linker2_20": 0,
         "organic_linker2_21": 0,
         "organic_linker2_22": 0,
         "organic_linker2_23": 0,
         "organic_linker2_24": 0,
         "organic_linker2_25": 0,
         "organic_linker2_26": 0,
         "organic_linker2_27": 0,
         "organic_linker2_28": 0,
         "organic_linker2_29": 0,
         "organic_linker2_30": 0,
         "organic_linker2_31": 0,
         "organic_linker2_32": 0,
         "organic_linker2_33": 0,
         "organic_linker2_34": 0,
         "organic_linker2_35": 0,
         "organic_linker2_36": 0,
         "organic_linker2_38": 0,
         "organic_linker2_40": 0,
         "organic_linker2_41": 0,
         "organic_linker2_42": 0,
         "organic_linker2_43": 0,
         "organic_linker2_44": 0,
         "organic_linker2_45": 0,
         "organic_linker2_46": 0,
         "organic_linker2_47": 0,
         "organic_linker2_48": 0,
         "organic_linker2_49": 0,
         "organic_linker2_50": 0,
         "organic_linker2_51": 0,
         "organic_linker2_52": 0,
         "organic_linker2_53": 0,
         "organic_linker2_54": 0,
         "organic_linker2_55": 0,
         "organic_linker2_56": 0,
         "organic_linker2_57": 0,
         "organic_linker2_58": 0,
         "organic_linker2_59": 0,
         "density": 2.1617358017910604,
         "_deepnote_index_column": 68613
        }
       ]
      },
      "text/plain": "            volume [A^3]   weight [u]  surface_area [m^2/g]  void_fraction  \\\nUnnamed: 0                                                                   \n1            1116.667429   875.240600              -9999.00        0.07899   \n2            2769.503842  2211.697211                603.61        0.13794   \n3            1089.818728   773.687960                788.50        0.14874   \n4            2205.198301  1304.638720               1441.53        0.21814   \n5            1137.800963   901.736120              -9999.00        0.07778   \n...                  ...          ...                   ...            ...   \n68609        1188.302573  1001.700216              -9999.00        0.00000   \n68610        1506.660363  1493.296496              -9999.00        0.01108   \n68611        2035.532738  1959.518320              -9999.00        0.00000   \n68612        3985.426053  3638.677280              -9999.00        0.00000   \n68613        1591.009408  2071.219000              -9999.00        0.01609   \n\n            void_volume [cm^3/g]  organic_linker1  organic_linker2  \\\nUnnamed: 0                                                           \n1                       0.060690                4               11   \n2                       0.104020               44               57   \n3                       0.126173               22               24   \n4                       0.222046               17               24   \n5                       0.059102                1               22   \n...                          ...              ...              ...   \n68609                   0.000000                4               24   \n68610                   0.006732               42               46   \n68611                   0.000000               14               22   \n68612                   0.000000                4               15   \n68613                   0.007443                9               16   \n\n            CO2/N2_selectivity  heat_adsorption_CO2_P0.15bar_T298K [kcal/mol]  \\\nUnnamed: 0                                                                      \n1                    22.864166                                       6.786041   \n2                    33.616780                                       7.147286   \n3                    19.263726                                       6.347967   \n4                    25.701377                                       6.190085   \n5                    30.001838                                       6.478063   \n...                        ...                                            ...   \n68609                24.131770                                   -9999.000000   \n68610                 6.071818                                   -9999.000000   \n68611                 9.876134                                   -9999.000000   \n68612                 5.285051                                  999999.000000   \n68613                 2.621272                                  999999.000000   \n\n            _cell_length_a  ...  organic_linker2_51  organic_linker2_52  \\\nUnnamed: 0                  ...                                           \n1                10.609882  ...                   0                   0   \n2                 8.463295  ...                   0                   0   \n3                10.732110  ...                   0                   0   \n4                 6.935530  ...                   0                   0   \n5                10.825925  ...                   0                   0   \n...                    ...  ...                 ...                 ...   \n68609            10.718161  ...                   0                   0   \n68610             8.192620  ...                   0                   0   \n68611            11.237482  ...                   0                   0   \n68612            19.396341  ...                   0                   0   \n68613            11.049965  ...                   0                   0   \n\n            organic_linker2_53  organic_linker2_54  organic_linker2_55  \\\nUnnamed: 0                                                               \n1                            0                   0                   0   \n2                            0                   0                   0   \n3                            0                   0                   0   \n4                            0                   0                   0   \n5                            0                   0                   0   \n...                        ...                 ...                 ...   \n68609                        0                   0                   0   \n68610                        0                   0                   0   \n68611                        0                   0                   0   \n68612                        0                   0                   0   \n68613                        0                   0                   0   \n\n            organic_linker2_56  organic_linker2_57  organic_linker2_58  \\\nUnnamed: 0                                                               \n1                            0                   0                   0   \n2                            0                   1                   0   \n3                            0                   0                   0   \n4                            0                   0                   0   \n5                            0                   0                   0   \n...                        ...                 ...                 ...   \n68609                        0                   0                   0   \n68610                        0                   0                   0   \n68611                        0                   0                   0   \n68612                        0                   0                   0   \n68613                        0                   0                   0   \n\n            organic_linker2_59   density  \nUnnamed: 0                                \n1                            0  1.301526  \n2                            0  1.326090  \n3                            0  1.178856  \n4                            0  0.982408  \n5                            0  1.316020  \n...                        ...       ...  \n68609                        0  1.399781  \n68610                        0  1.645811  \n68611                        0  1.598529  \n68612                        0  1.516066  \n68613                        0  2.161736  \n\n[66715 rows x 150 columns]",
      "text/html": "<div>\n<style scoped>\n    .dataframe tbody tr th:only-of-type {\n        vertical-align: middle;\n    }\n\n    .dataframe tbody tr th {\n        vertical-align: top;\n    }\n\n    .dataframe thead th {\n        text-align: right;\n    }\n</style>\n<table border=\"1\" class=\"dataframe\">\n  <thead>\n    <tr style=\"text-align: right;\">\n      <th></th>\n      <th>volume [A^3]</th>\n      <th>weight [u]</th>\n      <th>surface_area [m^2/g]</th>\n      <th>void_fraction</th>\n      <th>void_volume [cm^3/g]</th>\n      <th>organic_linker1</th>\n      <th>organic_linker2</th>\n      <th>CO2/N2_selectivity</th>\n      <th>heat_adsorption_CO2_P0.15bar_T298K [kcal/mol]</th>\n      <th>_cell_length_a</th>\n      <th>...</th>\n      <th>organic_linker2_51</th>\n      <th>organic_linker2_52</th>\n      <th>organic_linker2_53</th>\n      <th>organic_linker2_54</th>\n      <th>organic_linker2_55</th>\n      <th>organic_linker2_56</th>\n      <th>organic_linker2_57</th>\n      <th>organic_linker2_58</th>\n      <th>organic_linker2_59</th>\n      <th>density</th>\n    </tr>\n    <tr>\n      <th>Unnamed: 0</th>\n      <th></th>\n      <th></th>\n      <th></th>\n      <th></th>\n      <th></th>\n      <th></th>\n      <th></th>\n      <th></th>\n      <th></th>\n      <th></th>\n      <th></th>\n      <th></th>\n      <th></th>\n      <th></th>\n      <th></th>\n      <th></th>\n      <th></th>\n      <th></th>\n      <th></th>\n      <th></th>\n      <th></th>\n    </tr>\n  </thead>\n  <tbody>\n    <tr>\n      <th>1</th>\n      <td>1116.667429</td>\n      <td>875.240600</td>\n      <td>-9999.00</td>\n      <td>0.07899</td>\n      <td>0.060690</td>\n      <td>4</td>\n      <td>11</td>\n      <td>22.864166</td>\n      <td>6.786041</td>\n      <td>10.609882</td>\n      <td>...</td>\n      <td>0</td>\n      <td>0</td>\n      <td>0</td>\n      <td>0</td>\n      <td>0</td>\n      <td>0</td>\n      <td>0</td>\n      <td>0</td>\n      <td>0</td>\n      <td>1.301526</td>\n    </tr>\n    <tr>\n      <th>2</th>\n      <td>2769.503842</td>\n      <td>2211.697211</td>\n      <td>603.61</td>\n      <td>0.13794</td>\n      <td>0.104020</td>\n      <td>44</td>\n      <td>57</td>\n      <td>33.616780</td>\n      <td>7.147286</td>\n      <td>8.463295</td>\n      <td>...</td>\n      <td>0</td>\n      <td>0</td>\n      <td>0</td>\n      <td>0</td>\n      <td>0</td>\n      <td>0</td>\n      <td>1</td>\n      <td>0</td>\n      <td>0</td>\n      <td>1.326090</td>\n    </tr>\n    <tr>\n      <th>3</th>\n      <td>1089.818728</td>\n      <td>773.687960</td>\n      <td>788.50</td>\n      <td>0.14874</td>\n      <td>0.126173</td>\n      <td>22</td>\n      <td>24</td>\n      <td>19.263726</td>\n      <td>6.347967</td>\n      <td>10.732110</td>\n      <td>...</td>\n      <td>0</td>\n      <td>0</td>\n      <td>0</td>\n      <td>0</td>\n      <td>0</td>\n      <td>0</td>\n      <td>0</td>\n      <td>0</td>\n      <td>0</td>\n      <td>1.178856</td>\n    </tr>\n    <tr>\n      <th>4</th>\n      <td>2205.198301</td>\n      <td>1304.638720</td>\n      <td>1441.53</td>\n      <td>0.21814</td>\n      <td>0.222046</td>\n      <td>17</td>\n      <td>24</td>\n      <td>25.701377</td>\n      <td>6.190085</td>\n      <td>6.935530</td>\n      <td>...</td>\n      <td>0</td>\n      <td>0</td>\n      <td>0</td>\n      <td>0</td>\n      <td>0</td>\n      <td>0</td>\n      <td>0</td>\n      <td>0</td>\n      <td>0</td>\n      <td>0.982408</td>\n    </tr>\n    <tr>\n      <th>5</th>\n      <td>1137.800963</td>\n      <td>901.736120</td>\n      <td>-9999.00</td>\n      <td>0.07778</td>\n      <td>0.059102</td>\n      <td>1</td>\n      <td>22</td>\n      <td>30.001838</td>\n      <td>6.478063</td>\n      <td>10.825925</td>\n      <td>...</td>\n      <td>0</td>\n      <td>0</td>\n      <td>0</td>\n      <td>0</td>\n      <td>0</td>\n      <td>0</td>\n      <td>0</td>\n      <td>0</td>\n      <td>0</td>\n      <td>1.316020</td>\n    </tr>\n    <tr>\n      <th>...</th>\n      <td>...</td>\n      <td>...</td>\n      <td>...</td>\n      <td>...</td>\n      <td>...</td>\n      <td>...</td>\n      <td>...</td>\n      <td>...</td>\n      <td>...</td>\n      <td>...</td>\n      <td>...</td>\n      <td>...</td>\n      <td>...</td>\n      <td>...</td>\n      <td>...</td>\n      <td>...</td>\n      <td>...</td>\n      <td>...</td>\n      <td>...</td>\n      <td>...</td>\n      <td>...</td>\n    </tr>\n    <tr>\n      <th>68609</th>\n      <td>1188.302573</td>\n      <td>1001.700216</td>\n      <td>-9999.00</td>\n      <td>0.00000</td>\n      <td>0.000000</td>\n      <td>4</td>\n      <td>24</td>\n      <td>24.131770</td>\n      <td>-9999.000000</td>\n      <td>10.718161</td>\n      <td>...</td>\n      <td>0</td>\n      <td>0</td>\n      <td>0</td>\n      <td>0</td>\n      <td>0</td>\n      <td>0</td>\n      <td>0</td>\n      <td>0</td>\n      <td>0</td>\n      <td>1.399781</td>\n    </tr>\n    <tr>\n      <th>68610</th>\n      <td>1506.660363</td>\n      <td>1493.296496</td>\n      <td>-9999.00</td>\n      <td>0.01108</td>\n      <td>0.006732</td>\n      <td>42</td>\n      <td>46</td>\n      <td>6.071818</td>\n      <td>-9999.000000</td>\n      <td>8.192620</td>\n      <td>...</td>\n      <td>0</td>\n      <td>0</td>\n      <td>0</td>\n      <td>0</td>\n      <td>0</td>\n      <td>0</td>\n      <td>0</td>\n      <td>0</td>\n      <td>0</td>\n      <td>1.645811</td>\n    </tr>\n    <tr>\n      <th>68611</th>\n      <td>2035.532738</td>\n      <td>1959.518320</td>\n      <td>-9999.00</td>\n      <td>0.00000</td>\n      <td>0.000000</td>\n      <td>14</td>\n      <td>22</td>\n      <td>9.876134</td>\n      <td>-9999.000000</td>\n      <td>11.237482</td>\n      <td>...</td>\n      <td>0</td>\n      <td>0</td>\n      <td>0</td>\n      <td>0</td>\n      <td>0</td>\n      <td>0</td>\n      <td>0</td>\n      <td>0</td>\n      <td>0</td>\n      <td>1.598529</td>\n    </tr>\n    <tr>\n      <th>68612</th>\n      <td>3985.426053</td>\n      <td>3638.677280</td>\n      <td>-9999.00</td>\n      <td>0.00000</td>\n      <td>0.000000</td>\n      <td>4</td>\n      <td>15</td>\n      <td>5.285051</td>\n      <td>999999.000000</td>\n      <td>19.396341</td>\n      <td>...</td>\n      <td>0</td>\n      <td>0</td>\n      <td>0</td>\n      <td>0</td>\n      <td>0</td>\n      <td>0</td>\n      <td>0</td>\n      <td>0</td>\n      <td>0</td>\n      <td>1.516066</td>\n    </tr>\n    <tr>\n      <th>68613</th>\n      <td>1591.009408</td>\n      <td>2071.219000</td>\n      <td>-9999.00</td>\n      <td>0.01609</td>\n      <td>0.007443</td>\n      <td>9</td>\n      <td>16</td>\n      <td>2.621272</td>\n      <td>999999.000000</td>\n      <td>11.049965</td>\n      <td>...</td>\n      <td>0</td>\n      <td>0</td>\n      <td>0</td>\n      <td>0</td>\n      <td>0</td>\n      <td>0</td>\n      <td>0</td>\n      <td>0</td>\n      <td>0</td>\n      <td>2.161736</td>\n    </tr>\n  </tbody>\n</table>\n<p>66715 rows × 150 columns</p>\n</div>"
     },
     "metadata": {}
    }
   ],
   "execution_count": 7
  },
  {
   "cell_type": "code",
   "metadata": {
    "tags": [],
    "deepnote_to_be_reexecuted": false,
    "source_hash": "eb4a6a75",
    "execution_start": 1632659225242,
    "execution_millis": 81,
    "cell_id": "00011-f3458166-ac78-4c32-bcf7-e8c01208d630",
    "deepnote_cell_type": "code"
   },
   "source": "test = TestDataPreprocessingPipeline(\n    Pretest,\n    train.imputer,\n    train.functional_group_extractor,\n    train.X.columns\n)\ntest.organic_linker1 = train.organic_linker1\ntest.organic_linker2 = train.organic_linker2\ntest.topology2num = train.topology2num\ntest.spacegroup2num = train.spacegroup2num\ntest.run()",
   "outputs": [
    {
     "name": "stdout",
     "text": "Print droping and replace null\nImpute\n",
     "output_type": "stream"
    }
   ],
   "execution_count": 8
  },
  {
   "cell_type": "code",
   "metadata": {
    "tags": [],
    "deepnote_to_be_reexecuted": false,
    "source_hash": "63a82644",
    "execution_start": 1632659225304,
    "execution_millis": 0,
    "cell_id": "00012-9df219a5-74fc-4023-99c9-1fa8a81bc1ba",
    "deepnote_cell_type": "code"
   },
   "source": "assert all(train.X.columns == test.X.columns)",
   "outputs": [],
   "execution_count": 9
  },
  {
   "cell_type": "code",
   "metadata": {
    "tags": [],
    "deepnote_to_be_reexecuted": false,
    "source_hash": "a2a5e9c7",
    "execution_start": 1632659225304,
    "execution_millis": 58,
    "cell_id": "00013-2a94266a-6708-4085-8660-49769f91fefc",
    "deepnote_cell_type": "code"
   },
   "source": "len(train.X.columns)",
   "outputs": [
    {
     "output_type": "execute_result",
     "execution_count": 10,
     "data": {
      "text/plain": "150"
     },
     "metadata": {}
    }
   ],
   "execution_count": 10
  },
  {
   "cell_type": "code",
   "metadata": {
    "tags": [],
    "deepnote_to_be_reexecuted": false,
    "source_hash": "60f5a559",
    "execution_start": 1632659225344,
    "execution_millis": 64,
    "cell_id": "00014-55c68af9-b995-41a5-a964-bf0eb21468a9",
    "deepnote_cell_type": "code"
   },
   "source": "1/test.X[train.X.columns][['density']]",
   "outputs": [
    {
     "output_type": "execute_result",
     "execution_count": 11,
     "data": {
      "application/vnd.deepnote.dataframe.v2+json": {
       "row_count": 2000,
       "column_count": 1,
       "columns": [
        {
         "name": "density",
         "dtype": "float64",
         "stats": {
          "unique_count": 2000,
          "nan_count": 0,
          "min": "0.4441881604275172",
          "max": "5.995398507197425",
          "histogram": [
           {
            "bin_start": 0.4441881604275172,
            "bin_end": 0.999309195104508,
            "count": 716
           },
           {
            "bin_start": 0.999309195104508,
            "bin_end": 1.5544302297814987,
            "count": 797
           },
           {
            "bin_start": 1.5544302297814987,
            "bin_end": 2.1095512644584895,
            "count": 248
           },
           {
            "bin_start": 2.1095512644584895,
            "bin_end": 2.6646722991354803,
            "count": 112
           },
           {
            "bin_start": 2.6646722991354803,
            "bin_end": 3.219793333812471,
            "count": 65
           },
           {
            "bin_start": 3.219793333812471,
            "bin_end": 3.774914368489462,
            "count": 28
           },
           {
            "bin_start": 3.774914368489462,
            "bin_end": 4.330035403166453,
            "count": 16
           },
           {
            "bin_start": 4.330035403166453,
            "bin_end": 4.8851564378434436,
            "count": 4
           },
           {
            "bin_start": 4.8851564378434436,
            "bin_end": 5.440277472520434,
            "count": 12
           },
           {
            "bin_start": 5.440277472520434,
            "bin_end": 5.995398507197425,
            "count": 2
           }
          ]
         }
        },
        {
         "name": "_deepnote_index_column",
         "dtype": "int64"
        }
       ],
       "rows_top": [
        {
         "density": 1.666997572553401,
         "_deepnote_index_column": 1
        },
        {
         "density": 1.214610902797537,
         "_deepnote_index_column": 2
        },
        {
         "density": 1.1410069806730878,
         "_deepnote_index_column": 3
        },
        {
         "density": 1.5431444073168121,
         "_deepnote_index_column": 4
        },
        {
         "density": 0.6603753279104085,
         "_deepnote_index_column": 5
        },
        {
         "density": 1.056926213866801,
         "_deepnote_index_column": 6
        },
        {
         "density": 1.0036866306018466,
         "_deepnote_index_column": 7
        },
        {
         "density": 1.3967237556719687,
         "_deepnote_index_column": 8
        },
        {
         "density": 1.7580884218105322,
         "_deepnote_index_column": 9
        },
        {
         "density": 1.0257749758586383,
         "_deepnote_index_column": 10
        },
        {
         "density": 1.2600714482527793,
         "_deepnote_index_column": 11
        },
        {
         "density": 1.264307162099315,
         "_deepnote_index_column": 12
        },
        {
         "density": 1.1325626734925682,
         "_deepnote_index_column": 13
        },
        {
         "density": 0.8046461265662379,
         "_deepnote_index_column": 14
        },
        {
         "density": 0.7121647560113958,
         "_deepnote_index_column": 15
        },
        {
         "density": 1.0683319817658716,
         "_deepnote_index_column": 16
        },
        {
         "density": 1.1913802055986682,
         "_deepnote_index_column": 17
        },
        {
         "density": 1.940500575813734,
         "_deepnote_index_column": 18
        },
        {
         "density": 1.5618347375799067,
         "_deepnote_index_column": 19
        },
        {
         "density": 0.8546930998965044,
         "_deepnote_index_column": 20
        },
        {
         "density": 1.4167224898392676,
         "_deepnote_index_column": 21
        },
        {
         "density": 1.0342525552401056,
         "_deepnote_index_column": 22
        },
        {
         "density": 0.9118318029863691,
         "_deepnote_index_column": 23
        },
        {
         "density": 1.1750246083760079,
         "_deepnote_index_column": 24
        },
        {
         "density": 0.7362484867512197,
         "_deepnote_index_column": 25
        },
        {
         "density": 0.8140746612741436,
         "_deepnote_index_column": 26
        },
        {
         "density": 1.0085955823907855,
         "_deepnote_index_column": 27
        },
        {
         "density": 1.102388374557626,
         "_deepnote_index_column": 28
        },
        {
         "density": 1.3886603906262758,
         "_deepnote_index_column": 29
        },
        {
         "density": 0.9711164264738263,
         "_deepnote_index_column": 30
        },
        {
         "density": 1.230065460032025,
         "_deepnote_index_column": 31
        },
        {
         "density": 1.393271619604657,
         "_deepnote_index_column": 32
        },
        {
         "density": 0.700908133036513,
         "_deepnote_index_column": 33
        },
        {
         "density": 2.1178176588725273,
         "_deepnote_index_column": 34
        },
        {
         "density": 0.8152556895148807,
         "_deepnote_index_column": 35
        },
        {
         "density": 0.86826515290954,
         "_deepnote_index_column": 36
        },
        {
         "density": 0.7145352977043055,
         "_deepnote_index_column": 37
        },
        {
         "density": 1.2020996790370868,
         "_deepnote_index_column": 38
        },
        {
         "density": 1.5903066119036084,
         "_deepnote_index_column": 39
        },
        {
         "density": 1.2327585073480165,
         "_deepnote_index_column": 40
        },
        {
         "density": 0.87058012626885,
         "_deepnote_index_column": 41
        },
        {
         "density": 0.8906887811213977,
         "_deepnote_index_column": 42
        },
        {
         "density": 1.2636536907963074,
         "_deepnote_index_column": 43
        },
        {
         "density": 0.9806577363074532,
         "_deepnote_index_column": 44
        },
        {
         "density": 1.2362162731468604,
         "_deepnote_index_column": 45
        },
        {
         "density": 0.8176051678833292,
         "_deepnote_index_column": 46
        },
        {
         "density": 0.9892879376112518,
         "_deepnote_index_column": 47
        },
        {
         "density": 1.085447012450872,
         "_deepnote_index_column": 48
        },
        {
         "density": 0.7976310708108569,
         "_deepnote_index_column": 49
        },
        {
         "density": 1.47757575149357,
         "_deepnote_index_column": 50
        },
        {
         "density": 1.1541646760292432,
         "_deepnote_index_column": 51
        },
        {
         "density": 0.9229592522131574,
         "_deepnote_index_column": 52
        },
        {
         "density": 1.7931615349370893,
         "_deepnote_index_column": 53
        },
        {
         "density": 0.8070902302955973,
         "_deepnote_index_column": 54
        },
        {
         "density": 1.1734737576813326,
         "_deepnote_index_column": 55
        },
        {
         "density": 1.245179178441951,
         "_deepnote_index_column": 56
        },
        {
         "density": 1.1453235133053747,
         "_deepnote_index_column": 57
        },
        {
         "density": 1.2704121177068814,
         "_deepnote_index_column": 58
        },
        {
         "density": 1.017608714640792,
         "_deepnote_index_column": 59
        },
        {
         "density": 0.9606668445735703,
         "_deepnote_index_column": 60
        },
        {
         "density": 1.0314213415804954,
         "_deepnote_index_column": 61
        },
        {
         "density": 0.9699274978019282,
         "_deepnote_index_column": 62
        },
        {
         "density": 1.2063073281100305,
         "_deepnote_index_column": 63
        },
        {
         "density": 1.3186526833404395,
         "_deepnote_index_column": 64
        },
        {
         "density": 0.7405726818899248,
         "_deepnote_index_column": 65
        },
        {
         "density": 0.7799214922385735,
         "_deepnote_index_column": 66
        },
        {
         "density": 1.0057930028619138,
         "_deepnote_index_column": 67
        },
        {
         "density": 0.78991110302455,
         "_deepnote_index_column": 68
        },
        {
         "density": 0.9851545366512016,
         "_deepnote_index_column": 69
        },
        {
         "density": 0.6594516058199124,
         "_deepnote_index_column": 70
        },
        {
         "density": 1.3981277634312108,
         "_deepnote_index_column": 71
        },
        {
         "density": 1.0535714109222805,
         "_deepnote_index_column": 72
        },
        {
         "density": 1.2152445944149577,
         "_deepnote_index_column": 73
        },
        {
         "density": 0.9852823038496941,
         "_deepnote_index_column": 74
        },
        {
         "density": 0.7095822849892004,
         "_deepnote_index_column": 75
        },
        {
         "density": 0.9713967141068546,
         "_deepnote_index_column": 76
        },
        {
         "density": 0.715086169925052,
         "_deepnote_index_column": 77
        },
        {
         "density": 0.6936699824266449,
         "_deepnote_index_column": 78
        },
        {
         "density": 1.084580478794941,
         "_deepnote_index_column": 79
        },
        {
         "density": 0.8620533729086801,
         "_deepnote_index_column": 80
        },
        {
         "density": 1.0401206922013815,
         "_deepnote_index_column": 81
        },
        {
         "density": 1.787447103165352,
         "_deepnote_index_column": 82
        },
        {
         "density": 1.1907422383561692,
         "_deepnote_index_column": 83
        },
        {
         "density": 0.9614821627955848,
         "_deepnote_index_column": 84
        },
        {
         "density": 0.6373608502291733,
         "_deepnote_index_column": 85
        },
        {
         "density": 1.3169445949803409,
         "_deepnote_index_column": 86
        },
        {
         "density": 0.8811623577612442,
         "_deepnote_index_column": 87
        },
        {
         "density": 0.8282392752979274,
         "_deepnote_index_column": 88
        },
        {
         "density": 1.7913780128278183,
         "_deepnote_index_column": 89
        },
        {
         "density": 0.8959595379051297,
         "_deepnote_index_column": 90
        },
        {
         "density": 1.2268195833085054,
         "_deepnote_index_column": 91
        },
        {
         "density": 0.7050002327110456,
         "_deepnote_index_column": 92
        },
        {
         "density": 0.6504164570903079,
         "_deepnote_index_column": 93
        },
        {
         "density": 0.940002680646527,
         "_deepnote_index_column": 94
        },
        {
         "density": 1.2978784429695207,
         "_deepnote_index_column": 95
        },
        {
         "density": 1.22835216724651,
         "_deepnote_index_column": 96
        },
        {
         "density": 0.5927476868969603,
         "_deepnote_index_column": 97
        },
        {
         "density": 1.2182436272735724,
         "_deepnote_index_column": 98
        },
        {
         "density": 1.11824114184987,
         "_deepnote_index_column": 99
        },
        {
         "density": 1.0238691942670528,
         "_deepnote_index_column": 100
        },
        {
         "density": 0.8644432862106247,
         "_deepnote_index_column": 101
        },
        {
         "density": 1.5547263018844732,
         "_deepnote_index_column": 102
        },
        {
         "density": 0.6960973096076248,
         "_deepnote_index_column": 103
        },
        {
         "density": 0.693035874158302,
         "_deepnote_index_column": 104
        },
        {
         "density": 1.6676846072245048,
         "_deepnote_index_column": 105
        },
        {
         "density": 1.0936890298273674,
         "_deepnote_index_column": 106
        },
        {
         "density": 0.890719052962032,
         "_deepnote_index_column": 107
        },
        {
         "density": 0.7305800403177297,
         "_deepnote_index_column": 108
        },
        {
         "density": 1.5939368579959137,
         "_deepnote_index_column": 109
        },
        {
         "density": 1.2834290842746574,
         "_deepnote_index_column": 110
        },
        {
         "density": 0.7837636111074309,
         "_deepnote_index_column": 111
        },
        {
         "density": 0.7775442002111206,
         "_deepnote_index_column": 112
        },
        {
         "density": 1.0750964090299848,
         "_deepnote_index_column": 113
        },
        {
         "density": 1.1246515606761347,
         "_deepnote_index_column": 114
        },
        {
         "density": 1.074885282217978,
         "_deepnote_index_column": 115
        },
        {
         "density": 0.6514564628206609,
         "_deepnote_index_column": 116
        },
        {
         "density": 1.020256338159052,
         "_deepnote_index_column": 117
        },
        {
         "density": 1.0000109463717273,
         "_deepnote_index_column": 118
        },
        {
         "density": 0.984307149052533,
         "_deepnote_index_column": 119
        },
        {
         "density": 0.838057154094862,
         "_deepnote_index_column": 120
        },
        {
         "density": 1.557548945823784,
         "_deepnote_index_column": 121
        },
        {
         "density": 0.9113920772635727,
         "_deepnote_index_column": 122
        },
        {
         "density": 0.7371058958637361,
         "_deepnote_index_column": 123
        },
        {
         "density": 1.3027606322211827,
         "_deepnote_index_column": 124
        },
        {
         "density": 0.7207415044930224,
         "_deepnote_index_column": 125
        },
        {
         "density": 1.5989177720255008,
         "_deepnote_index_column": 126
        },
        {
         "density": 0.9105913237930172,
         "_deepnote_index_column": 127
        },
        {
         "density": 0.8495744929432254,
         "_deepnote_index_column": 128
        },
        {
         "density": 0.7645656082822214,
         "_deepnote_index_column": 129
        },
        {
         "density": 1.1367261740291732,
         "_deepnote_index_column": 130
        },
        {
         "density": 0.7933840218566242,
         "_deepnote_index_column": 131
        },
        {
         "density": 1.1714419917073582,
         "_deepnote_index_column": 132
        },
        {
         "density": 0.8088455598544254,
         "_deepnote_index_column": 133
        },
        {
         "density": 1.100331665575429,
         "_deepnote_index_column": 134
        },
        {
         "density": 0.690368597285967,
         "_deepnote_index_column": 135
        },
        {
         "density": 0.8095490870061124,
         "_deepnote_index_column": 136
        },
        {
         "density": 1.0045129079165205,
         "_deepnote_index_column": 137
        },
        {
         "density": 0.8376431723839598,
         "_deepnote_index_column": 138
        },
        {
         "density": 1.2756655578381004,
         "_deepnote_index_column": 139
        },
        {
         "density": 1.3530842955352105,
         "_deepnote_index_column": 140
        },
        {
         "density": 0.5835530590522798,
         "_deepnote_index_column": 141
        },
        {
         "density": 1.6559431897232255,
         "_deepnote_index_column": 142
        },
        {
         "density": 1.0844740148696592,
         "_deepnote_index_column": 143
        },
        {
         "density": 1.3495507022091766,
         "_deepnote_index_column": 144
        },
        {
         "density": 1.1867423167475708,
         "_deepnote_index_column": 145
        },
        {
         "density": 1.106709574848017,
         "_deepnote_index_column": 146
        },
        {
         "density": 1.504754052958482,
         "_deepnote_index_column": 147
        },
        {
         "density": 0.7854810887550514,
         "_deepnote_index_column": 148
        },
        {
         "density": 0.8317883759302759,
         "_deepnote_index_column": 149
        },
        {
         "density": 1.1934355632156393,
         "_deepnote_index_column": 150
        },
        {
         "density": 0.8790674282702355,
         "_deepnote_index_column": 151
        },
        {
         "density": 0.995227195580233,
         "_deepnote_index_column": 152
        },
        {
         "density": 1.1245655163843256,
         "_deepnote_index_column": 153
        },
        {
         "density": 0.7190231866378817,
         "_deepnote_index_column": 154
        },
        {
         "density": 1.0774486796231997,
         "_deepnote_index_column": 155
        },
        {
         "density": 0.8579584839640804,
         "_deepnote_index_column": 156
        },
        {
         "density": 1.3294565331594808,
         "_deepnote_index_column": 157
        },
        {
         "density": 0.7619053134356176,
         "_deepnote_index_column": 158
        },
        {
         "density": 1.1240360203982107,
         "_deepnote_index_column": 159
        },
        {
         "density": 0.73530838764269,
         "_deepnote_index_column": 160
        },
        {
         "density": 0.7414717852474028,
         "_deepnote_index_column": 161
        },
        {
         "density": 0.6945802572596625,
         "_deepnote_index_column": 162
        },
        {
         "density": 0.6238625115112185,
         "_deepnote_index_column": 163
        },
        {
         "density": 1.3273392089445046,
         "_deepnote_index_column": 164
        },
        {
         "density": 0.9847951336650042,
         "_deepnote_index_column": 165
        },
        {
         "density": 1.3222488837000406,
         "_deepnote_index_column": 166
        },
        {
         "density": 0.9883437528952251,
         "_deepnote_index_column": 167
        },
        {
         "density": 0.6907254857909364,
         "_deepnote_index_column": 168
        },
        {
         "density": 0.9717836731597137,
         "_deepnote_index_column": 169
        },
        {
         "density": 0.9411899615895892,
         "_deepnote_index_column": 170
        },
        {
         "density": 1.0480686588601011,
         "_deepnote_index_column": 171
        },
        {
         "density": 1.5178011048027997,
         "_deepnote_index_column": 172
        },
        {
         "density": 0.9875351101284268,
         "_deepnote_index_column": 173
        },
        {
         "density": 0.9647468310058017,
         "_deepnote_index_column": 174
        },
        {
         "density": 1.0770027769688966,
         "_deepnote_index_column": 175
        },
        {
         "density": 1.1177780741912304,
         "_deepnote_index_column": 176
        },
        {
         "density": 0.705679491995947,
         "_deepnote_index_column": 177
        },
        {
         "density": 0.8530108498949196,
         "_deepnote_index_column": 178
        },
        {
         "density": 0.9401162897843794,
         "_deepnote_index_column": 179
        },
        {
         "density": 1.0229184692455418,
         "_deepnote_index_column": 180
        },
        {
         "density": 1.1846250621816037,
         "_deepnote_index_column": 181
        },
        {
         "density": 2.1386795445634212,
         "_deepnote_index_column": 182
        },
        {
         "density": 0.8044146907417942,
         "_deepnote_index_column": 183
        },
        {
         "density": 1.0572191147941092,
         "_deepnote_index_column": 184
        },
        {
         "density": 1.282963009155942,
         "_deepnote_index_column": 185
        },
        {
         "density": 0.9236092170349423,
         "_deepnote_index_column": 186
        },
        {
         "density": 1.1872523236869306,
         "_deepnote_index_column": 187
        },
        {
         "density": 1.3635392496660512,
         "_deepnote_index_column": 188
        },
        {
         "density": 1.1225080234577578,
         "_deepnote_index_column": 189
        },
        {
         "density": 0.9357359843337008,
         "_deepnote_index_column": 190
        },
        {
         "density": 1.3579936869660745,
         "_deepnote_index_column": 191
        },
        {
         "density": 1.1493287810448858,
         "_deepnote_index_column": 192
        },
        {
         "density": 1.069612611861556,
         "_deepnote_index_column": 193
        },
        {
         "density": 1.0313717269986276,
         "_deepnote_index_column": 194
        },
        {
         "density": 0.5927988636378377,
         "_deepnote_index_column": 195
        },
        {
         "density": 1.178999510008801,
         "_deepnote_index_column": 196
        },
        {
         "density": 0.9145997443983325,
         "_deepnote_index_column": 197
        },
        {
         "density": 2.2628371394882447,
         "_deepnote_index_column": 198
        },
        {
         "density": 1.2970385238278226,
         "_deepnote_index_column": 199
        },
        {
         "density": 0.9258472514210362,
         "_deepnote_index_column": 200
        },
        {
         "density": 1.709470374139999,
         "_deepnote_index_column": 201
        },
        {
         "density": 1.1581024851608532,
         "_deepnote_index_column": 202
        },
        {
         "density": 1.7174879332723734,
         "_deepnote_index_column": 203
        },
        {
         "density": 1.409819063941156,
         "_deepnote_index_column": 204
        },
        {
         "density": 0.9291525286180221,
         "_deepnote_index_column": 205
        },
        {
         "density": 1.2085224294702008,
         "_deepnote_index_column": 206
        },
        {
         "density": 1.2509212509085537,
         "_deepnote_index_column": 207
        },
        {
         "density": 0.7126965502483112,
         "_deepnote_index_column": 208
        },
        {
         "density": 0.9262664970084545,
         "_deepnote_index_column": 209
        },
        {
         "density": 1.034773284107937,
         "_deepnote_index_column": 210
        },
        {
         "density": 1.29036261063863,
         "_deepnote_index_column": 211
        },
        {
         "density": 1.3189785660573683,
         "_deepnote_index_column": 212
        },
        {
         "density": 1.5412601650319468,
         "_deepnote_index_column": 213
        },
        {
         "density": 0.6508209005162656,
         "_deepnote_index_column": 214
        },
        {
         "density": 1.8368654562537037,
         "_deepnote_index_column": 215
        },
        {
         "density": 1.2061346076450439,
         "_deepnote_index_column": 216
        },
        {
         "density": 1.2447341128040028,
         "_deepnote_index_column": 217
        },
        {
         "density": 1.4154746280767914,
         "_deepnote_index_column": 218
        },
        {
         "density": 0.8349889124829747,
         "_deepnote_index_column": 219
        },
        {
         "density": 0.9241018656640724,
         "_deepnote_index_column": 220
        },
        {
         "density": 1.10456782916234,
         "_deepnote_index_column": 221
        },
        {
         "density": 0.8338198783830911,
         "_deepnote_index_column": 222
        },
        {
         "density": 0.9033580826680275,
         "_deepnote_index_column": 223
        },
        {
         "density": 0.6648690626359227,
         "_deepnote_index_column": 224
        },
        {
         "density": 1.2846256160550702,
         "_deepnote_index_column": 225
        },
        {
         "density": 0.765573071900333,
         "_deepnote_index_column": 226
        },
        {
         "density": 0.7817950863374495,
         "_deepnote_index_column": 227
        },
        {
         "density": 1.2637347615013368,
         "_deepnote_index_column": 228
        },
        {
         "density": 1.1933398858044895,
         "_deepnote_index_column": 229
        },
        {
         "density": 1.1784005103026804,
         "_deepnote_index_column": 230
        },
        {
         "density": 0.9379240190492053,
         "_deepnote_index_column": 231
        },
        {
         "density": 1.326446782530958,
         "_deepnote_index_column": 232
        },
        {
         "density": 1.1486487777542869,
         "_deepnote_index_column": 233
        },
        {
         "density": 1.0465586896797343,
         "_deepnote_index_column": 234
        },
        {
         "density": 0.9555925815516315,
         "_deepnote_index_column": 235
        },
        {
         "density": 0.7898045037775486,
         "_deepnote_index_column": 236
        },
        {
         "density": 1.3579977467917153,
         "_deepnote_index_column": 237
        },
        {
         "density": 1.2261156737587826,
         "_deepnote_index_column": 238
        },
        {
         "density": 0.8934259802603123,
         "_deepnote_index_column": 239
        },
        {
         "density": 1.1462468898576301,
         "_deepnote_index_column": 240
        },
        {
         "density": 1.0908751129810015,
         "_deepnote_index_column": 241
        },
        {
         "density": 0.974258710119294,
         "_deepnote_index_column": 242
        },
        {
         "density": 0.817864699928004,
         "_deepnote_index_column": 243
        },
        {
         "density": 0.5414958013058405,
         "_deepnote_index_column": 244
        },
        {
         "density": 1.1358294125035056,
         "_deepnote_index_column": 245
        },
        {
         "density": 1.3527832292198532,
         "_deepnote_index_column": 246
        },
        {
         "density": 0.9838348957132617,
         "_deepnote_index_column": 247
        },
        {
         "density": 1.6278691181043816,
         "_deepnote_index_column": 248
        },
        {
         "density": 0.9919150387110423,
         "_deepnote_index_column": 249
        },
        {
         "density": 1.5215571902201406,
         "_deepnote_index_column": 250
        },
        {
         "density": 1.2437819430165649,
         "_deepnote_index_column": 251
        },
        {
         "density": 0.9771399136033008,
         "_deepnote_index_column": 252
        },
        {
         "density": 0.9916338176556339,
         "_deepnote_index_column": 253
        },
        {
         "density": 0.6331431327067063,
         "_deepnote_index_column": 254
        },
        {
         "density": 0.9443492935039154,
         "_deepnote_index_column": 255
        },
        {
         "density": 0.8415170055703761,
         "_deepnote_index_column": 256
        },
        {
         "density": 0.8806502480897402,
         "_deepnote_index_column": 257
        },
        {
         "density": 0.7549414333714451,
         "_deepnote_index_column": 258
        },
        {
         "density": 0.8142952716172036,
         "_deepnote_index_column": 259
        },
        {
         "density": 0.8132004875737022,
         "_deepnote_index_column": 260
        },
        {
         "density": 1.3771382882206367,
         "_deepnote_index_column": 261
        },
        {
         "density": 0.8120762551587483,
         "_deepnote_index_column": 262
        },
        {
         "density": 1.2906032897962219,
         "_deepnote_index_column": 263
        },
        {
         "density": 1.4877838755156285,
         "_deepnote_index_column": 264
        },
        {
         "density": 0.8769676895746185,
         "_deepnote_index_column": 265
        },
        {
         "density": 1.1017163847511096,
         "_deepnote_index_column": 266
        },
        {
         "density": 1.6067442984885878,
         "_deepnote_index_column": 267
        },
        {
         "density": 0.8445139428665775,
         "_deepnote_index_column": 268
        },
        {
         "density": 1.454988576522344,
         "_deepnote_index_column": 269
        },
        {
         "density": 0.9872221420052485,
         "_deepnote_index_column": 270
        },
        {
         "density": 0.8942939838620819,
         "_deepnote_index_column": 271
        },
        {
         "density": 0.7531479930324199,
         "_deepnote_index_column": 272
        },
        {
         "density": 0.8277639504539491,
         "_deepnote_index_column": 273
        },
        {
         "density": 0.6654285609507296,
         "_deepnote_index_column": 274
        },
        {
         "density": 0.749366015663079,
         "_deepnote_index_column": 275
        },
        {
         "density": 1.3810329888929025,
         "_deepnote_index_column": 276
        },
        {
         "density": 1.4632623154336093,
         "_deepnote_index_column": 277
        },
        {
         "density": 1.0689874753582058,
         "_deepnote_index_column": 278
        },
        {
         "density": 0.7502193507452556,
         "_deepnote_index_column": 279
        },
        {
         "density": 1.4217433247974767,
         "_deepnote_index_column": 280
        },
        {
         "density": 0.8728793908756943,
         "_deepnote_index_column": 281
        },
        {
         "density": 0.8591766907466538,
         "_deepnote_index_column": 282
        },
        {
         "density": 0.6982304045040751,
         "_deepnote_index_column": 283
        },
        {
         "density": 1.1819218745461875,
         "_deepnote_index_column": 284
        },
        {
         "density": 1.3993686172746924,
         "_deepnote_index_column": 285
        },
        {
         "density": 0.9169367767370777,
         "_deepnote_index_column": 286
        },
        {
         "density": 0.6165156316290549,
         "_deepnote_index_column": 287
        },
        {
         "density": 1.7632119092753604,
         "_deepnote_index_column": 288
        },
        {
         "density": 0.8285123971846127,
         "_deepnote_index_column": 289
        },
        {
         "density": 0.6071685619058302,
         "_deepnote_index_column": 290
        },
        {
         "density": 0.6859047997652955,
         "_deepnote_index_column": 291
        },
        {
         "density": 1.4315566571364688,
         "_deepnote_index_column": 292
        },
        {
         "density": 1.2836285447455706,
         "_deepnote_index_column": 293
        },
        {
         "density": 1.3250962289166788,
         "_deepnote_index_column": 294
        },
        {
         "density": 1.414981023377036,
         "_deepnote_index_column": 295
        },
        {
         "density": 0.762864241299196,
         "_deepnote_index_column": 296
        },
        {
         "density": 1.0571939118490472,
         "_deepnote_index_column": 297
        },
        {
         "density": 0.6592844885287376,
         "_deepnote_index_column": 298
        },
        {
         "density": 0.9457911084386839,
         "_deepnote_index_column": 299
        },
        {
         "density": 1.2205175505751715,
         "_deepnote_index_column": 300
        },
        {
         "density": 0.8181745836060869,
         "_deepnote_index_column": 301
        },
        {
         "density": 1.2835615267273424,
         "_deepnote_index_column": 302
        },
        {
         "density": 0.905155706600195,
         "_deepnote_index_column": 303
        },
        {
         "density": 0.9377507761064157,
         "_deepnote_index_column": 304
        },
        {
         "density": 0.7023721931017893,
         "_deepnote_index_column": 305
        },
        {
         "density": 1.094304827645635,
         "_deepnote_index_column": 306
        },
        {
         "density": 1.5533596166849888,
         "_deepnote_index_column": 307
        },
        {
         "density": 0.9299401108091886,
         "_deepnote_index_column": 308
        },
        {
         "density": 0.7763782696228273,
         "_deepnote_index_column": 309
        },
        {
         "density": 1.115975515509073,
         "_deepnote_index_column": 310
        },
        {
         "density": 1.1499664973130743,
         "_deepnote_index_column": 311
        },
        {
         "density": 1.035037993784938,
         "_deepnote_index_column": 312
        },
        {
         "density": 1.2171364994449303,
         "_deepnote_index_column": 313
        },
        {
         "density": 1.0805636410049155,
         "_deepnote_index_column": 314
        },
        {
         "density": 1.0619241943445301,
         "_deepnote_index_column": 315
        },
        {
         "density": 0.7085622595513843,
         "_deepnote_index_column": 316
        },
        {
         "density": 1.5403932445076731,
         "_deepnote_index_column": 317
        },
        {
         "density": 1.3885587149643732,
         "_deepnote_index_column": 318
        },
        {
         "density": 0.764563281573356,
         "_deepnote_index_column": 319
        },
        {
         "density": 0.7571444418326121,
         "_deepnote_index_column": 320
        },
        {
         "density": 1.1192665778186344,
         "_deepnote_index_column": 321
        },
        {
         "density": 1.3458040459416807,
         "_deepnote_index_column": 322
        },
        {
         "density": 1.2989171483565638,
         "_deepnote_index_column": 323
        },
        {
         "density": 0.720870649775069,
         "_deepnote_index_column": 324
        },
        {
         "density": 1.349702321933469,
         "_deepnote_index_column": 325
        },
        {
         "density": 1.35197788573715,
         "_deepnote_index_column": 326
        },
        {
         "density": 0.7384629832789721,
         "_deepnote_index_column": 327
        },
        {
         "density": 0.8703609098128252,
         "_deepnote_index_column": 328
        },
        {
         "density": 1.352529503286386,
         "_deepnote_index_column": 329
        },
        {
         "density": 1.7933140089567077,
         "_deepnote_index_column": 330
        },
        {
         "density": 0.8637223925556775,
         "_deepnote_index_column": 331
        },
        {
         "density": 0.6746484633780473,
         "_deepnote_index_column": 332
        },
        {
         "density": 0.9436038289597852,
         "_deepnote_index_column": 333
        },
        {
         "density": 0.7324925081589372,
         "_deepnote_index_column": 334
        },
        {
         "density": 1.6010460251265144,
         "_deepnote_index_column": 335
        },
        {
         "density": 1.3437234482428018,
         "_deepnote_index_column": 336
        },
        {
         "density": 1.2278326943885907,
         "_deepnote_index_column": 337
        },
        {
         "density": 0.7659743606045123,
         "_deepnote_index_column": 338
        },
        {
         "density": 1.0372371600486825,
         "_deepnote_index_column": 339
        },
        {
         "density": 1.0587724354843266,
         "_deepnote_index_column": 340
        },
        {
         "density": 1.4170549858691535,
         "_deepnote_index_column": 341
        },
        {
         "density": 1.3963807291585422,
         "_deepnote_index_column": 342
        },
        {
         "density": 1.1795769902091164,
         "_deepnote_index_column": 343
        },
        {
         "density": 0.8806621561141602,
         "_deepnote_index_column": 344
        },
        {
         "density": 1.0162796286008429,
         "_deepnote_index_column": 345
        },
        {
         "density": 1.1236175653669913,
         "_deepnote_index_column": 346
        },
        {
         "density": 0.6954676427598935,
         "_deepnote_index_column": 347
        },
        {
         "density": 0.8148101414560966,
         "_deepnote_index_column": 348
        },
        {
         "density": 1.5840388704048867,
         "_deepnote_index_column": 349
        },
        {
         "density": 0.8665321607778949,
         "_deepnote_index_column": 350
        },
        {
         "density": 0.5759661778503393,
         "_deepnote_index_column": 351
        },
        {
         "density": 1.1997432767210128,
         "_deepnote_index_column": 352
        },
        {
         "density": 1.5227656420433227,
         "_deepnote_index_column": 353
        },
        {
         "density": 0.7307411848932203,
         "_deepnote_index_column": 354
        },
        {
         "density": 1.2617582560469536,
         "_deepnote_index_column": 355
        },
        {
         "density": 1.0050081306743972,
         "_deepnote_index_column": 356
        },
        {
         "density": 1.1545990838879385,
         "_deepnote_index_column": 357
        },
        {
         "density": 0.9100710227399843,
         "_deepnote_index_column": 358
        },
        {
         "density": 0.9816739947978622,
         "_deepnote_index_column": 359
        },
        {
         "density": 0.9880182969760578,
         "_deepnote_index_column": 360
        },
        {
         "density": 1.1915605802874032,
         "_deepnote_index_column": 361
        },
        {
         "density": 1.3840418171667952,
         "_deepnote_index_column": 362
        },
        {
         "density": 0.725879472711195,
         "_deepnote_index_column": 363
        },
        {
         "density": 1.307893603778894,
         "_deepnote_index_column": 364
        },
        {
         "density": 1.22673580092561,
         "_deepnote_index_column": 365
        },
        {
         "density": 1.0581399579855864,
         "_deepnote_index_column": 366
        },
        {
         "density": 0.8560993070893694,
         "_deepnote_index_column": 367
        },
        {
         "density": 1.390506081216778,
         "_deepnote_index_column": 368
        },
        {
         "density": 0.8770934545297888,
         "_deepnote_index_column": 369
        },
        {
         "density": 0.9172282182140871,
         "_deepnote_index_column": 370
        },
        {
         "density": 0.907169836519342,
         "_deepnote_index_column": 371
        },
        {
         "density": 1.0186947363786347,
         "_deepnote_index_column": 372
        },
        {
         "density": 0.9515482752245917,
         "_deepnote_index_column": 373
        },
        {
         "density": 1.1885721127069657,
         "_deepnote_index_column": 374
        },
        {
         "density": 1.1623135212830151,
         "_deepnote_index_column": 375
        },
        {
         "density": 0.7388587341916697,
         "_deepnote_index_column": 376
        },
        {
         "density": 0.7053629044212469,
         "_deepnote_index_column": 377
        },
        {
         "density": 1.115996225923305,
         "_deepnote_index_column": 378
        },
        {
         "density": 1.3613315264607226,
         "_deepnote_index_column": 379
        },
        {
         "density": 1.3086765038531867,
         "_deepnote_index_column": 380
        },
        {
         "density": 1.698515605340526,
         "_deepnote_index_column": 381
        },
        {
         "density": 0.8574868174891502,
         "_deepnote_index_column": 382
        },
        {
         "density": 1.0142167111670353,
         "_deepnote_index_column": 383
        },
        {
         "density": 0.8251539553363336,
         "_deepnote_index_column": 384
        },
        {
         "density": 1.3587047114800828,
         "_deepnote_index_column": 385
        },
        {
         "density": 1.2938474154929855,
         "_deepnote_index_column": 386
        },
        {
         "density": 0.7939427388796911,
         "_deepnote_index_column": 387
        },
        {
         "density": 0.7093228623839769,
         "_deepnote_index_column": 388
        },
        {
         "density": 0.8629209614688855,
         "_deepnote_index_column": 389
        },
        {
         "density": 1.5333527229616364,
         "_deepnote_index_column": 390
        },
        {
         "density": 1.6455828229668423,
         "_deepnote_index_column": 391
        },
        {
         "density": 1.254870188163995,
         "_deepnote_index_column": 392
        },
        {
         "density": 1.628790102053458,
         "_deepnote_index_column": 393
        },
        {
         "density": 0.9797556311181119,
         "_deepnote_index_column": 394
        },
        {
         "density": 1.0223719419858721,
         "_deepnote_index_column": 395
        },
        {
         "density": 0.707111184240441,
         "_deepnote_index_column": 396
        },
        {
         "density": 0.8777652186421527,
         "_deepnote_index_column": 397
        },
        {
         "density": 0.705679713598928,
         "_deepnote_index_column": 398
        },
        {
         "density": 1.3665299979559282,
         "_deepnote_index_column": 399
        },
        {
         "density": 1.1251430243738776,
         "_deepnote_index_column": 400
        },
        {
         "density": 0.7384092822628571,
         "_deepnote_index_column": 401
        },
        {
         "density": 1.4255773933424465,
         "_deepnote_index_column": 402
        },
        {
         "density": 1.0479812604492698,
         "_deepnote_index_column": 403
        },
        {
         "density": 1.0043477128818639,
         "_deepnote_index_column": 404
        },
        {
         "density": 0.9006774920087971,
         "_deepnote_index_column": 405
        },
        {
         "density": 1.0752843700673336,
         "_deepnote_index_column": 406
        },
        {
         "density": 1.2005614591986373,
         "_deepnote_index_column": 407
        },
        {
         "density": 0.6339157634734655,
         "_deepnote_index_column": 408
        },
        {
         "density": 0.985467224148303,
         "_deepnote_index_column": 409
        },
        {
         "density": 0.6583353026220565,
         "_deepnote_index_column": 410
        },
        {
         "density": 0.9970388838566951,
         "_deepnote_index_column": 411
        },
        {
         "density": 1.160103262782576,
         "_deepnote_index_column": 412
        },
        {
         "density": 0.7823987097350688,
         "_deepnote_index_column": 413
        },
        {
         "density": 0.8958969630100088,
         "_deepnote_index_column": 414
        },
        {
         "density": 1.133053456343596,
         "_deepnote_index_column": 415
        },
        {
         "density": 1.136783530576245,
         "_deepnote_index_column": 416
        },
        {
         "density": 1.2138713999020487,
         "_deepnote_index_column": 417
        },
        {
         "density": 0.8362954576221414,
         "_deepnote_index_column": 418
        },
        {
         "density": 0.7759558840345695,
         "_deepnote_index_column": 419
        },
        {
         "density": 1.1551944655932165,
         "_deepnote_index_column": 420
        },
        {
         "density": 1.1162817814438415,
         "_deepnote_index_column": 421
        },
        {
         "density": 1.1875263302668944,
         "_deepnote_index_column": 422
        },
        {
         "density": 1.3051613956722075,
         "_deepnote_index_column": 423
        },
        {
         "density": 0.7865423656603161,
         "_deepnote_index_column": 424
        },
        {
         "density": 0.7730656016752797,
         "_deepnote_index_column": 425
        },
        {
         "density": 0.9742991650756371,
         "_deepnote_index_column": 426
        },
        {
         "density": 0.8083387203115581,
         "_deepnote_index_column": 427
        },
        {
         "density": 1.2326046115358547,
         "_deepnote_index_column": 428
        },
        {
         "density": 0.9544618824116162,
         "_deepnote_index_column": 429
        },
        {
         "density": 0.9369706211919631,
         "_deepnote_index_column": 430
        },
        {
         "density": 0.8729673993585182,
         "_deepnote_index_column": 431
        },
        {
         "density": 0.9841681076778857,
         "_deepnote_index_column": 432
        },
        {
         "density": 0.764136780944927,
         "_deepnote_index_column": 433
        },
        {
         "density": 0.9416115424247667,
         "_deepnote_index_column": 434
        },
        {
         "density": 1.3513217196539178,
         "_deepnote_index_column": 435
        },
        {
         "density": 1.3103682807977872,
         "_deepnote_index_column": 436
        },
        {
         "density": 1.2276456107749956,
         "_deepnote_index_column": 437
        },
        {
         "density": 1.218679300924076,
         "_deepnote_index_column": 438
        },
        {
         "density": 0.8741432009556458,
         "_deepnote_index_column": 439
        },
        {
         "density": 1.0368372745426264,
         "_deepnote_index_column": 440
        },
        {
         "density": 0.7001353727801567,
         "_deepnote_index_column": 441
        },
        {
         "density": 0.7760756276816255,
         "_deepnote_index_column": 442
        },
        {
         "density": 0.788572645653326,
         "_deepnote_index_column": 443
        },
        {
         "density": 2.2926810414064986,
         "_deepnote_index_column": 444
        },
        {
         "density": 0.9278741780681188,
         "_deepnote_index_column": 445
        },
        {
         "density": 1.6464540335189415,
         "_deepnote_index_column": 446
        },
        {
         "density": 0.5575631155240771,
         "_deepnote_index_column": 447
        },
        {
         "density": 0.8639011943171117,
         "_deepnote_index_column": 448
        },
        {
         "density": 1.2843176498199778,
         "_deepnote_index_column": 449
        },
        {
         "density": 1.270170655064055,
         "_deepnote_index_column": 450
        },
        {
         "density": 0.8921836663407138,
         "_deepnote_index_column": 451
        },
        {
         "density": 1.4182152149572989,
         "_deepnote_index_column": 452
        },
        {
         "density": 1.0779510840097097,
         "_deepnote_index_column": 453
        },
        {
         "density": 1.134593384452392,
         "_deepnote_index_column": 454
        },
        {
         "density": 0.7997695331209718,
         "_deepnote_index_column": 455
        },
        {
         "density": 1.2195572302462838,
         "_deepnote_index_column": 456
        },
        {
         "density": 1.3444499378128014,
         "_deepnote_index_column": 457
        },
        {
         "density": 1.0434917007573115,
         "_deepnote_index_column": 458
        },
        {
         "density": 1.140650586745525,
         "_deepnote_index_column": 459
        },
        {
         "density": 0.981822468011615,
         "_deepnote_index_column": 460
        },
        {
         "density": 1.2699231415406438,
         "_deepnote_index_column": 461
        },
        {
         "density": 0.9008517304049726,
         "_deepnote_index_column": 462
        },
        {
         "density": 0.508849719390152,
         "_deepnote_index_column": 463
        },
        {
         "density": 0.7910750285661102,
         "_deepnote_index_column": 464
        },
        {
         "density": 1.0140587500246159,
         "_deepnote_index_column": 465
        },
        {
         "density": 1.1593834297370398,
         "_deepnote_index_column": 466
        },
        {
         "density": 1.3778470525039022,
         "_deepnote_index_column": 467
        },
        {
         "density": 0.8623644105696374,
         "_deepnote_index_column": 468
        },
        {
         "density": 0.9773692949837124,
         "_deepnote_index_column": 469
        },
        {
         "density": 0.8869993197427396,
         "_deepnote_index_column": 470
        },
        {
         "density": 0.8338197070323803,
         "_deepnote_index_column": 471
        },
        {
         "density": 0.7699393989380565,
         "_deepnote_index_column": 472
        },
        {
         "density": 0.9435034782572841,
         "_deepnote_index_column": 473
        },
        {
         "density": 0.7273726160287706,
         "_deepnote_index_column": 474
        },
        {
         "density": 0.9357846908912275,
         "_deepnote_index_column": 475
        },
        {
         "density": 1.000517564371993,
         "_deepnote_index_column": 476
        },
        {
         "density": 1.0305712785097871,
         "_deepnote_index_column": 477
        },
        {
         "density": 1.6607063462409748,
         "_deepnote_index_column": 478
        },
        {
         "density": 0.8947151418631685,
         "_deepnote_index_column": 479
        },
        {
         "density": 0.6852290279798403,
         "_deepnote_index_column": 480
        },
        {
         "density": 0.8297759089302926,
         "_deepnote_index_column": 481
        },
        {
         "density": 0.8009914838983783,
         "_deepnote_index_column": 482
        },
        {
         "density": 0.673913249678512,
         "_deepnote_index_column": 483
        },
        {
         "density": 0.8834008181799684,
         "_deepnote_index_column": 484
        },
        {
         "density": 1.128867688481812,
         "_deepnote_index_column": 485
        },
        {
         "density": 1.4346711660191385,
         "_deepnote_index_column": 486
        },
        {
         "density": 0.8570719946451343,
         "_deepnote_index_column": 487
        },
        {
         "density": 0.9085549369008714,
         "_deepnote_index_column": 488
        },
        {
         "density": 0.4441881604275172,
         "_deepnote_index_column": 489
        },
        {
         "density": 0.6252738410509765,
         "_deepnote_index_column": 490
        },
        {
         "density": 0.9868783373737726,
         "_deepnote_index_column": 491
        },
        {
         "density": 1.4307521817469733,
         "_deepnote_index_column": 492
        },
        {
         "density": 1.5002809947922908,
         "_deepnote_index_column": 493
        },
        {
         "density": 0.7731727919403604,
         "_deepnote_index_column": 494
        },
        {
         "density": 1.3256705092689987,
         "_deepnote_index_column": 495
        },
        {
         "density": 0.9918185504772181,
         "_deepnote_index_column": 496
        },
        {
         "density": 1.6402396404240482,
         "_deepnote_index_column": 497
        },
        {
         "density": 1.0751964464839083,
         "_deepnote_index_column": 498
        },
        {
         "density": 0.9588984522393197,
         "_deepnote_index_column": 499
        },
        {
         "density": 1.4942405324992716,
         "_deepnote_index_column": 500
        }
       ],
       "rows_bottom": [
        {
         "density": 1.5367652726175005,
         "_deepnote_index_column": 1501
        },
        {
         "density": 1.720269430253394,
         "_deepnote_index_column": 1502
        },
        {
         "density": 3.5246919666715466,
         "_deepnote_index_column": 1503
        },
        {
         "density": 1.3267862068724383,
         "_deepnote_index_column": 1504
        },
        {
         "density": 2.8868979110454096,
         "_deepnote_index_column": 1505
        },
        {
         "density": 2.637048784469573,
         "_deepnote_index_column": 1506
        },
        {
         "density": 2.7311436536299434,
         "_deepnote_index_column": 1507
        },
        {
         "density": 3.25433086257749,
         "_deepnote_index_column": 1508
        },
        {
         "density": 1.7672047932790123,
         "_deepnote_index_column": 1509
        },
        {
         "density": 2.1500843405371053,
         "_deepnote_index_column": 1510
        },
        {
         "density": 1.7320662228231547,
         "_deepnote_index_column": 1511
        },
        {
         "density": 1.4744277101904193,
         "_deepnote_index_column": 1512
        },
        {
         "density": 1.5245412168635029,
         "_deepnote_index_column": 1513
        },
        {
         "density": 3.6698285404076056,
         "_deepnote_index_column": 1514
        },
        {
         "density": 1.216852713175591,
         "_deepnote_index_column": 1515
        },
        {
         "density": 2.1346204873287693,
         "_deepnote_index_column": 1516
        },
        {
         "density": 3.071339109752916,
         "_deepnote_index_column": 1517
        },
        {
         "density": 1.0954177758022798,
         "_deepnote_index_column": 1518
        },
        {
         "density": 2.042025066828011,
         "_deepnote_index_column": 1519
        },
        {
         "density": 1.6148443862994533,
         "_deepnote_index_column": 1520
        },
        {
         "density": 1.835160153849187,
         "_deepnote_index_column": 1521
        },
        {
         "density": 1.626822677621637,
         "_deepnote_index_column": 1522
        },
        {
         "density": 1.6535944952863342,
         "_deepnote_index_column": 1523
        },
        {
         "density": 2.3877591104061993,
         "_deepnote_index_column": 1524
        },
        {
         "density": 1.314580854933232,
         "_deepnote_index_column": 1525
        },
        {
         "density": 1.2492549491957736,
         "_deepnote_index_column": 1526
        },
        {
         "density": 0.8004254083177453,
         "_deepnote_index_column": 1527
        },
        {
         "density": 2.14687058065741,
         "_deepnote_index_column": 1528
        },
        {
         "density": 2.406946892887288,
         "_deepnote_index_column": 1529
        },
        {
         "density": 0.6302677160900167,
         "_deepnote_index_column": 1530
        },
        {
         "density": 1.2796507427892123,
         "_deepnote_index_column": 1531
        },
        {
         "density": 2.2467515949812453,
         "_deepnote_index_column": 1532
        },
        {
         "density": 2.4260915087888595,
         "_deepnote_index_column": 1533
        },
        {
         "density": 2.353919900110423,
         "_deepnote_index_column": 1534
        },
        {
         "density": 2.720211488639826,
         "_deepnote_index_column": 1535
        },
        {
         "density": 4.198054711630276,
         "_deepnote_index_column": 1536
        },
        {
         "density": 1.6152075539977697,
         "_deepnote_index_column": 1537
        },
        {
         "density": 2.1012000902064076,
         "_deepnote_index_column": 1538
        },
        {
         "density": 1.6525003716770263,
         "_deepnote_index_column": 1539
        },
        {
         "density": 1.7882042162946743,
         "_deepnote_index_column": 1540
        },
        {
         "density": 1.4035303460911421,
         "_deepnote_index_column": 1541
        },
        {
         "density": 1.7929223001206827,
         "_deepnote_index_column": 1542
        },
        {
         "density": 1.545452251866623,
         "_deepnote_index_column": 1543
        },
        {
         "density": 4.108147638554693,
         "_deepnote_index_column": 1544
        },
        {
         "density": 3.248214300627958,
         "_deepnote_index_column": 1545
        },
        {
         "density": 1.4823241099426727,
         "_deepnote_index_column": 1546
        },
        {
         "density": 2.592951014155989,
         "_deepnote_index_column": 1547
        },
        {
         "density": 1.8021208481811735,
         "_deepnote_index_column": 1548
        },
        {
         "density": 2.7576143156864443,
         "_deepnote_index_column": 1549
        },
        {
         "density": 1.449267907352714,
         "_deepnote_index_column": 1550
        },
        {
         "density": 1.8823639113486919,
         "_deepnote_index_column": 1551
        },
        {
         "density": 2.094005343790795,
         "_deepnote_index_column": 1552
        },
        {
         "density": 5.036932724778778,
         "_deepnote_index_column": 1553
        },
        {
         "density": 4.247208236339083,
         "_deepnote_index_column": 1554
        },
        {
         "density": 1.924021594827555,
         "_deepnote_index_column": 1555
        },
        {
         "density": 2.4203102121703903,
         "_deepnote_index_column": 1556
        },
        {
         "density": 1.6804241494919079,
         "_deepnote_index_column": 1557
        },
        {
         "density": 0.9784552990728288,
         "_deepnote_index_column": 1558
        },
        {
         "density": 2.2026320727918747,
         "_deepnote_index_column": 1559
        },
        {
         "density": 1.9555393352059922,
         "_deepnote_index_column": 1560
        },
        {
         "density": 2.041473227572423,
         "_deepnote_index_column": 1561
        },
        {
         "density": 1.273953161375442,
         "_deepnote_index_column": 1562
        },
        {
         "density": 1.6501479746855245,
         "_deepnote_index_column": 1563
        },
        {
         "density": 1.4879130615481293,
         "_deepnote_index_column": 1564
        },
        {
         "density": 2.571637521651915,
         "_deepnote_index_column": 1565
        },
        {
         "density": 1.6196593753689634,
         "_deepnote_index_column": 1566
        },
        {
         "density": 0.47919093394032325,
         "_deepnote_index_column": 1567
        },
        {
         "density": 2.563455031164119,
         "_deepnote_index_column": 1568
        },
        {
         "density": 0.8144902215794089,
         "_deepnote_index_column": 1569
        },
        {
         "density": 1.7196897516016625,
         "_deepnote_index_column": 1570
        },
        {
         "density": 1.9635650493986616,
         "_deepnote_index_column": 1571
        },
        {
         "density": 2.0223985335685546,
         "_deepnote_index_column": 1572
        },
        {
         "density": 2.895012730012961,
         "_deepnote_index_column": 1573
        },
        {
         "density": 2.2859915670906856,
         "_deepnote_index_column": 1574
        },
        {
         "density": 3.0235158100032793,
         "_deepnote_index_column": 1575
        },
        {
         "density": 2.992204678995684,
         "_deepnote_index_column": 1576
        },
        {
         "density": 1.0755570989585674,
         "_deepnote_index_column": 1577
        },
        {
         "density": 0.7767565018203197,
         "_deepnote_index_column": 1578
        },
        {
         "density": 2.21405490163,
         "_deepnote_index_column": 1579
        },
        {
         "density": 2.224642581637321,
         "_deepnote_index_column": 1580
        },
        {
         "density": 2.972765703931795,
         "_deepnote_index_column": 1581
        },
        {
         "density": 3.146584718244355,
         "_deepnote_index_column": 1582
        },
        {
         "density": 2.0023023836204032,
         "_deepnote_index_column": 1583
        },
        {
         "density": 2.174487586511036,
         "_deepnote_index_column": 1584
        },
        {
         "density": 1.7925846111621322,
         "_deepnote_index_column": 1585
        },
        {
         "density": 2.699567719618164,
         "_deepnote_index_column": 1586
        },
        {
         "density": 2.112659333146614,
         "_deepnote_index_column": 1587
        },
        {
         "density": 1.6806323739172178,
         "_deepnote_index_column": 1588
        },
        {
         "density": 2.8563357729101315,
         "_deepnote_index_column": 1589
        },
        {
         "density": 3.7596536014615025,
         "_deepnote_index_column": 1590
        },
        {
         "density": 0.9365728803188738,
         "_deepnote_index_column": 1591
        },
        {
         "density": 3.6337024855819737,
         "_deepnote_index_column": 1592
        },
        {
         "density": 1.1446274823838147,
         "_deepnote_index_column": 1593
        },
        {
         "density": 1.9605135661701942,
         "_deepnote_index_column": 1594
        },
        {
         "density": 1.1084420605645104,
         "_deepnote_index_column": 1595
        },
        {
         "density": 2.961611081681886,
         "_deepnote_index_column": 1596
        },
        {
         "density": 1.6608172524756315,
         "_deepnote_index_column": 1597
        },
        {
         "density": 2.437631715926809,
         "_deepnote_index_column": 1598
        },
        {
         "density": 3.520578653295163,
         "_deepnote_index_column": 1599
        },
        {
         "density": 2.2282140334038307,
         "_deepnote_index_column": 1600
        },
        {
         "density": 1.278391582622574,
         "_deepnote_index_column": 1601
        },
        {
         "density": 1.2732370690184052,
         "_deepnote_index_column": 1602
        },
        {
         "density": 2.319196679254275,
         "_deepnote_index_column": 1603
        },
        {
         "density": 5.177179721159652,
         "_deepnote_index_column": 1604
        },
        {
         "density": 2.1454837590528486,
         "_deepnote_index_column": 1605
        },
        {
         "density": 0.7613597169895502,
         "_deepnote_index_column": 1606
        },
        {
         "density": 2.6157152713255982,
         "_deepnote_index_column": 1607
        },
        {
         "density": 2.350591176813421,
         "_deepnote_index_column": 1608
        },
        {
         "density": 2.2798485216436015,
         "_deepnote_index_column": 1609
        },
        {
         "density": 2.392730686259536,
         "_deepnote_index_column": 1610
        },
        {
         "density": 1.262094622902348,
         "_deepnote_index_column": 1611
        },
        {
         "density": 2.0879911597365015,
         "_deepnote_index_column": 1612
        },
        {
         "density": 2.032636189067324,
         "_deepnote_index_column": 1613
        },
        {
         "density": 1.8548974855986797,
         "_deepnote_index_column": 1614
        },
        {
         "density": 4.727229337144622,
         "_deepnote_index_column": 1615
        },
        {
         "density": 2.4479725956222724,
         "_deepnote_index_column": 1616
        },
        {
         "density": 4.111682279312737,
         "_deepnote_index_column": 1617
        },
        {
         "density": 4.167000225439301,
         "_deepnote_index_column": 1618
        },
        {
         "density": 5.0775874502306175,
         "_deepnote_index_column": 1619
        },
        {
         "density": 2.396393548991146,
         "_deepnote_index_column": 1620
        },
        {
         "density": 1.95535524790643,
         "_deepnote_index_column": 1621
        },
        {
         "density": 3.1162282836459765,
         "_deepnote_index_column": 1622
        },
        {
         "density": 2.3989589477184716,
         "_deepnote_index_column": 1623
        },
        {
         "density": 2.5864484417332085,
         "_deepnote_index_column": 1624
        },
        {
         "density": 1.6653957243503337,
         "_deepnote_index_column": 1625
        },
        {
         "density": 1.3666022351069544,
         "_deepnote_index_column": 1626
        },
        {
         "density": 2.5052128353425265,
         "_deepnote_index_column": 1627
        },
        {
         "density": 2.017670134504163,
         "_deepnote_index_column": 1628
        },
        {
         "density": 3.6695000919388345,
         "_deepnote_index_column": 1629
        },
        {
         "density": 2.3234395731537827,
         "_deepnote_index_column": 1630
        },
        {
         "density": 3.7535660045696213,
         "_deepnote_index_column": 1631
        },
        {
         "density": 1.434236264157669,
         "_deepnote_index_column": 1632
        },
        {
         "density": 1.6490366979044566,
         "_deepnote_index_column": 1633
        },
        {
         "density": 1.834829158503613,
         "_deepnote_index_column": 1634
        },
        {
         "density": 0.7156287642570253,
         "_deepnote_index_column": 1635
        },
        {
         "density": 1.452464566903718,
         "_deepnote_index_column": 1636
        },
        {
         "density": 2.346724600477274,
         "_deepnote_index_column": 1637
        },
        {
         "density": 4.259833942048289,
         "_deepnote_index_column": 1638
        },
        {
         "density": 2.0662695104815314,
         "_deepnote_index_column": 1639
        },
        {
         "density": 1.436740313629872,
         "_deepnote_index_column": 1640
        },
        {
         "density": 2.012665395821232,
         "_deepnote_index_column": 1641
        },
        {
         "density": 0.8262547285938022,
         "_deepnote_index_column": 1642
        },
        {
         "density": 1.2403613521344619,
         "_deepnote_index_column": 1643
        },
        {
         "density": 1.9888184136825133,
         "_deepnote_index_column": 1644
        },
        {
         "density": 1.7192381191585941,
         "_deepnote_index_column": 1645
        },
        {
         "density": 1.6205892538606563,
         "_deepnote_index_column": 1646
        },
        {
         "density": 2.5743704622933894,
         "_deepnote_index_column": 1647
        },
        {
         "density": 2.3935984514271,
         "_deepnote_index_column": 1648
        },
        {
         "density": 5.044004416942412,
         "_deepnote_index_column": 1649
        },
        {
         "density": 2.882523059061281,
         "_deepnote_index_column": 1650
        },
        {
         "density": 1.5239293834259922,
         "_deepnote_index_column": 1651
        },
        {
         "density": 2.7001823074890403,
         "_deepnote_index_column": 1652
        },
        {
         "density": 2.042520287444365,
         "_deepnote_index_column": 1653
        },
        {
         "density": 2.1246013244528617,
         "_deepnote_index_column": 1654
        },
        {
         "density": 2.0530130633683226,
         "_deepnote_index_column": 1655
        },
        {
         "density": 1.690243540608165,
         "_deepnote_index_column": 1656
        },
        {
         "density": 2.7136179586666103,
         "_deepnote_index_column": 1657
        },
        {
         "density": 1.9468353951363537,
         "_deepnote_index_column": 1658
        },
        {
         "density": 1.6264514679965008,
         "_deepnote_index_column": 1659
        },
        {
         "density": 2.887429530117582,
         "_deepnote_index_column": 1660
        },
        {
         "density": 1.2911640662386403,
         "_deepnote_index_column": 1661
        },
        {
         "density": 2.8762478343158557,
         "_deepnote_index_column": 1662
        },
        {
         "density": 3.560052472286091,
         "_deepnote_index_column": 1663
        },
        {
         "density": 2.9578289649872764,
         "_deepnote_index_column": 1664
        },
        {
         "density": 1.2327276041446973,
         "_deepnote_index_column": 1665
        },
        {
         "density": 4.252257645191349,
         "_deepnote_index_column": 1666
        },
        {
         "density": 1.6208003411787477,
         "_deepnote_index_column": 1667
        },
        {
         "density": 2.429821390059257,
         "_deepnote_index_column": 1668
        },
        {
         "density": 1.2826767867069226,
         "_deepnote_index_column": 1669
        },
        {
         "density": 3.658301377134867,
         "_deepnote_index_column": 1670
        },
        {
         "density": 3.1874763485446724,
         "_deepnote_index_column": 1671
        },
        {
         "density": 2.2061637797126505,
         "_deepnote_index_column": 1672
        },
        {
         "density": 2.4176428433115498,
         "_deepnote_index_column": 1673
        },
        {
         "density": 1.6800690297991165,
         "_deepnote_index_column": 1674
        },
        {
         "density": 3.3162629067939458,
         "_deepnote_index_column": 1675
        },
        {
         "density": 2.866567105271296,
         "_deepnote_index_column": 1676
        },
        {
         "density": 2.4753013992460686,
         "_deepnote_index_column": 1677
        },
        {
         "density": 2.0076461940010364,
         "_deepnote_index_column": 1678
        },
        {
         "density": 1.56989127916425,
         "_deepnote_index_column": 1679
        },
        {
         "density": 1.7094733731499174,
         "_deepnote_index_column": 1680
        },
        {
         "density": 0.8099242134523208,
         "_deepnote_index_column": 1681
        },
        {
         "density": 2.5399602057844093,
         "_deepnote_index_column": 1682
        },
        {
         "density": 0.6068632191242948,
         "_deepnote_index_column": 1683
        },
        {
         "density": 2.738361712907196,
         "_deepnote_index_column": 1684
        },
        {
         "density": 1.895524195751934,
         "_deepnote_index_column": 1685
        },
        {
         "density": 1.6496650486438262,
         "_deepnote_index_column": 1686
        },
        {
         "density": 2.7229468298851156,
         "_deepnote_index_column": 1687
        },
        {
         "density": 1.2154277022438538,
         "_deepnote_index_column": 1688
        },
        {
         "density": 2.330457677176858,
         "_deepnote_index_column": 1689
        },
        {
         "density": 1.8969821305293435,
         "_deepnote_index_column": 1690
        },
        {
         "density": 1.6783689508299342,
         "_deepnote_index_column": 1691
        },
        {
         "density": 1.6171559755580152,
         "_deepnote_index_column": 1692
        },
        {
         "density": 1.519715715776426,
         "_deepnote_index_column": 1693
        },
        {
         "density": 2.124794759038079,
         "_deepnote_index_column": 1694
        },
        {
         "density": 2.3884340404408917,
         "_deepnote_index_column": 1695
        },
        {
         "density": 2.8418016450811856,
         "_deepnote_index_column": 1696
        },
        {
         "density": 1.8099375974282816,
         "_deepnote_index_column": 1697
        },
        {
         "density": 1.8433868082671878,
         "_deepnote_index_column": 1698
        },
        {
         "density": 1.0890817260800998,
         "_deepnote_index_column": 1699
        },
        {
         "density": 1.6267377221362778,
         "_deepnote_index_column": 1700
        },
        {
         "density": 0.6181784598415163,
         "_deepnote_index_column": 1701
        },
        {
         "density": 1.89267387548286,
         "_deepnote_index_column": 1702
        },
        {
         "density": 2.228593151580625,
         "_deepnote_index_column": 1703
        },
        {
         "density": 1.3349095535533786,
         "_deepnote_index_column": 1704
        },
        {
         "density": 1.173110161615067,
         "_deepnote_index_column": 1705
        },
        {
         "density": 2.173569190404509,
         "_deepnote_index_column": 1706
        },
        {
         "density": 1.3447728717647844,
         "_deepnote_index_column": 1707
        },
        {
         "density": 2.505479097473219,
         "_deepnote_index_column": 1708
        },
        {
         "density": 2.0128117793982283,
         "_deepnote_index_column": 1709
        },
        {
         "density": 1.500319222971543,
         "_deepnote_index_column": 1710
        },
        {
         "density": 2.5736566077696907,
         "_deepnote_index_column": 1711
        },
        {
         "density": 1.365642370173229,
         "_deepnote_index_column": 1712
        },
        {
         "density": 2.4005416736190788,
         "_deepnote_index_column": 1713
        },
        {
         "density": 1.4991826926053122,
         "_deepnote_index_column": 1714
        },
        {
         "density": 2.7635457866381166,
         "_deepnote_index_column": 1715
        },
        {
         "density": 2.2270362944463864,
         "_deepnote_index_column": 1716
        },
        {
         "density": 1.90672942908253,
         "_deepnote_index_column": 1717
        },
        {
         "density": 0.7488827756519882,
         "_deepnote_index_column": 1718
        },
        {
         "density": 1.9667955060525442,
         "_deepnote_index_column": 1719
        },
        {
         "density": 1.0763564864074655,
         "_deepnote_index_column": 1720
        },
        {
         "density": 2.375762402193673,
         "_deepnote_index_column": 1721
        },
        {
         "density": 2.273552360051547,
         "_deepnote_index_column": 1722
        },
        {
         "density": 2.7622750443286885,
         "_deepnote_index_column": 1723
        },
        {
         "density": 2.5744507218487915,
         "_deepnote_index_column": 1724
        },
        {
         "density": 1.7062238133112342,
         "_deepnote_index_column": 1725
        },
        {
         "density": 1.772360365995095,
         "_deepnote_index_column": 1726
        },
        {
         "density": 1.5985158583414836,
         "_deepnote_index_column": 1727
        },
        {
         "density": 5.212709037403423,
         "_deepnote_index_column": 1728
        },
        {
         "density": 3.544875984619559,
         "_deepnote_index_column": 1729
        },
        {
         "density": 1.5359915092710705,
         "_deepnote_index_column": 1730
        },
        {
         "density": 2.1576107565577107,
         "_deepnote_index_column": 1731
        },
        {
         "density": 2.6837216988464876,
         "_deepnote_index_column": 1732
        },
        {
         "density": 1.853899468786565,
         "_deepnote_index_column": 1733
        },
        {
         "density": 0.6811612281827519,
         "_deepnote_index_column": 1734
        },
        {
         "density": 2.451359286496969,
         "_deepnote_index_column": 1735
        },
        {
         "density": 2.8093237361104726,
         "_deepnote_index_column": 1736
        },
        {
         "density": 2.915364730099646,
         "_deepnote_index_column": 1737
        },
        {
         "density": 1.5825388250551335,
         "_deepnote_index_column": 1738
        },
        {
         "density": 2.045614610689265,
         "_deepnote_index_column": 1739
        },
        {
         "density": 2.004309945573125,
         "_deepnote_index_column": 1740
        },
        {
         "density": 2.5351050851510317,
         "_deepnote_index_column": 1741
        },
        {
         "density": 1.9721356486581705,
         "_deepnote_index_column": 1742
        },
        {
         "density": 1.3080142284152327,
         "_deepnote_index_column": 1743
        },
        {
         "density": 1.5383986664082017,
         "_deepnote_index_column": 1744
        },
        {
         "density": 2.5319609529632685,
         "_deepnote_index_column": 1745
        },
        {
         "density": 0.7803106155636221,
         "_deepnote_index_column": 1746
        },
        {
         "density": 1.104608843319655,
         "_deepnote_index_column": 1747
        },
        {
         "density": 2.655708735984631,
         "_deepnote_index_column": 1748
        },
        {
         "density": 4.4223282568954465,
         "_deepnote_index_column": 1749
        },
        {
         "density": 2.1911532723219285,
         "_deepnote_index_column": 1750
        },
        {
         "density": 3.841947547156533,
         "_deepnote_index_column": 1751
        },
        {
         "density": 1.4412183038343922,
         "_deepnote_index_column": 1752
        },
        {
         "density": 3.6032911849360874,
         "_deepnote_index_column": 1753
        },
        {
         "density": 1.3077912701347698,
         "_deepnote_index_column": 1754
        },
        {
         "density": 3.4419628662776143,
         "_deepnote_index_column": 1755
        },
        {
         "density": 2.6599093245707413,
         "_deepnote_index_column": 1756
        },
        {
         "density": 2.0095636943994615,
         "_deepnote_index_column": 1757
        },
        {
         "density": 2.6935816915888706,
         "_deepnote_index_column": 1758
        },
        {
         "density": 2.3440175787262616,
         "_deepnote_index_column": 1759
        },
        {
         "density": 1.5910805641301715,
         "_deepnote_index_column": 1760
        },
        {
         "density": 0.6033519733652987,
         "_deepnote_index_column": 1761
        },
        {
         "density": 0.8408632551049812,
         "_deepnote_index_column": 1762
        },
        {
         "density": 2.328007655171297,
         "_deepnote_index_column": 1763
        },
        {
         "density": 1.3543943204155,
         "_deepnote_index_column": 1764
        },
        {
         "density": 1.5591629399672144,
         "_deepnote_index_column": 1765
        },
        {
         "density": 2.9185162673188043,
         "_deepnote_index_column": 1766
        },
        {
         "density": 3.2648184450798183,
         "_deepnote_index_column": 1767
        },
        {
         "density": 3.1824413631678485,
         "_deepnote_index_column": 1768
        },
        {
         "density": 5.508028940622065,
         "_deepnote_index_column": 1769
        },
        {
         "density": 2.4878468926402855,
         "_deepnote_index_column": 1770
        },
        {
         "density": 1.9657622985982006,
         "_deepnote_index_column": 1771
        },
        {
         "density": 3.9984334340404324,
         "_deepnote_index_column": 1772
        },
        {
         "density": 2.1168873369945183,
         "_deepnote_index_column": 1773
        },
        {
         "density": 1.6113058013263086,
         "_deepnote_index_column": 1774
        },
        {
         "density": 3.3769404093854978,
         "_deepnote_index_column": 1775
        },
        {
         "density": 2.390863754601055,
         "_deepnote_index_column": 1776
        },
        {
         "density": 1.9253652369769405,
         "_deepnote_index_column": 1777
        },
        {
         "density": 5.021699637516971,
         "_deepnote_index_column": 1778
        },
        {
         "density": 5.261729154404605,
         "_deepnote_index_column": 1779
        },
        {
         "density": 1.7419673237724338,
         "_deepnote_index_column": 1780
        },
        {
         "density": 1.3678518200456007,
         "_deepnote_index_column": 1781
        },
        {
         "density": 2.8971404855175686,
         "_deepnote_index_column": 1782
        },
        {
         "density": 2.5792766344602547,
         "_deepnote_index_column": 1783
        },
        {
         "density": 0.9989491545514184,
         "_deepnote_index_column": 1784
        },
        {
         "density": 2.452963935182006,
         "_deepnote_index_column": 1785
        },
        {
         "density": 0.47109393663543553,
         "_deepnote_index_column": 1786
        },
        {
         "density": 0.8491363358031959,
         "_deepnote_index_column": 1787
        },
        {
         "density": 1.891900462826158,
         "_deepnote_index_column": 1788
        },
        {
         "density": 2.1369984572496556,
         "_deepnote_index_column": 1789
        },
        {
         "density": 2.4864359617240046,
         "_deepnote_index_column": 1790
        },
        {
         "density": 1.9527193458371477,
         "_deepnote_index_column": 1791
        },
        {
         "density": 2.5439256597491107,
         "_deepnote_index_column": 1792
        },
        {
         "density": 0.5184018521204125,
         "_deepnote_index_column": 1793
        },
        {
         "density": 3.171773737566494,
         "_deepnote_index_column": 1794
        },
        {
         "density": 3.390172010887633,
         "_deepnote_index_column": 1795
        },
        {
         "density": 1.7301805655209177,
         "_deepnote_index_column": 1796
        },
        {
         "density": 0.8007333222780432,
         "_deepnote_index_column": 1797
        },
        {
         "density": 1.8281398368557302,
         "_deepnote_index_column": 1798
        },
        {
         "density": 1.806595478617182,
         "_deepnote_index_column": 1799
        },
        {
         "density": 2.598843288931749,
         "_deepnote_index_column": 1800
        },
        {
         "density": 1.1786841051692725,
         "_deepnote_index_column": 1801
        },
        {
         "density": 0.9801877173745188,
         "_deepnote_index_column": 1802
        },
        {
         "density": 1.1522274986454422,
         "_deepnote_index_column": 1803
        },
        {
         "density": 1.4837315048917952,
         "_deepnote_index_column": 1804
        },
        {
         "density": 1.8042590821983686,
         "_deepnote_index_column": 1805
        },
        {
         "density": 2.521995771843495,
         "_deepnote_index_column": 1806
        },
        {
         "density": 2.5099115878977742,
         "_deepnote_index_column": 1807
        },
        {
         "density": 1.4228783440356951,
         "_deepnote_index_column": 1808
        },
        {
         "density": 1.4451668656976897,
         "_deepnote_index_column": 1809
        },
        {
         "density": 1.4704209432026307,
         "_deepnote_index_column": 1810
        },
        {
         "density": 2.193473252386319,
         "_deepnote_index_column": 1811
        },
        {
         "density": 3.2918491467745885,
         "_deepnote_index_column": 1812
        },
        {
         "density": 1.714033158394137,
         "_deepnote_index_column": 1813
        },
        {
         "density": 5.995398507197425,
         "_deepnote_index_column": 1814
        },
        {
         "density": 3.380604397807125,
         "_deepnote_index_column": 1815
        },
        {
         "density": 3.9763118147879437,
         "_deepnote_index_column": 1816
        },
        {
         "density": 3.094287470947398,
         "_deepnote_index_column": 1817
        },
        {
         "density": 1.0533489388355937,
         "_deepnote_index_column": 1818
        },
        {
         "density": 1.9305768447512277,
         "_deepnote_index_column": 1819
        },
        {
         "density": 1.6967062523817067,
         "_deepnote_index_column": 1820
        },
        {
         "density": 2.4106528647115044,
         "_deepnote_index_column": 1821
        },
        {
         "density": 0.7113052988569446,
         "_deepnote_index_column": 1822
        },
        {
         "density": 0.817895488324438,
         "_deepnote_index_column": 1823
        },
        {
         "density": 1.2128983057861011,
         "_deepnote_index_column": 1824
        },
        {
         "density": 1.1734313529624631,
         "_deepnote_index_column": 1825
        },
        {
         "density": 2.5212371410992893,
         "_deepnote_index_column": 1826
        },
        {
         "density": 2.2334752199425365,
         "_deepnote_index_column": 1827
        },
        {
         "density": 1.5019098910228459,
         "_deepnote_index_column": 1828
        },
        {
         "density": 3.02584619897539,
         "_deepnote_index_column": 1829
        },
        {
         "density": 1.57901390524825,
         "_deepnote_index_column": 1830
        },
        {
         "density": 0.6832704063065611,
         "_deepnote_index_column": 1831
        },
        {
         "density": 2.846819533777464,
         "_deepnote_index_column": 1832
        },
        {
         "density": 1.483365041871316,
         "_deepnote_index_column": 1833
        },
        {
         "density": 2.3045409204525087,
         "_deepnote_index_column": 1834
        },
        {
         "density": 1.8884183562679966,
         "_deepnote_index_column": 1835
        },
        {
         "density": 1.812886566677598,
         "_deepnote_index_column": 1836
        },
        {
         "density": 1.6288274167339354,
         "_deepnote_index_column": 1837
        },
        {
         "density": 4.165003787446011,
         "_deepnote_index_column": 1838
        },
        {
         "density": 1.849794809590879,
         "_deepnote_index_column": 1839
        },
        {
         "density": 3.0369355644984912,
         "_deepnote_index_column": 1840
        },
        {
         "density": 5.286650075905905,
         "_deepnote_index_column": 1841
        },
        {
         "density": 4.6924682609173445,
         "_deepnote_index_column": 1842
        },
        {
         "density": 2.528934679621649,
         "_deepnote_index_column": 1843
        },
        {
         "density": 1.6861598254629493,
         "_deepnote_index_column": 1844
        },
        {
         "density": 4.430795851167289,
         "_deepnote_index_column": 1845
        },
        {
         "density": 3.1645838157031023,
         "_deepnote_index_column": 1846
        },
        {
         "density": 2.716943098314132,
         "_deepnote_index_column": 1847
        },
        {
         "density": 1.2959346459274994,
         "_deepnote_index_column": 1848
        },
        {
         "density": 3.5752219736542683,
         "_deepnote_index_column": 1849
        },
        {
         "density": 1.8173900353108434,
         "_deepnote_index_column": 1850
        },
        {
         "density": 0.820301150398758,
         "_deepnote_index_column": 1851
        },
        {
         "density": 1.198081991486876,
         "_deepnote_index_column": 1852
        },
        {
         "density": 1.2732423579093635,
         "_deepnote_index_column": 1853
        },
        {
         "density": 1.3977190808596287,
         "_deepnote_index_column": 1854
        },
        {
         "density": 0.6633622329702984,
         "_deepnote_index_column": 1855
        },
        {
         "density": 2.555134950297164,
         "_deepnote_index_column": 1856
        },
        {
         "density": 1.940890492828074,
         "_deepnote_index_column": 1857
        },
        {
         "density": 1.1840797454545133,
         "_deepnote_index_column": 1858
        },
        {
         "density": 1.8931375494796874,
         "_deepnote_index_column": 1859
        },
        {
         "density": 1.086528231124262,
         "_deepnote_index_column": 1860
        },
        {
         "density": 1.8488884036545032,
         "_deepnote_index_column": 1861
        },
        {
         "density": 2.4185469428185047,
         "_deepnote_index_column": 1862
        },
        {
         "density": 1.222741505294927,
         "_deepnote_index_column": 1863
        },
        {
         "density": 1.2241421880418208,
         "_deepnote_index_column": 1864
        },
        {
         "density": 3.2396837003954295,
         "_deepnote_index_column": 1865
        },
        {
         "density": 1.973705897329743,
         "_deepnote_index_column": 1866
        },
        {
         "density": 2.465102495117157,
         "_deepnote_index_column": 1867
        },
        {
         "density": 3.590833487636453,
         "_deepnote_index_column": 1868
        },
        {
         "density": 2.079499808033758,
         "_deepnote_index_column": 1869
        },
        {
         "density": 3.321118001578853,
         "_deepnote_index_column": 1870
        },
        {
         "density": 2.27803523018475,
         "_deepnote_index_column": 1871
        },
        {
         "density": 1.7290359160704891,
         "_deepnote_index_column": 1872
        },
        {
         "density": 2.325242362430393,
         "_deepnote_index_column": 1873
        },
        {
         "density": 1.5399436753620268,
         "_deepnote_index_column": 1874
        },
        {
         "density": 1.0354727374024233,
         "_deepnote_index_column": 1875
        },
        {
         "density": 1.827701279915147,
         "_deepnote_index_column": 1876
        },
        {
         "density": 1.5454554990505718,
         "_deepnote_index_column": 1877
        },
        {
         "density": 3.18589183819817,
         "_deepnote_index_column": 1878
        },
        {
         "density": 2.2233789225042493,
         "_deepnote_index_column": 1879
        },
        {
         "density": 2.082424289874622,
         "_deepnote_index_column": 1880
        },
        {
         "density": 2.722443071314263,
         "_deepnote_index_column": 1881
        },
        {
         "density": 4.961000799511284,
         "_deepnote_index_column": 1882
        },
        {
         "density": 0.6405337467668036,
         "_deepnote_index_column": 1883
        },
        {
         "density": 1.5734515358814076,
         "_deepnote_index_column": 1884
        },
        {
         "density": 2.3044378217343566,
         "_deepnote_index_column": 1885
        },
        {
         "density": 1.9647821110149568,
         "_deepnote_index_column": 1886
        },
        {
         "density": 1.6315119012179968,
         "_deepnote_index_column": 1887
        },
        {
         "density": 1.910088065390484,
         "_deepnote_index_column": 1888
        },
        {
         "density": 2.995447997647363,
         "_deepnote_index_column": 1889
        },
        {
         "density": 2.4244226276157583,
         "_deepnote_index_column": 1890
        },
        {
         "density": 1.8038531755552858,
         "_deepnote_index_column": 1891
        },
        {
         "density": 2.1781530197581067,
         "_deepnote_index_column": 1892
        },
        {
         "density": 2.047418059284189,
         "_deepnote_index_column": 1893
        },
        {
         "density": 2.404564911839191,
         "_deepnote_index_column": 1894
        },
        {
         "density": 1.5423800931506326,
         "_deepnote_index_column": 1895
        },
        {
         "density": 1.6156879111668567,
         "_deepnote_index_column": 1896
        },
        {
         "density": 1.1665080221134745,
         "_deepnote_index_column": 1897
        },
        {
         "density": 0.8135222209716558,
         "_deepnote_index_column": 1898
        },
        {
         "density": 5.407671991763336,
         "_deepnote_index_column": 1899
        },
        {
         "density": 2.9189087841324763,
         "_deepnote_index_column": 1900
        },
        {
         "density": 2.318718630548546,
         "_deepnote_index_column": 1901
        },
        {
         "density": 3.872344103250293,
         "_deepnote_index_column": 1902
        },
        {
         "density": 0.6335207608104348,
         "_deepnote_index_column": 1903
        },
        {
         "density": 2.342642846716396,
         "_deepnote_index_column": 1904
        },
        {
         "density": 0.6536408051411633,
         "_deepnote_index_column": 1905
        },
        {
         "density": 3.7571604913527716,
         "_deepnote_index_column": 1906
        },
        {
         "density": 2.1824594337934884,
         "_deepnote_index_column": 1907
        },
        {
         "density": 0.7176980771862816,
         "_deepnote_index_column": 1908
        },
        {
         "density": 3.6568192078593187,
         "_deepnote_index_column": 1909
        },
        {
         "density": 1.2993932860792736,
         "_deepnote_index_column": 1910
        },
        {
         "density": 1.3196018563645227,
         "_deepnote_index_column": 1911
        },
        {
         "density": 1.0257314890477325,
         "_deepnote_index_column": 1912
        },
        {
         "density": 2.4865409729816053,
         "_deepnote_index_column": 1913
        },
        {
         "density": 2.951427357621876,
         "_deepnote_index_column": 1914
        },
        {
         "density": 1.2410420942773046,
         "_deepnote_index_column": 1915
        },
        {
         "density": 0.8265812653802335,
         "_deepnote_index_column": 1916
        },
        {
         "density": 2.6649235664487927,
         "_deepnote_index_column": 1917
        },
        {
         "density": 1.5718210320293116,
         "_deepnote_index_column": 1918
        },
        {
         "density": 1.7406019175833811,
         "_deepnote_index_column": 1919
        },
        {
         "density": 2.86709059593527,
         "_deepnote_index_column": 1920
        },
        {
         "density": 1.9663720105160647,
         "_deepnote_index_column": 1921
        },
        {
         "density": 2.690631691604532,
         "_deepnote_index_column": 1922
        },
        {
         "density": 0.8691312818125254,
         "_deepnote_index_column": 1923
        },
        {
         "density": 1.6132711165406872,
         "_deepnote_index_column": 1924
        },
        {
         "density": 2.6298942432082817,
         "_deepnote_index_column": 1925
        },
        {
         "density": 0.8271374790869851,
         "_deepnote_index_column": 1926
        },
        {
         "density": 2.10313473563976,
         "_deepnote_index_column": 1927
        },
        {
         "density": 1.1444684986467493,
         "_deepnote_index_column": 1928
        },
        {
         "density": 1.2194712159453116,
         "_deepnote_index_column": 1929
        },
        {
         "density": 3.1289976904300905,
         "_deepnote_index_column": 1930
        },
        {
         "density": 3.046619997199982,
         "_deepnote_index_column": 1931
        },
        {
         "density": 3.270924124732819,
         "_deepnote_index_column": 1932
        },
        {
         "density": 2.0277373644031296,
         "_deepnote_index_column": 1933
        },
        {
         "density": 1.9089685871642177,
         "_deepnote_index_column": 1934
        },
        {
         "density": 0.8562404679316882,
         "_deepnote_index_column": 1935
        },
        {
         "density": 2.665624238914341,
         "_deepnote_index_column": 1936
        },
        {
         "density": 2.8150546356638313,
         "_deepnote_index_column": 1937
        },
        {
         "density": 2.1361735845687826,
         "_deepnote_index_column": 1938
        },
        {
         "density": 1.8447586900003217,
         "_deepnote_index_column": 1939
        },
        {
         "density": 2.8482349278397407,
         "_deepnote_index_column": 1940
        },
        {
         "density": 1.5204282250837609,
         "_deepnote_index_column": 1941
        },
        {
         "density": 1.6552576088554765,
         "_deepnote_index_column": 1942
        },
        {
         "density": 2.853715434012988,
         "_deepnote_index_column": 1943
        },
        {
         "density": 1.5758490813747728,
         "_deepnote_index_column": 1944
        },
        {
         "density": 1.4945939743281087,
         "_deepnote_index_column": 1945
        },
        {
         "density": 3.6520015154463796,
         "_deepnote_index_column": 1946
        },
        {
         "density": 1.6852806315166746,
         "_deepnote_index_column": 1947
        },
        {
         "density": 2.6811955289741896,
         "_deepnote_index_column": 1948
        },
        {
         "density": 1.5628173384729158,
         "_deepnote_index_column": 1949
        },
        {
         "density": 1.3550381587934932,
         "_deepnote_index_column": 1950
        },
        {
         "density": 3.133627963222466,
         "_deepnote_index_column": 1951
        },
        {
         "density": 2.896175512114212,
         "_deepnote_index_column": 1952
        },
        {
         "density": 0.5527221112832953,
         "_deepnote_index_column": 1953
        },
        {
         "density": 2.0790002281169224,
         "_deepnote_index_column": 1954
        },
        {
         "density": 4.973248330758996,
         "_deepnote_index_column": 1955
        },
        {
         "density": 1.8950882576640529,
         "_deepnote_index_column": 1956
        },
        {
         "density": 1.3742379307423556,
         "_deepnote_index_column": 1957
        },
        {
         "density": 1.3966613803257655,
         "_deepnote_index_column": 1958
        },
        {
         "density": 2.8581364742910593,
         "_deepnote_index_column": 1959
        },
        {
         "density": 1.6330789426887449,
         "_deepnote_index_column": 1960
        },
        {
         "density": 0.9265246056587029,
         "_deepnote_index_column": 1961
        },
        {
         "density": 1.3532078075223217,
         "_deepnote_index_column": 1962
        },
        {
         "density": 5.3195558446427516,
         "_deepnote_index_column": 1963
        },
        {
         "density": 1.3333392368140724,
         "_deepnote_index_column": 1964
        },
        {
         "density": 2.884845495070816,
         "_deepnote_index_column": 1965
        },
        {
         "density": 3.0452325440246595,
         "_deepnote_index_column": 1966
        },
        {
         "density": 0.6306251665632291,
         "_deepnote_index_column": 1967
        },
        {
         "density": 1.4837108707267805,
         "_deepnote_index_column": 1968
        },
        {
         "density": 2.298046007002337,
         "_deepnote_index_column": 1969
        },
        {
         "density": 1.225844929326658,
         "_deepnote_index_column": 1970
        },
        {
         "density": 0.8022125883160773,
         "_deepnote_index_column": 1971
        },
        {
         "density": 1.1021183320718086,
         "_deepnote_index_column": 1972
        },
        {
         "density": 1.736143194102603,
         "_deepnote_index_column": 1973
        },
        {
         "density": 2.1943280049424634,
         "_deepnote_index_column": 1974
        },
        {
         "density": 3.994810000929802,
         "_deepnote_index_column": 1975
        },
        {
         "density": 3.003174931167312,
         "_deepnote_index_column": 1976
        },
        {
         "density": 4.107589837323352,
         "_deepnote_index_column": 1977
        },
        {
         "density": 0.46748283941525803,
         "_deepnote_index_column": 1978
        },
        {
         "density": 2.182167987389333,
         "_deepnote_index_column": 1979
        },
        {
         "density": 2.358746445607843,
         "_deepnote_index_column": 1980
        },
        {
         "density": 1.6726798462065644,
         "_deepnote_index_column": 1981
        },
        {
         "density": 2.2019941402629812,
         "_deepnote_index_column": 1982
        },
        {
         "density": 2.072436981531311,
         "_deepnote_index_column": 1983
        },
        {
         "density": 4.313933282587705,
         "_deepnote_index_column": 1984
        },
        {
         "density": 2.320612962865187,
         "_deepnote_index_column": 1985
        },
        {
         "density": 1.7126652649882153,
         "_deepnote_index_column": 1986
        },
        {
         "density": 2.5536289298162034,
         "_deepnote_index_column": 1987
        },
        {
         "density": 3.0909178721142245,
         "_deepnote_index_column": 1988
        },
        {
         "density": 1.469477245474598,
         "_deepnote_index_column": 1989
        },
        {
         "density": 2.9523481198295043,
         "_deepnote_index_column": 1990
        },
        {
         "density": 2.0789484283024917,
         "_deepnote_index_column": 1991
        },
        {
         "density": 2.375160057624075,
         "_deepnote_index_column": 1992
        },
        {
         "density": 0.6726092535900404,
         "_deepnote_index_column": 1993
        },
        {
         "density": 1.3727776784117216,
         "_deepnote_index_column": 1994
        },
        {
         "density": 2.2120301471313617,
         "_deepnote_index_column": 1995
        },
        {
         "density": 1.950456348631579,
         "_deepnote_index_column": 1996
        },
        {
         "density": 1.1402494966830112,
         "_deepnote_index_column": 1997
        },
        {
         "density": 2.262239182787281,
         "_deepnote_index_column": 1998
        },
        {
         "density": 3.9418062745392417,
         "_deepnote_index_column": 1999
        },
        {
         "density": 0.6838379590138149,
         "_deepnote_index_column": 2000
        }
       ]
      },
      "text/plain": "             density\nUnnamed: 0          \n1           1.666998\n2           1.214611\n3           1.141007\n4           1.543144\n5           0.660375\n...              ...\n1996        1.950456\n1997        1.140249\n1998        2.262239\n1999        3.941806\n2000        0.683838\n\n[2000 rows x 1 columns]",
      "text/html": "<div>\n<style scoped>\n    .dataframe tbody tr th:only-of-type {\n        vertical-align: middle;\n    }\n\n    .dataframe tbody tr th {\n        vertical-align: top;\n    }\n\n    .dataframe thead th {\n        text-align: right;\n    }\n</style>\n<table border=\"1\" class=\"dataframe\">\n  <thead>\n    <tr style=\"text-align: right;\">\n      <th></th>\n      <th>density</th>\n    </tr>\n    <tr>\n      <th>Unnamed: 0</th>\n      <th></th>\n    </tr>\n  </thead>\n  <tbody>\n    <tr>\n      <th>1</th>\n      <td>1.666998</td>\n    </tr>\n    <tr>\n      <th>2</th>\n      <td>1.214611</td>\n    </tr>\n    <tr>\n      <th>3</th>\n      <td>1.141007</td>\n    </tr>\n    <tr>\n      <th>4</th>\n      <td>1.543144</td>\n    </tr>\n    <tr>\n      <th>5</th>\n      <td>0.660375</td>\n    </tr>\n    <tr>\n      <th>...</th>\n      <td>...</td>\n    </tr>\n    <tr>\n      <th>1996</th>\n      <td>1.950456</td>\n    </tr>\n    <tr>\n      <th>1997</th>\n      <td>1.140249</td>\n    </tr>\n    <tr>\n      <th>1998</th>\n      <td>2.262239</td>\n    </tr>\n    <tr>\n      <th>1999</th>\n      <td>3.941806</td>\n    </tr>\n    <tr>\n      <th>2000</th>\n      <td>0.683838</td>\n    </tr>\n  </tbody>\n</table>\n<p>2000 rows × 1 columns</p>\n</div>"
     },
     "metadata": {}
    }
   ],
   "execution_count": 11
  },
  {
   "cell_type": "code",
   "metadata": {
    "tags": [],
    "deepnote_to_be_reexecuted": false,
    "source_hash": "1eb937cb",
    "execution_start": 1632659225389,
    "execution_millis": 785,
    "cell_id": "00015-6e429b34-eee0-4f86-a9a5-dde1480edc52",
    "deepnote_cell_type": "code"
   },
   "source": "from xgboost import XGBRegressor\nfrom lightgbm import LGBMRegressor\nfrom sklearn.ensemble import (\n    VotingRegressor,\n    StackingRegressor,\n    RandomForestRegressor,\n    GradientBoostingRegressor\n)\nfrom sklearn.linear_model import Lasso",
   "outputs": [],
   "execution_count": 12
  },
  {
   "cell_type": "code",
   "metadata": {
    "tags": [],
    "cell_id": "00016-ad0f0f9e-303a-4d35-8a23-27601d771380",
    "deepnote_to_be_reexecuted": false,
    "source_hash": "40a52b65",
    "execution_start": 1632659226183,
    "execution_millis": 7,
    "deepnote_cell_type": "code"
   },
   "source": "class RmseMetric(object):\n    def get_final_error(self, error, weight):\n        return np.sqrt(error / (weight + 1e-38))\n\n    def is_max_optimal(self):\n        return False\n\n    def evaluate(self, approxes, target, weight):\n        assert len(approxes) == 1\n        assert len(target) == len(approxes[0])\n\n        approx = approxes[0]\n\n        error_sum = 0.0\n        weight_sum = 0.0\n\n        for i in range(len(approx)):\n            w = 1.0 if weight is None else weight[i]\n            weight_sum += w\n            error_sum += w * ((approx[i] - target[i])**2)\n\n        return error_sum, weight_sum",
   "outputs": [],
   "execution_count": 13
  },
  {
   "cell_type": "code",
   "metadata": {
    "tags": [],
    "deepnote_to_be_reexecuted": false,
    "source_hash": "6f021658",
    "execution_start": 1632659226196,
    "execution_millis": 1987319,
    "cell_id": "00016-b225fe1a-1683-46f8-a4fe-f3736d25e4f4",
    "deepnote_cell_type": "code"
   },
   "source": "def log_mean_absolute_error(y_true, y_pred):\n    return np.log(mean_absolute_error(y_true, y_pred))\n\n\ndef fit_catboost(X, y):\n    catboost = CatBoostRegressor(\n        iterations=5000,\n        verbose=False,\n        # loss_function=\"MAE\"\n        # l2_leaf_reg=0.001\n    )\n    catboost.fit(X, y)\n    return catboost\n\n\ndef fit_xgboost(X, y):\n    reg = XGBRegressor()\n    reg.fit(X.values, y.values)\n    return reg\n\n\ndef fit_lightboost(X, y):\n    reg = LGBMRegressor()\n    reg.fit(X.values, y.values)\n    return reg\n\n\ndef fit_voting(X, y):\n    reg = VotingRegressor(\n        [\n            ('cat', CatBoostRegressor(\n                    iterations=5000,\n                    grow_policy='Lossguide',\n                    verbose=False,\n                    # depth=14\n                    # l2_leaf_reg=0.001\n                )\n            ),\n            ('xgb', XGBRegressor(\n                    grow_policy='lossguide',\n                    # tree_method='exact'\n                    max_depth=14\n                )\n            ),\n            # ('gb', GradientBoostingRegressor())\n        ]\n    )\n    reg.fit(X.values, y.values)\n    return reg\n\n\nfit_models = [fit_voting]\n# kf = KFold(n_splits=5, shuffle=True, random_state=1234)\nkf = RepeatedKFold(n_splits=5, n_repeats=10, random_state=1234)\n# kf = RepeatedStratifiedKFold(n_splits=5, n_repeats=10, random_state=1234)\nfit_results = {}\nfor k, (train_index, test_index) in enumerate(kf.split(train.X)):\n    print(f\"K Fold: {k + 1}\")\n    print(\"TRAIN:\", train_index, \"TEST:\", test_index)\n    X_train, X_test = train.X.iloc[train_index], train.X.iloc[test_index]\n    y_train, y_test = train.y.iloc[train_index], train.y.iloc[test_index]\n    \n    for fit_model in fit_models:\n        model_name = '_'.join(fit_model.__name__.split('fit_')[1:])\n        model_result_path = f\"model_results/{model_name}\"\n        model_checkpoint = f\"model_results/{model_name}/fold_{k+1}.pickle\"\n        \n        if not os.path.exists(model_result_path):\n            os.makedirs(model_result_path)\n        if model_name not in fit_results:\n            fit_results[model_name] = []\n        if os.path.isfile(model_checkpoint):\n            print(\"Found trained model\")\n            with open(model_checkpoint, 'rb') as f:\n                model = pickle.load(f)\n\n        else:\n            model = fit_model(X_train, y_train)\n\n        train_pred = model.predict(X_train)\n        log_mean_error_train = log_mean_absolute_error(y_train, train_pred)\n\n        # model = fit_model(X_test, y_test)\n        test_pred = model.predict(X_test)\n        log_mean_error_test = log_mean_absolute_error(y_test, test_pred)\n\n        test_pred = pd.DataFrame(\n            test_pred,\n            index= y_test.index,\n            columns=y_test.columns\n        )\n        error_sort = np.abs(y_test - test_pred).sort_values(TARGET, ascending=False)\n        \n\n        print(f\"Log mean error train: {log_mean_error_train}\")\n        print(f\"Log mean error test: {log_mean_error_test}\")\n        print(error_sort.head(10))\n        \n        with open(f\"model_results/{model_name}/fold_{k+1}.pickle\", \"wb\") as f:\n            pickle.dump(model, f)\n        \n        fit_results[model_name].append({\n            'model': model,\n            'log_mean_error_train': log_mean_error_train,\n            'log_mean_error_test': log_mean_error_test\n        })",
   "outputs": [
    {
     "name": "stdout",
     "text": "K Fold: 1\nTRAIN: [    1     2     3 ... 66712 66713 66714] TEST: [    0     4    13 ... 66699 66708 66711]\nFound trained model\nLog mean error train: 2.0886707965081026\nLog mean error test: 2.965897219245882\n            CO2_working_capacity [mL/g]\nUnnamed: 0                             \n28723                        254.986948\n26786                        217.653068\n9703                         213.538765\n11015                        193.446705\n53958                        182.740535\n20510                        180.530182\n55868                        179.701622\n35888                        175.293238\n13905                        170.339142\n17031                        156.484589\nK Fold: 2\nTRAIN: [    0     1     2 ... 66711 66713 66714] TEST: [   18    24    30 ... 66700 66703 66712]\nFound trained model\nLog mean error train: 2.0909831142333783\nLog mean error test: 2.978716829321176\n            CO2_working_capacity [mL/g]\nUnnamed: 0                             \n53863                        254.215981\n56079                        214.797103\n47904                        199.279411\n30350                        198.511327\n22322                        192.182756\n46261                        181.750198\n16767                        174.517651\n39696                        171.704525\n23055                        169.994339\n2279                         169.928788\nK Fold: 3\nTRAIN: [    0     1     3 ... 66712 66713 66714] TEST: [    2     8     9 ... 66689 66695 66710]\nFound trained model\nLog mean error train: 2.085022539691698\nLog mean error test: 2.9769517210871075\n            CO2_working_capacity [mL/g]\nUnnamed: 0                             \n2778                         179.398040\n11080                        174.231163\n47409                        161.439326\n21917                        161.126287\n51326                        160.053031\n36291                        157.610411\n47659                        155.816194\n39986                        151.222568\n34295                        149.816564\n15125                        148.044638\nK Fold: 4\nTRAIN: [    0     2     3 ... 66711 66712 66713] TEST: [    1     5     6 ... 66705 66709 66714]\nFound trained model\nLog mean error train: 2.072930130857897\nLog mean error test: 3.0023878822674925\n            CO2_working_capacity [mL/g]\nUnnamed: 0                             \n45490                        190.077949\n58858                        187.414041\n21424                        186.332944\n10055                        186.204421\n59446                        175.557436\n52532                        170.577445\n56936                        162.654580\n23851                        150.310453\n2453                         148.627421\n32591                        148.122123\nK Fold: 5\nTRAIN: [    0     1     2 ... 66711 66712 66714] TEST: [    3    10    16 ... 66706 66707 66713]\nFound trained model\nLog mean error train: 2.0657542281362398\nLog mean error test: 2.9954641818703105\n            CO2_working_capacity [mL/g]\nUnnamed: 0                             \n16576                        188.953975\n1746                         183.412029\n24424                        180.011064\n5206                         174.201727\n21364                        171.057554\n7298                         170.485526\n48924                        165.122043\n19039                        164.833307\n13702                        163.217232\n14403                        157.576249\nK Fold: 6\nTRAIN: [    0     1     2 ... 66712 66713 66714] TEST: [    6     9    12 ... 66706 66708 66711]\nFound trained model\nLog mean error train: 2.0901817762685035\nLog mean error test: 2.9648202951988734\n            CO2_working_capacity [mL/g]\nUnnamed: 0                             \n53863                        200.787663\n18567                        195.319531\n4174                         166.852816\n52239                        162.532779\n23188                        159.263746\n2901                         151.469858\n30221                        147.190003\n35875                        144.195567\n52545                        143.961413\n19696                        141.270220\nK Fold: 7\nTRAIN: [    0     1     2 ... 66712 66713 66714] TEST: [    3    11    13 ... 66707 66709 66710]\nFound trained model\nLog mean error train: 2.066887082225916\nLog mean error test: 2.98899131888525\n            CO2_working_capacity [mL/g]\nUnnamed: 0                             \n13905                        199.173817\n22322                        196.986572\n47659                        172.059880\n21917                        158.148742\n21379                        153.580339\n20510                        153.459116\n32898                        152.003088\n43984                        150.547235\n882                          150.544529\n49903                        146.562751\nK Fold: 8\nTRAIN: [    0     1     2 ... 66712 66713 66714] TEST: [    4     5    23 ... 66684 66693 66701]\nFound trained model\nLog mean error train: 2.080466715898445\nLog mean error test: 2.9769366951556115\n            CO2_working_capacity [mL/g]\nUnnamed: 0                             \n47904                        215.038318\n36831                        213.290116\n51082                        198.328339\n11015                        195.593509\n51326                        190.359080\n5206                         188.697182\n45490                        184.291340\n31221                        182.306586\n59446                        178.392219\n35888                        173.039801\nK Fold: 9\nTRAIN: [    1     2     3 ... 66710 66711 66712] TEST: [    0    40    43 ... 66700 66713 66714]\nFound trained model\nLog mean error train: 2.0792982871999572\nLog mean error test: 2.984982923093037\n            CO2_working_capacity [mL/g]\nUnnamed: 0                             \n56079                        214.476804\n30350                        197.546191\n16767                        186.266925\n17031                        183.744849\n55868                        179.072775\n21424                        175.128483\n2778                         174.259660\n11241                        172.221458\n21710                        171.052792\n19039                        168.023055\nK Fold: 10\nTRAIN: [    0     3     4 ... 66711 66713 66714] TEST: [    1     2     7 ... 66703 66705 66712]\nFound trained model\nLog mean error train: 2.078376937833608\nLog mean error test: 2.994300759691473\n            CO2_working_capacity [mL/g]\nUnnamed: 0                             \n28723                        245.814698\n16576                        217.678867\n47409                        215.906914\n19232                        215.467494\n26786                        215.149409\n56936                        193.085688\n27842                        177.578184\n14403                        171.933829\n48924                        171.565715\n37219                        170.649100\nK Fold: 11\nTRAIN: [    0     2     3 ... 66711 66712 66713] TEST: [    1     5    12 ... 66704 66710 66714]\nFound trained model\nLog mean error train: 2.071009763609551\nLog mean error test: 2.9864354686206402\n            CO2_working_capacity [mL/g]\nUnnamed: 0                             \n47904                        246.521394\n56079                        216.321431\n22322                        210.183062\n19232                        198.240409\n58858                        187.268957\n20829                        186.041893\n23851                        181.153431\n55868                        175.102783\n1746                         171.268890\n45323                        168.708734\nK Fold: 12\nTRAIN: [    0     1     2 ... 66711 66712 66714] TEST: [   13    19    22 ... 66706 66709 66713]\nFound trained model\nLog mean error train: 2.077850045996411\nLog mean error test: 2.9882888951806126\n            CO2_working_capacity [mL/g]\nUnnamed: 0                             \n28723                        237.084355\n35888                        209.968005\n2778                         208.003155\n16767                        188.077334\n11015                        174.377262\n21424                        166.631528\n31610                        166.007561\n47659                        165.010546\n32591                        161.712782\n47409                        161.312246\nK Fold: 13\nTRAIN: [    0     1     3 ... 66712 66713 66714] TEST: [    2     8     9 ... 66691 66698 66708]\nFound trained model\nLog mean error train: 2.084366905565754\nLog mean error test: 2.9710002591303826\n            CO2_working_capacity [mL/g]\nUnnamed: 0                             \n53958                        170.373353\n11241                        169.610870\n23055                        164.264300\n10055                        158.818183\n16576                        157.990264\n34819                        157.058037\n20510                        155.480415\n43984                        154.583927\n46261                        152.806301\n35229                        149.521303\nK Fold: 14\nTRAIN: [    1     2     3 ... 66710 66713 66714] TEST: [    0     4    11 ... 66707 66711 66712]\nFound trained model\nLog mean error train: 2.0839600202247643\nLog mean error test: 2.9729640449635424\n            CO2_working_capacity [mL/g]\nUnnamed: 0                             \n53863                        217.839006\n56936                        178.487687\n31221                        177.845069\n9703                         171.506839\n19039                        169.657848\n32091                        156.334514\n48924                        152.688008\n49024                        152.209371\n44212                        151.247231\n31775                        150.580397\nK Fold: 15\nTRAIN: [    0     1     2 ... 66712 66713 66714] TEST: [    3     6     7 ... 66693 66697 66703]\nFound trained model\nLog mean error train: 2.074601102791277\nLog mean error test: 2.991699517030172\n            CO2_working_capacity [mL/g]\nUnnamed: 0                             \n17031                        198.295789\n30350                        192.627191\n45490                        189.788998\n37219                        187.173761\n18567                        174.951736\n13905                        170.908077\n46325                        165.217748\n11500                        161.416468\n26786                        153.310193\n43127                        152.447297\nK Fold: 16\nTRAIN: [    0     1     2 ... 66711 66713 66714] TEST: [    8    18    23 ... 66704 66709 66712]\nFound trained model\nLog mean error train: 2.0821946061136316\nLog mean error test: 2.984558170924083\n            CO2_working_capacity [mL/g]\nUnnamed: 0                             \n19232                        194.364889\n18075                        190.133159\n59446                        167.595760\n16767                        164.722575\n32591                        161.669498\n21424                        158.495061\n21917                        149.636591\n5409                         146.351226\n46517                        143.561159\n43327                        141.429359\nK Fold: 17\nTRAIN: [    3     6     7 ... 66712 66713 66714] TEST: [    0     1     2 ... 66701 66705 66711]\nFound trained model\nLog mean error train: 2.0788040233445826\nLog mean error test: 2.9786503078000512\n            CO2_working_capacity [mL/g]\nUnnamed: 0                             \n26786                        188.414249\n16576                        184.452720\n22322                        180.311066\n11241                        177.014459\n17031                        171.313962\n37219                        166.849245\n55868                        165.901633\n14403                        164.537249\n18567                        163.665917\n36291                        160.284057\nK Fold: 18\nTRAIN: [    0     1     2 ... 66711 66712 66714] TEST: [    3     9    14 ... 66708 66710 66713]\nFound trained model\nLog mean error train: 2.085580381564176\nLog mean error test: 2.989903900640009\n            CO2_working_capacity [mL/g]\nUnnamed: 0                             \n28723                        240.200317\n30350                        189.754042\n46261                        189.707879\n13905                        188.667567\n58858                        184.172225\n56936                        182.739427\n48924                        182.076722\n9703                         177.833091\n11015                        175.585227\n20829                        173.239148\nK Fold: 19\nTRAIN: [    0     1     2 ... 66711 66712 66713] TEST: [    6     7    15 ... 66694 66697 66714]\nFound trained model\nLog mean error train: 2.0814793534876768\nLog mean error test: 2.9853827738571432\n            CO2_working_capacity [mL/g]\nUnnamed: 0                             \n53863                        226.496021\n23055                        180.297646\n47659                        179.957293\n31221                        170.320826\n35888                        167.866413\n41272                        162.123956\n46325                        155.927005\n44212                        154.803736\n10055                        153.056977\n2778                         153.055045\nK Fold: 20\nTRAIN: [    0     1     2 ... 66712 66713 66714] TEST: [   11    12    21 ... 66690 66695 66703]\nFound trained model\nLog mean error train: 2.084252795389069\nLog mean error test: 2.9649263214060424\n            CO2_working_capacity [mL/g]\nUnnamed: 0                             \n47904                        243.350570\n56079                        212.446778\n47409                        185.258008\n45490                        178.377700\n52239                        159.225177\n4442                         150.506042\n14587                        148.899517\n30625                        148.060241\n30221                        147.606109\n21364                        146.936266\nK Fold: 21\nTRAIN: [    1     2     3 ... 66711 66713 66714] TEST: [    0     8    12 ... 66697 66710 66712]\nFound trained model\nLog mean error train: 2.088922192019663\nLog mean error test: 2.9822666380889284\n            CO2_working_capacity [mL/g]\nUnnamed: 0                             \n28723                        243.020363\n53863                        226.127259\n56079                        217.011368\n16576                        202.455881\n19232                        202.189276\n26786                        201.722257\n30625                        186.848821\n47409                        185.574215\n39696                        168.133908\n59446                        166.325366\nK Fold: 22\nTRAIN: [    0     1     3 ... 66711 66712 66714] TEST: [    2     5    11 ... 66702 66703 66713]\nFound trained model\nLog mean error train: 2.0763611948618665\nLog mean error test: 2.9878642924463947\n            CO2_working_capacity [mL/g]\nUnnamed: 0                             \n37219                        183.733088\n13905                        176.057376\n14403                        174.184919\n36831                        168.128470\n25331                        164.685472\n48924                        164.484014\n47659                        161.229512\n21424                        154.980059\n43984                        154.001990\n44212                        150.961155\nK Fold: 23\nTRAIN: [    0     2     3 ... 66712 66713 66714] TEST: [    1     9    13 ... 66705 66709 66711]\nFound trained model\nLog mean error train: 2.088016895257003\nLog mean error test: 2.9896104712843936\n            CO2_working_capacity [mL/g]\nUnnamed: 0                             \n18075                        196.938461\n45490                        182.317867\n17031                        172.574856\n5206                         166.824536\n52239                        164.166277\n10055                        164.088289\n51326                        160.615112\n692                          153.862592\n20289                        152.437322\n11241                        152.418439\nK Fold: 24\nTRAIN: [    0     1     2 ... 66711 66712 66713] TEST: [    4     6    10 ... 66706 66707 66714]\nFound trained model\nLog mean error train: 2.0826003475000467\nLog mean error test: 2.9766858772643823\n            CO2_working_capacity [mL/g]\nUnnamed: 0                             \n22322                        210.013041\n55868                        191.104691\n30350                        189.197978\n2778                         187.293670\n11015                        182.098664\n56936                        180.086446\n35481                        158.152902\n53958                        156.854155\n46325                        156.652066\n20829                        153.612757\nK Fold: 25\nTRAIN: [    0     1     2 ... 66712 66713 66714] TEST: [    3     7    14 ... 66698 66704 66708]\nFound trained model\nLog mean error train: 2.0787004638980746\nLog mean error test: 2.971296163634688\n            CO2_working_capacity [mL/g]\nUnnamed: 0                             \n47904                        254.027870\n27842                        186.724188\n16767                        178.788757\n2279                         178.436186\n32591                        173.246588\n7282                         163.143624\n18567                        162.853878\n24424                        161.299695\n9703                         160.973014\n31610                        158.064167\nK Fold: 26\nTRAIN: [    0     1     2 ... 66711 66713 66714] TEST: [   10    11    12 ... 66699 66710 66712]\nFound trained model\nLog mean error train: 2.0769839551767166\nLog mean error test: 2.9698441161405476\n            CO2_working_capacity [mL/g]\nUnnamed: 0                             \n30350                        199.337028\n16576                        190.561403\n17031                        179.110789\n24424                        176.084054\n58858                        170.878341\n31221                        170.167157\n55868                        157.965743\n41272                        150.457711\n51082                        149.716094\n15125                        147.956661\nK Fold: 27\nTRAIN: [    0     2     4 ... 66712 66713 66714] TEST: [    1     3     6 ... 66700 66702 66705]\nFound trained model\nLog mean error train: 2.086690508624147\nLog mean error test: 2.988055572986399\n            CO2_working_capacity [mL/g]\nUnnamed: 0                             \n16767                        201.450305\n11015                        183.554551\n44990                        179.876389\n43998                        162.414654\n23851                        161.703256\n48924                        159.112693\n43710                        158.934497\n14403                        158.686074\n19039                        158.218647\n34295                        156.772365\nK Fold: 28\nTRAIN: [    0     1     2 ... 66712 66713 66714] TEST: [   20    22    30 ... 66690 66704 66708]\nFound trained model\nLog mean error train: 2.079550266915463\nLog mean error test: 2.9795353267858817\n            CO2_working_capacity [mL/g]\nUnnamed: 0                             \n28723                        246.657705\n21424                        218.564161\n56936                        218.193889\n53863                        215.775936\n47409                        210.917107\n9703                         179.684262\n11241                        169.529430\n21364                        166.588586\n23055                        166.499399\n51342                        165.322382\nK Fold: 29\nTRAIN: [    0     1     2 ... 66712 66713 66714] TEST: [    7     8    13 ... 66692 66706 66707]\nFound trained model\nLog mean error train: 2.0844504641661197\nLog mean error test: 2.9789217208865364\n            CO2_working_capacity [mL/g]\nUnnamed: 0                             \n56079                        209.675769\n10055                        209.003276\n47904                        201.708892\n26786                        186.570792\n20829                        164.164858\n32091                        163.080582\n30149                        158.276066\n19232                        156.184184\n47659                        155.607481\n32591                        155.374038\nK Fold: 30\nTRAIN: [    1     3     6 ... 66708 66710 66712] TEST: [    0     2     4 ... 66711 66713 66714]\nFound trained model\nLog mean error train: 2.084238739483506\nLog mean error test: 2.9885324435817813\n            CO2_working_capacity [mL/g]\nUnnamed: 0                             \n45490                        204.076714\n22322                        187.465674\n13905                        185.051966\n47670                        183.880873\n59446                        176.239501\n39696                        175.680218\n2778                         173.795098\n7298                         166.559168\n11835                        162.176270\n8447                         154.791806\nK Fold: 31\nTRAIN: [    1     2     3 ... 66711 66713 66714] TEST: [    0     7     9 ... 66704 66708 66712]\nFound trained model\nLog mean error train: 2.080585846904456\nLog mean error test: 2.9890493424064704\n            CO2_working_capacity [mL/g]\nUnnamed: 0                             \n11015                        207.604427\n18075                        206.307657\n9703                         184.108962\n55868                        169.315318\n2778                         168.847183\n17031                        166.112101\n50111                        164.842947\n32591                        159.330848\n33589                        155.749284\n35429                        152.782277\nK Fold: 32\nTRAIN: [    0     1     3 ... 66711 66712 66713] TEST: [    2     4     5 ... 66696 66709 66714]\nFound trained model\nLog mean error train: 2.092551204150233\nLog mean error test: 2.976294709460286\n            CO2_working_capacity [mL/g]\nUnnamed: 0                             \n47409                        188.891445\n31221                        187.261754\n52239                        186.406606\n16767                        177.711894\n11835                        173.835288\n21424                        172.144246\n44990                        168.010918\n24424                        161.627287\n1746                         160.565993\n18567                        157.337028\nK Fold: 33\nTRAIN: [    0     1     2 ... 66710 66712 66714] TEST: [   14    15    21 ... 66702 66711 66713]\nFound trained model\nLog mean error train: 2.071808262597408\nLog mean error test: 2.9822130545630547\n            CO2_working_capacity [mL/g]\nUnnamed: 0                             \n53863                        216.912608\n26786                        214.345974\n19232                        196.426131\n22322                        185.965807\n58858                        179.525502\n37219                        177.674551\n49024                        168.170739\n48924                        167.527510\n14403                        161.515955\n10055                        160.533737\nK Fold: 34\nTRAIN: [    0     1     2 ... 66712 66713 66714] TEST: [    3    11    20 ... 66697 66705 66710]\nFound trained model\nLog mean error train: 2.0824080761351933\nLog mean error test: 2.9887726138384756\n            CO2_working_capacity [mL/g]\nUnnamed: 0                             \n47904                        231.490155\n56079                        223.001947\n16576                        196.043573\n13905                        182.612088\n20829                        180.834161\n27842                        177.276710\n43998                        172.227909\n51326                        170.817586\n5348                         165.346812\n20510                        160.776406\nK Fold: 35\nTRAIN: [    0     2     3 ... 66712 66713 66714] TEST: [    1     6    13 ... 66700 66706 66707]\nFound trained model\nLog mean error train: 2.070406113685672\nLog mean error test: 2.972182158804863\n            CO2_working_capacity [mL/g]\nUnnamed: 0                             \n28723                        244.280368\n30350                        191.906414\n45490                        188.050798\n56936                        179.908028\n46325                        162.476913\n35229                        161.558528\n47659                        158.367524\n27465                        143.544295\n36831                        141.288403\n5779                         139.631241\nK Fold: 36\nTRAIN: [    1     2     3 ... 66712 66713 66714] TEST: [    0     4     5 ... 66701 66703 66709]\nFound trained model\nLog mean error train: 2.0635562585829597\nLog mean error test: 2.9850044609638795\n            CO2_working_capacity [mL/g]\nUnnamed: 0                             \n47904                        227.908744\n53863                        223.992801\n37219                        201.609652\n30350                        194.149676\n26786                        180.876261\n11015                        173.661213\n16767                        169.432899\n14403                        169.065488\n36831                        162.329008\n47670                        159.450504\nK Fold: 37\nTRAIN: [    0     1     3 ... 66709 66711 66712] TEST: [    2    13    18 ... 66710 66713 66714]\nFound trained model\nLog mean error train: 2.089660702487843\nLog mean error test: 2.9884532301579183\n            CO2_working_capacity [mL/g]\nUnnamed: 0                             \n28723                        238.915929\n18075                        214.517473\n56079                        213.768745\n20829                        187.490300\n11241                        177.873073\n27842                        177.432569\n55868                        170.063977\n48924                        166.764879\n9703                         166.497935\n46261                        165.600121\nK Fold: 38\nTRAIN: [    0     1     2 ... 66712 66713 66714] TEST: [    8     9    12 ... 66698 66706 66707]\nFound trained model\nLog mean error train: 2.086334486427577\nLog mean error test: 2.9755828642842594\n            CO2_working_capacity [mL/g]\nUnnamed: 0                             \n22322                        202.078247\n45490                        196.482648\n23055                        174.182400\n32591                        164.743830\n47659                        160.591741\n10055                        158.757117\n31221                        158.260520\n17083                        147.943636\n35429                        147.458895\n18567                        144.833266\nK Fold: 39\nTRAIN: [    0     2     3 ... 66710 66713 66714] TEST: [    1     7    14 ... 66708 66711 66712]\nFound trained model\nLog mean error train: 2.0898855803794585\nLog mean error test: 2.97790704560982\n            CO2_working_capacity [mL/g]\nUnnamed: 0                             \n17031                        207.834003\n13905                        206.154943\n36291                        195.339580\n59446                        176.939902\n19039                        171.785508\n21424                        160.785004\n5206                         158.784777\n11835                        157.252636\n22376                        157.090019\n47601                        150.766146\nK Fold: 40\nTRAIN: [    0     1     2 ... 66712 66713 66714] TEST: [    3     6    10 ... 66694 66702 66704]\nFound trained model\nLog mean error train: 2.0809117771405483\nLog mean error test: 2.970281363123868\n            CO2_working_capacity [mL/g]\nUnnamed: 0                             \n19232                        249.818773\n56936                        216.870309\n47409                        210.342103\n23851                        195.948745\n58858                        181.391128\n53958                        168.842005\n34819                        161.918640\n44212                        153.950723\n28399                        151.128049\n52532                        147.394273\nK Fold: 41\nTRAIN: [    0     3     4 ... 66711 66713 66714] TEST: [    1     2     8 ... 66705 66709 66712]\nFound trained model\nLog mean error train: 2.087886082199759\nLog mean error test: 2.9923856827200974\n            CO2_working_capacity [mL/g]\nUnnamed: 0                             \n28723                        238.543186\n47904                        237.721557\n56079                        230.783103\n16576                        206.647802\n27842                        205.100737\n11241                        197.059399\n47659                        187.257530\n20829                        175.409553\n32591                        174.730810\n54061                        170.990980\nK Fold: 42\nTRAIN: [    0     1     2 ... 66712 66713 66714] TEST: [    5     7    19 ... 66706 66707 66711]\nFound trained model\nLog mean error train: 2.0944782272402884\nLog mean error test: 2.9688085193185487\n            CO2_working_capacity [mL/g]\nUnnamed: 0                             \n53863                        239.038647\n30350                        198.074603\n16767                        182.598090\n33589                        164.552163\n59302                        162.757003\n37219                        161.753535\n2743                         155.943875\n5657                         155.811638\n11877                        152.147473\n59446                        151.356680\nK Fold: 43\nTRAIN: [    0     1     2 ... 66711 66712 66713] TEST: [    3     4     6 ... 66699 66700 66714]\nFound trained model\nLog mean error train: 2.0835045741888334\nLog mean error test: 2.9907636990095714\n            CO2_working_capacity [mL/g]\nUnnamed: 0                             \n47670                        217.703701\n11015                        198.423277\n21424                        185.512114\n17031                        185.201749\n22322                        183.428773\n31221                        179.287207\n7282                         173.239723\n39696                        166.137306\n58858                        163.713538\n19232                        161.638587\nK Fold: 44\nTRAIN: [    1     2     3 ... 66711 66712 66714] TEST: [    0    13    21 ... 66704 66710 66713]\nFound trained model\nLog mean error train: 2.0794375117798096\nLog mean error test: 2.989427720737426\n            CO2_working_capacity [mL/g]\nUnnamed: 0                             \n56936                        200.489033\n45490                        193.467530\n13905                        191.901076\n26786                        190.393039\n10055                        178.392323\n36831                        176.768160\n18567                        168.726178\n9703                         167.315265\n55868                        164.882602\n44212                        160.491610\nK Fold: 45\nTRAIN: [    0     1     2 ... 66712 66713 66714] TEST: [    9    11    12 ... 66691 66702 66708]\nFound trained model\nLog mean error train: 2.095092741390178\nLog mean error test: 2.968416419003491\n            CO2_working_capacity [mL/g]\nUnnamed: 0                             \n47409                        255.087596\n19039                        174.742040\n18075                        173.754271\n32704                        171.689858\n2279                         161.959667\n53958                        161.005875\n32091                        160.995706\n1746                         158.360681\n8875                         156.115289\n48924                        153.932835\nK Fold: 46\nTRAIN: [    2     3     4 ... 66712 66713 66714] TEST: [    0     1    11 ... 66686 66689 66690]\nFound trained model\nLog mean error train: 2.0766604982588106\nLog mean error test: 2.9795409143882634\n            CO2_working_capacity [mL/g]\nUnnamed: 0                             \n19232                        238.978217\n56079                        233.561652\n22322                        214.903884\n20829                        172.219820\n16767                        171.658441\n2778                         164.608485\n43327                        162.418830\n11835                        161.981921\n30289                        158.955159\n49054                        149.073789\nK Fold: 47\nTRAIN: [    0     1     2 ... 66708 66711 66713] TEST: [    5     6    15 ... 66710 66712 66714]\nLog mean error train: 2.0884266063676744\nLog mean error test: 2.97643567102909\n            CO2_working_capacity [mL/g]\nUnnamed: 0                             \n47904                        250.910017\n56936                        213.750615\n26786                        184.303762\n7115                         174.629106\n31221                        173.381801\n35888                        167.051939\n13905                        164.932290\n32591                        164.924780\n21917                        164.805815\n49024                        155.475534\nK Fold: 48\nTRAIN: [    0     1     2 ... 66712 66713 66714] TEST: [   17    24    28 ... 66703 66708 66711]\nLog mean error train: 2.0735167051234042\nLog mean error test: 2.9882000569908818\n            CO2_working_capacity [mL/g]\nUnnamed: 0                             \n28723                        242.942938\n47409                        207.095487\n55868                        190.047009\n16576                        175.649005\n48924                        169.993486\n2279                         169.569940\n11241                        167.503724\n10055                        167.248527\n24424                        153.730750\n11015                        150.698649\nK Fold: 49\nTRAIN: [    0     1     2 ... 66712 66713 66714] TEST: [    9    10    20 ... 66705 66706 66707]\nLog mean error train: 2.086706391921529\nLog mean error test: 2.9761751317764644\n            CO2_working_capacity [mL/g]\nUnnamed: 0                             \n53863                        217.179984\n30350                        201.852473\n52239                        188.441572\n51082                        183.705047\n18567                        178.615168\n9703                         169.416335\n43998                        167.222699\n36291                        165.566534\n51326                        158.926715\n12676                        155.285472\nK Fold: 50\nTRAIN: [    0     1     5 ... 66711 66712 66714] TEST: [    2     3     4 ... 66698 66700 66713]\nLog mean error train: 2.077283565607408\nLog mean error test: 2.9898150309074945\n            CO2_working_capacity [mL/g]\nUnnamed: 0                             \n37219                        197.619035\n45490                        196.378293\n21424                        186.181422\n17031                        183.494052\n53958                        180.007553\n27842                        171.771851\n14403                        169.921918\n47659                        159.244050\n5206                         155.333637\n34819                        151.609035\n",
     "output_type": "stream"
    }
   ],
   "execution_count": 14
  },
  {
   "cell_type": "code",
   "metadata": {
    "tags": [],
    "deepnote_to_be_reexecuted": false,
    "source_hash": "89e759e0",
    "execution_start": 1632661213519,
    "execution_millis": 267,
    "cell_id": "00017-5f39c6ba-3b5a-4edd-877b-0bbb37298906",
    "deepnote_cell_type": "code"
   },
   "source": "\"\"\"\nfuncgroup2num = {c: i for i, c in enumerate(train['functional_groups'].unique())}\ntopology2num = {c: i for i, c in enumerate(train['topology'].unique())}\nspacegroup2num = {c: i for i, c in enumerate(train['_space_group_crystal_system'].unique())}\n\ntrain['label_funcgroup'] = train['functional_groups'].map(funcgroup2num)\ntrain['label_topology'] = train['topology'].map(topology2num)\ntrain['label_spacegroup'] = train['_space_group_crystal_system'].map(spacegroup2num)\n\"\"\"",
   "outputs": [
    {
     "output_type": "execute_result",
     "execution_count": 15,
     "data": {
      "text/plain": "\"\\nfuncgroup2num = {c: i for i, c in enumerate(train['functional_groups'].unique())}\\ntopology2num = {c: i for i, c in enumerate(train['topology'].unique())}\\nspacegroup2num = {c: i for i, c in enumerate(train['_space_group_crystal_system'].unique())}\\n\\ntrain['label_funcgroup'] = train['functional_groups'].map(funcgroup2num)\\ntrain['label_topology'] = train['topology'].map(topology2num)\\ntrain['label_spacegroup'] = train['_space_group_crystal_system'].map(spacegroup2num)\\n\""
     },
     "metadata": {}
    }
   ],
   "execution_count": 15
  },
  {
   "cell_type": "code",
   "metadata": {
    "tags": [],
    "deepnote_to_be_reexecuted": false,
    "source_hash": "faa084aa",
    "execution_start": 1632661213562,
    "execution_millis": 0,
    "cell_id": "00018-137cbdcb-9947-4aab-a568-44fa13d7d0b8",
    "deepnote_cell_type": "code"
   },
   "source": "# np.mean([score['log_mean_error_test'] for score in fit_results['voting']])\nnp.mean([score['log_mean_error_test'] for score in fit_results[model_name]])",
   "outputs": [
    {
     "output_type": "execute_result",
     "execution_count": 16,
     "data": {
      "text/plain": "2.981631635951261"
     },
     "metadata": {}
    }
   ],
   "execution_count": 16
  },
  {
   "cell_type": "code",
   "metadata": {
    "tags": [],
    "deepnote_to_be_reexecuted": false,
    "source_hash": "f7f82583",
    "execution_start": 1632661332427,
    "execution_millis": 19,
    "cell_id": "00019-fe4aef8a-5b37-410c-b307-423ab334577b",
    "deepnote_cell_type": "code"
   },
   "source": "np.std([score['log_mean_error_test'] for score in fit_results[model_name]])",
   "outputs": [
    {
     "output_type": "execute_result",
     "execution_count": 35,
     "data": {
      "text/plain": "0.008799859349817796"
     },
     "metadata": {}
    }
   ],
   "execution_count": 35
  },
  {
   "cell_type": "code",
   "metadata": {
    "tags": [],
    "deepnote_to_be_reexecuted": false,
    "source_hash": "fc853f7e",
    "execution_start": 1632661213565,
    "execution_millis": 31269790,
    "cell_id": "00020-0749abf6-537b-4265-8f21-08a5c8f52afb",
    "deepnote_cell_type": "code"
   },
   "source": "test_pred = pd.DataFrame(test_pred, index= y_test.index, columns=y_test.columns)\nerror_sort = np.abs(y_test - test_pred).sort_values(TARGET, ascending=False)",
   "outputs": [],
   "execution_count": 18
  },
  {
   "cell_type": "code",
   "metadata": {
    "tags": [],
    "deepnote_to_be_reexecuted": false,
    "source_hash": "b623e53d",
    "execution_start": 1632661213568,
    "execution_millis": 31269782,
    "cell_id": "00021-034aece8-e22a-4bfc-a89d-4716eb23ce8c",
    "deepnote_cell_type": "code"
   },
   "source": "",
   "outputs": [],
   "execution_count": 18
  },
  {
   "cell_type": "code",
   "metadata": {
    "tags": [],
    "deepnote_to_be_reexecuted": false,
    "source_hash": "94998eda",
    "execution_start": 1632661213630,
    "execution_millis": 156,
    "cell_id": "00022-2297d14c-14fb-4527-9b9a-6cdef4766c91",
    "deepnote_cell_type": "code"
   },
   "source": "Train.loc[error_sort.index].head(500).mean()",
   "outputs": [
    {
     "output_type": "execute_result",
     "execution_count": 19,
     "data": {
      "text/plain": "volume [A^3]                                     2.291863e+03\nweight [u]                                       1.478492e+03\nsurface_area [m^2/g]                             7.170224e+02\nvoid_fraction                                    1.515360e-01\nvoid_volume [cm^3/g]                             1.519622e-01\nmetal_linker                                     4.934000e+00\norganic_linker1                                  1.040400e+01\norganic_linker2                                  1.902600e+01\nCO2/N2_selectivity                               5.023041e+01\nheat_adsorption_CO2_P0.15bar_T298K [kcal/mol]    7.388920e+00\n_symmetry_Int_Tables_number                      1.000000e+00\n_cell_length_a                                   1.463375e+01\n_cell_length_b                                   1.177657e+01\n_cell_length_c                                   1.500553e+01\n_cell_angle_alpha                                9.136552e+01\n_cell_angle_beta                                 9.191133e+01\n_cell_angle_gamma                                9.229798e+01\n_cell_volume                                     2.291863e+03\npartial_charge_mean                              5.782883e-10\npartial_charge_median                            4.415729e-02\npartial_charge_std                               4.081270e-01\nbond_type_countS                                 9.123400e+01\nbond_type_countA                                 5.805800e+01\nbond_type_countD                                 3.564000e+00\nbond_type_countT                                 1.126000e+00\nbond_type_countAm                                0.000000e+00\nCO2_working_capacity [mL/g]                      2.579784e+02\ndtype: float64"
     },
     "metadata": {}
    }
   ],
   "execution_count": 19
  },
  {
   "cell_type": "code",
   "metadata": {
    "tags": [],
    "deepnote_to_be_reexecuted": false,
    "source_hash": "373521d2",
    "execution_start": 1632661213631,
    "execution_millis": 25,
    "cell_id": "00023-8f6d4db2-6e5f-4a0b-aaa1-e5be6d5f8cc7",
    "deepnote_cell_type": "code"
   },
   "source": "error_train = Train.loc[error_sort.index]\nTrain[\"LMAE\"] = error_sort.iloc[:, 0]\nTrain[\"prediction\"] = test_pred.iloc[:, 0]",
   "outputs": [],
   "execution_count": 20
  },
  {
   "cell_type": "code",
   "metadata": {
    "tags": [],
    "deepnote_to_be_reexecuted": false,
    "source_hash": "d5dc3a80",
    "execution_start": 1632661213657,
    "execution_millis": 494,
    "cell_id": "00024-a7e032b4-5b10-4995-b052-965f9ae0765e",
    "deepnote_cell_type": "code"
   },
   "source": "Train.loc[error_sort.index].to_csv(\"error_train.csv\")",
   "outputs": [],
   "execution_count": 21
  },
  {
   "cell_type": "code",
   "metadata": {
    "tags": [],
    "deepnote_to_be_reexecuted": false,
    "source_hash": "acbdf18d",
    "execution_start": 1632661214161,
    "execution_millis": 75,
    "cell_id": "00025-3c472b3c-7ff9-4a33-97e0-82c97ef8a451",
    "deepnote_cell_type": "code"
   },
   "source": "Train.loc[error_sort.index].tail(500).mean()",
   "outputs": [
    {
     "output_type": "execute_result",
     "execution_count": 22,
     "data": {
      "text/plain": "volume [A^3]                                     7.224225e+03\nweight [u]                                       2.244674e+03\nsurface_area [m^2/g]                             2.866449e+03\nvoid_fraction                                    4.258761e-01\nvoid_volume [cm^3/g]                             8.601994e-01\nmetal_linker                                     3.196000e+00\norganic_linker1                                  1.126200e+01\norganic_linker2                                  2.057600e+01\nCO2/N2_selectivity                               1.460362e+01\nheat_adsorption_CO2_P0.15bar_T298K [kcal/mol]    4.732049e+00\n_symmetry_Int_Tables_number                      1.000000e+00\n_cell_length_a                                   1.750992e+01\n_cell_length_b                                   1.707976e+01\n_cell_length_c                                   1.936759e+01\n_cell_angle_alpha                                9.199027e+01\n_cell_angle_beta                                 9.405461e+01\n_cell_angle_gamma                                9.145887e+01\n_cell_volume                                     7.224225e+03\npartial_charge_mean                              2.109360e-09\npartial_charge_median                            2.150944e-02\npartial_charge_std                               4.196163e-01\nbond_type_countS                                 1.149520e+02\nbond_type_countA                                 7.589800e+01\nbond_type_countD                                 3.944000e+00\nbond_type_countT                                 3.746000e+00\nbond_type_countAm                                9.600000e-02\nCO2_working_capacity [mL/g]                      5.902210e+01\nLMAE                                             3.178048e-01\nprediction                                       5.904053e+01\ndtype: float64"
     },
     "metadata": {}
    }
   ],
   "execution_count": 22
  },
  {
   "cell_type": "code",
   "metadata": {
    "tags": [],
    "deepnote_to_be_reexecuted": false,
    "source_hash": "fe6523d9",
    "execution_start": 1632661214184,
    "execution_millis": 1,
    "cell_id": "00026-55442f10-18e7-4bfc-9ee5-8fe31b6fc572",
    "deepnote_cell_type": "code"
   },
   "source": "# train_prediction = .predict(X)",
   "outputs": [],
   "execution_count": 23
  },
  {
   "cell_type": "code",
   "metadata": {
    "tags": [],
    "deepnote_to_be_reexecuted": false,
    "source_hash": "b0c387f5",
    "execution_start": 1632661214199,
    "execution_millis": 1,
    "cell_id": "00027-90629d1f-8160-447e-afe7-6ff2c6f5a2cd",
    "deepnote_cell_type": "code"
   },
   "source": "# np.log(mean_absolute_error(train_prediction, y))",
   "outputs": [],
   "execution_count": 24
  },
  {
   "cell_type": "code",
   "metadata": {
    "tags": [],
    "deepnote_to_be_reexecuted": false,
    "source_hash": "fe1547a",
    "execution_start": 1632661214202,
    "execution_millis": 31269713,
    "cell_id": "00028-3aee8afc-a8be-4ac6-a9e3-02abd5926c6e",
    "deepnote_cell_type": "code"
   },
   "source": "# feature_importances = pd.DataFrame(catboost.feature_importances_)\n# feature_importances.index = Train.drop(TARGET, axis=1).columns",
   "outputs": [],
   "execution_count": 25
  },
  {
   "cell_type": "code",
   "metadata": {
    "tags": [],
    "deepnote_to_be_reexecuted": false,
    "source_hash": "1898d942",
    "execution_start": 1632661214202,
    "execution_millis": 31269714,
    "cell_id": "00029-dd8965cd-c8d7-460d-880e-0a37fb6d2bca",
    "deepnote_cell_type": "code"
   },
   "source": "# feature_importances.sort_values(by=0, ascending=False)",
   "outputs": [],
   "execution_count": 26
  },
  {
   "cell_type": "code",
   "metadata": {
    "tags": [],
    "deepnote_to_be_reexecuted": false,
    "source_hash": "ee960895",
    "execution_start": 1632661214217,
    "execution_millis": 31269725,
    "cell_id": "00030-b7b1cac3-9236-493a-985f-699bce96fb3a",
    "deepnote_cell_type": "code"
   },
   "source": "# feature_importances[0].nlargest(20).plot(kind='barh')",
   "outputs": [],
   "execution_count": 27
  },
  {
   "cell_type": "code",
   "metadata": {
    "tags": [],
    "deepnote_to_be_reexecuted": false,
    "source_hash": "ac13f7e0",
    "execution_start": 1632661214218,
    "execution_millis": 31269720,
    "cell_id": "00031-3a312aa0-f97a-43f8-80b7-cdf7f9c43dc5",
    "deepnote_cell_type": "code"
   },
   "source": "# feature_importances[0].nlargest(20).index",
   "outputs": [],
   "execution_count": 28
  },
  {
   "cell_type": "code",
   "metadata": {
    "tags": [],
    "deepnote_to_be_reexecuted": false,
    "source_hash": "9ebd45c",
    "execution_start": 1632661214218,
    "execution_millis": 12962,
    "cell_id": "00034-5d849375-913c-4a11-b708-ed18b79340b8",
    "deepnote_cell_type": "code"
   },
   "source": "sub = np.mean(\n    [model['model'].predict(test.X) for model in fit_results[model_name]],\n    axis=0\n)",
   "outputs": [],
   "execution_count": 29
  },
  {
   "cell_type": "code",
   "metadata": {
    "tags": [],
    "deepnote_to_be_reexecuted": false,
    "source_hash": "edbc753e",
    "execution_start": 1632661227195,
    "execution_millis": 8,
    "cell_id": "00035-efd12b8f-5a51-4afe-9489-b048a6331c8c",
    "deepnote_cell_type": "code"
   },
   "source": "sub = pd.DataFrame(sub)",
   "outputs": [],
   "execution_count": 30
  },
  {
   "cell_type": "code",
   "metadata": {
    "tags": [],
    "deepnote_to_be_reexecuted": false,
    "source_hash": "b867ab08",
    "execution_start": 1632661227204,
    "execution_millis": 1,
    "cell_id": "00036-1519f4e0-2aca-42cb-9f5f-3b76f404f2a8",
    "deepnote_cell_type": "code"
   },
   "source": "# Pretest = pd.read_csv(f\"{PREPROCESSING_PATH}/pretest_merged_CIF/Pretest.csv\")\n# Pretest = Pretest.set_index(Pretest.columns[0])\nsub.index = \"pretest_\" + pd.Index(range(1, sub.shape[0] + 1)).astype(str)\nsub.index = sub.index.set_names('id')\nsub.columns = ['CO2_working_capacity [mL/g]']",
   "outputs": [],
   "execution_count": 31
  },
  {
   "cell_type": "code",
   "metadata": {
    "tags": [],
    "deepnote_to_be_reexecuted": false,
    "source_hash": "d977bc2a",
    "execution_start": 1632661227205,
    "execution_millis": 61,
    "cell_id": "00037-5322410f-62ba-413b-8c15-aa23362bdcea",
    "deepnote_cell_type": "code"
   },
   "source": "sub",
   "outputs": [
    {
     "output_type": "execute_result",
     "execution_count": 32,
     "data": {
      "application/vnd.deepnote.dataframe.v2+json": {
       "row_count": 2000,
       "column_count": 1,
       "columns": [
        {
         "name": "CO2_working_capacity [mL/g]",
         "dtype": "float64",
         "stats": {
          "unique_count": 2000,
          "nan_count": 0,
          "min": "-15.164993409990581",
          "max": "501.9424857692366",
          "histogram": [
           {
            "bin_start": -15.164993409990581,
            "bin_end": 36.54575450793214,
            "count": 489
           },
           {
            "bin_start": 36.54575450793214,
            "bin_end": 88.25650242585485,
            "count": 530
           },
           {
            "bin_start": 88.25650242585485,
            "bin_end": 139.96725034377755,
            "count": 457
           },
           {
            "bin_start": 139.96725034377755,
            "bin_end": 191.67799826170028,
            "count": 229
           },
           {
            "bin_start": 191.67799826170028,
            "bin_end": 243.388746179623,
            "count": 142
           },
           {
            "bin_start": 243.388746179623,
            "bin_end": 295.0994940975457,
            "count": 82
           },
           {
            "bin_start": 295.0994940975457,
            "bin_end": 346.8102420154684,
            "count": 35
           },
           {
            "bin_start": 346.8102420154684,
            "bin_end": 398.52098993339115,
            "count": 14
           },
           {
            "bin_start": 398.52098993339115,
            "bin_end": 450.2317378513139,
            "count": 15
           },
           {
            "bin_start": 450.2317378513139,
            "bin_end": 501.9424857692366,
            "count": 7
           }
          ]
         }
        },
        {
         "name": "_deepnote_index_column",
         "dtype": "object"
        }
       ],
       "rows_top": [
        {
         "CO2_working_capacity [mL/g]": 106.72800239620364,
         "_deepnote_index_column": "pretest_1"
        },
        {
         "CO2_working_capacity [mL/g]": 127.62074111904109,
         "_deepnote_index_column": "pretest_2"
        },
        {
         "CO2_working_capacity [mL/g]": 194.466300443763,
         "_deepnote_index_column": "pretest_3"
        },
        {
         "CO2_working_capacity [mL/g]": 64.87749923662426,
         "_deepnote_index_column": "pretest_4"
        },
        {
         "CO2_working_capacity [mL/g]": 96.93284067515944,
         "_deepnote_index_column": "pretest_5"
        },
        {
         "CO2_working_capacity [mL/g]": 376.1467813487192,
         "_deepnote_index_column": "pretest_6"
        },
        {
         "CO2_working_capacity [mL/g]": 107.881852666092,
         "_deepnote_index_column": "pretest_7"
        },
        {
         "CO2_working_capacity [mL/g]": 85.25796336321628,
         "_deepnote_index_column": "pretest_8"
        },
        {
         "CO2_working_capacity [mL/g]": 95.30396580410662,
         "_deepnote_index_column": "pretest_9"
        },
        {
         "CO2_working_capacity [mL/g]": 494.9873737738315,
         "_deepnote_index_column": "pretest_10"
        },
        {
         "CO2_working_capacity [mL/g]": 206.03328477709618,
         "_deepnote_index_column": "pretest_11"
        },
        {
         "CO2_working_capacity [mL/g]": 214.23993973409918,
         "_deepnote_index_column": "pretest_12"
        },
        {
         "CO2_working_capacity [mL/g]": 80.7150935047824,
         "_deepnote_index_column": "pretest_13"
        },
        {
         "CO2_working_capacity [mL/g]": 252.61709659830348,
         "_deepnote_index_column": "pretest_14"
        },
        {
         "CO2_working_capacity [mL/g]": 244.9243908712541,
         "_deepnote_index_column": "pretest_15"
        },
        {
         "CO2_working_capacity [mL/g]": 74.10884611930334,
         "_deepnote_index_column": "pretest_16"
        },
        {
         "CO2_working_capacity [mL/g]": 58.81033403526135,
         "_deepnote_index_column": "pretest_17"
        },
        {
         "CO2_working_capacity [mL/g]": 64.58159082426003,
         "_deepnote_index_column": "pretest_18"
        },
        {
         "CO2_working_capacity [mL/g]": 71.54566445764071,
         "_deepnote_index_column": "pretest_19"
        },
        {
         "CO2_working_capacity [mL/g]": 160.1054442056096,
         "_deepnote_index_column": "pretest_20"
        },
        {
         "CO2_working_capacity [mL/g]": 50.516213122048654,
         "_deepnote_index_column": "pretest_21"
        },
        {
         "CO2_working_capacity [mL/g]": 189.44634873577266,
         "_deepnote_index_column": "pretest_22"
        },
        {
         "CO2_working_capacity [mL/g]": 162.22477410722738,
         "_deepnote_index_column": "pretest_23"
        },
        {
         "CO2_working_capacity [mL/g]": 126.14396239901536,
         "_deepnote_index_column": "pretest_24"
        },
        {
         "CO2_working_capacity [mL/g]": 175.49543307081748,
         "_deepnote_index_column": "pretest_25"
        },
        {
         "CO2_working_capacity [mL/g]": 209.26096979910704,
         "_deepnote_index_column": "pretest_26"
        },
        {
         "CO2_working_capacity [mL/g]": 79.03601654300692,
         "_deepnote_index_column": "pretest_27"
        },
        {
         "CO2_working_capacity [mL/g]": 100.7059956319991,
         "_deepnote_index_column": "pretest_28"
        },
        {
         "CO2_working_capacity [mL/g]": 62.5478530290865,
         "_deepnote_index_column": "pretest_29"
        },
        {
         "CO2_working_capacity [mL/g]": 147.73587690221567,
         "_deepnote_index_column": "pretest_30"
        },
        {
         "CO2_working_capacity [mL/g]": 160.78953774737175,
         "_deepnote_index_column": "pretest_31"
        },
        {
         "CO2_working_capacity [mL/g]": 69.22713106669369,
         "_deepnote_index_column": "pretest_32"
        },
        {
         "CO2_working_capacity [mL/g]": 105.54381342949999,
         "_deepnote_index_column": "pretest_33"
        },
        {
         "CO2_working_capacity [mL/g]": 69.86323037677076,
         "_deepnote_index_column": "pretest_34"
        },
        {
         "CO2_working_capacity [mL/g]": 108.55717439061502,
         "_deepnote_index_column": "pretest_35"
        },
        {
         "CO2_working_capacity [mL/g]": 91.49049607891936,
         "_deepnote_index_column": "pretest_36"
        },
        {
         "CO2_working_capacity [mL/g]": 86.17237103432981,
         "_deepnote_index_column": "pretest_37"
        },
        {
         "CO2_working_capacity [mL/g]": 65.63967691298598,
         "_deepnote_index_column": "pretest_38"
        },
        {
         "CO2_working_capacity [mL/g]": 107.03026423264751,
         "_deepnote_index_column": "pretest_39"
        },
        {
         "CO2_working_capacity [mL/g]": 122.07842065294602,
         "_deepnote_index_column": "pretest_40"
        },
        {
         "CO2_working_capacity [mL/g]": 98.46798322937653,
         "_deepnote_index_column": "pretest_41"
        },
        {
         "CO2_working_capacity [mL/g]": 264.93459960633567,
         "_deepnote_index_column": "pretest_42"
        },
        {
         "CO2_working_capacity [mL/g]": 76.97480789925801,
         "_deepnote_index_column": "pretest_43"
        },
        {
         "CO2_working_capacity [mL/g]": 190.96463719247765,
         "_deepnote_index_column": "pretest_44"
        },
        {
         "CO2_working_capacity [mL/g]": 157.2209168550803,
         "_deepnote_index_column": "pretest_45"
        },
        {
         "CO2_working_capacity [mL/g]": 137.14772437224613,
         "_deepnote_index_column": "pretest_46"
        },
        {
         "CO2_working_capacity [mL/g]": 81.68696995221536,
         "_deepnote_index_column": "pretest_47"
        },
        {
         "CO2_working_capacity [mL/g]": 152.55549021222532,
         "_deepnote_index_column": "pretest_48"
        },
        {
         "CO2_working_capacity [mL/g]": 175.57943571421708,
         "_deepnote_index_column": "pretest_49"
        },
        {
         "CO2_working_capacity [mL/g]": 54.15335932998304,
         "_deepnote_index_column": "pretest_50"
        },
        {
         "CO2_working_capacity [mL/g]": 123.05225735995036,
         "_deepnote_index_column": "pretest_51"
        },
        {
         "CO2_working_capacity [mL/g]": 93.27782494720796,
         "_deepnote_index_column": "pretest_52"
        },
        {
         "CO2_working_capacity [mL/g]": 80.00201200562564,
         "_deepnote_index_column": "pretest_53"
        },
        {
         "CO2_working_capacity [mL/g]": 159.62724599050006,
         "_deepnote_index_column": "pretest_54"
        },
        {
         "CO2_working_capacity [mL/g]": 110.7003777775471,
         "_deepnote_index_column": "pretest_55"
        },
        {
         "CO2_working_capacity [mL/g]": 65.73149466090898,
         "_deepnote_index_column": "pretest_56"
        },
        {
         "CO2_working_capacity [mL/g]": 69.36943086573942,
         "_deepnote_index_column": "pretest_57"
        },
        {
         "CO2_working_capacity [mL/g]": 107.01894989500363,
         "_deepnote_index_column": "pretest_58"
        },
        {
         "CO2_working_capacity [mL/g]": 192.15372900098401,
         "_deepnote_index_column": "pretest_59"
        },
        {
         "CO2_working_capacity [mL/g]": 93.36789309522493,
         "_deepnote_index_column": "pretest_60"
        },
        {
         "CO2_working_capacity [mL/g]": 293.54628335487155,
         "_deepnote_index_column": "pretest_61"
        },
        {
         "CO2_working_capacity [mL/g]": 89.3608940490938,
         "_deepnote_index_column": "pretest_62"
        },
        {
         "CO2_working_capacity [mL/g]": 80.16628681824423,
         "_deepnote_index_column": "pretest_63"
        },
        {
         "CO2_working_capacity [mL/g]": 136.63069681751878,
         "_deepnote_index_column": "pretest_64"
        },
        {
         "CO2_working_capacity [mL/g]": 82.77618669537318,
         "_deepnote_index_column": "pretest_65"
        },
        {
         "CO2_working_capacity [mL/g]": 146.61885908442014,
         "_deepnote_index_column": "pretest_66"
        },
        {
         "CO2_working_capacity [mL/g]": 133.9238477768015,
         "_deepnote_index_column": "pretest_67"
        },
        {
         "CO2_working_capacity [mL/g]": 159.6090623174118,
         "_deepnote_index_column": "pretest_68"
        },
        {
         "CO2_working_capacity [mL/g]": 207.21693685561425,
         "_deepnote_index_column": "pretest_69"
        },
        {
         "CO2_working_capacity [mL/g]": 85.1345593753531,
         "_deepnote_index_column": "pretest_70"
        },
        {
         "CO2_working_capacity [mL/g]": 305.03047282943584,
         "_deepnote_index_column": "pretest_71"
        },
        {
         "CO2_working_capacity [mL/g]": 204.5178452920259,
         "_deepnote_index_column": "pretest_72"
        },
        {
         "CO2_working_capacity [mL/g]": 66.41017336411142,
         "_deepnote_index_column": "pretest_73"
        },
        {
         "CO2_working_capacity [mL/g]": 194.69620371653167,
         "_deepnote_index_column": "pretest_74"
        },
        {
         "CO2_working_capacity [mL/g]": 223.46289215205837,
         "_deepnote_index_column": "pretest_75"
        },
        {
         "CO2_working_capacity [mL/g]": 165.40120137969146,
         "_deepnote_index_column": "pretest_76"
        },
        {
         "CO2_working_capacity [mL/g]": 187.1648432536795,
         "_deepnote_index_column": "pretest_77"
        },
        {
         "CO2_working_capacity [mL/g]": 106.94545665793757,
         "_deepnote_index_column": "pretest_78"
        },
        {
         "CO2_working_capacity [mL/g]": 86.91531439104747,
         "_deepnote_index_column": "pretest_79"
        },
        {
         "CO2_working_capacity [mL/g]": 109.30968749198806,
         "_deepnote_index_column": "pretest_80"
        },
        {
         "CO2_working_capacity [mL/g]": 101.777004701121,
         "_deepnote_index_column": "pretest_81"
        },
        {
         "CO2_working_capacity [mL/g]": 172.20803162563567,
         "_deepnote_index_column": "pretest_82"
        },
        {
         "CO2_working_capacity [mL/g]": 85.5517812068421,
         "_deepnote_index_column": "pretest_83"
        },
        {
         "CO2_working_capacity [mL/g]": 250.24130228233523,
         "_deepnote_index_column": "pretest_84"
        },
        {
         "CO2_working_capacity [mL/g]": 78.47661207368797,
         "_deepnote_index_column": "pretest_85"
        },
        {
         "CO2_working_capacity [mL/g]": 65.95315310507132,
         "_deepnote_index_column": "pretest_86"
        },
        {
         "CO2_working_capacity [mL/g]": 107.96707579071675,
         "_deepnote_index_column": "pretest_87"
        },
        {
         "CO2_working_capacity [mL/g]": 135.48321986638925,
         "_deepnote_index_column": "pretest_88"
        },
        {
         "CO2_working_capacity [mL/g]": 92.57279334603099,
         "_deepnote_index_column": "pretest_89"
        },
        {
         "CO2_working_capacity [mL/g]": 206.66209010778113,
         "_deepnote_index_column": "pretest_90"
        },
        {
         "CO2_working_capacity [mL/g]": 97.50346435114864,
         "_deepnote_index_column": "pretest_91"
        },
        {
         "CO2_working_capacity [mL/g]": 191.16972317476132,
         "_deepnote_index_column": "pretest_92"
        },
        {
         "CO2_working_capacity [mL/g]": 117.75705739323246,
         "_deepnote_index_column": "pretest_93"
        },
        {
         "CO2_working_capacity [mL/g]": 191.51504135294223,
         "_deepnote_index_column": "pretest_94"
        },
        {
         "CO2_working_capacity [mL/g]": 77.40004268785997,
         "_deepnote_index_column": "pretest_95"
        },
        {
         "CO2_working_capacity [mL/g]": 176.62418031497742,
         "_deepnote_index_column": "pretest_96"
        },
        {
         "CO2_working_capacity [mL/g]": 61.76875416890415,
         "_deepnote_index_column": "pretest_97"
        },
        {
         "CO2_working_capacity [mL/g]": 86.74195277988473,
         "_deepnote_index_column": "pretest_98"
        },
        {
         "CO2_working_capacity [mL/g]": 187.63961504410912,
         "_deepnote_index_column": "pretest_99"
        },
        {
         "CO2_working_capacity [mL/g]": 70.48317301442125,
         "_deepnote_index_column": "pretest_100"
        },
        {
         "CO2_working_capacity [mL/g]": 75.17924510069193,
         "_deepnote_index_column": "pretest_101"
        },
        {
         "CO2_working_capacity [mL/g]": 100.26785443794323,
         "_deepnote_index_column": "pretest_102"
        },
        {
         "CO2_working_capacity [mL/g]": 96.40716780829156,
         "_deepnote_index_column": "pretest_103"
        },
        {
         "CO2_working_capacity [mL/g]": 122.19172304429375,
         "_deepnote_index_column": "pretest_104"
        },
        {
         "CO2_working_capacity [mL/g]": 74.52547735112384,
         "_deepnote_index_column": "pretest_105"
        },
        {
         "CO2_working_capacity [mL/g]": 100.67679206920671,
         "_deepnote_index_column": "pretest_106"
        },
        {
         "CO2_working_capacity [mL/g]": 96.71126515620512,
         "_deepnote_index_column": "pretest_107"
        },
        {
         "CO2_working_capacity [mL/g]": 218.51764476374487,
         "_deepnote_index_column": "pretest_108"
        },
        {
         "CO2_working_capacity [mL/g]": 70.62637299663069,
         "_deepnote_index_column": "pretest_109"
        },
        {
         "CO2_working_capacity [mL/g]": 87.15879781784459,
         "_deepnote_index_column": "pretest_110"
        },
        {
         "CO2_working_capacity [mL/g]": 86.53767777691695,
         "_deepnote_index_column": "pretest_111"
        },
        {
         "CO2_working_capacity [mL/g]": 161.5904023145886,
         "_deepnote_index_column": "pretest_112"
        },
        {
         "CO2_working_capacity [mL/g]": 229.29407415504494,
         "_deepnote_index_column": "pretest_113"
        },
        {
         "CO2_working_capacity [mL/g]": 77.06574767580008,
         "_deepnote_index_column": "pretest_114"
        },
        {
         "CO2_working_capacity [mL/g]": 98.51475398180177,
         "_deepnote_index_column": "pretest_115"
        },
        {
         "CO2_working_capacity [mL/g]": 73.6732109981279,
         "_deepnote_index_column": "pretest_116"
        },
        {
         "CO2_working_capacity [mL/g]": 123.89825906326666,
         "_deepnote_index_column": "pretest_117"
        },
        {
         "CO2_working_capacity [mL/g]": 109.80393937724108,
         "_deepnote_index_column": "pretest_118"
        },
        {
         "CO2_working_capacity [mL/g]": 264.86976552214566,
         "_deepnote_index_column": "pretest_119"
        },
        {
         "CO2_working_capacity [mL/g]": 104.11725426001249,
         "_deepnote_index_column": "pretest_120"
        },
        {
         "CO2_working_capacity [mL/g]": 67.5984323545599,
         "_deepnote_index_column": "pretest_121"
        },
        {
         "CO2_working_capacity [mL/g]": 121.18607511185205,
         "_deepnote_index_column": "pretest_122"
        },
        {
         "CO2_working_capacity [mL/g]": 108.96442003927876,
         "_deepnote_index_column": "pretest_123"
        },
        {
         "CO2_working_capacity [mL/g]": 104.32934215360201,
         "_deepnote_index_column": "pretest_124"
        },
        {
         "CO2_working_capacity [mL/g]": 182.5697230870932,
         "_deepnote_index_column": "pretest_125"
        },
        {
         "CO2_working_capacity [mL/g]": 45.55887457436074,
         "_deepnote_index_column": "pretest_126"
        },
        {
         "CO2_working_capacity [mL/g]": 132.03577284247874,
         "_deepnote_index_column": "pretest_127"
        },
        {
         "CO2_working_capacity [mL/g]": 169.3560099897387,
         "_deepnote_index_column": "pretest_128"
        },
        {
         "CO2_working_capacity [mL/g]": 78.07450636832392,
         "_deepnote_index_column": "pretest_129"
        },
        {
         "CO2_working_capacity [mL/g]": 150.0153269316148,
         "_deepnote_index_column": "pretest_130"
        },
        {
         "CO2_working_capacity [mL/g]": 185.37701791896822,
         "_deepnote_index_column": "pretest_131"
        },
        {
         "CO2_working_capacity [mL/g]": 65.73532918373506,
         "_deepnote_index_column": "pretest_132"
        },
        {
         "CO2_working_capacity [mL/g]": 279.8423134171712,
         "_deepnote_index_column": "pretest_133"
        },
        {
         "CO2_working_capacity [mL/g]": 84.49204306597132,
         "_deepnote_index_column": "pretest_134"
        },
        {
         "CO2_working_capacity [mL/g]": 222.50540477570416,
         "_deepnote_index_column": "pretest_135"
        },
        {
         "CO2_working_capacity [mL/g]": 238.86470984564647,
         "_deepnote_index_column": "pretest_136"
        },
        {
         "CO2_working_capacity [mL/g]": 228.50954309761565,
         "_deepnote_index_column": "pretest_137"
        },
        {
         "CO2_working_capacity [mL/g]": 135.14918283993805,
         "_deepnote_index_column": "pretest_138"
        },
        {
         "CO2_working_capacity [mL/g]": 88.09173879371092,
         "_deepnote_index_column": "pretest_139"
        },
        {
         "CO2_working_capacity [mL/g]": 64.63742426984774,
         "_deepnote_index_column": "pretest_140"
        },
        {
         "CO2_working_capacity [mL/g]": 119.22009584221095,
         "_deepnote_index_column": "pretest_141"
        },
        {
         "CO2_working_capacity [mL/g]": 62.79315479958108,
         "_deepnote_index_column": "pretest_142"
        },
        {
         "CO2_working_capacity [mL/g]": 77.87502992862295,
         "_deepnote_index_column": "pretest_143"
        },
        {
         "CO2_working_capacity [mL/g]": 81.06240453587806,
         "_deepnote_index_column": "pretest_144"
        },
        {
         "CO2_working_capacity [mL/g]": 62.49401474869576,
         "_deepnote_index_column": "pretest_145"
        },
        {
         "CO2_working_capacity [mL/g]": 87.50272123817888,
         "_deepnote_index_column": "pretest_146"
        },
        {
         "CO2_working_capacity [mL/g]": 90.36155641085627,
         "_deepnote_index_column": "pretest_147"
        },
        {
         "CO2_working_capacity [mL/g]": 189.84274605849504,
         "_deepnote_index_column": "pretest_148"
        },
        {
         "CO2_working_capacity [mL/g]": 140.36331696069652,
         "_deepnote_index_column": "pretest_149"
        },
        {
         "CO2_working_capacity [mL/g]": 131.52901972094844,
         "_deepnote_index_column": "pretest_150"
        },
        {
         "CO2_working_capacity [mL/g]": 79.24215286419793,
         "_deepnote_index_column": "pretest_151"
        },
        {
         "CO2_working_capacity [mL/g]": 163.75577142461464,
         "_deepnote_index_column": "pretest_152"
        },
        {
         "CO2_working_capacity [mL/g]": 91.7731621409209,
         "_deepnote_index_column": "pretest_153"
        },
        {
         "CO2_working_capacity [mL/g]": 77.32835264199895,
         "_deepnote_index_column": "pretest_154"
        },
        {
         "CO2_working_capacity [mL/g]": 458.71050940239434,
         "_deepnote_index_column": "pretest_155"
        },
        {
         "CO2_working_capacity [mL/g]": 249.05725132724595,
         "_deepnote_index_column": "pretest_156"
        },
        {
         "CO2_working_capacity [mL/g]": 67.0607464794353,
         "_deepnote_index_column": "pretest_157"
        },
        {
         "CO2_working_capacity [mL/g]": 150.35014607171658,
         "_deepnote_index_column": "pretest_158"
        },
        {
         "CO2_working_capacity [mL/g]": 103.82324296833018,
         "_deepnote_index_column": "pretest_159"
        },
        {
         "CO2_working_capacity [mL/g]": 204.68920906319417,
         "_deepnote_index_column": "pretest_160"
        },
        {
         "CO2_working_capacity [mL/g]": 149.04920532892675,
         "_deepnote_index_column": "pretest_161"
        },
        {
         "CO2_working_capacity [mL/g]": 101.9746149557335,
         "_deepnote_index_column": "pretest_162"
        },
        {
         "CO2_working_capacity [mL/g]": 103.45036262368929,
         "_deepnote_index_column": "pretest_163"
        },
        {
         "CO2_working_capacity [mL/g]": 111.45434256156415,
         "_deepnote_index_column": "pretest_164"
        },
        {
         "CO2_working_capacity [mL/g]": 113.90642927573292,
         "_deepnote_index_column": "pretest_165"
        },
        {
         "CO2_working_capacity [mL/g]": 252.53183246565152,
         "_deepnote_index_column": "pretest_166"
        },
        {
         "CO2_working_capacity [mL/g]": 337.5532448977415,
         "_deepnote_index_column": "pretest_167"
        },
        {
         "CO2_working_capacity [mL/g]": 243.10502674340586,
         "_deepnote_index_column": "pretest_168"
        },
        {
         "CO2_working_capacity [mL/g]": 75.12921699206413,
         "_deepnote_index_column": "pretest_169"
        },
        {
         "CO2_working_capacity [mL/g]": 249.8649890786427,
         "_deepnote_index_column": "pretest_170"
        },
        {
         "CO2_working_capacity [mL/g]": 192.23680604901634,
         "_deepnote_index_column": "pretest_171"
        },
        {
         "CO2_working_capacity [mL/g]": 109.73631979427687,
         "_deepnote_index_column": "pretest_172"
        },
        {
         "CO2_working_capacity [mL/g]": 94.52649710127436,
         "_deepnote_index_column": "pretest_173"
        },
        {
         "CO2_working_capacity [mL/g]": 133.621522558953,
         "_deepnote_index_column": "pretest_174"
        },
        {
         "CO2_working_capacity [mL/g]": 195.00779289958894,
         "_deepnote_index_column": "pretest_175"
        },
        {
         "CO2_working_capacity [mL/g]": 115.41830839676615,
         "_deepnote_index_column": "pretest_176"
        },
        {
         "CO2_working_capacity [mL/g]": 84.2125048611386,
         "_deepnote_index_column": "pretest_177"
        },
        {
         "CO2_working_capacity [mL/g]": 60.93186084544169,
         "_deepnote_index_column": "pretest_178"
        },
        {
         "CO2_working_capacity [mL/g]": 145.19823168387282,
         "_deepnote_index_column": "pretest_179"
        },
        {
         "CO2_working_capacity [mL/g]": 84.24279317179641,
         "_deepnote_index_column": "pretest_180"
        },
        {
         "CO2_working_capacity [mL/g]": 77.7785317666865,
         "_deepnote_index_column": "pretest_181"
        },
        {
         "CO2_working_capacity [mL/g]": 59.14512226655998,
         "_deepnote_index_column": "pretest_182"
        },
        {
         "CO2_working_capacity [mL/g]": 102.56329989876693,
         "_deepnote_index_column": "pretest_183"
        },
        {
         "CO2_working_capacity [mL/g]": 148.22620801511388,
         "_deepnote_index_column": "pretest_184"
        },
        {
         "CO2_working_capacity [mL/g]": 91.80893747356875,
         "_deepnote_index_column": "pretest_185"
        },
        {
         "CO2_working_capacity [mL/g]": 82.108031250217,
         "_deepnote_index_column": "pretest_186"
        },
        {
         "CO2_working_capacity [mL/g]": 95.49796353280107,
         "_deepnote_index_column": "pretest_187"
        },
        {
         "CO2_working_capacity [mL/g]": 69.62758616111938,
         "_deepnote_index_column": "pretest_188"
        },
        {
         "CO2_working_capacity [mL/g]": 113.02617544273492,
         "_deepnote_index_column": "pretest_189"
        },
        {
         "CO2_working_capacity [mL/g]": 118.79423693364457,
         "_deepnote_index_column": "pretest_190"
        },
        {
         "CO2_working_capacity [mL/g]": 85.00101500726215,
         "_deepnote_index_column": "pretest_191"
        },
        {
         "CO2_working_capacity [mL/g]": 71.15336749126122,
         "_deepnote_index_column": "pretest_192"
        },
        {
         "CO2_working_capacity [mL/g]": 81.61972675211075,
         "_deepnote_index_column": "pretest_193"
        },
        {
         "CO2_working_capacity [mL/g]": 126.76281776348866,
         "_deepnote_index_column": "pretest_194"
        },
        {
         "CO2_working_capacity [mL/g]": 116.22467999722909,
         "_deepnote_index_column": "pretest_195"
        },
        {
         "CO2_working_capacity [mL/g]": 71.72449189490194,
         "_deepnote_index_column": "pretest_196"
        },
        {
         "CO2_working_capacity [mL/g]": 205.8728069388818,
         "_deepnote_index_column": "pretest_197"
        },
        {
         "CO2_working_capacity [mL/g]": 49.126987019284705,
         "_deepnote_index_column": "pretest_198"
        },
        {
         "CO2_working_capacity [mL/g]": 57.8024231899691,
         "_deepnote_index_column": "pretest_199"
        },
        {
         "CO2_working_capacity [mL/g]": 114.77250248097498,
         "_deepnote_index_column": "pretest_200"
        },
        {
         "CO2_working_capacity [mL/g]": 127.4213719658599,
         "_deepnote_index_column": "pretest_201"
        },
        {
         "CO2_working_capacity [mL/g]": 146.52529427279455,
         "_deepnote_index_column": "pretest_202"
        },
        {
         "CO2_working_capacity [mL/g]": 35.72559467517362,
         "_deepnote_index_column": "pretest_203"
        },
        {
         "CO2_working_capacity [mL/g]": 66.1150049201434,
         "_deepnote_index_column": "pretest_204"
        },
        {
         "CO2_working_capacity [mL/g]": 121.54585256286362,
         "_deepnote_index_column": "pretest_205"
        },
        {
         "CO2_working_capacity [mL/g]": 104.32297280271904,
         "_deepnote_index_column": "pretest_206"
        },
        {
         "CO2_working_capacity [mL/g]": 62.17823085903623,
         "_deepnote_index_column": "pretest_207"
        },
        {
         "CO2_working_capacity [mL/g]": 175.43428697746813,
         "_deepnote_index_column": "pretest_208"
        },
        {
         "CO2_working_capacity [mL/g]": 72.75496259048353,
         "_deepnote_index_column": "pretest_209"
        },
        {
         "CO2_working_capacity [mL/g]": 178.31493331755337,
         "_deepnote_index_column": "pretest_210"
        },
        {
         "CO2_working_capacity [mL/g]": 64.80535290816273,
         "_deepnote_index_column": "pretest_211"
        },
        {
         "CO2_working_capacity [mL/g]": 141.39171820618037,
         "_deepnote_index_column": "pretest_212"
        },
        {
         "CO2_working_capacity [mL/g]": 179.54652029832457,
         "_deepnote_index_column": "pretest_213"
        },
        {
         "CO2_working_capacity [mL/g]": 139.22666180778842,
         "_deepnote_index_column": "pretest_214"
        },
        {
         "CO2_working_capacity [mL/g]": 88.30507868157498,
         "_deepnote_index_column": "pretest_215"
        },
        {
         "CO2_working_capacity [mL/g]": 115.90977529704473,
         "_deepnote_index_column": "pretest_216"
        },
        {
         "CO2_working_capacity [mL/g]": 90.0728101547972,
         "_deepnote_index_column": "pretest_217"
        },
        {
         "CO2_working_capacity [mL/g]": 104.36942105503547,
         "_deepnote_index_column": "pretest_218"
        },
        {
         "CO2_working_capacity [mL/g]": 145.72590175765632,
         "_deepnote_index_column": "pretest_219"
        },
        {
         "CO2_working_capacity [mL/g]": 69.70662819456221,
         "_deepnote_index_column": "pretest_220"
        },
        {
         "CO2_working_capacity [mL/g]": 88.92008508968664,
         "_deepnote_index_column": "pretest_221"
        },
        {
         "CO2_working_capacity [mL/g]": 203.53367227415325,
         "_deepnote_index_column": "pretest_222"
        },
        {
         "CO2_working_capacity [mL/g]": 93.83661054352984,
         "_deepnote_index_column": "pretest_223"
        },
        {
         "CO2_working_capacity [mL/g]": 98.29978924406284,
         "_deepnote_index_column": "pretest_224"
        },
        {
         "CO2_working_capacity [mL/g]": 74.89840612053196,
         "_deepnote_index_column": "pretest_225"
        },
        {
         "CO2_working_capacity [mL/g]": 127.33384564399161,
         "_deepnote_index_column": "pretest_226"
        },
        {
         "CO2_working_capacity [mL/g]": 100.22174298270821,
         "_deepnote_index_column": "pretest_227"
        },
        {
         "CO2_working_capacity [mL/g]": 76.70588373521682,
         "_deepnote_index_column": "pretest_228"
        },
        {
         "CO2_working_capacity [mL/g]": 299.41058030530513,
         "_deepnote_index_column": "pretest_229"
        },
        {
         "CO2_working_capacity [mL/g]": 160.98072256947188,
         "_deepnote_index_column": "pretest_230"
        },
        {
         "CO2_working_capacity [mL/g]": 71.6171912937652,
         "_deepnote_index_column": "pretest_231"
        },
        {
         "CO2_working_capacity [mL/g]": 109.72781271735272,
         "_deepnote_index_column": "pretest_232"
        },
        {
         "CO2_working_capacity [mL/g]": 71.47203943642894,
         "_deepnote_index_column": "pretest_233"
        },
        {
         "CO2_working_capacity [mL/g]": 72.0715366009425,
         "_deepnote_index_column": "pretest_234"
        },
        {
         "CO2_working_capacity [mL/g]": 113.52947723389951,
         "_deepnote_index_column": "pretest_235"
        },
        {
         "CO2_working_capacity [mL/g]": 205.31612247111582,
         "_deepnote_index_column": "pretest_236"
        },
        {
         "CO2_working_capacity [mL/g]": 97.90491557804897,
         "_deepnote_index_column": "pretest_237"
        },
        {
         "CO2_working_capacity [mL/g]": 71.58950617822573,
         "_deepnote_index_column": "pretest_238"
        },
        {
         "CO2_working_capacity [mL/g]": 155.53935862180398,
         "_deepnote_index_column": "pretest_239"
        },
        {
         "CO2_working_capacity [mL/g]": 116.5292261950346,
         "_deepnote_index_column": "pretest_240"
        },
        {
         "CO2_working_capacity [mL/g]": 91.32886676515417,
         "_deepnote_index_column": "pretest_241"
        },
        {
         "CO2_working_capacity [mL/g]": 183.76989691184605,
         "_deepnote_index_column": "pretest_242"
        },
        {
         "CO2_working_capacity [mL/g]": 184.5452347867148,
         "_deepnote_index_column": "pretest_243"
        },
        {
         "CO2_working_capacity [mL/g]": 87.51629361837875,
         "_deepnote_index_column": "pretest_244"
        },
        {
         "CO2_working_capacity [mL/g]": 104.1757636073259,
         "_deepnote_index_column": "pretest_245"
        },
        {
         "CO2_working_capacity [mL/g]": 57.0782695981983,
         "_deepnote_index_column": "pretest_246"
        },
        {
         "CO2_working_capacity [mL/g]": 96.79508906913935,
         "_deepnote_index_column": "pretest_247"
        },
        {
         "CO2_working_capacity [mL/g]": 71.97100877833897,
         "_deepnote_index_column": "pretest_248"
        },
        {
         "CO2_working_capacity [mL/g]": 182.58704611366613,
         "_deepnote_index_column": "pretest_249"
        },
        {
         "CO2_working_capacity [mL/g]": 136.97028596009216,
         "_deepnote_index_column": "pretest_250"
        },
        {
         "CO2_working_capacity [mL/g]": 141.5732601407234,
         "_deepnote_index_column": "pretest_251"
        },
        {
         "CO2_working_capacity [mL/g]": 306.9747114559948,
         "_deepnote_index_column": "pretest_252"
        },
        {
         "CO2_working_capacity [mL/g]": 283.8822493429826,
         "_deepnote_index_column": "pretest_253"
        },
        {
         "CO2_working_capacity [mL/g]": 205.36833001561806,
         "_deepnote_index_column": "pretest_254"
        },
        {
         "CO2_working_capacity [mL/g]": 285.75541490923626,
         "_deepnote_index_column": "pretest_255"
        },
        {
         "CO2_working_capacity [mL/g]": 261.6778578010607,
         "_deepnote_index_column": "pretest_256"
        },
        {
         "CO2_working_capacity [mL/g]": 129.46575137711562,
         "_deepnote_index_column": "pretest_257"
        },
        {
         "CO2_working_capacity [mL/g]": 144.02388846698125,
         "_deepnote_index_column": "pretest_258"
        },
        {
         "CO2_working_capacity [mL/g]": 422.94981215072505,
         "_deepnote_index_column": "pretest_259"
        },
        {
         "CO2_working_capacity [mL/g]": 195.05028001662697,
         "_deepnote_index_column": "pretest_260"
        },
        {
         "CO2_working_capacity [mL/g]": 72.30750395009944,
         "_deepnote_index_column": "pretest_261"
        },
        {
         "CO2_working_capacity [mL/g]": 79.17843545273588,
         "_deepnote_index_column": "pretest_262"
        },
        {
         "CO2_working_capacity [mL/g]": 180.5222507499774,
         "_deepnote_index_column": "pretest_263"
        },
        {
         "CO2_working_capacity [mL/g]": 114.32035029302689,
         "_deepnote_index_column": "pretest_264"
        },
        {
         "CO2_working_capacity [mL/g]": 177.18386975721853,
         "_deepnote_index_column": "pretest_265"
        },
        {
         "CO2_working_capacity [mL/g]": 102.28108822865184,
         "_deepnote_index_column": "pretest_266"
        },
        {
         "CO2_working_capacity [mL/g]": 255.93124410566398,
         "_deepnote_index_column": "pretest_267"
        },
        {
         "CO2_working_capacity [mL/g]": 73.74644697021533,
         "_deepnote_index_column": "pretest_268"
        },
        {
         "CO2_working_capacity [mL/g]": 61.52987207863712,
         "_deepnote_index_column": "pretest_269"
        },
        {
         "CO2_working_capacity [mL/g]": 125.31876192098306,
         "_deepnote_index_column": "pretest_270"
        },
        {
         "CO2_working_capacity [mL/g]": 109.74132465554692,
         "_deepnote_index_column": "pretest_271"
        },
        {
         "CO2_working_capacity [mL/g]": 108.62338211793453,
         "_deepnote_index_column": "pretest_272"
        },
        {
         "CO2_working_capacity [mL/g]": 99.61852223942269,
         "_deepnote_index_column": "pretest_273"
        },
        {
         "CO2_working_capacity [mL/g]": 65.89430196549972,
         "_deepnote_index_column": "pretest_274"
        },
        {
         "CO2_working_capacity [mL/g]": 78.3311330148215,
         "_deepnote_index_column": "pretest_275"
        },
        {
         "CO2_working_capacity [mL/g]": 129.23716730776917,
         "_deepnote_index_column": "pretest_276"
        },
        {
         "CO2_working_capacity [mL/g]": 72.35723615490002,
         "_deepnote_index_column": "pretest_277"
        },
        {
         "CO2_working_capacity [mL/g]": 157.00492171989873,
         "_deepnote_index_column": "pretest_278"
        },
        {
         "CO2_working_capacity [mL/g]": 231.456768162591,
         "_deepnote_index_column": "pretest_279"
        },
        {
         "CO2_working_capacity [mL/g]": 94.03696827286285,
         "_deepnote_index_column": "pretest_280"
        },
        {
         "CO2_working_capacity [mL/g]": 439.11546787844713,
         "_deepnote_index_column": "pretest_281"
        },
        {
         "CO2_working_capacity [mL/g]": 154.3681233439248,
         "_deepnote_index_column": "pretest_282"
        },
        {
         "CO2_working_capacity [mL/g]": 184.93448919086532,
         "_deepnote_index_column": "pretest_283"
        },
        {
         "CO2_working_capacity [mL/g]": 112.33953927084269,
         "_deepnote_index_column": "pretest_284"
        },
        {
         "CO2_working_capacity [mL/g]": 95.51224528773324,
         "_deepnote_index_column": "pretest_285"
        },
        {
         "CO2_working_capacity [mL/g]": 76.96771629339169,
         "_deepnote_index_column": "pretest_286"
        },
        {
         "CO2_working_capacity [mL/g]": 153.39265577482448,
         "_deepnote_index_column": "pretest_287"
        },
        {
         "CO2_working_capacity [mL/g]": 50.94898185656015,
         "_deepnote_index_column": "pretest_288"
        },
        {
         "CO2_working_capacity [mL/g]": 138.1596278597826,
         "_deepnote_index_column": "pretest_289"
        },
        {
         "CO2_working_capacity [mL/g]": 199.660190960279,
         "_deepnote_index_column": "pretest_290"
        },
        {
         "CO2_working_capacity [mL/g]": 181.4605559960637,
         "_deepnote_index_column": "pretest_291"
        },
        {
         "CO2_working_capacity [mL/g]": 183.44491661906974,
         "_deepnote_index_column": "pretest_292"
        },
        {
         "CO2_working_capacity [mL/g]": 88.67367027947104,
         "_deepnote_index_column": "pretest_293"
        },
        {
         "CO2_working_capacity [mL/g]": 268.0622655094909,
         "_deepnote_index_column": "pretest_294"
        },
        {
         "CO2_working_capacity [mL/g]": 63.23784985349384,
         "_deepnote_index_column": "pretest_295"
        },
        {
         "CO2_working_capacity [mL/g]": 343.0064192275518,
         "_deepnote_index_column": "pretest_296"
        },
        {
         "CO2_working_capacity [mL/g]": 66.03149810390374,
         "_deepnote_index_column": "pretest_297"
        },
        {
         "CO2_working_capacity [mL/g]": 157.22895512543352,
         "_deepnote_index_column": "pretest_298"
        },
        {
         "CO2_working_capacity [mL/g]": 207.07041180301417,
         "_deepnote_index_column": "pretest_299"
        },
        {
         "CO2_working_capacity [mL/g]": 53.200641849069996,
         "_deepnote_index_column": "pretest_300"
        },
        {
         "CO2_working_capacity [mL/g]": 168.462888036086,
         "_deepnote_index_column": "pretest_301"
        },
        {
         "CO2_working_capacity [mL/g]": 114.34844716843634,
         "_deepnote_index_column": "pretest_302"
        },
        {
         "CO2_working_capacity [mL/g]": 79.29984489375158,
         "_deepnote_index_column": "pretest_303"
        },
        {
         "CO2_working_capacity [mL/g]": 309.1656005778475,
         "_deepnote_index_column": "pretest_304"
        },
        {
         "CO2_working_capacity [mL/g]": 119.64201618545286,
         "_deepnote_index_column": "pretest_305"
        },
        {
         "CO2_working_capacity [mL/g]": 231.54048311285,
         "_deepnote_index_column": "pretest_306"
        },
        {
         "CO2_working_capacity [mL/g]": 48.28384199398095,
         "_deepnote_index_column": "pretest_307"
        },
        {
         "CO2_working_capacity [mL/g]": 118.30326607757571,
         "_deepnote_index_column": "pretest_308"
        },
        {
         "CO2_working_capacity [mL/g]": 161.7864640505845,
         "_deepnote_index_column": "pretest_309"
        },
        {
         "CO2_working_capacity [mL/g]": 113.83322966810367,
         "_deepnote_index_column": "pretest_310"
        },
        {
         "CO2_working_capacity [mL/g]": 116.02934595385894,
         "_deepnote_index_column": "pretest_311"
        },
        {
         "CO2_working_capacity [mL/g]": 61.66678269139995,
         "_deepnote_index_column": "pretest_312"
        },
        {
         "CO2_working_capacity [mL/g]": 110.98645074725111,
         "_deepnote_index_column": "pretest_313"
        },
        {
         "CO2_working_capacity [mL/g]": 78.40497282861476,
         "_deepnote_index_column": "pretest_314"
        },
        {
         "CO2_working_capacity [mL/g]": 188.43090026838746,
         "_deepnote_index_column": "pretest_315"
        },
        {
         "CO2_working_capacity [mL/g]": 128.25452714731634,
         "_deepnote_index_column": "pretest_316"
        },
        {
         "CO2_working_capacity [mL/g]": 93.2251114005201,
         "_deepnote_index_column": "pretest_317"
        },
        {
         "CO2_working_capacity [mL/g]": 84.46358099699768,
         "_deepnote_index_column": "pretest_318"
        },
        {
         "CO2_working_capacity [mL/g]": 84.0873363884512,
         "_deepnote_index_column": "pretest_319"
        },
        {
         "CO2_working_capacity [mL/g]": 158.62960094256482,
         "_deepnote_index_column": "pretest_320"
        },
        {
         "CO2_working_capacity [mL/g]": 128.35359613409807,
         "_deepnote_index_column": "pretest_321"
        },
        {
         "CO2_working_capacity [mL/g]": 107.25652022310008,
         "_deepnote_index_column": "pretest_322"
        },
        {
         "CO2_working_capacity [mL/g]": 155.3331490838314,
         "_deepnote_index_column": "pretest_323"
        },
        {
         "CO2_working_capacity [mL/g]": 78.4915828289153,
         "_deepnote_index_column": "pretest_324"
        },
        {
         "CO2_working_capacity [mL/g]": 122.9345885148721,
         "_deepnote_index_column": "pretest_325"
        },
        {
         "CO2_working_capacity [mL/g]": 156.75336580314286,
         "_deepnote_index_column": "pretest_326"
        },
        {
         "CO2_working_capacity [mL/g]": 115.73878673147027,
         "_deepnote_index_column": "pretest_327"
        },
        {
         "CO2_working_capacity [mL/g]": 66.32898560111866,
         "_deepnote_index_column": "pretest_328"
        },
        {
         "CO2_working_capacity [mL/g]": 77.04438808190051,
         "_deepnote_index_column": "pretest_329"
        },
        {
         "CO2_working_capacity [mL/g]": 61.2753575374728,
         "_deepnote_index_column": "pretest_330"
        },
        {
         "CO2_working_capacity [mL/g]": 204.94816911361093,
         "_deepnote_index_column": "pretest_331"
        },
        {
         "CO2_working_capacity [mL/g]": 117.64199909505395,
         "_deepnote_index_column": "pretest_332"
        },
        {
         "CO2_working_capacity [mL/g]": 110.15576315019817,
         "_deepnote_index_column": "pretest_333"
        },
        {
         "CO2_working_capacity [mL/g]": 77.13759881196611,
         "_deepnote_index_column": "pretest_334"
        },
        {
         "CO2_working_capacity [mL/g]": 93.02822744101674,
         "_deepnote_index_column": "pretest_335"
        },
        {
         "CO2_working_capacity [mL/g]": 129.7262965669453,
         "_deepnote_index_column": "pretest_336"
        },
        {
         "CO2_working_capacity [mL/g]": 106.90538309036592,
         "_deepnote_index_column": "pretest_337"
        },
        {
         "CO2_working_capacity [mL/g]": 215.69217089967694,
         "_deepnote_index_column": "pretest_338"
        },
        {
         "CO2_working_capacity [mL/g]": 424.7715662797158,
         "_deepnote_index_column": "pretest_339"
        },
        {
         "CO2_working_capacity [mL/g]": 178.95358821231704,
         "_deepnote_index_column": "pretest_340"
        },
        {
         "CO2_working_capacity [mL/g]": 68.75101888691995,
         "_deepnote_index_column": "pretest_341"
        },
        {
         "CO2_working_capacity [mL/g]": 79.57311992035916,
         "_deepnote_index_column": "pretest_342"
        },
        {
         "CO2_working_capacity [mL/g]": 125.97736736417737,
         "_deepnote_index_column": "pretest_343"
        },
        {
         "CO2_working_capacity [mL/g]": 169.7408340790807,
         "_deepnote_index_column": "pretest_344"
        },
        {
         "CO2_working_capacity [mL/g]": 429.32925867824736,
         "_deepnote_index_column": "pretest_345"
        },
        {
         "CO2_working_capacity [mL/g]": 151.97510024689655,
         "_deepnote_index_column": "pretest_346"
        },
        {
         "CO2_working_capacity [mL/g]": 219.096564012635,
         "_deepnote_index_column": "pretest_347"
        },
        {
         "CO2_working_capacity [mL/g]": 292.00291916171614,
         "_deepnote_index_column": "pretest_348"
        },
        {
         "CO2_working_capacity [mL/g]": 77.97308938690462,
         "_deepnote_index_column": "pretest_349"
        },
        {
         "CO2_working_capacity [mL/g]": 242.55681953072613,
         "_deepnote_index_column": "pretest_350"
        },
        {
         "CO2_working_capacity [mL/g]": 91.39852450326308,
         "_deepnote_index_column": "pretest_351"
        },
        {
         "CO2_working_capacity [mL/g]": 69.22260475015769,
         "_deepnote_index_column": "pretest_352"
        },
        {
         "CO2_working_capacity [mL/g]": 95.19957187250743,
         "_deepnote_index_column": "pretest_353"
        },
        {
         "CO2_working_capacity [mL/g]": 93.81395742765088,
         "_deepnote_index_column": "pretest_354"
        },
        {
         "CO2_working_capacity [mL/g]": 61.00186454902063,
         "_deepnote_index_column": "pretest_355"
        },
        {
         "CO2_working_capacity [mL/g]": 148.58879012055547,
         "_deepnote_index_column": "pretest_356"
        },
        {
         "CO2_working_capacity [mL/g]": 169.7297327659827,
         "_deepnote_index_column": "pretest_357"
        },
        {
         "CO2_working_capacity [mL/g]": 80.94440296014064,
         "_deepnote_index_column": "pretest_358"
        },
        {
         "CO2_working_capacity [mL/g]": 75.05457230636162,
         "_deepnote_index_column": "pretest_359"
        },
        {
         "CO2_working_capacity [mL/g]": 501.9424857692366,
         "_deepnote_index_column": "pretest_360"
        },
        {
         "CO2_working_capacity [mL/g]": 96.1019745781135,
         "_deepnote_index_column": "pretest_361"
        },
        {
         "CO2_working_capacity [mL/g]": 64.0829022524426,
         "_deepnote_index_column": "pretest_362"
        },
        {
         "CO2_working_capacity [mL/g]": 255.8779117499446,
         "_deepnote_index_column": "pretest_363"
        },
        {
         "CO2_working_capacity [mL/g]": 80.3849611305018,
         "_deepnote_index_column": "pretest_364"
        },
        {
         "CO2_working_capacity [mL/g]": 95.51763296472956,
         "_deepnote_index_column": "pretest_365"
        },
        {
         "CO2_working_capacity [mL/g]": 192.35440792043175,
         "_deepnote_index_column": "pretest_366"
        },
        {
         "CO2_working_capacity [mL/g]": 442.9218641645963,
         "_deepnote_index_column": "pretest_367"
        },
        {
         "CO2_working_capacity [mL/g]": 253.85213504222946,
         "_deepnote_index_column": "pretest_368"
        },
        {
         "CO2_working_capacity [mL/g]": 81.04373983137032,
         "_deepnote_index_column": "pretest_369"
        },
        {
         "CO2_working_capacity [mL/g]": 314.22350530660884,
         "_deepnote_index_column": "pretest_370"
        },
        {
         "CO2_working_capacity [mL/g]": 172.86854627606334,
         "_deepnote_index_column": "pretest_371"
        },
        {
         "CO2_working_capacity [mL/g]": 118.64421836713012,
         "_deepnote_index_column": "pretest_372"
        },
        {
         "CO2_working_capacity [mL/g]": 270.9769538446077,
         "_deepnote_index_column": "pretest_373"
        },
        {
         "CO2_working_capacity [mL/g]": 95.8720455496695,
         "_deepnote_index_column": "pretest_374"
        },
        {
         "CO2_working_capacity [mL/g]": 59.556398431914424,
         "_deepnote_index_column": "pretest_375"
        },
        {
         "CO2_working_capacity [mL/g]": 94.64859278870343,
         "_deepnote_index_column": "pretest_376"
        },
        {
         "CO2_working_capacity [mL/g]": 152.0156989520563,
         "_deepnote_index_column": "pretest_377"
        },
        {
         "CO2_working_capacity [mL/g]": 272.8579575736646,
         "_deepnote_index_column": "pretest_378"
        },
        {
         "CO2_working_capacity [mL/g]": 59.02195983666681,
         "_deepnote_index_column": "pretest_379"
        },
        {
         "CO2_working_capacity [mL/g]": 161.6235487282984,
         "_deepnote_index_column": "pretest_380"
        },
        {
         "CO2_working_capacity [mL/g]": 49.55266637855169,
         "_deepnote_index_column": "pretest_381"
        },
        {
         "CO2_working_capacity [mL/g]": 272.1414631522376,
         "_deepnote_index_column": "pretest_382"
        },
        {
         "CO2_working_capacity [mL/g]": 360.49061477885624,
         "_deepnote_index_column": "pretest_383"
        },
        {
         "CO2_working_capacity [mL/g]": 102.23110850695944,
         "_deepnote_index_column": "pretest_384"
        },
        {
         "CO2_working_capacity [mL/g]": 82.51310798898912,
         "_deepnote_index_column": "pretest_385"
        },
        {
         "CO2_working_capacity [mL/g]": 67.49707452676743,
         "_deepnote_index_column": "pretest_386"
        },
        {
         "CO2_working_capacity [mL/g]": 191.20314803517374,
         "_deepnote_index_column": "pretest_387"
        },
        {
         "CO2_working_capacity [mL/g]": 168.34155138629157,
         "_deepnote_index_column": "pretest_388"
        },
        {
         "CO2_working_capacity [mL/g]": 190.118722642669,
         "_deepnote_index_column": "pretest_389"
        },
        {
         "CO2_working_capacity [mL/g]": 102.47424445219656,
         "_deepnote_index_column": "pretest_390"
        },
        {
         "CO2_working_capacity [mL/g]": 72.26564078796228,
         "_deepnote_index_column": "pretest_391"
        },
        {
         "CO2_working_capacity [mL/g]": 85.85272507726695,
         "_deepnote_index_column": "pretest_392"
        },
        {
         "CO2_working_capacity [mL/g]": 221.3364122194412,
         "_deepnote_index_column": "pretest_393"
        },
        {
         "CO2_working_capacity [mL/g]": 214.3780947860806,
         "_deepnote_index_column": "pretest_394"
        },
        {
         "CO2_working_capacity [mL/g]": 248.29627332964728,
         "_deepnote_index_column": "pretest_395"
        },
        {
         "CO2_working_capacity [mL/g]": 95.82741840487662,
         "_deepnote_index_column": "pretest_396"
        },
        {
         "CO2_working_capacity [mL/g]": 104.79846811964073,
         "_deepnote_index_column": "pretest_397"
        },
        {
         "CO2_working_capacity [mL/g]": 217.2292319112616,
         "_deepnote_index_column": "pretest_398"
        },
        {
         "CO2_working_capacity [mL/g]": 96.23523600922572,
         "_deepnote_index_column": "pretest_399"
        },
        {
         "CO2_working_capacity [mL/g]": 146.8635227470042,
         "_deepnote_index_column": "pretest_400"
        },
        {
         "CO2_working_capacity [mL/g]": 110.68368471939651,
         "_deepnote_index_column": "pretest_401"
        },
        {
         "CO2_working_capacity [mL/g]": 73.23439475271057,
         "_deepnote_index_column": "pretest_402"
        },
        {
         "CO2_working_capacity [mL/g]": 85.23155557945393,
         "_deepnote_index_column": "pretest_403"
        },
        {
         "CO2_working_capacity [mL/g]": 80.4883932309965,
         "_deepnote_index_column": "pretest_404"
        },
        {
         "CO2_working_capacity [mL/g]": 199.66684341541742,
         "_deepnote_index_column": "pretest_405"
        },
        {
         "CO2_working_capacity [mL/g]": 73.6060991075612,
         "_deepnote_index_column": "pretest_406"
        },
        {
         "CO2_working_capacity [mL/g]": 131.2111033021346,
         "_deepnote_index_column": "pretest_407"
        },
        {
         "CO2_working_capacity [mL/g]": 109.8652059374354,
         "_deepnote_index_column": "pretest_408"
        },
        {
         "CO2_working_capacity [mL/g]": 61.55851237992559,
         "_deepnote_index_column": "pretest_409"
        },
        {
         "CO2_working_capacity [mL/g]": 93.83517415004658,
         "_deepnote_index_column": "pretest_410"
        },
        {
         "CO2_working_capacity [mL/g]": 318.23623046099294,
         "_deepnote_index_column": "pretest_411"
        },
        {
         "CO2_working_capacity [mL/g]": 91.98360091642773,
         "_deepnote_index_column": "pretest_412"
        },
        {
         "CO2_working_capacity [mL/g]": 130.85018225595888,
         "_deepnote_index_column": "pretest_413"
        },
        {
         "CO2_working_capacity [mL/g]": 160.6627515830168,
         "_deepnote_index_column": "pretest_414"
        },
        {
         "CO2_working_capacity [mL/g]": 140.7221381530961,
         "_deepnote_index_column": "pretest_415"
        },
        {
         "CO2_working_capacity [mL/g]": 81.39367829491275,
         "_deepnote_index_column": "pretest_416"
        },
        {
         "CO2_working_capacity [mL/g]": 98.40706529533384,
         "_deepnote_index_column": "pretest_417"
        },
        {
         "CO2_working_capacity [mL/g]": 248.5441280403289,
         "_deepnote_index_column": "pretest_418"
        },
        {
         "CO2_working_capacity [mL/g]": 218.4632399797118,
         "_deepnote_index_column": "pretest_419"
        },
        {
         "CO2_working_capacity [mL/g]": 97.73930908154956,
         "_deepnote_index_column": "pretest_420"
        },
        {
         "CO2_working_capacity [mL/g]": 66.8941032207689,
         "_deepnote_index_column": "pretest_421"
        },
        {
         "CO2_working_capacity [mL/g]": 102.67793141736924,
         "_deepnote_index_column": "pretest_422"
        },
        {
         "CO2_working_capacity [mL/g]": 84.63044226293705,
         "_deepnote_index_column": "pretest_423"
        },
        {
         "CO2_working_capacity [mL/g]": 242.21326416262798,
         "_deepnote_index_column": "pretest_424"
        },
        {
         "CO2_working_capacity [mL/g]": 322.7478471289937,
         "_deepnote_index_column": "pretest_425"
        },
        {
         "CO2_working_capacity [mL/g]": 76.47619182524983,
         "_deepnote_index_column": "pretest_426"
        },
        {
         "CO2_working_capacity [mL/g]": 107.23283647544056,
         "_deepnote_index_column": "pretest_427"
        },
        {
         "CO2_working_capacity [mL/g]": 167.23509655534198,
         "_deepnote_index_column": "pretest_428"
        },
        {
         "CO2_working_capacity [mL/g]": 164.4840288622098,
         "_deepnote_index_column": "pretest_429"
        },
        {
         "CO2_working_capacity [mL/g]": 225.06614480023046,
         "_deepnote_index_column": "pretest_430"
        },
        {
         "CO2_working_capacity [mL/g]": 251.06635861515372,
         "_deepnote_index_column": "pretest_431"
        },
        {
         "CO2_working_capacity [mL/g]": 143.90325197464918,
         "_deepnote_index_column": "pretest_432"
        },
        {
         "CO2_working_capacity [mL/g]": 228.14116430710845,
         "_deepnote_index_column": "pretest_433"
        },
        {
         "CO2_working_capacity [mL/g]": 342.8755525327372,
         "_deepnote_index_column": "pretest_434"
        },
        {
         "CO2_working_capacity [mL/g]": 75.5843298170214,
         "_deepnote_index_column": "pretest_435"
        },
        {
         "CO2_working_capacity [mL/g]": 70.18506414886885,
         "_deepnote_index_column": "pretest_436"
        },
        {
         "CO2_working_capacity [mL/g]": 108.41175766093654,
         "_deepnote_index_column": "pretest_437"
        },
        {
         "CO2_working_capacity [mL/g]": 56.07912948236746,
         "_deepnote_index_column": "pretest_438"
        },
        {
         "CO2_working_capacity [mL/g]": 193.18534203704178,
         "_deepnote_index_column": "pretest_439"
        },
        {
         "CO2_working_capacity [mL/g]": 88.32424718409699,
         "_deepnote_index_column": "pretest_440"
        },
        {
         "CO2_working_capacity [mL/g]": 110.44531802640527,
         "_deepnote_index_column": "pretest_441"
        },
        {
         "CO2_working_capacity [mL/g]": 121.76764428047312,
         "_deepnote_index_column": "pretest_442"
        },
        {
         "CO2_working_capacity [mL/g]": 247.3694094932521,
         "_deepnote_index_column": "pretest_443"
        },
        {
         "CO2_working_capacity [mL/g]": 54.061162064643206,
         "_deepnote_index_column": "pretest_444"
        },
        {
         "CO2_working_capacity [mL/g]": 65.07044938835112,
         "_deepnote_index_column": "pretest_445"
        },
        {
         "CO2_working_capacity [mL/g]": 59.38862099090557,
         "_deepnote_index_column": "pretest_446"
        },
        {
         "CO2_working_capacity [mL/g]": 114.04896162830566,
         "_deepnote_index_column": "pretest_447"
        },
        {
         "CO2_working_capacity [mL/g]": 270.0677601515337,
         "_deepnote_index_column": "pretest_448"
        },
        {
         "CO2_working_capacity [mL/g]": 93.3727942205703,
         "_deepnote_index_column": "pretest_449"
        },
        {
         "CO2_working_capacity [mL/g]": 65.34667672644412,
         "_deepnote_index_column": "pretest_450"
        },
        {
         "CO2_working_capacity [mL/g]": 374.58080997763386,
         "_deepnote_index_column": "pretest_451"
        },
        {
         "CO2_working_capacity [mL/g]": 68.32436577200346,
         "_deepnote_index_column": "pretest_452"
        },
        {
         "CO2_working_capacity [mL/g]": 72.80284853087944,
         "_deepnote_index_column": "pretest_453"
        },
        {
         "CO2_working_capacity [mL/g]": 75.94124459690184,
         "_deepnote_index_column": "pretest_454"
        },
        {
         "CO2_working_capacity [mL/g]": 138.78135299252057,
         "_deepnote_index_column": "pretest_455"
        },
        {
         "CO2_working_capacity [mL/g]": 53.5100466802729,
         "_deepnote_index_column": "pretest_456"
        },
        {
         "CO2_working_capacity [mL/g]": 106.7633287558261,
         "_deepnote_index_column": "pretest_457"
        },
        {
         "CO2_working_capacity [mL/g]": 279.43304982580594,
         "_deepnote_index_column": "pretest_458"
        },
        {
         "CO2_working_capacity [mL/g]": 91.79960375804927,
         "_deepnote_index_column": "pretest_459"
        },
        {
         "CO2_working_capacity [mL/g]": 129.97895082380174,
         "_deepnote_index_column": "pretest_460"
        },
        {
         "CO2_working_capacity [mL/g]": 78.18484725374826,
         "_deepnote_index_column": "pretest_461"
        },
        {
         "CO2_working_capacity [mL/g]": 318.5198772130759,
         "_deepnote_index_column": "pretest_462"
        },
        {
         "CO2_working_capacity [mL/g]": 230.1873741289364,
         "_deepnote_index_column": "pretest_463"
        },
        {
         "CO2_working_capacity [mL/g]": 95.69089172105154,
         "_deepnote_index_column": "pretest_464"
        },
        {
         "CO2_working_capacity [mL/g]": 476.14452690636637,
         "_deepnote_index_column": "pretest_465"
        },
        {
         "CO2_working_capacity [mL/g]": 79.10750760804498,
         "_deepnote_index_column": "pretest_466"
        },
        {
         "CO2_working_capacity [mL/g]": 113.60158940745637,
         "_deepnote_index_column": "pretest_467"
        },
        {
         "CO2_working_capacity [mL/g]": 200.56295475572918,
         "_deepnote_index_column": "pretest_468"
        },
        {
         "CO2_working_capacity [mL/g]": 258.64081305960804,
         "_deepnote_index_column": "pretest_469"
        },
        {
         "CO2_working_capacity [mL/g]": 125.0826817748601,
         "_deepnote_index_column": "pretest_470"
        },
        {
         "CO2_working_capacity [mL/g]": 232.16802015373366,
         "_deepnote_index_column": "pretest_471"
        },
        {
         "CO2_working_capacity [mL/g]": 213.6438638497022,
         "_deepnote_index_column": "pretest_472"
        },
        {
         "CO2_working_capacity [mL/g]": 118.3295101009846,
         "_deepnote_index_column": "pretest_473"
        },
        {
         "CO2_working_capacity [mL/g]": 266.6082745689891,
         "_deepnote_index_column": "pretest_474"
        },
        {
         "CO2_working_capacity [mL/g]": 425.70689104258753,
         "_deepnote_index_column": "pretest_475"
        },
        {
         "CO2_working_capacity [mL/g]": 207.018282257141,
         "_deepnote_index_column": "pretest_476"
        },
        {
         "CO2_working_capacity [mL/g]": 79.84690288389118,
         "_deepnote_index_column": "pretest_477"
        },
        {
         "CO2_working_capacity [mL/g]": 41.3871141413921,
         "_deepnote_index_column": "pretest_478"
        },
        {
         "CO2_working_capacity [mL/g]": 105.75011965958154,
         "_deepnote_index_column": "pretest_479"
        },
        {
         "CO2_working_capacity [mL/g]": 232.35480641367747,
         "_deepnote_index_column": "pretest_480"
        },
        {
         "CO2_working_capacity [mL/g]": 123.08635551137213,
         "_deepnote_index_column": "pretest_481"
        },
        {
         "CO2_working_capacity [mL/g]": 174.22249506682604,
         "_deepnote_index_column": "pretest_482"
        },
        {
         "CO2_working_capacity [mL/g]": 120.03169929044262,
         "_deepnote_index_column": "pretest_483"
        },
        {
         "CO2_working_capacity [mL/g]": 78.49055542988833,
         "_deepnote_index_column": "pretest_484"
        },
        {
         "CO2_working_capacity [mL/g]": 106.11455779126187,
         "_deepnote_index_column": "pretest_485"
        },
        {
         "CO2_working_capacity [mL/g]": 106.75974380579751,
         "_deepnote_index_column": "pretest_486"
        },
        {
         "CO2_working_capacity [mL/g]": 114.64022449739967,
         "_deepnote_index_column": "pretest_487"
        },
        {
         "CO2_working_capacity [mL/g]": 101.77972424070366,
         "_deepnote_index_column": "pretest_488"
        },
        {
         "CO2_working_capacity [mL/g]": 95.03478242919847,
         "_deepnote_index_column": "pretest_489"
        },
        {
         "CO2_working_capacity [mL/g]": 134.72877837959263,
         "_deepnote_index_column": "pretest_490"
        },
        {
         "CO2_working_capacity [mL/g]": 78.70045269745059,
         "_deepnote_index_column": "pretest_491"
        },
        {
         "CO2_working_capacity [mL/g]": 54.103423466534,
         "_deepnote_index_column": "pretest_492"
        },
        {
         "CO2_working_capacity [mL/g]": 89.15290496822055,
         "_deepnote_index_column": "pretest_493"
        },
        {
         "CO2_working_capacity [mL/g]": 139.81372619147817,
         "_deepnote_index_column": "pretest_494"
        },
        {
         "CO2_working_capacity [mL/g]": 114.9250907255337,
         "_deepnote_index_column": "pretest_495"
        },
        {
         "CO2_working_capacity [mL/g]": 92.65692392378098,
         "_deepnote_index_column": "pretest_496"
        },
        {
         "CO2_working_capacity [mL/g]": 76.17427143149587,
         "_deepnote_index_column": "pretest_497"
        },
        {
         "CO2_working_capacity [mL/g]": 110.91196920923323,
         "_deepnote_index_column": "pretest_498"
        },
        {
         "CO2_working_capacity [mL/g]": 265.41683600088913,
         "_deepnote_index_column": "pretest_499"
        },
        {
         "CO2_working_capacity [mL/g]": 276.6245202642012,
         "_deepnote_index_column": "pretest_500"
        }
       ],
       "rows_bottom": [
        {
         "CO2_working_capacity [mL/g]": -0.32755144385290336,
         "_deepnote_index_column": "pretest_1501"
        },
        {
         "CO2_working_capacity [mL/g]": 0.0697974143160377,
         "_deepnote_index_column": "pretest_1502"
        },
        {
         "CO2_working_capacity [mL/g]": -6.2542607116489215,
         "_deepnote_index_column": "pretest_1503"
        },
        {
         "CO2_working_capacity [mL/g]": 4.702974274384887,
         "_deepnote_index_column": "pretest_1504"
        },
        {
         "CO2_working_capacity [mL/g]": -5.828742428774071,
         "_deepnote_index_column": "pretest_1505"
        },
        {
         "CO2_working_capacity [mL/g]": -0.03333653371864656,
         "_deepnote_index_column": "pretest_1506"
        },
        {
         "CO2_working_capacity [mL/g]": -5.116767860789268,
         "_deepnote_index_column": "pretest_1507"
        },
        {
         "CO2_working_capacity [mL/g]": -7.591613491320052,
         "_deepnote_index_column": "pretest_1508"
        },
        {
         "CO2_working_capacity [mL/g]": -3.9402993932899992,
         "_deepnote_index_column": "pretest_1509"
        },
        {
         "CO2_working_capacity [mL/g]": -3.0399656339513945,
         "_deepnote_index_column": "pretest_1510"
        },
        {
         "CO2_working_capacity [mL/g]": 3.9260578774468358,
         "_deepnote_index_column": "pretest_1511"
        },
        {
         "CO2_working_capacity [mL/g]": 7.891445172390368,
         "_deepnote_index_column": "pretest_1512"
        },
        {
         "CO2_working_capacity [mL/g]": 1.8024656441721738,
         "_deepnote_index_column": "pretest_1513"
        },
        {
         "CO2_working_capacity [mL/g]": -6.79960360314947,
         "_deepnote_index_column": "pretest_1514"
        },
        {
         "CO2_working_capacity [mL/g]": 6.782413942786694,
         "_deepnote_index_column": "pretest_1515"
        },
        {
         "CO2_working_capacity [mL/g]": -3.315898462367369,
         "_deepnote_index_column": "pretest_1516"
        },
        {
         "CO2_working_capacity [mL/g]": -6.40631086299199,
         "_deepnote_index_column": "pretest_1517"
        },
        {
         "CO2_working_capacity [mL/g]": 29.696943281002465,
         "_deepnote_index_column": "pretest_1518"
        },
        {
         "CO2_working_capacity [mL/g]": -1.0311251707711409,
         "_deepnote_index_column": "pretest_1519"
        },
        {
         "CO2_working_capacity [mL/g]": 1.295311418084958,
         "_deepnote_index_column": "pretest_1520"
        },
        {
         "CO2_working_capacity [mL/g]": 2.01625054717652,
         "_deepnote_index_column": "pretest_1521"
        },
        {
         "CO2_working_capacity [mL/g]": -0.760930483304314,
         "_deepnote_index_column": "pretest_1522"
        },
        {
         "CO2_working_capacity [mL/g]": 0.37475781198587316,
         "_deepnote_index_column": "pretest_1523"
        },
        {
         "CO2_working_capacity [mL/g]": -3.3696889172233755,
         "_deepnote_index_column": "pretest_1524"
        },
        {
         "CO2_working_capacity [mL/g]": 1.0314537494330869,
         "_deepnote_index_column": "pretest_1525"
        },
        {
         "CO2_working_capacity [mL/g]": 8.711495054005644,
         "_deepnote_index_column": "pretest_1526"
        },
        {
         "CO2_working_capacity [mL/g]": 25.633394742107484,
         "_deepnote_index_column": "pretest_1527"
        },
        {
         "CO2_working_capacity [mL/g]": -1.1147563019691753,
         "_deepnote_index_column": "pretest_1528"
        },
        {
         "CO2_working_capacity [mL/g]": 11.782605774068452,
         "_deepnote_index_column": "pretest_1529"
        },
        {
         "CO2_working_capacity [mL/g]": 21.881010020998975,
         "_deepnote_index_column": "pretest_1530"
        },
        {
         "CO2_working_capacity [mL/g]": 2.7911498509043025,
         "_deepnote_index_column": "pretest_1531"
        },
        {
         "CO2_working_capacity [mL/g]": -2.3774788544311773,
         "_deepnote_index_column": "pretest_1532"
        },
        {
         "CO2_working_capacity [mL/g]": -4.627192710495112,
         "_deepnote_index_column": "pretest_1533"
        },
        {
         "CO2_working_capacity [mL/g]": -2.5656915358228196,
         "_deepnote_index_column": "pretest_1534"
        },
        {
         "CO2_working_capacity [mL/g]": -4.6029661162161934,
         "_deepnote_index_column": "pretest_1535"
        },
        {
         "CO2_working_capacity [mL/g]": -10.257053699400073,
         "_deepnote_index_column": "pretest_1536"
        },
        {
         "CO2_working_capacity [mL/g]": 4.174711128252723,
         "_deepnote_index_column": "pretest_1537"
        },
        {
         "CO2_working_capacity [mL/g]": -2.3442050768298754,
         "_deepnote_index_column": "pretest_1538"
        },
        {
         "CO2_working_capacity [mL/g]": 2.110998316889195,
         "_deepnote_index_column": "pretest_1539"
        },
        {
         "CO2_working_capacity [mL/g]": 3.6848387446942694,
         "_deepnote_index_column": "pretest_1540"
        },
        {
         "CO2_working_capacity [mL/g]": 4.426193181632053,
         "_deepnote_index_column": "pretest_1541"
        },
        {
         "CO2_working_capacity [mL/g]": -2.905418242989277,
         "_deepnote_index_column": "pretest_1542"
        },
        {
         "CO2_working_capacity [mL/g]": 4.2540732531361485,
         "_deepnote_index_column": "pretest_1543"
        },
        {
         "CO2_working_capacity [mL/g]": -9.500651755002158,
         "_deepnote_index_column": "pretest_1544"
        },
        {
         "CO2_working_capacity [mL/g]": -7.457987682733818,
         "_deepnote_index_column": "pretest_1545"
        },
        {
         "CO2_working_capacity [mL/g]": 5.598636313470999,
         "_deepnote_index_column": "pretest_1546"
        },
        {
         "CO2_working_capacity [mL/g]": -1.1398466205976245,
         "_deepnote_index_column": "pretest_1547"
        },
        {
         "CO2_working_capacity [mL/g]": 2.6026441889867926,
         "_deepnote_index_column": "pretest_1548"
        },
        {
         "CO2_working_capacity [mL/g]": -6.3048196084256345,
         "_deepnote_index_column": "pretest_1549"
        },
        {
         "CO2_working_capacity [mL/g]": -2.16089604625806,
         "_deepnote_index_column": "pretest_1550"
        },
        {
         "CO2_working_capacity [mL/g]": -0.421812970941134,
         "_deepnote_index_column": "pretest_1551"
        },
        {
         "CO2_working_capacity [mL/g]": -2.165193336852754,
         "_deepnote_index_column": "pretest_1552"
        },
        {
         "CO2_working_capacity [mL/g]": -13.434450602251765,
         "_deepnote_index_column": "pretest_1553"
        },
        {
         "CO2_working_capacity [mL/g]": -8.235905934465888,
         "_deepnote_index_column": "pretest_1554"
        },
        {
         "CO2_working_capacity [mL/g]": 6.456722834106549,
         "_deepnote_index_column": "pretest_1555"
        },
        {
         "CO2_working_capacity [mL/g]": -1.5219875453386407,
         "_deepnote_index_column": "pretest_1556"
        },
        {
         "CO2_working_capacity [mL/g]": 3.3513521465650853,
         "_deepnote_index_column": "pretest_1557"
        },
        {
         "CO2_working_capacity [mL/g]": 6.154674472034719,
         "_deepnote_index_column": "pretest_1558"
        },
        {
         "CO2_working_capacity [mL/g]": 2.424772779242638,
         "_deepnote_index_column": "pretest_1559"
        },
        {
         "CO2_working_capacity [mL/g]": 1.6280247086198114,
         "_deepnote_index_column": "pretest_1560"
        },
        {
         "CO2_working_capacity [mL/g]": -1.484959327992034,
         "_deepnote_index_column": "pretest_1561"
        },
        {
         "CO2_working_capacity [mL/g]": 6.943042393421794,
         "_deepnote_index_column": "pretest_1562"
        },
        {
         "CO2_working_capacity [mL/g]": 0.09730211627217003,
         "_deepnote_index_column": "pretest_1563"
        },
        {
         "CO2_working_capacity [mL/g]": 14.56305200876254,
         "_deepnote_index_column": "pretest_1564"
        },
        {
         "CO2_working_capacity [mL/g]": -4.211128842476116,
         "_deepnote_index_column": "pretest_1565"
        },
        {
         "CO2_working_capacity [mL/g]": 1.056924579565941,
         "_deepnote_index_column": "pretest_1566"
        },
        {
         "CO2_working_capacity [mL/g]": 85.13461381477983,
         "_deepnote_index_column": "pretest_1567"
        },
        {
         "CO2_working_capacity [mL/g]": -6.232592658580376,
         "_deepnote_index_column": "pretest_1568"
        },
        {
         "CO2_working_capacity [mL/g]": 74.72082502514859,
         "_deepnote_index_column": "pretest_1569"
        },
        {
         "CO2_working_capacity [mL/g]": 9.820606704664462,
         "_deepnote_index_column": "pretest_1570"
        },
        {
         "CO2_working_capacity [mL/g]": 3.73840086735779,
         "_deepnote_index_column": "pretest_1571"
        },
        {
         "CO2_working_capacity [mL/g]": 0.6222939252128359,
         "_deepnote_index_column": "pretest_1572"
        },
        {
         "CO2_working_capacity [mL/g]": -2.292906951507235,
         "_deepnote_index_column": "pretest_1573"
        },
        {
         "CO2_working_capacity [mL/g]": -2.2506852067408283,
         "_deepnote_index_column": "pretest_1574"
        },
        {
         "CO2_working_capacity [mL/g]": -4.186593139909488,
         "_deepnote_index_column": "pretest_1575"
        },
        {
         "CO2_working_capacity [mL/g]": -4.073172217255355,
         "_deepnote_index_column": "pretest_1576"
        },
        {
         "CO2_working_capacity [mL/g]": 7.258971353081034,
         "_deepnote_index_column": "pretest_1577"
        },
        {
         "CO2_working_capacity [mL/g]": 24.808377992210488,
         "_deepnote_index_column": "pretest_1578"
        },
        {
         "CO2_working_capacity [mL/g]": 0.7133580870588319,
         "_deepnote_index_column": "pretest_1579"
        },
        {
         "CO2_working_capacity [mL/g]": -3.6312069268581633,
         "_deepnote_index_column": "pretest_1580"
        },
        {
         "CO2_working_capacity [mL/g]": -5.371680619931124,
         "_deepnote_index_column": "pretest_1581"
        },
        {
         "CO2_working_capacity [mL/g]": -2.9867472187665154,
         "_deepnote_index_column": "pretest_1582"
        },
        {
         "CO2_working_capacity [mL/g]": -0.8213630900909511,
         "_deepnote_index_column": "pretest_1583"
        },
        {
         "CO2_working_capacity [mL/g]": 3.7222977961370614,
         "_deepnote_index_column": "pretest_1584"
        },
        {
         "CO2_working_capacity [mL/g]": 6.920570994577065,
         "_deepnote_index_column": "pretest_1585"
        },
        {
         "CO2_working_capacity [mL/g]": -3.806787672851462,
         "_deepnote_index_column": "pretest_1586"
        },
        {
         "CO2_working_capacity [mL/g]": 0.4241206902455626,
         "_deepnote_index_column": "pretest_1587"
        },
        {
         "CO2_working_capacity [mL/g]": 2.4200840511829824,
         "_deepnote_index_column": "pretest_1588"
        },
        {
         "CO2_working_capacity [mL/g]": -5.860282450092764,
         "_deepnote_index_column": "pretest_1589"
        },
        {
         "CO2_working_capacity [mL/g]": -7.572268964817195,
         "_deepnote_index_column": "pretest_1590"
        },
        {
         "CO2_working_capacity [mL/g]": 17.564494142695484,
         "_deepnote_index_column": "pretest_1591"
        },
        {
         "CO2_working_capacity [mL/g]": -2.8725536739027313,
         "_deepnote_index_column": "pretest_1592"
        },
        {
         "CO2_working_capacity [mL/g]": 9.548360709040306,
         "_deepnote_index_column": "pretest_1593"
        },
        {
         "CO2_working_capacity [mL/g]": -2.116986841846847,
         "_deepnote_index_column": "pretest_1594"
        },
        {
         "CO2_working_capacity [mL/g]": 3.2329970033310893,
         "_deepnote_index_column": "pretest_1595"
        },
        {
         "CO2_working_capacity [mL/g]": -3.4218635203020944,
         "_deepnote_index_column": "pretest_1596"
        },
        {
         "CO2_working_capacity [mL/g]": -2.682743347362824,
         "_deepnote_index_column": "pretest_1597"
        },
        {
         "CO2_working_capacity [mL/g]": -3.6876231349821142,
         "_deepnote_index_column": "pretest_1598"
        },
        {
         "CO2_working_capacity [mL/g]": -4.699770205476094,
         "_deepnote_index_column": "pretest_1599"
        },
        {
         "CO2_working_capacity [mL/g]": 0.2839816670244397,
         "_deepnote_index_column": "pretest_1600"
        },
        {
         "CO2_working_capacity [mL/g]": 0.30326362740651774,
         "_deepnote_index_column": "pretest_1601"
        },
        {
         "CO2_working_capacity [mL/g]": 1.4717203290742975,
         "_deepnote_index_column": "pretest_1602"
        },
        {
         "CO2_working_capacity [mL/g]": -0.5849721108568996,
         "_deepnote_index_column": "pretest_1603"
        },
        {
         "CO2_working_capacity [mL/g]": -9.658513720591552,
         "_deepnote_index_column": "pretest_1604"
        },
        {
         "CO2_working_capacity [mL/g]": -2.3367847854376733,
         "_deepnote_index_column": "pretest_1605"
        },
        {
         "CO2_working_capacity [mL/g]": 16.808790828743305,
         "_deepnote_index_column": "pretest_1606"
        },
        {
         "CO2_working_capacity [mL/g]": -5.892557792532866,
         "_deepnote_index_column": "pretest_1607"
        },
        {
         "CO2_working_capacity [mL/g]": -4.721804737704797,
         "_deepnote_index_column": "pretest_1608"
        },
        {
         "CO2_working_capacity [mL/g]": 0.6466261314180416,
         "_deepnote_index_column": "pretest_1609"
        },
        {
         "CO2_working_capacity [mL/g]": -4.467751845047931,
         "_deepnote_index_column": "pretest_1610"
        },
        {
         "CO2_working_capacity [mL/g]": 7.095677742125646,
         "_deepnote_index_column": "pretest_1611"
        },
        {
         "CO2_working_capacity [mL/g]": -1.5648409941012984,
         "_deepnote_index_column": "pretest_1612"
        },
        {
         "CO2_working_capacity [mL/g]": 0.721410475371561,
         "_deepnote_index_column": "pretest_1613"
        },
        {
         "CO2_working_capacity [mL/g]": -2.249192195339325,
         "_deepnote_index_column": "pretest_1614"
        },
        {
         "CO2_working_capacity [mL/g]": -11.088005622446499,
         "_deepnote_index_column": "pretest_1615"
        },
        {
         "CO2_working_capacity [mL/g]": -1.2390670364682823,
         "_deepnote_index_column": "pretest_1616"
        },
        {
         "CO2_working_capacity [mL/g]": -9.849606009961542,
         "_deepnote_index_column": "pretest_1617"
        },
        {
         "CO2_working_capacity [mL/g]": -7.2893708787920435,
         "_deepnote_index_column": "pretest_1618"
        },
        {
         "CO2_working_capacity [mL/g]": -12.667683881649138,
         "_deepnote_index_column": "pretest_1619"
        },
        {
         "CO2_working_capacity [mL/g]": -0.5281515953716638,
         "_deepnote_index_column": "pretest_1620"
        },
        {
         "CO2_working_capacity [mL/g]": 1.2843887962945069,
         "_deepnote_index_column": "pretest_1621"
        },
        {
         "CO2_working_capacity [mL/g]": -4.328455695992234,
         "_deepnote_index_column": "pretest_1622"
        },
        {
         "CO2_working_capacity [mL/g]": -1.58145163101553,
         "_deepnote_index_column": "pretest_1623"
        },
        {
         "CO2_working_capacity [mL/g]": 2.0642808687857013,
         "_deepnote_index_column": "pretest_1624"
        },
        {
         "CO2_working_capacity [mL/g]": 5.049194061495275,
         "_deepnote_index_column": "pretest_1625"
        },
        {
         "CO2_working_capacity [mL/g]": 7.941061477752378,
         "_deepnote_index_column": "pretest_1626"
        },
        {
         "CO2_working_capacity [mL/g]": -5.965926850853231,
         "_deepnote_index_column": "pretest_1627"
        },
        {
         "CO2_working_capacity [mL/g]": 0.17064856867975095,
         "_deepnote_index_column": "pretest_1628"
        },
        {
         "CO2_working_capacity [mL/g]": -7.8160312686498745,
         "_deepnote_index_column": "pretest_1629"
        },
        {
         "CO2_working_capacity [mL/g]": -1.9327982654387115,
         "_deepnote_index_column": "pretest_1630"
        },
        {
         "CO2_working_capacity [mL/g]": -8.270709808361758,
         "_deepnote_index_column": "pretest_1631"
        },
        {
         "CO2_working_capacity [mL/g]": 4.317470187960431,
         "_deepnote_index_column": "pretest_1632"
        },
        {
         "CO2_working_capacity [mL/g]": 2.7372710330504315,
         "_deepnote_index_column": "pretest_1633"
        },
        {
         "CO2_working_capacity [mL/g]": 3.3923478437933223,
         "_deepnote_index_column": "pretest_1634"
        },
        {
         "CO2_working_capacity [mL/g]": 41.096569928445554,
         "_deepnote_index_column": "pretest_1635"
        },
        {
         "CO2_working_capacity [mL/g]": 4.66469319437033,
         "_deepnote_index_column": "pretest_1636"
        },
        {
         "CO2_working_capacity [mL/g]": -1.8316078709835393,
         "_deepnote_index_column": "pretest_1637"
        },
        {
         "CO2_working_capacity [mL/g]": -10.223848625386598,
         "_deepnote_index_column": "pretest_1638"
        },
        {
         "CO2_working_capacity [mL/g]": -2.5080785422944563,
         "_deepnote_index_column": "pretest_1639"
        },
        {
         "CO2_working_capacity [mL/g]": 7.795635611401505,
         "_deepnote_index_column": "pretest_1640"
        },
        {
         "CO2_working_capacity [mL/g]": -1.783396383684476,
         "_deepnote_index_column": "pretest_1641"
        },
        {
         "CO2_working_capacity [mL/g]": 34.667146559641026,
         "_deepnote_index_column": "pretest_1642"
        },
        {
         "CO2_working_capacity [mL/g]": 4.365240869127022,
         "_deepnote_index_column": "pretest_1643"
        },
        {
         "CO2_working_capacity [mL/g]": 1.1987050979655252,
         "_deepnote_index_column": "pretest_1644"
        },
        {
         "CO2_working_capacity [mL/g]": 2.125371261775235,
         "_deepnote_index_column": "pretest_1645"
        },
        {
         "CO2_working_capacity [mL/g]": 5.896891428876192,
         "_deepnote_index_column": "pretest_1646"
        },
        {
         "CO2_working_capacity [mL/g]": -1.2001725036069915,
         "_deepnote_index_column": "pretest_1647"
        },
        {
         "CO2_working_capacity [mL/g]": -1.7774705055215576,
         "_deepnote_index_column": "pretest_1648"
        },
        {
         "CO2_working_capacity [mL/g]": -12.661336330521813,
         "_deepnote_index_column": "pretest_1649"
        },
        {
         "CO2_working_capacity [mL/g]": -6.531820420087756,
         "_deepnote_index_column": "pretest_1650"
        },
        {
         "CO2_working_capacity [mL/g]": 5.681029746204709,
         "_deepnote_index_column": "pretest_1651"
        },
        {
         "CO2_working_capacity [mL/g]": -4.855745655280602,
         "_deepnote_index_column": "pretest_1652"
        },
        {
         "CO2_working_capacity [mL/g]": 1.4245989126826963,
         "_deepnote_index_column": "pretest_1653"
        },
        {
         "CO2_working_capacity [mL/g]": 21.35047979004565,
         "_deepnote_index_column": "pretest_1654"
        },
        {
         "CO2_working_capacity [mL/g]": -0.136049649102345,
         "_deepnote_index_column": "pretest_1655"
        },
        {
         "CO2_working_capacity [mL/g]": -1.629621447013169,
         "_deepnote_index_column": "pretest_1656"
        },
        {
         "CO2_working_capacity [mL/g]": -0.6025217656540618,
         "_deepnote_index_column": "pretest_1657"
        },
        {
         "CO2_working_capacity [mL/g]": 4.308261562208467,
         "_deepnote_index_column": "pretest_1658"
        },
        {
         "CO2_working_capacity [mL/g]": 6.699644991722419,
         "_deepnote_index_column": "pretest_1659"
        },
        {
         "CO2_working_capacity [mL/g]": -4.007339785526592,
         "_deepnote_index_column": "pretest_1660"
        },
        {
         "CO2_working_capacity [mL/g]": 2.355330407755262,
         "_deepnote_index_column": "pretest_1661"
        },
        {
         "CO2_working_capacity [mL/g]": -4.525499055692023,
         "_deepnote_index_column": "pretest_1662"
        },
        {
         "CO2_working_capacity [mL/g]": -8.095674912658504,
         "_deepnote_index_column": "pretest_1663"
        },
        {
         "CO2_working_capacity [mL/g]": -3.9751783200966857,
         "_deepnote_index_column": "pretest_1664"
        },
        {
         "CO2_working_capacity [mL/g]": 5.294673095415838,
         "_deepnote_index_column": "pretest_1665"
        },
        {
         "CO2_working_capacity [mL/g]": -6.944519820177682,
         "_deepnote_index_column": "pretest_1666"
        },
        {
         "CO2_working_capacity [mL/g]": -0.3234724788423317,
         "_deepnote_index_column": "pretest_1667"
        },
        {
         "CO2_working_capacity [mL/g]": -3.8314948410531016,
         "_deepnote_index_column": "pretest_1668"
        },
        {
         "CO2_working_capacity [mL/g]": 3.8100105279862815,
         "_deepnote_index_column": "pretest_1669"
        },
        {
         "CO2_working_capacity [mL/g]": -5.957187657180234,
         "_deepnote_index_column": "pretest_1670"
        },
        {
         "CO2_working_capacity [mL/g]": -4.155689016513828,
         "_deepnote_index_column": "pretest_1671"
        },
        {
         "CO2_working_capacity [mL/g]": -0.24434543788663518,
         "_deepnote_index_column": "pretest_1672"
        },
        {
         "CO2_working_capacity [mL/g]": 0.9743572195164296,
         "_deepnote_index_column": "pretest_1673"
        },
        {
         "CO2_working_capacity [mL/g]": 2.1842581804887726,
         "_deepnote_index_column": "pretest_1674"
        },
        {
         "CO2_working_capacity [mL/g]": -4.9604002558462446,
         "_deepnote_index_column": "pretest_1675"
        },
        {
         "CO2_working_capacity [mL/g]": -3.8999737839827344,
         "_deepnote_index_column": "pretest_1676"
        },
        {
         "CO2_working_capacity [mL/g]": -5.813836190350562,
         "_deepnote_index_column": "pretest_1677"
        },
        {
         "CO2_working_capacity [mL/g]": 1.2511219144479204,
         "_deepnote_index_column": "pretest_1678"
        },
        {
         "CO2_working_capacity [mL/g]": 38.6262265775832,
         "_deepnote_index_column": "pretest_1679"
        },
        {
         "CO2_working_capacity [mL/g]": 1.3293028903188329,
         "_deepnote_index_column": "pretest_1680"
        },
        {
         "CO2_working_capacity [mL/g]": 8.749027504388255,
         "_deepnote_index_column": "pretest_1681"
        },
        {
         "CO2_working_capacity [mL/g]": -0.8592425987738231,
         "_deepnote_index_column": "pretest_1682"
        },
        {
         "CO2_working_capacity [mL/g]": 35.33064521946312,
         "_deepnote_index_column": "pretest_1683"
        },
        {
         "CO2_working_capacity [mL/g]": -3.1363789382594622,
         "_deepnote_index_column": "pretest_1684"
        },
        {
         "CO2_working_capacity [mL/g]": 1.1953817338795887,
         "_deepnote_index_column": "pretest_1685"
        },
        {
         "CO2_working_capacity [mL/g]": -0.6229246308566998,
         "_deepnote_index_column": "pretest_1686"
        },
        {
         "CO2_working_capacity [mL/g]": -1.06534083809421,
         "_deepnote_index_column": "pretest_1687"
        },
        {
         "CO2_working_capacity [mL/g]": 6.384979768852486,
         "_deepnote_index_column": "pretest_1688"
        },
        {
         "CO2_working_capacity [mL/g]": 0.37949028454787026,
         "_deepnote_index_column": "pretest_1689"
        },
        {
         "CO2_working_capacity [mL/g]": -0.8579127911650944,
         "_deepnote_index_column": "pretest_1690"
        },
        {
         "CO2_working_capacity [mL/g]": 1.0973638278952336,
         "_deepnote_index_column": "pretest_1691"
        },
        {
         "CO2_working_capacity [mL/g]": 1.360957276701206,
         "_deepnote_index_column": "pretest_1692"
        },
        {
         "CO2_working_capacity [mL/g]": 1.1826486969105268,
         "_deepnote_index_column": "pretest_1693"
        },
        {
         "CO2_working_capacity [mL/g]": 0.3554230005929658,
         "_deepnote_index_column": "pretest_1694"
        },
        {
         "CO2_working_capacity [mL/g]": 0.0922690412990633,
         "_deepnote_index_column": "pretest_1695"
        },
        {
         "CO2_working_capacity [mL/g]": -4.791460853208138,
         "_deepnote_index_column": "pretest_1696"
        },
        {
         "CO2_working_capacity [mL/g]": -0.05595527302432998,
         "_deepnote_index_column": "pretest_1697"
        },
        {
         "CO2_working_capacity [mL/g]": -0.6646574038581161,
         "_deepnote_index_column": "pretest_1698"
        },
        {
         "CO2_working_capacity [mL/g]": 1.110521292694841,
         "_deepnote_index_column": "pretest_1699"
        },
        {
         "CO2_working_capacity [mL/g]": 2.4103317624522735,
         "_deepnote_index_column": "pretest_1700"
        },
        {
         "CO2_working_capacity [mL/g]": 17.293874019791843,
         "_deepnote_index_column": "pretest_1701"
        },
        {
         "CO2_working_capacity [mL/g]": 1.6958871779654887,
         "_deepnote_index_column": "pretest_1702"
        },
        {
         "CO2_working_capacity [mL/g]": -3.162016725254857,
         "_deepnote_index_column": "pretest_1703"
        },
        {
         "CO2_working_capacity [mL/g]": 1.3742555373754477,
         "_deepnote_index_column": "pretest_1704"
        },
        {
         "CO2_working_capacity [mL/g]": 15.093837079738876,
         "_deepnote_index_column": "pretest_1705"
        },
        {
         "CO2_working_capacity [mL/g]": 1.858214634165093,
         "_deepnote_index_column": "pretest_1706"
        },
        {
         "CO2_working_capacity [mL/g]": 3.26526898777131,
         "_deepnote_index_column": "pretest_1707"
        },
        {
         "CO2_working_capacity [mL/g]": -2.955190494630656,
         "_deepnote_index_column": "pretest_1708"
        },
        {
         "CO2_working_capacity [mL/g]": -3.3260764313711024,
         "_deepnote_index_column": "pretest_1709"
        },
        {
         "CO2_working_capacity [mL/g]": 9.326198129580977,
         "_deepnote_index_column": "pretest_1710"
        },
        {
         "CO2_working_capacity [mL/g]": 2.8876533019877786,
         "_deepnote_index_column": "pretest_1711"
        },
        {
         "CO2_working_capacity [mL/g]": 2.991636914063306,
         "_deepnote_index_column": "pretest_1712"
        },
        {
         "CO2_working_capacity [mL/g]": -3.0829212872753686,
         "_deepnote_index_column": "pretest_1713"
        },
        {
         "CO2_working_capacity [mL/g]": 3.955239338201115,
         "_deepnote_index_column": "pretest_1714"
        },
        {
         "CO2_working_capacity [mL/g]": -0.8909427040130413,
         "_deepnote_index_column": "pretest_1715"
        },
        {
         "CO2_working_capacity [mL/g]": -3.152663558374078,
         "_deepnote_index_column": "pretest_1716"
        },
        {
         "CO2_working_capacity [mL/g]": 2.006056536917891,
         "_deepnote_index_column": "pretest_1717"
        },
        {
         "CO2_working_capacity [mL/g]": 15.714236694137012,
         "_deepnote_index_column": "pretest_1718"
        },
        {
         "CO2_working_capacity [mL/g]": 1.9929234278352541,
         "_deepnote_index_column": "pretest_1719"
        },
        {
         "CO2_working_capacity [mL/g]": 8.708518948941354,
         "_deepnote_index_column": "pretest_1720"
        },
        {
         "CO2_working_capacity [mL/g]": 6.454906754540187,
         "_deepnote_index_column": "pretest_1721"
        },
        {
         "CO2_working_capacity [mL/g]": -2.2277142814182866,
         "_deepnote_index_column": "pretest_1722"
        },
        {
         "CO2_working_capacity [mL/g]": 1.1978855551826364,
         "_deepnote_index_column": "pretest_1723"
        },
        {
         "CO2_working_capacity [mL/g]": -4.935234242217735,
         "_deepnote_index_column": "pretest_1724"
        },
        {
         "CO2_working_capacity [mL/g]": 0.6485084859936713,
         "_deepnote_index_column": "pretest_1725"
        },
        {
         "CO2_working_capacity [mL/g]": 1.5919648131962907,
         "_deepnote_index_column": "pretest_1726"
        },
        {
         "CO2_working_capacity [mL/g]": 4.966200809335686,
         "_deepnote_index_column": "pretest_1727"
        },
        {
         "CO2_working_capacity [mL/g]": -13.357565101557151,
         "_deepnote_index_column": "pretest_1728"
        },
        {
         "CO2_working_capacity [mL/g]": -5.994430151953798,
         "_deepnote_index_column": "pretest_1729"
        },
        {
         "CO2_working_capacity [mL/g]": 1.2659955951231499,
         "_deepnote_index_column": "pretest_1730"
        },
        {
         "CO2_working_capacity [mL/g]": -3.741088286315622,
         "_deepnote_index_column": "pretest_1731"
        },
        {
         "CO2_working_capacity [mL/g]": -3.910731840731936,
         "_deepnote_index_column": "pretest_1732"
        },
        {
         "CO2_working_capacity [mL/g]": 2.661810400140204,
         "_deepnote_index_column": "pretest_1733"
        },
        {
         "CO2_working_capacity [mL/g]": 54.94618063267672,
         "_deepnote_index_column": "pretest_1734"
        },
        {
         "CO2_working_capacity [mL/g]": -1.4197116379677692,
         "_deepnote_index_column": "pretest_1735"
        },
        {
         "CO2_working_capacity [mL/g]": -1.953385295953728,
         "_deepnote_index_column": "pretest_1736"
        },
        {
         "CO2_working_capacity [mL/g]": -7.965999995529528,
         "_deepnote_index_column": "pretest_1737"
        },
        {
         "CO2_working_capacity [mL/g]": 4.066693640973803,
         "_deepnote_index_column": "pretest_1738"
        },
        {
         "CO2_working_capacity [mL/g]": 1.4065389938463415,
         "_deepnote_index_column": "pretest_1739"
        },
        {
         "CO2_working_capacity [mL/g]": -2.190962015340133,
         "_deepnote_index_column": "pretest_1740"
        },
        {
         "CO2_working_capacity [mL/g]": -3.9922950510320185,
         "_deepnote_index_column": "pretest_1741"
        },
        {
         "CO2_working_capacity [mL/g]": -3.290553951581119,
         "_deepnote_index_column": "pretest_1742"
        },
        {
         "CO2_working_capacity [mL/g]": 6.442303380266506,
         "_deepnote_index_column": "pretest_1743"
        },
        {
         "CO2_working_capacity [mL/g]": -0.516551903005598,
         "_deepnote_index_column": "pretest_1744"
        },
        {
         "CO2_working_capacity [mL/g]": -2.6830235311526116,
         "_deepnote_index_column": "pretest_1745"
        },
        {
         "CO2_working_capacity [mL/g]": 12.380402942881299,
         "_deepnote_index_column": "pretest_1746"
        },
        {
         "CO2_working_capacity [mL/g]": 4.076449537493631,
         "_deepnote_index_column": "pretest_1747"
        },
        {
         "CO2_working_capacity [mL/g]": -0.3967449456898537,
         "_deepnote_index_column": "pretest_1748"
        },
        {
         "CO2_working_capacity [mL/g]": -7.577339285556743,
         "_deepnote_index_column": "pretest_1749"
        },
        {
         "CO2_working_capacity [mL/g]": -0.561328459171617,
         "_deepnote_index_column": "pretest_1750"
        },
        {
         "CO2_working_capacity [mL/g]": -9.542482127790263,
         "_deepnote_index_column": "pretest_1751"
        },
        {
         "CO2_working_capacity [mL/g]": 0.8537371634183925,
         "_deepnote_index_column": "pretest_1752"
        },
        {
         "CO2_working_capacity [mL/g]": -7.06902800739839,
         "_deepnote_index_column": "pretest_1753"
        },
        {
         "CO2_working_capacity [mL/g]": 2.099786732221628,
         "_deepnote_index_column": "pretest_1754"
        },
        {
         "CO2_working_capacity [mL/g]": -3.8358814374947396,
         "_deepnote_index_column": "pretest_1755"
        },
        {
         "CO2_working_capacity [mL/g]": -4.739525600055177,
         "_deepnote_index_column": "pretest_1756"
        },
        {
         "CO2_working_capacity [mL/g]": -3.5140811295764256,
         "_deepnote_index_column": "pretest_1757"
        },
        {
         "CO2_working_capacity [mL/g]": -3.7837548100481344,
         "_deepnote_index_column": "pretest_1758"
        },
        {
         "CO2_working_capacity [mL/g]": -3.025113255814782,
         "_deepnote_index_column": "pretest_1759"
        },
        {
         "CO2_working_capacity [mL/g]": 8.64854824205965,
         "_deepnote_index_column": "pretest_1760"
        },
        {
         "CO2_working_capacity [mL/g]": 45.229138729795295,
         "_deepnote_index_column": "pretest_1761"
        },
        {
         "CO2_working_capacity [mL/g]": 16.924689584805687,
         "_deepnote_index_column": "pretest_1762"
        },
        {
         "CO2_working_capacity [mL/g]": -0.6742896714692372,
         "_deepnote_index_column": "pretest_1763"
        },
        {
         "CO2_working_capacity [mL/g]": 10.339684553463702,
         "_deepnote_index_column": "pretest_1764"
        },
        {
         "CO2_working_capacity [mL/g]": 1.7293607155648476,
         "_deepnote_index_column": "pretest_1765"
        },
        {
         "CO2_working_capacity [mL/g]": -6.370075870671738,
         "_deepnote_index_column": "pretest_1766"
        },
        {
         "CO2_working_capacity [mL/g]": -7.074787157934327,
         "_deepnote_index_column": "pretest_1767"
        },
        {
         "CO2_working_capacity [mL/g]": -6.297065638839299,
         "_deepnote_index_column": "pretest_1768"
        },
        {
         "CO2_working_capacity [mL/g]": -13.946649202538302,
         "_deepnote_index_column": "pretest_1769"
        },
        {
         "CO2_working_capacity [mL/g]": -5.315913183687711,
         "_deepnote_index_column": "pretest_1770"
        },
        {
         "CO2_working_capacity [mL/g]": -1.9593432717190193,
         "_deepnote_index_column": "pretest_1771"
        },
        {
         "CO2_working_capacity [mL/g]": -9.110037494979576,
         "_deepnote_index_column": "pretest_1772"
        },
        {
         "CO2_working_capacity [mL/g]": 0.8001688705484022,
         "_deepnote_index_column": "pretest_1773"
        },
        {
         "CO2_working_capacity [mL/g]": 0.14822835131487566,
         "_deepnote_index_column": "pretest_1774"
        },
        {
         "CO2_working_capacity [mL/g]": -5.021983981534273,
         "_deepnote_index_column": "pretest_1775"
        },
        {
         "CO2_working_capacity [mL/g]": -1.2665683405720138,
         "_deepnote_index_column": "pretest_1776"
        },
        {
         "CO2_working_capacity [mL/g]": 0.09766758371594733,
         "_deepnote_index_column": "pretest_1777"
        },
        {
         "CO2_working_capacity [mL/g]": -12.167312573216904,
         "_deepnote_index_column": "pretest_1778"
        },
        {
         "CO2_working_capacity [mL/g]": -13.806695784240016,
         "_deepnote_index_column": "pretest_1779"
        },
        {
         "CO2_working_capacity [mL/g]": 2.598006395720231,
         "_deepnote_index_column": "pretest_1780"
        },
        {
         "CO2_working_capacity [mL/g]": 2.512597775145111,
         "_deepnote_index_column": "pretest_1781"
        },
        {
         "CO2_working_capacity [mL/g]": -4.894483652088345,
         "_deepnote_index_column": "pretest_1782"
        },
        {
         "CO2_working_capacity [mL/g]": -0.46920943717338204,
         "_deepnote_index_column": "pretest_1783"
        },
        {
         "CO2_working_capacity [mL/g]": 6.569817175549863,
         "_deepnote_index_column": "pretest_1784"
        },
        {
         "CO2_working_capacity [mL/g]": -2.802587633167327,
         "_deepnote_index_column": "pretest_1785"
        },
        {
         "CO2_working_capacity [mL/g]": 84.10448584774844,
         "_deepnote_index_column": "pretest_1786"
        },
        {
         "CO2_working_capacity [mL/g]": 17.39192279576211,
         "_deepnote_index_column": "pretest_1787"
        },
        {
         "CO2_working_capacity [mL/g]": 0.6577489317521021,
         "_deepnote_index_column": "pretest_1788"
        },
        {
         "CO2_working_capacity [mL/g]": -2.5812345859322607,
         "_deepnote_index_column": "pretest_1789"
        },
        {
         "CO2_working_capacity [mL/g]": -2.2683217051660347,
         "_deepnote_index_column": "pretest_1790"
        },
        {
         "CO2_working_capacity [mL/g]": 4.532381086083449,
         "_deepnote_index_column": "pretest_1791"
        },
        {
         "CO2_working_capacity [mL/g]": -0.881001738536916,
         "_deepnote_index_column": "pretest_1792"
        },
        {
         "CO2_working_capacity [mL/g]": 43.15091433066525,
         "_deepnote_index_column": "pretest_1793"
        },
        {
         "CO2_working_capacity [mL/g]": -3.5118657052167315,
         "_deepnote_index_column": "pretest_1794"
        },
        {
         "CO2_working_capacity [mL/g]": -5.35096969217077,
         "_deepnote_index_column": "pretest_1795"
        },
        {
         "CO2_working_capacity [mL/g]": 3.2661970945639514,
         "_deepnote_index_column": "pretest_1796"
        },
        {
         "CO2_working_capacity [mL/g]": 19.779129812056084,
         "_deepnote_index_column": "pretest_1797"
        },
        {
         "CO2_working_capacity [mL/g]": 0.10641893876564026,
         "_deepnote_index_column": "pretest_1798"
        },
        {
         "CO2_working_capacity [mL/g]": 3.3825695031270016,
         "_deepnote_index_column": "pretest_1799"
        },
        {
         "CO2_working_capacity [mL/g]": 1.044110102477443,
         "_deepnote_index_column": "pretest_1800"
        },
        {
         "CO2_working_capacity [mL/g]": 2.0029342650823025,
         "_deepnote_index_column": "pretest_1801"
        },
        {
         "CO2_working_capacity [mL/g]": 56.79557548469093,
         "_deepnote_index_column": "pretest_1802"
        },
        {
         "CO2_working_capacity [mL/g]": 7.433945170872438,
         "_deepnote_index_column": "pretest_1803"
        },
        {
         "CO2_working_capacity [mL/g]": 5.917920100727588,
         "_deepnote_index_column": "pretest_1804"
        },
        {
         "CO2_working_capacity [mL/g]": -0.38467561146909346,
         "_deepnote_index_column": "pretest_1805"
        },
        {
         "CO2_working_capacity [mL/g]": -3.885535818122321,
         "_deepnote_index_column": "pretest_1806"
        },
        {
         "CO2_working_capacity [mL/g]": -3.385732503915176,
         "_deepnote_index_column": "pretest_1807"
        },
        {
         "CO2_working_capacity [mL/g]": 0.6215657602168946,
         "_deepnote_index_column": "pretest_1808"
        },
        {
         "CO2_working_capacity [mL/g]": 8.320568350719032,
         "_deepnote_index_column": "pretest_1809"
        },
        {
         "CO2_working_capacity [mL/g]": 1.809291483606673,
         "_deepnote_index_column": "pretest_1810"
        },
        {
         "CO2_working_capacity [mL/g]": -4.386653478752981,
         "_deepnote_index_column": "pretest_1811"
        },
        {
         "CO2_working_capacity [mL/g]": -7.958813511420417,
         "_deepnote_index_column": "pretest_1812"
        },
        {
         "CO2_working_capacity [mL/g]": 0.14810017677985485,
         "_deepnote_index_column": "pretest_1813"
        },
        {
         "CO2_working_capacity [mL/g]": -13.142497290333631,
         "_deepnote_index_column": "pretest_1814"
        },
        {
         "CO2_working_capacity [mL/g]": -5.609336832427647,
         "_deepnote_index_column": "pretest_1815"
        },
        {
         "CO2_working_capacity [mL/g]": -8.50065236238389,
         "_deepnote_index_column": "pretest_1816"
        },
        {
         "CO2_working_capacity [mL/g]": -5.297371157458676,
         "_deepnote_index_column": "pretest_1817"
        },
        {
         "CO2_working_capacity [mL/g]": 8.90610311562387,
         "_deepnote_index_column": "pretest_1818"
        },
        {
         "CO2_working_capacity [mL/g]": -1.0174210491502949,
         "_deepnote_index_column": "pretest_1819"
        },
        {
         "CO2_working_capacity [mL/g]": 3.1256925472033354,
         "_deepnote_index_column": "pretest_1820"
        },
        {
         "CO2_working_capacity [mL/g]": 0.0982889587942401,
         "_deepnote_index_column": "pretest_1821"
        },
        {
         "CO2_working_capacity [mL/g]": 21.640957736456556,
         "_deepnote_index_column": "pretest_1822"
        },
        {
         "CO2_working_capacity [mL/g]": 12.241686005449191,
         "_deepnote_index_column": "pretest_1823"
        },
        {
         "CO2_working_capacity [mL/g]": 3.883086991743054,
         "_deepnote_index_column": "pretest_1824"
        },
        {
         "CO2_working_capacity [mL/g]": 1.8897308267454156,
         "_deepnote_index_column": "pretest_1825"
        },
        {
         "CO2_working_capacity [mL/g]": -1.9030535884991948,
         "_deepnote_index_column": "pretest_1826"
        },
        {
         "CO2_working_capacity [mL/g]": -2.8437211411864416,
         "_deepnote_index_column": "pretest_1827"
        },
        {
         "CO2_working_capacity [mL/g]": 1.2388114808395851,
         "_deepnote_index_column": "pretest_1828"
        },
        {
         "CO2_working_capacity [mL/g]": -4.727631333538133,
         "_deepnote_index_column": "pretest_1829"
        },
        {
         "CO2_working_capacity [mL/g]": 4.386905172229465,
         "_deepnote_index_column": "pretest_1830"
        },
        {
         "CO2_working_capacity [mL/g]": 51.21348292644339,
         "_deepnote_index_column": "pretest_1831"
        },
        {
         "CO2_working_capacity [mL/g]": -3.4553636310919797,
         "_deepnote_index_column": "pretest_1832"
        },
        {
         "CO2_working_capacity [mL/g]": 3.3045851399691095,
         "_deepnote_index_column": "pretest_1833"
        },
        {
         "CO2_working_capacity [mL/g]": -3.4035647447235693,
         "_deepnote_index_column": "pretest_1834"
        },
        {
         "CO2_working_capacity [mL/g]": -1.6215040528309541,
         "_deepnote_index_column": "pretest_1835"
        },
        {
         "CO2_working_capacity [mL/g]": 2.423618996962066,
         "_deepnote_index_column": "pretest_1836"
        },
        {
         "CO2_working_capacity [mL/g]": -0.398904463835114,
         "_deepnote_index_column": "pretest_1837"
        },
        {
         "CO2_working_capacity [mL/g]": -9.066349080239037,
         "_deepnote_index_column": "pretest_1838"
        },
        {
         "CO2_working_capacity [mL/g]": 3.2466073865892047,
         "_deepnote_index_column": "pretest_1839"
        },
        {
         "CO2_working_capacity [mL/g]": -2.025349840396945,
         "_deepnote_index_column": "pretest_1840"
        },
        {
         "CO2_working_capacity [mL/g]": -13.96458520193115,
         "_deepnote_index_column": "pretest_1841"
        },
        {
         "CO2_working_capacity [mL/g]": -9.479864172902127,
         "_deepnote_index_column": "pretest_1842"
        },
        {
         "CO2_working_capacity [mL/g]": -1.507840846911117,
         "_deepnote_index_column": "pretest_1843"
        },
        {
         "CO2_working_capacity [mL/g]": 1.6273544804335376,
         "_deepnote_index_column": "pretest_1844"
        },
        {
         "CO2_working_capacity [mL/g]": -12.317230864904511,
         "_deepnote_index_column": "pretest_1845"
        },
        {
         "CO2_working_capacity [mL/g]": -3.467954726669753,
         "_deepnote_index_column": "pretest_1846"
        },
        {
         "CO2_working_capacity [mL/g]": -0.7578433576083654,
         "_deepnote_index_column": "pretest_1847"
        },
        {
         "CO2_working_capacity [mL/g]": 2.010013650078337,
         "_deepnote_index_column": "pretest_1848"
        },
        {
         "CO2_working_capacity [mL/g]": -9.964390277665629,
         "_deepnote_index_column": "pretest_1849"
        },
        {
         "CO2_working_capacity [mL/g]": 0.6303731150141801,
         "_deepnote_index_column": "pretest_1850"
        },
        {
         "CO2_working_capacity [mL/g]": 20.77679839152516,
         "_deepnote_index_column": "pretest_1851"
        },
        {
         "CO2_working_capacity [mL/g]": 14.767938870995392,
         "_deepnote_index_column": "pretest_1852"
        },
        {
         "CO2_working_capacity [mL/g]": 7.992351002831666,
         "_deepnote_index_column": "pretest_1853"
        },
        {
         "CO2_working_capacity [mL/g]": 8.95019476588814,
         "_deepnote_index_column": "pretest_1854"
        },
        {
         "CO2_working_capacity [mL/g]": 34.400582124315704,
         "_deepnote_index_column": "pretest_1855"
        },
        {
         "CO2_working_capacity [mL/g]": -2.253065365379611,
         "_deepnote_index_column": "pretest_1856"
        },
        {
         "CO2_working_capacity [mL/g]": 1.9523004780376716,
         "_deepnote_index_column": "pretest_1857"
        },
        {
         "CO2_working_capacity [mL/g]": 18.386713549520366,
         "_deepnote_index_column": "pretest_1858"
        },
        {
         "CO2_working_capacity [mL/g]": 0.5882126424914618,
         "_deepnote_index_column": "pretest_1859"
        },
        {
         "CO2_working_capacity [mL/g]": 32.73298654228642,
         "_deepnote_index_column": "pretest_1860"
        },
        {
         "CO2_working_capacity [mL/g]": -3.765653518889809,
         "_deepnote_index_column": "pretest_1861"
        },
        {
         "CO2_working_capacity [mL/g]": 1.1810376043687578,
         "_deepnote_index_column": "pretest_1862"
        },
        {
         "CO2_working_capacity [mL/g]": 2.8962851957800693,
         "_deepnote_index_column": "pretest_1863"
        },
        {
         "CO2_working_capacity [mL/g]": 2.201859714366642,
         "_deepnote_index_column": "pretest_1864"
        },
        {
         "CO2_working_capacity [mL/g]": -4.943900862728095,
         "_deepnote_index_column": "pretest_1865"
        },
        {
         "CO2_working_capacity [mL/g]": 2.9498707161133364,
         "_deepnote_index_column": "pretest_1866"
        },
        {
         "CO2_working_capacity [mL/g]": -1.0346561149785876,
         "_deepnote_index_column": "pretest_1867"
        },
        {
         "CO2_working_capacity [mL/g]": -7.839995685495115,
         "_deepnote_index_column": "pretest_1868"
        },
        {
         "CO2_working_capacity [mL/g]": -3.020042785338133,
         "_deepnote_index_column": "pretest_1869"
        },
        {
         "CO2_working_capacity [mL/g]": -5.1809739407637165,
         "_deepnote_index_column": "pretest_1870"
        },
        {
         "CO2_working_capacity [mL/g]": 1.571423614769044,
         "_deepnote_index_column": "pretest_1871"
        },
        {
         "CO2_working_capacity [mL/g]": -1.7805236653551804,
         "_deepnote_index_column": "pretest_1872"
        },
        {
         "CO2_working_capacity [mL/g]": -2.8832322901365406,
         "_deepnote_index_column": "pretest_1873"
        },
        {
         "CO2_working_capacity [mL/g]": 0.8856094490707171,
         "_deepnote_index_column": "pretest_1874"
        },
        {
         "CO2_working_capacity [mL/g]": 5.580335710936476,
         "_deepnote_index_column": "pretest_1875"
        },
        {
         "CO2_working_capacity [mL/g]": 3.998639484733813,
         "_deepnote_index_column": "pretest_1876"
        },
        {
         "CO2_working_capacity [mL/g]": 3.6730467749801714,
         "_deepnote_index_column": "pretest_1877"
        },
        {
         "CO2_working_capacity [mL/g]": -8.495858288716217,
         "_deepnote_index_column": "pretest_1878"
        },
        {
         "CO2_working_capacity [mL/g]": -1.2258256166360924,
         "_deepnote_index_column": "pretest_1879"
        },
        {
         "CO2_working_capacity [mL/g]": -1.6820391425431365,
         "_deepnote_index_column": "pretest_1880"
        },
        {
         "CO2_working_capacity [mL/g]": -4.339930148471766,
         "_deepnote_index_column": "pretest_1881"
        },
        {
         "CO2_working_capacity [mL/g]": -12.558569427622153,
         "_deepnote_index_column": "pretest_1882"
        },
        {
         "CO2_working_capacity [mL/g]": 42.23596583445394,
         "_deepnote_index_column": "pretest_1883"
        },
        {
         "CO2_working_capacity [mL/g]": -0.401555025129243,
         "_deepnote_index_column": "pretest_1884"
        },
        {
         "CO2_working_capacity [mL/g]": -4.466534061922577,
         "_deepnote_index_column": "pretest_1885"
        },
        {
         "CO2_working_capacity [mL/g]": 0.20011193492737278,
         "_deepnote_index_column": "pretest_1886"
        },
        {
         "CO2_working_capacity [mL/g]": 4.108921945199972,
         "_deepnote_index_column": "pretest_1887"
        },
        {
         "CO2_working_capacity [mL/g]": 2.6827031032563866,
         "_deepnote_index_column": "pretest_1888"
        },
        {
         "CO2_working_capacity [mL/g]": -5.819847989335022,
         "_deepnote_index_column": "pretest_1889"
        },
        {
         "CO2_working_capacity [mL/g]": -1.4749224217427888,
         "_deepnote_index_column": "pretest_1890"
        },
        {
         "CO2_working_capacity [mL/g]": -2.970718232345608,
         "_deepnote_index_column": "pretest_1891"
        },
        {
         "CO2_working_capacity [mL/g]": -1.9808339290279346,
         "_deepnote_index_column": "pretest_1892"
        },
        {
         "CO2_working_capacity [mL/g]": 0.7736219608663011,
         "_deepnote_index_column": "pretest_1893"
        },
        {
         "CO2_working_capacity [mL/g]": -3.617949144792507,
         "_deepnote_index_column": "pretest_1894"
        },
        {
         "CO2_working_capacity [mL/g]": -1.1469396779566994,
         "_deepnote_index_column": "pretest_1895"
        },
        {
         "CO2_working_capacity [mL/g]": 4.83141188854443,
         "_deepnote_index_column": "pretest_1896"
        },
        {
         "CO2_working_capacity [mL/g]": 1.8396072911065295,
         "_deepnote_index_column": "pretest_1897"
        },
        {
         "CO2_working_capacity [mL/g]": 31.870925193802037,
         "_deepnote_index_column": "pretest_1898"
        },
        {
         "CO2_working_capacity [mL/g]": -14.135320880340267,
         "_deepnote_index_column": "pretest_1899"
        },
        {
         "CO2_working_capacity [mL/g]": -1.5532452435167514,
         "_deepnote_index_column": "pretest_1900"
        },
        {
         "CO2_working_capacity [mL/g]": -1.9183495127295627,
         "_deepnote_index_column": "pretest_1901"
        },
        {
         "CO2_working_capacity [mL/g]": -5.505296667845641,
         "_deepnote_index_column": "pretest_1902"
        },
        {
         "CO2_working_capacity [mL/g]": 16.5028826606246,
         "_deepnote_index_column": "pretest_1903"
        },
        {
         "CO2_working_capacity [mL/g]": -1.9320784400830113,
         "_deepnote_index_column": "pretest_1904"
        },
        {
         "CO2_working_capacity [mL/g]": 23.997919255550052,
         "_deepnote_index_column": "pretest_1905"
        },
        {
         "CO2_working_capacity [mL/g]": -8.836162246657786,
         "_deepnote_index_column": "pretest_1906"
        },
        {
         "CO2_working_capacity [mL/g]": -0.07589301206757725,
         "_deepnote_index_column": "pretest_1907"
        },
        {
         "CO2_working_capacity [mL/g]": 10.808367246030507,
         "_deepnote_index_column": "pretest_1908"
        },
        {
         "CO2_working_capacity [mL/g]": -6.861200277088277,
         "_deepnote_index_column": "pretest_1909"
        },
        {
         "CO2_working_capacity [mL/g]": 2.503517046287704,
         "_deepnote_index_column": "pretest_1910"
        },
        {
         "CO2_working_capacity [mL/g]": 5.628790924090581,
         "_deepnote_index_column": "pretest_1911"
        },
        {
         "CO2_working_capacity [mL/g]": 7.431378941277676,
         "_deepnote_index_column": "pretest_1912"
        },
        {
         "CO2_working_capacity [mL/g]": 0.31046902843066393,
         "_deepnote_index_column": "pretest_1913"
        },
        {
         "CO2_working_capacity [mL/g]": -5.646270731011227,
         "_deepnote_index_column": "pretest_1914"
        },
        {
         "CO2_working_capacity [mL/g]": 7.427664244967942,
         "_deepnote_index_column": "pretest_1915"
        },
        {
         "CO2_working_capacity [mL/g]": 11.395762741346841,
         "_deepnote_index_column": "pretest_1916"
        },
        {
         "CO2_working_capacity [mL/g]": -2.6902261424078593,
         "_deepnote_index_column": "pretest_1917"
        },
        {
         "CO2_working_capacity [mL/g]": 4.289366779924065,
         "_deepnote_index_column": "pretest_1918"
        },
        {
         "CO2_working_capacity [mL/g]": 3.0888229267326635,
         "_deepnote_index_column": "pretest_1919"
        },
        {
         "CO2_working_capacity [mL/g]": -2.6223289906641707,
         "_deepnote_index_column": "pretest_1920"
        },
        {
         "CO2_working_capacity [mL/g]": 3.9913556668742105,
         "_deepnote_index_column": "pretest_1921"
        },
        {
         "CO2_working_capacity [mL/g]": -3.971917807597713,
         "_deepnote_index_column": "pretest_1922"
        },
        {
         "CO2_working_capacity [mL/g]": 6.375120776502634,
         "_deepnote_index_column": "pretest_1923"
        },
        {
         "CO2_working_capacity [mL/g]": 3.0495466318477384,
         "_deepnote_index_column": "pretest_1924"
        },
        {
         "CO2_working_capacity [mL/g]": -3.515901010367045,
         "_deepnote_index_column": "pretest_1925"
        },
        {
         "CO2_working_capacity [mL/g]": 7.637437493196808,
         "_deepnote_index_column": "pretest_1926"
        },
        {
         "CO2_working_capacity [mL/g]": -4.006613010926144,
         "_deepnote_index_column": "pretest_1927"
        },
        {
         "CO2_working_capacity [mL/g]": 31.136711487637502,
         "_deepnote_index_column": "pretest_1928"
        },
        {
         "CO2_working_capacity [mL/g]": 1.3982624139951292,
         "_deepnote_index_column": "pretest_1929"
        },
        {
         "CO2_working_capacity [mL/g]": -4.668614890145704,
         "_deepnote_index_column": "pretest_1930"
        },
        {
         "CO2_working_capacity [mL/g]": -5.462380560656734,
         "_deepnote_index_column": "pretest_1931"
        },
        {
         "CO2_working_capacity [mL/g]": -3.157299518649346,
         "_deepnote_index_column": "pretest_1932"
        },
        {
         "CO2_working_capacity [mL/g]": 4.850599609324331,
         "_deepnote_index_column": "pretest_1933"
        },
        {
         "CO2_working_capacity [mL/g]": -2.0885194102883147,
         "_deepnote_index_column": "pretest_1934"
        },
        {
         "CO2_working_capacity [mL/g]": 5.076257028395972,
         "_deepnote_index_column": "pretest_1935"
        },
        {
         "CO2_working_capacity [mL/g]": -4.59372432103998,
         "_deepnote_index_column": "pretest_1936"
        },
        {
         "CO2_working_capacity [mL/g]": -3.1840757393506522,
         "_deepnote_index_column": "pretest_1937"
        },
        {
         "CO2_working_capacity [mL/g]": -1.0169413021802685,
         "_deepnote_index_column": "pretest_1938"
        },
        {
         "CO2_working_capacity [mL/g]": 1.7763047835901753,
         "_deepnote_index_column": "pretest_1939"
        },
        {
         "CO2_working_capacity [mL/g]": -4.514191765552956,
         "_deepnote_index_column": "pretest_1940"
        },
        {
         "CO2_working_capacity [mL/g]": 3.7866797318573617,
         "_deepnote_index_column": "pretest_1941"
        },
        {
         "CO2_working_capacity [mL/g]": 5.214136711599065,
         "_deepnote_index_column": "pretest_1942"
        },
        {
         "CO2_working_capacity [mL/g]": -1.065097933417771,
         "_deepnote_index_column": "pretest_1943"
        },
        {
         "CO2_working_capacity [mL/g]": 2.787045577058801,
         "_deepnote_index_column": "pretest_1944"
        },
        {
         "CO2_working_capacity [mL/g]": 6.99641458742423,
         "_deepnote_index_column": "pretest_1945"
        },
        {
         "CO2_working_capacity [mL/g]": -8.40273565785132,
         "_deepnote_index_column": "pretest_1946"
        },
        {
         "CO2_working_capacity [mL/g]": 0.2394960641414862,
         "_deepnote_index_column": "pretest_1947"
        },
        {
         "CO2_working_capacity [mL/g]": -5.513959062905676,
         "_deepnote_index_column": "pretest_1948"
        },
        {
         "CO2_working_capacity [mL/g]": 5.81069115710998,
         "_deepnote_index_column": "pretest_1949"
        },
        {
         "CO2_working_capacity [mL/g]": 3.0911625784017973,
         "_deepnote_index_column": "pretest_1950"
        },
        {
         "CO2_working_capacity [mL/g]": -4.248843740994168,
         "_deepnote_index_column": "pretest_1951"
        },
        {
         "CO2_working_capacity [mL/g]": -2.6216760317584114,
         "_deepnote_index_column": "pretest_1952"
        },
        {
         "CO2_working_capacity [mL/g]": 64.60560059397002,
         "_deepnote_index_column": "pretest_1953"
        },
        {
         "CO2_working_capacity [mL/g]": 2.543795951899182,
         "_deepnote_index_column": "pretest_1954"
        },
        {
         "CO2_working_capacity [mL/g]": -11.027495382973564,
         "_deepnote_index_column": "pretest_1955"
        },
        {
         "CO2_working_capacity [mL/g]": 0.7956547986753647,
         "_deepnote_index_column": "pretest_1956"
        },
        {
         "CO2_working_capacity [mL/g]": 7.123059469431235,
         "_deepnote_index_column": "pretest_1957"
        },
        {
         "CO2_working_capacity [mL/g]": 6.684017319198222,
         "_deepnote_index_column": "pretest_1958"
        },
        {
         "CO2_working_capacity [mL/g]": -4.033015207592948,
         "_deepnote_index_column": "pretest_1959"
        },
        {
         "CO2_working_capacity [mL/g]": 3.52845172850548,
         "_deepnote_index_column": "pretest_1960"
        },
        {
         "CO2_working_capacity [mL/g]": 8.509481420004137,
         "_deepnote_index_column": "pretest_1961"
        },
        {
         "CO2_working_capacity [mL/g]": 8.171389040524753,
         "_deepnote_index_column": "pretest_1962"
        },
        {
         "CO2_working_capacity [mL/g]": -15.164993409990581,
         "_deepnote_index_column": "pretest_1963"
        },
        {
         "CO2_working_capacity [mL/g]": 6.718680193217652,
         "_deepnote_index_column": "pretest_1964"
        },
        {
         "CO2_working_capacity [mL/g]": -5.8251677160330795,
         "_deepnote_index_column": "pretest_1965"
        },
        {
         "CO2_working_capacity [mL/g]": -4.51251484908292,
         "_deepnote_index_column": "pretest_1966"
        },
        {
         "CO2_working_capacity [mL/g]": 46.76358938471415,
         "_deepnote_index_column": "pretest_1967"
        },
        {
         "CO2_working_capacity [mL/g]": -1.1037084954351253,
         "_deepnote_index_column": "pretest_1968"
        },
        {
         "CO2_working_capacity [mL/g]": -2.1163113017463178,
         "_deepnote_index_column": "pretest_1969"
        },
        {
         "CO2_working_capacity [mL/g]": 6.220937994838246,
         "_deepnote_index_column": "pretest_1970"
        },
        {
         "CO2_working_capacity [mL/g]": 15.985961830151956,
         "_deepnote_index_column": "pretest_1971"
        },
        {
         "CO2_working_capacity [mL/g]": 6.5457391131311295,
         "_deepnote_index_column": "pretest_1972"
        },
        {
         "CO2_working_capacity [mL/g]": 0.6818986148537993,
         "_deepnote_index_column": "pretest_1973"
        },
        {
         "CO2_working_capacity [mL/g]": -3.313076283888522,
         "_deepnote_index_column": "pretest_1974"
        },
        {
         "CO2_working_capacity [mL/g]": -7.916632438460017,
         "_deepnote_index_column": "pretest_1975"
        },
        {
         "CO2_working_capacity [mL/g]": -4.011640124112094,
         "_deepnote_index_column": "pretest_1976"
        },
        {
         "CO2_working_capacity [mL/g]": -6.746996603008158,
         "_deepnote_index_column": "pretest_1977"
        },
        {
         "CO2_working_capacity [mL/g]": 31.982634865410983,
         "_deepnote_index_column": "pretest_1978"
        },
        {
         "CO2_working_capacity [mL/g]": -2.9030933357539017,
         "_deepnote_index_column": "pretest_1979"
        },
        {
         "CO2_working_capacity [mL/g]": -2.8143883766195823,
         "_deepnote_index_column": "pretest_1980"
        },
        {
         "CO2_working_capacity [mL/g]": 4.728142308238062,
         "_deepnote_index_column": "pretest_1981"
        },
        {
         "CO2_working_capacity [mL/g]": 2.6766861307995247,
         "_deepnote_index_column": "pretest_1982"
        },
        {
         "CO2_working_capacity [mL/g]": -1.4155896585312275,
         "_deepnote_index_column": "pretest_1983"
        },
        {
         "CO2_working_capacity [mL/g]": -11.1390436786963,
         "_deepnote_index_column": "pretest_1984"
        },
        {
         "CO2_working_capacity [mL/g]": -0.5248109324999229,
         "_deepnote_index_column": "pretest_1985"
        },
        {
         "CO2_working_capacity [mL/g]": 0.9737585023167429,
         "_deepnote_index_column": "pretest_1986"
        },
        {
         "CO2_working_capacity [mL/g]": -2.937152088338461,
         "_deepnote_index_column": "pretest_1987"
        },
        {
         "CO2_working_capacity [mL/g]": -2.9420489651107733,
         "_deepnote_index_column": "pretest_1988"
        },
        {
         "CO2_working_capacity [mL/g]": 4.204843069877641,
         "_deepnote_index_column": "pretest_1989"
        },
        {
         "CO2_working_capacity [mL/g]": -5.11975601205433,
         "_deepnote_index_column": "pretest_1990"
        },
        {
         "CO2_working_capacity [mL/g]": 3.304637993694673,
         "_deepnote_index_column": "pretest_1991"
        },
        {
         "CO2_working_capacity [mL/g]": -5.231296471098551,
         "_deepnote_index_column": "pretest_1992"
        },
        {
         "CO2_working_capacity [mL/g]": 23.715591206452636,
         "_deepnote_index_column": "pretest_1993"
        },
        {
         "CO2_working_capacity [mL/g]": 1.6671691648094882,
         "_deepnote_index_column": "pretest_1994"
        },
        {
         "CO2_working_capacity [mL/g]": -4.86579689394566,
         "_deepnote_index_column": "pretest_1995"
        },
        {
         "CO2_working_capacity [mL/g]": 0.9786072028781065,
         "_deepnote_index_column": "pretest_1996"
        },
        {
         "CO2_working_capacity [mL/g]": 2.5142839713444562,
         "_deepnote_index_column": "pretest_1997"
        },
        {
         "CO2_working_capacity [mL/g]": -0.06373820837406115,
         "_deepnote_index_column": "pretest_1998"
        },
        {
         "CO2_working_capacity [mL/g]": -8.556328155882365,
         "_deepnote_index_column": "pretest_1999"
        },
        {
         "CO2_working_capacity [mL/g]": 50.39557574512569,
         "_deepnote_index_column": "pretest_2000"
        }
       ]
      },
      "text/plain": "              CO2_working_capacity [mL/g]\nid                                       \npretest_1                      106.728002\npretest_2                      127.620741\npretest_3                      194.466300\npretest_4                       64.877499\npretest_5                       96.932841\n...                                   ...\npretest_1996                     0.978607\npretest_1997                     2.514284\npretest_1998                    -0.063738\npretest_1999                    -8.556328\npretest_2000                    50.395576\n\n[2000 rows x 1 columns]",
      "text/html": "<div>\n<style scoped>\n    .dataframe tbody tr th:only-of-type {\n        vertical-align: middle;\n    }\n\n    .dataframe tbody tr th {\n        vertical-align: top;\n    }\n\n    .dataframe thead th {\n        text-align: right;\n    }\n</style>\n<table border=\"1\" class=\"dataframe\">\n  <thead>\n    <tr style=\"text-align: right;\">\n      <th></th>\n      <th>CO2_working_capacity [mL/g]</th>\n    </tr>\n    <tr>\n      <th>id</th>\n      <th></th>\n    </tr>\n  </thead>\n  <tbody>\n    <tr>\n      <th>pretest_1</th>\n      <td>106.728002</td>\n    </tr>\n    <tr>\n      <th>pretest_2</th>\n      <td>127.620741</td>\n    </tr>\n    <tr>\n      <th>pretest_3</th>\n      <td>194.466300</td>\n    </tr>\n    <tr>\n      <th>pretest_4</th>\n      <td>64.877499</td>\n    </tr>\n    <tr>\n      <th>pretest_5</th>\n      <td>96.932841</td>\n    </tr>\n    <tr>\n      <th>...</th>\n      <td>...</td>\n    </tr>\n    <tr>\n      <th>pretest_1996</th>\n      <td>0.978607</td>\n    </tr>\n    <tr>\n      <th>pretest_1997</th>\n      <td>2.514284</td>\n    </tr>\n    <tr>\n      <th>pretest_1998</th>\n      <td>-0.063738</td>\n    </tr>\n    <tr>\n      <th>pretest_1999</th>\n      <td>-8.556328</td>\n    </tr>\n    <tr>\n      <th>pretest_2000</th>\n      <td>50.395576</td>\n    </tr>\n  </tbody>\n</table>\n<p>2000 rows × 1 columns</p>\n</div>"
     },
     "metadata": {}
    }
   ],
   "execution_count": 32
  },
  {
   "cell_type": "code",
   "metadata": {
    "tags": [],
    "deepnote_to_be_reexecuted": false,
    "source_hash": "8330eb30",
    "execution_start": 1632661227254,
    "execution_millis": 161,
    "cell_id": "00038-fbb51fba-41bc-4b97-896c-b0586cdc812b",
    "deepnote_cell_type": "code"
   },
   "source": "sub.to_csv(\"submission.csv\")",
   "outputs": [],
   "execution_count": 33
  },
  {
   "cell_type": "code",
   "metadata": {
    "tags": [],
    "deepnote_to_be_reexecuted": false,
    "source_hash": "c11ec714",
    "execution_start": 1632661227429,
    "execution_millis": 25,
    "cell_id": "00039-f9aa2a1d-1ab7-473b-b9a8-d766aff80e20",
    "deepnote_cell_type": "code"
   },
   "source": "import zipfile\nimport hashlib\n \n\nsha256_hash = hashlib.sha256()\nwith open(\"submission.csv\",\"rb\") as f:\n    # Read and update hash string value in blocks of 4K\n    for byte_block in iter(lambda: f.read(4096),b\"\"):\n        sha256_hash.update(byte_block)\n    hash_str = sha256_hash.hexdigest()\n\nprint(hash_str)\nzipfile.ZipFile(f'{hash_str}.zip', mode='w').write(\"submission.csv\")",
   "outputs": [
    {
     "name": "stdout",
     "text": "430d0c68de5c3e6dabba71f110cae49abcfa677fb56cf2c24760a6f25730fb94\n",
     "output_type": "stream"
    }
   ],
   "execution_count": 34
  },
  {
   "cell_type": "markdown",
   "source": "<a style='text-decoration:none;line-height:16px;display:flex;color:#5B5B62;padding:10px;justify-content:end;' href='https://deepnote.com?utm_source=created-in-deepnote-cell&projectId=cf8541de-dbc3-45f6-bc1e-4fa446cacbcd' target=\"_blank\">\n<img alt='Created in deepnote.com' style='display:inline;max-height:16px;margin:0px;margin-right:7.5px;' src='data:image/svg+xml;base64,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' > </img>\nCreated in <span style='font-weight:600;margin-left:4px;'>Deepnote</span></a>",
   "metadata": {
    "tags": [],
    "created_in_deepnote_cell": true,
    "deepnote_cell_type": "markdown"
   }
  }
 ],
 "nbformat": 4,
 "nbformat_minor": 2,
 "metadata": {
  "orig_nbformat": 2,
  "deepnote": {
   "is_reactive": false
  },
  "deepnote_notebook_id": "780dd298-7ca0-4b2f-b368-c5fbfd96baa2",
  "deepnote_execution_queue": []
 }
}