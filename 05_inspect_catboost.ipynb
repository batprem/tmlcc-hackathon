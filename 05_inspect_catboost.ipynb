{
 "cells": [
  {
   "cell_type": "markdown",
   "source": "# Import modules",
   "metadata": {
    "tags": [],
    "is_collapsed": false,
    "cell_id": "00000-9ffa94f2-5477-47e7-bae1-16c9b508b435",
    "deepnote_cell_type": "text-cell-h1"
   }
  },
  {
   "cell_type": "code",
   "metadata": {
    "tags": [],
    "deepnote_to_be_reexecuted": false,
    "source_hash": "4865ef98",
    "execution_start": 1632848112712,
    "execution_millis": 2281,
    "cell_id": "00001-519c87eb-39b2-4552-9acf-5bb538766e35",
    "deepnote_cell_type": "code"
   },
   "source": "import os\nimport pandas as pd\n\n\nimport numpy as np\nfrom sklearn.impute import KNNImputer\nfrom sklearn.metrics import mean_absolute_error\nfrom sklearn.preprocessing import power_transform\nfrom catboost import CatBoostRegressor\n\n# Local dependencies\nfrom src.constants import (\n    PREPROCESSING_PATH,\n    TARGET\n)\nfrom utils.classes.extractor import FunctionalGroupToGramExtractor\n\nfrom typing import (\n    Optional,\n    List,\n    Any\n)\nfrom sklearn.model_selection import KFold, RepeatedKFold, RepeatedStratifiedKFold\n\nimport pickle\nimport json\n\nimport warnings\nwarnings.filterwarnings(\"ignore\")",
   "outputs": [],
   "execution_count": null
  },
  {
   "cell_type": "markdown",
   "source": "# Load essentials",
   "metadata": {
    "tags": [],
    "is_collapsed": false,
    "cell_id": "00002-f0fb72e4-7e71-4349-9308-babdaaf14f7f",
    "deepnote_cell_type": "text-cell-h1"
   }
  },
  {
   "cell_type": "code",
   "metadata": {
    "tags": [],
    "deepnote_to_be_reexecuted": false,
    "source_hash": "24408d87",
    "execution_start": 1632848114994,
    "execution_millis": 458,
    "cell_id": "00003-02ebdc22-7bef-4961-a7c3-8dad462a3a9b",
    "deepnote_cell_type": "code"
   },
   "source": "Train = pd.read_csv(f\"{PREPROCESSING_PATH}/train_merged_CIF/Train.csv\")\nTrain = Train.set_index(Train.columns[0])\n\nPretest = pd.read_csv(f\"{PREPROCESSING_PATH}/pretest_merged_CIF/Pretest.csv\")\nPretest = Pretest.set_index(Pretest.columns[0])\n\nfuntional_group_extractor = FunctionalGroupToGramExtractor()",
   "outputs": [],
   "execution_count": null
  },
  {
   "cell_type": "code",
   "metadata": {
    "tags": [],
    "deepnote_to_be_reexecuted": false,
    "source_hash": "1168ff48",
    "execution_start": 1632848115471,
    "execution_millis": 37,
    "cell_id": "00004-f2128360-f905-4e90-9455-764604735ab6",
    "deepnote_cell_type": "code"
   },
   "source": "Train['surface_area [m^2/g]']",
   "outputs": [
    {
     "output_type": "execute_result",
     "execution_count": 3,
     "data": {
      "text/plain": "Unnamed: 0\n1           0.00\n2         603.61\n3         788.50\n4        1441.53\n5           0.00\n          ...   \n68609       0.00\n68610       0.00\n68611       0.00\n68612       0.00\n68613       0.00\nName: surface_area [m^2/g], Length: 68613, dtype: float64"
     },
     "metadata": {}
    }
   ],
   "execution_count": null
  },
  {
   "cell_type": "markdown",
   "source": "# Add stat",
   "metadata": {
    "tags": [],
    "is_collapsed": false,
    "cell_id": "00005-37d3de1a-194b-4ff2-b570-bea0e88756c4",
    "deepnote_cell_type": "text-cell-h1"
   }
  },
  {
   "cell_type": "code",
   "metadata": {
    "tags": [],
    "cell_id": "00007-d57e981a-29a0-4117-89ab-867be70446b3",
    "deepnote_to_be_reexecuted": false,
    "source_hash": "20a2e7c9",
    "execution_start": 1632848115472,
    "execution_millis": 0,
    "deepnote_cell_type": "code"
   },
   "source": "# stat = pd.read_csv(\"/work/preprocessing_results/stat/functionalgroup_stat2.csv\")\n\n# Train['functional_groups'] = np.where(\n#     pd.isna(Train['functional_groups']),\n#     'unknown',\n#     Train['functional_groups']\n# )\n\n# Train = Train.merge(stat, on=['functional_groups','topology'], how = 'left')\n\n# Pretest['functional_groups'] = np.where(\n#     pd.isna(Pretest['functional_groups']),\n#     'unknown',\n#     Pretest['functional_groups']\n# )\n\n# Pretest = Pretest.merge(stat, on=['functional_groups','topology'], how = 'left')",
   "outputs": [],
   "execution_count": null
  },
  {
   "cell_type": "markdown",
   "source": "# Add imputor",
   "metadata": {
    "tags": [],
    "is_collapsed": false,
    "cell_id": "00005-0c63d1c3-1709-4039-a7ae-ed8f31ad6682",
    "deepnote_cell_type": "text-cell-h1"
   }
  },
  {
   "cell_type": "code",
   "metadata": {
    "tags": [],
    "cell_id": "00006-c1fc3965-454b-46f5-9096-0e983c2657e8",
    "deepnote_to_be_reexecuted": false,
    "source_hash": "36104146",
    "execution_start": 1632848115472,
    "execution_millis": 1,
    "deepnote_cell_type": "code"
   },
   "source": "# train_imputation = pd.read_csv(\"imputer/xgboost/train.csv\", index_col=0).drop(\n#     [\n#         'MOFname',\n#         'void_fraction_imputed',\n#         'void_volume_imputed',\n#         'surface_area_imputed',\n#     ],\n#     axis=1\n# )\n# # Train = Train.rename(columns={'surface_area [m^2/g]': 'surface_area_old'})\n# Train = pd.concat(\n#     [\n#         Train.drop([\n#             'void_fraction',\n#             'void_volume [cm^3/g]',\n#             'surface_area [m^2/g]'\n#         ], axis=1),\n#         train_imputation\n#     ], axis=1\n# )\n\n# pretest_imputation = pd.read_csv(\"imputer/xgboost/pretest.csv\", index_col=0).drop(\n#     [\n#         'MOFname',\n#         'void_fraction_imputed',\n#         'void_volume_imputed',\n#         'surface_area_imputed'\n#     ],\n#     axis=1\n# )\n# Pretest = pd.concat(\n#     [\n#         Pretest.drop([\n#             'void_fraction',\n#             'void_volume [cm^3/g]',\n#             'surface_area [m^2/g]'\n#         ], axis=1),\n#         pretest_imputation\n#     ], axis=1\n# )",
   "outputs": [],
   "execution_count": null
  },
  {
   "cell_type": "markdown",
   "source": "# Set up pipeline",
   "metadata": {
    "tags": [],
    "is_collapsed": false,
    "cell_id": "00005-b117c6f3-376a-4ef7-a4fa-f3fbb68db289",
    "deepnote_cell_type": "text-cell-h1"
   }
  },
  {
   "cell_type": "code",
   "metadata": {
    "tags": [],
    "deepnote_to_be_reexecuted": false,
    "source_hash": "9911323f",
    "execution_start": 1632848115488,
    "execution_millis": 46,
    "cell_id": "00006-96f19f94-b90e-4d82-a070-24c8f3b2c9a5",
    "deepnote_cell_type": "code"
   },
   "source": "\nclass PreprocessingPipeline:\n    funcgroup2num = None\n    topology2num = None\n    spacegroup2num = None\n    organic_linker1 = None\n    organic_linker2 = None\n\n    def label(self, df):\n        # if self.funcgroup2num is None:\n        #     self.funcgroup2num = {\n        #         c: i\n        #         for i, c\n        #         in enumerate(df[\"functional_groups\"].unique())\n        #     }\n\n        # if self.topology2num is None:\n        #     self.topology2num = {\n        #         c: i\n        #         for i, c\n        #         in enumerate(df[\"topology\"].unique())\n        #     }\n        # df[\"label_topology\"] = df[\"topology\"].map(self.topology2num)\n\n        df[\"label_topology_pcu\"] = (df[\"topology\"] == \"pcu\").astype(int)\n        df[\"label_topology_sra\"] = (df[\"topology\"] == \"sra\").astype(int)\n        df[\"label_topology_acs\"] = (df[\"topology\"] == \"acs\").astype(int)\n        df[\"label_topology_etb\"] = (df[\"topology\"] == \"etb\").astype(int)\n        df[\"label_topology_bcu\"] = (df[\"topology\"] == \"bcu\").astype(int)\n        df[\"label_topology_nbo\"] = (df[\"topology\"] == \"nbo\").astype(int)\n        \n        \n        df[\"label_spacegroup_triclinic\"] = (\n            df[\"_space_group_crystal_system\"] == \"triclinic\"\n        ).astype(int)\n\n        df[\"metal_linker_1\"] = (\n            df[\"metal_linker\"] == 1\n        ).astype(int)\n        df[\"metal_linker_2\"] = (\n            df[\"metal_linker\"] == 2\n        ).astype(int)\n        df[\"metal_linker_3\"] = (\n            df[\"metal_linker\"] == 3\n        ).astype(int)\n        df[\"metal_linker_4\"] = (\n            df[\"metal_linker\"] == 4\n        ).astype(int)\n        df[\"metal_linker_9\"] = (\n            df[\"metal_linker\"] == 9\n        ).astype(int)\n        df[\"metal_linker_10\"] = (\n            df[\"metal_linker\"] == 10\n        ).astype(int)\n        df[\"metal_linker_12\"] = (\n            df[\"metal_linker\"] == 12\n        ).astype(int)\n\n        if self.organic_linker1 is None:\n            self.organic_linker1 = set(df['organic_linker1'])\n        for linker in self.organic_linker1:\n            df[f\"organic_linker1_{linker}\"] = (\n                df[\"organic_linker1\"] == linker\n            ).astype(int)\n\n        if self.organic_linker2 is None:\n            self.organic_linker2 = set(df['organic_linker2'])\n        for linker in self.organic_linker2:\n            df[f\"organic_linker2_{linker}\"] = (\n                df[\"organic_linker2\"] == linker\n            ).astype(int)\n\n        return df\n    \n\n    @staticmethod\n    def get_density(df: pd.DataFrame):\n        df['density'] = (df[\"weight [u]\"] / df[\"volume [A^3]\"]) * 1.66054\n        df['void_volume [cm^3/g]'] = df['void_fraction'] / df[\"density\"]\n        return df\n\n    @staticmethod\n    def replace_surface_area_equal_0_with_null(df: pd.DataFrame):\n        df[\"surface_area [m^2/g]\"] = df[\"surface_area [m^2/g]\"].replace(0, np.nan)\n        return df\n\n    @staticmethod\n    def replace_inf_with_null(df: pd.DataFrame):\n        df = df.replace(np.inf, 999999)\n        df = df.replace(-np.inf, -999999)\n        return df\n\n    @staticmethod\n    def drop_unused_columns(\n        df, unused_columns: Optional[List[str]] = None\n    ) -> pd.DataFrame:\n        if not unused_columns:\n            unused_columns = [\n                \"MOFname\",\n                # 'functional_groups',\n                \"topology\",\n                \"cif_filepath\",\n                \"_audit_creation_date\",\n                \"_symmetry_Int_Tables_number\",\n                \"_symmetry_space_group_name_H-M\",\n                \"_space_group_crystal_system\",\n                # \"bond_type_countT\",\n                'metal_linker',\n                # 'organic_linker1',\n                # 'organic_linker2'\n                \"partial_charge_mean\",\n                \"partial_charge_std\",\n                \"_cell_volume\",\n                'mof_convex_hull_area',\n                'mof_convex_hull_volume',\n                # 'mof_convex_hull_npoints',\n                # 'mof_convex_hull_nsimplex'\n            ]\n        for col in unused_columns:\n            try:\n                df.drop(col, axis=1, inplace=True)\n            except KeyError:\n                pass\n        return df\n\n    @staticmethod\n    def set_imputer(X: pd.DataFrame) -> KNNImputer:\n        imputer = KNNImputer(n_neighbors=5)\n        imputer.fit(X)\n        return imputer\n\n    @staticmethod\n    def impute_value(X: pd.DataFrame, imputer: KNNImputer):\n        return imputer.transform(X)\n\n    @staticmethod\n    def extract_functional_group(X: pd.DataFrame, fit: bool) -> pd.DataFrame:\n        funtional_group_extacted = funtional_group_extractor.transform(X, fit)\n        return pd.concat([X, funtional_group_extractor], axis=1)\n\n\nclass TrainDataPreprocessingPipeline(PreprocessingPipeline):\n    @staticmethod\n    def drop_surface_area_equal_minus_1(df):\n        return df.drop(df[df[\"surface_area [m^2/g]\"] == -1].index)\n\n    def impute(self):\n        temp_columns = self.X.columns\n        temp_index = self.X.index\n\n        if not self.imputer:\n            self.imputer = self.set_imputer(self.X)\n\n        self.X = self.impute_value(self.X, self.imputer)\n\n        self.X = pd.DataFrame(self.X)\n        self.X.columns = temp_columns\n        self.X.index = temp_index\n\n    def run(self):\n        self.functional_group_extractor = FunctionalGroupToGramExtractor()\n\n        # Drop and add featrures\n        print(\"Print droping and replace null\")\n        self.df = self.drop_surface_area_equal_minus_1(self.df)\n        self.df = self.replace_surface_area_equal_0_with_null(self.df)\n        self.df = self.replace_inf_with_null(self.df)\n        self.df = self.label(self.df)\n        self.df = self.drop_unused_columns(self.df)\n        self.df = self.df.drop(self.df[self.df[\"CO2/N2_selectivity\"] == 0].index)\n        self.df = self.get_density(self.df)\n        # Split\n        print(\"Split X, y\")\n        self.X = self.df.drop(TARGET, axis=1)\n        self.y = self.df[[TARGET]]\n\n        # Extract\n        # print(\"Extract functional group\")\n        # functional_group = self.functional_group_extractor.transform(\n        #     self.X[['functional_groups']],\n        #     fit=True\n        # )\n\n        # Impute\n        print(\"Impute\")\n        self.X = self.X.drop(\"functional_groups\", axis=1)\n        self.impute()\n        # self.X = pd.concat([self.X, functional_group], axis=1)\n\n    def __init__(self, df: pd.DataFrame, imputer: Any = None):\n        self.df = df\n        self.imputer = imputer\n",
   "outputs": [],
   "execution_count": null
  },
  {
   "cell_type": "code",
   "metadata": {
    "tags": [],
    "deepnote_to_be_reexecuted": false,
    "source_hash": "5221261b",
    "execution_start": 1632848115534,
    "execution_millis": 0,
    "cell_id": "00007-34154c89-5188-4970-98f9-cf603ac04c78",
    "deepnote_cell_type": "code"
   },
   "source": "class TestDataPreprocessingPipeline(PreprocessingPipeline):\n    def impute(self):\n        temp_columns = self.X.columns\n        temp_index = self.X.index\n\n        if not self.imputer:\n            self.imputer = self.set_imputer(self.X)\n\n        self.X = self.impute_value(self.X, self.imputer)\n\n        self.X = pd.DataFrame(self.X)\n        self.X.columns = temp_columns\n        self.X.index = temp_index\n\n    def run(self):\n        # Drop\n        print(\"Print droping and replace null\")\n        self.X = self.replace_surface_area_equal_0_with_null(self.df)\n        self.X = self.replace_inf_with_null(self.X)\n        self.X = self.label(self.X)\n        self.X = self.drop_unused_columns(self.X)\n        self.X = self.get_density(self.X)\n\n        # Extract\n        # print(\"Extract functional group\")\n        # functional_group = self.functional_group_extractor.transform(\n        #     self.X[['functional_groups']],\n        # )\n\n        # Impute\n        print(\"Impute\")\n        self.X = self.X.drop('functional_groups', axis=1)\n        self.impute()\n        # self.X = pd.concat([self.X, functional_group], axis=1)\n        self.X = self.X[self.columns]\n\n    \n    def __init__(\n        self,\n        df: pd.DataFrame,\n        imputer: Any = None,\n        functional_group_extractor: FunctionalGroupToGramExtractor = None,\n        columns: list = None\n    ):\n        self.df = df\n        self.imputer = imputer\n        self.functional_group_extractor = functional_group_extractor\n        self.columns = columns\n\n",
   "outputs": [],
   "execution_count": null
  },
  {
   "cell_type": "markdown",
   "source": "# Run pipeline",
   "metadata": {
    "tags": [],
    "is_collapsed": false,
    "cell_id": "00008-061532dd-d58e-4cb2-9604-2133dd9e62c1",
    "deepnote_cell_type": "text-cell-h1"
   }
  },
  {
   "cell_type": "code",
   "metadata": {
    "tags": [],
    "deepnote_to_be_reexecuted": false,
    "source_hash": "9f99deb6",
    "execution_start": 1632848115535,
    "execution_millis": 745,
    "cell_id": "00009-0bf4168c-4f56-498c-8487-de33c6146b13",
    "deepnote_cell_type": "code"
   },
   "source": "class Imputer9999:\n    def transform(self, df):\n        return df.replace(np.nan, -9999)\n\nimputer = Imputer9999()\ntrain = TrainDataPreprocessingPipeline(Train, imputer)\ntrain.run()",
   "outputs": [
    {
     "name": "stdout",
     "text": "Print droping and replace null\nSplit X, y\nImpute\n",
     "output_type": "stream"
    }
   ],
   "execution_count": null
  },
  {
   "cell_type": "code",
   "metadata": {
    "tags": [],
    "deepnote_to_be_reexecuted": false,
    "source_hash": "364ae2b2",
    "execution_start": 1632848116281,
    "execution_millis": 243,
    "cell_id": "00010-e7f41c63-9b66-431d-a76d-18a21df2531f",
    "deepnote_cell_type": "code"
   },
   "source": "train.X",
   "outputs": [
    {
     "output_type": "execute_result",
     "execution_count": 9,
     "data": {
      "application/vnd.deepnote.dataframe.v2+json": {
       "row_count": 66715,
       "column_count": 152,
       "columns": [
        {
         "name": "volume [A^3]",
         "dtype": "float64",
         "stats": {
          "unique_count": 66709,
          "nan_count": 0,
          "min": "606.576038",
          "max": "223964.854408",
          "histogram": [
           {
            "bin_start": 606.576038,
            "bin_end": 22942.403875,
            "count": 65787
           },
           {
            "bin_start": 22942.403875,
            "bin_end": 45278.231712,
            "count": 823
           },
           {
            "bin_start": 45278.231712,
            "bin_end": 67614.059549,
            "count": 80
           },
           {
            "bin_start": 67614.059549,
            "bin_end": 89949.887386,
            "count": 18
           },
           {
            "bin_start": 89949.887386,
            "bin_end": 112285.715223,
            "count": 3
           },
           {
            "bin_start": 112285.715223,
            "bin_end": 134621.54306,
            "count": 3
           },
           {
            "bin_start": 134621.54306,
            "bin_end": 156957.37089700002,
            "count": 0
           },
           {
            "bin_start": 156957.37089700002,
            "bin_end": 179293.198734,
            "count": 0
           },
           {
            "bin_start": 179293.198734,
            "bin_end": 201629.026571,
            "count": 0
           },
           {
            "bin_start": 201629.026571,
            "bin_end": 223964.854408,
            "count": 1
           }
          ]
         }
        },
        {
         "name": "weight [u]",
         "dtype": "float64"
        },
        {
         "name": "surface_area [m^2/g]",
         "dtype": "float64"
        },
        {
         "name": "void_fraction",
         "dtype": "float64"
        },
        {
         "name": "void_volume [cm^3/g]",
         "dtype": "float64"
        },
        {
         "name": "organic_linker1",
         "dtype": "int64"
        },
        {
         "name": "organic_linker2",
         "dtype": "int64"
        },
        {
         "name": "CO2/N2_selectivity",
         "dtype": "float64"
        },
        {
         "name": "heat_adsorption_CO2_P0.15bar_T298K [kcal/mol]",
         "dtype": "float64"
        },
        {
         "name": "_cell_length_a",
         "dtype": "float64"
        },
        {
         "name": "_cell_length_b",
         "dtype": "float64"
        },
        {
         "name": "_cell_length_c",
         "dtype": "float64"
        },
        {
         "name": "_cell_angle_alpha",
         "dtype": "float64"
        },
        {
         "name": "_cell_angle_beta",
         "dtype": "float64"
        },
        {
         "name": "_cell_angle_gamma",
         "dtype": "float64"
        },
        {
         "name": "mof_convex_hull_npoints",
         "dtype": "int64"
        },
        {
         "name": "mof_convex_hull_nsimplex",
         "dtype": "int64"
        },
        {
         "name": "partial_charge_median",
         "dtype": "float64"
        },
        {
         "name": "bond_type_countS",
         "dtype": "int64"
        },
        {
         "name": "bond_type_countA",
         "dtype": "int64"
        },
        {
         "name": "bond_type_countD",
         "dtype": "float64"
        },
        {
         "name": "bond_type_countT",
         "dtype": "float64"
        },
        {
         "name": "bond_type_countAm",
         "dtype": "float64"
        },
        {
         "name": "label_topology_pcu",
         "dtype": "int64"
        },
        {
         "name": "label_topology_sra",
         "dtype": "int64"
        },
        {
         "name": "label_topology_acs",
         "dtype": "int64"
        },
        {
         "name": "label_topology_etb",
         "dtype": "int64"
        },
        {
         "name": "label_topology_bcu",
         "dtype": "int64"
        },
        {
         "name": "label_topology_nbo",
         "dtype": "int64"
        },
        {
         "name": "label_spacegroup_triclinic",
         "dtype": "int64"
        },
        {
         "name": "metal_linker_1",
         "dtype": "int64"
        },
        {
         "name": "metal_linker_2",
         "dtype": "int64"
        },
        {
         "name": "metal_linker_3",
         "dtype": "int64"
        },
        {
         "name": "metal_linker_4",
         "dtype": "int64"
        },
        {
         "name": "metal_linker_9",
         "dtype": "int64"
        },
        {
         "name": "metal_linker_10",
         "dtype": "int64"
        },
        {
         "name": "metal_linker_12",
         "dtype": "int64"
        },
        {
         "name": "organic_linker1_1",
         "dtype": "int64"
        },
        {
         "name": "organic_linker1_2",
         "dtype": "int64"
        },
        {
         "name": "organic_linker1_3",
         "dtype": "int64"
        },
        {
         "name": "organic_linker1_4",
         "dtype": "int64"
        },
        {
         "name": "organic_linker1_5",
         "dtype": "int64"
        },
        {
         "name": "organic_linker1_6",
         "dtype": "int64"
        },
        {
         "name": "organic_linker1_7",
         "dtype": "int64"
        },
        {
         "name": "organic_linker1_8",
         "dtype": "int64"
        },
        {
         "name": "organic_linker1_9",
         "dtype": "int64"
        },
        {
         "name": "organic_linker1_10",
         "dtype": "int64"
        },
        {
         "name": "organic_linker1_11",
         "dtype": "int64"
        },
        {
         "name": "organic_linker1_12",
         "dtype": "int64"
        },
        {
         "name": "organic_linker1_13",
         "dtype": "int64"
        },
        {
         "name": "organic_linker1_14",
         "dtype": "int64"
        },
        {
         "name": "organic_linker1_15",
         "dtype": "int64"
        },
        {
         "name": "organic_linker1_16",
         "dtype": "int64"
        },
        {
         "name": "organic_linker1_17",
         "dtype": "int64"
        },
        {
         "name": "organic_linker1_18",
         "dtype": "int64"
        },
        {
         "name": "organic_linker1_19",
         "dtype": "int64"
        },
        {
         "name": "organic_linker1_20",
         "dtype": "int64"
        },
        {
         "name": "organic_linker1_21",
         "dtype": "int64"
        },
        {
         "name": "organic_linker1_22",
         "dtype": "int64"
        },
        {
         "name": "organic_linker1_23",
         "dtype": "int64"
        },
        {
         "name": "organic_linker1_24",
         "dtype": "int64"
        },
        {
         "name": "organic_linker1_25",
         "dtype": "int64"
        },
        {
         "name": "organic_linker1_26",
         "dtype": "int64"
        },
        {
         "name": "organic_linker1_27",
         "dtype": "int64"
        },
        {
         "name": "organic_linker1_28",
         "dtype": "int64"
        },
        {
         "name": "organic_linker1_29",
         "dtype": "int64"
        },
        {
         "name": "organic_linker1_30",
         "dtype": "int64"
        },
        {
         "name": "organic_linker1_31",
         "dtype": "int64"
        },
        {
         "name": "organic_linker1_32",
         "dtype": "int64"
        },
        {
         "name": "organic_linker1_33",
         "dtype": "int64"
        },
        {
         "name": "organic_linker1_34",
         "dtype": "int64"
        },
        {
         "name": "organic_linker1_35",
         "dtype": "int64"
        },
        {
         "name": "organic_linker1_36",
         "dtype": "int64"
        },
        {
         "name": "organic_linker1_38",
         "dtype": "int64"
        },
        {
         "name": "organic_linker1_40",
         "dtype": "int64"
        },
        {
         "name": "organic_linker1_41",
         "dtype": "int64"
        },
        {
         "name": "organic_linker1_42",
         "dtype": "int64"
        },
        {
         "name": "organic_linker1_43",
         "dtype": "int64"
        },
        {
         "name": "organic_linker1_44",
         "dtype": "int64"
        },
        {
         "name": "organic_linker1_45",
         "dtype": "int64"
        },
        {
         "name": "organic_linker1_46",
         "dtype": "int64"
        },
        {
         "name": "organic_linker1_47",
         "dtype": "int64"
        },
        {
         "name": "organic_linker1_48",
         "dtype": "int64"
        },
        {
         "name": "organic_linker1_49",
         "dtype": "int64"
        },
        {
         "name": "organic_linker1_50",
         "dtype": "int64"
        },
        {
         "name": "organic_linker1_51",
         "dtype": "int64"
        },
        {
         "name": "organic_linker1_52",
         "dtype": "int64"
        },
        {
         "name": "organic_linker1_53",
         "dtype": "int64"
        },
        {
         "name": "organic_linker1_54",
         "dtype": "int64"
        },
        {
         "name": "organic_linker1_55",
         "dtype": "int64"
        },
        {
         "name": "organic_linker1_56",
         "dtype": "int64"
        },
        {
         "name": "organic_linker1_57",
         "dtype": "int64"
        },
        {
         "name": "organic_linker1_58",
         "dtype": "int64"
        },
        {
         "name": "organic_linker1_59",
         "dtype": "int64"
        },
        {
         "name": "organic_linker2_1",
         "dtype": "int64"
        },
        {
         "name": "organic_linker2_2",
         "dtype": "int64"
        },
        {
         "name": "organic_linker2_3",
         "dtype": "int64"
        },
        {
         "name": "organic_linker2_4",
         "dtype": "int64"
        },
        {
         "name": "organic_linker2_5",
         "dtype": "int64"
        },
        {
         "name": "organic_linker2_6",
         "dtype": "int64"
        },
        {
         "name": "organic_linker2_7",
         "dtype": "int64"
        },
        {
         "name": "organic_linker2_8",
         "dtype": "int64"
        },
        {
         "name": "organic_linker2_9",
         "dtype": "int64"
        },
        {
         "name": "organic_linker2_10",
         "dtype": "int64"
        },
        {
         "name": "organic_linker2_11",
         "dtype": "int64"
        },
        {
         "name": "organic_linker2_12",
         "dtype": "int64"
        },
        {
         "name": "organic_linker2_13",
         "dtype": "int64"
        },
        {
         "name": "organic_linker2_14",
         "dtype": "int64"
        },
        {
         "name": "organic_linker2_15",
         "dtype": "int64"
        },
        {
         "name": "organic_linker2_16",
         "dtype": "int64"
        },
        {
         "name": "organic_linker2_17",
         "dtype": "int64"
        },
        {
         "name": "organic_linker2_18",
         "dtype": "int64"
        },
        {
         "name": "organic_linker2_19",
         "dtype": "int64"
        },
        {
         "name": "organic_linker2_20",
         "dtype": "int64"
        },
        {
         "name": "organic_linker2_21",
         "dtype": "int64"
        },
        {
         "name": "organic_linker2_22",
         "dtype": "int64"
        },
        {
         "name": "organic_linker2_23",
         "dtype": "int64"
        },
        {
         "name": "organic_linker2_24",
         "dtype": "int64"
        },
        {
         "name": "organic_linker2_25",
         "dtype": "int64"
        },
        {
         "name": "organic_linker2_26",
         "dtype": "int64"
        },
        {
         "name": "organic_linker2_27",
         "dtype": "int64"
        },
        {
         "name": "organic_linker2_28",
         "dtype": "int64"
        },
        {
         "name": "organic_linker2_29",
         "dtype": "int64"
        },
        {
         "name": "organic_linker2_30",
         "dtype": "int64"
        },
        {
         "name": "organic_linker2_31",
         "dtype": "int64"
        },
        {
         "name": "organic_linker2_32",
         "dtype": "int64"
        },
        {
         "name": "organic_linker2_33",
         "dtype": "int64"
        },
        {
         "name": "organic_linker2_34",
         "dtype": "int64"
        },
        {
         "name": "organic_linker2_35",
         "dtype": "int64"
        },
        {
         "name": "organic_linker2_36",
         "dtype": "int64"
        },
        {
         "name": "organic_linker2_38",
         "dtype": "int64"
        },
        {
         "name": "organic_linker2_40",
         "dtype": "int64"
        },
        {
         "name": "organic_linker2_41",
         "dtype": "int64"
        },
        {
         "name": "organic_linker2_42",
         "dtype": "int64"
        },
        {
         "name": "organic_linker2_43",
         "dtype": "int64"
        },
        {
         "name": "organic_linker2_44",
         "dtype": "int64"
        },
        {
         "name": "organic_linker2_45",
         "dtype": "int64"
        },
        {
         "name": "organic_linker2_46",
         "dtype": "int64"
        },
        {
         "name": "organic_linker2_47",
         "dtype": "int64"
        },
        {
         "name": "organic_linker2_48",
         "dtype": "int64"
        },
        {
         "name": "organic_linker2_49",
         "dtype": "int64"
        },
        {
         "name": "organic_linker2_50",
         "dtype": "int64"
        },
        {
         "name": "organic_linker2_51",
         "dtype": "int64"
        },
        {
         "name": "organic_linker2_52",
         "dtype": "int64"
        },
        {
         "name": "organic_linker2_53",
         "dtype": "int64"
        },
        {
         "name": "organic_linker2_54",
         "dtype": "int64"
        },
        {
         "name": "organic_linker2_55",
         "dtype": "int64"
        },
        {
         "name": "organic_linker2_56",
         "dtype": "int64"
        },
        {
         "name": "organic_linker2_57",
         "dtype": "int64"
        },
        {
         "name": "organic_linker2_58",
         "dtype": "int64"
        },
        {
         "name": "organic_linker2_59",
         "dtype": "int64"
        },
        {
         "name": "density",
         "dtype": "float64"
        },
        {
         "name": "_deepnote_index_column",
         "dtype": "int64"
        }
       ],
       "rows_top": [
        {
         "volume [A^3]": 1116.667429,
         "weight [u]": 875.2405999999999,
         "surface_area [m^2/g]": -9999,
         "void_fraction": 0.07899,
         "void_volume [cm^3/g]": 0.0606902834534965,
         "organic_linker1": 4,
         "organic_linker2": 11,
         "CO2/N2_selectivity": 22.86416611,
         "heat_adsorption_CO2_P0.15bar_T298K [kcal/mol]": 6.786041,
         "_cell_length_a": 10.609882,
         "_cell_length_b": 10.643578,
         "_cell_length_c": 9.890832,
         "_cell_angle_alpha": 89.904234,
         "_cell_angle_beta": 91.242355,
         "_cell_angle_gamma": 90.261935,
         "mof_convex_hull_npoints": 75,
         "mof_convex_hull_nsimplex": 72,
         "partial_charge_median": 0.024709,
         "bond_type_countS": 56,
         "bond_type_countA": 20,
         "bond_type_countD": 8,
         "bond_type_countT": 0,
         "bond_type_countAm": 0,
         "label_topology_pcu": 1,
         "label_topology_sra": 0,
         "label_topology_acs": 0,
         "label_topology_etb": 0,
         "label_topology_bcu": 0,
         "label_topology_nbo": 0,
         "label_spacegroup_triclinic": 1,
         "metal_linker_1": 0,
         "metal_linker_2": 0,
         "metal_linker_3": 1,
         "metal_linker_4": 0,
         "metal_linker_9": 0,
         "metal_linker_10": 0,
         "metal_linker_12": 0,
         "organic_linker1_1": 0,
         "organic_linker1_2": 0,
         "organic_linker1_3": 0,
         "organic_linker1_4": 1,
         "organic_linker1_5": 0,
         "organic_linker1_6": 0,
         "organic_linker1_7": 0,
         "organic_linker1_8": 0,
         "organic_linker1_9": 0,
         "organic_linker1_10": 0,
         "organic_linker1_11": 0,
         "organic_linker1_12": 0,
         "organic_linker1_13": 0,
         "organic_linker1_14": 0,
         "organic_linker1_15": 0,
         "organic_linker1_16": 0,
         "organic_linker1_17": 0,
         "organic_linker1_18": 0,
         "organic_linker1_19": 0,
         "organic_linker1_20": 0,
         "organic_linker1_21": 0,
         "organic_linker1_22": 0,
         "organic_linker1_23": 0,
         "organic_linker1_24": 0,
         "organic_linker1_25": 0,
         "organic_linker1_26": 0,
         "organic_linker1_27": 0,
         "organic_linker1_28": 0,
         "organic_linker1_29": 0,
         "organic_linker1_30": 0,
         "organic_linker1_31": 0,
         "organic_linker1_32": 0,
         "organic_linker1_33": 0,
         "organic_linker1_34": 0,
         "organic_linker1_35": 0,
         "organic_linker1_36": 0,
         "organic_linker1_38": 0,
         "organic_linker1_40": 0,
         "organic_linker1_41": 0,
         "organic_linker1_42": 0,
         "organic_linker1_43": 0,
         "organic_linker1_44": 0,
         "organic_linker1_45": 0,
         "organic_linker1_46": 0,
         "organic_linker1_47": 0,
         "organic_linker1_48": 0,
         "organic_linker1_49": 0,
         "organic_linker1_50": 0,
         "organic_linker1_51": 0,
         "organic_linker1_52": 0,
         "organic_linker1_53": 0,
         "organic_linker1_54": 0,
         "organic_linker1_55": 0,
         "organic_linker1_56": 0,
         "organic_linker1_57": 0,
         "organic_linker1_58": 0,
         "organic_linker1_59": 0,
         "organic_linker2_1": 0,
         "organic_linker2_2": 0,
         "organic_linker2_3": 0,
         "organic_linker2_4": 0,
         "organic_linker2_5": 0,
         "organic_linker2_6": 0,
         "organic_linker2_7": 0,
         "organic_linker2_8": 0,
         "organic_linker2_9": 0,
         "organic_linker2_10": 0,
         "organic_linker2_11": 1,
         "organic_linker2_12": 0,
         "organic_linker2_13": 0,
         "organic_linker2_14": 0,
         "organic_linker2_15": 0,
         "organic_linker2_16": 0,
         "organic_linker2_17": 0,
         "organic_linker2_18": 0,
         "organic_linker2_19": 0,
         "organic_linker2_20": 0,
         "organic_linker2_21": 0,
         "organic_linker2_22": 0,
         "organic_linker2_23": 0,
         "organic_linker2_24": 0,
         "organic_linker2_25": 0,
         "organic_linker2_26": 0,
         "organic_linker2_27": 0,
         "organic_linker2_28": 0,
         "organic_linker2_29": 0,
         "organic_linker2_30": 0,
         "organic_linker2_31": 0,
         "organic_linker2_32": 0,
         "organic_linker2_33": 0,
         "organic_linker2_34": 0,
         "organic_linker2_35": 0,
         "organic_linker2_36": 0,
         "organic_linker2_38": 0,
         "organic_linker2_40": 0,
         "organic_linker2_41": 0,
         "organic_linker2_42": 0,
         "organic_linker2_43": 0,
         "organic_linker2_44": 0,
         "organic_linker2_45": 0,
         "organic_linker2_46": 0,
         "organic_linker2_47": 0,
         "organic_linker2_48": 0,
         "organic_linker2_49": 0,
         "organic_linker2_50": 0,
         "organic_linker2_51": 0,
         "organic_linker2_52": 0,
         "organic_linker2_53": 0,
         "organic_linker2_54": 0,
         "organic_linker2_55": 0,
         "organic_linker2_56": 0,
         "organic_linker2_57": 0,
         "organic_linker2_58": 0,
         "organic_linker2_59": 0,
         "density": 1.3015262988601055,
         "_deepnote_index_column": 1
        },
        {
         "volume [A^3]": 2769.503842,
         "weight [u]": 2211.697211,
         "surface_area [m^2/g]": 603.61,
         "void_fraction": 0.13794,
         "void_volume [cm^3/g]": 0.10402007959168029,
         "organic_linker1": 44,
         "organic_linker2": 57,
         "CO2/N2_selectivity": 33.61678033,
         "heat_adsorption_CO2_P0.15bar_T298K [kcal/mol]": 7.147286,
         "_cell_length_a": 8.463295,
         "_cell_length_b": 17.684225,
         "_cell_length_c": 18.960098,
         "_cell_angle_alpha": 100.063446,
         "_cell_angle_beta": 91.815775,
         "_cell_angle_gamma": 96.94221,
         "mof_convex_hull_npoints": 194,
         "mof_convex_hull_nsimplex": 78,
         "partial_charge_median": 0.059489,
         "bond_type_countS": 162,
         "bond_type_countA": 50,
         "bond_type_countD": 8,
         "bond_type_countT": 1,
         "bond_type_countAm": 0,
         "label_topology_pcu": 0,
         "label_topology_sra": 0,
         "label_topology_acs": 0,
         "label_topology_etb": 1,
         "label_topology_bcu": 0,
         "label_topology_nbo": 0,
         "label_spacegroup_triclinic": 1,
         "metal_linker_1": 0,
         "metal_linker_2": 0,
         "metal_linker_3": 0,
         "metal_linker_4": 0,
         "metal_linker_9": 0,
         "metal_linker_10": 1,
         "metal_linker_12": 0,
         "organic_linker1_1": 0,
         "organic_linker1_2": 0,
         "organic_linker1_3": 0,
         "organic_linker1_4": 0,
         "organic_linker1_5": 0,
         "organic_linker1_6": 0,
         "organic_linker1_7": 0,
         "organic_linker1_8": 0,
         "organic_linker1_9": 0,
         "organic_linker1_10": 0,
         "organic_linker1_11": 0,
         "organic_linker1_12": 0,
         "organic_linker1_13": 0,
         "organic_linker1_14": 0,
         "organic_linker1_15": 0,
         "organic_linker1_16": 0,
         "organic_linker1_17": 0,
         "organic_linker1_18": 0,
         "organic_linker1_19": 0,
         "organic_linker1_20": 0,
         "organic_linker1_21": 0,
         "organic_linker1_22": 0,
         "organic_linker1_23": 0,
         "organic_linker1_24": 0,
         "organic_linker1_25": 0,
         "organic_linker1_26": 0,
         "organic_linker1_27": 0,
         "organic_linker1_28": 0,
         "organic_linker1_29": 0,
         "organic_linker1_30": 0,
         "organic_linker1_31": 0,
         "organic_linker1_32": 0,
         "organic_linker1_33": 0,
         "organic_linker1_34": 0,
         "organic_linker1_35": 0,
         "organic_linker1_36": 0,
         "organic_linker1_38": 0,
         "organic_linker1_40": 0,
         "organic_linker1_41": 0,
         "organic_linker1_42": 0,
         "organic_linker1_43": 0,
         "organic_linker1_44": 1,
         "organic_linker1_45": 0,
         "organic_linker1_46": 0,
         "organic_linker1_47": 0,
         "organic_linker1_48": 0,
         "organic_linker1_49": 0,
         "organic_linker1_50": 0,
         "organic_linker1_51": 0,
         "organic_linker1_52": 0,
         "organic_linker1_53": 0,
         "organic_linker1_54": 0,
         "organic_linker1_55": 0,
         "organic_linker1_56": 0,
         "organic_linker1_57": 0,
         "organic_linker1_58": 0,
         "organic_linker1_59": 0,
         "organic_linker2_1": 0,
         "organic_linker2_2": 0,
         "organic_linker2_3": 0,
         "organic_linker2_4": 0,
         "organic_linker2_5": 0,
         "organic_linker2_6": 0,
         "organic_linker2_7": 0,
         "organic_linker2_8": 0,
         "organic_linker2_9": 0,
         "organic_linker2_10": 0,
         "organic_linker2_11": 0,
         "organic_linker2_12": 0,
         "organic_linker2_13": 0,
         "organic_linker2_14": 0,
         "organic_linker2_15": 0,
         "organic_linker2_16": 0,
         "organic_linker2_17": 0,
         "organic_linker2_18": 0,
         "organic_linker2_19": 0,
         "organic_linker2_20": 0,
         "organic_linker2_21": 0,
         "organic_linker2_22": 0,
         "organic_linker2_23": 0,
         "organic_linker2_24": 0,
         "organic_linker2_25": 0,
         "organic_linker2_26": 0,
         "organic_linker2_27": 0,
         "organic_linker2_28": 0,
         "organic_linker2_29": 0,
         "organic_linker2_30": 0,
         "organic_linker2_31": 0,
         "organic_linker2_32": 0,
         "organic_linker2_33": 0,
         "organic_linker2_34": 0,
         "organic_linker2_35": 0,
         "organic_linker2_36": 0,
         "organic_linker2_38": 0,
         "organic_linker2_40": 0,
         "organic_linker2_41": 0,
         "organic_linker2_42": 0,
         "organic_linker2_43": 0,
         "organic_linker2_44": 0,
         "organic_linker2_45": 0,
         "organic_linker2_46": 0,
         "organic_linker2_47": 0,
         "organic_linker2_48": 0,
         "organic_linker2_49": 0,
         "organic_linker2_50": 0,
         "organic_linker2_51": 0,
         "organic_linker2_52": 0,
         "organic_linker2_53": 0,
         "organic_linker2_54": 0,
         "organic_linker2_55": 0,
         "organic_linker2_56": 0,
         "organic_linker2_57": 1,
         "organic_linker2_58": 0,
         "organic_linker2_59": 0,
         "density": 1.3260901216521728,
         "_deepnote_index_column": 2
        },
        {
         "volume [A^3]": 1089.818728,
         "weight [u]": 773.68796,
         "surface_area [m^2/g]": 788.5,
         "void_fraction": 0.14874,
         "void_volume [cm^3/g]": 0.12617312623103835,
         "organic_linker1": 22,
         "organic_linker2": 24,
         "CO2/N2_selectivity": 19.26372569,
         "heat_adsorption_CO2_P0.15bar_T298K [kcal/mol]": 6.347967,
         "_cell_length_a": 10.73211,
         "_cell_length_b": 9.552271,
         "_cell_length_c": 10.631996,
         "_cell_angle_alpha": 89.202223,
         "_cell_angle_beta": 89.943258,
         "_cell_angle_gamma": 90.387501,
         "mof_convex_hull_npoints": 82,
         "mof_convex_hull_nsimplex": 94,
         "partial_charge_median": 0.126583,
         "bond_type_countS": 87,
         "bond_type_countA": 8,
         "bond_type_countD": 2,
         "bond_type_countT": 0,
         "bond_type_countAm": 0,
         "label_topology_pcu": 1,
         "label_topology_sra": 0,
         "label_topology_acs": 0,
         "label_topology_etb": 0,
         "label_topology_bcu": 0,
         "label_topology_nbo": 0,
         "label_spacegroup_triclinic": 1,
         "metal_linker_1": 0,
         "metal_linker_2": 1,
         "metal_linker_3": 0,
         "metal_linker_4": 0,
         "metal_linker_9": 0,
         "metal_linker_10": 0,
         "metal_linker_12": 0,
         "organic_linker1_1": 0,
         "organic_linker1_2": 0,
         "organic_linker1_3": 0,
         "organic_linker1_4": 0,
         "organic_linker1_5": 0,
         "organic_linker1_6": 0,
         "organic_linker1_7": 0,
         "organic_linker1_8": 0,
         "organic_linker1_9": 0,
         "organic_linker1_10": 0,
         "organic_linker1_11": 0,
         "organic_linker1_12": 0,
         "organic_linker1_13": 0,
         "organic_linker1_14": 0,
         "organic_linker1_15": 0,
         "organic_linker1_16": 0,
         "organic_linker1_17": 0,
         "organic_linker1_18": 0,
         "organic_linker1_19": 0,
         "organic_linker1_20": 0,
         "organic_linker1_21": 0,
         "organic_linker1_22": 1,
         "organic_linker1_23": 0,
         "organic_linker1_24": 0,
         "organic_linker1_25": 0,
         "organic_linker1_26": 0,
         "organic_linker1_27": 0,
         "organic_linker1_28": 0,
         "organic_linker1_29": 0,
         "organic_linker1_30": 0,
         "organic_linker1_31": 0,
         "organic_linker1_32": 0,
         "organic_linker1_33": 0,
         "organic_linker1_34": 0,
         "organic_linker1_35": 0,
         "organic_linker1_36": 0,
         "organic_linker1_38": 0,
         "organic_linker1_40": 0,
         "organic_linker1_41": 0,
         "organic_linker1_42": 0,
         "organic_linker1_43": 0,
         "organic_linker1_44": 0,
         "organic_linker1_45": 0,
         "organic_linker1_46": 0,
         "organic_linker1_47": 0,
         "organic_linker1_48": 0,
         "organic_linker1_49": 0,
         "organic_linker1_50": 0,
         "organic_linker1_51": 0,
         "organic_linker1_52": 0,
         "organic_linker1_53": 0,
         "organic_linker1_54": 0,
         "organic_linker1_55": 0,
         "organic_linker1_56": 0,
         "organic_linker1_57": 0,
         "organic_linker1_58": 0,
         "organic_linker1_59": 0,
         "organic_linker2_1": 0,
         "organic_linker2_2": 0,
         "organic_linker2_3": 0,
         "organic_linker2_4": 0,
         "organic_linker2_5": 0,
         "organic_linker2_6": 0,
         "organic_linker2_7": 0,
         "organic_linker2_8": 0,
         "organic_linker2_9": 0,
         "organic_linker2_10": 0,
         "organic_linker2_11": 0,
         "organic_linker2_12": 0,
         "organic_linker2_13": 0,
         "organic_linker2_14": 0,
         "organic_linker2_15": 0,
         "organic_linker2_16": 0,
         "organic_linker2_17": 0,
         "organic_linker2_18": 0,
         "organic_linker2_19": 0,
         "organic_linker2_20": 0,
         "organic_linker2_21": 0,
         "organic_linker2_22": 0,
         "organic_linker2_23": 0,
         "organic_linker2_24": 1,
         "organic_linker2_25": 0,
         "organic_linker2_26": 0,
         "organic_linker2_27": 0,
         "organic_linker2_28": 0,
         "organic_linker2_29": 0,
         "organic_linker2_30": 0,
         "organic_linker2_31": 0,
         "organic_linker2_32": 0,
         "organic_linker2_33": 0,
         "organic_linker2_34": 0,
         "organic_linker2_35": 0,
         "organic_linker2_36": 0,
         "organic_linker2_38": 0,
         "organic_linker2_40": 0,
         "organic_linker2_41": 0,
         "organic_linker2_42": 0,
         "organic_linker2_43": 0,
         "organic_linker2_44": 0,
         "organic_linker2_45": 0,
         "organic_linker2_46": 0,
         "organic_linker2_47": 0,
         "organic_linker2_48": 0,
         "organic_linker2_49": 0,
         "organic_linker2_50": 0,
         "organic_linker2_51": 0,
         "organic_linker2_52": 0,
         "organic_linker2_53": 0,
         "organic_linker2_54": 0,
         "organic_linker2_55": 0,
         "organic_linker2_56": 0,
         "organic_linker2_57": 0,
         "organic_linker2_58": 0,
         "organic_linker2_59": 0,
         "density": 1.1788564208802987,
         "_deepnote_index_column": 3
        }
       ],
       "rows_bottom": [
        {
         "volume [A^3]": 2035.532738,
         "weight [u]": 1959.51832,
         "surface_area [m^2/g]": -9999,
         "void_fraction": 0,
         "void_volume [cm^3/g]": 0,
         "organic_linker1": 14,
         "organic_linker2": 22,
         "CO2/N2_selectivity": 9.876133998,
         "heat_adsorption_CO2_P0.15bar_T298K [kcal/mol]": -9999,
         "_cell_length_a": 11.237482,
         "_cell_length_b": 11.321902,
         "_cell_length_c": 18.60812,
         "_cell_angle_alpha": 90.200546,
         "_cell_angle_beta": 90.118422,
         "_cell_angle_gamma": 59.292454,
         "mof_convex_hull_npoints": 204,
         "mof_convex_hull_nsimplex": 78,
         "partial_charge_median": 0.07563,
         "bond_type_countS": 153,
         "bond_type_countA": 79,
         "bond_type_countD": 0,
         "bond_type_countT": 0,
         "bond_type_countAm": 0,
         "label_topology_pcu": 0,
         "label_topology_sra": 0,
         "label_topology_acs": 1,
         "label_topology_etb": 0,
         "label_topology_bcu": 0,
         "label_topology_nbo": 0,
         "label_spacegroup_triclinic": 1,
         "metal_linker_1": 0,
         "metal_linker_2": 0,
         "metal_linker_3": 0,
         "metal_linker_4": 1,
         "metal_linker_9": 0,
         "metal_linker_10": 0,
         "metal_linker_12": 0,
         "organic_linker1_1": 0,
         "organic_linker1_2": 0,
         "organic_linker1_3": 0,
         "organic_linker1_4": 0,
         "organic_linker1_5": 0,
         "organic_linker1_6": 0,
         "organic_linker1_7": 0,
         "organic_linker1_8": 0,
         "organic_linker1_9": 0,
         "organic_linker1_10": 0,
         "organic_linker1_11": 0,
         "organic_linker1_12": 0,
         "organic_linker1_13": 0,
         "organic_linker1_14": 1,
         "organic_linker1_15": 0,
         "organic_linker1_16": 0,
         "organic_linker1_17": 0,
         "organic_linker1_18": 0,
         "organic_linker1_19": 0,
         "organic_linker1_20": 0,
         "organic_linker1_21": 0,
         "organic_linker1_22": 0,
         "organic_linker1_23": 0,
         "organic_linker1_24": 0,
         "organic_linker1_25": 0,
         "organic_linker1_26": 0,
         "organic_linker1_27": 0,
         "organic_linker1_28": 0,
         "organic_linker1_29": 0,
         "organic_linker1_30": 0,
         "organic_linker1_31": 0,
         "organic_linker1_32": 0,
         "organic_linker1_33": 0,
         "organic_linker1_34": 0,
         "organic_linker1_35": 0,
         "organic_linker1_36": 0,
         "organic_linker1_38": 0,
         "organic_linker1_40": 0,
         "organic_linker1_41": 0,
         "organic_linker1_42": 0,
         "organic_linker1_43": 0,
         "organic_linker1_44": 0,
         "organic_linker1_45": 0,
         "organic_linker1_46": 0,
         "organic_linker1_47": 0,
         "organic_linker1_48": 0,
         "organic_linker1_49": 0,
         "organic_linker1_50": 0,
         "organic_linker1_51": 0,
         "organic_linker1_52": 0,
         "organic_linker1_53": 0,
         "organic_linker1_54": 0,
         "organic_linker1_55": 0,
         "organic_linker1_56": 0,
         "organic_linker1_57": 0,
         "organic_linker1_58": 0,
         "organic_linker1_59": 0,
         "organic_linker2_1": 0,
         "organic_linker2_2": 0,
         "organic_linker2_3": 0,
         "organic_linker2_4": 0,
         "organic_linker2_5": 0,
         "organic_linker2_6": 0,
         "organic_linker2_7": 0,
         "organic_linker2_8": 0,
         "organic_linker2_9": 0,
         "organic_linker2_10": 0,
         "organic_linker2_11": 0,
         "organic_linker2_12": 0,
         "organic_linker2_13": 0,
         "organic_linker2_14": 0,
         "organic_linker2_15": 0,
         "organic_linker2_16": 0,
         "organic_linker2_17": 0,
         "organic_linker2_18": 0,
         "organic_linker2_19": 0,
         "organic_linker2_20": 0,
         "organic_linker2_21": 0,
         "organic_linker2_22": 1,
         "organic_linker2_23": 0,
         "organic_linker2_24": 0,
         "organic_linker2_25": 0,
         "organic_linker2_26": 0,
         "organic_linker2_27": 0,
         "organic_linker2_28": 0,
         "organic_linker2_29": 0,
         "organic_linker2_30": 0,
         "organic_linker2_31": 0,
         "organic_linker2_32": 0,
         "organic_linker2_33": 0,
         "organic_linker2_34": 0,
         "organic_linker2_35": 0,
         "organic_linker2_36": 0,
         "organic_linker2_38": 0,
         "organic_linker2_40": 0,
         "organic_linker2_41": 0,
         "organic_linker2_42": 0,
         "organic_linker2_43": 0,
         "organic_linker2_44": 0,
         "organic_linker2_45": 0,
         "organic_linker2_46": 0,
         "organic_linker2_47": 0,
         "organic_linker2_48": 0,
         "organic_linker2_49": 0,
         "organic_linker2_50": 0,
         "organic_linker2_51": 0,
         "organic_linker2_52": 0,
         "organic_linker2_53": 0,
         "organic_linker2_54": 0,
         "organic_linker2_55": 0,
         "organic_linker2_56": 0,
         "organic_linker2_57": 0,
         "organic_linker2_58": 0,
         "organic_linker2_59": 0,
         "density": 1.598529215643988,
         "_deepnote_index_column": 68611
        },
        {
         "volume [A^3]": 3985.426053,
         "weight [u]": 3638.67728,
         "surface_area [m^2/g]": -9999,
         "void_fraction": 0,
         "void_volume [cm^3/g]": 0,
         "organic_linker1": 4,
         "organic_linker2": 15,
         "CO2/N2_selectivity": 5.285050632,
         "heat_adsorption_CO2_P0.15bar_T298K [kcal/mol]": 999999,
         "_cell_length_a": 19.396341,
         "_cell_length_b": 11.081428,
         "_cell_length_c": 18.544746,
         "_cell_angle_alpha": 90.467105,
         "_cell_angle_beta": 90.841157,
         "_cell_angle_gamma": 89.911826,
         "mof_convex_hull_npoints": 364,
         "mof_convex_hull_nsimplex": 92,
         "partial_charge_median": 0.0299515,
         "bond_type_countS": 282,
         "bond_type_countA": 140,
         "bond_type_countD": 0,
         "bond_type_countT": 0,
         "bond_type_countAm": 0,
         "label_topology_pcu": 0,
         "label_topology_sra": 0,
         "label_topology_acs": 1,
         "label_topology_etb": 0,
         "label_topology_bcu": 0,
         "label_topology_nbo": 0,
         "label_spacegroup_triclinic": 1,
         "metal_linker_1": 0,
         "metal_linker_2": 0,
         "metal_linker_3": 0,
         "metal_linker_4": 1,
         "metal_linker_9": 0,
         "metal_linker_10": 0,
         "metal_linker_12": 0,
         "organic_linker1_1": 0,
         "organic_linker1_2": 0,
         "organic_linker1_3": 0,
         "organic_linker1_4": 1,
         "organic_linker1_5": 0,
         "organic_linker1_6": 0,
         "organic_linker1_7": 0,
         "organic_linker1_8": 0,
         "organic_linker1_9": 0,
         "organic_linker1_10": 0,
         "organic_linker1_11": 0,
         "organic_linker1_12": 0,
         "organic_linker1_13": 0,
         "organic_linker1_14": 0,
         "organic_linker1_15": 0,
         "organic_linker1_16": 0,
         "organic_linker1_17": 0,
         "organic_linker1_18": 0,
         "organic_linker1_19": 0,
         "organic_linker1_20": 0,
         "organic_linker1_21": 0,
         "organic_linker1_22": 0,
         "organic_linker1_23": 0,
         "organic_linker1_24": 0,
         "organic_linker1_25": 0,
         "organic_linker1_26": 0,
         "organic_linker1_27": 0,
         "organic_linker1_28": 0,
         "organic_linker1_29": 0,
         "organic_linker1_30": 0,
         "organic_linker1_31": 0,
         "organic_linker1_32": 0,
         "organic_linker1_33": 0,
         "organic_linker1_34": 0,
         "organic_linker1_35": 0,
         "organic_linker1_36": 0,
         "organic_linker1_38": 0,
         "organic_linker1_40": 0,
         "organic_linker1_41": 0,
         "organic_linker1_42": 0,
         "organic_linker1_43": 0,
         "organic_linker1_44": 0,
         "organic_linker1_45": 0,
         "organic_linker1_46": 0,
         "organic_linker1_47": 0,
         "organic_linker1_48": 0,
         "organic_linker1_49": 0,
         "organic_linker1_50": 0,
         "organic_linker1_51": 0,
         "organic_linker1_52": 0,
         "organic_linker1_53": 0,
         "organic_linker1_54": 0,
         "organic_linker1_55": 0,
         "organic_linker1_56": 0,
         "organic_linker1_57": 0,
         "organic_linker1_58": 0,
         "organic_linker1_59": 0,
         "organic_linker2_1": 0,
         "organic_linker2_2": 0,
         "organic_linker2_3": 0,
         "organic_linker2_4": 0,
         "organic_linker2_5": 0,
         "organic_linker2_6": 0,
         "organic_linker2_7": 0,
         "organic_linker2_8": 0,
         "organic_linker2_9": 0,
         "organic_linker2_10": 0,
         "organic_linker2_11": 0,
         "organic_linker2_12": 0,
         "organic_linker2_13": 0,
         "organic_linker2_14": 0,
         "organic_linker2_15": 1,
         "organic_linker2_16": 0,
         "organic_linker2_17": 0,
         "organic_linker2_18": 0,
         "organic_linker2_19": 0,
         "organic_linker2_20": 0,
         "organic_linker2_21": 0,
         "organic_linker2_22": 0,
         "organic_linker2_23": 0,
         "organic_linker2_24": 0,
         "organic_linker2_25": 0,
         "organic_linker2_26": 0,
         "organic_linker2_27": 0,
         "organic_linker2_28": 0,
         "organic_linker2_29": 0,
         "organic_linker2_30": 0,
         "organic_linker2_31": 0,
         "organic_linker2_32": 0,
         "organic_linker2_33": 0,
         "organic_linker2_34": 0,
         "organic_linker2_35": 0,
         "organic_linker2_36": 0,
         "organic_linker2_38": 0,
         "organic_linker2_40": 0,
         "organic_linker2_41": 0,
         "organic_linker2_42": 0,
         "organic_linker2_43": 0,
         "organic_linker2_44": 0,
         "organic_linker2_45": 0,
         "organic_linker2_46": 0,
         "organic_linker2_47": 0,
         "organic_linker2_48": 0,
         "organic_linker2_49": 0,
         "organic_linker2_50": 0,
         "organic_linker2_51": 0,
         "organic_linker2_52": 0,
         "organic_linker2_53": 0,
         "organic_linker2_54": 0,
         "organic_linker2_55": 0,
         "organic_linker2_56": 0,
         "organic_linker2_57": 0,
         "organic_linker2_58": 0,
         "organic_linker2_59": 0,
         "density": 1.5160660592317354,
         "_deepnote_index_column": 68612
        },
        {
         "volume [A^3]": 1591.009408,
         "weight [u]": 2071.219,
         "surface_area [m^2/g]": -9999,
         "void_fraction": 0.01609,
         "void_volume [cm^3/g]": 0.0074430927158947785,
         "organic_linker1": 9,
         "organic_linker2": 16,
         "CO2/N2_selectivity": 2.621271792,
         "heat_adsorption_CO2_P0.15bar_T298K [kcal/mol]": 999999,
         "_cell_length_a": 11.049965,
         "_cell_length_b": 12.474541,
         "_cell_length_c": 13.706241,
         "_cell_angle_alpha": 118.491266,
         "_cell_angle_beta": 73.368234,
         "_cell_angle_gamma": 98.090342,
         "mof_convex_hull_npoints": 116,
         "mof_convex_hull_nsimplex": 70,
         "partial_charge_median": 0.1000085,
         "bond_type_countS": 73,
         "bond_type_countA": 58,
         "bond_type_countD": 0,
         "bond_type_countT": 0,
         "bond_type_countAm": 0,
         "label_topology_pcu": 1,
         "label_topology_sra": 0,
         "label_topology_acs": 0,
         "label_topology_etb": 0,
         "label_topology_bcu": 0,
         "label_topology_nbo": 0,
         "label_spacegroup_triclinic": 1,
         "metal_linker_1": 0,
         "metal_linker_2": 1,
         "metal_linker_3": 0,
         "metal_linker_4": 0,
         "metal_linker_9": 0,
         "metal_linker_10": 0,
         "metal_linker_12": 0,
         "organic_linker1_1": 0,
         "organic_linker1_2": 0,
         "organic_linker1_3": 0,
         "organic_linker1_4": 0,
         "organic_linker1_5": 0,
         "organic_linker1_6": 0,
         "organic_linker1_7": 0,
         "organic_linker1_8": 0,
         "organic_linker1_9": 1,
         "organic_linker1_10": 0,
         "organic_linker1_11": 0,
         "organic_linker1_12": 0,
         "organic_linker1_13": 0,
         "organic_linker1_14": 0,
         "organic_linker1_15": 0,
         "organic_linker1_16": 0,
         "organic_linker1_17": 0,
         "organic_linker1_18": 0,
         "organic_linker1_19": 0,
         "organic_linker1_20": 0,
         "organic_linker1_21": 0,
         "organic_linker1_22": 0,
         "organic_linker1_23": 0,
         "organic_linker1_24": 0,
         "organic_linker1_25": 0,
         "organic_linker1_26": 0,
         "organic_linker1_27": 0,
         "organic_linker1_28": 0,
         "organic_linker1_29": 0,
         "organic_linker1_30": 0,
         "organic_linker1_31": 0,
         "organic_linker1_32": 0,
         "organic_linker1_33": 0,
         "organic_linker1_34": 0,
         "organic_linker1_35": 0,
         "organic_linker1_36": 0,
         "organic_linker1_38": 0,
         "organic_linker1_40": 0,
         "organic_linker1_41": 0,
         "organic_linker1_42": 0,
         "organic_linker1_43": 0,
         "organic_linker1_44": 0,
         "organic_linker1_45": 0,
         "organic_linker1_46": 0,
         "organic_linker1_47": 0,
         "organic_linker1_48": 0,
         "organic_linker1_49": 0,
         "organic_linker1_50": 0,
         "organic_linker1_51": 0,
         "organic_linker1_52": 0,
         "organic_linker1_53": 0,
         "organic_linker1_54": 0,
         "organic_linker1_55": 0,
         "organic_linker1_56": 0,
         "organic_linker1_57": 0,
         "organic_linker1_58": 0,
         "organic_linker1_59": 0,
         "organic_linker2_1": 0,
         "organic_linker2_2": 0,
         "organic_linker2_3": 0,
         "organic_linker2_4": 0,
         "organic_linker2_5": 0,
         "organic_linker2_6": 0,
         "organic_linker2_7": 0,
         "organic_linker2_8": 0,
         "organic_linker2_9": 0,
         "organic_linker2_10": 0,
         "organic_linker2_11": 0,
         "organic_linker2_12": 0,
         "organic_linker2_13": 0,
         "organic_linker2_14": 0,
         "organic_linker2_15": 0,
         "organic_linker2_16": 1,
         "organic_linker2_17": 0,
         "organic_linker2_18": 0,
         "organic_linker2_19": 0,
         "organic_linker2_20": 0,
         "organic_linker2_21": 0,
         "organic_linker2_22": 0,
         "organic_linker2_23": 0,
         "organic_linker2_24": 0,
         "organic_linker2_25": 0,
         "organic_linker2_26": 0,
         "organic_linker2_27": 0,
         "organic_linker2_28": 0,
         "organic_linker2_29": 0,
         "organic_linker2_30": 0,
         "organic_linker2_31": 0,
         "organic_linker2_32": 0,
         "organic_linker2_33": 0,
         "organic_linker2_34": 0,
         "organic_linker2_35": 0,
         "organic_linker2_36": 0,
         "organic_linker2_38": 0,
         "organic_linker2_40": 0,
         "organic_linker2_41": 0,
         "organic_linker2_42": 0,
         "organic_linker2_43": 0,
         "organic_linker2_44": 0,
         "organic_linker2_45": 0,
         "organic_linker2_46": 0,
         "organic_linker2_47": 0,
         "organic_linker2_48": 0,
         "organic_linker2_49": 0,
         "organic_linker2_50": 0,
         "organic_linker2_51": 0,
         "organic_linker2_52": 0,
         "organic_linker2_53": 0,
         "organic_linker2_54": 0,
         "organic_linker2_55": 0,
         "organic_linker2_56": 0,
         "organic_linker2_57": 0,
         "organic_linker2_58": 0,
         "organic_linker2_59": 0,
         "density": 2.1617358017910604,
         "_deepnote_index_column": 68613
        }
       ]
      },
      "text/plain": "            volume [A^3]   weight [u]  surface_area [m^2/g]  void_fraction  \\\nUnnamed: 0                                                                   \n1            1116.667429   875.240600              -9999.00        0.07899   \n2            2769.503842  2211.697211                603.61        0.13794   \n3            1089.818728   773.687960                788.50        0.14874   \n4            2205.198301  1304.638720               1441.53        0.21814   \n5            1137.800963   901.736120              -9999.00        0.07778   \n...                  ...          ...                   ...            ...   \n68609        1188.302573  1001.700216              -9999.00        0.00000   \n68610        1506.660363  1493.296496              -9999.00        0.01108   \n68611        2035.532738  1959.518320              -9999.00        0.00000   \n68612        3985.426053  3638.677280              -9999.00        0.00000   \n68613        1591.009408  2071.219000              -9999.00        0.01609   \n\n            void_volume [cm^3/g]  organic_linker1  organic_linker2  \\\nUnnamed: 0                                                           \n1                       0.060690                4               11   \n2                       0.104020               44               57   \n3                       0.126173               22               24   \n4                       0.222046               17               24   \n5                       0.059102                1               22   \n...                          ...              ...              ...   \n68609                   0.000000                4               24   \n68610                   0.006732               42               46   \n68611                   0.000000               14               22   \n68612                   0.000000                4               15   \n68613                   0.007443                9               16   \n\n            CO2/N2_selectivity  heat_adsorption_CO2_P0.15bar_T298K [kcal/mol]  \\\nUnnamed: 0                                                                      \n1                    22.864166                                       6.786041   \n2                    33.616780                                       7.147286   \n3                    19.263726                                       6.347967   \n4                    25.701377                                       6.190085   \n5                    30.001838                                       6.478063   \n...                        ...                                            ...   \n68609                24.131770                                   -9999.000000   \n68610                 6.071818                                   -9999.000000   \n68611                 9.876134                                   -9999.000000   \n68612                 5.285051                                  999999.000000   \n68613                 2.621272                                  999999.000000   \n\n            _cell_length_a  ...  organic_linker2_51  organic_linker2_52  \\\nUnnamed: 0                  ...                                           \n1                10.609882  ...                   0                   0   \n2                 8.463295  ...                   0                   0   \n3                10.732110  ...                   0                   0   \n4                 6.935530  ...                   0                   0   \n5                10.825925  ...                   0                   0   \n...                    ...  ...                 ...                 ...   \n68609            10.718161  ...                   0                   0   \n68610             8.192620  ...                   0                   0   \n68611            11.237482  ...                   0                   0   \n68612            19.396341  ...                   0                   0   \n68613            11.049965  ...                   0                   0   \n\n            organic_linker2_53  organic_linker2_54  organic_linker2_55  \\\nUnnamed: 0                                                               \n1                            0                   0                   0   \n2                            0                   0                   0   \n3                            0                   0                   0   \n4                            0                   0                   0   \n5                            0                   0                   0   \n...                        ...                 ...                 ...   \n68609                        0                   0                   0   \n68610                        0                   0                   0   \n68611                        0                   0                   0   \n68612                        0                   0                   0   \n68613                        0                   0                   0   \n\n            organic_linker2_56  organic_linker2_57  organic_linker2_58  \\\nUnnamed: 0                                                               \n1                            0                   0                   0   \n2                            0                   1                   0   \n3                            0                   0                   0   \n4                            0                   0                   0   \n5                            0                   0                   0   \n...                        ...                 ...                 ...   \n68609                        0                   0                   0   \n68610                        0                   0                   0   \n68611                        0                   0                   0   \n68612                        0                   0                   0   \n68613                        0                   0                   0   \n\n            organic_linker2_59   density  \nUnnamed: 0                                \n1                            0  1.301526  \n2                            0  1.326090  \n3                            0  1.178856  \n4                            0  0.982408  \n5                            0  1.316020  \n...                        ...       ...  \n68609                        0  1.399781  \n68610                        0  1.645811  \n68611                        0  1.598529  \n68612                        0  1.516066  \n68613                        0  2.161736  \n\n[66715 rows x 152 columns]",
      "text/html": "<div>\n<style scoped>\n    .dataframe tbody tr th:only-of-type {\n        vertical-align: middle;\n    }\n\n    .dataframe tbody tr th {\n        vertical-align: top;\n    }\n\n    .dataframe thead th {\n        text-align: right;\n    }\n</style>\n<table border=\"1\" class=\"dataframe\">\n  <thead>\n    <tr style=\"text-align: right;\">\n      <th></th>\n      <th>volume [A^3]</th>\n      <th>weight [u]</th>\n      <th>surface_area [m^2/g]</th>\n      <th>void_fraction</th>\n      <th>void_volume [cm^3/g]</th>\n      <th>organic_linker1</th>\n      <th>organic_linker2</th>\n      <th>CO2/N2_selectivity</th>\n      <th>heat_adsorption_CO2_P0.15bar_T298K [kcal/mol]</th>\n      <th>_cell_length_a</th>\n      <th>...</th>\n      <th>organic_linker2_51</th>\n      <th>organic_linker2_52</th>\n      <th>organic_linker2_53</th>\n      <th>organic_linker2_54</th>\n      <th>organic_linker2_55</th>\n      <th>organic_linker2_56</th>\n      <th>organic_linker2_57</th>\n      <th>organic_linker2_58</th>\n      <th>organic_linker2_59</th>\n      <th>density</th>\n    </tr>\n    <tr>\n      <th>Unnamed: 0</th>\n      <th></th>\n      <th></th>\n      <th></th>\n      <th></th>\n      <th></th>\n      <th></th>\n      <th></th>\n      <th></th>\n      <th></th>\n      <th></th>\n      <th></th>\n      <th></th>\n      <th></th>\n      <th></th>\n      <th></th>\n      <th></th>\n      <th></th>\n      <th></th>\n      <th></th>\n      <th></th>\n      <th></th>\n    </tr>\n  </thead>\n  <tbody>\n    <tr>\n      <th>1</th>\n      <td>1116.667429</td>\n      <td>875.240600</td>\n      <td>-9999.00</td>\n      <td>0.07899</td>\n      <td>0.060690</td>\n      <td>4</td>\n      <td>11</td>\n      <td>22.864166</td>\n      <td>6.786041</td>\n      <td>10.609882</td>\n      <td>...</td>\n      <td>0</td>\n      <td>0</td>\n      <td>0</td>\n      <td>0</td>\n      <td>0</td>\n      <td>0</td>\n      <td>0</td>\n      <td>0</td>\n      <td>0</td>\n      <td>1.301526</td>\n    </tr>\n    <tr>\n      <th>2</th>\n      <td>2769.503842</td>\n      <td>2211.697211</td>\n      <td>603.61</td>\n      <td>0.13794</td>\n      <td>0.104020</td>\n      <td>44</td>\n      <td>57</td>\n      <td>33.616780</td>\n      <td>7.147286</td>\n      <td>8.463295</td>\n      <td>...</td>\n      <td>0</td>\n      <td>0</td>\n      <td>0</td>\n      <td>0</td>\n      <td>0</td>\n      <td>0</td>\n      <td>1</td>\n      <td>0</td>\n      <td>0</td>\n      <td>1.326090</td>\n    </tr>\n    <tr>\n      <th>3</th>\n      <td>1089.818728</td>\n      <td>773.687960</td>\n      <td>788.50</td>\n      <td>0.14874</td>\n      <td>0.126173</td>\n      <td>22</td>\n      <td>24</td>\n      <td>19.263726</td>\n      <td>6.347967</td>\n      <td>10.732110</td>\n      <td>...</td>\n      <td>0</td>\n      <td>0</td>\n      <td>0</td>\n      <td>0</td>\n      <td>0</td>\n      <td>0</td>\n      <td>0</td>\n      <td>0</td>\n      <td>0</td>\n      <td>1.178856</td>\n    </tr>\n    <tr>\n      <th>4</th>\n      <td>2205.198301</td>\n      <td>1304.638720</td>\n      <td>1441.53</td>\n      <td>0.21814</td>\n      <td>0.222046</td>\n      <td>17</td>\n      <td>24</td>\n      <td>25.701377</td>\n      <td>6.190085</td>\n      <td>6.935530</td>\n      <td>...</td>\n      <td>0</td>\n      <td>0</td>\n      <td>0</td>\n      <td>0</td>\n      <td>0</td>\n      <td>0</td>\n      <td>0</td>\n      <td>0</td>\n      <td>0</td>\n      <td>0.982408</td>\n    </tr>\n    <tr>\n      <th>5</th>\n      <td>1137.800963</td>\n      <td>901.736120</td>\n      <td>-9999.00</td>\n      <td>0.07778</td>\n      <td>0.059102</td>\n      <td>1</td>\n      <td>22</td>\n      <td>30.001838</td>\n      <td>6.478063</td>\n      <td>10.825925</td>\n      <td>...</td>\n      <td>0</td>\n      <td>0</td>\n      <td>0</td>\n      <td>0</td>\n      <td>0</td>\n      <td>0</td>\n      <td>0</td>\n      <td>0</td>\n      <td>0</td>\n      <td>1.316020</td>\n    </tr>\n    <tr>\n      <th>...</th>\n      <td>...</td>\n      <td>...</td>\n      <td>...</td>\n      <td>...</td>\n      <td>...</td>\n      <td>...</td>\n      <td>...</td>\n      <td>...</td>\n      <td>...</td>\n      <td>...</td>\n      <td>...</td>\n      <td>...</td>\n      <td>...</td>\n      <td>...</td>\n      <td>...</td>\n      <td>...</td>\n      <td>...</td>\n      <td>...</td>\n      <td>...</td>\n      <td>...</td>\n      <td>...</td>\n    </tr>\n    <tr>\n      <th>68609</th>\n      <td>1188.302573</td>\n      <td>1001.700216</td>\n      <td>-9999.00</td>\n      <td>0.00000</td>\n      <td>0.000000</td>\n      <td>4</td>\n      <td>24</td>\n      <td>24.131770</td>\n      <td>-9999.000000</td>\n      <td>10.718161</td>\n      <td>...</td>\n      <td>0</td>\n      <td>0</td>\n      <td>0</td>\n      <td>0</td>\n      <td>0</td>\n      <td>0</td>\n      <td>0</td>\n      <td>0</td>\n      <td>0</td>\n      <td>1.399781</td>\n    </tr>\n    <tr>\n      <th>68610</th>\n      <td>1506.660363</td>\n      <td>1493.296496</td>\n      <td>-9999.00</td>\n      <td>0.01108</td>\n      <td>0.006732</td>\n      <td>42</td>\n      <td>46</td>\n      <td>6.071818</td>\n      <td>-9999.000000</td>\n      <td>8.192620</td>\n      <td>...</td>\n      <td>0</td>\n      <td>0</td>\n      <td>0</td>\n      <td>0</td>\n      <td>0</td>\n      <td>0</td>\n      <td>0</td>\n      <td>0</td>\n      <td>0</td>\n      <td>1.645811</td>\n    </tr>\n    <tr>\n      <th>68611</th>\n      <td>2035.532738</td>\n      <td>1959.518320</td>\n      <td>-9999.00</td>\n      <td>0.00000</td>\n      <td>0.000000</td>\n      <td>14</td>\n      <td>22</td>\n      <td>9.876134</td>\n      <td>-9999.000000</td>\n      <td>11.237482</td>\n      <td>...</td>\n      <td>0</td>\n      <td>0</td>\n      <td>0</td>\n      <td>0</td>\n      <td>0</td>\n      <td>0</td>\n      <td>0</td>\n      <td>0</td>\n      <td>0</td>\n      <td>1.598529</td>\n    </tr>\n    <tr>\n      <th>68612</th>\n      <td>3985.426053</td>\n      <td>3638.677280</td>\n      <td>-9999.00</td>\n      <td>0.00000</td>\n      <td>0.000000</td>\n      <td>4</td>\n      <td>15</td>\n      <td>5.285051</td>\n      <td>999999.000000</td>\n      <td>19.396341</td>\n      <td>...</td>\n      <td>0</td>\n      <td>0</td>\n      <td>0</td>\n      <td>0</td>\n      <td>0</td>\n      <td>0</td>\n      <td>0</td>\n      <td>0</td>\n      <td>0</td>\n      <td>1.516066</td>\n    </tr>\n    <tr>\n      <th>68613</th>\n      <td>1591.009408</td>\n      <td>2071.219000</td>\n      <td>-9999.00</td>\n      <td>0.01609</td>\n      <td>0.007443</td>\n      <td>9</td>\n      <td>16</td>\n      <td>2.621272</td>\n      <td>999999.000000</td>\n      <td>11.049965</td>\n      <td>...</td>\n      <td>0</td>\n      <td>0</td>\n      <td>0</td>\n      <td>0</td>\n      <td>0</td>\n      <td>0</td>\n      <td>0</td>\n      <td>0</td>\n      <td>0</td>\n      <td>2.161736</td>\n    </tr>\n  </tbody>\n</table>\n<p>66715 rows × 152 columns</p>\n</div>"
     },
     "metadata": {}
    }
   ],
   "execution_count": null
  },
  {
   "cell_type": "code",
   "metadata": {
    "tags": [],
    "deepnote_to_be_reexecuted": false,
    "source_hash": "eb4a6a75",
    "execution_start": 1632848116511,
    "execution_millis": 250,
    "cell_id": "00011-f3458166-ac78-4c32-bcf7-e8c01208d630",
    "deepnote_cell_type": "code"
   },
   "source": "test = TestDataPreprocessingPipeline(\n    Pretest,\n    train.imputer,\n    train.functional_group_extractor,\n    train.X.columns\n)\ntest.organic_linker1 = train.organic_linker1\ntest.organic_linker2 = train.organic_linker2\ntest.topology2num = train.topology2num\ntest.spacegroup2num = train.spacegroup2num\ntest.run()",
   "outputs": [
    {
     "name": "stdout",
     "text": "Print droping and replace null\nImpute\n",
     "output_type": "stream"
    }
   ],
   "execution_count": null
  },
  {
   "cell_type": "code",
   "metadata": {
    "tags": [],
    "deepnote_to_be_reexecuted": false,
    "source_hash": "63a82644",
    "execution_start": 1632848116691,
    "execution_millis": 1,
    "cell_id": "00012-9df219a5-74fc-4023-99c9-1fa8a81bc1ba",
    "deepnote_cell_type": "code"
   },
   "source": "assert all(train.X.columns == test.X.columns)",
   "outputs": [],
   "execution_count": null
  },
  {
   "cell_type": "code",
   "metadata": {
    "tags": [],
    "deepnote_to_be_reexecuted": false,
    "source_hash": "a2a5e9c7",
    "execution_start": 1632848116692,
    "execution_millis": 69,
    "cell_id": "00013-2a94266a-6708-4085-8660-49769f91fefc",
    "deepnote_cell_type": "code"
   },
   "source": "len(train.X.columns)",
   "outputs": [
    {
     "output_type": "execute_result",
     "execution_count": 12,
     "data": {
      "text/plain": "152"
     },
     "metadata": {}
    }
   ],
   "execution_count": null
  },
  {
   "cell_type": "code",
   "metadata": {
    "tags": [],
    "deepnote_to_be_reexecuted": false,
    "source_hash": "60f5a559",
    "execution_start": 1632848116693,
    "execution_millis": 68,
    "cell_id": "00014-55c68af9-b995-41a5-a964-bf0eb21468a9",
    "deepnote_cell_type": "code"
   },
   "source": "1/test.X[train.X.columns][['density']]",
   "outputs": [
    {
     "output_type": "execute_result",
     "execution_count": 13,
     "data": {
      "application/vnd.deepnote.dataframe.v2+json": {
       "row_count": 2000,
       "column_count": 1,
       "columns": [
        {
         "name": "density",
         "dtype": "float64",
         "stats": {
          "unique_count": 2000,
          "nan_count": 0,
          "min": "0.4441881604275172",
          "max": "5.995398507197425",
          "histogram": [
           {
            "bin_start": 0.4441881604275172,
            "bin_end": 0.999309195104508,
            "count": 716
           },
           {
            "bin_start": 0.999309195104508,
            "bin_end": 1.5544302297814987,
            "count": 797
           },
           {
            "bin_start": 1.5544302297814987,
            "bin_end": 2.1095512644584895,
            "count": 248
           },
           {
            "bin_start": 2.1095512644584895,
            "bin_end": 2.6646722991354803,
            "count": 112
           },
           {
            "bin_start": 2.6646722991354803,
            "bin_end": 3.219793333812471,
            "count": 65
           },
           {
            "bin_start": 3.219793333812471,
            "bin_end": 3.774914368489462,
            "count": 28
           },
           {
            "bin_start": 3.774914368489462,
            "bin_end": 4.330035403166453,
            "count": 16
           },
           {
            "bin_start": 4.330035403166453,
            "bin_end": 4.8851564378434436,
            "count": 4
           },
           {
            "bin_start": 4.8851564378434436,
            "bin_end": 5.440277472520434,
            "count": 12
           },
           {
            "bin_start": 5.440277472520434,
            "bin_end": 5.995398507197425,
            "count": 2
           }
          ]
         }
        },
        {
         "name": "_deepnote_index_column",
         "dtype": "int64"
        }
       ],
       "rows_top": [
        {
         "density": 1.666997572553401,
         "_deepnote_index_column": 1
        },
        {
         "density": 1.214610902797537,
         "_deepnote_index_column": 2
        },
        {
         "density": 1.1410069806730878,
         "_deepnote_index_column": 3
        },
        {
         "density": 1.5431444073168121,
         "_deepnote_index_column": 4
        },
        {
         "density": 0.6603753279104085,
         "_deepnote_index_column": 5
        },
        {
         "density": 1.056926213866801,
         "_deepnote_index_column": 6
        },
        {
         "density": 1.0036866306018466,
         "_deepnote_index_column": 7
        },
        {
         "density": 1.3967237556719687,
         "_deepnote_index_column": 8
        },
        {
         "density": 1.7580884218105322,
         "_deepnote_index_column": 9
        },
        {
         "density": 1.0257749758586383,
         "_deepnote_index_column": 10
        },
        {
         "density": 1.2600714482527793,
         "_deepnote_index_column": 11
        },
        {
         "density": 1.264307162099315,
         "_deepnote_index_column": 12
        },
        {
         "density": 1.1325626734925682,
         "_deepnote_index_column": 13
        },
        {
         "density": 0.8046461265662379,
         "_deepnote_index_column": 14
        },
        {
         "density": 0.7121647560113958,
         "_deepnote_index_column": 15
        },
        {
         "density": 1.0683319817658716,
         "_deepnote_index_column": 16
        },
        {
         "density": 1.1913802055986682,
         "_deepnote_index_column": 17
        },
        {
         "density": 1.940500575813734,
         "_deepnote_index_column": 18
        },
        {
         "density": 1.5618347375799067,
         "_deepnote_index_column": 19
        },
        {
         "density": 0.8546930998965044,
         "_deepnote_index_column": 20
        },
        {
         "density": 1.4167224898392676,
         "_deepnote_index_column": 21
        },
        {
         "density": 1.0342525552401056,
         "_deepnote_index_column": 22
        },
        {
         "density": 0.9118318029863691,
         "_deepnote_index_column": 23
        },
        {
         "density": 1.1750246083760079,
         "_deepnote_index_column": 24
        },
        {
         "density": 0.7362484867512197,
         "_deepnote_index_column": 25
        },
        {
         "density": 0.8140746612741436,
         "_deepnote_index_column": 26
        },
        {
         "density": 1.0085955823907855,
         "_deepnote_index_column": 27
        },
        {
         "density": 1.102388374557626,
         "_deepnote_index_column": 28
        },
        {
         "density": 1.3886603906262758,
         "_deepnote_index_column": 29
        },
        {
         "density": 0.9711164264738263,
         "_deepnote_index_column": 30
        },
        {
         "density": 1.230065460032025,
         "_deepnote_index_column": 31
        },
        {
         "density": 1.393271619604657,
         "_deepnote_index_column": 32
        },
        {
         "density": 0.700908133036513,
         "_deepnote_index_column": 33
        },
        {
         "density": 2.1178176588725273,
         "_deepnote_index_column": 34
        },
        {
         "density": 0.8152556895148807,
         "_deepnote_index_column": 35
        },
        {
         "density": 0.86826515290954,
         "_deepnote_index_column": 36
        },
        {
         "density": 0.7145352977043055,
         "_deepnote_index_column": 37
        },
        {
         "density": 1.2020996790370868,
         "_deepnote_index_column": 38
        },
        {
         "density": 1.5903066119036084,
         "_deepnote_index_column": 39
        },
        {
         "density": 1.2327585073480165,
         "_deepnote_index_column": 40
        },
        {
         "density": 0.87058012626885,
         "_deepnote_index_column": 41
        },
        {
         "density": 0.8906887811213977,
         "_deepnote_index_column": 42
        },
        {
         "density": 1.2636536907963074,
         "_deepnote_index_column": 43
        },
        {
         "density": 0.9806577363074532,
         "_deepnote_index_column": 44
        },
        {
         "density": 1.2362162731468604,
         "_deepnote_index_column": 45
        },
        {
         "density": 0.8176051678833292,
         "_deepnote_index_column": 46
        },
        {
         "density": 0.9892879376112518,
         "_deepnote_index_column": 47
        },
        {
         "density": 1.085447012450872,
         "_deepnote_index_column": 48
        },
        {
         "density": 0.7976310708108569,
         "_deepnote_index_column": 49
        },
        {
         "density": 1.47757575149357,
         "_deepnote_index_column": 50
        },
        {
         "density": 1.1541646760292432,
         "_deepnote_index_column": 51
        },
        {
         "density": 0.9229592522131574,
         "_deepnote_index_column": 52
        },
        {
         "density": 1.7931615349370893,
         "_deepnote_index_column": 53
        },
        {
         "density": 0.8070902302955973,
         "_deepnote_index_column": 54
        },
        {
         "density": 1.1734737576813326,
         "_deepnote_index_column": 55
        },
        {
         "density": 1.245179178441951,
         "_deepnote_index_column": 56
        },
        {
         "density": 1.1453235133053747,
         "_deepnote_index_column": 57
        },
        {
         "density": 1.2704121177068814,
         "_deepnote_index_column": 58
        },
        {
         "density": 1.017608714640792,
         "_deepnote_index_column": 59
        },
        {
         "density": 0.9606668445735703,
         "_deepnote_index_column": 60
        },
        {
         "density": 1.0314213415804954,
         "_deepnote_index_column": 61
        },
        {
         "density": 0.9699274978019282,
         "_deepnote_index_column": 62
        },
        {
         "density": 1.2063073281100305,
         "_deepnote_index_column": 63
        },
        {
         "density": 1.3186526833404395,
         "_deepnote_index_column": 64
        },
        {
         "density": 0.7405726818899248,
         "_deepnote_index_column": 65
        },
        {
         "density": 0.7799214922385735,
         "_deepnote_index_column": 66
        },
        {
         "density": 1.0057930028619138,
         "_deepnote_index_column": 67
        },
        {
         "density": 0.78991110302455,
         "_deepnote_index_column": 68
        },
        {
         "density": 0.9851545366512016,
         "_deepnote_index_column": 69
        },
        {
         "density": 0.6594516058199124,
         "_deepnote_index_column": 70
        },
        {
         "density": 1.3981277634312108,
         "_deepnote_index_column": 71
        },
        {
         "density": 1.0535714109222805,
         "_deepnote_index_column": 72
        },
        {
         "density": 1.2152445944149577,
         "_deepnote_index_column": 73
        },
        {
         "density": 0.9852823038496941,
         "_deepnote_index_column": 74
        },
        {
         "density": 0.7095822849892004,
         "_deepnote_index_column": 75
        },
        {
         "density": 0.9713967141068546,
         "_deepnote_index_column": 76
        },
        {
         "density": 0.715086169925052,
         "_deepnote_index_column": 77
        },
        {
         "density": 0.6936699824266449,
         "_deepnote_index_column": 78
        },
        {
         "density": 1.084580478794941,
         "_deepnote_index_column": 79
        },
        {
         "density": 0.8620533729086801,
         "_deepnote_index_column": 80
        },
        {
         "density": 1.0401206922013815,
         "_deepnote_index_column": 81
        },
        {
         "density": 1.787447103165352,
         "_deepnote_index_column": 82
        },
        {
         "density": 1.1907422383561692,
         "_deepnote_index_column": 83
        },
        {
         "density": 0.9614821627955848,
         "_deepnote_index_column": 84
        },
        {
         "density": 0.6373608502291733,
         "_deepnote_index_column": 85
        },
        {
         "density": 1.3169445949803409,
         "_deepnote_index_column": 86
        },
        {
         "density": 0.8811623577612442,
         "_deepnote_index_column": 87
        },
        {
         "density": 0.8282392752979274,
         "_deepnote_index_column": 88
        },
        {
         "density": 1.7913780128278183,
         "_deepnote_index_column": 89
        },
        {
         "density": 0.8959595379051297,
         "_deepnote_index_column": 90
        },
        {
         "density": 1.2268195833085054,
         "_deepnote_index_column": 91
        },
        {
         "density": 0.7050002327110456,
         "_deepnote_index_column": 92
        },
        {
         "density": 0.6504164570903079,
         "_deepnote_index_column": 93
        },
        {
         "density": 0.940002680646527,
         "_deepnote_index_column": 94
        },
        {
         "density": 1.2978784429695207,
         "_deepnote_index_column": 95
        },
        {
         "density": 1.22835216724651,
         "_deepnote_index_column": 96
        },
        {
         "density": 0.5927476868969603,
         "_deepnote_index_column": 97
        },
        {
         "density": 1.2182436272735724,
         "_deepnote_index_column": 98
        },
        {
         "density": 1.11824114184987,
         "_deepnote_index_column": 99
        },
        {
         "density": 1.0238691942670528,
         "_deepnote_index_column": 100
        },
        {
         "density": 0.8644432862106247,
         "_deepnote_index_column": 101
        },
        {
         "density": 1.5547263018844732,
         "_deepnote_index_column": 102
        },
        {
         "density": 0.6960973096076248,
         "_deepnote_index_column": 103
        },
        {
         "density": 0.693035874158302,
         "_deepnote_index_column": 104
        },
        {
         "density": 1.6676846072245048,
         "_deepnote_index_column": 105
        },
        {
         "density": 1.0936890298273674,
         "_deepnote_index_column": 106
        },
        {
         "density": 0.890719052962032,
         "_deepnote_index_column": 107
        },
        {
         "density": 0.7305800403177297,
         "_deepnote_index_column": 108
        },
        {
         "density": 1.5939368579959137,
         "_deepnote_index_column": 109
        },
        {
         "density": 1.2834290842746574,
         "_deepnote_index_column": 110
        },
        {
         "density": 0.7837636111074309,
         "_deepnote_index_column": 111
        },
        {
         "density": 0.7775442002111206,
         "_deepnote_index_column": 112
        },
        {
         "density": 1.0750964090299848,
         "_deepnote_index_column": 113
        },
        {
         "density": 1.1246515606761347,
         "_deepnote_index_column": 114
        },
        {
         "density": 1.074885282217978,
         "_deepnote_index_column": 115
        },
        {
         "density": 0.6514564628206609,
         "_deepnote_index_column": 116
        },
        {
         "density": 1.020256338159052,
         "_deepnote_index_column": 117
        },
        {
         "density": 1.0000109463717273,
         "_deepnote_index_column": 118
        },
        {
         "density": 0.984307149052533,
         "_deepnote_index_column": 119
        },
        {
         "density": 0.838057154094862,
         "_deepnote_index_column": 120
        },
        {
         "density": 1.557548945823784,
         "_deepnote_index_column": 121
        },
        {
         "density": 0.9113920772635727,
         "_deepnote_index_column": 122
        },
        {
         "density": 0.7371058958637361,
         "_deepnote_index_column": 123
        },
        {
         "density": 1.3027606322211827,
         "_deepnote_index_column": 124
        },
        {
         "density": 0.7207415044930224,
         "_deepnote_index_column": 125
        },
        {
         "density": 1.5989177720255008,
         "_deepnote_index_column": 126
        },
        {
         "density": 0.9105913237930172,
         "_deepnote_index_column": 127
        },
        {
         "density": 0.8495744929432254,
         "_deepnote_index_column": 128
        },
        {
         "density": 0.7645656082822214,
         "_deepnote_index_column": 129
        },
        {
         "density": 1.1367261740291732,
         "_deepnote_index_column": 130
        },
        {
         "density": 0.7933840218566242,
         "_deepnote_index_column": 131
        },
        {
         "density": 1.1714419917073582,
         "_deepnote_index_column": 132
        },
        {
         "density": 0.8088455598544254,
         "_deepnote_index_column": 133
        },
        {
         "density": 1.100331665575429,
         "_deepnote_index_column": 134
        },
        {
         "density": 0.690368597285967,
         "_deepnote_index_column": 135
        },
        {
         "density": 0.8095490870061124,
         "_deepnote_index_column": 136
        },
        {
         "density": 1.0045129079165205,
         "_deepnote_index_column": 137
        },
        {
         "density": 0.8376431723839598,
         "_deepnote_index_column": 138
        },
        {
         "density": 1.2756655578381004,
         "_deepnote_index_column": 139
        },
        {
         "density": 1.3530842955352105,
         "_deepnote_index_column": 140
        },
        {
         "density": 0.5835530590522798,
         "_deepnote_index_column": 141
        },
        {
         "density": 1.6559431897232255,
         "_deepnote_index_column": 142
        },
        {
         "density": 1.0844740148696592,
         "_deepnote_index_column": 143
        },
        {
         "density": 1.3495507022091766,
         "_deepnote_index_column": 144
        },
        {
         "density": 1.1867423167475708,
         "_deepnote_index_column": 145
        },
        {
         "density": 1.106709574848017,
         "_deepnote_index_column": 146
        },
        {
         "density": 1.504754052958482,
         "_deepnote_index_column": 147
        },
        {
         "density": 0.7854810887550514,
         "_deepnote_index_column": 148
        },
        {
         "density": 0.8317883759302759,
         "_deepnote_index_column": 149
        },
        {
         "density": 1.1934355632156393,
         "_deepnote_index_column": 150
        },
        {
         "density": 0.8790674282702355,
         "_deepnote_index_column": 151
        },
        {
         "density": 0.995227195580233,
         "_deepnote_index_column": 152
        },
        {
         "density": 1.1245655163843256,
         "_deepnote_index_column": 153
        },
        {
         "density": 0.7190231866378817,
         "_deepnote_index_column": 154
        },
        {
         "density": 1.0774486796231997,
         "_deepnote_index_column": 155
        },
        {
         "density": 0.8579584839640804,
         "_deepnote_index_column": 156
        },
        {
         "density": 1.3294565331594808,
         "_deepnote_index_column": 157
        },
        {
         "density": 0.7619053134356176,
         "_deepnote_index_column": 158
        },
        {
         "density": 1.1240360203982107,
         "_deepnote_index_column": 159
        },
        {
         "density": 0.73530838764269,
         "_deepnote_index_column": 160
        },
        {
         "density": 0.7414717852474028,
         "_deepnote_index_column": 161
        },
        {
         "density": 0.6945802572596625,
         "_deepnote_index_column": 162
        },
        {
         "density": 0.6238625115112185,
         "_deepnote_index_column": 163
        },
        {
         "density": 1.3273392089445046,
         "_deepnote_index_column": 164
        },
        {
         "density": 0.9847951336650042,
         "_deepnote_index_column": 165
        },
        {
         "density": 1.3222488837000406,
         "_deepnote_index_column": 166
        },
        {
         "density": 0.9883437528952251,
         "_deepnote_index_column": 167
        },
        {
         "density": 0.6907254857909364,
         "_deepnote_index_column": 168
        },
        {
         "density": 0.9717836731597137,
         "_deepnote_index_column": 169
        },
        {
         "density": 0.9411899615895892,
         "_deepnote_index_column": 170
        },
        {
         "density": 1.0480686588601011,
         "_deepnote_index_column": 171
        },
        {
         "density": 1.5178011048027997,
         "_deepnote_index_column": 172
        },
        {
         "density": 0.9875351101284268,
         "_deepnote_index_column": 173
        },
        {
         "density": 0.9647468310058017,
         "_deepnote_index_column": 174
        },
        {
         "density": 1.0770027769688966,
         "_deepnote_index_column": 175
        },
        {
         "density": 1.1177780741912304,
         "_deepnote_index_column": 176
        },
        {
         "density": 0.705679491995947,
         "_deepnote_index_column": 177
        },
        {
         "density": 0.8530108498949196,
         "_deepnote_index_column": 178
        },
        {
         "density": 0.9401162897843794,
         "_deepnote_index_column": 179
        },
        {
         "density": 1.0229184692455418,
         "_deepnote_index_column": 180
        },
        {
         "density": 1.1846250621816037,
         "_deepnote_index_column": 181
        },
        {
         "density": 2.1386795445634212,
         "_deepnote_index_column": 182
        },
        {
         "density": 0.8044146907417942,
         "_deepnote_index_column": 183
        },
        {
         "density": 1.0572191147941092,
         "_deepnote_index_column": 184
        },
        {
         "density": 1.282963009155942,
         "_deepnote_index_column": 185
        },
        {
         "density": 0.9236092170349423,
         "_deepnote_index_column": 186
        },
        {
         "density": 1.1872523236869306,
         "_deepnote_index_column": 187
        },
        {
         "density": 1.3635392496660512,
         "_deepnote_index_column": 188
        },
        {
         "density": 1.1225080234577578,
         "_deepnote_index_column": 189
        },
        {
         "density": 0.9357359843337008,
         "_deepnote_index_column": 190
        },
        {
         "density": 1.3579936869660745,
         "_deepnote_index_column": 191
        },
        {
         "density": 1.1493287810448858,
         "_deepnote_index_column": 192
        },
        {
         "density": 1.069612611861556,
         "_deepnote_index_column": 193
        },
        {
         "density": 1.0313717269986276,
         "_deepnote_index_column": 194
        },
        {
         "density": 0.5927988636378377,
         "_deepnote_index_column": 195
        },
        {
         "density": 1.178999510008801,
         "_deepnote_index_column": 196
        },
        {
         "density": 0.9145997443983325,
         "_deepnote_index_column": 197
        },
        {
         "density": 2.2628371394882447,
         "_deepnote_index_column": 198
        },
        {
         "density": 1.2970385238278226,
         "_deepnote_index_column": 199
        },
        {
         "density": 0.9258472514210362,
         "_deepnote_index_column": 200
        },
        {
         "density": 1.709470374139999,
         "_deepnote_index_column": 201
        },
        {
         "density": 1.1581024851608532,
         "_deepnote_index_column": 202
        },
        {
         "density": 1.7174879332723734,
         "_deepnote_index_column": 203
        },
        {
         "density": 1.409819063941156,
         "_deepnote_index_column": 204
        },
        {
         "density": 0.9291525286180221,
         "_deepnote_index_column": 205
        },
        {
         "density": 1.2085224294702008,
         "_deepnote_index_column": 206
        },
        {
         "density": 1.2509212509085537,
         "_deepnote_index_column": 207
        },
        {
         "density": 0.7126965502483112,
         "_deepnote_index_column": 208
        },
        {
         "density": 0.9262664970084545,
         "_deepnote_index_column": 209
        },
        {
         "density": 1.034773284107937,
         "_deepnote_index_column": 210
        },
        {
         "density": 1.29036261063863,
         "_deepnote_index_column": 211
        },
        {
         "density": 1.3189785660573683,
         "_deepnote_index_column": 212
        },
        {
         "density": 1.5412601650319468,
         "_deepnote_index_column": 213
        },
        {
         "density": 0.6508209005162656,
         "_deepnote_index_column": 214
        },
        {
         "density": 1.8368654562537037,
         "_deepnote_index_column": 215
        },
        {
         "density": 1.2061346076450439,
         "_deepnote_index_column": 216
        },
        {
         "density": 1.2447341128040028,
         "_deepnote_index_column": 217
        },
        {
         "density": 1.4154746280767914,
         "_deepnote_index_column": 218
        },
        {
         "density": 0.8349889124829747,
         "_deepnote_index_column": 219
        },
        {
         "density": 0.9241018656640724,
         "_deepnote_index_column": 220
        },
        {
         "density": 1.10456782916234,
         "_deepnote_index_column": 221
        },
        {
         "density": 0.8338198783830911,
         "_deepnote_index_column": 222
        },
        {
         "density": 0.9033580826680275,
         "_deepnote_index_column": 223
        },
        {
         "density": 0.6648690626359227,
         "_deepnote_index_column": 224
        },
        {
         "density": 1.2846256160550702,
         "_deepnote_index_column": 225
        },
        {
         "density": 0.765573071900333,
         "_deepnote_index_column": 226
        },
        {
         "density": 0.7817950863374495,
         "_deepnote_index_column": 227
        },
        {
         "density": 1.2637347615013368,
         "_deepnote_index_column": 228
        },
        {
         "density": 1.1933398858044895,
         "_deepnote_index_column": 229
        },
        {
         "density": 1.1784005103026804,
         "_deepnote_index_column": 230
        },
        {
         "density": 0.9379240190492053,
         "_deepnote_index_column": 231
        },
        {
         "density": 1.326446782530958,
         "_deepnote_index_column": 232
        },
        {
         "density": 1.1486487777542869,
         "_deepnote_index_column": 233
        },
        {
         "density": 1.0465586896797343,
         "_deepnote_index_column": 234
        },
        {
         "density": 0.9555925815516315,
         "_deepnote_index_column": 235
        },
        {
         "density": 0.7898045037775486,
         "_deepnote_index_column": 236
        },
        {
         "density": 1.3579977467917153,
         "_deepnote_index_column": 237
        },
        {
         "density": 1.2261156737587826,
         "_deepnote_index_column": 238
        },
        {
         "density": 0.8934259802603123,
         "_deepnote_index_column": 239
        },
        {
         "density": 1.1462468898576301,
         "_deepnote_index_column": 240
        },
        {
         "density": 1.0908751129810015,
         "_deepnote_index_column": 241
        },
        {
         "density": 0.974258710119294,
         "_deepnote_index_column": 242
        },
        {
         "density": 0.817864699928004,
         "_deepnote_index_column": 243
        },
        {
         "density": 0.5414958013058405,
         "_deepnote_index_column": 244
        },
        {
         "density": 1.1358294125035056,
         "_deepnote_index_column": 245
        },
        {
         "density": 1.3527832292198532,
         "_deepnote_index_column": 246
        },
        {
         "density": 0.9838348957132617,
         "_deepnote_index_column": 247
        },
        {
         "density": 1.6278691181043816,
         "_deepnote_index_column": 248
        },
        {
         "density": 0.9919150387110423,
         "_deepnote_index_column": 249
        },
        {
         "density": 1.5215571902201406,
         "_deepnote_index_column": 250
        },
        {
         "density": 1.2437819430165649,
         "_deepnote_index_column": 251
        },
        {
         "density": 0.9771399136033008,
         "_deepnote_index_column": 252
        },
        {
         "density": 0.9916338176556339,
         "_deepnote_index_column": 253
        },
        {
         "density": 0.6331431327067063,
         "_deepnote_index_column": 254
        },
        {
         "density": 0.9443492935039154,
         "_deepnote_index_column": 255
        },
        {
         "density": 0.8415170055703761,
         "_deepnote_index_column": 256
        },
        {
         "density": 0.8806502480897402,
         "_deepnote_index_column": 257
        },
        {
         "density": 0.7549414333714451,
         "_deepnote_index_column": 258
        },
        {
         "density": 0.8142952716172036,
         "_deepnote_index_column": 259
        },
        {
         "density": 0.8132004875737022,
         "_deepnote_index_column": 260
        },
        {
         "density": 1.3771382882206367,
         "_deepnote_index_column": 261
        },
        {
         "density": 0.8120762551587483,
         "_deepnote_index_column": 262
        },
        {
         "density": 1.2906032897962219,
         "_deepnote_index_column": 263
        },
        {
         "density": 1.4877838755156285,
         "_deepnote_index_column": 264
        },
        {
         "density": 0.8769676895746185,
         "_deepnote_index_column": 265
        },
        {
         "density": 1.1017163847511096,
         "_deepnote_index_column": 266
        },
        {
         "density": 1.6067442984885878,
         "_deepnote_index_column": 267
        },
        {
         "density": 0.8445139428665775,
         "_deepnote_index_column": 268
        },
        {
         "density": 1.454988576522344,
         "_deepnote_index_column": 269
        },
        {
         "density": 0.9872221420052485,
         "_deepnote_index_column": 270
        },
        {
         "density": 0.8942939838620819,
         "_deepnote_index_column": 271
        },
        {
         "density": 0.7531479930324199,
         "_deepnote_index_column": 272
        },
        {
         "density": 0.8277639504539491,
         "_deepnote_index_column": 273
        },
        {
         "density": 0.6654285609507296,
         "_deepnote_index_column": 274
        },
        {
         "density": 0.749366015663079,
         "_deepnote_index_column": 275
        },
        {
         "density": 1.3810329888929025,
         "_deepnote_index_column": 276
        },
        {
         "density": 1.4632623154336093,
         "_deepnote_index_column": 277
        },
        {
         "density": 1.0689874753582058,
         "_deepnote_index_column": 278
        },
        {
         "density": 0.7502193507452556,
         "_deepnote_index_column": 279
        },
        {
         "density": 1.4217433247974767,
         "_deepnote_index_column": 280
        },
        {
         "density": 0.8728793908756943,
         "_deepnote_index_column": 281
        },
        {
         "density": 0.8591766907466538,
         "_deepnote_index_column": 282
        },
        {
         "density": 0.6982304045040751,
         "_deepnote_index_column": 283
        },
        {
         "density": 1.1819218745461875,
         "_deepnote_index_column": 284
        },
        {
         "density": 1.3993686172746924,
         "_deepnote_index_column": 285
        },
        {
         "density": 0.9169367767370777,
         "_deepnote_index_column": 286
        },
        {
         "density": 0.6165156316290549,
         "_deepnote_index_column": 287
        },
        {
         "density": 1.7632119092753604,
         "_deepnote_index_column": 288
        },
        {
         "density": 0.8285123971846127,
         "_deepnote_index_column": 289
        },
        {
         "density": 0.6071685619058302,
         "_deepnote_index_column": 290
        },
        {
         "density": 0.6859047997652955,
         "_deepnote_index_column": 291
        },
        {
         "density": 1.4315566571364688,
         "_deepnote_index_column": 292
        },
        {
         "density": 1.2836285447455706,
         "_deepnote_index_column": 293
        },
        {
         "density": 1.3250962289166788,
         "_deepnote_index_column": 294
        },
        {
         "density": 1.414981023377036,
         "_deepnote_index_column": 295
        },
        {
         "density": 0.762864241299196,
         "_deepnote_index_column": 296
        },
        {
         "density": 1.0571939118490472,
         "_deepnote_index_column": 297
        },
        {
         "density": 0.6592844885287376,
         "_deepnote_index_column": 298
        },
        {
         "density": 0.9457911084386839,
         "_deepnote_index_column": 299
        },
        {
         "density": 1.2205175505751715,
         "_deepnote_index_column": 300
        },
        {
         "density": 0.8181745836060869,
         "_deepnote_index_column": 301
        },
        {
         "density": 1.2835615267273424,
         "_deepnote_index_column": 302
        },
        {
         "density": 0.905155706600195,
         "_deepnote_index_column": 303
        },
        {
         "density": 0.9377507761064157,
         "_deepnote_index_column": 304
        },
        {
         "density": 0.7023721931017893,
         "_deepnote_index_column": 305
        },
        {
         "density": 1.094304827645635,
         "_deepnote_index_column": 306
        },
        {
         "density": 1.5533596166849888,
         "_deepnote_index_column": 307
        },
        {
         "density": 0.9299401108091886,
         "_deepnote_index_column": 308
        },
        {
         "density": 0.7763782696228273,
         "_deepnote_index_column": 309
        },
        {
         "density": 1.115975515509073,
         "_deepnote_index_column": 310
        },
        {
         "density": 1.1499664973130743,
         "_deepnote_index_column": 311
        },
        {
         "density": 1.035037993784938,
         "_deepnote_index_column": 312
        },
        {
         "density": 1.2171364994449303,
         "_deepnote_index_column": 313
        },
        {
         "density": 1.0805636410049155,
         "_deepnote_index_column": 314
        },
        {
         "density": 1.0619241943445301,
         "_deepnote_index_column": 315
        },
        {
         "density": 0.7085622595513843,
         "_deepnote_index_column": 316
        },
        {
         "density": 1.5403932445076731,
         "_deepnote_index_column": 317
        },
        {
         "density": 1.3885587149643732,
         "_deepnote_index_column": 318
        },
        {
         "density": 0.764563281573356,
         "_deepnote_index_column": 319
        },
        {
         "density": 0.7571444418326121,
         "_deepnote_index_column": 320
        },
        {
         "density": 1.1192665778186344,
         "_deepnote_index_column": 321
        },
        {
         "density": 1.3458040459416807,
         "_deepnote_index_column": 322
        },
        {
         "density": 1.2989171483565638,
         "_deepnote_index_column": 323
        },
        {
         "density": 0.720870649775069,
         "_deepnote_index_column": 324
        },
        {
         "density": 1.349702321933469,
         "_deepnote_index_column": 325
        },
        {
         "density": 1.35197788573715,
         "_deepnote_index_column": 326
        },
        {
         "density": 0.7384629832789721,
         "_deepnote_index_column": 327
        },
        {
         "density": 0.8703609098128252,
         "_deepnote_index_column": 328
        },
        {
         "density": 1.352529503286386,
         "_deepnote_index_column": 329
        },
        {
         "density": 1.7933140089567077,
         "_deepnote_index_column": 330
        },
        {
         "density": 0.8637223925556775,
         "_deepnote_index_column": 331
        },
        {
         "density": 0.6746484633780473,
         "_deepnote_index_column": 332
        },
        {
         "density": 0.9436038289597852,
         "_deepnote_index_column": 333
        },
        {
         "density": 0.7324925081589372,
         "_deepnote_index_column": 334
        },
        {
         "density": 1.6010460251265144,
         "_deepnote_index_column": 335
        },
        {
         "density": 1.3437234482428018,
         "_deepnote_index_column": 336
        },
        {
         "density": 1.2278326943885907,
         "_deepnote_index_column": 337
        },
        {
         "density": 0.7659743606045123,
         "_deepnote_index_column": 338
        },
        {
         "density": 1.0372371600486825,
         "_deepnote_index_column": 339
        },
        {
         "density": 1.0587724354843266,
         "_deepnote_index_column": 340
        },
        {
         "density": 1.4170549858691535,
         "_deepnote_index_column": 341
        },
        {
         "density": 1.3963807291585422,
         "_deepnote_index_column": 342
        },
        {
         "density": 1.1795769902091164,
         "_deepnote_index_column": 343
        },
        {
         "density": 0.8806621561141602,
         "_deepnote_index_column": 344
        },
        {
         "density": 1.0162796286008429,
         "_deepnote_index_column": 345
        },
        {
         "density": 1.1236175653669913,
         "_deepnote_index_column": 346
        },
        {
         "density": 0.6954676427598935,
         "_deepnote_index_column": 347
        },
        {
         "density": 0.8148101414560966,
         "_deepnote_index_column": 348
        },
        {
         "density": 1.5840388704048867,
         "_deepnote_index_column": 349
        },
        {
         "density": 0.8665321607778949,
         "_deepnote_index_column": 350
        },
        {
         "density": 0.5759661778503393,
         "_deepnote_index_column": 351
        },
        {
         "density": 1.1997432767210128,
         "_deepnote_index_column": 352
        },
        {
         "density": 1.5227656420433227,
         "_deepnote_index_column": 353
        },
        {
         "density": 0.7307411848932203,
         "_deepnote_index_column": 354
        },
        {
         "density": 1.2617582560469536,
         "_deepnote_index_column": 355
        },
        {
         "density": 1.0050081306743972,
         "_deepnote_index_column": 356
        },
        {
         "density": 1.1545990838879385,
         "_deepnote_index_column": 357
        },
        {
         "density": 0.9100710227399843,
         "_deepnote_index_column": 358
        },
        {
         "density": 0.9816739947978622,
         "_deepnote_index_column": 359
        },
        {
         "density": 0.9880182969760578,
         "_deepnote_index_column": 360
        },
        {
         "density": 1.1915605802874032,
         "_deepnote_index_column": 361
        },
        {
         "density": 1.3840418171667952,
         "_deepnote_index_column": 362
        },
        {
         "density": 0.725879472711195,
         "_deepnote_index_column": 363
        },
        {
         "density": 1.307893603778894,
         "_deepnote_index_column": 364
        },
        {
         "density": 1.22673580092561,
         "_deepnote_index_column": 365
        },
        {
         "density": 1.0581399579855864,
         "_deepnote_index_column": 366
        },
        {
         "density": 0.8560993070893694,
         "_deepnote_index_column": 367
        },
        {
         "density": 1.390506081216778,
         "_deepnote_index_column": 368
        },
        {
         "density": 0.8770934545297888,
         "_deepnote_index_column": 369
        },
        {
         "density": 0.9172282182140871,
         "_deepnote_index_column": 370
        },
        {
         "density": 0.907169836519342,
         "_deepnote_index_column": 371
        },
        {
         "density": 1.0186947363786347,
         "_deepnote_index_column": 372
        },
        {
         "density": 0.9515482752245917,
         "_deepnote_index_column": 373
        },
        {
         "density": 1.1885721127069657,
         "_deepnote_index_column": 374
        },
        {
         "density": 1.1623135212830151,
         "_deepnote_index_column": 375
        },
        {
         "density": 0.7388587341916697,
         "_deepnote_index_column": 376
        },
        {
         "density": 0.7053629044212469,
         "_deepnote_index_column": 377
        },
        {
         "density": 1.115996225923305,
         "_deepnote_index_column": 378
        },
        {
         "density": 1.3613315264607226,
         "_deepnote_index_column": 379
        },
        {
         "density": 1.3086765038531867,
         "_deepnote_index_column": 380
        },
        {
         "density": 1.698515605340526,
         "_deepnote_index_column": 381
        },
        {
         "density": 0.8574868174891502,
         "_deepnote_index_column": 382
        },
        {
         "density": 1.0142167111670353,
         "_deepnote_index_column": 383
        },
        {
         "density": 0.8251539553363336,
         "_deepnote_index_column": 384
        },
        {
         "density": 1.3587047114800828,
         "_deepnote_index_column": 385
        },
        {
         "density": 1.2938474154929855,
         "_deepnote_index_column": 386
        },
        {
         "density": 0.7939427388796911,
         "_deepnote_index_column": 387
        },
        {
         "density": 0.7093228623839769,
         "_deepnote_index_column": 388
        },
        {
         "density": 0.8629209614688855,
         "_deepnote_index_column": 389
        },
        {
         "density": 1.5333527229616364,
         "_deepnote_index_column": 390
        },
        {
         "density": 1.6455828229668423,
         "_deepnote_index_column": 391
        },
        {
         "density": 1.254870188163995,
         "_deepnote_index_column": 392
        },
        {
         "density": 1.628790102053458,
         "_deepnote_index_column": 393
        },
        {
         "density": 0.9797556311181119,
         "_deepnote_index_column": 394
        },
        {
         "density": 1.0223719419858721,
         "_deepnote_index_column": 395
        },
        {
         "density": 0.707111184240441,
         "_deepnote_index_column": 396
        },
        {
         "density": 0.8777652186421527,
         "_deepnote_index_column": 397
        },
        {
         "density": 0.705679713598928,
         "_deepnote_index_column": 398
        },
        {
         "density": 1.3665299979559282,
         "_deepnote_index_column": 399
        },
        {
         "density": 1.1251430243738776,
         "_deepnote_index_column": 400
        },
        {
         "density": 0.7384092822628571,
         "_deepnote_index_column": 401
        },
        {
         "density": 1.4255773933424465,
         "_deepnote_index_column": 402
        },
        {
         "density": 1.0479812604492698,
         "_deepnote_index_column": 403
        },
        {
         "density": 1.0043477128818639,
         "_deepnote_index_column": 404
        },
        {
         "density": 0.9006774920087971,
         "_deepnote_index_column": 405
        },
        {
         "density": 1.0752843700673336,
         "_deepnote_index_column": 406
        },
        {
         "density": 1.2005614591986373,
         "_deepnote_index_column": 407
        },
        {
         "density": 0.6339157634734655,
         "_deepnote_index_column": 408
        },
        {
         "density": 0.985467224148303,
         "_deepnote_index_column": 409
        },
        {
         "density": 0.6583353026220565,
         "_deepnote_index_column": 410
        },
        {
         "density": 0.9970388838566951,
         "_deepnote_index_column": 411
        },
        {
         "density": 1.160103262782576,
         "_deepnote_index_column": 412
        },
        {
         "density": 0.7823987097350688,
         "_deepnote_index_column": 413
        },
        {
         "density": 0.8958969630100088,
         "_deepnote_index_column": 414
        },
        {
         "density": 1.133053456343596,
         "_deepnote_index_column": 415
        },
        {
         "density": 1.136783530576245,
         "_deepnote_index_column": 416
        },
        {
         "density": 1.2138713999020487,
         "_deepnote_index_column": 417
        },
        {
         "density": 0.8362954576221414,
         "_deepnote_index_column": 418
        },
        {
         "density": 0.7759558840345695,
         "_deepnote_index_column": 419
        },
        {
         "density": 1.1551944655932165,
         "_deepnote_index_column": 420
        },
        {
         "density": 1.1162817814438415,
         "_deepnote_index_column": 421
        },
        {
         "density": 1.1875263302668944,
         "_deepnote_index_column": 422
        },
        {
         "density": 1.3051613956722075,
         "_deepnote_index_column": 423
        },
        {
         "density": 0.7865423656603161,
         "_deepnote_index_column": 424
        },
        {
         "density": 0.7730656016752797,
         "_deepnote_index_column": 425
        },
        {
         "density": 0.9742991650756371,
         "_deepnote_index_column": 426
        },
        {
         "density": 0.8083387203115581,
         "_deepnote_index_column": 427
        },
        {
         "density": 1.2326046115358547,
         "_deepnote_index_column": 428
        },
        {
         "density": 0.9544618824116162,
         "_deepnote_index_column": 429
        },
        {
         "density": 0.9369706211919631,
         "_deepnote_index_column": 430
        },
        {
         "density": 0.8729673993585182,
         "_deepnote_index_column": 431
        },
        {
         "density": 0.9841681076778857,
         "_deepnote_index_column": 432
        },
        {
         "density": 0.764136780944927,
         "_deepnote_index_column": 433
        },
        {
         "density": 0.9416115424247667,
         "_deepnote_index_column": 434
        },
        {
         "density": 1.3513217196539178,
         "_deepnote_index_column": 435
        },
        {
         "density": 1.3103682807977872,
         "_deepnote_index_column": 436
        },
        {
         "density": 1.2276456107749956,
         "_deepnote_index_column": 437
        },
        {
         "density": 1.218679300924076,
         "_deepnote_index_column": 438
        },
        {
         "density": 0.8741432009556458,
         "_deepnote_index_column": 439
        },
        {
         "density": 1.0368372745426264,
         "_deepnote_index_column": 440
        },
        {
         "density": 0.7001353727801567,
         "_deepnote_index_column": 441
        },
        {
         "density": 0.7760756276816255,
         "_deepnote_index_column": 442
        },
        {
         "density": 0.788572645653326,
         "_deepnote_index_column": 443
        },
        {
         "density": 2.2926810414064986,
         "_deepnote_index_column": 444
        },
        {
         "density": 0.9278741780681188,
         "_deepnote_index_column": 445
        },
        {
         "density": 1.6464540335189415,
         "_deepnote_index_column": 446
        },
        {
         "density": 0.5575631155240771,
         "_deepnote_index_column": 447
        },
        {
         "density": 0.8639011943171117,
         "_deepnote_index_column": 448
        },
        {
         "density": 1.2843176498199778,
         "_deepnote_index_column": 449
        },
        {
         "density": 1.270170655064055,
         "_deepnote_index_column": 450
        },
        {
         "density": 0.8921836663407138,
         "_deepnote_index_column": 451
        },
        {
         "density": 1.4182152149572989,
         "_deepnote_index_column": 452
        },
        {
         "density": 1.0779510840097097,
         "_deepnote_index_column": 453
        },
        {
         "density": 1.134593384452392,
         "_deepnote_index_column": 454
        },
        {
         "density": 0.7997695331209718,
         "_deepnote_index_column": 455
        },
        {
         "density": 1.2195572302462838,
         "_deepnote_index_column": 456
        },
        {
         "density": 1.3444499378128014,
         "_deepnote_index_column": 457
        },
        {
         "density": 1.0434917007573115,
         "_deepnote_index_column": 458
        },
        {
         "density": 1.140650586745525,
         "_deepnote_index_column": 459
        },
        {
         "density": 0.981822468011615,
         "_deepnote_index_column": 460
        },
        {
         "density": 1.2699231415406438,
         "_deepnote_index_column": 461
        },
        {
         "density": 0.9008517304049726,
         "_deepnote_index_column": 462
        },
        {
         "density": 0.508849719390152,
         "_deepnote_index_column": 463
        },
        {
         "density": 0.7910750285661102,
         "_deepnote_index_column": 464
        },
        {
         "density": 1.0140587500246159,
         "_deepnote_index_column": 465
        },
        {
         "density": 1.1593834297370398,
         "_deepnote_index_column": 466
        },
        {
         "density": 1.3778470525039022,
         "_deepnote_index_column": 467
        },
        {
         "density": 0.8623644105696374,
         "_deepnote_index_column": 468
        },
        {
         "density": 0.9773692949837124,
         "_deepnote_index_column": 469
        },
        {
         "density": 0.8869993197427396,
         "_deepnote_index_column": 470
        },
        {
         "density": 0.8338197070323803,
         "_deepnote_index_column": 471
        },
        {
         "density": 0.7699393989380565,
         "_deepnote_index_column": 472
        },
        {
         "density": 0.9435034782572841,
         "_deepnote_index_column": 473
        },
        {
         "density": 0.7273726160287706,
         "_deepnote_index_column": 474
        },
        {
         "density": 0.9357846908912275,
         "_deepnote_index_column": 475
        },
        {
         "density": 1.000517564371993,
         "_deepnote_index_column": 476
        },
        {
         "density": 1.0305712785097871,
         "_deepnote_index_column": 477
        },
        {
         "density": 1.6607063462409748,
         "_deepnote_index_column": 478
        },
        {
         "density": 0.8947151418631685,
         "_deepnote_index_column": 479
        },
        {
         "density": 0.6852290279798403,
         "_deepnote_index_column": 480
        },
        {
         "density": 0.8297759089302926,
         "_deepnote_index_column": 481
        },
        {
         "density": 0.8009914838983783,
         "_deepnote_index_column": 482
        },
        {
         "density": 0.673913249678512,
         "_deepnote_index_column": 483
        },
        {
         "density": 0.8834008181799684,
         "_deepnote_index_column": 484
        },
        {
         "density": 1.128867688481812,
         "_deepnote_index_column": 485
        },
        {
         "density": 1.4346711660191385,
         "_deepnote_index_column": 486
        },
        {
         "density": 0.8570719946451343,
         "_deepnote_index_column": 487
        },
        {
         "density": 0.9085549369008714,
         "_deepnote_index_column": 488
        },
        {
         "density": 0.4441881604275172,
         "_deepnote_index_column": 489
        },
        {
         "density": 0.6252738410509765,
         "_deepnote_index_column": 490
        },
        {
         "density": 0.9868783373737726,
         "_deepnote_index_column": 491
        },
        {
         "density": 1.4307521817469733,
         "_deepnote_index_column": 492
        },
        {
         "density": 1.5002809947922908,
         "_deepnote_index_column": 493
        },
        {
         "density": 0.7731727919403604,
         "_deepnote_index_column": 494
        },
        {
         "density": 1.3256705092689987,
         "_deepnote_index_column": 495
        },
        {
         "density": 0.9918185504772181,
         "_deepnote_index_column": 496
        },
        {
         "density": 1.6402396404240482,
         "_deepnote_index_column": 497
        },
        {
         "density": 1.0751964464839083,
         "_deepnote_index_column": 498
        },
        {
         "density": 0.9588984522393197,
         "_deepnote_index_column": 499
        },
        {
         "density": 1.4942405324992716,
         "_deepnote_index_column": 500
        }
       ],
       "rows_bottom": [
        {
         "density": 1.5367652726175005,
         "_deepnote_index_column": 1501
        },
        {
         "density": 1.720269430253394,
         "_deepnote_index_column": 1502
        },
        {
         "density": 3.5246919666715466,
         "_deepnote_index_column": 1503
        },
        {
         "density": 1.3267862068724383,
         "_deepnote_index_column": 1504
        },
        {
         "density": 2.8868979110454096,
         "_deepnote_index_column": 1505
        },
        {
         "density": 2.637048784469573,
         "_deepnote_index_column": 1506
        },
        {
         "density": 2.7311436536299434,
         "_deepnote_index_column": 1507
        },
        {
         "density": 3.25433086257749,
         "_deepnote_index_column": 1508
        },
        {
         "density": 1.7672047932790123,
         "_deepnote_index_column": 1509
        },
        {
         "density": 2.1500843405371053,
         "_deepnote_index_column": 1510
        },
        {
         "density": 1.7320662228231547,
         "_deepnote_index_column": 1511
        },
        {
         "density": 1.4744277101904193,
         "_deepnote_index_column": 1512
        },
        {
         "density": 1.5245412168635029,
         "_deepnote_index_column": 1513
        },
        {
         "density": 3.6698285404076056,
         "_deepnote_index_column": 1514
        },
        {
         "density": 1.216852713175591,
         "_deepnote_index_column": 1515
        },
        {
         "density": 2.1346204873287693,
         "_deepnote_index_column": 1516
        },
        {
         "density": 3.071339109752916,
         "_deepnote_index_column": 1517
        },
        {
         "density": 1.0954177758022798,
         "_deepnote_index_column": 1518
        },
        {
         "density": 2.042025066828011,
         "_deepnote_index_column": 1519
        },
        {
         "density": 1.6148443862994533,
         "_deepnote_index_column": 1520
        },
        {
         "density": 1.835160153849187,
         "_deepnote_index_column": 1521
        },
        {
         "density": 1.626822677621637,
         "_deepnote_index_column": 1522
        },
        {
         "density": 1.6535944952863342,
         "_deepnote_index_column": 1523
        },
        {
         "density": 2.3877591104061993,
         "_deepnote_index_column": 1524
        },
        {
         "density": 1.314580854933232,
         "_deepnote_index_column": 1525
        },
        {
         "density": 1.2492549491957736,
         "_deepnote_index_column": 1526
        },
        {
         "density": 0.8004254083177453,
         "_deepnote_index_column": 1527
        },
        {
         "density": 2.14687058065741,
         "_deepnote_index_column": 1528
        },
        {
         "density": 2.406946892887288,
         "_deepnote_index_column": 1529
        },
        {
         "density": 0.6302677160900167,
         "_deepnote_index_column": 1530
        },
        {
         "density": 1.2796507427892123,
         "_deepnote_index_column": 1531
        },
        {
         "density": 2.2467515949812453,
         "_deepnote_index_column": 1532
        },
        {
         "density": 2.4260915087888595,
         "_deepnote_index_column": 1533
        },
        {
         "density": 2.353919900110423,
         "_deepnote_index_column": 1534
        },
        {
         "density": 2.720211488639826,
         "_deepnote_index_column": 1535
        },
        {
         "density": 4.198054711630276,
         "_deepnote_index_column": 1536
        },
        {
         "density": 1.6152075539977697,
         "_deepnote_index_column": 1537
        },
        {
         "density": 2.1012000902064076,
         "_deepnote_index_column": 1538
        },
        {
         "density": 1.6525003716770263,
         "_deepnote_index_column": 1539
        },
        {
         "density": 1.7882042162946743,
         "_deepnote_index_column": 1540
        },
        {
         "density": 1.4035303460911421,
         "_deepnote_index_column": 1541
        },
        {
         "density": 1.7929223001206827,
         "_deepnote_index_column": 1542
        },
        {
         "density": 1.545452251866623,
         "_deepnote_index_column": 1543
        },
        {
         "density": 4.108147638554693,
         "_deepnote_index_column": 1544
        },
        {
         "density": 3.248214300627958,
         "_deepnote_index_column": 1545
        },
        {
         "density": 1.4823241099426727,
         "_deepnote_index_column": 1546
        },
        {
         "density": 2.592951014155989,
         "_deepnote_index_column": 1547
        },
        {
         "density": 1.8021208481811735,
         "_deepnote_index_column": 1548
        },
        {
         "density": 2.7576143156864443,
         "_deepnote_index_column": 1549
        },
        {
         "density": 1.449267907352714,
         "_deepnote_index_column": 1550
        },
        {
         "density": 1.8823639113486919,
         "_deepnote_index_column": 1551
        },
        {
         "density": 2.094005343790795,
         "_deepnote_index_column": 1552
        },
        {
         "density": 5.036932724778778,
         "_deepnote_index_column": 1553
        },
        {
         "density": 4.247208236339083,
         "_deepnote_index_column": 1554
        },
        {
         "density": 1.924021594827555,
         "_deepnote_index_column": 1555
        },
        {
         "density": 2.4203102121703903,
         "_deepnote_index_column": 1556
        },
        {
         "density": 1.6804241494919079,
         "_deepnote_index_column": 1557
        },
        {
         "density": 0.9784552990728288,
         "_deepnote_index_column": 1558
        },
        {
         "density": 2.2026320727918747,
         "_deepnote_index_column": 1559
        },
        {
         "density": 1.9555393352059922,
         "_deepnote_index_column": 1560
        },
        {
         "density": 2.041473227572423,
         "_deepnote_index_column": 1561
        },
        {
         "density": 1.273953161375442,
         "_deepnote_index_column": 1562
        },
        {
         "density": 1.6501479746855245,
         "_deepnote_index_column": 1563
        },
        {
         "density": 1.4879130615481293,
         "_deepnote_index_column": 1564
        },
        {
         "density": 2.571637521651915,
         "_deepnote_index_column": 1565
        },
        {
         "density": 1.6196593753689634,
         "_deepnote_index_column": 1566
        },
        {
         "density": 0.47919093394032325,
         "_deepnote_index_column": 1567
        },
        {
         "density": 2.563455031164119,
         "_deepnote_index_column": 1568
        },
        {
         "density": 0.8144902215794089,
         "_deepnote_index_column": 1569
        },
        {
         "density": 1.7196897516016625,
         "_deepnote_index_column": 1570
        },
        {
         "density": 1.9635650493986616,
         "_deepnote_index_column": 1571
        },
        {
         "density": 2.0223985335685546,
         "_deepnote_index_column": 1572
        },
        {
         "density": 2.895012730012961,
         "_deepnote_index_column": 1573
        },
        {
         "density": 2.2859915670906856,
         "_deepnote_index_column": 1574
        },
        {
         "density": 3.0235158100032793,
         "_deepnote_index_column": 1575
        },
        {
         "density": 2.992204678995684,
         "_deepnote_index_column": 1576
        },
        {
         "density": 1.0755570989585674,
         "_deepnote_index_column": 1577
        },
        {
         "density": 0.7767565018203197,
         "_deepnote_index_column": 1578
        },
        {
         "density": 2.21405490163,
         "_deepnote_index_column": 1579
        },
        {
         "density": 2.224642581637321,
         "_deepnote_index_column": 1580
        },
        {
         "density": 2.972765703931795,
         "_deepnote_index_column": 1581
        },
        {
         "density": 3.146584718244355,
         "_deepnote_index_column": 1582
        },
        {
         "density": 2.0023023836204032,
         "_deepnote_index_column": 1583
        },
        {
         "density": 2.174487586511036,
         "_deepnote_index_column": 1584
        },
        {
         "density": 1.7925846111621322,
         "_deepnote_index_column": 1585
        },
        {
         "density": 2.699567719618164,
         "_deepnote_index_column": 1586
        },
        {
         "density": 2.112659333146614,
         "_deepnote_index_column": 1587
        },
        {
         "density": 1.6806323739172178,
         "_deepnote_index_column": 1588
        },
        {
         "density": 2.8563357729101315,
         "_deepnote_index_column": 1589
        },
        {
         "density": 3.7596536014615025,
         "_deepnote_index_column": 1590
        },
        {
         "density": 0.9365728803188738,
         "_deepnote_index_column": 1591
        },
        {
         "density": 3.6337024855819737,
         "_deepnote_index_column": 1592
        },
        {
         "density": 1.1446274823838147,
         "_deepnote_index_column": 1593
        },
        {
         "density": 1.9605135661701942,
         "_deepnote_index_column": 1594
        },
        {
         "density": 1.1084420605645104,
         "_deepnote_index_column": 1595
        },
        {
         "density": 2.961611081681886,
         "_deepnote_index_column": 1596
        },
        {
         "density": 1.6608172524756315,
         "_deepnote_index_column": 1597
        },
        {
         "density": 2.437631715926809,
         "_deepnote_index_column": 1598
        },
        {
         "density": 3.520578653295163,
         "_deepnote_index_column": 1599
        },
        {
         "density": 2.2282140334038307,
         "_deepnote_index_column": 1600
        },
        {
         "density": 1.278391582622574,
         "_deepnote_index_column": 1601
        },
        {
         "density": 1.2732370690184052,
         "_deepnote_index_column": 1602
        },
        {
         "density": 2.319196679254275,
         "_deepnote_index_column": 1603
        },
        {
         "density": 5.177179721159652,
         "_deepnote_index_column": 1604
        },
        {
         "density": 2.1454837590528486,
         "_deepnote_index_column": 1605
        },
        {
         "density": 0.7613597169895502,
         "_deepnote_index_column": 1606
        },
        {
         "density": 2.6157152713255982,
         "_deepnote_index_column": 1607
        },
        {
         "density": 2.350591176813421,
         "_deepnote_index_column": 1608
        },
        {
         "density": 2.2798485216436015,
         "_deepnote_index_column": 1609
        },
        {
         "density": 2.392730686259536,
         "_deepnote_index_column": 1610
        },
        {
         "density": 1.262094622902348,
         "_deepnote_index_column": 1611
        },
        {
         "density": 2.0879911597365015,
         "_deepnote_index_column": 1612
        },
        {
         "density": 2.032636189067324,
         "_deepnote_index_column": 1613
        },
        {
         "density": 1.8548974855986797,
         "_deepnote_index_column": 1614
        },
        {
         "density": 4.727229337144622,
         "_deepnote_index_column": 1615
        },
        {
         "density": 2.4479725956222724,
         "_deepnote_index_column": 1616
        },
        {
         "density": 4.111682279312737,
         "_deepnote_index_column": 1617
        },
        {
         "density": 4.167000225439301,
         "_deepnote_index_column": 1618
        },
        {
         "density": 5.0775874502306175,
         "_deepnote_index_column": 1619
        },
        {
         "density": 2.396393548991146,
         "_deepnote_index_column": 1620
        },
        {
         "density": 1.95535524790643,
         "_deepnote_index_column": 1621
        },
        {
         "density": 3.1162282836459765,
         "_deepnote_index_column": 1622
        },
        {
         "density": 2.3989589477184716,
         "_deepnote_index_column": 1623
        },
        {
         "density": 2.5864484417332085,
         "_deepnote_index_column": 1624
        },
        {
         "density": 1.6653957243503337,
         "_deepnote_index_column": 1625
        },
        {
         "density": 1.3666022351069544,
         "_deepnote_index_column": 1626
        },
        {
         "density": 2.5052128353425265,
         "_deepnote_index_column": 1627
        },
        {
         "density": 2.017670134504163,
         "_deepnote_index_column": 1628
        },
        {
         "density": 3.6695000919388345,
         "_deepnote_index_column": 1629
        },
        {
         "density": 2.3234395731537827,
         "_deepnote_index_column": 1630
        },
        {
         "density": 3.7535660045696213,
         "_deepnote_index_column": 1631
        },
        {
         "density": 1.434236264157669,
         "_deepnote_index_column": 1632
        },
        {
         "density": 1.6490366979044566,
         "_deepnote_index_column": 1633
        },
        {
         "density": 1.834829158503613,
         "_deepnote_index_column": 1634
        },
        {
         "density": 0.7156287642570253,
         "_deepnote_index_column": 1635
        },
        {
         "density": 1.452464566903718,
         "_deepnote_index_column": 1636
        },
        {
         "density": 2.346724600477274,
         "_deepnote_index_column": 1637
        },
        {
         "density": 4.259833942048289,
         "_deepnote_index_column": 1638
        },
        {
         "density": 2.0662695104815314,
         "_deepnote_index_column": 1639
        },
        {
         "density": 1.436740313629872,
         "_deepnote_index_column": 1640
        },
        {
         "density": 2.012665395821232,
         "_deepnote_index_column": 1641
        },
        {
         "density": 0.8262547285938022,
         "_deepnote_index_column": 1642
        },
        {
         "density": 1.2403613521344619,
         "_deepnote_index_column": 1643
        },
        {
         "density": 1.9888184136825133,
         "_deepnote_index_column": 1644
        },
        {
         "density": 1.7192381191585941,
         "_deepnote_index_column": 1645
        },
        {
         "density": 1.6205892538606563,
         "_deepnote_index_column": 1646
        },
        {
         "density": 2.5743704622933894,
         "_deepnote_index_column": 1647
        },
        {
         "density": 2.3935984514271,
         "_deepnote_index_column": 1648
        },
        {
         "density": 5.044004416942412,
         "_deepnote_index_column": 1649
        },
        {
         "density": 2.882523059061281,
         "_deepnote_index_column": 1650
        },
        {
         "density": 1.5239293834259922,
         "_deepnote_index_column": 1651
        },
        {
         "density": 2.7001823074890403,
         "_deepnote_index_column": 1652
        },
        {
         "density": 2.042520287444365,
         "_deepnote_index_column": 1653
        },
        {
         "density": 2.1246013244528617,
         "_deepnote_index_column": 1654
        },
        {
         "density": 2.0530130633683226,
         "_deepnote_index_column": 1655
        },
        {
         "density": 1.690243540608165,
         "_deepnote_index_column": 1656
        },
        {
         "density": 2.7136179586666103,
         "_deepnote_index_column": 1657
        },
        {
         "density": 1.9468353951363537,
         "_deepnote_index_column": 1658
        },
        {
         "density": 1.6264514679965008,
         "_deepnote_index_column": 1659
        },
        {
         "density": 2.887429530117582,
         "_deepnote_index_column": 1660
        },
        {
         "density": 1.2911640662386403,
         "_deepnote_index_column": 1661
        },
        {
         "density": 2.8762478343158557,
         "_deepnote_index_column": 1662
        },
        {
         "density": 3.560052472286091,
         "_deepnote_index_column": 1663
        },
        {
         "density": 2.9578289649872764,
         "_deepnote_index_column": 1664
        },
        {
         "density": 1.2327276041446973,
         "_deepnote_index_column": 1665
        },
        {
         "density": 4.252257645191349,
         "_deepnote_index_column": 1666
        },
        {
         "density": 1.6208003411787477,
         "_deepnote_index_column": 1667
        },
        {
         "density": 2.429821390059257,
         "_deepnote_index_column": 1668
        },
        {
         "density": 1.2826767867069226,
         "_deepnote_index_column": 1669
        },
        {
         "density": 3.658301377134867,
         "_deepnote_index_column": 1670
        },
        {
         "density": 3.1874763485446724,
         "_deepnote_index_column": 1671
        },
        {
         "density": 2.2061637797126505,
         "_deepnote_index_column": 1672
        },
        {
         "density": 2.4176428433115498,
         "_deepnote_index_column": 1673
        },
        {
         "density": 1.6800690297991165,
         "_deepnote_index_column": 1674
        },
        {
         "density": 3.3162629067939458,
         "_deepnote_index_column": 1675
        },
        {
         "density": 2.866567105271296,
         "_deepnote_index_column": 1676
        },
        {
         "density": 2.4753013992460686,
         "_deepnote_index_column": 1677
        },
        {
         "density": 2.0076461940010364,
         "_deepnote_index_column": 1678
        },
        {
         "density": 1.56989127916425,
         "_deepnote_index_column": 1679
        },
        {
         "density": 1.7094733731499174,
         "_deepnote_index_column": 1680
        },
        {
         "density": 0.8099242134523208,
         "_deepnote_index_column": 1681
        },
        {
         "density": 2.5399602057844093,
         "_deepnote_index_column": 1682
        },
        {
         "density": 0.6068632191242948,
         "_deepnote_index_column": 1683
        },
        {
         "density": 2.738361712907196,
         "_deepnote_index_column": 1684
        },
        {
         "density": 1.895524195751934,
         "_deepnote_index_column": 1685
        },
        {
         "density": 1.6496650486438262,
         "_deepnote_index_column": 1686
        },
        {
         "density": 2.7229468298851156,
         "_deepnote_index_column": 1687
        },
        {
         "density": 1.2154277022438538,
         "_deepnote_index_column": 1688
        },
        {
         "density": 2.330457677176858,
         "_deepnote_index_column": 1689
        },
        {
         "density": 1.8969821305293435,
         "_deepnote_index_column": 1690
        },
        {
         "density": 1.6783689508299342,
         "_deepnote_index_column": 1691
        },
        {
         "density": 1.6171559755580152,
         "_deepnote_index_column": 1692
        },
        {
         "density": 1.519715715776426,
         "_deepnote_index_column": 1693
        },
        {
         "density": 2.124794759038079,
         "_deepnote_index_column": 1694
        },
        {
         "density": 2.3884340404408917,
         "_deepnote_index_column": 1695
        },
        {
         "density": 2.8418016450811856,
         "_deepnote_index_column": 1696
        },
        {
         "density": 1.8099375974282816,
         "_deepnote_index_column": 1697
        },
        {
         "density": 1.8433868082671878,
         "_deepnote_index_column": 1698
        },
        {
         "density": 1.0890817260800998,
         "_deepnote_index_column": 1699
        },
        {
         "density": 1.6267377221362778,
         "_deepnote_index_column": 1700
        },
        {
         "density": 0.6181784598415163,
         "_deepnote_index_column": 1701
        },
        {
         "density": 1.89267387548286,
         "_deepnote_index_column": 1702
        },
        {
         "density": 2.228593151580625,
         "_deepnote_index_column": 1703
        },
        {
         "density": 1.3349095535533786,
         "_deepnote_index_column": 1704
        },
        {
         "density": 1.173110161615067,
         "_deepnote_index_column": 1705
        },
        {
         "density": 2.173569190404509,
         "_deepnote_index_column": 1706
        },
        {
         "density": 1.3447728717647844,
         "_deepnote_index_column": 1707
        },
        {
         "density": 2.505479097473219,
         "_deepnote_index_column": 1708
        },
        {
         "density": 2.0128117793982283,
         "_deepnote_index_column": 1709
        },
        {
         "density": 1.500319222971543,
         "_deepnote_index_column": 1710
        },
        {
         "density": 2.5736566077696907,
         "_deepnote_index_column": 1711
        },
        {
         "density": 1.365642370173229,
         "_deepnote_index_column": 1712
        },
        {
         "density": 2.4005416736190788,
         "_deepnote_index_column": 1713
        },
        {
         "density": 1.4991826926053122,
         "_deepnote_index_column": 1714
        },
        {
         "density": 2.7635457866381166,
         "_deepnote_index_column": 1715
        },
        {
         "density": 2.2270362944463864,
         "_deepnote_index_column": 1716
        },
        {
         "density": 1.90672942908253,
         "_deepnote_index_column": 1717
        },
        {
         "density": 0.7488827756519882,
         "_deepnote_index_column": 1718
        },
        {
         "density": 1.9667955060525442,
         "_deepnote_index_column": 1719
        },
        {
         "density": 1.0763564864074655,
         "_deepnote_index_column": 1720
        },
        {
         "density": 2.375762402193673,
         "_deepnote_index_column": 1721
        },
        {
         "density": 2.273552360051547,
         "_deepnote_index_column": 1722
        },
        {
         "density": 2.7622750443286885,
         "_deepnote_index_column": 1723
        },
        {
         "density": 2.5744507218487915,
         "_deepnote_index_column": 1724
        },
        {
         "density": 1.7062238133112342,
         "_deepnote_index_column": 1725
        },
        {
         "density": 1.772360365995095,
         "_deepnote_index_column": 1726
        },
        {
         "density": 1.5985158583414836,
         "_deepnote_index_column": 1727
        },
        {
         "density": 5.212709037403423,
         "_deepnote_index_column": 1728
        },
        {
         "density": 3.544875984619559,
         "_deepnote_index_column": 1729
        },
        {
         "density": 1.5359915092710705,
         "_deepnote_index_column": 1730
        },
        {
         "density": 2.1576107565577107,
         "_deepnote_index_column": 1731
        },
        {
         "density": 2.6837216988464876,
         "_deepnote_index_column": 1732
        },
        {
         "density": 1.853899468786565,
         "_deepnote_index_column": 1733
        },
        {
         "density": 0.6811612281827519,
         "_deepnote_index_column": 1734
        },
        {
         "density": 2.451359286496969,
         "_deepnote_index_column": 1735
        },
        {
         "density": 2.8093237361104726,
         "_deepnote_index_column": 1736
        },
        {
         "density": 2.915364730099646,
         "_deepnote_index_column": 1737
        },
        {
         "density": 1.5825388250551335,
         "_deepnote_index_column": 1738
        },
        {
         "density": 2.045614610689265,
         "_deepnote_index_column": 1739
        },
        {
         "density": 2.004309945573125,
         "_deepnote_index_column": 1740
        },
        {
         "density": 2.5351050851510317,
         "_deepnote_index_column": 1741
        },
        {
         "density": 1.9721356486581705,
         "_deepnote_index_column": 1742
        },
        {
         "density": 1.3080142284152327,
         "_deepnote_index_column": 1743
        },
        {
         "density": 1.5383986664082017,
         "_deepnote_index_column": 1744
        },
        {
         "density": 2.5319609529632685,
         "_deepnote_index_column": 1745
        },
        {
         "density": 0.7803106155636221,
         "_deepnote_index_column": 1746
        },
        {
         "density": 1.104608843319655,
         "_deepnote_index_column": 1747
        },
        {
         "density": 2.655708735984631,
         "_deepnote_index_column": 1748
        },
        {
         "density": 4.4223282568954465,
         "_deepnote_index_column": 1749
        },
        {
         "density": 2.1911532723219285,
         "_deepnote_index_column": 1750
        },
        {
         "density": 3.841947547156533,
         "_deepnote_index_column": 1751
        },
        {
         "density": 1.4412183038343922,
         "_deepnote_index_column": 1752
        },
        {
         "density": 3.6032911849360874,
         "_deepnote_index_column": 1753
        },
        {
         "density": 1.3077912701347698,
         "_deepnote_index_column": 1754
        },
        {
         "density": 3.4419628662776143,
         "_deepnote_index_column": 1755
        },
        {
         "density": 2.6599093245707413,
         "_deepnote_index_column": 1756
        },
        {
         "density": 2.0095636943994615,
         "_deepnote_index_column": 1757
        },
        {
         "density": 2.6935816915888706,
         "_deepnote_index_column": 1758
        },
        {
         "density": 2.3440175787262616,
         "_deepnote_index_column": 1759
        },
        {
         "density": 1.5910805641301715,
         "_deepnote_index_column": 1760
        },
        {
         "density": 0.6033519733652987,
         "_deepnote_index_column": 1761
        },
        {
         "density": 0.8408632551049812,
         "_deepnote_index_column": 1762
        },
        {
         "density": 2.328007655171297,
         "_deepnote_index_column": 1763
        },
        {
         "density": 1.3543943204155,
         "_deepnote_index_column": 1764
        },
        {
         "density": 1.5591629399672144,
         "_deepnote_index_column": 1765
        },
        {
         "density": 2.9185162673188043,
         "_deepnote_index_column": 1766
        },
        {
         "density": 3.2648184450798183,
         "_deepnote_index_column": 1767
        },
        {
         "density": 3.1824413631678485,
         "_deepnote_index_column": 1768
        },
        {
         "density": 5.508028940622065,
         "_deepnote_index_column": 1769
        },
        {
         "density": 2.4878468926402855,
         "_deepnote_index_column": 1770
        },
        {
         "density": 1.9657622985982006,
         "_deepnote_index_column": 1771
        },
        {
         "density": 3.9984334340404324,
         "_deepnote_index_column": 1772
        },
        {
         "density": 2.1168873369945183,
         "_deepnote_index_column": 1773
        },
        {
         "density": 1.6113058013263086,
         "_deepnote_index_column": 1774
        },
        {
         "density": 3.3769404093854978,
         "_deepnote_index_column": 1775
        },
        {
         "density": 2.390863754601055,
         "_deepnote_index_column": 1776
        },
        {
         "density": 1.9253652369769405,
         "_deepnote_index_column": 1777
        },
        {
         "density": 5.021699637516971,
         "_deepnote_index_column": 1778
        },
        {
         "density": 5.261729154404605,
         "_deepnote_index_column": 1779
        },
        {
         "density": 1.7419673237724338,
         "_deepnote_index_column": 1780
        },
        {
         "density": 1.3678518200456007,
         "_deepnote_index_column": 1781
        },
        {
         "density": 2.8971404855175686,
         "_deepnote_index_column": 1782
        },
        {
         "density": 2.5792766344602547,
         "_deepnote_index_column": 1783
        },
        {
         "density": 0.9989491545514184,
         "_deepnote_index_column": 1784
        },
        {
         "density": 2.452963935182006,
         "_deepnote_index_column": 1785
        },
        {
         "density": 0.47109393663543553,
         "_deepnote_index_column": 1786
        },
        {
         "density": 0.8491363358031959,
         "_deepnote_index_column": 1787
        },
        {
         "density": 1.891900462826158,
         "_deepnote_index_column": 1788
        },
        {
         "density": 2.1369984572496556,
         "_deepnote_index_column": 1789
        },
        {
         "density": 2.4864359617240046,
         "_deepnote_index_column": 1790
        },
        {
         "density": 1.9527193458371477,
         "_deepnote_index_column": 1791
        },
        {
         "density": 2.5439256597491107,
         "_deepnote_index_column": 1792
        },
        {
         "density": 0.5184018521204125,
         "_deepnote_index_column": 1793
        },
        {
         "density": 3.171773737566494,
         "_deepnote_index_column": 1794
        },
        {
         "density": 3.390172010887633,
         "_deepnote_index_column": 1795
        },
        {
         "density": 1.7301805655209177,
         "_deepnote_index_column": 1796
        },
        {
         "density": 0.8007333222780432,
         "_deepnote_index_column": 1797
        },
        {
         "density": 1.8281398368557302,
         "_deepnote_index_column": 1798
        },
        {
         "density": 1.806595478617182,
         "_deepnote_index_column": 1799
        },
        {
         "density": 2.598843288931749,
         "_deepnote_index_column": 1800
        },
        {
         "density": 1.1786841051692725,
         "_deepnote_index_column": 1801
        },
        {
         "density": 0.9801877173745188,
         "_deepnote_index_column": 1802
        },
        {
         "density": 1.1522274986454422,
         "_deepnote_index_column": 1803
        },
        {
         "density": 1.4837315048917952,
         "_deepnote_index_column": 1804
        },
        {
         "density": 1.8042590821983686,
         "_deepnote_index_column": 1805
        },
        {
         "density": 2.521995771843495,
         "_deepnote_index_column": 1806
        },
        {
         "density": 2.5099115878977742,
         "_deepnote_index_column": 1807
        },
        {
         "density": 1.4228783440356951,
         "_deepnote_index_column": 1808
        },
        {
         "density": 1.4451668656976897,
         "_deepnote_index_column": 1809
        },
        {
         "density": 1.4704209432026307,
         "_deepnote_index_column": 1810
        },
        {
         "density": 2.193473252386319,
         "_deepnote_index_column": 1811
        },
        {
         "density": 3.2918491467745885,
         "_deepnote_index_column": 1812
        },
        {
         "density": 1.714033158394137,
         "_deepnote_index_column": 1813
        },
        {
         "density": 5.995398507197425,
         "_deepnote_index_column": 1814
        },
        {
         "density": 3.380604397807125,
         "_deepnote_index_column": 1815
        },
        {
         "density": 3.9763118147879437,
         "_deepnote_index_column": 1816
        },
        {
         "density": 3.094287470947398,
         "_deepnote_index_column": 1817
        },
        {
         "density": 1.0533489388355937,
         "_deepnote_index_column": 1818
        },
        {
         "density": 1.9305768447512277,
         "_deepnote_index_column": 1819
        },
        {
         "density": 1.6967062523817067,
         "_deepnote_index_column": 1820
        },
        {
         "density": 2.4106528647115044,
         "_deepnote_index_column": 1821
        },
        {
         "density": 0.7113052988569446,
         "_deepnote_index_column": 1822
        },
        {
         "density": 0.817895488324438,
         "_deepnote_index_column": 1823
        },
        {
         "density": 1.2128983057861011,
         "_deepnote_index_column": 1824
        },
        {
         "density": 1.1734313529624631,
         "_deepnote_index_column": 1825
        },
        {
         "density": 2.5212371410992893,
         "_deepnote_index_column": 1826
        },
        {
         "density": 2.2334752199425365,
         "_deepnote_index_column": 1827
        },
        {
         "density": 1.5019098910228459,
         "_deepnote_index_column": 1828
        },
        {
         "density": 3.02584619897539,
         "_deepnote_index_column": 1829
        },
        {
         "density": 1.57901390524825,
         "_deepnote_index_column": 1830
        },
        {
         "density": 0.6832704063065611,
         "_deepnote_index_column": 1831
        },
        {
         "density": 2.846819533777464,
         "_deepnote_index_column": 1832
        },
        {
         "density": 1.483365041871316,
         "_deepnote_index_column": 1833
        },
        {
         "density": 2.3045409204525087,
         "_deepnote_index_column": 1834
        },
        {
         "density": 1.8884183562679966,
         "_deepnote_index_column": 1835
        },
        {
         "density": 1.812886566677598,
         "_deepnote_index_column": 1836
        },
        {
         "density": 1.6288274167339354,
         "_deepnote_index_column": 1837
        },
        {
         "density": 4.165003787446011,
         "_deepnote_index_column": 1838
        },
        {
         "density": 1.849794809590879,
         "_deepnote_index_column": 1839
        },
        {
         "density": 3.0369355644984912,
         "_deepnote_index_column": 1840
        },
        {
         "density": 5.286650075905905,
         "_deepnote_index_column": 1841
        },
        {
         "density": 4.6924682609173445,
         "_deepnote_index_column": 1842
        },
        {
         "density": 2.528934679621649,
         "_deepnote_index_column": 1843
        },
        {
         "density": 1.6861598254629493,
         "_deepnote_index_column": 1844
        },
        {
         "density": 4.430795851167289,
         "_deepnote_index_column": 1845
        },
        {
         "density": 3.1645838157031023,
         "_deepnote_index_column": 1846
        },
        {
         "density": 2.716943098314132,
         "_deepnote_index_column": 1847
        },
        {
         "density": 1.2959346459274994,
         "_deepnote_index_column": 1848
        },
        {
         "density": 3.5752219736542683,
         "_deepnote_index_column": 1849
        },
        {
         "density": 1.8173900353108434,
         "_deepnote_index_column": 1850
        },
        {
         "density": 0.820301150398758,
         "_deepnote_index_column": 1851
        },
        {
         "density": 1.198081991486876,
         "_deepnote_index_column": 1852
        },
        {
         "density": 1.2732423579093635,
         "_deepnote_index_column": 1853
        },
        {
         "density": 1.3977190808596287,
         "_deepnote_index_column": 1854
        },
        {
         "density": 0.6633622329702984,
         "_deepnote_index_column": 1855
        },
        {
         "density": 2.555134950297164,
         "_deepnote_index_column": 1856
        },
        {
         "density": 1.940890492828074,
         "_deepnote_index_column": 1857
        },
        {
         "density": 1.1840797454545133,
         "_deepnote_index_column": 1858
        },
        {
         "density": 1.8931375494796874,
         "_deepnote_index_column": 1859
        },
        {
         "density": 1.086528231124262,
         "_deepnote_index_column": 1860
        },
        {
         "density": 1.8488884036545032,
         "_deepnote_index_column": 1861
        },
        {
         "density": 2.4185469428185047,
         "_deepnote_index_column": 1862
        },
        {
         "density": 1.222741505294927,
         "_deepnote_index_column": 1863
        },
        {
         "density": 1.2241421880418208,
         "_deepnote_index_column": 1864
        },
        {
         "density": 3.2396837003954295,
         "_deepnote_index_column": 1865
        },
        {
         "density": 1.973705897329743,
         "_deepnote_index_column": 1866
        },
        {
         "density": 2.465102495117157,
         "_deepnote_index_column": 1867
        },
        {
         "density": 3.590833487636453,
         "_deepnote_index_column": 1868
        },
        {
         "density": 2.079499808033758,
         "_deepnote_index_column": 1869
        },
        {
         "density": 3.321118001578853,
         "_deepnote_index_column": 1870
        },
        {
         "density": 2.27803523018475,
         "_deepnote_index_column": 1871
        },
        {
         "density": 1.7290359160704891,
         "_deepnote_index_column": 1872
        },
        {
         "density": 2.325242362430393,
         "_deepnote_index_column": 1873
        },
        {
         "density": 1.5399436753620268,
         "_deepnote_index_column": 1874
        },
        {
         "density": 1.0354727374024233,
         "_deepnote_index_column": 1875
        },
        {
         "density": 1.827701279915147,
         "_deepnote_index_column": 1876
        },
        {
         "density": 1.5454554990505718,
         "_deepnote_index_column": 1877
        },
        {
         "density": 3.18589183819817,
         "_deepnote_index_column": 1878
        },
        {
         "density": 2.2233789225042493,
         "_deepnote_index_column": 1879
        },
        {
         "density": 2.082424289874622,
         "_deepnote_index_column": 1880
        },
        {
         "density": 2.722443071314263,
         "_deepnote_index_column": 1881
        },
        {
         "density": 4.961000799511284,
         "_deepnote_index_column": 1882
        },
        {
         "density": 0.6405337467668036,
         "_deepnote_index_column": 1883
        },
        {
         "density": 1.5734515358814076,
         "_deepnote_index_column": 1884
        },
        {
         "density": 2.3044378217343566,
         "_deepnote_index_column": 1885
        },
        {
         "density": 1.9647821110149568,
         "_deepnote_index_column": 1886
        },
        {
         "density": 1.6315119012179968,
         "_deepnote_index_column": 1887
        },
        {
         "density": 1.910088065390484,
         "_deepnote_index_column": 1888
        },
        {
         "density": 2.995447997647363,
         "_deepnote_index_column": 1889
        },
        {
         "density": 2.4244226276157583,
         "_deepnote_index_column": 1890
        },
        {
         "density": 1.8038531755552858,
         "_deepnote_index_column": 1891
        },
        {
         "density": 2.1781530197581067,
         "_deepnote_index_column": 1892
        },
        {
         "density": 2.047418059284189,
         "_deepnote_index_column": 1893
        },
        {
         "density": 2.404564911839191,
         "_deepnote_index_column": 1894
        },
        {
         "density": 1.5423800931506326,
         "_deepnote_index_column": 1895
        },
        {
         "density": 1.6156879111668567,
         "_deepnote_index_column": 1896
        },
        {
         "density": 1.1665080221134745,
         "_deepnote_index_column": 1897
        },
        {
         "density": 0.8135222209716558,
         "_deepnote_index_column": 1898
        },
        {
         "density": 5.407671991763336,
         "_deepnote_index_column": 1899
        },
        {
         "density": 2.9189087841324763,
         "_deepnote_index_column": 1900
        },
        {
         "density": 2.318718630548546,
         "_deepnote_index_column": 1901
        },
        {
         "density": 3.872344103250293,
         "_deepnote_index_column": 1902
        },
        {
         "density": 0.6335207608104348,
         "_deepnote_index_column": 1903
        },
        {
         "density": 2.342642846716396,
         "_deepnote_index_column": 1904
        },
        {
         "density": 0.6536408051411633,
         "_deepnote_index_column": 1905
        },
        {
         "density": 3.7571604913527716,
         "_deepnote_index_column": 1906
        },
        {
         "density": 2.1824594337934884,
         "_deepnote_index_column": 1907
        },
        {
         "density": 0.7176980771862816,
         "_deepnote_index_column": 1908
        },
        {
         "density": 3.6568192078593187,
         "_deepnote_index_column": 1909
        },
        {
         "density": 1.2993932860792736,
         "_deepnote_index_column": 1910
        },
        {
         "density": 1.3196018563645227,
         "_deepnote_index_column": 1911
        },
        {
         "density": 1.0257314890477325,
         "_deepnote_index_column": 1912
        },
        {
         "density": 2.4865409729816053,
         "_deepnote_index_column": 1913
        },
        {
         "density": 2.951427357621876,
         "_deepnote_index_column": 1914
        },
        {
         "density": 1.2410420942773046,
         "_deepnote_index_column": 1915
        },
        {
         "density": 0.8265812653802335,
         "_deepnote_index_column": 1916
        },
        {
         "density": 2.6649235664487927,
         "_deepnote_index_column": 1917
        },
        {
         "density": 1.5718210320293116,
         "_deepnote_index_column": 1918
        },
        {
         "density": 1.7406019175833811,
         "_deepnote_index_column": 1919
        },
        {
         "density": 2.86709059593527,
         "_deepnote_index_column": 1920
        },
        {
         "density": 1.9663720105160647,
         "_deepnote_index_column": 1921
        },
        {
         "density": 2.690631691604532,
         "_deepnote_index_column": 1922
        },
        {
         "density": 0.8691312818125254,
         "_deepnote_index_column": 1923
        },
        {
         "density": 1.6132711165406872,
         "_deepnote_index_column": 1924
        },
        {
         "density": 2.6298942432082817,
         "_deepnote_index_column": 1925
        },
        {
         "density": 0.8271374790869851,
         "_deepnote_index_column": 1926
        },
        {
         "density": 2.10313473563976,
         "_deepnote_index_column": 1927
        },
        {
         "density": 1.1444684986467493,
         "_deepnote_index_column": 1928
        },
        {
         "density": 1.2194712159453116,
         "_deepnote_index_column": 1929
        },
        {
         "density": 3.1289976904300905,
         "_deepnote_index_column": 1930
        },
        {
         "density": 3.046619997199982,
         "_deepnote_index_column": 1931
        },
        {
         "density": 3.270924124732819,
         "_deepnote_index_column": 1932
        },
        {
         "density": 2.0277373644031296,
         "_deepnote_index_column": 1933
        },
        {
         "density": 1.9089685871642177,
         "_deepnote_index_column": 1934
        },
        {
         "density": 0.8562404679316882,
         "_deepnote_index_column": 1935
        },
        {
         "density": 2.665624238914341,
         "_deepnote_index_column": 1936
        },
        {
         "density": 2.8150546356638313,
         "_deepnote_index_column": 1937
        },
        {
         "density": 2.1361735845687826,
         "_deepnote_index_column": 1938
        },
        {
         "density": 1.8447586900003217,
         "_deepnote_index_column": 1939
        },
        {
         "density": 2.8482349278397407,
         "_deepnote_index_column": 1940
        },
        {
         "density": 1.5204282250837609,
         "_deepnote_index_column": 1941
        },
        {
         "density": 1.6552576088554765,
         "_deepnote_index_column": 1942
        },
        {
         "density": 2.853715434012988,
         "_deepnote_index_column": 1943
        },
        {
         "density": 1.5758490813747728,
         "_deepnote_index_column": 1944
        },
        {
         "density": 1.4945939743281087,
         "_deepnote_index_column": 1945
        },
        {
         "density": 3.6520015154463796,
         "_deepnote_index_column": 1946
        },
        {
         "density": 1.6852806315166746,
         "_deepnote_index_column": 1947
        },
        {
         "density": 2.6811955289741896,
         "_deepnote_index_column": 1948
        },
        {
         "density": 1.5628173384729158,
         "_deepnote_index_column": 1949
        },
        {
         "density": 1.3550381587934932,
         "_deepnote_index_column": 1950
        },
        {
         "density": 3.133627963222466,
         "_deepnote_index_column": 1951
        },
        {
         "density": 2.896175512114212,
         "_deepnote_index_column": 1952
        },
        {
         "density": 0.5527221112832953,
         "_deepnote_index_column": 1953
        },
        {
         "density": 2.0790002281169224,
         "_deepnote_index_column": 1954
        },
        {
         "density": 4.973248330758996,
         "_deepnote_index_column": 1955
        },
        {
         "density": 1.8950882576640529,
         "_deepnote_index_column": 1956
        },
        {
         "density": 1.3742379307423556,
         "_deepnote_index_column": 1957
        },
        {
         "density": 1.3966613803257655,
         "_deepnote_index_column": 1958
        },
        {
         "density": 2.8581364742910593,
         "_deepnote_index_column": 1959
        },
        {
         "density": 1.6330789426887449,
         "_deepnote_index_column": 1960
        },
        {
         "density": 0.9265246056587029,
         "_deepnote_index_column": 1961
        },
        {
         "density": 1.3532078075223217,
         "_deepnote_index_column": 1962
        },
        {
         "density": 5.3195558446427516,
         "_deepnote_index_column": 1963
        },
        {
         "density": 1.3333392368140724,
         "_deepnote_index_column": 1964
        },
        {
         "density": 2.884845495070816,
         "_deepnote_index_column": 1965
        },
        {
         "density": 3.0452325440246595,
         "_deepnote_index_column": 1966
        },
        {
         "density": 0.6306251665632291,
         "_deepnote_index_column": 1967
        },
        {
         "density": 1.4837108707267805,
         "_deepnote_index_column": 1968
        },
        {
         "density": 2.298046007002337,
         "_deepnote_index_column": 1969
        },
        {
         "density": 1.225844929326658,
         "_deepnote_index_column": 1970
        },
        {
         "density": 0.8022125883160773,
         "_deepnote_index_column": 1971
        },
        {
         "density": 1.1021183320718086,
         "_deepnote_index_column": 1972
        },
        {
         "density": 1.736143194102603,
         "_deepnote_index_column": 1973
        },
        {
         "density": 2.1943280049424634,
         "_deepnote_index_column": 1974
        },
        {
         "density": 3.994810000929802,
         "_deepnote_index_column": 1975
        },
        {
         "density": 3.003174931167312,
         "_deepnote_index_column": 1976
        },
        {
         "density": 4.107589837323352,
         "_deepnote_index_column": 1977
        },
        {
         "density": 0.46748283941525803,
         "_deepnote_index_column": 1978
        },
        {
         "density": 2.182167987389333,
         "_deepnote_index_column": 1979
        },
        {
         "density": 2.358746445607843,
         "_deepnote_index_column": 1980
        },
        {
         "density": 1.6726798462065644,
         "_deepnote_index_column": 1981
        },
        {
         "density": 2.2019941402629812,
         "_deepnote_index_column": 1982
        },
        {
         "density": 2.072436981531311,
         "_deepnote_index_column": 1983
        },
        {
         "density": 4.313933282587705,
         "_deepnote_index_column": 1984
        },
        {
         "density": 2.320612962865187,
         "_deepnote_index_column": 1985
        },
        {
         "density": 1.7126652649882153,
         "_deepnote_index_column": 1986
        },
        {
         "density": 2.5536289298162034,
         "_deepnote_index_column": 1987
        },
        {
         "density": 3.0909178721142245,
         "_deepnote_index_column": 1988
        },
        {
         "density": 1.469477245474598,
         "_deepnote_index_column": 1989
        },
        {
         "density": 2.9523481198295043,
         "_deepnote_index_column": 1990
        },
        {
         "density": 2.0789484283024917,
         "_deepnote_index_column": 1991
        },
        {
         "density": 2.375160057624075,
         "_deepnote_index_column": 1992
        },
        {
         "density": 0.6726092535900404,
         "_deepnote_index_column": 1993
        },
        {
         "density": 1.3727776784117216,
         "_deepnote_index_column": 1994
        },
        {
         "density": 2.2120301471313617,
         "_deepnote_index_column": 1995
        },
        {
         "density": 1.950456348631579,
         "_deepnote_index_column": 1996
        },
        {
         "density": 1.1402494966830112,
         "_deepnote_index_column": 1997
        },
        {
         "density": 2.262239182787281,
         "_deepnote_index_column": 1998
        },
        {
         "density": 3.9418062745392417,
         "_deepnote_index_column": 1999
        },
        {
         "density": 0.6838379590138149,
         "_deepnote_index_column": 2000
        }
       ]
      },
      "text/plain": "             density\nUnnamed: 0          \n1           1.666998\n2           1.214611\n3           1.141007\n4           1.543144\n5           0.660375\n...              ...\n1996        1.950456\n1997        1.140249\n1998        2.262239\n1999        3.941806\n2000        0.683838\n\n[2000 rows x 1 columns]",
      "text/html": "<div>\n<style scoped>\n    .dataframe tbody tr th:only-of-type {\n        vertical-align: middle;\n    }\n\n    .dataframe tbody tr th {\n        vertical-align: top;\n    }\n\n    .dataframe thead th {\n        text-align: right;\n    }\n</style>\n<table border=\"1\" class=\"dataframe\">\n  <thead>\n    <tr style=\"text-align: right;\">\n      <th></th>\n      <th>density</th>\n    </tr>\n    <tr>\n      <th>Unnamed: 0</th>\n      <th></th>\n    </tr>\n  </thead>\n  <tbody>\n    <tr>\n      <th>1</th>\n      <td>1.666998</td>\n    </tr>\n    <tr>\n      <th>2</th>\n      <td>1.214611</td>\n    </tr>\n    <tr>\n      <th>3</th>\n      <td>1.141007</td>\n    </tr>\n    <tr>\n      <th>4</th>\n      <td>1.543144</td>\n    </tr>\n    <tr>\n      <th>5</th>\n      <td>0.660375</td>\n    </tr>\n    <tr>\n      <th>...</th>\n      <td>...</td>\n    </tr>\n    <tr>\n      <th>1996</th>\n      <td>1.950456</td>\n    </tr>\n    <tr>\n      <th>1997</th>\n      <td>1.140249</td>\n    </tr>\n    <tr>\n      <th>1998</th>\n      <td>2.262239</td>\n    </tr>\n    <tr>\n      <th>1999</th>\n      <td>3.941806</td>\n    </tr>\n    <tr>\n      <th>2000</th>\n      <td>0.683838</td>\n    </tr>\n  </tbody>\n</table>\n<p>2000 rows × 1 columns</p>\n</div>"
     },
     "metadata": {}
    }
   ],
   "execution_count": null
  },
  {
   "cell_type": "code",
   "metadata": {
    "tags": [],
    "deepnote_to_be_reexecuted": false,
    "source_hash": "1eb937cb",
    "execution_start": 1632848116697,
    "execution_millis": 925,
    "cell_id": "00015-6e429b34-eee0-4f86-a9a5-dde1480edc52",
    "deepnote_cell_type": "code"
   },
   "source": "from xgboost import XGBRegressor\nfrom lightgbm import LGBMRegressor\nfrom sklearn.ensemble import (\n    VotingRegressor,\n    StackingRegressor,\n    RandomForestRegressor,\n    GradientBoostingRegressor\n)\nfrom sklearn.linear_model import Lasso",
   "outputs": [],
   "execution_count": null
  },
  {
   "cell_type": "code",
   "metadata": {
    "tags": [],
    "cell_id": "00016-ad0f0f9e-303a-4d35-8a23-27601d771380",
    "deepnote_to_be_reexecuted": false,
    "source_hash": "40a52b65",
    "execution_start": 1632848117623,
    "execution_millis": 0,
    "deepnote_cell_type": "code"
   },
   "source": "class RmseMetric(object):\n    def get_final_error(self, error, weight):\n        return np.sqrt(error / (weight + 1e-38))\n\n    def is_max_optimal(self):\n        return False\n\n    def evaluate(self, approxes, target, weight):\n        assert len(approxes) == 1\n        assert len(target) == len(approxes[0])\n\n        approx = approxes[0]\n\n        error_sum = 0.0\n        weight_sum = 0.0\n\n        for i in range(len(approx)):\n            w = 1.0 if weight is None else weight[i]\n            weight_sum += w\n            error_sum += w * ((approx[i] - target[i])**2)\n\n        return error_sum, weight_sum",
   "outputs": [],
   "execution_count": null
  },
  {
   "cell_type": "code",
   "metadata": {
    "tags": [],
    "deepnote_to_be_reexecuted": false,
    "source_hash": "68f04eca",
    "execution_start": 1632848117624,
    "execution_millis": 1138097,
    "cell_id": "00016-b225fe1a-1683-46f8-a4fe-f3736d25e4f4",
    "deepnote_cell_type": "code"
   },
   "source": "def log_mean_absolute_error(y_true, y_pred):\n    return np.log(mean_absolute_error(y_true, y_pred))\n\n\ndef fit_catboost(X, y):\n    catboost = CatBoostRegressor(\n        iterations=5000,\n        verbose=False,\n        # loss_function=\"MAE\"\n        # l2_leaf_reg=0.001\n    )\n    catboost.fit(X, y)\n    return catboost\n\n\ndef fit_xgboost(X, y):\n    reg = XGBRegressor()\n    reg.fit(X.values, y.values)\n    return reg\n\n\ndef fit_lightboost(X, y):\n    reg = LGBMRegressor()\n    reg.fit(X.values, y.values)\n    return reg\n\n\ndef fit_voting(X, y):\n    reg = VotingRegressor(\n        [\n            ('cat', CatBoostRegressor(\n                    iterations=5000,\n                    # iterations=500,\n                    grow_policy='Lossguide',\n                    verbose=False,\n                    # depth=14\n                    # l2_leaf_reg=0.001\n                )\n            ),\n            ('xgb', XGBRegressor(\n                    grow_policy='lossguide',\n                    # tree_method='exact'\n                    max_depth=14\n                    # max_depth=6\n                )\n            ),\n            (\n                'light', LGBMRegressor(\n                    num_iterations=5000\n                )\n            )\n            # ('gb', GradientBoostingRegressor())\n        ]\n    )\n    reg.fit(X.values, y.values)\n    return reg\n\n\nfit_models = [fit_voting]\n# kf = KFold(n_splits=5, shuffle=True, random_state=1234)\nkf = RepeatedKFold(n_splits=5, n_repeats=10, random_state=1234)\n# kf = RepeatedStratifiedKFold(n_splits=5, n_repeats=10, random_state=1234)\nfit_results = {}\nfor k, (train_index, test_index) in enumerate(kf.split(train.X)):\n    print(f\"K Fold: {k + 1}\")\n    print(\"TRAIN:\", train_index, \"TEST:\", test_index)\n    X_train, X_test = train.X.iloc[train_index], train.X.iloc[test_index]\n    y_train, y_test = train.y.iloc[train_index], train.y.iloc[test_index]\n    \n    for fit_model in fit_models:\n        model_name = '_'.join(fit_model.__name__.split('fit_')[1:])\n        model_result_path = f\"model_results/{model_name}\"\n        model_checkpoint = f\"model_results/{model_name}/fold_{k+1}.pickle\"\n        \n        if not os.path.exists(model_result_path):\n            os.makedirs(model_result_path)\n        if model_name not in fit_results:\n            fit_results[model_name] = []\n        if os.path.isfile(model_checkpoint):\n            print(\"Found trained model\")\n            # continue\n            with open(model_checkpoint, 'rb') as f:\n                try:\n                    model = pickle.load(f)\n                    print(\"Open successfully\")\n                except EOFError:\n                    print(\"Open error\")\n                    model = fit_model(X_train, y_train)\n                    with open(model_checkpoint, \"wb\") as f:\n                        pickle.dump(model, f)\n\n        else:\n            model = fit_model(X_train, y_train)\n            with open(model_checkpoint, \"wb\") as f:\n                pickle.dump(model, f)\n\n        train_pred = model.predict(X_train)\n        log_mean_error_train = log_mean_absolute_error(y_train, train_pred)\n\n        # model = fit_model(X_test, y_test)\n        test_pred = model.predict(X_test)\n        log_mean_error_test = log_mean_absolute_error(y_test, test_pred)\n\n        # test_pred = pd.DataFrame(\n        #     test_pred,\n        #     index= y_test.index,\n        #     columns=y_test.columns\n        # )\n        # error_sort = np.abs(y_test - test_pred).sort_values(TARGET, ascending=False)\n        \n\n        print(f\"Log mean error train: {log_mean_error_train}\")\n        print(f\"Log mean error test: {log_mean_error_test}\")\n        # print(error_sort.head(10))\n        \n        # with open(f\"model_results/{model_name}/fold_{k+1}.pickle\", \"wb\") as f:\n        #     pickle.dump(model, f)\n        \n        fit_results[model_name].append({\n            'model': model,\n            'log_mean_error_train': log_mean_error_train,\n            'log_mean_error_test': log_mean_error_test\n        })",
   "execution_count": null,
   "outputs": [
    {
     "name": "stdout",
     "text": "K Fold: 1\nTRAIN: [    1     2     3 ... 66712 66713 66714] TEST: [    0     4    13 ... 66699 66708 66711]\nFound trained model\nOpen successfully\nLog mean error train: 1.9021937648164438\nLog mean error test: 2.9507346569510866\nK Fold: 2\nTRAIN: [    0     1     2 ... 66711 66713 66714] TEST: [   18    24    30 ... 66700 66703 66712]\nFound trained model\nOpen successfully\nLog mean error train: 1.8900964142859384\nLog mean error test: 2.9585282582174584\nK Fold: 3\nTRAIN: [    0     1     3 ... 66712 66713 66714] TEST: [    2     8     9 ... 66689 66695 66710]\nFound trained model\nOpen successfully\nLog mean error train: 1.905114527954128\nLog mean error test: 2.961797079296942\nK Fold: 4\nTRAIN: [    0     2     3 ... 66711 66712 66713] TEST: [    1     5     6 ... 66705 66709 66714]\nFound trained model\nOpen successfully\nLog mean error train: 1.8933862340827703\nLog mean error test: 2.983269042431703\nK Fold: 5\nTRAIN: [    0     1     2 ... 66711 66712 66714] TEST: [    3    10    16 ... 66706 66707 66713]\nFound trained model\nOpen successfully\nLog mean error train: 1.893925732762971\nLog mean error test: 2.980691281746302\nK Fold: 6\nTRAIN: [    0     1     2 ... 66712 66713 66714] TEST: [    6     9    12 ... 66706 66708 66711]\nFound trained model\nOpen successfully\nLog mean error train: 1.9024605390344058\nLog mean error test: 2.951331204666472\nK Fold: 7\nTRAIN: [    0     1     2 ... 66712 66713 66714] TEST: [    3    11    13 ... 66707 66709 66710]\nFound trained model\nOpen successfully\nLog mean error train: 1.8863780253242444\nLog mean error test: 2.9724307162780352\nK Fold: 8\nTRAIN: [    0     1     2 ... 66712 66713 66714] TEST: [    4     5    23 ... 66684 66693 66701]\nFound trained model\nOpen successfully\nLog mean error train: 1.9071155161806588\nLog mean error test: 2.9613704477053333\nK Fold: 9\nTRAIN: [    1     2     3 ... 66710 66711 66712] TEST: [    0    40    43 ... 66700 66713 66714]\nFound trained model\nOpen successfully\nLog mean error train: 1.8956699036473375\nLog mean error test: 2.9731972670316593\nK Fold: 10\nTRAIN: [    0     3     4 ... 66711 66713 66714] TEST: [    1     2     7 ... 66703 66705 66712]\nFound trained model\nOpen successfully\nLog mean error train: 1.904239284105069\nLog mean error test: 2.9804849377978733\nK Fold: 11\nTRAIN: [    0     2     3 ... 66711 66712 66713] TEST: [    1     5    12 ... 66704 66710 66714]\nFound trained model\nOpen successfully\nLog mean error train: 1.8968382813014288\nLog mean error test: 2.9749177110460994\nK Fold: 12\nTRAIN: [    0     1     2 ... 66711 66712 66714] TEST: [   13    19    22 ... 66706 66709 66713]\nFound trained model\nOpen successfully\nLog mean error train: 1.9016029049372603\nLog mean error test: 2.972882426087286\nK Fold: 13\nTRAIN: [    0     1     3 ... 66712 66713 66714] TEST: [    2     8     9 ... 66691 66698 66708]\nFound trained model\nOpen successfully\nLog mean error train: 1.8996357235778327\nLog mean error test: 2.9559375473975122\nK Fold: 14\nTRAIN: [    1     2     3 ... 66710 66713 66714] TEST: [    0     4    11 ... 66707 66711 66712]\nFound trained model\nOpen successfully\nLog mean error train: 1.907015077682508\nLog mean error test: 2.952379793981686\nK Fold: 15\nTRAIN: [    0     1     2 ... 66712 66713 66714] TEST: [    3     6     7 ... 66693 66697 66703]\nFound trained model\nOpen successfully\nLog mean error train: 1.9002440880984892\nLog mean error test: 2.9735732387646423\nK Fold: 16\nTRAIN: [    0     1     2 ... 66711 66713 66714] TEST: [    8    18    23 ... 66704 66709 66712]\nFound trained model\nOpen successfully\nLog mean error train: 1.8934995142074096\nLog mean error test: 2.964722076552659\nK Fold: 17\nTRAIN: [    3     6     7 ... 66712 66713 66714] TEST: [    0     1     2 ... 66701 66705 66711]\nFound trained model\nOpen successfully\nLog mean error train: 1.8936419979352486\nLog mean error test: 2.9641759519079263\nK Fold: 18\nTRAIN: [    0     1     2 ... 66711 66712 66714] TEST: [    3     9    14 ... 66708 66710 66713]\nFound trained model\nOpen successfully\nLog mean error train: 1.8955680032239146\nLog mean error test: 2.9736493585379735\nK Fold: 19\nTRAIN: [    0     1     2 ... 66711 66712 66713] TEST: [    6     7    15 ... 66694 66697 66714]\nFound trained model\nOpen successfully\nLog mean error train: 1.899288101615423\nLog mean error test: 2.9649534822119032\nK Fold: 20\nTRAIN: [    0     1     2 ... 66712 66713 66714] TEST: [   11    12    21 ... 66690 66695 66703]\nFound trained model\nOpen successfully\nLog mean error train: 1.9041671543893999\nLog mean error test: 2.954247978470526\nK Fold: 21\nTRAIN: [    1     2     3 ... 66711 66713 66714] TEST: [    0     8    12 ... 66697 66710 66712]\nFound trained model\nOpen successfully\nLog mean error train: 1.90135458357279\nLog mean error test: 2.9663102722031893\nK Fold: 22\nTRAIN: [    0     1     3 ... 66711 66712 66714] TEST: [    2     5    11 ... 66702 66703 66713]\nFound trained model\nOpen successfully\nLog mean error train: 1.900806598826113\nLog mean error test: 2.9665713978367734\nK Fold: 23\nTRAIN: [    0     2     3 ... 66712 66713 66714] TEST: [    1     9    13 ... 66705 66709 66711]\nFound trained model\nOpen successfully\nLog mean error train: 1.8967613312468827\nLog mean error test: 2.972993786115816\nK Fold: 24\nTRAIN: [    0     1     2 ... 66711 66712 66713] TEST: [    4     6    10 ... 66706 66707 66714]\nFound trained model\nOpen successfully\nLog mean error train: 1.9050773795216647\nLog mean error test: 2.9638928005658185\nK Fold: 25\nTRAIN: [    0     1     2 ... 66712 66713 66714] TEST: [    3     7    14 ... 66698 66704 66708]\nFound trained model\nOpen successfully\nLog mean error train: 1.8996673213227422\nLog mean error test: 2.956106274453339\nK Fold: 26\nTRAIN: [    0     1     2 ... 66711 66713 66714] TEST: [   10    11    12 ... 66699 66710 66712]\nFound trained model\nOpen successfully\n",
     "output_type": "stream"
    },
    {
     "name": "stdout",
     "text": "Open successfully\nLog mean error train: 1.893863817889665\nLog mean error test: 2.971183437673779\nK Fold: 38\nTRAIN: [    0     1     2 ... 66712 66713 66714] TEST: [    8     9    12 ... 66698 66706 66707]\nFound trained model\nOpen successfully\nLog mean error train: 1.8939856999931377\nLog mean error test: 2.9626740849599043\nK Fold: 39\nTRAIN: [    0     2     3 ... 66710 66713 66714] TEST: [    1     7    14 ... 66708 66711 66712]\nFound trained model\nOpen successfully\nLog mean error train: 1.895794650514479\nLog mean error test: 2.9633059871897856\nK Fold: 40\nTRAIN: [    0     1     2 ... 66712 66713 66714] TEST: [    3     6    10 ... 66694 66702 66704]\nFound trained model\nOpen successfully\nLog mean error train: 1.9147390258482373\nLog mean error test: 2.956326006001331\nK Fold: 41\nTRAIN: [    0     3     4 ... 66711 66713 66714] TEST: [    1     2     8 ... 66705 66709 66712]\nFound trained model\nOpen successfully\nLog mean error train: 1.897929453986147\nLog mean error test: 2.9748385629168483\nK Fold: 42\nTRAIN: [    0     1     2 ... 66712 66713 66714] TEST: [    5     7    19 ... 66706 66707 66711]\nFound trained model\nOpen successfully\nLog mean error train: 1.9043715208543925\nLog mean error test: 2.9512804773929546\nK Fold: 43\nTRAIN: [    0     1     2 ... 66711 66712 66713] TEST: [    3     4     6 ... 66699 66700 66714]\nFound trained model\nOpen successfully\nLog mean error train: 1.9014719584131425\nLog mean error test: 2.9738002203181435\nK Fold: 44\nTRAIN: [    1     2     3 ... 66711 66712 66714] TEST: [    0    13    21 ... 66704 66710 66713]\nFound trained model\nOpen successfully\nLog mean error train: 1.9043336574659435\nLog mean error test: 2.970044196824949\nK Fold: 45\nTRAIN: [    0     1     2 ... 66712 66713 66714] TEST: [    9    11    12 ... 66691 66702 66708]\nFound trained model\nOpen successfully\nLog mean error train: 1.9089119781231716\nLog mean error test: 2.9521639642428767\nK Fold: 46\nTRAIN: [    2     3     4 ... 66712 66713 66714] TEST: [    0     1    11 ... 66686 66689 66690]\nFound trained model\nOpen successfully\nLog mean error train: 1.9035943897903822\nLog mean error test: 2.9612965509059404\nK Fold: 47\nTRAIN: [    0     1     2 ... 66708 66711 66713] TEST: [    5     6    15 ... 66710 66712 66714]\nFound trained model\nOpen successfully\nLog mean error train: 1.899157643095599\nLog mean error test: 2.9556601590887697\nK Fold: 48\nTRAIN: [    0     1     2 ... 66712 66713 66714] TEST: [   17    24    28 ... 66703 66708 66711]\nFound trained model\nOpen successfully\nLog mean error train: 1.904213484555396\nLog mean error test: 2.9753847866667638\nK Fold: 49\nTRAIN: [    0     1     2 ... 66712 66713 66714] TEST: [    9    10    20 ... 66705 66706 66707]\nFound trained model\nOpen successfully\nLog mean error train: 1.9039712059275244\nLog mean error test: 2.958109776938775\nK Fold: 50\nTRAIN: [    0     1     5 ... 66711 66712 66714] TEST: [    2     3     4 ... 66698 66700 66713]\nFound trained model\nOpen successfully\nLog mean error train: 1.8984533597398927\nLog mean error test: 2.9756654763934245\n",
     "output_type": "stream"
    }
   ]
  },
  {
   "cell_type": "code",
   "metadata": {
    "tags": [],
    "deepnote_to_be_reexecuted": false,
    "source_hash": "89e759e0",
    "execution_start": 1632848702085,
    "execution_millis": 87,
    "cell_id": "00017-5f39c6ba-3b5a-4edd-877b-0bbb37298906",
    "deepnote_cell_type": "code"
   },
   "source": "\"\"\"\nfuncgroup2num = {c: i for i, c in enumerate(train['functional_groups'].unique())}\ntopology2num = {c: i for i, c in enumerate(train['topology'].unique())}\nspacegroup2num = {c: i for i, c in enumerate(train['_space_group_crystal_system'].unique())}\n\ntrain['label_funcgroup'] = train['functional_groups'].map(funcgroup2num)\ntrain['label_topology'] = train['topology'].map(topology2num)\ntrain['label_spacegroup'] = train['_space_group_crystal_system'].map(spacegroup2num)\n\"\"\"",
   "outputs": [
    {
     "output_type": "execute_result",
     "execution_count": 38,
     "data": {
      "text/plain": "\"\\nfuncgroup2num = {c: i for i, c in enumerate(train['functional_groups'].unique())}\\ntopology2num = {c: i for i, c in enumerate(train['topology'].unique())}\\nspacegroup2num = {c: i for i, c in enumerate(train['_space_group_crystal_system'].unique())}\\n\\ntrain['label_funcgroup'] = train['functional_groups'].map(funcgroup2num)\\ntrain['label_topology'] = train['topology'].map(topology2num)\\ntrain['label_spacegroup'] = train['_space_group_crystal_system'].map(spacegroup2num)\\n\""
     },
     "metadata": {}
    }
   ],
   "execution_count": null
  },
  {
   "cell_type": "code",
   "metadata": {
    "tags": [],
    "deepnote_to_be_reexecuted": false,
    "source_hash": "faa084aa",
    "execution_start": 1632848702091,
    "execution_millis": 81,
    "cell_id": "00018-137cbdcb-9947-4aab-a568-44fa13d7d0b8",
    "deepnote_cell_type": "code"
   },
   "source": "# np.mean([score['log_mean_error_test'] for score in fit_results['voting']])\nnp.mean([score['log_mean_error_test'] for score in fit_results[model_name]])",
   "outputs": [
    {
     "output_type": "execute_result",
     "execution_count": 39,
     "data": {
      "text/plain": "2.9655183169011696"
     },
     "metadata": {}
    }
   ],
   "execution_count": null
  },
  {
   "cell_type": "code",
   "metadata": {
    "tags": [],
    "deepnote_to_be_reexecuted": false,
    "source_hash": "f7f82583",
    "execution_start": 1632848702092,
    "execution_millis": 80,
    "cell_id": "00019-fe4aef8a-5b37-410c-b307-423ab334577b",
    "deepnote_cell_type": "code"
   },
   "source": "np.std([score['log_mean_error_test'] for score in fit_results[model_name]])",
   "outputs": [
    {
     "output_type": "execute_result",
     "execution_count": 40,
     "data": {
      "text/plain": "0.008864185749900933"
     },
     "metadata": {}
    }
   ],
   "execution_count": null
  },
  {
   "cell_type": "code",
   "metadata": {
    "tags": [],
    "deepnote_to_be_reexecuted": false,
    "source_hash": "fc853f7e",
    "execution_start": 1632848702092,
    "execution_millis": 6,
    "cell_id": "00020-0749abf6-537b-4265-8f21-08a5c8f52afb",
    "deepnote_cell_type": "code"
   },
   "source": "test_pred = pd.DataFrame(test_pred, index= y_test.index, columns=y_test.columns)\nerror_sort = np.abs(y_test - test_pred).sort_values(TARGET, ascending=False)",
   "outputs": [],
   "execution_count": null
  },
  {
   "cell_type": "code",
   "metadata": {
    "tags": [],
    "deepnote_to_be_reexecuted": false,
    "source_hash": "b623e53d",
    "execution_start": 1632848702099,
    "execution_millis": 1,
    "cell_id": "00021-034aece8-e22a-4bfc-a89d-4716eb23ce8c",
    "deepnote_cell_type": "code"
   },
   "source": "",
   "outputs": [],
   "execution_count": null
  },
  {
   "cell_type": "code",
   "metadata": {
    "tags": [],
    "deepnote_to_be_reexecuted": false,
    "source_hash": "94998eda",
    "execution_start": 1632848702100,
    "execution_millis": 72,
    "cell_id": "00022-2297d14c-14fb-4527-9b9a-6cdef4766c91",
    "deepnote_cell_type": "code"
   },
   "source": "Train.loc[error_sort.index].head(500).mean()",
   "outputs": [
    {
     "output_type": "execute_result",
     "execution_count": 42,
     "data": {
      "text/plain": "volume [A^3]                                     2.283524e+03\nweight [u]                                       1.481036e+03\nsurface_area [m^2/g]                             6.624606e+02\nvoid_fraction                                    1.470475e-01\nvoid_volume [cm^3/g]                             1.470400e-01\nmetal_linker                                     4.954000e+00\norganic_linker1                                  1.049200e+01\norganic_linker2                                  1.898600e+01\nCO2/N2_selectivity                               5.049219e+01\nheat_adsorption_CO2_P0.15bar_T298K [kcal/mol]    7.419032e+00\n_symmetry_Int_Tables_number                      1.000000e+00\n_cell_length_a                                   1.436595e+01\n_cell_length_b                                   1.189161e+01\n_cell_length_c                                   1.505748e+01\n_cell_angle_alpha                                9.119279e+01\n_cell_angle_beta                                 9.194879e+01\n_cell_angle_gamma                                9.211422e+01\n_cell_volume                                     2.283524e+03\nmof_convex_hull_area                             3.813311e+00\nmof_convex_hull_volume                           6.036647e-01\nmof_convex_hull_npoints                          1.358300e+02\nmof_convex_hull_nsimplex                         6.378800e+01\npartial_charge_mean                              3.504316e-10\npartial_charge_median                            4.773491e-02\npartial_charge_std                               4.058946e-01\nbond_type_countS                                 9.231600e+01\nbond_type_countA                                 5.844200e+01\nbond_type_countD                                 3.536000e+00\nbond_type_countT                                 1.118000e+00\nbond_type_countAm                                0.000000e+00\nCO2_working_capacity [mL/g]                      2.522630e+02\nLMAE                                             8.845214e+01\nprediction                                       2.322013e+02\ndtype: float64"
     },
     "metadata": {}
    }
   ],
   "execution_count": null
  },
  {
   "cell_type": "code",
   "metadata": {
    "tags": [],
    "deepnote_to_be_reexecuted": false,
    "source_hash": "373521d2",
    "execution_start": 1632848702118,
    "execution_millis": 20,
    "cell_id": "00023-8f6d4db2-6e5f-4a0b-aaa1-e5be6d5f8cc7",
    "deepnote_cell_type": "code"
   },
   "source": "error_train = Train.loc[error_sort.index]\nTrain[\"LMAE\"] = error_sort.iloc[:, 0]\nTrain[\"prediction\"] = test_pred.iloc[:, 0]",
   "outputs": [],
   "execution_count": null
  },
  {
   "cell_type": "code",
   "metadata": {
    "tags": [],
    "deepnote_to_be_reexecuted": false,
    "source_hash": "d5dc3a80",
    "execution_start": 1632848702139,
    "execution_millis": 1202,
    "cell_id": "00024-a7e032b4-5b10-4995-b052-965f9ae0765e",
    "deepnote_cell_type": "code"
   },
   "source": "Train.loc[error_sort.index].to_csv(\"error_train.csv\")",
   "outputs": [],
   "execution_count": null
  },
  {
   "cell_type": "code",
   "metadata": {
    "tags": [],
    "deepnote_to_be_reexecuted": false,
    "source_hash": "acbdf18d",
    "execution_start": 1632848703345,
    "execution_millis": 67,
    "cell_id": "00025-3c472b3c-7ff9-4a33-97e0-82c97ef8a451",
    "deepnote_cell_type": "code"
   },
   "source": "Train.loc[error_sort.index].tail(500).mean()",
   "outputs": [
    {
     "output_type": "execute_result",
     "execution_count": 45,
     "data": {
      "text/plain": "volume [A^3]                                     6.261920e+03\nweight [u]                                       2.060874e+03\nsurface_area [m^2/g]                             2.704232e+03\nvoid_fraction                                    4.048140e-01\nvoid_volume [cm^3/g]                             7.856454e-01\nmetal_linker                                     3.482000e+00\norganic_linker1                                  1.106600e+01\norganic_linker2                                  2.043000e+01\nCO2/N2_selectivity                               1.704419e+01\nheat_adsorption_CO2_P0.15bar_T298K [kcal/mol]    4.881901e+00\n_symmetry_Int_Tables_number                      1.000000e+00\n_cell_length_a                                   1.697690e+01\n_cell_length_b                                   1.671859e+01\n_cell_length_c                                   1.838434e+01\n_cell_angle_alpha                                9.318542e+01\n_cell_angle_beta                                 9.477482e+01\n_cell_angle_gamma                                9.212377e+01\n_cell_volume                                     6.261920e+03\nmof_convex_hull_area                             3.418235e+00\nmof_convex_hull_volume                           5.164731e-01\nmof_convex_hull_npoints                          1.614240e+02\nmof_convex_hull_nsimplex                         6.398400e+01\npartial_charge_mean                              1.591615e-09\npartial_charge_median                            1.973940e-02\npartial_charge_std                               4.142433e-01\nbond_type_countS                                 1.098880e+02\nbond_type_countA                                 6.759600e+01\nbond_type_countD                                 4.674000e+00\nbond_type_countT                                 3.544000e+00\nbond_type_countAm                                5.600000e-02\nCO2_working_capacity [mL/g]                      6.100931e+01\nLMAE                                             3.148921e-01\nprediction                                       6.101596e+01\ndtype: float64"
     },
     "metadata": {}
    }
   ],
   "execution_count": null
  },
  {
   "cell_type": "code",
   "metadata": {
    "tags": [],
    "deepnote_to_be_reexecuted": false,
    "source_hash": "fe6523d9",
    "execution_start": 1632848703364,
    "execution_millis": 0,
    "cell_id": "00026-55442f10-18e7-4bfc-9ee5-8fe31b6fc572",
    "deepnote_cell_type": "code"
   },
   "source": "# train_prediction = .predict(X)",
   "outputs": [],
   "execution_count": null
  },
  {
   "cell_type": "code",
   "metadata": {
    "tags": [],
    "deepnote_to_be_reexecuted": false,
    "source_hash": "b0c387f5",
    "execution_start": 1632848703369,
    "execution_millis": 0,
    "cell_id": "00027-90629d1f-8160-447e-afe7-6ff2c6f5a2cd",
    "deepnote_cell_type": "code"
   },
   "source": "# np.log(mean_absolute_error(train_prediction, y))",
   "outputs": [],
   "execution_count": null
  },
  {
   "cell_type": "code",
   "metadata": {
    "tags": [],
    "deepnote_to_be_reexecuted": false,
    "source_hash": "fe1547a",
    "execution_start": 1632848703370,
    "execution_millis": 2,
    "cell_id": "00028-3aee8afc-a8be-4ac6-a9e3-02abd5926c6e",
    "deepnote_cell_type": "code"
   },
   "source": "# feature_importances = pd.DataFrame(catboost.feature_importances_)\n# feature_importances.index = Train.drop(TARGET, axis=1).columns",
   "outputs": [],
   "execution_count": null
  },
  {
   "cell_type": "code",
   "metadata": {
    "tags": [],
    "deepnote_to_be_reexecuted": false,
    "source_hash": "1898d942",
    "execution_start": 1632848703383,
    "execution_millis": 1,
    "cell_id": "00029-dd8965cd-c8d7-460d-880e-0a37fb6d2bca",
    "deepnote_cell_type": "code"
   },
   "source": "# feature_importances.sort_values(by=0, ascending=False)",
   "outputs": [],
   "execution_count": null
  },
  {
   "cell_type": "code",
   "metadata": {
    "tags": [],
    "deepnote_to_be_reexecuted": false,
    "source_hash": "ee960895",
    "execution_start": 1632848703385,
    "execution_millis": 0,
    "cell_id": "00030-b7b1cac3-9236-493a-985f-699bce96fb3a",
    "deepnote_cell_type": "code"
   },
   "source": "# feature_importances[0].nlargest(20).plot(kind='barh')",
   "outputs": [],
   "execution_count": null
  },
  {
   "cell_type": "code",
   "metadata": {
    "tags": [],
    "deepnote_to_be_reexecuted": false,
    "source_hash": "ac13f7e0",
    "execution_start": 1632848703386,
    "execution_millis": 7,
    "cell_id": "00031-3a312aa0-f97a-43f8-80b7-cdf7f9c43dc5",
    "deepnote_cell_type": "code"
   },
   "source": "# feature_importances[0].nlargest(20).index",
   "outputs": [],
   "execution_count": null
  },
  {
   "cell_type": "code",
   "metadata": {
    "tags": [],
    "deepnote_to_be_reexecuted": false,
    "source_hash": "9ebd45c",
    "execution_start": 1632848703394,
    "execution_millis": 7181,
    "cell_id": "00034-5d849375-913c-4a11-b708-ed18b79340b8",
    "deepnote_cell_type": "code"
   },
   "source": "sub = np.mean(\n    [model['model'].predict(test.X) for model in fit_results[model_name]],\n    axis=0\n)",
   "outputs": [],
   "execution_count": null
  },
  {
   "cell_type": "code",
   "metadata": {
    "tags": [],
    "deepnote_to_be_reexecuted": false,
    "source_hash": "edbc753e",
    "execution_start": 1632848710575,
    "execution_millis": 0,
    "cell_id": "00035-efd12b8f-5a51-4afe-9489-b048a6331c8c",
    "deepnote_cell_type": "code"
   },
   "source": "sub = pd.DataFrame(sub)",
   "outputs": [],
   "execution_count": null
  },
  {
   "cell_type": "code",
   "metadata": {
    "tags": [],
    "deepnote_to_be_reexecuted": false,
    "source_hash": "b867ab08",
    "execution_start": 1632848710576,
    "execution_millis": 0,
    "cell_id": "00036-1519f4e0-2aca-42cb-9f5f-3b76f404f2a8",
    "deepnote_cell_type": "code"
   },
   "source": "# Pretest = pd.read_csv(f\"{PREPROCESSING_PATH}/pretest_merged_CIF/Pretest.csv\")\n# Pretest = Pretest.set_index(Pretest.columns[0])\nsub.index = \"pretest_\" + pd.Index(range(1, sub.shape[0] + 1)).astype(str)\nsub.index = sub.index.set_names('id')\nsub.columns = ['CO2_working_capacity [mL/g]']",
   "outputs": [],
   "execution_count": null
  },
  {
   "cell_type": "code",
   "metadata": {
    "tags": [],
    "deepnote_to_be_reexecuted": false,
    "source_hash": "d977bc2a",
    "execution_start": 1632848710576,
    "execution_millis": 91,
    "cell_id": "00037-5322410f-62ba-413b-8c15-aa23362bdcea",
    "deepnote_cell_type": "code"
   },
   "source": "sub",
   "outputs": [
    {
     "output_type": "execute_result",
     "execution_count": 55,
     "data": {
      "application/vnd.deepnote.dataframe.v2+json": {
       "row_count": 2000,
       "column_count": 1,
       "columns": [
        {
         "name": "CO2_working_capacity [mL/g]",
         "dtype": "float64",
         "stats": {
          "unique_count": 2000,
          "nan_count": 0,
          "min": "-14.648741071715344",
          "max": "512.7811744319837",
          "histogram": [
           {
            "bin_start": -14.648741071715344,
            "bin_end": 38.09425047865456,
            "count": 490
           },
           {
            "bin_start": 38.09425047865456,
            "bin_end": 90.83724202902445,
            "count": 563
           },
           {
            "bin_start": 90.83724202902445,
            "bin_end": 143.58023357939436,
            "count": 439
           },
           {
            "bin_start": 143.58023357939436,
            "bin_end": 196.32322512976427,
            "count": 234
           },
           {
            "bin_start": 196.32322512976427,
            "bin_end": 249.06621668013418,
            "count": 128
           },
           {
            "bin_start": 249.06621668013418,
            "bin_end": 301.80920823050405,
            "count": 80
           },
           {
            "bin_start": 301.80920823050405,
            "bin_end": 354.552199780874,
            "count": 31
           },
           {
            "bin_start": 354.552199780874,
            "bin_end": 407.29519133124387,
            "count": 14
           },
           {
            "bin_start": 407.29519133124387,
            "bin_end": 460.03818288161375,
            "count": 16
           },
           {
            "bin_start": 460.03818288161375,
            "bin_end": 512.7811744319837,
            "count": 5
           }
          ]
         }
        },
        {
         "name": "_deepnote_index_column",
         "dtype": "object"
        }
       ],
       "rows_top": [
        {
         "CO2_working_capacity [mL/g]": 107.80295014194132,
         "_deepnote_index_column": "pretest_1"
        },
        {
         "CO2_working_capacity [mL/g]": 127.74971396342632,
         "_deepnote_index_column": "pretest_2"
        },
        {
         "CO2_working_capacity [mL/g]": 195.3259790285135,
         "_deepnote_index_column": "pretest_3"
        },
        {
         "CO2_working_capacity [mL/g]": 63.65362255584904,
         "_deepnote_index_column": "pretest_4"
        },
        {
         "CO2_working_capacity [mL/g]": 95.3635643794822,
         "_deepnote_index_column": "pretest_5"
        },
        {
         "CO2_working_capacity [mL/g]": 378.07343815690155,
         "_deepnote_index_column": "pretest_6"
        },
        {
         "CO2_working_capacity [mL/g]": 107.5432783518441,
         "_deepnote_index_column": "pretest_7"
        },
        {
         "CO2_working_capacity [mL/g]": 87.23333165063475,
         "_deepnote_index_column": "pretest_8"
        },
        {
         "CO2_working_capacity [mL/g]": 98.11339261018988,
         "_deepnote_index_column": "pretest_9"
        },
        {
         "CO2_working_capacity [mL/g]": 499.6166921286975,
         "_deepnote_index_column": "pretest_10"
        },
        {
         "CO2_working_capacity [mL/g]": 211.07073990972617,
         "_deepnote_index_column": "pretest_11"
        },
        {
         "CO2_working_capacity [mL/g]": 216.2578914962909,
         "_deepnote_index_column": "pretest_12"
        },
        {
         "CO2_working_capacity [mL/g]": 82.60192663002043,
         "_deepnote_index_column": "pretest_13"
        },
        {
         "CO2_working_capacity [mL/g]": 250.75242462649982,
         "_deepnote_index_column": "pretest_14"
        },
        {
         "CO2_working_capacity [mL/g]": 245.51533649320854,
         "_deepnote_index_column": "pretest_15"
        },
        {
         "CO2_working_capacity [mL/g]": 72.9974506169329,
         "_deepnote_index_column": "pretest_16"
        },
        {
         "CO2_working_capacity [mL/g]": 59.237575781868316,
         "_deepnote_index_column": "pretest_17"
        },
        {
         "CO2_working_capacity [mL/g]": 64.84796719808237,
         "_deepnote_index_column": "pretest_18"
        },
        {
         "CO2_working_capacity [mL/g]": 70.22213766021687,
         "_deepnote_index_column": "pretest_19"
        },
        {
         "CO2_working_capacity [mL/g]": 158.91779651688964,
         "_deepnote_index_column": "pretest_20"
        },
        {
         "CO2_working_capacity [mL/g]": 50.258008440522055,
         "_deepnote_index_column": "pretest_21"
        },
        {
         "CO2_working_capacity [mL/g]": 184.94572187384838,
         "_deepnote_index_column": "pretest_22"
        },
        {
         "CO2_working_capacity [mL/g]": 165.3848102356602,
         "_deepnote_index_column": "pretest_23"
        },
        {
         "CO2_working_capacity [mL/g]": 123.57979806837847,
         "_deepnote_index_column": "pretest_24"
        },
        {
         "CO2_working_capacity [mL/g]": 176.888239005203,
         "_deepnote_index_column": "pretest_25"
        },
        {
         "CO2_working_capacity [mL/g]": 209.63421777818272,
         "_deepnote_index_column": "pretest_26"
        },
        {
         "CO2_working_capacity [mL/g]": 78.97075818710469,
         "_deepnote_index_column": "pretest_27"
        },
        {
         "CO2_working_capacity [mL/g]": 99.60453558461795,
         "_deepnote_index_column": "pretest_28"
        },
        {
         "CO2_working_capacity [mL/g]": 63.02256137700968,
         "_deepnote_index_column": "pretest_29"
        },
        {
         "CO2_working_capacity [mL/g]": 143.73965114119332,
         "_deepnote_index_column": "pretest_30"
        },
        {
         "CO2_working_capacity [mL/g]": 159.33638625781813,
         "_deepnote_index_column": "pretest_31"
        },
        {
         "CO2_working_capacity [mL/g]": 70.81519211635391,
         "_deepnote_index_column": "pretest_32"
        },
        {
         "CO2_working_capacity [mL/g]": 108.97021984199176,
         "_deepnote_index_column": "pretest_33"
        },
        {
         "CO2_working_capacity [mL/g]": 70.15234517179061,
         "_deepnote_index_column": "pretest_34"
        },
        {
         "CO2_working_capacity [mL/g]": 110.09466535764079,
         "_deepnote_index_column": "pretest_35"
        },
        {
         "CO2_working_capacity [mL/g]": 93.27623044239863,
         "_deepnote_index_column": "pretest_36"
        },
        {
         "CO2_working_capacity [mL/g]": 84.88038627042805,
         "_deepnote_index_column": "pretest_37"
        },
        {
         "CO2_working_capacity [mL/g]": 64.01794258267483,
         "_deepnote_index_column": "pretest_38"
        },
        {
         "CO2_working_capacity [mL/g]": 107.86566693067074,
         "_deepnote_index_column": "pretest_39"
        },
        {
         "CO2_working_capacity [mL/g]": 119.17349613198766,
         "_deepnote_index_column": "pretest_40"
        },
        {
         "CO2_working_capacity [mL/g]": 94.09912037623424,
         "_deepnote_index_column": "pretest_41"
        },
        {
         "CO2_working_capacity [mL/g]": 268.1531217939005,
         "_deepnote_index_column": "pretest_42"
        },
        {
         "CO2_working_capacity [mL/g]": 77.70509004534983,
         "_deepnote_index_column": "pretest_43"
        },
        {
         "CO2_working_capacity [mL/g]": 196.0680880894722,
         "_deepnote_index_column": "pretest_44"
        },
        {
         "CO2_working_capacity [mL/g]": 159.19008376599834,
         "_deepnote_index_column": "pretest_45"
        },
        {
         "CO2_working_capacity [mL/g]": 129.16888961328115,
         "_deepnote_index_column": "pretest_46"
        },
        {
         "CO2_working_capacity [mL/g]": 80.82401623409676,
         "_deepnote_index_column": "pretest_47"
        },
        {
         "CO2_working_capacity [mL/g]": 152.23346226936363,
         "_deepnote_index_column": "pretest_48"
        },
        {
         "CO2_working_capacity [mL/g]": 173.89552735517006,
         "_deepnote_index_column": "pretest_49"
        },
        {
         "CO2_working_capacity [mL/g]": 53.730644787695354,
         "_deepnote_index_column": "pretest_50"
        },
        {
         "CO2_working_capacity [mL/g]": 123.50094477123866,
         "_deepnote_index_column": "pretest_51"
        },
        {
         "CO2_working_capacity [mL/g]": 89.18488522116996,
         "_deepnote_index_column": "pretest_52"
        },
        {
         "CO2_working_capacity [mL/g]": 79.24760277180256,
         "_deepnote_index_column": "pretest_53"
        },
        {
         "CO2_working_capacity [mL/g]": 160.63396864251342,
         "_deepnote_index_column": "pretest_54"
        },
        {
         "CO2_working_capacity [mL/g]": 110.61076289872503,
         "_deepnote_index_column": "pretest_55"
        },
        {
         "CO2_working_capacity [mL/g]": 65.17156525100572,
         "_deepnote_index_column": "pretest_56"
        },
        {
         "CO2_working_capacity [mL/g]": 69.72736280614309,
         "_deepnote_index_column": "pretest_57"
        },
        {
         "CO2_working_capacity [mL/g]": 105.8340474713847,
         "_deepnote_index_column": "pretest_58"
        },
        {
         "CO2_working_capacity [mL/g]": 191.43486649163978,
         "_deepnote_index_column": "pretest_59"
        },
        {
         "CO2_working_capacity [mL/g]": 94.09162129747581,
         "_deepnote_index_column": "pretest_60"
        },
        {
         "CO2_working_capacity [mL/g]": 298.0334633916038,
         "_deepnote_index_column": "pretest_61"
        },
        {
         "CO2_working_capacity [mL/g]": 88.94110916186054,
         "_deepnote_index_column": "pretest_62"
        },
        {
         "CO2_working_capacity [mL/g]": 77.81814325441313,
         "_deepnote_index_column": "pretest_63"
        },
        {
         "CO2_working_capacity [mL/g]": 135.85536115079182,
         "_deepnote_index_column": "pretest_64"
        },
        {
         "CO2_working_capacity [mL/g]": 83.28349194654805,
         "_deepnote_index_column": "pretest_65"
        },
        {
         "CO2_working_capacity [mL/g]": 146.76362001058118,
         "_deepnote_index_column": "pretest_66"
        },
        {
         "CO2_working_capacity [mL/g]": 132.13208055928627,
         "_deepnote_index_column": "pretest_67"
        },
        {
         "CO2_working_capacity [mL/g]": 155.7697915416683,
         "_deepnote_index_column": "pretest_68"
        },
        {
         "CO2_working_capacity [mL/g]": 211.17111068665065,
         "_deepnote_index_column": "pretest_69"
        },
        {
         "CO2_working_capacity [mL/g]": 83.65030227090469,
         "_deepnote_index_column": "pretest_70"
        },
        {
         "CO2_working_capacity [mL/g]": 312.88185931097854,
         "_deepnote_index_column": "pretest_71"
        },
        {
         "CO2_working_capacity [mL/g]": 208.92872367105593,
         "_deepnote_index_column": "pretest_72"
        },
        {
         "CO2_working_capacity [mL/g]": 65.84762707600478,
         "_deepnote_index_column": "pretest_73"
        },
        {
         "CO2_working_capacity [mL/g]": 194.89245623782858,
         "_deepnote_index_column": "pretest_74"
        },
        {
         "CO2_working_capacity [mL/g]": 227.3425624882661,
         "_deepnote_index_column": "pretest_75"
        },
        {
         "CO2_working_capacity [mL/g]": 160.1083517752781,
         "_deepnote_index_column": "pretest_76"
        },
        {
         "CO2_working_capacity [mL/g]": 186.81832493034324,
         "_deepnote_index_column": "pretest_77"
        },
        {
         "CO2_working_capacity [mL/g]": 107.89244062424412,
         "_deepnote_index_column": "pretest_78"
        },
        {
         "CO2_working_capacity [mL/g]": 86.80997151109426,
         "_deepnote_index_column": "pretest_79"
        },
        {
         "CO2_working_capacity [mL/g]": 110.67297987101445,
         "_deepnote_index_column": "pretest_80"
        },
        {
         "CO2_working_capacity [mL/g]": 102.96699287544949,
         "_deepnote_index_column": "pretest_81"
        },
        {
         "CO2_working_capacity [mL/g]": 175.06917487269675,
         "_deepnote_index_column": "pretest_82"
        },
        {
         "CO2_working_capacity [mL/g]": 85.76435622176896,
         "_deepnote_index_column": "pretest_83"
        },
        {
         "CO2_working_capacity [mL/g]": 249.55497496050893,
         "_deepnote_index_column": "pretest_84"
        },
        {
         "CO2_working_capacity [mL/g]": 76.97828395039751,
         "_deepnote_index_column": "pretest_85"
        },
        {
         "CO2_working_capacity [mL/g]": 67.87533000688303,
         "_deepnote_index_column": "pretest_86"
        },
        {
         "CO2_working_capacity [mL/g]": 107.1306789500021,
         "_deepnote_index_column": "pretest_87"
        },
        {
         "CO2_working_capacity [mL/g]": 130.2724064947094,
         "_deepnote_index_column": "pretest_88"
        },
        {
         "CO2_working_capacity [mL/g]": 94.34541114751177,
         "_deepnote_index_column": "pretest_89"
        },
        {
         "CO2_working_capacity [mL/g]": 210.31205515330225,
         "_deepnote_index_column": "pretest_90"
        },
        {
         "CO2_working_capacity [mL/g]": 96.23638357859609,
         "_deepnote_index_column": "pretest_91"
        },
        {
         "CO2_working_capacity [mL/g]": 194.2571688020245,
         "_deepnote_index_column": "pretest_92"
        },
        {
         "CO2_working_capacity [mL/g]": 118.98423755416798,
         "_deepnote_index_column": "pretest_93"
        },
        {
         "CO2_working_capacity [mL/g]": 189.55674972653048,
         "_deepnote_index_column": "pretest_94"
        },
        {
         "CO2_working_capacity [mL/g]": 76.33729697754777,
         "_deepnote_index_column": "pretest_95"
        },
        {
         "CO2_working_capacity [mL/g]": 175.98209367122462,
         "_deepnote_index_column": "pretest_96"
        },
        {
         "CO2_working_capacity [mL/g]": 64.8569695478269,
         "_deepnote_index_column": "pretest_97"
        },
        {
         "CO2_working_capacity [mL/g]": 87.12654596054364,
         "_deepnote_index_column": "pretest_98"
        },
        {
         "CO2_working_capacity [mL/g]": 188.52753535973525,
         "_deepnote_index_column": "pretest_99"
        },
        {
         "CO2_working_capacity [mL/g]": 70.1804405740236,
         "_deepnote_index_column": "pretest_100"
        },
        {
         "CO2_working_capacity [mL/g]": 74.05392201179517,
         "_deepnote_index_column": "pretest_101"
        },
        {
         "CO2_working_capacity [mL/g]": 101.62843943128424,
         "_deepnote_index_column": "pretest_102"
        },
        {
         "CO2_working_capacity [mL/g]": 97.94510599278178,
         "_deepnote_index_column": "pretest_103"
        },
        {
         "CO2_working_capacity [mL/g]": 118.96971442264942,
         "_deepnote_index_column": "pretest_104"
        },
        {
         "CO2_working_capacity [mL/g]": 73.20505764208137,
         "_deepnote_index_column": "pretest_105"
        },
        {
         "CO2_working_capacity [mL/g]": 103.6153469120407,
         "_deepnote_index_column": "pretest_106"
        },
        {
         "CO2_working_capacity [mL/g]": 94.97383508973354,
         "_deepnote_index_column": "pretest_107"
        },
        {
         "CO2_working_capacity [mL/g]": 220.73568432615693,
         "_deepnote_index_column": "pretest_108"
        },
        {
         "CO2_working_capacity [mL/g]": 69.75414005499242,
         "_deepnote_index_column": "pretest_109"
        },
        {
         "CO2_working_capacity [mL/g]": 86.76281702834095,
         "_deepnote_index_column": "pretest_110"
        },
        {
         "CO2_working_capacity [mL/g]": 86.66590956757513,
         "_deepnote_index_column": "pretest_111"
        },
        {
         "CO2_working_capacity [mL/g]": 170.63216526464805,
         "_deepnote_index_column": "pretest_112"
        },
        {
         "CO2_working_capacity [mL/g]": 228.504827451363,
         "_deepnote_index_column": "pretest_113"
        },
        {
         "CO2_working_capacity [mL/g]": 76.69654614524765,
         "_deepnote_index_column": "pretest_114"
        },
        {
         "CO2_working_capacity [mL/g]": 98.74544135080478,
         "_deepnote_index_column": "pretest_115"
        },
        {
         "CO2_working_capacity [mL/g]": 65.70104841966784,
         "_deepnote_index_column": "pretest_116"
        },
        {
         "CO2_working_capacity [mL/g]": 124.15756039333533,
         "_deepnote_index_column": "pretest_117"
        },
        {
         "CO2_working_capacity [mL/g]": 107.73362276703946,
         "_deepnote_index_column": "pretest_118"
        },
        {
         "CO2_working_capacity [mL/g]": 261.2829950729237,
         "_deepnote_index_column": "pretest_119"
        },
        {
         "CO2_working_capacity [mL/g]": 103.2939658047137,
         "_deepnote_index_column": "pretest_120"
        },
        {
         "CO2_working_capacity [mL/g]": 65.95932532933644,
         "_deepnote_index_column": "pretest_121"
        },
        {
         "CO2_working_capacity [mL/g]": 120.28525251242044,
         "_deepnote_index_column": "pretest_122"
        },
        {
         "CO2_working_capacity [mL/g]": 107.01889244541658,
         "_deepnote_index_column": "pretest_123"
        },
        {
         "CO2_working_capacity [mL/g]": 105.0509070085387,
         "_deepnote_index_column": "pretest_124"
        },
        {
         "CO2_working_capacity [mL/g]": 181.21465056229607,
         "_deepnote_index_column": "pretest_125"
        },
        {
         "CO2_working_capacity [mL/g]": 46.630964239407795,
         "_deepnote_index_column": "pretest_126"
        },
        {
         "CO2_working_capacity [mL/g]": 133.85048533847961,
         "_deepnote_index_column": "pretest_127"
        },
        {
         "CO2_working_capacity [mL/g]": 166.02070483421198,
         "_deepnote_index_column": "pretest_128"
        },
        {
         "CO2_working_capacity [mL/g]": 76.96419015715817,
         "_deepnote_index_column": "pretest_129"
        },
        {
         "CO2_working_capacity [mL/g]": 151.8508305552863,
         "_deepnote_index_column": "pretest_130"
        },
        {
         "CO2_working_capacity [mL/g]": 188.343082393068,
         "_deepnote_index_column": "pretest_131"
        },
        {
         "CO2_working_capacity [mL/g]": 62.05214217323826,
         "_deepnote_index_column": "pretest_132"
        },
        {
         "CO2_working_capacity [mL/g]": 279.6725355696295,
         "_deepnote_index_column": "pretest_133"
        },
        {
         "CO2_working_capacity [mL/g]": 84.91604184582204,
         "_deepnote_index_column": "pretest_134"
        },
        {
         "CO2_working_capacity [mL/g]": 221.44912683966285,
         "_deepnote_index_column": "pretest_135"
        },
        {
         "CO2_working_capacity [mL/g]": 242.61881120890723,
         "_deepnote_index_column": "pretest_136"
        },
        {
         "CO2_working_capacity [mL/g]": 232.1284879300943,
         "_deepnote_index_column": "pretest_137"
        },
        {
         "CO2_working_capacity [mL/g]": 135.1562514447213,
         "_deepnote_index_column": "pretest_138"
        },
        {
         "CO2_working_capacity [mL/g]": 88.67245501839723,
         "_deepnote_index_column": "pretest_139"
        },
        {
         "CO2_working_capacity [mL/g]": 64.38571063423994,
         "_deepnote_index_column": "pretest_140"
        },
        {
         "CO2_working_capacity [mL/g]": 125.65064019656616,
         "_deepnote_index_column": "pretest_141"
        },
        {
         "CO2_working_capacity [mL/g]": 63.63431458889633,
         "_deepnote_index_column": "pretest_142"
        },
        {
         "CO2_working_capacity [mL/g]": 77.52083480529575,
         "_deepnote_index_column": "pretest_143"
        },
        {
         "CO2_working_capacity [mL/g]": 80.5506982610329,
         "_deepnote_index_column": "pretest_144"
        },
        {
         "CO2_working_capacity [mL/g]": 62.89645316184169,
         "_deepnote_index_column": "pretest_145"
        },
        {
         "CO2_working_capacity [mL/g]": 85.21550813185935,
         "_deepnote_index_column": "pretest_146"
        },
        {
         "CO2_working_capacity [mL/g]": 89.49458768885006,
         "_deepnote_index_column": "pretest_147"
        },
        {
         "CO2_working_capacity [mL/g]": 186.91531424683254,
         "_deepnote_index_column": "pretest_148"
        },
        {
         "CO2_working_capacity [mL/g]": 140.41576974530324,
         "_deepnote_index_column": "pretest_149"
        },
        {
         "CO2_working_capacity [mL/g]": 134.20311136289155,
         "_deepnote_index_column": "pretest_150"
        },
        {
         "CO2_working_capacity [mL/g]": 79.10266581187516,
         "_deepnote_index_column": "pretest_151"
        },
        {
         "CO2_working_capacity [mL/g]": 158.45140200773983,
         "_deepnote_index_column": "pretest_152"
        },
        {
         "CO2_working_capacity [mL/g]": 94.51100288638261,
         "_deepnote_index_column": "pretest_153"
        },
        {
         "CO2_working_capacity [mL/g]": 77.52087145994815,
         "_deepnote_index_column": "pretest_154"
        },
        {
         "CO2_working_capacity [mL/g]": 457.3156135548697,
         "_deepnote_index_column": "pretest_155"
        },
        {
         "CO2_working_capacity [mL/g]": 252.14579511253382,
         "_deepnote_index_column": "pretest_156"
        },
        {
         "CO2_working_capacity [mL/g]": 66.44126891345726,
         "_deepnote_index_column": "pretest_157"
        },
        {
         "CO2_working_capacity [mL/g]": 149.0335036091905,
         "_deepnote_index_column": "pretest_158"
        },
        {
         "CO2_working_capacity [mL/g]": 106.38978087414182,
         "_deepnote_index_column": "pretest_159"
        },
        {
         "CO2_working_capacity [mL/g]": 204.46370743558518,
         "_deepnote_index_column": "pretest_160"
        },
        {
         "CO2_working_capacity [mL/g]": 147.84413896640206,
         "_deepnote_index_column": "pretest_161"
        },
        {
         "CO2_working_capacity [mL/g]": 99.23223917185368,
         "_deepnote_index_column": "pretest_162"
        },
        {
         "CO2_working_capacity [mL/g]": 97.43623298752046,
         "_deepnote_index_column": "pretest_163"
        },
        {
         "CO2_working_capacity [mL/g]": 110.45104795490516,
         "_deepnote_index_column": "pretest_164"
        },
        {
         "CO2_working_capacity [mL/g]": 115.51427087980277,
         "_deepnote_index_column": "pretest_165"
        },
        {
         "CO2_working_capacity [mL/g]": 257.09186586554483,
         "_deepnote_index_column": "pretest_166"
        },
        {
         "CO2_working_capacity [mL/g]": 337.5792132960189,
         "_deepnote_index_column": "pretest_167"
        },
        {
         "CO2_working_capacity [mL/g]": 239.78206680532466,
         "_deepnote_index_column": "pretest_168"
        },
        {
         "CO2_working_capacity [mL/g]": 75.61252225981887,
         "_deepnote_index_column": "pretest_169"
        },
        {
         "CO2_working_capacity [mL/g]": 266.2789990365409,
         "_deepnote_index_column": "pretest_170"
        },
        {
         "CO2_working_capacity [mL/g]": 189.4410622854174,
         "_deepnote_index_column": "pretest_171"
        },
        {
         "CO2_working_capacity [mL/g]": 107.96184199425088,
         "_deepnote_index_column": "pretest_172"
        },
        {
         "CO2_working_capacity [mL/g]": 96.67291314955123,
         "_deepnote_index_column": "pretest_173"
        },
        {
         "CO2_working_capacity [mL/g]": 134.62576139250928,
         "_deepnote_index_column": "pretest_174"
        },
        {
         "CO2_working_capacity [mL/g]": 192.80980227504665,
         "_deepnote_index_column": "pretest_175"
        },
        {
         "CO2_working_capacity [mL/g]": 117.52402038233248,
         "_deepnote_index_column": "pretest_176"
        },
        {
         "CO2_working_capacity [mL/g]": 83.46546387203257,
         "_deepnote_index_column": "pretest_177"
        },
        {
         "CO2_working_capacity [mL/g]": 57.711305816450306,
         "_deepnote_index_column": "pretest_178"
        },
        {
         "CO2_working_capacity [mL/g]": 140.86777849254483,
         "_deepnote_index_column": "pretest_179"
        },
        {
         "CO2_working_capacity [mL/g]": 84.37917854586827,
         "_deepnote_index_column": "pretest_180"
        },
        {
         "CO2_working_capacity [mL/g]": 77.95736387980337,
         "_deepnote_index_column": "pretest_181"
        },
        {
         "CO2_working_capacity [mL/g]": 59.174023479901756,
         "_deepnote_index_column": "pretest_182"
        },
        {
         "CO2_working_capacity [mL/g]": 103.39446022875,
         "_deepnote_index_column": "pretest_183"
        },
        {
         "CO2_working_capacity [mL/g]": 152.7253781151925,
         "_deepnote_index_column": "pretest_184"
        },
        {
         "CO2_working_capacity [mL/g]": 90.3879406747048,
         "_deepnote_index_column": "pretest_185"
        },
        {
         "CO2_working_capacity [mL/g]": 83.95320029095997,
         "_deepnote_index_column": "pretest_186"
        },
        {
         "CO2_working_capacity [mL/g]": 95.59450324342782,
         "_deepnote_index_column": "pretest_187"
        },
        {
         "CO2_working_capacity [mL/g]": 69.59058213293342,
         "_deepnote_index_column": "pretest_188"
        },
        {
         "CO2_working_capacity [mL/g]": 113.39964534076458,
         "_deepnote_index_column": "pretest_189"
        },
        {
         "CO2_working_capacity [mL/g]": 119.0494462534843,
         "_deepnote_index_column": "pretest_190"
        },
        {
         "CO2_working_capacity [mL/g]": 84.71478128979015,
         "_deepnote_index_column": "pretest_191"
        },
        {
         "CO2_working_capacity [mL/g]": 72.16507519225094,
         "_deepnote_index_column": "pretest_192"
        },
        {
         "CO2_working_capacity [mL/g]": 82.54166979235293,
         "_deepnote_index_column": "pretest_193"
        },
        {
         "CO2_working_capacity [mL/g]": 124.03042368304008,
         "_deepnote_index_column": "pretest_194"
        },
        {
         "CO2_working_capacity [mL/g]": 117.61442257351351,
         "_deepnote_index_column": "pretest_195"
        },
        {
         "CO2_working_capacity [mL/g]": 70.33753484748998,
         "_deepnote_index_column": "pretest_196"
        },
        {
         "CO2_working_capacity [mL/g]": 205.0791341567181,
         "_deepnote_index_column": "pretest_197"
        },
        {
         "CO2_working_capacity [mL/g]": 49.9500650103937,
         "_deepnote_index_column": "pretest_198"
        },
        {
         "CO2_working_capacity [mL/g]": 56.56538498393613,
         "_deepnote_index_column": "pretest_199"
        },
        {
         "CO2_working_capacity [mL/g]": 113.73538064723277,
         "_deepnote_index_column": "pretest_200"
        },
        {
         "CO2_working_capacity [mL/g]": 128.50930256741697,
         "_deepnote_index_column": "pretest_201"
        },
        {
         "CO2_working_capacity [mL/g]": 148.00082386675223,
         "_deepnote_index_column": "pretest_202"
        },
        {
         "CO2_working_capacity [mL/g]": 36.0607989846648,
         "_deepnote_index_column": "pretest_203"
        },
        {
         "CO2_working_capacity [mL/g]": 64.0908571644156,
         "_deepnote_index_column": "pretest_204"
        },
        {
         "CO2_working_capacity [mL/g]": 121.31481000090577,
         "_deepnote_index_column": "pretest_205"
        },
        {
         "CO2_working_capacity [mL/g]": 103.37338297036838,
         "_deepnote_index_column": "pretest_206"
        },
        {
         "CO2_working_capacity [mL/g]": 61.2384445994995,
         "_deepnote_index_column": "pretest_207"
        },
        {
         "CO2_working_capacity [mL/g]": 172.0389364192334,
         "_deepnote_index_column": "pretest_208"
        },
        {
         "CO2_working_capacity [mL/g]": 74.4775163050899,
         "_deepnote_index_column": "pretest_209"
        },
        {
         "CO2_working_capacity [mL/g]": 180.5833174845709,
         "_deepnote_index_column": "pretest_210"
        },
        {
         "CO2_working_capacity [mL/g]": 64.16451624095305,
         "_deepnote_index_column": "pretest_211"
        },
        {
         "CO2_working_capacity [mL/g]": 142.39368712609067,
         "_deepnote_index_column": "pretest_212"
        },
        {
         "CO2_working_capacity [mL/g]": 175.00207063331968,
         "_deepnote_index_column": "pretest_213"
        },
        {
         "CO2_working_capacity [mL/g]": 140.00765062460204,
         "_deepnote_index_column": "pretest_214"
        },
        {
         "CO2_working_capacity [mL/g]": 90.89593528385578,
         "_deepnote_index_column": "pretest_215"
        },
        {
         "CO2_working_capacity [mL/g]": 118.16156843237155,
         "_deepnote_index_column": "pretest_216"
        },
        {
         "CO2_working_capacity [mL/g]": 89.06066527948236,
         "_deepnote_index_column": "pretest_217"
        },
        {
         "CO2_working_capacity [mL/g]": 105.01919908649089,
         "_deepnote_index_column": "pretest_218"
        },
        {
         "CO2_working_capacity [mL/g]": 147.97014148924757,
         "_deepnote_index_column": "pretest_219"
        },
        {
         "CO2_working_capacity [mL/g]": 70.99104830180276,
         "_deepnote_index_column": "pretest_220"
        },
        {
         "CO2_working_capacity [mL/g]": 84.95850379208113,
         "_deepnote_index_column": "pretest_221"
        },
        {
         "CO2_working_capacity [mL/g]": 196.54389545679115,
         "_deepnote_index_column": "pretest_222"
        },
        {
         "CO2_working_capacity [mL/g]": 93.35105546769529,
         "_deepnote_index_column": "pretest_223"
        },
        {
         "CO2_working_capacity [mL/g]": 98.8416937711195,
         "_deepnote_index_column": "pretest_224"
        },
        {
         "CO2_working_capacity [mL/g]": 76.60140161821307,
         "_deepnote_index_column": "pretest_225"
        },
        {
         "CO2_working_capacity [mL/g]": 129.25592555772025,
         "_deepnote_index_column": "pretest_226"
        },
        {
         "CO2_working_capacity [mL/g]": 98.36905077621371,
         "_deepnote_index_column": "pretest_227"
        },
        {
         "CO2_working_capacity [mL/g]": 71.8123240943588,
         "_deepnote_index_column": "pretest_228"
        },
        {
         "CO2_working_capacity [mL/g]": 304.58451880645504,
         "_deepnote_index_column": "pretest_229"
        },
        {
         "CO2_working_capacity [mL/g]": 159.18410746327316,
         "_deepnote_index_column": "pretest_230"
        },
        {
         "CO2_working_capacity [mL/g]": 71.82753037156603,
         "_deepnote_index_column": "pretest_231"
        },
        {
         "CO2_working_capacity [mL/g]": 107.62517819214351,
         "_deepnote_index_column": "pretest_232"
        },
        {
         "CO2_working_capacity [mL/g]": 72.00575227748439,
         "_deepnote_index_column": "pretest_233"
        },
        {
         "CO2_working_capacity [mL/g]": 70.35575730252242,
         "_deepnote_index_column": "pretest_234"
        },
        {
         "CO2_working_capacity [mL/g]": 120.9778649404529,
         "_deepnote_index_column": "pretest_235"
        },
        {
         "CO2_working_capacity [mL/g]": 197.84507520826656,
         "_deepnote_index_column": "pretest_236"
        },
        {
         "CO2_working_capacity [mL/g]": 99.73242672133236,
         "_deepnote_index_column": "pretest_237"
        },
        {
         "CO2_working_capacity [mL/g]": 71.12799631520085,
         "_deepnote_index_column": "pretest_238"
        },
        {
         "CO2_working_capacity [mL/g]": 154.73856042035885,
         "_deepnote_index_column": "pretest_239"
        },
        {
         "CO2_working_capacity [mL/g]": 116.08024930464433,
         "_deepnote_index_column": "pretest_240"
        },
        {
         "CO2_working_capacity [mL/g]": 93.06125067112374,
         "_deepnote_index_column": "pretest_241"
        },
        {
         "CO2_working_capacity [mL/g]": 176.30194269183983,
         "_deepnote_index_column": "pretest_242"
        },
        {
         "CO2_working_capacity [mL/g]": 186.7472148103036,
         "_deepnote_index_column": "pretest_243"
        },
        {
         "CO2_working_capacity [mL/g]": 85.31355758274164,
         "_deepnote_index_column": "pretest_244"
        },
        {
         "CO2_working_capacity [mL/g]": 102.46589971716881,
         "_deepnote_index_column": "pretest_245"
        },
        {
         "CO2_working_capacity [mL/g]": 57.080893596903515,
         "_deepnote_index_column": "pretest_246"
        },
        {
         "CO2_working_capacity [mL/g]": 91.87570311278623,
         "_deepnote_index_column": "pretest_247"
        },
        {
         "CO2_working_capacity [mL/g]": 71.62598370193751,
         "_deepnote_index_column": "pretest_248"
        },
        {
         "CO2_working_capacity [mL/g]": 185.12197719940403,
         "_deepnote_index_column": "pretest_249"
        },
        {
         "CO2_working_capacity [mL/g]": 138.74201537755434,
         "_deepnote_index_column": "pretest_250"
        },
        {
         "CO2_working_capacity [mL/g]": 141.05536618578938,
         "_deepnote_index_column": "pretest_251"
        },
        {
         "CO2_working_capacity [mL/g]": 299.0650140391974,
         "_deepnote_index_column": "pretest_252"
        },
        {
         "CO2_working_capacity [mL/g]": 288.1792312298886,
         "_deepnote_index_column": "pretest_253"
        },
        {
         "CO2_working_capacity [mL/g]": 206.82346417090412,
         "_deepnote_index_column": "pretest_254"
        },
        {
         "CO2_working_capacity [mL/g]": 289.7444199593596,
         "_deepnote_index_column": "pretest_255"
        },
        {
         "CO2_working_capacity [mL/g]": 260.761393764117,
         "_deepnote_index_column": "pretest_256"
        },
        {
         "CO2_working_capacity [mL/g]": 146.89695227342557,
         "_deepnote_index_column": "pretest_257"
        },
        {
         "CO2_working_capacity [mL/g]": 146.3763905012224,
         "_deepnote_index_column": "pretest_258"
        },
        {
         "CO2_working_capacity [mL/g]": 435.7735791659556,
         "_deepnote_index_column": "pretest_259"
        },
        {
         "CO2_working_capacity [mL/g]": 195.19586789153735,
         "_deepnote_index_column": "pretest_260"
        },
        {
         "CO2_working_capacity [mL/g]": 73.59982690209827,
         "_deepnote_index_column": "pretest_261"
        },
        {
         "CO2_working_capacity [mL/g]": 80.83991273248733,
         "_deepnote_index_column": "pretest_262"
        },
        {
         "CO2_working_capacity [mL/g]": 181.47658745974047,
         "_deepnote_index_column": "pretest_263"
        },
        {
         "CO2_working_capacity [mL/g]": 118.4376098213423,
         "_deepnote_index_column": "pretest_264"
        },
        {
         "CO2_working_capacity [mL/g]": 180.54060682567123,
         "_deepnote_index_column": "pretest_265"
        },
        {
         "CO2_working_capacity [mL/g]": 101.90247769008853,
         "_deepnote_index_column": "pretest_266"
        },
        {
         "CO2_working_capacity [mL/g]": 251.53987607567805,
         "_deepnote_index_column": "pretest_267"
        },
        {
         "CO2_working_capacity [mL/g]": 71.82037604152387,
         "_deepnote_index_column": "pretest_268"
        },
        {
         "CO2_working_capacity [mL/g]": 61.567637312758954,
         "_deepnote_index_column": "pretest_269"
        },
        {
         "CO2_working_capacity [mL/g]": 118.72112970677303,
         "_deepnote_index_column": "pretest_270"
        },
        {
         "CO2_working_capacity [mL/g]": 111.35263566103032,
         "_deepnote_index_column": "pretest_271"
        },
        {
         "CO2_working_capacity [mL/g]": 108.37836640090774,
         "_deepnote_index_column": "pretest_272"
        },
        {
         "CO2_working_capacity [mL/g]": 102.26702765770689,
         "_deepnote_index_column": "pretest_273"
        },
        {
         "CO2_working_capacity [mL/g]": 65.67843551770255,
         "_deepnote_index_column": "pretest_274"
        },
        {
         "CO2_working_capacity [mL/g]": 78.04498596693189,
         "_deepnote_index_column": "pretest_275"
        },
        {
         "CO2_working_capacity [mL/g]": 127.10338626760036,
         "_deepnote_index_column": "pretest_276"
        },
        {
         "CO2_working_capacity [mL/g]": 75.09839726152853,
         "_deepnote_index_column": "pretest_277"
        },
        {
         "CO2_working_capacity [mL/g]": 153.41005392607147,
         "_deepnote_index_column": "pretest_278"
        },
        {
         "CO2_working_capacity [mL/g]": 233.0387183620455,
         "_deepnote_index_column": "pretest_279"
        },
        {
         "CO2_working_capacity [mL/g]": 95.83199331500913,
         "_deepnote_index_column": "pretest_280"
        },
        {
         "CO2_working_capacity [mL/g]": 441.7653708491674,
         "_deepnote_index_column": "pretest_281"
        },
        {
         "CO2_working_capacity [mL/g]": 153.8140496603851,
         "_deepnote_index_column": "pretest_282"
        },
        {
         "CO2_working_capacity [mL/g]": 186.1952036868372,
         "_deepnote_index_column": "pretest_283"
        },
        {
         "CO2_working_capacity [mL/g]": 110.11536508472051,
         "_deepnote_index_column": "pretest_284"
        },
        {
         "CO2_working_capacity [mL/g]": 94.85075157965542,
         "_deepnote_index_column": "pretest_285"
        },
        {
         "CO2_working_capacity [mL/g]": 79.32024100798482,
         "_deepnote_index_column": "pretest_286"
        },
        {
         "CO2_working_capacity [mL/g]": 156.5823064994339,
         "_deepnote_index_column": "pretest_287"
        },
        {
         "CO2_working_capacity [mL/g]": 49.54304240049882,
         "_deepnote_index_column": "pretest_288"
        },
        {
         "CO2_working_capacity [mL/g]": 141.78609836930244,
         "_deepnote_index_column": "pretest_289"
        },
        {
         "CO2_working_capacity [mL/g]": 195.46919891477862,
         "_deepnote_index_column": "pretest_290"
        },
        {
         "CO2_working_capacity [mL/g]": 183.1651439364432,
         "_deepnote_index_column": "pretest_291"
        },
        {
         "CO2_working_capacity [mL/g]": 185.29674206093915,
         "_deepnote_index_column": "pretest_292"
        },
        {
         "CO2_working_capacity [mL/g]": 90.34554579320394,
         "_deepnote_index_column": "pretest_293"
        },
        {
         "CO2_working_capacity [mL/g]": 267.32624000863166,
         "_deepnote_index_column": "pretest_294"
        },
        {
         "CO2_working_capacity [mL/g]": 62.71560673491033,
         "_deepnote_index_column": "pretest_295"
        },
        {
         "CO2_working_capacity [mL/g]": 343.52196100250563,
         "_deepnote_index_column": "pretest_296"
        },
        {
         "CO2_working_capacity [mL/g]": 66.39043473281589,
         "_deepnote_index_column": "pretest_297"
        },
        {
         "CO2_working_capacity [mL/g]": 158.18866528519422,
         "_deepnote_index_column": "pretest_298"
        },
        {
         "CO2_working_capacity [mL/g]": 210.23171953714754,
         "_deepnote_index_column": "pretest_299"
        },
        {
         "CO2_working_capacity [mL/g]": 56.007753914662665,
         "_deepnote_index_column": "pretest_300"
        },
        {
         "CO2_working_capacity [mL/g]": 165.38548230945915,
         "_deepnote_index_column": "pretest_301"
        },
        {
         "CO2_working_capacity [mL/g]": 113.26501061389531,
         "_deepnote_index_column": "pretest_302"
        },
        {
         "CO2_working_capacity [mL/g]": 76.83214773372329,
         "_deepnote_index_column": "pretest_303"
        },
        {
         "CO2_working_capacity [mL/g]": 306.87694666199883,
         "_deepnote_index_column": "pretest_304"
        },
        {
         "CO2_working_capacity [mL/g]": 115.22317156007038,
         "_deepnote_index_column": "pretest_305"
        },
        {
         "CO2_working_capacity [mL/g]": 232.6599403039633,
         "_deepnote_index_column": "pretest_306"
        },
        {
         "CO2_working_capacity [mL/g]": 50.18489113347934,
         "_deepnote_index_column": "pretest_307"
        },
        {
         "CO2_working_capacity [mL/g]": 121.59740482728144,
         "_deepnote_index_column": "pretest_308"
        },
        {
         "CO2_working_capacity [mL/g]": 160.81919545836755,
         "_deepnote_index_column": "pretest_309"
        },
        {
         "CO2_working_capacity [mL/g]": 114.08803755825785,
         "_deepnote_index_column": "pretest_310"
        },
        {
         "CO2_working_capacity [mL/g]": 113.90443520112039,
         "_deepnote_index_column": "pretest_311"
        },
        {
         "CO2_working_capacity [mL/g]": 59.925246937939555,
         "_deepnote_index_column": "pretest_312"
        },
        {
         "CO2_working_capacity [mL/g]": 110.99035563354721,
         "_deepnote_index_column": "pretest_313"
        },
        {
         "CO2_working_capacity [mL/g]": 76.35384971944282,
         "_deepnote_index_column": "pretest_314"
        },
        {
         "CO2_working_capacity [mL/g]": 189.178235696788,
         "_deepnote_index_column": "pretest_315"
        },
        {
         "CO2_working_capacity [mL/g]": 124.09188012811585,
         "_deepnote_index_column": "pretest_316"
        },
        {
         "CO2_working_capacity [mL/g]": 93.65703491223249,
         "_deepnote_index_column": "pretest_317"
        },
        {
         "CO2_working_capacity [mL/g]": 85.57378620083017,
         "_deepnote_index_column": "pretest_318"
        },
        {
         "CO2_working_capacity [mL/g]": 83.91989468022119,
         "_deepnote_index_column": "pretest_319"
        },
        {
         "CO2_working_capacity [mL/g]": 155.5759755812698,
         "_deepnote_index_column": "pretest_320"
        },
        {
         "CO2_working_capacity [mL/g]": 131.3455444058269,
         "_deepnote_index_column": "pretest_321"
        },
        {
         "CO2_working_capacity [mL/g]": 109.16135503572353,
         "_deepnote_index_column": "pretest_322"
        },
        {
         "CO2_working_capacity [mL/g]": 157.75231959884545,
         "_deepnote_index_column": "pretest_323"
        },
        {
         "CO2_working_capacity [mL/g]": 77.63529072376349,
         "_deepnote_index_column": "pretest_324"
        },
        {
         "CO2_working_capacity [mL/g]": 120.0480114580811,
         "_deepnote_index_column": "pretest_325"
        },
        {
         "CO2_working_capacity [mL/g]": 159.104395870776,
         "_deepnote_index_column": "pretest_326"
        },
        {
         "CO2_working_capacity [mL/g]": 119.90914174266904,
         "_deepnote_index_column": "pretest_327"
        },
        {
         "CO2_working_capacity [mL/g]": 64.60829445674425,
         "_deepnote_index_column": "pretest_328"
        },
        {
         "CO2_working_capacity [mL/g]": 79.99592886400268,
         "_deepnote_index_column": "pretest_329"
        },
        {
         "CO2_working_capacity [mL/g]": 62.075727208279076,
         "_deepnote_index_column": "pretest_330"
        },
        {
         "CO2_working_capacity [mL/g]": 206.10694200392237,
         "_deepnote_index_column": "pretest_331"
        },
        {
         "CO2_working_capacity [mL/g]": 118.13959691546957,
         "_deepnote_index_column": "pretest_332"
        },
        {
         "CO2_working_capacity [mL/g]": 111.01876645171953,
         "_deepnote_index_column": "pretest_333"
        },
        {
         "CO2_working_capacity [mL/g]": 75.00096157267598,
         "_deepnote_index_column": "pretest_334"
        },
        {
         "CO2_working_capacity [mL/g]": 93.33366926015904,
         "_deepnote_index_column": "pretest_335"
        },
        {
         "CO2_working_capacity [mL/g]": 127.93694023695934,
         "_deepnote_index_column": "pretest_336"
        },
        {
         "CO2_working_capacity [mL/g]": 107.34949484079763,
         "_deepnote_index_column": "pretest_337"
        },
        {
         "CO2_working_capacity [mL/g]": 211.34158513526586,
         "_deepnote_index_column": "pretest_338"
        },
        {
         "CO2_working_capacity [mL/g]": 418.562924423622,
         "_deepnote_index_column": "pretest_339"
        },
        {
         "CO2_working_capacity [mL/g]": 178.67883433779653,
         "_deepnote_index_column": "pretest_340"
        },
        {
         "CO2_working_capacity [mL/g]": 72.4831096250066,
         "_deepnote_index_column": "pretest_341"
        },
        {
         "CO2_working_capacity [mL/g]": 79.43571293797994,
         "_deepnote_index_column": "pretest_342"
        },
        {
         "CO2_working_capacity [mL/g]": 125.45529687820235,
         "_deepnote_index_column": "pretest_343"
        },
        {
         "CO2_working_capacity [mL/g]": 162.65997909191515,
         "_deepnote_index_column": "pretest_344"
        },
        {
         "CO2_working_capacity [mL/g]": 428.0301942918059,
         "_deepnote_index_column": "pretest_345"
        },
        {
         "CO2_working_capacity [mL/g]": 152.6084967872557,
         "_deepnote_index_column": "pretest_346"
        },
        {
         "CO2_working_capacity [mL/g]": 221.6760784508073,
         "_deepnote_index_column": "pretest_347"
        },
        {
         "CO2_working_capacity [mL/g]": 295.6520755819595,
         "_deepnote_index_column": "pretest_348"
        },
        {
         "CO2_working_capacity [mL/g]": 77.29294203474001,
         "_deepnote_index_column": "pretest_349"
        },
        {
         "CO2_working_capacity [mL/g]": 244.41712327478538,
         "_deepnote_index_column": "pretest_350"
        },
        {
         "CO2_working_capacity [mL/g]": 88.10981579440224,
         "_deepnote_index_column": "pretest_351"
        },
        {
         "CO2_working_capacity [mL/g]": 68.59495516730355,
         "_deepnote_index_column": "pretest_352"
        },
        {
         "CO2_working_capacity [mL/g]": 94.06379509345555,
         "_deepnote_index_column": "pretest_353"
        },
        {
         "CO2_working_capacity [mL/g]": 93.95271859470458,
         "_deepnote_index_column": "pretest_354"
        },
        {
         "CO2_working_capacity [mL/g]": 62.06477329927683,
         "_deepnote_index_column": "pretest_355"
        },
        {
         "CO2_working_capacity [mL/g]": 149.25072720133593,
         "_deepnote_index_column": "pretest_356"
        },
        {
         "CO2_working_capacity [mL/g]": 170.64276705862736,
         "_deepnote_index_column": "pretest_357"
        },
        {
         "CO2_working_capacity [mL/g]": 79.33018221363702,
         "_deepnote_index_column": "pretest_358"
        },
        {
         "CO2_working_capacity [mL/g]": 74.31537235534017,
         "_deepnote_index_column": "pretest_359"
        },
        {
         "CO2_working_capacity [mL/g]": 512.7811744319837,
         "_deepnote_index_column": "pretest_360"
        },
        {
         "CO2_working_capacity [mL/g]": 97.41405799868771,
         "_deepnote_index_column": "pretest_361"
        },
        {
         "CO2_working_capacity [mL/g]": 64.35569313921116,
         "_deepnote_index_column": "pretest_362"
        },
        {
         "CO2_working_capacity [mL/g]": 254.74542321954982,
         "_deepnote_index_column": "pretest_363"
        },
        {
         "CO2_working_capacity [mL/g]": 79.90082614704916,
         "_deepnote_index_column": "pretest_364"
        },
        {
         "CO2_working_capacity [mL/g]": 94.9189720838082,
         "_deepnote_index_column": "pretest_365"
        },
        {
         "CO2_working_capacity [mL/g]": 190.86337461993168,
         "_deepnote_index_column": "pretest_366"
        },
        {
         "CO2_working_capacity [mL/g]": 450.357761343696,
         "_deepnote_index_column": "pretest_367"
        },
        {
         "CO2_working_capacity [mL/g]": 253.39847991236925,
         "_deepnote_index_column": "pretest_368"
        },
        {
         "CO2_working_capacity [mL/g]": 76.2570787298071,
         "_deepnote_index_column": "pretest_369"
        },
        {
         "CO2_working_capacity [mL/g]": 313.8257891606458,
         "_deepnote_index_column": "pretest_370"
        },
        {
         "CO2_working_capacity [mL/g]": 171.12004922260266,
         "_deepnote_index_column": "pretest_371"
        },
        {
         "CO2_working_capacity [mL/g]": 117.3792336828941,
         "_deepnote_index_column": "pretest_372"
        },
        {
         "CO2_working_capacity [mL/g]": 267.6566400853732,
         "_deepnote_index_column": "pretest_373"
        },
        {
         "CO2_working_capacity [mL/g]": 97.2271603626131,
         "_deepnote_index_column": "pretest_374"
        },
        {
         "CO2_working_capacity [mL/g]": 58.6148273954323,
         "_deepnote_index_column": "pretest_375"
        },
        {
         "CO2_working_capacity [mL/g]": 91.52320559280723,
         "_deepnote_index_column": "pretest_376"
        },
        {
         "CO2_working_capacity [mL/g]": 152.4228709569875,
         "_deepnote_index_column": "pretest_377"
        },
        {
         "CO2_working_capacity [mL/g]": 276.09935191941696,
         "_deepnote_index_column": "pretest_378"
        },
        {
         "CO2_working_capacity [mL/g]": 59.637304215803326,
         "_deepnote_index_column": "pretest_379"
        },
        {
         "CO2_working_capacity [mL/g]": 157.19151562576752,
         "_deepnote_index_column": "pretest_380"
        },
        {
         "CO2_working_capacity [mL/g]": 49.12717506789921,
         "_deepnote_index_column": "pretest_381"
        },
        {
         "CO2_working_capacity [mL/g]": 270.8402519246038,
         "_deepnote_index_column": "pretest_382"
        },
        {
         "CO2_working_capacity [mL/g]": 359.44519564644435,
         "_deepnote_index_column": "pretest_383"
        },
        {
         "CO2_working_capacity [mL/g]": 99.90679262260086,
         "_deepnote_index_column": "pretest_384"
        },
        {
         "CO2_working_capacity [mL/g]": 82.10746578206876,
         "_deepnote_index_column": "pretest_385"
        },
        {
         "CO2_working_capacity [mL/g]": 68.24929728020018,
         "_deepnote_index_column": "pretest_386"
        },
        {
         "CO2_working_capacity [mL/g]": 188.0879192904313,
         "_deepnote_index_column": "pretest_387"
        },
        {
         "CO2_working_capacity [mL/g]": 165.48474537136698,
         "_deepnote_index_column": "pretest_388"
        },
        {
         "CO2_working_capacity [mL/g]": 194.4022916755265,
         "_deepnote_index_column": "pretest_389"
        },
        {
         "CO2_working_capacity [mL/g]": 104.45898046428916,
         "_deepnote_index_column": "pretest_390"
        },
        {
         "CO2_working_capacity [mL/g]": 71.01578996823856,
         "_deepnote_index_column": "pretest_391"
        },
        {
         "CO2_working_capacity [mL/g]": 84.1450544340381,
         "_deepnote_index_column": "pretest_392"
        },
        {
         "CO2_working_capacity [mL/g]": 220.35945501244336,
         "_deepnote_index_column": "pretest_393"
        },
        {
         "CO2_working_capacity [mL/g]": 209.4305012679239,
         "_deepnote_index_column": "pretest_394"
        },
        {
         "CO2_working_capacity [mL/g]": 253.37372888338265,
         "_deepnote_index_column": "pretest_395"
        },
        {
         "CO2_working_capacity [mL/g]": 92.52344244758237,
         "_deepnote_index_column": "pretest_396"
        },
        {
         "CO2_working_capacity [mL/g]": 104.5027685386474,
         "_deepnote_index_column": "pretest_397"
        },
        {
         "CO2_working_capacity [mL/g]": 218.4469703163678,
         "_deepnote_index_column": "pretest_398"
        },
        {
         "CO2_working_capacity [mL/g]": 97.16746942852454,
         "_deepnote_index_column": "pretest_399"
        },
        {
         "CO2_working_capacity [mL/g]": 144.89545589284987,
         "_deepnote_index_column": "pretest_400"
        },
        {
         "CO2_working_capacity [mL/g]": 113.6283649474313,
         "_deepnote_index_column": "pretest_401"
        },
        {
         "CO2_working_capacity [mL/g]": 71.58405114608568,
         "_deepnote_index_column": "pretest_402"
        },
        {
         "CO2_working_capacity [mL/g]": 86.07556276773568,
         "_deepnote_index_column": "pretest_403"
        },
        {
         "CO2_working_capacity [mL/g]": 81.16058560558957,
         "_deepnote_index_column": "pretest_404"
        },
        {
         "CO2_working_capacity [mL/g]": 194.37931741994336,
         "_deepnote_index_column": "pretest_405"
        },
        {
         "CO2_working_capacity [mL/g]": 74.33519458828708,
         "_deepnote_index_column": "pretest_406"
        },
        {
         "CO2_working_capacity [mL/g]": 133.7570823603716,
         "_deepnote_index_column": "pretest_407"
        },
        {
         "CO2_working_capacity [mL/g]": 109.35122265624642,
         "_deepnote_index_column": "pretest_408"
        },
        {
         "CO2_working_capacity [mL/g]": 59.55546177543998,
         "_deepnote_index_column": "pretest_409"
        },
        {
         "CO2_working_capacity [mL/g]": 94.92575870935576,
         "_deepnote_index_column": "pretest_410"
        },
        {
         "CO2_working_capacity [mL/g]": 314.0447514481411,
         "_deepnote_index_column": "pretest_411"
        },
        {
         "CO2_working_capacity [mL/g]": 90.88136916665742,
         "_deepnote_index_column": "pretest_412"
        },
        {
         "CO2_working_capacity [mL/g]": 129.37733010194938,
         "_deepnote_index_column": "pretest_413"
        },
        {
         "CO2_working_capacity [mL/g]": 155.37972530945018,
         "_deepnote_index_column": "pretest_414"
        },
        {
         "CO2_working_capacity [mL/g]": 140.84131620381032,
         "_deepnote_index_column": "pretest_415"
        },
        {
         "CO2_working_capacity [mL/g]": 85.97229285787344,
         "_deepnote_index_column": "pretest_416"
        },
        {
         "CO2_working_capacity [mL/g]": 98.96915209913004,
         "_deepnote_index_column": "pretest_417"
        },
        {
         "CO2_working_capacity [mL/g]": 247.83908746607537,
         "_deepnote_index_column": "pretest_418"
        },
        {
         "CO2_working_capacity [mL/g]": 215.21668172912672,
         "_deepnote_index_column": "pretest_419"
        },
        {
         "CO2_working_capacity [mL/g]": 100.45623441056075,
         "_deepnote_index_column": "pretest_420"
        },
        {
         "CO2_working_capacity [mL/g]": 67.2687854391654,
         "_deepnote_index_column": "pretest_421"
        },
        {
         "CO2_working_capacity [mL/g]": 100.02911138736712,
         "_deepnote_index_column": "pretest_422"
        },
        {
         "CO2_working_capacity [mL/g]": 83.44402036024978,
         "_deepnote_index_column": "pretest_423"
        },
        {
         "CO2_working_capacity [mL/g]": 244.0432757592998,
         "_deepnote_index_column": "pretest_424"
        },
        {
         "CO2_working_capacity [mL/g]": 317.1275037721182,
         "_deepnote_index_column": "pretest_425"
        },
        {
         "CO2_working_capacity [mL/g]": 77.01911946124228,
         "_deepnote_index_column": "pretest_426"
        },
        {
         "CO2_working_capacity [mL/g]": 109.9291213810669,
         "_deepnote_index_column": "pretest_427"
        },
        {
         "CO2_working_capacity [mL/g]": 169.56706158841064,
         "_deepnote_index_column": "pretest_428"
        },
        {
         "CO2_working_capacity [mL/g]": 161.09433695839473,
         "_deepnote_index_column": "pretest_429"
        },
        {
         "CO2_working_capacity [mL/g]": 231.68024441938698,
         "_deepnote_index_column": "pretest_430"
        },
        {
         "CO2_working_capacity [mL/g]": 246.05248264859472,
         "_deepnote_index_column": "pretest_431"
        },
        {
         "CO2_working_capacity [mL/g]": 145.1365434210816,
         "_deepnote_index_column": "pretest_432"
        },
        {
         "CO2_working_capacity [mL/g]": 228.11422916466665,
         "_deepnote_index_column": "pretest_433"
        },
        {
         "CO2_working_capacity [mL/g]": 344.9235923563031,
         "_deepnote_index_column": "pretest_434"
        },
        {
         "CO2_working_capacity [mL/g]": 73.97565252597627,
         "_deepnote_index_column": "pretest_435"
        },
        {
         "CO2_working_capacity [mL/g]": 68.6528478023436,
         "_deepnote_index_column": "pretest_436"
        },
        {
         "CO2_working_capacity [mL/g]": 108.01730151441274,
         "_deepnote_index_column": "pretest_437"
        },
        {
         "CO2_working_capacity [mL/g]": 55.97309068539949,
         "_deepnote_index_column": "pretest_438"
        },
        {
         "CO2_working_capacity [mL/g]": 191.8082394062498,
         "_deepnote_index_column": "pretest_439"
        },
        {
         "CO2_working_capacity [mL/g]": 87.94905941810444,
         "_deepnote_index_column": "pretest_440"
        },
        {
         "CO2_working_capacity [mL/g]": 110.39002638559005,
         "_deepnote_index_column": "pretest_441"
        },
        {
         "CO2_working_capacity [mL/g]": 124.06056796287001,
         "_deepnote_index_column": "pretest_442"
        },
        {
         "CO2_working_capacity [mL/g]": 249.12521043121714,
         "_deepnote_index_column": "pretest_443"
        },
        {
         "CO2_working_capacity [mL/g]": 55.76246384569292,
         "_deepnote_index_column": "pretest_444"
        },
        {
         "CO2_working_capacity [mL/g]": 62.83115030757439,
         "_deepnote_index_column": "pretest_445"
        },
        {
         "CO2_working_capacity [mL/g]": 59.471527299544604,
         "_deepnote_index_column": "pretest_446"
        },
        {
         "CO2_working_capacity [mL/g]": 103.25384924628867,
         "_deepnote_index_column": "pretest_447"
        },
        {
         "CO2_working_capacity [mL/g]": 268.56812446890393,
         "_deepnote_index_column": "pretest_448"
        },
        {
         "CO2_working_capacity [mL/g]": 90.54967462802657,
         "_deepnote_index_column": "pretest_449"
        },
        {
         "CO2_working_capacity [mL/g]": 64.6266628805436,
         "_deepnote_index_column": "pretest_450"
        },
        {
         "CO2_working_capacity [mL/g]": 374.44375105273116,
         "_deepnote_index_column": "pretest_451"
        },
        {
         "CO2_working_capacity [mL/g]": 67.71747999872159,
         "_deepnote_index_column": "pretest_452"
        },
        {
         "CO2_working_capacity [mL/g]": 73.26961783704931,
         "_deepnote_index_column": "pretest_453"
        },
        {
         "CO2_working_capacity [mL/g]": 73.15919119887738,
         "_deepnote_index_column": "pretest_454"
        },
        {
         "CO2_working_capacity [mL/g]": 135.85504147601404,
         "_deepnote_index_column": "pretest_455"
        },
        {
         "CO2_working_capacity [mL/g]": 52.36149446536424,
         "_deepnote_index_column": "pretest_456"
        },
        {
         "CO2_working_capacity [mL/g]": 106.52020479707384,
         "_deepnote_index_column": "pretest_457"
        },
        {
         "CO2_working_capacity [mL/g]": 280.39878524013034,
         "_deepnote_index_column": "pretest_458"
        },
        {
         "CO2_working_capacity [mL/g]": 91.61567449491582,
         "_deepnote_index_column": "pretest_459"
        },
        {
         "CO2_working_capacity [mL/g]": 129.5442000489121,
         "_deepnote_index_column": "pretest_460"
        },
        {
         "CO2_working_capacity [mL/g]": 80.61270947984264,
         "_deepnote_index_column": "pretest_461"
        },
        {
         "CO2_working_capacity [mL/g]": 322.1526144588885,
         "_deepnote_index_column": "pretest_462"
        },
        {
         "CO2_working_capacity [mL/g]": 232.01833966876745,
         "_deepnote_index_column": "pretest_463"
        },
        {
         "CO2_working_capacity [mL/g]": 95.38657488141342,
         "_deepnote_index_column": "pretest_464"
        },
        {
         "CO2_working_capacity [mL/g]": 464.3577680954144,
         "_deepnote_index_column": "pretest_465"
        },
        {
         "CO2_working_capacity [mL/g]": 78.19440627715025,
         "_deepnote_index_column": "pretest_466"
        },
        {
         "CO2_working_capacity [mL/g]": 121.4737820521711,
         "_deepnote_index_column": "pretest_467"
        },
        {
         "CO2_working_capacity [mL/g]": 201.18263038190352,
         "_deepnote_index_column": "pretest_468"
        },
        {
         "CO2_working_capacity [mL/g]": 256.7577799489996,
         "_deepnote_index_column": "pretest_469"
        },
        {
         "CO2_working_capacity [mL/g]": 125.76758725744847,
         "_deepnote_index_column": "pretest_470"
        },
        {
         "CO2_working_capacity [mL/g]": 240.6809012890244,
         "_deepnote_index_column": "pretest_471"
        },
        {
         "CO2_working_capacity [mL/g]": 213.99096457634383,
         "_deepnote_index_column": "pretest_472"
        },
        {
         "CO2_working_capacity [mL/g]": 119.47076305156772,
         "_deepnote_index_column": "pretest_473"
        },
        {
         "CO2_working_capacity [mL/g]": 266.07439032753166,
         "_deepnote_index_column": "pretest_474"
        },
        {
         "CO2_working_capacity [mL/g]": 426.7140684750811,
         "_deepnote_index_column": "pretest_475"
        },
        {
         "CO2_working_capacity [mL/g]": 203.62136658890643,
         "_deepnote_index_column": "pretest_476"
        },
        {
         "CO2_working_capacity [mL/g]": 80.95625050144243,
         "_deepnote_index_column": "pretest_477"
        },
        {
         "CO2_working_capacity [mL/g]": 41.184920453419764,
         "_deepnote_index_column": "pretest_478"
        },
        {
         "CO2_working_capacity [mL/g]": 106.8294721982723,
         "_deepnote_index_column": "pretest_479"
        },
        {
         "CO2_working_capacity [mL/g]": 233.0944354814844,
         "_deepnote_index_column": "pretest_480"
        },
        {
         "CO2_working_capacity [mL/g]": 124.56147581597541,
         "_deepnote_index_column": "pretest_481"
        },
        {
         "CO2_working_capacity [mL/g]": 167.980013556897,
         "_deepnote_index_column": "pretest_482"
        },
        {
         "CO2_working_capacity [mL/g]": 122.43530074924391,
         "_deepnote_index_column": "pretest_483"
        },
        {
         "CO2_working_capacity [mL/g]": 78.66150895904514,
         "_deepnote_index_column": "pretest_484"
        },
        {
         "CO2_working_capacity [mL/g]": 105.77573273177747,
         "_deepnote_index_column": "pretest_485"
        },
        {
         "CO2_working_capacity [mL/g]": 107.17330517636383,
         "_deepnote_index_column": "pretest_486"
        },
        {
         "CO2_working_capacity [mL/g]": 114.0896873301316,
         "_deepnote_index_column": "pretest_487"
        },
        {
         "CO2_working_capacity [mL/g]": 101.18847589180399,
         "_deepnote_index_column": "pretest_488"
        },
        {
         "CO2_working_capacity [mL/g]": 94.87793110793102,
         "_deepnote_index_column": "pretest_489"
        },
        {
         "CO2_working_capacity [mL/g]": 131.72259305762088,
         "_deepnote_index_column": "pretest_490"
        },
        {
         "CO2_working_capacity [mL/g]": 81.54793630882688,
         "_deepnote_index_column": "pretest_491"
        },
        {
         "CO2_working_capacity [mL/g]": 54.119075296013726,
         "_deepnote_index_column": "pretest_492"
        },
        {
         "CO2_working_capacity [mL/g]": 90.07301436614104,
         "_deepnote_index_column": "pretest_493"
        },
        {
         "CO2_working_capacity [mL/g]": 143.8607024443114,
         "_deepnote_index_column": "pretest_494"
        },
        {
         "CO2_working_capacity [mL/g]": 112.1539628231335,
         "_deepnote_index_column": "pretest_495"
        },
        {
         "CO2_working_capacity [mL/g]": 95.06828959444907,
         "_deepnote_index_column": "pretest_496"
        },
        {
         "CO2_working_capacity [mL/g]": 75.50374523919292,
         "_deepnote_index_column": "pretest_497"
        },
        {
         "CO2_working_capacity [mL/g]": 108.51904246663861,
         "_deepnote_index_column": "pretest_498"
        },
        {
         "CO2_working_capacity [mL/g]": 275.6126453195327,
         "_deepnote_index_column": "pretest_499"
        },
        {
         "CO2_working_capacity [mL/g]": 268.25963100489184,
         "_deepnote_index_column": "pretest_500"
        }
       ],
       "rows_bottom": [
        {
         "CO2_working_capacity [mL/g]": -0.005043496101302367,
         "_deepnote_index_column": "pretest_1501"
        },
        {
         "CO2_working_capacity [mL/g]": 0.8078875453072857,
         "_deepnote_index_column": "pretest_1502"
        },
        {
         "CO2_working_capacity [mL/g]": -5.86353727335583,
         "_deepnote_index_column": "pretest_1503"
        },
        {
         "CO2_working_capacity [mL/g]": 4.305429443365805,
         "_deepnote_index_column": "pretest_1504"
        },
        {
         "CO2_working_capacity [mL/g]": -6.120368296496239,
         "_deepnote_index_column": "pretest_1505"
        },
        {
         "CO2_working_capacity [mL/g]": 0.06105430083666956,
         "_deepnote_index_column": "pretest_1506"
        },
        {
         "CO2_working_capacity [mL/g]": -5.413604423616133,
         "_deepnote_index_column": "pretest_1507"
        },
        {
         "CO2_working_capacity [mL/g]": -7.147182564712668,
         "_deepnote_index_column": "pretest_1508"
        },
        {
         "CO2_working_capacity [mL/g]": -4.300379995434154,
         "_deepnote_index_column": "pretest_1509"
        },
        {
         "CO2_working_capacity [mL/g]": -2.887282841860365,
         "_deepnote_index_column": "pretest_1510"
        },
        {
         "CO2_working_capacity [mL/g]": 3.806718419715298,
         "_deepnote_index_column": "pretest_1511"
        },
        {
         "CO2_working_capacity [mL/g]": 7.71861674770476,
         "_deepnote_index_column": "pretest_1512"
        },
        {
         "CO2_working_capacity [mL/g]": 1.9772460736033945,
         "_deepnote_index_column": "pretest_1513"
        },
        {
         "CO2_working_capacity [mL/g]": -7.184174443621419,
         "_deepnote_index_column": "pretest_1514"
        },
        {
         "CO2_working_capacity [mL/g]": 6.963997954676333,
         "_deepnote_index_column": "pretest_1515"
        },
        {
         "CO2_working_capacity [mL/g]": -3.246072168447656,
         "_deepnote_index_column": "pretest_1516"
        },
        {
         "CO2_working_capacity [mL/g]": -6.795815463976624,
         "_deepnote_index_column": "pretest_1517"
        },
        {
         "CO2_working_capacity [mL/g]": 29.027103208316294,
         "_deepnote_index_column": "pretest_1518"
        },
        {
         "CO2_working_capacity [mL/g]": -1.3287739988123688,
         "_deepnote_index_column": "pretest_1519"
        },
        {
         "CO2_working_capacity [mL/g]": 0.6607787010092318,
         "_deepnote_index_column": "pretest_1520"
        },
        {
         "CO2_working_capacity [mL/g]": 1.2486015015946486,
         "_deepnote_index_column": "pretest_1521"
        },
        {
         "CO2_working_capacity [mL/g]": -0.9906264293165233,
         "_deepnote_index_column": "pretest_1522"
        },
        {
         "CO2_working_capacity [mL/g]": 0.49356753005544435,
         "_deepnote_index_column": "pretest_1523"
        },
        {
         "CO2_working_capacity [mL/g]": -3.245011356662949,
         "_deepnote_index_column": "pretest_1524"
        },
        {
         "CO2_working_capacity [mL/g]": 1.5745068427295883,
         "_deepnote_index_column": "pretest_1525"
        },
        {
         "CO2_working_capacity [mL/g]": 8.11774816089279,
         "_deepnote_index_column": "pretest_1526"
        },
        {
         "CO2_working_capacity [mL/g]": 25.640741467210756,
         "_deepnote_index_column": "pretest_1527"
        },
        {
         "CO2_working_capacity [mL/g]": -1.092565846104843,
         "_deepnote_index_column": "pretest_1528"
        },
        {
         "CO2_working_capacity [mL/g]": 10.727683145787664,
         "_deepnote_index_column": "pretest_1529"
        },
        {
         "CO2_working_capacity [mL/g]": 20.511902607705565,
         "_deepnote_index_column": "pretest_1530"
        },
        {
         "CO2_working_capacity [mL/g]": 2.8943893490162624,
         "_deepnote_index_column": "pretest_1531"
        },
        {
         "CO2_working_capacity [mL/g]": -2.5703582104187563,
         "_deepnote_index_column": "pretest_1532"
        },
        {
         "CO2_working_capacity [mL/g]": -4.8705361590566945,
         "_deepnote_index_column": "pretest_1533"
        },
        {
         "CO2_working_capacity [mL/g]": -2.5720726179549893,
         "_deepnote_index_column": "pretest_1534"
        },
        {
         "CO2_working_capacity [mL/g]": -4.606311504940112,
         "_deepnote_index_column": "pretest_1535"
        },
        {
         "CO2_working_capacity [mL/g]": -10.586449469721021,
         "_deepnote_index_column": "pretest_1536"
        },
        {
         "CO2_working_capacity [mL/g]": 4.335199630513353,
         "_deepnote_index_column": "pretest_1537"
        },
        {
         "CO2_working_capacity [mL/g]": -2.439907172310086,
         "_deepnote_index_column": "pretest_1538"
        },
        {
         "CO2_working_capacity [mL/g]": 1.701227318602342,
         "_deepnote_index_column": "pretest_1539"
        },
        {
         "CO2_working_capacity [mL/g]": 3.7645718480716432,
         "_deepnote_index_column": "pretest_1540"
        },
        {
         "CO2_working_capacity [mL/g]": 4.503859817921664,
         "_deepnote_index_column": "pretest_1541"
        },
        {
         "CO2_working_capacity [mL/g]": -3.024825506196287,
         "_deepnote_index_column": "pretest_1542"
        },
        {
         "CO2_working_capacity [mL/g]": 3.929462201141921,
         "_deepnote_index_column": "pretest_1543"
        },
        {
         "CO2_working_capacity [mL/g]": -9.210228609097115,
         "_deepnote_index_column": "pretest_1544"
        },
        {
         "CO2_working_capacity [mL/g]": -7.251049002751966,
         "_deepnote_index_column": "pretest_1545"
        },
        {
         "CO2_working_capacity [mL/g]": 5.324051551486793,
         "_deepnote_index_column": "pretest_1546"
        },
        {
         "CO2_working_capacity [mL/g]": -1.2357321441727527,
         "_deepnote_index_column": "pretest_1547"
        },
        {
         "CO2_working_capacity [mL/g]": 1.9077723087187985,
         "_deepnote_index_column": "pretest_1548"
        },
        {
         "CO2_working_capacity [mL/g]": -5.9138386938659195,
         "_deepnote_index_column": "pretest_1549"
        },
        {
         "CO2_working_capacity [mL/g]": -1.8903136163739487,
         "_deepnote_index_column": "pretest_1550"
        },
        {
         "CO2_working_capacity [mL/g]": -0.34719403355263884,
         "_deepnote_index_column": "pretest_1551"
        },
        {
         "CO2_working_capacity [mL/g]": -2.1847016220860755,
         "_deepnote_index_column": "pretest_1552"
        },
        {
         "CO2_working_capacity [mL/g]": -13.652201424606263,
         "_deepnote_index_column": "pretest_1553"
        },
        {
         "CO2_working_capacity [mL/g]": -9.420595718500646,
         "_deepnote_index_column": "pretest_1554"
        },
        {
         "CO2_working_capacity [mL/g]": 7.5351048442288455,
         "_deepnote_index_column": "pretest_1555"
        },
        {
         "CO2_working_capacity [mL/g]": -1.4911712416695986,
         "_deepnote_index_column": "pretest_1556"
        },
        {
         "CO2_working_capacity [mL/g]": 3.5682707494631978,
         "_deepnote_index_column": "pretest_1557"
        },
        {
         "CO2_working_capacity [mL/g]": 6.268170411352632,
         "_deepnote_index_column": "pretest_1558"
        },
        {
         "CO2_working_capacity [mL/g]": 2.4903869792704993,
         "_deepnote_index_column": "pretest_1559"
        },
        {
         "CO2_working_capacity [mL/g]": 2.011334824834611,
         "_deepnote_index_column": "pretest_1560"
        },
        {
         "CO2_working_capacity [mL/g]": -1.7697992365198407,
         "_deepnote_index_column": "pretest_1561"
        },
        {
         "CO2_working_capacity [mL/g]": 7.5121137165602985,
         "_deepnote_index_column": "pretest_1562"
        },
        {
         "CO2_working_capacity [mL/g]": -0.21051505545470575,
         "_deepnote_index_column": "pretest_1563"
        },
        {
         "CO2_working_capacity [mL/g]": 14.47251166512285,
         "_deepnote_index_column": "pretest_1564"
        },
        {
         "CO2_working_capacity [mL/g]": -3.574234783508792,
         "_deepnote_index_column": "pretest_1565"
        },
        {
         "CO2_working_capacity [mL/g]": 1.087649839373196,
         "_deepnote_index_column": "pretest_1566"
        },
        {
         "CO2_working_capacity [mL/g]": 82.75104101154724,
         "_deepnote_index_column": "pretest_1567"
        },
        {
         "CO2_working_capacity [mL/g]": -6.116325629173694,
         "_deepnote_index_column": "pretest_1568"
        },
        {
         "CO2_working_capacity [mL/g]": 71.42074762954402,
         "_deepnote_index_column": "pretest_1569"
        },
        {
         "CO2_working_capacity [mL/g]": 9.68773778546928,
         "_deepnote_index_column": "pretest_1570"
        },
        {
         "CO2_working_capacity [mL/g]": 3.0195057249119035,
         "_deepnote_index_column": "pretest_1571"
        },
        {
         "CO2_working_capacity [mL/g]": 0.717626524808336,
         "_deepnote_index_column": "pretest_1572"
        },
        {
         "CO2_working_capacity [mL/g]": -2.526684808022892,
         "_deepnote_index_column": "pretest_1573"
        },
        {
         "CO2_working_capacity [mL/g]": -2.318866858142126,
         "_deepnote_index_column": "pretest_1574"
        },
        {
         "CO2_working_capacity [mL/g]": -4.422477044887215,
         "_deepnote_index_column": "pretest_1575"
        },
        {
         "CO2_working_capacity [mL/g]": -3.5217573700592455,
         "_deepnote_index_column": "pretest_1576"
        },
        {
         "CO2_working_capacity [mL/g]": 7.227130031682057,
         "_deepnote_index_column": "pretest_1577"
        },
        {
         "CO2_working_capacity [mL/g]": 27.864467254470366,
         "_deepnote_index_column": "pretest_1578"
        },
        {
         "CO2_working_capacity [mL/g]": 0.486079269269103,
         "_deepnote_index_column": "pretest_1579"
        },
        {
         "CO2_working_capacity [mL/g]": -3.676387132382485,
         "_deepnote_index_column": "pretest_1580"
        },
        {
         "CO2_working_capacity [mL/g]": -5.878969232063589,
         "_deepnote_index_column": "pretest_1581"
        },
        {
         "CO2_working_capacity [mL/g]": -3.2728204770172686,
         "_deepnote_index_column": "pretest_1582"
        },
        {
         "CO2_working_capacity [mL/g]": -0.6227586816808083,
         "_deepnote_index_column": "pretest_1583"
        },
        {
         "CO2_working_capacity [mL/g]": 3.4249006712806365,
         "_deepnote_index_column": "pretest_1584"
        },
        {
         "CO2_working_capacity [mL/g]": 7.365282108459029,
         "_deepnote_index_column": "pretest_1585"
        },
        {
         "CO2_working_capacity [mL/g]": -3.497607403337497,
         "_deepnote_index_column": "pretest_1586"
        },
        {
         "CO2_working_capacity [mL/g]": 0.7825389006786431,
         "_deepnote_index_column": "pretest_1587"
        },
        {
         "CO2_working_capacity [mL/g]": 4.3385004702174,
         "_deepnote_index_column": "pretest_1588"
        },
        {
         "CO2_working_capacity [mL/g]": -6.336845364845792,
         "_deepnote_index_column": "pretest_1589"
        },
        {
         "CO2_working_capacity [mL/g]": -7.450483046921039,
         "_deepnote_index_column": "pretest_1590"
        },
        {
         "CO2_working_capacity [mL/g]": 20.2518835260367,
         "_deepnote_index_column": "pretest_1591"
        },
        {
         "CO2_working_capacity [mL/g]": -2.944169223460772,
         "_deepnote_index_column": "pretest_1592"
        },
        {
         "CO2_working_capacity [mL/g]": 9.654681324260965,
         "_deepnote_index_column": "pretest_1593"
        },
        {
         "CO2_working_capacity [mL/g]": -2.05314191392494,
         "_deepnote_index_column": "pretest_1594"
        },
        {
         "CO2_working_capacity [mL/g]": 4.14554429179364,
         "_deepnote_index_column": "pretest_1595"
        },
        {
         "CO2_working_capacity [mL/g]": -3.3787493921767817,
         "_deepnote_index_column": "pretest_1596"
        },
        {
         "CO2_working_capacity [mL/g]": -2.433723557979693,
         "_deepnote_index_column": "pretest_1597"
        },
        {
         "CO2_working_capacity [mL/g]": -3.8347363936348313,
         "_deepnote_index_column": "pretest_1598"
        },
        {
         "CO2_working_capacity [mL/g]": -4.476437283286323,
         "_deepnote_index_column": "pretest_1599"
        },
        {
         "CO2_working_capacity [mL/g]": 0.42425232951349806,
         "_deepnote_index_column": "pretest_1600"
        },
        {
         "CO2_working_capacity [mL/g]": 0.8853408467184175,
         "_deepnote_index_column": "pretest_1601"
        },
        {
         "CO2_working_capacity [mL/g]": 1.0919425956094093,
         "_deepnote_index_column": "pretest_1602"
        },
        {
         "CO2_working_capacity [mL/g]": -1.228290665555664,
         "_deepnote_index_column": "pretest_1603"
        },
        {
         "CO2_working_capacity [mL/g]": -10.06492684462362,
         "_deepnote_index_column": "pretest_1604"
        },
        {
         "CO2_working_capacity [mL/g]": -2.272700139841251,
         "_deepnote_index_column": "pretest_1605"
        },
        {
         "CO2_working_capacity [mL/g]": 15.941210008742441,
         "_deepnote_index_column": "pretest_1606"
        },
        {
         "CO2_working_capacity [mL/g]": -6.131875162032291,
         "_deepnote_index_column": "pretest_1607"
        },
        {
         "CO2_working_capacity [mL/g]": -4.474296053245814,
         "_deepnote_index_column": "pretest_1608"
        },
        {
         "CO2_working_capacity [mL/g]": 1.2315106855884017,
         "_deepnote_index_column": "pretest_1609"
        },
        {
         "CO2_working_capacity [mL/g]": -3.746795440500774,
         "_deepnote_index_column": "pretest_1610"
        },
        {
         "CO2_working_capacity [mL/g]": 6.789014579785693,
         "_deepnote_index_column": "pretest_1611"
        },
        {
         "CO2_working_capacity [mL/g]": -1.4537718569991398,
         "_deepnote_index_column": "pretest_1612"
        },
        {
         "CO2_working_capacity [mL/g]": 0.7479758817371125,
         "_deepnote_index_column": "pretest_1613"
        },
        {
         "CO2_working_capacity [mL/g]": -2.01801908853017,
         "_deepnote_index_column": "pretest_1614"
        },
        {
         "CO2_working_capacity [mL/g]": -11.534106029690534,
         "_deepnote_index_column": "pretest_1615"
        },
        {
         "CO2_working_capacity [mL/g]": -1.3650828263229622,
         "_deepnote_index_column": "pretest_1616"
        },
        {
         "CO2_working_capacity [mL/g]": -10.28710668218612,
         "_deepnote_index_column": "pretest_1617"
        },
        {
         "CO2_working_capacity [mL/g]": -7.619120198031817,
         "_deepnote_index_column": "pretest_1618"
        },
        {
         "CO2_working_capacity [mL/g]": -12.615284254283138,
         "_deepnote_index_column": "pretest_1619"
        },
        {
         "CO2_working_capacity [mL/g]": -0.418537037881355,
         "_deepnote_index_column": "pretest_1620"
        },
        {
         "CO2_working_capacity [mL/g]": 1.1550399488701153,
         "_deepnote_index_column": "pretest_1621"
        },
        {
         "CO2_working_capacity [mL/g]": -4.1635987703361925,
         "_deepnote_index_column": "pretest_1622"
        },
        {
         "CO2_working_capacity [mL/g]": -1.6472867291750495,
         "_deepnote_index_column": "pretest_1623"
        },
        {
         "CO2_working_capacity [mL/g]": 2.162636418703559,
         "_deepnote_index_column": "pretest_1624"
        },
        {
         "CO2_working_capacity [mL/g]": 5.457162842853964,
         "_deepnote_index_column": "pretest_1625"
        },
        {
         "CO2_working_capacity [mL/g]": 7.133606135071703,
         "_deepnote_index_column": "pretest_1626"
        },
        {
         "CO2_working_capacity [mL/g]": -5.791210468705106,
         "_deepnote_index_column": "pretest_1627"
        },
        {
         "CO2_working_capacity [mL/g]": 0.2400156563881375,
         "_deepnote_index_column": "pretest_1628"
        },
        {
         "CO2_working_capacity [mL/g]": -7.748252555381259,
         "_deepnote_index_column": "pretest_1629"
        },
        {
         "CO2_working_capacity [mL/g]": -2.3639691624729853,
         "_deepnote_index_column": "pretest_1630"
        },
        {
         "CO2_working_capacity [mL/g]": -8.405101223289682,
         "_deepnote_index_column": "pretest_1631"
        },
        {
         "CO2_working_capacity [mL/g]": 4.627035131289785,
         "_deepnote_index_column": "pretest_1632"
        },
        {
         "CO2_working_capacity [mL/g]": 2.147712544909551,
         "_deepnote_index_column": "pretest_1633"
        },
        {
         "CO2_working_capacity [mL/g]": 3.0294742099958283,
         "_deepnote_index_column": "pretest_1634"
        },
        {
         "CO2_working_capacity [mL/g]": 40.46667265372714,
         "_deepnote_index_column": "pretest_1635"
        },
        {
         "CO2_working_capacity [mL/g]": 4.156201820062561,
         "_deepnote_index_column": "pretest_1636"
        },
        {
         "CO2_working_capacity [mL/g]": -1.9743584363368765,
         "_deepnote_index_column": "pretest_1637"
        },
        {
         "CO2_working_capacity [mL/g]": -10.399254275174805,
         "_deepnote_index_column": "pretest_1638"
        },
        {
         "CO2_working_capacity [mL/g]": -2.694904992610814,
         "_deepnote_index_column": "pretest_1639"
        },
        {
         "CO2_working_capacity [mL/g]": 7.6747033023792195,
         "_deepnote_index_column": "pretest_1640"
        },
        {
         "CO2_working_capacity [mL/g]": -2.3888142266171397,
         "_deepnote_index_column": "pretest_1641"
        },
        {
         "CO2_working_capacity [mL/g]": 34.258667567377834,
         "_deepnote_index_column": "pretest_1642"
        },
        {
         "CO2_working_capacity [mL/g]": 4.340537680646806,
         "_deepnote_index_column": "pretest_1643"
        },
        {
         "CO2_working_capacity [mL/g]": 1.1609504411749867,
         "_deepnote_index_column": "pretest_1644"
        },
        {
         "CO2_working_capacity [mL/g]": 2.206936454874722,
         "_deepnote_index_column": "pretest_1645"
        },
        {
         "CO2_working_capacity [mL/g]": 5.917808810527089,
         "_deepnote_index_column": "pretest_1646"
        },
        {
         "CO2_working_capacity [mL/g]": -0.9740932333885735,
         "_deepnote_index_column": "pretest_1647"
        },
        {
         "CO2_working_capacity [mL/g]": -0.9734815825228144,
         "_deepnote_index_column": "pretest_1648"
        },
        {
         "CO2_working_capacity [mL/g]": -12.953188681993133,
         "_deepnote_index_column": "pretest_1649"
        },
        {
         "CO2_working_capacity [mL/g]": -6.527247814401375,
         "_deepnote_index_column": "pretest_1650"
        },
        {
         "CO2_working_capacity [mL/g]": 4.429617759159952,
         "_deepnote_index_column": "pretest_1651"
        },
        {
         "CO2_working_capacity [mL/g]": -4.741832221272011,
         "_deepnote_index_column": "pretest_1652"
        },
        {
         "CO2_working_capacity [mL/g]": 1.4509498151568625,
         "_deepnote_index_column": "pretest_1653"
        },
        {
         "CO2_working_capacity [mL/g]": 23.146593508446635,
         "_deepnote_index_column": "pretest_1654"
        },
        {
         "CO2_working_capacity [mL/g]": -0.19386064709237735,
         "_deepnote_index_column": "pretest_1655"
        },
        {
         "CO2_working_capacity [mL/g]": -1.8113295789363388,
         "_deepnote_index_column": "pretest_1656"
        },
        {
         "CO2_working_capacity [mL/g]": -0.4119964777411815,
         "_deepnote_index_column": "pretest_1657"
        },
        {
         "CO2_working_capacity [mL/g]": 5.237383405287326,
         "_deepnote_index_column": "pretest_1658"
        },
        {
         "CO2_working_capacity [mL/g]": 6.177511519048075,
         "_deepnote_index_column": "pretest_1659"
        },
        {
         "CO2_working_capacity [mL/g]": -3.9569302374355546,
         "_deepnote_index_column": "pretest_1660"
        },
        {
         "CO2_working_capacity [mL/g]": 4.266515309161799,
         "_deepnote_index_column": "pretest_1661"
        },
        {
         "CO2_working_capacity [mL/g]": -4.339545141823841,
         "_deepnote_index_column": "pretest_1662"
        },
        {
         "CO2_working_capacity [mL/g]": -7.248526163574426,
         "_deepnote_index_column": "pretest_1663"
        },
        {
         "CO2_working_capacity [mL/g]": -4.108988352215733,
         "_deepnote_index_column": "pretest_1664"
        },
        {
         "CO2_working_capacity [mL/g]": 4.65039903322406,
         "_deepnote_index_column": "pretest_1665"
        },
        {
         "CO2_working_capacity [mL/g]": -7.165881410608758,
         "_deepnote_index_column": "pretest_1666"
        },
        {
         "CO2_working_capacity [mL/g]": -0.5765120084807738,
         "_deepnote_index_column": "pretest_1667"
        },
        {
         "CO2_working_capacity [mL/g]": -3.6648913760804644,
         "_deepnote_index_column": "pretest_1668"
        },
        {
         "CO2_working_capacity [mL/g]": 4.260071894457092,
         "_deepnote_index_column": "pretest_1669"
        },
        {
         "CO2_working_capacity [mL/g]": -5.626586468242401,
         "_deepnote_index_column": "pretest_1670"
        },
        {
         "CO2_working_capacity [mL/g]": -4.464085618024639,
         "_deepnote_index_column": "pretest_1671"
        },
        {
         "CO2_working_capacity [mL/g]": 0.04655964367959663,
         "_deepnote_index_column": "pretest_1672"
        },
        {
         "CO2_working_capacity [mL/g]": 1.223470117750235,
         "_deepnote_index_column": "pretest_1673"
        },
        {
         "CO2_working_capacity [mL/g]": 1.7505898059767673,
         "_deepnote_index_column": "pretest_1674"
        },
        {
         "CO2_working_capacity [mL/g]": -4.49563400544652,
         "_deepnote_index_column": "pretest_1675"
        },
        {
         "CO2_working_capacity [mL/g]": -4.116364345456087,
         "_deepnote_index_column": "pretest_1676"
        },
        {
         "CO2_working_capacity [mL/g]": -5.852911216967446,
         "_deepnote_index_column": "pretest_1677"
        },
        {
         "CO2_working_capacity [mL/g]": 1.3127578009987642,
         "_deepnote_index_column": "pretest_1678"
        },
        {
         "CO2_working_capacity [mL/g]": 35.56282782223324,
         "_deepnote_index_column": "pretest_1679"
        },
        {
         "CO2_working_capacity [mL/g]": 1.1852885809508864,
         "_deepnote_index_column": "pretest_1680"
        },
        {
         "CO2_working_capacity [mL/g]": 7.463563241459903,
         "_deepnote_index_column": "pretest_1681"
        },
        {
         "CO2_working_capacity [mL/g]": -0.7381212147296088,
         "_deepnote_index_column": "pretest_1682"
        },
        {
         "CO2_working_capacity [mL/g]": 32.14227859833803,
         "_deepnote_index_column": "pretest_1683"
        },
        {
         "CO2_working_capacity [mL/g]": -3.4470713868899368,
         "_deepnote_index_column": "pretest_1684"
        },
        {
         "CO2_working_capacity [mL/g]": 1.3932306699786035,
         "_deepnote_index_column": "pretest_1685"
        },
        {
         "CO2_working_capacity [mL/g]": -0.7158396843343838,
         "_deepnote_index_column": "pretest_1686"
        },
        {
         "CO2_working_capacity [mL/g]": -1.870833183411078,
         "_deepnote_index_column": "pretest_1687"
        },
        {
         "CO2_working_capacity [mL/g]": 6.516456770264751,
         "_deepnote_index_column": "pretest_1688"
        },
        {
         "CO2_working_capacity [mL/g]": 0.6906713547305112,
         "_deepnote_index_column": "pretest_1689"
        },
        {
         "CO2_working_capacity [mL/g]": -0.9342669390516518,
         "_deepnote_index_column": "pretest_1690"
        },
        {
         "CO2_working_capacity [mL/g]": 0.36692756139889854,
         "_deepnote_index_column": "pretest_1691"
        },
        {
         "CO2_working_capacity [mL/g]": 1.211693011673635,
         "_deepnote_index_column": "pretest_1692"
        },
        {
         "CO2_working_capacity [mL/g]": 1.5716841974126055,
         "_deepnote_index_column": "pretest_1693"
        },
        {
         "CO2_working_capacity [mL/g]": 0.5465556564500846,
         "_deepnote_index_column": "pretest_1694"
        },
        {
         "CO2_working_capacity [mL/g]": 0.09987102451563633,
         "_deepnote_index_column": "pretest_1695"
        },
        {
         "CO2_working_capacity [mL/g]": -5.118174072970677,
         "_deepnote_index_column": "pretest_1696"
        },
        {
         "CO2_working_capacity [mL/g]": 0.23163927376019655,
         "_deepnote_index_column": "pretest_1697"
        },
        {
         "CO2_working_capacity [mL/g]": -0.44420127637616497,
         "_deepnote_index_column": "pretest_1698"
        },
        {
         "CO2_working_capacity [mL/g]": 0.5902948277939136,
         "_deepnote_index_column": "pretest_1699"
        },
        {
         "CO2_working_capacity [mL/g]": 2.1516427672867775,
         "_deepnote_index_column": "pretest_1700"
        },
        {
         "CO2_working_capacity [mL/g]": 15.877380952361102,
         "_deepnote_index_column": "pretest_1701"
        },
        {
         "CO2_working_capacity [mL/g]": 1.6950553524192904,
         "_deepnote_index_column": "pretest_1702"
        },
        {
         "CO2_working_capacity [mL/g]": -3.414318521681882,
         "_deepnote_index_column": "pretest_1703"
        },
        {
         "CO2_working_capacity [mL/g]": 2.1596193122570337,
         "_deepnote_index_column": "pretest_1704"
        },
        {
         "CO2_working_capacity [mL/g]": 15.146536787961162,
         "_deepnote_index_column": "pretest_1705"
        },
        {
         "CO2_working_capacity [mL/g]": 1.574224537689834,
         "_deepnote_index_column": "pretest_1706"
        },
        {
         "CO2_working_capacity [mL/g]": 3.2787389110734777,
         "_deepnote_index_column": "pretest_1707"
        },
        {
         "CO2_working_capacity [mL/g]": -2.69235633990214,
         "_deepnote_index_column": "pretest_1708"
        },
        {
         "CO2_working_capacity [mL/g]": -3.113561777180755,
         "_deepnote_index_column": "pretest_1709"
        },
        {
         "CO2_working_capacity [mL/g]": 14.183789335988452,
         "_deepnote_index_column": "pretest_1710"
        },
        {
         "CO2_working_capacity [mL/g]": 3.3067029041261224,
         "_deepnote_index_column": "pretest_1711"
        },
        {
         "CO2_working_capacity [mL/g]": 3.320135387664489,
         "_deepnote_index_column": "pretest_1712"
        },
        {
         "CO2_working_capacity [mL/g]": 0.2599782295468607,
         "_deepnote_index_column": "pretest_1713"
        },
        {
         "CO2_working_capacity [mL/g]": 3.8461458064852194,
         "_deepnote_index_column": "pretest_1714"
        },
        {
         "CO2_working_capacity [mL/g]": -0.7687807980456246,
         "_deepnote_index_column": "pretest_1715"
        },
        {
         "CO2_working_capacity [mL/g]": -2.5948036325227264,
         "_deepnote_index_column": "pretest_1716"
        },
        {
         "CO2_working_capacity [mL/g]": 1.405826455543824,
         "_deepnote_index_column": "pretest_1717"
        },
        {
         "CO2_working_capacity [mL/g]": 15.645693298704535,
         "_deepnote_index_column": "pretest_1718"
        },
        {
         "CO2_working_capacity [mL/g]": 1.150283957307502,
         "_deepnote_index_column": "pretest_1719"
        },
        {
         "CO2_working_capacity [mL/g]": 9.104261550288442,
         "_deepnote_index_column": "pretest_1720"
        },
        {
         "CO2_working_capacity [mL/g]": 7.410188094460713,
         "_deepnote_index_column": "pretest_1721"
        },
        {
         "CO2_working_capacity [mL/g]": -2.128442751202759,
         "_deepnote_index_column": "pretest_1722"
        },
        {
         "CO2_working_capacity [mL/g]": 1.1582782758977286,
         "_deepnote_index_column": "pretest_1723"
        },
        {
         "CO2_working_capacity [mL/g]": -4.91823643568669,
         "_deepnote_index_column": "pretest_1724"
        },
        {
         "CO2_working_capacity [mL/g]": 0.841858079299658,
         "_deepnote_index_column": "pretest_1725"
        },
        {
         "CO2_working_capacity [mL/g]": 1.4560024572926344,
         "_deepnote_index_column": "pretest_1726"
        },
        {
         "CO2_working_capacity [mL/g]": 4.987616066649308,
         "_deepnote_index_column": "pretest_1727"
        },
        {
         "CO2_working_capacity [mL/g]": -13.243676318849666,
         "_deepnote_index_column": "pretest_1728"
        },
        {
         "CO2_working_capacity [mL/g]": -6.145867068115512,
         "_deepnote_index_column": "pretest_1729"
        },
        {
         "CO2_working_capacity [mL/g]": 1.5974549376744678,
         "_deepnote_index_column": "pretest_1730"
        },
        {
         "CO2_working_capacity [mL/g]": -3.5875994441155705,
         "_deepnote_index_column": "pretest_1731"
        },
        {
         "CO2_working_capacity [mL/g]": -3.5256341741798547,
         "_deepnote_index_column": "pretest_1732"
        },
        {
         "CO2_working_capacity [mL/g]": 2.581808096779705,
         "_deepnote_index_column": "pretest_1733"
        },
        {
         "CO2_working_capacity [mL/g]": 54.35528935568606,
         "_deepnote_index_column": "pretest_1734"
        },
        {
         "CO2_working_capacity [mL/g]": -0.7779714660545803,
         "_deepnote_index_column": "pretest_1735"
        },
        {
         "CO2_working_capacity [mL/g]": -1.1713155917463398,
         "_deepnote_index_column": "pretest_1736"
        },
        {
         "CO2_working_capacity [mL/g]": -7.570721283038609,
         "_deepnote_index_column": "pretest_1737"
        },
        {
         "CO2_working_capacity [mL/g]": 4.0115606287440295,
         "_deepnote_index_column": "pretest_1738"
        },
        {
         "CO2_working_capacity [mL/g]": 1.6985868795482622,
         "_deepnote_index_column": "pretest_1739"
        },
        {
         "CO2_working_capacity [mL/g]": -3.0326795159688,
         "_deepnote_index_column": "pretest_1740"
        },
        {
         "CO2_working_capacity [mL/g]": -3.494742048852292,
         "_deepnote_index_column": "pretest_1741"
        },
        {
         "CO2_working_capacity [mL/g]": -3.197695640125592,
         "_deepnote_index_column": "pretest_1742"
        },
        {
         "CO2_working_capacity [mL/g]": 5.559299774205344,
         "_deepnote_index_column": "pretest_1743"
        },
        {
         "CO2_working_capacity [mL/g]": -0.22427753331574501,
         "_deepnote_index_column": "pretest_1744"
        },
        {
         "CO2_working_capacity [mL/g]": -3.7527029688673115,
         "_deepnote_index_column": "pretest_1745"
        },
        {
         "CO2_working_capacity [mL/g]": 9.9260941393478,
         "_deepnote_index_column": "pretest_1746"
        },
        {
         "CO2_working_capacity [mL/g]": 4.183840754973395,
         "_deepnote_index_column": "pretest_1747"
        },
        {
         "CO2_working_capacity [mL/g]": 0.9933964600448068,
         "_deepnote_index_column": "pretest_1748"
        },
        {
         "CO2_working_capacity [mL/g]": -8.309493291347218,
         "_deepnote_index_column": "pretest_1749"
        },
        {
         "CO2_working_capacity [mL/g]": -0.7178192833344532,
         "_deepnote_index_column": "pretest_1750"
        },
        {
         "CO2_working_capacity [mL/g]": -10.064432745633114,
         "_deepnote_index_column": "pretest_1751"
        },
        {
         "CO2_working_capacity [mL/g]": 0.3530125860375614,
         "_deepnote_index_column": "pretest_1752"
        },
        {
         "CO2_working_capacity [mL/g]": -6.973201098084552,
         "_deepnote_index_column": "pretest_1753"
        },
        {
         "CO2_working_capacity [mL/g]": 2.0014962830533474,
         "_deepnote_index_column": "pretest_1754"
        },
        {
         "CO2_working_capacity [mL/g]": -2.7097571954690443,
         "_deepnote_index_column": "pretest_1755"
        },
        {
         "CO2_working_capacity [mL/g]": -4.404769016236999,
         "_deepnote_index_column": "pretest_1756"
        },
        {
         "CO2_working_capacity [mL/g]": -3.818923453591099,
         "_deepnote_index_column": "pretest_1757"
        },
        {
         "CO2_working_capacity [mL/g]": -3.9674936056141377,
         "_deepnote_index_column": "pretest_1758"
        },
        {
         "CO2_working_capacity [mL/g]": -2.6389755224901985,
         "_deepnote_index_column": "pretest_1759"
        },
        {
         "CO2_working_capacity [mL/g]": 8.320411155340322,
         "_deepnote_index_column": "pretest_1760"
        },
        {
         "CO2_working_capacity [mL/g]": 42.15222330020881,
         "_deepnote_index_column": "pretest_1761"
        },
        {
         "CO2_working_capacity [mL/g]": 18.072183855328504,
         "_deepnote_index_column": "pretest_1762"
        },
        {
         "CO2_working_capacity [mL/g]": -1.3231142134746505,
         "_deepnote_index_column": "pretest_1763"
        },
        {
         "CO2_working_capacity [mL/g]": 10.244924165517423,
         "_deepnote_index_column": "pretest_1764"
        },
        {
         "CO2_working_capacity [mL/g]": 1.7554181637890571,
         "_deepnote_index_column": "pretest_1765"
        },
        {
         "CO2_working_capacity [mL/g]": -6.559633762179468,
         "_deepnote_index_column": "pretest_1766"
        },
        {
         "CO2_working_capacity [mL/g]": -7.330660329746285,
         "_deepnote_index_column": "pretest_1767"
        },
        {
         "CO2_working_capacity [mL/g]": -5.96763946462891,
         "_deepnote_index_column": "pretest_1768"
        },
        {
         "CO2_working_capacity [mL/g]": -13.99571238420947,
         "_deepnote_index_column": "pretest_1769"
        },
        {
         "CO2_working_capacity [mL/g]": -5.560306377453231,
         "_deepnote_index_column": "pretest_1770"
        },
        {
         "CO2_working_capacity [mL/g]": -1.8186855780007007,
         "_deepnote_index_column": "pretest_1771"
        },
        {
         "CO2_working_capacity [mL/g]": -8.632725253552774,
         "_deepnote_index_column": "pretest_1772"
        },
        {
         "CO2_working_capacity [mL/g]": 1.318315129100763,
         "_deepnote_index_column": "pretest_1773"
        },
        {
         "CO2_working_capacity [mL/g]": -0.04005078389628361,
         "_deepnote_index_column": "pretest_1774"
        },
        {
         "CO2_working_capacity [mL/g]": -5.543969461216225,
         "_deepnote_index_column": "pretest_1775"
        },
        {
         "CO2_working_capacity [mL/g]": -0.895182975627205,
         "_deepnote_index_column": "pretest_1776"
        },
        {
         "CO2_working_capacity [mL/g]": 1.002984697871978,
         "_deepnote_index_column": "pretest_1777"
        },
        {
         "CO2_working_capacity [mL/g]": -12.57273607222972,
         "_deepnote_index_column": "pretest_1778"
        },
        {
         "CO2_working_capacity [mL/g]": -13.883930115354381,
         "_deepnote_index_column": "pretest_1779"
        },
        {
         "CO2_working_capacity [mL/g]": 2.5412347502177552,
         "_deepnote_index_column": "pretest_1780"
        },
        {
         "CO2_working_capacity [mL/g]": 2.220330527652011,
         "_deepnote_index_column": "pretest_1781"
        },
        {
         "CO2_working_capacity [mL/g]": -5.319127583821992,
         "_deepnote_index_column": "pretest_1782"
        },
        {
         "CO2_working_capacity [mL/g]": -0.7556095557762006,
         "_deepnote_index_column": "pretest_1783"
        },
        {
         "CO2_working_capacity [mL/g]": 6.704076200605353,
         "_deepnote_index_column": "pretest_1784"
        },
        {
         "CO2_working_capacity [mL/g]": -2.794030206278882,
         "_deepnote_index_column": "pretest_1785"
        },
        {
         "CO2_working_capacity [mL/g]": 84.34573322476105,
         "_deepnote_index_column": "pretest_1786"
        },
        {
         "CO2_working_capacity [mL/g]": 16.092923605198308,
         "_deepnote_index_column": "pretest_1787"
        },
        {
         "CO2_working_capacity [mL/g]": 1.1547854169385938,
         "_deepnote_index_column": "pretest_1788"
        },
        {
         "CO2_working_capacity [mL/g]": -2.4397518164028726,
         "_deepnote_index_column": "pretest_1789"
        },
        {
         "CO2_working_capacity [mL/g]": -2.256953635015467,
         "_deepnote_index_column": "pretest_1790"
        },
        {
         "CO2_working_capacity [mL/g]": 4.62790495304731,
         "_deepnote_index_column": "pretest_1791"
        },
        {
         "CO2_working_capacity [mL/g]": -0.9759686592423672,
         "_deepnote_index_column": "pretest_1792"
        },
        {
         "CO2_working_capacity [mL/g]": 43.98028061023038,
         "_deepnote_index_column": "pretest_1793"
        },
        {
         "CO2_working_capacity [mL/g]": -3.447128450799848,
         "_deepnote_index_column": "pretest_1794"
        },
        {
         "CO2_working_capacity [mL/g]": -5.572791889301835,
         "_deepnote_index_column": "pretest_1795"
        },
        {
         "CO2_working_capacity [mL/g]": 4.0323665560638675,
         "_deepnote_index_column": "pretest_1796"
        },
        {
         "CO2_working_capacity [mL/g]": 19.789217431639557,
         "_deepnote_index_column": "pretest_1797"
        },
        {
         "CO2_working_capacity [mL/g]": -0.861575446006309,
         "_deepnote_index_column": "pretest_1798"
        },
        {
         "CO2_working_capacity [mL/g]": 2.6514325704448667,
         "_deepnote_index_column": "pretest_1799"
        },
        {
         "CO2_working_capacity [mL/g]": 0.8933007447914825,
         "_deepnote_index_column": "pretest_1800"
        },
        {
         "CO2_working_capacity [mL/g]": 2.695804573023386,
         "_deepnote_index_column": "pretest_1801"
        },
        {
         "CO2_working_capacity [mL/g]": 57.30905932351672,
         "_deepnote_index_column": "pretest_1802"
        },
        {
         "CO2_working_capacity [mL/g]": 6.144218897484069,
         "_deepnote_index_column": "pretest_1803"
        },
        {
         "CO2_working_capacity [mL/g]": 5.986447316829433,
         "_deepnote_index_column": "pretest_1804"
        },
        {
         "CO2_working_capacity [mL/g]": -0.6079909305676822,
         "_deepnote_index_column": "pretest_1805"
        },
        {
         "CO2_working_capacity [mL/g]": -3.453332681304981,
         "_deepnote_index_column": "pretest_1806"
        },
        {
         "CO2_working_capacity [mL/g]": -3.453691579588345,
         "_deepnote_index_column": "pretest_1807"
        },
        {
         "CO2_working_capacity [mL/g]": 0.9476589477230553,
         "_deepnote_index_column": "pretest_1808"
        },
        {
         "CO2_working_capacity [mL/g]": 8.883747878173578,
         "_deepnote_index_column": "pretest_1809"
        },
        {
         "CO2_working_capacity [mL/g]": 1.8755769020492863,
         "_deepnote_index_column": "pretest_1810"
        },
        {
         "CO2_working_capacity [mL/g]": -4.243885793872511,
         "_deepnote_index_column": "pretest_1811"
        },
        {
         "CO2_working_capacity [mL/g]": -7.7301402070886365,
         "_deepnote_index_column": "pretest_1812"
        },
        {
         "CO2_working_capacity [mL/g]": 0.4898734933421228,
         "_deepnote_index_column": "pretest_1813"
        },
        {
         "CO2_working_capacity [mL/g]": -12.871170100735212,
         "_deepnote_index_column": "pretest_1814"
        },
        {
         "CO2_working_capacity [mL/g]": -4.853226640117307,
         "_deepnote_index_column": "pretest_1815"
        },
        {
         "CO2_working_capacity [mL/g]": -8.68102888269374,
         "_deepnote_index_column": "pretest_1816"
        },
        {
         "CO2_working_capacity [mL/g]": -4.939658092222076,
         "_deepnote_index_column": "pretest_1817"
        },
        {
         "CO2_working_capacity [mL/g]": 8.221026680252239,
         "_deepnote_index_column": "pretest_1818"
        },
        {
         "CO2_working_capacity [mL/g]": -0.9579805777893792,
         "_deepnote_index_column": "pretest_1819"
        },
        {
         "CO2_working_capacity [mL/g]": 3.0935821241025407,
         "_deepnote_index_column": "pretest_1820"
        },
        {
         "CO2_working_capacity [mL/g]": 0.23975728887302977,
         "_deepnote_index_column": "pretest_1821"
        },
        {
         "CO2_working_capacity [mL/g]": 21.79043475989415,
         "_deepnote_index_column": "pretest_1822"
        },
        {
         "CO2_working_capacity [mL/g]": 10.069432965282267,
         "_deepnote_index_column": "pretest_1823"
        },
        {
         "CO2_working_capacity [mL/g]": 2.4840886691208217,
         "_deepnote_index_column": "pretest_1824"
        },
        {
         "CO2_working_capacity [mL/g]": 2.4209587966043435,
         "_deepnote_index_column": "pretest_1825"
        },
        {
         "CO2_working_capacity [mL/g]": -1.4853748102016255,
         "_deepnote_index_column": "pretest_1826"
        },
        {
         "CO2_working_capacity [mL/g]": -1.8515225424856099,
         "_deepnote_index_column": "pretest_1827"
        },
        {
         "CO2_working_capacity [mL/g]": 1.5804829160478286,
         "_deepnote_index_column": "pretest_1828"
        },
        {
         "CO2_working_capacity [mL/g]": -4.7479978471342505,
         "_deepnote_index_column": "pretest_1829"
        },
        {
         "CO2_working_capacity [mL/g]": 3.6835599367220118,
         "_deepnote_index_column": "pretest_1830"
        },
        {
         "CO2_working_capacity [mL/g]": 51.57680207394128,
         "_deepnote_index_column": "pretest_1831"
        },
        {
         "CO2_working_capacity [mL/g]": -3.775381100887772,
         "_deepnote_index_column": "pretest_1832"
        },
        {
         "CO2_working_capacity [mL/g]": 2.957798692182099,
         "_deepnote_index_column": "pretest_1833"
        },
        {
         "CO2_working_capacity [mL/g]": -3.2323731380864045,
         "_deepnote_index_column": "pretest_1834"
        },
        {
         "CO2_working_capacity [mL/g]": -1.8808568764006575,
         "_deepnote_index_column": "pretest_1835"
        },
        {
         "CO2_working_capacity [mL/g]": 2.6252646624345357,
         "_deepnote_index_column": "pretest_1836"
        },
        {
         "CO2_working_capacity [mL/g]": -0.6591026654438994,
         "_deepnote_index_column": "pretest_1837"
        },
        {
         "CO2_working_capacity [mL/g]": -9.04025746506516,
         "_deepnote_index_column": "pretest_1838"
        },
        {
         "CO2_working_capacity [mL/g]": 2.9792282394113414,
         "_deepnote_index_column": "pretest_1839"
        },
        {
         "CO2_working_capacity [mL/g]": -1.680979150700467,
         "_deepnote_index_column": "pretest_1840"
        },
        {
         "CO2_working_capacity [mL/g]": -13.894467890673173,
         "_deepnote_index_column": "pretest_1841"
        },
        {
         "CO2_working_capacity [mL/g]": -9.28123734584784,
         "_deepnote_index_column": "pretest_1842"
        },
        {
         "CO2_working_capacity [mL/g]": -1.313782781464324,
         "_deepnote_index_column": "pretest_1843"
        },
        {
         "CO2_working_capacity [mL/g]": 1.4012471022516633,
         "_deepnote_index_column": "pretest_1844"
        },
        {
         "CO2_working_capacity [mL/g]": -12.558537824348557,
         "_deepnote_index_column": "pretest_1845"
        },
        {
         "CO2_working_capacity [mL/g]": -3.187391565860614,
         "_deepnote_index_column": "pretest_1846"
        },
        {
         "CO2_working_capacity [mL/g]": -0.8827283820905178,
         "_deepnote_index_column": "pretest_1847"
        },
        {
         "CO2_working_capacity [mL/g]": 2.930016580169793,
         "_deepnote_index_column": "pretest_1848"
        },
        {
         "CO2_working_capacity [mL/g]": -10.494944984222409,
         "_deepnote_index_column": "pretest_1849"
        },
        {
         "CO2_working_capacity [mL/g]": 1.619414668386197,
         "_deepnote_index_column": "pretest_1850"
        },
        {
         "CO2_working_capacity [mL/g]": 21.538925418610408,
         "_deepnote_index_column": "pretest_1851"
        },
        {
         "CO2_working_capacity [mL/g]": 13.81309975519902,
         "_deepnote_index_column": "pretest_1852"
        },
        {
         "CO2_working_capacity [mL/g]": 7.883838706838528,
         "_deepnote_index_column": "pretest_1853"
        },
        {
         "CO2_working_capacity [mL/g]": 9.168356942714002,
         "_deepnote_index_column": "pretest_1854"
        },
        {
         "CO2_working_capacity [mL/g]": 36.66547324408463,
         "_deepnote_index_column": "pretest_1855"
        },
        {
         "CO2_working_capacity [mL/g]": -1.8375634156768896,
         "_deepnote_index_column": "pretest_1856"
        },
        {
         "CO2_working_capacity [mL/g]": 1.6988662730586828,
         "_deepnote_index_column": "pretest_1857"
        },
        {
         "CO2_working_capacity [mL/g]": 19.188169359017856,
         "_deepnote_index_column": "pretest_1858"
        },
        {
         "CO2_working_capacity [mL/g]": 0.47441024875160986,
         "_deepnote_index_column": "pretest_1859"
        },
        {
         "CO2_working_capacity [mL/g]": 35.218527703490594,
         "_deepnote_index_column": "pretest_1860"
        },
        {
         "CO2_working_capacity [mL/g]": -3.658135371833587,
         "_deepnote_index_column": "pretest_1861"
        },
        {
         "CO2_working_capacity [mL/g]": 0.04236462981269083,
         "_deepnote_index_column": "pretest_1862"
        },
        {
         "CO2_working_capacity [mL/g]": 4.095267301142857,
         "_deepnote_index_column": "pretest_1863"
        },
        {
         "CO2_working_capacity [mL/g]": 1.3080535544240453,
         "_deepnote_index_column": "pretest_1864"
        },
        {
         "CO2_working_capacity [mL/g]": -5.288089845278859,
         "_deepnote_index_column": "pretest_1865"
        },
        {
         "CO2_working_capacity [mL/g]": 2.4976765848227704,
         "_deepnote_index_column": "pretest_1866"
        },
        {
         "CO2_working_capacity [mL/g]": -0.1790672911485897,
         "_deepnote_index_column": "pretest_1867"
        },
        {
         "CO2_working_capacity [mL/g]": -7.677095526651206,
         "_deepnote_index_column": "pretest_1868"
        },
        {
         "CO2_working_capacity [mL/g]": -2.2737839803826403,
         "_deepnote_index_column": "pretest_1869"
        },
        {
         "CO2_working_capacity [mL/g]": -5.089111505108721,
         "_deepnote_index_column": "pretest_1870"
        },
        {
         "CO2_working_capacity [mL/g]": 2.005998851889077,
         "_deepnote_index_column": "pretest_1871"
        },
        {
         "CO2_working_capacity [mL/g]": -2.554786176176888,
         "_deepnote_index_column": "pretest_1872"
        },
        {
         "CO2_working_capacity [mL/g]": -2.6395868475197513,
         "_deepnote_index_column": "pretest_1873"
        },
        {
         "CO2_working_capacity [mL/g]": 0.08902479015819972,
         "_deepnote_index_column": "pretest_1874"
        },
        {
         "CO2_working_capacity [mL/g]": 6.49826405704357,
         "_deepnote_index_column": "pretest_1875"
        },
        {
         "CO2_working_capacity [mL/g]": 4.586496893314192,
         "_deepnote_index_column": "pretest_1876"
        },
        {
         "CO2_working_capacity [mL/g]": 3.4336720071336075,
         "_deepnote_index_column": "pretest_1877"
        },
        {
         "CO2_working_capacity [mL/g]": -8.976061684160664,
         "_deepnote_index_column": "pretest_1878"
        },
        {
         "CO2_working_capacity [mL/g]": -1.4612312196317847,
         "_deepnote_index_column": "pretest_1879"
        },
        {
         "CO2_working_capacity [mL/g]": -1.614321076452317,
         "_deepnote_index_column": "pretest_1880"
        },
        {
         "CO2_working_capacity [mL/g]": -4.988648496057177,
         "_deepnote_index_column": "pretest_1881"
        },
        {
         "CO2_working_capacity [mL/g]": -12.766142787342348,
         "_deepnote_index_column": "pretest_1882"
        },
        {
         "CO2_working_capacity [mL/g]": 38.463288005659926,
         "_deepnote_index_column": "pretest_1883"
        },
        {
         "CO2_working_capacity [mL/g]": -1.0567887432751366,
         "_deepnote_index_column": "pretest_1884"
        },
        {
         "CO2_working_capacity [mL/g]": -4.476704100548049,
         "_deepnote_index_column": "pretest_1885"
        },
        {
         "CO2_working_capacity [mL/g]": 0.37716849796562835,
         "_deepnote_index_column": "pretest_1886"
        },
        {
         "CO2_working_capacity [mL/g]": 4.480859344986454,
         "_deepnote_index_column": "pretest_1887"
        },
        {
         "CO2_working_capacity [mL/g]": 2.395181040466438,
         "_deepnote_index_column": "pretest_1888"
        },
        {
         "CO2_working_capacity [mL/g]": -5.865464069413191,
         "_deepnote_index_column": "pretest_1889"
        },
        {
         "CO2_working_capacity [mL/g]": -1.6259464929145824,
         "_deepnote_index_column": "pretest_1890"
        },
        {
         "CO2_working_capacity [mL/g]": -2.6463065446857645,
         "_deepnote_index_column": "pretest_1891"
        },
        {
         "CO2_working_capacity [mL/g]": -2.094329270610925,
         "_deepnote_index_column": "pretest_1892"
        },
        {
         "CO2_working_capacity [mL/g]": 1.0695199601376584,
         "_deepnote_index_column": "pretest_1893"
        },
        {
         "CO2_working_capacity [mL/g]": -3.1975409983294396,
         "_deepnote_index_column": "pretest_1894"
        },
        {
         "CO2_working_capacity [mL/g]": -1.077396713714468,
         "_deepnote_index_column": "pretest_1895"
        },
        {
         "CO2_working_capacity [mL/g]": 5.0934764068204945,
         "_deepnote_index_column": "pretest_1896"
        },
        {
         "CO2_working_capacity [mL/g]": 1.905743014086749,
         "_deepnote_index_column": "pretest_1897"
        },
        {
         "CO2_working_capacity [mL/g]": 34.38469835486233,
         "_deepnote_index_column": "pretest_1898"
        },
        {
         "CO2_working_capacity [mL/g]": -13.863056593334678,
         "_deepnote_index_column": "pretest_1899"
        },
        {
         "CO2_working_capacity [mL/g]": -1.604962268546231,
         "_deepnote_index_column": "pretest_1900"
        },
        {
         "CO2_working_capacity [mL/g]": -1.6113835945494968,
         "_deepnote_index_column": "pretest_1901"
        },
        {
         "CO2_working_capacity [mL/g]": -5.43682560825807,
         "_deepnote_index_column": "pretest_1902"
        },
        {
         "CO2_working_capacity [mL/g]": 12.764933515267241,
         "_deepnote_index_column": "pretest_1903"
        },
        {
         "CO2_working_capacity [mL/g]": -1.9149679774721557,
         "_deepnote_index_column": "pretest_1904"
        },
        {
         "CO2_working_capacity [mL/g]": 23.199471558841193,
         "_deepnote_index_column": "pretest_1905"
        },
        {
         "CO2_working_capacity [mL/g]": -8.762632765500147,
         "_deepnote_index_column": "pretest_1906"
        },
        {
         "CO2_working_capacity [mL/g]": -0.43578075794138565,
         "_deepnote_index_column": "pretest_1907"
        },
        {
         "CO2_working_capacity [mL/g]": 11.400826892712741,
         "_deepnote_index_column": "pretest_1908"
        },
        {
         "CO2_working_capacity [mL/g]": -6.506106084166395,
         "_deepnote_index_column": "pretest_1909"
        },
        {
         "CO2_working_capacity [mL/g]": 2.3527982615016696,
         "_deepnote_index_column": "pretest_1910"
        },
        {
         "CO2_working_capacity [mL/g]": 5.471045903223532,
         "_deepnote_index_column": "pretest_1911"
        },
        {
         "CO2_working_capacity [mL/g]": 6.329832062024113,
         "_deepnote_index_column": "pretest_1912"
        },
        {
         "CO2_working_capacity [mL/g]": 0.6479600573658453,
         "_deepnote_index_column": "pretest_1913"
        },
        {
         "CO2_working_capacity [mL/g]": -5.9544137624162135,
         "_deepnote_index_column": "pretest_1914"
        },
        {
         "CO2_working_capacity [mL/g]": 6.972899793776341,
         "_deepnote_index_column": "pretest_1915"
        },
        {
         "CO2_working_capacity [mL/g]": 10.95609713764504,
         "_deepnote_index_column": "pretest_1916"
        },
        {
         "CO2_working_capacity [mL/g]": -2.1635439751712258,
         "_deepnote_index_column": "pretest_1917"
        },
        {
         "CO2_working_capacity [mL/g]": 4.083509243277986,
         "_deepnote_index_column": "pretest_1918"
        },
        {
         "CO2_working_capacity [mL/g]": 2.9464982875996606,
         "_deepnote_index_column": "pretest_1919"
        },
        {
         "CO2_working_capacity [mL/g]": -2.709013683114378,
         "_deepnote_index_column": "pretest_1920"
        },
        {
         "CO2_working_capacity [mL/g]": 4.8896623392721725,
         "_deepnote_index_column": "pretest_1921"
        },
        {
         "CO2_working_capacity [mL/g]": -4.187877619104066,
         "_deepnote_index_column": "pretest_1922"
        },
        {
         "CO2_working_capacity [mL/g]": 6.255511989570433,
         "_deepnote_index_column": "pretest_1923"
        },
        {
         "CO2_working_capacity [mL/g]": 2.963369425930139,
         "_deepnote_index_column": "pretest_1924"
        },
        {
         "CO2_working_capacity [mL/g]": -3.4678383325099036,
         "_deepnote_index_column": "pretest_1925"
        },
        {
         "CO2_working_capacity [mL/g]": 7.152979961933059,
         "_deepnote_index_column": "pretest_1926"
        },
        {
         "CO2_working_capacity [mL/g]": -3.9388801763489902,
         "_deepnote_index_column": "pretest_1927"
        },
        {
         "CO2_working_capacity [mL/g]": 31.071907593710797,
         "_deepnote_index_column": "pretest_1928"
        },
        {
         "CO2_working_capacity [mL/g]": 1.8607820586224446,
         "_deepnote_index_column": "pretest_1929"
        },
        {
         "CO2_working_capacity [mL/g]": -4.757336484875938,
         "_deepnote_index_column": "pretest_1930"
        },
        {
         "CO2_working_capacity [mL/g]": -5.4043955430192385,
         "_deepnote_index_column": "pretest_1931"
        },
        {
         "CO2_working_capacity [mL/g]": -3.1160554467768184,
         "_deepnote_index_column": "pretest_1932"
        },
        {
         "CO2_working_capacity [mL/g]": 3.5458277496982102,
         "_deepnote_index_column": "pretest_1933"
        },
        {
         "CO2_working_capacity [mL/g]": -1.6827480040817167,
         "_deepnote_index_column": "pretest_1934"
        },
        {
         "CO2_working_capacity [mL/g]": 4.0664957413528935,
         "_deepnote_index_column": "pretest_1935"
        },
        {
         "CO2_working_capacity [mL/g]": -4.448975188010064,
         "_deepnote_index_column": "pretest_1936"
        },
        {
         "CO2_working_capacity [mL/g]": -3.362848831638195,
         "_deepnote_index_column": "pretest_1937"
        },
        {
         "CO2_working_capacity [mL/g]": -1.16889411808846,
         "_deepnote_index_column": "pretest_1938"
        },
        {
         "CO2_working_capacity [mL/g]": 1.9546795753037616,
         "_deepnote_index_column": "pretest_1939"
        },
        {
         "CO2_working_capacity [mL/g]": -4.449162925111559,
         "_deepnote_index_column": "pretest_1940"
        },
        {
         "CO2_working_capacity [mL/g]": 4.2437650862634495,
         "_deepnote_index_column": "pretest_1941"
        },
        {
         "CO2_working_capacity [mL/g]": 4.955112466889753,
         "_deepnote_index_column": "pretest_1942"
        },
        {
         "CO2_working_capacity [mL/g]": -0.9004781156683113,
         "_deepnote_index_column": "pretest_1943"
        },
        {
         "CO2_working_capacity [mL/g]": 3.053907747281295,
         "_deepnote_index_column": "pretest_1944"
        },
        {
         "CO2_working_capacity [mL/g]": 6.995497620951937,
         "_deepnote_index_column": "pretest_1945"
        },
        {
         "CO2_working_capacity [mL/g]": -8.284208265122079,
         "_deepnote_index_column": "pretest_1946"
        },
        {
         "CO2_working_capacity [mL/g]": 0.46231701336511727,
         "_deepnote_index_column": "pretest_1947"
        },
        {
         "CO2_working_capacity [mL/g]": -5.44223335192286,
         "_deepnote_index_column": "pretest_1948"
        },
        {
         "CO2_working_capacity [mL/g]": 5.363224222606608,
         "_deepnote_index_column": "pretest_1949"
        },
        {
         "CO2_working_capacity [mL/g]": 2.080688925190741,
         "_deepnote_index_column": "pretest_1950"
        },
        {
         "CO2_working_capacity [mL/g]": -4.0001615979813065,
         "_deepnote_index_column": "pretest_1951"
        },
        {
         "CO2_working_capacity [mL/g]": -3.268134598442342,
         "_deepnote_index_column": "pretest_1952"
        },
        {
         "CO2_working_capacity [mL/g]": 63.757249218458675,
         "_deepnote_index_column": "pretest_1953"
        },
        {
         "CO2_working_capacity [mL/g]": 2.5031665917422914,
         "_deepnote_index_column": "pretest_1954"
        },
        {
         "CO2_working_capacity [mL/g]": -11.54261618843769,
         "_deepnote_index_column": "pretest_1955"
        },
        {
         "CO2_working_capacity [mL/g]": -0.014251402362261982,
         "_deepnote_index_column": "pretest_1956"
        },
        {
         "CO2_working_capacity [mL/g]": 8.726046697454958,
         "_deepnote_index_column": "pretest_1957"
        },
        {
         "CO2_working_capacity [mL/g]": 6.3852576318185035,
         "_deepnote_index_column": "pretest_1958"
        },
        {
         "CO2_working_capacity [mL/g]": -3.8004651047817117,
         "_deepnote_index_column": "pretest_1959"
        },
        {
         "CO2_working_capacity [mL/g]": 3.2861641195747917,
         "_deepnote_index_column": "pretest_1960"
        },
        {
         "CO2_working_capacity [mL/g]": 7.73756120792684,
         "_deepnote_index_column": "pretest_1961"
        },
        {
         "CO2_working_capacity [mL/g]": 8.392460035007705,
         "_deepnote_index_column": "pretest_1962"
        },
        {
         "CO2_working_capacity [mL/g]": -14.648741071715344,
         "_deepnote_index_column": "pretest_1963"
        },
        {
         "CO2_working_capacity [mL/g]": 7.625092981578189,
         "_deepnote_index_column": "pretest_1964"
        },
        {
         "CO2_working_capacity [mL/g]": -5.477661122513821,
         "_deepnote_index_column": "pretest_1965"
        },
        {
         "CO2_working_capacity [mL/g]": -4.912603956812497,
         "_deepnote_index_column": "pretest_1966"
        },
        {
         "CO2_working_capacity [mL/g]": 47.313118320410595,
         "_deepnote_index_column": "pretest_1967"
        },
        {
         "CO2_working_capacity [mL/g]": -1.0716345306059474,
         "_deepnote_index_column": "pretest_1968"
        },
        {
         "CO2_working_capacity [mL/g]": -1.8545433513050644,
         "_deepnote_index_column": "pretest_1969"
        },
        {
         "CO2_working_capacity [mL/g]": 6.733311866660223,
         "_deepnote_index_column": "pretest_1970"
        },
        {
         "CO2_working_capacity [mL/g]": 19.774374668137746,
         "_deepnote_index_column": "pretest_1971"
        },
        {
         "CO2_working_capacity [mL/g]": 5.79028439336186,
         "_deepnote_index_column": "pretest_1972"
        },
        {
         "CO2_working_capacity [mL/g]": 1.0659870433187748,
         "_deepnote_index_column": "pretest_1973"
        },
        {
         "CO2_working_capacity [mL/g]": -3.4675697885228765,
         "_deepnote_index_column": "pretest_1974"
        },
        {
         "CO2_working_capacity [mL/g]": -8.023292623457579,
         "_deepnote_index_column": "pretest_1975"
        },
        {
         "CO2_working_capacity [mL/g]": -3.6508857219152695,
         "_deepnote_index_column": "pretest_1976"
        },
        {
         "CO2_working_capacity [mL/g]": -6.6808446153404875,
         "_deepnote_index_column": "pretest_1977"
        },
        {
         "CO2_working_capacity [mL/g]": 35.385756446175364,
         "_deepnote_index_column": "pretest_1978"
        },
        {
         "CO2_working_capacity [mL/g]": -3.182962499430494,
         "_deepnote_index_column": "pretest_1979"
        },
        {
         "CO2_working_capacity [mL/g]": -1.809632093273047,
         "_deepnote_index_column": "pretest_1980"
        },
        {
         "CO2_working_capacity [mL/g]": 4.115553821558264,
         "_deepnote_index_column": "pretest_1981"
        },
        {
         "CO2_working_capacity [mL/g]": 2.177545233532178,
         "_deepnote_index_column": "pretest_1982"
        },
        {
         "CO2_working_capacity [mL/g]": -1.2324059354264383,
         "_deepnote_index_column": "pretest_1983"
        },
        {
         "CO2_working_capacity [mL/g]": -11.15029807135842,
         "_deepnote_index_column": "pretest_1984"
        },
        {
         "CO2_working_capacity [mL/g]": -0.7137639957475495,
         "_deepnote_index_column": "pretest_1985"
        },
        {
         "CO2_working_capacity [mL/g]": 1.3857851179977347,
         "_deepnote_index_column": "pretest_1986"
        },
        {
         "CO2_working_capacity [mL/g]": -2.606341322358618,
         "_deepnote_index_column": "pretest_1987"
        },
        {
         "CO2_working_capacity [mL/g]": -3.4414491590473646,
         "_deepnote_index_column": "pretest_1988"
        },
        {
         "CO2_working_capacity [mL/g]": 3.7862342870906036,
         "_deepnote_index_column": "pretest_1989"
        },
        {
         "CO2_working_capacity [mL/g]": -5.386586315748271,
         "_deepnote_index_column": "pretest_1990"
        },
        {
         "CO2_working_capacity [mL/g]": 3.1745957106006664,
         "_deepnote_index_column": "pretest_1991"
        },
        {
         "CO2_working_capacity [mL/g]": -4.389032983655088,
         "_deepnote_index_column": "pretest_1992"
        },
        {
         "CO2_working_capacity [mL/g]": 24.934046982344867,
         "_deepnote_index_column": "pretest_1993"
        },
        {
         "CO2_working_capacity [mL/g]": 1.6849120100219352,
         "_deepnote_index_column": "pretest_1994"
        },
        {
         "CO2_working_capacity [mL/g]": -4.566312933228976,
         "_deepnote_index_column": "pretest_1995"
        },
        {
         "CO2_working_capacity [mL/g]": 1.1770912281841388,
         "_deepnote_index_column": "pretest_1996"
        },
        {
         "CO2_working_capacity [mL/g]": 3.387031426935703,
         "_deepnote_index_column": "pretest_1997"
        },
        {
         "CO2_working_capacity [mL/g]": -0.3181645409523522,
         "_deepnote_index_column": "pretest_1998"
        },
        {
         "CO2_working_capacity [mL/g]": -8.300228195276587,
         "_deepnote_index_column": "pretest_1999"
        },
        {
         "CO2_working_capacity [mL/g]": 47.90029113815046,
         "_deepnote_index_column": "pretest_2000"
        }
       ]
      },
      "text/plain": "              CO2_working_capacity [mL/g]\nid                                       \npretest_1                      107.802950\npretest_2                      127.749714\npretest_3                      195.325979\npretest_4                       63.653623\npretest_5                       95.363564\n...                                   ...\npretest_1996                     1.177091\npretest_1997                     3.387031\npretest_1998                    -0.318165\npretest_1999                    -8.300228\npretest_2000                    47.900291\n\n[2000 rows x 1 columns]",
      "text/html": "<div>\n<style scoped>\n    .dataframe tbody tr th:only-of-type {\n        vertical-align: middle;\n    }\n\n    .dataframe tbody tr th {\n        vertical-align: top;\n    }\n\n    .dataframe thead th {\n        text-align: right;\n    }\n</style>\n<table border=\"1\" class=\"dataframe\">\n  <thead>\n    <tr style=\"text-align: right;\">\n      <th></th>\n      <th>CO2_working_capacity [mL/g]</th>\n    </tr>\n    <tr>\n      <th>id</th>\n      <th></th>\n    </tr>\n  </thead>\n  <tbody>\n    <tr>\n      <th>pretest_1</th>\n      <td>107.802950</td>\n    </tr>\n    <tr>\n      <th>pretest_2</th>\n      <td>127.749714</td>\n    </tr>\n    <tr>\n      <th>pretest_3</th>\n      <td>195.325979</td>\n    </tr>\n    <tr>\n      <th>pretest_4</th>\n      <td>63.653623</td>\n    </tr>\n    <tr>\n      <th>pretest_5</th>\n      <td>95.363564</td>\n    </tr>\n    <tr>\n      <th>...</th>\n      <td>...</td>\n    </tr>\n    <tr>\n      <th>pretest_1996</th>\n      <td>1.177091</td>\n    </tr>\n    <tr>\n      <th>pretest_1997</th>\n      <td>3.387031</td>\n    </tr>\n    <tr>\n      <th>pretest_1998</th>\n      <td>-0.318165</td>\n    </tr>\n    <tr>\n      <th>pretest_1999</th>\n      <td>-8.300228</td>\n    </tr>\n    <tr>\n      <th>pretest_2000</th>\n      <td>47.900291</td>\n    </tr>\n  </tbody>\n</table>\n<p>2000 rows × 1 columns</p>\n</div>"
     },
     "metadata": {}
    }
   ],
   "execution_count": null
  },
  {
   "cell_type": "code",
   "metadata": {
    "tags": [],
    "deepnote_to_be_reexecuted": false,
    "source_hash": "8330eb30",
    "execution_start": 1632848710581,
    "execution_millis": 0,
    "cell_id": "00038-fbb51fba-41bc-4b97-896c-b0586cdc812b",
    "deepnote_cell_type": "code"
   },
   "source": "sub.to_csv(\"submission.csv\")",
   "outputs": [],
   "execution_count": null
  },
  {
   "cell_type": "code",
   "metadata": {
    "tags": [],
    "deepnote_to_be_reexecuted": false,
    "source_hash": "c11ec714",
    "execution_start": 1632848710581,
    "execution_millis": 86,
    "cell_id": "00039-f9aa2a1d-1ab7-473b-b9a8-d766aff80e20",
    "deepnote_cell_type": "code"
   },
   "source": "import zipfile\nimport hashlib\n \n\nsha256_hash = hashlib.sha256()\nwith open(\"submission.csv\",\"rb\") as f:\n    # Read and update hash string value in blocks of 4K\n    for byte_block in iter(lambda: f.read(4096),b\"\"):\n        sha256_hash.update(byte_block)\n    hash_str = sha256_hash.hexdigest()\n\nprint(hash_str)\nzipfile.ZipFile(f'{hash_str}.zip', mode='w').write(\"submission.csv\")",
   "outputs": [
    {
     "name": "stdout",
     "text": "c3ec960477e07bbd27988651d02c5b4377a74285d87701a3842a64dad968e917\n",
     "output_type": "stream"
    }
   ],
   "execution_count": null
  },
  {
   "cell_type": "code",
   "metadata": {
    "tags": [],
    "cell_id": "00043-afdbb412-4158-4cc8-9481-92272b966fed",
    "deepnote_to_be_reexecuted": false,
    "source_hash": "94e2d853",
    "execution_start": 1632848710582,
    "execution_millis": 0,
    "deepnote_cell_type": "code"
   },
   "source": "# !rm -rf *.zip",
   "outputs": [],
   "execution_count": null
  },
  {
   "cell_type": "markdown",
   "source": "<a style='text-decoration:none;line-height:16px;display:flex;color:#5B5B62;padding:10px;justify-content:end;' href='https://deepnote.com?utm_source=created-in-deepnote-cell&projectId=e59b976c-8525-4130-bc49-8505c94328e0' target=\"_blank\">\n<img alt='Created in deepnote.com' style='display:inline;max-height:16px;margin:0px;margin-right:7.5px;' src='data:image/svg+xml;base64,PD94bWwgdmVyc2lvbj0iMS4wIiBlbmNvZGluZz0iVVRGLTgiPz4KPHN2ZyB3aWR0aD0iODBweCIgaGVpZ2h0PSI4MHB4IiB2aWV3Qm94PSIwIDAgODAgODAiIHZlcnNpb249IjEuMSIgeG1sbnM9Imh0dHA6Ly93d3cudzMub3JnLzIwMDAvc3ZnIiB4bWxuczp4bGluaz0iaHR0cDovL3d3dy53My5vcmcvMTk5OS94bGluayI+CiAgICA8IS0tIEdlbmVyYXRvcjogU2tldGNoIDU0LjEgKDc2NDkwKSAtIGh0dHBzOi8vc2tldGNoYXBwLmNvbSAtLT4KICAgIDx0aXRsZT5Hcm91cCAzPC90aXRsZT4KICAgIDxkZXNjPkNyZWF0ZWQgd2l0aCBTa2V0Y2guPC9kZXNjPgogICAgPGcgaWQ9IkxhbmRpbmciIHN0cm9rZT0ibm9uZSIgc3Ryb2tlLXdpZHRoPSIxIiBmaWxsPSJub25lIiBmaWxsLXJ1bGU9ImV2ZW5vZGQiPgogICAgICAgIDxnIGlkPSJBcnRib2FyZCIgdHJhbnNmb3JtPSJ0cmFuc2xhdGUoLTEyMzUuMDAwMDAwLCAtNzkuMDAwMDAwKSI+CiAgICAgICAgICAgIDxnIGlkPSJHcm91cC0zIiB0cmFuc2Zvcm09InRyYW5zbGF0ZSgxMjM1LjAwMDAwMCwgNzkuMDAwMDAwKSI+CiAgICAgICAgICAgICAgICA8cG9seWdvbiBpZD0iUGF0aC0yMCIgZmlsbD0iIzAyNjVCNCIgcG9pbnRzPSIyLjM3NjIzNzYyIDgwIDM4LjA0NzY2NjcgODAgNTcuODIxNzgyMiA3My44MDU3NTkyIDU3LjgyMTc4MjIgMzIuNzU5MjczOSAzOS4xNDAyMjc4IDMxLjY4MzE2ODMiPjwvcG9seWdvbj4KICAgICAgICAgICAgICAgIDxwYXRoIGQ9Ik0zNS4wMDc3MTgsODAgQzQyLjkwNjIwMDcsNzYuNDU0OTM1OCA0Ny41NjQ5MTY3LDcxLjU0MjI2NzEgNDguOTgzODY2LDY1LjI2MTk5MzkgQzUxLjExMjI4OTksNTUuODQxNTg0MiA0MS42NzcxNzk1LDQ5LjIxMjIyODQgMjUuNjIzOTg0Niw0OS4yMTIyMjg0IEMyNS40ODQ5Mjg5LDQ5LjEyNjg0NDggMjkuODI2MTI5Niw0My4yODM4MjQ4IDM4LjY0NzU4NjksMzEuNjgzMTY4MyBMNzIuODcxMjg3MSwzMi41NTQ0MjUgTDY1LjI4MDk3Myw2Ny42NzYzNDIxIEw1MS4xMTIyODk5LDc3LjM3NjE0NCBMMzUuMDA3NzE4LDgwIFoiIGlkPSJQYXRoLTIyIiBmaWxsPSIjMDAyODY4Ij48L3BhdGg+CiAgICAgICAgICAgICAgICA8cGF0aCBkPSJNMCwzNy43MzA0NDA1IEwyNy4xMTQ1MzcsMC4yNTcxMTE0MzYgQzYyLjM3MTUxMjMsLTEuOTkwNzE3MDEgODAsMTAuNTAwMzkyNyA4MCwzNy43MzA0NDA1IEM4MCw2NC45NjA0ODgyIDY0Ljc3NjUwMzgsNzkuMDUwMzQxNCAzNC4zMjk1MTEzLDgwIEM0Ny4wNTUzNDg5LDc3LjU2NzA4MDggNTMuNDE4MjY3Nyw3MC4zMTM2MTAzIDUzLjQxODI2NzcsNTguMjM5NTg4NSBDNTMuNDE4MjY3Nyw0MC4xMjg1NTU3IDM2LjMwMzk1NDQsMzcuNzMwNDQwNSAyNS4yMjc0MTcsMzcuNzMwNDQwNSBDMTcuODQzMDU4NiwzNy43MzA0NDA1IDkuNDMzOTE5NjYsMzcuNzMwNDQwNSAwLDM3LjczMDQ0MDUgWiIgaWQ9IlBhdGgtMTkiIGZpbGw9IiMzNzkzRUYiPjwvcGF0aD4KICAgICAgICAgICAgPC9nPgogICAgICAgIDwvZz4KICAgIDwvZz4KPC9zdmc+' > </img>\nCreated in <span style='font-weight:600;margin-left:4px;'>Deepnote</span></a>",
   "metadata": {
    "tags": [],
    "created_in_deepnote_cell": true,
    "deepnote_cell_type": "markdown"
   }
  }
 ],
 "nbformat": 4,
 "nbformat_minor": 2,
 "metadata": {
  "orig_nbformat": 2,
  "deepnote": {
   "is_reactive": false
  },
  "deepnote_notebook_id": "780dd298-7ca0-4b2f-b368-c5fbfd96baa2",
  "deepnote_execution_queue": []
 }
}