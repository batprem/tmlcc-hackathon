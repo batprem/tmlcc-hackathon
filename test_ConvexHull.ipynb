{
 "cells": [
  {
   "cell_type": "code",
   "metadata": {
    "tags": [],
    "cell_id": "00000-27f21411-0860-4803-b8be-505b26b393ca",
    "deepnote_to_be_reexecuted": false,
    "source_hash": "b3723724",
    "execution_start": 1632415908089,
    "execution_millis": 6,
    "deepnote_cell_type": "code"
   },
   "source": "import numpy as np\nfrom scipy.spatial import ConvexHull\narr1 = [\n    [0, 0, 0],\n    [0, 0, 1],\n    [0, 1, 0],\n    [0.4, 0.5, 0.8],\n    [0, 1, 1],\n    [1, 0, 0],\n    [1, 0, 1],\n    [1, 1, 0],\n    [1, 1, 1]\n]\narr1 = np.asarray(arr1)\nvolume = ConvexHull(arr1).area\nprint (volume)",
   "outputs": [
    {
     "name": "stdout",
     "text": "6.0\n",
     "output_type": "stream"
    }
   ],
   "execution_count": null
  },
  {
   "cell_type": "code",
   "source": "import pickle\n\nwith open(\"preprocessing_results/train/1_10000.pickle\", \"rb\") as f:\n    Train = pickle.load(f)",
   "metadata": {
    "tags": [],
    "cell_id": "00001-28c1e396-9901-4c3d-a0fc-4b2def286ab7",
    "deepnote_to_be_reexecuted": false,
    "source_hash": "158926ae",
    "execution_start": 1632416361802,
    "execution_millis": 3912,
    "deepnote_cell_type": "code"
   },
   "outputs": [],
   "execution_count": null
  },
  {
   "cell_type": "code",
   "source": "import pandas as pd\n\ncif = pd.DataFrame(Train.loc[2, 'cif']['loops'][0])",
   "metadata": {
    "tags": [],
    "cell_id": "00002-c97df9ae-7d7e-4420-9005-a7e96331da7b",
    "deepnote_to_be_reexecuted": false,
    "source_hash": "df4a5869",
    "execution_start": 1632417354402,
    "execution_millis": 3,
    "deepnote_cell_type": "code"
   },
   "outputs": [],
   "execution_count": null
  },
  {
   "cell_type": "code",
   "source": "from scipy.spatial import ConvexHull\nvolume = ConvexHull(cif[['_atom_site_fract_x', '_atom_site_fract_y', '_atom_site_fract_z']])",
   "metadata": {
    "tags": [],
    "cell_id": "00003-2ec54ffe-ecad-47c8-b2d7-0dc06891f7b0",
    "deepnote_to_be_reexecuted": false,
    "source_hash": "aa48cf41",
    "execution_start": 1632417356241,
    "execution_millis": 3,
    "deepnote_cell_type": "code"
   },
   "outputs": [],
   "execution_count": null
  },
  {
   "cell_type": "code",
   "source": "Train['density'] = (Train[\"weight [u]\"] / Train[\"volume [A^3]\"]) * 1.66054 ",
   "metadata": {
    "tags": [],
    "cell_id": "00005-862129b5-0ca3-4135-bb33-7e0376a1fd13",
    "deepnote_to_be_reexecuted": false,
    "source_hash": "671e9085",
    "execution_start": 1632417357694,
    "execution_millis": 6,
    "deepnote_cell_type": "code"
   },
   "outputs": [],
   "execution_count": null
  },
  {
   "cell_type": "code",
   "source": " volume.area/ (Train.loc[2]['density'] * Train.loc[2][\"volume [A^3]\"])",
   "metadata": {
    "tags": [],
    "cell_id": "00004-b229a0d3-60f9-44bc-83e9-5edfd04f064a",
    "deepnote_to_be_reexecuted": false,
    "source_hash": "c47c08be",
    "execution_start": 1632417358773,
    "execution_millis": 7,
    "deepnote_cell_type": "code"
   },
   "outputs": [
    {
     "output_type": "execute_result",
     "execution_count": 55,
     "data": {
      "text/plain": "0.0009755432608448761"
     },
     "metadata": {}
    }
   ],
   "execution_count": null
  },
  {
   "cell_type": "code",
   "source": "",
   "metadata": {
    "tags": [],
    "cell_id": "00005-58b0617d-cba7-4ebd-a10d-05219bd621ec",
    "deepnote_to_be_reexecuted": false,
    "source_hash": "f9134fd6",
    "execution_start": 1632417643954,
    "execution_millis": 32,
    "deepnote_cell_type": "code"
   },
   "outputs": [
    {
     "output_type": "execute_result",
     "execution_count": 60,
     "data": {
      "application/vnd.deepnote.dataframe.v2+json": {
       "row_count": 11,
       "column_count": 2,
       "columns": [
        {
         "name": 0,
         "dtype": "object",
         "stats": {
          "unique_count": 11,
          "nan_count": 0,
          "categories": [
           {
            "name": "_audit_creation_date",
            "count": 1
           },
           {
            "name": "_symmetry_space_group_name_H-M",
            "count": 1
           },
           {
            "name": "9 others",
            "count": 9
           }
          ]
         }
        },
        {
         "name": 1,
         "dtype": "object",
         "stats": {
          "unique_count": 11,
          "nan_count": 0,
          "categories": [
           {
            "name": "2013-03-05T15:53:01-0500",
            "count": 1
           },
           {
            "name": "P1",
            "count": 1
           },
           {
            "name": "9 others",
            "count": 9
           }
          ]
         }
        },
        {
         "name": "_deepnote_index_column",
         "dtype": "int64"
        }
       ],
       "rows_top": [
        {
         "0": "_audit_creation_date",
         "1": "2013-03-05T15:53:01-0500",
         "_deepnote_index_column": 0
        },
        {
         "0": "_symmetry_space_group_name_H-M",
         "1": "P1",
         "_deepnote_index_column": 1
        },
        {
         "0": "_symmetry_Int_Tables_number",
         "1": "1",
         "_deepnote_index_column": 2
        },
        {
         "0": "_space_group_crystal_system",
         "1": "triclinic",
         "_deepnote_index_column": 3
        },
        {
         "0": "_cell_length_a",
         "1": "8.463295",
         "_deepnote_index_column": 4
        },
        {
         "0": "_cell_length_b",
         "1": "17.684225",
         "_deepnote_index_column": 5
        },
        {
         "0": "_cell_length_c",
         "1": "18.960098",
         "_deepnote_index_column": 6
        },
        {
         "0": "_cell_angle_alpha",
         "1": "100.063446",
         "_deepnote_index_column": 7
        },
        {
         "0": "_cell_angle_beta",
         "1": "91.815775",
         "_deepnote_index_column": 8
        },
        {
         "0": "_cell_angle_gamma",
         "1": "96.94221",
         "_deepnote_index_column": 9
        },
        {
         "0": "_cell_volume",
         "1": "2769.50384235",
         "_deepnote_index_column": 10
        }
       ],
       "rows_bottom": null
      },
      "text/plain": "                                 0                         1\n0             _audit_creation_date  2013-03-05T15:53:01-0500\n1   _symmetry_space_group_name_H-M                        P1\n2      _symmetry_Int_Tables_number                         1\n3      _space_group_crystal_system                 triclinic\n4                   _cell_length_a                  8.463295\n5                   _cell_length_b                 17.684225\n6                   _cell_length_c                 18.960098\n7                _cell_angle_alpha                100.063446\n8                 _cell_angle_beta                 91.815775\n9                _cell_angle_gamma                  96.94221\n10                    _cell_volume             2769.50384235",
      "text/html": "<div>\n<style scoped>\n    .dataframe tbody tr th:only-of-type {\n        vertical-align: middle;\n    }\n\n    .dataframe tbody tr th {\n        vertical-align: top;\n    }\n\n    .dataframe thead th {\n        text-align: right;\n    }\n</style>\n<table border=\"1\" class=\"dataframe\">\n  <thead>\n    <tr style=\"text-align: right;\">\n      <th></th>\n      <th>0</th>\n      <th>1</th>\n    </tr>\n  </thead>\n  <tbody>\n    <tr>\n      <th>0</th>\n      <td>_audit_creation_date</td>\n      <td>2013-03-05T15:53:01-0500</td>\n    </tr>\n    <tr>\n      <th>1</th>\n      <td>_symmetry_space_group_name_H-M</td>\n      <td>P1</td>\n    </tr>\n    <tr>\n      <th>2</th>\n      <td>_symmetry_Int_Tables_number</td>\n      <td>1</td>\n    </tr>\n    <tr>\n      <th>3</th>\n      <td>_space_group_crystal_system</td>\n      <td>triclinic</td>\n    </tr>\n    <tr>\n      <th>4</th>\n      <td>_cell_length_a</td>\n      <td>8.463295</td>\n    </tr>\n    <tr>\n      <th>5</th>\n      <td>_cell_length_b</td>\n      <td>17.684225</td>\n    </tr>\n    <tr>\n      <th>6</th>\n      <td>_cell_length_c</td>\n      <td>18.960098</td>\n    </tr>\n    <tr>\n      <th>7</th>\n      <td>_cell_angle_alpha</td>\n      <td>100.063446</td>\n    </tr>\n    <tr>\n      <th>8</th>\n      <td>_cell_angle_beta</td>\n      <td>91.815775</td>\n    </tr>\n    <tr>\n      <th>9</th>\n      <td>_cell_angle_gamma</td>\n      <td>96.94221</td>\n    </tr>\n    <tr>\n      <th>10</th>\n      <td>_cell_volume</td>\n      <td>2769.50384235</td>\n    </tr>\n  </tbody>\n</table>\n</div>"
     },
     "metadata": {}
    }
   ],
   "execution_count": null
  },
  {
   "cell_type": "code",
   "source": "import numpy as np\n# default global numbers\nE = 1e-3\nPI = np.pi\nangstrom = 1e-10\n\nvdw_radii = {'H': 1.1, 'He': 1.4, 'Li': 1.82, 'Be': 1.53, 'B': 1.92, 'C': 1.7, 'N': 1.55, \n            'O': 1.52, 'F': 1.47, 'Ne': 1.54, 'Na': 2.27, 'Mg': 1.73, 'Al': 1.84, 'Si': 2.1, \n            'P': 1.8, 'S': 1.8, 'Cl': 1.75, 'Ar': 1.88, 'K': 2.75, 'Ca': 2.31, 'Sc': 2.15, 'Ti': 2.11, \n            'V': 2.07, 'Cr': 2.06, 'Mn': 2.05, 'Fe': 2.04, 'Co': 2.0, 'Ni': 1.97, 'Cu': 1.96, 'Zn': 2.01, \n            'Ga': 1.87, 'Ge': 2.11, 'As': 1.85, 'Se': 1.9, 'Br': 1.85, 'Kr': 2.02, 'Rb': 3.03, 'Sr': 2.49, \n            'Y': 2.32, 'Zr': 2.23, 'Nb': 2.18, 'Mo': 2.17, 'Tc': 2.16, 'Ru': 2.13, 'Rh': 2.1, 'Pd': 2.1, \n            'Ag': 2.11, 'Cd': 2.18, 'In': 1.93, 'Sn': 2.17, 'Sb': 2.06, 'Te': 2.06, 'I': 1.98, 'Xe': 2.16, \n            'Cs': 3.43, 'Ba': 2.68, 'La': 2.43, 'Ce': 2.42, 'Pr': 2.4, 'Nd': 2.39, 'Pm': 2.38, 'Sm': 2.36, \n            'Eu': 2.35, 'Gd': 2.34, 'Tb': 2.33, 'Dy': 2.31, 'Ho': 2.3, 'Er': 2.29, 'Tm': 2.27, 'Yb': 2.26, \n            'Lu': 2.24, 'Hf': 2.23, 'Ta': 2.22, 'W': 2.18, 'Re': 2.16, 'Os': 2.16, 'Ir': 2.13, 'Pt': 2.13,\n            'Au': 2.14, 'Hg': 2.23, 'Tl': 1.96, 'Pb': 2.02, 'Bi': 2.07, 'Po': 1.97, 'At': 2.02, 'Rn': 2.2, \n            'Fr': 3.48, 'Ra': 2.83, 'Ac': 2.47, 'Th': 2.45, 'Pa': 2.43, 'U': 2.41, 'Np': 2.39, 'Pu': 2.43, \n            'Am': 2.44, 'Cm': 2.45, 'Bk': 2.44, 'Cf': 2.45, 'Es': 2.45, 'Fm': 2.45, 'Md': 2.46, 'No': 2.46, \n            'Lr': 2.46}",
   "metadata": {
    "tags": [],
    "cell_id": "00007-b8714c24-1e8a-4d34-872b-1d0403dd8d55",
    "deepnote_to_be_reexecuted": false,
    "source_hash": "11342132",
    "execution_start": 1632417466943,
    "execution_millis": 4,
    "deepnote_cell_type": "code"
   },
   "outputs": [],
   "execution_count": null
  },
  {
   "cell_type": "code",
   "source": "def get_box_parameters(\n    a,\n    b,\n    c,\n    alpha_degree,\n    beta_degree,\n    gamma_degree\n):\n    \"\"\"\n    ดึงข้อมูลพารามิเตอร์ของ Unit Cell ของ MOF\n\n    cifname : CIF file\n    \"\"\"\n    \n    alpha_r = alpha_degree * np.pi / 180.0\n    beta_r = beta_degree * np.pi / 180.0\n    gamma_r = gamma_degree * np.pi / 180.0\n\n    return a, b, c, alpha_r, beta_r, gamma_r\n\n",
   "metadata": {
    "tags": [],
    "cell_id": "00008-c2cfde3f-31e4-48d0-adee-9c7d5c80d55e",
    "deepnote_to_be_reexecuted": false,
    "source_hash": "30608e1c",
    "execution_start": 1632417913750,
    "execution_millis": 3,
    "deepnote_cell_type": "code"
   },
   "outputs": [],
   "execution_count": null
  },
  {
   "cell_type": "code",
   "source": "cif_metadata = pd.DataFrame(Train.loc[2, 'cif']['metadata'])\ncif_metadata = cif_metadata.set_index(0)\ncif_metadata",
   "metadata": {
    "tags": [],
    "cell_id": "00009-2d55b561-52ba-4b0a-8e4e-74da85fc2cd7",
    "deepnote_to_be_reexecuted": false,
    "source_hash": "623eb81e",
    "execution_start": 1632417741129,
    "execution_millis": 13,
    "deepnote_cell_type": "code"
   },
   "outputs": [
    {
     "output_type": "execute_result",
     "execution_count": 66,
     "data": {
      "application/vnd.deepnote.dataframe.v2+json": {
       "row_count": 11,
       "column_count": 1,
       "columns": [
        {
         "name": 1,
         "dtype": "object",
         "stats": {
          "unique_count": 11,
          "nan_count": 0,
          "categories": [
           {
            "name": "2013-03-05T15:53:01-0500",
            "count": 1
           },
           {
            "name": "P1",
            "count": 1
           },
           {
            "name": "9 others",
            "count": 9
           }
          ]
         }
        },
        {
         "name": "_deepnote_index_column",
         "dtype": "object"
        }
       ],
       "rows_top": [
        {
         "1": "2013-03-05T15:53:01-0500",
         "_deepnote_index_column": "_audit_creation_date"
        },
        {
         "1": "P1",
         "_deepnote_index_column": "_symmetry_space_group_name_H-M"
        },
        {
         "1": "1",
         "_deepnote_index_column": "_symmetry_Int_Tables_number"
        },
        {
         "1": "triclinic",
         "_deepnote_index_column": "_space_group_crystal_system"
        },
        {
         "1": "8.463295",
         "_deepnote_index_column": "_cell_length_a"
        },
        {
         "1": "17.684225",
         "_deepnote_index_column": "_cell_length_b"
        },
        {
         "1": "18.960098",
         "_deepnote_index_column": "_cell_length_c"
        },
        {
         "1": "100.063446",
         "_deepnote_index_column": "_cell_angle_alpha"
        },
        {
         "1": "91.815775",
         "_deepnote_index_column": "_cell_angle_beta"
        },
        {
         "1": "96.94221",
         "_deepnote_index_column": "_cell_angle_gamma"
        },
        {
         "1": "2769.50384235",
         "_deepnote_index_column": "_cell_volume"
        }
       ],
       "rows_bottom": null
      },
      "text/plain": "                                                       1\n0                                                       \n_audit_creation_date            2013-03-05T15:53:01-0500\n_symmetry_space_group_name_H-M                        P1\n_symmetry_Int_Tables_number                            1\n_space_group_crystal_system                    triclinic\n_cell_length_a                                  8.463295\n_cell_length_b                                 17.684225\n_cell_length_c                                 18.960098\n_cell_angle_alpha                             100.063446\n_cell_angle_beta                               91.815775\n_cell_angle_gamma                               96.94221\n_cell_volume                               2769.50384235",
      "text/html": "<div>\n<style scoped>\n    .dataframe tbody tr th:only-of-type {\n        vertical-align: middle;\n    }\n\n    .dataframe tbody tr th {\n        vertical-align: top;\n    }\n\n    .dataframe thead th {\n        text-align: right;\n    }\n</style>\n<table border=\"1\" class=\"dataframe\">\n  <thead>\n    <tr style=\"text-align: right;\">\n      <th></th>\n      <th>1</th>\n    </tr>\n    <tr>\n      <th>0</th>\n      <th></th>\n    </tr>\n  </thead>\n  <tbody>\n    <tr>\n      <th>_audit_creation_date</th>\n      <td>2013-03-05T15:53:01-0500</td>\n    </tr>\n    <tr>\n      <th>_symmetry_space_group_name_H-M</th>\n      <td>P1</td>\n    </tr>\n    <tr>\n      <th>_symmetry_Int_Tables_number</th>\n      <td>1</td>\n    </tr>\n    <tr>\n      <th>_space_group_crystal_system</th>\n      <td>triclinic</td>\n    </tr>\n    <tr>\n      <th>_cell_length_a</th>\n      <td>8.463295</td>\n    </tr>\n    <tr>\n      <th>_cell_length_b</th>\n      <td>17.684225</td>\n    </tr>\n    <tr>\n      <th>_cell_length_c</th>\n      <td>18.960098</td>\n    </tr>\n    <tr>\n      <th>_cell_angle_alpha</th>\n      <td>100.063446</td>\n    </tr>\n    <tr>\n      <th>_cell_angle_beta</th>\n      <td>91.815775</td>\n    </tr>\n    <tr>\n      <th>_cell_angle_gamma</th>\n      <td>96.94221</td>\n    </tr>\n    <tr>\n      <th>_cell_volume</th>\n      <td>2769.50384235</td>\n    </tr>\n  </tbody>\n</table>\n</div>"
     },
     "metadata": {}
    }
   ],
   "execution_count": null
  },
  {
   "cell_type": "code",
   "source": "cif_metadata.loc['_cell_angle_gamma']",
   "metadata": {
    "tags": [],
    "cell_id": "00010-e3403f83-90fd-44fb-8960-3cf247c97e43",
    "deepnote_to_be_reexecuted": false,
    "source_hash": "b3e55616",
    "execution_start": 1632417755958,
    "execution_millis": 14,
    "deepnote_cell_type": "code"
   },
   "outputs": [
    {
     "output_type": "execute_result",
     "execution_count": 67,
     "data": {
      "text/plain": "1    96.94221\nName: _cell_angle_gamma, dtype: object"
     },
     "metadata": {}
    }
   ],
   "execution_count": null
  },
  {
   "cell_type": "code",
   "source": "float(cif_metadata.loc['_cell_angle_alpha'].iloc[0])",
   "metadata": {
    "tags": [],
    "cell_id": "00011-670dd9de-d3bd-435e-946e-2503c463650d",
    "deepnote_to_be_reexecuted": false,
    "source_hash": "d1465298",
    "execution_start": 1632417976091,
    "execution_millis": 18,
    "deepnote_cell_type": "code"
   },
   "outputs": [
    {
     "output_type": "execute_result",
     "execution_count": 77,
     "data": {
      "text/plain": "100.063446"
     },
     "metadata": {}
    }
   ],
   "execution_count": null
  },
  {
   "cell_type": "code",
   "source": "get_box_parameters(\n    float(cif_metadata.loc['_cell_length_a'].iloc[0]),\n    float(cif_metadata.loc['_cell_length_b'].iloc[0]),\n    float(cif_metadata.loc['_cell_length_c'].iloc[0]),\n    float(cif_metadata.loc['_cell_angle_alpha'].iloc[0]),\n    float(cif_metadata.loc['_cell_angle_beta'].iloc[0]),\n    float(cif_metadata.loc['_cell_angle_gamma'].iloc[0])\n)",
   "metadata": {
    "tags": [],
    "cell_id": "00010-267c31db-0046-4395-8859-8f79cf3428a2",
    "deepnote_to_be_reexecuted": false,
    "source_hash": "70ed646c",
    "execution_start": 1632418112161,
    "execution_millis": 43,
    "deepnote_cell_type": "code"
   },
   "outputs": [
    {
     "output_type": "execute_result",
     "execution_count": 80,
     "data": {
      "text/plain": "(8.463295,\n 17.684225,\n 18.960098,\n 1.7464365935915498,\n 1.6024875790202966,\n 1.691960748659772)"
     },
     "metadata": {}
    }
   ],
   "execution_count": null
  },
  {
   "cell_type": "code",
   "source": "def get_box_matrix(*args):\n    \"\"\"\n    คำนวณ Unit Cell Matrix \n\n    cifname : CIF file\n    \"\"\"\n    a, b, c, alpha_r, beta_r, gamma_r = get_box_parameters(*args)\n\n    a_x = a\n    a_y = 0.0\n    a_z = 0.0\n    b_x = b * np.cos(gamma_r)\n    b_y = b * np.sin(gamma_r)\n    b_z = 0.0\n    c_x = c * np.cos(beta_r)\n    c_y = (b * c * np.cos(alpha_r) - b_x * c_x) / b_y\n    c_z = np.sqrt(c**2 - c_x**2 - c_y**2)\n\n    cell_matrix = np.matrix([\n        [a_x, a_y, a_z], \n        [b_x, b_y, b_z], \n        [c_x, c_y, c_z]], \n        dtype=float)\n\n    crs = np.cross([b_x, b_y, b_z], [c_x, c_y, c_z])\n    inverse_matrix = cell_matrix.I\n    unit_cell_volume = a_x * crs[0] + a_y * crs[1] + a_z * crs[2]\n    \n    return cell_matrix, inverse_matrix, unit_cell_volume",
   "metadata": {
    "tags": [],
    "cell_id": "00013-90c5ea9a-967d-45b8-9401-b6517d497298",
    "deepnote_to_be_reexecuted": false,
    "source_hash": "6c82122",
    "execution_start": 1632418152168,
    "execution_millis": 18,
    "deepnote_cell_type": "code"
   },
   "outputs": [],
   "execution_count": null
  },
  {
   "cell_type": "code",
   "source": "get_box_matrix(\n    float(cif_metadata.loc['_cell_length_a'].iloc[0]),\n    float(cif_metadata.loc['_cell_length_b'].iloc[0]),\n    float(cif_metadata.loc['_cell_length_c'].iloc[0]),\n    float(cif_metadata.loc['_cell_angle_alpha'].iloc[0]),\n    float(cif_metadata.loc['_cell_angle_beta'].iloc[0]),\n    float(cif_metadata.loc['_cell_angle_gamma'].iloc[0])\n)",
   "metadata": {
    "tags": [],
    "cell_id": "00014-410dd3df-9420-427c-9449-29c518f18af6",
    "deepnote_to_be_reexecuted": false,
    "source_hash": "a2ec31b7",
    "execution_start": 1632418169075,
    "execution_millis": 5,
    "deepnote_cell_type": "code"
   },
   "outputs": [
    {
     "output_type": "execute_result",
     "execution_count": 82,
     "data": {
      "text/plain": "(matrix([[ 8.463295  ,  0.        ,  0.        ],\n         [-2.13745998, 17.55457429,  0.        ],\n         [-0.60076867, -3.41067976, 18.6411281 ]]),\n matrix([[0.11815729, 0.        , 0.        ],\n         [0.01438693, 0.05696521, 0.        ],\n         [0.0064403 , 0.01042266, 0.05364482]]),\n 2769.503842350761)"
     },
     "metadata": {}
    }
   ],
   "execution_count": null
  },
  {
   "cell_type": "code",
   "source": "%%timeit\nfrom ase.io import read\n\ndef get_atomic_coordinates(cifname):\n    \"\"\"\n    ดึงข้อมูล atomic symbol และ Cartesian coordinates\n    \"\"\"\n    ase_atoms = read(cifname) \n    return ase_atoms.get_chemical_symbols(), ase_atoms.get_positions()\n\nget_atomic_coordinates(Train.loc[2, 'cif_filepath'])",
   "metadata": {
    "tags": [],
    "cell_id": "00015-1b24daad-801a-48a2-810f-2a574b08b73e",
    "deepnote_to_be_reexecuted": false,
    "source_hash": "8d1504b9",
    "execution_start": 1632418512317,
    "execution_millis": 10741,
    "deepnote_cell_type": "code"
   },
   "outputs": [
    {
     "name": "stderr",
     "text": "/root/venv/lib/python3.8/site-packages/ase/io/cif.py:401: UserWarning: crystal system 'triclinic' is not interpreted for space group 1. This may result in wrong setting!\n  warnings.warn(\n133 ms ± 1.01 ms per loop (mean ± std. dev. of 7 runs, 10 loops each)\n",
     "output_type": "stream"
    }
   ],
   "execution_count": null
  },
  {
   "cell_type": "code",
   "source": "def RandomNumberOnUnitSphere():\n\tthetha = 0.0\n\tphi = 0.0\n\ttheta = 2*PI*np.random.random_sample()\n\tphi = np.arccos(2*np.random.random_sample()-1.0)\n\tx = np.cos(theta)*np.sin(phi)\n\ty = np.sin(theta)*np.sin(phi)\n\tz = np.cos(phi)\n\t\n\treturn x,y,z\n\ndef _dot_product(unit_cell_matrix, atom_positions):\n    s_x = unit_cell_matrix.item(0) * atom_positions[0] + unit_cell_matrix.item(3) * atom_positions[1] + unit_cell_matrix.item(6) * atom_positions[2]\n    s_y = unit_cell_matrix.item(1) * atom_positions[0] + unit_cell_matrix.item(4) * atom_positions[1] + unit_cell_matrix.item(7) * atom_positions[2]\n    s_z = unit_cell_matrix.item(2) * atom_positions[0] + unit_cell_matrix.item(5) * atom_positions[1] + unit_cell_matrix.item(8) * atom_positions[2]\n    new_coord = np.array([s_x, s_y, s_z], float)\n    \n    return new_coord\n\n\ndef ApplyBoundaryConditions(vec2, pos, cell_matrix):\n\tw = [0,0,0]\n\tx = [0,0,0]\n\tvec2 = copy.deepcopy(np.asarray(vec2))\n\tinverse_matrix2 = copy.deepcopy(np.asarray(inverse_matrix))\n\tfractional = _dot_product(inverse_matrix, vec2)\n\t# apply boundary conditions\n\tx[0] = fractional[0] - np.rint(fractional[0])\n\tx[1] = fractional[1] - np.rint(fractional[1])\n\tx[2] = fractional[2] - np.rint(fractional[2])\n\tcartesian = _dot_product(cell_matrix,x)\n\t\n\treturn cartesian\n\n\ndef CheckSurfaceAreaOverlap(pAtom, pos, cell_matrix, atom_type, vdW_pAtom, fAtom_b):\n\t\"\"\"\n\tตรวจสอบว่า Probe กับอะตอมซ้อนทับกันไหม\n\t\"\"\"\n\twell_depth_factor = 1.0\n\tfAtom_o = [0,0,0]\n\tdistance = [0,0,0]\n\t# start enumerating all atoms in the object\n\tfor i, elem in enumerate(pos):\n\t\tfAtom_o = copy.deepcopy(elem)\n\t\tif not np.array_equal(fAtom_o,fAtom_b):\n\t\t\tvdW_fAtom = vdw_radii.get(atom_type[i])\n\t\t\tequilibrium_distance = well_depth_factor * 0.5 * (vdW_pAtom + vdW_fAtom)\n\t\t\tfAtom_o = _dot_product(cell_matrix,fAtom_o)\n\t\t\tdistance[0] = pAtom[0] - fAtom_o[0]\n\t\t\tdistance[1] = pAtom[1] - fAtom_o[1]\n\t\t\tdistance[2] = pAtom[2] - fAtom_o[2]\n\t\t\tdr = ApplyBoundaryConditions(distance, pos, cell_matrix)\n\t\t\trr = (dr[0] * dr[0]) + (dr[1] * dr[1]) + (dr[2] * dr[2])\n\t\t\tif rr < (equilibrium_distance * equilibrium_distance):\n\t\t\t\treturn True\n\t\t\t\t\n\treturn False\n\n\ndef gsa(atom_type, pos, cell_matrix, inverse_matrix, unit_cell_volume, probe_diameter=1.0, nSample=20, equilibrium_distance=0.0, InsertTypeOfAtoms=None):\n\t\n\t\"\"\"\n\tComputes geometric surface area (GSA) of atoms. Return GSA in m^2/cm^3.\n\n\tatom_type : type of atom\n\tpos : coordinates\n\tcell_matrix : Crystall cell matrix (A, B, C)\n\tinverse_matrix: Inverse of crystall cell matrix\n\tprobe_diameter : Diameter of a probe\n\tnSample : Number of sample probes\n\tequilibrium_distance = Equilibrium distance upon probe and atom in structure\n\tInsertTypeOfAtoms = Type of atom insert\n\t\"\"\"\n\ttotal = 0.0\n\tcounted = 0.0\n\tvec = []\n\texamined_coordinates = []\n\tSurfaceAreaAverage = 0.0\n\twell_depth_factor = 1.0\n\t\n\t# start enumerating all atoms in the framework\n\tfor i, elem in enumerate(atom_type):\n\t\ttotal=0.0\n\t\tcounted=0.0\n\t\tif np.linalg.norm([pos[i][0], pos[i][1], pos[i][2]]) not in examined_coordinates:\n\t\t\t# check atomType to see if we want to insert probes around the atom\n\t\t\tif InsertTypeOfAtoms is atom_type[i]:\n\t\t\t\tvdW_fAtom = vdw_radii.get(elem)\n\t\t\t\t# Lorentz rule of mixing hard spheres \n\t\t\t\tequilibrium_distance = well_depth_factor * (0.5 * (probe_diameter + vdW_fAtom))\n\t\t\t\t# start MC sampling for a given #\n\t\t\t\tfor attempt in range(nSample):\n\t\t\t\t\tpAtom = np.array([0.0, 0.0, 0.0], float)\n\t\t\t\t\ttotal += 1\n\t\t\t\t\t# find a random number around the sphere\n\t\t\t\t\tvec = RandomNumberOnUnitSphere()\n\t\t\t\t\t# calculate the coordinates of the center of probe using vec and equilibrium distance\n\t\t\t\t\tpAtom[0] = pos[i][0]+vec[0]*equilibrium_distance\n\t\t\t\t\tpAtom[1] = pos[i][1]+vec[1]*equilibrium_distance\n\t\t\t\t\tpAtom[2] = pos[i][2]+vec[2]*equilibrium_distance\n\t\t\t\t\t# store the x,y,z coordinates of probe in an array\n\t\t\t\t\tvec2 = np.array([pAtom[0], pAtom[1], pAtom[2]])\n\t\t\t\t\t# check for the overlap between probe and the other framework atoms\n\t\t\t\t\toverlap = CheckSurfaceAreaOverlap(pAtom, pos, cell_matrix, atom_type, probe_diameter, pos[i])\n\t\t\t\t\tif not overlap:\n\t\t\t\t\t\tcounted += 1\n\n\t\t\t\t# print(\"fraction of insertion near\", atom_type[i], \"is\", counted/total)\n\t\t\t\ttmp = (counted/total)*4.0*PI*(equilibrium_distance * equilibrium_distance)\n\n\t\t\t\tSurfaceAreaAverage += tmp\n\t\t\t\ttmp2 = np.array([pos[i][0], pos[i][1], pos[i][2]])\n\t\t\t\texamined_coordinates.append(np.linalg.norm(tmp2))\n\n\t# print (\"Surface Area in Ang^2: \", SurfaceAreaAverage)\n\t# print (\"volume of unit cell: \", unit_cell_volume)\n\t# print (\"Surface Area in m^2/cm^3: \", 1e4*SurfaceAreaAverage/unit_cell_volume)\n\t\n\treturn 1e4*SurfaceAreaAverage/unit_cell_volume",
   "metadata": {
    "tags": [],
    "cell_id": "00016-92803696-ea06-4f17-b4c0-c78fd07f046a",
    "deepnote_to_be_reexecuted": false,
    "source_hash": "38ab7bcf",
    "execution_start": 1632418720511,
    "execution_millis": 0,
    "deepnote_cell_type": "code"
   },
   "outputs": [],
   "execution_count": null
  },
  {
   "cell_type": "code",
   "source": "cell_matrix, inverse_matrix, unit_cell_volume = get_box_matrix(\n    float(cif_metadata.loc['_cell_length_a'].iloc[0]),\n    float(cif_metadata.loc['_cell_length_b'].iloc[0]),\n    float(cif_metadata.loc['_cell_length_c'].iloc[0]),\n    float(cif_metadata.loc['_cell_angle_alpha'].iloc[0]),\n    float(cif_metadata.loc['_cell_angle_beta'].iloc[0]),\n    float(cif_metadata.loc['_cell_angle_gamma'].iloc[0])\n)\natom_type, pos = get_atomic_coordinates(Train.loc[2, 'cif_filepath'])",
   "metadata": {
    "tags": [],
    "cell_id": "00017-52a46015-a827-4141-9656-5c0a44809403",
    "deepnote_to_be_reexecuted": false,
    "source_hash": "afbc98d8",
    "execution_start": 1632418676565,
    "execution_millis": 522,
    "deepnote_cell_type": "code"
   },
   "outputs": [],
   "execution_count": null
  },
  {
   "cell_type": "code",
   "source": "# GSA\nimport copy\ngsa_sum = 0\nfor i in set(atom_type):\n    gsa_ = gsa(\n        atom_type,\n        pos,\n        cell_matrix,\n        inverse_matrix,\n        unit_cell_volume,\n        probe_diameter=3.40,\n        nSample=60,\n        InsertTypeOfAtoms=i\n    )\n    gsa_sum += gsa_\n",
   "metadata": {
    "tags": [],
    "cell_id": "00018-3d70e19b-a8ad-4e06-bca9-5f06db2ffab8",
    "deepnote_to_be_reexecuted": false,
    "source_hash": "9779c8d0",
    "execution_start": 1632419035061,
    "execution_millis": 47732,
    "deepnote_cell_type": "code"
   },
   "outputs": [],
   "execution_count": null
  },
  {
   "cell_type": "code",
   "source": "gsa_sum / Train.loc[2, 'density']",
   "metadata": {
    "tags": [],
    "cell_id": "00019-afb5e86f-ca29-499b-a4be-c9fe79694960",
    "deepnote_to_be_reexecuted": false,
    "source_hash": "7bb1d757",
    "execution_start": 1632419082836,
    "execution_millis": 13,
    "deepnote_cell_type": "code"
   },
   "outputs": [
    {
     "output_type": "execute_result",
     "execution_count": 101,
     "data": {
      "text/plain": "285.4540921170333"
     },
     "metadata": {}
    }
   ],
   "execution_count": null
  },
  {
   "cell_type": "code",
   "source": "Train.loc[2]",
   "metadata": {
    "tags": [],
    "cell_id": "00019-16991336-fbd6-4d93-8bc9-df2ecf6211ec",
    "deepnote_to_be_reexecuted": false,
    "source_hash": "7bfaef5a",
    "execution_start": 1632419082837,
    "execution_millis": 16,
    "deepnote_cell_type": "code"
   },
   "outputs": [
    {
     "output_type": "execute_result",
     "execution_count": 102,
     "data": {
      "text/plain": "MOFname                                                                                 mof_unit_2\nvolume [A^3]                                                                           2769.503842\nweight [u]                                                                             2211.697211\nsurface_area [m^2/g]                                                                        603.61\nvoid_fraction                                                                              0.13794\nvoid_volume [cm^3/g]                                                                         0.104\nfunctional_groups                                                                            F-OMe\nmetal_linker                                                                                    10\norganic_linker1                                                                                 44\norganic_linker2                                                                                 57\ntopology                                                                                       etb\nCO2/N2_selectivity                                                                        33.61678\nheat_adsorption_CO2_P0.15bar_T298K [kcal/mol]                                             7.147286\nCO2_working_capacity [mL/g]                                                             101.224774\ncif_filepath                                               tmlcc-2021/mof_cif_train/mof_unit_2.cif\ncif                                              {'metadata': {0: {0: '_audit_creation_date', 1...\ndensity                                                                                    1.32609\nName: 2, dtype: object"
     },
     "metadata": {}
    }
   ],
   "execution_count": null
  },
  {
   "cell_type": "markdown",
   "source": "<a style='text-decoration:none;line-height:16px;display:flex;color:#5B5B62;padding:10px;justify-content:end;' href='https://deepnote.com?utm_source=created-in-deepnote-cell&projectId=cf8541de-dbc3-45f6-bc1e-4fa446cacbcd' target=\"_blank\">\n<img alt='Created in deepnote.com' style='display:inline;max-height:16px;margin:0px;margin-right:7.5px;' src='data:image/svg+xml;base64,PD94bWwgdmVyc2lvbj0iMS4wIiBlbmNvZGluZz0iVVRGLTgiPz4KPHN2ZyB3aWR0aD0iODBweCIgaGVpZ2h0PSI4MHB4IiB2aWV3Qm94PSIwIDAgODAgODAiIHZlcnNpb249IjEuMSIgeG1sbnM9Imh0dHA6Ly93d3cudzMub3JnLzIwMDAvc3ZnIiB4bWxuczp4bGluaz0iaHR0cDovL3d3dy53My5vcmcvMTk5OS94bGluayI+CiAgICA8IS0tIEdlbmVyYXRvcjogU2tldGNoIDU0LjEgKDc2NDkwKSAtIGh0dHBzOi8vc2tldGNoYXBwLmNvbSAtLT4KICAgIDx0aXRsZT5Hcm91cCAzPC90aXRsZT4KICAgIDxkZXNjPkNyZWF0ZWQgd2l0aCBTa2V0Y2guPC9kZXNjPgogICAgPGcgaWQ9IkxhbmRpbmciIHN0cm9rZT0ibm9uZSIgc3Ryb2tlLXdpZHRoPSIxIiBmaWxsPSJub25lIiBmaWxsLXJ1bGU9ImV2ZW5vZGQiPgogICAgICAgIDxnIGlkPSJBcnRib2FyZCIgdHJhbnNmb3JtPSJ0cmFuc2xhdGUoLTEyMzUuMDAwMDAwLCAtNzkuMDAwMDAwKSI+CiAgICAgICAgICAgIDxnIGlkPSJHcm91cC0zIiB0cmFuc2Zvcm09InRyYW5zbGF0ZSgxMjM1LjAwMDAwMCwgNzkuMDAwMDAwKSI+CiAgICAgICAgICAgICAgICA8cG9seWdvbiBpZD0iUGF0aC0yMCIgZmlsbD0iIzAyNjVCNCIgcG9pbnRzPSIyLjM3NjIzNzYyIDgwIDM4LjA0NzY2NjcgODAgNTcuODIxNzgyMiA3My44MDU3NTkyIDU3LjgyMTc4MjIgMzIuNzU5MjczOSAzOS4xNDAyMjc4IDMxLjY4MzE2ODMiPjwvcG9seWdvbj4KICAgICAgICAgICAgICAgIDxwYXRoIGQ9Ik0zNS4wMDc3MTgsODAgQzQyLjkwNjIwMDcsNzYuNDU0OTM1OCA0Ny41NjQ5MTY3LDcxLjU0MjI2NzEgNDguOTgzODY2LDY1LjI2MTk5MzkgQzUxLjExMjI4OTksNTUuODQxNTg0MiA0MS42NzcxNzk1LDQ5LjIxMjIyODQgMjUuNjIzOTg0Niw0OS4yMTIyMjg0IEMyNS40ODQ5Mjg5LDQ5LjEyNjg0NDggMjkuODI2MTI5Niw0My4yODM4MjQ4IDM4LjY0NzU4NjksMzEuNjgzMTY4MyBMNzIuODcxMjg3MSwzMi41NTQ0MjUgTDY1LjI4MDk3Myw2Ny42NzYzNDIxIEw1MS4xMTIyODk5LDc3LjM3NjE0NCBMMzUuMDA3NzE4LDgwIFoiIGlkPSJQYXRoLTIyIiBmaWxsPSIjMDAyODY4Ij48L3BhdGg+CiAgICAgICAgICAgICAgICA8cGF0aCBkPSJNMCwzNy43MzA0NDA1IEwyNy4xMTQ1MzcsMC4yNTcxMTE0MzYgQzYyLjM3MTUxMjMsLTEuOTkwNzE3MDEgODAsMTAuNTAwMzkyNyA4MCwzNy43MzA0NDA1IEM4MCw2NC45NjA0ODgyIDY0Ljc3NjUwMzgsNzkuMDUwMzQxNCAzNC4zMjk1MTEzLDgwIEM0Ny4wNTUzNDg5LDc3LjU2NzA4MDggNTMuNDE4MjY3Nyw3MC4zMTM2MTAzIDUzLjQxODI2NzcsNTguMjM5NTg4NSBDNTMuNDE4MjY3Nyw0MC4xMjg1NTU3IDM2LjMwMzk1NDQsMzcuNzMwNDQwNSAyNS4yMjc0MTcsMzcuNzMwNDQwNSBDMTcuODQzMDU4NiwzNy43MzA0NDA1IDkuNDMzOTE5NjYsMzcuNzMwNDQwNSAwLDM3LjczMDQ0MDUgWiIgaWQ9IlBhdGgtMTkiIGZpbGw9IiMzNzkzRUYiPjwvcGF0aD4KICAgICAgICAgICAgPC9nPgogICAgICAgIDwvZz4KICAgIDwvZz4KPC9zdmc+' > </img>\nCreated in <span style='font-weight:600;margin-left:4px;'>Deepnote</span></a>",
   "metadata": {
    "tags": [],
    "created_in_deepnote_cell": true,
    "deepnote_cell_type": "markdown"
   }
  }
 ],
 "nbformat": 4,
 "nbformat_minor": 2,
 "metadata": {
  "orig_nbformat": 2,
  "deepnote": {
   "is_reactive": false
  },
  "deepnote_notebook_id": "db12b8b1-8d71-4307-9c41-1c5cc6675b08",
  "deepnote_execution_queue": []
 }
}