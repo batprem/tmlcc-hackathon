{
 "cells": [
  {
   "cell_type": "markdown",
   "source": "# Import modules",
   "metadata": {
    "tags": [],
    "is_collapsed": false,
    "cell_id": "00000-98c9440a-3c15-432d-820b-cde0b5e1e613",
    "deepnote_app_coordinates": {
     "x": 0,
     "y": 0,
     "w": 24,
     "h": 2
    },
    "deepnote_cell_type": "text-cell-h1"
   }
  },
  {
   "cell_type": "code",
   "metadata": {
    "tags": [],
    "cell_id": "00000-d7f4b5fc-8fcd-4eb4-9318-452728180541",
    "deepnote_to_be_reexecuted": false,
    "source_hash": "8f98309f",
    "execution_start": 1632078867316,
    "execution_millis": 36,
    "deepnote_app_coordinates": {
     "x": 0,
     "y": 3,
     "w": 24,
     "h": 25
    },
    "deepnote_cell_type": "code"
   },
   "source": "# OS\nimport os\n\n# Typing\nfrom typing import List\n\n# Analyser\nimport numpy as np\nimport pandas as pd\nfrom tqdm import tqdm\n\n# Local utilization\nfrom utils.classes.adapters import CIF2PandasAdapter\nfrom utils.functions import (\n    get_cif_filepath,\n    merge_metadata,\n    read_pandas_pickle,\n    aggregate_loop_0,\n    aggregate_loop_1\n)\n\n# Constants\nfrom src.constants import (\n    DATASET_PATH,\n    CIF_TRAIN_PATH,\n    CIF_PRETEST_PATH,\n    PREPROCESSING_TRAIN_PATH,\n    PREPROCESSING_PRETEST_PATH\n)\n\n# pickle\nimport pickle\n\ntqdm.pandas()",
   "execution_count": null,
   "outputs": []
  },
  {
   "cell_type": "markdown",
   "source": "# Load Essentials",
   "metadata": {
    "tags": [],
    "is_collapsed": false,
    "cell_id": "00002-e34cfdcb-4854-42ec-b4ff-97f7c90d600d",
    "deepnote_app_coordinates": {
     "x": 0,
     "y": 29,
     "w": 24,
     "h": 2
    },
    "deepnote_cell_type": "text-cell-h1"
   }
  },
  {
   "cell_type": "markdown",
   "source": "## Load Adapters",
   "metadata": {
    "tags": [],
    "is_collapsed": false,
    "cell_id": "00003-391ec10f-d784-486d-9628-153efe40af16",
    "deepnote_app_coordinates": {
     "x": 0,
     "y": 32,
     "w": 24,
     "h": 2
    },
    "deepnote_cell_type": "text-cell-h2"
   }
  },
  {
   "cell_type": "code",
   "metadata": {
    "tags": [],
    "cell_id": "00007-9dc72cf2-0f4b-4d8a-822a-59ee3fc252d8",
    "deepnote_to_be_reexecuted": false,
    "source_hash": "2d18a555",
    "execution_start": 1632078867356,
    "execution_millis": 3,
    "deepnote_app_coordinates": {
     "x": 0,
     "y": 35,
     "w": 24,
     "h": 4
    },
    "deepnote_cell_type": "code"
   },
   "source": "cif2pandas_adapter = CIF2PandasAdapter()",
   "execution_count": null,
   "outputs": []
  },
  {
   "cell_type": "markdown",
   "source": "## Load CSVs",
   "metadata": {
    "tags": [],
    "is_collapsed": false,
    "cell_id": "00005-757629fa-84d0-40b3-b212-5c1e15fedd62",
    "deepnote_app_coordinates": {
     "x": 0,
     "y": 40,
     "w": 24,
     "h": 2
    },
    "deepnote_cell_type": "text-cell-h2"
   }
  },
  {
   "cell_type": "code",
   "metadata": {
    "tags": [],
    "cell_id": "00006-a644798e-ae33-447a-ac33-d7d698133285",
    "deepnote_to_be_reexecuted": false,
    "source_hash": "5ef93c38",
    "execution_start": 1632078867363,
    "execution_millis": 186,
    "deepnote_app_coordinates": {
     "x": 0,
     "y": 43,
     "w": 24,
     "h": 6
    },
    "deepnote_cell_type": "code"
   },
   "source": "Train = pd.read_csv(f\"{DATASET_PATH}/train.csv\".replace(\"//\", \"/\"))\nTrain.index = Train.index + 1\nPretest = pd.read_csv(f\"{DATASET_PATH}/pretest.csv\".replace(\"//\", \"/\"))\nPretest.index = Pretest.index + 1",
   "execution_count": null,
   "outputs": []
  },
  {
   "cell_type": "markdown",
   "source": "# Join data with CIF filename",
   "metadata": {
    "tags": [],
    "is_collapsed": false,
    "cell_id": "00007-c818ea19-d403-4d72-84f2-7936f10a6d29",
    "deepnote_app_coordinates": {
     "x": 0,
     "y": 50,
     "w": 24,
     "h": 2
    },
    "deepnote_cell_type": "text-cell-h1"
   }
  },
  {
   "cell_type": "code",
   "metadata": {
    "tags": [],
    "cell_id": "00008-52a53a52-5ff5-4a14-81d8-1a6c709d6a44",
    "deepnote_to_be_reexecuted": false,
    "source_hash": "a6cab2b3",
    "execution_start": 1632078867551,
    "execution_millis": 58,
    "deepnote_app_coordinates": {
     "x": 0,
     "y": 53,
     "w": 24,
     "h": 21
    },
    "deepnote_cell_type": "code"
   },
   "source": "Train = get_cif_filepath(Train, CIF_TRAIN_PATH)\nTrain[['MOFname', 'cif_filepath']].head(5)",
   "execution_count": null,
   "outputs": [
    {
     "output_type": "execute_result",
     "execution_count": 4,
     "data": {
      "application/vnd.deepnote.dataframe.v2+json": {
       "row_count": 5,
       "column_count": 2,
       "columns": [
        {
         "name": "MOFname",
         "dtype": "object",
         "stats": {
          "unique_count": 5,
          "nan_count": 0,
          "categories": [
           {
            "name": "mof_unit_1",
            "count": 1
           },
           {
            "name": "mof_unit_2",
            "count": 1
           },
           {
            "name": "3 others",
            "count": 3
           }
          ]
         }
        },
        {
         "name": "cif_filepath",
         "dtype": "object",
         "stats": {
          "unique_count": 5,
          "nan_count": 0,
          "categories": [
           {
            "name": "tmlcc-2021/mof_cif_train/mof_unit_1.cif",
            "count": 1
           },
           {
            "name": "tmlcc-2021/mof_cif_train/mof_unit_2.cif",
            "count": 1
           },
           {
            "name": "3 others",
            "count": 3
           }
          ]
         }
        },
        {
         "name": "_deepnote_index_column",
         "dtype": "int64"
        }
       ],
       "rows_top": [
        {
         "MOFname": "mof_unit_1",
         "cif_filepath": "tmlcc-2021/mof_cif_train/mof_unit_1.cif",
         "_deepnote_index_column": 1
        },
        {
         "MOFname": "mof_unit_2",
         "cif_filepath": "tmlcc-2021/mof_cif_train/mof_unit_2.cif",
         "_deepnote_index_column": 2
        },
        {
         "MOFname": "mof_unit_3",
         "cif_filepath": "tmlcc-2021/mof_cif_train/mof_unit_3.cif",
         "_deepnote_index_column": 3
        },
        {
         "MOFname": "mof_unit_4",
         "cif_filepath": "tmlcc-2021/mof_cif_train/mof_unit_4.cif",
         "_deepnote_index_column": 4
        },
        {
         "MOFname": "mof_unit_5",
         "cif_filepath": "tmlcc-2021/mof_cif_train/mof_unit_5.cif",
         "_deepnote_index_column": 5
        }
       ],
       "rows_bottom": null
      },
      "text/plain": "      MOFname                             cif_filepath\n1  mof_unit_1  tmlcc-2021/mof_cif_train/mof_unit_1.cif\n2  mof_unit_2  tmlcc-2021/mof_cif_train/mof_unit_2.cif\n3  mof_unit_3  tmlcc-2021/mof_cif_train/mof_unit_3.cif\n4  mof_unit_4  tmlcc-2021/mof_cif_train/mof_unit_4.cif\n5  mof_unit_5  tmlcc-2021/mof_cif_train/mof_unit_5.cif",
      "text/html": "<div>\n<style scoped>\n    .dataframe tbody tr th:only-of-type {\n        vertical-align: middle;\n    }\n\n    .dataframe tbody tr th {\n        vertical-align: top;\n    }\n\n    .dataframe thead th {\n        text-align: right;\n    }\n</style>\n<table border=\"1\" class=\"dataframe\">\n  <thead>\n    <tr style=\"text-align: right;\">\n      <th></th>\n      <th>MOFname</th>\n      <th>cif_filepath</th>\n    </tr>\n  </thead>\n  <tbody>\n    <tr>\n      <th>1</th>\n      <td>mof_unit_1</td>\n      <td>tmlcc-2021/mof_cif_train/mof_unit_1.cif</td>\n    </tr>\n    <tr>\n      <th>2</th>\n      <td>mof_unit_2</td>\n      <td>tmlcc-2021/mof_cif_train/mof_unit_2.cif</td>\n    </tr>\n    <tr>\n      <th>3</th>\n      <td>mof_unit_3</td>\n      <td>tmlcc-2021/mof_cif_train/mof_unit_3.cif</td>\n    </tr>\n    <tr>\n      <th>4</th>\n      <td>mof_unit_4</td>\n      <td>tmlcc-2021/mof_cif_train/mof_unit_4.cif</td>\n    </tr>\n    <tr>\n      <th>5</th>\n      <td>mof_unit_5</td>\n      <td>tmlcc-2021/mof_cif_train/mof_unit_5.cif</td>\n    </tr>\n  </tbody>\n</table>\n</div>"
     },
     "metadata": {}
    }
   ]
  },
  {
   "cell_type": "code",
   "metadata": {
    "tags": [],
    "cell_id": "00009-8c72c4b3-f01c-4537-ac0d-d94c2879e797",
    "deepnote_to_be_reexecuted": false,
    "source_hash": "afc77e21",
    "execution_start": 1632078867605,
    "execution_millis": 47,
    "deepnote_app_coordinates": {
     "x": 0,
     "y": 75,
     "w": 24,
     "h": 21
    },
    "deepnote_cell_type": "code"
   },
   "source": "Pretest= get_cif_filepath(Pretest, CIF_PRETEST_PATH)\nPretest[['MOFname', 'cif_filepath']].head(5)",
   "execution_count": null,
   "outputs": [
    {
     "output_type": "execute_result",
     "execution_count": 5,
     "data": {
      "application/vnd.deepnote.dataframe.v2+json": {
       "row_count": 5,
       "column_count": 2,
       "columns": [
        {
         "name": "MOFname",
         "dtype": "object",
         "stats": {
          "unique_count": 5,
          "nan_count": 0,
          "categories": [
           {
            "name": "mof_unit_pretest_1",
            "count": 1
           },
           {
            "name": "mof_unit_pretest_2",
            "count": 1
           },
           {
            "name": "3 others",
            "count": 3
           }
          ]
         }
        },
        {
         "name": "cif_filepath",
         "dtype": "object",
         "stats": {
          "unique_count": 5,
          "nan_count": 0,
          "categories": [
           {
            "name": "tmlcc-2021/mof_cif_pretest/mof_unit_pretest_1.cif",
            "count": 1
           },
           {
            "name": "tmlcc-2021/mof_cif_pretest/mof_unit_pretest_2.cif",
            "count": 1
           },
           {
            "name": "3 others",
            "count": 3
           }
          ]
         }
        },
        {
         "name": "_deepnote_index_column",
         "dtype": "int64"
        }
       ],
       "rows_top": [
        {
         "MOFname": "mof_unit_pretest_1",
         "cif_filepath": "tmlcc-2021/mof_cif_pretest/mof_unit_pretest_1.cif",
         "_deepnote_index_column": 1
        },
        {
         "MOFname": "mof_unit_pretest_2",
         "cif_filepath": "tmlcc-2021/mof_cif_pretest/mof_unit_pretest_2.cif",
         "_deepnote_index_column": 2
        },
        {
         "MOFname": "mof_unit_pretest_3",
         "cif_filepath": "tmlcc-2021/mof_cif_pretest/mof_unit_pretest_3.cif",
         "_deepnote_index_column": 3
        },
        {
         "MOFname": "mof_unit_pretest_4",
         "cif_filepath": "tmlcc-2021/mof_cif_pretest/mof_unit_pretest_4.cif",
         "_deepnote_index_column": 4
        },
        {
         "MOFname": "mof_unit_pretest_5",
         "cif_filepath": "tmlcc-2021/mof_cif_pretest/mof_unit_pretest_5.cif",
         "_deepnote_index_column": 5
        }
       ],
       "rows_bottom": null
      },
      "text/plain": "              MOFname                                       cif_filepath\n1  mof_unit_pretest_1  tmlcc-2021/mof_cif_pretest/mof_unit_pretest_1.cif\n2  mof_unit_pretest_2  tmlcc-2021/mof_cif_pretest/mof_unit_pretest_2.cif\n3  mof_unit_pretest_3  tmlcc-2021/mof_cif_pretest/mof_unit_pretest_3.cif\n4  mof_unit_pretest_4  tmlcc-2021/mof_cif_pretest/mof_unit_pretest_4.cif\n5  mof_unit_pretest_5  tmlcc-2021/mof_cif_pretest/mof_unit_pretest_5.cif",
      "text/html": "<div>\n<style scoped>\n    .dataframe tbody tr th:only-of-type {\n        vertical-align: middle;\n    }\n\n    .dataframe tbody tr th {\n        vertical-align: top;\n    }\n\n    .dataframe thead th {\n        text-align: right;\n    }\n</style>\n<table border=\"1\" class=\"dataframe\">\n  <thead>\n    <tr style=\"text-align: right;\">\n      <th></th>\n      <th>MOFname</th>\n      <th>cif_filepath</th>\n    </tr>\n  </thead>\n  <tbody>\n    <tr>\n      <th>1</th>\n      <td>mof_unit_pretest_1</td>\n      <td>tmlcc-2021/mof_cif_pretest/mof_unit_pretest_1.cif</td>\n    </tr>\n    <tr>\n      <th>2</th>\n      <td>mof_unit_pretest_2</td>\n      <td>tmlcc-2021/mof_cif_pretest/mof_unit_pretest_2.cif</td>\n    </tr>\n    <tr>\n      <th>3</th>\n      <td>mof_unit_pretest_3</td>\n      <td>tmlcc-2021/mof_cif_pretest/mof_unit_pretest_3.cif</td>\n    </tr>\n    <tr>\n      <th>4</th>\n      <td>mof_unit_pretest_4</td>\n      <td>tmlcc-2021/mof_cif_pretest/mof_unit_pretest_4.cif</td>\n    </tr>\n    <tr>\n      <th>5</th>\n      <td>mof_unit_pretest_5</td>\n      <td>tmlcc-2021/mof_cif_pretest/mof_unit_pretest_5.cif</td>\n    </tr>\n  </tbody>\n</table>\n</div>"
     },
     "metadata": {}
    }
   ]
  },
  {
   "cell_type": "markdown",
   "source": "# Test Adapter",
   "metadata": {
    "tags": [],
    "is_collapsed": false,
    "cell_id": "00010-7f7f7609-db37-4f3c-a946-e5599d8fa8ba",
    "deepnote_app_coordinates": {
     "x": 0,
     "y": 97,
     "w": 24,
     "h": 2
    },
    "deepnote_cell_type": "text-cell-h1"
   }
  },
  {
   "cell_type": "markdown",
   "source": "## CIF",
   "metadata": {
    "tags": [],
    "is_collapsed": false,
    "cell_id": "00011-f49a97d8-7e85-4c32-8241-bbb23dab91a2",
    "deepnote_app_coordinates": {
     "x": 0,
     "y": 100,
     "w": 24,
     "h": 2
    },
    "deepnote_cell_type": "text-cell-h2"
   }
  },
  {
   "cell_type": "code",
   "metadata": {
    "tags": [],
    "cell_id": "00009-1c4cc9a4-9709-4e6a-8a9c-21c4e7e4793d",
    "deepnote_to_be_reexecuted": false,
    "source_hash": "bfacd5c1",
    "execution_start": 1632078867641,
    "execution_millis": 0,
    "deepnote_app_coordinates": {
     "x": 0,
     "y": 103,
     "w": 24,
     "h": 4
    },
    "deepnote_cell_type": "code"
   },
   "source": "adapted_cif: dict = cif2pandas_adapter.apply(Train.cif_filepath[1])",
   "execution_count": null,
   "outputs": []
  },
  {
   "cell_type": "code",
   "metadata": {
    "tags": [],
    "cell_id": "00008-7c4dc87f-f9d8-4d58-8267-60dda3e07a4a",
    "deepnote_to_be_reexecuted": false,
    "source_hash": "d9f8ba07",
    "execution_start": 1632078867642,
    "execution_millis": 10,
    "deepnote_app_coordinates": {
     "x": 0,
     "y": 108,
     "w": 24,
     "h": 25
    },
    "deepnote_cell_type": "code"
   },
   "source": "pd.DataFrame(adapted_cif['metadata'])",
   "execution_count": null,
   "outputs": [
    {
     "output_type": "execute_result",
     "execution_count": 7,
     "data": {
      "application/vnd.deepnote.dataframe.v2+json": {
       "row_count": 11,
       "column_count": 2,
       "columns": [
        {
         "name": 0,
         "dtype": "object",
         "stats": {
          "unique_count": 11,
          "nan_count": 0,
          "categories": [
           {
            "name": "_audit_creation_date",
            "count": 1
           },
           {
            "name": "_symmetry_space_group_name_H-M",
            "count": 1
           },
           {
            "name": "9 others",
            "count": 9
           }
          ]
         }
        },
        {
         "name": 1,
         "dtype": "object",
         "stats": {
          "unique_count": 11,
          "nan_count": 0,
          "categories": [
           {
            "name": "2013-03-05T16:41:16-0500",
            "count": 1
           },
           {
            "name": "P1",
            "count": 1
           },
           {
            "name": "9 others",
            "count": 9
           }
          ]
         }
        },
        {
         "name": "_deepnote_index_column",
         "dtype": "int64"
        }
       ],
       "rows_top": [
        {
         "0": "_audit_creation_date",
         "1": "2013-03-05T16:41:16-0500",
         "_deepnote_index_column": 0
        },
        {
         "0": "_symmetry_space_group_name_H-M",
         "1": "P1",
         "_deepnote_index_column": 1
        },
        {
         "0": "_symmetry_Int_Tables_number",
         "1": "1",
         "_deepnote_index_column": 2
        },
        {
         "0": "_space_group_crystal_system",
         "1": "triclinic",
         "_deepnote_index_column": 3
        },
        {
         "0": "_cell_length_a",
         "1": "10.609882",
         "_deepnote_index_column": 4
        },
        {
         "0": "_cell_length_b",
         "1": "10.643578",
         "_deepnote_index_column": 5
        },
        {
         "0": "_cell_length_c",
         "1": "9.890832",
         "_deepnote_index_column": 6
        },
        {
         "0": "_cell_angle_alpha",
         "1": "89.904234",
         "_deepnote_index_column": 7
        },
        {
         "0": "_cell_angle_beta",
         "1": "91.242355",
         "_deepnote_index_column": 8
        },
        {
         "0": "_cell_angle_gamma",
         "1": "90.261935",
         "_deepnote_index_column": 9
        },
        {
         "0": "_cell_volume",
         "1": "1116.66742888",
         "_deepnote_index_column": 10
        }
       ],
       "rows_bottom": null
      },
      "text/plain": "                                 0                         1\n0             _audit_creation_date  2013-03-05T16:41:16-0500\n1   _symmetry_space_group_name_H-M                        P1\n2      _symmetry_Int_Tables_number                         1\n3      _space_group_crystal_system                 triclinic\n4                   _cell_length_a                 10.609882\n5                   _cell_length_b                 10.643578\n6                   _cell_length_c                  9.890832\n7                _cell_angle_alpha                 89.904234\n8                 _cell_angle_beta                 91.242355\n9                _cell_angle_gamma                 90.261935\n10                    _cell_volume             1116.66742888",
      "text/html": "<div>\n<style scoped>\n    .dataframe tbody tr th:only-of-type {\n        vertical-align: middle;\n    }\n\n    .dataframe tbody tr th {\n        vertical-align: top;\n    }\n\n    .dataframe thead th {\n        text-align: right;\n    }\n</style>\n<table border=\"1\" class=\"dataframe\">\n  <thead>\n    <tr style=\"text-align: right;\">\n      <th></th>\n      <th>0</th>\n      <th>1</th>\n    </tr>\n  </thead>\n  <tbody>\n    <tr>\n      <th>0</th>\n      <td>_audit_creation_date</td>\n      <td>2013-03-05T16:41:16-0500</td>\n    </tr>\n    <tr>\n      <th>1</th>\n      <td>_symmetry_space_group_name_H-M</td>\n      <td>P1</td>\n    </tr>\n    <tr>\n      <th>2</th>\n      <td>_symmetry_Int_Tables_number</td>\n      <td>1</td>\n    </tr>\n    <tr>\n      <th>3</th>\n      <td>_space_group_crystal_system</td>\n      <td>triclinic</td>\n    </tr>\n    <tr>\n      <th>4</th>\n      <td>_cell_length_a</td>\n      <td>10.609882</td>\n    </tr>\n    <tr>\n      <th>5</th>\n      <td>_cell_length_b</td>\n      <td>10.643578</td>\n    </tr>\n    <tr>\n      <th>6</th>\n      <td>_cell_length_c</td>\n      <td>9.890832</td>\n    </tr>\n    <tr>\n      <th>7</th>\n      <td>_cell_angle_alpha</td>\n      <td>89.904234</td>\n    </tr>\n    <tr>\n      <th>8</th>\n      <td>_cell_angle_beta</td>\n      <td>91.242355</td>\n    </tr>\n    <tr>\n      <th>9</th>\n      <td>_cell_angle_gamma</td>\n      <td>90.261935</td>\n    </tr>\n    <tr>\n      <th>10</th>\n      <td>_cell_volume</td>\n      <td>1116.66742888</td>\n    </tr>\n  </tbody>\n</table>\n</div>"
     },
     "metadata": {}
    }
   ]
  },
  {
   "cell_type": "code",
   "metadata": {
    "tags": [],
    "cell_id": "00004-995bb76c-4a91-4137-95e8-2d9108a011db",
    "deepnote_to_be_reexecuted": false,
    "source_hash": "bd6a705f",
    "execution_start": 1632078867647,
    "execution_millis": 49,
    "deepnote_app_coordinates": {
     "x": 0,
     "y": 134,
     "w": 24,
     "h": 20
    },
    "deepnote_cell_type": "code"
   },
   "source": "pd.DataFrame(adapted_cif['loops'][0])",
   "execution_count": null,
   "outputs": [
    {
     "output_type": "execute_result",
     "execution_count": 8,
     "data": {
      "application/vnd.deepnote.dataframe.v2+json": {
       "row_count": 75,
       "column_count": 7,
       "columns": [
        {
         "name": "_atom_site_label",
         "dtype": "object",
         "stats": {
          "unique_count": 75,
          "nan_count": 0,
          "categories": [
           {
            "name": "O1",
            "count": 1
           },
           {
            "name": "O2",
            "count": 1
           },
           {
            "name": "73 others",
            "count": 73
           }
          ]
         }
        },
        {
         "name": "_atom_site_type_symbol",
         "dtype": "object",
         "stats": {
          "unique_count": 5,
          "nan_count": 0,
          "categories": [
           {
            "name": "C",
            "count": 30
           },
           {
            "name": "O",
            "count": 21
           },
           {
            "name": "3 others",
            "count": 24
           }
          ]
         }
        },
        {
         "name": "_atom_site_description",
         "dtype": "object",
         "stats": {
          "unique_count": 9,
          "nan_count": 0,
          "categories": [
           {
            "name": "H_",
            "count": 20
           },
           {
            "name": "O_R",
            "count": 14
           },
           {
            "name": "7 others",
            "count": 41
           }
          ]
         }
        },
        {
         "name": "_atom_site_fract_x",
         "dtype": "object",
         "stats": {
          "unique_count": 73,
          "nan_count": 0,
          "categories": [
           {
            "name": "0.500000",
            "count": 2
           },
           {
            "name": "0.499170",
            "count": 2
           },
           {
            "name": "71 others",
            "count": 71
           }
          ]
         }
        },
        {
         "name": "_atom_site_fract_y",
         "dtype": "object",
         "stats": {
          "unique_count": 71,
          "nan_count": 0,
          "categories": [
           {
            "name": "0.500020",
            "count": 3
           },
           {
            "name": "0.499980",
            "count": 3
           },
           {
            "name": "69 others",
            "count": 69
           }
          ]
         }
        },
        {
         "name": "_atom_site_fract_z",
         "dtype": "object",
         "stats": {
          "unique_count": 75,
          "nan_count": 0,
          "categories": [
           {
            "name": "0.614690",
            "count": 1
           },
           {
            "name": "0.385350",
            "count": 1
           },
           {
            "name": "73 others",
            "count": 73
           }
          ]
         }
        },
        {
         "name": "_atom_type_partial_charge",
         "dtype": "object",
         "stats": {
          "unique_count": 75,
          "nan_count": 0,
          "categories": [
           {
            "name": "-0.628319",
            "count": 1
           },
           {
            "name": "-0.604978",
            "count": 1
           },
           {
            "name": "73 others",
            "count": 73
           }
          ]
         }
        },
        {
         "name": "_deepnote_index_column",
         "dtype": "int64"
        }
       ],
       "rows_top": [
        {
         "_atom_site_label": "O1",
         "_atom_site_type_symbol": "O",
         "_atom_site_description": "O_R",
         "_atom_site_fract_x": "0.500020",
         "_atom_site_fract_y": "0.316790",
         "_atom_site_fract_z": "0.614690",
         "_atom_type_partial_charge": "-0.628319",
         "_deepnote_index_column": 7
        },
        {
         "_atom_site_label": "O2",
         "_atom_site_type_symbol": "O",
         "_atom_site_description": "O_R",
         "_atom_site_fract_x": "0.500000",
         "_atom_site_fract_y": "0.316760",
         "_atom_site_fract_z": "0.385350",
         "_atom_type_partial_charge": "-0.604978",
         "_deepnote_index_column": 8
        },
        {
         "_atom_site_label": "C1",
         "_atom_site_type_symbol": "C",
         "_atom_site_description": "C_R",
         "_atom_site_fract_x": "0.511239",
         "_atom_site_fract_y": "0.260617",
         "_atom_site_fract_z": "0.499919",
         "_atom_type_partial_charge": "0.943344",
         "_deepnote_index_column": 9
        },
        {
         "_atom_site_label": "O3",
         "_atom_site_type_symbol": "O",
         "_atom_site_description": "O_R",
         "_atom_site_fract_x": "0.319080",
         "_atom_site_fract_y": "0.500020",
         "_atom_site_fract_z": "0.614640",
         "_atom_type_partial_charge": "-0.626555",
         "_deepnote_index_column": 10
        },
        {
         "_atom_site_label": "O4",
         "_atom_site_type_symbol": "O",
         "_atom_site_description": "O_R",
         "_atom_site_fract_x": "0.319070",
         "_atom_site_fract_y": "0.499980",
         "_atom_site_fract_z": "0.385300",
         "_atom_type_partial_charge": "-0.570235",
         "_deepnote_index_column": 11
        },
        {
         "_atom_site_label": "C2",
         "_atom_site_type_symbol": "C",
         "_atom_site_description": "C_R",
         "_atom_site_fract_x": "0.262196",
         "_atom_site_fract_y": "0.501710",
         "_atom_site_fract_z": "0.498339",
         "_atom_type_partial_charge": "1.002569",
         "_deepnote_index_column": 12
        },
        {
         "_atom_site_label": "Zn1",
         "_atom_site_type_symbol": "Zn",
         "_atom_site_description": "Zn3+2",
         "_atom_site_fract_x": "0.500010",
         "_atom_site_fract_y": "0.500020",
         "_atom_site_fract_z": "0.653130",
         "_atom_type_partial_charge": "1.000757",
         "_deepnote_index_column": 13
        },
        {
         "_atom_site_label": "Zn2",
         "_atom_site_type_symbol": "Zn",
         "_atom_site_description": "Zn3+2",
         "_atom_site_fract_x": "0.499990",
         "_atom_site_fract_y": "0.499980",
         "_atom_site_fract_z": "0.346870",
         "_atom_type_partial_charge": "1.025705",
         "_deepnote_index_column": 14
        },
        {
         "_atom_site_label": "O5",
         "_atom_site_type_symbol": "O",
         "_atom_site_description": "O_R",
         "_atom_site_fract_x": "0.500000",
         "_atom_site_fract_y": "0.683240",
         "_atom_site_fract_z": "0.614650",
         "_atom_type_partial_charge": "-0.570489",
         "_deepnote_index_column": 15
        },
        {
         "_atom_site_label": "O6",
         "_atom_site_type_symbol": "O",
         "_atom_site_description": "O_R",
         "_atom_site_fract_x": "0.499980",
         "_atom_site_fract_y": "0.683210",
         "_atom_site_fract_z": "0.385310",
         "_atom_type_partial_charge": "-0.610657",
         "_deepnote_index_column": 16
        },
        {
         "_atom_site_label": "O7",
         "_atom_site_type_symbol": "O",
         "_atom_site_description": "O_R",
         "_atom_site_fract_x": "0.680930",
         "_atom_site_fract_y": "0.500020",
         "_atom_site_fract_z": "0.614700",
         "_atom_type_partial_charge": "-0.620685",
         "_deepnote_index_column": 17
        },
        {
         "_atom_site_label": "O8",
         "_atom_site_type_symbol": "O",
         "_atom_site_description": "O_R",
         "_atom_site_fract_x": "0.680920",
         "_atom_site_fract_y": "0.499980",
         "_atom_site_fract_z": "0.385360",
         "_atom_type_partial_charge": "-0.610988",
         "_deepnote_index_column": 18
        },
        {
         "_atom_site_label": "C3",
         "_atom_site_type_symbol": "C",
         "_atom_site_description": "C_R",
         "_atom_site_fract_x": "0.510568",
         "_atom_site_fract_y": "0.739929",
         "_atom_site_fract_z": "0.499534",
         "_atom_type_partial_charge": "0.896293",
         "_deepnote_index_column": 19
        },
        {
         "_atom_site_label": "C4",
         "_atom_site_type_symbol": "C",
         "_atom_site_description": "C_R",
         "_atom_site_fract_x": "0.737527",
         "_atom_site_fract_y": "0.508812",
         "_atom_site_fract_z": "0.501655",
         "_atom_type_partial_charge": "0.975323",
         "_deepnote_index_column": 20
        },
        {
         "_atom_site_label": "C5",
         "_atom_site_type_symbol": "C",
         "_atom_site_description": "C_2",
         "_atom_site_fract_x": "0.930827",
         "_atom_site_fract_y": "0.569775",
         "_atom_site_fract_z": "0.397062",
         "_atom_type_partial_charge": "-0.267646",
         "_deepnote_index_column": 21
        },
        {
         "_atom_site_label": "C6",
         "_atom_site_type_symbol": "C",
         "_atom_site_description": "C_2",
         "_atom_site_fract_x": "0.867912",
         "_atom_site_fract_y": "0.540715",
         "_atom_site_fract_z": "0.508063",
         "_atom_type_partial_charge": "-0.373889",
         "_deepnote_index_column": 22
        },
        {
         "_atom_site_label": "H1",
         "_atom_site_type_symbol": "H",
         "_atom_site_description": "H_",
         "_atom_site_fract_x": "0.883642",
         "_atom_site_fract_y": "0.576040",
         "_atom_site_fract_z": "0.298736",
         "_atom_type_partial_charge": "0.194450",
         "_deepnote_index_column": 23
        },
        {
         "_atom_site_label": "H2",
         "_atom_site_type_symbol": "H",
         "_atom_site_description": "H_",
         "_atom_site_fract_x": "0.912693",
         "_atom_site_fract_y": "0.544315",
         "_atom_site_fract_z": "0.607909",
         "_atom_type_partial_charge": "0.190144",
         "_deepnote_index_column": 24
        },
        {
         "_atom_site_label": "C7",
         "_atom_site_type_symbol": "C",
         "_atom_site_description": "C_2",
         "_atom_site_fract_x": "0.068028",
         "_atom_site_fract_y": "0.583440",
         "_atom_site_fract_z": "0.406634",
         "_atom_type_partial_charge": "0.520947",
         "_deepnote_index_column": 25
        },
        {
         "_atom_site_label": "C8",
         "_atom_site_type_symbol": "C",
         "_atom_site_description": "C_2",
         "_atom_site_fract_x": "0.128795",
         "_atom_site_fract_y": "0.505510",
         "_atom_site_fract_z": "0.492625",
         "_atom_type_partial_charge": "-0.331481",
         "_deepnote_index_column": 26
        },
        {
         "_atom_site_label": "H3",
         "_atom_site_type_symbol": "H",
         "_atom_site_description": "H_",
         "_atom_site_fract_x": "0.081055",
         "_atom_site_fract_y": "0.439155",
         "_atom_site_fract_z": "0.557711",
         "_atom_type_partial_charge": "0.116745",
         "_deepnote_index_column": 27
        },
        {
         "_atom_site_label": "C9",
         "_atom_site_type_symbol": "C",
         "_atom_site_description": "C_R",
         "_atom_site_fract_x": "0.542308",
         "_atom_site_fract_y": "0.061957",
         "_atom_site_fract_z": "0.617598",
         "_atom_type_partial_charge": "0.024709",
         "_deepnote_index_column": 28
        },
        {
         "_atom_site_label": "C10",
         "_atom_site_type_symbol": "C",
         "_atom_site_description": "C_R",
         "_atom_site_fract_x": "0.544707",
         "_atom_site_fract_y": "0.130616",
         "_atom_site_fract_z": "0.498806",
         "_atom_type_partial_charge": "-0.126066",
         "_deepnote_index_column": 29
        },
        {
         "_atom_site_label": "C11",
         "_atom_site_type_symbol": "C",
         "_atom_site_description": "C_R",
         "_atom_site_fract_x": "0.581067",
         "_atom_site_fract_y": "0.068110",
         "_atom_site_fract_z": "0.378982",
         "_atom_type_partial_charge": "-0.127392",
         "_deepnote_index_column": 30
        },
        {
         "_atom_site_label": "C12",
         "_atom_site_type_symbol": "C",
         "_atom_site_description": "C_R",
         "_atom_site_fract_x": "0.574316",
         "_atom_site_fract_y": "0.935900",
         "_atom_site_fract_z": "0.376234",
         "_atom_type_partial_charge": "-0.132731",
         "_deepnote_index_column": 31
        },
        {
         "_atom_site_label": "C13",
         "_atom_site_type_symbol": "C",
         "_atom_site_description": "C_R",
         "_atom_site_fract_x": "0.545263",
         "_atom_site_fract_y": "0.870515",
         "_atom_site_fract_z": "0.497676",
         "_atom_type_partial_charge": "-0.176366",
         "_deepnote_index_column": 32
        },
        {
         "_atom_site_label": "C14",
         "_atom_site_type_symbol": "C",
         "_atom_site_description": "C_R",
         "_atom_site_fract_x": "0.555117",
         "_atom_site_fract_y": "0.936088",
         "_atom_site_fract_z": "0.618583",
         "_atom_type_partial_charge": "0.034483",
         "_deepnote_index_column": 33
        },
        {
         "_atom_site_label": "C15",
         "_atom_site_type_symbol": "C",
         "_atom_site_description": "C_3",
         "_atom_site_fract_x": "0.506793",
         "_atom_site_fract_y": "0.924219",
         "_atom_site_fract_z": "0.759156",
         "_atom_type_partial_charge": "-0.265723",
         "_deepnote_index_column": 34
        },
        {
         "_atom_site_label": "C16",
         "_atom_site_type_symbol": "C",
         "_atom_site_description": "C_3",
         "_atom_site_fract_x": "0.486891",
         "_atom_site_fract_y": "0.067823",
         "_atom_site_fract_z": "0.755195",
         "_atom_type_partial_charge": "-0.247828",
         "_deepnote_index_column": 35
        },
        {
         "_atom_site_label": "H4",
         "_atom_site_type_symbol": "H",
         "_atom_site_description": "H_",
         "_atom_site_fract_x": "0.418904",
         "_atom_site_fract_y": "0.867225",
         "_atom_site_fract_z": "0.765367",
         "_atom_type_partial_charge": "0.187079",
         "_deepnote_index_column": 36
        },
        {
         "_atom_site_label": "H5",
         "_atom_site_type_symbol": "H",
         "_atom_site_description": "H_",
         "_atom_site_fract_x": "0.545909",
         "_atom_site_fract_y": "0.125120",
         "_atom_site_fract_z": "0.825990",
         "_atom_type_partial_charge": "0.180625",
         "_deepnote_index_column": 37
        },
        {
         "_atom_site_label": "C17",
         "_atom_site_type_symbol": "C",
         "_atom_site_description": "C_R",
         "_atom_site_fract_x": "0.396386",
         "_atom_site_fract_y": "0.537167",
         "_atom_site_fract_z": "0.068603",
         "_atom_type_partial_charge": "0.121204",
         "_deepnote_index_column": 38
        },
        {
         "_atom_site_label": "N1",
         "_atom_site_type_symbol": "N",
         "_atom_site_description": "N_R",
         "_atom_site_fract_x": "0.499170",
         "_atom_site_fract_y": "0.499140",
         "_atom_site_fract_z": "0.142800",
         "_atom_type_partial_charge": "-0.105731",
         "_deepnote_index_column": 39
        },
        {
         "_atom_site_label": "C18",
         "_atom_site_type_symbol": "C",
         "_atom_site_description": "C_R",
         "_atom_site_fract_x": "0.605747",
         "_atom_site_fract_y": "0.469580",
         "_atom_site_fract_z": "0.074239",
         "_atom_type_partial_charge": "-0.086676",
         "_deepnote_index_column": 40
        },
        {
         "_atom_site_label": "H6",
         "_atom_site_type_symbol": "H",
         "_atom_site_description": "H_",
         "_atom_site_fract_x": "0.690570",
         "_atom_site_fract_y": "0.443611",
         "_atom_site_fract_z": "0.129711",
         "_atom_type_partial_charge": "0.183867",
         "_deepnote_index_column": 41
        },
        {
         "_atom_site_label": "C19",
         "_atom_site_type_symbol": "C",
         "_atom_site_description": "C_R",
         "_atom_site_fract_x": "0.605467",
         "_atom_site_fract_y": "0.468644",
         "_atom_site_fract_z": "0.930630",
         "_atom_type_partial_charge": "-0.086985",
         "_deepnote_index_column": 42
        },
        {
         "_atom_site_label": "H7",
         "_atom_site_type_symbol": "H",
         "_atom_site_description": "H_",
         "_atom_site_fract_x": "0.689906",
         "_atom_site_fract_y": "0.441812",
         "_atom_site_fract_z": "0.878874",
         "_atom_type_partial_charge": "0.166318",
         "_deepnote_index_column": 43
        },
        {
         "_atom_site_label": "N2",
         "_atom_site_type_symbol": "N",
         "_atom_site_description": "N_R",
         "_atom_site_fract_x": "0.499170",
         "_atom_site_fract_y": "0.499180",
         "_atom_site_fract_z": "0.857150",
         "_atom_type_partial_charge": "-0.097241",
         "_deepnote_index_column": 44
        },
        {
         "_atom_site_label": "C20",
         "_atom_site_type_symbol": "C",
         "_atom_site_description": "C_R",
         "_atom_site_fract_x": "0.397006",
         "_atom_site_fract_y": "0.539482",
         "_atom_site_fract_z": "0.926231",
         "_atom_type_partial_charge": "0.213850",
         "_deepnote_index_column": 45
        },
        {
         "_atom_site_label": "C21",
         "_atom_site_type_symbol": "C",
         "_atom_site_description": "C_3",
         "_atom_site_fract_x": "0.266436",
         "_atom_site_fract_y": "0.485936",
         "_atom_site_fract_z": "0.915125",
         "_atom_type_partial_charge": "-0.330304",
         "_deepnote_index_column": 46
        },
        {
         "_atom_site_label": "C22",
         "_atom_site_type_symbol": "C",
         "_atom_site_description": "C_3",
         "_atom_site_fract_x": "0.266449",
         "_atom_site_fract_y": "0.481033",
         "_atom_site_fract_z": "0.069437",
         "_atom_type_partial_charge": "-0.364546",
         "_deepnote_index_column": 47
        },
        {
         "_atom_site_label": "H8",
         "_atom_site_type_symbol": "H",
         "_atom_site_description": "H_",
         "_atom_site_fract_x": "0.263643",
         "_atom_site_fract_y": "0.392929",
         "_atom_site_fract_z": "0.863729",
         "_atom_type_partial_charge": "0.177499",
         "_deepnote_index_column": 48
        },
        {
         "_atom_site_label": "H9",
         "_atom_site_type_symbol": "H",
         "_atom_site_description": "H_",
         "_atom_site_fract_x": "0.197264",
         "_atom_site_fract_y": "0.545248",
         "_atom_site_fract_z": "0.115246",
         "_atom_type_partial_charge": "0.209983",
         "_deepnote_index_column": 49
        },
        {
         "_atom_site_label": "C23",
         "_atom_site_type_symbol": "C",
         "_atom_site_description": "C_2",
         "_atom_site_fract_x": "0.171141",
         "_atom_site_fract_y": "0.577266",
         "_atom_site_fract_z": "0.857497",
         "_atom_type_partial_charge": "0.946284",
         "_deepnote_index_column": 50
        },
        {
         "_atom_site_label": "O9",
         "_atom_site_type_symbol": "O",
         "_atom_site_description": "O_2",
         "_atom_site_fract_x": "0.059246",
         "_atom_site_fract_y": "0.549414",
         "_atom_site_fract_z": "0.857425",
         "_atom_type_partial_charge": "-0.646017",
         "_deepnote_index_column": 51
        },
        {
         "_atom_site_label": "O10",
         "_atom_site_type_symbol": "O",
         "_atom_site_description": "O_R",
         "_atom_site_fract_x": "0.209951",
         "_atom_site_fract_y": "0.692476",
         "_atom_site_fract_z": "0.803818",
         "_atom_type_partial_charge": "-0.797600",
         "_deepnote_index_column": 52
        },
        {
         "_atom_site_label": "H10",
         "_atom_site_type_symbol": "H",
         "_atom_site_description": "H_",
         "_atom_site_fract_x": "0.136747",
         "_atom_site_fract_y": "0.744306",
         "_atom_site_fract_z": "0.767493",
         "_atom_type_partial_charge": "0.342181",
         "_deepnote_index_column": 53
        },
        {
         "_atom_site_label": "C24",
         "_atom_site_type_symbol": "C",
         "_atom_site_description": "C_2",
         "_atom_site_fract_x": "0.260153",
         "_atom_site_fract_y": "0.349325",
         "_atom_site_fract_z": "0.125907",
         "_atom_type_partial_charge": "1.043635",
         "_deepnote_index_column": 54
        },
        {
         "_atom_site_label": "O11",
         "_atom_site_type_symbol": "O",
         "_atom_site_description": "O_2",
         "_atom_site_fract_x": "0.336701",
         "_atom_site_fract_y": "0.270098",
         "_atom_site_fract_z": "0.092940",
         "_atom_type_partial_charge": "-0.567578",
         "_deepnote_index_column": 55
        },
        {
         "_atom_site_label": "O12",
         "_atom_site_type_symbol": "O",
         "_atom_site_description": "O_R",
         "_atom_site_fract_x": "0.165281",
         "_atom_site_fract_y": "0.318404",
         "_atom_site_fract_z": "0.216075",
         "_atom_type_partial_charge": "-0.787176",
         "_deepnote_index_column": 56
        },
        {
         "_atom_site_label": "H11",
         "_atom_site_type_symbol": "H",
         "_atom_site_description": "H_",
         "_atom_site_fract_x": "0.170596",
         "_atom_site_fract_y": "0.228007",
         "_atom_site_fract_z": "0.248129",
         "_atom_type_partial_charge": "0.347813",
         "_deepnote_index_column": 57
        },
        {
         "_atom_site_label": "O13",
         "_atom_site_type_symbol": "O",
         "_atom_site_description": "O_3",
         "_atom_site_fract_x": "0.137476",
         "_atom_site_fract_y": "0.663928",
         "_atom_site_fract_z": "0.324456",
         "_atom_type_partial_charge": "-0.619386",
         "_deepnote_index_column": 58
        },
        {
         "_atom_site_label": "C25",
         "_atom_site_type_symbol": "C",
         "_atom_site_description": "C_3",
         "_atom_site_fract_x": "0.065154",
         "_atom_site_fract_y": "0.764067",
         "_atom_site_fract_z": "0.271025",
         "_atom_type_partial_charge": "0.045757",
         "_deepnote_index_column": 59
        },
        {
         "_atom_site_label": "H12",
         "_atom_site_type_symbol": "H",
         "_atom_site_description": "H_",
         "_atom_site_fract_x": "0.011981",
         "_atom_site_fract_y": "0.812264",
         "_atom_site_fract_z": "0.351748",
         "_atom_type_partial_charge": "0.171688",
         "_deepnote_index_column": 60
        },
        {
         "_atom_site_label": "H13",
         "_atom_site_type_symbol": "H",
         "_atom_site_description": "H_",
         "_atom_site_fract_x": "0.999105",
         "_atom_site_fract_y": "0.729500",
         "_atom_site_fract_z": "0.190390",
         "_atom_type_partial_charge": "0.177893",
         "_deepnote_index_column": 61
        },
        {
         "_atom_site_label": "C26",
         "_atom_site_type_symbol": "C",
         "_atom_site_description": "C_3",
         "_atom_site_fract_x": "0.153458",
         "_atom_site_fract_y": "0.859464",
         "_atom_site_fract_z": "0.207717",
         "_atom_type_partial_charge": "-0.648704",
         "_deepnote_index_column": 62
        },
        {
         "_atom_site_label": "H14",
         "_atom_site_type_symbol": "H",
         "_atom_site_description": "H_",
         "_atom_site_fract_x": "0.098242",
         "_atom_site_fract_y": "0.939459",
         "_atom_site_fract_z": "0.165677",
         "_atom_type_partial_charge": "0.223145",
         "_deepnote_index_column": 63
        },
        {
         "_atom_site_label": "H15",
         "_atom_site_type_symbol": "H",
         "_atom_site_description": "H_",
         "_atom_site_fract_x": "0.221787",
         "_atom_site_fract_y": "0.895585",
         "_atom_site_fract_z": "0.285201",
         "_atom_type_partial_charge": "0.264770",
         "_deepnote_index_column": 64
        },
        {
         "_atom_site_label": "H16",
         "_atom_site_type_symbol": "H",
         "_atom_site_description": "H_",
         "_atom_site_fract_x": "0.206138",
         "_atom_site_fract_y": "0.814830",
         "_atom_site_fract_z": "0.124739",
         "_atom_type_partial_charge": "0.270786",
         "_deepnote_index_column": 65
        },
        {
         "_atom_site_label": "C27",
         "_atom_site_type_symbol": "C",
         "_atom_site_description": "C_2",
         "_atom_site_fract_x": "0.627103",
         "_atom_site_fract_y": "0.138201",
         "_atom_site_fract_z": "0.259624",
         "_atom_type_partial_charge": "0.983337",
         "_deepnote_index_column": 66
        },
        {
         "_atom_site_label": "O14",
         "_atom_site_type_symbol": "O",
         "_atom_site_description": "O_2",
         "_atom_site_fract_x": "0.715445",
         "_atom_site_fract_y": "0.211622",
         "_atom_site_fract_z": "0.273289",
         "_atom_type_partial_charge": "-0.634044",
         "_deepnote_index_column": 67
        },
        {
         "_atom_site_label": "O15",
         "_atom_site_type_symbol": "O",
         "_atom_site_description": "O_R",
         "_atom_site_fract_x": "0.568762",
         "_atom_site_fract_y": "0.121778",
         "_atom_site_fract_z": "0.132946",
         "_atom_type_partial_charge": "-0.705183",
         "_deepnote_index_column": 68
        },
        {
         "_atom_site_label": "H17",
         "_atom_site_type_symbol": "H",
         "_atom_site_description": "H_",
         "_atom_site_fract_x": "0.607072",
         "_atom_site_fract_y": "0.177339",
         "_atom_site_fract_z": "0.061205",
         "_atom_type_partial_charge": "0.348788",
         "_deepnote_index_column": 69
        },
        {
         "_atom_site_label": "C28",
         "_atom_site_type_symbol": "C",
         "_atom_site_description": "C_2",
         "_atom_site_fract_x": "0.593269",
         "_atom_site_fract_y": "0.869333",
         "_atom_site_fract_z": "0.247298",
         "_atom_type_partial_charge": "1.044606",
         "_deepnote_index_column": 70
        },
        {
         "_atom_site_label": "O16",
         "_atom_site_type_symbol": "O",
         "_atom_site_description": "O_2",
         "_atom_site_fract_x": "0.697615",
         "_atom_site_fract_y": "0.829814",
         "_atom_site_fract_z": "0.219816",
         "_atom_type_partial_charge": "-0.651691",
         "_deepnote_index_column": 71
        },
        {
         "_atom_site_label": "O17",
         "_atom_site_type_symbol": "O",
         "_atom_site_description": "O_R",
         "_atom_site_fract_x": "0.489676",
         "_atom_site_fract_y": "0.847796",
         "_atom_site_fract_z": "0.160653",
         "_atom_type_partial_charge": "-0.748229",
         "_deepnote_index_column": 72
        },
        {
         "_atom_site_label": "H18",
         "_atom_site_type_symbol": "H",
         "_atom_site_description": "H_",
         "_atom_site_fract_x": "0.510436",
         "_atom_site_fract_y": "0.790445",
         "_atom_site_fract_z": "0.082829",
         "_atom_type_partial_charge": "0.335808",
         "_deepnote_index_column": 73
        },
        {
         "_atom_site_label": "C29",
         "_atom_site_type_symbol": "C",
         "_atom_site_description": "C_2",
         "_atom_site_fract_x": "0.611664",
         "_atom_site_fract_y": "0.879375",
         "_atom_site_fract_z": "0.852771",
         "_atom_type_partial_charge": "0.968948",
         "_deepnote_index_column": 74
        },
        {
         "_atom_site_label": "O18",
         "_atom_site_type_symbol": "O",
         "_atom_site_description": "O_2",
         "_atom_site_fract_x": "0.664348",
         "_atom_site_fract_y": "0.951309",
         "_atom_site_fract_z": "0.932154",
         "_atom_type_partial_charge": "-0.588923",
         "_deepnote_index_column": 75
        },
        {
         "_atom_site_label": "O19",
         "_atom_site_type_symbol": "O",
         "_atom_site_description": "O_R",
         "_atom_site_fract_x": "0.649805",
         "_atom_site_fract_y": "0.754158",
         "_atom_site_fract_z": "0.846563",
         "_atom_type_partial_charge": "-0.790535",
         "_deepnote_index_column": 76
        },
        {
         "_atom_site_label": "H19",
         "_atom_site_type_symbol": "H",
         "_atom_site_description": "H_",
         "_atom_site_fract_x": "0.720880",
         "_atom_site_fract_y": "0.734379",
         "_atom_site_fract_z": "0.913303",
         "_atom_type_partial_charge": "0.347912",
         "_deepnote_index_column": 77
        },
        {
         "_atom_site_label": "C30",
         "_atom_site_type_symbol": "C",
         "_atom_site_description": "C_2",
         "_atom_site_fract_x": "0.348847",
         "_atom_site_fract_y": "0.101593",
         "_atom_site_fract_z": "0.756535",
         "_atom_type_partial_charge": "0.967858",
         "_deepnote_index_column": 78
        },
        {
         "_atom_site_label": "O20",
         "_atom_site_type_symbol": "O",
         "_atom_site_description": "O_2",
         "_atom_site_fract_x": "0.293392",
         "_atom_site_fract_y": "0.097996",
         "_atom_site_fract_z": "0.863474",
         "_atom_type_partial_charge": "-0.568112",
         "_deepnote_index_column": 79
        },
        {
         "_atom_site_label": "O21",
         "_atom_site_type_symbol": "O",
         "_atom_site_description": "O_R",
         "_atom_site_fract_x": "0.284013",
         "_atom_site_fract_y": "0.135186",
         "_atom_site_fract_z": "0.637326",
         "_atom_type_partial_charge": "-0.818747",
         "_deepnote_index_column": 80
        },
        {
         "_atom_site_label": "H20",
         "_atom_site_type_symbol": "H",
         "_atom_site_description": "H_",
         "_atom_site_fract_x": "0.192378",
         "_atom_site_fract_y": "0.156135",
         "_atom_site_fract_z": "0.653048",
         "_atom_type_partial_charge": "0.338332",
         "_deepnote_index_column": 81
        }
       ],
       "rows_bottom": null
      },
      "text/plain": "   _atom_site_label _atom_site_type_symbol _atom_site_description  \\\n7                O1                      O                    O_R   \n8                O2                      O                    O_R   \n9                C1                      C                    C_R   \n10               O3                      O                    O_R   \n11               O4                      O                    O_R   \n..              ...                    ...                    ...   \n77              H19                      H                     H_   \n78              C30                      C                    C_2   \n79              O20                      O                    O_2   \n80              O21                      O                    O_R   \n81              H20                      H                     H_   \n\n   _atom_site_fract_x _atom_site_fract_y _atom_site_fract_z  \\\n7            0.500020           0.316790           0.614690   \n8            0.500000           0.316760           0.385350   \n9            0.511239           0.260617           0.499919   \n10           0.319080           0.500020           0.614640   \n11           0.319070           0.499980           0.385300   \n..                ...                ...                ...   \n77           0.720880           0.734379           0.913303   \n78           0.348847           0.101593           0.756535   \n79           0.293392           0.097996           0.863474   \n80           0.284013           0.135186           0.637326   \n81           0.192378           0.156135           0.653048   \n\n   _atom_type_partial_charge  \n7                  -0.628319  \n8                  -0.604978  \n9                   0.943344  \n10                 -0.626555  \n11                 -0.570235  \n..                       ...  \n77                  0.347912  \n78                  0.967858  \n79                 -0.568112  \n80                 -0.818747  \n81                  0.338332  \n\n[75 rows x 7 columns]",
      "text/html": "<div>\n<style scoped>\n    .dataframe tbody tr th:only-of-type {\n        vertical-align: middle;\n    }\n\n    .dataframe tbody tr th {\n        vertical-align: top;\n    }\n\n    .dataframe thead th {\n        text-align: right;\n    }\n</style>\n<table border=\"1\" class=\"dataframe\">\n  <thead>\n    <tr style=\"text-align: right;\">\n      <th></th>\n      <th>_atom_site_label</th>\n      <th>_atom_site_type_symbol</th>\n      <th>_atom_site_description</th>\n      <th>_atom_site_fract_x</th>\n      <th>_atom_site_fract_y</th>\n      <th>_atom_site_fract_z</th>\n      <th>_atom_type_partial_charge</th>\n    </tr>\n  </thead>\n  <tbody>\n    <tr>\n      <th>7</th>\n      <td>O1</td>\n      <td>O</td>\n      <td>O_R</td>\n      <td>0.500020</td>\n      <td>0.316790</td>\n      <td>0.614690</td>\n      <td>-0.628319</td>\n    </tr>\n    <tr>\n      <th>8</th>\n      <td>O2</td>\n      <td>O</td>\n      <td>O_R</td>\n      <td>0.500000</td>\n      <td>0.316760</td>\n      <td>0.385350</td>\n      <td>-0.604978</td>\n    </tr>\n    <tr>\n      <th>9</th>\n      <td>C1</td>\n      <td>C</td>\n      <td>C_R</td>\n      <td>0.511239</td>\n      <td>0.260617</td>\n      <td>0.499919</td>\n      <td>0.943344</td>\n    </tr>\n    <tr>\n      <th>10</th>\n      <td>O3</td>\n      <td>O</td>\n      <td>O_R</td>\n      <td>0.319080</td>\n      <td>0.500020</td>\n      <td>0.614640</td>\n      <td>-0.626555</td>\n    </tr>\n    <tr>\n      <th>11</th>\n      <td>O4</td>\n      <td>O</td>\n      <td>O_R</td>\n      <td>0.319070</td>\n      <td>0.499980</td>\n      <td>0.385300</td>\n      <td>-0.570235</td>\n    </tr>\n    <tr>\n      <th>...</th>\n      <td>...</td>\n      <td>...</td>\n      <td>...</td>\n      <td>...</td>\n      <td>...</td>\n      <td>...</td>\n      <td>...</td>\n    </tr>\n    <tr>\n      <th>77</th>\n      <td>H19</td>\n      <td>H</td>\n      <td>H_</td>\n      <td>0.720880</td>\n      <td>0.734379</td>\n      <td>0.913303</td>\n      <td>0.347912</td>\n    </tr>\n    <tr>\n      <th>78</th>\n      <td>C30</td>\n      <td>C</td>\n      <td>C_2</td>\n      <td>0.348847</td>\n      <td>0.101593</td>\n      <td>0.756535</td>\n      <td>0.967858</td>\n    </tr>\n    <tr>\n      <th>79</th>\n      <td>O20</td>\n      <td>O</td>\n      <td>O_2</td>\n      <td>0.293392</td>\n      <td>0.097996</td>\n      <td>0.863474</td>\n      <td>-0.568112</td>\n    </tr>\n    <tr>\n      <th>80</th>\n      <td>O21</td>\n      <td>O</td>\n      <td>O_R</td>\n      <td>0.284013</td>\n      <td>0.135186</td>\n      <td>0.637326</td>\n      <td>-0.818747</td>\n    </tr>\n    <tr>\n      <th>81</th>\n      <td>H20</td>\n      <td>H</td>\n      <td>H_</td>\n      <td>0.192378</td>\n      <td>0.156135</td>\n      <td>0.653048</td>\n      <td>0.338332</td>\n    </tr>\n  </tbody>\n</table>\n<p>75 rows × 7 columns</p>\n</div>"
     },
     "metadata": {}
    }
   ]
  },
  {
   "cell_type": "code",
   "source": "",
   "metadata": {
    "cell_id": "00009-a32cc2c5-6706-4138-813a-4b1e8446eff5",
    "deepnote_to_be_reexecuted": false,
    "source_hash": "b623e53d",
    "execution_start": 1632078867685,
    "execution_millis": 0,
    "deepnote_app_coordinates": {
     "x": 0,
     "y": 155,
     "w": 24,
     "h": 3
    },
    "deepnote_cell_type": "visualization"
   },
   "execution_count": null,
   "outputs": []
  },
  {
   "cell_type": "code",
   "metadata": {
    "tags": [],
    "cell_id": "00011-3897d3b1-d980-43a2-8036-a1df4c118505",
    "deepnote_to_be_reexecuted": false,
    "source_hash": "8260556a",
    "execution_start": 1632078867700,
    "execution_millis": 30,
    "deepnote_app_coordinates": {
     "x": 0,
     "y": 159,
     "w": 24,
     "h": 24
    },
    "deepnote_cell_type": "code"
   },
   "source": "pd.DataFrame(adapted_cif['loops'][1])",
   "execution_count": null,
   "outputs": [
    {
     "output_type": "execute_result",
     "execution_count": 9,
     "data": {
      "application/vnd.deepnote.dataframe.v2+json": {
       "row_count": 84,
       "column_count": 4,
       "columns": [
        {
         "name": "_geom_bond_atom_site_label_1",
         "dtype": "object",
         "stats": {
          "unique_count": 49,
          "nan_count": 0,
          "categories": [
           {
            "name": "Zn1",
            "count": 3
           },
           {
            "name": "C21",
            "count": 3
           },
           {
            "name": "47 others",
            "count": 78
           }
          ]
         }
        },
        {
         "name": "_geom_bond_atom_site_label_2",
         "dtype": "object",
         "stats": {
          "unique_count": 68,
          "nan_count": 0,
          "categories": [
           {
            "name": "Zn2",
            "count": 2
           },
           {
            "name": "C22",
            "count": 2
           },
           {
            "name": "66 others",
            "count": 80
           }
          ]
         }
        },
        {
         "name": "_geom_bond_distance",
         "dtype": "object",
         "stats": {
          "unique_count": 82,
          "nan_count": 0,
          "categories": [
           {
            "name": "1.948918",
            "count": 2
           },
           {
            "name": "1.987563",
            "count": 2
           },
           {
            "name": "80 others",
            "count": 80
           }
          ]
         }
        },
        {
         "name": "_ccdc_geom_bond_type",
         "dtype": "object",
         "stats": {
          "unique_count": 3,
          "nan_count": 0,
          "categories": [
           {
            "name": "S",
            "count": 56
           },
           {
            "name": "A",
            "count": 20
           },
           {
            "name": "D",
            "count": 8
           }
          ]
         }
        },
        {
         "name": "_deepnote_index_column",
         "dtype": "int64"
        }
       ],
       "rows_top": [
        {
         "_geom_bond_atom_site_label_1": "O4",
         "_geom_bond_atom_site_label_2": "Zn2",
         "_geom_bond_distance": "1.964878",
         "_ccdc_geom_bond_type": "S",
         "_deepnote_index_column": 4
        },
        {
         "_geom_bond_atom_site_label_1": "Zn1",
         "_geom_bond_atom_site_label_2": "O7",
         "_geom_bond_distance": "1.964880",
         "_ccdc_geom_bond_type": "S",
         "_deepnote_index_column": 5
        },
        {
         "_geom_bond_atom_site_label_1": "C10",
         "_geom_bond_atom_site_label_2": "C11",
         "_geom_bond_distance": "1.421566",
         "_ccdc_geom_bond_type": "A",
         "_deepnote_index_column": 6
        },
        {
         "_geom_bond_atom_site_label_1": "C21",
         "_geom_bond_atom_site_label_2": "C22",
         "_geom_bond_distance": "1.527080",
         "_ccdc_geom_bond_type": "S",
         "_deepnote_index_column": 7
        },
        {
         "_geom_bond_atom_site_label_1": "O19",
         "_geom_bond_atom_site_label_2": "H19",
         "_geom_bond_distance": "1.013968",
         "_ccdc_geom_bond_type": "S",
         "_deepnote_index_column": 8
        },
        {
         "_geom_bond_atom_site_label_1": "C9",
         "_geom_bond_atom_site_label_2": "C16",
         "_geom_bond_distance": "1.495691",
         "_ccdc_geom_bond_type": "S",
         "_deepnote_index_column": 9
        },
        {
         "_geom_bond_atom_site_label_1": "C2",
         "_geom_bond_atom_site_label_2": "C8",
         "_geom_bond_distance": "1.416024",
         "_ccdc_geom_bond_type": "S",
         "_deepnote_index_column": 10
        },
        {
         "_geom_bond_atom_site_label_1": "C26",
         "_geom_bond_atom_site_label_2": "H14",
         "_geom_bond_distance": "1.110791",
         "_ccdc_geom_bond_type": "S",
         "_deepnote_index_column": 11
        },
        {
         "_geom_bond_atom_site_label_1": "C1",
         "_geom_bond_atom_site_label_2": "C10",
         "_geom_bond_distance": "1.430199",
         "_ccdc_geom_bond_type": "S",
         "_deepnote_index_column": 12
        },
        {
         "_geom_bond_atom_site_label_1": "C7",
         "_geom_bond_atom_site_label_2": "C8",
         "_geom_bond_distance": "1.343808",
         "_ccdc_geom_bond_type": "D",
         "_deepnote_index_column": 13
        },
        {
         "_geom_bond_atom_site_label_1": "C26",
         "_geom_bond_atom_site_label_2": "H16",
         "_geom_bond_distance": "1.111429",
         "_ccdc_geom_bond_type": "S",
         "_deepnote_index_column": 14
        },
        {
         "_geom_bond_atom_site_label_1": "C11",
         "_geom_bond_atom_site_label_2": "C27",
         "_geom_bond_distance": "1.485781",
         "_ccdc_geom_bond_type": "S",
         "_deepnote_index_column": 15
        },
        {
         "_geom_bond_atom_site_label_1": "N1",
         "_geom_bond_atom_site_label_2": "C18",
         "_geom_bond_distance": "1.369199",
         "_ccdc_geom_bond_type": "A",
         "_deepnote_index_column": 16
        },
        {
         "_geom_bond_atom_site_label_1": "Zn2",
         "_geom_bond_atom_site_label_2": "O8",
         "_geom_bond_distance": "1.948918",
         "_ccdc_geom_bond_type": "S",
         "_deepnote_index_column": 17
        },
        {
         "_geom_bond_atom_site_label_1": "C16",
         "_geom_bond_atom_site_label_2": "C30",
         "_geom_bond_distance": "1.510024",
         "_ccdc_geom_bond_type": "S",
         "_deepnote_index_column": 18
        },
        {
         "_geom_bond_atom_site_label_1": "C17",
         "_geom_bond_atom_site_label_2": "N1",
         "_geom_bond_distance": "1.363805",
         "_ccdc_geom_bond_type": "A",
         "_deepnote_index_column": 19
        },
        {
         "_geom_bond_atom_site_label_1": "C24",
         "_geom_bond_atom_site_label_2": "O12",
         "_geom_bond_distance": "1.397079",
         "_ccdc_geom_bond_type": "S",
         "_deepnote_index_column": 20
        },
        {
         "_geom_bond_atom_site_label_1": "O12",
         "_geom_bond_atom_site_label_2": "H11",
         "_geom_bond_distance": "1.013962",
         "_ccdc_geom_bond_type": "S",
         "_deepnote_index_column": 21
        },
        {
         "_geom_bond_atom_site_label_1": "O8",
         "_geom_bond_atom_site_label_2": "C4",
         "_geom_bond_distance": "1.289391",
         "_ccdc_geom_bond_type": "A",
         "_deepnote_index_column": 22
        },
        {
         "_geom_bond_atom_site_label_1": "C16",
         "_geom_bond_atom_site_label_2": "H5",
         "_geom_bond_distance": "1.110508",
         "_ccdc_geom_bond_type": "S",
         "_deepnote_index_column": 23
        },
        {
         "_geom_bond_atom_site_label_1": "C6",
         "_geom_bond_atom_site_label_2": "H2",
         "_geom_bond_distance": "1.087240",
         "_ccdc_geom_bond_type": "S",
         "_deepnote_index_column": 24
        },
        {
         "_geom_bond_atom_site_label_1": "O1",
         "_geom_bond_atom_site_label_2": "Zn1",
         "_geom_bond_distance": "1.987563",
         "_ccdc_geom_bond_type": "S",
         "_deepnote_index_column": 25
        },
        {
         "_geom_bond_atom_site_label_1": "C25",
         "_geom_bond_atom_site_label_2": "H12",
         "_geom_bond_distance": "1.114657",
         "_ccdc_geom_bond_type": "S",
         "_deepnote_index_column": 26
        },
        {
         "_geom_bond_atom_site_label_1": "C8",
         "_geom_bond_atom_site_label_2": "H3",
         "_geom_bond_distance": "1.085871",
         "_ccdc_geom_bond_type": "S",
         "_deepnote_index_column": 27
        },
        {
         "_geom_bond_atom_site_label_1": "C27",
         "_geom_bond_atom_site_label_2": "O15",
         "_geom_bond_distance": "1.396312",
         "_ccdc_geom_bond_type": "S",
         "_deepnote_index_column": 28
        },
        {
         "_geom_bond_atom_site_label_1": "C5",
         "_geom_bond_atom_site_label_2": "C7",
         "_geom_bond_distance": "1.463308",
         "_ccdc_geom_bond_type": "S",
         "_deepnote_index_column": 29
        },
        {
         "_geom_bond_atom_site_label_1": "C22",
         "_geom_bond_atom_site_label_2": "H9",
         "_geom_bond_distance": "1.109643",
         "_ccdc_geom_bond_type": "S",
         "_deepnote_index_column": 30
        },
        {
         "_geom_bond_atom_site_label_1": "C28",
         "_geom_bond_atom_site_label_2": "O17",
         "_geom_bond_distance": "1.397333",
         "_ccdc_geom_bond_type": "S",
         "_deepnote_index_column": 31
        },
        {
         "_geom_bond_atom_site_label_1": "C13",
         "_geom_bond_atom_site_label_2": "C14",
         "_geom_bond_distance": "1.387393",
         "_ccdc_geom_bond_type": "A",
         "_deepnote_index_column": 32
        },
        {
         "_geom_bond_atom_site_label_1": "O15",
         "_geom_bond_atom_site_label_2": "H17",
         "_geom_bond_distance": "1.013575",
         "_ccdc_geom_bond_type": "S",
         "_deepnote_index_column": 33
        },
        {
         "_geom_bond_atom_site_label_1": "C27",
         "_geom_bond_atom_site_label_2": "O14",
         "_geom_bond_distance": "1.222971",
         "_ccdc_geom_bond_type": "D",
         "_deepnote_index_column": 34
        },
        {
         "_geom_bond_atom_site_label_1": "O3",
         "_geom_bond_atom_site_label_2": "Zn1",
         "_geom_bond_distance": "1.948918",
         "_ccdc_geom_bond_type": "S",
         "_deepnote_index_column": 35
        },
        {
         "_geom_bond_atom_site_label_1": "C24",
         "_geom_bond_atom_site_label_2": "O11",
         "_geom_bond_distance": "1.222977",
         "_ccdc_geom_bond_type": "D",
         "_deepnote_index_column": 36
        },
        {
         "_geom_bond_atom_site_label_1": "C28",
         "_geom_bond_atom_site_label_2": "O16",
         "_geom_bond_distance": "1.222359",
         "_ccdc_geom_bond_type": "D",
         "_deepnote_index_column": 37
        },
        {
         "_geom_bond_atom_site_label_1": "C15",
         "_geom_bond_atom_site_label_2": "H4",
         "_geom_bond_distance": "1.112876",
         "_ccdc_geom_bond_type": "S",
         "_deepnote_index_column": 38
        },
        {
         "_geom_bond_atom_site_label_1": "C15",
         "_geom_bond_atom_site_label_2": "C16",
         "_geom_bond_distance": "1.544249",
         "_ccdc_geom_bond_type": "S",
         "_deepnote_index_column": 39
        },
        {
         "_geom_bond_atom_site_label_1": "C15",
         "_geom_bond_atom_site_label_2": "C29",
         "_geom_bond_distance": "1.510594",
         "_ccdc_geom_bond_type": "S",
         "_deepnote_index_column": 40
        },
        {
         "_geom_bond_atom_site_label_1": "C22",
         "_geom_bond_atom_site_label_2": "C24",
         "_geom_bond_distance": "1.509876",
         "_ccdc_geom_bond_type": "S",
         "_deepnote_index_column": 41
        },
        {
         "_geom_bond_atom_site_label_1": "C26",
         "_geom_bond_atom_site_label_2": "H15",
         "_geom_bond_distance": "1.111339",
         "_ccdc_geom_bond_type": "S",
         "_deepnote_index_column": 42
        },
        {
         "_geom_bond_atom_site_label_1": "O17",
         "_geom_bond_atom_site_label_2": "H18",
         "_geom_bond_distance": "1.011823",
         "_ccdc_geom_bond_type": "S",
         "_deepnote_index_column": 43
        },
        {
         "_geom_bond_atom_site_label_1": "C18",
         "_geom_bond_atom_site_label_2": "C19",
         "_geom_bond_distance": "1.420399",
         "_ccdc_geom_bond_type": "A",
         "_deepnote_index_column": 44
        },
        {
         "_geom_bond_atom_site_label_1": "Zn2",
         "_geom_bond_atom_site_label_2": "N1",
         "_geom_bond_distance": "2.018287",
         "_ccdc_geom_bond_type": "S",
         "_deepnote_index_column": 45
        },
        {
         "_geom_bond_atom_site_label_1": "C25",
         "_geom_bond_atom_site_label_2": "H13",
         "_geom_bond_distance": "1.112160",
         "_ccdc_geom_bond_type": "S",
         "_deepnote_index_column": 46
        },
        {
         "_geom_bond_atom_site_label_1": "O4",
         "_geom_bond_atom_site_label_2": "C2",
         "_geom_bond_distance": "1.282159",
         "_ccdc_geom_bond_type": "A",
         "_deepnote_index_column": 47
        },
        {
         "_geom_bond_atom_site_label_1": "C29",
         "_geom_bond_atom_site_label_2": "O18",
         "_geom_bond_distance": "1.222372",
         "_ccdc_geom_bond_type": "D",
         "_deepnote_index_column": 48
        },
        {
         "_geom_bond_atom_site_label_1": "O7",
         "_geom_bond_atom_site_label_2": "C4",
         "_geom_bond_distance": "1.283647",
         "_ccdc_geom_bond_type": "A",
         "_deepnote_index_column": 49
        },
        {
         "_geom_bond_atom_site_label_1": "C4",
         "_geom_bond_atom_site_label_2": "C6",
         "_geom_bond_distance": "1.423029",
         "_ccdc_geom_bond_type": "S",
         "_deepnote_index_column": 50
        },
        {
         "_geom_bond_atom_site_label_1": "C3",
         "_geom_bond_atom_site_label_2": "C13",
         "_geom_bond_distance": "1.436384",
         "_ccdc_geom_bond_type": "S",
         "_deepnote_index_column": 51
        },
        {
         "_geom_bond_atom_site_label_1": "C17",
         "_geom_bond_atom_site_label_2": "C20",
         "_geom_bond_distance": "1.408512",
         "_ccdc_geom_bond_type": "A",
         "_deepnote_index_column": 52
        },
        {
         "_geom_bond_atom_site_label_1": "O3",
         "_geom_bond_atom_site_label_2": "C2",
         "_geom_bond_distance": "1.287525",
         "_ccdc_geom_bond_type": "A",
         "_deepnote_index_column": 53
        },
        {
         "_geom_bond_atom_site_label_1": "O21",
         "_geom_bond_atom_site_label_2": "H20",
         "_geom_bond_distance": "1.013794",
         "_ccdc_geom_bond_type": "S",
         "_deepnote_index_column": 54
        },
        {
         "_geom_bond_atom_site_label_1": "C17",
         "_geom_bond_atom_site_label_2": "C22",
         "_geom_bond_distance": "1.500187",
         "_ccdc_geom_bond_type": "S",
         "_deepnote_index_column": 55
        },
        {
         "_geom_bond_atom_site_label_1": "C19",
         "_geom_bond_atom_site_label_2": "N2",
         "_geom_bond_distance": "1.368503",
         "_ccdc_geom_bond_type": "A",
         "_deepnote_index_column": 56
        },
        {
         "_geom_bond_atom_site_label_1": "Zn1",
         "_geom_bond_atom_site_label_2": "O5",
         "_geom_bond_distance": "1.986284",
         "_ccdc_geom_bond_type": "S",
         "_deepnote_index_column": 57
        },
        {
         "_geom_bond_atom_site_label_1": "C21",
         "_geom_bond_atom_site_label_2": "C23",
         "_geom_bond_distance": "1.508058",
         "_ccdc_geom_bond_type": "S",
         "_deepnote_index_column": 58
        },
        {
         "_geom_bond_atom_site_label_1": "C9",
         "_geom_bond_atom_site_label_2": "C14",
         "_geom_bond_distance": "1.347186",
         "_ccdc_geom_bond_type": "A",
         "_deepnote_index_column": 59
        },
        {
         "_geom_bond_atom_site_label_1": "C11",
         "_geom_bond_atom_site_label_2": "C12",
         "_geom_bond_distance": "1.408967",
         "_ccdc_geom_bond_type": "A",
         "_deepnote_index_column": 60
        },
        {
         "_geom_bond_atom_site_label_1": "C30",
         "_geom_bond_atom_site_label_2": "O20",
         "_geom_bond_distance": "1.221910",
         "_ccdc_geom_bond_type": "D",
         "_deepnote_index_column": 61
        },
        {
         "_geom_bond_atom_site_label_1": "C30",
         "_geom_bond_atom_site_label_2": "O21",
         "_geom_bond_distance": "1.398898",
         "_ccdc_geom_bond_type": "S",
         "_deepnote_index_column": 62
        },
        {
         "_geom_bond_atom_site_label_1": "C18",
         "_geom_bond_atom_site_label_2": "H6",
         "_geom_bond_distance": "1.080611",
         "_ccdc_geom_bond_type": "S",
         "_deepnote_index_column": 63
        },
        {
         "_geom_bond_atom_site_label_1": "C25",
         "_geom_bond_atom_site_label_2": "C26",
         "_geom_bond_distance": "1.521664",
         "_ccdc_geom_bond_type": "S",
         "_deepnote_index_column": 64
        },
        {
         "_geom_bond_atom_site_label_1": "C20",
         "_geom_bond_atom_site_label_2": "C21",
         "_geom_bond_distance": "1.497470",
         "_ccdc_geom_bond_type": "S",
         "_deepnote_index_column": 65
        },
        {
         "_geom_bond_atom_site_label_1": "C5",
         "_geom_bond_atom_site_label_2": "H1",
         "_geom_bond_distance": "1.086216",
         "_ccdc_geom_bond_type": "S",
         "_deepnote_index_column": 66
        },
        {
         "_geom_bond_atom_site_label_1": "C29",
         "_geom_bond_atom_site_label_2": "O19",
         "_geom_bond_distance": "1.396440",
         "_ccdc_geom_bond_type": "S",
         "_deepnote_index_column": 67
        },
        {
         "_geom_bond_atom_site_label_1": "O5",
         "_geom_bond_atom_site_label_2": "C3",
         "_geom_bond_distance": "1.294473",
         "_ccdc_geom_bond_type": "A",
         "_deepnote_index_column": 68
        },
        {
         "_geom_bond_atom_site_label_1": "O10",
         "_geom_bond_atom_site_label_2": "H10",
         "_geom_bond_distance": "1.013808",
         "_ccdc_geom_bond_type": "S",
         "_deepnote_index_column": 69
        },
        {
         "_geom_bond_atom_site_label_1": "C19",
         "_geom_bond_atom_site_label_2": "H7",
         "_geom_bond_distance": "1.081174",
         "_ccdc_geom_bond_type": "S",
         "_deepnote_index_column": 70
        },
        {
         "_geom_bond_atom_site_label_1": "O2",
         "_geom_bond_atom_site_label_2": "C1",
         "_geom_bond_distance": "1.283721",
         "_ccdc_geom_bond_type": "A",
         "_deepnote_index_column": 71
        },
        {
         "_geom_bond_atom_site_label_1": "C23",
         "_geom_bond_atom_site_label_2": "O10",
         "_geom_bond_distance": "1.399222",
         "_ccdc_geom_bond_type": "S",
         "_deepnote_index_column": 72
        },
        {
         "_geom_bond_atom_site_label_1": "C12",
         "_geom_bond_atom_site_label_2": "C28",
         "_geom_bond_distance": "1.477908",
         "_ccdc_geom_bond_type": "S",
         "_deepnote_index_column": 73
        },
        {
         "_geom_bond_atom_site_label_1": "O1",
         "_geom_bond_atom_site_label_2": "C1",
         "_geom_bond_distance": "1.291914",
         "_ccdc_geom_bond_type": "A",
         "_deepnote_index_column": 74
        },
        {
         "_geom_bond_atom_site_label_1": "C12",
         "_geom_bond_atom_site_label_2": "C13",
         "_geom_bond_distance": "1.425976",
         "_ccdc_geom_bond_type": "A",
         "_deepnote_index_column": 75
        },
        {
         "_geom_bond_atom_site_label_1": "C9",
         "_geom_bond_atom_site_label_2": "C10",
         "_geom_bond_distance": "1.383277",
         "_ccdc_geom_bond_type": "A",
         "_deepnote_index_column": 76
        },
        {
         "_geom_bond_atom_site_label_1": "C7",
         "_geom_bond_atom_site_label_2": "O13",
         "_geom_bond_distance": "1.398342",
         "_ccdc_geom_bond_type": "S",
         "_deepnote_index_column": 77
        },
        {
         "_geom_bond_atom_site_label_1": "Zn1",
         "_geom_bond_atom_site_label_2": "N2",
         "_geom_bond_distance": "2.018145",
         "_ccdc_geom_bond_type": "S",
         "_deepnote_index_column": 78
        },
        {
         "_geom_bond_atom_site_label_1": "Zn2",
         "_geom_bond_atom_site_label_2": "O6",
         "_geom_bond_distance": "1.987563",
         "_ccdc_geom_bond_type": "S",
         "_deepnote_index_column": 79
        },
        {
         "_geom_bond_atom_site_label_1": "O2",
         "_geom_bond_atom_site_label_2": "Zn2",
         "_geom_bond_distance": "1.986286",
         "_ccdc_geom_bond_type": "S",
         "_deepnote_index_column": 80
        },
        {
         "_geom_bond_atom_site_label_1": "C23",
         "_geom_bond_atom_site_label_2": "O9",
         "_geom_bond_distance": "1.222312",
         "_ccdc_geom_bond_type": "D",
         "_deepnote_index_column": 81
        },
        {
         "_geom_bond_atom_site_label_1": "C5",
         "_geom_bond_atom_site_label_2": "C6",
         "_geom_bond_distance": "1.332432",
         "_ccdc_geom_bond_type": "D",
         "_deepnote_index_column": 82
        },
        {
         "_geom_bond_atom_site_label_1": "O13",
         "_geom_bond_atom_site_label_2": "C25",
         "_geom_bond_distance": "1.411417",
         "_ccdc_geom_bond_type": "S",
         "_deepnote_index_column": 83
        },
        {
         "_geom_bond_atom_site_label_1": "C21",
         "_geom_bond_atom_site_label_2": "H8",
         "_geom_bond_distance": "1.113555",
         "_ccdc_geom_bond_type": "S",
         "_deepnote_index_column": 84
        },
        {
         "_geom_bond_atom_site_label_1": "C14",
         "_geom_bond_atom_site_label_2": "C15",
         "_geom_bond_distance": "1.497242",
         "_ccdc_geom_bond_type": "S",
         "_deepnote_index_column": 85
        },
        {
         "_geom_bond_atom_site_label_1": "O6",
         "_geom_bond_atom_site_label_2": "C3",
         "_geom_bond_distance": "1.284366",
         "_ccdc_geom_bond_type": "A",
         "_deepnote_index_column": 86
        },
        {
         "_geom_bond_atom_site_label_1": "N2",
         "_geom_bond_atom_site_label_2": "C20",
         "_geom_bond_distance": "1.364971",
         "_ccdc_geom_bond_type": "A",
         "_deepnote_index_column": 87
        }
       ],
       "rows_bottom": null
      },
      "text/plain": "   _geom_bond_atom_site_label_1 _geom_bond_atom_site_label_2  \\\n4                            O4                          Zn2   \n5                           Zn1                           O7   \n6                           C10                          C11   \n7                           C21                          C22   \n8                           O19                          H19   \n..                          ...                          ...   \n83                          O13                          C25   \n84                          C21                           H8   \n85                          C14                          C15   \n86                           O6                           C3   \n87                           N2                          C20   \n\n   _geom_bond_distance _ccdc_geom_bond_type  \n4             1.964878                    S  \n5             1.964880                    S  \n6             1.421566                    A  \n7             1.527080                    S  \n8             1.013968                    S  \n..                 ...                  ...  \n83            1.411417                    S  \n84            1.113555                    S  \n85            1.497242                    S  \n86            1.284366                    A  \n87            1.364971                    A  \n\n[84 rows x 4 columns]",
      "text/html": "<div>\n<style scoped>\n    .dataframe tbody tr th:only-of-type {\n        vertical-align: middle;\n    }\n\n    .dataframe tbody tr th {\n        vertical-align: top;\n    }\n\n    .dataframe thead th {\n        text-align: right;\n    }\n</style>\n<table border=\"1\" class=\"dataframe\">\n  <thead>\n    <tr style=\"text-align: right;\">\n      <th></th>\n      <th>_geom_bond_atom_site_label_1</th>\n      <th>_geom_bond_atom_site_label_2</th>\n      <th>_geom_bond_distance</th>\n      <th>_ccdc_geom_bond_type</th>\n    </tr>\n  </thead>\n  <tbody>\n    <tr>\n      <th>4</th>\n      <td>O4</td>\n      <td>Zn2</td>\n      <td>1.964878</td>\n      <td>S</td>\n    </tr>\n    <tr>\n      <th>5</th>\n      <td>Zn1</td>\n      <td>O7</td>\n      <td>1.964880</td>\n      <td>S</td>\n    </tr>\n    <tr>\n      <th>6</th>\n      <td>C10</td>\n      <td>C11</td>\n      <td>1.421566</td>\n      <td>A</td>\n    </tr>\n    <tr>\n      <th>7</th>\n      <td>C21</td>\n      <td>C22</td>\n      <td>1.527080</td>\n      <td>S</td>\n    </tr>\n    <tr>\n      <th>8</th>\n      <td>O19</td>\n      <td>H19</td>\n      <td>1.013968</td>\n      <td>S</td>\n    </tr>\n    <tr>\n      <th>...</th>\n      <td>...</td>\n      <td>...</td>\n      <td>...</td>\n      <td>...</td>\n    </tr>\n    <tr>\n      <th>83</th>\n      <td>O13</td>\n      <td>C25</td>\n      <td>1.411417</td>\n      <td>S</td>\n    </tr>\n    <tr>\n      <th>84</th>\n      <td>C21</td>\n      <td>H8</td>\n      <td>1.113555</td>\n      <td>S</td>\n    </tr>\n    <tr>\n      <th>85</th>\n      <td>C14</td>\n      <td>C15</td>\n      <td>1.497242</td>\n      <td>S</td>\n    </tr>\n    <tr>\n      <th>86</th>\n      <td>O6</td>\n      <td>C3</td>\n      <td>1.284366</td>\n      <td>A</td>\n    </tr>\n    <tr>\n      <th>87</th>\n      <td>N2</td>\n      <td>C20</td>\n      <td>1.364971</td>\n      <td>A</td>\n    </tr>\n  </tbody>\n</table>\n<p>84 rows × 4 columns</p>\n</div>"
     },
     "metadata": {}
    }
   ]
  },
  {
   "cell_type": "markdown",
   "source": "# Apply Adapters",
   "metadata": {
    "tags": [],
    "is_collapsed": false,
    "cell_id": "00016-22511148-5220-4349-aa46-957fbf4fc920",
    "deepnote_app_coordinates": {
     "x": 0,
     "y": 184,
     "w": 24,
     "h": 2
    },
    "deepnote_cell_type": "text-cell-h1"
   }
  },
  {
   "cell_type": "code",
   "metadata": {
    "tags": [],
    "cell_id": "00018-3a25337e-9884-4164-a2a1-8551c952b523",
    "deepnote_to_be_reexecuted": false,
    "source_hash": "808866ba",
    "execution_start": 1632078867707,
    "execution_millis": 36,
    "deepnote_app_coordinates": {
     "x": 0,
     "y": 187,
     "w": 24,
     "h": 23
    },
    "deepnote_cell_type": "code"
   },
   "source": "def chuck_pickle(df, n, path='.'):\n    for i in range(1, df.shape[0], n):\n        chuck = df.loc[i:i+n -1]\n        start = chuck.index[0]\n        end = chuck.index[-1]\n        filename = f'{start}_{end}.pickle'\n        filepath = (path + '/'+ filename).replace('//', '/')\n        if not os.path.exists(filepath):\n            print(f\"Pickle file from {start} to {end} not found, generating the new one\")\n            chuck['cif'] = chuck.cif_filepath.progress_apply(\n                lambda cif_filepath: cif2pandas_adapter.apply(cif_filepath)\n            )\n            chuck.to_pickle(filepath)\n        else:\n            print(f\"found {filepath}\")\n\n\nchuck_pickle(Train, 10000, path=PREPROCESSING_TRAIN_PATH)\nchuck_pickle(Pretest, 10000, path=PREPROCESSING_PRETEST_PATH) ",
   "execution_count": null,
   "outputs": [
    {
     "name": "stdout",
     "text": "found preprocessing_results/train/1_10000.pickle\nfound preprocessing_results/train/10001_20000.pickle\nfound preprocessing_results/train/20001_30000.pickle\nfound preprocessing_results/train/30001_40000.pickle\nfound preprocessing_results/train/40001_50000.pickle\nfound preprocessing_results/train/50001_60000.pickle\nfound preprocessing_results/train/60001_68613.pickle\nfound preprocessing_results/pretest/1_2000.pickle\n",
     "output_type": "stream"
    }
   ]
  },
  {
   "cell_type": "markdown",
   "source": "# Merge",
   "metadata": {
    "tags": [],
    "is_collapsed": false,
    "cell_id": "00019-8dfcf5c1-e66f-448a-81ce-59f870b74545",
    "deepnote_cell_type": "text-cell-h1"
   }
  },
  {
   "cell_type": "markdown",
   "source": "## metadata",
   "metadata": {
    "tags": [],
    "is_collapsed": false,
    "cell_id": "00020-6cd34600-055f-48b2-9062-0d410463f84d",
    "deepnote_cell_type": "text-cell-h2"
   }
  },
  {
   "cell_type": "code",
   "metadata": {
    "tags": [],
    "cell_id": "00022-9866c831-2f32-47a4-90be-8fa21a4b2917",
    "deepnote_to_be_reexecuted": false,
    "source_hash": "7d1e3b65",
    "execution_start": 1632078867717,
    "execution_millis": 18001,
    "deepnote_app_coordinates": {
     "x": 0,
     "y": 251,
     "w": 24,
     "h": 13
    },
    "deepnote_cell_type": "code"
   },
   "source": "Train = read_pandas_pickle(PREPROCESSING_TRAIN_PATH)\nTrain = merge_metadata(Train)\n\nPretest = read_pandas_pickle(PREPROCESSING_PRETEST_PATH)\nPretest = merge_metadata(Pretest)",
   "execution_count": null,
   "outputs": [
    {
     "name": "stdout",
     "text": "60001_68613.pickle\n40001_50000.pickle\n10001_20000.pickle\n20001_30000.pickle\n50001_60000.pickle\n1_10000.pickle\n30001_40000.pickle\n1_2000.pickle\n",
     "output_type": "stream"
    }
   ]
  },
  {
   "cell_type": "markdown",
   "source": "## Loop 0",
   "metadata": {
    "tags": [],
    "is_collapsed": false,
    "cell_id": "00022-6c704be3-f07f-46d9-8840-3523000b9552",
    "deepnote_cell_type": "text-cell-h2"
   }
  },
  {
   "cell_type": "code",
   "metadata": {
    "tags": [],
    "cell_id": "00021-f076b8b4-ac1f-49ee-84ac-fc424cc2a64c",
    "deepnote_to_be_reexecuted": false,
    "source_hash": "fbd54ef8",
    "execution_start": 1632078885729,
    "execution_millis": 136054,
    "deepnote_cell_type": "code"
   },
   "source": "Train = aggregate_loop_0(Train)",
   "execution_count": null,
   "outputs": [
    {
     "name": "stderr",
     "text": "100%|██████████| 68613/68613 [02:15<00:00, 505.26it/s]\n",
     "output_type": "stream"
    }
   ]
  },
  {
   "cell_type": "code",
   "metadata": {
    "tags": [],
    "cell_id": "00022-cd606856-f87f-4357-a9c3-c80535554bc4",
    "deepnote_to_be_reexecuted": false,
    "source_hash": "17a5b944",
    "execution_start": 1632079021827,
    "execution_millis": 4068,
    "deepnote_cell_type": "code"
   },
   "source": "Pretest = aggregate_loop_0(Pretest)",
   "execution_count": null,
   "outputs": [
    {
     "name": "stderr",
     "text": "100%|██████████| 2000/2000 [00:04<00:00, 492.43it/s]\n",
     "output_type": "stream"
    }
   ]
  },
  {
   "cell_type": "markdown",
   "source": "## Loop 1",
   "metadata": {
    "tags": [],
    "is_collapsed": false,
    "cell_id": "00025-e1049cbf-67f2-484a-b331-a0837b454af1",
    "deepnote_cell_type": "text-cell-h2"
   }
  },
  {
   "cell_type": "code",
   "metadata": {
    "tags": [],
    "cell_id": "00028-33e181c8-29e2-45ec-aef8-1af746cae9a4",
    "deepnote_to_be_reexecuted": false,
    "source_hash": "6e5fc77c",
    "execution_start": 1632079025895,
    "execution_millis": 82002,
    "deepnote_cell_type": "code"
   },
   "source": "Train = aggregate_loop_1(Train)",
   "execution_count": null,
   "outputs": [
    {
     "name": "stderr",
     "text": "100%|██████████| 68613/68613 [01:21<00:00, 838.91it/s]\n",
     "output_type": "stream"
    }
   ]
  },
  {
   "cell_type": "code",
   "metadata": {
    "tags": [],
    "cell_id": "00028-793fb95c-eeba-4d74-8503-f3725753cab4",
    "deepnote_to_be_reexecuted": false,
    "source_hash": "ed80611f",
    "execution_start": 1632079107938,
    "execution_millis": 2386,
    "deepnote_cell_type": "code"
   },
   "source": "Pretest = aggregate_loop_1(Pretest)",
   "execution_count": null,
   "outputs": [
    {
     "name": "stderr",
     "text": "100%|██████████| 2000/2000 [00:02<00:00, 840.50it/s]\n",
     "output_type": "stream"
    }
   ]
  },
  {
   "cell_type": "markdown",
   "source": "# Finalize",
   "metadata": {
    "tags": [],
    "is_collapsed": false,
    "cell_id": "00021-4c652ea2-39e8-495e-bd78-9d3f74606538",
    "deepnote_app_coordinates": {
     "x": 0,
     "y": 265,
     "w": 24,
     "h": 2
    },
    "deepnote_cell_type": "text-cell-h1"
   }
  },
  {
   "cell_type": "markdown",
   "source": "## Sort columns",
   "metadata": {
    "tags": [],
    "is_collapsed": false,
    "cell_id": "00030-f501b1fe-aa86-417f-98bc-e97067274689",
    "deepnote_cell_type": "text-cell-h2"
   }
  },
  {
   "cell_type": "code",
   "metadata": {
    "tags": [],
    "cell_id": "00031-6d8d6608-f58d-4c23-8eca-cddd55b91932",
    "deepnote_to_be_reexecuted": false,
    "source_hash": "30349c4d",
    "execution_start": 1632079110323,
    "execution_millis": 160,
    "deepnote_cell_type": "code"
   },
   "source": "target = ['CO2_working_capacity [mL/g]']\nsorted_columns = list(\n    Train.drop('CO2_working_capacity [mL/g]', axis=1).#\n        columns\n) + target\n\nTrain = Train[sorted_columns]",
   "execution_count": null,
   "outputs": []
  },
  {
   "cell_type": "markdown",
   "source": "## Save",
   "metadata": {
    "tags": [],
    "is_collapsed": false,
    "cell_id": "00032-c3e85609-3169-4bfc-a07a-75208476c90f",
    "deepnote_cell_type": "text-cell-h2"
   }
  },
  {
   "cell_type": "code",
   "metadata": {
    "tags": [],
    "cell_id": "00022-d44205e8-df0e-43c0-a0ea-69f47aecf0be",
    "deepnote_to_be_reexecuted": false,
    "source_hash": "1afde56",
    "execution_start": 1632079110530,
    "execution_millis": 36904,
    "deepnote_app_coordinates": {
     "x": 0,
     "y": 268,
     "w": 24,
     "h": 6
    },
    "deepnote_cell_type": "code"
   },
   "source": "Train.to_pickle(\"/work/preprocessing_results/train_merged_CIF/Train.pickle\")\nPretest.to_pickle(\"/work/preprocessing_results/pretest_merged_CIF/Pretest.pickle\")\n\nTrain.drop(\"cif\", axis=1).to_csv(\"/work/preprocessing_results/train_merged_CIF/Train.csv\")\nPretest.drop(\"cif\", axis=1).to_csv(\"/work/preprocessing_results/pretest_merged_CIF/Pretest.csv\")",
   "execution_count": null,
   "outputs": []
  },
  {
   "cell_type": "markdown",
   "source": "<a style='text-decoration:none;line-height:16px;display:flex;color:#5B5B62;padding:10px;justify-content:end;' href='https://deepnote.com?utm_source=created-in-deepnote-cell&projectId=cf8541de-dbc3-45f6-bc1e-4fa446cacbcd' target=\"_blank\">\n<img alt='Created in deepnote.com' style='display:inline;max-height:16px;margin:0px;margin-right:7.5px;' src='data:image/svg+xml;base64,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' > </img>\nCreated in <span style='font-weight:600;margin-left:4px;'>Deepnote</span></a>",
   "metadata": {
    "tags": [],
    "created_in_deepnote_cell": true,
    "deepnote_cell_type": "markdown"
   }
  }
 ],
 "nbformat": 4,
 "nbformat_minor": 2,
 "metadata": {
  "orig_nbformat": 2,
  "deepnote": {
   "is_reactive": false
  },
  "deepnote_notebook_id": "6751d593-9ccc-442e-8316-ddba291a202d",
  "deepnote_execution_queue": [],
  "deepnote_app_layout": "dashboard"
 }
}