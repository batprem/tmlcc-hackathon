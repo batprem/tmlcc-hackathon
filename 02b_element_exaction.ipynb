{
 "cells": [
  {
   "cell_type": "code",
   "source": "import pandas as pd\nfrom src.constants import (\n    PREPROCESSING_PATH,\n    TARGET\n)\n\nimport numpy as np\nimport re\nfrom typing import List\nfrom collections import Counter\nimport itertools\nimport seaborn as sns",
   "metadata": {
    "tags": [],
    "cell_id": "00001-d2c71b05-97a4-4715-9bd4-4f34a981a92d",
    "deepnote_to_be_reexecuted": false,
    "source_hash": "73974037",
    "execution_start": 1632164822300,
    "execution_millis": 1239,
    "deepnote_cell_type": "code"
   },
   "outputs": [],
   "execution_count": null
  },
  {
   "cell_type": "code",
   "metadata": {
    "tags": [],
    "cell_id": "00000-744d97d6-9b16-4e61-b101-f70b5bdfd0f8",
    "deepnote_to_be_reexecuted": false,
    "source_hash": "8052e839",
    "execution_start": 1632164823539,
    "execution_millis": 461,
    "deepnote_cell_type": "code"
   },
   "source": "Train = pd.read_csv(f\"{PREPROCESSING_PATH}/train_merged_CIF/Train.csv\")\nTrain = Train.set_index(Train.columns[0])\n\nPretest = pd.read_csv(f\"{PREPROCESSING_PATH}/pretest_merged_CIF/Pretest.csv\")\nPretest = Pretest.set_index(Pretest.columns[0])",
   "outputs": [],
   "execution_count": null
  },
  {
   "cell_type": "code",
   "source": "def molecule_to_element_list(molecule: str) -> List[str]:\n    try:\n        return re.findall(\n            r'[A-Z][a-z]?\\d*|\\((?:[^()]*(?:\\(.*\\))?[^()]*)+\\)\\d+',\n            molecule\n        )\n    except TypeError:\n        return []\n\n\n\nprint(molecule_to_element_list(\"NHMe-OH\"))\nprint(molecule_to_element_list(\"SO3H\"))",
   "metadata": {
    "tags": [],
    "cell_id": "00002-551c3ed4-2c61-4210-b879-a27a5c661c30",
    "deepnote_to_be_reexecuted": false,
    "source_hash": "7c79768a",
    "execution_start": 1632160686242,
    "execution_millis": 141,
    "deepnote_cell_type": "code"
   },
   "outputs": [
    {
     "name": "stdout",
     "text": "['N', 'H', 'Me', 'O', 'H']\n['S', 'O3', 'H']\n",
     "output_type": "stream"
    }
   ],
   "execution_count": null
  },
  {
   "cell_type": "code",
   "source": "df = Train.copy()",
   "metadata": {
    "tags": [],
    "cell_id": "00003-292ef463-d395-4d34-a384-72197da4f672",
    "deepnote_to_be_reexecuted": false,
    "source_hash": "d22fe311",
    "execution_start": 1632161266197,
    "execution_millis": 14,
    "deepnote_cell_type": "code"
   },
   "outputs": [],
   "execution_count": null
  },
  {
   "cell_type": "code",
   "source": "itertools.tee",
   "metadata": {
    "tags": [],
    "cell_id": "00004-1afec974-f9c7-4532-b6e5-627141fb1bfd",
    "deepnote_to_be_reexecuted": false,
    "source_hash": "a3456b11",
    "execution_start": 1632161219763,
    "execution_millis": 11,
    "deepnote_cell_type": "code"
   },
   "outputs": [
    {
     "output_type": "execute_result",
     "execution_count": 34,
     "data": {
      "text/plain": "<function itertools.tee(iterable, n=2, /)>"
     },
     "metadata": {}
    }
   ],
   "execution_count": null
  },
  {
   "cell_type": "code",
   "source": "class FunctionalGroupToGramExtractor():\n    specific_columns: list = []\n\n    @staticmethod\n    def molecule_to_element_list(molecule: str) -> List[str]:\n        try:\n            return re.findall(\n                r'[A-Z][a-z]?\\d*|\\((?:[^()]*(?:\\(.*\\))?[^()]*)+\\)\\d+',\n                molecule\n            )\n        except TypeError:\n            return []\n\n    @staticmethod\n    def molecule_to_element_list(molecule: str) -> List[str]:\n        try:\n            return re.findall(\n                r'[A-Z][a-z]?\\d*|\\((?:[^()]*(?:\\(.*\\))?[^()]*)+\\)\\d+',\n                molecule\n            )\n        except TypeError:\n            return []\n\n    @staticmethod\n    def bigram(molecule):\n        a, b = itertools.tee(molecule)\n        next(b, None)\n        return [\"-\".join(gram) for gram in (zip(a, b))] \n\n    @staticmethod\n    def trigram(molecule):\n        a, b, c = itertools.tee(molecule, 3)\n        next(b, None)\n        next(c, None)\n        next(c, None)\n        return [\"-\".join(gram) for gram in (zip(a, b, c))]\n\n\n    def transform(self, df, fit=False, filter_ratio=0.01):\n        df['functional_group_list'] = df.functional_groups.apply(\n            self.molecule_to_element_list\n        )\n        df['functional_group_bigram_list'] = df.functional_group_list.apply(\n            lambda x: self.bigram(x)\n        )\n\n        df['functional_group_unigram'] = df.functional_group_list.apply(\n            lambda x: dict(Counter(x))\n        )\n\n        df['functional_group_bigram'] = df.functional_group_bigram_list.apply(\n            lambda x: dict(Counter(x))\n        )\n\n        unigram_df = pd.DataFrame(\n            list(df['functional_group_unigram'].values)\n        ).fillna(0)\n        unigram_df.index = df.index\n        unigram_df.columns = 'functional_group_unigram_' + unigram_df.columns\n\n        bigram_df = pd.DataFrame(list(df['functional_group_bigram'].values)).fillna(0)\n        bigram_df.index = df.index\n        bigram_df.columns = 'functional_group_bigram_' + bigram_df.columns\n\n        congram_df = pd.concat([unigram_df, bigram_df], axis=1)\n        if fit:\n            self.specific_columns = []\n            for col in congram_df.columns:\n                if np.mean(congram_df[col] > 0) > filter_ratio:\n                    self.specific_columns.append(col)\n        else:\n            for col in self.specific_columns:\n                congram_df[col] = congram_df.get(col, 0)\n        return congram_df[self.specific_columns]\n\n\n\nfuntional_group_extractor = FunctionalGroupToGramExtractor()\ntrain = funtional_group_extractor.transform(Train, fit=True)",
   "metadata": {
    "tags": [],
    "cell_id": "00002-6313ae61-cd89-43c3-a662-a85025f277ec",
    "deepnote_to_be_reexecuted": false,
    "source_hash": "7441c6b5",
    "execution_start": 1632164898720,
    "execution_millis": 3134,
    "deepnote_cell_type": "code"
   },
   "outputs": [],
   "execution_count": null
  },
  {
   "cell_type": "code",
   "source": "pretest = funtional_group_extractor.transform(Pretest, fit=False)",
   "metadata": {
    "tags": [],
    "cell_id": "00006-a2dab0ef-4899-4415-9084-50beb36270b5",
    "deepnote_to_be_reexecuted": false,
    "source_hash": "bc974c7a",
    "execution_start": 1632164906756,
    "execution_millis": 96,
    "deepnote_cell_type": "code"
   },
   "outputs": [],
   "execution_count": null
  },
  {
   "cell_type": "code",
   "source": "assert all(train.columns == pretest.columns)",
   "metadata": {
    "tags": [],
    "cell_id": "00007-8e7d0faa-7448-479c-818c-c6091708ab4f",
    "deepnote_to_be_reexecuted": false,
    "source_hash": "b0912fa4",
    "execution_start": 1632164908254,
    "execution_millis": 0,
    "deepnote_cell_type": "code"
   },
   "outputs": [],
   "execution_count": null
  },
  {
   "cell_type": "code",
   "source": "for col in test.columns:\n    print(col)\n    print(np.mean(test[col] > 0))",
   "metadata": {
    "tags": [],
    "cell_id": "00006-4c11198c-9e97-4ea2-abd2-c9a77e40f5e7",
    "deepnote_to_be_reexecuted": false,
    "source_hash": "ce5fc1e8",
    "execution_start": 1632164018486,
    "execution_millis": 157,
    "deepnote_cell_type": "code"
   },
   "outputs": [
    {
     "name": "stdout",
     "text": "functional_group_unigram_C\n0.2482182676752219\nfunctional_group_unigram_O\n0.49914739189366447\nfunctional_group_unigram_H\n0.5182691326716511\nfunctional_group_unigram_Et\n0.14325273636191393\nfunctional_group_unigram_F\n0.09951466923177824\nfunctional_group_unigram_Me\n0.26130616646991095\nfunctional_group_unigram_S\n0.08464868173669712\nfunctional_group_unigram_O3\n0.08464868173669712\nfunctional_group_unigram_N\n0.3359275938962004\nfunctional_group_unigram_Pr\n0.1347266552985586\nfunctional_group_unigram_O2\n0.12193024645475348\nfunctional_group_unigram_H2\n0.08915220147785405\nfunctional_group_unigram_Br\n0.0709195050500634\nfunctional_group_unigram_Cl\n0.091440397592293\nfunctional_group_unigram_Ph\n0.04443764301225715\nfunctional_group_unigram_I\n0.06402576771165815\nfunctional_group_bigram_C-O\n0.18484835235305264\nfunctional_group_bigram_O-O\n0.09794062349700494\nfunctional_group_bigram_O-H\n0.20469881800824916\nfunctional_group_bigram_H-O\n0.03991954877355603\nfunctional_group_bigram_O-Et\n0.0749857898648944\nfunctional_group_bigram_F-O\n0.01068310669989652\nfunctional_group_bigram_O-Me\n0.10978969000043723\nfunctional_group_bigram_Me-C\n0.011470129567283167\nfunctional_group_bigram_H-S\n0.008322038097736581\nfunctional_group_bigram_S-O3\n0.08464868173669712\nfunctional_group_bigram_O3-H\n0.08464868173669712\nfunctional_group_bigram_N-H\n0.08346814743561716\nfunctional_group_bigram_H-Me\n0.08954571291154738\nfunctional_group_bigram_Me-O\n0.024120793435646305\nfunctional_group_bigram_Pr-N\n0.009036188477402242\nfunctional_group_bigram_N-O2\n0.12193024645475348\nfunctional_group_bigram_N-H2\n0.08915220147785405\nfunctional_group_bigram_H-C\n0.11808257910308542\nfunctional_group_bigram_Me-Br\n0.005305117106087768\nfunctional_group_bigram_Me-N\n0.017810035999008933\nfunctional_group_bigram_Et-C\n0.005596607056971711\nfunctional_group_bigram_C-N\n0.07003046069986738\nfunctional_group_bigram_Cl-Pr\n0.0011805343010799702\nfunctional_group_bigram_Me-F\n0.007666185708247709\nfunctional_group_bigram_H-Pr\n0.006208735953827991\nfunctional_group_bigram_H-Cl\n0.01017299928584962\nfunctional_group_bigram_Et-O\n0.011776194015711308\nfunctional_group_bigram_Et-H\n0.008292889102648186\nfunctional_group_bigram_Et-Br\n0.002652558553043884\nfunctional_group_bigram_H-F\n0.01104746913850145\nfunctional_group_bigram_O2-N\n0.005334266101176162\nfunctional_group_bigram_Me-Me\n0.0037602203664028684\nfunctional_group_bigram_O-Pr\n0.08144229227697375\nfunctional_group_bigram_Pr-S\n0.0020695786512759974\nfunctional_group_bigram_Ph-Me\n0.0005684054042236894\nfunctional_group_bigram_Pr-Br\n0.0022736216168947575\nfunctional_group_bigram_O2-O\n0.012446620902744378\nfunctional_group_bigram_O-S\n0.0020695786512759974\nfunctional_group_bigram_Cl-H\n0.0052759681109993736\nfunctional_group_bigram_Cl-O\n0.009444274408639762\nfunctional_group_bigram_H2-O\n0.009254805940565198\nfunctional_group_bigram_O2-I\n0.0022881961144389546\nfunctional_group_bigram_F-Et\n0.0021716001340853774\nfunctional_group_bigram_F-Me\n0.0022153236267179687\nfunctional_group_bigram_Br-Cl\n0.0016323437249500822\nfunctional_group_bigram_O2-H\n0.007884803171410666\nfunctional_group_bigram_H-H\n0.022838237651756955\nfunctional_group_bigram_I-S\n0.0015740457347732937\nfunctional_group_bigram_Cl-C\n0.003964263332021629\nfunctional_group_bigram_O2-Ph\n0.001326279276521942\nfunctional_group_bigram_Pr-H\n0.007724483698424497\nfunctional_group_bigram_O-C\n0.004197455292728783\nfunctional_group_bigram_Pr-O\n0.010828851675338492\nfunctional_group_bigram_Et-Cl\n0.0030460699867372073\nfunctional_group_bigram_Ph-Cl\n0.0009910658330054072\nfunctional_group_bigram_Pr-F\n0.003410432425342136\nfunctional_group_bigram_I-O\n0.006310757436637372\nfunctional_group_bigram_Cl-F\n0.002506813577601912\nfunctional_group_bigram_Et-I\n0.0022590471193505604\nfunctional_group_bigram_H-N\n0.03427921822395173\nfunctional_group_bigram_I-C\n0.0024485155874251234\nfunctional_group_bigram_Me-H\n0.017183332604608456\nfunctional_group_bigram_Me-Pr\n0.003410432425342136\nfunctional_group_bigram_F-H\n0.005946394998032443\nfunctional_group_bigram_Ph-H\n0.0021133021439085887\nfunctional_group_bigram_Br-H\n0.003745645868858671\nfunctional_group_bigram_Me-Et\n0.00508649964292481\nfunctional_group_bigram_H-I\n0.006908311835949456\nfunctional_group_bigram_Et-F\n0.0036873478786818826\nfunctional_group_bigram_Me-Cl\n0.00683543934822847\nfunctional_group_bigram_H2-F\n0.0022736216168947575\nfunctional_group_bigram_Ph-O\n0.0037602203664028684\nfunctional_group_bigram_Ph-C\n0.0017197907102152654\nfunctional_group_bigram_O2-F\n0.0035270284056957138\nfunctional_group_bigram_Et-N\n0.008730124028974101\nfunctional_group_bigram_N-Et\n0.0012825557838893505\nfunctional_group_bigram_Br-Me\n0.0015448967396848993\nfunctional_group_bigram_H2-H\n0.005669479544692697\nfunctional_group_bigram_Br-S\n0.0018218121930246454\nfunctional_group_bigram_F-Cl\n0.002769154533397461\nfunctional_group_bigram_Cl-N\n0.007549589727894131\nfunctional_group_bigram_Br-I\n0.0009910658330054072\nfunctional_group_bigram_H-Br\n0.007899377668954863\nfunctional_group_bigram_Pr-Me\n0.002565111567778701\nfunctional_group_bigram_O-N\n0.007389270254907962\nfunctional_group_bigram_Br-C\n0.0027983035284858556\nfunctional_group_bigram_H2-N\n0.004853307682217656\nfunctional_group_bigram_O-Br\n0.0021278766414527858\nfunctional_group_bigram_O2-S\n0.0024485155874251234\nfunctional_group_bigram_N-Me\n0.0014137262617871249\nfunctional_group_bigram_N-O\n0.006412778919446752\nfunctional_group_bigram_F-Br\n0.001778088700392054\nfunctional_group_bigram_I-Br\n0.0011368108084473787\nfunctional_group_bigram_F-N\n0.00801597364930844\nfunctional_group_bigram_O2-Me\n0.0028128780260300527\nfunctional_group_bigram_Br-O\n0.006966609826126244\nfunctional_group_bigram_N-N\n0.0056549050471484995\nfunctional_group_bigram_O-I\n0.0019967061635550115\nfunctional_group_bigram_Br-N\n0.005538309066794922\nfunctional_group_bigram_N-Pr\n0.001238832291256759\nfunctional_group_bigram_Cl-S\n0.0020112806610992086\nfunctional_group_bigram_Me-I\n0.004911605672394444\nfunctional_group_bigram_I-Et\n0.001151385305991576\nfunctional_group_bigram_Cl-Et\n0.0019092591782898284\nfunctional_group_bigram_Et-S\n0.002565111567778701\nfunctional_group_bigram_Pr-C\n0.004474370746068529\nfunctional_group_bigram_N-I\n0.0011659598035357731\nfunctional_group_bigram_O2-Br\n0.0023756430997041375\nfunctional_group_bigram_I-Ph\n0.000801597364930844\nfunctional_group_bigram_Pr-Cl\n0.0029731974990162215\nfunctional_group_bigram_Br-Et\n0.0013700027691545334\nfunctional_group_bigram_N-Ph\n0.0010493638231821958\nfunctional_group_bigram_F-Pr\n0.0014574497544197164\nfunctional_group_bigram_Et-Me\n0.002565111567778701\nfunctional_group_bigram_N-Br\n0.0009473423403728157\nfunctional_group_bigram_H2-Pr\n0.0011659598035357731\nfunctional_group_bigram_O-Cl\n0.0030169209916488127\nfunctional_group_bigram_Ph-N\n0.0031626659670907845\nfunctional_group_bigram_O2-C\n0.004401498258347543\nfunctional_group_bigram_H2-Br\n0.0017489397053036596\nfunctional_group_bigram_Ph-I\n0.0006704268870330695\nfunctional_group_bigram_Me-S\n0.00518852112573419\nfunctional_group_bigram_I-N\n0.004940754667482838\nfunctional_group_bigram_O2-Pr\n0.0018218121930246454\nfunctional_group_bigram_I-F\n0.0014574497544197164\nfunctional_group_bigram_H2-C\n0.0037164968737702767\nfunctional_group_bigram_Br-F\n0.0018946846807456313\nfunctional_group_bigram_Cl-I\n0.0015886202323174908\nfunctional_group_bigram_H-Et\n0.008438634078090158\nfunctional_group_bigram_H2-I\n0.0014137262617871249\nfunctional_group_bigram_O-F\n0.0027254310407648697\nfunctional_group_bigram_Br-Ph\n0.000889044350196027\nfunctional_group_bigram_F-C\n0.004343200268170755\nfunctional_group_bigram_I-Pr\n0.0011222363109031817\nfunctional_group_bigram_Pr-I\n0.0020258551586434057\nfunctional_group_bigram_O2-Cl\n0.0031772404646349815\nfunctional_group_bigram_I-H\n0.003366708932709545\nfunctional_group_bigram_N-C\n0.001326279276521942\nfunctional_group_bigram_Et-Pr\n0.0020695786512759974\nfunctional_group_bigram_Cl-Br\n0.0015740457347732937\nfunctional_group_bigram_F-Ph\n0.0013845772666987305\nfunctional_group_bigram_Et-Et\n0.0011951087986241675\nfunctional_group_bigram_Ph-F\n0.0010347893256379987\nfunctional_group_bigram_Cl-Me\n0.002317345109527349\nfunctional_group_bigram_Cl-Ph\n0.0011951087986241675\nfunctional_group_bigram_H2-Et\n0.0016177692274058852\nfunctional_group_bigram_H-Ph\n0.00478043519449667\nfunctional_group_bigram_H2-Me\n0.0019092591782898284\nfunctional_group_bigram_Ph-Br\n0.0007724483698424496\nfunctional_group_bigram_H2-Cl\n0.0020695786512759974\nfunctional_group_bigram_Pr-Ph\n0.0013845772666987305\nfunctional_group_bigram_Br-Pr\n0.0011222363109031817\nfunctional_group_bigram_I-Me\n0.0013554282716103363\nfunctional_group_bigram_N-S\n0.0015740457347732937\nfunctional_group_bigram_I-Cl\n0.0011951087986241675\nfunctional_group_bigram_H2-S\n0.0022590471193505604\nfunctional_group_bigram_O2-Et\n0.002579686065322898\nfunctional_group_bigram_N-F\n0.0017635142028478569\nfunctional_group_bigram_O-Ph\n0.0010639383207263929\nfunctional_group_bigram_Ph-Pr\n0.0006121288968562808\nfunctional_group_bigram_Ph-S\n0.0005684054042236894\nfunctional_group_bigram_H2-Ph\n0.0006995758821214639\nfunctional_group_bigram_Me-Ph\n0.0025213880751461092\nfunctional_group_bigram_F-I\n0.0015448967396848993\nfunctional_group_bigram_Pr-Pr\n0.0008307463600192383\nfunctional_group_bigram_F-S\n0.002608835060411292\nfunctional_group_bigram_Pr-Et\n0.0019238336758340257\nfunctional_group_bigram_N-Cl\n0.0011659598035357731\nfunctional_group_bigram_Et-Ph\n0.001326279276521942\nfunctional_group_bigram_Ph-Et\n0.0006558523894888724\n",
     "output_type": "stream"
    }
   ],
   "execution_count": null
  },
  {
   "cell_type": "code",
   "source": "bigram_df = pd.DataFrame(list(df['functional_group_bigram'].values)).fillna(0)\nbigram_df.index = df.index\nbigram_df[TARGET] = df[TARGET]\ncorr = bigram_df.corr()[[TARGET]]",
   "metadata": {
    "tags": [],
    "cell_id": "00006-06c089ff-3b99-44be-a075-984a92115f9f",
    "deepnote_to_be_reexecuted": false,
    "source_hash": "5803d658",
    "execution_start": 1632162952147,
    "execution_millis": 8397,
    "deepnote_cell_type": "code"
   },
   "outputs": [],
   "execution_count": null
  },
  {
   "cell_type": "code",
   "source": "'functional_group_unigram_' + unigram_df.columns",
   "metadata": {
    "tags": [],
    "cell_id": "00007-39d68c0a-34d5-4b59-a7ba-3b9b14d36c04",
    "deepnote_to_be_reexecuted": false,
    "source_hash": "a4f001e8",
    "execution_start": 1632163674402,
    "execution_millis": 21,
    "deepnote_cell_type": "code"
   },
   "outputs": [
    {
     "output_type": "execute_result",
     "execution_count": 99,
     "data": {
      "text/plain": "Index(['functional_group_unigram_C', 'functional_group_unigram_O',\n       'functional_group_unigram_H', 'functional_group_unigram_Et',\n       'functional_group_unigram_F', 'functional_group_unigram_Me',\n       'functional_group_unigram_S', 'functional_group_unigram_O3',\n       'functional_group_unigram_N', 'functional_group_unigram_Pr',\n       'functional_group_unigram_O2', 'functional_group_unigram_H2',\n       'functional_group_unigram_Br', 'functional_group_unigram_Cl',\n       'functional_group_unigram_Ph', 'functional_group_unigram_I',\n       'functional_group_unigram_CO2_working_capacity [mL/g]'],\n      dtype='object')"
     },
     "metadata": {}
    }
   ],
   "execution_count": null
  },
  {
   "cell_type": "code",
   "source": "\nunigram_df[TARGET] = df[TARGET]\ncorr = unigram_df.corr()[[TARGET]]",
   "metadata": {
    "tags": [],
    "cell_id": "00007-12c97af3-c88b-41e2-ae2d-0f9b5b179aa1",
    "deepnote_to_be_reexecuted": false,
    "source_hash": "48001556",
    "execution_start": 1632162976971,
    "execution_millis": 277,
    "deepnote_cell_type": "code"
   },
   "outputs": [],
   "execution_count": null
  },
  {
   "cell_type": "code",
   "source": "pd.DataFrame([{'x': 1}])",
   "metadata": {
    "tags": [],
    "cell_id": "00007-8de1f095-b015-45c3-91f1-8894acdd9547",
    "deepnote_to_be_reexecuted": false,
    "source_hash": "e07fd936",
    "execution_start": 1632162556395,
    "execution_millis": 10,
    "deepnote_cell_type": "code"
   },
   "outputs": [
    {
     "output_type": "execute_result",
     "execution_count": 76,
     "data": {
      "application/vnd.deepnote.dataframe.v2+json": {
       "row_count": 1,
       "column_count": 1,
       "columns": [
        {
         "name": "x",
         "dtype": "int64",
         "stats": {
          "unique_count": 1,
          "nan_count": 0,
          "min": "1",
          "max": "1",
          "histogram": [
           {
            "bin_start": 0.5,
            "bin_end": 0.6,
            "count": 0
           },
           {
            "bin_start": 0.6,
            "bin_end": 0.7,
            "count": 0
           },
           {
            "bin_start": 0.7,
            "bin_end": 0.8,
            "count": 0
           },
           {
            "bin_start": 0.8,
            "bin_end": 0.9,
            "count": 0
           },
           {
            "bin_start": 0.9,
            "bin_end": 1,
            "count": 0
           },
           {
            "bin_start": 1,
            "bin_end": 1.1,
            "count": 1
           },
           {
            "bin_start": 1.1,
            "bin_end": 1.2000000000000002,
            "count": 0
           },
           {
            "bin_start": 1.2000000000000002,
            "bin_end": 1.3,
            "count": 0
           },
           {
            "bin_start": 1.3,
            "bin_end": 1.4,
            "count": 0
           },
           {
            "bin_start": 1.4,
            "bin_end": 1.5,
            "count": 0
           }
          ]
         }
        },
        {
         "name": "_deepnote_index_column",
         "dtype": "int64"
        }
       ],
       "rows_top": [
        {
         "x": 1,
         "_deepnote_index_column": 0
        }
       ],
       "rows_bottom": null
      },
      "text/plain": "   x\n0  1",
      "text/html": "<div>\n<style scoped>\n    .dataframe tbody tr th:only-of-type {\n        vertical-align: middle;\n    }\n\n    .dataframe tbody tr th {\n        vertical-align: top;\n    }\n\n    .dataframe thead th {\n        text-align: right;\n    }\n</style>\n<table border=\"1\" class=\"dataframe\">\n  <thead>\n    <tr style=\"text-align: right;\">\n      <th></th>\n      <th>x</th>\n    </tr>\n  </thead>\n  <tbody>\n    <tr>\n      <th>0</th>\n      <td>1</td>\n    </tr>\n  </tbody>\n</table>\n</div>"
     },
     "metadata": {}
    }
   ],
   "execution_count": null
  },
  {
   "cell_type": "code",
   "source": "pd.DataFrame(df['functional_group_trigram'].values.flatten())",
   "metadata": {
    "tags": [],
    "cell_id": "00006-bc45ac5d-2e0e-4d62-aa82-26c9d83c2374",
    "deepnote_to_be_reexecuted": false,
    "source_hash": "bf66e8ea",
    "execution_start": 1632162501957,
    "execution_millis": 117,
    "deepnote_cell_type": "code"
   },
   "outputs": [
    {
     "output_type": "execute_result",
     "execution_count": 74,
     "data": {
      "application/vnd.deepnote.dataframe.v2+json": {
       "row_count": 68613,
       "column_count": 1,
       "columns": [
        {
         "name": 0,
         "dtype": "object",
         "stats": {
          "unique_count": 68613,
          "nan_count": 0,
          "categories": [
           {
            "name": "{}",
            "count": 22255
           },
           {
            "name": "{'S-O3-H': 1}",
            "count": 1064
           },
           {
            "name": "310 others",
            "count": 45294
           }
          ]
         }
        },
        {
         "name": "_deepnote_index_column",
         "dtype": "int64"
        }
       ],
       "rows_top": [
        {
         "0": "{'C-O-O': 1, 'O-O-H': 1, 'O-H-O': 1, 'H-O-Et': 1}",
         "_deepnote_index_column": 0
        },
        {
         "0": "{'F-O-Me': 1}",
         "_deepnote_index_column": 1
        },
        {
         "0": "{'O-Me-C': 1, 'Me-C-O': 1, 'C-O-O': 1, 'O-O-H': 1}",
         "_deepnote_index_column": 2
        },
        {
         "0": "{'H-S-O3': 1, 'S-O3-H': 1}",
         "_deepnote_index_column": 3
        },
        {
         "0": "{'N-H-Me': 1, 'H-Me-O': 1, 'Me-O-H': 1}",
         "_deepnote_index_column": 4
        },
        {
         "0": "{'Pr-N-O2': 1}",
         "_deepnote_index_column": 5
        },
        {
         "0": "{}",
         "_deepnote_index_column": 6
        },
        {
         "0": "{}",
         "_deepnote_index_column": 7
        },
        {
         "0": "{'H-C-O': 1}",
         "_deepnote_index_column": 8
        },
        {
         "0": "{'N-H-Me': 1, 'H-Me-O': 1, 'Me-O-H': 1}",
         "_deepnote_index_column": 9
        },
        {
         "0": "{'S-O3-H': 1}",
         "_deepnote_index_column": 10
        },
        {
         "0": "{}",
         "_deepnote_index_column": 11
        },
        {
         "0": "{'N-H-Me': 1, 'H-Me-N': 1, 'Me-N-O2': 1}",
         "_deepnote_index_column": 12
        },
        {
         "0": "{'O-Et-C': 1, 'Et-C-N': 1}",
         "_deepnote_index_column": 13
        },
        {
         "0": "{'F-O-Me': 1}",
         "_deepnote_index_column": 14
        },
        {
         "0": "{'O-Me-N': 1, 'Me-N-H2': 1}",
         "_deepnote_index_column": 15
        },
        {
         "0": "{}",
         "_deepnote_index_column": 16
        },
        {
         "0": "{}",
         "_deepnote_index_column": 17
        },
        {
         "0": "{'S-O3-H': 1, 'O3-H-Pr': 1}",
         "_deepnote_index_column": 18
        },
        {
         "0": "{}",
         "_deepnote_index_column": 19
        },
        {
         "0": "{}",
         "_deepnote_index_column": 20
        },
        {
         "0": "{'C-O-O': 1, 'O-O-H': 1, 'O-H-O': 1, 'H-O-H': 1}",
         "_deepnote_index_column": 21
        },
        {
         "0": "{'Et-O-H': 1}",
         "_deepnote_index_column": 22
        },
        {
         "0": "{'O-H-Pr': 1}",
         "_deepnote_index_column": 23
        },
        {
         "0": "{'S-O3-H': 1, 'O3-H-C': 1, 'H-C-O': 1, 'C-O-O': 1, 'O-O-H': 1}",
         "_deepnote_index_column": 24
        },
        {
         "0": "{'O-Et-H': 1}",
         "_deepnote_index_column": 25
        },
        {
         "0": "{'S-O3-H': 1, 'O3-H-O': 1, 'H-O-Et': 1}",
         "_deepnote_index_column": 26
        },
        {
         "0": "{}",
         "_deepnote_index_column": 27
        },
        {
         "0": "{'Pr-N-O2': 1}",
         "_deepnote_index_column": 28
        },
        {
         "0": "{}",
         "_deepnote_index_column": 29
        },
        {
         "0": "{'O-H-F': 1}",
         "_deepnote_index_column": 30
        },
        {
         "0": "{'N-O2-N': 1, 'O2-N-H2': 1}",
         "_deepnote_index_column": 31
        },
        {
         "0": "{'S-O3-H': 1}",
         "_deepnote_index_column": 32
        },
        {
         "0": "{'N-H-Me': 1, 'H-Me-Me': 1}",
         "_deepnote_index_column": 33
        },
        {
         "0": "{'O-Pr-S': 1, 'Pr-S-O3': 1, 'S-O3-H': 1}",
         "_deepnote_index_column": 34
        },
        {
         "0": "{}",
         "_deepnote_index_column": 35
        },
        {
         "0": "{}",
         "_deepnote_index_column": 36
        },
        {
         "0": "{'N-H-Me': 1, 'H-Me-O': 1, 'Me-O-H': 1}",
         "_deepnote_index_column": 37
        },
        {
         "0": "{'O-Pr-Br': 1}",
         "_deepnote_index_column": 38
        },
        {
         "0": "{'C-O-O': 1, 'O-O-H': 1, 'O-H-Me': 1}",
         "_deepnote_index_column": 39
        },
        {
         "0": "{'S-O3-H': 1}",
         "_deepnote_index_column": 40
        },
        {
         "0": "{}",
         "_deepnote_index_column": 41
        },
        {
         "0": "{'N-O2-O': 1, 'O2-O-H': 1}",
         "_deepnote_index_column": 42
        },
        {
         "0": "{}",
         "_deepnote_index_column": 43
        },
        {
         "0": "{}",
         "_deepnote_index_column": 44
        },
        {
         "0": "{}",
         "_deepnote_index_column": 45
        },
        {
         "0": "{'H-C-O': 1, 'C-O-S': 1, 'O-S-O3': 1, 'S-O3-H': 1}",
         "_deepnote_index_column": 46
        },
        {
         "0": "{'Cl-H-C': 1, 'H-C-O': 1}",
         "_deepnote_index_column": 47
        },
        {
         "0": "{'C-O-O': 1, 'O-O-H': 1, 'O-H-O': 1, 'H-O-Et': 1}",
         "_deepnote_index_column": 48
        },
        {
         "0": "{}",
         "_deepnote_index_column": 49
        },
        {
         "0": "{'N-H-Me': 1}",
         "_deepnote_index_column": 50
        },
        {
         "0": "{'H-C-O': 1, 'C-O-O': 1, 'O-O-H': 1}",
         "_deepnote_index_column": 51
        },
        {
         "0": "{'Cl-O-Pr': 1}",
         "_deepnote_index_column": 52
        },
        {
         "0": "{}",
         "_deepnote_index_column": 53
        },
        {
         "0": "{'C-O-O': 1, 'O-O-H': 1, 'O-H-Cl': 1}",
         "_deepnote_index_column": 54
        },
        {
         "0": "{'N-H2-O': 1, 'H2-O-Me': 1}",
         "_deepnote_index_column": 55
        },
        {
         "0": "{'Pr-S-O3': 1, 'S-O3-H': 1}",
         "_deepnote_index_column": 56
        },
        {
         "0": "{}",
         "_deepnote_index_column": 57
        },
        {
         "0": "{'O-Me-N': 1, 'Me-N-H2': 1}",
         "_deepnote_index_column": 58
        },
        {
         "0": "{'N-H-Me': 1}",
         "_deepnote_index_column": 59
        },
        {
         "0": "{'N-O2-I': 1}",
         "_deepnote_index_column": 60
        },
        {
         "0": "{}",
         "_deepnote_index_column": 61
        },
        {
         "0": "{}",
         "_deepnote_index_column": 62
        },
        {
         "0": "{'O-Me-N': 1, 'Me-N-H': 1, 'N-H-Me': 1}",
         "_deepnote_index_column": 63
        },
        {
         "0": "{}",
         "_deepnote_index_column": 64
        },
        {
         "0": "{}",
         "_deepnote_index_column": 65
        },
        {
         "0": "{}",
         "_deepnote_index_column": 66
        },
        {
         "0": "{'N-O2-H': 1, 'O2-H-C': 1, 'H-C-O': 1}",
         "_deepnote_index_column": 67
        },
        {
         "0": "{}",
         "_deepnote_index_column": 68
        },
        {
         "0": "{'H-C-O': 1, 'C-O-O': 1, 'O-O-Et': 1}",
         "_deepnote_index_column": 69
        },
        {
         "0": "{'S-O3-H': 1, 'O3-H-H': 1, 'H-H-C': 1, 'H-C-O': 1}",
         "_deepnote_index_column": 70
        },
        {
         "0": "{'I-S-O3': 1, 'S-O3-H': 1}",
         "_deepnote_index_column": 71
        },
        {
         "0": "{'Cl-C-O': 1, 'C-O-O': 1, 'O-O-H': 1}",
         "_deepnote_index_column": 72
        },
        {
         "0": "{}",
         "_deepnote_index_column": 73
        },
        {
         "0": "{'H-C-O': 1, 'C-O-H': 1}",
         "_deepnote_index_column": 74
        },
        {
         "0": "{'O-Me-N': 1, 'Me-N-O2': 1}",
         "_deepnote_index_column": 75
        },
        {
         "0": "{}",
         "_deepnote_index_column": 76
        },
        {
         "0": "{'O-H-O': 1, 'H-O-Et': 1}",
         "_deepnote_index_column": 77
        },
        {
         "0": "{}",
         "_deepnote_index_column": 78
        },
        {
         "0": "{'N-O2-Ph': 1}",
         "_deepnote_index_column": 79
        },
        {
         "0": "{'N-O2-N': 1, 'O2-N-H2': 1}",
         "_deepnote_index_column": 80
        },
        {
         "0": "{'C-O-O': 1, 'O-O-H': 1, 'O-H-O': 1, 'H-O-H': 1}",
         "_deepnote_index_column": 81
        },
        {
         "0": "{'N-H-Me': 1}",
         "_deepnote_index_column": 82
        },
        {
         "0": "{'H-C-O': 1, 'C-O-O': 1, 'O-O-Me': 1}",
         "_deepnote_index_column": 83
        },
        {
         "0": "{}",
         "_deepnote_index_column": 84
        },
        {
         "0": "{}",
         "_deepnote_index_column": 85
        },
        {
         "0": "{'Pr-H-C': 1, 'H-C-O': 1}",
         "_deepnote_index_column": 86
        },
        {
         "0": "{'Cl-O-Pr': 1}",
         "_deepnote_index_column": 87
        },
        {
         "0": "{}",
         "_deepnote_index_column": 88
        },
        {
         "0": "{'H-C-O': 1, 'C-O-C': 1, 'O-C-N': 1}",
         "_deepnote_index_column": 89
        },
        {
         "0": "{'Me-C-O': 1, 'C-O-O': 1, 'O-O-H': 1}",
         "_deepnote_index_column": 90
        },
        {
         "0": "{'Pr-O-H': 1}",
         "_deepnote_index_column": 91
        },
        {
         "0": "{'N-H-Me': 1, 'H-Me-O': 1, 'Me-O-Me': 1}",
         "_deepnote_index_column": 92
        },
        {
         "0": "{'Me-C-O': 1, 'C-O-O': 1, 'O-O-H': 1}",
         "_deepnote_index_column": 93
        },
        {
         "0": "{'O-Et-Cl': 1}",
         "_deepnote_index_column": 94
        },
        {
         "0": "{}",
         "_deepnote_index_column": 95
        },
        {
         "0": "{'O-Pr-F': 1}",
         "_deepnote_index_column": 96
        },
        {
         "0": "{'H-C-O': 1, 'C-O-O': 1, 'O-O-Et': 1}",
         "_deepnote_index_column": 97
        },
        {
         "0": "{}",
         "_deepnote_index_column": 98
        },
        {
         "0": "{}",
         "_deepnote_index_column": 99
        },
        {
         "0": "{'O-H-Cl': 1}",
         "_deepnote_index_column": 100
        },
        {
         "0": "{'I-O-Pr': 1}",
         "_deepnote_index_column": 101
        },
        {
         "0": "{'Cl-C-N': 1}",
         "_deepnote_index_column": 102
        },
        {
         "0": "{}",
         "_deepnote_index_column": 103
        },
        {
         "0": "{'O-Me-O': 1, 'Me-O-Et': 1}",
         "_deepnote_index_column": 104
        },
        {
         "0": "{}",
         "_deepnote_index_column": 105
        },
        {
         "0": "{}",
         "_deepnote_index_column": 106
        },
        {
         "0": "{'O-Et-H': 1, 'Et-H-C': 1, 'H-C-O': 1}",
         "_deepnote_index_column": 107
        },
        {
         "0": "{}",
         "_deepnote_index_column": 108
        },
        {
         "0": "{'S-O3-H': 1}",
         "_deepnote_index_column": 109
        },
        {
         "0": "{'H-N-H2': 1}",
         "_deepnote_index_column": 110
        },
        {
         "0": "{'I-C-O': 1, 'C-O-O': 1, 'O-O-H': 1}",
         "_deepnote_index_column": 111
        },
        {
         "0": "{'C-O-O': 1, 'O-O-H': 1, 'O-H-S': 1, 'H-S-O3': 1, 'S-O3-H': 1}",
         "_deepnote_index_column": 112
        },
        {
         "0": "{'Me-C-N': 1}",
         "_deepnote_index_column": 113
        },
        {
         "0": "{'O-Me-H': 1, 'Me-H-C': 1, 'H-C-O': 1}",
         "_deepnote_index_column": 114
        },
        {
         "0": "{'O-Me-Pr': 1}",
         "_deepnote_index_column": 115
        },
        {
         "0": "{'H-C-O': 1}",
         "_deepnote_index_column": 116
        },
        {
         "0": "{'O-H-H': 1, 'H-H-C': 1, 'H-C-O': 1}",
         "_deepnote_index_column": 117
        },
        {
         "0": "{'H-C-O': 1, 'C-O-O': 1, 'O-O-Et': 1}",
         "_deepnote_index_column": 118
        },
        {
         "0": "{'F-H-C': 1, 'H-C-O': 1}",
         "_deepnote_index_column": 119
        },
        {
         "0": "{'N-H-Me': 1, 'H-Me-Pr': 1}",
         "_deepnote_index_column": 120
        },
        {
         "0": "{}",
         "_deepnote_index_column": 121
        },
        {
         "0": "{'Me-O-H': 1}",
         "_deepnote_index_column": 122
        },
        {
         "0": "{'Ph-H-C': 1, 'H-C-O': 1}",
         "_deepnote_index_column": 123
        },
        {
         "0": "{'H-C-O': 1, 'C-O-O': 1, 'O-O-H': 1}",
         "_deepnote_index_column": 124
        },
        {
         "0": "{'Br-H-C': 1, 'H-C-O': 1}",
         "_deepnote_index_column": 125
        },
        {
         "0": "{}",
         "_deepnote_index_column": 126
        },
        {
         "0": "{'O-Me-Et': 1}",
         "_deepnote_index_column": 127
        },
        {
         "0": "{}",
         "_deepnote_index_column": 128
        },
        {
         "0": "{'H-H-C': 1, 'H-C-O': 1}",
         "_deepnote_index_column": 129
        },
        {
         "0": "{'O-H-N': 1, 'H-N-H': 1, 'N-H-Me': 1}",
         "_deepnote_index_column": 130
        },
        {
         "0": "{}",
         "_deepnote_index_column": 131
        },
        {
         "0": "{}",
         "_deepnote_index_column": 132
        },
        {
         "0": "{'N-O2-O': 1, 'O2-O-H': 1}",
         "_deepnote_index_column": 133
        },
        {
         "0": "{'N-H-Me': 1, 'H-Me-N': 1, 'Me-N-H2': 1}",
         "_deepnote_index_column": 134
        },
        {
         "0": "{'S-O3-H': 1, 'O3-H-I': 1}",
         "_deepnote_index_column": 135
        },
        {
         "0": "{'F-O-Pr': 1}",
         "_deepnote_index_column": 136
        },
        {
         "0": "{}",
         "_deepnote_index_column": 137
        },
        {
         "0": "{'N-H-Me': 1, 'H-Me-Me': 1}",
         "_deepnote_index_column": 138
        },
        {
         "0": "{'O-Et-F': 1}",
         "_deepnote_index_column": 139
        },
        {
         "0": "{}",
         "_deepnote_index_column": 140
        },
        {
         "0": "{'H-C-O': 1, 'C-O-O': 1, 'O-O-H': 1}",
         "_deepnote_index_column": 141
        },
        {
         "0": "{'O-Pr-N': 1, 'Pr-N-O2': 1}",
         "_deepnote_index_column": 142
        },
        {
         "0": "{'N-H2-O': 1, 'H2-O-Pr': 1}",
         "_deepnote_index_column": 143
        },
        {
         "0": "{'Me-N-O2': 1}",
         "_deepnote_index_column": 144
        },
        {
         "0": "{}",
         "_deepnote_index_column": 145
        },
        {
         "0": "{'N-H2-F': 1}",
         "_deepnote_index_column": 146
        },
        {
         "0": "{'Ph-O-Et': 1}",
         "_deepnote_index_column": 147
        },
        {
         "0": "{}",
         "_deepnote_index_column": 148
        },
        {
         "0": "{'S-O3-H': 1, 'O3-H-O': 1, 'H-O-Me': 1}",
         "_deepnote_index_column": 149
        },
        {
         "0": "{'N-H-Me': 1, 'H-Me-Br': 1}",
         "_deepnote_index_column": 150
        },
        {
         "0": "{'S-O3-H': 1}",
         "_deepnote_index_column": 151
        },
        {
         "0": "{'Cl-O-Pr': 1}",
         "_deepnote_index_column": 152
        },
        {
         "0": "{'Me-N-O2': 1}",
         "_deepnote_index_column": 153
        },
        {
         "0": "{'Ph-C-O': 1, 'C-O-O': 1, 'O-O-H': 1}",
         "_deepnote_index_column": 154
        },
        {
         "0": "{'H-O-Me': 1}",
         "_deepnote_index_column": 155
        },
        {
         "0": "{'O-Me-N': 1, 'Me-N-O2': 1}",
         "_deepnote_index_column": 156
        },
        {
         "0": "{'N-O2-F': 1}",
         "_deepnote_index_column": 157
        },
        {
         "0": "{'O-Pr-N': 1, 'Pr-N-H2': 1}",
         "_deepnote_index_column": 158
        },
        {
         "0": "{'S-O3-H': 1, 'O3-H-Cl': 1}",
         "_deepnote_index_column": 159
        },
        {
         "0": "{'O-Et-N': 1, 'Et-N-H': 1, 'N-H-Me': 1}",
         "_deepnote_index_column": 160
        },
        {
         "0": "{'I-C-N': 1}",
         "_deepnote_index_column": 161
        },
        {
         "0": "{'H-O-Et': 1}",
         "_deepnote_index_column": 162
        },
        {
         "0": "{'C-N-Et': 1}",
         "_deepnote_index_column": 163
        },
        {
         "0": "{}",
         "_deepnote_index_column": 164
        },
        {
         "0": "{'H-C-O': 1, 'C-O-O': 1, 'O-O-H': 1}",
         "_deepnote_index_column": 165
        },
        {
         "0": "{}",
         "_deepnote_index_column": 166
        },
        {
         "0": "{}",
         "_deepnote_index_column": 167
        },
        {
         "0": "{'H-C-O': 1, 'C-O-H': 1}",
         "_deepnote_index_column": 168
        },
        {
         "0": "{'Cl-H-C': 1, 'H-C-O': 1}",
         "_deepnote_index_column": 169
        },
        {
         "0": "{}",
         "_deepnote_index_column": 170
        },
        {
         "0": "{'Ph-H-C': 1, 'H-C-O': 1}",
         "_deepnote_index_column": 171
        },
        {
         "0": "{}",
         "_deepnote_index_column": 172
        },
        {
         "0": "{'C-O-O': 1, 'O-O-H': 1, 'O-H-Me': 1}",
         "_deepnote_index_column": 173
        },
        {
         "0": "{'S-O3-H': 1}",
         "_deepnote_index_column": 174
        },
        {
         "0": "{'O-Me-O': 1, 'Me-O-H': 1}",
         "_deepnote_index_column": 175
        },
        {
         "0": "{'Ph-O-Me': 1}",
         "_deepnote_index_column": 176
        },
        {
         "0": "{'Me-O-H': 1}",
         "_deepnote_index_column": 177
        },
        {
         "0": "{'O-Et-I': 1}",
         "_deepnote_index_column": 178
        },
        {
         "0": "{'N-H2-H': 1}",
         "_deepnote_index_column": 179
        },
        {
         "0": "{'N-H-Me': 1}",
         "_deepnote_index_column": 180
        },
        {
         "0": "{}",
         "_deepnote_index_column": 181
        },
        {
         "0": "{'Me-N-H': 1, 'N-H-Me': 1}",
         "_deepnote_index_column": 182
        },
        {
         "0": "{'N-H-Me': 1}",
         "_deepnote_index_column": 183
        },
        {
         "0": "{'H-H-C': 1, 'H-C-O': 1}",
         "_deepnote_index_column": 184
        },
        {
         "0": "{'S-O3-H': 1, 'O3-H-F': 1}",
         "_deepnote_index_column": 185
        },
        {
         "0": "{'N-H-Me': 1, 'H-Me-Br': 1}",
         "_deepnote_index_column": 186
        },
        {
         "0": "{'H-C-O': 1}",
         "_deepnote_index_column": 187
        },
        {
         "0": "{'O-H-Me': 1}",
         "_deepnote_index_column": 188
        },
        {
         "0": "{'Br-S-O3': 1, 'S-O3-H': 1}",
         "_deepnote_index_column": 189
        },
        {
         "0": "{'N-H-Me': 1, 'H-Me-Et': 1}",
         "_deepnote_index_column": 190
        },
        {
         "0": "{'N-H-Me': 1, 'H-Me-N': 1, 'Me-N-O2': 1}",
         "_deepnote_index_column": 191
        },
        {
         "0": "{}",
         "_deepnote_index_column": 192
        },
        {
         "0": "{'O-H-N': 1, 'H-N-H': 1, 'N-H-Me': 1}",
         "_deepnote_index_column": 193
        },
        {
         "0": "{}",
         "_deepnote_index_column": 194
        },
        {
         "0": "{'C-O-O': 1, 'O-O-H': 1, 'O-H-O': 1, 'H-O-Pr': 1}",
         "_deepnote_index_column": 195
        },
        {
         "0": "{'N-H2-H': 1}",
         "_deepnote_index_column": 196
        },
        {
         "0": "{'S-O3-H': 1}",
         "_deepnote_index_column": 197
        },
        {
         "0": "{'C-O-O': 1, 'O-O-H': 1, 'O-H-S': 1, 'H-S-O3': 1, 'S-O3-H': 1}",
         "_deepnote_index_column": 198
        },
        {
         "0": "{'Me-O-Et': 1}",
         "_deepnote_index_column": 199
        },
        {
         "0": "{'Et-O-Me': 1}",
         "_deepnote_index_column": 200
        },
        {
         "0": "{}",
         "_deepnote_index_column": 201
        },
        {
         "0": "{'Cl-N-O2': 1}",
         "_deepnote_index_column": 202
        },
        {
         "0": "{}",
         "_deepnote_index_column": 203
        },
        {
         "0": "{'H-O-Et': 1}",
         "_deepnote_index_column": 204
        },
        {
         "0": "{}",
         "_deepnote_index_column": 205
        },
        {
         "0": "{'S-O3-H': 1, 'O3-H-Br': 1}",
         "_deepnote_index_column": 206
        },
        {
         "0": "{'C-N-Et': 1}",
         "_deepnote_index_column": 207
        },
        {
         "0": "{'O-Me-H': 1, 'Me-H-C': 1, 'H-C-O': 1}",
         "_deepnote_index_column": 208
        },
        {
         "0": "{'Me-N-O2': 1}",
         "_deepnote_index_column": 209
        },
        {
         "0": "{}",
         "_deepnote_index_column": 210
        },
        {
         "0": "{'I-S-O3': 1, 'S-O3-H': 1}",
         "_deepnote_index_column": 211
        },
        {
         "0": "{}",
         "_deepnote_index_column": 212
        },
        {
         "0": "{'O-Et-O': 1, 'Et-O-Pr': 1}",
         "_deepnote_index_column": 213
        },
        {
         "0": "{'H-O-Me': 1}",
         "_deepnote_index_column": 214
        },
        {
         "0": "{'H-C-O': 1, 'C-O-N': 1, 'O-N-H2': 1}",
         "_deepnote_index_column": 215
        },
        {
         "0": "{}",
         "_deepnote_index_column": 216
        },
        {
         "0": "{'O-Pr-O': 1, 'Pr-O-Me': 1}",
         "_deepnote_index_column": 217
        },
        {
         "0": "{}",
         "_deepnote_index_column": 218
        },
        {
         "0": "{}",
         "_deepnote_index_column": 219
        },
        {
         "0": "{'Pr-H-C': 1, 'H-C-O': 1}",
         "_deepnote_index_column": 220
        },
        {
         "0": "{'S-O3-H': 1, 'O3-H-Cl': 1}",
         "_deepnote_index_column": 221
        },
        {
         "0": "{'C-O-O': 1, 'O-O-H': 1, 'O-H-N': 1, 'H-N-H': 1, 'N-H-Me': 1}",
         "_deepnote_index_column": 222
        },
        {
         "0": "{'Br-C-O': 1, 'C-O-O': 1, 'O-O-H': 1}",
         "_deepnote_index_column": 223
        },
        {
         "0": "{'O-Et-H': 1, 'Et-H-C': 1, 'H-C-O': 1}",
         "_deepnote_index_column": 224
        },
        {
         "0": "{'O-Et-I': 1}",
         "_deepnote_index_column": 225
        },
        {
         "0": "{}",
         "_deepnote_index_column": 226
        },
        {
         "0": "{'C-O-O': 1, 'O-O-H': 1}",
         "_deepnote_index_column": 227
        },
        {
         "0": "{'N-H2-N': 1, 'H2-N-H': 1, 'N-H-Me': 1}",
         "_deepnote_index_column": 228
        },
        {
         "0": "{'H-C-O': 1, 'C-O-Br': 1}",
         "_deepnote_index_column": 229
        },
        {
         "0": "{'O-Me-O': 1, 'Me-O-Et': 1}",
         "_deepnote_index_column": 230
        },
        {
         "0": "{'S-O3-H': 1, 'O3-H-O': 1, 'H-O-Pr': 1}",
         "_deepnote_index_column": 231
        },
        {
         "0": "{}",
         "_deepnote_index_column": 232
        },
        {
         "0": "{'S-O3-H': 1, 'O3-H-C': 1, 'H-C-O': 1, 'C-O-O': 1, 'O-O-H': 1}",
         "_deepnote_index_column": 233
        },
        {
         "0": "{'O-Me-O': 1, 'Me-O-Et': 1}",
         "_deepnote_index_column": 234
        },
        {
         "0": "{'N-O2-S': 1, 'O2-S-O3': 1, 'S-O3-H': 1}",
         "_deepnote_index_column": 235
        },
        {
         "0": "{'N-H2-N': 1, 'H2-N-O2': 1}",
         "_deepnote_index_column": 236
        },
        {
         "0": "{'N-H-Me': 1}",
         "_deepnote_index_column": 237
        },
        {
         "0": "{'C-N-H': 1, 'N-H-C': 1, 'H-C-O': 1}",
         "_deepnote_index_column": 238
        },
        {
         "0": "{'O-Me-O': 1, 'Me-O-H': 1}",
         "_deepnote_index_column": 239
        },
        {
         "0": "{'Me-O-Et': 1}",
         "_deepnote_index_column": 240
        },
        {
         "0": "{'S-O3-H': 1}",
         "_deepnote_index_column": 241
        },
        {
         "0": "{'C-N-Me': 1}",
         "_deepnote_index_column": 242
        },
        {
         "0": "{}",
         "_deepnote_index_column": 243
        },
        {
         "0": "{}",
         "_deepnote_index_column": 244
        },
        {
         "0": "{}",
         "_deepnote_index_column": 245
        },
        {
         "0": "{'S-O3-H': 1}",
         "_deepnote_index_column": 246
        },
        {
         "0": "{'H-C-O': 1}",
         "_deepnote_index_column": 247
        },
        {
         "0": "{'C-N-O': 1, 'N-O-Pr': 1}",
         "_deepnote_index_column": 248
        },
        {
         "0": "{'H-C-O': 1}",
         "_deepnote_index_column": 249
        },
        {
         "0": "{}",
         "_deepnote_index_column": 250
        },
        {
         "0": "{'Pr-N-H': 1, 'N-H-Me': 1}",
         "_deepnote_index_column": 251
        },
        {
         "0": "{}",
         "_deepnote_index_column": 252
        },
        {
         "0": "{'Ph-C-O': 1, 'C-O-O': 1, 'O-O-H': 1}",
         "_deepnote_index_column": 253
        },
        {
         "0": "{'O-Et-O': 1, 'Et-O-H': 1}",
         "_deepnote_index_column": 254
        },
        {
         "0": "{}",
         "_deepnote_index_column": 255
        },
        {
         "0": "{'S-O3-H': 1, 'O3-H-O': 1, 'H-O-Et': 1}",
         "_deepnote_index_column": 256
        },
        {
         "0": "{}",
         "_deepnote_index_column": 257
        },
        {
         "0": "{'O-Et-H': 1, 'Et-H-C': 1, 'H-C-O': 1}",
         "_deepnote_index_column": 258
        },
        {
         "0": "{'S-O3-H': 1}",
         "_deepnote_index_column": 259
        },
        {
         "0": "{'N-O2-O': 1, 'O2-O-Me': 1}",
         "_deepnote_index_column": 260
        },
        {
         "0": "{'H-C-O': 1, 'C-O-O': 1, 'O-O-Me': 1}",
         "_deepnote_index_column": 261
        },
        {
         "0": "{'C-O-O': 1, 'O-O-H': 1, 'O-H-N': 1, 'H-N-H2': 1}",
         "_deepnote_index_column": 262
        },
        {
         "0": "{'O-Et-O': 1, 'Et-O-H': 1}",
         "_deepnote_index_column": 263
        },
        {
         "0": "{}",
         "_deepnote_index_column": 264
        },
        {
         "0": "{}",
         "_deepnote_index_column": 265
        },
        {
         "0": "{'F-N-O2': 1}",
         "_deepnote_index_column": 266
        },
        {
         "0": "{}",
         "_deepnote_index_column": 267
        },
        {
         "0": "{}",
         "_deepnote_index_column": 268
        },
        {
         "0": "{'Cl-O-Pr': 1}",
         "_deepnote_index_column": 269
        },
        {
         "0": "{'C-O-O': 1, 'O-O-H': 1, 'O-H-H': 1, 'H-H-C': 1, 'H-C-O': 1}",
         "_deepnote_index_column": 270
        },
        {
         "0": "{'O-Me-H': 1}",
         "_deepnote_index_column": 271
        },
        {
         "0": "{'N-O2-Me': 1}",
         "_deepnote_index_column": 272
        },
        {
         "0": "{'S-O3-H': 1, 'O3-H-N': 1, 'H-N-H': 1, 'N-H-Me': 1}",
         "_deepnote_index_column": 273
        },
        {
         "0": "{'O-H-Me': 1}",
         "_deepnote_index_column": 274
        },
        {
         "0": "{'O-Me-O': 1, 'Me-O-H': 1}",
         "_deepnote_index_column": 275
        },
        {
         "0": "{'H-C-O': 1}",
         "_deepnote_index_column": 276
        },
        {
         "0": "{'S-O3-H': 1, 'O3-H-I': 1}",
         "_deepnote_index_column": 277
        },
        {
         "0": "{'Br-O-H': 1}",
         "_deepnote_index_column": 278
        },
        {
         "0": "{}",
         "_deepnote_index_column": 279
        },
        {
         "0": "{'C-N-O': 1, 'N-O-Et': 1}",
         "_deepnote_index_column": 280
        },
        {
         "0": "{}",
         "_deepnote_index_column": 281
        },
        {
         "0": "{'H-C-O': 1}",
         "_deepnote_index_column": 282
        },
        {
         "0": "{'C-N-N': 1, 'N-N-O2': 1}",
         "_deepnote_index_column": 283
        },
        {
         "0": "{'H-C-O': 1, 'C-O-I': 1}",
         "_deepnote_index_column": 284
        },
        {
         "0": "{'H-C-O': 1, 'C-O-C': 1, 'O-C-N': 1}",
         "_deepnote_index_column": 285
        },
        {
         "0": "{'O-Me-Cl': 1}",
         "_deepnote_index_column": 286
        },
        {
         "0": "{}",
         "_deepnote_index_column": 287
        },
        {
         "0": "{'Pr-O-Me': 1}",
         "_deepnote_index_column": 288
        },
        {
         "0": "{'Br-N-H': 1, 'N-H-Me': 1}",
         "_deepnote_index_column": 289
        },
        {
         "0": "{}",
         "_deepnote_index_column": 290
        },
        {
         "0": "{}",
         "_deepnote_index_column": 291
        },
        {
         "0": "{}",
         "_deepnote_index_column": 292
        },
        {
         "0": "{'N-O2-F': 1}",
         "_deepnote_index_column": 293
        },
        {
         "0": "{}",
         "_deepnote_index_column": 294
        },
        {
         "0": "{'N-H2-O': 1, 'H2-O-H': 1}",
         "_deepnote_index_column": 295
        },
        {
         "0": "{'F-N-O2': 1}",
         "_deepnote_index_column": 296
        },
        {
         "0": "{'N-H2-O': 1, 'H2-O-H': 1}",
         "_deepnote_index_column": 297
        },
        {
         "0": "{'H-C-O': 1}",
         "_deepnote_index_column": 298
        },
        {
         "0": "{'H-C-O': 1, 'C-O-O': 1, 'O-O-H': 1}",
         "_deepnote_index_column": 299
        },
        {
         "0": "{}",
         "_deepnote_index_column": 300
        },
        {
         "0": "{}",
         "_deepnote_index_column": 301
        },
        {
         "0": "{}",
         "_deepnote_index_column": 302
        },
        {
         "0": "{'Cl-C-N': 1}",
         "_deepnote_index_column": 303
        },
        {
         "0": "{'C-N-Pr': 1}",
         "_deepnote_index_column": 304
        },
        {
         "0": "{'O-Me-H': 1, 'Me-H-C': 1, 'H-C-O': 1}",
         "_deepnote_index_column": 305
        },
        {
         "0": "{}",
         "_deepnote_index_column": 306
        },
        {
         "0": "{'Br-N-O2': 1}",
         "_deepnote_index_column": 307
        },
        {
         "0": "{'Et-C-O': 1, 'C-O-O': 1, 'O-O-H': 1}",
         "_deepnote_index_column": 308
        },
        {
         "0": "{'Br-N-H': 1, 'N-H-Me': 1}",
         "_deepnote_index_column": 309
        },
        {
         "0": "{}",
         "_deepnote_index_column": 310
        },
        {
         "0": "{'O-H-F': 1}",
         "_deepnote_index_column": 311
        },
        {
         "0": "{}",
         "_deepnote_index_column": 312
        },
        {
         "0": "{}",
         "_deepnote_index_column": 313
        },
        {
         "0": "{}",
         "_deepnote_index_column": 314
        },
        {
         "0": "{'Cl-S-O3': 1, 'S-O3-H': 1}",
         "_deepnote_index_column": 315
        },
        {
         "0": "{}",
         "_deepnote_index_column": 316
        },
        {
         "0": "{'O-Et-O': 1, 'Et-O-Me': 1}",
         "_deepnote_index_column": 317
        },
        {
         "0": "{}",
         "_deepnote_index_column": 318
        },
        {
         "0": "{'O-Me-N': 1, 'Me-N-H2': 1}",
         "_deepnote_index_column": 319
        },
        {
         "0": "{'O-Et-I': 1}",
         "_deepnote_index_column": 320
        },
        {
         "0": "{}",
         "_deepnote_index_column": 321
        },
        {
         "0": "{'H-O-Pr': 1}",
         "_deepnote_index_column": 322
        },
        {
         "0": "{'Br-H-C': 1, 'H-C-O': 1}",
         "_deepnote_index_column": 323
        },
        {
         "0": "{'H-C-O': 1, 'C-O-Me': 1}",
         "_deepnote_index_column": 324
        },
        {
         "0": "{'H-C-O': 1, 'C-O-H': 1}",
         "_deepnote_index_column": 325
        },
        {
         "0": "{'N-H2-H': 1, 'H2-H-C': 1, 'H-C-O': 1}",
         "_deepnote_index_column": 326
        },
        {
         "0": "{'Pr-O-Me': 1}",
         "_deepnote_index_column": 327
        },
        {
         "0": "{}",
         "_deepnote_index_column": 328
        },
        {
         "0": "{}",
         "_deepnote_index_column": 329
        },
        {
         "0": "{}",
         "_deepnote_index_column": 330
        },
        {
         "0": "{'Et-O-Et': 1}",
         "_deepnote_index_column": 331
        },
        {
         "0": "{'Me-O-H': 1}",
         "_deepnote_index_column": 332
        },
        {
         "0": "{'H-C-N': 1}",
         "_deepnote_index_column": 333
        },
        {
         "0": "{'C-O-O': 1, 'O-O-H': 1, 'O-H-Cl': 1}",
         "_deepnote_index_column": 334
        },
        {
         "0": "{}",
         "_deepnote_index_column": 335
        },
        {
         "0": "{}",
         "_deepnote_index_column": 336
        },
        {
         "0": "{}",
         "_deepnote_index_column": 337
        },
        {
         "0": "{'H-C-O': 1, 'C-O-H': 1}",
         "_deepnote_index_column": 338
        },
        {
         "0": "{}",
         "_deepnote_index_column": 339
        },
        {
         "0": "{'N-H2-O': 1, 'H2-O-H': 1}",
         "_deepnote_index_column": 340
        },
        {
         "0": "{'Et-S-O3': 1, 'S-O3-H': 1}",
         "_deepnote_index_column": 341
        },
        {
         "0": "{'O-Me-N': 1, 'Me-N-O2': 1}",
         "_deepnote_index_column": 342
        },
        {
         "0": "{'C-N-O': 1, 'N-O-Et': 1}",
         "_deepnote_index_column": 343
        },
        {
         "0": "{}",
         "_deepnote_index_column": 344
        },
        {
         "0": "{'O-Pr-C': 1, 'Pr-C-N': 1}",
         "_deepnote_index_column": 345
        },
        {
         "0": "{'Et-O-Pr': 1}",
         "_deepnote_index_column": 346
        },
        {
         "0": "{'H-S-O3': 1, 'S-O3-H': 1}",
         "_deepnote_index_column": 347
        },
        {
         "0": "{'O-Pr-N': 1, 'Pr-N-H': 1, 'N-H-Me': 1}",
         "_deepnote_index_column": 348
        },
        {
         "0": "{'C-O-O': 1, 'O-O-H': 1}",
         "_deepnote_index_column": 349
        },
        {
         "0": "{'H-H-C': 1, 'H-C-O': 1}",
         "_deepnote_index_column": 350
        },
        {
         "0": "{}",
         "_deepnote_index_column": 351
        },
        {
         "0": "{'O-Me-Cl': 1}",
         "_deepnote_index_column": 352
        },
        {
         "0": "{}",
         "_deepnote_index_column": 353
        },
        {
         "0": "{'O-H-H': 1}",
         "_deepnote_index_column": 354
        },
        {
         "0": "{'C-N-I': 1}",
         "_deepnote_index_column": 355
        },
        {
         "0": "{'N-O2-Br': 1}",
         "_deepnote_index_column": 356
        },
        {
         "0": "{'Me-O-Me': 1}",
         "_deepnote_index_column": 357
        },
        {
         "0": "{'C-O-O': 1, 'O-O-H': 1, 'O-H-H': 1}",
         "_deepnote_index_column": 358
        },
        {
         "0": "{}",
         "_deepnote_index_column": 359
        },
        {
         "0": "{'S-O3-H': 1, 'O3-H-Cl': 1}",
         "_deepnote_index_column": 360
        },
        {
         "0": "{}",
         "_deepnote_index_column": 361
        },
        {
         "0": "{'S-O3-H': 1}",
         "_deepnote_index_column": 362
        },
        {
         "0": "{'O-H-O': 1, 'H-O-Me': 1}",
         "_deepnote_index_column": 363
        },
        {
         "0": "{}",
         "_deepnote_index_column": 364
        },
        {
         "0": "{'O-Et-F': 1}",
         "_deepnote_index_column": 365
        },
        {
         "0": "{}",
         "_deepnote_index_column": 366
        },
        {
         "0": "{}",
         "_deepnote_index_column": 367
        },
        {
         "0": "{'O-Et-O': 1, 'Et-O-Pr': 1}",
         "_deepnote_index_column": 368
        },
        {
         "0": "{}",
         "_deepnote_index_column": 369
        },
        {
         "0": "{}",
         "_deepnote_index_column": 370
        },
        {
         "0": "{'S-O3-H': 1, 'O3-H-F': 1}",
         "_deepnote_index_column": 371
        },
        {
         "0": "{'O-Me-O': 1, 'Me-O-Pr': 1}",
         "_deepnote_index_column": 372
        },
        {
         "0": "{}",
         "_deepnote_index_column": 373
        },
        {
         "0": "{}",
         "_deepnote_index_column": 374
        },
        {
         "0": "{}",
         "_deepnote_index_column": 375
        },
        {
         "0": "{'O-Pr-Cl': 1}",
         "_deepnote_index_column": 376
        },
        {
         "0": "{'N-O2-H': 1, 'O2-H-C': 1, 'H-C-O': 1}",
         "_deepnote_index_column": 377
        },
        {
         "0": "{'C-N-H': 1}",
         "_deepnote_index_column": 378
        },
        {
         "0": "{'Cl-H-C': 1, 'H-C-O': 1}",
         "_deepnote_index_column": 379
        },
        {
         "0": "{'Pr-O-H': 1}",
         "_deepnote_index_column": 380
        },
        {
         "0": "{'Me-O-H': 1}",
         "_deepnote_index_column": 381
        },
        {
         "0": "{'N-H-Me': 1, 'H-Me-F': 1}",
         "_deepnote_index_column": 382
        },
        {
         "0": "{'N-H-Me': 1, 'H-Me-O': 1, 'Me-O-H': 1}",
         "_deepnote_index_column": 383
        },
        {
         "0": "{}",
         "_deepnote_index_column": 384
        },
        {
         "0": "{'C-O-O': 1, 'O-O-H': 1, 'O-H-H': 1, 'H-H-C': 1, 'H-C-O': 1}",
         "_deepnote_index_column": 385
        },
        {
         "0": "{}",
         "_deepnote_index_column": 386
        },
        {
         "0": "{'C-O-O': 1, 'O-O-H': 1}",
         "_deepnote_index_column": 387
        },
        {
         "0": "{}",
         "_deepnote_index_column": 388
        },
        {
         "0": "{'O-H-H': 1, 'H-H-C': 1, 'H-C-O': 1}",
         "_deepnote_index_column": 389
        },
        {
         "0": "{'C-O-O': 1, 'O-O-H': 1, 'O-H-Pr': 1}",
         "_deepnote_index_column": 390
        },
        {
         "0": "{}",
         "_deepnote_index_column": 391
        },
        {
         "0": "{'Pr-O-H': 1}",
         "_deepnote_index_column": 392
        },
        {
         "0": "{}",
         "_deepnote_index_column": 393
        },
        {
         "0": "{}",
         "_deepnote_index_column": 394
        },
        {
         "0": "{'C-N-Et': 1}",
         "_deepnote_index_column": 395
        },
        {
         "0": "{}",
         "_deepnote_index_column": 396
        },
        {
         "0": "{'C-N-Ph': 1}",
         "_deepnote_index_column": 397
        },
        {
         "0": "{}",
         "_deepnote_index_column": 398
        },
        {
         "0": "{'O-Et-Me': 1}",
         "_deepnote_index_column": 399
        },
        {
         "0": "{'O-H-H': 1, 'H-H-C': 1, 'H-C-O': 1}",
         "_deepnote_index_column": 400
        },
        {
         "0": "{'H-C-O': 1, 'C-O-Me': 1}",
         "_deepnote_index_column": 401
        },
        {
         "0": "{'O-Me-N': 1, 'Me-N-H': 1, 'N-H-Me': 1}",
         "_deepnote_index_column": 402
        },
        {
         "0": "{'C-N-Br': 1}",
         "_deepnote_index_column": 403
        },
        {
         "0": "{}",
         "_deepnote_index_column": 404
        },
        {
         "0": "{}",
         "_deepnote_index_column": 405
        },
        {
         "0": "{'S-O3-H': 1, 'O3-H-C': 1, 'H-C-N': 1}",
         "_deepnote_index_column": 406
        },
        {
         "0": "{'N-H2-Pr': 1}",
         "_deepnote_index_column": 407
        },
        {
         "0": "{'F-O-Et': 1}",
         "_deepnote_index_column": 408
        },
        {
         "0": "{'C-O-O': 1, 'O-O-H': 1, 'O-H-O': 1, 'H-O-Me': 1}",
         "_deepnote_index_column": 409
        },
        {
         "0": "{}",
         "_deepnote_index_column": 410
        },
        {
         "0": "{'Me-C-N': 1}",
         "_deepnote_index_column": 411
        },
        {
         "0": "{}",
         "_deepnote_index_column": 412
        },
        {
         "0": "{}",
         "_deepnote_index_column": 413
        },
        {
         "0": "{'N-O2-I': 1}",
         "_deepnote_index_column": 414
        },
        {
         "0": "{'N-H-Me': 1, 'H-Me-I': 1}",
         "_deepnote_index_column": 415
        },
        {
         "0": "{'S-O3-H': 1, 'O3-H-N': 1, 'H-N-H2': 1}",
         "_deepnote_index_column": 416
        },
        {
         "0": "{'H-C-O': 1, 'C-O-N': 1, 'O-N-H2': 1}",
         "_deepnote_index_column": 417
        },
        {
         "0": "{'O-Pr-F': 1}",
         "_deepnote_index_column": 418
        },
        {
         "0": "{'O-H-O': 1, 'H-O-Et': 1}",
         "_deepnote_index_column": 419
        },
        {
         "0": "{}",
         "_deepnote_index_column": 420
        },
        {
         "0": "{'O-Et-H': 1, 'Et-H-C': 1, 'H-C-O': 1}",
         "_deepnote_index_column": 421
        },
        {
         "0": "{}",
         "_deepnote_index_column": 422
        },
        {
         "0": "{}",
         "_deepnote_index_column": 423
        },
        {
         "0": "{}",
         "_deepnote_index_column": 424
        },
        {
         "0": "{'C-N-H': 1, 'N-H-C': 1, 'H-C-O': 1}",
         "_deepnote_index_column": 425
        },
        {
         "0": "{'H-C-O': 1, 'C-O-S': 1, 'O-S-O3': 1, 'S-O3-H': 1}",
         "_deepnote_index_column": 426
        },
        {
         "0": "{'O-Et-O': 1, 'Et-O-Pr': 1}",
         "_deepnote_index_column": 427
        },
        {
         "0": "{'C-O-O': 1, 'O-O-H': 1, 'O-H-F': 1}",
         "_deepnote_index_column": 428
        },
        {
         "0": "{'C-O-O': 1, 'O-O-H': 1}",
         "_deepnote_index_column": 429
        },
        {
         "0": "{'H-C-O': 1, 'C-O-Cl': 1}",
         "_deepnote_index_column": 430
        },
        {
         "0": "{}",
         "_deepnote_index_column": 431
        },
        {
         "0": "{}",
         "_deepnote_index_column": 432
        },
        {
         "0": "{'C-N-N': 1, 'N-N-H2': 1}",
         "_deepnote_index_column": 433
        },
        {
         "0": "{}",
         "_deepnote_index_column": 434
        },
        {
         "0": "{'O-Me-Br': 1}",
         "_deepnote_index_column": 435
        },
        {
         "0": "{'I-C-O': 1, 'C-O-O': 1, 'O-O-H': 1}",
         "_deepnote_index_column": 436
        },
        {
         "0": "{'C-O-O': 1, 'O-O-H': 1}",
         "_deepnote_index_column": 437
        },
        {
         "0": "{'S-O3-H': 1, 'O3-H-O': 1, 'H-O-H': 1}",
         "_deepnote_index_column": 438
        },
        {
         "0": "{'Ph-N-H2': 1}",
         "_deepnote_index_column": 439
        },
        {
         "0": "{}",
         "_deepnote_index_column": 440
        },
        {
         "0": "{'C-O-O': 1, 'O-O-H': 1}",
         "_deepnote_index_column": 441
        },
        {
         "0": "{'O-Me-H': 1, 'Me-H-C': 1, 'H-C-O': 1}",
         "_deepnote_index_column": 442
        },
        {
         "0": "{'O-Pr-N': 1, 'Pr-N-H': 1, 'N-H-Me': 1}",
         "_deepnote_index_column": 443
        },
        {
         "0": "{'H-C-O': 1, 'C-O-I': 1}",
         "_deepnote_index_column": 444
        },
        {
         "0": "{'H-C-O': 1, 'C-O-O': 1, 'O-O-Pr': 1}",
         "_deepnote_index_column": 445
        },
        {
         "0": "{}",
         "_deepnote_index_column": 446
        },
        {
         "0": "{}",
         "_deepnote_index_column": 447
        },
        {
         "0": "{}",
         "_deepnote_index_column": 448
        },
        {
         "0": "{'Cl-H-C': 1, 'H-C-O': 1}",
         "_deepnote_index_column": 449
        },
        {
         "0": "{'C-N-O': 1, 'N-O-H': 1}",
         "_deepnote_index_column": 450
        },
        {
         "0": "{'Et-N-H2': 1}",
         "_deepnote_index_column": 451
        },
        {
         "0": "{}",
         "_deepnote_index_column": 452
        },
        {
         "0": "{'F-N-H': 1, 'N-H-Me': 1}",
         "_deepnote_index_column": 453
        },
        {
         "0": "{'C-O-O': 1, 'O-O-H': 1, 'O-H-Me': 1}",
         "_deepnote_index_column": 454
        },
        {
         "0": "{'C-O-O': 1, 'O-O-H': 1, 'O-H-Cl': 1}",
         "_deepnote_index_column": 455
        },
        {
         "0": "{'H-C-O': 1, 'C-O-Me': 1}",
         "_deepnote_index_column": 456
        },
        {
         "0": "{'F-N-H2': 1}",
         "_deepnote_index_column": 457
        },
        {
         "0": "{'N-H-Me': 1}",
         "_deepnote_index_column": 458
        },
        {
         "0": "{'N-O2-C': 1, 'O2-C-N': 1}",
         "_deepnote_index_column": 459
        },
        {
         "0": "{'F-N-H2': 1}",
         "_deepnote_index_column": 460
        },
        {
         "0": "{}",
         "_deepnote_index_column": 461
        },
        {
         "0": "{'O-Pr-C': 1, 'Pr-C-N': 1}",
         "_deepnote_index_column": 462
        },
        {
         "0": "{'C-N-O': 1, 'N-O-Me': 1}",
         "_deepnote_index_column": 463
        },
        {
         "0": "{}",
         "_deepnote_index_column": 464
        },
        {
         "0": "{'H-C-O': 1, 'C-O-O': 1, 'O-O-H': 1}",
         "_deepnote_index_column": 465
        },
        {
         "0": "{}",
         "_deepnote_index_column": 466
        },
        {
         "0": "{}",
         "_deepnote_index_column": 467
        },
        {
         "0": "{'N-H2-Br': 1}",
         "_deepnote_index_column": 468
        },
        {
         "0": "{}",
         "_deepnote_index_column": 469
        },
        {
         "0": "{'O-H-O': 1, 'H-O-Et': 1}",
         "_deepnote_index_column": 470
        },
        {
         "0": "{'Br-O-Me': 1}",
         "_deepnote_index_column": 471
        },
        {
         "0": "{'S-O3-H': 1, 'O3-H-N': 1, 'H-N-H': 1, 'N-H-Me': 1}",
         "_deepnote_index_column": 472
        },
        {
         "0": "{}",
         "_deepnote_index_column": 473
        },
        {
         "0": "{}",
         "_deepnote_index_column": 474
        },
        {
         "0": "{'S-O3-H': 1}",
         "_deepnote_index_column": 475
        },
        {
         "0": "{}",
         "_deepnote_index_column": 476
        },
        {
         "0": "{'O-Me-H': 1}",
         "_deepnote_index_column": 477
        },
        {
         "0": "{'H-C-O': 1, 'C-O-O': 1, 'O-O-Et': 1}",
         "_deepnote_index_column": 478
        },
        {
         "0": "{'Cl-C-O': 1, 'C-O-O': 1, 'O-O-H': 1}",
         "_deepnote_index_column": 479
        },
        {
         "0": "{}",
         "_deepnote_index_column": 480
        },
        {
         "0": "{'O-Pr-N': 1, 'Pr-N-H2': 1}",
         "_deepnote_index_column": 481
        },
        {
         "0": "{'O-Pr-Br': 1}",
         "_deepnote_index_column": 482
        },
        {
         "0": "{}",
         "_deepnote_index_column": 483
        },
        {
         "0": "{}",
         "_deepnote_index_column": 484
        },
        {
         "0": "{}",
         "_deepnote_index_column": 485
        },
        {
         "0": "{'S-O3-H': 1}",
         "_deepnote_index_column": 486
        },
        {
         "0": "{'O-Me-F': 1}",
         "_deepnote_index_column": 487
        },
        {
         "0": "{'N-O2-F': 1}",
         "_deepnote_index_column": 488
        },
        {
         "0": "{'O-H-N': 1, 'H-N-O2': 1}",
         "_deepnote_index_column": 489
        },
        {
         "0": "{'C-O-O': 1, 'O-O-H': 1, 'O-H-H': 1, 'H-H-C': 1, 'H-C-O': 1}",
         "_deepnote_index_column": 490
        },
        {
         "0": "{'O-Me-S': 1, 'Me-S-O3': 1, 'S-O3-H': 1}",
         "_deepnote_index_column": 491
        },
        {
         "0": "{}",
         "_deepnote_index_column": 492
        },
        {
         "0": "{'N-H-Me': 1, 'H-Me-I': 1}",
         "_deepnote_index_column": 493
        },
        {
         "0": "{'H-C-O': 1, 'C-O-O': 1, 'O-O-Me': 1}",
         "_deepnote_index_column": 494
        },
        {
         "0": "{}",
         "_deepnote_index_column": 495
        },
        {
         "0": "{}",
         "_deepnote_index_column": 496
        },
        {
         "0": "{'H-C-O': 1, 'C-O-O': 1, 'O-O-H': 1}",
         "_deepnote_index_column": 497
        },
        {
         "0": "{'O-H-C': 1, 'H-C-N': 1}",
         "_deepnote_index_column": 498
        },
        {
         "0": "{'F-H-C': 1, 'H-C-O': 1}",
         "_deepnote_index_column": 499
        }
       ],
       "rows_bottom": [
        {
         "0": "{'Et-O-Et': 1}",
         "_deepnote_index_column": 68113
        },
        {
         "0": "{'N-O2-O': 1, 'O2-O-H': 1}",
         "_deepnote_index_column": 68114
        },
        {
         "0": "{'C-O-O': 1, 'O-O-H': 1, 'O-H-I': 1}",
         "_deepnote_index_column": 68115
        },
        {
         "0": "{}",
         "_deepnote_index_column": 68116
        },
        {
         "0": "{'H-O-Pr': 1}",
         "_deepnote_index_column": 68117
        },
        {
         "0": "{'C-O-O': 1, 'O-O-H': 1, 'O-H-S': 1, 'H-S-O3': 1, 'S-O3-H': 1}",
         "_deepnote_index_column": 68118
        },
        {
         "0": "{}",
         "_deepnote_index_column": 68119
        },
        {
         "0": "{'H-C-O': 1, 'C-O-O': 1, 'O-O-Pr': 1}",
         "_deepnote_index_column": 68120
        },
        {
         "0": "{'C-O-O': 1, 'O-O-H': 1, 'O-H-O': 1, 'H-O-Pr': 1}",
         "_deepnote_index_column": 68121
        },
        {
         "0": "{}",
         "_deepnote_index_column": 68122
        },
        {
         "0": "{'O-Et-Br': 1}",
         "_deepnote_index_column": 68123
        },
        {
         "0": "{}",
         "_deepnote_index_column": 68124
        },
        {
         "0": "{'S-O3-H': 1}",
         "_deepnote_index_column": 68125
        },
        {
         "0": "{}",
         "_deepnote_index_column": 68126
        },
        {
         "0": "{'Br-N-O2': 1}",
         "_deepnote_index_column": 68127
        },
        {
         "0": "{'C-O-O': 1, 'O-O-H': 1, 'O-H-H': 1, 'H-H-C': 1, 'H-C-O': 1}",
         "_deepnote_index_column": 68128
        },
        {
         "0": "{'Br-O-H': 1}",
         "_deepnote_index_column": 68129
        },
        {
         "0": "{'O-Me-H': 1}",
         "_deepnote_index_column": 68130
        },
        {
         "0": "{'S-O3-H': 1, 'O3-H-N': 1, 'H-N-H': 1, 'N-H-Me': 1}",
         "_deepnote_index_column": 68131
        },
        {
         "0": "{'N-H-Me': 1, 'H-Me-N': 1, 'Me-N-O2': 1}",
         "_deepnote_index_column": 68132
        },
        {
         "0": "{}",
         "_deepnote_index_column": 68133
        },
        {
         "0": "{'O-H-I': 1}",
         "_deepnote_index_column": 68134
        },
        {
         "0": "{'N-O2-H': 1, 'O2-H-C': 1, 'H-C-O': 1}",
         "_deepnote_index_column": 68135
        },
        {
         "0": "{'S-O3-H': 1, 'O3-H-H': 1}",
         "_deepnote_index_column": 68136
        },
        {
         "0": "{}",
         "_deepnote_index_column": 68137
        },
        {
         "0": "{'H-C-O': 1, 'C-O-I': 1}",
         "_deepnote_index_column": 68138
        },
        {
         "0": "{'S-O3-H': 1, 'O3-H-Cl': 1}",
         "_deepnote_index_column": 68139
        },
        {
         "0": "{'Me-N-O2': 1}",
         "_deepnote_index_column": 68140
        },
        {
         "0": "{'N-O2-S': 1, 'O2-S-O3': 1, 'S-O3-H': 1}",
         "_deepnote_index_column": 68141
        },
        {
         "0": "{'N-O2-I': 1}",
         "_deepnote_index_column": 68142
        },
        {
         "0": "{}",
         "_deepnote_index_column": 68143
        },
        {
         "0": "{'O-H-Et': 1}",
         "_deepnote_index_column": 68144
        },
        {
         "0": "{'N-O2-N': 1, 'O2-N-H': 1, 'N-H-Me': 1}",
         "_deepnote_index_column": 68145
        },
        {
         "0": "{'O-H-Et': 1}",
         "_deepnote_index_column": 68146
        },
        {
         "0": "{'O-H-O': 1, 'H-O-Pr': 1}",
         "_deepnote_index_column": 68147
        },
        {
         "0": "{'O-Me-O': 1, 'Me-O-H': 1}",
         "_deepnote_index_column": 68148
        },
        {
         "0": "{'O-Me-H': 1}",
         "_deepnote_index_column": 68149
        },
        {
         "0": "{'O-Me-F': 1}",
         "_deepnote_index_column": 68150
        },
        {
         "0": "{'N-H-Me': 1, 'H-Me-Cl': 1}",
         "_deepnote_index_column": 68151
        },
        {
         "0": "{'O-Me-H': 1, 'Me-H-C': 1, 'H-C-O': 1}",
         "_deepnote_index_column": 68152
        },
        {
         "0": "{'I-S-O3': 1, 'S-O3-H': 1}",
         "_deepnote_index_column": 68153
        },
        {
         "0": "{}",
         "_deepnote_index_column": 68154
        },
        {
         "0": "{'O-H-Et': 1}",
         "_deepnote_index_column": 68155
        },
        {
         "0": "{'H-C-O': 1, 'C-O-I': 1}",
         "_deepnote_index_column": 68156
        },
        {
         "0": "{'Et-H-C': 1, 'H-C-O': 1}",
         "_deepnote_index_column": 68157
        },
        {
         "0": "{'N-O2-O': 1, 'O2-O-Et': 1}",
         "_deepnote_index_column": 68158
        },
        {
         "0": "{'O-Me-N': 1, 'Me-N-O2': 1}",
         "_deepnote_index_column": 68159
        },
        {
         "0": "{'C-O-O': 1, 'O-O-H': 1, 'O-H-O': 1, 'H-O-Me': 1}",
         "_deepnote_index_column": 68160
        },
        {
         "0": "{'S-O3-H': 1, 'O3-H-O': 1, 'H-O-Pr': 1}",
         "_deepnote_index_column": 68161
        },
        {
         "0": "{'O-Et-Cl': 1}",
         "_deepnote_index_column": 68162
        },
        {
         "0": "{'H-C-O': 1, 'C-O-Ph': 1}",
         "_deepnote_index_column": 68163
        },
        {
         "0": "{'I-O-Me': 1}",
         "_deepnote_index_column": 68164
        },
        {
         "0": "{}",
         "_deepnote_index_column": 68165
        },
        {
         "0": "{'Et-O-Et': 1}",
         "_deepnote_index_column": 68166
        },
        {
         "0": "{'H-O-Me': 1}",
         "_deepnote_index_column": 68167
        },
        {
         "0": "{'C-O-O': 1, 'O-O-H': 1, 'O-H-H': 1}",
         "_deepnote_index_column": 68168
        },
        {
         "0": "{'H-C-O': 1, 'C-O-Me': 1}",
         "_deepnote_index_column": 68169
        },
        {
         "0": "{'N-O2-Br': 1}",
         "_deepnote_index_column": 68170
        },
        {
         "0": "{'F-S-O3': 1, 'S-O3-H': 1}",
         "_deepnote_index_column": 68171
        },
        {
         "0": "{'N-O2-S': 1, 'O2-S-O3': 1, 'S-O3-H': 1}",
         "_deepnote_index_column": 68172
        },
        {
         "0": "{'H-C-O': 1}",
         "_deepnote_index_column": 68173
        },
        {
         "0": "{'C-O-O': 1, 'O-O-H': 1, 'O-H-H': 1, 'H-H-C': 1, 'H-C-O': 1}",
         "_deepnote_index_column": 68174
        },
        {
         "0": "{'C-N-O': 1, 'N-O-Et': 1}",
         "_deepnote_index_column": 68175
        },
        {
         "0": "{'C-O-O': 1, 'O-O-H': 1, 'O-H-Cl': 1}",
         "_deepnote_index_column": 68176
        },
        {
         "0": "{'O-H-O': 1, 'H-O-Me': 1}",
         "_deepnote_index_column": 68177
        },
        {
         "0": "{}",
         "_deepnote_index_column": 68178
        },
        {
         "0": "{'O-H-I': 1}",
         "_deepnote_index_column": 68179
        },
        {
         "0": "{'C-N-I': 1}",
         "_deepnote_index_column": 68180
        },
        {
         "0": "{'F-N-O2': 1}",
         "_deepnote_index_column": 68181
        },
        {
         "0": "{}",
         "_deepnote_index_column": 68182
        },
        {
         "0": "{'S-O3-H': 1, 'O3-H-Me': 1}",
         "_deepnote_index_column": 68183
        },
        {
         "0": "{'C-O-O': 1, 'O-O-H': 1, 'O-H-H': 1, 'H-H-C': 1, 'H-C-O': 1}",
         "_deepnote_index_column": 68184
        },
        {
         "0": "{'H-C-O': 1, 'C-O-O': 1, 'O-O-Me': 1}",
         "_deepnote_index_column": 68185
        },
        {
         "0": "{'I-C-N': 1}",
         "_deepnote_index_column": 68186
        },
        {
         "0": "{'N-O2-N': 1, 'O2-N-H2': 1}",
         "_deepnote_index_column": 68187
        },
        {
         "0": "{'N-O2-I': 1}",
         "_deepnote_index_column": 68188
        },
        {
         "0": "{'N-O2-C': 1, 'O2-C-O': 1, 'C-O-O': 1, 'O-O-H': 1}",
         "_deepnote_index_column": 68189
        },
        {
         "0": "{'Me-S-O3': 1, 'S-O3-H': 1}",
         "_deepnote_index_column": 68190
        },
        {
         "0": "{'F-N-O2': 1}",
         "_deepnote_index_column": 68191
        },
        {
         "0": "{}",
         "_deepnote_index_column": 68192
        },
        {
         "0": "{'I-O-H': 1}",
         "_deepnote_index_column": 68193
        },
        {
         "0": "{'Br-C-N': 1}",
         "_deepnote_index_column": 68194
        },
        {
         "0": "{'O-Me-Ph': 1}",
         "_deepnote_index_column": 68195
        },
        {
         "0": "{'I-O-Me': 1}",
         "_deepnote_index_column": 68196
        },
        {
         "0": "{}",
         "_deepnote_index_column": 68197
        },
        {
         "0": "{'C-N-O': 1, 'N-O-Me': 1}",
         "_deepnote_index_column": 68198
        },
        {
         "0": "{'N-O2-H': 1}",
         "_deepnote_index_column": 68199
        },
        {
         "0": "{}",
         "_deepnote_index_column": 68200
        },
        {
         "0": "{'S-O3-H': 1, 'O3-H-N': 1, 'H-N-O2': 1}",
         "_deepnote_index_column": 68201
        },
        {
         "0": "{'S-O3-H': 1, 'O3-H-Cl': 1}",
         "_deepnote_index_column": 68202
        },
        {
         "0": "{'S-O3-H': 1, 'O3-H-N': 1, 'H-N-H2': 1}",
         "_deepnote_index_column": 68203
        },
        {
         "0": "{'Br-O-H': 1}",
         "_deepnote_index_column": 68204
        },
        {
         "0": "{'Br-N-H2': 1}",
         "_deepnote_index_column": 68205
        },
        {
         "0": "{'O-Me-N': 1, 'Me-N-O2': 1}",
         "_deepnote_index_column": 68206
        },
        {
         "0": "{}",
         "_deepnote_index_column": 68207
        },
        {
         "0": "{'H-N-H': 1, 'N-H-Me': 1}",
         "_deepnote_index_column": 68208
        },
        {
         "0": "{}",
         "_deepnote_index_column": 68209
        },
        {
         "0": "{'Et-H-C': 1, 'H-C-O': 1}",
         "_deepnote_index_column": 68210
        },
        {
         "0": "{'Cl-N-H2': 1}",
         "_deepnote_index_column": 68211
        },
        {
         "0": "{'O-Me-S': 1, 'Me-S-O3': 1, 'S-O3-H': 1}",
         "_deepnote_index_column": 68212
        },
        {
         "0": "{'O-H-O': 1, 'H-O-Me': 1}",
         "_deepnote_index_column": 68213
        },
        {
         "0": "{'S-O3-H': 1, 'O3-H-N': 1, 'H-N-H2': 1}",
         "_deepnote_index_column": 68214
        },
        {
         "0": "{'S-O3-H': 1, 'O3-H-N': 1, 'H-N-O2': 1}",
         "_deepnote_index_column": 68215
        },
        {
         "0": "{}",
         "_deepnote_index_column": 68216
        },
        {
         "0": "{'Pr-H-C': 1, 'H-C-O': 1}",
         "_deepnote_index_column": 68217
        },
        {
         "0": "{'Ph-O-Et': 1}",
         "_deepnote_index_column": 68218
        },
        {
         "0": "{'O-Pr-O': 1, 'Pr-O-Et': 1}",
         "_deepnote_index_column": 68219
        },
        {
         "0": "{'Cl-O-Pr': 1}",
         "_deepnote_index_column": 68220
        },
        {
         "0": "{'N-O2-O': 1, 'O2-O-Pr': 1}",
         "_deepnote_index_column": 68221
        },
        {
         "0": "{'C-O-O': 1, 'O-O-H': 1, 'O-H-O': 1, 'H-O-Pr': 1}",
         "_deepnote_index_column": 68222
        },
        {
         "0": "{'I-O-Pr': 1}",
         "_deepnote_index_column": 68223
        },
        {
         "0": "{'S-O3-H': 1, 'O3-H-F': 1}",
         "_deepnote_index_column": 68224
        },
        {
         "0": "{'O-Me-Ph': 1}",
         "_deepnote_index_column": 68225
        },
        {
         "0": "{'O-Pr-O': 1, 'Pr-O-H': 1}",
         "_deepnote_index_column": 68226
        },
        {
         "0": "{'O-Et-N': 1, 'Et-N-H': 1, 'N-H-Me': 1}",
         "_deepnote_index_column": 68227
        },
        {
         "0": "{'Et-O-H': 1}",
         "_deepnote_index_column": 68228
        },
        {
         "0": "{'S-O3-H': 1}",
         "_deepnote_index_column": 68229
        },
        {
         "0": "{'N-H2-O': 1, 'H2-O-Pr': 1}",
         "_deepnote_index_column": 68230
        },
        {
         "0": "{'H-C-O': 1, 'C-O-Pr': 1}",
         "_deepnote_index_column": 68231
        },
        {
         "0": "{'S-O3-H': 1, 'O3-H-Cl': 1}",
         "_deepnote_index_column": 68232
        },
        {
         "0": "{}",
         "_deepnote_index_column": 68233
        },
        {
         "0": "{'C-O-O': 1, 'O-O-H': 1, 'O-H-N': 1, 'H-N-H': 1, 'N-H-Me': 1}",
         "_deepnote_index_column": 68234
        },
        {
         "0": "{'N-H-Me': 1, 'H-Me-C': 1, 'Me-C-O': 1, 'C-O-O': 1, 'O-O-H': 1}",
         "_deepnote_index_column": 68235
        },
        {
         "0": "{'O-Et-N': 1, 'Et-N-H': 1, 'N-H-Me': 1}",
         "_deepnote_index_column": 68236
        },
        {
         "0": "{'N-H-Me': 1, 'H-Me-O': 1, 'Me-O-Et': 1}",
         "_deepnote_index_column": 68237
        },
        {
         "0": "{'N-H2-N': 1, 'H2-N-H': 1, 'N-H-Me': 1}",
         "_deepnote_index_column": 68238
        },
        {
         "0": "{'Me-N-H': 1, 'N-H-Me': 1}",
         "_deepnote_index_column": 68239
        },
        {
         "0": "{'N-H-Me': 1, 'H-Me-C': 1, 'Me-C-O': 1, 'C-O-O': 1, 'O-O-H': 1}",
         "_deepnote_index_column": 68240
        },
        {
         "0": "{}",
         "_deepnote_index_column": 68241
        },
        {
         "0": "{'S-O3-H': 1, 'O3-H-Br': 1}",
         "_deepnote_index_column": 68242
        },
        {
         "0": "{'H-C-O': 1, 'C-O-O': 1, 'O-O-H': 1}",
         "_deepnote_index_column": 68243
        },
        {
         "0": "{'N-O2-Et': 1}",
         "_deepnote_index_column": 68244
        },
        {
         "0": "{'N-H-Me': 1}",
         "_deepnote_index_column": 68245
        },
        {
         "0": "{'Et-H-C': 1, 'H-C-O': 1}",
         "_deepnote_index_column": 68246
        },
        {
         "0": "{'H-C-O': 1, 'C-O-O': 1, 'O-O-H': 1}",
         "_deepnote_index_column": 68247
        },
        {
         "0": "{}",
         "_deepnote_index_column": 68248
        },
        {
         "0": "{}",
         "_deepnote_index_column": 68249
        },
        {
         "0": "{'O-Pr-O': 1, 'Pr-O-Me': 1}",
         "_deepnote_index_column": 68250
        },
        {
         "0": "{}",
         "_deepnote_index_column": 68251
        },
        {
         "0": "{'H-C-O': 1, 'C-O-Cl': 1}",
         "_deepnote_index_column": 68252
        },
        {
         "0": "{'O-H-N': 1, 'H-N-H': 1, 'N-H-Me': 1}",
         "_deepnote_index_column": 68253
        },
        {
         "0": "{'N-O2-F': 1}",
         "_deepnote_index_column": 68254
        },
        {
         "0": "{}",
         "_deepnote_index_column": 68255
        },
        {
         "0": "{'O-H-Pr': 1}",
         "_deepnote_index_column": 68256
        },
        {
         "0": "{}",
         "_deepnote_index_column": 68257
        },
        {
         "0": "{}",
         "_deepnote_index_column": 68258
        },
        {
         "0": "{'C-O-O': 1, 'O-O-H': 1, 'O-H-N': 1, 'H-N-O2': 1}",
         "_deepnote_index_column": 68259
        },
        {
         "0": "{'I-O-H': 1}",
         "_deepnote_index_column": 68260
        },
        {
         "0": "{'O-Et-N': 1, 'Et-N-H2': 1}",
         "_deepnote_index_column": 68261
        },
        {
         "0": "{'O-Et-O': 1, 'Et-O-Pr': 1}",
         "_deepnote_index_column": 68262
        },
        {
         "0": "{'N-H2-Me': 1}",
         "_deepnote_index_column": 68263
        },
        {
         "0": "{}",
         "_deepnote_index_column": 68264
        },
        {
         "0": "{'N-O2-Br': 1}",
         "_deepnote_index_column": 68265
        },
        {
         "0": "{'O-Et-F': 1}",
         "_deepnote_index_column": 68266
        },
        {
         "0": "{'H-N-O2': 1}",
         "_deepnote_index_column": 68267
        },
        {
         "0": "{}",
         "_deepnote_index_column": 68268
        },
        {
         "0": "{}",
         "_deepnote_index_column": 68269
        },
        {
         "0": "{}",
         "_deepnote_index_column": 68270
        },
        {
         "0": "{'Pr-N-H': 1, 'N-H-Me': 1}",
         "_deepnote_index_column": 68271
        },
        {
         "0": "{'C-O-O': 1, 'O-O-H': 1, 'O-H-N': 1, 'H-N-H': 1, 'N-H-Me': 1}",
         "_deepnote_index_column": 68272
        },
        {
         "0": "{'Cl-O-H': 1}",
         "_deepnote_index_column": 68273
        },
        {
         "0": "{'O-H-S': 1, 'H-S-O3': 1, 'S-O3-H': 1}",
         "_deepnote_index_column": 68274
        },
        {
         "0": "{}",
         "_deepnote_index_column": 68275
        },
        {
         "0": "{'N-H2-Pr': 1}",
         "_deepnote_index_column": 68276
        },
        {
         "0": "{}",
         "_deepnote_index_column": 68277
        },
        {
         "0": "{'O-Et-O': 1, 'Et-O-H': 1}",
         "_deepnote_index_column": 68278
        },
        {
         "0": "{}",
         "_deepnote_index_column": 68279
        },
        {
         "0": "{'O-H-C': 1, 'H-C-N': 1}",
         "_deepnote_index_column": 68280
        },
        {
         "0": "{'Cl-H-C': 1, 'H-C-O': 1}",
         "_deepnote_index_column": 68281
        },
        {
         "0": "{'N-H-Me': 1}",
         "_deepnote_index_column": 68282
        },
        {
         "0": "{}",
         "_deepnote_index_column": 68283
        },
        {
         "0": "{'Me-N-O2': 1}",
         "_deepnote_index_column": 68284
        },
        {
         "0": "{'N-H-Me': 1, 'H-Me-H': 1, 'Me-H-C': 1, 'H-C-O': 1}",
         "_deepnote_index_column": 68285
        },
        {
         "0": "{'N-H2-H': 1, 'H2-H-C': 1, 'H-C-O': 1}",
         "_deepnote_index_column": 68286
        },
        {
         "0": "{'O-H-O': 1, 'H-O-Et': 1}",
         "_deepnote_index_column": 68287
        },
        {
         "0": "{}",
         "_deepnote_index_column": 68288
        },
        {
         "0": "{'C-O-O': 1, 'O-O-H': 1, 'O-H-N': 1, 'H-N-O2': 1}",
         "_deepnote_index_column": 68289
        },
        {
         "0": "{}",
         "_deepnote_index_column": 68290
        },
        {
         "0": "{}",
         "_deepnote_index_column": 68291
        },
        {
         "0": "{'F-O-Me': 1}",
         "_deepnote_index_column": 68292
        },
        {
         "0": "{'I-C-N': 1}",
         "_deepnote_index_column": 68293
        },
        {
         "0": "{'C-O-O': 1, 'O-O-H': 1}",
         "_deepnote_index_column": 68294
        },
        {
         "0": "{'Et-N-O2': 1}",
         "_deepnote_index_column": 68295
        },
        {
         "0": "{'H-C-O': 1, 'C-O-H': 1}",
         "_deepnote_index_column": 68296
        },
        {
         "0": "{}",
         "_deepnote_index_column": 68297
        },
        {
         "0": "{'O-H-N': 1, 'H-N-O2': 1}",
         "_deepnote_index_column": 68298
        },
        {
         "0": "{'C-N-F': 1}",
         "_deepnote_index_column": 68299
        },
        {
         "0": "{'Me-O-H': 1}",
         "_deepnote_index_column": 68300
        },
        {
         "0": "{'S-O3-H': 1, 'O3-H-N': 1, 'H-N-O2': 1}",
         "_deepnote_index_column": 68301
        },
        {
         "0": "{'O-Et-N': 1, 'Et-N-H': 1, 'N-H-Me': 1}",
         "_deepnote_index_column": 68302
        },
        {
         "0": "{'S-O3-H': 1, 'O3-H-C': 1, 'H-C-O': 1, 'C-O-O': 1, 'O-O-H': 1}",
         "_deepnote_index_column": 68303
        },
        {
         "0": "{'C-N-N': 1, 'N-N-O2': 1}",
         "_deepnote_index_column": 68304
        },
        {
         "0": "{'N-H-Me': 1, 'H-Me-H': 1, 'Me-H-C': 1, 'H-C-O': 1}",
         "_deepnote_index_column": 68305
        },
        {
         "0": "{'I-H-C': 1, 'H-C-O': 1}",
         "_deepnote_index_column": 68306
        },
        {
         "0": "{}",
         "_deepnote_index_column": 68307
        },
        {
         "0": "{}",
         "_deepnote_index_column": 68308
        },
        {
         "0": "{'N-H2-Me': 1}",
         "_deepnote_index_column": 68309
        },
        {
         "0": "{'Cl-H-C': 1, 'H-C-O': 1}",
         "_deepnote_index_column": 68310
        },
        {
         "0": "{}",
         "_deepnote_index_column": 68311
        },
        {
         "0": "{'N-H-Me': 1, 'H-Me-O': 1, 'Me-O-Me': 1}",
         "_deepnote_index_column": 68312
        },
        {
         "0": "{}",
         "_deepnote_index_column": 68313
        },
        {
         "0": "{'O-H-Me': 1}",
         "_deepnote_index_column": 68314
        },
        {
         "0": "{'S-O3-H': 1, 'O3-H-Et': 1}",
         "_deepnote_index_column": 68315
        },
        {
         "0": "{}",
         "_deepnote_index_column": 68316
        },
        {
         "0": "{'N-O2-N': 1, 'O2-N-H2': 1}",
         "_deepnote_index_column": 68317
        },
        {
         "0": "{'N-O2-N': 1, 'O2-N-H2': 1}",
         "_deepnote_index_column": 68318
        },
        {
         "0": "{'N-H-Me': 1, 'H-Me-I': 1}",
         "_deepnote_index_column": 68319
        },
        {
         "0": "{'Cl-C-O': 1, 'C-O-O': 1, 'O-O-H': 1}",
         "_deepnote_index_column": 68320
        },
        {
         "0": "{'N-H2-Cl': 1}",
         "_deepnote_index_column": 68321
        },
        {
         "0": "{'F-O-Pr': 1}",
         "_deepnote_index_column": 68322
        },
        {
         "0": "{'C-N-N': 1, 'N-N-O2': 1}",
         "_deepnote_index_column": 68323
        },
        {
         "0": "{'O-Me-H': 1, 'Me-H-C': 1, 'H-C-O': 1}",
         "_deepnote_index_column": 68324
        },
        {
         "0": "{}",
         "_deepnote_index_column": 68325
        },
        {
         "0": "{'N-H2-H': 1, 'H2-H-C': 1, 'H-C-O': 1}",
         "_deepnote_index_column": 68326
        },
        {
         "0": "{'N-O2-H': 1, 'O2-H-C': 1, 'H-C-O': 1}",
         "_deepnote_index_column": 68327
        },
        {
         "0": "{'O-Pr-N': 1, 'Pr-N-H': 1, 'N-H-Me': 1}",
         "_deepnote_index_column": 68328
        },
        {
         "0": "{'O-H-N': 1, 'H-N-H': 1, 'N-H-Me': 1}",
         "_deepnote_index_column": 68329
        },
        {
         "0": "{}",
         "_deepnote_index_column": 68330
        },
        {
         "0": "{'C-O-O': 1, 'O-O-H': 1, 'O-H-S': 1, 'H-S-O3': 1, 'S-O3-H': 1}",
         "_deepnote_index_column": 68331
        },
        {
         "0": "{'S-O3-H': 1, 'O3-H-O': 1, 'H-O-Pr': 1}",
         "_deepnote_index_column": 68332
        },
        {
         "0": "{'Me-H-C': 1, 'H-C-O': 1}",
         "_deepnote_index_column": 68333
        },
        {
         "0": "{}",
         "_deepnote_index_column": 68334
        },
        {
         "0": "{'C-O-O': 1, 'O-O-H': 1, 'O-H-F': 1}",
         "_deepnote_index_column": 68335
        },
        {
         "0": "{'O-Me-Et': 1}",
         "_deepnote_index_column": 68336
        },
        {
         "0": "{}",
         "_deepnote_index_column": 68337
        },
        {
         "0": "{'N-H2-H': 1, 'H2-H-C': 1, 'H-C-O': 1}",
         "_deepnote_index_column": 68338
        },
        {
         "0": "{'N-H2-O': 1, 'H2-O-Pr': 1}",
         "_deepnote_index_column": 68339
        },
        {
         "0": "{'N-H2-Me': 1}",
         "_deepnote_index_column": 68340
        },
        {
         "0": "{'O-Et-S': 1, 'Et-S-O3': 1, 'S-O3-H': 1}",
         "_deepnote_index_column": 68341
        },
        {
         "0": "{'N-H2-F': 1}",
         "_deepnote_index_column": 68342
        },
        {
         "0": "{}",
         "_deepnote_index_column": 68343
        },
        {
         "0": "{'C-O-O': 1, 'O-O-H': 1}",
         "_deepnote_index_column": 68344
        },
        {
         "0": "{}",
         "_deepnote_index_column": 68345
        },
        {
         "0": "{'S-O3-H': 1, 'O3-H-Pr': 1}",
         "_deepnote_index_column": 68346
        },
        {
         "0": "{}",
         "_deepnote_index_column": 68347
        },
        {
         "0": "{'I-O-H': 1}",
         "_deepnote_index_column": 68348
        },
        {
         "0": "{'Br-C-O': 1, 'C-O-O': 1, 'O-O-H': 1}",
         "_deepnote_index_column": 68349
        },
        {
         "0": "{'N-H2-I': 1}",
         "_deepnote_index_column": 68350
        },
        {
         "0": "{}",
         "_deepnote_index_column": 68351
        },
        {
         "0": "{}",
         "_deepnote_index_column": 68352
        },
        {
         "0": "{'N-O2-O': 1, 'O2-O-Me': 1}",
         "_deepnote_index_column": 68353
        },
        {
         "0": "{'H-C-O': 1, 'C-O-Cl': 1}",
         "_deepnote_index_column": 68354
        },
        {
         "0": "{'I-C-O': 1, 'C-O-O': 1, 'O-O-H': 1}",
         "_deepnote_index_column": 68355
        },
        {
         "0": "{'F-N-H': 1, 'N-H-Me': 1}",
         "_deepnote_index_column": 68356
        },
        {
         "0": "{'Cl-N-H': 1, 'N-H-Me': 1}",
         "_deepnote_index_column": 68357
        },
        {
         "0": "{'N-H2-H': 1, 'H2-H-C': 1, 'H-C-O': 1}",
         "_deepnote_index_column": 68358
        },
        {
         "0": "{'Pr-C-O': 1, 'C-O-O': 1, 'O-O-H': 1}",
         "_deepnote_index_column": 68359
        },
        {
         "0": "{'Ph-N-O2': 1}",
         "_deepnote_index_column": 68360
        },
        {
         "0": "{}",
         "_deepnote_index_column": 68361
        },
        {
         "0": "{}",
         "_deepnote_index_column": 68362
        },
        {
         "0": "{'Br-N-O2': 1}",
         "_deepnote_index_column": 68363
        },
        {
         "0": "{'Br-C-O': 1, 'C-O-O': 1, 'O-O-H': 1}",
         "_deepnote_index_column": 68364
        },
        {
         "0": "{'Br-O-H': 1}",
         "_deepnote_index_column": 68365
        },
        {
         "0": "{'Br-O-H': 1}",
         "_deepnote_index_column": 68366
        },
        {
         "0": "{'S-O3-H': 1, 'O3-H-O': 1, 'H-O-Me': 1}",
         "_deepnote_index_column": 68367
        },
        {
         "0": "{'O-H-Pr': 1}",
         "_deepnote_index_column": 68368
        },
        {
         "0": "{}",
         "_deepnote_index_column": 68369
        },
        {
         "0": "{'O-Pr-H': 1, 'Pr-H-C': 1, 'H-C-O': 1}",
         "_deepnote_index_column": 68370
        },
        {
         "0": "{'O-Et-O': 1, 'Et-O-H': 1}",
         "_deepnote_index_column": 68371
        },
        {
         "0": "{'F-H-C': 1, 'H-C-O': 1}",
         "_deepnote_index_column": 68372
        },
        {
         "0": "{'C-O-O': 1, 'O-O-H': 1, 'O-H-N': 1, 'H-N-H2': 1}",
         "_deepnote_index_column": 68373
        },
        {
         "0": "{}",
         "_deepnote_index_column": 68374
        },
        {
         "0": "{'O-H-O': 1, 'H-O-Me': 1}",
         "_deepnote_index_column": 68375
        },
        {
         "0": "{'S-O3-H': 1, 'O3-H-N': 1, 'H-N-H2': 1}",
         "_deepnote_index_column": 68376
        },
        {
         "0": "{'Cl-N-O2': 1}",
         "_deepnote_index_column": 68377
        },
        {
         "0": "{}",
         "_deepnote_index_column": 68378
        },
        {
         "0": "{}",
         "_deepnote_index_column": 68379
        },
        {
         "0": "{'N-O2-N': 1, 'O2-N-H': 1, 'N-H-Me': 1}",
         "_deepnote_index_column": 68380
        },
        {
         "0": "{'O-Me-N': 1, 'Me-N-O2': 1}",
         "_deepnote_index_column": 68381
        },
        {
         "0": "{}",
         "_deepnote_index_column": 68382
        },
        {
         "0": "{'I-C-O': 1, 'C-O-O': 1, 'O-O-H': 1}",
         "_deepnote_index_column": 68383
        },
        {
         "0": "{'Cl-C-O': 1, 'C-O-O': 1, 'O-O-H': 1}",
         "_deepnote_index_column": 68384
        },
        {
         "0": "{'N-O2-O': 1, 'O2-O-Me': 1}",
         "_deepnote_index_column": 68385
        },
        {
         "0": "{'O-Me-Br': 1}",
         "_deepnote_index_column": 68386
        },
        {
         "0": "{'S-O3-H': 1}",
         "_deepnote_index_column": 68387
        },
        {
         "0": "{'N-H-Me': 1, 'H-Me-H': 1}",
         "_deepnote_index_column": 68388
        },
        {
         "0": "{'N-H2-Me': 1}",
         "_deepnote_index_column": 68389
        },
        {
         "0": "{}",
         "_deepnote_index_column": 68390
        },
        {
         "0": "{'N-O2-O': 1, 'O2-O-Et': 1}",
         "_deepnote_index_column": 68391
        },
        {
         "0": "{'C-O-O': 1, 'O-O-H': 1}",
         "_deepnote_index_column": 68392
        },
        {
         "0": "{}",
         "_deepnote_index_column": 68393
        },
        {
         "0": "{'Cl-N-O2': 1}",
         "_deepnote_index_column": 68394
        },
        {
         "0": "{'Me-N-O2': 1}",
         "_deepnote_index_column": 68395
        },
        {
         "0": "{'I-O-H': 1}",
         "_deepnote_index_column": 68396
        },
        {
         "0": "{'O-Et-S': 1, 'Et-S-O3': 1, 'S-O3-H': 1}",
         "_deepnote_index_column": 68397
        },
        {
         "0": "{'F-N-O2': 1}",
         "_deepnote_index_column": 68398
        },
        {
         "0": "{}",
         "_deepnote_index_column": 68399
        },
        {
         "0": "{'F-O-Et': 1}",
         "_deepnote_index_column": 68400
        },
        {
         "0": "{'H-C-O': 1, 'C-O-Me': 1}",
         "_deepnote_index_column": 68401
        },
        {
         "0": "{}",
         "_deepnote_index_column": 68402
        },
        {
         "0": "{}",
         "_deepnote_index_column": 68403
        },
        {
         "0": "{'C-O-O': 1, 'O-O-H': 1, 'O-H-F': 1}",
         "_deepnote_index_column": 68404
        },
        {
         "0": "{'O-Pr-F': 1}",
         "_deepnote_index_column": 68405
        },
        {
         "0": "{'F-C-O': 1, 'C-O-O': 1, 'O-O-H': 1}",
         "_deepnote_index_column": 68406
        },
        {
         "0": "{'C-O-O': 1, 'O-O-H': 1, 'O-H-H': 1, 'H-H-C': 1, 'H-C-O': 1}",
         "_deepnote_index_column": 68407
        },
        {
         "0": "{'C-O-O': 1, 'O-O-H': 1, 'O-H-O': 1, 'H-O-Me': 1}",
         "_deepnote_index_column": 68408
        },
        {
         "0": "{'C-N-Ph': 1}",
         "_deepnote_index_column": 68409
        },
        {
         "0": "{'O-Me-H': 1}",
         "_deepnote_index_column": 68410
        },
        {
         "0": "{'Ph-N-H2': 1}",
         "_deepnote_index_column": 68411
        },
        {
         "0": "{}",
         "_deepnote_index_column": 68412
        },
        {
         "0": "{}",
         "_deepnote_index_column": 68413
        },
        {
         "0": "{'O-Me-Me': 1}",
         "_deepnote_index_column": 68414
        },
        {
         "0": "{}",
         "_deepnote_index_column": 68415
        },
        {
         "0": "{'S-O3-H': 1, 'O3-H-Cl': 1}",
         "_deepnote_index_column": 68416
        },
        {
         "0": "{'O-Et-S': 1, 'Et-S-O3': 1, 'S-O3-H': 1}",
         "_deepnote_index_column": 68417
        },
        {
         "0": "{'O-Me-H': 1}",
         "_deepnote_index_column": 68418
        },
        {
         "0": "{}",
         "_deepnote_index_column": 68419
        },
        {
         "0": "{}",
         "_deepnote_index_column": 68420
        },
        {
         "0": "{'S-O3-H': 1, 'O3-H-N': 1, 'H-N-H': 1, 'N-H-Me': 1}",
         "_deepnote_index_column": 68421
        },
        {
         "0": "{'N-H-Me': 1, 'H-Me-O': 1, 'Me-O-Me': 1}",
         "_deepnote_index_column": 68422
        },
        {
         "0": "{'F-O-Me': 1}",
         "_deepnote_index_column": 68423
        },
        {
         "0": "{'C-O-O': 1, 'O-O-H': 1, 'O-H-F': 1}",
         "_deepnote_index_column": 68424
        },
        {
         "0": "{'N-H2-H': 1}",
         "_deepnote_index_column": 68425
        },
        {
         "0": "{'Pr-O-Et': 1}",
         "_deepnote_index_column": 68426
        },
        {
         "0": "{}",
         "_deepnote_index_column": 68427
        },
        {
         "0": "{'N-H-Me': 1, 'H-Me-O': 1, 'Me-O-Et': 1}",
         "_deepnote_index_column": 68428
        },
        {
         "0": "{'O-H-Ph': 1}",
         "_deepnote_index_column": 68429
        },
        {
         "0": "{'I-O-Et': 1}",
         "_deepnote_index_column": 68430
        },
        {
         "0": "{'I-S-O3': 1, 'S-O3-H': 1}",
         "_deepnote_index_column": 68431
        },
        {
         "0": "{}",
         "_deepnote_index_column": 68432
        },
        {
         "0": "{'O-Pr-H': 1}",
         "_deepnote_index_column": 68433
        },
        {
         "0": "{'O-Et-Cl': 1}",
         "_deepnote_index_column": 68434
        },
        {
         "0": "{'N-H-Me': 1, 'H-Me-N': 1, 'Me-N-O2': 1}",
         "_deepnote_index_column": 68435
        },
        {
         "0": "{}",
         "_deepnote_index_column": 68436
        },
        {
         "0": "{'O-H-Ph': 1}",
         "_deepnote_index_column": 68437
        },
        {
         "0": "{}",
         "_deepnote_index_column": 68438
        },
        {
         "0": "{'O-H-O': 1, 'H-O-Pr': 1}",
         "_deepnote_index_column": 68439
        },
        {
         "0": "{'N-O2-N': 1, 'O2-N-H': 1, 'N-H-Me': 1}",
         "_deepnote_index_column": 68440
        },
        {
         "0": "{'N-O2-O': 1, 'O2-O-Et': 1}",
         "_deepnote_index_column": 68441
        },
        {
         "0": "{'O-Et-H': 1}",
         "_deepnote_index_column": 68442
        },
        {
         "0": "{'C-N-O': 1, 'N-O-Et': 1}",
         "_deepnote_index_column": 68443
        },
        {
         "0": "{'Cl-C-O': 1, 'C-O-O': 1, 'O-O-H': 1}",
         "_deepnote_index_column": 68444
        },
        {
         "0": "{'C-O-O': 1, 'O-O-H': 1, 'O-H-Cl': 1}",
         "_deepnote_index_column": 68445
        },
        {
         "0": "{'N-H-Me': 1, 'H-Me-Pr': 1}",
         "_deepnote_index_column": 68446
        },
        {
         "0": "{'C-N-C': 1, 'N-C-O': 1, 'C-O-O': 1, 'O-O-H': 1}",
         "_deepnote_index_column": 68447
        },
        {
         "0": "{}",
         "_deepnote_index_column": 68448
        },
        {
         "0": "{}",
         "_deepnote_index_column": 68449
        },
        {
         "0": "{'H-C-O': 1, 'C-O-O': 1, 'O-O-Me': 1}",
         "_deepnote_index_column": 68450
        },
        {
         "0": "{'C-N-Et': 1}",
         "_deepnote_index_column": 68451
        },
        {
         "0": "{'H-O-H': 1}",
         "_deepnote_index_column": 68452
        },
        {
         "0": "{'O-Pr-O': 1, 'Pr-O-Et': 1}",
         "_deepnote_index_column": 68453
        },
        {
         "0": "{'Br-S-O3': 1, 'S-O3-H': 1}",
         "_deepnote_index_column": 68454
        },
        {
         "0": "{'O-H-O': 1, 'H-O-Me': 1}",
         "_deepnote_index_column": 68455
        },
        {
         "0": "{'N-H2-N': 1, 'H2-N-O2': 1}",
         "_deepnote_index_column": 68456
        },
        {
         "0": "{'N-H-Me': 1, 'H-Me-Cl': 1}",
         "_deepnote_index_column": 68457
        },
        {
         "0": "{'Me-H-C': 1, 'H-C-O': 1}",
         "_deepnote_index_column": 68458
        },
        {
         "0": "{}",
         "_deepnote_index_column": 68459
        },
        {
         "0": "{'H-C-O': 1, 'C-O-Pr': 1}",
         "_deepnote_index_column": 68460
        },
        {
         "0": "{'C-O-O': 1, 'O-O-H': 1, 'O-H-I': 1}",
         "_deepnote_index_column": 68461
        },
        {
         "0": "{'N-H2-O': 1, 'H2-O-H': 1}",
         "_deepnote_index_column": 68462
        },
        {
         "0": "{'N-H-Me': 1}",
         "_deepnote_index_column": 68463
        },
        {
         "0": "{'N-H-Me': 1, 'H-Me-Pr': 1}",
         "_deepnote_index_column": 68464
        },
        {
         "0": "{'Pr-H-C': 1, 'H-C-O': 1}",
         "_deepnote_index_column": 68465
        },
        {
         "0": "{'Br-O-Et': 1}",
         "_deepnote_index_column": 68466
        },
        {
         "0": "{'Me-H-C': 1, 'H-C-O': 1}",
         "_deepnote_index_column": 68467
        },
        {
         "0": "{'O-H-Br': 1}",
         "_deepnote_index_column": 68468
        },
        {
         "0": "{'S-O3-H': 1, 'O3-H-N': 1, 'H-N-H2': 1}",
         "_deepnote_index_column": 68469
        },
        {
         "0": "{'Ph-N-H': 1, 'N-H-Me': 1}",
         "_deepnote_index_column": 68470
        },
        {
         "0": "{'Me-N-H': 1, 'N-H-Me': 1}",
         "_deepnote_index_column": 68471
        },
        {
         "0": "{'O-H-C': 1, 'H-C-N': 1}",
         "_deepnote_index_column": 68472
        },
        {
         "0": "{'N-H2-O': 1, 'H2-O-Et': 1}",
         "_deepnote_index_column": 68473
        },
        {
         "0": "{}",
         "_deepnote_index_column": 68474
        },
        {
         "0": "{'N-O2-F': 1}",
         "_deepnote_index_column": 68475
        },
        {
         "0": "{}",
         "_deepnote_index_column": 68476
        },
        {
         "0": "{}",
         "_deepnote_index_column": 68477
        },
        {
         "0": "{'Me-N-H2': 1}",
         "_deepnote_index_column": 68478
        },
        {
         "0": "{}",
         "_deepnote_index_column": 68479
        },
        {
         "0": "{}",
         "_deepnote_index_column": 68480
        },
        {
         "0": "{}",
         "_deepnote_index_column": 68481
        },
        {
         "0": "{}",
         "_deepnote_index_column": 68482
        },
        {
         "0": "{}",
         "_deepnote_index_column": 68483
        },
        {
         "0": "{'N-O2-F': 1}",
         "_deepnote_index_column": 68484
        },
        {
         "0": "{'H-C-O': 1, 'C-O-N': 1, 'O-N-O2': 1}",
         "_deepnote_index_column": 68485
        },
        {
         "0": "{'H-C-O': 1, 'C-O-H': 1}",
         "_deepnote_index_column": 68486
        },
        {
         "0": "{'O-H-H': 1}",
         "_deepnote_index_column": 68487
        },
        {
         "0": "{'H-C-O': 1}",
         "_deepnote_index_column": 68488
        },
        {
         "0": "{'Br-N-O2': 1}",
         "_deepnote_index_column": 68489
        },
        {
         "0": "{'O-H-I': 1}",
         "_deepnote_index_column": 68490
        },
        {
         "0": "{}",
         "_deepnote_index_column": 68491
        },
        {
         "0": "{'H-C-O': 1, 'C-O-H': 1}",
         "_deepnote_index_column": 68492
        },
        {
         "0": "{'Me-N-O2': 1}",
         "_deepnote_index_column": 68493
        },
        {
         "0": "{'N-H-Me': 1, 'H-Me-Br': 1}",
         "_deepnote_index_column": 68494
        },
        {
         "0": "{}",
         "_deepnote_index_column": 68495
        },
        {
         "0": "{}",
         "_deepnote_index_column": 68496
        },
        {
         "0": "{'C-O-O': 1, 'O-O-H': 1, 'O-H-H': 1}",
         "_deepnote_index_column": 68497
        },
        {
         "0": "{}",
         "_deepnote_index_column": 68498
        },
        {
         "0": "{'O-Pr-F': 1}",
         "_deepnote_index_column": 68499
        },
        {
         "0": "{'Cl-C-O': 1, 'C-O-O': 1, 'O-O-H': 1}",
         "_deepnote_index_column": 68500
        },
        {
         "0": "{}",
         "_deepnote_index_column": 68501
        },
        {
         "0": "{'N-H-Me': 1, 'H-Me-N': 1, 'Me-N-O2': 1}",
         "_deepnote_index_column": 68502
        },
        {
         "0": "{}",
         "_deepnote_index_column": 68503
        },
        {
         "0": "{}",
         "_deepnote_index_column": 68504
        },
        {
         "0": "{'N-O2-C': 1, 'O2-C-N': 1}",
         "_deepnote_index_column": 68505
        },
        {
         "0": "{}",
         "_deepnote_index_column": 68506
        },
        {
         "0": "{}",
         "_deepnote_index_column": 68507
        },
        {
         "0": "{'F-O-Me': 1}",
         "_deepnote_index_column": 68508
        },
        {
         "0": "{'I-O-Et': 1}",
         "_deepnote_index_column": 68509
        },
        {
         "0": "{'O-H-S': 1, 'H-S-O3': 1, 'S-O3-H': 1}",
         "_deepnote_index_column": 68510
        },
        {
         "0": "{'S-O3-H': 1}",
         "_deepnote_index_column": 68511
        },
        {
         "0": "{}",
         "_deepnote_index_column": 68512
        },
        {
         "0": "{'N-H-Me': 1, 'H-Me-N': 1, 'Me-N-H2': 1}",
         "_deepnote_index_column": 68513
        },
        {
         "0": "{'F-C-N': 1}",
         "_deepnote_index_column": 68514
        },
        {
         "0": "{'N-H-Me': 1, 'H-Me-Pr': 1}",
         "_deepnote_index_column": 68515
        },
        {
         "0": "{'Pr-N-O2': 1}",
         "_deepnote_index_column": 68516
        },
        {
         "0": "{'H-N-H': 1, 'N-H-Me': 1}",
         "_deepnote_index_column": 68517
        },
        {
         "0": "{'N-H-Me': 1, 'H-Me-C': 1, 'Me-C-O': 1, 'C-O-O': 1, 'O-O-H': 1}",
         "_deepnote_index_column": 68518
        },
        {
         "0": "{'N-O2-O': 1, 'O2-O-H': 1}",
         "_deepnote_index_column": 68519
        },
        {
         "0": "{'H-C-O': 1, 'C-O-O': 1, 'O-O-H': 1}",
         "_deepnote_index_column": 68520
        },
        {
         "0": "{'N-H-Me': 1, 'H-Me-H': 1}",
         "_deepnote_index_column": 68521
        },
        {
         "0": "{'N-H-Me': 1, 'H-Me-Et': 1}",
         "_deepnote_index_column": 68522
        },
        {
         "0": "{'C-N-O': 1, 'N-O-H': 1}",
         "_deepnote_index_column": 68523
        },
        {
         "0": "{}",
         "_deepnote_index_column": 68524
        },
        {
         "0": "{'Br-O-H': 1}",
         "_deepnote_index_column": 68525
        },
        {
         "0": "{'S-O3-H': 1, 'O3-H-N': 1, 'H-N-O2': 1}",
         "_deepnote_index_column": 68526
        },
        {
         "0": "{'H-C-O': 1, 'C-O-Cl': 1}",
         "_deepnote_index_column": 68527
        },
        {
         "0": "{'O-Me-H': 1}",
         "_deepnote_index_column": 68528
        },
        {
         "0": "{'O-Pr-H': 1, 'Pr-H-C': 1, 'H-C-O': 1}",
         "_deepnote_index_column": 68529
        },
        {
         "0": "{}",
         "_deepnote_index_column": 68530
        },
        {
         "0": "{'C-O-O': 1, 'O-O-H': 1, 'O-H-F': 1}",
         "_deepnote_index_column": 68531
        },
        {
         "0": "{'S-O3-H': 1}",
         "_deepnote_index_column": 68532
        },
        {
         "0": "{'C-O-O': 1, 'O-O-H': 1, 'O-H-O': 1, 'H-O-Me': 1}",
         "_deepnote_index_column": 68533
        },
        {
         "0": "{}",
         "_deepnote_index_column": 68534
        },
        {
         "0": "{'Br-O-Me': 1}",
         "_deepnote_index_column": 68535
        },
        {
         "0": "{'O-Et-Br': 1}",
         "_deepnote_index_column": 68536
        },
        {
         "0": "{}",
         "_deepnote_index_column": 68537
        },
        {
         "0": "{'O-Me-O': 1, 'Me-O-H': 1}",
         "_deepnote_index_column": 68538
        },
        {
         "0": "{}",
         "_deepnote_index_column": 68539
        },
        {
         "0": "{}",
         "_deepnote_index_column": 68540
        },
        {
         "0": "{'C-O-O': 1, 'O-O-H': 1, 'O-H-F': 1}",
         "_deepnote_index_column": 68541
        },
        {
         "0": "{'N-O2-O': 1, 'O2-O-Pr': 1}",
         "_deepnote_index_column": 68542
        },
        {
         "0": "{'O-Et-Br': 1}",
         "_deepnote_index_column": 68543
        },
        {
         "0": "{'O-Pr-N': 1, 'Pr-N-H2': 1}",
         "_deepnote_index_column": 68544
        },
        {
         "0": "{'I-N-H': 1, 'N-H-Me': 1}",
         "_deepnote_index_column": 68545
        },
        {
         "0": "{'O-Pr-O': 1, 'Pr-O-Me': 1}",
         "_deepnote_index_column": 68546
        },
        {
         "0": "{}",
         "_deepnote_index_column": 68547
        },
        {
         "0": "{'Br-N-O2': 1}",
         "_deepnote_index_column": 68548
        },
        {
         "0": "{}",
         "_deepnote_index_column": 68549
        },
        {
         "0": "{'N-H-Me': 1, 'H-Me-O': 1, 'Me-O-Me': 1}",
         "_deepnote_index_column": 68550
        },
        {
         "0": "{'O-Et-Me': 1}",
         "_deepnote_index_column": 68551
        },
        {
         "0": "{'O-Pr-O': 1, 'Pr-O-H': 1}",
         "_deepnote_index_column": 68552
        },
        {
         "0": "{'C-O-O': 1, 'O-O-H': 1, 'O-H-Pr': 1}",
         "_deepnote_index_column": 68553
        },
        {
         "0": "{'O-Me-C': 1, 'Me-C-N': 1}",
         "_deepnote_index_column": 68554
        },
        {
         "0": "{'Pr-N-H2': 1}",
         "_deepnote_index_column": 68555
        },
        {
         "0": "{'Me-O-H': 1}",
         "_deepnote_index_column": 68556
        },
        {
         "0": "{'N-O2-H': 1, 'O2-H-C': 1, 'H-C-O': 1}",
         "_deepnote_index_column": 68557
        },
        {
         "0": "{}",
         "_deepnote_index_column": 68558
        },
        {
         "0": "{'Br-O-Et': 1}",
         "_deepnote_index_column": 68559
        },
        {
         "0": "{'Cl-O-Me': 1}",
         "_deepnote_index_column": 68560
        },
        {
         "0": "{'O-Et-F': 1}",
         "_deepnote_index_column": 68561
        },
        {
         "0": "{'H-O-H': 1}",
         "_deepnote_index_column": 68562
        },
        {
         "0": "{'Cl-N-H2': 1}",
         "_deepnote_index_column": 68563
        },
        {
         "0": "{}",
         "_deepnote_index_column": 68564
        },
        {
         "0": "{'O-Me-Cl': 1}",
         "_deepnote_index_column": 68565
        },
        {
         "0": "{'O-Me-N': 1, 'Me-N-O2': 1}",
         "_deepnote_index_column": 68566
        },
        {
         "0": "{'Pr-O-Me': 1}",
         "_deepnote_index_column": 68567
        },
        {
         "0": "{'I-O-Pr': 1}",
         "_deepnote_index_column": 68568
        },
        {
         "0": "{}",
         "_deepnote_index_column": 68569
        },
        {
         "0": "{}",
         "_deepnote_index_column": 68570
        },
        {
         "0": "{'Cl-H-C': 1, 'H-C-O': 1}",
         "_deepnote_index_column": 68571
        },
        {
         "0": "{}",
         "_deepnote_index_column": 68572
        },
        {
         "0": "{}",
         "_deepnote_index_column": 68573
        },
        {
         "0": "{'S-O3-H': 1, 'O3-H-O': 1, 'H-O-Me': 1}",
         "_deepnote_index_column": 68574
        },
        {
         "0": "{}",
         "_deepnote_index_column": 68575
        },
        {
         "0": "{'Cl-N-H2': 1}",
         "_deepnote_index_column": 68576
        },
        {
         "0": "{'H-N-H': 1, 'N-H-Me': 1}",
         "_deepnote_index_column": 68577
        },
        {
         "0": "{'N-H2-O': 1, 'H2-O-Me': 1}",
         "_deepnote_index_column": 68578
        },
        {
         "0": "{}",
         "_deepnote_index_column": 68579
        },
        {
         "0": "{'C-O-O': 1, 'O-O-H': 1, 'O-H-C': 1, 'H-C-N': 1}",
         "_deepnote_index_column": 68580
        },
        {
         "0": "{'S-O3-H': 1, 'O3-H-O': 1, 'H-O-Pr': 1}",
         "_deepnote_index_column": 68581
        },
        {
         "0": "{'O-Et-O': 1, 'Et-O-Me': 1}",
         "_deepnote_index_column": 68582
        },
        {
         "0": "{'C-O-O': 1, 'O-O-H': 1, 'O-H-N': 1, 'H-N-H': 1, 'N-H-Me': 1}",
         "_deepnote_index_column": 68583
        },
        {
         "0": "{}",
         "_deepnote_index_column": 68584
        },
        {
         "0": "{'O-Me-Cl': 1}",
         "_deepnote_index_column": 68585
        },
        {
         "0": "{'O-Pr-Ph': 1}",
         "_deepnote_index_column": 68586
        },
        {
         "0": "{'O-Pr-O': 1, 'Pr-O-Me': 1}",
         "_deepnote_index_column": 68587
        },
        {
         "0": "{'N-O2-Et': 1}",
         "_deepnote_index_column": 68588
        },
        {
         "0": "{'Cl-C-N': 1}",
         "_deepnote_index_column": 68589
        },
        {
         "0": "{}",
         "_deepnote_index_column": 68590
        },
        {
         "0": "{'H-O-Me': 1}",
         "_deepnote_index_column": 68591
        },
        {
         "0": "{'N-H-Me': 1}",
         "_deepnote_index_column": 68592
        },
        {
         "0": "{'N-O2-Br': 1}",
         "_deepnote_index_column": 68593
        },
        {
         "0": "{'O-H-N': 1, 'H-N-O2': 1}",
         "_deepnote_index_column": 68594
        },
        {
         "0": "{'N-H-Me': 1, 'H-Me-H': 1}",
         "_deepnote_index_column": 68595
        },
        {
         "0": "{'Me-O-Me': 1}",
         "_deepnote_index_column": 68596
        },
        {
         "0": "{'Me-O-Et': 1}",
         "_deepnote_index_column": 68597
        },
        {
         "0": "{'Br-C-O': 1, 'C-O-O': 1, 'O-O-H': 1}",
         "_deepnote_index_column": 68598
        },
        {
         "0": "{'C-O-O': 1, 'O-O-H': 1, 'O-H-I': 1}",
         "_deepnote_index_column": 68599
        },
        {
         "0": "{}",
         "_deepnote_index_column": 68600
        },
        {
         "0": "{'N-H-Me': 1, 'H-Me-O': 1, 'Me-O-Et': 1}",
         "_deepnote_index_column": 68601
        },
        {
         "0": "{'C-N-Ph': 1}",
         "_deepnote_index_column": 68602
        },
        {
         "0": "{'S-O3-H': 1, 'O3-H-Me': 1}",
         "_deepnote_index_column": 68603
        },
        {
         "0": "{}",
         "_deepnote_index_column": 68604
        },
        {
         "0": "{}",
         "_deepnote_index_column": 68605
        },
        {
         "0": "{}",
         "_deepnote_index_column": 68606
        },
        {
         "0": "{}",
         "_deepnote_index_column": 68607
        },
        {
         "0": "{}",
         "_deepnote_index_column": 68608
        },
        {
         "0": "{'S-O3-H': 1}",
         "_deepnote_index_column": 68609
        },
        {
         "0": "{}",
         "_deepnote_index_column": 68610
        },
        {
         "0": "{'O-Pr-Me': 1}",
         "_deepnote_index_column": 68611
        },
        {
         "0": "{'I-O-Et': 1}",
         "_deepnote_index_column": 68612
        }
       ]
      },
      "text/plain": "                                                       0\n0      {'C-O-O': 1, 'O-O-H': 1, 'O-H-O': 1, 'H-O-Et': 1}\n1                                          {'F-O-Me': 1}\n2      {'O-Me-C': 1, 'Me-C-O': 1, 'C-O-O': 1, 'O-O-H'...\n3                             {'H-S-O3': 1, 'S-O3-H': 1}\n4                {'N-H-Me': 1, 'H-Me-O': 1, 'Me-O-H': 1}\n...                                                  ...\n68608                                                 {}\n68609                                      {'S-O3-H': 1}\n68610                                                 {}\n68611                                     {'O-Pr-Me': 1}\n68612                                      {'I-O-Et': 1}\n\n[68613 rows x 1 columns]",
      "text/html": "<div>\n<style scoped>\n    .dataframe tbody tr th:only-of-type {\n        vertical-align: middle;\n    }\n\n    .dataframe tbody tr th {\n        vertical-align: top;\n    }\n\n    .dataframe thead th {\n        text-align: right;\n    }\n</style>\n<table border=\"1\" class=\"dataframe\">\n  <thead>\n    <tr style=\"text-align: right;\">\n      <th></th>\n      <th>0</th>\n    </tr>\n  </thead>\n  <tbody>\n    <tr>\n      <th>0</th>\n      <td>{'C-O-O': 1, 'O-O-H': 1, 'O-H-O': 1, 'H-O-Et': 1}</td>\n    </tr>\n    <tr>\n      <th>1</th>\n      <td>{'F-O-Me': 1}</td>\n    </tr>\n    <tr>\n      <th>2</th>\n      <td>{'O-Me-C': 1, 'Me-C-O': 1, 'C-O-O': 1, 'O-O-H'...</td>\n    </tr>\n    <tr>\n      <th>3</th>\n      <td>{'H-S-O3': 1, 'S-O3-H': 1}</td>\n    </tr>\n    <tr>\n      <th>4</th>\n      <td>{'N-H-Me': 1, 'H-Me-O': 1, 'Me-O-H': 1}</td>\n    </tr>\n    <tr>\n      <th>...</th>\n      <td>...</td>\n    </tr>\n    <tr>\n      <th>68608</th>\n      <td>{}</td>\n    </tr>\n    <tr>\n      <th>68609</th>\n      <td>{'S-O3-H': 1}</td>\n    </tr>\n    <tr>\n      <th>68610</th>\n      <td>{}</td>\n    </tr>\n    <tr>\n      <th>68611</th>\n      <td>{'O-Pr-Me': 1}</td>\n    </tr>\n    <tr>\n      <th>68612</th>\n      <td>{'I-O-Et': 1}</td>\n    </tr>\n  </tbody>\n</table>\n<p>68613 rows × 1 columns</p>\n</div>"
     },
     "metadata": {}
    }
   ],
   "execution_count": null
  },
  {
   "cell_type": "code",
   "source": "df['functional_group_list'].apply(\n    lambda x: [for tee in itertools.tee(x, 2)]\n)",
   "metadata": {
    "tags": [],
    "cell_id": "00006-100b1a24-40ab-4e4a-95a8-d0c04ec23224",
    "deepnote_to_be_reexecuted": false,
    "source_hash": "dace746",
    "execution_start": 1632161513474,
    "execution_millis": 691,
    "deepnote_cell_type": "code"
   },
   "outputs": [
    {
     "output_type": "execute_result",
     "execution_count": 46,
     "data": {
      "text/plain": "Unnamed: 0\n1        [<itertools._tee object at 0x7f41152fc200>, <i...\n2        [<itertools._tee object at 0x7f4114acffc0>, <i...\n3        [<itertools._tee object at 0x7f41152d4980>, <i...\n4        [<itertools._tee object at 0x7f41152d4180>, <i...\n5        [<itertools._tee object at 0x7f41152609c0>, <i...\n                               ...                        \n68609    [<itertools._tee object at 0x7f410db22bc0>, <i...\n68610    [<itertools._tee object at 0x7f410db22c80>, <i...\n68611    [<itertools._tee object at 0x7f410db22d40>, <i...\n68612    [<itertools._tee object at 0x7f410db22e00>, <i...\n68613    [<itertools._tee object at 0x7f410db22ec0>, <i...\nName: functional_group_list, Length: 68613, dtype: object"
     },
     "metadata": {}
    }
   ],
   "execution_count": null
  },
  {
   "cell_type": "code",
   "source": "import itertools\n\n\n\n\ntrigram(['N', 'H', 'Me', 'O', 'H'])",
   "metadata": {
    "tags": [],
    "cell_id": "00007-351d248e-afd0-4df4-8234-08b402a9001c",
    "deepnote_to_be_reexecuted": false,
    "source_hash": "8896d8fd",
    "execution_start": 1632162061142,
    "execution_millis": 4,
    "deepnote_cell_type": "code"
   },
   "outputs": [
    {
     "output_type": "execute_result",
     "execution_count": 64,
     "data": {
      "text/plain": "['N-H-Me', 'H-Me-O', 'Me-O-H']"
     },
     "metadata": {}
    }
   ],
   "execution_count": null
  },
  {
   "cell_type": "code",
   "source": "Counter(['N', 'H', 'Me', 'O', 'H'])",
   "metadata": {
    "tags": [],
    "cell_id": "00005-555ade85-cb7e-4d8b-b009-d1d3dea81337",
    "deepnote_to_be_reexecuted": false,
    "source_hash": "38fc30a7",
    "execution_start": 1632161040040,
    "execution_millis": 10,
    "deepnote_cell_type": "code"
   },
   "outputs": [
    {
     "output_type": "execute_result",
     "execution_count": 30,
     "data": {
      "text/plain": "Counter({'N': 1, 'H': 2, 'Me': 1, 'O': 1})"
     },
     "metadata": {}
    }
   ],
   "execution_count": null
  },
  {
   "cell_type": "markdown",
   "source": "<a style='text-decoration:none;line-height:16px;display:flex;color:#5B5B62;padding:10px;justify-content:end;' href='https://deepnote.com?utm_source=created-in-deepnote-cell&projectId=cf8541de-dbc3-45f6-bc1e-4fa446cacbcd' target=\"_blank\">\n<img alt='Created in deepnote.com' style='display:inline;max-height:16px;margin:0px;margin-right:7.5px;' src='data:image/svg+xml;base64,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' > </img>\nCreated in <span style='font-weight:600;margin-left:4px;'>Deepnote</span></a>",
   "metadata": {
    "tags": [],
    "created_in_deepnote_cell": true,
    "deepnote_cell_type": "markdown"
   }
  }
 ],
 "nbformat": 4,
 "nbformat_minor": 2,
 "metadata": {
  "orig_nbformat": 2,
  "deepnote": {
   "is_reactive": false
  },
  "deepnote_notebook_id": "be5c0ea2-214c-49d4-a5b3-0f066bdbb5f1",
  "deepnote_execution_queue": []
 }
}