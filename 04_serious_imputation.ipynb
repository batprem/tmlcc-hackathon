{
 "cells": [
  {
   "cell_type": "code",
   "metadata": {
    "tags": [],
    "cell_id": "00000-e0a671dc-6542-455b-a7bb-a6bf0421fc6f",
    "deepnote_to_be_reexecuted": false,
    "source_hash": "818a1bc0",
    "execution_start": 1632502204239,
    "execution_millis": 1476,
    "deepnote_cell_type": "code"
   },
   "source": "import pandas as pd\nfrom src.constants import (\n    PREPROCESSING_PATH,\n    TARGET\n)\n\nimport numpy as np\nfrom sklearn.impute import KNNImputer\nfrom sklearn.metrics import mean_absolute_error\nfrom sklearn.preprocessing import power_transform\nfrom utils.classes.extractor import FunctionalGroupToGramExtractor\n\nfrom typing import (\n    Optional,\n    List,\n    Any\n)\nfrom sklearn.model_selection import KFold, RepeatedKFold, RepeatedStratifiedKFold\n\nimport warnings\nwarnings.filterwarnings(\"ignore\")",
   "outputs": [],
   "execution_count": null
  },
  {
   "cell_type": "code",
   "source": "from sklearn.svm import SVR\nfrom sklearn.pipeline import make_pipeline\nfrom sklearn.preprocessing import StandardScaler\nfrom sklearn.metrics import mean_squared_error\nfrom sklearn.pipeline import Pipeline\nfrom sklearn.model_selection import cross_val_score",
   "metadata": {
    "tags": [],
    "cell_id": "00001-34e666af-d819-4af6-a59e-3e4910d3bfbc",
    "deepnote_to_be_reexecuted": false,
    "source_hash": "cff81e28",
    "execution_start": 1632502205719,
    "execution_millis": 3,
    "deepnote_cell_type": "code"
   },
   "outputs": [],
   "execution_count": null
  },
  {
   "cell_type": "code",
   "source": "from xgboost import Booster, DMatrix\n\n\nmodel_void_fraction = Booster()\nmodel_void_fraction.load_model(\"imputer/xgboost/void_fraction.json\")\nvoid_fraction_columns = [\n    \"heat_adsorption_CO2_P0.15bar_T298K [kcal/mol]\",\n    \"CO2/N2_selectivity\",\n    \"_cell_volume\",\n    \"_cell_length_a\",\n    \"_cell_length_b\",\n    \"_cell_length_c\",\n    \"density\"\n]\n\nmodel_surface_area = Booster()\nmodel_surface_area.load_model(\"imputer/xgboost/surface_area.json\")\nsurface_area_columns = [\n        \"void_fraction\",\n        'void_volume [cm^3/g]',\n        \"heat_adsorption_CO2_P0.15bar_T298K [kcal/mol]\",\n        \"CO2/N2_selectivity\",\n        \"_cell_volume\",\n        \"_cell_length_a\",\n        \"_cell_length_b\",\n        \"_cell_length_c\",\n        \"density\"\n    ]",
   "metadata": {
    "tags": [],
    "cell_id": "00002-a7894f54-85b3-46ef-a74c-5e64d6343ca7",
    "deepnote_to_be_reexecuted": false,
    "source_hash": "af876018",
    "execution_start": 1632502205727,
    "execution_millis": 65,
    "deepnote_cell_type": "code"
   },
   "outputs": [],
   "execution_count": null
  },
  {
   "cell_type": "code",
   "source": "Train = pd.read_csv(f\"{PREPROCESSING_PATH}/train_merged_CIF/Train.csv\")\nTrain = Train.set_index(Train.columns[0])\nTrain = Train.replace([np.inf], 99999999)\nTrain = Train.replace([np.inf], -99999999)\nTrain['density'] = (Train[\"weight [u]\"] / Train[\"volume [A^3]\"]) * 1.66054\n\n\nPretest = pd.read_csv(f\"{PREPROCESSING_PATH}/pretest_merged_CIF/Pretest.csv\")\nPretest = Pretest.set_index(Pretest.columns[0])\nPretest = Pretest.replace([np.inf], 99999999)\nPretest = Pretest.replace([np.inf], -99999999)\nPretest['density'] = (Train[\"weight [u]\"] / Pretest[\"volume [A^3]\"]) * 1.66054\n\ndef impute(df):\n    df_imputed = pd.DataFrame()\n\n    # Void fraction\n    df_imputed['MOFname'] = df['MOFname']\n    df_imputed['void_fraction'] = df['void_fraction']\n    df_imputed['void_fraction_imputed'] = 0\n    indices = df.loc[df['void_fraction'] <= 0].index\n\n    df_imputed.at[indices, 'void_fraction'] = model_void_fraction.predict(\n        DMatrix(df.loc[indices][void_fraction_columns].values)\n    )\n    df_imputed.at[indices, 'void_fraction_imputed'] = 1\n    df.loc[indices, 'void_fraction'] = df_imputed.loc[indices, 'void_fraction']\n\n    # Void volume\n    df_imputed['void_volume [cm^3/g]'] = df['void_volume [cm^3/g]']\n    df_imputed['void_volume_imputed'] = 0\n    indices = df.loc[df['void_volume [cm^3/g]'] <= 0].index\n    df_imputed.at[\n        indices,\n        'void_volume [cm^3/g]'\n    ] = df_imputed.loc[indices]['void_fraction'] /df.loc[indices][\"density\"]\n    df.loc[indices, 'void_volume [cm^3/g]'] = df_imputed.loc[indices, 'void_volume [cm^3/g]']\n    df_imputed.at[indices, 'void_volume_imputed'] = 1\n\n    # Surface area\n    df_imputed['surface_area [m^2/g]'] = df['surface_area [m^2/g]']\n    df_imputed['surface_area_imputed'] = 0\n    indices = df.loc[df['surface_area [m^2/g]'] <= 0].index\n    df_imputed.at[indices, 'surface_area [m^2/g]'] = model_surface_area.predict(\n        DMatrix(df.loc[indices][surface_area_columns].values)\n    )\n    df_imputed.at[indices, 'surface_area_imputed'] = 1\n    # Train.loc[indices, 'void_fraction'] = train_imputed.loc[indices, 'void_fraction']\n    return df_imputed\n\n\nimputed_train = impute(Train)",
   "metadata": {
    "tags": [],
    "cell_id": "00003-37168188-7856-4f18-a036-1d1a424af16d",
    "deepnote_to_be_reexecuted": false,
    "source_hash": "be0d7cbc",
    "execution_start": 1632505243605,
    "execution_millis": 909,
    "deepnote_cell_type": "code"
   },
   "outputs": [],
   "execution_count": null
  },
  {
   "cell_type": "code",
   "source": "imputed_pretest = impute(Pretest)",
   "metadata": {
    "tags": [],
    "cell_id": "00004-ef74e814-02fa-4428-8085-6b70e37e33d8",
    "deepnote_to_be_reexecuted": false,
    "source_hash": "98cd3e93",
    "execution_start": 1632505261933,
    "execution_millis": 51,
    "deepnote_cell_type": "code"
   },
   "outputs": [],
   "execution_count": null
  },
  {
   "cell_type": "code",
   "source": "imputed_train.to_csv(\"imputer/xgboost/train.csv\")\nimputed_pretest.to_csv(\"imputer/xgboost/pretest.csv\")",
   "metadata": {
    "tags": [],
    "cell_id": "00005-639cd0d8-9511-424f-90e5-191039a1f731",
    "deepnote_to_be_reexecuted": false,
    "source_hash": "345cadf0",
    "execution_start": 1632505326166,
    "execution_millis": 732,
    "deepnote_cell_type": "code"
   },
   "outputs": [],
   "execution_count": null
  },
  {
   "cell_type": "markdown",
   "source": "# Test results",
   "metadata": {
    "tags": [],
    "is_collapsed": false,
    "cell_id": "00006-b34e936c-d24a-494b-ab7a-0099cd716064",
    "deepnote_cell_type": "text-cell-h1"
   }
  },
  {
   "cell_type": "code",
   "source": "imputed_train['CO2_working_capacity [mL/g]'] = Train['CO2_working_capacity [mL/g]']",
   "metadata": {
    "tags": [],
    "cell_id": "00004-ef631d4f-9504-41d1-b874-4d1df5244102",
    "deepnote_to_be_reexecuted": false,
    "source_hash": "14f3bc74",
    "execution_start": 1632502560617,
    "execution_millis": 1,
    "deepnote_cell_type": "code"
   },
   "outputs": [],
   "execution_count": null
  },
  {
   "cell_type": "code",
   "source": "imputed_train.columns",
   "metadata": {
    "tags": [],
    "cell_id": "00005-84b1a320-d01f-4939-b232-ba807c49fb1f",
    "deepnote_to_be_reexecuted": false,
    "source_hash": "c02497",
    "execution_start": 1632502949851,
    "execution_millis": 13,
    "deepnote_cell_type": "code"
   },
   "outputs": [
    {
     "output_type": "execute_result",
     "execution_count": 18,
     "data": {
      "text/plain": "Index(['MOFname', 'void_fraction', 'void_fraction_imputed',\n       'void_volume [cm^3/g]', 'void_volume_imputed', 'surface_area [m^2/g]',\n       'surface_area_imputed', 'CO2_working_capacity [mL/g]'],\n      dtype='object')"
     },
     "metadata": {}
    }
   ],
   "execution_count": null
  },
  {
   "cell_type": "code",
   "source": "from xgboost import XGBRegressor\n\nregr = XGBRegressor()\nregr.fit(\n    imputed_train.drop([\n        'MOFname',\n        'CO2_working_capacity [mL/g]',\n        'void_fraction_imputed',\n        'void_volume_imputed',\n        'surface_area_imputed'\n    ], axis=1).values,\n    Train['CO2_working_capacity [mL/g]'].values\n)",
   "metadata": {
    "tags": [],
    "cell_id": "00005-895dfee7-a912-4ef3-a3bd-cda74d197230",
    "deepnote_to_be_reexecuted": false,
    "source_hash": "bfc6f552",
    "execution_start": 1632502989065,
    "execution_millis": 8972,
    "deepnote_cell_type": "code"
   },
   "outputs": [
    {
     "output_type": "execute_result",
     "execution_count": 19,
     "data": {
      "text/plain": "XGBRegressor(base_score=0.5, booster='gbtree', colsample_bylevel=1,\n             colsample_bynode=1, colsample_bytree=1, gamma=0, gpu_id=-1,\n             importance_type='gain', interaction_constraints='',\n             learning_rate=0.300000012, max_delta_step=0, max_depth=6,\n             min_child_weight=1, missing=nan, monotone_constraints='()',\n             n_estimators=100, n_jobs=4, num_parallel_tree=1, random_state=0,\n             reg_alpha=0, reg_lambda=1, scale_pos_weight=1, subsample=1,\n             tree_method='exact', validate_parameters=1, verbosity=None)"
     },
     "metadata": {}
    }
   ],
   "execution_count": null
  },
  {
   "cell_type": "code",
   "source": "from sklearn.metrics import mean_absolute_error\nimport numpy as np\n\nnp.log(np.abs(mean_absolute_error(\n    regr.predict(imputed_train.drop([\n        'MOFname',\n        'CO2_working_capacity [mL/g]',\n        'void_fraction_imputed',\n        'void_volume_imputed',\n        'surface_area_imputed'\n    ], axis=1)),\n    Train['CO2_working_capacity [mL/g]']\n)))",
   "metadata": {
    "tags": [],
    "cell_id": "00006-91f81e63-c0e7-4dd8-9d3c-aa073c64f7aa",
    "deepnote_to_be_reexecuted": false,
    "source_hash": "23755b21",
    "execution_start": 1632503037125,
    "execution_millis": 77,
    "deepnote_cell_type": "code"
   },
   "outputs": [
    {
     "output_type": "execute_result",
     "execution_count": 22,
     "data": {
      "text/plain": "3.686014059049829"
     },
     "metadata": {}
    }
   ],
   "execution_count": null
  },
  {
   "cell_type": "code",
   "source": "regr = XGBRegressor()\nregr.fit(\n    Train[[\n        'void_fraction',\n        'void_volume [cm^3/g]',\n        'surface_area [m^2/g]'\n    ]].values,\n    Train['CO2_working_capacity [mL/g]'].values\n)",
   "metadata": {
    "tags": [],
    "cell_id": "00008-c8cd395e-ae3e-4ed0-b32a-3b72fa50938f",
    "deepnote_to_be_reexecuted": false,
    "source_hash": "ee44750f",
    "execution_start": 1632503128305,
    "execution_millis": 8028,
    "deepnote_cell_type": "code"
   },
   "outputs": [
    {
     "output_type": "execute_result",
     "execution_count": 24,
     "data": {
      "text/plain": "XGBRegressor(base_score=0.5, booster='gbtree', colsample_bylevel=1,\n             colsample_bynode=1, colsample_bytree=1, gamma=0, gpu_id=-1,\n             importance_type='gain', interaction_constraints='',\n             learning_rate=0.300000012, max_delta_step=0, max_depth=6,\n             min_child_weight=1, missing=nan, monotone_constraints='()',\n             n_estimators=100, n_jobs=4, num_parallel_tree=1, random_state=0,\n             reg_alpha=0, reg_lambda=1, scale_pos_weight=1, subsample=1,\n             tree_method='exact', validate_parameters=1, verbosity=None)"
     },
     "metadata": {}
    }
   ],
   "execution_count": null
  },
  {
   "cell_type": "code",
   "source": "np.log(np.abs(mean_absolute_error(\n    regr.predict(\n        Train[[\n        'void_fraction',\n        'void_volume [cm^3/g]',\n        'surface_area [m^2/g]'\n    ]].values\n    ),\n    Train['CO2_working_capacity [mL/g]']\n)))",
   "metadata": {
    "tags": [],
    "cell_id": "00008-81cac0db-f045-42d0-98d6-4cdd2c6cea21",
    "deepnote_to_be_reexecuted": false,
    "source_hash": "91c2ebe6",
    "execution_start": 1632503160103,
    "execution_millis": 95,
    "deepnote_cell_type": "code"
   },
   "outputs": [
    {
     "output_type": "execute_result",
     "execution_count": 25,
     "data": {
      "text/plain": "3.6986475376445243"
     },
     "metadata": {}
    }
   ],
   "execution_count": null
  },
  {
   "cell_type": "code",
   "source": "model_void_fraction.predict(DMatrix(Train[void_fraction_columns].values))",
   "metadata": {
    "tags": [],
    "cell_id": "00003-80184858-6e83-4d93-bbdf-b34312230375",
    "deepnote_to_be_reexecuted": true,
    "source_hash": "e32ebb34",
    "execution_start": 1632499178339,
    "execution_millis": 134,
    "deepnote_cell_type": "code"
   },
   "outputs": [
    {
     "output_type": "execute_result",
     "execution_count": 30,
     "data": {
      "text/plain": "array([0.14334765, 0.12290488, 0.16122892, ..., 0.35678   , 0.13348885,\n       0.08541402], dtype=float32)"
     },
     "metadata": {}
    }
   ],
   "execution_count": null
  },
  {
   "cell_type": "markdown",
   "source": "<a style='text-decoration:none;line-height:16px;display:flex;color:#5B5B62;padding:10px;justify-content:end;' href='https://deepnote.com?utm_source=created-in-deepnote-cell&projectId=cf8541de-dbc3-45f6-bc1e-4fa446cacbcd' target=\"_blank\">\n<img alt='Created in deepnote.com' style='display:inline;max-height:16px;margin:0px;margin-right:7.5px;' src='data:image/svg+xml;base64,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' > </img>\nCreated in <span style='font-weight:600;margin-left:4px;'>Deepnote</span></a>",
   "metadata": {
    "tags": [],
    "created_in_deepnote_cell": true,
    "deepnote_cell_type": "markdown"
   }
  }
 ],
 "nbformat": 4,
 "nbformat_minor": 2,
 "metadata": {
  "orig_nbformat": 2,
  "deepnote": {
   "is_reactive": false
  },
  "deepnote_notebook_id": "e275fd7a-4caa-4de8-945e-629bd766b837",
  "deepnote_execution_queue": []
 }
}