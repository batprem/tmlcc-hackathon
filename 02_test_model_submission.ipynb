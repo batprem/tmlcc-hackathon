{
 "cells": [
  {
   "cell_type": "markdown",
   "source": "# Import modules",
   "metadata": {
    "tags": [],
    "is_collapsed": false,
    "cell_id": "00000-ec85e717-5253-4436-830b-cd502714de64",
    "deepnote_cell_type": "text-cell-h1"
   }
  },
  {
   "cell_type": "code",
   "metadata": {
    "tags": [],
    "cell_id": "00000-f4818cf3-160f-4aef-9095-58cb0e1f9e86",
    "deepnote_to_be_reexecuted": false,
    "source_hash": "1662b29d",
    "execution_start": 1632168710227,
    "execution_millis": 2,
    "deepnote_cell_type": "code"
   },
   "source": "import pandas as pd\nfrom src.constants import (\n    PREPROCESSING_PATH,\n    TARGET\n)\n\nimport numpy as np\nfrom sklearn.impute import KNNImputer\nfrom sklearn.metrics import mean_absolute_error\nfrom sklearn.preprocessing import power_transform\nfrom catboost import CatBoostRegressor\nfrom utils.classes.extractor import FunctionalGroupToGramExtractor\n\nfrom typing import (\n    Optional,\n    List\n)\nfrom sklearn.model_selection import KFold",
   "execution_count": null,
   "outputs": []
  },
  {
   "cell_type": "markdown",
   "source": "# Load essentials",
   "metadata": {
    "tags": [],
    "is_collapsed": false,
    "cell_id": "00002-372c35c1-86a1-4fb9-a3bb-a8425e2e7933",
    "deepnote_cell_type": "text-cell-h1"
   }
  },
  {
   "cell_type": "code",
   "metadata": {
    "tags": [],
    "cell_id": "00001-c5269b0e-4ece-4af0-97b9-365ae7c9f569",
    "deepnote_to_be_reexecuted": false,
    "source_hash": "24408d87",
    "execution_start": 1632168442478,
    "execution_millis": 364,
    "deepnote_cell_type": "code"
   },
   "source": "Train = pd.read_csv(f\"{PREPROCESSING_PATH}/train_merged_CIF/Train.csv\")\nTrain = Train.set_index(Train.columns[0])\n\nPretest = pd.read_csv(f\"{PREPROCESSING_PATH}/pretest_merged_CIF/Pretest.csv\")\nPretest = Pretest.set_index(Pretest.columns[0])\n\nfuntional_group_extractor = FunctionalGroupToGramExtractor()",
   "execution_count": null,
   "outputs": []
  },
  {
   "cell_type": "markdown",
   "source": "# Set up pipeline",
   "metadata": {
    "tags": [],
    "is_collapsed": false,
    "cell_id": "00003-a808772e-d1d9-4d35-a6e5-8f4b42167c05",
    "deepnote_cell_type": "text-cell-h1"
   }
  },
  {
   "cell_type": "markdown",
   "source": "## Drop surface area = -1",
   "metadata": {
    "tags": [],
    "is_collapsed": false,
    "cell_id": "00004-2a0d065f-f30a-41f5-b98c-a3845a64e746",
    "deepnote_cell_type": "text-cell-h2"
   }
  },
  {
   "cell_type": "code",
   "metadata": {
    "tags": [],
    "cell_id": "00003-ff769389-0c38-4e80-9431-5e3f0a680df5",
    "deepnote_to_be_reexecuted": false,
    "source_hash": "d8d4d563",
    "execution_start": 1632168442842,
    "execution_millis": 2,
    "deepnote_cell_type": "code"
   },
   "source": "# Training set only\ndef drop_surface_area_equal_minus_1(df):\n    return df.drop(df[df['surface_area [m^2/g]'] == -1].index)",
   "execution_count": null,
   "outputs": []
  },
  {
   "cell_type": "markdown",
   "source": "## Replace surface area = 0 with np.nan",
   "metadata": {
    "tags": [],
    "is_collapsed": false,
    "cell_id": "00006-8871b6ea-ad5b-4045-a641-79ca2c919209",
    "deepnote_cell_type": "text-cell-h2"
   }
  },
  {
   "cell_type": "code",
   "metadata": {
    "tags": [],
    "cell_id": "00002-6fe3f3fa-c17a-4805-8c4c-b9192ab07b03",
    "deepnote_to_be_reexecuted": false,
    "source_hash": "cb953ccc",
    "execution_start": 1632168442848,
    "execution_millis": 1,
    "deepnote_cell_type": "code"
   },
   "source": "def  replace_surface_area_equal_0_with_null(\n    df: pd.DataFrame\n):\n    df['surface_area [m^2/g]'] = df['surface_area [m^2/g]'].replace(0, np.nan)\n    return df",
   "execution_count": null,
   "outputs": []
  },
  {
   "cell_type": "markdown",
   "source": "## Replace -∞ and ∞ with np.nan",
   "metadata": {
    "tags": [],
    "is_collapsed": false,
    "cell_id": "00008-d4c53e18-5540-4a1a-b452-84ca937fb1de",
    "deepnote_cell_type": "text-cell-h2"
   }
  },
  {
   "cell_type": "code",
   "metadata": {
    "tags": [],
    "cell_id": "00005-c7f02b29-7109-4de6-b3ba-da169e6d1360",
    "deepnote_to_be_reexecuted": false,
    "source_hash": "9ec80db",
    "execution_start": 1632168442851,
    "execution_millis": 1,
    "deepnote_cell_type": "code"
   },
   "source": "def replace_inf_with_null(df: pd.DataFrame):\n    df = df.replace(np.inf, np.nan)\n    df = df.replace(-np.inf, np.nan)\n    return df",
   "execution_count": null,
   "outputs": []
  },
  {
   "cell_type": "markdown",
   "source": "## Check object columns",
   "metadata": {
    "tags": [],
    "is_collapsed": false,
    "cell_id": "00010-29a365e7-5c92-4990-98bb-91fddc8aeb5c",
    "deepnote_cell_type": "text-cell-h2"
   }
  },
  {
   "cell_type": "code",
   "metadata": {
    "tags": [],
    "cell_id": "00010-cec84415-56bb-4cc0-bb9b-d865776aa80b",
    "deepnote_to_be_reexecuted": false,
    "source_hash": "41de6c3b",
    "execution_start": 1632168442856,
    "execution_millis": 1,
    "deepnote_cell_type": "code"
   },
   "source": "def drop_unused_columns(\n    df,\n    unused_columns:Optional[List[str]]=None\n) -> pd.DataFrame:\n    if not unused_columns:\n        unused_columns = [\n            'MOFname',\n            'functional_groups',\n            'topology',\n            'cif_filepath',\n            '_audit_creation_date',\n            '_symmetry_space_group_name_H-M',\n            '_space_group_crystal_system'\n        ]\n    for col in unused_columns:\n        try:\n            df.drop(col, axis=1, inplace=True)\n        except KeyError:\n            pass\n    return df",
   "execution_count": null,
   "outputs": []
  },
  {
   "cell_type": "code",
   "metadata": {
    "tags": [],
    "cell_id": "00003-b680f160-8a6e-47e7-9416-cb694f8a4c03",
    "deepnote_to_be_reexecuted": false,
    "source_hash": "44bf4ec6",
    "execution_start": 1632168442862,
    "execution_millis": 0,
    "deepnote_cell_type": "code"
   },
   "source": "def set_imputer(X: pd.DataFrame) -> KNNImputer:\n    imputer = KNNImputer(n_neighbors=5)\n    imputer.fit(X)\n    return imputer\n\ndef impute_value(X: pd.DataFrame, imputer: KNNImputer):\n    return imputer.transform(X)",
   "execution_count": null,
   "outputs": []
  },
  {
   "cell_type": "code",
   "metadata": {
    "tags": [],
    "cell_id": "00014-dcce600b-06df-4bba-9e82-e03549d66556",
    "deepnote_to_be_reexecuted": false,
    "source_hash": "33985778",
    "execution_start": 1632168442903,
    "execution_millis": 1,
    "deepnote_cell_type": "code"
   },
   "source": "def extract_functional_group(\n    X: pd.DataFrame,\n    fit: bool\n)-> pd.DataFrame:\n    funtional_group_extacted = funtional_group_extractor.transform(X, fit)\n    return pd.concat([X, funtional_group_extractor], axis=1)",
   "execution_count": null,
   "outputs": []
  },
  {
   "cell_type": "markdown",
   "source": "# Run pipeline",
   "metadata": {
    "tags": [],
    "is_collapsed": false,
    "cell_id": "00014-c0355d2c-bfc0-4d3c-9136-1b3d6dcaba2c",
    "deepnote_cell_type": "text-cell-h1"
   }
  },
  {
   "cell_type": "code",
   "metadata": {
    "tags": [],
    "cell_id": "00015-122c9c1b-4e5c-421f-abbe-7ec5258d5040",
    "deepnote_to_be_reexecuted": false,
    "source_hash": "9a30df3b",
    "execution_start": 1632168442904,
    "execution_millis": 76526,
    "deepnote_cell_type": "code"
   },
   "source": "Train = drop_surface_area_equal_minus_1(Train)\nTrain = replace_surface_area_equal_0_with_null(Train)\nTrain = replace_inf_with_null(Train)\nTrain = drop_unused_columns(Train)\nX = Train.drop(TARGET, axis=1)\ny = Train[[TARGET]]\n\ntemp_columns = X.columns\ntemp_index = X.index\n\nimputer = set_imputer(X)\nX = impute_value(X, imputer)\n\nX = pd.DataFrame(X)\nX.columns = temp_columns\nX.index = temp_index\n\n# X = pd.concat([X, element_gram], axis=1)",
   "execution_count": null,
   "outputs": []
  },
  {
   "cell_type": "code",
   "metadata": {
    "tags": [],
    "cell_id": "00014-610542a4-38c6-480a-8f31-bf5e0c417b82",
    "deepnote_to_be_reexecuted": false,
    "source_hash": "c7dfa4b5",
    "execution_start": 1632168519431,
    "execution_millis": 2405,
    "deepnote_cell_type": "code"
   },
   "source": "Pretest = replace_surface_area_equal_0_with_null(Pretest)\nPretest = replace_inf_with_null(Pretest)\nPretest = drop_unused_columns(Pretest)\n\n# Pretest_functional_group = Pretest[['functional_groups']]\n# Pretest = Pretest.drop('functional_groups', axis=1)\ntemp_columns = Pretest.columns\ntemp_index = Pretest.index\nPretest = impute_value(Pretest, imputer)\n",
   "execution_count": null,
   "outputs": [
    {
     "output_type": "error",
     "ename": "AttributeError",
     "evalue": "'numpy.ndarray' object has no attribute 'index'",
     "traceback": [
      "\u001b[0;31m---------------------------------------------------------------------------\u001b[0m",
      "\u001b[0;31mAttributeError\u001b[0m                            Traceback (most recent call last)",
      "\u001b[0;32m/tmp/ipykernel_608/1604972714.py\u001b[0m in \u001b[0;36m<module>\u001b[0;34m\u001b[0m\n\u001b[1;32m      8\u001b[0m \u001b[0mtemp_index\u001b[0m \u001b[0;34m=\u001b[0m \u001b[0mPretest\u001b[0m\u001b[0;34m.\u001b[0m\u001b[0mindex\u001b[0m\u001b[0;34m\u001b[0m\u001b[0;34m\u001b[0m\u001b[0m\n\u001b[1;32m      9\u001b[0m \u001b[0mPretest\u001b[0m \u001b[0;34m=\u001b[0m \u001b[0mimpute_value\u001b[0m\u001b[0;34m(\u001b[0m\u001b[0mPretest\u001b[0m\u001b[0;34m,\u001b[0m \u001b[0mimputer\u001b[0m\u001b[0;34m)\u001b[0m\u001b[0;34m\u001b[0m\u001b[0;34m\u001b[0m\u001b[0m\n\u001b[0;32m---> 10\u001b[0;31m \u001b[0mPretest\u001b[0m\u001b[0;34m.\u001b[0m\u001b[0mindex\u001b[0m \u001b[0;34m=\u001b[0m \u001b[0mtemp_index\u001b[0m\u001b[0;34m\u001b[0m\u001b[0;34m\u001b[0m\u001b[0m\n\u001b[0m\u001b[1;32m     11\u001b[0m \u001b[0mPretest\u001b[0m\u001b[0;34m.\u001b[0m\u001b[0mcolumns\u001b[0m \u001b[0;34m=\u001b[0m \u001b[0mtemp_columns\u001b[0m\u001b[0;34m\u001b[0m\u001b[0;34m\u001b[0m\u001b[0m\n",
      "\u001b[0;31mAttributeError\u001b[0m: 'numpy.ndarray' object has no attribute 'index'"
     ]
    }
   ]
  },
  {
   "cell_type": "code",
   "metadata": {
    "tags": [],
    "cell_id": "00018-177f7047-19b1-4fc9-b575-9233a7afb488",
    "deepnote_to_be_reexecuted": false,
    "source_hash": "766c14a5",
    "execution_start": 1632168551316,
    "execution_millis": 1,
    "deepnote_cell_type": "code"
   },
   "source": "Pretest = pd.DataFrame(Pretest)\nPretest.index = temp_index\nPretest.columns = temp_columns",
   "execution_count": null,
   "outputs": []
  },
  {
   "cell_type": "code",
   "metadata": {
    "tags": [],
    "cell_id": "00018-180e5395-ec1b-4e92-987e-83d31fa4b84f",
    "deepnote_to_be_reexecuted": false,
    "source_hash": "facd0ca0",
    "execution_start": 1632168553389,
    "execution_millis": 83,
    "deepnote_cell_type": "code"
   },
   "source": "X ",
   "execution_count": null,
   "outputs": [
    {
     "output_type": "execute_result",
     "execution_count": 12,
     "data": {
      "application/vnd.deepnote.dataframe.v2+json": {
       "row_count": 68557,
       "column_count": 26,
       "columns": [
        {
         "name": "volume [A^3]",
         "dtype": "float64",
         "stats": {
          "unique_count": 68551,
          "nan_count": 0,
          "min": "606.576038",
          "max": "223964.854408",
          "histogram": [
           {
            "bin_start": 606.576038,
            "bin_end": 22942.403875,
            "count": 67629
           },
           {
            "bin_start": 22942.403875,
            "bin_end": 45278.231712,
            "count": 823
           },
           {
            "bin_start": 45278.231712,
            "bin_end": 67614.059549,
            "count": 80
           },
           {
            "bin_start": 67614.059549,
            "bin_end": 89949.887386,
            "count": 18
           },
           {
            "bin_start": 89949.887386,
            "bin_end": 112285.715223,
            "count": 3
           },
           {
            "bin_start": 112285.715223,
            "bin_end": 134621.54306,
            "count": 3
           },
           {
            "bin_start": 134621.54306,
            "bin_end": 156957.37089700002,
            "count": 0
           },
           {
            "bin_start": 156957.37089700002,
            "bin_end": 179293.198734,
            "count": 0
           },
           {
            "bin_start": 179293.198734,
            "bin_end": 201629.026571,
            "count": 0
           },
           {
            "bin_start": 201629.026571,
            "bin_end": 223964.854408,
            "count": 1
           }
          ]
         }
        },
        {
         "name": "weight [u]",
         "dtype": "float64"
        },
        {
         "name": "surface_area [m^2/g]",
         "dtype": "float64"
        },
        {
         "name": "void_fraction",
         "dtype": "float64"
        },
        {
         "name": "void_volume [cm^3/g]",
         "dtype": "float64"
        },
        {
         "name": "metal_linker",
         "dtype": "float64"
        },
        {
         "name": "organic_linker1",
         "dtype": "float64"
        },
        {
         "name": "organic_linker2",
         "dtype": "float64"
        },
        {
         "name": "CO2/N2_selectivity",
         "dtype": "float64"
        },
        {
         "name": "heat_adsorption_CO2_P0.15bar_T298K [kcal/mol]",
         "dtype": "float64"
        },
        {
         "name": "_symmetry_Int_Tables_number",
         "dtype": "float64"
        },
        {
         "name": "_cell_length_a",
         "dtype": "float64"
        },
        {
         "name": "_cell_length_b",
         "dtype": "float64"
        },
        {
         "name": "_cell_length_c",
         "dtype": "float64"
        },
        {
         "name": "_cell_angle_alpha",
         "dtype": "float64"
        },
        {
         "name": "_cell_angle_beta",
         "dtype": "float64"
        },
        {
         "name": "_cell_angle_gamma",
         "dtype": "float64"
        },
        {
         "name": "_cell_volume",
         "dtype": "float64"
        },
        {
         "name": "partial_charge_mean",
         "dtype": "float64"
        },
        {
         "name": "partial_charge_median",
         "dtype": "float64"
        },
        {
         "name": "partial_charge_std",
         "dtype": "float64"
        },
        {
         "name": "bond_type_countS",
         "dtype": "float64"
        },
        {
         "name": "bond_type_countA",
         "dtype": "float64"
        },
        {
         "name": "bond_type_countD",
         "dtype": "float64"
        },
        {
         "name": "bond_type_countT",
         "dtype": "float64"
        },
        {
         "name": "bond_type_countAm",
         "dtype": "float64"
        },
        {
         "name": "_deepnote_index_column",
         "dtype": "int64"
        }
       ],
       "rows_top": [
        {
         "volume [A^3]": 1116.667429,
         "weight [u]": 875.2405999999999,
         "surface_area [m^2/g]": 941.7639999999999,
         "void_fraction": 0.07899,
         "void_volume [cm^3/g]": 0.0606999999999999,
         "metal_linker": 3,
         "organic_linker1": 4,
         "organic_linker2": 11,
         "CO2/N2_selectivity": 22.86416611,
         "heat_adsorption_CO2_P0.15bar_T298K [kcal/mol]": 6.786041,
         "_symmetry_Int_Tables_number": 1,
         "_cell_length_a": 10.609882,
         "_cell_length_b": 10.643578,
         "_cell_length_c": 9.890832,
         "_cell_angle_alpha": 89.904234,
         "_cell_angle_beta": 91.242355,
         "_cell_angle_gamma": 90.261935,
         "_cell_volume": 1116.66742888,
         "partial_charge_mean": -1.3333333328535701e-8,
         "partial_charge_median": 0.024709,
         "partial_charge_std": 0.5610434476172528,
         "bond_type_countS": 56,
         "bond_type_countA": 20,
         "bond_type_countD": 8,
         "bond_type_countT": 0,
         "bond_type_countAm": 0,
         "_deepnote_index_column": 1
        },
        {
         "volume [A^3]": 2769.503842,
         "weight [u]": 2211.697211,
         "surface_area [m^2/g]": 603.61,
         "void_fraction": 0.13794,
         "void_volume [cm^3/g]": 0.104,
         "metal_linker": 10,
         "organic_linker1": 44,
         "organic_linker2": 57,
         "CO2/N2_selectivity": 33.61678033,
         "heat_adsorption_CO2_P0.15bar_T298K [kcal/mol]": 7.147286,
         "_symmetry_Int_Tables_number": 1,
         "_cell_length_a": 8.463295,
         "_cell_length_b": 17.684225,
         "_cell_length_c": 18.960098,
         "_cell_angle_alpha": 100.063446,
         "_cell_angle_beta": 91.815775,
         "_cell_angle_gamma": 96.94221,
         "_cell_volume": 2769.50384235,
         "partial_charge_mean": 5.1546391713999975e-9,
         "partial_charge_median": 0.059489,
         "partial_charge_std": 0.4760056047614398,
         "bond_type_countS": 162,
         "bond_type_countA": 50,
         "bond_type_countD": 8,
         "bond_type_countT": 1,
         "bond_type_countAm": 0,
         "_deepnote_index_column": 2
        },
        {
         "volume [A^3]": 1089.818728,
         "weight [u]": 773.68796,
         "surface_area [m^2/g]": 788.5,
         "void_fraction": 0.14874,
         "void_volume [cm^3/g]": 0.1262,
         "metal_linker": 2,
         "organic_linker1": 22,
         "organic_linker2": 24,
         "CO2/N2_selectivity": 19.26372569,
         "heat_adsorption_CO2_P0.15bar_T298K [kcal/mol]": 6.347967,
         "_symmetry_Int_Tables_number": 1,
         "_cell_length_a": 10.73211,
         "_cell_length_b": 9.552271,
         "_cell_length_c": 10.631996,
         "_cell_angle_alpha": 89.202223,
         "_cell_angle_beta": 89.943258,
         "_cell_angle_gamma": 90.387501,
         "_cell_volume": 1089.81872751,
         "partial_charge_mean": -3.658536584726396e-8,
         "partial_charge_median": 0.126583,
         "partial_charge_std": 0.4131608197807939,
         "bond_type_countS": 87,
         "bond_type_countA": 8,
         "bond_type_countD": 2,
         "bond_type_countT": 0,
         "bond_type_countAm": 0,
         "_deepnote_index_column": 3
        },
        {
         "volume [A^3]": 2205.1983010000004,
         "weight [u]": 1304.63872,
         "surface_area [m^2/g]": 1441.53,
         "void_fraction": 0.21814,
         "void_volume [cm^3/g]": 0.222,
         "metal_linker": 9,
         "organic_linker1": 17,
         "organic_linker2": 24,
         "CO2/N2_selectivity": 25.70137692,
         "heat_adsorption_CO2_P0.15bar_T298K [kcal/mol]": 6.190085,
         "_symmetry_Int_Tables_number": 1,
         "_cell_length_a": 6.93553,
         "_cell_length_b": 17.504896,
         "_cell_length_c": 19.27498,
         "_cell_angle_alpha": 109.537419,
         "_cell_angle_beta": 90.23458,
         "_cell_angle_gamma": 90.532988,
         "_cell_volume": 2205.19830122,
         "partial_charge_mean": 4.4642857147114696e-8,
         "partial_charge_median": -0.016101,
         "partial_charge_std": 0.4140753798615094,
         "bond_type_countS": 86,
         "bond_type_countA": 54,
         "bond_type_countD": 2,
         "bond_type_countT": 0,
         "bond_type_countAm": 0,
         "_deepnote_index_column": 4
        },
        {
         "volume [A^3]": 1137.800963,
         "weight [u]": 901.73612,
         "surface_area [m^2/g]": 655.396,
         "void_fraction": 0.07778,
         "void_volume [cm^3/g]": 0.0591,
         "metal_linker": 2,
         "organic_linker1": 1,
         "organic_linker2": 22,
         "CO2/N2_selectivity": 30.00183795,
         "heat_adsorption_CO2_P0.15bar_T298K [kcal/mol]": 6.478063,
         "_symmetry_Int_Tables_number": 1,
         "_cell_length_a": 10.825925,
         "_cell_length_b": 9.699886,
         "_cell_length_c": 10.853274,
         "_cell_angle_alpha": 89.694657,
         "_cell_angle_beta": 92.990983,
         "_cell_angle_gamma": 91.404649,
         "_cell_volume": 1137.80096321,
         "partial_charge_mean": -3.1914893628568804e-8,
         "partial_charge_median": 0.1432804999999999,
         "partial_charge_std": 0.4027619185869745,
         "bond_type_countS": 84,
         "bond_type_countA": 20,
         "bond_type_countD": 0,
         "bond_type_countT": 0,
         "bond_type_countAm": 0,
         "_deepnote_index_column": 5
        },
        {
         "volume [A^3]": 3954.659761,
         "weight [u]": 1543.02768,
         "surface_area [m^2/g]": 2430.55,
         "void_fraction": 0.3709399999999999,
         "void_volume [cm^3/g]": 0.5725,
         "metal_linker": 9,
         "organic_linker1": 7,
         "organic_linker2": 23,
         "CO2/N2_selectivity": 17.14654102,
         "heat_adsorption_CO2_P0.15bar_T298K [kcal/mol]": 5.398304,
         "_symmetry_Int_Tables_number": 1,
         "_cell_length_a": 24.949291,
         "_cell_length_b": 7.054011,
         "_cell_length_c": 22.606019,
         "_cell_angle_alpha": 90.036873,
         "_cell_angle_beta": 96.274104,
         "_cell_angle_gamma": 89.946334,
         "_cell_volume": 3954.65976066,
         "partial_charge_mean": -1.8292682925324393e-8,
         "partial_charge_median": 0.1095015,
         "partial_charge_std": 0.4240723568689473,
         "bond_type_countS": 132,
         "bond_type_countA": 44,
         "bond_type_countD": 0,
         "bond_type_countT": 6,
         "bond_type_countAm": 0,
         "_deepnote_index_column": 6
        },
        {
         "volume [A^3]": 3565.914939,
         "weight [u]": 1954.749656,
         "surface_area [m^2/g]": 1530.02,
         "void_fraction": 0.33337,
         "void_volume [cm^3/g]": 0.3662,
         "metal_linker": 10,
         "organic_linker1": 53,
         "organic_linker2": 55,
         "CO2/N2_selectivity": 18.36379134,
         "heat_adsorption_CO2_P0.15bar_T298K [kcal/mol]": 6.303857,
         "_symmetry_Int_Tables_number": 1,
         "_cell_length_a": 8.2867,
         "_cell_length_b": 19.200319,
         "_cell_length_c": 22.787351,
         "_cell_angle_alpha": 100.16818,
         "_cell_angle_beta": 89.967715,
         "_cell_angle_gamma": 92.22909,
         "_cell_volume": 3565.91493915,
         "partial_charge_mean": 2.1978021976213922e-8,
         "partial_charge_median": 0.0265695,
         "partial_charge_std": 0.3855933415715126,
         "bond_type_countS": 141,
         "bond_type_countA": 49,
         "bond_type_countD": 15,
         "bond_type_countT": 0,
         "bond_type_countAm": 4,
         "_deepnote_index_column": 7
        },
        {
         "volume [A^3]": 916.043907,
         "weight [u]": 639.11156,
         "surface_area [m^2/g]": 1685.58,
         "void_fraction": 0.28458,
         "void_volume [cm^3/g]": 0.2456,
         "metal_linker": 2,
         "organic_linker1": 5,
         "organic_linker2": 13,
         "CO2/N2_selectivity": 12.68480443,
         "heat_adsorption_CO2_P0.15bar_T298K [kcal/mol]": 5.234732,
         "_symmetry_Int_Tables_number": 1,
         "_cell_length_a": 12.999835,
         "_cell_length_b": 9.096507,
         "_cell_length_c": 7.790769,
         "_cell_angle_alpha": 90.003048,
         "_cell_angle_beta": 96.113006,
         "_cell_angle_gamma": 89.99935,
         "_cell_volume": 916.043907495,
         "partial_charge_mean": -2.9411764708360793e-8,
         "partial_charge_median": -0.1189905,
         "partial_charge_std": 0.503039800962373,
         "bond_type_countS": 21,
         "bond_type_countA": 19,
         "bond_type_countD": 0,
         "bond_type_countT": 2,
         "bond_type_countAm": 0,
         "_deepnote_index_column": 8
        },
        {
         "volume [A^3]": 2228.882339,
         "weight [u]": 1422.69182,
         "surface_area [m^2/g]": 1458.02,
         "void_fraction": 0.2427699999999999,
         "void_volume [cm^3/g]": 0.2291,
         "metal_linker": 4,
         "organic_linker1": 14,
         "organic_linker2": 19,
         "CO2/N2_selectivity": 37.04042435,
         "heat_adsorption_CO2_P0.15bar_T298K [kcal/mol]": 6.298964,
         "_symmetry_Int_Tables_number": 1,
         "_cell_length_a": 11.514733,
         "_cell_length_b": 11.613772,
         "_cell_length_c": 19.363484,
         "_cell_angle_alpha": 90.584232,
         "_cell_angle_beta": 89.362927,
         "_cell_angle_gamma": 59.423201,
         "_cell_volume": 2228.88233917,
         "partial_charge_mean": 1.047380211910525e-18,
         "partial_charge_median": -0.0044885,
         "partial_charge_std": 0.4011674951651435,
         "bond_type_countS": 64,
         "bond_type_countA": 57,
         "bond_type_countD": 1,
         "bond_type_countT": 6,
         "bond_type_countAm": 0,
         "_deepnote_index_column": 9
        },
        {
         "volume [A^3]": 4275.421420000001,
         "weight [u]": 1606.196,
         "surface_area [m^2/g]": 3276.11,
         "void_fraction": 0.4100399999999999,
         "void_volume [cm^3/g]": 0.6573,
         "metal_linker": 3,
         "organic_linker1": 13,
         "organic_linker2": 29,
         "CO2/N2_selectivity": 10.9992991,
         "heat_adsorption_CO2_P0.15bar_T298K [kcal/mol]": 5.539327,
         "_symmetry_Int_Tables_number": 1,
         "_cell_length_a": 12.041039,
         "_cell_length_b": 13.008236,
         "_cell_length_c": 27.438486,
         "_cell_angle_alpha": 91.181769,
         "_cell_angle_beta": 84.870254,
         "_cell_angle_gamma": 92.639099,
         "_cell_volume": 4275.42142025,
         "partial_charge_mean": 5.555555558799262e-9,
         "partial_charge_median": 0.1720324999999999,
         "partial_charge_std": 0.406246681793211,
         "bond_type_countS": 124,
         "bond_type_countA": 74,
         "bond_type_countD": 0,
         "bond_type_countT": 0,
         "bond_type_countAm": 0,
         "_deepnote_index_column": 10
        },
        {
         "volume [A^3]": 1607.935338,
         "weight [u]": 1110.38712,
         "surface_area [m^2/g]": 1098.36,
         "void_fraction": 0.18787,
         "void_volume [cm^3/g]": 0.1638,
         "metal_linker": 9,
         "organic_linker1": 1,
         "organic_linker2": 24,
         "CO2/N2_selectivity": 24.25902464,
         "heat_adsorption_CO2_P0.15bar_T298K [kcal/mol]": 5.926444,
         "_symmetry_Int_Tables_number": 1,
         "_cell_length_a": 6.931148,
         "_cell_length_b": 14.529443,
         "_cell_length_c": 15.967346,
         "_cell_angle_alpha": 90.477043,
         "_cell_angle_beta": 90.128514,
         "_cell_angle_gamma": 89.818714,
         "_cell_volume": 1607.93533824,
         "partial_charge_mean": -2.3809523812851852e-8,
         "partial_charge_median": -0.1228635,
         "partial_charge_std": 0.4955860401192899,
         "bond_type_countS": 66,
         "bond_type_countA": 34,
         "bond_type_countD": 4,
         "bond_type_countT": 0,
         "bond_type_countAm": 0,
         "_deepnote_index_column": 11
        },
        {
         "volume [A^3]": 1175.47586,
         "weight [u]": 1397.05128,
         "surface_area [m^2/g]": 315.17999999999995,
         "void_fraction": 0.05704,
         "void_volume [cm^3/g]": 0.0288999999999999,
         "metal_linker": 2,
         "organic_linker1": 22,
         "organic_linker2": 24,
         "CO2/N2_selectivity": 58.10697445,
         "heat_adsorption_CO2_P0.15bar_T298K [kcal/mol]": 7.4078979999999985,
         "_symmetry_Int_Tables_number": 1,
         "_cell_length_a": 10.998061,
         "_cell_length_b": 9.934987,
         "_cell_length_c": 10.760373,
         "_cell_angle_alpha": 90.750251,
         "_cell_angle_beta": 89.160226,
         "_cell_angle_gamma": 90.456866,
         "_cell_volume": 1175.47586031,
         "partial_charge_mean": -1.0204081632946486e-8,
         "partial_charge_median": 0.16651,
         "partial_charge_std": 0.426519523793137,
         "bond_type_countS": 105,
         "bond_type_countA": 8,
         "bond_type_countD": 0,
         "bond_type_countT": 0,
         "bond_type_countAm": 0,
         "_deepnote_index_column": 12
        },
        {
         "volume [A^3]": 1650.879383,
         "weight [u]": 796.6896799999998,
         "surface_area [m^2/g]": 2117.01,
         "void_fraction": 0.3040499999999999,
         "void_volume [cm^3/g]": 0.3794,
         "metal_linker": 2,
         "organic_linker1": 4,
         "organic_linker2": 6,
         "CO2/N2_selectivity": 12.99674112,
         "heat_adsorption_CO2_P0.15bar_T298K [kcal/mol]": 4.936655,
         "_symmetry_Int_Tables_number": 1,
         "_cell_length_a": 15.969446,
         "_cell_length_b": 10.823247,
         "_cell_length_c": 9.551803,
         "_cell_angle_alpha": 90.396255,
         "_cell_angle_beta": 90.318456,
         "_cell_angle_gamma": 90.0693,
         "_cell_volume": 1650.87938311,
         "partial_charge_mean": 3.8461538468693746e-8,
         "partial_charge_median": 0.107489,
         "partial_charge_std": 0.391608673273606,
         "bond_type_countS": 59,
         "bond_type_countA": 28,
         "bond_type_countD": 0,
         "bond_type_countT": 2,
         "bond_type_countAm": 0,
         "_deepnote_index_column": 13
        },
        {
         "volume [A^3]": 1071.619874,
         "weight [u]": 701.6286,
         "surface_area [m^2/g]": 972.758,
         "void_fraction": 0.10455,
         "void_volume [cm^3/g]": 0.0961999999999999,
         "metal_linker": 2,
         "organic_linker1": 12,
         "organic_linker2": 22,
         "CO2/N2_selectivity": 31.66445559,
         "heat_adsorption_CO2_P0.15bar_T298K [kcal/mol]": 7.427183,
         "_symmetry_Int_Tables_number": 1,
         "_cell_length_a": 10.772046,
         "_cell_length_b": 10.925408,
         "_cell_length_c": 9.856399,
         "_cell_angle_alpha": 110.039694,
         "_cell_angle_beta": 98.693134,
         "_cell_angle_gamma": 92.461125,
         "_cell_volume": 1071.61987428,
         "partial_charge_mean": 1.3698630125213389e-8,
         "partial_charge_median": 0.131152,
         "partial_charge_std": 0.4244261743381951,
         "bond_type_countS": 67,
         "bond_type_countA": 8,
         "bond_type_countD": 4,
         "bond_type_countT": 2,
         "bond_type_countAm": 0,
         "_deepnote_index_column": 14
        },
        {
         "volume [A^3]": 1769.973982,
         "weight [u]": 945.403413,
         "surface_area [m^2/g]": 1870.11,
         "void_fraction": 0.27705,
         "void_volume [cm^3/g]": 0.3124,
         "metal_linker": 3,
         "organic_linker1": 4,
         "organic_linker2": 26,
         "CO2/N2_selectivity": 17.01166312,
         "heat_adsorption_CO2_P0.15bar_T298K [kcal/mol]": 5.139598,
         "_symmetry_Int_Tables_number": 1,
         "_cell_length_a": 9.858469,
         "_cell_length_b": 10.672478,
         "_cell_length_c": 16.8966,
         "_cell_angle_alpha": 90.35894,
         "_cell_angle_beta": 84.651637,
         "_cell_angle_gamma": 90.271403,
         "_cell_volume": 1769.97398201,
         "partial_charge_mean": 6.666666667351804e-8,
         "partial_charge_median": 0.0888055,
         "partial_charge_std": 0.4372266907410032,
         "bond_type_countS": 68,
         "bond_type_countA": 32,
         "bond_type_countD": 1,
         "bond_type_countT": 0,
         "bond_type_countAm": 0,
         "_deepnote_index_column": 15
        },
        {
         "volume [A^3]": 4282.561071,
         "weight [u]": 2478.166816,
         "surface_area [m^2/g]": 1294.48,
         "void_fraction": 0.2860699999999999,
         "void_volume [cm^3/g]": 0.2977,
         "metal_linker": 10,
         "organic_linker1": 52,
         "organic_linker2": 54,
         "CO2/N2_selectivity": 19.28955582,
         "heat_adsorption_CO2_P0.15bar_T298K [kcal/mol]": 5.867149,
         "_symmetry_Int_Tables_number": 1,
         "_cell_length_a": 8.442812,
         "_cell_length_b": 19.084105,
         "_cell_length_c": 26.973845,
         "_cell_angle_alpha": 98.789894,
         "_cell_angle_beta": 92.030824,
         "_cell_angle_gamma": 85.860956,
         "_cell_volume": 4282.56107073,
         "partial_charge_mean": -8.130081294728451e-9,
         "partial_charge_median": 0.0959935,
         "partial_charge_std": 0.3525121439353116,
         "bond_type_countS": 209,
         "bond_type_countA": 40,
         "bond_type_countD": 21,
         "bond_type_countT": 0,
         "bond_type_countAm": 4,
         "_deepnote_index_column": 16
        },
        {
         "volume [A^3]": 7840.492345,
         "weight [u]": 4627.98816,
         "surface_area [m^2/g]": 1664.62,
         "void_fraction": 0.2688499999999999,
         "void_volume [cm^3/g]": 0.2742999999999999,
         "metal_linker": 2,
         "organic_linker1": 38,
         "organic_linker2": 41,
         "CO2/N2_selectivity": 15.894512699999998,
         "heat_adsorption_CO2_P0.15bar_T298K [kcal/mol]": 5.390903,
         "_symmetry_Int_Tables_number": 1,
         "_cell_length_a": 28.020872,
         "_cell_length_b": 18.702283,
         "_cell_length_c": 16.886505,
         "_cell_angle_alpha": 89.999652,
         "_cell_angle_beta": 62.373213,
         "_cell_angle_gamma": 89.999634,
         "_cell_volume": 7840.49234455,
         "partial_charge_mean": 1.4367816076096672e-8,
         "partial_charge_median": 0.033583,
         "partial_charge_std": 0.4477755005083492,
         "bond_type_countS": 218,
         "bond_type_countA": 196,
         "bond_type_countD": 0,
         "bond_type_countT": 0,
         "bond_type_countAm": 0,
         "_deepnote_index_column": 17
        },
        {
         "volume [A^3]": 2252.940492,
         "weight [u]": 1583.399493,
         "surface_area [m^2/g]": 851.0399999999998,
         "void_fraction": 0.15162,
         "void_volume [cm^3/g]": 0.1298999999999999,
         "metal_linker": 2,
         "organic_linker1": 14,
         "organic_linker2": 14,
         "CO2/N2_selectivity": 35.34220222,
         "heat_adsorption_CO2_P0.15bar_T298K [kcal/mol]": 7.488088999999999,
         "_symmetry_Int_Tables_number": 1,
         "_cell_length_a": 14.540453,
         "_cell_length_b": 16.096069,
         "_cell_length_c": 9.635963,
         "_cell_angle_alpha": 89.929347,
         "_cell_angle_beta": 87.413037,
         "_cell_angle_gamma": 90.005439,
         "_cell_volume": 2252.94049165,
         "partial_charge_mean": -3.2467532460535936e-8,
         "partial_charge_median": 0.128746,
         "partial_charge_std": 0.4264490477732899,
         "bond_type_countS": 96,
         "bond_type_countA": 82,
         "bond_type_countD": 0,
         "bond_type_countT": 0,
         "bond_type_countAm": 0,
         "_deepnote_index_column": 18
        },
        {
         "volume [A^3]": 2334.528642,
         "weight [u]": 937.8558,
         "surface_area [m^2/g]": 2773.01,
         "void_fraction": 0.41436,
         "void_volume [cm^3/g]": 0.6210999999999999,
         "metal_linker": 2,
         "organic_linker1": 8,
         "organic_linker2": 10,
         "CO2/N2_selectivity": 11.94115719,
         "heat_adsorption_CO2_P0.15bar_T298K [kcal/mol]": 5.547678,
         "_symmetry_Int_Tables_number": 1,
         "_cell_length_a": 8.71752,
         "_cell_length_b": 15.804104,
         "_cell_length_c": 17.113382,
         "_cell_angle_alpha": 95.94816,
         "_cell_angle_beta": 90.268997,
         "_cell_angle_gamma": 84.575672,
         "_cell_volume": 2334.52864205,
         "partial_charge_mean": -2.2727272731711115e-8,
         "partial_charge_median": 0.0477304999999999,
         "partial_charge_std": 0.3110455568295195,
         "bond_type_countS": 59,
         "bond_type_countA": 32,
         "bond_type_countD": 7,
         "bond_type_countT": 0,
         "bond_type_countAm": 0,
         "_deepnote_index_column": 19
        }
       ],
       "rows_bottom": [
        {
         "volume [A^3]": 1652.258112,
         "weight [u]": 1766.5988,
         "surface_area [m^2/g]": 449.90999999999997,
         "void_fraction": 0,
         "void_volume [cm^3/g]": 0,
         "metal_linker": 9,
         "organic_linker1": 2,
         "organic_linker2": 22,
         "CO2/N2_selectivity": 0,
         "heat_adsorption_CO2_P0.15bar_T298K [kcal/mol]": 7.589163000000001,
         "_symmetry_Int_Tables_number": 1,
         "_cell_length_a": 6.962528,
         "_cell_length_b": 14.359726,
         "_cell_length_c": 16.528622,
         "_cell_angle_alpha": 90.035697,
         "_cell_angle_beta": 89.873508,
         "_cell_angle_gamma": 88.966117,
         "_cell_volume": 1652.25811153,
         "partial_charge_mean": -6.944444445415125e-9,
         "partial_charge_median": -0.041425,
         "partial_charge_std": 0.4966150878954681,
         "bond_type_countS": 98,
         "bond_type_countA": 68,
         "bond_type_countD": 0,
         "bond_type_countT": 0,
         "bond_type_countAm": 0,
         "_deepnote_index_column": 68595
        },
        {
         "volume [A^3]": 3760.489888,
         "weight [u]": 3343.200672,
         "surface_area [m^2/g]": 319.958,
         "void_fraction": 0.0122099999999999,
         "void_volume [cm^3/g]": 0,
         "metal_linker": 10,
         "organic_linker1": 42,
         "organic_linker2": 42,
         "CO2/N2_selectivity": 0.2271604939999999,
         "heat_adsorption_CO2_P0.15bar_T298K [kcal/mol]": 7.5319004000000005,
         "_symmetry_Int_Tables_number": 1,
         "_cell_length_a": 20.106341,
         "_cell_length_b": 22.433377,
         "_cell_length_c": 8.641388,
         "_cell_angle_alpha": 89.712457,
         "_cell_angle_beta": 105.246472,
         "_cell_angle_gamma": 90.1271,
         "_cell_volume": 3760.48988793,
         "partial_charge_mean": 5.35047240783208e-18,
         "partial_charge_median": 0.0657335,
         "partial_charge_std": 0.3890197683809741,
         "bond_type_countS": 306,
         "bond_type_countA": 48,
         "bond_type_countD": 16,
         "bond_type_countT": 0,
         "bond_type_countAm": 0,
         "_deepnote_index_column": 68596
        },
        {
         "volume [A^3]": 3320.078141,
         "weight [u]": 3090.5876,
         "surface_area [m^2/g]": 691.918,
         "void_fraction": 0,
         "void_volume [cm^3/g]": 0,
         "metal_linker": 9,
         "organic_linker1": 18,
         "organic_linker2": 29,
         "CO2/N2_selectivity": 0,
         "heat_adsorption_CO2_P0.15bar_T298K [kcal/mol]": 6.7914384,
         "_symmetry_Int_Tables_number": 1,
         "_cell_length_a": 7.353381,
         "_cell_length_b": 12.691091,
         "_cell_length_c": 35.577119,
         "_cell_angle_alpha": 90.267961,
         "_cell_angle_beta": 90.178711,
         "_cell_angle_gamma": 89.841909,
         "_cell_volume": 3320.07814053,
         "partial_charge_mean": -1.1235955065234965e-8,
         "partial_charge_median": 0.1125475,
         "partial_charge_std": 0.3850477340687846,
         "bond_type_countS": 248,
         "bond_type_countA": 146,
         "bond_type_countD": 0,
         "bond_type_countT": 0,
         "bond_type_countAm": 0,
         "_deepnote_index_column": 68597
        },
        {
         "volume [A^3]": 1621.161289,
         "weight [u]": 1292.77096,
         "surface_area [m^2/g]": 393.266,
         "void_fraction": 0,
         "void_volume [cm^3/g]": 0,
         "metal_linker": 9,
         "organic_linker1": 12,
         "organic_linker2": 12,
         "CO2/N2_selectivity": 4082.551111,
         "heat_adsorption_CO2_P0.15bar_T298K [kcal/mol]": 9.185216200000001,
         "_symmetry_Int_Tables_number": 1,
         "_cell_length_a": 6.904548,
         "_cell_length_b": 14.262454,
         "_cell_length_c": 16.46276,
         "_cell_angle_alpha": 90.040576,
         "_cell_angle_beta": 89.713152,
         "_cell_angle_gamma": 90.076031,
         "_cell_volume": 1621.16128894,
         "partial_charge_mean": -2.77777777816605e-8,
         "partial_charge_median": 0.1346745,
         "partial_charge_std": 0.4587240811038014,
         "bond_type_countS": 132,
         "bond_type_countA": 16,
         "bond_type_countD": 8,
         "bond_type_countT": 0,
         "bond_type_countAm": 0,
         "_deepnote_index_column": 68598
        },
        {
         "volume [A^3]": 1716.981598,
         "weight [u]": 2211.8456,
         "surface_area [m^2/g]": 368.74399999999997,
         "void_fraction": 0,
         "void_volume [cm^3/g]": 0,
         "metal_linker": 9,
         "organic_linker1": 22,
         "organic_linker2": 22,
         "CO2/N2_selectivity": 0,
         "heat_adsorption_CO2_P0.15bar_T298K [kcal/mol]": 6.8894262,
         "_symmetry_Int_Tables_number": 1,
         "_cell_length_a": 7.264603,
         "_cell_length_b": 14.870818,
         "_cell_length_c": 15.893619,
         "_cell_angle_alpha": 89.999696,
         "_cell_angle_beta": 89.757139,
         "_cell_angle_gamma": 89.999119,
         "_cell_volume": 1716.98159813,
         "partial_charge_mean": -9.00180830777154e-18,
         "partial_charge_median": -0.0963965,
         "partial_charge_std": 0.5359640773203852,
         "bond_type_countS": 136,
         "bond_type_countA": 16,
         "bond_type_countD": 12,
         "bond_type_countT": 0,
         "bond_type_countAm": 0,
         "_deepnote_index_column": 68599
        },
        {
         "volume [A^3]": 1174.62717,
         "weight [u]": 1649.17081,
         "surface_area [m^2/g]": 373.61199999999997,
         "void_fraction": 0,
         "void_volume [cm^3/g]": 0,
         "metal_linker": 2,
         "organic_linker1": 14,
         "organic_linker2": 22,
         "CO2/N2_selectivity": 2276.833333,
         "heat_adsorption_CO2_P0.15bar_T298K [kcal/mol]": 9.471975,
         "_symmetry_Int_Tables_number": 1,
         "_cell_length_a": 11.086717,
         "_cell_length_b": 11.033472,
         "_cell_length_c": 9.696926,
         "_cell_angle_alpha": 89.417259,
         "_cell_angle_beta": 88.139105,
         "_cell_angle_gamma": 97.738502,
         "_cell_volume": 1174.62717024,
         "partial_charge_mean": -3.3333333333675066e-8,
         "partial_charge_median": 0.005145,
         "partial_charge_std": 0.4183622223063925,
         "bond_type_countS": 64,
         "bond_type_countA": 30,
         "bond_type_countD": 8,
         "bond_type_countT": 0,
         "bond_type_countAm": 0,
         "_deepnote_index_column": 68600
        },
        {
         "volume [A^3]": 1132.348176,
         "weight [u]": 903.87744,
         "surface_area [m^2/g]": 509.38800000000003,
         "void_fraction": 0,
         "void_volume [cm^3/g]": 0,
         "metal_linker": 2,
         "organic_linker1": 9,
         "organic_linker2": 12,
         "CO2/N2_selectivity": 546.3466667,
         "heat_adsorption_CO2_P0.15bar_T298K [kcal/mol]": 9.624677199999997,
         "_symmetry_Int_Tables_number": 1,
         "_cell_length_a": 10.837492,
         "_cell_length_b": 10.912739,
         "_cell_length_c": 9.795559,
         "_cell_angle_alpha": 98.7433,
         "_cell_angle_beta": 98.13228,
         "_cell_angle_gamma": 91.307778,
         "_cell_volume": 1132.34817641,
         "partial_charge_mean": -1.041666667506158e-8,
         "partial_charge_median": 0.056246,
         "partial_charge_std": 0.3460808852875381,
         "bond_type_countS": 62,
         "bond_type_countA": 44,
         "bond_type_countD": 2,
         "bond_type_countT": 0,
         "bond_type_countAm": 0,
         "_deepnote_index_column": 68601
        },
        {
         "volume [A^3]": 1131.069889,
         "weight [u]": 895.9516800000001,
         "surface_area [m^2/g]": 448.35200000000003,
         "void_fraction": 0,
         "void_volume [cm^3/g]": 0,
         "metal_linker": 2,
         "organic_linker1": 4,
         "organic_linker2": 22,
         "CO2/N2_selectivity": 454.265353,
         "heat_adsorption_CO2_P0.15bar_T298K [kcal/mol]": 9.2752456,
         "_symmetry_Int_Tables_number": 1,
         "_cell_length_a": 10.878831,
         "_cell_length_b": 10.816211,
         "_cell_length_c": 9.613343,
         "_cell_angle_alpha": 90.598466,
         "_cell_angle_beta": 90.049004,
         "_cell_angle_gamma": 90.528695,
         "_cell_volume": 1131.06988948,
         "partial_charge_mean": -1.8348623845844848e-8,
         "partial_charge_median": 0.166767,
         "partial_charge_std": 0.4032948633138299,
         "bond_type_countS": 101,
         "bond_type_countA": 20,
         "bond_type_countD": 0,
         "bond_type_countT": 0,
         "bond_type_countAm": 0,
         "_deepnote_index_column": 68602
        },
        {
         "volume [A^3]": 1046.560841,
         "weight [u]": 967.52096,
         "surface_area [m^2/g]": 822.0720000000001,
         "void_fraction": 0,
         "void_volume [cm^3/g]": 0,
         "metal_linker": 3,
         "organic_linker1": 10,
         "organic_linker2": 17,
         "CO2/N2_selectivity": 0,
         "heat_adsorption_CO2_P0.15bar_T298K [kcal/mol]": 7.356472599999999,
         "_symmetry_Int_Tables_number": 1,
         "_cell_length_a": 7.965181,
         "_cell_length_b": 8.808488,
         "_cell_length_c": 15.061944,
         "_cell_angle_alpha": 95.353787,
         "_cell_angle_beta": 84.40701,
         "_cell_angle_gamma": 92.417944,
         "_cell_volume": 1046.56084082,
         "partial_charge_mean": 3.700743415417189e-18,
         "partial_charge_median": -0.0020345,
         "partial_charge_std": 0.3300448871014702,
         "bond_type_countS": 46,
         "bond_type_countA": 51,
         "bond_type_countD": 2,
         "bond_type_countT": 4,
         "bond_type_countAm": 0,
         "_deepnote_index_column": 68603
        },
        {
         "volume [A^3]": 699.494867,
         "weight [u]": 653.1773599999999,
         "surface_area [m^2/g]": 591.2160000000001,
         "void_fraction": 0,
         "void_volume [cm^3/g]": 0,
         "metal_linker": 3,
         "organic_linker1": 10,
         "organic_linker2": 24,
         "CO2/N2_selectivity": 15.60473156,
         "heat_adsorption_CO2_P0.15bar_T298K [kcal/mol]": 8.21008,
         "_symmetry_Int_Tables_number": 1,
         "_cell_length_a": 7.873026,
         "_cell_length_b": 8.533343,
         "_cell_length_c": 10.481025,
         "_cell_angle_alpha": 92.102205,
         "_cell_angle_beta": 84.853435,
         "_cell_angle_gamma": 93.720456,
         "_cell_volume": 699.494867233,
         "partial_charge_mean": -4.0000000005036015e-8,
         "partial_charge_median": -0.0082,
         "partial_charge_std": 0.4791579589278241,
         "bond_type_countS": 46,
         "bond_type_countA": 8,
         "bond_type_countD": 6,
         "bond_type_countT": 0,
         "bond_type_countAm": 0,
         "_deepnote_index_column": 68604
        },
        {
         "volume [A^3]": 1508.12951,
         "weight [u]": 1517.382416,
         "surface_area [m^2/g]": 609.7520000000001,
         "void_fraction": 0,
         "void_volume [cm^3/g]": 0,
         "metal_linker": 10,
         "organic_linker1": 46,
         "organic_linker2": 49,
         "CO2/N2_selectivity": 9.974765376,
         "heat_adsorption_CO2_P0.15bar_T298K [kcal/mol]": 8.092445199999998,
         "_symmetry_Int_Tables_number": 1,
         "_cell_length_a": 8.192043,
         "_cell_length_b": 12.637325,
         "_cell_length_c": 15.004478,
         "_cell_angle_alpha": 96.638568,
         "_cell_angle_beta": 97.927285,
         "_cell_angle_gamma": 98.217215,
         "_cell_volume": 1508.12950955,
         "partial_charge_mean": 0,
         "partial_charge_median": 0.042177,
         "partial_charge_std": 0.406339259534194,
         "bond_type_countS": 122,
         "bond_type_countA": 30,
         "bond_type_countD": 8,
         "bond_type_countT": 0,
         "bond_type_countAm": 0,
         "_deepnote_index_column": 68605
        },
        {
         "volume [A^3]": 2112.326167,
         "weight [u]": 1977.49208,
         "surface_area [m^2/g]": 248.996,
         "void_fraction": 0,
         "void_volume [cm^3/g]": 0,
         "metal_linker": 4,
         "organic_linker1": 14,
         "organic_linker2": 14,
         "CO2/N2_selectivity": 3.233981158,
         "heat_adsorption_CO2_P0.15bar_T298K [kcal/mol]": 8.449694200000001,
         "_symmetry_Int_Tables_number": 1,
         "_cell_length_a": 11.334026,
         "_cell_length_b": 11.321874,
         "_cell_length_c": 19.017384,
         "_cell_angle_alpha": 90.070675,
         "_cell_angle_beta": 90.031889,
         "_cell_angle_gamma": 120.050727,
         "_cell_volume": 2112.32616667,
         "partial_charge_mean": -5.000000005139782e-9,
         "partial_charge_median": 0.023913,
         "partial_charge_std": 0.3322730647133844,
         "bond_type_countS": 138,
         "bond_type_countA": 90,
         "bond_type_countD": 0,
         "bond_type_countT": 0,
         "bond_type_countAm": 0,
         "_deepnote_index_column": 68606
        },
        {
         "volume [A^3]": 949.067112,
         "weight [u]": 753.7875199999999,
         "surface_area [m^2/g]": 671.204,
         "void_fraction": 0,
         "void_volume [cm^3/g]": 0,
         "metal_linker": 2,
         "organic_linker1": 10,
         "organic_linker2": 18,
         "CO2/N2_selectivity": 0,
         "heat_adsorption_CO2_P0.15bar_T298K [kcal/mol]": 8.5810752,
         "_symmetry_Int_Tables_number": 1,
         "_cell_length_a": 7.429506,
         "_cell_length_b": 8.672739,
         "_cell_length_c": 15.714521,
         "_cell_angle_alpha": 93.667592,
         "_cell_angle_beta": 74.453642,
         "_cell_angle_gamma": 103.369597,
         "_cell_volume": 949.067112229,
         "partial_charge_mean": -3.488372094027236e-8,
         "partial_charge_median": 0.1403134999999999,
         "partial_charge_std": 0.392726263921519,
         "bond_type_countS": 65,
         "bond_type_countA": 29,
         "bond_type_countD": 2,
         "bond_type_countT": 0,
         "bond_type_countAm": 0,
         "_deepnote_index_column": 68607
        },
        {
         "volume [A^3]": 1202.182553,
         "weight [u]": 1042.53824,
         "surface_area [m^2/g]": 870.1540000000001,
         "void_fraction": 0,
         "void_volume [cm^3/g]": 0,
         "metal_linker": 3,
         "organic_linker1": 12,
         "organic_linker2": 24,
         "CO2/N2_selectivity": 0,
         "heat_adsorption_CO2_P0.15bar_T298K [kcal/mol]": 8.4401136,
         "_symmetry_Int_Tables_number": 1,
         "_cell_length_a": 10.343236,
         "_cell_length_b": 10.536838,
         "_cell_length_c": 11.134846,
         "_cell_angle_alpha": 93.963666,
         "_cell_angle_beta": 93.653348,
         "_cell_angle_gamma": 84.065862,
         "_cell_volume": 1202.18255347,
         "partial_charge_mean": 3.8461538463711974e-8,
         "partial_charge_median": 0.0430665,
         "partial_charge_std": 0.3252140988549201,
         "bond_type_countS": 72,
         "bond_type_countA": 44,
         "bond_type_countD": 4,
         "bond_type_countT": 0,
         "bond_type_countAm": 0,
         "_deepnote_index_column": 68608
        },
        {
         "volume [A^3]": 1188.302573,
         "weight [u]": 1001.700216,
         "surface_area [m^2/g]": 565.646,
         "void_fraction": 0,
         "void_volume [cm^3/g]": 0,
         "metal_linker": 3,
         "organic_linker1": 4,
         "organic_linker2": 24,
         "CO2/N2_selectivity": 24.13177036,
         "heat_adsorption_CO2_P0.15bar_T298K [kcal/mol]": 7.9666314,
         "_symmetry_Int_Tables_number": 1,
         "_cell_length_a": 10.718161,
         "_cell_length_b": 10.88649,
         "_cell_length_c": 10.19387,
         "_cell_angle_alpha": 90.842269,
         "_cell_angle_beta": 92.241073,
         "_cell_angle_gamma": 90.753457,
         "_cell_volume": 1188.3025732,
         "partial_charge_mean": 3.361344537258711e-8,
         "partial_charge_median": 0.20259,
         "partial_charge_std": 0.4412549393790613,
         "bond_type_countS": 113,
         "bond_type_countA": 20,
         "bond_type_countD": 0,
         "bond_type_countT": 0,
         "bond_type_countAm": 0,
         "_deepnote_index_column": 68609
        },
        {
         "volume [A^3]": 1506.6603630000002,
         "weight [u]": 1493.2964960000002,
         "surface_area [m^2/g]": 544.566,
         "void_fraction": 0.01108,
         "void_volume [cm^3/g]": 0,
         "metal_linker": 10,
         "organic_linker1": 42,
         "organic_linker2": 46,
         "CO2/N2_selectivity": 6.071817778,
         "heat_adsorption_CO2_P0.15bar_T298K [kcal/mol]": 8.0677132,
         "_symmetry_Int_Tables_number": 1,
         "_cell_length_a": 8.19262,
         "_cell_length_b": 12.57623,
         "_cell_length_c": 15.033794,
         "_cell_angle_alpha": 95.184751,
         "_cell_angle_beta": 99.147187,
         "_cell_angle_gamma": 97.430499,
         "_cell_volume": 1506.66036263,
         "partial_charge_mean": -5.5555555558695076e-8,
         "partial_charge_median": 0.0286505,
         "partial_charge_std": 0.4266246043234773,
         "bond_type_countS": 113,
         "bond_type_countA": 23,
         "bond_type_countD": 10,
         "bond_type_countT": 0,
         "bond_type_countAm": 0,
         "_deepnote_index_column": 68610
        },
        {
         "volume [A^3]": 2035.532738,
         "weight [u]": 1959.51832,
         "surface_area [m^2/g]": 301.87600000000003,
         "void_fraction": 0,
         "void_volume [cm^3/g]": 0,
         "metal_linker": 4,
         "organic_linker1": 14,
         "organic_linker2": 22,
         "CO2/N2_selectivity": 9.876133998,
         "heat_adsorption_CO2_P0.15bar_T298K [kcal/mol]": 9.995719,
         "_symmetry_Int_Tables_number": 1,
         "_cell_length_a": 11.237482,
         "_cell_length_b": 11.321902,
         "_cell_length_c": 18.60812,
         "_cell_angle_alpha": 90.200546,
         "_cell_angle_beta": 90.118422,
         "_cell_angle_gamma": 59.292454,
         "_cell_volume": 2035.53273793,
         "partial_charge_mean": 2.4509803938056007e-8,
         "partial_charge_median": 0.07563,
         "partial_charge_std": 0.3327188552871074,
         "bond_type_countS": 153,
         "bond_type_countA": 79,
         "bond_type_countD": 0,
         "bond_type_countT": 0,
         "bond_type_countAm": 0,
         "_deepnote_index_column": 68611
        },
        {
         "volume [A^3]": 3985.426053,
         "weight [u]": 3638.67728,
         "surface_area [m^2/g]": 231.302,
         "void_fraction": 0,
         "void_volume [cm^3/g]": 0,
         "metal_linker": 4,
         "organic_linker1": 4,
         "organic_linker2": 15,
         "CO2/N2_selectivity": 5.285050632,
         "heat_adsorption_CO2_P0.15bar_T298K [kcal/mol]": 9.621539600000002,
         "_symmetry_Int_Tables_number": 1,
         "_cell_length_a": 19.396341,
         "_cell_length_b": 11.081428,
         "_cell_length_c": 18.544746,
         "_cell_angle_alpha": 90.467105,
         "_cell_angle_beta": 90.841157,
         "_cell_angle_gamma": 89.911826,
         "_cell_volume": 3985.42605274,
         "partial_charge_mean": -8.241758230710004e-9,
         "partial_charge_median": 0.0299515,
         "partial_charge_std": 0.3417501879897912,
         "bond_type_countS": 282,
         "bond_type_countA": 140,
         "bond_type_countD": 0,
         "bond_type_countT": 0,
         "bond_type_countAm": 0,
         "_deepnote_index_column": 68612
        },
        {
         "volume [A^3]": 1591.009408,
         "weight [u]": 2071.219,
         "surface_area [m^2/g]": 406.18,
         "void_fraction": 0.01609,
         "void_volume [cm^3/g]": 0,
         "metal_linker": 2,
         "organic_linker1": 9,
         "organic_linker2": 16,
         "CO2/N2_selectivity": 2.621271792,
         "heat_adsorption_CO2_P0.15bar_T298K [kcal/mol]": 6.514526999999999,
         "_symmetry_Int_Tables_number": 1,
         "_cell_length_a": 11.049965,
         "_cell_length_b": 12.474541,
         "_cell_length_c": 13.706241,
         "_cell_angle_alpha": 118.491266,
         "_cell_angle_beta": 73.368234,
         "_cell_angle_gamma": 98.090342,
         "_cell_volume": 1591.00940751,
         "partial_charge_mean": 2.5862068966260923e-8,
         "partial_charge_median": 0.1000085,
         "partial_charge_std": 0.3681314840014755,
         "bond_type_countS": 73,
         "bond_type_countA": 58,
         "bond_type_countD": 0,
         "bond_type_countT": 0,
         "bond_type_countAm": 0,
         "_deepnote_index_column": 68613
        }
       ]
      },
      "text/plain": "            volume [A^3]   weight [u]  surface_area [m^2/g]  void_fraction  \\\nUnnamed: 0                                                                   \n1            1116.667429   875.240600               941.764        0.07899   \n2            2769.503842  2211.697211               603.610        0.13794   \n3            1089.818728   773.687960               788.500        0.14874   \n4            2205.198301  1304.638720              1441.530        0.21814   \n5            1137.800963   901.736120               655.396        0.07778   \n...                  ...          ...                   ...            ...   \n68609        1188.302573  1001.700216               565.646        0.00000   \n68610        1506.660363  1493.296496               544.566        0.01108   \n68611        2035.532738  1959.518320               301.876        0.00000   \n68612        3985.426053  3638.677280               231.302        0.00000   \n68613        1591.009408  2071.219000               406.180        0.01609   \n\n            void_volume [cm^3/g]  metal_linker  organic_linker1  \\\nUnnamed: 0                                                        \n1                         0.0607           3.0              4.0   \n2                         0.1040          10.0             44.0   \n3                         0.1262           2.0             22.0   \n4                         0.2220           9.0             17.0   \n5                         0.0591           2.0              1.0   \n...                          ...           ...              ...   \n68609                     0.0000           3.0              4.0   \n68610                     0.0000          10.0             42.0   \n68611                     0.0000           4.0             14.0   \n68612                     0.0000           4.0              4.0   \n68613                     0.0000           2.0              9.0   \n\n            organic_linker2  CO2/N2_selectivity  \\\nUnnamed: 0                                        \n1                      11.0           22.864166   \n2                      57.0           33.616780   \n3                      24.0           19.263726   \n4                      24.0           25.701377   \n5                      22.0           30.001838   \n...                     ...                 ...   \n68609                  24.0           24.131770   \n68610                  46.0            6.071818   \n68611                  22.0            9.876134   \n68612                  15.0            5.285051   \n68613                  16.0            2.621272   \n\n            heat_adsorption_CO2_P0.15bar_T298K [kcal/mol]  ...  \\\nUnnamed: 0                                                 ...   \n1                                                6.786041  ...   \n2                                                7.147286  ...   \n3                                                6.347967  ...   \n4                                                6.190085  ...   \n5                                                6.478063  ...   \n...                                                   ...  ...   \n68609                                            7.966631  ...   \n68610                                            8.067713  ...   \n68611                                            9.995719  ...   \n68612                                            9.621540  ...   \n68613                                            6.514527  ...   \n\n            _cell_angle_gamma  _cell_volume  partial_charge_mean  \\\nUnnamed: 0                                                         \n1                   90.261935   1116.667429        -1.333333e-08   \n2                   96.942210   2769.503842         5.154639e-09   \n3                   90.387501   1089.818728        -3.658537e-08   \n4                   90.532988   2205.198301         4.464286e-08   \n5                   91.404649   1137.800963        -3.191489e-08   \n...                       ...           ...                  ...   \n68609               90.753457   1188.302573         3.361345e-08   \n68610               97.430499   1506.660363        -5.555556e-08   \n68611               59.292454   2035.532738         2.450980e-08   \n68612               89.911826   3985.426053        -8.241758e-09   \n68613               98.090342   1591.009408         2.586207e-08   \n\n            partial_charge_median  partial_charge_std  bond_type_countS  \\\nUnnamed: 0                                                                \n1                        0.024709            0.561043              56.0   \n2                        0.059489            0.476006             162.0   \n3                        0.126583            0.413161              87.0   \n4                       -0.016101            0.414075              86.0   \n5                        0.143280            0.402762              84.0   \n...                           ...                 ...               ...   \n68609                    0.202590            0.441255             113.0   \n68610                    0.028650            0.426625             113.0   \n68611                    0.075630            0.332719             153.0   \n68612                    0.029951            0.341750             282.0   \n68613                    0.100009            0.368131              73.0   \n\n            bond_type_countA  bond_type_countD  bond_type_countT  \\\nUnnamed: 0                                                         \n1                       20.0               8.0               0.0   \n2                       50.0               8.0               1.0   \n3                        8.0               2.0               0.0   \n4                       54.0               2.0               0.0   \n5                       20.0               0.0               0.0   \n...                      ...               ...               ...   \n68609                   20.0               0.0               0.0   \n68610                   23.0              10.0               0.0   \n68611                   79.0               0.0               0.0   \n68612                  140.0               0.0               0.0   \n68613                   58.0               0.0               0.0   \n\n            bond_type_countAm  \nUnnamed: 0                     \n1                         0.0  \n2                         0.0  \n3                         0.0  \n4                         0.0  \n5                         0.0  \n...                       ...  \n68609                     0.0  \n68610                     0.0  \n68611                     0.0  \n68612                     0.0  \n68613                     0.0  \n\n[68557 rows x 26 columns]",
      "text/html": "<div>\n<style scoped>\n    .dataframe tbody tr th:only-of-type {\n        vertical-align: middle;\n    }\n\n    .dataframe tbody tr th {\n        vertical-align: top;\n    }\n\n    .dataframe thead th {\n        text-align: right;\n    }\n</style>\n<table border=\"1\" class=\"dataframe\">\n  <thead>\n    <tr style=\"text-align: right;\">\n      <th></th>\n      <th>volume [A^3]</th>\n      <th>weight [u]</th>\n      <th>surface_area [m^2/g]</th>\n      <th>void_fraction</th>\n      <th>void_volume [cm^3/g]</th>\n      <th>metal_linker</th>\n      <th>organic_linker1</th>\n      <th>organic_linker2</th>\n      <th>CO2/N2_selectivity</th>\n      <th>heat_adsorption_CO2_P0.15bar_T298K [kcal/mol]</th>\n      <th>...</th>\n      <th>_cell_angle_gamma</th>\n      <th>_cell_volume</th>\n      <th>partial_charge_mean</th>\n      <th>partial_charge_median</th>\n      <th>partial_charge_std</th>\n      <th>bond_type_countS</th>\n      <th>bond_type_countA</th>\n      <th>bond_type_countD</th>\n      <th>bond_type_countT</th>\n      <th>bond_type_countAm</th>\n    </tr>\n    <tr>\n      <th>Unnamed: 0</th>\n      <th></th>\n      <th></th>\n      <th></th>\n      <th></th>\n      <th></th>\n      <th></th>\n      <th></th>\n      <th></th>\n      <th></th>\n      <th></th>\n      <th></th>\n      <th></th>\n      <th></th>\n      <th></th>\n      <th></th>\n      <th></th>\n      <th></th>\n      <th></th>\n      <th></th>\n      <th></th>\n      <th></th>\n    </tr>\n  </thead>\n  <tbody>\n    <tr>\n      <th>1</th>\n      <td>1116.667429</td>\n      <td>875.240600</td>\n      <td>941.764</td>\n      <td>0.07899</td>\n      <td>0.0607</td>\n      <td>3.0</td>\n      <td>4.0</td>\n      <td>11.0</td>\n      <td>22.864166</td>\n      <td>6.786041</td>\n      <td>...</td>\n      <td>90.261935</td>\n      <td>1116.667429</td>\n      <td>-1.333333e-08</td>\n      <td>0.024709</td>\n      <td>0.561043</td>\n      <td>56.0</td>\n      <td>20.0</td>\n      <td>8.0</td>\n      <td>0.0</td>\n      <td>0.0</td>\n    </tr>\n    <tr>\n      <th>2</th>\n      <td>2769.503842</td>\n      <td>2211.697211</td>\n      <td>603.610</td>\n      <td>0.13794</td>\n      <td>0.1040</td>\n      <td>10.0</td>\n      <td>44.0</td>\n      <td>57.0</td>\n      <td>33.616780</td>\n      <td>7.147286</td>\n      <td>...</td>\n      <td>96.942210</td>\n      <td>2769.503842</td>\n      <td>5.154639e-09</td>\n      <td>0.059489</td>\n      <td>0.476006</td>\n      <td>162.0</td>\n      <td>50.0</td>\n      <td>8.0</td>\n      <td>1.0</td>\n      <td>0.0</td>\n    </tr>\n    <tr>\n      <th>3</th>\n      <td>1089.818728</td>\n      <td>773.687960</td>\n      <td>788.500</td>\n      <td>0.14874</td>\n      <td>0.1262</td>\n      <td>2.0</td>\n      <td>22.0</td>\n      <td>24.0</td>\n      <td>19.263726</td>\n      <td>6.347967</td>\n      <td>...</td>\n      <td>90.387501</td>\n      <td>1089.818728</td>\n      <td>-3.658537e-08</td>\n      <td>0.126583</td>\n      <td>0.413161</td>\n      <td>87.0</td>\n      <td>8.0</td>\n      <td>2.0</td>\n      <td>0.0</td>\n      <td>0.0</td>\n    </tr>\n    <tr>\n      <th>4</th>\n      <td>2205.198301</td>\n      <td>1304.638720</td>\n      <td>1441.530</td>\n      <td>0.21814</td>\n      <td>0.2220</td>\n      <td>9.0</td>\n      <td>17.0</td>\n      <td>24.0</td>\n      <td>25.701377</td>\n      <td>6.190085</td>\n      <td>...</td>\n      <td>90.532988</td>\n      <td>2205.198301</td>\n      <td>4.464286e-08</td>\n      <td>-0.016101</td>\n      <td>0.414075</td>\n      <td>86.0</td>\n      <td>54.0</td>\n      <td>2.0</td>\n      <td>0.0</td>\n      <td>0.0</td>\n    </tr>\n    <tr>\n      <th>5</th>\n      <td>1137.800963</td>\n      <td>901.736120</td>\n      <td>655.396</td>\n      <td>0.07778</td>\n      <td>0.0591</td>\n      <td>2.0</td>\n      <td>1.0</td>\n      <td>22.0</td>\n      <td>30.001838</td>\n      <td>6.478063</td>\n      <td>...</td>\n      <td>91.404649</td>\n      <td>1137.800963</td>\n      <td>-3.191489e-08</td>\n      <td>0.143280</td>\n      <td>0.402762</td>\n      <td>84.0</td>\n      <td>20.0</td>\n      <td>0.0</td>\n      <td>0.0</td>\n      <td>0.0</td>\n    </tr>\n    <tr>\n      <th>...</th>\n      <td>...</td>\n      <td>...</td>\n      <td>...</td>\n      <td>...</td>\n      <td>...</td>\n      <td>...</td>\n      <td>...</td>\n      <td>...</td>\n      <td>...</td>\n      <td>...</td>\n      <td>...</td>\n      <td>...</td>\n      <td>...</td>\n      <td>...</td>\n      <td>...</td>\n      <td>...</td>\n      <td>...</td>\n      <td>...</td>\n      <td>...</td>\n      <td>...</td>\n      <td>...</td>\n    </tr>\n    <tr>\n      <th>68609</th>\n      <td>1188.302573</td>\n      <td>1001.700216</td>\n      <td>565.646</td>\n      <td>0.00000</td>\n      <td>0.0000</td>\n      <td>3.0</td>\n      <td>4.0</td>\n      <td>24.0</td>\n      <td>24.131770</td>\n      <td>7.966631</td>\n      <td>...</td>\n      <td>90.753457</td>\n      <td>1188.302573</td>\n      <td>3.361345e-08</td>\n      <td>0.202590</td>\n      <td>0.441255</td>\n      <td>113.0</td>\n      <td>20.0</td>\n      <td>0.0</td>\n      <td>0.0</td>\n      <td>0.0</td>\n    </tr>\n    <tr>\n      <th>68610</th>\n      <td>1506.660363</td>\n      <td>1493.296496</td>\n      <td>544.566</td>\n      <td>0.01108</td>\n      <td>0.0000</td>\n      <td>10.0</td>\n      <td>42.0</td>\n      <td>46.0</td>\n      <td>6.071818</td>\n      <td>8.067713</td>\n      <td>...</td>\n      <td>97.430499</td>\n      <td>1506.660363</td>\n      <td>-5.555556e-08</td>\n      <td>0.028650</td>\n      <td>0.426625</td>\n      <td>113.0</td>\n      <td>23.0</td>\n      <td>10.0</td>\n      <td>0.0</td>\n      <td>0.0</td>\n    </tr>\n    <tr>\n      <th>68611</th>\n      <td>2035.532738</td>\n      <td>1959.518320</td>\n      <td>301.876</td>\n      <td>0.00000</td>\n      <td>0.0000</td>\n      <td>4.0</td>\n      <td>14.0</td>\n      <td>22.0</td>\n      <td>9.876134</td>\n      <td>9.995719</td>\n      <td>...</td>\n      <td>59.292454</td>\n      <td>2035.532738</td>\n      <td>2.450980e-08</td>\n      <td>0.075630</td>\n      <td>0.332719</td>\n      <td>153.0</td>\n      <td>79.0</td>\n      <td>0.0</td>\n      <td>0.0</td>\n      <td>0.0</td>\n    </tr>\n    <tr>\n      <th>68612</th>\n      <td>3985.426053</td>\n      <td>3638.677280</td>\n      <td>231.302</td>\n      <td>0.00000</td>\n      <td>0.0000</td>\n      <td>4.0</td>\n      <td>4.0</td>\n      <td>15.0</td>\n      <td>5.285051</td>\n      <td>9.621540</td>\n      <td>...</td>\n      <td>89.911826</td>\n      <td>3985.426053</td>\n      <td>-8.241758e-09</td>\n      <td>0.029951</td>\n      <td>0.341750</td>\n      <td>282.0</td>\n      <td>140.0</td>\n      <td>0.0</td>\n      <td>0.0</td>\n      <td>0.0</td>\n    </tr>\n    <tr>\n      <th>68613</th>\n      <td>1591.009408</td>\n      <td>2071.219000</td>\n      <td>406.180</td>\n      <td>0.01609</td>\n      <td>0.0000</td>\n      <td>2.0</td>\n      <td>9.0</td>\n      <td>16.0</td>\n      <td>2.621272</td>\n      <td>6.514527</td>\n      <td>...</td>\n      <td>98.090342</td>\n      <td>1591.009408</td>\n      <td>2.586207e-08</td>\n      <td>0.100009</td>\n      <td>0.368131</td>\n      <td>73.0</td>\n      <td>58.0</td>\n      <td>0.0</td>\n      <td>0.0</td>\n      <td>0.0</td>\n    </tr>\n  </tbody>\n</table>\n<p>68557 rows × 26 columns</p>\n</div>"
     },
     "metadata": {}
    }
   ]
  },
  {
   "cell_type": "code",
   "metadata": {
    "tags": [],
    "cell_id": "00014-c8764f2d-89d1-4918-94be-3209af4c57ff",
    "deepnote_to_be_reexecuted": false,
    "source_hash": "4ccc69e3",
    "execution_start": 1632169662531,
    "execution_millis": 44321,
    "deepnote_cell_type": "code"
   },
   "source": "def log_mean_absolute_error(y_true, y_pred):\n    return np.log(mean_absolute_error(y_true, y_pred))\n\n\ndef fit_catboost(X, y):\n    catboost = CatBoostRegressor(iterations=1000, verbose=False)\n    catboost.fit(X, y)\n    return catboost\n\ndef fit_catboost(X, y):\n    catboost = CatBoostRegressor(iterations=1000, verbose=False)\n    catboost.fit(X, y)\n    return catboost\n\nfit_models = [fit_catboost]\nkf = KFold(n_splits=5, shuffle=True, random_state=1234)\n\nfit_results = {}\nfor k, (train_index, test_index) in enumerate(kf.split(X)):\n    print(f\"K Fold: {k + 1}\")\n    print(\"TRAIN:\", train_index, \"TEST:\", test_index)\n    X_train, X_test = X.iloc[train_index], X.iloc[test_index]\n    y_train, y_test = y.iloc[train_index], y.iloc[test_index]\n\n    for fit_model in fit_models:\n        model_name = '_'.join(fit_model.__name__.split('fit_')[1:])\n        if model_name not in fit_results:\n            fit_results[model_name] = []\n\n        model = fit_model(X_train, y_train)\n        train_pred = model.predict(X_train)\n        log_mean_error_train = log_mean_absolute_error(y_train, train_pred)\n\n        model = fit_model(X_test, y_test)\n        test_pred = model.predict(X_test)\n        log_mean_error_test = log_mean_absolute_error(y_test, test_pred)\n        print(f\"Log mean error train: {log_mean_error_train}\")\n        print(f\"Log mean error test: {log_mean_error_test}\")\n\n        fit_results[model_name].append({\n            'model': model,\n            'log_mean_error_train': log_mean_error_train,\n            'log_mean_error_test': log_mean_error_test\n        })",
   "execution_count": null,
   "outputs": [
    {
     "name": "stdout",
     "text": "K Fold: 1\nTRAIN: [    1     2     3 ... 68551 68552 68556] TEST: [    0     4    13 ... 68553 68554 68555]\nLog mean error train: 2.854255645759708\nLog mean error test: 2.717562476787219\nK Fold: 2\nTRAIN: [    0     1     2 ... 68554 68555 68556] TEST: [   24    32    37 ... 68535 68536 68545]\nLog mean error train: 2.8512157347168374\nLog mean error test: 2.711303907019775\nK Fold: 3\nTRAIN: [    0     1     3 ... 68553 68554 68555] TEST: [    2     8     9 ... 68538 68548 68556]\nLog mean error train: 2.8546759761583433\nLog mean error test: 2.7087070515726177\nK Fold: 4\nTRAIN: [    0     2     3 ... 68554 68555 68556] TEST: [    1     5     6 ... 68547 68551 68552]\nLog mean error train: 2.8464327645129197\nLog mean error test: 2.7346996775561636\nK Fold: 5\nTRAIN: [    0     1     2 ... 68554 68555 68556] TEST: [    3    10    16 ... 68543 68544 68549]\nLog mean error train: 2.844976102605712\nLog mean error test: 2.7331464830336327\n",
     "output_type": "stream"
    }
   ]
  },
  {
   "cell_type": "code",
   "metadata": {
    "tags": [],
    "cell_id": "00018-03d4a2d2-fcc8-49fc-93f0-5f422054c830",
    "deepnote_to_be_reexecuted": false,
    "source_hash": "3b500b0a",
    "execution_start": 1632168594566,
    "execution_millis": 25,
    "deepnote_cell_type": "code"
   },
   "source": "# train_prediction = .predict(X)",
   "execution_count": null,
   "outputs": []
  },
  {
   "cell_type": "code",
   "metadata": {
    "tags": [],
    "cell_id": "00019-102e9c2c-1e6f-4a20-b317-2f378725321b",
    "deepnote_to_be_reexecuted": false,
    "source_hash": "1c51bf2b",
    "execution_start": 1632168596262,
    "execution_millis": 9,
    "deepnote_cell_type": "code"
   },
   "source": "# np.log(mean_absolute_error(train_prediction, y))",
   "execution_count": null,
   "outputs": [
    {
     "output_type": "execute_result",
     "execution_count": 15,
     "data": {
      "text/plain": "2.8635058694956403"
     },
     "metadata": {}
    }
   ]
  },
  {
   "cell_type": "code",
   "metadata": {
    "tags": [],
    "cell_id": "00020-46248fb0-5be0-4a8f-90f6-e19c42aaa24a",
    "deepnote_to_be_reexecuted": true,
    "source_hash": "eca38aed",
    "execution_start": 1632168137454,
    "execution_millis": 0,
    "deepnote_cell_type": "code"
   },
   "source": "# feature_importances = pd.DataFrame(catboost.feature_importances_)\n# feature_importances.index = Train.drop(TARGET, axis=1).columns",
   "execution_count": null,
   "outputs": []
  },
  {
   "cell_type": "code",
   "metadata": {
    "tags": [],
    "cell_id": "00021-e6be6076-f4c7-465c-b3ea-791be79b1cac",
    "deepnote_to_be_reexecuted": true,
    "source_hash": "89081c32",
    "execution_start": 1632167100831,
    "execution_millis": 9,
    "deepnote_cell_type": "code"
   },
   "source": "# feature_importances.sort_values(by=0, ascending=False)",
   "execution_count": null,
   "outputs": [
    {
     "output_type": "execute_result",
     "execution_count": 20,
     "data": {
      "application/vnd.deepnote.dataframe.v2+json": {
       "row_count": 69,
       "column_count": 1,
       "columns": [
        {
         "name": 0,
         "dtype": "float64",
         "stats": {
          "unique_count": 65,
          "nan_count": 0,
          "min": "0.0",
          "max": "35.93777283208563",
          "histogram": [
           {
            "bin_start": 0,
            "bin_end": 3.5937772832085626,
            "count": 65
           },
           {
            "bin_start": 3.5937772832085626,
            "bin_end": 7.187554566417125,
            "count": 1
           },
           {
            "bin_start": 7.187554566417125,
            "bin_end": 10.781331849625687,
            "count": 0
           },
           {
            "bin_start": 10.781331849625687,
            "bin_end": 14.37510913283425,
            "count": 0
           },
           {
            "bin_start": 14.37510913283425,
            "bin_end": 17.968886416042814,
            "count": 2
           },
           {
            "bin_start": 17.968886416042814,
            "bin_end": 21.562663699251374,
            "count": 0
           },
           {
            "bin_start": 21.562663699251374,
            "bin_end": 25.156440982459937,
            "count": 0
           },
           {
            "bin_start": 25.156440982459937,
            "bin_end": 28.7502182656685,
            "count": 0
           },
           {
            "bin_start": 28.7502182656685,
            "bin_end": 32.34399554887706,
            "count": 0
           },
           {
            "bin_start": 32.34399554887706,
            "bin_end": 35.93777283208563,
            "count": 1
           }
          ]
         }
        },
        {
         "name": "_deepnote_index_column",
         "dtype": "object"
        }
       ],
       "rows_top": [
        {
         "0": 35.93777283208563,
         "_deepnote_index_column": "CO2/N2_selectivity"
        },
        {
         "0": 16.560835507992778,
         "_deepnote_index_column": "void_volume [cm^3/g]"
        },
        {
         "0": 15.907282220441493,
         "_deepnote_index_column": "heat_adsorption_CO2_P0.15bar_T298K [kcal/mol]"
        },
        {
         "0": 4.884843065123406,
         "_deepnote_index_column": "surface_area [m^2/g]"
        },
        {
         "0": 2.9929613992762483,
         "_deepnote_index_column": "weight [u]"
        },
        {
         "0": 2.936606509880584,
         "_deepnote_index_column": "bond_type_countA"
        },
        {
         "0": 2.7732419406316726,
         "_deepnote_index_column": "organic_linker2"
        },
        {
         "0": 1.785839386264233,
         "_deepnote_index_column": "void_fraction"
        },
        {
         "0": 1.765776060574843,
         "_deepnote_index_column": "_cell_length_c"
        },
        {
         "0": 1.5191720867585987,
         "_deepnote_index_column": "bond_type_countD"
        },
        {
         "0": 1.386855750551672,
         "_deepnote_index_column": "_cell_length_b"
        },
        {
         "0": 1.322087678592134,
         "_deepnote_index_column": "_cell_length_a"
        },
        {
         "0": 1.2377725086887807,
         "_deepnote_index_column": "organic_linker1"
        },
        {
         "0": 1.0139653672441755,
         "_deepnote_index_column": "partial_charge_std"
        },
        {
         "0": 0.8308069620649005,
         "_deepnote_index_column": "_cell_angle_beta"
        },
        {
         "0": 0.8023532938585638,
         "_deepnote_index_column": "partial_charge_median"
        },
        {
         "0": 0.7790422576164492,
         "_deepnote_index_column": "metal_linker"
        },
        {
         "0": 0.737815928578615,
         "_deepnote_index_column": "volume [A^3]"
        },
        {
         "0": 0.6582033403912215,
         "_deepnote_index_column": "bond_type_countT"
        },
        {
         "0": 0.6510999123921177,
         "_deepnote_index_column": "bond_type_countS"
        },
        {
         "0": 0.5465083158250336,
         "_deepnote_index_column": "functional_group_bigram_N-O2"
        },
        {
         "0": 0.5045432140881537,
         "_deepnote_index_column": "functional_group_unigram_I"
        },
        {
         "0": 0.4513730609261511,
         "_deepnote_index_column": "_cell_angle_alpha"
        },
        {
         "0": 0.32520056136329556,
         "_deepnote_index_column": "_cell_angle_gamma"
        },
        {
         "0": 0.2858864784053988,
         "_deepnote_index_column": "_cell_volume"
        },
        {
         "0": 0.23599407739386027,
         "_deepnote_index_column": "functional_group_unigram_Br"
        },
        {
         "0": 0.13999514904704985,
         "_deepnote_index_column": "functional_group_unigram_O2"
        },
        {
         "0": 0.107144843944,
         "_deepnote_index_column": "functional_group_unigram_O"
        },
        {
         "0": 0.1045525156702242,
         "_deepnote_index_column": "functional_group_unigram_Cl"
        },
        {
         "0": 0.1043869480240215,
         "_deepnote_index_column": "partial_charge_mean"
        },
        {
         "0": 0.07563464344648108,
         "_deepnote_index_column": "functional_group_unigram_N"
        },
        {
         "0": 0.06918446399535931,
         "_deepnote_index_column": "functional_group_unigram_F"
        },
        {
         "0": 0.06452471669987614,
         "_deepnote_index_column": "functional_group_bigram_O-Me"
        },
        {
         "0": 0.056803743203754815,
         "_deepnote_index_column": "functional_group_unigram_Pr"
        },
        {
         "0": 0.049724826785243155,
         "_deepnote_index_column": "functional_group_unigram_C"
        },
        {
         "0": 0.048234665983014416,
         "_deepnote_index_column": "functional_group_unigram_Ph"
        },
        {
         "0": 0.035425071806628274,
         "_deepnote_index_column": "functional_group_unigram_H"
        },
        {
         "0": 0.033037184631173985,
         "_deepnote_index_column": "functional_group_unigram_Me"
        },
        {
         "0": 0.03231062056099421,
         "_deepnote_index_column": "functional_group_bigram_S-O3"
        },
        {
         "0": 0.031370688657893456,
         "_deepnote_index_column": "functional_group_bigram_N-H"
        },
        {
         "0": 0.02345637547391798,
         "_deepnote_index_column": "functional_group_bigram_C-O"
        },
        {
         "0": 0.02315605913905741,
         "_deepnote_index_column": "functional_group_unigram_H2"
        },
        {
         "0": 0.019080945440239062,
         "_deepnote_index_column": "functional_group_bigram_O-H"
        },
        {
         "0": 0.016193851351142385,
         "_deepnote_index_column": "functional_group_bigram_O-Et"
        },
        {
         "0": 0.015972219463504037,
         "_deepnote_index_column": "functional_group_bigram_H-C"
        },
        {
         "0": 0.013344254894196847,
         "_deepnote_index_column": "functional_group_bigram_Me-N"
        },
        {
         "0": 0.01323090407060277,
         "_deepnote_index_column": "functional_group_bigram_H-N"
        },
        {
         "0": 0.01188685502865652,
         "_deepnote_index_column": "functional_group_unigram_S"
        },
        {
         "0": 0.010180388176635927,
         "_deepnote_index_column": "functional_group_bigram_N-H2"
        },
        {
         "0": 0.009893670197213865,
         "_deepnote_index_column": "functional_group_bigram_O2-O"
        },
        {
         "0": 0.009348946352498309,
         "_deepnote_index_column": "functional_group_bigram_H-O"
        },
        {
         "0": 0.009340762364832594,
         "_deepnote_index_column": "functional_group_unigram_O3"
        },
        {
         "0": 0.007953020216218241,
         "_deepnote_index_column": "functional_group_bigram_Et-O"
        },
        {
         "0": 0.006797538867600818,
         "_deepnote_index_column": "functional_group_unigram_Et"
        },
        {
         "0": 0.006727383901338759,
         "_deepnote_index_column": "functional_group_bigram_O3-H"
        },
        {
         "0": 0.0033372215066317296,
         "_deepnote_index_column": "functional_group_bigram_Me-O"
        },
        {
         "0": 0.0024947091211556284,
         "_deepnote_index_column": "functional_group_bigram_O-O"
        },
        {
         "0": 0.0023581057978431554,
         "_deepnote_index_column": "functional_group_bigram_O-Pr"
        },
        {
         "0": 0.0020981208209581506,
         "_deepnote_index_column": "bond_type_countAm"
        },
        {
         "0": 0.002079548154509025,
         "_deepnote_index_column": "functional_group_bigram_Pr-O"
        },
        {
         "0": 0.00163675242916099,
         "_deepnote_index_column": "functional_group_bigram_H-Me"
        },
        {
         "0": 0.0011864260319329528,
         "_deepnote_index_column": "functional_group_bigram_H-Cl"
        },
        {
         "0": 0.0010992564238094117,
         "_deepnote_index_column": "functional_group_bigram_H-H"
        },
        {
         "0": 0.0009768853106442304,
         "_deepnote_index_column": "functional_group_bigram_F-O"
        },
        {
         "0": 0,
         "_deepnote_index_column": "_symmetry_Int_Tables_number"
        },
        {
         "0": 0,
         "_deepnote_index_column": "functional_group_bigram_Me-C"
        },
        {
         "0": 0,
         "_deepnote_index_column": "functional_group_bigram_C-N"
        },
        {
         "0": 0,
         "_deepnote_index_column": "functional_group_bigram_H-F"
        },
        {
         "0": 0,
         "_deepnote_index_column": "functional_group_bigram_Me-H"
        }
       ],
       "rows_bottom": null
      },
      "text/plain": "                                                       0\nCO2/N2_selectivity                             35.937773\nvoid_volume [cm^3/g]                           16.560836\nheat_adsorption_CO2_P0.15bar_T298K [kcal/mol]  15.907282\nsurface_area [m^2/g]                            4.884843\nweight [u]                                      2.992961\n...                                                  ...\n_symmetry_Int_Tables_number                     0.000000\nfunctional_group_bigram_Me-C                    0.000000\nfunctional_group_bigram_C-N                     0.000000\nfunctional_group_bigram_H-F                     0.000000\nfunctional_group_bigram_Me-H                    0.000000\n\n[69 rows x 1 columns]",
      "text/html": "<div>\n<style scoped>\n    .dataframe tbody tr th:only-of-type {\n        vertical-align: middle;\n    }\n\n    .dataframe tbody tr th {\n        vertical-align: top;\n    }\n\n    .dataframe thead th {\n        text-align: right;\n    }\n</style>\n<table border=\"1\" class=\"dataframe\">\n  <thead>\n    <tr style=\"text-align: right;\">\n      <th></th>\n      <th>0</th>\n    </tr>\n  </thead>\n  <tbody>\n    <tr>\n      <th>CO2/N2_selectivity</th>\n      <td>35.937773</td>\n    </tr>\n    <tr>\n      <th>void_volume [cm^3/g]</th>\n      <td>16.560836</td>\n    </tr>\n    <tr>\n      <th>heat_adsorption_CO2_P0.15bar_T298K [kcal/mol]</th>\n      <td>15.907282</td>\n    </tr>\n    <tr>\n      <th>surface_area [m^2/g]</th>\n      <td>4.884843</td>\n    </tr>\n    <tr>\n      <th>weight [u]</th>\n      <td>2.992961</td>\n    </tr>\n    <tr>\n      <th>...</th>\n      <td>...</td>\n    </tr>\n    <tr>\n      <th>_symmetry_Int_Tables_number</th>\n      <td>0.000000</td>\n    </tr>\n    <tr>\n      <th>functional_group_bigram_Me-C</th>\n      <td>0.000000</td>\n    </tr>\n    <tr>\n      <th>functional_group_bigram_C-N</th>\n      <td>0.000000</td>\n    </tr>\n    <tr>\n      <th>functional_group_bigram_H-F</th>\n      <td>0.000000</td>\n    </tr>\n    <tr>\n      <th>functional_group_bigram_Me-H</th>\n      <td>0.000000</td>\n    </tr>\n  </tbody>\n</table>\n<p>69 rows × 1 columns</p>\n</div>"
     },
     "metadata": {}
    }
   ]
  },
  {
   "cell_type": "code",
   "metadata": {
    "tags": [],
    "cell_id": "00022-ef968977-69b3-462b-8aa9-835e9a9a276b",
    "deepnote_to_be_reexecuted": true,
    "source_hash": "4dcb5788",
    "execution_start": 1632168289522,
    "execution_millis": 596,
    "deepnote_cell_type": "code"
   },
   "source": "# feature_importances[0].nlargest(20).plot(kind='barh')",
   "execution_count": null,
   "outputs": [
    {
     "output_type": "execute_result",
     "execution_count": 17,
     "data": {
      "text/plain": "<AxesSubplot:>"
     },
     "metadata": {}
    },
    {
     "data": {
      "text/plain": "<Figure size 432x288 with 1 Axes>",
      "image/png": "[encoded data removed]"
     },
     "metadata": {
      "needs_background": "light",
      "image/png": {
       "width": 602,
       "height": 248
      }
     },
     "output_type": "display_data"
    }
   ]
  },
  {
   "cell_type": "code",
   "metadata": {
    "tags": [],
    "cell_id": "00025-81c7491f-d77b-4c44-91a3-90e76217a3a7",
    "deepnote_to_be_reexecuted": true,
    "source_hash": "50f993ed",
    "execution_start": 1632168314487,
    "execution_millis": 8,
    "deepnote_cell_type": "code"
   },
   "source": "# feature_importances[0].nlargest(20).index",
   "execution_count": null,
   "outputs": [
    {
     "output_type": "execute_result",
     "execution_count": 19,
     "data": {
      "text/plain": "Index(['CO2/N2_selectivity', 'heat_adsorption_CO2_P0.15bar_T298K [kcal/mol]',\n       'void_volume [cm^3/g]', 'surface_area [m^2/g]', 'weight [u]',\n       'organic_linker2', 'void_fraction', 'bond_type_countA',\n       'bond_type_countD', '_cell_length_c', '_cell_length_b',\n       '_cell_length_a', 'organic_linker1', 'partial_charge_median',\n       'bond_type_countS', 'partial_charge_std', '_cell_angle_beta',\n       'metal_linker', 'bond_type_countT', 'volume [A^3]'],\n      dtype='object')"
     },
     "metadata": {}
    }
   ]
  },
  {
   "cell_type": "code",
   "metadata": {
    "tags": [],
    "cell_id": "00027-3bfce106-d2db-430c-8d12-5038698640a6",
    "deepnote_cell_type": "code"
   },
   "source": "",
   "execution_count": null,
   "outputs": []
  },
  {
   "cell_type": "code",
   "metadata": {
    "tags": [],
    "cell_id": "00022-e23ef112-b966-43a3-a681-81e44cae9b9e",
    "deepnote_to_be_reexecuted": false,
    "source_hash": "ae1d8aa7",
    "execution_start": 1632169955468,
    "execution_millis": 15,
    "deepnote_cell_type": "code"
   },
   "source": "sub = np.mean([model['model'].predict(Pretest) for model in fit_results['catboost']], axis=0)",
   "execution_count": null,
   "outputs": []
  },
  {
   "cell_type": "code",
   "metadata": {
    "tags": [],
    "cell_id": "00023-139a058b-9793-400b-8793-9c68c8e3ea1b",
    "deepnote_to_be_reexecuted": false,
    "source_hash": "edbc753e",
    "execution_start": 1632169957938,
    "execution_millis": 2,
    "deepnote_cell_type": "code"
   },
   "source": "sub = pd.DataFrame(sub)",
   "execution_count": null,
   "outputs": []
  },
  {
   "cell_type": "code",
   "metadata": {
    "tags": [],
    "cell_id": "00024-9fdde596-bad8-407e-865e-cebca0e713fe",
    "deepnote_to_be_reexecuted": false,
    "source_hash": "7331a9fe",
    "execution_start": 1632169960853,
    "execution_millis": 491,
    "deepnote_cell_type": "code"
   },
   "source": "Pretest = pd.read_csv(f\"{PREPROCESSING_PATH}/pretest_merged_CIF/Pretest.csv\")\n# Pretest = Pretest.set_index(Pretest.columns[0])\nsub.index = \"pretest_\" + pd.Index(range(1, sub.shape[0] + 1)).astype(str)\nsub.index = sub.index.set_names('id')\nsub.columns = ['CO2_working_capacity [mL/g]']",
   "execution_count": null,
   "outputs": []
  },
  {
   "cell_type": "code",
   "metadata": {
    "tags": [],
    "cell_id": "00025-c09ea7b6-5421-4662-84c2-fbb7b65bac0c",
    "deepnote_to_be_reexecuted": false,
    "source_hash": "d977bc2a",
    "execution_start": 1632169962597,
    "execution_millis": 53,
    "deepnote_cell_type": "code"
   },
   "source": "sub",
   "execution_count": null,
   "outputs": [
    {
     "output_type": "execute_result",
     "execution_count": 37,
     "data": {
      "application/vnd.deepnote.dataframe.v2+json": {
       "row_count": 2000,
       "column_count": 1,
       "columns": [
        {
         "name": "CO2_working_capacity [mL/g]",
         "dtype": "float64",
         "stats": {
          "unique_count": 2000,
          "nan_count": 0,
          "min": "-13.754651137854063",
          "max": "521.7372345889822",
          "histogram": [
           {
            "bin_start": -13.754651137854063,
            "bin_end": 39.794537434829564,
            "count": 494
           },
           {
            "bin_start": 39.794537434829564,
            "bin_end": 93.34372600751318,
            "count": 587
           },
           {
            "bin_start": 93.34372600751318,
            "bin_end": 146.89291458019682,
            "count": 426
           },
           {
            "bin_start": 146.89291458019682,
            "bin_end": 200.44210315288043,
            "count": 221
           },
           {
            "bin_start": 200.44210315288043,
            "bin_end": 253.99129172556405,
            "count": 140
           },
           {
            "bin_start": 253.99129172556405,
            "bin_end": 307.5404802982477,
            "count": 70
           },
           {
            "bin_start": 307.5404802982477,
            "bin_end": 361.0896688709313,
            "count": 31
           },
           {
            "bin_start": 361.0896688709313,
            "bin_end": 414.63885744361494,
            "count": 19
           },
           {
            "bin_start": 414.63885744361494,
            "bin_end": 468.1880460162986,
            "count": 6
           },
           {
            "bin_start": 468.1880460162986,
            "bin_end": 521.7372345889822,
            "count": 6
           }
          ]
         }
        },
        {
         "name": "_deepnote_index_column",
         "dtype": "object"
        }
       ],
       "rows_top": [
        {
         "CO2_working_capacity [mL/g]": 98.60688709943142,
         "_deepnote_index_column": "pretest_1"
        },
        {
         "CO2_working_capacity [mL/g]": 127.48383033977557,
         "_deepnote_index_column": "pretest_2"
        },
        {
         "CO2_working_capacity [mL/g]": 189.17696719647387,
         "_deepnote_index_column": "pretest_3"
        },
        {
         "CO2_working_capacity [mL/g]": 67.60915925511667,
         "_deepnote_index_column": "pretest_4"
        },
        {
         "CO2_working_capacity [mL/g]": 94.11707089038148,
         "_deepnote_index_column": "pretest_5"
        },
        {
         "CO2_working_capacity [mL/g]": 352.06550295116915,
         "_deepnote_index_column": "pretest_6"
        },
        {
         "CO2_working_capacity [mL/g]": 112.30684517309592,
         "_deepnote_index_column": "pretest_7"
        },
        {
         "CO2_working_capacity [mL/g]": 85.25546230640236,
         "_deepnote_index_column": "pretest_8"
        },
        {
         "CO2_working_capacity [mL/g]": 76.98644373804575,
         "_deepnote_index_column": "pretest_9"
        },
        {
         "CO2_working_capacity [mL/g]": 518.0550066772336,
         "_deepnote_index_column": "pretest_10"
        },
        {
         "CO2_working_capacity [mL/g]": 210.37427767658596,
         "_deepnote_index_column": "pretest_11"
        },
        {
         "CO2_working_capacity [mL/g]": 203.5595853310537,
         "_deepnote_index_column": "pretest_12"
        },
        {
         "CO2_working_capacity [mL/g]": 91.96848664475309,
         "_deepnote_index_column": "pretest_13"
        },
        {
         "CO2_working_capacity [mL/g]": 265.7304188282904,
         "_deepnote_index_column": "pretest_14"
        },
        {
         "CO2_working_capacity [mL/g]": 247.30072595406858,
         "_deepnote_index_column": "pretest_15"
        },
        {
         "CO2_working_capacity [mL/g]": 80.07472772461794,
         "_deepnote_index_column": "pretest_16"
        },
        {
         "CO2_working_capacity [mL/g]": 61.81865960241565,
         "_deepnote_index_column": "pretest_17"
        },
        {
         "CO2_working_capacity [mL/g]": 67.73202900177708,
         "_deepnote_index_column": "pretest_18"
        },
        {
         "CO2_working_capacity [mL/g]": 72.09224897575078,
         "_deepnote_index_column": "pretest_19"
        },
        {
         "CO2_working_capacity [mL/g]": 174.40786693945222,
         "_deepnote_index_column": "pretest_20"
        },
        {
         "CO2_working_capacity [mL/g]": 45.67802563090381,
         "_deepnote_index_column": "pretest_21"
        },
        {
         "CO2_working_capacity [mL/g]": 200.45401917740438,
         "_deepnote_index_column": "pretest_22"
        },
        {
         "CO2_working_capacity [mL/g]": 166.35339578126224,
         "_deepnote_index_column": "pretest_23"
        },
        {
         "CO2_working_capacity [mL/g]": 121.07217196106981,
         "_deepnote_index_column": "pretest_24"
        },
        {
         "CO2_working_capacity [mL/g]": 158.265227683359,
         "_deepnote_index_column": "pretest_25"
        },
        {
         "CO2_working_capacity [mL/g]": 216.83262922199324,
         "_deepnote_index_column": "pretest_26"
        },
        {
         "CO2_working_capacity [mL/g]": 78.63281572940393,
         "_deepnote_index_column": "pretest_27"
        },
        {
         "CO2_working_capacity [mL/g]": 109.71990221329368,
         "_deepnote_index_column": "pretest_28"
        },
        {
         "CO2_working_capacity [mL/g]": 61.644667394702694,
         "_deepnote_index_column": "pretest_29"
        },
        {
         "CO2_working_capacity [mL/g]": 145.30451367700522,
         "_deepnote_index_column": "pretest_30"
        },
        {
         "CO2_working_capacity [mL/g]": 184.08230180162656,
         "_deepnote_index_column": "pretest_31"
        },
        {
         "CO2_working_capacity [mL/g]": 68.19466611320271,
         "_deepnote_index_column": "pretest_32"
        },
        {
         "CO2_working_capacity [mL/g]": 105.46852630026385,
         "_deepnote_index_column": "pretest_33"
        },
        {
         "CO2_working_capacity [mL/g]": 71.89268951178909,
         "_deepnote_index_column": "pretest_34"
        },
        {
         "CO2_working_capacity [mL/g]": 103.32641325155573,
         "_deepnote_index_column": "pretest_35"
        },
        {
         "CO2_working_capacity [mL/g]": 90.10568595656068,
         "_deepnote_index_column": "pretest_36"
        },
        {
         "CO2_working_capacity [mL/g]": 79.04808136107214,
         "_deepnote_index_column": "pretest_37"
        },
        {
         "CO2_working_capacity [mL/g]": 74.30010693573539,
         "_deepnote_index_column": "pretest_38"
        },
        {
         "CO2_working_capacity [mL/g]": 106.8007941144264,
         "_deepnote_index_column": "pretest_39"
        },
        {
         "CO2_working_capacity [mL/g]": 127.67000350243491,
         "_deepnote_index_column": "pretest_40"
        },
        {
         "CO2_working_capacity [mL/g]": 101.34427282018697,
         "_deepnote_index_column": "pretest_41"
        },
        {
         "CO2_working_capacity [mL/g]": 258.41773282433917,
         "_deepnote_index_column": "pretest_42"
        },
        {
         "CO2_working_capacity [mL/g]": 79.89631919264541,
         "_deepnote_index_column": "pretest_43"
        },
        {
         "CO2_working_capacity [mL/g]": 200.61116269407495,
         "_deepnote_index_column": "pretest_44"
        },
        {
         "CO2_working_capacity [mL/g]": 154.93706092179158,
         "_deepnote_index_column": "pretest_45"
        },
        {
         "CO2_working_capacity [mL/g]": 127.20001533104187,
         "_deepnote_index_column": "pretest_46"
        },
        {
         "CO2_working_capacity [mL/g]": 80.57176039400125,
         "_deepnote_index_column": "pretest_47"
        },
        {
         "CO2_working_capacity [mL/g]": 157.46490407102732,
         "_deepnote_index_column": "pretest_48"
        },
        {
         "CO2_working_capacity [mL/g]": 159.5628150891826,
         "_deepnote_index_column": "pretest_49"
        },
        {
         "CO2_working_capacity [mL/g]": 48.86041235995763,
         "_deepnote_index_column": "pretest_50"
        },
        {
         "CO2_working_capacity [mL/g]": 123.15927104678751,
         "_deepnote_index_column": "pretest_51"
        },
        {
         "CO2_working_capacity [mL/g]": 99.48593187174473,
         "_deepnote_index_column": "pretest_52"
        },
        {
         "CO2_working_capacity [mL/g]": 77.73167760095598,
         "_deepnote_index_column": "pretest_53"
        },
        {
         "CO2_working_capacity [mL/g]": 159.7185260435245,
         "_deepnote_index_column": "pretest_54"
        },
        {
         "CO2_working_capacity [mL/g]": 110.11512342162234,
         "_deepnote_index_column": "pretest_55"
        },
        {
         "CO2_working_capacity [mL/g]": 70.29619597281696,
         "_deepnote_index_column": "pretest_56"
        },
        {
         "CO2_working_capacity [mL/g]": 65.6967073549071,
         "_deepnote_index_column": "pretest_57"
        },
        {
         "CO2_working_capacity [mL/g]": 97.3277187177625,
         "_deepnote_index_column": "pretest_58"
        },
        {
         "CO2_working_capacity [mL/g]": 183.52635650464248,
         "_deepnote_index_column": "pretest_59"
        },
        {
         "CO2_working_capacity [mL/g]": 92.06609962345331,
         "_deepnote_index_column": "pretest_60"
        },
        {
         "CO2_working_capacity [mL/g]": 277.2295370537014,
         "_deepnote_index_column": "pretest_61"
        },
        {
         "CO2_working_capacity [mL/g]": 94.78069972024542,
         "_deepnote_index_column": "pretest_62"
        },
        {
         "CO2_working_capacity [mL/g]": 77.43566335361137,
         "_deepnote_index_column": "pretest_63"
        },
        {
         "CO2_working_capacity [mL/g]": 144.5817292799608,
         "_deepnote_index_column": "pretest_64"
        },
        {
         "CO2_working_capacity [mL/g]": 77.70754752448605,
         "_deepnote_index_column": "pretest_65"
        },
        {
         "CO2_working_capacity [mL/g]": 142.0665268468153,
         "_deepnote_index_column": "pretest_66"
        },
        {
         "CO2_working_capacity [mL/g]": 133.99422577974266,
         "_deepnote_index_column": "pretest_67"
        },
        {
         "CO2_working_capacity [mL/g]": 168.8125259985139,
         "_deepnote_index_column": "pretest_68"
        },
        {
         "CO2_working_capacity [mL/g]": 192.9112606999703,
         "_deepnote_index_column": "pretest_69"
        },
        {
         "CO2_working_capacity [mL/g]": 74.29954576111801,
         "_deepnote_index_column": "pretest_70"
        },
        {
         "CO2_working_capacity [mL/g]": 309.00729368599605,
         "_deepnote_index_column": "pretest_71"
        },
        {
         "CO2_working_capacity [mL/g]": 166.93434852042185,
         "_deepnote_index_column": "pretest_72"
        },
        {
         "CO2_working_capacity [mL/g]": 62.35702776771757,
         "_deepnote_index_column": "pretest_73"
        },
        {
         "CO2_working_capacity [mL/g]": 194.2848725159621,
         "_deepnote_index_column": "pretest_74"
        },
        {
         "CO2_working_capacity [mL/g]": 249.5099501565751,
         "_deepnote_index_column": "pretest_75"
        },
        {
         "CO2_working_capacity [mL/g]": 168.98457716876393,
         "_deepnote_index_column": "pretest_76"
        },
        {
         "CO2_working_capacity [mL/g]": 203.84187570860772,
         "_deepnote_index_column": "pretest_77"
        },
        {
         "CO2_working_capacity [mL/g]": 103.52225610544667,
         "_deepnote_index_column": "pretest_78"
        },
        {
         "CO2_working_capacity [mL/g]": 85.76824441956828,
         "_deepnote_index_column": "pretest_79"
        },
        {
         "CO2_working_capacity [mL/g]": 113.016221282776,
         "_deepnote_index_column": "pretest_80"
        },
        {
         "CO2_working_capacity [mL/g]": 118.11435175806132,
         "_deepnote_index_column": "pretest_81"
        },
        {
         "CO2_working_capacity [mL/g]": 163.54172920465822,
         "_deepnote_index_column": "pretest_82"
        },
        {
         "CO2_working_capacity [mL/g]": 87.72977713434682,
         "_deepnote_index_column": "pretest_83"
        },
        {
         "CO2_working_capacity [mL/g]": 235.28396164686728,
         "_deepnote_index_column": "pretest_84"
        },
        {
         "CO2_working_capacity [mL/g]": 87.02398276920445,
         "_deepnote_index_column": "pretest_85"
        },
        {
         "CO2_working_capacity [mL/g]": 69.87579274095124,
         "_deepnote_index_column": "pretest_86"
        },
        {
         "CO2_working_capacity [mL/g]": 95.24789558325577,
         "_deepnote_index_column": "pretest_87"
        },
        {
         "CO2_working_capacity [mL/g]": 151.98486333495086,
         "_deepnote_index_column": "pretest_88"
        },
        {
         "CO2_working_capacity [mL/g]": 100.4724825080369,
         "_deepnote_index_column": "pretest_89"
        },
        {
         "CO2_working_capacity [mL/g]": 201.5523414779416,
         "_deepnote_index_column": "pretest_90"
        },
        {
         "CO2_working_capacity [mL/g]": 91.7105664810818,
         "_deepnote_index_column": "pretest_91"
        },
        {
         "CO2_working_capacity [mL/g]": 190.58303190676583,
         "_deepnote_index_column": "pretest_92"
        },
        {
         "CO2_working_capacity [mL/g]": 118.35130905399824,
         "_deepnote_index_column": "pretest_93"
        },
        {
         "CO2_working_capacity [mL/g]": 189.08445107016482,
         "_deepnote_index_column": "pretest_94"
        },
        {
         "CO2_working_capacity [mL/g]": 79.71967673424389,
         "_deepnote_index_column": "pretest_95"
        },
        {
         "CO2_working_capacity [mL/g]": 173.8748378632933,
         "_deepnote_index_column": "pretest_96"
        },
        {
         "CO2_working_capacity [mL/g]": 58.27183382627877,
         "_deepnote_index_column": "pretest_97"
        },
        {
         "CO2_working_capacity [mL/g]": 86.84536975449384,
         "_deepnote_index_column": "pretest_98"
        },
        {
         "CO2_working_capacity [mL/g]": 174.3467959662374,
         "_deepnote_index_column": "pretest_99"
        },
        {
         "CO2_working_capacity [mL/g]": 70.8997077236896,
         "_deepnote_index_column": "pretest_100"
        },
        {
         "CO2_working_capacity [mL/g]": 78.62199987247502,
         "_deepnote_index_column": "pretest_101"
        },
        {
         "CO2_working_capacity [mL/g]": 98.38727733384465,
         "_deepnote_index_column": "pretest_102"
        },
        {
         "CO2_working_capacity [mL/g]": 94.23883816207561,
         "_deepnote_index_column": "pretest_103"
        },
        {
         "CO2_working_capacity [mL/g]": 123.1877813591694,
         "_deepnote_index_column": "pretest_104"
        },
        {
         "CO2_working_capacity [mL/g]": 81.25951253943022,
         "_deepnote_index_column": "pretest_105"
        },
        {
         "CO2_working_capacity [mL/g]": 99.33724039185373,
         "_deepnote_index_column": "pretest_106"
        },
        {
         "CO2_working_capacity [mL/g]": 98.2659612210009,
         "_deepnote_index_column": "pretest_107"
        },
        {
         "CO2_working_capacity [mL/g]": 225.32291246827208,
         "_deepnote_index_column": "pretest_108"
        },
        {
         "CO2_working_capacity [mL/g]": 74.13508148955924,
         "_deepnote_index_column": "pretest_109"
        },
        {
         "CO2_working_capacity [mL/g]": 95.82080570273328,
         "_deepnote_index_column": "pretest_110"
        },
        {
         "CO2_working_capacity [mL/g]": 83.38209147801103,
         "_deepnote_index_column": "pretest_111"
        },
        {
         "CO2_working_capacity [mL/g]": 141.2096217344037,
         "_deepnote_index_column": "pretest_112"
        },
        {
         "CO2_working_capacity [mL/g]": 220.39103089688496,
         "_deepnote_index_column": "pretest_113"
        },
        {
         "CO2_working_capacity [mL/g]": 77.1949818005213,
         "_deepnote_index_column": "pretest_114"
        },
        {
         "CO2_working_capacity [mL/g]": 104.10903725213299,
         "_deepnote_index_column": "pretest_115"
        },
        {
         "CO2_working_capacity [mL/g]": 31.68837662416481,
         "_deepnote_index_column": "pretest_116"
        },
        {
         "CO2_working_capacity [mL/g]": 115.49493903389393,
         "_deepnote_index_column": "pretest_117"
        },
        {
         "CO2_working_capacity [mL/g]": 115.11260460169974,
         "_deepnote_index_column": "pretest_118"
        },
        {
         "CO2_working_capacity [mL/g]": 278.8097226482112,
         "_deepnote_index_column": "pretest_119"
        },
        {
         "CO2_working_capacity [mL/g]": 118.95815143294237,
         "_deepnote_index_column": "pretest_120"
        },
        {
         "CO2_working_capacity [mL/g]": 69.12307573145964,
         "_deepnote_index_column": "pretest_121"
        },
        {
         "CO2_working_capacity [mL/g]": 126.0448255645534,
         "_deepnote_index_column": "pretest_122"
        },
        {
         "CO2_working_capacity [mL/g]": 117.05713230934325,
         "_deepnote_index_column": "pretest_123"
        },
        {
         "CO2_working_capacity [mL/g]": 110.69788525927052,
         "_deepnote_index_column": "pretest_124"
        },
        {
         "CO2_working_capacity [mL/g]": 172.86342771832008,
         "_deepnote_index_column": "pretest_125"
        },
        {
         "CO2_working_capacity [mL/g]": 50.78547231243944,
         "_deepnote_index_column": "pretest_126"
        },
        {
         "CO2_working_capacity [mL/g]": 144.77833058867708,
         "_deepnote_index_column": "pretest_127"
        },
        {
         "CO2_working_capacity [mL/g]": 167.5490556516239,
         "_deepnote_index_column": "pretest_128"
        },
        {
         "CO2_working_capacity [mL/g]": 70.47281755963631,
         "_deepnote_index_column": "pretest_129"
        },
        {
         "CO2_working_capacity [mL/g]": 142.87136075450758,
         "_deepnote_index_column": "pretest_130"
        },
        {
         "CO2_working_capacity [mL/g]": 192.8562414468699,
         "_deepnote_index_column": "pretest_131"
        },
        {
         "CO2_working_capacity [mL/g]": 63.238821885038945,
         "_deepnote_index_column": "pretest_132"
        },
        {
         "CO2_working_capacity [mL/g]": 294.066237589238,
         "_deepnote_index_column": "pretest_133"
        },
        {
         "CO2_working_capacity [mL/g]": 81.26630032627938,
         "_deepnote_index_column": "pretest_134"
        },
        {
         "CO2_working_capacity [mL/g]": 230.40798076060392,
         "_deepnote_index_column": "pretest_135"
        },
        {
         "CO2_working_capacity [mL/g]": 230.9886381714517,
         "_deepnote_index_column": "pretest_136"
        },
        {
         "CO2_working_capacity [mL/g]": 210.0913664137865,
         "_deepnote_index_column": "pretest_137"
        },
        {
         "CO2_working_capacity [mL/g]": 140.5876549959858,
         "_deepnote_index_column": "pretest_138"
        },
        {
         "CO2_working_capacity [mL/g]": 84.59360003757686,
         "_deepnote_index_column": "pretest_139"
        },
        {
         "CO2_working_capacity [mL/g]": 66.77049683283226,
         "_deepnote_index_column": "pretest_140"
        },
        {
         "CO2_working_capacity [mL/g]": 114.3381952033834,
         "_deepnote_index_column": "pretest_141"
        },
        {
         "CO2_working_capacity [mL/g]": 66.77669343143657,
         "_deepnote_index_column": "pretest_142"
        },
        {
         "CO2_working_capacity [mL/g]": 80.80397443692469,
         "_deepnote_index_column": "pretest_143"
        },
        {
         "CO2_working_capacity [mL/g]": 81.20173245043979,
         "_deepnote_index_column": "pretest_144"
        },
        {
         "CO2_working_capacity [mL/g]": 63.00066857562423,
         "_deepnote_index_column": "pretest_145"
        },
        {
         "CO2_working_capacity [mL/g]": 91.39967471450738,
         "_deepnote_index_column": "pretest_146"
        },
        {
         "CO2_working_capacity [mL/g]": 93.10292456565573,
         "_deepnote_index_column": "pretest_147"
        },
        {
         "CO2_working_capacity [mL/g]": 190.3710169780489,
         "_deepnote_index_column": "pretest_148"
        },
        {
         "CO2_working_capacity [mL/g]": 136.95334327865365,
         "_deepnote_index_column": "pretest_149"
        },
        {
         "CO2_working_capacity [mL/g]": 133.1982155756557,
         "_deepnote_index_column": "pretest_150"
        },
        {
         "CO2_working_capacity [mL/g]": 71.91343100665381,
         "_deepnote_index_column": "pretest_151"
        },
        {
         "CO2_working_capacity [mL/g]": 162.9308801813154,
         "_deepnote_index_column": "pretest_152"
        },
        {
         "CO2_working_capacity [mL/g]": 93.44139020708587,
         "_deepnote_index_column": "pretest_153"
        },
        {
         "CO2_working_capacity [mL/g]": 80.79258101502116,
         "_deepnote_index_column": "pretest_154"
        },
        {
         "CO2_working_capacity [mL/g]": 481.02041355409347,
         "_deepnote_index_column": "pretest_155"
        },
        {
         "CO2_working_capacity [mL/g]": 251.7994371628876,
         "_deepnote_index_column": "pretest_156"
        },
        {
         "CO2_working_capacity [mL/g]": 72.70793374544331,
         "_deepnote_index_column": "pretest_157"
        },
        {
         "CO2_working_capacity [mL/g]": 85.859435547564,
         "_deepnote_index_column": "pretest_158"
        },
        {
         "CO2_working_capacity [mL/g]": 110.8061107903857,
         "_deepnote_index_column": "pretest_159"
        },
        {
         "CO2_working_capacity [mL/g]": 209.64237696260307,
         "_deepnote_index_column": "pretest_160"
        },
        {
         "CO2_working_capacity [mL/g]": 155.0811033305265,
         "_deepnote_index_column": "pretest_161"
        },
        {
         "CO2_working_capacity [mL/g]": 86.92290444291343,
         "_deepnote_index_column": "pretest_162"
        },
        {
         "CO2_working_capacity [mL/g]": 98.3180200285943,
         "_deepnote_index_column": "pretest_163"
        },
        {
         "CO2_working_capacity [mL/g]": 102.48049639585206,
         "_deepnote_index_column": "pretest_164"
        },
        {
         "CO2_working_capacity [mL/g]": 111.03150958529432,
         "_deepnote_index_column": "pretest_165"
        },
        {
         "CO2_working_capacity [mL/g]": 259.4484291678066,
         "_deepnote_index_column": "pretest_166"
        },
        {
         "CO2_working_capacity [mL/g]": 336.4179140177556,
         "_deepnote_index_column": "pretest_167"
        },
        {
         "CO2_working_capacity [mL/g]": 233.42624129103987,
         "_deepnote_index_column": "pretest_168"
        },
        {
         "CO2_working_capacity [mL/g]": 87.45086843247668,
         "_deepnote_index_column": "pretest_169"
        },
        {
         "CO2_working_capacity [mL/g]": 265.88106255014793,
         "_deepnote_index_column": "pretest_170"
        },
        {
         "CO2_working_capacity [mL/g]": 199.4916788609748,
         "_deepnote_index_column": "pretest_171"
        },
        {
         "CO2_working_capacity [mL/g]": 108.20766453446291,
         "_deepnote_index_column": "pretest_172"
        },
        {
         "CO2_working_capacity [mL/g]": 81.50544516450097,
         "_deepnote_index_column": "pretest_173"
        },
        {
         "CO2_working_capacity [mL/g]": 139.67738008548596,
         "_deepnote_index_column": "pretest_174"
        },
        {
         "CO2_working_capacity [mL/g]": 192.58076739158756,
         "_deepnote_index_column": "pretest_175"
        },
        {
         "CO2_working_capacity [mL/g]": 114.8974653215624,
         "_deepnote_index_column": "pretest_176"
        },
        {
         "CO2_working_capacity [mL/g]": 84.13224212438361,
         "_deepnote_index_column": "pretest_177"
        },
        {
         "CO2_working_capacity [mL/g]": 56.28770015189565,
         "_deepnote_index_column": "pretest_178"
        },
        {
         "CO2_working_capacity [mL/g]": 167.02865729881321,
         "_deepnote_index_column": "pretest_179"
        },
        {
         "CO2_working_capacity [mL/g]": 86.86197607106014,
         "_deepnote_index_column": "pretest_180"
        },
        {
         "CO2_working_capacity [mL/g]": 84.34516216480654,
         "_deepnote_index_column": "pretest_181"
        },
        {
         "CO2_working_capacity [mL/g]": 57.90739755825118,
         "_deepnote_index_column": "pretest_182"
        },
        {
         "CO2_working_capacity [mL/g]": 97.8140214556551,
         "_deepnote_index_column": "pretest_183"
        },
        {
         "CO2_working_capacity [mL/g]": 146.1397723097557,
         "_deepnote_index_column": "pretest_184"
        },
        {
         "CO2_working_capacity [mL/g]": 93.81414804760394,
         "_deepnote_index_column": "pretest_185"
        },
        {
         "CO2_working_capacity [mL/g]": 83.94301779455108,
         "_deepnote_index_column": "pretest_186"
        },
        {
         "CO2_working_capacity [mL/g]": 90.43813272465812,
         "_deepnote_index_column": "pretest_187"
        },
        {
         "CO2_working_capacity [mL/g]": 63.00117406403062,
         "_deepnote_index_column": "pretest_188"
        },
        {
         "CO2_working_capacity [mL/g]": 112.48161196677465,
         "_deepnote_index_column": "pretest_189"
        },
        {
         "CO2_working_capacity [mL/g]": 119.34444255539447,
         "_deepnote_index_column": "pretest_190"
        },
        {
         "CO2_working_capacity [mL/g]": 88.47056948466809,
         "_deepnote_index_column": "pretest_191"
        },
        {
         "CO2_working_capacity [mL/g]": 76.25031042472735,
         "_deepnote_index_column": "pretest_192"
        },
        {
         "CO2_working_capacity [mL/g]": 83.80283091911254,
         "_deepnote_index_column": "pretest_193"
        },
        {
         "CO2_working_capacity [mL/g]": 122.25398255347439,
         "_deepnote_index_column": "pretest_194"
        },
        {
         "CO2_working_capacity [mL/g]": 130.01029019288825,
         "_deepnote_index_column": "pretest_195"
        },
        {
         "CO2_working_capacity [mL/g]": 69.0015572974105,
         "_deepnote_index_column": "pretest_196"
        },
        {
         "CO2_working_capacity [mL/g]": 213.29588834006896,
         "_deepnote_index_column": "pretest_197"
        },
        {
         "CO2_working_capacity [mL/g]": 31.04160566299945,
         "_deepnote_index_column": "pretest_198"
        },
        {
         "CO2_working_capacity [mL/g]": 60.53079534240643,
         "_deepnote_index_column": "pretest_199"
        },
        {
         "CO2_working_capacity [mL/g]": 111.8882885641937,
         "_deepnote_index_column": "pretest_200"
        },
        {
         "CO2_working_capacity [mL/g]": 119.27403052201335,
         "_deepnote_index_column": "pretest_201"
        },
        {
         "CO2_working_capacity [mL/g]": 150.39578182176894,
         "_deepnote_index_column": "pretest_202"
        },
        {
         "CO2_working_capacity [mL/g]": 31.328800431680804,
         "_deepnote_index_column": "pretest_203"
        },
        {
         "CO2_working_capacity [mL/g]": 68.08712630793586,
         "_deepnote_index_column": "pretest_204"
        },
        {
         "CO2_working_capacity [mL/g]": 129.3460807742909,
         "_deepnote_index_column": "pretest_205"
        },
        {
         "CO2_working_capacity [mL/g]": 97.45794142741435,
         "_deepnote_index_column": "pretest_206"
        },
        {
         "CO2_working_capacity [mL/g]": 62.64879699233228,
         "_deepnote_index_column": "pretest_207"
        },
        {
         "CO2_working_capacity [mL/g]": 173.98777703282752,
         "_deepnote_index_column": "pretest_208"
        },
        {
         "CO2_working_capacity [mL/g]": 77.61309893833102,
         "_deepnote_index_column": "pretest_209"
        },
        {
         "CO2_working_capacity [mL/g]": 171.23318440667518,
         "_deepnote_index_column": "pretest_210"
        },
        {
         "CO2_working_capacity [mL/g]": 63.30204904415907,
         "_deepnote_index_column": "pretest_211"
        },
        {
         "CO2_working_capacity [mL/g]": 121.7136119480665,
         "_deepnote_index_column": "pretest_212"
        },
        {
         "CO2_working_capacity [mL/g]": 185.39251460798636,
         "_deepnote_index_column": "pretest_213"
        },
        {
         "CO2_working_capacity [mL/g]": 121.38062277788228,
         "_deepnote_index_column": "pretest_214"
        },
        {
         "CO2_working_capacity [mL/g]": 89.40547345137645,
         "_deepnote_index_column": "pretest_215"
        },
        {
         "CO2_working_capacity [mL/g]": 112.13301314209744,
         "_deepnote_index_column": "pretest_216"
        },
        {
         "CO2_working_capacity [mL/g]": 88.4149278869048,
         "_deepnote_index_column": "pretest_217"
        },
        {
         "CO2_working_capacity [mL/g]": 100.09809705132425,
         "_deepnote_index_column": "pretest_218"
        },
        {
         "CO2_working_capacity [mL/g]": 158.90677733575808,
         "_deepnote_index_column": "pretest_219"
        },
        {
         "CO2_working_capacity [mL/g]": 72.35058690860458,
         "_deepnote_index_column": "pretest_220"
        },
        {
         "CO2_working_capacity [mL/g]": 93.06930601982424,
         "_deepnote_index_column": "pretest_221"
        },
        {
         "CO2_working_capacity [mL/g]": 199.75991629967433,
         "_deepnote_index_column": "pretest_222"
        },
        {
         "CO2_working_capacity [mL/g]": 100.64443150672496,
         "_deepnote_index_column": "pretest_223"
        },
        {
         "CO2_working_capacity [mL/g]": 96.00792585102867,
         "_deepnote_index_column": "pretest_224"
        },
        {
         "CO2_working_capacity [mL/g]": 75.65666826351014,
         "_deepnote_index_column": "pretest_225"
        },
        {
         "CO2_working_capacity [mL/g]": 131.10707090219927,
         "_deepnote_index_column": "pretest_226"
        },
        {
         "CO2_working_capacity [mL/g]": 106.5821519943948,
         "_deepnote_index_column": "pretest_227"
        },
        {
         "CO2_working_capacity [mL/g]": 79.67790626016408,
         "_deepnote_index_column": "pretest_228"
        },
        {
         "CO2_working_capacity [mL/g]": 274.7632719042246,
         "_deepnote_index_column": "pretest_229"
        },
        {
         "CO2_working_capacity [mL/g]": 175.16141243591127,
         "_deepnote_index_column": "pretest_230"
        },
        {
         "CO2_working_capacity [mL/g]": 75.91791941200184,
         "_deepnote_index_column": "pretest_231"
        },
        {
         "CO2_working_capacity [mL/g]": 99.67820647961774,
         "_deepnote_index_column": "pretest_232"
        },
        {
         "CO2_working_capacity [mL/g]": 74.65191781829915,
         "_deepnote_index_column": "pretest_233"
        },
        {
         "CO2_working_capacity [mL/g]": 77.14633599038973,
         "_deepnote_index_column": "pretest_234"
        },
        {
         "CO2_working_capacity [mL/g]": 105.4658230862276,
         "_deepnote_index_column": "pretest_235"
        },
        {
         "CO2_working_capacity [mL/g]": 208.09133804095987,
         "_deepnote_index_column": "pretest_236"
        },
        {
         "CO2_working_capacity [mL/g]": 96.95963999277338,
         "_deepnote_index_column": "pretest_237"
        },
        {
         "CO2_working_capacity [mL/g]": 69.23892726245988,
         "_deepnote_index_column": "pretest_238"
        },
        {
         "CO2_working_capacity [mL/g]": 153.74225672576546,
         "_deepnote_index_column": "pretest_239"
        },
        {
         "CO2_working_capacity [mL/g]": 122.69158162015887,
         "_deepnote_index_column": "pretest_240"
        },
        {
         "CO2_working_capacity [mL/g]": 96.46641583178419,
         "_deepnote_index_column": "pretest_241"
        },
        {
         "CO2_working_capacity [mL/g]": 180.9891750000425,
         "_deepnote_index_column": "pretest_242"
        },
        {
         "CO2_working_capacity [mL/g]": 208.97814931035555,
         "_deepnote_index_column": "pretest_243"
        },
        {
         "CO2_working_capacity [mL/g]": 82.63599473169525,
         "_deepnote_index_column": "pretest_244"
        },
        {
         "CO2_working_capacity [mL/g]": 110.35539253083603,
         "_deepnote_index_column": "pretest_245"
        },
        {
         "CO2_working_capacity [mL/g]": 64.08047198508169,
         "_deepnote_index_column": "pretest_246"
        },
        {
         "CO2_working_capacity [mL/g]": 88.83477404582935,
         "_deepnote_index_column": "pretest_247"
        },
        {
         "CO2_working_capacity [mL/g]": 72.76974505077075,
         "_deepnote_index_column": "pretest_248"
        },
        {
         "CO2_working_capacity [mL/g]": 191.21257419022166,
         "_deepnote_index_column": "pretest_249"
        },
        {
         "CO2_working_capacity [mL/g]": 137.63735825242694,
         "_deepnote_index_column": "pretest_250"
        },
        {
         "CO2_working_capacity [mL/g]": 124.21382864347743,
         "_deepnote_index_column": "pretest_251"
        },
        {
         "CO2_working_capacity [mL/g]": 305.402968338882,
         "_deepnote_index_column": "pretest_252"
        },
        {
         "CO2_working_capacity [mL/g]": 274.52682452169563,
         "_deepnote_index_column": "pretest_253"
        },
        {
         "CO2_working_capacity [mL/g]": 202.90096349281902,
         "_deepnote_index_column": "pretest_254"
        },
        {
         "CO2_working_capacity [mL/g]": 281.3150133446455,
         "_deepnote_index_column": "pretest_255"
        },
        {
         "CO2_working_capacity [mL/g]": 265.49817417109205,
         "_deepnote_index_column": "pretest_256"
        },
        {
         "CO2_working_capacity [mL/g]": 147.1228969951223,
         "_deepnote_index_column": "pretest_257"
        },
        {
         "CO2_working_capacity [mL/g]": 138.05637296488953,
         "_deepnote_index_column": "pretest_258"
        },
        {
         "CO2_working_capacity [mL/g]": 390.46879448284255,
         "_deepnote_index_column": "pretest_259"
        },
        {
         "CO2_working_capacity [mL/g]": 186.88521762916122,
         "_deepnote_index_column": "pretest_260"
        },
        {
         "CO2_working_capacity [mL/g]": 74.43034014607528,
         "_deepnote_index_column": "pretest_261"
        },
        {
         "CO2_working_capacity [mL/g]": 70.28624203889039,
         "_deepnote_index_column": "pretest_262"
        },
        {
         "CO2_working_capacity [mL/g]": 170.21387951352497,
         "_deepnote_index_column": "pretest_263"
        },
        {
         "CO2_working_capacity [mL/g]": 106.0054116582113,
         "_deepnote_index_column": "pretest_264"
        },
        {
         "CO2_working_capacity [mL/g]": 189.3857939894424,
         "_deepnote_index_column": "pretest_265"
        },
        {
         "CO2_working_capacity [mL/g]": 105.02140065974527,
         "_deepnote_index_column": "pretest_266"
        },
        {
         "CO2_working_capacity [mL/g]": 245.81568593233433,
         "_deepnote_index_column": "pretest_267"
        },
        {
         "CO2_working_capacity [mL/g]": 71.70275424782622,
         "_deepnote_index_column": "pretest_268"
        },
        {
         "CO2_working_capacity [mL/g]": 64.05730154072708,
         "_deepnote_index_column": "pretest_269"
        },
        {
         "CO2_working_capacity [mL/g]": 125.44053990558055,
         "_deepnote_index_column": "pretest_270"
        },
        {
         "CO2_working_capacity [mL/g]": 103.90402070810546,
         "_deepnote_index_column": "pretest_271"
        },
        {
         "CO2_working_capacity [mL/g]": 112.93619294678213,
         "_deepnote_index_column": "pretest_272"
        },
        {
         "CO2_working_capacity [mL/g]": 107.23647489344683,
         "_deepnote_index_column": "pretest_273"
        },
        {
         "CO2_working_capacity [mL/g]": 52.88072834886468,
         "_deepnote_index_column": "pretest_274"
        },
        {
         "CO2_working_capacity [mL/g]": 79.52360872725691,
         "_deepnote_index_column": "pretest_275"
        },
        {
         "CO2_working_capacity [mL/g]": 141.48900418497976,
         "_deepnote_index_column": "pretest_276"
        },
        {
         "CO2_working_capacity [mL/g]": 76.38882729763824,
         "_deepnote_index_column": "pretest_277"
        },
        {
         "CO2_working_capacity [mL/g]": 147.07200795758385,
         "_deepnote_index_column": "pretest_278"
        },
        {
         "CO2_working_capacity [mL/g]": 229.43841602892445,
         "_deepnote_index_column": "pretest_279"
        },
        {
         "CO2_working_capacity [mL/g]": 86.84373952619248,
         "_deepnote_index_column": "pretest_280"
        },
        {
         "CO2_working_capacity [mL/g]": 409.45335236299076,
         "_deepnote_index_column": "pretest_281"
        },
        {
         "CO2_working_capacity [mL/g]": 148.54807000064426,
         "_deepnote_index_column": "pretest_282"
        },
        {
         "CO2_working_capacity [mL/g]": 178.38626602346582,
         "_deepnote_index_column": "pretest_283"
        },
        {
         "CO2_working_capacity [mL/g]": 109.14851361032049,
         "_deepnote_index_column": "pretest_284"
        },
        {
         "CO2_working_capacity [mL/g]": 99.99231014733452,
         "_deepnote_index_column": "pretest_285"
        },
        {
         "CO2_working_capacity [mL/g]": 72.96714278845677,
         "_deepnote_index_column": "pretest_286"
        },
        {
         "CO2_working_capacity [mL/g]": 150.59130010954723,
         "_deepnote_index_column": "pretest_287"
        },
        {
         "CO2_working_capacity [mL/g]": 50.673673466404125,
         "_deepnote_index_column": "pretest_288"
        },
        {
         "CO2_working_capacity [mL/g]": 136.54985659552113,
         "_deepnote_index_column": "pretest_289"
        },
        {
         "CO2_working_capacity [mL/g]": 199.41750409936245,
         "_deepnote_index_column": "pretest_290"
        },
        {
         "CO2_working_capacity [mL/g]": 182.25332200973463,
         "_deepnote_index_column": "pretest_291"
        },
        {
         "CO2_working_capacity [mL/g]": 185.49719360941782,
         "_deepnote_index_column": "pretest_292"
        },
        {
         "CO2_working_capacity [mL/g]": 90.72941262312675,
         "_deepnote_index_column": "pretest_293"
        },
        {
         "CO2_working_capacity [mL/g]": 285.7315448716601,
         "_deepnote_index_column": "pretest_294"
        },
        {
         "CO2_working_capacity [mL/g]": 69.20511160393855,
         "_deepnote_index_column": "pretest_295"
        },
        {
         "CO2_working_capacity [mL/g]": 325.05879747503616,
         "_deepnote_index_column": "pretest_296"
        },
        {
         "CO2_working_capacity [mL/g]": 72.31954593754713,
         "_deepnote_index_column": "pretest_297"
        },
        {
         "CO2_working_capacity [mL/g]": 161.08697518344178,
         "_deepnote_index_column": "pretest_298"
        },
        {
         "CO2_working_capacity [mL/g]": 204.97253281421405,
         "_deepnote_index_column": "pretest_299"
        },
        {
         "CO2_working_capacity [mL/g]": 47.706994777560695,
         "_deepnote_index_column": "pretest_300"
        },
        {
         "CO2_working_capacity [mL/g]": 176.80197436560138,
         "_deepnote_index_column": "pretest_301"
        },
        {
         "CO2_working_capacity [mL/g]": 111.66667746806404,
         "_deepnote_index_column": "pretest_302"
        },
        {
         "CO2_working_capacity [mL/g]": 81.83238297454486,
         "_deepnote_index_column": "pretest_303"
        },
        {
         "CO2_working_capacity [mL/g]": 315.5399066096919,
         "_deepnote_index_column": "pretest_304"
        },
        {
         "CO2_working_capacity [mL/g]": 112.11166028612031,
         "_deepnote_index_column": "pretest_305"
        },
        {
         "CO2_working_capacity [mL/g]": 224.42324029648188,
         "_deepnote_index_column": "pretest_306"
        },
        {
         "CO2_working_capacity [mL/g]": 49.9482556070373,
         "_deepnote_index_column": "pretest_307"
        },
        {
         "CO2_working_capacity [mL/g]": 107.5131757852826,
         "_deepnote_index_column": "pretest_308"
        },
        {
         "CO2_working_capacity [mL/g]": 159.90813326612937,
         "_deepnote_index_column": "pretest_309"
        },
        {
         "CO2_working_capacity [mL/g]": 120.34076962554987,
         "_deepnote_index_column": "pretest_310"
        },
        {
         "CO2_working_capacity [mL/g]": 114.81516501360281,
         "_deepnote_index_column": "pretest_311"
        },
        {
         "CO2_working_capacity [mL/g]": 60.27713217602451,
         "_deepnote_index_column": "pretest_312"
        },
        {
         "CO2_working_capacity [mL/g]": 108.85435824648823,
         "_deepnote_index_column": "pretest_313"
        },
        {
         "CO2_working_capacity [mL/g]": 81.25621513237414,
         "_deepnote_index_column": "pretest_314"
        },
        {
         "CO2_working_capacity [mL/g]": 197.0344278402876,
         "_deepnote_index_column": "pretest_315"
        },
        {
         "CO2_working_capacity [mL/g]": 128.242124791623,
         "_deepnote_index_column": "pretest_316"
        },
        {
         "CO2_working_capacity [mL/g]": 93.36020659221164,
         "_deepnote_index_column": "pretest_317"
        },
        {
         "CO2_working_capacity [mL/g]": 89.02463888155435,
         "_deepnote_index_column": "pretest_318"
        },
        {
         "CO2_working_capacity [mL/g]": 84.60181062336363,
         "_deepnote_index_column": "pretest_319"
        },
        {
         "CO2_working_capacity [mL/g]": 165.85704064633674,
         "_deepnote_index_column": "pretest_320"
        },
        {
         "CO2_working_capacity [mL/g]": 124.46597256951164,
         "_deepnote_index_column": "pretest_321"
        },
        {
         "CO2_working_capacity [mL/g]": 93.88620985646614,
         "_deepnote_index_column": "pretest_322"
        },
        {
         "CO2_working_capacity [mL/g]": 136.53011189989454,
         "_deepnote_index_column": "pretest_323"
        },
        {
         "CO2_working_capacity [mL/g]": 77.40266555949195,
         "_deepnote_index_column": "pretest_324"
        },
        {
         "CO2_working_capacity [mL/g]": 125.34279350415277,
         "_deepnote_index_column": "pretest_325"
        },
        {
         "CO2_working_capacity [mL/g]": 144.2472592927553,
         "_deepnote_index_column": "pretest_326"
        },
        {
         "CO2_working_capacity [mL/g]": 126.8445184021075,
         "_deepnote_index_column": "pretest_327"
        },
        {
         "CO2_working_capacity [mL/g]": 65.20426139186031,
         "_deepnote_index_column": "pretest_328"
        },
        {
         "CO2_working_capacity [mL/g]": 75.01010713443307,
         "_deepnote_index_column": "pretest_329"
        },
        {
         "CO2_working_capacity [mL/g]": 64.52495492577972,
         "_deepnote_index_column": "pretest_330"
        },
        {
         "CO2_working_capacity [mL/g]": 195.99598586036683,
         "_deepnote_index_column": "pretest_331"
        },
        {
         "CO2_working_capacity [mL/g]": 142.1494456952697,
         "_deepnote_index_column": "pretest_332"
        },
        {
         "CO2_working_capacity [mL/g]": 107.4789968271804,
         "_deepnote_index_column": "pretest_333"
        },
        {
         "CO2_working_capacity [mL/g]": 69.90143616120397,
         "_deepnote_index_column": "pretest_334"
        },
        {
         "CO2_working_capacity [mL/g]": 94.8320764836612,
         "_deepnote_index_column": "pretest_335"
        },
        {
         "CO2_working_capacity [mL/g]": 127.31455890378228,
         "_deepnote_index_column": "pretest_336"
        },
        {
         "CO2_working_capacity [mL/g]": 102.12496544800035,
         "_deepnote_index_column": "pretest_337"
        },
        {
         "CO2_working_capacity [mL/g]": 239.61240737748275,
         "_deepnote_index_column": "pretest_338"
        },
        {
         "CO2_working_capacity [mL/g]": 474.41727090133054,
         "_deepnote_index_column": "pretest_339"
        },
        {
         "CO2_working_capacity [mL/g]": 185.99191231625898,
         "_deepnote_index_column": "pretest_340"
        },
        {
         "CO2_working_capacity [mL/g]": 70.25544248691526,
         "_deepnote_index_column": "pretest_341"
        },
        {
         "CO2_working_capacity [mL/g]": 78.16512385503931,
         "_deepnote_index_column": "pretest_342"
        },
        {
         "CO2_working_capacity [mL/g]": 123.68726149004802,
         "_deepnote_index_column": "pretest_343"
        },
        {
         "CO2_working_capacity [mL/g]": 166.95755910791507,
         "_deepnote_index_column": "pretest_344"
        },
        {
         "CO2_working_capacity [mL/g]": 422.7336927364423,
         "_deepnote_index_column": "pretest_345"
        },
        {
         "CO2_working_capacity [mL/g]": 154.60553952290815,
         "_deepnote_index_column": "pretest_346"
        },
        {
         "CO2_working_capacity [mL/g]": 213.61724746912355,
         "_deepnote_index_column": "pretest_347"
        },
        {
         "CO2_working_capacity [mL/g]": 286.06654557171,
         "_deepnote_index_column": "pretest_348"
        },
        {
         "CO2_working_capacity [mL/g]": 75.94002080080979,
         "_deepnote_index_column": "pretest_349"
        },
        {
         "CO2_working_capacity [mL/g]": 246.11970092179345,
         "_deepnote_index_column": "pretest_350"
        },
        {
         "CO2_working_capacity [mL/g]": 82.3149259848424,
         "_deepnote_index_column": "pretest_351"
        },
        {
         "CO2_working_capacity [mL/g]": 71.86171065769103,
         "_deepnote_index_column": "pretest_352"
        },
        {
         "CO2_working_capacity [mL/g]": 94.9115474731928,
         "_deepnote_index_column": "pretest_353"
        },
        {
         "CO2_working_capacity [mL/g]": 97.17022945888851,
         "_deepnote_index_column": "pretest_354"
        },
        {
         "CO2_working_capacity [mL/g]": 64.50905381183668,
         "_deepnote_index_column": "pretest_355"
        },
        {
         "CO2_working_capacity [mL/g]": 137.97578843427473,
         "_deepnote_index_column": "pretest_356"
        },
        {
         "CO2_working_capacity [mL/g]": 180.07770575363884,
         "_deepnote_index_column": "pretest_357"
        },
        {
         "CO2_working_capacity [mL/g]": 84.52605499956383,
         "_deepnote_index_column": "pretest_358"
        },
        {
         "CO2_working_capacity [mL/g]": 74.40329070250823,
         "_deepnote_index_column": "pretest_359"
        },
        {
         "CO2_working_capacity [mL/g]": 521.7372345889822,
         "_deepnote_index_column": "pretest_360"
        },
        {
         "CO2_working_capacity [mL/g]": 88.48500285512873,
         "_deepnote_index_column": "pretest_361"
        },
        {
         "CO2_working_capacity [mL/g]": 59.95310354775761,
         "_deepnote_index_column": "pretest_362"
        },
        {
         "CO2_working_capacity [mL/g]": 277.85253324076416,
         "_deepnote_index_column": "pretest_363"
        },
        {
         "CO2_working_capacity [mL/g]": 87.80745201850888,
         "_deepnote_index_column": "pretest_364"
        },
        {
         "CO2_working_capacity [mL/g]": 97.75898757500012,
         "_deepnote_index_column": "pretest_365"
        },
        {
         "CO2_working_capacity [mL/g]": 201.25205549089486,
         "_deepnote_index_column": "pretest_366"
        },
        {
         "CO2_working_capacity [mL/g]": 416.46280012742864,
         "_deepnote_index_column": "pretest_367"
        },
        {
         "CO2_working_capacity [mL/g]": 246.78594569040288,
         "_deepnote_index_column": "pretest_368"
        },
        {
         "CO2_working_capacity [mL/g]": 77.661804529233,
         "_deepnote_index_column": "pretest_369"
        },
        {
         "CO2_working_capacity [mL/g]": 298.7272032140274,
         "_deepnote_index_column": "pretest_370"
        },
        {
         "CO2_working_capacity [mL/g]": 180.72782852891902,
         "_deepnote_index_column": "pretest_371"
        },
        {
         "CO2_working_capacity [mL/g]": 120.71999458687318,
         "_deepnote_index_column": "pretest_372"
        },
        {
         "CO2_working_capacity [mL/g]": 277.05248496875674,
         "_deepnote_index_column": "pretest_373"
        },
        {
         "CO2_working_capacity [mL/g]": 102.7804138483115,
         "_deepnote_index_column": "pretest_374"
        },
        {
         "CO2_working_capacity [mL/g]": 56.56444001046119,
         "_deepnote_index_column": "pretest_375"
        },
        {
         "CO2_working_capacity [mL/g]": 98.18795076044827,
         "_deepnote_index_column": "pretest_376"
        },
        {
         "CO2_working_capacity [mL/g]": 161.29999365089296,
         "_deepnote_index_column": "pretest_377"
        },
        {
         "CO2_working_capacity [mL/g]": 266.779086150303,
         "_deepnote_index_column": "pretest_378"
        },
        {
         "CO2_working_capacity [mL/g]": 53.01505968724571,
         "_deepnote_index_column": "pretest_379"
        },
        {
         "CO2_working_capacity [mL/g]": 162.50106833605923,
         "_deepnote_index_column": "pretest_380"
        },
        {
         "CO2_working_capacity [mL/g]": 47.10228811050426,
         "_deepnote_index_column": "pretest_381"
        },
        {
         "CO2_working_capacity [mL/g]": 255.36536105845752,
         "_deepnote_index_column": "pretest_382"
        },
        {
         "CO2_working_capacity [mL/g]": 343.9943761377976,
         "_deepnote_index_column": "pretest_383"
        },
        {
         "CO2_working_capacity [mL/g]": 114.89113561945423,
         "_deepnote_index_column": "pretest_384"
        },
        {
         "CO2_working_capacity [mL/g]": 81.02057403384566,
         "_deepnote_index_column": "pretest_385"
        },
        {
         "CO2_working_capacity [mL/g]": 75.68919465729304,
         "_deepnote_index_column": "pretest_386"
        },
        {
         "CO2_working_capacity [mL/g]": 178.01494839595443,
         "_deepnote_index_column": "pretest_387"
        },
        {
         "CO2_working_capacity [mL/g]": 193.0835151336187,
         "_deepnote_index_column": "pretest_388"
        },
        {
         "CO2_working_capacity [mL/g]": 199.03862629331644,
         "_deepnote_index_column": "pretest_389"
        },
        {
         "CO2_working_capacity [mL/g]": 109.57201543904948,
         "_deepnote_index_column": "pretest_390"
        },
        {
         "CO2_working_capacity [mL/g]": 75.41289501862312,
         "_deepnote_index_column": "pretest_391"
        },
        {
         "CO2_working_capacity [mL/g]": 86.22222730577536,
         "_deepnote_index_column": "pretest_392"
        },
        {
         "CO2_working_capacity [mL/g]": 217.37866377148703,
         "_deepnote_index_column": "pretest_393"
        },
        {
         "CO2_working_capacity [mL/g]": 220.4560570462222,
         "_deepnote_index_column": "pretest_394"
        },
        {
         "CO2_working_capacity [mL/g]": 236.02797814059983,
         "_deepnote_index_column": "pretest_395"
        },
        {
         "CO2_working_capacity [mL/g]": 83.51558800278306,
         "_deepnote_index_column": "pretest_396"
        },
        {
         "CO2_working_capacity [mL/g]": 101.09153149953595,
         "_deepnote_index_column": "pretest_397"
        },
        {
         "CO2_working_capacity [mL/g]": 208.00482354275732,
         "_deepnote_index_column": "pretest_398"
        },
        {
         "CO2_working_capacity [mL/g]": 106.10644332897316,
         "_deepnote_index_column": "pretest_399"
        },
        {
         "CO2_working_capacity [mL/g]": 165.0943337176739,
         "_deepnote_index_column": "pretest_400"
        },
        {
         "CO2_working_capacity [mL/g]": 113.25024874990272,
         "_deepnote_index_column": "pretest_401"
        },
        {
         "CO2_working_capacity [mL/g]": 78.44180577454605,
         "_deepnote_index_column": "pretest_402"
        },
        {
         "CO2_working_capacity [mL/g]": 80.67967321634535,
         "_deepnote_index_column": "pretest_403"
        },
        {
         "CO2_working_capacity [mL/g]": 81.5984078874416,
         "_deepnote_index_column": "pretest_404"
        },
        {
         "CO2_working_capacity [mL/g]": 200.91404130248878,
         "_deepnote_index_column": "pretest_405"
        },
        {
         "CO2_working_capacity [mL/g]": 74.8824713396126,
         "_deepnote_index_column": "pretest_406"
        },
        {
         "CO2_working_capacity [mL/g]": 122.53067756517278,
         "_deepnote_index_column": "pretest_407"
        },
        {
         "CO2_working_capacity [mL/g]": 101.42064437529594,
         "_deepnote_index_column": "pretest_408"
        },
        {
         "CO2_working_capacity [mL/g]": 63.18800356096186,
         "_deepnote_index_column": "pretest_409"
        },
        {
         "CO2_working_capacity [mL/g]": 92.29969459710514,
         "_deepnote_index_column": "pretest_410"
        },
        {
         "CO2_working_capacity [mL/g]": 311.8561406156752,
         "_deepnote_index_column": "pretest_411"
        },
        {
         "CO2_working_capacity [mL/g]": 97.07857032149553,
         "_deepnote_index_column": "pretest_412"
        },
        {
         "CO2_working_capacity [mL/g]": 135.14228135810677,
         "_deepnote_index_column": "pretest_413"
        },
        {
         "CO2_working_capacity [mL/g]": 161.38073533006173,
         "_deepnote_index_column": "pretest_414"
        },
        {
         "CO2_working_capacity [mL/g]": 146.29393016565888,
         "_deepnote_index_column": "pretest_415"
        },
        {
         "CO2_working_capacity [mL/g]": 79.50284250027633,
         "_deepnote_index_column": "pretest_416"
        },
        {
         "CO2_working_capacity [mL/g]": 93.6355637702555,
         "_deepnote_index_column": "pretest_417"
        },
        {
         "CO2_working_capacity [mL/g]": 211.5296709729242,
         "_deepnote_index_column": "pretest_418"
        },
        {
         "CO2_working_capacity [mL/g]": 219.2223522965531,
         "_deepnote_index_column": "pretest_419"
        },
        {
         "CO2_working_capacity [mL/g]": 92.62866264950978,
         "_deepnote_index_column": "pretest_420"
        },
        {
         "CO2_working_capacity [mL/g]": 62.72121567961559,
         "_deepnote_index_column": "pretest_421"
        },
        {
         "CO2_working_capacity [mL/g]": 101.84357828122042,
         "_deepnote_index_column": "pretest_422"
        },
        {
         "CO2_working_capacity [mL/g]": 80.53781122434046,
         "_deepnote_index_column": "pretest_423"
        },
        {
         "CO2_working_capacity [mL/g]": 247.64276444429152,
         "_deepnote_index_column": "pretest_424"
        },
        {
         "CO2_working_capacity [mL/g]": 310.27152030410537,
         "_deepnote_index_column": "pretest_425"
        },
        {
         "CO2_working_capacity [mL/g]": 78.07648303024604,
         "_deepnote_index_column": "pretest_426"
        },
        {
         "CO2_working_capacity [mL/g]": 90.14806181220699,
         "_deepnote_index_column": "pretest_427"
        },
        {
         "CO2_working_capacity [mL/g]": 158.4314874479704,
         "_deepnote_index_column": "pretest_428"
        },
        {
         "CO2_working_capacity [mL/g]": 184.94510235501247,
         "_deepnote_index_column": "pretest_429"
        },
        {
         "CO2_working_capacity [mL/g]": 219.13222440253247,
         "_deepnote_index_column": "pretest_430"
        },
        {
         "CO2_working_capacity [mL/g]": 247.0724334852095,
         "_deepnote_index_column": "pretest_431"
        },
        {
         "CO2_working_capacity [mL/g]": 161.73187387921638,
         "_deepnote_index_column": "pretest_432"
        },
        {
         "CO2_working_capacity [mL/g]": 218.7208887465828,
         "_deepnote_index_column": "pretest_433"
        },
        {
         "CO2_working_capacity [mL/g]": 326.9269932426188,
         "_deepnote_index_column": "pretest_434"
        },
        {
         "CO2_working_capacity [mL/g]": 75.90463108788775,
         "_deepnote_index_column": "pretest_435"
        },
        {
         "CO2_working_capacity [mL/g]": 68.15652357714069,
         "_deepnote_index_column": "pretest_436"
        },
        {
         "CO2_working_capacity [mL/g]": 99.47151791052303,
         "_deepnote_index_column": "pretest_437"
        },
        {
         "CO2_working_capacity [mL/g]": 57.492924623862315,
         "_deepnote_index_column": "pretest_438"
        },
        {
         "CO2_working_capacity [mL/g]": 163.8564243115399,
         "_deepnote_index_column": "pretest_439"
        },
        {
         "CO2_working_capacity [mL/g]": 89.66677670985288,
         "_deepnote_index_column": "pretest_440"
        },
        {
         "CO2_working_capacity [mL/g]": 115.79099089346751,
         "_deepnote_index_column": "pretest_441"
        },
        {
         "CO2_working_capacity [mL/g]": 117.56656965485679,
         "_deepnote_index_column": "pretest_442"
        },
        {
         "CO2_working_capacity [mL/g]": 254.41756509116004,
         "_deepnote_index_column": "pretest_443"
        },
        {
         "CO2_working_capacity [mL/g]": 54.13442162756019,
         "_deepnote_index_column": "pretest_444"
        },
        {
         "CO2_working_capacity [mL/g]": 49.79483694017462,
         "_deepnote_index_column": "pretest_445"
        },
        {
         "CO2_working_capacity [mL/g]": 55.691414912603456,
         "_deepnote_index_column": "pretest_446"
        },
        {
         "CO2_working_capacity [mL/g]": 97.60920767807737,
         "_deepnote_index_column": "pretest_447"
        },
        {
         "CO2_working_capacity [mL/g]": 266.0249189996724,
         "_deepnote_index_column": "pretest_448"
        },
        {
         "CO2_working_capacity [mL/g]": 95.0705032805877,
         "_deepnote_index_column": "pretest_449"
        },
        {
         "CO2_working_capacity [mL/g]": 72.41629280440637,
         "_deepnote_index_column": "pretest_450"
        },
        {
         "CO2_working_capacity [mL/g]": 381.9408755399658,
         "_deepnote_index_column": "pretest_451"
        },
        {
         "CO2_working_capacity [mL/g]": 70.35527828383292,
         "_deepnote_index_column": "pretest_452"
        },
        {
         "CO2_working_capacity [mL/g]": 82.35649637804549,
         "_deepnote_index_column": "pretest_453"
        },
        {
         "CO2_working_capacity [mL/g]": 83.63632050428365,
         "_deepnote_index_column": "pretest_454"
        },
        {
         "CO2_working_capacity [mL/g]": 137.4129729693156,
         "_deepnote_index_column": "pretest_455"
        },
        {
         "CO2_working_capacity [mL/g]": 60.10212598209606,
         "_deepnote_index_column": "pretest_456"
        },
        {
         "CO2_working_capacity [mL/g]": 99.41420504638576,
         "_deepnote_index_column": "pretest_457"
        },
        {
         "CO2_working_capacity [mL/g]": 296.34538189842215,
         "_deepnote_index_column": "pretest_458"
        },
        {
         "CO2_working_capacity [mL/g]": 93.4866683014882,
         "_deepnote_index_column": "pretest_459"
        },
        {
         "CO2_working_capacity [mL/g]": 153.18526130817318,
         "_deepnote_index_column": "pretest_460"
        },
        {
         "CO2_working_capacity [mL/g]": 84.56310376452167,
         "_deepnote_index_column": "pretest_461"
        },
        {
         "CO2_working_capacity [mL/g]": 315.577237198122,
         "_deepnote_index_column": "pretest_462"
        },
        {
         "CO2_working_capacity [mL/g]": 243.55101470132718,
         "_deepnote_index_column": "pretest_463"
        },
        {
         "CO2_working_capacity [mL/g]": 74.46087466849704,
         "_deepnote_index_column": "pretest_464"
        },
        {
         "CO2_working_capacity [mL/g]": 464.64418694966537,
         "_deepnote_index_column": "pretest_465"
        },
        {
         "CO2_working_capacity [mL/g]": 77.58293792818706,
         "_deepnote_index_column": "pretest_466"
        },
        {
         "CO2_working_capacity [mL/g]": 116.5616878093895,
         "_deepnote_index_column": "pretest_467"
        },
        {
         "CO2_working_capacity [mL/g]": 210.24312018233059,
         "_deepnote_index_column": "pretest_468"
        },
        {
         "CO2_working_capacity [mL/g]": 262.2966451700175,
         "_deepnote_index_column": "pretest_469"
        },
        {
         "CO2_working_capacity [mL/g]": 123.76517728816091,
         "_deepnote_index_column": "pretest_470"
        },
        {
         "CO2_working_capacity [mL/g]": 238.38754870838875,
         "_deepnote_index_column": "pretest_471"
        },
        {
         "CO2_working_capacity [mL/g]": 211.8176140716035,
         "_deepnote_index_column": "pretest_472"
        },
        {
         "CO2_working_capacity [mL/g]": 120.3430869166001,
         "_deepnote_index_column": "pretest_473"
        },
        {
         "CO2_working_capacity [mL/g]": 264.92549712009424,
         "_deepnote_index_column": "pretest_474"
        },
        {
         "CO2_working_capacity [mL/g]": 416.34624561535855,
         "_deepnote_index_column": "pretest_475"
        },
        {
         "CO2_working_capacity [mL/g]": 200.74774867031374,
         "_deepnote_index_column": "pretest_476"
        },
        {
         "CO2_working_capacity [mL/g]": 73.6440641128972,
         "_deepnote_index_column": "pretest_477"
        },
        {
         "CO2_working_capacity [mL/g]": 51.088298765691846,
         "_deepnote_index_column": "pretest_478"
        },
        {
         "CO2_working_capacity [mL/g]": 108.7750319832962,
         "_deepnote_index_column": "pretest_479"
        },
        {
         "CO2_working_capacity [mL/g]": 227.72845309495793,
         "_deepnote_index_column": "pretest_480"
        },
        {
         "CO2_working_capacity [mL/g]": 115.4856612187128,
         "_deepnote_index_column": "pretest_481"
        },
        {
         "CO2_working_capacity [mL/g]": 184.75883132857123,
         "_deepnote_index_column": "pretest_482"
        },
        {
         "CO2_working_capacity [mL/g]": 122.97936852787811,
         "_deepnote_index_column": "pretest_483"
        },
        {
         "CO2_working_capacity [mL/g]": 70.04209895608264,
         "_deepnote_index_column": "pretest_484"
        },
        {
         "CO2_working_capacity [mL/g]": 99.00901009571233,
         "_deepnote_index_column": "pretest_485"
        },
        {
         "CO2_working_capacity [mL/g]": 103.41372354368673,
         "_deepnote_index_column": "pretest_486"
        },
        {
         "CO2_working_capacity [mL/g]": 116.9594200144423,
         "_deepnote_index_column": "pretest_487"
        },
        {
         "CO2_working_capacity [mL/g]": 102.05661565851233,
         "_deepnote_index_column": "pretest_488"
        },
        {
         "CO2_working_capacity [mL/g]": 111.19316084324828,
         "_deepnote_index_column": "pretest_489"
        },
        {
         "CO2_working_capacity [mL/g]": 148.5320976400946,
         "_deepnote_index_column": "pretest_490"
        },
        {
         "CO2_working_capacity [mL/g]": 71.39848574867754,
         "_deepnote_index_column": "pretest_491"
        },
        {
         "CO2_working_capacity [mL/g]": 54.91983663894988,
         "_deepnote_index_column": "pretest_492"
        },
        {
         "CO2_working_capacity [mL/g]": 93.86878761747136,
         "_deepnote_index_column": "pretest_493"
        },
        {
         "CO2_working_capacity [mL/g]": 133.15795748527518,
         "_deepnote_index_column": "pretest_494"
        },
        {
         "CO2_working_capacity [mL/g]": 110.41450198995251,
         "_deepnote_index_column": "pretest_495"
        },
        {
         "CO2_working_capacity [mL/g]": 101.0604399173641,
         "_deepnote_index_column": "pretest_496"
        },
        {
         "CO2_working_capacity [mL/g]": 78.26545395452293,
         "_deepnote_index_column": "pretest_497"
        },
        {
         "CO2_working_capacity [mL/g]": 111.26014268123636,
         "_deepnote_index_column": "pretest_498"
        },
        {
         "CO2_working_capacity [mL/g]": 255.47787955943826,
         "_deepnote_index_column": "pretest_499"
        },
        {
         "CO2_working_capacity [mL/g]": 286.3145910910694,
         "_deepnote_index_column": "pretest_500"
        }
       ],
       "rows_bottom": [
        {
         "CO2_working_capacity [mL/g]": -2.700835599306811,
         "_deepnote_index_column": "pretest_1501"
        },
        {
         "CO2_working_capacity [mL/g]": -4.597305296655785,
         "_deepnote_index_column": "pretest_1502"
        },
        {
         "CO2_working_capacity [mL/g]": -6.840849655418415,
         "_deepnote_index_column": "pretest_1503"
        },
        {
         "CO2_working_capacity [mL/g]": 1.2433395085246786,
         "_deepnote_index_column": "pretest_1504"
        },
        {
         "CO2_working_capacity [mL/g]": -2.4854017495069143,
         "_deepnote_index_column": "pretest_1505"
        },
        {
         "CO2_working_capacity [mL/g]": -1.469208016859136,
         "_deepnote_index_column": "pretest_1506"
        },
        {
         "CO2_working_capacity [mL/g]": -4.390279177797805,
         "_deepnote_index_column": "pretest_1507"
        },
        {
         "CO2_working_capacity [mL/g]": -11.733540815294031,
         "_deepnote_index_column": "pretest_1508"
        },
        {
         "CO2_working_capacity [mL/g]": -3.376756796264817,
         "_deepnote_index_column": "pretest_1509"
        },
        {
         "CO2_working_capacity [mL/g]": 0.5391910110452528,
         "_deepnote_index_column": "pretest_1510"
        },
        {
         "CO2_working_capacity [mL/g]": 6.505583208051036,
         "_deepnote_index_column": "pretest_1511"
        },
        {
         "CO2_working_capacity [mL/g]": 6.609568093707509,
         "_deepnote_index_column": "pretest_1512"
        },
        {
         "CO2_working_capacity [mL/g]": 3.795866721800908,
         "_deepnote_index_column": "pretest_1513"
        },
        {
         "CO2_working_capacity [mL/g]": -8.411141462337929,
         "_deepnote_index_column": "pretest_1514"
        },
        {
         "CO2_working_capacity [mL/g]": 1.2885239678511085,
         "_deepnote_index_column": "pretest_1515"
        },
        {
         "CO2_working_capacity [mL/g]": -4.003528642981837,
         "_deepnote_index_column": "pretest_1516"
        },
        {
         "CO2_working_capacity [mL/g]": -8.93907339822069,
         "_deepnote_index_column": "pretest_1517"
        },
        {
         "CO2_working_capacity [mL/g]": 29.07373924394172,
         "_deepnote_index_column": "pretest_1518"
        },
        {
         "CO2_working_capacity [mL/g]": -4.750946344136901,
         "_deepnote_index_column": "pretest_1519"
        },
        {
         "CO2_working_capacity [mL/g]": 0.5204200492406272,
         "_deepnote_index_column": "pretest_1520"
        },
        {
         "CO2_working_capacity [mL/g]": 1.2473892476451254,
         "_deepnote_index_column": "pretest_1521"
        },
        {
         "CO2_working_capacity [mL/g]": -0.2614918040536992,
         "_deepnote_index_column": "pretest_1522"
        },
        {
         "CO2_working_capacity [mL/g]": 2.2227722536615033,
         "_deepnote_index_column": "pretest_1523"
        },
        {
         "CO2_working_capacity [mL/g]": 0.003340673087700452,
         "_deepnote_index_column": "pretest_1524"
        },
        {
         "CO2_working_capacity [mL/g]": -1.779013609505472,
         "_deepnote_index_column": "pretest_1525"
        },
        {
         "CO2_working_capacity [mL/g]": 8.728475056940791,
         "_deepnote_index_column": "pretest_1526"
        },
        {
         "CO2_working_capacity [mL/g]": 40.85716956202954,
         "_deepnote_index_column": "pretest_1527"
        },
        {
         "CO2_working_capacity [mL/g]": -1.5472899680386263,
         "_deepnote_index_column": "pretest_1528"
        },
        {
         "CO2_working_capacity [mL/g]": 0.18589214105807345,
         "_deepnote_index_column": "pretest_1529"
        },
        {
         "CO2_working_capacity [mL/g]": 38.91665055538529,
         "_deepnote_index_column": "pretest_1530"
        },
        {
         "CO2_working_capacity [mL/g]": -0.44332299656477686,
         "_deepnote_index_column": "pretest_1531"
        },
        {
         "CO2_working_capacity [mL/g]": -2.8393370121981176,
         "_deepnote_index_column": "pretest_1532"
        },
        {
         "CO2_working_capacity [mL/g]": 2.7809983594166794,
         "_deepnote_index_column": "pretest_1533"
        },
        {
         "CO2_working_capacity [mL/g]": -3.578459784039532,
         "_deepnote_index_column": "pretest_1534"
        },
        {
         "CO2_working_capacity [mL/g]": -4.058647123777851,
         "_deepnote_index_column": "pretest_1535"
        },
        {
         "CO2_working_capacity [mL/g]": -7.413444691375707,
         "_deepnote_index_column": "pretest_1536"
        },
        {
         "CO2_working_capacity [mL/g]": 4.541180871950428,
         "_deepnote_index_column": "pretest_1537"
        },
        {
         "CO2_working_capacity [mL/g]": 2.400232046598225,
         "_deepnote_index_column": "pretest_1538"
        },
        {
         "CO2_working_capacity [mL/g]": 4.8734046368153425,
         "_deepnote_index_column": "pretest_1539"
        },
        {
         "CO2_working_capacity [mL/g]": 3.473123336087667,
         "_deepnote_index_column": "pretest_1540"
        },
        {
         "CO2_working_capacity [mL/g]": 2.6952770262106385,
         "_deepnote_index_column": "pretest_1541"
        },
        {
         "CO2_working_capacity [mL/g]": -4.33178247240709,
         "_deepnote_index_column": "pretest_1542"
        },
        {
         "CO2_working_capacity [mL/g]": 0.9848733346795427,
         "_deepnote_index_column": "pretest_1543"
        },
        {
         "CO2_working_capacity [mL/g]": -9.900250635585929,
         "_deepnote_index_column": "pretest_1544"
        },
        {
         "CO2_working_capacity [mL/g]": -7.592306508215694,
         "_deepnote_index_column": "pretest_1545"
        },
        {
         "CO2_working_capacity [mL/g]": 4.245253775373726,
         "_deepnote_index_column": "pretest_1546"
        },
        {
         "CO2_working_capacity [mL/g]": 3.387407572422487,
         "_deepnote_index_column": "pretest_1547"
        },
        {
         "CO2_working_capacity [mL/g]": -1.3296282122834326,
         "_deepnote_index_column": "pretest_1548"
        },
        {
         "CO2_working_capacity [mL/g]": -9.847240146327987,
         "_deepnote_index_column": "pretest_1549"
        },
        {
         "CO2_working_capacity [mL/g]": -2.0994747909249583,
         "_deepnote_index_column": "pretest_1550"
        },
        {
         "CO2_working_capacity [mL/g]": 2.688092110173366,
         "_deepnote_index_column": "pretest_1551"
        },
        {
         "CO2_working_capacity [mL/g]": -4.25428177151411,
         "_deepnote_index_column": "pretest_1552"
        },
        {
         "CO2_working_capacity [mL/g]": -12.597393851780396,
         "_deepnote_index_column": "pretest_1553"
        },
        {
         "CO2_working_capacity [mL/g]": -9.565865800888293,
         "_deepnote_index_column": "pretest_1554"
        },
        {
         "CO2_working_capacity [mL/g]": 26.66589865107334,
         "_deepnote_index_column": "pretest_1555"
        },
        {
         "CO2_working_capacity [mL/g]": -2.2576178016446193,
         "_deepnote_index_column": "pretest_1556"
        },
        {
         "CO2_working_capacity [mL/g]": 3.756769911134833,
         "_deepnote_index_column": "pretest_1557"
        },
        {
         "CO2_working_capacity [mL/g]": -1.5005915778904353,
         "_deepnote_index_column": "pretest_1558"
        },
        {
         "CO2_working_capacity [mL/g]": 1.687841527610979,
         "_deepnote_index_column": "pretest_1559"
        },
        {
         "CO2_working_capacity [mL/g]": 9.58789163514363,
         "_deepnote_index_column": "pretest_1560"
        },
        {
         "CO2_working_capacity [mL/g]": -2.67930283373677,
         "_deepnote_index_column": "pretest_1561"
        },
        {
         "CO2_working_capacity [mL/g]": 1.9754866056205742,
         "_deepnote_index_column": "pretest_1562"
        },
        {
         "CO2_working_capacity [mL/g]": 3.3891561721829135,
         "_deepnote_index_column": "pretest_1563"
        },
        {
         "CO2_working_capacity [mL/g]": 15.522129953689575,
         "_deepnote_index_column": "pretest_1564"
        },
        {
         "CO2_working_capacity [mL/g]": -4.740600688739628,
         "_deepnote_index_column": "pretest_1565"
        },
        {
         "CO2_working_capacity [mL/g]": 3.0434252717128714,
         "_deepnote_index_column": "pretest_1566"
        },
        {
         "CO2_working_capacity [mL/g]": 64.30224636290158,
         "_deepnote_index_column": "pretest_1567"
        },
        {
         "CO2_working_capacity [mL/g]": -8.137106996595083,
         "_deepnote_index_column": "pretest_1568"
        },
        {
         "CO2_working_capacity [mL/g]": 61.73663098469954,
         "_deepnote_index_column": "pretest_1569"
        },
        {
         "CO2_working_capacity [mL/g]": 19.46146840747177,
         "_deepnote_index_column": "pretest_1570"
        },
        {
         "CO2_working_capacity [mL/g]": 6.990982612398122,
         "_deepnote_index_column": "pretest_1571"
        },
        {
         "CO2_working_capacity [mL/g]": -1.4552189940886848,
         "_deepnote_index_column": "pretest_1572"
        },
        {
         "CO2_working_capacity [mL/g]": 1.2774208098400777,
         "_deepnote_index_column": "pretest_1573"
        },
        {
         "CO2_working_capacity [mL/g]": -1.500118078422497,
         "_deepnote_index_column": "pretest_1574"
        },
        {
         "CO2_working_capacity [mL/g]": -7.351236996475336,
         "_deepnote_index_column": "pretest_1575"
        },
        {
         "CO2_working_capacity [mL/g]": -3.0461725992049224,
         "_deepnote_index_column": "pretest_1576"
        },
        {
         "CO2_working_capacity [mL/g]": 1.188222753301551,
         "_deepnote_index_column": "pretest_1577"
        },
        {
         "CO2_working_capacity [mL/g]": 40.4415659346589,
         "_deepnote_index_column": "pretest_1578"
        },
        {
         "CO2_working_capacity [mL/g]": 0.4140036353173599,
         "_deepnote_index_column": "pretest_1579"
        },
        {
         "CO2_working_capacity [mL/g]": -1.9932710485425076,
         "_deepnote_index_column": "pretest_1580"
        },
        {
         "CO2_working_capacity [mL/g]": -5.3954667157504925,
         "_deepnote_index_column": "pretest_1581"
        },
        {
         "CO2_working_capacity [mL/g]": -4.808570604841907,
         "_deepnote_index_column": "pretest_1582"
        },
        {
         "CO2_working_capacity [mL/g]": -3.989735234924095,
         "_deepnote_index_column": "pretest_1583"
        },
        {
         "CO2_working_capacity [mL/g]": 5.230996059873599,
         "_deepnote_index_column": "pretest_1584"
        },
        {
         "CO2_working_capacity [mL/g]": 12.580556201278819,
         "_deepnote_index_column": "pretest_1585"
        },
        {
         "CO2_working_capacity [mL/g]": -2.5398825933170857,
         "_deepnote_index_column": "pretest_1586"
        },
        {
         "CO2_working_capacity [mL/g]": -1.1248497396731438,
         "_deepnote_index_column": "pretest_1587"
        },
        {
         "CO2_working_capacity [mL/g]": -1.3161672186748974,
         "_deepnote_index_column": "pretest_1588"
        },
        {
         "CO2_working_capacity [mL/g]": -5.421869691690006,
         "_deepnote_index_column": "pretest_1589"
        },
        {
         "CO2_working_capacity [mL/g]": -5.39755298154991,
         "_deepnote_index_column": "pretest_1590"
        },
        {
         "CO2_working_capacity [mL/g]": 18.83367402308585,
         "_deepnote_index_column": "pretest_1591"
        },
        {
         "CO2_working_capacity [mL/g]": -3.6188906984999534,
         "_deepnote_index_column": "pretest_1592"
        },
        {
         "CO2_working_capacity [mL/g]": 1.766227437588384,
         "_deepnote_index_column": "pretest_1593"
        },
        {
         "CO2_working_capacity [mL/g]": -0.951856258941288,
         "_deepnote_index_column": "pretest_1594"
        },
        {
         "CO2_working_capacity [mL/g]": 10.841925773347967,
         "_deepnote_index_column": "pretest_1595"
        },
        {
         "CO2_working_capacity [mL/g]": 0.09821097882908134,
         "_deepnote_index_column": "pretest_1596"
        },
        {
         "CO2_working_capacity [mL/g]": -1.51089497753255,
         "_deepnote_index_column": "pretest_1597"
        },
        {
         "CO2_working_capacity [mL/g]": -1.7518211271586523,
         "_deepnote_index_column": "pretest_1598"
        },
        {
         "CO2_working_capacity [mL/g]": -5.496315990369138,
         "_deepnote_index_column": "pretest_1599"
        },
        {
         "CO2_working_capacity [mL/g]": -0.8198630633482509,
         "_deepnote_index_column": "pretest_1600"
        },
        {
         "CO2_working_capacity [mL/g]": -0.47152111838216515,
         "_deepnote_index_column": "pretest_1601"
        },
        {
         "CO2_working_capacity [mL/g]": 0.8641411193464791,
         "_deepnote_index_column": "pretest_1602"
        },
        {
         "CO2_working_capacity [mL/g]": 4.446521273724448,
         "_deepnote_index_column": "pretest_1603"
        },
        {
         "CO2_working_capacity [mL/g]": -9.295818291545743,
         "_deepnote_index_column": "pretest_1604"
        },
        {
         "CO2_working_capacity [mL/g]": -4.41869078404828,
         "_deepnote_index_column": "pretest_1605"
        },
        {
         "CO2_working_capacity [mL/g]": 25.80021828027917,
         "_deepnote_index_column": "pretest_1606"
        },
        {
         "CO2_working_capacity [mL/g]": -7.1809835413480645,
         "_deepnote_index_column": "pretest_1607"
        },
        {
         "CO2_working_capacity [mL/g]": -6.669900774278185,
         "_deepnote_index_column": "pretest_1608"
        },
        {
         "CO2_working_capacity [mL/g]": 4.782905164869317,
         "_deepnote_index_column": "pretest_1609"
        },
        {
         "CO2_working_capacity [mL/g]": -0.41415083635181416,
         "_deepnote_index_column": "pretest_1610"
        },
        {
         "CO2_working_capacity [mL/g]": 3.9917868507857266,
         "_deepnote_index_column": "pretest_1611"
        },
        {
         "CO2_working_capacity [mL/g]": -3.8970229050962217,
         "_deepnote_index_column": "pretest_1612"
        },
        {
         "CO2_working_capacity [mL/g]": -3.507651990847981,
         "_deepnote_index_column": "pretest_1613"
        },
        {
         "CO2_working_capacity [mL/g]": -6.262643521674107,
         "_deepnote_index_column": "pretest_1614"
        },
        {
         "CO2_working_capacity [mL/g]": -9.073626296761214,
         "_deepnote_index_column": "pretest_1615"
        },
        {
         "CO2_working_capacity [mL/g]": -0.2579185050054889,
         "_deepnote_index_column": "pretest_1616"
        },
        {
         "CO2_working_capacity [mL/g]": -7.300818309153999,
         "_deepnote_index_column": "pretest_1617"
        },
        {
         "CO2_working_capacity [mL/g]": -1.7861031783921562,
         "_deepnote_index_column": "pretest_1618"
        },
        {
         "CO2_working_capacity [mL/g]": -12.601774973115699,
         "_deepnote_index_column": "pretest_1619"
        },
        {
         "CO2_working_capacity [mL/g]": -2.121360966132758,
         "_deepnote_index_column": "pretest_1620"
        },
        {
         "CO2_working_capacity [mL/g]": 4.889407162478969,
         "_deepnote_index_column": "pretest_1621"
        },
        {
         "CO2_working_capacity [mL/g]": -6.4719809352731374,
         "_deepnote_index_column": "pretest_1622"
        },
        {
         "CO2_working_capacity [mL/g]": -3.668934885980619,
         "_deepnote_index_column": "pretest_1623"
        },
        {
         "CO2_working_capacity [mL/g]": -1.7198012770433337,
         "_deepnote_index_column": "pretest_1624"
        },
        {
         "CO2_working_capacity [mL/g]": 10.659930565382703,
         "_deepnote_index_column": "pretest_1625"
        },
        {
         "CO2_working_capacity [mL/g]": 0.46498415376848073,
         "_deepnote_index_column": "pretest_1626"
        },
        {
         "CO2_working_capacity [mL/g]": -5.66950907639534,
         "_deepnote_index_column": "pretest_1627"
        },
        {
         "CO2_working_capacity [mL/g]": 1.7218502831526905,
         "_deepnote_index_column": "pretest_1628"
        },
        {
         "CO2_working_capacity [mL/g]": -6.645217052915197,
         "_deepnote_index_column": "pretest_1629"
        },
        {
         "CO2_working_capacity [mL/g]": -3.0132735416502414,
         "_deepnote_index_column": "pretest_1630"
        },
        {
         "CO2_working_capacity [mL/g]": -3.2365726855358874,
         "_deepnote_index_column": "pretest_1631"
        },
        {
         "CO2_working_capacity [mL/g]": 5.385796235402646,
         "_deepnote_index_column": "pretest_1632"
        },
        {
         "CO2_working_capacity [mL/g]": 2.5717271656301195,
         "_deepnote_index_column": "pretest_1633"
        },
        {
         "CO2_working_capacity [mL/g]": 1.7491668527639603,
         "_deepnote_index_column": "pretest_1634"
        },
        {
         "CO2_working_capacity [mL/g]": 2.915234770427671,
         "_deepnote_index_column": "pretest_1635"
        },
        {
         "CO2_working_capacity [mL/g]": 9.31813845671291,
         "_deepnote_index_column": "pretest_1636"
        },
        {
         "CO2_working_capacity [mL/g]": 1.8088625409958667,
         "_deepnote_index_column": "pretest_1637"
        },
        {
         "CO2_working_capacity [mL/g]": -8.240702055334882,
         "_deepnote_index_column": "pretest_1638"
        },
        {
         "CO2_working_capacity [mL/g]": -4.16706619745311,
         "_deepnote_index_column": "pretest_1639"
        },
        {
         "CO2_working_capacity [mL/g]": 5.964071218746776,
         "_deepnote_index_column": "pretest_1640"
        },
        {
         "CO2_working_capacity [mL/g]": 5.195560995835137,
         "_deepnote_index_column": "pretest_1641"
        },
        {
         "CO2_working_capacity [mL/g]": 48.080559491361996,
         "_deepnote_index_column": "pretest_1642"
        },
        {
         "CO2_working_capacity [mL/g]": 1.461651275537804,
         "_deepnote_index_column": "pretest_1643"
        },
        {
         "CO2_working_capacity [mL/g]": 1.8095257109070246,
         "_deepnote_index_column": "pretest_1644"
        },
        {
         "CO2_working_capacity [mL/g]": 0.32300834327578515,
         "_deepnote_index_column": "pretest_1645"
        },
        {
         "CO2_working_capacity [mL/g]": 1.415415182431559,
         "_deepnote_index_column": "pretest_1646"
        },
        {
         "CO2_working_capacity [mL/g]": 1.748089473229814,
         "_deepnote_index_column": "pretest_1647"
        },
        {
         "CO2_working_capacity [mL/g]": -5.23225426131591,
         "_deepnote_index_column": "pretest_1648"
        },
        {
         "CO2_working_capacity [mL/g]": -13.1073548585663,
         "_deepnote_index_column": "pretest_1649"
        },
        {
         "CO2_working_capacity [mL/g]": -6.022870949753104,
         "_deepnote_index_column": "pretest_1650"
        },
        {
         "CO2_working_capacity [mL/g]": 13.935600767329557,
         "_deepnote_index_column": "pretest_1651"
        },
        {
         "CO2_working_capacity [mL/g]": -2.2166709977694268,
         "_deepnote_index_column": "pretest_1652"
        },
        {
         "CO2_working_capacity [mL/g]": 4.529856693725861,
         "_deepnote_index_column": "pretest_1653"
        },
        {
         "CO2_working_capacity [mL/g]": 7.072283652368972,
         "_deepnote_index_column": "pretest_1654"
        },
        {
         "CO2_working_capacity [mL/g]": 2.8891521985775284,
         "_deepnote_index_column": "pretest_1655"
        },
        {
         "CO2_working_capacity [mL/g]": -1.8795257981742792,
         "_deepnote_index_column": "pretest_1656"
        },
        {
         "CO2_working_capacity [mL/g]": -3.6752312288805458,
         "_deepnote_index_column": "pretest_1657"
        },
        {
         "CO2_working_capacity [mL/g]": 1.6284986064415363,
         "_deepnote_index_column": "pretest_1658"
        },
        {
         "CO2_working_capacity [mL/g]": 5.912840511459433,
         "_deepnote_index_column": "pretest_1659"
        },
        {
         "CO2_working_capacity [mL/g]": -10.454926345590138,
         "_deepnote_index_column": "pretest_1660"
        },
        {
         "CO2_working_capacity [mL/g]": 1.552430454093758,
         "_deepnote_index_column": "pretest_1661"
        },
        {
         "CO2_working_capacity [mL/g]": -0.2999330892945352,
         "_deepnote_index_column": "pretest_1662"
        },
        {
         "CO2_working_capacity [mL/g]": -8.69441860969317,
         "_deepnote_index_column": "pretest_1663"
        },
        {
         "CO2_working_capacity [mL/g]": 2.1364546897611434,
         "_deepnote_index_column": "pretest_1664"
        },
        {
         "CO2_working_capacity [mL/g]": 9.73050774466912,
         "_deepnote_index_column": "pretest_1665"
        },
        {
         "CO2_working_capacity [mL/g]": 0.19264909124214852,
         "_deepnote_index_column": "pretest_1666"
        },
        {
         "CO2_working_capacity [mL/g]": -3.490851519689022,
         "_deepnote_index_column": "pretest_1667"
        },
        {
         "CO2_working_capacity [mL/g]": -7.539062579030042,
         "_deepnote_index_column": "pretest_1668"
        },
        {
         "CO2_working_capacity [mL/g]": 3.8369205527374417,
         "_deepnote_index_column": "pretest_1669"
        },
        {
         "CO2_working_capacity [mL/g]": -6.355174136951073,
         "_deepnote_index_column": "pretest_1670"
        },
        {
         "CO2_working_capacity [mL/g]": -7.131823623043462,
         "_deepnote_index_column": "pretest_1671"
        },
        {
         "CO2_working_capacity [mL/g]": 0.8304342273629658,
         "_deepnote_index_column": "pretest_1672"
        },
        {
         "CO2_working_capacity [mL/g]": 3.106823413935379,
         "_deepnote_index_column": "pretest_1673"
        },
        {
         "CO2_working_capacity [mL/g]": 2.6415640886535243,
         "_deepnote_index_column": "pretest_1674"
        },
        {
         "CO2_working_capacity [mL/g]": -7.1816224555909685,
         "_deepnote_index_column": "pretest_1675"
        },
        {
         "CO2_working_capacity [mL/g]": 0.1851835886926267,
         "_deepnote_index_column": "pretest_1676"
        },
        {
         "CO2_working_capacity [mL/g]": -5.1554116196100805,
         "_deepnote_index_column": "pretest_1677"
        },
        {
         "CO2_working_capacity [mL/g]": 4.448269017806055,
         "_deepnote_index_column": "pretest_1678"
        },
        {
         "CO2_working_capacity [mL/g]": 35.84176209241406,
         "_deepnote_index_column": "pretest_1679"
        },
        {
         "CO2_working_capacity [mL/g]": 0.8533602870971435,
         "_deepnote_index_column": "pretest_1680"
        },
        {
         "CO2_working_capacity [mL/g]": 5.3480804101235915,
         "_deepnote_index_column": "pretest_1681"
        },
        {
         "CO2_working_capacity [mL/g]": 6.3487922509121715,
         "_deepnote_index_column": "pretest_1682"
        },
        {
         "CO2_working_capacity [mL/g]": 50.87352726671361,
         "_deepnote_index_column": "pretest_1683"
        },
        {
         "CO2_working_capacity [mL/g]": -2.706851264372534,
         "_deepnote_index_column": "pretest_1684"
        },
        {
         "CO2_working_capacity [mL/g]": -2.1094434175633294,
         "_deepnote_index_column": "pretest_1685"
        },
        {
         "CO2_working_capacity [mL/g]": -1.2909726593563078,
         "_deepnote_index_column": "pretest_1686"
        },
        {
         "CO2_working_capacity [mL/g]": 0.14097418951166957,
         "_deepnote_index_column": "pretest_1687"
        },
        {
         "CO2_working_capacity [mL/g]": 5.6343565647762315,
         "_deepnote_index_column": "pretest_1688"
        },
        {
         "CO2_working_capacity [mL/g]": -0.17243866676154482,
         "_deepnote_index_column": "pretest_1689"
        },
        {
         "CO2_working_capacity [mL/g]": 0.859745012667716,
         "_deepnote_index_column": "pretest_1690"
        },
        {
         "CO2_working_capacity [mL/g]": 0.3297121884142967,
         "_deepnote_index_column": "pretest_1691"
        },
        {
         "CO2_working_capacity [mL/g]": -2.6547743221144118,
         "_deepnote_index_column": "pretest_1692"
        },
        {
         "CO2_working_capacity [mL/g]": -1.7034185991873017,
         "_deepnote_index_column": "pretest_1693"
        },
        {
         "CO2_working_capacity [mL/g]": -2.321703357755527,
         "_deepnote_index_column": "pretest_1694"
        },
        {
         "CO2_working_capacity [mL/g]": -1.5833443758457633,
         "_deepnote_index_column": "pretest_1695"
        },
        {
         "CO2_working_capacity [mL/g]": -3.9636083963972624,
         "_deepnote_index_column": "pretest_1696"
        },
        {
         "CO2_working_capacity [mL/g]": -0.5836575985037286,
         "_deepnote_index_column": "pretest_1697"
        },
        {
         "CO2_working_capacity [mL/g]": -4.25782161699384,
         "_deepnote_index_column": "pretest_1698"
        },
        {
         "CO2_working_capacity [mL/g]": 9.55763393877579,
         "_deepnote_index_column": "pretest_1699"
        },
        {
         "CO2_working_capacity [mL/g]": 3.7834782998861582,
         "_deepnote_index_column": "pretest_1700"
        },
        {
         "CO2_working_capacity [mL/g]": 26.42646314083883,
         "_deepnote_index_column": "pretest_1701"
        },
        {
         "CO2_working_capacity [mL/g]": 2.608463928301606,
         "_deepnote_index_column": "pretest_1702"
        },
        {
         "CO2_working_capacity [mL/g]": -2.2882457708448443,
         "_deepnote_index_column": "pretest_1703"
        },
        {
         "CO2_working_capacity [mL/g]": 1.595708049832595,
         "_deepnote_index_column": "pretest_1704"
        },
        {
         "CO2_working_capacity [mL/g]": 26.970255312142,
         "_deepnote_index_column": "pretest_1705"
        },
        {
         "CO2_working_capacity [mL/g]": 4.762832409791008,
         "_deepnote_index_column": "pretest_1706"
        },
        {
         "CO2_working_capacity [mL/g]": 8.218151145625075,
         "_deepnote_index_column": "pretest_1707"
        },
        {
         "CO2_working_capacity [mL/g]": -1.8916341217117463,
         "_deepnote_index_column": "pretest_1708"
        },
        {
         "CO2_working_capacity [mL/g]": -5.968947646232979,
         "_deepnote_index_column": "pretest_1709"
        },
        {
         "CO2_working_capacity [mL/g]": 13.527278939642244,
         "_deepnote_index_column": "pretest_1710"
        },
        {
         "CO2_working_capacity [mL/g]": 10.159890215706657,
         "_deepnote_index_column": "pretest_1711"
        },
        {
         "CO2_working_capacity [mL/g]": 1.4336482297497155,
         "_deepnote_index_column": "pretest_1712"
        },
        {
         "CO2_working_capacity [mL/g]": -3.189897375196003,
         "_deepnote_index_column": "pretest_1713"
        },
        {
         "CO2_working_capacity [mL/g]": 3.1193944853667004,
         "_deepnote_index_column": "pretest_1714"
        },
        {
         "CO2_working_capacity [mL/g]": -3.504001390740109,
         "_deepnote_index_column": "pretest_1715"
        },
        {
         "CO2_working_capacity [mL/g]": -2.868601718755946,
         "_deepnote_index_column": "pretest_1716"
        },
        {
         "CO2_working_capacity [mL/g]": 3.6776905408720895,
         "_deepnote_index_column": "pretest_1717"
        },
        {
         "CO2_working_capacity [mL/g]": 23.842212161973308,
         "_deepnote_index_column": "pretest_1718"
        },
        {
         "CO2_working_capacity [mL/g]": 2.2078911207312983,
         "_deepnote_index_column": "pretest_1719"
        },
        {
         "CO2_working_capacity [mL/g]": 23.470228082874517,
         "_deepnote_index_column": "pretest_1720"
        },
        {
         "CO2_working_capacity [mL/g]": 4.658611471622805,
         "_deepnote_index_column": "pretest_1721"
        },
        {
         "CO2_working_capacity [mL/g]": -0.7141849405756148,
         "_deepnote_index_column": "pretest_1722"
        },
        {
         "CO2_working_capacity [mL/g]": 2.899284333724509,
         "_deepnote_index_column": "pretest_1723"
        },
        {
         "CO2_working_capacity [mL/g]": -7.921223912603568,
         "_deepnote_index_column": "pretest_1724"
        },
        {
         "CO2_working_capacity [mL/g]": -3.6643907240663083,
         "_deepnote_index_column": "pretest_1725"
        },
        {
         "CO2_working_capacity [mL/g]": 3.7872399055628705,
         "_deepnote_index_column": "pretest_1726"
        },
        {
         "CO2_working_capacity [mL/g]": 8.623111950987981,
         "_deepnote_index_column": "pretest_1727"
        },
        {
         "CO2_working_capacity [mL/g]": -10.860703000620418,
         "_deepnote_index_column": "pretest_1728"
        },
        {
         "CO2_working_capacity [mL/g]": -5.8908525575971735,
         "_deepnote_index_column": "pretest_1729"
        },
        {
         "CO2_working_capacity [mL/g]": 6.940486079163003,
         "_deepnote_index_column": "pretest_1730"
        },
        {
         "CO2_working_capacity [mL/g]": -4.75743952679152,
         "_deepnote_index_column": "pretest_1731"
        },
        {
         "CO2_working_capacity [mL/g]": -5.197403992136145,
         "_deepnote_index_column": "pretest_1732"
        },
        {
         "CO2_working_capacity [mL/g]": 3.901471137399034,
         "_deepnote_index_column": "pretest_1733"
        },
        {
         "CO2_working_capacity [mL/g]": 55.27960784077182,
         "_deepnote_index_column": "pretest_1734"
        },
        {
         "CO2_working_capacity [mL/g]": -2.849582407607042,
         "_deepnote_index_column": "pretest_1735"
        },
        {
         "CO2_working_capacity [mL/g]": -2.594633920137676,
         "_deepnote_index_column": "pretest_1736"
        },
        {
         "CO2_working_capacity [mL/g]": -11.606338122841242,
         "_deepnote_index_column": "pretest_1737"
        },
        {
         "CO2_working_capacity [mL/g]": -4.016666730152812,
         "_deepnote_index_column": "pretest_1738"
        },
        {
         "CO2_working_capacity [mL/g]": 6.292425253208182,
         "_deepnote_index_column": "pretest_1739"
        },
        {
         "CO2_working_capacity [mL/g]": -3.7648769732522083,
         "_deepnote_index_column": "pretest_1740"
        },
        {
         "CO2_working_capacity [mL/g]": -4.670182475751775,
         "_deepnote_index_column": "pretest_1741"
        },
        {
         "CO2_working_capacity [mL/g]": -3.983210711919733,
         "_deepnote_index_column": "pretest_1742"
        },
        {
         "CO2_working_capacity [mL/g]": 7.0305697530039595,
         "_deepnote_index_column": "pretest_1743"
        },
        {
         "CO2_working_capacity [mL/g]": 1.310310851051699,
         "_deepnote_index_column": "pretest_1744"
        },
        {
         "CO2_working_capacity [mL/g]": 5.528771558165113,
         "_deepnote_index_column": "pretest_1745"
        },
        {
         "CO2_working_capacity [mL/g]": 25.725050522627647,
         "_deepnote_index_column": "pretest_1746"
        },
        {
         "CO2_working_capacity [mL/g]": 0.3401428887089878,
         "_deepnote_index_column": "pretest_1747"
        },
        {
         "CO2_working_capacity [mL/g]": 0.8722835969217755,
         "_deepnote_index_column": "pretest_1748"
        },
        {
         "CO2_working_capacity [mL/g]": -3.2407887697410103,
         "_deepnote_index_column": "pretest_1749"
        },
        {
         "CO2_working_capacity [mL/g]": 1.1469795425993852,
         "_deepnote_index_column": "pretest_1750"
        },
        {
         "CO2_working_capacity [mL/g]": -4.31165689907734,
         "_deepnote_index_column": "pretest_1751"
        },
        {
         "CO2_working_capacity [mL/g]": -4.563029787472897,
         "_deepnote_index_column": "pretest_1752"
        },
        {
         "CO2_working_capacity [mL/g]": -4.501372160663865,
         "_deepnote_index_column": "pretest_1753"
        },
        {
         "CO2_working_capacity [mL/g]": -2.9095582002777833,
         "_deepnote_index_column": "pretest_1754"
        },
        {
         "CO2_working_capacity [mL/g]": -6.564452975434966,
         "_deepnote_index_column": "pretest_1755"
        },
        {
         "CO2_working_capacity [mL/g]": -6.78732767235328,
         "_deepnote_index_column": "pretest_1756"
        },
        {
         "CO2_working_capacity [mL/g]": -3.1388055792892375,
         "_deepnote_index_column": "pretest_1757"
        },
        {
         "CO2_working_capacity [mL/g]": -5.97593379458942,
         "_deepnote_index_column": "pretest_1758"
        },
        {
         "CO2_working_capacity [mL/g]": -5.490202017469201,
         "_deepnote_index_column": "pretest_1759"
        },
        {
         "CO2_working_capacity [mL/g]": 6.987284016726167,
         "_deepnote_index_column": "pretest_1760"
        },
        {
         "CO2_working_capacity [mL/g]": 34.63818123253198,
         "_deepnote_index_column": "pretest_1761"
        },
        {
         "CO2_working_capacity [mL/g]": 23.824663720539313,
         "_deepnote_index_column": "pretest_1762"
        },
        {
         "CO2_working_capacity [mL/g]": 0.813005605356895,
         "_deepnote_index_column": "pretest_1763"
        },
        {
         "CO2_working_capacity [mL/g]": 4.103104338100934,
         "_deepnote_index_column": "pretest_1764"
        },
        {
         "CO2_working_capacity [mL/g]": 2.4853935930701083,
         "_deepnote_index_column": "pretest_1765"
        },
        {
         "CO2_working_capacity [mL/g]": -7.567226306176996,
         "_deepnote_index_column": "pretest_1766"
        },
        {
         "CO2_working_capacity [mL/g]": -2.354623319678498,
         "_deepnote_index_column": "pretest_1767"
        },
        {
         "CO2_working_capacity [mL/g]": -5.231360283113281,
         "_deepnote_index_column": "pretest_1768"
        },
        {
         "CO2_working_capacity [mL/g]": -11.786043127484572,
         "_deepnote_index_column": "pretest_1769"
        },
        {
         "CO2_working_capacity [mL/g]": -5.888603084421601,
         "_deepnote_index_column": "pretest_1770"
        },
        {
         "CO2_working_capacity [mL/g]": -3.9766220044601823,
         "_deepnote_index_column": "pretest_1771"
        },
        {
         "CO2_working_capacity [mL/g]": -6.194962393904726,
         "_deepnote_index_column": "pretest_1772"
        },
        {
         "CO2_working_capacity [mL/g]": -1.3201142298433866,
         "_deepnote_index_column": "pretest_1773"
        },
        {
         "CO2_working_capacity [mL/g]": -2.53266140508413,
         "_deepnote_index_column": "pretest_1774"
        },
        {
         "CO2_working_capacity [mL/g]": -3.174645374345141,
         "_deepnote_index_column": "pretest_1775"
        },
        {
         "CO2_working_capacity [mL/g]": -1.4780599040271085,
         "_deepnote_index_column": "pretest_1776"
        },
        {
         "CO2_working_capacity [mL/g]": -3.468397804134156,
         "_deepnote_index_column": "pretest_1777"
        },
        {
         "CO2_working_capacity [mL/g]": -10.035930099035104,
         "_deepnote_index_column": "pretest_1778"
        },
        {
         "CO2_working_capacity [mL/g]": -11.927263964832651,
         "_deepnote_index_column": "pretest_1779"
        },
        {
         "CO2_working_capacity [mL/g]": 2.553296775567921,
         "_deepnote_index_column": "pretest_1780"
        },
        {
         "CO2_working_capacity [mL/g]": -3.7447712382999923,
         "_deepnote_index_column": "pretest_1781"
        },
        {
         "CO2_working_capacity [mL/g]": -3.6197965600151463,
         "_deepnote_index_column": "pretest_1782"
        },
        {
         "CO2_working_capacity [mL/g]": -3.7517770276408413,
         "_deepnote_index_column": "pretest_1783"
        },
        {
         "CO2_working_capacity [mL/g]": 15.653509380123632,
         "_deepnote_index_column": "pretest_1784"
        },
        {
         "CO2_working_capacity [mL/g]": -5.213190735419891,
         "_deepnote_index_column": "pretest_1785"
        },
        {
         "CO2_working_capacity [mL/g]": 77.95722300252909,
         "_deepnote_index_column": "pretest_1786"
        },
        {
         "CO2_working_capacity [mL/g]": 25.30050544418743,
         "_deepnote_index_column": "pretest_1787"
        },
        {
         "CO2_working_capacity [mL/g]": 5.397460915463554,
         "_deepnote_index_column": "pretest_1788"
        },
        {
         "CO2_working_capacity [mL/g]": -3.5089161775208226,
         "_deepnote_index_column": "pretest_1789"
        },
        {
         "CO2_working_capacity [mL/g]": -2.8735728465260593,
         "_deepnote_index_column": "pretest_1790"
        },
        {
         "CO2_working_capacity [mL/g]": -2.0089449421131915,
         "_deepnote_index_column": "pretest_1791"
        },
        {
         "CO2_working_capacity [mL/g]": -0.9025433502690106,
         "_deepnote_index_column": "pretest_1792"
        },
        {
         "CO2_working_capacity [mL/g]": 27.55638574448456,
         "_deepnote_index_column": "pretest_1793"
        },
        {
         "CO2_working_capacity [mL/g]": -5.109258478315243,
         "_deepnote_index_column": "pretest_1794"
        },
        {
         "CO2_working_capacity [mL/g]": -0.058050699525321645,
         "_deepnote_index_column": "pretest_1795"
        },
        {
         "CO2_working_capacity [mL/g]": 5.5935403122888285,
         "_deepnote_index_column": "pretest_1796"
        },
        {
         "CO2_working_capacity [mL/g]": 26.022101635473916,
         "_deepnote_index_column": "pretest_1797"
        },
        {
         "CO2_working_capacity [mL/g]": -1.1453043032035537,
         "_deepnote_index_column": "pretest_1798"
        },
        {
         "CO2_working_capacity [mL/g]": 1.6385598709652043,
         "_deepnote_index_column": "pretest_1799"
        },
        {
         "CO2_working_capacity [mL/g]": 7.710097138597726,
         "_deepnote_index_column": "pretest_1800"
        },
        {
         "CO2_working_capacity [mL/g]": 1.944613831908208,
         "_deepnote_index_column": "pretest_1801"
        },
        {
         "CO2_working_capacity [mL/g]": 54.41911417399655,
         "_deepnote_index_column": "pretest_1802"
        },
        {
         "CO2_working_capacity [mL/g]": 13.685172849739917,
         "_deepnote_index_column": "pretest_1803"
        },
        {
         "CO2_working_capacity [mL/g]": 3.3024798709626992,
         "_deepnote_index_column": "pretest_1804"
        },
        {
         "CO2_working_capacity [mL/g]": -0.7908997521204213,
         "_deepnote_index_column": "pretest_1805"
        },
        {
         "CO2_working_capacity [mL/g]": -5.814505534303464,
         "_deepnote_index_column": "pretest_1806"
        },
        {
         "CO2_working_capacity [mL/g]": -4.7232458022559545,
         "_deepnote_index_column": "pretest_1807"
        },
        {
         "CO2_working_capacity [mL/g]": -3.5217421376585976,
         "_deepnote_index_column": "pretest_1808"
        },
        {
         "CO2_working_capacity [mL/g]": 10.843558883288434,
         "_deepnote_index_column": "pretest_1809"
        },
        {
         "CO2_working_capacity [mL/g]": 3.9649677998618644,
         "_deepnote_index_column": "pretest_1810"
        },
        {
         "CO2_working_capacity [mL/g]": -5.021914810655164,
         "_deepnote_index_column": "pretest_1811"
        },
        {
         "CO2_working_capacity [mL/g]": -5.860604772608303,
         "_deepnote_index_column": "pretest_1812"
        },
        {
         "CO2_working_capacity [mL/g]": -0.8642099887389663,
         "_deepnote_index_column": "pretest_1813"
        },
        {
         "CO2_working_capacity [mL/g]": -9.942002724107965,
         "_deepnote_index_column": "pretest_1814"
        },
        {
         "CO2_working_capacity [mL/g]": -5.632664580873287,
         "_deepnote_index_column": "pretest_1815"
        },
        {
         "CO2_working_capacity [mL/g]": -6.705970331413033,
         "_deepnote_index_column": "pretest_1816"
        },
        {
         "CO2_working_capacity [mL/g]": -8.058322824851881,
         "_deepnote_index_column": "pretest_1817"
        },
        {
         "CO2_working_capacity [mL/g]": 17.47962459662393,
         "_deepnote_index_column": "pretest_1818"
        },
        {
         "CO2_working_capacity [mL/g]": 1.9855002662548202,
         "_deepnote_index_column": "pretest_1819"
        },
        {
         "CO2_working_capacity [mL/g]": 3.049165868508129,
         "_deepnote_index_column": "pretest_1820"
        },
        {
         "CO2_working_capacity [mL/g]": 2.0459018455299285,
         "_deepnote_index_column": "pretest_1821"
        },
        {
         "CO2_working_capacity [mL/g]": 32.584177194975794,
         "_deepnote_index_column": "pretest_1822"
        },
        {
         "CO2_working_capacity [mL/g]": 22.484025122368042,
         "_deepnote_index_column": "pretest_1823"
        },
        {
         "CO2_working_capacity [mL/g]": 7.594165070562608,
         "_deepnote_index_column": "pretest_1824"
        },
        {
         "CO2_working_capacity [mL/g]": 1.3739419746719221,
         "_deepnote_index_column": "pretest_1825"
        },
        {
         "CO2_working_capacity [mL/g]": -0.2284571679302161,
         "_deepnote_index_column": "pretest_1826"
        },
        {
         "CO2_working_capacity [mL/g]": -2.2815604327513173,
         "_deepnote_index_column": "pretest_1827"
        },
        {
         "CO2_working_capacity [mL/g]": -0.3885895951638929,
         "_deepnote_index_column": "pretest_1828"
        },
        {
         "CO2_working_capacity [mL/g]": -7.973681967027216,
         "_deepnote_index_column": "pretest_1829"
        },
        {
         "CO2_working_capacity [mL/g]": 4.650390760019607,
         "_deepnote_index_column": "pretest_1830"
        },
        {
         "CO2_working_capacity [mL/g]": 44.901755259957085,
         "_deepnote_index_column": "pretest_1831"
        },
        {
         "CO2_working_capacity [mL/g]": 0.667447450467671,
         "_deepnote_index_column": "pretest_1832"
        },
        {
         "CO2_working_capacity [mL/g]": 3.243329620446798,
         "_deepnote_index_column": "pretest_1833"
        },
        {
         "CO2_working_capacity [mL/g]": -4.810913588642987,
         "_deepnote_index_column": "pretest_1834"
        },
        {
         "CO2_working_capacity [mL/g]": 1.253975490643279,
         "_deepnote_index_column": "pretest_1835"
        },
        {
         "CO2_working_capacity [mL/g]": 1.499193376200438,
         "_deepnote_index_column": "pretest_1836"
        },
        {
         "CO2_working_capacity [mL/g]": -0.3605764718916674,
         "_deepnote_index_column": "pretest_1837"
        },
        {
         "CO2_working_capacity [mL/g]": -6.191096352027808,
         "_deepnote_index_column": "pretest_1838"
        },
        {
         "CO2_working_capacity [mL/g]": 5.703876627184459,
         "_deepnote_index_column": "pretest_1839"
        },
        {
         "CO2_working_capacity [mL/g]": -3.3335720949110597,
         "_deepnote_index_column": "pretest_1840"
        },
        {
         "CO2_working_capacity [mL/g]": -13.566707014674659,
         "_deepnote_index_column": "pretest_1841"
        },
        {
         "CO2_working_capacity [mL/g]": -9.153812888719731,
         "_deepnote_index_column": "pretest_1842"
        },
        {
         "CO2_working_capacity [mL/g]": -4.3026421759144595,
         "_deepnote_index_column": "pretest_1843"
        },
        {
         "CO2_working_capacity [mL/g]": 0.2827740954211862,
         "_deepnote_index_column": "pretest_1844"
        },
        {
         "CO2_working_capacity [mL/g]": -9.691290547771354,
         "_deepnote_index_column": "pretest_1845"
        },
        {
         "CO2_working_capacity [mL/g]": -5.8183244365804,
         "_deepnote_index_column": "pretest_1846"
        },
        {
         "CO2_working_capacity [mL/g]": -2.9145905232664404,
         "_deepnote_index_column": "pretest_1847"
        },
        {
         "CO2_working_capacity [mL/g]": 3.8708318998871905,
         "_deepnote_index_column": "pretest_1848"
        },
        {
         "CO2_working_capacity [mL/g]": -8.907766274508187,
         "_deepnote_index_column": "pretest_1849"
        },
        {
         "CO2_working_capacity [mL/g]": 2.8278565318928996,
         "_deepnote_index_column": "pretest_1850"
        },
        {
         "CO2_working_capacity [mL/g]": 24.93064340678943,
         "_deepnote_index_column": "pretest_1851"
        },
        {
         "CO2_working_capacity [mL/g]": 23.146871423031023,
         "_deepnote_index_column": "pretest_1852"
        },
        {
         "CO2_working_capacity [mL/g]": 7.12337807009402,
         "_deepnote_index_column": "pretest_1853"
        },
        {
         "CO2_working_capacity [mL/g]": 27.103421211085845,
         "_deepnote_index_column": "pretest_1854"
        },
        {
         "CO2_working_capacity [mL/g]": 24.59379630586799,
         "_deepnote_index_column": "pretest_1855"
        },
        {
         "CO2_working_capacity [mL/g]": -1.5323265802554857,
         "_deepnote_index_column": "pretest_1856"
        },
        {
         "CO2_working_capacity [mL/g]": 3.2932462346533784,
         "_deepnote_index_column": "pretest_1857"
        },
        {
         "CO2_working_capacity [mL/g]": 22.590756577963923,
         "_deepnote_index_column": "pretest_1858"
        },
        {
         "CO2_working_capacity [mL/g]": -1.070993806585807,
         "_deepnote_index_column": "pretest_1859"
        },
        {
         "CO2_working_capacity [mL/g]": 30.207928064294805,
         "_deepnote_index_column": "pretest_1860"
        },
        {
         "CO2_working_capacity [mL/g]": -4.332615953727634,
         "_deepnote_index_column": "pretest_1861"
        },
        {
         "CO2_working_capacity [mL/g]": 9.402458020926622,
         "_deepnote_index_column": "pretest_1862"
        },
        {
         "CO2_working_capacity [mL/g]": -0.19559566500035147,
         "_deepnote_index_column": "pretest_1863"
        },
        {
         "CO2_working_capacity [mL/g]": 0.43376146346397493,
         "_deepnote_index_column": "pretest_1864"
        },
        {
         "CO2_working_capacity [mL/g]": -4.201017086723934,
         "_deepnote_index_column": "pretest_1865"
        },
        {
         "CO2_working_capacity [mL/g]": 5.17619693422566,
         "_deepnote_index_column": "pretest_1866"
        },
        {
         "CO2_working_capacity [mL/g]": 4.123616419344856,
         "_deepnote_index_column": "pretest_1867"
        },
        {
         "CO2_working_capacity [mL/g]": -9.58783681268813,
         "_deepnote_index_column": "pretest_1868"
        },
        {
         "CO2_working_capacity [mL/g]": -3.6243935593052212,
         "_deepnote_index_column": "pretest_1869"
        },
        {
         "CO2_working_capacity [mL/g]": -7.66694972222358,
         "_deepnote_index_column": "pretest_1870"
        },
        {
         "CO2_working_capacity [mL/g]": 3.944105024723089,
         "_deepnote_index_column": "pretest_1871"
        },
        {
         "CO2_working_capacity [mL/g]": -3.3036760829321623,
         "_deepnote_index_column": "pretest_1872"
        },
        {
         "CO2_working_capacity [mL/g]": -1.5188512674562076,
         "_deepnote_index_column": "pretest_1873"
        },
        {
         "CO2_working_capacity [mL/g]": 2.160638948235288,
         "_deepnote_index_column": "pretest_1874"
        },
        {
         "CO2_working_capacity [mL/g]": 2.0201822982635633,
         "_deepnote_index_column": "pretest_1875"
        },
        {
         "CO2_working_capacity [mL/g]": 3.2345379115334056,
         "_deepnote_index_column": "pretest_1876"
        },
        {
         "CO2_working_capacity [mL/g]": 5.525543483477807,
         "_deepnote_index_column": "pretest_1877"
        },
        {
         "CO2_working_capacity [mL/g]": -13.754651137854063,
         "_deepnote_index_column": "pretest_1878"
        },
        {
         "CO2_working_capacity [mL/g]": -4.462237340918011,
         "_deepnote_index_column": "pretest_1879"
        },
        {
         "CO2_working_capacity [mL/g]": -2.1879492256522894,
         "_deepnote_index_column": "pretest_1880"
        },
        {
         "CO2_working_capacity [mL/g]": -5.121444917201103,
         "_deepnote_index_column": "pretest_1881"
        },
        {
         "CO2_working_capacity [mL/g]": -12.768747134652244,
         "_deepnote_index_column": "pretest_1882"
        },
        {
         "CO2_working_capacity [mL/g]": 28.954786102896968,
         "_deepnote_index_column": "pretest_1883"
        },
        {
         "CO2_working_capacity [mL/g]": 1.7305268208184912,
         "_deepnote_index_column": "pretest_1884"
        },
        {
         "CO2_working_capacity [mL/g]": -4.833110634670663,
         "_deepnote_index_column": "pretest_1885"
        },
        {
         "CO2_working_capacity [mL/g]": 1.0179927255617798,
         "_deepnote_index_column": "pretest_1886"
        },
        {
         "CO2_working_capacity [mL/g]": 1.7835357123777782,
         "_deepnote_index_column": "pretest_1887"
        },
        {
         "CO2_working_capacity [mL/g]": 2.8021285255444752,
         "_deepnote_index_column": "pretest_1888"
        },
        {
         "CO2_working_capacity [mL/g]": -4.4186862894868515,
         "_deepnote_index_column": "pretest_1889"
        },
        {
         "CO2_working_capacity [mL/g]": 5.957803167808149,
         "_deepnote_index_column": "pretest_1890"
        },
        {
         "CO2_working_capacity [mL/g]": -6.275589892092791,
         "_deepnote_index_column": "pretest_1891"
        },
        {
         "CO2_working_capacity [mL/g]": 1.7957697544427647,
         "_deepnote_index_column": "pretest_1892"
        },
        {
         "CO2_working_capacity [mL/g]": -1.678431072286429,
         "_deepnote_index_column": "pretest_1893"
        },
        {
         "CO2_working_capacity [mL/g]": -6.86165440600688,
         "_deepnote_index_column": "pretest_1894"
        },
        {
         "CO2_working_capacity [mL/g]": -1.132176509019081,
         "_deepnote_index_column": "pretest_1895"
        },
        {
         "CO2_working_capacity [mL/g]": 3.0179807227484874,
         "_deepnote_index_column": "pretest_1896"
        },
        {
         "CO2_working_capacity [mL/g]": 4.318107930687989,
         "_deepnote_index_column": "pretest_1897"
        },
        {
         "CO2_working_capacity [mL/g]": 69.41167669908808,
         "_deepnote_index_column": "pretest_1898"
        },
        {
         "CO2_working_capacity [mL/g]": -12.434684895546667,
         "_deepnote_index_column": "pretest_1899"
        },
        {
         "CO2_working_capacity [mL/g]": 1.1955110887943392,
         "_deepnote_index_column": "pretest_1900"
        },
        {
         "CO2_working_capacity [mL/g]": -0.5926766974005602,
         "_deepnote_index_column": "pretest_1901"
        },
        {
         "CO2_working_capacity [mL/g]": -5.515829625264016,
         "_deepnote_index_column": "pretest_1902"
        },
        {
         "CO2_working_capacity [mL/g]": 27.388013792532554,
         "_deepnote_index_column": "pretest_1903"
        },
        {
         "CO2_working_capacity [mL/g]": -4.127592515107651,
         "_deepnote_index_column": "pretest_1904"
        },
        {
         "CO2_working_capacity [mL/g]": 23.94963704831125,
         "_deepnote_index_column": "pretest_1905"
        },
        {
         "CO2_working_capacity [mL/g]": -9.170039207876545,
         "_deepnote_index_column": "pretest_1906"
        },
        {
         "CO2_working_capacity [mL/g]": 7.977968345792368,
         "_deepnote_index_column": "pretest_1907"
        },
        {
         "CO2_working_capacity [mL/g]": 10.801181022880158,
         "_deepnote_index_column": "pretest_1908"
        },
        {
         "CO2_working_capacity [mL/g]": -8.156660247880932,
         "_deepnote_index_column": "pretest_1909"
        },
        {
         "CO2_working_capacity [mL/g]": -0.5425104800835754,
         "_deepnote_index_column": "pretest_1910"
        },
        {
         "CO2_working_capacity [mL/g]": 13.37296096607281,
         "_deepnote_index_column": "pretest_1911"
        },
        {
         "CO2_working_capacity [mL/g]": 5.909119551260082,
         "_deepnote_index_column": "pretest_1912"
        },
        {
         "CO2_working_capacity [mL/g]": -1.5066214189205396,
         "_deepnote_index_column": "pretest_1913"
        },
        {
         "CO2_working_capacity [mL/g]": -4.406997014792691,
         "_deepnote_index_column": "pretest_1914"
        },
        {
         "CO2_working_capacity [mL/g]": 15.976692867142486,
         "_deepnote_index_column": "pretest_1915"
        },
        {
         "CO2_working_capacity [mL/g]": 20.669550328074614,
         "_deepnote_index_column": "pretest_1916"
        },
        {
         "CO2_working_capacity [mL/g]": -3.346007145354662,
         "_deepnote_index_column": "pretest_1917"
        },
        {
         "CO2_working_capacity [mL/g]": 0.7927888640613248,
         "_deepnote_index_column": "pretest_1918"
        },
        {
         "CO2_working_capacity [mL/g]": 2.4449964251183616,
         "_deepnote_index_column": "pretest_1919"
        },
        {
         "CO2_working_capacity [mL/g]": -3.485924340760809,
         "_deepnote_index_column": "pretest_1920"
        },
        {
         "CO2_working_capacity [mL/g]": 5.746427287254576,
         "_deepnote_index_column": "pretest_1921"
        },
        {
         "CO2_working_capacity [mL/g]": -5.85007481349339,
         "_deepnote_index_column": "pretest_1922"
        },
        {
         "CO2_working_capacity [mL/g]": -2.542800569244167,
         "_deepnote_index_column": "pretest_1923"
        },
        {
         "CO2_working_capacity [mL/g]": 1.8544383935488469,
         "_deepnote_index_column": "pretest_1924"
        },
        {
         "CO2_working_capacity [mL/g]": -3.827494837091166,
         "_deepnote_index_column": "pretest_1925"
        },
        {
         "CO2_working_capacity [mL/g]": 8.40503733414538,
         "_deepnote_index_column": "pretest_1926"
        },
        {
         "CO2_working_capacity [mL/g]": -3.736238310115655,
         "_deepnote_index_column": "pretest_1927"
        },
        {
         "CO2_working_capacity [mL/g]": 24.783859689133912,
         "_deepnote_index_column": "pretest_1928"
        },
        {
         "CO2_working_capacity [mL/g]": 2.7087446423741284,
         "_deepnote_index_column": "pretest_1929"
        },
        {
         "CO2_working_capacity [mL/g]": -3.687223735664986,
         "_deepnote_index_column": "pretest_1930"
        },
        {
         "CO2_working_capacity [mL/g]": -4.647307465464886,
         "_deepnote_index_column": "pretest_1931"
        },
        {
         "CO2_working_capacity [mL/g]": -4.391920630390689,
         "_deepnote_index_column": "pretest_1932"
        },
        {
         "CO2_working_capacity [mL/g]": 11.224870860494892,
         "_deepnote_index_column": "pretest_1933"
        },
        {
         "CO2_working_capacity [mL/g]": -4.6098173223995245,
         "_deepnote_index_column": "pretest_1934"
        },
        {
         "CO2_working_capacity [mL/g]": 18.893194476077547,
         "_deepnote_index_column": "pretest_1935"
        },
        {
         "CO2_working_capacity [mL/g]": -6.051769025176301,
         "_deepnote_index_column": "pretest_1936"
        },
        {
         "CO2_working_capacity [mL/g]": 0.8017564454487485,
         "_deepnote_index_column": "pretest_1937"
        },
        {
         "CO2_working_capacity [mL/g]": 1.4612888767292163,
         "_deepnote_index_column": "pretest_1938"
        },
        {
         "CO2_working_capacity [mL/g]": 7.947966096080177,
         "_deepnote_index_column": "pretest_1939"
        },
        {
         "CO2_working_capacity [mL/g]": -3.006021723592062,
         "_deepnote_index_column": "pretest_1940"
        },
        {
         "CO2_working_capacity [mL/g]": -1.6559160700394415,
         "_deepnote_index_column": "pretest_1941"
        },
        {
         "CO2_working_capacity [mL/g]": 3.4670129864791646,
         "_deepnote_index_column": "pretest_1942"
        },
        {
         "CO2_working_capacity [mL/g]": 5.714278231061883,
         "_deepnote_index_column": "pretest_1943"
        },
        {
         "CO2_working_capacity [mL/g]": 5.452746848950278,
         "_deepnote_index_column": "pretest_1944"
        },
        {
         "CO2_working_capacity [mL/g]": 3.7288608219875043,
         "_deepnote_index_column": "pretest_1945"
        },
        {
         "CO2_working_capacity [mL/g]": -6.372150505564585,
         "_deepnote_index_column": "pretest_1946"
        },
        {
         "CO2_working_capacity [mL/g]": -1.169879350084716,
         "_deepnote_index_column": "pretest_1947"
        },
        {
         "CO2_working_capacity [mL/g]": -8.213857387524433,
         "_deepnote_index_column": "pretest_1948"
        },
        {
         "CO2_working_capacity [mL/g]": 10.240814678984014,
         "_deepnote_index_column": "pretest_1949"
        },
        {
         "CO2_working_capacity [mL/g]": 2.7606919923475117,
         "_deepnote_index_column": "pretest_1950"
        },
        {
         "CO2_working_capacity [mL/g]": -8.18496268654117,
         "_deepnote_index_column": "pretest_1951"
        },
        {
         "CO2_working_capacity [mL/g]": -3.4063135384653465,
         "_deepnote_index_column": "pretest_1952"
        },
        {
         "CO2_working_capacity [mL/g]": 57.263490234779624,
         "_deepnote_index_column": "pretest_1953"
        },
        {
         "CO2_working_capacity [mL/g]": 1.2505811422885131,
         "_deepnote_index_column": "pretest_1954"
        },
        {
         "CO2_working_capacity [mL/g]": -8.751993784230141,
         "_deepnote_index_column": "pretest_1955"
        },
        {
         "CO2_working_capacity [mL/g]": 2.027236412301602,
         "_deepnote_index_column": "pretest_1956"
        },
        {
         "CO2_working_capacity [mL/g]": 13.15114692054998,
         "_deepnote_index_column": "pretest_1957"
        },
        {
         "CO2_working_capacity [mL/g]": 2.955252526518501,
         "_deepnote_index_column": "pretest_1958"
        },
        {
         "CO2_working_capacity [mL/g]": -6.60782629435497,
         "_deepnote_index_column": "pretest_1959"
        },
        {
         "CO2_working_capacity [mL/g]": 3.916002169552871,
         "_deepnote_index_column": "pretest_1960"
        },
        {
         "CO2_working_capacity [mL/g]": 10.3715033393617,
         "_deepnote_index_column": "pretest_1961"
        },
        {
         "CO2_working_capacity [mL/g]": 16.64306202308561,
         "_deepnote_index_column": "pretest_1962"
        },
        {
         "CO2_working_capacity [mL/g]": -13.082985572296275,
         "_deepnote_index_column": "pretest_1963"
        },
        {
         "CO2_working_capacity [mL/g]": 2.3558642780059302,
         "_deepnote_index_column": "pretest_1964"
        },
        {
         "CO2_working_capacity [mL/g]": -11.066787430510754,
         "_deepnote_index_column": "pretest_1965"
        },
        {
         "CO2_working_capacity [mL/g]": -3.694613836980318,
         "_deepnote_index_column": "pretest_1966"
        },
        {
         "CO2_working_capacity [mL/g]": 53.60612699644547,
         "_deepnote_index_column": "pretest_1967"
        },
        {
         "CO2_working_capacity [mL/g]": -5.9848664004860925,
         "_deepnote_index_column": "pretest_1968"
        },
        {
         "CO2_working_capacity [mL/g]": 1.2724285370538382,
         "_deepnote_index_column": "pretest_1969"
        },
        {
         "CO2_working_capacity [mL/g]": -1.1550971934247485,
         "_deepnote_index_column": "pretest_1970"
        },
        {
         "CO2_working_capacity [mL/g]": 16.025894754177706,
         "_deepnote_index_column": "pretest_1971"
        },
        {
         "CO2_working_capacity [mL/g]": 4.621485736753056,
         "_deepnote_index_column": "pretest_1972"
        },
        {
         "CO2_working_capacity [mL/g]": -1.1548067557896247,
         "_deepnote_index_column": "pretest_1973"
        },
        {
         "CO2_working_capacity [mL/g]": -2.716063115560624,
         "_deepnote_index_column": "pretest_1974"
        },
        {
         "CO2_working_capacity [mL/g]": -8.654886770164879,
         "_deepnote_index_column": "pretest_1975"
        },
        {
         "CO2_working_capacity [mL/g]": -5.806060055793336,
         "_deepnote_index_column": "pretest_1976"
        },
        {
         "CO2_working_capacity [mL/g]": -9.805876105808682,
         "_deepnote_index_column": "pretest_1977"
        },
        {
         "CO2_working_capacity [mL/g]": 42.878083961392505,
         "_deepnote_index_column": "pretest_1978"
        },
        {
         "CO2_working_capacity [mL/g]": -3.295138949433101,
         "_deepnote_index_column": "pretest_1979"
        },
        {
         "CO2_working_capacity [mL/g]": -5.280284356886407,
         "_deepnote_index_column": "pretest_1980"
        },
        {
         "CO2_working_capacity [mL/g]": 17.41214092722128,
         "_deepnote_index_column": "pretest_1981"
        },
        {
         "CO2_working_capacity [mL/g]": -1.085411558031484,
         "_deepnote_index_column": "pretest_1982"
        },
        {
         "CO2_working_capacity [mL/g]": -2.38799696093474,
         "_deepnote_index_column": "pretest_1983"
        },
        {
         "CO2_working_capacity [mL/g]": -8.220230505637184,
         "_deepnote_index_column": "pretest_1984"
        },
        {
         "CO2_working_capacity [mL/g]": -1.0286981489523441,
         "_deepnote_index_column": "pretest_1985"
        },
        {
         "CO2_working_capacity [mL/g]": -0.23669542606006075,
         "_deepnote_index_column": "pretest_1986"
        },
        {
         "CO2_working_capacity [mL/g]": -5.632999240248163,
         "_deepnote_index_column": "pretest_1987"
        },
        {
         "CO2_working_capacity [mL/g]": -2.8243813184518727,
         "_deepnote_index_column": "pretest_1988"
        },
        {
         "CO2_working_capacity [mL/g]": 5.234899168000882,
         "_deepnote_index_column": "pretest_1989"
        },
        {
         "CO2_working_capacity [mL/g]": 0.23983024316850673,
         "_deepnote_index_column": "pretest_1990"
        },
        {
         "CO2_working_capacity [mL/g]": 7.683754791676617,
         "_deepnote_index_column": "pretest_1991"
        },
        {
         "CO2_working_capacity [mL/g]": -2.5511086209220535,
         "_deepnote_index_column": "pretest_1992"
        },
        {
         "CO2_working_capacity [mL/g]": 32.91916144201457,
         "_deepnote_index_column": "pretest_1993"
        },
        {
         "CO2_working_capacity [mL/g]": 1.662638593788958,
         "_deepnote_index_column": "pretest_1994"
        },
        {
         "CO2_working_capacity [mL/g]": -5.818932382427678,
         "_deepnote_index_column": "pretest_1995"
        },
        {
         "CO2_working_capacity [mL/g]": -1.7876659197830491,
         "_deepnote_index_column": "pretest_1996"
        },
        {
         "CO2_working_capacity [mL/g]": 16.246297164842787,
         "_deepnote_index_column": "pretest_1997"
        },
        {
         "CO2_working_capacity [mL/g]": 4.231076995298613,
         "_deepnote_index_column": "pretest_1998"
        },
        {
         "CO2_working_capacity [mL/g]": -9.13822319853536,
         "_deepnote_index_column": "pretest_1999"
        },
        {
         "CO2_working_capacity [mL/g]": 20.71764984929729,
         "_deepnote_index_column": "pretest_2000"
        }
       ]
      },
      "text/plain": "              CO2_working_capacity [mL/g]\nid                                       \npretest_1                       98.606887\npretest_2                      127.483830\npretest_3                      189.176967\npretest_4                       67.609159\npretest_5                       94.117071\n...                                   ...\npretest_1996                    -1.787666\npretest_1997                    16.246297\npretest_1998                     4.231077\npretest_1999                    -9.138223\npretest_2000                    20.717650\n\n[2000 rows x 1 columns]",
      "text/html": "<div>\n<style scoped>\n    .dataframe tbody tr th:only-of-type {\n        vertical-align: middle;\n    }\n\n    .dataframe tbody tr th {\n        vertical-align: top;\n    }\n\n    .dataframe thead th {\n        text-align: right;\n    }\n</style>\n<table border=\"1\" class=\"dataframe\">\n  <thead>\n    <tr style=\"text-align: right;\">\n      <th></th>\n      <th>CO2_working_capacity [mL/g]</th>\n    </tr>\n    <tr>\n      <th>id</th>\n      <th></th>\n    </tr>\n  </thead>\n  <tbody>\n    <tr>\n      <th>pretest_1</th>\n      <td>98.606887</td>\n    </tr>\n    <tr>\n      <th>pretest_2</th>\n      <td>127.483830</td>\n    </tr>\n    <tr>\n      <th>pretest_3</th>\n      <td>189.176967</td>\n    </tr>\n    <tr>\n      <th>pretest_4</th>\n      <td>67.609159</td>\n    </tr>\n    <tr>\n      <th>pretest_5</th>\n      <td>94.117071</td>\n    </tr>\n    <tr>\n      <th>...</th>\n      <td>...</td>\n    </tr>\n    <tr>\n      <th>pretest_1996</th>\n      <td>-1.787666</td>\n    </tr>\n    <tr>\n      <th>pretest_1997</th>\n      <td>16.246297</td>\n    </tr>\n    <tr>\n      <th>pretest_1998</th>\n      <td>4.231077</td>\n    </tr>\n    <tr>\n      <th>pretest_1999</th>\n      <td>-9.138223</td>\n    </tr>\n    <tr>\n      <th>pretest_2000</th>\n      <td>20.717650</td>\n    </tr>\n  </tbody>\n</table>\n<p>2000 rows × 1 columns</p>\n</div>"
     },
     "metadata": {}
    }
   ]
  },
  {
   "cell_type": "code",
   "metadata": {
    "tags": [],
    "cell_id": "00026-bde8d7bc-1543-4208-b65f-2f7c1cdda8b8",
    "deepnote_to_be_reexecuted": false,
    "source_hash": "8330eb30",
    "execution_start": 1632169983626,
    "execution_millis": 8,
    "deepnote_cell_type": "code"
   },
   "source": "sub.to_csv(\"submission.csv\")",
   "execution_count": null,
   "outputs": []
  },
  {
   "cell_type": "markdown",
   "source": "<a style='text-decoration:none;line-height:16px;display:flex;color:#5B5B62;padding:10px;justify-content:end;' href='https://deepnote.com?utm_source=created-in-deepnote-cell&projectId=cf8541de-dbc3-45f6-bc1e-4fa446cacbcd' target=\"_blank\">\n<img alt='Created in deepnote.com' style='display:inline;max-height:16px;margin:0px;margin-right:7.5px;' src='data:image/svg+xml;base64,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' > </img>\nCreated in <span style='font-weight:600;margin-left:4px;'>Deepnote</span></a>",
   "metadata": {
    "tags": [],
    "created_in_deepnote_cell": true,
    "deepnote_cell_type": "markdown"
   }
  }
 ],
 "nbformat": 4,
 "nbformat_minor": 2,
 "metadata": {
  "orig_nbformat": 2,
  "deepnote": {
   "is_reactive": false
  },
  "deepnote_notebook_id": "e5514e34-6975-4fe5-b324-2cd0ed87b5d9",
  "deepnote_execution_queue": []
 }
}