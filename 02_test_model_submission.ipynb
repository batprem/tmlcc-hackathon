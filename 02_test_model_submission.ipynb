{
 "cells": [
  {
   "cell_type": "markdown",
   "source": "# Import modules",
   "metadata": {
    "tags": [],
    "is_collapsed": false,
    "cell_id": "00000-ec85e717-5253-4436-830b-cd502714de64",
    "deepnote_cell_type": "text-cell-h1"
   }
  },
  {
   "cell_type": "code",
   "metadata": {
    "tags": [],
    "cell_id": "00000-f4818cf3-160f-4aef-9095-58cb0e1f9e86",
    "deepnote_to_be_reexecuted": false,
    "source_hash": "61e3cc28",
    "execution_start": 1632583216376,
    "execution_millis": 1498,
    "deepnote_cell_type": "code"
   },
   "source": "import pandas as pd\n\n\nimport numpy as np\nfrom sklearn.impute import KNNImputer\nfrom sklearn.metrics import mean_absolute_error\nfrom sklearn.preprocessing import power_transform\nfrom catboost import CatBoostRegressor\n\n# Local dependencies\nfrom src.constants import (\n    PREPROCESSING_PATH,\n    TARGET\n)\nfrom utils.classes.extractor import FunctionalGroupToGramExtractor\n\nfrom typing import (\n    Optional,\n    List,\n    Any\n)\nfrom sklearn.model_selection import KFold, RepeatedKFold, RepeatedStratifiedKFold\n\nimport warnings\nwarnings.filterwarnings(\"ignore\")",
   "execution_count": null,
   "outputs": []
  },
  {
   "cell_type": "markdown",
   "source": "# Load essentials",
   "metadata": {
    "tags": [],
    "is_collapsed": false,
    "cell_id": "00002-372c35c1-86a1-4fb9-a3bb-a8425e2e7933",
    "deepnote_cell_type": "text-cell-h1"
   }
  },
  {
   "cell_type": "code",
   "metadata": {
    "tags": [],
    "cell_id": "00001-c5269b0e-4ece-4af0-97b9-365ae7c9f569",
    "deepnote_to_be_reexecuted": false,
    "source_hash": "24408d87",
    "execution_start": 1632583217875,
    "execution_millis": 420,
    "deepnote_cell_type": "code"
   },
   "source": "Train = pd.read_csv(f\"{PREPROCESSING_PATH}/train_merged_CIF/Train.csv\")\nTrain = Train.set_index(Train.columns[0])\n\nPretest = pd.read_csv(f\"{PREPROCESSING_PATH}/pretest_merged_CIF/Pretest.csv\")\nPretest = Pretest.set_index(Pretest.columns[0])\n\nfuntional_group_extractor = FunctionalGroupToGramExtractor()",
   "execution_count": null,
   "outputs": []
  },
  {
   "cell_type": "code",
   "metadata": {
    "tags": [],
    "cell_id": "00004-4810524e-3b1e-4915-9daf-91fc9be6bd7b",
    "deepnote_to_be_reexecuted": false,
    "source_hash": "4469f046",
    "execution_start": 1632583218295,
    "execution_millis": 28,
    "deepnote_cell_type": "code"
   },
   "source": "Train.columns",
   "execution_count": null,
   "outputs": [
    {
     "output_type": "execute_result",
     "execution_count": 3,
     "data": {
      "text/plain": "Index(['MOFname', 'volume [A^3]', 'weight [u]', 'surface_area [m^2/g]',\n       'void_fraction', 'void_volume [cm^3/g]', 'functional_groups',\n       'metal_linker', 'organic_linker1', 'organic_linker2', 'topology',\n       'CO2/N2_selectivity', 'heat_adsorption_CO2_P0.15bar_T298K [kcal/mol]',\n       'cif_filepath', '_audit_creation_date',\n       '_symmetry_space_group_name_H-M', '_symmetry_Int_Tables_number',\n       '_space_group_crystal_system', '_cell_length_a', '_cell_length_b',\n       '_cell_length_c', '_cell_angle_alpha', '_cell_angle_beta',\n       '_cell_angle_gamma', '_cell_volume', 'partial_charge_mean',\n       'partial_charge_median', 'partial_charge_std', 'bond_type_countS',\n       'bond_type_countA', 'bond_type_countD', 'bond_type_countT',\n       'bond_type_countAm', 'CO2_working_capacity [mL/g]'],\n      dtype='object')"
     },
     "metadata": {}
    }
   ]
  },
  {
   "cell_type": "markdown",
   "source": "# Set up pipeline",
   "metadata": {
    "tags": [],
    "is_collapsed": false,
    "cell_id": "00003-a808772e-d1d9-4d35-a6e5-8f4b42167c05",
    "deepnote_cell_type": "text-cell-h1"
   }
  },
  {
   "cell_type": "code",
   "metadata": {
    "tags": [],
    "cell_id": "00002-6fe3f3fa-c17a-4805-8c4c-b9192ab07b03",
    "deepnote_to_be_reexecuted": false,
    "source_hash": "47f1b2e5",
    "execution_start": 1632583218296,
    "execution_millis": 10,
    "deepnote_cell_type": "code"
   },
   "source": "\nclass PreprocessingPipeline:\n    funcgroup2num = None\n    topology2num = None\n    spacegroup2num = None\n    organic_linker1 = None\n    organic_linker2 = None\n\n    def label(self, df):\n        # if self.funcgroup2num is None:\n        #     self.funcgroup2num = {\n        #         c: i\n        #         for i, c\n        #         in enumerate(df[\"functional_groups\"].unique())\n        #     }\n\n        # if self.topology2num is None:\n        #     self.topology2num = {\n        #         c: i\n        #         for i, c\n        #         in enumerate(df[\"topology\"].unique())\n        #     }\n        # df[\"label_topology\"] = df[\"topology\"].map(self.topology2num)\n\n        df[\"label_topology_pcu\"] = (df[\"topology\"] == \"pcu\").astype(int)\n        df[\"label_topology_sra\"] = (df[\"topology\"] == \"sra\").astype(int)\n        df[\"label_topology_acs\"] = (df[\"topology\"] == \"acs\").astype(int)\n        df[\"label_topology_etb\"] = (df[\"topology\"] == \"etb\").astype(int)\n        df[\"label_topology_bcu\"] = (df[\"topology\"] == \"bcu\").astype(int)\n        df[\"label_topology_nbo\"] = (df[\"topology\"] == \"nbo\").astype(int)\n        \n        \n        df[\"label_spacegroup_triclinic\"] = (\n            df[\"_space_group_crystal_system\"] == \"triclinic\"\n        ).astype(int)\n\n        df[\"metal_linker_1\"] = (\n            df[\"metal_linker\"] == 1\n        ).astype(int)\n        df[\"metal_linker_2\"] = (\n            df[\"metal_linker\"] == 2\n        ).astype(int)\n        df[\"metal_linker_3\"] = (\n            df[\"metal_linker\"] == 3\n        ).astype(int)\n        df[\"metal_linker_4\"] = (\n            df[\"metal_linker\"] == 4\n        ).astype(int)\n        df[\"metal_linker_9\"] = (\n            df[\"metal_linker\"] == 9\n        ).astype(int)\n        df[\"metal_linker_10\"] = (\n            df[\"metal_linker\"] == 10\n        ).astype(int)\n        df[\"metal_linker_12\"] = (\n            df[\"metal_linker\"] == 12\n        ).astype(int)\n\n        return df\n    \n\n    @staticmethod\n    def get_density(df: pd.DataFrame):\n        df['density'] = (df[\"weight [u]\"] / df[\"volume [A^3]\"]) * 1.66054\n        df['void_volume [cm^3/g]'] = df['void_fraction'] / df[\"density\"]\n        return df\n\n    @staticmethod\n    def replace_surface_area_equal_0_with_null(df: pd.DataFrame):\n        df[\"surface_area [m^2/g]\"] = df[\"surface_area [m^2/g]\"].replace(0, np.nan)\n        return df\n\n    @staticmethod\n    def replace_inf_with_null(df: pd.DataFrame):\n        df = df.replace(np.inf, 999999)\n        df = df.replace(-np.inf, -999999)\n        return df\n\n    @staticmethod\n    def drop_unused_columns(\n        df, unused_columns: Optional[List[str]] = None\n    ) -> pd.DataFrame:\n        if not unused_columns:\n            unused_columns = [\n                \"MOFname\",\n                # 'functional_groups',\n                \"topology\",\n                \"cif_filepath\",\n                \"_audit_creation_date\",\n                \"_symmetry_Int_Tables_number\",\n                \"_symmetry_space_group_name_H-M\",\n                \"_space_group_crystal_system\",\n                # \"bond_type_countT\",\n                'metal_linker',\n                # 'organic_linker1',\n                # 'organic_linker2'\n                \"partial_charge_mean\",\n                \"partial_charge_std\",\n                \"_cell_volume\",\n            ]\n        for col in unused_columns:\n            try:\n                df.drop(col, axis=1, inplace=True)\n            except KeyError:\n                pass\n        return df\n\n    @staticmethod\n    def set_imputer(X: pd.DataFrame) -> KNNImputer:\n        imputer = KNNImputer(n_neighbors=5)\n        imputer.fit(X)\n        return imputer\n\n    @staticmethod\n    def impute_value(X: pd.DataFrame, imputer: KNNImputer):\n        return imputer.transform(X)\n\n    @staticmethod\n    def extract_functional_group(X: pd.DataFrame, fit: bool) -> pd.DataFrame:\n        funtional_group_extacted = funtional_group_extractor.transform(X, fit)\n        return pd.concat([X, funtional_group_extractor], axis=1)\n\n\nclass TrainDataPreprocessingPipeline(PreprocessingPipeline):\n    @staticmethod\n    def drop_surface_area_equal_minus_1(df):\n        return df.drop(df[df[\"surface_area [m^2/g]\"] == -1].index)\n\n    def impute(self):\n        temp_columns = self.X.columns\n        temp_index = self.X.index\n\n        if not self.imputer:\n            self.imputer = self.set_imputer(self.X)\n\n        self.X = self.impute_value(self.X, self.imputer)\n\n        self.X = pd.DataFrame(self.X)\n        self.X.columns = temp_columns\n        self.X.index = temp_index\n\n    def run(self):\n        self.functional_group_extractor = FunctionalGroupToGramExtractor()\n\n        # Drop and add featrures\n        print(\"Print droping and replace null\")\n        self.df = self.drop_surface_area_equal_minus_1(self.df)\n        self.df = self.replace_surface_area_equal_0_with_null(self.df)\n        self.df = self.replace_inf_with_null(self.df)\n        self.df = self.label(self.df)\n        self.df = self.drop_unused_columns(self.df)\n        self.df = self.df.drop(self.df[self.df[\"CO2/N2_selectivity\"] == 0].index)\n        self.df = self.get_density(self.df)\n        # Split\n        print(\"Split X, y\")\n        self.X = self.df.drop(TARGET, axis=1)\n        self.y = self.df[[TARGET]]\n\n        # Extract\n        # print(\"Extract functional group\")\n        # functional_group = self.functional_group_extractor.transform(\n        #     self.X[['functional_groups']],\n        #     fit=True\n        # )\n\n        # Impute\n        print(\"Impute\")\n        self.X = self.X.drop(\"functional_groups\", axis=1)\n        self.impute()\n        # self.X = pd.concat([self.X, functional_group], axis=1)\n\n    def __init__(self, df: pd.DataFrame, imputer: Any = None):\n        self.df = df\n        self.imputer = imputer\n",
   "execution_count": null,
   "outputs": []
  },
  {
   "cell_type": "code",
   "metadata": {
    "tags": [],
    "cell_id": "00005-c7f02b29-7109-4de6-b3ba-da169e6d1360",
    "deepnote_to_be_reexecuted": false,
    "source_hash": "5221261b",
    "execution_start": 1632583218306,
    "execution_millis": 4,
    "deepnote_cell_type": "code"
   },
   "source": "class TestDataPreprocessingPipeline(PreprocessingPipeline):\n    def impute(self):\n        temp_columns = self.X.columns\n        temp_index = self.X.index\n\n        if not self.imputer:\n            self.imputer = self.set_imputer(self.X)\n\n        self.X = self.impute_value(self.X, self.imputer)\n\n        self.X = pd.DataFrame(self.X)\n        self.X.columns = temp_columns\n        self.X.index = temp_index\n\n    def run(self):\n        # Drop\n        print(\"Print droping and replace null\")\n        self.X = self.replace_surface_area_equal_0_with_null(self.df)\n        self.X = self.replace_inf_with_null(self.X)\n        self.X = self.label(self.X)\n        self.X = self.drop_unused_columns(self.X)\n        self.X = self.get_density(self.X)\n\n        # Extract\n        # print(\"Extract functional group\")\n        # functional_group = self.functional_group_extractor.transform(\n        #     self.X[['functional_groups']],\n        # )\n\n        # Impute\n        print(\"Impute\")\n        self.X = self.X.drop('functional_groups', axis=1)\n        self.impute()\n        # self.X = pd.concat([self.X, functional_group], axis=1)\n        self.X = self.X[self.columns]\n\n    \n    def __init__(\n        self,\n        df: pd.DataFrame,\n        imputer: Any = None,\n        functional_group_extractor: FunctionalGroupToGramExtractor = None,\n        columns: list = None\n    ):\n        self.df = df\n        self.imputer = imputer\n        self.functional_group_extractor = functional_group_extractor\n        self.columns = columns\n\n",
   "execution_count": null,
   "outputs": []
  },
  {
   "cell_type": "markdown",
   "source": "# Run pipeline",
   "metadata": {
    "tags": [],
    "is_collapsed": false,
    "cell_id": "00014-c0355d2c-bfc0-4d3c-9136-1b3d6dcaba2c",
    "deepnote_cell_type": "text-cell-h1"
   }
  },
  {
   "cell_type": "code",
   "metadata": {
    "tags": [],
    "cell_id": "00008-d615fb80-5920-494e-b806-cb2f81ad824c",
    "deepnote_to_be_reexecuted": false,
    "source_hash": "9f99deb6",
    "execution_start": 1632583218311,
    "execution_millis": 254,
    "deepnote_cell_type": "code"
   },
   "source": "class Imputer9999:\n    def transform(self, df):\n        return df.replace(np.nan, -9999)\n\nimputer = Imputer9999()\ntrain = TrainDataPreprocessingPipeline(Train, imputer)\ntrain.run()",
   "execution_count": null,
   "outputs": [
    {
     "name": "stdout",
     "text": "Print droping and replace null\nSplit X, y\nImpute\n",
     "output_type": "stream"
    }
   ]
  },
  {
   "cell_type": "code",
   "metadata": {
    "tags": [],
    "cell_id": "00009-a9df5320-a488-4c9a-a2ae-aedf654096f3",
    "deepnote_to_be_reexecuted": false,
    "source_hash": "364ae2b2",
    "execution_start": 1632583218567,
    "execution_millis": 110,
    "deepnote_cell_type": "code"
   },
   "source": "train.X",
   "execution_count": null,
   "outputs": [
    {
     "output_type": "execute_result",
     "execution_count": 7,
     "data": {
      "application/vnd.deepnote.dataframe.v2+json": {
       "row_count": 66715,
       "column_count": 36,
       "columns": [
        {
         "name": "volume [A^3]",
         "dtype": "float64",
         "stats": {
          "unique_count": 66709,
          "nan_count": 0,
          "min": "606.576038",
          "max": "223964.854408",
          "histogram": [
           {
            "bin_start": 606.576038,
            "bin_end": 22942.403875,
            "count": 65787
           },
           {
            "bin_start": 22942.403875,
            "bin_end": 45278.231712,
            "count": 823
           },
           {
            "bin_start": 45278.231712,
            "bin_end": 67614.059549,
            "count": 80
           },
           {
            "bin_start": 67614.059549,
            "bin_end": 89949.887386,
            "count": 18
           },
           {
            "bin_start": 89949.887386,
            "bin_end": 112285.715223,
            "count": 3
           },
           {
            "bin_start": 112285.715223,
            "bin_end": 134621.54306,
            "count": 3
           },
           {
            "bin_start": 134621.54306,
            "bin_end": 156957.37089700002,
            "count": 0
           },
           {
            "bin_start": 156957.37089700002,
            "bin_end": 179293.198734,
            "count": 0
           },
           {
            "bin_start": 179293.198734,
            "bin_end": 201629.026571,
            "count": 0
           },
           {
            "bin_start": 201629.026571,
            "bin_end": 223964.854408,
            "count": 1
           }
          ]
         }
        },
        {
         "name": "weight [u]",
         "dtype": "float64"
        },
        {
         "name": "surface_area [m^2/g]",
         "dtype": "float64"
        },
        {
         "name": "void_fraction",
         "dtype": "float64"
        },
        {
         "name": "void_volume [cm^3/g]",
         "dtype": "float64"
        },
        {
         "name": "organic_linker1",
         "dtype": "int64"
        },
        {
         "name": "organic_linker2",
         "dtype": "int64"
        },
        {
         "name": "CO2/N2_selectivity",
         "dtype": "float64"
        },
        {
         "name": "heat_adsorption_CO2_P0.15bar_T298K [kcal/mol]",
         "dtype": "float64"
        },
        {
         "name": "_cell_length_a",
         "dtype": "float64"
        },
        {
         "name": "_cell_length_b",
         "dtype": "float64"
        },
        {
         "name": "_cell_length_c",
         "dtype": "float64"
        },
        {
         "name": "_cell_angle_alpha",
         "dtype": "float64"
        },
        {
         "name": "_cell_angle_beta",
         "dtype": "float64"
        },
        {
         "name": "_cell_angle_gamma",
         "dtype": "float64"
        },
        {
         "name": "partial_charge_median",
         "dtype": "float64"
        },
        {
         "name": "bond_type_countS",
         "dtype": "int64"
        },
        {
         "name": "bond_type_countA",
         "dtype": "int64"
        },
        {
         "name": "bond_type_countD",
         "dtype": "float64"
        },
        {
         "name": "bond_type_countT",
         "dtype": "float64"
        },
        {
         "name": "bond_type_countAm",
         "dtype": "float64"
        },
        {
         "name": "label_topology_pcu",
         "dtype": "int64"
        },
        {
         "name": "label_topology_sra",
         "dtype": "int64"
        },
        {
         "name": "label_topology_acs",
         "dtype": "int64"
        },
        {
         "name": "label_topology_etb",
         "dtype": "int64"
        },
        {
         "name": "label_topology_bcu",
         "dtype": "int64"
        },
        {
         "name": "label_topology_nbo",
         "dtype": "int64"
        },
        {
         "name": "label_spacegroup_triclinic",
         "dtype": "int64"
        },
        {
         "name": "metal_linker_1",
         "dtype": "int64"
        },
        {
         "name": "metal_linker_2",
         "dtype": "int64"
        },
        {
         "name": "metal_linker_3",
         "dtype": "int64"
        },
        {
         "name": "metal_linker_4",
         "dtype": "int64"
        },
        {
         "name": "metal_linker_9",
         "dtype": "int64"
        },
        {
         "name": "metal_linker_10",
         "dtype": "int64"
        },
        {
         "name": "metal_linker_12",
         "dtype": "int64"
        },
        {
         "name": "density",
         "dtype": "float64"
        },
        {
         "name": "_deepnote_index_column",
         "dtype": "int64"
        }
       ],
       "rows_top": [
        {
         "volume [A^3]": 1116.667429,
         "weight [u]": 875.2405999999999,
         "surface_area [m^2/g]": -9999,
         "void_fraction": 0.07899,
         "void_volume [cm^3/g]": 0.0606902834534965,
         "organic_linker1": 4,
         "organic_linker2": 11,
         "CO2/N2_selectivity": 22.86416611,
         "heat_adsorption_CO2_P0.15bar_T298K [kcal/mol]": 6.786041,
         "_cell_length_a": 10.609882,
         "_cell_length_b": 10.643578,
         "_cell_length_c": 9.890832,
         "_cell_angle_alpha": 89.904234,
         "_cell_angle_beta": 91.242355,
         "_cell_angle_gamma": 90.261935,
         "partial_charge_median": 0.024709,
         "bond_type_countS": 56,
         "bond_type_countA": 20,
         "bond_type_countD": 8,
         "bond_type_countT": 0,
         "bond_type_countAm": 0,
         "label_topology_pcu": 1,
         "label_topology_sra": 0,
         "label_topology_acs": 0,
         "label_topology_etb": 0,
         "label_topology_bcu": 0,
         "label_topology_nbo": 0,
         "label_spacegroup_triclinic": 1,
         "metal_linker_1": 0,
         "metal_linker_2": 0,
         "metal_linker_3": 1,
         "metal_linker_4": 0,
         "metal_linker_9": 0,
         "metal_linker_10": 0,
         "metal_linker_12": 0,
         "density": 1.3015262988601055,
         "_deepnote_index_column": 1
        },
        {
         "volume [A^3]": 2769.503842,
         "weight [u]": 2211.697211,
         "surface_area [m^2/g]": 603.61,
         "void_fraction": 0.13794,
         "void_volume [cm^3/g]": 0.10402007959168029,
         "organic_linker1": 44,
         "organic_linker2": 57,
         "CO2/N2_selectivity": 33.61678033,
         "heat_adsorption_CO2_P0.15bar_T298K [kcal/mol]": 7.147286,
         "_cell_length_a": 8.463295,
         "_cell_length_b": 17.684225,
         "_cell_length_c": 18.960098,
         "_cell_angle_alpha": 100.063446,
         "_cell_angle_beta": 91.815775,
         "_cell_angle_gamma": 96.94221,
         "partial_charge_median": 0.059489,
         "bond_type_countS": 162,
         "bond_type_countA": 50,
         "bond_type_countD": 8,
         "bond_type_countT": 1,
         "bond_type_countAm": 0,
         "label_topology_pcu": 0,
         "label_topology_sra": 0,
         "label_topology_acs": 0,
         "label_topology_etb": 1,
         "label_topology_bcu": 0,
         "label_topology_nbo": 0,
         "label_spacegroup_triclinic": 1,
         "metal_linker_1": 0,
         "metal_linker_2": 0,
         "metal_linker_3": 0,
         "metal_linker_4": 0,
         "metal_linker_9": 0,
         "metal_linker_10": 1,
         "metal_linker_12": 0,
         "density": 1.3260901216521728,
         "_deepnote_index_column": 2
        },
        {
         "volume [A^3]": 1089.818728,
         "weight [u]": 773.68796,
         "surface_area [m^2/g]": 788.5,
         "void_fraction": 0.14874,
         "void_volume [cm^3/g]": 0.12617312623103835,
         "organic_linker1": 22,
         "organic_linker2": 24,
         "CO2/N2_selectivity": 19.26372569,
         "heat_adsorption_CO2_P0.15bar_T298K [kcal/mol]": 6.347967,
         "_cell_length_a": 10.73211,
         "_cell_length_b": 9.552271,
         "_cell_length_c": 10.631996,
         "_cell_angle_alpha": 89.202223,
         "_cell_angle_beta": 89.943258,
         "_cell_angle_gamma": 90.387501,
         "partial_charge_median": 0.126583,
         "bond_type_countS": 87,
         "bond_type_countA": 8,
         "bond_type_countD": 2,
         "bond_type_countT": 0,
         "bond_type_countAm": 0,
         "label_topology_pcu": 1,
         "label_topology_sra": 0,
         "label_topology_acs": 0,
         "label_topology_etb": 0,
         "label_topology_bcu": 0,
         "label_topology_nbo": 0,
         "label_spacegroup_triclinic": 1,
         "metal_linker_1": 0,
         "metal_linker_2": 1,
         "metal_linker_3": 0,
         "metal_linker_4": 0,
         "metal_linker_9": 0,
         "metal_linker_10": 0,
         "metal_linker_12": 0,
         "density": 1.1788564208802987,
         "_deepnote_index_column": 3
        },
        {
         "volume [A^3]": 2205.1983010000004,
         "weight [u]": 1304.63872,
         "surface_area [m^2/g]": 1441.53,
         "void_fraction": 0.21814,
         "void_volume [cm^3/g]": 0.22204620382899154,
         "organic_linker1": 17,
         "organic_linker2": 24,
         "CO2/N2_selectivity": 25.70137692,
         "heat_adsorption_CO2_P0.15bar_T298K [kcal/mol]": 6.190085,
         "_cell_length_a": 6.93553,
         "_cell_length_b": 17.504896,
         "_cell_length_c": 19.27498,
         "_cell_angle_alpha": 109.537419,
         "_cell_angle_beta": 90.23458,
         "_cell_angle_gamma": 90.532988,
         "partial_charge_median": -0.016101,
         "bond_type_countS": 86,
         "bond_type_countA": 54,
         "bond_type_countD": 2,
         "bond_type_countT": 0,
         "bond_type_countAm": 0,
         "label_topology_pcu": 0,
         "label_topology_sra": 1,
         "label_topology_acs": 0,
         "label_topology_etb": 0,
         "label_topology_bcu": 0,
         "label_topology_nbo": 0,
         "label_spacegroup_triclinic": 1,
         "metal_linker_1": 0,
         "metal_linker_2": 0,
         "metal_linker_3": 0,
         "metal_linker_4": 0,
         "metal_linker_9": 1,
         "metal_linker_10": 0,
         "metal_linker_12": 0,
         "density": 0.9824081485671339,
         "_deepnote_index_column": 4
        },
        {
         "volume [A^3]": 1137.800963,
         "weight [u]": 901.73612,
         "surface_area [m^2/g]": -9999,
         "void_fraction": 0.07778,
         "void_volume [cm^3/g]": 0.05910244235531696,
         "organic_linker1": 1,
         "organic_linker2": 22,
         "CO2/N2_selectivity": 30.00183795,
         "heat_adsorption_CO2_P0.15bar_T298K [kcal/mol]": 6.478063,
         "_cell_length_a": 10.825925,
         "_cell_length_b": 9.699886,
         "_cell_length_c": 10.853274,
         "_cell_angle_alpha": 89.694657,
         "_cell_angle_beta": 92.990983,
         "_cell_angle_gamma": 91.404649,
         "partial_charge_median": 0.1432804999999999,
         "bond_type_countS": 84,
         "bond_type_countA": 20,
         "bond_type_countD": 0,
         "bond_type_countT": 0,
         "bond_type_countAm": 0,
         "label_topology_pcu": 1,
         "label_topology_sra": 0,
         "label_topology_acs": 0,
         "label_topology_etb": 0,
         "label_topology_bcu": 0,
         "label_topology_nbo": 0,
         "label_spacegroup_triclinic": 1,
         "metal_linker_1": 0,
         "metal_linker_2": 1,
         "metal_linker_3": 0,
         "metal_linker_4": 0,
         "metal_linker_9": 0,
         "metal_linker_10": 0,
         "metal_linker_12": 0,
         "density": 1.3160200644906643,
         "_deepnote_index_column": 5
        },
        {
         "volume [A^3]": 3954.659761,
         "weight [u]": 1543.02768,
         "surface_area [m^2/g]": 2430.55,
         "void_fraction": 0.3709399999999999,
         "void_volume [cm^3/g]": 0.5725187760279572,
         "organic_linker1": 7,
         "organic_linker2": 23,
         "CO2/N2_selectivity": 17.14654102,
         "heat_adsorption_CO2_P0.15bar_T298K [kcal/mol]": 5.398304,
         "_cell_length_a": 24.949291,
         "_cell_length_b": 7.054011,
         "_cell_length_c": 22.606019,
         "_cell_angle_alpha": 90.036873,
         "_cell_angle_beta": 96.274104,
         "_cell_angle_gamma": 89.946334,
         "partial_charge_median": 0.1095015,
         "bond_type_countS": 132,
         "bond_type_countA": 44,
         "bond_type_countD": 0,
         "bond_type_countT": 6,
         "bond_type_countAm": 0,
         "label_topology_pcu": 0,
         "label_topology_sra": 1,
         "label_topology_acs": 0,
         "label_topology_etb": 0,
         "label_topology_bcu": 0,
         "label_topology_nbo": 0,
         "label_spacegroup_triclinic": 1,
         "metal_linker_1": 0,
         "metal_linker_2": 0,
         "metal_linker_3": 0,
         "metal_linker_4": 0,
         "metal_linker_9": 1,
         "metal_linker_10": 0,
         "metal_linker_12": 0,
         "density": 0.6479088818248402,
         "_deepnote_index_column": 6
        },
        {
         "volume [A^3]": 3565.914939,
         "weight [u]": 1954.749656,
         "surface_area [m^2/g]": 1530.02,
         "void_fraction": 0.33337,
         "void_volume [cm^3/g]": 0.3662326061154878,
         "organic_linker1": 53,
         "organic_linker2": 55,
         "CO2/N2_selectivity": 18.36379134,
         "heat_adsorption_CO2_P0.15bar_T298K [kcal/mol]": 6.303857,
         "_cell_length_a": 8.2867,
         "_cell_length_b": 19.200319,
         "_cell_length_c": 22.787351,
         "_cell_angle_alpha": 100.16818,
         "_cell_angle_beta": 89.967715,
         "_cell_angle_gamma": 92.22909,
         "partial_charge_median": 0.0265695,
         "bond_type_countS": 141,
         "bond_type_countA": 49,
         "bond_type_countD": 15,
         "bond_type_countT": 0,
         "bond_type_countAm": 4,
         "label_topology_pcu": 0,
         "label_topology_sra": 0,
         "label_topology_acs": 0,
         "label_topology_etb": 1,
         "label_topology_bcu": 0,
         "label_topology_nbo": 0,
         "label_spacegroup_triclinic": 1,
         "metal_linker_1": 0,
         "metal_linker_2": 0,
         "metal_linker_3": 0,
         "metal_linker_4": 0,
         "metal_linker_9": 0,
         "metal_linker_10": 1,
         "metal_linker_12": 0,
         "density": 0.9102684862933125,
         "_deepnote_index_column": 7
        },
        {
         "volume [A^3]": 916.043907,
         "weight [u]": 639.11156,
         "surface_area [m^2/g]": 1685.58,
         "void_fraction": 0.28458,
         "void_volume [cm^3/g]": 0.2456374899367273,
         "organic_linker1": 5,
         "organic_linker2": 13,
         "CO2/N2_selectivity": 12.68480443,
         "heat_adsorption_CO2_P0.15bar_T298K [kcal/mol]": 5.234732,
         "_cell_length_a": 12.999835,
         "_cell_length_b": 9.096507,
         "_cell_length_c": 7.790769,
         "_cell_angle_alpha": 90.003048,
         "_cell_angle_beta": 96.113006,
         "_cell_angle_gamma": 89.99935,
         "partial_charge_median": -0.1189905,
         "bond_type_countS": 21,
         "bond_type_countA": 19,
         "bond_type_countD": 0,
         "bond_type_countT": 2,
         "bond_type_countAm": 0,
         "label_topology_pcu": 1,
         "label_topology_sra": 0,
         "label_topology_acs": 0,
         "label_topology_etb": 0,
         "label_topology_bcu": 0,
         "label_topology_nbo": 0,
         "label_spacegroup_triclinic": 1,
         "metal_linker_1": 0,
         "metal_linker_2": 1,
         "metal_linker_3": 0,
         "metal_linker_4": 0,
         "metal_linker_9": 0,
         "metal_linker_10": 0,
         "metal_linker_12": 0,
         "density": 1.1585365087116943,
         "_deepnote_index_column": 8
        },
        {
         "volume [A^3]": 2228.882339,
         "weight [u]": 1422.69182,
         "surface_area [m^2/g]": 1458.02,
         "void_fraction": 0.2427699999999999,
         "void_volume [cm^3/g]": 0.2290456168476044,
         "organic_linker1": 14,
         "organic_linker2": 19,
         "CO2/N2_selectivity": 37.04042435,
         "heat_adsorption_CO2_P0.15bar_T298K [kcal/mol]": 6.298964,
         "_cell_length_a": 11.514733,
         "_cell_length_b": 11.613772,
         "_cell_length_c": 19.363484,
         "_cell_angle_alpha": 90.584232,
         "_cell_angle_beta": 89.362927,
         "_cell_angle_gamma": 59.423201,
         "partial_charge_median": -0.0044885,
         "bond_type_countS": 64,
         "bond_type_countA": 57,
         "bond_type_countD": 1,
         "bond_type_countT": 6,
         "bond_type_countAm": 0,
         "label_topology_pcu": 0,
         "label_topology_sra": 0,
         "label_topology_acs": 1,
         "label_topology_etb": 0,
         "label_topology_bcu": 0,
         "label_topology_nbo": 0,
         "label_spacegroup_triclinic": 1,
         "metal_linker_1": 0,
         "metal_linker_2": 0,
         "metal_linker_3": 0,
         "metal_linker_4": 1,
         "metal_linker_9": 0,
         "metal_linker_10": 0,
         "metal_linker_12": 0,
         "density": 1.059919868108749,
         "_deepnote_index_column": 9
        },
        {
         "volume [A^3]": 4275.421420000001,
         "weight [u]": 1606.196,
         "surface_area [m^2/g]": 3276.11,
         "void_fraction": 0.4100399999999999,
         "void_volume [cm^3/g]": 0.6572903738200758,
         "organic_linker1": 13,
         "organic_linker2": 29,
         "CO2/N2_selectivity": 10.9992991,
         "heat_adsorption_CO2_P0.15bar_T298K [kcal/mol]": 5.539327,
         "_cell_length_a": 12.041039,
         "_cell_length_b": 13.008236,
         "_cell_length_c": 27.438486,
         "_cell_angle_alpha": 91.181769,
         "_cell_angle_beta": 84.870254,
         "_cell_angle_gamma": 92.639099,
         "partial_charge_median": 0.1720324999999999,
         "bond_type_countS": 124,
         "bond_type_countA": 74,
         "bond_type_countD": 0,
         "bond_type_countT": 0,
         "bond_type_countAm": 0,
         "label_topology_pcu": 1,
         "label_topology_sra": 0,
         "label_topology_acs": 0,
         "label_topology_etb": 0,
         "label_topology_bcu": 0,
         "label_topology_nbo": 0,
         "label_spacegroup_triclinic": 1,
         "metal_linker_1": 0,
         "metal_linker_2": 0,
         "metal_linker_3": 1,
         "metal_linker_4": 0,
         "metal_linker_9": 0,
         "metal_linker_10": 0,
         "metal_linker_12": 0,
         "density": 0.6238338736301693,
         "_deepnote_index_column": 10
        },
        {
         "volume [A^3]": 1607.935338,
         "weight [u]": 1110.38712,
         "surface_area [m^2/g]": 1098.36,
         "void_fraction": 0.18787,
         "void_volume [cm^3/g]": 0.16383332983843216,
         "organic_linker1": 1,
         "organic_linker2": 24,
         "CO2/N2_selectivity": 24.25902464,
         "heat_adsorption_CO2_P0.15bar_T298K [kcal/mol]": 5.926444,
         "_cell_length_a": 6.931148,
         "_cell_length_b": 14.529443,
         "_cell_length_c": 15.967346,
         "_cell_angle_alpha": 90.477043,
         "_cell_angle_beta": 90.128514,
         "_cell_angle_gamma": 89.818714,
         "partial_charge_median": -0.1228635,
         "bond_type_countS": 66,
         "bond_type_countA": 34,
         "bond_type_countD": 4,
         "bond_type_countT": 0,
         "bond_type_countAm": 0,
         "label_topology_pcu": 0,
         "label_topology_sra": 1,
         "label_topology_acs": 0,
         "label_topology_etb": 0,
         "label_topology_bcu": 0,
         "label_topology_nbo": 0,
         "label_spacegroup_triclinic": 1,
         "metal_linker_1": 0,
         "metal_linker_2": 0,
         "metal_linker_3": 0,
         "metal_linker_4": 0,
         "metal_linker_9": 1,
         "metal_linker_10": 0,
         "metal_linker_12": 0,
         "density": 1.1467141648483379,
         "_deepnote_index_column": 11
        },
        {
         "volume [A^3]": 1175.47586,
         "weight [u]": 1397.05128,
         "surface_area [m^2/g]": -9999,
         "void_fraction": 0.05704,
         "void_volume [cm^3/g]": 0.028902242620870558,
         "organic_linker1": 22,
         "organic_linker2": 24,
         "CO2/N2_selectivity": 58.10697445,
         "heat_adsorption_CO2_P0.15bar_T298K [kcal/mol]": 7.4078979999999985,
         "_cell_length_a": 10.998061,
         "_cell_length_b": 9.934987,
         "_cell_length_c": 10.760373,
         "_cell_angle_alpha": 90.750251,
         "_cell_angle_beta": 89.160226,
         "_cell_angle_gamma": 90.456866,
         "partial_charge_median": 0.16651,
         "bond_type_countS": 105,
         "bond_type_countA": 8,
         "bond_type_countD": 0,
         "bond_type_countT": 0,
         "bond_type_countAm": 0,
         "label_topology_pcu": 1,
         "label_topology_sra": 0,
         "label_topology_acs": 0,
         "label_topology_etb": 0,
         "label_topology_bcu": 0,
         "label_topology_nbo": 0,
         "label_spacegroup_triclinic": 1,
         "metal_linker_1": 0,
         "metal_linker_2": 1,
         "metal_linker_3": 0,
         "metal_linker_4": 0,
         "metal_linker_9": 0,
         "metal_linker_10": 0,
         "metal_linker_12": 0,
         "density": 1.9735492760278375,
         "_deepnote_index_column": 12
        },
        {
         "volume [A^3]": 1650.879383,
         "weight [u]": 796.6896799999998,
         "surface_area [m^2/g]": 2117.01,
         "void_fraction": 0.3040499999999999,
         "void_volume [cm^3/g]": 0.3794213968046897,
         "organic_linker1": 4,
         "organic_linker2": 6,
         "CO2/N2_selectivity": 12.99674112,
         "heat_adsorption_CO2_P0.15bar_T298K [kcal/mol]": 4.936655,
         "_cell_length_a": 15.969446,
         "_cell_length_b": 10.823247,
         "_cell_length_c": 9.551803,
         "_cell_angle_alpha": 90.396255,
         "_cell_angle_beta": 90.318456,
         "_cell_angle_gamma": 90.0693,
         "partial_charge_median": 0.107489,
         "bond_type_countS": 59,
         "bond_type_countA": 28,
         "bond_type_countD": 0,
         "bond_type_countT": 2,
         "bond_type_countAm": 0,
         "label_topology_pcu": 1,
         "label_topology_sra": 0,
         "label_topology_acs": 0,
         "label_topology_etb": 0,
         "label_topology_bcu": 0,
         "label_topology_nbo": 0,
         "label_spacegroup_triclinic": 1,
         "metal_linker_1": 0,
         "metal_linker_2": 1,
         "metal_linker_3": 0,
         "metal_linker_4": 0,
         "metal_linker_9": 0,
         "metal_linker_10": 0,
         "metal_linker_12": 0,
         "density": 0.8013517491648267,
         "_deepnote_index_column": 13
        }
       ],
       "rows_bottom": [
        {
         "volume [A^3]": 1524.505449,
         "weight [u]": 1685.041936,
         "surface_area [m^2/g]": -9999,
         "void_fraction": 0.0069899999999999,
         "void_volume [cm^3/g]": 0.003808431086344129,
         "organic_linker1": 46,
         "organic_linker2": 48,
         "CO2/N2_selectivity": 9.460790768,
         "heat_adsorption_CO2_P0.15bar_T298K [kcal/mol]": -9999,
         "_cell_length_a": 8.28971,
         "_cell_length_b": 12.704025,
         "_cell_length_c": 14.921507,
         "_cell_angle_alpha": 96.820117,
         "_cell_angle_beta": 97.042548,
         "_cell_angle_gamma": 99.111613,
         "partial_charge_median": 0.1265825,
         "bond_type_countS": 110,
         "bond_type_countA": 31,
         "bond_type_countD": 8,
         "bond_type_countT": 0,
         "bond_type_countAm": 0,
         "label_topology_pcu": 0,
         "label_topology_sra": 0,
         "label_topology_acs": 0,
         "label_topology_etb": 1,
         "label_topology_bcu": 0,
         "label_topology_nbo": 0,
         "label_spacegroup_triclinic": 1,
         "metal_linker_1": 0,
         "metal_linker_2": 0,
         "metal_linker_3": 0,
         "metal_linker_4": 0,
         "metal_linker_9": 0,
         "metal_linker_10": 1,
         "metal_linker_12": 0,
         "density": 1.8354014662530997,
         "_deepnote_index_column": 68594
        },
        {
         "volume [A^3]": 3760.489888,
         "weight [u]": 3343.200672,
         "surface_area [m^2/g]": -9999,
         "void_fraction": 0.0122099999999999,
         "void_volume [cm^3/g]": 0.008270814912462949,
         "organic_linker1": 42,
         "organic_linker2": 42,
         "CO2/N2_selectivity": 0.2271604939999999,
         "heat_adsorption_CO2_P0.15bar_T298K [kcal/mol]": -9999,
         "_cell_length_a": 20.106341,
         "_cell_length_b": 22.433377,
         "_cell_length_c": 8.641388,
         "_cell_angle_alpha": 89.712457,
         "_cell_angle_beta": 105.246472,
         "_cell_angle_gamma": 90.1271,
         "partial_charge_median": 0.0657335,
         "bond_type_countS": 306,
         "bond_type_countA": 48,
         "bond_type_countD": 16,
         "bond_type_countT": 0,
         "bond_type_countAm": 0,
         "label_topology_pcu": 0,
         "label_topology_sra": 0,
         "label_topology_acs": 0,
         "label_topology_etb": 1,
         "label_topology_bcu": 0,
         "label_topology_nbo": 0,
         "label_spacegroup_triclinic": 1,
         "metal_linker_1": 0,
         "metal_linker_2": 0,
         "metal_linker_3": 0,
         "metal_linker_4": 0,
         "metal_linker_9": 0,
         "metal_linker_10": 1,
         "metal_linker_12": 0,
         "density": 1.476275328275229,
         "_deepnote_index_column": 68596
        },
        {
         "volume [A^3]": 1621.161289,
         "weight [u]": 1292.77096,
         "surface_area [m^2/g]": -9999,
         "void_fraction": 0,
         "void_volume [cm^3/g]": 0,
         "organic_linker1": 12,
         "organic_linker2": 12,
         "CO2/N2_selectivity": 4082.551111,
         "heat_adsorption_CO2_P0.15bar_T298K [kcal/mol]": -9999,
         "_cell_length_a": 6.904548,
         "_cell_length_b": 14.262454,
         "_cell_length_c": 16.46276,
         "_cell_angle_alpha": 90.040576,
         "_cell_angle_beta": 89.713152,
         "_cell_angle_gamma": 90.076031,
         "partial_charge_median": 0.1346745,
         "bond_type_countS": 132,
         "bond_type_countA": 16,
         "bond_type_countD": 8,
         "bond_type_countT": 0,
         "bond_type_countAm": 0,
         "label_topology_pcu": 0,
         "label_topology_sra": 1,
         "label_topology_acs": 0,
         "label_topology_etb": 0,
         "label_topology_bcu": 0,
         "label_topology_nbo": 0,
         "label_spacegroup_triclinic": 1,
         "metal_linker_1": 0,
         "metal_linker_2": 0,
         "metal_linker_3": 0,
         "metal_linker_4": 0,
         "metal_linker_9": 1,
         "metal_linker_10": 0,
         "metal_linker_12": 0,
         "density": 1.3241729274467027,
         "_deepnote_index_column": 68598
        },
        {
         "volume [A^3]": 1174.62717,
         "weight [u]": 1649.17081,
         "surface_area [m^2/g]": -9999,
         "void_fraction": 0,
         "void_volume [cm^3/g]": 0,
         "organic_linker1": 14,
         "organic_linker2": 22,
         "CO2/N2_selectivity": 2276.833333,
         "heat_adsorption_CO2_P0.15bar_T298K [kcal/mol]": -9999,
         "_cell_length_a": 11.086717,
         "_cell_length_b": 11.033472,
         "_cell_length_c": 9.696926,
         "_cell_angle_alpha": 89.417259,
         "_cell_angle_beta": 88.139105,
         "_cell_angle_gamma": 97.738502,
         "partial_charge_median": 0.005145,
         "bond_type_countS": 64,
         "bond_type_countA": 30,
         "bond_type_countD": 8,
         "bond_type_countT": 0,
         "bond_type_countAm": 0,
         "label_topology_pcu": 1,
         "label_topology_sra": 0,
         "label_topology_acs": 0,
         "label_topology_etb": 0,
         "label_topology_bcu": 0,
         "label_topology_nbo": 0,
         "label_spacegroup_triclinic": 1,
         "metal_linker_1": 0,
         "metal_linker_2": 1,
         "metal_linker_3": 0,
         "metal_linker_4": 0,
         "metal_linker_9": 0,
         "metal_linker_10": 0,
         "metal_linker_12": 0,
         "density": 2.3313900502041003,
         "_deepnote_index_column": 68600
        },
        {
         "volume [A^3]": 1132.348176,
         "weight [u]": 903.87744,
         "surface_area [m^2/g]": -9999,
         "void_fraction": 0,
         "void_volume [cm^3/g]": 0,
         "organic_linker1": 9,
         "organic_linker2": 12,
         "CO2/N2_selectivity": 546.3466667,
         "heat_adsorption_CO2_P0.15bar_T298K [kcal/mol]": -9999,
         "_cell_length_a": 10.837492,
         "_cell_length_b": 10.912739,
         "_cell_length_c": 9.795559,
         "_cell_angle_alpha": 98.7433,
         "_cell_angle_beta": 98.13228,
         "_cell_angle_gamma": 91.307778,
         "partial_charge_median": 0.056246,
         "bond_type_countS": 62,
         "bond_type_countA": 44,
         "bond_type_countD": 2,
         "bond_type_countT": 0,
         "bond_type_countAm": 0,
         "label_topology_pcu": 1,
         "label_topology_sra": 0,
         "label_topology_acs": 0,
         "label_topology_etb": 0,
         "label_topology_bcu": 0,
         "label_topology_nbo": 0,
         "label_spacegroup_triclinic": 1,
         "metal_linker_1": 0,
         "metal_linker_2": 1,
         "metal_linker_3": 0,
         "metal_linker_4": 0,
         "metal_linker_9": 0,
         "metal_linker_10": 0,
         "metal_linker_12": 0,
         "density": 1.325497471563552,
         "_deepnote_index_column": 68601
        },
        {
         "volume [A^3]": 1131.069889,
         "weight [u]": 895.9516800000001,
         "surface_area [m^2/g]": -9999,
         "void_fraction": 0,
         "void_volume [cm^3/g]": 0,
         "organic_linker1": 4,
         "organic_linker2": 22,
         "CO2/N2_selectivity": 454.265353,
         "heat_adsorption_CO2_P0.15bar_T298K [kcal/mol]": -9999,
         "_cell_length_a": 10.878831,
         "_cell_length_b": 10.816211,
         "_cell_length_c": 9.613343,
         "_cell_angle_alpha": 90.598466,
         "_cell_angle_beta": 90.049004,
         "_cell_angle_gamma": 90.528695,
         "partial_charge_median": 0.166767,
         "bond_type_countS": 101,
         "bond_type_countA": 20,
         "bond_type_countD": 0,
         "bond_type_countT": 0,
         "bond_type_countAm": 0,
         "label_topology_pcu": 1,
         "label_topology_sra": 0,
         "label_topology_acs": 0,
         "label_topology_etb": 0,
         "label_topology_bcu": 0,
         "label_topology_nbo": 0,
         "label_spacegroup_triclinic": 1,
         "metal_linker_1": 0,
         "metal_linker_2": 1,
         "metal_linker_3": 0,
         "metal_linker_4": 0,
         "metal_linker_9": 0,
         "metal_linker_10": 0,
         "metal_linker_12": 0,
         "density": 1.3153595698870204,
         "_deepnote_index_column": 68602
        },
        {
         "volume [A^3]": 699.494867,
         "weight [u]": 653.1773599999999,
         "surface_area [m^2/g]": -9999,
         "void_fraction": 0,
         "void_volume [cm^3/g]": 0,
         "organic_linker1": 10,
         "organic_linker2": 24,
         "CO2/N2_selectivity": 15.60473156,
         "heat_adsorption_CO2_P0.15bar_T298K [kcal/mol]": -9999,
         "_cell_length_a": 7.873026,
         "_cell_length_b": 8.533343,
         "_cell_length_c": 10.481025,
         "_cell_angle_alpha": 92.102205,
         "_cell_angle_beta": 84.853435,
         "_cell_angle_gamma": 93.720456,
         "partial_charge_median": -0.0082,
         "bond_type_countS": 46,
         "bond_type_countA": 8,
         "bond_type_countD": 6,
         "bond_type_countT": 0,
         "bond_type_countAm": 0,
         "label_topology_pcu": 1,
         "label_topology_sra": 0,
         "label_topology_acs": 0,
         "label_topology_etb": 0,
         "label_topology_bcu": 0,
         "label_topology_nbo": 0,
         "label_spacegroup_triclinic": 1,
         "metal_linker_1": 0,
         "metal_linker_2": 0,
         "metal_linker_3": 1,
         "metal_linker_4": 0,
         "metal_linker_9": 0,
         "metal_linker_10": 0,
         "metal_linker_12": 0,
         "density": 1.5505862652375972,
         "_deepnote_index_column": 68604
        },
        {
         "volume [A^3]": 1508.12951,
         "weight [u]": 1517.382416,
         "surface_area [m^2/g]": -9999,
         "void_fraction": 0,
         "void_volume [cm^3/g]": 0,
         "organic_linker1": 46,
         "organic_linker2": 49,
         "CO2/N2_selectivity": 9.974765376,
         "heat_adsorption_CO2_P0.15bar_T298K [kcal/mol]": -9999,
         "_cell_length_a": 8.192043,
         "_cell_length_b": 12.637325,
         "_cell_length_c": 15.004478,
         "_cell_angle_alpha": 96.638568,
         "_cell_angle_beta": 97.927285,
         "_cell_angle_gamma": 98.217215,
         "partial_charge_median": 0.042177,
         "bond_type_countS": 122,
         "bond_type_countA": 30,
         "bond_type_countD": 8,
         "bond_type_countT": 0,
         "bond_type_countAm": 0,
         "label_topology_pcu": 0,
         "label_topology_sra": 0,
         "label_topology_acs": 0,
         "label_topology_etb": 1,
         "label_topology_bcu": 0,
         "label_topology_nbo": 0,
         "label_spacegroup_triclinic": 1,
         "metal_linker_1": 0,
         "metal_linker_2": 0,
         "metal_linker_3": 0,
         "metal_linker_4": 0,
         "metal_linker_9": 0,
         "metal_linker_10": 1,
         "metal_linker_12": 0,
         "density": 1.6707279980647283,
         "_deepnote_index_column": 68605
        },
        {
         "volume [A^3]": 2112.326167,
         "weight [u]": 1977.49208,
         "surface_area [m^2/g]": -9999,
         "void_fraction": 0,
         "void_volume [cm^3/g]": 0,
         "organic_linker1": 14,
         "organic_linker2": 14,
         "CO2/N2_selectivity": 3.233981158,
         "heat_adsorption_CO2_P0.15bar_T298K [kcal/mol]": -9999,
         "_cell_length_a": 11.334026,
         "_cell_length_b": 11.321874,
         "_cell_length_c": 19.017384,
         "_cell_angle_alpha": 90.070675,
         "_cell_angle_beta": 90.031889,
         "_cell_angle_gamma": 120.050727,
         "partial_charge_median": 0.023913,
         "bond_type_countS": 138,
         "bond_type_countA": 90,
         "bond_type_countD": 0,
         "bond_type_countT": 0,
         "bond_type_countAm": 0,
         "label_topology_pcu": 0,
         "label_topology_sra": 0,
         "label_topology_acs": 1,
         "label_topology_etb": 0,
         "label_topology_bcu": 0,
         "label_topology_nbo": 0,
         "label_spacegroup_triclinic": 1,
         "metal_linker_1": 0,
         "metal_linker_2": 0,
         "metal_linker_3": 0,
         "metal_linker_4": 1,
         "metal_linker_9": 0,
         "metal_linker_10": 0,
         "metal_linker_12": 0,
         "density": 1.5545443453871675,
         "_deepnote_index_column": 68606
        },
        {
         "volume [A^3]": 1188.302573,
         "weight [u]": 1001.700216,
         "surface_area [m^2/g]": -9999,
         "void_fraction": 0,
         "void_volume [cm^3/g]": 0,
         "organic_linker1": 4,
         "organic_linker2": 24,
         "CO2/N2_selectivity": 24.13177036,
         "heat_adsorption_CO2_P0.15bar_T298K [kcal/mol]": -9999,
         "_cell_length_a": 10.718161,
         "_cell_length_b": 10.88649,
         "_cell_length_c": 10.19387,
         "_cell_angle_alpha": 90.842269,
         "_cell_angle_beta": 92.241073,
         "_cell_angle_gamma": 90.753457,
         "partial_charge_median": 0.20259,
         "bond_type_countS": 113,
         "bond_type_countA": 20,
         "bond_type_countD": 0,
         "bond_type_countT": 0,
         "bond_type_countAm": 0,
         "label_topology_pcu": 1,
         "label_topology_sra": 0,
         "label_topology_acs": 0,
         "label_topology_etb": 0,
         "label_topology_bcu": 0,
         "label_topology_nbo": 0,
         "label_spacegroup_triclinic": 1,
         "metal_linker_1": 0,
         "metal_linker_2": 0,
         "metal_linker_3": 1,
         "metal_linker_4": 0,
         "metal_linker_9": 0,
         "metal_linker_10": 0,
         "metal_linker_12": 0,
         "density": 1.3997809265676309,
         "_deepnote_index_column": 68609
        },
        {
         "volume [A^3]": 1506.6603630000002,
         "weight [u]": 1493.2964960000002,
         "surface_area [m^2/g]": -9999,
         "void_fraction": 0.01108,
         "void_volume [cm^3/g]": 0.0067322422623574485,
         "organic_linker1": 42,
         "organic_linker2": 46,
         "CO2/N2_selectivity": 6.071817778,
         "heat_adsorption_CO2_P0.15bar_T298K [kcal/mol]": -9999,
         "_cell_length_a": 8.19262,
         "_cell_length_b": 12.57623,
         "_cell_length_c": 15.033794,
         "_cell_angle_alpha": 95.184751,
         "_cell_angle_beta": 99.147187,
         "_cell_angle_gamma": 97.430499,
         "partial_charge_median": 0.0286505,
         "bond_type_countS": 113,
         "bond_type_countA": 23,
         "bond_type_countD": 10,
         "bond_type_countT": 0,
         "bond_type_countAm": 0,
         "label_topology_pcu": 0,
         "label_topology_sra": 0,
         "label_topology_acs": 0,
         "label_topology_etb": 1,
         "label_topology_bcu": 0,
         "label_topology_nbo": 0,
         "label_spacegroup_triclinic": 1,
         "metal_linker_1": 0,
         "metal_linker_2": 0,
         "metal_linker_3": 0,
         "metal_linker_4": 0,
         "metal_linker_9": 0,
         "metal_linker_10": 1,
         "metal_linker_12": 0,
         "density": 1.6458112421106017,
         "_deepnote_index_column": 68610
        },
        {
         "volume [A^3]": 2035.532738,
         "weight [u]": 1959.51832,
         "surface_area [m^2/g]": -9999,
         "void_fraction": 0,
         "void_volume [cm^3/g]": 0,
         "organic_linker1": 14,
         "organic_linker2": 22,
         "CO2/N2_selectivity": 9.876133998,
         "heat_adsorption_CO2_P0.15bar_T298K [kcal/mol]": -9999,
         "_cell_length_a": 11.237482,
         "_cell_length_b": 11.321902,
         "_cell_length_c": 18.60812,
         "_cell_angle_alpha": 90.200546,
         "_cell_angle_beta": 90.118422,
         "_cell_angle_gamma": 59.292454,
         "partial_charge_median": 0.07563,
         "bond_type_countS": 153,
         "bond_type_countA": 79,
         "bond_type_countD": 0,
         "bond_type_countT": 0,
         "bond_type_countAm": 0,
         "label_topology_pcu": 0,
         "label_topology_sra": 0,
         "label_topology_acs": 1,
         "label_topology_etb": 0,
         "label_topology_bcu": 0,
         "label_topology_nbo": 0,
         "label_spacegroup_triclinic": 1,
         "metal_linker_1": 0,
         "metal_linker_2": 0,
         "metal_linker_3": 0,
         "metal_linker_4": 1,
         "metal_linker_9": 0,
         "metal_linker_10": 0,
         "metal_linker_12": 0,
         "density": 1.598529215643988,
         "_deepnote_index_column": 68611
        },
        {
         "volume [A^3]": 3985.426053,
         "weight [u]": 3638.67728,
         "surface_area [m^2/g]": -9999,
         "void_fraction": 0,
         "void_volume [cm^3/g]": 0,
         "organic_linker1": 4,
         "organic_linker2": 15,
         "CO2/N2_selectivity": 5.285050632,
         "heat_adsorption_CO2_P0.15bar_T298K [kcal/mol]": 999999,
         "_cell_length_a": 19.396341,
         "_cell_length_b": 11.081428,
         "_cell_length_c": 18.544746,
         "_cell_angle_alpha": 90.467105,
         "_cell_angle_beta": 90.841157,
         "_cell_angle_gamma": 89.911826,
         "partial_charge_median": 0.0299515,
         "bond_type_countS": 282,
         "bond_type_countA": 140,
         "bond_type_countD": 0,
         "bond_type_countT": 0,
         "bond_type_countAm": 0,
         "label_topology_pcu": 0,
         "label_topology_sra": 0,
         "label_topology_acs": 1,
         "label_topology_etb": 0,
         "label_topology_bcu": 0,
         "label_topology_nbo": 0,
         "label_spacegroup_triclinic": 1,
         "metal_linker_1": 0,
         "metal_linker_2": 0,
         "metal_linker_3": 0,
         "metal_linker_4": 1,
         "metal_linker_9": 0,
         "metal_linker_10": 0,
         "metal_linker_12": 0,
         "density": 1.5160660592317354,
         "_deepnote_index_column": 68612
        },
        {
         "volume [A^3]": 1591.009408,
         "weight [u]": 2071.219,
         "surface_area [m^2/g]": -9999,
         "void_fraction": 0.01609,
         "void_volume [cm^3/g]": 0.0074430927158947785,
         "organic_linker1": 9,
         "organic_linker2": 16,
         "CO2/N2_selectivity": 2.621271792,
         "heat_adsorption_CO2_P0.15bar_T298K [kcal/mol]": 999999,
         "_cell_length_a": 11.049965,
         "_cell_length_b": 12.474541,
         "_cell_length_c": 13.706241,
         "_cell_angle_alpha": 118.491266,
         "_cell_angle_beta": 73.368234,
         "_cell_angle_gamma": 98.090342,
         "partial_charge_median": 0.1000085,
         "bond_type_countS": 73,
         "bond_type_countA": 58,
         "bond_type_countD": 0,
         "bond_type_countT": 0,
         "bond_type_countAm": 0,
         "label_topology_pcu": 1,
         "label_topology_sra": 0,
         "label_topology_acs": 0,
         "label_topology_etb": 0,
         "label_topology_bcu": 0,
         "label_topology_nbo": 0,
         "label_spacegroup_triclinic": 1,
         "metal_linker_1": 0,
         "metal_linker_2": 1,
         "metal_linker_3": 0,
         "metal_linker_4": 0,
         "metal_linker_9": 0,
         "metal_linker_10": 0,
         "metal_linker_12": 0,
         "density": 2.1617358017910604,
         "_deepnote_index_column": 68613
        }
       ]
      },
      "text/plain": "            volume [A^3]   weight [u]  surface_area [m^2/g]  void_fraction  \\\nUnnamed: 0                                                                   \n1            1116.667429   875.240600              -9999.00        0.07899   \n2            2769.503842  2211.697211                603.61        0.13794   \n3            1089.818728   773.687960                788.50        0.14874   \n4            2205.198301  1304.638720               1441.53        0.21814   \n5            1137.800963   901.736120              -9999.00        0.07778   \n...                  ...          ...                   ...            ...   \n68609        1188.302573  1001.700216              -9999.00        0.00000   \n68610        1506.660363  1493.296496              -9999.00        0.01108   \n68611        2035.532738  1959.518320              -9999.00        0.00000   \n68612        3985.426053  3638.677280              -9999.00        0.00000   \n68613        1591.009408  2071.219000              -9999.00        0.01609   \n\n            void_volume [cm^3/g]  organic_linker1  organic_linker2  \\\nUnnamed: 0                                                           \n1                       0.060690                4               11   \n2                       0.104020               44               57   \n3                       0.126173               22               24   \n4                       0.222046               17               24   \n5                       0.059102                1               22   \n...                          ...              ...              ...   \n68609                   0.000000                4               24   \n68610                   0.006732               42               46   \n68611                   0.000000               14               22   \n68612                   0.000000                4               15   \n68613                   0.007443                9               16   \n\n            CO2/N2_selectivity  heat_adsorption_CO2_P0.15bar_T298K [kcal/mol]  \\\nUnnamed: 0                                                                      \n1                    22.864166                                       6.786041   \n2                    33.616780                                       7.147286   \n3                    19.263726                                       6.347967   \n4                    25.701377                                       6.190085   \n5                    30.001838                                       6.478063   \n...                        ...                                            ...   \n68609                24.131770                                   -9999.000000   \n68610                 6.071818                                   -9999.000000   \n68611                 9.876134                                   -9999.000000   \n68612                 5.285051                                  999999.000000   \n68613                 2.621272                                  999999.000000   \n\n            _cell_length_a  ...  label_topology_nbo  \\\nUnnamed: 0                  ...                       \n1                10.609882  ...                   0   \n2                 8.463295  ...                   0   \n3                10.732110  ...                   0   \n4                 6.935530  ...                   0   \n5                10.825925  ...                   0   \n...                    ...  ...                 ...   \n68609            10.718161  ...                   0   \n68610             8.192620  ...                   0   \n68611            11.237482  ...                   0   \n68612            19.396341  ...                   0   \n68613            11.049965  ...                   0   \n\n            label_spacegroup_triclinic  metal_linker_1  metal_linker_2  \\\nUnnamed: 0                                                               \n1                                    1               0               0   \n2                                    1               0               0   \n3                                    1               0               1   \n4                                    1               0               0   \n5                                    1               0               1   \n...                                ...             ...             ...   \n68609                                1               0               0   \n68610                                1               0               0   \n68611                                1               0               0   \n68612                                1               0               0   \n68613                                1               0               1   \n\n            metal_linker_3  metal_linker_4  metal_linker_9  metal_linker_10  \\\nUnnamed: 0                                                                    \n1                        1               0               0                0   \n2                        0               0               0                1   \n3                        0               0               0                0   \n4                        0               0               1                0   \n5                        0               0               0                0   \n...                    ...             ...             ...              ...   \n68609                    1               0               0                0   \n68610                    0               0               0                1   \n68611                    0               1               0                0   \n68612                    0               1               0                0   \n68613                    0               0               0                0   \n\n            metal_linker_12   density  \nUnnamed: 0                             \n1                         0  1.301526  \n2                         0  1.326090  \n3                         0  1.178856  \n4                         0  0.982408  \n5                         0  1.316020  \n...                     ...       ...  \n68609                     0  1.399781  \n68610                     0  1.645811  \n68611                     0  1.598529  \n68612                     0  1.516066  \n68613                     0  2.161736  \n\n[66715 rows x 36 columns]",
      "text/html": "<div>\n<style scoped>\n    .dataframe tbody tr th:only-of-type {\n        vertical-align: middle;\n    }\n\n    .dataframe tbody tr th {\n        vertical-align: top;\n    }\n\n    .dataframe thead th {\n        text-align: right;\n    }\n</style>\n<table border=\"1\" class=\"dataframe\">\n  <thead>\n    <tr style=\"text-align: right;\">\n      <th></th>\n      <th>volume [A^3]</th>\n      <th>weight [u]</th>\n      <th>surface_area [m^2/g]</th>\n      <th>void_fraction</th>\n      <th>void_volume [cm^3/g]</th>\n      <th>organic_linker1</th>\n      <th>organic_linker2</th>\n      <th>CO2/N2_selectivity</th>\n      <th>heat_adsorption_CO2_P0.15bar_T298K [kcal/mol]</th>\n      <th>_cell_length_a</th>\n      <th>...</th>\n      <th>label_topology_nbo</th>\n      <th>label_spacegroup_triclinic</th>\n      <th>metal_linker_1</th>\n      <th>metal_linker_2</th>\n      <th>metal_linker_3</th>\n      <th>metal_linker_4</th>\n      <th>metal_linker_9</th>\n      <th>metal_linker_10</th>\n      <th>metal_linker_12</th>\n      <th>density</th>\n    </tr>\n    <tr>\n      <th>Unnamed: 0</th>\n      <th></th>\n      <th></th>\n      <th></th>\n      <th></th>\n      <th></th>\n      <th></th>\n      <th></th>\n      <th></th>\n      <th></th>\n      <th></th>\n      <th></th>\n      <th></th>\n      <th></th>\n      <th></th>\n      <th></th>\n      <th></th>\n      <th></th>\n      <th></th>\n      <th></th>\n      <th></th>\n      <th></th>\n    </tr>\n  </thead>\n  <tbody>\n    <tr>\n      <th>1</th>\n      <td>1116.667429</td>\n      <td>875.240600</td>\n      <td>-9999.00</td>\n      <td>0.07899</td>\n      <td>0.060690</td>\n      <td>4</td>\n      <td>11</td>\n      <td>22.864166</td>\n      <td>6.786041</td>\n      <td>10.609882</td>\n      <td>...</td>\n      <td>0</td>\n      <td>1</td>\n      <td>0</td>\n      <td>0</td>\n      <td>1</td>\n      <td>0</td>\n      <td>0</td>\n      <td>0</td>\n      <td>0</td>\n      <td>1.301526</td>\n    </tr>\n    <tr>\n      <th>2</th>\n      <td>2769.503842</td>\n      <td>2211.697211</td>\n      <td>603.61</td>\n      <td>0.13794</td>\n      <td>0.104020</td>\n      <td>44</td>\n      <td>57</td>\n      <td>33.616780</td>\n      <td>7.147286</td>\n      <td>8.463295</td>\n      <td>...</td>\n      <td>0</td>\n      <td>1</td>\n      <td>0</td>\n      <td>0</td>\n      <td>0</td>\n      <td>0</td>\n      <td>0</td>\n      <td>1</td>\n      <td>0</td>\n      <td>1.326090</td>\n    </tr>\n    <tr>\n      <th>3</th>\n      <td>1089.818728</td>\n      <td>773.687960</td>\n      <td>788.50</td>\n      <td>0.14874</td>\n      <td>0.126173</td>\n      <td>22</td>\n      <td>24</td>\n      <td>19.263726</td>\n      <td>6.347967</td>\n      <td>10.732110</td>\n      <td>...</td>\n      <td>0</td>\n      <td>1</td>\n      <td>0</td>\n      <td>1</td>\n      <td>0</td>\n      <td>0</td>\n      <td>0</td>\n      <td>0</td>\n      <td>0</td>\n      <td>1.178856</td>\n    </tr>\n    <tr>\n      <th>4</th>\n      <td>2205.198301</td>\n      <td>1304.638720</td>\n      <td>1441.53</td>\n      <td>0.21814</td>\n      <td>0.222046</td>\n      <td>17</td>\n      <td>24</td>\n      <td>25.701377</td>\n      <td>6.190085</td>\n      <td>6.935530</td>\n      <td>...</td>\n      <td>0</td>\n      <td>1</td>\n      <td>0</td>\n      <td>0</td>\n      <td>0</td>\n      <td>0</td>\n      <td>1</td>\n      <td>0</td>\n      <td>0</td>\n      <td>0.982408</td>\n    </tr>\n    <tr>\n      <th>5</th>\n      <td>1137.800963</td>\n      <td>901.736120</td>\n      <td>-9999.00</td>\n      <td>0.07778</td>\n      <td>0.059102</td>\n      <td>1</td>\n      <td>22</td>\n      <td>30.001838</td>\n      <td>6.478063</td>\n      <td>10.825925</td>\n      <td>...</td>\n      <td>0</td>\n      <td>1</td>\n      <td>0</td>\n      <td>1</td>\n      <td>0</td>\n      <td>0</td>\n      <td>0</td>\n      <td>0</td>\n      <td>0</td>\n      <td>1.316020</td>\n    </tr>\n    <tr>\n      <th>...</th>\n      <td>...</td>\n      <td>...</td>\n      <td>...</td>\n      <td>...</td>\n      <td>...</td>\n      <td>...</td>\n      <td>...</td>\n      <td>...</td>\n      <td>...</td>\n      <td>...</td>\n      <td>...</td>\n      <td>...</td>\n      <td>...</td>\n      <td>...</td>\n      <td>...</td>\n      <td>...</td>\n      <td>...</td>\n      <td>...</td>\n      <td>...</td>\n      <td>...</td>\n      <td>...</td>\n    </tr>\n    <tr>\n      <th>68609</th>\n      <td>1188.302573</td>\n      <td>1001.700216</td>\n      <td>-9999.00</td>\n      <td>0.00000</td>\n      <td>0.000000</td>\n      <td>4</td>\n      <td>24</td>\n      <td>24.131770</td>\n      <td>-9999.000000</td>\n      <td>10.718161</td>\n      <td>...</td>\n      <td>0</td>\n      <td>1</td>\n      <td>0</td>\n      <td>0</td>\n      <td>1</td>\n      <td>0</td>\n      <td>0</td>\n      <td>0</td>\n      <td>0</td>\n      <td>1.399781</td>\n    </tr>\n    <tr>\n      <th>68610</th>\n      <td>1506.660363</td>\n      <td>1493.296496</td>\n      <td>-9999.00</td>\n      <td>0.01108</td>\n      <td>0.006732</td>\n      <td>42</td>\n      <td>46</td>\n      <td>6.071818</td>\n      <td>-9999.000000</td>\n      <td>8.192620</td>\n      <td>...</td>\n      <td>0</td>\n      <td>1</td>\n      <td>0</td>\n      <td>0</td>\n      <td>0</td>\n      <td>0</td>\n      <td>0</td>\n      <td>1</td>\n      <td>0</td>\n      <td>1.645811</td>\n    </tr>\n    <tr>\n      <th>68611</th>\n      <td>2035.532738</td>\n      <td>1959.518320</td>\n      <td>-9999.00</td>\n      <td>0.00000</td>\n      <td>0.000000</td>\n      <td>14</td>\n      <td>22</td>\n      <td>9.876134</td>\n      <td>-9999.000000</td>\n      <td>11.237482</td>\n      <td>...</td>\n      <td>0</td>\n      <td>1</td>\n      <td>0</td>\n      <td>0</td>\n      <td>0</td>\n      <td>1</td>\n      <td>0</td>\n      <td>0</td>\n      <td>0</td>\n      <td>1.598529</td>\n    </tr>\n    <tr>\n      <th>68612</th>\n      <td>3985.426053</td>\n      <td>3638.677280</td>\n      <td>-9999.00</td>\n      <td>0.00000</td>\n      <td>0.000000</td>\n      <td>4</td>\n      <td>15</td>\n      <td>5.285051</td>\n      <td>999999.000000</td>\n      <td>19.396341</td>\n      <td>...</td>\n      <td>0</td>\n      <td>1</td>\n      <td>0</td>\n      <td>0</td>\n      <td>0</td>\n      <td>1</td>\n      <td>0</td>\n      <td>0</td>\n      <td>0</td>\n      <td>1.516066</td>\n    </tr>\n    <tr>\n      <th>68613</th>\n      <td>1591.009408</td>\n      <td>2071.219000</td>\n      <td>-9999.00</td>\n      <td>0.01609</td>\n      <td>0.007443</td>\n      <td>9</td>\n      <td>16</td>\n      <td>2.621272</td>\n      <td>999999.000000</td>\n      <td>11.049965</td>\n      <td>...</td>\n      <td>0</td>\n      <td>1</td>\n      <td>0</td>\n      <td>1</td>\n      <td>0</td>\n      <td>0</td>\n      <td>0</td>\n      <td>0</td>\n      <td>0</td>\n      <td>2.161736</td>\n    </tr>\n  </tbody>\n</table>\n<p>66715 rows × 36 columns</p>\n</div>"
     },
     "metadata": {}
    }
   ]
  },
  {
   "cell_type": "code",
   "metadata": {
    "tags": [],
    "cell_id": "00015-122c9c1b-4e5c-421f-abbe-7ec5258d5040",
    "deepnote_to_be_reexecuted": false,
    "source_hash": "75a4265b",
    "execution_start": 1632583218717,
    "execution_millis": 20,
    "deepnote_cell_type": "code"
   },
   "source": "test = TestDataPreprocessingPipeline(\n    Pretest,\n    train.imputer,\n    train.functional_group_extractor,\n    train.X.columns\n)\ntest.topology2num = train.topology2num\ntest.spacegroup2num = train.spacegroup2num\ntest.run()",
   "execution_count": null,
   "outputs": [
    {
     "name": "stdout",
     "text": "Print droping and replace null\nImpute\n",
     "output_type": "stream"
    }
   ]
  },
  {
   "cell_type": "code",
   "metadata": {
    "tags": [],
    "cell_id": "00018-180e5395-ec1b-4e92-987e-83d31fa4b84f",
    "deepnote_to_be_reexecuted": false,
    "source_hash": "63a82644",
    "execution_start": 1632583218718,
    "execution_millis": 0,
    "deepnote_cell_type": "code"
   },
   "source": "assert all(train.X.columns == test.X.columns)",
   "execution_count": null,
   "outputs": []
  },
  {
   "cell_type": "code",
   "metadata": {
    "tags": [],
    "cell_id": "00013-77119cbf-0efc-490d-bf75-d58ea89f4dcf",
    "deepnote_to_be_reexecuted": false,
    "source_hash": "a2a5e9c7",
    "execution_start": 1632583218718,
    "execution_millis": 19,
    "deepnote_cell_type": "code"
   },
   "source": "len(train.X.columns)",
   "execution_count": null,
   "outputs": [
    {
     "output_type": "execute_result",
     "execution_count": 10,
     "data": {
      "text/plain": "36"
     },
     "metadata": {}
    }
   ]
  },
  {
   "cell_type": "code",
   "metadata": {
    "tags": [],
    "cell_id": "00012-aaa8b8c4-5fb0-4cbb-8276-2c1bf0084ac9",
    "deepnote_to_be_reexecuted": false,
    "source_hash": "60f5a559",
    "execution_start": 1632583218723,
    "execution_millis": 114,
    "deepnote_cell_type": "code"
   },
   "source": "1/test.X[train.X.columns][['density']]",
   "execution_count": null,
   "outputs": [
    {
     "output_type": "execute_result",
     "execution_count": 11,
     "data": {
      "application/vnd.deepnote.dataframe.v2+json": {
       "row_count": 2000,
       "column_count": 1,
       "columns": [
        {
         "name": "density",
         "dtype": "float64",
         "stats": {
          "unique_count": 2000,
          "nan_count": 0,
          "min": "0.4441881604275172",
          "max": "5.995398507197425",
          "histogram": [
           {
            "bin_start": 0.4441881604275172,
            "bin_end": 0.999309195104508,
            "count": 716
           },
           {
            "bin_start": 0.999309195104508,
            "bin_end": 1.5544302297814987,
            "count": 797
           },
           {
            "bin_start": 1.5544302297814987,
            "bin_end": 2.1095512644584895,
            "count": 248
           },
           {
            "bin_start": 2.1095512644584895,
            "bin_end": 2.6646722991354803,
            "count": 112
           },
           {
            "bin_start": 2.6646722991354803,
            "bin_end": 3.219793333812471,
            "count": 65
           },
           {
            "bin_start": 3.219793333812471,
            "bin_end": 3.774914368489462,
            "count": 28
           },
           {
            "bin_start": 3.774914368489462,
            "bin_end": 4.330035403166453,
            "count": 16
           },
           {
            "bin_start": 4.330035403166453,
            "bin_end": 4.8851564378434436,
            "count": 4
           },
           {
            "bin_start": 4.8851564378434436,
            "bin_end": 5.440277472520434,
            "count": 12
           },
           {
            "bin_start": 5.440277472520434,
            "bin_end": 5.995398507197425,
            "count": 2
           }
          ]
         }
        },
        {
         "name": "_deepnote_index_column",
         "dtype": "int64"
        }
       ],
       "rows_top": [
        {
         "density": 1.666997572553401,
         "_deepnote_index_column": 1
        },
        {
         "density": 1.214610902797537,
         "_deepnote_index_column": 2
        },
        {
         "density": 1.1410069806730878,
         "_deepnote_index_column": 3
        },
        {
         "density": 1.5431444073168121,
         "_deepnote_index_column": 4
        },
        {
         "density": 0.6603753279104085,
         "_deepnote_index_column": 5
        },
        {
         "density": 1.056926213866801,
         "_deepnote_index_column": 6
        },
        {
         "density": 1.0036866306018466,
         "_deepnote_index_column": 7
        },
        {
         "density": 1.3967237556719687,
         "_deepnote_index_column": 8
        },
        {
         "density": 1.7580884218105322,
         "_deepnote_index_column": 9
        },
        {
         "density": 1.0257749758586383,
         "_deepnote_index_column": 10
        },
        {
         "density": 1.2600714482527793,
         "_deepnote_index_column": 11
        },
        {
         "density": 1.264307162099315,
         "_deepnote_index_column": 12
        },
        {
         "density": 1.1325626734925682,
         "_deepnote_index_column": 13
        },
        {
         "density": 0.8046461265662379,
         "_deepnote_index_column": 14
        },
        {
         "density": 0.7121647560113958,
         "_deepnote_index_column": 15
        },
        {
         "density": 1.0683319817658716,
         "_deepnote_index_column": 16
        },
        {
         "density": 1.1913802055986682,
         "_deepnote_index_column": 17
        },
        {
         "density": 1.940500575813734,
         "_deepnote_index_column": 18
        },
        {
         "density": 1.5618347375799067,
         "_deepnote_index_column": 19
        },
        {
         "density": 0.8546930998965044,
         "_deepnote_index_column": 20
        },
        {
         "density": 1.4167224898392676,
         "_deepnote_index_column": 21
        },
        {
         "density": 1.0342525552401056,
         "_deepnote_index_column": 22
        },
        {
         "density": 0.9118318029863691,
         "_deepnote_index_column": 23
        },
        {
         "density": 1.1750246083760079,
         "_deepnote_index_column": 24
        },
        {
         "density": 0.7362484867512197,
         "_deepnote_index_column": 25
        },
        {
         "density": 0.8140746612741436,
         "_deepnote_index_column": 26
        },
        {
         "density": 1.0085955823907855,
         "_deepnote_index_column": 27
        },
        {
         "density": 1.102388374557626,
         "_deepnote_index_column": 28
        },
        {
         "density": 1.3886603906262758,
         "_deepnote_index_column": 29
        },
        {
         "density": 0.9711164264738263,
         "_deepnote_index_column": 30
        },
        {
         "density": 1.230065460032025,
         "_deepnote_index_column": 31
        },
        {
         "density": 1.393271619604657,
         "_deepnote_index_column": 32
        },
        {
         "density": 0.700908133036513,
         "_deepnote_index_column": 33
        },
        {
         "density": 2.1178176588725273,
         "_deepnote_index_column": 34
        },
        {
         "density": 0.8152556895148807,
         "_deepnote_index_column": 35
        },
        {
         "density": 0.86826515290954,
         "_deepnote_index_column": 36
        },
        {
         "density": 0.7145352977043055,
         "_deepnote_index_column": 37
        },
        {
         "density": 1.2020996790370868,
         "_deepnote_index_column": 38
        },
        {
         "density": 1.5903066119036084,
         "_deepnote_index_column": 39
        },
        {
         "density": 1.2327585073480165,
         "_deepnote_index_column": 40
        },
        {
         "density": 0.87058012626885,
         "_deepnote_index_column": 41
        },
        {
         "density": 0.8906887811213977,
         "_deepnote_index_column": 42
        },
        {
         "density": 1.2636536907963074,
         "_deepnote_index_column": 43
        },
        {
         "density": 0.9806577363074532,
         "_deepnote_index_column": 44
        },
        {
         "density": 1.2362162731468604,
         "_deepnote_index_column": 45
        },
        {
         "density": 0.8176051678833292,
         "_deepnote_index_column": 46
        },
        {
         "density": 0.9892879376112518,
         "_deepnote_index_column": 47
        },
        {
         "density": 1.085447012450872,
         "_deepnote_index_column": 48
        },
        {
         "density": 0.7976310708108569,
         "_deepnote_index_column": 49
        },
        {
         "density": 1.47757575149357,
         "_deepnote_index_column": 50
        },
        {
         "density": 1.1541646760292432,
         "_deepnote_index_column": 51
        },
        {
         "density": 0.9229592522131574,
         "_deepnote_index_column": 52
        },
        {
         "density": 1.7931615349370893,
         "_deepnote_index_column": 53
        },
        {
         "density": 0.8070902302955973,
         "_deepnote_index_column": 54
        },
        {
         "density": 1.1734737576813326,
         "_deepnote_index_column": 55
        },
        {
         "density": 1.245179178441951,
         "_deepnote_index_column": 56
        },
        {
         "density": 1.1453235133053747,
         "_deepnote_index_column": 57
        },
        {
         "density": 1.2704121177068814,
         "_deepnote_index_column": 58
        },
        {
         "density": 1.017608714640792,
         "_deepnote_index_column": 59
        },
        {
         "density": 0.9606668445735703,
         "_deepnote_index_column": 60
        },
        {
         "density": 1.0314213415804954,
         "_deepnote_index_column": 61
        },
        {
         "density": 0.9699274978019282,
         "_deepnote_index_column": 62
        },
        {
         "density": 1.2063073281100305,
         "_deepnote_index_column": 63
        },
        {
         "density": 1.3186526833404395,
         "_deepnote_index_column": 64
        },
        {
         "density": 0.7405726818899248,
         "_deepnote_index_column": 65
        },
        {
         "density": 0.7799214922385735,
         "_deepnote_index_column": 66
        },
        {
         "density": 1.0057930028619138,
         "_deepnote_index_column": 67
        },
        {
         "density": 0.78991110302455,
         "_deepnote_index_column": 68
        },
        {
         "density": 0.9851545366512016,
         "_deepnote_index_column": 69
        },
        {
         "density": 0.6594516058199124,
         "_deepnote_index_column": 70
        },
        {
         "density": 1.3981277634312108,
         "_deepnote_index_column": 71
        },
        {
         "density": 1.0535714109222805,
         "_deepnote_index_column": 72
        },
        {
         "density": 1.2152445944149577,
         "_deepnote_index_column": 73
        },
        {
         "density": 0.9852823038496941,
         "_deepnote_index_column": 74
        },
        {
         "density": 0.7095822849892004,
         "_deepnote_index_column": 75
        },
        {
         "density": 0.9713967141068546,
         "_deepnote_index_column": 76
        },
        {
         "density": 0.715086169925052,
         "_deepnote_index_column": 77
        },
        {
         "density": 0.6936699824266449,
         "_deepnote_index_column": 78
        },
        {
         "density": 1.084580478794941,
         "_deepnote_index_column": 79
        },
        {
         "density": 0.8620533729086801,
         "_deepnote_index_column": 80
        },
        {
         "density": 1.0401206922013815,
         "_deepnote_index_column": 81
        },
        {
         "density": 1.787447103165352,
         "_deepnote_index_column": 82
        },
        {
         "density": 1.1907422383561692,
         "_deepnote_index_column": 83
        },
        {
         "density": 0.9614821627955848,
         "_deepnote_index_column": 84
        },
        {
         "density": 0.6373608502291733,
         "_deepnote_index_column": 85
        },
        {
         "density": 1.3169445949803409,
         "_deepnote_index_column": 86
        },
        {
         "density": 0.8811623577612442,
         "_deepnote_index_column": 87
        },
        {
         "density": 0.8282392752979274,
         "_deepnote_index_column": 88
        },
        {
         "density": 1.7913780128278183,
         "_deepnote_index_column": 89
        },
        {
         "density": 0.8959595379051297,
         "_deepnote_index_column": 90
        },
        {
         "density": 1.2268195833085054,
         "_deepnote_index_column": 91
        },
        {
         "density": 0.7050002327110456,
         "_deepnote_index_column": 92
        },
        {
         "density": 0.6504164570903079,
         "_deepnote_index_column": 93
        },
        {
         "density": 0.940002680646527,
         "_deepnote_index_column": 94
        },
        {
         "density": 1.2978784429695207,
         "_deepnote_index_column": 95
        },
        {
         "density": 1.22835216724651,
         "_deepnote_index_column": 96
        },
        {
         "density": 0.5927476868969603,
         "_deepnote_index_column": 97
        },
        {
         "density": 1.2182436272735724,
         "_deepnote_index_column": 98
        },
        {
         "density": 1.11824114184987,
         "_deepnote_index_column": 99
        },
        {
         "density": 1.0238691942670528,
         "_deepnote_index_column": 100
        },
        {
         "density": 0.8644432862106247,
         "_deepnote_index_column": 101
        },
        {
         "density": 1.5547263018844732,
         "_deepnote_index_column": 102
        },
        {
         "density": 0.6960973096076248,
         "_deepnote_index_column": 103
        },
        {
         "density": 0.693035874158302,
         "_deepnote_index_column": 104
        },
        {
         "density": 1.6676846072245048,
         "_deepnote_index_column": 105
        },
        {
         "density": 1.0936890298273674,
         "_deepnote_index_column": 106
        },
        {
         "density": 0.890719052962032,
         "_deepnote_index_column": 107
        },
        {
         "density": 0.7305800403177297,
         "_deepnote_index_column": 108
        },
        {
         "density": 1.5939368579959137,
         "_deepnote_index_column": 109
        },
        {
         "density": 1.2834290842746574,
         "_deepnote_index_column": 110
        },
        {
         "density": 0.7837636111074309,
         "_deepnote_index_column": 111
        },
        {
         "density": 0.7775442002111206,
         "_deepnote_index_column": 112
        },
        {
         "density": 1.0750964090299848,
         "_deepnote_index_column": 113
        },
        {
         "density": 1.1246515606761347,
         "_deepnote_index_column": 114
        },
        {
         "density": 1.074885282217978,
         "_deepnote_index_column": 115
        },
        {
         "density": 0.6514564628206609,
         "_deepnote_index_column": 116
        },
        {
         "density": 1.020256338159052,
         "_deepnote_index_column": 117
        },
        {
         "density": 1.0000109463717273,
         "_deepnote_index_column": 118
        },
        {
         "density": 0.984307149052533,
         "_deepnote_index_column": 119
        },
        {
         "density": 0.838057154094862,
         "_deepnote_index_column": 120
        },
        {
         "density": 1.557548945823784,
         "_deepnote_index_column": 121
        },
        {
         "density": 0.9113920772635727,
         "_deepnote_index_column": 122
        },
        {
         "density": 0.7371058958637361,
         "_deepnote_index_column": 123
        },
        {
         "density": 1.3027606322211827,
         "_deepnote_index_column": 124
        },
        {
         "density": 0.7207415044930224,
         "_deepnote_index_column": 125
        },
        {
         "density": 1.5989177720255008,
         "_deepnote_index_column": 126
        },
        {
         "density": 0.9105913237930172,
         "_deepnote_index_column": 127
        },
        {
         "density": 0.8495744929432254,
         "_deepnote_index_column": 128
        },
        {
         "density": 0.7645656082822214,
         "_deepnote_index_column": 129
        },
        {
         "density": 1.1367261740291732,
         "_deepnote_index_column": 130
        },
        {
         "density": 0.7933840218566242,
         "_deepnote_index_column": 131
        },
        {
         "density": 1.1714419917073582,
         "_deepnote_index_column": 132
        },
        {
         "density": 0.8088455598544254,
         "_deepnote_index_column": 133
        },
        {
         "density": 1.100331665575429,
         "_deepnote_index_column": 134
        },
        {
         "density": 0.690368597285967,
         "_deepnote_index_column": 135
        },
        {
         "density": 0.8095490870061124,
         "_deepnote_index_column": 136
        },
        {
         "density": 1.0045129079165205,
         "_deepnote_index_column": 137
        },
        {
         "density": 0.8376431723839598,
         "_deepnote_index_column": 138
        },
        {
         "density": 1.2756655578381004,
         "_deepnote_index_column": 139
        },
        {
         "density": 1.3530842955352105,
         "_deepnote_index_column": 140
        },
        {
         "density": 0.5835530590522798,
         "_deepnote_index_column": 141
        },
        {
         "density": 1.6559431897232255,
         "_deepnote_index_column": 142
        },
        {
         "density": 1.0844740148696592,
         "_deepnote_index_column": 143
        },
        {
         "density": 1.3495507022091766,
         "_deepnote_index_column": 144
        },
        {
         "density": 1.1867423167475708,
         "_deepnote_index_column": 145
        },
        {
         "density": 1.106709574848017,
         "_deepnote_index_column": 146
        },
        {
         "density": 1.504754052958482,
         "_deepnote_index_column": 147
        },
        {
         "density": 0.7854810887550514,
         "_deepnote_index_column": 148
        },
        {
         "density": 0.8317883759302759,
         "_deepnote_index_column": 149
        },
        {
         "density": 1.1934355632156393,
         "_deepnote_index_column": 150
        },
        {
         "density": 0.8790674282702355,
         "_deepnote_index_column": 151
        },
        {
         "density": 0.995227195580233,
         "_deepnote_index_column": 152
        },
        {
         "density": 1.1245655163843256,
         "_deepnote_index_column": 153
        },
        {
         "density": 0.7190231866378817,
         "_deepnote_index_column": 154
        },
        {
         "density": 1.0774486796231997,
         "_deepnote_index_column": 155
        },
        {
         "density": 0.8579584839640804,
         "_deepnote_index_column": 156
        },
        {
         "density": 1.3294565331594808,
         "_deepnote_index_column": 157
        },
        {
         "density": 0.7619053134356176,
         "_deepnote_index_column": 158
        },
        {
         "density": 1.1240360203982107,
         "_deepnote_index_column": 159
        },
        {
         "density": 0.73530838764269,
         "_deepnote_index_column": 160
        },
        {
         "density": 0.7414717852474028,
         "_deepnote_index_column": 161
        },
        {
         "density": 0.6945802572596625,
         "_deepnote_index_column": 162
        },
        {
         "density": 0.6238625115112185,
         "_deepnote_index_column": 163
        },
        {
         "density": 1.3273392089445046,
         "_deepnote_index_column": 164
        },
        {
         "density": 0.9847951336650042,
         "_deepnote_index_column": 165
        },
        {
         "density": 1.3222488837000406,
         "_deepnote_index_column": 166
        },
        {
         "density": 0.9883437528952251,
         "_deepnote_index_column": 167
        },
        {
         "density": 0.6907254857909364,
         "_deepnote_index_column": 168
        },
        {
         "density": 0.9717836731597137,
         "_deepnote_index_column": 169
        },
        {
         "density": 0.9411899615895892,
         "_deepnote_index_column": 170
        },
        {
         "density": 1.0480686588601011,
         "_deepnote_index_column": 171
        },
        {
         "density": 1.5178011048027997,
         "_deepnote_index_column": 172
        },
        {
         "density": 0.9875351101284268,
         "_deepnote_index_column": 173
        },
        {
         "density": 0.9647468310058017,
         "_deepnote_index_column": 174
        },
        {
         "density": 1.0770027769688966,
         "_deepnote_index_column": 175
        },
        {
         "density": 1.1177780741912304,
         "_deepnote_index_column": 176
        },
        {
         "density": 0.705679491995947,
         "_deepnote_index_column": 177
        },
        {
         "density": 0.8530108498949196,
         "_deepnote_index_column": 178
        },
        {
         "density": 0.9401162897843794,
         "_deepnote_index_column": 179
        },
        {
         "density": 1.0229184692455418,
         "_deepnote_index_column": 180
        },
        {
         "density": 1.1846250621816037,
         "_deepnote_index_column": 181
        },
        {
         "density": 2.1386795445634212,
         "_deepnote_index_column": 182
        },
        {
         "density": 0.8044146907417942,
         "_deepnote_index_column": 183
        },
        {
         "density": 1.0572191147941092,
         "_deepnote_index_column": 184
        },
        {
         "density": 1.282963009155942,
         "_deepnote_index_column": 185
        },
        {
         "density": 0.9236092170349423,
         "_deepnote_index_column": 186
        },
        {
         "density": 1.1872523236869306,
         "_deepnote_index_column": 187
        },
        {
         "density": 1.3635392496660512,
         "_deepnote_index_column": 188
        },
        {
         "density": 1.1225080234577578,
         "_deepnote_index_column": 189
        },
        {
         "density": 0.9357359843337008,
         "_deepnote_index_column": 190
        },
        {
         "density": 1.3579936869660745,
         "_deepnote_index_column": 191
        },
        {
         "density": 1.1493287810448858,
         "_deepnote_index_column": 192
        },
        {
         "density": 1.069612611861556,
         "_deepnote_index_column": 193
        },
        {
         "density": 1.0313717269986276,
         "_deepnote_index_column": 194
        },
        {
         "density": 0.5927988636378377,
         "_deepnote_index_column": 195
        },
        {
         "density": 1.178999510008801,
         "_deepnote_index_column": 196
        },
        {
         "density": 0.9145997443983325,
         "_deepnote_index_column": 197
        },
        {
         "density": 2.2628371394882447,
         "_deepnote_index_column": 198
        },
        {
         "density": 1.2970385238278226,
         "_deepnote_index_column": 199
        },
        {
         "density": 0.9258472514210362,
         "_deepnote_index_column": 200
        },
        {
         "density": 1.709470374139999,
         "_deepnote_index_column": 201
        },
        {
         "density": 1.1581024851608532,
         "_deepnote_index_column": 202
        },
        {
         "density": 1.7174879332723734,
         "_deepnote_index_column": 203
        },
        {
         "density": 1.409819063941156,
         "_deepnote_index_column": 204
        },
        {
         "density": 0.9291525286180221,
         "_deepnote_index_column": 205
        },
        {
         "density": 1.2085224294702008,
         "_deepnote_index_column": 206
        },
        {
         "density": 1.2509212509085537,
         "_deepnote_index_column": 207
        },
        {
         "density": 0.7126965502483112,
         "_deepnote_index_column": 208
        },
        {
         "density": 0.9262664970084545,
         "_deepnote_index_column": 209
        },
        {
         "density": 1.034773284107937,
         "_deepnote_index_column": 210
        },
        {
         "density": 1.29036261063863,
         "_deepnote_index_column": 211
        },
        {
         "density": 1.3189785660573683,
         "_deepnote_index_column": 212
        },
        {
         "density": 1.5412601650319468,
         "_deepnote_index_column": 213
        },
        {
         "density": 0.6508209005162656,
         "_deepnote_index_column": 214
        },
        {
         "density": 1.8368654562537037,
         "_deepnote_index_column": 215
        },
        {
         "density": 1.2061346076450439,
         "_deepnote_index_column": 216
        },
        {
         "density": 1.2447341128040028,
         "_deepnote_index_column": 217
        },
        {
         "density": 1.4154746280767914,
         "_deepnote_index_column": 218
        },
        {
         "density": 0.8349889124829747,
         "_deepnote_index_column": 219
        },
        {
         "density": 0.9241018656640724,
         "_deepnote_index_column": 220
        },
        {
         "density": 1.10456782916234,
         "_deepnote_index_column": 221
        },
        {
         "density": 0.8338198783830911,
         "_deepnote_index_column": 222
        },
        {
         "density": 0.9033580826680275,
         "_deepnote_index_column": 223
        },
        {
         "density": 0.6648690626359227,
         "_deepnote_index_column": 224
        },
        {
         "density": 1.2846256160550702,
         "_deepnote_index_column": 225
        },
        {
         "density": 0.765573071900333,
         "_deepnote_index_column": 226
        },
        {
         "density": 0.7817950863374495,
         "_deepnote_index_column": 227
        },
        {
         "density": 1.2637347615013368,
         "_deepnote_index_column": 228
        },
        {
         "density": 1.1933398858044895,
         "_deepnote_index_column": 229
        },
        {
         "density": 1.1784005103026804,
         "_deepnote_index_column": 230
        },
        {
         "density": 0.9379240190492053,
         "_deepnote_index_column": 231
        },
        {
         "density": 1.326446782530958,
         "_deepnote_index_column": 232
        },
        {
         "density": 1.1486487777542869,
         "_deepnote_index_column": 233
        },
        {
         "density": 1.0465586896797343,
         "_deepnote_index_column": 234
        },
        {
         "density": 0.9555925815516315,
         "_deepnote_index_column": 235
        },
        {
         "density": 0.7898045037775486,
         "_deepnote_index_column": 236
        },
        {
         "density": 1.3579977467917153,
         "_deepnote_index_column": 237
        },
        {
         "density": 1.2261156737587826,
         "_deepnote_index_column": 238
        },
        {
         "density": 0.8934259802603123,
         "_deepnote_index_column": 239
        },
        {
         "density": 1.1462468898576301,
         "_deepnote_index_column": 240
        },
        {
         "density": 1.0908751129810015,
         "_deepnote_index_column": 241
        },
        {
         "density": 0.974258710119294,
         "_deepnote_index_column": 242
        },
        {
         "density": 0.817864699928004,
         "_deepnote_index_column": 243
        },
        {
         "density": 0.5414958013058405,
         "_deepnote_index_column": 244
        },
        {
         "density": 1.1358294125035056,
         "_deepnote_index_column": 245
        },
        {
         "density": 1.3527832292198532,
         "_deepnote_index_column": 246
        },
        {
         "density": 0.9838348957132617,
         "_deepnote_index_column": 247
        },
        {
         "density": 1.6278691181043816,
         "_deepnote_index_column": 248
        },
        {
         "density": 0.9919150387110423,
         "_deepnote_index_column": 249
        },
        {
         "density": 1.5215571902201406,
         "_deepnote_index_column": 250
        },
        {
         "density": 1.2437819430165649,
         "_deepnote_index_column": 251
        },
        {
         "density": 0.9771399136033008,
         "_deepnote_index_column": 252
        },
        {
         "density": 0.9916338176556339,
         "_deepnote_index_column": 253
        },
        {
         "density": 0.6331431327067063,
         "_deepnote_index_column": 254
        },
        {
         "density": 0.9443492935039154,
         "_deepnote_index_column": 255
        },
        {
         "density": 0.8415170055703761,
         "_deepnote_index_column": 256
        },
        {
         "density": 0.8806502480897402,
         "_deepnote_index_column": 257
        },
        {
         "density": 0.7549414333714451,
         "_deepnote_index_column": 258
        },
        {
         "density": 0.8142952716172036,
         "_deepnote_index_column": 259
        },
        {
         "density": 0.8132004875737022,
         "_deepnote_index_column": 260
        },
        {
         "density": 1.3771382882206367,
         "_deepnote_index_column": 261
        },
        {
         "density": 0.8120762551587483,
         "_deepnote_index_column": 262
        },
        {
         "density": 1.2906032897962219,
         "_deepnote_index_column": 263
        },
        {
         "density": 1.4877838755156285,
         "_deepnote_index_column": 264
        },
        {
         "density": 0.8769676895746185,
         "_deepnote_index_column": 265
        },
        {
         "density": 1.1017163847511096,
         "_deepnote_index_column": 266
        },
        {
         "density": 1.6067442984885878,
         "_deepnote_index_column": 267
        },
        {
         "density": 0.8445139428665775,
         "_deepnote_index_column": 268
        },
        {
         "density": 1.454988576522344,
         "_deepnote_index_column": 269
        },
        {
         "density": 0.9872221420052485,
         "_deepnote_index_column": 270
        },
        {
         "density": 0.8942939838620819,
         "_deepnote_index_column": 271
        },
        {
         "density": 0.7531479930324199,
         "_deepnote_index_column": 272
        },
        {
         "density": 0.8277639504539491,
         "_deepnote_index_column": 273
        },
        {
         "density": 0.6654285609507296,
         "_deepnote_index_column": 274
        },
        {
         "density": 0.749366015663079,
         "_deepnote_index_column": 275
        },
        {
         "density": 1.3810329888929025,
         "_deepnote_index_column": 276
        },
        {
         "density": 1.4632623154336093,
         "_deepnote_index_column": 277
        },
        {
         "density": 1.0689874753582058,
         "_deepnote_index_column": 278
        },
        {
         "density": 0.7502193507452556,
         "_deepnote_index_column": 279
        },
        {
         "density": 1.4217433247974767,
         "_deepnote_index_column": 280
        },
        {
         "density": 0.8728793908756943,
         "_deepnote_index_column": 281
        },
        {
         "density": 0.8591766907466538,
         "_deepnote_index_column": 282
        },
        {
         "density": 0.6982304045040751,
         "_deepnote_index_column": 283
        },
        {
         "density": 1.1819218745461875,
         "_deepnote_index_column": 284
        },
        {
         "density": 1.3993686172746924,
         "_deepnote_index_column": 285
        },
        {
         "density": 0.9169367767370777,
         "_deepnote_index_column": 286
        },
        {
         "density": 0.6165156316290549,
         "_deepnote_index_column": 287
        },
        {
         "density": 1.7632119092753604,
         "_deepnote_index_column": 288
        },
        {
         "density": 0.8285123971846127,
         "_deepnote_index_column": 289
        },
        {
         "density": 0.6071685619058302,
         "_deepnote_index_column": 290
        },
        {
         "density": 0.6859047997652955,
         "_deepnote_index_column": 291
        },
        {
         "density": 1.4315566571364688,
         "_deepnote_index_column": 292
        },
        {
         "density": 1.2836285447455706,
         "_deepnote_index_column": 293
        },
        {
         "density": 1.3250962289166788,
         "_deepnote_index_column": 294
        },
        {
         "density": 1.414981023377036,
         "_deepnote_index_column": 295
        },
        {
         "density": 0.762864241299196,
         "_deepnote_index_column": 296
        },
        {
         "density": 1.0571939118490472,
         "_deepnote_index_column": 297
        },
        {
         "density": 0.6592844885287376,
         "_deepnote_index_column": 298
        },
        {
         "density": 0.9457911084386839,
         "_deepnote_index_column": 299
        },
        {
         "density": 1.2205175505751715,
         "_deepnote_index_column": 300
        },
        {
         "density": 0.8181745836060869,
         "_deepnote_index_column": 301
        },
        {
         "density": 1.2835615267273424,
         "_deepnote_index_column": 302
        },
        {
         "density": 0.905155706600195,
         "_deepnote_index_column": 303
        },
        {
         "density": 0.9377507761064157,
         "_deepnote_index_column": 304
        },
        {
         "density": 0.7023721931017893,
         "_deepnote_index_column": 305
        },
        {
         "density": 1.094304827645635,
         "_deepnote_index_column": 306
        },
        {
         "density": 1.5533596166849888,
         "_deepnote_index_column": 307
        },
        {
         "density": 0.9299401108091886,
         "_deepnote_index_column": 308
        },
        {
         "density": 0.7763782696228273,
         "_deepnote_index_column": 309
        },
        {
         "density": 1.115975515509073,
         "_deepnote_index_column": 310
        },
        {
         "density": 1.1499664973130743,
         "_deepnote_index_column": 311
        },
        {
         "density": 1.035037993784938,
         "_deepnote_index_column": 312
        },
        {
         "density": 1.2171364994449303,
         "_deepnote_index_column": 313
        },
        {
         "density": 1.0805636410049155,
         "_deepnote_index_column": 314
        },
        {
         "density": 1.0619241943445301,
         "_deepnote_index_column": 315
        },
        {
         "density": 0.7085622595513843,
         "_deepnote_index_column": 316
        },
        {
         "density": 1.5403932445076731,
         "_deepnote_index_column": 317
        },
        {
         "density": 1.3885587149643732,
         "_deepnote_index_column": 318
        },
        {
         "density": 0.764563281573356,
         "_deepnote_index_column": 319
        },
        {
         "density": 0.7571444418326121,
         "_deepnote_index_column": 320
        },
        {
         "density": 1.1192665778186344,
         "_deepnote_index_column": 321
        },
        {
         "density": 1.3458040459416807,
         "_deepnote_index_column": 322
        },
        {
         "density": 1.2989171483565638,
         "_deepnote_index_column": 323
        },
        {
         "density": 0.720870649775069,
         "_deepnote_index_column": 324
        },
        {
         "density": 1.349702321933469,
         "_deepnote_index_column": 325
        },
        {
         "density": 1.35197788573715,
         "_deepnote_index_column": 326
        },
        {
         "density": 0.7384629832789721,
         "_deepnote_index_column": 327
        },
        {
         "density": 0.8703609098128252,
         "_deepnote_index_column": 328
        },
        {
         "density": 1.352529503286386,
         "_deepnote_index_column": 329
        },
        {
         "density": 1.7933140089567077,
         "_deepnote_index_column": 330
        },
        {
         "density": 0.8637223925556775,
         "_deepnote_index_column": 331
        },
        {
         "density": 0.6746484633780473,
         "_deepnote_index_column": 332
        },
        {
         "density": 0.9436038289597852,
         "_deepnote_index_column": 333
        },
        {
         "density": 0.7324925081589372,
         "_deepnote_index_column": 334
        },
        {
         "density": 1.6010460251265144,
         "_deepnote_index_column": 335
        },
        {
         "density": 1.3437234482428018,
         "_deepnote_index_column": 336
        },
        {
         "density": 1.2278326943885907,
         "_deepnote_index_column": 337
        },
        {
         "density": 0.7659743606045123,
         "_deepnote_index_column": 338
        },
        {
         "density": 1.0372371600486825,
         "_deepnote_index_column": 339
        },
        {
         "density": 1.0587724354843266,
         "_deepnote_index_column": 340
        },
        {
         "density": 1.4170549858691535,
         "_deepnote_index_column": 341
        },
        {
         "density": 1.3963807291585422,
         "_deepnote_index_column": 342
        },
        {
         "density": 1.1795769902091164,
         "_deepnote_index_column": 343
        },
        {
         "density": 0.8806621561141602,
         "_deepnote_index_column": 344
        },
        {
         "density": 1.0162796286008429,
         "_deepnote_index_column": 345
        },
        {
         "density": 1.1236175653669913,
         "_deepnote_index_column": 346
        },
        {
         "density": 0.6954676427598935,
         "_deepnote_index_column": 347
        },
        {
         "density": 0.8148101414560966,
         "_deepnote_index_column": 348
        },
        {
         "density": 1.5840388704048867,
         "_deepnote_index_column": 349
        },
        {
         "density": 0.8665321607778949,
         "_deepnote_index_column": 350
        },
        {
         "density": 0.5759661778503393,
         "_deepnote_index_column": 351
        },
        {
         "density": 1.1997432767210128,
         "_deepnote_index_column": 352
        },
        {
         "density": 1.5227656420433227,
         "_deepnote_index_column": 353
        },
        {
         "density": 0.7307411848932203,
         "_deepnote_index_column": 354
        },
        {
         "density": 1.2617582560469536,
         "_deepnote_index_column": 355
        },
        {
         "density": 1.0050081306743972,
         "_deepnote_index_column": 356
        },
        {
         "density": 1.1545990838879385,
         "_deepnote_index_column": 357
        },
        {
         "density": 0.9100710227399843,
         "_deepnote_index_column": 358
        },
        {
         "density": 0.9816739947978622,
         "_deepnote_index_column": 359
        },
        {
         "density": 0.9880182969760578,
         "_deepnote_index_column": 360
        },
        {
         "density": 1.1915605802874032,
         "_deepnote_index_column": 361
        },
        {
         "density": 1.3840418171667952,
         "_deepnote_index_column": 362
        },
        {
         "density": 0.725879472711195,
         "_deepnote_index_column": 363
        },
        {
         "density": 1.307893603778894,
         "_deepnote_index_column": 364
        },
        {
         "density": 1.22673580092561,
         "_deepnote_index_column": 365
        },
        {
         "density": 1.0581399579855864,
         "_deepnote_index_column": 366
        },
        {
         "density": 0.8560993070893694,
         "_deepnote_index_column": 367
        },
        {
         "density": 1.390506081216778,
         "_deepnote_index_column": 368
        },
        {
         "density": 0.8770934545297888,
         "_deepnote_index_column": 369
        },
        {
         "density": 0.9172282182140871,
         "_deepnote_index_column": 370
        },
        {
         "density": 0.907169836519342,
         "_deepnote_index_column": 371
        },
        {
         "density": 1.0186947363786347,
         "_deepnote_index_column": 372
        },
        {
         "density": 0.9515482752245917,
         "_deepnote_index_column": 373
        },
        {
         "density": 1.1885721127069657,
         "_deepnote_index_column": 374
        },
        {
         "density": 1.1623135212830151,
         "_deepnote_index_column": 375
        },
        {
         "density": 0.7388587341916697,
         "_deepnote_index_column": 376
        },
        {
         "density": 0.7053629044212469,
         "_deepnote_index_column": 377
        },
        {
         "density": 1.115996225923305,
         "_deepnote_index_column": 378
        },
        {
         "density": 1.3613315264607226,
         "_deepnote_index_column": 379
        },
        {
         "density": 1.3086765038531867,
         "_deepnote_index_column": 380
        },
        {
         "density": 1.698515605340526,
         "_deepnote_index_column": 381
        },
        {
         "density": 0.8574868174891502,
         "_deepnote_index_column": 382
        },
        {
         "density": 1.0142167111670353,
         "_deepnote_index_column": 383
        },
        {
         "density": 0.8251539553363336,
         "_deepnote_index_column": 384
        },
        {
         "density": 1.3587047114800828,
         "_deepnote_index_column": 385
        },
        {
         "density": 1.2938474154929855,
         "_deepnote_index_column": 386
        },
        {
         "density": 0.7939427388796911,
         "_deepnote_index_column": 387
        },
        {
         "density": 0.7093228623839769,
         "_deepnote_index_column": 388
        },
        {
         "density": 0.8629209614688855,
         "_deepnote_index_column": 389
        },
        {
         "density": 1.5333527229616364,
         "_deepnote_index_column": 390
        },
        {
         "density": 1.6455828229668423,
         "_deepnote_index_column": 391
        },
        {
         "density": 1.254870188163995,
         "_deepnote_index_column": 392
        },
        {
         "density": 1.628790102053458,
         "_deepnote_index_column": 393
        },
        {
         "density": 0.9797556311181119,
         "_deepnote_index_column": 394
        },
        {
         "density": 1.0223719419858721,
         "_deepnote_index_column": 395
        },
        {
         "density": 0.707111184240441,
         "_deepnote_index_column": 396
        },
        {
         "density": 0.8777652186421527,
         "_deepnote_index_column": 397
        },
        {
         "density": 0.705679713598928,
         "_deepnote_index_column": 398
        },
        {
         "density": 1.3665299979559282,
         "_deepnote_index_column": 399
        },
        {
         "density": 1.1251430243738776,
         "_deepnote_index_column": 400
        },
        {
         "density": 0.7384092822628571,
         "_deepnote_index_column": 401
        },
        {
         "density": 1.4255773933424465,
         "_deepnote_index_column": 402
        },
        {
         "density": 1.0479812604492698,
         "_deepnote_index_column": 403
        },
        {
         "density": 1.0043477128818639,
         "_deepnote_index_column": 404
        },
        {
         "density": 0.9006774920087971,
         "_deepnote_index_column": 405
        },
        {
         "density": 1.0752843700673336,
         "_deepnote_index_column": 406
        },
        {
         "density": 1.2005614591986373,
         "_deepnote_index_column": 407
        },
        {
         "density": 0.6339157634734655,
         "_deepnote_index_column": 408
        },
        {
         "density": 0.985467224148303,
         "_deepnote_index_column": 409
        },
        {
         "density": 0.6583353026220565,
         "_deepnote_index_column": 410
        },
        {
         "density": 0.9970388838566951,
         "_deepnote_index_column": 411
        },
        {
         "density": 1.160103262782576,
         "_deepnote_index_column": 412
        },
        {
         "density": 0.7823987097350688,
         "_deepnote_index_column": 413
        },
        {
         "density": 0.8958969630100088,
         "_deepnote_index_column": 414
        },
        {
         "density": 1.133053456343596,
         "_deepnote_index_column": 415
        },
        {
         "density": 1.136783530576245,
         "_deepnote_index_column": 416
        },
        {
         "density": 1.2138713999020487,
         "_deepnote_index_column": 417
        },
        {
         "density": 0.8362954576221414,
         "_deepnote_index_column": 418
        },
        {
         "density": 0.7759558840345695,
         "_deepnote_index_column": 419
        },
        {
         "density": 1.1551944655932165,
         "_deepnote_index_column": 420
        },
        {
         "density": 1.1162817814438415,
         "_deepnote_index_column": 421
        },
        {
         "density": 1.1875263302668944,
         "_deepnote_index_column": 422
        },
        {
         "density": 1.3051613956722075,
         "_deepnote_index_column": 423
        },
        {
         "density": 0.7865423656603161,
         "_deepnote_index_column": 424
        },
        {
         "density": 0.7730656016752797,
         "_deepnote_index_column": 425
        },
        {
         "density": 0.9742991650756371,
         "_deepnote_index_column": 426
        },
        {
         "density": 0.8083387203115581,
         "_deepnote_index_column": 427
        },
        {
         "density": 1.2326046115358547,
         "_deepnote_index_column": 428
        },
        {
         "density": 0.9544618824116162,
         "_deepnote_index_column": 429
        },
        {
         "density": 0.9369706211919631,
         "_deepnote_index_column": 430
        },
        {
         "density": 0.8729673993585182,
         "_deepnote_index_column": 431
        },
        {
         "density": 0.9841681076778857,
         "_deepnote_index_column": 432
        },
        {
         "density": 0.764136780944927,
         "_deepnote_index_column": 433
        },
        {
         "density": 0.9416115424247667,
         "_deepnote_index_column": 434
        },
        {
         "density": 1.3513217196539178,
         "_deepnote_index_column": 435
        },
        {
         "density": 1.3103682807977872,
         "_deepnote_index_column": 436
        },
        {
         "density": 1.2276456107749956,
         "_deepnote_index_column": 437
        },
        {
         "density": 1.218679300924076,
         "_deepnote_index_column": 438
        },
        {
         "density": 0.8741432009556458,
         "_deepnote_index_column": 439
        },
        {
         "density": 1.0368372745426264,
         "_deepnote_index_column": 440
        },
        {
         "density": 0.7001353727801567,
         "_deepnote_index_column": 441
        },
        {
         "density": 0.7760756276816255,
         "_deepnote_index_column": 442
        },
        {
         "density": 0.788572645653326,
         "_deepnote_index_column": 443
        },
        {
         "density": 2.2926810414064986,
         "_deepnote_index_column": 444
        },
        {
         "density": 0.9278741780681188,
         "_deepnote_index_column": 445
        },
        {
         "density": 1.6464540335189415,
         "_deepnote_index_column": 446
        },
        {
         "density": 0.5575631155240771,
         "_deepnote_index_column": 447
        },
        {
         "density": 0.8639011943171117,
         "_deepnote_index_column": 448
        },
        {
         "density": 1.2843176498199778,
         "_deepnote_index_column": 449
        },
        {
         "density": 1.270170655064055,
         "_deepnote_index_column": 450
        },
        {
         "density": 0.8921836663407138,
         "_deepnote_index_column": 451
        },
        {
         "density": 1.4182152149572989,
         "_deepnote_index_column": 452
        },
        {
         "density": 1.0779510840097097,
         "_deepnote_index_column": 453
        },
        {
         "density": 1.134593384452392,
         "_deepnote_index_column": 454
        },
        {
         "density": 0.7997695331209718,
         "_deepnote_index_column": 455
        },
        {
         "density": 1.2195572302462838,
         "_deepnote_index_column": 456
        },
        {
         "density": 1.3444499378128014,
         "_deepnote_index_column": 457
        },
        {
         "density": 1.0434917007573115,
         "_deepnote_index_column": 458
        },
        {
         "density": 1.140650586745525,
         "_deepnote_index_column": 459
        },
        {
         "density": 0.981822468011615,
         "_deepnote_index_column": 460
        },
        {
         "density": 1.2699231415406438,
         "_deepnote_index_column": 461
        },
        {
         "density": 0.9008517304049726,
         "_deepnote_index_column": 462
        },
        {
         "density": 0.508849719390152,
         "_deepnote_index_column": 463
        },
        {
         "density": 0.7910750285661102,
         "_deepnote_index_column": 464
        },
        {
         "density": 1.0140587500246159,
         "_deepnote_index_column": 465
        },
        {
         "density": 1.1593834297370398,
         "_deepnote_index_column": 466
        },
        {
         "density": 1.3778470525039022,
         "_deepnote_index_column": 467
        },
        {
         "density": 0.8623644105696374,
         "_deepnote_index_column": 468
        },
        {
         "density": 0.9773692949837124,
         "_deepnote_index_column": 469
        },
        {
         "density": 0.8869993197427396,
         "_deepnote_index_column": 470
        },
        {
         "density": 0.8338197070323803,
         "_deepnote_index_column": 471
        },
        {
         "density": 0.7699393989380565,
         "_deepnote_index_column": 472
        },
        {
         "density": 0.9435034782572841,
         "_deepnote_index_column": 473
        },
        {
         "density": 0.7273726160287706,
         "_deepnote_index_column": 474
        },
        {
         "density": 0.9357846908912275,
         "_deepnote_index_column": 475
        },
        {
         "density": 1.000517564371993,
         "_deepnote_index_column": 476
        },
        {
         "density": 1.0305712785097871,
         "_deepnote_index_column": 477
        },
        {
         "density": 1.6607063462409748,
         "_deepnote_index_column": 478
        },
        {
         "density": 0.8947151418631685,
         "_deepnote_index_column": 479
        },
        {
         "density": 0.6852290279798403,
         "_deepnote_index_column": 480
        },
        {
         "density": 0.8297759089302926,
         "_deepnote_index_column": 481
        },
        {
         "density": 0.8009914838983783,
         "_deepnote_index_column": 482
        },
        {
         "density": 0.673913249678512,
         "_deepnote_index_column": 483
        },
        {
         "density": 0.8834008181799684,
         "_deepnote_index_column": 484
        },
        {
         "density": 1.128867688481812,
         "_deepnote_index_column": 485
        },
        {
         "density": 1.4346711660191385,
         "_deepnote_index_column": 486
        },
        {
         "density": 0.8570719946451343,
         "_deepnote_index_column": 487
        },
        {
         "density": 0.9085549369008714,
         "_deepnote_index_column": 488
        },
        {
         "density": 0.4441881604275172,
         "_deepnote_index_column": 489
        },
        {
         "density": 0.6252738410509765,
         "_deepnote_index_column": 490
        },
        {
         "density": 0.9868783373737726,
         "_deepnote_index_column": 491
        },
        {
         "density": 1.4307521817469733,
         "_deepnote_index_column": 492
        },
        {
         "density": 1.5002809947922908,
         "_deepnote_index_column": 493
        },
        {
         "density": 0.7731727919403604,
         "_deepnote_index_column": 494
        },
        {
         "density": 1.3256705092689987,
         "_deepnote_index_column": 495
        },
        {
         "density": 0.9918185504772181,
         "_deepnote_index_column": 496
        },
        {
         "density": 1.6402396404240482,
         "_deepnote_index_column": 497
        },
        {
         "density": 1.0751964464839083,
         "_deepnote_index_column": 498
        },
        {
         "density": 0.9588984522393197,
         "_deepnote_index_column": 499
        },
        {
         "density": 1.4942405324992716,
         "_deepnote_index_column": 500
        }
       ],
       "rows_bottom": [
        {
         "density": 1.5367652726175005,
         "_deepnote_index_column": 1501
        },
        {
         "density": 1.720269430253394,
         "_deepnote_index_column": 1502
        },
        {
         "density": 3.5246919666715466,
         "_deepnote_index_column": 1503
        },
        {
         "density": 1.3267862068724383,
         "_deepnote_index_column": 1504
        },
        {
         "density": 2.8868979110454096,
         "_deepnote_index_column": 1505
        },
        {
         "density": 2.637048784469573,
         "_deepnote_index_column": 1506
        },
        {
         "density": 2.7311436536299434,
         "_deepnote_index_column": 1507
        },
        {
         "density": 3.25433086257749,
         "_deepnote_index_column": 1508
        },
        {
         "density": 1.7672047932790123,
         "_deepnote_index_column": 1509
        },
        {
         "density": 2.1500843405371053,
         "_deepnote_index_column": 1510
        },
        {
         "density": 1.7320662228231547,
         "_deepnote_index_column": 1511
        },
        {
         "density": 1.4744277101904193,
         "_deepnote_index_column": 1512
        },
        {
         "density": 1.5245412168635029,
         "_deepnote_index_column": 1513
        },
        {
         "density": 3.6698285404076056,
         "_deepnote_index_column": 1514
        },
        {
         "density": 1.216852713175591,
         "_deepnote_index_column": 1515
        },
        {
         "density": 2.1346204873287693,
         "_deepnote_index_column": 1516
        },
        {
         "density": 3.071339109752916,
         "_deepnote_index_column": 1517
        },
        {
         "density": 1.0954177758022798,
         "_deepnote_index_column": 1518
        },
        {
         "density": 2.042025066828011,
         "_deepnote_index_column": 1519
        },
        {
         "density": 1.6148443862994533,
         "_deepnote_index_column": 1520
        },
        {
         "density": 1.835160153849187,
         "_deepnote_index_column": 1521
        },
        {
         "density": 1.626822677621637,
         "_deepnote_index_column": 1522
        },
        {
         "density": 1.6535944952863342,
         "_deepnote_index_column": 1523
        },
        {
         "density": 2.3877591104061993,
         "_deepnote_index_column": 1524
        },
        {
         "density": 1.314580854933232,
         "_deepnote_index_column": 1525
        },
        {
         "density": 1.2492549491957736,
         "_deepnote_index_column": 1526
        },
        {
         "density": 0.8004254083177453,
         "_deepnote_index_column": 1527
        },
        {
         "density": 2.14687058065741,
         "_deepnote_index_column": 1528
        },
        {
         "density": 2.406946892887288,
         "_deepnote_index_column": 1529
        },
        {
         "density": 0.6302677160900167,
         "_deepnote_index_column": 1530
        },
        {
         "density": 1.2796507427892123,
         "_deepnote_index_column": 1531
        },
        {
         "density": 2.2467515949812453,
         "_deepnote_index_column": 1532
        },
        {
         "density": 2.4260915087888595,
         "_deepnote_index_column": 1533
        },
        {
         "density": 2.353919900110423,
         "_deepnote_index_column": 1534
        },
        {
         "density": 2.720211488639826,
         "_deepnote_index_column": 1535
        },
        {
         "density": 4.198054711630276,
         "_deepnote_index_column": 1536
        },
        {
         "density": 1.6152075539977697,
         "_deepnote_index_column": 1537
        },
        {
         "density": 2.1012000902064076,
         "_deepnote_index_column": 1538
        },
        {
         "density": 1.6525003716770263,
         "_deepnote_index_column": 1539
        },
        {
         "density": 1.7882042162946743,
         "_deepnote_index_column": 1540
        },
        {
         "density": 1.4035303460911421,
         "_deepnote_index_column": 1541
        },
        {
         "density": 1.7929223001206827,
         "_deepnote_index_column": 1542
        },
        {
         "density": 1.545452251866623,
         "_deepnote_index_column": 1543
        },
        {
         "density": 4.108147638554693,
         "_deepnote_index_column": 1544
        },
        {
         "density": 3.248214300627958,
         "_deepnote_index_column": 1545
        },
        {
         "density": 1.4823241099426727,
         "_deepnote_index_column": 1546
        },
        {
         "density": 2.592951014155989,
         "_deepnote_index_column": 1547
        },
        {
         "density": 1.8021208481811735,
         "_deepnote_index_column": 1548
        },
        {
         "density": 2.7576143156864443,
         "_deepnote_index_column": 1549
        },
        {
         "density": 1.449267907352714,
         "_deepnote_index_column": 1550
        },
        {
         "density": 1.8823639113486919,
         "_deepnote_index_column": 1551
        },
        {
         "density": 2.094005343790795,
         "_deepnote_index_column": 1552
        },
        {
         "density": 5.036932724778778,
         "_deepnote_index_column": 1553
        },
        {
         "density": 4.247208236339083,
         "_deepnote_index_column": 1554
        },
        {
         "density": 1.924021594827555,
         "_deepnote_index_column": 1555
        },
        {
         "density": 2.4203102121703903,
         "_deepnote_index_column": 1556
        },
        {
         "density": 1.6804241494919079,
         "_deepnote_index_column": 1557
        },
        {
         "density": 0.9784552990728288,
         "_deepnote_index_column": 1558
        },
        {
         "density": 2.2026320727918747,
         "_deepnote_index_column": 1559
        },
        {
         "density": 1.9555393352059922,
         "_deepnote_index_column": 1560
        },
        {
         "density": 2.041473227572423,
         "_deepnote_index_column": 1561
        },
        {
         "density": 1.273953161375442,
         "_deepnote_index_column": 1562
        },
        {
         "density": 1.6501479746855245,
         "_deepnote_index_column": 1563
        },
        {
         "density": 1.4879130615481293,
         "_deepnote_index_column": 1564
        },
        {
         "density": 2.571637521651915,
         "_deepnote_index_column": 1565
        },
        {
         "density": 1.6196593753689634,
         "_deepnote_index_column": 1566
        },
        {
         "density": 0.47919093394032325,
         "_deepnote_index_column": 1567
        },
        {
         "density": 2.563455031164119,
         "_deepnote_index_column": 1568
        },
        {
         "density": 0.8144902215794089,
         "_deepnote_index_column": 1569
        },
        {
         "density": 1.7196897516016625,
         "_deepnote_index_column": 1570
        },
        {
         "density": 1.9635650493986616,
         "_deepnote_index_column": 1571
        },
        {
         "density": 2.0223985335685546,
         "_deepnote_index_column": 1572
        },
        {
         "density": 2.895012730012961,
         "_deepnote_index_column": 1573
        },
        {
         "density": 2.2859915670906856,
         "_deepnote_index_column": 1574
        },
        {
         "density": 3.0235158100032793,
         "_deepnote_index_column": 1575
        },
        {
         "density": 2.992204678995684,
         "_deepnote_index_column": 1576
        },
        {
         "density": 1.0755570989585674,
         "_deepnote_index_column": 1577
        },
        {
         "density": 0.7767565018203197,
         "_deepnote_index_column": 1578
        },
        {
         "density": 2.21405490163,
         "_deepnote_index_column": 1579
        },
        {
         "density": 2.224642581637321,
         "_deepnote_index_column": 1580
        },
        {
         "density": 2.972765703931795,
         "_deepnote_index_column": 1581
        },
        {
         "density": 3.146584718244355,
         "_deepnote_index_column": 1582
        },
        {
         "density": 2.0023023836204032,
         "_deepnote_index_column": 1583
        },
        {
         "density": 2.174487586511036,
         "_deepnote_index_column": 1584
        },
        {
         "density": 1.7925846111621322,
         "_deepnote_index_column": 1585
        },
        {
         "density": 2.699567719618164,
         "_deepnote_index_column": 1586
        },
        {
         "density": 2.112659333146614,
         "_deepnote_index_column": 1587
        },
        {
         "density": 1.6806323739172178,
         "_deepnote_index_column": 1588
        },
        {
         "density": 2.8563357729101315,
         "_deepnote_index_column": 1589
        },
        {
         "density": 3.7596536014615025,
         "_deepnote_index_column": 1590
        },
        {
         "density": 0.9365728803188738,
         "_deepnote_index_column": 1591
        },
        {
         "density": 3.6337024855819737,
         "_deepnote_index_column": 1592
        },
        {
         "density": 1.1446274823838147,
         "_deepnote_index_column": 1593
        },
        {
         "density": 1.9605135661701942,
         "_deepnote_index_column": 1594
        },
        {
         "density": 1.1084420605645104,
         "_deepnote_index_column": 1595
        },
        {
         "density": 2.961611081681886,
         "_deepnote_index_column": 1596
        },
        {
         "density": 1.6608172524756315,
         "_deepnote_index_column": 1597
        },
        {
         "density": 2.437631715926809,
         "_deepnote_index_column": 1598
        },
        {
         "density": 3.520578653295163,
         "_deepnote_index_column": 1599
        },
        {
         "density": 2.2282140334038307,
         "_deepnote_index_column": 1600
        },
        {
         "density": 1.278391582622574,
         "_deepnote_index_column": 1601
        },
        {
         "density": 1.2732370690184052,
         "_deepnote_index_column": 1602
        },
        {
         "density": 2.319196679254275,
         "_deepnote_index_column": 1603
        },
        {
         "density": 5.177179721159652,
         "_deepnote_index_column": 1604
        },
        {
         "density": 2.1454837590528486,
         "_deepnote_index_column": 1605
        },
        {
         "density": 0.7613597169895502,
         "_deepnote_index_column": 1606
        },
        {
         "density": 2.6157152713255982,
         "_deepnote_index_column": 1607
        },
        {
         "density": 2.350591176813421,
         "_deepnote_index_column": 1608
        },
        {
         "density": 2.2798485216436015,
         "_deepnote_index_column": 1609
        },
        {
         "density": 2.392730686259536,
         "_deepnote_index_column": 1610
        },
        {
         "density": 1.262094622902348,
         "_deepnote_index_column": 1611
        },
        {
         "density": 2.0879911597365015,
         "_deepnote_index_column": 1612
        },
        {
         "density": 2.032636189067324,
         "_deepnote_index_column": 1613
        },
        {
         "density": 1.8548974855986797,
         "_deepnote_index_column": 1614
        },
        {
         "density": 4.727229337144622,
         "_deepnote_index_column": 1615
        },
        {
         "density": 2.4479725956222724,
         "_deepnote_index_column": 1616
        },
        {
         "density": 4.111682279312737,
         "_deepnote_index_column": 1617
        },
        {
         "density": 4.167000225439301,
         "_deepnote_index_column": 1618
        },
        {
         "density": 5.0775874502306175,
         "_deepnote_index_column": 1619
        },
        {
         "density": 2.396393548991146,
         "_deepnote_index_column": 1620
        },
        {
         "density": 1.95535524790643,
         "_deepnote_index_column": 1621
        },
        {
         "density": 3.1162282836459765,
         "_deepnote_index_column": 1622
        },
        {
         "density": 2.3989589477184716,
         "_deepnote_index_column": 1623
        },
        {
         "density": 2.5864484417332085,
         "_deepnote_index_column": 1624
        },
        {
         "density": 1.6653957243503337,
         "_deepnote_index_column": 1625
        },
        {
         "density": 1.3666022351069544,
         "_deepnote_index_column": 1626
        },
        {
         "density": 2.5052128353425265,
         "_deepnote_index_column": 1627
        },
        {
         "density": 2.017670134504163,
         "_deepnote_index_column": 1628
        },
        {
         "density": 3.6695000919388345,
         "_deepnote_index_column": 1629
        },
        {
         "density": 2.3234395731537827,
         "_deepnote_index_column": 1630
        },
        {
         "density": 3.7535660045696213,
         "_deepnote_index_column": 1631
        },
        {
         "density": 1.434236264157669,
         "_deepnote_index_column": 1632
        },
        {
         "density": 1.6490366979044566,
         "_deepnote_index_column": 1633
        },
        {
         "density": 1.834829158503613,
         "_deepnote_index_column": 1634
        },
        {
         "density": 0.7156287642570253,
         "_deepnote_index_column": 1635
        },
        {
         "density": 1.452464566903718,
         "_deepnote_index_column": 1636
        },
        {
         "density": 2.346724600477274,
         "_deepnote_index_column": 1637
        },
        {
         "density": 4.259833942048289,
         "_deepnote_index_column": 1638
        },
        {
         "density": 2.0662695104815314,
         "_deepnote_index_column": 1639
        },
        {
         "density": 1.436740313629872,
         "_deepnote_index_column": 1640
        },
        {
         "density": 2.012665395821232,
         "_deepnote_index_column": 1641
        },
        {
         "density": 0.8262547285938022,
         "_deepnote_index_column": 1642
        },
        {
         "density": 1.2403613521344619,
         "_deepnote_index_column": 1643
        },
        {
         "density": 1.9888184136825133,
         "_deepnote_index_column": 1644
        },
        {
         "density": 1.7192381191585941,
         "_deepnote_index_column": 1645
        },
        {
         "density": 1.6205892538606563,
         "_deepnote_index_column": 1646
        },
        {
         "density": 2.5743704622933894,
         "_deepnote_index_column": 1647
        },
        {
         "density": 2.3935984514271,
         "_deepnote_index_column": 1648
        },
        {
         "density": 5.044004416942412,
         "_deepnote_index_column": 1649
        },
        {
         "density": 2.882523059061281,
         "_deepnote_index_column": 1650
        },
        {
         "density": 1.5239293834259922,
         "_deepnote_index_column": 1651
        },
        {
         "density": 2.7001823074890403,
         "_deepnote_index_column": 1652
        },
        {
         "density": 2.042520287444365,
         "_deepnote_index_column": 1653
        },
        {
         "density": 2.1246013244528617,
         "_deepnote_index_column": 1654
        },
        {
         "density": 2.0530130633683226,
         "_deepnote_index_column": 1655
        },
        {
         "density": 1.690243540608165,
         "_deepnote_index_column": 1656
        },
        {
         "density": 2.7136179586666103,
         "_deepnote_index_column": 1657
        },
        {
         "density": 1.9468353951363537,
         "_deepnote_index_column": 1658
        },
        {
         "density": 1.6264514679965008,
         "_deepnote_index_column": 1659
        },
        {
         "density": 2.887429530117582,
         "_deepnote_index_column": 1660
        },
        {
         "density": 1.2911640662386403,
         "_deepnote_index_column": 1661
        },
        {
         "density": 2.8762478343158557,
         "_deepnote_index_column": 1662
        },
        {
         "density": 3.560052472286091,
         "_deepnote_index_column": 1663
        },
        {
         "density": 2.9578289649872764,
         "_deepnote_index_column": 1664
        },
        {
         "density": 1.2327276041446973,
         "_deepnote_index_column": 1665
        },
        {
         "density": 4.252257645191349,
         "_deepnote_index_column": 1666
        },
        {
         "density": 1.6208003411787477,
         "_deepnote_index_column": 1667
        },
        {
         "density": 2.429821390059257,
         "_deepnote_index_column": 1668
        },
        {
         "density": 1.2826767867069226,
         "_deepnote_index_column": 1669
        },
        {
         "density": 3.658301377134867,
         "_deepnote_index_column": 1670
        },
        {
         "density": 3.1874763485446724,
         "_deepnote_index_column": 1671
        },
        {
         "density": 2.2061637797126505,
         "_deepnote_index_column": 1672
        },
        {
         "density": 2.4176428433115498,
         "_deepnote_index_column": 1673
        },
        {
         "density": 1.6800690297991165,
         "_deepnote_index_column": 1674
        },
        {
         "density": 3.3162629067939458,
         "_deepnote_index_column": 1675
        },
        {
         "density": 2.866567105271296,
         "_deepnote_index_column": 1676
        },
        {
         "density": 2.4753013992460686,
         "_deepnote_index_column": 1677
        },
        {
         "density": 2.0076461940010364,
         "_deepnote_index_column": 1678
        },
        {
         "density": 1.56989127916425,
         "_deepnote_index_column": 1679
        },
        {
         "density": 1.7094733731499174,
         "_deepnote_index_column": 1680
        },
        {
         "density": 0.8099242134523208,
         "_deepnote_index_column": 1681
        },
        {
         "density": 2.5399602057844093,
         "_deepnote_index_column": 1682
        },
        {
         "density": 0.6068632191242948,
         "_deepnote_index_column": 1683
        },
        {
         "density": 2.738361712907196,
         "_deepnote_index_column": 1684
        },
        {
         "density": 1.895524195751934,
         "_deepnote_index_column": 1685
        },
        {
         "density": 1.6496650486438262,
         "_deepnote_index_column": 1686
        },
        {
         "density": 2.7229468298851156,
         "_deepnote_index_column": 1687
        },
        {
         "density": 1.2154277022438538,
         "_deepnote_index_column": 1688
        },
        {
         "density": 2.330457677176858,
         "_deepnote_index_column": 1689
        },
        {
         "density": 1.8969821305293435,
         "_deepnote_index_column": 1690
        },
        {
         "density": 1.6783689508299342,
         "_deepnote_index_column": 1691
        },
        {
         "density": 1.6171559755580152,
         "_deepnote_index_column": 1692
        },
        {
         "density": 1.519715715776426,
         "_deepnote_index_column": 1693
        },
        {
         "density": 2.124794759038079,
         "_deepnote_index_column": 1694
        },
        {
         "density": 2.3884340404408917,
         "_deepnote_index_column": 1695
        },
        {
         "density": 2.8418016450811856,
         "_deepnote_index_column": 1696
        },
        {
         "density": 1.8099375974282816,
         "_deepnote_index_column": 1697
        },
        {
         "density": 1.8433868082671878,
         "_deepnote_index_column": 1698
        },
        {
         "density": 1.0890817260800998,
         "_deepnote_index_column": 1699
        },
        {
         "density": 1.6267377221362778,
         "_deepnote_index_column": 1700
        },
        {
         "density": 0.6181784598415163,
         "_deepnote_index_column": 1701
        },
        {
         "density": 1.89267387548286,
         "_deepnote_index_column": 1702
        },
        {
         "density": 2.228593151580625,
         "_deepnote_index_column": 1703
        },
        {
         "density": 1.3349095535533786,
         "_deepnote_index_column": 1704
        },
        {
         "density": 1.173110161615067,
         "_deepnote_index_column": 1705
        },
        {
         "density": 2.173569190404509,
         "_deepnote_index_column": 1706
        },
        {
         "density": 1.3447728717647844,
         "_deepnote_index_column": 1707
        },
        {
         "density": 2.505479097473219,
         "_deepnote_index_column": 1708
        },
        {
         "density": 2.0128117793982283,
         "_deepnote_index_column": 1709
        },
        {
         "density": 1.500319222971543,
         "_deepnote_index_column": 1710
        },
        {
         "density": 2.5736566077696907,
         "_deepnote_index_column": 1711
        },
        {
         "density": 1.365642370173229,
         "_deepnote_index_column": 1712
        },
        {
         "density": 2.4005416736190788,
         "_deepnote_index_column": 1713
        },
        {
         "density": 1.4991826926053122,
         "_deepnote_index_column": 1714
        },
        {
         "density": 2.7635457866381166,
         "_deepnote_index_column": 1715
        },
        {
         "density": 2.2270362944463864,
         "_deepnote_index_column": 1716
        },
        {
         "density": 1.90672942908253,
         "_deepnote_index_column": 1717
        },
        {
         "density": 0.7488827756519882,
         "_deepnote_index_column": 1718
        },
        {
         "density": 1.9667955060525442,
         "_deepnote_index_column": 1719
        },
        {
         "density": 1.0763564864074655,
         "_deepnote_index_column": 1720
        },
        {
         "density": 2.375762402193673,
         "_deepnote_index_column": 1721
        },
        {
         "density": 2.273552360051547,
         "_deepnote_index_column": 1722
        },
        {
         "density": 2.7622750443286885,
         "_deepnote_index_column": 1723
        },
        {
         "density": 2.5744507218487915,
         "_deepnote_index_column": 1724
        },
        {
         "density": 1.7062238133112342,
         "_deepnote_index_column": 1725
        },
        {
         "density": 1.772360365995095,
         "_deepnote_index_column": 1726
        },
        {
         "density": 1.5985158583414836,
         "_deepnote_index_column": 1727
        },
        {
         "density": 5.212709037403423,
         "_deepnote_index_column": 1728
        },
        {
         "density": 3.544875984619559,
         "_deepnote_index_column": 1729
        },
        {
         "density": 1.5359915092710705,
         "_deepnote_index_column": 1730
        },
        {
         "density": 2.1576107565577107,
         "_deepnote_index_column": 1731
        },
        {
         "density": 2.6837216988464876,
         "_deepnote_index_column": 1732
        },
        {
         "density": 1.853899468786565,
         "_deepnote_index_column": 1733
        },
        {
         "density": 0.6811612281827519,
         "_deepnote_index_column": 1734
        },
        {
         "density": 2.451359286496969,
         "_deepnote_index_column": 1735
        },
        {
         "density": 2.8093237361104726,
         "_deepnote_index_column": 1736
        },
        {
         "density": 2.915364730099646,
         "_deepnote_index_column": 1737
        },
        {
         "density": 1.5825388250551335,
         "_deepnote_index_column": 1738
        },
        {
         "density": 2.045614610689265,
         "_deepnote_index_column": 1739
        },
        {
         "density": 2.004309945573125,
         "_deepnote_index_column": 1740
        },
        {
         "density": 2.5351050851510317,
         "_deepnote_index_column": 1741
        },
        {
         "density": 1.9721356486581705,
         "_deepnote_index_column": 1742
        },
        {
         "density": 1.3080142284152327,
         "_deepnote_index_column": 1743
        },
        {
         "density": 1.5383986664082017,
         "_deepnote_index_column": 1744
        },
        {
         "density": 2.5319609529632685,
         "_deepnote_index_column": 1745
        },
        {
         "density": 0.7803106155636221,
         "_deepnote_index_column": 1746
        },
        {
         "density": 1.104608843319655,
         "_deepnote_index_column": 1747
        },
        {
         "density": 2.655708735984631,
         "_deepnote_index_column": 1748
        },
        {
         "density": 4.4223282568954465,
         "_deepnote_index_column": 1749
        },
        {
         "density": 2.1911532723219285,
         "_deepnote_index_column": 1750
        },
        {
         "density": 3.841947547156533,
         "_deepnote_index_column": 1751
        },
        {
         "density": 1.4412183038343922,
         "_deepnote_index_column": 1752
        },
        {
         "density": 3.6032911849360874,
         "_deepnote_index_column": 1753
        },
        {
         "density": 1.3077912701347698,
         "_deepnote_index_column": 1754
        },
        {
         "density": 3.4419628662776143,
         "_deepnote_index_column": 1755
        },
        {
         "density": 2.6599093245707413,
         "_deepnote_index_column": 1756
        },
        {
         "density": 2.0095636943994615,
         "_deepnote_index_column": 1757
        },
        {
         "density": 2.6935816915888706,
         "_deepnote_index_column": 1758
        },
        {
         "density": 2.3440175787262616,
         "_deepnote_index_column": 1759
        },
        {
         "density": 1.5910805641301715,
         "_deepnote_index_column": 1760
        },
        {
         "density": 0.6033519733652987,
         "_deepnote_index_column": 1761
        },
        {
         "density": 0.8408632551049812,
         "_deepnote_index_column": 1762
        },
        {
         "density": 2.328007655171297,
         "_deepnote_index_column": 1763
        },
        {
         "density": 1.3543943204155,
         "_deepnote_index_column": 1764
        },
        {
         "density": 1.5591629399672144,
         "_deepnote_index_column": 1765
        },
        {
         "density": 2.9185162673188043,
         "_deepnote_index_column": 1766
        },
        {
         "density": 3.2648184450798183,
         "_deepnote_index_column": 1767
        },
        {
         "density": 3.1824413631678485,
         "_deepnote_index_column": 1768
        },
        {
         "density": 5.508028940622065,
         "_deepnote_index_column": 1769
        },
        {
         "density": 2.4878468926402855,
         "_deepnote_index_column": 1770
        },
        {
         "density": 1.9657622985982006,
         "_deepnote_index_column": 1771
        },
        {
         "density": 3.9984334340404324,
         "_deepnote_index_column": 1772
        },
        {
         "density": 2.1168873369945183,
         "_deepnote_index_column": 1773
        },
        {
         "density": 1.6113058013263086,
         "_deepnote_index_column": 1774
        },
        {
         "density": 3.3769404093854978,
         "_deepnote_index_column": 1775
        },
        {
         "density": 2.390863754601055,
         "_deepnote_index_column": 1776
        },
        {
         "density": 1.9253652369769405,
         "_deepnote_index_column": 1777
        },
        {
         "density": 5.021699637516971,
         "_deepnote_index_column": 1778
        },
        {
         "density": 5.261729154404605,
         "_deepnote_index_column": 1779
        },
        {
         "density": 1.7419673237724338,
         "_deepnote_index_column": 1780
        },
        {
         "density": 1.3678518200456007,
         "_deepnote_index_column": 1781
        },
        {
         "density": 2.8971404855175686,
         "_deepnote_index_column": 1782
        },
        {
         "density": 2.5792766344602547,
         "_deepnote_index_column": 1783
        },
        {
         "density": 0.9989491545514184,
         "_deepnote_index_column": 1784
        },
        {
         "density": 2.452963935182006,
         "_deepnote_index_column": 1785
        },
        {
         "density": 0.47109393663543553,
         "_deepnote_index_column": 1786
        },
        {
         "density": 0.8491363358031959,
         "_deepnote_index_column": 1787
        },
        {
         "density": 1.891900462826158,
         "_deepnote_index_column": 1788
        },
        {
         "density": 2.1369984572496556,
         "_deepnote_index_column": 1789
        },
        {
         "density": 2.4864359617240046,
         "_deepnote_index_column": 1790
        },
        {
         "density": 1.9527193458371477,
         "_deepnote_index_column": 1791
        },
        {
         "density": 2.5439256597491107,
         "_deepnote_index_column": 1792
        },
        {
         "density": 0.5184018521204125,
         "_deepnote_index_column": 1793
        },
        {
         "density": 3.171773737566494,
         "_deepnote_index_column": 1794
        },
        {
         "density": 3.390172010887633,
         "_deepnote_index_column": 1795
        },
        {
         "density": 1.7301805655209177,
         "_deepnote_index_column": 1796
        },
        {
         "density": 0.8007333222780432,
         "_deepnote_index_column": 1797
        },
        {
         "density": 1.8281398368557302,
         "_deepnote_index_column": 1798
        },
        {
         "density": 1.806595478617182,
         "_deepnote_index_column": 1799
        },
        {
         "density": 2.598843288931749,
         "_deepnote_index_column": 1800
        },
        {
         "density": 1.1786841051692725,
         "_deepnote_index_column": 1801
        },
        {
         "density": 0.9801877173745188,
         "_deepnote_index_column": 1802
        },
        {
         "density": 1.1522274986454422,
         "_deepnote_index_column": 1803
        },
        {
         "density": 1.4837315048917952,
         "_deepnote_index_column": 1804
        },
        {
         "density": 1.8042590821983686,
         "_deepnote_index_column": 1805
        },
        {
         "density": 2.521995771843495,
         "_deepnote_index_column": 1806
        },
        {
         "density": 2.5099115878977742,
         "_deepnote_index_column": 1807
        },
        {
         "density": 1.4228783440356951,
         "_deepnote_index_column": 1808
        },
        {
         "density": 1.4451668656976897,
         "_deepnote_index_column": 1809
        },
        {
         "density": 1.4704209432026307,
         "_deepnote_index_column": 1810
        },
        {
         "density": 2.193473252386319,
         "_deepnote_index_column": 1811
        },
        {
         "density": 3.2918491467745885,
         "_deepnote_index_column": 1812
        },
        {
         "density": 1.714033158394137,
         "_deepnote_index_column": 1813
        },
        {
         "density": 5.995398507197425,
         "_deepnote_index_column": 1814
        },
        {
         "density": 3.380604397807125,
         "_deepnote_index_column": 1815
        },
        {
         "density": 3.9763118147879437,
         "_deepnote_index_column": 1816
        },
        {
         "density": 3.094287470947398,
         "_deepnote_index_column": 1817
        },
        {
         "density": 1.0533489388355937,
         "_deepnote_index_column": 1818
        },
        {
         "density": 1.9305768447512277,
         "_deepnote_index_column": 1819
        },
        {
         "density": 1.6967062523817067,
         "_deepnote_index_column": 1820
        },
        {
         "density": 2.4106528647115044,
         "_deepnote_index_column": 1821
        },
        {
         "density": 0.7113052988569446,
         "_deepnote_index_column": 1822
        },
        {
         "density": 0.817895488324438,
         "_deepnote_index_column": 1823
        },
        {
         "density": 1.2128983057861011,
         "_deepnote_index_column": 1824
        },
        {
         "density": 1.1734313529624631,
         "_deepnote_index_column": 1825
        },
        {
         "density": 2.5212371410992893,
         "_deepnote_index_column": 1826
        },
        {
         "density": 2.2334752199425365,
         "_deepnote_index_column": 1827
        },
        {
         "density": 1.5019098910228459,
         "_deepnote_index_column": 1828
        },
        {
         "density": 3.02584619897539,
         "_deepnote_index_column": 1829
        },
        {
         "density": 1.57901390524825,
         "_deepnote_index_column": 1830
        },
        {
         "density": 0.6832704063065611,
         "_deepnote_index_column": 1831
        },
        {
         "density": 2.846819533777464,
         "_deepnote_index_column": 1832
        },
        {
         "density": 1.483365041871316,
         "_deepnote_index_column": 1833
        },
        {
         "density": 2.3045409204525087,
         "_deepnote_index_column": 1834
        },
        {
         "density": 1.8884183562679966,
         "_deepnote_index_column": 1835
        },
        {
         "density": 1.812886566677598,
         "_deepnote_index_column": 1836
        },
        {
         "density": 1.6288274167339354,
         "_deepnote_index_column": 1837
        },
        {
         "density": 4.165003787446011,
         "_deepnote_index_column": 1838
        },
        {
         "density": 1.849794809590879,
         "_deepnote_index_column": 1839
        },
        {
         "density": 3.0369355644984912,
         "_deepnote_index_column": 1840
        },
        {
         "density": 5.286650075905905,
         "_deepnote_index_column": 1841
        },
        {
         "density": 4.6924682609173445,
         "_deepnote_index_column": 1842
        },
        {
         "density": 2.528934679621649,
         "_deepnote_index_column": 1843
        },
        {
         "density": 1.6861598254629493,
         "_deepnote_index_column": 1844
        },
        {
         "density": 4.430795851167289,
         "_deepnote_index_column": 1845
        },
        {
         "density": 3.1645838157031023,
         "_deepnote_index_column": 1846
        },
        {
         "density": 2.716943098314132,
         "_deepnote_index_column": 1847
        },
        {
         "density": 1.2959346459274994,
         "_deepnote_index_column": 1848
        },
        {
         "density": 3.5752219736542683,
         "_deepnote_index_column": 1849
        },
        {
         "density": 1.8173900353108434,
         "_deepnote_index_column": 1850
        },
        {
         "density": 0.820301150398758,
         "_deepnote_index_column": 1851
        },
        {
         "density": 1.198081991486876,
         "_deepnote_index_column": 1852
        },
        {
         "density": 1.2732423579093635,
         "_deepnote_index_column": 1853
        },
        {
         "density": 1.3977190808596287,
         "_deepnote_index_column": 1854
        },
        {
         "density": 0.6633622329702984,
         "_deepnote_index_column": 1855
        },
        {
         "density": 2.555134950297164,
         "_deepnote_index_column": 1856
        },
        {
         "density": 1.940890492828074,
         "_deepnote_index_column": 1857
        },
        {
         "density": 1.1840797454545133,
         "_deepnote_index_column": 1858
        },
        {
         "density": 1.8931375494796874,
         "_deepnote_index_column": 1859
        },
        {
         "density": 1.086528231124262,
         "_deepnote_index_column": 1860
        },
        {
         "density": 1.8488884036545032,
         "_deepnote_index_column": 1861
        },
        {
         "density": 2.4185469428185047,
         "_deepnote_index_column": 1862
        },
        {
         "density": 1.222741505294927,
         "_deepnote_index_column": 1863
        },
        {
         "density": 1.2241421880418208,
         "_deepnote_index_column": 1864
        },
        {
         "density": 3.2396837003954295,
         "_deepnote_index_column": 1865
        },
        {
         "density": 1.973705897329743,
         "_deepnote_index_column": 1866
        },
        {
         "density": 2.465102495117157,
         "_deepnote_index_column": 1867
        },
        {
         "density": 3.590833487636453,
         "_deepnote_index_column": 1868
        },
        {
         "density": 2.079499808033758,
         "_deepnote_index_column": 1869
        },
        {
         "density": 3.321118001578853,
         "_deepnote_index_column": 1870
        },
        {
         "density": 2.27803523018475,
         "_deepnote_index_column": 1871
        },
        {
         "density": 1.7290359160704891,
         "_deepnote_index_column": 1872
        },
        {
         "density": 2.325242362430393,
         "_deepnote_index_column": 1873
        },
        {
         "density": 1.5399436753620268,
         "_deepnote_index_column": 1874
        },
        {
         "density": 1.0354727374024233,
         "_deepnote_index_column": 1875
        },
        {
         "density": 1.827701279915147,
         "_deepnote_index_column": 1876
        },
        {
         "density": 1.5454554990505718,
         "_deepnote_index_column": 1877
        },
        {
         "density": 3.18589183819817,
         "_deepnote_index_column": 1878
        },
        {
         "density": 2.2233789225042493,
         "_deepnote_index_column": 1879
        },
        {
         "density": 2.082424289874622,
         "_deepnote_index_column": 1880
        },
        {
         "density": 2.722443071314263,
         "_deepnote_index_column": 1881
        },
        {
         "density": 4.961000799511284,
         "_deepnote_index_column": 1882
        },
        {
         "density": 0.6405337467668036,
         "_deepnote_index_column": 1883
        },
        {
         "density": 1.5734515358814076,
         "_deepnote_index_column": 1884
        },
        {
         "density": 2.3044378217343566,
         "_deepnote_index_column": 1885
        },
        {
         "density": 1.9647821110149568,
         "_deepnote_index_column": 1886
        },
        {
         "density": 1.6315119012179968,
         "_deepnote_index_column": 1887
        },
        {
         "density": 1.910088065390484,
         "_deepnote_index_column": 1888
        },
        {
         "density": 2.995447997647363,
         "_deepnote_index_column": 1889
        },
        {
         "density": 2.4244226276157583,
         "_deepnote_index_column": 1890
        },
        {
         "density": 1.8038531755552858,
         "_deepnote_index_column": 1891
        },
        {
         "density": 2.1781530197581067,
         "_deepnote_index_column": 1892
        },
        {
         "density": 2.047418059284189,
         "_deepnote_index_column": 1893
        },
        {
         "density": 2.404564911839191,
         "_deepnote_index_column": 1894
        },
        {
         "density": 1.5423800931506326,
         "_deepnote_index_column": 1895
        },
        {
         "density": 1.6156879111668567,
         "_deepnote_index_column": 1896
        },
        {
         "density": 1.1665080221134745,
         "_deepnote_index_column": 1897
        },
        {
         "density": 0.8135222209716558,
         "_deepnote_index_column": 1898
        },
        {
         "density": 5.407671991763336,
         "_deepnote_index_column": 1899
        },
        {
         "density": 2.9189087841324763,
         "_deepnote_index_column": 1900
        },
        {
         "density": 2.318718630548546,
         "_deepnote_index_column": 1901
        },
        {
         "density": 3.872344103250293,
         "_deepnote_index_column": 1902
        },
        {
         "density": 0.6335207608104348,
         "_deepnote_index_column": 1903
        },
        {
         "density": 2.342642846716396,
         "_deepnote_index_column": 1904
        },
        {
         "density": 0.6536408051411633,
         "_deepnote_index_column": 1905
        },
        {
         "density": 3.7571604913527716,
         "_deepnote_index_column": 1906
        },
        {
         "density": 2.1824594337934884,
         "_deepnote_index_column": 1907
        },
        {
         "density": 0.7176980771862816,
         "_deepnote_index_column": 1908
        },
        {
         "density": 3.6568192078593187,
         "_deepnote_index_column": 1909
        },
        {
         "density": 1.2993932860792736,
         "_deepnote_index_column": 1910
        },
        {
         "density": 1.3196018563645227,
         "_deepnote_index_column": 1911
        },
        {
         "density": 1.0257314890477325,
         "_deepnote_index_column": 1912
        },
        {
         "density": 2.4865409729816053,
         "_deepnote_index_column": 1913
        },
        {
         "density": 2.951427357621876,
         "_deepnote_index_column": 1914
        },
        {
         "density": 1.2410420942773046,
         "_deepnote_index_column": 1915
        },
        {
         "density": 0.8265812653802335,
         "_deepnote_index_column": 1916
        },
        {
         "density": 2.6649235664487927,
         "_deepnote_index_column": 1917
        },
        {
         "density": 1.5718210320293116,
         "_deepnote_index_column": 1918
        },
        {
         "density": 1.7406019175833811,
         "_deepnote_index_column": 1919
        },
        {
         "density": 2.86709059593527,
         "_deepnote_index_column": 1920
        },
        {
         "density": 1.9663720105160647,
         "_deepnote_index_column": 1921
        },
        {
         "density": 2.690631691604532,
         "_deepnote_index_column": 1922
        },
        {
         "density": 0.8691312818125254,
         "_deepnote_index_column": 1923
        },
        {
         "density": 1.6132711165406872,
         "_deepnote_index_column": 1924
        },
        {
         "density": 2.6298942432082817,
         "_deepnote_index_column": 1925
        },
        {
         "density": 0.8271374790869851,
         "_deepnote_index_column": 1926
        },
        {
         "density": 2.10313473563976,
         "_deepnote_index_column": 1927
        },
        {
         "density": 1.1444684986467493,
         "_deepnote_index_column": 1928
        },
        {
         "density": 1.2194712159453116,
         "_deepnote_index_column": 1929
        },
        {
         "density": 3.1289976904300905,
         "_deepnote_index_column": 1930
        },
        {
         "density": 3.046619997199982,
         "_deepnote_index_column": 1931
        },
        {
         "density": 3.270924124732819,
         "_deepnote_index_column": 1932
        },
        {
         "density": 2.0277373644031296,
         "_deepnote_index_column": 1933
        },
        {
         "density": 1.9089685871642177,
         "_deepnote_index_column": 1934
        },
        {
         "density": 0.8562404679316882,
         "_deepnote_index_column": 1935
        },
        {
         "density": 2.665624238914341,
         "_deepnote_index_column": 1936
        },
        {
         "density": 2.8150546356638313,
         "_deepnote_index_column": 1937
        },
        {
         "density": 2.1361735845687826,
         "_deepnote_index_column": 1938
        },
        {
         "density": 1.8447586900003217,
         "_deepnote_index_column": 1939
        },
        {
         "density": 2.8482349278397407,
         "_deepnote_index_column": 1940
        },
        {
         "density": 1.5204282250837609,
         "_deepnote_index_column": 1941
        },
        {
         "density": 1.6552576088554765,
         "_deepnote_index_column": 1942
        },
        {
         "density": 2.853715434012988,
         "_deepnote_index_column": 1943
        },
        {
         "density": 1.5758490813747728,
         "_deepnote_index_column": 1944
        },
        {
         "density": 1.4945939743281087,
         "_deepnote_index_column": 1945
        },
        {
         "density": 3.6520015154463796,
         "_deepnote_index_column": 1946
        },
        {
         "density": 1.6852806315166746,
         "_deepnote_index_column": 1947
        },
        {
         "density": 2.6811955289741896,
         "_deepnote_index_column": 1948
        },
        {
         "density": 1.5628173384729158,
         "_deepnote_index_column": 1949
        },
        {
         "density": 1.3550381587934932,
         "_deepnote_index_column": 1950
        },
        {
         "density": 3.133627963222466,
         "_deepnote_index_column": 1951
        },
        {
         "density": 2.896175512114212,
         "_deepnote_index_column": 1952
        },
        {
         "density": 0.5527221112832953,
         "_deepnote_index_column": 1953
        },
        {
         "density": 2.0790002281169224,
         "_deepnote_index_column": 1954
        },
        {
         "density": 4.973248330758996,
         "_deepnote_index_column": 1955
        },
        {
         "density": 1.8950882576640529,
         "_deepnote_index_column": 1956
        },
        {
         "density": 1.3742379307423556,
         "_deepnote_index_column": 1957
        },
        {
         "density": 1.3966613803257655,
         "_deepnote_index_column": 1958
        },
        {
         "density": 2.8581364742910593,
         "_deepnote_index_column": 1959
        },
        {
         "density": 1.6330789426887449,
         "_deepnote_index_column": 1960
        },
        {
         "density": 0.9265246056587029,
         "_deepnote_index_column": 1961
        },
        {
         "density": 1.3532078075223217,
         "_deepnote_index_column": 1962
        },
        {
         "density": 5.3195558446427516,
         "_deepnote_index_column": 1963
        },
        {
         "density": 1.3333392368140724,
         "_deepnote_index_column": 1964
        },
        {
         "density": 2.884845495070816,
         "_deepnote_index_column": 1965
        },
        {
         "density": 3.0452325440246595,
         "_deepnote_index_column": 1966
        },
        {
         "density": 0.6306251665632291,
         "_deepnote_index_column": 1967
        },
        {
         "density": 1.4837108707267805,
         "_deepnote_index_column": 1968
        },
        {
         "density": 2.298046007002337,
         "_deepnote_index_column": 1969
        },
        {
         "density": 1.225844929326658,
         "_deepnote_index_column": 1970
        },
        {
         "density": 0.8022125883160773,
         "_deepnote_index_column": 1971
        },
        {
         "density": 1.1021183320718086,
         "_deepnote_index_column": 1972
        },
        {
         "density": 1.736143194102603,
         "_deepnote_index_column": 1973
        },
        {
         "density": 2.1943280049424634,
         "_deepnote_index_column": 1974
        },
        {
         "density": 3.994810000929802,
         "_deepnote_index_column": 1975
        },
        {
         "density": 3.003174931167312,
         "_deepnote_index_column": 1976
        },
        {
         "density": 4.107589837323352,
         "_deepnote_index_column": 1977
        },
        {
         "density": 0.46748283941525803,
         "_deepnote_index_column": 1978
        },
        {
         "density": 2.182167987389333,
         "_deepnote_index_column": 1979
        },
        {
         "density": 2.358746445607843,
         "_deepnote_index_column": 1980
        },
        {
         "density": 1.6726798462065644,
         "_deepnote_index_column": 1981
        },
        {
         "density": 2.2019941402629812,
         "_deepnote_index_column": 1982
        },
        {
         "density": 2.072436981531311,
         "_deepnote_index_column": 1983
        },
        {
         "density": 4.313933282587705,
         "_deepnote_index_column": 1984
        },
        {
         "density": 2.320612962865187,
         "_deepnote_index_column": 1985
        },
        {
         "density": 1.7126652649882153,
         "_deepnote_index_column": 1986
        },
        {
         "density": 2.5536289298162034,
         "_deepnote_index_column": 1987
        },
        {
         "density": 3.0909178721142245,
         "_deepnote_index_column": 1988
        },
        {
         "density": 1.469477245474598,
         "_deepnote_index_column": 1989
        },
        {
         "density": 2.9523481198295043,
         "_deepnote_index_column": 1990
        },
        {
         "density": 2.0789484283024917,
         "_deepnote_index_column": 1991
        },
        {
         "density": 2.375160057624075,
         "_deepnote_index_column": 1992
        },
        {
         "density": 0.6726092535900404,
         "_deepnote_index_column": 1993
        },
        {
         "density": 1.3727776784117216,
         "_deepnote_index_column": 1994
        },
        {
         "density": 2.2120301471313617,
         "_deepnote_index_column": 1995
        },
        {
         "density": 1.950456348631579,
         "_deepnote_index_column": 1996
        },
        {
         "density": 1.1402494966830112,
         "_deepnote_index_column": 1997
        },
        {
         "density": 2.262239182787281,
         "_deepnote_index_column": 1998
        },
        {
         "density": 3.9418062745392417,
         "_deepnote_index_column": 1999
        },
        {
         "density": 0.6838379590138149,
         "_deepnote_index_column": 2000
        }
       ]
      },
      "text/plain": "             density\nUnnamed: 0          \n1           1.666998\n2           1.214611\n3           1.141007\n4           1.543144\n5           0.660375\n...              ...\n1996        1.950456\n1997        1.140249\n1998        2.262239\n1999        3.941806\n2000        0.683838\n\n[2000 rows x 1 columns]",
      "text/html": "<div>\n<style scoped>\n    .dataframe tbody tr th:only-of-type {\n        vertical-align: middle;\n    }\n\n    .dataframe tbody tr th {\n        vertical-align: top;\n    }\n\n    .dataframe thead th {\n        text-align: right;\n    }\n</style>\n<table border=\"1\" class=\"dataframe\">\n  <thead>\n    <tr style=\"text-align: right;\">\n      <th></th>\n      <th>density</th>\n    </tr>\n    <tr>\n      <th>Unnamed: 0</th>\n      <th></th>\n    </tr>\n  </thead>\n  <tbody>\n    <tr>\n      <th>1</th>\n      <td>1.666998</td>\n    </tr>\n    <tr>\n      <th>2</th>\n      <td>1.214611</td>\n    </tr>\n    <tr>\n      <th>3</th>\n      <td>1.141007</td>\n    </tr>\n    <tr>\n      <th>4</th>\n      <td>1.543144</td>\n    </tr>\n    <tr>\n      <th>5</th>\n      <td>0.660375</td>\n    </tr>\n    <tr>\n      <th>...</th>\n      <td>...</td>\n    </tr>\n    <tr>\n      <th>1996</th>\n      <td>1.950456</td>\n    </tr>\n    <tr>\n      <th>1997</th>\n      <td>1.140249</td>\n    </tr>\n    <tr>\n      <th>1998</th>\n      <td>2.262239</td>\n    </tr>\n    <tr>\n      <th>1999</th>\n      <td>3.941806</td>\n    </tr>\n    <tr>\n      <th>2000</th>\n      <td>0.683838</td>\n    </tr>\n  </tbody>\n</table>\n<p>2000 rows × 1 columns</p>\n</div>"
     },
     "metadata": {}
    }
   ]
  },
  {
   "cell_type": "code",
   "metadata": {
    "tags": [],
    "cell_id": "00013-b36b4b88-fab2-4da0-9dd1-0ffe34ddc605",
    "deepnote_to_be_reexecuted": false,
    "source_hash": "1eb937cb",
    "execution_start": 1632583218828,
    "execution_millis": 650,
    "deepnote_cell_type": "code"
   },
   "source": "from xgboost import XGBRegressor\nfrom lightgbm import LGBMRegressor\nfrom sklearn.ensemble import (\n    VotingRegressor,\n    StackingRegressor,\n    RandomForestRegressor,\n    GradientBoostingRegressor\n)\nfrom sklearn.linear_model import Lasso",
   "execution_count": null,
   "outputs": []
  },
  {
   "cell_type": "code",
   "metadata": {
    "tags": [],
    "cell_id": "00014-c8764f2d-89d1-4918-94be-3209af4c57ff",
    "deepnote_to_be_reexecuted": false,
    "source_hash": "9f66de25",
    "execution_start": 1632583219508,
    "execution_millis": 253,
    "deepnote_cell_type": "code"
   },
   "source": "\n\ndef log_mean_absolute_error(y_true, y_pred):\n    return np.log(mean_absolute_error(y_true, y_pred))\n\n\ndef fit_catboost(X, y):\n    catboost = CatBoostRegressor(\n        iterations=500,\n        verbose=False,\n        # l2_leaf_reg=0.001\n    )\n    catboost.fit(X, y)\n    return catboost\n\n\ndef fit_xgboost(X, y):\n    reg = XGBRegressor()\n    reg.fit(X.values, y.values)\n    return reg\n\n\ndef fit_lightboost(X, y):\n    reg = LGBMRegressor()\n    reg.fit(X.values, y.values)\n    return reg\n\n\ndef fit_voting(X, y):\n    reg = VotingRegressor(\n        [\n            ('cat', CatBoostRegressor(\n                    iterations=1500,\n                    grow_policy='Lossguide',\n                    verbose=False,\n                    # depth=14\n                    # l2_leaf_reg=0.001\n                )\n            ),\n            ('xgb', XGBRegressor(\n                    grow_policy='lossguide',\n                    # tree_method='exact'\n                    # max_depth=14\n                )\n            ),\n            # ('gb', GradientBoostingRegressor())\n        ]\n    )\n    reg.fit(X.values, y.values)\n    return reg\n\n\nfit_models = [fit_voting]\n# kf = KFold(n_splits=5, shuffle=True, random_state=1234)\nkf = RepeatedKFold(n_splits=5, n_repeats=10, random_state=1234)\n# kf = RepeatedStratifiedKFold(n_splits=5, n_repeats=10, random_state=1234)\nfit_results = {}\nfor k, (train_index, test_index) in enumerate(kf.split(train.X)):\n    print(f\"K Fold: {k + 1}\")\n    print(\"TRAIN:\", train_index, \"TEST:\", test_index)\n    X_train, X_test = train.X.iloc[train_index], train.X.iloc[test_index]\n    y_train, y_test = train.y.iloc[train_index], train.y.iloc[test_index]\n\n    for fit_model in fit_models:\n        model_name = '_'.join(fit_model.__name__.split('fit_')[1:])\n        if model_name not in fit_results:\n            fit_results[model_name] = []\n\n        model = fit_model(X_train, y_train)\n        train_pred = model.predict(X_train)\n        log_mean_error_train = log_mean_absolute_error(y_train, train_pred)\n\n        # model = fit_model(X_test, y_test)\n        test_pred = model.predict(X_test)\n        log_mean_error_test = log_mean_absolute_error(y_test, test_pred)\n\n        test_pred = pd.DataFrame(\n            test_pred,\n            index= y_test.index,\n            columns=y_test.columns\n        )\n        error_sort = np.abs(y_test - test_pred).sort_values(TARGET, ascending=False)\n        \n\n        print(f\"Log mean error train: {log_mean_error_train}\")\n        print(f\"Log mean error test: {log_mean_error_test}\")\n        print(error_sort.head(10))\n        \n\n        fit_results[model_name].append({\n            'model': model,\n            'log_mean_error_train': log_mean_error_train,\n            'log_mean_error_test': log_mean_error_test\n        })",
   "execution_count": null,
   "outputs": [
    {
     "name": "stdout",
     "text": "K Fold: 1\nTRAIN: [    1     2     3 ... 66712 66713 66714] TEST: [    0     4    13 ... 66699 66708 66711]\n",
     "output_type": "stream"
    },
    {
     "output_type": "error",
     "ename": "CatBoostError",
     "evalue": "tools/enum_parser/enum_serialization_runtime/enum_runtime.cpp:32: Key 'MAE' not found in enum EGrowPolicy. Valid options are: 'SymmetricTree', 'Lossguide', 'Depthwise', 'Region'. ",
     "traceback": [
      "\u001b[0;31m---------------------------------------------------------------------------\u001b[0m",
      "\u001b[0;31mCatBoostError\u001b[0m                             Traceback (most recent call last)",
      "\u001b[0;32m/tmp/ipykernel_1026/669615595.py\u001b[0m in \u001b[0;36m<module>\u001b[0;34m\u001b[0m\n\u001b[1;32m     65\u001b[0m             \u001b[0mfit_results\u001b[0m\u001b[0;34m[\u001b[0m\u001b[0mmodel_name\u001b[0m\u001b[0;34m]\u001b[0m \u001b[0;34m=\u001b[0m \u001b[0;34m[\u001b[0m\u001b[0;34m]\u001b[0m\u001b[0;34m\u001b[0m\u001b[0;34m\u001b[0m\u001b[0m\n\u001b[1;32m     66\u001b[0m \u001b[0;34m\u001b[0m\u001b[0m\n\u001b[0;32m---> 67\u001b[0;31m         \u001b[0mmodel\u001b[0m \u001b[0;34m=\u001b[0m \u001b[0mfit_model\u001b[0m\u001b[0;34m(\u001b[0m\u001b[0mX_train\u001b[0m\u001b[0;34m,\u001b[0m \u001b[0my_train\u001b[0m\u001b[0;34m)\u001b[0m\u001b[0;34m\u001b[0m\u001b[0;34m\u001b[0m\u001b[0m\n\u001b[0m\u001b[1;32m     68\u001b[0m         \u001b[0mtrain_pred\u001b[0m \u001b[0;34m=\u001b[0m \u001b[0mmodel\u001b[0m\u001b[0;34m.\u001b[0m\u001b[0mpredict\u001b[0m\u001b[0;34m(\u001b[0m\u001b[0mX_train\u001b[0m\u001b[0;34m)\u001b[0m\u001b[0;34m\u001b[0m\u001b[0;34m\u001b[0m\u001b[0m\n\u001b[1;32m     69\u001b[0m         \u001b[0mlog_mean_error_train\u001b[0m \u001b[0;34m=\u001b[0m \u001b[0mlog_mean_absolute_error\u001b[0m\u001b[0;34m(\u001b[0m\u001b[0my_train\u001b[0m\u001b[0;34m,\u001b[0m \u001b[0mtrain_pred\u001b[0m\u001b[0;34m)\u001b[0m\u001b[0;34m\u001b[0m\u001b[0;34m\u001b[0m\u001b[0m\n",
      "\u001b[0;32m/tmp/ipykernel_1026/669615595.py\u001b[0m in \u001b[0;36mfit_voting\u001b[0;34m(X, y)\u001b[0m\n\u001b[1;32m     45\u001b[0m         ]\n\u001b[1;32m     46\u001b[0m     )\n\u001b[0;32m---> 47\u001b[0;31m     \u001b[0mreg\u001b[0m\u001b[0;34m.\u001b[0m\u001b[0mfit\u001b[0m\u001b[0;34m(\u001b[0m\u001b[0mX\u001b[0m\u001b[0;34m.\u001b[0m\u001b[0mvalues\u001b[0m\u001b[0;34m,\u001b[0m \u001b[0my\u001b[0m\u001b[0;34m.\u001b[0m\u001b[0mvalues\u001b[0m\u001b[0;34m)\u001b[0m\u001b[0;34m\u001b[0m\u001b[0;34m\u001b[0m\u001b[0m\n\u001b[0m\u001b[1;32m     48\u001b[0m     \u001b[0;32mreturn\u001b[0m \u001b[0mreg\u001b[0m\u001b[0;34m\u001b[0m\u001b[0;34m\u001b[0m\u001b[0m\n\u001b[1;32m     49\u001b[0m \u001b[0;34m\u001b[0m\u001b[0m\n",
      "\u001b[0;32m/shared-libs/python3.8/py/lib/python3.8/site-packages/sklearn/ensemble/_voting.py\u001b[0m in \u001b[0;36mfit\u001b[0;34m(self, X, y, sample_weight)\u001b[0m\n\u001b[1;32m    483\u001b[0m         \"\"\"\n\u001b[1;32m    484\u001b[0m         \u001b[0my\u001b[0m \u001b[0;34m=\u001b[0m \u001b[0mcolumn_or_1d\u001b[0m\u001b[0;34m(\u001b[0m\u001b[0my\u001b[0m\u001b[0;34m,\u001b[0m \u001b[0mwarn\u001b[0m\u001b[0;34m=\u001b[0m\u001b[0;32mTrue\u001b[0m\u001b[0;34m)\u001b[0m\u001b[0;34m\u001b[0m\u001b[0;34m\u001b[0m\u001b[0m\n\u001b[0;32m--> 485\u001b[0;31m         \u001b[0;32mreturn\u001b[0m \u001b[0msuper\u001b[0m\u001b[0;34m(\u001b[0m\u001b[0;34m)\u001b[0m\u001b[0;34m.\u001b[0m\u001b[0mfit\u001b[0m\u001b[0;34m(\u001b[0m\u001b[0mX\u001b[0m\u001b[0;34m,\u001b[0m \u001b[0my\u001b[0m\u001b[0;34m,\u001b[0m \u001b[0msample_weight\u001b[0m\u001b[0;34m)\u001b[0m\u001b[0;34m\u001b[0m\u001b[0;34m\u001b[0m\u001b[0m\n\u001b[0m\u001b[1;32m    486\u001b[0m \u001b[0;34m\u001b[0m\u001b[0m\n\u001b[1;32m    487\u001b[0m     \u001b[0;32mdef\u001b[0m \u001b[0mpredict\u001b[0m\u001b[0;34m(\u001b[0m\u001b[0mself\u001b[0m\u001b[0;34m,\u001b[0m \u001b[0mX\u001b[0m\u001b[0;34m)\u001b[0m\u001b[0;34m:\u001b[0m\u001b[0;34m\u001b[0m\u001b[0;34m\u001b[0m\u001b[0m\n",
      "\u001b[0;32m/shared-libs/python3.8/py/lib/python3.8/site-packages/sklearn/ensemble/_voting.py\u001b[0m in \u001b[0;36mfit\u001b[0;34m(self, X, y, sample_weight)\u001b[0m\n\u001b[1;32m     72\u001b[0m                              % (len(self.weights), len(self.estimators)))\n\u001b[1;32m     73\u001b[0m \u001b[0;34m\u001b[0m\u001b[0m\n\u001b[0;32m---> 74\u001b[0;31m         self.estimators_ = Parallel(n_jobs=self.n_jobs)(\n\u001b[0m\u001b[1;32m     75\u001b[0m                 delayed(_fit_single_estimator)(\n\u001b[1;32m     76\u001b[0m                         \u001b[0mclone\u001b[0m\u001b[0;34m(\u001b[0m\u001b[0mclf\u001b[0m\u001b[0;34m)\u001b[0m\u001b[0;34m,\u001b[0m \u001b[0mX\u001b[0m\u001b[0;34m,\u001b[0m \u001b[0my\u001b[0m\u001b[0;34m,\u001b[0m\u001b[0;34m\u001b[0m\u001b[0;34m\u001b[0m\u001b[0m\n",
      "\u001b[0;32m/shared-libs/python3.8/py/lib/python3.8/site-packages/joblib/parallel.py\u001b[0m in \u001b[0;36m__call__\u001b[0;34m(self, iterable)\u001b[0m\n\u001b[1;32m   1039\u001b[0m             \u001b[0;31m# remaining jobs.\u001b[0m\u001b[0;34m\u001b[0m\u001b[0;34m\u001b[0m\u001b[0;34m\u001b[0m\u001b[0m\n\u001b[1;32m   1040\u001b[0m             \u001b[0mself\u001b[0m\u001b[0;34m.\u001b[0m\u001b[0m_iterating\u001b[0m \u001b[0;34m=\u001b[0m \u001b[0;32mFalse\u001b[0m\u001b[0;34m\u001b[0m\u001b[0;34m\u001b[0m\u001b[0m\n\u001b[0;32m-> 1041\u001b[0;31m             \u001b[0;32mif\u001b[0m \u001b[0mself\u001b[0m\u001b[0;34m.\u001b[0m\u001b[0mdispatch_one_batch\u001b[0m\u001b[0;34m(\u001b[0m\u001b[0miterator\u001b[0m\u001b[0;34m)\u001b[0m\u001b[0;34m:\u001b[0m\u001b[0;34m\u001b[0m\u001b[0;34m\u001b[0m\u001b[0m\n\u001b[0m\u001b[1;32m   1042\u001b[0m                 \u001b[0mself\u001b[0m\u001b[0;34m.\u001b[0m\u001b[0m_iterating\u001b[0m \u001b[0;34m=\u001b[0m \u001b[0mself\u001b[0m\u001b[0;34m.\u001b[0m\u001b[0m_original_iterator\u001b[0m \u001b[0;32mis\u001b[0m \u001b[0;32mnot\u001b[0m \u001b[0;32mNone\u001b[0m\u001b[0;34m\u001b[0m\u001b[0;34m\u001b[0m\u001b[0m\n\u001b[1;32m   1043\u001b[0m \u001b[0;34m\u001b[0m\u001b[0m\n",
      "\u001b[0;32m/shared-libs/python3.8/py/lib/python3.8/site-packages/joblib/parallel.py\u001b[0m in \u001b[0;36mdispatch_one_batch\u001b[0;34m(self, iterator)\u001b[0m\n\u001b[1;32m    857\u001b[0m                 \u001b[0;32mreturn\u001b[0m \u001b[0;32mFalse\u001b[0m\u001b[0;34m\u001b[0m\u001b[0;34m\u001b[0m\u001b[0m\n\u001b[1;32m    858\u001b[0m             \u001b[0;32melse\u001b[0m\u001b[0;34m:\u001b[0m\u001b[0;34m\u001b[0m\u001b[0;34m\u001b[0m\u001b[0m\n\u001b[0;32m--> 859\u001b[0;31m                 \u001b[0mself\u001b[0m\u001b[0;34m.\u001b[0m\u001b[0m_dispatch\u001b[0m\u001b[0;34m(\u001b[0m\u001b[0mtasks\u001b[0m\u001b[0;34m)\u001b[0m\u001b[0;34m\u001b[0m\u001b[0;34m\u001b[0m\u001b[0m\n\u001b[0m\u001b[1;32m    860\u001b[0m                 \u001b[0;32mreturn\u001b[0m \u001b[0;32mTrue\u001b[0m\u001b[0;34m\u001b[0m\u001b[0;34m\u001b[0m\u001b[0m\n\u001b[1;32m    861\u001b[0m \u001b[0;34m\u001b[0m\u001b[0m\n",
      "\u001b[0;32m/shared-libs/python3.8/py/lib/python3.8/site-packages/joblib/parallel.py\u001b[0m in \u001b[0;36m_dispatch\u001b[0;34m(self, batch)\u001b[0m\n\u001b[1;32m    775\u001b[0m         \u001b[0;32mwith\u001b[0m \u001b[0mself\u001b[0m\u001b[0;34m.\u001b[0m\u001b[0m_lock\u001b[0m\u001b[0;34m:\u001b[0m\u001b[0;34m\u001b[0m\u001b[0;34m\u001b[0m\u001b[0m\n\u001b[1;32m    776\u001b[0m             \u001b[0mjob_idx\u001b[0m \u001b[0;34m=\u001b[0m \u001b[0mlen\u001b[0m\u001b[0;34m(\u001b[0m\u001b[0mself\u001b[0m\u001b[0;34m.\u001b[0m\u001b[0m_jobs\u001b[0m\u001b[0;34m)\u001b[0m\u001b[0;34m\u001b[0m\u001b[0;34m\u001b[0m\u001b[0m\n\u001b[0;32m--> 777\u001b[0;31m             \u001b[0mjob\u001b[0m \u001b[0;34m=\u001b[0m \u001b[0mself\u001b[0m\u001b[0;34m.\u001b[0m\u001b[0m_backend\u001b[0m\u001b[0;34m.\u001b[0m\u001b[0mapply_async\u001b[0m\u001b[0;34m(\u001b[0m\u001b[0mbatch\u001b[0m\u001b[0;34m,\u001b[0m \u001b[0mcallback\u001b[0m\u001b[0;34m=\u001b[0m\u001b[0mcb\u001b[0m\u001b[0;34m)\u001b[0m\u001b[0;34m\u001b[0m\u001b[0;34m\u001b[0m\u001b[0m\n\u001b[0m\u001b[1;32m    778\u001b[0m             \u001b[0;31m# A job can complete so quickly than its callback is\u001b[0m\u001b[0;34m\u001b[0m\u001b[0;34m\u001b[0m\u001b[0;34m\u001b[0m\u001b[0m\n\u001b[1;32m    779\u001b[0m             \u001b[0;31m# called before we get here, causing self._jobs to\u001b[0m\u001b[0;34m\u001b[0m\u001b[0;34m\u001b[0m\u001b[0;34m\u001b[0m\u001b[0m\n",
      "\u001b[0;32m/shared-libs/python3.8/py/lib/python3.8/site-packages/joblib/_parallel_backends.py\u001b[0m in \u001b[0;36mapply_async\u001b[0;34m(self, func, callback)\u001b[0m\n\u001b[1;32m    206\u001b[0m     \u001b[0;32mdef\u001b[0m \u001b[0mapply_async\u001b[0m\u001b[0;34m(\u001b[0m\u001b[0mself\u001b[0m\u001b[0;34m,\u001b[0m \u001b[0mfunc\u001b[0m\u001b[0;34m,\u001b[0m \u001b[0mcallback\u001b[0m\u001b[0;34m=\u001b[0m\u001b[0;32mNone\u001b[0m\u001b[0;34m)\u001b[0m\u001b[0;34m:\u001b[0m\u001b[0;34m\u001b[0m\u001b[0;34m\u001b[0m\u001b[0m\n\u001b[1;32m    207\u001b[0m         \u001b[0;34m\"\"\"Schedule a func to be run\"\"\"\u001b[0m\u001b[0;34m\u001b[0m\u001b[0;34m\u001b[0m\u001b[0m\n\u001b[0;32m--> 208\u001b[0;31m         \u001b[0mresult\u001b[0m \u001b[0;34m=\u001b[0m \u001b[0mImmediateResult\u001b[0m\u001b[0;34m(\u001b[0m\u001b[0mfunc\u001b[0m\u001b[0;34m)\u001b[0m\u001b[0;34m\u001b[0m\u001b[0;34m\u001b[0m\u001b[0m\n\u001b[0m\u001b[1;32m    209\u001b[0m         \u001b[0;32mif\u001b[0m \u001b[0mcallback\u001b[0m\u001b[0;34m:\u001b[0m\u001b[0;34m\u001b[0m\u001b[0;34m\u001b[0m\u001b[0m\n\u001b[1;32m    210\u001b[0m             \u001b[0mcallback\u001b[0m\u001b[0;34m(\u001b[0m\u001b[0mresult\u001b[0m\u001b[0;34m)\u001b[0m\u001b[0;34m\u001b[0m\u001b[0;34m\u001b[0m\u001b[0m\n",
      "\u001b[0;32m/shared-libs/python3.8/py/lib/python3.8/site-packages/joblib/_parallel_backends.py\u001b[0m in \u001b[0;36m__init__\u001b[0;34m(self, batch)\u001b[0m\n\u001b[1;32m    570\u001b[0m         \u001b[0;31m# Don't delay the application, to avoid keeping the input\u001b[0m\u001b[0;34m\u001b[0m\u001b[0;34m\u001b[0m\u001b[0;34m\u001b[0m\u001b[0m\n\u001b[1;32m    571\u001b[0m         \u001b[0;31m# arguments in memory\u001b[0m\u001b[0;34m\u001b[0m\u001b[0;34m\u001b[0m\u001b[0;34m\u001b[0m\u001b[0m\n\u001b[0;32m--> 572\u001b[0;31m         \u001b[0mself\u001b[0m\u001b[0;34m.\u001b[0m\u001b[0mresults\u001b[0m \u001b[0;34m=\u001b[0m \u001b[0mbatch\u001b[0m\u001b[0;34m(\u001b[0m\u001b[0;34m)\u001b[0m\u001b[0;34m\u001b[0m\u001b[0;34m\u001b[0m\u001b[0m\n\u001b[0m\u001b[1;32m    573\u001b[0m \u001b[0;34m\u001b[0m\u001b[0m\n\u001b[1;32m    574\u001b[0m     \u001b[0;32mdef\u001b[0m \u001b[0mget\u001b[0m\u001b[0;34m(\u001b[0m\u001b[0mself\u001b[0m\u001b[0;34m)\u001b[0m\u001b[0;34m:\u001b[0m\u001b[0;34m\u001b[0m\u001b[0;34m\u001b[0m\u001b[0m\n",
      "\u001b[0;32m/shared-libs/python3.8/py/lib/python3.8/site-packages/joblib/parallel.py\u001b[0m in \u001b[0;36m__call__\u001b[0;34m(self)\u001b[0m\n\u001b[1;32m    260\u001b[0m         \u001b[0;31m# change the default number of processes to -1\u001b[0m\u001b[0;34m\u001b[0m\u001b[0;34m\u001b[0m\u001b[0;34m\u001b[0m\u001b[0m\n\u001b[1;32m    261\u001b[0m         \u001b[0;32mwith\u001b[0m \u001b[0mparallel_backend\u001b[0m\u001b[0;34m(\u001b[0m\u001b[0mself\u001b[0m\u001b[0;34m.\u001b[0m\u001b[0m_backend\u001b[0m\u001b[0;34m,\u001b[0m \u001b[0mn_jobs\u001b[0m\u001b[0;34m=\u001b[0m\u001b[0mself\u001b[0m\u001b[0;34m.\u001b[0m\u001b[0m_n_jobs\u001b[0m\u001b[0;34m)\u001b[0m\u001b[0;34m:\u001b[0m\u001b[0;34m\u001b[0m\u001b[0;34m\u001b[0m\u001b[0m\n\u001b[0;32m--> 262\u001b[0;31m             return [func(*args, **kwargs)\n\u001b[0m\u001b[1;32m    263\u001b[0m                     for func, args, kwargs in self.items]\n\u001b[1;32m    264\u001b[0m \u001b[0;34m\u001b[0m\u001b[0m\n",
      "\u001b[0;32m/shared-libs/python3.8/py/lib/python3.8/site-packages/joblib/parallel.py\u001b[0m in \u001b[0;36m<listcomp>\u001b[0;34m(.0)\u001b[0m\n\u001b[1;32m    260\u001b[0m         \u001b[0;31m# change the default number of processes to -1\u001b[0m\u001b[0;34m\u001b[0m\u001b[0;34m\u001b[0m\u001b[0;34m\u001b[0m\u001b[0m\n\u001b[1;32m    261\u001b[0m         \u001b[0;32mwith\u001b[0m \u001b[0mparallel_backend\u001b[0m\u001b[0;34m(\u001b[0m\u001b[0mself\u001b[0m\u001b[0;34m.\u001b[0m\u001b[0m_backend\u001b[0m\u001b[0;34m,\u001b[0m \u001b[0mn_jobs\u001b[0m\u001b[0;34m=\u001b[0m\u001b[0mself\u001b[0m\u001b[0;34m.\u001b[0m\u001b[0m_n_jobs\u001b[0m\u001b[0;34m)\u001b[0m\u001b[0;34m:\u001b[0m\u001b[0;34m\u001b[0m\u001b[0;34m\u001b[0m\u001b[0m\n\u001b[0;32m--> 262\u001b[0;31m             return [func(*args, **kwargs)\n\u001b[0m\u001b[1;32m    263\u001b[0m                     for func, args, kwargs in self.items]\n\u001b[1;32m    264\u001b[0m \u001b[0;34m\u001b[0m\u001b[0m\n",
      "\u001b[0;32m/shared-libs/python3.8/py/lib/python3.8/site-packages/sklearn/utils/fixes.py\u001b[0m in \u001b[0;36m__call__\u001b[0;34m(self, *args, **kwargs)\u001b[0m\n\u001b[1;32m    220\u001b[0m     \u001b[0;32mdef\u001b[0m \u001b[0m__call__\u001b[0m\u001b[0;34m(\u001b[0m\u001b[0mself\u001b[0m\u001b[0;34m,\u001b[0m \u001b[0;34m*\u001b[0m\u001b[0margs\u001b[0m\u001b[0;34m,\u001b[0m \u001b[0;34m**\u001b[0m\u001b[0mkwargs\u001b[0m\u001b[0;34m)\u001b[0m\u001b[0;34m:\u001b[0m\u001b[0;34m\u001b[0m\u001b[0;34m\u001b[0m\u001b[0m\n\u001b[1;32m    221\u001b[0m         \u001b[0;32mwith\u001b[0m \u001b[0mconfig_context\u001b[0m\u001b[0;34m(\u001b[0m\u001b[0;34m**\u001b[0m\u001b[0mself\u001b[0m\u001b[0;34m.\u001b[0m\u001b[0mconfig\u001b[0m\u001b[0;34m)\u001b[0m\u001b[0;34m:\u001b[0m\u001b[0;34m\u001b[0m\u001b[0;34m\u001b[0m\u001b[0m\n\u001b[0;32m--> 222\u001b[0;31m             \u001b[0;32mreturn\u001b[0m \u001b[0mself\u001b[0m\u001b[0;34m.\u001b[0m\u001b[0mfunction\u001b[0m\u001b[0;34m(\u001b[0m\u001b[0;34m*\u001b[0m\u001b[0margs\u001b[0m\u001b[0;34m,\u001b[0m \u001b[0;34m**\u001b[0m\u001b[0mkwargs\u001b[0m\u001b[0;34m)\u001b[0m\u001b[0;34m\u001b[0m\u001b[0;34m\u001b[0m\u001b[0m\n\u001b[0m",
      "\u001b[0;32m/shared-libs/python3.8/py/lib/python3.8/site-packages/sklearn/ensemble/_base.py\u001b[0m in \u001b[0;36m_fit_single_estimator\u001b[0;34m(estimator, X, y, sample_weight, message_clsname, message)\u001b[0m\n\u001b[1;32m     37\u001b[0m     \u001b[0;32melse\u001b[0m\u001b[0;34m:\u001b[0m\u001b[0;34m\u001b[0m\u001b[0;34m\u001b[0m\u001b[0m\n\u001b[1;32m     38\u001b[0m         \u001b[0;32mwith\u001b[0m \u001b[0m_print_elapsed_time\u001b[0m\u001b[0;34m(\u001b[0m\u001b[0mmessage_clsname\u001b[0m\u001b[0;34m,\u001b[0m \u001b[0mmessage\u001b[0m\u001b[0;34m)\u001b[0m\u001b[0;34m:\u001b[0m\u001b[0;34m\u001b[0m\u001b[0;34m\u001b[0m\u001b[0m\n\u001b[0;32m---> 39\u001b[0;31m             \u001b[0mestimator\u001b[0m\u001b[0;34m.\u001b[0m\u001b[0mfit\u001b[0m\u001b[0;34m(\u001b[0m\u001b[0mX\u001b[0m\u001b[0;34m,\u001b[0m \u001b[0my\u001b[0m\u001b[0;34m)\u001b[0m\u001b[0;34m\u001b[0m\u001b[0;34m\u001b[0m\u001b[0m\n\u001b[0m\u001b[1;32m     40\u001b[0m     \u001b[0;32mreturn\u001b[0m \u001b[0mestimator\u001b[0m\u001b[0;34m\u001b[0m\u001b[0;34m\u001b[0m\u001b[0m\n\u001b[1;32m     41\u001b[0m \u001b[0;34m\u001b[0m\u001b[0m\n",
      "\u001b[0;32m~/venv/lib/python3.8/site-packages/catboost/core.py\u001b[0m in \u001b[0;36mfit\u001b[0;34m(self, X, y, cat_features, sample_weight, baseline, use_best_model, eval_set, verbose, logging_level, plot, column_description, verbose_eval, metric_period, silent, early_stopping_rounds, save_snapshot, snapshot_file, snapshot_interval, init_model, callbacks, log_cout, log_cerr)\u001b[0m\n\u001b[1;32m   5256\u001b[0m             \u001b[0mCatBoostRegressor\u001b[0m\u001b[0;34m.\u001b[0m\u001b[0m_check_is_compatible_loss\u001b[0m\u001b[0;34m(\u001b[0m\u001b[0mparams\u001b[0m\u001b[0;34m[\u001b[0m\u001b[0;34m'loss_function'\u001b[0m\u001b[0;34m]\u001b[0m\u001b[0;34m)\u001b[0m\u001b[0;34m\u001b[0m\u001b[0;34m\u001b[0m\u001b[0m\n\u001b[1;32m   5257\u001b[0m \u001b[0;34m\u001b[0m\u001b[0m\n\u001b[0;32m-> 5258\u001b[0;31m         return self._fit(X, y, cat_features, None, None, None, sample_weight, None, None, None, None, baseline,\n\u001b[0m\u001b[1;32m   5259\u001b[0m                          \u001b[0muse_best_model\u001b[0m\u001b[0;34m,\u001b[0m \u001b[0meval_set\u001b[0m\u001b[0;34m,\u001b[0m \u001b[0mverbose\u001b[0m\u001b[0;34m,\u001b[0m \u001b[0mlogging_level\u001b[0m\u001b[0;34m,\u001b[0m \u001b[0mplot\u001b[0m\u001b[0;34m,\u001b[0m \u001b[0mcolumn_description\u001b[0m\u001b[0;34m,\u001b[0m\u001b[0;34m\u001b[0m\u001b[0;34m\u001b[0m\u001b[0m\n\u001b[1;32m   5260\u001b[0m                          \u001b[0mverbose_eval\u001b[0m\u001b[0;34m,\u001b[0m \u001b[0mmetric_period\u001b[0m\u001b[0;34m,\u001b[0m \u001b[0msilent\u001b[0m\u001b[0;34m,\u001b[0m \u001b[0mearly_stopping_rounds\u001b[0m\u001b[0;34m,\u001b[0m\u001b[0;34m\u001b[0m\u001b[0;34m\u001b[0m\u001b[0m\n",
      "\u001b[0;32m~/venv/lib/python3.8/site-packages/catboost/core.py\u001b[0m in \u001b[0;36m_fit\u001b[0;34m(self, X, y, cat_features, text_features, embedding_features, pairs, sample_weight, group_id, group_weight, subgroup_id, pairs_weight, baseline, use_best_model, eval_set, verbose, logging_level, plot, column_description, verbose_eval, metric_period, silent, early_stopping_rounds, save_snapshot, snapshot_file, snapshot_interval, init_model, callbacks, log_cout, log_cerr)\u001b[0m\n\u001b[1;32m   1979\u001b[0m             \u001b[0;32mraise\u001b[0m \u001b[0mCatBoostError\u001b[0m\u001b[0;34m(\u001b[0m\u001b[0;34m\"y may be None only when X is an instance of catboost.Pool or string\"\u001b[0m\u001b[0;34m)\u001b[0m\u001b[0;34m\u001b[0m\u001b[0;34m\u001b[0m\u001b[0m\n\u001b[1;32m   1980\u001b[0m \u001b[0;34m\u001b[0m\u001b[0m\n\u001b[0;32m-> 1981\u001b[0;31m         train_params = self._prepare_train_params(\n\u001b[0m\u001b[1;32m   1982\u001b[0m             \u001b[0mX\u001b[0m\u001b[0;34m=\u001b[0m\u001b[0mX\u001b[0m\u001b[0;34m,\u001b[0m \u001b[0my\u001b[0m\u001b[0;34m=\u001b[0m\u001b[0my\u001b[0m\u001b[0;34m,\u001b[0m \u001b[0mcat_features\u001b[0m\u001b[0;34m=\u001b[0m\u001b[0mcat_features\u001b[0m\u001b[0;34m,\u001b[0m \u001b[0mtext_features\u001b[0m\u001b[0;34m=\u001b[0m\u001b[0mtext_features\u001b[0m\u001b[0;34m,\u001b[0m \u001b[0membedding_features\u001b[0m\u001b[0;34m=\u001b[0m\u001b[0membedding_features\u001b[0m\u001b[0;34m,\u001b[0m\u001b[0;34m\u001b[0m\u001b[0;34m\u001b[0m\u001b[0m\n\u001b[1;32m   1983\u001b[0m             \u001b[0mpairs\u001b[0m\u001b[0;34m=\u001b[0m\u001b[0mpairs\u001b[0m\u001b[0;34m,\u001b[0m \u001b[0msample_weight\u001b[0m\u001b[0;34m=\u001b[0m\u001b[0msample_weight\u001b[0m\u001b[0;34m,\u001b[0m \u001b[0mgroup_id\u001b[0m\u001b[0;34m=\u001b[0m\u001b[0mgroup_id\u001b[0m\u001b[0;34m,\u001b[0m \u001b[0mgroup_weight\u001b[0m\u001b[0;34m=\u001b[0m\u001b[0mgroup_weight\u001b[0m\u001b[0;34m,\u001b[0m\u001b[0;34m\u001b[0m\u001b[0;34m\u001b[0m\u001b[0m\n",
      "\u001b[0;32m~/venv/lib/python3.8/site-packages/catboost/core.py\u001b[0m in \u001b[0;36m_prepare_train_params\u001b[0;34m(self, X, y, cat_features, text_features, embedding_features, pairs, sample_weight, group_id, group_weight, subgroup_id, pairs_weight, baseline, use_best_model, eval_set, verbose, logging_level, plot, column_description, verbose_eval, metric_period, silent, early_stopping_rounds, save_snapshot, snapshot_file, snapshot_interval, init_model, callbacks)\u001b[0m\n\u001b[1;32m   1911\u001b[0m         \u001b[0m_check_param_types\u001b[0m\u001b[0;34m(\u001b[0m\u001b[0mparams\u001b[0m\u001b[0;34m)\u001b[0m\u001b[0;34m\u001b[0m\u001b[0;34m\u001b[0m\u001b[0m\n\u001b[1;32m   1912\u001b[0m         \u001b[0mparams\u001b[0m \u001b[0;34m=\u001b[0m \u001b[0m_params_type_cast\u001b[0m\u001b[0;34m(\u001b[0m\u001b[0mparams\u001b[0m\u001b[0;34m)\u001b[0m\u001b[0;34m\u001b[0m\u001b[0;34m\u001b[0m\u001b[0m\n\u001b[0;32m-> 1913\u001b[0;31m         \u001b[0m_check_train_params\u001b[0m\u001b[0;34m(\u001b[0m\u001b[0mparams\u001b[0m\u001b[0;34m)\u001b[0m\u001b[0;34m\u001b[0m\u001b[0;34m\u001b[0m\u001b[0m\n\u001b[0m\u001b[1;32m   1914\u001b[0m \u001b[0;34m\u001b[0m\u001b[0m\n\u001b[1;32m   1915\u001b[0m         \u001b[0meval_set_list\u001b[0m \u001b[0;34m=\u001b[0m \u001b[0meval_set\u001b[0m \u001b[0;32mif\u001b[0m \u001b[0misinstance\u001b[0m\u001b[0;34m(\u001b[0m\u001b[0meval_set\u001b[0m\u001b[0;34m,\u001b[0m \u001b[0mlist\u001b[0m\u001b[0;34m)\u001b[0m \u001b[0;32melse\u001b[0m \u001b[0;34m[\u001b[0m\u001b[0meval_set\u001b[0m\u001b[0;34m]\u001b[0m\u001b[0;34m\u001b[0m\u001b[0;34m\u001b[0m\u001b[0m\n",
      "\u001b[0;32m_catboost.pyx\u001b[0m in \u001b[0;36m_catboost._check_train_params\u001b[0;34m()\u001b[0m\n",
      "\u001b[0;32m_catboost.pyx\u001b[0m in \u001b[0;36m_catboost._check_train_params\u001b[0;34m()\u001b[0m\n",
      "\u001b[0;31mCatBoostError\u001b[0m: tools/enum_parser/enum_serialization_runtime/enum_runtime.cpp:32: Key 'MAE' not found in enum EGrowPolicy. Valid options are: 'SymmetricTree', 'Lossguide', 'Depthwise', 'Region'. "
     ]
    }
   ]
  },
  {
   "cell_type": "code",
   "metadata": {
    "tags": [],
    "cell_id": "00015-05280a26-9ea5-45c1-b2b5-b666d03e3de5",
    "deepnote_to_be_reexecuted": true,
    "source_hash": "89e759e0",
    "execution_start": 1632563034350,
    "execution_millis": 8,
    "deepnote_cell_type": "code"
   },
   "source": "\"\"\"\nfuncgroup2num = {c: i for i, c in enumerate(train['functional_groups'].unique())}\ntopology2num = {c: i for i, c in enumerate(train['topology'].unique())}\nspacegroup2num = {c: i for i, c in enumerate(train['_space_group_crystal_system'].unique())}\n\ntrain['label_funcgroup'] = train['functional_groups'].map(funcgroup2num)\ntrain['label_topology'] = train['topology'].map(topology2num)\ntrain['label_spacegroup'] = train['_space_group_crystal_system'].map(spacegroup2num)\n\"\"\"",
   "execution_count": null,
   "outputs": [
    {
     "output_type": "execute_result",
     "execution_count": 34,
     "data": {
      "text/plain": "\"\\nfuncgroup2num = {c: i for i, c in enumerate(train['functional_groups'].unique())}\\ntopology2num = {c: i for i, c in enumerate(train['topology'].unique())}\\nspacegroup2num = {c: i for i, c in enumerate(train['_space_group_crystal_system'].unique())}\\n\\ntrain['label_funcgroup'] = train['functional_groups'].map(funcgroup2num)\\ntrain['label_topology'] = train['topology'].map(topology2num)\\ntrain['label_spacegroup'] = train['_space_group_crystal_system'].map(spacegroup2num)\\n\""
     },
     "metadata": {}
    },
    {
     "output_type": "execute_result",
     "execution_count": 14,
     "data": {
      "text/plain": "\"\\nfuncgroup2num = {c: i for i, c in enumerate(train['functional_groups'].unique())}\\ntopology2num = {c: i for i, c in enumerate(train['topology'].unique())}\\nspacegroup2num = {c: i for i, c in enumerate(train['_space_group_crystal_system'].unique())}\\n\\ntrain['label_funcgroup'] = train['functional_groups'].map(funcgroup2num)\\ntrain['label_topology'] = train['topology'].map(topology2num)\\ntrain['label_spacegroup'] = train['_space_group_crystal_system'].map(spacegroup2num)\\n\""
     },
     "metadata": {}
    }
   ]
  },
  {
   "cell_type": "code",
   "metadata": {
    "tags": [],
    "cell_id": "00015-68f3c6ee-1674-47b9-b357-8c3655ced168",
    "deepnote_to_be_reexecuted": true,
    "source_hash": "6f67b56c",
    "execution_start": 1632563034351,
    "execution_millis": 48486,
    "deepnote_cell_type": "code"
   },
   "source": "np.mean([score['log_mean_error_test'] for score in fit_results['voting']])",
   "execution_count": null,
   "outputs": [
    {
     "output_type": "execute_result",
     "execution_count": 35,
     "data": {
      "text/plain": "2.9784263287876636"
     },
     "metadata": {}
    },
    {
     "output_type": "execute_result",
     "execution_count": 15,
     "data": {
      "text/plain": "2.9775047816885656"
     },
     "metadata": {}
    }
   ]
  },
  {
   "cell_type": "code",
   "metadata": {
    "tags": [],
    "cell_id": "00018-f9d218e8-119e-410a-9837-b6a7182fdc74",
    "deepnote_to_be_reexecuted": true,
    "source_hash": "54cec781",
    "execution_start": 1632563034389,
    "execution_millis": 48467,
    "deepnote_cell_type": "code"
   },
   "source": "np.std([score['log_mean_error_test'] for score in fit_results['voting']])",
   "execution_count": null,
   "outputs": [
    {
     "output_type": "execute_result",
     "execution_count": 36,
     "data": {
      "text/plain": "0.015358769840865653"
     },
     "metadata": {}
    },
    {
     "output_type": "execute_result",
     "execution_count": 16,
     "data": {
      "text/plain": "0.00892473252467317"
     },
     "metadata": {}
    }
   ]
  },
  {
   "cell_type": "code",
   "metadata": {
    "tags": [],
    "cell_id": "00016-3e248ace-e4be-4535-aab6-21d0c8ad65ed",
    "deepnote_to_be_reexecuted": true,
    "source_hash": "fc853f7e",
    "execution_start": 1632563034390,
    "execution_millis": 48465,
    "deepnote_cell_type": "code"
   },
   "source": "test_pred = pd.DataFrame(test_pred, index= y_test.index, columns=y_test.columns)\nerror_sort = np.abs(y_test - test_pred).sort_values(TARGET, ascending=False)",
   "execution_count": null,
   "outputs": []
  },
  {
   "cell_type": "code",
   "metadata": {
    "tags": [],
    "cell_id": "00017-27750954-1dd3-429d-9b8c-6c411ded9fff",
    "deepnote_to_be_reexecuted": true,
    "source_hash": "b623e53d",
    "execution_start": 1632563034390,
    "execution_millis": 2,
    "deepnote_cell_type": "code"
   },
   "source": "",
   "execution_count": null,
   "outputs": []
  },
  {
   "cell_type": "code",
   "metadata": {
    "tags": [],
    "cell_id": "00017-ca7519a9-c091-49ab-b367-973e8cfa064c",
    "deepnote_to_be_reexecuted": true,
    "source_hash": "94998eda",
    "execution_start": 1632563034390,
    "execution_millis": 40,
    "deepnote_cell_type": "code"
   },
   "source": "Train.loc[error_sort.index].head(500).mean()",
   "execution_count": null,
   "outputs": [
    {
     "output_type": "execute_result",
     "execution_count": 38,
     "data": {
      "text/plain": "volume [A^3]                                     2.356968e+03\nweight [u]                                       1.534163e+03\nsurface_area [m^2/g]                             6.953780e+02\nvoid_fraction                                    1.539958e-01\nvoid_volume [cm^3/g]                             1.539676e-01\nmetal_linker                                     5.142000e+00\norganic_linker1                                  1.049000e+01\norganic_linker2                                  1.880800e+01\nCO2/N2_selectivity                               5.265759e+01\nheat_adsorption_CO2_P0.15bar_T298K [kcal/mol]    7.371163e+00\n_symmetry_Int_Tables_number                      1.000000e+00\n_cell_length_a                                   1.369902e+01\n_cell_length_b                                   1.211195e+01\n_cell_length_c                                   1.566308e+01\n_cell_angle_alpha                                9.110386e+01\n_cell_angle_beta                                 9.200158e+01\n_cell_angle_gamma                                9.109516e+01\n_cell_volume                                     2.356968e+03\npartial_charge_mean                             -2.311536e-09\npartial_charge_median                            3.648463e-02\npartial_charge_std                               4.118599e-01\nbond_type_countS                                 9.071000e+01\nbond_type_countA                                 6.104600e+01\nbond_type_countD                                 4.182000e+00\nbond_type_countT                                 9.420000e-01\nbond_type_countAm                                1.600000e-01\nCO2_working_capacity [mL/g]                      2.529615e+02\nLMAE                                             9.154807e+01\nprediction                                       2.377853e+02\ndtype: float64"
     },
     "metadata": {}
    },
    {
     "output_type": "execute_result",
     "execution_count": 18,
     "data": {
      "text/plain": "volume [A^3]                                     2.341157e+03\nweight [u]                                       1.507021e+03\nsurface_area [m^2/g]                             6.811521e+02\nvoid_fraction                                    1.494246e-01\nvoid_volume [cm^3/g]                             1.505542e-01\nmetal_linker                                     5.080000e+00\norganic_linker1                                  1.053800e+01\norganic_linker2                                  1.863600e+01\nCO2/N2_selectivity                               4.997613e+01\nheat_adsorption_CO2_P0.15bar_T298K [kcal/mol]    7.398020e+00\n_symmetry_Int_Tables_number                      1.000000e+00\n_cell_length_a                                   1.436519e+01\n_cell_length_b                                   1.200474e+01\n_cell_length_c                                   1.520558e+01\n_cell_angle_alpha                                9.142061e+01\n_cell_angle_beta                                 9.187127e+01\n_cell_angle_gamma                                9.214535e+01\n_cell_volume                                     2.341157e+03\npartial_charge_mean                              5.267502e-10\npartial_charge_median                            4.763011e-02\npartial_charge_std                               4.041097e-01\nbond_type_countS                                 9.484200e+01\nbond_type_countA                                 5.920800e+01\nbond_type_countD                                 3.436000e+00\nbond_type_countT                                 1.120000e+00\nbond_type_countAm                                0.000000e+00\nCO2_working_capacity [mL/g]                      2.496625e+02\ndtype: float64"
     },
     "metadata": {}
    }
   ]
  },
  {
   "cell_type": "code",
   "metadata": {
    "tags": [],
    "cell_id": "00018-f0c77eb6-8daf-4b18-92e4-37f56cb67b44",
    "deepnote_to_be_reexecuted": true,
    "source_hash": "373521d2",
    "execution_start": 1632563034430,
    "execution_millis": 20,
    "deepnote_cell_type": "code"
   },
   "source": "error_train = Train.loc[error_sort.index]\nTrain[\"LMAE\"] = error_sort.iloc[:, 0]\nTrain[\"prediction\"] = test_pred.iloc[:, 0]",
   "execution_count": null,
   "outputs": []
  },
  {
   "cell_type": "code",
   "metadata": {
    "tags": [],
    "cell_id": "00020-d880efde-77b6-4c28-a2db-30642b07dffe",
    "deepnote_to_be_reexecuted": true,
    "source_hash": "d5dc3a80",
    "execution_start": 1632563034430,
    "execution_millis": 603,
    "deepnote_cell_type": "code"
   },
   "source": "Train.loc[error_sort.index].to_csv(\"error_train.csv\")",
   "execution_count": null,
   "outputs": []
  },
  {
   "cell_type": "code",
   "metadata": {
    "tags": [],
    "cell_id": "00018-86e4a8f6-8ebc-494c-8898-c016b5bf6704",
    "deepnote_to_be_reexecuted": true,
    "source_hash": "acbdf18d",
    "execution_start": 1632563034841,
    "execution_millis": 25,
    "deepnote_cell_type": "code"
   },
   "source": "Train.loc[error_sort.index].tail(500).mean()",
   "execution_count": null,
   "outputs": [
    {
     "output_type": "execute_result",
     "execution_count": 41,
     "data": {
      "text/plain": "volume [A^3]                                     6.704782e+03\nweight [u]                                       2.103692e+03\nsurface_area [m^2/g]                             2.897729e+03\nvoid_fraction                                    4.228012e-01\nvoid_volume [cm^3/g]                             8.577634e-01\nmetal_linker                                     3.484000e+00\norganic_linker1                                  1.084000e+01\norganic_linker2                                  2.015800e+01\nCO2/N2_selectivity                               1.465472e+01\nheat_adsorption_CO2_P0.15bar_T298K [kcal/mol]    4.764113e+00\n_symmetry_Int_Tables_number                      1.000000e+00\n_cell_length_a                                   1.793414e+01\n_cell_length_b                                   1.722127e+01\n_cell_length_c                                   1.842829e+01\n_cell_angle_alpha                                9.235156e+01\n_cell_angle_beta                                 9.492077e+01\n_cell_angle_gamma                                9.231075e+01\n_cell_volume                                     6.704782e+03\npartial_charge_mean                              9.746473e-10\npartial_charge_median                            2.448210e-02\npartial_charge_std                               4.151032e-01\nbond_type_countS                                 1.147000e+02\nbond_type_countA                                 7.032600e+01\nbond_type_countD                                 4.272000e+00\nbond_type_countT                                 3.548000e+00\nbond_type_countAm                                1.440000e-01\nCO2_working_capacity [mL/g]                      6.022463e+01\nLMAE                                             3.224497e-01\nprediction                                       6.023795e+01\ndtype: float64"
     },
     "metadata": {}
    },
    {
     "output_type": "execute_result",
     "execution_count": 21,
     "data": {
      "text/plain": "volume [A^3]                                     6.596077e+03\nweight [u]                                       2.091364e+03\nsurface_area [m^2/g]                             2.769352e+03\nvoid_fraction                                    4.081344e-01\nvoid_volume [cm^3/g]                             8.030724e-01\nmetal_linker                                     3.530000e+00\norganic_linker1                                  1.148400e+01\norganic_linker2                                  2.075000e+01\nCO2/N2_selectivity                               1.533102e+01\nheat_adsorption_CO2_P0.15bar_T298K [kcal/mol]    4.877735e+00\n_symmetry_Int_Tables_number                      1.000000e+00\n_cell_length_a                                   1.698871e+01\n_cell_length_b                                   1.678208e+01\n_cell_length_c                                   1.882037e+01\n_cell_angle_alpha                                9.230902e+01\n_cell_angle_beta                                 9.286829e+01\n_cell_angle_gamma                                9.138863e+01\n_cell_volume                                     6.596077e+03\npartial_charge_mean                             -1.064990e-10\npartial_charge_median                            3.156527e-02\npartial_charge_std                               4.145561e-01\nbond_type_countS                                 1.147500e+02\nbond_type_countA                                 7.023800e+01\nbond_type_countD                                 3.698000e+00\nbond_type_countT                                 3.608000e+00\nbond_type_countAm                                5.600000e-02\nCO2_working_capacity [mL/g]                      6.289009e+01\nLMAE                                             3.087511e-01\nprediction                                       6.290897e+01\ndtype: float64"
     },
     "metadata": {}
    }
   ]
  },
  {
   "cell_type": "code",
   "metadata": {
    "tags": [],
    "cell_id": "00018-03d4a2d2-fcc8-49fc-93f0-5f422054c830",
    "deepnote_to_be_reexecuted": true,
    "source_hash": "fe6523d9",
    "execution_start": 1632563034870,
    "execution_millis": 2,
    "deepnote_cell_type": "code"
   },
   "source": "# train_prediction = .predict(X)",
   "execution_count": null,
   "outputs": []
  },
  {
   "cell_type": "code",
   "metadata": {
    "tags": [],
    "cell_id": "00019-102e9c2c-1e6f-4a20-b317-2f378725321b",
    "deepnote_to_be_reexecuted": true,
    "source_hash": "b0c387f5",
    "execution_start": 1632563034878,
    "execution_millis": 11,
    "deepnote_cell_type": "code"
   },
   "source": "# np.log(mean_absolute_error(train_prediction, y))",
   "execution_count": null,
   "outputs": []
  },
  {
   "cell_type": "code",
   "metadata": {
    "tags": [],
    "cell_id": "00020-46248fb0-5be0-4a8f-90f6-e19c42aaa24a",
    "deepnote_to_be_reexecuted": true,
    "source_hash": "fe1547a",
    "execution_start": 1632563034883,
    "execution_millis": 7,
    "deepnote_cell_type": "code"
   },
   "source": "# feature_importances = pd.DataFrame(catboost.feature_importances_)\n# feature_importances.index = Train.drop(TARGET, axis=1).columns",
   "execution_count": null,
   "outputs": []
  },
  {
   "cell_type": "code",
   "metadata": {
    "tags": [],
    "cell_id": "00021-e6be6076-f4c7-465c-b3ea-791be79b1cac",
    "deepnote_to_be_reexecuted": true,
    "source_hash": "1898d942",
    "execution_start": 1632563034906,
    "execution_millis": 48571,
    "deepnote_cell_type": "code"
   },
   "source": "# feature_importances.sort_values(by=0, ascending=False)",
   "execution_count": null,
   "outputs": []
  },
  {
   "cell_type": "code",
   "metadata": {
    "tags": [],
    "cell_id": "00022-ef968977-69b3-462b-8aa9-835e9a9a276b",
    "deepnote_to_be_reexecuted": true,
    "source_hash": "ee960895",
    "execution_start": 1632563034907,
    "execution_millis": 0,
    "deepnote_cell_type": "code"
   },
   "source": "# feature_importances[0].nlargest(20).plot(kind='barh')",
   "execution_count": null,
   "outputs": []
  },
  {
   "cell_type": "code",
   "metadata": {
    "tags": [],
    "cell_id": "00025-81c7491f-d77b-4c44-91a3-90e76217a3a7",
    "deepnote_to_be_reexecuted": true,
    "source_hash": "ac13f7e0",
    "execution_start": 1632563034907,
    "execution_millis": 0,
    "deepnote_cell_type": "code"
   },
   "source": "# feature_importances[0].nlargest(20).index",
   "execution_count": null,
   "outputs": []
  },
  {
   "cell_type": "code",
   "metadata": {
    "tags": [],
    "cell_id": "00027-3bfce106-d2db-430c-8d12-5038698640a6",
    "deepnote_to_be_reexecuted": true,
    "source_hash": "b623e53d",
    "execution_start": 1632563034907,
    "execution_millis": 48563,
    "deepnote_cell_type": "code"
   },
   "source": "",
   "execution_count": null,
   "outputs": []
  },
  {
   "cell_type": "code",
   "metadata": {
    "tags": [],
    "cell_id": "00033-96b30f0f-9d64-48cd-8b68-e74d661eb888",
    "deepnote_to_be_reexecuted": true,
    "source_hash": "77888ac8",
    "execution_start": 1632563034910,
    "execution_millis": 6,
    "deepnote_cell_type": "code"
   },
   "source": "fit_results['voting'][0]",
   "execution_count": null,
   "outputs": [
    {
     "output_type": "execute_result",
     "execution_count": 55,
     "data": {
      "text/plain": "{'model': VotingRegressor(estimators=[('cat',\n                              <catboost.core.CatBoostRegressor object at 0x7f603ba906a0>),\n                             ('xgb',\n                              XGBRegressor(base_score=None, booster=None,\n                                           colsample_bylevel=None,\n                                           colsample_bynode=None,\n                                           colsample_bytree=None, gamma=None,\n                                           gpu_id=None, grow_policy='lossguide',\n                                           importance_type='gain',\n                                           interaction_constraints=None,\n                                           learning_rate=None,\n                                           max_delta_step=None, max_depth=None,\n                                           min_child_weight=None, missing=nan,\n                                           monotone_constraints=None,\n                                           n_estimators=100, n_jobs=None,\n                                           num_parallel_tree=None,\n                                           random_state=None, reg_alpha=None,\n                                           reg_lambda=None,\n                                           scale_pos_weight=None, subsample=None,\n                                           tree_method=None,\n                                           validate_parameters=None,\n                                           verbosity=None))]),\n 'log_mean_error_train': 2.733107905190592,\n 'log_mean_error_test': 2.955329178237666}"
     },
     "metadata": {}
    },
    {
     "output_type": "execute_result",
     "execution_count": 28,
     "data": {
      "text/plain": "{'model': VotingRegressor(estimators=[('cat',\n                              <catboost.core.CatBoostRegressor object at 0x7f2ba2e65250>),\n                             ('xgb',\n                              XGBRegressor(base_score=None, booster=None,\n                                           colsample_bylevel=None,\n                                           colsample_bynode=None,\n                                           colsample_bytree=None, gamma=None,\n                                           gpu_id=None, grow_policy='lossguide',\n                                           importance_type='gain',\n                                           interaction_constraints=None,\n                                           learning_rate=None,\n                                           max_delta_step=None, max_depth=None,\n                                           min_child_weight=None, missing=nan,\n                                           monotone_constraints=None,\n                                           n_estimators=100, n_jobs=None,\n                                           num_parallel_tree=None,\n                                           random_state=None, reg_alpha=None,\n                                           reg_lambda=None,\n                                           scale_pos_weight=None, subsample=None,\n                                           tree_method='exact',\n                                           validate_parameters=None,\n                                           verbosity=None))]),\n 'log_mean_error_train': 2.733107905190592,\n 'log_mean_error_test': 2.955329178237666}"
     },
     "metadata": {}
    }
   ]
  },
  {
   "cell_type": "code",
   "metadata": {
    "tags": [],
    "cell_id": "00022-e23ef112-b966-43a3-a681-81e44cae9b9e",
    "deepnote_to_be_reexecuted": true,
    "source_hash": "fde06972",
    "execution_start": 1632563034961,
    "execution_millis": 248,
    "deepnote_cell_type": "code"
   },
   "source": "sub = np.mean(\n    [model['model'].predict(test.X) for model in fit_results['voting']],\n    axis=0\n)",
   "execution_count": null,
   "outputs": []
  },
  {
   "cell_type": "code",
   "metadata": {
    "tags": [],
    "cell_id": "00023-139a058b-9793-400b-8793-9c68c8e3ea1b",
    "deepnote_to_be_reexecuted": true,
    "source_hash": "edbc753e",
    "execution_start": 1632563040096,
    "execution_millis": 1,
    "deepnote_cell_type": "code"
   },
   "source": "sub = pd.DataFrame(sub)",
   "execution_count": null,
   "outputs": []
  },
  {
   "cell_type": "code",
   "metadata": {
    "tags": [],
    "cell_id": "00024-9fdde596-bad8-407e-865e-cebca0e713fe",
    "deepnote_to_be_reexecuted": true,
    "source_hash": "b867ab08",
    "execution_start": 1632563040107,
    "execution_millis": 14,
    "deepnote_cell_type": "code"
   },
   "source": "# Pretest = pd.read_csv(f\"{PREPROCESSING_PATH}/pretest_merged_CIF/Pretest.csv\")\n# Pretest = Pretest.set_index(Pretest.columns[0])\nsub.index = \"pretest_\" + pd.Index(range(1, sub.shape[0] + 1)).astype(str)\nsub.index = sub.index.set_names('id')\nsub.columns = ['CO2_working_capacity [mL/g]']",
   "execution_count": null,
   "outputs": []
  },
  {
   "cell_type": "code",
   "metadata": {
    "tags": [],
    "cell_id": "00025-c09ea7b6-5421-4662-84c2-fbb7b65bac0c",
    "deepnote_to_be_reexecuted": true,
    "source_hash": "d977bc2a",
    "execution_start": 1632563040114,
    "execution_millis": 47,
    "deepnote_cell_type": "code"
   },
   "source": "sub",
   "execution_count": null,
   "outputs": [
    {
     "output_type": "execute_result",
     "execution_count": 59,
     "data": {
      "application/vnd.deepnote.dataframe.v2+json": {
       "row_count": 2000,
       "column_count": 1,
       "columns": [
        {
         "name": "CO2_working_capacity [mL/g]",
         "dtype": "float64",
         "stats": {
          "unique_count": 2000,
          "nan_count": 0,
          "min": "-14.387091101719397",
          "max": "523.3583416923165",
          "histogram": [
           {
            "bin_start": -14.387091101719397,
            "bin_end": 39.38745217768419,
            "count": 491
           },
           {
            "bin_start": 39.38745217768419,
            "bin_end": 93.16199545708778,
            "count": 601
           },
           {
            "bin_start": 93.16199545708778,
            "bin_end": 146.93653873649137,
            "count": 421
           },
           {
            "bin_start": 146.93653873649137,
            "bin_end": 200.71108201589496,
            "count": 218
           },
           {
            "bin_start": 200.71108201589496,
            "bin_end": 254.48562529529855,
            "count": 140
           },
           {
            "bin_start": 254.48562529529855,
            "bin_end": 308.2601685747021,
            "count": 69
           },
           {
            "bin_start": 308.2601685747021,
            "bin_end": 362.0347118541057,
            "count": 29
           },
           {
            "bin_start": 362.0347118541057,
            "bin_end": 415.8092551335093,
            "count": 13
           },
           {
            "bin_start": 415.8092551335093,
            "bin_end": 469.58379841291287,
            "count": 13
           },
           {
            "bin_start": 469.58379841291287,
            "bin_end": 523.3583416923165,
            "count": 5
           }
          ]
         }
        },
        {
         "name": "_deepnote_index_column",
         "dtype": "object"
        }
       ],
       "rows_top": [
        {
         "CO2_working_capacity [mL/g]": 105.44155315146213,
         "_deepnote_index_column": "pretest_1"
        },
        {
         "CO2_working_capacity [mL/g]": 124.96937143623514,
         "_deepnote_index_column": "pretest_2"
        },
        {
         "CO2_working_capacity [mL/g]": 191.48578223769053,
         "_deepnote_index_column": "pretest_3"
        },
        {
         "CO2_working_capacity [mL/g]": 64.29913494363024,
         "_deepnote_index_column": "pretest_4"
        },
        {
         "CO2_working_capacity [mL/g]": 103.33828060869017,
         "_deepnote_index_column": "pretest_5"
        },
        {
         "CO2_working_capacity [mL/g]": 369.013369147996,
         "_deepnote_index_column": "pretest_6"
        },
        {
         "CO2_working_capacity [mL/g]": 103.9973237527172,
         "_deepnote_index_column": "pretest_7"
        },
        {
         "CO2_working_capacity [mL/g]": 83.03688396466089,
         "_deepnote_index_column": "pretest_8"
        },
        {
         "CO2_working_capacity [mL/g]": 84.5264067745624,
         "_deepnote_index_column": "pretest_9"
        },
        {
         "CO2_working_capacity [mL/g]": 511.9492146000337,
         "_deepnote_index_column": "pretest_10"
        },
        {
         "CO2_working_capacity [mL/g]": 210.41369776386682,
         "_deepnote_index_column": "pretest_11"
        },
        {
         "CO2_working_capacity [mL/g]": 207.92081490328576,
         "_deepnote_index_column": "pretest_12"
        },
        {
         "CO2_working_capacity [mL/g]": 88.93036032331254,
         "_deepnote_index_column": "pretest_13"
        },
        {
         "CO2_working_capacity [mL/g]": 253.93124290444314,
         "_deepnote_index_column": "pretest_14"
        },
        {
         "CO2_working_capacity [mL/g]": 247.88391810491012,
         "_deepnote_index_column": "pretest_15"
        },
        {
         "CO2_working_capacity [mL/g]": 75.329485771747,
         "_deepnote_index_column": "pretest_16"
        },
        {
         "CO2_working_capacity [mL/g]": 60.40025165801807,
         "_deepnote_index_column": "pretest_17"
        },
        {
         "CO2_working_capacity [mL/g]": 62.92643461330348,
         "_deepnote_index_column": "pretest_18"
        },
        {
         "CO2_working_capacity [mL/g]": 70.96828021882287,
         "_deepnote_index_column": "pretest_19"
        },
        {
         "CO2_working_capacity [mL/g]": 155.63999956647146,
         "_deepnote_index_column": "pretest_20"
        },
        {
         "CO2_working_capacity [mL/g]": 51.73332013946757,
         "_deepnote_index_column": "pretest_21"
        },
        {
         "CO2_working_capacity [mL/g]": 192.04956609606367,
         "_deepnote_index_column": "pretest_22"
        },
        {
         "CO2_working_capacity [mL/g]": 155.1675959094807,
         "_deepnote_index_column": "pretest_23"
        },
        {
         "CO2_working_capacity [mL/g]": 126.09652391080017,
         "_deepnote_index_column": "pretest_24"
        },
        {
         "CO2_working_capacity [mL/g]": 169.75427482593324,
         "_deepnote_index_column": "pretest_25"
        },
        {
         "CO2_working_capacity [mL/g]": 206.08151523680272,
         "_deepnote_index_column": "pretest_26"
        },
        {
         "CO2_working_capacity [mL/g]": 78.67059604280418,
         "_deepnote_index_column": "pretest_27"
        },
        {
         "CO2_working_capacity [mL/g]": 105.18597183301699,
         "_deepnote_index_column": "pretest_28"
        },
        {
         "CO2_working_capacity [mL/g]": 62.57034352011178,
         "_deepnote_index_column": "pretest_29"
        },
        {
         "CO2_working_capacity [mL/g]": 140.5158661359157,
         "_deepnote_index_column": "pretest_30"
        },
        {
         "CO2_working_capacity [mL/g]": 165.46101096451733,
         "_deepnote_index_column": "pretest_31"
        },
        {
         "CO2_working_capacity [mL/g]": 67.2654978422266,
         "_deepnote_index_column": "pretest_32"
        },
        {
         "CO2_working_capacity [mL/g]": 109.92841222769384,
         "_deepnote_index_column": "pretest_33"
        },
        {
         "CO2_working_capacity [mL/g]": 69.34204568077446,
         "_deepnote_index_column": "pretest_34"
        },
        {
         "CO2_working_capacity [mL/g]": 113.67694842177293,
         "_deepnote_index_column": "pretest_35"
        },
        {
         "CO2_working_capacity [mL/g]": 90.51419065055882,
         "_deepnote_index_column": "pretest_36"
        },
        {
         "CO2_working_capacity [mL/g]": 79.90848967121242,
         "_deepnote_index_column": "pretest_37"
        },
        {
         "CO2_working_capacity [mL/g]": 67.25336780810461,
         "_deepnote_index_column": "pretest_38"
        },
        {
         "CO2_working_capacity [mL/g]": 109.36666727365014,
         "_deepnote_index_column": "pretest_39"
        },
        {
         "CO2_working_capacity [mL/g]": 123.95061760296632,
         "_deepnote_index_column": "pretest_40"
        },
        {
         "CO2_working_capacity [mL/g]": 91.77754697752158,
         "_deepnote_index_column": "pretest_41"
        },
        {
         "CO2_working_capacity [mL/g]": 266.3987180328634,
         "_deepnote_index_column": "pretest_42"
        },
        {
         "CO2_working_capacity [mL/g]": 79.7639653346621,
         "_deepnote_index_column": "pretest_43"
        },
        {
         "CO2_working_capacity [mL/g]": 198.57898365368365,
         "_deepnote_index_column": "pretest_44"
        },
        {
         "CO2_working_capacity [mL/g]": 156.39644406970672,
         "_deepnote_index_column": "pretest_45"
        },
        {
         "CO2_working_capacity [mL/g]": 137.80077798618723,
         "_deepnote_index_column": "pretest_46"
        },
        {
         "CO2_working_capacity [mL/g]": 81.55388530943041,
         "_deepnote_index_column": "pretest_47"
        },
        {
         "CO2_working_capacity [mL/g]": 146.4365630573759,
         "_deepnote_index_column": "pretest_48"
        },
        {
         "CO2_working_capacity [mL/g]": 170.8298986908022,
         "_deepnote_index_column": "pretest_49"
        },
        {
         "CO2_working_capacity [mL/g]": 53.05352599136915,
         "_deepnote_index_column": "pretest_50"
        },
        {
         "CO2_working_capacity [mL/g]": 126.59303929542445,
         "_deepnote_index_column": "pretest_51"
        },
        {
         "CO2_working_capacity [mL/g]": 88.8845738909361,
         "_deepnote_index_column": "pretest_52"
        },
        {
         "CO2_working_capacity [mL/g]": 82.75489208319489,
         "_deepnote_index_column": "pretest_53"
        },
        {
         "CO2_working_capacity [mL/g]": 154.92113324352766,
         "_deepnote_index_column": "pretest_54"
        },
        {
         "CO2_working_capacity [mL/g]": 109.9184473297929,
         "_deepnote_index_column": "pretest_55"
        },
        {
         "CO2_working_capacity [mL/g]": 65.0763977049153,
         "_deepnote_index_column": "pretest_56"
        },
        {
         "CO2_working_capacity [mL/g]": 71.71801387381055,
         "_deepnote_index_column": "pretest_57"
        },
        {
         "CO2_working_capacity [mL/g]": 102.72080542361238,
         "_deepnote_index_column": "pretest_58"
        },
        {
         "CO2_working_capacity [mL/g]": 195.06423049625445,
         "_deepnote_index_column": "pretest_59"
        },
        {
         "CO2_working_capacity [mL/g]": 91.21225705474312,
         "_deepnote_index_column": "pretest_60"
        },
        {
         "CO2_working_capacity [mL/g]": 295.65577267195266,
         "_deepnote_index_column": "pretest_61"
        },
        {
         "CO2_working_capacity [mL/g]": 85.37330529447833,
         "_deepnote_index_column": "pretest_62"
        },
        {
         "CO2_working_capacity [mL/g]": 78.37430356225343,
         "_deepnote_index_column": "pretest_63"
        },
        {
         "CO2_working_capacity [mL/g]": 149.6717618194664,
         "_deepnote_index_column": "pretest_64"
        },
        {
         "CO2_working_capacity [mL/g]": 80.4462223004379,
         "_deepnote_index_column": "pretest_65"
        },
        {
         "CO2_working_capacity [mL/g]": 150.43850200064028,
         "_deepnote_index_column": "pretest_66"
        },
        {
         "CO2_working_capacity [mL/g]": 133.28985812987696,
         "_deepnote_index_column": "pretest_67"
        },
        {
         "CO2_working_capacity [mL/g]": 151.84629593861246,
         "_deepnote_index_column": "pretest_68"
        },
        {
         "CO2_working_capacity [mL/g]": 206.75522654609452,
         "_deepnote_index_column": "pretest_69"
        },
        {
         "CO2_working_capacity [mL/g]": 75.77326467693369,
         "_deepnote_index_column": "pretest_70"
        },
        {
         "CO2_working_capacity [mL/g]": 307.4389228308666,
         "_deepnote_index_column": "pretest_71"
        },
        {
         "CO2_working_capacity [mL/g]": 200.23418538100327,
         "_deepnote_index_column": "pretest_72"
        },
        {
         "CO2_working_capacity [mL/g]": 64.57592783520299,
         "_deepnote_index_column": "pretest_73"
        },
        {
         "CO2_working_capacity [mL/g]": 198.74226579097467,
         "_deepnote_index_column": "pretest_74"
        },
        {
         "CO2_working_capacity [mL/g]": 249.68448110471718,
         "_deepnote_index_column": "pretest_75"
        },
        {
         "CO2_working_capacity [mL/g]": 164.54052828502947,
         "_deepnote_index_column": "pretest_76"
        },
        {
         "CO2_working_capacity [mL/g]": 192.1234414141156,
         "_deepnote_index_column": "pretest_77"
        },
        {
         "CO2_working_capacity [mL/g]": 119.8480596538778,
         "_deepnote_index_column": "pretest_78"
        },
        {
         "CO2_working_capacity [mL/g]": 81.97451063418418,
         "_deepnote_index_column": "pretest_79"
        },
        {
         "CO2_working_capacity [mL/g]": 115.16899349526238,
         "_deepnote_index_column": "pretest_80"
        },
        {
         "CO2_working_capacity [mL/g]": 113.50168702616487,
         "_deepnote_index_column": "pretest_81"
        },
        {
         "CO2_working_capacity [mL/g]": 168.9247842766198,
         "_deepnote_index_column": "pretest_82"
        },
        {
         "CO2_working_capacity [mL/g]": 87.71208259762993,
         "_deepnote_index_column": "pretest_83"
        },
        {
         "CO2_working_capacity [mL/g]": 254.06382162905894,
         "_deepnote_index_column": "pretest_84"
        },
        {
         "CO2_working_capacity [mL/g]": 74.93976315888393,
         "_deepnote_index_column": "pretest_85"
        },
        {
         "CO2_working_capacity [mL/g]": 68.86372794139236,
         "_deepnote_index_column": "pretest_86"
        },
        {
         "CO2_working_capacity [mL/g]": 111.7794015398013,
         "_deepnote_index_column": "pretest_87"
        },
        {
         "CO2_working_capacity [mL/g]": 132.844809128167,
         "_deepnote_index_column": "pretest_88"
        },
        {
         "CO2_working_capacity [mL/g]": 93.41936989880321,
         "_deepnote_index_column": "pretest_89"
        },
        {
         "CO2_working_capacity [mL/g]": 202.4528741270764,
         "_deepnote_index_column": "pretest_90"
        },
        {
         "CO2_working_capacity [mL/g]": 94.08898534082054,
         "_deepnote_index_column": "pretest_91"
        },
        {
         "CO2_working_capacity [mL/g]": 192.72128750335742,
         "_deepnote_index_column": "pretest_92"
        },
        {
         "CO2_working_capacity [mL/g]": 122.82719309694762,
         "_deepnote_index_column": "pretest_93"
        },
        {
         "CO2_working_capacity [mL/g]": 193.87691809221846,
         "_deepnote_index_column": "pretest_94"
        },
        {
         "CO2_working_capacity [mL/g]": 79.19282896426068,
         "_deepnote_index_column": "pretest_95"
        },
        {
         "CO2_working_capacity [mL/g]": 179.32277286717567,
         "_deepnote_index_column": "pretest_96"
        },
        {
         "CO2_working_capacity [mL/g]": 66.36566040446338,
         "_deepnote_index_column": "pretest_97"
        },
        {
         "CO2_working_capacity [mL/g]": 84.10071647414995,
         "_deepnote_index_column": "pretest_98"
        },
        {
         "CO2_working_capacity [mL/g]": 186.09362347540514,
         "_deepnote_index_column": "pretest_99"
        },
        {
         "CO2_working_capacity [mL/g]": 71.97487604337404,
         "_deepnote_index_column": "pretest_100"
        },
        {
         "CO2_working_capacity [mL/g]": 75.28526826145928,
         "_deepnote_index_column": "pretest_101"
        },
        {
         "CO2_working_capacity [mL/g]": 100.03897847571848,
         "_deepnote_index_column": "pretest_102"
        },
        {
         "CO2_working_capacity [mL/g]": 92.67808351379126,
         "_deepnote_index_column": "pretest_103"
        },
        {
         "CO2_working_capacity [mL/g]": 117.5813796501922,
         "_deepnote_index_column": "pretest_104"
        },
        {
         "CO2_working_capacity [mL/g]": 77.25023928072643,
         "_deepnote_index_column": "pretest_105"
        },
        {
         "CO2_working_capacity [mL/g]": 92.7090841150424,
         "_deepnote_index_column": "pretest_106"
        },
        {
         "CO2_working_capacity [mL/g]": 94.02828628560987,
         "_deepnote_index_column": "pretest_107"
        },
        {
         "CO2_working_capacity [mL/g]": 230.26935415480315,
         "_deepnote_index_column": "pretest_108"
        },
        {
         "CO2_working_capacity [mL/g]": 73.78393815068854,
         "_deepnote_index_column": "pretest_109"
        },
        {
         "CO2_working_capacity [mL/g]": 92.85999743744584,
         "_deepnote_index_column": "pretest_110"
        },
        {
         "CO2_working_capacity [mL/g]": 88.183457949991,
         "_deepnote_index_column": "pretest_111"
        },
        {
         "CO2_working_capacity [mL/g]": 159.10639591312338,
         "_deepnote_index_column": "pretest_112"
        },
        {
         "CO2_working_capacity [mL/g]": 230.02096816228118,
         "_deepnote_index_column": "pretest_113"
        },
        {
         "CO2_working_capacity [mL/g]": 77.21816373084499,
         "_deepnote_index_column": "pretest_114"
        },
        {
         "CO2_working_capacity [mL/g]": 96.8302902024966,
         "_deepnote_index_column": "pretest_115"
        },
        {
         "CO2_working_capacity [mL/g]": 63.95178299765238,
         "_deepnote_index_column": "pretest_116"
        },
        {
         "CO2_working_capacity [mL/g]": 130.9686754023429,
         "_deepnote_index_column": "pretest_117"
        },
        {
         "CO2_working_capacity [mL/g]": 113.34844670957379,
         "_deepnote_index_column": "pretest_118"
        },
        {
         "CO2_working_capacity [mL/g]": 264.10378464631583,
         "_deepnote_index_column": "pretest_119"
        },
        {
         "CO2_working_capacity [mL/g]": 102.67716432844702,
         "_deepnote_index_column": "pretest_120"
        },
        {
         "CO2_working_capacity [mL/g]": 68.66131787227589,
         "_deepnote_index_column": "pretest_121"
        },
        {
         "CO2_working_capacity [mL/g]": 127.2367781782937,
         "_deepnote_index_column": "pretest_122"
        },
        {
         "CO2_working_capacity [mL/g]": 110.08797604602323,
         "_deepnote_index_column": "pretest_123"
        },
        {
         "CO2_working_capacity [mL/g]": 104.88668237623817,
         "_deepnote_index_column": "pretest_124"
        },
        {
         "CO2_working_capacity [mL/g]": 188.73034351457537,
         "_deepnote_index_column": "pretest_125"
        },
        {
         "CO2_working_capacity [mL/g]": 49.03889108404445,
         "_deepnote_index_column": "pretest_126"
        },
        {
         "CO2_working_capacity [mL/g]": 129.2083741564012,
         "_deepnote_index_column": "pretest_127"
        },
        {
         "CO2_working_capacity [mL/g]": 162.6588173161709,
         "_deepnote_index_column": "pretest_128"
        },
        {
         "CO2_working_capacity [mL/g]": 74.82699493342069,
         "_deepnote_index_column": "pretest_129"
        },
        {
         "CO2_working_capacity [mL/g]": 146.84887994756994,
         "_deepnote_index_column": "pretest_130"
        },
        {
         "CO2_working_capacity [mL/g]": 181.15781853719432,
         "_deepnote_index_column": "pretest_131"
        },
        {
         "CO2_working_capacity [mL/g]": 62.04107206750431,
         "_deepnote_index_column": "pretest_132"
        },
        {
         "CO2_working_capacity [mL/g]": 286.1294737137758,
         "_deepnote_index_column": "pretest_133"
        },
        {
         "CO2_working_capacity [mL/g]": 78.88553532548626,
         "_deepnote_index_column": "pretest_134"
        },
        {
         "CO2_working_capacity [mL/g]": 226.45674324092928,
         "_deepnote_index_column": "pretest_135"
        },
        {
         "CO2_working_capacity [mL/g]": 238.76794244335693,
         "_deepnote_index_column": "pretest_136"
        },
        {
         "CO2_working_capacity [mL/g]": 219.22191696864272,
         "_deepnote_index_column": "pretest_137"
        },
        {
         "CO2_working_capacity [mL/g]": 132.41476188422303,
         "_deepnote_index_column": "pretest_138"
        },
        {
         "CO2_working_capacity [mL/g]": 87.81044579653364,
         "_deepnote_index_column": "pretest_139"
        },
        {
         "CO2_working_capacity [mL/g]": 67.03357878230344,
         "_deepnote_index_column": "pretest_140"
        },
        {
         "CO2_working_capacity [mL/g]": 112.62836324035463,
         "_deepnote_index_column": "pretest_141"
        },
        {
         "CO2_working_capacity [mL/g]": 64.68299376377558,
         "_deepnote_index_column": "pretest_142"
        },
        {
         "CO2_working_capacity [mL/g]": 80.62427672640085,
         "_deepnote_index_column": "pretest_143"
        },
        {
         "CO2_working_capacity [mL/g]": 78.50674225210297,
         "_deepnote_index_column": "pretest_144"
        },
        {
         "CO2_working_capacity [mL/g]": 61.02381282934601,
         "_deepnote_index_column": "pretest_145"
        },
        {
         "CO2_working_capacity [mL/g]": 91.21261177010307,
         "_deepnote_index_column": "pretest_146"
        },
        {
         "CO2_working_capacity [mL/g]": 91.56506126106906,
         "_deepnote_index_column": "pretest_147"
        },
        {
         "CO2_working_capacity [mL/g]": 198.78856947137228,
         "_deepnote_index_column": "pretest_148"
        },
        {
         "CO2_working_capacity [mL/g]": 137.56742415173764,
         "_deepnote_index_column": "pretest_149"
        },
        {
         "CO2_working_capacity [mL/g]": 131.86102387962234,
         "_deepnote_index_column": "pretest_150"
        },
        {
         "CO2_working_capacity [mL/g]": 80.77093128133531,
         "_deepnote_index_column": "pretest_151"
        },
        {
         "CO2_working_capacity [mL/g]": 146.22404829209847,
         "_deepnote_index_column": "pretest_152"
        },
        {
         "CO2_working_capacity [mL/g]": 93.04288202432673,
         "_deepnote_index_column": "pretest_153"
        },
        {
         "CO2_working_capacity [mL/g]": 73.61937645953152,
         "_deepnote_index_column": "pretest_154"
        },
        {
         "CO2_working_capacity [mL/g]": 474.4108768179561,
         "_deepnote_index_column": "pretest_155"
        },
        {
         "CO2_working_capacity [mL/g]": 248.38702978962465,
         "_deepnote_index_column": "pretest_156"
        },
        {
         "CO2_working_capacity [mL/g]": 67.28093202388044,
         "_deepnote_index_column": "pretest_157"
        },
        {
         "CO2_working_capacity [mL/g]": 151.1391227641461,
         "_deepnote_index_column": "pretest_158"
        },
        {
         "CO2_working_capacity [mL/g]": 108.99540063612858,
         "_deepnote_index_column": "pretest_159"
        },
        {
         "CO2_working_capacity [mL/g]": 198.51314662271966,
         "_deepnote_index_column": "pretest_160"
        },
        {
         "CO2_working_capacity [mL/g]": 148.95125443063768,
         "_deepnote_index_column": "pretest_161"
        },
        {
         "CO2_working_capacity [mL/g]": 107.50746864689278,
         "_deepnote_index_column": "pretest_162"
        },
        {
         "CO2_working_capacity [mL/g]": 96.54769139883159,
         "_deepnote_index_column": "pretest_163"
        },
        {
         "CO2_working_capacity [mL/g]": 105.25410870674898,
         "_deepnote_index_column": "pretest_164"
        },
        {
         "CO2_working_capacity [mL/g]": 115.72837987015386,
         "_deepnote_index_column": "pretest_165"
        },
        {
         "CO2_working_capacity [mL/g]": 257.3521839207491,
         "_deepnote_index_column": "pretest_166"
        },
        {
         "CO2_working_capacity [mL/g]": 342.84581783389575,
         "_deepnote_index_column": "pretest_167"
        },
        {
         "CO2_working_capacity [mL/g]": 236.46964626985104,
         "_deepnote_index_column": "pretest_168"
        },
        {
         "CO2_working_capacity [mL/g]": 79.01927261250181,
         "_deepnote_index_column": "pretest_169"
        },
        {
         "CO2_working_capacity [mL/g]": 269.4362240295671,
         "_deepnote_index_column": "pretest_170"
        },
        {
         "CO2_working_capacity [mL/g]": 194.0525560686278,
         "_deepnote_index_column": "pretest_171"
        },
        {
         "CO2_working_capacity [mL/g]": 108.35287156288705,
         "_deepnote_index_column": "pretest_172"
        },
        {
         "CO2_working_capacity [mL/g]": 84.4459153438364,
         "_deepnote_index_column": "pretest_173"
        },
        {
         "CO2_working_capacity [mL/g]": 130.66532493038525,
         "_deepnote_index_column": "pretest_174"
        },
        {
         "CO2_working_capacity [mL/g]": 194.16397220439913,
         "_deepnote_index_column": "pretest_175"
        },
        {
         "CO2_working_capacity [mL/g]": 121.56431174008644,
         "_deepnote_index_column": "pretest_176"
        },
        {
         "CO2_working_capacity [mL/g]": 86.39795618504769,
         "_deepnote_index_column": "pretest_177"
        },
        {
         "CO2_working_capacity [mL/g]": 59.04858322861508,
         "_deepnote_index_column": "pretest_178"
        },
        {
         "CO2_working_capacity [mL/g]": 133.0691634550248,
         "_deepnote_index_column": "pretest_179"
        },
        {
         "CO2_working_capacity [mL/g]": 82.71603948902667,
         "_deepnote_index_column": "pretest_180"
        },
        {
         "CO2_working_capacity [mL/g]": 76.04392066578622,
         "_deepnote_index_column": "pretest_181"
        },
        {
         "CO2_working_capacity [mL/g]": 60.35635861803588,
         "_deepnote_index_column": "pretest_182"
        },
        {
         "CO2_working_capacity [mL/g]": 100.62027877807128,
         "_deepnote_index_column": "pretest_183"
        },
        {
         "CO2_working_capacity [mL/g]": 147.41713724701515,
         "_deepnote_index_column": "pretest_184"
        },
        {
         "CO2_working_capacity [mL/g]": 91.72631555199115,
         "_deepnote_index_column": "pretest_185"
        },
        {
         "CO2_working_capacity [mL/g]": 82.52081963391099,
         "_deepnote_index_column": "pretest_186"
        },
        {
         "CO2_working_capacity [mL/g]": 88.2909714276634,
         "_deepnote_index_column": "pretest_187"
        },
        {
         "CO2_working_capacity [mL/g]": 67.21658261369626,
         "_deepnote_index_column": "pretest_188"
        },
        {
         "CO2_working_capacity [mL/g]": 110.85566152064753,
         "_deepnote_index_column": "pretest_189"
        },
        {
         "CO2_working_capacity [mL/g]": 114.2707819573124,
         "_deepnote_index_column": "pretest_190"
        },
        {
         "CO2_working_capacity [mL/g]": 85.26775833385197,
         "_deepnote_index_column": "pretest_191"
        },
        {
         "CO2_working_capacity [mL/g]": 73.11854693346224,
         "_deepnote_index_column": "pretest_192"
        },
        {
         "CO2_working_capacity [mL/g]": 81.90479680442327,
         "_deepnote_index_column": "pretest_193"
        },
        {
         "CO2_working_capacity [mL/g]": 123.79675469987747,
         "_deepnote_index_column": "pretest_194"
        },
        {
         "CO2_working_capacity [mL/g]": 122.42033416285396,
         "_deepnote_index_column": "pretest_195"
        },
        {
         "CO2_working_capacity [mL/g]": 70.19007028881919,
         "_deepnote_index_column": "pretest_196"
        },
        {
         "CO2_working_capacity [mL/g]": 218.07357090715436,
         "_deepnote_index_column": "pretest_197"
        },
        {
         "CO2_working_capacity [mL/g]": 50.20776451843968,
         "_deepnote_index_column": "pretest_198"
        },
        {
         "CO2_working_capacity [mL/g]": 60.21055992140356,
         "_deepnote_index_column": "pretest_199"
        },
        {
         "CO2_working_capacity [mL/g]": 104.89675017201354,
         "_deepnote_index_column": "pretest_200"
        },
        {
         "CO2_working_capacity [mL/g]": 127.19895744825824,
         "_deepnote_index_column": "pretest_201"
        },
        {
         "CO2_working_capacity [mL/g]": 141.20521242786643,
         "_deepnote_index_column": "pretest_202"
        },
        {
         "CO2_working_capacity [mL/g]": 36.3209000457479,
         "_deepnote_index_column": "pretest_203"
        },
        {
         "CO2_working_capacity [mL/g]": 68.58100025216835,
         "_deepnote_index_column": "pretest_204"
        },
        {
         "CO2_working_capacity [mL/g]": 116.99104006736536,
         "_deepnote_index_column": "pretest_205"
        },
        {
         "CO2_working_capacity [mL/g]": 100.09231795218273,
         "_deepnote_index_column": "pretest_206"
        },
        {
         "CO2_working_capacity [mL/g]": 60.723199045837056,
         "_deepnote_index_column": "pretest_207"
        },
        {
         "CO2_working_capacity [mL/g]": 186.74912646121297,
         "_deepnote_index_column": "pretest_208"
        },
        {
         "CO2_working_capacity [mL/g]": 73.86805941178842,
         "_deepnote_index_column": "pretest_209"
        },
        {
         "CO2_working_capacity [mL/g]": 184.89783431443462,
         "_deepnote_index_column": "pretest_210"
        },
        {
         "CO2_working_capacity [mL/g]": 65.67979114630491,
         "_deepnote_index_column": "pretest_211"
        },
        {
         "CO2_working_capacity [mL/g]": 135.49657915416546,
         "_deepnote_index_column": "pretest_212"
        },
        {
         "CO2_working_capacity [mL/g]": 186.49212451336186,
         "_deepnote_index_column": "pretest_213"
        },
        {
         "CO2_working_capacity [mL/g]": 137.69084420976927,
         "_deepnote_index_column": "pretest_214"
        },
        {
         "CO2_working_capacity [mL/g]": 91.13627109148094,
         "_deepnote_index_column": "pretest_215"
        },
        {
         "CO2_working_capacity [mL/g]": 112.34146471873045,
         "_deepnote_index_column": "pretest_216"
        },
        {
         "CO2_working_capacity [mL/g]": 89.98165315397961,
         "_deepnote_index_column": "pretest_217"
        },
        {
         "CO2_working_capacity [mL/g]": 99.75050191078049,
         "_deepnote_index_column": "pretest_218"
        },
        {
         "CO2_working_capacity [mL/g]": 151.13834243378707,
         "_deepnote_index_column": "pretest_219"
        },
        {
         "CO2_working_capacity [mL/g]": 66.85829198770286,
         "_deepnote_index_column": "pretest_220"
        },
        {
         "CO2_working_capacity [mL/g]": 92.28253272981199,
         "_deepnote_index_column": "pretest_221"
        },
        {
         "CO2_working_capacity [mL/g]": 212.03161609490954,
         "_deepnote_index_column": "pretest_222"
        },
        {
         "CO2_working_capacity [mL/g]": 103.06964866795079,
         "_deepnote_index_column": "pretest_223"
        },
        {
         "CO2_working_capacity [mL/g]": 99.47434202825563,
         "_deepnote_index_column": "pretest_224"
        },
        {
         "CO2_working_capacity [mL/g]": 75.68689600043338,
         "_deepnote_index_column": "pretest_225"
        },
        {
         "CO2_working_capacity [mL/g]": 133.0228994784093,
         "_deepnote_index_column": "pretest_226"
        },
        {
         "CO2_working_capacity [mL/g]": 101.25766649753912,
         "_deepnote_index_column": "pretest_227"
        },
        {
         "CO2_working_capacity [mL/g]": 74.4122619828923,
         "_deepnote_index_column": "pretest_228"
        },
        {
         "CO2_working_capacity [mL/g]": 287.8920503513703,
         "_deepnote_index_column": "pretest_229"
        },
        {
         "CO2_working_capacity [mL/g]": 166.5201050232791,
         "_deepnote_index_column": "pretest_230"
        },
        {
         "CO2_working_capacity [mL/g]": 70.95029857947388,
         "_deepnote_index_column": "pretest_231"
        },
        {
         "CO2_working_capacity [mL/g]": 107.07674373934468,
         "_deepnote_index_column": "pretest_232"
        },
        {
         "CO2_working_capacity [mL/g]": 73.05965927059624,
         "_deepnote_index_column": "pretest_233"
        },
        {
         "CO2_working_capacity [mL/g]": 76.25102692799612,
         "_deepnote_index_column": "pretest_234"
        },
        {
         "CO2_working_capacity [mL/g]": 115.20091893119832,
         "_deepnote_index_column": "pretest_235"
        },
        {
         "CO2_working_capacity [mL/g]": 207.5855387238698,
         "_deepnote_index_column": "pretest_236"
        },
        {
         "CO2_working_capacity [mL/g]": 104.08505710037933,
         "_deepnote_index_column": "pretest_237"
        },
        {
         "CO2_working_capacity [mL/g]": 70.839686242929,
         "_deepnote_index_column": "pretest_238"
        },
        {
         "CO2_working_capacity [mL/g]": 157.85818687707334,
         "_deepnote_index_column": "pretest_239"
        },
        {
         "CO2_working_capacity [mL/g]": 123.65570652733224,
         "_deepnote_index_column": "pretest_240"
        },
        {
         "CO2_working_capacity [mL/g]": 94.76587388835598,
         "_deepnote_index_column": "pretest_241"
        },
        {
         "CO2_working_capacity [mL/g]": 187.8081423603766,
         "_deepnote_index_column": "pretest_242"
        },
        {
         "CO2_working_capacity [mL/g]": 196.54731997829887,
         "_deepnote_index_column": "pretest_243"
        },
        {
         "CO2_working_capacity [mL/g]": 85.8921220337598,
         "_deepnote_index_column": "pretest_244"
        },
        {
         "CO2_working_capacity [mL/g]": 104.76173361436823,
         "_deepnote_index_column": "pretest_245"
        },
        {
         "CO2_working_capacity [mL/g]": 60.69969827722357,
         "_deepnote_index_column": "pretest_246"
        },
        {
         "CO2_working_capacity [mL/g]": 85.92558281902393,
         "_deepnote_index_column": "pretest_247"
        },
        {
         "CO2_working_capacity [mL/g]": 72.21028602282274,
         "_deepnote_index_column": "pretest_248"
        },
        {
         "CO2_working_capacity [mL/g]": 169.8253625620915,
         "_deepnote_index_column": "pretest_249"
        },
        {
         "CO2_working_capacity [mL/g]": 131.88134019211807,
         "_deepnote_index_column": "pretest_250"
        },
        {
         "CO2_working_capacity [mL/g]": 134.68920390471422,
         "_deepnote_index_column": "pretest_251"
        },
        {
         "CO2_working_capacity [mL/g]": 297.1402018530917,
         "_deepnote_index_column": "pretest_252"
        },
        {
         "CO2_working_capacity [mL/g]": 285.0659059760124,
         "_deepnote_index_column": "pretest_253"
        },
        {
         "CO2_working_capacity [mL/g]": 198.20834403382983,
         "_deepnote_index_column": "pretest_254"
        },
        {
         "CO2_working_capacity [mL/g]": 283.00988453503703,
         "_deepnote_index_column": "pretest_255"
        },
        {
         "CO2_working_capacity [mL/g]": 258.02522748696424,
         "_deepnote_index_column": "pretest_256"
        },
        {
         "CO2_working_capacity [mL/g]": 166.95384850337837,
         "_deepnote_index_column": "pretest_257"
        },
        {
         "CO2_working_capacity [mL/g]": 150.65430676155157,
         "_deepnote_index_column": "pretest_258"
        },
        {
         "CO2_working_capacity [mL/g]": 416.5853957578842,
         "_deepnote_index_column": "pretest_259"
        },
        {
         "CO2_working_capacity [mL/g]": 193.45347567415118,
         "_deepnote_index_column": "pretest_260"
        },
        {
         "CO2_working_capacity [mL/g]": 73.38439174165914,
         "_deepnote_index_column": "pretest_261"
        },
        {
         "CO2_working_capacity [mL/g]": 76.36954552178065,
         "_deepnote_index_column": "pretest_262"
        },
        {
         "CO2_working_capacity [mL/g]": 174.6956680606376,
         "_deepnote_index_column": "pretest_263"
        },
        {
         "CO2_working_capacity [mL/g]": 114.08910052860968,
         "_deepnote_index_column": "pretest_264"
        },
        {
         "CO2_working_capacity [mL/g]": 178.17998121916898,
         "_deepnote_index_column": "pretest_265"
        },
        {
         "CO2_working_capacity [mL/g]": 102.95956794599327,
         "_deepnote_index_column": "pretest_266"
        },
        {
         "CO2_working_capacity [mL/g]": 253.80395288058693,
         "_deepnote_index_column": "pretest_267"
        },
        {
         "CO2_working_capacity [mL/g]": 76.00137415046275,
         "_deepnote_index_column": "pretest_268"
        },
        {
         "CO2_working_capacity [mL/g]": 62.106199483049295,
         "_deepnote_index_column": "pretest_269"
        },
        {
         "CO2_working_capacity [mL/g]": 131.0997974093228,
         "_deepnote_index_column": "pretest_270"
        },
        {
         "CO2_working_capacity [mL/g]": 107.99718620770125,
         "_deepnote_index_column": "pretest_271"
        },
        {
         "CO2_working_capacity [mL/g]": 108.08344207636428,
         "_deepnote_index_column": "pretest_272"
        },
        {
         "CO2_working_capacity [mL/g]": 104.07263497759625,
         "_deepnote_index_column": "pretest_273"
        },
        {
         "CO2_working_capacity [mL/g]": 62.02381076805158,
         "_deepnote_index_column": "pretest_274"
        },
        {
         "CO2_working_capacity [mL/g]": 81.41787617624423,
         "_deepnote_index_column": "pretest_275"
        },
        {
         "CO2_working_capacity [mL/g]": 135.09865699099237,
         "_deepnote_index_column": "pretest_276"
        },
        {
         "CO2_working_capacity [mL/g]": 78.68549336219472,
         "_deepnote_index_column": "pretest_277"
        },
        {
         "CO2_working_capacity [mL/g]": 149.99611524606186,
         "_deepnote_index_column": "pretest_278"
        },
        {
         "CO2_working_capacity [mL/g]": 243.33901274746643,
         "_deepnote_index_column": "pretest_279"
        },
        {
         "CO2_working_capacity [mL/g]": 92.12689351004705,
         "_deepnote_index_column": "pretest_280"
        },
        {
         "CO2_working_capacity [mL/g]": 440.5509025674414,
         "_deepnote_index_column": "pretest_281"
        },
        {
         "CO2_working_capacity [mL/g]": 137.83260387687162,
         "_deepnote_index_column": "pretest_282"
        },
        {
         "CO2_working_capacity [mL/g]": 184.20404554204706,
         "_deepnote_index_column": "pretest_283"
        },
        {
         "CO2_working_capacity [mL/g]": 110.9107698616949,
         "_deepnote_index_column": "pretest_284"
        },
        {
         "CO2_working_capacity [mL/g]": 94.70772180481258,
         "_deepnote_index_column": "pretest_285"
        },
        {
         "CO2_working_capacity [mL/g]": 74.40077220537889,
         "_deepnote_index_column": "pretest_286"
        },
        {
         "CO2_working_capacity [mL/g]": 140.55574041014071,
         "_deepnote_index_column": "pretest_287"
        },
        {
         "CO2_working_capacity [mL/g]": 49.39889066821402,
         "_deepnote_index_column": "pretest_288"
        },
        {
         "CO2_working_capacity [mL/g]": 132.37893431463584,
         "_deepnote_index_column": "pretest_289"
        },
        {
         "CO2_working_capacity [mL/g]": 194.29390062798572,
         "_deepnote_index_column": "pretest_290"
        },
        {
         "CO2_working_capacity [mL/g]": 182.47090608139965,
         "_deepnote_index_column": "pretest_291"
        },
        {
         "CO2_working_capacity [mL/g]": 183.3849463455064,
         "_deepnote_index_column": "pretest_292"
        },
        {
         "CO2_working_capacity [mL/g]": 90.50366621765164,
         "_deepnote_index_column": "pretest_293"
        },
        {
         "CO2_working_capacity [mL/g]": 265.9783107911092,
         "_deepnote_index_column": "pretest_294"
        },
        {
         "CO2_working_capacity [mL/g]": 63.15194927150511,
         "_deepnote_index_column": "pretest_295"
        },
        {
         "CO2_working_capacity [mL/g]": 340.29906717630854,
         "_deepnote_index_column": "pretest_296"
        },
        {
         "CO2_working_capacity [mL/g]": 67.32579530638907,
         "_deepnote_index_column": "pretest_297"
        },
        {
         "CO2_working_capacity [mL/g]": 160.93166956212943,
         "_deepnote_index_column": "pretest_298"
        },
        {
         "CO2_working_capacity [mL/g]": 212.33019300567233,
         "_deepnote_index_column": "pretest_299"
        },
        {
         "CO2_working_capacity [mL/g]": 54.52137074461786,
         "_deepnote_index_column": "pretest_300"
        },
        {
         "CO2_working_capacity [mL/g]": 184.14166931582818,
         "_deepnote_index_column": "pretest_301"
        },
        {
         "CO2_working_capacity [mL/g]": 111.13824503125034,
         "_deepnote_index_column": "pretest_302"
        },
        {
         "CO2_working_capacity [mL/g]": 73.06178612948845,
         "_deepnote_index_column": "pretest_303"
        },
        {
         "CO2_working_capacity [mL/g]": 324.49617375373657,
         "_deepnote_index_column": "pretest_304"
        },
        {
         "CO2_working_capacity [mL/g]": 119.59717516655,
         "_deepnote_index_column": "pretest_305"
        },
        {
         "CO2_working_capacity [mL/g]": 228.33907459710488,
         "_deepnote_index_column": "pretest_306"
        },
        {
         "CO2_working_capacity [mL/g]": 51.795528069526505,
         "_deepnote_index_column": "pretest_307"
        },
        {
         "CO2_working_capacity [mL/g]": 118.77295521462152,
         "_deepnote_index_column": "pretest_308"
        },
        {
         "CO2_working_capacity [mL/g]": 175.22339751186823,
         "_deepnote_index_column": "pretest_309"
        },
        {
         "CO2_working_capacity [mL/g]": 114.52599260283812,
         "_deepnote_index_column": "pretest_310"
        },
        {
         "CO2_working_capacity [mL/g]": 108.43754063547213,
         "_deepnote_index_column": "pretest_311"
        },
        {
         "CO2_working_capacity [mL/g]": 60.33435110026715,
         "_deepnote_index_column": "pretest_312"
        },
        {
         "CO2_working_capacity [mL/g]": 107.82774344602937,
         "_deepnote_index_column": "pretest_313"
        },
        {
         "CO2_working_capacity [mL/g]": 73.85587480858644,
         "_deepnote_index_column": "pretest_314"
        },
        {
         "CO2_working_capacity [mL/g]": 195.78450803253358,
         "_deepnote_index_column": "pretest_315"
        },
        {
         "CO2_working_capacity [mL/g]": 127.56661205324328,
         "_deepnote_index_column": "pretest_316"
        },
        {
         "CO2_working_capacity [mL/g]": 97.76116605486366,
         "_deepnote_index_column": "pretest_317"
        },
        {
         "CO2_working_capacity [mL/g]": 88.19782940038631,
         "_deepnote_index_column": "pretest_318"
        },
        {
         "CO2_working_capacity [mL/g]": 86.52809911875225,
         "_deepnote_index_column": "pretest_319"
        },
        {
         "CO2_working_capacity [mL/g]": 162.33014599734022,
         "_deepnote_index_column": "pretest_320"
        },
        {
         "CO2_working_capacity [mL/g]": 133.26299602110808,
         "_deepnote_index_column": "pretest_321"
        },
        {
         "CO2_working_capacity [mL/g]": 103.46099456693544,
         "_deepnote_index_column": "pretest_322"
        },
        {
         "CO2_working_capacity [mL/g]": 143.2372700511951,
         "_deepnote_index_column": "pretest_323"
        },
        {
         "CO2_working_capacity [mL/g]": 78.18079581710198,
         "_deepnote_index_column": "pretest_324"
        },
        {
         "CO2_working_capacity [mL/g]": 124.82648254395616,
         "_deepnote_index_column": "pretest_325"
        },
        {
         "CO2_working_capacity [mL/g]": 156.17032976799797,
         "_deepnote_index_column": "pretest_326"
        },
        {
         "CO2_working_capacity [mL/g]": 125.80193928896774,
         "_deepnote_index_column": "pretest_327"
        },
        {
         "CO2_working_capacity [mL/g]": 57.65823033915108,
         "_deepnote_index_column": "pretest_328"
        },
        {
         "CO2_working_capacity [mL/g]": 77.55585033413284,
         "_deepnote_index_column": "pretest_329"
        },
        {
         "CO2_working_capacity [mL/g]": 63.12089688835971,
         "_deepnote_index_column": "pretest_330"
        },
        {
         "CO2_working_capacity [mL/g]": 197.76561247648908,
         "_deepnote_index_column": "pretest_331"
        },
        {
         "CO2_working_capacity [mL/g]": 110.65183821009352,
         "_deepnote_index_column": "pretest_332"
        },
        {
         "CO2_working_capacity [mL/g]": 115.87469247122084,
         "_deepnote_index_column": "pretest_333"
        },
        {
         "CO2_working_capacity [mL/g]": 78.29210120133288,
         "_deepnote_index_column": "pretest_334"
        },
        {
         "CO2_working_capacity [mL/g]": 89.71566998996536,
         "_deepnote_index_column": "pretest_335"
        },
        {
         "CO2_working_capacity [mL/g]": 130.94039429030687,
         "_deepnote_index_column": "pretest_336"
        },
        {
         "CO2_working_capacity [mL/g]": 103.94541044913358,
         "_deepnote_index_column": "pretest_337"
        },
        {
         "CO2_working_capacity [mL/g]": 226.31726524416513,
         "_deepnote_index_column": "pretest_338"
        },
        {
         "CO2_working_capacity [mL/g]": 433.5638812093968,
         "_deepnote_index_column": "pretest_339"
        },
        {
         "CO2_working_capacity [mL/g]": 188.10045847954135,
         "_deepnote_index_column": "pretest_340"
        },
        {
         "CO2_working_capacity [mL/g]": 68.46576970826283,
         "_deepnote_index_column": "pretest_341"
        },
        {
         "CO2_working_capacity [mL/g]": 79.34153421219149,
         "_deepnote_index_column": "pretest_342"
        },
        {
         "CO2_working_capacity [mL/g]": 124.19567178283573,
         "_deepnote_index_column": "pretest_343"
        },
        {
         "CO2_working_capacity [mL/g]": 173.74874878294762,
         "_deepnote_index_column": "pretest_344"
        },
        {
         "CO2_working_capacity [mL/g]": 429.06766567270597,
         "_deepnote_index_column": "pretest_345"
        },
        {
         "CO2_working_capacity [mL/g]": 156.9669832417502,
         "_deepnote_index_column": "pretest_346"
        },
        {
         "CO2_working_capacity [mL/g]": 218.854622434549,
         "_deepnote_index_column": "pretest_347"
        },
        {
         "CO2_working_capacity [mL/g]": 295.8685377287157,
         "_deepnote_index_column": "pretest_348"
        },
        {
         "CO2_working_capacity [mL/g]": 74.2278651653768,
         "_deepnote_index_column": "pretest_349"
        },
        {
         "CO2_working_capacity [mL/g]": 247.55077762843257,
         "_deepnote_index_column": "pretest_350"
        },
        {
         "CO2_working_capacity [mL/g]": 94.59091925871104,
         "_deepnote_index_column": "pretest_351"
        },
        {
         "CO2_working_capacity [mL/g]": 68.04746655706307,
         "_deepnote_index_column": "pretest_352"
        },
        {
         "CO2_working_capacity [mL/g]": 93.73857556781444,
         "_deepnote_index_column": "pretest_353"
        },
        {
         "CO2_working_capacity [mL/g]": 94.27582488197015,
         "_deepnote_index_column": "pretest_354"
        },
        {
         "CO2_working_capacity [mL/g]": 61.38412171997231,
         "_deepnote_index_column": "pretest_355"
        },
        {
         "CO2_working_capacity [mL/g]": 152.38554681411395,
         "_deepnote_index_column": "pretest_356"
        },
        {
         "CO2_working_capacity [mL/g]": 165.4824028301862,
         "_deepnote_index_column": "pretest_357"
        },
        {
         "CO2_working_capacity [mL/g]": 74.94320711862048,
         "_deepnote_index_column": "pretest_358"
        },
        {
         "CO2_working_capacity [mL/g]": 74.46894872765337,
         "_deepnote_index_column": "pretest_359"
        },
        {
         "CO2_working_capacity [mL/g]": 523.3583416923165,
         "_deepnote_index_column": "pretest_360"
        },
        {
         "CO2_working_capacity [mL/g]": 97.01230489684845,
         "_deepnote_index_column": "pretest_361"
        },
        {
         "CO2_working_capacity [mL/g]": 61.58925173259781,
         "_deepnote_index_column": "pretest_362"
        },
        {
         "CO2_working_capacity [mL/g]": 259.1746771799315,
         "_deepnote_index_column": "pretest_363"
        },
        {
         "CO2_working_capacity [mL/g]": 85.70849313425008,
         "_deepnote_index_column": "pretest_364"
        },
        {
         "CO2_working_capacity [mL/g]": 91.84269899640647,
         "_deepnote_index_column": "pretest_365"
        },
        {
         "CO2_working_capacity [mL/g]": 189.88291163509828,
         "_deepnote_index_column": "pretest_366"
        },
        {
         "CO2_working_capacity [mL/g]": 449.86131914188326,
         "_deepnote_index_column": "pretest_367"
        },
        {
         "CO2_working_capacity [mL/g]": 254.67848367450077,
         "_deepnote_index_column": "pretest_368"
        },
        {
         "CO2_working_capacity [mL/g]": 71.70177280763802,
         "_deepnote_index_column": "pretest_369"
        },
        {
         "CO2_working_capacity [mL/g]": 306.7037398794423,
         "_deepnote_index_column": "pretest_370"
        },
        {
         "CO2_working_capacity [mL/g]": 178.27112700172088,
         "_deepnote_index_column": "pretest_371"
        },
        {
         "CO2_working_capacity [mL/g]": 116.5462909772274,
         "_deepnote_index_column": "pretest_372"
        },
        {
         "CO2_working_capacity [mL/g]": 260.5062634140484,
         "_deepnote_index_column": "pretest_373"
        },
        {
         "CO2_working_capacity [mL/g]": 99.13636601944575,
         "_deepnote_index_column": "pretest_374"
        },
        {
         "CO2_working_capacity [mL/g]": 59.20848631666545,
         "_deepnote_index_column": "pretest_375"
        },
        {
         "CO2_working_capacity [mL/g]": 101.31980027275966,
         "_deepnote_index_column": "pretest_376"
        },
        {
         "CO2_working_capacity [mL/g]": 148.94638287201175,
         "_deepnote_index_column": "pretest_377"
        },
        {
         "CO2_working_capacity [mL/g]": 272.28170800064703,
         "_deepnote_index_column": "pretest_378"
        },
        {
         "CO2_working_capacity [mL/g]": 55.74959977009457,
         "_deepnote_index_column": "pretest_379"
        },
        {
         "CO2_working_capacity [mL/g]": 167.97838773440944,
         "_deepnote_index_column": "pretest_380"
        },
        {
         "CO2_working_capacity [mL/g]": 49.35948165611203,
         "_deepnote_index_column": "pretest_381"
        },
        {
         "CO2_working_capacity [mL/g]": 262.30589564674335,
         "_deepnote_index_column": "pretest_382"
        },
        {
         "CO2_working_capacity [mL/g]": 354.66887439667084,
         "_deepnote_index_column": "pretest_383"
        },
        {
         "CO2_working_capacity [mL/g]": 94.1753008450073,
         "_deepnote_index_column": "pretest_384"
        },
        {
         "CO2_working_capacity [mL/g]": 82.3873661214065,
         "_deepnote_index_column": "pretest_385"
        },
        {
         "CO2_working_capacity [mL/g]": 68.60144425152036,
         "_deepnote_index_column": "pretest_386"
        },
        {
         "CO2_working_capacity [mL/g]": 186.557737307563,
         "_deepnote_index_column": "pretest_387"
        },
        {
         "CO2_working_capacity [mL/g]": 181.92381821096123,
         "_deepnote_index_column": "pretest_388"
        },
        {
         "CO2_working_capacity [mL/g]": 190.0433838076568,
         "_deepnote_index_column": "pretest_389"
        },
        {
         "CO2_working_capacity [mL/g]": 107.690780930651,
         "_deepnote_index_column": "pretest_390"
        },
        {
         "CO2_working_capacity [mL/g]": 71.9247967617974,
         "_deepnote_index_column": "pretest_391"
        },
        {
         "CO2_working_capacity [mL/g]": 86.67960724464375,
         "_deepnote_index_column": "pretest_392"
        },
        {
         "CO2_working_capacity [mL/g]": 218.12096152701795,
         "_deepnote_index_column": "pretest_393"
        },
        {
         "CO2_working_capacity [mL/g]": 227.00490464728753,
         "_deepnote_index_column": "pretest_394"
        },
        {
         "CO2_working_capacity [mL/g]": 255.9412201921432,
         "_deepnote_index_column": "pretest_395"
        },
        {
         "CO2_working_capacity [mL/g]": 100.29098878204421,
         "_deepnote_index_column": "pretest_396"
        },
        {
         "CO2_working_capacity [mL/g]": 108.31694729802042,
         "_deepnote_index_column": "pretest_397"
        },
        {
         "CO2_working_capacity [mL/g]": 218.83591989771193,
         "_deepnote_index_column": "pretest_398"
        },
        {
         "CO2_working_capacity [mL/g]": 97.08672878708312,
         "_deepnote_index_column": "pretest_399"
        },
        {
         "CO2_working_capacity [mL/g]": 141.30708498199488,
         "_deepnote_index_column": "pretest_400"
        },
        {
         "CO2_working_capacity [mL/g]": 107.8250177951043,
         "_deepnote_index_column": "pretest_401"
        },
        {
         "CO2_working_capacity [mL/g]": 72.10723281993454,
         "_deepnote_index_column": "pretest_402"
        },
        {
         "CO2_working_capacity [mL/g]": 79.77823293961832,
         "_deepnote_index_column": "pretest_403"
        },
        {
         "CO2_working_capacity [mL/g]": 83.13895105659907,
         "_deepnote_index_column": "pretest_404"
        },
        {
         "CO2_working_capacity [mL/g]": 201.86108728959036,
         "_deepnote_index_column": "pretest_405"
        },
        {
         "CO2_working_capacity [mL/g]": 75.22581540347397,
         "_deepnote_index_column": "pretest_406"
        },
        {
         "CO2_working_capacity [mL/g]": 126.56367836330321,
         "_deepnote_index_column": "pretest_407"
        },
        {
         "CO2_working_capacity [mL/g]": 108.82157785059735,
         "_deepnote_index_column": "pretest_408"
        },
        {
         "CO2_working_capacity [mL/g]": 56.441624799359545,
         "_deepnote_index_column": "pretest_409"
        },
        {
         "CO2_working_capacity [mL/g]": 100.74564033546663,
         "_deepnote_index_column": "pretest_410"
        },
        {
         "CO2_working_capacity [mL/g]": 317.200877218477,
         "_deepnote_index_column": "pretest_411"
        },
        {
         "CO2_working_capacity [mL/g]": 90.38113721009363,
         "_deepnote_index_column": "pretest_412"
        },
        {
         "CO2_working_capacity [mL/g]": 125.52085516108262,
         "_deepnote_index_column": "pretest_413"
        },
        {
         "CO2_working_capacity [mL/g]": 157.11679953874483,
         "_deepnote_index_column": "pretest_414"
        },
        {
         "CO2_working_capacity [mL/g]": 140.14641771613898,
         "_deepnote_index_column": "pretest_415"
        },
        {
         "CO2_working_capacity [mL/g]": 83.53417306246182,
         "_deepnote_index_column": "pretest_416"
        },
        {
         "CO2_working_capacity [mL/g]": 96.96736040279183,
         "_deepnote_index_column": "pretest_417"
        },
        {
         "CO2_working_capacity [mL/g]": 251.90161429765203,
         "_deepnote_index_column": "pretest_418"
        },
        {
         "CO2_working_capacity [mL/g]": 211.60993246866556,
         "_deepnote_index_column": "pretest_419"
        },
        {
         "CO2_working_capacity [mL/g]": 91.203173598243,
         "_deepnote_index_column": "pretest_420"
        },
        {
         "CO2_working_capacity [mL/g]": 67.26921951979664,
         "_deepnote_index_column": "pretest_421"
        },
        {
         "CO2_working_capacity [mL/g]": 101.17780156471053,
         "_deepnote_index_column": "pretest_422"
        },
        {
         "CO2_working_capacity [mL/g]": 79.34975535750335,
         "_deepnote_index_column": "pretest_423"
        },
        {
         "CO2_working_capacity [mL/g]": 245.6440102693247,
         "_deepnote_index_column": "pretest_424"
        },
        {
         "CO2_working_capacity [mL/g]": 310.41643631729477,
         "_deepnote_index_column": "pretest_425"
        },
        {
         "CO2_working_capacity [mL/g]": 76.82953536803363,
         "_deepnote_index_column": "pretest_426"
        },
        {
         "CO2_working_capacity [mL/g]": 107.57488295461985,
         "_deepnote_index_column": "pretest_427"
        },
        {
         "CO2_working_capacity [mL/g]": 158.4896608435951,
         "_deepnote_index_column": "pretest_428"
        },
        {
         "CO2_working_capacity [mL/g]": 159.40693743889534,
         "_deepnote_index_column": "pretest_429"
        },
        {
         "CO2_working_capacity [mL/g]": 220.621288853897,
         "_deepnote_index_column": "pretest_430"
        },
        {
         "CO2_working_capacity [mL/g]": 241.56124781367654,
         "_deepnote_index_column": "pretest_431"
        },
        {
         "CO2_working_capacity [mL/g]": 158.55971790069685,
         "_deepnote_index_column": "pretest_432"
        },
        {
         "CO2_working_capacity [mL/g]": 212.1242655554826,
         "_deepnote_index_column": "pretest_433"
        },
        {
         "CO2_working_capacity [mL/g]": 334.3360914435806,
         "_deepnote_index_column": "pretest_434"
        },
        {
         "CO2_working_capacity [mL/g]": 77.79132120716206,
         "_deepnote_index_column": "pretest_435"
        },
        {
         "CO2_working_capacity [mL/g]": 69.14871774971463,
         "_deepnote_index_column": "pretest_436"
        },
        {
         "CO2_working_capacity [mL/g]": 102.95548975723828,
         "_deepnote_index_column": "pretest_437"
        },
        {
         "CO2_working_capacity [mL/g]": 56.675485467361135,
         "_deepnote_index_column": "pretest_438"
        },
        {
         "CO2_working_capacity [mL/g]": 187.02300584283185,
         "_deepnote_index_column": "pretest_439"
        },
        {
         "CO2_working_capacity [mL/g]": 91.54044881587895,
         "_deepnote_index_column": "pretest_440"
        },
        {
         "CO2_working_capacity [mL/g]": 104.24134261988122,
         "_deepnote_index_column": "pretest_441"
        },
        {
         "CO2_working_capacity [mL/g]": 119.4175786588861,
         "_deepnote_index_column": "pretest_442"
        },
        {
         "CO2_working_capacity [mL/g]": 242.98653409600618,
         "_deepnote_index_column": "pretest_443"
        },
        {
         "CO2_working_capacity [mL/g]": 55.21653614650162,
         "_deepnote_index_column": "pretest_444"
        },
        {
         "CO2_working_capacity [mL/g]": 60.876462579505834,
         "_deepnote_index_column": "pretest_445"
        },
        {
         "CO2_working_capacity [mL/g]": 58.97503953343598,
         "_deepnote_index_column": "pretest_446"
        },
        {
         "CO2_working_capacity [mL/g]": 94.86691813920754,
         "_deepnote_index_column": "pretest_447"
        },
        {
         "CO2_working_capacity [mL/g]": 260.6435047360867,
         "_deepnote_index_column": "pretest_448"
        },
        {
         "CO2_working_capacity [mL/g]": 93.62685880282362,
         "_deepnote_index_column": "pretest_449"
        },
        {
         "CO2_working_capacity [mL/g]": 65.48066130464254,
         "_deepnote_index_column": "pretest_450"
        },
        {
         "CO2_working_capacity [mL/g]": 381.98927647882357,
         "_deepnote_index_column": "pretest_451"
        },
        {
         "CO2_working_capacity [mL/g]": 66.6477932649062,
         "_deepnote_index_column": "pretest_452"
        },
        {
         "CO2_working_capacity [mL/g]": 77.62467134990578,
         "_deepnote_index_column": "pretest_453"
        },
        {
         "CO2_working_capacity [mL/g]": 78.18640126577459,
         "_deepnote_index_column": "pretest_454"
        },
        {
         "CO2_working_capacity [mL/g]": 132.5483488324909,
         "_deepnote_index_column": "pretest_455"
        },
        {
         "CO2_working_capacity [mL/g]": 57.45981810763515,
         "_deepnote_index_column": "pretest_456"
        },
        {
         "CO2_working_capacity [mL/g]": 100.1591629064377,
         "_deepnote_index_column": "pretest_457"
        },
        {
         "CO2_working_capacity [mL/g]": 285.8859589909597,
         "_deepnote_index_column": "pretest_458"
        },
        {
         "CO2_working_capacity [mL/g]": 91.56273252887233,
         "_deepnote_index_column": "pretest_459"
        },
        {
         "CO2_working_capacity [mL/g]": 131.64485557186603,
         "_deepnote_index_column": "pretest_460"
        },
        {
         "CO2_working_capacity [mL/g]": 80.4121144143186,
         "_deepnote_index_column": "pretest_461"
        },
        {
         "CO2_working_capacity [mL/g]": 318.3724613262886,
         "_deepnote_index_column": "pretest_462"
        },
        {
         "CO2_working_capacity [mL/g]": 238.78525596355374,
         "_deepnote_index_column": "pretest_463"
        },
        {
         "CO2_working_capacity [mL/g]": 98.53074285501248,
         "_deepnote_index_column": "pretest_464"
        },
        {
         "CO2_working_capacity [mL/g]": 466.3356452558658,
         "_deepnote_index_column": "pretest_465"
        },
        {
         "CO2_working_capacity [mL/g]": 80.2753362611112,
         "_deepnote_index_column": "pretest_466"
        },
        {
         "CO2_working_capacity [mL/g]": 113.49743460367257,
         "_deepnote_index_column": "pretest_467"
        },
        {
         "CO2_working_capacity [mL/g]": 212.06721472334723,
         "_deepnote_index_column": "pretest_468"
        },
        {
         "CO2_working_capacity [mL/g]": 248.6108870959907,
         "_deepnote_index_column": "pretest_469"
        },
        {
         "CO2_working_capacity [mL/g]": 126.3951221709587,
         "_deepnote_index_column": "pretest_470"
        },
        {
         "CO2_working_capacity [mL/g]": 233.9419696575513,
         "_deepnote_index_column": "pretest_471"
        },
        {
         "CO2_working_capacity [mL/g]": 214.40528989446102,
         "_deepnote_index_column": "pretest_472"
        },
        {
         "CO2_working_capacity [mL/g]": 118.16726663687412,
         "_deepnote_index_column": "pretest_473"
        },
        {
         "CO2_working_capacity [mL/g]": 273.91036627434875,
         "_deepnote_index_column": "pretest_474"
        },
        {
         "CO2_working_capacity [mL/g]": 421.01658738624036,
         "_deepnote_index_column": "pretest_475"
        },
        {
         "CO2_working_capacity [mL/g]": 200.86771152330334,
         "_deepnote_index_column": "pretest_476"
        },
        {
         "CO2_working_capacity [mL/g]": 80.14973070509792,
         "_deepnote_index_column": "pretest_477"
        },
        {
         "CO2_working_capacity [mL/g]": 37.991387802548054,
         "_deepnote_index_column": "pretest_478"
        },
        {
         "CO2_working_capacity [mL/g]": 104.67531822324145,
         "_deepnote_index_column": "pretest_479"
        },
        {
         "CO2_working_capacity [mL/g]": 242.80127071992786,
         "_deepnote_index_column": "pretest_480"
        },
        {
         "CO2_working_capacity [mL/g]": 125.83869302156137,
         "_deepnote_index_column": "pretest_481"
        },
        {
         "CO2_working_capacity [mL/g]": 177.3229355489998,
         "_deepnote_index_column": "pretest_482"
        },
        {
         "CO2_working_capacity [mL/g]": 119.31429227612587,
         "_deepnote_index_column": "pretest_483"
        },
        {
         "CO2_working_capacity [mL/g]": 79.49491369972527,
         "_deepnote_index_column": "pretest_484"
        },
        {
         "CO2_working_capacity [mL/g]": 102.47366079399269,
         "_deepnote_index_column": "pretest_485"
        },
        {
         "CO2_working_capacity [mL/g]": 109.63960057807476,
         "_deepnote_index_column": "pretest_486"
        },
        {
         "CO2_working_capacity [mL/g]": 117.96254832352558,
         "_deepnote_index_column": "pretest_487"
        },
        {
         "CO2_working_capacity [mL/g]": 103.51022534444071,
         "_deepnote_index_column": "pretest_488"
        },
        {
         "CO2_working_capacity [mL/g]": 91.24004764687832,
         "_deepnote_index_column": "pretest_489"
        },
        {
         "CO2_working_capacity [mL/g]": 131.2253446119893,
         "_deepnote_index_column": "pretest_490"
        },
        {
         "CO2_working_capacity [mL/g]": 76.770057473162,
         "_deepnote_index_column": "pretest_491"
        },
        {
         "CO2_working_capacity [mL/g]": 57.99286090171586,
         "_deepnote_index_column": "pretest_492"
        },
        {
         "CO2_working_capacity [mL/g]": 81.31892074176837,
         "_deepnote_index_column": "pretest_493"
        },
        {
         "CO2_working_capacity [mL/g]": 130.08072374375863,
         "_deepnote_index_column": "pretest_494"
        },
        {
         "CO2_working_capacity [mL/g]": 110.90259809967402,
         "_deepnote_index_column": "pretest_495"
        },
        {
         "CO2_working_capacity [mL/g]": 94.7118004058403,
         "_deepnote_index_column": "pretest_496"
        },
        {
         "CO2_working_capacity [mL/g]": 74.78347313222243,
         "_deepnote_index_column": "pretest_497"
        },
        {
         "CO2_working_capacity [mL/g]": 107.04705634052779,
         "_deepnote_index_column": "pretest_498"
        },
        {
         "CO2_working_capacity [mL/g]": 297.65199330346326,
         "_deepnote_index_column": "pretest_499"
        },
        {
         "CO2_working_capacity [mL/g]": 269.7964382302296,
         "_deepnote_index_column": "pretest_500"
        }
       ],
       "rows_bottom": [
        {
         "CO2_working_capacity [mL/g]": -1.3345200390450789,
         "_deepnote_index_column": "pretest_1501"
        },
        {
         "CO2_working_capacity [mL/g]": -1.791518402358695,
         "_deepnote_index_column": "pretest_1502"
        },
        {
         "CO2_working_capacity [mL/g]": -6.44686935295717,
         "_deepnote_index_column": "pretest_1503"
        },
        {
         "CO2_working_capacity [mL/g]": 4.111460936098382,
         "_deepnote_index_column": "pretest_1504"
        },
        {
         "CO2_working_capacity [mL/g]": -5.5896703055840815,
         "_deepnote_index_column": "pretest_1505"
        },
        {
         "CO2_working_capacity [mL/g]": 0.41238493481757627,
         "_deepnote_index_column": "pretest_1506"
        },
        {
         "CO2_working_capacity [mL/g]": -5.924184089415173,
         "_deepnote_index_column": "pretest_1507"
        },
        {
         "CO2_working_capacity [mL/g]": -8.357765467757261,
         "_deepnote_index_column": "pretest_1508"
        },
        {
         "CO2_working_capacity [mL/g]": -4.556125070054222,
         "_deepnote_index_column": "pretest_1509"
        },
        {
         "CO2_working_capacity [mL/g]": -2.8690543799464145,
         "_deepnote_index_column": "pretest_1510"
        },
        {
         "CO2_working_capacity [mL/g]": 5.2639926225226406,
         "_deepnote_index_column": "pretest_1511"
        },
        {
         "CO2_working_capacity [mL/g]": 4.690589941345429,
         "_deepnote_index_column": "pretest_1512"
        },
        {
         "CO2_working_capacity [mL/g]": 1.750364841168339,
         "_deepnote_index_column": "pretest_1513"
        },
        {
         "CO2_working_capacity [mL/g]": -7.035564964457289,
         "_deepnote_index_column": "pretest_1514"
        },
        {
         "CO2_working_capacity [mL/g]": 4.62417759854884,
         "_deepnote_index_column": "pretest_1515"
        },
        {
         "CO2_working_capacity [mL/g]": -2.829814870769205,
         "_deepnote_index_column": "pretest_1516"
        },
        {
         "CO2_working_capacity [mL/g]": -6.572652304857897,
         "_deepnote_index_column": "pretest_1517"
        },
        {
         "CO2_working_capacity [mL/g]": 33.08000252172301,
         "_deepnote_index_column": "pretest_1518"
        },
        {
         "CO2_working_capacity [mL/g]": -2.106315677208118,
         "_deepnote_index_column": "pretest_1519"
        },
        {
         "CO2_working_capacity [mL/g]": 0.571835198664445,
         "_deepnote_index_column": "pretest_1520"
        },
        {
         "CO2_working_capacity [mL/g]": 2.9372093034814903,
         "_deepnote_index_column": "pretest_1521"
        },
        {
         "CO2_working_capacity [mL/g]": -1.1702408014046242,
         "_deepnote_index_column": "pretest_1522"
        },
        {
         "CO2_working_capacity [mL/g]": -0.008135905578451267,
         "_deepnote_index_column": "pretest_1523"
        },
        {
         "CO2_working_capacity [mL/g]": -3.039198170606774,
         "_deepnote_index_column": "pretest_1524"
        },
        {
         "CO2_working_capacity [mL/g]": 1.1715745489768115,
         "_deepnote_index_column": "pretest_1525"
        },
        {
         "CO2_working_capacity [mL/g]": 7.915241065438376,
         "_deepnote_index_column": "pretest_1526"
        },
        {
         "CO2_working_capacity [mL/g]": 22.791127891459723,
         "_deepnote_index_column": "pretest_1527"
        },
        {
         "CO2_working_capacity [mL/g]": -2.4721414506196098,
         "_deepnote_index_column": "pretest_1528"
        },
        {
         "CO2_working_capacity [mL/g]": 16.62800272158457,
         "_deepnote_index_column": "pretest_1529"
        },
        {
         "CO2_working_capacity [mL/g]": 21.839373742212967,
         "_deepnote_index_column": "pretest_1530"
        },
        {
         "CO2_working_capacity [mL/g]": 2.6906247858955674,
         "_deepnote_index_column": "pretest_1531"
        },
        {
         "CO2_working_capacity [mL/g]": -2.6705026228892614,
         "_deepnote_index_column": "pretest_1532"
        },
        {
         "CO2_working_capacity [mL/g]": -3.334561806836909,
         "_deepnote_index_column": "pretest_1533"
        },
        {
         "CO2_working_capacity [mL/g]": -2.997434011466462,
         "_deepnote_index_column": "pretest_1534"
        },
        {
         "CO2_working_capacity [mL/g]": -3.520392167118762,
         "_deepnote_index_column": "pretest_1535"
        },
        {
         "CO2_working_capacity [mL/g]": -8.515254982286256,
         "_deepnote_index_column": "pretest_1536"
        },
        {
         "CO2_working_capacity [mL/g]": 4.6998157424631115,
         "_deepnote_index_column": "pretest_1537"
        },
        {
         "CO2_working_capacity [mL/g]": -0.632265583266097,
         "_deepnote_index_column": "pretest_1538"
        },
        {
         "CO2_working_capacity [mL/g]": 0.5602177709197775,
         "_deepnote_index_column": "pretest_1539"
        },
        {
         "CO2_working_capacity [mL/g]": 4.94204191449987,
         "_deepnote_index_column": "pretest_1540"
        },
        {
         "CO2_working_capacity [mL/g]": 4.598160189685312,
         "_deepnote_index_column": "pretest_1541"
        },
        {
         "CO2_working_capacity [mL/g]": -3.2700645942718913,
         "_deepnote_index_column": "pretest_1542"
        },
        {
         "CO2_working_capacity [mL/g]": 7.065403910340447,
         "_deepnote_index_column": "pretest_1543"
        },
        {
         "CO2_working_capacity [mL/g]": -9.514202791719029,
         "_deepnote_index_column": "pretest_1544"
        },
        {
         "CO2_working_capacity [mL/g]": -6.426043002655267,
         "_deepnote_index_column": "pretest_1545"
        },
        {
         "CO2_working_capacity [mL/g]": 6.352063658542709,
         "_deepnote_index_column": "pretest_1546"
        },
        {
         "CO2_working_capacity [mL/g]": -0.881696099821229,
         "_deepnote_index_column": "pretest_1547"
        },
        {
         "CO2_working_capacity [mL/g]": 0.7883779503351249,
         "_deepnote_index_column": "pretest_1548"
        },
        {
         "CO2_working_capacity [mL/g]": -7.1122269313524145,
         "_deepnote_index_column": "pretest_1549"
        },
        {
         "CO2_working_capacity [mL/g]": -2.481957355621269,
         "_deepnote_index_column": "pretest_1550"
        },
        {
         "CO2_working_capacity [mL/g]": 1.3141553580832597,
         "_deepnote_index_column": "pretest_1551"
        },
        {
         "CO2_working_capacity [mL/g]": -2.6371836312978494,
         "_deepnote_index_column": "pretest_1552"
        },
        {
         "CO2_working_capacity [mL/g]": -12.982891845536443,
         "_deepnote_index_column": "pretest_1553"
        },
        {
         "CO2_working_capacity [mL/g]": -10.432288015325222,
         "_deepnote_index_column": "pretest_1554"
        },
        {
         "CO2_working_capacity [mL/g]": 6.147864259568642,
         "_deepnote_index_column": "pretest_1555"
        },
        {
         "CO2_working_capacity [mL/g]": -0.8429227552755094,
         "_deepnote_index_column": "pretest_1556"
        },
        {
         "CO2_working_capacity [mL/g]": 3.705778205851568,
         "_deepnote_index_column": "pretest_1557"
        },
        {
         "CO2_working_capacity [mL/g]": 4.760540339834513,
         "_deepnote_index_column": "pretest_1558"
        },
        {
         "CO2_working_capacity [mL/g]": 2.9951183537865567,
         "_deepnote_index_column": "pretest_1559"
        },
        {
         "CO2_working_capacity [mL/g]": 2.1395979160479115,
         "_deepnote_index_column": "pretest_1560"
        },
        {
         "CO2_working_capacity [mL/g]": -1.2296586893152224,
         "_deepnote_index_column": "pretest_1561"
        },
        {
         "CO2_working_capacity [mL/g]": 5.882943882043693,
         "_deepnote_index_column": "pretest_1562"
        },
        {
         "CO2_working_capacity [mL/g]": 0.5618173398887242,
         "_deepnote_index_column": "pretest_1563"
        },
        {
         "CO2_working_capacity [mL/g]": 23.23900835354067,
         "_deepnote_index_column": "pretest_1564"
        },
        {
         "CO2_working_capacity [mL/g]": -4.615196177229886,
         "_deepnote_index_column": "pretest_1565"
        },
        {
         "CO2_working_capacity [mL/g]": 0.9398136909295024,
         "_deepnote_index_column": "pretest_1566"
        },
        {
         "CO2_working_capacity [mL/g]": 76.4124459717962,
         "_deepnote_index_column": "pretest_1567"
        },
        {
         "CO2_working_capacity [mL/g]": -6.455449439713054,
         "_deepnote_index_column": "pretest_1568"
        },
        {
         "CO2_working_capacity [mL/g]": 68.7376440083512,
         "_deepnote_index_column": "pretest_1569"
        },
        {
         "CO2_working_capacity [mL/g]": 11.442066545669043,
         "_deepnote_index_column": "pretest_1570"
        },
        {
         "CO2_working_capacity [mL/g]": 4.365591105832358,
         "_deepnote_index_column": "pretest_1571"
        },
        {
         "CO2_working_capacity [mL/g]": 0.49833718126811516,
         "_deepnote_index_column": "pretest_1572"
        },
        {
         "CO2_working_capacity [mL/g]": 0.07830045623656663,
         "_deepnote_index_column": "pretest_1573"
        },
        {
         "CO2_working_capacity [mL/g]": -0.8554684437512492,
         "_deepnote_index_column": "pretest_1574"
        },
        {
         "CO2_working_capacity [mL/g]": -5.340252869928946,
         "_deepnote_index_column": "pretest_1575"
        },
        {
         "CO2_working_capacity [mL/g]": -3.6403734275921025,
         "_deepnote_index_column": "pretest_1576"
        },
        {
         "CO2_working_capacity [mL/g]": 4.764787722806126,
         "_deepnote_index_column": "pretest_1577"
        },
        {
         "CO2_working_capacity [mL/g]": 26.305625584472825,
         "_deepnote_index_column": "pretest_1578"
        },
        {
         "CO2_working_capacity [mL/g]": -1.3048563810023666,
         "_deepnote_index_column": "pretest_1579"
        },
        {
         "CO2_working_capacity [mL/g]": -3.888324235978608,
         "_deepnote_index_column": "pretest_1580"
        },
        {
         "CO2_working_capacity [mL/g]": -5.014878338604518,
         "_deepnote_index_column": "pretest_1581"
        },
        {
         "CO2_working_capacity [mL/g]": -5.545449694174432,
         "_deepnote_index_column": "pretest_1582"
        },
        {
         "CO2_working_capacity [mL/g]": -0.5866484242493447,
         "_deepnote_index_column": "pretest_1583"
        },
        {
         "CO2_working_capacity [mL/g]": 3.342619423322612,
         "_deepnote_index_column": "pretest_1584"
        },
        {
         "CO2_working_capacity [mL/g]": 8.179282390441736,
         "_deepnote_index_column": "pretest_1585"
        },
        {
         "CO2_working_capacity [mL/g]": -3.872592304459301,
         "_deepnote_index_column": "pretest_1586"
        },
        {
         "CO2_working_capacity [mL/g]": 0.8636572980259108,
         "_deepnote_index_column": "pretest_1587"
        },
        {
         "CO2_working_capacity [mL/g]": 1.8272956619886003,
         "_deepnote_index_column": "pretest_1588"
        },
        {
         "CO2_working_capacity [mL/g]": -5.850295332744878,
         "_deepnote_index_column": "pretest_1589"
        },
        {
         "CO2_working_capacity [mL/g]": -5.930597843432807,
         "_deepnote_index_column": "pretest_1590"
        },
        {
         "CO2_working_capacity [mL/g]": 21.33189890821188,
         "_deepnote_index_column": "pretest_1591"
        },
        {
         "CO2_working_capacity [mL/g]": -2.5845581986224624,
         "_deepnote_index_column": "pretest_1592"
        },
        {
         "CO2_working_capacity [mL/g]": 6.299748034190318,
         "_deepnote_index_column": "pretest_1593"
        },
        {
         "CO2_working_capacity [mL/g]": -3.1314739181124693,
         "_deepnote_index_column": "pretest_1594"
        },
        {
         "CO2_working_capacity [mL/g]": 2.2543931971584166,
         "_deepnote_index_column": "pretest_1595"
        },
        {
         "CO2_working_capacity [mL/g]": -2.7347030107334667,
         "_deepnote_index_column": "pretest_1596"
        },
        {
         "CO2_working_capacity [mL/g]": -2.7196382238445502,
         "_deepnote_index_column": "pretest_1597"
        },
        {
         "CO2_working_capacity [mL/g]": -4.4869315264069956,
         "_deepnote_index_column": "pretest_1598"
        },
        {
         "CO2_working_capacity [mL/g]": -2.897150486357861,
         "_deepnote_index_column": "pretest_1599"
        },
        {
         "CO2_working_capacity [mL/g]": -0.15964571129942348,
         "_deepnote_index_column": "pretest_1600"
        },
        {
         "CO2_working_capacity [mL/g]": -0.9239895173567874,
         "_deepnote_index_column": "pretest_1601"
        },
        {
         "CO2_working_capacity [mL/g]": -1.286756519019048,
         "_deepnote_index_column": "pretest_1602"
        },
        {
         "CO2_working_capacity [mL/g]": -1.0463577185517632,
         "_deepnote_index_column": "pretest_1603"
        },
        {
         "CO2_working_capacity [mL/g]": -9.860068482577176,
         "_deepnote_index_column": "pretest_1604"
        },
        {
         "CO2_working_capacity [mL/g]": -2.597046253605297,
         "_deepnote_index_column": "pretest_1605"
        },
        {
         "CO2_working_capacity [mL/g]": 13.499643565226584,
         "_deepnote_index_column": "pretest_1606"
        },
        {
         "CO2_working_capacity [mL/g]": -6.969567277545693,
         "_deepnote_index_column": "pretest_1607"
        },
        {
         "CO2_working_capacity [mL/g]": -5.073351250075274,
         "_deepnote_index_column": "pretest_1608"
        },
        {
         "CO2_working_capacity [mL/g]": 0.8776040300158314,
         "_deepnote_index_column": "pretest_1609"
        },
        {
         "CO2_working_capacity [mL/g]": -6.132745428778317,
         "_deepnote_index_column": "pretest_1610"
        },
        {
         "CO2_working_capacity [mL/g]": 5.243937145887732,
         "_deepnote_index_column": "pretest_1611"
        },
        {
         "CO2_working_capacity [mL/g]": -2.440668724317959,
         "_deepnote_index_column": "pretest_1612"
        },
        {
         "CO2_working_capacity [mL/g]": -2.231411577369265,
         "_deepnote_index_column": "pretest_1613"
        },
        {
         "CO2_working_capacity [mL/g]": -2.58437550462155,
         "_deepnote_index_column": "pretest_1614"
        },
        {
         "CO2_working_capacity [mL/g]": -10.45056338990293,
         "_deepnote_index_column": "pretest_1615"
        },
        {
         "CO2_working_capacity [mL/g]": -1.6968014115159018,
         "_deepnote_index_column": "pretest_1616"
        },
        {
         "CO2_working_capacity [mL/g]": -8.477767038651749,
         "_deepnote_index_column": "pretest_1617"
        },
        {
         "CO2_working_capacity [mL/g]": -6.38541283655186,
         "_deepnote_index_column": "pretest_1618"
        },
        {
         "CO2_working_capacity [mL/g]": -13.826736128947047,
         "_deepnote_index_column": "pretest_1619"
        },
        {
         "CO2_working_capacity [mL/g]": -1.3187138083542063,
         "_deepnote_index_column": "pretest_1620"
        },
        {
         "CO2_working_capacity [mL/g]": 1.4153811798054126,
         "_deepnote_index_column": "pretest_1621"
        },
        {
         "CO2_working_capacity [mL/g]": -5.301269215231116,
         "_deepnote_index_column": "pretest_1622"
        },
        {
         "CO2_working_capacity [mL/g]": -1.9728941045264818,
         "_deepnote_index_column": "pretest_1623"
        },
        {
         "CO2_working_capacity [mL/g]": 1.7944129685277683,
         "_deepnote_index_column": "pretest_1624"
        },
        {
         "CO2_working_capacity [mL/g]": 4.224977698379594,
         "_deepnote_index_column": "pretest_1625"
        },
        {
         "CO2_working_capacity [mL/g]": 6.177542110420497,
         "_deepnote_index_column": "pretest_1626"
        },
        {
         "CO2_working_capacity [mL/g]": -7.262186544466701,
         "_deepnote_index_column": "pretest_1627"
        },
        {
         "CO2_working_capacity [mL/g]": 0.07649931836038822,
         "_deepnote_index_column": "pretest_1628"
        },
        {
         "CO2_working_capacity [mL/g]": -7.481100822976785,
         "_deepnote_index_column": "pretest_1629"
        },
        {
         "CO2_working_capacity [mL/g]": -0.892519221318293,
         "_deepnote_index_column": "pretest_1630"
        },
        {
         "CO2_working_capacity [mL/g]": -7.33963911905163,
         "_deepnote_index_column": "pretest_1631"
        },
        {
         "CO2_working_capacity [mL/g]": 3.6427390803293087,
         "_deepnote_index_column": "pretest_1632"
        },
        {
         "CO2_working_capacity [mL/g]": 2.2465619467899436,
         "_deepnote_index_column": "pretest_1633"
        },
        {
         "CO2_working_capacity [mL/g]": 3.2148748565856855,
         "_deepnote_index_column": "pretest_1634"
        },
        {
         "CO2_working_capacity [mL/g]": 38.63856610139316,
         "_deepnote_index_column": "pretest_1635"
        },
        {
         "CO2_working_capacity [mL/g]": 6.798884561180607,
         "_deepnote_index_column": "pretest_1636"
        },
        {
         "CO2_working_capacity [mL/g]": -1.1213566937123052,
         "_deepnote_index_column": "pretest_1637"
        },
        {
         "CO2_working_capacity [mL/g]": -11.361510961145086,
         "_deepnote_index_column": "pretest_1638"
        },
        {
         "CO2_working_capacity [mL/g]": -2.5881167428602154,
         "_deepnote_index_column": "pretest_1639"
        },
        {
         "CO2_working_capacity [mL/g]": 7.1384669050690475,
         "_deepnote_index_column": "pretest_1640"
        },
        {
         "CO2_working_capacity [mL/g]": 0.6523413091582361,
         "_deepnote_index_column": "pretest_1641"
        },
        {
         "CO2_working_capacity [mL/g]": 46.773662680902696,
         "_deepnote_index_column": "pretest_1642"
        },
        {
         "CO2_working_capacity [mL/g]": 3.3884795424028105,
         "_deepnote_index_column": "pretest_1643"
        },
        {
         "CO2_working_capacity [mL/g]": 1.1985494810832193,
         "_deepnote_index_column": "pretest_1644"
        },
        {
         "CO2_working_capacity [mL/g]": -0.11885024485180413,
         "_deepnote_index_column": "pretest_1645"
        },
        {
         "CO2_working_capacity [mL/g]": 5.705153813227237,
         "_deepnote_index_column": "pretest_1646"
        },
        {
         "CO2_working_capacity [mL/g]": -0.9656235226189361,
         "_deepnote_index_column": "pretest_1647"
        },
        {
         "CO2_working_capacity [mL/g]": -3.4780940350875746,
         "_deepnote_index_column": "pretest_1648"
        },
        {
         "CO2_working_capacity [mL/g]": -14.387091101719397,
         "_deepnote_index_column": "pretest_1649"
        },
        {
         "CO2_working_capacity [mL/g]": -5.844124048768421,
         "_deepnote_index_column": "pretest_1650"
        },
        {
         "CO2_working_capacity [mL/g]": 9.693987285928435,
         "_deepnote_index_column": "pretest_1651"
        },
        {
         "CO2_working_capacity [mL/g]": -5.301829755051116,
         "_deepnote_index_column": "pretest_1652"
        },
        {
         "CO2_working_capacity [mL/g]": 1.5054116879507002,
         "_deepnote_index_column": "pretest_1653"
        },
        {
         "CO2_working_capacity [mL/g]": 22.911254603044352,
         "_deepnote_index_column": "pretest_1654"
        },
        {
         "CO2_working_capacity [mL/g]": 0.05170187819513217,
         "_deepnote_index_column": "pretest_1655"
        },
        {
         "CO2_working_capacity [mL/g]": -0.5609886406163417,
         "_deepnote_index_column": "pretest_1656"
        },
        {
         "CO2_working_capacity [mL/g]": -1.0181122262344549,
         "_deepnote_index_column": "pretest_1657"
        },
        {
         "CO2_working_capacity [mL/g]": 4.412626610152469,
         "_deepnote_index_column": "pretest_1658"
        },
        {
         "CO2_working_capacity [mL/g]": 5.70872013990077,
         "_deepnote_index_column": "pretest_1659"
        },
        {
         "CO2_working_capacity [mL/g]": -5.831521105854819,
         "_deepnote_index_column": "pretest_1660"
        },
        {
         "CO2_working_capacity [mL/g]": -0.13086274300433823,
         "_deepnote_index_column": "pretest_1661"
        },
        {
         "CO2_working_capacity [mL/g]": -4.37983495318706,
         "_deepnote_index_column": "pretest_1662"
        },
        {
         "CO2_working_capacity [mL/g]": -9.517143579275356,
         "_deepnote_index_column": "pretest_1663"
        },
        {
         "CO2_working_capacity [mL/g]": -1.2674817496157758,
         "_deepnote_index_column": "pretest_1664"
        },
        {
         "CO2_working_capacity [mL/g]": 4.087858959312617,
         "_deepnote_index_column": "pretest_1665"
        },
        {
         "CO2_working_capacity [mL/g]": -6.831002601515164,
         "_deepnote_index_column": "pretest_1666"
        },
        {
         "CO2_working_capacity [mL/g]": -0.5806151310334968,
         "_deepnote_index_column": "pretest_1667"
        },
        {
         "CO2_working_capacity [mL/g]": -5.52207875275342,
         "_deepnote_index_column": "pretest_1668"
        },
        {
         "CO2_working_capacity [mL/g]": 2.1783765674751883,
         "_deepnote_index_column": "pretest_1669"
        },
        {
         "CO2_working_capacity [mL/g]": -6.397901120540638,
         "_deepnote_index_column": "pretest_1670"
        },
        {
         "CO2_working_capacity [mL/g]": -4.176364989405056,
         "_deepnote_index_column": "pretest_1671"
        },
        {
         "CO2_working_capacity [mL/g]": -0.1395344165698044,
         "_deepnote_index_column": "pretest_1672"
        },
        {
         "CO2_working_capacity [mL/g]": 0.22079221567553256,
         "_deepnote_index_column": "pretest_1673"
        },
        {
         "CO2_working_capacity [mL/g]": 1.5098275092112132,
         "_deepnote_index_column": "pretest_1674"
        },
        {
         "CO2_working_capacity [mL/g]": -5.26666738604158,
         "_deepnote_index_column": "pretest_1675"
        },
        {
         "CO2_working_capacity [mL/g]": -3.6433923752653237,
         "_deepnote_index_column": "pretest_1676"
        },
        {
         "CO2_working_capacity [mL/g]": -6.42980638239013,
         "_deepnote_index_column": "pretest_1677"
        },
        {
         "CO2_working_capacity [mL/g]": 2.0146393152657254,
         "_deepnote_index_column": "pretest_1678"
        },
        {
         "CO2_working_capacity [mL/g]": 39.527479943875875,
         "_deepnote_index_column": "pretest_1679"
        },
        {
         "CO2_working_capacity [mL/g]": -0.07637294917567772,
         "_deepnote_index_column": "pretest_1680"
        },
        {
         "CO2_working_capacity [mL/g]": 6.117558963956786,
         "_deepnote_index_column": "pretest_1681"
        },
        {
         "CO2_working_capacity [mL/g]": 0.49047533962907863,
         "_deepnote_index_column": "pretest_1682"
        },
        {
         "CO2_working_capacity [mL/g]": 38.451292534054474,
         "_deepnote_index_column": "pretest_1683"
        },
        {
         "CO2_working_capacity [mL/g]": -2.7909061966116746,
         "_deepnote_index_column": "pretest_1684"
        },
        {
         "CO2_working_capacity [mL/g]": 0.11812195117791191,
         "_deepnote_index_column": "pretest_1685"
        },
        {
         "CO2_working_capacity [mL/g]": -0.5247345192528385,
         "_deepnote_index_column": "pretest_1686"
        },
        {
         "CO2_working_capacity [mL/g]": -1.3670620267303235,
         "_deepnote_index_column": "pretest_1687"
        },
        {
         "CO2_working_capacity [mL/g]": 4.868578437129192,
         "_deepnote_index_column": "pretest_1688"
        },
        {
         "CO2_working_capacity [mL/g]": 0.23061723523464175,
         "_deepnote_index_column": "pretest_1689"
        },
        {
         "CO2_working_capacity [mL/g]": -2.7277427833853807,
         "_deepnote_index_column": "pretest_1690"
        },
        {
         "CO2_working_capacity [mL/g]": 0.20077147845103363,
         "_deepnote_index_column": "pretest_1691"
        },
        {
         "CO2_working_capacity [mL/g]": 0.03829023611776231,
         "_deepnote_index_column": "pretest_1692"
        },
        {
         "CO2_working_capacity [mL/g]": 1.4977325045364556,
         "_deepnote_index_column": "pretest_1693"
        },
        {
         "CO2_working_capacity [mL/g]": -0.5923639331339791,
         "_deepnote_index_column": "pretest_1694"
        },
        {
         "CO2_working_capacity [mL/g]": -1.0728613969521585,
         "_deepnote_index_column": "pretest_1695"
        },
        {
         "CO2_working_capacity [mL/g]": -4.652699652067308,
         "_deepnote_index_column": "pretest_1696"
        },
        {
         "CO2_working_capacity [mL/g]": -1.086116885640088,
         "_deepnote_index_column": "pretest_1697"
        },
        {
         "CO2_working_capacity [mL/g]": -0.8041439245031535,
         "_deepnote_index_column": "pretest_1698"
        },
        {
         "CO2_working_capacity [mL/g]": 3.2951681187516138,
         "_deepnote_index_column": "pretest_1699"
        },
        {
         "CO2_working_capacity [mL/g]": 2.589882751915996,
         "_deepnote_index_column": "pretest_1700"
        },
        {
         "CO2_working_capacity [mL/g]": 13.88111455395507,
         "_deepnote_index_column": "pretest_1701"
        },
        {
         "CO2_working_capacity [mL/g]": 1.8291518252776247,
         "_deepnote_index_column": "pretest_1702"
        },
        {
         "CO2_working_capacity [mL/g]": -4.0883430285666265,
         "_deepnote_index_column": "pretest_1703"
        },
        {
         "CO2_working_capacity [mL/g]": 1.086046786540597,
         "_deepnote_index_column": "pretest_1704"
        },
        {
         "CO2_working_capacity [mL/g]": 14.098956791392695,
         "_deepnote_index_column": "pretest_1705"
        },
        {
         "CO2_working_capacity [mL/g]": 1.8286521769077027,
         "_deepnote_index_column": "pretest_1706"
        },
        {
         "CO2_working_capacity [mL/g]": 4.2783339234537765,
         "_deepnote_index_column": "pretest_1707"
        },
        {
         "CO2_working_capacity [mL/g]": -2.0727284790027034,
         "_deepnote_index_column": "pretest_1708"
        },
        {
         "CO2_working_capacity [mL/g]": -3.157626706163242,
         "_deepnote_index_column": "pretest_1709"
        },
        {
         "CO2_working_capacity [mL/g]": 10.127071129590268,
         "_deepnote_index_column": "pretest_1710"
        },
        {
         "CO2_working_capacity [mL/g]": 4.965392812365917,
         "_deepnote_index_column": "pretest_1711"
        },
        {
         "CO2_working_capacity [mL/g]": 2.8784029546653236,
         "_deepnote_index_column": "pretest_1712"
        },
        {
         "CO2_working_capacity [mL/g]": -2.4312959171327626,
         "_deepnote_index_column": "pretest_1713"
        },
        {
         "CO2_working_capacity [mL/g]": 3.4332151983899024,
         "_deepnote_index_column": "pretest_1714"
        },
        {
         "CO2_working_capacity [mL/g]": 0.12688237889793186,
         "_deepnote_index_column": "pretest_1715"
        },
        {
         "CO2_working_capacity [mL/g]": -3.3192828348170473,
         "_deepnote_index_column": "pretest_1716"
        },
        {
         "CO2_working_capacity [mL/g]": 1.0572189583018716,
         "_deepnote_index_column": "pretest_1717"
        },
        {
         "CO2_working_capacity [mL/g]": 12.54069843928617,
         "_deepnote_index_column": "pretest_1718"
        },
        {
         "CO2_working_capacity [mL/g]": 2.176416159701624,
         "_deepnote_index_column": "pretest_1719"
        },
        {
         "CO2_working_capacity [mL/g]": 12.67290278146792,
         "_deepnote_index_column": "pretest_1720"
        },
        {
         "CO2_working_capacity [mL/g]": 6.309851236123684,
         "_deepnote_index_column": "pretest_1721"
        },
        {
         "CO2_working_capacity [mL/g]": -0.5838185923554775,
         "_deepnote_index_column": "pretest_1722"
        },
        {
         "CO2_working_capacity [mL/g]": -1.6063481339668069,
         "_deepnote_index_column": "pretest_1723"
        },
        {
         "CO2_working_capacity [mL/g]": -6.4509322786322985,
         "_deepnote_index_column": "pretest_1724"
        },
        {
         "CO2_working_capacity [mL/g]": 0.04343106634436111,
         "_deepnote_index_column": "pretest_1725"
        },
        {
         "CO2_working_capacity [mL/g]": 1.0461286088220685,
         "_deepnote_index_column": "pretest_1726"
        },
        {
         "CO2_working_capacity [mL/g]": 4.5282376976787075,
         "_deepnote_index_column": "pretest_1727"
        },
        {
         "CO2_working_capacity [mL/g]": -12.449591839102785,
         "_deepnote_index_column": "pretest_1728"
        },
        {
         "CO2_working_capacity [mL/g]": -7.024723493459045,
         "_deepnote_index_column": "pretest_1729"
        },
        {
         "CO2_working_capacity [mL/g]": 0.44009521369315746,
         "_deepnote_index_column": "pretest_1730"
        },
        {
         "CO2_working_capacity [mL/g]": -3.495989498762557,
         "_deepnote_index_column": "pretest_1731"
        },
        {
         "CO2_working_capacity [mL/g]": -3.8554885177096594,
         "_deepnote_index_column": "pretest_1732"
        },
        {
         "CO2_working_capacity [mL/g]": 2.1771206465487296,
         "_deepnote_index_column": "pretest_1733"
        },
        {
         "CO2_working_capacity [mL/g]": 64.37243522400068,
         "_deepnote_index_column": "pretest_1734"
        },
        {
         "CO2_working_capacity [mL/g]": -1.988645302819388,
         "_deepnote_index_column": "pretest_1735"
        },
        {
         "CO2_working_capacity [mL/g]": -0.0005410240125248341,
         "_deepnote_index_column": "pretest_1736"
        },
        {
         "CO2_working_capacity [mL/g]": -8.419799738553465,
         "_deepnote_index_column": "pretest_1737"
        },
        {
         "CO2_working_capacity [mL/g]": 3.103109385270438,
         "_deepnote_index_column": "pretest_1738"
        },
        {
         "CO2_working_capacity [mL/g]": 3.6464701890049014,
         "_deepnote_index_column": "pretest_1739"
        },
        {
         "CO2_working_capacity [mL/g]": -2.3299235276712644,
         "_deepnote_index_column": "pretest_1740"
        },
        {
         "CO2_working_capacity [mL/g]": -3.5146969433564386,
         "_deepnote_index_column": "pretest_1741"
        },
        {
         "CO2_working_capacity [mL/g]": -3.409271367540088,
         "_deepnote_index_column": "pretest_1742"
        },
        {
         "CO2_working_capacity [mL/g]": 7.413465447003247,
         "_deepnote_index_column": "pretest_1743"
        },
        {
         "CO2_working_capacity [mL/g]": -0.507522208914248,
         "_deepnote_index_column": "pretest_1744"
        },
        {
         "CO2_working_capacity [mL/g]": -1.8601193401378968,
         "_deepnote_index_column": "pretest_1745"
        },
        {
         "CO2_working_capacity [mL/g]": 12.293157520651938,
         "_deepnote_index_column": "pretest_1746"
        },
        {
         "CO2_working_capacity [mL/g]": 2.6023689950344298,
         "_deepnote_index_column": "pretest_1747"
        },
        {
         "CO2_working_capacity [mL/g]": 0.5409125179108898,
         "_deepnote_index_column": "pretest_1748"
        },
        {
         "CO2_working_capacity [mL/g]": -7.111889129102423,
         "_deepnote_index_column": "pretest_1749"
        },
        {
         "CO2_working_capacity [mL/g]": -0.3084854098026308,
         "_deepnote_index_column": "pretest_1750"
        },
        {
         "CO2_working_capacity [mL/g]": -8.70417298606587,
         "_deepnote_index_column": "pretest_1751"
        },
        {
         "CO2_working_capacity [mL/g]": 0.24426441970052792,
         "_deepnote_index_column": "pretest_1752"
        },
        {
         "CO2_working_capacity [mL/g]": -6.541289100098235,
         "_deepnote_index_column": "pretest_1753"
        },
        {
         "CO2_working_capacity [mL/g]": 0.09197414009089518,
         "_deepnote_index_column": "pretest_1754"
        },
        {
         "CO2_working_capacity [mL/g]": -4.5772526484929585,
         "_deepnote_index_column": "pretest_1755"
        },
        {
         "CO2_working_capacity [mL/g]": -5.5160577019992445,
         "_deepnote_index_column": "pretest_1756"
        },
        {
         "CO2_working_capacity [mL/g]": -3.4948559717204666,
         "_deepnote_index_column": "pretest_1757"
        },
        {
         "CO2_working_capacity [mL/g]": -4.12769858793466,
         "_deepnote_index_column": "pretest_1758"
        },
        {
         "CO2_working_capacity [mL/g]": -2.242092468862618,
         "_deepnote_index_column": "pretest_1759"
        },
        {
         "CO2_working_capacity [mL/g]": 8.45850571569193,
         "_deepnote_index_column": "pretest_1760"
        },
        {
         "CO2_working_capacity [mL/g]": 46.47775606426381,
         "_deepnote_index_column": "pretest_1761"
        },
        {
         "CO2_working_capacity [mL/g]": 13.151346827801495,
         "_deepnote_index_column": "pretest_1762"
        },
        {
         "CO2_working_capacity [mL/g]": -0.5118838544625911,
         "_deepnote_index_column": "pretest_1763"
        },
        {
         "CO2_working_capacity [mL/g]": 10.87977792045381,
         "_deepnote_index_column": "pretest_1764"
        },
        {
         "CO2_working_capacity [mL/g]": 1.0262531216063593,
         "_deepnote_index_column": "pretest_1765"
        },
        {
         "CO2_working_capacity [mL/g]": -6.210476382901011,
         "_deepnote_index_column": "pretest_1766"
        },
        {
         "CO2_working_capacity [mL/g]": -5.773754423813152,
         "_deepnote_index_column": "pretest_1767"
        },
        {
         "CO2_working_capacity [mL/g]": -6.5246804093506325,
         "_deepnote_index_column": "pretest_1768"
        },
        {
         "CO2_working_capacity [mL/g]": -12.52668328709809,
         "_deepnote_index_column": "pretest_1769"
        },
        {
         "CO2_working_capacity [mL/g]": -6.563032406600432,
         "_deepnote_index_column": "pretest_1770"
        },
        {
         "CO2_working_capacity [mL/g]": -1.6694852398575908,
         "_deepnote_index_column": "pretest_1771"
        },
        {
         "CO2_working_capacity [mL/g]": -8.52952199492114,
         "_deepnote_index_column": "pretest_1772"
        },
        {
         "CO2_working_capacity [mL/g]": 1.5145755692805025,
         "_deepnote_index_column": "pretest_1773"
        },
        {
         "CO2_working_capacity [mL/g]": -0.6839699255998232,
         "_deepnote_index_column": "pretest_1774"
        },
        {
         "CO2_working_capacity [mL/g]": -5.73238430442062,
         "_deepnote_index_column": "pretest_1775"
        },
        {
         "CO2_working_capacity [mL/g]": -1.8113069957499495,
         "_deepnote_index_column": "pretest_1776"
        },
        {
         "CO2_working_capacity [mL/g]": -1.130504379878803,
         "_deepnote_index_column": "pretest_1777"
        },
        {
         "CO2_working_capacity [mL/g]": -9.910516275342436,
         "_deepnote_index_column": "pretest_1778"
        },
        {
         "CO2_working_capacity [mL/g]": -13.826899005215106,
         "_deepnote_index_column": "pretest_1779"
        },
        {
         "CO2_working_capacity [mL/g]": 1.536624109391082,
         "_deepnote_index_column": "pretest_1780"
        },
        {
         "CO2_working_capacity [mL/g]": 1.3786489816795964,
         "_deepnote_index_column": "pretest_1781"
        },
        {
         "CO2_working_capacity [mL/g]": -4.499244923885034,
         "_deepnote_index_column": "pretest_1782"
        },
        {
         "CO2_working_capacity [mL/g]": -2.6247140456188327,
         "_deepnote_index_column": "pretest_1783"
        },
        {
         "CO2_working_capacity [mL/g]": 5.80441838122844,
         "_deepnote_index_column": "pretest_1784"
        },
        {
         "CO2_working_capacity [mL/g]": -3.043641389144606,
         "_deepnote_index_column": "pretest_1785"
        },
        {
         "CO2_working_capacity [mL/g]": 76.37675964851799,
         "_deepnote_index_column": "pretest_1786"
        },
        {
         "CO2_working_capacity [mL/g]": 14.941774744217923,
         "_deepnote_index_column": "pretest_1787"
        },
        {
         "CO2_working_capacity [mL/g]": 1.2437570182527746,
         "_deepnote_index_column": "pretest_1788"
        },
        {
         "CO2_working_capacity [mL/g]": -2.81482225624778,
         "_deepnote_index_column": "pretest_1789"
        },
        {
         "CO2_working_capacity [mL/g]": -2.118094153095998,
         "_deepnote_index_column": "pretest_1790"
        },
        {
         "CO2_working_capacity [mL/g]": 3.8495996192808426,
         "_deepnote_index_column": "pretest_1791"
        },
        {
         "CO2_working_capacity [mL/g]": -1.3680101927979085,
         "_deepnote_index_column": "pretest_1792"
        },
        {
         "CO2_working_capacity [mL/g]": 45.69748519159473,
         "_deepnote_index_column": "pretest_1793"
        },
        {
         "CO2_working_capacity [mL/g]": -3.585769330002416,
         "_deepnote_index_column": "pretest_1794"
        },
        {
         "CO2_working_capacity [mL/g]": -4.8041727036688355,
         "_deepnote_index_column": "pretest_1795"
        },
        {
         "CO2_working_capacity [mL/g]": 2.710516675200618,
         "_deepnote_index_column": "pretest_1796"
        },
        {
         "CO2_working_capacity [mL/g]": 17.10567985199463,
         "_deepnote_index_column": "pretest_1797"
        },
        {
         "CO2_working_capacity [mL/g]": -0.06422126835003894,
         "_deepnote_index_column": "pretest_1798"
        },
        {
         "CO2_working_capacity [mL/g]": 3.2433010835692095,
         "_deepnote_index_column": "pretest_1799"
        },
        {
         "CO2_working_capacity [mL/g]": 2.873473656775706,
         "_deepnote_index_column": "pretest_1800"
        },
        {
         "CO2_working_capacity [mL/g]": 0.0900488199274984,
         "_deepnote_index_column": "pretest_1801"
        },
        {
         "CO2_working_capacity [mL/g]": 58.62468501929276,
         "_deepnote_index_column": "pretest_1802"
        },
        {
         "CO2_working_capacity [mL/g]": 5.574588475056761,
         "_deepnote_index_column": "pretest_1803"
        },
        {
         "CO2_working_capacity [mL/g]": 4.532882916220241,
         "_deepnote_index_column": "pretest_1804"
        },
        {
         "CO2_working_capacity [mL/g]": -1.8707690248043842,
         "_deepnote_index_column": "pretest_1805"
        },
        {
         "CO2_working_capacity [mL/g]": -5.326635684120906,
         "_deepnote_index_column": "pretest_1806"
        },
        {
         "CO2_working_capacity [mL/g]": -3.2925482959678,
         "_deepnote_index_column": "pretest_1807"
        },
        {
         "CO2_working_capacity [mL/g]": -0.03349659959591378,
         "_deepnote_index_column": "pretest_1808"
        },
        {
         "CO2_working_capacity [mL/g]": 9.184170992243407,
         "_deepnote_index_column": "pretest_1809"
        },
        {
         "CO2_working_capacity [mL/g]": 0.7764317305683027,
         "_deepnote_index_column": "pretest_1810"
        },
        {
         "CO2_working_capacity [mL/g]": -3.7000395388121183,
         "_deepnote_index_column": "pretest_1811"
        },
        {
         "CO2_working_capacity [mL/g]": -8.511312841013265,
         "_deepnote_index_column": "pretest_1812"
        },
        {
         "CO2_working_capacity [mL/g]": -1.0776324409313507,
         "_deepnote_index_column": "pretest_1813"
        },
        {
         "CO2_working_capacity [mL/g]": -13.027135843231136,
         "_deepnote_index_column": "pretest_1814"
        },
        {
         "CO2_working_capacity [mL/g]": -5.560829739264041,
         "_deepnote_index_column": "pretest_1815"
        },
        {
         "CO2_working_capacity [mL/g]": -9.262739161869055,
         "_deepnote_index_column": "pretest_1816"
        },
        {
         "CO2_working_capacity [mL/g]": -6.435426013046808,
         "_deepnote_index_column": "pretest_1817"
        },
        {
         "CO2_working_capacity [mL/g]": 8.16764228437066,
         "_deepnote_index_column": "pretest_1818"
        },
        {
         "CO2_working_capacity [mL/g]": -1.1232592396114096,
         "_deepnote_index_column": "pretest_1819"
        },
        {
         "CO2_working_capacity [mL/g]": 1.6108362485280072,
         "_deepnote_index_column": "pretest_1820"
        },
        {
         "CO2_working_capacity [mL/g]": -0.7433222925868014,
         "_deepnote_index_column": "pretest_1821"
        },
        {
         "CO2_working_capacity [mL/g]": 20.49345137713374,
         "_deepnote_index_column": "pretest_1822"
        },
        {
         "CO2_working_capacity [mL/g]": 8.953974775902752,
         "_deepnote_index_column": "pretest_1823"
        },
        {
         "CO2_working_capacity [mL/g]": 3.888463394401645,
         "_deepnote_index_column": "pretest_1824"
        },
        {
         "CO2_working_capacity [mL/g]": 0.2923654653139233,
         "_deepnote_index_column": "pretest_1825"
        },
        {
         "CO2_working_capacity [mL/g]": -2.0148096753797184,
         "_deepnote_index_column": "pretest_1826"
        },
        {
         "CO2_working_capacity [mL/g]": -2.8830191293828946,
         "_deepnote_index_column": "pretest_1827"
        },
        {
         "CO2_working_capacity [mL/g]": -0.7616387742240059,
         "_deepnote_index_column": "pretest_1828"
        },
        {
         "CO2_working_capacity [mL/g]": -5.97397007594915,
         "_deepnote_index_column": "pretest_1829"
        },
        {
         "CO2_working_capacity [mL/g]": 4.099704921738464,
         "_deepnote_index_column": "pretest_1830"
        },
        {
         "CO2_working_capacity [mL/g]": 51.55260110494521,
         "_deepnote_index_column": "pretest_1831"
        },
        {
         "CO2_working_capacity [mL/g]": -4.546697866436982,
         "_deepnote_index_column": "pretest_1832"
        },
        {
         "CO2_working_capacity [mL/g]": 2.4871636008880835,
         "_deepnote_index_column": "pretest_1833"
        },
        {
         "CO2_working_capacity [mL/g]": -3.9999201447152046,
         "_deepnote_index_column": "pretest_1834"
        },
        {
         "CO2_working_capacity [mL/g]": -0.7691899108648812,
         "_deepnote_index_column": "pretest_1835"
        },
        {
         "CO2_working_capacity [mL/g]": 2.1799563981724717,
         "_deepnote_index_column": "pretest_1836"
        },
        {
         "CO2_working_capacity [mL/g]": -0.691500043614622,
         "_deepnote_index_column": "pretest_1837"
        },
        {
         "CO2_working_capacity [mL/g]": -9.372919040417395,
         "_deepnote_index_column": "pretest_1838"
        },
        {
         "CO2_working_capacity [mL/g]": 5.584331201985418,
         "_deepnote_index_column": "pretest_1839"
        },
        {
         "CO2_working_capacity [mL/g]": -1.792465150966026,
         "_deepnote_index_column": "pretest_1840"
        },
        {
         "CO2_working_capacity [mL/g]": -14.073958703099843,
         "_deepnote_index_column": "pretest_1841"
        },
        {
         "CO2_working_capacity [mL/g]": -8.082175472894482,
         "_deepnote_index_column": "pretest_1842"
        },
        {
         "CO2_working_capacity [mL/g]": -1.532225131714225,
         "_deepnote_index_column": "pretest_1843"
        },
        {
         "CO2_working_capacity [mL/g]": 1.1514288696560726,
         "_deepnote_index_column": "pretest_1844"
        },
        {
         "CO2_working_capacity [mL/g]": -10.70562832321533,
         "_deepnote_index_column": "pretest_1845"
        },
        {
         "CO2_working_capacity [mL/g]": -4.5453379461863195,
         "_deepnote_index_column": "pretest_1846"
        },
        {
         "CO2_working_capacity [mL/g]": -1.0381229231324245,
         "_deepnote_index_column": "pretest_1847"
        },
        {
         "CO2_working_capacity [mL/g]": 2.0110165643837044,
         "_deepnote_index_column": "pretest_1848"
        },
        {
         "CO2_working_capacity [mL/g]": -8.440291678537074,
         "_deepnote_index_column": "pretest_1849"
        },
        {
         "CO2_working_capacity [mL/g]": 1.0136496907558694,
         "_deepnote_index_column": "pretest_1850"
        },
        {
         "CO2_working_capacity [mL/g]": 22.57123406496454,
         "_deepnote_index_column": "pretest_1851"
        },
        {
         "CO2_working_capacity [mL/g]": 14.996485352288412,
         "_deepnote_index_column": "pretest_1852"
        },
        {
         "CO2_working_capacity [mL/g]": 8.996823901177343,
         "_deepnote_index_column": "pretest_1853"
        },
        {
         "CO2_working_capacity [mL/g]": 12.435402094760859,
         "_deepnote_index_column": "pretest_1854"
        },
        {
         "CO2_working_capacity [mL/g]": 34.72472889947715,
         "_deepnote_index_column": "pretest_1855"
        },
        {
         "CO2_working_capacity [mL/g]": -1.8185793346077048,
         "_deepnote_index_column": "pretest_1856"
        },
        {
         "CO2_working_capacity [mL/g]": 1.8083915344383736,
         "_deepnote_index_column": "pretest_1857"
        },
        {
         "CO2_working_capacity [mL/g]": 24.682563052235395,
         "_deepnote_index_column": "pretest_1858"
        },
        {
         "CO2_working_capacity [mL/g]": 0.08730022670930282,
         "_deepnote_index_column": "pretest_1859"
        },
        {
         "CO2_working_capacity [mL/g]": 36.793712022827854,
         "_deepnote_index_column": "pretest_1860"
        },
        {
         "CO2_working_capacity [mL/g]": -4.2886513990756425,
         "_deepnote_index_column": "pretest_1861"
        },
        {
         "CO2_working_capacity [mL/g]": 2.451414936512369,
         "_deepnote_index_column": "pretest_1862"
        },
        {
         "CO2_working_capacity [mL/g]": 2.0629836818154246,
         "_deepnote_index_column": "pretest_1863"
        },
        {
         "CO2_working_capacity [mL/g]": 1.556052870170203,
         "_deepnote_index_column": "pretest_1864"
        },
        {
         "CO2_working_capacity [mL/g]": -5.448074571383273,
         "_deepnote_index_column": "pretest_1865"
        },
        {
         "CO2_working_capacity [mL/g]": 3.1737158204891216,
         "_deepnote_index_column": "pretest_1866"
        },
        {
         "CO2_working_capacity [mL/g]": -0.3132875346043396,
         "_deepnote_index_column": "pretest_1867"
        },
        {
         "CO2_working_capacity [mL/g]": -7.980673493016975,
         "_deepnote_index_column": "pretest_1868"
        },
        {
         "CO2_working_capacity [mL/g]": -2.821084067794819,
         "_deepnote_index_column": "pretest_1869"
        },
        {
         "CO2_working_capacity [mL/g]": -6.133332232920689,
         "_deepnote_index_column": "pretest_1870"
        },
        {
         "CO2_working_capacity [mL/g]": 1.3742977130578282,
         "_deepnote_index_column": "pretest_1871"
        },
        {
         "CO2_working_capacity [mL/g]": -2.1313893387253535,
         "_deepnote_index_column": "pretest_1872"
        },
        {
         "CO2_working_capacity [mL/g]": -3.3271848573016833,
         "_deepnote_index_column": "pretest_1873"
        },
        {
         "CO2_working_capacity [mL/g]": 0.06661902128606556,
         "_deepnote_index_column": "pretest_1874"
        },
        {
         "CO2_working_capacity [mL/g]": 2.1449573253823573,
         "_deepnote_index_column": "pretest_1875"
        },
        {
         "CO2_working_capacity [mL/g]": 5.0844412090867435,
         "_deepnote_index_column": "pretest_1876"
        },
        {
         "CO2_working_capacity [mL/g]": 4.780212575756262,
         "_deepnote_index_column": "pretest_1877"
        },
        {
         "CO2_working_capacity [mL/g]": -9.99113141814376,
         "_deepnote_index_column": "pretest_1878"
        },
        {
         "CO2_working_capacity [mL/g]": -1.7556945269107942,
         "_deepnote_index_column": "pretest_1879"
        },
        {
         "CO2_working_capacity [mL/g]": -1.6548643841286743,
         "_deepnote_index_column": "pretest_1880"
        },
        {
         "CO2_working_capacity [mL/g]": -4.870061116249249,
         "_deepnote_index_column": "pretest_1881"
        },
        {
         "CO2_working_capacity [mL/g]": -12.158387614779272,
         "_deepnote_index_column": "pretest_1882"
        },
        {
         "CO2_working_capacity [mL/g]": 37.35633203035885,
         "_deepnote_index_column": "pretest_1883"
        },
        {
         "CO2_working_capacity [mL/g]": 0.8362007145541052,
         "_deepnote_index_column": "pretest_1884"
        },
        {
         "CO2_working_capacity [mL/g]": -4.733450808094759,
         "_deepnote_index_column": "pretest_1885"
        },
        {
         "CO2_working_capacity [mL/g]": -0.4287697967698752,
         "_deepnote_index_column": "pretest_1886"
        },
        {
         "CO2_working_capacity [mL/g]": 3.337761063191209,
         "_deepnote_index_column": "pretest_1887"
        },
        {
         "CO2_working_capacity [mL/g]": 3.4525942979399225,
         "_deepnote_index_column": "pretest_1888"
        },
        {
         "CO2_working_capacity [mL/g]": -5.050351780232428,
         "_deepnote_index_column": "pretest_1889"
        },
        {
         "CO2_working_capacity [mL/g]": -2.0024554390303684,
         "_deepnote_index_column": "pretest_1890"
        },
        {
         "CO2_working_capacity [mL/g]": -3.8648507640117344,
         "_deepnote_index_column": "pretest_1891"
        },
        {
         "CO2_working_capacity [mL/g]": -2.7162933094063746,
         "_deepnote_index_column": "pretest_1892"
        },
        {
         "CO2_working_capacity [mL/g]": 0.0066247118518631964,
         "_deepnote_index_column": "pretest_1893"
        },
        {
         "CO2_working_capacity [mL/g]": -3.254779062605832,
         "_deepnote_index_column": "pretest_1894"
        },
        {
         "CO2_working_capacity [mL/g]": -2.00574197807326,
         "_deepnote_index_column": "pretest_1895"
        },
        {
         "CO2_working_capacity [mL/g]": 4.008477787852759,
         "_deepnote_index_column": "pretest_1896"
        },
        {
         "CO2_working_capacity [mL/g]": 1.81519985600296,
         "_deepnote_index_column": "pretest_1897"
        },
        {
         "CO2_working_capacity [mL/g]": 41.44732372922895,
         "_deepnote_index_column": "pretest_1898"
        },
        {
         "CO2_working_capacity [mL/g]": -13.321242189438815,
         "_deepnote_index_column": "pretest_1899"
        },
        {
         "CO2_working_capacity [mL/g]": -0.4469059274330623,
         "_deepnote_index_column": "pretest_1900"
        },
        {
         "CO2_working_capacity [mL/g]": -0.30044372787998225,
         "_deepnote_index_column": "pretest_1901"
        },
        {
         "CO2_working_capacity [mL/g]": -6.201093918808557,
         "_deepnote_index_column": "pretest_1902"
        },
        {
         "CO2_working_capacity [mL/g]": 8.039231001319152,
         "_deepnote_index_column": "pretest_1903"
        },
        {
         "CO2_working_capacity [mL/g]": -1.9021103746427883,
         "_deepnote_index_column": "pretest_1904"
        },
        {
         "CO2_working_capacity [mL/g]": 20.232811533568338,
         "_deepnote_index_column": "pretest_1905"
        },
        {
         "CO2_working_capacity [mL/g]": -8.731226413702274,
         "_deepnote_index_column": "pretest_1906"
        },
        {
         "CO2_working_capacity [mL/g]": 2.239010146558807,
         "_deepnote_index_column": "pretest_1907"
        },
        {
         "CO2_working_capacity [mL/g]": 12.980314611580882,
         "_deepnote_index_column": "pretest_1908"
        },
        {
         "CO2_working_capacity [mL/g]": -7.435369005354858,
         "_deepnote_index_column": "pretest_1909"
        },
        {
         "CO2_working_capacity [mL/g]": 1.49303585435752,
         "_deepnote_index_column": "pretest_1910"
        },
        {
         "CO2_working_capacity [mL/g]": 4.965020583955663,
         "_deepnote_index_column": "pretest_1911"
        },
        {
         "CO2_working_capacity [mL/g]": 6.863876447012022,
         "_deepnote_index_column": "pretest_1912"
        },
        {
         "CO2_working_capacity [mL/g]": 0.7870545525941424,
         "_deepnote_index_column": "pretest_1913"
        },
        {
         "CO2_working_capacity [mL/g]": -5.678473353628211,
         "_deepnote_index_column": "pretest_1914"
        },
        {
         "CO2_working_capacity [mL/g]": 5.007025372518854,
         "_deepnote_index_column": "pretest_1915"
        },
        {
         "CO2_working_capacity [mL/g]": 8.31570306438823,
         "_deepnote_index_column": "pretest_1916"
        },
        {
         "CO2_working_capacity [mL/g]": -4.968695492749269,
         "_deepnote_index_column": "pretest_1917"
        },
        {
         "CO2_working_capacity [mL/g]": 4.72209635548235,
         "_deepnote_index_column": "pretest_1918"
        },
        {
         "CO2_working_capacity [mL/g]": 4.151869083605189,
         "_deepnote_index_column": "pretest_1919"
        },
        {
         "CO2_working_capacity [mL/g]": -3.621189783830031,
         "_deepnote_index_column": "pretest_1920"
        },
        {
         "CO2_working_capacity [mL/g]": 4.120553576115275,
         "_deepnote_index_column": "pretest_1921"
        },
        {
         "CO2_working_capacity [mL/g]": -3.589767743282401,
         "_deepnote_index_column": "pretest_1922"
        },
        {
         "CO2_working_capacity [mL/g]": 4.273176728179796,
         "_deepnote_index_column": "pretest_1923"
        },
        {
         "CO2_working_capacity [mL/g]": 2.427586253424996,
         "_deepnote_index_column": "pretest_1924"
        },
        {
         "CO2_working_capacity [mL/g]": -3.1714348144879287,
         "_deepnote_index_column": "pretest_1925"
        },
        {
         "CO2_working_capacity [mL/g]": 6.2120538801424985,
         "_deepnote_index_column": "pretest_1926"
        },
        {
         "CO2_working_capacity [mL/g]": -3.2004906467685075,
         "_deepnote_index_column": "pretest_1927"
        },
        {
         "CO2_working_capacity [mL/g]": 32.553036478796805,
         "_deepnote_index_column": "pretest_1928"
        },
        {
         "CO2_working_capacity [mL/g]": -1.2301145807180376,
         "_deepnote_index_column": "pretest_1929"
        },
        {
         "CO2_working_capacity [mL/g]": -5.182083306874773,
         "_deepnote_index_column": "pretest_1930"
        },
        {
         "CO2_working_capacity [mL/g]": -5.805311601296026,
         "_deepnote_index_column": "pretest_1931"
        },
        {
         "CO2_working_capacity [mL/g]": -3.4908102349583436,
         "_deepnote_index_column": "pretest_1932"
        },
        {
         "CO2_working_capacity [mL/g]": 5.115668511208045,
         "_deepnote_index_column": "pretest_1933"
        },
        {
         "CO2_working_capacity [mL/g]": -2.159590110522179,
         "_deepnote_index_column": "pretest_1934"
        },
        {
         "CO2_working_capacity [mL/g]": 5.958842534036151,
         "_deepnote_index_column": "pretest_1935"
        },
        {
         "CO2_working_capacity [mL/g]": -3.7826559146983123,
         "_deepnote_index_column": "pretest_1936"
        },
        {
         "CO2_working_capacity [mL/g]": -3.196149636966249,
         "_deepnote_index_column": "pretest_1937"
        },
        {
         "CO2_working_capacity [mL/g]": -0.2711851376133083,
         "_deepnote_index_column": "pretest_1938"
        },
        {
         "CO2_working_capacity [mL/g]": 3.560980411433744,
         "_deepnote_index_column": "pretest_1939"
        },
        {
         "CO2_working_capacity [mL/g]": -4.598264903747361,
         "_deepnote_index_column": "pretest_1940"
        },
        {
         "CO2_working_capacity [mL/g]": 4.8435718582057605,
         "_deepnote_index_column": "pretest_1941"
        },
        {
         "CO2_working_capacity [mL/g]": 6.424912802057757,
         "_deepnote_index_column": "pretest_1942"
        },
        {
         "CO2_working_capacity [mL/g]": 0.6532413105951562,
         "_deepnote_index_column": "pretest_1943"
        },
        {
         "CO2_working_capacity [mL/g]": 2.521688005769415,
         "_deepnote_index_column": "pretest_1944"
        },
        {
         "CO2_working_capacity [mL/g]": 6.199545274293598,
         "_deepnote_index_column": "pretest_1945"
        },
        {
         "CO2_working_capacity [mL/g]": -8.676310526121592,
         "_deepnote_index_column": "pretest_1946"
        },
        {
         "CO2_working_capacity [mL/g]": -1.0632225986403607,
         "_deepnote_index_column": "pretest_1947"
        },
        {
         "CO2_working_capacity [mL/g]": -5.5954659904736745,
         "_deepnote_index_column": "pretest_1948"
        },
        {
         "CO2_working_capacity [mL/g]": 5.47842739641261,
         "_deepnote_index_column": "pretest_1949"
        },
        {
         "CO2_working_capacity [mL/g]": 2.388657804877463,
         "_deepnote_index_column": "pretest_1950"
        },
        {
         "CO2_working_capacity [mL/g]": -5.265782654137939,
         "_deepnote_index_column": "pretest_1951"
        },
        {
         "CO2_working_capacity [mL/g]": -1.1242851149856865,
         "_deepnote_index_column": "pretest_1952"
        },
        {
         "CO2_working_capacity [mL/g]": 66.59090266101923,
         "_deepnote_index_column": "pretest_1953"
        },
        {
         "CO2_working_capacity [mL/g]": 2.6686327864905195,
         "_deepnote_index_column": "pretest_1954"
        },
        {
         "CO2_working_capacity [mL/g]": -10.75068779335644,
         "_deepnote_index_column": "pretest_1955"
        },
        {
         "CO2_working_capacity [mL/g]": 1.4461337132194505,
         "_deepnote_index_column": "pretest_1956"
        },
        {
         "CO2_working_capacity [mL/g]": 9.083280491609829,
         "_deepnote_index_column": "pretest_1957"
        },
        {
         "CO2_working_capacity [mL/g]": 5.296036436142202,
         "_deepnote_index_column": "pretest_1958"
        },
        {
         "CO2_working_capacity [mL/g]": -4.815660032456779,
         "_deepnote_index_column": "pretest_1959"
        },
        {
         "CO2_working_capacity [mL/g]": 3.4781255605704544,
         "_deepnote_index_column": "pretest_1960"
        },
        {
         "CO2_working_capacity [mL/g]": 5.33594793192577,
         "_deepnote_index_column": "pretest_1961"
        },
        {
         "CO2_working_capacity [mL/g]": 8.240804871673829,
         "_deepnote_index_column": "pretest_1962"
        },
        {
         "CO2_working_capacity [mL/g]": -14.099059788897714,
         "_deepnote_index_column": "pretest_1963"
        },
        {
         "CO2_working_capacity [mL/g]": 6.307188625073505,
         "_deepnote_index_column": "pretest_1964"
        },
        {
         "CO2_working_capacity [mL/g]": -6.475018706628528,
         "_deepnote_index_column": "pretest_1965"
        },
        {
         "CO2_working_capacity [mL/g]": -4.8014885137609395,
         "_deepnote_index_column": "pretest_1966"
        },
        {
         "CO2_working_capacity [mL/g]": 42.25467154862201,
         "_deepnote_index_column": "pretest_1967"
        },
        {
         "CO2_working_capacity [mL/g]": -2.2949694971302868,
         "_deepnote_index_column": "pretest_1968"
        },
        {
         "CO2_working_capacity [mL/g]": -1.8071998261537747,
         "_deepnote_index_column": "pretest_1969"
        },
        {
         "CO2_working_capacity [mL/g]": 4.1593431731462,
         "_deepnote_index_column": "pretest_1970"
        },
        {
         "CO2_working_capacity [mL/g]": 15.621478902978374,
         "_deepnote_index_column": "pretest_1971"
        },
        {
         "CO2_working_capacity [mL/g]": 4.616579233549895,
         "_deepnote_index_column": "pretest_1972"
        },
        {
         "CO2_working_capacity [mL/g]": 0.11684075676206855,
         "_deepnote_index_column": "pretest_1973"
        },
        {
         "CO2_working_capacity [mL/g]": -4.034999108817057,
         "_deepnote_index_column": "pretest_1974"
        },
        {
         "CO2_working_capacity [mL/g]": -8.893988579517591,
         "_deepnote_index_column": "pretest_1975"
        },
        {
         "CO2_working_capacity [mL/g]": -4.456318498989781,
         "_deepnote_index_column": "pretest_1976"
        },
        {
         "CO2_working_capacity [mL/g]": -7.977360014661646,
         "_deepnote_index_column": "pretest_1977"
        },
        {
         "CO2_working_capacity [mL/g]": 33.291983043162325,
         "_deepnote_index_column": "pretest_1978"
        },
        {
         "CO2_working_capacity [mL/g]": -4.611310176419366,
         "_deepnote_index_column": "pretest_1979"
        },
        {
         "CO2_working_capacity [mL/g]": -4.275042207283188,
         "_deepnote_index_column": "pretest_1980"
        },
        {
         "CO2_working_capacity [mL/g]": 5.502139984252963,
         "_deepnote_index_column": "pretest_1981"
        },
        {
         "CO2_working_capacity [mL/g]": 1.577936499133133,
         "_deepnote_index_column": "pretest_1982"
        },
        {
         "CO2_working_capacity [mL/g]": -1.6454446218358498,
         "_deepnote_index_column": "pretest_1983"
        },
        {
         "CO2_working_capacity [mL/g]": -10.251684633393177,
         "_deepnote_index_column": "pretest_1984"
        },
        {
         "CO2_working_capacity [mL/g]": 0.5225924869993529,
         "_deepnote_index_column": "pretest_1985"
        },
        {
         "CO2_working_capacity [mL/g]": -0.11843290490138496,
         "_deepnote_index_column": "pretest_1986"
        },
        {
         "CO2_working_capacity [mL/g]": -2.8309644678419303,
         "_deepnote_index_column": "pretest_1987"
        },
        {
         "CO2_working_capacity [mL/g]": -4.747914439872768,
         "_deepnote_index_column": "pretest_1988"
        },
        {
         "CO2_working_capacity [mL/g]": 6.270466956890019,
         "_deepnote_index_column": "pretest_1989"
        },
        {
         "CO2_working_capacity [mL/g]": -3.7286165259987314,
         "_deepnote_index_column": "pretest_1990"
        },
        {
         "CO2_working_capacity [mL/g]": 2.100636875511711,
         "_deepnote_index_column": "pretest_1991"
        },
        {
         "CO2_working_capacity [mL/g]": -3.5304228407736673,
         "_deepnote_index_column": "pretest_1992"
        },
        {
         "CO2_working_capacity [mL/g]": 27.713664443456434,
         "_deepnote_index_column": "pretest_1993"
        },
        {
         "CO2_working_capacity [mL/g]": -0.5010205573573264,
         "_deepnote_index_column": "pretest_1994"
        },
        {
         "CO2_working_capacity [mL/g]": -5.761973221094787,
         "_deepnote_index_column": "pretest_1995"
        },
        {
         "CO2_working_capacity [mL/g]": 0.6804918440501169,
         "_deepnote_index_column": "pretest_1996"
        },
        {
         "CO2_working_capacity [mL/g]": 2.5492003555970064,
         "_deepnote_index_column": "pretest_1997"
        },
        {
         "CO2_working_capacity [mL/g]": 0.8084200123671224,
         "_deepnote_index_column": "pretest_1998"
        },
        {
         "CO2_working_capacity [mL/g]": -8.182676492054398,
         "_deepnote_index_column": "pretest_1999"
        },
        {
         "CO2_working_capacity [mL/g]": 46.04102117846148,
         "_deepnote_index_column": "pretest_2000"
        }
       ]
      },
      "text/plain": "              CO2_working_capacity [mL/g]\nid                                       \npretest_1                      105.441553\npretest_2                      124.969371\npretest_3                      191.485782\npretest_4                       64.299135\npretest_5                      103.338281\n...                                   ...\npretest_1996                     0.680492\npretest_1997                     2.549200\npretest_1998                     0.808420\npretest_1999                    -8.182676\npretest_2000                    46.041021\n\n[2000 rows x 1 columns]",
      "text/html": "<div>\n<style scoped>\n    .dataframe tbody tr th:only-of-type {\n        vertical-align: middle;\n    }\n\n    .dataframe tbody tr th {\n        vertical-align: top;\n    }\n\n    .dataframe thead th {\n        text-align: right;\n    }\n</style>\n<table border=\"1\" class=\"dataframe\">\n  <thead>\n    <tr style=\"text-align: right;\">\n      <th></th>\n      <th>CO2_working_capacity [mL/g]</th>\n    </tr>\n    <tr>\n      <th>id</th>\n      <th></th>\n    </tr>\n  </thead>\n  <tbody>\n    <tr>\n      <th>pretest_1</th>\n      <td>105.441553</td>\n    </tr>\n    <tr>\n      <th>pretest_2</th>\n      <td>124.969371</td>\n    </tr>\n    <tr>\n      <th>pretest_3</th>\n      <td>191.485782</td>\n    </tr>\n    <tr>\n      <th>pretest_4</th>\n      <td>64.299135</td>\n    </tr>\n    <tr>\n      <th>pretest_5</th>\n      <td>103.338281</td>\n    </tr>\n    <tr>\n      <th>...</th>\n      <td>...</td>\n    </tr>\n    <tr>\n      <th>pretest_1996</th>\n      <td>0.680492</td>\n    </tr>\n    <tr>\n      <th>pretest_1997</th>\n      <td>2.549200</td>\n    </tr>\n    <tr>\n      <th>pretest_1998</th>\n      <td>0.808420</td>\n    </tr>\n    <tr>\n      <th>pretest_1999</th>\n      <td>-8.182676</td>\n    </tr>\n    <tr>\n      <th>pretest_2000</th>\n      <td>46.041021</td>\n    </tr>\n  </tbody>\n</table>\n<p>2000 rows × 1 columns</p>\n</div>"
     },
     "metadata": {}
    },
    {
     "output_type": "execute_result",
     "execution_count": 32,
     "data": {
      "application/vnd.deepnote.dataframe.v2+json": {
       "row_count": 2000,
       "column_count": 1,
       "columns": [
        {
         "name": "CO2_working_capacity [mL/g]",
         "dtype": "float64",
         "stats": {
          "unique_count": 2000,
          "nan_count": 0,
          "min": "-14.194807772297503",
          "max": "519.9863636672023",
          "histogram": [
           {
            "bin_start": -14.194807772297503,
            "bin_end": 39.22330937165248,
            "count": 491
           },
           {
            "bin_start": 39.22330937165248,
            "bin_end": 92.64142651560246,
            "count": 596
           },
           {
            "bin_start": 92.64142651560246,
            "bin_end": 146.05954365955245,
            "count": 415
           },
           {
            "bin_start": 146.05954365955245,
            "bin_end": 199.47766080350243,
            "count": 220
           },
           {
            "bin_start": 199.47766080350243,
            "bin_end": 252.89577794745242,
            "count": 144
           },
           {
            "bin_start": 252.89577794745242,
            "bin_end": 306.3138950914024,
            "count": 72
           },
           {
            "bin_start": 306.3138950914024,
            "bin_end": 359.7320122353524,
            "count": 29
           },
           {
            "bin_start": 359.7320122353524,
            "bin_end": 413.15012937930237,
            "count": 14
           },
           {
            "bin_start": 413.15012937930237,
            "bin_end": 466.56824652325236,
            "count": 12
           },
           {
            "bin_start": 466.56824652325236,
            "bin_end": 519.9863636672023,
            "count": 7
           }
          ]
         }
        },
        {
         "name": "_deepnote_index_column",
         "dtype": "object"
        }
       ],
       "rows_top": [
        {
         "CO2_working_capacity [mL/g]": 104.64104369033886,
         "_deepnote_index_column": "pretest_1"
        },
        {
         "CO2_working_capacity [mL/g]": 124.93120105396942,
         "_deepnote_index_column": "pretest_2"
        },
        {
         "CO2_working_capacity [mL/g]": 188.59818138536568,
         "_deepnote_index_column": "pretest_3"
        },
        {
         "CO2_working_capacity [mL/g]": 65.43497328596466,
         "_deepnote_index_column": "pretest_4"
        },
        {
         "CO2_working_capacity [mL/g]": 97.97552442520029,
         "_deepnote_index_column": "pretest_5"
        },
        {
         "CO2_working_capacity [mL/g]": 372.80890021139834,
         "_deepnote_index_column": "pretest_6"
        },
        {
         "CO2_working_capacity [mL/g]": 108.36804864422317,
         "_deepnote_index_column": "pretest_7"
        },
        {
         "CO2_working_capacity [mL/g]": 83.35648503927528,
         "_deepnote_index_column": "pretest_8"
        },
        {
         "CO2_working_capacity [mL/g]": 84.07549653934484,
         "_deepnote_index_column": "pretest_9"
        },
        {
         "CO2_working_capacity [mL/g]": 500.7761260554191,
         "_deepnote_index_column": "pretest_10"
        },
        {
         "CO2_working_capacity [mL/g]": 209.84078064724704,
         "_deepnote_index_column": "pretest_11"
        },
        {
         "CO2_working_capacity [mL/g]": 213.1936748320495,
         "_deepnote_index_column": "pretest_12"
        },
        {
         "CO2_working_capacity [mL/g]": 81.63543462955454,
         "_deepnote_index_column": "pretest_13"
        },
        {
         "CO2_working_capacity [mL/g]": 255.8384816217471,
         "_deepnote_index_column": "pretest_14"
        },
        {
         "CO2_working_capacity [mL/g]": 247.15198028755304,
         "_deepnote_index_column": "pretest_15"
        },
        {
         "CO2_working_capacity [mL/g]": 75.55291469239295,
         "_deepnote_index_column": "pretest_16"
        },
        {
         "CO2_working_capacity [mL/g]": 59.35454422568832,
         "_deepnote_index_column": "pretest_17"
        },
        {
         "CO2_working_capacity [mL/g]": 63.25780219642454,
         "_deepnote_index_column": "pretest_18"
        },
        {
         "CO2_working_capacity [mL/g]": 70.80811617739025,
         "_deepnote_index_column": "pretest_19"
        },
        {
         "CO2_working_capacity [mL/g]": 158.2232228320063,
         "_deepnote_index_column": "pretest_20"
        },
        {
         "CO2_working_capacity [mL/g]": 50.77848858423195,
         "_deepnote_index_column": "pretest_21"
        },
        {
         "CO2_working_capacity [mL/g]": 198.55923136537524,
         "_deepnote_index_column": "pretest_22"
        },
        {
         "CO2_working_capacity [mL/g]": 159.96985139418132,
         "_deepnote_index_column": "pretest_23"
        },
        {
         "CO2_working_capacity [mL/g]": 126.26355755569529,
         "_deepnote_index_column": "pretest_24"
        },
        {
         "CO2_working_capacity [mL/g]": 170.54163237520967,
         "_deepnote_index_column": "pretest_25"
        },
        {
         "CO2_working_capacity [mL/g]": 209.37247725926412,
         "_deepnote_index_column": "pretest_26"
        },
        {
         "CO2_working_capacity [mL/g]": 79.17189820577508,
         "_deepnote_index_column": "pretest_27"
        },
        {
         "CO2_working_capacity [mL/g]": 104.26089610429732,
         "_deepnote_index_column": "pretest_28"
        },
        {
         "CO2_working_capacity [mL/g]": 62.53051308551242,
         "_deepnote_index_column": "pretest_29"
        },
        {
         "CO2_working_capacity [mL/g]": 142.9600429089726,
         "_deepnote_index_column": "pretest_30"
        },
        {
         "CO2_working_capacity [mL/g]": 168.64712516698373,
         "_deepnote_index_column": "pretest_31"
        },
        {
         "CO2_working_capacity [mL/g]": 67.74276039755493,
         "_deepnote_index_column": "pretest_32"
        },
        {
         "CO2_working_capacity [mL/g]": 108.79483996024655,
         "_deepnote_index_column": "pretest_33"
        },
        {
         "CO2_working_capacity [mL/g]": 68.12780339127576,
         "_deepnote_index_column": "pretest_34"
        },
        {
         "CO2_working_capacity [mL/g]": 109.33348147424344,
         "_deepnote_index_column": "pretest_35"
        },
        {
         "CO2_working_capacity [mL/g]": 89.7870991493039,
         "_deepnote_index_column": "pretest_36"
        },
        {
         "CO2_working_capacity [mL/g]": 82.16309230658604,
         "_deepnote_index_column": "pretest_37"
        },
        {
         "CO2_working_capacity [mL/g]": 67.66576128154003,
         "_deepnote_index_column": "pretest_38"
        },
        {
         "CO2_working_capacity [mL/g]": 109.76791916864477,
         "_deepnote_index_column": "pretest_39"
        },
        {
         "CO2_working_capacity [mL/g]": 123.29747361502845,
         "_deepnote_index_column": "pretest_40"
        },
        {
         "CO2_working_capacity [mL/g]": 92.03125819213466,
         "_deepnote_index_column": "pretest_41"
        },
        {
         "CO2_working_capacity [mL/g]": 267.7739180917848,
         "_deepnote_index_column": "pretest_42"
        },
        {
         "CO2_working_capacity [mL/g]": 79.98373849779823,
         "_deepnote_index_column": "pretest_43"
        },
        {
         "CO2_working_capacity [mL/g]": 194.66898957597485,
         "_deepnote_index_column": "pretest_44"
        },
        {
         "CO2_working_capacity [mL/g]": 157.42220887166363,
         "_deepnote_index_column": "pretest_45"
        },
        {
         "CO2_working_capacity [mL/g]": 128.95758050096984,
         "_deepnote_index_column": "pretest_46"
        },
        {
         "CO2_working_capacity [mL/g]": 81.73926622664072,
         "_deepnote_index_column": "pretest_47"
        },
        {
         "CO2_working_capacity [mL/g]": 153.47163676493614,
         "_deepnote_index_column": "pretest_48"
        },
        {
         "CO2_working_capacity [mL/g]": 172.03945978237317,
         "_deepnote_index_column": "pretest_49"
        },
        {
         "CO2_working_capacity [mL/g]": 52.6959183946493,
         "_deepnote_index_column": "pretest_50"
        },
        {
         "CO2_working_capacity [mL/g]": 126.15146741497615,
         "_deepnote_index_column": "pretest_51"
        },
        {
         "CO2_working_capacity [mL/g]": 90.75853802422573,
         "_deepnote_index_column": "pretest_52"
        },
        {
         "CO2_working_capacity [mL/g]": 81.26844283230034,
         "_deepnote_index_column": "pretest_53"
        },
        {
         "CO2_working_capacity [mL/g]": 152.95779140947806,
         "_deepnote_index_column": "pretest_54"
        },
        {
         "CO2_working_capacity [mL/g]": 110.87480220025773,
         "_deepnote_index_column": "pretest_55"
        },
        {
         "CO2_working_capacity [mL/g]": 64.16845204241305,
         "_deepnote_index_column": "pretest_56"
        },
        {
         "CO2_working_capacity [mL/g]": 70.76050104237409,
         "_deepnote_index_column": "pretest_57"
        },
        {
         "CO2_working_capacity [mL/g]": 103.37987472088422,
         "_deepnote_index_column": "pretest_58"
        },
        {
         "CO2_working_capacity [mL/g]": 200.1866476089461,
         "_deepnote_index_column": "pretest_59"
        },
        {
         "CO2_working_capacity [mL/g]": 92.02335795414687,
         "_deepnote_index_column": "pretest_60"
        },
        {
         "CO2_working_capacity [mL/g]": 304.70507490147116,
         "_deepnote_index_column": "pretest_61"
        },
        {
         "CO2_working_capacity [mL/g]": 88.57283461690952,
         "_deepnote_index_column": "pretest_62"
        },
        {
         "CO2_working_capacity [mL/g]": 79.90178616162125,
         "_deepnote_index_column": "pretest_63"
        },
        {
         "CO2_working_capacity [mL/g]": 145.85628318620752,
         "_deepnote_index_column": "pretest_64"
        },
        {
         "CO2_working_capacity [mL/g]": 81.23941134235567,
         "_deepnote_index_column": "pretest_65"
        },
        {
         "CO2_working_capacity [mL/g]": 150.40778216950858,
         "_deepnote_index_column": "pretest_66"
        },
        {
         "CO2_working_capacity [mL/g]": 134.92666992098992,
         "_deepnote_index_column": "pretest_67"
        },
        {
         "CO2_working_capacity [mL/g]": 150.78659502494597,
         "_deepnote_index_column": "pretest_68"
        },
        {
         "CO2_working_capacity [mL/g]": 209.30097619023456,
         "_deepnote_index_column": "pretest_69"
        },
        {
         "CO2_working_capacity [mL/g]": 75.93937059795915,
         "_deepnote_index_column": "pretest_70"
        },
        {
         "CO2_working_capacity [mL/g]": 308.47918228250296,
         "_deepnote_index_column": "pretest_71"
        },
        {
         "CO2_working_capacity [mL/g]": 199.24801086883824,
         "_deepnote_index_column": "pretest_72"
        },
        {
         "CO2_working_capacity [mL/g]": 65.49855450731829,
         "_deepnote_index_column": "pretest_73"
        },
        {
         "CO2_working_capacity [mL/g]": 201.4273445300267,
         "_deepnote_index_column": "pretest_74"
        },
        {
         "CO2_working_capacity [mL/g]": 246.54436829533282,
         "_deepnote_index_column": "pretest_75"
        },
        {
         "CO2_working_capacity [mL/g]": 163.28091947681233,
         "_deepnote_index_column": "pretest_76"
        },
        {
         "CO2_working_capacity [mL/g]": 190.73536905786662,
         "_deepnote_index_column": "pretest_77"
        },
        {
         "CO2_working_capacity [mL/g]": 115.3844951588952,
         "_deepnote_index_column": "pretest_78"
        },
        {
         "CO2_working_capacity [mL/g]": 86.24500346098357,
         "_deepnote_index_column": "pretest_79"
        },
        {
         "CO2_working_capacity [mL/g]": 116.09438197699775,
         "_deepnote_index_column": "pretest_80"
        },
        {
         "CO2_working_capacity [mL/g]": 108.79320218745572,
         "_deepnote_index_column": "pretest_81"
        },
        {
         "CO2_working_capacity [mL/g]": 167.69682467547602,
         "_deepnote_index_column": "pretest_82"
        },
        {
         "CO2_working_capacity [mL/g]": 90.06098349988414,
         "_deepnote_index_column": "pretest_83"
        },
        {
         "CO2_working_capacity [mL/g]": 252.4412526392047,
         "_deepnote_index_column": "pretest_84"
        },
        {
         "CO2_working_capacity [mL/g]": 74.21887502074352,
         "_deepnote_index_column": "pretest_85"
        },
        {
         "CO2_working_capacity [mL/g]": 69.82030101308789,
         "_deepnote_index_column": "pretest_86"
        },
        {
         "CO2_working_capacity [mL/g]": 110.04130145364627,
         "_deepnote_index_column": "pretest_87"
        },
        {
         "CO2_working_capacity [mL/g]": 129.6920031997624,
         "_deepnote_index_column": "pretest_88"
        },
        {
         "CO2_working_capacity [mL/g]": 90.89929895309602,
         "_deepnote_index_column": "pretest_89"
        },
        {
         "CO2_working_capacity [mL/g]": 206.18503755421744,
         "_deepnote_index_column": "pretest_90"
        },
        {
         "CO2_working_capacity [mL/g]": 95.3648449791986,
         "_deepnote_index_column": "pretest_91"
        },
        {
         "CO2_working_capacity [mL/g]": 189.86901376429324,
         "_deepnote_index_column": "pretest_92"
        },
        {
         "CO2_working_capacity [mL/g]": 117.46352730030353,
         "_deepnote_index_column": "pretest_93"
        },
        {
         "CO2_working_capacity [mL/g]": 192.2497918240013,
         "_deepnote_index_column": "pretest_94"
        },
        {
         "CO2_working_capacity [mL/g]": 79.39651103117427,
         "_deepnote_index_column": "pretest_95"
        },
        {
         "CO2_working_capacity [mL/g]": 177.1336212864393,
         "_deepnote_index_column": "pretest_96"
        },
        {
         "CO2_working_capacity [mL/g]": 65.11987681716619,
         "_deepnote_index_column": "pretest_97"
        },
        {
         "CO2_working_capacity [mL/g]": 85.24292363864011,
         "_deepnote_index_column": "pretest_98"
        },
        {
         "CO2_working_capacity [mL/g]": 186.49538928261074,
         "_deepnote_index_column": "pretest_99"
        },
        {
         "CO2_working_capacity [mL/g]": 70.52693268650447,
         "_deepnote_index_column": "pretest_100"
        },
        {
         "CO2_working_capacity [mL/g]": 76.2050372336559,
         "_deepnote_index_column": "pretest_101"
        },
        {
         "CO2_working_capacity [mL/g]": 100.10233156218438,
         "_deepnote_index_column": "pretest_102"
        },
        {
         "CO2_working_capacity [mL/g]": 93.38646508558048,
         "_deepnote_index_column": "pretest_103"
        },
        {
         "CO2_working_capacity [mL/g]": 123.65932903712735,
         "_deepnote_index_column": "pretest_104"
        },
        {
         "CO2_working_capacity [mL/g]": 78.74796039805545,
         "_deepnote_index_column": "pretest_105"
        },
        {
         "CO2_working_capacity [mL/g]": 95.43672674697146,
         "_deepnote_index_column": "pretest_106"
        },
        {
         "CO2_working_capacity [mL/g]": 94.05297708512643,
         "_deepnote_index_column": "pretest_107"
        },
        {
         "CO2_working_capacity [mL/g]": 224.64806556369942,
         "_deepnote_index_column": "pretest_108"
        },
        {
         "CO2_working_capacity [mL/g]": 74.05710002798016,
         "_deepnote_index_column": "pretest_109"
        },
        {
         "CO2_working_capacity [mL/g]": 90.66166940380714,
         "_deepnote_index_column": "pretest_110"
        },
        {
         "CO2_working_capacity [mL/g]": 86.23036548662081,
         "_deepnote_index_column": "pretest_111"
        },
        {
         "CO2_working_capacity [mL/g]": 163.45143809316573,
         "_deepnote_index_column": "pretest_112"
        },
        {
         "CO2_working_capacity [mL/g]": 234.82585106426023,
         "_deepnote_index_column": "pretest_113"
        },
        {
         "CO2_working_capacity [mL/g]": 76.00780999888156,
         "_deepnote_index_column": "pretest_114"
        },
        {
         "CO2_working_capacity [mL/g]": 101.14821226580403,
         "_deepnote_index_column": "pretest_115"
        },
        {
         "CO2_working_capacity [mL/g]": 67.06158584413427,
         "_deepnote_index_column": "pretest_116"
        },
        {
         "CO2_working_capacity [mL/g]": 124.39806572435553,
         "_deepnote_index_column": "pretest_117"
        },
        {
         "CO2_working_capacity [mL/g]": 109.13617604644035,
         "_deepnote_index_column": "pretest_118"
        },
        {
         "CO2_working_capacity [mL/g]": 268.46961580060025,
         "_deepnote_index_column": "pretest_119"
        },
        {
         "CO2_working_capacity [mL/g]": 106.4905902833775,
         "_deepnote_index_column": "pretest_120"
        },
        {
         "CO2_working_capacity [mL/g]": 68.70906745520998,
         "_deepnote_index_column": "pretest_121"
        },
        {
         "CO2_working_capacity [mL/g]": 118.7483159179785,
         "_deepnote_index_column": "pretest_122"
        },
        {
         "CO2_working_capacity [mL/g]": 112.94173688153457,
         "_deepnote_index_column": "pretest_123"
        },
        {
         "CO2_working_capacity [mL/g]": 104.72592472332506,
         "_deepnote_index_column": "pretest_124"
        },
        {
         "CO2_working_capacity [mL/g]": 183.72884550984136,
         "_deepnote_index_column": "pretest_125"
        },
        {
         "CO2_working_capacity [mL/g]": 48.239421050842964,
         "_deepnote_index_column": "pretest_126"
        },
        {
         "CO2_working_capacity [mL/g]": 128.99730051950465,
         "_deepnote_index_column": "pretest_127"
        },
        {
         "CO2_working_capacity [mL/g]": 162.58572583326236,
         "_deepnote_index_column": "pretest_128"
        },
        {
         "CO2_working_capacity [mL/g]": 75.16242366027089,
         "_deepnote_index_column": "pretest_129"
        },
        {
         "CO2_working_capacity [mL/g]": 147.81883993117663,
         "_deepnote_index_column": "pretest_130"
        },
        {
         "CO2_working_capacity [mL/g]": 188.39603136050334,
         "_deepnote_index_column": "pretest_131"
        },
        {
         "CO2_working_capacity [mL/g]": 67.59766028747096,
         "_deepnote_index_column": "pretest_132"
        },
        {
         "CO2_working_capacity [mL/g]": 278.9274254903761,
         "_deepnote_index_column": "pretest_133"
        },
        {
         "CO2_working_capacity [mL/g]": 80.70816278444475,
         "_deepnote_index_column": "pretest_134"
        },
        {
         "CO2_working_capacity [mL/g]": 224.27690516524896,
         "_deepnote_index_column": "pretest_135"
        },
        {
         "CO2_working_capacity [mL/g]": 236.32184690731137,
         "_deepnote_index_column": "pretest_136"
        },
        {
         "CO2_working_capacity [mL/g]": 220.33358279051805,
         "_deepnote_index_column": "pretest_137"
        },
        {
         "CO2_working_capacity [mL/g]": 134.44156107470434,
         "_deepnote_index_column": "pretest_138"
        },
        {
         "CO2_working_capacity [mL/g]": 87.82437130689296,
         "_deepnote_index_column": "pretest_139"
        },
        {
         "CO2_working_capacity [mL/g]": 64.62425933865482,
         "_deepnote_index_column": "pretest_140"
        },
        {
         "CO2_working_capacity [mL/g]": 114.73274327769317,
         "_deepnote_index_column": "pretest_141"
        },
        {
         "CO2_working_capacity [mL/g]": 64.02755659678901,
         "_deepnote_index_column": "pretest_142"
        },
        {
         "CO2_working_capacity [mL/g]": 80.87401991263667,
         "_deepnote_index_column": "pretest_143"
        },
        {
         "CO2_working_capacity [mL/g]": 78.15934875070036,
         "_deepnote_index_column": "pretest_144"
        },
        {
         "CO2_working_capacity [mL/g]": 61.09873760519511,
         "_deepnote_index_column": "pretest_145"
        },
        {
         "CO2_working_capacity [mL/g]": 89.42425885710523,
         "_deepnote_index_column": "pretest_146"
        },
        {
         "CO2_working_capacity [mL/g]": 93.04328074852427,
         "_deepnote_index_column": "pretest_147"
        },
        {
         "CO2_working_capacity [mL/g]": 189.07949333892765,
         "_deepnote_index_column": "pretest_148"
        },
        {
         "CO2_working_capacity [mL/g]": 140.41967744598045,
         "_deepnote_index_column": "pretest_149"
        },
        {
         "CO2_working_capacity [mL/g]": 133.83761638721728,
         "_deepnote_index_column": "pretest_150"
        },
        {
         "CO2_working_capacity [mL/g]": 81.00553238445255,
         "_deepnote_index_column": "pretest_151"
        },
        {
         "CO2_working_capacity [mL/g]": 153.5502078975266,
         "_deepnote_index_column": "pretest_152"
        },
        {
         "CO2_working_capacity [mL/g]": 91.40481092893506,
         "_deepnote_index_column": "pretest_153"
        },
        {
         "CO2_working_capacity [mL/g]": 74.1386969585203,
         "_deepnote_index_column": "pretest_154"
        },
        {
         "CO2_working_capacity [mL/g]": 471.10824133445124,
         "_deepnote_index_column": "pretest_155"
        },
        {
         "CO2_working_capacity [mL/g]": 251.7737346587676,
         "_deepnote_index_column": "pretest_156"
        },
        {
         "CO2_working_capacity [mL/g]": 66.71164288883124,
         "_deepnote_index_column": "pretest_157"
        },
        {
         "CO2_working_capacity [mL/g]": 144.72786635188314,
         "_deepnote_index_column": "pretest_158"
        },
        {
         "CO2_working_capacity [mL/g]": 107.03889585524355,
         "_deepnote_index_column": "pretest_159"
        },
        {
         "CO2_working_capacity [mL/g]": 201.24886461241607,
         "_deepnote_index_column": "pretest_160"
        },
        {
         "CO2_working_capacity [mL/g]": 149.7905684916028,
         "_deepnote_index_column": "pretest_161"
        },
        {
         "CO2_working_capacity [mL/g]": 106.92176578284558,
         "_deepnote_index_column": "pretest_162"
        },
        {
         "CO2_working_capacity [mL/g]": 97.4984105572808,
         "_deepnote_index_column": "pretest_163"
        },
        {
         "CO2_working_capacity [mL/g]": 106.59862869962014,
         "_deepnote_index_column": "pretest_164"
        },
        {
         "CO2_working_capacity [mL/g]": 116.51156874518621,
         "_deepnote_index_column": "pretest_165"
        },
        {
         "CO2_working_capacity [mL/g]": 260.68444107807136,
         "_deepnote_index_column": "pretest_166"
        },
        {
         "CO2_working_capacity [mL/g]": 340.5676163226766,
         "_deepnote_index_column": "pretest_167"
        },
        {
         "CO2_working_capacity [mL/g]": 235.90758709129352,
         "_deepnote_index_column": "pretest_168"
        },
        {
         "CO2_working_capacity [mL/g]": 77.90994429640622,
         "_deepnote_index_column": "pretest_169"
        },
        {
         "CO2_working_capacity [mL/g]": 268.04612395104687,
         "_deepnote_index_column": "pretest_170"
        },
        {
         "CO2_working_capacity [mL/g]": 195.52678501547086,
         "_deepnote_index_column": "pretest_171"
        },
        {
         "CO2_working_capacity [mL/g]": 109.52296178314933,
         "_deepnote_index_column": "pretest_172"
        },
        {
         "CO2_working_capacity [mL/g]": 87.74381224030016,
         "_deepnote_index_column": "pretest_173"
        },
        {
         "CO2_working_capacity [mL/g]": 131.08853465701043,
         "_deepnote_index_column": "pretest_174"
        },
        {
         "CO2_working_capacity [mL/g]": 197.01223963551,
         "_deepnote_index_column": "pretest_175"
        },
        {
         "CO2_working_capacity [mL/g]": 119.11330631079045,
         "_deepnote_index_column": "pretest_176"
        },
        {
         "CO2_working_capacity [mL/g]": 86.5404316608869,
         "_deepnote_index_column": "pretest_177"
        },
        {
         "CO2_working_capacity [mL/g]": 59.7976472462808,
         "_deepnote_index_column": "pretest_178"
        },
        {
         "CO2_working_capacity [mL/g]": 143.77850163837525,
         "_deepnote_index_column": "pretest_179"
        },
        {
         "CO2_working_capacity [mL/g]": 82.05561121106513,
         "_deepnote_index_column": "pretest_180"
        },
        {
         "CO2_working_capacity [mL/g]": 77.23065339763441,
         "_deepnote_index_column": "pretest_181"
        },
        {
         "CO2_working_capacity [mL/g]": 60.36733875818884,
         "_deepnote_index_column": "pretest_182"
        },
        {
         "CO2_working_capacity [mL/g]": 101.85175300236142,
         "_deepnote_index_column": "pretest_183"
        },
        {
         "CO2_working_capacity [mL/g]": 149.0624223945856,
         "_deepnote_index_column": "pretest_184"
        },
        {
         "CO2_working_capacity [mL/g]": 91.90362489611081,
         "_deepnote_index_column": "pretest_185"
        },
        {
         "CO2_working_capacity [mL/g]": 82.36466068731366,
         "_deepnote_index_column": "pretest_186"
        },
        {
         "CO2_working_capacity [mL/g]": 86.67346914733135,
         "_deepnote_index_column": "pretest_187"
        },
        {
         "CO2_working_capacity [mL/g]": 67.44864329878797,
         "_deepnote_index_column": "pretest_188"
        },
        {
         "CO2_working_capacity [mL/g]": 111.3909190290036,
         "_deepnote_index_column": "pretest_189"
        },
        {
         "CO2_working_capacity [mL/g]": 115.36152773401817,
         "_deepnote_index_column": "pretest_190"
        },
        {
         "CO2_working_capacity [mL/g]": 87.07933916609342,
         "_deepnote_index_column": "pretest_191"
        },
        {
         "CO2_working_capacity [mL/g]": 74.84980829443674,
         "_deepnote_index_column": "pretest_192"
        },
        {
         "CO2_working_capacity [mL/g]": 83.12289184454846,
         "_deepnote_index_column": "pretest_193"
        },
        {
         "CO2_working_capacity [mL/g]": 126.09539924103552,
         "_deepnote_index_column": "pretest_194"
        },
        {
         "CO2_working_capacity [mL/g]": 121.01571561206465,
         "_deepnote_index_column": "pretest_195"
        },
        {
         "CO2_working_capacity [mL/g]": 69.63833589919534,
         "_deepnote_index_column": "pretest_196"
        },
        {
         "CO2_working_capacity [mL/g]": 215.07214426313155,
         "_deepnote_index_column": "pretest_197"
        },
        {
         "CO2_working_capacity [mL/g]": 49.13867013925087,
         "_deepnote_index_column": "pretest_198"
        },
        {
         "CO2_working_capacity [mL/g]": 60.28197224452372,
         "_deepnote_index_column": "pretest_199"
        },
        {
         "CO2_working_capacity [mL/g]": 111.36230820404104,
         "_deepnote_index_column": "pretest_200"
        },
        {
         "CO2_working_capacity [mL/g]": 126.81848103369876,
         "_deepnote_index_column": "pretest_201"
        },
        {
         "CO2_working_capacity [mL/g]": 145.61418078758913,
         "_deepnote_index_column": "pretest_202"
        },
        {
         "CO2_working_capacity [mL/g]": 37.441043893540815,
         "_deepnote_index_column": "pretest_203"
        },
        {
         "CO2_working_capacity [mL/g]": 68.86708427133816,
         "_deepnote_index_column": "pretest_204"
        },
        {
         "CO2_working_capacity [mL/g]": 120.82891706067015,
         "_deepnote_index_column": "pretest_205"
        },
        {
         "CO2_working_capacity [mL/g]": 100.01354658410966,
         "_deepnote_index_column": "pretest_206"
        },
        {
         "CO2_working_capacity [mL/g]": 61.54404050326215,
         "_deepnote_index_column": "pretest_207"
        },
        {
         "CO2_working_capacity [mL/g]": 180.70160548300044,
         "_deepnote_index_column": "pretest_208"
        },
        {
         "CO2_working_capacity [mL/g]": 72.65059209718838,
         "_deepnote_index_column": "pretest_209"
        },
        {
         "CO2_working_capacity [mL/g]": 177.64660711553842,
         "_deepnote_index_column": "pretest_210"
        },
        {
         "CO2_working_capacity [mL/g]": 64.7110611567043,
         "_deepnote_index_column": "pretest_211"
        },
        {
         "CO2_working_capacity [mL/g]": 131.79239617201586,
         "_deepnote_index_column": "pretest_212"
        },
        {
         "CO2_working_capacity [mL/g]": 185.94993194524614,
         "_deepnote_index_column": "pretest_213"
        },
        {
         "CO2_working_capacity [mL/g]": 134.87667636122885,
         "_deepnote_index_column": "pretest_214"
        },
        {
         "CO2_working_capacity [mL/g]": 87.53836323331684,
         "_deepnote_index_column": "pretest_215"
        },
        {
         "CO2_working_capacity [mL/g]": 113.14764218129272,
         "_deepnote_index_column": "pretest_216"
        },
        {
         "CO2_working_capacity [mL/g]": 89.57980703802593,
         "_deepnote_index_column": "pretest_217"
        },
        {
         "CO2_working_capacity [mL/g]": 98.20022470013768,
         "_deepnote_index_column": "pretest_218"
        },
        {
         "CO2_working_capacity [mL/g]": 148.15033074445648,
         "_deepnote_index_column": "pretest_219"
        },
        {
         "CO2_working_capacity [mL/g]": 67.42392603293756,
         "_deepnote_index_column": "pretest_220"
        },
        {
         "CO2_working_capacity [mL/g]": 89.24392873507115,
         "_deepnote_index_column": "pretest_221"
        },
        {
         "CO2_working_capacity [mL/g]": 204.7920503409237,
         "_deepnote_index_column": "pretest_222"
        },
        {
         "CO2_working_capacity [mL/g]": 99.92625701616491,
         "_deepnote_index_column": "pretest_223"
        },
        {
         "CO2_working_capacity [mL/g]": 99.08213664095742,
         "_deepnote_index_column": "pretest_224"
        },
        {
         "CO2_working_capacity [mL/g]": 77.55912746233535,
         "_deepnote_index_column": "pretest_225"
        },
        {
         "CO2_working_capacity [mL/g]": 127.92064828064278,
         "_deepnote_index_column": "pretest_226"
        },
        {
         "CO2_working_capacity [mL/g]": 98.8552732896592,
         "_deepnote_index_column": "pretest_227"
        },
        {
         "CO2_working_capacity [mL/g]": 75.1268139461612,
         "_deepnote_index_column": "pretest_228"
        },
        {
         "CO2_working_capacity [mL/g]": 292.47159934620623,
         "_deepnote_index_column": "pretest_229"
        },
        {
         "CO2_working_capacity [mL/g]": 165.04319785049995,
         "_deepnote_index_column": "pretest_230"
        },
        {
         "CO2_working_capacity [mL/g]": 70.37353580041925,
         "_deepnote_index_column": "pretest_231"
        },
        {
         "CO2_working_capacity [mL/g]": 104.4529993161514,
         "_deepnote_index_column": "pretest_232"
        },
        {
         "CO2_working_capacity [mL/g]": 71.8889974925673,
         "_deepnote_index_column": "pretest_233"
        },
        {
         "CO2_working_capacity [mL/g]": 75.4126447559838,
         "_deepnote_index_column": "pretest_234"
        },
        {
         "CO2_working_capacity [mL/g]": 116.10695253277483,
         "_deepnote_index_column": "pretest_235"
        },
        {
         "CO2_working_capacity [mL/g]": 207.81308009951027,
         "_deepnote_index_column": "pretest_236"
        },
        {
         "CO2_working_capacity [mL/g]": 102.44830148995511,
         "_deepnote_index_column": "pretest_237"
        },
        {
         "CO2_working_capacity [mL/g]": 71.32876081909404,
         "_deepnote_index_column": "pretest_238"
        },
        {
         "CO2_working_capacity [mL/g]": 157.87531594468086,
         "_deepnote_index_column": "pretest_239"
        },
        {
         "CO2_working_capacity [mL/g]": 122.82407582157379,
         "_deepnote_index_column": "pretest_240"
        },
        {
         "CO2_working_capacity [mL/g]": 93.87033199311158,
         "_deepnote_index_column": "pretest_241"
        },
        {
         "CO2_working_capacity [mL/g]": 189.4209443324023,
         "_deepnote_index_column": "pretest_242"
        },
        {
         "CO2_working_capacity [mL/g]": 199.59105203527156,
         "_deepnote_index_column": "pretest_243"
        },
        {
         "CO2_working_capacity [mL/g]": 86.16720438667296,
         "_deepnote_index_column": "pretest_244"
        },
        {
         "CO2_working_capacity [mL/g]": 103.30672807219713,
         "_deepnote_index_column": "pretest_245"
        },
        {
         "CO2_working_capacity [mL/g]": 61.0851874619119,
         "_deepnote_index_column": "pretest_246"
        },
        {
         "CO2_working_capacity [mL/g]": 88.2091609322267,
         "_deepnote_index_column": "pretest_247"
        },
        {
         "CO2_working_capacity [mL/g]": 72.33694136065691,
         "_deepnote_index_column": "pretest_248"
        },
        {
         "CO2_working_capacity [mL/g]": 176.05210998900077,
         "_deepnote_index_column": "pretest_249"
        },
        {
         "CO2_working_capacity [mL/g]": 134.3769193616185,
         "_deepnote_index_column": "pretest_250"
        },
        {
         "CO2_working_capacity [mL/g]": 135.09802508296093,
         "_deepnote_index_column": "pretest_251"
        },
        {
         "CO2_working_capacity [mL/g]": 289.439277414205,
         "_deepnote_index_column": "pretest_252"
        },
        {
         "CO2_working_capacity [mL/g]": 286.9911191619,
         "_deepnote_index_column": "pretest_253"
        },
        {
         "CO2_working_capacity [mL/g]": 199.90581601944046,
         "_deepnote_index_column": "pretest_254"
        },
        {
         "CO2_working_capacity [mL/g]": 283.06750193912904,
         "_deepnote_index_column": "pretest_255"
        },
        {
         "CO2_working_capacity [mL/g]": 259.9592550181414,
         "_deepnote_index_column": "pretest_256"
        },
        {
         "CO2_working_capacity [mL/g]": 161.6111820084709,
         "_deepnote_index_column": "pretest_257"
        },
        {
         "CO2_working_capacity [mL/g]": 152.10056347044508,
         "_deepnote_index_column": "pretest_258"
        },
        {
         "CO2_working_capacity [mL/g]": 421.1227060004101,
         "_deepnote_index_column": "pretest_259"
        },
        {
         "CO2_working_capacity [mL/g]": 186.62282239473188,
         "_deepnote_index_column": "pretest_260"
        },
        {
         "CO2_working_capacity [mL/g]": 72.75429593769424,
         "_deepnote_index_column": "pretest_261"
        },
        {
         "CO2_working_capacity [mL/g]": 76.56302357266654,
         "_deepnote_index_column": "pretest_262"
        },
        {
         "CO2_working_capacity [mL/g]": 175.87734073885449,
         "_deepnote_index_column": "pretest_263"
        },
        {
         "CO2_working_capacity [mL/g]": 113.75282075872956,
         "_deepnote_index_column": "pretest_264"
        },
        {
         "CO2_working_capacity [mL/g]": 180.66271951207364,
         "_deepnote_index_column": "pretest_265"
        },
        {
         "CO2_working_capacity [mL/g]": 102.73500949821046,
         "_deepnote_index_column": "pretest_266"
        },
        {
         "CO2_working_capacity [mL/g]": 257.20982276398564,
         "_deepnote_index_column": "pretest_267"
        },
        {
         "CO2_working_capacity [mL/g]": 74.53451807485794,
         "_deepnote_index_column": "pretest_268"
        },
        {
         "CO2_working_capacity [mL/g]": 61.52025146075358,
         "_deepnote_index_column": "pretest_269"
        },
        {
         "CO2_working_capacity [mL/g]": 123.42286130091395,
         "_deepnote_index_column": "pretest_270"
        },
        {
         "CO2_working_capacity [mL/g]": 108.56321116671212,
         "_deepnote_index_column": "pretest_271"
        },
        {
         "CO2_working_capacity [mL/g]": 106.23659907899359,
         "_deepnote_index_column": "pretest_272"
        },
        {
         "CO2_working_capacity [mL/g]": 101.36853795944658,
         "_deepnote_index_column": "pretest_273"
        },
        {
         "CO2_working_capacity [mL/g]": 60.73363067761216,
         "_deepnote_index_column": "pretest_274"
        },
        {
         "CO2_working_capacity [mL/g]": 78.57276654608764,
         "_deepnote_index_column": "pretest_275"
        },
        {
         "CO2_working_capacity [mL/g]": 136.3886841916458,
         "_deepnote_index_column": "pretest_276"
        },
        {
         "CO2_working_capacity [mL/g]": 75.64010345514956,
         "_deepnote_index_column": "pretest_277"
        },
        {
         "CO2_working_capacity [mL/g]": 149.94564972321515,
         "_deepnote_index_column": "pretest_278"
        },
        {
         "CO2_working_capacity [mL/g]": 239.99052317895476,
         "_deepnote_index_column": "pretest_279"
        },
        {
         "CO2_working_capacity [mL/g]": 92.44695230410356,
         "_deepnote_index_column": "pretest_280"
        },
        {
         "CO2_working_capacity [mL/g]": 431.7296977861765,
         "_deepnote_index_column": "pretest_281"
        },
        {
         "CO2_working_capacity [mL/g]": 145.33589787428144,
         "_deepnote_index_column": "pretest_282"
        },
        {
         "CO2_working_capacity [mL/g]": 183.3958249111313,
         "_deepnote_index_column": "pretest_283"
        },
        {
         "CO2_working_capacity [mL/g]": 109.94995639711004,
         "_deepnote_index_column": "pretest_284"
        },
        {
         "CO2_working_capacity [mL/g]": 93.87056215355504,
         "_deepnote_index_column": "pretest_285"
        },
        {
         "CO2_working_capacity [mL/g]": 75.18775508350087,
         "_deepnote_index_column": "pretest_286"
        },
        {
         "CO2_working_capacity [mL/g]": 143.01712919462742,
         "_deepnote_index_column": "pretest_287"
        },
        {
         "CO2_working_capacity [mL/g]": 49.10200948896512,
         "_deepnote_index_column": "pretest_288"
        },
        {
         "CO2_working_capacity [mL/g]": 133.15434206351586,
         "_deepnote_index_column": "pretest_289"
        },
        {
         "CO2_working_capacity [mL/g]": 192.01190648307073,
         "_deepnote_index_column": "pretest_290"
        },
        {
         "CO2_working_capacity [mL/g]": 188.06776926837045,
         "_deepnote_index_column": "pretest_291"
        },
        {
         "CO2_working_capacity [mL/g]": 184.80814422629305,
         "_deepnote_index_column": "pretest_292"
        },
        {
         "CO2_working_capacity [mL/g]": 89.52141371280135,
         "_deepnote_index_column": "pretest_293"
        },
        {
         "CO2_working_capacity [mL/g]": 274.6659518535595,
         "_deepnote_index_column": "pretest_294"
        },
        {
         "CO2_working_capacity [mL/g]": 63.389479416046505,
         "_deepnote_index_column": "pretest_295"
        },
        {
         "CO2_working_capacity [mL/g]": 343.0426406982092,
         "_deepnote_index_column": "pretest_296"
        },
        {
         "CO2_working_capacity [mL/g]": 68.20439412501105,
         "_deepnote_index_column": "pretest_297"
        },
        {
         "CO2_working_capacity [mL/g]": 158.61572358635675,
         "_deepnote_index_column": "pretest_298"
        },
        {
         "CO2_working_capacity [mL/g]": 210.669138623891,
         "_deepnote_index_column": "pretest_299"
        },
        {
         "CO2_working_capacity [mL/g]": 56.55932965884406,
         "_deepnote_index_column": "pretest_300"
        },
        {
         "CO2_working_capacity [mL/g]": 177.1066744306516,
         "_deepnote_index_column": "pretest_301"
        },
        {
         "CO2_working_capacity [mL/g]": 112.79353321814621,
         "_deepnote_index_column": "pretest_302"
        },
        {
         "CO2_working_capacity [mL/g]": 76.16957653766886,
         "_deepnote_index_column": "pretest_303"
        },
        {
         "CO2_working_capacity [mL/g]": 324.9352464519815,
         "_deepnote_index_column": "pretest_304"
        },
        {
         "CO2_working_capacity [mL/g]": 120.55234447051127,
         "_deepnote_index_column": "pretest_305"
        },
        {
         "CO2_working_capacity [mL/g]": 232.51934004012313,
         "_deepnote_index_column": "pretest_306"
        },
        {
         "CO2_working_capacity [mL/g]": 50.83068201603894,
         "_deepnote_index_column": "pretest_307"
        },
        {
         "CO2_working_capacity [mL/g]": 114.51745858656848,
         "_deepnote_index_column": "pretest_308"
        },
        {
         "CO2_working_capacity [mL/g]": 173.53878679600112,
         "_deepnote_index_column": "pretest_309"
        },
        {
         "CO2_working_capacity [mL/g]": 112.97165923602829,
         "_deepnote_index_column": "pretest_310"
        },
        {
         "CO2_working_capacity [mL/g]": 113.75935572690601,
         "_deepnote_index_column": "pretest_311"
        },
        {
         "CO2_working_capacity [mL/g]": 61.06203179492135,
         "_deepnote_index_column": "pretest_312"
        },
        {
         "CO2_working_capacity [mL/g]": 108.81727782513565,
         "_deepnote_index_column": "pretest_313"
        },
        {
         "CO2_working_capacity [mL/g]": 72.35712405209637,
         "_deepnote_index_column": "pretest_314"
        },
        {
         "CO2_working_capacity [mL/g]": 194.06699437711725,
         "_deepnote_index_column": "pretest_315"
        },
        {
         "CO2_working_capacity [mL/g]": 127.5884991839875,
         "_deepnote_index_column": "pretest_316"
        },
        {
         "CO2_working_capacity [mL/g]": 97.24543413397966,
         "_deepnote_index_column": "pretest_317"
        },
        {
         "CO2_working_capacity [mL/g]": 86.58406027476663,
         "_deepnote_index_column": "pretest_318"
        },
        {
         "CO2_working_capacity [mL/g]": 85.39027905943799,
         "_deepnote_index_column": "pretest_319"
        },
        {
         "CO2_working_capacity [mL/g]": 159.3255853349081,
         "_deepnote_index_column": "pretest_320"
        },
        {
         "CO2_working_capacity [mL/g]": 133.14959427741223,
         "_deepnote_index_column": "pretest_321"
        },
        {
         "CO2_working_capacity [mL/g]": 103.78166049115163,
         "_deepnote_index_column": "pretest_322"
        },
        {
         "CO2_working_capacity [mL/g]": 143.330476797959,
         "_deepnote_index_column": "pretest_323"
        },
        {
         "CO2_working_capacity [mL/g]": 78.27112211226292,
         "_deepnote_index_column": "pretest_324"
        },
        {
         "CO2_working_capacity [mL/g]": 125.52470849293812,
         "_deepnote_index_column": "pretest_325"
        },
        {
         "CO2_working_capacity [mL/g]": 153.58665696118825,
         "_deepnote_index_column": "pretest_326"
        },
        {
         "CO2_working_capacity [mL/g]": 123.84181136307085,
         "_deepnote_index_column": "pretest_327"
        },
        {
         "CO2_working_capacity [mL/g]": 63.478711969825696,
         "_deepnote_index_column": "pretest_328"
        },
        {
         "CO2_working_capacity [mL/g]": 77.7000059312795,
         "_deepnote_index_column": "pretest_329"
        },
        {
         "CO2_working_capacity [mL/g]": 64.49392898369155,
         "_deepnote_index_column": "pretest_330"
        },
        {
         "CO2_working_capacity [mL/g]": 203.5102342787244,
         "_deepnote_index_column": "pretest_331"
        },
        {
         "CO2_working_capacity [mL/g]": 116.34625263667574,
         "_deepnote_index_column": "pretest_332"
        },
        {
         "CO2_working_capacity [mL/g]": 115.93546143848232,
         "_deepnote_index_column": "pretest_333"
        },
        {
         "CO2_working_capacity [mL/g]": 76.4007712571586,
         "_deepnote_index_column": "pretest_334"
        },
        {
         "CO2_working_capacity [mL/g]": 90.27646636323502,
         "_deepnote_index_column": "pretest_335"
        },
        {
         "CO2_working_capacity [mL/g]": 128.81760816514642,
         "_deepnote_index_column": "pretest_336"
        },
        {
         "CO2_working_capacity [mL/g]": 105.54914613445544,
         "_deepnote_index_column": "pretest_337"
        },
        {
         "CO2_working_capacity [mL/g]": 226.1727781576015,
         "_deepnote_index_column": "pretest_338"
        },
        {
         "CO2_working_capacity [mL/g]": 431.2416214066371,
         "_deepnote_index_column": "pretest_339"
        },
        {
         "CO2_working_capacity [mL/g]": 184.22377548774068,
         "_deepnote_index_column": "pretest_340"
        },
        {
         "CO2_working_capacity [mL/g]": 67.77477323188766,
         "_deepnote_index_column": "pretest_341"
        },
        {
         "CO2_working_capacity [mL/g]": 80.51167612844077,
         "_deepnote_index_column": "pretest_342"
        },
        {
         "CO2_working_capacity [mL/g]": 125.05761476632861,
         "_deepnote_index_column": "pretest_343"
        },
        {
         "CO2_working_capacity [mL/g]": 172.9850066456671,
         "_deepnote_index_column": "pretest_344"
        },
        {
         "CO2_working_capacity [mL/g]": 423.0795160632086,
         "_deepnote_index_column": "pretest_345"
        },
        {
         "CO2_working_capacity [mL/g]": 152.99948633709565,
         "_deepnote_index_column": "pretest_346"
        },
        {
         "CO2_working_capacity [mL/g]": 222.6976567668413,
         "_deepnote_index_column": "pretest_347"
        },
        {
         "CO2_working_capacity [mL/g]": 296.11960279667494,
         "_deepnote_index_column": "pretest_348"
        },
        {
         "CO2_working_capacity [mL/g]": 77.04308898788449,
         "_deepnote_index_column": "pretest_349"
        },
        {
         "CO2_working_capacity [mL/g]": 246.27391161602384,
         "_deepnote_index_column": "pretest_350"
        },
        {
         "CO2_working_capacity [mL/g]": 94.29851061623619,
         "_deepnote_index_column": "pretest_351"
        },
        {
         "CO2_working_capacity [mL/g]": 68.89040203975539,
         "_deepnote_index_column": "pretest_352"
        },
        {
         "CO2_working_capacity [mL/g]": 94.53286651690877,
         "_deepnote_index_column": "pretest_353"
        },
        {
         "CO2_working_capacity [mL/g]": 91.67757716691438,
         "_deepnote_index_column": "pretest_354"
        },
        {
         "CO2_working_capacity [mL/g]": 61.99534212037471,
         "_deepnote_index_column": "pretest_355"
        },
        {
         "CO2_working_capacity [mL/g]": 148.48416235976117,
         "_deepnote_index_column": "pretest_356"
        },
        {
         "CO2_working_capacity [mL/g]": 167.12764127085129,
         "_deepnote_index_column": "pretest_357"
        },
        {
         "CO2_working_capacity [mL/g]": 75.85110054366196,
         "_deepnote_index_column": "pretest_358"
        },
        {
         "CO2_working_capacity [mL/g]": 75.11983753276725,
         "_deepnote_index_column": "pretest_359"
        },
        {
         "CO2_working_capacity [mL/g]": 519.9863636672023,
         "_deepnote_index_column": "pretest_360"
        },
        {
         "CO2_working_capacity [mL/g]": 97.63533990469274,
         "_deepnote_index_column": "pretest_361"
        },
        {
         "CO2_working_capacity [mL/g]": 60.00350351292745,
         "_deepnote_index_column": "pretest_362"
        },
        {
         "CO2_working_capacity [mL/g]": 252.9713034857441,
         "_deepnote_index_column": "pretest_363"
        },
        {
         "CO2_working_capacity [mL/g]": 84.51858661508705,
         "_deepnote_index_column": "pretest_364"
        },
        {
         "CO2_working_capacity [mL/g]": 92.37711420740351,
         "_deepnote_index_column": "pretest_365"
        },
        {
         "CO2_working_capacity [mL/g]": 190.7182720015362,
         "_deepnote_index_column": "pretest_366"
        },
        {
         "CO2_working_capacity [mL/g]": 444.37991755783196,
         "_deepnote_index_column": "pretest_367"
        },
        {
         "CO2_working_capacity [mL/g]": 257.0524982798584,
         "_deepnote_index_column": "pretest_368"
        },
        {
         "CO2_working_capacity [mL/g]": 74.82499736663497,
         "_deepnote_index_column": "pretest_369"
        },
        {
         "CO2_working_capacity [mL/g]": 303.91021955381143,
         "_deepnote_index_column": "pretest_370"
        },
        {
         "CO2_working_capacity [mL/g]": 177.91914842833728,
         "_deepnote_index_column": "pretest_371"
        },
        {
         "CO2_working_capacity [mL/g]": 115.0285232622665,
         "_deepnote_index_column": "pretest_372"
        },
        {
         "CO2_working_capacity [mL/g]": 264.17103572526577,
         "_deepnote_index_column": "pretest_373"
        },
        {
         "CO2_working_capacity [mL/g]": 100.88980057065373,
         "_deepnote_index_column": "pretest_374"
        },
        {
         "CO2_working_capacity [mL/g]": 59.25846063725941,
         "_deepnote_index_column": "pretest_375"
        },
        {
         "CO2_working_capacity [mL/g]": 96.31216796093214,
         "_deepnote_index_column": "pretest_376"
        },
        {
         "CO2_working_capacity [mL/g]": 148.9965307325473,
         "_deepnote_index_column": "pretest_377"
        },
        {
         "CO2_working_capacity [mL/g]": 270.608011635067,
         "_deepnote_index_column": "pretest_378"
        },
        {
         "CO2_working_capacity [mL/g]": 57.1769536878338,
         "_deepnote_index_column": "pretest_379"
        },
        {
         "CO2_working_capacity [mL/g]": 167.60065338644944,
         "_deepnote_index_column": "pretest_380"
        },
        {
         "CO2_working_capacity [mL/g]": 48.78683948151444,
         "_deepnote_index_column": "pretest_381"
        },
        {
         "CO2_working_capacity [mL/g]": 266.6218943551436,
         "_deepnote_index_column": "pretest_382"
        },
        {
         "CO2_working_capacity [mL/g]": 352.9872773337013,
         "_deepnote_index_column": "pretest_383"
        },
        {
         "CO2_working_capacity [mL/g]": 96.86432646526104,
         "_deepnote_index_column": "pretest_384"
        },
        {
         "CO2_working_capacity [mL/g]": 81.92863338852186,
         "_deepnote_index_column": "pretest_385"
        },
        {
         "CO2_working_capacity [mL/g]": 70.84077748495973,
         "_deepnote_index_column": "pretest_386"
        },
        {
         "CO2_working_capacity [mL/g]": 188.05255707886326,
         "_deepnote_index_column": "pretest_387"
        },
        {
         "CO2_working_capacity [mL/g]": 183.6949208718204,
         "_deepnote_index_column": "pretest_388"
        },
        {
         "CO2_working_capacity [mL/g]": 198.97252730801995,
         "_deepnote_index_column": "pretest_389"
        },
        {
         "CO2_working_capacity [mL/g]": 108.41287765958305,
         "_deepnote_index_column": "pretest_390"
        },
        {
         "CO2_working_capacity [mL/g]": 72.26383792745033,
         "_deepnote_index_column": "pretest_391"
        },
        {
         "CO2_working_capacity [mL/g]": 85.80397868178353,
         "_deepnote_index_column": "pretest_392"
        },
        {
         "CO2_working_capacity [mL/g]": 217.4509486665564,
         "_deepnote_index_column": "pretest_393"
        },
        {
         "CO2_working_capacity [mL/g]": 224.98469584739658,
         "_deepnote_index_column": "pretest_394"
        },
        {
         "CO2_working_capacity [mL/g]": 248.60529366904652,
         "_deepnote_index_column": "pretest_395"
        },
        {
         "CO2_working_capacity [mL/g]": 97.87086127435869,
         "_deepnote_index_column": "pretest_396"
        },
        {
         "CO2_working_capacity [mL/g]": 103.30740283120343,
         "_deepnote_index_column": "pretest_397"
        },
        {
         "CO2_working_capacity [mL/g]": 222.01897797802766,
         "_deepnote_index_column": "pretest_398"
        },
        {
         "CO2_working_capacity [mL/g]": 99.25887578451913,
         "_deepnote_index_column": "pretest_399"
        },
        {
         "CO2_working_capacity [mL/g]": 146.25743965288515,
         "_deepnote_index_column": "pretest_400"
        },
        {
         "CO2_working_capacity [mL/g]": 111.42198780163271,
         "_deepnote_index_column": "pretest_401"
        },
        {
         "CO2_working_capacity [mL/g]": 72.37780563876493,
         "_deepnote_index_column": "pretest_402"
        },
        {
         "CO2_working_capacity [mL/g]": 81.78550108436872,
         "_deepnote_index_column": "pretest_403"
        },
        {
         "CO2_working_capacity [mL/g]": 82.61505013273494,
         "_deepnote_index_column": "pretest_404"
        },
        {
         "CO2_working_capacity [mL/g]": 200.891203230259,
         "_deepnote_index_column": "pretest_405"
        },
        {
         "CO2_working_capacity [mL/g]": 74.51347780504213,
         "_deepnote_index_column": "pretest_406"
        },
        {
         "CO2_working_capacity [mL/g]": 125.8600516425534,
         "_deepnote_index_column": "pretest_407"
        },
        {
         "CO2_working_capacity [mL/g]": 109.14004456952658,
         "_deepnote_index_column": "pretest_408"
        },
        {
         "CO2_working_capacity [mL/g]": 56.32897740014738,
         "_deepnote_index_column": "pretest_409"
        },
        {
         "CO2_working_capacity [mL/g]": 97.4435312316845,
         "_deepnote_index_column": "pretest_410"
        },
        {
         "CO2_working_capacity [mL/g]": 317.3280854810593,
         "_deepnote_index_column": "pretest_411"
        },
        {
         "CO2_working_capacity [mL/g]": 91.51717824994455,
         "_deepnote_index_column": "pretest_412"
        },
        {
         "CO2_working_capacity [mL/g]": 128.36571383441657,
         "_deepnote_index_column": "pretest_413"
        },
        {
         "CO2_working_capacity [mL/g]": 159.67428568691503,
         "_deepnote_index_column": "pretest_414"
        },
        {
         "CO2_working_capacity [mL/g]": 140.4423327708165,
         "_deepnote_index_column": "pretest_415"
        },
        {
         "CO2_working_capacity [mL/g]": 83.51301204101718,
         "_deepnote_index_column": "pretest_416"
        },
        {
         "CO2_working_capacity [mL/g]": 95.2264321475146,
         "_deepnote_index_column": "pretest_417"
        },
        {
         "CO2_working_capacity [mL/g]": 242.3277910317944,
         "_deepnote_index_column": "pretest_418"
        },
        {
         "CO2_working_capacity [mL/g]": 210.82687250429538,
         "_deepnote_index_column": "pretest_419"
        },
        {
         "CO2_working_capacity [mL/g]": 93.65305773316295,
         "_deepnote_index_column": "pretest_420"
        },
        {
         "CO2_working_capacity [mL/g]": 66.62026850407504,
         "_deepnote_index_column": "pretest_421"
        },
        {
         "CO2_working_capacity [mL/g]": 102.26321352588758,
         "_deepnote_index_column": "pretest_422"
        },
        {
         "CO2_working_capacity [mL/g]": 81.61849527137188,
         "_deepnote_index_column": "pretest_423"
        },
        {
         "CO2_working_capacity [mL/g]": 247.39149982037137,
         "_deepnote_index_column": "pretest_424"
        },
        {
         "CO2_working_capacity [mL/g]": 314.0387235541716,
         "_deepnote_index_column": "pretest_425"
        },
        {
         "CO2_working_capacity [mL/g]": 77.02392252680656,
         "_deepnote_index_column": "pretest_426"
        },
        {
         "CO2_working_capacity [mL/g]": 104.72191038597028,
         "_deepnote_index_column": "pretest_427"
        },
        {
         "CO2_working_capacity [mL/g]": 163.29570130756412,
         "_deepnote_index_column": "pretest_428"
        },
        {
         "CO2_working_capacity [mL/g]": 156.36071210198045,
         "_deepnote_index_column": "pretest_429"
        },
        {
         "CO2_working_capacity [mL/g]": 223.13396333824466,
         "_deepnote_index_column": "pretest_430"
        },
        {
         "CO2_working_capacity [mL/g]": 243.08295079628334,
         "_deepnote_index_column": "pretest_431"
        },
        {
         "CO2_working_capacity [mL/g]": 157.703674423846,
         "_deepnote_index_column": "pretest_432"
        },
        {
         "CO2_working_capacity [mL/g]": 214.78817537644625,
         "_deepnote_index_column": "pretest_433"
        },
        {
         "CO2_working_capacity [mL/g]": 334.8774780625305,
         "_deepnote_index_column": "pretest_434"
        },
        {
         "CO2_working_capacity [mL/g]": 78.61454014822259,
         "_deepnote_index_column": "pretest_435"
        },
        {
         "CO2_working_capacity [mL/g]": 69.70256318217902,
         "_deepnote_index_column": "pretest_436"
        },
        {
         "CO2_working_capacity [mL/g]": 105.80759960504483,
         "_deepnote_index_column": "pretest_437"
        },
        {
         "CO2_working_capacity [mL/g]": 55.694779202710585,
         "_deepnote_index_column": "pretest_438"
        },
        {
         "CO2_working_capacity [mL/g]": 191.49920716597575,
         "_deepnote_index_column": "pretest_439"
        },
        {
         "CO2_working_capacity [mL/g]": 91.06535837221179,
         "_deepnote_index_column": "pretest_440"
        },
        {
         "CO2_working_capacity [mL/g]": 108.88720981179418,
         "_deepnote_index_column": "pretest_441"
        },
        {
         "CO2_working_capacity [mL/g]": 124.38807662516818,
         "_deepnote_index_column": "pretest_442"
        },
        {
         "CO2_working_capacity [mL/g]": 243.68062463856057,
         "_deepnote_index_column": "pretest_443"
        },
        {
         "CO2_working_capacity [mL/g]": 54.69442089962442,
         "_deepnote_index_column": "pretest_444"
        },
        {
         "CO2_working_capacity [mL/g]": 58.64145524305387,
         "_deepnote_index_column": "pretest_445"
        },
        {
         "CO2_working_capacity [mL/g]": 58.82120116422851,
         "_deepnote_index_column": "pretest_446"
        },
        {
         "CO2_working_capacity [mL/g]": 98.04465387160002,
         "_deepnote_index_column": "pretest_447"
        },
        {
         "CO2_working_capacity [mL/g]": 270.0164352636894,
         "_deepnote_index_column": "pretest_448"
        },
        {
         "CO2_working_capacity [mL/g]": 90.61112896620489,
         "_deepnote_index_column": "pretest_449"
        },
        {
         "CO2_working_capacity [mL/g]": 65.35385120511928,
         "_deepnote_index_column": "pretest_450"
        },
        {
         "CO2_working_capacity [mL/g]": 376.6397375192392,
         "_deepnote_index_column": "pretest_451"
        },
        {
         "CO2_working_capacity [mL/g]": 66.62152275474564,
         "_deepnote_index_column": "pretest_452"
        },
        {
         "CO2_working_capacity [mL/g]": 78.62226446520462,
         "_deepnote_index_column": "pretest_453"
        },
        {
         "CO2_working_capacity [mL/g]": 78.79692386343541,
         "_deepnote_index_column": "pretest_454"
        },
        {
         "CO2_working_capacity [mL/g]": 136.82991517064644,
         "_deepnote_index_column": "pretest_455"
        },
        {
         "CO2_working_capacity [mL/g]": 55.959516569313585,
         "_deepnote_index_column": "pretest_456"
        },
        {
         "CO2_working_capacity [mL/g]": 101.1254068070841,
         "_deepnote_index_column": "pretest_457"
        },
        {
         "CO2_working_capacity [mL/g]": 286.1317479395734,
         "_deepnote_index_column": "pretest_458"
        },
        {
         "CO2_working_capacity [mL/g]": 91.30028540973167,
         "_deepnote_index_column": "pretest_459"
        },
        {
         "CO2_working_capacity [mL/g]": 135.43998872379169,
         "_deepnote_index_column": "pretest_460"
        },
        {
         "CO2_working_capacity [mL/g]": 82.44352331448304,
         "_deepnote_index_column": "pretest_461"
        },
        {
         "CO2_working_capacity [mL/g]": 313.59023552721277,
         "_deepnote_index_column": "pretest_462"
        },
        {
         "CO2_working_capacity [mL/g]": 236.89439129502614,
         "_deepnote_index_column": "pretest_463"
        },
        {
         "CO2_working_capacity [mL/g]": 95.58615425669578,
         "_deepnote_index_column": "pretest_464"
        },
        {
         "CO2_working_capacity [mL/g]": 470.5505552247257,
         "_deepnote_index_column": "pretest_465"
        },
        {
         "CO2_working_capacity [mL/g]": 79.21260177524455,
         "_deepnote_index_column": "pretest_466"
        },
        {
         "CO2_working_capacity [mL/g]": 114.9821397323409,
         "_deepnote_index_column": "pretest_467"
        },
        {
         "CO2_working_capacity [mL/g]": 207.69197557261901,
         "_deepnote_index_column": "pretest_468"
        },
        {
         "CO2_working_capacity [mL/g]": 248.58446220009037,
         "_deepnote_index_column": "pretest_469"
        },
        {
         "CO2_working_capacity [mL/g]": 124.74211727355677,
         "_deepnote_index_column": "pretest_470"
        },
        {
         "CO2_working_capacity [mL/g]": 240.13981553524576,
         "_deepnote_index_column": "pretest_471"
        },
        {
         "CO2_working_capacity [mL/g]": 217.83821062140305,
         "_deepnote_index_column": "pretest_472"
        },
        {
         "CO2_working_capacity [mL/g]": 116.45475689118373,
         "_deepnote_index_column": "pretest_473"
        },
        {
         "CO2_working_capacity [mL/g]": 265.42251206895827,
         "_deepnote_index_column": "pretest_474"
        },
        {
         "CO2_working_capacity [mL/g]": 422.43175063893244,
         "_deepnote_index_column": "pretest_475"
        },
        {
         "CO2_working_capacity [mL/g]": 203.62394571857212,
         "_deepnote_index_column": "pretest_476"
        },
        {
         "CO2_working_capacity [mL/g]": 78.09246020944445,
         "_deepnote_index_column": "pretest_477"
        },
        {
         "CO2_working_capacity [mL/g]": 37.92641009812681,
         "_deepnote_index_column": "pretest_478"
        },
        {
         "CO2_working_capacity [mL/g]": 105.80259580453512,
         "_deepnote_index_column": "pretest_479"
        },
        {
         "CO2_working_capacity [mL/g]": 240.5275993733315,
         "_deepnote_index_column": "pretest_480"
        },
        {
         "CO2_working_capacity [mL/g]": 124.16082192584936,
         "_deepnote_index_column": "pretest_481"
        },
        {
         "CO2_working_capacity [mL/g]": 182.54375817127232,
         "_deepnote_index_column": "pretest_482"
        },
        {
         "CO2_working_capacity [mL/g]": 117.72170371502553,
         "_deepnote_index_column": "pretest_483"
        },
        {
         "CO2_working_capacity [mL/g]": 78.9153181924762,
         "_deepnote_index_column": "pretest_484"
        },
        {
         "CO2_working_capacity [mL/g]": 106.42831028915747,
         "_deepnote_index_column": "pretest_485"
        },
        {
         "CO2_working_capacity [mL/g]": 105.07572219747527,
         "_deepnote_index_column": "pretest_486"
        },
        {
         "CO2_working_capacity [mL/g]": 116.01303737045146,
         "_deepnote_index_column": "pretest_487"
        },
        {
         "CO2_working_capacity [mL/g]": 100.2899978837793,
         "_deepnote_index_column": "pretest_488"
        },
        {
         "CO2_working_capacity [mL/g]": 90.092755253531,
         "_deepnote_index_column": "pretest_489"
        },
        {
         "CO2_working_capacity [mL/g]": 130.02259935234625,
         "_deepnote_index_column": "pretest_490"
        },
        {
         "CO2_working_capacity [mL/g]": 75.18796789602939,
         "_deepnote_index_column": "pretest_491"
        },
        {
         "CO2_working_capacity [mL/g]": 56.740541753759,
         "_deepnote_index_column": "pretest_492"
        },
        {
         "CO2_working_capacity [mL/g]": 88.71703924664433,
         "_deepnote_index_column": "pretest_493"
        },
        {
         "CO2_working_capacity [mL/g]": 133.93333072830367,
         "_deepnote_index_column": "pretest_494"
        },
        {
         "CO2_working_capacity [mL/g]": 111.20191581765664,
         "_deepnote_index_column": "pretest_495"
        },
        {
         "CO2_working_capacity [mL/g]": 95.6443971795446,
         "_deepnote_index_column": "pretest_496"
        },
        {
         "CO2_working_capacity [mL/g]": 75.49253956757333,
         "_deepnote_index_column": "pretest_497"
        },
        {
         "CO2_working_capacity [mL/g]": 108.44772930810801,
         "_deepnote_index_column": "pretest_498"
        },
        {
         "CO2_working_capacity [mL/g]": 289.6646274393757,
         "_deepnote_index_column": "pretest_499"
        },
        {
         "CO2_working_capacity [mL/g]": 273.53261918360147,
         "_deepnote_index_column": "pretest_500"
        }
       ],
       "rows_bottom": [
        {
         "CO2_working_capacity [mL/g]": -1.5359986955516194,
         "_deepnote_index_column": "pretest_1501"
        },
        {
         "CO2_working_capacity [mL/g]": -2.07048603330821,
         "_deepnote_index_column": "pretest_1502"
        },
        {
         "CO2_working_capacity [mL/g]": -6.757826057981285,
         "_deepnote_index_column": "pretest_1503"
        },
        {
         "CO2_working_capacity [mL/g]": 4.050561753387158,
         "_deepnote_index_column": "pretest_1504"
        },
        {
         "CO2_working_capacity [mL/g]": -5.235306506755283,
         "_deepnote_index_column": "pretest_1505"
        },
        {
         "CO2_working_capacity [mL/g]": 0.2325058325410302,
         "_deepnote_index_column": "pretest_1506"
        },
        {
         "CO2_working_capacity [mL/g]": -5.5162464638563735,
         "_deepnote_index_column": "pretest_1507"
        },
        {
         "CO2_working_capacity [mL/g]": -9.213746436623602,
         "_deepnote_index_column": "pretest_1508"
        },
        {
         "CO2_working_capacity [mL/g]": -4.282380395844902,
         "_deepnote_index_column": "pretest_1509"
        },
        {
         "CO2_working_capacity [mL/g]": -2.785943063773225,
         "_deepnote_index_column": "pretest_1510"
        },
        {
         "CO2_working_capacity [mL/g]": 5.057872358788601,
         "_deepnote_index_column": "pretest_1511"
        },
        {
         "CO2_working_capacity [mL/g]": 5.988054568745038,
         "_deepnote_index_column": "pretest_1512"
        },
        {
         "CO2_working_capacity [mL/g]": 1.7936703405835337,
         "_deepnote_index_column": "pretest_1513"
        },
        {
         "CO2_working_capacity [mL/g]": -7.115315681403948,
         "_deepnote_index_column": "pretest_1514"
        },
        {
         "CO2_working_capacity [mL/g]": 3.8077763670569205,
         "_deepnote_index_column": "pretest_1515"
        },
        {
         "CO2_working_capacity [mL/g]": -3.0926854797653607,
         "_deepnote_index_column": "pretest_1516"
        },
        {
         "CO2_working_capacity [mL/g]": -6.86814839707942,
         "_deepnote_index_column": "pretest_1517"
        },
        {
         "CO2_working_capacity [mL/g]": 33.34486151432347,
         "_deepnote_index_column": "pretest_1518"
        },
        {
         "CO2_working_capacity [mL/g]": -1.6692953461249127,
         "_deepnote_index_column": "pretest_1519"
        },
        {
         "CO2_working_capacity [mL/g]": 1.4569916269336698,
         "_deepnote_index_column": "pretest_1520"
        },
        {
         "CO2_working_capacity [mL/g]": 2.0144975911544236,
         "_deepnote_index_column": "pretest_1521"
        },
        {
         "CO2_working_capacity [mL/g]": -1.116962526039726,
         "_deepnote_index_column": "pretest_1522"
        },
        {
         "CO2_working_capacity [mL/g]": 0.6591624691901761,
         "_deepnote_index_column": "pretest_1523"
        },
        {
         "CO2_working_capacity [mL/g]": -3.473061255450146,
         "_deepnote_index_column": "pretest_1524"
        },
        {
         "CO2_working_capacity [mL/g]": 1.3783747171847132,
         "_deepnote_index_column": "pretest_1525"
        },
        {
         "CO2_working_capacity [mL/g]": 7.422494976268578,
         "_deepnote_index_column": "pretest_1526"
        },
        {
         "CO2_working_capacity [mL/g]": 21.718146857960036,
         "_deepnote_index_column": "pretest_1527"
        },
        {
         "CO2_working_capacity [mL/g]": -2.048915140333765,
         "_deepnote_index_column": "pretest_1528"
        },
        {
         "CO2_working_capacity [mL/g]": 11.536615027388077,
         "_deepnote_index_column": "pretest_1529"
        },
        {
         "CO2_working_capacity [mL/g]": 24.41160759779294,
         "_deepnote_index_column": "pretest_1530"
        },
        {
         "CO2_working_capacity [mL/g]": 2.751432697210318,
         "_deepnote_index_column": "pretest_1531"
        },
        {
         "CO2_working_capacity [mL/g]": -2.673041841348777,
         "_deepnote_index_column": "pretest_1532"
        },
        {
         "CO2_working_capacity [mL/g]": -3.611168028032131,
         "_deepnote_index_column": "pretest_1533"
        },
        {
         "CO2_working_capacity [mL/g]": -3.0446853204740676,
         "_deepnote_index_column": "pretest_1534"
        },
        {
         "CO2_working_capacity [mL/g]": -3.76475424438925,
         "_deepnote_index_column": "pretest_1535"
        },
        {
         "CO2_working_capacity [mL/g]": -9.195118765480562,
         "_deepnote_index_column": "pretest_1536"
        },
        {
         "CO2_working_capacity [mL/g]": 4.908175306296265,
         "_deepnote_index_column": "pretest_1537"
        },
        {
         "CO2_working_capacity [mL/g]": -1.3971342786195953,
         "_deepnote_index_column": "pretest_1538"
        },
        {
         "CO2_working_capacity [mL/g]": 0.8438138417169019,
         "_deepnote_index_column": "pretest_1539"
        },
        {
         "CO2_working_capacity [mL/g]": 4.237991839580932,
         "_deepnote_index_column": "pretest_1540"
        },
        {
         "CO2_working_capacity [mL/g]": 4.815647897498663,
         "_deepnote_index_column": "pretest_1541"
        },
        {
         "CO2_working_capacity [mL/g]": -3.6413370958898184,
         "_deepnote_index_column": "pretest_1542"
        },
        {
         "CO2_working_capacity [mL/g]": 6.858647654354673,
         "_deepnote_index_column": "pretest_1543"
        },
        {
         "CO2_working_capacity [mL/g]": -9.435806496144215,
         "_deepnote_index_column": "pretest_1544"
        },
        {
         "CO2_working_capacity [mL/g]": -7.308334704531125,
         "_deepnote_index_column": "pretest_1545"
        },
        {
         "CO2_working_capacity [mL/g]": 5.769722070702971,
         "_deepnote_index_column": "pretest_1546"
        },
        {
         "CO2_working_capacity [mL/g]": -0.4489929125164647,
         "_deepnote_index_column": "pretest_1547"
        },
        {
         "CO2_working_capacity [mL/g]": 2.135234276752687,
         "_deepnote_index_column": "pretest_1548"
        },
        {
         "CO2_working_capacity [mL/g]": -7.250037917589957,
         "_deepnote_index_column": "pretest_1549"
        },
        {
         "CO2_working_capacity [mL/g]": -2.5748717468793063,
         "_deepnote_index_column": "pretest_1550"
        },
        {
         "CO2_working_capacity [mL/g]": -0.6459350396233055,
         "_deepnote_index_column": "pretest_1551"
        },
        {
         "CO2_working_capacity [mL/g]": -2.215555489214287,
         "_deepnote_index_column": "pretest_1552"
        },
        {
         "CO2_working_capacity [mL/g]": -13.182671061701571,
         "_deepnote_index_column": "pretest_1553"
        },
        {
         "CO2_working_capacity [mL/g]": -9.313727561754265,
         "_deepnote_index_column": "pretest_1554"
        },
        {
         "CO2_working_capacity [mL/g]": 7.180113896763218,
         "_deepnote_index_column": "pretest_1555"
        },
        {
         "CO2_working_capacity [mL/g]": -1.690898079525037,
         "_deepnote_index_column": "pretest_1556"
        },
        {
         "CO2_working_capacity [mL/g]": 4.082228150684333,
         "_deepnote_index_column": "pretest_1557"
        },
        {
         "CO2_working_capacity [mL/g]": 4.27810626775025,
         "_deepnote_index_column": "pretest_1558"
        },
        {
         "CO2_working_capacity [mL/g]": 2.0978651254687746,
         "_deepnote_index_column": "pretest_1559"
        },
        {
         "CO2_working_capacity [mL/g]": 2.5346850756389085,
         "_deepnote_index_column": "pretest_1560"
        },
        {
         "CO2_working_capacity [mL/g]": -1.4368582737699724,
         "_deepnote_index_column": "pretest_1561"
        },
        {
         "CO2_working_capacity [mL/g]": 5.574796878438852,
         "_deepnote_index_column": "pretest_1562"
        },
        {
         "CO2_working_capacity [mL/g]": 0.1491151370321626,
         "_deepnote_index_column": "pretest_1563"
        },
        {
         "CO2_working_capacity [mL/g]": 17.327671061796142,
         "_deepnote_index_column": "pretest_1564"
        },
        {
         "CO2_working_capacity [mL/g]": -4.992767008134328,
         "_deepnote_index_column": "pretest_1565"
        },
        {
         "CO2_working_capacity [mL/g]": 1.0570882697025932,
         "_deepnote_index_column": "pretest_1566"
        },
        {
         "CO2_working_capacity [mL/g]": 73.2717173983931,
         "_deepnote_index_column": "pretest_1567"
        },
        {
         "CO2_working_capacity [mL/g]": -6.5112218082729125,
         "_deepnote_index_column": "pretest_1568"
        },
        {
         "CO2_working_capacity [mL/g]": 67.26414415930256,
         "_deepnote_index_column": "pretest_1569"
        },
        {
         "CO2_working_capacity [mL/g]": 10.84762470553572,
         "_deepnote_index_column": "pretest_1570"
        },
        {
         "CO2_working_capacity [mL/g]": 3.7760017603047418,
         "_deepnote_index_column": "pretest_1571"
        },
        {
         "CO2_working_capacity [mL/g]": 0.3578455367578856,
         "_deepnote_index_column": "pretest_1572"
        },
        {
         "CO2_working_capacity [mL/g]": 0.5971243890836735,
         "_deepnote_index_column": "pretest_1573"
        },
        {
         "CO2_working_capacity [mL/g]": -1.5679850080890951,
         "_deepnote_index_column": "pretest_1574"
        },
        {
         "CO2_working_capacity [mL/g]": -5.03498576150766,
         "_deepnote_index_column": "pretest_1575"
        },
        {
         "CO2_working_capacity [mL/g]": -3.612772085108227,
         "_deepnote_index_column": "pretest_1576"
        },
        {
         "CO2_working_capacity [mL/g]": 4.274827012464078,
         "_deepnote_index_column": "pretest_1577"
        },
        {
         "CO2_working_capacity [mL/g]": 31.87033296026327,
         "_deepnote_index_column": "pretest_1578"
        },
        {
         "CO2_working_capacity [mL/g]": -0.07692070736936969,
         "_deepnote_index_column": "pretest_1579"
        },
        {
         "CO2_working_capacity [mL/g]": -3.9074227979215688,
         "_deepnote_index_column": "pretest_1580"
        },
        {
         "CO2_working_capacity [mL/g]": -5.662999528406909,
         "_deepnote_index_column": "pretest_1581"
        },
        {
         "CO2_working_capacity [mL/g]": -4.846706494527196,
         "_deepnote_index_column": "pretest_1582"
        },
        {
         "CO2_working_capacity [mL/g]": -0.9657151401302595,
         "_deepnote_index_column": "pretest_1583"
        },
        {
         "CO2_working_capacity [mL/g]": 4.142697454515315,
         "_deepnote_index_column": "pretest_1584"
        },
        {
         "CO2_working_capacity [mL/g]": 8.165062635250672,
         "_deepnote_index_column": "pretest_1585"
        },
        {
         "CO2_working_capacity [mL/g]": -3.935098498938747,
         "_deepnote_index_column": "pretest_1586"
        },
        {
         "CO2_working_capacity [mL/g]": -0.26461694465654917,
         "_deepnote_index_column": "pretest_1587"
        },
        {
         "CO2_working_capacity [mL/g]": 2.3343134414206976,
         "_deepnote_index_column": "pretest_1588"
        },
        {
         "CO2_working_capacity [mL/g]": -5.592012050231194,
         "_deepnote_index_column": "pretest_1589"
        },
        {
         "CO2_working_capacity [mL/g]": -6.767411225607332,
         "_deepnote_index_column": "pretest_1590"
        },
        {
         "CO2_working_capacity [mL/g]": 20.864374726220554,
         "_deepnote_index_column": "pretest_1591"
        },
        {
         "CO2_working_capacity [mL/g]": -1.896427322569517,
         "_deepnote_index_column": "pretest_1592"
        },
        {
         "CO2_working_capacity [mL/g]": 7.402195336358578,
         "_deepnote_index_column": "pretest_1593"
        },
        {
         "CO2_working_capacity [mL/g]": -2.8277333583455073,
         "_deepnote_index_column": "pretest_1594"
        },
        {
         "CO2_working_capacity [mL/g]": 1.2493005425565038,
         "_deepnote_index_column": "pretest_1595"
        },
        {
         "CO2_working_capacity [mL/g]": -2.850665386657294,
         "_deepnote_index_column": "pretest_1596"
        },
        {
         "CO2_working_capacity [mL/g]": -2.6246599719941566,
         "_deepnote_index_column": "pretest_1597"
        },
        {
         "CO2_working_capacity [mL/g]": -4.250430256468158,
         "_deepnote_index_column": "pretest_1598"
        },
        {
         "CO2_working_capacity [mL/g]": -3.088130789551101,
         "_deepnote_index_column": "pretest_1599"
        },
        {
         "CO2_working_capacity [mL/g]": -0.2817246403044972,
         "_deepnote_index_column": "pretest_1600"
        },
        {
         "CO2_working_capacity [mL/g]": -0.42719365284576954,
         "_deepnote_index_column": "pretest_1601"
        },
        {
         "CO2_working_capacity [mL/g]": -1.1975078526836105,
         "_deepnote_index_column": "pretest_1602"
        },
        {
         "CO2_working_capacity [mL/g]": -0.6737278181094891,
         "_deepnote_index_column": "pretest_1603"
        },
        {
         "CO2_working_capacity [mL/g]": -9.847218599341916,
         "_deepnote_index_column": "pretest_1604"
        },
        {
         "CO2_working_capacity [mL/g]": -2.858771428102425,
         "_deepnote_index_column": "pretest_1605"
        },
        {
         "CO2_working_capacity [mL/g]": 10.08915377552779,
         "_deepnote_index_column": "pretest_1606"
        },
        {
         "CO2_working_capacity [mL/g]": -6.424930480006076,
         "_deepnote_index_column": "pretest_1607"
        },
        {
         "CO2_working_capacity [mL/g]": -4.910064931782615,
         "_deepnote_index_column": "pretest_1608"
        },
        {
         "CO2_working_capacity [mL/g]": 0.2565887525729659,
         "_deepnote_index_column": "pretest_1609"
        },
        {
         "CO2_working_capacity [mL/g]": -5.295626407040775,
         "_deepnote_index_column": "pretest_1610"
        },
        {
         "CO2_working_capacity [mL/g]": 5.9749733701220915,
         "_deepnote_index_column": "pretest_1611"
        },
        {
         "CO2_working_capacity [mL/g]": -2.5490341476006573,
         "_deepnote_index_column": "pretest_1612"
        },
        {
         "CO2_working_capacity [mL/g]": -1.193567407874188,
         "_deepnote_index_column": "pretest_1613"
        },
        {
         "CO2_working_capacity [mL/g]": -3.006597890271042,
         "_deepnote_index_column": "pretest_1614"
        },
        {
         "CO2_working_capacity [mL/g]": -11.479664224179372,
         "_deepnote_index_column": "pretest_1615"
        },
        {
         "CO2_working_capacity [mL/g]": -1.240586429681195,
         "_deepnote_index_column": "pretest_1616"
        },
        {
         "CO2_working_capacity [mL/g]": -9.44450777996391,
         "_deepnote_index_column": "pretest_1617"
        },
        {
         "CO2_working_capacity [mL/g]": -7.022591347347111,
         "_deepnote_index_column": "pretest_1618"
        },
        {
         "CO2_working_capacity [mL/g]": -13.215481001535828,
         "_deepnote_index_column": "pretest_1619"
        },
        {
         "CO2_working_capacity [mL/g]": -0.7809714968079607,
         "_deepnote_index_column": "pretest_1620"
        },
        {
         "CO2_working_capacity [mL/g]": 1.4985603955778395,
         "_deepnote_index_column": "pretest_1621"
        },
        {
         "CO2_working_capacity [mL/g]": -4.91071976039055,
         "_deepnote_index_column": "pretest_1622"
        },
        {
         "CO2_working_capacity [mL/g]": -2.1402689412036096,
         "_deepnote_index_column": "pretest_1623"
        },
        {
         "CO2_working_capacity [mL/g]": 1.6113034068819452,
         "_deepnote_index_column": "pretest_1624"
        },
        {
         "CO2_working_capacity [mL/g]": 5.149492099124274,
         "_deepnote_index_column": "pretest_1625"
        },
        {
         "CO2_working_capacity [mL/g]": 5.416416299824881,
         "_deepnote_index_column": "pretest_1626"
        },
        {
         "CO2_working_capacity [mL/g]": -6.5265215209444145,
         "_deepnote_index_column": "pretest_1627"
        },
        {
         "CO2_working_capacity [mL/g]": -0.04707569311102546,
         "_deepnote_index_column": "pretest_1628"
        },
        {
         "CO2_working_capacity [mL/g]": -7.580547721243345,
         "_deepnote_index_column": "pretest_1629"
        },
        {
         "CO2_working_capacity [mL/g]": -0.9349396723681308,
         "_deepnote_index_column": "pretest_1630"
        },
        {
         "CO2_working_capacity [mL/g]": -7.71423416520808,
         "_deepnote_index_column": "pretest_1631"
        },
        {
         "CO2_working_capacity [mL/g]": 3.6370620041585444,
         "_deepnote_index_column": "pretest_1632"
        },
        {
         "CO2_working_capacity [mL/g]": 2.0137345254347916,
         "_deepnote_index_column": "pretest_1633"
        },
        {
         "CO2_working_capacity [mL/g]": 3.5344728866444712,
         "_deepnote_index_column": "pretest_1634"
        },
        {
         "CO2_working_capacity [mL/g]": 42.045341141218444,
         "_deepnote_index_column": "pretest_1635"
        },
        {
         "CO2_working_capacity [mL/g]": 5.844853439883826,
         "_deepnote_index_column": "pretest_1636"
        },
        {
         "CO2_working_capacity [mL/g]": -1.2407903728950254,
         "_deepnote_index_column": "pretest_1637"
        },
        {
         "CO2_working_capacity [mL/g]": -10.794292037820325,
         "_deepnote_index_column": "pretest_1638"
        },
        {
         "CO2_working_capacity [mL/g]": -2.5910155826228083,
         "_deepnote_index_column": "pretest_1639"
        },
        {
         "CO2_working_capacity [mL/g]": 7.2412863185648755,
         "_deepnote_index_column": "pretest_1640"
        },
        {
         "CO2_working_capacity [mL/g]": -0.08108863277071222,
         "_deepnote_index_column": "pretest_1641"
        },
        {
         "CO2_working_capacity [mL/g]": 44.20802715889545,
         "_deepnote_index_column": "pretest_1642"
        },
        {
         "CO2_working_capacity [mL/g]": 3.581349633294478,
         "_deepnote_index_column": "pretest_1643"
        },
        {
         "CO2_working_capacity [mL/g]": 1.0088273502029215,
         "_deepnote_index_column": "pretest_1644"
        },
        {
         "CO2_working_capacity [mL/g]": 0.732064896434397,
         "_deepnote_index_column": "pretest_1645"
        },
        {
         "CO2_working_capacity [mL/g]": 6.378246139360138,
         "_deepnote_index_column": "pretest_1646"
        },
        {
         "CO2_working_capacity [mL/g]": -1.4394406303552285,
         "_deepnote_index_column": "pretest_1647"
        },
        {
         "CO2_working_capacity [mL/g]": -3.385564530658759,
         "_deepnote_index_column": "pretest_1648"
        },
        {
         "CO2_working_capacity [mL/g]": -13.830800812357777,
         "_deepnote_index_column": "pretest_1649"
        },
        {
         "CO2_working_capacity [mL/g]": -5.944890436147393,
         "_deepnote_index_column": "pretest_1650"
        },
        {
         "CO2_working_capacity [mL/g]": 9.103512215868934,
         "_deepnote_index_column": "pretest_1651"
        },
        {
         "CO2_working_capacity [mL/g]": -4.549676868541126,
         "_deepnote_index_column": "pretest_1652"
        },
        {
         "CO2_working_capacity [mL/g]": 1.4277353838217288,
         "_deepnote_index_column": "pretest_1653"
        },
        {
         "CO2_working_capacity [mL/g]": 25.689883541896638,
         "_deepnote_index_column": "pretest_1654"
        },
        {
         "CO2_working_capacity [mL/g]": 0.4056639369739702,
         "_deepnote_index_column": "pretest_1655"
        },
        {
         "CO2_working_capacity [mL/g]": -0.7028995777793174,
         "_deepnote_index_column": "pretest_1656"
        },
        {
         "CO2_working_capacity [mL/g]": -1.339419094425405,
         "_deepnote_index_column": "pretest_1657"
        },
        {
         "CO2_working_capacity [mL/g]": 5.206335328612209,
         "_deepnote_index_column": "pretest_1658"
        },
        {
         "CO2_working_capacity [mL/g]": 6.045952406583141,
         "_deepnote_index_column": "pretest_1659"
        },
        {
         "CO2_working_capacity [mL/g]": -5.291249347039293,
         "_deepnote_index_column": "pretest_1660"
        },
        {
         "CO2_working_capacity [mL/g]": 0.012632024316445011,
         "_deepnote_index_column": "pretest_1661"
        },
        {
         "CO2_working_capacity [mL/g]": -3.7715491713366176,
         "_deepnote_index_column": "pretest_1662"
        },
        {
         "CO2_working_capacity [mL/g]": -9.068993200133361,
         "_deepnote_index_column": "pretest_1663"
        },
        {
         "CO2_working_capacity [mL/g]": -1.8896090603082678,
         "_deepnote_index_column": "pretest_1664"
        },
        {
         "CO2_working_capacity [mL/g]": 3.5332088341433097,
         "_deepnote_index_column": "pretest_1665"
        },
        {
         "CO2_working_capacity [mL/g]": -7.064237247756726,
         "_deepnote_index_column": "pretest_1666"
        },
        {
         "CO2_working_capacity [mL/g]": -0.6204677489922577,
         "_deepnote_index_column": "pretest_1667"
        },
        {
         "CO2_working_capacity [mL/g]": -5.598052331085719,
         "_deepnote_index_column": "pretest_1668"
        },
        {
         "CO2_working_capacity [mL/g]": 2.645341085895371,
         "_deepnote_index_column": "pretest_1669"
        },
        {
         "CO2_working_capacity [mL/g]": -6.143673766178949,
         "_deepnote_index_column": "pretest_1670"
        },
        {
         "CO2_working_capacity [mL/g]": -4.417453240265803,
         "_deepnote_index_column": "pretest_1671"
        },
        {
         "CO2_working_capacity [mL/g]": -0.6672939369446825,
         "_deepnote_index_column": "pretest_1672"
        },
        {
         "CO2_working_capacity [mL/g]": 0.9907050469782404,
         "_deepnote_index_column": "pretest_1673"
        },
        {
         "CO2_working_capacity [mL/g]": 1.502064792766654,
         "_deepnote_index_column": "pretest_1674"
        },
        {
         "CO2_working_capacity [mL/g]": -5.293650336078762,
         "_deepnote_index_column": "pretest_1675"
        },
        {
         "CO2_working_capacity [mL/g]": -3.515118969527863,
         "_deepnote_index_column": "pretest_1676"
        },
        {
         "CO2_working_capacity [mL/g]": -6.047091972958092,
         "_deepnote_index_column": "pretest_1677"
        },
        {
         "CO2_working_capacity [mL/g]": 1.3742325651969969,
         "_deepnote_index_column": "pretest_1678"
        },
        {
         "CO2_working_capacity [mL/g]": 38.794494251164615,
         "_deepnote_index_column": "pretest_1679"
        },
        {
         "CO2_working_capacity [mL/g]": -0.12316565123837207,
         "_deepnote_index_column": "pretest_1680"
        },
        {
         "CO2_working_capacity [mL/g]": 7.859182633457144,
         "_deepnote_index_column": "pretest_1681"
        },
        {
         "CO2_working_capacity [mL/g]": 0.4830377220594065,
         "_deepnote_index_column": "pretest_1682"
        },
        {
         "CO2_working_capacity [mL/g]": 38.613154102402596,
         "_deepnote_index_column": "pretest_1683"
        },
        {
         "CO2_working_capacity [mL/g]": -2.9943636343537037,
         "_deepnote_index_column": "pretest_1684"
        },
        {
         "CO2_working_capacity [mL/g]": 0.5074337333044618,
         "_deepnote_index_column": "pretest_1685"
        },
        {
         "CO2_working_capacity [mL/g]": -0.44858015806273416,
         "_deepnote_index_column": "pretest_1686"
        },
        {
         "CO2_working_capacity [mL/g]": -1.3927159005107306,
         "_deepnote_index_column": "pretest_1687"
        },
        {
         "CO2_working_capacity [mL/g]": 4.804660046830243,
         "_deepnote_index_column": "pretest_1688"
        },
        {
         "CO2_working_capacity [mL/g]": -0.2551120310718868,
         "_deepnote_index_column": "pretest_1689"
        },
        {
         "CO2_working_capacity [mL/g]": -1.6005906551030522,
         "_deepnote_index_column": "pretest_1690"
        },
        {
         "CO2_working_capacity [mL/g]": 0.5637530261040871,
         "_deepnote_index_column": "pretest_1691"
        },
        {
         "CO2_working_capacity [mL/g]": 0.948438913865783,
         "_deepnote_index_column": "pretest_1692"
        },
        {
         "CO2_working_capacity [mL/g]": 0.9896517312936046,
         "_deepnote_index_column": "pretest_1693"
        },
        {
         "CO2_working_capacity [mL/g]": 0.28655593458765155,
         "_deepnote_index_column": "pretest_1694"
        },
        {
         "CO2_working_capacity [mL/g]": -0.6149478377550953,
         "_deepnote_index_column": "pretest_1695"
        },
        {
         "CO2_working_capacity [mL/g]": -4.459371487644304,
         "_deepnote_index_column": "pretest_1696"
        },
        {
         "CO2_working_capacity [mL/g]": -1.5489295228531688,
         "_deepnote_index_column": "pretest_1697"
        },
        {
         "CO2_working_capacity [mL/g]": -0.8756843768145391,
         "_deepnote_index_column": "pretest_1698"
        },
        {
         "CO2_working_capacity [mL/g]": 2.376907876863713,
         "_deepnote_index_column": "pretest_1699"
        },
        {
         "CO2_working_capacity [mL/g]": 2.922120142692256,
         "_deepnote_index_column": "pretest_1700"
        },
        {
         "CO2_working_capacity [mL/g]": 13.916735227260103,
         "_deepnote_index_column": "pretest_1701"
        },
        {
         "CO2_working_capacity [mL/g]": 1.7476384194042398,
         "_deepnote_index_column": "pretest_1702"
        },
        {
         "CO2_working_capacity [mL/g]": -3.6796135294288366,
         "_deepnote_index_column": "pretest_1703"
        },
        {
         "CO2_working_capacity [mL/g]": 0.9910292274502269,
         "_deepnote_index_column": "pretest_1704"
        },
        {
         "CO2_working_capacity [mL/g]": 13.574675831622669,
         "_deepnote_index_column": "pretest_1705"
        },
        {
         "CO2_working_capacity [mL/g]": 2.634607517653498,
         "_deepnote_index_column": "pretest_1706"
        },
        {
         "CO2_working_capacity [mL/g]": 4.070416725449389,
         "_deepnote_index_column": "pretest_1707"
        },
        {
         "CO2_working_capacity [mL/g]": -2.042041111982167,
         "_deepnote_index_column": "pretest_1708"
        },
        {
         "CO2_working_capacity [mL/g]": -3.069511995342532,
         "_deepnote_index_column": "pretest_1709"
        },
        {
         "CO2_working_capacity [mL/g]": 8.986089468910816,
         "_deepnote_index_column": "pretest_1710"
        },
        {
         "CO2_working_capacity [mL/g]": 4.243004411679369,
         "_deepnote_index_column": "pretest_1711"
        },
        {
         "CO2_working_capacity [mL/g]": 2.6487390276879803,
         "_deepnote_index_column": "pretest_1712"
        },
        {
         "CO2_working_capacity [mL/g]": -3.195118415888577,
         "_deepnote_index_column": "pretest_1713"
        },
        {
         "CO2_working_capacity [mL/g]": 3.2577730878653415,
         "_deepnote_index_column": "pretest_1714"
        },
        {
         "CO2_working_capacity [mL/g]": -0.8693045752410203,
         "_deepnote_index_column": "pretest_1715"
        },
        {
         "CO2_working_capacity [mL/g]": -2.826829487322159,
         "_deepnote_index_column": "pretest_1716"
        },
        {
         "CO2_working_capacity [mL/g]": 1.1636151613455978,
         "_deepnote_index_column": "pretest_1717"
        },
        {
         "CO2_working_capacity [mL/g]": 9.818114320053398,
         "_deepnote_index_column": "pretest_1718"
        },
        {
         "CO2_working_capacity [mL/g]": 1.9207234729473708,
         "_deepnote_index_column": "pretest_1719"
        },
        {
         "CO2_working_capacity [mL/g]": 10.78210798205024,
         "_deepnote_index_column": "pretest_1720"
        },
        {
         "CO2_working_capacity [mL/g]": 6.923183887813448,
         "_deepnote_index_column": "pretest_1721"
        },
        {
         "CO2_working_capacity [mL/g]": -1.1365422389348585,
         "_deepnote_index_column": "pretest_1722"
        },
        {
         "CO2_working_capacity [mL/g]": 0.07172191799444874,
         "_deepnote_index_column": "pretest_1723"
        },
        {
         "CO2_working_capacity [mL/g]": -5.8190726500968495,
         "_deepnote_index_column": "pretest_1724"
        },
        {
         "CO2_working_capacity [mL/g]": -0.26881258116404994,
         "_deepnote_index_column": "pretest_1725"
        },
        {
         "CO2_working_capacity [mL/g]": 1.0938410762406436,
         "_deepnote_index_column": "pretest_1726"
        },
        {
         "CO2_working_capacity [mL/g]": 4.7416461776315995,
         "_deepnote_index_column": "pretest_1727"
        },
        {
         "CO2_working_capacity [mL/g]": -12.608423937503233,
         "_deepnote_index_column": "pretest_1728"
        },
        {
         "CO2_working_capacity [mL/g]": -6.902697730834819,
         "_deepnote_index_column": "pretest_1729"
        },
        {
         "CO2_working_capacity [mL/g]": 0.8841438909265384,
         "_deepnote_index_column": "pretest_1730"
        },
        {
         "CO2_working_capacity [mL/g]": -4.049024806982594,
         "_deepnote_index_column": "pretest_1731"
        },
        {
         "CO2_working_capacity [mL/g]": -3.8640816751942024,
         "_deepnote_index_column": "pretest_1732"
        },
        {
         "CO2_working_capacity [mL/g]": 2.0801044341830384,
         "_deepnote_index_column": "pretest_1733"
        },
        {
         "CO2_working_capacity [mL/g]": 62.80530429976492,
         "_deepnote_index_column": "pretest_1734"
        },
        {
         "CO2_working_capacity [mL/g]": -1.464627786160097,
         "_deepnote_index_column": "pretest_1735"
        },
        {
         "CO2_working_capacity [mL/g]": -0.23116609642259844,
         "_deepnote_index_column": "pretest_1736"
        },
        {
         "CO2_working_capacity [mL/g]": -8.820804687914313,
         "_deepnote_index_column": "pretest_1737"
        },
        {
         "CO2_working_capacity [mL/g]": 3.7463335488833116,
         "_deepnote_index_column": "pretest_1738"
        },
        {
         "CO2_working_capacity [mL/g]": 3.462813159643781,
         "_deepnote_index_column": "pretest_1739"
        },
        {
         "CO2_working_capacity [mL/g]": -2.426241164720843,
         "_deepnote_index_column": "pretest_1740"
        },
        {
         "CO2_working_capacity [mL/g]": -3.843671123522995,
         "_deepnote_index_column": "pretest_1741"
        },
        {
         "CO2_working_capacity [mL/g]": -3.5616327468518203,
         "_deepnote_index_column": "pretest_1742"
        },
        {
         "CO2_working_capacity [mL/g]": 6.769243167300731,
         "_deepnote_index_column": "pretest_1743"
        },
        {
         "CO2_working_capacity [mL/g]": -0.24282359691213315,
         "_deepnote_index_column": "pretest_1744"
        },
        {
         "CO2_working_capacity [mL/g]": -1.9641374787765318,
         "_deepnote_index_column": "pretest_1745"
        },
        {
         "CO2_working_capacity [mL/g]": 13.82936578083954,
         "_deepnote_index_column": "pretest_1746"
        },
        {
         "CO2_working_capacity [mL/g]": 3.1100007353185872,
         "_deepnote_index_column": "pretest_1747"
        },
        {
         "CO2_working_capacity [mL/g]": -0.02994980667762505,
         "_deepnote_index_column": "pretest_1748"
        },
        {
         "CO2_working_capacity [mL/g]": -7.163827115810441,
         "_deepnote_index_column": "pretest_1749"
        },
        {
         "CO2_working_capacity [mL/g]": -0.2383242836023828,
         "_deepnote_index_column": "pretest_1750"
        },
        {
         "CO2_working_capacity [mL/g]": -8.698831080577579,
         "_deepnote_index_column": "pretest_1751"
        },
        {
         "CO2_working_capacity [mL/g]": 0.36095481496055415,
         "_deepnote_index_column": "pretest_1752"
        },
        {
         "CO2_working_capacity [mL/g]": -6.3002998323326524,
         "_deepnote_index_column": "pretest_1753"
        },
        {
         "CO2_working_capacity [mL/g]": 0.5353246498507365,
         "_deepnote_index_column": "pretest_1754"
        },
        {
         "CO2_working_capacity [mL/g]": -4.435469653452448,
         "_deepnote_index_column": "pretest_1755"
        },
        {
         "CO2_working_capacity [mL/g]": -5.141825288173601,
         "_deepnote_index_column": "pretest_1756"
        },
        {
         "CO2_working_capacity [mL/g]": -2.931511608851827,
         "_deepnote_index_column": "pretest_1757"
        },
        {
         "CO2_working_capacity [mL/g]": -3.335654722505012,
         "_deepnote_index_column": "pretest_1758"
        },
        {
         "CO2_working_capacity [mL/g]": -2.4401495763558043,
         "_deepnote_index_column": "pretest_1759"
        },
        {
         "CO2_working_capacity [mL/g]": 9.825196940462552,
         "_deepnote_index_column": "pretest_1760"
        },
        {
         "CO2_working_capacity [mL/g]": 41.262598922622516,
         "_deepnote_index_column": "pretest_1761"
        },
        {
         "CO2_working_capacity [mL/g]": 16.917600841515256,
         "_deepnote_index_column": "pretest_1762"
        },
        {
         "CO2_working_capacity [mL/g]": -1.104487162612919,
         "_deepnote_index_column": "pretest_1763"
        },
        {
         "CO2_working_capacity [mL/g]": 11.448507954936382,
         "_deepnote_index_column": "pretest_1764"
        },
        {
         "CO2_working_capacity [mL/g]": 1.171171054741989,
         "_deepnote_index_column": "pretest_1765"
        },
        {
         "CO2_working_capacity [mL/g]": -6.490023390206235,
         "_deepnote_index_column": "pretest_1766"
        },
        {
         "CO2_working_capacity [mL/g]": -5.1360860702223246,
         "_deepnote_index_column": "pretest_1767"
        },
        {
         "CO2_working_capacity [mL/g]": -5.771875720522275,
         "_deepnote_index_column": "pretest_1768"
        },
        {
         "CO2_working_capacity [mL/g]": -12.444593821827223,
         "_deepnote_index_column": "pretest_1769"
        },
        {
         "CO2_working_capacity [mL/g]": -6.09382076842093,
         "_deepnote_index_column": "pretest_1770"
        },
        {
         "CO2_working_capacity [mL/g]": -1.4586627438238144,
         "_deepnote_index_column": "pretest_1771"
        },
        {
         "CO2_working_capacity [mL/g]": -8.296445318988987,
         "_deepnote_index_column": "pretest_1772"
        },
        {
         "CO2_working_capacity [mL/g]": 0.7503007262369732,
         "_deepnote_index_column": "pretest_1773"
        },
        {
         "CO2_working_capacity [mL/g]": -0.5097027948446552,
         "_deepnote_index_column": "pretest_1774"
        },
        {
         "CO2_working_capacity [mL/g]": -5.281649040738818,
         "_deepnote_index_column": "pretest_1775"
        },
        {
         "CO2_working_capacity [mL/g]": -1.682674437564947,
         "_deepnote_index_column": "pretest_1776"
        },
        {
         "CO2_working_capacity [mL/g]": -0.9607010186404278,
         "_deepnote_index_column": "pretest_1777"
        },
        {
         "CO2_working_capacity [mL/g]": -11.110762506454089,
         "_deepnote_index_column": "pretest_1778"
        },
        {
         "CO2_working_capacity [mL/g]": -13.451320065002475,
         "_deepnote_index_column": "pretest_1779"
        },
        {
         "CO2_working_capacity [mL/g]": 1.328372748266187,
         "_deepnote_index_column": "pretest_1780"
        },
        {
         "CO2_working_capacity [mL/g]": 1.1447050235932914,
         "_deepnote_index_column": "pretest_1781"
        },
        {
         "CO2_working_capacity [mL/g]": -4.9741192244685,
         "_deepnote_index_column": "pretest_1782"
        },
        {
         "CO2_working_capacity [mL/g]": -2.0290296559635235,
         "_deepnote_index_column": "pretest_1783"
        },
        {
         "CO2_working_capacity [mL/g]": 5.606231316510713,
         "_deepnote_index_column": "pretest_1784"
        },
        {
         "CO2_working_capacity [mL/g]": -2.8226072524643855,
         "_deepnote_index_column": "pretest_1785"
        },
        {
         "CO2_working_capacity [mL/g]": 82.52405205481335,
         "_deepnote_index_column": "pretest_1786"
        },
        {
         "CO2_working_capacity [mL/g]": 14.503340137394266,
         "_deepnote_index_column": "pretest_1787"
        },
        {
         "CO2_working_capacity [mL/g]": 1.63840711329393,
         "_deepnote_index_column": "pretest_1788"
        },
        {
         "CO2_working_capacity [mL/g]": -2.5728910253653527,
         "_deepnote_index_column": "pretest_1789"
        },
        {
         "CO2_working_capacity [mL/g]": -2.7358938189691138,
         "_deepnote_index_column": "pretest_1790"
        },
        {
         "CO2_working_capacity [mL/g]": 4.171763908392286,
         "_deepnote_index_column": "pretest_1791"
        },
        {
         "CO2_working_capacity [mL/g]": -1.4653074121700156,
         "_deepnote_index_column": "pretest_1792"
        },
        {
         "CO2_working_capacity [mL/g]": 44.83944552033143,
         "_deepnote_index_column": "pretest_1793"
        },
        {
         "CO2_working_capacity [mL/g]": -3.613478478557264,
         "_deepnote_index_column": "pretest_1794"
        },
        {
         "CO2_working_capacity [mL/g]": -4.753501084040476,
         "_deepnote_index_column": "pretest_1795"
        },
        {
         "CO2_working_capacity [mL/g]": 2.9329276596406215,
         "_deepnote_index_column": "pretest_1796"
        },
        {
         "CO2_working_capacity [mL/g]": 17.642670091245062,
         "_deepnote_index_column": "pretest_1797"
        },
        {
         "CO2_working_capacity [mL/g]": 0.005695635265585395,
         "_deepnote_index_column": "pretest_1798"
        },
        {
         "CO2_working_capacity [mL/g]": 3.3525881949775966,
         "_deepnote_index_column": "pretest_1799"
        },
        {
         "CO2_working_capacity [mL/g]": 2.669134316792241,
         "_deepnote_index_column": "pretest_1800"
        },
        {
         "CO2_working_capacity [mL/g]": 0.025183455176566553,
         "_deepnote_index_column": "pretest_1801"
        },
        {
         "CO2_working_capacity [mL/g]": 57.48727849983642,
         "_deepnote_index_column": "pretest_1802"
        },
        {
         "CO2_working_capacity [mL/g]": 6.015904338391838,
         "_deepnote_index_column": "pretest_1803"
        },
        {
         "CO2_working_capacity [mL/g]": 4.983313986606986,
         "_deepnote_index_column": "pretest_1804"
        },
        {
         "CO2_working_capacity [mL/g]": -1.7831563735187796,
         "_deepnote_index_column": "pretest_1805"
        },
        {
         "CO2_working_capacity [mL/g]": -4.775984983982096,
         "_deepnote_index_column": "pretest_1806"
        },
        {
         "CO2_working_capacity [mL/g]": -3.2045730433682276,
         "_deepnote_index_column": "pretest_1807"
        },
        {
         "CO2_working_capacity [mL/g]": -0.5623485081397722,
         "_deepnote_index_column": "pretest_1808"
        },
        {
         "CO2_working_capacity [mL/g]": 9.984683038817446,
         "_deepnote_index_column": "pretest_1809"
        },
        {
         "CO2_working_capacity [mL/g]": 1.4469577780162985,
         "_deepnote_index_column": "pretest_1810"
        },
        {
         "CO2_working_capacity [mL/g]": -3.958783433738393,
         "_deepnote_index_column": "pretest_1811"
        },
        {
         "CO2_working_capacity [mL/g]": -8.353548960020886,
         "_deepnote_index_column": "pretest_1812"
        },
        {
         "CO2_working_capacity [mL/g]": -0.8837895328715629,
         "_deepnote_index_column": "pretest_1813"
        },
        {
         "CO2_working_capacity [mL/g]": -12.68994496148208,
         "_deepnote_index_column": "pretest_1814"
        },
        {
         "CO2_working_capacity [mL/g]": -5.500549981746399,
         "_deepnote_index_column": "pretest_1815"
        },
        {
         "CO2_working_capacity [mL/g]": -8.928726423850932,
         "_deepnote_index_column": "pretest_1816"
        },
        {
         "CO2_working_capacity [mL/g]": -6.127374306516612,
         "_deepnote_index_column": "pretest_1817"
        },
        {
         "CO2_working_capacity [mL/g]": 7.046515924116733,
         "_deepnote_index_column": "pretest_1818"
        },
        {
         "CO2_working_capacity [mL/g]": -1.5517660081554487,
         "_deepnote_index_column": "pretest_1819"
        },
        {
         "CO2_working_capacity [mL/g]": 1.9533695484523996,
         "_deepnote_index_column": "pretest_1820"
        },
        {
         "CO2_working_capacity [mL/g]": -0.43211654350383283,
         "_deepnote_index_column": "pretest_1821"
        },
        {
         "CO2_working_capacity [mL/g]": 21.152184761530908,
         "_deepnote_index_column": "pretest_1822"
        },
        {
         "CO2_working_capacity [mL/g]": 8.330201063395632,
         "_deepnote_index_column": "pretest_1823"
        },
        {
         "CO2_working_capacity [mL/g]": 3.7096204391906373,
         "_deepnote_index_column": "pretest_1824"
        },
        {
         "CO2_working_capacity [mL/g]": 0.6443418215994328,
         "_deepnote_index_column": "pretest_1825"
        },
        {
         "CO2_working_capacity [mL/g]": -2.1421664987466364,
         "_deepnote_index_column": "pretest_1826"
        },
        {
         "CO2_working_capacity [mL/g]": -3.3825479532708123,
         "_deepnote_index_column": "pretest_1827"
        },
        {
         "CO2_working_capacity [mL/g]": -0.549526218238543,
         "_deepnote_index_column": "pretest_1828"
        },
        {
         "CO2_working_capacity [mL/g]": -5.370495656366703,
         "_deepnote_index_column": "pretest_1829"
        },
        {
         "CO2_working_capacity [mL/g]": 3.9400036673087673,
         "_deepnote_index_column": "pretest_1830"
        },
        {
         "CO2_working_capacity [mL/g]": 54.55686557792465,
         "_deepnote_index_column": "pretest_1831"
        },
        {
         "CO2_working_capacity [mL/g]": -4.019893644837648,
         "_deepnote_index_column": "pretest_1832"
        },
        {
         "CO2_working_capacity [mL/g]": 2.881214114298443,
         "_deepnote_index_column": "pretest_1833"
        },
        {
         "CO2_working_capacity [mL/g]": -2.940297610700355,
         "_deepnote_index_column": "pretest_1834"
        },
        {
         "CO2_working_capacity [mL/g]": -1.1324014545239864,
         "_deepnote_index_column": "pretest_1835"
        },
        {
         "CO2_working_capacity [mL/g]": 1.8688768922336687,
         "_deepnote_index_column": "pretest_1836"
        },
        {
         "CO2_working_capacity [mL/g]": -0.6821685066001015,
         "_deepnote_index_column": "pretest_1837"
        },
        {
         "CO2_working_capacity [mL/g]": -9.896555343901214,
         "_deepnote_index_column": "pretest_1838"
        },
        {
         "CO2_working_capacity [mL/g]": 4.716874299676688,
         "_deepnote_index_column": "pretest_1839"
        },
        {
         "CO2_working_capacity [mL/g]": -1.3154388120241538,
         "_deepnote_index_column": "pretest_1840"
        },
        {
         "CO2_working_capacity [mL/g]": -13.930593651181164,
         "_deepnote_index_column": "pretest_1841"
        },
        {
         "CO2_working_capacity [mL/g]": -8.573442772575442,
         "_deepnote_index_column": "pretest_1842"
        },
        {
         "CO2_working_capacity [mL/g]": -2.0124482587473747,
         "_deepnote_index_column": "pretest_1843"
        },
        {
         "CO2_working_capacity [mL/g]": 0.8234000610895572,
         "_deepnote_index_column": "pretest_1844"
        },
        {
         "CO2_working_capacity [mL/g]": -11.01255999697748,
         "_deepnote_index_column": "pretest_1845"
        },
        {
         "CO2_working_capacity [mL/g]": -4.048695738971144,
         "_deepnote_index_column": "pretest_1846"
        },
        {
         "CO2_working_capacity [mL/g]": -1.1303387572966286,
         "_deepnote_index_column": "pretest_1847"
        },
        {
         "CO2_working_capacity [mL/g]": 1.9241078737734256,
         "_deepnote_index_column": "pretest_1848"
        },
        {
         "CO2_working_capacity [mL/g]": -8.672223256549453,
         "_deepnote_index_column": "pretest_1849"
        },
        {
         "CO2_working_capacity [mL/g]": 1.1006243195045546,
         "_deepnote_index_column": "pretest_1850"
        },
        {
         "CO2_working_capacity [mL/g]": 23.18789416591082,
         "_deepnote_index_column": "pretest_1851"
        },
        {
         "CO2_working_capacity [mL/g]": 14.956438802204575,
         "_deepnote_index_column": "pretest_1852"
        },
        {
         "CO2_working_capacity [mL/g]": 7.959913640278104,
         "_deepnote_index_column": "pretest_1853"
        },
        {
         "CO2_working_capacity [mL/g]": 12.509241402676485,
         "_deepnote_index_column": "pretest_1854"
        },
        {
         "CO2_working_capacity [mL/g]": 33.87400323856096,
         "_deepnote_index_column": "pretest_1855"
        },
        {
         "CO2_working_capacity [mL/g]": -2.071665470757854,
         "_deepnote_index_column": "pretest_1856"
        },
        {
         "CO2_working_capacity [mL/g]": 1.661103883267545,
         "_deepnote_index_column": "pretest_1857"
        },
        {
         "CO2_working_capacity [mL/g]": 26.258428372974812,
         "_deepnote_index_column": "pretest_1858"
        },
        {
         "CO2_working_capacity [mL/g]": -0.3003140894650329,
         "_deepnote_index_column": "pretest_1859"
        },
        {
         "CO2_working_capacity [mL/g]": 37.29668384297307,
         "_deepnote_index_column": "pretest_1860"
        },
        {
         "CO2_working_capacity [mL/g]": -4.848605260218078,
         "_deepnote_index_column": "pretest_1861"
        },
        {
         "CO2_working_capacity [mL/g]": 2.2780682384591646,
         "_deepnote_index_column": "pretest_1862"
        },
        {
         "CO2_working_capacity [mL/g]": 1.3582085093497671,
         "_deepnote_index_column": "pretest_1863"
        },
        {
         "CO2_working_capacity [mL/g]": 1.0847840234543404,
         "_deepnote_index_column": "pretest_1864"
        },
        {
         "CO2_working_capacity [mL/g]": -5.543067072904594,
         "_deepnote_index_column": "pretest_1865"
        },
        {
         "CO2_working_capacity [mL/g]": 3.3256482951685924,
         "_deepnote_index_column": "pretest_1866"
        },
        {
         "CO2_working_capacity [mL/g]": -0.236201598686782,
         "_deepnote_index_column": "pretest_1867"
        },
        {
         "CO2_working_capacity [mL/g]": -7.658744216463669,
         "_deepnote_index_column": "pretest_1868"
        },
        {
         "CO2_working_capacity [mL/g]": -2.411792976040587,
         "_deepnote_index_column": "pretest_1869"
        },
        {
         "CO2_working_capacity [mL/g]": -6.121258978968215,
         "_deepnote_index_column": "pretest_1870"
        },
        {
         "CO2_working_capacity [mL/g]": 1.2822667078837298,
         "_deepnote_index_column": "pretest_1871"
        },
        {
         "CO2_working_capacity [mL/g]": -1.9119633982927846,
         "_deepnote_index_column": "pretest_1872"
        },
        {
         "CO2_working_capacity [mL/g]": -2.9437603032330473,
         "_deepnote_index_column": "pretest_1873"
        },
        {
         "CO2_working_capacity [mL/g]": 0.5939820301631197,
         "_deepnote_index_column": "pretest_1874"
        },
        {
         "CO2_working_capacity [mL/g]": 2.5039754150982607,
         "_deepnote_index_column": "pretest_1875"
        },
        {
         "CO2_working_capacity [mL/g]": 4.646757758429041,
         "_deepnote_index_column": "pretest_1876"
        },
        {
         "CO2_working_capacity [mL/g]": 3.807018697413901,
         "_deepnote_index_column": "pretest_1877"
        },
        {
         "CO2_working_capacity [mL/g]": -10.112316670455732,
         "_deepnote_index_column": "pretest_1878"
        },
        {
         "CO2_working_capacity [mL/g]": -2.235511296274298,
         "_deepnote_index_column": "pretest_1879"
        },
        {
         "CO2_working_capacity [mL/g]": -1.696523658633663,
         "_deepnote_index_column": "pretest_1880"
        },
        {
         "CO2_working_capacity [mL/g]": -4.269199560770273,
         "_deepnote_index_column": "pretest_1881"
        },
        {
         "CO2_working_capacity [mL/g]": -12.601280631081078,
         "_deepnote_index_column": "pretest_1882"
        },
        {
         "CO2_working_capacity [mL/g]": 33.46487754558805,
         "_deepnote_index_column": "pretest_1883"
        },
        {
         "CO2_working_capacity [mL/g]": 0.1568467707146395,
         "_deepnote_index_column": "pretest_1884"
        },
        {
         "CO2_working_capacity [mL/g]": -4.711604950966424,
         "_deepnote_index_column": "pretest_1885"
        },
        {
         "CO2_working_capacity [mL/g]": -0.3861881651838928,
         "_deepnote_index_column": "pretest_1886"
        },
        {
         "CO2_working_capacity [mL/g]": 3.4804597679108316,
         "_deepnote_index_column": "pretest_1887"
        },
        {
         "CO2_working_capacity [mL/g]": 3.499978641464625,
         "_deepnote_index_column": "pretest_1888"
        },
        {
         "CO2_working_capacity [mL/g]": -5.07848062659213,
         "_deepnote_index_column": "pretest_1889"
        },
        {
         "CO2_working_capacity [mL/g]": -2.083534245901202,
         "_deepnote_index_column": "pretest_1890"
        },
        {
         "CO2_working_capacity [mL/g]": -4.231204788659398,
         "_deepnote_index_column": "pretest_1891"
        },
        {
         "CO2_working_capacity [mL/g]": -2.7820303497993946,
         "_deepnote_index_column": "pretest_1892"
        },
        {
         "CO2_working_capacity [mL/g]": 0.20865769782072405,
         "_deepnote_index_column": "pretest_1893"
        },
        {
         "CO2_working_capacity [mL/g]": -3.7621847172617064,
         "_deepnote_index_column": "pretest_1894"
        },
        {
         "CO2_working_capacity [mL/g]": -1.7394848458673158,
         "_deepnote_index_column": "pretest_1895"
        },
        {
         "CO2_working_capacity [mL/g]": 3.5308262689163747,
         "_deepnote_index_column": "pretest_1896"
        },
        {
         "CO2_working_capacity [mL/g]": 1.435845204530085,
         "_deepnote_index_column": "pretest_1897"
        },
        {
         "CO2_working_capacity [mL/g]": 40.05482095664503,
         "_deepnote_index_column": "pretest_1898"
        },
        {
         "CO2_working_capacity [mL/g]": -13.539195203587619,
         "_deepnote_index_column": "pretest_1899"
        },
        {
         "CO2_working_capacity [mL/g]": 0.04231231590315929,
         "_deepnote_index_column": "pretest_1900"
        },
        {
         "CO2_working_capacity [mL/g]": -0.7575892879527703,
         "_deepnote_index_column": "pretest_1901"
        },
        {
         "CO2_working_capacity [mL/g]": -6.152230535319204,
         "_deepnote_index_column": "pretest_1902"
        },
        {
         "CO2_working_capacity [mL/g]": 7.375541227637484,
         "_deepnote_index_column": "pretest_1903"
        },
        {
         "CO2_working_capacity [mL/g]": -1.7580497960350818,
         "_deepnote_index_column": "pretest_1904"
        },
        {
         "CO2_working_capacity [mL/g]": 23.791760522037922,
         "_deepnote_index_column": "pretest_1905"
        },
        {
         "CO2_working_capacity [mL/g]": -8.967926109206296,
         "_deepnote_index_column": "pretest_1906"
        },
        {
         "CO2_working_capacity [mL/g]": 1.6812601651264916,
         "_deepnote_index_column": "pretest_1907"
        },
        {
         "CO2_working_capacity [mL/g]": 9.473339592939404,
         "_deepnote_index_column": "pretest_1908"
        },
        {
         "CO2_working_capacity [mL/g]": -7.615937697162218,
         "_deepnote_index_column": "pretest_1909"
        },
        {
         "CO2_working_capacity [mL/g]": 1.609888213885444,
         "_deepnote_index_column": "pretest_1910"
        },
        {
         "CO2_working_capacity [mL/g]": 4.019549631099536,
         "_deepnote_index_column": "pretest_1911"
        },
        {
         "CO2_working_capacity [mL/g]": 6.899695430185211,
         "_deepnote_index_column": "pretest_1912"
        },
        {
         "CO2_working_capacity [mL/g]": 0.236525073987289,
         "_deepnote_index_column": "pretest_1913"
        },
        {
         "CO2_working_capacity [mL/g]": -5.9269812935675334,
         "_deepnote_index_column": "pretest_1914"
        },
        {
         "CO2_working_capacity [mL/g]": 5.558046699847195,
         "_deepnote_index_column": "pretest_1915"
        },
        {
         "CO2_working_capacity [mL/g]": 7.91160686578214,
         "_deepnote_index_column": "pretest_1916"
        },
        {
         "CO2_working_capacity [mL/g]": -4.715216973959626,
         "_deepnote_index_column": "pretest_1917"
        },
        {
         "CO2_working_capacity [mL/g]": 4.645786512267027,
         "_deepnote_index_column": "pretest_1918"
        },
        {
         "CO2_working_capacity [mL/g]": 3.6752147641662765,
         "_deepnote_index_column": "pretest_1919"
        },
        {
         "CO2_working_capacity [mL/g]": -3.753722350728181,
         "_deepnote_index_column": "pretest_1920"
        },
        {
         "CO2_working_capacity [mL/g]": 3.921903155388453,
         "_deepnote_index_column": "pretest_1921"
        },
        {
         "CO2_working_capacity [mL/g]": -3.662549914691715,
         "_deepnote_index_column": "pretest_1922"
        },
        {
         "CO2_working_capacity [mL/g]": 4.321565632844396,
         "_deepnote_index_column": "pretest_1923"
        },
        {
         "CO2_working_capacity [mL/g]": 2.1866113145131485,
         "_deepnote_index_column": "pretest_1924"
        },
        {
         "CO2_working_capacity [mL/g]": -3.135598514591728,
         "_deepnote_index_column": "pretest_1925"
        },
        {
         "CO2_working_capacity [mL/g]": 5.540459857303099,
         "_deepnote_index_column": "pretest_1926"
        },
        {
         "CO2_working_capacity [mL/g]": -3.0461132358225287,
         "_deepnote_index_column": "pretest_1927"
        },
        {
         "CO2_working_capacity [mL/g]": 32.72399837907842,
         "_deepnote_index_column": "pretest_1928"
        },
        {
         "CO2_working_capacity [mL/g]": -0.3931247305253119,
         "_deepnote_index_column": "pretest_1929"
        },
        {
         "CO2_working_capacity [mL/g]": -4.941160522167253,
         "_deepnote_index_column": "pretest_1930"
        },
        {
         "CO2_working_capacity [mL/g]": -5.918258733665502,
         "_deepnote_index_column": "pretest_1931"
        },
        {
         "CO2_working_capacity [mL/g]": -3.3832026544639087,
         "_deepnote_index_column": "pretest_1932"
        },
        {
         "CO2_working_capacity [mL/g]": 5.0870628065811045,
         "_deepnote_index_column": "pretest_1933"
        },
        {
         "CO2_working_capacity [mL/g]": -2.7051620431379617,
         "_deepnote_index_column": "pretest_1934"
        },
        {
         "CO2_working_capacity [mL/g]": 5.992706305162482,
         "_deepnote_index_column": "pretest_1935"
        },
        {
         "CO2_working_capacity [mL/g]": -4.219945997458512,
         "_deepnote_index_column": "pretest_1936"
        },
        {
         "CO2_working_capacity [mL/g]": -3.3890064560483046,
         "_deepnote_index_column": "pretest_1937"
        },
        {
         "CO2_working_capacity [mL/g]": -0.5716168109585922,
         "_deepnote_index_column": "pretest_1938"
        },
        {
         "CO2_working_capacity [mL/g]": 3.8933725365836422,
         "_deepnote_index_column": "pretest_1939"
        },
        {
         "CO2_working_capacity [mL/g]": -4.499986785538041,
         "_deepnote_index_column": "pretest_1940"
        },
        {
         "CO2_working_capacity [mL/g]": 3.709977638080294,
         "_deepnote_index_column": "pretest_1941"
        },
        {
         "CO2_working_capacity [mL/g]": 4.907166076936776,
         "_deepnote_index_column": "pretest_1942"
        },
        {
         "CO2_working_capacity [mL/g]": -0.12907704448398064,
         "_deepnote_index_column": "pretest_1943"
        },
        {
         "CO2_working_capacity [mL/g]": 2.063976888708037,
         "_deepnote_index_column": "pretest_1944"
        },
        {
         "CO2_working_capacity [mL/g]": 6.561569230653091,
         "_deepnote_index_column": "pretest_1945"
        },
        {
         "CO2_working_capacity [mL/g]": -8.500719317773017,
         "_deepnote_index_column": "pretest_1946"
        },
        {
         "CO2_working_capacity [mL/g]": -0.535897713946574,
         "_deepnote_index_column": "pretest_1947"
        },
        {
         "CO2_working_capacity [mL/g]": -6.614155049191334,
         "_deepnote_index_column": "pretest_1948"
        },
        {
         "CO2_working_capacity [mL/g]": 5.5817519464478025,
         "_deepnote_index_column": "pretest_1949"
        },
        {
         "CO2_working_capacity [mL/g]": 2.5547179007279057,
         "_deepnote_index_column": "pretest_1950"
        },
        {
         "CO2_working_capacity [mL/g]": -5.278700627768035,
         "_deepnote_index_column": "pretest_1951"
        },
        {
         "CO2_working_capacity [mL/g]": -0.20054199378263207,
         "_deepnote_index_column": "pretest_1952"
        },
        {
         "CO2_working_capacity [mL/g]": 64.98094521600666,
         "_deepnote_index_column": "pretest_1953"
        },
        {
         "CO2_working_capacity [mL/g]": 2.6833089045527756,
         "_deepnote_index_column": "pretest_1954"
        },
        {
         "CO2_working_capacity [mL/g]": -10.691647144604735,
         "_deepnote_index_column": "pretest_1955"
        },
        {
         "CO2_working_capacity [mL/g]": 1.3870157085308674,
         "_deepnote_index_column": "pretest_1956"
        },
        {
         "CO2_working_capacity [mL/g]": 9.82747881040442,
         "_deepnote_index_column": "pretest_1957"
        },
        {
         "CO2_working_capacity [mL/g]": 5.706754726696426,
         "_deepnote_index_column": "pretest_1958"
        },
        {
         "CO2_working_capacity [mL/g]": -4.913662946898314,
         "_deepnote_index_column": "pretest_1959"
        },
        {
         "CO2_working_capacity [mL/g]": 3.1666775584343645,
         "_deepnote_index_column": "pretest_1960"
        },
        {
         "CO2_working_capacity [mL/g]": 5.64862365806696,
         "_deepnote_index_column": "pretest_1961"
        },
        {
         "CO2_working_capacity [mL/g]": 8.029533476805684,
         "_deepnote_index_column": "pretest_1962"
        },
        {
         "CO2_working_capacity [mL/g]": -14.194807772297503,
         "_deepnote_index_column": "pretest_1963"
        },
        {
         "CO2_working_capacity [mL/g]": 5.615541304594818,
         "_deepnote_index_column": "pretest_1964"
        },
        {
         "CO2_working_capacity [mL/g]": -7.064870673062219,
         "_deepnote_index_column": "pretest_1965"
        },
        {
         "CO2_working_capacity [mL/g]": -4.538398080329219,
         "_deepnote_index_column": "pretest_1966"
        },
        {
         "CO2_working_capacity [mL/g]": 45.75645395962969,
         "_deepnote_index_column": "pretest_1967"
        },
        {
         "CO2_working_capacity [mL/g]": -2.9415644403966614,
         "_deepnote_index_column": "pretest_1968"
        },
        {
         "CO2_working_capacity [mL/g]": -1.3034754432861546,
         "_deepnote_index_column": "pretest_1969"
        },
        {
         "CO2_working_capacity [mL/g]": 5.180522292682209,
         "_deepnote_index_column": "pretest_1970"
        },
        {
         "CO2_working_capacity [mL/g]": 18.872253231412543,
         "_deepnote_index_column": "pretest_1971"
        },
        {
         "CO2_working_capacity [mL/g]": 4.986385826340056,
         "_deepnote_index_column": "pretest_1972"
        },
        {
         "CO2_working_capacity [mL/g]": 0.14757426685834218,
         "_deepnote_index_column": "pretest_1973"
        },
        {
         "CO2_working_capacity [mL/g]": -3.7556823936948716,
         "_deepnote_index_column": "pretest_1974"
        },
        {
         "CO2_working_capacity [mL/g]": -8.318534648783677,
         "_deepnote_index_column": "pretest_1975"
        },
        {
         "CO2_working_capacity [mL/g]": -4.2451522350728474,
         "_deepnote_index_column": "pretest_1976"
        },
        {
         "CO2_working_capacity [mL/g]": -7.671612125852094,
         "_deepnote_index_column": "pretest_1977"
        },
        {
         "CO2_working_capacity [mL/g]": 38.91915637576211,
         "_deepnote_index_column": "pretest_1978"
        },
        {
         "CO2_working_capacity [mL/g]": -4.475913016529396,
         "_deepnote_index_column": "pretest_1979"
        },
        {
         "CO2_working_capacity [mL/g]": -4.0655694779963705,
         "_deepnote_index_column": "pretest_1980"
        },
        {
         "CO2_working_capacity [mL/g]": 6.102872984097306,
         "_deepnote_index_column": "pretest_1981"
        },
        {
         "CO2_working_capacity [mL/g]": 1.69333737703032,
         "_deepnote_index_column": "pretest_1982"
        },
        {
         "CO2_working_capacity [mL/g]": -1.146118750546236,
         "_deepnote_index_column": "pretest_1983"
        },
        {
         "CO2_working_capacity [mL/g]": -10.799429029491867,
         "_deepnote_index_column": "pretest_1984"
        },
        {
         "CO2_working_capacity [mL/g]": -0.2909317952073785,
         "_deepnote_index_column": "pretest_1985"
        },
        {
         "CO2_working_capacity [mL/g]": -0.3769250193734787,
         "_deepnote_index_column": "pretest_1986"
        },
        {
         "CO2_working_capacity [mL/g]": -3.1971518534517647,
         "_deepnote_index_column": "pretest_1987"
        },
        {
         "CO2_working_capacity [mL/g]": -3.622473760991825,
         "_deepnote_index_column": "pretest_1988"
        },
        {
         "CO2_working_capacity [mL/g]": 5.0426892535940215,
         "_deepnote_index_column": "pretest_1989"
        },
        {
         "CO2_working_capacity [mL/g]": -4.472688492389937,
         "_deepnote_index_column": "pretest_1990"
        },
        {
         "CO2_working_capacity [mL/g]": 2.2710225365912384,
         "_deepnote_index_column": "pretest_1991"
        },
        {
         "CO2_working_capacity [mL/g]": -2.4975135292383324,
         "_deepnote_index_column": "pretest_1992"
        },
        {
         "CO2_working_capacity [mL/g]": 31.223514186301486,
         "_deepnote_index_column": "pretest_1993"
        },
        {
         "CO2_working_capacity [mL/g]": 0.12640315090560378,
         "_deepnote_index_column": "pretest_1994"
        },
        {
         "CO2_working_capacity [mL/g]": -5.501579554134154,
         "_deepnote_index_column": "pretest_1995"
        },
        {
         "CO2_working_capacity [mL/g]": 0.9291381035751648,
         "_deepnote_index_column": "pretest_1996"
        },
        {
         "CO2_working_capacity [mL/g]": 3.62281074100704,
         "_deepnote_index_column": "pretest_1997"
        },
        {
         "CO2_working_capacity [mL/g]": 0.1054832992871657,
         "_deepnote_index_column": "pretest_1998"
        },
        {
         "CO2_working_capacity [mL/g]": -8.191159556162544,
         "_deepnote_index_column": "pretest_1999"
        },
        {
         "CO2_working_capacity [mL/g]": 45.03741129151831,
         "_deepnote_index_column": "pretest_2000"
        }
       ]
      },
      "text/plain": "              CO2_working_capacity [mL/g]\nid                                       \npretest_1                      104.641044\npretest_2                      124.931201\npretest_3                      188.598181\npretest_4                       65.434973\npretest_5                       97.975524\n...                                   ...\npretest_1996                     0.929138\npretest_1997                     3.622811\npretest_1998                     0.105483\npretest_1999                    -8.191160\npretest_2000                    45.037411\n\n[2000 rows x 1 columns]",
      "text/html": "<div>\n<style scoped>\n    .dataframe tbody tr th:only-of-type {\n        vertical-align: middle;\n    }\n\n    .dataframe tbody tr th {\n        vertical-align: top;\n    }\n\n    .dataframe thead th {\n        text-align: right;\n    }\n</style>\n<table border=\"1\" class=\"dataframe\">\n  <thead>\n    <tr style=\"text-align: right;\">\n      <th></th>\n      <th>CO2_working_capacity [mL/g]</th>\n    </tr>\n    <tr>\n      <th>id</th>\n      <th></th>\n    </tr>\n  </thead>\n  <tbody>\n    <tr>\n      <th>pretest_1</th>\n      <td>104.641044</td>\n    </tr>\n    <tr>\n      <th>pretest_2</th>\n      <td>124.931201</td>\n    </tr>\n    <tr>\n      <th>pretest_3</th>\n      <td>188.598181</td>\n    </tr>\n    <tr>\n      <th>pretest_4</th>\n      <td>65.434973</td>\n    </tr>\n    <tr>\n      <th>pretest_5</th>\n      <td>97.975524</td>\n    </tr>\n    <tr>\n      <th>...</th>\n      <td>...</td>\n    </tr>\n    <tr>\n      <th>pretest_1996</th>\n      <td>0.929138</td>\n    </tr>\n    <tr>\n      <th>pretest_1997</th>\n      <td>3.622811</td>\n    </tr>\n    <tr>\n      <th>pretest_1998</th>\n      <td>0.105483</td>\n    </tr>\n    <tr>\n      <th>pretest_1999</th>\n      <td>-8.191160</td>\n    </tr>\n    <tr>\n      <th>pretest_2000</th>\n      <td>45.037411</td>\n    </tr>\n  </tbody>\n</table>\n<p>2000 rows × 1 columns</p>\n</div>"
     },
     "metadata": {}
    }
   ]
  },
  {
   "cell_type": "code",
   "metadata": {
    "tags": [],
    "cell_id": "00026-bde8d7bc-1543-4208-b65f-2f7c1cdda8b8",
    "deepnote_to_be_reexecuted": true,
    "source_hash": "8330eb30",
    "execution_start": 1632563040161,
    "execution_millis": 7,
    "deepnote_cell_type": "code"
   },
   "source": "sub.to_csv(\"submission.csv\")",
   "execution_count": null,
   "outputs": []
  },
  {
   "cell_type": "code",
   "metadata": {
    "tags": [],
    "cell_id": "00023-0017bd2d-6efe-4fb2-8362-473c2bfa61bb",
    "deepnote_to_be_reexecuted": true,
    "source_hash": "c11ec714",
    "execution_start": 1632563040172,
    "execution_millis": 12,
    "deepnote_cell_type": "code"
   },
   "source": "import zipfile\nimport hashlib\n \n\nsha256_hash = hashlib.sha256()\nwith open(\"submission.csv\",\"rb\") as f:\n    # Read and update hash string value in blocks of 4K\n    for byte_block in iter(lambda: f.read(4096),b\"\"):\n        sha256_hash.update(byte_block)\n    hash_str = sha256_hash.hexdigest()\n\nprint(hash_str)\nzipfile.ZipFile(f'{hash_str}.zip', mode='w').write(\"submission.csv\")",
   "execution_count": null,
   "outputs": [
    {
     "name": "stdout",
     "text": "09c388dddbb30565cfbe3c50bf6fe369792db403314bcec72a6b3635f083c302\n",
     "output_type": "stream"
    },
    {
     "name": "stdout",
     "text": "cb855dd15c5dd7e589f7dc4b51164e92ad1e7a4019dd9ab9c489d8c1e96cf0b7\n",
     "output_type": "stream"
    }
   ]
  },
  {
   "cell_type": "markdown",
   "source": "<a style='text-decoration:none;line-height:16px;display:flex;color:#5B5B62;padding:10px;justify-content:end;' href='https://deepnote.com?utm_source=created-in-deepnote-cell&projectId=cf8541de-dbc3-45f6-bc1e-4fa446cacbcd' target=\"_blank\">\n<img alt='Created in deepnote.com' style='display:inline;max-height:16px;margin:0px;margin-right:7.5px;' src='data:image/svg+xml;base64,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' > </img>\nCreated in <span style='font-weight:600;margin-left:4px;'>Deepnote</span></a>",
   "metadata": {
    "tags": [],
    "created_in_deepnote_cell": true,
    "deepnote_cell_type": "markdown"
   }
  }
 ],
 "nbformat": 4,
 "nbformat_minor": 2,
 "metadata": {
  "orig_nbformat": 2,
  "deepnote": {
   "is_reactive": false
  },
  "deepnote_notebook_id": "e5514e34-6975-4fe5-b324-2cd0ed87b5d9",
  "deepnote_execution_queue": []
 }
}