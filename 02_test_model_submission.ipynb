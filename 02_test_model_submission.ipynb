{
 "cells": [
  {
   "cell_type": "markdown",
   "source": "# Import modules",
   "metadata": {
    "tags": [],
    "is_collapsed": false,
    "cell_id": "00000-ec85e717-5253-4436-830b-cd502714de64",
    "deepnote_cell_type": "text-cell-h1"
   }
  },
  {
   "cell_type": "code",
   "metadata": {
    "tags": [],
    "cell_id": "00000-f4818cf3-160f-4aef-9095-58cb0e1f9e86",
    "deepnote_to_be_reexecuted": false,
    "source_hash": "b0da67b6",
    "execution_start": 1632454382534,
    "execution_millis": 1839,
    "deepnote_cell_type": "code"
   },
   "source": "import pandas as pd\nfrom src.constants import (\n    PREPROCESSING_PATH,\n    TARGET\n)\n\nimport numpy as np\nfrom sklearn.impute import KNNImputer\nfrom sklearn.metrics import mean_absolute_error\nfrom sklearn.preprocessing import power_transform\nfrom catboost import CatBoostRegressor\nfrom utils.classes.extractor import FunctionalGroupToGramExtractor\n\nfrom typing import (\n    Optional,\n    List,\n    Any\n)\nfrom sklearn.model_selection import KFold, RepeatedKFold, RepeatedStratifiedKFold\n\nimport warnings\nwarnings.filterwarnings(\"ignore\")",
   "outputs": [],
   "execution_count": null
  },
  {
   "cell_type": "markdown",
   "source": "# Load essentials",
   "metadata": {
    "tags": [],
    "is_collapsed": false,
    "cell_id": "00002-372c35c1-86a1-4fb9-a3bb-a8425e2e7933",
    "deepnote_cell_type": "text-cell-h1"
   }
  },
  {
   "cell_type": "code",
   "metadata": {
    "tags": [],
    "cell_id": "00001-c5269b0e-4ece-4af0-97b9-365ae7c9f569",
    "deepnote_to_be_reexecuted": false,
    "source_hash": "24408d87",
    "execution_start": 1632454384377,
    "execution_millis": 427,
    "deepnote_cell_type": "code"
   },
   "source": "Train = pd.read_csv(f\"{PREPROCESSING_PATH}/train_merged_CIF/Train.csv\")\nTrain = Train.set_index(Train.columns[0])\n\nPretest = pd.read_csv(f\"{PREPROCESSING_PATH}/pretest_merged_CIF/Pretest.csv\")\nPretest = Pretest.set_index(Pretest.columns[0])\n\nfuntional_group_extractor = FunctionalGroupToGramExtractor()",
   "outputs": [],
   "execution_count": null
  },
  {
   "cell_type": "markdown",
   "source": "# Set up pipeline",
   "metadata": {
    "tags": [],
    "is_collapsed": false,
    "cell_id": "00003-a808772e-d1d9-4d35-a6e5-8f4b42167c05",
    "deepnote_cell_type": "text-cell-h1"
   }
  },
  {
   "cell_type": "code",
   "metadata": {
    "tags": [],
    "cell_id": "00002-6fe3f3fa-c17a-4805-8c4c-b9192ab07b03",
    "deepnote_to_be_reexecuted": false,
    "source_hash": "985e1a26",
    "execution_start": 1632454384884,
    "execution_millis": 1,
    "deepnote_cell_type": "code"
   },
   "source": "\nclass PreprocessingPipeline:\n    funcgroup2num = None\n    topology2num = None\n    spacegroup2num = None\n\n    def label(self, df):\n        # if self.funcgroup2num is None:\n        #     self.funcgroup2num = {\n        #         c: i\n        #         for i, c\n        #         in enumerate(df[\"functional_groups\"].unique())\n        #     }\n\n        # if self.topology2num is None:\n        #     self.topology2num = {\n        #         c: i\n        #         for i, c\n        #         in enumerate(df[\"topology\"].unique())\n        #     }\n        # df[\"label_topology\"] = df[\"topology\"].map(self.topology2num)\n\n        df[\"label_topology_pcu\"] = (df[\"topology\"] == \"pcu\").astype(int)\n        df[\"label_topology_sra\"] = (df[\"topology\"] == \"sra\").astype(int)\n        df[\"label_topology_acs\"] = (df[\"topology\"] == \"acs\").astype(int)\n        df[\"label_topology_etb\"] = (df[\"topology\"] == \"etb\").astype(int)\n        df[\"label_topology_bcu\"] = (df[\"topology\"] == \"bcu\").astype(int)\n        df[\"label_topology_nbo\"] = (df[\"topology\"] == \"nbo\").astype(int)\n        # if self.spacegroup2num is None:\n        #     self.spacegroup2num = {\n        #         c: i\n        #         for i, c\n        #         in enumerate(df[\"_space_group_crystal_system\"].unique())\n        #     }\n\n        # df[\"label_funcgroup\"] = df[\"functional_groups\"].map(self.funcgroup2num)\n        \n        df[\"label_spacegroup_triclinic\"] = (\n            df[\"_space_group_crystal_system\"] == \"triclinic\"\n        ).astype(int)\n        \n        return df\n\n    @staticmethod\n    def replace_surface_area_equal_0_with_null(df: pd.DataFrame):\n        df[\"surface_area [m^2/g]\"] = df[\"surface_area [m^2/g]\"].replace(0, np.nan)\n        return df\n\n    @staticmethod\n    def replace_inf_with_null(df: pd.DataFrame):\n        df = df.replace(np.inf, 999999)\n        df = df.replace(-np.inf, -999999)\n        return df\n\n    @staticmethod\n    def drop_unused_columns(\n        df, unused_columns: Optional[List[str]] = None\n    ) -> pd.DataFrame:\n        if not unused_columns:\n            unused_columns = [\n                \"MOFname\",\n                # 'functional_groups',\n                \"topology\",\n                \"cif_filepath\",\n                \"_audit_creation_date\",\n                \"_symmetry_space_group_name_H-M\",\n                \"_space_group_crystal_system\",\n                # 'metal_linker',\n                # 'organic_linker1',\n                # 'organic_linker2'\n                \"partial_charge_mean\",\n                \"partial_charge_std\",\n                \"_cell_volume\",\n            ]\n        for col in unused_columns:\n            try:\n                df.drop(col, axis=1, inplace=True)\n            except KeyError:\n                pass\n        return df\n\n    @staticmethod\n    def set_imputer(X: pd.DataFrame) -> KNNImputer:\n        imputer = KNNImputer(n_neighbors=5)\n        imputer.fit(X)\n        return imputer\n\n    @staticmethod\n    def impute_value(X: pd.DataFrame, imputer: KNNImputer):\n        return imputer.transform(X)\n\n    @staticmethod\n    def extract_functional_group(X: pd.DataFrame, fit: bool) -> pd.DataFrame:\n        funtional_group_extacted = funtional_group_extractor.transform(X, fit)\n        return pd.concat([X, funtional_group_extractor], axis=1)\n\n\nclass TrainDataPreprocessingPipeline(PreprocessingPipeline):\n    @staticmethod\n    def drop_surface_area_equal_minus_1(df):\n        return df.drop(df[df[\"surface_area [m^2/g]\"] == -1].index)\n\n    def impute(self):\n        temp_columns = self.X.columns\n        temp_index = self.X.index\n\n        if not self.imputer:\n            self.imputer = self.set_imputer(self.X)\n\n        self.X = self.impute_value(self.X, self.imputer)\n\n        self.X = pd.DataFrame(self.X)\n        self.X.columns = temp_columns\n        self.X.index = temp_index\n\n    def run(self):\n        self.functional_group_extractor = FunctionalGroupToGramExtractor()\n\n        # Drop\n        print(\"Print droping and replace null\")\n        self.df = self.drop_surface_area_equal_minus_1(self.df)\n        self.df = self.replace_surface_area_equal_0_with_null(self.df)\n        self.df = self.replace_inf_with_null(self.df)\n        self.df = self.label(self.df)\n        self.df = self.drop_unused_columns(self.df)\n        self.df = self.df.drop(self.df[self.df[\"CO2/N2_selectivity\"] == 0].index)\n        # Split\n        print(\"Split X, y\")\n        self.X = self.df.drop(TARGET, axis=1)\n        self.y = self.df[[TARGET]]\n\n        # Extract\n        # print(\"Extract functional group\")\n        # functional_group = self.functional_group_extractor.transform(\n        #     self.X[['functional_groups']],\n        #     fit=True\n        # )\n\n        # Impute\n        print(\"Impute\")\n        self.X = self.X.drop(\"functional_groups\", axis=1)\n        self.impute()\n        # self.X = pd.concat([self.X, functional_group], axis=1)\n\n    def __init__(self, df: pd.DataFrame, imputer: Any = None):\n        self.df = df\n        self.imputer = imputer\n",
   "outputs": [],
   "execution_count": null
  },
  {
   "cell_type": "code",
   "metadata": {
    "tags": [],
    "cell_id": "00005-c7f02b29-7109-4de6-b3ba-da169e6d1360",
    "deepnote_to_be_reexecuted": false,
    "source_hash": "f68dc315",
    "execution_start": 1632454384890,
    "execution_millis": 2,
    "deepnote_cell_type": "code"
   },
   "source": "class TestDataPreprocessingPipeline(PreprocessingPipeline):\n    def impute(self):\n        temp_columns = self.X.columns\n        temp_index = self.X.index\n\n        if not self.imputer:\n            self.imputer = self.set_imputer(self.X)\n\n        self.X = self.impute_value(self.X, self.imputer)\n\n        self.X = pd.DataFrame(self.X)\n        self.X.columns = temp_columns\n        self.X.index = temp_index\n\n    def run(self):\n        # Drop\n        print(\"Print droping and replace null\")\n        self.X = self.replace_surface_area_equal_0_with_null(self.df)\n        self.X = self.replace_inf_with_null(self.X)\n        self.X = self.label(self.X)\n        self.X = self.drop_unused_columns(self.X)\n\n        # Extract\n        # print(\"Extract functional group\")\n        # functional_group = self.functional_group_extractor.transform(\n        #     self.X[['functional_groups']],\n        # )\n\n        # Impute\n        print(\"Impute\")\n        self.X = self.X.drop('functional_groups', axis=1)\n        self.impute()\n        # self.X = pd.concat([self.X, functional_group], axis=1)\n        self.X = self.X[self.columns]\n\n    \n    def __init__(\n        self,\n        df: pd.DataFrame,\n        imputer: Any = None,\n        functional_group_extractor: FunctionalGroupToGramExtractor = None,\n        columns: list = None\n    ):\n        self.df = df\n        self.imputer = imputer\n        self.functional_group_extractor = functional_group_extractor\n        self.columns = columns\n\n",
   "outputs": [],
   "execution_count": null
  },
  {
   "cell_type": "markdown",
   "source": "# Run pipeline",
   "metadata": {
    "tags": [],
    "is_collapsed": false,
    "cell_id": "00014-c0355d2c-bfc0-4d3c-9136-1b3d6dcaba2c",
    "deepnote_cell_type": "text-cell-h1"
   }
  },
  {
   "cell_type": "code",
   "metadata": {
    "tags": [],
    "cell_id": "00008-d615fb80-5920-494e-b806-cb2f81ad824c",
    "deepnote_to_be_reexecuted": false,
    "source_hash": "9f99deb6",
    "execution_start": 1632454384894,
    "execution_millis": 204,
    "deepnote_cell_type": "code"
   },
   "source": "class Imputer9999:\n    def transform(self, df):\n        return df.replace(np.nan, -9999)\n\nimputer = Imputer9999()\ntrain = TrainDataPreprocessingPipeline(Train, imputer)\ntrain.run()",
   "outputs": [
    {
     "name": "stdout",
     "text": "Print droping and replace null\nSplit X, y\nImpute\n",
     "output_type": "stream"
    }
   ],
   "execution_count": null
  },
  {
   "cell_type": "code",
   "metadata": {
    "tags": [],
    "cell_id": "00009-a9df5320-a488-4c9a-a2ae-aedf654096f3",
    "deepnote_to_be_reexecuted": false,
    "source_hash": "364ae2b2",
    "execution_start": 1632454385095,
    "execution_millis": 100,
    "deepnote_cell_type": "code"
   },
   "source": "train.X",
   "outputs": [
    {
     "output_type": "execute_result",
     "execution_count": 6,
     "data": {
      "application/vnd.deepnote.dataframe.v2+json": {
       "row_count": 66715,
       "column_count": 30,
       "columns": [
        {
         "name": "volume [A^3]",
         "dtype": "float64",
         "stats": {
          "unique_count": 66709,
          "nan_count": 0,
          "min": "606.576038",
          "max": "223964.854408",
          "histogram": [
           {
            "bin_start": 606.576038,
            "bin_end": 22942.403875,
            "count": 65787
           },
           {
            "bin_start": 22942.403875,
            "bin_end": 45278.231712,
            "count": 823
           },
           {
            "bin_start": 45278.231712,
            "bin_end": 67614.059549,
            "count": 80
           },
           {
            "bin_start": 67614.059549,
            "bin_end": 89949.887386,
            "count": 18
           },
           {
            "bin_start": 89949.887386,
            "bin_end": 112285.715223,
            "count": 3
           },
           {
            "bin_start": 112285.715223,
            "bin_end": 134621.54306,
            "count": 3
           },
           {
            "bin_start": 134621.54306,
            "bin_end": 156957.37089700002,
            "count": 0
           },
           {
            "bin_start": 156957.37089700002,
            "bin_end": 179293.198734,
            "count": 0
           },
           {
            "bin_start": 179293.198734,
            "bin_end": 201629.026571,
            "count": 0
           },
           {
            "bin_start": 201629.026571,
            "bin_end": 223964.854408,
            "count": 1
           }
          ]
         }
        },
        {
         "name": "weight [u]",
         "dtype": "float64"
        },
        {
         "name": "surface_area [m^2/g]",
         "dtype": "float64"
        },
        {
         "name": "void_fraction",
         "dtype": "float64"
        },
        {
         "name": "void_volume [cm^3/g]",
         "dtype": "float64"
        },
        {
         "name": "metal_linker",
         "dtype": "int64"
        },
        {
         "name": "organic_linker1",
         "dtype": "int64"
        },
        {
         "name": "organic_linker2",
         "dtype": "int64"
        },
        {
         "name": "CO2/N2_selectivity",
         "dtype": "float64"
        },
        {
         "name": "heat_adsorption_CO2_P0.15bar_T298K [kcal/mol]",
         "dtype": "float64"
        },
        {
         "name": "_symmetry_Int_Tables_number",
         "dtype": "int64"
        },
        {
         "name": "_cell_length_a",
         "dtype": "float64"
        },
        {
         "name": "_cell_length_b",
         "dtype": "float64"
        },
        {
         "name": "_cell_length_c",
         "dtype": "float64"
        },
        {
         "name": "_cell_angle_alpha",
         "dtype": "float64"
        },
        {
         "name": "_cell_angle_beta",
         "dtype": "float64"
        },
        {
         "name": "_cell_angle_gamma",
         "dtype": "float64"
        },
        {
         "name": "partial_charge_median",
         "dtype": "float64"
        },
        {
         "name": "bond_type_countS",
         "dtype": "int64"
        },
        {
         "name": "bond_type_countA",
         "dtype": "int64"
        },
        {
         "name": "bond_type_countD",
         "dtype": "float64"
        },
        {
         "name": "bond_type_countT",
         "dtype": "float64"
        },
        {
         "name": "bond_type_countAm",
         "dtype": "float64"
        },
        {
         "name": "label_topology_pcu",
         "dtype": "int64"
        },
        {
         "name": "label_topology_sra",
         "dtype": "int64"
        },
        {
         "name": "label_topology_acs",
         "dtype": "int64"
        },
        {
         "name": "label_topology_etb",
         "dtype": "int64"
        },
        {
         "name": "label_topology_bcu",
         "dtype": "int64"
        },
        {
         "name": "label_topology_nbo",
         "dtype": "int64"
        },
        {
         "name": "label_spacegroup_triclinic",
         "dtype": "int64"
        },
        {
         "name": "_deepnote_index_column",
         "dtype": "int64"
        }
       ],
       "rows_top": [
        {
         "volume [A^3]": 1116.667429,
         "weight [u]": 875.2405999999999,
         "surface_area [m^2/g]": -9999,
         "void_fraction": 0.07899,
         "void_volume [cm^3/g]": 0.0606999999999999,
         "metal_linker": 3,
         "organic_linker1": 4,
         "organic_linker2": 11,
         "CO2/N2_selectivity": 22.86416611,
         "heat_adsorption_CO2_P0.15bar_T298K [kcal/mol]": 6.786041,
         "_symmetry_Int_Tables_number": 1,
         "_cell_length_a": 10.609882,
         "_cell_length_b": 10.643578,
         "_cell_length_c": 9.890832,
         "_cell_angle_alpha": 89.904234,
         "_cell_angle_beta": 91.242355,
         "_cell_angle_gamma": 90.261935,
         "partial_charge_median": 0.024709,
         "bond_type_countS": 56,
         "bond_type_countA": 20,
         "bond_type_countD": 8,
         "bond_type_countT": 0,
         "bond_type_countAm": 0,
         "label_topology_pcu": 1,
         "label_topology_sra": 0,
         "label_topology_acs": 0,
         "label_topology_etb": 0,
         "label_topology_bcu": 0,
         "label_topology_nbo": 0,
         "label_spacegroup_triclinic": 1,
         "_deepnote_index_column": 1
        },
        {
         "volume [A^3]": 2769.503842,
         "weight [u]": 2211.697211,
         "surface_area [m^2/g]": 603.61,
         "void_fraction": 0.13794,
         "void_volume [cm^3/g]": 0.104,
         "metal_linker": 10,
         "organic_linker1": 44,
         "organic_linker2": 57,
         "CO2/N2_selectivity": 33.61678033,
         "heat_adsorption_CO2_P0.15bar_T298K [kcal/mol]": 7.147286,
         "_symmetry_Int_Tables_number": 1,
         "_cell_length_a": 8.463295,
         "_cell_length_b": 17.684225,
         "_cell_length_c": 18.960098,
         "_cell_angle_alpha": 100.063446,
         "_cell_angle_beta": 91.815775,
         "_cell_angle_gamma": 96.94221,
         "partial_charge_median": 0.059489,
         "bond_type_countS": 162,
         "bond_type_countA": 50,
         "bond_type_countD": 8,
         "bond_type_countT": 1,
         "bond_type_countAm": 0,
         "label_topology_pcu": 0,
         "label_topology_sra": 0,
         "label_topology_acs": 0,
         "label_topology_etb": 1,
         "label_topology_bcu": 0,
         "label_topology_nbo": 0,
         "label_spacegroup_triclinic": 1,
         "_deepnote_index_column": 2
        },
        {
         "volume [A^3]": 1089.818728,
         "weight [u]": 773.68796,
         "surface_area [m^2/g]": 788.5,
         "void_fraction": 0.14874,
         "void_volume [cm^3/g]": 0.1262,
         "metal_linker": 2,
         "organic_linker1": 22,
         "organic_linker2": 24,
         "CO2/N2_selectivity": 19.26372569,
         "heat_adsorption_CO2_P0.15bar_T298K [kcal/mol]": 6.347967,
         "_symmetry_Int_Tables_number": 1,
         "_cell_length_a": 10.73211,
         "_cell_length_b": 9.552271,
         "_cell_length_c": 10.631996,
         "_cell_angle_alpha": 89.202223,
         "_cell_angle_beta": 89.943258,
         "_cell_angle_gamma": 90.387501,
         "partial_charge_median": 0.126583,
         "bond_type_countS": 87,
         "bond_type_countA": 8,
         "bond_type_countD": 2,
         "bond_type_countT": 0,
         "bond_type_countAm": 0,
         "label_topology_pcu": 1,
         "label_topology_sra": 0,
         "label_topology_acs": 0,
         "label_topology_etb": 0,
         "label_topology_bcu": 0,
         "label_topology_nbo": 0,
         "label_spacegroup_triclinic": 1,
         "_deepnote_index_column": 3
        },
        {
         "volume [A^3]": 2205.1983010000004,
         "weight [u]": 1304.63872,
         "surface_area [m^2/g]": 1441.53,
         "void_fraction": 0.21814,
         "void_volume [cm^3/g]": 0.222,
         "metal_linker": 9,
         "organic_linker1": 17,
         "organic_linker2": 24,
         "CO2/N2_selectivity": 25.70137692,
         "heat_adsorption_CO2_P0.15bar_T298K [kcal/mol]": 6.190085,
         "_symmetry_Int_Tables_number": 1,
         "_cell_length_a": 6.93553,
         "_cell_length_b": 17.504896,
         "_cell_length_c": 19.27498,
         "_cell_angle_alpha": 109.537419,
         "_cell_angle_beta": 90.23458,
         "_cell_angle_gamma": 90.532988,
         "partial_charge_median": -0.016101,
         "bond_type_countS": 86,
         "bond_type_countA": 54,
         "bond_type_countD": 2,
         "bond_type_countT": 0,
         "bond_type_countAm": 0,
         "label_topology_pcu": 0,
         "label_topology_sra": 1,
         "label_topology_acs": 0,
         "label_topology_etb": 0,
         "label_topology_bcu": 0,
         "label_topology_nbo": 0,
         "label_spacegroup_triclinic": 1,
         "_deepnote_index_column": 4
        },
        {
         "volume [A^3]": 1137.800963,
         "weight [u]": 901.73612,
         "surface_area [m^2/g]": -9999,
         "void_fraction": 0.07778,
         "void_volume [cm^3/g]": 0.0591,
         "metal_linker": 2,
         "organic_linker1": 1,
         "organic_linker2": 22,
         "CO2/N2_selectivity": 30.00183795,
         "heat_adsorption_CO2_P0.15bar_T298K [kcal/mol]": 6.478063,
         "_symmetry_Int_Tables_number": 1,
         "_cell_length_a": 10.825925,
         "_cell_length_b": 9.699886,
         "_cell_length_c": 10.853274,
         "_cell_angle_alpha": 89.694657,
         "_cell_angle_beta": 92.990983,
         "_cell_angle_gamma": 91.404649,
         "partial_charge_median": 0.1432804999999999,
         "bond_type_countS": 84,
         "bond_type_countA": 20,
         "bond_type_countD": 0,
         "bond_type_countT": 0,
         "bond_type_countAm": 0,
         "label_topology_pcu": 1,
         "label_topology_sra": 0,
         "label_topology_acs": 0,
         "label_topology_etb": 0,
         "label_topology_bcu": 0,
         "label_topology_nbo": 0,
         "label_spacegroup_triclinic": 1,
         "_deepnote_index_column": 5
        },
        {
         "volume [A^3]": 3954.659761,
         "weight [u]": 1543.02768,
         "surface_area [m^2/g]": 2430.55,
         "void_fraction": 0.3709399999999999,
         "void_volume [cm^3/g]": 0.5725,
         "metal_linker": 9,
         "organic_linker1": 7,
         "organic_linker2": 23,
         "CO2/N2_selectivity": 17.14654102,
         "heat_adsorption_CO2_P0.15bar_T298K [kcal/mol]": 5.398304,
         "_symmetry_Int_Tables_number": 1,
         "_cell_length_a": 24.949291,
         "_cell_length_b": 7.054011,
         "_cell_length_c": 22.606019,
         "_cell_angle_alpha": 90.036873,
         "_cell_angle_beta": 96.274104,
         "_cell_angle_gamma": 89.946334,
         "partial_charge_median": 0.1095015,
         "bond_type_countS": 132,
         "bond_type_countA": 44,
         "bond_type_countD": 0,
         "bond_type_countT": 6,
         "bond_type_countAm": 0,
         "label_topology_pcu": 0,
         "label_topology_sra": 1,
         "label_topology_acs": 0,
         "label_topology_etb": 0,
         "label_topology_bcu": 0,
         "label_topology_nbo": 0,
         "label_spacegroup_triclinic": 1,
         "_deepnote_index_column": 6
        },
        {
         "volume [A^3]": 3565.914939,
         "weight [u]": 1954.749656,
         "surface_area [m^2/g]": 1530.02,
         "void_fraction": 0.33337,
         "void_volume [cm^3/g]": 0.3662,
         "metal_linker": 10,
         "organic_linker1": 53,
         "organic_linker2": 55,
         "CO2/N2_selectivity": 18.36379134,
         "heat_adsorption_CO2_P0.15bar_T298K [kcal/mol]": 6.303857,
         "_symmetry_Int_Tables_number": 1,
         "_cell_length_a": 8.2867,
         "_cell_length_b": 19.200319,
         "_cell_length_c": 22.787351,
         "_cell_angle_alpha": 100.16818,
         "_cell_angle_beta": 89.967715,
         "_cell_angle_gamma": 92.22909,
         "partial_charge_median": 0.0265695,
         "bond_type_countS": 141,
         "bond_type_countA": 49,
         "bond_type_countD": 15,
         "bond_type_countT": 0,
         "bond_type_countAm": 4,
         "label_topology_pcu": 0,
         "label_topology_sra": 0,
         "label_topology_acs": 0,
         "label_topology_etb": 1,
         "label_topology_bcu": 0,
         "label_topology_nbo": 0,
         "label_spacegroup_triclinic": 1,
         "_deepnote_index_column": 7
        },
        {
         "volume [A^3]": 916.043907,
         "weight [u]": 639.11156,
         "surface_area [m^2/g]": 1685.58,
         "void_fraction": 0.28458,
         "void_volume [cm^3/g]": 0.2456,
         "metal_linker": 2,
         "organic_linker1": 5,
         "organic_linker2": 13,
         "CO2/N2_selectivity": 12.68480443,
         "heat_adsorption_CO2_P0.15bar_T298K [kcal/mol]": 5.234732,
         "_symmetry_Int_Tables_number": 1,
         "_cell_length_a": 12.999835,
         "_cell_length_b": 9.096507,
         "_cell_length_c": 7.790769,
         "_cell_angle_alpha": 90.003048,
         "_cell_angle_beta": 96.113006,
         "_cell_angle_gamma": 89.99935,
         "partial_charge_median": -0.1189905,
         "bond_type_countS": 21,
         "bond_type_countA": 19,
         "bond_type_countD": 0,
         "bond_type_countT": 2,
         "bond_type_countAm": 0,
         "label_topology_pcu": 1,
         "label_topology_sra": 0,
         "label_topology_acs": 0,
         "label_topology_etb": 0,
         "label_topology_bcu": 0,
         "label_topology_nbo": 0,
         "label_spacegroup_triclinic": 1,
         "_deepnote_index_column": 8
        },
        {
         "volume [A^3]": 2228.882339,
         "weight [u]": 1422.69182,
         "surface_area [m^2/g]": 1458.02,
         "void_fraction": 0.2427699999999999,
         "void_volume [cm^3/g]": 0.2291,
         "metal_linker": 4,
         "organic_linker1": 14,
         "organic_linker2": 19,
         "CO2/N2_selectivity": 37.04042435,
         "heat_adsorption_CO2_P0.15bar_T298K [kcal/mol]": 6.298964,
         "_symmetry_Int_Tables_number": 1,
         "_cell_length_a": 11.514733,
         "_cell_length_b": 11.613772,
         "_cell_length_c": 19.363484,
         "_cell_angle_alpha": 90.584232,
         "_cell_angle_beta": 89.362927,
         "_cell_angle_gamma": 59.423201,
         "partial_charge_median": -0.0044885,
         "bond_type_countS": 64,
         "bond_type_countA": 57,
         "bond_type_countD": 1,
         "bond_type_countT": 6,
         "bond_type_countAm": 0,
         "label_topology_pcu": 0,
         "label_topology_sra": 0,
         "label_topology_acs": 1,
         "label_topology_etb": 0,
         "label_topology_bcu": 0,
         "label_topology_nbo": 0,
         "label_spacegroup_triclinic": 1,
         "_deepnote_index_column": 9
        },
        {
         "volume [A^3]": 4275.421420000001,
         "weight [u]": 1606.196,
         "surface_area [m^2/g]": 3276.11,
         "void_fraction": 0.4100399999999999,
         "void_volume [cm^3/g]": 0.6573,
         "metal_linker": 3,
         "organic_linker1": 13,
         "organic_linker2": 29,
         "CO2/N2_selectivity": 10.9992991,
         "heat_adsorption_CO2_P0.15bar_T298K [kcal/mol]": 5.539327,
         "_symmetry_Int_Tables_number": 1,
         "_cell_length_a": 12.041039,
         "_cell_length_b": 13.008236,
         "_cell_length_c": 27.438486,
         "_cell_angle_alpha": 91.181769,
         "_cell_angle_beta": 84.870254,
         "_cell_angle_gamma": 92.639099,
         "partial_charge_median": 0.1720324999999999,
         "bond_type_countS": 124,
         "bond_type_countA": 74,
         "bond_type_countD": 0,
         "bond_type_countT": 0,
         "bond_type_countAm": 0,
         "label_topology_pcu": 1,
         "label_topology_sra": 0,
         "label_topology_acs": 0,
         "label_topology_etb": 0,
         "label_topology_bcu": 0,
         "label_topology_nbo": 0,
         "label_spacegroup_triclinic": 1,
         "_deepnote_index_column": 10
        },
        {
         "volume [A^3]": 1607.935338,
         "weight [u]": 1110.38712,
         "surface_area [m^2/g]": 1098.36,
         "void_fraction": 0.18787,
         "void_volume [cm^3/g]": 0.1638,
         "metal_linker": 9,
         "organic_linker1": 1,
         "organic_linker2": 24,
         "CO2/N2_selectivity": 24.25902464,
         "heat_adsorption_CO2_P0.15bar_T298K [kcal/mol]": 5.926444,
         "_symmetry_Int_Tables_number": 1,
         "_cell_length_a": 6.931148,
         "_cell_length_b": 14.529443,
         "_cell_length_c": 15.967346,
         "_cell_angle_alpha": 90.477043,
         "_cell_angle_beta": 90.128514,
         "_cell_angle_gamma": 89.818714,
         "partial_charge_median": -0.1228635,
         "bond_type_countS": 66,
         "bond_type_countA": 34,
         "bond_type_countD": 4,
         "bond_type_countT": 0,
         "bond_type_countAm": 0,
         "label_topology_pcu": 0,
         "label_topology_sra": 1,
         "label_topology_acs": 0,
         "label_topology_etb": 0,
         "label_topology_bcu": 0,
         "label_topology_nbo": 0,
         "label_spacegroup_triclinic": 1,
         "_deepnote_index_column": 11
        },
        {
         "volume [A^3]": 1175.47586,
         "weight [u]": 1397.05128,
         "surface_area [m^2/g]": -9999,
         "void_fraction": 0.05704,
         "void_volume [cm^3/g]": 0.0288999999999999,
         "metal_linker": 2,
         "organic_linker1": 22,
         "organic_linker2": 24,
         "CO2/N2_selectivity": 58.10697445,
         "heat_adsorption_CO2_P0.15bar_T298K [kcal/mol]": 7.4078979999999985,
         "_symmetry_Int_Tables_number": 1,
         "_cell_length_a": 10.998061,
         "_cell_length_b": 9.934987,
         "_cell_length_c": 10.760373,
         "_cell_angle_alpha": 90.750251,
         "_cell_angle_beta": 89.160226,
         "_cell_angle_gamma": 90.456866,
         "partial_charge_median": 0.16651,
         "bond_type_countS": 105,
         "bond_type_countA": 8,
         "bond_type_countD": 0,
         "bond_type_countT": 0,
         "bond_type_countAm": 0,
         "label_topology_pcu": 1,
         "label_topology_sra": 0,
         "label_topology_acs": 0,
         "label_topology_etb": 0,
         "label_topology_bcu": 0,
         "label_topology_nbo": 0,
         "label_spacegroup_triclinic": 1,
         "_deepnote_index_column": 12
        },
        {
         "volume [A^3]": 1650.879383,
         "weight [u]": 796.6896799999998,
         "surface_area [m^2/g]": 2117.01,
         "void_fraction": 0.3040499999999999,
         "void_volume [cm^3/g]": 0.3794,
         "metal_linker": 2,
         "organic_linker1": 4,
         "organic_linker2": 6,
         "CO2/N2_selectivity": 12.99674112,
         "heat_adsorption_CO2_P0.15bar_T298K [kcal/mol]": 4.936655,
         "_symmetry_Int_Tables_number": 1,
         "_cell_length_a": 15.969446,
         "_cell_length_b": 10.823247,
         "_cell_length_c": 9.551803,
         "_cell_angle_alpha": 90.396255,
         "_cell_angle_beta": 90.318456,
         "_cell_angle_gamma": 90.0693,
         "partial_charge_median": 0.107489,
         "bond_type_countS": 59,
         "bond_type_countA": 28,
         "bond_type_countD": 0,
         "bond_type_countT": 2,
         "bond_type_countAm": 0,
         "label_topology_pcu": 1,
         "label_topology_sra": 0,
         "label_topology_acs": 0,
         "label_topology_etb": 0,
         "label_topology_bcu": 0,
         "label_topology_nbo": 0,
         "label_spacegroup_triclinic": 1,
         "_deepnote_index_column": 13
        },
        {
         "volume [A^3]": 1071.619874,
         "weight [u]": 701.6286,
         "surface_area [m^2/g]": -9999,
         "void_fraction": 0.10455,
         "void_volume [cm^3/g]": 0.0961999999999999,
         "metal_linker": 2,
         "organic_linker1": 12,
         "organic_linker2": 22,
         "CO2/N2_selectivity": 31.66445559,
         "heat_adsorption_CO2_P0.15bar_T298K [kcal/mol]": 7.427183,
         "_symmetry_Int_Tables_number": 1,
         "_cell_length_a": 10.772046,
         "_cell_length_b": 10.925408,
         "_cell_length_c": 9.856399,
         "_cell_angle_alpha": 110.039694,
         "_cell_angle_beta": 98.693134,
         "_cell_angle_gamma": 92.461125,
         "partial_charge_median": 0.131152,
         "bond_type_countS": 67,
         "bond_type_countA": 8,
         "bond_type_countD": 4,
         "bond_type_countT": 2,
         "bond_type_countAm": 0,
         "label_topology_pcu": 1,
         "label_topology_sra": 0,
         "label_topology_acs": 0,
         "label_topology_etb": 0,
         "label_topology_bcu": 0,
         "label_topology_nbo": 0,
         "label_spacegroup_triclinic": 1,
         "_deepnote_index_column": 14
        },
        {
         "volume [A^3]": 1769.973982,
         "weight [u]": 945.403413,
         "surface_area [m^2/g]": 1870.11,
         "void_fraction": 0.27705,
         "void_volume [cm^3/g]": 0.3124,
         "metal_linker": 3,
         "organic_linker1": 4,
         "organic_linker2": 26,
         "CO2/N2_selectivity": 17.01166312,
         "heat_adsorption_CO2_P0.15bar_T298K [kcal/mol]": 5.139598,
         "_symmetry_Int_Tables_number": 1,
         "_cell_length_a": 9.858469,
         "_cell_length_b": 10.672478,
         "_cell_length_c": 16.8966,
         "_cell_angle_alpha": 90.35894,
         "_cell_angle_beta": 84.651637,
         "_cell_angle_gamma": 90.271403,
         "partial_charge_median": 0.0888055,
         "bond_type_countS": 68,
         "bond_type_countA": 32,
         "bond_type_countD": 1,
         "bond_type_countT": 0,
         "bond_type_countAm": 0,
         "label_topology_pcu": 1,
         "label_topology_sra": 0,
         "label_topology_acs": 0,
         "label_topology_etb": 0,
         "label_topology_bcu": 0,
         "label_topology_nbo": 0,
         "label_spacegroup_triclinic": 1,
         "_deepnote_index_column": 15
        },
        {
         "volume [A^3]": 4282.561071,
         "weight [u]": 2478.166816,
         "surface_area [m^2/g]": 1294.48,
         "void_fraction": 0.2860699999999999,
         "void_volume [cm^3/g]": 0.2977,
         "metal_linker": 10,
         "organic_linker1": 52,
         "organic_linker2": 54,
         "CO2/N2_selectivity": 19.28955582,
         "heat_adsorption_CO2_P0.15bar_T298K [kcal/mol]": 5.867149,
         "_symmetry_Int_Tables_number": 1,
         "_cell_length_a": 8.442812,
         "_cell_length_b": 19.084105,
         "_cell_length_c": 26.973845,
         "_cell_angle_alpha": 98.789894,
         "_cell_angle_beta": 92.030824,
         "_cell_angle_gamma": 85.860956,
         "partial_charge_median": 0.0959935,
         "bond_type_countS": 209,
         "bond_type_countA": 40,
         "bond_type_countD": 21,
         "bond_type_countT": 0,
         "bond_type_countAm": 4,
         "label_topology_pcu": 0,
         "label_topology_sra": 0,
         "label_topology_acs": 0,
         "label_topology_etb": 1,
         "label_topology_bcu": 0,
         "label_topology_nbo": 0,
         "label_spacegroup_triclinic": 1,
         "_deepnote_index_column": 16
        }
       ],
       "rows_bottom": [
        {
         "volume [A^3]": 851.7015679999998,
         "weight [u]": 731.33212,
         "surface_area [m^2/g]": -9999,
         "void_fraction": 0,
         "void_volume [cm^3/g]": 0,
         "metal_linker": 3,
         "organic_linker1": 10,
         "organic_linker2": 16,
         "CO2/N2_selectivity": 0.02033596,
         "heat_adsorption_CO2_P0.15bar_T298K [kcal/mol]": -9999,
         "_symmetry_Int_Tables_number": 1,
         "_cell_length_a": 8.022593,
         "_cell_length_b": 8.55139,
         "_cell_length_c": 13.004916,
         "_cell_angle_alpha": 98.006006,
         "_cell_angle_beta": 104.641009,
         "_cell_angle_gamma": 92.660523,
         "partial_charge_median": 0.1249415,
         "bond_type_countS": 51,
         "bond_type_countA": 30,
         "bond_type_countD": 2,
         "bond_type_countT": 0,
         "bond_type_countAm": 0,
         "label_topology_pcu": 1,
         "label_topology_sra": 0,
         "label_topology_acs": 0,
         "label_topology_etb": 0,
         "label_topology_bcu": 0,
         "label_topology_nbo": 0,
         "label_spacegroup_triclinic": 1,
         "_deepnote_index_column": 68587
        },
        {
         "volume [A^3]": 2981.283155,
         "weight [u]": 2629.06624,
         "surface_area [m^2/g]": -9999,
         "void_fraction": 0.0048599999999999,
         "void_volume [cm^3/g]": 0,
         "metal_linker": 9,
         "organic_linker1": 18,
         "organic_linker2": 29,
         "CO2/N2_selectivity": 4.613800749,
         "heat_adsorption_CO2_P0.15bar_T298K [kcal/mol]": -9999,
         "_symmetry_Int_Tables_number": 1,
         "_cell_length_a": 7.014127,
         "_cell_length_b": 11.669036,
         "_cell_length_c": 36.461236,
         "_cell_angle_alpha": 89.999846,
         "_cell_angle_beta": 87.430808,
         "_cell_angle_gamma": 90.002114,
         "partial_charge_median": -0.029738,
         "bond_type_countS": 96,
         "bond_type_countA": 146,
         "bond_type_countD": 0,
         "bond_type_countT": 8,
         "bond_type_countAm": 0,
         "label_topology_pcu": 0,
         "label_topology_sra": 1,
         "label_topology_acs": 0,
         "label_topology_etb": 0,
         "label_topology_bcu": 0,
         "label_topology_nbo": 0,
         "label_spacegroup_triclinic": 1,
         "_deepnote_index_column": 68590
        },
        {
         "volume [A^3]": 2046.621875,
         "weight [u]": 2107.834824,
         "surface_area [m^2/g]": -9999,
         "void_fraction": 0,
         "void_volume [cm^3/g]": 0,
         "metal_linker": 10,
         "organic_linker1": 47,
         "organic_linker2": 50,
         "CO2/N2_selectivity": 7.488249221,
         "heat_adsorption_CO2_P0.15bar_T298K [kcal/mol]": -9999,
         "_symmetry_Int_Tables_number": 1,
         "_cell_length_a": 8.750334,
         "_cell_length_b": 14.779556,
         "_cell_length_c": 16.645582,
         "_cell_angle_alpha": 106.255585,
         "_cell_angle_beta": 82.020864,
         "_cell_angle_gamma": 92.455172,
         "partial_charge_median": 0.068162,
         "bond_type_countS": 193,
         "bond_type_countA": 22,
         "bond_type_countD": 11,
         "bond_type_countT": 0,
         "bond_type_countAm": 0,
         "label_topology_pcu": 0,
         "label_topology_sra": 0,
         "label_topology_acs": 0,
         "label_topology_etb": 1,
         "label_topology_bcu": 0,
         "label_topology_nbo": 0,
         "label_spacegroup_triclinic": 1,
         "_deepnote_index_column": 68591
        },
        {
         "volume [A^3]": 1524.505449,
         "weight [u]": 1685.041936,
         "surface_area [m^2/g]": -9999,
         "void_fraction": 0.0069899999999999,
         "void_volume [cm^3/g]": 0,
         "metal_linker": 10,
         "organic_linker1": 46,
         "organic_linker2": 48,
         "CO2/N2_selectivity": 9.460790768,
         "heat_adsorption_CO2_P0.15bar_T298K [kcal/mol]": -9999,
         "_symmetry_Int_Tables_number": 1,
         "_cell_length_a": 8.28971,
         "_cell_length_b": 12.704025,
         "_cell_length_c": 14.921507,
         "_cell_angle_alpha": 96.820117,
         "_cell_angle_beta": 97.042548,
         "_cell_angle_gamma": 99.111613,
         "partial_charge_median": 0.1265825,
         "bond_type_countS": 110,
         "bond_type_countA": 31,
         "bond_type_countD": 8,
         "bond_type_countT": 0,
         "bond_type_countAm": 0,
         "label_topology_pcu": 0,
         "label_topology_sra": 0,
         "label_topology_acs": 0,
         "label_topology_etb": 1,
         "label_topology_bcu": 0,
         "label_topology_nbo": 0,
         "label_spacegroup_triclinic": 1,
         "_deepnote_index_column": 68594
        },
        {
         "volume [A^3]": 3760.489888,
         "weight [u]": 3343.200672,
         "surface_area [m^2/g]": -9999,
         "void_fraction": 0.0122099999999999,
         "void_volume [cm^3/g]": 0,
         "metal_linker": 10,
         "organic_linker1": 42,
         "organic_linker2": 42,
         "CO2/N2_selectivity": 0.2271604939999999,
         "heat_adsorption_CO2_P0.15bar_T298K [kcal/mol]": -9999,
         "_symmetry_Int_Tables_number": 1,
         "_cell_length_a": 20.106341,
         "_cell_length_b": 22.433377,
         "_cell_length_c": 8.641388,
         "_cell_angle_alpha": 89.712457,
         "_cell_angle_beta": 105.246472,
         "_cell_angle_gamma": 90.1271,
         "partial_charge_median": 0.0657335,
         "bond_type_countS": 306,
         "bond_type_countA": 48,
         "bond_type_countD": 16,
         "bond_type_countT": 0,
         "bond_type_countAm": 0,
         "label_topology_pcu": 0,
         "label_topology_sra": 0,
         "label_topology_acs": 0,
         "label_topology_etb": 1,
         "label_topology_bcu": 0,
         "label_topology_nbo": 0,
         "label_spacegroup_triclinic": 1,
         "_deepnote_index_column": 68596
        },
        {
         "volume [A^3]": 1621.161289,
         "weight [u]": 1292.77096,
         "surface_area [m^2/g]": -9999,
         "void_fraction": 0,
         "void_volume [cm^3/g]": 0,
         "metal_linker": 9,
         "organic_linker1": 12,
         "organic_linker2": 12,
         "CO2/N2_selectivity": 4082.551111,
         "heat_adsorption_CO2_P0.15bar_T298K [kcal/mol]": -9999,
         "_symmetry_Int_Tables_number": 1,
         "_cell_length_a": 6.904548,
         "_cell_length_b": 14.262454,
         "_cell_length_c": 16.46276,
         "_cell_angle_alpha": 90.040576,
         "_cell_angle_beta": 89.713152,
         "_cell_angle_gamma": 90.076031,
         "partial_charge_median": 0.1346745,
         "bond_type_countS": 132,
         "bond_type_countA": 16,
         "bond_type_countD": 8,
         "bond_type_countT": 0,
         "bond_type_countAm": 0,
         "label_topology_pcu": 0,
         "label_topology_sra": 1,
         "label_topology_acs": 0,
         "label_topology_etb": 0,
         "label_topology_bcu": 0,
         "label_topology_nbo": 0,
         "label_spacegroup_triclinic": 1,
         "_deepnote_index_column": 68598
        },
        {
         "volume [A^3]": 1174.62717,
         "weight [u]": 1649.17081,
         "surface_area [m^2/g]": -9999,
         "void_fraction": 0,
         "void_volume [cm^3/g]": 0,
         "metal_linker": 2,
         "organic_linker1": 14,
         "organic_linker2": 22,
         "CO2/N2_selectivity": 2276.833333,
         "heat_adsorption_CO2_P0.15bar_T298K [kcal/mol]": -9999,
         "_symmetry_Int_Tables_number": 1,
         "_cell_length_a": 11.086717,
         "_cell_length_b": 11.033472,
         "_cell_length_c": 9.696926,
         "_cell_angle_alpha": 89.417259,
         "_cell_angle_beta": 88.139105,
         "_cell_angle_gamma": 97.738502,
         "partial_charge_median": 0.005145,
         "bond_type_countS": 64,
         "bond_type_countA": 30,
         "bond_type_countD": 8,
         "bond_type_countT": 0,
         "bond_type_countAm": 0,
         "label_topology_pcu": 1,
         "label_topology_sra": 0,
         "label_topology_acs": 0,
         "label_topology_etb": 0,
         "label_topology_bcu": 0,
         "label_topology_nbo": 0,
         "label_spacegroup_triclinic": 1,
         "_deepnote_index_column": 68600
        },
        {
         "volume [A^3]": 1132.348176,
         "weight [u]": 903.87744,
         "surface_area [m^2/g]": -9999,
         "void_fraction": 0,
         "void_volume [cm^3/g]": 0,
         "metal_linker": 2,
         "organic_linker1": 9,
         "organic_linker2": 12,
         "CO2/N2_selectivity": 546.3466667,
         "heat_adsorption_CO2_P0.15bar_T298K [kcal/mol]": -9999,
         "_symmetry_Int_Tables_number": 1,
         "_cell_length_a": 10.837492,
         "_cell_length_b": 10.912739,
         "_cell_length_c": 9.795559,
         "_cell_angle_alpha": 98.7433,
         "_cell_angle_beta": 98.13228,
         "_cell_angle_gamma": 91.307778,
         "partial_charge_median": 0.056246,
         "bond_type_countS": 62,
         "bond_type_countA": 44,
         "bond_type_countD": 2,
         "bond_type_countT": 0,
         "bond_type_countAm": 0,
         "label_topology_pcu": 1,
         "label_topology_sra": 0,
         "label_topology_acs": 0,
         "label_topology_etb": 0,
         "label_topology_bcu": 0,
         "label_topology_nbo": 0,
         "label_spacegroup_triclinic": 1,
         "_deepnote_index_column": 68601
        },
        {
         "volume [A^3]": 1131.069889,
         "weight [u]": 895.9516800000001,
         "surface_area [m^2/g]": -9999,
         "void_fraction": 0,
         "void_volume [cm^3/g]": 0,
         "metal_linker": 2,
         "organic_linker1": 4,
         "organic_linker2": 22,
         "CO2/N2_selectivity": 454.265353,
         "heat_adsorption_CO2_P0.15bar_T298K [kcal/mol]": -9999,
         "_symmetry_Int_Tables_number": 1,
         "_cell_length_a": 10.878831,
         "_cell_length_b": 10.816211,
         "_cell_length_c": 9.613343,
         "_cell_angle_alpha": 90.598466,
         "_cell_angle_beta": 90.049004,
         "_cell_angle_gamma": 90.528695,
         "partial_charge_median": 0.166767,
         "bond_type_countS": 101,
         "bond_type_countA": 20,
         "bond_type_countD": 0,
         "bond_type_countT": 0,
         "bond_type_countAm": 0,
         "label_topology_pcu": 1,
         "label_topology_sra": 0,
         "label_topology_acs": 0,
         "label_topology_etb": 0,
         "label_topology_bcu": 0,
         "label_topology_nbo": 0,
         "label_spacegroup_triclinic": 1,
         "_deepnote_index_column": 68602
        },
        {
         "volume [A^3]": 699.494867,
         "weight [u]": 653.1773599999999,
         "surface_area [m^2/g]": -9999,
         "void_fraction": 0,
         "void_volume [cm^3/g]": 0,
         "metal_linker": 3,
         "organic_linker1": 10,
         "organic_linker2": 24,
         "CO2/N2_selectivity": 15.60473156,
         "heat_adsorption_CO2_P0.15bar_T298K [kcal/mol]": -9999,
         "_symmetry_Int_Tables_number": 1,
         "_cell_length_a": 7.873026,
         "_cell_length_b": 8.533343,
         "_cell_length_c": 10.481025,
         "_cell_angle_alpha": 92.102205,
         "_cell_angle_beta": 84.853435,
         "_cell_angle_gamma": 93.720456,
         "partial_charge_median": -0.0082,
         "bond_type_countS": 46,
         "bond_type_countA": 8,
         "bond_type_countD": 6,
         "bond_type_countT": 0,
         "bond_type_countAm": 0,
         "label_topology_pcu": 1,
         "label_topology_sra": 0,
         "label_topology_acs": 0,
         "label_topology_etb": 0,
         "label_topology_bcu": 0,
         "label_topology_nbo": 0,
         "label_spacegroup_triclinic": 1,
         "_deepnote_index_column": 68604
        },
        {
         "volume [A^3]": 1508.12951,
         "weight [u]": 1517.382416,
         "surface_area [m^2/g]": -9999,
         "void_fraction": 0,
         "void_volume [cm^3/g]": 0,
         "metal_linker": 10,
         "organic_linker1": 46,
         "organic_linker2": 49,
         "CO2/N2_selectivity": 9.974765376,
         "heat_adsorption_CO2_P0.15bar_T298K [kcal/mol]": -9999,
         "_symmetry_Int_Tables_number": 1,
         "_cell_length_a": 8.192043,
         "_cell_length_b": 12.637325,
         "_cell_length_c": 15.004478,
         "_cell_angle_alpha": 96.638568,
         "_cell_angle_beta": 97.927285,
         "_cell_angle_gamma": 98.217215,
         "partial_charge_median": 0.042177,
         "bond_type_countS": 122,
         "bond_type_countA": 30,
         "bond_type_countD": 8,
         "bond_type_countT": 0,
         "bond_type_countAm": 0,
         "label_topology_pcu": 0,
         "label_topology_sra": 0,
         "label_topology_acs": 0,
         "label_topology_etb": 1,
         "label_topology_bcu": 0,
         "label_topology_nbo": 0,
         "label_spacegroup_triclinic": 1,
         "_deepnote_index_column": 68605
        },
        {
         "volume [A^3]": 2112.326167,
         "weight [u]": 1977.49208,
         "surface_area [m^2/g]": -9999,
         "void_fraction": 0,
         "void_volume [cm^3/g]": 0,
         "metal_linker": 4,
         "organic_linker1": 14,
         "organic_linker2": 14,
         "CO2/N2_selectivity": 3.233981158,
         "heat_adsorption_CO2_P0.15bar_T298K [kcal/mol]": -9999,
         "_symmetry_Int_Tables_number": 1,
         "_cell_length_a": 11.334026,
         "_cell_length_b": 11.321874,
         "_cell_length_c": 19.017384,
         "_cell_angle_alpha": 90.070675,
         "_cell_angle_beta": 90.031889,
         "_cell_angle_gamma": 120.050727,
         "partial_charge_median": 0.023913,
         "bond_type_countS": 138,
         "bond_type_countA": 90,
         "bond_type_countD": 0,
         "bond_type_countT": 0,
         "bond_type_countAm": 0,
         "label_topology_pcu": 0,
         "label_topology_sra": 0,
         "label_topology_acs": 1,
         "label_topology_etb": 0,
         "label_topology_bcu": 0,
         "label_topology_nbo": 0,
         "label_spacegroup_triclinic": 1,
         "_deepnote_index_column": 68606
        },
        {
         "volume [A^3]": 1188.302573,
         "weight [u]": 1001.700216,
         "surface_area [m^2/g]": -9999,
         "void_fraction": 0,
         "void_volume [cm^3/g]": 0,
         "metal_linker": 3,
         "organic_linker1": 4,
         "organic_linker2": 24,
         "CO2/N2_selectivity": 24.13177036,
         "heat_adsorption_CO2_P0.15bar_T298K [kcal/mol]": -9999,
         "_symmetry_Int_Tables_number": 1,
         "_cell_length_a": 10.718161,
         "_cell_length_b": 10.88649,
         "_cell_length_c": 10.19387,
         "_cell_angle_alpha": 90.842269,
         "_cell_angle_beta": 92.241073,
         "_cell_angle_gamma": 90.753457,
         "partial_charge_median": 0.20259,
         "bond_type_countS": 113,
         "bond_type_countA": 20,
         "bond_type_countD": 0,
         "bond_type_countT": 0,
         "bond_type_countAm": 0,
         "label_topology_pcu": 1,
         "label_topology_sra": 0,
         "label_topology_acs": 0,
         "label_topology_etb": 0,
         "label_topology_bcu": 0,
         "label_topology_nbo": 0,
         "label_spacegroup_triclinic": 1,
         "_deepnote_index_column": 68609
        },
        {
         "volume [A^3]": 1506.6603630000002,
         "weight [u]": 1493.2964960000002,
         "surface_area [m^2/g]": -9999,
         "void_fraction": 0.01108,
         "void_volume [cm^3/g]": 0,
         "metal_linker": 10,
         "organic_linker1": 42,
         "organic_linker2": 46,
         "CO2/N2_selectivity": 6.071817778,
         "heat_adsorption_CO2_P0.15bar_T298K [kcal/mol]": -9999,
         "_symmetry_Int_Tables_number": 1,
         "_cell_length_a": 8.19262,
         "_cell_length_b": 12.57623,
         "_cell_length_c": 15.033794,
         "_cell_angle_alpha": 95.184751,
         "_cell_angle_beta": 99.147187,
         "_cell_angle_gamma": 97.430499,
         "partial_charge_median": 0.0286505,
         "bond_type_countS": 113,
         "bond_type_countA": 23,
         "bond_type_countD": 10,
         "bond_type_countT": 0,
         "bond_type_countAm": 0,
         "label_topology_pcu": 0,
         "label_topology_sra": 0,
         "label_topology_acs": 0,
         "label_topology_etb": 1,
         "label_topology_bcu": 0,
         "label_topology_nbo": 0,
         "label_spacegroup_triclinic": 1,
         "_deepnote_index_column": 68610
        },
        {
         "volume [A^3]": 2035.532738,
         "weight [u]": 1959.51832,
         "surface_area [m^2/g]": -9999,
         "void_fraction": 0,
         "void_volume [cm^3/g]": 0,
         "metal_linker": 4,
         "organic_linker1": 14,
         "organic_linker2": 22,
         "CO2/N2_selectivity": 9.876133998,
         "heat_adsorption_CO2_P0.15bar_T298K [kcal/mol]": -9999,
         "_symmetry_Int_Tables_number": 1,
         "_cell_length_a": 11.237482,
         "_cell_length_b": 11.321902,
         "_cell_length_c": 18.60812,
         "_cell_angle_alpha": 90.200546,
         "_cell_angle_beta": 90.118422,
         "_cell_angle_gamma": 59.292454,
         "partial_charge_median": 0.07563,
         "bond_type_countS": 153,
         "bond_type_countA": 79,
         "bond_type_countD": 0,
         "bond_type_countT": 0,
         "bond_type_countAm": 0,
         "label_topology_pcu": 0,
         "label_topology_sra": 0,
         "label_topology_acs": 1,
         "label_topology_etb": 0,
         "label_topology_bcu": 0,
         "label_topology_nbo": 0,
         "label_spacegroup_triclinic": 1,
         "_deepnote_index_column": 68611
        },
        {
         "volume [A^3]": 3985.426053,
         "weight [u]": 3638.67728,
         "surface_area [m^2/g]": -9999,
         "void_fraction": 0,
         "void_volume [cm^3/g]": 0,
         "metal_linker": 4,
         "organic_linker1": 4,
         "organic_linker2": 15,
         "CO2/N2_selectivity": 5.285050632,
         "heat_adsorption_CO2_P0.15bar_T298K [kcal/mol]": 999999,
         "_symmetry_Int_Tables_number": 1,
         "_cell_length_a": 19.396341,
         "_cell_length_b": 11.081428,
         "_cell_length_c": 18.544746,
         "_cell_angle_alpha": 90.467105,
         "_cell_angle_beta": 90.841157,
         "_cell_angle_gamma": 89.911826,
         "partial_charge_median": 0.0299515,
         "bond_type_countS": 282,
         "bond_type_countA": 140,
         "bond_type_countD": 0,
         "bond_type_countT": 0,
         "bond_type_countAm": 0,
         "label_topology_pcu": 0,
         "label_topology_sra": 0,
         "label_topology_acs": 1,
         "label_topology_etb": 0,
         "label_topology_bcu": 0,
         "label_topology_nbo": 0,
         "label_spacegroup_triclinic": 1,
         "_deepnote_index_column": 68612
        },
        {
         "volume [A^3]": 1591.009408,
         "weight [u]": 2071.219,
         "surface_area [m^2/g]": -9999,
         "void_fraction": 0.01609,
         "void_volume [cm^3/g]": 0,
         "metal_linker": 2,
         "organic_linker1": 9,
         "organic_linker2": 16,
         "CO2/N2_selectivity": 2.621271792,
         "heat_adsorption_CO2_P0.15bar_T298K [kcal/mol]": 999999,
         "_symmetry_Int_Tables_number": 1,
         "_cell_length_a": 11.049965,
         "_cell_length_b": 12.474541,
         "_cell_length_c": 13.706241,
         "_cell_angle_alpha": 118.491266,
         "_cell_angle_beta": 73.368234,
         "_cell_angle_gamma": 98.090342,
         "partial_charge_median": 0.1000085,
         "bond_type_countS": 73,
         "bond_type_countA": 58,
         "bond_type_countD": 0,
         "bond_type_countT": 0,
         "bond_type_countAm": 0,
         "label_topology_pcu": 1,
         "label_topology_sra": 0,
         "label_topology_acs": 0,
         "label_topology_etb": 0,
         "label_topology_bcu": 0,
         "label_topology_nbo": 0,
         "label_spacegroup_triclinic": 1,
         "_deepnote_index_column": 68613
        }
       ]
      },
      "text/plain": "            volume [A^3]   weight [u]  surface_area [m^2/g]  void_fraction  \\\nUnnamed: 0                                                                   \n1            1116.667429   875.240600              -9999.00        0.07899   \n2            2769.503842  2211.697211                603.61        0.13794   \n3            1089.818728   773.687960                788.50        0.14874   \n4            2205.198301  1304.638720               1441.53        0.21814   \n5            1137.800963   901.736120              -9999.00        0.07778   \n...                  ...          ...                   ...            ...   \n68609        1188.302573  1001.700216              -9999.00        0.00000   \n68610        1506.660363  1493.296496              -9999.00        0.01108   \n68611        2035.532738  1959.518320              -9999.00        0.00000   \n68612        3985.426053  3638.677280              -9999.00        0.00000   \n68613        1591.009408  2071.219000              -9999.00        0.01609   \n\n            void_volume [cm^3/g]  metal_linker  organic_linker1  \\\nUnnamed: 0                                                        \n1                         0.0607             3                4   \n2                         0.1040            10               44   \n3                         0.1262             2               22   \n4                         0.2220             9               17   \n5                         0.0591             2                1   \n...                          ...           ...              ...   \n68609                     0.0000             3                4   \n68610                     0.0000            10               42   \n68611                     0.0000             4               14   \n68612                     0.0000             4                4   \n68613                     0.0000             2                9   \n\n            organic_linker2  CO2/N2_selectivity  \\\nUnnamed: 0                                        \n1                        11           22.864166   \n2                        57           33.616780   \n3                        24           19.263726   \n4                        24           25.701377   \n5                        22           30.001838   \n...                     ...                 ...   \n68609                    24           24.131770   \n68610                    46            6.071818   \n68611                    22            9.876134   \n68612                    15            5.285051   \n68613                    16            2.621272   \n\n            heat_adsorption_CO2_P0.15bar_T298K [kcal/mol]  ...  \\\nUnnamed: 0                                                 ...   \n1                                                6.786041  ...   \n2                                                7.147286  ...   \n3                                                6.347967  ...   \n4                                                6.190085  ...   \n5                                                6.478063  ...   \n...                                                   ...  ...   \n68609                                        -9999.000000  ...   \n68610                                        -9999.000000  ...   \n68611                                        -9999.000000  ...   \n68612                                       999999.000000  ...   \n68613                                       999999.000000  ...   \n\n            bond_type_countD  bond_type_countT  bond_type_countAm  \\\nUnnamed: 0                                                          \n1                        8.0               0.0                0.0   \n2                        8.0               1.0                0.0   \n3                        2.0               0.0                0.0   \n4                        2.0               0.0                0.0   \n5                        0.0               0.0                0.0   \n...                      ...               ...                ...   \n68609                    0.0               0.0                0.0   \n68610                   10.0               0.0                0.0   \n68611                    0.0               0.0                0.0   \n68612                    0.0               0.0                0.0   \n68613                    0.0               0.0                0.0   \n\n            label_topology_pcu  label_topology_sra  label_topology_acs  \\\nUnnamed: 0                                                               \n1                            1                   0                   0   \n2                            0                   0                   0   \n3                            1                   0                   0   \n4                            0                   1                   0   \n5                            1                   0                   0   \n...                        ...                 ...                 ...   \n68609                        1                   0                   0   \n68610                        0                   0                   0   \n68611                        0                   0                   1   \n68612                        0                   0                   1   \n68613                        1                   0                   0   \n\n            label_topology_etb  label_topology_bcu  label_topology_nbo  \\\nUnnamed: 0                                                               \n1                            0                   0                   0   \n2                            1                   0                   0   \n3                            0                   0                   0   \n4                            0                   0                   0   \n5                            0                   0                   0   \n...                        ...                 ...                 ...   \n68609                        0                   0                   0   \n68610                        1                   0                   0   \n68611                        0                   0                   0   \n68612                        0                   0                   0   \n68613                        0                   0                   0   \n\n            label_spacegroup_triclinic  \nUnnamed: 0                              \n1                                    1  \n2                                    1  \n3                                    1  \n4                                    1  \n5                                    1  \n...                                ...  \n68609                                1  \n68610                                1  \n68611                                1  \n68612                                1  \n68613                                1  \n\n[66715 rows x 30 columns]",
      "text/html": "<div>\n<style scoped>\n    .dataframe tbody tr th:only-of-type {\n        vertical-align: middle;\n    }\n\n    .dataframe tbody tr th {\n        vertical-align: top;\n    }\n\n    .dataframe thead th {\n        text-align: right;\n    }\n</style>\n<table border=\"1\" class=\"dataframe\">\n  <thead>\n    <tr style=\"text-align: right;\">\n      <th></th>\n      <th>volume [A^3]</th>\n      <th>weight [u]</th>\n      <th>surface_area [m^2/g]</th>\n      <th>void_fraction</th>\n      <th>void_volume [cm^3/g]</th>\n      <th>metal_linker</th>\n      <th>organic_linker1</th>\n      <th>organic_linker2</th>\n      <th>CO2/N2_selectivity</th>\n      <th>heat_adsorption_CO2_P0.15bar_T298K [kcal/mol]</th>\n      <th>...</th>\n      <th>bond_type_countD</th>\n      <th>bond_type_countT</th>\n      <th>bond_type_countAm</th>\n      <th>label_topology_pcu</th>\n      <th>label_topology_sra</th>\n      <th>label_topology_acs</th>\n      <th>label_topology_etb</th>\n      <th>label_topology_bcu</th>\n      <th>label_topology_nbo</th>\n      <th>label_spacegroup_triclinic</th>\n    </tr>\n    <tr>\n      <th>Unnamed: 0</th>\n      <th></th>\n      <th></th>\n      <th></th>\n      <th></th>\n      <th></th>\n      <th></th>\n      <th></th>\n      <th></th>\n      <th></th>\n      <th></th>\n      <th></th>\n      <th></th>\n      <th></th>\n      <th></th>\n      <th></th>\n      <th></th>\n      <th></th>\n      <th></th>\n      <th></th>\n      <th></th>\n      <th></th>\n    </tr>\n  </thead>\n  <tbody>\n    <tr>\n      <th>1</th>\n      <td>1116.667429</td>\n      <td>875.240600</td>\n      <td>-9999.00</td>\n      <td>0.07899</td>\n      <td>0.0607</td>\n      <td>3</td>\n      <td>4</td>\n      <td>11</td>\n      <td>22.864166</td>\n      <td>6.786041</td>\n      <td>...</td>\n      <td>8.0</td>\n      <td>0.0</td>\n      <td>0.0</td>\n      <td>1</td>\n      <td>0</td>\n      <td>0</td>\n      <td>0</td>\n      <td>0</td>\n      <td>0</td>\n      <td>1</td>\n    </tr>\n    <tr>\n      <th>2</th>\n      <td>2769.503842</td>\n      <td>2211.697211</td>\n      <td>603.61</td>\n      <td>0.13794</td>\n      <td>0.1040</td>\n      <td>10</td>\n      <td>44</td>\n      <td>57</td>\n      <td>33.616780</td>\n      <td>7.147286</td>\n      <td>...</td>\n      <td>8.0</td>\n      <td>1.0</td>\n      <td>0.0</td>\n      <td>0</td>\n      <td>0</td>\n      <td>0</td>\n      <td>1</td>\n      <td>0</td>\n      <td>0</td>\n      <td>1</td>\n    </tr>\n    <tr>\n      <th>3</th>\n      <td>1089.818728</td>\n      <td>773.687960</td>\n      <td>788.50</td>\n      <td>0.14874</td>\n      <td>0.1262</td>\n      <td>2</td>\n      <td>22</td>\n      <td>24</td>\n      <td>19.263726</td>\n      <td>6.347967</td>\n      <td>...</td>\n      <td>2.0</td>\n      <td>0.0</td>\n      <td>0.0</td>\n      <td>1</td>\n      <td>0</td>\n      <td>0</td>\n      <td>0</td>\n      <td>0</td>\n      <td>0</td>\n      <td>1</td>\n    </tr>\n    <tr>\n      <th>4</th>\n      <td>2205.198301</td>\n      <td>1304.638720</td>\n      <td>1441.53</td>\n      <td>0.21814</td>\n      <td>0.2220</td>\n      <td>9</td>\n      <td>17</td>\n      <td>24</td>\n      <td>25.701377</td>\n      <td>6.190085</td>\n      <td>...</td>\n      <td>2.0</td>\n      <td>0.0</td>\n      <td>0.0</td>\n      <td>0</td>\n      <td>1</td>\n      <td>0</td>\n      <td>0</td>\n      <td>0</td>\n      <td>0</td>\n      <td>1</td>\n    </tr>\n    <tr>\n      <th>5</th>\n      <td>1137.800963</td>\n      <td>901.736120</td>\n      <td>-9999.00</td>\n      <td>0.07778</td>\n      <td>0.0591</td>\n      <td>2</td>\n      <td>1</td>\n      <td>22</td>\n      <td>30.001838</td>\n      <td>6.478063</td>\n      <td>...</td>\n      <td>0.0</td>\n      <td>0.0</td>\n      <td>0.0</td>\n      <td>1</td>\n      <td>0</td>\n      <td>0</td>\n      <td>0</td>\n      <td>0</td>\n      <td>0</td>\n      <td>1</td>\n    </tr>\n    <tr>\n      <th>...</th>\n      <td>...</td>\n      <td>...</td>\n      <td>...</td>\n      <td>...</td>\n      <td>...</td>\n      <td>...</td>\n      <td>...</td>\n      <td>...</td>\n      <td>...</td>\n      <td>...</td>\n      <td>...</td>\n      <td>...</td>\n      <td>...</td>\n      <td>...</td>\n      <td>...</td>\n      <td>...</td>\n      <td>...</td>\n      <td>...</td>\n      <td>...</td>\n      <td>...</td>\n      <td>...</td>\n    </tr>\n    <tr>\n      <th>68609</th>\n      <td>1188.302573</td>\n      <td>1001.700216</td>\n      <td>-9999.00</td>\n      <td>0.00000</td>\n      <td>0.0000</td>\n      <td>3</td>\n      <td>4</td>\n      <td>24</td>\n      <td>24.131770</td>\n      <td>-9999.000000</td>\n      <td>...</td>\n      <td>0.0</td>\n      <td>0.0</td>\n      <td>0.0</td>\n      <td>1</td>\n      <td>0</td>\n      <td>0</td>\n      <td>0</td>\n      <td>0</td>\n      <td>0</td>\n      <td>1</td>\n    </tr>\n    <tr>\n      <th>68610</th>\n      <td>1506.660363</td>\n      <td>1493.296496</td>\n      <td>-9999.00</td>\n      <td>0.01108</td>\n      <td>0.0000</td>\n      <td>10</td>\n      <td>42</td>\n      <td>46</td>\n      <td>6.071818</td>\n      <td>-9999.000000</td>\n      <td>...</td>\n      <td>10.0</td>\n      <td>0.0</td>\n      <td>0.0</td>\n      <td>0</td>\n      <td>0</td>\n      <td>0</td>\n      <td>1</td>\n      <td>0</td>\n      <td>0</td>\n      <td>1</td>\n    </tr>\n    <tr>\n      <th>68611</th>\n      <td>2035.532738</td>\n      <td>1959.518320</td>\n      <td>-9999.00</td>\n      <td>0.00000</td>\n      <td>0.0000</td>\n      <td>4</td>\n      <td>14</td>\n      <td>22</td>\n      <td>9.876134</td>\n      <td>-9999.000000</td>\n      <td>...</td>\n      <td>0.0</td>\n      <td>0.0</td>\n      <td>0.0</td>\n      <td>0</td>\n      <td>0</td>\n      <td>1</td>\n      <td>0</td>\n      <td>0</td>\n      <td>0</td>\n      <td>1</td>\n    </tr>\n    <tr>\n      <th>68612</th>\n      <td>3985.426053</td>\n      <td>3638.677280</td>\n      <td>-9999.00</td>\n      <td>0.00000</td>\n      <td>0.0000</td>\n      <td>4</td>\n      <td>4</td>\n      <td>15</td>\n      <td>5.285051</td>\n      <td>999999.000000</td>\n      <td>...</td>\n      <td>0.0</td>\n      <td>0.0</td>\n      <td>0.0</td>\n      <td>0</td>\n      <td>0</td>\n      <td>1</td>\n      <td>0</td>\n      <td>0</td>\n      <td>0</td>\n      <td>1</td>\n    </tr>\n    <tr>\n      <th>68613</th>\n      <td>1591.009408</td>\n      <td>2071.219000</td>\n      <td>-9999.00</td>\n      <td>0.01609</td>\n      <td>0.0000</td>\n      <td>2</td>\n      <td>9</td>\n      <td>16</td>\n      <td>2.621272</td>\n      <td>999999.000000</td>\n      <td>...</td>\n      <td>0.0</td>\n      <td>0.0</td>\n      <td>0.0</td>\n      <td>1</td>\n      <td>0</td>\n      <td>0</td>\n      <td>0</td>\n      <td>0</td>\n      <td>0</td>\n      <td>1</td>\n    </tr>\n  </tbody>\n</table>\n<p>66715 rows × 30 columns</p>\n</div>"
     },
     "metadata": {}
    }
   ],
   "execution_count": null
  },
  {
   "cell_type": "code",
   "metadata": {
    "tags": [],
    "cell_id": "00015-122c9c1b-4e5c-421f-abbe-7ec5258d5040",
    "deepnote_to_be_reexecuted": false,
    "source_hash": "75a4265b",
    "execution_start": 1632454385185,
    "execution_millis": 19,
    "deepnote_cell_type": "code"
   },
   "source": "test = TestDataPreprocessingPipeline(\n    Pretest,\n    train.imputer,\n    train.functional_group_extractor,\n    train.X.columns\n)\ntest.topology2num = train.topology2num\ntest.spacegroup2num = train.spacegroup2num\ntest.run()",
   "outputs": [
    {
     "name": "stdout",
     "text": "Print droping and replace null\nImpute\n",
     "output_type": "stream"
    }
   ],
   "execution_count": null
  },
  {
   "cell_type": "code",
   "metadata": {
    "tags": [],
    "cell_id": "00018-180e5395-ec1b-4e92-987e-83d31fa4b84f",
    "deepnote_to_be_reexecuted": false,
    "source_hash": "63a82644",
    "execution_start": 1632454385248,
    "execution_millis": 0,
    "deepnote_cell_type": "code"
   },
   "source": "assert all(train.X.columns == test.X.columns)",
   "outputs": [],
   "execution_count": null
  },
  {
   "cell_type": "code",
   "metadata": {
    "tags": [],
    "cell_id": "00013-77119cbf-0efc-490d-bf75-d58ea89f4dcf",
    "deepnote_to_be_reexecuted": false,
    "source_hash": "a2a5e9c7",
    "execution_start": 1632454385248,
    "execution_millis": 16,
    "deepnote_cell_type": "code"
   },
   "source": "len(train.X.columns)",
   "outputs": [
    {
     "output_type": "execute_result",
     "execution_count": 9,
     "data": {
      "text/plain": "30"
     },
     "metadata": {}
    }
   ],
   "execution_count": null
  },
  {
   "cell_type": "code",
   "metadata": {
    "tags": [],
    "cell_id": "00012-aaa8b8c4-5fb0-4cbb-8276-2c1bf0084ac9",
    "deepnote_to_be_reexecuted": false,
    "source_hash": "4ffae080",
    "execution_start": 1632454385249,
    "execution_millis": 69,
    "deepnote_cell_type": "code"
   },
   "source": "test.X[train.X.columns]",
   "outputs": [
    {
     "output_type": "execute_result",
     "execution_count": 10,
     "data": {
      "application/vnd.deepnote.dataframe.v2+json": {
       "row_count": 2000,
       "column_count": 30,
       "columns": [
        {
         "name": "volume [A^3]",
         "dtype": "float64",
         "stats": {
          "unique_count": 2000,
          "nan_count": 0,
          "min": "670.112177",
          "max": "80465.312439",
          "histogram": [
           {
            "bin_start": 670.112177,
            "bin_end": 8649.632203199999,
            "count": 1756
           },
           {
            "bin_start": 8649.632203199999,
            "bin_end": 16629.1522294,
            "count": 94
           },
           {
            "bin_start": 16629.1522294,
            "bin_end": 24608.6722556,
            "count": 69
           },
           {
            "bin_start": 24608.6722556,
            "bin_end": 32588.1922818,
            "count": 51
           },
           {
            "bin_start": 32588.1922818,
            "bin_end": 40567.712308,
            "count": 20
           },
           {
            "bin_start": 40567.712308,
            "bin_end": 48547.2323342,
            "count": 4
           },
           {
            "bin_start": 48547.2323342,
            "bin_end": 56526.7523604,
            "count": 2
           },
           {
            "bin_start": 56526.7523604,
            "bin_end": 64506.2723866,
            "count": 1
           },
           {
            "bin_start": 64506.2723866,
            "bin_end": 72485.7924128,
            "count": 1
           },
           {
            "bin_start": 72485.7924128,
            "bin_end": 80465.312439,
            "count": 2
           }
          ]
         }
        },
        {
         "name": "weight [u]",
         "dtype": "float64",
         "stats": {
          "unique_count": 1978,
          "nan_count": 0,
          "min": "467.01368",
          "max": "16731.4848",
          "histogram": [
           {
            "bin_start": 467.01368,
            "bin_end": 2093.460792,
            "count": 1471
           },
           {
            "bin_start": 2093.460792,
            "bin_end": 3719.9079039999997,
            "count": 306
           },
           {
            "bin_start": 3719.9079039999997,
            "bin_end": 5346.3550159999995,
            "count": 133
           },
           {
            "bin_start": 5346.3550159999995,
            "bin_end": 6972.802127999999,
            "count": 54
           },
           {
            "bin_start": 6972.802127999999,
            "bin_end": 8599.24924,
            "count": 26
           },
           {
            "bin_start": 8599.24924,
            "bin_end": 10225.696351999999,
            "count": 4
           },
           {
            "bin_start": 10225.696351999999,
            "bin_end": 11852.143463999999,
            "count": 2
           },
           {
            "bin_start": 11852.143463999999,
            "bin_end": 13478.590575999999,
            "count": 2
           },
           {
            "bin_start": 13478.590575999999,
            "bin_end": 15105.037687999999,
            "count": 1
           },
           {
            "bin_start": 15105.037687999999,
            "bin_end": 16731.4848,
            "count": 1
           }
          ]
         }
        },
        {
         "name": "surface_area [m^2/g]",
         "dtype": "float64",
         "stats": {
          "unique_count": 1688,
          "nan_count": 0,
          "min": "-9999.0",
          "max": "6685.94",
          "histogram": [
           {
            "bin_start": -9999,
            "bin_end": -8330.506,
            "count": 312
           },
           {
            "bin_start": -8330.506,
            "bin_end": -6662.012000000001,
            "count": 0
           },
           {
            "bin_start": -6662.012000000001,
            "bin_end": -4993.518,
            "count": 0
           },
           {
            "bin_start": -4993.518,
            "bin_end": -3325.0240000000003,
            "count": 0
           },
           {
            "bin_start": -3325.0240000000003,
            "bin_end": -1656.5300000000007,
            "count": 0
           },
           {
            "bin_start": -1656.5300000000007,
            "bin_end": 11.963999999999942,
            "count": 0
           },
           {
            "bin_start": 11.963999999999942,
            "bin_end": 1680.4579999999987,
            "count": 548
           },
           {
            "bin_start": 1680.4579999999987,
            "bin_end": 3348.9519999999993,
            "count": 691
           },
           {
            "bin_start": 3348.9519999999993,
            "bin_end": 5017.446,
            "count": 357
           },
           {
            "bin_start": 5017.446,
            "bin_end": 6685.94,
            "count": 92
           }
          ]
         }
        },
        {
         "name": "void_fraction",
         "dtype": "float64",
         "stats": {
          "unique_count": 1936,
          "nan_count": 0,
          "min": "0.0",
          "max": "0.8687099999999999",
          "histogram": [
           {
            "bin_start": 0,
            "bin_end": 0.08687099999999999,
            "count": 154
           },
           {
            "bin_start": 0.08687099999999999,
            "bin_end": 0.17374199999999998,
            "count": 341
           },
           {
            "bin_start": 0.17374199999999998,
            "bin_end": 0.260613,
            "count": 379
           },
           {
            "bin_start": 0.260613,
            "bin_end": 0.34748399999999996,
            "count": 355
           },
           {
            "bin_start": 0.34748399999999996,
            "bin_end": 0.43435499999999994,
            "count": 285
           },
           {
            "bin_start": 0.43435499999999994,
            "bin_end": 0.521226,
            "count": 116
           },
           {
            "bin_start": 0.521226,
            "bin_end": 0.6080969999999999,
            "count": 146
           },
           {
            "bin_start": 0.6080969999999999,
            "bin_end": 0.6949679999999999,
            "count": 129
           },
           {
            "bin_start": 0.6949679999999999,
            "bin_end": 0.781839,
            "count": 69
           },
           {
            "bin_start": 0.781839,
            "bin_end": 0.8687099999999999,
            "count": 26
           }
          ]
         }
        },
        {
         "name": "void_volume [cm^3/g]",
         "dtype": "float64",
         "stats": {
          "unique_count": 1797,
          "nan_count": 0,
          "min": "0.0",
          "max": "5.2083",
          "histogram": [
           {
            "bin_start": 0,
            "bin_end": 0.52083,
            "count": 1341
           },
           {
            "bin_start": 0.52083,
            "bin_end": 1.04166,
            "count": 365
           },
           {
            "bin_start": 1.04166,
            "bin_end": 1.56249,
            "count": 126
           },
           {
            "bin_start": 1.56249,
            "bin_end": 2.08332,
            "count": 87
           },
           {
            "bin_start": 2.08332,
            "bin_end": 2.60415,
            "count": 32
           },
           {
            "bin_start": 2.60415,
            "bin_end": 3.12498,
            "count": 20
           },
           {
            "bin_start": 3.12498,
            "bin_end": 3.64581,
            "count": 13
           },
           {
            "bin_start": 3.64581,
            "bin_end": 4.16664,
            "count": 7
           },
           {
            "bin_start": 4.16664,
            "bin_end": 4.68747,
            "count": 8
           },
           {
            "bin_start": 4.68747,
            "bin_end": 5.2083,
            "count": 1
           }
          ]
         }
        },
        {
         "name": "metal_linker",
         "dtype": "int64",
         "stats": {
          "unique_count": 7,
          "nan_count": 0,
          "min": "1",
          "max": "12",
          "histogram": [
           {
            "bin_start": 1,
            "bin_end": 2.1,
            "count": 780
           },
           {
            "bin_start": 2.1,
            "bin_end": 3.2,
            "count": 658
           },
           {
            "bin_start": 3.2,
            "bin_end": 4.300000000000001,
            "count": 157
           },
           {
            "bin_start": 4.300000000000001,
            "bin_end": 5.4,
            "count": 0
           },
           {
            "bin_start": 5.4,
            "bin_end": 6.5,
            "count": 0
           },
           {
            "bin_start": 6.5,
            "bin_end": 7.6000000000000005,
            "count": 0
           },
           {
            "bin_start": 7.6000000000000005,
            "bin_end": 8.700000000000001,
            "count": 0
           },
           {
            "bin_start": 8.700000000000001,
            "bin_end": 9.8,
            "count": 243
           },
           {
            "bin_start": 9.8,
            "bin_end": 10.9,
            "count": 73
           },
           {
            "bin_start": 10.9,
            "bin_end": 12,
            "count": 89
           }
          ]
         }
        },
        {
         "name": "organic_linker1",
         "dtype": "int64",
         "stats": {
          "unique_count": 52,
          "nan_count": 0,
          "min": "1",
          "max": "56",
          "histogram": [
           {
            "bin_start": 1,
            "bin_end": 6.5,
            "count": 796
           },
           {
            "bin_start": 6.5,
            "bin_end": 12,
            "count": 403
           },
           {
            "bin_start": 12,
            "bin_end": 17.5,
            "count": 417
           },
           {
            "bin_start": 17.5,
            "bin_end": 23,
            "count": 200
           },
           {
            "bin_start": 23,
            "bin_end": 28.5,
            "count": 77
           },
           {
            "bin_start": 28.5,
            "bin_end": 34,
            "count": 3
           },
           {
            "bin_start": 34,
            "bin_end": 39.5,
            "count": 23
           },
           {
            "bin_start": 39.5,
            "bin_end": 45,
            "count": 32
           },
           {
            "bin_start": 45,
            "bin_end": 50.5,
            "count": 37
           },
           {
            "bin_start": 50.5,
            "bin_end": 56,
            "count": 12
           }
          ]
         }
        },
        {
         "name": "organic_linker2",
         "dtype": "int64",
         "stats": {
          "unique_count": 51,
          "nan_count": 0,
          "min": "1",
          "max": "58",
          "histogram": [
           {
            "bin_start": 1,
            "bin_end": 6.7,
            "count": 137
           },
           {
            "bin_start": 6.7,
            "bin_end": 12.4,
            "count": 239
           },
           {
            "bin_start": 12.4,
            "bin_end": 18.1,
            "count": 485
           },
           {
            "bin_start": 18.1,
            "bin_end": 23.8,
            "count": 442
           },
           {
            "bin_start": 23.8,
            "bin_end": 29.5,
            "count": 590
           },
           {
            "bin_start": 29.5,
            "bin_end": 35.2,
            "count": 8
           },
           {
            "bin_start": 35.2,
            "bin_end": 40.9,
            "count": 19
           },
           {
            "bin_start": 40.9,
            "bin_end": 46.6,
            "count": 10
           },
           {
            "bin_start": 46.6,
            "bin_end": 52.300000000000004,
            "count": 23
           },
           {
            "bin_start": 52.300000000000004,
            "bin_end": 58,
            "count": 47
           }
          ]
         }
        },
        {
         "name": "CO2/N2_selectivity",
         "dtype": "float64",
         "stats": {
          "unique_count": 2000,
          "nan_count": 0,
          "min": "2.28261165",
          "max": "456.2986475",
          "histogram": [
           {
            "bin_start": 2.28261165,
            "bin_end": 47.684215235,
            "count": 1780
           },
           {
            "bin_start": 47.684215235,
            "bin_end": 93.08581882000001,
            "count": 186
           },
           {
            "bin_start": 93.08581882000001,
            "bin_end": 138.48742240500002,
            "count": 29
           },
           {
            "bin_start": 138.48742240500002,
            "bin_end": 183.88902599000002,
            "count": 3
           },
           {
            "bin_start": 183.88902599000002,
            "bin_end": 229.29062957500003,
            "count": 1
           },
           {
            "bin_start": 229.29062957500003,
            "bin_end": 274.69223316,
            "count": 0
           },
           {
            "bin_start": 274.69223316,
            "bin_end": 320.09383674500003,
            "count": 0
           },
           {
            "bin_start": 320.09383674500003,
            "bin_end": 365.49544033,
            "count": 0
           },
           {
            "bin_start": 365.49544033,
            "bin_end": 410.897043915,
            "count": 0
           },
           {
            "bin_start": 410.897043915,
            "bin_end": 456.2986475,
            "count": 1
           }
          ]
         }
        },
        {
         "name": "heat_adsorption_CO2_P0.15bar_T298K [kcal/mol]",
         "dtype": "float64",
         "stats": {
          "unique_count": 2000,
          "nan_count": 0,
          "min": "1.7565849999999998",
          "max": "10.700387",
          "histogram": [
           {
            "bin_start": 1.7565849999999998,
            "bin_end": 2.6509652,
            "count": 30
           },
           {
            "bin_start": 2.6509652,
            "bin_end": 3.5453453999999995,
            "count": 242
           },
           {
            "bin_start": 3.5453453999999995,
            "bin_end": 4.439725599999999,
            "count": 187
           },
           {
            "bin_start": 4.439725599999999,
            "bin_end": 5.3341058,
            "count": 336
           },
           {
            "bin_start": 5.3341058,
            "bin_end": 6.228486,
            "count": 578
           },
           {
            "bin_start": 6.228486,
            "bin_end": 7.122866199999999,
            "count": 311
           },
           {
            "bin_start": 7.122866199999999,
            "bin_end": 8.0172464,
            "count": 193
           },
           {
            "bin_start": 8.0172464,
            "bin_end": 8.9116266,
            "count": 79
           },
           {
            "bin_start": 8.9116266,
            "bin_end": 9.806006799999999,
            "count": 31
           },
           {
            "bin_start": 9.806006799999999,
            "bin_end": 10.700387,
            "count": 13
           }
          ]
         }
        },
        {
         "name": "_symmetry_Int_Tables_number",
         "dtype": "int64",
         "stats": {
          "unique_count": 1,
          "nan_count": 0,
          "min": "1",
          "max": "1",
          "histogram": [
           {
            "bin_start": 0.5,
            "bin_end": 0.6,
            "count": 0
           },
           {
            "bin_start": 0.6,
            "bin_end": 0.7,
            "count": 0
           },
           {
            "bin_start": 0.7,
            "bin_end": 0.8,
            "count": 0
           },
           {
            "bin_start": 0.8,
            "bin_end": 0.9,
            "count": 0
           },
           {
            "bin_start": 0.9,
            "bin_end": 1,
            "count": 0
           },
           {
            "bin_start": 1,
            "bin_end": 1.1,
            "count": 2000
           },
           {
            "bin_start": 1.1,
            "bin_end": 1.2000000000000002,
            "count": 0
           },
           {
            "bin_start": 1.2000000000000002,
            "bin_end": 1.3,
            "count": 0
           },
           {
            "bin_start": 1.3,
            "bin_end": 1.4,
            "count": 0
           },
           {
            "bin_start": 1.4,
            "bin_end": 1.5,
            "count": 0
           }
          ]
         }
        },
        {
         "name": "_cell_length_a",
         "dtype": "float64",
         "stats": {
          "unique_count": 1999,
          "nan_count": 0,
          "min": "6.916891",
          "max": "44.824893",
          "histogram": [
           {
            "bin_start": 6.916891,
            "bin_end": 10.7076912,
            "count": 529
           },
           {
            "bin_start": 10.7076912,
            "bin_end": 14.4984914,
            "count": 463
           },
           {
            "bin_start": 14.4984914,
            "bin_end": 18.289291600000002,
            "count": 405
           },
           {
            "bin_start": 18.289291600000002,
            "bin_end": 22.0800918,
            "count": 279
           },
           {
            "bin_start": 22.0800918,
            "bin_end": 25.870892,
            "count": 99
           },
           {
            "bin_start": 25.870892,
            "bin_end": 29.661692200000005,
            "count": 100
           },
           {
            "bin_start": 29.661692200000005,
            "bin_end": 33.452492400000004,
            "count": 50
           },
           {
            "bin_start": 33.452492400000004,
            "bin_end": 37.243292600000004,
            "count": 29
           },
           {
            "bin_start": 37.243292600000004,
            "bin_end": 41.0340928,
            "count": 19
           },
           {
            "bin_start": 41.0340928,
            "bin_end": 44.824893,
            "count": 27
           }
          ]
         }
        },
        {
         "name": "_cell_length_b",
         "dtype": "float64",
         "stats": {
          "unique_count": 2000,
          "nan_count": 0,
          "min": "6.883054",
          "max": "43.191699",
          "histogram": [
           {
            "bin_start": 6.883054,
            "bin_end": 10.513918499999999,
            "count": 296
           },
           {
            "bin_start": 10.513918499999999,
            "bin_end": 14.144783,
            "count": 771
           },
           {
            "bin_start": 14.144783,
            "bin_end": 17.775647499999998,
            "count": 436
           },
           {
            "bin_start": 17.775647499999998,
            "bin_end": 21.406512,
            "count": 221
           },
           {
            "bin_start": 21.406512,
            "bin_end": 25.0373765,
            "count": 94
           },
           {
            "bin_start": 25.0373765,
            "bin_end": 28.668241000000002,
            "count": 35
           },
           {
            "bin_start": 28.668241000000002,
            "bin_end": 32.299105499999996,
            "count": 90
           },
           {
            "bin_start": 32.299105499999996,
            "bin_end": 35.92997,
            "count": 23
           },
           {
            "bin_start": 35.92997,
            "bin_end": 39.5608345,
            "count": 23
           },
           {
            "bin_start": 39.5608345,
            "bin_end": 43.191699,
            "count": 11
           }
          ]
         }
        },
        {
         "name": "_cell_length_c",
         "dtype": "float64",
         "stats": {
          "unique_count": 1999,
          "nan_count": 0,
          "min": "6.913667",
          "max": "60.072808",
          "histogram": [
           {
            "bin_start": 6.913667,
            "bin_end": 12.2295811,
            "count": 527
           },
           {
            "bin_start": 12.2295811,
            "bin_end": 17.5454952,
            "count": 665
           },
           {
            "bin_start": 17.5454952,
            "bin_end": 22.861409300000002,
            "count": 461
           },
           {
            "bin_start": 22.861409300000002,
            "bin_end": 28.177323400000002,
            "count": 195
           },
           {
            "bin_start": 28.177323400000002,
            "bin_end": 33.493237500000006,
            "count": 72
           },
           {
            "bin_start": 33.493237500000006,
            "bin_end": 38.80915160000001,
            "count": 34
           },
           {
            "bin_start": 38.80915160000001,
            "bin_end": 44.12506570000001,
            "count": 25
           },
           {
            "bin_start": 44.12506570000001,
            "bin_end": 49.44097980000001,
            "count": 8
           },
           {
            "bin_start": 49.44097980000001,
            "bin_end": 54.75689390000001,
            "count": 8
           },
           {
            "bin_start": 54.75689390000001,
            "bin_end": 60.072808,
            "count": 5
           }
          ]
         }
        },
        {
         "name": "_cell_angle_alpha",
         "dtype": "float64",
         "stats": {
          "unique_count": 1936,
          "nan_count": 0,
          "min": "59.428987",
          "max": "120.530091",
          "histogram": [
           {
            "bin_start": 59.428987,
            "bin_end": 65.5390974,
            "count": 30
           },
           {
            "bin_start": 65.5390974,
            "bin_end": 71.6492078,
            "count": 14
           },
           {
            "bin_start": 71.6492078,
            "bin_end": 77.7593182,
            "count": 23
           },
           {
            "bin_start": 77.7593182,
            "bin_end": 83.86942859999999,
            "count": 44
           },
           {
            "bin_start": 83.86942859999999,
            "bin_end": 89.979539,
            "count": 448
           },
           {
            "bin_start": 89.979539,
            "bin_end": 96.0896494,
            "count": 1090
           },
           {
            "bin_start": 96.0896494,
            "bin_end": 102.19975980000001,
            "count": 125
           },
           {
            "bin_start": 102.19975980000001,
            "bin_end": 108.3098702,
            "count": 62
           },
           {
            "bin_start": 108.3098702,
            "bin_end": 114.4199806,
            "count": 110
           },
           {
            "bin_start": 114.4199806,
            "bin_end": 120.530091,
            "count": 54
           }
          ]
         }
        },
        {
         "name": "_cell_angle_beta",
         "dtype": "float64",
         "stats": {
          "unique_count": 1967,
          "nan_count": 0,
          "min": "43.468573",
          "max": "140.488068",
          "histogram": [
           {
            "bin_start": 43.468573,
            "bin_end": 53.170522500000004,
            "count": 12
           },
           {
            "bin_start": 53.170522500000004,
            "bin_end": 62.872472,
            "count": 44
           },
           {
            "bin_start": 62.872472,
            "bin_end": 72.5744215,
            "count": 64
           },
           {
            "bin_start": 72.5744215,
            "bin_end": 82.27637100000001,
            "count": 91
           },
           {
            "bin_start": 82.27637100000001,
            "bin_end": 91.9783205,
            "count": 1069
           },
           {
            "bin_start": 91.9783205,
            "bin_end": 101.68027000000001,
            "count": 383
           },
           {
            "bin_start": 101.68027000000001,
            "bin_end": 111.38221950000002,
            "count": 192
           },
           {
            "bin_start": 111.38221950000002,
            "bin_end": 121.084169,
            "count": 34
           },
           {
            "bin_start": 121.084169,
            "bin_end": 130.78611850000001,
            "count": 75
           },
           {
            "bin_start": 130.78611850000001,
            "bin_end": 140.488068,
            "count": 36
           }
          ]
         }
        },
        {
         "name": "_cell_angle_gamma",
         "dtype": "float64",
         "stats": {
          "unique_count": 1936,
          "nan_count": 0,
          "min": "58.836337",
          "max": "120.130077",
          "histogram": [
           {
            "bin_start": 58.836337,
            "bin_end": 64.965711,
            "count": 70
           },
           {
            "bin_start": 64.965711,
            "bin_end": 71.095085,
            "count": 22
           },
           {
            "bin_start": 71.095085,
            "bin_end": 77.224459,
            "count": 4
           },
           {
            "bin_start": 77.224459,
            "bin_end": 83.35383300000001,
            "count": 31
           },
           {
            "bin_start": 83.35383300000001,
            "bin_end": 89.483207,
            "count": 131
           },
           {
            "bin_start": 89.483207,
            "bin_end": 95.612581,
            "count": 1413
           },
           {
            "bin_start": 95.612581,
            "bin_end": 101.741955,
            "count": 97
           },
           {
            "bin_start": 101.741955,
            "bin_end": 107.871329,
            "count": 56
           },
           {
            "bin_start": 107.871329,
            "bin_end": 114.000703,
            "count": 84
           },
           {
            "bin_start": 114.000703,
            "bin_end": 120.130077,
            "count": 92
           }
          ]
         }
        },
        {
         "name": "partial_charge_median",
         "dtype": "float64",
         "stats": {
          "unique_count": 1994,
          "nan_count": 0,
          "min": "-0.371555",
          "max": "0.2191705",
          "histogram": [
           {
            "bin_start": -0.371555,
            "bin_end": -0.31248245,
            "count": 2
           },
           {
            "bin_start": -0.31248245,
            "bin_end": -0.2534099,
            "count": 1
           },
           {
            "bin_start": -0.2534099,
            "bin_end": -0.19433735000000002,
            "count": 6
           },
           {
            "bin_start": -0.19433735000000002,
            "bin_end": -0.13526480000000002,
            "count": 41
           },
           {
            "bin_start": -0.13526480000000002,
            "bin_end": -0.07619225000000002,
            "count": 136
           },
           {
            "bin_start": -0.07619225000000002,
            "bin_end": -0.017119700000000015,
            "count": 349
           },
           {
            "bin_start": -0.017119700000000015,
            "bin_end": 0.041952849999999986,
            "count": 595
           },
           {
            "bin_start": 0.041952849999999986,
            "bin_end": 0.10102539999999999,
            "count": 419
           },
           {
            "bin_start": 0.10102539999999999,
            "bin_end": 0.16009795,
            "count": 405
           },
           {
            "bin_start": 0.16009795,
            "bin_end": 0.2191705,
            "count": 46
           }
          ]
         }
        },
        {
         "name": "bond_type_countS",
         "dtype": "int64",
         "stats": {
          "unique_count": 266,
          "nan_count": 0,
          "min": "20",
          "max": "728",
          "histogram": [
           {
            "bin_start": 20,
            "bin_end": 90.8,
            "count": 1184
           },
           {
            "bin_start": 90.8,
            "bin_end": 161.6,
            "count": 474
           },
           {
            "bin_start": 161.6,
            "bin_end": 232.39999999999998,
            "count": 172
           },
           {
            "bin_start": 232.39999999999998,
            "bin_end": 303.2,
            "count": 87
           },
           {
            "bin_start": 303.2,
            "bin_end": 374,
            "count": 50
           },
           {
            "bin_start": 374,
            "bin_end": 444.79999999999995,
            "count": 13
           },
           {
            "bin_start": 444.79999999999995,
            "bin_end": 515.5999999999999,
            "count": 8
           },
           {
            "bin_start": 515.5999999999999,
            "bin_end": 586.4,
            "count": 9
           },
           {
            "bin_start": 586.4,
            "bin_end": 657.1999999999999,
            "count": 1
           },
           {
            "bin_start": 657.1999999999999,
            "bin_end": 728,
            "count": 2
           }
          ]
         }
        },
        {
         "name": "bond_type_countA",
         "dtype": "int64",
         "stats": {
          "unique_count": 151,
          "nan_count": 0,
          "min": "8",
          "max": "768",
          "histogram": [
           {
            "bin_start": 8,
            "bin_end": 84,
            "count": 1564
           },
           {
            "bin_start": 84,
            "bin_end": 160,
            "count": 294
           },
           {
            "bin_start": 160,
            "bin_end": 236,
            "count": 100
           },
           {
            "bin_start": 236,
            "bin_end": 312,
            "count": 27
           },
           {
            "bin_start": 312,
            "bin_end": 388,
            "count": 12
           },
           {
            "bin_start": 388,
            "bin_end": 464,
            "count": 1
           },
           {
            "bin_start": 464,
            "bin_end": 540,
            "count": 1
           },
           {
            "bin_start": 540,
            "bin_end": 616,
            "count": 0
           },
           {
            "bin_start": 616,
            "bin_end": 692,
            "count": 0
           },
           {
            "bin_start": 692,
            "bin_end": 768,
            "count": 1
           }
          ]
         }
        },
        {
         "name": "bond_type_countD",
         "dtype": "float64",
         "stats": {
          "unique_count": 41,
          "nan_count": 0,
          "min": "0.0",
          "max": "96.0",
          "histogram": [
           {
            "bin_start": 0,
            "bin_end": 9.6,
            "count": 1734
           },
           {
            "bin_start": 9.6,
            "bin_end": 19.2,
            "count": 182
           },
           {
            "bin_start": 19.2,
            "bin_end": 28.799999999999997,
            "count": 46
           },
           {
            "bin_start": 28.799999999999997,
            "bin_end": 38.4,
            "count": 18
           },
           {
            "bin_start": 38.4,
            "bin_end": 48,
            "count": 9
           },
           {
            "bin_start": 48,
            "bin_end": 57.599999999999994,
            "count": 6
           },
           {
            "bin_start": 57.599999999999994,
            "bin_end": 67.2,
            "count": 2
           },
           {
            "bin_start": 67.2,
            "bin_end": 76.8,
            "count": 0
           },
           {
            "bin_start": 76.8,
            "bin_end": 86.39999999999999,
            "count": 1
           },
           {
            "bin_start": 86.39999999999999,
            "bin_end": 96,
            "count": 2
           }
          ]
         }
        },
        {
         "name": "bond_type_countT",
         "dtype": "float64",
         "stats": {
          "unique_count": 30,
          "nan_count": 0,
          "min": "0.0",
          "max": "192.0",
          "histogram": [
           {
            "bin_start": 0,
            "bin_end": 19.2,
            "count": 1946
           },
           {
            "bin_start": 19.2,
            "bin_end": 38.4,
            "count": 44
           },
           {
            "bin_start": 38.4,
            "bin_end": 57.599999999999994,
            "count": 7
           },
           {
            "bin_start": 57.599999999999994,
            "bin_end": 76.8,
            "count": 0
           },
           {
            "bin_start": 76.8,
            "bin_end": 96,
            "count": 2
           },
           {
            "bin_start": 96,
            "bin_end": 115.19999999999999,
            "count": 0
           },
           {
            "bin_start": 115.19999999999999,
            "bin_end": 134.4,
            "count": 0
           },
           {
            "bin_start": 134.4,
            "bin_end": 153.6,
            "count": 0
           },
           {
            "bin_start": 153.6,
            "bin_end": 172.79999999999998,
            "count": 0
           },
           {
            "bin_start": 172.79999999999998,
            "bin_end": 192,
            "count": 1
           }
          ]
         }
        },
        {
         "name": "bond_type_countAm",
         "dtype": "float64",
         "stats": {
          "unique_count": 4,
          "nan_count": 0,
          "min": "0.0",
          "max": "24.0",
          "histogram": [
           {
            "bin_start": 0,
            "bin_end": 2.4,
            "count": 1975
           },
           {
            "bin_start": 2.4,
            "bin_end": 4.8,
            "count": 21
           },
           {
            "bin_start": 4.8,
            "bin_end": 7.199999999999999,
            "count": 0
           },
           {
            "bin_start": 7.199999999999999,
            "bin_end": 9.6,
            "count": 0
           },
           {
            "bin_start": 9.6,
            "bin_end": 12,
            "count": 0
           },
           {
            "bin_start": 12,
            "bin_end": 14.399999999999999,
            "count": 0
           },
           {
            "bin_start": 14.399999999999999,
            "bin_end": 16.8,
            "count": 3
           },
           {
            "bin_start": 16.8,
            "bin_end": 19.2,
            "count": 0
           },
           {
            "bin_start": 19.2,
            "bin_end": 21.599999999999998,
            "count": 0
           },
           {
            "bin_start": 21.599999999999998,
            "bin_end": 24,
            "count": 1
           }
          ]
         }
        },
        {
         "name": "label_topology_pcu",
         "dtype": "int64",
         "stats": {
          "unique_count": 2,
          "nan_count": 0,
          "min": "0",
          "max": "1",
          "histogram": [
           {
            "bin_start": 0,
            "bin_end": 0.1,
            "count": 799
           },
           {
            "bin_start": 0.1,
            "bin_end": 0.2,
            "count": 0
           },
           {
            "bin_start": 0.2,
            "bin_end": 0.30000000000000004,
            "count": 0
           },
           {
            "bin_start": 0.30000000000000004,
            "bin_end": 0.4,
            "count": 0
           },
           {
            "bin_start": 0.4,
            "bin_end": 0.5,
            "count": 0
           },
           {
            "bin_start": 0.5,
            "bin_end": 0.6000000000000001,
            "count": 0
           },
           {
            "bin_start": 0.6000000000000001,
            "bin_end": 0.7000000000000001,
            "count": 0
           },
           {
            "bin_start": 0.7000000000000001,
            "bin_end": 0.8,
            "count": 0
           },
           {
            "bin_start": 0.8,
            "bin_end": 0.9,
            "count": 0
           },
           {
            "bin_start": 0.9,
            "bin_end": 1,
            "count": 1201
           }
          ]
         }
        },
        {
         "name": "label_topology_sra",
         "dtype": "int64",
         "stats": {
          "unique_count": 2,
          "nan_count": 0,
          "min": "0",
          "max": "1",
          "histogram": [
           {
            "bin_start": 0,
            "bin_end": 0.1,
            "count": 1757
           },
           {
            "bin_start": 0.1,
            "bin_end": 0.2,
            "count": 0
           },
           {
            "bin_start": 0.2,
            "bin_end": 0.30000000000000004,
            "count": 0
           },
           {
            "bin_start": 0.30000000000000004,
            "bin_end": 0.4,
            "count": 0
           },
           {
            "bin_start": 0.4,
            "bin_end": 0.5,
            "count": 0
           },
           {
            "bin_start": 0.5,
            "bin_end": 0.6000000000000001,
            "count": 0
           },
           {
            "bin_start": 0.6000000000000001,
            "bin_end": 0.7000000000000001,
            "count": 0
           },
           {
            "bin_start": 0.7000000000000001,
            "bin_end": 0.8,
            "count": 0
           },
           {
            "bin_start": 0.8,
            "bin_end": 0.9,
            "count": 0
           },
           {
            "bin_start": 0.9,
            "bin_end": 1,
            "count": 243
           }
          ]
         }
        },
        {
         "name": "label_topology_acs",
         "dtype": "int64",
         "stats": {
          "unique_count": 2,
          "nan_count": 0,
          "min": "0",
          "max": "1",
          "histogram": [
           {
            "bin_start": 0,
            "bin_end": 0.1,
            "count": 1843
           },
           {
            "bin_start": 0.1,
            "bin_end": 0.2,
            "count": 0
           },
           {
            "bin_start": 0.2,
            "bin_end": 0.30000000000000004,
            "count": 0
           },
           {
            "bin_start": 0.30000000000000004,
            "bin_end": 0.4,
            "count": 0
           },
           {
            "bin_start": 0.4,
            "bin_end": 0.5,
            "count": 0
           },
           {
            "bin_start": 0.5,
            "bin_end": 0.6000000000000001,
            "count": 0
           },
           {
            "bin_start": 0.6000000000000001,
            "bin_end": 0.7000000000000001,
            "count": 0
           },
           {
            "bin_start": 0.7000000000000001,
            "bin_end": 0.8,
            "count": 0
           },
           {
            "bin_start": 0.8,
            "bin_end": 0.9,
            "count": 0
           },
           {
            "bin_start": 0.9,
            "bin_end": 1,
            "count": 157
           }
          ]
         }
        },
        {
         "name": "label_topology_etb",
         "dtype": "int64",
         "stats": {
          "unique_count": 2,
          "nan_count": 0,
          "min": "0",
          "max": "1",
          "histogram": [
           {
            "bin_start": 0,
            "bin_end": 0.1,
            "count": 1927
           },
           {
            "bin_start": 0.1,
            "bin_end": 0.2,
            "count": 0
           },
           {
            "bin_start": 0.2,
            "bin_end": 0.30000000000000004,
            "count": 0
           },
           {
            "bin_start": 0.30000000000000004,
            "bin_end": 0.4,
            "count": 0
           },
           {
            "bin_start": 0.4,
            "bin_end": 0.5,
            "count": 0
           },
           {
            "bin_start": 0.5,
            "bin_end": 0.6000000000000001,
            "count": 0
           },
           {
            "bin_start": 0.6000000000000001,
            "bin_end": 0.7000000000000001,
            "count": 0
           },
           {
            "bin_start": 0.7000000000000001,
            "bin_end": 0.8,
            "count": 0
           },
           {
            "bin_start": 0.8,
            "bin_end": 0.9,
            "count": 0
           },
           {
            "bin_start": 0.9,
            "bin_end": 1,
            "count": 73
           }
          ]
         }
        },
        {
         "name": "label_topology_bcu",
         "dtype": "int64",
         "stats": {
          "unique_count": 2,
          "nan_count": 0,
          "min": "0",
          "max": "1",
          "histogram": [
           {
            "bin_start": 0,
            "bin_end": 0.1,
            "count": 1911
           },
           {
            "bin_start": 0.1,
            "bin_end": 0.2,
            "count": 0
           },
           {
            "bin_start": 0.2,
            "bin_end": 0.30000000000000004,
            "count": 0
           },
           {
            "bin_start": 0.30000000000000004,
            "bin_end": 0.4,
            "count": 0
           },
           {
            "bin_start": 0.4,
            "bin_end": 0.5,
            "count": 0
           },
           {
            "bin_start": 0.5,
            "bin_end": 0.6000000000000001,
            "count": 0
           },
           {
            "bin_start": 0.6000000000000001,
            "bin_end": 0.7000000000000001,
            "count": 0
           },
           {
            "bin_start": 0.7000000000000001,
            "bin_end": 0.8,
            "count": 0
           },
           {
            "bin_start": 0.8,
            "bin_end": 0.9,
            "count": 0
           },
           {
            "bin_start": 0.9,
            "bin_end": 1,
            "count": 89
           }
          ]
         }
        },
        {
         "name": "label_topology_nbo",
         "dtype": "int64",
         "stats": {
          "unique_count": 2,
          "nan_count": 0,
          "min": "0",
          "max": "1",
          "histogram": [
           {
            "bin_start": 0,
            "bin_end": 0.1,
            "count": 1797
           },
           {
            "bin_start": 0.1,
            "bin_end": 0.2,
            "count": 0
           },
           {
            "bin_start": 0.2,
            "bin_end": 0.30000000000000004,
            "count": 0
           },
           {
            "bin_start": 0.30000000000000004,
            "bin_end": 0.4,
            "count": 0
           },
           {
            "bin_start": 0.4,
            "bin_end": 0.5,
            "count": 0
           },
           {
            "bin_start": 0.5,
            "bin_end": 0.6000000000000001,
            "count": 0
           },
           {
            "bin_start": 0.6000000000000001,
            "bin_end": 0.7000000000000001,
            "count": 0
           },
           {
            "bin_start": 0.7000000000000001,
            "bin_end": 0.8,
            "count": 0
           },
           {
            "bin_start": 0.8,
            "bin_end": 0.9,
            "count": 0
           },
           {
            "bin_start": 0.9,
            "bin_end": 1,
            "count": 203
           }
          ]
         }
        },
        {
         "name": "label_spacegroup_triclinic",
         "dtype": "int64",
         "stats": {
          "unique_count": 2,
          "nan_count": 0,
          "min": "0",
          "max": "1",
          "histogram": [
           {
            "bin_start": 0,
            "bin_end": 0.1,
            "count": 32
           },
           {
            "bin_start": 0.1,
            "bin_end": 0.2,
            "count": 0
           },
           {
            "bin_start": 0.2,
            "bin_end": 0.30000000000000004,
            "count": 0
           },
           {
            "bin_start": 0.30000000000000004,
            "bin_end": 0.4,
            "count": 0
           },
           {
            "bin_start": 0.4,
            "bin_end": 0.5,
            "count": 0
           },
           {
            "bin_start": 0.5,
            "bin_end": 0.6000000000000001,
            "count": 0
           },
           {
            "bin_start": 0.6000000000000001,
            "bin_end": 0.7000000000000001,
            "count": 0
           },
           {
            "bin_start": 0.7000000000000001,
            "bin_end": 0.8,
            "count": 0
           },
           {
            "bin_start": 0.8,
            "bin_end": 0.9,
            "count": 0
           },
           {
            "bin_start": 0.9,
            "bin_end": 1,
            "count": 1968
           }
          ]
         }
        },
        {
         "name": "_deepnote_index_column",
         "dtype": "int64"
        }
       ],
       "rows_top": [
        {
         "volume [A^3]": 6288.293858,
         "weight [u]": 2271.68714,
         "surface_area [m^2/g]": 4148.48,
         "void_fraction": 0.41225,
         "void_volume [cm^3/g]": 0.6872,
         "metal_linker": 4,
         "organic_linker1": 7,
         "organic_linker2": 27,
         "CO2/N2_selectivity": 14.04879074,
         "heat_adsorption_CO2_P0.15bar_T298K [kcal/mol]": 5.604779,
         "_symmetry_Int_Tables_number": 1,
         "_cell_length_a": 14.73863,
         "_cell_length_b": 14.733485,
         "_cell_length_c": 33.26076,
         "_cell_angle_alpha": 96.185243,
         "_cell_angle_beta": 96.346479,
         "_cell_angle_gamma": 61.370885,
         "partial_charge_median": 0.021639,
         "bond_type_countS": 132,
         "bond_type_countA": 114,
         "bond_type_countD": 0,
         "bond_type_countT": 3,
         "bond_type_countAm": 0,
         "label_topology_pcu": 0,
         "label_topology_sra": 0,
         "label_topology_acs": 1,
         "label_topology_etb": 0,
         "label_topology_bcu": 0,
         "label_topology_nbo": 0,
         "label_spacegroup_triclinic": 1,
         "_deepnote_index_column": 1
        },
        {
         "volume [A^3]": 1790.506437,
         "weight [u]": 887.7473199999998,
         "surface_area [m^2/g]": 2191.34,
         "void_fraction": 0.3023099999999999,
         "void_volume [cm^3/g]": 0.3672,
         "metal_linker": 2,
         "organic_linker1": 4,
         "organic_linker2": 26,
         "CO2/N2_selectivity": 20.21722169,
         "heat_adsorption_CO2_P0.15bar_T298K [kcal/mol]": 6.148776,
         "_symmetry_Int_Tables_number": 1,
         "_cell_length_a": 9.586975,
         "_cell_length_b": 10.883175,
         "_cell_length_c": 17.216352,
         "_cell_angle_alpha": 91.54295,
         "_cell_angle_beta": 85.804777,
         "_cell_angle_gamma": 89.018294,
         "partial_charge_median": 0.0870435,
         "bond_type_countS": 60,
         "bond_type_countA": 32,
         "bond_type_countD": 6,
         "bond_type_countT": 0,
         "bond_type_countAm": 0,
         "label_topology_pcu": 1,
         "label_topology_sra": 0,
         "label_topology_acs": 0,
         "label_topology_etb": 0,
         "label_topology_bcu": 0,
         "label_topology_nbo": 0,
         "label_spacegroup_triclinic": 1,
         "_deepnote_index_column": 2
        },
        {
         "volume [A^3]": 2348.969203,
         "weight [u]": 1239.7658800000002,
         "surface_area [m^2/g]": 2030.88,
         "void_fraction": 0.2853299999999999,
         "void_volume [cm^3/g]": 0.3256,
         "metal_linker": 3,
         "organic_linker1": 18,
         "organic_linker2": 22,
         "CO2/N2_selectivity": 33.10866151,
         "heat_adsorption_CO2_P0.15bar_T298K [kcal/mol]": 6.164397,
         "_symmetry_Int_Tables_number": 1,
         "_cell_length_a": 10.696906,
         "_cell_length_b": 14.872744,
         "_cell_length_c": 15.381956,
         "_cell_angle_alpha": 82.207387,
         "_cell_angle_beta": 89.41704,
         "_cell_angle_gamma": 104.114987,
         "partial_charge_median": 0.038626,
         "bond_type_countS": 66,
         "bond_type_countA": 50,
         "bond_type_countD": 8,
         "bond_type_countT": 0,
         "bond_type_countAm": 0,
         "label_topology_pcu": 1,
         "label_topology_sra": 0,
         "label_topology_acs": 0,
         "label_topology_etb": 0,
         "label_topology_bcu": 0,
         "label_topology_nbo": 0,
         "label_spacegroup_triclinic": 1,
         "_deepnote_index_column": 3
        },
        {
         "volume [A^3]": 2941.571525,
         "weight [u]": 1147.9514,
         "surface_area [m^2/g]": 3587.13,
         "void_fraction": 0.41963,
         "void_volume [cm^3/g]": 0.6474999999999999,
         "metal_linker": 2,
         "organic_linker1": 8,
         "organic_linker2": 15,
         "CO2/N2_selectivity": 12.80056168,
         "heat_adsorption_CO2_P0.15bar_T298K [kcal/mol]": 5.164957,
         "_symmetry_Int_Tables_number": 1,
         "_cell_length_a": 10.876118,
         "_cell_length_b": 15.862925,
         "_cell_length_c": 17.117417,
         "_cell_angle_alpha": 94.911799,
         "_cell_angle_beta": 91.332405,
         "_cell_angle_gamma": 89.779397,
         "partial_charge_median": 0.157,
         "bond_type_countS": 79,
         "bond_type_countA": 48,
         "bond_type_countD": 2,
         "bond_type_countT": 0,
         "bond_type_countAm": 0,
         "label_topology_pcu": 1,
         "label_topology_sra": 0,
         "label_topology_acs": 0,
         "label_topology_etb": 0,
         "label_topology_bcu": 0,
         "label_topology_nbo": 0,
         "label_spacegroup_triclinic": 1,
         "_deepnote_index_column": 4
        },
        {
         "volume [A^3]": 705.397601,
         "weight [u]": 643.27074,
         "surface_area [m^2/g]": -9999,
         "void_fraction": 0.0705999999999999,
         "void_volume [cm^3/g]": 0.0466,
         "metal_linker": 3,
         "organic_linker1": 10,
         "organic_linker2": 22,
         "CO2/N2_selectivity": 23.39561652,
         "heat_adsorption_CO2_P0.15bar_T298K [kcal/mol]": 7.090687,
         "_symmetry_Int_Tables_number": 1,
         "_cell_length_a": 7.797345,
         "_cell_length_b": 8.57058,
         "_cell_length_c": 10.625241,
         "_cell_angle_alpha": 91.941185,
         "_cell_angle_beta": 84.771606,
         "_cell_angle_gamma": 93.64115,
         "partial_charge_median": 0.024901,
         "bond_type_countS": 39,
         "bond_type_countA": 8,
         "bond_type_countD": 2,
         "bond_type_countT": 0,
         "bond_type_countAm": 0,
         "label_topology_pcu": 1,
         "label_topology_sra": 0,
         "label_topology_acs": 0,
         "label_topology_etb": 0,
         "label_topology_bcu": 0,
         "label_topology_nbo": 0,
         "label_spacegroup_triclinic": 1,
         "_deepnote_index_column": 5
        },
        {
         "volume [A^3]": 2795.376504,
         "weight [u]": 1592.74518,
         "surface_area [m^2/g]": 1480.38,
         "void_fraction": 0.20913,
         "void_volume [cm^3/g]": 0.221,
         "metal_linker": 9,
         "organic_linker1": 10,
         "organic_linker2": 28,
         "CO2/N2_selectivity": 49.25180982,
         "heat_adsorption_CO2_P0.15bar_T298K [kcal/mol]": 7.334542999999998,
         "_symmetry_Int_Tables_number": 1,
         "_cell_length_a": 6.934736,
         "_cell_length_b": 17.287508,
         "_cell_length_c": 24.086203,
         "_cell_angle_alpha": 104.512301,
         "_cell_angle_beta": 90.336599,
         "_cell_angle_gamma": 89.98414,
         "partial_charge_median": -0.0529675,
         "bond_type_countS": 81,
         "bond_type_countA": 78,
         "bond_type_countD": 3,
         "bond_type_countT": 0,
         "bond_type_countAm": 0,
         "label_topology_pcu": 0,
         "label_topology_sra": 1,
         "label_topology_acs": 0,
         "label_topology_etb": 0,
         "label_topology_bcu": 0,
         "label_topology_nbo": 0,
         "label_spacegroup_triclinic": 1,
         "_deepnote_index_column": 6
        },
        {
         "volume [A^3]": 1493.202771,
         "weight [u]": 895.92428,
         "surface_area [m^2/g]": 1769.29,
         "void_fraction": 0.28863,
         "void_volume [cm^3/g]": 0.2897,
         "metal_linker": 3,
         "organic_linker1": 1,
         "organic_linker2": 18,
         "CO2/N2_selectivity": 18.48760329,
         "heat_adsorption_CO2_P0.15bar_T298K [kcal/mol]": 5.671204,
         "_symmetry_Int_Tables_number": 1,
         "_cell_length_a": 9.846563,
         "_cell_length_b": 10.707702,
         "_cell_length_c": 15.439886,
         "_cell_angle_alpha": 90.14661,
         "_cell_angle_beta": 66.529714,
         "_cell_angle_gamma": 89.981147,
         "partial_charge_median": -0.029052,
         "bond_type_countS": 32,
         "bond_type_countA": 41,
         "bond_type_countD": 0,
         "bond_type_countT": 0,
         "bond_type_countAm": 0,
         "label_topology_pcu": 1,
         "label_topology_sra": 0,
         "label_topology_acs": 0,
         "label_topology_etb": 0,
         "label_topology_bcu": 0,
         "label_topology_nbo": 0,
         "label_spacegroup_triclinic": 1,
         "_deepnote_index_column": 7
        },
        {
         "volume [A^3]": 4288.4052950000005,
         "weight [u]": 1848.99596,
         "surface_area [m^2/g]": 2734.28,
         "void_fraction": 0.3890199999999999,
         "void_volume [cm^3/g]": 0.5433999999999999,
         "metal_linker": 3,
         "organic_linker1": 16,
         "organic_linker2": 16,
         "CO2/N2_selectivity": 13.97259895,
         "heat_adsorption_CO2_P0.15bar_T298K [kcal/mol]": 5.274335,
         "_symmetry_Int_Tables_number": 1,
         "_cell_length_a": 19.297189,
         "_cell_length_b": 17.767503,
         "_cell_length_c": 12.66206,
         "_cell_angle_alpha": 90.828997,
         "_cell_angle_beta": 98.919109,
         "_cell_angle_gamma": 89.82817,
         "partial_charge_median": 0.0748195,
         "bond_type_countS": 92,
         "bond_type_countA": 112,
         "bond_type_countD": 0,
         "bond_type_countT": 2,
         "bond_type_countAm": 0,
         "label_topology_pcu": 1,
         "label_topology_sra": 0,
         "label_topology_acs": 0,
         "label_topology_etb": 0,
         "label_topology_bcu": 0,
         "label_topology_nbo": 0,
         "label_spacegroup_triclinic": 1,
         "_deepnote_index_column": 8
        },
        {
         "volume [A^3]": 6880.322139,
         "weight [u]": 2356.7782260000004,
         "surface_area [m^2/g]": 3985.18,
         "void_fraction": 0.4397599999999999,
         "void_volume [cm^3/g]": 0.7731,
         "metal_linker": 4,
         "organic_linker1": 3,
         "organic_linker2": 27,
         "CO2/N2_selectivity": 10.29489266,
         "heat_adsorption_CO2_P0.15bar_T298K [kcal/mol]": 5.064876,
         "_symmetry_Int_Tables_number": 1,
         "_cell_length_a": 15.064968,
         "_cell_length_b": 15.063563,
         "_cell_length_c": 34.982224,
         "_cell_angle_alpha": 90.531092,
         "_cell_angle_beta": 90.008588,
         "_cell_angle_gamma": 60.082226,
         "partial_charge_median": 0.020604,
         "bond_type_countS": 122,
         "bond_type_countA": 132,
         "bond_type_countD": 0,
         "bond_type_countT": 3,
         "bond_type_countAm": 0,
         "label_topology_pcu": 0,
         "label_topology_sra": 0,
         "label_topology_acs": 1,
         "label_topology_etb": 0,
         "label_topology_bcu": 0,
         "label_topology_nbo": 0,
         "label_spacegroup_triclinic": 1,
         "_deepnote_index_column": 9
        },
        {
         "volume [A^3]": 1750.548457,
         "weight [u]": 1027.715,
         "surface_area [m^2/g]": 1426.86,
         "void_fraction": 0.2068199999999998,
         "void_volume [cm^3/g]": 0.2121,
         "metal_linker": 2,
         "organic_linker1": 10,
         "organic_linker2": 29,
         "CO2/N2_selectivity": 72.74346069,
         "heat_adsorption_CO2_P0.15bar_T298K [kcal/mol]": 7.425464,
         "_symmetry_Int_Tables_number": 1,
         "_cell_length_a": 27.814574,
         "_cell_length_b": 8.726955,
         "_cell_length_c": 7.427534,
         "_cell_angle_alpha": 102.929022,
         "_cell_angle_beta": 94.052349,
         "_cell_angle_gamma": 91.937266,
         "partial_charge_median": 0.030739,
         "bond_type_countS": 49,
         "bond_type_countA": 52,
         "bond_type_countD": 2,
         "bond_type_countT": 0,
         "bond_type_countAm": 0,
         "label_topology_pcu": 1,
         "label_topology_sra": 0,
         "label_topology_acs": 0,
         "label_topology_etb": 0,
         "label_topology_bcu": 0,
         "label_topology_nbo": 0,
         "label_spacegroup_triclinic": 1,
         "_deepnote_index_column": 10
        },
        {
         "volume [A^3]": 4158.54216,
         "weight [u]": 1987.45176,
         "surface_area [m^2/g]": 2213.81,
         "void_fraction": 0.2860099999999999,
         "void_volume [cm^3/g]": 0.3604,
         "metal_linker": 4,
         "organic_linker1": 6,
         "organic_linker2": 17,
         "CO2/N2_selectivity": 35.17498629,
         "heat_adsorption_CO2_P0.15bar_T298K [kcal/mol]": 6.726739,
         "_symmetry_Int_Tables_number": 1,
         "_cell_length_a": 12.950252,
         "_cell_length_b": 13.284252,
         "_cell_length_c": 27.759838,
         "_cell_angle_alpha": 94.697314,
         "_cell_angle_beta": 90.018096,
         "_cell_angle_gamma": 118.997902,
         "partial_charge_median": 0.0152255,
         "bond_type_countS": 112,
         "bond_type_countA": 99,
         "bond_type_countD": 0,
         "bond_type_countT": 6,
         "bond_type_countAm": 0,
         "label_topology_pcu": 0,
         "label_topology_sra": 0,
         "label_topology_acs": 1,
         "label_topology_etb": 0,
         "label_topology_bcu": 0,
         "label_topology_nbo": 0,
         "label_spacegroup_triclinic": 1,
         "_deepnote_index_column": 11
        },
        {
         "volume [A^3]": 7354.202104000002,
         "weight [u]": 3502.94744,
         "surface_area [m^2/g]": 1770.07,
         "void_fraction": 0.2340199999999998,
         "void_volume [cm^3/g]": 0.2959,
         "metal_linker": 4,
         "organic_linker1": 27,
         "organic_linker2": 27,
         "CO2/N2_selectivity": 32.90207562,
         "heat_adsorption_CO2_P0.15bar_T298K [kcal/mol]": 6.600984,
         "_symmetry_Int_Tables_number": 1,
         "_cell_length_a": 15.665027,
         "_cell_length_b": 15.687425,
         "_cell_length_c": 34.3828,
         "_cell_angle_alpha": 89.980814,
         "_cell_angle_beta": 89.873478,
         "_cell_angle_gamma": 119.496182,
         "partial_charge_median": 0.1413385,
         "bond_type_countS": 294,
         "bond_type_countA": 132,
         "bond_type_countD": 0,
         "bond_type_countT": 0,
         "bond_type_countAm": 0,
         "label_topology_pcu": 0,
         "label_topology_sra": 0,
         "label_topology_acs": 1,
         "label_topology_etb": 0,
         "label_topology_bcu": 0,
         "label_topology_nbo": 0,
         "label_spacegroup_triclinic": 1,
         "_deepnote_index_column": 12
        },
        {
         "volume [A^3]": 5067.83424,
         "weight [u]": 2694.70244,
         "surface_area [m^2/g]": -9999,
         "void_fraction": 0.2433299999999999,
         "void_volume [cm^3/g]": 0.2756,
         "metal_linker": 3,
         "organic_linker1": 9,
         "organic_linker2": 9,
         "CO2/N2_selectivity": 14.18270662,
         "heat_adsorption_CO2_P0.15bar_T298K [kcal/mol]": 5.996164,
         "_symmetry_Int_Tables_number": 1,
         "_cell_length_a": 18.655659,
         "_cell_length_b": 18.655478,
         "_cell_length_c": 18.733013,
         "_cell_angle_alpha": 109.309471,
         "_cell_angle_beta": 109.354331,
         "_cell_angle_gamma": 108.947981,
         "partial_charge_median": 0.1184564999999999,
         "bond_type_countS": 192,
         "bond_type_countA": 132,
         "bond_type_countD": 0,
         "bond_type_countT": 0,
         "bond_type_countAm": 0,
         "label_topology_pcu": 0,
         "label_topology_sra": 0,
         "label_topology_acs": 0,
         "label_topology_etb": 0,
         "label_topology_bcu": 0,
         "label_topology_nbo": 1,
         "label_spacegroup_triclinic": 1,
         "_deepnote_index_column": 13
        },
        {
         "volume [A^3]": 3930.439874,
         "weight [u]": 2941.622173,
         "surface_area [m^2/g]": 645.62,
         "void_fraction": 0.1329299999999999,
         "void_volume [cm^3/g]": 0.107,
         "metal_linker": 4,
         "organic_linker1": 4,
         "organic_linker2": 11,
         "CO2/N2_selectivity": 64.13190702,
         "heat_adsorption_CO2_P0.15bar_T298K [kcal/mol]": 7.544046,
         "_symmetry_Int_Tables_number": 1,
         "_cell_length_a": 19.027355,
         "_cell_length_b": 10.987774,
         "_cell_length_c": 18.799986,
         "_cell_angle_alpha": 89.986316,
         "_cell_angle_beta": 90.260464,
         "_cell_angle_gamma": 89.989033,
         "partial_charge_median": 0.017575,
         "bond_type_countS": 184,
         "bond_type_countA": 108,
         "bond_type_countD": 4,
         "bond_type_countT": 0,
         "bond_type_countAm": 0,
         "label_topology_pcu": 0,
         "label_topology_sra": 0,
         "label_topology_acs": 1,
         "label_topology_etb": 0,
         "label_topology_bcu": 0,
         "label_topology_nbo": 0,
         "label_spacegroup_triclinic": 1,
         "_deepnote_index_column": 14
        },
        {
         "volume [A^3]": 2004.557069,
         "weight [u]": 1695.0737800000002,
         "surface_area [m^2/g]": -9999,
         "void_fraction": 0.0748,
         "void_volume [cm^3/g]": 0.0533,
         "metal_linker": 4,
         "organic_linker1": 14,
         "organic_linker2": 22,
         "CO2/N2_selectivity": 165.80064319999997,
         "heat_adsorption_CO2_P0.15bar_T298K [kcal/mol]": 8.819874999999998,
         "_symmetry_Int_Tables_number": 1,
         "_cell_length_a": 11.122458,
         "_cell_length_b": 11.104663,
         "_cell_length_c": 18.701856,
         "_cell_angle_alpha": 90.424953,
         "_cell_angle_beta": 89.942799,
         "_cell_angle_gamma": 60.210016,
         "partial_charge_median": 0.0014719999999999,
         "bond_type_countS": 96,
         "bond_type_countA": 79,
         "bond_type_countD": 3,
         "bond_type_countT": 0,
         "bond_type_countAm": 0,
         "label_topology_pcu": 0,
         "label_topology_sra": 0,
         "label_topology_acs": 1,
         "label_topology_etb": 0,
         "label_topology_bcu": 0,
         "label_topology_nbo": 0,
         "label_spacegroup_triclinic": 1,
         "_deepnote_index_column": 15
        },
        {
         "volume [A^3]": 1043.078308,
         "weight [u]": 587.97836,
         "surface_area [m^2/g]": 1774.18,
         "void_fraction": 0.2609599999999999,
         "void_volume [cm^3/g]": 0.2787999999999999,
         "metal_linker": 3,
         "organic_linker1": 10,
         "organic_linker2": 23,
         "CO2/N2_selectivity": 13.89850112,
         "heat_adsorption_CO2_P0.15bar_T298K [kcal/mol]": 5.212527,
         "_symmetry_Int_Tables_number": 1,
         "_cell_length_a": 7.770036,
         "_cell_length_b": 8.577988,
         "_cell_length_c": 15.723476,
         "_cell_angle_alpha": 90.843421,
         "_cell_angle_beta": 85.844526,
         "_cell_angle_gamma": 93.634614,
         "partial_charge_median": 0.110213,
         "bond_type_countS": 41,
         "bond_type_countA": 8,
         "bond_type_countD": 2,
         "bond_type_countT": 2,
         "bond_type_countAm": 0,
         "label_topology_pcu": 1,
         "label_topology_sra": 0,
         "label_topology_acs": 0,
         "label_topology_etb": 0,
         "label_topology_bcu": 0,
         "label_topology_nbo": 0,
         "label_spacegroup_triclinic": 1,
         "_deepnote_index_column": 16
        }
       ],
       "rows_bottom": [
        {
         "volume [A^3]": 33147.281373000005,
         "weight [u]": 4627.27328,
         "surface_area [m^2/g]": 5016.07,
         "void_fraction": 0.81412,
         "void_volume [cm^3/g]": 3.5121,
         "metal_linker": 3,
         "organic_linker1": 20,
         "organic_linker2": 27,
         "CO2/N2_selectivity": 3.262558028,
         "heat_adsorption_CO2_P0.15bar_T298K [kcal/mol]": 2.271462,
         "_symmetry_Int_Tables_number": 1,
         "_cell_length_a": 29.165903,
         "_cell_length_b": 29.165903,
         "_cell_length_c": 38.967008,
         "_cell_angle_alpha": 90,
         "_cell_angle_beta": 90,
         "_cell_angle_gamma": 90,
         "partial_charge_median": -0.148857,
         "bond_type_countS": 160,
         "bond_type_countA": 120,
         "bond_type_countD": 32,
         "bond_type_countT": 24,
         "bond_type_countAm": 0,
         "label_topology_pcu": 0,
         "label_topology_sra": 0,
         "label_topology_acs": 0,
         "label_topology_etb": 0,
         "label_topology_bcu": 0,
         "label_topology_nbo": 1,
         "label_spacegroup_triclinic": 0,
         "_deepnote_index_column": 1984
        },
        {
         "volume [A^3]": 4644.763969,
         "weight [u]": 1205.3456199999998,
         "surface_area [m^2/g]": 4285.06,
         "void_fraction": 0.65747,
         "void_volume [cm^3/g]": 1.5257,
         "metal_linker": 2,
         "organic_linker1": 7,
         "organic_linker2": 23,
         "CO2/N2_selectivity": 4.2331690680000005,
         "heat_adsorption_CO2_P0.15bar_T298K [kcal/mol]": 3.82195,
         "_symmetry_Int_Tables_number": 1,
         "_cell_length_a": 17.726455,
         "_cell_length_b": 16.474603,
         "_cell_length_c": 15.906228,
         "_cell_angle_alpha": 90.000199,
         "_cell_angle_beta": 90.781542,
         "_cell_angle_gamma": 89.999983,
         "partial_charge_median": 0.028523,
         "bond_type_countS": 58,
         "bond_type_countA": 32,
         "bond_type_countD": 0,
         "bond_type_countT": 4,
         "bond_type_countAm": 0,
         "label_topology_pcu": 1,
         "label_topology_sra": 0,
         "label_topology_acs": 0,
         "label_topology_etb": 0,
         "label_topology_bcu": 0,
         "label_topology_nbo": 0,
         "label_spacegroup_triclinic": 1,
         "_deepnote_index_column": 1985
        },
        {
         "volume [A^3]": 1465.706508,
         "weight [u]": 515.37718,
         "surface_area [m^2/g]": 4083.96,
         "void_fraction": 0.4933,
         "void_volume [cm^3/g]": 0.8448999999999999,
         "metal_linker": 2,
         "organic_linker1": 11,
         "organic_linker2": 21,
         "CO2/N2_selectivity": 5.174784895,
         "heat_adsorption_CO2_P0.15bar_T298K [kcal/mol]": 3.828359,
         "_symmetry_Int_Tables_number": 1,
         "_cell_length_a": 9.694811,
         "_cell_length_b": 10.933276,
         "_cell_length_c": 13.885409,
         "_cell_angle_alpha": 90.053018,
         "_cell_angle_beta": 84.814025,
         "_cell_angle_gamma": 89.460975,
         "partial_charge_median": -0.0288945,
         "bond_type_countS": 33,
         "bond_type_countA": 8,
         "bond_type_countD": 5,
         "bond_type_countT": 2,
         "bond_type_countAm": 0,
         "label_topology_pcu": 1,
         "label_topology_sra": 0,
         "label_topology_acs": 0,
         "label_topology_etb": 0,
         "label_topology_bcu": 0,
         "label_topology_nbo": 0,
         "label_spacegroup_triclinic": 1,
         "_deepnote_index_column": 1986
        },
        {
         "volume [A^3]": 16829.557642,
         "weight [u]": 3968.85808,
         "surface_area [m^2/g]": 4343.96,
         "void_fraction": 0.66498,
         "void_volume [cm^3/g]": 1.6981,
         "metal_linker": 2,
         "organic_linker1": 4,
         "organic_linker2": 7,
         "CO2/N2_selectivity": 3.499796625,
         "heat_adsorption_CO2_P0.15bar_T298K [kcal/mol]": 3.060597,
         "_symmetry_Int_Tables_number": 1,
         "_cell_length_a": 30.67137,
         "_cell_length_b": 30.794204,
         "_cell_length_c": 23.511335,
         "_cell_angle_alpha": 89.750676,
         "_cell_angle_beta": 130.722185,
         "_cell_angle_gamma": 89.973875,
         "partial_charge_median": 0.053125,
         "bond_type_countS": 242,
         "bond_type_countA": 144,
         "bond_type_countD": 0,
         "bond_type_countT": 4,
         "bond_type_countAm": 0,
         "label_topology_pcu": 0,
         "label_topology_sra": 0,
         "label_topology_acs": 0,
         "label_topology_etb": 0,
         "label_topology_bcu": 0,
         "label_topology_nbo": 1,
         "label_spacegroup_triclinic": 1,
         "_deepnote_index_column": 1987
        },
        {
         "volume [A^3]": 32689.292788,
         "weight [u]": 6368.96288,
         "surface_area [m^2/g]": 4283.37,
         "void_fraction": 0.7430899999999999,
         "void_volume [cm^3/g]": 2.2968,
         "metal_linker": 3,
         "organic_linker1": 3,
         "organic_linker2": 4,
         "CO2/N2_selectivity": 3.793509503,
         "heat_adsorption_CO2_P0.15bar_T298K [kcal/mol]": 3.13701,
         "_symmetry_Int_Tables_number": 1,
         "_cell_length_a": 44.491547,
         "_cell_length_b": 38.898492,
         "_cell_length_c": 21.655041,
         "_cell_angle_alpha": 90.000306,
         "_cell_angle_beta": 60.720052,
         "_cell_angle_gamma": 89.998936,
         "partial_charge_median": -0.0592955,
         "bond_type_countS": 260,
         "bond_type_countA": 216,
         "bond_type_countD": 0,
         "bond_type_countT": 0,
         "bond_type_countAm": 0,
         "label_topology_pcu": 0,
         "label_topology_sra": 0,
         "label_topology_acs": 0,
         "label_topology_etb": 0,
         "label_topology_bcu": 0,
         "label_topology_nbo": 1,
         "label_spacegroup_triclinic": 1,
         "_deepnote_index_column": 1988
        },
        {
         "volume [A^3]": 19679.741412,
         "weight [u]": 8065.052159999998,
         "surface_area [m^2/g]": 2578.92,
         "void_fraction": 0.5984599999999999,
         "void_volume [cm^3/g]": 0.8793999999999998,
         "metal_linker": 2,
         "organic_linker1": 17,
         "organic_linker2": 24,
         "CO2/N2_selectivity": 6.175411193,
         "heat_adsorption_CO2_P0.15bar_T298K [kcal/mol]": 3.942724,
         "_symmetry_Int_Tables_number": 1,
         "_cell_length_a": 37.508748,
         "_cell_length_b": 30.26684,
         "_cell_length_c": 21.466738,
         "_cell_angle_alpha": 90.000632,
         "_cell_angle_beta": 53.854403,
         "_cell_angle_gamma": 90.000159,
         "partial_charge_median": 0.07432,
         "bond_type_countS": 310,
         "bond_type_countA": 200,
         "bond_type_countD": 0,
         "bond_type_countT": 0,
         "bond_type_countAm": 0,
         "label_topology_pcu": 0,
         "label_topology_sra": 0,
         "label_topology_acs": 0,
         "label_topology_etb": 0,
         "label_topology_bcu": 0,
         "label_topology_nbo": 1,
         "label_spacegroup_triclinic": 1,
         "_deepnote_index_column": 1989
        },
        {
         "volume [A^3]": 6625.148565,
         "weight [u]": 1351.38382,
         "surface_area [m^2/g]": 5297.4,
         "void_fraction": 0.7107,
         "void_volume [cm^3/g]": 2.0982,
         "metal_linker": 3,
         "organic_linker1": 6,
         "organic_linker2": 29,
         "CO2/N2_selectivity": 2.989103452,
         "heat_adsorption_CO2_P0.15bar_T298K [kcal/mol]": 2.913185,
         "_symmetry_Int_Tables_number": 1,
         "_cell_length_a": 15.849164,
         "_cell_length_b": 15.059689,
         "_cell_length_c": 27.757067,
         "_cell_angle_alpha": 89.937563,
         "_cell_angle_beta": 89.970696,
         "_cell_angle_gamma": 89.99863,
         "partial_charge_median": -0.024582,
         "bond_type_countS": 48,
         "bond_type_countA": 64,
         "bond_type_countD": 0,
         "bond_type_countT": 4,
         "bond_type_countAm": 0,
         "label_topology_pcu": 1,
         "label_topology_sra": 0,
         "label_topology_acs": 0,
         "label_topology_etb": 0,
         "label_topology_bcu": 0,
         "label_topology_nbo": 0,
         "label_spacegroup_triclinic": 1,
         "_deepnote_index_column": 1990
        },
        {
         "volume [A^3]": 8035.092122,
         "weight [u]": 2327.5434800000003,
         "surface_area [m^2/g]": 3893.19,
         "void_fraction": 0.58838,
         "void_volume [cm^3/g]": 1.2232,
         "metal_linker": 2,
         "organic_linker1": 34,
         "organic_linker2": 34,
         "CO2/N2_selectivity": 6.23172012,
         "heat_adsorption_CO2_P0.15bar_T298K [kcal/mol]": 3.4834120000000004,
         "_symmetry_Int_Tables_number": 1,
         "_cell_length_a": 16.242999,
         "_cell_length_b": 16.242915,
         "_cell_length_c": 30.455145,
         "_cell_angle_alpha": 89.9987,
         "_cell_angle_beta": 89.997775,
         "_cell_angle_gamma": 89.999485,
         "partial_charge_median": 0.0661965,
         "bond_type_countS": 106,
         "bond_type_countA": 64,
         "bond_type_countD": 32,
         "bond_type_countT": 8,
         "bond_type_countAm": 0,
         "label_topology_pcu": 0,
         "label_topology_sra": 0,
         "label_topology_acs": 0,
         "label_topology_etb": 0,
         "label_topology_bcu": 0,
         "label_topology_nbo": 0,
         "label_spacegroup_triclinic": 1,
         "_deepnote_index_column": 1991
        },
        {
         "volume [A^3]": 9607.440531,
         "weight [u]": 2435.933803,
         "surface_area [m^2/g]": 4460.46,
         "void_fraction": 0.6792,
         "void_volume [cm^3/g]": 1.6132,
         "metal_linker": 1,
         "organic_linker1": 8,
         "organic_linker2": 12,
         "CO2/N2_selectivity": 3.629443169,
         "heat_adsorption_CO2_P0.15bar_T298K [kcal/mol]": 3.066646,
         "_symmetry_Int_Tables_number": 1,
         "_cell_length_a": 28.386486,
         "_cell_length_b": 26.045269,
         "_cell_length_c": 13.112658,
         "_cell_angle_alpha": 89.997561,
         "_cell_angle_beta": 82.309958,
         "_cell_angle_gamma": 89.996394,
         "partial_charge_median": -0.0484485,
         "bond_type_countS": 102,
         "bond_type_countA": 72,
         "bond_type_countD": 8,
         "bond_type_countT": 0,
         "bond_type_countAm": 0,
         "label_topology_pcu": 1,
         "label_topology_sra": 0,
         "label_topology_acs": 0,
         "label_topology_etb": 0,
         "label_topology_bcu": 0,
         "label_topology_nbo": 0,
         "label_spacegroup_triclinic": 1,
         "_deepnote_index_column": 1992
        },
        {
         "volume [A^3]": 2346.770472,
         "weight [u]": 2101.156667,
         "surface_area [m^2/g]": 515.9,
         "void_fraction": 0.13582,
         "void_volume [cm^3/g]": 0.0913999999999999,
         "metal_linker": 10,
         "organic_linker1": 45,
         "organic_linker2": 51,
         "CO2/N2_selectivity": 15.37722164,
         "heat_adsorption_CO2_P0.15bar_T298K [kcal/mol]": 5.310767,
         "_symmetry_Int_Tables_number": 1,
         "_cell_length_a": 8.37709,
         "_cell_length_b": 16.581435,
         "_cell_length_c": 17.338436,
         "_cell_angle_alpha": 99.636357,
         "_cell_angle_beta": 97.510027,
         "_cell_angle_gamma": 93.143219,
         "partial_charge_median": -0.020429,
         "bond_type_countS": 141,
         "bond_type_countA": 18,
         "bond_type_countD": 13,
         "bond_type_countT": 0,
         "bond_type_countAm": 0,
         "label_topology_pcu": 0,
         "label_topology_sra": 0,
         "label_topology_acs": 0,
         "label_topology_etb": 1,
         "label_topology_bcu": 0,
         "label_topology_nbo": 0,
         "label_spacegroup_triclinic": 1,
         "_deepnote_index_column": 1993
        },
        {
         "volume [A^3]": 2965.451007,
         "weight [u]": 1300.89188,
         "surface_area [m^2/g]": 3214.62,
         "void_fraction": 0.52904,
         "void_volume [cm^3/g]": 0.7261999999999998,
         "metal_linker": 3,
         "organic_linker1": 21,
         "organic_linker2": 26,
         "CO2/N2_selectivity": 4.897691747,
         "heat_adsorption_CO2_P0.15bar_T298K [kcal/mol]": 3.523423,
         "_symmetry_Int_Tables_number": 1,
         "_cell_length_a": 13.051002,
         "_cell_length_b": 13.627553,
         "_cell_length_c": 16.732256,
         "_cell_angle_alpha": 89.398914,
         "_cell_angle_beta": 92.407683,
         "_cell_angle_gamma": 94.130911,
         "partial_charge_median": -0.073044,
         "bond_type_countS": 38,
         "bond_type_countA": 20,
         "bond_type_countD": 7,
         "bond_type_countT": 4,
         "bond_type_countAm": 0,
         "label_topology_pcu": 1,
         "label_topology_sra": 0,
         "label_topology_acs": 0,
         "label_topology_etb": 0,
         "label_topology_bcu": 0,
         "label_topology_nbo": 0,
         "label_spacegroup_triclinic": 1,
         "_deepnote_index_column": 1994
        },
        {
         "volume [A^3]": 2799.554047,
         "weight [u]": 762.164073,
         "surface_area [m^2/g]": 5404.89,
         "void_fraction": 0.5885199999999999,
         "void_volume [cm^3/g]": 1.3018,
         "metal_linker": 3,
         "organic_linker1": 21,
         "organic_linker2": 23,
         "CO2/N2_selectivity": 4.369918633,
         "heat_adsorption_CO2_P0.15bar_T298K [kcal/mol]": 2.851009,
         "_symmetry_Int_Tables_number": 1,
         "_cell_length_a": 13.069048,
         "_cell_length_b": 13.638767,
         "_cell_length_c": 15.766211,
         "_cell_angle_alpha": 90.015454,
         "_cell_angle_beta": 92.609961,
         "_cell_angle_gamma": 85.734407,
         "partial_charge_median": 0.031744,
         "bond_type_countS": 45,
         "bond_type_countA": 8,
         "bond_type_countD": 2,
         "bond_type_countT": 9,
         "bond_type_countAm": 0,
         "label_topology_pcu": 1,
         "label_topology_sra": 0,
         "label_topology_acs": 0,
         "label_topology_etb": 0,
         "label_topology_bcu": 0,
         "label_topology_nbo": 0,
         "label_spacegroup_triclinic": 1,
         "_deepnote_index_column": 1995
        },
        {
         "volume [A^3]": 5111.109714,
         "weight [u]": 1578.08222,
         "surface_area [m^2/g]": 3630.31,
         "void_fraction": 0.58981,
         "void_volume [cm^3/g]": 1.1504,
         "metal_linker": 2,
         "organic_linker1": 1,
         "organic_linker2": 14,
         "CO2/N2_selectivity": 4.778697788000001,
         "heat_adsorption_CO2_P0.15bar_T298K [kcal/mol]": 3.675003,
         "_symmetry_Int_Tables_number": 1,
         "_cell_length_a": 18.89376,
         "_cell_length_b": 18.839562,
         "_cell_length_c": 18.679564,
         "_cell_angle_alpha": 109.315604,
         "_cell_angle_beta": 109.34971,
         "_cell_angle_gamma": 109.861794,
         "partial_charge_median": -0.021674,
         "bond_type_countS": 75,
         "bond_type_countA": 65,
         "bond_type_countD": 3,
         "bond_type_countT": 0,
         "bond_type_countAm": 0,
         "label_topology_pcu": 0,
         "label_topology_sra": 0,
         "label_topology_acs": 0,
         "label_topology_etb": 0,
         "label_topology_bcu": 0,
         "label_topology_nbo": 1,
         "label_spacegroup_triclinic": 1,
         "_deepnote_index_column": 1996
        },
        {
         "volume [A^3]": 911.269336,
         "weight [u]": 481.27968,
         "surface_area [m^2/g]": 2546.02,
         "void_fraction": 0.3613199999999999,
         "void_volume [cm^3/g]": 0.4119999999999999,
         "metal_linker": 2,
         "organic_linker1": 10,
         "organic_linker2": 20,
         "CO2/N2_selectivity": 6.883387498,
         "heat_adsorption_CO2_P0.15bar_T298K [kcal/mol]": 3.732121,
         "_symmetry_Int_Tables_number": 1,
         "_cell_length_a": 14.331151,
         "_cell_length_b": 8.802154,
         "_cell_length_c": 7.444773,
         "_cell_angle_alpha": 103.110192,
         "_cell_angle_beta": 94.316678,
         "_cell_angle_gamma": 91.321761,
         "partial_charge_median": -0.026432,
         "bond_type_countS": 21,
         "bond_type_countA": 8,
         "bond_type_countD": 2,
         "bond_type_countT": 5,
         "bond_type_countAm": 0,
         "label_topology_pcu": 1,
         "label_topology_sra": 0,
         "label_topology_acs": 0,
         "label_topology_etb": 0,
         "label_topology_bcu": 0,
         "label_topology_nbo": 0,
         "label_spacegroup_triclinic": 1,
         "_deepnote_index_column": 1997
        },
        {
         "volume [A^3]": 4236.596494,
         "weight [u]": 1127.7926,
         "surface_area [m^2/g]": 4296.42,
         "void_fraction": 0.60298,
         "void_volume [cm^3/g]": 1.3641,
         "metal_linker": 2,
         "organic_linker1": 7,
         "organic_linker2": 20,
         "CO2/N2_selectivity": 5.270734026,
         "heat_adsorption_CO2_P0.15bar_T298K [kcal/mol]": 3.354425,
         "_symmetry_Int_Tables_number": 1,
         "_cell_length_a": 17.829383,
         "_cell_length_b": 16.589797,
         "_cell_length_c": 14.343569,
         "_cell_angle_alpha": 90.406871,
         "_cell_angle_beta": 92.92639,
         "_cell_angle_gamma": 90.754342,
         "partial_charge_median": 0.047207,
         "bond_type_countS": 57,
         "bond_type_countA": 32,
         "bond_type_countD": 12,
         "bond_type_countT": 5,
         "bond_type_countAm": 0,
         "label_topology_pcu": 1,
         "label_topology_sra": 0,
         "label_topology_acs": 0,
         "label_topology_etb": 0,
         "label_topology_bcu": 0,
         "label_topology_nbo": 0,
         "label_spacegroup_triclinic": 1,
         "_deepnote_index_column": 1998
        },
        {
         "volume [A^3]": 22861.645381,
         "weight [u]": 3492.7127200000004,
         "surface_area [m^2/g]": 6252.01,
         "void_fraction": 0.7573199999999999,
         "void_volume [cm^3/g]": 2.9852,
         "metal_linker": 2,
         "organic_linker1": 6,
         "organic_linker2": 11,
         "CO2/N2_selectivity": 3.172914376,
         "heat_adsorption_CO2_P0.15bar_T298K [kcal/mol]": 2.643592,
         "_symmetry_Int_Tables_number": 1,
         "_cell_length_a": 39.1069,
         "_cell_length_b": 32.281296,
         "_cell_length_c": 21.944675,
         "_cell_angle_alpha": 89.732901,
         "_cell_angle_beta": 124.387127,
         "_cell_angle_gamma": 90.015079,
         "partial_charge_median": 0.137086,
         "bond_type_countS": 218,
         "bond_type_countA": 96,
         "bond_type_countD": 8,
         "bond_type_countT": 16,
         "bond_type_countAm": 0,
         "label_topology_pcu": 0,
         "label_topology_sra": 0,
         "label_topology_acs": 0,
         "label_topology_etb": 0,
         "label_topology_bcu": 0,
         "label_topology_nbo": 1,
         "label_spacegroup_triclinic": 1,
         "_deepnote_index_column": 1999
        },
        {
         "volume [A^3]": 1959.675947,
         "weight [u]": 1725.765236,
         "surface_area [m^2/g]": -9999,
         "void_fraction": 0.02102,
         "void_volume [cm^3/g]": 0.0144,
         "metal_linker": 10,
         "organic_linker1": 47,
         "organic_linker2": 50,
         "CO2/N2_selectivity": 9.704603731,
         "heat_adsorption_CO2_P0.15bar_T298K [kcal/mol]": 7.289341999999999,
         "_symmetry_Int_Tables_number": 1,
         "_cell_length_a": 8.489143,
         "_cell_length_b": 14.548041,
         "_cell_length_c": 16.771521,
         "_cell_angle_alpha": 107.13672,
         "_cell_angle_beta": 81.945312,
         "_cell_angle_gamma": 91.739345,
         "partial_charge_median": 0.06376,
         "bond_type_countS": 169,
         "bond_type_countA": 22,
         "bond_type_countD": 11,
         "bond_type_countT": 0,
         "bond_type_countAm": 0,
         "label_topology_pcu": 0,
         "label_topology_sra": 0,
         "label_topology_acs": 0,
         "label_topology_etb": 1,
         "label_topology_bcu": 0,
         "label_topology_nbo": 0,
         "label_spacegroup_triclinic": 1,
         "_deepnote_index_column": 2000
        }
       ]
      },
      "text/plain": "            volume [A^3]   weight [u]  surface_area [m^2/g]  void_fraction  \\\nUnnamed: 0                                                                   \n1            6288.293858  2271.687140               4148.48        0.41225   \n2            1790.506437   887.747320               2191.34        0.30231   \n3            2348.969203  1239.765880               2030.88        0.28533   \n4            2941.571525  1147.951400               3587.13        0.41963   \n5             705.397601   643.270740              -9999.00        0.07060   \n...                  ...          ...                   ...            ...   \n1996         5111.109714  1578.082220               3630.31        0.58981   \n1997          911.269336   481.279680               2546.02        0.36132   \n1998         4236.596494  1127.792600               4296.42        0.60298   \n1999        22861.645381  3492.712720               6252.01        0.75732   \n2000         1959.675947  1725.765236              -9999.00        0.02102   \n\n            void_volume [cm^3/g]  metal_linker  organic_linker1  \\\nUnnamed: 0                                                        \n1                         0.6872             4                7   \n2                         0.3672             2                4   \n3                         0.3256             3               18   \n4                         0.6475             2                8   \n5                         0.0466             3               10   \n...                          ...           ...              ...   \n1996                      1.1504             2                1   \n1997                      0.4120             2               10   \n1998                      1.3641             2                7   \n1999                      2.9852             2                6   \n2000                      0.0144            10               47   \n\n            organic_linker2  CO2/N2_selectivity  \\\nUnnamed: 0                                        \n1                        27           14.048791   \n2                        26           20.217222   \n3                        22           33.108662   \n4                        15           12.800562   \n5                        22           23.395617   \n...                     ...                 ...   \n1996                     14            4.778698   \n1997                     20            6.883387   \n1998                     20            5.270734   \n1999                     11            3.172914   \n2000                     50            9.704604   \n\n            heat_adsorption_CO2_P0.15bar_T298K [kcal/mol]  ...  \\\nUnnamed: 0                                                 ...   \n1                                                5.604779  ...   \n2                                                6.148776  ...   \n3                                                6.164397  ...   \n4                                                5.164957  ...   \n5                                                7.090687  ...   \n...                                                   ...  ...   \n1996                                             3.675003  ...   \n1997                                             3.732121  ...   \n1998                                             3.354425  ...   \n1999                                             2.643592  ...   \n2000                                             7.289342  ...   \n\n            bond_type_countD  bond_type_countT  bond_type_countAm  \\\nUnnamed: 0                                                          \n1                        0.0               3.0                0.0   \n2                        6.0               0.0                0.0   \n3                        8.0               0.0                0.0   \n4                        2.0               0.0                0.0   \n5                        2.0               0.0                0.0   \n...                      ...               ...                ...   \n1996                     3.0               0.0                0.0   \n1997                     2.0               5.0                0.0   \n1998                    12.0               5.0                0.0   \n1999                     8.0              16.0                0.0   \n2000                    11.0               0.0                0.0   \n\n            label_topology_pcu  label_topology_sra  label_topology_acs  \\\nUnnamed: 0                                                               \n1                            0                   0                   1   \n2                            1                   0                   0   \n3                            1                   0                   0   \n4                            1                   0                   0   \n5                            1                   0                   0   \n...                        ...                 ...                 ...   \n1996                         0                   0                   0   \n1997                         1                   0                   0   \n1998                         1                   0                   0   \n1999                         0                   0                   0   \n2000                         0                   0                   0   \n\n            label_topology_etb  label_topology_bcu  label_topology_nbo  \\\nUnnamed: 0                                                               \n1                            0                   0                   0   \n2                            0                   0                   0   \n3                            0                   0                   0   \n4                            0                   0                   0   \n5                            0                   0                   0   \n...                        ...                 ...                 ...   \n1996                         0                   0                   1   \n1997                         0                   0                   0   \n1998                         0                   0                   0   \n1999                         0                   0                   1   \n2000                         1                   0                   0   \n\n            label_spacegroup_triclinic  \nUnnamed: 0                              \n1                                    1  \n2                                    1  \n3                                    1  \n4                                    1  \n5                                    1  \n...                                ...  \n1996                                 1  \n1997                                 1  \n1998                                 1  \n1999                                 1  \n2000                                 1  \n\n[2000 rows x 30 columns]",
      "text/html": "<div>\n<style scoped>\n    .dataframe tbody tr th:only-of-type {\n        vertical-align: middle;\n    }\n\n    .dataframe tbody tr th {\n        vertical-align: top;\n    }\n\n    .dataframe thead th {\n        text-align: right;\n    }\n</style>\n<table border=\"1\" class=\"dataframe\">\n  <thead>\n    <tr style=\"text-align: right;\">\n      <th></th>\n      <th>volume [A^3]</th>\n      <th>weight [u]</th>\n      <th>surface_area [m^2/g]</th>\n      <th>void_fraction</th>\n      <th>void_volume [cm^3/g]</th>\n      <th>metal_linker</th>\n      <th>organic_linker1</th>\n      <th>organic_linker2</th>\n      <th>CO2/N2_selectivity</th>\n      <th>heat_adsorption_CO2_P0.15bar_T298K [kcal/mol]</th>\n      <th>...</th>\n      <th>bond_type_countD</th>\n      <th>bond_type_countT</th>\n      <th>bond_type_countAm</th>\n      <th>label_topology_pcu</th>\n      <th>label_topology_sra</th>\n      <th>label_topology_acs</th>\n      <th>label_topology_etb</th>\n      <th>label_topology_bcu</th>\n      <th>label_topology_nbo</th>\n      <th>label_spacegroup_triclinic</th>\n    </tr>\n    <tr>\n      <th>Unnamed: 0</th>\n      <th></th>\n      <th></th>\n      <th></th>\n      <th></th>\n      <th></th>\n      <th></th>\n      <th></th>\n      <th></th>\n      <th></th>\n      <th></th>\n      <th></th>\n      <th></th>\n      <th></th>\n      <th></th>\n      <th></th>\n      <th></th>\n      <th></th>\n      <th></th>\n      <th></th>\n      <th></th>\n      <th></th>\n    </tr>\n  </thead>\n  <tbody>\n    <tr>\n      <th>1</th>\n      <td>6288.293858</td>\n      <td>2271.687140</td>\n      <td>4148.48</td>\n      <td>0.41225</td>\n      <td>0.6872</td>\n      <td>4</td>\n      <td>7</td>\n      <td>27</td>\n      <td>14.048791</td>\n      <td>5.604779</td>\n      <td>...</td>\n      <td>0.0</td>\n      <td>3.0</td>\n      <td>0.0</td>\n      <td>0</td>\n      <td>0</td>\n      <td>1</td>\n      <td>0</td>\n      <td>0</td>\n      <td>0</td>\n      <td>1</td>\n    </tr>\n    <tr>\n      <th>2</th>\n      <td>1790.506437</td>\n      <td>887.747320</td>\n      <td>2191.34</td>\n      <td>0.30231</td>\n      <td>0.3672</td>\n      <td>2</td>\n      <td>4</td>\n      <td>26</td>\n      <td>20.217222</td>\n      <td>6.148776</td>\n      <td>...</td>\n      <td>6.0</td>\n      <td>0.0</td>\n      <td>0.0</td>\n      <td>1</td>\n      <td>0</td>\n      <td>0</td>\n      <td>0</td>\n      <td>0</td>\n      <td>0</td>\n      <td>1</td>\n    </tr>\n    <tr>\n      <th>3</th>\n      <td>2348.969203</td>\n      <td>1239.765880</td>\n      <td>2030.88</td>\n      <td>0.28533</td>\n      <td>0.3256</td>\n      <td>3</td>\n      <td>18</td>\n      <td>22</td>\n      <td>33.108662</td>\n      <td>6.164397</td>\n      <td>...</td>\n      <td>8.0</td>\n      <td>0.0</td>\n      <td>0.0</td>\n      <td>1</td>\n      <td>0</td>\n      <td>0</td>\n      <td>0</td>\n      <td>0</td>\n      <td>0</td>\n      <td>1</td>\n    </tr>\n    <tr>\n      <th>4</th>\n      <td>2941.571525</td>\n      <td>1147.951400</td>\n      <td>3587.13</td>\n      <td>0.41963</td>\n      <td>0.6475</td>\n      <td>2</td>\n      <td>8</td>\n      <td>15</td>\n      <td>12.800562</td>\n      <td>5.164957</td>\n      <td>...</td>\n      <td>2.0</td>\n      <td>0.0</td>\n      <td>0.0</td>\n      <td>1</td>\n      <td>0</td>\n      <td>0</td>\n      <td>0</td>\n      <td>0</td>\n      <td>0</td>\n      <td>1</td>\n    </tr>\n    <tr>\n      <th>5</th>\n      <td>705.397601</td>\n      <td>643.270740</td>\n      <td>-9999.00</td>\n      <td>0.07060</td>\n      <td>0.0466</td>\n      <td>3</td>\n      <td>10</td>\n      <td>22</td>\n      <td>23.395617</td>\n      <td>7.090687</td>\n      <td>...</td>\n      <td>2.0</td>\n      <td>0.0</td>\n      <td>0.0</td>\n      <td>1</td>\n      <td>0</td>\n      <td>0</td>\n      <td>0</td>\n      <td>0</td>\n      <td>0</td>\n      <td>1</td>\n    </tr>\n    <tr>\n      <th>...</th>\n      <td>...</td>\n      <td>...</td>\n      <td>...</td>\n      <td>...</td>\n      <td>...</td>\n      <td>...</td>\n      <td>...</td>\n      <td>...</td>\n      <td>...</td>\n      <td>...</td>\n      <td>...</td>\n      <td>...</td>\n      <td>...</td>\n      <td>...</td>\n      <td>...</td>\n      <td>...</td>\n      <td>...</td>\n      <td>...</td>\n      <td>...</td>\n      <td>...</td>\n      <td>...</td>\n    </tr>\n    <tr>\n      <th>1996</th>\n      <td>5111.109714</td>\n      <td>1578.082220</td>\n      <td>3630.31</td>\n      <td>0.58981</td>\n      <td>1.1504</td>\n      <td>2</td>\n      <td>1</td>\n      <td>14</td>\n      <td>4.778698</td>\n      <td>3.675003</td>\n      <td>...</td>\n      <td>3.0</td>\n      <td>0.0</td>\n      <td>0.0</td>\n      <td>0</td>\n      <td>0</td>\n      <td>0</td>\n      <td>0</td>\n      <td>0</td>\n      <td>1</td>\n      <td>1</td>\n    </tr>\n    <tr>\n      <th>1997</th>\n      <td>911.269336</td>\n      <td>481.279680</td>\n      <td>2546.02</td>\n      <td>0.36132</td>\n      <td>0.4120</td>\n      <td>2</td>\n      <td>10</td>\n      <td>20</td>\n      <td>6.883387</td>\n      <td>3.732121</td>\n      <td>...</td>\n      <td>2.0</td>\n      <td>5.0</td>\n      <td>0.0</td>\n      <td>1</td>\n      <td>0</td>\n      <td>0</td>\n      <td>0</td>\n      <td>0</td>\n      <td>0</td>\n      <td>1</td>\n    </tr>\n    <tr>\n      <th>1998</th>\n      <td>4236.596494</td>\n      <td>1127.792600</td>\n      <td>4296.42</td>\n      <td>0.60298</td>\n      <td>1.3641</td>\n      <td>2</td>\n      <td>7</td>\n      <td>20</td>\n      <td>5.270734</td>\n      <td>3.354425</td>\n      <td>...</td>\n      <td>12.0</td>\n      <td>5.0</td>\n      <td>0.0</td>\n      <td>1</td>\n      <td>0</td>\n      <td>0</td>\n      <td>0</td>\n      <td>0</td>\n      <td>0</td>\n      <td>1</td>\n    </tr>\n    <tr>\n      <th>1999</th>\n      <td>22861.645381</td>\n      <td>3492.712720</td>\n      <td>6252.01</td>\n      <td>0.75732</td>\n      <td>2.9852</td>\n      <td>2</td>\n      <td>6</td>\n      <td>11</td>\n      <td>3.172914</td>\n      <td>2.643592</td>\n      <td>...</td>\n      <td>8.0</td>\n      <td>16.0</td>\n      <td>0.0</td>\n      <td>0</td>\n      <td>0</td>\n      <td>0</td>\n      <td>0</td>\n      <td>0</td>\n      <td>1</td>\n      <td>1</td>\n    </tr>\n    <tr>\n      <th>2000</th>\n      <td>1959.675947</td>\n      <td>1725.765236</td>\n      <td>-9999.00</td>\n      <td>0.02102</td>\n      <td>0.0144</td>\n      <td>10</td>\n      <td>47</td>\n      <td>50</td>\n      <td>9.704604</td>\n      <td>7.289342</td>\n      <td>...</td>\n      <td>11.0</td>\n      <td>0.0</td>\n      <td>0.0</td>\n      <td>0</td>\n      <td>0</td>\n      <td>0</td>\n      <td>1</td>\n      <td>0</td>\n      <td>0</td>\n      <td>1</td>\n    </tr>\n  </tbody>\n</table>\n<p>2000 rows × 30 columns</p>\n</div>"
     },
     "metadata": {}
    }
   ],
   "execution_count": null
  },
  {
   "cell_type": "code",
   "metadata": {
    "tags": [],
    "cell_id": "00013-b36b4b88-fab2-4da0-9dd1-0ffe34ddc605",
    "deepnote_to_be_reexecuted": false,
    "source_hash": "1eb937cb",
    "execution_start": 1632454385314,
    "execution_millis": 658,
    "deepnote_cell_type": "code"
   },
   "source": "from xgboost import XGBRegressor\nfrom lightgbm import LGBMRegressor\nfrom sklearn.ensemble import (\n    VotingRegressor,\n    StackingRegressor,\n    RandomForestRegressor,\n    GradientBoostingRegressor\n)\nfrom sklearn.linear_model import Lasso",
   "outputs": [],
   "execution_count": null
  },
  {
   "cell_type": "code",
   "metadata": {
    "tags": [],
    "cell_id": "00014-c8764f2d-89d1-4918-94be-3209af4c57ff",
    "deepnote_to_be_reexecuted": false,
    "source_hash": "4884c49b",
    "execution_start": 1632454385983,
    "execution_millis": 337809,
    "deepnote_cell_type": "code"
   },
   "source": "\n\ndef log_mean_absolute_error(y_true, y_pred):\n    return np.log(mean_absolute_error(y_true, y_pred))\n\n\ndef fit_catboost(X, y):\n    catboost = CatBoostRegressor(\n        iterations=500,\n        verbose=False,\n        # l2_leaf_reg=0.001\n    )\n    catboost.fit(X, y)\n    return catboost\n\n\ndef fit_xgboost(X, y):\n    reg = XGBRegressor()\n    reg.fit(X.values, y.values)\n    return reg\n\n\ndef fit_lightboost(X, y):\n    reg = LGBMRegressor()\n    reg.fit(X.values, y.values)\n    return reg\n\n\ndef fit_voting(X, y):\n    reg = VotingRegressor(\n        [\n            ('cat', CatBoostRegressor(\n                    iterations=500,\n                    verbose=False,\n                    # l2_leaf_reg=0.001\n                )\n            ),\n            ('xgb', XGBRegressor()),\n            # ('gb', GradientBoostingRegressor())\n        ]\n    )\n    reg.fit(X.values, y.values)\n    return reg\n\n\nfit_models = [fit_voting]\n# kf = KFold(n_splits=5, shuffle=True, random_state=1234)\nkf = RepeatedKFold(n_splits=5, n_repeats=10, random_state=1234)\n# kf = RepeatedStratifiedKFold(n_splits=5, n_repeats=10, random_state=1234)\nfit_results = {}\nfor k, (train_index, test_index) in enumerate(kf.split(train.X)):\n    print(f\"K Fold: {k + 1}\")\n    print(\"TRAIN:\", train_index, \"TEST:\", test_index)\n    X_train, X_test = train.X.iloc[train_index], train.X.iloc[test_index]\n    y_train, y_test = train.y.iloc[train_index], train.y.iloc[test_index]\n\n    for fit_model in fit_models:\n        model_name = '_'.join(fit_model.__name__.split('fit_')[1:])\n        if model_name not in fit_results:\n            fit_results[model_name] = []\n\n        model = fit_model(X_train, y_train)\n        train_pred = model.predict(X_train)\n        log_mean_error_train = log_mean_absolute_error(y_train, train_pred)\n\n        # model = fit_model(X_test, y_test)\n        test_pred = model.predict(X_test)\n        log_mean_error_test = log_mean_absolute_error(y_test, test_pred)\n\n        test_pred = pd.DataFrame(\n            test_pred,\n            index= y_test.index,\n            columns=y_test.columns\n        )\n        error_sort = np.abs(y_test - test_pred).sort_values(TARGET, ascending=False)\n        \n\n        print(f\"Log mean error train: {log_mean_error_train}\")\n        print(f\"Log mean error test: {log_mean_error_test}\")\n        print(error_sort.head(10))\n        \n\n        fit_results[model_name].append({\n            'model': model,\n            'log_mean_error_train': log_mean_error_train,\n            'log_mean_error_test': log_mean_error_test\n        })",
   "outputs": [
    {
     "name": "stdout",
     "text": "K Fold: 1\nTRAIN: [    1     2     3 ... 66712 66713 66714] TEST: [    0     4    13 ... 66699 66708 66711]\nLog mean error train: 2.830729637327026\nLog mean error test: 2.959877678486929\n            CO2_working_capacity [mL/g]\nUnnamed: 0                             \n28723                        245.345026\n13905                        211.465785\n17031                        201.485206\n26786                        197.109078\n11015                        184.487758\n20510                        182.813665\n9703                         178.451673\n44212                        176.864697\n55158                        167.463218\n55868                        162.222568\nK Fold: 2\nTRAIN: [    0     1     2 ... 66711 66713 66714] TEST: [   18    24    30 ... 66700 66703 66712]\nLog mean error train: 2.824259667309154\nLog mean error test: 2.9805359261070077\n            CO2_working_capacity [mL/g]\nUnnamed: 0                             \n47904                        229.046227\n53863                        226.305298\n56079                        224.374009\n30350                        194.547923\n16767                        191.160969\n52675                        183.834557\n11241                        183.207315\n22322                        177.337669\n14587                        172.042505\n47670                        166.902238\nK Fold: 3\nTRAIN: [    0     1     3 ... 66712 66713 66714] TEST: [    2     8     9 ... 66689 66695 66710]\nLog mean error train: 2.822809825381585\nLog mean error test: 2.9836735646029346\n            CO2_working_capacity [mL/g]\nUnnamed: 0                             \n2778                         216.757787\n47409                        187.433833\n47659                        185.248107\n37219                        176.262725\n27842                        175.378052\n59302                        162.311925\n34295                        159.423428\n33640                        157.319480\n21917                        156.729365\n1686                         154.475636\nK Fold: 4\nTRAIN: [    0     2     3 ... 66711 66712 66713] TEST: [    1     5     6 ... 66705 66709 66714]\nLog mean error train: 2.8128598911294915\nLog mean error test: 3.0011553677441043\n            CO2_working_capacity [mL/g]\nUnnamed: 0                             \n45490                        219.913564\n58858                        188.412697\n56936                        174.578668\n59446                        172.052116\n11835                        168.761503\n10055                        166.220861\n3360                         158.984343\n32591                        157.297019\n14550                        154.237232\n21424                        151.720510\nK Fold: 5\nTRAIN: [    0     1     2 ... 66711 66712 66714] TEST: [    3    10    16 ... 66706 66707 66713]\nLog mean error train: 2.8197747792626147\nLog mean error test: 2.9952353419915134\n            CO2_working_capacity [mL/g]\nUnnamed: 0                             \n16576                        184.728450\n24424                        182.286789\n19039                        178.358014\n44990                        171.832611\n20829                        165.286534\n8447                         163.365760\n54164                        161.823110\n4442                         159.703865\n21364                        159.496497\n48924                        152.445332\nK Fold: 6\nTRAIN: [    0     1     2 ... 66712 66713 66714] TEST: [    6     9    12 ... 66706 66708 66711]\nLog mean error train: 2.8272612715166137\nLog mean error test: 2.9711572001542974\n            CO2_working_capacity [mL/g]\nUnnamed: 0                             \n53863                        233.356951\n18567                        169.535305\n57549                        156.221993\n4174                         155.349934\n14587                        154.119702\n49161                        153.825010\n3360                         146.995062\n7283                         143.676081\n54164                        143.061122\n30221                        141.946532\nK Fold: 7\nTRAIN: [    0     1     2 ... 66712 66713 66714] TEST: [    3    11    13 ... 66707 66709 66710]\nLog mean error train: 2.824401928723051\nLog mean error test: 2.9891163793999103\n            CO2_working_capacity [mL/g]\nUnnamed: 0                             \n22322                        187.487137\n47659                        170.944519\n46261                        168.454411\n13905                        166.629330\n52603                        162.339725\n55158                        158.819559\n41272                        157.604919\n45323                        157.295238\n1689                         156.045598\n8875                         155.604372\nK Fold: 8\nTRAIN: [    0     1     2 ... 66712 66713 66714] TEST: [    4     5    23 ... 66684 66693 66701]\nLog mean error train: 2.8313824199034667\nLog mean error test: 2.9795459949508896\n            CO2_working_capacity [mL/g]\nUnnamed: 0                             \n47904                        230.711198\n45490                        220.618482\n36831                        181.077738\n11015                        176.037599\n44212                        172.589002\n11835                        169.786387\n31221                        166.280748\n59446                        164.584378\n1397                         163.054552\n30625                        158.931118\nK Fold: 9\nTRAIN: [    1     2     3 ... 66710 66711 66712] TEST: [    0    40    43 ... 66700 66713 66714]\nLog mean error train: 2.821007096226021\nLog mean error test: 2.9867675677792405\n            CO2_working_capacity [mL/g]\nUnnamed: 0                             \n17031                        244.165248\n56079                        231.373875\n30350                        207.733409\n2778                         202.147364\n16767                        182.524847\n44990                        181.552906\n55868                        177.343269\n11241                        171.891889\n19039                        170.385858\n58858                        160.643989\nK Fold: 10\nTRAIN: [    0     3     4 ... 66711 66713 66714] TEST: [    1     2     7 ... 66703 66705 66712]\nLog mean error train: 2.825719035413725\nLog mean error test: 2.990641327740015\n            CO2_working_capacity [mL/g]\nUnnamed: 0                             \n28723                        261.600288\n53958                        210.873550\n26786                        191.801145\n16576                        186.516102\n56936                        183.207724\n27842                        181.270873\n47409                        179.647788\n19232                        174.023303\n9703                         171.685801\n54061                        170.639643\nK Fold: 11\nTRAIN: [    0     2     3 ... 66711 66712 66713] TEST: [    1     5    12 ... 66704 66710 66714]\nLog mean error train: 2.8235016114825875\nLog mean error test: 2.9950527773400744\n            CO2_working_capacity [mL/g]\nUnnamed: 0                             \n47904                        238.233063\n56079                        217.557674\n58858                        193.066792\n27842                        184.568393\n19232                        183.551104\n1746                         175.606465\n8875                         171.008929\n22322                        168.858525\n55868                        165.752774\n14403                        158.739883\nK Fold: 12\nTRAIN: [    0     1     2 ... 66711 66712 66714] TEST: [   13    19    22 ... 66706 66709 66713]\nLog mean error train: 2.8203792458463792\nLog mean error test: 2.9887906460194658\n            CO2_working_capacity [mL/g]\nUnnamed: 0                             \n28723                        239.914094\n2778                         212.891113\n11015                        209.793986\n47409                        192.656993\n16767                        187.474863\n47659                        179.215144\n57146                        160.668144\n55158                        160.032113\n32591                        150.438862\n57077                        147.165173\nK Fold: 13\nTRAIN: [    0     1     3 ... 66712 66713 66714] TEST: [    2     8     9 ... 66691 66698 66708]\nLog mean error train: 2.8276238377890075\nLog mean error test: 2.980011973534392\n            CO2_working_capacity [mL/g]\nUnnamed: 0                             \n54164                        168.913120\n11241                        165.941162\n53958                        165.190104\n34819                        164.091515\n10055                        160.678520\n51326                        159.855482\n23055                        159.090503\n20510                        158.121596\n1397                         154.335940\n16576                        154.318735\nK Fold: 14\nTRAIN: [    1     2     3 ... 66710 66713 66714] TEST: [    0     4    11 ... 66707 66711 66712]\nLog mean error train: 2.8274168303633775\nLog mean error test: 2.978058830354982\n            CO2_working_capacity [mL/g]\nUnnamed: 0                             \n53863                        227.347393\n24424                        177.444165\n19039                        173.490763\n9703                         168.091413\n11835                        163.524316\n44990                        159.958966\n31221                        158.863436\n49024                        153.675227\n41272                        153.081958\n21364                        150.842087\nK Fold: 15\nTRAIN: [    0     1     2 ... 66712 66713 66714] TEST: [    3     6     7 ... 66693 66697 66703]\nLog mean error train: 2.824493129225544\nLog mean error test: 2.989177742287538\n            CO2_working_capacity [mL/g]\nUnnamed: 0                             \n17031                        208.316883\n30350                        198.881691\n13905                        190.467949\n45490                        190.151706\n37219                        177.666824\n59302                        176.807541\n5348                         169.964951\n26786                        167.576943\n4442                         160.023394\n18567                        155.714820\nK Fold: 16\nTRAIN: [    0     1     2 ... 66711 66713 66714] TEST: [    8    18    23 ... 66704 66709 66712]\nLog mean error train: 2.8270158664094724\nLog mean error test: 2.9840583450294575\n            CO2_working_capacity [mL/g]\nUnnamed: 0                             \n16767                        183.009053\n32591                        170.193230\n59446                        168.140444\n19232                        164.458387\n34295                        161.760509\n45323                        151.036875\n55158                        150.831665\n58457                        145.744934\n59650                        143.004545\n21917                        142.923842\nK Fold: 17\nTRAIN: [    3     6     7 ... 66712 66713 66714] TEST: [    0     1     2 ... 66701 66705 66711]\nLog mean error train: 2.8256476063769\nLog mean error test: 2.9862662279336654\n            CO2_working_capacity [mL/g]\nUnnamed: 0                             \n18567                        187.305298\n11241                        185.613772\n17031                        180.025552\n26786                        179.927450\n16576                        177.913272\n11835                        177.054654\n22322                        169.607848\n37219                        168.732900\n14403                        159.357759\n20510                        155.479942\nK Fold: 18\nTRAIN: [    0     1     2 ... 66711 66712 66714] TEST: [    3     9    14 ... 66708 66710 66713]\nLog mean error train: 2.825353117602518\nLog mean error test: 2.994791915161322\n            CO2_working_capacity [mL/g]\nUnnamed: 0                             \n28723                        237.068107\n30350                        205.358310\n1746                         186.275169\n9703                         183.111777\n13905                        179.270021\n11015                        172.465335\n5348                         171.451993\n1397                         169.362024\n19039                        168.189273\n58858                        167.903337\nK Fold: 19\nTRAIN: [    0     1     2 ... 66711 66712 66713] TEST: [    6     7    15 ... 66694 66697 66714]\nLog mean error train: 2.828111723553311\nLog mean error test: 2.9850705343081247\n            CO2_working_capacity [mL/g]\nUnnamed: 0                             \n53863                        234.572977\n2778                         205.295996\n10055                        181.080928\n27842                        162.757089\n16466                        161.335889\n31221                        160.800383\n35429                        159.115246\n46096                        158.526125\n44212                        157.038594\n47659                        155.970817\nK Fold: 20\nTRAIN: [    0     1     2 ... 66712 66713 66714] TEST: [   11    12    21 ... 66690 66695 66703]\nLog mean error train: 2.826493415817703\nLog mean error test: 2.9723986534932236\n            CO2_working_capacity [mL/g]\nUnnamed: 0                             \n56079                        232.216186\n47904                        230.448834\n45490                        197.936283\n47409                        190.158010\n21364                        164.765148\n4442                         164.403809\n13541                        164.387147\n30221                        156.338921\n24424                        155.530287\n53908                        155.389738\nK Fold: 21\nTRAIN: [    1     2     3 ... 66711 66713 66714] TEST: [    0     8    12 ... 66697 66710 66712]\nLog mean error train: 2.822836185577571\nLog mean error test: 2.986598500047352\n            CO2_working_capacity [mL/g]\nUnnamed: 0                             \n28723                        241.573945\n56079                        215.012292\n53863                        212.056333\n58858                        191.893017\n16576                        187.206357\n47409                        185.065439\n19232                        173.368016\n59446                        171.913821\n46261                        171.251722\n26786                        170.029372\nK Fold: 22\nTRAIN: [    0     1     3 ... 66711 66712 66714] TEST: [    2     5    11 ... 66702 66703 66713]\nLog mean error train: 2.825019209883125\nLog mean error test: 2.9891095267716645\n            CO2_working_capacity [mL/g]\nUnnamed: 0                             \n13905                        187.810404\n37219                        185.129854\n14403                        175.961342\n47659                        170.267642\n52603                        169.933405\n44212                        163.247978\n21364                        161.815821\n48924                        161.773733\n46979                        156.639093\n21379                        151.394582\nK Fold: 23\nTRAIN: [    0     2     3 ... 66712 66713 66714] TEST: [    1     9    13 ... 66705 66709 66711]\nLog mean error train: 2.822517513733219\nLog mean error test: 2.99035685378434\n            CO2_working_capacity [mL/g]\nUnnamed: 0                             \n45490                        199.879048\n10055                        175.044642\n17031                        173.769212\n59302                        170.774321\n11241                        167.777359\n3360                         166.235795\n1397                         163.563996\n49024                        154.526841\n692                          151.709612\n49844                        149.714973\nK Fold: 24\nTRAIN: [    0     1     2 ... 66711 66712 66713] TEST: [    4     6    10 ... 66706 66707 66714]\nLog mean error train: 2.8274381233688084\nLog mean error test: 2.9800621044415565\n            CO2_working_capacity [mL/g]\nUnnamed: 0                             \n2778                         225.870444\n30350                        201.598721\n55868                        193.986273\n22322                        183.576829\n53958                        170.815721\n23055                        165.962157\n19039                        165.432228\n11015                        164.792665\n56936                        161.950760\n11877                        158.925528\nK Fold: 25\nTRAIN: [    0     1     2 ... 66712 66713 66714] TEST: [    3     7    14 ... 66698 66704 66708]\nLog mean error train: 2.8276717677358025\nLog mean error test: 2.969090914612024\n            CO2_working_capacity [mL/g]\nUnnamed: 0                             \n47904                        211.852009\n27842                        189.506638\n16767                        172.133534\n9703                         170.368289\n11835                        159.295556\n24424                        154.660513\n32591                        154.579011\n22271                        152.568868\n4174                         147.538454\n30221                        146.067175\nK Fold: 26\nTRAIN: [    0     1     2 ... 66711 66713 66714] TEST: [   10    11    12 ... 66699 66710 66712]\nLog mean error train: 2.8275326374072436\nLog mean error test: 2.972789700681334\n            CO2_working_capacity [mL/g]\nUnnamed: 0                             \n17031                        196.245466\n30350                        192.428023\n16576                        179.053158\n58858                        175.028192\n55868                        166.060538\n46979                        163.842552\n32898                        158.321676\n41272                        157.127780\n24424                        155.832038\n31221                        152.589766\nK Fold: 27\nTRAIN: [    0     2     4 ... 66712 66713 66714] TEST: [    1     3     6 ... 66700 66702 66705]\nLog mean error train: 2.8205856392117648\nLog mean error test: 2.9847878525929876\n            CO2_working_capacity [mL/g]\nUnnamed: 0                             \n16767                        182.742216\n44990                        178.892693\n34295                        175.966932\n11015                        172.434318\n35429                        172.164716\n18567                        164.432894\n27842                        159.653837\n19039                        159.014004\n14403                        155.801573\n23311                        153.557173\nK Fold: 28\nTRAIN: [    0     1     2 ... 66712 66713 66714] TEST: [   20    22    30 ... 66690 66704 66708]\nLog mean error train: 2.8250905461961544\nLog mean error test: 2.988534452820948\n            CO2_working_capacity [mL/g]\nUnnamed: 0                             \n28723                        243.957087\n53863                        231.509925\n47409                        209.910802\n56936                        182.852990\n59302                        178.951615\n34819                        173.301926\n11241                        172.177632\n9703                         171.698043\n21917                        171.147168\n52603                        169.894753\nK Fold: 29\nTRAIN: [    0     1     2 ... 66712 66713 66714] TEST: [    7     8    13 ... 66692 66706 66707]\nLog mean error train: 2.8261988110397005\nLog mean error test: 2.979641485541052\n            CO2_working_capacity [mL/g]\nUnnamed: 0                             \n56079                        226.803423\n47904                        205.220276\n26786                        200.728113\n37219                        189.314643\n47659                        179.312243\n10055                        164.844354\n30221                        159.342536\n20829                        157.227638\n4442                         152.975763\n3360                         151.408683\nK Fold: 30\nTRAIN: [    1     3     6 ... 66708 66710 66712] TEST: [    0     2     4 ... 66711 66713 66714]\nLog mean error train: 2.8208208044274716\nLog mean error test: 2.99581662158039\n            CO2_working_capacity [mL/g]\nUnnamed: 0                             \n2778                         206.683074\n45490                        191.580690\n13905                        186.832579\n8447                         174.377168\n59446                        171.175043\n11835                        170.619475\n22322                        168.931813\n47670                        164.532408\n49844                        152.306549\n57198                        151.202986\nK Fold: 31\nTRAIN: [    1     2     3 ... 66711 66713 66714] TEST: [    0     7     9 ... 66704 66708 66712]\nLog mean error train: 2.8246195544461137\nLog mean error test: 2.991294932435062\n            CO2_working_capacity [mL/g]\nUnnamed: 0                             \n2778                         200.778631\n9703                         182.660559\n17031                        182.451525\n55868                        175.676851\n11015                        170.474170\n1397                         161.635472\n21917                        160.860532\n30625                        160.695173\n46096                        159.230937\n17788                        156.258137\nK Fold: 32\nTRAIN: [    0     1     3 ... 66711 66712 66713] TEST: [    2     4     5 ... 66696 66709 66714]\nLog mean error train: 2.822821067697505\nLog mean error test: 2.974955919446718\n            CO2_working_capacity [mL/g]\nUnnamed: 0                             \n16767                        176.154343\n18567                        169.418661\n24424                        165.744344\n47409                        162.481645\n11835                        157.784435\n31221                        156.053182\n43710                        153.330571\n44990                        153.127895\n32898                        151.142926\n57077                        147.481631\nK Fold: 33\nTRAIN: [    0     1     2 ... 66710 66712 66714] TEST: [   14    15    21 ... 66702 66711 66713]\nLog mean error train: 2.8237916691707206\nLog mean error test: 2.986146588449183\n            CO2_working_capacity [mL/g]\nUnnamed: 0                             \n53863                        216.193973\n19232                        194.539206\n37219                        183.698308\n58858                        180.921068\n26786                        176.473234\n10055                        175.959478\n48924                        173.009791\n59446                        169.665709\n22322                        169.090365\n34295                        168.762060\nK Fold: 34\nTRAIN: [    0     1     2 ... 66712 66713 66714] TEST: [    3    11    20 ... 66697 66705 66710]\nLog mean error train: 2.821197342983877\nLog mean error test: 2.995446453245821\n            CO2_working_capacity [mL/g]\nUnnamed: 0                             \n56079                        218.939267\n47904                        216.758869\n59302                        186.879907\n27842                        170.226704\n13905                        170.102544\n5348                         169.672653\n20829                        166.505079\n16576                        164.547985\n44212                        162.309818\n4442                         156.853074\nK Fold: 35\nTRAIN: [    0     2     3 ... 66712 66713 66714] TEST: [    1     6    13 ... 66700 66706 66707]\nLog mean error train: 2.82716028907351\nLog mean error test: 2.9767107075665398\n            CO2_working_capacity [mL/g]\nUnnamed: 0                             \n28723                        240.857200\n30350                        194.520930\n45490                        189.428130\n56936                        173.394529\n47659                        169.430252\n36831                        166.347308\n45323                        164.742286\n16466                        153.184379\n33185                        151.908765\n47670                        149.083536\nK Fold: 36\nTRAIN: [    1     2     3 ... 66712 66713 66714] TEST: [    0     4     5 ... 66701 66703 66709]\nLog mean error train: 2.8250319761379785\nLog mean error test: 2.993798473255793\n            CO2_working_capacity [mL/g]\nUnnamed: 0                             \n47904                        225.855868\n53863                        209.007590\n30350                        196.763825\n26786                        183.816191\n14403                        181.393387\n37219                        172.837733\n16767                        169.689457\n11015                        165.800124\n47670                        163.576571\n57077                        148.967029\nK Fold: 37\nTRAIN: [    0     1     3 ... 66709 66711 66712] TEST: [    2    13    18 ... 66710 66713 66714]\nLog mean error train: 2.82397853364031\nLog mean error test: 2.9923270489424363\n            CO2_working_capacity [mL/g]\nUnnamed: 0                             \n28723                        243.450152\n56079                        229.888514\n2778                         211.382563\n27842                        189.232468\n9703                         189.004463\n5348                         174.694539\n46261                        174.016281\n11241                        168.053085\n8447                         164.641691\n48924                        163.383713\nK Fold: 38\nTRAIN: [    0     1     2 ... 66712 66713 66714] TEST: [    8     9    12 ... 66698 66706 66707]\nLog mean error train: 2.825227521924854\nLog mean error test: 2.9805412273673615\n            CO2_working_capacity [mL/g]\nUnnamed: 0                             \n45490                        194.169727\n10055                        173.985817\n54164                        169.058845\n22322                        167.900739\n47659                        167.088170\n18567                        162.983763\n23055                        160.198328\n35429                        154.574748\n46096                        153.233042\n32591                        151.528021\nK Fold: 39\nTRAIN: [    0     2     3 ... 66710 66713 66714] TEST: [    1     7    14 ... 66708 66711 66712]\nLog mean error train: 2.8262896384143152\nLog mean error test: 2.9832408197509217\n            CO2_working_capacity [mL/g]\nUnnamed: 0                             \n13905                        192.282811\n59446                        172.639236\n59302                        169.163895\n19039                        169.048068\n34295                        168.689564\n11835                        167.962219\n36291                        165.791733\n49844                        161.243879\n17031                        152.908305\n21424                        151.751190\nK Fold: 40\nTRAIN: [    0     1     2 ... 66712 66713 66714] TEST: [    3     6    10 ... 66694 66702 66704]\nLog mean error train: 2.82991113035618\nLog mean error test: 2.975913804929469\n            CO2_working_capacity [mL/g]\nUnnamed: 0                             \n47409                        194.380378\n19232                        192.237335\n56936                        191.683516\n53958                        185.777962\n23851                        179.830195\n58858                        178.621843\n44990                        169.472965\n32898                        167.922355\n30221                        157.049400\n55158                        153.245425\nK Fold: 41\nTRAIN: [    0     3     4 ... 66711 66713 66714] TEST: [    1     2     8 ... 66705 66709 66712]\nLog mean error train: 2.8248267320950804\nLog mean error test: 2.9964505208012446\n            CO2_working_capacity [mL/g]\nUnnamed: 0                             \n28723                        245.628812\n2778                         237.464725\n56079                        228.977656\n47904                        218.843962\n27842                        182.117400\n11241                        180.395505\n47659                        174.301968\n1397                         168.737765\n16576                        167.685016\n24633                        166.487682\nK Fold: 42\nTRAIN: [    0     1     2 ... 66712 66713 66714] TEST: [    5     7    19 ... 66706 66707 66711]\nLog mean error train: 2.8291825804364743\nLog mean error test: 2.975735145966217\n            CO2_working_capacity [mL/g]\nUnnamed: 0                             \n53863                        228.901215\n30350                        202.225894\n37219                        189.949197\n59446                        173.930152\n16767                        167.833439\n59302                        165.833898\n5348                         162.101340\n46261                        160.022343\n23311                        148.160850\n33589                        143.372864\nK Fold: 43\nTRAIN: [    0     1     2 ... 66711 66712 66713] TEST: [    3     4     6 ... 66699 66700 66714]\nLog mean error train: 2.826415066625598\nLog mean error test: 2.990076663376218\n            CO2_working_capacity [mL/g]\nUnnamed: 0                             \n17031                        205.959868\n47670                        183.120154\n11015                        171.473925\n34295                        168.601508\n14403                        167.591080\n58858                        165.120960\n31221                        164.656766\n19232                        162.038597\n54164                        160.376879\n22322                        152.226180\nK Fold: 44\nTRAIN: [    1     2     3 ... 66711 66712 66714] TEST: [    0    13    21 ... 66704 66710 66713]\nLog mean error train: 2.823654905186036\nLog mean error test: 2.988813561991289\n            CO2_working_capacity [mL/g]\nUnnamed: 0                             \n13905                        202.876063\n10055                        189.963826\n45490                        188.837412\n24424                        179.117595\n26786                        177.953949\n35429                        168.274426\n18567                        166.732580\n11835                        163.420566\n55868                        162.509974\n52675                        160.907637\nK Fold: 45\nTRAIN: [    0     1     2 ... 66712 66713 66714] TEST: [    9    11    12 ... 66691 66702 66708]\nLog mean error train: 2.8315798111167974\nLog mean error test: 2.973406347435869\n            CO2_working_capacity [mL/g]\nUnnamed: 0                             \n47409                        197.904217\n19039                        167.852448\n8875                         160.716872\n48924                        158.036088\n21364                        156.995975\n18075                        156.074619\n21379                        153.756018\n692                          148.038131\n33640                        147.560004\n32091                        143.935097\nK Fold: 46\nTRAIN: [    2     3     4 ... 66712 66713 66714] TEST: [    0     1    11 ... 66686 66689 66690]\nLog mean error train: 2.8226067422291217\nLog mean error test: 2.980250731333398\n            CO2_working_capacity [mL/g]\nUnnamed: 0                             \n56079                        230.028146\n2778                         212.696423\n16767                        179.603094\n11835                        172.933087\n46261                        150.598536\n11872                        150.584613\n19232                        149.089961\n22322                        147.091581\n8447                         146.346834\n1397                         144.615152\nK Fold: 47\nTRAIN: [    0     1     2 ... 66708 66711 66713] TEST: [    5     6    15 ... 66710 66712 66714]\nLog mean error train: 2.8276063058860235\nLog mean error test: 2.9752182646133325\n            CO2_working_capacity [mL/g]\nUnnamed: 0                             \n47904                        238.677599\n56936                        181.979442\n13905                        177.804331\n49844                        170.966784\n26786                        169.891586\n31221                        169.644146\n54164                        162.449653\n692                          153.780042\n32591                        152.948921\n4442                         150.827226\nK Fold: 48\nTRAIN: [    0     1     2 ... 66712 66713 66714] TEST: [   17    24    28 ... 66703 66708 66711]\nLog mean error train: 2.823814187729428\nLog mean error test: 2.9968134551307264\n            CO2_working_capacity [mL/g]\nUnnamed: 0                             \n28723                        240.230298\n47409                        195.023798\n24424                        180.810845\n55868                        167.827885\n16576                        167.817352\n11015                        165.489416\n44212                        164.114566\n11241                        163.629146\n48924                        160.177982\n13541                        159.860380\nK Fold: 49\nTRAIN: [    0     1     2 ... 66712 66713 66714] TEST: [    9    10    20 ... 66705 66706 66707]\nLog mean error train: 2.8270000029493856\nLog mean error test: 2.9777051216487913\n            CO2_working_capacity [mL/g]\nUnnamed: 0                             \n53863                        211.004712\n30350                        197.777888\n9703                         182.813941\n59302                        176.723776\n58858                        170.781604\n21364                        166.310233\n36291                        154.194172\n34295                        153.593714\n46979                        152.641227\n6634                         150.778596\nK Fold: 50\nTRAIN: [    0     1     5 ... 66711 66712 66714] TEST: [    2     3     4 ... 66698 66700 66713]\nLog mean error train: 2.824201956164798\nLog mean error test: 2.9908645898957795\n            CO2_working_capacity [mL/g]\nUnnamed: 0                             \n45490                        210.092477\n17031                        187.697906\n27842                        174.851332\n47659                        171.995381\n19039                        169.873350\n14403                        168.621586\n5348                         165.835391\n53958                        161.886387\n36831                        150.840455\n32898                        149.298102\n",
     "output_type": "stream"
    }
   ],
   "execution_count": null
  },
  {
   "cell_type": "code",
   "metadata": {
    "tags": [],
    "cell_id": "00015-05280a26-9ea5-45c1-b2b5-b666d03e3de5",
    "deepnote_to_be_reexecuted": false,
    "source_hash": "89e759e0",
    "execution_start": 1632454723794,
    "execution_millis": 10,
    "deepnote_cell_type": "code"
   },
   "source": "\"\"\"\nfuncgroup2num = {c: i for i, c in enumerate(train['functional_groups'].unique())}\ntopology2num = {c: i for i, c in enumerate(train['topology'].unique())}\nspacegroup2num = {c: i for i, c in enumerate(train['_space_group_crystal_system'].unique())}\n\ntrain['label_funcgroup'] = train['functional_groups'].map(funcgroup2num)\ntrain['label_topology'] = train['topology'].map(topology2num)\ntrain['label_spacegroup'] = train['_space_group_crystal_system'].map(spacegroup2num)\n\"\"\"",
   "outputs": [
    {
     "output_type": "execute_result",
     "execution_count": 13,
     "data": {
      "text/plain": "\"\\nfuncgroup2num = {c: i for i, c in enumerate(train['functional_groups'].unique())}\\ntopology2num = {c: i for i, c in enumerate(train['topology'].unique())}\\nspacegroup2num = {c: i for i, c in enumerate(train['_space_group_crystal_system'].unique())}\\n\\ntrain['label_funcgroup'] = train['functional_groups'].map(funcgroup2num)\\ntrain['label_topology'] = train['topology'].map(topology2num)\\ntrain['label_spacegroup'] = train['_space_group_crystal_system'].map(spacegroup2num)\\n\""
     },
     "metadata": {}
    }
   ],
   "execution_count": null
  },
  {
   "cell_type": "code",
   "metadata": {
    "tags": [],
    "cell_id": "00015-68f3c6ee-1674-47b9-b357-8c3655ced168",
    "deepnote_to_be_reexecuted": false,
    "source_hash": "6f67b56c",
    "execution_start": 1632454723801,
    "execution_millis": 15,
    "deepnote_cell_type": "code"
   },
   "source": "np.mean([score['log_mean_error_test'] for score in fit_results['voting']])",
   "outputs": [
    {
     "output_type": "execute_result",
     "execution_count": 14,
     "data": {
      "text/plain": "2.9844776476974983"
     },
     "metadata": {}
    }
   ],
   "execution_count": null
  },
  {
   "cell_type": "code",
   "metadata": {
    "tags": [],
    "cell_id": "00018-f9d218e8-119e-410a-9837-b6a7182fdc74",
    "deepnote_to_be_reexecuted": false,
    "source_hash": "54cec781",
    "execution_start": 1632454723810,
    "execution_millis": 8,
    "deepnote_cell_type": "code"
   },
   "source": "np.std([score['log_mean_error_test'] for score in fit_results['voting']])",
   "outputs": [
    {
     "output_type": "execute_result",
     "execution_count": 15,
     "data": {
      "text/plain": "0.008564641532892311"
     },
     "metadata": {}
    }
   ],
   "execution_count": null
  },
  {
   "cell_type": "code",
   "metadata": {
    "tags": [],
    "cell_id": "00016-3e248ace-e4be-4535-aab6-21d0c8ad65ed",
    "deepnote_to_be_reexecuted": false,
    "source_hash": "fc853f7e",
    "execution_start": 1632454723846,
    "execution_millis": 0,
    "deepnote_cell_type": "code"
   },
   "source": "test_pred = pd.DataFrame(test_pred, index= y_test.index, columns=y_test.columns)\nerror_sort = np.abs(y_test - test_pred).sort_values(TARGET, ascending=False)",
   "outputs": [],
   "execution_count": null
  },
  {
   "cell_type": "code",
   "metadata": {
    "tags": [],
    "cell_id": "00017-27750954-1dd3-429d-9b8c-6c411ded9fff",
    "deepnote_to_be_reexecuted": false,
    "source_hash": "b623e53d",
    "execution_start": 1632454723846,
    "execution_millis": 1,
    "deepnote_cell_type": "code"
   },
   "source": "",
   "outputs": [],
   "execution_count": null
  },
  {
   "cell_type": "code",
   "metadata": {
    "tags": [],
    "cell_id": "00017-ca7519a9-c091-49ab-b367-973e8cfa064c",
    "deepnote_to_be_reexecuted": false,
    "source_hash": "94998eda",
    "execution_start": 1632454723847,
    "execution_millis": 9,
    "deepnote_cell_type": "code"
   },
   "source": "Train.loc[error_sort.index].head(500).mean()",
   "outputs": [
    {
     "output_type": "execute_result",
     "execution_count": 17,
     "data": {
      "text/plain": "volume [A^3]                                     2.294609e+03\nweight [u]                                       1.470077e+03\nsurface_area [m^2/g]                             7.099383e+02\nvoid_fraction                                    1.522479e-01\nvoid_volume [cm^3/g]                             1.543830e-01\nmetal_linker                                     5.026000e+00\norganic_linker1                                  1.056200e+01\norganic_linker2                                  1.901200e+01\nCO2/N2_selectivity                               4.951897e+01\nheat_adsorption_CO2_P0.15bar_T298K [kcal/mol]    7.351905e+00\n_symmetry_Int_Tables_number                      1.000000e+00\n_cell_length_a                                   1.446708e+01\n_cell_length_b                                   1.187437e+01\n_cell_length_c                                   1.505692e+01\n_cell_angle_alpha                                9.150984e+01\n_cell_angle_beta                                 9.192422e+01\n_cell_angle_gamma                                9.221309e+01\n_cell_volume                                     2.294609e+03\npartial_charge_mean                              1.447790e-09\npartial_charge_median                            4.458518e-02\npartial_charge_std                               4.037391e-01\nbond_type_countS                                 8.981600e+01\nbond_type_countA                                 5.888000e+01\nbond_type_countD                                 3.478000e+00\nbond_type_countT                                 1.152000e+00\nbond_type_countAm                                8.000000e-03\nCO2_working_capacity [mL/g]                      2.541876e+02\ndtype: float64"
     },
     "metadata": {}
    }
   ],
   "execution_count": null
  },
  {
   "cell_type": "code",
   "metadata": {
    "tags": [],
    "cell_id": "00018-f0c77eb6-8daf-4b18-92e4-37f56cb67b44",
    "deepnote_to_be_reexecuted": false,
    "source_hash": "373521d2",
    "execution_start": 1632454723890,
    "execution_millis": 1,
    "deepnote_cell_type": "code"
   },
   "source": "error_train = Train.loc[error_sort.index]\nTrain[\"LMAE\"] = error_sort.iloc[:, 0]\nTrain[\"prediction\"] = test_pred.iloc[:, 0]",
   "outputs": [],
   "execution_count": null
  },
  {
   "cell_type": "code",
   "metadata": {
    "tags": [],
    "cell_id": "00020-d880efde-77b6-4c28-a2db-30642b07dffe",
    "deepnote_to_be_reexecuted": false,
    "source_hash": "d5dc3a80",
    "execution_start": 1632454723891,
    "execution_millis": 461,
    "deepnote_cell_type": "code"
   },
   "source": "Train.loc[error_sort.index].to_csv(\"error_train.csv\")",
   "outputs": [],
   "execution_count": null
  },
  {
   "cell_type": "code",
   "metadata": {
    "tags": [],
    "cell_id": "00018-86e4a8f6-8ebc-494c-8898-c016b5bf6704",
    "deepnote_to_be_reexecuted": false,
    "source_hash": "acbdf18d",
    "execution_start": 1632454724355,
    "execution_millis": 40,
    "deepnote_cell_type": "code"
   },
   "source": "Train.loc[error_sort.index].tail(500).mean()",
   "outputs": [
    {
     "output_type": "execute_result",
     "execution_count": 20,
     "data": {
      "text/plain": "volume [A^3]                                     6.262009e+03\nweight [u]                                       1.989694e+03\nsurface_area [m^2/g]                             2.776634e+03\nvoid_fraction                                    4.034569e-01\nvoid_volume [cm^3/g]                             8.045564e-01\nmetal_linker                                     3.502000e+00\norganic_linker1                                  1.102400e+01\norganic_linker2                                  2.038400e+01\nCO2/N2_selectivity                               1.699629e+01\nheat_adsorption_CO2_P0.15bar_T298K [kcal/mol]    4.920585e+00\n_symmetry_Int_Tables_number                      1.000000e+00\n_cell_length_a                                   1.708530e+01\n_cell_length_b                                   1.667149e+01\n_cell_length_c                                   1.855528e+01\n_cell_angle_alpha                                9.264591e+01\n_cell_angle_beta                                 9.565678e+01\n_cell_angle_gamma                                9.229245e+01\n_cell_volume                                     6.262009e+03\npartial_charge_mean                             -1.653423e-09\npartial_charge_median                            2.927875e-02\npartial_charge_std                               4.131841e-01\nbond_type_countS                                 1.138260e+02\nbond_type_countA                                 6.663800e+01\nbond_type_countD                                 4.250000e+00\nbond_type_countT                                 3.078000e+00\nbond_type_countAm                                1.360000e-01\nCO2_working_capacity [mL/g]                      6.767136e+01\nLMAE                                             3.253911e-01\nprediction                                       6.768209e+01\ndtype: float64"
     },
     "metadata": {}
    }
   ],
   "execution_count": null
  },
  {
   "cell_type": "code",
   "metadata": {
    "tags": [],
    "cell_id": "00018-03d4a2d2-fcc8-49fc-93f0-5f422054c830",
    "deepnote_to_be_reexecuted": false,
    "source_hash": "fe6523d9",
    "execution_start": 1632454724379,
    "execution_millis": 1,
    "deepnote_cell_type": "code"
   },
   "source": "# train_prediction = .predict(X)",
   "outputs": [],
   "execution_count": null
  },
  {
   "cell_type": "code",
   "metadata": {
    "tags": [],
    "cell_id": "00019-102e9c2c-1e6f-4a20-b317-2f378725321b",
    "deepnote_to_be_reexecuted": false,
    "source_hash": "b0c387f5",
    "execution_start": 1632454724384,
    "execution_millis": 2,
    "deepnote_cell_type": "code"
   },
   "source": "# np.log(mean_absolute_error(train_prediction, y))",
   "outputs": [],
   "execution_count": null
  },
  {
   "cell_type": "code",
   "metadata": {
    "tags": [],
    "cell_id": "00020-46248fb0-5be0-4a8f-90f6-e19c42aaa24a",
    "deepnote_to_be_reexecuted": false,
    "source_hash": "fe1547a",
    "execution_start": 1632454724387,
    "execution_millis": 2,
    "deepnote_cell_type": "code"
   },
   "source": "# feature_importances = pd.DataFrame(catboost.feature_importances_)\n# feature_importances.index = Train.drop(TARGET, axis=1).columns",
   "outputs": [],
   "execution_count": null
  },
  {
   "cell_type": "code",
   "metadata": {
    "tags": [],
    "cell_id": "00021-e6be6076-f4c7-465c-b3ea-791be79b1cac",
    "deepnote_to_be_reexecuted": false,
    "source_hash": "1898d942",
    "execution_start": 1632454724408,
    "execution_millis": 1,
    "deepnote_cell_type": "code"
   },
   "source": "# feature_importances.sort_values(by=0, ascending=False)",
   "outputs": [],
   "execution_count": null
  },
  {
   "cell_type": "code",
   "metadata": {
    "tags": [],
    "cell_id": "00022-ef968977-69b3-462b-8aa9-835e9a9a276b",
    "deepnote_to_be_reexecuted": false,
    "source_hash": "ee960895",
    "execution_start": 1632454724409,
    "execution_millis": 0,
    "deepnote_cell_type": "code"
   },
   "source": "# feature_importances[0].nlargest(20).plot(kind='barh')",
   "outputs": [],
   "execution_count": null
  },
  {
   "cell_type": "code",
   "metadata": {
    "tags": [],
    "cell_id": "00025-81c7491f-d77b-4c44-91a3-90e76217a3a7",
    "deepnote_to_be_reexecuted": false,
    "source_hash": "ac13f7e0",
    "execution_start": 1632454724410,
    "execution_millis": 0,
    "deepnote_cell_type": "code"
   },
   "source": "# feature_importances[0].nlargest(20).index",
   "outputs": [],
   "execution_count": null
  },
  {
   "cell_type": "code",
   "metadata": {
    "tags": [],
    "cell_id": "00027-3bfce106-d2db-430c-8d12-5038698640a6",
    "deepnote_to_be_reexecuted": false,
    "source_hash": "b623e53d",
    "execution_start": 1632454724410,
    "execution_millis": 1,
    "deepnote_cell_type": "code"
   },
   "source": "",
   "outputs": [],
   "execution_count": null
  },
  {
   "cell_type": "code",
   "metadata": {
    "tags": [],
    "cell_id": "00022-e23ef112-b966-43a3-a681-81e44cae9b9e",
    "deepnote_to_be_reexecuted": false,
    "source_hash": "fde06972",
    "execution_start": 1632454724417,
    "execution_millis": 888,
    "deepnote_cell_type": "code"
   },
   "source": "sub = np.mean(\n    [model['model'].predict(test.X) for model in fit_results['voting']],\n    axis=0\n)",
   "outputs": [],
   "execution_count": null
  },
  {
   "cell_type": "code",
   "metadata": {
    "tags": [],
    "cell_id": "00023-139a058b-9793-400b-8793-9c68c8e3ea1b",
    "deepnote_to_be_reexecuted": false,
    "source_hash": "edbc753e",
    "execution_start": 1632454725306,
    "execution_millis": 2,
    "deepnote_cell_type": "code"
   },
   "source": "sub = pd.DataFrame(sub)",
   "outputs": [],
   "execution_count": null
  },
  {
   "cell_type": "code",
   "metadata": {
    "tags": [],
    "cell_id": "00024-9fdde596-bad8-407e-865e-cebca0e713fe",
    "deepnote_to_be_reexecuted": false,
    "source_hash": "b867ab08",
    "execution_start": 1632454725353,
    "execution_millis": 0,
    "deepnote_cell_type": "code"
   },
   "source": "# Pretest = pd.read_csv(f\"{PREPROCESSING_PATH}/pretest_merged_CIF/Pretest.csv\")\n# Pretest = Pretest.set_index(Pretest.columns[0])\nsub.index = \"pretest_\" + pd.Index(range(1, sub.shape[0] + 1)).astype(str)\nsub.index = sub.index.set_names('id')\nsub.columns = ['CO2_working_capacity [mL/g]']",
   "outputs": [],
   "execution_count": null
  },
  {
   "cell_type": "code",
   "metadata": {
    "tags": [],
    "cell_id": "00025-c09ea7b6-5421-4662-84c2-fbb7b65bac0c",
    "deepnote_to_be_reexecuted": false,
    "source_hash": "d977bc2a",
    "execution_start": 1632454725354,
    "execution_millis": 118,
    "deepnote_cell_type": "code"
   },
   "source": "sub",
   "outputs": [
    {
     "output_type": "execute_result",
     "execution_count": 30,
     "data": {
      "application/vnd.deepnote.dataframe.v2+json": {
       "row_count": 2000,
       "column_count": 1,
       "columns": [
        {
         "name": "CO2_working_capacity [mL/g]",
         "dtype": "float64",
         "stats": {
          "unique_count": 2000,
          "nan_count": 0,
          "min": "-14.451569476243124",
          "max": "526.2258091949844",
          "histogram": [
           {
            "bin_start": -14.451569476243124,
            "bin_end": 39.61616839087963,
            "count": 493
           },
           {
            "bin_start": 39.61616839087963,
            "bin_end": 93.68390625800238,
            "count": 601
           },
           {
            "bin_start": 93.68390625800238,
            "bin_end": 147.75164412512513,
            "count": 416
           },
           {
            "bin_start": 147.75164412512513,
            "bin_end": 201.81938199224788,
            "count": 221
           },
           {
            "bin_start": 201.81938199224788,
            "bin_end": 255.88711985937064,
            "count": 140
           },
           {
            "bin_start": 255.88711985937064,
            "bin_end": 309.95485772649334,
            "count": 73
           },
           {
            "bin_start": 309.95485772649334,
            "bin_end": 364.02259559361613,
            "count": 24
           },
           {
            "bin_start": 364.02259559361613,
            "bin_end": 418.09033346073886,
            "count": 19
           },
           {
            "bin_start": 418.09033346073886,
            "bin_end": 472.1580713278616,
            "count": 8
           },
           {
            "bin_start": 472.1580713278616,
            "bin_end": 526.2258091949844,
            "count": 5
           }
          ]
         }
        },
        {
         "name": "_deepnote_index_column",
         "dtype": "object"
        }
       ],
       "rows_top": [
        {
         "CO2_working_capacity [mL/g]": 99.99843759561927,
         "_deepnote_index_column": "pretest_1"
        },
        {
         "CO2_working_capacity [mL/g]": 124.13833353018825,
         "_deepnote_index_column": "pretest_2"
        },
        {
         "CO2_working_capacity [mL/g]": 191.22667797064787,
         "_deepnote_index_column": "pretest_3"
        },
        {
         "CO2_working_capacity [mL/g]": 64.74444444478087,
         "_deepnote_index_column": "pretest_4"
        },
        {
         "CO2_working_capacity [mL/g]": 93.37560246482619,
         "_deepnote_index_column": "pretest_5"
        },
        {
         "CO2_working_capacity [mL/g]": 372.7496397843916,
         "_deepnote_index_column": "pretest_6"
        },
        {
         "CO2_working_capacity [mL/g]": 114.3577380497923,
         "_deepnote_index_column": "pretest_7"
        },
        {
         "CO2_working_capacity [mL/g]": 82.8335801922114,
         "_deepnote_index_column": "pretest_8"
        },
        {
         "CO2_working_capacity [mL/g]": 80.9904515049911,
         "_deepnote_index_column": "pretest_9"
        },
        {
         "CO2_working_capacity [mL/g]": 504.41495960766866,
         "_deepnote_index_column": "pretest_10"
        },
        {
         "CO2_working_capacity [mL/g]": 211.54671535716213,
         "_deepnote_index_column": "pretest_11"
        },
        {
         "CO2_working_capacity [mL/g]": 212.72475924320722,
         "_deepnote_index_column": "pretest_12"
        },
        {
         "CO2_working_capacity [mL/g]": 84.81295002289419,
         "_deepnote_index_column": "pretest_13"
        },
        {
         "CO2_working_capacity [mL/g]": 260.77551889294426,
         "_deepnote_index_column": "pretest_14"
        },
        {
         "CO2_working_capacity [mL/g]": 246.1117026645633,
         "_deepnote_index_column": "pretest_15"
        },
        {
         "CO2_working_capacity [mL/g]": 77.24307294102088,
         "_deepnote_index_column": "pretest_16"
        },
        {
         "CO2_working_capacity [mL/g]": 60.61105466214132,
         "_deepnote_index_column": "pretest_17"
        },
        {
         "CO2_working_capacity [mL/g]": 64.81852918387533,
         "_deepnote_index_column": "pretest_18"
        },
        {
         "CO2_working_capacity [mL/g]": 73.13053997029846,
         "_deepnote_index_column": "pretest_19"
        },
        {
         "CO2_working_capacity [mL/g]": 162.3513093037551,
         "_deepnote_index_column": "pretest_20"
        },
        {
         "CO2_working_capacity [mL/g]": 51.64477161209914,
         "_deepnote_index_column": "pretest_21"
        },
        {
         "CO2_working_capacity [mL/g]": 196.9291968713934,
         "_deepnote_index_column": "pretest_22"
        },
        {
         "CO2_working_capacity [mL/g]": 162.19398214338952,
         "_deepnote_index_column": "pretest_23"
        },
        {
         "CO2_working_capacity [mL/g]": 125.2894261099228,
         "_deepnote_index_column": "pretest_24"
        },
        {
         "CO2_working_capacity [mL/g]": 166.14464951317677,
         "_deepnote_index_column": "pretest_25"
        },
        {
         "CO2_working_capacity [mL/g]": 207.47762339062993,
         "_deepnote_index_column": "pretest_26"
        },
        {
         "CO2_working_capacity [mL/g]": 78.17532235185945,
         "_deepnote_index_column": "pretest_27"
        },
        {
         "CO2_working_capacity [mL/g]": 104.42953040838204,
         "_deepnote_index_column": "pretest_28"
        },
        {
         "CO2_working_capacity [mL/g]": 62.378212804508195,
         "_deepnote_index_column": "pretest_29"
        },
        {
         "CO2_working_capacity [mL/g]": 141.20645388002436,
         "_deepnote_index_column": "pretest_30"
        },
        {
         "CO2_working_capacity [mL/g]": 168.6915202424404,
         "_deepnote_index_column": "pretest_31"
        },
        {
         "CO2_working_capacity [mL/g]": 67.59671565752328,
         "_deepnote_index_column": "pretest_32"
        },
        {
         "CO2_working_capacity [mL/g]": 106.36501578081544,
         "_deepnote_index_column": "pretest_33"
        },
        {
         "CO2_working_capacity [mL/g]": 68.67675851319873,
         "_deepnote_index_column": "pretest_34"
        },
        {
         "CO2_working_capacity [mL/g]": 107.71413482546221,
         "_deepnote_index_column": "pretest_35"
        },
        {
         "CO2_working_capacity [mL/g]": 89.57648976556575,
         "_deepnote_index_column": "pretest_36"
        },
        {
         "CO2_working_capacity [mL/g]": 81.12117167019805,
         "_deepnote_index_column": "pretest_37"
        },
        {
         "CO2_working_capacity [mL/g]": 68.96701992829716,
         "_deepnote_index_column": "pretest_38"
        },
        {
         "CO2_working_capacity [mL/g]": 107.85033100131608,
         "_deepnote_index_column": "pretest_39"
        },
        {
         "CO2_working_capacity [mL/g]": 121.47324405595629,
         "_deepnote_index_column": "pretest_40"
        },
        {
         "CO2_working_capacity [mL/g]": 94.12257667170473,
         "_deepnote_index_column": "pretest_41"
        },
        {
         "CO2_working_capacity [mL/g]": 266.13125981209794,
         "_deepnote_index_column": "pretest_42"
        },
        {
         "CO2_working_capacity [mL/g]": 80.14343232776798,
         "_deepnote_index_column": "pretest_43"
        },
        {
         "CO2_working_capacity [mL/g]": 195.47005267524492,
         "_deepnote_index_column": "pretest_44"
        },
        {
         "CO2_working_capacity [mL/g]": 155.04780841737812,
         "_deepnote_index_column": "pretest_45"
        },
        {
         "CO2_working_capacity [mL/g]": 122.25007127284594,
         "_deepnote_index_column": "pretest_46"
        },
        {
         "CO2_working_capacity [mL/g]": 81.63521263579582,
         "_deepnote_index_column": "pretest_47"
        },
        {
         "CO2_working_capacity [mL/g]": 152.42826825841138,
         "_deepnote_index_column": "pretest_48"
        },
        {
         "CO2_working_capacity [mL/g]": 169.0128575065255,
         "_deepnote_index_column": "pretest_49"
        },
        {
         "CO2_working_capacity [mL/g]": 50.07670883836058,
         "_deepnote_index_column": "pretest_50"
        },
        {
         "CO2_working_capacity [mL/g]": 126.47887595863754,
         "_deepnote_index_column": "pretest_51"
        },
        {
         "CO2_working_capacity [mL/g]": 99.20142326373315,
         "_deepnote_index_column": "pretest_52"
        },
        {
         "CO2_working_capacity [mL/g]": 79.0341350984724,
         "_deepnote_index_column": "pretest_53"
        },
        {
         "CO2_working_capacity [mL/g]": 153.3772869478242,
         "_deepnote_index_column": "pretest_54"
        },
        {
         "CO2_working_capacity [mL/g]": 109.6900177858352,
         "_deepnote_index_column": "pretest_55"
        },
        {
         "CO2_working_capacity [mL/g]": 68.19084048306445,
         "_deepnote_index_column": "pretest_56"
        },
        {
         "CO2_working_capacity [mL/g]": 69.32024700051515,
         "_deepnote_index_column": "pretest_57"
        },
        {
         "CO2_working_capacity [mL/g]": 101.56962413757253,
         "_deepnote_index_column": "pretest_58"
        },
        {
         "CO2_working_capacity [mL/g]": 200.540565816114,
         "_deepnote_index_column": "pretest_59"
        },
        {
         "CO2_working_capacity [mL/g]": 94.66852704928844,
         "_deepnote_index_column": "pretest_60"
        },
        {
         "CO2_working_capacity [mL/g]": 281.571194201162,
         "_deepnote_index_column": "pretest_61"
        },
        {
         "CO2_working_capacity [mL/g]": 90.8640596783035,
         "_deepnote_index_column": "pretest_62"
        },
        {
         "CO2_working_capacity [mL/g]": 80.8854792287325,
         "_deepnote_index_column": "pretest_63"
        },
        {
         "CO2_working_capacity [mL/g]": 144.48823967009648,
         "_deepnote_index_column": "pretest_64"
        },
        {
         "CO2_working_capacity [mL/g]": 76.51084789414521,
         "_deepnote_index_column": "pretest_65"
        },
        {
         "CO2_working_capacity [mL/g]": 148.1599930478368,
         "_deepnote_index_column": "pretest_66"
        },
        {
         "CO2_working_capacity [mL/g]": 133.74964701506644,
         "_deepnote_index_column": "pretest_67"
        },
        {
         "CO2_working_capacity [mL/g]": 162.86154765399905,
         "_deepnote_index_column": "pretest_68"
        },
        {
         "CO2_working_capacity [mL/g]": 205.1017273515386,
         "_deepnote_index_column": "pretest_69"
        },
        {
         "CO2_working_capacity [mL/g]": 67.95323176764747,
         "_deepnote_index_column": "pretest_70"
        },
        {
         "CO2_working_capacity [mL/g]": 307.92672270642976,
         "_deepnote_index_column": "pretest_71"
        },
        {
         "CO2_working_capacity [mL/g]": 186.48513525865943,
         "_deepnote_index_column": "pretest_72"
        },
        {
         "CO2_working_capacity [mL/g]": 62.836164139323664,
         "_deepnote_index_column": "pretest_73"
        },
        {
         "CO2_working_capacity [mL/g]": 207.0106894359994,
         "_deepnote_index_column": "pretest_74"
        },
        {
         "CO2_working_capacity [mL/g]": 247.87762810625696,
         "_deepnote_index_column": "pretest_75"
        },
        {
         "CO2_working_capacity [mL/g]": 166.3190652181565,
         "_deepnote_index_column": "pretest_76"
        },
        {
         "CO2_working_capacity [mL/g]": 189.51473729295324,
         "_deepnote_index_column": "pretest_77"
        },
        {
         "CO2_working_capacity [mL/g]": 116.09981846308182,
         "_deepnote_index_column": "pretest_78"
        },
        {
         "CO2_working_capacity [mL/g]": 82.7757429922482,
         "_deepnote_index_column": "pretest_79"
        },
        {
         "CO2_working_capacity [mL/g]": 115.68273789337294,
         "_deepnote_index_column": "pretest_80"
        },
        {
         "CO2_working_capacity [mL/g]": 105.36344303613424,
         "_deepnote_index_column": "pretest_81"
        },
        {
         "CO2_working_capacity [mL/g]": 174.62338163692516,
         "_deepnote_index_column": "pretest_82"
        },
        {
         "CO2_working_capacity [mL/g]": 89.44844800405929,
         "_deepnote_index_column": "pretest_83"
        },
        {
         "CO2_working_capacity [mL/g]": 251.83257295917952,
         "_deepnote_index_column": "pretest_84"
        },
        {
         "CO2_working_capacity [mL/g]": 78.95680090982893,
         "_deepnote_index_column": "pretest_85"
        },
        {
         "CO2_working_capacity [mL/g]": 68.9273411516131,
         "_deepnote_index_column": "pretest_86"
        },
        {
         "CO2_working_capacity [mL/g]": 100.25036370355836,
         "_deepnote_index_column": "pretest_87"
        },
        {
         "CO2_working_capacity [mL/g]": 131.78721158478086,
         "_deepnote_index_column": "pretest_88"
        },
        {
         "CO2_working_capacity [mL/g]": 91.94397589167247,
         "_deepnote_index_column": "pretest_89"
        },
        {
         "CO2_working_capacity [mL/g]": 197.20533968374446,
         "_deepnote_index_column": "pretest_90"
        },
        {
         "CO2_working_capacity [mL/g]": 92.85355805341973,
         "_deepnote_index_column": "pretest_91"
        },
        {
         "CO2_working_capacity [mL/g]": 189.37882455314374,
         "_deepnote_index_column": "pretest_92"
        },
        {
         "CO2_working_capacity [mL/g]": 119.84930259123006,
         "_deepnote_index_column": "pretest_93"
        },
        {
         "CO2_working_capacity [mL/g]": 194.62020134320414,
         "_deepnote_index_column": "pretest_94"
        },
        {
         "CO2_working_capacity [mL/g]": 80.21788477649474,
         "_deepnote_index_column": "pretest_95"
        },
        {
         "CO2_working_capacity [mL/g]": 169.0629778557372,
         "_deepnote_index_column": "pretest_96"
        },
        {
         "CO2_working_capacity [mL/g]": 58.57435717694582,
         "_deepnote_index_column": "pretest_97"
        },
        {
         "CO2_working_capacity [mL/g]": 84.24042395725097,
         "_deepnote_index_column": "pretest_98"
        },
        {
         "CO2_working_capacity [mL/g]": 180.66780594584714,
         "_deepnote_index_column": "pretest_99"
        },
        {
         "CO2_working_capacity [mL/g]": 70.53012825072284,
         "_deepnote_index_column": "pretest_100"
        },
        {
         "CO2_working_capacity [mL/g]": 77.59174710432836,
         "_deepnote_index_column": "pretest_101"
        },
        {
         "CO2_working_capacity [mL/g]": 100.33358303814255,
         "_deepnote_index_column": "pretest_102"
        },
        {
         "CO2_working_capacity [mL/g]": 88.25235394777404,
         "_deepnote_index_column": "pretest_103"
        },
        {
         "CO2_working_capacity [mL/g]": 118.15686288048575,
         "_deepnote_index_column": "pretest_104"
        },
        {
         "CO2_working_capacity [mL/g]": 77.83223765335542,
         "_deepnote_index_column": "pretest_105"
        },
        {
         "CO2_working_capacity [mL/g]": 93.91333084199057,
         "_deepnote_index_column": "pretest_106"
        },
        {
         "CO2_working_capacity [mL/g]": 97.24801989639333,
         "_deepnote_index_column": "pretest_107"
        },
        {
         "CO2_working_capacity [mL/g]": 228.22296066384533,
         "_deepnote_index_column": "pretest_108"
        },
        {
         "CO2_working_capacity [mL/g]": 75.80628235780556,
         "_deepnote_index_column": "pretest_109"
        },
        {
         "CO2_working_capacity [mL/g]": 92.30146553791316,
         "_deepnote_index_column": "pretest_110"
        },
        {
         "CO2_working_capacity [mL/g]": 86.6117076539953,
         "_deepnote_index_column": "pretest_111"
        },
        {
         "CO2_working_capacity [mL/g]": 149.831332970574,
         "_deepnote_index_column": "pretest_112"
        },
        {
         "CO2_working_capacity [mL/g]": 229.95355532284603,
         "_deepnote_index_column": "pretest_113"
        },
        {
         "CO2_working_capacity [mL/g]": 76.86308022254637,
         "_deepnote_index_column": "pretest_114"
        },
        {
         "CO2_working_capacity [mL/g]": 101.88320936971951,
         "_deepnote_index_column": "pretest_115"
        },
        {
         "CO2_working_capacity [mL/g]": 76.48315265956484,
         "_deepnote_index_column": "pretest_116"
        },
        {
         "CO2_working_capacity [mL/g]": 115.93246964803281,
         "_deepnote_index_column": "pretest_117"
        },
        {
         "CO2_working_capacity [mL/g]": 106.57720138364739,
         "_deepnote_index_column": "pretest_118"
        },
        {
         "CO2_working_capacity [mL/g]": 253.75029194644605,
         "_deepnote_index_column": "pretest_119"
        },
        {
         "CO2_working_capacity [mL/g]": 107.74964135650633,
         "_deepnote_index_column": "pretest_120"
        },
        {
         "CO2_working_capacity [mL/g]": 68.01856332388984,
         "_deepnote_index_column": "pretest_121"
        },
        {
         "CO2_working_capacity [mL/g]": 124.81502297470007,
         "_deepnote_index_column": "pretest_122"
        },
        {
         "CO2_working_capacity [mL/g]": 113.60778096812763,
         "_deepnote_index_column": "pretest_123"
        },
        {
         "CO2_working_capacity [mL/g]": 108.91753008126351,
         "_deepnote_index_column": "pretest_124"
        },
        {
         "CO2_working_capacity [mL/g]": 180.27974532604458,
         "_deepnote_index_column": "pretest_125"
        },
        {
         "CO2_working_capacity [mL/g]": 49.56012409442738,
         "_deepnote_index_column": "pretest_126"
        },
        {
         "CO2_working_capacity [mL/g]": 128.41705454364293,
         "_deepnote_index_column": "pretest_127"
        },
        {
         "CO2_working_capacity [mL/g]": 169.64431755579244,
         "_deepnote_index_column": "pretest_128"
        },
        {
         "CO2_working_capacity [mL/g]": 70.08136785835453,
         "_deepnote_index_column": "pretest_129"
        },
        {
         "CO2_working_capacity [mL/g]": 144.18550960734441,
         "_deepnote_index_column": "pretest_130"
        },
        {
         "CO2_working_capacity [mL/g]": 186.97861017251694,
         "_deepnote_index_column": "pretest_131"
        },
        {
         "CO2_working_capacity [mL/g]": 66.098697566459,
         "_deepnote_index_column": "pretest_132"
        },
        {
         "CO2_working_capacity [mL/g]": 286.0071752866607,
         "_deepnote_index_column": "pretest_133"
        },
        {
         "CO2_working_capacity [mL/g]": 79.74019994263453,
         "_deepnote_index_column": "pretest_134"
        },
        {
         "CO2_working_capacity [mL/g]": 222.4675024081824,
         "_deepnote_index_column": "pretest_135"
        },
        {
         "CO2_working_capacity [mL/g]": 232.57445110206365,
         "_deepnote_index_column": "pretest_136"
        },
        {
         "CO2_working_capacity [mL/g]": 218.2397325805696,
         "_deepnote_index_column": "pretest_137"
        },
        {
         "CO2_working_capacity [mL/g]": 141.17250385406751,
         "_deepnote_index_column": "pretest_138"
        },
        {
         "CO2_working_capacity [mL/g]": 85.13334680948533,
         "_deepnote_index_column": "pretest_139"
        },
        {
         "CO2_working_capacity [mL/g]": 65.84802935461279,
         "_deepnote_index_column": "pretest_140"
        },
        {
         "CO2_working_capacity [mL/g]": 113.83955854321374,
         "_deepnote_index_column": "pretest_141"
        },
        {
         "CO2_working_capacity [mL/g]": 66.64244741898675,
         "_deepnote_index_column": "pretest_142"
        },
        {
         "CO2_working_capacity [mL/g]": 81.66477536571604,
         "_deepnote_index_column": "pretest_143"
        },
        {
         "CO2_working_capacity [mL/g]": 79.56056708831079,
         "_deepnote_index_column": "pretest_144"
        },
        {
         "CO2_working_capacity [mL/g]": 60.369129165948564,
         "_deepnote_index_column": "pretest_145"
        },
        {
         "CO2_working_capacity [mL/g]": 89.85984865800198,
         "_deepnote_index_column": "pretest_146"
        },
        {
         "CO2_working_capacity [mL/g]": 91.37730906966308,
         "_deepnote_index_column": "pretest_147"
        },
        {
         "CO2_working_capacity [mL/g]": 191.06984440179423,
         "_deepnote_index_column": "pretest_148"
        },
        {
         "CO2_working_capacity [mL/g]": 136.40196547150282,
         "_deepnote_index_column": "pretest_149"
        },
        {
         "CO2_working_capacity [mL/g]": 133.89900939890214,
         "_deepnote_index_column": "pretest_150"
        },
        {
         "CO2_working_capacity [mL/g]": 76.03997396809335,
         "_deepnote_index_column": "pretest_151"
        },
        {
         "CO2_working_capacity [mL/g]": 152.07214595605728,
         "_deepnote_index_column": "pretest_152"
        },
        {
         "CO2_working_capacity [mL/g]": 91.92523652734748,
         "_deepnote_index_column": "pretest_153"
        },
        {
         "CO2_working_capacity [mL/g]": 75.18309090766196,
         "_deepnote_index_column": "pretest_154"
        },
        {
         "CO2_working_capacity [mL/g]": 470.5114716783132,
         "_deepnote_index_column": "pretest_155"
        },
        {
         "CO2_working_capacity [mL/g]": 251.1693187950776,
         "_deepnote_index_column": "pretest_156"
        },
        {
         "CO2_working_capacity [mL/g]": 67.84633468251668,
         "_deepnote_index_column": "pretest_157"
        },
        {
         "CO2_working_capacity [mL/g]": 146.700152112645,
         "_deepnote_index_column": "pretest_158"
        },
        {
         "CO2_working_capacity [mL/g]": 105.89148727878654,
         "_deepnote_index_column": "pretest_159"
        },
        {
         "CO2_working_capacity [mL/g]": 207.97663687502006,
         "_deepnote_index_column": "pretest_160"
        },
        {
         "CO2_working_capacity [mL/g]": 148.55264282825055,
         "_deepnote_index_column": "pretest_161"
        },
        {
         "CO2_working_capacity [mL/g]": 97.93031841455212,
         "_deepnote_index_column": "pretest_162"
        },
        {
         "CO2_working_capacity [mL/g]": 98.18569881283624,
         "_deepnote_index_column": "pretest_163"
        },
        {
         "CO2_working_capacity [mL/g]": 106.76566759020027,
         "_deepnote_index_column": "pretest_164"
        },
        {
         "CO2_working_capacity [mL/g]": 113.70640208095529,
         "_deepnote_index_column": "pretest_165"
        },
        {
         "CO2_working_capacity [mL/g]": 259.84128962136236,
         "_deepnote_index_column": "pretest_166"
        },
        {
         "CO2_working_capacity [mL/g]": 344.26301887484993,
         "_deepnote_index_column": "pretest_167"
        },
        {
         "CO2_working_capacity [mL/g]": 240.82446548984174,
         "_deepnote_index_column": "pretest_168"
        },
        {
         "CO2_working_capacity [mL/g]": 80.08638040270465,
         "_deepnote_index_column": "pretest_169"
        },
        {
         "CO2_working_capacity [mL/g]": 264.9926171631606,
         "_deepnote_index_column": "pretest_170"
        },
        {
         "CO2_working_capacity [mL/g]": 197.26960789586073,
         "_deepnote_index_column": "pretest_171"
        },
        {
         "CO2_working_capacity [mL/g]": 108.13701293248552,
         "_deepnote_index_column": "pretest_172"
        },
        {
         "CO2_working_capacity [mL/g]": 82.25038136765343,
         "_deepnote_index_column": "pretest_173"
        },
        {
         "CO2_working_capacity [mL/g]": 129.1735842803554,
         "_deepnote_index_column": "pretest_174"
        },
        {
         "CO2_working_capacity [mL/g]": 189.57712242283574,
         "_deepnote_index_column": "pretest_175"
        },
        {
         "CO2_working_capacity [mL/g]": 120.19476179626318,
         "_deepnote_index_column": "pretest_176"
        },
        {
         "CO2_working_capacity [mL/g]": 81.58796364667947,
         "_deepnote_index_column": "pretest_177"
        },
        {
         "CO2_working_capacity [mL/g]": 61.30345682561547,
         "_deepnote_index_column": "pretest_178"
        },
        {
         "CO2_working_capacity [mL/g]": 155.91274509360056,
         "_deepnote_index_column": "pretest_179"
        },
        {
         "CO2_working_capacity [mL/g]": 84.26844647053116,
         "_deepnote_index_column": "pretest_180"
        },
        {
         "CO2_working_capacity [mL/g]": 75.89396276533171,
         "_deepnote_index_column": "pretest_181"
        },
        {
         "CO2_working_capacity [mL/g]": 61.87279144158656,
         "_deepnote_index_column": "pretest_182"
        },
        {
         "CO2_working_capacity [mL/g]": 107.83318067872966,
         "_deepnote_index_column": "pretest_183"
        },
        {
         "CO2_working_capacity [mL/g]": 143.59263061572682,
         "_deepnote_index_column": "pretest_184"
        },
        {
         "CO2_working_capacity [mL/g]": 92.69540779377229,
         "_deepnote_index_column": "pretest_185"
        },
        {
         "CO2_working_capacity [mL/g]": 81.60987133698393,
         "_deepnote_index_column": "pretest_186"
        },
        {
         "CO2_working_capacity [mL/g]": 86.8959406484709,
         "_deepnote_index_column": "pretest_187"
        },
        {
         "CO2_working_capacity [mL/g]": 67.77514045590887,
         "_deepnote_index_column": "pretest_188"
        },
        {
         "CO2_working_capacity [mL/g]": 114.126549463768,
         "_deepnote_index_column": "pretest_189"
        },
        {
         "CO2_working_capacity [mL/g]": 125.82166327342001,
         "_deepnote_index_column": "pretest_190"
        },
        {
         "CO2_working_capacity [mL/g]": 88.66064193501117,
         "_deepnote_index_column": "pretest_191"
        },
        {
         "CO2_working_capacity [mL/g]": 75.31323723005694,
         "_deepnote_index_column": "pretest_192"
        },
        {
         "CO2_working_capacity [mL/g]": 84.9410312468851,
         "_deepnote_index_column": "pretest_193"
        },
        {
         "CO2_working_capacity [mL/g]": 124.95177436290015,
         "_deepnote_index_column": "pretest_194"
        },
        {
         "CO2_working_capacity [mL/g]": 138.30057393805106,
         "_deepnote_index_column": "pretest_195"
        },
        {
         "CO2_working_capacity [mL/g]": 69.80516729785575,
         "_deepnote_index_column": "pretest_196"
        },
        {
         "CO2_working_capacity [mL/g]": 211.60521625720713,
         "_deepnote_index_column": "pretest_197"
        },
        {
         "CO2_working_capacity [mL/g]": 46.33523339715748,
         "_deepnote_index_column": "pretest_198"
        },
        {
         "CO2_working_capacity [mL/g]": 59.87588785765986,
         "_deepnote_index_column": "pretest_199"
        },
        {
         "CO2_working_capacity [mL/g]": 114.47909742851495,
         "_deepnote_index_column": "pretest_200"
        },
        {
         "CO2_working_capacity [mL/g]": 121.48200292236555,
         "_deepnote_index_column": "pretest_201"
        },
        {
         "CO2_working_capacity [mL/g]": 142.33130677774676,
         "_deepnote_index_column": "pretest_202"
        },
        {
         "CO2_working_capacity [mL/g]": 38.94051776820185,
         "_deepnote_index_column": "pretest_203"
        },
        {
         "CO2_working_capacity [mL/g]": 70.68926842636198,
         "_deepnote_index_column": "pretest_204"
        },
        {
         "CO2_working_capacity [mL/g]": 121.27482883085176,
         "_deepnote_index_column": "pretest_205"
        },
        {
         "CO2_working_capacity [mL/g]": 99.7430718361923,
         "_deepnote_index_column": "pretest_206"
        },
        {
         "CO2_working_capacity [mL/g]": 62.070237223091254,
         "_deepnote_index_column": "pretest_207"
        },
        {
         "CO2_working_capacity [mL/g]": 176.26029444437546,
         "_deepnote_index_column": "pretest_208"
        },
        {
         "CO2_working_capacity [mL/g]": 72.71354994652557,
         "_deepnote_index_column": "pretest_209"
        },
        {
         "CO2_working_capacity [mL/g]": 169.03797224556192,
         "_deepnote_index_column": "pretest_210"
        },
        {
         "CO2_working_capacity [mL/g]": 64.9314455824314,
         "_deepnote_index_column": "pretest_211"
        },
        {
         "CO2_working_capacity [mL/g]": 129.5930805358813,
         "_deepnote_index_column": "pretest_212"
        },
        {
         "CO2_working_capacity [mL/g]": 187.41991079663978,
         "_deepnote_index_column": "pretest_213"
        },
        {
         "CO2_working_capacity [mL/g]": 130.6894384811584,
         "_deepnote_index_column": "pretest_214"
        },
        {
         "CO2_working_capacity [mL/g]": 87.23056765010055,
         "_deepnote_index_column": "pretest_215"
        },
        {
         "CO2_working_capacity [mL/g]": 111.90185196082074,
         "_deepnote_index_column": "pretest_216"
        },
        {
         "CO2_working_capacity [mL/g]": 90.16654083867253,
         "_deepnote_index_column": "pretest_217"
        },
        {
         "CO2_working_capacity [mL/g]": 98.60861050777208,
         "_deepnote_index_column": "pretest_218"
        },
        {
         "CO2_working_capacity [mL/g]": 153.09962214387934,
         "_deepnote_index_column": "pretest_219"
        },
        {
         "CO2_working_capacity [mL/g]": 67.70772946734664,
         "_deepnote_index_column": "pretest_220"
        },
        {
         "CO2_working_capacity [mL/g]": 88.91837455958051,
         "_deepnote_index_column": "pretest_221"
        },
        {
         "CO2_working_capacity [mL/g]": 207.56930754759435,
         "_deepnote_index_column": "pretest_222"
        },
        {
         "CO2_working_capacity [mL/g]": 100.16751723959833,
         "_deepnote_index_column": "pretest_223"
        },
        {
         "CO2_working_capacity [mL/g]": 102.53109154752842,
         "_deepnote_index_column": "pretest_224"
        },
        {
         "CO2_working_capacity [mL/g]": 77.81942473346311,
         "_deepnote_index_column": "pretest_225"
        },
        {
         "CO2_working_capacity [mL/g]": 129.675533156402,
         "_deepnote_index_column": "pretest_226"
        },
        {
         "CO2_working_capacity [mL/g]": 103.83248759377763,
         "_deepnote_index_column": "pretest_227"
        },
        {
         "CO2_working_capacity [mL/g]": 76.83081989813412,
         "_deepnote_index_column": "pretest_228"
        },
        {
         "CO2_working_capacity [mL/g]": 294.72064618473365,
         "_deepnote_index_column": "pretest_229"
        },
        {
         "CO2_working_capacity [mL/g]": 166.99592216715445,
         "_deepnote_index_column": "pretest_230"
        },
        {
         "CO2_working_capacity [mL/g]": 71.8656095223183,
         "_deepnote_index_column": "pretest_231"
        },
        {
         "CO2_working_capacity [mL/g]": 103.65616666481847,
         "_deepnote_index_column": "pretest_232"
        },
        {
         "CO2_working_capacity [mL/g]": 69.40352345278036,
         "_deepnote_index_column": "pretest_233"
        },
        {
         "CO2_working_capacity [mL/g]": 78.53588337237233,
         "_deepnote_index_column": "pretest_234"
        },
        {
         "CO2_working_capacity [mL/g]": 105.67197129920969,
         "_deepnote_index_column": "pretest_235"
        },
        {
         "CO2_working_capacity [mL/g]": 204.76693174504163,
         "_deepnote_index_column": "pretest_236"
        },
        {
         "CO2_working_capacity [mL/g]": 99.92486938766243,
         "_deepnote_index_column": "pretest_237"
        },
        {
         "CO2_working_capacity [mL/g]": 67.91304776713535,
         "_deepnote_index_column": "pretest_238"
        },
        {
         "CO2_working_capacity [mL/g]": 165.74852969916367,
         "_deepnote_index_column": "pretest_239"
        },
        {
         "CO2_working_capacity [mL/g]": 124.84733799075634,
         "_deepnote_index_column": "pretest_240"
        },
        {
         "CO2_working_capacity [mL/g]": 94.71887346903947,
         "_deepnote_index_column": "pretest_241"
        },
        {
         "CO2_working_capacity [mL/g]": 193.32864545068998,
         "_deepnote_index_column": "pretest_242"
        },
        {
         "CO2_working_capacity [mL/g]": 206.63389682067788,
         "_deepnote_index_column": "pretest_243"
        },
        {
         "CO2_working_capacity [mL/g]": 79.89514942268617,
         "_deepnote_index_column": "pretest_244"
        },
        {
         "CO2_working_capacity [mL/g]": 104.56742537059738,
         "_deepnote_index_column": "pretest_245"
        },
        {
         "CO2_working_capacity [mL/g]": 60.15738388878487,
         "_deepnote_index_column": "pretest_246"
        },
        {
         "CO2_working_capacity [mL/g]": 91.9990846619675,
         "_deepnote_index_column": "pretest_247"
        },
        {
         "CO2_working_capacity [mL/g]": 72.89411521820958,
         "_deepnote_index_column": "pretest_248"
        },
        {
         "CO2_working_capacity [mL/g]": 183.9039126990727,
         "_deepnote_index_column": "pretest_249"
        },
        {
         "CO2_working_capacity [mL/g]": 135.65258033615146,
         "_deepnote_index_column": "pretest_250"
        },
        {
         "CO2_working_capacity [mL/g]": 134.98974052649314,
         "_deepnote_index_column": "pretest_251"
        },
        {
         "CO2_working_capacity [mL/g]": 295.6805422724886,
         "_deepnote_index_column": "pretest_252"
        },
        {
         "CO2_working_capacity [mL/g]": 282.9663768743919,
         "_deepnote_index_column": "pretest_253"
        },
        {
         "CO2_working_capacity [mL/g]": 196.07556698969148,
         "_deepnote_index_column": "pretest_254"
        },
        {
         "CO2_working_capacity [mL/g]": 278.9530416804203,
         "_deepnote_index_column": "pretest_255"
        },
        {
         "CO2_working_capacity [mL/g]": 266.7081860991386,
         "_deepnote_index_column": "pretest_256"
        },
        {
         "CO2_working_capacity [mL/g]": 162.66717503610323,
         "_deepnote_index_column": "pretest_257"
        },
        {
         "CO2_working_capacity [mL/g]": 153.3752156958649,
         "_deepnote_index_column": "pretest_258"
        },
        {
         "CO2_working_capacity [mL/g]": 412.78749343316565,
         "_deepnote_index_column": "pretest_259"
        },
        {
         "CO2_working_capacity [mL/g]": 183.4248901981439,
         "_deepnote_index_column": "pretest_260"
        },
        {
         "CO2_working_capacity [mL/g]": 72.35161519627209,
         "_deepnote_index_column": "pretest_261"
        },
        {
         "CO2_working_capacity [mL/g]": 69.97832586106547,
         "_deepnote_index_column": "pretest_262"
        },
        {
         "CO2_working_capacity [mL/g]": 176.97965118312197,
         "_deepnote_index_column": "pretest_263"
        },
        {
         "CO2_working_capacity [mL/g]": 110.42826281096909,
         "_deepnote_index_column": "pretest_264"
        },
        {
         "CO2_working_capacity [mL/g]": 179.36865409136078,
         "_deepnote_index_column": "pretest_265"
        },
        {
         "CO2_working_capacity [mL/g]": 103.4811835214823,
         "_deepnote_index_column": "pretest_266"
        },
        {
         "CO2_working_capacity [mL/g]": 255.71487017488525,
         "_deepnote_index_column": "pretest_267"
        },
        {
         "CO2_working_capacity [mL/g]": 72.14158330079553,
         "_deepnote_index_column": "pretest_268"
        },
        {
         "CO2_working_capacity [mL/g]": 61.39956869091644,
         "_deepnote_index_column": "pretest_269"
        },
        {
         "CO2_working_capacity [mL/g]": 123.03782537157457,
         "_deepnote_index_column": "pretest_270"
        },
        {
         "CO2_working_capacity [mL/g]": 108.17144099073332,
         "_deepnote_index_column": "pretest_271"
        },
        {
         "CO2_working_capacity [mL/g]": 110.96511108237878,
         "_deepnote_index_column": "pretest_272"
        },
        {
         "CO2_working_capacity [mL/g]": 106.90405456240045,
         "_deepnote_index_column": "pretest_273"
        },
        {
         "CO2_working_capacity [mL/g]": 59.181709818222856,
         "_deepnote_index_column": "pretest_274"
        },
        {
         "CO2_working_capacity [mL/g]": 76.20600390460991,
         "_deepnote_index_column": "pretest_275"
        },
        {
         "CO2_working_capacity [mL/g]": 138.67583958990744,
         "_deepnote_index_column": "pretest_276"
        },
        {
         "CO2_working_capacity [mL/g]": 76.0075127030821,
         "_deepnote_index_column": "pretest_277"
        },
        {
         "CO2_working_capacity [mL/g]": 146.16444102911024,
         "_deepnote_index_column": "pretest_278"
        },
        {
         "CO2_working_capacity [mL/g]": 243.35233902184183,
         "_deepnote_index_column": "pretest_279"
        },
        {
         "CO2_working_capacity [mL/g]": 90.79265960236789,
         "_deepnote_index_column": "pretest_280"
        },
        {
         "CO2_working_capacity [mL/g]": 426.67966566876106,
         "_deepnote_index_column": "pretest_281"
        },
        {
         "CO2_working_capacity [mL/g]": 154.10576067811772,
         "_deepnote_index_column": "pretest_282"
        },
        {
         "CO2_working_capacity [mL/g]": 176.61062280405193,
         "_deepnote_index_column": "pretest_283"
        },
        {
         "CO2_working_capacity [mL/g]": 113.11679206041225,
         "_deepnote_index_column": "pretest_284"
        },
        {
         "CO2_working_capacity [mL/g]": 95.34405288865297,
         "_deepnote_index_column": "pretest_285"
        },
        {
         "CO2_working_capacity [mL/g]": 71.8661813067209,
         "_deepnote_index_column": "pretest_286"
        },
        {
         "CO2_working_capacity [mL/g]": 145.2611849800868,
         "_deepnote_index_column": "pretest_287"
        },
        {
         "CO2_working_capacity [mL/g]": 48.00357597138362,
         "_deepnote_index_column": "pretest_288"
        },
        {
         "CO2_working_capacity [mL/g]": 139.348823431435,
         "_deepnote_index_column": "pretest_289"
        },
        {
         "CO2_working_capacity [mL/g]": 191.5438958366114,
         "_deepnote_index_column": "pretest_290"
        },
        {
         "CO2_working_capacity [mL/g]": 181.62092731227668,
         "_deepnote_index_column": "pretest_291"
        },
        {
         "CO2_working_capacity [mL/g]": 183.5935515405812,
         "_deepnote_index_column": "pretest_292"
        },
        {
         "CO2_working_capacity [mL/g]": 90.49850770435467,
         "_deepnote_index_column": "pretest_293"
        },
        {
         "CO2_working_capacity [mL/g]": 272.7582446782683,
         "_deepnote_index_column": "pretest_294"
        },
        {
         "CO2_working_capacity [mL/g]": 64.15467180948501,
         "_deepnote_index_column": "pretest_295"
        },
        {
         "CO2_working_capacity [mL/g]": 337.8457473438859,
         "_deepnote_index_column": "pretest_296"
        },
        {
         "CO2_working_capacity [mL/g]": 70.73096214979405,
         "_deepnote_index_column": "pretest_297"
        },
        {
         "CO2_working_capacity [mL/g]": 154.25937097077858,
         "_deepnote_index_column": "pretest_298"
        },
        {
         "CO2_working_capacity [mL/g]": 204.86772636869452,
         "_deepnote_index_column": "pretest_299"
        },
        {
         "CO2_working_capacity [mL/g]": 53.221984402949126,
         "_deepnote_index_column": "pretest_300"
        },
        {
         "CO2_working_capacity [mL/g]": 166.56899209272407,
         "_deepnote_index_column": "pretest_301"
        },
        {
         "CO2_working_capacity [mL/g]": 112.23291597727327,
         "_deepnote_index_column": "pretest_302"
        },
        {
         "CO2_working_capacity [mL/g]": 80.11353459795727,
         "_deepnote_index_column": "pretest_303"
        },
        {
         "CO2_working_capacity [mL/g]": 307.0954707450561,
         "_deepnote_index_column": "pretest_304"
        },
        {
         "CO2_working_capacity [mL/g]": 119.20255342624498,
         "_deepnote_index_column": "pretest_305"
        },
        {
         "CO2_working_capacity [mL/g]": 229.57282396517948,
         "_deepnote_index_column": "pretest_306"
        },
        {
         "CO2_working_capacity [mL/g]": 51.9621707879235,
         "_deepnote_index_column": "pretest_307"
        },
        {
         "CO2_working_capacity [mL/g]": 118.10624218243154,
         "_deepnote_index_column": "pretest_308"
        },
        {
         "CO2_working_capacity [mL/g]": 160.0900887512694,
         "_deepnote_index_column": "pretest_309"
        },
        {
         "CO2_working_capacity [mL/g]": 110.0334235363745,
         "_deepnote_index_column": "pretest_310"
        },
        {
         "CO2_working_capacity [mL/g]": 115.96766778037014,
         "_deepnote_index_column": "pretest_311"
        },
        {
         "CO2_working_capacity [mL/g]": 59.20338023698237,
         "_deepnote_index_column": "pretest_312"
        },
        {
         "CO2_working_capacity [mL/g]": 110.31931941607485,
         "_deepnote_index_column": "pretest_313"
        },
        {
         "CO2_working_capacity [mL/g]": 76.4395218050603,
         "_deepnote_index_column": "pretest_314"
        },
        {
         "CO2_working_capacity [mL/g]": 195.9076616836679,
         "_deepnote_index_column": "pretest_315"
        },
        {
         "CO2_working_capacity [mL/g]": 135.06383003591262,
         "_deepnote_index_column": "pretest_316"
        },
        {
         "CO2_working_capacity [mL/g]": 99.18377266448832,
         "_deepnote_index_column": "pretest_317"
        },
        {
         "CO2_working_capacity [mL/g]": 86.49508497756759,
         "_deepnote_index_column": "pretest_318"
        },
        {
         "CO2_working_capacity [mL/g]": 83.22618260852097,
         "_deepnote_index_column": "pretest_319"
        },
        {
         "CO2_working_capacity [mL/g]": 166.50224105134515,
         "_deepnote_index_column": "pretest_320"
        },
        {
         "CO2_working_capacity [mL/g]": 129.63719131409036,
         "_deepnote_index_column": "pretest_321"
        },
        {
         "CO2_working_capacity [mL/g]": 100.88944184759637,
         "_deepnote_index_column": "pretest_322"
        },
        {
         "CO2_working_capacity [mL/g]": 143.58277760476744,
         "_deepnote_index_column": "pretest_323"
        },
        {
         "CO2_working_capacity [mL/g]": 77.02747118409486,
         "_deepnote_index_column": "pretest_324"
        },
        {
         "CO2_working_capacity [mL/g]": 126.35526315341163,
         "_deepnote_index_column": "pretest_325"
        },
        {
         "CO2_working_capacity [mL/g]": 151.97806092622133,
         "_deepnote_index_column": "pretest_326"
        },
        {
         "CO2_working_capacity [mL/g]": 130.1700570830543,
         "_deepnote_index_column": "pretest_327"
        },
        {
         "CO2_working_capacity [mL/g]": 62.23649491898784,
         "_deepnote_index_column": "pretest_328"
        },
        {
         "CO2_working_capacity [mL/g]": 76.12754527168192,
         "_deepnote_index_column": "pretest_329"
        },
        {
         "CO2_working_capacity [mL/g]": 65.81102162815911,
         "_deepnote_index_column": "pretest_330"
        },
        {
         "CO2_working_capacity [mL/g]": 206.99568765085732,
         "_deepnote_index_column": "pretest_331"
        },
        {
         "CO2_working_capacity [mL/g]": 121.95718331850408,
         "_deepnote_index_column": "pretest_332"
        },
        {
         "CO2_working_capacity [mL/g]": 112.3830578579317,
         "_deepnote_index_column": "pretest_333"
        },
        {
         "CO2_working_capacity [mL/g]": 74.33630185638268,
         "_deepnote_index_column": "pretest_334"
        },
        {
         "CO2_working_capacity [mL/g]": 91.96841867930608,
         "_deepnote_index_column": "pretest_335"
        },
        {
         "CO2_working_capacity [mL/g]": 128.32389388234023,
         "_deepnote_index_column": "pretest_336"
        },
        {
         "CO2_working_capacity [mL/g]": 105.14703359098746,
         "_deepnote_index_column": "pretest_337"
        },
        {
         "CO2_working_capacity [mL/g]": 230.2048237814541,
         "_deepnote_index_column": "pretest_338"
        },
        {
         "CO2_working_capacity [mL/g]": 415.2665828295143,
         "_deepnote_index_column": "pretest_339"
        },
        {
         "CO2_working_capacity [mL/g]": 190.08976857767084,
         "_deepnote_index_column": "pretest_340"
        },
        {
         "CO2_working_capacity [mL/g]": 68.0514575276834,
         "_deepnote_index_column": "pretest_341"
        },
        {
         "CO2_working_capacity [mL/g]": 81.12210253137944,
         "_deepnote_index_column": "pretest_342"
        },
        {
         "CO2_working_capacity [mL/g]": 123.78554680818465,
         "_deepnote_index_column": "pretest_343"
        },
        {
         "CO2_working_capacity [mL/g]": 165.89158153165988,
         "_deepnote_index_column": "pretest_344"
        },
        {
         "CO2_working_capacity [mL/g]": 417.824945986077,
         "_deepnote_index_column": "pretest_345"
        },
        {
         "CO2_working_capacity [mL/g]": 152.1502705332995,
         "_deepnote_index_column": "pretest_346"
        },
        {
         "CO2_working_capacity [mL/g]": 222.52267615377383,
         "_deepnote_index_column": "pretest_347"
        },
        {
         "CO2_working_capacity [mL/g]": 295.67654505167286,
         "_deepnote_index_column": "pretest_348"
        },
        {
         "CO2_working_capacity [mL/g]": 72.9078655507076,
         "_deepnote_index_column": "pretest_349"
        },
        {
         "CO2_working_capacity [mL/g]": 247.3063441272959,
         "_deepnote_index_column": "pretest_350"
        },
        {
         "CO2_working_capacity [mL/g]": 79.80938812696262,
         "_deepnote_index_column": "pretest_351"
        },
        {
         "CO2_working_capacity [mL/g]": 69.31013045726664,
         "_deepnote_index_column": "pretest_352"
        },
        {
         "CO2_working_capacity [mL/g]": 93.78508366746553,
         "_deepnote_index_column": "pretest_353"
        },
        {
         "CO2_working_capacity [mL/g]": 88.99566216012349,
         "_deepnote_index_column": "pretest_354"
        },
        {
         "CO2_working_capacity [mL/g]": 61.758271210791364,
         "_deepnote_index_column": "pretest_355"
        },
        {
         "CO2_working_capacity [mL/g]": 143.98712337259488,
         "_deepnote_index_column": "pretest_356"
        },
        {
         "CO2_working_capacity [mL/g]": 173.6287541894027,
         "_deepnote_index_column": "pretest_357"
        },
        {
         "CO2_working_capacity [mL/g]": 81.2450252840949,
         "_deepnote_index_column": "pretest_358"
        },
        {
         "CO2_working_capacity [mL/g]": 73.94042883551923,
         "_deepnote_index_column": "pretest_359"
        },
        {
         "CO2_working_capacity [mL/g]": 526.2258091949844,
         "_deepnote_index_column": "pretest_360"
        },
        {
         "CO2_working_capacity [mL/g]": 95.75018175955881,
         "_deepnote_index_column": "pretest_361"
        },
        {
         "CO2_working_capacity [mL/g]": 58.92103261367555,
         "_deepnote_index_column": "pretest_362"
        },
        {
         "CO2_working_capacity [mL/g]": 266.42168671119316,
         "_deepnote_index_column": "pretest_363"
        },
        {
         "CO2_working_capacity [mL/g]": 85.85224230882024,
         "_deepnote_index_column": "pretest_364"
        },
        {
         "CO2_working_capacity [mL/g]": 95.06579435177926,
         "_deepnote_index_column": "pretest_365"
        },
        {
         "CO2_working_capacity [mL/g]": 195.5653477446167,
         "_deepnote_index_column": "pretest_366"
        },
        {
         "CO2_working_capacity [mL/g]": 444.53972115988375,
         "_deepnote_index_column": "pretest_367"
        },
        {
         "CO2_working_capacity [mL/g]": 248.21622935800826,
         "_deepnote_index_column": "pretest_368"
        },
        {
         "CO2_working_capacity [mL/g]": 75.09938922676797,
         "_deepnote_index_column": "pretest_369"
        },
        {
         "CO2_working_capacity [mL/g]": 303.9058473166799,
         "_deepnote_index_column": "pretest_370"
        },
        {
         "CO2_working_capacity [mL/g]": 180.33410343610012,
         "_deepnote_index_column": "pretest_371"
        },
        {
         "CO2_working_capacity [mL/g]": 117.33087132209704,
         "_deepnote_index_column": "pretest_372"
        },
        {
         "CO2_working_capacity [mL/g]": 266.72941087334806,
         "_deepnote_index_column": "pretest_373"
        },
        {
         "CO2_working_capacity [mL/g]": 101.28503037595523,
         "_deepnote_index_column": "pretest_374"
        },
        {
         "CO2_working_capacity [mL/g]": 60.24739371210249,
         "_deepnote_index_column": "pretest_375"
        },
        {
         "CO2_working_capacity [mL/g]": 99.0556715288099,
         "_deepnote_index_column": "pretest_376"
        },
        {
         "CO2_working_capacity [mL/g]": 149.5289834808529,
         "_deepnote_index_column": "pretest_377"
        },
        {
         "CO2_working_capacity [mL/g]": 272.1455651656405,
         "_deepnote_index_column": "pretest_378"
        },
        {
         "CO2_working_capacity [mL/g]": 57.43342379482669,
         "_deepnote_index_column": "pretest_379"
        },
        {
         "CO2_working_capacity [mL/g]": 162.48528099372328,
         "_deepnote_index_column": "pretest_380"
        },
        {
         "CO2_working_capacity [mL/g]": 48.20328397077434,
         "_deepnote_index_column": "pretest_381"
        },
        {
         "CO2_working_capacity [mL/g]": 261.44490302598473,
         "_deepnote_index_column": "pretest_382"
        },
        {
         "CO2_working_capacity [mL/g]": 348.70199966747714,
         "_deepnote_index_column": "pretest_383"
        },
        {
         "CO2_working_capacity [mL/g]": 98.7521963474167,
         "_deepnote_index_column": "pretest_384"
        },
        {
         "CO2_working_capacity [mL/g]": 81.3832689616298,
         "_deepnote_index_column": "pretest_385"
        },
        {
         "CO2_working_capacity [mL/g]": 73.89542878024595,
         "_deepnote_index_column": "pretest_386"
        },
        {
         "CO2_working_capacity [mL/g]": 178.4780697704223,
         "_deepnote_index_column": "pretest_387"
        },
        {
         "CO2_working_capacity [mL/g]": 187.55530000972453,
         "_deepnote_index_column": "pretest_388"
        },
        {
         "CO2_working_capacity [mL/g]": 206.51044534555777,
         "_deepnote_index_column": "pretest_389"
        },
        {
         "CO2_working_capacity [mL/g]": 108.30713400103585,
         "_deepnote_index_column": "pretest_390"
        },
        {
         "CO2_working_capacity [mL/g]": 71.97447387215831,
         "_deepnote_index_column": "pretest_391"
        },
        {
         "CO2_working_capacity [mL/g]": 84.98369693287285,
         "_deepnote_index_column": "pretest_392"
        },
        {
         "CO2_working_capacity [mL/g]": 214.927940639022,
         "_deepnote_index_column": "pretest_393"
        },
        {
         "CO2_working_capacity [mL/g]": 225.43935202229932,
         "_deepnote_index_column": "pretest_394"
        },
        {
         "CO2_working_capacity [mL/g]": 242.74730774527953,
         "_deepnote_index_column": "pretest_395"
        },
        {
         "CO2_working_capacity [mL/g]": 86.795222866836,
         "_deepnote_index_column": "pretest_396"
        },
        {
         "CO2_working_capacity [mL/g]": 98.51295886289067,
         "_deepnote_index_column": "pretest_397"
        },
        {
         "CO2_working_capacity [mL/g]": 222.73715225633296,
         "_deepnote_index_column": "pretest_398"
        },
        {
         "CO2_working_capacity [mL/g]": 100.59869994422525,
         "_deepnote_index_column": "pretest_399"
        },
        {
         "CO2_working_capacity [mL/g]": 155.2026591977721,
         "_deepnote_index_column": "pretest_400"
        },
        {
         "CO2_working_capacity [mL/g]": 112.42620276262758,
         "_deepnote_index_column": "pretest_401"
        },
        {
         "CO2_working_capacity [mL/g]": 74.82142358749365,
         "_deepnote_index_column": "pretest_402"
        },
        {
         "CO2_working_capacity [mL/g]": 82.96262828797822,
         "_deepnote_index_column": "pretest_403"
        },
        {
         "CO2_working_capacity [mL/g]": 82.66727090609497,
         "_deepnote_index_column": "pretest_404"
        },
        {
         "CO2_working_capacity [mL/g]": 202.46399551140905,
         "_deepnote_index_column": "pretest_405"
        },
        {
         "CO2_working_capacity [mL/g]": 74.4231205243572,
         "_deepnote_index_column": "pretest_406"
        },
        {
         "CO2_working_capacity [mL/g]": 124.71148566595238,
         "_deepnote_index_column": "pretest_407"
        },
        {
         "CO2_working_capacity [mL/g]": 106.50277915757901,
         "_deepnote_index_column": "pretest_408"
        },
        {
         "CO2_working_capacity [mL/g]": 59.249310630316074,
         "_deepnote_index_column": "pretest_409"
        },
        {
         "CO2_working_capacity [mL/g]": 97.48707613846891,
         "_deepnote_index_column": "pretest_410"
        },
        {
         "CO2_working_capacity [mL/g]": 316.8066975452586,
         "_deepnote_index_column": "pretest_411"
        },
        {
         "CO2_working_capacity [mL/g]": 92.33657738358194,
         "_deepnote_index_column": "pretest_412"
        },
        {
         "CO2_working_capacity [mL/g]": 130.22294145629806,
         "_deepnote_index_column": "pretest_413"
        },
        {
         "CO2_working_capacity [mL/g]": 163.74421073428667,
         "_deepnote_index_column": "pretest_414"
        },
        {
         "CO2_working_capacity [mL/g]": 143.89631012160262,
         "_deepnote_index_column": "pretest_415"
        },
        {
         "CO2_working_capacity [mL/g]": 83.92422160176785,
         "_deepnote_index_column": "pretest_416"
        },
        {
         "CO2_working_capacity [mL/g]": 96.39286362996845,
         "_deepnote_index_column": "pretest_417"
        },
        {
         "CO2_working_capacity [mL/g]": 226.8123359390027,
         "_deepnote_index_column": "pretest_418"
        },
        {
         "CO2_working_capacity [mL/g]": 210.76675239417816,
         "_deepnote_index_column": "pretest_419"
        },
        {
         "CO2_working_capacity [mL/g]": 92.15315684250523,
         "_deepnote_index_column": "pretest_420"
        },
        {
         "CO2_working_capacity [mL/g]": 66.39091761012405,
         "_deepnote_index_column": "pretest_421"
        },
        {
         "CO2_working_capacity [mL/g]": 102.00080924221179,
         "_deepnote_index_column": "pretest_422"
        },
        {
         "CO2_working_capacity [mL/g]": 82.40332409068816,
         "_deepnote_index_column": "pretest_423"
        },
        {
         "CO2_working_capacity [mL/g]": 248.75650668850017,
         "_deepnote_index_column": "pretest_424"
        },
        {
         "CO2_working_capacity [mL/g]": 310.2783186541341,
         "_deepnote_index_column": "pretest_425"
        },
        {
         "CO2_working_capacity [mL/g]": 76.91903703389632,
         "_deepnote_index_column": "pretest_426"
        },
        {
         "CO2_working_capacity [mL/g]": 100.98913417448581,
         "_deepnote_index_column": "pretest_427"
        },
        {
         "CO2_working_capacity [mL/g]": 161.70886717989242,
         "_deepnote_index_column": "pretest_428"
        },
        {
         "CO2_working_capacity [mL/g]": 172.01052691588376,
         "_deepnote_index_column": "pretest_429"
        },
        {
         "CO2_working_capacity [mL/g]": 228.440320380209,
         "_deepnote_index_column": "pretest_430"
        },
        {
         "CO2_working_capacity [mL/g]": 242.5679303475167,
         "_deepnote_index_column": "pretest_431"
        },
        {
         "CO2_working_capacity [mL/g]": 156.18972537160076,
         "_deepnote_index_column": "pretest_432"
        },
        {
         "CO2_working_capacity [mL/g]": 217.99187602852376,
         "_deepnote_index_column": "pretest_433"
        },
        {
         "CO2_working_capacity [mL/g]": 333.32545096849594,
         "_deepnote_index_column": "pretest_434"
        },
        {
         "CO2_working_capacity [mL/g]": 76.1282826199765,
         "_deepnote_index_column": "pretest_435"
        },
        {
         "CO2_working_capacity [mL/g]": 69.57755849402112,
         "_deepnote_index_column": "pretest_436"
        },
        {
         "CO2_working_capacity [mL/g]": 105.73739193986071,
         "_deepnote_index_column": "pretest_437"
        },
        {
         "CO2_working_capacity [mL/g]": 57.28892833357797,
         "_deepnote_index_column": "pretest_438"
        },
        {
         "CO2_working_capacity [mL/g]": 186.01070869922768,
         "_deepnote_index_column": "pretest_439"
        },
        {
         "CO2_working_capacity [mL/g]": 93.70916173679139,
         "_deepnote_index_column": "pretest_440"
        },
        {
         "CO2_working_capacity [mL/g]": 109.43120234283728,
         "_deepnote_index_column": "pretest_441"
        },
        {
         "CO2_working_capacity [mL/g]": 118.1626492908971,
         "_deepnote_index_column": "pretest_442"
        },
        {
         "CO2_working_capacity [mL/g]": 242.70503005273483,
         "_deepnote_index_column": "pretest_443"
        },
        {
         "CO2_working_capacity [mL/g]": 57.19177774825553,
         "_deepnote_index_column": "pretest_444"
        },
        {
         "CO2_working_capacity [mL/g]": 56.8902971873199,
         "_deepnote_index_column": "pretest_445"
        },
        {
         "CO2_working_capacity [mL/g]": 58.66674043338211,
         "_deepnote_index_column": "pretest_446"
        },
        {
         "CO2_working_capacity [mL/g]": 100.28054344323124,
         "_deepnote_index_column": "pretest_447"
        },
        {
         "CO2_working_capacity [mL/g]": 264.87979029427066,
         "_deepnote_index_column": "pretest_448"
        },
        {
         "CO2_working_capacity [mL/g]": 90.94893613200655,
         "_deepnote_index_column": "pretest_449"
        },
        {
         "CO2_working_capacity [mL/g]": 66.02274484701498,
         "_deepnote_index_column": "pretest_450"
        },
        {
         "CO2_working_capacity [mL/g]": 379.82824122060117,
         "_deepnote_index_column": "pretest_451"
        },
        {
         "CO2_working_capacity [mL/g]": 67.44532065356616,
         "_deepnote_index_column": "pretest_452"
        },
        {
         "CO2_working_capacity [mL/g]": 78.91315683655262,
         "_deepnote_index_column": "pretest_453"
        },
        {
         "CO2_working_capacity [mL/g]": 82.32398879923963,
         "_deepnote_index_column": "pretest_454"
        },
        {
         "CO2_working_capacity [mL/g]": 137.783182069952,
         "_deepnote_index_column": "pretest_455"
        },
        {
         "CO2_working_capacity [mL/g]": 56.72367954252236,
         "_deepnote_index_column": "pretest_456"
        },
        {
         "CO2_working_capacity [mL/g]": 98.9521055608089,
         "_deepnote_index_column": "pretest_457"
        },
        {
         "CO2_working_capacity [mL/g]": 287.48589081233524,
         "_deepnote_index_column": "pretest_458"
        },
        {
         "CO2_working_capacity [mL/g]": 91.82532549214758,
         "_deepnote_index_column": "pretest_459"
        },
        {
         "CO2_working_capacity [mL/g]": 133.79858152248804,
         "_deepnote_index_column": "pretest_460"
        },
        {
         "CO2_working_capacity [mL/g]": 81.0860396745133,
         "_deepnote_index_column": "pretest_461"
        },
        {
         "CO2_working_capacity [mL/g]": 316.6320157505041,
         "_deepnote_index_column": "pretest_462"
        },
        {
         "CO2_working_capacity [mL/g]": 237.43933489124575,
         "_deepnote_index_column": "pretest_463"
        },
        {
         "CO2_working_capacity [mL/g]": 86.68289774103428,
         "_deepnote_index_column": "pretest_464"
        },
        {
         "CO2_working_capacity [mL/g]": 463.7686228357215,
         "_deepnote_index_column": "pretest_465"
        },
        {
         "CO2_working_capacity [mL/g]": 77.45256588138687,
         "_deepnote_index_column": "pretest_466"
        },
        {
         "CO2_working_capacity [mL/g]": 114.77639320889172,
         "_deepnote_index_column": "pretest_467"
        },
        {
         "CO2_working_capacity [mL/g]": 204.12216629865773,
         "_deepnote_index_column": "pretest_468"
        },
        {
         "CO2_working_capacity [mL/g]": 247.3811906299969,
         "_deepnote_index_column": "pretest_469"
        },
        {
         "CO2_working_capacity [mL/g]": 125.8120125813755,
         "_deepnote_index_column": "pretest_470"
        },
        {
         "CO2_working_capacity [mL/g]": 237.0194363572183,
         "_deepnote_index_column": "pretest_471"
        },
        {
         "CO2_working_capacity [mL/g]": 211.3797712199896,
         "_deepnote_index_column": "pretest_472"
        },
        {
         "CO2_working_capacity [mL/g]": 122.2080876767811,
         "_deepnote_index_column": "pretest_473"
        },
        {
         "CO2_working_capacity [mL/g]": 260.2595986229082,
         "_deepnote_index_column": "pretest_474"
        },
        {
         "CO2_working_capacity [mL/g]": 419.20270051742204,
         "_deepnote_index_column": "pretest_475"
        },
        {
         "CO2_working_capacity [mL/g]": 211.10812809565704,
         "_deepnote_index_column": "pretest_476"
        },
        {
         "CO2_working_capacity [mL/g]": 78.36923150717085,
         "_deepnote_index_column": "pretest_477"
        },
        {
         "CO2_working_capacity [mL/g]": 35.95756844551218,
         "_deepnote_index_column": "pretest_478"
        },
        {
         "CO2_working_capacity [mL/g]": 111.93062878790754,
         "_deepnote_index_column": "pretest_479"
        },
        {
         "CO2_working_capacity [mL/g]": 241.56587053284358,
         "_deepnote_index_column": "pretest_480"
        },
        {
         "CO2_working_capacity [mL/g]": 118.39717077890352,
         "_deepnote_index_column": "pretest_481"
        },
        {
         "CO2_working_capacity [mL/g]": 186.81944991125656,
         "_deepnote_index_column": "pretest_482"
        },
        {
         "CO2_working_capacity [mL/g]": 114.96591093762258,
         "_deepnote_index_column": "pretest_483"
        },
        {
         "CO2_working_capacity [mL/g]": 75.12765957290014,
         "_deepnote_index_column": "pretest_484"
        },
        {
         "CO2_working_capacity [mL/g]": 102.14231992371788,
         "_deepnote_index_column": "pretest_485"
        },
        {
         "CO2_working_capacity [mL/g]": 104.67461788836059,
         "_deepnote_index_column": "pretest_486"
        },
        {
         "CO2_working_capacity [mL/g]": 117.59605398179708,
         "_deepnote_index_column": "pretest_487"
        },
        {
         "CO2_working_capacity [mL/g]": 100.08567910160289,
         "_deepnote_index_column": "pretest_488"
        },
        {
         "CO2_working_capacity [mL/g]": 95.14313858036314,
         "_deepnote_index_column": "pretest_489"
        },
        {
         "CO2_working_capacity [mL/g]": 132.96621401844922,
         "_deepnote_index_column": "pretest_490"
        },
        {
         "CO2_working_capacity [mL/g]": 73.83686918497719,
         "_deepnote_index_column": "pretest_491"
        },
        {
         "CO2_working_capacity [mL/g]": 54.873262065738864,
         "_deepnote_index_column": "pretest_492"
        },
        {
         "CO2_working_capacity [mL/g]": 89.93879161651341,
         "_deepnote_index_column": "pretest_493"
        },
        {
         "CO2_working_capacity [mL/g]": 128.00120632019974,
         "_deepnote_index_column": "pretest_494"
        },
        {
         "CO2_working_capacity [mL/g]": 112.44923746562706,
         "_deepnote_index_column": "pretest_495"
        },
        {
         "CO2_working_capacity [mL/g]": 98.19503458344806,
         "_deepnote_index_column": "pretest_496"
        },
        {
         "CO2_working_capacity [mL/g]": 76.13494802332511,
         "_deepnote_index_column": "pretest_497"
        },
        {
         "CO2_working_capacity [mL/g]": 108.83819636566213,
         "_deepnote_index_column": "pretest_498"
        },
        {
         "CO2_working_capacity [mL/g]": 271.3028357164951,
         "_deepnote_index_column": "pretest_499"
        },
        {
         "CO2_working_capacity [mL/g]": 280.85117330501186,
         "_deepnote_index_column": "pretest_500"
        }
       ],
       "rows_bottom": [
        {
         "CO2_working_capacity [mL/g]": -1.9485435914992906,
         "_deepnote_index_column": "pretest_1501"
        },
        {
         "CO2_working_capacity [mL/g]": -2.2585179268825972,
         "_deepnote_index_column": "pretest_1502"
        },
        {
         "CO2_working_capacity [mL/g]": -6.867933050122625,
         "_deepnote_index_column": "pretest_1503"
        },
        {
         "CO2_working_capacity [mL/g]": 3.9596059028110115,
         "_deepnote_index_column": "pretest_1504"
        },
        {
         "CO2_working_capacity [mL/g]": -4.187746183574143,
         "_deepnote_index_column": "pretest_1505"
        },
        {
         "CO2_working_capacity [mL/g]": 0.9376445517769504,
         "_deepnote_index_column": "pretest_1506"
        },
        {
         "CO2_working_capacity [mL/g]": -4.552125712883434,
         "_deepnote_index_column": "pretest_1507"
        },
        {
         "CO2_working_capacity [mL/g]": -10.76195605380556,
         "_deepnote_index_column": "pretest_1508"
        },
        {
         "CO2_working_capacity [mL/g]": -2.205072022459471,
         "_deepnote_index_column": "pretest_1509"
        },
        {
         "CO2_working_capacity [mL/g]": -1.1920092266940276,
         "_deepnote_index_column": "pretest_1510"
        },
        {
         "CO2_working_capacity [mL/g]": 4.759095031307086,
         "_deepnote_index_column": "pretest_1511"
        },
        {
         "CO2_working_capacity [mL/g]": 5.951311022179986,
         "_deepnote_index_column": "pretest_1512"
        },
        {
         "CO2_working_capacity [mL/g]": 0.8809719341966984,
         "_deepnote_index_column": "pretest_1513"
        },
        {
         "CO2_working_capacity [mL/g]": -7.234491325655528,
         "_deepnote_index_column": "pretest_1514"
        },
        {
         "CO2_working_capacity [mL/g]": 1.7471942924212254,
         "_deepnote_index_column": "pretest_1515"
        },
        {
         "CO2_working_capacity [mL/g]": -3.665437963871298,
         "_deepnote_index_column": "pretest_1516"
        },
        {
         "CO2_working_capacity [mL/g]": -7.3027609549337775,
         "_deepnote_index_column": "pretest_1517"
        },
        {
         "CO2_working_capacity [mL/g]": 33.41463374855849,
         "_deepnote_index_column": "pretest_1518"
        },
        {
         "CO2_working_capacity [mL/g]": -2.3473836467574767,
         "_deepnote_index_column": "pretest_1519"
        },
        {
         "CO2_working_capacity [mL/g]": 1.5950376649390143,
         "_deepnote_index_column": "pretest_1520"
        },
        {
         "CO2_working_capacity [mL/g]": 2.9366705096451966,
         "_deepnote_index_column": "pretest_1521"
        },
        {
         "CO2_working_capacity [mL/g]": -1.7118821196887177,
         "_deepnote_index_column": "pretest_1522"
        },
        {
         "CO2_working_capacity [mL/g]": 0.23053083960777457,
         "_deepnote_index_column": "pretest_1523"
        },
        {
         "CO2_working_capacity [mL/g]": -2.9240132350980264,
         "_deepnote_index_column": "pretest_1524"
        },
        {
         "CO2_working_capacity [mL/g]": 0.13561758984054506,
         "_deepnote_index_column": "pretest_1525"
        },
        {
         "CO2_working_capacity [mL/g]": 6.958799379345987,
         "_deepnote_index_column": "pretest_1526"
        },
        {
         "CO2_working_capacity [mL/g]": 25.42750708720572,
         "_deepnote_index_column": "pretest_1527"
        },
        {
         "CO2_working_capacity [mL/g]": -1.9244169369187045,
         "_deepnote_index_column": "pretest_1528"
        },
        {
         "CO2_working_capacity [mL/g]": 9.941499786637769,
         "_deepnote_index_column": "pretest_1529"
        },
        {
         "CO2_working_capacity [mL/g]": 25.34675957243964,
         "_deepnote_index_column": "pretest_1530"
        },
        {
         "CO2_working_capacity [mL/g]": 2.6016221420907586,
         "_deepnote_index_column": "pretest_1531"
        },
        {
         "CO2_working_capacity [mL/g]": -2.844423561342172,
         "_deepnote_index_column": "pretest_1532"
        },
        {
         "CO2_working_capacity [mL/g]": -2.8797355508136295,
         "_deepnote_index_column": "pretest_1533"
        },
        {
         "CO2_working_capacity [mL/g]": -2.7764870042403573,
         "_deepnote_index_column": "pretest_1534"
        },
        {
         "CO2_working_capacity [mL/g]": -3.648725159552861,
         "_deepnote_index_column": "pretest_1535"
        },
        {
         "CO2_working_capacity [mL/g]": -8.652982662449345,
         "_deepnote_index_column": "pretest_1536"
        },
        {
         "CO2_working_capacity [mL/g]": 3.180523453711999,
         "_deepnote_index_column": "pretest_1537"
        },
        {
         "CO2_working_capacity [mL/g]": -0.232746480199541,
         "_deepnote_index_column": "pretest_1538"
        },
        {
         "CO2_working_capacity [mL/g]": 1.2637532829223672,
         "_deepnote_index_column": "pretest_1539"
        },
        {
         "CO2_working_capacity [mL/g]": 3.1921930922425834,
         "_deepnote_index_column": "pretest_1540"
        },
        {
         "CO2_working_capacity [mL/g]": 4.972946613774692,
         "_deepnote_index_column": "pretest_1541"
        },
        {
         "CO2_working_capacity [mL/g]": -3.913306067165402,
         "_deepnote_index_column": "pretest_1542"
        },
        {
         "CO2_working_capacity [mL/g]": 3.9829461472019783,
         "_deepnote_index_column": "pretest_1543"
        },
        {
         "CO2_working_capacity [mL/g]": -9.826755655425723,
         "_deepnote_index_column": "pretest_1544"
        },
        {
         "CO2_working_capacity [mL/g]": -7.1346052280650545,
         "_deepnote_index_column": "pretest_1545"
        },
        {
         "CO2_working_capacity [mL/g]": 6.075551945192271,
         "_deepnote_index_column": "pretest_1546"
        },
        {
         "CO2_working_capacity [mL/g]": 0.52322127245348,
         "_deepnote_index_column": "pretest_1547"
        },
        {
         "CO2_working_capacity [mL/g]": 0.5633914413245777,
         "_deepnote_index_column": "pretest_1548"
        },
        {
         "CO2_working_capacity [mL/g]": -8.548631774522308,
         "_deepnote_index_column": "pretest_1549"
        },
        {
         "CO2_working_capacity [mL/g]": -2.6943576359551593,
         "_deepnote_index_column": "pretest_1550"
        },
        {
         "CO2_working_capacity [mL/g]": -0.6613765135831094,
         "_deepnote_index_column": "pretest_1551"
        },
        {
         "CO2_working_capacity [mL/g]": -3.6724227960284708,
         "_deepnote_index_column": "pretest_1552"
        },
        {
         "CO2_working_capacity [mL/g]": -13.646730758967577,
         "_deepnote_index_column": "pretest_1553"
        },
        {
         "CO2_working_capacity [mL/g]": -8.932187976954808,
         "_deepnote_index_column": "pretest_1554"
        },
        {
         "CO2_working_capacity [mL/g]": 9.233967584555137,
         "_deepnote_index_column": "pretest_1555"
        },
        {
         "CO2_working_capacity [mL/g]": -2.2291834571063016,
         "_deepnote_index_column": "pretest_1556"
        },
        {
         "CO2_working_capacity [mL/g]": 3.8864664161669094,
         "_deepnote_index_column": "pretest_1557"
        },
        {
         "CO2_working_capacity [mL/g]": 1.9857704892267105,
         "_deepnote_index_column": "pretest_1558"
        },
        {
         "CO2_working_capacity [mL/g]": 2.5281264558229815,
         "_deepnote_index_column": "pretest_1559"
        },
        {
         "CO2_working_capacity [mL/g]": 2.9741483241178694,
         "_deepnote_index_column": "pretest_1560"
        },
        {
         "CO2_working_capacity [mL/g]": -0.8251021848661422,
         "_deepnote_index_column": "pretest_1561"
        },
        {
         "CO2_working_capacity [mL/g]": 4.689315864149015,
         "_deepnote_index_column": "pretest_1562"
        },
        {
         "CO2_working_capacity [mL/g]": 1.120601116547335,
         "_deepnote_index_column": "pretest_1563"
        },
        {
         "CO2_working_capacity [mL/g]": 15.720151861658573,
         "_deepnote_index_column": "pretest_1564"
        },
        {
         "CO2_working_capacity [mL/g]": -3.880083952313494,
         "_deepnote_index_column": "pretest_1565"
        },
        {
         "CO2_working_capacity [mL/g]": 1.563727523771657,
         "_deepnote_index_column": "pretest_1566"
        },
        {
         "CO2_working_capacity [mL/g]": 80.16823219404998,
         "_deepnote_index_column": "pretest_1567"
        },
        {
         "CO2_working_capacity [mL/g]": -6.930306757395898,
         "_deepnote_index_column": "pretest_1568"
        },
        {
         "CO2_working_capacity [mL/g]": 62.71177628931894,
         "_deepnote_index_column": "pretest_1569"
        },
        {
         "CO2_working_capacity [mL/g]": 9.717935219663422,
         "_deepnote_index_column": "pretest_1570"
        },
        {
         "CO2_working_capacity [mL/g]": 6.215265341718727,
         "_deepnote_index_column": "pretest_1571"
        },
        {
         "CO2_working_capacity [mL/g]": -0.16249092292844794,
         "_deepnote_index_column": "pretest_1572"
        },
        {
         "CO2_working_capacity [mL/g]": 0.43177365292264697,
         "_deepnote_index_column": "pretest_1573"
        },
        {
         "CO2_working_capacity [mL/g]": -0.42439606689273063,
         "_deepnote_index_column": "pretest_1574"
        },
        {
         "CO2_working_capacity [mL/g]": -5.07108154621402,
         "_deepnote_index_column": "pretest_1575"
        },
        {
         "CO2_working_capacity [mL/g]": -2.3808097920728826,
         "_deepnote_index_column": "pretest_1576"
        },
        {
         "CO2_working_capacity [mL/g]": 5.165374317553476,
         "_deepnote_index_column": "pretest_1577"
        },
        {
         "CO2_working_capacity [mL/g]": 28.463687876968155,
         "_deepnote_index_column": "pretest_1578"
        },
        {
         "CO2_working_capacity [mL/g]": 0.09970553233861323,
         "_deepnote_index_column": "pretest_1579"
        },
        {
         "CO2_working_capacity [mL/g]": -4.817027446561703,
         "_deepnote_index_column": "pretest_1580"
        },
        {
         "CO2_working_capacity [mL/g]": -6.666993573779212,
         "_deepnote_index_column": "pretest_1581"
        },
        {
         "CO2_working_capacity [mL/g]": -5.016503510544484,
         "_deepnote_index_column": "pretest_1582"
        },
        {
         "CO2_working_capacity [mL/g]": -2.561618344897756,
         "_deepnote_index_column": "pretest_1583"
        },
        {
         "CO2_working_capacity [mL/g]": 3.2204474927617937,
         "_deepnote_index_column": "pretest_1584"
        },
        {
         "CO2_working_capacity [mL/g]": 8.773195240212836,
         "_deepnote_index_column": "pretest_1585"
        },
        {
         "CO2_working_capacity [mL/g]": -3.5323314422457384,
         "_deepnote_index_column": "pretest_1586"
        },
        {
         "CO2_working_capacity [mL/g]": -0.571175355104738,
         "_deepnote_index_column": "pretest_1587"
        },
        {
         "CO2_working_capacity [mL/g]": 1.907921282276688,
         "_deepnote_index_column": "pretest_1588"
        },
        {
         "CO2_working_capacity [mL/g]": -5.548997538937241,
         "_deepnote_index_column": "pretest_1589"
        },
        {
         "CO2_working_capacity [mL/g]": -6.6721734900180705,
         "_deepnote_index_column": "pretest_1590"
        },
        {
         "CO2_working_capacity [mL/g]": 21.79024952966968,
         "_deepnote_index_column": "pretest_1591"
        },
        {
         "CO2_working_capacity [mL/g]": -2.697901337697483,
         "_deepnote_index_column": "pretest_1592"
        },
        {
         "CO2_working_capacity [mL/g]": 5.793149511469375,
         "_deepnote_index_column": "pretest_1593"
        },
        {
         "CO2_working_capacity [mL/g]": -3.005957259230278,
         "_deepnote_index_column": "pretest_1594"
        },
        {
         "CO2_working_capacity [mL/g]": 2.5531284190949464,
         "_deepnote_index_column": "pretest_1595"
        },
        {
         "CO2_working_capacity [mL/g]": -2.1055039542400564,
         "_deepnote_index_column": "pretest_1596"
        },
        {
         "CO2_working_capacity [mL/g]": -3.616942503897593,
         "_deepnote_index_column": "pretest_1597"
        },
        {
         "CO2_working_capacity [mL/g]": -4.638792564275875,
         "_deepnote_index_column": "pretest_1598"
        },
        {
         "CO2_working_capacity [mL/g]": -3.1049664283864384,
         "_deepnote_index_column": "pretest_1599"
        },
        {
         "CO2_working_capacity [mL/g]": -1.2828528914424038,
         "_deepnote_index_column": "pretest_1600"
        },
        {
         "CO2_working_capacity [mL/g]": 1.1460230870067525,
         "_deepnote_index_column": "pretest_1601"
        },
        {
         "CO2_working_capacity [mL/g]": -0.6078954550491014,
         "_deepnote_index_column": "pretest_1602"
        },
        {
         "CO2_working_capacity [mL/g]": 0.4054156620152095,
         "_deepnote_index_column": "pretest_1603"
        },
        {
         "CO2_working_capacity [mL/g]": -8.822284784717509,
         "_deepnote_index_column": "pretest_1604"
        },
        {
         "CO2_working_capacity [mL/g]": -4.528199773383812,
         "_deepnote_index_column": "pretest_1605"
        },
        {
         "CO2_working_capacity [mL/g]": 17.323940528515674,
         "_deepnote_index_column": "pretest_1606"
        },
        {
         "CO2_working_capacity [mL/g]": -6.191648296394755,
         "_deepnote_index_column": "pretest_1607"
        },
        {
         "CO2_working_capacity [mL/g]": -4.335280930512159,
         "_deepnote_index_column": "pretest_1608"
        },
        {
         "CO2_working_capacity [mL/g]": 0.6156503653493942,
         "_deepnote_index_column": "pretest_1609"
        },
        {
         "CO2_working_capacity [mL/g]": -2.3605371417391665,
         "_deepnote_index_column": "pretest_1610"
        },
        {
         "CO2_working_capacity [mL/g]": 5.808753521152769,
         "_deepnote_index_column": "pretest_1611"
        },
        {
         "CO2_working_capacity [mL/g]": -0.8561455626084375,
         "_deepnote_index_column": "pretest_1612"
        },
        {
         "CO2_working_capacity [mL/g]": -2.884852038885021,
         "_deepnote_index_column": "pretest_1613"
        },
        {
         "CO2_working_capacity [mL/g]": -4.97904759811148,
         "_deepnote_index_column": "pretest_1614"
        },
        {
         "CO2_working_capacity [mL/g]": -11.040677739264066,
         "_deepnote_index_column": "pretest_1615"
        },
        {
         "CO2_working_capacity [mL/g]": -0.3764997035524765,
         "_deepnote_index_column": "pretest_1616"
        },
        {
         "CO2_working_capacity [mL/g]": -8.61005721499683,
         "_deepnote_index_column": "pretest_1617"
        },
        {
         "CO2_working_capacity [mL/g]": -4.89280599164283,
         "_deepnote_index_column": "pretest_1618"
        },
        {
         "CO2_working_capacity [mL/g]": -13.526894223138635,
         "_deepnote_index_column": "pretest_1619"
        },
        {
         "CO2_working_capacity [mL/g]": -0.7596734282644242,
         "_deepnote_index_column": "pretest_1620"
        },
        {
         "CO2_working_capacity [mL/g]": 1.7517527948441143,
         "_deepnote_index_column": "pretest_1621"
        },
        {
         "CO2_working_capacity [mL/g]": -5.359960733589642,
         "_deepnote_index_column": "pretest_1622"
        },
        {
         "CO2_working_capacity [mL/g]": -2.422696040429318,
         "_deepnote_index_column": "pretest_1623"
        },
        {
         "CO2_working_capacity [mL/g]": 1.374456540347031,
         "_deepnote_index_column": "pretest_1624"
        },
        {
         "CO2_working_capacity [mL/g]": 6.331097709466775,
         "_deepnote_index_column": "pretest_1625"
        },
        {
         "CO2_working_capacity [mL/g]": 2.5701872496062186,
         "_deepnote_index_column": "pretest_1626"
        },
        {
         "CO2_working_capacity [mL/g]": -6.419851350180888,
         "_deepnote_index_column": "pretest_1627"
        },
        {
         "CO2_working_capacity [mL/g]": 2.1452734536453835,
         "_deepnote_index_column": "pretest_1628"
        },
        {
         "CO2_working_capacity [mL/g]": -7.575181016096954,
         "_deepnote_index_column": "pretest_1629"
        },
        {
         "CO2_working_capacity [mL/g]": -1.73167263250868,
         "_deepnote_index_column": "pretest_1630"
        },
        {
         "CO2_working_capacity [mL/g]": -6.59495739737887,
         "_deepnote_index_column": "pretest_1631"
        },
        {
         "CO2_working_capacity [mL/g]": 2.939305613050201,
         "_deepnote_index_column": "pretest_1632"
        },
        {
         "CO2_working_capacity [mL/g]": 3.1705127172816323,
         "_deepnote_index_column": "pretest_1633"
        },
        {
         "CO2_working_capacity [mL/g]": 2.203987072934923,
         "_deepnote_index_column": "pretest_1634"
        },
        {
         "CO2_working_capacity [mL/g]": 38.849487184842516,
         "_deepnote_index_column": "pretest_1635"
        },
        {
         "CO2_working_capacity [mL/g]": 7.532927284583753,
         "_deepnote_index_column": "pretest_1636"
        },
        {
         "CO2_working_capacity [mL/g]": 0.15301677551924642,
         "_deepnote_index_column": "pretest_1637"
        },
        {
         "CO2_working_capacity [mL/g]": -9.729187583648123,
         "_deepnote_index_column": "pretest_1638"
        },
        {
         "CO2_working_capacity [mL/g]": -2.6106944079840257,
         "_deepnote_index_column": "pretest_1639"
        },
        {
         "CO2_working_capacity [mL/g]": 7.667373790358082,
         "_deepnote_index_column": "pretest_1640"
        },
        {
         "CO2_working_capacity [mL/g]": 1.521983785594476,
         "_deepnote_index_column": "pretest_1641"
        },
        {
         "CO2_working_capacity [mL/g]": 47.131668337261914,
         "_deepnote_index_column": "pretest_1642"
        },
        {
         "CO2_working_capacity [mL/g]": 3.4961033117124156,
         "_deepnote_index_column": "pretest_1643"
        },
        {
         "CO2_working_capacity [mL/g]": 1.2208835149422488,
         "_deepnote_index_column": "pretest_1644"
        },
        {
         "CO2_working_capacity [mL/g]": 1.3343066267281325,
         "_deepnote_index_column": "pretest_1645"
        },
        {
         "CO2_working_capacity [mL/g]": 3.7091692677359975,
         "_deepnote_index_column": "pretest_1646"
        },
        {
         "CO2_working_capacity [mL/g]": -0.49850854340450296,
         "_deepnote_index_column": "pretest_1647"
        },
        {
         "CO2_working_capacity [mL/g]": -3.748438047002192,
         "_deepnote_index_column": "pretest_1648"
        },
        {
         "CO2_working_capacity [mL/g]": -13.653030257752212,
         "_deepnote_index_column": "pretest_1649"
        },
        {
         "CO2_working_capacity [mL/g]": -6.013777640830561,
         "_deepnote_index_column": "pretest_1650"
        },
        {
         "CO2_working_capacity [mL/g]": 9.815693271607552,
         "_deepnote_index_column": "pretest_1651"
        },
        {
         "CO2_working_capacity [mL/g]": -4.45472717809585,
         "_deepnote_index_column": "pretest_1652"
        },
        {
         "CO2_working_capacity [mL/g]": 1.6918579454320102,
         "_deepnote_index_column": "pretest_1653"
        },
        {
         "CO2_working_capacity [mL/g]": 22.870152263189226,
         "_deepnote_index_column": "pretest_1654"
        },
        {
         "CO2_working_capacity [mL/g]": 1.0144966013517227,
         "_deepnote_index_column": "pretest_1655"
        },
        {
         "CO2_working_capacity [mL/g]": -1.4434364291513162,
         "_deepnote_index_column": "pretest_1656"
        },
        {
         "CO2_working_capacity [mL/g]": -2.0242426523530295,
         "_deepnote_index_column": "pretest_1657"
        },
        {
         "CO2_working_capacity [mL/g]": 4.27798335550569,
         "_deepnote_index_column": "pretest_1658"
        },
        {
         "CO2_working_capacity [mL/g]": 3.7998054980448988,
         "_deepnote_index_column": "pretest_1659"
        },
        {
         "CO2_working_capacity [mL/g]": -6.761794425912594,
         "_deepnote_index_column": "pretest_1660"
        },
        {
         "CO2_working_capacity [mL/g]": 1.8176712643740864,
         "_deepnote_index_column": "pretest_1661"
        },
        {
         "CO2_working_capacity [mL/g]": -3.4811444843863666,
         "_deepnote_index_column": "pretest_1662"
        },
        {
         "CO2_working_capacity [mL/g]": -8.413236327801144,
         "_deepnote_index_column": "pretest_1663"
        },
        {
         "CO2_working_capacity [mL/g]": -0.6442383950707916,
         "_deepnote_index_column": "pretest_1664"
        },
        {
         "CO2_working_capacity [mL/g]": 5.864814487323015,
         "_deepnote_index_column": "pretest_1665"
        },
        {
         "CO2_working_capacity [mL/g]": -5.22493922144795,
         "_deepnote_index_column": "pretest_1666"
        },
        {
         "CO2_working_capacity [mL/g]": -2.155294298319084,
         "_deepnote_index_column": "pretest_1667"
        },
        {
         "CO2_working_capacity [mL/g]": -6.34606025659593,
         "_deepnote_index_column": "pretest_1668"
        },
        {
         "CO2_working_capacity [mL/g]": 2.7327070893817207,
         "_deepnote_index_column": "pretest_1669"
        },
        {
         "CO2_working_capacity [mL/g]": -5.469612534833756,
         "_deepnote_index_column": "pretest_1670"
        },
        {
         "CO2_working_capacity [mL/g]": -6.029809079316118,
         "_deepnote_index_column": "pretest_1671"
        },
        {
         "CO2_working_capacity [mL/g]": 0.7123625961414785,
         "_deepnote_index_column": "pretest_1672"
        },
        {
         "CO2_working_capacity [mL/g]": 0.446908814581332,
         "_deepnote_index_column": "pretest_1673"
        },
        {
         "CO2_working_capacity [mL/g]": 2.6541349813500568,
         "_deepnote_index_column": "pretest_1674"
        },
        {
         "CO2_working_capacity [mL/g]": -6.555485670842171,
         "_deepnote_index_column": "pretest_1675"
        },
        {
         "CO2_working_capacity [mL/g]": -2.6252311960583823,
         "_deepnote_index_column": "pretest_1676"
        },
        {
         "CO2_working_capacity [mL/g]": -5.652831170479379,
         "_deepnote_index_column": "pretest_1677"
        },
        {
         "CO2_working_capacity [mL/g]": 2.2781668914799,
         "_deepnote_index_column": "pretest_1678"
        },
        {
         "CO2_working_capacity [mL/g]": 40.85189966675495,
         "_deepnote_index_column": "pretest_1679"
        },
        {
         "CO2_working_capacity [mL/g]": 0.5980689043270635,
         "_deepnote_index_column": "pretest_1680"
        },
        {
         "CO2_working_capacity [mL/g]": 6.406379257636449,
         "_deepnote_index_column": "pretest_1681"
        },
        {
         "CO2_working_capacity [mL/g]": 1.2146771223432118,
         "_deepnote_index_column": "pretest_1682"
        },
        {
         "CO2_working_capacity [mL/g]": 37.837587510084205,
         "_deepnote_index_column": "pretest_1683"
        },
        {
         "CO2_working_capacity [mL/g]": -4.201460199442109,
         "_deepnote_index_column": "pretest_1684"
        },
        {
         "CO2_working_capacity [mL/g]": -0.889726449106312,
         "_deepnote_index_column": "pretest_1685"
        },
        {
         "CO2_working_capacity [mL/g]": -0.16733739129114014,
         "_deepnote_index_column": "pretest_1686"
        },
        {
         "CO2_working_capacity [mL/g]": -1.704602679343248,
         "_deepnote_index_column": "pretest_1687"
        },
        {
         "CO2_working_capacity [mL/g]": 5.565353303691333,
         "_deepnote_index_column": "pretest_1688"
        },
        {
         "CO2_working_capacity [mL/g]": -0.23683169350883773,
         "_deepnote_index_column": "pretest_1689"
        },
        {
         "CO2_working_capacity [mL/g]": -0.261279131797441,
         "_deepnote_index_column": "pretest_1690"
        },
        {
         "CO2_working_capacity [mL/g]": 0.5011893271088738,
         "_deepnote_index_column": "pretest_1691"
        },
        {
         "CO2_working_capacity [mL/g]": -1.306223353176702,
         "_deepnote_index_column": "pretest_1692"
        },
        {
         "CO2_working_capacity [mL/g]": -0.478152152718373,
         "_deepnote_index_column": "pretest_1693"
        },
        {
         "CO2_working_capacity [mL/g]": -0.10265452020618937,
         "_deepnote_index_column": "pretest_1694"
        },
        {
         "CO2_working_capacity [mL/g]": -0.6725426194706751,
         "_deepnote_index_column": "pretest_1695"
        },
        {
         "CO2_working_capacity [mL/g]": -3.7479902787530386,
         "_deepnote_index_column": "pretest_1696"
        },
        {
         "CO2_working_capacity [mL/g]": -0.9309888342802297,
         "_deepnote_index_column": "pretest_1697"
        },
        {
         "CO2_working_capacity [mL/g]": -2.7289440577448305,
         "_deepnote_index_column": "pretest_1698"
        },
        {
         "CO2_working_capacity [mL/g]": 4.690455184446828,
         "_deepnote_index_column": "pretest_1699"
        },
        {
         "CO2_working_capacity [mL/g]": 1.1243702884262299,
         "_deepnote_index_column": "pretest_1700"
        },
        {
         "CO2_working_capacity [mL/g]": 17.26774998675829,
         "_deepnote_index_column": "pretest_1701"
        },
        {
         "CO2_working_capacity [mL/g]": 2.7028386267304016,
         "_deepnote_index_column": "pretest_1702"
        },
        {
         "CO2_working_capacity [mL/g]": -2.8859378312803257,
         "_deepnote_index_column": "pretest_1703"
        },
        {
         "CO2_working_capacity [mL/g]": 0.8504437396658372,
         "_deepnote_index_column": "pretest_1704"
        },
        {
         "CO2_working_capacity [mL/g]": 14.758369332651998,
         "_deepnote_index_column": "pretest_1705"
        },
        {
         "CO2_working_capacity [mL/g]": 1.6264465525906393,
         "_deepnote_index_column": "pretest_1706"
        },
        {
         "CO2_working_capacity [mL/g]": 5.0263193996309585,
         "_deepnote_index_column": "pretest_1707"
        },
        {
         "CO2_working_capacity [mL/g]": -2.7959123221379834,
         "_deepnote_index_column": "pretest_1708"
        },
        {
         "CO2_working_capacity [mL/g]": -2.963867551994741,
         "_deepnote_index_column": "pretest_1709"
        },
        {
         "CO2_working_capacity [mL/g]": 9.446525898434448,
         "_deepnote_index_column": "pretest_1710"
        },
        {
         "CO2_working_capacity [mL/g]": 3.7730108658141757,
         "_deepnote_index_column": "pretest_1711"
        },
        {
         "CO2_working_capacity [mL/g]": 2.9087714311706425,
         "_deepnote_index_column": "pretest_1712"
        },
        {
         "CO2_working_capacity [mL/g]": -4.511740805223027,
         "_deepnote_index_column": "pretest_1713"
        },
        {
         "CO2_working_capacity [mL/g]": 3.061642395152414,
         "_deepnote_index_column": "pretest_1714"
        },
        {
         "CO2_working_capacity [mL/g]": -1.7388335419409384,
         "_deepnote_index_column": "pretest_1715"
        },
        {
         "CO2_working_capacity [mL/g]": -1.9284676512472338,
         "_deepnote_index_column": "pretest_1716"
        },
        {
         "CO2_working_capacity [mL/g]": 0.8740692305596655,
         "_deepnote_index_column": "pretest_1717"
        },
        {
         "CO2_working_capacity [mL/g]": 16.787685071451104,
         "_deepnote_index_column": "pretest_1718"
        },
        {
         "CO2_working_capacity [mL/g]": 2.57580122016443,
         "_deepnote_index_column": "pretest_1719"
        },
        {
         "CO2_working_capacity [mL/g]": 14.811116203435029,
         "_deepnote_index_column": "pretest_1720"
        },
        {
         "CO2_working_capacity [mL/g]": 5.186951052729836,
         "_deepnote_index_column": "pretest_1721"
        },
        {
         "CO2_working_capacity [mL/g]": -0.6160932853828285,
         "_deepnote_index_column": "pretest_1722"
        },
        {
         "CO2_working_capacity [mL/g]": -0.6106989952297296,
         "_deepnote_index_column": "pretest_1723"
        },
        {
         "CO2_working_capacity [mL/g]": -6.653264032686147,
         "_deepnote_index_column": "pretest_1724"
        },
        {
         "CO2_working_capacity [mL/g]": -0.8975844259872946,
         "_deepnote_index_column": "pretest_1725"
        },
        {
         "CO2_working_capacity [mL/g]": 1.2328808895195769,
         "_deepnote_index_column": "pretest_1726"
        },
        {
         "CO2_working_capacity [mL/g]": 2.9621144783351565,
         "_deepnote_index_column": "pretest_1727"
        },
        {
         "CO2_working_capacity [mL/g]": -12.158338004943436,
         "_deepnote_index_column": "pretest_1728"
        },
        {
         "CO2_working_capacity [mL/g]": -6.716956499004464,
         "_deepnote_index_column": "pretest_1729"
        },
        {
         "CO2_working_capacity [mL/g]": 3.3834783557904315,
         "_deepnote_index_column": "pretest_1730"
        },
        {
         "CO2_working_capacity [mL/g]": -4.380559430889598,
         "_deepnote_index_column": "pretest_1731"
        },
        {
         "CO2_working_capacity [mL/g]": -4.078008697510136,
         "_deepnote_index_column": "pretest_1732"
        },
        {
         "CO2_working_capacity [mL/g]": 2.3064333708737803,
         "_deepnote_index_column": "pretest_1733"
        },
        {
         "CO2_working_capacity [mL/g]": 58.6789923437464,
         "_deepnote_index_column": "pretest_1734"
        },
        {
         "CO2_working_capacity [mL/g]": -1.3637200320075868,
         "_deepnote_index_column": "pretest_1735"
        },
        {
         "CO2_working_capacity [mL/g]": -0.9481761547328353,
         "_deepnote_index_column": "pretest_1736"
        },
        {
         "CO2_working_capacity [mL/g]": -10.067961243346721,
         "_deepnote_index_column": "pretest_1737"
        },
        {
         "CO2_working_capacity [mL/g]": 2.1332586253994656,
         "_deepnote_index_column": "pretest_1738"
        },
        {
         "CO2_working_capacity [mL/g]": 5.101752878171322,
         "_deepnote_index_column": "pretest_1739"
        },
        {
         "CO2_working_capacity [mL/g]": -2.6129237814813417,
         "_deepnote_index_column": "pretest_1740"
        },
        {
         "CO2_working_capacity [mL/g]": -4.854071467801183,
         "_deepnote_index_column": "pretest_1741"
        },
        {
         "CO2_working_capacity [mL/g]": -2.5734966895306566,
         "_deepnote_index_column": "pretest_1742"
        },
        {
         "CO2_working_capacity [mL/g]": 6.950643878717712,
         "_deepnote_index_column": "pretest_1743"
        },
        {
         "CO2_working_capacity [mL/g]": -0.04243875258745135,
         "_deepnote_index_column": "pretest_1744"
        },
        {
         "CO2_working_capacity [mL/g]": -1.6828754737588605,
         "_deepnote_index_column": "pretest_1745"
        },
        {
         "CO2_working_capacity [mL/g]": 15.79551574731872,
         "_deepnote_index_column": "pretest_1746"
        },
        {
         "CO2_working_capacity [mL/g]": 4.290132570355556,
         "_deepnote_index_column": "pretest_1747"
        },
        {
         "CO2_working_capacity [mL/g]": -0.5729125037393438,
         "_deepnote_index_column": "pretest_1748"
        },
        {
         "CO2_working_capacity [mL/g]": -6.099328325606548,
         "_deepnote_index_column": "pretest_1749"
        },
        {
         "CO2_working_capacity [mL/g]": -0.16234714359634508,
         "_deepnote_index_column": "pretest_1750"
        },
        {
         "CO2_working_capacity [mL/g]": -7.405556166394596,
         "_deepnote_index_column": "pretest_1751"
        },
        {
         "CO2_working_capacity [mL/g]": -1.5270039373532274,
         "_deepnote_index_column": "pretest_1752"
        },
        {
         "CO2_working_capacity [mL/g]": -5.78763143078794,
         "_deepnote_index_column": "pretest_1753"
        },
        {
         "CO2_working_capacity [mL/g]": 0.3672680142731686,
         "_deepnote_index_column": "pretest_1754"
        },
        {
         "CO2_working_capacity [mL/g]": -4.106324993932734,
         "_deepnote_index_column": "pretest_1755"
        },
        {
         "CO2_working_capacity [mL/g]": -4.820191473044065,
         "_deepnote_index_column": "pretest_1756"
        },
        {
         "CO2_working_capacity [mL/g]": -2.723443887486159,
         "_deepnote_index_column": "pretest_1757"
        },
        {
         "CO2_working_capacity [mL/g]": -4.563720852907436,
         "_deepnote_index_column": "pretest_1758"
        },
        {
         "CO2_working_capacity [mL/g]": -3.9997154312844994,
         "_deepnote_index_column": "pretest_1759"
        },
        {
         "CO2_working_capacity [mL/g]": 10.490326267697322,
         "_deepnote_index_column": "pretest_1760"
        },
        {
         "CO2_working_capacity [mL/g]": 40.57853555077372,
         "_deepnote_index_column": "pretest_1761"
        },
        {
         "CO2_working_capacity [mL/g]": 14.530282240314422,
         "_deepnote_index_column": "pretest_1762"
        },
        {
         "CO2_working_capacity [mL/g]": -1.024703527096505,
         "_deepnote_index_column": "pretest_1763"
        },
        {
         "CO2_working_capacity [mL/g]": 12.27388735311733,
         "_deepnote_index_column": "pretest_1764"
        },
        {
         "CO2_working_capacity [mL/g]": 0.8715142203188576,
         "_deepnote_index_column": "pretest_1765"
        },
        {
         "CO2_working_capacity [mL/g]": -7.086982606168316,
         "_deepnote_index_column": "pretest_1766"
        },
        {
         "CO2_working_capacity [mL/g]": -4.347594860197992,
         "_deepnote_index_column": "pretest_1767"
        },
        {
         "CO2_working_capacity [mL/g]": -6.3446018144518375,
         "_deepnote_index_column": "pretest_1768"
        },
        {
         "CO2_working_capacity [mL/g]": -11.638169776581266,
         "_deepnote_index_column": "pretest_1769"
        },
        {
         "CO2_working_capacity [mL/g]": -5.940677528836418,
         "_deepnote_index_column": "pretest_1770"
        },
        {
         "CO2_working_capacity [mL/g]": -1.7787824394165268,
         "_deepnote_index_column": "pretest_1771"
        },
        {
         "CO2_working_capacity [mL/g]": -6.769316636287415,
         "_deepnote_index_column": "pretest_1772"
        },
        {
         "CO2_working_capacity [mL/g]": 1.2878405196664091,
         "_deepnote_index_column": "pretest_1773"
        },
        {
         "CO2_working_capacity [mL/g]": -1.4612265385497891,
         "_deepnote_index_column": "pretest_1774"
        },
        {
         "CO2_working_capacity [mL/g]": -4.8087854541708674,
         "_deepnote_index_column": "pretest_1775"
        },
        {
         "CO2_working_capacity [mL/g]": -1.9800170027615696,
         "_deepnote_index_column": "pretest_1776"
        },
        {
         "CO2_working_capacity [mL/g]": 0.2959916642470297,
         "_deepnote_index_column": "pretest_1777"
        },
        {
         "CO2_working_capacity [mL/g]": -10.569206992993317,
         "_deepnote_index_column": "pretest_1778"
        },
        {
         "CO2_working_capacity [mL/g]": -13.553656779411149,
         "_deepnote_index_column": "pretest_1779"
        },
        {
         "CO2_working_capacity [mL/g]": 1.8681986573688423,
         "_deepnote_index_column": "pretest_1780"
        },
        {
         "CO2_working_capacity [mL/g]": -0.10661296816996355,
         "_deepnote_index_column": "pretest_1781"
        },
        {
         "CO2_working_capacity [mL/g]": -4.706152546458236,
         "_deepnote_index_column": "pretest_1782"
        },
        {
         "CO2_working_capacity [mL/g]": -2.356528402431771,
         "_deepnote_index_column": "pretest_1783"
        },
        {
         "CO2_working_capacity [mL/g]": 5.917959974361272,
         "_deepnote_index_column": "pretest_1784"
        },
        {
         "CO2_working_capacity [mL/g]": -3.7542300480168898,
         "_deepnote_index_column": "pretest_1785"
        },
        {
         "CO2_working_capacity [mL/g]": 87.68915723531445,
         "_deepnote_index_column": "pretest_1786"
        },
        {
         "CO2_working_capacity [mL/g]": 17.512868513354668,
         "_deepnote_index_column": "pretest_1787"
        },
        {
         "CO2_working_capacity [mL/g]": 2.0917193697880494,
         "_deepnote_index_column": "pretest_1788"
        },
        {
         "CO2_working_capacity [mL/g]": -1.9890750008348987,
         "_deepnote_index_column": "pretest_1789"
        },
        {
         "CO2_working_capacity [mL/g]": -2.9511421444894586,
         "_deepnote_index_column": "pretest_1790"
        },
        {
         "CO2_working_capacity [mL/g]": 3.9372969329998586,
         "_deepnote_index_column": "pretest_1791"
        },
        {
         "CO2_working_capacity [mL/g]": -0.6007237464083346,
         "_deepnote_index_column": "pretest_1792"
        },
        {
         "CO2_working_capacity [mL/g]": 37.14145880198373,
         "_deepnote_index_column": "pretest_1793"
        },
        {
         "CO2_working_capacity [mL/g]": -3.6726071564495792,
         "_deepnote_index_column": "pretest_1794"
        },
        {
         "CO2_working_capacity [mL/g]": -3.7484919066190945,
         "_deepnote_index_column": "pretest_1795"
        },
        {
         "CO2_working_capacity [mL/g]": 0.020447951468105713,
         "_deepnote_index_column": "pretest_1796"
        },
        {
         "CO2_working_capacity [mL/g]": 16.802653724408195,
         "_deepnote_index_column": "pretest_1797"
        },
        {
         "CO2_working_capacity [mL/g]": -1.153872027045575,
         "_deepnote_index_column": "pretest_1798"
        },
        {
         "CO2_working_capacity [mL/g]": 2.2387403611893686,
         "_deepnote_index_column": "pretest_1799"
        },
        {
         "CO2_working_capacity [mL/g]": 3.1454371455784877,
         "_deepnote_index_column": "pretest_1800"
        },
        {
         "CO2_working_capacity [mL/g]": 0.15706877080848883,
         "_deepnote_index_column": "pretest_1801"
        },
        {
         "CO2_working_capacity [mL/g]": 56.526572873010494,
         "_deepnote_index_column": "pretest_1802"
        },
        {
         "CO2_working_capacity [mL/g]": 6.942445846388811,
         "_deepnote_index_column": "pretest_1803"
        },
        {
         "CO2_working_capacity [mL/g]": 5.6776578468593835,
         "_deepnote_index_column": "pretest_1804"
        },
        {
         "CO2_working_capacity [mL/g]": -0.6977208080048672,
         "_deepnote_index_column": "pretest_1805"
        },
        {
         "CO2_working_capacity [mL/g]": -4.844149541115592,
         "_deepnote_index_column": "pretest_1806"
        },
        {
         "CO2_working_capacity [mL/g]": -3.4020080912303454,
         "_deepnote_index_column": "pretest_1807"
        },
        {
         "CO2_working_capacity [mL/g]": 0.40397848702959194,
         "_deepnote_index_column": "pretest_1808"
        },
        {
         "CO2_working_capacity [mL/g]": 8.928878124475293,
         "_deepnote_index_column": "pretest_1809"
        },
        {
         "CO2_working_capacity [mL/g]": 0.7042458368037277,
         "_deepnote_index_column": "pretest_1810"
        },
        {
         "CO2_working_capacity [mL/g]": -4.396010546514086,
         "_deepnote_index_column": "pretest_1811"
        },
        {
         "CO2_working_capacity [mL/g]": -7.077981198079721,
         "_deepnote_index_column": "pretest_1812"
        },
        {
         "CO2_working_capacity [mL/g]": -0.023506606361458182,
         "_deepnote_index_column": "pretest_1813"
        },
        {
         "CO2_working_capacity [mL/g]": -12.123916589523365,
         "_deepnote_index_column": "pretest_1814"
        },
        {
         "CO2_working_capacity [mL/g]": -4.128509636337055,
         "_deepnote_index_column": "pretest_1815"
        },
        {
         "CO2_working_capacity [mL/g]": -8.112162972311168,
         "_deepnote_index_column": "pretest_1816"
        },
        {
         "CO2_working_capacity [mL/g]": -6.169025931346694,
         "_deepnote_index_column": "pretest_1817"
        },
        {
         "CO2_working_capacity [mL/g]": 9.11179082551179,
         "_deepnote_index_column": "pretest_1818"
        },
        {
         "CO2_working_capacity [mL/g]": -1.9396130687687094,
         "_deepnote_index_column": "pretest_1819"
        },
        {
         "CO2_working_capacity [mL/g]": 3.092205173381842,
         "_deepnote_index_column": "pretest_1820"
        },
        {
         "CO2_working_capacity [mL/g]": -1.5951333816154483,
         "_deepnote_index_column": "pretest_1821"
        },
        {
         "CO2_working_capacity [mL/g]": 24.814762228126845,
         "_deepnote_index_column": "pretest_1822"
        },
        {
         "CO2_working_capacity [mL/g]": 15.029759348822711,
         "_deepnote_index_column": "pretest_1823"
        },
        {
         "CO2_working_capacity [mL/g]": 4.826208717756441,
         "_deepnote_index_column": "pretest_1824"
        },
        {
         "CO2_working_capacity [mL/g]": 2.3789209754202814,
         "_deepnote_index_column": "pretest_1825"
        },
        {
         "CO2_working_capacity [mL/g]": -2.002765346030536,
         "_deepnote_index_column": "pretest_1826"
        },
        {
         "CO2_working_capacity [mL/g]": -2.537754478441428,
         "_deepnote_index_column": "pretest_1827"
        },
        {
         "CO2_working_capacity [mL/g]": -0.3168168879935871,
         "_deepnote_index_column": "pretest_1828"
        },
        {
         "CO2_working_capacity [mL/g]": -7.105345586063092,
         "_deepnote_index_column": "pretest_1829"
        },
        {
         "CO2_working_capacity [mL/g]": 3.754819950012228,
         "_deepnote_index_column": "pretest_1830"
        },
        {
         "CO2_working_capacity [mL/g]": 54.337659885624404,
         "_deepnote_index_column": "pretest_1831"
        },
        {
         "CO2_working_capacity [mL/g]": -2.4068974619131085,
         "_deepnote_index_column": "pretest_1832"
        },
        {
         "CO2_working_capacity [mL/g]": 4.171359690519227,
         "_deepnote_index_column": "pretest_1833"
        },
        {
         "CO2_working_capacity [mL/g]": -3.676704392392072,
         "_deepnote_index_column": "pretest_1834"
        },
        {
         "CO2_working_capacity [mL/g]": 0.43006036313086227,
         "_deepnote_index_column": "pretest_1835"
        },
        {
         "CO2_working_capacity [mL/g]": 1.2701079227159484,
         "_deepnote_index_column": "pretest_1836"
        },
        {
         "CO2_working_capacity [mL/g]": -1.3770141990691767,
         "_deepnote_index_column": "pretest_1837"
        },
        {
         "CO2_working_capacity [mL/g]": -8.723353157142807,
         "_deepnote_index_column": "pretest_1838"
        },
        {
         "CO2_working_capacity [mL/g]": 4.700277601536835,
         "_deepnote_index_column": "pretest_1839"
        },
        {
         "CO2_working_capacity [mL/g]": -1.7976206315979626,
         "_deepnote_index_column": "pretest_1840"
        },
        {
         "CO2_working_capacity [mL/g]": -14.451569476243124,
         "_deepnote_index_column": "pretest_1841"
        },
        {
         "CO2_working_capacity [mL/g]": -8.49816847172614,
         "_deepnote_index_column": "pretest_1842"
        },
        {
         "CO2_working_capacity [mL/g]": -3.376466367363348,
         "_deepnote_index_column": "pretest_1843"
        },
        {
         "CO2_working_capacity [mL/g]": 1.6073194129264612,
         "_deepnote_index_column": "pretest_1844"
        },
        {
         "CO2_working_capacity [mL/g]": -11.138107313475025,
         "_deepnote_index_column": "pretest_1845"
        },
        {
         "CO2_working_capacity [mL/g]": -4.269995717300208,
         "_deepnote_index_column": "pretest_1846"
        },
        {
         "CO2_working_capacity [mL/g]": -0.39938390214145897,
         "_deepnote_index_column": "pretest_1847"
        },
        {
         "CO2_working_capacity [mL/g]": 1.6011441670751867,
         "_deepnote_index_column": "pretest_1848"
        },
        {
         "CO2_working_capacity [mL/g]": -8.971145310110101,
         "_deepnote_index_column": "pretest_1849"
        },
        {
         "CO2_working_capacity [mL/g]": 1.5646107056889087,
         "_deepnote_index_column": "pretest_1850"
        },
        {
         "CO2_working_capacity [mL/g]": 21.3027717551184,
         "_deepnote_index_column": "pretest_1851"
        },
        {
         "CO2_working_capacity [mL/g]": 15.145563466001306,
         "_deepnote_index_column": "pretest_1852"
        },
        {
         "CO2_working_capacity [mL/g]": 7.374080156810711,
         "_deepnote_index_column": "pretest_1853"
        },
        {
         "CO2_working_capacity [mL/g]": 11.782692150914773,
         "_deepnote_index_column": "pretest_1854"
        },
        {
         "CO2_working_capacity [mL/g]": 33.058013299299546,
         "_deepnote_index_column": "pretest_1855"
        },
        {
         "CO2_working_capacity [mL/g]": -2.2715010990126046,
         "_deepnote_index_column": "pretest_1856"
        },
        {
         "CO2_working_capacity [mL/g]": 2.1682052173144752,
         "_deepnote_index_column": "pretest_1857"
        },
        {
         "CO2_working_capacity [mL/g]": 28.575433494426605,
         "_deepnote_index_column": "pretest_1858"
        },
        {
         "CO2_working_capacity [mL/g]": 0.3921985862696758,
         "_deepnote_index_column": "pretest_1859"
        },
        {
         "CO2_working_capacity [mL/g]": 39.326899058361576,
         "_deepnote_index_column": "pretest_1860"
        },
        {
         "CO2_working_capacity [mL/g]": -3.9989735177999592,
         "_deepnote_index_column": "pretest_1861"
        },
        {
         "CO2_working_capacity [mL/g]": 4.807926481094552,
         "_deepnote_index_column": "pretest_1862"
        },
        {
         "CO2_working_capacity [mL/g]": 3.3383252727998824,
         "_deepnote_index_column": "pretest_1863"
        },
        {
         "CO2_working_capacity [mL/g]": 0.46172181997426676,
         "_deepnote_index_column": "pretest_1864"
        },
        {
         "CO2_working_capacity [mL/g]": -5.445813076974892,
         "_deepnote_index_column": "pretest_1865"
        },
        {
         "CO2_working_capacity [mL/g]": 2.8708880290533494,
         "_deepnote_index_column": "pretest_1866"
        },
        {
         "CO2_working_capacity [mL/g]": 0.9010881413582021,
         "_deepnote_index_column": "pretest_1867"
        },
        {
         "CO2_working_capacity [mL/g]": -8.729625345617691,
         "_deepnote_index_column": "pretest_1868"
        },
        {
         "CO2_working_capacity [mL/g]": -2.0249068540841955,
         "_deepnote_index_column": "pretest_1869"
        },
        {
         "CO2_working_capacity [mL/g]": -5.909834356670407,
         "_deepnote_index_column": "pretest_1870"
        },
        {
         "CO2_working_capacity [mL/g]": 1.7271487273511645,
         "_deepnote_index_column": "pretest_1871"
        },
        {
         "CO2_working_capacity [mL/g]": -3.3859398933498768,
         "_deepnote_index_column": "pretest_1872"
        },
        {
         "CO2_working_capacity [mL/g]": -1.8300950280630075,
         "_deepnote_index_column": "pretest_1873"
        },
        {
         "CO2_working_capacity [mL/g]": 0.8452030915733972,
         "_deepnote_index_column": "pretest_1874"
        },
        {
         "CO2_working_capacity [mL/g]": 1.9195111976218358,
         "_deepnote_index_column": "pretest_1875"
        },
        {
         "CO2_working_capacity [mL/g]": 4.5638835880836,
         "_deepnote_index_column": "pretest_1876"
        },
        {
         "CO2_working_capacity [mL/g]": 4.101281403175766,
         "_deepnote_index_column": "pretest_1877"
        },
        {
         "CO2_working_capacity [mL/g]": -11.612395100137324,
         "_deepnote_index_column": "pretest_1878"
        },
        {
         "CO2_working_capacity [mL/g]": -2.85944478291246,
         "_deepnote_index_column": "pretest_1879"
        },
        {
         "CO2_working_capacity [mL/g]": -1.4947505456879713,
         "_deepnote_index_column": "pretest_1880"
        },
        {
         "CO2_working_capacity [mL/g]": -5.468989768831097,
         "_deepnote_index_column": "pretest_1881"
        },
        {
         "CO2_working_capacity [mL/g]": -12.008904831298377,
         "_deepnote_index_column": "pretest_1882"
        },
        {
         "CO2_working_capacity [mL/g]": 30.162499797118564,
         "_deepnote_index_column": "pretest_1883"
        },
        {
         "CO2_working_capacity [mL/g]": -0.06324157921332826,
         "_deepnote_index_column": "pretest_1884"
        },
        {
         "CO2_working_capacity [mL/g]": -4.650082189273776,
         "_deepnote_index_column": "pretest_1885"
        },
        {
         "CO2_working_capacity [mL/g]": -1.6381237003780529,
         "_deepnote_index_column": "pretest_1886"
        },
        {
         "CO2_working_capacity [mL/g]": 2.932908757172699,
         "_deepnote_index_column": "pretest_1887"
        },
        {
         "CO2_working_capacity [mL/g]": 3.861821113116816,
         "_deepnote_index_column": "pretest_1888"
        },
        {
         "CO2_working_capacity [mL/g]": -4.45753188679851,
         "_deepnote_index_column": "pretest_1889"
        },
        {
         "CO2_working_capacity [mL/g]": -1.856035037856923,
         "_deepnote_index_column": "pretest_1890"
        },
        {
         "CO2_working_capacity [mL/g]": -4.759138614547738,
         "_deepnote_index_column": "pretest_1891"
        },
        {
         "CO2_working_capacity [mL/g]": -1.916807964095459,
         "_deepnote_index_column": "pretest_1892"
        },
        {
         "CO2_working_capacity [mL/g]": 0.3809903917986111,
         "_deepnote_index_column": "pretest_1893"
        },
        {
         "CO2_working_capacity [mL/g]": -5.186314459110588,
         "_deepnote_index_column": "pretest_1894"
        },
        {
         "CO2_working_capacity [mL/g]": -2.0409974534313347,
         "_deepnote_index_column": "pretest_1895"
        },
        {
         "CO2_working_capacity [mL/g]": 2.9900095953695427,
         "_deepnote_index_column": "pretest_1896"
        },
        {
         "CO2_working_capacity [mL/g]": 2.8835146142792314,
         "_deepnote_index_column": "pretest_1897"
        },
        {
         "CO2_working_capacity [mL/g]": 49.15153289010527,
         "_deepnote_index_column": "pretest_1898"
        },
        {
         "CO2_working_capacity [mL/g]": -13.275367808176195,
         "_deepnote_index_column": "pretest_1899"
        },
        {
         "CO2_working_capacity [mL/g]": 0.8599269107174518,
         "_deepnote_index_column": "pretest_1900"
        },
        {
         "CO2_working_capacity [mL/g]": -0.20897263075049166,
         "_deepnote_index_column": "pretest_1901"
        },
        {
         "CO2_working_capacity [mL/g]": -5.688588171880472,
         "_deepnote_index_column": "pretest_1902"
        },
        {
         "CO2_working_capacity [mL/g]": 14.016304382019904,
         "_deepnote_index_column": "pretest_1903"
        },
        {
         "CO2_working_capacity [mL/g]": -3.137179694306135,
         "_deepnote_index_column": "pretest_1904"
        },
        {
         "CO2_working_capacity [mL/g]": 18.702824987091986,
         "_deepnote_index_column": "pretest_1905"
        },
        {
         "CO2_working_capacity [mL/g]": -9.373609284654258,
         "_deepnote_index_column": "pretest_1906"
        },
        {
         "CO2_working_capacity [mL/g]": 3.5593874423428713,
         "_deepnote_index_column": "pretest_1907"
        },
        {
         "CO2_working_capacity [mL/g]": 8.212099331055343,
         "_deepnote_index_column": "pretest_1908"
        },
        {
         "CO2_working_capacity [mL/g]": -7.0389992297971,
         "_deepnote_index_column": "pretest_1909"
        },
        {
         "CO2_working_capacity [mL/g]": 0.7204290103849803,
         "_deepnote_index_column": "pretest_1910"
        },
        {
         "CO2_working_capacity [mL/g]": 6.886466942931631,
         "_deepnote_index_column": "pretest_1911"
        },
        {
         "CO2_working_capacity [mL/g]": 5.797693706433682,
         "_deepnote_index_column": "pretest_1912"
        },
        {
         "CO2_working_capacity [mL/g]": -1.064514665608766,
         "_deepnote_index_column": "pretest_1913"
        },
        {
         "CO2_working_capacity [mL/g]": -5.501954511378043,
         "_deepnote_index_column": "pretest_1914"
        },
        {
         "CO2_working_capacity [mL/g]": 6.349130362395184,
         "_deepnote_index_column": "pretest_1915"
        },
        {
         "CO2_working_capacity [mL/g]": 10.692931149203059,
         "_deepnote_index_column": "pretest_1916"
        },
        {
         "CO2_working_capacity [mL/g]": -3.053165555446593,
         "_deepnote_index_column": "pretest_1917"
        },
        {
         "CO2_working_capacity [mL/g]": 2.643832055827164,
         "_deepnote_index_column": "pretest_1918"
        },
        {
         "CO2_working_capacity [mL/g]": 3.9925330064284377,
         "_deepnote_index_column": "pretest_1919"
        },
        {
         "CO2_working_capacity [mL/g]": -4.43680908034701,
         "_deepnote_index_column": "pretest_1920"
        },
        {
         "CO2_working_capacity [mL/g]": 3.881847940933108,
         "_deepnote_index_column": "pretest_1921"
        },
        {
         "CO2_working_capacity [mL/g]": -4.78433288888669,
         "_deepnote_index_column": "pretest_1922"
        },
        {
         "CO2_working_capacity [mL/g]": 3.2450747526449897,
         "_deepnote_index_column": "pretest_1923"
        },
        {
         "CO2_working_capacity [mL/g]": 2.6102026130599643,
         "_deepnote_index_column": "pretest_1924"
        },
        {
         "CO2_working_capacity [mL/g]": -2.9411720876582903,
         "_deepnote_index_column": "pretest_1925"
        },
        {
         "CO2_working_capacity [mL/g]": 5.987836782576864,
         "_deepnote_index_column": "pretest_1926"
        },
        {
         "CO2_working_capacity [mL/g]": -2.9382199151225956,
         "_deepnote_index_column": "pretest_1927"
        },
        {
         "CO2_working_capacity [mL/g]": 32.016025631438865,
         "_deepnote_index_column": "pretest_1928"
        },
        {
         "CO2_working_capacity [mL/g]": -0.02027827349889577,
         "_deepnote_index_column": "pretest_1929"
        },
        {
         "CO2_working_capacity [mL/g]": -6.158427086805947,
         "_deepnote_index_column": "pretest_1930"
        },
        {
         "CO2_working_capacity [mL/g]": -5.082110616602936,
         "_deepnote_index_column": "pretest_1931"
        },
        {
         "CO2_working_capacity [mL/g]": -2.8057347042737883,
         "_deepnote_index_column": "pretest_1932"
        },
        {
         "CO2_working_capacity [mL/g]": 6.0150414993118435,
         "_deepnote_index_column": "pretest_1933"
        },
        {
         "CO2_working_capacity [mL/g]": -2.7461633798504574,
         "_deepnote_index_column": "pretest_1934"
        },
        {
         "CO2_working_capacity [mL/g]": 8.450926950693411,
         "_deepnote_index_column": "pretest_1935"
        },
        {
         "CO2_working_capacity [mL/g]": -5.394000678105716,
         "_deepnote_index_column": "pretest_1936"
        },
        {
         "CO2_working_capacity [mL/g]": -3.1338889149868363,
         "_deepnote_index_column": "pretest_1937"
        },
        {
         "CO2_working_capacity [mL/g]": -0.14026414990776062,
         "_deepnote_index_column": "pretest_1938"
        },
        {
         "CO2_working_capacity [mL/g]": 6.383411115739216,
         "_deepnote_index_column": "pretest_1939"
        },
        {
         "CO2_working_capacity [mL/g]": -4.993014802482868,
         "_deepnote_index_column": "pretest_1940"
        },
        {
         "CO2_working_capacity [mL/g]": 1.7896786449193005,
         "_deepnote_index_column": "pretest_1941"
        },
        {
         "CO2_working_capacity [mL/g]": 3.9419852052528017,
         "_deepnote_index_column": "pretest_1942"
        },
        {
         "CO2_working_capacity [mL/g]": 1.5353853702003488,
         "_deepnote_index_column": "pretest_1943"
        },
        {
         "CO2_working_capacity [mL/g]": 3.765666987920791,
         "_deepnote_index_column": "pretest_1944"
        },
        {
         "CO2_working_capacity [mL/g]": 5.464036247190997,
         "_deepnote_index_column": "pretest_1945"
        },
        {
         "CO2_working_capacity [mL/g]": -8.005592126694255,
         "_deepnote_index_column": "pretest_1946"
        },
        {
         "CO2_working_capacity [mL/g]": -0.5230842519510587,
         "_deepnote_index_column": "pretest_1947"
        },
        {
         "CO2_working_capacity [mL/g]": -7.893435611714506,
         "_deepnote_index_column": "pretest_1948"
        },
        {
         "CO2_working_capacity [mL/g]": 7.154667584322721,
         "_deepnote_index_column": "pretest_1949"
        },
        {
         "CO2_working_capacity [mL/g]": 3.7425888817799007,
         "_deepnote_index_column": "pretest_1950"
        },
        {
         "CO2_working_capacity [mL/g]": -5.944160601192785,
         "_deepnote_index_column": "pretest_1951"
        },
        {
         "CO2_working_capacity [mL/g]": -1.03728858343929,
         "_deepnote_index_column": "pretest_1952"
        },
        {
         "CO2_working_capacity [mL/g]": 64.72304276702184,
         "_deepnote_index_column": "pretest_1953"
        },
        {
         "CO2_working_capacity [mL/g]": 2.962808084966848,
         "_deepnote_index_column": "pretest_1954"
        },
        {
         "CO2_working_capacity [mL/g]": -8.92123863472084,
         "_deepnote_index_column": "pretest_1955"
        },
        {
         "CO2_working_capacity [mL/g]": 1.7889304749726944,
         "_deepnote_index_column": "pretest_1956"
        },
        {
         "CO2_working_capacity [mL/g]": 10.94492452986543,
         "_deepnote_index_column": "pretest_1957"
        },
        {
         "CO2_working_capacity [mL/g]": 5.27410696801236,
         "_deepnote_index_column": "pretest_1958"
        },
        {
         "CO2_working_capacity [mL/g]": -5.294509639432715,
         "_deepnote_index_column": "pretest_1959"
        },
        {
         "CO2_working_capacity [mL/g]": 2.638466656368487,
         "_deepnote_index_column": "pretest_1960"
        },
        {
         "CO2_working_capacity [mL/g]": 4.081740652479096,
         "_deepnote_index_column": "pretest_1961"
        },
        {
         "CO2_working_capacity [mL/g]": 7.13142451231524,
         "_deepnote_index_column": "pretest_1962"
        },
        {
         "CO2_working_capacity [mL/g]": -14.28857171725449,
         "_deepnote_index_column": "pretest_1963"
        },
        {
         "CO2_working_capacity [mL/g]": 4.383780884511203,
         "_deepnote_index_column": "pretest_1964"
        },
        {
         "CO2_working_capacity [mL/g]": -9.183591729969015,
         "_deepnote_index_column": "pretest_1965"
        },
        {
         "CO2_working_capacity [mL/g]": -4.340113194831127,
         "_deepnote_index_column": "pretest_1966"
        },
        {
         "CO2_working_capacity [mL/g]": 52.366905001808824,
         "_deepnote_index_column": "pretest_1967"
        },
        {
         "CO2_working_capacity [mL/g]": -4.262117754771752,
         "_deepnote_index_column": "pretest_1968"
        },
        {
         "CO2_working_capacity [mL/g]": -1.2432076801503684,
         "_deepnote_index_column": "pretest_1969"
        },
        {
         "CO2_working_capacity [mL/g]": 4.347654447216566,
         "_deepnote_index_column": "pretest_1970"
        },
        {
         "CO2_working_capacity [mL/g]": 14.629089023768808,
         "_deepnote_index_column": "pretest_1971"
        },
        {
         "CO2_working_capacity [mL/g]": 3.731089990621287,
         "_deepnote_index_column": "pretest_1972"
        },
        {
         "CO2_working_capacity [mL/g]": -0.39127387178486456,
         "_deepnote_index_column": "pretest_1973"
        },
        {
         "CO2_working_capacity [mL/g]": -4.482140473378973,
         "_deepnote_index_column": "pretest_1974"
        },
        {
         "CO2_working_capacity [mL/g]": -7.927881081940743,
         "_deepnote_index_column": "pretest_1975"
        },
        {
         "CO2_working_capacity [mL/g]": -4.211178719536136,
         "_deepnote_index_column": "pretest_1976"
        },
        {
         "CO2_working_capacity [mL/g]": -8.640017831882453,
         "_deepnote_index_column": "pretest_1977"
        },
        {
         "CO2_working_capacity [mL/g]": 31.708278101083323,
         "_deepnote_index_column": "pretest_1978"
        },
        {
         "CO2_working_capacity [mL/g]": -3.5327844708137093,
         "_deepnote_index_column": "pretest_1979"
        },
        {
         "CO2_working_capacity [mL/g]": -4.135128116806945,
         "_deepnote_index_column": "pretest_1980"
        },
        {
         "CO2_working_capacity [mL/g]": 5.088524869954395,
         "_deepnote_index_column": "pretest_1981"
        },
        {
         "CO2_working_capacity [mL/g]": 1.0202910343314786,
         "_deepnote_index_column": "pretest_1982"
        },
        {
         "CO2_working_capacity [mL/g]": -1.546742040491311,
         "_deepnote_index_column": "pretest_1983"
        },
        {
         "CO2_working_capacity [mL/g]": -10.20964520807655,
         "_deepnote_index_column": "pretest_1984"
        },
        {
         "CO2_working_capacity [mL/g]": -0.6626959479019776,
         "_deepnote_index_column": "pretest_1985"
        },
        {
         "CO2_working_capacity [mL/g]": -0.6220487569902906,
         "_deepnote_index_column": "pretest_1986"
        },
        {
         "CO2_working_capacity [mL/g]": -3.592590749531134,
         "_deepnote_index_column": "pretest_1987"
        },
        {
         "CO2_working_capacity [mL/g]": -4.516564208672344,
         "_deepnote_index_column": "pretest_1988"
        },
        {
         "CO2_working_capacity [mL/g]": 5.9841339032711485,
         "_deepnote_index_column": "pretest_1989"
        },
        {
         "CO2_working_capacity [mL/g]": -2.724034231203338,
         "_deepnote_index_column": "pretest_1990"
        },
        {
         "CO2_working_capacity [mL/g]": 2.7632083251184496,
         "_deepnote_index_column": "pretest_1991"
        },
        {
         "CO2_working_capacity [mL/g]": -2.5926674493151887,
         "_deepnote_index_column": "pretest_1992"
        },
        {
         "CO2_working_capacity [mL/g]": 33.85049600490172,
         "_deepnote_index_column": "pretest_1993"
        },
        {
         "CO2_working_capacity [mL/g]": 0.926075185858442,
         "_deepnote_index_column": "pretest_1994"
        },
        {
         "CO2_working_capacity [mL/g]": -5.352014758523914,
         "_deepnote_index_column": "pretest_1995"
        },
        {
         "CO2_working_capacity [mL/g]": 0.6159152964234562,
         "_deepnote_index_column": "pretest_1996"
        },
        {
         "CO2_working_capacity [mL/g]": 6.40372285140617,
         "_deepnote_index_column": "pretest_1997"
        },
        {
         "CO2_working_capacity [mL/g]": 0.9236104839472933,
         "_deepnote_index_column": "pretest_1998"
        },
        {
         "CO2_working_capacity [mL/g]": -8.484995434578899,
         "_deepnote_index_column": "pretest_1999"
        },
        {
         "CO2_working_capacity [mL/g]": 38.2566471734356,
         "_deepnote_index_column": "pretest_2000"
        }
       ]
      },
      "text/plain": "              CO2_working_capacity [mL/g]\nid                                       \npretest_1                       99.998438\npretest_2                      124.138334\npretest_3                      191.226678\npretest_4                       64.744444\npretest_5                       93.375602\n...                                   ...\npretest_1996                     0.615915\npretest_1997                     6.403723\npretest_1998                     0.923610\npretest_1999                    -8.484995\npretest_2000                    38.256647\n\n[2000 rows x 1 columns]",
      "text/html": "<div>\n<style scoped>\n    .dataframe tbody tr th:only-of-type {\n        vertical-align: middle;\n    }\n\n    .dataframe tbody tr th {\n        vertical-align: top;\n    }\n\n    .dataframe thead th {\n        text-align: right;\n    }\n</style>\n<table border=\"1\" class=\"dataframe\">\n  <thead>\n    <tr style=\"text-align: right;\">\n      <th></th>\n      <th>CO2_working_capacity [mL/g]</th>\n    </tr>\n    <tr>\n      <th>id</th>\n      <th></th>\n    </tr>\n  </thead>\n  <tbody>\n    <tr>\n      <th>pretest_1</th>\n      <td>99.998438</td>\n    </tr>\n    <tr>\n      <th>pretest_2</th>\n      <td>124.138334</td>\n    </tr>\n    <tr>\n      <th>pretest_3</th>\n      <td>191.226678</td>\n    </tr>\n    <tr>\n      <th>pretest_4</th>\n      <td>64.744444</td>\n    </tr>\n    <tr>\n      <th>pretest_5</th>\n      <td>93.375602</td>\n    </tr>\n    <tr>\n      <th>...</th>\n      <td>...</td>\n    </tr>\n    <tr>\n      <th>pretest_1996</th>\n      <td>0.615915</td>\n    </tr>\n    <tr>\n      <th>pretest_1997</th>\n      <td>6.403723</td>\n    </tr>\n    <tr>\n      <th>pretest_1998</th>\n      <td>0.923610</td>\n    </tr>\n    <tr>\n      <th>pretest_1999</th>\n      <td>-8.484995</td>\n    </tr>\n    <tr>\n      <th>pretest_2000</th>\n      <td>38.256647</td>\n    </tr>\n  </tbody>\n</table>\n<p>2000 rows × 1 columns</p>\n</div>"
     },
     "metadata": {}
    }
   ],
   "execution_count": null
  },
  {
   "cell_type": "code",
   "metadata": {
    "tags": [],
    "cell_id": "00026-bde8d7bc-1543-4208-b65f-2f7c1cdda8b8",
    "deepnote_to_be_reexecuted": false,
    "source_hash": "8330eb30",
    "execution_start": 1632454725359,
    "execution_millis": 5,
    "deepnote_cell_type": "code"
   },
   "source": "sub.to_csv(\"submission.csv\")",
   "outputs": [],
   "execution_count": null
  },
  {
   "cell_type": "code",
   "metadata": {
    "tags": [],
    "cell_id": "00023-0017bd2d-6efe-4fb2-8362-473c2bfa61bb",
    "deepnote_to_be_reexecuted": false,
    "source_hash": "c11ec714",
    "execution_start": 1632454725367,
    "execution_millis": 105,
    "deepnote_cell_type": "code"
   },
   "source": "import zipfile\nimport hashlib\n \n\nsha256_hash = hashlib.sha256()\nwith open(\"submission.csv\",\"rb\") as f:\n    # Read and update hash string value in blocks of 4K\n    for byte_block in iter(lambda: f.read(4096),b\"\"):\n        sha256_hash.update(byte_block)\n    hash_str = sha256_hash.hexdigest()\n\nprint(hash_str)\nzipfile.ZipFile(f'{hash_str}.zip', mode='w').write(\"submission.csv\")",
   "outputs": [
    {
     "name": "stdout",
     "text": "8f12a781b0dc31999595f4946a02db24b46e2490d0e9b7e27a67b872d245e1ee\n",
     "output_type": "stream"
    }
   ],
   "execution_count": null
  },
  {
   "cell_type": "markdown",
   "source": "<a style='text-decoration:none;line-height:16px;display:flex;color:#5B5B62;padding:10px;justify-content:end;' href='https://deepnote.com?utm_source=created-in-deepnote-cell&projectId=cf8541de-dbc3-45f6-bc1e-4fa446cacbcd' target=\"_blank\">\n<img alt='Created in deepnote.com' style='display:inline;max-height:16px;margin:0px;margin-right:7.5px;' src='data:image/svg+xml;base64,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' > </img>\nCreated in <span style='font-weight:600;margin-left:4px;'>Deepnote</span></a>",
   "metadata": {
    "tags": [],
    "created_in_deepnote_cell": true,
    "deepnote_cell_type": "markdown"
   }
  }
 ],
 "nbformat": 4,
 "nbformat_minor": 2,
 "metadata": {
  "orig_nbformat": 2,
  "deepnote": {
   "is_reactive": false
  },
  "deepnote_notebook_id": "e5514e34-6975-4fe5-b324-2cd0ed87b5d9",
  "deepnote_execution_queue": []
 }
}