{
 "cells": [
  {
   "cell_type": "markdown",
   "source": "# Import modules",
   "metadata": {
    "tags": [],
    "is_collapsed": false,
    "cell_id": "00000-ec85e717-5253-4436-830b-cd502714de64",
    "deepnote_cell_type": "text-cell-h1"
   }
  },
  {
   "cell_type": "code",
   "metadata": {
    "tags": [],
    "cell_id": "00000-f4818cf3-160f-4aef-9095-58cb0e1f9e86",
    "deepnote_to_be_reexecuted": false,
    "source_hash": "1662b29d",
    "execution_start": 1632203759767,
    "execution_millis": 1773,
    "deepnote_cell_type": "code"
   },
   "source": "import pandas as pd\nfrom src.constants import (\n    PREPROCESSING_PATH,\n    TARGET\n)\n\nimport numpy as np\nfrom sklearn.impute import KNNImputer\nfrom sklearn.metrics import mean_absolute_error\nfrom sklearn.preprocessing import power_transform\nfrom catboost import CatBoostRegressor\nfrom utils.classes.extractor import FunctionalGroupToGramExtractor\n\nfrom typing import (\n    Optional,\n    List\n)\nfrom sklearn.model_selection import KFold",
   "outputs": [],
   "execution_count": 1
  },
  {
   "cell_type": "markdown",
   "source": "# Load essentials",
   "metadata": {
    "tags": [],
    "is_collapsed": false,
    "cell_id": "00002-372c35c1-86a1-4fb9-a3bb-a8425e2e7933",
    "deepnote_cell_type": "text-cell-h1"
   }
  },
  {
   "cell_type": "code",
   "metadata": {
    "tags": [],
    "cell_id": "00001-c5269b0e-4ece-4af0-97b9-365ae7c9f569",
    "deepnote_to_be_reexecuted": false,
    "source_hash": "24408d87",
    "execution_start": 1632203761547,
    "execution_millis": 580,
    "deepnote_cell_type": "code"
   },
   "source": "Train = pd.read_csv(f\"{PREPROCESSING_PATH}/train_merged_CIF/Train.csv\")\nTrain = Train.set_index(Train.columns[0])\n\nPretest = pd.read_csv(f\"{PREPROCESSING_PATH}/pretest_merged_CIF/Pretest.csv\")\nPretest = Pretest.set_index(Pretest.columns[0])\n\nfuntional_group_extractor = FunctionalGroupToGramExtractor()",
   "outputs": [],
   "execution_count": 2
  },
  {
   "cell_type": "markdown",
   "source": "# Set up pipeline",
   "metadata": {
    "tags": [],
    "is_collapsed": false,
    "cell_id": "00003-a808772e-d1d9-4d35-a6e5-8f4b42167c05",
    "deepnote_cell_type": "text-cell-h1"
   }
  },
  {
   "cell_type": "markdown",
   "source": "## Drop surface area = -1",
   "metadata": {
    "tags": [],
    "is_collapsed": false,
    "cell_id": "00004-2a0d065f-f30a-41f5-b98c-a3845a64e746",
    "deepnote_cell_type": "text-cell-h2"
   }
  },
  {
   "cell_type": "code",
   "metadata": {
    "tags": [],
    "cell_id": "00003-ff769389-0c38-4e80-9431-5e3f0a680df5",
    "deepnote_to_be_reexecuted": false,
    "source_hash": "d8d4d563",
    "execution_start": 1632203762133,
    "execution_millis": 1,
    "deepnote_cell_type": "code"
   },
   "source": "# Training set only\ndef drop_surface_area_equal_minus_1(df):\n    return df.drop(df[df['surface_area [m^2/g]'] == -1].index)",
   "outputs": [],
   "execution_count": 3
  },
  {
   "cell_type": "markdown",
   "source": "## Replace surface area = 0 with np.nan",
   "metadata": {
    "tags": [],
    "is_collapsed": false,
    "cell_id": "00006-8871b6ea-ad5b-4045-a641-79ca2c919209",
    "deepnote_cell_type": "text-cell-h2"
   }
  },
  {
   "cell_type": "code",
   "metadata": {
    "tags": [],
    "cell_id": "00002-6fe3f3fa-c17a-4805-8c4c-b9192ab07b03",
    "deepnote_to_be_reexecuted": false,
    "source_hash": "cb953ccc",
    "execution_start": 1632203762135,
    "execution_millis": 5,
    "deepnote_cell_type": "code"
   },
   "source": "def  replace_surface_area_equal_0_with_null(\n    df: pd.DataFrame\n):\n    df['surface_area [m^2/g]'] = df['surface_area [m^2/g]'].replace(0, np.nan)\n    return df",
   "outputs": [],
   "execution_count": 4
  },
  {
   "cell_type": "markdown",
   "source": "## Replace -∞ and ∞ with np.nan",
   "metadata": {
    "tags": [],
    "is_collapsed": false,
    "cell_id": "00008-d4c53e18-5540-4a1a-b452-84ca937fb1de",
    "deepnote_cell_type": "text-cell-h2"
   }
  },
  {
   "cell_type": "code",
   "metadata": {
    "tags": [],
    "cell_id": "00005-c7f02b29-7109-4de6-b3ba-da169e6d1360",
    "deepnote_to_be_reexecuted": false,
    "source_hash": "9ec80db",
    "execution_start": 1632203762147,
    "execution_millis": 0,
    "deepnote_cell_type": "code"
   },
   "source": "def replace_inf_with_null(df: pd.DataFrame):\n    df = df.replace(np.inf, np.nan)\n    df = df.replace(-np.inf, np.nan)\n    return df",
   "outputs": [],
   "execution_count": 5
  },
  {
   "cell_type": "markdown",
   "source": "## Check object columns",
   "metadata": {
    "tags": [],
    "is_collapsed": false,
    "cell_id": "00010-29a365e7-5c92-4990-98bb-91fddc8aeb5c",
    "deepnote_cell_type": "text-cell-h2"
   }
  },
  {
   "cell_type": "code",
   "metadata": {
    "tags": [],
    "cell_id": "00010-cec84415-56bb-4cc0-bb9b-d865776aa80b",
    "deepnote_to_be_reexecuted": false,
    "source_hash": "41de6c3b",
    "execution_start": 1632203762152,
    "execution_millis": 1,
    "deepnote_cell_type": "code"
   },
   "source": "def drop_unused_columns(\n    df,\n    unused_columns:Optional[List[str]]=None\n) -> pd.DataFrame:\n    if not unused_columns:\n        unused_columns = [\n            'MOFname',\n            'functional_groups',\n            'topology',\n            'cif_filepath',\n            '_audit_creation_date',\n            '_symmetry_space_group_name_H-M',\n            '_space_group_crystal_system'\n        ]\n    for col in unused_columns:\n        try:\n            df.drop(col, axis=1, inplace=True)\n        except KeyError:\n            pass\n    return df",
   "outputs": [],
   "execution_count": 6
  },
  {
   "cell_type": "code",
   "metadata": {
    "tags": [],
    "cell_id": "00003-b680f160-8a6e-47e7-9416-cb694f8a4c03",
    "deepnote_to_be_reexecuted": false,
    "source_hash": "44bf4ec6",
    "execution_start": 1632203762159,
    "execution_millis": 1,
    "deepnote_cell_type": "code"
   },
   "source": "def set_imputer(X: pd.DataFrame) -> KNNImputer:\n    imputer = KNNImputer(n_neighbors=5)\n    imputer.fit(X)\n    return imputer\n\ndef impute_value(X: pd.DataFrame, imputer: KNNImputer):\n    return imputer.transform(X)",
   "outputs": [],
   "execution_count": 7
  },
  {
   "cell_type": "code",
   "metadata": {
    "tags": [],
    "cell_id": "00014-dcce600b-06df-4bba-9e82-e03549d66556",
    "deepnote_to_be_reexecuted": false,
    "source_hash": "33985778",
    "execution_start": 1632203762202,
    "execution_millis": 1,
    "deepnote_cell_type": "code"
   },
   "source": "def extract_functional_group(\n    X: pd.DataFrame,\n    fit: bool\n)-> pd.DataFrame:\n    funtional_group_extacted = funtional_group_extractor.transform(X, fit)\n    return pd.concat([X, funtional_group_extractor], axis=1)",
   "outputs": [],
   "execution_count": 8
  },
  {
   "cell_type": "markdown",
   "source": "# Run pipeline",
   "metadata": {
    "tags": [],
    "is_collapsed": false,
    "cell_id": "00014-c0355d2c-bfc0-4d3c-9136-1b3d6dcaba2c",
    "deepnote_cell_type": "text-cell-h1"
   }
  },
  {
   "cell_type": "code",
   "metadata": {
    "tags": [],
    "cell_id": "00015-122c9c1b-4e5c-421f-abbe-7ec5258d5040",
    "deepnote_to_be_reexecuted": false,
    "source_hash": "9a30df3b",
    "execution_start": 1632203762203,
    "execution_millis": 126823,
    "deepnote_cell_type": "code"
   },
   "source": "Train = drop_surface_area_equal_minus_1(Train)\nTrain = replace_surface_area_equal_0_with_null(Train)\nTrain = replace_inf_with_null(Train)\nTrain = drop_unused_columns(Train)\nX = Train.drop(TARGET, axis=1)\ny = Train[[TARGET]]\n\ntemp_columns = X.columns\ntemp_index = X.index\n\nimputer = set_imputer(X)\nX = impute_value(X, imputer)\n\nX = pd.DataFrame(X)\nX.columns = temp_columns\nX.index = temp_index\n\n# X = pd.concat([X, element_gram], axis=1)",
   "outputs": [],
   "execution_count": 9
  },
  {
   "cell_type": "code",
   "metadata": {
    "tags": [],
    "cell_id": "00014-610542a4-38c6-480a-8f31-bf5e0c417b82",
    "deepnote_to_be_reexecuted": false,
    "source_hash": "3879fe40",
    "execution_start": 1632203889027,
    "execution_millis": 2863,
    "deepnote_cell_type": "code"
   },
   "source": "Pretest = replace_surface_area_equal_0_with_null(Pretest)\nPretest = replace_inf_with_null(Pretest)\nPretest = drop_unused_columns(Pretest)\n\n# Pretest_functional_group = Pretest[['functional_groups']]\n# Pretest = Pretest.drop('functional_groups', axis=1)\ntemp_columns = Pretest.columns\ntemp_index = Pretest.index\nPretest = impute_value(Pretest, imputer)\n",
   "outputs": [],
   "execution_count": 10
  },
  {
   "cell_type": "code",
   "metadata": {
    "tags": [],
    "cell_id": "00018-177f7047-19b1-4fc9-b575-9233a7afb488",
    "deepnote_to_be_reexecuted": false,
    "source_hash": "766c14a5",
    "execution_start": 1632203891900,
    "execution_millis": 0,
    "deepnote_cell_type": "code"
   },
   "source": "Pretest = pd.DataFrame(Pretest)\nPretest.index = temp_index\nPretest.columns = temp_columns",
   "outputs": [],
   "execution_count": 11
  },
  {
   "cell_type": "code",
   "metadata": {
    "tags": [],
    "cell_id": "00018-180e5395-ec1b-4e92-987e-83d31fa4b84f",
    "deepnote_to_be_reexecuted": false,
    "source_hash": "facd0ca0",
    "execution_start": 1632203891900,
    "execution_millis": 161,
    "deepnote_cell_type": "code"
   },
   "source": "X ",
   "outputs": [
    {
     "output_type": "execute_result",
     "execution_count": 12,
     "data": {
      "application/vnd.deepnote.dataframe.v2+json": {
       "row_count": 68557,
       "column_count": 26,
       "columns": [
        {
         "name": "volume [A^3]",
         "dtype": "float64",
         "stats": {
          "unique_count": 68551,
          "nan_count": 0,
          "min": "606.576038",
          "max": "223964.854408",
          "histogram": [
           {
            "bin_start": 606.576038,
            "bin_end": 22942.403875,
            "count": 67629
           },
           {
            "bin_start": 22942.403875,
            "bin_end": 45278.231712,
            "count": 823
           },
           {
            "bin_start": 45278.231712,
            "bin_end": 67614.059549,
            "count": 80
           },
           {
            "bin_start": 67614.059549,
            "bin_end": 89949.887386,
            "count": 18
           },
           {
            "bin_start": 89949.887386,
            "bin_end": 112285.715223,
            "count": 3
           },
           {
            "bin_start": 112285.715223,
            "bin_end": 134621.54306,
            "count": 3
           },
           {
            "bin_start": 134621.54306,
            "bin_end": 156957.37089700002,
            "count": 0
           },
           {
            "bin_start": 156957.37089700002,
            "bin_end": 179293.198734,
            "count": 0
           },
           {
            "bin_start": 179293.198734,
            "bin_end": 201629.026571,
            "count": 0
           },
           {
            "bin_start": 201629.026571,
            "bin_end": 223964.854408,
            "count": 1
           }
          ]
         }
        },
        {
         "name": "weight [u]",
         "dtype": "float64"
        },
        {
         "name": "surface_area [m^2/g]",
         "dtype": "float64"
        },
        {
         "name": "void_fraction",
         "dtype": "float64"
        },
        {
         "name": "void_volume [cm^3/g]",
         "dtype": "float64"
        },
        {
         "name": "metal_linker",
         "dtype": "float64"
        },
        {
         "name": "organic_linker1",
         "dtype": "float64"
        },
        {
         "name": "organic_linker2",
         "dtype": "float64"
        },
        {
         "name": "CO2/N2_selectivity",
         "dtype": "float64"
        },
        {
         "name": "heat_adsorption_CO2_P0.15bar_T298K [kcal/mol]",
         "dtype": "float64"
        },
        {
         "name": "_symmetry_Int_Tables_number",
         "dtype": "float64"
        },
        {
         "name": "_cell_length_a",
         "dtype": "float64"
        },
        {
         "name": "_cell_length_b",
         "dtype": "float64"
        },
        {
         "name": "_cell_length_c",
         "dtype": "float64"
        },
        {
         "name": "_cell_angle_alpha",
         "dtype": "float64"
        },
        {
         "name": "_cell_angle_beta",
         "dtype": "float64"
        },
        {
         "name": "_cell_angle_gamma",
         "dtype": "float64"
        },
        {
         "name": "_cell_volume",
         "dtype": "float64"
        },
        {
         "name": "partial_charge_mean",
         "dtype": "float64"
        },
        {
         "name": "partial_charge_median",
         "dtype": "float64"
        },
        {
         "name": "partial_charge_std",
         "dtype": "float64"
        },
        {
         "name": "bond_type_countS",
         "dtype": "float64"
        },
        {
         "name": "bond_type_countA",
         "dtype": "float64"
        },
        {
         "name": "bond_type_countD",
         "dtype": "float64"
        },
        {
         "name": "bond_type_countT",
         "dtype": "float64"
        },
        {
         "name": "bond_type_countAm",
         "dtype": "float64"
        },
        {
         "name": "_deepnote_index_column",
         "dtype": "int64"
        }
       ],
       "rows_top": [
        {
         "volume [A^3]": 1116.667429,
         "weight [u]": 875.2405999999999,
         "surface_area [m^2/g]": 941.7639999999999,
         "void_fraction": 0.07899,
         "void_volume [cm^3/g]": 0.0606999999999999,
         "metal_linker": 3,
         "organic_linker1": 4,
         "organic_linker2": 11,
         "CO2/N2_selectivity": 22.86416611,
         "heat_adsorption_CO2_P0.15bar_T298K [kcal/mol]": 6.786041,
         "_symmetry_Int_Tables_number": 1,
         "_cell_length_a": 10.609882,
         "_cell_length_b": 10.643578,
         "_cell_length_c": 9.890832,
         "_cell_angle_alpha": 89.904234,
         "_cell_angle_beta": 91.242355,
         "_cell_angle_gamma": 90.261935,
         "_cell_volume": 1116.66742888,
         "partial_charge_mean": -1.3333333328535701e-8,
         "partial_charge_median": 0.024709,
         "partial_charge_std": 0.5610434476172528,
         "bond_type_countS": 56,
         "bond_type_countA": 20,
         "bond_type_countD": 8,
         "bond_type_countT": 0,
         "bond_type_countAm": 0,
         "_deepnote_index_column": 1
        },
        {
         "volume [A^3]": 2769.503842,
         "weight [u]": 2211.697211,
         "surface_area [m^2/g]": 603.61,
         "void_fraction": 0.13794,
         "void_volume [cm^3/g]": 0.104,
         "metal_linker": 10,
         "organic_linker1": 44,
         "organic_linker2": 57,
         "CO2/N2_selectivity": 33.61678033,
         "heat_adsorption_CO2_P0.15bar_T298K [kcal/mol]": 7.147286,
         "_symmetry_Int_Tables_number": 1,
         "_cell_length_a": 8.463295,
         "_cell_length_b": 17.684225,
         "_cell_length_c": 18.960098,
         "_cell_angle_alpha": 100.063446,
         "_cell_angle_beta": 91.815775,
         "_cell_angle_gamma": 96.94221,
         "_cell_volume": 2769.50384235,
         "partial_charge_mean": 5.1546391713999975e-9,
         "partial_charge_median": 0.059489,
         "partial_charge_std": 0.4760056047614398,
         "bond_type_countS": 162,
         "bond_type_countA": 50,
         "bond_type_countD": 8,
         "bond_type_countT": 1,
         "bond_type_countAm": 0,
         "_deepnote_index_column": 2
        },
        {
         "volume [A^3]": 1089.818728,
         "weight [u]": 773.68796,
         "surface_area [m^2/g]": 788.5,
         "void_fraction": 0.14874,
         "void_volume [cm^3/g]": 0.1262,
         "metal_linker": 2,
         "organic_linker1": 22,
         "organic_linker2": 24,
         "CO2/N2_selectivity": 19.26372569,
         "heat_adsorption_CO2_P0.15bar_T298K [kcal/mol]": 6.347967,
         "_symmetry_Int_Tables_number": 1,
         "_cell_length_a": 10.73211,
         "_cell_length_b": 9.552271,
         "_cell_length_c": 10.631996,
         "_cell_angle_alpha": 89.202223,
         "_cell_angle_beta": 89.943258,
         "_cell_angle_gamma": 90.387501,
         "_cell_volume": 1089.81872751,
         "partial_charge_mean": -3.658536584726396e-8,
         "partial_charge_median": 0.126583,
         "partial_charge_std": 0.4131608197807939,
         "bond_type_countS": 87,
         "bond_type_countA": 8,
         "bond_type_countD": 2,
         "bond_type_countT": 0,
         "bond_type_countAm": 0,
         "_deepnote_index_column": 3
        },
        {
         "volume [A^3]": 2205.1983010000004,
         "weight [u]": 1304.63872,
         "surface_area [m^2/g]": 1441.53,
         "void_fraction": 0.21814,
         "void_volume [cm^3/g]": 0.222,
         "metal_linker": 9,
         "organic_linker1": 17,
         "organic_linker2": 24,
         "CO2/N2_selectivity": 25.70137692,
         "heat_adsorption_CO2_P0.15bar_T298K [kcal/mol]": 6.190085,
         "_symmetry_Int_Tables_number": 1,
         "_cell_length_a": 6.93553,
         "_cell_length_b": 17.504896,
         "_cell_length_c": 19.27498,
         "_cell_angle_alpha": 109.537419,
         "_cell_angle_beta": 90.23458,
         "_cell_angle_gamma": 90.532988,
         "_cell_volume": 2205.19830122,
         "partial_charge_mean": 4.4642857147114696e-8,
         "partial_charge_median": -0.016101,
         "partial_charge_std": 0.4140753798615094,
         "bond_type_countS": 86,
         "bond_type_countA": 54,
         "bond_type_countD": 2,
         "bond_type_countT": 0,
         "bond_type_countAm": 0,
         "_deepnote_index_column": 4
        },
        {
         "volume [A^3]": 1137.800963,
         "weight [u]": 901.73612,
         "surface_area [m^2/g]": 655.396,
         "void_fraction": 0.07778,
         "void_volume [cm^3/g]": 0.0591,
         "metal_linker": 2,
         "organic_linker1": 1,
         "organic_linker2": 22,
         "CO2/N2_selectivity": 30.00183795,
         "heat_adsorption_CO2_P0.15bar_T298K [kcal/mol]": 6.478063,
         "_symmetry_Int_Tables_number": 1,
         "_cell_length_a": 10.825925,
         "_cell_length_b": 9.699886,
         "_cell_length_c": 10.853274,
         "_cell_angle_alpha": 89.694657,
         "_cell_angle_beta": 92.990983,
         "_cell_angle_gamma": 91.404649,
         "_cell_volume": 1137.80096321,
         "partial_charge_mean": -3.1914893628568804e-8,
         "partial_charge_median": 0.1432804999999999,
         "partial_charge_std": 0.4027619185869745,
         "bond_type_countS": 84,
         "bond_type_countA": 20,
         "bond_type_countD": 0,
         "bond_type_countT": 0,
         "bond_type_countAm": 0,
         "_deepnote_index_column": 5
        },
        {
         "volume [A^3]": 3954.659761,
         "weight [u]": 1543.02768,
         "surface_area [m^2/g]": 2430.55,
         "void_fraction": 0.3709399999999999,
         "void_volume [cm^3/g]": 0.5725,
         "metal_linker": 9,
         "organic_linker1": 7,
         "organic_linker2": 23,
         "CO2/N2_selectivity": 17.14654102,
         "heat_adsorption_CO2_P0.15bar_T298K [kcal/mol]": 5.398304,
         "_symmetry_Int_Tables_number": 1,
         "_cell_length_a": 24.949291,
         "_cell_length_b": 7.054011,
         "_cell_length_c": 22.606019,
         "_cell_angle_alpha": 90.036873,
         "_cell_angle_beta": 96.274104,
         "_cell_angle_gamma": 89.946334,
         "_cell_volume": 3954.65976066,
         "partial_charge_mean": -1.8292682925324393e-8,
         "partial_charge_median": 0.1095015,
         "partial_charge_std": 0.4240723568689473,
         "bond_type_countS": 132,
         "bond_type_countA": 44,
         "bond_type_countD": 0,
         "bond_type_countT": 6,
         "bond_type_countAm": 0,
         "_deepnote_index_column": 6
        },
        {
         "volume [A^3]": 3565.914939,
         "weight [u]": 1954.749656,
         "surface_area [m^2/g]": 1530.02,
         "void_fraction": 0.33337,
         "void_volume [cm^3/g]": 0.3662,
         "metal_linker": 10,
         "organic_linker1": 53,
         "organic_linker2": 55,
         "CO2/N2_selectivity": 18.36379134,
         "heat_adsorption_CO2_P0.15bar_T298K [kcal/mol]": 6.303857,
         "_symmetry_Int_Tables_number": 1,
         "_cell_length_a": 8.2867,
         "_cell_length_b": 19.200319,
         "_cell_length_c": 22.787351,
         "_cell_angle_alpha": 100.16818,
         "_cell_angle_beta": 89.967715,
         "_cell_angle_gamma": 92.22909,
         "_cell_volume": 3565.91493915,
         "partial_charge_mean": 2.1978021976213922e-8,
         "partial_charge_median": 0.0265695,
         "partial_charge_std": 0.3855933415715126,
         "bond_type_countS": 141,
         "bond_type_countA": 49,
         "bond_type_countD": 15,
         "bond_type_countT": 0,
         "bond_type_countAm": 4,
         "_deepnote_index_column": 7
        },
        {
         "volume [A^3]": 916.043907,
         "weight [u]": 639.11156,
         "surface_area [m^2/g]": 1685.58,
         "void_fraction": 0.28458,
         "void_volume [cm^3/g]": 0.2456,
         "metal_linker": 2,
         "organic_linker1": 5,
         "organic_linker2": 13,
         "CO2/N2_selectivity": 12.68480443,
         "heat_adsorption_CO2_P0.15bar_T298K [kcal/mol]": 5.234732,
         "_symmetry_Int_Tables_number": 1,
         "_cell_length_a": 12.999835,
         "_cell_length_b": 9.096507,
         "_cell_length_c": 7.790769,
         "_cell_angle_alpha": 90.003048,
         "_cell_angle_beta": 96.113006,
         "_cell_angle_gamma": 89.99935,
         "_cell_volume": 916.043907495,
         "partial_charge_mean": -2.9411764708360793e-8,
         "partial_charge_median": -0.1189905,
         "partial_charge_std": 0.503039800962373,
         "bond_type_countS": 21,
         "bond_type_countA": 19,
         "bond_type_countD": 0,
         "bond_type_countT": 2,
         "bond_type_countAm": 0,
         "_deepnote_index_column": 8
        },
        {
         "volume [A^3]": 2228.882339,
         "weight [u]": 1422.69182,
         "surface_area [m^2/g]": 1458.02,
         "void_fraction": 0.2427699999999999,
         "void_volume [cm^3/g]": 0.2291,
         "metal_linker": 4,
         "organic_linker1": 14,
         "organic_linker2": 19,
         "CO2/N2_selectivity": 37.04042435,
         "heat_adsorption_CO2_P0.15bar_T298K [kcal/mol]": 6.298964,
         "_symmetry_Int_Tables_number": 1,
         "_cell_length_a": 11.514733,
         "_cell_length_b": 11.613772,
         "_cell_length_c": 19.363484,
         "_cell_angle_alpha": 90.584232,
         "_cell_angle_beta": 89.362927,
         "_cell_angle_gamma": 59.423201,
         "_cell_volume": 2228.88233917,
         "partial_charge_mean": 1.047380211910525e-18,
         "partial_charge_median": -0.0044885,
         "partial_charge_std": 0.4011674951651435,
         "bond_type_countS": 64,
         "bond_type_countA": 57,
         "bond_type_countD": 1,
         "bond_type_countT": 6,
         "bond_type_countAm": 0,
         "_deepnote_index_column": 9
        },
        {
         "volume [A^3]": 4275.421420000001,
         "weight [u]": 1606.196,
         "surface_area [m^2/g]": 3276.11,
         "void_fraction": 0.4100399999999999,
         "void_volume [cm^3/g]": 0.6573,
         "metal_linker": 3,
         "organic_linker1": 13,
         "organic_linker2": 29,
         "CO2/N2_selectivity": 10.9992991,
         "heat_adsorption_CO2_P0.15bar_T298K [kcal/mol]": 5.539327,
         "_symmetry_Int_Tables_number": 1,
         "_cell_length_a": 12.041039,
         "_cell_length_b": 13.008236,
         "_cell_length_c": 27.438486,
         "_cell_angle_alpha": 91.181769,
         "_cell_angle_beta": 84.870254,
         "_cell_angle_gamma": 92.639099,
         "_cell_volume": 4275.42142025,
         "partial_charge_mean": 5.555555558799262e-9,
         "partial_charge_median": 0.1720324999999999,
         "partial_charge_std": 0.406246681793211,
         "bond_type_countS": 124,
         "bond_type_countA": 74,
         "bond_type_countD": 0,
         "bond_type_countT": 0,
         "bond_type_countAm": 0,
         "_deepnote_index_column": 10
        },
        {
         "volume [A^3]": 1607.935338,
         "weight [u]": 1110.38712,
         "surface_area [m^2/g]": 1098.36,
         "void_fraction": 0.18787,
         "void_volume [cm^3/g]": 0.1638,
         "metal_linker": 9,
         "organic_linker1": 1,
         "organic_linker2": 24,
         "CO2/N2_selectivity": 24.25902464,
         "heat_adsorption_CO2_P0.15bar_T298K [kcal/mol]": 5.926444,
         "_symmetry_Int_Tables_number": 1,
         "_cell_length_a": 6.931148,
         "_cell_length_b": 14.529443,
         "_cell_length_c": 15.967346,
         "_cell_angle_alpha": 90.477043,
         "_cell_angle_beta": 90.128514,
         "_cell_angle_gamma": 89.818714,
         "_cell_volume": 1607.93533824,
         "partial_charge_mean": -2.3809523812851852e-8,
         "partial_charge_median": -0.1228635,
         "partial_charge_std": 0.4955860401192899,
         "bond_type_countS": 66,
         "bond_type_countA": 34,
         "bond_type_countD": 4,
         "bond_type_countT": 0,
         "bond_type_countAm": 0,
         "_deepnote_index_column": 11
        },
        {
         "volume [A^3]": 1175.47586,
         "weight [u]": 1397.05128,
         "surface_area [m^2/g]": 315.17999999999995,
         "void_fraction": 0.05704,
         "void_volume [cm^3/g]": 0.0288999999999999,
         "metal_linker": 2,
         "organic_linker1": 22,
         "organic_linker2": 24,
         "CO2/N2_selectivity": 58.10697445,
         "heat_adsorption_CO2_P0.15bar_T298K [kcal/mol]": 7.4078979999999985,
         "_symmetry_Int_Tables_number": 1,
         "_cell_length_a": 10.998061,
         "_cell_length_b": 9.934987,
         "_cell_length_c": 10.760373,
         "_cell_angle_alpha": 90.750251,
         "_cell_angle_beta": 89.160226,
         "_cell_angle_gamma": 90.456866,
         "_cell_volume": 1175.47586031,
         "partial_charge_mean": -1.0204081632946486e-8,
         "partial_charge_median": 0.16651,
         "partial_charge_std": 0.426519523793137,
         "bond_type_countS": 105,
         "bond_type_countA": 8,
         "bond_type_countD": 0,
         "bond_type_countT": 0,
         "bond_type_countAm": 0,
         "_deepnote_index_column": 12
        },
        {
         "volume [A^3]": 1650.879383,
         "weight [u]": 796.6896799999998,
         "surface_area [m^2/g]": 2117.01,
         "void_fraction": 0.3040499999999999,
         "void_volume [cm^3/g]": 0.3794,
         "metal_linker": 2,
         "organic_linker1": 4,
         "organic_linker2": 6,
         "CO2/N2_selectivity": 12.99674112,
         "heat_adsorption_CO2_P0.15bar_T298K [kcal/mol]": 4.936655,
         "_symmetry_Int_Tables_number": 1,
         "_cell_length_a": 15.969446,
         "_cell_length_b": 10.823247,
         "_cell_length_c": 9.551803,
         "_cell_angle_alpha": 90.396255,
         "_cell_angle_beta": 90.318456,
         "_cell_angle_gamma": 90.0693,
         "_cell_volume": 1650.87938311,
         "partial_charge_mean": 3.8461538468693746e-8,
         "partial_charge_median": 0.107489,
         "partial_charge_std": 0.391608673273606,
         "bond_type_countS": 59,
         "bond_type_countA": 28,
         "bond_type_countD": 0,
         "bond_type_countT": 2,
         "bond_type_countAm": 0,
         "_deepnote_index_column": 13
        },
        {
         "volume [A^3]": 1071.619874,
         "weight [u]": 701.6286,
         "surface_area [m^2/g]": 972.758,
         "void_fraction": 0.10455,
         "void_volume [cm^3/g]": 0.0961999999999999,
         "metal_linker": 2,
         "organic_linker1": 12,
         "organic_linker2": 22,
         "CO2/N2_selectivity": 31.66445559,
         "heat_adsorption_CO2_P0.15bar_T298K [kcal/mol]": 7.427183,
         "_symmetry_Int_Tables_number": 1,
         "_cell_length_a": 10.772046,
         "_cell_length_b": 10.925408,
         "_cell_length_c": 9.856399,
         "_cell_angle_alpha": 110.039694,
         "_cell_angle_beta": 98.693134,
         "_cell_angle_gamma": 92.461125,
         "_cell_volume": 1071.61987428,
         "partial_charge_mean": 1.3698630125213389e-8,
         "partial_charge_median": 0.131152,
         "partial_charge_std": 0.4244261743381951,
         "bond_type_countS": 67,
         "bond_type_countA": 8,
         "bond_type_countD": 4,
         "bond_type_countT": 2,
         "bond_type_countAm": 0,
         "_deepnote_index_column": 14
        },
        {
         "volume [A^3]": 1769.973982,
         "weight [u]": 945.403413,
         "surface_area [m^2/g]": 1870.11,
         "void_fraction": 0.27705,
         "void_volume [cm^3/g]": 0.3124,
         "metal_linker": 3,
         "organic_linker1": 4,
         "organic_linker2": 26,
         "CO2/N2_selectivity": 17.01166312,
         "heat_adsorption_CO2_P0.15bar_T298K [kcal/mol]": 5.139598,
         "_symmetry_Int_Tables_number": 1,
         "_cell_length_a": 9.858469,
         "_cell_length_b": 10.672478,
         "_cell_length_c": 16.8966,
         "_cell_angle_alpha": 90.35894,
         "_cell_angle_beta": 84.651637,
         "_cell_angle_gamma": 90.271403,
         "_cell_volume": 1769.97398201,
         "partial_charge_mean": 6.666666667351804e-8,
         "partial_charge_median": 0.0888055,
         "partial_charge_std": 0.4372266907410032,
         "bond_type_countS": 68,
         "bond_type_countA": 32,
         "bond_type_countD": 1,
         "bond_type_countT": 0,
         "bond_type_countAm": 0,
         "_deepnote_index_column": 15
        },
        {
         "volume [A^3]": 4282.561071,
         "weight [u]": 2478.166816,
         "surface_area [m^2/g]": 1294.48,
         "void_fraction": 0.2860699999999999,
         "void_volume [cm^3/g]": 0.2977,
         "metal_linker": 10,
         "organic_linker1": 52,
         "organic_linker2": 54,
         "CO2/N2_selectivity": 19.28955582,
         "heat_adsorption_CO2_P0.15bar_T298K [kcal/mol]": 5.867149,
         "_symmetry_Int_Tables_number": 1,
         "_cell_length_a": 8.442812,
         "_cell_length_b": 19.084105,
         "_cell_length_c": 26.973845,
         "_cell_angle_alpha": 98.789894,
         "_cell_angle_beta": 92.030824,
         "_cell_angle_gamma": 85.860956,
         "_cell_volume": 4282.56107073,
         "partial_charge_mean": -8.130081294728451e-9,
         "partial_charge_median": 0.0959935,
         "partial_charge_std": 0.3525121439353116,
         "bond_type_countS": 209,
         "bond_type_countA": 40,
         "bond_type_countD": 21,
         "bond_type_countT": 0,
         "bond_type_countAm": 4,
         "_deepnote_index_column": 16
        },
        {
         "volume [A^3]": 7840.492345,
         "weight [u]": 4627.98816,
         "surface_area [m^2/g]": 1664.62,
         "void_fraction": 0.2688499999999999,
         "void_volume [cm^3/g]": 0.2742999999999999,
         "metal_linker": 2,
         "organic_linker1": 38,
         "organic_linker2": 41,
         "CO2/N2_selectivity": 15.894512699999998,
         "heat_adsorption_CO2_P0.15bar_T298K [kcal/mol]": 5.390903,
         "_symmetry_Int_Tables_number": 1,
         "_cell_length_a": 28.020872,
         "_cell_length_b": 18.702283,
         "_cell_length_c": 16.886505,
         "_cell_angle_alpha": 89.999652,
         "_cell_angle_beta": 62.373213,
         "_cell_angle_gamma": 89.999634,
         "_cell_volume": 7840.49234455,
         "partial_charge_mean": 1.4367816076096672e-8,
         "partial_charge_median": 0.033583,
         "partial_charge_std": 0.4477755005083492,
         "bond_type_countS": 218,
         "bond_type_countA": 196,
         "bond_type_countD": 0,
         "bond_type_countT": 0,
         "bond_type_countAm": 0,
         "_deepnote_index_column": 17
        },
        {
         "volume [A^3]": 2252.940492,
         "weight [u]": 1583.399493,
         "surface_area [m^2/g]": 851.0399999999998,
         "void_fraction": 0.15162,
         "void_volume [cm^3/g]": 0.1298999999999999,
         "metal_linker": 2,
         "organic_linker1": 14,
         "organic_linker2": 14,
         "CO2/N2_selectivity": 35.34220222,
         "heat_adsorption_CO2_P0.15bar_T298K [kcal/mol]": 7.488088999999999,
         "_symmetry_Int_Tables_number": 1,
         "_cell_length_a": 14.540453,
         "_cell_length_b": 16.096069,
         "_cell_length_c": 9.635963,
         "_cell_angle_alpha": 89.929347,
         "_cell_angle_beta": 87.413037,
         "_cell_angle_gamma": 90.005439,
         "_cell_volume": 2252.94049165,
         "partial_charge_mean": -3.2467532460535936e-8,
         "partial_charge_median": 0.128746,
         "partial_charge_std": 0.4264490477732899,
         "bond_type_countS": 96,
         "bond_type_countA": 82,
         "bond_type_countD": 0,
         "bond_type_countT": 0,
         "bond_type_countAm": 0,
         "_deepnote_index_column": 18
        },
        {
         "volume [A^3]": 2334.528642,
         "weight [u]": 937.8558,
         "surface_area [m^2/g]": 2773.01,
         "void_fraction": 0.41436,
         "void_volume [cm^3/g]": 0.6210999999999999,
         "metal_linker": 2,
         "organic_linker1": 8,
         "organic_linker2": 10,
         "CO2/N2_selectivity": 11.94115719,
         "heat_adsorption_CO2_P0.15bar_T298K [kcal/mol]": 5.547678,
         "_symmetry_Int_Tables_number": 1,
         "_cell_length_a": 8.71752,
         "_cell_length_b": 15.804104,
         "_cell_length_c": 17.113382,
         "_cell_angle_alpha": 95.94816,
         "_cell_angle_beta": 90.268997,
         "_cell_angle_gamma": 84.575672,
         "_cell_volume": 2334.52864205,
         "partial_charge_mean": -2.2727272731711115e-8,
         "partial_charge_median": 0.0477304999999999,
         "partial_charge_std": 0.3110455568295195,
         "bond_type_countS": 59,
         "bond_type_countA": 32,
         "bond_type_countD": 7,
         "bond_type_countT": 0,
         "bond_type_countAm": 0,
         "_deepnote_index_column": 19
        }
       ],
       "rows_bottom": [
        {
         "volume [A^3]": 1652.258112,
         "weight [u]": 1766.5988,
         "surface_area [m^2/g]": 449.90999999999997,
         "void_fraction": 0,
         "void_volume [cm^3/g]": 0,
         "metal_linker": 9,
         "organic_linker1": 2,
         "organic_linker2": 22,
         "CO2/N2_selectivity": 0,
         "heat_adsorption_CO2_P0.15bar_T298K [kcal/mol]": 7.589163000000001,
         "_symmetry_Int_Tables_number": 1,
         "_cell_length_a": 6.962528,
         "_cell_length_b": 14.359726,
         "_cell_length_c": 16.528622,
         "_cell_angle_alpha": 90.035697,
         "_cell_angle_beta": 89.873508,
         "_cell_angle_gamma": 88.966117,
         "_cell_volume": 1652.25811153,
         "partial_charge_mean": -6.944444445415125e-9,
         "partial_charge_median": -0.041425,
         "partial_charge_std": 0.4966150878954681,
         "bond_type_countS": 98,
         "bond_type_countA": 68,
         "bond_type_countD": 0,
         "bond_type_countT": 0,
         "bond_type_countAm": 0,
         "_deepnote_index_column": 68595
        },
        {
         "volume [A^3]": 3760.489888,
         "weight [u]": 3343.200672,
         "surface_area [m^2/g]": 319.958,
         "void_fraction": 0.0122099999999999,
         "void_volume [cm^3/g]": 0,
         "metal_linker": 10,
         "organic_linker1": 42,
         "organic_linker2": 42,
         "CO2/N2_selectivity": 0.2271604939999999,
         "heat_adsorption_CO2_P0.15bar_T298K [kcal/mol]": 7.5319004000000005,
         "_symmetry_Int_Tables_number": 1,
         "_cell_length_a": 20.106341,
         "_cell_length_b": 22.433377,
         "_cell_length_c": 8.641388,
         "_cell_angle_alpha": 89.712457,
         "_cell_angle_beta": 105.246472,
         "_cell_angle_gamma": 90.1271,
         "_cell_volume": 3760.48988793,
         "partial_charge_mean": 5.35047240783208e-18,
         "partial_charge_median": 0.0657335,
         "partial_charge_std": 0.3890197683809741,
         "bond_type_countS": 306,
         "bond_type_countA": 48,
         "bond_type_countD": 16,
         "bond_type_countT": 0,
         "bond_type_countAm": 0,
         "_deepnote_index_column": 68596
        },
        {
         "volume [A^3]": 3320.078141,
         "weight [u]": 3090.5876,
         "surface_area [m^2/g]": 691.918,
         "void_fraction": 0,
         "void_volume [cm^3/g]": 0,
         "metal_linker": 9,
         "organic_linker1": 18,
         "organic_linker2": 29,
         "CO2/N2_selectivity": 0,
         "heat_adsorption_CO2_P0.15bar_T298K [kcal/mol]": 6.7914384,
         "_symmetry_Int_Tables_number": 1,
         "_cell_length_a": 7.353381,
         "_cell_length_b": 12.691091,
         "_cell_length_c": 35.577119,
         "_cell_angle_alpha": 90.267961,
         "_cell_angle_beta": 90.178711,
         "_cell_angle_gamma": 89.841909,
         "_cell_volume": 3320.07814053,
         "partial_charge_mean": -1.1235955065234965e-8,
         "partial_charge_median": 0.1125475,
         "partial_charge_std": 0.3850477340687846,
         "bond_type_countS": 248,
         "bond_type_countA": 146,
         "bond_type_countD": 0,
         "bond_type_countT": 0,
         "bond_type_countAm": 0,
         "_deepnote_index_column": 68597
        },
        {
         "volume [A^3]": 1621.161289,
         "weight [u]": 1292.77096,
         "surface_area [m^2/g]": 393.266,
         "void_fraction": 0,
         "void_volume [cm^3/g]": 0,
         "metal_linker": 9,
         "organic_linker1": 12,
         "organic_linker2": 12,
         "CO2/N2_selectivity": 4082.551111,
         "heat_adsorption_CO2_P0.15bar_T298K [kcal/mol]": 9.185216200000001,
         "_symmetry_Int_Tables_number": 1,
         "_cell_length_a": 6.904548,
         "_cell_length_b": 14.262454,
         "_cell_length_c": 16.46276,
         "_cell_angle_alpha": 90.040576,
         "_cell_angle_beta": 89.713152,
         "_cell_angle_gamma": 90.076031,
         "_cell_volume": 1621.16128894,
         "partial_charge_mean": -2.77777777816605e-8,
         "partial_charge_median": 0.1346745,
         "partial_charge_std": 0.4587240811038014,
         "bond_type_countS": 132,
         "bond_type_countA": 16,
         "bond_type_countD": 8,
         "bond_type_countT": 0,
         "bond_type_countAm": 0,
         "_deepnote_index_column": 68598
        },
        {
         "volume [A^3]": 1716.981598,
         "weight [u]": 2211.8456,
         "surface_area [m^2/g]": 368.74399999999997,
         "void_fraction": 0,
         "void_volume [cm^3/g]": 0,
         "metal_linker": 9,
         "organic_linker1": 22,
         "organic_linker2": 22,
         "CO2/N2_selectivity": 0,
         "heat_adsorption_CO2_P0.15bar_T298K [kcal/mol]": 6.8894262,
         "_symmetry_Int_Tables_number": 1,
         "_cell_length_a": 7.264603,
         "_cell_length_b": 14.870818,
         "_cell_length_c": 15.893619,
         "_cell_angle_alpha": 89.999696,
         "_cell_angle_beta": 89.757139,
         "_cell_angle_gamma": 89.999119,
         "_cell_volume": 1716.98159813,
         "partial_charge_mean": -9.00180830777154e-18,
         "partial_charge_median": -0.0963965,
         "partial_charge_std": 0.5359640773203852,
         "bond_type_countS": 136,
         "bond_type_countA": 16,
         "bond_type_countD": 12,
         "bond_type_countT": 0,
         "bond_type_countAm": 0,
         "_deepnote_index_column": 68599
        },
        {
         "volume [A^3]": 1174.62717,
         "weight [u]": 1649.17081,
         "surface_area [m^2/g]": 373.61199999999997,
         "void_fraction": 0,
         "void_volume [cm^3/g]": 0,
         "metal_linker": 2,
         "organic_linker1": 14,
         "organic_linker2": 22,
         "CO2/N2_selectivity": 2276.833333,
         "heat_adsorption_CO2_P0.15bar_T298K [kcal/mol]": 9.471975,
         "_symmetry_Int_Tables_number": 1,
         "_cell_length_a": 11.086717,
         "_cell_length_b": 11.033472,
         "_cell_length_c": 9.696926,
         "_cell_angle_alpha": 89.417259,
         "_cell_angle_beta": 88.139105,
         "_cell_angle_gamma": 97.738502,
         "_cell_volume": 1174.62717024,
         "partial_charge_mean": -3.3333333333675066e-8,
         "partial_charge_median": 0.005145,
         "partial_charge_std": 0.4183622223063925,
         "bond_type_countS": 64,
         "bond_type_countA": 30,
         "bond_type_countD": 8,
         "bond_type_countT": 0,
         "bond_type_countAm": 0,
         "_deepnote_index_column": 68600
        },
        {
         "volume [A^3]": 1132.348176,
         "weight [u]": 903.87744,
         "surface_area [m^2/g]": 509.38800000000003,
         "void_fraction": 0,
         "void_volume [cm^3/g]": 0,
         "metal_linker": 2,
         "organic_linker1": 9,
         "organic_linker2": 12,
         "CO2/N2_selectivity": 546.3466667,
         "heat_adsorption_CO2_P0.15bar_T298K [kcal/mol]": 9.624677199999997,
         "_symmetry_Int_Tables_number": 1,
         "_cell_length_a": 10.837492,
         "_cell_length_b": 10.912739,
         "_cell_length_c": 9.795559,
         "_cell_angle_alpha": 98.7433,
         "_cell_angle_beta": 98.13228,
         "_cell_angle_gamma": 91.307778,
         "_cell_volume": 1132.34817641,
         "partial_charge_mean": -1.041666667506158e-8,
         "partial_charge_median": 0.056246,
         "partial_charge_std": 0.3460808852875381,
         "bond_type_countS": 62,
         "bond_type_countA": 44,
         "bond_type_countD": 2,
         "bond_type_countT": 0,
         "bond_type_countAm": 0,
         "_deepnote_index_column": 68601
        },
        {
         "volume [A^3]": 1131.069889,
         "weight [u]": 895.9516800000001,
         "surface_area [m^2/g]": 448.35200000000003,
         "void_fraction": 0,
         "void_volume [cm^3/g]": 0,
         "metal_linker": 2,
         "organic_linker1": 4,
         "organic_linker2": 22,
         "CO2/N2_selectivity": 454.265353,
         "heat_adsorption_CO2_P0.15bar_T298K [kcal/mol]": 9.2752456,
         "_symmetry_Int_Tables_number": 1,
         "_cell_length_a": 10.878831,
         "_cell_length_b": 10.816211,
         "_cell_length_c": 9.613343,
         "_cell_angle_alpha": 90.598466,
         "_cell_angle_beta": 90.049004,
         "_cell_angle_gamma": 90.528695,
         "_cell_volume": 1131.06988948,
         "partial_charge_mean": -1.8348623845844848e-8,
         "partial_charge_median": 0.166767,
         "partial_charge_std": 0.4032948633138299,
         "bond_type_countS": 101,
         "bond_type_countA": 20,
         "bond_type_countD": 0,
         "bond_type_countT": 0,
         "bond_type_countAm": 0,
         "_deepnote_index_column": 68602
        },
        {
         "volume [A^3]": 1046.560841,
         "weight [u]": 967.52096,
         "surface_area [m^2/g]": 822.0720000000001,
         "void_fraction": 0,
         "void_volume [cm^3/g]": 0,
         "metal_linker": 3,
         "organic_linker1": 10,
         "organic_linker2": 17,
         "CO2/N2_selectivity": 0,
         "heat_adsorption_CO2_P0.15bar_T298K [kcal/mol]": 7.356472599999999,
         "_symmetry_Int_Tables_number": 1,
         "_cell_length_a": 7.965181,
         "_cell_length_b": 8.808488,
         "_cell_length_c": 15.061944,
         "_cell_angle_alpha": 95.353787,
         "_cell_angle_beta": 84.40701,
         "_cell_angle_gamma": 92.417944,
         "_cell_volume": 1046.56084082,
         "partial_charge_mean": 3.700743415417189e-18,
         "partial_charge_median": -0.0020345,
         "partial_charge_std": 0.3300448871014702,
         "bond_type_countS": 46,
         "bond_type_countA": 51,
         "bond_type_countD": 2,
         "bond_type_countT": 4,
         "bond_type_countAm": 0,
         "_deepnote_index_column": 68603
        },
        {
         "volume [A^3]": 699.494867,
         "weight [u]": 653.1773599999999,
         "surface_area [m^2/g]": 591.2160000000001,
         "void_fraction": 0,
         "void_volume [cm^3/g]": 0,
         "metal_linker": 3,
         "organic_linker1": 10,
         "organic_linker2": 24,
         "CO2/N2_selectivity": 15.60473156,
         "heat_adsorption_CO2_P0.15bar_T298K [kcal/mol]": 8.21008,
         "_symmetry_Int_Tables_number": 1,
         "_cell_length_a": 7.873026,
         "_cell_length_b": 8.533343,
         "_cell_length_c": 10.481025,
         "_cell_angle_alpha": 92.102205,
         "_cell_angle_beta": 84.853435,
         "_cell_angle_gamma": 93.720456,
         "_cell_volume": 699.494867233,
         "partial_charge_mean": -4.0000000005036015e-8,
         "partial_charge_median": -0.0082,
         "partial_charge_std": 0.4791579589278241,
         "bond_type_countS": 46,
         "bond_type_countA": 8,
         "bond_type_countD": 6,
         "bond_type_countT": 0,
         "bond_type_countAm": 0,
         "_deepnote_index_column": 68604
        },
        {
         "volume [A^3]": 1508.12951,
         "weight [u]": 1517.382416,
         "surface_area [m^2/g]": 609.7520000000001,
         "void_fraction": 0,
         "void_volume [cm^3/g]": 0,
         "metal_linker": 10,
         "organic_linker1": 46,
         "organic_linker2": 49,
         "CO2/N2_selectivity": 9.974765376,
         "heat_adsorption_CO2_P0.15bar_T298K [kcal/mol]": 8.092445199999998,
         "_symmetry_Int_Tables_number": 1,
         "_cell_length_a": 8.192043,
         "_cell_length_b": 12.637325,
         "_cell_length_c": 15.004478,
         "_cell_angle_alpha": 96.638568,
         "_cell_angle_beta": 97.927285,
         "_cell_angle_gamma": 98.217215,
         "_cell_volume": 1508.12950955,
         "partial_charge_mean": 0,
         "partial_charge_median": 0.042177,
         "partial_charge_std": 0.406339259534194,
         "bond_type_countS": 122,
         "bond_type_countA": 30,
         "bond_type_countD": 8,
         "bond_type_countT": 0,
         "bond_type_countAm": 0,
         "_deepnote_index_column": 68605
        },
        {
         "volume [A^3]": 2112.326167,
         "weight [u]": 1977.49208,
         "surface_area [m^2/g]": 248.996,
         "void_fraction": 0,
         "void_volume [cm^3/g]": 0,
         "metal_linker": 4,
         "organic_linker1": 14,
         "organic_linker2": 14,
         "CO2/N2_selectivity": 3.233981158,
         "heat_adsorption_CO2_P0.15bar_T298K [kcal/mol]": 8.449694200000001,
         "_symmetry_Int_Tables_number": 1,
         "_cell_length_a": 11.334026,
         "_cell_length_b": 11.321874,
         "_cell_length_c": 19.017384,
         "_cell_angle_alpha": 90.070675,
         "_cell_angle_beta": 90.031889,
         "_cell_angle_gamma": 120.050727,
         "_cell_volume": 2112.32616667,
         "partial_charge_mean": -5.000000005139782e-9,
         "partial_charge_median": 0.023913,
         "partial_charge_std": 0.3322730647133844,
         "bond_type_countS": 138,
         "bond_type_countA": 90,
         "bond_type_countD": 0,
         "bond_type_countT": 0,
         "bond_type_countAm": 0,
         "_deepnote_index_column": 68606
        },
        {
         "volume [A^3]": 949.067112,
         "weight [u]": 753.7875199999999,
         "surface_area [m^2/g]": 671.204,
         "void_fraction": 0,
         "void_volume [cm^3/g]": 0,
         "metal_linker": 2,
         "organic_linker1": 10,
         "organic_linker2": 18,
         "CO2/N2_selectivity": 0,
         "heat_adsorption_CO2_P0.15bar_T298K [kcal/mol]": 8.5810752,
         "_symmetry_Int_Tables_number": 1,
         "_cell_length_a": 7.429506,
         "_cell_length_b": 8.672739,
         "_cell_length_c": 15.714521,
         "_cell_angle_alpha": 93.667592,
         "_cell_angle_beta": 74.453642,
         "_cell_angle_gamma": 103.369597,
         "_cell_volume": 949.067112229,
         "partial_charge_mean": -3.488372094027236e-8,
         "partial_charge_median": 0.1403134999999999,
         "partial_charge_std": 0.392726263921519,
         "bond_type_countS": 65,
         "bond_type_countA": 29,
         "bond_type_countD": 2,
         "bond_type_countT": 0,
         "bond_type_countAm": 0,
         "_deepnote_index_column": 68607
        },
        {
         "volume [A^3]": 1202.182553,
         "weight [u]": 1042.53824,
         "surface_area [m^2/g]": 870.1540000000001,
         "void_fraction": 0,
         "void_volume [cm^3/g]": 0,
         "metal_linker": 3,
         "organic_linker1": 12,
         "organic_linker2": 24,
         "CO2/N2_selectivity": 0,
         "heat_adsorption_CO2_P0.15bar_T298K [kcal/mol]": 8.4401136,
         "_symmetry_Int_Tables_number": 1,
         "_cell_length_a": 10.343236,
         "_cell_length_b": 10.536838,
         "_cell_length_c": 11.134846,
         "_cell_angle_alpha": 93.963666,
         "_cell_angle_beta": 93.653348,
         "_cell_angle_gamma": 84.065862,
         "_cell_volume": 1202.18255347,
         "partial_charge_mean": 3.8461538463711974e-8,
         "partial_charge_median": 0.0430665,
         "partial_charge_std": 0.3252140988549201,
         "bond_type_countS": 72,
         "bond_type_countA": 44,
         "bond_type_countD": 4,
         "bond_type_countT": 0,
         "bond_type_countAm": 0,
         "_deepnote_index_column": 68608
        },
        {
         "volume [A^3]": 1188.302573,
         "weight [u]": 1001.700216,
         "surface_area [m^2/g]": 565.646,
         "void_fraction": 0,
         "void_volume [cm^3/g]": 0,
         "metal_linker": 3,
         "organic_linker1": 4,
         "organic_linker2": 24,
         "CO2/N2_selectivity": 24.13177036,
         "heat_adsorption_CO2_P0.15bar_T298K [kcal/mol]": 7.9666314,
         "_symmetry_Int_Tables_number": 1,
         "_cell_length_a": 10.718161,
         "_cell_length_b": 10.88649,
         "_cell_length_c": 10.19387,
         "_cell_angle_alpha": 90.842269,
         "_cell_angle_beta": 92.241073,
         "_cell_angle_gamma": 90.753457,
         "_cell_volume": 1188.3025732,
         "partial_charge_mean": 3.361344537258711e-8,
         "partial_charge_median": 0.20259,
         "partial_charge_std": 0.4412549393790613,
         "bond_type_countS": 113,
         "bond_type_countA": 20,
         "bond_type_countD": 0,
         "bond_type_countT": 0,
         "bond_type_countAm": 0,
         "_deepnote_index_column": 68609
        },
        {
         "volume [A^3]": 1506.6603630000002,
         "weight [u]": 1493.2964960000002,
         "surface_area [m^2/g]": 544.566,
         "void_fraction": 0.01108,
         "void_volume [cm^3/g]": 0,
         "metal_linker": 10,
         "organic_linker1": 42,
         "organic_linker2": 46,
         "CO2/N2_selectivity": 6.071817778,
         "heat_adsorption_CO2_P0.15bar_T298K [kcal/mol]": 8.0677132,
         "_symmetry_Int_Tables_number": 1,
         "_cell_length_a": 8.19262,
         "_cell_length_b": 12.57623,
         "_cell_length_c": 15.033794,
         "_cell_angle_alpha": 95.184751,
         "_cell_angle_beta": 99.147187,
         "_cell_angle_gamma": 97.430499,
         "_cell_volume": 1506.66036263,
         "partial_charge_mean": -5.5555555558695076e-8,
         "partial_charge_median": 0.0286505,
         "partial_charge_std": 0.4266246043234773,
         "bond_type_countS": 113,
         "bond_type_countA": 23,
         "bond_type_countD": 10,
         "bond_type_countT": 0,
         "bond_type_countAm": 0,
         "_deepnote_index_column": 68610
        },
        {
         "volume [A^3]": 2035.532738,
         "weight [u]": 1959.51832,
         "surface_area [m^2/g]": 301.87600000000003,
         "void_fraction": 0,
         "void_volume [cm^3/g]": 0,
         "metal_linker": 4,
         "organic_linker1": 14,
         "organic_linker2": 22,
         "CO2/N2_selectivity": 9.876133998,
         "heat_adsorption_CO2_P0.15bar_T298K [kcal/mol]": 9.995719,
         "_symmetry_Int_Tables_number": 1,
         "_cell_length_a": 11.237482,
         "_cell_length_b": 11.321902,
         "_cell_length_c": 18.60812,
         "_cell_angle_alpha": 90.200546,
         "_cell_angle_beta": 90.118422,
         "_cell_angle_gamma": 59.292454,
         "_cell_volume": 2035.53273793,
         "partial_charge_mean": 2.4509803938056007e-8,
         "partial_charge_median": 0.07563,
         "partial_charge_std": 0.3327188552871074,
         "bond_type_countS": 153,
         "bond_type_countA": 79,
         "bond_type_countD": 0,
         "bond_type_countT": 0,
         "bond_type_countAm": 0,
         "_deepnote_index_column": 68611
        },
        {
         "volume [A^3]": 3985.426053,
         "weight [u]": 3638.67728,
         "surface_area [m^2/g]": 231.302,
         "void_fraction": 0,
         "void_volume [cm^3/g]": 0,
         "metal_linker": 4,
         "organic_linker1": 4,
         "organic_linker2": 15,
         "CO2/N2_selectivity": 5.285050632,
         "heat_adsorption_CO2_P0.15bar_T298K [kcal/mol]": 9.621539600000002,
         "_symmetry_Int_Tables_number": 1,
         "_cell_length_a": 19.396341,
         "_cell_length_b": 11.081428,
         "_cell_length_c": 18.544746,
         "_cell_angle_alpha": 90.467105,
         "_cell_angle_beta": 90.841157,
         "_cell_angle_gamma": 89.911826,
         "_cell_volume": 3985.42605274,
         "partial_charge_mean": -8.241758230710004e-9,
         "partial_charge_median": 0.0299515,
         "partial_charge_std": 0.3417501879897912,
         "bond_type_countS": 282,
         "bond_type_countA": 140,
         "bond_type_countD": 0,
         "bond_type_countT": 0,
         "bond_type_countAm": 0,
         "_deepnote_index_column": 68612
        },
        {
         "volume [A^3]": 1591.009408,
         "weight [u]": 2071.219,
         "surface_area [m^2/g]": 406.18,
         "void_fraction": 0.01609,
         "void_volume [cm^3/g]": 0,
         "metal_linker": 2,
         "organic_linker1": 9,
         "organic_linker2": 16,
         "CO2/N2_selectivity": 2.621271792,
         "heat_adsorption_CO2_P0.15bar_T298K [kcal/mol]": 6.514526999999999,
         "_symmetry_Int_Tables_number": 1,
         "_cell_length_a": 11.049965,
         "_cell_length_b": 12.474541,
         "_cell_length_c": 13.706241,
         "_cell_angle_alpha": 118.491266,
         "_cell_angle_beta": 73.368234,
         "_cell_angle_gamma": 98.090342,
         "_cell_volume": 1591.00940751,
         "partial_charge_mean": 2.5862068966260923e-8,
         "partial_charge_median": 0.1000085,
         "partial_charge_std": 0.3681314840014755,
         "bond_type_countS": 73,
         "bond_type_countA": 58,
         "bond_type_countD": 0,
         "bond_type_countT": 0,
         "bond_type_countAm": 0,
         "_deepnote_index_column": 68613
        }
       ]
      },
      "text/plain": "            volume [A^3]   weight [u]  surface_area [m^2/g]  void_fraction  \\\nUnnamed: 0                                                                   \n1            1116.667429   875.240600               941.764        0.07899   \n2            2769.503842  2211.697211               603.610        0.13794   \n3            1089.818728   773.687960               788.500        0.14874   \n4            2205.198301  1304.638720              1441.530        0.21814   \n5            1137.800963   901.736120               655.396        0.07778   \n...                  ...          ...                   ...            ...   \n68609        1188.302573  1001.700216               565.646        0.00000   \n68610        1506.660363  1493.296496               544.566        0.01108   \n68611        2035.532738  1959.518320               301.876        0.00000   \n68612        3985.426053  3638.677280               231.302        0.00000   \n68613        1591.009408  2071.219000               406.180        0.01609   \n\n            void_volume [cm^3/g]  metal_linker  organic_linker1  \\\nUnnamed: 0                                                        \n1                         0.0607           3.0              4.0   \n2                         0.1040          10.0             44.0   \n3                         0.1262           2.0             22.0   \n4                         0.2220           9.0             17.0   \n5                         0.0591           2.0              1.0   \n...                          ...           ...              ...   \n68609                     0.0000           3.0              4.0   \n68610                     0.0000          10.0             42.0   \n68611                     0.0000           4.0             14.0   \n68612                     0.0000           4.0              4.0   \n68613                     0.0000           2.0              9.0   \n\n            organic_linker2  CO2/N2_selectivity  \\\nUnnamed: 0                                        \n1                      11.0           22.864166   \n2                      57.0           33.616780   \n3                      24.0           19.263726   \n4                      24.0           25.701377   \n5                      22.0           30.001838   \n...                     ...                 ...   \n68609                  24.0           24.131770   \n68610                  46.0            6.071818   \n68611                  22.0            9.876134   \n68612                  15.0            5.285051   \n68613                  16.0            2.621272   \n\n            heat_adsorption_CO2_P0.15bar_T298K [kcal/mol]  ...  \\\nUnnamed: 0                                                 ...   \n1                                                6.786041  ...   \n2                                                7.147286  ...   \n3                                                6.347967  ...   \n4                                                6.190085  ...   \n5                                                6.478063  ...   \n...                                                   ...  ...   \n68609                                            7.966631  ...   \n68610                                            8.067713  ...   \n68611                                            9.995719  ...   \n68612                                            9.621540  ...   \n68613                                            6.514527  ...   \n\n            _cell_angle_gamma  _cell_volume  partial_charge_mean  \\\nUnnamed: 0                                                         \n1                   90.261935   1116.667429        -1.333333e-08   \n2                   96.942210   2769.503842         5.154639e-09   \n3                   90.387501   1089.818728        -3.658537e-08   \n4                   90.532988   2205.198301         4.464286e-08   \n5                   91.404649   1137.800963        -3.191489e-08   \n...                       ...           ...                  ...   \n68609               90.753457   1188.302573         3.361345e-08   \n68610               97.430499   1506.660363        -5.555556e-08   \n68611               59.292454   2035.532738         2.450980e-08   \n68612               89.911826   3985.426053        -8.241758e-09   \n68613               98.090342   1591.009408         2.586207e-08   \n\n            partial_charge_median  partial_charge_std  bond_type_countS  \\\nUnnamed: 0                                                                \n1                        0.024709            0.561043              56.0   \n2                        0.059489            0.476006             162.0   \n3                        0.126583            0.413161              87.0   \n4                       -0.016101            0.414075              86.0   \n5                        0.143280            0.402762              84.0   \n...                           ...                 ...               ...   \n68609                    0.202590            0.441255             113.0   \n68610                    0.028650            0.426625             113.0   \n68611                    0.075630            0.332719             153.0   \n68612                    0.029951            0.341750             282.0   \n68613                    0.100009            0.368131              73.0   \n\n            bond_type_countA  bond_type_countD  bond_type_countT  \\\nUnnamed: 0                                                         \n1                       20.0               8.0               0.0   \n2                       50.0               8.0               1.0   \n3                        8.0               2.0               0.0   \n4                       54.0               2.0               0.0   \n5                       20.0               0.0               0.0   \n...                      ...               ...               ...   \n68609                   20.0               0.0               0.0   \n68610                   23.0              10.0               0.0   \n68611                   79.0               0.0               0.0   \n68612                  140.0               0.0               0.0   \n68613                   58.0               0.0               0.0   \n\n            bond_type_countAm  \nUnnamed: 0                     \n1                         0.0  \n2                         0.0  \n3                         0.0  \n4                         0.0  \n5                         0.0  \n...                       ...  \n68609                     0.0  \n68610                     0.0  \n68611                     0.0  \n68612                     0.0  \n68613                     0.0  \n\n[68557 rows x 26 columns]",
      "text/html": "<div>\n<style scoped>\n    .dataframe tbody tr th:only-of-type {\n        vertical-align: middle;\n    }\n\n    .dataframe tbody tr th {\n        vertical-align: top;\n    }\n\n    .dataframe thead th {\n        text-align: right;\n    }\n</style>\n<table border=\"1\" class=\"dataframe\">\n  <thead>\n    <tr style=\"text-align: right;\">\n      <th></th>\n      <th>volume [A^3]</th>\n      <th>weight [u]</th>\n      <th>surface_area [m^2/g]</th>\n      <th>void_fraction</th>\n      <th>void_volume [cm^3/g]</th>\n      <th>metal_linker</th>\n      <th>organic_linker1</th>\n      <th>organic_linker2</th>\n      <th>CO2/N2_selectivity</th>\n      <th>heat_adsorption_CO2_P0.15bar_T298K [kcal/mol]</th>\n      <th>...</th>\n      <th>_cell_angle_gamma</th>\n      <th>_cell_volume</th>\n      <th>partial_charge_mean</th>\n      <th>partial_charge_median</th>\n      <th>partial_charge_std</th>\n      <th>bond_type_countS</th>\n      <th>bond_type_countA</th>\n      <th>bond_type_countD</th>\n      <th>bond_type_countT</th>\n      <th>bond_type_countAm</th>\n    </tr>\n    <tr>\n      <th>Unnamed: 0</th>\n      <th></th>\n      <th></th>\n      <th></th>\n      <th></th>\n      <th></th>\n      <th></th>\n      <th></th>\n      <th></th>\n      <th></th>\n      <th></th>\n      <th></th>\n      <th></th>\n      <th></th>\n      <th></th>\n      <th></th>\n      <th></th>\n      <th></th>\n      <th></th>\n      <th></th>\n      <th></th>\n      <th></th>\n    </tr>\n  </thead>\n  <tbody>\n    <tr>\n      <th>1</th>\n      <td>1116.667429</td>\n      <td>875.240600</td>\n      <td>941.764</td>\n      <td>0.07899</td>\n      <td>0.0607</td>\n      <td>3.0</td>\n      <td>4.0</td>\n      <td>11.0</td>\n      <td>22.864166</td>\n      <td>6.786041</td>\n      <td>...</td>\n      <td>90.261935</td>\n      <td>1116.667429</td>\n      <td>-1.333333e-08</td>\n      <td>0.024709</td>\n      <td>0.561043</td>\n      <td>56.0</td>\n      <td>20.0</td>\n      <td>8.0</td>\n      <td>0.0</td>\n      <td>0.0</td>\n    </tr>\n    <tr>\n      <th>2</th>\n      <td>2769.503842</td>\n      <td>2211.697211</td>\n      <td>603.610</td>\n      <td>0.13794</td>\n      <td>0.1040</td>\n      <td>10.0</td>\n      <td>44.0</td>\n      <td>57.0</td>\n      <td>33.616780</td>\n      <td>7.147286</td>\n      <td>...</td>\n      <td>96.942210</td>\n      <td>2769.503842</td>\n      <td>5.154639e-09</td>\n      <td>0.059489</td>\n      <td>0.476006</td>\n      <td>162.0</td>\n      <td>50.0</td>\n      <td>8.0</td>\n      <td>1.0</td>\n      <td>0.0</td>\n    </tr>\n    <tr>\n      <th>3</th>\n      <td>1089.818728</td>\n      <td>773.687960</td>\n      <td>788.500</td>\n      <td>0.14874</td>\n      <td>0.1262</td>\n      <td>2.0</td>\n      <td>22.0</td>\n      <td>24.0</td>\n      <td>19.263726</td>\n      <td>6.347967</td>\n      <td>...</td>\n      <td>90.387501</td>\n      <td>1089.818728</td>\n      <td>-3.658537e-08</td>\n      <td>0.126583</td>\n      <td>0.413161</td>\n      <td>87.0</td>\n      <td>8.0</td>\n      <td>2.0</td>\n      <td>0.0</td>\n      <td>0.0</td>\n    </tr>\n    <tr>\n      <th>4</th>\n      <td>2205.198301</td>\n      <td>1304.638720</td>\n      <td>1441.530</td>\n      <td>0.21814</td>\n      <td>0.2220</td>\n      <td>9.0</td>\n      <td>17.0</td>\n      <td>24.0</td>\n      <td>25.701377</td>\n      <td>6.190085</td>\n      <td>...</td>\n      <td>90.532988</td>\n      <td>2205.198301</td>\n      <td>4.464286e-08</td>\n      <td>-0.016101</td>\n      <td>0.414075</td>\n      <td>86.0</td>\n      <td>54.0</td>\n      <td>2.0</td>\n      <td>0.0</td>\n      <td>0.0</td>\n    </tr>\n    <tr>\n      <th>5</th>\n      <td>1137.800963</td>\n      <td>901.736120</td>\n      <td>655.396</td>\n      <td>0.07778</td>\n      <td>0.0591</td>\n      <td>2.0</td>\n      <td>1.0</td>\n      <td>22.0</td>\n      <td>30.001838</td>\n      <td>6.478063</td>\n      <td>...</td>\n      <td>91.404649</td>\n      <td>1137.800963</td>\n      <td>-3.191489e-08</td>\n      <td>0.143280</td>\n      <td>0.402762</td>\n      <td>84.0</td>\n      <td>20.0</td>\n      <td>0.0</td>\n      <td>0.0</td>\n      <td>0.0</td>\n    </tr>\n    <tr>\n      <th>...</th>\n      <td>...</td>\n      <td>...</td>\n      <td>...</td>\n      <td>...</td>\n      <td>...</td>\n      <td>...</td>\n      <td>...</td>\n      <td>...</td>\n      <td>...</td>\n      <td>...</td>\n      <td>...</td>\n      <td>...</td>\n      <td>...</td>\n      <td>...</td>\n      <td>...</td>\n      <td>...</td>\n      <td>...</td>\n      <td>...</td>\n      <td>...</td>\n      <td>...</td>\n      <td>...</td>\n    </tr>\n    <tr>\n      <th>68609</th>\n      <td>1188.302573</td>\n      <td>1001.700216</td>\n      <td>565.646</td>\n      <td>0.00000</td>\n      <td>0.0000</td>\n      <td>3.0</td>\n      <td>4.0</td>\n      <td>24.0</td>\n      <td>24.131770</td>\n      <td>7.966631</td>\n      <td>...</td>\n      <td>90.753457</td>\n      <td>1188.302573</td>\n      <td>3.361345e-08</td>\n      <td>0.202590</td>\n      <td>0.441255</td>\n      <td>113.0</td>\n      <td>20.0</td>\n      <td>0.0</td>\n      <td>0.0</td>\n      <td>0.0</td>\n    </tr>\n    <tr>\n      <th>68610</th>\n      <td>1506.660363</td>\n      <td>1493.296496</td>\n      <td>544.566</td>\n      <td>0.01108</td>\n      <td>0.0000</td>\n      <td>10.0</td>\n      <td>42.0</td>\n      <td>46.0</td>\n      <td>6.071818</td>\n      <td>8.067713</td>\n      <td>...</td>\n      <td>97.430499</td>\n      <td>1506.660363</td>\n      <td>-5.555556e-08</td>\n      <td>0.028650</td>\n      <td>0.426625</td>\n      <td>113.0</td>\n      <td>23.0</td>\n      <td>10.0</td>\n      <td>0.0</td>\n      <td>0.0</td>\n    </tr>\n    <tr>\n      <th>68611</th>\n      <td>2035.532738</td>\n      <td>1959.518320</td>\n      <td>301.876</td>\n      <td>0.00000</td>\n      <td>0.0000</td>\n      <td>4.0</td>\n      <td>14.0</td>\n      <td>22.0</td>\n      <td>9.876134</td>\n      <td>9.995719</td>\n      <td>...</td>\n      <td>59.292454</td>\n      <td>2035.532738</td>\n      <td>2.450980e-08</td>\n      <td>0.075630</td>\n      <td>0.332719</td>\n      <td>153.0</td>\n      <td>79.0</td>\n      <td>0.0</td>\n      <td>0.0</td>\n      <td>0.0</td>\n    </tr>\n    <tr>\n      <th>68612</th>\n      <td>3985.426053</td>\n      <td>3638.677280</td>\n      <td>231.302</td>\n      <td>0.00000</td>\n      <td>0.0000</td>\n      <td>4.0</td>\n      <td>4.0</td>\n      <td>15.0</td>\n      <td>5.285051</td>\n      <td>9.621540</td>\n      <td>...</td>\n      <td>89.911826</td>\n      <td>3985.426053</td>\n      <td>-8.241758e-09</td>\n      <td>0.029951</td>\n      <td>0.341750</td>\n      <td>282.0</td>\n      <td>140.0</td>\n      <td>0.0</td>\n      <td>0.0</td>\n      <td>0.0</td>\n    </tr>\n    <tr>\n      <th>68613</th>\n      <td>1591.009408</td>\n      <td>2071.219000</td>\n      <td>406.180</td>\n      <td>0.01609</td>\n      <td>0.0000</td>\n      <td>2.0</td>\n      <td>9.0</td>\n      <td>16.0</td>\n      <td>2.621272</td>\n      <td>6.514527</td>\n      <td>...</td>\n      <td>98.090342</td>\n      <td>1591.009408</td>\n      <td>2.586207e-08</td>\n      <td>0.100009</td>\n      <td>0.368131</td>\n      <td>73.0</td>\n      <td>58.0</td>\n      <td>0.0</td>\n      <td>0.0</td>\n      <td>0.0</td>\n    </tr>\n  </tbody>\n</table>\n<p>68557 rows × 26 columns</p>\n</div>"
     },
     "metadata": {}
    }
   ],
   "execution_count": 12
  },
  {
   "cell_type": "code",
   "metadata": {
    "tags": [],
    "cell_id": "00014-c8764f2d-89d1-4918-94be-3209af4c57ff",
    "deepnote_to_be_reexecuted": false,
    "source_hash": "a72bf53a",
    "execution_start": 1632204023098,
    "execution_millis": 65428,
    "deepnote_cell_type": "code"
   },
   "source": "def log_mean_absolute_error(y_true, y_pred):\n    return np.log(mean_absolute_error(y_true, y_pred))\n\n\ndef fit_catboost(X, y):\n    catboost = CatBoostRegressor(iterations=500, verbose=False)\n    catboost.fit(X, y)\n    return catboost\n\n\n\nfit_models = [fit_catboost]\nkf = KFold(n_splits=5, shuffle=True, random_state=1234)\n\nfit_results = {}\nfor k, (train_index, test_index) in enumerate(kf.split(X)):\n    print(f\"K Fold: {k + 1}\")\n    print(\"TRAIN:\", train_index, \"TEST:\", test_index)\n    X_train, X_test = X.iloc[train_index], X.iloc[test_index]\n    y_train, y_test = y.iloc[train_index], y.iloc[test_index]\n\n    for fit_model in fit_models:\n        model_name = '_'.join(fit_model.__name__.split('fit_')[1:])\n        if model_name not in fit_results:\n            fit_results[model_name] = []\n\n        model = fit_model(X_train, y_train)\n        train_pred = model.predict(X_train)\n        log_mean_error_train = log_mean_absolute_error(y_train, train_pred)\n\n        # model = fit_model(X_test, y_test)\n        test_pred = model.predict(X_test)\n        log_mean_error_test = log_mean_absolute_error(y_test, test_pred)\n        print(f\"Log mean error train: {log_mean_error_train}\")\n        print(f\"Log mean error test: {log_mean_error_test}\")\n\n        fit_results[model_name].append({\n            'model': model,\n            'log_mean_error_train': log_mean_error_train,\n            'log_mean_error_test': log_mean_error_test\n        })",
   "outputs": [
    {
     "name": "stdout",
     "text": "K Fold: 1\nTRAIN: [    1     2     3 ... 68551 68552 68556] TEST: [    0     4    13 ... 68553 68554 68555]\nCustom logger is already specified. Specify more than one logger at same time is not thread safe.Log mean error train: 2.8801723236882326\nLog mean error test: 2.9701317973407195\nK Fold: 2\nTRAIN: [    0     1     2 ... 68554 68555 68556] TEST: [   24    32    37 ... 68535 68536 68545]\nLog mean error train: 2.881659683706268\nLog mean error test: 2.9735330739486687\nK Fold: 3\nTRAIN: [    0     1     3 ... 68553 68554 68555] TEST: [    2     8     9 ... 68538 68548 68556]\nLog mean error train: 2.880230426561052\nLog mean error test: 2.973464776697368\nK Fold: 4\nTRAIN: [    0     2     3 ... 68554 68555 68556] TEST: [    1     5     6 ... 68547 68551 68552]\nLog mean error train: 2.8751376902850843\nLog mean error test: 2.994430055462714\nK Fold: 5\nTRAIN: [    0     1     2 ... 68554 68555 68556] TEST: [    3    10    16 ... 68543 68544 68549]\nLog mean error train: 2.872429571915433\nLog mean error test: 2.9898034836142138\n",
     "output_type": "stream"
    }
   ],
   "execution_count": 15
  },
  {
   "cell_type": "code",
   "metadata": {
    "tags": [],
    "cell_id": "00018-03d4a2d2-fcc8-49fc-93f0-5f422054c830",
    "deepnote_to_be_reexecuted": false,
    "source_hash": "fe6523d9",
    "execution_start": 1632204104773,
    "execution_millis": 0,
    "deepnote_cell_type": "code"
   },
   "source": "# train_prediction = .predict(X)",
   "outputs": [],
   "execution_count": 16
  },
  {
   "cell_type": "code",
   "metadata": {
    "tags": [],
    "cell_id": "00019-102e9c2c-1e6f-4a20-b317-2f378725321b",
    "deepnote_to_be_reexecuted": false,
    "source_hash": "b0c387f5",
    "execution_start": 1632204104774,
    "execution_millis": 0,
    "deepnote_cell_type": "code"
   },
   "source": "# np.log(mean_absolute_error(train_prediction, y))",
   "outputs": [],
   "execution_count": 17
  },
  {
   "cell_type": "code",
   "metadata": {
    "tags": [],
    "cell_id": "00020-46248fb0-5be0-4a8f-90f6-e19c42aaa24a",
    "deepnote_to_be_reexecuted": false,
    "source_hash": "fe1547a",
    "execution_start": 1632204104775,
    "execution_millis": 0,
    "deepnote_cell_type": "code"
   },
   "source": "# feature_importances = pd.DataFrame(catboost.feature_importances_)\n# feature_importances.index = Train.drop(TARGET, axis=1).columns",
   "outputs": [],
   "execution_count": 18
  },
  {
   "cell_type": "code",
   "metadata": {
    "tags": [],
    "cell_id": "00021-e6be6076-f4c7-465c-b3ea-791be79b1cac",
    "deepnote_to_be_reexecuted": false,
    "source_hash": "1898d942",
    "execution_start": 1632204104778,
    "execution_millis": 0,
    "deepnote_cell_type": "code"
   },
   "source": "# feature_importances.sort_values(by=0, ascending=False)",
   "outputs": [],
   "execution_count": 19
  },
  {
   "cell_type": "code",
   "metadata": {
    "tags": [],
    "cell_id": "00022-ef968977-69b3-462b-8aa9-835e9a9a276b",
    "deepnote_to_be_reexecuted": false,
    "source_hash": "ee960895",
    "execution_start": 1632204104817,
    "execution_millis": 1,
    "deepnote_cell_type": "code"
   },
   "source": "# feature_importances[0].nlargest(20).plot(kind='barh')",
   "outputs": [],
   "execution_count": 20
  },
  {
   "cell_type": "code",
   "metadata": {
    "tags": [],
    "cell_id": "00025-81c7491f-d77b-4c44-91a3-90e76217a3a7",
    "deepnote_to_be_reexecuted": false,
    "source_hash": "ac13f7e0",
    "execution_start": 1632204104818,
    "execution_millis": 0,
    "deepnote_cell_type": "code"
   },
   "source": "# feature_importances[0].nlargest(20).index",
   "outputs": [],
   "execution_count": 21
  },
  {
   "cell_type": "code",
   "metadata": {
    "tags": [],
    "cell_id": "00027-3bfce106-d2db-430c-8d12-5038698640a6",
    "deepnote_to_be_reexecuted": false,
    "source_hash": "b623e53d",
    "execution_start": 1632204104818,
    "execution_millis": 1,
    "deepnote_cell_type": "code"
   },
   "source": "",
   "outputs": [],
   "execution_count": 21
  },
  {
   "cell_type": "code",
   "metadata": {
    "tags": [],
    "cell_id": "00022-e23ef112-b966-43a3-a681-81e44cae9b9e",
    "deepnote_to_be_reexecuted": false,
    "source_hash": "ae1d8aa7",
    "execution_start": 1632204104829,
    "execution_millis": 187,
    "deepnote_cell_type": "code"
   },
   "source": "sub = np.mean([model['model'].predict(Pretest) for model in fit_results['catboost']], axis=0)",
   "outputs": [],
   "execution_count": 22
  },
  {
   "cell_type": "code",
   "metadata": {
    "tags": [],
    "cell_id": "00023-139a058b-9793-400b-8793-9c68c8e3ea1b",
    "deepnote_to_be_reexecuted": false,
    "source_hash": "edbc753e",
    "execution_start": 1632204105024,
    "execution_millis": 1,
    "deepnote_cell_type": "code"
   },
   "source": "sub = pd.DataFrame(sub)",
   "outputs": [],
   "execution_count": 23
  },
  {
   "cell_type": "code",
   "metadata": {
    "tags": [],
    "cell_id": "00024-9fdde596-bad8-407e-865e-cebca0e713fe",
    "deepnote_to_be_reexecuted": false,
    "source_hash": "7331a9fe",
    "execution_start": 1632204105025,
    "execution_millis": 196,
    "deepnote_cell_type": "code"
   },
   "source": "Pretest = pd.read_csv(f\"{PREPROCESSING_PATH}/pretest_merged_CIF/Pretest.csv\")\n# Pretest = Pretest.set_index(Pretest.columns[0])\nsub.index = \"pretest_\" + pd.Index(range(1, sub.shape[0] + 1)).astype(str)\nsub.index = sub.index.set_names('id')\nsub.columns = ['CO2_working_capacity [mL/g]']",
   "outputs": [],
   "execution_count": 24
  },
  {
   "cell_type": "code",
   "metadata": {
    "tags": [],
    "cell_id": "00025-c09ea7b6-5421-4662-84c2-fbb7b65bac0c",
    "deepnote_to_be_reexecuted": false,
    "source_hash": "d977bc2a",
    "execution_start": 1632204105222,
    "execution_millis": 43,
    "deepnote_cell_type": "code"
   },
   "source": "sub",
   "outputs": [
    {
     "output_type": "execute_result",
     "execution_count": 25,
     "data": {
      "application/vnd.deepnote.dataframe.v2+json": {
       "row_count": 2000,
       "column_count": 1,
       "columns": [
        {
         "name": "CO2_working_capacity [mL/g]",
         "dtype": "float64",
         "stats": {
          "unique_count": 2000,
          "nan_count": 0,
          "min": "-13.974524220771604",
          "max": "520.595423596436",
          "histogram": [
           {
            "bin_start": -13.974524220771604,
            "bin_end": 39.48247056094916,
            "count": 498
           },
           {
            "bin_start": 39.48247056094916,
            "bin_end": 92.93946534266993,
            "count": 600
           },
           {
            "bin_start": 92.93946534266993,
            "bin_end": 146.3964601243907,
            "count": 417
           },
           {
            "bin_start": 146.3964601243907,
            "bin_end": 199.85345490611147,
            "count": 214
           },
           {
            "bin_start": 199.85345490611147,
            "bin_end": 253.31044968783223,
            "count": 136
           },
           {
            "bin_start": 253.31044968783223,
            "bin_end": 306.76744446955297,
            "count": 70
           },
           {
            "bin_start": 306.76744446955297,
            "bin_end": 360.22443925127374,
            "count": 33
           },
           {
            "bin_start": 360.22443925127374,
            "bin_end": 413.6814340329945,
            "count": 17
           },
           {
            "bin_start": 413.6814340329945,
            "bin_end": 467.13842881471527,
            "count": 8
           },
           {
            "bin_start": 467.13842881471527,
            "bin_end": 520.595423596436,
            "count": 7
           }
          ]
         }
        },
        {
         "name": "_deepnote_index_column",
         "dtype": "object"
        }
       ],
       "rows_top": [
        {
         "CO2_working_capacity [mL/g]": 100.84570546904227,
         "_deepnote_index_column": "pretest_1"
        },
        {
         "CO2_working_capacity [mL/g]": 125.30736810507774,
         "_deepnote_index_column": "pretest_2"
        },
        {
         "CO2_working_capacity [mL/g]": 182.57467664330997,
         "_deepnote_index_column": "pretest_3"
        },
        {
         "CO2_working_capacity [mL/g]": 66.47434152733011,
         "_deepnote_index_column": "pretest_4"
        },
        {
         "CO2_working_capacity [mL/g]": 92.85501358410772,
         "_deepnote_index_column": "pretest_5"
        },
        {
         "CO2_working_capacity [mL/g]": 374.6993417515064,
         "_deepnote_index_column": "pretest_6"
        },
        {
         "CO2_working_capacity [mL/g]": 115.38379855439955,
         "_deepnote_index_column": "pretest_7"
        },
        {
         "CO2_working_capacity [mL/g]": 85.75351805608103,
         "_deepnote_index_column": "pretest_8"
        },
        {
         "CO2_working_capacity [mL/g]": 75.22542170557624,
         "_deepnote_index_column": "pretest_9"
        },
        {
         "CO2_working_capacity [mL/g]": 507.024750157968,
         "_deepnote_index_column": "pretest_10"
        },
        {
         "CO2_working_capacity [mL/g]": 210.1012031062945,
         "_deepnote_index_column": "pretest_11"
        },
        {
         "CO2_working_capacity [mL/g]": 204.22518589356582,
         "_deepnote_index_column": "pretest_12"
        },
        {
         "CO2_working_capacity [mL/g]": 88.12065330416635,
         "_deepnote_index_column": "pretest_13"
        },
        {
         "CO2_working_capacity [mL/g]": 263.0557142668881,
         "_deepnote_index_column": "pretest_14"
        },
        {
         "CO2_working_capacity [mL/g]": 247.44588850187483,
         "_deepnote_index_column": "pretest_15"
        },
        {
         "CO2_working_capacity [mL/g]": 79.30333764395604,
         "_deepnote_index_column": "pretest_16"
        },
        {
         "CO2_working_capacity [mL/g]": 61.25179536595449,
         "_deepnote_index_column": "pretest_17"
        },
        {
         "CO2_working_capacity [mL/g]": 68.3038817897448,
         "_deepnote_index_column": "pretest_18"
        },
        {
         "CO2_working_capacity [mL/g]": 70.85233503127543,
         "_deepnote_index_column": "pretest_19"
        },
        {
         "CO2_working_capacity [mL/g]": 165.02085098578613,
         "_deepnote_index_column": "pretest_20"
        },
        {
         "CO2_working_capacity [mL/g]": 48.44539650418984,
         "_deepnote_index_column": "pretest_21"
        },
        {
         "CO2_working_capacity [mL/g]": 197.8547850028232,
         "_deepnote_index_column": "pretest_22"
        },
        {
         "CO2_working_capacity [mL/g]": 167.23707622972904,
         "_deepnote_index_column": "pretest_23"
        },
        {
         "CO2_working_capacity [mL/g]": 123.7222395520566,
         "_deepnote_index_column": "pretest_24"
        },
        {
         "CO2_working_capacity [mL/g]": 166.88336884375883,
         "_deepnote_index_column": "pretest_25"
        },
        {
         "CO2_working_capacity [mL/g]": 227.2433317929612,
         "_deepnote_index_column": "pretest_26"
        },
        {
         "CO2_working_capacity [mL/g]": 79.6432437216812,
         "_deepnote_index_column": "pretest_27"
        },
        {
         "CO2_working_capacity [mL/g]": 109.37537207042479,
         "_deepnote_index_column": "pretest_28"
        },
        {
         "CO2_working_capacity [mL/g]": 63.06499140995478,
         "_deepnote_index_column": "pretest_29"
        },
        {
         "CO2_working_capacity [mL/g]": 147.7947818911575,
         "_deepnote_index_column": "pretest_30"
        },
        {
         "CO2_working_capacity [mL/g]": 181.22925265858026,
         "_deepnote_index_column": "pretest_31"
        },
        {
         "CO2_working_capacity [mL/g]": 65.18231589475656,
         "_deepnote_index_column": "pretest_32"
        },
        {
         "CO2_working_capacity [mL/g]": 107.45925634780478,
         "_deepnote_index_column": "pretest_33"
        },
        {
         "CO2_working_capacity [mL/g]": 68.87607035666403,
         "_deepnote_index_column": "pretest_34"
        },
        {
         "CO2_working_capacity [mL/g]": 101.01525125460681,
         "_deepnote_index_column": "pretest_35"
        },
        {
         "CO2_working_capacity [mL/g]": 88.07895649269099,
         "_deepnote_index_column": "pretest_36"
        },
        {
         "CO2_working_capacity [mL/g]": 79.74939042061024,
         "_deepnote_index_column": "pretest_37"
        },
        {
         "CO2_working_capacity [mL/g]": 66.52003043809225,
         "_deepnote_index_column": "pretest_38"
        },
        {
         "CO2_working_capacity [mL/g]": 105.35221575791688,
         "_deepnote_index_column": "pretest_39"
        },
        {
         "CO2_working_capacity [mL/g]": 125.36689131811927,
         "_deepnote_index_column": "pretest_40"
        },
        {
         "CO2_working_capacity [mL/g]": 89.93574636200204,
         "_deepnote_index_column": "pretest_41"
        },
        {
         "CO2_working_capacity [mL/g]": 255.27376553139234,
         "_deepnote_index_column": "pretest_42"
        },
        {
         "CO2_working_capacity [mL/g]": 79.8778936604594,
         "_deepnote_index_column": "pretest_43"
        },
        {
         "CO2_working_capacity [mL/g]": 202.56623349654205,
         "_deepnote_index_column": "pretest_44"
        },
        {
         "CO2_working_capacity [mL/g]": 157.53385299473354,
         "_deepnote_index_column": "pretest_45"
        },
        {
         "CO2_working_capacity [mL/g]": 116.87426580215575,
         "_deepnote_index_column": "pretest_46"
        },
        {
         "CO2_working_capacity [mL/g]": 79.33465935858142,
         "_deepnote_index_column": "pretest_47"
        },
        {
         "CO2_working_capacity [mL/g]": 156.36643490513558,
         "_deepnote_index_column": "pretest_48"
        },
        {
         "CO2_working_capacity [mL/g]": 160.6338985889126,
         "_deepnote_index_column": "pretest_49"
        },
        {
         "CO2_working_capacity [mL/g]": 51.68833039300783,
         "_deepnote_index_column": "pretest_50"
        },
        {
         "CO2_working_capacity [mL/g]": 122.53981415616352,
         "_deepnote_index_column": "pretest_51"
        },
        {
         "CO2_working_capacity [mL/g]": 91.02564542827096,
         "_deepnote_index_column": "pretest_52"
        },
        {
         "CO2_working_capacity [mL/g]": 79.91476001118026,
         "_deepnote_index_column": "pretest_53"
        },
        {
         "CO2_working_capacity [mL/g]": 158.5715425987267,
         "_deepnote_index_column": "pretest_54"
        },
        {
         "CO2_working_capacity [mL/g]": 110.01578511512665,
         "_deepnote_index_column": "pretest_55"
        },
        {
         "CO2_working_capacity [mL/g]": 66.3554948859874,
         "_deepnote_index_column": "pretest_56"
        },
        {
         "CO2_working_capacity [mL/g]": 65.19865730163174,
         "_deepnote_index_column": "pretest_57"
        },
        {
         "CO2_working_capacity [mL/g]": 98.1170088847477,
         "_deepnote_index_column": "pretest_58"
        },
        {
         "CO2_working_capacity [mL/g]": 179.55439601547837,
         "_deepnote_index_column": "pretest_59"
        },
        {
         "CO2_working_capacity [mL/g]": 89.57042874259241,
         "_deepnote_index_column": "pretest_60"
        },
        {
         "CO2_working_capacity [mL/g]": 293.36716937766,
         "_deepnote_index_column": "pretest_61"
        },
        {
         "CO2_working_capacity [mL/g]": 88.9173192496826,
         "_deepnote_index_column": "pretest_62"
        },
        {
         "CO2_working_capacity [mL/g]": 80.93031716034798,
         "_deepnote_index_column": "pretest_63"
        },
        {
         "CO2_working_capacity [mL/g]": 136.66850854867863,
         "_deepnote_index_column": "pretest_64"
        },
        {
         "CO2_working_capacity [mL/g]": 77.28993530555496,
         "_deepnote_index_column": "pretest_65"
        },
        {
         "CO2_working_capacity [mL/g]": 146.8052881106181,
         "_deepnote_index_column": "pretest_66"
        },
        {
         "CO2_working_capacity [mL/g]": 138.86302671539687,
         "_deepnote_index_column": "pretest_67"
        },
        {
         "CO2_working_capacity [mL/g]": 168.5605407860813,
         "_deepnote_index_column": "pretest_68"
        },
        {
         "CO2_working_capacity [mL/g]": 195.66105576165415,
         "_deepnote_index_column": "pretest_69"
        },
        {
         "CO2_working_capacity [mL/g]": 72.32428640821442,
         "_deepnote_index_column": "pretest_70"
        },
        {
         "CO2_working_capacity [mL/g]": 313.7833591700367,
         "_deepnote_index_column": "pretest_71"
        },
        {
         "CO2_working_capacity [mL/g]": 182.85172560552306,
         "_deepnote_index_column": "pretest_72"
        },
        {
         "CO2_working_capacity [mL/g]": 63.87518805569547,
         "_deepnote_index_column": "pretest_73"
        },
        {
         "CO2_working_capacity [mL/g]": 192.74500866053972,
         "_deepnote_index_column": "pretest_74"
        },
        {
         "CO2_working_capacity [mL/g]": 251.9526997216704,
         "_deepnote_index_column": "pretest_75"
        },
        {
         "CO2_working_capacity [mL/g]": 167.28597330728013,
         "_deepnote_index_column": "pretest_76"
        },
        {
         "CO2_working_capacity [mL/g]": 198.83370975435668,
         "_deepnote_index_column": "pretest_77"
        },
        {
         "CO2_working_capacity [mL/g]": 112.25786790938598,
         "_deepnote_index_column": "pretest_78"
        },
        {
         "CO2_working_capacity [mL/g]": 87.33755527156065,
         "_deepnote_index_column": "pretest_79"
        },
        {
         "CO2_working_capacity [mL/g]": 111.9352984883133,
         "_deepnote_index_column": "pretest_80"
        },
        {
         "CO2_working_capacity [mL/g]": 112.88649734026231,
         "_deepnote_index_column": "pretest_81"
        },
        {
         "CO2_working_capacity [mL/g]": 163.92962951701747,
         "_deepnote_index_column": "pretest_82"
        },
        {
         "CO2_working_capacity [mL/g]": 88.79859352238765,
         "_deepnote_index_column": "pretest_83"
        },
        {
         "CO2_working_capacity [mL/g]": 237.17347664246546,
         "_deepnote_index_column": "pretest_84"
        },
        {
         "CO2_working_capacity [mL/g]": 83.91829620974046,
         "_deepnote_index_column": "pretest_85"
        },
        {
         "CO2_working_capacity [mL/g]": 67.32654723817225,
         "_deepnote_index_column": "pretest_86"
        },
        {
         "CO2_working_capacity [mL/g]": 93.94485544220981,
         "_deepnote_index_column": "pretest_87"
        },
        {
         "CO2_working_capacity [mL/g]": 133.65643146277475,
         "_deepnote_index_column": "pretest_88"
        },
        {
         "CO2_working_capacity [mL/g]": 92.57450621269456,
         "_deepnote_index_column": "pretest_89"
        },
        {
         "CO2_working_capacity [mL/g]": 207.08948380160695,
         "_deepnote_index_column": "pretest_90"
        },
        {
         "CO2_working_capacity [mL/g]": 89.91836897180008,
         "_deepnote_index_column": "pretest_91"
        },
        {
         "CO2_working_capacity [mL/g]": 190.53639380677438,
         "_deepnote_index_column": "pretest_92"
        },
        {
         "CO2_working_capacity [mL/g]": 120.58607700110755,
         "_deepnote_index_column": "pretest_93"
        },
        {
         "CO2_working_capacity [mL/g]": 188.31497775993574,
         "_deepnote_index_column": "pretest_94"
        },
        {
         "CO2_working_capacity [mL/g]": 80.14102523988238,
         "_deepnote_index_column": "pretest_95"
        },
        {
         "CO2_working_capacity [mL/g]": 170.88788384089472,
         "_deepnote_index_column": "pretest_96"
        },
        {
         "CO2_working_capacity [mL/g]": 50.816188254330214,
         "_deepnote_index_column": "pretest_97"
        },
        {
         "CO2_working_capacity [mL/g]": 86.75101708141055,
         "_deepnote_index_column": "pretest_98"
        },
        {
         "CO2_working_capacity [mL/g]": 172.75298336583697,
         "_deepnote_index_column": "pretest_99"
        },
        {
         "CO2_working_capacity [mL/g]": 70.90201412818283,
         "_deepnote_index_column": "pretest_100"
        },
        {
         "CO2_working_capacity [mL/g]": 73.84337593669014,
         "_deepnote_index_column": "pretest_101"
        },
        {
         "CO2_working_capacity [mL/g]": 101.80148258102693,
         "_deepnote_index_column": "pretest_102"
        },
        {
         "CO2_working_capacity [mL/g]": 92.90185592891908,
         "_deepnote_index_column": "pretest_103"
        },
        {
         "CO2_working_capacity [mL/g]": 124.8446619426123,
         "_deepnote_index_column": "pretest_104"
        },
        {
         "CO2_working_capacity [mL/g]": 80.3324223883124,
         "_deepnote_index_column": "pretest_105"
        },
        {
         "CO2_working_capacity [mL/g]": 96.9919215747861,
         "_deepnote_index_column": "pretest_106"
        },
        {
         "CO2_working_capacity [mL/g]": 95.94469486194575,
         "_deepnote_index_column": "pretest_107"
        },
        {
         "CO2_working_capacity [mL/g]": 225.2569229481755,
         "_deepnote_index_column": "pretest_108"
        },
        {
         "CO2_working_capacity [mL/g]": 77.73328053143838,
         "_deepnote_index_column": "pretest_109"
        },
        {
         "CO2_working_capacity [mL/g]": 92.49703786038323,
         "_deepnote_index_column": "pretest_110"
        },
        {
         "CO2_working_capacity [mL/g]": 85.33527872712766,
         "_deepnote_index_column": "pretest_111"
        },
        {
         "CO2_working_capacity [mL/g]": 149.48842815776806,
         "_deepnote_index_column": "pretest_112"
        },
        {
         "CO2_working_capacity [mL/g]": 238.66551550473955,
         "_deepnote_index_column": "pretest_113"
        },
        {
         "CO2_working_capacity [mL/g]": 77.18614045359224,
         "_deepnote_index_column": "pretest_114"
        },
        {
         "CO2_working_capacity [mL/g]": 99.7025323770714,
         "_deepnote_index_column": "pretest_115"
        },
        {
         "CO2_working_capacity [mL/g]": 31.050565833856233,
         "_deepnote_index_column": "pretest_116"
        },
        {
         "CO2_working_capacity [mL/g]": 117.45164390286183,
         "_deepnote_index_column": "pretest_117"
        },
        {
         "CO2_working_capacity [mL/g]": 106.70802018946078,
         "_deepnote_index_column": "pretest_118"
        },
        {
         "CO2_working_capacity [mL/g]": 269.28029215477903,
         "_deepnote_index_column": "pretest_119"
        },
        {
         "CO2_working_capacity [mL/g]": 111.36950414326877,
         "_deepnote_index_column": "pretest_120"
        },
        {
         "CO2_working_capacity [mL/g]": 73.70023943287485,
         "_deepnote_index_column": "pretest_121"
        },
        {
         "CO2_working_capacity [mL/g]": 117.75857002877278,
         "_deepnote_index_column": "pretest_122"
        },
        {
         "CO2_working_capacity [mL/g]": 118.64960021878542,
         "_deepnote_index_column": "pretest_123"
        },
        {
         "CO2_working_capacity [mL/g]": 112.34659505102813,
         "_deepnote_index_column": "pretest_124"
        },
        {
         "CO2_working_capacity [mL/g]": 177.78391306004175,
         "_deepnote_index_column": "pretest_125"
        },
        {
         "CO2_working_capacity [mL/g]": 49.75670965078352,
         "_deepnote_index_column": "pretest_126"
        },
        {
         "CO2_working_capacity [mL/g]": 142.50767748707304,
         "_deepnote_index_column": "pretest_127"
        },
        {
         "CO2_working_capacity [mL/g]": 170.33673138944317,
         "_deepnote_index_column": "pretest_128"
        },
        {
         "CO2_working_capacity [mL/g]": 68.04114484229007,
         "_deepnote_index_column": "pretest_129"
        },
        {
         "CO2_working_capacity [mL/g]": 143.03717613089188,
         "_deepnote_index_column": "pretest_130"
        },
        {
         "CO2_working_capacity [mL/g]": 190.70492037172852,
         "_deepnote_index_column": "pretest_131"
        },
        {
         "CO2_working_capacity [mL/g]": 65.85009515449698,
         "_deepnote_index_column": "pretest_132"
        },
        {
         "CO2_working_capacity [mL/g]": 288.25104627032744,
         "_deepnote_index_column": "pretest_133"
        },
        {
         "CO2_working_capacity [mL/g]": 78.2456245526786,
         "_deepnote_index_column": "pretest_134"
        },
        {
         "CO2_working_capacity [mL/g]": 226.38447181639953,
         "_deepnote_index_column": "pretest_135"
        },
        {
         "CO2_working_capacity [mL/g]": 235.07848919600832,
         "_deepnote_index_column": "pretest_136"
        },
        {
         "CO2_working_capacity [mL/g]": 209.4936015834839,
         "_deepnote_index_column": "pretest_137"
        },
        {
         "CO2_working_capacity [mL/g]": 140.37204566528365,
         "_deepnote_index_column": "pretest_138"
        },
        {
         "CO2_working_capacity [mL/g]": 84.65017507809803,
         "_deepnote_index_column": "pretest_139"
        },
        {
         "CO2_working_capacity [mL/g]": 66.03587616679677,
         "_deepnote_index_column": "pretest_140"
        },
        {
         "CO2_working_capacity [mL/g]": 109.90405325945616,
         "_deepnote_index_column": "pretest_141"
        },
        {
         "CO2_working_capacity [mL/g]": 67.50704294666401,
         "_deepnote_index_column": "pretest_142"
        },
        {
         "CO2_working_capacity [mL/g]": 81.86740148601783,
         "_deepnote_index_column": "pretest_143"
        },
        {
         "CO2_working_capacity [mL/g]": 82.30988021772316,
         "_deepnote_index_column": "pretest_144"
        },
        {
         "CO2_working_capacity [mL/g]": 60.78032129498141,
         "_deepnote_index_column": "pretest_145"
        },
        {
         "CO2_working_capacity [mL/g]": 89.7541130314469,
         "_deepnote_index_column": "pretest_146"
        },
        {
         "CO2_working_capacity [mL/g]": 90.75233355096795,
         "_deepnote_index_column": "pretest_147"
        },
        {
         "CO2_working_capacity [mL/g]": 191.3866543320873,
         "_deepnote_index_column": "pretest_148"
        },
        {
         "CO2_working_capacity [mL/g]": 134.99812226990213,
         "_deepnote_index_column": "pretest_149"
        },
        {
         "CO2_working_capacity [mL/g]": 136.90427171491433,
         "_deepnote_index_column": "pretest_150"
        },
        {
         "CO2_working_capacity [mL/g]": 72.20426335078704,
         "_deepnote_index_column": "pretest_151"
        },
        {
         "CO2_working_capacity [mL/g]": 159.91858643477676,
         "_deepnote_index_column": "pretest_152"
        },
        {
         "CO2_working_capacity [mL/g]": 94.1635396030896,
         "_deepnote_index_column": "pretest_153"
        },
        {
         "CO2_working_capacity [mL/g]": 76.83276926042376,
         "_deepnote_index_column": "pretest_154"
        },
        {
         "CO2_working_capacity [mL/g]": 472.6459843640995,
         "_deepnote_index_column": "pretest_155"
        },
        {
         "CO2_working_capacity [mL/g]": 257.2820562365606,
         "_deepnote_index_column": "pretest_156"
        },
        {
         "CO2_working_capacity [mL/g]": 69.59194690596084,
         "_deepnote_index_column": "pretest_157"
        },
        {
         "CO2_working_capacity [mL/g]": 90.1512080498788,
         "_deepnote_index_column": "pretest_158"
        },
        {
         "CO2_working_capacity [mL/g]": 107.80708325770368,
         "_deepnote_index_column": "pretest_159"
        },
        {
         "CO2_working_capacity [mL/g]": 206.5779217473581,
         "_deepnote_index_column": "pretest_160"
        },
        {
         "CO2_working_capacity [mL/g]": 154.71024136691932,
         "_deepnote_index_column": "pretest_161"
        },
        {
         "CO2_working_capacity [mL/g]": 93.47161538440992,
         "_deepnote_index_column": "pretest_162"
        },
        {
         "CO2_working_capacity [mL/g]": 95.83286159316752,
         "_deepnote_index_column": "pretest_163"
        },
        {
         "CO2_working_capacity [mL/g]": 102.92090051717976,
         "_deepnote_index_column": "pretest_164"
        },
        {
         "CO2_working_capacity [mL/g]": 112.33469787799763,
         "_deepnote_index_column": "pretest_165"
        },
        {
         "CO2_working_capacity [mL/g]": 260.38249024426983,
         "_deepnote_index_column": "pretest_166"
        },
        {
         "CO2_working_capacity [mL/g]": 335.7284637246465,
         "_deepnote_index_column": "pretest_167"
        },
        {
         "CO2_working_capacity [mL/g]": 237.25832553979563,
         "_deepnote_index_column": "pretest_168"
        },
        {
         "CO2_working_capacity [mL/g]": 82.87215271224964,
         "_deepnote_index_column": "pretest_169"
        },
        {
         "CO2_working_capacity [mL/g]": 263.8685306747169,
         "_deepnote_index_column": "pretest_170"
        },
        {
         "CO2_working_capacity [mL/g]": 203.90140799597526,
         "_deepnote_index_column": "pretest_171"
        },
        {
         "CO2_working_capacity [mL/g]": 107.33940627468675,
         "_deepnote_index_column": "pretest_172"
        },
        {
         "CO2_working_capacity [mL/g]": 82.52378609873514,
         "_deepnote_index_column": "pretest_173"
        },
        {
         "CO2_working_capacity [mL/g]": 134.8439588606713,
         "_deepnote_index_column": "pretest_174"
        },
        {
         "CO2_working_capacity [mL/g]": 196.24182892859034,
         "_deepnote_index_column": "pretest_175"
        },
        {
         "CO2_working_capacity [mL/g]": 118.44757712965762,
         "_deepnote_index_column": "pretest_176"
        },
        {
         "CO2_working_capacity [mL/g]": 80.74153851066559,
         "_deepnote_index_column": "pretest_177"
        },
        {
         "CO2_working_capacity [mL/g]": 60.30998003020329,
         "_deepnote_index_column": "pretest_178"
        },
        {
         "CO2_working_capacity [mL/g]": 164.26843090921471,
         "_deepnote_index_column": "pretest_179"
        },
        {
         "CO2_working_capacity [mL/g]": 86.19944861521931,
         "_deepnote_index_column": "pretest_180"
        },
        {
         "CO2_working_capacity [mL/g]": 76.66683009353854,
         "_deepnote_index_column": "pretest_181"
        },
        {
         "CO2_working_capacity [mL/g]": 61.387114356950214,
         "_deepnote_index_column": "pretest_182"
        },
        {
         "CO2_working_capacity [mL/g]": 101.65328377491714,
         "_deepnote_index_column": "pretest_183"
        },
        {
         "CO2_working_capacity [mL/g]": 146.42219377906082,
         "_deepnote_index_column": "pretest_184"
        },
        {
         "CO2_working_capacity [mL/g]": 94.14247557067884,
         "_deepnote_index_column": "pretest_185"
        },
        {
         "CO2_working_capacity [mL/g]": 81.22431112260651,
         "_deepnote_index_column": "pretest_186"
        },
        {
         "CO2_working_capacity [mL/g]": 86.77183235432588,
         "_deepnote_index_column": "pretest_187"
        },
        {
         "CO2_working_capacity [mL/g]": 67.44781111641075,
         "_deepnote_index_column": "pretest_188"
        },
        {
         "CO2_working_capacity [mL/g]": 114.881290845598,
         "_deepnote_index_column": "pretest_189"
        },
        {
         "CO2_working_capacity [mL/g]": 121.4362749442744,
         "_deepnote_index_column": "pretest_190"
        },
        {
         "CO2_working_capacity [mL/g]": 85.36194938491693,
         "_deepnote_index_column": "pretest_191"
        },
        {
         "CO2_working_capacity [mL/g]": 74.93690137758094,
         "_deepnote_index_column": "pretest_192"
        },
        {
         "CO2_working_capacity [mL/g]": 83.21907400444907,
         "_deepnote_index_column": "pretest_193"
        },
        {
         "CO2_working_capacity [mL/g]": 126.03244237479014,
         "_deepnote_index_column": "pretest_194"
        },
        {
         "CO2_working_capacity [mL/g]": 129.0884433027363,
         "_deepnote_index_column": "pretest_195"
        },
        {
         "CO2_working_capacity [mL/g]": 69.78734402258684,
         "_deepnote_index_column": "pretest_196"
        },
        {
         "CO2_working_capacity [mL/g]": 215.33434921790885,
         "_deepnote_index_column": "pretest_197"
        },
        {
         "CO2_working_capacity [mL/g]": 40.90898763079156,
         "_deepnote_index_column": "pretest_198"
        },
        {
         "CO2_working_capacity [mL/g]": 60.76056272045285,
         "_deepnote_index_column": "pretest_199"
        },
        {
         "CO2_working_capacity [mL/g]": 111.51861899853152,
         "_deepnote_index_column": "pretest_200"
        },
        {
         "CO2_working_capacity [mL/g]": 121.48632791816468,
         "_deepnote_index_column": "pretest_201"
        },
        {
         "CO2_working_capacity [mL/g]": 143.84388627843452,
         "_deepnote_index_column": "pretest_202"
        },
        {
         "CO2_working_capacity [mL/g]": 31.22319548281382,
         "_deepnote_index_column": "pretest_203"
        },
        {
         "CO2_working_capacity [mL/g]": 67.49672581982054,
         "_deepnote_index_column": "pretest_204"
        },
        {
         "CO2_working_capacity [mL/g]": 127.90106677693947,
         "_deepnote_index_column": "pretest_205"
        },
        {
         "CO2_working_capacity [mL/g]": 99.12271325338217,
         "_deepnote_index_column": "pretest_206"
        },
        {
         "CO2_working_capacity [mL/g]": 60.40656098639963,
         "_deepnote_index_column": "pretest_207"
        },
        {
         "CO2_working_capacity [mL/g]": 168.6693987215245,
         "_deepnote_index_column": "pretest_208"
        },
        {
         "CO2_working_capacity [mL/g]": 75.00121210055049,
         "_deepnote_index_column": "pretest_209"
        },
        {
         "CO2_working_capacity [mL/g]": 164.95408824883776,
         "_deepnote_index_column": "pretest_210"
        },
        {
         "CO2_working_capacity [mL/g]": 64.33261612169197,
         "_deepnote_index_column": "pretest_211"
        },
        {
         "CO2_working_capacity [mL/g]": 126.751035440235,
         "_deepnote_index_column": "pretest_212"
        },
        {
         "CO2_working_capacity [mL/g]": 182.6499409506925,
         "_deepnote_index_column": "pretest_213"
        },
        {
         "CO2_working_capacity [mL/g]": 121.39650964924081,
         "_deepnote_index_column": "pretest_214"
        },
        {
         "CO2_working_capacity [mL/g]": 85.14655744552405,
         "_deepnote_index_column": "pretest_215"
        },
        {
         "CO2_working_capacity [mL/g]": 117.11140872496817,
         "_deepnote_index_column": "pretest_216"
        },
        {
         "CO2_working_capacity [mL/g]": 93.45462262118339,
         "_deepnote_index_column": "pretest_217"
        },
        {
         "CO2_working_capacity [mL/g]": 102.84154608091094,
         "_deepnote_index_column": "pretest_218"
        },
        {
         "CO2_working_capacity [mL/g]": 151.5297604378351,
         "_deepnote_index_column": "pretest_219"
        },
        {
         "CO2_working_capacity [mL/g]": 71.60108936980434,
         "_deepnote_index_column": "pretest_220"
        },
        {
         "CO2_working_capacity [mL/g]": 88.41674584031315,
         "_deepnote_index_column": "pretest_221"
        },
        {
         "CO2_working_capacity [mL/g]": 198.9902576866068,
         "_deepnote_index_column": "pretest_222"
        },
        {
         "CO2_working_capacity [mL/g]": 102.96595867066257,
         "_deepnote_index_column": "pretest_223"
        },
        {
         "CO2_working_capacity [mL/g]": 98.89777637160849,
         "_deepnote_index_column": "pretest_224"
        },
        {
         "CO2_working_capacity [mL/g]": 72.74013994194902,
         "_deepnote_index_column": "pretest_225"
        },
        {
         "CO2_working_capacity [mL/g]": 127.64214656645302,
         "_deepnote_index_column": "pretest_226"
        },
        {
         "CO2_working_capacity [mL/g]": 109.4164599320973,
         "_deepnote_index_column": "pretest_227"
        },
        {
         "CO2_working_capacity [mL/g]": 78.0101420749792,
         "_deepnote_index_column": "pretest_228"
        },
        {
         "CO2_working_capacity [mL/g]": 274.0115388273961,
         "_deepnote_index_column": "pretest_229"
        },
        {
         "CO2_working_capacity [mL/g]": 171.4968542067735,
         "_deepnote_index_column": "pretest_230"
        },
        {
         "CO2_working_capacity [mL/g]": 72.31552829502968,
         "_deepnote_index_column": "pretest_231"
        },
        {
         "CO2_working_capacity [mL/g]": 102.50388420329378,
         "_deepnote_index_column": "pretest_232"
        },
        {
         "CO2_working_capacity [mL/g]": 69.55885977958246,
         "_deepnote_index_column": "pretest_233"
        },
        {
         "CO2_working_capacity [mL/g]": 78.6885303459635,
         "_deepnote_index_column": "pretest_234"
        },
        {
         "CO2_working_capacity [mL/g]": 104.23080954319103,
         "_deepnote_index_column": "pretest_235"
        },
        {
         "CO2_working_capacity [mL/g]": 206.9976291452781,
         "_deepnote_index_column": "pretest_236"
        },
        {
         "CO2_working_capacity [mL/g]": 94.4469872614636,
         "_deepnote_index_column": "pretest_237"
        },
        {
         "CO2_working_capacity [mL/g]": 68.74327773797654,
         "_deepnote_index_column": "pretest_238"
        },
        {
         "CO2_working_capacity [mL/g]": 155.0353432794689,
         "_deepnote_index_column": "pretest_239"
        },
        {
         "CO2_working_capacity [mL/g]": 122.56659296446023,
         "_deepnote_index_column": "pretest_240"
        },
        {
         "CO2_working_capacity [mL/g]": 95.09225474831169,
         "_deepnote_index_column": "pretest_241"
        },
        {
         "CO2_working_capacity [mL/g]": 177.8932945398792,
         "_deepnote_index_column": "pretest_242"
        },
        {
         "CO2_working_capacity [mL/g]": 195.20173982194996,
         "_deepnote_index_column": "pretest_243"
        },
        {
         "CO2_working_capacity [mL/g]": 81.75884295906175,
         "_deepnote_index_column": "pretest_244"
        },
        {
         "CO2_working_capacity [mL/g]": 111.68542227471816,
         "_deepnote_index_column": "pretest_245"
        },
        {
         "CO2_working_capacity [mL/g]": 63.571953679842736,
         "_deepnote_index_column": "pretest_246"
        },
        {
         "CO2_working_capacity [mL/g]": 82.93619044698725,
         "_deepnote_index_column": "pretest_247"
        },
        {
         "CO2_working_capacity [mL/g]": 74.02884961647354,
         "_deepnote_index_column": "pretest_248"
        },
        {
         "CO2_working_capacity [mL/g]": 188.64682485529232,
         "_deepnote_index_column": "pretest_249"
        },
        {
         "CO2_working_capacity [mL/g]": 139.39482204831643,
         "_deepnote_index_column": "pretest_250"
        },
        {
         "CO2_working_capacity [mL/g]": 128.3863239273547,
         "_deepnote_index_column": "pretest_251"
        },
        {
         "CO2_working_capacity [mL/g]": 307.057385422064,
         "_deepnote_index_column": "pretest_252"
        },
        {
         "CO2_working_capacity [mL/g]": 268.96444070943596,
         "_deepnote_index_column": "pretest_253"
        },
        {
         "CO2_working_capacity [mL/g]": 209.26817434608097,
         "_deepnote_index_column": "pretest_254"
        },
        {
         "CO2_working_capacity [mL/g]": 282.1604193787835,
         "_deepnote_index_column": "pretest_255"
        },
        {
         "CO2_working_capacity [mL/g]": 270.74685971528004,
         "_deepnote_index_column": "pretest_256"
        },
        {
         "CO2_working_capacity [mL/g]": 149.54422015762242,
         "_deepnote_index_column": "pretest_257"
        },
        {
         "CO2_working_capacity [mL/g]": 138.24869565596208,
         "_deepnote_index_column": "pretest_258"
        },
        {
         "CO2_working_capacity [mL/g]": 404.5988480359325,
         "_deepnote_index_column": "pretest_259"
        },
        {
         "CO2_working_capacity [mL/g]": 176.99261797864918,
         "_deepnote_index_column": "pretest_260"
        },
        {
         "CO2_working_capacity [mL/g]": 73.53356701469656,
         "_deepnote_index_column": "pretest_261"
        },
        {
         "CO2_working_capacity [mL/g]": 66.36824226240283,
         "_deepnote_index_column": "pretest_262"
        },
        {
         "CO2_working_capacity [mL/g]": 175.07956363219446,
         "_deepnote_index_column": "pretest_263"
        },
        {
         "CO2_working_capacity [mL/g]": 107.13149467744024,
         "_deepnote_index_column": "pretest_264"
        },
        {
         "CO2_working_capacity [mL/g]": 185.40329676156566,
         "_deepnote_index_column": "pretest_265"
        },
        {
         "CO2_working_capacity [mL/g]": 104.48228102410151,
         "_deepnote_index_column": "pretest_266"
        },
        {
         "CO2_working_capacity [mL/g]": 248.98874582730173,
         "_deepnote_index_column": "pretest_267"
        },
        {
         "CO2_working_capacity [mL/g]": 66.51511042980536,
         "_deepnote_index_column": "pretest_268"
        },
        {
         "CO2_working_capacity [mL/g]": 62.801328966707146,
         "_deepnote_index_column": "pretest_269"
        },
        {
         "CO2_working_capacity [mL/g]": 120.83981810957489,
         "_deepnote_index_column": "pretest_270"
        },
        {
         "CO2_working_capacity [mL/g]": 105.80803175758965,
         "_deepnote_index_column": "pretest_271"
        },
        {
         "CO2_working_capacity [mL/g]": 111.4138487771772,
         "_deepnote_index_column": "pretest_272"
        },
        {
         "CO2_working_capacity [mL/g]": 108.48003169845106,
         "_deepnote_index_column": "pretest_273"
        },
        {
         "CO2_working_capacity [mL/g]": 54.85975206707384,
         "_deepnote_index_column": "pretest_274"
        },
        {
         "CO2_working_capacity [mL/g]": 80.91170345317013,
         "_deepnote_index_column": "pretest_275"
        },
        {
         "CO2_working_capacity [mL/g]": 136.4262193051977,
         "_deepnote_index_column": "pretest_276"
        },
        {
         "CO2_working_capacity [mL/g]": 77.38740850834708,
         "_deepnote_index_column": "pretest_277"
        },
        {
         "CO2_working_capacity [mL/g]": 148.5744312311594,
         "_deepnote_index_column": "pretest_278"
        },
        {
         "CO2_working_capacity [mL/g]": 239.7161875736559,
         "_deepnote_index_column": "pretest_279"
        },
        {
         "CO2_working_capacity [mL/g]": 85.41282075596637,
         "_deepnote_index_column": "pretest_280"
        },
        {
         "CO2_working_capacity [mL/g]": 440.5503051240169,
         "_deepnote_index_column": "pretest_281"
        },
        {
         "CO2_working_capacity [mL/g]": 141.58087157094639,
         "_deepnote_index_column": "pretest_282"
        },
        {
         "CO2_working_capacity [mL/g]": 174.05729978808958,
         "_deepnote_index_column": "pretest_283"
        },
        {
         "CO2_working_capacity [mL/g]": 107.96872265186971,
         "_deepnote_index_column": "pretest_284"
        },
        {
         "CO2_working_capacity [mL/g]": 97.49158119172996,
         "_deepnote_index_column": "pretest_285"
        },
        {
         "CO2_working_capacity [mL/g]": 70.70790040218611,
         "_deepnote_index_column": "pretest_286"
        },
        {
         "CO2_working_capacity [mL/g]": 139.7887303781899,
         "_deepnote_index_column": "pretest_287"
        },
        {
         "CO2_working_capacity [mL/g]": 47.35896018327492,
         "_deepnote_index_column": "pretest_288"
        },
        {
         "CO2_working_capacity [mL/g]": 133.53250563858992,
         "_deepnote_index_column": "pretest_289"
        },
        {
         "CO2_working_capacity [mL/g]": 194.5035541398882,
         "_deepnote_index_column": "pretest_290"
        },
        {
         "CO2_working_capacity [mL/g]": 177.43260585871445,
         "_deepnote_index_column": "pretest_291"
        },
        {
         "CO2_working_capacity [mL/g]": 179.95807095325836,
         "_deepnote_index_column": "pretest_292"
        },
        {
         "CO2_working_capacity [mL/g]": 93.95787667014008,
         "_deepnote_index_column": "pretest_293"
        },
        {
         "CO2_working_capacity [mL/g]": 274.2878021658818,
         "_deepnote_index_column": "pretest_294"
        },
        {
         "CO2_working_capacity [mL/g]": 64.7347346450669,
         "_deepnote_index_column": "pretest_295"
        },
        {
         "CO2_working_capacity [mL/g]": 330.94879068746127,
         "_deepnote_index_column": "pretest_296"
        },
        {
         "CO2_working_capacity [mL/g]": 71.71538444428793,
         "_deepnote_index_column": "pretest_297"
        },
        {
         "CO2_working_capacity [mL/g]": 156.2494513822473,
         "_deepnote_index_column": "pretest_298"
        },
        {
         "CO2_working_capacity [mL/g]": 207.62392845665323,
         "_deepnote_index_column": "pretest_299"
        },
        {
         "CO2_working_capacity [mL/g]": 53.76466440960944,
         "_deepnote_index_column": "pretest_300"
        },
        {
         "CO2_working_capacity [mL/g]": 172.62963869441495,
         "_deepnote_index_column": "pretest_301"
        },
        {
         "CO2_working_capacity [mL/g]": 113.8847501147142,
         "_deepnote_index_column": "pretest_302"
        },
        {
         "CO2_working_capacity [mL/g]": 81.25788670473442,
         "_deepnote_index_column": "pretest_303"
        },
        {
         "CO2_working_capacity [mL/g]": 313.9018574256585,
         "_deepnote_index_column": "pretest_304"
        },
        {
         "CO2_working_capacity [mL/g]": 115.52048531919922,
         "_deepnote_index_column": "pretest_305"
        },
        {
         "CO2_working_capacity [mL/g]": 224.73890204305448,
         "_deepnote_index_column": "pretest_306"
        },
        {
         "CO2_working_capacity [mL/g]": 51.96827129116125,
         "_deepnote_index_column": "pretest_307"
        },
        {
         "CO2_working_capacity [mL/g]": 110.19073552169102,
         "_deepnote_index_column": "pretest_308"
        },
        {
         "CO2_working_capacity [mL/g]": 157.9685569343156,
         "_deepnote_index_column": "pretest_309"
        },
        {
         "CO2_working_capacity [mL/g]": 125.76576119495572,
         "_deepnote_index_column": "pretest_310"
        },
        {
         "CO2_working_capacity [mL/g]": 113.33395688837797,
         "_deepnote_index_column": "pretest_311"
        },
        {
         "CO2_working_capacity [mL/g]": 55.955345305318325,
         "_deepnote_index_column": "pretest_312"
        },
        {
         "CO2_working_capacity [mL/g]": 107.99465778778308,
         "_deepnote_index_column": "pretest_313"
        },
        {
         "CO2_working_capacity [mL/g]": 76.71639813748952,
         "_deepnote_index_column": "pretest_314"
        },
        {
         "CO2_working_capacity [mL/g]": 194.89948514169163,
         "_deepnote_index_column": "pretest_315"
        },
        {
         "CO2_working_capacity [mL/g]": 132.01667553444148,
         "_deepnote_index_column": "pretest_316"
        },
        {
         "CO2_working_capacity [mL/g]": 96.90147327318144,
         "_deepnote_index_column": "pretest_317"
        },
        {
         "CO2_working_capacity [mL/g]": 87.67914679183139,
         "_deepnote_index_column": "pretest_318"
        },
        {
         "CO2_working_capacity [mL/g]": 86.01597718052906,
         "_deepnote_index_column": "pretest_319"
        },
        {
         "CO2_working_capacity [mL/g]": 167.44101760795803,
         "_deepnote_index_column": "pretest_320"
        },
        {
         "CO2_working_capacity [mL/g]": 124.06938706547507,
         "_deepnote_index_column": "pretest_321"
        },
        {
         "CO2_working_capacity [mL/g]": 93.46092136496263,
         "_deepnote_index_column": "pretest_322"
        },
        {
         "CO2_working_capacity [mL/g]": 142.96800630429658,
         "_deepnote_index_column": "pretest_323"
        },
        {
         "CO2_working_capacity [mL/g]": 78.46596205493042,
         "_deepnote_index_column": "pretest_324"
        },
        {
         "CO2_working_capacity [mL/g]": 123.5158494123835,
         "_deepnote_index_column": "pretest_325"
        },
        {
         "CO2_working_capacity [mL/g]": 144.1504407219522,
         "_deepnote_index_column": "pretest_326"
        },
        {
         "CO2_working_capacity [mL/g]": 132.90379918983564,
         "_deepnote_index_column": "pretest_327"
        },
        {
         "CO2_working_capacity [mL/g]": 63.295736174706256,
         "_deepnote_index_column": "pretest_328"
        },
        {
         "CO2_working_capacity [mL/g]": 75.7034765521721,
         "_deepnote_index_column": "pretest_329"
        },
        {
         "CO2_working_capacity [mL/g]": 64.9823860003456,
         "_deepnote_index_column": "pretest_330"
        },
        {
         "CO2_working_capacity [mL/g]": 198.11302722251804,
         "_deepnote_index_column": "pretest_331"
        },
        {
         "CO2_working_capacity [mL/g]": 133.14537796177137,
         "_deepnote_index_column": "pretest_332"
        },
        {
         "CO2_working_capacity [mL/g]": 109.37927323102141,
         "_deepnote_index_column": "pretest_333"
        },
        {
         "CO2_working_capacity [mL/g]": 71.46209762871521,
         "_deepnote_index_column": "pretest_334"
        },
        {
         "CO2_working_capacity [mL/g]": 92.87159514844367,
         "_deepnote_index_column": "pretest_335"
        },
        {
         "CO2_working_capacity [mL/g]": 128.56396941034478,
         "_deepnote_index_column": "pretest_336"
        },
        {
         "CO2_working_capacity [mL/g]": 99.79721610854688,
         "_deepnote_index_column": "pretest_337"
        },
        {
         "CO2_working_capacity [mL/g]": 246.64753540901248,
         "_deepnote_index_column": "pretest_338"
        },
        {
         "CO2_working_capacity [mL/g]": 478.0365635511972,
         "_deepnote_index_column": "pretest_339"
        },
        {
         "CO2_working_capacity [mL/g]": 186.84422580947574,
         "_deepnote_index_column": "pretest_340"
        },
        {
         "CO2_working_capacity [mL/g]": 68.0469998059577,
         "_deepnote_index_column": "pretest_341"
        },
        {
         "CO2_working_capacity [mL/g]": 80.44000138578794,
         "_deepnote_index_column": "pretest_342"
        },
        {
         "CO2_working_capacity [mL/g]": 120.41566803946777,
         "_deepnote_index_column": "pretest_343"
        },
        {
         "CO2_working_capacity [mL/g]": 169.39498181489063,
         "_deepnote_index_column": "pretest_344"
        },
        {
         "CO2_working_capacity [mL/g]": 433.1829808004997,
         "_deepnote_index_column": "pretest_345"
        },
        {
         "CO2_working_capacity [mL/g]": 160.42507258144403,
         "_deepnote_index_column": "pretest_346"
        },
        {
         "CO2_working_capacity [mL/g]": 219.59194026583077,
         "_deepnote_index_column": "pretest_347"
        },
        {
         "CO2_working_capacity [mL/g]": 297.6956826697298,
         "_deepnote_index_column": "pretest_348"
        },
        {
         "CO2_working_capacity [mL/g]": 72.02299635266777,
         "_deepnote_index_column": "pretest_349"
        },
        {
         "CO2_working_capacity [mL/g]": 245.66811084010178,
         "_deepnote_index_column": "pretest_350"
        },
        {
         "CO2_working_capacity [mL/g]": 82.53158530283993,
         "_deepnote_index_column": "pretest_351"
        },
        {
         "CO2_working_capacity [mL/g]": 70.14163369070484,
         "_deepnote_index_column": "pretest_352"
        },
        {
         "CO2_working_capacity [mL/g]": 93.74873272293573,
         "_deepnote_index_column": "pretest_353"
        },
        {
         "CO2_working_capacity [mL/g]": 93.36083246361527,
         "_deepnote_index_column": "pretest_354"
        },
        {
         "CO2_working_capacity [mL/g]": 62.32486450055895,
         "_deepnote_index_column": "pretest_355"
        },
        {
         "CO2_working_capacity [mL/g]": 136.00859741237224,
         "_deepnote_index_column": "pretest_356"
        },
        {
         "CO2_working_capacity [mL/g]": 173.80571267129966,
         "_deepnote_index_column": "pretest_357"
        },
        {
         "CO2_working_capacity [mL/g]": 81.03421992524837,
         "_deepnote_index_column": "pretest_358"
        },
        {
         "CO2_working_capacity [mL/g]": 72.34393402463209,
         "_deepnote_index_column": "pretest_359"
        },
        {
         "CO2_working_capacity [mL/g]": 520.595423596436,
         "_deepnote_index_column": "pretest_360"
        },
        {
         "CO2_working_capacity [mL/g]": 88.05169050560603,
         "_deepnote_index_column": "pretest_361"
        },
        {
         "CO2_working_capacity [mL/g]": 57.617564442387994,
         "_deepnote_index_column": "pretest_362"
        },
        {
         "CO2_working_capacity [mL/g]": 285.23920071142265,
         "_deepnote_index_column": "pretest_363"
        },
        {
         "CO2_working_capacity [mL/g]": 84.81644166000913,
         "_deepnote_index_column": "pretest_364"
        },
        {
         "CO2_working_capacity [mL/g]": 98.45307796212558,
         "_deepnote_index_column": "pretest_365"
        },
        {
         "CO2_working_capacity [mL/g]": 190.10290861612202,
         "_deepnote_index_column": "pretest_366"
        },
        {
         "CO2_working_capacity [mL/g]": 461.3360082705659,
         "_deepnote_index_column": "pretest_367"
        },
        {
         "CO2_working_capacity [mL/g]": 247.54948973134438,
         "_deepnote_index_column": "pretest_368"
        },
        {
         "CO2_working_capacity [mL/g]": 70.46394238626915,
         "_deepnote_index_column": "pretest_369"
        },
        {
         "CO2_working_capacity [mL/g]": 297.9189220553716,
         "_deepnote_index_column": "pretest_370"
        },
        {
         "CO2_working_capacity [mL/g]": 176.67859026289594,
         "_deepnote_index_column": "pretest_371"
        },
        {
         "CO2_working_capacity [mL/g]": 115.4668006643232,
         "_deepnote_index_column": "pretest_372"
        },
        {
         "CO2_working_capacity [mL/g]": 270.08813121352216,
         "_deepnote_index_column": "pretest_373"
        },
        {
         "CO2_working_capacity [mL/g]": 100.34105882565903,
         "_deepnote_index_column": "pretest_374"
        },
        {
         "CO2_working_capacity [mL/g]": 59.53146829108416,
         "_deepnote_index_column": "pretest_375"
        },
        {
         "CO2_working_capacity [mL/g]": 99.42602445230541,
         "_deepnote_index_column": "pretest_376"
        },
        {
         "CO2_working_capacity [mL/g]": 156.3393690414644,
         "_deepnote_index_column": "pretest_377"
        },
        {
         "CO2_working_capacity [mL/g]": 275.3513768841179,
         "_deepnote_index_column": "pretest_378"
        },
        {
         "CO2_working_capacity [mL/g]": 56.1169677677447,
         "_deepnote_index_column": "pretest_379"
        },
        {
         "CO2_working_capacity [mL/g]": 154.83104608308258,
         "_deepnote_index_column": "pretest_380"
        },
        {
         "CO2_working_capacity [mL/g]": 44.92426567351284,
         "_deepnote_index_column": "pretest_381"
        },
        {
         "CO2_working_capacity [mL/g]": 267.31697742104615,
         "_deepnote_index_column": "pretest_382"
        },
        {
         "CO2_working_capacity [mL/g]": 344.10978275171874,
         "_deepnote_index_column": "pretest_383"
        },
        {
         "CO2_working_capacity [mL/g]": 103.9717182462285,
         "_deepnote_index_column": "pretest_384"
        },
        {
         "CO2_working_capacity [mL/g]": 80.80316348860406,
         "_deepnote_index_column": "pretest_385"
        },
        {
         "CO2_working_capacity [mL/g]": 75.03243139195202,
         "_deepnote_index_column": "pretest_386"
        },
        {
         "CO2_working_capacity [mL/g]": 176.7201877339271,
         "_deepnote_index_column": "pretest_387"
        },
        {
         "CO2_working_capacity [mL/g]": 191.21860538377945,
         "_deepnote_index_column": "pretest_388"
        },
        {
         "CO2_working_capacity [mL/g]": 206.28472724113925,
         "_deepnote_index_column": "pretest_389"
        },
        {
         "CO2_working_capacity [mL/g]": 112.34429677288168,
         "_deepnote_index_column": "pretest_390"
        },
        {
         "CO2_working_capacity [mL/g]": 72.00481126702869,
         "_deepnote_index_column": "pretest_391"
        },
        {
         "CO2_working_capacity [mL/g]": 88.43444175196484,
         "_deepnote_index_column": "pretest_392"
        },
        {
         "CO2_working_capacity [mL/g]": 216.08920548658253,
         "_deepnote_index_column": "pretest_393"
        },
        {
         "CO2_working_capacity [mL/g]": 231.33870017946532,
         "_deepnote_index_column": "pretest_394"
        },
        {
         "CO2_working_capacity [mL/g]": 238.33589076709023,
         "_deepnote_index_column": "pretest_395"
        },
        {
         "CO2_working_capacity [mL/g]": 79.91166552199572,
         "_deepnote_index_column": "pretest_396"
        },
        {
         "CO2_working_capacity [mL/g]": 99.41103497415966,
         "_deepnote_index_column": "pretest_397"
        },
        {
         "CO2_working_capacity [mL/g]": 213.95086402494525,
         "_deepnote_index_column": "pretest_398"
        },
        {
         "CO2_working_capacity [mL/g]": 97.63371926246383,
         "_deepnote_index_column": "pretest_399"
        },
        {
         "CO2_working_capacity [mL/g]": 159.17863511612518,
         "_deepnote_index_column": "pretest_400"
        },
        {
         "CO2_working_capacity [mL/g]": 112.83175331503139,
         "_deepnote_index_column": "pretest_401"
        },
        {
         "CO2_working_capacity [mL/g]": 76.15601652914151,
         "_deepnote_index_column": "pretest_402"
        },
        {
         "CO2_working_capacity [mL/g]": 76.78852097921495,
         "_deepnote_index_column": "pretest_403"
        },
        {
         "CO2_working_capacity [mL/g]": 83.43890423340697,
         "_deepnote_index_column": "pretest_404"
        },
        {
         "CO2_working_capacity [mL/g]": 202.49276757250112,
         "_deepnote_index_column": "pretest_405"
        },
        {
         "CO2_working_capacity [mL/g]": 74.34602999450019,
         "_deepnote_index_column": "pretest_406"
        },
        {
         "CO2_working_capacity [mL/g]": 124.04352576572569,
         "_deepnote_index_column": "pretest_407"
        },
        {
         "CO2_working_capacity [mL/g]": 106.37568637608106,
         "_deepnote_index_column": "pretest_408"
        },
        {
         "CO2_working_capacity [mL/g]": 63.80514582573882,
         "_deepnote_index_column": "pretest_409"
        },
        {
         "CO2_working_capacity [mL/g]": 90.3323247446187,
         "_deepnote_index_column": "pretest_410"
        },
        {
         "CO2_working_capacity [mL/g]": 303.2034140919527,
         "_deepnote_index_column": "pretest_411"
        },
        {
         "CO2_working_capacity [mL/g]": 95.91364066015038,
         "_deepnote_index_column": "pretest_412"
        },
        {
         "CO2_working_capacity [mL/g]": 130.66666067845557,
         "_deepnote_index_column": "pretest_413"
        },
        {
         "CO2_working_capacity [mL/g]": 163.47166695483025,
         "_deepnote_index_column": "pretest_414"
        },
        {
         "CO2_working_capacity [mL/g]": 146.68426653770763,
         "_deepnote_index_column": "pretest_415"
        },
        {
         "CO2_working_capacity [mL/g]": 84.79328188757358,
         "_deepnote_index_column": "pretest_416"
        },
        {
         "CO2_working_capacity [mL/g]": 96.95805202646595,
         "_deepnote_index_column": "pretest_417"
        },
        {
         "CO2_working_capacity [mL/g]": 227.7930814891635,
         "_deepnote_index_column": "pretest_418"
        },
        {
         "CO2_working_capacity [mL/g]": 218.6766262498067,
         "_deepnote_index_column": "pretest_419"
        },
        {
         "CO2_working_capacity [mL/g]": 90.12389478746994,
         "_deepnote_index_column": "pretest_420"
        },
        {
         "CO2_working_capacity [mL/g]": 63.020019552469286,
         "_deepnote_index_column": "pretest_421"
        },
        {
         "CO2_working_capacity [mL/g]": 102.10850842854208,
         "_deepnote_index_column": "pretest_422"
        },
        {
         "CO2_working_capacity [mL/g]": 79.58540791646412,
         "_deepnote_index_column": "pretest_423"
        },
        {
         "CO2_working_capacity [mL/g]": 254.5907726864908,
         "_deepnote_index_column": "pretest_424"
        },
        {
         "CO2_working_capacity [mL/g]": 316.470340257796,
         "_deepnote_index_column": "pretest_425"
        },
        {
         "CO2_working_capacity [mL/g]": 76.58374445548164,
         "_deepnote_index_column": "pretest_426"
        },
        {
         "CO2_working_capacity [mL/g]": 93.84165251588294,
         "_deepnote_index_column": "pretest_427"
        },
        {
         "CO2_working_capacity [mL/g]": 161.99375097374428,
         "_deepnote_index_column": "pretest_428"
        },
        {
         "CO2_working_capacity [mL/g]": 177.9272394442628,
         "_deepnote_index_column": "pretest_429"
        },
        {
         "CO2_working_capacity [mL/g]": 227.99611873363943,
         "_deepnote_index_column": "pretest_430"
        },
        {
         "CO2_working_capacity [mL/g]": 247.91574785942808,
         "_deepnote_index_column": "pretest_431"
        },
        {
         "CO2_working_capacity [mL/g]": 153.89174840997833,
         "_deepnote_index_column": "pretest_432"
        },
        {
         "CO2_working_capacity [mL/g]": 217.94721523657927,
         "_deepnote_index_column": "pretest_433"
        },
        {
         "CO2_working_capacity [mL/g]": 326.7470013094015,
         "_deepnote_index_column": "pretest_434"
        },
        {
         "CO2_working_capacity [mL/g]": 76.57706957749431,
         "_deepnote_index_column": "pretest_435"
        },
        {
         "CO2_working_capacity [mL/g]": 68.04862263840567,
         "_deepnote_index_column": "pretest_436"
        },
        {
         "CO2_working_capacity [mL/g]": 101.30184384990517,
         "_deepnote_index_column": "pretest_437"
        },
        {
         "CO2_working_capacity [mL/g]": 54.64165496563976,
         "_deepnote_index_column": "pretest_438"
        },
        {
         "CO2_working_capacity [mL/g]": 184.69073065570436,
         "_deepnote_index_column": "pretest_439"
        },
        {
         "CO2_working_capacity [mL/g]": 84.73372814279068,
         "_deepnote_index_column": "pretest_440"
        },
        {
         "CO2_working_capacity [mL/g]": 115.4671626739627,
         "_deepnote_index_column": "pretest_441"
        },
        {
         "CO2_working_capacity [mL/g]": 120.1605667710005,
         "_deepnote_index_column": "pretest_442"
        },
        {
         "CO2_working_capacity [mL/g]": 236.46442475210466,
         "_deepnote_index_column": "pretest_443"
        },
        {
         "CO2_working_capacity [mL/g]": 56.84100355044366,
         "_deepnote_index_column": "pretest_444"
        },
        {
         "CO2_working_capacity [mL/g]": 50.84314128454582,
         "_deepnote_index_column": "pretest_445"
        },
        {
         "CO2_working_capacity [mL/g]": 59.393295327489646,
         "_deepnote_index_column": "pretest_446"
        },
        {
         "CO2_working_capacity [mL/g]": 99.34351971607482,
         "_deepnote_index_column": "pretest_447"
        },
        {
         "CO2_working_capacity [mL/g]": 271.78790118111266,
         "_deepnote_index_column": "pretest_448"
        },
        {
         "CO2_working_capacity [mL/g]": 90.97895921016789,
         "_deepnote_index_column": "pretest_449"
        },
        {
         "CO2_working_capacity [mL/g]": 65.2780427217774,
         "_deepnote_index_column": "pretest_450"
        },
        {
         "CO2_working_capacity [mL/g]": 386.6576549348697,
         "_deepnote_index_column": "pretest_451"
        },
        {
         "CO2_working_capacity [mL/g]": 69.79461482484126,
         "_deepnote_index_column": "pretest_452"
        },
        {
         "CO2_working_capacity [mL/g]": 79.49754764041448,
         "_deepnote_index_column": "pretest_453"
        },
        {
         "CO2_working_capacity [mL/g]": 83.8995435808874,
         "_deepnote_index_column": "pretest_454"
        },
        {
         "CO2_working_capacity [mL/g]": 135.53376645147753,
         "_deepnote_index_column": "pretest_455"
        },
        {
         "CO2_working_capacity [mL/g]": 58.31468492171816,
         "_deepnote_index_column": "pretest_456"
        },
        {
         "CO2_working_capacity [mL/g]": 99.4389456364755,
         "_deepnote_index_column": "pretest_457"
        },
        {
         "CO2_working_capacity [mL/g]": 278.1647993207529,
         "_deepnote_index_column": "pretest_458"
        },
        {
         "CO2_working_capacity [mL/g]": 92.44490819931067,
         "_deepnote_index_column": "pretest_459"
        },
        {
         "CO2_working_capacity [mL/g]": 146.2397435306194,
         "_deepnote_index_column": "pretest_460"
        },
        {
         "CO2_working_capacity [mL/g]": 80.83624313739517,
         "_deepnote_index_column": "pretest_461"
        },
        {
         "CO2_working_capacity [mL/g]": 309.77770087481906,
         "_deepnote_index_column": "pretest_462"
        },
        {
         "CO2_working_capacity [mL/g]": 238.64226650055843,
         "_deepnote_index_column": "pretest_463"
        },
        {
         "CO2_working_capacity [mL/g]": 84.37983116434653,
         "_deepnote_index_column": "pretest_464"
        },
        {
         "CO2_working_capacity [mL/g]": 460.36243759007795,
         "_deepnote_index_column": "pretest_465"
        },
        {
         "CO2_working_capacity [mL/g]": 77.85446403032947,
         "_deepnote_index_column": "pretest_466"
        },
        {
         "CO2_working_capacity [mL/g]": 118.64016705012664,
         "_deepnote_index_column": "pretest_467"
        },
        {
         "CO2_working_capacity [mL/g]": 212.25871197320816,
         "_deepnote_index_column": "pretest_468"
        },
        {
         "CO2_working_capacity [mL/g]": 265.77525397990223,
         "_deepnote_index_column": "pretest_469"
        },
        {
         "CO2_working_capacity [mL/g]": 125.51936478634425,
         "_deepnote_index_column": "pretest_470"
        },
        {
         "CO2_working_capacity [mL/g]": 245.4300442705506,
         "_deepnote_index_column": "pretest_471"
        },
        {
         "CO2_working_capacity [mL/g]": 199.2817324355817,
         "_deepnote_index_column": "pretest_472"
        },
        {
         "CO2_working_capacity [mL/g]": 124.09058554014265,
         "_deepnote_index_column": "pretest_473"
        },
        {
         "CO2_working_capacity [mL/g]": 266.89994674269457,
         "_deepnote_index_column": "pretest_474"
        },
        {
         "CO2_working_capacity [mL/g]": 409.5748940447187,
         "_deepnote_index_column": "pretest_475"
        },
        {
         "CO2_working_capacity [mL/g]": 196.37951591254088,
         "_deepnote_index_column": "pretest_476"
        },
        {
         "CO2_working_capacity [mL/g]": 74.66622663013585,
         "_deepnote_index_column": "pretest_477"
        },
        {
         "CO2_working_capacity [mL/g]": 46.7774262438446,
         "_deepnote_index_column": "pretest_478"
        },
        {
         "CO2_working_capacity [mL/g]": 104.67852451860881,
         "_deepnote_index_column": "pretest_479"
        },
        {
         "CO2_working_capacity [mL/g]": 234.71477921317768,
         "_deepnote_index_column": "pretest_480"
        },
        {
         "CO2_working_capacity [mL/g]": 119.6905558500589,
         "_deepnote_index_column": "pretest_481"
        },
        {
         "CO2_working_capacity [mL/g]": 181.38084790587297,
         "_deepnote_index_column": "pretest_482"
        },
        {
         "CO2_working_capacity [mL/g]": 123.22158841934579,
         "_deepnote_index_column": "pretest_483"
        },
        {
         "CO2_working_capacity [mL/g]": 68.94611485771532,
         "_deepnote_index_column": "pretest_484"
        },
        {
         "CO2_working_capacity [mL/g]": 104.93606052903552,
         "_deepnote_index_column": "pretest_485"
        },
        {
         "CO2_working_capacity [mL/g]": 105.44239263520828,
         "_deepnote_index_column": "pretest_486"
        },
        {
         "CO2_working_capacity [mL/g]": 114.55125457604314,
         "_deepnote_index_column": "pretest_487"
        },
        {
         "CO2_working_capacity [mL/g]": 101.15838896584509,
         "_deepnote_index_column": "pretest_488"
        },
        {
         "CO2_working_capacity [mL/g]": 91.34450645854885,
         "_deepnote_index_column": "pretest_489"
        },
        {
         "CO2_working_capacity [mL/g]": 137.70862070618193,
         "_deepnote_index_column": "pretest_490"
        },
        {
         "CO2_working_capacity [mL/g]": 70.57329214670092,
         "_deepnote_index_column": "pretest_491"
        },
        {
         "CO2_working_capacity [mL/g]": 58.964385478644814,
         "_deepnote_index_column": "pretest_492"
        },
        {
         "CO2_working_capacity [mL/g]": 96.16769886088795,
         "_deepnote_index_column": "pretest_493"
        },
        {
         "CO2_working_capacity [mL/g]": 130.84964136725475,
         "_deepnote_index_column": "pretest_494"
        },
        {
         "CO2_working_capacity [mL/g]": 114.35624363445395,
         "_deepnote_index_column": "pretest_495"
        },
        {
         "CO2_working_capacity [mL/g]": 103.26115746287567,
         "_deepnote_index_column": "pretest_496"
        },
        {
         "CO2_working_capacity [mL/g]": 78.06352562453401,
         "_deepnote_index_column": "pretest_497"
        },
        {
         "CO2_working_capacity [mL/g]": 111.48460661445297,
         "_deepnote_index_column": "pretest_498"
        },
        {
         "CO2_working_capacity [mL/g]": 258.2989387384234,
         "_deepnote_index_column": "pretest_499"
        },
        {
         "CO2_working_capacity [mL/g]": 273.36526576417174,
         "_deepnote_index_column": "pretest_500"
        }
       ],
       "rows_bottom": [
        {
         "CO2_working_capacity [mL/g]": -2.316340328428859,
         "_deepnote_index_column": "pretest_1501"
        },
        {
         "CO2_working_capacity [mL/g]": -3.9679889002877418,
         "_deepnote_index_column": "pretest_1502"
        },
        {
         "CO2_working_capacity [mL/g]": -6.491480080902955,
         "_deepnote_index_column": "pretest_1503"
        },
        {
         "CO2_working_capacity [mL/g]": 3.790304917768816,
         "_deepnote_index_column": "pretest_1504"
        },
        {
         "CO2_working_capacity [mL/g]": -4.2368626524462005,
         "_deepnote_index_column": "pretest_1505"
        },
        {
         "CO2_working_capacity [mL/g]": -1.528414831550262,
         "_deepnote_index_column": "pretest_1506"
        },
        {
         "CO2_working_capacity [mL/g]": -3.9740704215308624,
         "_deepnote_index_column": "pretest_1507"
        },
        {
         "CO2_working_capacity [mL/g]": -10.981666264102023,
         "_deepnote_index_column": "pretest_1508"
        },
        {
         "CO2_working_capacity [mL/g]": -3.383836158822189,
         "_deepnote_index_column": "pretest_1509"
        },
        {
         "CO2_working_capacity [mL/g]": -3.8637073037717897,
         "_deepnote_index_column": "pretest_1510"
        },
        {
         "CO2_working_capacity [mL/g]": 6.936138974945993,
         "_deepnote_index_column": "pretest_1511"
        },
        {
         "CO2_working_capacity [mL/g]": 9.239758400820026,
         "_deepnote_index_column": "pretest_1512"
        },
        {
         "CO2_working_capacity [mL/g]": 1.2547544241802142,
         "_deepnote_index_column": "pretest_1513"
        },
        {
         "CO2_working_capacity [mL/g]": -7.8093222037725125,
         "_deepnote_index_column": "pretest_1514"
        },
        {
         "CO2_working_capacity [mL/g]": 0.2978628782328087,
         "_deepnote_index_column": "pretest_1515"
        },
        {
         "CO2_working_capacity [mL/g]": -5.347741122223428,
         "_deepnote_index_column": "pretest_1516"
        },
        {
         "CO2_working_capacity [mL/g]": -8.850646397741116,
         "_deepnote_index_column": "pretest_1517"
        },
        {
         "CO2_working_capacity [mL/g]": 28.220041322767123,
         "_deepnote_index_column": "pretest_1518"
        },
        {
         "CO2_working_capacity [mL/g]": -3.3453607879430023,
         "_deepnote_index_column": "pretest_1519"
        },
        {
         "CO2_working_capacity [mL/g]": 1.1472005247821244,
         "_deepnote_index_column": "pretest_1520"
        },
        {
         "CO2_working_capacity [mL/g]": 4.624441578196576,
         "_deepnote_index_column": "pretest_1521"
        },
        {
         "CO2_working_capacity [mL/g]": -1.4827264637558983,
         "_deepnote_index_column": "pretest_1522"
        },
        {
         "CO2_working_capacity [mL/g]": 2.152227119616441,
         "_deepnote_index_column": "pretest_1523"
        },
        {
         "CO2_working_capacity [mL/g]": -0.8178244655267548,
         "_deepnote_index_column": "pretest_1524"
        },
        {
         "CO2_working_capacity [mL/g]": 0.11322078390551268,
         "_deepnote_index_column": "pretest_1525"
        },
        {
         "CO2_working_capacity [mL/g]": 8.602419134338087,
         "_deepnote_index_column": "pretest_1526"
        },
        {
         "CO2_working_capacity [mL/g]": 33.543835508022894,
         "_deepnote_index_column": "pretest_1527"
        },
        {
         "CO2_working_capacity [mL/g]": -0.6834250029067107,
         "_deepnote_index_column": "pretest_1528"
        },
        {
         "CO2_working_capacity [mL/g]": 5.559021353270251,
         "_deepnote_index_column": "pretest_1529"
        },
        {
         "CO2_working_capacity [mL/g]": 28.465932070061353,
         "_deepnote_index_column": "pretest_1530"
        },
        {
         "CO2_working_capacity [mL/g]": 1.4220285282931115,
         "_deepnote_index_column": "pretest_1531"
        },
        {
         "CO2_working_capacity [mL/g]": -2.157334571948289,
         "_deepnote_index_column": "pretest_1532"
        },
        {
         "CO2_working_capacity [mL/g]": -1.6724411860618402,
         "_deepnote_index_column": "pretest_1533"
        },
        {
         "CO2_working_capacity [mL/g]": -2.400368785177707,
         "_deepnote_index_column": "pretest_1534"
        },
        {
         "CO2_working_capacity [mL/g]": -2.9677291066721807,
         "_deepnote_index_column": "pretest_1535"
        },
        {
         "CO2_working_capacity [mL/g]": -6.510327070831903,
         "_deepnote_index_column": "pretest_1536"
        },
        {
         "CO2_working_capacity [mL/g]": 5.515724218505605,
         "_deepnote_index_column": "pretest_1537"
        },
        {
         "CO2_working_capacity [mL/g]": -0.12121507870083406,
         "_deepnote_index_column": "pretest_1538"
        },
        {
         "CO2_working_capacity [mL/g]": 4.895939601829454,
         "_deepnote_index_column": "pretest_1539"
        },
        {
         "CO2_working_capacity [mL/g]": 4.150768177173836,
         "_deepnote_index_column": "pretest_1540"
        },
        {
         "CO2_working_capacity [mL/g]": 6.140338188704658,
         "_deepnote_index_column": "pretest_1541"
        },
        {
         "CO2_working_capacity [mL/g]": -4.580705036290388,
         "_deepnote_index_column": "pretest_1542"
        },
        {
         "CO2_working_capacity [mL/g]": 0.2458552757888782,
         "_deepnote_index_column": "pretest_1543"
        },
        {
         "CO2_working_capacity [mL/g]": -11.11061127206612,
         "_deepnote_index_column": "pretest_1544"
        },
        {
         "CO2_working_capacity [mL/g]": -8.931043932371555,
         "_deepnote_index_column": "pretest_1545"
        },
        {
         "CO2_working_capacity [mL/g]": 6.457924743371652,
         "_deepnote_index_column": "pretest_1546"
        },
        {
         "CO2_working_capacity [mL/g]": 6.626860991350142,
         "_deepnote_index_column": "pretest_1547"
        },
        {
         "CO2_working_capacity [mL/g]": 0.1765445454166752,
         "_deepnote_index_column": "pretest_1548"
        },
        {
         "CO2_working_capacity [mL/g]": -10.72247773240893,
         "_deepnote_index_column": "pretest_1549"
        },
        {
         "CO2_working_capacity [mL/g]": -1.3057572674127442,
         "_deepnote_index_column": "pretest_1550"
        },
        {
         "CO2_working_capacity [mL/g]": 1.3520637146759213,
         "_deepnote_index_column": "pretest_1551"
        },
        {
         "CO2_working_capacity [mL/g]": -4.37578049363228,
         "_deepnote_index_column": "pretest_1552"
        },
        {
         "CO2_working_capacity [mL/g]": -13.578108820730915,
         "_deepnote_index_column": "pretest_1553"
        },
        {
         "CO2_working_capacity [mL/g]": -11.096202591357173,
         "_deepnote_index_column": "pretest_1554"
        },
        {
         "CO2_working_capacity [mL/g]": 22.05636296583628,
         "_deepnote_index_column": "pretest_1555"
        },
        {
         "CO2_working_capacity [mL/g]": -1.890151188328798,
         "_deepnote_index_column": "pretest_1556"
        },
        {
         "CO2_working_capacity [mL/g]": 3.5156227411042864,
         "_deepnote_index_column": "pretest_1557"
        },
        {
         "CO2_working_capacity [mL/g]": 2.0514182289191467,
         "_deepnote_index_column": "pretest_1558"
        },
        {
         "CO2_working_capacity [mL/g]": 2.0336495749818453,
         "_deepnote_index_column": "pretest_1559"
        },
        {
         "CO2_working_capacity [mL/g]": 7.881913879654823,
         "_deepnote_index_column": "pretest_1560"
        },
        {
         "CO2_working_capacity [mL/g]": -2.1337989953444265,
         "_deepnote_index_column": "pretest_1561"
        },
        {
         "CO2_working_capacity [mL/g]": 3.13896909915353,
         "_deepnote_index_column": "pretest_1562"
        },
        {
         "CO2_working_capacity [mL/g]": 2.0341636656686175,
         "_deepnote_index_column": "pretest_1563"
        },
        {
         "CO2_working_capacity [mL/g]": 10.687121800469345,
         "_deepnote_index_column": "pretest_1564"
        },
        {
         "CO2_working_capacity [mL/g]": -3.995649783548072,
         "_deepnote_index_column": "pretest_1565"
        },
        {
         "CO2_working_capacity [mL/g]": -0.5614503032152072,
         "_deepnote_index_column": "pretest_1566"
        },
        {
         "CO2_working_capacity [mL/g]": 63.72165662907905,
         "_deepnote_index_column": "pretest_1567"
        },
        {
         "CO2_working_capacity [mL/g]": -6.756134955271352,
         "_deepnote_index_column": "pretest_1568"
        },
        {
         "CO2_working_capacity [mL/g]": 63.16213998500755,
         "_deepnote_index_column": "pretest_1569"
        },
        {
         "CO2_working_capacity [mL/g]": 15.580233811061197,
         "_deepnote_index_column": "pretest_1570"
        },
        {
         "CO2_working_capacity [mL/g]": 8.3920541941528,
         "_deepnote_index_column": "pretest_1571"
        },
        {
         "CO2_working_capacity [mL/g]": -0.04147690885736495,
         "_deepnote_index_column": "pretest_1572"
        },
        {
         "CO2_working_capacity [mL/g]": 1.4544321567080658,
         "_deepnote_index_column": "pretest_1573"
        },
        {
         "CO2_working_capacity [mL/g]": 1.0244522563143335,
         "_deepnote_index_column": "pretest_1574"
        },
        {
         "CO2_working_capacity [mL/g]": -4.770248557418702,
         "_deepnote_index_column": "pretest_1575"
        },
        {
         "CO2_working_capacity [mL/g]": -1.507037928281997,
         "_deepnote_index_column": "pretest_1576"
        },
        {
         "CO2_working_capacity [mL/g]": 4.126353444301659,
         "_deepnote_index_column": "pretest_1577"
        },
        {
         "CO2_working_capacity [mL/g]": 33.90265652276476,
         "_deepnote_index_column": "pretest_1578"
        },
        {
         "CO2_working_capacity [mL/g]": 0.732248332613824,
         "_deepnote_index_column": "pretest_1579"
        },
        {
         "CO2_working_capacity [mL/g]": -4.000533942315306,
         "_deepnote_index_column": "pretest_1580"
        },
        {
         "CO2_working_capacity [mL/g]": -6.034988468810371,
         "_deepnote_index_column": "pretest_1581"
        },
        {
         "CO2_working_capacity [mL/g]": -4.861627659748652,
         "_deepnote_index_column": "pretest_1582"
        },
        {
         "CO2_working_capacity [mL/g]": -5.1593721500647005,
         "_deepnote_index_column": "pretest_1583"
        },
        {
         "CO2_working_capacity [mL/g]": 5.574229482630639,
         "_deepnote_index_column": "pretest_1584"
        },
        {
         "CO2_working_capacity [mL/g]": 9.374573196753849,
         "_deepnote_index_column": "pretest_1585"
        },
        {
         "CO2_working_capacity [mL/g]": -1.794132183402752,
         "_deepnote_index_column": "pretest_1586"
        },
        {
         "CO2_working_capacity [mL/g]": -0.5148967610914639,
         "_deepnote_index_column": "pretest_1587"
        },
        {
         "CO2_working_capacity [mL/g]": -1.7215713415687959,
         "_deepnote_index_column": "pretest_1588"
        },
        {
         "CO2_working_capacity [mL/g]": -5.322987389905561,
         "_deepnote_index_column": "pretest_1589"
        },
        {
         "CO2_working_capacity [mL/g]": -4.3239113761734815,
         "_deepnote_index_column": "pretest_1590"
        },
        {
         "CO2_working_capacity [mL/g]": 17.277731369569644,
         "_deepnote_index_column": "pretest_1591"
        },
        {
         "CO2_working_capacity [mL/g]": -5.841021222359771,
         "_deepnote_index_column": "pretest_1592"
        },
        {
         "CO2_working_capacity [mL/g]": 4.9599165460790315,
         "_deepnote_index_column": "pretest_1593"
        },
        {
         "CO2_working_capacity [mL/g]": -1.8032005047612643,
         "_deepnote_index_column": "pretest_1594"
        },
        {
         "CO2_working_capacity [mL/g]": 6.038636413785741,
         "_deepnote_index_column": "pretest_1595"
        },
        {
         "CO2_working_capacity [mL/g]": -0.4575722291776117,
         "_deepnote_index_column": "pretest_1596"
        },
        {
         "CO2_working_capacity [mL/g]": -3.0486075885675747,
         "_deepnote_index_column": "pretest_1597"
        },
        {
         "CO2_working_capacity [mL/g]": -4.701409282223159,
         "_deepnote_index_column": "pretest_1598"
        },
        {
         "CO2_working_capacity [mL/g]": -5.495094986231308,
         "_deepnote_index_column": "pretest_1599"
        },
        {
         "CO2_working_capacity [mL/g]": 1.1944299044096653,
         "_deepnote_index_column": "pretest_1600"
        },
        {
         "CO2_working_capacity [mL/g]": 2.24494516169151,
         "_deepnote_index_column": "pretest_1601"
        },
        {
         "CO2_working_capacity [mL/g]": -1.653390159772138,
         "_deepnote_index_column": "pretest_1602"
        },
        {
         "CO2_working_capacity [mL/g]": 2.8099656787750407,
         "_deepnote_index_column": "pretest_1603"
        },
        {
         "CO2_working_capacity [mL/g]": -8.947404630421278,
         "_deepnote_index_column": "pretest_1604"
        },
        {
         "CO2_working_capacity [mL/g]": -4.348991568331118,
         "_deepnote_index_column": "pretest_1605"
        },
        {
         "CO2_working_capacity [mL/g]": 18.76480224087448,
         "_deepnote_index_column": "pretest_1606"
        },
        {
         "CO2_working_capacity [mL/g]": -6.070272554784978,
         "_deepnote_index_column": "pretest_1607"
        },
        {
         "CO2_working_capacity [mL/g]": -6.407935517601328,
         "_deepnote_index_column": "pretest_1608"
        },
        {
         "CO2_working_capacity [mL/g]": 3.6836075762971063,
         "_deepnote_index_column": "pretest_1609"
        },
        {
         "CO2_working_capacity [mL/g]": -5.522228539232285,
         "_deepnote_index_column": "pretest_1610"
        },
        {
         "CO2_working_capacity [mL/g]": 4.1890018143302825,
         "_deepnote_index_column": "pretest_1611"
        },
        {
         "CO2_working_capacity [mL/g]": -2.1571152624271575,
         "_deepnote_index_column": "pretest_1612"
        },
        {
         "CO2_working_capacity [mL/g]": -4.624017580283612,
         "_deepnote_index_column": "pretest_1613"
        },
        {
         "CO2_working_capacity [mL/g]": -5.792116261267893,
         "_deepnote_index_column": "pretest_1614"
        },
        {
         "CO2_working_capacity [mL/g]": -12.263214815163035,
         "_deepnote_index_column": "pretest_1615"
        },
        {
         "CO2_working_capacity [mL/g]": -0.660461171603717,
         "_deepnote_index_column": "pretest_1616"
        },
        {
         "CO2_working_capacity [mL/g]": -6.014746123357048,
         "_deepnote_index_column": "pretest_1617"
        },
        {
         "CO2_working_capacity [mL/g]": -2.6603049507276184,
         "_deepnote_index_column": "pretest_1618"
        },
        {
         "CO2_working_capacity [mL/g]": -13.29703493875154,
         "_deepnote_index_column": "pretest_1619"
        },
        {
         "CO2_working_capacity [mL/g]": -2.7407432128396154,
         "_deepnote_index_column": "pretest_1620"
        },
        {
         "CO2_working_capacity [mL/g]": 1.993416824699341,
         "_deepnote_index_column": "pretest_1621"
        },
        {
         "CO2_working_capacity [mL/g]": -5.454985635405757,
         "_deepnote_index_column": "pretest_1622"
        },
        {
         "CO2_working_capacity [mL/g]": -1.9420411038750558,
         "_deepnote_index_column": "pretest_1623"
        },
        {
         "CO2_working_capacity [mL/g]": 3.0743612902452497,
         "_deepnote_index_column": "pretest_1624"
        },
        {
         "CO2_working_capacity [mL/g]": 12.666023392309409,
         "_deepnote_index_column": "pretest_1625"
        },
        {
         "CO2_working_capacity [mL/g]": -4.349116059003791,
         "_deepnote_index_column": "pretest_1626"
        },
        {
         "CO2_working_capacity [mL/g]": -6.025819082472006,
         "_deepnote_index_column": "pretest_1627"
        },
        {
         "CO2_working_capacity [mL/g]": 4.1633909669966815,
         "_deepnote_index_column": "pretest_1628"
        },
        {
         "CO2_working_capacity [mL/g]": -7.335882582751742,
         "_deepnote_index_column": "pretest_1629"
        },
        {
         "CO2_working_capacity [mL/g]": -2.5644281675847482,
         "_deepnote_index_column": "pretest_1630"
        },
        {
         "CO2_working_capacity [mL/g]": -4.368397567279368,
         "_deepnote_index_column": "pretest_1631"
        },
        {
         "CO2_working_capacity [mL/g]": 5.1869748388902055,
         "_deepnote_index_column": "pretest_1632"
        },
        {
         "CO2_working_capacity [mL/g]": 4.4997756983932335,
         "_deepnote_index_column": "pretest_1633"
        },
        {
         "CO2_working_capacity [mL/g]": 1.8504686254967708,
         "_deepnote_index_column": "pretest_1634"
        },
        {
         "CO2_working_capacity [mL/g]": 4.363235004927762,
         "_deepnote_index_column": "pretest_1635"
        },
        {
         "CO2_working_capacity [mL/g]": 9.54543966767738,
         "_deepnote_index_column": "pretest_1636"
        },
        {
         "CO2_working_capacity [mL/g]": 0.04121662250499014,
         "_deepnote_index_column": "pretest_1637"
        },
        {
         "CO2_working_capacity [mL/g]": -8.938004266657648,
         "_deepnote_index_column": "pretest_1638"
        },
        {
         "CO2_working_capacity [mL/g]": -3.8791317665156724,
         "_deepnote_index_column": "pretest_1639"
        },
        {
         "CO2_working_capacity [mL/g]": 6.472229311840318,
         "_deepnote_index_column": "pretest_1640"
        },
        {
         "CO2_working_capacity [mL/g]": 5.184091254317517,
         "_deepnote_index_column": "pretest_1641"
        },
        {
         "CO2_working_capacity [mL/g]": 44.03663893922654,
         "_deepnote_index_column": "pretest_1642"
        },
        {
         "CO2_working_capacity [mL/g]": -0.16787395514925835,
         "_deepnote_index_column": "pretest_1643"
        },
        {
         "CO2_working_capacity [mL/g]": 0.274828188206223,
         "_deepnote_index_column": "pretest_1644"
        },
        {
         "CO2_working_capacity [mL/g]": -1.1623523336877866,
         "_deepnote_index_column": "pretest_1645"
        },
        {
         "CO2_working_capacity [mL/g]": 0.4972095386662943,
         "_deepnote_index_column": "pretest_1646"
        },
        {
         "CO2_working_capacity [mL/g]": 0.606426195165767,
         "_deepnote_index_column": "pretest_1647"
        },
        {
         "CO2_working_capacity [mL/g]": -5.461533426367202,
         "_deepnote_index_column": "pretest_1648"
        },
        {
         "CO2_working_capacity [mL/g]": -13.599172107572167,
         "_deepnote_index_column": "pretest_1649"
        },
        {
         "CO2_working_capacity [mL/g]": -5.733679834664843,
         "_deepnote_index_column": "pretest_1650"
        },
        {
         "CO2_working_capacity [mL/g]": 12.98765939205239,
         "_deepnote_index_column": "pretest_1651"
        },
        {
         "CO2_working_capacity [mL/g]": -3.7419939375348377,
         "_deepnote_index_column": "pretest_1652"
        },
        {
         "CO2_working_capacity [mL/g]": 2.3431765029219944,
         "_deepnote_index_column": "pretest_1653"
        },
        {
         "CO2_working_capacity [mL/g]": 13.10012159511877,
         "_deepnote_index_column": "pretest_1654"
        },
        {
         "CO2_working_capacity [mL/g]": 0.8891562742742934,
         "_deepnote_index_column": "pretest_1655"
        },
        {
         "CO2_working_capacity [mL/g]": -3.956333297572203,
         "_deepnote_index_column": "pretest_1656"
        },
        {
         "CO2_working_capacity [mL/g]": -3.2679153789382496,
         "_deepnote_index_column": "pretest_1657"
        },
        {
         "CO2_working_capacity [mL/g]": 2.428073374240094,
         "_deepnote_index_column": "pretest_1658"
        },
        {
         "CO2_working_capacity [mL/g]": 4.6935273830135715,
         "_deepnote_index_column": "pretest_1659"
        },
        {
         "CO2_working_capacity [mL/g]": -9.379659325885381,
         "_deepnote_index_column": "pretest_1660"
        },
        {
         "CO2_working_capacity [mL/g]": 1.0292835660459558,
         "_deepnote_index_column": "pretest_1661"
        },
        {
         "CO2_working_capacity [mL/g]": -2.352911347203906,
         "_deepnote_index_column": "pretest_1662"
        },
        {
         "CO2_working_capacity [mL/g]": -7.214867999759761,
         "_deepnote_index_column": "pretest_1663"
        },
        {
         "CO2_working_capacity [mL/g]": -0.624266252313879,
         "_deepnote_index_column": "pretest_1664"
        },
        {
         "CO2_working_capacity [mL/g]": 6.771666397077243,
         "_deepnote_index_column": "pretest_1665"
        },
        {
         "CO2_working_capacity [mL/g]": -5.304943295687542,
         "_deepnote_index_column": "pretest_1666"
        },
        {
         "CO2_working_capacity [mL/g]": -4.144187781224429,
         "_deepnote_index_column": "pretest_1667"
        },
        {
         "CO2_working_capacity [mL/g]": -5.971788435656694,
         "_deepnote_index_column": "pretest_1668"
        },
        {
         "CO2_working_capacity [mL/g]": 5.043170379525639,
         "_deepnote_index_column": "pretest_1669"
        },
        {
         "CO2_working_capacity [mL/g]": -7.814021349439628,
         "_deepnote_index_column": "pretest_1670"
        },
        {
         "CO2_working_capacity [mL/g]": -6.047527052091382,
         "_deepnote_index_column": "pretest_1671"
        },
        {
         "CO2_working_capacity [mL/g]": 0.21551642703799131,
         "_deepnote_index_column": "pretest_1672"
        },
        {
         "CO2_working_capacity [mL/g]": 1.9740845654595034,
         "_deepnote_index_column": "pretest_1673"
        },
        {
         "CO2_working_capacity [mL/g]": 2.247688567615751,
         "_deepnote_index_column": "pretest_1674"
        },
        {
         "CO2_working_capacity [mL/g]": -7.2293846170928875,
         "_deepnote_index_column": "pretest_1675"
        },
        {
         "CO2_working_capacity [mL/g]": -1.6705255452881176,
         "_deepnote_index_column": "pretest_1676"
        },
        {
         "CO2_working_capacity [mL/g]": -5.768560604562057,
         "_deepnote_index_column": "pretest_1677"
        },
        {
         "CO2_working_capacity [mL/g]": 3.496783850823553,
         "_deepnote_index_column": "pretest_1678"
        },
        {
         "CO2_working_capacity [mL/g]": 34.56355357168805,
         "_deepnote_index_column": "pretest_1679"
        },
        {
         "CO2_working_capacity [mL/g]": 1.3075793928655741,
         "_deepnote_index_column": "pretest_1680"
        },
        {
         "CO2_working_capacity [mL/g]": 3.483178035270768,
         "_deepnote_index_column": "pretest_1681"
        },
        {
         "CO2_working_capacity [mL/g]": 3.3511422965072315,
         "_deepnote_index_column": "pretest_1682"
        },
        {
         "CO2_working_capacity [mL/g]": 35.703030096584214,
         "_deepnote_index_column": "pretest_1683"
        },
        {
         "CO2_working_capacity [mL/g]": -2.74521203503478,
         "_deepnote_index_column": "pretest_1684"
        },
        {
         "CO2_working_capacity [mL/g]": -0.044924496421924684,
         "_deepnote_index_column": "pretest_1685"
        },
        {
         "CO2_working_capacity [mL/g]": -0.9069577548615569,
         "_deepnote_index_column": "pretest_1686"
        },
        {
         "CO2_working_capacity [mL/g]": -1.6879514477046,
         "_deepnote_index_column": "pretest_1687"
        },
        {
         "CO2_working_capacity [mL/g]": 5.95951006966595,
         "_deepnote_index_column": "pretest_1688"
        },
        {
         "CO2_working_capacity [mL/g]": -0.5638205087938672,
         "_deepnote_index_column": "pretest_1689"
        },
        {
         "CO2_working_capacity [mL/g]": 1.8164004733273316,
         "_deepnote_index_column": "pretest_1690"
        },
        {
         "CO2_working_capacity [mL/g]": -0.08434655446960733,
         "_deepnote_index_column": "pretest_1691"
        },
        {
         "CO2_working_capacity [mL/g]": -3.6622310007838137,
         "_deepnote_index_column": "pretest_1692"
        },
        {
         "CO2_working_capacity [mL/g]": -2.541215725007831,
         "_deepnote_index_column": "pretest_1693"
        },
        {
         "CO2_working_capacity [mL/g]": -1.9243147889081142,
         "_deepnote_index_column": "pretest_1694"
        },
        {
         "CO2_working_capacity [mL/g]": -1.574807308746975,
         "_deepnote_index_column": "pretest_1695"
        },
        {
         "CO2_working_capacity [mL/g]": -3.702285813788907,
         "_deepnote_index_column": "pretest_1696"
        },
        {
         "CO2_working_capacity [mL/g]": -1.2495970399369014,
         "_deepnote_index_column": "pretest_1697"
        },
        {
         "CO2_working_capacity [mL/g]": -5.219793043071706,
         "_deepnote_index_column": "pretest_1698"
        },
        {
         "CO2_working_capacity [mL/g]": 8.092285405415558,
         "_deepnote_index_column": "pretest_1699"
        },
        {
         "CO2_working_capacity [mL/g]": 1.286620532208289,
         "_deepnote_index_column": "pretest_1700"
        },
        {
         "CO2_working_capacity [mL/g]": 19.58765498109531,
         "_deepnote_index_column": "pretest_1701"
        },
        {
         "CO2_working_capacity [mL/g]": 3.8573241090322825,
         "_deepnote_index_column": "pretest_1702"
        },
        {
         "CO2_working_capacity [mL/g]": -2.8183937090314033,
         "_deepnote_index_column": "pretest_1703"
        },
        {
         "CO2_working_capacity [mL/g]": 3.9820782989605106,
         "_deepnote_index_column": "pretest_1704"
        },
        {
         "CO2_working_capacity [mL/g]": 27.3660427275467,
         "_deepnote_index_column": "pretest_1705"
        },
        {
         "CO2_working_capacity [mL/g]": 5.593307225988068,
         "_deepnote_index_column": "pretest_1706"
        },
        {
         "CO2_working_capacity [mL/g]": 7.95308299466736,
         "_deepnote_index_column": "pretest_1707"
        },
        {
         "CO2_working_capacity [mL/g]": -3.4528211928253114,
         "_deepnote_index_column": "pretest_1708"
        },
        {
         "CO2_working_capacity [mL/g]": -5.930913744709787,
         "_deepnote_index_column": "pretest_1709"
        },
        {
         "CO2_working_capacity [mL/g]": 13.307039243201624,
         "_deepnote_index_column": "pretest_1710"
        },
        {
         "CO2_working_capacity [mL/g]": 6.73482166986494,
         "_deepnote_index_column": "pretest_1711"
        },
        {
         "CO2_working_capacity [mL/g]": 6.691583664679371,
         "_deepnote_index_column": "pretest_1712"
        },
        {
         "CO2_working_capacity [mL/g]": -4.833718568622023,
         "_deepnote_index_column": "pretest_1713"
        },
        {
         "CO2_working_capacity [mL/g]": 3.1436383613436876,
         "_deepnote_index_column": "pretest_1714"
        },
        {
         "CO2_working_capacity [mL/g]": -2.7460417169974933,
         "_deepnote_index_column": "pretest_1715"
        },
        {
         "CO2_working_capacity [mL/g]": -3.3414450589225595,
         "_deepnote_index_column": "pretest_1716"
        },
        {
         "CO2_working_capacity [mL/g]": 5.971899030644292,
         "_deepnote_index_column": "pretest_1717"
        },
        {
         "CO2_working_capacity [mL/g]": 22.323497122953665,
         "_deepnote_index_column": "pretest_1718"
        },
        {
         "CO2_working_capacity [mL/g]": 2.4074070378016783,
         "_deepnote_index_column": "pretest_1719"
        },
        {
         "CO2_working_capacity [mL/g]": 23.142921939147083,
         "_deepnote_index_column": "pretest_1720"
        },
        {
         "CO2_working_capacity [mL/g]": 4.886941878694088,
         "_deepnote_index_column": "pretest_1721"
        },
        {
         "CO2_working_capacity [mL/g]": 1.0957904620706103,
         "_deepnote_index_column": "pretest_1722"
        },
        {
         "CO2_working_capacity [mL/g]": -0.4555876308306296,
         "_deepnote_index_column": "pretest_1723"
        },
        {
         "CO2_working_capacity [mL/g]": -6.749139429972255,
         "_deepnote_index_column": "pretest_1724"
        },
        {
         "CO2_working_capacity [mL/g]": -3.73882559153964,
         "_deepnote_index_column": "pretest_1725"
        },
        {
         "CO2_working_capacity [mL/g]": 2.64131096083633,
         "_deepnote_index_column": "pretest_1726"
        },
        {
         "CO2_working_capacity [mL/g]": 4.071412734259733,
         "_deepnote_index_column": "pretest_1727"
        },
        {
         "CO2_working_capacity [mL/g]": -11.131505351333232,
         "_deepnote_index_column": "pretest_1728"
        },
        {
         "CO2_working_capacity [mL/g]": -5.35738921632292,
         "_deepnote_index_column": "pretest_1729"
        },
        {
         "CO2_working_capacity [mL/g]": 4.502068297745157,
         "_deepnote_index_column": "pretest_1730"
        },
        {
         "CO2_working_capacity [mL/g]": -4.9082048098988,
         "_deepnote_index_column": "pretest_1731"
        },
        {
         "CO2_working_capacity [mL/g]": -4.5790511944679135,
         "_deepnote_index_column": "pretest_1732"
        },
        {
         "CO2_working_capacity [mL/g]": 4.7484393792115185,
         "_deepnote_index_column": "pretest_1733"
        },
        {
         "CO2_working_capacity [mL/g]": 53.6591205051894,
         "_deepnote_index_column": "pretest_1734"
        },
        {
         "CO2_working_capacity [mL/g]": -1.3149227605561606,
         "_deepnote_index_column": "pretest_1735"
        },
        {
         "CO2_working_capacity [mL/g]": 0.0055298826920534335,
         "_deepnote_index_column": "pretest_1736"
        },
        {
         "CO2_working_capacity [mL/g]": -11.998589410032668,
         "_deepnote_index_column": "pretest_1737"
        },
        {
         "CO2_working_capacity [mL/g]": -2.7048432164347815,
         "_deepnote_index_column": "pretest_1738"
        },
        {
         "CO2_working_capacity [mL/g]": 8.696649057480375,
         "_deepnote_index_column": "pretest_1739"
        },
        {
         "CO2_working_capacity [mL/g]": -4.176031018829039,
         "_deepnote_index_column": "pretest_1740"
        },
        {
         "CO2_working_capacity [mL/g]": -3.7363963896291694,
         "_deepnote_index_column": "pretest_1741"
        },
        {
         "CO2_working_capacity [mL/g]": -3.5057032072755874,
         "_deepnote_index_column": "pretest_1742"
        },
        {
         "CO2_working_capacity [mL/g]": 7.896100797150663,
         "_deepnote_index_column": "pretest_1743"
        },
        {
         "CO2_working_capacity [mL/g]": 1.6728349806210503,
         "_deepnote_index_column": "pretest_1744"
        },
        {
         "CO2_working_capacity [mL/g]": 2.7765267689417015,
         "_deepnote_index_column": "pretest_1745"
        },
        {
         "CO2_working_capacity [mL/g]": 23.52083685249361,
         "_deepnote_index_column": "pretest_1746"
        },
        {
         "CO2_working_capacity [mL/g]": 0.6216207701343791,
         "_deepnote_index_column": "pretest_1747"
        },
        {
         "CO2_working_capacity [mL/g]": -1.2392857878648216,
         "_deepnote_index_column": "pretest_1748"
        },
        {
         "CO2_working_capacity [mL/g]": -4.770298408555698,
         "_deepnote_index_column": "pretest_1749"
        },
        {
         "CO2_working_capacity [mL/g]": 0.06554433885099797,
         "_deepnote_index_column": "pretest_1750"
        },
        {
         "CO2_working_capacity [mL/g]": -5.7664608990186705,
         "_deepnote_index_column": "pretest_1751"
        },
        {
         "CO2_working_capacity [mL/g]": -4.340704389631952,
         "_deepnote_index_column": "pretest_1752"
        },
        {
         "CO2_working_capacity [mL/g]": -6.750928297356069,
         "_deepnote_index_column": "pretest_1753"
        },
        {
         "CO2_working_capacity [mL/g]": -2.673865455486299,
         "_deepnote_index_column": "pretest_1754"
        },
        {
         "CO2_working_capacity [mL/g]": -5.304330562884272,
         "_deepnote_index_column": "pretest_1755"
        },
        {
         "CO2_working_capacity [mL/g]": -6.297818615383508,
         "_deepnote_index_column": "pretest_1756"
        },
        {
         "CO2_working_capacity [mL/g]": -2.7399421221317395,
         "_deepnote_index_column": "pretest_1757"
        },
        {
         "CO2_working_capacity [mL/g]": -6.300414505069057,
         "_deepnote_index_column": "pretest_1758"
        },
        {
         "CO2_working_capacity [mL/g]": -6.272151209596197,
         "_deepnote_index_column": "pretest_1759"
        },
        {
         "CO2_working_capacity [mL/g]": 8.615762267326796,
         "_deepnote_index_column": "pretest_1760"
        },
        {
         "CO2_working_capacity [mL/g]": 32.97508456063768,
         "_deepnote_index_column": "pretest_1761"
        },
        {
         "CO2_working_capacity [mL/g]": 18.52988341778933,
         "_deepnote_index_column": "pretest_1762"
        },
        {
         "CO2_working_capacity [mL/g]": 0.6040499505050747,
         "_deepnote_index_column": "pretest_1763"
        },
        {
         "CO2_working_capacity [mL/g]": 10.69079139219084,
         "_deepnote_index_column": "pretest_1764"
        },
        {
         "CO2_working_capacity [mL/g]": 2.7975254166624866,
         "_deepnote_index_column": "pretest_1765"
        },
        {
         "CO2_working_capacity [mL/g]": -7.871664073266234,
         "_deepnote_index_column": "pretest_1766"
        },
        {
         "CO2_working_capacity [mL/g]": -3.0536919163636753,
         "_deepnote_index_column": "pretest_1767"
        },
        {
         "CO2_working_capacity [mL/g]": -5.328104432241625,
         "_deepnote_index_column": "pretest_1768"
        },
        {
         "CO2_working_capacity [mL/g]": -11.967487849000065,
         "_deepnote_index_column": "pretest_1769"
        },
        {
         "CO2_working_capacity [mL/g]": -5.472663631326594,
         "_deepnote_index_column": "pretest_1770"
        },
        {
         "CO2_working_capacity [mL/g]": -1.915117006451777,
         "_deepnote_index_column": "pretest_1771"
        },
        {
         "CO2_working_capacity [mL/g]": -6.045963288584483,
         "_deepnote_index_column": "pretest_1772"
        },
        {
         "CO2_working_capacity [mL/g]": 0.31541832280143467,
         "_deepnote_index_column": "pretest_1773"
        },
        {
         "CO2_working_capacity [mL/g]": -2.655927440969168,
         "_deepnote_index_column": "pretest_1774"
        },
        {
         "CO2_working_capacity [mL/g]": -4.409156441591316,
         "_deepnote_index_column": "pretest_1775"
        },
        {
         "CO2_working_capacity [mL/g]": -1.9963475937797626,
         "_deepnote_index_column": "pretest_1776"
        },
        {
         "CO2_working_capacity [mL/g]": -2.1263732592924414,
         "_deepnote_index_column": "pretest_1777"
        },
        {
         "CO2_working_capacity [mL/g]": -8.18695939740238,
         "_deepnote_index_column": "pretest_1778"
        },
        {
         "CO2_working_capacity [mL/g]": -13.101060918608988,
         "_deepnote_index_column": "pretest_1779"
        },
        {
         "CO2_working_capacity [mL/g]": 2.82160793502523,
         "_deepnote_index_column": "pretest_1780"
        },
        {
         "CO2_working_capacity [mL/g]": -0.7076280287740587,
         "_deepnote_index_column": "pretest_1781"
        },
        {
         "CO2_working_capacity [mL/g]": -3.702528860288794,
         "_deepnote_index_column": "pretest_1782"
        },
        {
         "CO2_working_capacity [mL/g]": -0.7041541142848103,
         "_deepnote_index_column": "pretest_1783"
        },
        {
         "CO2_working_capacity [mL/g]": 12.63893146183631,
         "_deepnote_index_column": "pretest_1784"
        },
        {
         "CO2_working_capacity [mL/g]": -5.610000725218777,
         "_deepnote_index_column": "pretest_1785"
        },
        {
         "CO2_working_capacity [mL/g]": 81.14958666038521,
         "_deepnote_index_column": "pretest_1786"
        },
        {
         "CO2_working_capacity [mL/g]": 23.2246947864111,
         "_deepnote_index_column": "pretest_1787"
        },
        {
         "CO2_working_capacity [mL/g]": 5.207247185136907,
         "_deepnote_index_column": "pretest_1788"
        },
        {
         "CO2_working_capacity [mL/g]": -3.212921400403283,
         "_deepnote_index_column": "pretest_1789"
        },
        {
         "CO2_working_capacity [mL/g]": -1.4921084859695413,
         "_deepnote_index_column": "pretest_1790"
        },
        {
         "CO2_working_capacity [mL/g]": 0.5736492045801128,
         "_deepnote_index_column": "pretest_1791"
        },
        {
         "CO2_working_capacity [mL/g]": -0.06830336486248142,
         "_deepnote_index_column": "pretest_1792"
        },
        {
         "CO2_working_capacity [mL/g]": 35.088284757393424,
         "_deepnote_index_column": "pretest_1793"
        },
        {
         "CO2_working_capacity [mL/g]": -5.259206095785063,
         "_deepnote_index_column": "pretest_1794"
        },
        {
         "CO2_working_capacity [mL/g]": -1.6646965048207647,
         "_deepnote_index_column": "pretest_1795"
        },
        {
         "CO2_working_capacity [mL/g]": -0.07925277820787358,
         "_deepnote_index_column": "pretest_1796"
        },
        {
         "CO2_working_capacity [mL/g]": 28.837585857023747,
         "_deepnote_index_column": "pretest_1797"
        },
        {
         "CO2_working_capacity [mL/g]": -3.340801552486127,
         "_deepnote_index_column": "pretest_1798"
        },
        {
         "CO2_working_capacity [mL/g]": 2.618755400088162,
         "_deepnote_index_column": "pretest_1799"
        },
        {
         "CO2_working_capacity [mL/g]": 7.756329086237389,
         "_deepnote_index_column": "pretest_1800"
        },
        {
         "CO2_working_capacity [mL/g]": 2.016543756073358,
         "_deepnote_index_column": "pretest_1801"
        },
        {
         "CO2_working_capacity [mL/g]": 50.5664181883301,
         "_deepnote_index_column": "pretest_1802"
        },
        {
         "CO2_working_capacity [mL/g]": 10.888136838309176,
         "_deepnote_index_column": "pretest_1803"
        },
        {
         "CO2_working_capacity [mL/g]": 6.52991164053447,
         "_deepnote_index_column": "pretest_1804"
        },
        {
         "CO2_working_capacity [mL/g]": -0.2933346416572931,
         "_deepnote_index_column": "pretest_1805"
        },
        {
         "CO2_working_capacity [mL/g]": -5.948735287274658,
         "_deepnote_index_column": "pretest_1806"
        },
        {
         "CO2_working_capacity [mL/g]": -3.5480340587545642,
         "_deepnote_index_column": "pretest_1807"
        },
        {
         "CO2_working_capacity [mL/g]": -2.3537637391738344,
         "_deepnote_index_column": "pretest_1808"
        },
        {
         "CO2_working_capacity [mL/g]": 12.428128018078542,
         "_deepnote_index_column": "pretest_1809"
        },
        {
         "CO2_working_capacity [mL/g]": 1.486884744136347,
         "_deepnote_index_column": "pretest_1810"
        },
        {
         "CO2_working_capacity [mL/g]": -6.11824907176896,
         "_deepnote_index_column": "pretest_1811"
        },
        {
         "CO2_working_capacity [mL/g]": -6.871636965263553,
         "_deepnote_index_column": "pretest_1812"
        },
        {
         "CO2_working_capacity [mL/g]": 0.0158467153695085,
         "_deepnote_index_column": "pretest_1813"
        },
        {
         "CO2_working_capacity [mL/g]": -10.07545593925517,
         "_deepnote_index_column": "pretest_1814"
        },
        {
         "CO2_working_capacity [mL/g]": -2.538174877852282,
         "_deepnote_index_column": "pretest_1815"
        },
        {
         "CO2_working_capacity [mL/g]": -7.249073271416739,
         "_deepnote_index_column": "pretest_1816"
        },
        {
         "CO2_working_capacity [mL/g]": -7.224025205399445,
         "_deepnote_index_column": "pretest_1817"
        },
        {
         "CO2_working_capacity [mL/g]": 14.001684852040379,
         "_deepnote_index_column": "pretest_1818"
        },
        {
         "CO2_working_capacity [mL/g]": 0.3399219802968162,
         "_deepnote_index_column": "pretest_1819"
        },
        {
         "CO2_working_capacity [mL/g]": -0.073863594635975,
         "_deepnote_index_column": "pretest_1820"
        },
        {
         "CO2_working_capacity [mL/g]": -2.0217600418754413,
         "_deepnote_index_column": "pretest_1821"
        },
        {
         "CO2_working_capacity [mL/g]": 27.82821483744114,
         "_deepnote_index_column": "pretest_1822"
        },
        {
         "CO2_working_capacity [mL/g]": 19.797597862522167,
         "_deepnote_index_column": "pretest_1823"
        },
        {
         "CO2_working_capacity [mL/g]": 8.457361960274616,
         "_deepnote_index_column": "pretest_1824"
        },
        {
         "CO2_working_capacity [mL/g]": 2.191261703209901,
         "_deepnote_index_column": "pretest_1825"
        },
        {
         "CO2_working_capacity [mL/g]": -1.9857357486428668,
         "_deepnote_index_column": "pretest_1826"
        },
        {
         "CO2_working_capacity [mL/g]": -1.2571882029014432,
         "_deepnote_index_column": "pretest_1827"
        },
        {
         "CO2_working_capacity [mL/g]": -0.8450442939039192,
         "_deepnote_index_column": "pretest_1828"
        },
        {
         "CO2_working_capacity [mL/g]": -8.117262094649272,
         "_deepnote_index_column": "pretest_1829"
        },
        {
         "CO2_working_capacity [mL/g]": 3.890637975890596,
         "_deepnote_index_column": "pretest_1830"
        },
        {
         "CO2_working_capacity [mL/g]": 43.14000660659203,
         "_deepnote_index_column": "pretest_1831"
        },
        {
         "CO2_working_capacity [mL/g]": -1.696486165253114,
         "_deepnote_index_column": "pretest_1832"
        },
        {
         "CO2_working_capacity [mL/g]": 1.9843426573496572,
         "_deepnote_index_column": "pretest_1833"
        },
        {
         "CO2_working_capacity [mL/g]": -6.10471864736152,
         "_deepnote_index_column": "pretest_1834"
        },
        {
         "CO2_working_capacity [mL/g]": 0.657229946507087,
         "_deepnote_index_column": "pretest_1835"
        },
        {
         "CO2_working_capacity [mL/g]": -0.6338908986980556,
         "_deepnote_index_column": "pretest_1836"
        },
        {
         "CO2_working_capacity [mL/g]": -2.27111518821273,
         "_deepnote_index_column": "pretest_1837"
        },
        {
         "CO2_working_capacity [mL/g]": -9.165232127301184,
         "_deepnote_index_column": "pretest_1838"
        },
        {
         "CO2_working_capacity [mL/g]": 7.629242547192021,
         "_deepnote_index_column": "pretest_1839"
        },
        {
         "CO2_working_capacity [mL/g]": -3.0180571281812263,
         "_deepnote_index_column": "pretest_1840"
        },
        {
         "CO2_working_capacity [mL/g]": -13.974524220771604,
         "_deepnote_index_column": "pretest_1841"
        },
        {
         "CO2_working_capacity [mL/g]": -9.792208403692523,
         "_deepnote_index_column": "pretest_1842"
        },
        {
         "CO2_working_capacity [mL/g]": -3.366545241631113,
         "_deepnote_index_column": "pretest_1843"
        },
        {
         "CO2_working_capacity [mL/g]": 0.23927857294953583,
         "_deepnote_index_column": "pretest_1844"
        },
        {
         "CO2_working_capacity [mL/g]": -9.298349070529849,
         "_deepnote_index_column": "pretest_1845"
        },
        {
         "CO2_working_capacity [mL/g]": -5.298641717224584,
         "_deepnote_index_column": "pretest_1846"
        },
        {
         "CO2_working_capacity [mL/g]": -0.7970990173712238,
         "_deepnote_index_column": "pretest_1847"
        },
        {
         "CO2_working_capacity [mL/g]": 3.75368639622904,
         "_deepnote_index_column": "pretest_1848"
        },
        {
         "CO2_working_capacity [mL/g]": -8.749889753968395,
         "_deepnote_index_column": "pretest_1849"
        },
        {
         "CO2_working_capacity [mL/g]": 1.0254207803774051,
         "_deepnote_index_column": "pretest_1850"
        },
        {
         "CO2_working_capacity [mL/g]": 22.441533496063414,
         "_deepnote_index_column": "pretest_1851"
        },
        {
         "CO2_working_capacity [mL/g]": 21.36738843021677,
         "_deepnote_index_column": "pretest_1852"
        },
        {
         "CO2_working_capacity [mL/g]": 9.79994402952406,
         "_deepnote_index_column": "pretest_1853"
        },
        {
         "CO2_working_capacity [mL/g]": 21.673779290917388,
         "_deepnote_index_column": "pretest_1854"
        },
        {
         "CO2_working_capacity [mL/g]": 27.96779927122726,
         "_deepnote_index_column": "pretest_1855"
        },
        {
         "CO2_working_capacity [mL/g]": -1.1339555303354245,
         "_deepnote_index_column": "pretest_1856"
        },
        {
         "CO2_working_capacity [mL/g]": 4.149835359013901,
         "_deepnote_index_column": "pretest_1857"
        },
        {
         "CO2_working_capacity [mL/g]": 25.670740547113105,
         "_deepnote_index_column": "pretest_1858"
        },
        {
         "CO2_working_capacity [mL/g]": -1.4136428056505934,
         "_deepnote_index_column": "pretest_1859"
        },
        {
         "CO2_working_capacity [mL/g]": 32.77761790604014,
         "_deepnote_index_column": "pretest_1860"
        },
        {
         "CO2_working_capacity [mL/g]": -5.661986895133768,
         "_deepnote_index_column": "pretest_1861"
        },
        {
         "CO2_working_capacity [mL/g]": 6.904046109132247,
         "_deepnote_index_column": "pretest_1862"
        },
        {
         "CO2_working_capacity [mL/g]": 1.9169469578616116,
         "_deepnote_index_column": "pretest_1863"
        },
        {
         "CO2_working_capacity [mL/g]": 1.521702011285194,
         "_deepnote_index_column": "pretest_1864"
        },
        {
         "CO2_working_capacity [mL/g]": -5.77018427314078,
         "_deepnote_index_column": "pretest_1865"
        },
        {
         "CO2_working_capacity [mL/g]": 6.234653225478004,
         "_deepnote_index_column": "pretest_1866"
        },
        {
         "CO2_working_capacity [mL/g]": 3.761181321293185,
         "_deepnote_index_column": "pretest_1867"
        },
        {
         "CO2_working_capacity [mL/g]": -9.59339638095173,
         "_deepnote_index_column": "pretest_1868"
        },
        {
         "CO2_working_capacity [mL/g]": -2.866734236601914,
         "_deepnote_index_column": "pretest_1869"
        },
        {
         "CO2_working_capacity [mL/g]": -7.58724458732234,
         "_deepnote_index_column": "pretest_1870"
        },
        {
         "CO2_working_capacity [mL/g]": 2.303655453658732,
         "_deepnote_index_column": "pretest_1871"
        },
        {
         "CO2_working_capacity [mL/g]": -2.2583658003601244,
         "_deepnote_index_column": "pretest_1872"
        },
        {
         "CO2_working_capacity [mL/g]": -1.2617937161763648,
         "_deepnote_index_column": "pretest_1873"
        },
        {
         "CO2_working_capacity [mL/g]": 0.9944354448203541,
         "_deepnote_index_column": "pretest_1874"
        },
        {
         "CO2_working_capacity [mL/g]": 0.366201176876794,
         "_deepnote_index_column": "pretest_1875"
        },
        {
         "CO2_working_capacity [mL/g]": 2.603340380550546,
         "_deepnote_index_column": "pretest_1876"
        },
        {
         "CO2_working_capacity [mL/g]": 3.845126201688174,
         "_deepnote_index_column": "pretest_1877"
        },
        {
         "CO2_working_capacity [mL/g]": -13.535930053840342,
         "_deepnote_index_column": "pretest_1878"
        },
        {
         "CO2_working_capacity [mL/g]": -3.444544019640804,
         "_deepnote_index_column": "pretest_1879"
        },
        {
         "CO2_working_capacity [mL/g]": -2.574370154590537,
         "_deepnote_index_column": "pretest_1880"
        },
        {
         "CO2_working_capacity [mL/g]": -5.803653302795439,
         "_deepnote_index_column": "pretest_1881"
        },
        {
         "CO2_working_capacity [mL/g]": -12.996410058651673,
         "_deepnote_index_column": "pretest_1882"
        },
        {
         "CO2_working_capacity [mL/g]": 24.65889118013376,
         "_deepnote_index_column": "pretest_1883"
        },
        {
         "CO2_working_capacity [mL/g]": 1.1368575493812187,
         "_deepnote_index_column": "pretest_1884"
        },
        {
         "CO2_working_capacity [mL/g]": -4.6331483199986625,
         "_deepnote_index_column": "pretest_1885"
        },
        {
         "CO2_working_capacity [mL/g]": -0.474642153146749,
         "_deepnote_index_column": "pretest_1886"
        },
        {
         "CO2_working_capacity [mL/g]": 1.815886749792682,
         "_deepnote_index_column": "pretest_1887"
        },
        {
         "CO2_working_capacity [mL/g]": 2.688131976100024,
         "_deepnote_index_column": "pretest_1888"
        },
        {
         "CO2_working_capacity [mL/g]": -2.3082954370832796,
         "_deepnote_index_column": "pretest_1889"
        },
        {
         "CO2_working_capacity [mL/g]": 5.287583986620239,
         "_deepnote_index_column": "pretest_1890"
        },
        {
         "CO2_working_capacity [mL/g]": -5.446430693710994,
         "_deepnote_index_column": "pretest_1891"
        },
        {
         "CO2_working_capacity [mL/g]": -1.055914770533613,
         "_deepnote_index_column": "pretest_1892"
        },
        {
         "CO2_working_capacity [mL/g]": 0.9914447102275687,
         "_deepnote_index_column": "pretest_1893"
        },
        {
         "CO2_working_capacity [mL/g]": -4.483978449624604,
         "_deepnote_index_column": "pretest_1894"
        },
        {
         "CO2_working_capacity [mL/g]": -1.1465633277578349,
         "_deepnote_index_column": "pretest_1895"
        },
        {
         "CO2_working_capacity [mL/g]": 3.983069092510436,
         "_deepnote_index_column": "pretest_1896"
        },
        {
         "CO2_working_capacity [mL/g]": 4.653581557549293,
         "_deepnote_index_column": "pretest_1897"
        },
        {
         "CO2_working_capacity [mL/g]": 58.78104982265402,
         "_deepnote_index_column": "pretest_1898"
        },
        {
         "CO2_working_capacity [mL/g]": -12.07146880874239,
         "_deepnote_index_column": "pretest_1899"
        },
        {
         "CO2_working_capacity [mL/g]": 0.7515854837216068,
         "_deepnote_index_column": "pretest_1900"
        },
        {
         "CO2_working_capacity [mL/g]": 1.2956026775268696,
         "_deepnote_index_column": "pretest_1901"
        },
        {
         "CO2_working_capacity [mL/g]": -5.936947608246473,
         "_deepnote_index_column": "pretest_1902"
        },
        {
         "CO2_working_capacity [mL/g]": 18.58963596367412,
         "_deepnote_index_column": "pretest_1903"
        },
        {
         "CO2_working_capacity [mL/g]": -5.4438363844264135,
         "_deepnote_index_column": "pretest_1904"
        },
        {
         "CO2_working_capacity [mL/g]": 24.51765601002067,
         "_deepnote_index_column": "pretest_1905"
        },
        {
         "CO2_working_capacity [mL/g]": -10.648598543654856,
         "_deepnote_index_column": "pretest_1906"
        },
        {
         "CO2_working_capacity [mL/g]": 6.896595258715175,
         "_deepnote_index_column": "pretest_1907"
        },
        {
         "CO2_working_capacity [mL/g]": 11.643314061863828,
         "_deepnote_index_column": "pretest_1908"
        },
        {
         "CO2_working_capacity [mL/g]": -9.236604582790699,
         "_deepnote_index_column": "pretest_1909"
        },
        {
         "CO2_working_capacity [mL/g]": 1.3326480339281204,
         "_deepnote_index_column": "pretest_1910"
        },
        {
         "CO2_working_capacity [mL/g]": 11.176778002571144,
         "_deepnote_index_column": "pretest_1911"
        },
        {
         "CO2_working_capacity [mL/g]": 6.688373295353446,
         "_deepnote_index_column": "pretest_1912"
        },
        {
         "CO2_working_capacity [mL/g]": -2.32554935515316,
         "_deepnote_index_column": "pretest_1913"
        },
        {
         "CO2_working_capacity [mL/g]": -6.35582454343002,
         "_deepnote_index_column": "pretest_1914"
        },
        {
         "CO2_working_capacity [mL/g]": 13.008936519336356,
         "_deepnote_index_column": "pretest_1915"
        },
        {
         "CO2_working_capacity [mL/g]": 17.584076598874397,
         "_deepnote_index_column": "pretest_1916"
        },
        {
         "CO2_working_capacity [mL/g]": -3.5140922715655165,
         "_deepnote_index_column": "pretest_1917"
        },
        {
         "CO2_working_capacity [mL/g]": 3.02949644291308,
         "_deepnote_index_column": "pretest_1918"
        },
        {
         "CO2_working_capacity [mL/g]": 2.807876285500362,
         "_deepnote_index_column": "pretest_1919"
        },
        {
         "CO2_working_capacity [mL/g]": -3.4657971192228643,
         "_deepnote_index_column": "pretest_1920"
        },
        {
         "CO2_working_capacity [mL/g]": 4.746529997628244,
         "_deepnote_index_column": "pretest_1921"
        },
        {
         "CO2_working_capacity [mL/g]": -5.693671300196433,
         "_deepnote_index_column": "pretest_1922"
        },
        {
         "CO2_working_capacity [mL/g]": 1.0161123824452574,
         "_deepnote_index_column": "pretest_1923"
        },
        {
         "CO2_working_capacity [mL/g]": 1.346572673325221,
         "_deepnote_index_column": "pretest_1924"
        },
        {
         "CO2_working_capacity [mL/g]": -2.2348456492846367,
         "_deepnote_index_column": "pretest_1925"
        },
        {
         "CO2_working_capacity [mL/g]": 7.9448380016323314,
         "_deepnote_index_column": "pretest_1926"
        },
        {
         "CO2_working_capacity [mL/g]": -4.177553064250446,
         "_deepnote_index_column": "pretest_1927"
        },
        {
         "CO2_working_capacity [mL/g]": 28.227319090309447,
         "_deepnote_index_column": "pretest_1928"
        },
        {
         "CO2_working_capacity [mL/g]": 1.057961126942604,
         "_deepnote_index_column": "pretest_1929"
        },
        {
         "CO2_working_capacity [mL/g]": -2.330337898197274,
         "_deepnote_index_column": "pretest_1930"
        },
        {
         "CO2_working_capacity [mL/g]": -3.65743274520091,
         "_deepnote_index_column": "pretest_1931"
        },
        {
         "CO2_working_capacity [mL/g]": -3.357048417312856,
         "_deepnote_index_column": "pretest_1932"
        },
        {
         "CO2_working_capacity [mL/g]": 9.218419839147376,
         "_deepnote_index_column": "pretest_1933"
        },
        {
         "CO2_working_capacity [mL/g]": -4.934071732548565,
         "_deepnote_index_column": "pretest_1934"
        },
        {
         "CO2_working_capacity [mL/g]": 15.0091554737216,
         "_deepnote_index_column": "pretest_1935"
        },
        {
         "CO2_working_capacity [mL/g]": -7.1842589399310555,
         "_deepnote_index_column": "pretest_1936"
        },
        {
         "CO2_working_capacity [mL/g]": -0.22835414107181293,
         "_deepnote_index_column": "pretest_1937"
        },
        {
         "CO2_working_capacity [mL/g]": 0.02698448252878336,
         "_deepnote_index_column": "pretest_1938"
        },
        {
         "CO2_working_capacity [mL/g]": 10.408513230004848,
         "_deepnote_index_column": "pretest_1939"
        },
        {
         "CO2_working_capacity [mL/g]": -4.729153182275792,
         "_deepnote_index_column": "pretest_1940"
        },
        {
         "CO2_working_capacity [mL/g]": -1.5895794031382338,
         "_deepnote_index_column": "pretest_1941"
        },
        {
         "CO2_working_capacity [mL/g]": 4.284605713156682,
         "_deepnote_index_column": "pretest_1942"
        },
        {
         "CO2_working_capacity [mL/g]": 5.725291668547539,
         "_deepnote_index_column": "pretest_1943"
        },
        {
         "CO2_working_capacity [mL/g]": 4.799460880174815,
         "_deepnote_index_column": "pretest_1944"
        },
        {
         "CO2_working_capacity [mL/g]": 2.082304440697274,
         "_deepnote_index_column": "pretest_1945"
        },
        {
         "CO2_working_capacity [mL/g]": -7.008884517680434,
         "_deepnote_index_column": "pretest_1946"
        },
        {
         "CO2_working_capacity [mL/g]": -1.373366226640215,
         "_deepnote_index_column": "pretest_1947"
        },
        {
         "CO2_working_capacity [mL/g]": -9.262847786084526,
         "_deepnote_index_column": "pretest_1948"
        },
        {
         "CO2_working_capacity [mL/g]": 9.401729321431592,
         "_deepnote_index_column": "pretest_1949"
        },
        {
         "CO2_working_capacity [mL/g]": 8.041869911004175,
         "_deepnote_index_column": "pretest_1950"
        },
        {
         "CO2_working_capacity [mL/g]": -6.699850205810921,
         "_deepnote_index_column": "pretest_1951"
        },
        {
         "CO2_working_capacity [mL/g]": -1.398015056709852,
         "_deepnote_index_column": "pretest_1952"
        },
        {
         "CO2_working_capacity [mL/g]": 60.709782318132795,
         "_deepnote_index_column": "pretest_1953"
        },
        {
         "CO2_working_capacity [mL/g]": 0.46139733695749496,
         "_deepnote_index_column": "pretest_1954"
        },
        {
         "CO2_working_capacity [mL/g]": -8.021282239224268,
         "_deepnote_index_column": "pretest_1955"
        },
        {
         "CO2_working_capacity [mL/g]": 2.4389027900465408,
         "_deepnote_index_column": "pretest_1956"
        },
        {
         "CO2_working_capacity [mL/g]": 14.277786585281854,
         "_deepnote_index_column": "pretest_1957"
        },
        {
         "CO2_working_capacity [mL/g]": 6.524167625071309,
         "_deepnote_index_column": "pretest_1958"
        },
        {
         "CO2_working_capacity [mL/g]": -5.858320046861951,
         "_deepnote_index_column": "pretest_1959"
        },
        {
         "CO2_working_capacity [mL/g]": 1.4557875236356068,
         "_deepnote_index_column": "pretest_1960"
        },
        {
         "CO2_working_capacity [mL/g]": 8.392710525021489,
         "_deepnote_index_column": "pretest_1961"
        },
        {
         "CO2_working_capacity [mL/g]": 12.360895448263609,
         "_deepnote_index_column": "pretest_1962"
        },
        {
         "CO2_working_capacity [mL/g]": -13.263633024746662,
         "_deepnote_index_column": "pretest_1963"
        },
        {
         "CO2_working_capacity [mL/g]": 2.6681446534022144,
         "_deepnote_index_column": "pretest_1964"
        },
        {
         "CO2_working_capacity [mL/g]": -10.607803356548214,
         "_deepnote_index_column": "pretest_1965"
        },
        {
         "CO2_working_capacity [mL/g]": -5.429991104886247,
         "_deepnote_index_column": "pretest_1966"
        },
        {
         "CO2_working_capacity [mL/g]": 38.50219323390289,
         "_deepnote_index_column": "pretest_1967"
        },
        {
         "CO2_working_capacity [mL/g]": -5.660317698867834,
         "_deepnote_index_column": "pretest_1968"
        },
        {
         "CO2_working_capacity [mL/g]": -1.077794120553176,
         "_deepnote_index_column": "pretest_1969"
        },
        {
         "CO2_working_capacity [mL/g]": 1.2215860583087306,
         "_deepnote_index_column": "pretest_1970"
        },
        {
         "CO2_working_capacity [mL/g]": 21.10868489734131,
         "_deepnote_index_column": "pretest_1971"
        },
        {
         "CO2_working_capacity [mL/g]": 2.495914104823444,
         "_deepnote_index_column": "pretest_1972"
        },
        {
         "CO2_working_capacity [mL/g]": -1.0820400326409156,
         "_deepnote_index_column": "pretest_1973"
        },
        {
         "CO2_working_capacity [mL/g]": -4.391513043563307,
         "_deepnote_index_column": "pretest_1974"
        },
        {
         "CO2_working_capacity [mL/g]": -8.88408963366191,
         "_deepnote_index_column": "pretest_1975"
        },
        {
         "CO2_working_capacity [mL/g]": -4.773388398309737,
         "_deepnote_index_column": "pretest_1976"
        },
        {
         "CO2_working_capacity [mL/g]": -9.912235092712649,
         "_deepnote_index_column": "pretest_1977"
        },
        {
         "CO2_working_capacity [mL/g]": 30.2390769318661,
         "_deepnote_index_column": "pretest_1978"
        },
        {
         "CO2_working_capacity [mL/g]": -3.1113681913280997,
         "_deepnote_index_column": "pretest_1979"
        },
        {
         "CO2_working_capacity [mL/g]": -4.646388572237671,
         "_deepnote_index_column": "pretest_1980"
        },
        {
         "CO2_working_capacity [mL/g]": 13.75776262422925,
         "_deepnote_index_column": "pretest_1981"
        },
        {
         "CO2_working_capacity [mL/g]": -1.3270539644138069,
         "_deepnote_index_column": "pretest_1982"
        },
        {
         "CO2_working_capacity [mL/g]": -1.457363220850948,
         "_deepnote_index_column": "pretest_1983"
        },
        {
         "CO2_working_capacity [mL/g]": -8.140618659139207,
         "_deepnote_index_column": "pretest_1984"
        },
        {
         "CO2_working_capacity [mL/g]": -1.9568106208544094,
         "_deepnote_index_column": "pretest_1985"
        },
        {
         "CO2_working_capacity [mL/g]": -3.6956623163749045,
         "_deepnote_index_column": "pretest_1986"
        },
        {
         "CO2_working_capacity [mL/g]": -5.015950766862249,
         "_deepnote_index_column": "pretest_1987"
        },
        {
         "CO2_working_capacity [mL/g]": -4.483438428299553,
         "_deepnote_index_column": "pretest_1988"
        },
        {
         "CO2_working_capacity [mL/g]": 7.630461844203265,
         "_deepnote_index_column": "pretest_1989"
        },
        {
         "CO2_working_capacity [mL/g]": -0.10443049634387194,
         "_deepnote_index_column": "pretest_1990"
        },
        {
         "CO2_working_capacity [mL/g]": 6.222520362613108,
         "_deepnote_index_column": "pretest_1991"
        },
        {
         "CO2_working_capacity [mL/g]": -2.4318324525908395,
         "_deepnote_index_column": "pretest_1992"
        },
        {
         "CO2_working_capacity [mL/g]": 34.58292293559832,
         "_deepnote_index_column": "pretest_1993"
        },
        {
         "CO2_working_capacity [mL/g]": 3.5368349912859913,
         "_deepnote_index_column": "pretest_1994"
        },
        {
         "CO2_working_capacity [mL/g]": -4.839613844577414,
         "_deepnote_index_column": "pretest_1995"
        },
        {
         "CO2_working_capacity [mL/g]": -2.3301291873650682,
         "_deepnote_index_column": "pretest_1996"
        },
        {
         "CO2_working_capacity [mL/g]": 12.530628336346775,
         "_deepnote_index_column": "pretest_1997"
        },
        {
         "CO2_working_capacity [mL/g]": 4.419038595305375,
         "_deepnote_index_column": "pretest_1998"
        },
        {
         "CO2_working_capacity [mL/g]": -9.11372189804376,
         "_deepnote_index_column": "pretest_1999"
        },
        {
         "CO2_working_capacity [mL/g]": 19.18514266066146,
         "_deepnote_index_column": "pretest_2000"
        }
       ]
      },
      "text/plain": "              CO2_working_capacity [mL/g]\nid                                       \npretest_1                      100.845705\npretest_2                      125.307368\npretest_3                      182.574677\npretest_4                       66.474342\npretest_5                       92.855014\n...                                   ...\npretest_1996                    -2.330129\npretest_1997                    12.530628\npretest_1998                     4.419039\npretest_1999                    -9.113722\npretest_2000                    19.185143\n\n[2000 rows x 1 columns]",
      "text/html": "<div>\n<style scoped>\n    .dataframe tbody tr th:only-of-type {\n        vertical-align: middle;\n    }\n\n    .dataframe tbody tr th {\n        vertical-align: top;\n    }\n\n    .dataframe thead th {\n        text-align: right;\n    }\n</style>\n<table border=\"1\" class=\"dataframe\">\n  <thead>\n    <tr style=\"text-align: right;\">\n      <th></th>\n      <th>CO2_working_capacity [mL/g]</th>\n    </tr>\n    <tr>\n      <th>id</th>\n      <th></th>\n    </tr>\n  </thead>\n  <tbody>\n    <tr>\n      <th>pretest_1</th>\n      <td>100.845705</td>\n    </tr>\n    <tr>\n      <th>pretest_2</th>\n      <td>125.307368</td>\n    </tr>\n    <tr>\n      <th>pretest_3</th>\n      <td>182.574677</td>\n    </tr>\n    <tr>\n      <th>pretest_4</th>\n      <td>66.474342</td>\n    </tr>\n    <tr>\n      <th>pretest_5</th>\n      <td>92.855014</td>\n    </tr>\n    <tr>\n      <th>...</th>\n      <td>...</td>\n    </tr>\n    <tr>\n      <th>pretest_1996</th>\n      <td>-2.330129</td>\n    </tr>\n    <tr>\n      <th>pretest_1997</th>\n      <td>12.530628</td>\n    </tr>\n    <tr>\n      <th>pretest_1998</th>\n      <td>4.419039</td>\n    </tr>\n    <tr>\n      <th>pretest_1999</th>\n      <td>-9.113722</td>\n    </tr>\n    <tr>\n      <th>pretest_2000</th>\n      <td>19.185143</td>\n    </tr>\n  </tbody>\n</table>\n<p>2000 rows × 1 columns</p>\n</div>"
     },
     "metadata": {}
    }
   ],
   "execution_count": 25
  },
  {
   "cell_type": "code",
   "metadata": {
    "tags": [],
    "cell_id": "00026-bde8d7bc-1543-4208-b65f-2f7c1cdda8b8",
    "deepnote_to_be_reexecuted": false,
    "source_hash": "8330eb30",
    "execution_start": 1632204117145,
    "execution_millis": 205,
    "deepnote_cell_type": "code"
   },
   "source": "sub.to_csv(\"submission.csv\")",
   "outputs": [],
   "execution_count": 27
  },
  {
   "cell_type": "markdown",
   "source": "<a style='text-decoration:none;line-height:16px;display:flex;color:#5B5B62;padding:10px;justify-content:end;' href='https://deepnote.com?utm_source=created-in-deepnote-cell&projectId=cf8541de-dbc3-45f6-bc1e-4fa446cacbcd' target=\"_blank\">\n<img alt='Created in deepnote.com' style='display:inline;max-height:16px;margin:0px;margin-right:7.5px;' src='data:image/svg+xml;base64,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' > </img>\nCreated in <span style='font-weight:600;margin-left:4px;'>Deepnote</span></a>",
   "metadata": {
    "tags": [],
    "created_in_deepnote_cell": true,
    "deepnote_cell_type": "markdown"
   }
  }
 ],
 "nbformat": 4,
 "nbformat_minor": 2,
 "metadata": {
  "orig_nbformat": 2,
  "deepnote": {
   "is_reactive": false
  },
  "deepnote_notebook_id": "e5514e34-6975-4fe5-b324-2cd0ed87b5d9",
  "deepnote_execution_queue": []
 }
}